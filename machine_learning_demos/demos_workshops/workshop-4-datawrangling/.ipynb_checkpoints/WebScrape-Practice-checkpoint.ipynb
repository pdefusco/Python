{
 "cells": [
  {
   "cell_type": "markdown",
   "metadata": {},
   "source": [
    "# Web Scraping: Practice"
   ]
  },
  {
   "cell_type": "markdown",
   "metadata": {},
   "source": [
    "Helpful link: \n",
    "- https://medium.freecodecamp.org/how-to-scrape-websites-with-python-and-beautifulsoup-5946935d93fe"
   ]
  },
  {
   "cell_type": "code",
   "execution_count": 1,
   "metadata": {
    "collapsed": true
   },
   "outputs": [],
   "source": [
    "# Imports\n",
    "import requests\n",
    "from bs4 import BeautifulSoup"
   ]
  },
  {
   "cell_type": "markdown",
   "metadata": {},
   "source": [
    "## List of San Diego Communities"
   ]
  },
  {
   "cell_type": "code",
   "execution_count": 2,
   "metadata": {
    "collapsed": true
   },
   "outputs": [],
   "source": [
    "# San Diego Communities Webpage\n",
    "sd_communities = 'https://en.wikipedia.org/wiki/List_of_communities_and_neighborhoods_of_San_Diego'"
   ]
  },
  {
   "cell_type": "code",
   "execution_count": null,
   "metadata": {
    "collapsed": true
   },
   "outputs": [],
   "source": [
    "### Setup: First, scrape the web page above, and use BeautifulSoup to parse it"
   ]
  },
  {
   "cell_type": "code",
   "execution_count": 3,
   "metadata": {
    "collapsed": true
   },
   "outputs": [],
   "source": [
    "# YOUR CODE HERE\n",
    "page = requests.get(sd_communities)\n",
    "soup = BeautifulSoup(page.content, 'html.parser')"
   ]
  },
  {
   "cell_type": "code",
   "execution_count": 11,
   "metadata": {},
   "outputs": [
    {
     "name": "stdout",
     "output_type": "stream",
     "text": [
      "List of communities and neighborhoods of San Diego - Wikipedia\n"
     ]
    }
   ],
   "source": [
    "# What is the title of the webpage?\n",
    "\n",
    "# YOUR CODE HERE\n",
    "title = soup.title.string\n",
    "print(title)"
   ]
  },
  {
   "cell_type": "markdown",
   "metadata": {},
   "source": [
    "Goal: we would like a dictionary of all the communities listed in the wikipedia page, with their links. \n",
    "\n",
    "We want all the community names as keys, and the (relative) links as values. "
   ]
  },
  {
   "cell_type": "code",
   "execution_count": null,
   "metadata": {
    "collapsed": true
   },
   "outputs": [],
   "source": []
  },
  {
   "cell_type": "code",
   "execution_count": 15,
   "metadata": {},
   "outputs": [
    {
     "data": {
      "text/plain": [
       "b'<!DOCTYPE html>\\n<html class=\"client-nojs\" lang=\"en\" dir=\"ltr\">\\n<head>\\n<meta charset=\"UTF-8\"/>\\n<title>List of communities and neighborhoods of San Diego - Wikipedia</title>\\n<script>document.documentElement.className = document.documentElement.className.replace( /(^|\\\\s)client-nojs(\\\\s|$)/, \"$1client-js$2\" );</script>\\n<script>(window.RLQ=window.RLQ||[]).push(function(){mw.config.set({\"wgCanonicalNamespace\":\"\",\"wgCanonicalSpecialPageName\":false,\"wgNamespaceNumber\":0,\"wgPageName\":\"List_of_communities_and_neighborhoods_of_San_Diego\",\"wgTitle\":\"List of communities and neighborhoods of San Diego\",\"wgCurRevisionId\":852307991,\"wgRevisionId\":852307991,\"wgArticleId\":9146786,\"wgIsArticle\":true,\"wgIsRedirect\":false,\"wgAction\":\"view\",\"wgUserName\":null,\"wgUserGroups\":[\"*\"],\"wgCategories\":[\"Neighborhoods in San Diego\",\"Urban communities in San Diego\",\"Lists of neighborhoods in U.S. cities\",\"San Diego-related lists\",\"Geography of San Diego\"],\"wgBreakFrames\":false,\"wgPageContentLanguage\":\"en\",\"wgPageContentModel\":\"wikitext\",\"wgSeparatorTransformTable\":[\"\",\"\"],\"wgDigitTransformTable\":[\"\",\"\"],\"wgDefaultDateFormat\":\"dmy\",\"wgMonthNames\":[\"\",\"January\",\"February\",\"March\",\"April\",\"May\",\"June\",\"July\",\"August\",\"September\",\"October\",\"November\",\"December\"],\"wgMonthNamesShort\":[\"\",\"Jan\",\"Feb\",\"Mar\",\"Apr\",\"May\",\"Jun\",\"Jul\",\"Aug\",\"Sep\",\"Oct\",\"Nov\",\"Dec\"],\"wgRelevantPageName\":\"List_of_communities_and_neighborhoods_of_San_Diego\",\"wgRelevantArticleId\":9146786,\"wgRequestId\":\"W7I32ArAIEwAAAFbHCcAAAAQ\",\"wgCSPNonce\":false,\"wgIsProbablyEditable\":true,\"wgRelevantPageIsProbablyEditable\":true,\"wgRestrictionEdit\":[],\"wgRestrictionMove\":[],\"wgFlaggedRevsParams\":{\"tags\":{}},\"wgStableRevisionId\":null,\"wgCategoryTreePageCategoryOptions\":\"{\\\\\"mode\\\\\":0,\\\\\"hideprefix\\\\\":20,\\\\\"showcount\\\\\":true,\\\\\"namespaces\\\\\":false}\",\"wgWikiEditorEnabledModules\":[],\"wgBetaFeaturesFeatures\":[],\"wgMediaViewerOnClick\":true,\"wgMediaViewerEnabledByDefault\":true,\"wgPopupsShouldSendModuleToUser\":true,\"wgPopupsConflictsWithNavPopupGadget\":false,\"wgVisualEditor\":{\"pageLanguageCode\":\"en\",\"pageLanguageDir\":\"ltr\",\"pageVariantFallbacks\":\"en\",\"usePageImages\":true,\"usePageDescriptions\":true},\"wgMFExpandAllSectionsUserOption\":true,\"wgMFEnableFontChanger\":true,\"wgMFDisplayWikibaseDescriptions\":{\"search\":true,\"nearby\":true,\"watchlist\":true,\"tagline\":false},\"wgRelatedArticles\":null,\"wgRelatedArticlesUseCirrusSearch\":true,\"wgRelatedArticlesOnlyUseCirrusSearch\":false,\"wgULSCurrentAutonym\":\"English\",\"wgNoticeProject\":\"wikipedia\",\"wgCentralNoticeCookiesToDelete\":[],\"wgCentralNoticeCategoriesUsingLegacy\":[\"Fundraising\",\"fundraising\"],\"wgWikibaseItemId\":\"Q13644398\",\"wgScoreNoteLanguages\":{\"arabic\":\"\\xd8\\xa7\\xd9\\x84\\xd8\\xb9\\xd8\\xb1\\xd8\\xa8\\xd9\\x8a\\xd8\\xa9\",\"catalan\":\"catal\\xc3\\xa0\",\"deutsch\":\"Deutsch\",\"english\":\"English\",\"espanol\":\"espa\\xc3\\xb1ol\",\"italiano\":\"italiano\",\"nederlands\":\"Nederlands\",\"norsk\":\"norsk\",\"portugues\":\"portugu\\xc3\\xaas\",\"suomi\":\"suomi\",\"svenska\":\"svenska\",\"vlaams\":\"West-Vlams\"},\"wgScoreDefaultNoteLanguage\":\"nederlands\",\"wgCentralAuthMobileDomain\":false,\"wgCodeMirrorEnabled\":true,\"wgVisualEditorToolbarScrollOffset\":0,\"wgVisualEditorUnsupportedEditParams\":[\"undo\",\"undoafter\",\"veswitched\"],\"wgEditSubmitButtonLabelPublish\":true});mw.loader.state({\"ext.gadget.charinsert-styles\":\"ready\",\"ext.globalCssJs.user.styles\":\"ready\",\"ext.globalCssJs.site.styles\":\"ready\",\"site.styles\":\"ready\",\"noscript\":\"ready\",\"user.styles\":\"ready\",\"ext.globalCssJs.user\":\"ready\",\"ext.globalCssJs.site\":\"ready\",\"user\":\"ready\",\"user.options\":\"ready\",\"user.tokens\":\"loading\",\"mediawiki.legacy.shared\":\"ready\",\"mediawiki.legacy.commonPrint\":\"ready\",\"wikibase.client.init\":\"ready\",\"ext.visualEditor.desktopArticleTarget.noscript\":\"ready\",\"ext.uls.interlanguage\":\"ready\",\"ext.wikimediaBadges\":\"ready\",\"ext.3d.styles\":\"ready\",\"mediawiki.skinning.interface\":\"ready\",\"skins.vector.styles\":\"ready\"});mw.loader.implement(\"user.tokens@0tffind\",function($,jQuery,require,module){/*@nomin*/mw.user.tokens.set({\"editToken\":\"+\\\\\\\\\",\"patrolToken\":\"+\\\\\\\\\",\"watchToken\":\"+\\\\\\\\\",\"csrfToken\":\"+\\\\\\\\\"});\\n});RLPAGEMODULES=[\"site\",\"mediawiki.page.startup\",\"mediawiki.user\",\"mediawiki.page.ready\",\"mediawiki.searchSuggest\",\"ext.gadget.teahouse\",\"ext.gadget.ReferenceTooltips\",\"ext.gadget.watchlist-notice\",\"ext.gadget.DRN-wizard\",\"ext.gadget.charinsert\",\"ext.gadget.refToolbar\",\"ext.gadget.extra-toolbar-buttons\",\"ext.gadget.switcher\",\"ext.centralauth.centralautologin\",\"mmv.head\",\"mmv.bootstrap.autostart\",\"ext.popups\",\"ext.visualEditor.desktopArticleTarget.init\",\"ext.visualEditor.targetLoader\",\"ext.eventLogging.subscriber\",\"ext.wikimediaEvents\",\"ext.navigationTiming\",\"ext.uls.eventlogger\",\"ext.uls.init\",\"ext.uls.compactlinks\",\"ext.uls.interface\",\"ext.3d\",\"ext.centralNotice.geoIP\",\"ext.centralNotice.startUp\",\"skins.vector.js\"];mw.loader.load(RLPAGEMODULES);});</script>\\n<link rel=\"stylesheet\" href=\"/w/load.php?debug=false&amp;lang=en&amp;modules=ext.3d.styles%7Cext.uls.interlanguage%7Cext.visualEditor.desktopArticleTarget.noscript%7Cext.wikimediaBadges%7Cmediawiki.legacy.commonPrint%2Cshared%7Cmediawiki.skinning.interface%7Cskins.vector.styles%7Cwikibase.client.init&amp;only=styles&amp;skin=vector\"/>\\n<script async=\"\" src=\"/w/load.php?debug=false&amp;lang=en&amp;modules=startup&amp;only=scripts&amp;skin=vector\"></script>\\n<meta name=\"ResourceLoaderDynamicStyles\" content=\"\"/>\\n<link rel=\"stylesheet\" href=\"/w/load.php?debug=false&amp;lang=en&amp;modules=ext.gadget.charinsert-styles&amp;only=styles&amp;skin=vector\"/>\\n<link rel=\"stylesheet\" href=\"/w/load.php?debug=false&amp;lang=en&amp;modules=site.styles&amp;only=styles&amp;skin=vector\"/>\\n<meta name=\"generator\" content=\"MediaWiki 1.32.0-wmf.23\"/>\\n<meta name=\"referrer\" content=\"origin\"/>\\n<meta name=\"referrer\" content=\"origin-when-crossorigin\"/>\\n<meta name=\"referrer\" content=\"origin-when-cross-origin\"/>\\n<meta property=\"og:image\" content=\"https://upload.wikimedia.org/wikipedia/commons/7/7c/San_Diego_Community_Map.gif\"/>\\n<link rel=\"alternate\" href=\"android-app://org.wikipedia/http/en.m.wikipedia.org/wiki/List_of_communities_and_neighborhoods_of_San_Diego\"/>\\n<link rel=\"alternate\" type=\"application/x-wiki\" title=\"Edit this page\" href=\"/w/index.php?title=List_of_communities_and_neighborhoods_of_San_Diego&amp;action=edit\"/>\\n<link rel=\"edit\" title=\"Edit this page\" href=\"/w/index.php?title=List_of_communities_and_neighborhoods_of_San_Diego&amp;action=edit\"/>\\n<link rel=\"apple-touch-icon\" href=\"/static/apple-touch/wikipedia.png\"/>\\n<link rel=\"shortcut icon\" href=\"/static/favicon/wikipedia.ico\"/>\\n<link rel=\"search\" type=\"application/opensearchdescription+xml\" href=\"/w/opensearch_desc.php\" title=\"Wikipedia (en)\"/>\\n<link rel=\"EditURI\" type=\"application/rsd+xml\" href=\"//en.wikipedia.org/w/api.php?action=rsd\"/>\\n<link rel=\"license\" href=\"//creativecommons.org/licenses/by-sa/3.0/\"/>\\n<link rel=\"canonical\" href=\"https://en.wikipedia.org/wiki/List_of_communities_and_neighborhoods_of_San_Diego\"/>\\n<link rel=\"dns-prefetch\" href=\"//login.wikimedia.org\"/>\\n<link rel=\"dns-prefetch\" href=\"//meta.wikimedia.org\" />\\n<!--[if lt IE 9]><script src=\"/w/load.php?debug=false&amp;lang=en&amp;modules=html5shiv&amp;only=scripts&amp;skin=vector&amp;sync=1\"></script><![endif]-->\\n</head>\\n<body class=\"mediawiki ltr sitedir-ltr mw-hide-empty-elt ns-0 ns-subject page-List_of_communities_and_neighborhoods_of_San_Diego rootpage-List_of_communities_and_neighborhoods_of_San_Diego skin-vector action-view\">\\t\\t<div id=\"mw-page-base\" class=\"noprint\"></div>\\n\\t\\t<div id=\"mw-head-base\" class=\"noprint\"></div>\\n\\t\\t<div id=\"content\" class=\"mw-body\" role=\"main\">\\n\\t\\t\\t<a id=\"top\"></a>\\n\\t\\t\\t<div id=\"siteNotice\" class=\"mw-body-content\"><!-- CentralNotice --></div><div class=\"mw-indicators mw-body-content\">\\n</div>\\n<h1 id=\"firstHeading\" class=\"firstHeading\" lang=\"en\">List of communities and neighborhoods of San Diego</h1>\\t\\t\\t<div id=\"bodyContent\" class=\"mw-body-content\">\\n\\t\\t\\t\\t<div id=\"siteSub\" class=\"noprint\">From Wikipedia, the free encyclopedia</div>\\t\\t\\t\\t<div id=\"contentSub\"></div>\\n\\t\\t\\t\\t<div id=\"jump-to-nav\"></div>\\t\\t\\t\\t<a class=\"mw-jump-link\" href=\"#mw-head\">Jump to navigation</a>\\n\\t\\t\\t\\t<a class=\"mw-jump-link\" href=\"#p-search\">Jump to search</a>\\n\\t\\t\\t\\t<div id=\"mw-content-text\" lang=\"en\" dir=\"ltr\" class=\"mw-content-ltr\"><div class=\"mw-parser-output\"><p>The following is a list of <a href=\"/wiki/Neighborhood\" class=\"mw-redirect\" title=\"Neighborhood\">neighborhoods</a> and communities located in the city of <a href=\"/wiki/San_Diego\" title=\"San Diego\">San Diego</a>. This list was compiled from the source listed in the <i>References</i> section.\\n</p>\\n<div>\\n\\n&#32;\\n<table class=\"multicol\" role=\"presentation\" style=\"border-collapse: collapse; padding: 0; border: 0; background:transparent; width:100%;\"><tbody><tr>\\n<td style=\"text-align: left; vertical-align: top;\">\\n<ul><li><a href=\"/wiki/Balboa_Park,_San_Diego\" class=\"mw-redirect\" title=\"Balboa Park, San Diego\">Balboa Park</a></li>\\n<li><a href=\"/wiki/Bankers_Hill,_San_Diego\" title=\"Bankers Hill, San Diego\">Bankers Hill</a></li>\\n<li><a href=\"/wiki/Barrio_Logan,_San_Diego\" title=\"Barrio Logan, San Diego\">Barrio Logan</a></li>\\n<li><a href=\"/wiki/Bay_Ho,_San_Diego\" class=\"mw-redirect\" title=\"Bay Ho, San Diego\">Bay Ho</a></li>\\n<li><a href=\"/wiki/Bay_Park,_San_Diego\" class=\"mw-redirect\" title=\"Bay Park, San Diego\">Bay Park</a></li>\\n<li><a href=\"/wiki/Birdland,_San_Diego\" title=\"Birdland, San Diego\">Birdland</a></li>\\n<li><a href=\"/wiki/Black_Mountain_Ranch,_San_Diego\" title=\"Black Mountain Ranch, San Diego\">Black Mountain Ranch</a></li>\\n<li><a href=\"/wiki/Border,_San_Diego\" class=\"mw-redirect\" title=\"Border, San Diego\">Border</a></li>\\n<li><a href=\"/wiki/Burlingame,_San_Diego\" title=\"Burlingame, San Diego\">Burlingame</a></li>\\n<li><a href=\"/wiki/Carmel_Mountain_Ranch,_San_Diego\" title=\"Carmel Mountain Ranch, San Diego\">Carmel Mountain Ranch</a></li>\\n<li><a href=\"/wiki/Carmel_Valley,_San_Diego\" title=\"Carmel Valley, San Diego\">Carmel Valley</a></li>\\n<li><a href=\"/wiki/City_Heights,_San_Diego\" title=\"City Heights, San Diego\">City Heights</a></li>\\n<li><a href=\"/wiki/Clairemont,_San_Diego\" title=\"Clairemont, San Diego\">Clairemont</a></li>\\n<li><a href=\"/wiki/College_Area,_San_Diego\" title=\"College Area, San Diego\">College Area</a></li>\\n<li><a href=\"/wiki/Del_Mar_Heights,_San_Diego\" title=\"Del Mar Heights, San Diego\">Del Mar Heights</a></li>\\n<li><a href=\"/wiki/Del_Mar_Mesa,_San_Diego\" title=\"Del Mar Mesa, San Diego\">Del Mar Mesa</a></li>\\n<li><a href=\"/wiki/Downtown_San_Diego\" title=\"Downtown San Diego\">Downtown San Diego (Centre City)</a>\\n<ul><li><a href=\"/wiki/Columbia,_San_Diego\" title=\"Columbia, San Diego\">Columbia</a></li>\\n<li><a href=\"/wiki/Core,_San_Diego\" title=\"Core, San Diego\">Core</a></li>\\n<li><a href=\"/wiki/Cortez_Hill,_San_Diego\" title=\"Cortez Hill, San Diego\">Cortez Hill</a></li>\\n<li><a href=\"/wiki/East_Village,_San_Diego\" title=\"East Village, San Diego\">East Village</a></li>\\n<li><a href=\"/wiki/Gaslamp_Quarter,_San_Diego\" title=\"Gaslamp Quarter, San Diego\">Gaslamp Quarter</a></li>\\n<li><a href=\"/w/index.php?title=Horton_Plaza,_San_Diego&amp;action=edit&amp;redlink=1\" class=\"new\" title=\"Horton Plaza, San Diego (page does not exist)\">Horton Plaza</a></li>\\n<li><a href=\"/wiki/Little_Italy,_San_Diego\" title=\"Little Italy, San Diego\">Little Italy</a></li>\\n<li><a href=\"/wiki/Marina,_San_Diego\" title=\"Marina, San Diego\">Marina</a></li></ul></li>\\n<li><a href=\"/wiki/East_Elliott,_San_Diego\" title=\"East Elliott, San Diego\">East Elliott</a></li>\\n<li><a href=\"/wiki/Egger_Highlands,_San_Diego\" title=\"Egger Highlands, San Diego\">Egger Highlands</a></li>\\n<li><a href=\"/wiki/El_Cerrito,_San_Diego\" title=\"El Cerrito, San Diego\">El Cerrito</a></li>\\n<li><a href=\"/wiki/Gateway,_San_Diego\" title=\"Gateway, San Diego\">Gateway</a></li>\\n<li><a href=\"/wiki/Golden_Hill,_San_Diego\" title=\"Golden Hill, San Diego\">Golden Hill</a></li>\\n<li><a href=\"/wiki/Grant_Hill,_San_Diego\" title=\"Grant Hill, San Diego\">Grant Hill</a></li></ul>\\n<p>&#32;\\n</p>\\n</td>\\n<td style=\"text-align: left; vertical-align: top;\">\\n<ul><li><a href=\"/wiki/Harbor_Island,_San_Diego\" title=\"Harbor Island, San Diego\">Harbor Island</a></li>\\n<li><a href=\"/wiki/Harborview,_San_Diego\" title=\"Harborview, San Diego\">Harborview</a></li>\\n<li><a href=\"/wiki/Hillcrest,_San_Diego\" title=\"Hillcrest, San Diego\">Hillcrest</a></li>\\n<li><a href=\"/wiki/Kearny_Mesa,_San_Diego\" title=\"Kearny Mesa, San Diego\">Kearny Mesa</a></li>\\n<li><a href=\"/wiki/Kensington,_San_Diego\" title=\"Kensington, San Diego\">Kensington</a></li>\\n<li><a href=\"/wiki/La_Jolla\" title=\"La Jolla\">La Jolla</a>\\n<ul><li><a href=\"/wiki/La_Jolla_Village,_San_Diego\" title=\"La Jolla Village, San Diego\">La Jolla Village</a></li>\\n<li><a href=\"/wiki/Torrey_Pines,_San_Diego\" title=\"Torrey Pines, San Diego\">Torrey Pines</a></li>\\n<li><a href=\"/wiki/Village_of_La_Jolla\" title=\"Village of La Jolla\">Village of La Jolla</a></li></ul></li>\\n<li><a href=\"/w/index.php?title=Lake_Murray,_San_Diego&amp;action=edit&amp;redlink=1\" class=\"new\" title=\"Lake Murray, San Diego (page does not exist)\">Lake Murray</a></li>\\n<li><a href=\"/wiki/Linda_Vista,_San_Diego\" title=\"Linda Vista, San Diego\">Linda Vista</a></li>\\n<li><a href=\"/wiki/Logan_Heights,_San_Diego\" title=\"Logan Heights, San Diego\">Logan Heights</a></li>\\n<li><a href=\"/wiki/Marston_Hills\" class=\"mw-redirect\" title=\"Marston Hills\">Marston Hills</a></li>\\n<li><a href=\"/wiki/Memorial,_San_Diego\" title=\"Memorial, San Diego\">Memorial</a></li>\\n<li><a href=\"/wiki/Midtown,_San_Diego\" title=\"Midtown, San Diego\">Midtown</a></li>\\n<li><a href=\"/wiki/Mira_Mesa,_San_Diego\" title=\"Mira Mesa, San Diego\">Mira Mesa</a></li>\\n<li><a href=\"/wiki/Miramar,_San_Diego\" title=\"Miramar, San Diego\">Miramar</a></li>\\n<li><a href=\"/wiki/Mission_Beach,_San_Diego\" title=\"Mission Beach, San Diego\">Mission Beach</a></li>\\n<li><a href=\"/wiki/Mission_Hills,_San_Diego\" title=\"Mission Hills, San Diego\">Mission Hills</a></li>\\n<li><a href=\"/wiki/Mission_Valley,_San_Diego\" title=\"Mission Valley, San Diego\">Mission Valley</a>\\n<ul><li><a href=\"/wiki/Civita_(San_Diego,_California)\" class=\"mw-redirect\" title=\"Civita (San Diego, California)\">Civita</a></li></ul></li>\\n<li><a href=\"/wiki/Morena,_San_Diego\" title=\"Morena, San Diego\">Morena</a></li>\\n<li><a href=\"/wiki/Navajo,_San_Diego\" title=\"Navajo, San Diego\">Navajo</a>\\n<ul><li><a href=\"/wiki/Allied_Gardens,_San_Diego\" title=\"Allied Gardens, San Diego\">Allied Gardens</a></li>\\n<li><a href=\"/wiki/Del_Cerro,_San_Diego\" title=\"Del Cerro, San Diego\">Del Cerro</a></li>\\n<li><a href=\"/wiki/Grantville,_San_Diego\" title=\"Grantville, San Diego\">Grantville</a></li>\\n<li><a href=\"/wiki/San_Carlos,_San_Diego\" title=\"San Carlos, San Diego\">San Carlos</a></li></ul></li>\\n<li><a href=\"/wiki/Nestor,_San_Diego\" title=\"Nestor, San Diego\">Nestor</a></li>\\n<li><a href=\"/wiki/Normal_Heights,_San_Diego\" title=\"Normal Heights, San Diego\">Normal Heights</a></li>\\n<li><a href=\"/wiki/North_City,_San_Diego\" title=\"North City, San Diego\">North City</a></li></ul>\\n<p>&#32;\\n</p>\\n</td>\\n<td style=\"text-align: left; vertical-align: top;\">\\n<ul><li><a href=\"/wiki/North_Park,_San_Diego\" title=\"North Park, San Diego\">North Park</a></li>\\n<li><a href=\"/wiki/North_Clairemont,_San_Diego\" class=\"mw-redirect\" title=\"North Clairemont, San Diego\">North Clairemont</a></li>\\n<li><a href=\"/wiki/Oak_Park,_San_Diego\" title=\"Oak Park, San Diego\">Oak Park</a></li>\\n<li><a href=\"/wiki/Ocean_Beach,_San_Diego\" title=\"Ocean Beach, San Diego\">Ocean Beach</a></li>\\n<li><a href=\"/wiki/Ocean_Crest,_San_Diego\" class=\"mw-redirect\" title=\"Ocean Crest, San Diego\">Ocean Crest</a></li>\\n<li><a href=\"/wiki/Ocean_View_Hills,_San_Diego\" title=\"Ocean View Hills, San Diego\">Ocean View Hills</a></li>\\n<li><a href=\"/wiki/Old_Town,_San_Diego\" title=\"Old Town, San Diego\">Old Town</a></li>\\n<li><a href=\"/wiki/Otay_Mesa,_San_Diego\" title=\"Otay Mesa, San Diego\">Otay Mesa</a></li>\\n<li><a href=\"/wiki/Otay_Mesa_West,_San_Diego\" title=\"Otay Mesa West, San Diego\">Otay Mesa West</a></li>\\n<li><a href=\"/wiki/Pacific_Beach,_San_Diego\" title=\"Pacific Beach, San Diego\">Pacific Beach</a></li>\\n<li><a href=\"/wiki/Pacific_Highlands_Ranch,_San_Diego\" title=\"Pacific Highlands Ranch, San Diego\">Pacific Highlands Ranch</a></li>\\n<li><a href=\"/wiki/Palm_City,_San_Diego\" title=\"Palm City, San Diego\">Palm City</a></li>\\n<li><a href=\"/wiki/Point_Loma\" class=\"mw-redirect\" title=\"Point Loma\">Point Loma</a>\\n<ul><li><a href=\"/wiki/La_Playa,_San_Diego\" title=\"La Playa, San Diego\">La Playa</a></li>\\n<li><a href=\"/wiki/Loma_Portal,_San_Diego\" title=\"Loma Portal, San Diego\">Loma Portal</a></li>\\n<li><a href=\"/wiki/Midway,_San_Diego\" title=\"Midway, San Diego\">Midway</a></li>\\n<li><a href=\"/wiki/Point_Loma_Heights,_San_Diego\" title=\"Point Loma Heights, San Diego\">Point Loma Heights</a></li>\\n<li><a href=\"/wiki/Roseville-Fleetridge,_San_Diego\" title=\"Roseville-Fleetridge, San Diego\">Roseville-Fleetridge</a></li>\\n<li><a href=\"/wiki/Sunset_Cliffs,_San_Diego\" title=\"Sunset Cliffs, San Diego\">Sunset Cliffs</a></li>\\n<li><a href=\"/wiki/Wooded_Area,_San_Diego\" title=\"Wooded Area, San Diego\">Wooded Area</a></li></ul></li>\\n<li><a href=\"/wiki/Rancho_Bernardo,_San_Diego\" title=\"Rancho Bernardo, San Diego\">Rancho Bernardo</a></li>\\n<li><a href=\"/wiki/Rancho_Encantada,_San_Diego\" title=\"Rancho Encantada, San Diego\">Rancho Encantada</a></li>\\n<li><a href=\"/wiki/Rancho_Pe%C3%B1asquitos,_San_Diego\" title=\"Rancho Pe\\xc3\\xb1asquitos, San Diego\">Rancho Pe\\xc3\\xb1asquitos</a></li>\\n<li><a href=\"/wiki/Redwood_Village,_San_Diego\" title=\"Redwood Village, San Diego\">Redwood Village</a></li>\\n<li><a href=\"/wiki/Rolando,_San_Diego\" title=\"Rolando, San Diego\">Rolando</a></li>\\n<li><a href=\"/wiki/Rolando_Park,_San_Diego\" title=\"Rolando Park, San Diego\">Rolando Park</a></li>\\n<li><a href=\"/wiki/Sabre_Springs,_San_Diego\" title=\"Sabre Springs, San Diego\">Sabre Springs</a></li>\\n<li><a href=\"/wiki/San_Pasqual_Valley,_San_Diego\" title=\"San Pasqual Valley, San Diego\">San Pasqual Valley</a></li></ul>\\n<p>&#32;\\n</p>\\n</td>\\n<td style=\"text-align: left; vertical-align: top;\">\\n<ul><li><a href=\"/wiki/San_Ysidro,_San_Diego\" title=\"San Ysidro, San Diego\">San Ysidro</a></li>\\n<li><a href=\"/wiki/Scripps_Ranch,_San_Diego\" title=\"Scripps Ranch, San Diego\">Scripps Ranch</a>\\n<ul><li><a href=\"/w/index.php?title=Miramar_Ranch_North,_San_Diego&amp;action=edit&amp;redlink=1\" class=\"new\" title=\"Miramar Ranch North, San Diego (page does not exist)\">Miramar Ranch North</a></li>\\n<li><a href=\"/w/index.php?title=Scripps_Miramar_Ranch,_San_Diego&amp;action=edit&amp;redlink=1\" class=\"new\" title=\"Scripps Miramar Ranch, San Diego (page does not exist)\">Scripps Miramar Ranch</a></li></ul></li>\\n<li><a href=\"/wiki/Serra_Mesa,_San_Diego\" title=\"Serra Mesa, San Diego\">Serra Mesa</a></li>\\n<li><a href=\"/wiki/Shelter_Island,_San_Diego\" title=\"Shelter Island, San Diego\">Shelter Island</a></li>\\n<li><a href=\"/wiki/Sherman_Heights,_San_Diego\" title=\"Sherman Heights, San Diego\">Sherman Heights</a></li>\\n<li><a href=\"/wiki/Sorrento_Mesa,_San_Diego\" title=\"Sorrento Mesa, San Diego\">Sorrento Mesa</a></li>\\n<li><a href=\"/wiki/Sorrento_Valley,_San_Diego\" title=\"Sorrento Valley, San Diego\">Sorrento Valley</a></li>\\n<li><a href=\"/wiki/South_Park,_San_Diego\" title=\"South Park, San Diego\">South Park</a></li>\\n<li><a href=\"/wiki/Southeast_San_Diego\" title=\"Southeast San Diego\">Southeast San Diego</a>\\n<ul><li><a href=\"/wiki/Alta_Vista,_San_Diego\" title=\"Alta Vista, San Diego\">Alta Vista</a></li>\\n<li><a href=\"/wiki/Bay_Terraces,_San_Diego\" title=\"Bay Terraces, San Diego\">Bay Terraces</a></li>\\n<li><a href=\"/wiki/Broadway_Heights,_San_Diego\" title=\"Broadway Heights, San Diego\">Broadway Heights</a></li>\\n<li><a href=\"/wiki/Chollas_View,_San_Diego\" title=\"Chollas View, San Diego\">Chollas View</a></li>\\n<li><a href=\"/wiki/Emerald_Hills,_San_Diego\" title=\"Emerald Hills, San Diego\">Emerald Hills</a></li>\\n<li><a href=\"/wiki/Encanto,_San_Diego\" title=\"Encanto, San Diego\">Encanto</a></li>\\n<li><a href=\"/wiki/Jamacha,_San_Diego\" title=\"Jamacha, San Diego\">Jamacha</a></li>\\n<li><a href=\"/wiki/Lincoln_Park,_San_Diego\" title=\"Lincoln Park, San Diego\">Lincoln Park</a></li>\\n<li><a href=\"/wiki/Lomita,_San_Diego\" title=\"Lomita, San Diego\">Lomita</a></li>\\n<li><a href=\"/wiki/Mountain_View,_San_Diego\" title=\"Mountain View, San Diego\">Mountain View</a></li>\\n<li><a href=\"/wiki/Mt._Hope,_San_Diego\" class=\"mw-redirect\" title=\"Mt. Hope, San Diego\">Mt. Hope</a></li>\\n<li><a href=\"/wiki/Paradise_Hills,_San_Diego\" title=\"Paradise Hills, San Diego\">Paradise Hills</a></li>\\n<li><a href=\"/wiki/Shelltown,_San_Diego\" title=\"Shelltown, San Diego\">Shelltown</a></li>\\n<li><a href=\"/wiki/Skyline,_San_Diego\" title=\"Skyline, San Diego\">Skyline</a></li>\\n<li><a href=\"/wiki/Southcrest,_San_Diego\" title=\"Southcrest, San Diego\">Southcrest</a></li>\\n<li><a href=\"/wiki/Valencia_Park,_San_Diego\" title=\"Valencia Park, San Diego\">Valencia Park</a></li></ul></li></ul>\\n<p>&#32;\\n</p>\\n</td>\\n<td style=\"text-align: left; vertical-align: top;\">\\n<div class=\"thumb tright\"><div class=\"thumbinner\" style=\"width:222px;\"><a href=\"/wiki/File:San_Diego_Community_Map.gif\" class=\"image\"><img alt=\"\" src=\"//upload.wikimedia.org/wikipedia/commons/thumb/7/7c/San_Diego_Community_Map.gif/220px-San_Diego_Community_Map.gif\" width=\"220\" height=\"418\" class=\"thumbimage\" srcset=\"//upload.wikimedia.org/wikipedia/commons/thumb/7/7c/San_Diego_Community_Map.gif/330px-San_Diego_Community_Map.gif 1.5x, //upload.wikimedia.org/wikipedia/commons/thumb/7/7c/San_Diego_Community_Map.gif/440px-San_Diego_Community_Map.gif 2x\" data-file-width=\"500\" data-file-height=\"950\" /></a>  <div class=\"thumbcaption\"><div class=\"magnify\"><a href=\"/wiki/File:San_Diego_Community_Map.gif\" class=\"internal\" title=\"Enlarge\"></a></div>Map of San Diego neighborhoods</div></div></div> \\n<ul><li><a href=\"/wiki/Stockton,_San_Diego\" title=\"Stockton, San Diego\">Stockton</a></li>\\n<li><a href=\"/wiki/Talmadge,_San_Diego\" title=\"Talmadge, San Diego\">Talmadge</a></li>\\n<li><a href=\"/wiki/Tierrasanta,_San_Diego\" title=\"Tierrasanta, San Diego\">Tierrasanta</a></li>\\n<li><a href=\"/wiki/Tijuana_River_Valley,_San_Diego\" title=\"Tijuana River Valley, San Diego\">Tijuana River Valley</a></li>\\n<li><a href=\"/wiki/Torrey_Highlands,_San_Diego\" title=\"Torrey Highlands, San Diego\">Torrey Highlands</a></li>\\n<li><a href=\"/wiki/Torrey_Hills,_San_Diego\" title=\"Torrey Hills, San Diego\">Torrey Hills</a></li>\\n<li><a href=\"/wiki/University_City,_San_Diego\" title=\"University City, San Diego\">University City</a></li>\\n<li><a href=\"/wiki/University_Heights,_San_Diego\" title=\"University Heights, San Diego\">University Heights</a></li>\\n<li><a href=\"/w/index.php?title=Uptown,_San_Diego&amp;action=edit&amp;redlink=1\" class=\"new\" title=\"Uptown, San Diego (page does not exist)\">Uptown</a></li>\\n<li><a href=\"/wiki/Webster,_San_Diego\" title=\"Webster, San Diego\">Webster</a></li></ul>\\n<p>&#32;\\n</p>\\n</td></tr></tbody></table></div>\\n<h2><span class=\"mw-headline\" id=\"See_also\">See also</span><span class=\"mw-editsection\"><span class=\"mw-editsection-bracket\">[</span><a href=\"/w/index.php?title=List_of_communities_and_neighborhoods_of_San_Diego&amp;action=edit&amp;section=1\" title=\"Edit section: See also\">edit</a><span class=\"mw-editsection-bracket\">]</span></span></h2>\\n<div role=\"navigation\" aria-label=\"Portals\" class=\"noprint portal plainlist tright\" style=\"margin:0.5em 0 0.5em 1em;border:solid #aaa 1px\">\\n<ul style=\"display:table;box-sizing:border-box;padding:0.1em;max-width:175px;background:#f9f9f9;font-size:85%;line-height:110%;font-style:italic;font-weight:bold\">\\n<li style=\"display:table-row\"><span style=\"display:table-cell;padding:0.2em;vertical-align:middle;text-align:center\"><img alt=\"photo\" src=\"//upload.wikimedia.org/wikipedia/commons/thumb/5/53/San_Diego%2CCalifornia%2CUSA._-_panoramio_%28139%29.jpg/32px-San_Diego%2CCalifornia%2CUSA._-_panoramio_%28139%29.jpg\" width=\"32\" height=\"26\" class=\"noviewer\" srcset=\"//upload.wikimedia.org/wikipedia/commons/thumb/5/53/San_Diego%2CCalifornia%2CUSA._-_panoramio_%28139%29.jpg/48px-San_Diego%2CCalifornia%2CUSA._-_panoramio_%28139%29.jpg 1.5x, //upload.wikimedia.org/wikipedia/commons/thumb/5/53/San_Diego%2CCalifornia%2CUSA._-_panoramio_%28139%29.jpg/64px-San_Diego%2CCalifornia%2CUSA._-_panoramio_%28139%29.jpg 2x\" data-file-width=\"4928\" data-file-height=\"3997\" /></span><span style=\"display:table-cell;padding:0.2em 0.2em 0.2em 0.3em;vertical-align:middle\"><a href=\"/wiki/Portal:San_Diego\" class=\"mw-redirect\" title=\"Portal:San Diego\">San Diego portal</a></span></li>\\n<li style=\"display:table-row\"><span style=\"display:table-cell;padding:0.2em;vertical-align:middle;text-align:center\"><img alt=\"\" src=\"//upload.wikimedia.org/wikipedia/commons/thumb/2/20/Text-x-generic.svg/28px-Text-x-generic.svg.png\" width=\"28\" height=\"28\" class=\"noviewer\" srcset=\"//upload.wikimedia.org/wikipedia/commons/thumb/2/20/Text-x-generic.svg/42px-Text-x-generic.svg.png 1.5x, //upload.wikimedia.org/wikipedia/commons/thumb/2/20/Text-x-generic.svg/56px-Text-x-generic.svg.png 2x\" data-file-width=\"48\" data-file-height=\"48\" /></span><span style=\"display:table-cell;padding:0.2em 0.2em 0.2em 0.3em;vertical-align:middle\"><a href=\"/wiki/Portal:Lists\" class=\"mw-redirect\" title=\"Portal:Lists\">Lists portal</a></span></li></ul></div>\\n<ul><li><a href=\"/wiki/Category:San_Diego\" title=\"Category:San Diego\">City of San Diego</a></li>\\n<li><a href=\"/wiki/Category:Neighborhoods_in_San_Diego_County,_California\" title=\"Category:Neighborhoods in San Diego County, California\">Neighborhoods in San Diego County, California</a></li>\\n<li><a href=\"/wiki/Category:Urban_communities_in_San_Diego\" title=\"Category:Urban communities in San Diego\">Urban communities in the City of San Diego</a></li></ul>\\n<h2><span class=\"mw-headline\" id=\"References\">References</span><span class=\"mw-editsection\"><span class=\"mw-editsection-bracket\">[</span><a href=\"/w/index.php?title=List_of_communities_and_neighborhoods_of_San_Diego&amp;action=edit&amp;section=2\" title=\"Edit section: References\">edit</a><span class=\"mw-editsection-bracket\">]</span></span></h2>\\n<ul><li><a rel=\"nofollow\" class=\"external text\" href=\"http://www.sandiego.gov/planning/community/profiles/index.shtml\">City of San Diego Planning Department: Communities in San Diego</a></li></ul>\\n<h2><span class=\"mw-headline\" id=\"External_links\">External links</span><span class=\"mw-editsection\"><span class=\"mw-editsection-bracket\">[</span><a href=\"/w/index.php?title=List_of_communities_and_neighborhoods_of_San_Diego&amp;action=edit&amp;section=3\" title=\"Edit section: External links\">edit</a><span class=\"mw-editsection-bracket\">]</span></span></h2>\\n<table role=\"presentation\" class=\"mbox-small plainlinks sistersitebox\" style=\"background-color:#f9f9f9;border:1px solid #aaa;color:#000\">\\n<tbody><tr>\\n<td class=\"mbox-image\"><img alt=\"\" src=\"//upload.wikimedia.org/wikipedia/en/thumb/4/4a/Commons-logo.svg/30px-Commons-logo.svg.png\" width=\"30\" height=\"40\" class=\"noviewer\" srcset=\"//upload.wikimedia.org/wikipedia/en/thumb/4/4a/Commons-logo.svg/45px-Commons-logo.svg.png 1.5x, //upload.wikimedia.org/wikipedia/en/thumb/4/4a/Commons-logo.svg/59px-Commons-logo.svg.png 2x\" data-file-width=\"1024\" data-file-height=\"1376\" /></td>\\n<td class=\"mbox-text plainlist\">Wikimedia Commons has media related to <i><b><a href=\"https://commons.wikimedia.org/wiki/Category:Neighborhoods_in_San_Diego,_California\" class=\"extiw\" title=\"commons:Category:Neighborhoods in San Diego, California\">Neighborhoods in San Diego, California</a></b></i>.</td></tr></tbody></table>\\n<ul><li><a rel=\"nofollow\" class=\"external text\" href=\"http://www.sandiego.gov/planning/community/profiles/index.shtml\">Sandiego.gov: San Diego City Planning Department&#160;&#8211;&#32;Profiles of San Diego Communities</a></li>\\n<li><a rel=\"nofollow\" class=\"external text\" href=\"https://web.archive.org/web/20080509171047/http://www.sandiego.gov/neighborhoodmaps/\">Sandiego.gov: City of San Diego Neighborhood Map</a></li>\\n<li><a rel=\"nofollow\" class=\"external text\" href=\"http://www.sandiego.org/neighborhoods\">SanDiego.org: San Diego Neighborhood Guide</a></li></ul>\\n<div role=\"navigation\" class=\"navbox\" aria-labelledby=\"Neighborhoods_of_San_Diego\" style=\"padding:3px\"><table class=\"nowraplinks hlist collapsible uncollapsed navbox-inner\" style=\"border-spacing:0;background:transparent;color:inherit\"><tbody><tr><th scope=\"col\" class=\"navbox-title\" colspan=\"2\" style=\"background: #FCC200;\"><div class=\"plainlinks hlist navbar mini\"><ul><li class=\"nv-view\"><a href=\"/wiki/Template:Neighborhoods_of_San_Diego\" title=\"Template:Neighborhoods of San Diego\"><abbr title=\"View this template\" style=\"background: #FCC200;;;background:none transparent;border:none;-moz-box-shadow:none;-webkit-box-shadow:none;box-shadow:none; padding:0;\">v</abbr></a></li><li class=\"nv-talk\"><a href=\"/wiki/Template_talk:Neighborhoods_of_San_Diego\" title=\"Template talk:Neighborhoods of San Diego\"><abbr title=\"Discuss this template\" style=\"background: #FCC200;;;background:none transparent;border:none;-moz-box-shadow:none;-webkit-box-shadow:none;box-shadow:none; padding:0;\">t</abbr></a></li><li class=\"nv-edit\"><a class=\"external text\" href=\"//en.wikipedia.org/w/index.php?title=Template:Neighborhoods_of_San_Diego&amp;action=edit\"><abbr title=\"Edit this template\" style=\"background: #FCC200;;;background:none transparent;border:none;-moz-box-shadow:none;-webkit-box-shadow:none;box-shadow:none; padding:0;\">e</abbr></a></li></ul></div><div id=\"Neighborhoods_of_San_Diego\" style=\"font-size:114%;margin:0 4em\"><a class=\"mw-selflink selflink\">Neighborhoods of San Diego</a></div></th></tr><tr><th scope=\"row\" class=\"navbox-group\" style=\"background: #FCC200;;width:1%\">Northern</th><td class=\"navbox-list navbox-odd\" style=\"text-align:left;border-left-width:2px;border-left-style:solid;width:100%;padding:0px\"><div style=\"padding:0em 0.25em\">\\n<ul><li><a href=\"/wiki/Bay_Ho,_San_Diego\" class=\"mw-redirect\" title=\"Bay Ho, San Diego\">Bay Ho</a></li>\\n<li><a href=\"/wiki/Bay_Park,_San_Diego\" class=\"mw-redirect\" title=\"Bay Park, San Diego\">Bay Park</a></li>\\n<li><a href=\"/wiki/Carmel_Valley,_San_Diego\" title=\"Carmel Valley, San Diego\">Carmel Valley</a></li>\\n<li><a href=\"/wiki/Clairemont,_San_Diego\" title=\"Clairemont, San Diego\">Clairemont</a></li>\\n<li><a href=\"/wiki/Del_Mar_Heights,_San_Diego\" title=\"Del Mar Heights, San Diego\">Del Mar Heights</a></li>\\n<li><a href=\"/wiki/Del_Mar_Mesa,_San_Diego\" title=\"Del Mar Mesa, San Diego\">Del Mar Mesa</a></li>\\n<li><a href=\"/wiki/La_Jolla\" title=\"La Jolla\">La Jolla</a></li>\\n<li><a href=\"/wiki/La_Jolla_Village,_San_Diego\" title=\"La Jolla Village, San Diego\">La Jolla Village</a></li>\\n<li><a href=\"/wiki/Mission_Beach,_San_Diego\" title=\"Mission Beach, San Diego\">Mission Beach</a></li>\\n<li><a href=\"/wiki/North_City,_San_Diego\" title=\"North City, San Diego\">North City</a></li>\\n<li><a href=\"/wiki/Pacific_Beach,_San_Diego\" title=\"Pacific Beach, San Diego\">Pacific Beach</a></li>\\n<li><a href=\"/wiki/Pacific_Highlands_Ranch,_San_Diego\" title=\"Pacific Highlands Ranch, San Diego\">Pacific Highlands Ranch</a></li>\\n<li><a href=\"/wiki/Torrey_Hills,_San_Diego\" title=\"Torrey Hills, San Diego\">Torrey Hills</a></li>\\n<li><a href=\"/wiki/Torrey_Pines,_San_Diego\" title=\"Torrey Pines, San Diego\">Torrey Pines</a></li>\\n<li><a href=\"/wiki/University_City,_San_Diego\" title=\"University City, San Diego\">University City</a></li>\\n<li><a href=\"/wiki/Village_of_La_Jolla\" title=\"Village of La Jolla\">Village of La Jolla</a></li></ul>\\n</div></td></tr><tr><th scope=\"row\" class=\"navbox-group\" style=\"background: #FCC200;;width:1%\">Northeastern</th><td class=\"navbox-list navbox-even\" style=\"text-align:left;border-left-width:2px;border-left-style:solid;width:100%;padding:0px\"><div style=\"padding:0em 0.25em\">\\n<ul><li><a href=\"/wiki/Black_Mountain_Ranch,_San_Diego\" title=\"Black Mountain Ranch, San Diego\">Black Mountain Ranch</a></li>\\n<li><a href=\"/wiki/Carmel_Mountain_Ranch,_San_Diego\" title=\"Carmel Mountain Ranch, San Diego\">Carmel Mountain Ranch</a></li>\\n<li><a href=\"/wiki/Mira_Mesa,_San_Diego\" title=\"Mira Mesa, San Diego\">Mira Mesa</a></li>\\n<li><a href=\"/wiki/Miramar,_San_Diego\" title=\"Miramar, San Diego\">Miramar</a></li>\\n<li><a href=\"/wiki/Rancho_Bernardo,_San_Diego\" title=\"Rancho Bernardo, San Diego\">Rancho Bernardo</a></li>\\n<li><a href=\"/wiki/Rancho_Encantada,_San_Diego\" title=\"Rancho Encantada, San Diego\">Rancho Encantada</a></li>\\n<li><a href=\"/wiki/Rancho_Pe%C3%B1asquitos,_San_Diego\" title=\"Rancho Pe\\xc3\\xb1asquitos, San Diego\">Rancho Pe\\xc3\\xb1asquitos</a></li>\\n<li><a href=\"/wiki/Sabre_Springs,_San_Diego\" title=\"Sabre Springs, San Diego\">Sabre Springs</a></li>\\n<li><a href=\"/wiki/San_Pasqual_Valley,_San_Diego\" title=\"San Pasqual Valley, San Diego\">San Pasqual Valley</a></li>\\n<li><a href=\"/wiki/Scripps_Ranch,_San_Diego\" title=\"Scripps Ranch, San Diego\">Scripps Ranch</a></li>\\n<li><a href=\"/wiki/Sorrento_Valley,_San_Diego\" title=\"Sorrento Valley, San Diego\">Sorrento Valley</a></li>\\n<li><a href=\"/wiki/Sorrento_Mesa,_San_Diego\" title=\"Sorrento Mesa, San Diego\">Sorrento Mesa</a></li>\\n<li><a href=\"/wiki/Torrey_Highlands,_San_Diego\" title=\"Torrey Highlands, San Diego\">Torrey Highlands</a></li></ul>\\n</div></td></tr><tr><th scope=\"row\" class=\"navbox-group\" style=\"background: #FCC200;;width:1%\">Eastern</th><td class=\"navbox-list navbox-odd\" style=\"text-align:left;border-left-width:2px;border-left-style:solid;width:100%;padding:0px\"><div style=\"padding:0em 0.25em\">\\n<ul><li><a href=\"/wiki/Birdland,_San_Diego\" title=\"Birdland, San Diego\">Birdland</a></li>\\n<li><a href=\"/wiki/East_Elliott,_San_Diego\" title=\"East Elliott, San Diego\">East Elliott</a></li>\\n<li><a href=\"/wiki/Kearny_Mesa,_San_Diego\" title=\"Kearny Mesa, San Diego\">Kearny Mesa</a></li>\\n<li><a href=\"/wiki/Mission_Valley,_San_Diego\" title=\"Mission Valley, San Diego\">Mission&#160;Valley&#160;East</a></li>\\n<li><a href=\"/wiki/Navajo,_San_Diego\" title=\"Navajo, San Diego\">Navajo</a> (<a href=\"/wiki/Allied_Gardens,_San_Diego\" title=\"Allied Gardens, San Diego\">Allied Gardens</a></li>\\n<li><a href=\"/wiki/Del_Cerro,_San_Diego\" title=\"Del Cerro, San Diego\">Del Cerro</a></li>\\n<li><a href=\"/wiki/Grantville,_San_Diego\" title=\"Grantville, San Diego\">Grantville</a></li>\\n<li><a href=\"/wiki/San_Carlos,_San_Diego\" title=\"San Carlos, San Diego\">San Carlos</a>)</li>\\n<li><a href=\"/wiki/Serra_Mesa,_San_Diego\" title=\"Serra Mesa, San Diego\">Serra Mesa</a></li>\\n<li><a href=\"/wiki/Tierrasanta,_San_Diego\" title=\"Tierrasanta, San Diego\">Tierrasanta</a></li></ul>\\n</div></td></tr><tr><th scope=\"row\" class=\"navbox-group\" style=\"background: #FCC200;;width:1%\">Western</th><td class=\"navbox-list navbox-even\" style=\"text-align:left;border-left-width:2px;border-left-style:solid;width:100%;padding:0px\"><div style=\"padding:0em 0.25em\">\\n<ul><li><a href=\"/wiki/Burlingame,_San_Diego\" title=\"Burlingame, San Diego\">Burlingame</a></li>\\n<li><a href=\"/wiki/Hillcrest,_San_Diego\" title=\"Hillcrest, San Diego\">Hillcrest</a> (<a href=\"/wiki/Marston_Hills,_San_Diego\" title=\"Marston Hills, San Diego\">Marston Hills</a>)</li>\\n<li><a href=\"/wiki/Linda_Vista,_San_Diego\" title=\"Linda Vista, San Diego\">Linda Vista</a></li>\\n<li><a href=\"/wiki/Midtown,_San_Diego\" title=\"Midtown, San Diego\">Midtown</a></li>\\n<li><a href=\"/wiki/Mission_Hills,_San_Diego\" title=\"Mission Hills, San Diego\">Mission Hills</a></li>\\n<li><a href=\"/wiki/Mission_Valley,_San_Diego\" title=\"Mission Valley, San Diego\">Mission&#160;Valley&#160;West</a></li>\\n<li><a href=\"/wiki/Morena,_San_Diego\" title=\"Morena, San Diego\">Morena</a></li>\\n<li><a href=\"/wiki/North_Park,_San_Diego\" title=\"North Park, San Diego\">North Park</a></li>\\n<li><a href=\"/wiki/Ocean_Beach,_San_Diego\" title=\"Ocean Beach, San Diego\">Ocean Beach</a></li>\\n<li><a href=\"/wiki/Old_Town,_San_Diego\" title=\"Old Town, San Diego\">Old Town</a></li>\\n<li><a href=\"/wiki/Point_Loma,_San_Diego\" title=\"Point Loma, San Diego\">Point Loma</a> (<a href=\"/wiki/La_Playa,_San_Diego\" title=\"La Playa, San Diego\">La Playa</a></li>\\n<li><a href=\"/wiki/Liberty_Station,_San_Diego\" title=\"Liberty Station, San Diego\">Liberty Station</a></li>\\n<li><a href=\"/wiki/Loma_Portal,_San_Diego\" title=\"Loma Portal, San Diego\">Loma Portal</a></li>\\n<li><a href=\"/wiki/Midway,_San_Diego\" title=\"Midway, San Diego\">Midway</a></li>\\n<li><a href=\"/wiki/Point_Loma_Heights,_San_Diego\" title=\"Point Loma Heights, San Diego\">Point Loma Heights</a></li>\\n<li><a href=\"/wiki/Roseville-Fleetridge,_San_Diego\" title=\"Roseville-Fleetridge, San Diego\">Roseville-Fleetridge</a></li>\\n<li><a href=\"/wiki/Sunset_Cliffs,_San_Diego\" title=\"Sunset Cliffs, San Diego\">Sunset Cliffs</a></li>\\n<li><a href=\"/wiki/Wooded_Area,_San_Diego\" title=\"Wooded Area, San Diego\">Wooded Area</a>)</li>\\n<li><a href=\"/wiki/University_Heights,_San_Diego\" title=\"University Heights, San Diego\">University Heights</a></li></ul>\\n</div></td></tr><tr><th scope=\"row\" class=\"navbox-group\" style=\"background: #FCC200;;width:1%\">Central</th><td class=\"navbox-list navbox-odd\" style=\"text-align:left;border-left-width:2px;border-left-style:solid;width:100%;padding:0px\"><div style=\"padding:0em 0.25em\">\\n<ul><li><a href=\"/wiki/Downtown_San_Diego\" title=\"Downtown San Diego\">Downtown</a> (<a href=\"/wiki/Columbia,_San_Diego\" title=\"Columbia, San Diego\">Columbia</a></li>\\n<li><a href=\"/wiki/Core,_San_Diego\" title=\"Core, San Diego\">Core</a></li>\\n<li><a href=\"/wiki/Cortez_Hill,_San_Diego\" title=\"Cortez Hill, San Diego\">Cortez Hill</a></li>\\n<li><a href=\"/wiki/East_Village,_San_Diego\" title=\"East Village, San Diego\">East Village</a></li>\\n<li><a href=\"/wiki/Gaslamp_Quarter,_San_Diego\" title=\"Gaslamp Quarter, San Diego\">Gaslamp Quarter</a></li>\\n<li><a href=\"/wiki/Harborview,_San_Diego\" title=\"Harborview, San Diego\">Harborview</a></li>\\n<li><a href=\"/wiki/Little_Italy,_San_Diego\" title=\"Little Italy, San Diego\">Little Italy</a></li>\\n<li><a href=\"/wiki/Marina,_San_Diego\" title=\"Marina, San Diego\">Marina</a>)</li>\\n<li><a href=\"/wiki/Balboa_Park_(San_Diego)\" title=\"Balboa Park (San Diego)\">Balboa Park</a></li>\\n<li><a href=\"/wiki/Bankers_Hill,_San_Diego\" title=\"Bankers Hill, San Diego\">Bankers Hill</a></li>\\n<li><a href=\"/wiki/Barrio_Logan,_San_Diego\" title=\"Barrio Logan, San Diego\">Barrio Logan</a></li>\\n<li><a href=\"/wiki/Golden_Hill,_San_Diego\" title=\"Golden Hill, San Diego\">Golden Hill</a></li>\\n<li><a href=\"/wiki/Grant_Hill,_San_Diego\" title=\"Grant Hill, San Diego\">Grant Hill</a></li>\\n<li><a href=\"/wiki/Logan_Heights,_San_Diego\" title=\"Logan Heights, San Diego\">Logan Heights</a></li>\\n<li><a href=\"/wiki/Memorial,_San_Diego\" title=\"Memorial, San Diego\">Memorial</a></li>\\n<li><a href=\"/wiki/Middletown,_San_Diego\" title=\"Middletown, San Diego\">Middletown</a></li>\\n<li><a href=\"/wiki/Sherman_Heights,_San_Diego\" title=\"Sherman Heights, San Diego\">Sherman Heights</a></li>\\n<li><a href=\"/wiki/South_Park,_San_Diego\" title=\"South Park, San Diego\">South Park</a></li>\\n<li><a href=\"/wiki/Stockton,_San_Diego\" title=\"Stockton, San Diego\">Stockton</a></li></ul>\\n</div></td></tr><tr><th scope=\"row\" class=\"navbox-group\" style=\"background: #FCC200;;width:1%\">Mid-City</th><td class=\"navbox-list navbox-even\" style=\"text-align:left;border-left-width:2px;border-left-style:solid;width:100%;padding:0px\"><div style=\"padding:0em 0.25em\">\\n<ul><li><a href=\"/wiki/City_Heights,_San_Diego\" title=\"City Heights, San Diego\">City Heights</a></li>\\n<li><a href=\"/wiki/College_Area,_San_Diego\" title=\"College Area, San Diego\">College Area</a></li>\\n<li><a href=\"/wiki/El_Cerrito,_San_Diego\" title=\"El Cerrito, San Diego\">El Cerrito</a></li>\\n<li><a href=\"/wiki/Fairmount_Park,_San_Diego\" title=\"Fairmount Park, San Diego\">Fairmount Park</a></li>\\n<li><a href=\"/wiki/Gateway,_San_Diego\" title=\"Gateway, San Diego\">Gateway</a></li>\\n<li><a href=\"/wiki/Islenair,_San_Diego\" title=\"Islenair, San Diego\">Islenair</a></li>\\n<li><a href=\"/wiki/Kensington,_San_Diego\" title=\"Kensington, San Diego\">Kensington</a></li>\\n<li><a href=\"/wiki/Normal_Heights,_San_Diego\" title=\"Normal Heights, San Diego\">Normal Heights</a></li>\\n<li><a href=\"/wiki/Oak_Park,_San_Diego\" title=\"Oak Park, San Diego\">Oak Park</a></li>\\n<li><a href=\"/wiki/Redwood_Village,_San_Diego\" title=\"Redwood Village, San Diego\">Redwood Village</a></li>\\n<li><a href=\"/wiki/Rolando,_San_Diego\" title=\"Rolando, San Diego\">Rolando</a></li>\\n<li><a href=\"/wiki/Rolando_Park,_San_Diego\" title=\"Rolando Park, San Diego\">Rolando Park</a></li>\\n<li><a href=\"/wiki/Swan_Canyon,_San_Diego\" title=\"Swan Canyon, San Diego\">Swan Canyon</a></li>\\n<li><a href=\"/wiki/Talmadge,_San_Diego\" title=\"Talmadge, San Diego\">Talmadge</a></li>\\n<li><a href=\"/wiki/Webster,_San_Diego\" title=\"Webster, San Diego\">Webster</a></li></ul>\\n</div></td></tr><tr><th scope=\"row\" class=\"navbox-group\" style=\"background: #FCC200;;width:1%\"><a href=\"/wiki/Southeast_San_Diego\" title=\"Southeast San Diego\">Southeastern</a></th><td class=\"navbox-list navbox-odd\" style=\"text-align:left;border-left-width:2px;border-left-style:solid;width:100%;padding:0px\"><div style=\"padding:0em 0.25em\">\\n<ul><li><a href=\"/wiki/Alta_Vista,_San_Diego\" title=\"Alta Vista, San Diego\">Alta Vista</a></li>\\n<li><a href=\"/wiki/Bay_Terraces,_San_Diego\" title=\"Bay Terraces, San Diego\">Bay Terraces</a></li>\\n<li><a href=\"/wiki/Broadway_Heights,_San_Diego\" title=\"Broadway Heights, San Diego\">Broadway Heights</a></li>\\n<li><a href=\"/wiki/Chollas_View,_San_Diego\" title=\"Chollas View, San Diego\">Chollas View</a></li>\\n<li><a href=\"/wiki/Emerald_Hills,_San_Diego\" title=\"Emerald Hills, San Diego\">Emerald Hills</a></li>\\n<li><a href=\"/wiki/Encanto,_San_Diego\" title=\"Encanto, San Diego\">Encanto</a></li>\\n<li><a href=\"/wiki/Jamacha,_San_Diego\" title=\"Jamacha, San Diego\">Jamacha</a></li>\\n<li><a href=\"/wiki/Lincoln_Park,_San_Diego\" title=\"Lincoln Park, San Diego\">Lincoln Park</a></li>\\n<li><a href=\"/wiki/Lomita,_San_Diego\" title=\"Lomita, San Diego\">Lomita</a></li>\\n<li><a href=\"/wiki/Mountain_View,_San_Diego\" title=\"Mountain View, San Diego\">Mountain View</a></li>\\n<li><a href=\"/wiki/Mount_Hope,_San_Diego\" title=\"Mount Hope, San Diego\">Mount Hope</a></li>\\n<li><a href=\"/wiki/Paradise_Hills,_San_Diego\" title=\"Paradise Hills, San Diego\">Paradise Hills</a></li>\\n<li><a href=\"/wiki/Shelltown,_San_Diego\" title=\"Shelltown, San Diego\">Shelltown</a></li>\\n<li><a href=\"/wiki/Skyline,_San_Diego\" title=\"Skyline, San Diego\">Skyline</a></li>\\n<li><a href=\"/wiki/Southcrest,_San_Diego\" title=\"Southcrest, San Diego\">Southcrest</a></li>\\n<li><a href=\"/wiki/Valencia_Park,_San_Diego\" title=\"Valencia Park, San Diego\">Valencia Park</a></li></ul>\\n</div></td></tr><tr><th scope=\"row\" class=\"navbox-group\" style=\"background: #FCC200;;width:1%\"><a href=\"/wiki/South_San_Diego\" title=\"South San Diego\">Southern</a></th><td class=\"navbox-list navbox-even\" style=\"text-align:left;border-left-width:2px;border-left-style:solid;width:100%;padding:0px\"><div style=\"padding:0em 0.25em\">\\n<ul><li><a href=\"/wiki/Border,_San_Diego\" class=\"mw-redirect\" title=\"Border, San Diego\">Border</a></li>\\n<li><a href=\"/wiki/Egger_Highlands,_San_Diego\" title=\"Egger Highlands, San Diego\">Egger Highlands</a></li>\\n<li><a href=\"/wiki/Nestor,_San_Diego\" title=\"Nestor, San Diego\">Nestor</a></li>\\n<li><a href=\"/wiki/Ocean_View_Hills,_San_Diego\" title=\"Ocean View Hills, San Diego\">Ocean View Hills</a></li>\\n<li><a href=\"/wiki/Otay_Mesa,_San_Diego\" title=\"Otay Mesa, San Diego\">Otay&#160;Mesa</a></li>\\n<li><a href=\"/wiki/Otay_Mesa_West,_San_Diego\" title=\"Otay Mesa West, San Diego\">Otay&#160;Mesa&#160;West</a></li>\\n<li><a href=\"/wiki/Palm_City,_San_Diego\" title=\"Palm City, San Diego\">Palm City</a></li>\\n<li><a href=\"/wiki/San_Ysidro,_San_Diego\" title=\"San Ysidro, San Diego\">San&#160;Ysidro</a></li>\\n<li><a href=\"/wiki/Tijuana_River_Valley,_San_Diego\" title=\"Tijuana River Valley, San Diego\">Tijuana River Valley</a></li></ul>\\n</div></td></tr></tbody></table></div>\\n<div role=\"navigation\" class=\"navbox\" aria-labelledby=\"23x15px&amp;#124;border_&amp;#124;alt=&amp;#124;link=_City_of_San_Diego\" style=\"padding:3px\"><table class=\"nowraplinks collapsible autocollapse navbox-inner\" style=\"border-spacing:0;background:transparent;color:inherit\"><tbody><tr><th scope=\"col\" class=\"navbox-title\" colspan=\"3\" style=\"background: #FCC200;\"><div class=\"plainlinks hlist navbar mini\"><ul><li class=\"nv-view\"><a href=\"/wiki/Template:San_Diego\" title=\"Template:San Diego\"><abbr title=\"View this template\" style=\"background: #FCC200;;;background:none transparent;border:none;-moz-box-shadow:none;-webkit-box-shadow:none;box-shadow:none; padding:0;\">v</abbr></a></li><li class=\"nv-talk\"><a href=\"/wiki/Template_talk:San_Diego\" title=\"Template talk:San Diego\"><abbr title=\"Discuss this template\" style=\"background: #FCC200;;;background:none transparent;border:none;-moz-box-shadow:none;-webkit-box-shadow:none;box-shadow:none; padding:0;\">t</abbr></a></li><li class=\"nv-edit\"><a class=\"external text\" href=\"//en.wikipedia.org/w/index.php?title=Template:San_Diego&amp;action=edit\"><abbr title=\"Edit this template\" style=\"background: #FCC200;;;background:none transparent;border:none;-moz-box-shadow:none;-webkit-box-shadow:none;box-shadow:none; padding:0;\">e</abbr></a></li></ul></div><div id=\"23x15px&amp;#124;border_&amp;#124;alt=&amp;#124;link=_City_of_San_Diego\" style=\"font-size:114%;margin:0 4em\"><span class=\"flagicon\"><img alt=\"\" src=\"//upload.wikimedia.org/wikipedia/commons/thumb/1/19/Flag_of_San_Diego%2C_California.svg/23px-Flag_of_San_Diego%2C_California.svg.png\" width=\"23\" height=\"14\" class=\"thumbborder\" srcset=\"//upload.wikimedia.org/wikipedia/commons/thumb/1/19/Flag_of_San_Diego%2C_California.svg/35px-Flag_of_San_Diego%2C_California.svg.png 1.5x, //upload.wikimedia.org/wikipedia/commons/thumb/1/19/Flag_of_San_Diego%2C_California.svg/46px-Flag_of_San_Diego%2C_California.svg.png 2x\" data-file-width=\"1333\" data-file-height=\"800\" /></span> <a href=\"/wiki/San_Diego\" title=\"San Diego\">City of San Diego</a></div></th></tr><tr><th scope=\"row\" class=\"navbox-group\" style=\"background: #FCC200;;width:1%\">General</th><td class=\"navbox-list navbox-odd hlist\" style=\"text-align:left;border-left-width:2px;border-left-style:solid;width:100%;padding:0px\"><div style=\"padding:0em 0.25em\">\\n<ul><li><a href=\"/wiki/History_of_San_Diego\" title=\"History of San Diego\">History</a></li>\\n<li><a href=\"/wiki/List_of_beaches_in_San_Diego\" class=\"mw-redirect\" title=\"List of beaches in San Diego\">Beaches</a></li>\\n<li><a href=\"/wiki/List_of_parks_in_San_Diego\" title=\"List of parks in San Diego\">Parks</a></li>\\n<li><a href=\"/wiki/Climate_of_San_Diego\" title=\"Climate of San Diego\">Climate</a></li>\\n<li><a href=\"/wiki/List_of_companies_headquartered_in_San_Diego\" title=\"List of companies headquartered in San Diego\">Companies</a></li>\\n<li><a href=\"/wiki/San_Diego_Unified_School_District\" title=\"San Diego Unified School District\">San Diego Unified School District</a></li>\\n<li><a href=\"/wiki/Culture_of_San_Diego\" title=\"Culture of San Diego\">Culture</a></li>\\n<li><a href=\"/wiki/List_of_people_from_San_Diego\" title=\"List of people from San Diego\">People</a></li>\\n<li><a href=\"/wiki/San_Diego_Public_Library\" title=\"San Diego Public Library\">Library</a></li>\\n<li><a href=\"/wiki/Sports_in_San_Diego\" title=\"Sports in San Diego\">Sports</a></li></ul>\\n</div></td><td class=\"navbox-image\" rowspan=\"2\" style=\"width:1px;padding:0px 0px 0px 2px\"><div><a href=\"/wiki/File:Seal_of_San_Diego,_California.svg\" class=\"image\" title=\"Seal of San Diego\"><img alt=\"Seal of San Diego\" src=\"//upload.wikimedia.org/wikipedia/commons/thumb/c/cf/Seal_of_San_Diego%2C_California.svg/50px-Seal_of_San_Diego%2C_California.svg.png\" width=\"50\" height=\"50\" srcset=\"//upload.wikimedia.org/wikipedia/commons/thumb/c/cf/Seal_of_San_Diego%2C_California.svg/75px-Seal_of_San_Diego%2C_California.svg.png 1.5x, //upload.wikimedia.org/wikipedia/commons/thumb/c/cf/Seal_of_San_Diego%2C_California.svg/100px-Seal_of_San_Diego%2C_California.svg.png 2x\" data-file-width=\"299\" data-file-height=\"299\" /></a></div></td></tr><tr><th scope=\"row\" class=\"navbox-group\" style=\"background: #FCC200;;width:1%\">Sites</th><td class=\"navbox-list navbox-even hlist\" style=\"text-align:left;border-left-width:2px;border-left-style:solid;width:100%;padding:0px\"><div style=\"padding:0em 0.25em\">\\n<ul><li><a href=\"/wiki/Balboa_Park_(San_Diego)\" title=\"Balboa Park (San Diego)\">Balboa Park</a></li>\\n<li><a href=\"/wiki/San_Diego_Zoo\" title=\"San Diego Zoo\">San Diego Zoo</a></li></ul>\\n</div></td></tr><tr><td class=\"navbox-abovebelow hlist\" colspan=\"3\" style=\"background: #FCC200;\"><div>\\n<ul><li><a href=\"/wiki/San_Diego_County,_California\" title=\"San Diego County, California\">San Diego County</a></li>\\n<li><a href=\"/wiki/San_Diego-Tijuana_metropolitan_area\" class=\"mw-redirect\" title=\"San Diego-Tijuana metropolitan area\">San Diego-Tijuana metropolitan area</a></li></ul>\\n</div></td></tr></tbody></table></div>\\n\\n<!-- \\nNewPP limit report\\nParsed by mw2188\\nCached time: 20181001150600\\nCache expiry: 1900800\\nDynamic content: false\\nCPU time usage: 0.120 seconds\\nReal time usage: 0.175 seconds\\nPreprocessor visited node count: 463/1000000\\nPreprocessor generated node count: 0/1500000\\nPost\\xe2\\x80\\x90expand include size: 39501/2097152 bytes\\nTemplate argument size: 766/2097152 bytes\\nHighest expansion depth: 9/40\\nExpensive parser function count: 0/500\\nUnstrip recursion depth: 0/20\\nUnstrip post\\xe2\\x80\\x90expand size: 0/5000000 bytes\\nNumber of Wikibase entities loaded: 1/400\\nLua time usage: 0.016/10.000 seconds\\nLua memory usage: 1.18 MB/50 MB\\n-->\\n<!--\\nTransclusion expansion time report (%,ms,calls,template)\\n100.00%   85.241      1 -total\\n 38.26%   32.615      1 Template:Commonscat\\n 22.29%   18.998      1 Template:Portal\\n 21.20%   18.070      2 Template:Navbox\\n 16.92%   14.422      1 Template:Neighborhoods_of_San_Diego\\n 13.46%   11.475      1 Template:Commons\\n 11.89%   10.139      1 Template:Sister_project\\n  9.58%    8.169      1 Template:Side_box\\n  9.45%    8.058      1 Template:San_Diego\\n  3.78%    3.224      1 Template:Snd\\n-->\\n\\n<!-- Saved in parser cache with key enwiki:pcache:idhash:9146786-0!canonical and timestamp 20181001150600 and revision id 852307991\\n -->\\n</div><noscript><img src=\"//en.wikipedia.org/wiki/Special:CentralAutoLogin/start?type=1x1\" alt=\"\" title=\"\" width=\"1\" height=\"1\" style=\"border: none; position: absolute;\" /></noscript></div>\\t\\t\\t\\t\\t<div class=\"printfooter\">\\n\\t\\t\\t\\t\\t\\tRetrieved from \"<a dir=\"ltr\" href=\"https://en.wikipedia.org/w/index.php?title=List_of_communities_and_neighborhoods_of_San_Diego&amp;oldid=852307991\">https://en.wikipedia.org/w/index.php?title=List_of_communities_and_neighborhoods_of_San_Diego&amp;oldid=852307991</a>\"\\t\\t\\t\\t\\t</div>\\n\\t\\t\\t\\t<div id=\"catlinks\" class=\"catlinks\" data-mw=\"interface\"><div id=\"mw-normal-catlinks\" class=\"mw-normal-catlinks\"><a href=\"/wiki/Help:Category\" title=\"Help:Category\">Categories</a>: <ul><li><a href=\"/wiki/Category:Neighborhoods_in_San_Diego\" title=\"Category:Neighborhoods in San Diego\">Neighborhoods in San Diego</a></li><li><a href=\"/wiki/Category:Urban_communities_in_San_Diego\" title=\"Category:Urban communities in San Diego\">Urban communities in San Diego</a></li><li><a href=\"/wiki/Category:Lists_of_neighborhoods_in_U.S._cities\" title=\"Category:Lists of neighborhoods in U.S. cities\">Lists of neighborhoods in U.S. cities</a></li><li><a href=\"/wiki/Category:San_Diego-related_lists\" title=\"Category:San Diego-related lists\">San Diego-related lists</a></li><li><a href=\"/wiki/Category:Geography_of_San_Diego\" title=\"Category:Geography of San Diego\">Geography of San Diego</a></li></ul></div></div>\\t\\t\\t\\t<div class=\"visualClear\"></div>\\n\\t\\t\\t\\t\\t\\t\\t</div>\\n\\t\\t</div>\\n\\t\\t<div id=\"mw-navigation\">\\n\\t\\t\\t<h2>Navigation menu</h2>\\n\\t\\t\\t<div id=\"mw-head\">\\n\\t\\t\\t\\t\\t\\t\\t\\t\\t<div id=\"p-personal\" role=\"navigation\" class=\"\" aria-labelledby=\"p-personal-label\">\\n\\t\\t\\t\\t\\t\\t<h3 id=\"p-personal-label\">Personal tools</h3>\\n\\t\\t\\t\\t\\t\\t<ul>\\n\\t\\t\\t\\t\\t\\t\\t<li id=\"pt-anonuserpage\">Not logged in</li><li id=\"pt-anontalk\"><a href=\"/wiki/Special:MyTalk\" title=\"Discussion about edits from this IP address [n]\" accesskey=\"n\">Talk</a></li><li id=\"pt-anoncontribs\"><a href=\"/wiki/Special:MyContributions\" title=\"A list of edits made from this IP address [y]\" accesskey=\"y\">Contributions</a></li><li id=\"pt-createaccount\"><a href=\"/w/index.php?title=Special:CreateAccount&amp;returnto=List+of+communities+and+neighborhoods+of+San+Diego\" title=\"You are encouraged to create an account and log in; however, it is not mandatory\">Create account</a></li><li id=\"pt-login\"><a href=\"/w/index.php?title=Special:UserLogin&amp;returnto=List+of+communities+and+neighborhoods+of+San+Diego\" title=\"You&#039;re encouraged to log in; however, it&#039;s not mandatory. [o]\" accesskey=\"o\">Log in</a></li>\\t\\t\\t\\t\\t\\t</ul>\\n\\t\\t\\t\\t\\t</div>\\n\\t\\t\\t\\t\\t\\t\\t\\t\\t<div id=\"left-navigation\">\\n\\t\\t\\t\\t\\t\\t\\t\\t\\t\\t<div id=\"p-namespaces\" role=\"navigation\" class=\"vectorTabs\" aria-labelledby=\"p-namespaces-label\">\\n\\t\\t\\t\\t\\t\\t<h3 id=\"p-namespaces-label\">Namespaces</h3>\\n\\t\\t\\t\\t\\t\\t<ul>\\n\\t\\t\\t\\t\\t\\t\\t<li id=\"ca-nstab-main\" class=\"selected\"><span><a href=\"/wiki/List_of_communities_and_neighborhoods_of_San_Diego\" title=\"View the content page [c]\" accesskey=\"c\">Article</a></span></li><li id=\"ca-talk\"><span><a href=\"/wiki/Talk:List_of_communities_and_neighborhoods_of_San_Diego\" rel=\"discussion\" title=\"Discussion about the content page [t]\" accesskey=\"t\">Talk</a></span></li>\\t\\t\\t\\t\\t\\t</ul>\\n\\t\\t\\t\\t\\t</div>\\n\\t\\t\\t\\t\\t\\t\\t\\t\\t\\t<div id=\"p-variants\" role=\"navigation\" class=\"vectorMenu emptyPortlet\" aria-labelledby=\"p-variants-label\">\\n\\t\\t\\t\\t\\t\\t\\t\\t\\t\\t\\t\\t<input type=\"checkbox\" class=\"vectorMenuCheckbox\" aria-labelledby=\"p-variants-label\" />\\n\\t\\t\\t\\t\\t\\t<h3 id=\"p-variants-label\">\\n\\t\\t\\t\\t\\t\\t\\t<span>Variants</span>\\n\\t\\t\\t\\t\\t\\t</h3>\\n\\t\\t\\t\\t\\t\\t<div class=\"menu\">\\n\\t\\t\\t\\t\\t\\t\\t<ul>\\n\\t\\t\\t\\t\\t\\t\\t\\t\\t\\t\\t\\t\\t\\t\\t</ul>\\n\\t\\t\\t\\t\\t\\t</div>\\n\\t\\t\\t\\t\\t</div>\\n\\t\\t\\t\\t\\t\\t\\t\\t\\t</div>\\n\\t\\t\\t\\t<div id=\"right-navigation\">\\n\\t\\t\\t\\t\\t\\t\\t\\t\\t\\t<div id=\"p-views\" role=\"navigation\" class=\"vectorTabs\" aria-labelledby=\"p-views-label\">\\n\\t\\t\\t\\t\\t\\t<h3 id=\"p-views-label\">Views</h3>\\n\\t\\t\\t\\t\\t\\t<ul>\\n\\t\\t\\t\\t\\t\\t\\t<li id=\"ca-view\" class=\"collapsible selected\"><span><a href=\"/wiki/List_of_communities_and_neighborhoods_of_San_Diego\">Read</a></span></li><li id=\"ca-edit\" class=\"collapsible\"><span><a href=\"/w/index.php?title=List_of_communities_and_neighborhoods_of_San_Diego&amp;action=edit\" title=\"Edit this page [e]\" accesskey=\"e\">Edit</a></span></li><li id=\"ca-history\" class=\"collapsible\"><span><a href=\"/w/index.php?title=List_of_communities_and_neighborhoods_of_San_Diego&amp;action=history\" title=\"Past revisions of this page [h]\" accesskey=\"h\">View history</a></span></li>\\t\\t\\t\\t\\t\\t</ul>\\n\\t\\t\\t\\t\\t</div>\\n\\t\\t\\t\\t\\t\\t\\t\\t\\t\\t<div id=\"p-cactions\" role=\"navigation\" class=\"vectorMenu emptyPortlet\" aria-labelledby=\"p-cactions-label\">\\n\\t\\t\\t\\t\\t\\t<input type=\"checkbox\" class=\"vectorMenuCheckbox\" aria-labelledby=\"p-cactions-label\" />\\n\\t\\t\\t\\t\\t\\t<h3 id=\"p-cactions-label\"><span>More</span></h3>\\n\\t\\t\\t\\t\\t\\t<div class=\"menu\">\\n\\t\\t\\t\\t\\t\\t\\t<ul>\\n\\t\\t\\t\\t\\t\\t\\t\\t\\t\\t\\t\\t\\t\\t\\t</ul>\\n\\t\\t\\t\\t\\t\\t</div>\\n\\t\\t\\t\\t\\t</div>\\n\\t\\t\\t\\t\\t\\t\\t\\t\\t\\t<div id=\"p-search\" role=\"search\">\\n\\t\\t\\t\\t\\t\\t<h3>\\n\\t\\t\\t\\t\\t\\t\\t<label for=\"searchInput\">Search</label>\\n\\t\\t\\t\\t\\t\\t</h3>\\n\\t\\t\\t\\t\\t\\t<form action=\"/w/index.php\" id=\"searchform\">\\n\\t\\t\\t\\t\\t\\t\\t<div id=\"simpleSearch\">\\n\\t\\t\\t\\t\\t\\t\\t\\t<input type=\"search\" name=\"search\" placeholder=\"Search Wikipedia\" title=\"Search Wikipedia [f]\" accesskey=\"f\" id=\"searchInput\"/><input type=\"hidden\" value=\"Special:Search\" name=\"title\"/><input type=\"submit\" name=\"fulltext\" value=\"Search\" title=\"Search Wikipedia for this text\" id=\"mw-searchButton\" class=\"searchButton mw-fallbackSearchButton\"/><input type=\"submit\" name=\"go\" value=\"Go\" title=\"Go to a page with this exact name if it exists\" id=\"searchButton\" class=\"searchButton\"/>\\t\\t\\t\\t\\t\\t\\t</div>\\n\\t\\t\\t\\t\\t\\t</form>\\n\\t\\t\\t\\t\\t</div>\\n\\t\\t\\t\\t\\t\\t\\t\\t\\t</div>\\n\\t\\t\\t</div>\\n\\t\\t\\t<div id=\"mw-panel\">\\n\\t\\t\\t\\t<div id=\"p-logo\" role=\"banner\"><a class=\"mw-wiki-logo\" href=\"/wiki/Main_Page\"  title=\"Visit the main page\"></a></div>\\n\\t\\t\\t\\t\\t\\t<div class=\"portal\" role=\"navigation\" id=\"p-navigation\" aria-labelledby=\"p-navigation-label\">\\n\\t\\t\\t<h3 id=\"p-navigation-label\">Navigation</h3>\\n\\t\\t\\t<div class=\"body\">\\n\\t\\t\\t\\t\\t\\t\\t\\t<ul>\\n\\t\\t\\t\\t\\t<li id=\"n-mainpage-description\"><a href=\"/wiki/Main_Page\" title=\"Visit the main page [z]\" accesskey=\"z\">Main page</a></li><li id=\"n-contents\"><a href=\"/wiki/Portal:Contents\" title=\"Guides to browsing Wikipedia\">Contents</a></li><li id=\"n-featuredcontent\"><a href=\"/wiki/Portal:Featured_content\" title=\"Featured content \\xe2\\x80\\x93 the best of Wikipedia\">Featured content</a></li><li id=\"n-currentevents\"><a href=\"/wiki/Portal:Current_events\" title=\"Find background information on current events\">Current events</a></li><li id=\"n-randompage\"><a href=\"/wiki/Special:Random\" title=\"Load a random article [x]\" accesskey=\"x\">Random article</a></li><li id=\"n-sitesupport\"><a href=\"https://donate.wikimedia.org/wiki/Special:FundraiserRedirector?utm_source=donate&amp;utm_medium=sidebar&amp;utm_campaign=C13_en.wikipedia.org&amp;uselang=en\" title=\"Support us\">Donate to Wikipedia</a></li><li id=\"n-shoplink\"><a href=\"//shop.wikimedia.org\" title=\"Visit the Wikipedia store\">Wikipedia store</a></li>\\t\\t\\t\\t</ul>\\n\\t\\t\\t\\t\\t\\t\\t</div>\\n\\t\\t</div>\\n\\t\\t\\t<div class=\"portal\" role=\"navigation\" id=\"p-interaction\" aria-labelledby=\"p-interaction-label\">\\n\\t\\t\\t<h3 id=\"p-interaction-label\">Interaction</h3>\\n\\t\\t\\t<div class=\"body\">\\n\\t\\t\\t\\t\\t\\t\\t\\t<ul>\\n\\t\\t\\t\\t\\t<li id=\"n-help\"><a href=\"/wiki/Help:Contents\" title=\"Guidance on how to use and edit Wikipedia\">Help</a></li><li id=\"n-aboutsite\"><a href=\"/wiki/Wikipedia:About\" title=\"Find out about Wikipedia\">About Wikipedia</a></li><li id=\"n-portal\"><a href=\"/wiki/Wikipedia:Community_portal\" title=\"About the project, what you can do, where to find things\">Community portal</a></li><li id=\"n-recentchanges\"><a href=\"/wiki/Special:RecentChanges\" title=\"A list of recent changes in the wiki [r]\" accesskey=\"r\">Recent changes</a></li><li id=\"n-contactpage\"><a href=\"//en.wikipedia.org/wiki/Wikipedia:Contact_us\" title=\"How to contact Wikipedia\">Contact page</a></li>\\t\\t\\t\\t</ul>\\n\\t\\t\\t\\t\\t\\t\\t</div>\\n\\t\\t</div>\\n\\t\\t\\t<div class=\"portal\" role=\"navigation\" id=\"p-tb\" aria-labelledby=\"p-tb-label\">\\n\\t\\t\\t<h3 id=\"p-tb-label\">Tools</h3>\\n\\t\\t\\t<div class=\"body\">\\n\\t\\t\\t\\t\\t\\t\\t\\t<ul>\\n\\t\\t\\t\\t\\t<li id=\"t-whatlinkshere\"><a href=\"/wiki/Special:WhatLinksHere/List_of_communities_and_neighborhoods_of_San_Diego\" title=\"List of all English Wikipedia pages containing links to this page [j]\" accesskey=\"j\">What links here</a></li><li id=\"t-recentchangeslinked\"><a href=\"/wiki/Special:RecentChangesLinked/List_of_communities_and_neighborhoods_of_San_Diego\" rel=\"nofollow\" title=\"Recent changes in pages linked from this page [k]\" accesskey=\"k\">Related changes</a></li><li id=\"t-upload\"><a href=\"/wiki/Wikipedia:File_Upload_Wizard\" title=\"Upload files [u]\" accesskey=\"u\">Upload file</a></li><li id=\"t-specialpages\"><a href=\"/wiki/Special:SpecialPages\" title=\"A list of all special pages [q]\" accesskey=\"q\">Special pages</a></li><li id=\"t-permalink\"><a href=\"/w/index.php?title=List_of_communities_and_neighborhoods_of_San_Diego&amp;oldid=852307991\" title=\"Permanent link to this revision of the page\">Permanent link</a></li><li id=\"t-info\"><a href=\"/w/index.php?title=List_of_communities_and_neighborhoods_of_San_Diego&amp;action=info\" title=\"More information about this page\">Page information</a></li><li id=\"t-wikibase\"><a href=\"https://www.wikidata.org/wiki/Special:EntityPage/Q13644398\" title=\"Link to connected data repository item [g]\" accesskey=\"g\">Wikidata item</a></li><li id=\"t-cite\"><a href=\"/w/index.php?title=Special:CiteThisPage&amp;page=List_of_communities_and_neighborhoods_of_San_Diego&amp;id=852307991\" title=\"Information on how to cite this page\">Cite this page</a></li>\\t\\t\\t\\t</ul>\\n\\t\\t\\t\\t\\t\\t\\t</div>\\n\\t\\t</div>\\n\\t\\t\\t<div class=\"portal\" role=\"navigation\" id=\"p-coll-print_export\" aria-labelledby=\"p-coll-print_export-label\">\\n\\t\\t\\t<h3 id=\"p-coll-print_export-label\">Print/export</h3>\\n\\t\\t\\t<div class=\"body\">\\n\\t\\t\\t\\t\\t\\t\\t\\t<ul>\\n\\t\\t\\t\\t\\t<li id=\"coll-create_a_book\"><a href=\"/w/index.php?title=Special:Book&amp;bookcmd=book_creator&amp;referer=List+of+communities+and+neighborhoods+of+San+Diego\">Create a book</a></li><li id=\"coll-download-as-rdf2latex\"><a href=\"/w/index.php?title=Special:ElectronPdf&amp;page=List+of+communities+and+neighborhoods+of+San+Diego&amp;action=show-download-screen\">Download as PDF</a></li><li id=\"t-print\"><a href=\"/w/index.php?title=List_of_communities_and_neighborhoods_of_San_Diego&amp;printable=yes\" title=\"Printable version of this page [p]\" accesskey=\"p\">Printable version</a></li>\\t\\t\\t\\t</ul>\\n\\t\\t\\t\\t\\t\\t\\t</div>\\n\\t\\t</div>\\n\\t\\t\\t<div class=\"portal\" role=\"navigation\" id=\"p-wikibase-otherprojects\" aria-labelledby=\"p-wikibase-otherprojects-label\">\\n\\t\\t\\t<h3 id=\"p-wikibase-otherprojects-label\">In other projects</h3>\\n\\t\\t\\t<div class=\"body\">\\n\\t\\t\\t\\t\\t\\t\\t\\t<ul>\\n\\t\\t\\t\\t\\t<li class=\"wb-otherproject-link wb-otherproject-commons\"><a href=\"https://commons.wikimedia.org/wiki/Category:Neighborhoods_in_San_Diego,_California\" hreflang=\"en\">Wikimedia Commons</a></li>\\t\\t\\t\\t</ul>\\n\\t\\t\\t\\t\\t\\t\\t</div>\\n\\t\\t</div>\\n\\t\\t\\t<div class=\"portal\" role=\"navigation\" id=\"p-lang\" aria-labelledby=\"p-lang-label\">\\n\\t\\t\\t<h3 id=\"p-lang-label\">Languages</h3>\\n\\t\\t\\t<div class=\"body\">\\n\\t\\t\\t\\t\\t\\t\\t\\t<ul>\\n\\t\\t\\t\\t\\t<li class=\"interlanguage-link interwiki-es\"><a href=\"https://es.wikipedia.org/wiki/Anexo:Barrios_de_San_Diego\" title=\"Anexo:Barrios de San Diego \\xe2\\x80\\x93 Spanish\" lang=\"es\" hreflang=\"es\" class=\"interlanguage-link-target\">Espa\\xc3\\xb1ol</a></li>\\t\\t\\t\\t</ul>\\n\\t\\t\\t\\t<div class=\"after-portlet after-portlet-lang\"><span class=\"wb-langlinks-edit wb-langlinks-link\"><a href=\"https://www.wikidata.org/wiki/Special:EntityPage/Q13644398#sitelinks-wikipedia\" title=\"Edit interlanguage links\" class=\"wbc-editpage\">Edit links</a></span></div>\\t\\t\\t</div>\\n\\t\\t</div>\\n\\t\\t\\t\\t</div>\\n\\t\\t</div>\\n\\t\\t\\t\\t<div id=\"footer\" role=\"contentinfo\">\\n\\t\\t\\t\\t\\t\\t<ul id=\"footer-info\">\\n\\t\\t\\t\\t\\t\\t\\t\\t<li id=\"footer-info-lastmod\"> This page was last edited on 28 July 2018, at 01:36<span class=\"anonymous-show\">\\xc2\\xa0(UTC)</span>.</li>\\n\\t\\t\\t\\t\\t\\t\\t\\t<li id=\"footer-info-copyright\">Text is available under the <a rel=\"license\" href=\"//en.wikipedia.org/wiki/Wikipedia:Text_of_Creative_Commons_Attribution-ShareAlike_3.0_Unported_License\">Creative Commons Attribution-ShareAlike License</a><a rel=\"license\" href=\"//creativecommons.org/licenses/by-sa/3.0/\" style=\"display:none;\"></a>;\\nadditional terms may apply.  By using this site, you agree to the <a href=\"//foundation.wikimedia.org/wiki/Terms_of_Use\">Terms of Use</a> and <a href=\"//foundation.wikimedia.org/wiki/Privacy_policy\">Privacy Policy</a>. Wikipedia\\xc2\\xae is a registered trademark of the <a href=\"//www.wikimediafoundation.org/\">Wikimedia Foundation, Inc.</a>, a non-profit organization.</li>\\n\\t\\t\\t\\t\\t\\t\\t</ul>\\n\\t\\t\\t\\t\\t\\t<ul id=\"footer-places\">\\n\\t\\t\\t\\t\\t\\t\\t\\t<li id=\"footer-places-privacy\"><a href=\"https://foundation.wikimedia.org/wiki/Privacy_policy\" class=\"extiw\" title=\"wmf:Privacy policy\">Privacy policy</a></li>\\n\\t\\t\\t\\t\\t\\t\\t\\t<li id=\"footer-places-about\"><a href=\"/wiki/Wikipedia:About\" title=\"Wikipedia:About\">About Wikipedia</a></li>\\n\\t\\t\\t\\t\\t\\t\\t\\t<li id=\"footer-places-disclaimer\"><a href=\"/wiki/Wikipedia:General_disclaimer\" title=\"Wikipedia:General disclaimer\">Disclaimers</a></li>\\n\\t\\t\\t\\t\\t\\t\\t\\t<li id=\"footer-places-contact\"><a href=\"//en.wikipedia.org/wiki/Wikipedia:Contact_us\">Contact Wikipedia</a></li>\\n\\t\\t\\t\\t\\t\\t\\t\\t<li id=\"footer-places-developers\"><a href=\"https://www.mediawiki.org/wiki/Special:MyLanguage/How_to_contribute\">Developers</a></li>\\n\\t\\t\\t\\t\\t\\t\\t\\t<li id=\"footer-places-cookiestatement\"><a href=\"https://foundation.wikimedia.org/wiki/Cookie_statement\">Cookie statement</a></li>\\n\\t\\t\\t\\t\\t\\t\\t\\t<li id=\"footer-places-mobileview\"><a href=\"//en.m.wikipedia.org/w/index.php?title=List_of_communities_and_neighborhoods_of_San_Diego&amp;mobileaction=toggle_view_mobile\" class=\"noprint stopMobileRedirectToggle\">Mobile view</a></li>\\n\\t\\t\\t\\t\\t\\t\\t</ul>\\n\\t\\t\\t\\t\\t\\t\\t\\t\\t\\t<ul id=\"footer-icons\" class=\"noprint\">\\n\\t\\t\\t\\t\\t\\t\\t\\t\\t\\t<li id=\"footer-copyrightico\">\\n\\t\\t\\t\\t\\t\\t<a href=\"https://wikimediafoundation.org/\"><img src=\"/static/images/wikimedia-button.png\" srcset=\"/static/images/wikimedia-button-1.5x.png 1.5x, /static/images/wikimedia-button-2x.png 2x\" width=\"88\" height=\"31\" alt=\"Wikimedia Foundation\"/></a>\\t\\t\\t\\t\\t</li>\\n\\t\\t\\t\\t\\t\\t\\t\\t\\t\\t<li id=\"footer-poweredbyico\">\\n\\t\\t\\t\\t\\t\\t<a href=\"//www.mediawiki.org/\"><img src=\"/static/images/poweredby_mediawiki_88x31.png\" alt=\"Powered by MediaWiki\" srcset=\"/static/images/poweredby_mediawiki_132x47.png 1.5x, /static/images/poweredby_mediawiki_176x62.png 2x\" width=\"88\" height=\"31\"/></a>\\t\\t\\t\\t\\t</li>\\n\\t\\t\\t\\t\\t\\t\\t\\t\\t</ul>\\n\\t\\t\\t\\t\\t\\t<div style=\"clear: both;\"></div>\\n\\t\\t</div>\\n\\t\\t\\n<script>(window.RLQ=window.RLQ||[]).push(function(){mw.config.set({\"wgPageParseReport\":{\"limitreport\":{\"cputime\":\"0.120\",\"walltime\":\"0.175\",\"ppvisitednodes\":{\"value\":463,\"limit\":1000000},\"ppgeneratednodes\":{\"value\":0,\"limit\":1500000},\"postexpandincludesize\":{\"value\":39501,\"limit\":2097152},\"templateargumentsize\":{\"value\":766,\"limit\":2097152},\"expansiondepth\":{\"value\":9,\"limit\":40},\"expensivefunctioncount\":{\"value\":0,\"limit\":500},\"unstrip-depth\":{\"value\":0,\"limit\":20},\"unstrip-size\":{\"value\":0,\"limit\":5000000},\"entityaccesscount\":{\"value\":1,\"limit\":400},\"timingprofile\":[\"100.00%   85.241      1 -total\",\" 38.26%   32.615      1 Template:Commonscat\",\" 22.29%   18.998      1 Template:Portal\",\" 21.20%   18.070      2 Template:Navbox\",\" 16.92%   14.422      1 Template:Neighborhoods_of_San_Diego\",\" 13.46%   11.475      1 Template:Commons\",\" 11.89%   10.139      1 Template:Sister_project\",\"  9.58%    8.169      1 Template:Side_box\",\"  9.45%    8.058      1 Template:San_Diego\",\"  3.78%    3.224      1 Template:Snd\"]},\"scribunto\":{\"limitreport-timeusage\":{\"value\":\"0.016\",\"limit\":\"10.000\"},\"limitreport-memusage\":{\"value\":1232211,\"limit\":52428800}},\"cachereport\":{\"origin\":\"mw2188\",\"timestamp\":\"20181001150600\",\"ttl\":1900800,\"transientcontent\":false}}});mw.config.set({\"wgBackendResponseTime\":250,\"wgHostname\":\"mw2188\"});});</script>\\n\\t</body>\\n</html>\\n'"
      ]
     },
     "execution_count": 15,
     "metadata": {},
     "output_type": "execute_result"
    }
   ],
   "source": [
    "page.content"
   ]
  },
  {
   "cell_type": "code",
   "execution_count": 28,
   "metadata": {
    "collapsed": true
   },
   "outputs": [],
   "source": [
    "table = soup.find('table')"
   ]
  },
  {
   "cell_type": "code",
   "execution_count": 41,
   "metadata": {},
   "outputs": [
    {
     "data": {
      "text/plain": [
       "bs4.element.Tag"
      ]
     },
     "execution_count": 41,
     "metadata": {},
     "output_type": "execute_result"
    }
   ],
   "source": [
    "type(table)"
   ]
  },
  {
   "cell_type": "code",
   "execution_count": 51,
   "metadata": {},
   "outputs": [],
   "source": [
    "ll = table.findAll('a')"
   ]
  },
  {
   "cell_type": "code",
   "execution_count": 55,
   "metadata": {},
   "outputs": [
    {
     "data": {
      "text/plain": [
       "[<a class=\"mw-redirect\" href=\"/wiki/Balboa_Park,_San_Diego\" title=\"Balboa Park, San Diego\">Balboa Park</a>,\n",
       " <a href=\"/wiki/Bankers_Hill,_San_Diego\" title=\"Bankers Hill, San Diego\">Bankers Hill</a>,\n",
       " <a href=\"/wiki/Barrio_Logan,_San_Diego\" title=\"Barrio Logan, San Diego\">Barrio Logan</a>,\n",
       " <a class=\"mw-redirect\" href=\"/wiki/Bay_Ho,_San_Diego\" title=\"Bay Ho, San Diego\">Bay Ho</a>,\n",
       " <a class=\"mw-redirect\" href=\"/wiki/Bay_Park,_San_Diego\" title=\"Bay Park, San Diego\">Bay Park</a>,\n",
       " <a href=\"/wiki/Birdland,_San_Diego\" title=\"Birdland, San Diego\">Birdland</a>,\n",
       " <a href=\"/wiki/Black_Mountain_Ranch,_San_Diego\" title=\"Black Mountain Ranch, San Diego\">Black Mountain Ranch</a>,\n",
       " <a class=\"mw-redirect\" href=\"/wiki/Border,_San_Diego\" title=\"Border, San Diego\">Border</a>,\n",
       " <a href=\"/wiki/Burlingame,_San_Diego\" title=\"Burlingame, San Diego\">Burlingame</a>,\n",
       " <a href=\"/wiki/Carmel_Mountain_Ranch,_San_Diego\" title=\"Carmel Mountain Ranch, San Diego\">Carmel Mountain Ranch</a>,\n",
       " <a href=\"/wiki/Carmel_Valley,_San_Diego\" title=\"Carmel Valley, San Diego\">Carmel Valley</a>,\n",
       " <a href=\"/wiki/City_Heights,_San_Diego\" title=\"City Heights, San Diego\">City Heights</a>,\n",
       " <a href=\"/wiki/Clairemont,_San_Diego\" title=\"Clairemont, San Diego\">Clairemont</a>,\n",
       " <a href=\"/wiki/College_Area,_San_Diego\" title=\"College Area, San Diego\">College Area</a>,\n",
       " <a href=\"/wiki/Del_Mar_Heights,_San_Diego\" title=\"Del Mar Heights, San Diego\">Del Mar Heights</a>,\n",
       " <a href=\"/wiki/Del_Mar_Mesa,_San_Diego\" title=\"Del Mar Mesa, San Diego\">Del Mar Mesa</a>,\n",
       " <a href=\"/wiki/Downtown_San_Diego\" title=\"Downtown San Diego\">Downtown San Diego (Centre City)</a>,\n",
       " <a href=\"/wiki/Columbia,_San_Diego\" title=\"Columbia, San Diego\">Columbia</a>,\n",
       " <a href=\"/wiki/Core,_San_Diego\" title=\"Core, San Diego\">Core</a>,\n",
       " <a href=\"/wiki/Cortez_Hill,_San_Diego\" title=\"Cortez Hill, San Diego\">Cortez Hill</a>,\n",
       " <a href=\"/wiki/East_Village,_San_Diego\" title=\"East Village, San Diego\">East Village</a>,\n",
       " <a href=\"/wiki/Gaslamp_Quarter,_San_Diego\" title=\"Gaslamp Quarter, San Diego\">Gaslamp Quarter</a>,\n",
       " <a class=\"new\" href=\"/w/index.php?title=Horton_Plaza,_San_Diego&amp;action=edit&amp;redlink=1\" title=\"Horton Plaza, San Diego (page does not exist)\">Horton Plaza</a>,\n",
       " <a href=\"/wiki/Little_Italy,_San_Diego\" title=\"Little Italy, San Diego\">Little Italy</a>,\n",
       " <a href=\"/wiki/Marina,_San_Diego\" title=\"Marina, San Diego\">Marina</a>,\n",
       " <a href=\"/wiki/East_Elliott,_San_Diego\" title=\"East Elliott, San Diego\">East Elliott</a>,\n",
       " <a href=\"/wiki/Egger_Highlands,_San_Diego\" title=\"Egger Highlands, San Diego\">Egger Highlands</a>,\n",
       " <a href=\"/wiki/El_Cerrito,_San_Diego\" title=\"El Cerrito, San Diego\">El Cerrito</a>,\n",
       " <a href=\"/wiki/Gateway,_San_Diego\" title=\"Gateway, San Diego\">Gateway</a>,\n",
       " <a href=\"/wiki/Golden_Hill,_San_Diego\" title=\"Golden Hill, San Diego\">Golden Hill</a>,\n",
       " <a href=\"/wiki/Grant_Hill,_San_Diego\" title=\"Grant Hill, San Diego\">Grant Hill</a>,\n",
       " <a href=\"/wiki/Harbor_Island,_San_Diego\" title=\"Harbor Island, San Diego\">Harbor Island</a>,\n",
       " <a href=\"/wiki/Harborview,_San_Diego\" title=\"Harborview, San Diego\">Harborview</a>,\n",
       " <a href=\"/wiki/Hillcrest,_San_Diego\" title=\"Hillcrest, San Diego\">Hillcrest</a>,\n",
       " <a href=\"/wiki/Kearny_Mesa,_San_Diego\" title=\"Kearny Mesa, San Diego\">Kearny Mesa</a>,\n",
       " <a href=\"/wiki/Kensington,_San_Diego\" title=\"Kensington, San Diego\">Kensington</a>,\n",
       " <a href=\"/wiki/La_Jolla\" title=\"La Jolla\">La Jolla</a>,\n",
       " <a href=\"/wiki/La_Jolla_Village,_San_Diego\" title=\"La Jolla Village, San Diego\">La Jolla Village</a>,\n",
       " <a href=\"/wiki/Torrey_Pines,_San_Diego\" title=\"Torrey Pines, San Diego\">Torrey Pines</a>,\n",
       " <a href=\"/wiki/Village_of_La_Jolla\" title=\"Village of La Jolla\">Village of La Jolla</a>,\n",
       " <a class=\"new\" href=\"/w/index.php?title=Lake_Murray,_San_Diego&amp;action=edit&amp;redlink=1\" title=\"Lake Murray, San Diego (page does not exist)\">Lake Murray</a>,\n",
       " <a href=\"/wiki/Linda_Vista,_San_Diego\" title=\"Linda Vista, San Diego\">Linda Vista</a>,\n",
       " <a href=\"/wiki/Logan_Heights,_San_Diego\" title=\"Logan Heights, San Diego\">Logan Heights</a>,\n",
       " <a class=\"mw-redirect\" href=\"/wiki/Marston_Hills\" title=\"Marston Hills\">Marston Hills</a>,\n",
       " <a href=\"/wiki/Memorial,_San_Diego\" title=\"Memorial, San Diego\">Memorial</a>,\n",
       " <a href=\"/wiki/Midtown,_San_Diego\" title=\"Midtown, San Diego\">Midtown</a>,\n",
       " <a href=\"/wiki/Mira_Mesa,_San_Diego\" title=\"Mira Mesa, San Diego\">Mira Mesa</a>,\n",
       " <a href=\"/wiki/Miramar,_San_Diego\" title=\"Miramar, San Diego\">Miramar</a>,\n",
       " <a href=\"/wiki/Mission_Beach,_San_Diego\" title=\"Mission Beach, San Diego\">Mission Beach</a>,\n",
       " <a href=\"/wiki/Mission_Hills,_San_Diego\" title=\"Mission Hills, San Diego\">Mission Hills</a>,\n",
       " <a href=\"/wiki/Mission_Valley,_San_Diego\" title=\"Mission Valley, San Diego\">Mission Valley</a>,\n",
       " <a class=\"mw-redirect\" href=\"/wiki/Civita_(San_Diego,_California)\" title=\"Civita (San Diego, California)\">Civita</a>,\n",
       " <a href=\"/wiki/Morena,_San_Diego\" title=\"Morena, San Diego\">Morena</a>,\n",
       " <a href=\"/wiki/Navajo,_San_Diego\" title=\"Navajo, San Diego\">Navajo</a>,\n",
       " <a href=\"/wiki/Allied_Gardens,_San_Diego\" title=\"Allied Gardens, San Diego\">Allied Gardens</a>,\n",
       " <a href=\"/wiki/Del_Cerro,_San_Diego\" title=\"Del Cerro, San Diego\">Del Cerro</a>,\n",
       " <a href=\"/wiki/Grantville,_San_Diego\" title=\"Grantville, San Diego\">Grantville</a>,\n",
       " <a href=\"/wiki/San_Carlos,_San_Diego\" title=\"San Carlos, San Diego\">San Carlos</a>,\n",
       " <a href=\"/wiki/Nestor,_San_Diego\" title=\"Nestor, San Diego\">Nestor</a>,\n",
       " <a href=\"/wiki/Normal_Heights,_San_Diego\" title=\"Normal Heights, San Diego\">Normal Heights</a>,\n",
       " <a href=\"/wiki/North_City,_San_Diego\" title=\"North City, San Diego\">North City</a>,\n",
       " <a href=\"/wiki/North_Park,_San_Diego\" title=\"North Park, San Diego\">North Park</a>,\n",
       " <a class=\"mw-redirect\" href=\"/wiki/North_Clairemont,_San_Diego\" title=\"North Clairemont, San Diego\">North Clairemont</a>,\n",
       " <a href=\"/wiki/Oak_Park,_San_Diego\" title=\"Oak Park, San Diego\">Oak Park</a>,\n",
       " <a href=\"/wiki/Ocean_Beach,_San_Diego\" title=\"Ocean Beach, San Diego\">Ocean Beach</a>,\n",
       " <a class=\"mw-redirect\" href=\"/wiki/Ocean_Crest,_San_Diego\" title=\"Ocean Crest, San Diego\">Ocean Crest</a>,\n",
       " <a href=\"/wiki/Ocean_View_Hills,_San_Diego\" title=\"Ocean View Hills, San Diego\">Ocean View Hills</a>,\n",
       " <a href=\"/wiki/Old_Town,_San_Diego\" title=\"Old Town, San Diego\">Old Town</a>,\n",
       " <a href=\"/wiki/Otay_Mesa,_San_Diego\" title=\"Otay Mesa, San Diego\">Otay Mesa</a>,\n",
       " <a href=\"/wiki/Otay_Mesa_West,_San_Diego\" title=\"Otay Mesa West, San Diego\">Otay Mesa West</a>,\n",
       " <a href=\"/wiki/Pacific_Beach,_San_Diego\" title=\"Pacific Beach, San Diego\">Pacific Beach</a>,\n",
       " <a href=\"/wiki/Pacific_Highlands_Ranch,_San_Diego\" title=\"Pacific Highlands Ranch, San Diego\">Pacific Highlands Ranch</a>,\n",
       " <a href=\"/wiki/Palm_City,_San_Diego\" title=\"Palm City, San Diego\">Palm City</a>,\n",
       " <a class=\"mw-redirect\" href=\"/wiki/Point_Loma\" title=\"Point Loma\">Point Loma</a>,\n",
       " <a href=\"/wiki/La_Playa,_San_Diego\" title=\"La Playa, San Diego\">La Playa</a>,\n",
       " <a href=\"/wiki/Loma_Portal,_San_Diego\" title=\"Loma Portal, San Diego\">Loma Portal</a>,\n",
       " <a href=\"/wiki/Midway,_San_Diego\" title=\"Midway, San Diego\">Midway</a>,\n",
       " <a href=\"/wiki/Point_Loma_Heights,_San_Diego\" title=\"Point Loma Heights, San Diego\">Point Loma Heights</a>,\n",
       " <a href=\"/wiki/Roseville-Fleetridge,_San_Diego\" title=\"Roseville-Fleetridge, San Diego\">Roseville-Fleetridge</a>,\n",
       " <a href=\"/wiki/Sunset_Cliffs,_San_Diego\" title=\"Sunset Cliffs, San Diego\">Sunset Cliffs</a>,\n",
       " <a href=\"/wiki/Wooded_Area,_San_Diego\" title=\"Wooded Area, San Diego\">Wooded Area</a>,\n",
       " <a href=\"/wiki/Rancho_Bernardo,_San_Diego\" title=\"Rancho Bernardo, San Diego\">Rancho Bernardo</a>,\n",
       " <a href=\"/wiki/Rancho_Encantada,_San_Diego\" title=\"Rancho Encantada, San Diego\">Rancho Encantada</a>,\n",
       " <a href=\"/wiki/Rancho_Pe%C3%B1asquitos,_San_Diego\" title=\"Rancho Peñasquitos, San Diego\">Rancho Peñasquitos</a>,\n",
       " <a href=\"/wiki/Redwood_Village,_San_Diego\" title=\"Redwood Village, San Diego\">Redwood Village</a>,\n",
       " <a href=\"/wiki/Rolando,_San_Diego\" title=\"Rolando, San Diego\">Rolando</a>,\n",
       " <a href=\"/wiki/Rolando_Park,_San_Diego\" title=\"Rolando Park, San Diego\">Rolando Park</a>,\n",
       " <a href=\"/wiki/Sabre_Springs,_San_Diego\" title=\"Sabre Springs, San Diego\">Sabre Springs</a>,\n",
       " <a href=\"/wiki/San_Pasqual_Valley,_San_Diego\" title=\"San Pasqual Valley, San Diego\">San Pasqual Valley</a>,\n",
       " <a href=\"/wiki/San_Ysidro,_San_Diego\" title=\"San Ysidro, San Diego\">San Ysidro</a>,\n",
       " <a href=\"/wiki/Scripps_Ranch,_San_Diego\" title=\"Scripps Ranch, San Diego\">Scripps Ranch</a>,\n",
       " <a class=\"new\" href=\"/w/index.php?title=Miramar_Ranch_North,_San_Diego&amp;action=edit&amp;redlink=1\" title=\"Miramar Ranch North, San Diego (page does not exist)\">Miramar Ranch North</a>,\n",
       " <a class=\"new\" href=\"/w/index.php?title=Scripps_Miramar_Ranch,_San_Diego&amp;action=edit&amp;redlink=1\" title=\"Scripps Miramar Ranch, San Diego (page does not exist)\">Scripps Miramar Ranch</a>,\n",
       " <a href=\"/wiki/Serra_Mesa,_San_Diego\" title=\"Serra Mesa, San Diego\">Serra Mesa</a>,\n",
       " <a href=\"/wiki/Shelter_Island,_San_Diego\" title=\"Shelter Island, San Diego\">Shelter Island</a>,\n",
       " <a href=\"/wiki/Sherman_Heights,_San_Diego\" title=\"Sherman Heights, San Diego\">Sherman Heights</a>,\n",
       " <a href=\"/wiki/Sorrento_Mesa,_San_Diego\" title=\"Sorrento Mesa, San Diego\">Sorrento Mesa</a>,\n",
       " <a href=\"/wiki/Sorrento_Valley,_San_Diego\" title=\"Sorrento Valley, San Diego\">Sorrento Valley</a>,\n",
       " <a href=\"/wiki/South_Park,_San_Diego\" title=\"South Park, San Diego\">South Park</a>,\n",
       " <a href=\"/wiki/Southeast_San_Diego\" title=\"Southeast San Diego\">Southeast San Diego</a>,\n",
       " <a href=\"/wiki/Alta_Vista,_San_Diego\" title=\"Alta Vista, San Diego\">Alta Vista</a>,\n",
       " <a href=\"/wiki/Bay_Terraces,_San_Diego\" title=\"Bay Terraces, San Diego\">Bay Terraces</a>,\n",
       " <a href=\"/wiki/Broadway_Heights,_San_Diego\" title=\"Broadway Heights, San Diego\">Broadway Heights</a>,\n",
       " <a href=\"/wiki/Chollas_View,_San_Diego\" title=\"Chollas View, San Diego\">Chollas View</a>,\n",
       " <a href=\"/wiki/Emerald_Hills,_San_Diego\" title=\"Emerald Hills, San Diego\">Emerald Hills</a>,\n",
       " <a href=\"/wiki/Encanto,_San_Diego\" title=\"Encanto, San Diego\">Encanto</a>,\n",
       " <a href=\"/wiki/Jamacha,_San_Diego\" title=\"Jamacha, San Diego\">Jamacha</a>,\n",
       " <a href=\"/wiki/Lincoln_Park,_San_Diego\" title=\"Lincoln Park, San Diego\">Lincoln Park</a>,\n",
       " <a href=\"/wiki/Lomita,_San_Diego\" title=\"Lomita, San Diego\">Lomita</a>,\n",
       " <a href=\"/wiki/Mountain_View,_San_Diego\" title=\"Mountain View, San Diego\">Mountain View</a>,\n",
       " <a class=\"mw-redirect\" href=\"/wiki/Mt._Hope,_San_Diego\" title=\"Mt. Hope, San Diego\">Mt. Hope</a>,\n",
       " <a href=\"/wiki/Paradise_Hills,_San_Diego\" title=\"Paradise Hills, San Diego\">Paradise Hills</a>,\n",
       " <a href=\"/wiki/Shelltown,_San_Diego\" title=\"Shelltown, San Diego\">Shelltown</a>,\n",
       " <a href=\"/wiki/Skyline,_San_Diego\" title=\"Skyline, San Diego\">Skyline</a>,\n",
       " <a href=\"/wiki/Southcrest,_San_Diego\" title=\"Southcrest, San Diego\">Southcrest</a>,\n",
       " <a href=\"/wiki/Valencia_Park,_San_Diego\" title=\"Valencia Park, San Diego\">Valencia Park</a>,\n",
       " <a class=\"image\" href=\"/wiki/File:San_Diego_Community_Map.gif\"><img alt=\"\" class=\"thumbimage\" data-file-height=\"950\" data-file-width=\"500\" height=\"418\" src=\"//upload.wikimedia.org/wikipedia/commons/thumb/7/7c/San_Diego_Community_Map.gif/220px-San_Diego_Community_Map.gif\" srcset=\"//upload.wikimedia.org/wikipedia/commons/thumb/7/7c/San_Diego_Community_Map.gif/330px-San_Diego_Community_Map.gif 1.5x, //upload.wikimedia.org/wikipedia/commons/thumb/7/7c/San_Diego_Community_Map.gif/440px-San_Diego_Community_Map.gif 2x\" width=\"220\"/></a>,\n",
       " <a class=\"internal\" href=\"/wiki/File:San_Diego_Community_Map.gif\" title=\"Enlarge\"></a>,\n",
       " <a href=\"/wiki/Stockton,_San_Diego\" title=\"Stockton, San Diego\">Stockton</a>,\n",
       " <a href=\"/wiki/Talmadge,_San_Diego\" title=\"Talmadge, San Diego\">Talmadge</a>,\n",
       " <a href=\"/wiki/Tierrasanta,_San_Diego\" title=\"Tierrasanta, San Diego\">Tierrasanta</a>,\n",
       " <a href=\"/wiki/Tijuana_River_Valley,_San_Diego\" title=\"Tijuana River Valley, San Diego\">Tijuana River Valley</a>,\n",
       " <a href=\"/wiki/Torrey_Highlands,_San_Diego\" title=\"Torrey Highlands, San Diego\">Torrey Highlands</a>,\n",
       " <a href=\"/wiki/Torrey_Hills,_San_Diego\" title=\"Torrey Hills, San Diego\">Torrey Hills</a>,\n",
       " <a href=\"/wiki/University_City,_San_Diego\" title=\"University City, San Diego\">University City</a>,\n",
       " <a href=\"/wiki/University_Heights,_San_Diego\" title=\"University Heights, San Diego\">University Heights</a>,\n",
       " <a class=\"new\" href=\"/w/index.php?title=Uptown,_San_Diego&amp;action=edit&amp;redlink=1\" title=\"Uptown, San Diego (page does not exist)\">Uptown</a>,\n",
       " <a href=\"/wiki/Webster,_San_Diego\" title=\"Webster, San Diego\">Webster</a>]"
      ]
     },
     "execution_count": 55,
     "metadata": {},
     "output_type": "execute_result"
    }
   ],
   "source": [
    "ll"
   ]
  },
  {
   "cell_type": "code",
   "execution_count": 58,
   "metadata": {},
   "outputs": [],
   "source": [
    "solution = {}\n",
    "\n",
    "for row in table.findAll('a'):\n",
    "    \n",
    "    k = row.get('title')\n",
    "    href = row.get('href')\n",
    "\n",
    "    solution[k] = href"
   ]
  },
  {
   "cell_type": "code",
   "execution_count": 59,
   "metadata": {},
   "outputs": [
    {
     "data": {
      "text/plain": [
       "{'Balboa Park, San Diego': '/wiki/Balboa_Park,_San_Diego',\n",
       " 'Bankers Hill, San Diego': '/wiki/Bankers_Hill,_San_Diego',\n",
       " 'Barrio Logan, San Diego': '/wiki/Barrio_Logan,_San_Diego',\n",
       " 'Bay Ho, San Diego': '/wiki/Bay_Ho,_San_Diego',\n",
       " 'Bay Park, San Diego': '/wiki/Bay_Park,_San_Diego',\n",
       " 'Birdland, San Diego': '/wiki/Birdland,_San_Diego',\n",
       " 'Black Mountain Ranch, San Diego': '/wiki/Black_Mountain_Ranch,_San_Diego',\n",
       " 'Border, San Diego': '/wiki/Border,_San_Diego',\n",
       " 'Burlingame, San Diego': '/wiki/Burlingame,_San_Diego',\n",
       " 'Carmel Mountain Ranch, San Diego': '/wiki/Carmel_Mountain_Ranch,_San_Diego',\n",
       " 'Carmel Valley, San Diego': '/wiki/Carmel_Valley,_San_Diego',\n",
       " 'City Heights, San Diego': '/wiki/City_Heights,_San_Diego',\n",
       " 'Clairemont, San Diego': '/wiki/Clairemont,_San_Diego',\n",
       " 'College Area, San Diego': '/wiki/College_Area,_San_Diego',\n",
       " 'Del Mar Heights, San Diego': '/wiki/Del_Mar_Heights,_San_Diego',\n",
       " 'Del Mar Mesa, San Diego': '/wiki/Del_Mar_Mesa,_San_Diego',\n",
       " 'Downtown San Diego': '/wiki/Downtown_San_Diego',\n",
       " 'Columbia, San Diego': '/wiki/Columbia,_San_Diego',\n",
       " 'Core, San Diego': '/wiki/Core,_San_Diego',\n",
       " 'Cortez Hill, San Diego': '/wiki/Cortez_Hill,_San_Diego',\n",
       " 'East Village, San Diego': '/wiki/East_Village,_San_Diego',\n",
       " 'Gaslamp Quarter, San Diego': '/wiki/Gaslamp_Quarter,_San_Diego',\n",
       " 'Horton Plaza, San Diego (page does not exist)': '/w/index.php?title=Horton_Plaza,_San_Diego&action=edit&redlink=1',\n",
       " 'Little Italy, San Diego': '/wiki/Little_Italy,_San_Diego',\n",
       " 'Marina, San Diego': '/wiki/Marina,_San_Diego',\n",
       " 'East Elliott, San Diego': '/wiki/East_Elliott,_San_Diego',\n",
       " 'Egger Highlands, San Diego': '/wiki/Egger_Highlands,_San_Diego',\n",
       " 'El Cerrito, San Diego': '/wiki/El_Cerrito,_San_Diego',\n",
       " 'Gateway, San Diego': '/wiki/Gateway,_San_Diego',\n",
       " 'Golden Hill, San Diego': '/wiki/Golden_Hill,_San_Diego',\n",
       " 'Grant Hill, San Diego': '/wiki/Grant_Hill,_San_Diego',\n",
       " 'Harbor Island, San Diego': '/wiki/Harbor_Island,_San_Diego',\n",
       " 'Harborview, San Diego': '/wiki/Harborview,_San_Diego',\n",
       " 'Hillcrest, San Diego': '/wiki/Hillcrest,_San_Diego',\n",
       " 'Kearny Mesa, San Diego': '/wiki/Kearny_Mesa,_San_Diego',\n",
       " 'Kensington, San Diego': '/wiki/Kensington,_San_Diego',\n",
       " 'La Jolla': '/wiki/La_Jolla',\n",
       " 'La Jolla Village, San Diego': '/wiki/La_Jolla_Village,_San_Diego',\n",
       " 'Torrey Pines, San Diego': '/wiki/Torrey_Pines,_San_Diego',\n",
       " 'Village of La Jolla': '/wiki/Village_of_La_Jolla',\n",
       " 'Lake Murray, San Diego (page does not exist)': '/w/index.php?title=Lake_Murray,_San_Diego&action=edit&redlink=1',\n",
       " 'Linda Vista, San Diego': '/wiki/Linda_Vista,_San_Diego',\n",
       " 'Logan Heights, San Diego': '/wiki/Logan_Heights,_San_Diego',\n",
       " 'Marston Hills': '/wiki/Marston_Hills',\n",
       " 'Memorial, San Diego': '/wiki/Memorial,_San_Diego',\n",
       " 'Midtown, San Diego': '/wiki/Midtown,_San_Diego',\n",
       " 'Mira Mesa, San Diego': '/wiki/Mira_Mesa,_San_Diego',\n",
       " 'Miramar, San Diego': '/wiki/Miramar,_San_Diego',\n",
       " 'Mission Beach, San Diego': '/wiki/Mission_Beach,_San_Diego',\n",
       " 'Mission Hills, San Diego': '/wiki/Mission_Hills,_San_Diego',\n",
       " 'Mission Valley, San Diego': '/wiki/Mission_Valley,_San_Diego',\n",
       " 'Civita (San Diego, California)': '/wiki/Civita_(San_Diego,_California)',\n",
       " 'Morena, San Diego': '/wiki/Morena,_San_Diego',\n",
       " 'Navajo, San Diego': '/wiki/Navajo,_San_Diego',\n",
       " 'Allied Gardens, San Diego': '/wiki/Allied_Gardens,_San_Diego',\n",
       " 'Del Cerro, San Diego': '/wiki/Del_Cerro,_San_Diego',\n",
       " 'Grantville, San Diego': '/wiki/Grantville,_San_Diego',\n",
       " 'San Carlos, San Diego': '/wiki/San_Carlos,_San_Diego',\n",
       " 'Nestor, San Diego': '/wiki/Nestor,_San_Diego',\n",
       " 'Normal Heights, San Diego': '/wiki/Normal_Heights,_San_Diego',\n",
       " 'North City, San Diego': '/wiki/North_City,_San_Diego',\n",
       " 'North Park, San Diego': '/wiki/North_Park,_San_Diego',\n",
       " 'North Clairemont, San Diego': '/wiki/North_Clairemont,_San_Diego',\n",
       " 'Oak Park, San Diego': '/wiki/Oak_Park,_San_Diego',\n",
       " 'Ocean Beach, San Diego': '/wiki/Ocean_Beach,_San_Diego',\n",
       " 'Ocean Crest, San Diego': '/wiki/Ocean_Crest,_San_Diego',\n",
       " 'Ocean View Hills, San Diego': '/wiki/Ocean_View_Hills,_San_Diego',\n",
       " 'Old Town, San Diego': '/wiki/Old_Town,_San_Diego',\n",
       " 'Otay Mesa, San Diego': '/wiki/Otay_Mesa,_San_Diego',\n",
       " 'Otay Mesa West, San Diego': '/wiki/Otay_Mesa_West,_San_Diego',\n",
       " 'Pacific Beach, San Diego': '/wiki/Pacific_Beach,_San_Diego',\n",
       " 'Pacific Highlands Ranch, San Diego': '/wiki/Pacific_Highlands_Ranch,_San_Diego',\n",
       " 'Palm City, San Diego': '/wiki/Palm_City,_San_Diego',\n",
       " 'Point Loma': '/wiki/Point_Loma',\n",
       " 'La Playa, San Diego': '/wiki/La_Playa,_San_Diego',\n",
       " 'Loma Portal, San Diego': '/wiki/Loma_Portal,_San_Diego',\n",
       " 'Midway, San Diego': '/wiki/Midway,_San_Diego',\n",
       " 'Point Loma Heights, San Diego': '/wiki/Point_Loma_Heights,_San_Diego',\n",
       " 'Roseville-Fleetridge, San Diego': '/wiki/Roseville-Fleetridge,_San_Diego',\n",
       " 'Sunset Cliffs, San Diego': '/wiki/Sunset_Cliffs,_San_Diego',\n",
       " 'Wooded Area, San Diego': '/wiki/Wooded_Area,_San_Diego',\n",
       " 'Rancho Bernardo, San Diego': '/wiki/Rancho_Bernardo,_San_Diego',\n",
       " 'Rancho Encantada, San Diego': '/wiki/Rancho_Encantada,_San_Diego',\n",
       " 'Rancho Peñasquitos, San Diego': '/wiki/Rancho_Pe%C3%B1asquitos,_San_Diego',\n",
       " 'Redwood Village, San Diego': '/wiki/Redwood_Village,_San_Diego',\n",
       " 'Rolando, San Diego': '/wiki/Rolando,_San_Diego',\n",
       " 'Rolando Park, San Diego': '/wiki/Rolando_Park,_San_Diego',\n",
       " 'Sabre Springs, San Diego': '/wiki/Sabre_Springs,_San_Diego',\n",
       " 'San Pasqual Valley, San Diego': '/wiki/San_Pasqual_Valley,_San_Diego',\n",
       " 'San Ysidro, San Diego': '/wiki/San_Ysidro,_San_Diego',\n",
       " 'Scripps Ranch, San Diego': '/wiki/Scripps_Ranch,_San_Diego',\n",
       " 'Miramar Ranch North, San Diego (page does not exist)': '/w/index.php?title=Miramar_Ranch_North,_San_Diego&action=edit&redlink=1',\n",
       " 'Scripps Miramar Ranch, San Diego (page does not exist)': '/w/index.php?title=Scripps_Miramar_Ranch,_San_Diego&action=edit&redlink=1',\n",
       " 'Serra Mesa, San Diego': '/wiki/Serra_Mesa,_San_Diego',\n",
       " 'Shelter Island, San Diego': '/wiki/Shelter_Island,_San_Diego',\n",
       " 'Sherman Heights, San Diego': '/wiki/Sherman_Heights,_San_Diego',\n",
       " 'Sorrento Mesa, San Diego': '/wiki/Sorrento_Mesa,_San_Diego',\n",
       " 'Sorrento Valley, San Diego': '/wiki/Sorrento_Valley,_San_Diego',\n",
       " 'South Park, San Diego': '/wiki/South_Park,_San_Diego',\n",
       " 'Southeast San Diego': '/wiki/Southeast_San_Diego',\n",
       " 'Alta Vista, San Diego': '/wiki/Alta_Vista,_San_Diego',\n",
       " 'Bay Terraces, San Diego': '/wiki/Bay_Terraces,_San_Diego',\n",
       " 'Broadway Heights, San Diego': '/wiki/Broadway_Heights,_San_Diego',\n",
       " 'Chollas View, San Diego': '/wiki/Chollas_View,_San_Diego',\n",
       " 'Emerald Hills, San Diego': '/wiki/Emerald_Hills,_San_Diego',\n",
       " 'Encanto, San Diego': '/wiki/Encanto,_San_Diego',\n",
       " 'Jamacha, San Diego': '/wiki/Jamacha,_San_Diego',\n",
       " 'Lincoln Park, San Diego': '/wiki/Lincoln_Park,_San_Diego',\n",
       " 'Lomita, San Diego': '/wiki/Lomita,_San_Diego',\n",
       " 'Mountain View, San Diego': '/wiki/Mountain_View,_San_Diego',\n",
       " 'Mt. Hope, San Diego': '/wiki/Mt._Hope,_San_Diego',\n",
       " 'Paradise Hills, San Diego': '/wiki/Paradise_Hills,_San_Diego',\n",
       " 'Shelltown, San Diego': '/wiki/Shelltown,_San_Diego',\n",
       " 'Skyline, San Diego': '/wiki/Skyline,_San_Diego',\n",
       " 'Southcrest, San Diego': '/wiki/Southcrest,_San_Diego',\n",
       " 'Valencia Park, San Diego': '/wiki/Valencia_Park,_San_Diego',\n",
       " None: '/wiki/File:San_Diego_Community_Map.gif',\n",
       " 'Enlarge': '/wiki/File:San_Diego_Community_Map.gif',\n",
       " 'Stockton, San Diego': '/wiki/Stockton,_San_Diego',\n",
       " 'Talmadge, San Diego': '/wiki/Talmadge,_San_Diego',\n",
       " 'Tierrasanta, San Diego': '/wiki/Tierrasanta,_San_Diego',\n",
       " 'Tijuana River Valley, San Diego': '/wiki/Tijuana_River_Valley,_San_Diego',\n",
       " 'Torrey Highlands, San Diego': '/wiki/Torrey_Highlands,_San_Diego',\n",
       " 'Torrey Hills, San Diego': '/wiki/Torrey_Hills,_San_Diego',\n",
       " 'University City, San Diego': '/wiki/University_City,_San_Diego',\n",
       " 'University Heights, San Diego': '/wiki/University_Heights,_San_Diego',\n",
       " 'Uptown, San Diego (page does not exist)': '/w/index.php?title=Uptown,_San_Diego&action=edit&redlink=1',\n",
       " 'Webster, San Diego': '/wiki/Webster,_San_Diego'}"
      ]
     },
     "execution_count": 59,
     "metadata": {},
     "output_type": "execute_result"
    }
   ],
   "source": [
    "solution"
   ]
  },
  {
   "cell_type": "markdown",
   "metadata": {},
   "source": [
    "### Communities - Part 1\n",
    "\n",
    "Create a dictionary called `communities`, and fill it with the communities information, as above. \n",
    "\n",
    "From your `soup` object, use the find_all method to find all the links. \n",
    "\n",
    "Using that, you can loop through all links, to collect them into a dictionary.\n",
    "\n",
    "For a first pass, don't worry about sub-selecting links, just get all links on the page. "
   ]
  },
  {
   "cell_type": "code",
   "execution_count": null,
   "metadata": {
    "collapsed": true
   },
   "outputs": [],
   "source": [
    "# YOU CODE HERE\n"
   ]
  },
  {
   "cell_type": "code",
   "execution_count": 61,
   "metadata": {},
   "outputs": [
    {
     "data": {
      "text/plain": [
       "{'Balboa Park, San Diego': '/wiki/Balboa_Park,_San_Diego',\n",
       " 'Bankers Hill, San Diego': '/wiki/Bankers_Hill,_San_Diego',\n",
       " 'Barrio Logan, San Diego': '/wiki/Barrio_Logan,_San_Diego',\n",
       " 'Bay Ho, San Diego': '/wiki/Bay_Ho,_San_Diego',\n",
       " 'Bay Park, San Diego': '/wiki/Bay_Park,_San_Diego',\n",
       " 'Birdland, San Diego': '/wiki/Birdland,_San_Diego',\n",
       " 'Black Mountain Ranch, San Diego': '/wiki/Black_Mountain_Ranch,_San_Diego',\n",
       " 'Border, San Diego': '/wiki/Border,_San_Diego',\n",
       " 'Burlingame, San Diego': '/wiki/Burlingame,_San_Diego',\n",
       " 'Carmel Mountain Ranch, San Diego': '/wiki/Carmel_Mountain_Ranch,_San_Diego',\n",
       " 'Carmel Valley, San Diego': '/wiki/Carmel_Valley,_San_Diego',\n",
       " 'City Heights, San Diego': '/wiki/City_Heights,_San_Diego',\n",
       " 'Clairemont, San Diego': '/wiki/Clairemont,_San_Diego',\n",
       " 'College Area, San Diego': '/wiki/College_Area,_San_Diego',\n",
       " 'Del Mar Heights, San Diego': '/wiki/Del_Mar_Heights,_San_Diego',\n",
       " 'Del Mar Mesa, San Diego': '/wiki/Del_Mar_Mesa,_San_Diego',\n",
       " 'Downtown San Diego': '/wiki/Downtown_San_Diego',\n",
       " 'Columbia, San Diego': '/wiki/Columbia,_San_Diego',\n",
       " 'Core, San Diego': '/wiki/Core,_San_Diego',\n",
       " 'Cortez Hill, San Diego': '/wiki/Cortez_Hill,_San_Diego',\n",
       " 'East Village, San Diego': '/wiki/East_Village,_San_Diego',\n",
       " 'Gaslamp Quarter, San Diego': '/wiki/Gaslamp_Quarter,_San_Diego',\n",
       " 'Horton Plaza, San Diego (page does not exist)': '/w/index.php?title=Horton_Plaza,_San_Diego&action=edit&redlink=1',\n",
       " 'Little Italy, San Diego': '/wiki/Little_Italy,_San_Diego',\n",
       " 'Marina, San Diego': '/wiki/Marina,_San_Diego',\n",
       " 'East Elliott, San Diego': '/wiki/East_Elliott,_San_Diego',\n",
       " 'Egger Highlands, San Diego': '/wiki/Egger_Highlands,_San_Diego',\n",
       " 'El Cerrito, San Diego': '/wiki/El_Cerrito,_San_Diego',\n",
       " 'Gateway, San Diego': '/wiki/Gateway,_San_Diego',\n",
       " 'Golden Hill, San Diego': '/wiki/Golden_Hill,_San_Diego',\n",
       " 'Grant Hill, San Diego': '/wiki/Grant_Hill,_San_Diego',\n",
       " 'Harbor Island, San Diego': '/wiki/Harbor_Island,_San_Diego',\n",
       " 'Harborview, San Diego': '/wiki/Harborview,_San_Diego',\n",
       " 'Hillcrest, San Diego': '/wiki/Hillcrest,_San_Diego',\n",
       " 'Kearny Mesa, San Diego': '/wiki/Kearny_Mesa,_San_Diego',\n",
       " 'Kensington, San Diego': '/wiki/Kensington,_San_Diego',\n",
       " 'La Jolla': '/wiki/La_Jolla',\n",
       " 'La Jolla Village, San Diego': '/wiki/La_Jolla_Village,_San_Diego',\n",
       " 'Torrey Pines, San Diego': '/wiki/Torrey_Pines,_San_Diego',\n",
       " 'Village of La Jolla': '/wiki/Village_of_La_Jolla',\n",
       " 'Lake Murray, San Diego (page does not exist)': '/w/index.php?title=Lake_Murray,_San_Diego&action=edit&redlink=1',\n",
       " 'Linda Vista, San Diego': '/wiki/Linda_Vista,_San_Diego',\n",
       " 'Logan Heights, San Diego': '/wiki/Logan_Heights,_San_Diego',\n",
       " 'Marston Hills': '/wiki/Marston_Hills',\n",
       " 'Memorial, San Diego': '/wiki/Memorial,_San_Diego',\n",
       " 'Midtown, San Diego': '/wiki/Midtown,_San_Diego',\n",
       " 'Mira Mesa, San Diego': '/wiki/Mira_Mesa,_San_Diego',\n",
       " 'Miramar, San Diego': '/wiki/Miramar,_San_Diego',\n",
       " 'Mission Beach, San Diego': '/wiki/Mission_Beach,_San_Diego',\n",
       " 'Mission Hills, San Diego': '/wiki/Mission_Hills,_San_Diego',\n",
       " 'Mission Valley, San Diego': '/wiki/Mission_Valley,_San_Diego',\n",
       " 'Civita (San Diego, California)': '/wiki/Civita_(San_Diego,_California)',\n",
       " 'Morena, San Diego': '/wiki/Morena,_San_Diego',\n",
       " 'Navajo, San Diego': '/wiki/Navajo,_San_Diego',\n",
       " 'Allied Gardens, San Diego': '/wiki/Allied_Gardens,_San_Diego',\n",
       " 'Del Cerro, San Diego': '/wiki/Del_Cerro,_San_Diego',\n",
       " 'Grantville, San Diego': '/wiki/Grantville,_San_Diego',\n",
       " 'San Carlos, San Diego': '/wiki/San_Carlos,_San_Diego',\n",
       " 'Nestor, San Diego': '/wiki/Nestor,_San_Diego',\n",
       " 'Normal Heights, San Diego': '/wiki/Normal_Heights,_San_Diego',\n",
       " 'North City, San Diego': '/wiki/North_City,_San_Diego',\n",
       " 'North Park, San Diego': '/wiki/North_Park,_San_Diego',\n",
       " 'North Clairemont, San Diego': '/wiki/North_Clairemont,_San_Diego',\n",
       " 'Oak Park, San Diego': '/wiki/Oak_Park,_San_Diego',\n",
       " 'Ocean Beach, San Diego': '/wiki/Ocean_Beach,_San_Diego',\n",
       " 'Ocean Crest, San Diego': '/wiki/Ocean_Crest,_San_Diego',\n",
       " 'Ocean View Hills, San Diego': '/wiki/Ocean_View_Hills,_San_Diego',\n",
       " 'Old Town, San Diego': '/wiki/Old_Town,_San_Diego',\n",
       " 'Otay Mesa, San Diego': '/wiki/Otay_Mesa,_San_Diego',\n",
       " 'Otay Mesa West, San Diego': '/wiki/Otay_Mesa_West,_San_Diego',\n",
       " 'Pacific Beach, San Diego': '/wiki/Pacific_Beach,_San_Diego',\n",
       " 'Pacific Highlands Ranch, San Diego': '/wiki/Pacific_Highlands_Ranch,_San_Diego',\n",
       " 'Palm City, San Diego': '/wiki/Palm_City,_San_Diego',\n",
       " 'Point Loma': '/wiki/Point_Loma',\n",
       " 'La Playa, San Diego': '/wiki/La_Playa,_San_Diego',\n",
       " 'Loma Portal, San Diego': '/wiki/Loma_Portal,_San_Diego',\n",
       " 'Midway, San Diego': '/wiki/Midway,_San_Diego',\n",
       " 'Point Loma Heights, San Diego': '/wiki/Point_Loma_Heights,_San_Diego',\n",
       " 'Roseville-Fleetridge, San Diego': '/wiki/Roseville-Fleetridge,_San_Diego',\n",
       " 'Sunset Cliffs, San Diego': '/wiki/Sunset_Cliffs,_San_Diego',\n",
       " 'Wooded Area, San Diego': '/wiki/Wooded_Area,_San_Diego',\n",
       " 'Rancho Bernardo, San Diego': '/wiki/Rancho_Bernardo,_San_Diego',\n",
       " 'Rancho Encantada, San Diego': '/wiki/Rancho_Encantada,_San_Diego',\n",
       " 'Rancho Peñasquitos, San Diego': '/wiki/Rancho_Pe%C3%B1asquitos,_San_Diego',\n",
       " 'Redwood Village, San Diego': '/wiki/Redwood_Village,_San_Diego',\n",
       " 'Rolando, San Diego': '/wiki/Rolando,_San_Diego',\n",
       " 'Rolando Park, San Diego': '/wiki/Rolando_Park,_San_Diego',\n",
       " 'Sabre Springs, San Diego': '/wiki/Sabre_Springs,_San_Diego',\n",
       " 'San Pasqual Valley, San Diego': '/wiki/San_Pasqual_Valley,_San_Diego',\n",
       " 'San Ysidro, San Diego': '/wiki/San_Ysidro,_San_Diego',\n",
       " 'Scripps Ranch, San Diego': '/wiki/Scripps_Ranch,_San_Diego',\n",
       " 'Miramar Ranch North, San Diego (page does not exist)': '/w/index.php?title=Miramar_Ranch_North,_San_Diego&action=edit&redlink=1',\n",
       " 'Scripps Miramar Ranch, San Diego (page does not exist)': '/w/index.php?title=Scripps_Miramar_Ranch,_San_Diego&action=edit&redlink=1',\n",
       " 'Serra Mesa, San Diego': '/wiki/Serra_Mesa,_San_Diego',\n",
       " 'Shelter Island, San Diego': '/wiki/Shelter_Island,_San_Diego',\n",
       " 'Sherman Heights, San Diego': '/wiki/Sherman_Heights,_San_Diego',\n",
       " 'Sorrento Mesa, San Diego': '/wiki/Sorrento_Mesa,_San_Diego',\n",
       " 'Sorrento Valley, San Diego': '/wiki/Sorrento_Valley,_San_Diego',\n",
       " 'South Park, San Diego': '/wiki/South_Park,_San_Diego',\n",
       " 'Southeast San Diego': '/wiki/Southeast_San_Diego',\n",
       " 'Alta Vista, San Diego': '/wiki/Alta_Vista,_San_Diego',\n",
       " 'Bay Terraces, San Diego': '/wiki/Bay_Terraces,_San_Diego',\n",
       " 'Broadway Heights, San Diego': '/wiki/Broadway_Heights,_San_Diego',\n",
       " 'Chollas View, San Diego': '/wiki/Chollas_View,_San_Diego',\n",
       " 'Emerald Hills, San Diego': '/wiki/Emerald_Hills,_San_Diego',\n",
       " 'Encanto, San Diego': '/wiki/Encanto,_San_Diego',\n",
       " 'Jamacha, San Diego': '/wiki/Jamacha,_San_Diego',\n",
       " 'Lincoln Park, San Diego': '/wiki/Lincoln_Park,_San_Diego',\n",
       " 'Lomita, San Diego': '/wiki/Lomita,_San_Diego',\n",
       " 'Mountain View, San Diego': '/wiki/Mountain_View,_San_Diego',\n",
       " 'Mt. Hope, San Diego': '/wiki/Mt._Hope,_San_Diego',\n",
       " 'Paradise Hills, San Diego': '/wiki/Paradise_Hills,_San_Diego',\n",
       " 'Shelltown, San Diego': '/wiki/Shelltown,_San_Diego',\n",
       " 'Skyline, San Diego': '/wiki/Skyline,_San_Diego',\n",
       " 'Southcrest, San Diego': '/wiki/Southcrest,_San_Diego',\n",
       " 'Valencia Park, San Diego': '/wiki/Valencia_Park,_San_Diego',\n",
       " None: '/wiki/File:San_Diego_Community_Map.gif',\n",
       " 'Enlarge': '/wiki/File:San_Diego_Community_Map.gif',\n",
       " 'Stockton, San Diego': '/wiki/Stockton,_San_Diego',\n",
       " 'Talmadge, San Diego': '/wiki/Talmadge,_San_Diego',\n",
       " 'Tierrasanta, San Diego': '/wiki/Tierrasanta,_San_Diego',\n",
       " 'Tijuana River Valley, San Diego': '/wiki/Tijuana_River_Valley,_San_Diego',\n",
       " 'Torrey Highlands, San Diego': '/wiki/Torrey_Highlands,_San_Diego',\n",
       " 'Torrey Hills, San Diego': '/wiki/Torrey_Hills,_San_Diego',\n",
       " 'University City, San Diego': '/wiki/University_City,_San_Diego',\n",
       " 'University Heights, San Diego': '/wiki/University_Heights,_San_Diego',\n",
       " 'Uptown, San Diego (page does not exist)': '/w/index.php?title=Uptown,_San_Diego&action=edit&redlink=1',\n",
       " 'Webster, San Diego': '/wiki/Webster,_San_Diego'}"
      ]
     },
     "execution_count": 61,
     "metadata": {},
     "output_type": "execute_result"
    }
   ],
   "source": [
    "# Check the resulting dictionary\n",
    "solution"
   ]
  },
  {
   "cell_type": "markdown",
   "metadata": {},
   "source": [
    "### Communities - Part 2\n",
    "\n",
    "If you did the part above, extracting links, you probably realized that you extracted a whole bunch of links you don't really want, for example, links from the side bar.\n",
    "\n",
    "Figure out how to sub-select the part of the page that includes the table with all the links, and then run the the same link extraction on that specific part of the page. This should allow you to only extact the relevant links. "
   ]
  },
  {
   "cell_type": "code",
   "execution_count": null,
   "metadata": {
    "collapsed": true
   },
   "outputs": [],
   "source": [
    "# YOUR CODE HERE\n"
   ]
  },
  {
   "cell_type": "code",
   "execution_count": null,
   "metadata": {
    "collapsed": true
   },
   "outputs": [],
   "source": [
    "# Check out the results\n",
    "communities"
   ]
  },
  {
   "cell_type": "markdown",
   "metadata": {},
   "source": [
    "### Communities - Part 3\n",
    "\n",
    "You now have a dictionary of neighbourhoods in San Diego, and links to their respective pages on wikipedia.\n",
    "\n",
    "See if you can loop through the list of links you have, and collect latitute and longitude data from each one (if available). \n",
    "\n",
    "I recommend you start by figuring out how to do this on an example page, and then put that in a loop."
   ]
  },
  {
   "cell_type": "code",
   "execution_count": null,
   "metadata": {
    "collapsed": true
   },
   "outputs": [],
   "source": [
    "# YOUR CODE HERE"
   ]
  },
  {
   "cell_type": "code",
   "execution_count": 64,
   "metadata": {},
   "outputs": [
    {
     "ename": "MissingSchema",
     "evalue": "Invalid URL '/wiki/Balboa_Park,_San_Diego': No schema supplied. Perhaps you meant http:///wiki/Balboa_Park,_San_Diego?",
     "output_type": "error",
     "traceback": [
      "\u001b[0;31m---------------------------------------------------------------------------\u001b[0m",
      "\u001b[0;31mMissingSchema\u001b[0m                             Traceback (most recent call last)",
      "\u001b[0;32m<ipython-input-64-48cf8cdb379a>\u001b[0m in \u001b[0;36m<module>\u001b[0;34m()\u001b[0m\n\u001b[1;32m      1\u001b[0m \u001b[0;32mfor\u001b[0m \u001b[0mkey\u001b[0m\u001b[0;34m,\u001b[0m \u001b[0mitem\u001b[0m \u001b[0;32min\u001b[0m \u001b[0msolution\u001b[0m\u001b[0;34m.\u001b[0m\u001b[0mitems\u001b[0m\u001b[0;34m(\u001b[0m\u001b[0;34m)\u001b[0m\u001b[0;34m:\u001b[0m\u001b[0;34m\u001b[0m\u001b[0m\n\u001b[0;32m----> 2\u001b[0;31m     \u001b[0mpage\u001b[0m \u001b[0;34m=\u001b[0m \u001b[0mrequests\u001b[0m\u001b[0;34m.\u001b[0m\u001b[0mget\u001b[0m\u001b[0;34m(\u001b[0m\u001b[0mitem\u001b[0m\u001b[0;34m)\u001b[0m\u001b[0;34m\u001b[0m\u001b[0m\n\u001b[0m\u001b[1;32m      3\u001b[0m     \u001b[0msoup\u001b[0m \u001b[0;34m=\u001b[0m \u001b[0mBeautifulSoup\u001b[0m\u001b[0;34m(\u001b[0m\u001b[0mpage\u001b[0m\u001b[0;34m.\u001b[0m\u001b[0mcontent\u001b[0m\u001b[0;34m,\u001b[0m \u001b[0;34m'html.parser'\u001b[0m\u001b[0;34m)\u001b[0m\u001b[0;34m\u001b[0m\u001b[0m\n\u001b[1;32m      4\u001b[0m     \u001b[0;31m#soup.find()\u001b[0m\u001b[0;34m\u001b[0m\u001b[0;34m\u001b[0m\u001b[0m\n",
      "\u001b[0;32m~/anaconda2/envs/py36/lib/python3.6/site-packages/requests/api.py\u001b[0m in \u001b[0;36mget\u001b[0;34m(url, params, **kwargs)\u001b[0m\n\u001b[1;32m     70\u001b[0m \u001b[0;34m\u001b[0m\u001b[0m\n\u001b[1;32m     71\u001b[0m     \u001b[0mkwargs\u001b[0m\u001b[0;34m.\u001b[0m\u001b[0msetdefault\u001b[0m\u001b[0;34m(\u001b[0m\u001b[0;34m'allow_redirects'\u001b[0m\u001b[0;34m,\u001b[0m \u001b[0;32mTrue\u001b[0m\u001b[0;34m)\u001b[0m\u001b[0;34m\u001b[0m\u001b[0m\n\u001b[0;32m---> 72\u001b[0;31m     \u001b[0;32mreturn\u001b[0m \u001b[0mrequest\u001b[0m\u001b[0;34m(\u001b[0m\u001b[0;34m'get'\u001b[0m\u001b[0;34m,\u001b[0m \u001b[0murl\u001b[0m\u001b[0;34m,\u001b[0m \u001b[0mparams\u001b[0m\u001b[0;34m=\u001b[0m\u001b[0mparams\u001b[0m\u001b[0;34m,\u001b[0m \u001b[0;34m**\u001b[0m\u001b[0mkwargs\u001b[0m\u001b[0;34m)\u001b[0m\u001b[0;34m\u001b[0m\u001b[0m\n\u001b[0m\u001b[1;32m     73\u001b[0m \u001b[0;34m\u001b[0m\u001b[0m\n\u001b[1;32m     74\u001b[0m \u001b[0;34m\u001b[0m\u001b[0m\n",
      "\u001b[0;32m~/anaconda2/envs/py36/lib/python3.6/site-packages/requests/api.py\u001b[0m in \u001b[0;36mrequest\u001b[0;34m(method, url, **kwargs)\u001b[0m\n\u001b[1;32m     56\u001b[0m     \u001b[0;31m# cases, and look like a memory leak in others.\u001b[0m\u001b[0;34m\u001b[0m\u001b[0;34m\u001b[0m\u001b[0m\n\u001b[1;32m     57\u001b[0m     \u001b[0;32mwith\u001b[0m \u001b[0msessions\u001b[0m\u001b[0;34m.\u001b[0m\u001b[0mSession\u001b[0m\u001b[0;34m(\u001b[0m\u001b[0;34m)\u001b[0m \u001b[0;32mas\u001b[0m \u001b[0msession\u001b[0m\u001b[0;34m:\u001b[0m\u001b[0;34m\u001b[0m\u001b[0m\n\u001b[0;32m---> 58\u001b[0;31m         \u001b[0;32mreturn\u001b[0m \u001b[0msession\u001b[0m\u001b[0;34m.\u001b[0m\u001b[0mrequest\u001b[0m\u001b[0;34m(\u001b[0m\u001b[0mmethod\u001b[0m\u001b[0;34m=\u001b[0m\u001b[0mmethod\u001b[0m\u001b[0;34m,\u001b[0m \u001b[0murl\u001b[0m\u001b[0;34m=\u001b[0m\u001b[0murl\u001b[0m\u001b[0;34m,\u001b[0m \u001b[0;34m**\u001b[0m\u001b[0mkwargs\u001b[0m\u001b[0;34m)\u001b[0m\u001b[0;34m\u001b[0m\u001b[0m\n\u001b[0m\u001b[1;32m     59\u001b[0m \u001b[0;34m\u001b[0m\u001b[0m\n\u001b[1;32m     60\u001b[0m \u001b[0;34m\u001b[0m\u001b[0m\n",
      "\u001b[0;32m~/anaconda2/envs/py36/lib/python3.6/site-packages/requests/sessions.py\u001b[0m in \u001b[0;36mrequest\u001b[0;34m(self, method, url, params, data, headers, cookies, files, auth, timeout, allow_redirects, proxies, hooks, stream, verify, cert, json)\u001b[0m\n\u001b[1;32m    496\u001b[0m             \u001b[0mhooks\u001b[0m\u001b[0;34m=\u001b[0m\u001b[0mhooks\u001b[0m\u001b[0;34m,\u001b[0m\u001b[0;34m\u001b[0m\u001b[0m\n\u001b[1;32m    497\u001b[0m         )\n\u001b[0;32m--> 498\u001b[0;31m         \u001b[0mprep\u001b[0m \u001b[0;34m=\u001b[0m \u001b[0mself\u001b[0m\u001b[0;34m.\u001b[0m\u001b[0mprepare_request\u001b[0m\u001b[0;34m(\u001b[0m\u001b[0mreq\u001b[0m\u001b[0;34m)\u001b[0m\u001b[0;34m\u001b[0m\u001b[0m\n\u001b[0m\u001b[1;32m    499\u001b[0m \u001b[0;34m\u001b[0m\u001b[0m\n\u001b[1;32m    500\u001b[0m         \u001b[0mproxies\u001b[0m \u001b[0;34m=\u001b[0m \u001b[0mproxies\u001b[0m \u001b[0;32mor\u001b[0m \u001b[0;34m{\u001b[0m\u001b[0;34m}\u001b[0m\u001b[0;34m\u001b[0m\u001b[0m\n",
      "\u001b[0;32m~/anaconda2/envs/py36/lib/python3.6/site-packages/requests/sessions.py\u001b[0m in \u001b[0;36mprepare_request\u001b[0;34m(self, request)\u001b[0m\n\u001b[1;32m    439\u001b[0m             \u001b[0mauth\u001b[0m\u001b[0;34m=\u001b[0m\u001b[0mmerge_setting\u001b[0m\u001b[0;34m(\u001b[0m\u001b[0mauth\u001b[0m\u001b[0;34m,\u001b[0m \u001b[0mself\u001b[0m\u001b[0;34m.\u001b[0m\u001b[0mauth\u001b[0m\u001b[0;34m)\u001b[0m\u001b[0;34m,\u001b[0m\u001b[0;34m\u001b[0m\u001b[0m\n\u001b[1;32m    440\u001b[0m             \u001b[0mcookies\u001b[0m\u001b[0;34m=\u001b[0m\u001b[0mmerged_cookies\u001b[0m\u001b[0;34m,\u001b[0m\u001b[0;34m\u001b[0m\u001b[0m\n\u001b[0;32m--> 441\u001b[0;31m             \u001b[0mhooks\u001b[0m\u001b[0;34m=\u001b[0m\u001b[0mmerge_hooks\u001b[0m\u001b[0;34m(\u001b[0m\u001b[0mrequest\u001b[0m\u001b[0;34m.\u001b[0m\u001b[0mhooks\u001b[0m\u001b[0;34m,\u001b[0m \u001b[0mself\u001b[0m\u001b[0;34m.\u001b[0m\u001b[0mhooks\u001b[0m\u001b[0;34m)\u001b[0m\u001b[0;34m,\u001b[0m\u001b[0;34m\u001b[0m\u001b[0m\n\u001b[0m\u001b[1;32m    442\u001b[0m         )\n\u001b[1;32m    443\u001b[0m         \u001b[0;32mreturn\u001b[0m \u001b[0mp\u001b[0m\u001b[0;34m\u001b[0m\u001b[0m\n",
      "\u001b[0;32m~/anaconda2/envs/py36/lib/python3.6/site-packages/requests/models.py\u001b[0m in \u001b[0;36mprepare\u001b[0;34m(self, method, url, headers, files, data, params, auth, cookies, hooks, json)\u001b[0m\n\u001b[1;32m    307\u001b[0m \u001b[0;34m\u001b[0m\u001b[0m\n\u001b[1;32m    308\u001b[0m         \u001b[0mself\u001b[0m\u001b[0;34m.\u001b[0m\u001b[0mprepare_method\u001b[0m\u001b[0;34m(\u001b[0m\u001b[0mmethod\u001b[0m\u001b[0;34m)\u001b[0m\u001b[0;34m\u001b[0m\u001b[0m\n\u001b[0;32m--> 309\u001b[0;31m         \u001b[0mself\u001b[0m\u001b[0;34m.\u001b[0m\u001b[0mprepare_url\u001b[0m\u001b[0;34m(\u001b[0m\u001b[0murl\u001b[0m\u001b[0;34m,\u001b[0m \u001b[0mparams\u001b[0m\u001b[0;34m)\u001b[0m\u001b[0;34m\u001b[0m\u001b[0m\n\u001b[0m\u001b[1;32m    310\u001b[0m         \u001b[0mself\u001b[0m\u001b[0;34m.\u001b[0m\u001b[0mprepare_headers\u001b[0m\u001b[0;34m(\u001b[0m\u001b[0mheaders\u001b[0m\u001b[0;34m)\u001b[0m\u001b[0;34m\u001b[0m\u001b[0m\n\u001b[1;32m    311\u001b[0m         \u001b[0mself\u001b[0m\u001b[0;34m.\u001b[0m\u001b[0mprepare_cookies\u001b[0m\u001b[0;34m(\u001b[0m\u001b[0mcookies\u001b[0m\u001b[0;34m)\u001b[0m\u001b[0;34m\u001b[0m\u001b[0m\n",
      "\u001b[0;32m~/anaconda2/envs/py36/lib/python3.6/site-packages/requests/models.py\u001b[0m in \u001b[0;36mprepare_url\u001b[0;34m(self, url, params)\u001b[0m\n\u001b[1;32m    381\u001b[0m             \u001b[0merror\u001b[0m \u001b[0;34m=\u001b[0m \u001b[0merror\u001b[0m\u001b[0;34m.\u001b[0m\u001b[0mformat\u001b[0m\u001b[0;34m(\u001b[0m\u001b[0mto_native_string\u001b[0m\u001b[0;34m(\u001b[0m\u001b[0murl\u001b[0m\u001b[0;34m,\u001b[0m \u001b[0;34m'utf8'\u001b[0m\u001b[0;34m)\u001b[0m\u001b[0;34m)\u001b[0m\u001b[0;34m\u001b[0m\u001b[0m\n\u001b[1;32m    382\u001b[0m \u001b[0;34m\u001b[0m\u001b[0m\n\u001b[0;32m--> 383\u001b[0;31m             \u001b[0;32mraise\u001b[0m \u001b[0mMissingSchema\u001b[0m\u001b[0;34m(\u001b[0m\u001b[0merror\u001b[0m\u001b[0;34m)\u001b[0m\u001b[0;34m\u001b[0m\u001b[0m\n\u001b[0m\u001b[1;32m    384\u001b[0m \u001b[0;34m\u001b[0m\u001b[0m\n\u001b[1;32m    385\u001b[0m         \u001b[0;32mif\u001b[0m \u001b[0;32mnot\u001b[0m \u001b[0mhost\u001b[0m\u001b[0;34m:\u001b[0m\u001b[0;34m\u001b[0m\u001b[0m\n",
      "\u001b[0;31mMissingSchema\u001b[0m: Invalid URL '/wiki/Balboa_Park,_San_Diego': No schema supplied. Perhaps you meant http:///wiki/Balboa_Park,_San_Diego?"
     ]
    }
   ],
   "source": [
    "for key, item in solution.items():\n",
    "    page = requests.get(item)\n",
    "    soup = BeautifulSoup(page.content, 'html.parser')\n",
    "    #soup.find()"
   ]
  },
  {
   "cell_type": "code",
   "execution_count": null,
   "metadata": {
    "collapsed": true
   },
   "outputs": [],
   "source": []
  },
  {
   "cell_type": "code",
   "execution_count": null,
   "metadata": {
    "collapsed": true
   },
   "outputs": [],
   "source": []
  },
  {
   "cell_type": "code",
   "execution_count": null,
   "metadata": {
    "collapsed": true
   },
   "outputs": [],
   "source": []
  },
  {
   "cell_type": "markdown",
   "metadata": {},
   "source": [
    "## San Diego Crime Stats Page\n",
    "\n",
    "Check out the San Diego crime stats page below. Let's try and get some data from it. \n",
    "\n",
    "From the landing page, pull all all the table data, storing it into a dictionary that encodes the type of crime, and the number. \n",
    "\n",
    "Hints:\n",
    "- Look for the HTML tag that holds the table data, and loop through all of those labels. \n",
    "- Using this approach, you can get all the table data by looping across one tag. "
   ]
  },
  {
   "cell_type": "code",
   "execution_count": null,
   "metadata": {
    "collapsed": true
   },
   "outputs": [],
   "source": [
    "# SD Crime stats page\n",
    "crime_stats_link = \"http://crimestats.arjis.org/default.aspx\""
   ]
  },
  {
   "cell_type": "code",
   "execution_count": null,
   "metadata": {
    "collapsed": true
   },
   "outputs": [],
   "source": [
    "# YOUR CODE HERE"
   ]
  },
  {
   "cell_type": "code",
   "execution_count": null,
   "metadata": {
    "collapsed": true
   },
   "outputs": [],
   "source": []
  },
  {
   "cell_type": "code",
   "execution_count": null,
   "metadata": {
    "collapsed": true
   },
   "outputs": [],
   "source": []
  },
  {
   "cell_type": "code",
   "execution_count": null,
   "metadata": {
    "collapsed": true
   },
   "outputs": [],
   "source": []
  },
  {
   "cell_type": "markdown",
   "metadata": {},
   "source": [
    "### Discussion\n",
    "\n",
    "The crime page above takes inputs to select dates and places. How could we programmatically enter queries into it, and get the results?"
   ]
  }
 ],
 "metadata": {
  "kernelspec": {
   "display_name": "Python 3",
   "language": "python",
   "name": "python3"
  },
  "language_info": {
   "codemirror_mode": {
    "name": "ipython",
    "version": 3
   },
   "file_extension": ".py",
   "mimetype": "text/x-python",
   "name": "python",
   "nbconvert_exporter": "python",
   "pygments_lexer": "ipython3",
   "version": "3.6.3"
  }
 },
 "nbformat": 4,
 "nbformat_minor": 2
}
