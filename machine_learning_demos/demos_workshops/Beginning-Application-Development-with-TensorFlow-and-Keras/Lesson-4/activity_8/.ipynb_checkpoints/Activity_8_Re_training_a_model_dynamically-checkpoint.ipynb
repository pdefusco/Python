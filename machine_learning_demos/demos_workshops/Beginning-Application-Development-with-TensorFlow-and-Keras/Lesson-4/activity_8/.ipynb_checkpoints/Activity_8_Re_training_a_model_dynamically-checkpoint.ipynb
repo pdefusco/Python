{
 "cells": [
  {
   "cell_type": "markdown",
   "metadata": {},
   "source": [
    "#### Magic Commands\n",
    "Magic commands (those that start with `%`) are commands that modify a configuration of Jupyter Notebooks. A number of magic commands are available by default (see list [here](http://ipython.readthedocs.io/en/stable/interactive/magics.html))--and many more can be added with extensions. The magic command added in this section allows `matplotlib` to display our plots directly on the browser instead of having to save them on a local file."
   ]
  },
  {
   "cell_type": "code",
   "execution_count": 1,
   "metadata": {
    "collapsed": true
   },
   "outputs": [],
   "source": [
    "%matplotlib inline"
   ]
  },
  {
   "cell_type": "markdown",
   "metadata": {},
   "source": [
    "# Activity 8: Re-training a model dynamically\n",
    "In this activity, we re-train our model every time new data is available.\n",
    "\n",
    "First, we start by importing `cryptonic`. Cryptonic is a simple software application developed for this course that implements all the steps up to this section using Python classes and modules. Consider Cryptonic a template on how you could develop similar applications."
   ]
  },
  {
   "cell_type": "code",
   "execution_count": 2,
   "metadata": {},
   "outputs": [
    {
     "name": "stdout",
     "output_type": "stream",
     "text": [
      "/Users/lcapelo/Dropbox/book/cryptonic\n"
     ]
    }
   ],
   "source": [
    "cd ../../cryptonic"
   ]
  },
  {
   "cell_type": "code",
   "execution_count": null,
   "metadata": {
    "collapsed": true
   },
   "outputs": [],
   "source": [
    "import pandas as pd"
   ]
  },
  {
   "cell_type": "code",
   "execution_count": 32,
   "metadata": {
    "collapsed": true
   },
   "outputs": [],
   "source": [
    "from tqdm import tqdm_notebook"
   ]
  },
  {
   "cell_type": "code",
   "execution_count": null,
   "metadata": {
    "collapsed": true
   },
   "outputs": [],
   "source": [
    "plt.style.use('seaborn-white')"
   ]
  },
  {
   "cell_type": "code",
   "execution_count": 4,
   "metadata": {},
   "outputs": [
    {
     "name": "stderr",
     "output_type": "stream",
     "text": [
      "Using TensorFlow backend.\n",
      "/usr/local/Cellar/python3/3.6.3/Frameworks/Python.framework/Versions/3.6/lib/python3.6/importlib/_bootstrap.py:219: RuntimeWarning: compiletime version 3.5 of module 'tensorflow.python.framework.fast_tensor_util' does not match runtime version 3.6\n",
      "  return f(*args, **kwds)\n"
     ]
    }
   ],
   "source": [
    "from cryptonic import Model\n",
    "from cryptonic import CoinMarketCap\n",
    "import cryptonic.models.normalizations as normalizations"
   ]
  },
  {
   "cell_type": "markdown",
   "metadata": {},
   "source": [
    "### Fecthing Real-time Data\n",
    "Throughout this project we have been using data originally provided by [CoinMarketCat](https://coinmarketcap.com/). We have created an interface for collecting both real-time and historical data as as part of `cryptonic`: the class `CoinMarketCap()`."
   ]
  },
  {
   "cell_type": "code",
   "execution_count": 5,
   "metadata": {},
   "outputs": [
    {
     "name": "stdout",
     "output_type": "stream",
     "text": [
      "\n",
      "\n",
      "        Crypto-currency data comes from the website CoinMarketCap.\n",
      "        CoinMarketCap is can be accessed at: https://coinmarketcap.com/\n",
      "\n",
      "        The permission to use the data is available on their FAQ\n",
      "\n",
      "            https://coinmarketcap.com/faq/\n",
      "\n",
      "        and reads:\n",
      "\n",
      "            \"Q: Am I allowed to use content (screenshots, data, graphs, etc.) \n",
      "            for one of my personal projects and/or commercial use?\n",
      "\n",
      "            R: Absolutely! Feel free to use any content as you see fit. \n",
      "            We kindly ask that you cite us as a source.\"\n",
      "        \n",
      "        \n"
     ]
    }
   ],
   "source": [
    "print(CoinMarketCap())"
   ]
  },
  {
   "cell_type": "markdown",
   "metadata": {},
   "source": [
    "Our model is designed to work with daily data. Let's go ahead and collect historic daily data from CoinMarketCap (this is the same data used previously)."
   ]
  },
  {
   "cell_type": "code",
   "execution_count": 6,
   "metadata": {
    "collapsed": true
   },
   "outputs": [],
   "source": [
    "historic_data = CoinMarketCap.historic()"
   ]
  },
  {
   "cell_type": "code",
   "execution_count": 7,
   "metadata": {},
   "outputs": [
    {
     "data": {
      "text/html": [
       "<div>\n",
       "<style scoped>\n",
       "    .dataframe tbody tr th:only-of-type {\n",
       "        vertical-align: middle;\n",
       "    }\n",
       "\n",
       "    .dataframe tbody tr th {\n",
       "        vertical-align: top;\n",
       "    }\n",
       "\n",
       "    .dataframe thead th {\n",
       "        text-align: right;\n",
       "    }\n",
       "</style>\n",
       "<table border=\"1\" class=\"dataframe\">\n",
       "  <thead>\n",
       "    <tr style=\"text-align: right;\">\n",
       "      <th></th>\n",
       "      <th>date</th>\n",
       "      <th>open</th>\n",
       "      <th>high</th>\n",
       "      <th>low</th>\n",
       "      <th>close</th>\n",
       "      <th>volume</th>\n",
       "      <th>market_cap</th>\n",
       "    </tr>\n",
       "  </thead>\n",
       "  <tbody>\n",
       "    <tr>\n",
       "      <th>0</th>\n",
       "      <td>2017-12-21</td>\n",
       "      <td>16642.4</td>\n",
       "      <td>17567.7</td>\n",
       "      <td>15342.7</td>\n",
       "      <td>15802.9</td>\n",
       "      <td>16516600000</td>\n",
       "      <td>278827000000</td>\n",
       "    </tr>\n",
       "    <tr>\n",
       "      <th>1</th>\n",
       "      <td>2017-12-20</td>\n",
       "      <td>17760.3</td>\n",
       "      <td>17934.7</td>\n",
       "      <td>16077.7</td>\n",
       "      <td>16624.6</td>\n",
       "      <td>22149700000</td>\n",
       "      <td>297526000000</td>\n",
       "    </tr>\n",
       "    <tr>\n",
       "      <th>2</th>\n",
       "      <td>2017-12-19</td>\n",
       "      <td>19118.3</td>\n",
       "      <td>19177.8</td>\n",
       "      <td>17275.4</td>\n",
       "      <td>17776.7</td>\n",
       "      <td>16894500000</td>\n",
       "      <td>320242000000</td>\n",
       "    </tr>\n",
       "  </tbody>\n",
       "</table>\n",
       "</div>"
      ],
      "text/plain": [
       "         date     open     high      low    close       volume    market_cap\n",
       "0  2017-12-21  16642.4  17567.7  15342.7  15802.9  16516600000  278827000000\n",
       "1  2017-12-20  17760.3  17934.7  16077.7  16624.6  22149700000  297526000000\n",
       "2  2017-12-19  19118.3  19177.8  17275.4  17776.7  16894500000  320242000000"
      ]
     },
     "execution_count": 7,
     "metadata": {},
     "output_type": "execute_result"
    }
   ],
   "source": [
    "historic_data.head(3)"
   ]
  },
  {
   "cell_type": "markdown",
   "metadata": {},
   "source": [
    "The data contains practically the same variables from our earlier dataset. However, much of the data comes from an earlier period. Recent Bitcoin prices have gained a lot of volatility if compared to the prices of a few years ago. Before using this data in our model, let's make sure to filter it to dates after January 1, 2017."
   ]
  },
  {
   "cell_type": "code",
   "execution_count": 8,
   "metadata": {
    "collapsed": true
   },
   "outputs": [],
   "source": [
    "#\n",
    "#  Using the Pandas API, filter the dataframe\n",
    "#  for observations from 2017 only. \n",
    "# \n",
    "#  Hint: use the `date` column / variable.\n",
    "#\n",
    "model_data = "
   ]
  },
  {
   "cell_type": "markdown",
   "metadata": {},
   "source": [
    "### The `Model()` Class\n",
    "We have also created the class `Model()` which compiles all the code we have written so far. We will use that class to build, train, and evaluate our model."
   ]
  },
  {
   "cell_type": "code",
   "execution_count": 9,
   "metadata": {
    "collapsed": true
   },
   "outputs": [],
   "source": [
    "M = Model(data=model_data,\n",
    "          variable='close',\n",
    "          predicted_period_size=7)"
   ]
  },
  {
   "cell_type": "code",
   "execution_count": 10,
   "metadata": {},
   "outputs": [
    {
     "data": {
      "text/plain": [
       "<keras.models.Sequential at 0x11da41a20>"
      ]
     },
     "execution_count": 10,
     "metadata": {},
     "output_type": "execute_result"
    }
   ],
   "source": [
    "M.build()"
   ]
  },
  {
   "cell_type": "code",
   "execution_count": 11,
   "metadata": {},
   "outputs": [
    {
     "name": "stdout",
     "output_type": "stream",
     "text": [
      "Epoch 1/100\n",
      "1/1 [==============================] - 1s 725ms/step - loss: 0.0115\n",
      "Epoch 2/100\n",
      "1/1 [==============================] - 0s 23ms/step - loss: 0.0100\n",
      "Epoch 3/100\n",
      "1/1 [==============================] - 0s 26ms/step - loss: 0.0091\n",
      "Epoch 4/100\n",
      "1/1 [==============================] - 0s 28ms/step - loss: 0.0083\n",
      "Epoch 5/100\n",
      "1/1 [==============================] - 0s 30ms/step - loss: 0.0077\n",
      "Epoch 6/100\n",
      "1/1 [==============================] - 0s 26ms/step - loss: 0.0072\n",
      "Epoch 7/100\n",
      "1/1 [==============================] - 0s 29ms/step - loss: 0.0068\n",
      "Epoch 8/100\n",
      "1/1 [==============================] - 0s 30ms/step - loss: 0.0064\n",
      "Epoch 9/100\n",
      "1/1 [==============================] - 0s 28ms/step - loss: 0.0060\n",
      "Epoch 10/100\n",
      "1/1 [==============================] - 0s 30ms/step - loss: 0.0056\n",
      "Epoch 11/100\n",
      "1/1 [==============================] - 0s 32ms/step - loss: 0.0053\n",
      "Epoch 12/100\n",
      "1/1 [==============================] - 0s 28ms/step - loss: 0.0050\n",
      "Epoch 13/100\n",
      "1/1 [==============================] - 0s 23ms/step - loss: 0.0047\n",
      "Epoch 14/100\n",
      "1/1 [==============================] - 0s 28ms/step - loss: 0.0045\n",
      "Epoch 15/100\n",
      "1/1 [==============================] - 0s 26ms/step - loss: 0.0042\n",
      "Epoch 16/100\n",
      "1/1 [==============================] - 0s 26ms/step - loss: 0.0039\n",
      "Epoch 17/100\n",
      "1/1 [==============================] - 0s 24ms/step - loss: 0.0037\n",
      "Epoch 18/100\n",
      "1/1 [==============================] - 0s 24ms/step - loss: 0.0035\n",
      "Epoch 19/100\n",
      "1/1 [==============================] - 0s 23ms/step - loss: 0.0033\n",
      "Epoch 20/100\n",
      "1/1 [==============================] - 0s 20ms/step - loss: 0.0031\n",
      "Epoch 21/100\n",
      "1/1 [==============================] - 0s 33ms/step - loss: 0.0029\n",
      "Epoch 22/100\n",
      "1/1 [==============================] - 0s 29ms/step - loss: 0.0027\n",
      "Epoch 23/100\n",
      "1/1 [==============================] - 0s 27ms/step - loss: 0.0025\n",
      "Epoch 24/100\n",
      "1/1 [==============================] - 0s 28ms/step - loss: 0.0024\n",
      "Epoch 25/100\n",
      "1/1 [==============================] - 0s 29ms/step - loss: 0.0022\n",
      "Epoch 26/100\n",
      "1/1 [==============================] - 0s 30ms/step - loss: 0.0020\n",
      "Epoch 27/100\n",
      "1/1 [==============================] - 0s 51ms/step - loss: 0.0019\n",
      "Epoch 28/100\n",
      "1/1 [==============================] - 0s 29ms/step - loss: 0.0018\n",
      "Epoch 29/100\n",
      "1/1 [==============================] - 0s 33ms/step - loss: 0.0016\n",
      "Epoch 30/100\n",
      "1/1 [==============================] - 0s 54ms/step - loss: 0.0015\n",
      "Epoch 31/100\n",
      "1/1 [==============================] - 0s 28ms/step - loss: 0.0014\n",
      "Epoch 32/100\n",
      "1/1 [==============================] - 0s 27ms/step - loss: 0.0013\n",
      "Epoch 33/100\n",
      "1/1 [==============================] - 0s 23ms/step - loss: 0.0012\n",
      "Epoch 34/100\n",
      "1/1 [==============================] - 0s 30ms/step - loss: 0.0011\n",
      "Epoch 35/100\n",
      "1/1 [==============================] - 0s 24ms/step - loss: 9.7218e-04\n",
      "Epoch 36/100\n",
      "1/1 [==============================] - 0s 24ms/step - loss: 8.8354e-04\n",
      "Epoch 37/100\n",
      "1/1 [==============================] - 0s 19ms/step - loss: 8.0053e-04\n",
      "Epoch 38/100\n",
      "1/1 [==============================] - 0s 24ms/step - loss: 7.2296e-04\n",
      "Epoch 39/100\n",
      "1/1 [==============================] - 0s 25ms/step - loss: 6.5062e-04\n",
      "Epoch 40/100\n",
      "1/1 [==============================] - 0s 19ms/step - loss: 5.8333e-04\n",
      "Epoch 41/100\n",
      "1/1 [==============================] - 0s 23ms/step - loss: 5.2091e-04\n",
      "Epoch 42/100\n",
      "1/1 [==============================] - 0s 19ms/step - loss: 4.6315e-04\n",
      "Epoch 43/100\n",
      "1/1 [==============================] - 0s 26ms/step - loss: 4.0989e-04\n",
      "Epoch 44/100\n",
      "1/1 [==============================] - 0s 21ms/step - loss: 3.6095e-04\n",
      "Epoch 45/100\n",
      "1/1 [==============================] - 0s 32ms/step - loss: 3.1617e-04\n",
      "Epoch 46/100\n",
      "1/1 [==============================] - 0s 27ms/step - loss: 2.7538e-04\n",
      "Epoch 47/100\n",
      "1/1 [==============================] - 0s 94ms/step - loss: 2.3841e-04\n",
      "Epoch 48/100\n",
      "1/1 [==============================] - 0s 43ms/step - loss: 2.0507e-04\n",
      "Epoch 49/100\n",
      "1/1 [==============================] - 0s 50ms/step - loss: 1.7520e-04\n",
      "Epoch 50/100\n",
      "1/1 [==============================] - 0s 26ms/step - loss: 1.4860e-04\n",
      "Epoch 51/100\n",
      "1/1 [==============================] - 0s 71ms/step - loss: 1.2508e-04\n",
      "Epoch 52/100\n",
      "1/1 [==============================] - 0s 34ms/step - loss: 1.0442e-04\n",
      "Epoch 53/100\n",
      "1/1 [==============================] - 0s 26ms/step - loss: 8.6432e-05\n",
      "Epoch 54/100\n",
      "1/1 [==============================] - 0s 29ms/step - loss: 7.0890e-05\n",
      "Epoch 55/100\n",
      "1/1 [==============================] - 0s 27ms/step - loss: 5.7584e-05\n",
      "Epoch 56/100\n",
      "1/1 [==============================] - 0s 25ms/step - loss: 4.6299e-05\n",
      "Epoch 57/100\n",
      "1/1 [==============================] - 0s 27ms/step - loss: 3.6824e-05\n",
      "Epoch 58/100\n",
      "1/1 [==============================] - 0s 34ms/step - loss: 2.8953e-05\n",
      "Epoch 59/100\n",
      "1/1 [==============================] - 0s 26ms/step - loss: 2.2488e-05\n",
      "Epoch 60/100\n",
      "1/1 [==============================] - 0s 27ms/step - loss: 1.7242e-05\n",
      "Epoch 61/100\n",
      "1/1 [==============================] - 0s 39ms/step - loss: 1.3040e-05\n",
      "Epoch 62/100\n",
      "1/1 [==============================] - 0s 35ms/step - loss: 9.7188e-06\n",
      "Epoch 63/100\n",
      "1/1 [==============================] - 0s 26ms/step - loss: 7.1320e-06\n",
      "Epoch 64/100\n",
      "1/1 [==============================] - 0s 26ms/step - loss: 5.1482e-06\n",
      "Epoch 65/100\n",
      "1/1 [==============================] - 0s 31ms/step - loss: 3.6515e-06\n",
      "Epoch 66/100\n",
      "1/1 [==============================] - 0s 34ms/step - loss: 2.5420e-06\n",
      "Epoch 67/100\n",
      "1/1 [==============================] - 0s 29ms/step - loss: 1.7348e-06\n",
      "Epoch 68/100\n",
      "1/1 [==============================] - 0s 26ms/step - loss: 1.1591e-06\n",
      "Epoch 69/100\n",
      "1/1 [==============================] - 0s 29ms/step - loss: 7.5721e-07\n",
      "Epoch 70/100\n",
      "1/1 [==============================] - 0s 24ms/step - loss: 4.8296e-07\n",
      "Epoch 71/100\n",
      "1/1 [==============================] - 0s 37ms/step - loss: 3.0026e-07\n",
      "Epoch 72/100\n",
      "1/1 [==============================] - 0s 54ms/step - loss: 1.8168e-07\n",
      "Epoch 73/100\n",
      "1/1 [==============================] - 0s 27ms/step - loss: 1.0686e-07\n",
      "Epoch 74/100\n",
      "1/1 [==============================] - 0s 32ms/step - loss: 6.1763e-08\n",
      "Epoch 75/100\n",
      "1/1 [==============================] - 0s 24ms/step - loss: 4.6115e-08\n",
      "Epoch 76/100\n",
      "1/1 [==============================] - 0s 33ms/step - loss: 2.1143e-07\n",
      "Epoch 77/100\n",
      "1/1 [==============================] - 0s 82ms/step - loss: 2.7336e-06\n",
      "Epoch 78/100\n",
      "1/1 [==============================] - 0s 30ms/step - loss: 1.2910e-05\n",
      "Epoch 79/100\n",
      "1/1 [==============================] - 0s 16ms/step - loss: 8.6495e-06\n",
      "Epoch 80/100\n",
      "1/1 [==============================] - 0s 26ms/step - loss: 3.4802e-06\n",
      "Epoch 81/100\n",
      "1/1 [==============================] - 0s 18ms/step - loss: 1.1579e-06\n",
      "Epoch 82/100\n",
      "1/1 [==============================] - 0s 35ms/step - loss: 4.9679e-07\n",
      "Epoch 83/100\n",
      "1/1 [==============================] - 0s 20ms/step - loss: 2.5648e-07\n",
      "Epoch 84/100\n",
      "1/1 [==============================] - 0s 27ms/step - loss: 1.7079e-07\n",
      "Epoch 85/100\n",
      "1/1 [==============================] - 0s 21ms/step - loss: 1.4123e-07\n",
      "Epoch 86/100\n",
      "1/1 [==============================] - 0s 26ms/step - loss: 1.4659e-07\n",
      "Epoch 87/100\n",
      "1/1 [==============================] - 0s 31ms/step - loss: 1.8629e-07\n",
      "Epoch 88/100\n",
      "1/1 [==============================] - 0s 30ms/step - loss: 2.8690e-07\n",
      "Epoch 89/100\n",
      "1/1 [==============================] - 0s 26ms/step - loss: 5.1857e-07\n",
      "Epoch 90/100\n",
      "1/1 [==============================] - 0s 27ms/step - loss: 1.0489e-06\n",
      "Epoch 91/100\n",
      "1/1 [==============================] - 0s 25ms/step - loss: 2.1955e-06\n",
      "Epoch 92/100\n",
      "1/1 [==============================] - 0s 26ms/step - loss: 4.2205e-06\n",
      "Epoch 93/100\n",
      "1/1 [==============================] - 0s 26ms/step - loss: 6.6804e-06\n",
      "Epoch 94/100\n",
      "1/1 [==============================] - 0s 23ms/step - loss: 7.8379e-06\n",
      "Epoch 95/100\n",
      "1/1 [==============================] - 0s 27ms/step - loss: 7.0294e-06\n",
      "Epoch 96/100\n",
      "1/1 [==============================] - 0s 26ms/step - loss: 5.2710e-06\n",
      "Epoch 97/100\n",
      "1/1 [==============================] - 0s 29ms/step - loss: 3.8085e-06\n",
      "Epoch 98/100\n",
      "1/1 [==============================] - 0s 44ms/step - loss: 2.8175e-06\n",
      "Epoch 99/100\n",
      "1/1 [==============================] - 0s 30ms/step - loss: 2.3051e-06\n",
      "Epoch 100/100\n",
      "1/1 [==============================] - 0s 26ms/step - loss: 2.0587e-06\n"
     ]
    },
    {
     "data": {
      "text/plain": [
       "<keras.callbacks.History at 0x11dfeef98>"
      ]
     },
     "execution_count": 11,
     "metadata": {},
     "output_type": "execute_result"
    }
   ],
   "source": [
    "M.train(epochs=100, verbose=1)"
   ]
  },
  {
   "cell_type": "markdown",
   "metadata": {},
   "source": [
    "We can now use the model for making predictions with the `predict()` method. The parameter `denormalized` will return values in the original scale of the data. In our case, US dollars."
   ]
  },
  {
   "cell_type": "code",
   "execution_count": 12,
   "metadata": {},
   "outputs": [
    {
     "data": {
      "text/plain": [
       "array([ 15785.41992188,  15281.00097656,  17791.39257812,  17695.06054688,\n",
       "        17869.8203125 ,  17855.71875   ,  17691.33203125], dtype=float32)"
      ]
     },
     "execution_count": 12,
     "metadata": {},
     "output_type": "execute_result"
    }
   ],
   "source": [
    "M.predict(denormalized=True)"
   ]
  },
  {
   "cell_type": "markdown",
   "metadata": {},
   "source": [
    "We now evaluate our model to inspect the statistics for the last epoch of training compared to a single test week."
   ]
  },
  {
   "cell_type": "code",
   "execution_count": 13,
   "metadata": {},
   "outputs": [
    {
     "data": {
      "text/plain": [
       "{'mape': 9.5899999999999999, 'mse': 0.0, 'rmse': 1713.98}"
      ]
     },
     "execution_count": 13,
     "metadata": {},
     "output_type": "execute_result"
    }
   ],
   "source": [
    "M.evaluate()"
   ]
  },
  {
   "cell_type": "markdown",
   "metadata": {},
   "source": [
    "Finally, we can now save the trained model on disk for later use."
   ]
  },
  {
   "cell_type": "code",
   "execution_count": 14,
   "metadata": {
    "collapsed": true
   },
   "outputs": [],
   "source": [
    "M.save('../lesson_4/activity_8/bitcoin_model_prod_v0.h5')"
   ]
  },
  {
   "cell_type": "markdown",
   "metadata": {},
   "source": [
    "Our `Model()` class can also load a previously trained model when instantiated with the `path` parameter."
   ]
  },
  {
   "cell_type": "code",
   "execution_count": 15,
   "metadata": {
    "collapsed": true
   },
   "outputs": [],
   "source": [
    "M = Model(path='../lesson_4/activity_8/bitcoin_model_prod_v0.h5',\n",
    "          data=model_data,\n",
    "          variable='close',\n",
    "          predicted_period_size=7)"
   ]
  },
  {
   "cell_type": "code",
   "execution_count": 16,
   "metadata": {},
   "outputs": [
    {
     "data": {
      "text/plain": [
       "array([ 15785.41992188,  15281.00097656,  17791.39257812,  17695.06054688,\n",
       "        17869.8203125 ,  17855.71875   ,  17691.33203125], dtype=float32)"
      ]
     },
     "execution_count": 16,
     "metadata": {},
     "output_type": "execute_result"
    }
   ],
   "source": [
    "M.predict(denormalized=True)"
   ]
  },
  {
   "cell_type": "markdown",
   "metadata": {},
   "source": [
    "### New Data, Re-train Old Model\n",
    "One strategy discussed earlier regards the re-training of our model with new data. In our case, our biggest concern is to shape data in a way that the model has been configured. As an example, we will configure our model to predict a week using 40 weeks. We will first train the model with the first 40 weeks of 2017, then continue to re-train it over the following weeks until we reach week 50."
   ]
  },
  {
   "cell_type": "code",
   "execution_count": 17,
   "metadata": {},
   "outputs": [
    {
     "name": "stdout",
     "output_type": "stream",
     "text": [
      "Number of full weeks: 50\n"
     ]
    }
   ],
   "source": [
    "print('Number of full weeks: {}'.format(len(model_data) // 7))"
   ]
  },
  {
   "cell_type": "markdown",
   "metadata": {},
   "source": [
    "First, let's build a model with the first set of data. Notice how we use `7*40 + 7` as the indexer. This is because we use 40 weeks for training and 1 week for testing. "
   ]
  },
  {
   "cell_type": "code",
   "execution_count": 18,
   "metadata": {
    "collapsed": true
   },
   "outputs": [],
   "source": [
    "M = Model(data=model_data[0*7:7*40 + 7],\n",
    "          variable='close',\n",
    "          predicted_period_size=7)"
   ]
  },
  {
   "cell_type": "code",
   "execution_count": 19,
   "metadata": {},
   "outputs": [
    {
     "data": {
      "text/plain": [
       "<keras.models.Sequential at 0x10ddf5a20>"
      ]
     },
     "execution_count": 19,
     "metadata": {},
     "output_type": "execute_result"
    }
   ],
   "source": [
    "M.build()"
   ]
  },
  {
   "cell_type": "code",
   "execution_count": 20,
   "metadata": {},
   "outputs": [
    {
     "data": {
      "text/plain": [
       "<keras.callbacks.History at 0x11dbad5f8>"
      ]
     },
     "execution_count": 20,
     "metadata": {},
     "output_type": "execute_result"
    }
   ],
   "source": [
    "M.train()"
   ]
  },
  {
   "cell_type": "code",
   "execution_count": 33,
   "metadata": {},
   "outputs": [
    {
     "data": {
      "application/vnd.jupyter.widget-view+json": {
       "model_id": "67e46369d52248ee802404f3446362cf",
       "version_major": 2,
       "version_minor": 0
      },
      "text/html": [
       "<p>Failed to display Jupyter Widget of type <code>HBox</code>.</p>\n",
       "<p>\n",
       "  If you're reading this message in the Jupyter Notebook or JupyterLab Notebook, it may mean\n",
       "  that the widgets JavaScript is still loading. If this message persists, it\n",
       "  likely means that the widgets JavaScript library is either not installed or\n",
       "  not enabled. See the <a href=\"https://ipywidgets.readthedocs.io/en/stable/user_install.html\">Jupyter\n",
       "  Widgets Documentation</a> for setup instructions.\n",
       "</p>\n",
       "<p>\n",
       "  If you're reading this message in another frontend (for example, a static\n",
       "  rendering on GitHub or <a href=\"https://nbviewer.jupyter.org/\">NBViewer</a>),\n",
       "  it may mean that your frontend doesn't currently support widgets.\n",
       "</p>\n"
      ],
      "text/plain": [
       "HBox(children=(IntProgress(value=0, max=9), HTML(value='')))"
      ]
     },
     "metadata": {},
     "output_type": "display_data"
    },
    {
     "name": "stdout",
     "output_type": "stream",
     "text": [
      "\n"
     ]
    }
   ],
   "source": [
    "#\n",
    "#  Complete the range function and\n",
    "#  the model_data filtering parameters\n",
    "#  using an index to split the data in overlapping\n",
    "#  groups of 7 days. Then, re-train our model\n",
    "#  and collect the results.\n",
    "#\n",
    "#  The variables A, B, C, and D are placeholders.\n",
    "#\n",
    "results = []\n",
    "for i in range(A, B):\n",
    "    M.train(model_data[C:D])\n",
    "    results.append(M.evaluate())"
   ]
  },
  {
   "cell_type": "code",
   "execution_count": null,
   "metadata": {
    "collapsed": true
   },
   "outputs": [],
   "source": [
    "M.predict(denormalized=True)"
   ]
  },
  {
   "cell_type": "markdown",
   "metadata": {},
   "source": [
    "### New Data, New Model\n",
    "Another strategy is to create and train a new model evey time new data is available. This approach tends to reduce catastrophic forgetting, but training time increases as data increases. \n",
    "\n",
    "It's implementation is quite simple.\n",
    "\n",
    "Let's assume we have old data for 49 weeks of 2017 and after a week we now have new data. We represent this wtih the variables `old_data` and `new_data`. "
   ]
  },
  {
   "cell_type": "code",
   "execution_count": 70,
   "metadata": {
    "collapsed": true
   },
   "outputs": [],
   "source": [
    "old_data = model_data[0*7:7*48 + 7]"
   ]
  },
  {
   "cell_type": "code",
   "execution_count": 71,
   "metadata": {
    "collapsed": true
   },
   "outputs": [],
   "source": [
    "new_data = model_data[0*7:7*49 + 7]"
   ]
  },
  {
   "cell_type": "code",
   "execution_count": 74,
   "metadata": {
    "collapsed": true
   },
   "outputs": [],
   "source": [
    "M = Model(data=old_data,\n",
    "          variable='close',\n",
    "          predicted_period_size=7)"
   ]
  },
  {
   "cell_type": "code",
   "execution_count": 75,
   "metadata": {},
   "outputs": [
    {
     "data": {
      "text/plain": [
       "<keras.callbacks.History at 0x11f575908>"
      ]
     },
     "execution_count": 75,
     "metadata": {},
     "output_type": "execute_result"
    }
   ],
   "source": [
    "M.build()\n",
    "M.train()"
   ]
  },
  {
   "cell_type": "code",
   "execution_count": 76,
   "metadata": {},
   "outputs": [
    {
     "data": {
      "text/plain": [
       "array([ 15775.79589844,  15595.73925781,  15938.69824219,  14605.47949219,\n",
       "        14482.2265625 ,  14402.16894531,  14504.89648438], dtype=float32)"
      ]
     },
     "execution_count": 76,
     "metadata": {},
     "output_type": "execute_result"
    }
   ],
   "source": [
    "M.predict(denormalized=True)"
   ]
  },
  {
   "cell_type": "markdown",
   "metadata": {},
   "source": [
    "Now, assume that new data is available. Using this technicle we go ahead and create a new model using only the new data. "
   ]
  },
  {
   "cell_type": "code",
   "execution_count": 77,
   "metadata": {
    "collapsed": true
   },
   "outputs": [],
   "source": [
    "#\n",
    "#  Re-instantiate the model with the Model()\n",
    "#  class using the new_data variable instead\n",
    "#  of the old_data one. \n",
    "#"
   ]
  },
  {
   "cell_type": "code",
   "execution_count": 78,
   "metadata": {},
   "outputs": [
    {
     "data": {
      "text/plain": [
       "<keras.callbacks.History at 0x1201c9e48>"
      ]
     },
     "execution_count": 78,
     "metadata": {},
     "output_type": "execute_result"
    }
   ],
   "source": [
    "M.build()\n",
    "M.train()"
   ]
  },
  {
   "cell_type": "code",
   "execution_count": 79,
   "metadata": {},
   "outputs": [
    {
     "data": {
      "text/plain": [
       "array([ 15820.33691406,  15276.56640625,  17786.859375  ,  17703.76757812,\n",
       "        17874.65429688,  17807.64257812,  17675.73828125], dtype=float32)"
      ]
     },
     "execution_count": 79,
     "metadata": {},
     "output_type": "execute_result"
    }
   ],
   "source": [
    "M.predict(denormalized=True)"
   ]
  },
  {
   "cell_type": "markdown",
   "metadata": {},
   "source": [
    "This approach is very simple to implement and tends to work well. We will be using this to deploy our application."
   ]
  }
 ],
 "metadata": {
  "kernelspec": {
   "display_name": "Python 3",
   "language": "python",
   "name": "python3"
  },
  "language_info": {
   "codemirror_mode": {
    "name": "ipython",
    "version": 3
   },
   "file_extension": ".py",
   "mimetype": "text/x-python",
   "name": "python",
   "nbconvert_exporter": "python",
   "pygments_lexer": "ipython3",
   "version": "3.6.3"
  }
 },
 "nbformat": 4,
 "nbformat_minor": 2
}
