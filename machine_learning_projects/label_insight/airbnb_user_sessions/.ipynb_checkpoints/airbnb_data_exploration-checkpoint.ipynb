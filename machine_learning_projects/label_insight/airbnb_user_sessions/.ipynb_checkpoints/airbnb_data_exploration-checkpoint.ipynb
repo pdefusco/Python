{
 "cells": [
  {
   "cell_type": "markdown",
   "metadata": {},
   "source": [
    "# Data Exploration"
   ]
  },
  {
   "cell_type": "code",
   "execution_count": 400,
   "metadata": {
    "collapsed": true
   },
   "outputs": [],
   "source": [
    "import pandas as pd\n",
    "import os\n",
    "import numpy as np\n",
    "import seaborn as sns\n",
    "import matplotlib.pyplot as plt\n",
    "from pyth.plugins.rtf15.reader import Rtf15Reader\n",
    "from pyth.plugins.plaintext.writer import PlaintextWriter\n",
    "import re"
   ]
  },
  {
   "cell_type": "markdown",
   "metadata": {},
   "source": [
    "Importing Data Dictionary with pyth (https://pypi.org/project/pyth/)"
   ]
  },
  {
   "cell_type": "code",
   "execution_count": 401,
   "metadata": {},
   "outputs": [
    {
     "data": {
      "text/plain": [
       "['data_dictionary.rtf',\n",
       " 'airbnb_data_exploration.ipynb',\n",
       " 'data_webvisits.txt',\n",
       " 'readme.txt',\n",
       " '.ipynb_checkpoints']"
      ]
     },
     "execution_count": 401,
     "metadata": {},
     "output_type": "execute_result"
    }
   ],
   "source": [
    "os.listdir()"
   ]
  },
  {
   "cell_type": "code",
   "execution_count": 402,
   "metadata": {
    "collapsed": true
   },
   "outputs": [],
   "source": [
    "filename = 'data_dictionary.rtf'"
   ]
  },
  {
   "cell_type": "code",
   "execution_count": 403,
   "metadata": {
    "collapsed": true
   },
   "outputs": [],
   "source": [
    "doc = Rtf15Reader.read(open(filename, \"rb\"))"
   ]
  },
  {
   "cell_type": "code",
   "execution_count": 404,
   "metadata": {
    "collapsed": true
   },
   "outputs": [],
   "source": [
    "text = PlaintextWriter.write(doc).getvalue()"
   ]
  },
  {
   "cell_type": "code",
   "execution_count": 405,
   "metadata": {},
   "outputs": [
    {
     "name": "stdout",
     "output_type": "stream",
     "text": [
      "Column Type Null Partition Key Comment\n",
      "id_visitorvarchartruefalseid of the visitor\n",
      "id_sessionvarchartruefalseid of the session\n",
      "dim_session_numberbiginttruefalsethe number of session on a given day for a visitor\n",
      "dim_user_agentvarchartruefalseuser agent of the session\n",
      "dim_device_app_combovarchartruefalseparsed out device/app combo from user agent\n",
      "dsvarchartruefalsedate stamp of session\n",
      "ts_minvarchartruefalsetime of session start\n",
      "ts_maxvarchartruefalsetime of session end\n",
      "did_searchbiginttruefalsebinary flag indicating if the visitor performed a search during the session\n",
      "sent_messagebiginttruefalsebinary flag indicating if the visitor sent a message during the session\n",
      "sent_booking_requestbiginttruefalsebinary flag indicating if the visitor sent a booking request during the session\n",
      "\n"
     ]
    }
   ],
   "source": [
    "#printing data dictionary:\n",
    "#the last field contains attribute information:\n",
    "print(re.sub(r\"(\\w)([A-Z])\", r\"\\1 \\2\", text))"
   ]
  },
  {
   "cell_type": "code",
   "execution_count": 406,
   "metadata": {
    "collapsed": true
   },
   "outputs": [],
   "source": [
    "df = pd.read_csv('data_webvisits.txt', sep='|')"
   ]
  },
  {
   "cell_type": "code",
   "execution_count": 407,
   "metadata": {},
   "outputs": [
    {
     "data": {
      "text/plain": [
       "Index(['id_visitor', 'id_session', 'dim_session_number', 'dim_user_agent',\n",
       "       'dim_device_app_combo', 'ds', 'ts_min', 'ts_max', 'did_search',\n",
       "       'sent_message', 'sent_booking_request', 'next_id_session',\n",
       "       'next_dim_session_number', 'next_dim_user_agent',\n",
       "       'next_dim_device_app_combo', 'next_ds', 'next_ts_min', 'next_ts_max',\n",
       "       'next_did_search', 'next_sent_message', 'next_sent_booking_request'],\n",
       "      dtype='object')"
      ]
     },
     "execution_count": 407,
     "metadata": {},
     "output_type": "execute_result"
    }
   ],
   "source": [
    "df.columns"
   ]
  },
  {
   "cell_type": "code",
   "execution_count": 408,
   "metadata": {},
   "outputs": [
    {
     "data": {
      "text/plain": [
       "id_visitor                    object\n",
       "id_session                    object\n",
       "dim_session_number             int64\n",
       "dim_user_agent                object\n",
       "dim_device_app_combo          object\n",
       "ds                            object\n",
       "ts_min                        object\n",
       "ts_max                        object\n",
       "did_search                     int64\n",
       "sent_message                   int64\n",
       "sent_booking_request           int64\n",
       "next_id_session               object\n",
       "next_dim_session_number      float64\n",
       "next_dim_user_agent           object\n",
       "next_dim_device_app_combo     object\n",
       "next_ds                       object\n",
       "next_ts_min                   object\n",
       "next_ts_max                   object\n",
       "next_did_search              float64\n",
       "next_sent_message            float64\n",
       "next_sent_booking_request    float64\n",
       "dtype: object"
      ]
     },
     "execution_count": 408,
     "metadata": {},
     "output_type": "execute_result"
    }
   ],
   "source": [
    "df.dtypes"
   ]
  },
  {
   "cell_type": "markdown",
   "metadata": {},
   "source": [
    "I will perform more data transformations later, but will make ds a timestamp immediately for convenience"
   ]
  },
  {
   "cell_type": "code",
   "execution_count": 409,
   "metadata": {},
   "outputs": [
    {
     "data": {
      "text/plain": [
       "0   2015-02-16\n",
       "1   2015-02-18\n",
       "2   2015-02-18\n",
       "3   2015-02-18\n",
       "4   2015-02-19\n",
       "Name: ds, dtype: datetime64[ns]"
      ]
     },
     "execution_count": 409,
     "metadata": {},
     "output_type": "execute_result"
    }
   ],
   "source": [
    "df['ds'] = pd.to_datetime(df.ds)\n",
    "df.ds.head()"
   ]
  },
  {
   "cell_type": "markdown",
   "metadata": {},
   "source": [
    "Simple data checks to make sure I make the right assumptions about the data:"
   ]
  },
  {
   "cell_type": "code",
   "execution_count": 410,
   "metadata": {},
   "outputs": [
    {
     "name": "stdout",
     "output_type": "stream",
     "text": [
      "Each Session is unique\n"
     ]
    }
   ],
   "source": [
    "#Is each session unique? Is each instance representing a user session at the most granular level?\n",
    "if len(df['id_session'].unique()) == len(df):\n",
    "    print(\"Each Session is unique\")"
   ]
  },
  {
   "cell_type": "code",
   "execution_count": 411,
   "metadata": {},
   "outputs": [
    {
     "name": "stdout",
     "output_type": "stream",
     "text": [
      "Number of unique users:  630\n"
     ]
    }
   ],
   "source": [
    "#Can visitors have multiple sessions i.e. is there a one to many relationship between user session and visitor id?\n",
    "print(\"Number of unique users: \", len(df['id_visitor'].unique()))"
   ]
  },
  {
   "cell_type": "code",
   "execution_count": 412,
   "metadata": {},
   "outputs": [
    {
     "data": {
      "text/html": [
       "<div>\n",
       "<style scoped>\n",
       "    .dataframe tbody tr th:only-of-type {\n",
       "        vertical-align: middle;\n",
       "    }\n",
       "\n",
       "    .dataframe tbody tr th {\n",
       "        vertical-align: top;\n",
       "    }\n",
       "\n",
       "    .dataframe thead th {\n",
       "        text-align: right;\n",
       "    }\n",
       "</style>\n",
       "<table border=\"1\" class=\"dataframe\">\n",
       "  <thead>\n",
       "    <tr style=\"text-align: right;\">\n",
       "      <th></th>\n",
       "      <th>id_session</th>\n",
       "      <th>ds</th>\n",
       "      <th>dim_session_number</th>\n",
       "    </tr>\n",
       "  </thead>\n",
       "  <tbody>\n",
       "    <tr>\n",
       "      <th>3242</th>\n",
       "      <td>774ec118765237acf89c59ffda91b5f6</td>\n",
       "      <td>2014-06-26</td>\n",
       "      <td>1</td>\n",
       "    </tr>\n",
       "    <tr>\n",
       "      <th>3243</th>\n",
       "      <td>f2a22a7386a11d457ab12dd4fd7b1c32</td>\n",
       "      <td>2014-06-30</td>\n",
       "      <td>2</td>\n",
       "    </tr>\n",
       "    <tr>\n",
       "      <th>3244</th>\n",
       "      <td>b3587b80d73b3c432302d70f55fc0860</td>\n",
       "      <td>2014-07-01</td>\n",
       "      <td>3</td>\n",
       "    </tr>\n",
       "    <tr>\n",
       "      <th>3245</th>\n",
       "      <td>7aa5ed16004d96ac89f3151632032e95</td>\n",
       "      <td>2014-08-03</td>\n",
       "      <td>4</td>\n",
       "    </tr>\n",
       "    <tr>\n",
       "      <th>3246</th>\n",
       "      <td>3c9096b04413317dfac2664e13222ccb</td>\n",
       "      <td>2014-08-18</td>\n",
       "      <td>5</td>\n",
       "    </tr>\n",
       "    <tr>\n",
       "      <th>3248</th>\n",
       "      <td>16d7ae846f378ab6fc81c717fc621f04</td>\n",
       "      <td>2014-09-20</td>\n",
       "      <td>7</td>\n",
       "    </tr>\n",
       "    <tr>\n",
       "      <th>3247</th>\n",
       "      <td>75e94a24c7764d72429bd5f4bf955793</td>\n",
       "      <td>2014-09-20</td>\n",
       "      <td>6</td>\n",
       "    </tr>\n",
       "    <tr>\n",
       "      <th>3249</th>\n",
       "      <td>c400bcdda05546d01b78964fb984f718</td>\n",
       "      <td>2014-09-21</td>\n",
       "      <td>8</td>\n",
       "    </tr>\n",
       "    <tr>\n",
       "      <th>3250</th>\n",
       "      <td>298b4debffc0c6d1bad9fe9375e06aec</td>\n",
       "      <td>2014-09-30</td>\n",
       "      <td>9</td>\n",
       "    </tr>\n",
       "    <tr>\n",
       "      <th>3251</th>\n",
       "      <td>a3fa9ff9d230fe7167da68b0187d089e</td>\n",
       "      <td>2014-10-04</td>\n",
       "      <td>10</td>\n",
       "    </tr>\n",
       "    <tr>\n",
       "      <th>3230</th>\n",
       "      <td>3304c07a752792c8a405bef0240866ff</td>\n",
       "      <td>2014-10-05</td>\n",
       "      <td>11</td>\n",
       "    </tr>\n",
       "    <tr>\n",
       "      <th>3231</th>\n",
       "      <td>c929809b23dfe70ba5854605d21f1991</td>\n",
       "      <td>2014-10-06</td>\n",
       "      <td>12</td>\n",
       "    </tr>\n",
       "    <tr>\n",
       "      <th>3232</th>\n",
       "      <td>2becb36d3d63d1d87dd1f648e9387c1d</td>\n",
       "      <td>2014-10-14</td>\n",
       "      <td>13</td>\n",
       "    </tr>\n",
       "    <tr>\n",
       "      <th>3233</th>\n",
       "      <td>be40bfff231dfb6a88214a1db334b5f3</td>\n",
       "      <td>2014-10-17</td>\n",
       "      <td>14</td>\n",
       "    </tr>\n",
       "    <tr>\n",
       "      <th>3235</th>\n",
       "      <td>75bdd0718a17c3bd208022a25646c39d</td>\n",
       "      <td>2014-10-27</td>\n",
       "      <td>16</td>\n",
       "    </tr>\n",
       "    <tr>\n",
       "      <th>3234</th>\n",
       "      <td>3caa26f31f1bb03932d7331b16936909</td>\n",
       "      <td>2014-10-27</td>\n",
       "      <td>15</td>\n",
       "    </tr>\n",
       "    <tr>\n",
       "      <th>3236</th>\n",
       "      <td>5d822d131f9cde8df66bc9e56d1aa4ff</td>\n",
       "      <td>2014-11-09</td>\n",
       "      <td>17</td>\n",
       "    </tr>\n",
       "    <tr>\n",
       "      <th>3237</th>\n",
       "      <td>a9cb18f7b818c9f3a0b1515da1df3ca6</td>\n",
       "      <td>2014-11-13</td>\n",
       "      <td>18</td>\n",
       "    </tr>\n",
       "    <tr>\n",
       "      <th>3238</th>\n",
       "      <td>4fa6c2bebfe9a9b11749be8d2d5d0a55</td>\n",
       "      <td>2014-11-26</td>\n",
       "      <td>19</td>\n",
       "    </tr>\n",
       "    <tr>\n",
       "      <th>3239</th>\n",
       "      <td>f84537ba00da328ffa7311bc962fa6c3</td>\n",
       "      <td>2015-01-12</td>\n",
       "      <td>20</td>\n",
       "    </tr>\n",
       "    <tr>\n",
       "      <th>3241</th>\n",
       "      <td>5b3a5e6c3c065547efca9de5e728616f</td>\n",
       "      <td>2015-03-08</td>\n",
       "      <td>22</td>\n",
       "    </tr>\n",
       "    <tr>\n",
       "      <th>3240</th>\n",
       "      <td>db9a9cc57a27244171f97f4dd93c1e99</td>\n",
       "      <td>2015-03-08</td>\n",
       "      <td>21</td>\n",
       "    </tr>\n",
       "  </tbody>\n",
       "</table>\n",
       "</div>"
      ],
      "text/plain": [
       "                            id_session         ds  dim_session_number\n",
       "3242  774ec118765237acf89c59ffda91b5f6 2014-06-26                   1\n",
       "3243  f2a22a7386a11d457ab12dd4fd7b1c32 2014-06-30                   2\n",
       "3244  b3587b80d73b3c432302d70f55fc0860 2014-07-01                   3\n",
       "3245  7aa5ed16004d96ac89f3151632032e95 2014-08-03                   4\n",
       "3246  3c9096b04413317dfac2664e13222ccb 2014-08-18                   5\n",
       "3248  16d7ae846f378ab6fc81c717fc621f04 2014-09-20                   7\n",
       "3247  75e94a24c7764d72429bd5f4bf955793 2014-09-20                   6\n",
       "3249  c400bcdda05546d01b78964fb984f718 2014-09-21                   8\n",
       "3250  298b4debffc0c6d1bad9fe9375e06aec 2014-09-30                   9\n",
       "3251  a3fa9ff9d230fe7167da68b0187d089e 2014-10-04                  10\n",
       "3230  3304c07a752792c8a405bef0240866ff 2014-10-05                  11\n",
       "3231  c929809b23dfe70ba5854605d21f1991 2014-10-06                  12\n",
       "3232  2becb36d3d63d1d87dd1f648e9387c1d 2014-10-14                  13\n",
       "3233  be40bfff231dfb6a88214a1db334b5f3 2014-10-17                  14\n",
       "3235  75bdd0718a17c3bd208022a25646c39d 2014-10-27                  16\n",
       "3234  3caa26f31f1bb03932d7331b16936909 2014-10-27                  15\n",
       "3236  5d822d131f9cde8df66bc9e56d1aa4ff 2014-11-09                  17\n",
       "3237  a9cb18f7b818c9f3a0b1515da1df3ca6 2014-11-13                  18\n",
       "3238  4fa6c2bebfe9a9b11749be8d2d5d0a55 2014-11-26                  19\n",
       "3239  f84537ba00da328ffa7311bc962fa6c3 2015-01-12                  20\n",
       "3241  5b3a5e6c3c065547efca9de5e728616f 2015-03-08                  22\n",
       "3240  db9a9cc57a27244171f97f4dd93c1e99 2015-03-08                  21"
      ]
     },
     "execution_count": 412,
     "metadata": {},
     "output_type": "execute_result"
    }
   ],
   "source": [
    "#The dim_session_number field represents the number of session on a given day for a visitor\"\n",
    "#Does this mean that for each day, for each visitor, we have a count of all visitor sessions, at the time of the session?\n",
    "#To verify, I track a given visitor id for a given day, and then for multiple days, and observe how dim_session_number varies\n",
    "df[df['id_visitor'] == '0331fa39-455f-4f47-9db2-18ce37ee90e4'][['id_session','ds', 'dim_session_number']].sort_values('ds')"
   ]
  },
  {
   "cell_type": "markdown",
   "metadata": {},
   "source": [
    "The above demonstrates that the dim_session_number attribute tracks the total count of sessions for a given visitor including the sessions occuring on the day of. The count does not reset for each day (we could probably create a feature for tracking the count for the same day)."
   ]
  },
  {
   "cell_type": "markdown",
   "metadata": {},
   "source": [
    "For more info on user agents, visit: https://www.howtogeek.com/114937/htg-explains-whats-a-browser-user-agent/\n",
    "The dataset contains two related fields: user_agent and dim_device_app_combo. The latter should be a parsed version of the former."
   ]
  },
  {
   "cell_type": "code",
   "execution_count": 413,
   "metadata": {},
   "outputs": [
    {
     "name": "stdout",
     "output_type": "stream",
     "text": [
      "user agent:  Mozilla/5.0 (Windows NT 6.1; WOW64) AppleWebKit/537.36 (KHTML, like Gecko) Chrome/40.0.2214.115 Safari/537.36\n",
      "--\n",
      "parsed out:  Desktop - Chrome\n",
      "\n",
      "\n",
      "user agent:  Mozilla/5.0 (Linux; Android 4.3; GT-I9505 Build/JSS15J) AppleWebKit/537.36 (KHTML, like Gecko) Chrome/38.0.2125.114 Mobile Safari/537.36\n",
      "--\n",
      "parsed out:  Android Phone - Web\n",
      "\n",
      "\n",
      "user agent:  Mozilla/5.0 (Macintosh; Intel Mac OS X 10_6_8) AppleWebKit/537.36 (KHTML, like Gecko) Chrome/38.0.2125.122 Safari/537.36\n",
      "--\n",
      "parsed out:  Desktop - Chrome\n"
     ]
    }
   ],
   "source": [
    "#picking a few random instances to see in more detail:\n",
    "print('user agent: ', df.iloc[1,3])\n",
    "print('--')\n",
    "print('parsed out: ',df.iloc[1,4])\n",
    "print('\\n')\n",
    "print('user agent: ',df.iloc[200,3])\n",
    "print('--')\n",
    "print('parsed out: ', df.iloc[200,4])\n",
    "print('\\n')\n",
    "print('user agent: ',df.iloc[300,3])\n",
    "print('--')\n",
    "print('parsed out: ', df.iloc[300,4])"
   ]
  },
  {
   "cell_type": "markdown",
   "metadata": {},
   "source": [
    "The parsed out version of the field contains useful information, but it is possible to extract more e.g. OS, mobile device browser, browser versioin, etc. "
   ]
  },
  {
   "cell_type": "markdown",
   "metadata": {},
   "source": [
    "Next: is it possible to do request booking without doing a search and/or sending a message?"
   ]
  },
  {
   "cell_type": "code",
   "execution_count": 414,
   "metadata": {},
   "outputs": [],
   "source": [
    "#Quick examination of remaining fields:\n",
    "df_temp = df[['did_search', 'sent_message', 'sent_booking_request', 'id_visitor']].groupby(['id_visitor']).sum()"
   ]
  },
  {
   "cell_type": "code",
   "execution_count": 415,
   "metadata": {},
   "outputs": [
    {
     "name": "stderr",
     "output_type": "stream",
     "text": [
      "/Users/pauldefusco/anaconda2/envs/py36/lib/python3.6/site-packages/ipykernel_launcher.py:2: UserWarning: Boolean Series key will be reindexed to match DataFrame index.\n",
      "  \n"
     ]
    },
    {
     "data": {
      "text/html": [
       "<div>\n",
       "<style scoped>\n",
       "    .dataframe tbody tr th:only-of-type {\n",
       "        vertical-align: middle;\n",
       "    }\n",
       "\n",
       "    .dataframe tbody tr th {\n",
       "        vertical-align: top;\n",
       "    }\n",
       "\n",
       "    .dataframe thead th {\n",
       "        text-align: right;\n",
       "    }\n",
       "</style>\n",
       "<table border=\"1\" class=\"dataframe\">\n",
       "  <thead>\n",
       "    <tr style=\"text-align: right;\">\n",
       "      <th></th>\n",
       "      <th>did_search</th>\n",
       "      <th>sent_message</th>\n",
       "      <th>sent_booking_request</th>\n",
       "    </tr>\n",
       "    <tr>\n",
       "      <th>id_visitor</th>\n",
       "      <th></th>\n",
       "      <th></th>\n",
       "      <th></th>\n",
       "    </tr>\n",
       "  </thead>\n",
       "  <tbody>\n",
       "  </tbody>\n",
       "</table>\n",
       "</div>"
      ],
      "text/plain": [
       "Empty DataFrame\n",
       "Columns: [did_search, sent_message, sent_booking_request]\n",
       "Index: []"
      ]
     },
     "execution_count": 415,
     "metadata": {},
     "output_type": "execute_result"
    }
   ],
   "source": [
    "df_temp[((df_temp['did_search'] == 0) & (df['sent_message'] == 1))|\n",
    "        ((df_temp['did_search'] == 0) & (df['sent_booking_request'] == 1))]"
   ]
  },
  {
   "cell_type": "code",
   "execution_count": 416,
   "metadata": {
    "collapsed": true
   },
   "outputs": [],
   "source": [
    "del df_temp"
   ]
  },
  {
   "cell_type": "markdown",
   "metadata": {},
   "source": [
    "The above confirms that in order to have a sent message or a sent booking request, one must have made a search"
   ]
  },
  {
   "cell_type": "markdown",
   "metadata": {},
   "source": [
    "#### Data Quality Checks:\n",
    "    - how many nulls do we have\n",
    "    - are min max timestamp values really what the data dictionary says?\n",
    "    - is ts_min always less recent than ts_max?\n",
    "    - do ts_min/max coherently reflect the ds field?\n",
    "    - for each attribute that has an equivalent \"next\" field, is the next field value occurring at a later point in time?"
   ]
  },
  {
   "cell_type": "code",
   "execution_count": 417,
   "metadata": {},
   "outputs": [
    {
     "data": {
      "text/plain": [
       "id_visitor                     0\n",
       "id_session                     0\n",
       "dim_session_number             0\n",
       "dim_user_agent               219\n",
       "dim_device_app_combo           0\n",
       "ds                             0\n",
       "ts_min                         0\n",
       "ts_max                         0\n",
       "did_search                     0\n",
       "sent_message                   0\n",
       "sent_booking_request           0\n",
       "next_id_session              630\n",
       "next_dim_session_number      630\n",
       "next_dim_user_agent          829\n",
       "next_dim_device_app_combo    630\n",
       "next_ds                      630\n",
       "next_ts_min                  630\n",
       "next_ts_max                  630\n",
       "next_did_search              630\n",
       "next_sent_message            630\n",
       "next_sent_booking_request    630\n",
       "dtype: int64"
      ]
     },
     "execution_count": 417,
     "metadata": {},
     "output_type": "execute_result"
    }
   ],
   "source": [
    "df.isnull().sum()"
   ]
  },
  {
   "cell_type": "markdown",
   "metadata": {},
   "source": [
    "Observations regarding nulls:\n",
    "    - there are many nulls in the fields representing the next session. However, we will discard the fields when building the predictive model\n",
    "    - if dim_device_app_combo is derived from dim_user_agent, how is it possible that the latter has 219 nulls while the former has none?"
   ]
  },
  {
   "cell_type": "code",
   "execution_count": 418,
   "metadata": {
    "collapsed": true
   },
   "outputs": [],
   "source": [
    "#Exploring instances where dim_user_agent is null:\n",
    "df_nulls = df[(df['dim_user_agent'].isnull() == True)]"
   ]
  },
  {
   "cell_type": "code",
   "execution_count": 419,
   "metadata": {},
   "outputs": [
    {
     "data": {
      "text/plain": [
       "array(['Unknown - Moweb', 'Other - Other'], dtype=object)"
      ]
     },
     "execution_count": 419,
     "metadata": {},
     "output_type": "execute_result"
    }
   ],
   "source": [
    "#Only two values for dim_device_app_combo are present when dim_user_agent is null\n",
    "df_nulls.dim_device_app_combo.unique()"
   ]
  },
  {
   "cell_type": "code",
   "execution_count": 420,
   "metadata": {},
   "outputs": [
    {
     "data": {
      "text/plain": [
       "219"
      ]
     },
     "execution_count": 420,
     "metadata": {},
     "output_type": "execute_result"
    }
   ],
   "source": [
    "df_nulls.id_session.count()"
   ]
  },
  {
   "cell_type": "code",
   "execution_count": 421,
   "metadata": {},
   "outputs": [],
   "source": [
    "max_dim_number = df_nulls[['id_visitor','dim_session_number', 'did_search']].groupby('id_visitor').max()"
   ]
  },
  {
   "cell_type": "code",
   "execution_count": 422,
   "metadata": {},
   "outputs": [],
   "source": [
    "max_dim_number.reset_index(inplace=True)"
   ]
  },
  {
   "cell_type": "code",
   "execution_count": 423,
   "metadata": {},
   "outputs": [
    {
     "data": {
      "image/png": "[encoded data removed]",
      "text/plain": [
       "<Figure size 1080x360 with 3 Axes>"
      ]
     },
     "metadata": {
      "needs_background": "light"
     },
     "output_type": "display_data"
    }
   ],
   "source": [
    "fig, axes = plt.subplots(1,3, figsize=(15,5))\n",
    "\n",
    "sns.countplot(df_nulls.dim_device_app_combo, ax=axes[0])\n",
    "axes[0].set(title='Values in Sample')\n",
    "\n",
    "sns.countplot(df_nulls.id_visitor, ax=axes[1])\n",
    "axes[1].set(xlabel='Visitor', title='Sessions per Visitor in Sample')\n",
    "axes[1].set_xticklabels([])\n",
    "\n",
    "sns.stripplot(x ='id_visitor', y='dim_session_number' ,hue ='did_search' , data=max_dim_number, ax=axes[2])\n",
    "axes[2].set(xlabel='Visitor', ylabel='MAX dim session number in Sample', title='Max Sessions per Visitor')\n",
    "axes[2].set_xticklabels([])\n",
    "\n",
    "#sns.(x, kde=False\n",
    "plt.suptitle('Nulls Sample Visualization', fontsize=16)\n",
    "plt.show()"
   ]
  },
  {
   "cell_type": "markdown",
   "metadata": {},
   "source": [
    "Both values of dim_device_app_combo are well represented in the sample. The count of sessions per visitor is relatively low, with the majority of users never performing any searches. Roughly half the visitors had performed few sessions up to that point, while the other half had more."
   ]
  },
  {
   "cell_type": "code",
   "execution_count": 424,
   "metadata": {},
   "outputs": [
    {
     "name": "stdout",
     "output_type": "stream",
     "text": [
      "Most recent instance among the nulls:  2014-10-22 00:00:00\n",
      "Least recent instance among the nulls:  2014-05-13 00:00:00\n"
     ]
    }
   ],
   "source": [
    "print('Most recent instance among the nulls: ', df_nulls.ds.max())\n",
    "print('Least recent instance among the nulls: ', df_nulls.ds.min())"
   ]
  },
  {
   "cell_type": "markdown",
   "metadata": {},
   "source": [
    "It appears these 219 nulls occurred between a very small time frame: this is a useful insight. To see if all these nulls occurred in block, we can open up the dataframe's index and see if the values are sequential."
   ]
  },
  {
   "cell_type": "code",
   "execution_count": 425,
   "metadata": {},
   "outputs": [
    {
     "name": "stderr",
     "output_type": "stream",
     "text": [
      "/Users/pauldefusco/anaconda2/envs/py36/lib/python3.6/site-packages/scipy/stats/stats.py:1713: FutureWarning: Using a non-tuple sequence for multidimensional indexing is deprecated; use `arr[tuple(seq)]` instead of `arr[seq]`. In the future this will be interpreted as an array index, `arr[np.array(seq)]`, which will result either in an error or a different result.\n",
      "  return np.add.reduce(sorted[indexer] * weights, axis=axis) / sumval\n"
     ]
    },
    {
     "data": {
      "image/png": "[encoded data removed]",
      "text/plain": [
       "<Figure size 504x288 with 1 Axes>"
      ]
     },
     "metadata": {
      "needs_background": "light"
     },
     "output_type": "display_data"
    }
   ],
   "source": [
    "#df_nulls.index\n",
    "fig, ax = plt.subplots(1,1,figsize=(7,4))\n",
    "sns.distplot(df_nulls.index, kde=False, rug=True, ax=ax)\n",
    "ax.set_xticklabels(df.ds.dt.date, rotation=45)\n",
    "#ax.set(title=)\n",
    "plt.title('Histogram of Nulls by Date', fontsize=13)\n",
    "plt.show()"
   ]
  },
  {
   "cell_type": "code",
   "execution_count": 426,
   "metadata": {},
   "outputs": [],
   "source": [
    "del df_nulls"
   ]
  },
  {
   "cell_type": "code",
   "execution_count": 427,
   "metadata": {},
   "outputs": [
    {
     "data": {
      "text/plain": [
       "Index(['id_visitor', 'id_session', 'dim_session_number', 'dim_user_agent',\n",
       "       'dim_device_app_combo', 'ds', 'ts_min', 'ts_max', 'did_search',\n",
       "       'sent_message', 'sent_booking_request', 'next_id_session',\n",
       "       'next_dim_session_number', 'next_dim_user_agent',\n",
       "       'next_dim_device_app_combo', 'next_ds', 'next_ts_min', 'next_ts_max',\n",
       "       'next_did_search', 'next_sent_message', 'next_sent_booking_request'],\n",
       "      dtype='object')"
      ]
     },
     "execution_count": 427,
     "metadata": {},
     "output_type": "execute_result"
    }
   ],
   "source": [
    "df.columns"
   ]
  },
  {
   "cell_type": "markdown",
   "metadata": {},
   "source": [
    "There are no particular patterns related to these nulls and the dim_device_app_combo values confirm the session user agents were unknown or \"other\" so we will encode the nulls with the value of \"unknown/other\" and treat them as a valid category"
   ]
  },
  {
   "cell_type": "code",
   "execution_count": 428,
   "metadata": {},
   "outputs": [],
   "source": [
    "df['dim_user_agent'].fillna(\"unknown/other\", inplace=True)"
   ]
  },
  {
   "cell_type": "markdown",
   "metadata": {},
   "source": [
    "Are ts min/max values between '2014-05-05', '2015-04-23'?"
   ]
  },
  {
   "cell_type": "code",
   "execution_count": 429,
   "metadata": {},
   "outputs": [],
   "source": [
    "df.ts_min = pd.to_datetime(df.ts_min)\n",
    "df.ts_max = pd.to_datetime(df.ts_max)"
   ]
  },
  {
   "cell_type": "code",
   "execution_count": 430,
   "metadata": {},
   "outputs": [
    {
     "name": "stdout",
     "output_type": "stream",
     "text": [
      "Most recent date:  2014-05-05\n",
      "Most recent date:  2015-04-23\n"
     ]
    }
   ],
   "source": [
    "print('Most recent date: ', df.ts_min.dt.date.min())\n",
    "print('Most recent date: ', df.ts_min.dt.date.max())"
   ]
  },
  {
   "cell_type": "markdown",
   "metadata": {},
   "source": [
    "The dataset time range is correct. Are values in ts_min always older than values in ts.max?"
   ]
  },
  {
   "cell_type": "code",
   "execution_count": 431,
   "metadata": {},
   "outputs": [
    {
     "name": "stdout",
     "output_type": "stream",
     "text": [
      "Values in ts_min are always less than or equal to values in ts_max\n"
     ]
    }
   ],
   "source": [
    "if sum([True for i,k in zip(df.ts_min, df.ts_max) if i <= k]) == len(df):\n",
    "    print('Values in ts_min are always less than or equal to values in ts_max')"
   ]
  },
  {
   "cell_type": "markdown",
   "metadata": {},
   "source": [
    "Do ts_min and ts_max reflect ds correctly?"
   ]
  },
  {
   "cell_type": "code",
   "execution_count": 432,
   "metadata": {},
   "outputs": [
    {
     "name": "stdout",
     "output_type": "stream",
     "text": [
      "ts_min and ts_max not not reflect ds correctly\n"
     ]
    }
   ],
   "source": [
    "if sum([True for i,k,j in zip(df.ts_min, df.ts_max, df.ds) if (i.normalize() == j.normalize()) &\n",
    "     (k.normalize() == j.normalize())]) != len(df):\n",
    "    print('ts_min and ts_max not not reflect ds correctly')"
   ]
  },
  {
   "cell_type": "code",
   "execution_count": 433,
   "metadata": {},
   "outputs": [
    {
     "data": {
      "text/html": [
       "<div>\n",
       "<style scoped>\n",
       "    .dataframe tbody tr th:only-of-type {\n",
       "        vertical-align: middle;\n",
       "    }\n",
       "\n",
       "    .dataframe tbody tr th {\n",
       "        vertical-align: top;\n",
       "    }\n",
       "\n",
       "    .dataframe thead th {\n",
       "        text-align: right;\n",
       "    }\n",
       "</style>\n",
       "<table border=\"1\" class=\"dataframe\">\n",
       "  <thead>\n",
       "    <tr style=\"text-align: right;\">\n",
       "      <th></th>\n",
       "      <th>ts_min</th>\n",
       "      <th>ts_max</th>\n",
       "      <th>ds</th>\n",
       "    </tr>\n",
       "  </thead>\n",
       "  <tbody>\n",
       "    <tr>\n",
       "      <th>1388</th>\n",
       "      <td>2015-01-12 00:14:39</td>\n",
       "      <td>2015-01-12 01:09:20</td>\n",
       "      <td>2015-01-11</td>\n",
       "    </tr>\n",
       "    <tr>\n",
       "      <th>1834</th>\n",
       "      <td>2015-01-04 00:14:58</td>\n",
       "      <td>2015-01-04 00:14:59</td>\n",
       "      <td>2015-01-03</td>\n",
       "    </tr>\n",
       "    <tr>\n",
       "      <th>2519</th>\n",
       "      <td>2014-08-05 00:30:59</td>\n",
       "      <td>2014-08-05 00:32:13</td>\n",
       "      <td>2014-08-04</td>\n",
       "    </tr>\n",
       "    <tr>\n",
       "      <th>2520</th>\n",
       "      <td>2014-08-05 00:28:06</td>\n",
       "      <td>2014-08-05 00:30:56</td>\n",
       "      <td>2014-08-04</td>\n",
       "    </tr>\n",
       "    <tr>\n",
       "      <th>2540</th>\n",
       "      <td>2014-08-05 00:28:05</td>\n",
       "      <td>2014-08-05 00:32:15</td>\n",
       "      <td>2014-08-04</td>\n",
       "    </tr>\n",
       "    <tr>\n",
       "      <th>2645</th>\n",
       "      <td>2015-02-02 00:11:00</td>\n",
       "      <td>2015-02-02 00:21:07</td>\n",
       "      <td>2015-02-01</td>\n",
       "    </tr>\n",
       "    <tr>\n",
       "      <th>2647</th>\n",
       "      <td>2015-02-02 00:25:36</td>\n",
       "      <td>2015-02-02 00:25:36</td>\n",
       "      <td>2015-02-01</td>\n",
       "    </tr>\n",
       "    <tr>\n",
       "      <th>2648</th>\n",
       "      <td>2015-02-02 00:39:02</td>\n",
       "      <td>2015-02-02 01:16:49</td>\n",
       "      <td>2015-02-01</td>\n",
       "    </tr>\n",
       "    <tr>\n",
       "      <th>2653</th>\n",
       "      <td>2015-02-03 01:17:56</td>\n",
       "      <td>2015-02-03 01:21:22</td>\n",
       "      <td>2015-02-02</td>\n",
       "    </tr>\n",
       "    <tr>\n",
       "      <th>2654</th>\n",
       "      <td>2015-02-03 01:41:54</td>\n",
       "      <td>2015-02-03 01:52:21</td>\n",
       "      <td>2015-02-02</td>\n",
       "    </tr>\n",
       "    <tr>\n",
       "      <th>2879</th>\n",
       "      <td>2014-11-17 00:18:36</td>\n",
       "      <td>2014-11-17 00:18:36</td>\n",
       "      <td>2014-11-16</td>\n",
       "    </tr>\n",
       "    <tr>\n",
       "      <th>2880</th>\n",
       "      <td>2014-11-17 00:18:32</td>\n",
       "      <td>2014-11-17 00:19:01</td>\n",
       "      <td>2014-11-16</td>\n",
       "    </tr>\n",
       "    <tr>\n",
       "      <th>3457</th>\n",
       "      <td>2014-12-15 00:47:31</td>\n",
       "      <td>2014-12-15 00:47:31</td>\n",
       "      <td>2014-12-14</td>\n",
       "    </tr>\n",
       "    <tr>\n",
       "      <th>4016</th>\n",
       "      <td>2014-12-17 00:23:28</td>\n",
       "      <td>2014-12-17 00:23:29</td>\n",
       "      <td>2014-12-16</td>\n",
       "    </tr>\n",
       "    <tr>\n",
       "      <th>4700</th>\n",
       "      <td>2014-09-11 00:20:43</td>\n",
       "      <td>2014-09-11 00:44:15</td>\n",
       "      <td>2014-09-10</td>\n",
       "    </tr>\n",
       "    <tr>\n",
       "      <th>4724</th>\n",
       "      <td>2014-12-23 00:15:42</td>\n",
       "      <td>2014-12-23 00:18:02</td>\n",
       "      <td>2014-12-22</td>\n",
       "    </tr>\n",
       "    <tr>\n",
       "      <th>5074</th>\n",
       "      <td>2015-02-19 00:01:11</td>\n",
       "      <td>2015-02-19 00:01:11</td>\n",
       "      <td>2015-02-18</td>\n",
       "    </tr>\n",
       "    <tr>\n",
       "      <th>5504</th>\n",
       "      <td>2014-12-16 00:37:27</td>\n",
       "      <td>2014-12-16 00:37:27</td>\n",
       "      <td>2014-12-15</td>\n",
       "    </tr>\n",
       "    <tr>\n",
       "      <th>5505</th>\n",
       "      <td>2014-12-16 00:34:02</td>\n",
       "      <td>2014-12-16 00:34:09</td>\n",
       "      <td>2014-12-15</td>\n",
       "    </tr>\n",
       "    <tr>\n",
       "      <th>5792</th>\n",
       "      <td>2014-09-25 00:01:33</td>\n",
       "      <td>2014-09-25 00:01:33</td>\n",
       "      <td>2014-09-24</td>\n",
       "    </tr>\n",
       "    <tr>\n",
       "      <th>5853</th>\n",
       "      <td>2014-09-13 00:50:17</td>\n",
       "      <td>2014-09-13 01:56:45</td>\n",
       "      <td>2014-09-12</td>\n",
       "    </tr>\n",
       "    <tr>\n",
       "      <th>5854</th>\n",
       "      <td>2014-09-13 00:50:17</td>\n",
       "      <td>2014-09-13 00:50:17</td>\n",
       "      <td>2014-09-12</td>\n",
       "    </tr>\n",
       "    <tr>\n",
       "      <th>5855</th>\n",
       "      <td>2014-09-13 00:50:16</td>\n",
       "      <td>2014-09-13 00:50:16</td>\n",
       "      <td>2014-09-12</td>\n",
       "    </tr>\n",
       "    <tr>\n",
       "      <th>6443</th>\n",
       "      <td>2014-09-18 00:59:49</td>\n",
       "      <td>2014-09-18 00:59:49</td>\n",
       "      <td>2014-09-17</td>\n",
       "    </tr>\n",
       "    <tr>\n",
       "      <th>6444</th>\n",
       "      <td>2014-09-18 00:59:48</td>\n",
       "      <td>2014-09-18 00:59:48</td>\n",
       "      <td>2014-09-17</td>\n",
       "    </tr>\n",
       "  </tbody>\n",
       "</table>\n",
       "</div>"
      ],
      "text/plain": [
       "                  ts_min              ts_max         ds\n",
       "1388 2015-01-12 00:14:39 2015-01-12 01:09:20 2015-01-11\n",
       "1834 2015-01-04 00:14:58 2015-01-04 00:14:59 2015-01-03\n",
       "2519 2014-08-05 00:30:59 2014-08-05 00:32:13 2014-08-04\n",
       "2520 2014-08-05 00:28:06 2014-08-05 00:30:56 2014-08-04\n",
       "2540 2014-08-05 00:28:05 2014-08-05 00:32:15 2014-08-04\n",
       "2645 2015-02-02 00:11:00 2015-02-02 00:21:07 2015-02-01\n",
       "2647 2015-02-02 00:25:36 2015-02-02 00:25:36 2015-02-01\n",
       "2648 2015-02-02 00:39:02 2015-02-02 01:16:49 2015-02-01\n",
       "2653 2015-02-03 01:17:56 2015-02-03 01:21:22 2015-02-02\n",
       "2654 2015-02-03 01:41:54 2015-02-03 01:52:21 2015-02-02\n",
       "2879 2014-11-17 00:18:36 2014-11-17 00:18:36 2014-11-16\n",
       "2880 2014-11-17 00:18:32 2014-11-17 00:19:01 2014-11-16\n",
       "3457 2014-12-15 00:47:31 2014-12-15 00:47:31 2014-12-14\n",
       "4016 2014-12-17 00:23:28 2014-12-17 00:23:29 2014-12-16\n",
       "4700 2014-09-11 00:20:43 2014-09-11 00:44:15 2014-09-10\n",
       "4724 2014-12-23 00:15:42 2014-12-23 00:18:02 2014-12-22\n",
       "5074 2015-02-19 00:01:11 2015-02-19 00:01:11 2015-02-18\n",
       "5504 2014-12-16 00:37:27 2014-12-16 00:37:27 2014-12-15\n",
       "5505 2014-12-16 00:34:02 2014-12-16 00:34:09 2014-12-15\n",
       "5792 2014-09-25 00:01:33 2014-09-25 00:01:33 2014-09-24\n",
       "5853 2014-09-13 00:50:17 2014-09-13 01:56:45 2014-09-12\n",
       "5854 2014-09-13 00:50:17 2014-09-13 00:50:17 2014-09-12\n",
       "5855 2014-09-13 00:50:16 2014-09-13 00:50:16 2014-09-12\n",
       "6443 2014-09-18 00:59:49 2014-09-18 00:59:49 2014-09-17\n",
       "6444 2014-09-18 00:59:48 2014-09-18 00:59:48 2014-09-17"
      ]
     },
     "execution_count": 433,
     "metadata": {},
     "output_type": "execute_result"
    }
   ],
   "source": [
    "df[(df.ts_max.dt.date!=df.ds.dt.date)&(df.ts_min.dt.date!=df.ds.dt.date)][['ts_min', 'ts_max', 'ds']]"
   ]
  },
  {
   "cell_type": "markdown",
   "metadata": {},
   "source": [
    "It looks like in a few cases the timesetamp did not get recorded correctly. We will correct these instances now:"
   ]
  },
  {
   "cell_type": "code",
   "execution_count": 434,
   "metadata": {},
   "outputs": [],
   "source": [
    "ix = df[(df.ts_max.dt.date!=df.ds.dt.date)&(df.ts_min.dt.date!=df.ds.dt.date)][['ts_min', 'ts_max', 'ds']].index"
   ]
  },
  {
   "cell_type": "code",
   "execution_count": 435,
   "metadata": {},
   "outputs": [],
   "source": [
    "df1 = df[(df.ts_max.dt.date!=df.ds.dt.date)&(df.ts_min.dt.date!=df.ds.dt.date)][['ts_min', 'ts_max', 'ds']]"
   ]
  },
  {
   "cell_type": "code",
   "execution_count": 437,
   "metadata": {},
   "outputs": [],
   "source": [
    "df.loc[ix,'ds'] = df.loc[ix,'ds'].apply(lambda x: x.normalize() + pd.Timedelta(days=1))"
   ]
  },
  {
   "cell_type": "code",
   "execution_count": 438,
   "metadata": {},
   "outputs": [
    {
     "data": {
      "text/html": [
       "<div>\n",
       "<style scoped>\n",
       "    .dataframe tbody tr th:only-of-type {\n",
       "        vertical-align: middle;\n",
       "    }\n",
       "\n",
       "    .dataframe tbody tr th {\n",
       "        vertical-align: top;\n",
       "    }\n",
       "\n",
       "    .dataframe thead th {\n",
       "        text-align: right;\n",
       "    }\n",
       "</style>\n",
       "<table border=\"1\" class=\"dataframe\">\n",
       "  <thead>\n",
       "    <tr style=\"text-align: right;\">\n",
       "      <th></th>\n",
       "      <th>ts_min</th>\n",
       "      <th>ts_max</th>\n",
       "      <th>ds</th>\n",
       "    </tr>\n",
       "  </thead>\n",
       "  <tbody>\n",
       "  </tbody>\n",
       "</table>\n",
       "</div>"
      ],
      "text/plain": [
       "Empty DataFrame\n",
       "Columns: [ts_min, ts_max, ds]\n",
       "Index: []"
      ]
     },
     "execution_count": 438,
     "metadata": {},
     "output_type": "execute_result"
    }
   ],
   "source": [
    "df[(df.ts_max.dt.date!=df.ds.dt.date)&(df.ts_min.dt.date!=df.ds.dt.date)][['ts_min', 'ts_max', 'ds']]"
   ]
  },
  {
   "cell_type": "markdown",
   "metadata": {},
   "source": [
    "The problem has been corrected"
   ]
  },
  {
   "cell_type": "markdown",
   "metadata": {},
   "source": [
    "##### Next, we move on from data quality checks to data visualizations that should give us more insight"
   ]
  },
  {
   "cell_type": "code",
   "execution_count": null,
   "metadata": {
    "collapsed": true
   },
   "outputs": [],
   "source": []
  },
  {
   "cell_type": "code",
   "execution_count": null,
   "metadata": {
    "collapsed": true
   },
   "outputs": [],
   "source": []
  },
  {
   "cell_type": "code",
   "execution_count": null,
   "metadata": {
    "collapsed": true
   },
   "outputs": [],
   "source": []
  },
  {
   "cell_type": "code",
   "execution_count": null,
   "metadata": {
    "collapsed": true
   },
   "outputs": [],
   "source": []
  },
  {
   "cell_type": "code",
   "execution_count": null,
   "metadata": {
    "collapsed": true
   },
   "outputs": [],
   "source": []
  },
  {
   "cell_type": "markdown",
   "metadata": {},
   "source": [
    "### Problem statement: predict whether if user sends a booking request based on "
   ]
  }
 ],
 "metadata": {
  "kernelspec": {
   "display_name": "Python 3",
   "language": "python",
   "name": "python3"
  }
 },
 "nbformat": 4,
 "nbformat_minor": 2
}
