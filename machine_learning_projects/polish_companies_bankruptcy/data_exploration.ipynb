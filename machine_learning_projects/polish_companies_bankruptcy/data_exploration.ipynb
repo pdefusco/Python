{
 "cells": [
  {
   "cell_type": "markdown",
   "metadata": {},
   "source": [
    "### Data Exploration"
   ]
  },
  {
   "cell_type": "code",
   "execution_count": 1,
   "metadata": {
    "collapsed": true
   },
   "outputs": [],
   "source": [
    "%matplotlib inline\n",
    "import pandas as pd\n",
    "import numpy as np\n",
    "from scipy.io import arff\n",
    "import matplotlib.pyplot as plt\n",
    "import seaborn as sns\n",
    "import os"
   ]
  },
  {
   "cell_type": "code",
   "execution_count": 2,
   "metadata": {},
   "outputs": [],
   "source": [
    "#loading the 5 datasets into a dictionary of 5 files: \n",
    "data_dict = dict()\n",
    "for file in os.listdir('data'):\n",
    "    data_dict[file] = arff.loadarff('data/' + file)"
   ]
  },
  {
   "cell_type": "code",
   "execution_count": 3,
   "metadata": {},
   "outputs": [],
   "source": [
    "df1 = pd.DataFrame(data_dict['1year.arff'][0])"
   ]
  },
  {
   "cell_type": "code",
   "execution_count": 4,
   "metadata": {},
   "outputs": [
    {
     "data": {
      "text/plain": [
       "Index(['Attr1', 'Attr2', 'Attr3', 'Attr4', 'Attr5', 'Attr6', 'Attr7', 'Attr8',\n",
       "       'Attr9', 'Attr10', 'Attr11', 'Attr12', 'Attr13', 'Attr14', 'Attr15',\n",
       "       'Attr16', 'Attr17', 'Attr18', 'Attr19', 'Attr20', 'Attr21', 'Attr22',\n",
       "       'Attr23', 'Attr24', 'Attr25', 'Attr26', 'Attr27', 'Attr28', 'Attr29',\n",
       "       'Attr30', 'Attr31', 'Attr32', 'Attr33', 'Attr34', 'Attr35', 'Attr36',\n",
       "       'Attr37', 'Attr38', 'Attr39', 'Attr40', 'Attr41', 'Attr42', 'Attr43',\n",
       "       'Attr44', 'Attr45', 'Attr46', 'Attr47', 'Attr48', 'Attr49', 'Attr50',\n",
       "       'Attr51', 'Attr52', 'Attr53', 'Attr54', 'Attr55', 'Attr56', 'Attr57',\n",
       "       'Attr58', 'Attr59', 'Attr60', 'Attr61', 'Attr62', 'Attr63', 'Attr64',\n",
       "       'class'],\n",
       "      dtype='object')"
      ]
     },
     "execution_count": 4,
     "metadata": {},
     "output_type": "execute_result"
    }
   ],
   "source": [
    "df1.columns"
   ]
  },
  {
   "cell_type": "code",
   "execution_count": 5,
   "metadata": {},
   "outputs": [
    {
     "data": {
      "text/plain": [
       "(7027, 65)"
      ]
     },
     "execution_count": 5,
     "metadata": {},
     "output_type": "execute_result"
    }
   ],
   "source": [
    "df1.shape"
   ]
  },
  {
   "cell_type": "code",
   "execution_count": 6,
   "metadata": {
    "collapsed": true
   },
   "outputs": [],
   "source": [
    "#Creating a dictionary of feature names so they can be easily accessible:\n",
    "columns_text = \"\"\"\n",
    "- X1 net profit / total assets \n",
    "- X2 total liabilities / total assets \n",
    "- X3 working capital / total assets \n",
    "- X4 current assets / short-term liabilities \n",
    "- X5 [(cash + short-term securities + receivables - short-term liabilities) / (operating expenses - depreciation)] * 365 \n",
    "- X6 retained earnings / total assets \n",
    "- X7 EBIT / total assets \n",
    "- X8 book value of equity / total liabilities \n",
    "- X9 sales / total assets \n",
    "- X10 equity / total assets \n",
    "- X11 (gross profit + extraordinary items + financial expenses) / total assets \n",
    "- X12 gross profit / short-term liabilities \n",
    "- X13 (gross profit + depreciation) / sales \n",
    "- X14 (gross profit + interest) / total assets \n",
    "- X15 (total liabilities * 365) / (gross profit + depreciation) \n",
    "- X16 (gross profit + depreciation) / total liabilities \n",
    "- X17 total assets / total liabilities \n",
    "- X18 gross profit / total assets \n",
    "- X19 gross profit / sales \n",
    "- X20 (inventory * 365) / sales \n",
    "- X21 sales (n) / sales (n-1) \n",
    "- X22 profit on operating activities / total assets \n",
    "- X23 net profit / sales \n",
    "- X24 gross profit (in 3 years) / total assets \n",
    "- X25 (equity - share capital) / total assets \n",
    "- X26 (net profit + depreciation) / total liabilities \n",
    "- X27 profit on operating activities / financial expenses \n",
    "- X28 working capital / fixed assets \n",
    "- X29 logarithm of total assets \n",
    "- X30 (total liabilities - cash) / sales \n",
    "- X31 (gross profit + interest) / sales \n",
    "- X32 (current liabilities * 365) / cost of products sold \n",
    "- X33 operating expenses / short-term liabilities \n",
    "- X34 operating expenses / total liabilities \n",
    "- X35 profit on sales / total assets \n",
    "- X36 total sales / total assets \n",
    "- X37 (current assets - inventories) / long-term liabilities \n",
    "- X38 constant capital / total assets \n",
    "- X39 profit on sales / sales \n",
    "- X40 (current assets - inventory - receivables) / short-term liabilities \n",
    "- X41 total liabilities / ((profit on operating activities + depreciation) * (12/365)) \n",
    "- X42 profit on operating activities / sales \n",
    "- X43 rotation receivables + inventory turnover in days \n",
    "- X44 (receivables * 365) / sales \n",
    "- X45 net profit / inventory \n",
    "- X46 (current assets - inventory) / short-term liabilities \n",
    "- X47 (inventory * 365) / cost of products sold \n",
    "- X48 EBITDA (profit on operating activities - depreciation) / total assets \n",
    "- X49 EBITDA (profit on operating activities - depreciation) / sales \n",
    "- X50 current assets / total liabilities \n",
    "- X51 short-term liabilities / total assets \n",
    "- X52 (short-term liabilities * 365) / cost of products sold) \n",
    "- X53 equity / fixed assets \n",
    "- X54 constant capital / fixed assets \n",
    "- X55 working capital \n",
    "- X56 (sales - cost of products sold) / sales \n",
    "- X57 (current assets - inventory - short-term liabilities) / (sales - gross profit - depreciation) \n",
    "- X58 total costs /total sales \n",
    "- X59 long-term liabilities / equity \n",
    "- X60 sales / inventory \n",
    "- X61 sales / receivables \n",
    "- X62 (short-term liabilities *365) / sales \n",
    "- X63 sales / short-term liabilities \n",
    "- X64 sales / fixed assets\n",
    "- YYY bankrupt\"\"\""
   ]
  },
  {
   "cell_type": "code",
   "execution_count": 7,
   "metadata": {},
   "outputs": [],
   "source": [
    "col_dict = dict()\n",
    "col_dict_reverse = dict()\n",
    "col_dict = col_dict.fromkeys(df1.columns)\n",
    "col_dict_reverse = col_dict_reverse.fromkeys([i[5:].strip(' ') for i in columns_text.splitlines()[1:]])"
   ]
  },
  {
   "cell_type": "code",
   "execution_count": 8,
   "metadata": {
    "collapsed": true
   },
   "outputs": [],
   "source": [
    "for col, s in zip(col_dict.keys(), columns_text.splitlines()[1:]):\n",
    "    col_dict[col] = s[5:].strip(' ')"
   ]
  },
  {
   "cell_type": "code",
   "execution_count": 9,
   "metadata": {
    "collapsed": true
   },
   "outputs": [],
   "source": [
    "#list(col_dict_reverse.keys())\n",
    "for col, s in zip(list(col_dict_reverse.keys()), df1.columns):\n",
    "    #k = col[5:].strip(' ')\n",
    "    col_dict_reverse[col] = s"
   ]
  },
  {
   "cell_type": "code",
   "execution_count": 10,
   "metadata": {
    "collapsed": true
   },
   "outputs": [],
   "source": [
    "#renaming the class key to bankrupt:\n",
    "col_dict['bankrupt'] = col_dict['class']\n",
    "del col_dict['class']"
   ]
  },
  {
   "cell_type": "code",
   "execution_count": 11,
   "metadata": {
    "collapsed": true
   },
   "outputs": [],
   "source": [
    "#df1.rename(columns = col_dict, inplace = True)"
   ]
  },
  {
   "cell_type": "code",
   "execution_count": 12,
   "metadata": {},
   "outputs": [
    {
     "data": {
      "text/html": [
       "<div>\n",
       "<style scoped>\n",
       "    .dataframe tbody tr th:only-of-type {\n",
       "        vertical-align: middle;\n",
       "    }\n",
       "\n",
       "    .dataframe tbody tr th {\n",
       "        vertical-align: top;\n",
       "    }\n",
       "\n",
       "    .dataframe thead th {\n",
       "        text-align: right;\n",
       "    }\n",
       "</style>\n",
       "<table border=\"1\" class=\"dataframe\">\n",
       "  <thead>\n",
       "    <tr style=\"text-align: right;\">\n",
       "      <th></th>\n",
       "      <th>Attr1</th>\n",
       "      <th>Attr2</th>\n",
       "      <th>Attr3</th>\n",
       "      <th>Attr4</th>\n",
       "      <th>Attr5</th>\n",
       "      <th>Attr6</th>\n",
       "      <th>Attr7</th>\n",
       "      <th>Attr8</th>\n",
       "      <th>Attr9</th>\n",
       "      <th>Attr10</th>\n",
       "      <th>...</th>\n",
       "      <th>Attr56</th>\n",
       "      <th>Attr57</th>\n",
       "      <th>Attr58</th>\n",
       "      <th>Attr59</th>\n",
       "      <th>Attr60</th>\n",
       "      <th>Attr61</th>\n",
       "      <th>Attr62</th>\n",
       "      <th>Attr63</th>\n",
       "      <th>Attr64</th>\n",
       "      <th>class</th>\n",
       "    </tr>\n",
       "  </thead>\n",
       "  <tbody>\n",
       "    <tr>\n",
       "      <th>0</th>\n",
       "      <td>0.200550</td>\n",
       "      <td>0.37951</td>\n",
       "      <td>0.39641</td>\n",
       "      <td>2.0472</td>\n",
       "      <td>32.3510</td>\n",
       "      <td>0.38825</td>\n",
       "      <td>0.249760</td>\n",
       "      <td>1.33050</td>\n",
       "      <td>1.1389</td>\n",
       "      <td>0.50494</td>\n",
       "      <td>...</td>\n",
       "      <td>0.121960</td>\n",
       "      <td>0.39718</td>\n",
       "      <td>0.87804</td>\n",
       "      <td>0.001924</td>\n",
       "      <td>8.4160</td>\n",
       "      <td>5.1372</td>\n",
       "      <td>82.658</td>\n",
       "      <td>4.4158</td>\n",
       "      <td>7.4277</td>\n",
       "      <td>b'0'</td>\n",
       "    </tr>\n",
       "    <tr>\n",
       "      <th>1</th>\n",
       "      <td>0.209120</td>\n",
       "      <td>0.49988</td>\n",
       "      <td>0.47225</td>\n",
       "      <td>1.9447</td>\n",
       "      <td>14.7860</td>\n",
       "      <td>0.00000</td>\n",
       "      <td>0.258340</td>\n",
       "      <td>0.99601</td>\n",
       "      <td>1.6996</td>\n",
       "      <td>0.49788</td>\n",
       "      <td>...</td>\n",
       "      <td>0.121300</td>\n",
       "      <td>0.42002</td>\n",
       "      <td>0.85300</td>\n",
       "      <td>0.000000</td>\n",
       "      <td>4.1486</td>\n",
       "      <td>3.2732</td>\n",
       "      <td>107.350</td>\n",
       "      <td>3.4000</td>\n",
       "      <td>60.9870</td>\n",
       "      <td>b'0'</td>\n",
       "    </tr>\n",
       "    <tr>\n",
       "      <th>2</th>\n",
       "      <td>0.248660</td>\n",
       "      <td>0.69592</td>\n",
       "      <td>0.26713</td>\n",
       "      <td>1.5548</td>\n",
       "      <td>-1.1523</td>\n",
       "      <td>0.00000</td>\n",
       "      <td>0.309060</td>\n",
       "      <td>0.43695</td>\n",
       "      <td>1.3090</td>\n",
       "      <td>0.30408</td>\n",
       "      <td>...</td>\n",
       "      <td>0.241140</td>\n",
       "      <td>0.81774</td>\n",
       "      <td>0.76599</td>\n",
       "      <td>0.694840</td>\n",
       "      <td>4.9909</td>\n",
       "      <td>3.9510</td>\n",
       "      <td>134.270</td>\n",
       "      <td>2.7185</td>\n",
       "      <td>5.2078</td>\n",
       "      <td>b'0'</td>\n",
       "    </tr>\n",
       "    <tr>\n",
       "      <th>3</th>\n",
       "      <td>0.081483</td>\n",
       "      <td>0.30734</td>\n",
       "      <td>0.45879</td>\n",
       "      <td>2.4928</td>\n",
       "      <td>51.9520</td>\n",
       "      <td>0.14988</td>\n",
       "      <td>0.092704</td>\n",
       "      <td>1.86610</td>\n",
       "      <td>1.0571</td>\n",
       "      <td>0.57353</td>\n",
       "      <td>...</td>\n",
       "      <td>0.054015</td>\n",
       "      <td>0.14207</td>\n",
       "      <td>0.94598</td>\n",
       "      <td>0.000000</td>\n",
       "      <td>4.5746</td>\n",
       "      <td>3.6147</td>\n",
       "      <td>86.435</td>\n",
       "      <td>4.2228</td>\n",
       "      <td>5.5497</td>\n",
       "      <td>b'0'</td>\n",
       "    </tr>\n",
       "    <tr>\n",
       "      <th>4</th>\n",
       "      <td>0.187320</td>\n",
       "      <td>0.61323</td>\n",
       "      <td>0.22960</td>\n",
       "      <td>1.4063</td>\n",
       "      <td>-7.3128</td>\n",
       "      <td>0.18732</td>\n",
       "      <td>0.187320</td>\n",
       "      <td>0.63070</td>\n",
       "      <td>1.1559</td>\n",
       "      <td>0.38677</td>\n",
       "      <td>...</td>\n",
       "      <td>0.134850</td>\n",
       "      <td>0.48431</td>\n",
       "      <td>0.86515</td>\n",
       "      <td>0.124440</td>\n",
       "      <td>6.3985</td>\n",
       "      <td>4.3158</td>\n",
       "      <td>127.210</td>\n",
       "      <td>2.8692</td>\n",
       "      <td>7.8980</td>\n",
       "      <td>b'0'</td>\n",
       "    </tr>\n",
       "  </tbody>\n",
       "</table>\n",
       "<p>5 rows × 65 columns</p>\n",
       "</div>"
      ],
      "text/plain": [
       "      Attr1    Attr2    Attr3   Attr4    Attr5    Attr6     Attr7    Attr8  \\\n",
       "0  0.200550  0.37951  0.39641  2.0472  32.3510  0.38825  0.249760  1.33050   \n",
       "1  0.209120  0.49988  0.47225  1.9447  14.7860  0.00000  0.258340  0.99601   \n",
       "2  0.248660  0.69592  0.26713  1.5548  -1.1523  0.00000  0.309060  0.43695   \n",
       "3  0.081483  0.30734  0.45879  2.4928  51.9520  0.14988  0.092704  1.86610   \n",
       "4  0.187320  0.61323  0.22960  1.4063  -7.3128  0.18732  0.187320  0.63070   \n",
       "\n",
       "    Attr9   Attr10  ...      Attr56   Attr57   Attr58    Attr59  Attr60  \\\n",
       "0  1.1389  0.50494  ...    0.121960  0.39718  0.87804  0.001924  8.4160   \n",
       "1  1.6996  0.49788  ...    0.121300  0.42002  0.85300  0.000000  4.1486   \n",
       "2  1.3090  0.30408  ...    0.241140  0.81774  0.76599  0.694840  4.9909   \n",
       "3  1.0571  0.57353  ...    0.054015  0.14207  0.94598  0.000000  4.5746   \n",
       "4  1.1559  0.38677  ...    0.134850  0.48431  0.86515  0.124440  6.3985   \n",
       "\n",
       "   Attr61   Attr62  Attr63   Attr64  class  \n",
       "0  5.1372   82.658  4.4158   7.4277   b'0'  \n",
       "1  3.2732  107.350  3.4000  60.9870   b'0'  \n",
       "2  3.9510  134.270  2.7185   5.2078   b'0'  \n",
       "3  3.6147   86.435  4.2228   5.5497   b'0'  \n",
       "4  4.3158  127.210  2.8692   7.8980   b'0'  \n",
       "\n",
       "[5 rows x 65 columns]"
      ]
     },
     "execution_count": 12,
     "metadata": {},
     "output_type": "execute_result"
    }
   ],
   "source": [
    "df1.head()"
   ]
  },
  {
   "cell_type": "code",
   "execution_count": 13,
   "metadata": {
    "collapsed": true
   },
   "outputs": [],
   "source": [
    "#Formatting column names\n",
    "#df1.columns = df1.columns.map(lambda x: x.strip(\" \"))"
   ]
  },
  {
   "cell_type": "code",
   "execution_count": 14,
   "metadata": {
    "collapsed": true
   },
   "outputs": [],
   "source": [
    "#Notice the bakrupt (target) var is a string with an unwanted character. Let's cast it to int\n",
    "df1.rename(columns = {'class':'bankrupt'}, inplace = True)\n",
    "import re\n",
    "df1['bankrupt'] = df1['bankrupt'].str.decode('utf-8')\n",
    "df1['bankrupt'] = df1['bankrupt'].map(lambda x: re.sub('b','',x)).astype('int')"
   ]
  },
  {
   "cell_type": "code",
   "execution_count": 15,
   "metadata": {},
   "outputs": [
    {
     "name": "stdout",
     "output_type": "stream",
     "text": [
      "Only Numeric Features: \n",
      "Empty DataFrame\n",
      "Columns: []\n",
      "Index: [0, 1, 2, 3, 4, 5, 6, 7, 8, 9, 10, 11, 12, 13, 14, 15, 16, 17, 18, 19, 20, 21, 22, 23, 24, 25, 26, 27, 28, 29, 30, 31, 32, 33, 34, 35, 36, 37, 38, 39, 40, 41, 42, 43, 44, 45, 46, 47, 48, 49, 50, 51, 52, 53, 54, 55, 56, 57, 58, 59, 60, 61, 62, 63, 64, 65, 66, 67, 68, 69, 70, 71, 72, 73, 74, 75, 76, 77, 78, 79, 80, 81, 82, 83, 84, 85, 86, 87, 88, 89, 90, 91, 92, 93, 94, 95, 96, 97, 98, 99, ...]\n",
      "\n",
      "[7027 rows x 0 columns]\n"
     ]
    }
   ],
   "source": [
    "print(\"Only Numeric Features: \")\n",
    "print(df1.select_dtypes(exclude = ['float64', 'int64']))"
   ]
  },
  {
   "cell_type": "markdown",
   "metadata": {},
   "source": [
    "All features are numeric and formatted correctly. The dataframe looks good to go for some initial data exploration"
   ]
  },
  {
   "cell_type": "code",
   "execution_count": 16,
   "metadata": {
    "collapsed": true
   },
   "outputs": [],
   "source": [
    "#Calculating percentage of nulls for each feature and putting it in new df\n",
    "nulls_df = pd.DataFrame(df1.isna().sum()/df1.shape[0])\n",
    "nulls_df.columns = ['nulls']"
   ]
  },
  {
   "cell_type": "code",
   "execution_count": 17,
   "metadata": {},
   "outputs": [
    {
     "data": {
      "image/png": "[encoded data removed]",
      "text/plain": [
       "<Figure size 432x288 with 1 Axes>"
      ]
     },
     "metadata": {
      "needs_background": "light"
     },
     "output_type": "display_data"
    }
   ],
   "source": [
    "#Printing features with more than 10% of null instances \n",
    "thres = 0.05\n",
    "mask = (nulls_df > thres)\n",
    "\n",
    "nulls_df[mask].dropna().T.plot(kind = 'bar')\n",
    "plt.title(\"Features with more than %.2f Nulls\" %thres)\n",
    "plt.show()"
   ]
  },
  {
   "cell_type": "code",
   "execution_count": 18,
   "metadata": {},
   "outputs": [
    {
     "name": "stdout",
     "output_type": "stream",
     "text": [
      "Columns with high percentage of nulls: \n",
      " sales (n) / sales (n-1) \n",
      " (current assets - inventories) / long-term liabilities\n"
     ]
    }
   ],
   "source": [
    "#Looking up attr21 and 37:\n",
    "print(\"Columns with high percentage of nulls: \\n\", col_dict['Attr21'], '\\n', col_dict['Attr37'])"
   ]
  },
  {
   "cell_type": "markdown",
   "metadata": {},
   "source": [
    "Luckily, only two features have a high number of nulls. We can probably remove them but before we do so, let's investigate a bit further how whether if doing so may affect our data"
   ]
  },
  {
   "cell_type": "code",
   "execution_count": 19,
   "metadata": {
    "collapsed": true
   },
   "outputs": [],
   "source": [
    "idx_21 = df1.loc[df1['Attr21'].isna() == True].index\n",
    "idx_37 = df1.loc[df1['Attr37'].isna() == True].index"
   ]
  },
  {
   "cell_type": "code",
   "execution_count": 20,
   "metadata": {},
   "outputs": [
    {
     "data": {
      "text/plain": [
       "Text(0.5, 1.0, 'Attr21 Nulls vs bankruptcy')"
      ]
     },
     "execution_count": 20,
     "metadata": {},
     "output_type": "execute_result"
    },
    {
     "data": {
      "image/png": "[encoded data removed]",
      "text/plain": [
       "<Figure size 432x288 with 1 Axes>"
      ]
     },
     "metadata": {
      "needs_background": "light"
     },
     "output_type": "display_data"
    }
   ],
   "source": [
    "sns.countplot(x = 'bankrupt', data = df1.loc[idx_21])\n",
    "plt.title(\"Attr21 Nulls vs bankruptcy\")"
   ]
  },
  {
   "cell_type": "code",
   "execution_count": 21,
   "metadata": {},
   "outputs": [
    {
     "data": {
      "text/plain": [
       "Text(0.5, 1.0, 'Attr37 Nulls vs bankruptcy')"
      ]
     },
     "execution_count": 21,
     "metadata": {},
     "output_type": "execute_result"
    },
    {
     "data": {
      "image/png": "[encoded data removed]",
      "text/plain": [
       "<Figure size 432x288 with 1 Axes>"
      ]
     },
     "metadata": {
      "needs_background": "light"
     },
     "output_type": "display_data"
    }
   ],
   "source": [
    "sns.countplot(x = 'bankrupt', data = df1.loc[idx_37])\n",
    "plt.title(\"Attr37 Nulls vs bankruptcy\")"
   ]
  },
  {
   "cell_type": "markdown",
   "metadata": {},
   "source": [
    "The Majority of nulls are non bankrupt companies"
   ]
  },
  {
   "cell_type": "markdown",
   "metadata": {
    "collapsed": true
   },
   "source": [
    "Let's investigate feature distributions at a glance. Before we start plotting features, let's get a sense for the scale of each variable "
   ]
  },
  {
   "cell_type": "code",
   "execution_count": 22,
   "metadata": {},
   "outputs": [],
   "source": [
    "sorted_cols = df1.describe().sort_values(by = 'std', axis = 1).columns\n",
    "desc_df = df1.describe()\n",
    "desc_df.sort_values(by = 'std', axis = 1, inplace=True)"
   ]
  },
  {
   "cell_type": "code",
   "execution_count": 23,
   "metadata": {},
   "outputs": [],
   "source": [
    "#desc_df.iloc[0:10]\n",
    "df2 = df1[sorted_cols].iloc[:,1:20].melt(var_name='groups', value_name='vals')"
   ]
  },
  {
   "cell_type": "code",
   "execution_count": 24,
   "metadata": {},
   "outputs": [
    {
     "name": "stderr",
     "output_type": "stream",
     "text": [
      "/Users/pauldefusco/anaconda2/envs/py36/lib/python3.6/site-packages/scipy/stats/stats.py:1713: FutureWarning: Using a non-tuple sequence for multidimensional indexing is deprecated; use `arr[tuple(seq)]` instead of `arr[seq]`. In the future this will be interpreted as an array index, `arr[np.array(seq)]`, which will result either in an error or a different result.\n",
      "  return np.add.reduce(sorted[indexer] * weights, axis=axis) / sumval\n"
     ]
    },
    {
     "data": {
      "image/png": "[encoded data removed]",
      "text/plain": [
       "<Figure size 1440x720 with 1 Axes>"
      ]
     },
     "metadata": {
      "needs_background": "light"
     },
     "output_type": "display_data"
    }
   ],
   "source": [
    "plt.figure(figsize = (20,10))\n",
    "ax = sns.violinplot(x = 'groups', y = 'vals', data = df2)\n",
    "plt.show()"
   ]
  },
  {
   "cell_type": "code",
   "execution_count": 26,
   "metadata": {
    "collapsed": true
   },
   "outputs": [],
   "source": [
    "#cmap = sns.cubehelix_palette(dark=.3, light=.8, as_cmap=True)"
   ]
  },
  {
   "cell_type": "code",
   "execution_count": 27,
   "metadata": {},
   "outputs": [
    {
     "data": {
      "text/plain": [
       "<matplotlib.axes._subplots.AxesSubplot at 0x1a235d7128>"
      ]
     },
     "execution_count": 27,
     "metadata": {},
     "output_type": "execute_result"
    },
    {
     "data": {
      "image/png": "[encoded data removed]",
      "text/plain": [
       "<Figure size 432x288 with 1 Axes>"
      ]
     },
     "metadata": {
      "needs_background": "light"
     },
     "output_type": "display_data"
    }
   ],
   "source": [
    "cols = ['Attr' + str(i+1) for i in range(10)]\n",
    "sns.violinplot(data=df1[cols],inner=\"points\")"
   ]
  },
  {
   "cell_type": "code",
   "execution_count": 28,
   "metadata": {},
   "outputs": [
    {
     "data": {
      "image/png": "[encoded data removed]",
      "text/plain": [
       "<Figure size 1440x720 with 1 Axes>"
      ]
     },
     "metadata": {
      "needs_background": "light"
     },
     "output_type": "display_data"
    }
   ],
   "source": [
    "plt.figure(figsize = (20,10))\n",
    "sns.scatterplot(x=\"mean\", y=\"std\", data=desc_df.T, hue = 'mean', size='mean', sizes = (20,500))\n",
    "plt.title(\"Comparison of Feature Scales\")\n",
    "plt.show()"
   ]
  },
  {
   "cell_type": "code",
   "execution_count": null,
   "metadata": {
    "collapsed": true
   },
   "outputs": [],
   "source": []
  },
  {
   "cell_type": "markdown",
   "metadata": {},
   "source": []
  },
  {
   "cell_type": "code",
   "execution_count": 29,
   "metadata": {},
   "outputs": [],
   "source": [
    "from scipy import stats\n",
    "import math\n",
    "#Correlation between continuous and binary variables\n",
    "pbcorr_list = []\n",
    "for i in range(1, len(df1.columns)):\n",
    "    if math.isnan(stats.pointbiserialr(df1['Attr' + str(i)],df1['bankrupt'])[0]) != True:\n",
    "        pbcorr_list.append(('Att'+str(i), stats.pointbiserialr(df1['Attr' + str(i)],df1['bankrupt'])[0]))"
   ]
  },
  {
   "cell_type": "code",
   "execution_count": 30,
   "metadata": {},
   "outputs": [
    {
     "data": {
      "text/plain": [
       "[('Att55', -0.022040153957230697),\n",
       " ('Att19', -0.004444712162920826),\n",
       " ('Att31', -0.004413843376435808),\n",
       " ('Att23', -0.004350056216844583),\n",
       " ('Att13', -0.0028624599361745744),\n",
       " ('Att62', -0.002679078328597032),\n",
       " ('Att44', -0.002494867588748255),\n",
       " ('Att43', -0.0024696151154820324),\n",
       " ('Att20', -0.0023953079056083957),\n",
       " ('Att30', -0.0023919528599573646),\n",
       " ('Att58', -0.0023894589912474788),\n",
       " ('Att39', -0.0018525799599408287),\n",
       " ('Att42', -0.0018395014864024126),\n",
       " ('Att56', 0.0023902577828861424),\n",
       " ('Att49', 0.0025168668700973683)]"
      ]
     },
     "execution_count": 30,
     "metadata": {},
     "output_type": "execute_result"
    }
   ],
   "source": [
    "sorted(pbcorr_list, key = lambda tup: tup[1])"
   ]
  },
  {
   "cell_type": "code",
   "execution_count": null,
   "metadata": {
    "collapsed": true
   },
   "outputs": [],
   "source": []
  },
  {
   "cell_type": "code",
   "execution_count": 31,
   "metadata": {},
   "outputs": [
    {
     "data": {
      "image/png": "[encoded data removed]",
      "text/plain": [
       "<Figure size 936x576 with 2 Axes>"
      ]
     },
     "metadata": {
      "needs_background": "light"
     },
     "output_type": "display_data"
    }
   ],
   "source": [
    "corr = df1.corr()\n",
    "fig, ax = plt.subplots(figsize=(13,8))\n",
    "sns.heatmap(corr, ax=ax, cmap = 'PuOr', cbar=True)\n",
    "plt.title(\"Correlation Matrix\")\n",
    "plt.show()"
   ]
  },
  {
   "cell_type": "markdown",
   "metadata": {},
   "source": [
    "Visualizing a large correlation matrix such as this one can be challenging. Let's pick the features that have the largest correlation with the dependent variable to glance which may be the most important to start investigating"
   ]
  },
  {
   "cell_type": "code",
   "execution_count": 32,
   "metadata": {},
   "outputs": [
    {
     "data": {
      "text/plain": [
       "\"mask = corr[corr>0.5]\\n\\npos_corr  = []\\nneg_corr = []\\n\\nfor i in mask.index:\\n    for k in mask.columns:\\n        if i == k:\\n            continue\\n        elif mask.loc[i,k] > 0.5:\\n            pos_corr.append(''.join(i + '###' + k))\\n        elif mask.loc[i,k] < - 0.5:\\n            neg_corr.append(''.join(i + '###' + k))  \""
      ]
     },
     "execution_count": 32,
     "metadata": {},
     "output_type": "execute_result"
    }
   ],
   "source": [
    "\"\"\"mask = corr[corr>0.5]\n",
    "\n",
    "pos_corr  = []\n",
    "neg_corr = []\n",
    "\n",
    "for i in mask.index:\n",
    "    for k in mask.columns:\n",
    "        if i == k:\n",
    "            continue\n",
    "        elif mask.loc[i,k] > 0.5:\n",
    "            pos_corr.append(''.join(i + '###' + k))\n",
    "        elif mask.loc[i,k] < - 0.5:\n",
    "            neg_corr.append(''.join(i + '###' + k))  \"\"\"       \n",
    "            \n",
    "#Can be done with list comprehension\n",
    "#But the quickest way to do this is nlargest pandas method"
   ]
  },
  {
   "cell_type": "code",
   "execution_count": 33,
   "metadata": {
    "collapsed": true
   },
   "outputs": [],
   "source": [
    "largest = corr.nlargest(10,'bankrupt')['bankrupt']\n",
    "smallest = corr.nsmallest(10, 'bankrupt')['bankrupt']"
   ]
  },
  {
   "cell_type": "code",
   "execution_count": 34,
   "metadata": {},
   "outputs": [
    {
     "data": {
      "image/png": "[encoded data removed]",
      "text/plain": [
       "<Figure size 1440x1008 with 4 Axes>"
      ]
     },
     "metadata": {
      "needs_background": "light"
     },
     "output_type": "display_data"
    }
   ],
   "source": [
    "fig, (ax1, ax2) = plt.subplots(2,1, figsize=(20,14))\n",
    "\n",
    "sns.heatmap(corr.loc[largest.index, largest.index], ax=ax1, cmap = 'Greens', cbar=True)\n",
    "ax1.set_title(\"Positively Correlated with Bankruptcies\")\n",
    "\n",
    "sns.heatmap(corr.loc[smallest.index, smallest.index], ax=ax2, cmap = 'Reds', cbar=True)\n",
    "ax2.set_title(\"Negatively Correlated with Bankruptcies\")\n",
    "\n",
    "plt.show()"
   ]
  },
  {
   "cell_type": "code",
   "execution_count": 35,
   "metadata": {},
   "outputs": [
    {
     "name": "stdout",
     "output_type": "stream",
     "text": [
      "Looking up 10 columns that are most positively correlated with bankruptcy: \n"
     ]
    },
    {
     "data": {
      "text/plain": [
       "['bankrupt',\n",
       " 'total liabilities / total assets',\n",
       " 'short-term liabilities / total assets',\n",
       " '(current liabilities * 365) / cost of products sold',\n",
       " '(short-term liabilities * 365) / cost of products sold)',\n",
       " 'operating expenses / total liabilities',\n",
       " 'current assets / total liabilities',\n",
       " 'operating expenses / short-term liabilities',\n",
       " '(current assets - inventory - receivables) / short-term liabilities',\n",
       " '(total liabilities * 365) / (gross profit + depreciation)']"
      ]
     },
     "execution_count": 35,
     "metadata": {},
     "output_type": "execute_result"
    }
   ],
   "source": [
    "print(\"Looking up 10 columns that are most positively correlated with bankruptcy: \")\n",
    "[col_dict[i] for i in largest.index]"
   ]
  },
  {
   "cell_type": "code",
   "execution_count": 36,
   "metadata": {},
   "outputs": [
    {
     "name": "stdout",
     "output_type": "stream",
     "text": [
      "Looking up 10 columns that are most negatively correlated with bankruptcy: \n"
     ]
    },
    {
     "data": {
      "text/plain": [
       "['working capital / total assets',\n",
       " '(current assets - inventory - short-term liabilities) / (sales - gross profit - depreciation)',\n",
       " 'retained earnings / total assets',\n",
       " 'logarithm of total assets',\n",
       " 'working capital',\n",
       " '(equity - share capital) / total assets',\n",
       " 'equity / total assets',\n",
       " 'constant capital / total assets',\n",
       " 'gross profit / short-term liabilities',\n",
       " '(gross profit + depreciation) / total liabilities']"
      ]
     },
     "execution_count": 36,
     "metadata": {},
     "output_type": "execute_result"
    }
   ],
   "source": [
    "print(\"Looking up 10 columns that are most negatively correlated with bankruptcy: \")\n",
    "[col_dict[i] for i in smallest.index]"
   ]
  },
  {
   "cell_type": "code",
   "execution_count": null,
   "metadata": {
    "collapsed": true
   },
   "outputs": [],
   "source": []
  },
  {
   "cell_type": "code",
   "execution_count": null,
   "metadata": {
    "collapsed": true
   },
   "outputs": [],
   "source": []
  },
  {
   "cell_type": "markdown",
   "metadata": {},
   "source": [
    "#### Null Handling Decision:\n",
    "    - remove attr21 and attr37\n",
    "    - impute remaining nulls with mean "
   ]
  },
  {
   "cell_type": "code",
   "execution_count": 37,
   "metadata": {
    "collapsed": true
   },
   "outputs": [],
   "source": [
    "df1 = df1.drop(columns = ['Attr21', 'Attr37'])"
   ]
  },
  {
   "cell_type": "code",
   "execution_count": 38,
   "metadata": {},
   "outputs": [],
   "source": [
    "df1.fillna(df1.mean(), inplace=True)"
   ]
  },
  {
   "cell_type": "code",
   "execution_count": null,
   "metadata": {
    "collapsed": true
   },
   "outputs": [],
   "source": []
  },
  {
   "cell_type": "code",
   "execution_count": null,
   "metadata": {
    "collapsed": true
   },
   "outputs": [],
   "source": []
  },
  {
   "cell_type": "markdown",
   "metadata": {
    "collapsed": true
   },
   "source": [
    "### Transformed Dataset"
   ]
  },
  {
   "cell_type": "code",
   "execution_count": null,
   "metadata": {},
   "outputs": [],
   "source": [
    "#Storing as variable causes data type issues. Will use Pickle instead\n",
    "#%store df1"
   ]
  },
  {
   "cell_type": "code",
   "execution_count": 40,
   "metadata": {},
   "outputs": [],
   "source": [
    "df1.to_pickle('data/pickle_files/df1_pickle')"
   ]
  },
  {
   "cell_type": "code",
   "execution_count": null,
   "metadata": {
    "collapsed": true
   },
   "outputs": [],
   "source": []
  }
 ],
 "metadata": {
  "kernelspec": {
   "display_name": "Python 3",
   "language": "python",
   "name": "python3"
  },
  "language_info": {
   "codemirror_mode": {
    "name": "ipython",
    "version": 3
   },
   "file_extension": ".py",
   "mimetype": "text/x-python",
   "name": "python",
   "nbconvert_exporter": "python",
   "pygments_lexer": "ipython3",
   "version": "3.6.3"
  }
 },
 "nbformat": 4,
 "nbformat_minor": 2
}
