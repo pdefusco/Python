{
 "cells": [
  {
   "cell_type": "markdown",
   "metadata": {},
   "source": [
    "## Polish Companies Bankruptcy Data"
   ]
  },
  {
   "cell_type": "markdown",
   "metadata": {},
   "source": [
    "Project Scope: predict bankruptcies of polish companies "
   ]
  },
  {
   "cell_type": "markdown",
   "metadata": {},
   "source": [
    "##### Machine Learning Task: Binary Classification - Labeled Dataset\n",
    "\n",
    "- Instances: 10503\n",
    "- Attributes: 64"
   ]
  },
  {
   "cell_type": "markdown",
   "metadata": {},
   "source": [
    "Source: https://archive.ics.uci.edu/ml/datasets/Polish+companies+bankruptcy+data"
   ]
  },
  {
   "cell_type": "markdown",
   "metadata": {},
   "source": [
    "#### Attribute Information:\n",
    "\n",
    "- X1\tnet profit / total assets \n",
    "- X2\ttotal liabilities / total assets \n",
    "- X3\tworking capital / total assets \n",
    "- X4\tcurrent assets / short-term liabilities \n",
    "- X5\t[(cash + short-term securities + receivables - short-term liabilities) / (operating expenses - depreciation)] * 365 \n",
    "- X6\tretained earnings / total assets \n",
    "- X7\tEBIT / total assets \n",
    "- X8\tbook value of equity / total liabilities \n",
    "- X9\tsales / total assets \n",
    "- X10\tequity / total assets \n",
    "- X11\t(gross profit + extraordinary items + financial expenses) / total assets \n",
    "- X12\tgross profit / short-term liabilities \n",
    "- X13\t(gross profit + depreciation) / sales \n",
    "- X14\t(gross profit + interest) / total assets \n",
    "- X15\t(total liabilities * 365) / (gross profit + depreciation) \n",
    "- X16\t(gross profit + depreciation) / total liabilities \n",
    "- X17\ttotal assets / total liabilities \n",
    "- X18\tgross profit / total assets \n",
    "- X19\tgross profit / sales \n",
    "- X20\t(inventory * 365) / sales \n",
    "- X21\tsales (n) / sales (n-1) \n",
    "- X22\tprofit on operating activities / total assets \n",
    "- X23\tnet profit / sales \n",
    "- X24\tgross profit (in 3 years) / total assets \n",
    "- X25\t(equity - share capital) / total assets \n",
    "- X26\t(net profit + depreciation) / total liabilities \n",
    "- X27\tprofit on operating activities / financial expenses \n",
    "- X28\tworking capital / fixed assets \n",
    "- X29\tlogarithm of total assets \n",
    "- X30\t(total liabilities - cash) / sales \n",
    "- X31\t(gross profit + interest) / sales \n",
    "- X32\t(current liabilities * 365) / cost of products sold \n",
    "- X33\toperating expenses / short-term liabilities \n",
    "- X34\toperating expenses / total liabilities \n",
    "- X35\tprofit on sales / total assets \n",
    "- X36\ttotal sales / total assets \n",
    "- X37\t(current assets - inventories) / long-term liabilities \n",
    "- X38\tconstant capital / total assets \n",
    "- X39\tprofit on sales / sales \n",
    "- X40\t(current assets - inventory - receivables) / short-term liabilities \n",
    "- X41\ttotal liabilities / ((profit on operating activities + depreciation) * (12/365)) \n",
    "- X42\tprofit on operating activities / sales \n",
    "- X43\trotation receivables + inventory turnover in days \n",
    "- X44\t(receivables * 365) / sales \n",
    "- X45\tnet profit / inventory \n",
    "- X46\t(current assets - inventory) / short-term liabilities \n",
    "- X47\t(inventory * 365) / cost of products sold \n",
    "- X48\tEBITDA (profit on operating activities - depreciation) / total assets \n",
    "- X49\tEBITDA (profit on operating activities - depreciation) / sales \n",
    "- X50\tcurrent assets / total liabilities \n",
    "- X51\tshort-term liabilities / total assets \n",
    "- X52\t(short-term liabilities * 365) / cost of products sold) \n",
    "- X53\tequity / fixed assets \n",
    "- X54\tconstant capital / fixed assets \n",
    "- X55\tworking capital \n",
    "- X56\t(sales - cost of products sold) / sales \n",
    "- X57\t(current assets - inventory - short-term liabilities) / (sales - gross profit - depreciation) \n",
    "- X58\ttotal costs /total sales \n",
    "- X59\tlong-term liabilities / equity \n",
    "- X60\tsales / inventory \n",
    "- X61\tsales / receivables \n",
    "- X62\t(short-term liabilities *365) / sales \n",
    "- X63\tsales / short-term liabilities \n",
    "- X64\tsales / fixed assets"
   ]
  },
  {
   "cell_type": "code",
   "execution_count": 21,
   "metadata": {},
   "outputs": [],
   "source": [
    "%matplotlib inline\n",
    "import pandas as pd\n",
    "from scipy.io import arff\n",
    "import matplotlib.pyplot as plt\n",
    "import seaborn as sns\n",
    "import os"
   ]
  },
  {
   "cell_type": "code",
   "execution_count": 25,
   "metadata": {},
   "outputs": [
    {
     "data": {
      "text/plain": [
       "['2year.arff', '3year.arff', '5year.arff', '4year.arff', '1year.arff']"
      ]
     },
     "execution_count": 25,
     "metadata": {},
     "output_type": "execute_result"
    }
   ],
   "source": [
    "os.listdir('data')"
   ]
  },
  {
   "cell_type": "code",
   "execution_count": 29,
   "metadata": {},
   "outputs": [],
   "source": [
    "#loading the 5 datasets into a dictionary of 5 files: \n",
    "data_dict = dict()\n",
    "for file in os.listdir('data'):\n",
    "    data_dict[file] = arff.loadarff('data/' + file)"
   ]
  },
  {
   "cell_type": "code",
   "execution_count": 31,
   "metadata": {},
   "outputs": [
    {
     "data": {
      "text/plain": [
       "dict_keys(['2year.arff', '3year.arff', '5year.arff', '4year.arff', '1year.arff'])"
      ]
     },
     "execution_count": 31,
     "metadata": {},
     "output_type": "execute_result"
    }
   ],
   "source": [
    "data_dict.keys()"
   ]
  },
  {
   "cell_type": "code",
   "execution_count": 40,
   "metadata": {},
   "outputs": [],
   "source": [
    "df1 = pd.DataFrame(data_dict['1year.arff'][0])"
   ]
  },
  {
   "cell_type": "code",
   "execution_count": 46,
   "metadata": {},
   "outputs": [
    {
     "data": {
      "text/html": [
       "<div>\n",
       "<style scoped>\n",
       "    .dataframe tbody tr th:only-of-type {\n",
       "        vertical-align: middle;\n",
       "    }\n",
       "\n",
       "    .dataframe tbody tr th {\n",
       "        vertical-align: top;\n",
       "    }\n",
       "\n",
       "    .dataframe thead th {\n",
       "        text-align: right;\n",
       "    }\n",
       "</style>\n",
       "<table border=\"1\" class=\"dataframe\">\n",
       "  <thead>\n",
       "    <tr style=\"text-align: right;\">\n",
       "      <th></th>\n",
       "      <th>Attr1</th>\n",
       "      <th>Attr2</th>\n",
       "      <th>Attr3</th>\n",
       "      <th>Attr4</th>\n",
       "      <th>Attr5</th>\n",
       "      <th>Attr6</th>\n",
       "      <th>Attr7</th>\n",
       "      <th>Attr8</th>\n",
       "      <th>Attr9</th>\n",
       "      <th>Attr10</th>\n",
       "      <th>...</th>\n",
       "      <th>Attr55</th>\n",
       "      <th>Attr56</th>\n",
       "      <th>Attr57</th>\n",
       "      <th>Attr58</th>\n",
       "      <th>Attr59</th>\n",
       "      <th>Attr60</th>\n",
       "      <th>Attr61</th>\n",
       "      <th>Attr62</th>\n",
       "      <th>Attr63</th>\n",
       "      <th>Attr64</th>\n",
       "    </tr>\n",
       "  </thead>\n",
       "  <tbody>\n",
       "    <tr>\n",
       "      <th>count</th>\n",
       "      <td>7024.000000</td>\n",
       "      <td>7024.000000</td>\n",
       "      <td>7024.000000</td>\n",
       "      <td>6997.000000</td>\n",
       "      <td>7.019000e+03</td>\n",
       "      <td>7024.000000</td>\n",
       "      <td>7024.000000</td>\n",
       "      <td>7002.000000</td>\n",
       "      <td>7026.000000</td>\n",
       "      <td>7024.000000</td>\n",
       "      <td>...</td>\n",
       "      <td>7.027000e+03</td>\n",
       "      <td>7.027000e+03</td>\n",
       "      <td>7026.000000</td>\n",
       "      <td>7.027000e+03</td>\n",
       "      <td>7026.000000</td>\n",
       "      <td>6.892000e+03</td>\n",
       "      <td>7005.000000</td>\n",
       "      <td>7.027000e+03</td>\n",
       "      <td>6997.000000</td>\n",
       "      <td>6993.000000</td>\n",
       "    </tr>\n",
       "    <tr>\n",
       "      <th>mean</th>\n",
       "      <td>0.034660</td>\n",
       "      <td>0.560215</td>\n",
       "      <td>0.119969</td>\n",
       "      <td>2.629143</td>\n",
       "      <td>-2.631672e+02</td>\n",
       "      <td>0.059712</td>\n",
       "      <td>0.313876</td>\n",
       "      <td>2.623996</td>\n",
       "      <td>5.552855</td>\n",
       "      <td>1.825832</td>\n",
       "      <td>...</td>\n",
       "      <td>8.855693e+03</td>\n",
       "      <td>-1.577367e+02</td>\n",
       "      <td>0.193243</td>\n",
       "      <td>1.587409e+02</td>\n",
       "      <td>0.277829</td>\n",
       "      <td>4.328830e+02</td>\n",
       "      <td>15.642228</td>\n",
       "      <td>4.763202e+03</td>\n",
       "      <td>8.126852</td>\n",
       "      <td>208.731950</td>\n",
       "    </tr>\n",
       "    <tr>\n",
       "      <th>std</th>\n",
       "      <td>4.565504</td>\n",
       "      <td>5.350084</td>\n",
       "      <td>5.275459</td>\n",
       "      <td>13.257356</td>\n",
       "      <td>3.707460e+04</td>\n",
       "      <td>6.051113</td>\n",
       "      <td>8.353274</td>\n",
       "      <td>18.708327</td>\n",
       "      <td>101.995448</td>\n",
       "      <td>33.836452</td>\n",
       "      <td>...</td>\n",
       "      <td>7.247527e+04</td>\n",
       "      <td>1.322125e+04</td>\n",
       "      <td>4.344046</td>\n",
       "      <td>1.322124e+04</td>\n",
       "      <td>6.339149</td>\n",
       "      <td>2.612802e+04</td>\n",
       "      <td>261.554534</td>\n",
       "      <td>3.107835e+05</td>\n",
       "      <td>19.996419</td>\n",
       "      <td>5140.708804</td>\n",
       "    </tr>\n",
       "    <tr>\n",
       "      <th>min</th>\n",
       "      <td>-256.890000</td>\n",
       "      <td>-72.162000</td>\n",
       "      <td>-440.500000</td>\n",
       "      <td>0.000000</td>\n",
       "      <td>-2.722100e+06</td>\n",
       "      <td>-397.890000</td>\n",
       "      <td>-189.560000</td>\n",
       "      <td>-141.410000</td>\n",
       "      <td>0.000005</td>\n",
       "      <td>-440.550000</td>\n",
       "      <td>...</td>\n",
       "      <td>-8.004700e+05</td>\n",
       "      <td>-1.108300e+06</td>\n",
       "      <td>-315.370000</td>\n",
       "      <td>-4.194000e-03</td>\n",
       "      <td>-327.970000</td>\n",
       "      <td>4.700000e-05</td>\n",
       "      <td>0.000016</td>\n",
       "      <td>0.000000e+00</td>\n",
       "      <td>0.000015</td>\n",
       "      <td>0.000010</td>\n",
       "    </tr>\n",
       "    <tr>\n",
       "      <th>25%</th>\n",
       "      <td>0.021182</td>\n",
       "      <td>0.296678</td>\n",
       "      <td>0.026968</td>\n",
       "      <td>1.063100</td>\n",
       "      <td>-4.449800e+01</td>\n",
       "      <td>0.000000</td>\n",
       "      <td>0.028023</td>\n",
       "      <td>0.445710</td>\n",
       "      <td>1.037225</td>\n",
       "      <td>0.300785</td>\n",
       "      <td>...</td>\n",
       "      <td>9.712000e+01</td>\n",
       "      <td>2.031450e-02</td>\n",
       "      <td>0.056772</td>\n",
       "      <td>8.647650e-01</td>\n",
       "      <td>0.000000</td>\n",
       "      <td>5.923950e+00</td>\n",
       "      <td>4.829000</td>\n",
       "      <td>4.322250e+01</td>\n",
       "      <td>3.425400</td>\n",
       "      <td>2.538600</td>\n",
       "    </tr>\n",
       "    <tr>\n",
       "      <th>50%</th>\n",
       "      <td>0.075802</td>\n",
       "      <td>0.482960</td>\n",
       "      <td>0.181275</td>\n",
       "      <td>1.502000</td>\n",
       "      <td>-5.373900e+00</td>\n",
       "      <td>0.000000</td>\n",
       "      <td>0.090109</td>\n",
       "      <td>1.015100</td>\n",
       "      <td>1.205750</td>\n",
       "      <td>0.492235</td>\n",
       "      <td>...</td>\n",
       "      <td>1.604800e+03</td>\n",
       "      <td>6.338200e-02</td>\n",
       "      <td>0.175745</td>\n",
       "      <td>9.388100e-01</td>\n",
       "      <td>0.028438</td>\n",
       "      <td>1.004050e+01</td>\n",
       "      <td>7.033700</td>\n",
       "      <td>6.850900e+01</td>\n",
       "      <td>5.303200</td>\n",
       "      <td>4.637700</td>\n",
       "    </tr>\n",
       "    <tr>\n",
       "      <th>75%</th>\n",
       "      <td>0.160268</td>\n",
       "      <td>0.680233</td>\n",
       "      <td>0.362548</td>\n",
       "      <td>2.460700</td>\n",
       "      <td>3.777050e+01</td>\n",
       "      <td>0.146660</td>\n",
       "      <td>0.188667</td>\n",
       "      <td>2.267675</td>\n",
       "      <td>2.132975</td>\n",
       "      <td>0.675677</td>\n",
       "      <td>...</td>\n",
       "      <td>5.955900e+03</td>\n",
       "      <td>1.376950e-01</td>\n",
       "      <td>0.351922</td>\n",
       "      <td>9.820150e-01</td>\n",
       "      <td>0.273867</td>\n",
       "      <td>2.013900e+01</td>\n",
       "      <td>10.703000</td>\n",
       "      <td>1.063350e+02</td>\n",
       "      <td>8.357900</td>\n",
       "      <td>9.782200</td>\n",
       "    </tr>\n",
       "    <tr>\n",
       "      <th>max</th>\n",
       "      <td>94.280000</td>\n",
       "      <td>441.500000</td>\n",
       "      <td>1.000000</td>\n",
       "      <td>1017.800000</td>\n",
       "      <td>9.909000e+05</td>\n",
       "      <td>303.670000</td>\n",
       "      <td>453.770000</td>\n",
       "      <td>1452.200000</td>\n",
       "      <td>3876.100000</td>\n",
       "      <td>1099.500000</td>\n",
       "      <td>...</td>\n",
       "      <td>4.398400e+06</td>\n",
       "      <td>1.000000e+00</td>\n",
       "      <td>126.670000</td>\n",
       "      <td>1.108300e+06</td>\n",
       "      <td>119.580000</td>\n",
       "      <td>2.137800e+06</td>\n",
       "      <td>21110.000000</td>\n",
       "      <td>2.501600e+07</td>\n",
       "      <td>1042.200000</td>\n",
       "      <td>294770.000000</td>\n",
       "    </tr>\n",
       "  </tbody>\n",
       "</table>\n",
       "<p>8 rows × 64 columns</p>\n",
       "</div>"
      ],
      "text/plain": [
       "             Attr1        Attr2        Attr3        Attr4         Attr5  \\\n",
       "count  7024.000000  7024.000000  7024.000000  6997.000000  7.019000e+03   \n",
       "mean      0.034660     0.560215     0.119969     2.629143 -2.631672e+02   \n",
       "std       4.565504     5.350084     5.275459    13.257356  3.707460e+04   \n",
       "min    -256.890000   -72.162000  -440.500000     0.000000 -2.722100e+06   \n",
       "25%       0.021182     0.296678     0.026968     1.063100 -4.449800e+01   \n",
       "50%       0.075802     0.482960     0.181275     1.502000 -5.373900e+00   \n",
       "75%       0.160268     0.680233     0.362548     2.460700  3.777050e+01   \n",
       "max      94.280000   441.500000     1.000000  1017.800000  9.909000e+05   \n",
       "\n",
       "             Attr6        Attr7        Attr8        Attr9       Attr10  \\\n",
       "count  7024.000000  7024.000000  7002.000000  7026.000000  7024.000000   \n",
       "mean      0.059712     0.313876     2.623996     5.552855     1.825832   \n",
       "std       6.051113     8.353274    18.708327   101.995448    33.836452   \n",
       "min    -397.890000  -189.560000  -141.410000     0.000005  -440.550000   \n",
       "25%       0.000000     0.028023     0.445710     1.037225     0.300785   \n",
       "50%       0.000000     0.090109     1.015100     1.205750     0.492235   \n",
       "75%       0.146660     0.188667     2.267675     2.132975     0.675677   \n",
       "max     303.670000   453.770000  1452.200000  3876.100000  1099.500000   \n",
       "\n",
       "           ...              Attr55        Attr56       Attr57        Attr58  \\\n",
       "count      ...        7.027000e+03  7.027000e+03  7026.000000  7.027000e+03   \n",
       "mean       ...        8.855693e+03 -1.577367e+02     0.193243  1.587409e+02   \n",
       "std        ...        7.247527e+04  1.322125e+04     4.344046  1.322124e+04   \n",
       "min        ...       -8.004700e+05 -1.108300e+06  -315.370000 -4.194000e-03   \n",
       "25%        ...        9.712000e+01  2.031450e-02     0.056772  8.647650e-01   \n",
       "50%        ...        1.604800e+03  6.338200e-02     0.175745  9.388100e-01   \n",
       "75%        ...        5.955900e+03  1.376950e-01     0.351922  9.820150e-01   \n",
       "max        ...        4.398400e+06  1.000000e+00   126.670000  1.108300e+06   \n",
       "\n",
       "            Attr59        Attr60        Attr61        Attr62       Attr63  \\\n",
       "count  7026.000000  6.892000e+03   7005.000000  7.027000e+03  6997.000000   \n",
       "mean      0.277829  4.328830e+02     15.642228  4.763202e+03     8.126852   \n",
       "std       6.339149  2.612802e+04    261.554534  3.107835e+05    19.996419   \n",
       "min    -327.970000  4.700000e-05      0.000016  0.000000e+00     0.000015   \n",
       "25%       0.000000  5.923950e+00      4.829000  4.322250e+01     3.425400   \n",
       "50%       0.028438  1.004050e+01      7.033700  6.850900e+01     5.303200   \n",
       "75%       0.273867  2.013900e+01     10.703000  1.063350e+02     8.357900   \n",
       "max     119.580000  2.137800e+06  21110.000000  2.501600e+07  1042.200000   \n",
       "\n",
       "              Attr64  \n",
       "count    6993.000000  \n",
       "mean      208.731950  \n",
       "std      5140.708804  \n",
       "min         0.000010  \n",
       "25%         2.538600  \n",
       "50%         4.637700  \n",
       "75%         9.782200  \n",
       "max    294770.000000  \n",
       "\n",
       "[8 rows x 64 columns]"
      ]
     },
     "execution_count": 46,
     "metadata": {},
     "output_type": "execute_result"
    }
   ],
   "source": [
    "df1.describe()"
   ]
  },
  {
   "cell_type": "code",
   "execution_count": 41,
   "metadata": {
    "scrolled": true
   },
   "outputs": [
    {
     "data": {
      "text/plain": [
       "array([b'0', b'1'], dtype=object)"
      ]
     },
     "execution_count": 41,
     "metadata": {},
     "output_type": "execute_result"
    }
   ],
   "source": [
    "df1['class'].unique()"
   ]
  },
  {
   "cell_type": "code",
   "execution_count": 49,
   "metadata": {
    "scrolled": true
   },
   "outputs": [
    {
     "data": {
      "image/png": "[encoded data removed]",
      "text/plain": [
       "<Figure size 648x288 with 1 Axes>"
      ]
     },
     "metadata": {
      "needs_background": "light"
     },
     "output_type": "display_data"
    }
   ],
   "source": [
    "plt.figure(figsize = (9,4))\n",
    "df1['class'].value_counts().plot(kind = 'bar')\n",
    "#sns.countplot(df['class'])\n",
    "plt.title('Target Variable Histogram')\n",
    "plt.show()"
   ]
  },
  {
   "cell_type": "code",
   "execution_count": null,
   "metadata": {
    "collapsed": true
   },
   "outputs": [],
   "source": []
  }
 ],
 "metadata": {
  "kernelspec": {
   "display_name": "Python 3",
   "language": "python",
   "name": "python3"
  },
  "language_info": {
   "codemirror_mode": {
    "name": "ipython",
    "version": 3
   },
   "file_extension": ".py",
   "mimetype": "text/x-python",
   "name": "python",
   "nbconvert_exporter": "python",
   "pygments_lexer": "ipython3",
   "version": "3.6.3"
  }
 },
 "nbformat": 4,
 "nbformat_minor": 2
}
