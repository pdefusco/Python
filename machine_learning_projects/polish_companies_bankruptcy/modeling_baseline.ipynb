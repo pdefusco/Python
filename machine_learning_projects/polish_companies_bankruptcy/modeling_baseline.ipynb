{
 "cells": [
  {
   "cell_type": "markdown",
   "metadata": {},
   "source": [
    "## Baseline Model - Logistic Regression"
   ]
  },
  {
   "cell_type": "code",
   "execution_count": 50,
   "metadata": {
    "collapsed": true
   },
   "outputs": [],
   "source": [
    "%matplotlib inline\n",
    "import pandas as pd\n",
    "import numpy as np\n",
    "from scipy.io import arff\n",
    "import matplotlib.pyplot as plt\n",
    "import seaborn as sns"
   ]
  },
  {
   "cell_type": "code",
   "execution_count": 51,
   "metadata": {
    "collapsed": true
   },
   "outputs": [],
   "source": [
    "from sklearn.linear_model import LogisticRegression\n",
    "from sklearn.model_selection import train_test_split"
   ]
  },
  {
   "cell_type": "code",
   "execution_count": 54,
   "metadata": {},
   "outputs": [],
   "source": [
    "#Loading df1:\n",
    "df1 = pd.read_pickle('data/pickle_files/df1_pickle')"
   ]
  },
  {
   "cell_type": "code",
   "execution_count": 56,
   "metadata": {},
   "outputs": [
    {
     "data": {
      "text/plain": [
       "Index([], dtype='object')"
      ]
     },
     "execution_count": 56,
     "metadata": {},
     "output_type": "execute_result"
    }
   ],
   "source": [
    "#Checking dtypes have loaded correctly (should return empty index)\n",
    "df1.select_dtypes(exclude = ['float64', 'int64']).columns"
   ]
  },
  {
   "cell_type": "code",
   "execution_count": 57,
   "metadata": {},
   "outputs": [],
   "source": [
    "y = df1['bankrupt']\n",
    "X = df1.drop(columns=['bankrupt'])"
   ]
  },
  {
   "cell_type": "code",
   "execution_count": 58,
   "metadata": {
    "collapsed": true
   },
   "outputs": [],
   "source": [
    "X_train, X_test, y_train, y_test = train_test_split(X, y, random_state = 22)"
   ]
  },
  {
   "cell_type": "code",
   "execution_count": 59,
   "metadata": {
    "scrolled": true
   },
   "outputs": [
    {
     "data": {
      "text/html": [
       "<div>\n",
       "<style scoped>\n",
       "    .dataframe tbody tr th:only-of-type {\n",
       "        vertical-align: middle;\n",
       "    }\n",
       "\n",
       "    .dataframe tbody tr th {\n",
       "        vertical-align: top;\n",
       "    }\n",
       "\n",
       "    .dataframe thead th {\n",
       "        text-align: right;\n",
       "    }\n",
       "</style>\n",
       "<table border=\"1\" class=\"dataframe\">\n",
       "  <thead>\n",
       "    <tr style=\"text-align: right;\">\n",
       "      <th></th>\n",
       "      <th>Attr1</th>\n",
       "      <th>Attr2</th>\n",
       "      <th>Attr3</th>\n",
       "      <th>Attr4</th>\n",
       "      <th>Attr5</th>\n",
       "      <th>Attr6</th>\n",
       "      <th>Attr7</th>\n",
       "      <th>Attr8</th>\n",
       "      <th>Attr9</th>\n",
       "      <th>Attr10</th>\n",
       "      <th>...</th>\n",
       "      <th>Attr55</th>\n",
       "      <th>Attr56</th>\n",
       "      <th>Attr57</th>\n",
       "      <th>Attr58</th>\n",
       "      <th>Attr59</th>\n",
       "      <th>Attr60</th>\n",
       "      <th>Attr61</th>\n",
       "      <th>Attr62</th>\n",
       "      <th>Attr63</th>\n",
       "      <th>Attr64</th>\n",
       "    </tr>\n",
       "  </thead>\n",
       "  <tbody>\n",
       "    <tr>\n",
       "      <th>1627</th>\n",
       "      <td>0.070514</td>\n",
       "      <td>0.46184</td>\n",
       "      <td>0.513540</td>\n",
       "      <td>2.1120</td>\n",
       "      <td>10.171</td>\n",
       "      <td>0.000000</td>\n",
       "      <td>0.095170</td>\n",
       "      <td>1.165300</td>\n",
       "      <td>5.05900</td>\n",
       "      <td>0.538160</td>\n",
       "      <td>...</td>\n",
       "      <td>3519.7</td>\n",
       "      <td>0.014904</td>\n",
       "      <td>0.131030</td>\n",
       "      <td>0.98142</td>\n",
       "      <td>0.00000</td>\n",
       "      <td>13.8500</td>\n",
       "      <td>9.3274</td>\n",
       "      <td>33.321</td>\n",
       "      <td>10.9540</td>\n",
       "      <td>205.49000</td>\n",
       "    </tr>\n",
       "    <tr>\n",
       "      <th>5456</th>\n",
       "      <td>-0.092630</td>\n",
       "      <td>0.91246</td>\n",
       "      <td>-0.319460</td>\n",
       "      <td>0.6298</td>\n",
       "      <td>1824.700</td>\n",
       "      <td>-0.036182</td>\n",
       "      <td>-0.097201</td>\n",
       "      <td>0.095944</td>\n",
       "      <td>4.37240</td>\n",
       "      <td>0.087544</td>\n",
       "      <td>...</td>\n",
       "      <td>-3038.8</td>\n",
       "      <td>-0.002691</td>\n",
       "      <td>-1.058100</td>\n",
       "      <td>1.02680</td>\n",
       "      <td>0.55665</td>\n",
       "      <td>30.9950</td>\n",
       "      <td>11.6950</td>\n",
       "      <td>72.037</td>\n",
       "      <td>5.0668</td>\n",
       "      <td>9.57760</td>\n",
       "    </tr>\n",
       "    <tr>\n",
       "      <th>6187</th>\n",
       "      <td>0.023850</td>\n",
       "      <td>0.20791</td>\n",
       "      <td>0.321240</td>\n",
       "      <td>2.5451</td>\n",
       "      <td>192.850</td>\n",
       "      <td>0.051259</td>\n",
       "      <td>0.034540</td>\n",
       "      <td>2.739800</td>\n",
       "      <td>1.08440</td>\n",
       "      <td>0.569610</td>\n",
       "      <td>...</td>\n",
       "      <td>113310.0</td>\n",
       "      <td>0.077804</td>\n",
       "      <td>0.041871</td>\n",
       "      <td>0.92220</td>\n",
       "      <td>0.00000</td>\n",
       "      <td>5.7042</td>\n",
       "      <td>4.5756</td>\n",
       "      <td>165.750</td>\n",
       "      <td>2.2021</td>\n",
       "      <td>0.97236</td>\n",
       "    </tr>\n",
       "    <tr>\n",
       "      <th>4993</th>\n",
       "      <td>0.075216</td>\n",
       "      <td>0.12744</td>\n",
       "      <td>0.076569</td>\n",
       "      <td>1.6008</td>\n",
       "      <td>-471.720</td>\n",
       "      <td>0.000000</td>\n",
       "      <td>0.075216</td>\n",
       "      <td>6.847100</td>\n",
       "      <td>1.71460</td>\n",
       "      <td>0.872560</td>\n",
       "      <td>...</td>\n",
       "      <td>283.0</td>\n",
       "      <td>0.039609</td>\n",
       "      <td>0.086202</td>\n",
       "      <td>0.96371</td>\n",
       "      <td>0.00000</td>\n",
       "      <td>72.8390</td>\n",
       "      <td>20.2460</td>\n",
       "      <td>27.129</td>\n",
       "      <td>13.4540</td>\n",
       "      <td>2.15400</td>\n",
       "    </tr>\n",
       "    <tr>\n",
       "      <th>5461</th>\n",
       "      <td>0.001449</td>\n",
       "      <td>0.49196</td>\n",
       "      <td>0.187110</td>\n",
       "      <td>1.8504</td>\n",
       "      <td>755.690</td>\n",
       "      <td>0.000000</td>\n",
       "      <td>0.001449</td>\n",
       "      <td>1.032700</td>\n",
       "      <td>0.54527</td>\n",
       "      <td>0.508040</td>\n",
       "      <td>...</td>\n",
       "      <td>7989.2</td>\n",
       "      <td>-0.005708</td>\n",
       "      <td>0.002852</td>\n",
       "      <td>1.05220</td>\n",
       "      <td>0.41438</td>\n",
       "      <td>2.1530</td>\n",
       "      <td>4.2073</td>\n",
       "      <td>147.280</td>\n",
       "      <td>2.4783</td>\n",
       "      <td>0.91971</td>\n",
       "    </tr>\n",
       "  </tbody>\n",
       "</table>\n",
       "<p>5 rows × 62 columns</p>\n",
       "</div>"
      ],
      "text/plain": [
       "         Attr1    Attr2     Attr3   Attr4     Attr5     Attr6     Attr7  \\\n",
       "1627  0.070514  0.46184  0.513540  2.1120    10.171  0.000000  0.095170   \n",
       "5456 -0.092630  0.91246 -0.319460  0.6298  1824.700 -0.036182 -0.097201   \n",
       "6187  0.023850  0.20791  0.321240  2.5451   192.850  0.051259  0.034540   \n",
       "4993  0.075216  0.12744  0.076569  1.6008  -471.720  0.000000  0.075216   \n",
       "5461  0.001449  0.49196  0.187110  1.8504   755.690  0.000000  0.001449   \n",
       "\n",
       "         Attr8    Attr9    Attr10    ...        Attr55    Attr56    Attr57  \\\n",
       "1627  1.165300  5.05900  0.538160    ...        3519.7  0.014904  0.131030   \n",
       "5456  0.095944  4.37240  0.087544    ...       -3038.8 -0.002691 -1.058100   \n",
       "6187  2.739800  1.08440  0.569610    ...      113310.0  0.077804  0.041871   \n",
       "4993  6.847100  1.71460  0.872560    ...         283.0  0.039609  0.086202   \n",
       "5461  1.032700  0.54527  0.508040    ...        7989.2 -0.005708  0.002852   \n",
       "\n",
       "       Attr58   Attr59   Attr60   Attr61   Attr62   Attr63     Attr64  \n",
       "1627  0.98142  0.00000  13.8500   9.3274   33.321  10.9540  205.49000  \n",
       "5456  1.02680  0.55665  30.9950  11.6950   72.037   5.0668    9.57760  \n",
       "6187  0.92220  0.00000   5.7042   4.5756  165.750   2.2021    0.97236  \n",
       "4993  0.96371  0.00000  72.8390  20.2460   27.129  13.4540    2.15400  \n",
       "5461  1.05220  0.41438   2.1530   4.2073  147.280   2.4783    0.91971  \n",
       "\n",
       "[5 rows x 62 columns]"
      ]
     },
     "execution_count": 59,
     "metadata": {},
     "output_type": "execute_result"
    }
   ],
   "source": [
    "X_train.head()"
   ]
  },
  {
   "cell_type": "code",
   "execution_count": 60,
   "metadata": {},
   "outputs": [
    {
     "name": "stdout",
     "output_type": "stream",
     "text": [
      "Logistic Regression with C = 0.000001\n",
      "Training Accuracy: 0.9567362428842505\n",
      "Test Accuracy: 0.960728514513375\n",
      "----\n",
      "Logistic Regression with C = 0.000010\n",
      "Training Accuracy: 0.9586337760910816\n",
      "Test Accuracy: 0.9612976664769494\n",
      "----\n",
      "Logistic Regression with C = 0.000100\n",
      "Training Accuracy: 0.9573055028462998\n",
      "Test Accuracy: 0.9612976664769494\n",
      "----\n",
      "Logistic Regression with C = 0.100000\n",
      "Training Accuracy: 0.9552182163187856\n",
      "Test Accuracy: 0.9590210586226523\n",
      "----\n",
      "Logistic Regression with C = 1.000000\n",
      "Training Accuracy: 0.9550284629981025\n",
      "Test Accuracy: 0.958451906659078\n",
      "----\n"
     ]
    }
   ],
   "source": [
    "for c in [0.000001, 0.00001, 0.0001, 0.1, 1]:\n",
    "    regressor = LogisticRegression(C = c)\n",
    "    regressor.fit(X_train, y_train)\n",
    "    print(\"Logistic Regression with C = {:.6f}\".format(c))\n",
    "    print(\"Training Accuracy: {}\".format(regressor.score(X_train, y_train)))\n",
    "    print(\"Test Accuracy: {}\".format(regressor.score(X_test, y_test)))\n",
    "    print(\"----\")"
   ]
  },
  {
   "cell_type": "markdown",
   "metadata": {},
   "source": [
    "A very simple model is yielding high training and test accuracy"
   ]
  },
  {
   "cell_type": "code",
   "execution_count": null,
   "metadata": {
    "collapsed": true
   },
   "outputs": [],
   "source": []
  }
 ],
 "metadata": {
  "kernelspec": {
   "display_name": "Python 3",
   "language": "python",
   "name": "python3"
  },
  "language_info": {
   "codemirror_mode": {
    "name": "ipython",
    "version": 3
   },
   "file_extension": ".py",
   "mimetype": "text/x-python",
   "name": "python",
   "nbconvert_exporter": "python",
   "pygments_lexer": "ipython3",
   "version": "3.6.3"
  }
 },
 "nbformat": 4,
 "nbformat_minor": 2
}
