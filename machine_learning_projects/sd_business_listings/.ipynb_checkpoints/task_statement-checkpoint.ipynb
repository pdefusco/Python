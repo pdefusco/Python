{
 "cells": [
  {
   "cell_type": "markdown",
   "metadata": {},
   "source": [
    "## Master Business Listings (San Diego - 2016)"
   ]
  },
  {
   "cell_type": "markdown",
   "metadata": {},
   "source": [
    "Project Scope: visualize active San Diego Businesses (2016) and derive useful insights"
   ]
  },
  {
   "cell_type": "markdown",
   "metadata": {},
   "source": [
    "##### Machine Learning Task: Data Visualization\n",
    "\n",
    "- Instances: 61932\n",
    "- Attributes: 14"
   ]
  },
  {
   "cell_type": "markdown",
   "metadata": {},
   "source": [
    "Source: https://www.sandiego.gov/treasurer/taxesfees/btax/nblactive"
   ]
  },
  {
   "cell_type": "markdown",
   "metadata": {},
   "source": [
    "#### Attribute Information:\n",
    "    \n",
    "    - Business Acct#\n",
    "    - DBA name\n",
    "    - Ownership type\n",
    "    - Address\n",
    "    - City\n",
    "    - Zip\n",
    "    - State\n",
    "    - Business phone\n",
    "    - Owner name\n",
    "    - Creation date\n",
    "    - Start date\n",
    "    - Exp date\n",
    "    - NAICS\n",
    "    - Activity description"
   ]
  },
  {
   "cell_type": "code",
   "execution_count": 1,
   "metadata": {
    "collapsed": true
   },
   "outputs": [],
   "source": [
    "import pandas as pd"
   ]
  },
  {
   "cell_type": "code",
   "execution_count": 6,
   "metadata": {},
   "outputs": [],
   "source": [
    "df_ak = pd.read_csv('data/tr_active1.csv')\n",
    "df_lz = pd.read_csv('data/tr_active2.csv')"
   ]
  },
  {
   "cell_type": "code",
   "execution_count": 8,
   "metadata": {},
   "outputs": [],
   "source": [
    "#merging the two datasets into one\n",
    "df = pd.concat([df_ak, df_lz], axis=0)"
   ]
  },
  {
   "cell_type": "code",
   "execution_count": 10,
   "metadata": {},
   "outputs": [
    {
     "data": {
      "text/html": [
       "<div>\n",
       "<style scoped>\n",
       "    .dataframe tbody tr th:only-of-type {\n",
       "        vertical-align: middle;\n",
       "    }\n",
       "\n",
       "    .dataframe tbody tr th {\n",
       "        vertical-align: top;\n",
       "    }\n",
       "\n",
       "    .dataframe thead th {\n",
       "        text-align: right;\n",
       "    }\n",
       "</style>\n",
       "<table border=\"1\" class=\"dataframe\">\n",
       "  <thead>\n",
       "    <tr style=\"text-align: right;\">\n",
       "      <th></th>\n",
       "      <th>BUSINESS ACCT#</th>\n",
       "      <th>DBA NAME</th>\n",
       "      <th>OWNERSHIP TYPE</th>\n",
       "      <th>ADDRESS</th>\n",
       "      <th>CITY</th>\n",
       "      <th>ZIP</th>\n",
       "      <th>STATE</th>\n",
       "      <th>BUSINESS PHONE</th>\n",
       "      <th>OWNER NAME</th>\n",
       "      <th>CREATION DT</th>\n",
       "      <th>START DT</th>\n",
       "      <th>EXP DT</th>\n",
       "      <th>NAICS</th>\n",
       "      <th>ACTIVITY DESC</th>\n",
       "    </tr>\n",
       "  </thead>\n",
       "  <tbody>\n",
       "    <tr>\n",
       "      <th>0</th>\n",
       "      <td>1981012901</td>\n",
       "      <td>#1 FIFTH AVENUE</td>\n",
       "      <td>CORP</td>\n",
       "      <td>3845 05TH AVE</td>\n",
       "      <td>SAN DIEGO</td>\n",
       "      <td>92103-3140</td>\n",
       "      <td>CA</td>\n",
       "      <td>NaN</td>\n",
       "      <td>PUBWAY CORP</td>\n",
       "      <td>12/09/1981</td>\n",
       "      <td>12/09/1981</td>\n",
       "      <td>11/30/2019</td>\n",
       "      <td>722</td>\n",
       "      <td>FOOD SERVICES &amp; DRINKING PLACES</td>\n",
       "    </tr>\n",
       "    <tr>\n",
       "      <th>1</th>\n",
       "      <td>2010034224</td>\n",
       "      <td>% NATURAL GOMEZ</td>\n",
       "      <td>SOLE</td>\n",
       "      <td>4356 POPLAR ST</td>\n",
       "      <td>SAN DIEGO</td>\n",
       "      <td>92105-4657</td>\n",
       "      <td>CA</td>\n",
       "      <td>(619) 417-0105</td>\n",
       "      <td>JUANA GOMEZ</td>\n",
       "      <td>11/12/2010</td>\n",
       "      <td>11/12/2010</td>\n",
       "      <td>11/30/2019</td>\n",
       "      <td>446199</td>\n",
       "      <td>ALL OTHER HEALTH &amp; PERSONAL CARE STORES</td>\n",
       "    </tr>\n",
       "    <tr>\n",
       "      <th>2</th>\n",
       "      <td>2015046247</td>\n",
       "      <td>&amp; SALLY J FERNANDEZ</td>\n",
       "      <td>SOLE</td>\n",
       "      <td>17471 PLAZA CERADO SUITE 98</td>\n",
       "      <td>SAN DIEGO</td>\n",
       "      <td>92128-2285</td>\n",
       "      <td>CA</td>\n",
       "      <td>NaN</td>\n",
       "      <td>JAIME V FERNANDEZ</td>\n",
       "      <td>10/29/2015</td>\n",
       "      <td>01/01/2014</td>\n",
       "      <td>12/31/2018</td>\n",
       "      <td>541219</td>\n",
       "      <td>OTHER ACCOUNTING SERVICES</td>\n",
       "    </tr>\n",
       "    <tr>\n",
       "      <th>3</th>\n",
       "      <td>2018011836</td>\n",
       "      <td>(W)RIGHT ON COMMUNICATIONS INC</td>\n",
       "      <td>SCORP</td>\n",
       "      <td>1200 PROSPECT ST SUITE G100</td>\n",
       "      <td>LA JOLLA</td>\n",
       "      <td>92037-3608</td>\n",
       "      <td>CA</td>\n",
       "      <td>(858) 866-7900</td>\n",
       "      <td>(W)RIGHT ON COMMUNICATIONS INC</td>\n",
       "      <td>06/22/2018</td>\n",
       "      <td>06/01/2018</td>\n",
       "      <td>05/31/2019</td>\n",
       "      <td>54182</td>\n",
       "      <td>PUBLIC RELATIONS AGENCIES</td>\n",
       "    </tr>\n",
       "    <tr>\n",
       "      <th>4</th>\n",
       "      <td>2007016185</td>\n",
       "      <td>+A PARTNERS</td>\n",
       "      <td>CORP</td>\n",
       "      <td>3916 NORMAL ST</td>\n",
       "      <td>SAN DIEGO</td>\n",
       "      <td>92103-3413</td>\n",
       "      <td>CA</td>\n",
       "      <td>(619) 294-4477</td>\n",
       "      <td>+A PARTNERS</td>\n",
       "      <td>07/11/2007</td>\n",
       "      <td>07/01/2004</td>\n",
       "      <td>06/30/2019</td>\n",
       "      <td>531</td>\n",
       "      <td>REAL ESTATE</td>\n",
       "    </tr>\n",
       "  </tbody>\n",
       "</table>\n",
       "</div>"
      ],
      "text/plain": [
       "   BUSINESS ACCT#                        DBA NAME OWNERSHIP TYPE  \\\n",
       "0      1981012901                 #1 FIFTH AVENUE           CORP   \n",
       "1      2010034224                 % NATURAL GOMEZ           SOLE   \n",
       "2      2015046247             & SALLY J FERNANDEZ           SOLE   \n",
       "3      2018011836  (W)RIGHT ON COMMUNICATIONS INC          SCORP   \n",
       "4      2007016185                     +A PARTNERS           CORP   \n",
       "\n",
       "                       ADDRESS       CITY         ZIP STATE  BUSINESS PHONE  \\\n",
       "0                3845 05TH AVE  SAN DIEGO  92103-3140    CA             NaN   \n",
       "1               4356 POPLAR ST  SAN DIEGO  92105-4657    CA  (619) 417-0105   \n",
       "2  17471 PLAZA CERADO SUITE 98  SAN DIEGO  92128-2285    CA             NaN   \n",
       "3  1200 PROSPECT ST SUITE G100   LA JOLLA  92037-3608    CA  (858) 866-7900   \n",
       "4               3916 NORMAL ST  SAN DIEGO  92103-3413    CA  (619) 294-4477   \n",
       "\n",
       "                       OWNER NAME CREATION DT    START DT      EXP DT   NAICS  \\\n",
       "0                     PUBWAY CORP  12/09/1981  12/09/1981  11/30/2019     722   \n",
       "1                     JUANA GOMEZ  11/12/2010  11/12/2010  11/30/2019  446199   \n",
       "2               JAIME V FERNANDEZ  10/29/2015  01/01/2014  12/31/2018  541219   \n",
       "3  (W)RIGHT ON COMMUNICATIONS INC  06/22/2018  06/01/2018  05/31/2019   54182   \n",
       "4                     +A PARTNERS  07/11/2007  07/01/2004  06/30/2019     531   \n",
       "\n",
       "                             ACTIVITY DESC  \n",
       "0          FOOD SERVICES & DRINKING PLACES  \n",
       "1  ALL OTHER HEALTH & PERSONAL CARE STORES  \n",
       "2                OTHER ACCOUNTING SERVICES  \n",
       "3                PUBLIC RELATIONS AGENCIES  \n",
       "4                              REAL ESTATE  "
      ]
     },
     "execution_count": 10,
     "metadata": {},
     "output_type": "execute_result"
    }
   ],
   "source": [
    "df.head()"
   ]
  },
  {
   "cell_type": "code",
   "execution_count": null,
   "metadata": {
    "collapsed": true
   },
   "outputs": [],
   "source": []
  }
 ],
 "metadata": {
  "kernelspec": {
   "display_name": "Python 3",
   "language": "python",
   "name": "python3"
  },
  "language_info": {
   "codemirror_mode": {
    "name": "ipython",
    "version": 3
   },
   "file_extension": ".py",
   "mimetype": "text/x-python",
   "name": "python",
   "nbconvert_exporter": "python",
   "pygments_lexer": "ipython3",
   "version": "3.6.3"
  }
 },
 "nbformat": 4,
 "nbformat_minor": 2
}
