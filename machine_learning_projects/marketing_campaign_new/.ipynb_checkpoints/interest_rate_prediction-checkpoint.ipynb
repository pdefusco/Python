{
 "cells": [
  {
   "cell_type": "markdown",
   "metadata": {},
   "source": [
    "### Interest Rate Predictions"
   ]
  },
  {
   "cell_type": "markdown",
   "metadata": {},
   "source": [
    "Predict Interest Rates in Portugal using Historical Data:\n",
    "    - Average Bank Deposit Rate\n",
    "    - Average Bank Loan Rate\n",
    "    - Average Mortgage Rate\n",
    "    - Other?"
   ]
  },
  {
   "cell_type": "code",
   "execution_count": 526,
   "metadata": {
    "collapsed": true
   },
   "outputs": [],
   "source": [
    "%matplotlib inline\n",
    "\n",
    "import os\n",
    "import pandas as pd\n",
    "import numpy as np\n",
    "import matplotlib as mpl\n",
    "import matplotlib.pyplot as plt"
   ]
  },
  {
   "cell_type": "code",
   "execution_count": 527,
   "metadata": {},
   "outputs": [
    {
     "data": {
      "text/plain": [
       "['08-10_theglobaleconomy_1.csv',\n",
       " '08-10_theglobaleconomy_2.csv',\n",
       " 'daily_euribor3m.csv',\n",
       " '04-07_theglobaleconomy_1.csv',\n",
       " 'data_ready.pickle',\n",
       " '04-07_theglobaleconomy_2.csv',\n",
       " 'bank-additional-full.csv']"
      ]
     },
     "execution_count": 527,
     "metadata": {},
     "output_type": "execute_result"
    }
   ],
   "source": [
    "os.listdir('data')"
   ]
  },
  {
   "cell_type": "code",
   "execution_count": 528,
   "metadata": {
    "collapsed": true
   },
   "outputs": [],
   "source": [
    "df_09_10_months_1 = pd.read_csv('data/08-10_theglobaleconomy_1.csv')\n",
    "df_09_10_months_2 = pd.read_csv('data/08-10_theglobaleconomy_2.csv')\n",
    "df_09_10_months = df_09_10_months_1.merge(df_09_10_months_2, on = ['Year', 'Month'], how='inner')"
   ]
  },
  {
   "cell_type": "code",
   "execution_count": 529,
   "metadata": {
    "collapsed": true
   },
   "outputs": [],
   "source": [
    "df_09_10_months = df_09_10_months[(df_09_10_months['Year']>2008)]"
   ]
  },
  {
   "cell_type": "code",
   "execution_count": 530,
   "metadata": {},
   "outputs": [],
   "source": [
    "#df_08_months = df_08_months[(df_08_months.Year == 2008) & (df_08_months.Month < 5)]\n",
    "#Cleaning up column names\n",
    "df_09_10_months.drop(columns=['Country_x', 'Code_x',' Government debt '], inplace=True)\n",
    "df_09_10_months.rename(columns={'Country_y':'Country', 'Code_y':'Code'}, inplace=True)"
   ]
  },
  {
   "cell_type": "code",
   "execution_count": 531,
   "metadata": {
    "collapsed": true
   },
   "outputs": [],
   "source": [
    "df1 = pd.read_csv('data/04-07_theglobaleconomy_1.csv')"
   ]
  },
  {
   "cell_type": "code",
   "execution_count": 532,
   "metadata": {
    "collapsed": true
   },
   "outputs": [],
   "source": [
    "df2 = pd.read_csv('data/04-07_theglobaleconomy_2.csv')"
   ]
  },
  {
   "cell_type": "code",
   "execution_count": 533,
   "metadata": {
    "collapsed": true
   },
   "outputs": [],
   "source": [
    "df = df1.merge(df2, on = ['Year', 'Month'], how='inner')"
   ]
  },
  {
   "cell_type": "code",
   "execution_count": 534,
   "metadata": {},
   "outputs": [],
   "source": [
    "df = pd.concat([df_09_10_months, df], sort=False)"
   ]
  },
  {
   "cell_type": "code",
   "execution_count": 535,
   "metadata": {},
   "outputs": [],
   "source": [
    "df = df.sort_values(by=['Year','Month'])"
   ]
  },
  {
   "cell_type": "code",
   "execution_count": 536,
   "metadata": {},
   "outputs": [
    {
     "name": "stdout",
     "output_type": "stream",
     "text": [
      "(84, 48)\n",
      "(60, 24)\n",
      "(60, 24)\n",
      "(36, 39)\n"
     ]
    }
   ],
   "source": [
    "print(df.shape)\n",
    "print(df1.shape)\n",
    "print(df2.shape)\n",
    "print(df_08_months.shape)"
   ]
  },
  {
   "cell_type": "code",
   "execution_count": 537,
   "metadata": {
    "collapsed": true
   },
   "outputs": [],
   "source": [
    "#backfilling values for quarterly indicators\n",
    "df = df.replace(r'^\\s*$', np.nan, regex=True)\n",
    "df = df.fillna(method='bfill')"
   ]
  },
  {
   "cell_type": "code",
   "execution_count": 538,
   "metadata": {
    "collapsed": true
   },
   "outputs": [],
   "source": [
    "#Cleaning up column names\n",
    "df.drop(columns=['Country_x', 'Code_x'], inplace=True)\n",
    "df.rename(columns={'Country_y':'Country', 'Code_y':'Code'}, inplace=True)"
   ]
  },
  {
   "cell_type": "code",
   "execution_count": 539,
   "metadata": {},
   "outputs": [
    {
     "data": {
      "text/plain": [
       "Year                                               0\n",
       "Month                                              0\n",
       " Private sector credit                             0\n",
       " Business credit                                   0\n",
       " Household credit                                  0\n",
       " Mortgage credit                                   0\n",
       " Gross Domestic Product (GDP)                      0\n",
       " Consumer Price Index (CPI)                        0\n",
       " Money supply (broad money)                        0\n",
       " Household consumption                             0\n",
       " Investment                                        0\n",
       " Economic growth                                   0\n",
       " Consumption growth                                0\n",
       " Investment as percent of GDP                      0\n",
       " Investment growth                                 0\n",
       " Consumption as percent of GDP                     0\n",
       " Inflation monthly                                 0\n",
       " Inflation annual                                  0\n",
       " Retail sales                                      0\n",
       " Business confidence survey                        0\n",
       " Consumer confidence survey                        0\n",
       " Economic growth Q-on-Q                            0\n",
       "Country                                            0\n",
       "Code                                               0\n",
       " Consumer credit                                   0\n",
       " Deposit interest rate                             0\n",
       " Mortgage credit interest rate                     0\n",
       " Business credit interest rate                     0\n",
       " Employment                                        0\n",
       " Unemployment rate                                 0\n",
       " Current account balance                           0\n",
       " Exports                                           0\n",
       " FDI                                               0\n",
       " Foreign exchange reserves                         0\n",
       " Government expenditure                            0\n",
       " Budget balance                                    0\n",
       " Labor cost                                        0\n",
       " Exchange rate to USD                              0\n",
       " Minimum wage                                      0\n",
       "Country                                           24\n",
       "Code                                              24\n",
       " Industrial production                            84\n",
       " Purchasing Managers Index (PMI) composite        84\n",
       " Purchasing Managers Index (PMI) manufacturing    84\n",
       " Purchasing Managers Index (PMI) services         84\n",
       " Building permits                                 24\n",
       "dtype: int64"
      ]
     },
     "execution_count": 539,
     "metadata": {},
     "output_type": "execute_result"
    }
   ],
   "source": [
    "df.isna().sum()"
   ]
  },
  {
   "cell_type": "code",
   "execution_count": 540,
   "metadata": {},
   "outputs": [],
   "source": [
    "#Finally dropping columns that have no data or encoding country code:\n",
    "df.drop(columns = [' Industrial production', ' Purchasing Managers Index (PMI) composite',\n",
    "                   ' Purchasing Managers Index (PMI) manufacturing', ' Purchasing Managers Index (PMI) services', \n",
    "                   'Country', 'Code'], inplace=True)"
   ]
  },
  {
   "cell_type": "code",
   "execution_count": 541,
   "metadata": {},
   "outputs": [
    {
     "data": {
      "text/plain": [
       "Year                               0\n",
       "Month                              0\n",
       " Private sector credit             0\n",
       " Business credit                   0\n",
       " Household credit                  0\n",
       " Mortgage credit                   0\n",
       " Gross Domestic Product (GDP)      0\n",
       " Consumer Price Index (CPI)        0\n",
       " Money supply (broad money)        0\n",
       " Household consumption             0\n",
       " Investment                        0\n",
       " Economic growth                   0\n",
       " Consumption growth                0\n",
       " Investment as percent of GDP      0\n",
       " Investment growth                 0\n",
       " Consumption as percent of GDP     0\n",
       " Inflation monthly                 0\n",
       " Inflation annual                  0\n",
       " Retail sales                      0\n",
       " Business confidence survey        0\n",
       " Consumer confidence survey        0\n",
       " Economic growth Q-on-Q            0\n",
       " Consumer credit                   0\n",
       " Deposit interest rate             0\n",
       " Mortgage credit interest rate     0\n",
       " Business credit interest rate     0\n",
       " Employment                        0\n",
       " Unemployment rate                 0\n",
       " Current account balance           0\n",
       " Exports                           0\n",
       " FDI                               0\n",
       " Foreign exchange reserves         0\n",
       " Government expenditure            0\n",
       " Budget balance                    0\n",
       " Labor cost                        0\n",
       " Exchange rate to USD              0\n",
       " Minimum wage                      0\n",
       " Building permits                 24\n",
       "dtype: int64"
      ]
     },
     "execution_count": 541,
     "metadata": {},
     "output_type": "execute_result"
    }
   ],
   "source": [
    "df.isna().sum()"
   ]
  },
  {
   "cell_type": "code",
   "execution_count": 542,
   "metadata": {},
   "outputs": [],
   "source": [
    "df.reset_index(drop=1, inplace=True)"
   ]
  },
  {
   "cell_type": "markdown",
   "metadata": {},
   "source": [
    "Demo Time Series Models with Consumer Credit"
   ]
  },
  {
   "cell_type": "code",
   "execution_count": 543,
   "metadata": {
    "collapsed": true
   },
   "outputs": [],
   "source": [
    "cons_credit_y = df[' Consumer credit'].shift(1)\n",
    "cons_credit_x = df[' Consumer credit']"
   ]
  },
  {
   "cell_type": "code",
   "execution_count": 544,
   "metadata": {
    "collapsed": true
   },
   "outputs": [],
   "source": [
    "from pandas.plotting import lag_plot\n",
    "from pandas.plotting import autocorrelation_plot\n",
    "from statsmodels.tsa.ar_model import AR\n",
    "from statsmodels.tsa.arima_model import ARIMA\n",
    "from sklearn.metrics import mean_squared_error\n",
    "from math import sqrt"
   ]
  },
  {
   "cell_type": "code",
   "execution_count": 545,
   "metadata": {
    "collapsed": true
   },
   "outputs": [],
   "source": [
    "def autocorr(series):\n",
    "\n",
    "    fig, axes = plt.subplots((2,1), figsize =(8,8))\n",
    "    \n",
    "    ax1 = lag_plot(series)\n",
    "    ax2 = autocorrelation_plot(series)\n",
    "    \n",
    "    plt.show()"
   ]
  },
  {
   "cell_type": "code",
   "execution_count": 546,
   "metadata": {
    "collapsed": true
   },
   "outputs": [],
   "source": [
    "#autocorr(df[' Consumer credit'])"
   ]
  },
  {
   "cell_type": "code",
   "execution_count": 547,
   "metadata": {
    "collapsed": true
   },
   "outputs": [],
   "source": [
    "def split_data(series, split):\n",
    "    \n",
    "    size = int(len(series) * split)\n",
    "    train, test = series[0:size], series[size:len(series)]\n",
    "    \n",
    "    return np.array(train), np.array(test)"
   ]
  },
  {
   "cell_type": "code",
   "execution_count": 548,
   "metadata": {
    "collapsed": true
   },
   "outputs": [],
   "source": [
    "def fit_arma(series):\n",
    "\n",
    "    #Fitting ARMA Model\n",
    "    model = AR(train)\n",
    "    model_fit = model.fit()\n",
    "    print('Lag: %s' % model_fit.k_ar)\n",
    "    print('Coefficients: %s' % model_fit.params)\n",
    "    \n",
    "    # make predictions\n",
    "    predictions = model_fit.predict(start=len(train), end=len(train)+len(test)-1, dynamic=False)\n",
    "    \n",
    "    return predictions"
   ]
  },
  {
   "cell_type": "code",
   "execution_count": 549,
   "metadata": {
    "collapsed": true
   },
   "outputs": [],
   "source": [
    "def print_predictions(test, predictions):\n",
    "    for i in range(len(predictions)):\n",
    "        print('predicted=%f, expected=%f' % (predictions[i], test[i])) \n",
    "    rmse = sqrt(mean_squared_error(test, predictions))\n",
    "    print('Test RMSE: %.3f' % rmse)\n",
    "    \n",
    "    return rmse"
   ]
  },
  {
   "cell_type": "code",
   "execution_count": 550,
   "metadata": {
    "collapsed": true
   },
   "outputs": [],
   "source": [
    "def plot_predictions(test, predictions, rmse, name):\n",
    "    \n",
    "    plt.figure(figsize=(10,5))\n",
    "    plt.plot(test, color='blue', label = 'Test')\n",
    "    plt.plot(predictions, color='red', label = 'Predicted') \n",
    "    \n",
    "    plt.suptitle('RMSE: %f'%(rmse))\n",
    "    plt.title('Predictions vs Actual %s'%(name))\n",
    "    plt.legend()\n",
    "    plt.show()"
   ]
  },
  {
   "cell_type": "code",
   "execution_count": 551,
   "metadata": {
    "collapsed": true
   },
   "outputs": [],
   "source": [
    "train, test = split_data(df[' Consumer credit'], 0.62)"
   ]
  },
  {
   "cell_type": "code",
   "execution_count": 552,
   "metadata": {},
   "outputs": [
    {
     "name": "stdout",
     "output_type": "stream",
     "text": [
      "Lag: 10\n",
      "Coefficients: [-0.52300463  0.9440666  -0.00104898  0.20128451 -0.16510713  0.0308641\n",
      " -0.13812712  0.18538439 -0.38008418  0.32816581  0.03131943]\n"
     ]
    }
   ],
   "source": [
    "preds = fit_arma(df[' Consumer credit'])"
   ]
  },
  {
   "cell_type": "code",
   "execution_count": 553,
   "metadata": {},
   "outputs": [
    {
     "name": "stdout",
     "output_type": "stream",
     "text": [
      "predicted=27.461359, expected=27.350000\n",
      "predicted=27.811326, expected=27.560000\n",
      "predicted=27.841843, expected=27.560000\n",
      "predicted=28.090258, expected=27.610000\n",
      "predicted=28.523486, expected=27.720000\n",
      "predicted=28.894133, expected=27.690000\n",
      "predicted=29.258282, expected=27.670000\n",
      "predicted=29.650560, expected=28.110000\n",
      "predicted=30.082180, expected=27.690000\n",
      "predicted=30.421168, expected=27.710000\n",
      "predicted=30.866472, expected=27.790000\n",
      "predicted=31.275537, expected=27.790000\n",
      "predicted=31.606558, expected=27.770000\n",
      "predicted=31.988017, expected=27.760000\n",
      "predicted=32.376969, expected=27.730000\n",
      "predicted=32.771803, expected=27.800000\n",
      "predicted=33.156317, expected=27.880000\n",
      "predicted=33.595569, expected=27.960000\n",
      "predicted=34.022499, expected=28.050000\n",
      "predicted=34.459247, expected=28.130000\n",
      "predicted=34.947597, expected=28.030000\n",
      "predicted=35.427475, expected=28.090000\n",
      "predicted=35.918777, expected=28.120000\n",
      "predicted=36.421588, expected=28.050000\n",
      "predicted=36.943266, expected=28.120000\n",
      "predicted=37.460387, expected=28.040000\n",
      "predicted=37.990371, expected=27.840000\n",
      "predicted=38.539429, expected=27.800000\n",
      "predicted=39.082877, expected=27.830000\n",
      "predicted=39.645922, expected=27.790000\n",
      "predicted=40.223072, expected=27.760000\n",
      "predicted=40.812871, expected=27.610000\n",
      "Test RMSE: 6.779\n"
     ]
    }
   ],
   "source": [
    "rmse = print_predictions(test, preds)"
   ]
  },
  {
   "cell_type": "code",
   "execution_count": 554,
   "metadata": {},
   "outputs": [
    {
     "data": {
      "image/png": "[encoded data removed]",
      "text/plain": [
       "<Figure size 720x360 with 1 Axes>"
      ]
     },
     "metadata": {
      "needs_background": "light"
     },
     "output_type": "display_data"
    }
   ],
   "source": [
    "plot_predictions(test, preds, rmse, 'Consumer Credit')"
   ]
  },
  {
   "cell_type": "code",
   "execution_count": 555,
   "metadata": {
    "collapsed": true
   },
   "outputs": [],
   "source": [
    "#Fitting rolling forecast ARIMA model"
   ]
  },
  {
   "cell_type": "code",
   "execution_count": 556,
   "metadata": {
    "collapsed": true
   },
   "outputs": [],
   "source": [
    "def fit_rolling_arima(train, test):\n",
    "\n",
    "    history = [x for x in train]\n",
    "    predictions = list()\n",
    "    \n",
    "    #fit rolling ARIMA\n",
    "    for t in range(len(test)):\n",
    "        model = ARIMA(history, order=(5,1,0))\n",
    "        model_fit = model.fit(disp=0)\n",
    "        output = model_fit.forecast()\n",
    "        yhat = output[0]\n",
    "        predictions.append(yhat)\n",
    "        obs = test[t]\n",
    "        history.append(obs)\n",
    "        print('predicted=%f, expected=%f' % (yhat, obs))\n",
    "        \n",
    "    # evaluate forecasts\n",
    "    rmse = sqrt(mean_squared_error(test, predictions)) \n",
    "    print('Test RMSE: %.3f' % rmse)\n",
    "    \n",
    "    return rmse, predictions"
   ]
  },
  {
   "cell_type": "code",
   "execution_count": 557,
   "metadata": {},
   "outputs": [
    {
     "name": "stderr",
     "output_type": "stream",
     "text": [
      "/Users/pauldefusco/anaconda2/envs/py36/lib/python3.6/site-packages/scipy/signal/signaltools.py:1341: FutureWarning: Using a non-tuple sequence for multidimensional indexing is deprecated; use `arr[tuple(seq)]` instead of `arr[seq]`. In the future this will be interpreted as an array index, `arr[np.array(seq)]`, which will result either in an error or a different result.\n",
      "  out_full[ind] += zi\n",
      "/Users/pauldefusco/anaconda2/envs/py36/lib/python3.6/site-packages/scipy/signal/signaltools.py:1344: FutureWarning: Using a non-tuple sequence for multidimensional indexing is deprecated; use `arr[tuple(seq)]` instead of `arr[seq]`. In the future this will be interpreted as an array index, `arr[np.array(seq)]`, which will result either in an error or a different result.\n",
      "  out = out_full[ind]\n",
      "/Users/pauldefusco/anaconda2/envs/py36/lib/python3.6/site-packages/scipy/signal/signaltools.py:1350: FutureWarning: Using a non-tuple sequence for multidimensional indexing is deprecated; use `arr[tuple(seq)]` instead of `arr[seq]`. In the future this will be interpreted as an array index, `arr[np.array(seq)]`, which will result either in an error or a different result.\n",
      "  zf = out_full[ind]\n"
     ]
    },
    {
     "name": "stdout",
     "output_type": "stream",
     "text": [
      "predicted=27.463795, expected=27.350000\n",
      "predicted=27.529732, expected=27.560000\n",
      "predicted=27.743352, expected=27.560000\n",
      "predicted=27.732652, expected=27.610000\n",
      "predicted=27.801780, expected=27.720000\n",
      "predicted=27.875317, expected=27.690000\n",
      "predicted=27.850543, expected=27.670000\n",
      "predicted=27.824747, expected=28.110000\n",
      "predicted=28.253754, expected=27.690000\n",
      "predicted=27.833131, expected=27.710000\n",
      "predicted=27.929757, expected=27.790000\n",
      "predicted=27.859476, expected=27.790000\n",
      "predicted=27.933265, expected=27.770000\n",
      "predicted=27.868223, expected=27.760000\n",
      "predicted=27.876447, expected=27.730000\n",
      "predicted=27.838451, expected=27.800000\n",
      "predicted=27.897803, expected=27.880000\n",
      "predicted=27.970093, expected=27.960000\n",
      "predicted=28.067608, expected=28.050000\n",
      "predicted=28.163656, expected=28.130000\n",
      "predicted=28.253399, expected=28.030000\n",
      "predicted=28.156775, expected=28.090000\n",
      "predicted=28.213541, expected=28.120000\n",
      "predicted=28.205871, expected=28.050000\n",
      "predicted=28.150553, expected=28.120000\n",
      "predicted=28.206066, expected=28.040000\n",
      "predicted=28.117228, expected=27.840000\n",
      "predicted=27.927490, expected=27.800000\n",
      "predicted=27.850318, expected=27.830000\n",
      "predicted=27.857943, expected=27.790000\n",
      "predicted=27.822578, expected=27.760000\n",
      "predicted=27.805459, expected=27.610000\n",
      "Test RMSE: 0.167\n"
     ]
    }
   ],
   "source": [
    "rmse, preds = fit_rolling_arima(train, test)"
   ]
  },
  {
   "cell_type": "code",
   "execution_count": 558,
   "metadata": {},
   "outputs": [
    {
     "data": {
      "image/png": "[encoded data removed]",
      "text/plain": [
       "<Figure size 720x360 with 1 Axes>"
      ]
     },
     "metadata": {
      "needs_background": "light"
     },
     "output_type": "display_data"
    }
   ],
   "source": [
    "plot_predictions(test, preds, rmse, 'Consumer Credit')"
   ]
  },
  {
   "cell_type": "markdown",
   "metadata": {},
   "source": [
    "Next we predict ' Deposit interest rate', ' Mortgage credit interest rate', ' Business credit interest rate',"
   ]
  },
  {
   "cell_type": "code",
   "execution_count": 559,
   "metadata": {},
   "outputs": [
    {
     "name": "stderr",
     "output_type": "stream",
     "text": [
      "/Users/pauldefusco/anaconda2/envs/py36/lib/python3.6/site-packages/scipy/signal/signaltools.py:1341: FutureWarning: Using a non-tuple sequence for multidimensional indexing is deprecated; use `arr[tuple(seq)]` instead of `arr[seq]`. In the future this will be interpreted as an array index, `arr[np.array(seq)]`, which will result either in an error or a different result.\n",
      "  out_full[ind] += zi\n",
      "/Users/pauldefusco/anaconda2/envs/py36/lib/python3.6/site-packages/scipy/signal/signaltools.py:1344: FutureWarning: Using a non-tuple sequence for multidimensional indexing is deprecated; use `arr[tuple(seq)]` instead of `arr[seq]`. In the future this will be interpreted as an array index, `arr[np.array(seq)]`, which will result either in an error or a different result.\n",
      "  out = out_full[ind]\n",
      "/Users/pauldefusco/anaconda2/envs/py36/lib/python3.6/site-packages/scipy/signal/signaltools.py:1350: FutureWarning: Using a non-tuple sequence for multidimensional indexing is deprecated; use `arr[tuple(seq)]` instead of `arr[seq]`. In the future this will be interpreted as an array index, `arr[np.array(seq)]`, which will result either in an error or a different result.\n",
      "  zf = out_full[ind]\n"
     ]
    },
    {
     "name": "stdout",
     "output_type": "stream",
     "text": [
      "predicted=4.150853, expected=4.190000\n",
      "predicted=4.205970, expected=4.230000\n",
      "predicted=4.276454, expected=4.520000\n",
      "predicted=4.580050, expected=4.460000\n",
      "predicted=4.551885, expected=4.470000\n",
      "predicted=4.558374, expected=4.650000\n",
      "predicted=4.677160, expected=4.280000\n",
      "predicted=4.389433, expected=3.680000\n",
      "predicted=3.571984, expected=3.220000\n",
      "predicted=2.734814, expected=2.720000\n",
      "predicted=2.216322, expected=2.470000\n",
      "predicted=2.367904, expected=2.200000\n",
      "predicted=2.036425, expected=2.040000\n",
      "predicted=1.981708, expected=1.840000\n",
      "predicted=1.712121, expected=1.790000\n",
      "predicted=1.746586, expected=1.530000\n",
      "predicted=1.392408, expected=1.460000\n",
      "predicted=1.390865, expected=1.490000\n",
      "predicted=1.445645, expected=1.550000\n",
      "predicted=1.599593, expected=1.520000\n",
      "predicted=1.551773, expected=1.410000\n",
      "predicted=1.365208, expected=1.320000\n",
      "predicted=1.242077, expected=1.290000\n",
      "predicted=1.235231, expected=1.230000\n",
      "predicted=1.188897, expected=1.130000\n",
      "predicted=1.078496, expected=1.400000\n",
      "predicted=1.490231, expected=1.750000\n",
      "predicted=1.949987, expected=1.810000\n",
      "predicted=1.954378, expected=1.910000\n",
      "predicted=2.022593, expected=2.290000\n",
      "predicted=2.447085, expected=2.450000\n",
      "predicted=2.545187, expected=2.560000\n",
      "Test RMSE: 0.207\n"
     ]
    }
   ],
   "source": [
    "train, test = split_data(df[' Deposit interest rate'], 0.62)\n",
    "rmse, deposit_pred = fit_rolling_arima(train, test)"
   ]
  },
  {
   "cell_type": "code",
   "execution_count": 560,
   "metadata": {},
   "outputs": [
    {
     "name": "stdout",
     "output_type": "stream",
     "text": [
      "Months in Train Dataset:  52\n",
      "Months in Test Dataset:  32\n"
     ]
    }
   ],
   "source": [
    "print('Months in Train Dataset: ', len(train))\n",
    "print('Months in Test Dataset: ', len(test))"
   ]
  },
  {
   "cell_type": "code",
   "execution_count": 561,
   "metadata": {},
   "outputs": [
    {
     "data": {
      "image/png": "[encoded data removed]",
      "text/plain": [
       "<Figure size 720x360 with 1 Axes>"
      ]
     },
     "metadata": {
      "needs_background": "light"
     },
     "output_type": "display_data"
    }
   ],
   "source": [
    "plot_predictions(test, deposit_pred, rmse, 'Deposit Interest Rate')"
   ]
  },
  {
   "cell_type": "code",
   "execution_count": 562,
   "metadata": {},
   "outputs": [
    {
     "name": "stderr",
     "output_type": "stream",
     "text": [
      "/Users/pauldefusco/anaconda2/envs/py36/lib/python3.6/site-packages/scipy/signal/signaltools.py:1341: FutureWarning: Using a non-tuple sequence for multidimensional indexing is deprecated; use `arr[tuple(seq)]` instead of `arr[seq]`. In the future this will be interpreted as an array index, `arr[np.array(seq)]`, which will result either in an error or a different result.\n",
      "  out_full[ind] += zi\n",
      "/Users/pauldefusco/anaconda2/envs/py36/lib/python3.6/site-packages/scipy/signal/signaltools.py:1344: FutureWarning: Using a non-tuple sequence for multidimensional indexing is deprecated; use `arr[tuple(seq)]` instead of `arr[seq]`. In the future this will be interpreted as an array index, `arr[np.array(seq)]`, which will result either in an error or a different result.\n",
      "  out = out_full[ind]\n",
      "/Users/pauldefusco/anaconda2/envs/py36/lib/python3.6/site-packages/scipy/signal/signaltools.py:1350: FutureWarning: Using a non-tuple sequence for multidimensional indexing is deprecated; use `arr[tuple(seq)]` instead of `arr[seq]`. In the future this will be interpreted as an array index, `arr[np.array(seq)]`, which will result either in an error or a different result.\n",
      "  zf = out_full[ind]\n"
     ]
    },
    {
     "name": "stdout",
     "output_type": "stream",
     "text": [
      "predicted=5.339809, expected=5.450000\n",
      "predicted=5.450175, expected=5.610000\n",
      "predicted=5.769076, expected=5.650000\n",
      "predicted=5.723885, expected=5.710000\n",
      "predicted=5.751208, expected=5.760000\n",
      "predicted=5.788253, expected=5.670000\n",
      "predicted=5.627279, expected=5.720000\n",
      "predicted=5.778767, expected=4.940000\n",
      "predicted=4.787146, expected=4.130000\n",
      "predicted=3.512320, expected=3.450000\n",
      "predicted=2.810887, expected=3.070000\n",
      "predicted=2.773320, expected=2.810000\n",
      "predicted=2.748453, expected=2.650000\n",
      "predicted=2.596766, expected=2.570000\n",
      "predicted=2.563390, expected=2.540000\n",
      "predicted=2.540951, expected=2.390000\n",
      "predicted=2.282218, expected=2.320000\n",
      "predicted=2.267595, expected=2.280000\n",
      "predicted=2.256951, expected=2.260000\n",
      "predicted=2.237539, expected=2.250000\n",
      "predicted=2.244769, expected=2.170000\n",
      "predicted=2.106112, expected=2.200000\n",
      "predicted=2.217515, expected=2.230000\n",
      "predicted=2.253033, expected=2.260000\n",
      "predicted=2.271688, expected=2.310000\n",
      "predicted=2.346235, expected=2.280000\n",
      "predicted=2.249650, expected=2.360000\n",
      "predicted=2.410007, expected=2.580000\n",
      "predicted=2.745514, expected=2.680000\n",
      "predicted=2.743776, expected=2.730000\n",
      "predicted=2.756907, expected=2.840000\n",
      "predicted=2.918275, expected=2.980000\n",
      "Test RMSE: 0.209\n"
     ]
    }
   ],
   "source": [
    "train, test = split_data(df[' Mortgage credit interest rate'], 0.62)\n",
    "rmse, mortg_pred = fit_rolling_arima(train, test)"
   ]
  },
  {
   "cell_type": "code",
   "execution_count": 563,
   "metadata": {},
   "outputs": [
    {
     "data": {
      "image/png": "[encoded data removed]",
      "text/plain": [
       "<Figure size 720x360 with 1 Axes>"
      ]
     },
     "metadata": {
      "needs_background": "light"
     },
     "output_type": "display_data"
    }
   ],
   "source": [
    "plot_predictions(test, mortg_pred, rmse_arima, 'Mortgage Credit Interest Rate')"
   ]
  },
  {
   "cell_type": "code",
   "execution_count": 564,
   "metadata": {},
   "outputs": [
    {
     "name": "stderr",
     "output_type": "stream",
     "text": [
      "/Users/pauldefusco/anaconda2/envs/py36/lib/python3.6/site-packages/scipy/signal/signaltools.py:1341: FutureWarning: Using a non-tuple sequence for multidimensional indexing is deprecated; use `arr[tuple(seq)]` instead of `arr[seq]`. In the future this will be interpreted as an array index, `arr[np.array(seq)]`, which will result either in an error or a different result.\n",
      "  out_full[ind] += zi\n",
      "/Users/pauldefusco/anaconda2/envs/py36/lib/python3.6/site-packages/scipy/signal/signaltools.py:1344: FutureWarning: Using a non-tuple sequence for multidimensional indexing is deprecated; use `arr[tuple(seq)]` instead of `arr[seq]`. In the future this will be interpreted as an array index, `arr[np.array(seq)]`, which will result either in an error or a different result.\n",
      "  out = out_full[ind]\n",
      "/Users/pauldefusco/anaconda2/envs/py36/lib/python3.6/site-packages/scipy/signal/signaltools.py:1350: FutureWarning: Using a non-tuple sequence for multidimensional indexing is deprecated; use `arr[tuple(seq)]` instead of `arr[seq]`. In the future this will be interpreted as an array index, `arr[np.array(seq)]`, which will result either in an error or a different result.\n",
      "  zf = out_full[ind]\n"
     ]
    },
    {
     "name": "stdout",
     "output_type": "stream",
     "text": [
      "predicted=6.518649, expected=6.800000\n",
      "predicted=6.772054, expected=6.730000\n",
      "predicted=6.825735, expected=7.050000\n",
      "predicted=7.009011, expected=7.030000\n",
      "predicted=7.015659, expected=7.170000\n",
      "predicted=7.198371, expected=7.170000\n",
      "predicted=7.256500, expected=7.050000\n",
      "predicted=7.119417, expected=6.500000\n",
      "predicted=6.655078, expected=6.210000\n",
      "predicted=6.086740, expected=5.490000\n",
      "predicted=5.086772, expected=5.180000\n",
      "predicted=4.807849, expected=4.910000\n",
      "predicted=4.826663, expected=4.920000\n",
      "predicted=4.927402, expected=4.700000\n",
      "predicted=4.907984, expected=4.610000\n",
      "predicted=4.595904, expected=4.290000\n",
      "predicted=4.234575, expected=4.360000\n",
      "predicted=4.206266, expected=4.370000\n",
      "predicted=4.390168, expected=4.130000\n",
      "predicted=4.104004, expected=4.110000\n",
      "predicted=4.107846, expected=4.500000\n",
      "predicted=4.468974, expected=4.170000\n",
      "predicted=4.218411, expected=4.160000\n",
      "predicted=4.245649, expected=4.440000\n",
      "predicted=4.408357, expected=4.490000\n",
      "predicted=4.374230, expected=4.550000\n",
      "predicted=4.757589, expected=4.380000\n",
      "predicted=4.429185, expected=4.630000\n",
      "predicted=4.551672, expected=4.930000\n",
      "predicted=4.968301, expected=4.760000\n",
      "predicted=4.836618, expected=4.970000\n",
      "predicted=5.104825, expected=5.260000\n",
      "Test RMSE: 0.265\n"
     ]
    }
   ],
   "source": [
    "train, test = split_data(df[' Business credit interest rate'], 0.62)\n",
    "rmse, bus_pred = fit_rolling_arima(train, test)"
   ]
  },
  {
   "cell_type": "code",
   "execution_count": 565,
   "metadata": {},
   "outputs": [
    {
     "data": {
      "image/png": "[encoded data removed]",
      "text/plain": [
       "<Figure size 720x360 with 1 Axes>"
      ]
     },
     "metadata": {
      "needs_background": "light"
     },
     "output_type": "display_data"
    }
   ],
   "source": [
    "plot_predictions(test, bus_pred, rmse, 'Business Credit Interest Rate')"
   ]
  },
  {
   "cell_type": "markdown",
   "metadata": {},
   "source": [
    "Next we create a financial simulation using actual and predicted interest rates for the timeframe included in our test dataset"
   ]
  },
  {
   "cell_type": "markdown",
   "metadata": {},
   "source": [
    "Assuming the bank's revenues are equally split into mortgage and business lending, we define Average Customer CLV with the formula:\n",
    "\n",
    "Avg Customer CLV = (Mortgage Rate + Business Rate)/2 - Deposit Rate"
   ]
  },
  {
   "cell_type": "code",
   "execution_count": 566,
   "metadata": {
    "collapsed": true
   },
   "outputs": [],
   "source": [
    "#Creating df feature defined as Avg Customer CLV:\n",
    "df['avg_cust_clv'] = ((df[' Mortgage credit interest rate']\n",
    "                       +df[' Business credit interest rate'])/2)-df[' Deposit interest rate']"
   ]
  },
  {
   "cell_type": "code",
   "execution_count": 567,
   "metadata": {
    "collapsed": true
   },
   "outputs": [],
   "source": [
    "_, test_clv = split_data(df['avg_cust_clv'], 0.62)"
   ]
  },
  {
   "cell_type": "code",
   "execution_count": 568,
   "metadata": {},
   "outputs": [],
   "source": [
    "pred_clv = ((np.array(mortg_pred) + np.array(bus_pred))/2)-np.array(deposit_pred)"
   ]
  },
  {
   "cell_type": "code",
   "execution_count": 569,
   "metadata": {},
   "outputs": [
    {
     "data": {
      "image/png": "[encoded data removed]",
      "text/plain": [
       "<Figure size 720x360 with 1 Axes>"
      ]
     },
     "metadata": {
      "needs_background": "light"
     },
     "output_type": "display_data"
    }
   ],
   "source": [
    "plot_predictions(test_clv, pred_clv, 999, 'CLV')"
   ]
  },
  {
   "cell_type": "code",
   "execution_count": 570,
   "metadata": {
    "collapsed": true
   },
   "outputs": [],
   "source": [
    "#enhancement: split ARIMA into its components to eradicate noise in prediction"
   ]
  },
  {
   "cell_type": "code",
   "execution_count": null,
   "metadata": {
    "collapsed": true
   },
   "outputs": [],
   "source": [
    "#enhancement: create rolling ARIMA that looks farther into the future e.g. + 3 months \n",
    "#goal is to reflect campaign duration pre campaign launch"
   ]
  },
  {
   "cell_type": "code",
   "execution_count": 571,
   "metadata": {
    "collapsed": true
   },
   "outputs": [],
   "source": [
    "#enhancement: upsample to daily rate to obtain higher profitability"
   ]
  },
  {
   "cell_type": "code",
   "execution_count": 572,
   "metadata": {
    "collapsed": true
   },
   "outputs": [],
   "source": [
    "#enhancement: use LSTM neural network to predict interest rates"
   ]
  },
  {
   "cell_type": "code",
   "execution_count": 573,
   "metadata": {
    "collapsed": true
   },
   "outputs": [],
   "source": [
    "#enhancement: try predicting the avg clv directly"
   ]
  },
  {
   "cell_type": "markdown",
   "metadata": {},
   "source": [
    "Final output: prediction for avg customer clv (will be used to choose optimal log regression threshold)"
   ]
  },
  {
   "cell_type": "markdown",
   "metadata": {},
   "source": [
    "We assume each point differential between mortgage and business, and deposit interest rates will return an average $100 profit per customer"
   ]
  },
  {
   "cell_type": "code",
   "execution_count": 574,
   "metadata": {
    "collapsed": true
   },
   "outputs": [],
   "source": [
    "pred_clv = pred_clv*100"
   ]
  },
  {
   "cell_type": "code",
   "execution_count": 575,
   "metadata": {},
   "outputs": [],
   "source": [
    "start = len(df) - len(pred_clv)"
   ]
  },
  {
   "cell_type": "code",
   "execution_count": 583,
   "metadata": {},
   "outputs": [],
   "source": [
    "pred_clv_df = df[['Year','Month']].iloc[start:,:].reset_index(drop=1)"
   ]
  },
  {
   "cell_type": "code",
   "execution_count": 584,
   "metadata": {},
   "outputs": [
    {
     "data": {
      "text/html": [
       "<div>\n",
       "<style scoped>\n",
       "    .dataframe tbody tr th:only-of-type {\n",
       "        vertical-align: middle;\n",
       "    }\n",
       "\n",
       "    .dataframe tbody tr th {\n",
       "        vertical-align: top;\n",
       "    }\n",
       "\n",
       "    .dataframe thead th {\n",
       "        text-align: right;\n",
       "    }\n",
       "</style>\n",
       "<table border=\"1\" class=\"dataframe\">\n",
       "  <thead>\n",
       "    <tr style=\"text-align: right;\">\n",
       "      <th></th>\n",
       "      <th>0</th>\n",
       "    </tr>\n",
       "  </thead>\n",
       "  <tbody>\n",
       "    <tr>\n",
       "      <th>0</th>\n",
       "      <td>177.837548</td>\n",
       "    </tr>\n",
       "    <tr>\n",
       "      <th>1</th>\n",
       "      <td>190.514476</td>\n",
       "    </tr>\n",
       "    <tr>\n",
       "      <th>2</th>\n",
       "      <td>202.095201</td>\n",
       "    </tr>\n",
       "    <tr>\n",
       "      <th>3</th>\n",
       "      <td>178.639747</td>\n",
       "    </tr>\n",
       "    <tr>\n",
       "      <th>4</th>\n",
       "      <td>183.154854</td>\n",
       "    </tr>\n",
       "    <tr>\n",
       "      <th>5</th>\n",
       "      <td>193.493816</td>\n",
       "    </tr>\n",
       "    <tr>\n",
       "      <th>6</th>\n",
       "      <td>176.472961</td>\n",
       "    </tr>\n",
       "    <tr>\n",
       "      <th>7</th>\n",
       "      <td>205.965943</td>\n",
       "    </tr>\n",
       "    <tr>\n",
       "      <th>8</th>\n",
       "      <td>214.912831</td>\n",
       "    </tr>\n",
       "    <tr>\n",
       "      <th>9</th>\n",
       "      <td>206.471593</td>\n",
       "    </tr>\n",
       "    <tr>\n",
       "      <th>10</th>\n",
       "      <td>173.250708</td>\n",
       "    </tr>\n",
       "    <tr>\n",
       "      <th>11</th>\n",
       "      <td>142.268082</td>\n",
       "    </tr>\n",
       "    <tr>\n",
       "      <th>12</th>\n",
       "      <td>175.113342</td>\n",
       "    </tr>\n",
       "    <tr>\n",
       "      <th>13</th>\n",
       "      <td>178.037568</td>\n",
       "    </tr>\n",
       "    <tr>\n",
       "      <th>14</th>\n",
       "      <td>202.356627</td>\n",
       "    </tr>\n",
       "    <tr>\n",
       "      <th>15</th>\n",
       "      <td>182.184138</td>\n",
       "    </tr>\n",
       "    <tr>\n",
       "      <th>16</th>\n",
       "      <td>186.598900</td>\n",
       "    </tr>\n",
       "    <tr>\n",
       "      <th>17</th>\n",
       "      <td>184.606470</td>\n",
       "    </tr>\n",
       "    <tr>\n",
       "      <th>18</th>\n",
       "      <td>187.791393</td>\n",
       "    </tr>\n",
       "    <tr>\n",
       "      <th>19</th>\n",
       "      <td>157.117845</td>\n",
       "    </tr>\n",
       "    <tr>\n",
       "      <th>20</th>\n",
       "      <td>162.453444</td>\n",
       "    </tr>\n",
       "    <tr>\n",
       "      <th>21</th>\n",
       "      <td>192.233472</td>\n",
       "    </tr>\n",
       "    <tr>\n",
       "      <th>22</th>\n",
       "      <td>197.588567</td>\n",
       "    </tr>\n",
       "    <tr>\n",
       "      <th>23</th>\n",
       "      <td>201.410975</td>\n",
       "    </tr>\n",
       "    <tr>\n",
       "      <th>24</th>\n",
       "      <td>215.112574</td>\n",
       "    </tr>\n",
       "    <tr>\n",
       "      <th>25</th>\n",
       "      <td>228.173663</td>\n",
       "    </tr>\n",
       "    <tr>\n",
       "      <th>26</th>\n",
       "      <td>201.338863</td>\n",
       "    </tr>\n",
       "    <tr>\n",
       "      <th>27</th>\n",
       "      <td>146.960881</td>\n",
       "    </tr>\n",
       "    <tr>\n",
       "      <th>28</th>\n",
       "      <td>169.421497</td>\n",
       "    </tr>\n",
       "    <tr>\n",
       "      <th>29</th>\n",
       "      <td>183.344569</td>\n",
       "    </tr>\n",
       "    <tr>\n",
       "      <th>30</th>\n",
       "      <td>134.967746</td>\n",
       "    </tr>\n",
       "    <tr>\n",
       "      <th>31</th>\n",
       "      <td>146.636311</td>\n",
       "    </tr>\n",
       "  </tbody>\n",
       "</table>\n",
       "</div>"
      ],
      "text/plain": [
       "             0\n",
       "0   177.837548\n",
       "1   190.514476\n",
       "2   202.095201\n",
       "3   178.639747\n",
       "4   183.154854\n",
       "5   193.493816\n",
       "6   176.472961\n",
       "7   205.965943\n",
       "8   214.912831\n",
       "9   206.471593\n",
       "10  173.250708\n",
       "11  142.268082\n",
       "12  175.113342\n",
       "13  178.037568\n",
       "14  202.356627\n",
       "15  182.184138\n",
       "16  186.598900\n",
       "17  184.606470\n",
       "18  187.791393\n",
       "19  157.117845\n",
       "20  162.453444\n",
       "21  192.233472\n",
       "22  197.588567\n",
       "23  201.410975\n",
       "24  215.112574\n",
       "25  228.173663\n",
       "26  201.338863\n",
       "27  146.960881\n",
       "28  169.421497\n",
       "29  183.344569\n",
       "30  134.967746\n",
       "31  146.636311"
      ]
     },
     "execution_count": 584,
     "metadata": {},
     "output_type": "execute_result"
    }
   ],
   "source": [
    "pd.DataFrame(pred_clv)"
   ]
  },
  {
   "cell_type": "code",
   "execution_count": 585,
   "metadata": {},
   "outputs": [],
   "source": [
    "pred_clv_df['clv_est'] = pd.DataFrame(pred_clv)"
   ]
  },
  {
   "cell_type": "code",
   "execution_count": 586,
   "metadata": {},
   "outputs": [
    {
     "name": "stdout",
     "output_type": "stream",
     "text": [
      "Stored 'pred_clv' (ndarray)\n"
     ]
    }
   ],
   "source": [
    "%store pred_clv"
   ]
  },
  {
   "cell_type": "code",
   "execution_count": 587,
   "metadata": {},
   "outputs": [
    {
     "data": {
      "text/html": [
       "<div>\n",
       "<style scoped>\n",
       "    .dataframe tbody tr th:only-of-type {\n",
       "        vertical-align: middle;\n",
       "    }\n",
       "\n",
       "    .dataframe tbody tr th {\n",
       "        vertical-align: top;\n",
       "    }\n",
       "\n",
       "    .dataframe thead th {\n",
       "        text-align: right;\n",
       "    }\n",
       "</style>\n",
       "<table border=\"1\" class=\"dataframe\">\n",
       "  <thead>\n",
       "    <tr style=\"text-align: right;\">\n",
       "      <th></th>\n",
       "      <th>Year</th>\n",
       "      <th>Month</th>\n",
       "      <th>clv_est</th>\n",
       "    </tr>\n",
       "  </thead>\n",
       "  <tbody>\n",
       "    <tr>\n",
       "      <th>0</th>\n",
       "      <td>2008</td>\n",
       "      <td>5</td>\n",
       "      <td>177.837548</td>\n",
       "    </tr>\n",
       "    <tr>\n",
       "      <th>1</th>\n",
       "      <td>2008</td>\n",
       "      <td>6</td>\n",
       "      <td>190.514476</td>\n",
       "    </tr>\n",
       "    <tr>\n",
       "      <th>2</th>\n",
       "      <td>2008</td>\n",
       "      <td>7</td>\n",
       "      <td>202.095201</td>\n",
       "    </tr>\n",
       "    <tr>\n",
       "      <th>3</th>\n",
       "      <td>2008</td>\n",
       "      <td>8</td>\n",
       "      <td>178.639747</td>\n",
       "    </tr>\n",
       "    <tr>\n",
       "      <th>4</th>\n",
       "      <td>2008</td>\n",
       "      <td>9</td>\n",
       "      <td>183.154854</td>\n",
       "    </tr>\n",
       "    <tr>\n",
       "      <th>5</th>\n",
       "      <td>2008</td>\n",
       "      <td>10</td>\n",
       "      <td>193.493816</td>\n",
       "    </tr>\n",
       "    <tr>\n",
       "      <th>6</th>\n",
       "      <td>2008</td>\n",
       "      <td>11</td>\n",
       "      <td>176.472961</td>\n",
       "    </tr>\n",
       "    <tr>\n",
       "      <th>7</th>\n",
       "      <td>2008</td>\n",
       "      <td>12</td>\n",
       "      <td>205.965943</td>\n",
       "    </tr>\n",
       "    <tr>\n",
       "      <th>8</th>\n",
       "      <td>2009</td>\n",
       "      <td>1</td>\n",
       "      <td>214.912831</td>\n",
       "    </tr>\n",
       "    <tr>\n",
       "      <th>9</th>\n",
       "      <td>2009</td>\n",
       "      <td>2</td>\n",
       "      <td>206.471593</td>\n",
       "    </tr>\n",
       "    <tr>\n",
       "      <th>10</th>\n",
       "      <td>2009</td>\n",
       "      <td>3</td>\n",
       "      <td>173.250708</td>\n",
       "    </tr>\n",
       "    <tr>\n",
       "      <th>11</th>\n",
       "      <td>2009</td>\n",
       "      <td>4</td>\n",
       "      <td>142.268082</td>\n",
       "    </tr>\n",
       "    <tr>\n",
       "      <th>12</th>\n",
       "      <td>2009</td>\n",
       "      <td>5</td>\n",
       "      <td>175.113342</td>\n",
       "    </tr>\n",
       "    <tr>\n",
       "      <th>13</th>\n",
       "      <td>2009</td>\n",
       "      <td>6</td>\n",
       "      <td>178.037568</td>\n",
       "    </tr>\n",
       "    <tr>\n",
       "      <th>14</th>\n",
       "      <td>2009</td>\n",
       "      <td>7</td>\n",
       "      <td>202.356627</td>\n",
       "    </tr>\n",
       "    <tr>\n",
       "      <th>15</th>\n",
       "      <td>2009</td>\n",
       "      <td>8</td>\n",
       "      <td>182.184138</td>\n",
       "    </tr>\n",
       "    <tr>\n",
       "      <th>16</th>\n",
       "      <td>2009</td>\n",
       "      <td>9</td>\n",
       "      <td>186.598900</td>\n",
       "    </tr>\n",
       "    <tr>\n",
       "      <th>17</th>\n",
       "      <td>2009</td>\n",
       "      <td>10</td>\n",
       "      <td>184.606470</td>\n",
       "    </tr>\n",
       "    <tr>\n",
       "      <th>18</th>\n",
       "      <td>2009</td>\n",
       "      <td>11</td>\n",
       "      <td>187.791393</td>\n",
       "    </tr>\n",
       "    <tr>\n",
       "      <th>19</th>\n",
       "      <td>2009</td>\n",
       "      <td>12</td>\n",
       "      <td>157.117845</td>\n",
       "    </tr>\n",
       "    <tr>\n",
       "      <th>20</th>\n",
       "      <td>2010</td>\n",
       "      <td>1</td>\n",
       "      <td>162.453444</td>\n",
       "    </tr>\n",
       "    <tr>\n",
       "      <th>21</th>\n",
       "      <td>2010</td>\n",
       "      <td>2</td>\n",
       "      <td>192.233472</td>\n",
       "    </tr>\n",
       "    <tr>\n",
       "      <th>22</th>\n",
       "      <td>2010</td>\n",
       "      <td>3</td>\n",
       "      <td>197.588567</td>\n",
       "    </tr>\n",
       "    <tr>\n",
       "      <th>23</th>\n",
       "      <td>2010</td>\n",
       "      <td>4</td>\n",
       "      <td>201.410975</td>\n",
       "    </tr>\n",
       "    <tr>\n",
       "      <th>24</th>\n",
       "      <td>2010</td>\n",
       "      <td>5</td>\n",
       "      <td>215.112574</td>\n",
       "    </tr>\n",
       "    <tr>\n",
       "      <th>25</th>\n",
       "      <td>2010</td>\n",
       "      <td>6</td>\n",
       "      <td>228.173663</td>\n",
       "    </tr>\n",
       "    <tr>\n",
       "      <th>26</th>\n",
       "      <td>2010</td>\n",
       "      <td>7</td>\n",
       "      <td>201.338863</td>\n",
       "    </tr>\n",
       "    <tr>\n",
       "      <th>27</th>\n",
       "      <td>2010</td>\n",
       "      <td>8</td>\n",
       "      <td>146.960881</td>\n",
       "    </tr>\n",
       "    <tr>\n",
       "      <th>28</th>\n",
       "      <td>2010</td>\n",
       "      <td>9</td>\n",
       "      <td>169.421497</td>\n",
       "    </tr>\n",
       "    <tr>\n",
       "      <th>29</th>\n",
       "      <td>2010</td>\n",
       "      <td>10</td>\n",
       "      <td>183.344569</td>\n",
       "    </tr>\n",
       "    <tr>\n",
       "      <th>30</th>\n",
       "      <td>2010</td>\n",
       "      <td>11</td>\n",
       "      <td>134.967746</td>\n",
       "    </tr>\n",
       "    <tr>\n",
       "      <th>31</th>\n",
       "      <td>2010</td>\n",
       "      <td>12</td>\n",
       "      <td>146.636311</td>\n",
       "    </tr>\n",
       "  </tbody>\n",
       "</table>\n",
       "</div>"
      ],
      "text/plain": [
       "    Year  Month     clv_est\n",
       "0   2008      5  177.837548\n",
       "1   2008      6  190.514476\n",
       "2   2008      7  202.095201\n",
       "3   2008      8  178.639747\n",
       "4   2008      9  183.154854\n",
       "5   2008     10  193.493816\n",
       "6   2008     11  176.472961\n",
       "7   2008     12  205.965943\n",
       "8   2009      1  214.912831\n",
       "9   2009      2  206.471593\n",
       "10  2009      3  173.250708\n",
       "11  2009      4  142.268082\n",
       "12  2009      5  175.113342\n",
       "13  2009      6  178.037568\n",
       "14  2009      7  202.356627\n",
       "15  2009      8  182.184138\n",
       "16  2009      9  186.598900\n",
       "17  2009     10  184.606470\n",
       "18  2009     11  187.791393\n",
       "19  2009     12  157.117845\n",
       "20  2010      1  162.453444\n",
       "21  2010      2  192.233472\n",
       "22  2010      3  197.588567\n",
       "23  2010      4  201.410975\n",
       "24  2010      5  215.112574\n",
       "25  2010      6  228.173663\n",
       "26  2010      7  201.338863\n",
       "27  2010      8  146.960881\n",
       "28  2010      9  169.421497\n",
       "29  2010     10  183.344569\n",
       "30  2010     11  134.967746\n",
       "31  2010     12  146.636311"
      ]
     },
     "execution_count": 587,
     "metadata": {},
     "output_type": "execute_result"
    }
   ],
   "source": [
    "pred_clv_df.sort_values(['Year', 'Month'])"
   ]
  },
  {
   "cell_type": "code",
   "execution_count": null,
   "metadata": {
    "collapsed": true
   },
   "outputs": [],
   "source": []
  }
 ],
 "metadata": {
  "kernelspec": {
   "display_name": "Python 3",
   "language": "python",
   "name": "python3"
  },
  "language_info": {
   "codemirror_mode": {
    "name": "ipython",
    "version": 3
   },
   "file_extension": ".py",
   "mimetype": "text/x-python",
   "name": "python",
   "nbconvert_exporter": "python",
   "pygments_lexer": "ipython3",
   "version": "3.6.3"
  }
 },
 "nbformat": 4,
 "nbformat_minor": 2
}
