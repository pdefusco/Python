{
 "cells": [
  {
   "cell_type": "markdown",
   "metadata": {},
   "source": [
    "# Model Evaluation Visualizations - Examples"
   ]
  },
  {
   "cell_type": "markdown",
   "metadata": {},
   "source": [
    "- Viz 1: detect patterns in missclassifier vs correctly classified instances for ML algo\n",
    "- Method: groupby value combinations for selected variable, than do a histogram of guesses vs non guesses"
   ]
  },
  {
   "cell_type": "code",
   "execution_count": 83,
   "metadata": {
    "collapsed": true
   },
   "outputs": [],
   "source": [
    "%matplotlib inline\n",
    "import matplotlib.pyplot as plt\n",
    "import seaborn as sns\n",
    "import pandas as pd\n",
    "from sklearn.linear_model import LogisticRegression\n",
    "from sklearn.model_selection import train_test_split\n",
    "from sklearn.metrics import accuracy_score"
   ]
  },
  {
   "cell_type": "code",
   "execution_count": 35,
   "metadata": {
    "collapsed": true
   },
   "outputs": [],
   "source": [
    "#Loading df1 after it has been augmented in iteration 2:\n",
    "df = pd.read_pickle('../data/pickle_files/df_pickle_w_all_stats')"
   ]
  },
  {
   "cell_type": "code",
   "execution_count": 36,
   "metadata": {},
   "outputs": [
    {
     "data": {
      "text/plain": [
       "Index(['Date', 'job', 'marital', 'education', 'default', 'housing', 'loan',\n",
       "       'contact', 'month_last_contact', 'day_of_week_last_contact', 'poutcome',\n",
       "       'y', 'Government expenditure', 'Budget balance', 'Labor cost',\n",
       "       'Government debt', 'Gross Domestic Product (GDP)',\n",
       "       'Household consumption', 'Investment', 'Economic growth',\n",
       "       'Consumption growth', 'Investment as percent of GDP',\n",
       "       'Investment growth', 'Consumption as percent of GDP',\n",
       "       'Economic growth Q-on-Q'],\n",
       "      dtype='object')"
      ]
     },
     "execution_count": 36,
     "metadata": {},
     "output_type": "execute_result"
    }
   ],
   "source": [
    "#Checking dtypes have loaded correctly (should return empty index)\n",
    "df.select_dtypes(exclude = ['float64', 'int64']).columns"
   ]
  },
  {
   "cell_type": "code",
   "execution_count": 37,
   "metadata": {
    "collapsed": true
   },
   "outputs": [],
   "source": [
    "df = df[(df['month'] > 3) & (df['month'] < 6) ]"
   ]
  },
  {
   "cell_type": "code",
   "execution_count": 38,
   "metadata": {},
   "outputs": [
    {
     "data": {
      "text/plain": [
       "(16401, 75)"
      ]
     },
     "execution_count": 38,
     "metadata": {},
     "output_type": "execute_result"
    }
   ],
   "source": [
    "df.shape"
   ]
  },
  {
   "cell_type": "code",
   "execution_count": 39,
   "metadata": {
    "collapsed": true
   },
   "outputs": [],
   "source": [
    "y = df['y']\n",
    "X = df.drop(columns=['y', 'Date'])"
   ]
  },
  {
   "cell_type": "code",
   "execution_count": 40,
   "metadata": {
    "collapsed": true
   },
   "outputs": [],
   "source": [
    "X_train, X_test, y_train, y_test = train_test_split(X,y,test_size=0.33)"
   ]
  },
  {
   "cell_type": "code",
   "execution_count": 41,
   "metadata": {
    "collapsed": true
   },
   "outputs": [],
   "source": [
    "lr = LogisticRegression()"
   ]
  },
  {
   "cell_type": "code",
   "execution_count": 42,
   "metadata": {},
   "outputs": [
    {
     "data": {
      "text/plain": [
       "LogisticRegression(C=1.0, class_weight=None, dual=False, fit_intercept=True,\n",
       "          intercept_scaling=1, max_iter=100, multi_class='ovr', n_jobs=1,\n",
       "          penalty='l2', random_state=None, solver='liblinear', tol=0.0001,\n",
       "          verbose=0, warm_start=False)"
      ]
     },
     "execution_count": 42,
     "metadata": {},
     "output_type": "execute_result"
    }
   ],
   "source": [
    "lr.fit(X_train, y_train)"
   ]
  },
  {
   "cell_type": "code",
   "execution_count": 43,
   "metadata": {
    "collapsed": true
   },
   "outputs": [],
   "source": [
    "y_pred = lr.predict(X_test)"
   ]
  },
  {
   "cell_type": "code",
   "execution_count": 70,
   "metadata": {},
   "outputs": [
    {
     "data": {
      "text/plain": [
       "0.9297986329207464"
      ]
     },
     "execution_count": 70,
     "metadata": {},
     "output_type": "execute_result"
    }
   ],
   "source": [
    "accuracy_score(y_test, y_pred)"
   ]
  },
  {
   "cell_type": "code",
   "execution_count": 129,
   "metadata": {
    "collapsed": true
   },
   "outputs": [],
   "source": [
    "def set_misses(df, X_test, y_test, y_pred, grp_list):\n",
    "    \n",
    "    cols = df.columns\n",
    "    X_t = pd.DataFrame(X_test, columns=cols)\n",
    "    \n",
    "    X_t['y_pred'] = y_pred\n",
    "    X_t['y_test'] = y_test\n",
    "    \n",
    "    X_t['guess'] = [i==k for i,k in zip(y_pred, y_test)]\n",
    "    X_t['miss'] = [i!=k for i,k in zip(y_pred, y_test)]\n",
    "    \n",
    "    cols_dfviz = grp_list + ['guess', 'miss']\n",
    "    \n",
    "    df_viz = X_t[cols_dfviz].groupby(by=grp_list).sum()\n",
    "    \n",
    "    return df_viz"
   ]
  },
  {
   "cell_type": "code",
   "execution_count": 135,
   "metadata": {
    "collapsed": true
   },
   "outputs": [],
   "source": [
    "def plot_classifications(df_viz):\n",
    "    fig = plt.figure(figsize=(7,3))\n",
    "    ax = fig.add_subplot(111) # Create matplotlib axes\n",
    "\n",
    "    df_viz.guess.plot(kind='bar', width = 0.3, color='blue', position=1, ax=ax)\n",
    "    df_viz.miss.plot(kind='bar', width = 0.3, color='red', position=0, ax=ax)\n",
    "    \n",
    "    xlables = '-'.join([i for i in df_viz.index.names])\n",
    "    \n",
    "    ax.set_ylabel('Count')\n",
    "    ax.set_xlabel(xlables)\n",
    "    #ax.set_xticks()\n",
    "    ax.set_title('Classification Guesses vs Misses')\n",
    "    ax.legend()\n",
    "\n",
    "    plt.show()"
   ]
  },
  {
   "cell_type": "code",
   "execution_count": 145,
   "metadata": {},
   "outputs": [
    {
     "name": "stdout",
     "output_type": "stream",
     "text": [
      "Categorical Variables: \n",
      "['job', 'marital', 'education', 'default', 'housing', 'loan', 'contact', 'month_last_contact', 'day_of_week_last_contact', 'poutcome', 'y']\n"
     ]
    }
   ],
   "source": [
    "print(\"Categorical Variables: \")\n",
    "print(list(df.select_dtypes(include='int8').columns))"
   ]
  },
  {
   "cell_type": "code",
   "execution_count": 136,
   "metadata": {},
   "outputs": [
    {
     "data": {
      "image/png": "[encoded data removed]",
      "text/plain": [
       "<Figure size 504x216 with 1 Axes>"
      ]
     },
     "metadata": {
      "needs_background": "light"
     },
     "output_type": "display_data"
    }
   ],
   "source": [
    "df_viz = set_misses(df, X_test, y_test, y_pred, ['year', 'month'])\n",
    "plot_classifications(df_viz)"
   ]
  },
  {
   "cell_type": "code",
   "execution_count": 148,
   "metadata": {},
   "outputs": [
    {
     "data": {
      "image/png": "[encoded data removed]",
      "text/plain": [
       "<Figure size 504x216 with 1 Axes>"
      ]
     },
     "metadata": {
      "needs_background": "light"
     },
     "output_type": "display_data"
    }
   ],
   "source": [
    "df_viz = set_misses(df, X_test, y_test, y_pred, ['poutcome'])\n",
    "plot_classifications(df_viz)"
   ]
  },
  {
   "cell_type": "code",
   "execution_count": null,
   "metadata": {
    "collapsed": true
   },
   "outputs": [],
   "source": []
  },
  {
   "cell_type": "code",
   "execution_count": null,
   "metadata": {
    "collapsed": true
   },
   "outputs": [],
   "source": []
  },
  {
   "cell_type": "markdown",
   "metadata": {},
   "source": [
    "- Viz 2: detect classifications vs misclassifications as a function of time\n",
    "- Method: cumulative line plots"
   ]
  },
  {
   "cell_type": "code",
   "execution_count": null,
   "metadata": {
    "collapsed": true
   },
   "outputs": [],
   "source": []
  }
 ],
 "metadata": {
  "kernelspec": {
   "display_name": "Python 3",
   "language": "python",
   "name": "python3"
  },
  "language_info": {
   "codemirror_mode": {
    "name": "ipython",
    "version": 3
   },
   "file_extension": ".py",
   "mimetype": "text/x-python",
   "name": "python",
   "nbconvert_exporter": "python",
   "pygments_lexer": "ipython3",
   "version": "3.6.7"
  }
 },
 "nbformat": 4,
 "nbformat_minor": 2
}
