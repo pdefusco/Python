{
 "cells": [
  {
   "cell_type": "markdown",
   "metadata": {},
   "source": [
    "### Data Preparation"
   ]
  },
  {
   "cell_type": "markdown",
   "metadata": {},
   "source": [
    "Objective: prepare original dataset for modeling"
   ]
  },
  {
   "cell_type": "code",
   "execution_count": 1,
   "metadata": {
    "collapsed": true
   },
   "outputs": [],
   "source": [
    "import os\n",
    "import pandas as pd\n",
    "import numpy as np\n",
    "import calendar\n",
    "import holidays\n",
    "from datetime import date"
   ]
  },
  {
   "cell_type": "code",
   "execution_count": 42,
   "metadata": {
    "collapsed": true
   },
   "outputs": [],
   "source": [
    "df = pd.read_csv('data/bank-additional-full.csv', sep=';')"
   ]
  },
  {
   "cell_type": "code",
   "execution_count": null,
   "metadata": {
    "collapsed": true
   },
   "outputs": [],
   "source": []
  },
  {
   "cell_type": "markdown",
   "metadata": {},
   "source": [
    "Time Series Features"
   ]
  },
  {
   "cell_type": "code",
   "execution_count": 3,
   "metadata": {
    "collapsed": true
   },
   "outputs": [],
   "source": [
    "#Creating df with euribor3m rows where a change took place (likely indicating a new day)\n",
    "res = df.loc[df['euribor3m'].shift(-1) != df['euribor3m']]"
   ]
  },
  {
   "cell_type": "code",
   "execution_count": 4,
   "metadata": {
    "collapsed": true
   },
   "outputs": [],
   "source": [
    "#Data quality issue: removing this row from the res df because corresponding value for official euribor rate does not exist:\n",
    "res.loc[res.euribor3m == 0.835].index\n",
    "res = res.drop(40132, axis = 0)"
   ]
  },
  {
   "cell_type": "code",
   "execution_count": 5,
   "metadata": {
    "collapsed": true
   },
   "outputs": [],
   "source": [
    "#Data quality issue: removing this row from the res df because corresponding value for official euribor rate does not exist:\n",
    "res.loc[res.euribor3m == 1.05].index\n",
    "res = res.drop(41099, axis = 0)"
   ]
  },
  {
   "cell_type": "code",
   "execution_count": 6,
   "metadata": {
    "collapsed": true
   },
   "outputs": [],
   "source": [
    "euri_df = pd.read_csv('data/daily_euribor3m.csv')"
   ]
  },
  {
   "cell_type": "code",
   "execution_count": 7,
   "metadata": {
    "collapsed": true
   },
   "outputs": [],
   "source": [
    "euri_df['year'] = [i[:4] for i in euri_df['Date']]\n",
    "euri_df['month'] = [i[5:7] for i in euri_df['Date']]\n",
    "euri_df['day'] = [i[8:10] for i in euri_df['Date']]"
   ]
  },
  {
   "cell_type": "code",
   "execution_count": 8,
   "metadata": {
    "collapsed": true
   },
   "outputs": [],
   "source": [
    "euri_df['Date'] = pd.to_datetime(euri_df.Date)"
   ]
  },
  {
   "cell_type": "code",
   "execution_count": 9,
   "metadata": {
    "collapsed": true
   },
   "outputs": [],
   "source": [
    "#Filtering for dates included in original dataset (per original article: http://media.salford-systems.com/video/tutorial/2015/targeted_marketing.pdf)\n",
    "euri_df = euri_df[(euri_df.Date < '2010-11-30') & (euri_df.Date > '2008-05-01')].sort_index(ascending=False)"
   ]
  },
  {
   "cell_type": "code",
   "execution_count": 10,
   "metadata": {},
   "outputs": [
    {
     "name": "stdout",
     "output_type": "stream",
     "text": [
      "Number of times the euribor was the same on at least two consecutive days:\n"
     ]
    },
    {
     "data": {
      "text/plain": [
       "81"
      ]
     },
     "execution_count": 10,
     "metadata": {},
     "output_type": "execute_result"
    }
   ],
   "source": [
    "#Useful question: how many times within the time period was the euribor the same among sequential days?\n",
    "print(\"Number of times the euribor was the same on at least two consecutive days:\")\n",
    "len(euri_df[euri_df['Value'].shift(-1) == euri_df['Value']])"
   ]
  },
  {
   "cell_type": "code",
   "execution_count": 11,
   "metadata": {
    "collapsed": true
   },
   "outputs": [],
   "source": [
    "#Visual Check:\n",
    "#times = []\n",
    "#for eu, (i, val) in zip(res['euribor3m'], enumerate(euri_df['Value'])):\n",
    "    #if eu == val:\n",
    "    #print(eu,i,val) "
   ]
  },
  {
   "cell_type": "code",
   "execution_count": 12,
   "metadata": {
    "collapsed": true
   },
   "outputs": [],
   "source": [
    "idx_i, idx_k = [],[]\n",
    "\n",
    "for index_i, i in enumerate(res['euribor3m']):\n",
    "    for index_k, k in enumerate(euri_df['Value']):       \n",
    "        if i == k:\n",
    "            #print(i,k, index_i, index_k)\n",
    "            idx_i.append(index_i)\n",
    "            idx_k.append(index_k)"
   ]
  },
  {
   "cell_type": "code",
   "execution_count": 13,
   "metadata": {
    "collapsed": true
   },
   "outputs": [],
   "source": [
    "lst_i = [0]\n",
    "lst_k = [1]\n",
    "for i, k in list(zip(idx_i[1:], idx_k[1:])):\n",
    "    if k not in lst_k:\n",
    "        if i not in lst_i:\n",
    "            if i < k & k > max(lst_k):\n",
    "                #print(i,k)\n",
    "                lst_i.append(i)\n",
    "                lst_k.append(k)"
   ]
  },
  {
   "cell_type": "code",
   "execution_count": 14,
   "metadata": {
    "collapsed": true
   },
   "outputs": [],
   "source": [
    "#lst_k is the index for dates that need to be applied to the original dataset:\n",
    "#resetting the index ahead of merging with original dataframe:\n",
    "euri_df.reset_index(drop=1, inplace=True)"
   ]
  },
  {
   "cell_type": "code",
   "execution_count": 15,
   "metadata": {
    "collapsed": true
   },
   "outputs": [],
   "source": [
    "euribor = euri_df.copy()"
   ]
  },
  {
   "cell_type": "code",
   "execution_count": 16,
   "metadata": {
    "collapsed": true
   },
   "outputs": [],
   "source": [
    "euribor = euribor.iloc[lst_k,:]"
   ]
  },
  {
   "cell_type": "code",
   "execution_count": 17,
   "metadata": {
    "collapsed": true
   },
   "outputs": [],
   "source": [
    "#Final check:\n",
    "#for i,(num,k) in zip(res['euribor3m'], enumerate(euribor['Value'])): \n",
    "#    print(i,num,k)"
   ]
  },
  {
   "cell_type": "code",
   "execution_count": 18,
   "metadata": {
    "collapsed": true
   },
   "outputs": [],
   "source": [
    "#euribor.head()\n",
    "#res.head()\n",
    "res['temp'] = [i for i in range(len(euribor))]\n",
    "euribor['temp'] = [i for i in range(len(euribor))]"
   ]
  },
  {
   "cell_type": "code",
   "execution_count": 19,
   "metadata": {
    "collapsed": true
   },
   "outputs": [],
   "source": [
    "res2 = res.merge(euribor, how='inner', on='temp')\n",
    "res2.index = res.index"
   ]
  },
  {
   "cell_type": "code",
   "execution_count": 20,
   "metadata": {
    "collapsed": true
   },
   "outputs": [],
   "source": [
    "#res2.head()\n",
    "res2 = res2[['Date', 'year', 'month_y', 'day']]"
   ]
  },
  {
   "cell_type": "code",
   "execution_count": 21,
   "metadata": {
    "collapsed": true
   },
   "outputs": [],
   "source": [
    "#res2.index"
   ]
  },
  {
   "cell_type": "code",
   "execution_count": 22,
   "metadata": {
    "collapsed": true
   },
   "outputs": [],
   "source": [
    "data_wtime = res2.merge(df, how='right', right_index=True, left_index=True)"
   ]
  },
  {
   "cell_type": "code",
   "execution_count": 23,
   "metadata": {
    "collapsed": true
   },
   "outputs": [],
   "source": [
    "#data_wtime[data_wtime.Date.isna() == False]"
   ]
  },
  {
   "cell_type": "code",
   "execution_count": 24,
   "metadata": {
    "collapsed": true
   },
   "outputs": [],
   "source": [
    "data_wtime.Date.fillna(method='bfill', inplace=True)"
   ]
  },
  {
   "cell_type": "code",
   "execution_count": 25,
   "metadata": {
    "collapsed": true
   },
   "outputs": [],
   "source": [
    "data_wtime.rename(columns={'month':'month_last_contact', \n",
    "                          'day_of_week':'day_of_week_last_contact'},\n",
    "                 inplace=True)\n",
    "\n",
    "data_wtime.rename(columns={'month_y':'month'},\n",
    "                 inplace=True)"
   ]
  },
  {
   "cell_type": "code",
   "execution_count": 26,
   "metadata": {
    "collapsed": true
   },
   "outputs": [],
   "source": [
    "#adding values for day, month and year to the complete dataset:\n",
    "data_wtime['day'] = [i.day for i in data_wtime.Date]\n",
    "data_wtime['month'] = [i.month for i in data_wtime.Date]\n",
    "data_wtime['year'] = [i.year for i in data_wtime.Date]"
   ]
  },
  {
   "cell_type": "code",
   "execution_count": 27,
   "metadata": {
    "collapsed": true
   },
   "outputs": [],
   "source": [
    "#data_wtime.shape"
   ]
  },
  {
   "cell_type": "code",
   "execution_count": 28,
   "metadata": {
    "collapsed": true
   },
   "outputs": [],
   "source": [
    "#renaming df:\n",
    "final_df = data_wtime.copy()"
   ]
  },
  {
   "cell_type": "markdown",
   "metadata": {},
   "source": [
    "Calendar Features"
   ]
  },
  {
   "cell_type": "code",
   "execution_count": 29,
   "metadata": {
    "collapsed": true
   },
   "outputs": [],
   "source": [
    "#Creating day of the week feature\n",
    "final_df['weekday'] = final_df.Date.dt.weekday"
   ]
  },
  {
   "cell_type": "code",
   "execution_count": 30,
   "metadata": {
    "collapsed": true
   },
   "outputs": [],
   "source": [
    "#Creating total number of days in month\n",
    "lst = []\n",
    "for i,k in zip(final_df['year'], final_df['month']):\n",
    "    lst.append(calendar.monthrange(i, k)[1])\n",
    "final_df['month_total_days'] = lst"
   ]
  },
  {
   "cell_type": "code",
   "execution_count": 31,
   "metadata": {
    "collapsed": true
   },
   "outputs": [],
   "source": [
    "#Creating is holiday flag\n",
    "final_df['is_holiday'] = [1 if i in holidays.Portugal() else 0 for i in final_df['Date']]"
   ]
  },
  {
   "cell_type": "code",
   "execution_count": 32,
   "metadata": {
    "collapsed": true
   },
   "outputs": [],
   "source": [
    "#Also adding holiday names\n",
    "hol_names = []\n",
    "for i in final_df['Date']:\n",
    "    if i in holidays.Portugal():\n",
    "        hol_names.append(holidays.Portugal().get(i))\n",
    "    else:\n",
    "        hol_names.append(\"No Holiday\")\n",
    "final_df['holiday_name'] = hol_names"
   ]
  },
  {
   "cell_type": "code",
   "execution_count": 33,
   "metadata": {
    "collapsed": true
   },
   "outputs": [],
   "source": [
    "#According to research, most government employees are paid ont he 20th \n",
    "#while private industry employees are paid on the 30th\n",
    "final_df['biz_payday'] = [1 if i == 20 else 0 for i in final_df['day']]\n",
    "final_df['govt_payday'] = [1 if i == 30 else 1 if i == 29 else 1 if i == 28 else 0 for i in final_df['day']]"
   ]
  },
  {
   "cell_type": "code",
   "execution_count": 34,
   "metadata": {},
   "outputs": [
    {
     "data": {
      "text/plain": [
       "(41188, 31)"
      ]
     },
     "execution_count": 34,
     "metadata": {},
     "output_type": "execute_result"
    }
   ],
   "source": [
    "final_df.shape"
   ]
  },
  {
   "cell_type": "markdown",
   "metadata": {},
   "source": [
    "Will not encode categorical features here - will do as part of modeling with Pipeline and ColumnTransformer"
   ]
  },
  {
   "cell_type": "code",
   "execution_count": 35,
   "metadata": {},
   "outputs": [
    {
     "data": {
      "text/plain": [
       "Date                        datetime64[ns]\n",
       "year                                 int64\n",
       "month                                int64\n",
       "day                                  int64\n",
       "age                                  int64\n",
       "job                                 object\n",
       "marital                             object\n",
       "education                           object\n",
       "default                             object\n",
       "housing                             object\n",
       "loan                                object\n",
       "contact                             object\n",
       "month_last_contact                  object\n",
       "day_of_week_last_contact            object\n",
       "duration                             int64\n",
       "campaign                             int64\n",
       "pdays                                int64\n",
       "previous                             int64\n",
       "poutcome                            object\n",
       "emp.var.rate                       float64\n",
       "cons.price.idx                     float64\n",
       "cons.conf.idx                      float64\n",
       "euribor3m                          float64\n",
       "nr.employed                        float64\n",
       "y                                   object\n",
       "weekday                              int64\n",
       "month_total_days                     int64\n",
       "is_holiday                           int64\n",
       "holiday_name                        object\n",
       "biz_payday                           int64\n",
       "govt_payday                          int64\n",
       "dtype: object"
      ]
     },
     "execution_count": 35,
     "metadata": {},
     "output_type": "execute_result"
    }
   ],
   "source": [
    "final_df.dtypes"
   ]
  },
  {
   "cell_type": "code",
   "execution_count": 36,
   "metadata": {
    "collapsed": true
   },
   "outputs": [],
   "source": [
    "#cat_cols = final_df.select_dtypes(include='object').columns"
   ]
  },
  {
   "cell_type": "code",
   "execution_count": 37,
   "metadata": {
    "collapsed": true
   },
   "outputs": [],
   "source": [
    "#for col in cat_cols:\n",
    "#    final_df[col] = final_df[col].astype('category').cat.codes"
   ]
  },
  {
   "cell_type": "code",
   "execution_count": null,
   "metadata": {
    "collapsed": true
   },
   "outputs": [],
   "source": []
  },
  {
   "cell_type": "code",
   "execution_count": 38,
   "metadata": {
    "collapsed": true
   },
   "outputs": [],
   "source": [
    "#df[cat_cols] = df[cat_cols].apply(lambda x: x.astype('category').cat.codes,axis=1)"
   ]
  },
  {
   "cell_type": "code",
   "execution_count": 39,
   "metadata": {},
   "outputs": [
    {
     "data": {
      "text/plain": [
       "Date                        datetime64[ns]\n",
       "year                                 int64\n",
       "month                                int64\n",
       "day                                  int64\n",
       "age                                  int64\n",
       "job                                 object\n",
       "marital                             object\n",
       "education                           object\n",
       "default                             object\n",
       "housing                             object\n",
       "loan                                object\n",
       "contact                             object\n",
       "month_last_contact                  object\n",
       "day_of_week_last_contact            object\n",
       "duration                             int64\n",
       "campaign                             int64\n",
       "pdays                                int64\n",
       "previous                             int64\n",
       "poutcome                            object\n",
       "emp.var.rate                       float64\n",
       "cons.price.idx                     float64\n",
       "cons.conf.idx                      float64\n",
       "euribor3m                          float64\n",
       "nr.employed                        float64\n",
       "y                                   object\n",
       "weekday                              int64\n",
       "month_total_days                     int64\n",
       "is_holiday                           int64\n",
       "holiday_name                        object\n",
       "biz_payday                           int64\n",
       "govt_payday                          int64\n",
       "dtype: object"
      ]
     },
     "execution_count": 39,
     "metadata": {},
     "output_type": "execute_result"
    }
   ],
   "source": [
    "final_df.dtypes"
   ]
  },
  {
   "cell_type": "code",
   "execution_count": 40,
   "metadata": {
    "collapsed": true
   },
   "outputs": [],
   "source": [
    "final_df.set_index('Date',inplace=True)"
   ]
  },
  {
   "cell_type": "code",
   "execution_count": 41,
   "metadata": {
    "collapsed": true
   },
   "outputs": [],
   "source": [
    "final_df.to_pickle('data/data_ready.pickle')"
   ]
  }
 ],
 "metadata": {
  "kernelspec": {
   "display_name": "Python 3",
   "language": "python",
   "name": "python3"
  },
  "language_info": {
   "codemirror_mode": {
    "name": "ipython",
    "version": 3
   },
   "file_extension": ".py",
   "mimetype": "text/x-python",
   "name": "python",
   "nbconvert_exporter": "python",
   "pygments_lexer": "ipython3",
   "version": "3.6.7"
  }
 },
 "nbformat": 4,
 "nbformat_minor": 2
}
