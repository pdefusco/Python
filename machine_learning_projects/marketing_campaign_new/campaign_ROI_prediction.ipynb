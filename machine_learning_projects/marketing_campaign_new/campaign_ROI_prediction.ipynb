{
 "cells": [
  {
   "cell_type": "markdown",
   "metadata": {},
   "source": [
    "# Campaign ROI Calculation"
   ]
  },
  {
   "cell_type": "markdown",
   "metadata": {},
   "source": [
    "- Objective: calculate campaign ROI\n",
    "- Input 1: targeting model found in \"campaign_targeting_model_BATCH\" notebook\n",
    "- Input 2: interest rate forecast found in \"interest_rate_prediction\" notebook"
   ]
  },
  {
   "cell_type": "code",
   "execution_count": null,
   "metadata": {
    "collapsed": true
   },
   "outputs": [],
   "source": [
    "#import model from campaign_targeting_model_BATCH here"
   ]
  },
  {
   "cell_type": "code",
   "execution_count": null,
   "metadata": {
    "collapsed": true
   },
   "outputs": [],
   "source": [
    "y_pred = pipe.predict(df_eval)\n",
    "\n",
    "def make_conf_matrix(clf, X,y):\n",
    "    y_pred = clf.predict(X)\n",
    "    cmx = pd.DataFrame(confusion_matrix(y, y_pred), \n",
    "                   index = ['No', 'Yes'],\n",
    "                   columns = ['No', 'Yes'])\n",
    "    return cmx\n",
    "\n",
    "def plot_conf_matrix(cmx):\n",
    "    cmap = mpl.colors.ListedColormap(['green'])\n",
    "    cmap1 = mpl.colors.ListedColormap(['red'])\n",
    "    mask1 = (cmx.isin([cmx.iloc[0,0],cmx.iloc[1,1]]))\n",
    "    \n",
    "    f, ax = plt.subplots(figsize = (9,6))\n",
    "    sns.heatmap(cmx, annot=True, fmt = 'g', cmap = cmap,\n",
    "            cbar = False, annot_kws={\"size\": 20},\n",
    "            ax=ax)\n",
    "    sns.heatmap(cmx, mask=mask1 , cmap=cmap1, cbar=False)\n",
    "\n",
    "    ax.set_ylabel('True label', fontsize = 15)\n",
    "    ax.set_xlabel('Predicted label', fontsize = 15)\n",
    "    ax.set_title(\"Confusion Matrix\", fontsize = 20)\n",
    "    plt.show()\n",
    "\n",
    "#Creating Confusion Matrix for Dirty Model:\n",
    "cmx = make_conf_matrix(pipe, df_eval, y)\n",
    "plot_conf_matrix(cmx)\n",
    "\n",
    "print(\"Campaign Targets:\", cmx.iloc[1,1]+cmx.iloc[0,1])\n",
    "\n",
    "accept_est = cmx.iloc[1,1]\n",
    "reject_est = cmx.iloc[0,1]\n",
    "total_targeted = accept_est+reject_est\n",
    "\n",
    "#enhancement: create rolling window logistic regression predicting next month's subscriptions\n",
    "\n",
    "Xex = df_eval[['year','month','age','job','marital']]\n",
    "\n",
    "Xex.head()\n",
    "\n",
    "Xex.reset_index(drop=0, inplace=True)\n",
    "\n",
    "y = y.reset_index(drop=1)\n",
    "\n",
    "clf = LogisticRegression(solver='sag')\n",
    "\n",
    "Xex.drop(columns='Date',inplace=True)\n",
    "\n",
    "clf.fit(Xex,y)\n",
    "\n",
    "clf.predict(np.array([1,2,3,1,1]).reshape(1,-1))\n",
    "\n",
    "#for each value in decision threshold range, \n",
    "    #create logistic regression\n",
    "    #calculate profit for campaign with average CLV for next x months\n",
    "#select the logistic regression yielding the highest ROI"
   ]
  },
  {
   "cell_type": "code",
   "execution_count": null,
   "metadata": {
    "collapsed": true
   },
   "outputs": [],
   "source": [
    "%store -r 'pred_clv'"
   ]
  },
  {
   "cell_type": "code",
   "execution_count": null,
   "metadata": {
    "collapsed": true
   },
   "outputs": [],
   "source": [
    "customers_monthly = df[['year','month','day']].groupby(by=['year','month']).count()\n",
    "customers_monthly = customers_monthly.reset_index()\n",
    "customers_monthly.rename(columns = {'day':'count'},inplace=True)\n",
    "customers_monthly.head()"
   ]
  },
  {
   "cell_type": "code",
   "execution_count": null,
   "metadata": {
    "collapsed": true
   },
   "outputs": [],
   "source": [
    "customers_monthly['perc_of_total'] = customers_monthly['count']/customers_monthly['count'].sum()"
   ]
  },
  {
   "cell_type": "code",
   "execution_count": null,
   "metadata": {
    "collapsed": true
   },
   "outputs": [],
   "source": [
    "def calc_revenue(accept_est, pred_clv):\n",
    "    return accept_est*pred_clv     "
   ]
  },
  {
   "cell_type": "code",
   "execution_count": null,
   "metadata": {
    "collapsed": true
   },
   "outputs": [],
   "source": [
    "#calculate revenue on a monthly basis comparing with predicted customer clv\n",
    "#compare y with y pred and do a monthly classification matrix"
   ]
  },
  {
   "cell_type": "code",
   "execution_count": null,
   "metadata": {
    "collapsed": true
   },
   "outputs": [],
   "source": [
    "revenue_est = calc_revenue(customers_monthly['count'], pred_clv)"
   ]
  },
  {
   "cell_type": "code",
   "execution_count": null,
   "metadata": {
    "collapsed": true
   },
   "outputs": [],
   "source": [
    "revenue_est"
   ]
  },
  {
   "cell_type": "code",
   "execution_count": null,
   "metadata": {
    "collapsed": true
   },
   "outputs": [],
   "source": [
    "def calc_"
   ]
  },
  {
   "cell_type": "code",
   "execution_count": null,
   "metadata": {
    "collapsed": true
   },
   "outputs": [],
   "source": []
  }
 ],
 "metadata": {
  "kernelspec": {
   "display_name": "Python 3",
   "language": "python",
   "name": "python3"
  },
  "language_info": {
   "codemirror_mode": {
    "name": "ipython",
    "version": 3
   },
   "file_extension": ".py",
   "mimetype": "text/x-python",
   "name": "python",
   "nbconvert_exporter": "python",
   "pygments_lexer": "ipython3",
   "version": "3.6.7"
  }
 },
 "nbformat": 4,
 "nbformat_minor": 2
}
