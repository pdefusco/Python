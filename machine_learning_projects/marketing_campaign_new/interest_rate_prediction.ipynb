{
 "cells": [
  {
   "cell_type": "markdown",
   "metadata": {},
   "source": [
    "### Interest Rate Predictions"
   ]
  },
  {
   "cell_type": "markdown",
   "metadata": {},
   "source": [
    "Predict Interest Rates in Portugal using Historical Data:\n",
    "    - Average Bank Deposit Rate\n",
    "    - Average Bank Loan Rate\n",
    "    - Average Mortgage Rate\n",
    "    - Other?"
   ]
  },
  {
   "cell_type": "code",
   "execution_count": 94,
   "metadata": {
    "collapsed": true
   },
   "outputs": [],
   "source": [
    "%matplotlib inline\n",
    "\n",
    "import os\n",
    "import pandas as pd\n",
    "import numpy as np\n",
    "import matplotlib as mpl\n",
    "import matplotlib.pyplot as plt"
   ]
  },
  {
   "cell_type": "code",
   "execution_count": 95,
   "metadata": {},
   "outputs": [
    {
     "data": {
      "text/plain": [
       "['daily_euribor3m.csv',\n",
       " '08-01-19 01_58_10_theglobaleconomy.csv',\n",
       " 'data_ready.pickle',\n",
       " '08-01-19 01_55_17_theglobaleconomy.csv',\n",
       " 'bank-additional-full.csv']"
      ]
     },
     "execution_count": 95,
     "metadata": {},
     "output_type": "execute_result"
    }
   ],
   "source": [
    "os.listdir('data')"
   ]
  },
  {
   "cell_type": "code",
   "execution_count": 96,
   "metadata": {},
   "outputs": [],
   "source": [
    "df1 = pd.read_csv('data/08-01-19 01_58_10_theglobaleconomy.csv')"
   ]
  },
  {
   "cell_type": "code",
   "execution_count": 97,
   "metadata": {},
   "outputs": [],
   "source": [
    "df2 = pd.read_csv('data/08-01-19 01_55_17_theglobaleconomy.csv')"
   ]
  },
  {
   "cell_type": "code",
   "execution_count": 98,
   "metadata": {},
   "outputs": [],
   "source": [
    "df = df1.merge(df2, on = ['Year', 'Month'], how='inner')"
   ]
  },
  {
   "cell_type": "code",
   "execution_count": 99,
   "metadata": {},
   "outputs": [
    {
     "name": "stdout",
     "output_type": "stream",
     "text": [
      "(36, 42)\n",
      "(36, 20)\n",
      "(36, 24)\n"
     ]
    }
   ],
   "source": [
    "print(df.shape)\n",
    "print(df1.shape)\n",
    "print(df2.shape)"
   ]
  },
  {
   "cell_type": "code",
   "execution_count": 100,
   "metadata": {},
   "outputs": [],
   "source": [
    "#backfilling values for quarterly indicators\n",
    "df = df.replace(r'^\\s*$', np.nan, regex=True)\n",
    "df = df.fillna(method='bfill')"
   ]
  },
  {
   "cell_type": "code",
   "execution_count": 101,
   "metadata": {},
   "outputs": [],
   "source": [
    "#Cleaning up column names\n",
    "df.drop(columns=['Country_x', 'Code_x'], inplace=True)\n",
    "df.rename(columns={'Country_y':'Country', 'Code_y':'Code'}, inplace=True)"
   ]
  },
  {
   "cell_type": "code",
   "execution_count": 102,
   "metadata": {},
   "outputs": [
    {
     "data": {
      "text/html": [
       "<div>\n",
       "<style scoped>\n",
       "    .dataframe tbody tr th:only-of-type {\n",
       "        vertical-align: middle;\n",
       "    }\n",
       "\n",
       "    .dataframe tbody tr th {\n",
       "        vertical-align: top;\n",
       "    }\n",
       "\n",
       "    .dataframe thead th {\n",
       "        text-align: right;\n",
       "    }\n",
       "</style>\n",
       "<table border=\"1\" class=\"dataframe\">\n",
       "  <thead>\n",
       "    <tr style=\"text-align: right;\">\n",
       "      <th></th>\n",
       "      <th>Year</th>\n",
       "      <th>Month</th>\n",
       "      <th>Consumer credit</th>\n",
       "      <th>Deposit interest rate</th>\n",
       "      <th>Mortgage credit interest rate</th>\n",
       "      <th>Business credit interest rate</th>\n",
       "      <th>Employment</th>\n",
       "      <th>Unemployment rate</th>\n",
       "      <th>Current account balance</th>\n",
       "      <th>Exports</th>\n",
       "      <th>...</th>\n",
       "      <th>Consumption growth</th>\n",
       "      <th>Investment as percent of GDP</th>\n",
       "      <th>Investment growth</th>\n",
       "      <th>Consumption as percent of GDP</th>\n",
       "      <th>Inflation monthly</th>\n",
       "      <th>Inflation annual</th>\n",
       "      <th>Retail sales</th>\n",
       "      <th>Business confidence survey</th>\n",
       "      <th>Consumer confidence survey</th>\n",
       "      <th>Economic growth Q-on-Q</th>\n",
       "    </tr>\n",
       "  </thead>\n",
       "  <tbody>\n",
       "    <tr>\n",
       "      <th>0</th>\n",
       "      <td>2008</td>\n",
       "      <td>1</td>\n",
       "      <td>26.75</td>\n",
       "      <td>4.00</td>\n",
       "      <td>5.27</td>\n",
       "      <td>6.68</td>\n",
       "      <td>4.94</td>\n",
       "      <td>8.8</td>\n",
       "      <td>-1599.18</td>\n",
       "      <td>4650.82</td>\n",
       "      <td>...</td>\n",
       "      <td>6.77</td>\n",
       "      <td>23.19</td>\n",
       "      <td>6.76</td>\n",
       "      <td>64.25</td>\n",
       "      <td>-0.13</td>\n",
       "      <td>2.83</td>\n",
       "      <td>117.0</td>\n",
       "      <td>3.79</td>\n",
       "      <td>-34.9</td>\n",
       "      <td>0.03</td>\n",
       "    </tr>\n",
       "    <tr>\n",
       "      <th>1</th>\n",
       "      <td>2008</td>\n",
       "      <td>2</td>\n",
       "      <td>26.87</td>\n",
       "      <td>3.95</td>\n",
       "      <td>5.12</td>\n",
       "      <td>6.26</td>\n",
       "      <td>4.94</td>\n",
       "      <td>8.8</td>\n",
       "      <td>-1935.02</td>\n",
       "      <td>4626.80</td>\n",
       "      <td>...</td>\n",
       "      <td>6.77</td>\n",
       "      <td>23.19</td>\n",
       "      <td>6.76</td>\n",
       "      <td>64.25</td>\n",
       "      <td>0.01</td>\n",
       "      <td>2.86</td>\n",
       "      <td>119.9</td>\n",
       "      <td>2.84</td>\n",
       "      <td>-32.9</td>\n",
       "      <td>0.03</td>\n",
       "    </tr>\n",
       "    <tr>\n",
       "      <th>2</th>\n",
       "      <td>2008</td>\n",
       "      <td>3</td>\n",
       "      <td>27.10</td>\n",
       "      <td>4.00</td>\n",
       "      <td>5.05</td>\n",
       "      <td>6.41</td>\n",
       "      <td>4.95</td>\n",
       "      <td>8.8</td>\n",
       "      <td>-1718.69</td>\n",
       "      <td>4688.77</td>\n",
       "      <td>...</td>\n",
       "      <td>6.77</td>\n",
       "      <td>23.19</td>\n",
       "      <td>6.76</td>\n",
       "      <td>64.25</td>\n",
       "      <td>1.48</td>\n",
       "      <td>3.10</td>\n",
       "      <td>116.8</td>\n",
       "      <td>3.86</td>\n",
       "      <td>-32.5</td>\n",
       "      <td>0.03</td>\n",
       "    </tr>\n",
       "    <tr>\n",
       "      <th>3</th>\n",
       "      <td>2008</td>\n",
       "      <td>4</td>\n",
       "      <td>27.27</td>\n",
       "      <td>4.13</td>\n",
       "      <td>5.27</td>\n",
       "      <td>6.68</td>\n",
       "      <td>4.97</td>\n",
       "      <td>8.5</td>\n",
       "      <td>-2027.50</td>\n",
       "      <td>4867.78</td>\n",
       "      <td>...</td>\n",
       "      <td>5.12</td>\n",
       "      <td>23.32</td>\n",
       "      <td>9.55</td>\n",
       "      <td>64.6</td>\n",
       "      <td>0.31</td>\n",
       "      <td>2.48</td>\n",
       "      <td>116.7</td>\n",
       "      <td>2.32</td>\n",
       "      <td>-31.5</td>\n",
       "      <td>-0.51</td>\n",
       "    </tr>\n",
       "    <tr>\n",
       "      <th>4</th>\n",
       "      <td>2008</td>\n",
       "      <td>5</td>\n",
       "      <td>27.35</td>\n",
       "      <td>4.19</td>\n",
       "      <td>5.45</td>\n",
       "      <td>6.80</td>\n",
       "      <td>4.98</td>\n",
       "      <td>8.4</td>\n",
       "      <td>-2102.80</td>\n",
       "      <td>4906.96</td>\n",
       "      <td>...</td>\n",
       "      <td>5.12</td>\n",
       "      <td>23.32</td>\n",
       "      <td>9.55</td>\n",
       "      <td>64.6</td>\n",
       "      <td>0.44</td>\n",
       "      <td>2.78</td>\n",
       "      <td>116.9</td>\n",
       "      <td>0.11</td>\n",
       "      <td>-28.5</td>\n",
       "      <td>-0.51</td>\n",
       "    </tr>\n",
       "  </tbody>\n",
       "</table>\n",
       "<p>5 rows × 40 columns</p>\n",
       "</div>"
      ],
      "text/plain": [
       "   Year  Month   Consumer credit   Deposit interest rate  \\\n",
       "0  2008      1             26.75                    4.00   \n",
       "1  2008      2             26.87                    3.95   \n",
       "2  2008      3             27.10                    4.00   \n",
       "3  2008      4             27.27                    4.13   \n",
       "4  2008      5             27.35                    4.19   \n",
       "\n",
       "    Mortgage credit interest rate   Business credit interest rate  \\\n",
       "0                            5.27                            6.68   \n",
       "1                            5.12                            6.26   \n",
       "2                            5.05                            6.41   \n",
       "3                            5.27                            6.68   \n",
       "4                            5.45                            6.80   \n",
       "\n",
       "    Employment   Unemployment rate    Current account balance   Exports  \\\n",
       "0         4.94                  8.8                  -1599.18   4650.82   \n",
       "1         4.94                  8.8                  -1935.02   4626.80   \n",
       "2         4.95                  8.8                  -1718.69   4688.77   \n",
       "3         4.97                  8.5                  -2027.50   4867.78   \n",
       "4         4.98                  8.4                  -2102.80   4906.96   \n",
       "\n",
       "            ...             Consumption growth   Investment as percent of GDP  \\\n",
       "0           ...                           6.77                          23.19   \n",
       "1           ...                           6.77                          23.19   \n",
       "2           ...                           6.77                          23.19   \n",
       "3           ...                           5.12                          23.32   \n",
       "4           ...                           5.12                          23.32   \n",
       "\n",
       "   Investment growth  Consumption as percent of GDP  Inflation monthly  \\\n",
       "0               6.76                          64.25              -0.13   \n",
       "1               6.76                          64.25               0.01   \n",
       "2               6.76                          64.25               1.48   \n",
       "3               9.55                           64.6               0.31   \n",
       "4               9.55                           64.6               0.44   \n",
       "\n",
       "    Inflation annual   Retail sales  Business confidence survey  \\\n",
       "0               2.83          117.0                        3.79   \n",
       "1               2.86          119.9                        2.84   \n",
       "2               3.10          116.8                        3.86   \n",
       "3               2.48          116.7                        2.32   \n",
       "4               2.78          116.9                        0.11   \n",
       "\n",
       "   Consumer confidence survey  Economic growth Q-on-Q  \n",
       "0                       -34.9                    0.03  \n",
       "1                       -32.9                    0.03  \n",
       "2                       -32.5                    0.03  \n",
       "3                       -31.5                   -0.51  \n",
       "4                       -28.5                   -0.51  \n",
       "\n",
       "[5 rows x 40 columns]"
      ]
     },
     "execution_count": 102,
     "metadata": {},
     "output_type": "execute_result"
    }
   ],
   "source": [
    "df.head()"
   ]
  },
  {
   "cell_type": "code",
   "execution_count": 103,
   "metadata": {},
   "outputs": [
    {
     "data": {
      "text/plain": [
       "Index(['Year', 'Month', ' Consumer credit', ' Deposit interest rate',\n",
       "       ' Mortgage credit interest rate', ' Business credit interest rate',\n",
       "       ' Employment', ' Unemployment rate ', ' Current account balance',\n",
       "       ' Exports', ' FDI', ' Foreign exchange reserves',\n",
       "       ' Government expenditure', ' Budget balance', ' Labor cost',\n",
       "       ' Exchange rate to USD', ' Minimum wage', ' Government debt ',\n",
       "       'Country', 'Code', ' Private sector credit', ' Business credit',\n",
       "       ' Household credit', ' Mortgage credit',\n",
       "       ' Gross Domestic Product (GDP)', ' Consumer Price Index (CPI)',\n",
       "       ' Money supply (broad money)', ' Household consumption', ' Investment',\n",
       "       ' Economic growth ', ' Consumption growth',\n",
       "       ' Investment as percent of GDP', ' Investment growth',\n",
       "       ' Consumption as percent of GDP', ' Inflation monthly',\n",
       "       ' Inflation annual', ' Retail sales', ' Business confidence survey',\n",
       "       ' Consumer confidence survey', ' Economic growth Q-on-Q'],\n",
       "      dtype='object')"
      ]
     },
     "execution_count": 103,
     "metadata": {},
     "output_type": "execute_result"
    }
   ],
   "source": [
    "df.columns"
   ]
  },
  {
   "cell_type": "code",
   "execution_count": 104,
   "metadata": {},
   "outputs": [],
   "source": [
    "cons_credit_y = df[' Consumer credit'].shift(1)\n",
    "cons_credit_x = df[' Consumer credit']"
   ]
  },
  {
   "cell_type": "code",
   "execution_count": 105,
   "metadata": {
    "collapsed": true
   },
   "outputs": [],
   "source": [
    "from pandas.plotting import lag_plot\n",
    "from pandas.plotting import autocorrelation_plot"
   ]
  },
  {
   "cell_type": "code",
   "execution_count": 106,
   "metadata": {},
   "outputs": [
    {
     "data": {
      "image/png": "[encoded data removed]",
      "text/plain": [
       "<Figure size 432x288 with 1 Axes>"
      ]
     },
     "metadata": {
      "needs_background": "light"
     },
     "output_type": "display_data"
    }
   ],
   "source": [
    "lag_plot(df[' Consumer credit'])\n",
    "plt.show()"
   ]
  },
  {
   "cell_type": "code",
   "execution_count": 107,
   "metadata": {},
   "outputs": [
    {
     "data": {
      "image/png": "[encoded data removed]",
      "text/plain": [
       "<Figure size 432x288 with 1 Axes>"
      ]
     },
     "metadata": {
      "needs_background": "light"
     },
     "output_type": "display_data"
    }
   ],
   "source": [
    "autocorrelation_plot(df[' Consumer credit'])\n",
    "plt.show()"
   ]
  },
  {
   "cell_type": "code",
   "execution_count": 122,
   "metadata": {
    "collapsed": true
   },
   "outputs": [],
   "source": [
    "from statsmodels.tsa.ar_model import AR\n",
    "from statsmodels.tsa.arima_model import ARIMA\n",
    "from sklearn.metrics import mean_squared_error\n",
    "from math import sqrt"
   ]
  },
  {
   "cell_type": "code",
   "execution_count": 109,
   "metadata": {},
   "outputs": [
    {
     "data": {
      "text/plain": [
       "(36,)"
      ]
     },
     "execution_count": 109,
     "metadata": {},
     "output_type": "execute_result"
    }
   ],
   "source": [
    "cons_credit_x.shape"
   ]
  },
  {
   "cell_type": "code",
   "execution_count": 110,
   "metadata": {
    "collapsed": true
   },
   "outputs": [],
   "source": [
    "train, test = cons_credit_x[1:len(cons_credit_x)-8], cons_credit_x[len(cons_credit_x)-8:]"
   ]
  },
  {
   "cell_type": "code",
   "execution_count": 111,
   "metadata": {
    "collapsed": true
   },
   "outputs": [],
   "source": [
    "train = np.array(train)\n",
    "test = np.array(test)"
   ]
  },
  {
   "cell_type": "code",
   "execution_count": 112,
   "metadata": {},
   "outputs": [
    {
     "name": "stdout",
     "output_type": "stream",
     "text": [
      "Lag: 9\n",
      "Coefficients: [ 8.87627686e+00  3.09356175e-01  2.27076864e-01  3.09589521e-01\n",
      "  4.06541381e-02 -1.36005290e-01 -8.01256788e-03 -2.75523813e-01\n",
      "  6.11322160e-02  1.54529317e-01]\n"
     ]
    }
   ],
   "source": [
    "#Fitting ARMA Model\n",
    "model = AR(train)\n",
    "model_fit = model.fit()\n",
    "print('Lag: %s' % model_fit.k_ar)\n",
    "print('Coefficients: %s' % model_fit.params)"
   ]
  },
  {
   "cell_type": "code",
   "execution_count": 114,
   "metadata": {},
   "outputs": [],
   "source": [
    "# make predictions\n",
    "predictions = model_fit.predict(start=len(train), end=len(train)+len(test)-1, dynamic=False) "
   ]
  },
  {
   "cell_type": "code",
   "execution_count": 115,
   "metadata": {},
   "outputs": [
    {
     "name": "stdout",
     "output_type": "stream",
     "text": [
      "predicted=28.021078, expected=28.120000\n",
      "predicted=28.013378, expected=28.040000\n",
      "predicted=27.972440, expected=27.840000\n",
      "predicted=27.988017, expected=27.800000\n",
      "predicted=27.978978, expected=27.830000\n",
      "predicted=27.951175, expected=27.790000\n",
      "predicted=27.975351, expected=27.760000\n",
      "predicted=27.988307, expected=27.610000\n",
      "Test RMSE: 0.194\n"
     ]
    }
   ],
   "source": [
    "for i in range(len(predictions)):\n",
    "    print('predicted=%f, expected=%f' % (predictions[i], test[i])) \n",
    "rmse = sqrt(mean_squared_error(test, predictions))\n",
    "print('Test RMSE: %.3f' % rmse)"
   ]
  },
  {
   "cell_type": "code",
   "execution_count": null,
   "metadata": {
    "collapsed": true
   },
   "outputs": [],
   "source": [
    "plt.plot(test)\n",
    "plt.plot(predictions, color='red') \n",
    "plt.show()"
   ]
  },
  {
   "cell_type": "code",
   "execution_count": 117,
   "metadata": {
    "collapsed": true
   },
   "outputs": [],
   "source": [
    "#Fitting rolling forecast ARIMA model"
   ]
  },
  {
   "cell_type": "code",
   "execution_count": 118,
   "metadata": {
    "collapsed": true
   },
   "outputs": [],
   "source": [
    "size = int(len(cons_credit_x) * 0.66)\n",
    "train, test = cons_credit_x[0:size], cons_credit_x[size:len(cons_credit_x)]\n",
    "history = [x for x in train]\n",
    "predictions = list()"
   ]
  },
  {
   "cell_type": "code",
   "execution_count": 120,
   "metadata": {},
   "outputs": [],
   "source": [
    "train = np.array(train)\n",
    "test = np.array(test)"
   ]
  },
  {
   "cell_type": "code",
   "execution_count": 123,
   "metadata": {},
   "outputs": [
    {
     "name": "stderr",
     "output_type": "stream",
     "text": [
      "/Users/pauldefusco/anaconda2/envs/py36/lib/python3.6/site-packages/scipy/signal/signaltools.py:1341: FutureWarning: Using a non-tuple sequence for multidimensional indexing is deprecated; use `arr[tuple(seq)]` instead of `arr[seq]`. In the future this will be interpreted as an array index, `arr[np.array(seq)]`, which will result either in an error or a different result.\n",
      "  out_full[ind] += zi\n",
      "/Users/pauldefusco/anaconda2/envs/py36/lib/python3.6/site-packages/scipy/signal/signaltools.py:1344: FutureWarning: Using a non-tuple sequence for multidimensional indexing is deprecated; use `arr[tuple(seq)]` instead of `arr[seq]`. In the future this will be interpreted as an array index, `arr[np.array(seq)]`, which will result either in an error or a different result.\n",
      "  out = out_full[ind]\n",
      "/Users/pauldefusco/anaconda2/envs/py36/lib/python3.6/site-packages/scipy/signal/signaltools.py:1350: FutureWarning: Using a non-tuple sequence for multidimensional indexing is deprecated; use `arr[tuple(seq)]` instead of `arr[seq]`. In the future this will be interpreted as an array index, `arr[np.array(seq)]`, which will result either in an error or a different result.\n",
      "  zf = out_full[ind]\n"
     ]
    },
    {
     "name": "stdout",
     "output_type": "stream",
     "text": [
      "predicted=28.117589, expected=28.130000\n",
      "predicted=28.205125, expected=28.030000\n",
      "predicted=28.161526, expected=28.090000\n",
      "predicted=28.152911, expected=28.120000\n",
      "predicted=28.133855, expected=28.050000\n",
      "predicted=28.119639, expected=28.120000\n",
      "predicted=28.159273, expected=28.040000\n",
      "predicted=28.082111, expected=27.840000\n",
      "predicted=27.923641, expected=27.800000\n",
      "predicted=27.771755, expected=27.830000\n",
      "predicted=27.737242, expected=27.790000\n",
      "predicted=27.782299, expected=27.760000\n",
      "predicted=27.793387, expected=27.610000\n"
     ]
    }
   ],
   "source": [
    "for t in range(len(test)):\n",
    "    model = ARIMA(history, order=(5,1,0))\n",
    "    model_fit = model.fit(disp=0)\n",
    "    output = model_fit.forecast()\n",
    "    yhat = output[0]\n",
    "    predictions.append(yhat)\n",
    "    obs = test[t]\n",
    "    history.append(obs)\n",
    "    print('predicted=%f, expected=%f' % (yhat, obs))"
   ]
  },
  {
   "cell_type": "code",
   "execution_count": 125,
   "metadata": {},
   "outputs": [
    {
     "name": "stdout",
     "output_type": "stream",
     "text": [
      "Test RMSE: 0.115\n"
     ]
    }
   ],
   "source": [
    "# evaluate forecasts\n",
    "rmse = sqrt(mean_squared_error(test, predictions)) \n",
    "print('Test RMSE: %.3f' % rmse)"
   ]
  },
  {
   "cell_type": "code",
   "execution_count": 128,
   "metadata": {},
   "outputs": [
    {
     "data": {
      "image/png": "[encoded data removed]",
      "text/plain": [
       "<Figure size 432x288 with 1 Axes>"
      ]
     },
     "metadata": {
      "needs_background": "light"
     },
     "output_type": "display_data"
    }
   ],
   "source": [
    "plt.plot(test)\n",
    "plt.plot(predictions, color='red') \n",
    "plt.show()"
   ]
  },
  {
   "cell_type": "code",
   "execution_count": null,
   "metadata": {
    "collapsed": true
   },
   "outputs": [],
   "source": []
  },
  {
   "cell_type": "code",
   "execution_count": null,
   "metadata": {
    "collapsed": true
   },
   "outputs": [],
   "source": [
    "#enhancement: upsample to daily rate to obtain higher profitability"
   ]
  }
 ],
 "metadata": {
  "kernelspec": {
   "display_name": "Python 3",
   "language": "python",
   "name": "python3"
  },
  "language_info": {
   "codemirror_mode": {
    "name": "ipython",
    "version": 3
   },
   "file_extension": ".py",
   "mimetype": "text/x-python",
   "name": "python",
   "nbconvert_exporter": "python",
   "pygments_lexer": "ipython3",
   "version": "3.6.3"
  }
 },
 "nbformat": 4,
 "nbformat_minor": 2
}
