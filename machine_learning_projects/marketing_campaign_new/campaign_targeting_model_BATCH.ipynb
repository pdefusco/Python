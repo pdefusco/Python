{
 "cells": [
  {
   "cell_type": "markdown",
   "metadata": {
    "collapsed": true
   },
   "source": [
    "### Campaign ROI Model"
   ]
  },
  {
   "cell_type": "markdown",
   "metadata": {},
   "source": [
    "- Notebook Assumption 1: phone calls to leads are independent with respect to one another and we do not treat this as a time series problem\n",
    "- Notebook Assumption 2: **the data scientist is working with the entire dataset of campaign phone calls, ranging from May 2008 to November 2010, and is performing the work after the campaign has ended e.g. December 2010**"
   ]
  },
  {
   "cell_type": "markdown",
   "metadata": {},
   "source": [
    "- Task: create binary classification model to identify whether if a customer will subscribe to a term deposit offer- - - The model will be used by the campaign_ROI_prediction notebook"
   ]
  },
  {
   "cell_type": "markdown",
   "metadata": {},
   "source": [
    "- A higher avg customer clv will allow for a proportionally lower decision threshold, and viceversa\n",
    "- Duration cannot be used"
   ]
  },
  {
   "cell_type": "code",
   "execution_count": 40,
   "metadata": {
    "collapsed": true
   },
   "outputs": [],
   "source": [
    "%matplotlib inline\n",
    "import matplotlib as mpl\n",
    "import matplotlib.pyplot as plt\n",
    "import seaborn as sns\n",
    "import os\n",
    "from datetime import datetime, timedelta"
   ]
  },
  {
   "cell_type": "code",
   "execution_count": 41,
   "metadata": {},
   "outputs": [
    {
     "data": {
      "text/plain": [
       "'0.20.3'"
      ]
     },
     "execution_count": 41,
     "metadata": {},
     "output_type": "execute_result"
    }
   ],
   "source": [
    "import sklearn \n",
    "sklearn.__version__"
   ]
  },
  {
   "cell_type": "code",
   "execution_count": 42,
   "metadata": {
    "collapsed": true
   },
   "outputs": [],
   "source": [
    "import warnings\n",
    "warnings.filterwarnings(\"ignore\", category=DeprecationWarning)\n",
    "warnings.filterwarnings('ignore', 'lbfgs failed to converge*')\n",
    "warnings.filterwarnings('ignore', 'Data with input dtype int64*')\n",
    "warnings.filterwarnings('ignore', 'The default value*')"
   ]
  },
  {
   "cell_type": "code",
   "execution_count": 43,
   "metadata": {
    "collapsed": true
   },
   "outputs": [],
   "source": [
    "from sklearn.linear_model import LogisticRegression\n",
    "from sklearn.linear_model import RidgeClassifier\n",
    "from sklearn.linear_model import SGDClassifier\n",
    "from sklearn.linear_model import PassiveAggressiveClassifier\n",
    "from sklearn.neighbors import KNeighborsClassifier\n",
    "from sklearn.tree import DecisionTreeClassifier\n",
    "from sklearn.tree import ExtraTreeClassifier\n",
    "from sklearn.svm import SVC\n",
    "from sklearn.naive_bayes import GaussianNB\n",
    "from sklearn.ensemble import AdaBoostClassifier\n",
    "from sklearn.ensemble import BaggingClassifier\n",
    "from sklearn.ensemble import RandomForestClassifier\n",
    "from sklearn.ensemble import ExtraTreesClassifier\n",
    "from sklearn.ensemble import GradientBoostingClassifier\n",
    "from sklearn.linear_model import SGDClassifier\n",
    "from sklearn.feature_selection import RFECV"
   ]
  },
  {
   "cell_type": "code",
   "execution_count": 44,
   "metadata": {
    "collapsed": true
   },
   "outputs": [],
   "source": [
    "import pandas as pd\n",
    "import numpy as np\n",
    "from sklearn.metrics import log_loss, mean_squared_error\n",
    "from sklearn.preprocessing import StandardScaler, OneHotEncoder, OrdinalEncoder, LabelEncoder, Binarizer, LabelBinarizer\n",
    "from sklearn.model_selection import TimeSeriesSplit, GridSearchCV, train_test_split, cross_val_score, StratifiedKFold\n",
    "from sklearn.metrics import accuracy_score, recall_score, precision_score, confusion_matrix"
   ]
  },
  {
   "cell_type": "code",
   "execution_count": 45,
   "metadata": {
    "collapsed": true
   },
   "outputs": [],
   "source": [
    "from sklearn.compose import ColumnTransformer\n",
    "from sklearn.pipeline import Pipeline, FeatureUnion"
   ]
  },
  {
   "cell_type": "code",
   "execution_count": 46,
   "metadata": {
    "collapsed": true
   },
   "outputs": [],
   "source": [
    "df = pd.read_pickle('data/data_ready.pickle')"
   ]
  },
  {
   "cell_type": "code",
   "execution_count": 47,
   "metadata": {
    "collapsed": true
   },
   "outputs": [],
   "source": [
    "df.drop(columns=['duration', 'day'], axis=1, inplace=True)"
   ]
  },
  {
   "cell_type": "code",
   "execution_count": 48,
   "metadata": {
    "collapsed": true
   },
   "outputs": [],
   "source": [
    "#One more check: no nulls so no need to use imputers in pipeline\n",
    "#df.isnull().sum()"
   ]
  },
  {
   "cell_type": "code",
   "execution_count": 49,
   "metadata": {
    "collapsed": true
   },
   "outputs": [],
   "source": [
    "#not just of type numeric, but actual numeric on a scale - excludes binary and ordinal categorical attributes\n",
    "#the below attributes will be scaled in the Pipeline\n",
    "numeric_features = ['age', 'campaign', 'pdays', 'previous', 'emp.var.rate', 'cons.price.idx',\n",
    "                   'cons.conf.idx', 'euribor3m', 'nr.employed', 'month_total_days']"
   ]
  },
  {
   "cell_type": "code",
   "execution_count": 50,
   "metadata": {
    "collapsed": true
   },
   "outputs": [],
   "source": [
    "binary_features = ['biz_payday', 'govt_payday', 'is_holiday']"
   ]
  },
  {
   "cell_type": "code",
   "execution_count": 51,
   "metadata": {
    "collapsed": true
   },
   "outputs": [],
   "source": [
    "#outcome is y,n,unknown\n",
    "categorical_features = ['poutcome', 'job', 'marital', 'education', 'default', 'housing', 'loan', \n",
    "                       'month_last_contact', 'day_of_week_last_contact', 'holiday_name', 'weekday', \n",
    "                       'year', 'month']"
   ]
  },
  {
   "cell_type": "code",
   "execution_count": 52,
   "metadata": {
    "collapsed": true
   },
   "outputs": [],
   "source": [
    "label_binary = ['contact']"
   ]
  },
  {
   "cell_type": "code",
   "execution_count": 53,
   "metadata": {
    "collapsed": true
   },
   "outputs": [],
   "source": [
    "df = pd.get_dummies(df, columns=categorical_features, drop_first=True)"
   ]
  },
  {
   "cell_type": "code",
   "execution_count": 54,
   "metadata": {},
   "outputs": [
    {
     "name": "stdout",
     "output_type": "stream",
     "text": [
      "We are experiencing a strong class imbalance:\n",
      "\n"
     ]
    },
    {
     "data": {
      "image/png": "[encoded data removed]",
      "text/plain": [
       "<Figure size 288x216 with 1 Axes>"
      ]
     },
     "metadata": {
      "needs_background": "light"
     },
     "output_type": "display_data"
    }
   ],
   "source": [
    "print(\"We are experiencing a strong class imbalance:\\n\")\n",
    "fig, ax = plt.subplots(figsize=(4,3))\n",
    "sns.countplot(x=\"y\", data=df)\n",
    "plt.title('Y Class Imbalance')\n",
    "plt.show()"
   ]
  },
  {
   "cell_type": "code",
   "execution_count": 55,
   "metadata": {
    "collapsed": true
   },
   "outputs": [],
   "source": [
    "#df['y'] = [1 if i == 'yes' else 0 for i in df.y]"
   ]
  },
  {
   "cell_type": "code",
   "execution_count": 56,
   "metadata": {
    "collapsed": true
   },
   "outputs": [],
   "source": [
    "#passthrough = ['year', 'month', 'day']"
   ]
  },
  {
   "cell_type": "code",
   "execution_count": 57,
   "metadata": {
    "collapsed": true
   },
   "outputs": [],
   "source": [
    "#Models to be evaluated - can be modified/overridden to include more\n",
    "def models():\n",
    "    models = {}\n",
    "    models['log'] = (LogisticRegression(solver='lbfgs', class_weight='balanced', random_state=1), {'C':[0.01, 0.1, 1]})\n",
    "    models['ridge'] = (RidgeClassifier(class_weight='balanced', random_state=1), {'alpha':[0.01, 0.1, 1]})\n",
    "    #models['svc'] = (SVC(class_weight='balanced'), {'C':[0.1, 1], 'gamma':['auto']})\n",
    "    models['ada'] = (AdaBoostClassifier(random_state=1), {'learning_rate':[0.5, 1]})\n",
    "    models['gbm'] = (GradientBoostingClassifier(random_state=1), {'learning_rate':[0.5, 1]})\n",
    "    #models['gaus_nb'] = (GaussianNB(), {'var_smoothing':[1e-9, 1]})\n",
    "    \n",
    "    models['bagging_class'] = (BaggingClassifier(random_state=1), {'n_estimators':[7,12], 'max_samples':[1,5]})\n",
    "    models['rf_class'] = (RandomForestClassifier(class_weight='balanced', random_state=1), {'max_depth':[100, 1000], 'max_leaf_nodes':[10, 20, 30]})\n",
    "    \n",
    "    return models"
   ]
  },
  {
   "cell_type": "code",
   "execution_count": 58,
   "metadata": {
    "collapsed": true
   },
   "outputs": [],
   "source": [
    "#Split data between training and test sets\n",
    "def split_data(df, target_name, test_size):\n",
    "\n",
    "    X = df.drop(str(target_name), axis=1)\n",
    "    y = df[str(target_name)]\n",
    "\n",
    "    X_train, X_test, y_train, y_test = train_test_split(X, y, test_size=test_size, random_state = 1)\n",
    "\n",
    "    return X_train, X_test, y_train, y_test"
   ]
  },
  {
   "cell_type": "code",
   "execution_count": 59,
   "metadata": {
    "collapsed": true
   },
   "outputs": [],
   "source": [
    "def processing_pipeline(numeric_features, categorical_features, bin_features, lab_bin_features, classifier):\n",
    "\n",
    "    #numeric_features and categorical_features must be lists\n",
    "\n",
    "    numeric_transformer = Pipeline(steps=[\n",
    "        #('imputer', SimpleImputer(strategy='mean')),\n",
    "        ('scaler', StandardScaler())])\n",
    "\n",
    "    #categorical_transformer = Pipeline(steps=[\n",
    "        #('imputer', SimpleImputer(strategy='most_frequent')),\n",
    "        #('onehot', OneHotEncoder(handle_unknown='ignore'))])\n",
    "    \n",
    "    binary_transformer = Pipeline(steps=[\n",
    "        #('imputer', SimpleImputer(strategy='most_frequent')),\n",
    "        ('binary', Binarizer())])\n",
    "    \n",
    "    label_binary_transformer = Pipeline(steps=[\n",
    "        #('imputer', SimpleImputer(strategy='most_frequent')),\n",
    "        ('label_binary', OneHotEncoder(sparse=False))])\n",
    "    \n",
    "    #intact_transformer = Pipeline(steps=[\n",
    "    #    ('intact', )\n",
    "    #])\n",
    "\n",
    "    preprocessor = ColumnTransformer(\n",
    "    transformers=[\n",
    "        ('num', numeric_transformer, numeric_features),\n",
    "        #('cat', categorical_transformer, categorical_features),\n",
    "        ('bin', binary_transformer, bin_features), \n",
    "        ('lab_bin', label_binary_transformer, lab_bin_features) \n",
    "    ], \n",
    "        #setting remainder to passthrough so features that are not included are not dropped\n",
    "        remainder='passthrough')\n",
    "\n",
    "    # Append classifier to preprocessing pipeline.\n",
    "    # Now we have a full prediction pipeline.\n",
    "    pipe = Pipeline(steps=[('preprocessor', preprocessor),\n",
    "                          ('clf', classifier)])\n",
    "\n",
    "    return pipe"
   ]
  },
  {
   "cell_type": "code",
   "execution_count": 60,
   "metadata": {
    "collapsed": true
   },
   "outputs": [],
   "source": [
    "#Evaluate classifiers:\n",
    "def evaluate_classifier(X_train, X_test, y_train, y_test, pipe, classifier_paramgrid, metric):\n",
    "\n",
    "    #NB: classifier_paramgrid should be a tuple with the classifier and its associated param grid for GridsearchCV\n",
    "\n",
    "    classifier, param_grid = classifier_paramgrid[0], classifier_paramgrid[1]\n",
    "\n",
    "    new_param_grid = {}\n",
    "    for i,k in param_grid.items():\n",
    "        j = 'clf__'+i\n",
    "        new_param_grid[j] = k\n",
    "\n",
    "    #Using stratified kfold to address imbalanced classes in target feature:\n",
    "    cv = StratifiedKFold(n_splits=5, random_state=1)\n",
    "    \n",
    "    #Customization for timeseries: using TimeSeriesSplit\n",
    "    #cv = TimeSeriesSplit(n_splits=2)\n",
    "\n",
    "    gs = GridSearchCV(estimator=pipe, param_grid=[new_param_grid], n_jobs=-1, cv=cv, scoring=metric)\n",
    "\n",
    "    gs.fit(X_train, y_train)\n",
    "\n",
    "    cv_metric = cross_val_score(gs, X_train, y_train, cv=cv)\n",
    "\n",
    "    print(\"\\n---------\")\n",
    "    print(\"Model Evaluated: \", gs.best_estimator_.named_steps['clf'])\n",
    "    print(\"Training {} Mean with CV: {}\".format(metric, cv_metric.mean()))\n",
    "    print(\"Training {} Standard Dev with CV: {}\".format(metric, cv_metric.std()))\n",
    "    print(\"Test Score: %.3f\" % gs.score(X_test, y_test))\n",
    "\n",
    "    return cv_metric"
   ]
  },
  {
   "cell_type": "code",
   "execution_count": 61,
   "metadata": {
    "collapsed": true
   },
   "outputs": [],
   "source": [
    "#Main function to execute the workflow\n",
    "def execute_spotcheck(df, target_name, test_size, numeric_features, bin_features, lab_bin_features):\n",
    "\n",
    "    #Split the data so to leave a final test set to avoid data leakage\n",
    "    X_train, X_test, y_train, y_test = split_data(df, target_name, test_size)\n",
    "\n",
    "    #Create a dictionary holding models that will be evaluated\n",
    "    models_tested = models()\n",
    "\n",
    "    model_results = {}\n",
    "\n",
    "    for k, (model, params) in models_tested.items():\n",
    "        #Create pipeline to apply the same transformations to each model evaluated\n",
    "        pipe = processing_pipeline(numeric_features, categorical_features, bin_features, lab_bin_features, model)\n",
    "        cv_metric = evaluate_classifier(X_train, X_test, y_train, y_test, pipe, (model, params), 'accuracy')\n",
    "        model_results[k] = cv_metric\n",
    "\n",
    "    return model_results, models_tested"
   ]
  },
  {
   "cell_type": "code",
   "execution_count": 62,
   "metadata": {
    "collapsed": true
   },
   "outputs": [],
   "source": [
    "#Simple visualization of outcomes:\n",
    "def visualize_results(model_results, models_tested):\n",
    "    \n",
    "    models_report = pd.DataFrame(model_results, columns=list(models_tested.keys()))\n",
    "    \n",
    "    fig, ax1 = plt.subplots(figsize=(len(models_report.columns)*3,4))\n",
    "    sns.boxplot(data=models_report, ax=ax1)\n",
    "    plt.suptitle('Model Evaluation Report')\n",
    "    plt.show()"
   ]
  },
  {
   "cell_type": "code",
   "execution_count": 63,
   "metadata": {},
   "outputs": [
    {
     "name": "stdout",
     "output_type": "stream",
     "text": [
      "\n",
      "---------\n",
      "Model Evaluated:  LogisticRegression(C=1, class_weight='balanced', dual=False,\n",
      "          fit_intercept=True, intercept_scaling=1, max_iter=100,\n",
      "          multi_class='warn', n_jobs=None, penalty='l2', random_state=1,\n",
      "          solver='lbfgs', tol=0.0001, verbose=0, warm_start=False)\n",
      "Training accuracy Mean with CV: 0.8308650328408639\n",
      "Training accuracy Standard Dev with CV: 0.002600911526980663\n",
      "Test Score: 0.835\n",
      "\n",
      "---------\n",
      "Model Evaluated:  RidgeClassifier(alpha=1, class_weight='balanced', copy_X=True,\n",
      "        fit_intercept=True, max_iter=None, normalize=False, random_state=1,\n",
      "        solver='auto', tol=0.001)\n",
      "Training accuracy Mean with CV: 0.8264340906300284\n",
      "Training accuracy Standard Dev with CV: 0.002849721044743382\n",
      "Test Score: 0.830\n",
      "\n",
      "---------\n",
      "Model Evaluated:  AdaBoostClassifier(algorithm='SAMME.R', base_estimator=None,\n",
      "          learning_rate=0.5, n_estimators=50, random_state=1)\n",
      "Training accuracy Mean with CV: 0.8997268717712649\n",
      "Training accuracy Standard Dev with CV: 0.0009310290933607806\n",
      "Test Score: 0.898\n",
      "\n",
      "---------\n",
      "Model Evaluated:  GradientBoostingClassifier(criterion='friedman_mse', init=None,\n",
      "              learning_rate=0.5, loss='deviance', max_depth=3,\n",
      "              max_features=None, max_leaf_nodes=None,\n",
      "              min_impurity_decrease=0.0, min_impurity_split=None,\n",
      "              min_samples_leaf=1, min_samples_split=2,\n",
      "              min_weight_fraction_leaf=0.0, n_estimators=100,\n",
      "              n_iter_no_change=None, presort='auto', random_state=1,\n",
      "              subsample=1.0, tol=0.0001, validation_fraction=0.1,\n",
      "              verbose=0, warm_start=False)\n",
      "Training accuracy Mean with CV: 0.8986342335778266\n",
      "Training accuracy Standard Dev with CV: 0.0015485197431955367\n",
      "Test Score: 0.897\n",
      "\n",
      "---------\n",
      "Model Evaluated:  BaggingClassifier(base_estimator=None, bootstrap=True,\n",
      "         bootstrap_features=False, max_features=1.0, max_samples=1,\n",
      "         n_estimators=7, n_jobs=None, oob_score=False, random_state=1,\n",
      "         verbose=0, warm_start=False)\n",
      "Training accuracy Mean with CV: 0.8878300490952589\n",
      "Training accuracy Standard Dev with CV: 5.2595947254463325e-05\n",
      "Test Score: 0.885\n",
      "\n",
      "---------\n",
      "Model Evaluated:  RandomForestClassifier(bootstrap=True, class_weight='balanced',\n",
      "            criterion='gini', max_depth=100, max_features='auto',\n",
      "            max_leaf_nodes=30, min_impurity_decrease=0.0,\n",
      "            min_impurity_split=None, min_samples_leaf=1,\n",
      "            min_samples_split=2, min_weight_fraction_leaf=0.0,\n",
      "            n_estimators=10, n_jobs=None, oob_score=False, random_state=1,\n",
      "            verbose=0, warm_start=False)\n",
      "Training accuracy Mean with CV: 0.8502579606641193\n",
      "Training accuracy Standard Dev with CV: 0.0030734471950820594\n",
      "Test Score: 0.850\n"
     ]
    }
   ],
   "source": [
    "model_results, models_tested = execute_spotcheck(df, 'y', 0.2, numeric_features, binary_features, label_binary)"
   ]
  },
  {
   "cell_type": "code",
   "execution_count": 64,
   "metadata": {},
   "outputs": [
    {
     "data": {
      "image/png": "[encoded data removed]",
      "text/plain": [
       "<Figure size 1296x288 with 1 Axes>"
      ]
     },
     "metadata": {
      "needs_background": "light"
     },
     "output_type": "display_data"
    }
   ],
   "source": [
    "visualize_results(model_results, models_tested)"
   ]
  },
  {
   "cell_type": "markdown",
   "metadata": {
    "collapsed": true
   },
   "source": [
    "Adaboost, Gradient Boosted Machine and the Bagging Classifier (unsurprisingly) show better results as they are different variations of ensembles that employ resampling strategies and thus tend to do well with imbalanced classes such as in this case. Next, we will analyze approximation and estimation errors, confusion matrices, and try to pick one model to explore further refinement options such as feature engineering."
   ]
  },
  {
   "cell_type": "markdown",
   "metadata": {},
   "source": [
    "Notice we haven't conducted a fully exhaustive hyperparameter search yet so these results are not final, however they give us a good idea for what could have promising results. Furthermore, we will have the option to later search hyperparameters that yield better recall or precision rather than using accuracy as done so far."
   ]
  },
  {
   "cell_type": "code",
   "execution_count": 65,
   "metadata": {
    "collapsed": true
   },
   "outputs": [],
   "source": [
    "from yellowbrick.model_selection import ValidationCurve\n",
    "from yellowbrick.model_selection import LearningCurve\n",
    "from yellowbrick.classifier import ClassificationReport, PrecisionRecallCurve, ConfusionMatrix"
   ]
  },
  {
   "cell_type": "code",
   "execution_count": 66,
   "metadata": {
    "collapsed": true
   },
   "outputs": [],
   "source": [
    "cv = StratifiedKFold(5)\n",
    "sizes = np.linspace(0.3, 1.0, 10)"
   ]
  },
  {
   "cell_type": "code",
   "execution_count": 67,
   "metadata": {
    "collapsed": true
   },
   "outputs": [],
   "source": [
    "#run this just once:\n",
    "df_eval = df.copy()\n",
    "y = df_eval.y\n",
    "y = [1 if i == 'yes' else 0 for i in df_eval.y]\n",
    "df_eval.drop('y', axis=1, inplace=True)"
   ]
  },
  {
   "cell_type": "code",
   "execution_count": 68,
   "metadata": {
    "collapsed": true
   },
   "outputs": [],
   "source": [
    "X_train, X_test, y_train, y_test = train_test_split(df_eval, y, test_size=0.2, random_state = 1)"
   ]
  },
  {
   "cell_type": "markdown",
   "metadata": {},
   "source": [
    "Recreating the three classifiers with their best hyperparameters"
   ]
  },
  {
   "cell_type": "code",
   "execution_count": 69,
   "metadata": {
    "collapsed": true
   },
   "outputs": [],
   "source": [
    "best_ada = AdaBoostClassifier(algorithm='SAMME.R', base_estimator=None,\n",
    "          learning_rate=0.5, n_estimators=50, random_state=1)"
   ]
  },
  {
   "cell_type": "code",
   "execution_count": 70,
   "metadata": {
    "collapsed": true
   },
   "outputs": [],
   "source": [
    "pipe_ada = processing_pipeline(numeric_features, categorical_features, binary_features, label_binary, best_ada)"
   ]
  },
  {
   "cell_type": "code",
   "execution_count": 71,
   "metadata": {
    "collapsed": true
   },
   "outputs": [],
   "source": [
    "best_gbm = GradientBoostingClassifier(criterion='friedman_mse', init=None,\n",
    "              learning_rate=0.5, loss='deviance', max_depth=3,\n",
    "              max_features=None, max_leaf_nodes=None,\n",
    "              min_impurity_decrease=0.0, min_impurity_split=None,\n",
    "              min_samples_leaf=1, min_samples_split=2,\n",
    "              min_weight_fraction_leaf=0.0, n_estimators=100,\n",
    "              n_iter_no_change=None, presort='auto', random_state=1,\n",
    "              subsample=1.0, tol=0.0001, validation_fraction=0.1,\n",
    "              verbose=0, warm_start=False)"
   ]
  },
  {
   "cell_type": "code",
   "execution_count": 72,
   "metadata": {
    "collapsed": true
   },
   "outputs": [],
   "source": [
    "pipe_gbm = processing_pipeline(numeric_features, categorical_features, binary_features, label_binary, best_gbm)"
   ]
  },
  {
   "cell_type": "code",
   "execution_count": 73,
   "metadata": {
    "collapsed": true
   },
   "outputs": [],
   "source": [
    "best_bg = BaggingClassifier(base_estimator=None, bootstrap=True,\n",
    "         bootstrap_features=False, max_features=1.0, max_samples=1,\n",
    "         n_estimators=7, n_jobs=None, oob_score=False, random_state=1,\n",
    "         verbose=0, warm_start=False)"
   ]
  },
  {
   "cell_type": "code",
   "execution_count": 74,
   "metadata": {
    "collapsed": true
   },
   "outputs": [],
   "source": [
    "pipe_bg = processing_pipeline(numeric_features, categorical_features, binary_features, label_binary, best_bg)"
   ]
  },
  {
   "cell_type": "markdown",
   "metadata": {},
   "source": [
    "Visualizing Model Results"
   ]
  },
  {
   "cell_type": "code",
   "execution_count": 75,
   "metadata": {},
   "outputs": [
    {
     "name": "stderr",
     "output_type": "stream",
     "text": [
      "/Users/pauldefusco/anaconda2/envs/py36/lib/python3.6/site-packages/sklearn/metrics/classification.py:1143: UndefinedMetricWarning: Precision and F-score are ill-defined and being set to 0.0 in labels with no predicted samples.\n",
      "  'precision', 'predicted', average, warn_for)\n"
     ]
    },
    {
     "data": {
      "image/png": "[encoded data removed]",
      "text/plain": [
       "<Figure size 720x360 with 6 Axes>"
      ]
     },
     "metadata": {
      "needs_background": "light"
     },
     "output_type": "display_data"
    },
    {
     "data": {
      "text/plain": [
       "<Figure size 432x288 with 0 Axes>"
      ]
     },
     "metadata": {},
     "output_type": "display_data"
    },
    {
     "data": {
      "text/plain": [
       "<Figure size 432x288 with 0 Axes>"
      ]
     },
     "metadata": {},
     "output_type": "display_data"
    }
   ],
   "source": [
    "fig, axes = plt.subplots(3,1,figsize=(10,5))\n",
    "\n",
    "cr_ada = ClassificationReport(pipe_ada, ax=axes[0], classes=['1', '0'])\n",
    "cr_ada.fit(X_train, y_train)\n",
    "cr_ada.score(X_test, y_test)\n",
    "\n",
    "cr_gbm = ClassificationReport(pipe_gbm, ax=axes[1], classes=['1', '0'])\n",
    "cr_gbm.fit(X_train, y_train)\n",
    "cr_gbm.score(X_test, y_test)\n",
    "\n",
    "cr_bg = ClassificationReport(pipe_bg, ax=axes[2], classes=['1', '0'])\n",
    "cr_bg.fit(X_train, y_train)\n",
    "cr_bg.score(X_test, y_test)\n",
    "\n",
    "axes[1].set(title='GBM Classification Report')\n",
    "axes[2].set(title='Bagging Classifier Classification Report')\n",
    "\n",
    "cr_ada.poof()\n",
    "cr_gbm.poof()\n",
    "cr_bg.poof()"
   ]
  },
  {
   "cell_type": "markdown",
   "metadata": {},
   "source": [
    "Learning curves are showing some variance for Ridge Classifier. Let's look at RandomForestClassifier next"
   ]
  },
  {
   "cell_type": "code",
   "execution_count": 76,
   "metadata": {},
   "outputs": [
    {
     "data": {
      "image/png": "[encoded data removed]",
      "text/plain": [
       "<Figure size 1224x288 with 3 Axes>"
      ]
     },
     "metadata": {
      "needs_background": "light"
     },
     "output_type": "display_data"
    }
   ],
   "source": [
    "fig, axes = plt.subplots(nrows=1, ncols=3, figsize=(17,4))\n",
    "\n",
    "viz_vc_ada = ValidationCurve(\n",
    "    pipe_ada, param_name=\"clf__learning_rate\",\n",
    "    param_range=np.linspace(0.1,1, 6), cv=cv, scoring=\"accuracy\", ax=axes[0])\n",
    "\n",
    "viz_vc_ada.fit(X_train, y_train)\n",
    "\n",
    "viz_vc_gbm = ValidationCurve(\n",
    "    pipe_gbm, param_name=\"clf__learning_rate\",\n",
    "    param_range=np.linspace(0.1,1, 6), cv=cv, scoring=\"accuracy\", ax=axes[1])\n",
    "\n",
    "viz_vc_gbm.fit(X_train, y_train)\n",
    "\n",
    "viz_vc_bg = ValidationCurve(\n",
    "    pipe_bg, param_name=\"clf__n_estimators\",\n",
    "    param_range=[5,7,9,11], cv=cv, scoring=\"accuracy\", ax=axes[2])\n",
    "\n",
    "viz_vc_bg.fit(X_train, y_train)\n",
    "\n",
    "axes[1].set(title='Validation Curves for GBM', xlabel='Learning Rate', ylabel='Score')\n",
    "axes[2].set(title='Validation Curves for Gradient Boosting Classifier', xlabel='N Estimators', ylabel='Score')\n",
    "axes[1].legend().set_visible(True)\n",
    "axes[2].legend().set_visible(True)\n",
    "\n",
    "viz_vc_ada.poof()\n",
    "viz_vc_gbm.poof()\n",
    "viz_vc_bg.poof()"
   ]
  },
  {
   "cell_type": "markdown",
   "metadata": {},
   "source": [
    "Notice that the above curves are on a very small scale - although they might seem distant from each other, they are actually very close"
   ]
  },
  {
   "cell_type": "code",
   "execution_count": 77,
   "metadata": {},
   "outputs": [
    {
     "data": {
      "image/png": "[encoded data removed]",
      "text/plain": [
       "<Figure size 1224x288 with 3 Axes>"
      ]
     },
     "metadata": {
      "needs_background": "light"
     },
     "output_type": "display_data"
    }
   ],
   "source": [
    "fig, axes = plt.subplots(nrows=1, ncols=3, figsize=(17,4))\n",
    "\n",
    "viz_lc_ada = LearningCurve(\n",
    "    pipe_ada, train_sizes = np.linspace(0.1, 1.0, 10), cv=cv, ax=axes[0]\n",
    ")\n",
    "# Fit and poof the visualizer\n",
    "viz_lc_ada.fit(X_train, y_train)\n",
    "\n",
    "viz_lc_gbm = LearningCurve(\n",
    "    pipe_gbm, train_sizes = np.linspace(0.1, 1.0, 10), cv=cv, ax=axes[1]\n",
    ")\n",
    "# Fit and poof the visualizer\n",
    "viz_lc_gbm.fit(X_train, y_train)\n",
    "\n",
    "viz_lc_bg = LearningCurve(\n",
    "    pipe_bg, train_sizes = np.linspace(0.1, 1.0, 10), cv=cv, ax=axes[2]\n",
    ")\n",
    "# Fit and poof the visualizer\n",
    "viz_lc_bg.fit(X_train, y_train)\n",
    "\n",
    "axes[1].set(title='Learning Curves for GBM', xlabel='Training Instances', ylabel='Score')\n",
    "axes[2].set(title='Learning Curves for Bagging Classifier', xlabel='Training Instances', ylabel='Score')\n",
    "axes[1].legend().set_visible(True)\n",
    "axes[2].legend().set_visible(True)\n",
    "\n",
    "viz_lc_ada.poof()\n",
    "viz_lc_gbm.poof()\n",
    "viz_lc_bg.poof()"
   ]
  },
  {
   "cell_type": "code",
   "execution_count": 78,
   "metadata": {},
   "outputs": [
    {
     "data": {
      "image/png": "[encoded data removed]",
      "text/plain": [
       "<Figure size 1152x360 with 3 Axes>"
      ]
     },
     "metadata": {
      "needs_background": "light"
     },
     "output_type": "display_data"
    }
   ],
   "source": [
    "fig, axes = plt.subplots(nrows=1, ncols=3, sharey=False, figsize=(16,5))\n",
    "\n",
    "viz_pc_ada = PrecisionRecallCurve(pipe_ada, ax=axes[0])\n",
    "viz_pc_ada.fit(X_train, y_train)\n",
    "viz_pc_ada.score(X_test, y_test)\n",
    "\n",
    "viz_pc_gbm = PrecisionRecallCurve(pipe_gbm, ax=axes[1])\n",
    "viz_pc_gbm.fit(X_train, y_train)\n",
    "viz_pc_gbm.score(X_test, y_test)\n",
    "\n",
    "viz_pc_bg = PrecisionRecallCurve(pipe_bg, ax=axes[2])\n",
    "viz_pc_bg.fit(X_train, y_train)\n",
    "viz_pc_bg.score(X_test, y_test)\n",
    "\n",
    "axes[1].set(title='Precision-Recall Curve for Gradient Boosting Machine', xlabel='Recall', ylabel='Precision')\n",
    "axes[2].set(title='Precision-Recall Curve for Bagging Classifier', xlabel='Recall', ylabel='Precision')\n",
    "axes[1].legend().set_visible(True)\n",
    "axes[2].legend().set_visible(True)\n",
    "\n",
    "viz_pc_ada.poof()\n",
    "viz_pc_gbm.poof()\n",
    "viz_pc_bg.poof()"
   ]
  },
  {
   "cell_type": "code",
   "execution_count": 79,
   "metadata": {},
   "outputs": [
    {
     "data": {
      "image/png": "[encoded data removed]",
      "text/plain": [
       "<Figure size 1152x360 with 3 Axes>"
      ]
     },
     "metadata": {
      "needs_background": "light"
     },
     "output_type": "display_data"
    }
   ],
   "source": [
    "fig, axes = plt.subplots(nrows=1, ncols=3, sharey=False, figsize=(16,5))\n",
    "\n",
    "cm_ada = ConfusionMatrix(pipe_ada, classes=[0,1], ax=axes[0])\n",
    "cm_ada.fit(X_train, y_train)\n",
    "cm_ada.score(X_test, y_test)\n",
    "\n",
    "cm_gbm = ConfusionMatrix(pipe_gbm, classes=[0,1], ax=axes[1])\n",
    "cm_gbm.fit(X_train, y_train)\n",
    "cm_gbm.score(X_test, y_test)\n",
    "\n",
    "cm_bg = ConfusionMatrix(pipe_bg, classes=[0,1], ax=axes[2])\n",
    "cm_bg.fit(X_train, y_train)\n",
    "cm_bg.score(X_test, y_test)\n",
    "\n",
    "axes[1].set(title='GBM Confusion Matrix', xlabel='Predicted Class', ylabel='True Class')\n",
    "axes[2].set(title='Bagging Classifier Confusion Matrix', xlabel='Predicted Class', ylabel='True Class')\n",
    "\n",
    "cm_ada.poof()\n",
    "cm_gbm.poof()\n",
    "cm_bg.poof()"
   ]
  },
  {
   "cell_type": "markdown",
   "metadata": {},
   "source": [
    "The Gradient Boosted Classifier is showing great results. Let's try to improve them with new features. **Notice that the features chosen for this dataset were already evaluated and selected from a wider domain: https://archive.ics.uci.edu/ml/datasets/bank+marketing so our efforts in this domain will have to be somewhat limited**"
   ]
  },
  {
   "cell_type": "markdown",
   "metadata": {},
   "source": [
    "Feature Engineering"
   ]
  },
  {
   "cell_type": "code",
   "execution_count": 80,
   "metadata": {},
   "outputs": [
    {
     "data": {
      "text/plain": [
       "array([4.81788546e-02, 1.80017225e-02, 1.81802751e-02, 1.24049211e-02,\n",
       "       1.82597664e-03, 1.21812088e-02, 5.74373898e-02, 9.73007005e-02,\n",
       "       4.72332142e-01, 2.30793405e-03, 1.24254820e-03, 1.22521426e-02,\n",
       "       0.00000000e+00, 1.78915187e-03, 1.59560902e-02, 4.40154203e-03,\n",
       "       8.06228162e-02, 7.39374326e-04, 7.61825355e-04, 4.33506376e-04,\n",
       "       5.04993679e-03, 2.06725744e-03, 2.53183292e-03, 2.10559059e-03,\n",
       "       2.68864741e-03, 7.44662019e-03, 4.81564580e-04, 2.85392951e-03,\n",
       "       6.60827720e-04, 6.39973268e-04, 1.31352456e-03, 1.39459728e-03,\n",
       "       3.94783263e-03, 1.63166571e-03, 1.10143866e-04, 4.40436801e-03,\n",
       "       6.16265645e-03, 5.21331866e-03, 6.79302396e-03, 0.00000000e+00,\n",
       "       2.00628258e-03, 2.74432955e-03, 1.38691667e-03, 1.56521728e-03,\n",
       "       6.19225277e-04, 1.19529267e-03, 0.00000000e+00, 6.45101618e-04,\n",
       "       1.00101609e-03, 1.27334630e-03, 0.00000000e+00, 1.48743916e-02,\n",
       "       4.11929682e-04, 5.32270191e-03, 3.08709773e-03, 3.30357329e-03,\n",
       "       1.33621544e-03, 0.00000000e+00, 0.00000000e+00, 0.00000000e+00,\n",
       "       2.15687087e-03, 1.39723099e-03, 9.32214123e-03, 7.15066151e-03,\n",
       "       3.30673115e-03, 8.25252602e-03, 1.52895834e-03, 0.00000000e+00,\n",
       "       2.48347123e-03, 2.92232990e-03, 7.68434865e-05, 1.39165740e-03,\n",
       "       1.52740228e-03, 9.31479689e-04, 9.31624497e-04])"
      ]
     },
     "execution_count": 80,
     "metadata": {},
     "output_type": "execute_result"
    }
   ],
   "source": [
    "#Current feature importances for the GBM model:\n",
    "pipe_gbm.named_steps['clf'].feature_importances_"
   ]
  },
  {
   "cell_type": "markdown",
   "metadata": {},
   "source": [
    "Currently in Sklearn there is no way to use the get_feature_names() function on a Pipeline object. We will create some new features and include a feature elimination step in our pipeline object to eliminate unnecessary features. "
   ]
  },
  {
   "cell_type": "markdown",
   "metadata": {},
   "source": [
    "We start by binning some of the numeric features. For a visualization of these please visit notebook \"feat_eng_tests\" located in the same folder."
   ]
  },
  {
   "cell_type": "code",
   "execution_count": 81,
   "metadata": {
    "collapsed": true
   },
   "outputs": [],
   "source": [
    "#Creating some new categorical features with binning:\n",
    "df['age_bin'] = pd.cut(df['age'], 4, labels = [0,1,2,3])\n",
    "df['previous_bin'] = pd.cut(df['previous'], 4, labels = [0,1,2,3])\n",
    "df['campaign_bin'] = pd.cut(df['campaign'], 4, labels = [0,1,2,3])\n",
    "df['pdays_bin'] = pd.cut(df['pdays'], 4, labels = [0,1,2,3])"
   ]
  },
  {
   "cell_type": "markdown",
   "metadata": {
    "collapsed": true
   },
   "source": [
    "Creating some flags reflecting whther if the customer is a new lead, was previously contacted as part of the same campaign, or an old prospect i.e. someone who was contacted in a previous campaign (for a visualization please visit \"feat_eng_tests\""
   ]
  },
  {
   "cell_type": "code",
   "execution_count": 82,
   "metadata": {
    "collapsed": true
   },
   "outputs": [],
   "source": [
    "df['new_lead'] = np.where((df.previous ==0)&(df.campaign==1),1,0)\n",
    "#Simple check\n",
    "#len(df[df['new_lead']==1])"
   ]
  },
  {
   "cell_type": "code",
   "execution_count": 83,
   "metadata": {
    "collapsed": true
   },
   "outputs": [],
   "source": [
    "df['new_prospect'] = np.where((df.previous ==0)&(df.campaign>1),1,0)\n",
    "#Simple check\n",
    "#len(df[df['new_prospect']==1])"
   ]
  },
  {
   "cell_type": "code",
   "execution_count": 84,
   "metadata": {
    "collapsed": true
   },
   "outputs": [],
   "source": [
    "df['old_prospect'] = np.where((df.previous > 0),1,0)\n",
    "#Simple check\n",
    "#len(df[df['old_prospect']==1])"
   ]
  },
  {
   "cell_type": "markdown",
   "metadata": {},
   "source": [
    "Step 1: understand what currently are the features most correlated with y"
   ]
  },
  {
   "cell_type": "code",
   "execution_count": 85,
   "metadata": {
    "collapsed": true
   },
   "outputs": [],
   "source": [
    "df = pd.get_dummies(df, columns = ['age_bin', 'previous_bin', 'campaign_bin', 'pdays_bin', 'contact'], drop_first=True)"
   ]
  },
  {
   "cell_type": "code",
   "execution_count": 119,
   "metadata": {},
   "outputs": [
    {
     "data": {
      "text/plain": [
       "{'pdays_bin_1', 'pdays_bin_2'}"
      ]
     },
     "execution_count": 119,
     "metadata": {},
     "output_type": "execute_result"
    }
   ],
   "source": [
    "#It looks like two of the new one hot encoded features contain only zeros. We remove them\n",
    "set(df.columns) - set(list(df.loc[:, (df != 0).any(axis=0)]))"
   ]
  },
  {
   "cell_type": "code",
   "execution_count": 120,
   "metadata": {
    "collapsed": true
   },
   "outputs": [],
   "source": [
    "df.drop(columns=list(set(df.columns) - set(list(df.loc[:, (df != 0).any(axis=0)]))), inplace=True)"
   ]
  },
  {
   "cell_type": "code",
   "execution_count": 145,
   "metadata": {},
   "outputs": [],
   "source": [
    "#preparing dataframe for correlation analysis\n",
    "df_corr = df.copy()\n",
    "df_corr.reset_index(inplace=True)\n",
    "df_corr.drop('Date', axis=1, inplace=True)\n",
    "df_corr.drop(columns=numeric_features, inplace=True)\n",
    "df_corr['y'] = [1 if i == 'yes' else 0 for i in df_corr['y']]"
   ]
  },
  {
   "cell_type": "code",
   "execution_count": 146,
   "metadata": {},
   "outputs": [],
   "source": [
    "def check_all(pdseries):\n",
    "    if all(x == pdseries[0] for x in pdseries):\n",
    "        print(\"All elements in list are equal\")\n",
    "        print('Feature name: ', pdseries.name)\n",
    "    else:\n",
    "        pass"
   ]
  },
  {
   "cell_type": "code",
   "execution_count": 147,
   "metadata": {},
   "outputs": [
    {
     "data": {
      "text/plain": [
       "y                                            None\n",
       "is_holiday                                   None\n",
       "biz_payday                                   None\n",
       "govt_payday                                  None\n",
       "poutcome_nonexistent                         None\n",
       "poutcome_success                             None\n",
       "job_blue-collar                              None\n",
       "job_entrepreneur                             None\n",
       "job_housemaid                                None\n",
       "job_management                               None\n",
       "job_retired                                  None\n",
       "job_self-employed                            None\n",
       "job_services                                 None\n",
       "job_student                                  None\n",
       "job_technician                               None\n",
       "job_unemployed                               None\n",
       "job_unknown                                  None\n",
       "marital_married                              None\n",
       "marital_single                               None\n",
       "marital_unknown                              None\n",
       "education_basic.6y                           None\n",
       "education_basic.9y                           None\n",
       "education_high.school                        None\n",
       "education_illiterate                         None\n",
       "education_professional.course                None\n",
       "education_university.degree                  None\n",
       "education_unknown                            None\n",
       "default_unknown                              None\n",
       "default_yes                                  None\n",
       "housing_unknown                              None\n",
       "                                             ... \n",
       "holiday_name_Restauração da Independência    None\n",
       "weekday_1                                    None\n",
       "weekday_2                                    None\n",
       "weekday_3                                    None\n",
       "weekday_4                                    None\n",
       "year_2009                                    None\n",
       "year_2010                                    None\n",
       "month_4                                      None\n",
       "month_5                                      None\n",
       "month_6                                      None\n",
       "month_7                                      None\n",
       "month_8                                      None\n",
       "month_9                                      None\n",
       "month_10                                     None\n",
       "month_11                                     None\n",
       "month_12                                     None\n",
       "new_lead                                     None\n",
       "new_prospect                                 None\n",
       "old_prospect                                 None\n",
       "age_bin_1                                    None\n",
       "age_bin_2                                    None\n",
       "age_bin_3                                    None\n",
       "previous_bin_1                               None\n",
       "previous_bin_2                               None\n",
       "previous_bin_3                               None\n",
       "campaign_bin_1                               None\n",
       "campaign_bin_2                               None\n",
       "campaign_bin_3                               None\n",
       "pdays_bin_3                                  None\n",
       "contact_telephone                            None\n",
       "Length: 78, dtype: object"
      ]
     },
     "execution_count": 147,
     "metadata": {},
     "output_type": "execute_result"
    }
   ],
   "source": [
    "#Checking for any features that have the same value - this would cause an error when calculating correlations.\n",
    "df_corr.apply(lambda x: check_all(x))"
   ]
  },
  {
   "cell_type": "code",
   "execution_count": 148,
   "metadata": {},
   "outputs": [],
   "source": [
    "from scipy import stats\n",
    "import math\n",
    "#Correlation between features and (binary) target var\n",
    "pbcorr_list = []\n",
    "for i in df_corr.columns:\n",
    "    if math.isnan(stats.pointbiserialr(df_corr[i],df_corr['y'])[0]) != True:\n",
    "        pbcorr_list.append((str(i), stats.pointbiserialr(df_corr[i],df_corr['y'])[0]))"
   ]
  },
  {
   "cell_type": "code",
   "execution_count": 149,
   "metadata": {},
   "outputs": [
    {
     "data": {
      "text/plain": [
       "[('poutcome_nonexistent', -0.19350684552056135),\n",
       " ('month_last_contact_may', -0.10827118387516642),\n",
       " ('month_5', -0.10827118387516642),\n",
       " ('new_prospect', -0.10598331942372181),\n",
       " ('pdays_bin_3', -0.3248766977898388),\n",
       " ('contact_telephone', -0.14477305571200072),\n",
       " ('y', 1.0),\n",
       " ('poutcome_success', 0.31626938381981556),\n",
       " ('month_last_contact_mar', 0.14401401664144514),\n",
       " ('month_last_contact_oct', 0.13736593059421323),\n",
       " ('month_last_contact_sep', 0.12606735856323756),\n",
       " ('year_2009', 0.16103225253516018),\n",
       " ('year_2010', 0.2964693010722249),\n",
       " ('month_9', 0.12290204938359565),\n",
       " ('month_10', 0.13736593059421323),\n",
       " ('old_prospect', 0.19350684552056135),\n",
       " ('previous_bin_1', 0.18671831636582317)]"
      ]
     },
     "execution_count": 149,
     "metadata": {},
     "output_type": "execute_result"
    }
   ],
   "source": [
    "#Keeping features exhibiting stronger correlation with target var: \n",
    "list(filter(lambda x: x[1] < -.1, pbcorr_list)) + list(filter(lambda x: x[1] > .10, pbcorr_list)) "
   ]
  },
  {
   "cell_type": "markdown",
   "metadata": {
    "collapsed": true
   },
   "source": [
    "Based on the above, we pick some attributes so we can create new feature combinations. The list above could be filtered out with higher or lower correlation threshold and this exercise could be repeated in multiple iterations. A new feature will be created for each tuple in combos."
   ]
  },
  {
   "cell_type": "code",
   "execution_count": 150,
   "metadata": {
    "collapsed": true
   },
   "outputs": [],
   "source": [
    "cols = ['pdays_bin_3', 'previous_bin_1', 'old_prospect', \n",
    "        'poutcome_success', 'month_last_contact_mar', \n",
    "        'contact_telephone', 'month_5', 'year_2010', \n",
    "        'poutcome_nonexistent']"
   ]
  },
  {
   "cell_type": "code",
   "execution_count": 151,
   "metadata": {
    "collapsed": true
   },
   "outputs": [],
   "source": [
    "import itertools\n",
    "combos = []\n",
    "for r in range(4,len(cols)):\n",
    "    combos+= [i for i in list(itertools.combinations(cols, r))]"
   ]
  },
  {
   "cell_type": "code",
   "execution_count": 152,
   "metadata": {
    "collapsed": true
   },
   "outputs": [],
   "source": [
    "def create_cat_features(df, combos, pred_var, operation):\n",
    "    \n",
    "    if operation == 'sum':\n",
    "    \n",
    "        for combo in combos:\n",
    "            df_temp = df[list(combo) + [pred_var]].groupby(list(combo)).sum().reset_index(drop=0)\n",
    "            combo_name = pred_var +'-'+'-'.join(combo)+'-categorical'\n",
    "            df_temp.rename(columns = {pred_var:combo_name}, inplace=True)\n",
    "            df = df.merge(df_temp, how='left', on=list(combo))\n",
    "    \n",
    "    elif operation == 'avg':\n",
    "        \n",
    "        for combo in combos:\n",
    "            df_temp = df[list(combo) + [pred_var]].groupby(list(combo)).mean().reset_index(drop=0)\n",
    "            combo_name = pred_var +'-'+'-'.join(combo)+'-categorical'\n",
    "            df_temp.rename(columns = {pred_var:combo_name}, inplace=True)\n",
    "            df = df.merge(df_temp, how='left', on=list(combo))\n",
    "    \n",
    "    else:\n",
    "        print(\"You have entered the wrong operation\")\n",
    "        print(\"Please enter sum or avg\")\n",
    "    \n",
    "    return df"
   ]
  },
  {
   "cell_type": "code",
   "execution_count": 153,
   "metadata": {
    "collapsed": true
   },
   "outputs": [],
   "source": [
    "new_df_pdays = create_cat_features(df, combos, 'pdays', 'avg')"
   ]
  },
  {
   "cell_type": "code",
   "execution_count": 154,
   "metadata": {
    "collapsed": true
   },
   "outputs": [],
   "source": [
    "new_df_camp = create_cat_features(df, combos, 'campaign', 'avg')"
   ]
  },
  {
   "cell_type": "code",
   "execution_count": 155,
   "metadata": {
    "collapsed": true
   },
   "outputs": [],
   "source": [
    "new_df_prev = create_cat_features(df, combos, 'previous', 'avg')"
   ]
  },
  {
   "cell_type": "code",
   "execution_count": 156,
   "metadata": {
    "collapsed": true
   },
   "outputs": [],
   "source": [
    "new_df_pdays = new_df_pdays.merge(new_df_camp, left_index=True, right_index=True,how='inner', suffixes=('', '_rightdf'))\n",
    "new_df_pdays = new_df_pdays.merge(new_df_prev, left_index=True, right_index=True,how='inner', suffixes=('', '_rightdf'))"
   ]
  },
  {
   "cell_type": "code",
   "execution_count": 157,
   "metadata": {
    "collapsed": true
   },
   "outputs": [],
   "source": [
    "final_df = new_df_pdays.drop(new_df_pdays.filter(regex=\"_rightdf\").columns, axis=1)"
   ]
  },
  {
   "cell_type": "code",
   "execution_count": 158,
   "metadata": {
    "collapsed": true
   },
   "outputs": [],
   "source": [
    "#Checking outputs:"
   ]
  },
  {
   "cell_type": "code",
   "execution_count": 159,
   "metadata": {},
   "outputs": [
    {
     "data": {
      "text/plain": [
       "array([0.        , 1.1       , 1.2       , 1.12139358, 1.27509294,\n",
       "       1.10526316, 1.        , 1.07482993, 1.05662726, 1.14285714,\n",
       "       1.03571429, 1.49275362, 1.64179104, 1.36363636, 1.95982143,\n",
       "       1.7431694 , 1.76086957, 1.59677419, 1.72222222, 2.43283582,\n",
       "       1.88888889, 1.33333333])"
      ]
     },
     "execution_count": 159,
     "metadata": {},
     "output_type": "execute_result"
    }
   ],
   "source": [
    "final_df['previous-old_prospect-poutcome_success-month_last_contact_mar-contact_telephone-month_5-year_2010-categorical'].unique()"
   ]
  },
  {
   "cell_type": "code",
   "execution_count": 160,
   "metadata": {},
   "outputs": [
    {
     "data": {
      "text/plain": [
       "array([0.        , 1.06542056, 1.2       , 1.08566629, 1.27509294,\n",
       "       1.05555556, 1.        , 2.        , 2.37254902, 1.07482993,\n",
       "       1.05009393, 1.14285714, 2.1       , 1.03571429, 2.33333333,\n",
       "       1.3442623 , 1.64179104, 2.625     , 1.36363636, 1.95982143,\n",
       "       1.57051282, 1.76086957, 1.41818182, 2.74074074, 1.58695652,\n",
       "       2.43283582, 1.88888889, 1.33333333, 2.5       , 3.        ])"
      ]
     },
     "execution_count": 160,
     "metadata": {},
     "output_type": "execute_result"
    }
   ],
   "source": [
    "final_df['previous-pdays_bin_3-old_prospect-poutcome_success-month_last_contact_mar-contact_telephone-month_5-year_2010-categorical'].unique()"
   ]
  },
  {
   "cell_type": "markdown",
   "metadata": {},
   "source": [
    "Next we will modify our pipeline to include a feature selection step and see if the new features help us increase accuracy"
   ]
  },
  {
   "cell_type": "code",
   "execution_count": 161,
   "metadata": {
    "collapsed": true
   },
   "outputs": [],
   "source": [
    "#Not needed since we will directly get dummies with the four new attributes\n",
    "#categorical_features.extend(['age_bin', 'previous_bin', 'campaign_bin', 'pdays_bin'])"
   ]
  },
  {
   "cell_type": "code",
   "execution_count": 162,
   "metadata": {
    "collapsed": true
   },
   "outputs": [],
   "source": [
    "numeric_features.extend(list(filter(lambda x: x.endswith('categorical'), final_df.columns)))"
   ]
  },
  {
   "cell_type": "code",
   "execution_count": 163,
   "metadata": {
    "collapsed": true
   },
   "outputs": [],
   "source": [
    "binary_features.extend(['new_lead', 'new_prospect', 'old_prospect'])"
   ]
  },
  {
   "cell_type": "markdown",
   "metadata": {},
   "source": [
    "Next we create a new pipeline to process the dataset with RFECV"
   ]
  },
  {
   "cell_type": "code",
   "execution_count": 168,
   "metadata": {
    "collapsed": true
   },
   "outputs": [],
   "source": [
    "def new_pipeline(numeric_features, bin_features, lab_bin_features, \n",
    "                 best_gbm, X_train, X_test, y_train, y_test):\n",
    "\n",
    "    #numeric_features and categorical_features must be lists\n",
    "\n",
    "    numeric_transformer = Pipeline(steps=[\n",
    "        #('imputer', SimpleImputer(strategy='mean')),\n",
    "        ('scaler', StandardScaler())])\n",
    "\n",
    "    binary_transformer = Pipeline(steps=[\n",
    "        #('imputer', SimpleImputer(strategy='most_frequent')),\n",
    "        ('binary', Binarizer())])\n",
    "    \n",
    "    #label_binary_transformer = Pipeline(steps=[\n",
    "        #('imputer', SimpleImputer(strategy='most_frequent')),\n",
    "        #('label_binary', OneHotEncoder(sparse=False))])\n",
    "    \n",
    "    preprocessor = ColumnTransformer(\n",
    "    transformers=[\n",
    "        ('num', numeric_transformer, numeric_features),\n",
    "        ('bin', binary_transformer, bin_features) \n",
    "        #('lab_bin', label_binary_transformer, lab_bin_features) \n",
    "    ], \n",
    "        #setting remainder to passthrough so features that are not included are not dropped\n",
    "        remainder='passthrough')\n",
    "    \n",
    "    selector = RFECV(estimator = best_gbm, step = 40, cv=StratifiedKFold(n_splits=2, random_state=1))\n",
    "\n",
    "    combined_features = FeatureUnion([('preprocessor', preprocessor),\n",
    "                                    ('selection', selector)])\n",
    "    \n",
    "    X_train_new = combined_features.fit(X_train,y_train).transform(X_train)\n",
    "    \n",
    "    pipeline = Pipeline([('features', combined_features), (\"best_gbm\", best_gbm)])\n",
    "    \n",
    "    pipeline.fit(X_train, y_train)\n",
    "    score = pipeline.score(X_test, y_test)\n",
    "    \n",
    "    \n",
    "    #cv_metric = cross_val_score(gs, X_train, y_train, cv=cv)\n",
    "\n",
    "    print(\"\\n---------\")\n",
    "    print(\"Model Evaluated: \", best_gbm)\n",
    "    print(\"Test Score: %.3f\" % score)\n",
    "\n",
    "    return X_train_new, combined_features"
   ]
  },
  {
   "cell_type": "code",
   "execution_count": 169,
   "metadata": {
    "collapsed": true
   },
   "outputs": [],
   "source": [
    "X_train, X_test, y_train, y_test = split_data(final_df, 'y', 0.2)"
   ]
  },
  {
   "cell_type": "code",
   "execution_count": 170,
   "metadata": {},
   "outputs": [
    {
     "name": "stdout",
     "output_type": "stream",
     "text": [
      "\n",
      "---------\n",
      "Model Evaluated:  GradientBoostingClassifier(criterion='friedman_mse', init=None,\n",
      "              learning_rate=0.5, loss='deviance', max_depth=3,\n",
      "              max_features=None, max_leaf_nodes=None,\n",
      "              min_impurity_decrease=0.0, min_impurity_split=None,\n",
      "              min_samples_leaf=1, min_samples_split=2,\n",
      "              min_weight_fraction_leaf=0.0, n_estimators=100,\n",
      "              n_iter_no_change=None, presort='auto', random_state=1,\n",
      "              subsample=1.0, tol=0.0001, validation_fraction=0.1,\n",
      "              verbose=0, warm_start=False)\n",
      "Test Score: 0.895\n"
     ]
    }
   ],
   "source": [
    "X_train_new, combined_features = new_pipeline(numeric_features, binary_features, _, \n",
    "                 best_gbm, X_train, X_test, y_train, y_test)"
   ]
  },
  {
   "cell_type": "code",
   "execution_count": null,
   "metadata": {
    "collapsed": true
   },
   "outputs": [],
   "source": [
    "#Try the process above with more and different features and feature selection methods"
   ]
  },
  {
   "cell_type": "markdown",
   "metadata": {
    "collapsed": true
   },
   "source": [
    "Improvements:\n",
    "- try voting classifier or any custom ensemble?\n",
    "- use imbalanced learning library and different sampling techniques with different models and see if it is possible to obtain similar performance\n",
    "- plot classifier comparisons with respect to the most important feature\n",
    "- insert statistical tests and plot distributions for the new features created with combos and use statistical insights to remove some before feeding them to the new pipeline\n",
    "- try creating more features with more combos and then add PCA to the new pipeline as a way to reduce dimensionality"
   ]
  },
  {
   "cell_type": "markdown",
   "metadata": {
    "collapsed": true
   },
   "source": [
    "The above feature selection seems to have further improved our model. We will thus apply the same selection over the entire dataset and use that to train our final model"
   ]
  },
  {
   "cell_type": "code",
   "execution_count": null,
   "metadata": {
    "collapsed": true
   },
   "outputs": [],
   "source": [
    "#save the model here so it can be used by other notebooks"
   ]
  }
 ],
 "metadata": {
  "kernelspec": {
   "display_name": "Python 3",
   "language": "python",
   "name": "python3"
  },
  "language_info": {
   "codemirror_mode": {
    "name": "ipython",
    "version": 3
   },
   "file_extension": ".py",
   "mimetype": "text/x-python",
   "name": "python",
   "nbconvert_exporter": "python",
   "pygments_lexer": "ipython3",
   "version": "3.6.7"
  }
 },
 "nbformat": 4,
 "nbformat_minor": 2
}
