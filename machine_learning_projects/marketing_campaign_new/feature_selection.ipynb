{
 "cells": [
  {
   "cell_type": "markdown",
   "metadata": {},
   "source": [
    "# Feature Selection"
   ]
  },
  {
   "cell_type": "markdown",
   "metadata": {},
   "source": [
    "Objective: perform exhaustive feature selection \n",
    "- Perform statistical tests on features. Examine distributions and variance within the feature, and distance between features\n",
    "- Examine different scaling approaches (standardizing, centering, log transformations, etc.)\n",
    "- Use spark_sklearn or spark directly for computationally challenging iterations\n",
    "- Use the best model pipeline found in the campaign_targeting_model_BATCH notebook"
   ]
  },
  {
   "cell_type": "code",
   "execution_count": 19,
   "metadata": {},
   "outputs": [],
   "source": [
    "import findspark\n",
    "findspark.init('/Users/pauldefusco/Documents/spark-2.3.0-bin-hadoop2.7')"
   ]
  },
  {
   "cell_type": "code",
   "execution_count": 22,
   "metadata": {},
   "outputs": [
    {
     "data": {
      "text/html": [
       "\n",
       "        <div>\n",
       "            <p><b>SparkContext</b></p>\n",
       "\n",
       "            <p><a href=\"http://10.0.1.4:4040\">Spark UI</a></p>\n",
       "\n",
       "            <dl>\n",
       "              <dt>Version</dt>\n",
       "                <dd><code>v2.3.0</code></dd>\n",
       "              <dt>Master</dt>\n",
       "                <dd><code>local[4]</code></dd>\n",
       "              <dt>AppName</dt>\n",
       "                <dd><code>pyspark-shell</code></dd>\n",
       "            </dl>\n",
       "        </div>\n",
       "        "
      ],
      "text/plain": [
       "<SparkContext master=local[4] appName=pyspark-shell>"
      ]
     },
     "execution_count": 22,
     "metadata": {},
     "output_type": "execute_result"
    }
   ],
   "source": [
    "from pyspark import SparkContext\n",
    "sc = SparkContext(master=\"local[4]\")\n",
    "sc"
   ]
  },
  {
   "cell_type": "code",
   "execution_count": 23,
   "metadata": {},
   "outputs": [],
   "source": [
    "import pandas as pd\n",
    "import numpy as np\n",
    "import os\n",
    "from sklearn.ensemble import GradientBoostingClassifier\n",
    "from spark_sklearn import GridSearchCV"
   ]
  },
  {
   "cell_type": "code",
   "execution_count": 32,
   "metadata": {},
   "outputs": [
    {
     "name": "stdout",
     "output_type": "stream",
     "text": [
      "Populating the interactive namespace from numpy and matplotlib\n"
     ]
    }
   ],
   "source": [
    "from pyspark.sql import SQLContext\n",
    "from pyspark.sql.types import Row, StructField, StructType, StringType, IntegerType\n",
    "%pylab inline"
   ]
  },
  {
   "cell_type": "code",
   "execution_count": null,
   "metadata": {},
   "outputs": [],
   "source": [
    "from pyspark.ml import Pipeline\n",
    "from pyspark.mllib.tree import GradientBoostedTrees, GradientBoostedTreesModel\n",
    "from pyspark.ml.feature import StandardScaler, Binarizer"
   ]
  },
  {
   "cell_type": "code",
   "execution_count": null,
   "metadata": {},
   "outputs": [],
   "source": [
    "X_train = pd.read_csv('data/X_train')\n",
    "X_test = pd.read_csv('data/X_test')\n",
    "y_train = pd.read_csv('data/y_train')\n",
    "y_test = pd.read_csv('data/y_test')"
   ]
  },
  {
   "cell_type": "code",
   "execution_count": 34,
   "metadata": {
    "collapsed": true
   },
   "outputs": [],
   "source": [
    "sqlContext = SQLContext(sc)"
   ]
  },
  {
   "cell_type": "code",
   "execution_count": 35,
   "metadata": {},
   "outputs": [],
   "source": [
    "X_train_spark = sqlContext.createDataFrame(X_train)\n",
    "X_test_spark = sqlContext.createDataFrame(X_test)\n",
    "y_train_spark = sqlContext.createDataFrame(y_train)\n",
    "y_test_spark = sqlContext.createDataFrame(y_test)"
   ]
  },
  {
   "cell_type": "code",
   "execution_count": 36,
   "metadata": {},
   "outputs": [
    {
     "data": {
      "text/plain": [
       "Row(age=30, campaign=1, pdays=999, previous=0, emp.var.rate=-1.8, cons.price.idx=92.89299999999999, cons.conf.idx=-46.2, euribor3m=1.2990000000000002, nr.employed=5099.1, month_total_days=31, is_holiday=0, biz_payday=0, govt_payday=0, poutcome_nonexistent=1, poutcome_success=0, job_blue-collar=1, job_entrepreneur=0, job_housemaid=0, job_management=0, job_retired=0, job_self-employed=0, job_services=0, job_student=0, job_technician=0, job_unemployed=0, job_unknown=0, marital_married=1, marital_single=0, marital_unknown=0, education_basic.6y=1, education_basic.9y=0, education_high.school=0, education_illiterate=0, education_professional.course=0, education_university.degree=0, education_unknown=0, default_unknown=1, default_yes=0, housing_unknown=0, housing_yes=1, loan_unknown=0, loan_yes=0, month_last_contact_aug=0, month_last_contact_dec=0, month_last_contact_jul=0, month_last_contact_jun=0, month_last_contact_mar=0, month_last_contact_may=1, month_last_contact_nov=0, month_last_contact_oct=0, month_last_contact_sep=0, day_of_week_last_contact_mon=1, day_of_week_last_contact_thu=0, day_of_week_last_contact_tue=0, day_of_week_last_contact_wed=0, holiday_name_Implantação da República=0, holiday_name_No Holiday=1, holiday_name_Restauração da Independência=0, weekday_1=0, weekday_2=0, weekday_3=0, weekday_4=0, year_2009=1, year_2010=0, month_4=0, month_5=1, month_6=0, month_7=0, month_8=0, month_9=0, month_10=0, month_11=0, month_12=0, new_lead=1, new_prospect=0, old_prospect=0, age_bin_1=0, age_bin_2=0, age_bin_3=0, previous_bin_1=0, previous_bin_2=0, previous_bin_3=0, campaign_bin_1=0, campaign_bin_2=0, campaign_bin_3=0, pdays_bin_3=1, contact_telephone=0)"
      ]
     },
     "execution_count": 36,
     "metadata": {},
     "output_type": "execute_result"
    }
   ],
   "source": [
    "X_train_spark.head(2)"
   ]
  },
  {
   "cell_type": "code",
   "execution_count": 37,
   "metadata": {},
   "outputs": [
    {
     "name": "stdout",
     "output_type": "stream",
     "text": [
      "root\n",
      " |-- age: long (nullable = true)\n",
      " |-- campaign: long (nullable = true)\n",
      " |-- pdays: long (nullable = true)\n",
      " |-- previous: long (nullable = true)\n",
      " |-- emp.var.rate: double (nullable = true)\n",
      " |-- cons.price.idx: double (nullable = true)\n",
      " |-- cons.conf.idx: double (nullable = true)\n",
      " |-- euribor3m: double (nullable = true)\n",
      " |-- nr.employed: double (nullable = true)\n",
      " |-- month_total_days: long (nullable = true)\n",
      " |-- is_holiday: long (nullable = true)\n",
      " |-- biz_payday: long (nullable = true)\n",
      " |-- govt_payday: long (nullable = true)\n",
      " |-- poutcome_nonexistent: long (nullable = true)\n",
      " |-- poutcome_success: long (nullable = true)\n",
      " |-- job_blue-collar: long (nullable = true)\n",
      " |-- job_entrepreneur: long (nullable = true)\n",
      " |-- job_housemaid: long (nullable = true)\n",
      " |-- job_management: long (nullable = true)\n",
      " |-- job_retired: long (nullable = true)\n",
      " |-- job_self-employed: long (nullable = true)\n",
      " |-- job_services: long (nullable = true)\n",
      " |-- job_student: long (nullable = true)\n",
      " |-- job_technician: long (nullable = true)\n",
      " |-- job_unemployed: long (nullable = true)\n",
      " |-- job_unknown: long (nullable = true)\n",
      " |-- marital_married: long (nullable = true)\n",
      " |-- marital_single: long (nullable = true)\n",
      " |-- marital_unknown: long (nullable = true)\n",
      " |-- education_basic.6y: long (nullable = true)\n",
      " |-- education_basic.9y: long (nullable = true)\n",
      " |-- education_high.school: long (nullable = true)\n",
      " |-- education_illiterate: long (nullable = true)\n",
      " |-- education_professional.course: long (nullable = true)\n",
      " |-- education_university.degree: long (nullable = true)\n",
      " |-- education_unknown: long (nullable = true)\n",
      " |-- default_unknown: long (nullable = true)\n",
      " |-- default_yes: long (nullable = true)\n",
      " |-- housing_unknown: long (nullable = true)\n",
      " |-- housing_yes: long (nullable = true)\n",
      " |-- loan_unknown: long (nullable = true)\n",
      " |-- loan_yes: long (nullable = true)\n",
      " |-- month_last_contact_aug: long (nullable = true)\n",
      " |-- month_last_contact_dec: long (nullable = true)\n",
      " |-- month_last_contact_jul: long (nullable = true)\n",
      " |-- month_last_contact_jun: long (nullable = true)\n",
      " |-- month_last_contact_mar: long (nullable = true)\n",
      " |-- month_last_contact_may: long (nullable = true)\n",
      " |-- month_last_contact_nov: long (nullable = true)\n",
      " |-- month_last_contact_oct: long (nullable = true)\n",
      " |-- month_last_contact_sep: long (nullable = true)\n",
      " |-- day_of_week_last_contact_mon: long (nullable = true)\n",
      " |-- day_of_week_last_contact_thu: long (nullable = true)\n",
      " |-- day_of_week_last_contact_tue: long (nullable = true)\n",
      " |-- day_of_week_last_contact_wed: long (nullable = true)\n",
      " |-- holiday_name_Implantação da República: long (nullable = true)\n",
      " |-- holiday_name_No Holiday: long (nullable = true)\n",
      " |-- holiday_name_Restauração da Independência: long (nullable = true)\n",
      " |-- weekday_1: long (nullable = true)\n",
      " |-- weekday_2: long (nullable = true)\n",
      " |-- weekday_3: long (nullable = true)\n",
      " |-- weekday_4: long (nullable = true)\n",
      " |-- year_2009: long (nullable = true)\n",
      " |-- year_2010: long (nullable = true)\n",
      " |-- month_4: long (nullable = true)\n",
      " |-- month_5: long (nullable = true)\n",
      " |-- month_6: long (nullable = true)\n",
      " |-- month_7: long (nullable = true)\n",
      " |-- month_8: long (nullable = true)\n",
      " |-- month_9: long (nullable = true)\n",
      " |-- month_10: long (nullable = true)\n",
      " |-- month_11: long (nullable = true)\n",
      " |-- month_12: long (nullable = true)\n",
      " |-- new_lead: long (nullable = true)\n",
      " |-- new_prospect: long (nullable = true)\n",
      " |-- old_prospect: long (nullable = true)\n",
      " |-- age_bin_1: long (nullable = true)\n",
      " |-- age_bin_2: long (nullable = true)\n",
      " |-- age_bin_3: long (nullable = true)\n",
      " |-- previous_bin_1: long (nullable = true)\n",
      " |-- previous_bin_2: long (nullable = true)\n",
      " |-- previous_bin_3: long (nullable = true)\n",
      " |-- campaign_bin_1: long (nullable = true)\n",
      " |-- campaign_bin_2: long (nullable = true)\n",
      " |-- campaign_bin_3: long (nullable = true)\n",
      " |-- pdays_bin_3: long (nullable = true)\n",
      " |-- contact_telephone: long (nullable = true)\n",
      "\n"
     ]
    }
   ],
   "source": [
    "X_train_spark.printSchema()"
   ]
  },
  {
   "cell_type": "code",
   "execution_count": 38,
   "metadata": {
    "collapsed": true
   },
   "outputs": [],
   "source": [
    "#X_train_spark.registerTempTable(\"X_train\")\n",
    "#X_test_spark.registerTempTable(\"X_test\")\n",
    "#X_train_spark.registerTempTable(\"y_train\")\n",
    "#X_test_spark.registerTempTable(\"y_test\")"
   ]
  },
  {
   "cell_type": "code",
   "execution_count": null,
   "metadata": {},
   "outputs": [],
   "source": [
    "#recreating preprocessing pipeline"
   ]
  },
  {
   "cell_type": "code",
   "execution_count": null,
   "metadata": {},
   "outputs": [],
   "source": []
  },
  {
   "cell_type": "code",
   "execution_count": null,
   "metadata": {},
   "outputs": [],
   "source": []
  },
  {
   "cell_type": "code",
   "execution_count": null,
   "metadata": {},
   "outputs": [],
   "source": []
  },
  {
   "cell_type": "code",
   "execution_count": null,
   "metadata": {},
   "outputs": [],
   "source": []
  },
  {
   "cell_type": "code",
   "execution_count": null,
   "metadata": {},
   "outputs": [],
   "source": []
  },
  {
   "cell_type": "code",
   "execution_count": null,
   "metadata": {},
   "outputs": [],
   "source": []
  },
  {
   "cell_type": "code",
   "execution_count": null,
   "metadata": {},
   "outputs": [],
   "source": [
    "scaler = StandardScaler(inputCol=\"features\", outputCol=\"scaledFeatures\",\n",
    "                        withStd=True, withMean=False)"
   ]
  },
  {
   "cell_type": "code",
   "execution_count": null,
   "metadata": {},
   "outputs": [],
   "source": [
    "binarizer = Binarizer(threshold=0.5, inputCol=\"feature\", outputCol=\"binarized_feature\")"
   ]
  },
  {
   "cell_type": "code",
   "execution_count": null,
   "metadata": {},
   "outputs": [],
   "source": [
    "#Recreating model\n",
    "\"\"\"\n",
    "GradientBoostingClassifier(criterion='friedman_mse', init=None,\n",
    "              learning_rate=0.5, loss='deviance', max_depth=3,\n",
    "              max_features=None, max_leaf_nodes=None,\n",
    "              min_impurity_decrease=0.0, min_impurity_split=None,\n",
    "              min_samples_leaf=1, min_samples_split=2,\n",
    "              min_weight_fraction_leaf=0.0, n_estimators=100,\n",
    "              n_iter_no_change=None, presort='auto', random_state=1,\n",
    "              subsample=1.0, tol=0.0001, validation_fraction=0.1,\n",
    "              verbose=0, warm_start=False)\n",
    "              \"\"\""
   ]
  },
  {
   "cell_type": "code",
   "execution_count": null,
   "metadata": {
    "collapsed": true
   },
   "outputs": [],
   "source": [
    "model = GradientBoostedTrees.trainClassifier(X_train_spark, {}, loss = 'logLoss',\n",
    "                                             maxDepth = 3,\n",
    "                                             maxBins = 6, #might need to change this\n",
    "                                             numIterations=10)"
   ]
  },
  {
   "cell_type": "code",
   "execution_count": null,
   "metadata": {
    "collapsed": true
   },
   "outputs": [],
   "source": [
    "model.numTrees()"
   ]
  },
  {
   "cell_type": "code",
   "execution_count": null,
   "metadata": {
    "collapsed": true
   },
   "outputs": [],
   "source": [
    "pipeline = Pipeline(stages=[tokenizer, hashingTF, lr])"
   ]
  },
  {
   "cell_type": "code",
   "execution_count": null,
   "metadata": {
    "collapsed": true
   },
   "outputs": [],
   "source": []
  },
  {
   "cell_type": "code",
   "execution_count": 2,
   "metadata": {},
   "outputs": [],
   "source": [
    "#sc.stop()"
   ]
  },
  {
   "cell_type": "code",
   "execution_count": null,
   "metadata": {},
   "outputs": [],
   "source": []
  }
 ],
 "metadata": {
  "kernelspec": {
   "display_name": "py36",
   "language": "python",
   "name": "py36"
  },
  "language_info": {
   "codemirror_mode": {
    "name": "ipython",
    "version": 3
   },
   "file_extension": ".py",
   "mimetype": "text/x-python",
   "name": "python",
   "nbconvert_exporter": "python",
   "pygments_lexer": "ipython3",
   "version": "3.6.7"
  }
 },
 "nbformat": 4,
 "nbformat_minor": 2
}
