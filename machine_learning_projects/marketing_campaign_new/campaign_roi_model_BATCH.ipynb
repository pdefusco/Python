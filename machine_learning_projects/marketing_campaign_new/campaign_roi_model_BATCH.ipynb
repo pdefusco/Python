{
 "cells": [
  {
   "cell_type": "markdown",
   "metadata": {
    "collapsed": true
   },
   "source": [
    "### Campaign ROI Model"
   ]
  },
  {
   "cell_type": "markdown",
   "metadata": {},
   "source": [
    "- Notebook Assumption 1: phone calls to leads are independent with respect to one another and we do not treat this as a time series problem\n",
    "- Notebook Assumption 2: **the data scientist is working with the entire dataset of campaign phone calls, ranging from May 2008 to November 2010, and is performing the work after the campaign has ended e.g. December 2010**"
   ]
  },
  {
   "cell_type": "markdown",
   "metadata": {},
   "source": [
    "- Task 1: create classification model to identify whether if a customer will subscribe to a term deposit offer\n",
    "- Task 2: create a forecasting model using key economic variables to predict key economic indicators into the future\n",
    "- Final Objective: calculate future marketing campaign ROI using task 1 and 2 as inputs"
   ]
  },
  {
   "cell_type": "markdown",
   "metadata": {},
   "source": [
    "- A higher avg customer clv will allow for a proportionally lower decision threshold, and viceversa\n",
    "- Duration cannot be used"
   ]
  },
  {
   "cell_type": "code",
   "execution_count": 1,
   "metadata": {
    "collapsed": true
   },
   "outputs": [],
   "source": [
    "%matplotlib inline\n",
    "import matplotlib as mpl\n",
    "import matplotlib.pyplot as plt\n",
    "import seaborn as sns\n",
    "import os\n",
    "from datetime import datetime, timedelta"
   ]
  },
  {
   "cell_type": "code",
   "execution_count": 2,
   "metadata": {
    "collapsed": true
   },
   "outputs": [],
   "source": [
    "import warnings\n",
    "warnings.filterwarnings(\"ignore\", category=DeprecationWarning)\n",
    "warnings.filterwarnings('ignore', 'lbfgs failed to converge*')\n",
    "warnings.filterwarnings('ignore', 'Data with input dtype int64*')\n",
    "warnings.filterwarnings('ignore', 'The default value*')"
   ]
  },
  {
   "cell_type": "code",
   "execution_count": 3,
   "metadata": {
    "collapsed": true
   },
   "outputs": [],
   "source": [
    "from sklearn.linear_model import LogisticRegression\n",
    "from sklearn.linear_model import RidgeClassifier\n",
    "from sklearn.linear_model import SGDClassifier\n",
    "from sklearn.linear_model import PassiveAggressiveClassifier\n",
    "from sklearn.neighbors import KNeighborsClassifier\n",
    "from sklearn.tree import DecisionTreeClassifier\n",
    "from sklearn.tree import ExtraTreeClassifier\n",
    "from sklearn.svm import SVC\n",
    "from sklearn.naive_bayes import GaussianNB\n",
    "from sklearn.ensemble import AdaBoostClassifier\n",
    "from sklearn.ensemble import BaggingClassifier\n",
    "from sklearn.ensemble import RandomForestClassifier\n",
    "from sklearn.ensemble import ExtraTreesClassifier\n",
    "from sklearn.ensemble import GradientBoostingClassifier\n",
    "from sklearn.linear_model import SGDClassifier"
   ]
  },
  {
   "cell_type": "code",
   "execution_count": 4,
   "metadata": {
    "collapsed": true
   },
   "outputs": [],
   "source": [
    "import pandas as pd\n",
    "import numpy as np\n",
    "from sklearn.metrics import log_loss, mean_squared_error\n",
    "from sklearn.preprocessing import StandardScaler, OneHotEncoder, OrdinalEncoder, LabelEncoder, Binarizer, LabelBinarizer\n",
    "from sklearn.model_selection import TimeSeriesSplit, GridSearchCV, train_test_split, cross_val_score, StratifiedKFold\n",
    "from sklearn.metrics import accuracy_score, recall_score, precision_score, confusion_matrix"
   ]
  },
  {
   "cell_type": "code",
   "execution_count": 5,
   "metadata": {
    "collapsed": true
   },
   "outputs": [],
   "source": [
    "from sklearn.compose import ColumnTransformer\n",
    "from sklearn.pipeline import Pipeline"
   ]
  },
  {
   "cell_type": "code",
   "execution_count": 6,
   "metadata": {
    "collapsed": true
   },
   "outputs": [],
   "source": [
    "df = pd.read_pickle('data/data_ready.pickle')"
   ]
  },
  {
   "cell_type": "code",
   "execution_count": 7,
   "metadata": {
    "collapsed": true
   },
   "outputs": [],
   "source": [
    "df.drop('duration', axis=1, inplace=True)"
   ]
  },
  {
   "cell_type": "code",
   "execution_count": 8,
   "metadata": {
    "collapsed": true
   },
   "outputs": [],
   "source": [
    "#One more check: no nulls so no need to use imputers in pipeline\n",
    "#df.isnull().sum()"
   ]
  },
  {
   "cell_type": "code",
   "execution_count": 9,
   "metadata": {
    "collapsed": true
   },
   "outputs": [],
   "source": [
    "#not just of type numeric, but actual numeric on a scale - excludes binary and ordinal categorical attributes\n",
    "#the below attributes will be scaled in the Pipeline\n",
    "numeric_features = ['age', 'campaign', 'pdays', 'previous', 'emp.var.rate', 'cons.price.idx',\n",
    "                   'cons.conf.idx', 'euribor3m', 'nr.employed', 'month_total_days','month', 'day']"
   ]
  },
  {
   "cell_type": "code",
   "execution_count": 10,
   "metadata": {
    "collapsed": true
   },
   "outputs": [],
   "source": [
    "binary_features = ['biz_payday', 'govt_payday', 'is_holiday']"
   ]
  },
  {
   "cell_type": "code",
   "execution_count": 11,
   "metadata": {
    "collapsed": true
   },
   "outputs": [],
   "source": [
    "#outcome is y,n,unknown\n",
    "categorical_features = ['poutcome', 'job', 'marital', 'education', 'default', 'housing', 'loan', \n",
    "                       'month_last_contact', 'day_of_week_last_contact', 'holiday_name', 'weekday', \n",
    "                       'year']"
   ]
  },
  {
   "cell_type": "code",
   "execution_count": 12,
   "metadata": {
    "collapsed": true
   },
   "outputs": [],
   "source": [
    "label_binary = ['contact']"
   ]
  },
  {
   "cell_type": "code",
   "execution_count": 13,
   "metadata": {},
   "outputs": [
    {
     "name": "stdout",
     "output_type": "stream",
     "text": [
      "High class imbalance:\n",
      "\n"
     ]
    },
    {
     "data": {
      "image/png": "[encoded data removed]",
      "text/plain": [
       "<Figure size 288x216 with 1 Axes>"
      ]
     },
     "metadata": {
      "needs_background": "light"
     },
     "output_type": "display_data"
    }
   ],
   "source": [
    "print(\"High class imbalance:\\n\")\n",
    "fig, ax = plt.subplots(figsize=(4,3))\n",
    "sns.countplot(x=\"y\", data=df)\n",
    "plt.title('Y Class Imbalance')\n",
    "plt.show()"
   ]
  },
  {
   "cell_type": "code",
   "execution_count": 14,
   "metadata": {
    "collapsed": true
   },
   "outputs": [],
   "source": [
    "#passthrough = ['year', 'month', 'day']"
   ]
  },
  {
   "cell_type": "code",
   "execution_count": 15,
   "metadata": {
    "collapsed": true
   },
   "outputs": [],
   "source": [
    "#Models to be evaluated - can be modified/overridden to include more\n",
    "def models():\n",
    "    models = {}\n",
    "    models['log'] = (LogisticRegression(solver='lbfgs', class_weight='balanced', random_state=1), {'C':[0.01, 0.1, 1]})\n",
    "    models['ridge'] = (RidgeClassifier(class_weight='balanced', random_state=1), {'alpha':[0.01, 0.1, 1]})\n",
    "    #models['svc'] = (SVC(class_weight='balanced'), {'C':[0.1, 1], 'gamma':['auto']})\n",
    "    models['ada'] = (AdaBoostClassifier(random_state=1), {'learning_rate':[0.5, 1]})\n",
    "    models['gbm'] = (GradientBoostingClassifier(random_state=1), {'learning_rate':[0.5, 1]})\n",
    "    #models['gaus_nb'] = (GaussianNB(), {'var_smoothing':[1e-9, 1]})\n",
    "    \n",
    "    models['bagging_class'] = (BaggingClassifier(random_state=1), {'n_estimators':[7,12], 'max_samples':[1,5]})\n",
    "    models['rf_class'] = (RandomForestClassifier(class_weight='balanced', random_state=1), {'max_depth':[100, 1000], 'max_leaf_nodes':[10, 20, 30]})\n",
    "    \n",
    "    return models"
   ]
  },
  {
   "cell_type": "code",
   "execution_count": 16,
   "metadata": {
    "collapsed": true
   },
   "outputs": [],
   "source": [
    "#Split data between training and test sets\n",
    "def split_data(df, target_name, test_size):\n",
    "\n",
    "    X = df.drop(str(target_name), axis=1)\n",
    "    y = df[str(target_name)]\n",
    "\n",
    "    X_train, X_test, y_train, y_test = train_test_split(X, y, test_size=test_size, random_state = 1)\n",
    "\n",
    "    return X_train, X_test, y_train, y_test"
   ]
  },
  {
   "cell_type": "code",
   "execution_count": 17,
   "metadata": {
    "collapsed": true
   },
   "outputs": [],
   "source": [
    "def processing_pipeline(numeric_features, categorical_features, bin_features, lab_bin_features, classifier):\n",
    "\n",
    "    #numeric_features and categorical_features must be lists\n",
    "\n",
    "    numeric_transformer = Pipeline(steps=[\n",
    "        #('imputer', SimpleImputer(strategy='mean')),\n",
    "        ('scaler', StandardScaler())])\n",
    "\n",
    "    categorical_transformer = Pipeline(steps=[\n",
    "        #('imputer', SimpleImputer(strategy='most_frequent')),\n",
    "        ('onehot', OneHotEncoder(handle_unknown='ignore'))])\n",
    "    \n",
    "    binary_transformer = Pipeline(steps=[\n",
    "        #('imputer', SimpleImputer(strategy='most_frequent')),\n",
    "        ('binary', Binarizer())])\n",
    "    \n",
    "    label_binary_transformer = Pipeline(steps=[\n",
    "        #('imputer', SimpleImputer(strategy='most_frequent')),\n",
    "        ('label_binary', OneHotEncoder(sparse=False))])\n",
    "    \n",
    "    #intact_transformer = Pipeline(steps=[\n",
    "    #    ('intact', )\n",
    "    #])\n",
    "\n",
    "    preprocessor = ColumnTransformer(\n",
    "    transformers=[\n",
    "        ('num', numeric_transformer, numeric_features),\n",
    "        ('cat', categorical_transformer, categorical_features),\n",
    "        ('bin', binary_transformer, bin_features), \n",
    "        ('lab_bin', label_binary_transformer, lab_bin_features) \n",
    "    ], \n",
    "        #setting remainder to passthrough so features that are not included are not dropped\n",
    "        remainder='passthrough')\n",
    "\n",
    "    # Append classifier to preprocessing pipeline.\n",
    "    # Now we have a full prediction pipeline.\n",
    "    pipe = Pipeline(steps=[('preprocessor', preprocessor),\n",
    "                          ('clf', classifier)])\n",
    "\n",
    "    return pipe"
   ]
  },
  {
   "cell_type": "code",
   "execution_count": 18,
   "metadata": {
    "collapsed": true
   },
   "outputs": [],
   "source": [
    "#Evaluate classifiers:\n",
    "def evaluate_classifier(X_train, X_test, y_train, y_test, pipe, classifier_paramgrid, metric):\n",
    "\n",
    "    #NB: classifier_paramgrid should be a tuple with the classifier and its associated param grid for GridsearchCV\n",
    "\n",
    "    classifier, param_grid = classifier_paramgrid[0], classifier_paramgrid[1]\n",
    "\n",
    "    new_param_grid = {}\n",
    "    for i,k in param_grid.items():\n",
    "        j = 'clf__'+i\n",
    "        new_param_grid[j] = k\n",
    "\n",
    "    #Using stratified kfold to address imbalanced classes in target feature:\n",
    "    cv = StratifiedKFold(n_splits=5, random_state=1)\n",
    "    \n",
    "    #Customization for timeseries: using TimeSeriesSplit\n",
    "    #cv = TimeSeriesSplit(n_splits=2)\n",
    "\n",
    "    gs = GridSearchCV(estimator=pipe, param_grid=[new_param_grid], n_jobs=-1, cv=cv, scoring=metric)\n",
    "\n",
    "    gs.fit(X_train, y_train)\n",
    "\n",
    "    cv_metric = cross_val_score(gs, X_train, y_train, cv=cv)\n",
    "\n",
    "    print(\"\\n---------\")\n",
    "    print(\"Model Evaluated: \", gs.best_estimator_.named_steps['clf'])\n",
    "    print(\"Training {} Mean with CV: {}\".format(metric, cv_metric.mean()))\n",
    "    print(\"Training {} Standard Dev with CV: {}\".format(metric, cv_metric.std()))\n",
    "    print(\"Test Score: %.3f\" % gs.score(X_test, y_test))\n",
    "\n",
    "    return cv_metric"
   ]
  },
  {
   "cell_type": "code",
   "execution_count": 19,
   "metadata": {
    "collapsed": true
   },
   "outputs": [],
   "source": [
    "#Main function to execute the workflow\n",
    "def execute_spotcheck(df, target_name, test_size, numeric_features, categorical_features, bin_features, lab_bin_features):\n",
    "\n",
    "    #Split the data so to leave a final test set to avoid data leakage\n",
    "    X_train, X_test, y_train, y_test = split_data(df, target_name, test_size)\n",
    "\n",
    "    #Create a dictionary holding models that will be evaluated\n",
    "    models_tested = models()\n",
    "\n",
    "    model_results = {}\n",
    "\n",
    "    for k, (model, params) in models_tested.items():\n",
    "        #Create pipeline to apply the same transformations to each model evaluated\n",
    "        pipe = processing_pipeline(numeric_features, categorical_features, bin_features, lab_bin_features, model)\n",
    "        cv_metric = evaluate_classifier(X_train, X_test, y_train, y_test, pipe, (model, params), 'accuracy')\n",
    "        model_results[k] = cv_metric\n",
    "\n",
    "    return model_results, models_tested"
   ]
  },
  {
   "cell_type": "code",
   "execution_count": 20,
   "metadata": {
    "collapsed": true
   },
   "outputs": [],
   "source": [
    "#Simple visualization of outcomes:\n",
    "def visualize_results(model_results, models_tested):\n",
    "    \n",
    "    models_report = pd.DataFrame(model_results, columns=list(models_tested.keys()))\n",
    "    \n",
    "    fig, ax1 = plt.subplots(figsize=(len(models_report.columns)*3,4))\n",
    "    sns.boxplot(data=models_report, ax=ax1)\n",
    "    plt.suptitle('Model Evaluation Report')\n",
    "    plt.show()"
   ]
  },
  {
   "cell_type": "code",
   "execution_count": 21,
   "metadata": {},
   "outputs": [
    {
     "name": "stdout",
     "output_type": "stream",
     "text": [
      "\n",
      "---------\n",
      "Model Evaluated:  LogisticRegression(C=1, class_weight='balanced', dual=False,\n",
      "          fit_intercept=True, intercept_scaling=1, max_iter=100,\n",
      "          multi_class='warn', n_jobs=None, penalty='l2', random_state=1,\n",
      "          solver='lbfgs', tol=0.0001, verbose=0, warm_start=False)\n",
      "Training accuracy Mean with CV: 0.8309864749486247\n",
      "Training accuracy Standard Dev with CV: 0.0025438435467159516\n",
      "Test Score: 0.835\n",
      "\n",
      "---------\n",
      "Model Evaluated:  RidgeClassifier(alpha=1, class_weight='balanced', copy_X=True,\n",
      "        fit_intercept=True, max_iter=None, normalize=False, random_state=1,\n",
      "        solver='auto', tol=0.001)\n",
      "Training accuracy Mean with CV: 0.8277087860531191\n",
      "Training accuracy Standard Dev with CV: 0.002795631088388556\n",
      "Test Score: 0.832\n",
      "\n",
      "---------\n",
      "Model Evaluated:  AdaBoostClassifier(algorithm='SAMME.R', base_estimator=None,\n",
      "          learning_rate=0.5, n_estimators=50, random_state=1)\n",
      "Training accuracy Mean with CV: 0.9000303020478478\n",
      "Training accuracy Standard Dev with CV: 0.0012267600650206932\n",
      "Test Score: 0.899\n",
      "\n",
      "---------\n",
      "Model Evaluated:  GradientBoostingClassifier(criterion='friedman_mse', init=None,\n",
      "              learning_rate=0.5, loss='deviance', max_depth=3,\n",
      "              max_features=None, max_leaf_nodes=None,\n",
      "              min_impurity_decrease=0.0, min_impurity_split=None,\n",
      "              min_samples_leaf=1, min_samples_split=2,\n",
      "              min_weight_fraction_leaf=0.0, n_estimators=100,\n",
      "              n_iter_no_change=None, presort='auto', random_state=1,\n",
      "              subsample=1.0, tol=0.0001, validation_fraction=0.1,\n",
      "              verbose=0, warm_start=False)\n",
      "Training accuracy Mean with CV: 0.8982092000124107\n",
      "Training accuracy Standard Dev with CV: 0.003234757460515432\n",
      "Test Score: 0.897\n",
      "\n",
      "---------\n",
      "Model Evaluated:  BaggingClassifier(base_estimator=None, bootstrap=True,\n",
      "         bootstrap_features=False, max_features=1.0, max_samples=1,\n",
      "         n_estimators=7, n_jobs=None, oob_score=False, random_state=1,\n",
      "         verbose=0, warm_start=False)\n",
      "Training accuracy Mean with CV: 0.8878300490952589\n",
      "Training accuracy Standard Dev with CV: 5.2595947254463325e-05\n",
      "Test Score: 0.885\n",
      "\n",
      "---------\n",
      "Model Evaluated:  RandomForestClassifier(bootstrap=True, class_weight='balanced',\n",
      "            criterion='gini', max_depth=100, max_features='auto',\n",
      "            max_leaf_nodes=30, min_impurity_decrease=0.0,\n",
      "            min_impurity_split=None, min_samples_leaf=1,\n",
      "            min_samples_split=2, min_weight_fraction_leaf=0.0,\n",
      "            n_estimators=10, n_jobs=None, oob_score=False, random_state=1,\n",
      "            verbose=0, warm_start=False)\n",
      "Training accuracy Mean with CV: 0.8458270322741154\n",
      "Training accuracy Standard Dev with CV: 0.0049898977143319105\n",
      "Test Score: 0.850\n"
     ]
    }
   ],
   "source": [
    "model_results, models_tested = execute_spotcheck(df, 'y', 0.2, numeric_features, categorical_features, binary_features, label_binary)"
   ]
  },
  {
   "cell_type": "code",
   "execution_count": 22,
   "metadata": {},
   "outputs": [
    {
     "data": {
      "image/png": "[encoded data removed]",
      "text/plain": [
       "<Figure size 1296x288 with 1 Axes>"
      ]
     },
     "metadata": {
      "needs_background": "light"
     },
     "output_type": "display_data"
    }
   ],
   "source": [
    "visualize_results(model_results, models_tested)"
   ]
  },
  {
   "cell_type": "markdown",
   "metadata": {
    "collapsed": true
   },
   "source": [
    "Adaboost, Gradient Boosted Machine and the Bagging Classifier (unsurprisingly) show better results as they are different variations of ensembles that employ resampling strategies and thus tend to do well with imbalanced classes such as in this case. Next, we will analyze bias-complexity errors, confusion matrices, and try to pick one model to explore further refinement options such as feature engineering."
   ]
  },
  {
   "cell_type": "markdown",
   "metadata": {},
   "source": [
    "Notice we haven't conducted a fully exhaustive hyperparameter search yet so these results are not final, however they give us a good idea for what could have promising results. Furthermore, we will have the option to later search hyperparameters that yield better recall or precision rather than using accuracy as done so far."
   ]
  },
  {
   "cell_type": "code",
   "execution_count": 23,
   "metadata": {
    "collapsed": true
   },
   "outputs": [],
   "source": [
    "from yellowbrick.model_selection import ValidationCurve\n",
    "from yellowbrick.model_selection import LearningCurve\n",
    "from yellowbrick.classifier import ClassificationReport, PrecisionRecallCurve, ConfusionMatrix"
   ]
  },
  {
   "cell_type": "code",
   "execution_count": 24,
   "metadata": {
    "collapsed": true
   },
   "outputs": [],
   "source": [
    "cv = StratifiedKFold(5)\n",
    "sizes = np.linspace(0.3, 1.0, 10)"
   ]
  },
  {
   "cell_type": "code",
   "execution_count": 25,
   "metadata": {
    "collapsed": true
   },
   "outputs": [],
   "source": [
    "#run this just once:\n",
    "df_eval = df.copy()\n",
    "y = df_eval.y\n",
    "y = [1 if i == 'yes' else 0 for i in df_eval.y]\n",
    "df_eval.drop('y', axis=1, inplace=True)"
   ]
  },
  {
   "cell_type": "code",
   "execution_count": 27,
   "metadata": {
    "collapsed": true
   },
   "outputs": [],
   "source": [
    "X_train, X_test, y_train, y_test = train_test_split(df_eval, y, test_size=0.2, random_state = 1)"
   ]
  },
  {
   "cell_type": "markdown",
   "metadata": {},
   "source": [
    "Recreating the three classifiers with their best hyperparameters"
   ]
  },
  {
   "cell_type": "code",
   "execution_count": 28,
   "metadata": {
    "collapsed": true
   },
   "outputs": [],
   "source": [
    "best_ada = AdaBoostClassifier(algorithm='SAMME.R', base_estimator=None,\n",
    "          learning_rate=0.5, n_estimators=50, random_state=1)"
   ]
  },
  {
   "cell_type": "code",
   "execution_count": 29,
   "metadata": {
    "collapsed": true
   },
   "outputs": [],
   "source": [
    "pipe_ada = processing_pipeline(numeric_features, categorical_features, binary_features, label_binary, best_ada)"
   ]
  },
  {
   "cell_type": "code",
   "execution_count": 30,
   "metadata": {
    "collapsed": true
   },
   "outputs": [],
   "source": [
    "best_gbm = GradientBoostingClassifier(criterion='friedman_mse', init=None,\n",
    "              learning_rate=0.5, loss='deviance', max_depth=3,\n",
    "              max_features=None, max_leaf_nodes=None,\n",
    "              min_impurity_decrease=0.0, min_impurity_split=None,\n",
    "              min_samples_leaf=1, min_samples_split=2,\n",
    "              min_weight_fraction_leaf=0.0, n_estimators=100,\n",
    "              n_iter_no_change=None, presort='auto', random_state=1,\n",
    "              subsample=1.0, tol=0.0001, validation_fraction=0.1,\n",
    "              verbose=0, warm_start=False)"
   ]
  },
  {
   "cell_type": "code",
   "execution_count": 31,
   "metadata": {
    "collapsed": true
   },
   "outputs": [],
   "source": [
    "pipe_gbm = processing_pipeline(numeric_features, categorical_features, binary_features, label_binary, best_gbm)"
   ]
  },
  {
   "cell_type": "code",
   "execution_count": 32,
   "metadata": {
    "collapsed": true
   },
   "outputs": [],
   "source": [
    "best_bg = BaggingClassifier(base_estimator=None, bootstrap=True,\n",
    "         bootstrap_features=False, max_features=1.0, max_samples=1,\n",
    "         n_estimators=7, n_jobs=None, oob_score=False, random_state=1,\n",
    "         verbose=0, warm_start=False)"
   ]
  },
  {
   "cell_type": "code",
   "execution_count": 33,
   "metadata": {
    "collapsed": true
   },
   "outputs": [],
   "source": [
    "pipe_bg = processing_pipeline(numeric_features, categorical_features, binary_features, label_binary, best_bg)"
   ]
  },
  {
   "cell_type": "markdown",
   "metadata": {},
   "source": [
    "Visualizing Model Results"
   ]
  },
  {
   "cell_type": "code",
   "execution_count": 50,
   "metadata": {},
   "outputs": [
    {
     "name": "stderr",
     "output_type": "stream",
     "text": [
      "/Users/pauldefusco/anaconda2/envs/py36/lib/python3.6/site-packages/sklearn/metrics/classification.py:1143: UndefinedMetricWarning: Precision and F-score are ill-defined and being set to 0.0 in labels with no predicted samples.\n",
      "  'precision', 'predicted', average, warn_for)\n"
     ]
    },
    {
     "data": {
      "image/png": "[encoded data removed]",
      "text/plain": [
       "<Figure size 720x360 with 6 Axes>"
      ]
     },
     "metadata": {},
     "output_type": "display_data"
    },
    {
     "data": {
      "text/plain": [
       "<Figure size 576x396 with 0 Axes>"
      ]
     },
     "metadata": {},
     "output_type": "display_data"
    },
    {
     "data": {
      "text/plain": [
       "<Figure size 576x396 with 0 Axes>"
      ]
     },
     "metadata": {},
     "output_type": "display_data"
    }
   ],
   "source": [
    "fig, axes = plt.subplots(3,1,figsize=(10,5))\n",
    "\n",
    "cr_ada = ClassificationReport(pipe_ada, ax=axes[0], classes=['no', 'yes'])\n",
    "cr_ada.fit(X_train, y_train)\n",
    "cr_ada.score(X_test, y_test)\n",
    "\n",
    "cr_gbm = ClassificationReport(pipe_gbm, ax=axes[1], classes=['no', 'yes'])\n",
    "cr_gbm.fit(X_train, y_train)\n",
    "cr_gbm.score(X_test, y_test)\n",
    "\n",
    "cr_bg = ClassificationReport(pipe_bg, ax=axes[2], classes=['no', 'yes'])\n",
    "cr_bg.fit(X_train, y_train)\n",
    "cr_bg.score(X_test, y_test)\n",
    "\n",
    "axes[1].set(title='GBM Classification Report')\n",
    "axes[2].set(title='Bagging Classifier Classification Report')\n",
    "\n",
    "cr_ada.poof()\n",
    "cr_gbm.poof()\n",
    "cr_bg.poof()"
   ]
  },
  {
   "cell_type": "markdown",
   "metadata": {},
   "source": [
    "Learning curves are showing some variance for Ridge Classifier. Let's look at RandomForestClassifier next"
   ]
  },
  {
   "cell_type": "code",
   "execution_count": 49,
   "metadata": {},
   "outputs": [
    {
     "data": {
      "image/png": "[encoded data removed]",
      "text/plain": [
       "<Figure size 1224x288 with 3 Axes>"
      ]
     },
     "metadata": {},
     "output_type": "display_data"
    }
   ],
   "source": [
    "fig, axes = plt.subplots(nrows=1, ncols=3, figsize=(17,4))\n",
    "\n",
    "viz_vc_ada = ValidationCurve(\n",
    "    pipe_ada, param_name=\"clf__learning_rate\",\n",
    "    param_range=np.linspace(0.1,1, 6), cv=cv, scoring=\"accuracy\", ax=axes[0])\n",
    "\n",
    "viz_vc_ada.fit(X_train, y_train)\n",
    "\n",
    "viz_vc_gbm = ValidationCurve(\n",
    "    pipe_gbm, param_name=\"clf__learning_rate\",\n",
    "    param_range=np.linspace(0.1,1, 6), cv=cv, scoring=\"accuracy\", ax=axes[1])\n",
    "\n",
    "viz_vc_gbm.fit(X_train, y_train)\n",
    "\n",
    "viz_vc_bg = ValidationCurve(\n",
    "    pipe_bg, param_name=\"clf__n_estimators\",\n",
    "    param_range=[5,7,9,11], cv=cv, scoring=\"accuracy\", ax=axes[2])\n",
    "\n",
    "viz_vc_bg.fit(X_train, y_train)\n",
    "\n",
    "axes[1].set(title='Validation Curves for GBM', xlabel='Learning Rate', ylabel='Score')\n",
    "axes[2].set(title='Validation Curves for Gradient Boosting Classifier', xlabel='N Estimators', ylabel='Score')\n",
    "axes[1].legend().set_visible(True)\n",
    "axes[2].legend().set_visible(True)\n",
    "\n",
    "viz_vc_ada.poof()\n",
    "viz_vc_gbm.poof()\n",
    "viz_vc_bg.poof()"
   ]
  },
  {
   "cell_type": "code",
   "execution_count": 45,
   "metadata": {},
   "outputs": [
    {
     "data": {
      "image/png": "[encoded data removed]",
      "text/plain": [
       "<Figure size 1224x288 with 3 Axes>"
      ]
     },
     "metadata": {},
     "output_type": "display_data"
    }
   ],
   "source": [
    "fig, axes = plt.subplots(nrows=1, ncols=3, figsize=(17,4))\n",
    "\n",
    "viz_lc_ada = LearningCurve(\n",
    "    pipe_ada, train_sizes = np.linspace(0.1, 1.0, 10), cv=cv, ax=axes[0]\n",
    ")\n",
    "# Fit and poof the visualizer\n",
    "viz_lc_ada.fit(X_train, y_train)\n",
    "\n",
    "viz_lc_gbm = LearningCurve(\n",
    "    pipe_gbm, train_sizes = np.linspace(0.1, 1.0, 10), cv=cv, ax=axes[1]\n",
    ")\n",
    "# Fit and poof the visualizer\n",
    "viz_lc_gbm.fit(X_train, y_train)\n",
    "\n",
    "viz_lc_bg = LearningCurve(\n",
    "    pipe_bg, train_sizes = np.linspace(0.1, 1.0, 10), cv=cv, ax=axes[2]\n",
    ")\n",
    "# Fit and poof the visualizer\n",
    "viz_lc_bg.fit(X_train, y_train)\n",
    "\n",
    "axes[1].set(title='Learning Curves for GBM', xlabel='Training Instances', ylabel='Score')\n",
    "axes[2].set(title='Learning Curves for Bagging Classifier', xlabel='Training Instances', ylabel='Score')\n",
    "axes[1].legend().set_visible(True)\n",
    "axes[2].legend().set_visible(True)\n",
    "\n",
    "viz_lc_ada.poof()\n",
    "viz_lc_gbm.poof()\n",
    "viz_lc_bg.poof()"
   ]
  },
  {
   "cell_type": "code",
   "execution_count": 46,
   "metadata": {},
   "outputs": [
    {
     "data": {
      "image/png": "[encoded data removed]",
      "text/plain": [
       "<Figure size 1152x360 with 3 Axes>"
      ]
     },
     "metadata": {},
     "output_type": "display_data"
    }
   ],
   "source": [
    "fig, axes = plt.subplots(nrows=1, ncols=3, sharey=False, figsize=(16,5))\n",
    "\n",
    "viz_pc_ada = PrecisionRecallCurve(pipe_ada, ax=axes[0])\n",
    "viz_pc_ada.fit(X_train, y_train)\n",
    "viz_pc_ada.score(X_test, y_test)\n",
    "\n",
    "viz_pc_gbm = PrecisionRecallCurve(pipe_gbm, ax=axes[1])\n",
    "viz_pc_gbm.fit(X_train, y_train)\n",
    "viz_pc_gbm.score(X_test, y_test)\n",
    "\n",
    "viz_pc_bg = PrecisionRecallCurve(pipe_bg, ax=axes[2])\n",
    "viz_pc_bg.fit(X_train, y_train)\n",
    "viz_pc_bg.score(X_test, y_test)\n",
    "\n",
    "axes[1].set(title='Precision-Recall Curve for Gradient Boosting Machine', xlabel='Recall', ylabel='Precision')\n",
    "axes[2].set(title='Precision-Recall Curve for Bagging Classifier', xlabel='Recall', ylabel='Precision')\n",
    "axes[1].legend().set_visible(True)\n",
    "axes[2].legend().set_visible(True)\n",
    "\n",
    "viz_pc_ada.poof()\n",
    "viz_pc_gbm.poof()\n",
    "viz_pc_bg.poof()"
   ]
  },
  {
   "cell_type": "code",
   "execution_count": 48,
   "metadata": {},
   "outputs": [
    {
     "data": {
      "image/png": "[encoded data removed]",
      "text/plain": [
       "<Figure size 1152x360 with 3 Axes>"
      ]
     },
     "metadata": {},
     "output_type": "display_data"
    }
   ],
   "source": [
    "fig, axes = plt.subplots(nrows=1, ncols=3, sharey=False, figsize=(16,5))\n",
    "\n",
    "cm_ada = ConfusionMatrix(pipe_ada, classes=[0,1], ax=axes[0])\n",
    "cm_ada.fit(X_train, y_train)\n",
    "cm_ada.score(X_test, y_test)\n",
    "\n",
    "cm_gbm = ConfusionMatrix(pipe_gbm, classes=[0,1], ax=axes[1])\n",
    "cm_gbm.fit(X_train, y_train)\n",
    "cm_gbm.score(X_test, y_test)\n",
    "\n",
    "cm_bg = ConfusionMatrix(pipe_bg, classes=[0,1], ax=axes[2])\n",
    "cm_bg.fit(X_train, y_train)\n",
    "cm_bg.score(X_test, y_test)\n",
    "\n",
    "axes[1].set(title='GBM Confusion Matrix', xlabel='Predicted Class', ylabel='True Class')\n",
    "axes[2].set(title='Bagging Classifier Confusion Matrix', xlabel='Predicted Class', ylabel='True Class')\n",
    "\n",
    "cm_ada.poof()\n",
    "cm_gbm.poof()\n",
    "cm_bg.poof()"
   ]
  },
  {
   "cell_type": "markdown",
   "metadata": {},
   "source": [
    "The Gradient Boosted Classifier is showing great results. Let's try to improve them with new features. Notice that the features chosen for this dataset were already evaluated and selected from a wider domain: https://archive.ics.uci.edu/ml/datasets/bank+marketing "
   ]
  },
  {
   "cell_type": "markdown",
   "metadata": {},
   "source": [
    "Feature Engineering"
   ]
  },
  {
   "cell_type": "markdown",
   "metadata": {},
   "source": [
    "We start with Recursive Feature Elimination to obtain an estimate of feature importances"
   ]
  },
  {
   "cell_type": "code",
   "execution_count": 94,
   "metadata": {},
   "outputs": [
    {
     "data": {
      "text/plain": [
       "array([4.67681297e-02, 1.70491973e-02, 2.37123035e-02, 1.54520034e-02,\n",
       "       2.74005380e-02, 9.49033292e-03, 5.07718365e-02, 7.75962173e-02,\n",
       "       4.41023970e-01, 4.91130027e-03, 1.54254270e-02, 4.58940130e-02,\n",
       "       6.31764002e-03, 0.00000000e+00, 8.06258000e-02, 7.32759068e-04,\n",
       "       1.34065988e-03, 7.59211617e-04, 1.86371593e-04, 1.09994092e-03,\n",
       "       1.90795718e-03, 2.49191108e-03, 2.90846477e-03, 2.60025707e-03,\n",
       "       4.98067924e-03, 2.32875375e-03, 3.45750228e-03, 1.34410918e-03,\n",
       "       0.00000000e+00, 4.41617237e-04, 1.26685865e-03, 1.18141609e-03,\n",
       "       2.62022163e-03, 2.85126530e-03, 7.29606779e-04, 1.00713113e-04,\n",
       "       3.51567034e-03, 3.59789722e-03, 5.59984061e-03, 3.92919533e-03,\n",
       "       2.85891511e-04, 0.00000000e+00, 1.53026880e-03, 0.00000000e+00,\n",
       "       1.72698694e-03, 1.13850623e-03, 1.18467729e-03, 3.06229301e-03,\n",
       "       1.78715998e-03, 5.81839517e-04, 8.01513873e-05, 1.69140806e-03,\n",
       "       1.65227460e-03, 4.02272737e-04, 2.17203184e-03, 2.75226774e-03,\n",
       "       1.67654699e-02, 4.78991309e-04, 1.55321428e-03, 4.16132145e-03,\n",
       "       2.98687312e-03, 3.34494668e-03, 2.75152129e-03, 0.00000000e+00,\n",
       "       0.00000000e+00, 0.00000000e+00, 0.00000000e+00, 2.74509850e-03,\n",
       "       1.85343706e-03, 1.95155956e-03, 1.02209292e-03, 5.67438265e-03,\n",
       "       5.82605548e-05, 0.00000000e+00, 4.16722980e-03, 4.18457967e-04,\n",
       "       0.00000000e+00, 0.00000000e+00, 2.82321303e-03, 1.27843119e-02])"
      ]
     },
     "execution_count": 94,
     "metadata": {},
     "output_type": "execute_result"
    }
   ],
   "source": [
    "#Current feature importances for the GBM model:\n",
    "pipe_gbm.named_steps['clf'].feature_importances_"
   ]
  },
  {
   "cell_type": "markdown",
   "metadata": {},
   "source": [
    "Currently in Sklearn there is no way to use the get_feature_names() function on a Pipeline object. We will create some new features and include a feature elimination step in our pipeline object to eliminate unnecessary features. "
   ]
  },
  {
   "cell_type": "code",
   "execution_count": null,
   "metadata": {
    "collapsed": true
   },
   "outputs": [],
   "source": [
    "#Creating some new categorical features with binning:\n",
    "df['age_bin'] = pd.cut(df['age'], 4, labels = [0,1,2,3])\n",
    "#create new flag with number of days since, is new lead, etc."
   ]
  },
  {
   "cell_type": "code",
   "execution_count": null,
   "metadata": {
    "collapsed": true
   },
   "outputs": [],
   "source": []
  },
  {
   "cell_type": "code",
   "execution_count": null,
   "metadata": {
    "collapsed": true
   },
   "outputs": [],
   "source": []
  },
  {
   "cell_type": "code",
   "execution_count": null,
   "metadata": {
    "collapsed": true
   },
   "outputs": [],
   "source": []
  },
  {
   "cell_type": "markdown",
   "metadata": {},
   "source": [
    "Step 1: understand what currently are the features most correlated with y"
   ]
  },
  {
   "cell_type": "code",
   "execution_count": 128,
   "metadata": {},
   "outputs": [
    {
     "data": {
      "text/plain": [
       "year                          int64\n",
       "month                         int64\n",
       "day                           int64\n",
       "age                           int64\n",
       "job                          object\n",
       "marital                      object\n",
       "education                    object\n",
       "default                      object\n",
       "housing                      object\n",
       "loan                         object\n",
       "contact                      object\n",
       "month_last_contact           object\n",
       "day_of_week_last_contact     object\n",
       "campaign                      int64\n",
       "pdays                         int64\n",
       "previous                      int64\n",
       "poutcome                     object\n",
       "emp.var.rate                float64\n",
       "cons.price.idx              float64\n",
       "cons.conf.idx               float64\n",
       "euribor3m                   float64\n",
       "nr.employed                 float64\n",
       "y                            object\n",
       "weekday                       int64\n",
       "month_total_days              int64\n",
       "is_holiday                    int64\n",
       "holiday_name                 object\n",
       "biz_payday                    int64\n",
       "govt_payday                   int64\n",
       "dtype: object"
      ]
     },
     "execution_count": 128,
     "metadata": {},
     "output_type": "execute_result"
    }
   ],
   "source": [
    "df.dtypes"
   ]
  },
  {
   "cell_type": "code",
   "execution_count": 162,
   "metadata": {},
   "outputs": [],
   "source": [
    "cols = binary_features+ categorical_features"
   ]
  },
  {
   "cell_type": "code",
   "execution_count": 163,
   "metadata": {},
   "outputs": [],
   "source": [
    "cols.remove('year')"
   ]
  },
  {
   "cell_type": "code",
   "execution_count": 164,
   "metadata": {},
   "outputs": [],
   "source": [
    "cols.append('contact')"
   ]
  },
  {
   "cell_type": "code",
   "execution_count": 165,
   "metadata": {
    "collapsed": true
   },
   "outputs": [],
   "source": [
    "df_corr = pd.get_dummies(df, columns=cols)"
   ]
  },
  {
   "cell_type": "code",
   "execution_count": 166,
   "metadata": {
    "collapsed": true
   },
   "outputs": [],
   "source": [
    "df_corr['y'] = [1 if i == 'yes' else 0 for i in df.y]"
   ]
  },
  {
   "cell_type": "code",
   "execution_count": 167,
   "metadata": {},
   "outputs": [],
   "source": [
    "df_corr.reset_index(inplace=True)\n",
    "df_corr.drop('Date', axis=1, inplace=True)"
   ]
  },
  {
   "cell_type": "code",
   "execution_count": 173,
   "metadata": {},
   "outputs": [],
   "source": [
    "from scipy import stats\n",
    "import math\n",
    "#Correlation between independent features and (binary) target var\n",
    "pbcorr_list = []\n",
    "for i in df_corr.columns:\n",
    "    if math.isnan(stats.pointbiserialr(df_corr[i],df_corr['y'])[0]) != True:\n",
    "        pbcorr_list.append((str(i), stats.pointbiserialr(df_corr[i],df_corr['y'])[0]))"
   ]
  },
  {
   "cell_type": "code",
   "execution_count": 185,
   "metadata": {},
   "outputs": [
    {
     "data": {
      "text/plain": [
       "[('pdays', -0.32491447761663333),\n",
       " ('emp.var.rate', -0.29833442615937855),\n",
       " ('cons.price.idx', -0.13621121281924775),\n",
       " ('euribor3m', -0.30777140394072106),\n",
       " ('nr.employed', -0.354678295921437),\n",
       " ('poutcome_nonexistent', -0.19350684552056135),\n",
       " ('month_last_contact_may', -0.10827118387516642),\n",
       " ('contact_telephone', -0.14477305571200072),\n",
       " ('year', 0.3478278344442572),\n",
       " ('previous', 0.23018100321659118),\n",
       " ('y', 1.0),\n",
       " ('poutcome_success', 0.31626938381981556),\n",
       " ('month_last_contact_mar', 0.14401401664144514),\n",
       " ('month_last_contact_oct', 0.13736593059421323),\n",
       " ('month_last_contact_sep', 0.12606735856323756),\n",
       " ('contact_cellular', 0.14477305571200072)]"
      ]
     },
     "execution_count": 185,
     "metadata": {},
     "output_type": "execute_result"
    }
   ],
   "source": [
    "list(filter(lambda x: x[1] < -.1, pbcorr_list)) + list(filter(lambda x: x[1] > .10, pbcorr_list)) "
   ]
  },
  {
   "cell_type": "code",
   "execution_count": null,
   "metadata": {
    "collapsed": true
   },
   "outputs": [],
   "source": [
    "Based on the above, we will create some new categorical features by combining "
   ]
  },
  {
   "cell_type": "code",
   "execution_count": 117,
   "metadata": {
    "collapsed": true
   },
   "outputs": [],
   "source": [
    "cols = ['job', 'marital', 'education', 'default', 'housing','loan', 'contact', 'age_bin']"
   ]
  },
  {
   "cell_type": "code",
   "execution_count": 118,
   "metadata": {},
   "outputs": [],
   "source": [
    "import itertools\n",
    "combos = []\n",
    "for r in range(2,len(cols)):\n",
    "    combos+= [i for i in list(itertools.combinations(cols, r))]"
   ]
  },
  {
   "cell_type": "code",
   "execution_count": 119,
   "metadata": {},
   "outputs": [
    {
     "data": {
      "text/plain": [
       "[('job', 'marital'),\n",
       " ('job', 'education'),\n",
       " ('job', 'default'),\n",
       " ('job', 'housing'),\n",
       " ('job', 'loan'),\n",
       " ('job', 'contact'),\n",
       " ('job', 'age_bin'),\n",
       " ('marital', 'education'),\n",
       " ('marital', 'default'),\n",
       " ('marital', 'housing'),\n",
       " ('marital', 'loan'),\n",
       " ('marital', 'contact'),\n",
       " ('marital', 'age_bin'),\n",
       " ('education', 'default'),\n",
       " ('education', 'housing'),\n",
       " ('education', 'loan'),\n",
       " ('education', 'contact'),\n",
       " ('education', 'age_bin'),\n",
       " ('default', 'housing'),\n",
       " ('default', 'loan'),\n",
       " ('default', 'contact'),\n",
       " ('default', 'age_bin'),\n",
       " ('housing', 'loan'),\n",
       " ('housing', 'contact'),\n",
       " ('housing', 'age_bin'),\n",
       " ('loan', 'contact'),\n",
       " ('loan', 'age_bin'),\n",
       " ('contact', 'age_bin'),\n",
       " ('job', 'marital', 'education'),\n",
       " ('job', 'marital', 'default'),\n",
       " ('job', 'marital', 'housing'),\n",
       " ('job', 'marital', 'loan'),\n",
       " ('job', 'marital', 'contact'),\n",
       " ('job', 'marital', 'age_bin'),\n",
       " ('job', 'education', 'default'),\n",
       " ('job', 'education', 'housing'),\n",
       " ('job', 'education', 'loan'),\n",
       " ('job', 'education', 'contact'),\n",
       " ('job', 'education', 'age_bin'),\n",
       " ('job', 'default', 'housing'),\n",
       " ('job', 'default', 'loan'),\n",
       " ('job', 'default', 'contact'),\n",
       " ('job', 'default', 'age_bin'),\n",
       " ('job', 'housing', 'loan'),\n",
       " ('job', 'housing', 'contact'),\n",
       " ('job', 'housing', 'age_bin'),\n",
       " ('job', 'loan', 'contact'),\n",
       " ('job', 'loan', 'age_bin'),\n",
       " ('job', 'contact', 'age_bin'),\n",
       " ('marital', 'education', 'default'),\n",
       " ('marital', 'education', 'housing'),\n",
       " ('marital', 'education', 'loan'),\n",
       " ('marital', 'education', 'contact'),\n",
       " ('marital', 'education', 'age_bin'),\n",
       " ('marital', 'default', 'housing'),\n",
       " ('marital', 'default', 'loan'),\n",
       " ('marital', 'default', 'contact'),\n",
       " ('marital', 'default', 'age_bin'),\n",
       " ('marital', 'housing', 'loan'),\n",
       " ('marital', 'housing', 'contact'),\n",
       " ('marital', 'housing', 'age_bin'),\n",
       " ('marital', 'loan', 'contact'),\n",
       " ('marital', 'loan', 'age_bin'),\n",
       " ('marital', 'contact', 'age_bin'),\n",
       " ('education', 'default', 'housing'),\n",
       " ('education', 'default', 'loan'),\n",
       " ('education', 'default', 'contact'),\n",
       " ('education', 'default', 'age_bin'),\n",
       " ('education', 'housing', 'loan'),\n",
       " ('education', 'housing', 'contact'),\n",
       " ('education', 'housing', 'age_bin'),\n",
       " ('education', 'loan', 'contact'),\n",
       " ('education', 'loan', 'age_bin'),\n",
       " ('education', 'contact', 'age_bin'),\n",
       " ('default', 'housing', 'loan'),\n",
       " ('default', 'housing', 'contact'),\n",
       " ('default', 'housing', 'age_bin'),\n",
       " ('default', 'loan', 'contact'),\n",
       " ('default', 'loan', 'age_bin'),\n",
       " ('default', 'contact', 'age_bin'),\n",
       " ('housing', 'loan', 'contact'),\n",
       " ('housing', 'loan', 'age_bin'),\n",
       " ('housing', 'contact', 'age_bin'),\n",
       " ('loan', 'contact', 'age_bin'),\n",
       " ('job', 'marital', 'education', 'default'),\n",
       " ('job', 'marital', 'education', 'housing'),\n",
       " ('job', 'marital', 'education', 'loan'),\n",
       " ('job', 'marital', 'education', 'contact'),\n",
       " ('job', 'marital', 'education', 'age_bin'),\n",
       " ('job', 'marital', 'default', 'housing'),\n",
       " ('job', 'marital', 'default', 'loan'),\n",
       " ('job', 'marital', 'default', 'contact'),\n",
       " ('job', 'marital', 'default', 'age_bin'),\n",
       " ('job', 'marital', 'housing', 'loan'),\n",
       " ('job', 'marital', 'housing', 'contact'),\n",
       " ('job', 'marital', 'housing', 'age_bin'),\n",
       " ('job', 'marital', 'loan', 'contact'),\n",
       " ('job', 'marital', 'loan', 'age_bin'),\n",
       " ('job', 'marital', 'contact', 'age_bin'),\n",
       " ('job', 'education', 'default', 'housing'),\n",
       " ('job', 'education', 'default', 'loan'),\n",
       " ('job', 'education', 'default', 'contact'),\n",
       " ('job', 'education', 'default', 'age_bin'),\n",
       " ('job', 'education', 'housing', 'loan'),\n",
       " ('job', 'education', 'housing', 'contact'),\n",
       " ('job', 'education', 'housing', 'age_bin'),\n",
       " ('job', 'education', 'loan', 'contact'),\n",
       " ('job', 'education', 'loan', 'age_bin'),\n",
       " ('job', 'education', 'contact', 'age_bin'),\n",
       " ('job', 'default', 'housing', 'loan'),\n",
       " ('job', 'default', 'housing', 'contact'),\n",
       " ('job', 'default', 'housing', 'age_bin'),\n",
       " ('job', 'default', 'loan', 'contact'),\n",
       " ('job', 'default', 'loan', 'age_bin'),\n",
       " ('job', 'default', 'contact', 'age_bin'),\n",
       " ('job', 'housing', 'loan', 'contact'),\n",
       " ('job', 'housing', 'loan', 'age_bin'),\n",
       " ('job', 'housing', 'contact', 'age_bin'),\n",
       " ('job', 'loan', 'contact', 'age_bin'),\n",
       " ('marital', 'education', 'default', 'housing'),\n",
       " ('marital', 'education', 'default', 'loan'),\n",
       " ('marital', 'education', 'default', 'contact'),\n",
       " ('marital', 'education', 'default', 'age_bin'),\n",
       " ('marital', 'education', 'housing', 'loan'),\n",
       " ('marital', 'education', 'housing', 'contact'),\n",
       " ('marital', 'education', 'housing', 'age_bin'),\n",
       " ('marital', 'education', 'loan', 'contact'),\n",
       " ('marital', 'education', 'loan', 'age_bin'),\n",
       " ('marital', 'education', 'contact', 'age_bin'),\n",
       " ('marital', 'default', 'housing', 'loan'),\n",
       " ('marital', 'default', 'housing', 'contact'),\n",
       " ('marital', 'default', 'housing', 'age_bin'),\n",
       " ('marital', 'default', 'loan', 'contact'),\n",
       " ('marital', 'default', 'loan', 'age_bin'),\n",
       " ('marital', 'default', 'contact', 'age_bin'),\n",
       " ('marital', 'housing', 'loan', 'contact'),\n",
       " ('marital', 'housing', 'loan', 'age_bin'),\n",
       " ('marital', 'housing', 'contact', 'age_bin'),\n",
       " ('marital', 'loan', 'contact', 'age_bin'),\n",
       " ('education', 'default', 'housing', 'loan'),\n",
       " ('education', 'default', 'housing', 'contact'),\n",
       " ('education', 'default', 'housing', 'age_bin'),\n",
       " ('education', 'default', 'loan', 'contact'),\n",
       " ('education', 'default', 'loan', 'age_bin'),\n",
       " ('education', 'default', 'contact', 'age_bin'),\n",
       " ('education', 'housing', 'loan', 'contact'),\n",
       " ('education', 'housing', 'loan', 'age_bin'),\n",
       " ('education', 'housing', 'contact', 'age_bin'),\n",
       " ('education', 'loan', 'contact', 'age_bin'),\n",
       " ('default', 'housing', 'loan', 'contact'),\n",
       " ('default', 'housing', 'loan', 'age_bin'),\n",
       " ('default', 'housing', 'contact', 'age_bin'),\n",
       " ('default', 'loan', 'contact', 'age_bin'),\n",
       " ('housing', 'loan', 'contact', 'age_bin'),\n",
       " ('job', 'marital', 'education', 'default', 'housing'),\n",
       " ('job', 'marital', 'education', 'default', 'loan'),\n",
       " ('job', 'marital', 'education', 'default', 'contact'),\n",
       " ('job', 'marital', 'education', 'default', 'age_bin'),\n",
       " ('job', 'marital', 'education', 'housing', 'loan'),\n",
       " ('job', 'marital', 'education', 'housing', 'contact'),\n",
       " ('job', 'marital', 'education', 'housing', 'age_bin'),\n",
       " ('job', 'marital', 'education', 'loan', 'contact'),\n",
       " ('job', 'marital', 'education', 'loan', 'age_bin'),\n",
       " ('job', 'marital', 'education', 'contact', 'age_bin'),\n",
       " ('job', 'marital', 'default', 'housing', 'loan'),\n",
       " ('job', 'marital', 'default', 'housing', 'contact'),\n",
       " ('job', 'marital', 'default', 'housing', 'age_bin'),\n",
       " ('job', 'marital', 'default', 'loan', 'contact'),\n",
       " ('job', 'marital', 'default', 'loan', 'age_bin'),\n",
       " ('job', 'marital', 'default', 'contact', 'age_bin'),\n",
       " ('job', 'marital', 'housing', 'loan', 'contact'),\n",
       " ('job', 'marital', 'housing', 'loan', 'age_bin'),\n",
       " ('job', 'marital', 'housing', 'contact', 'age_bin'),\n",
       " ('job', 'marital', 'loan', 'contact', 'age_bin'),\n",
       " ('job', 'education', 'default', 'housing', 'loan'),\n",
       " ('job', 'education', 'default', 'housing', 'contact'),\n",
       " ('job', 'education', 'default', 'housing', 'age_bin'),\n",
       " ('job', 'education', 'default', 'loan', 'contact'),\n",
       " ('job', 'education', 'default', 'loan', 'age_bin'),\n",
       " ('job', 'education', 'default', 'contact', 'age_bin'),\n",
       " ('job', 'education', 'housing', 'loan', 'contact'),\n",
       " ('job', 'education', 'housing', 'loan', 'age_bin'),\n",
       " ('job', 'education', 'housing', 'contact', 'age_bin'),\n",
       " ('job', 'education', 'loan', 'contact', 'age_bin'),\n",
       " ('job', 'default', 'housing', 'loan', 'contact'),\n",
       " ('job', 'default', 'housing', 'loan', 'age_bin'),\n",
       " ('job', 'default', 'housing', 'contact', 'age_bin'),\n",
       " ('job', 'default', 'loan', 'contact', 'age_bin'),\n",
       " ('job', 'housing', 'loan', 'contact', 'age_bin'),\n",
       " ('marital', 'education', 'default', 'housing', 'loan'),\n",
       " ('marital', 'education', 'default', 'housing', 'contact'),\n",
       " ('marital', 'education', 'default', 'housing', 'age_bin'),\n",
       " ('marital', 'education', 'default', 'loan', 'contact'),\n",
       " ('marital', 'education', 'default', 'loan', 'age_bin'),\n",
       " ('marital', 'education', 'default', 'contact', 'age_bin'),\n",
       " ('marital', 'education', 'housing', 'loan', 'contact'),\n",
       " ('marital', 'education', 'housing', 'loan', 'age_bin'),\n",
       " ('marital', 'education', 'housing', 'contact', 'age_bin'),\n",
       " ('marital', 'education', 'loan', 'contact', 'age_bin'),\n",
       " ('marital', 'default', 'housing', 'loan', 'contact'),\n",
       " ('marital', 'default', 'housing', 'loan', 'age_bin'),\n",
       " ('marital', 'default', 'housing', 'contact', 'age_bin'),\n",
       " ('marital', 'default', 'loan', 'contact', 'age_bin'),\n",
       " ('marital', 'housing', 'loan', 'contact', 'age_bin'),\n",
       " ('education', 'default', 'housing', 'loan', 'contact'),\n",
       " ('education', 'default', 'housing', 'loan', 'age_bin'),\n",
       " ('education', 'default', 'housing', 'contact', 'age_bin'),\n",
       " ('education', 'default', 'loan', 'contact', 'age_bin'),\n",
       " ('education', 'housing', 'loan', 'contact', 'age_bin'),\n",
       " ('default', 'housing', 'loan', 'contact', 'age_bin'),\n",
       " ('job', 'marital', 'education', 'default', 'housing', 'loan'),\n",
       " ('job', 'marital', 'education', 'default', 'housing', 'contact'),\n",
       " ('job', 'marital', 'education', 'default', 'housing', 'age_bin'),\n",
       " ('job', 'marital', 'education', 'default', 'loan', 'contact'),\n",
       " ('job', 'marital', 'education', 'default', 'loan', 'age_bin'),\n",
       " ('job', 'marital', 'education', 'default', 'contact', 'age_bin'),\n",
       " ('job', 'marital', 'education', 'housing', 'loan', 'contact'),\n",
       " ('job', 'marital', 'education', 'housing', 'loan', 'age_bin'),\n",
       " ('job', 'marital', 'education', 'housing', 'contact', 'age_bin'),\n",
       " ('job', 'marital', 'education', 'loan', 'contact', 'age_bin'),\n",
       " ('job', 'marital', 'default', 'housing', 'loan', 'contact'),\n",
       " ('job', 'marital', 'default', 'housing', 'loan', 'age_bin'),\n",
       " ('job', 'marital', 'default', 'housing', 'contact', 'age_bin'),\n",
       " ('job', 'marital', 'default', 'loan', 'contact', 'age_bin'),\n",
       " ('job', 'marital', 'housing', 'loan', 'contact', 'age_bin'),\n",
       " ('job', 'education', 'default', 'housing', 'loan', 'contact'),\n",
       " ('job', 'education', 'default', 'housing', 'loan', 'age_bin'),\n",
       " ('job', 'education', 'default', 'housing', 'contact', 'age_bin'),\n",
       " ('job', 'education', 'default', 'loan', 'contact', 'age_bin'),\n",
       " ('job', 'education', 'housing', 'loan', 'contact', 'age_bin'),\n",
       " ('job', 'default', 'housing', 'loan', 'contact', 'age_bin'),\n",
       " ('marital', 'education', 'default', 'housing', 'loan', 'contact'),\n",
       " ('marital', 'education', 'default', 'housing', 'loan', 'age_bin'),\n",
       " ('marital', 'education', 'default', 'housing', 'contact', 'age_bin'),\n",
       " ('marital', 'education', 'default', 'loan', 'contact', 'age_bin'),\n",
       " ('marital', 'education', 'housing', 'loan', 'contact', 'age_bin'),\n",
       " ('marital', 'default', 'housing', 'loan', 'contact', 'age_bin'),\n",
       " ('education', 'default', 'housing', 'loan', 'contact', 'age_bin'),\n",
       " ('job', 'marital', 'education', 'default', 'housing', 'loan', 'contact'),\n",
       " ('job', 'marital', 'education', 'default', 'housing', 'loan', 'age_bin'),\n",
       " ('job', 'marital', 'education', 'default', 'housing', 'contact', 'age_bin'),\n",
       " ('job', 'marital', 'education', 'default', 'loan', 'contact', 'age_bin'),\n",
       " ('job', 'marital', 'education', 'housing', 'loan', 'contact', 'age_bin'),\n",
       " ('job', 'marital', 'default', 'housing', 'loan', 'contact', 'age_bin'),\n",
       " ('job', 'education', 'default', 'housing', 'loan', 'contact', 'age_bin'),\n",
       " ('marital', 'education', 'default', 'housing', 'loan', 'contact', 'age_bin')]"
      ]
     },
     "execution_count": 119,
     "metadata": {},
     "output_type": "execute_result"
    }
   ],
   "source": [
    "combos"
   ]
  },
  {
   "cell_type": "code",
   "execution_count": null,
   "metadata": {
    "collapsed": true
   },
   "outputs": [],
   "source": [
    "def create_cat_features(df, combos, pred_var, operation):\n",
    "    \n",
    "    if operation == 'sum':\n",
    "    \n",
    "        for combo in combos:\n",
    "            df_temp = df[list(combo) + [pred_var]].groupby(list(combo)).sum().reset_index(drop=0)\n",
    "            combo_name = pred_var +'-'+'-'.join(combo)+'-categorical'\n",
    "            df_temp.rename(columns = {pred_var:combo_name}, inplace=True)\n",
    "            df = df.merge(df_temp, how='left', on=list(combo))\n",
    "    \n",
    "    elif operation == 'avg':\n",
    "        \n",
    "        for combo in combos:\n",
    "            df_temp = df[list(combo) + [pred_var]].groupby(list(combo)).mean().reset_index(drop=0)\n",
    "            combo_name = pred_var +'-'+'-'.join(combo)+'-categorical'\n",
    "            df_temp.rename(columns = {pred_var:combo_name}, inplace=True)\n",
    "            df = df.merge(df_temp, how='left', on=list(combo))\n",
    "    \n",
    "    else:\n",
    "        print(\"You have entered the wrong operation\")\n",
    "        print(\"Please enter sum or avg\")\n",
    "    \n",
    "    return df"
   ]
  },
  {
   "cell_type": "code",
   "execution_count": null,
   "metadata": {
    "collapsed": true
   },
   "outputs": [],
   "source": []
  },
  {
   "cell_type": "code",
   "execution_count": null,
   "metadata": {
    "collapsed": true
   },
   "outputs": [],
   "source": []
  },
  {
   "cell_type": "code",
   "execution_count": null,
   "metadata": {
    "collapsed": true
   },
   "outputs": [],
   "source": []
  },
  {
   "cell_type": "code",
   "execution_count": null,
   "metadata": {
    "collapsed": true
   },
   "outputs": [],
   "source": []
  },
  {
   "cell_type": "code",
   "execution_count": null,
   "metadata": {
    "collapsed": true
   },
   "outputs": [],
   "source": []
  },
  {
   "cell_type": "markdown",
   "metadata": {
    "collapsed": true
   },
   "source": [
    "- create some new features\n",
    "- try voting classifier or any custom ensemble?\n",
    "- use imbalanced learning library \n",
    "- do feature importance and plot classifier comparisons with respect to the most important feature"
   ]
  },
  {
   "cell_type": "code",
   "execution_count": 103,
   "metadata": {
    "collapsed": true
   },
   "outputs": [],
   "source": [
    "from sklearn.pipeline import FeatureUnion"
   ]
  },
  {
   "cell_type": "code",
   "execution_count": 113,
   "metadata": {
    "collapsed": true
   },
   "outputs": [],
   "source": [
    "df_test = df[['job', 'age']]"
   ]
  },
  {
   "cell_type": "code",
   "execution_count": null,
   "metadata": {
    "collapsed": true
   },
   "outputs": [],
   "source": []
  },
  {
   "cell_type": "code",
   "execution_count": null,
   "metadata": {
    "collapsed": true
   },
   "outputs": [],
   "source": []
  },
  {
   "cell_type": "markdown",
   "metadata": {},
   "source": [
    "Tune According to Campaign ROI as defined by differenced between avg loan and deposit interest rates and fixed/var campaign costs"
   ]
  },
  {
   "cell_type": "code",
   "execution_count": 42,
   "metadata": {
    "collapsed": true
   },
   "outputs": [],
   "source": [
    "clf = LogisticRegression(C=1, max_iter=100, class_weight = 'balanced')"
   ]
  },
  {
   "cell_type": "code",
   "execution_count": 43,
   "metadata": {},
   "outputs": [
    {
     "ename": "NameError",
     "evalue": "name 'X' is not defined",
     "output_type": "error",
     "traceback": [
      "\u001b[0;31m---------------------------------------------------------------------------\u001b[0m",
      "\u001b[0;31mNameError\u001b[0m                                 Traceback (most recent call last)",
      "\u001b[0;32m<ipython-input-43-afd4cda53619>\u001b[0m in \u001b[0;36m<module>\u001b[0;34m()\u001b[0m\n\u001b[0;32m----> 1\u001b[0;31m \u001b[0mclf\u001b[0m\u001b[0;34m.\u001b[0m\u001b[0mfit\u001b[0m\u001b[0;34m(\u001b[0m\u001b[0mX\u001b[0m\u001b[0;34m,\u001b[0m\u001b[0my\u001b[0m\u001b[0;34m)\u001b[0m\u001b[0;34m\u001b[0m\u001b[0;34m\u001b[0m\u001b[0m\n\u001b[0m",
      "\u001b[0;31mNameError\u001b[0m: name 'X' is not defined"
     ]
    }
   ],
   "source": [
    "clf.fit(X,y)"
   ]
  },
  {
   "cell_type": "code",
   "execution_count": null,
   "metadata": {
    "collapsed": true
   },
   "outputs": [],
   "source": [
    "y_pred = pipe.predict(df_eval)"
   ]
  },
  {
   "cell_type": "code",
   "execution_count": null,
   "metadata": {
    "collapsed": true
   },
   "outputs": [],
   "source": [
    "def make_conf_matrix(clf, X,y):\n",
    "    y_pred = clf.predict(X)\n",
    "    cmx = pd.DataFrame(confusion_matrix(y, y_pred), \n",
    "                   index = ['No', 'Yes'],\n",
    "                   columns = ['No', 'Yes'])\n",
    "    return cmx"
   ]
  },
  {
   "cell_type": "code",
   "execution_count": null,
   "metadata": {
    "collapsed": true
   },
   "outputs": [],
   "source": [
    "def plot_conf_matrix(cmx):\n",
    "    cmap = mpl.colors.ListedColormap(['green'])\n",
    "    cmap1 = mpl.colors.ListedColormap(['red'])\n",
    "    mask1 = (cmx.isin([cmx.iloc[0,0],cmx.iloc[1,1]]))\n",
    "    \n",
    "    f, ax = plt.subplots(figsize = (9,6))\n",
    "    sns.heatmap(cmx, annot=True, fmt = 'g', cmap = cmap,\n",
    "            cbar = False, annot_kws={\"size\": 20},\n",
    "            ax=ax)\n",
    "    sns.heatmap(cmx, mask=mask1 , cmap=cmap1, cbar=False)\n",
    "\n",
    "    ax.set_ylabel('True label', fontsize = 15)\n",
    "    ax.set_xlabel('Predicted label', fontsize = 15)\n",
    "    ax.set_title(\"Confusion Matrix\", fontsize = 20)\n",
    "    plt.show()"
   ]
  },
  {
   "cell_type": "code",
   "execution_count": null,
   "metadata": {
    "collapsed": true
   },
   "outputs": [],
   "source": [
    "#Creating Confusion Matrix for Dirty Model:\n",
    "cmx = make_conf_matrix(pipe, df_eval, y)\n",
    "plot_conf_matrix(cmx)"
   ]
  },
  {
   "cell_type": "code",
   "execution_count": null,
   "metadata": {
    "collapsed": true
   },
   "outputs": [],
   "source": [
    "print(\"Campaign Targets:\", cmx.iloc[1,1]+cmx.iloc[0,1])"
   ]
  },
  {
   "cell_type": "code",
   "execution_count": null,
   "metadata": {
    "collapsed": true
   },
   "outputs": [],
   "source": [
    "accept_est = cmx.iloc[1,1]\n",
    "reject_est = cmx.iloc[0,1]\n",
    "total_targeted = accept_est+reject_est"
   ]
  },
  {
   "cell_type": "code",
   "execution_count": null,
   "metadata": {
    "collapsed": true
   },
   "outputs": [],
   "source": [
    "#enhancement: create rolling window logistic regression predicting next month's subscriptions"
   ]
  },
  {
   "cell_type": "code",
   "execution_count": null,
   "metadata": {
    "collapsed": true
   },
   "outputs": [],
   "source": [
    "Xex = df_eval[['year','month','age','job','marital']]"
   ]
  },
  {
   "cell_type": "code",
   "execution_count": null,
   "metadata": {
    "collapsed": true
   },
   "outputs": [],
   "source": [
    "Xex.head()"
   ]
  },
  {
   "cell_type": "code",
   "execution_count": null,
   "metadata": {
    "collapsed": true
   },
   "outputs": [],
   "source": [
    "Xex.reset_index(drop=0, inplace=True)"
   ]
  },
  {
   "cell_type": "code",
   "execution_count": null,
   "metadata": {
    "collapsed": true
   },
   "outputs": [],
   "source": [
    "y = y.reset_index(drop=1)"
   ]
  },
  {
   "cell_type": "code",
   "execution_count": null,
   "metadata": {
    "collapsed": true
   },
   "outputs": [],
   "source": [
    "clf = LogisticRegression(solver='sag')"
   ]
  },
  {
   "cell_type": "code",
   "execution_count": null,
   "metadata": {
    "collapsed": true
   },
   "outputs": [],
   "source": [
    "Xex.drop(columns='Date',inplace=True)"
   ]
  },
  {
   "cell_type": "code",
   "execution_count": null,
   "metadata": {
    "collapsed": true
   },
   "outputs": [],
   "source": [
    "clf.fit(Xex,y)"
   ]
  },
  {
   "cell_type": "code",
   "execution_count": null,
   "metadata": {
    "collapsed": true
   },
   "outputs": [],
   "source": [
    "clf.predict(np.array([1,2,3,1,1]).reshape(1,-1))"
   ]
  },
  {
   "cell_type": "code",
   "execution_count": null,
   "metadata": {
    "collapsed": true
   },
   "outputs": [],
   "source": [
    "#for each value in decision threshold range, \n",
    "    #create logistic regression\n",
    "    #calculate profit for campaign with average CLV for next x months\n",
    "#select the logistic regression yielding the highest ROI"
   ]
  },
  {
   "cell_type": "code",
   "execution_count": null,
   "metadata": {
    "collapsed": true
   },
   "outputs": [],
   "source": []
  },
  {
   "cell_type": "markdown",
   "metadata": {},
   "source": [
    "Campaign ROI Calculation"
   ]
  },
  {
   "cell_type": "code",
   "execution_count": null,
   "metadata": {
    "collapsed": true
   },
   "outputs": [],
   "source": [
    "%store -r 'pred_clv'"
   ]
  },
  {
   "cell_type": "code",
   "execution_count": null,
   "metadata": {
    "collapsed": true
   },
   "outputs": [],
   "source": [
    "customers_monthly = df[['year','month','day']].groupby(by=['year','month']).count()\n",
    "customers_monthly = customers_monthly.reset_index()\n",
    "customers_monthly.rename(columns = {'day':'count'},inplace=True)\n",
    "customers_monthly.head()"
   ]
  },
  {
   "cell_type": "code",
   "execution_count": null,
   "metadata": {
    "collapsed": true
   },
   "outputs": [],
   "source": [
    "customers_monthly['perc_of_total'] = customers_monthly['count']/customers_monthly['count'].sum()"
   ]
  },
  {
   "cell_type": "code",
   "execution_count": null,
   "metadata": {
    "collapsed": true
   },
   "outputs": [],
   "source": [
    "def calc_revenue(accept_est, pred_clv):\n",
    "    return accept_est*pred_clv     "
   ]
  },
  {
   "cell_type": "code",
   "execution_count": null,
   "metadata": {
    "collapsed": true
   },
   "outputs": [],
   "source": [
    "#calculate revenue on a monthly basis comparing with predicted customer clv\n",
    "#compare y with y pred and do a monthly classification matrix"
   ]
  },
  {
   "cell_type": "code",
   "execution_count": null,
   "metadata": {
    "collapsed": true
   },
   "outputs": [],
   "source": [
    "revenue_est = calc_revenue(customers_monthly['count'], pred_clv)"
   ]
  },
  {
   "cell_type": "code",
   "execution_count": null,
   "metadata": {
    "collapsed": true
   },
   "outputs": [],
   "source": [
    "revenue_est"
   ]
  },
  {
   "cell_type": "code",
   "execution_count": null,
   "metadata": {
    "collapsed": true
   },
   "outputs": [],
   "source": [
    "def calc_"
   ]
  }
 ],
 "metadata": {
  "kernelspec": {
   "display_name": "Python 3",
   "language": "python",
   "name": "python3"
  },
  "language_info": {
   "codemirror_mode": {
    "name": "ipython",
    "version": 3
   },
   "file_extension": ".py",
   "mimetype": "text/x-python",
   "name": "python",
   "nbconvert_exporter": "python",
   "pygments_lexer": "ipython3",
   "version": "3.6.7"
  }
 },
 "nbformat": 4,
 "nbformat_minor": 2
}
