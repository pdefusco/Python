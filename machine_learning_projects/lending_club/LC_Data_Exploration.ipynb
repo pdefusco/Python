{
 "cells": [
  {
   "cell_type": "markdown",
   "metadata": {},
   "source": [
    "## Data Exploration"
   ]
  },
  {
   "cell_type": "code",
   "execution_count": 1,
   "metadata": {},
   "outputs": [],
   "source": [
    "import pandas as pd\n",
    "import numpy as np\n",
    "import os\n",
    "from scipy import stats\n",
    "import seaborn as sns\n",
    "import matplotlib.pyplot as plt\n",
    "%matplotlib inline"
   ]
  },
  {
   "cell_type": "code",
   "execution_count": 2,
   "metadata": {},
   "outputs": [],
   "source": [
    "#pd.read_excel('LCDataDictionary.xlsx', header=0)"
   ]
  },
  {
   "cell_type": "markdown",
   "metadata": {},
   "source": [
    "Glossary of Terms:\n",
    "- A tax lien is the government’s claim on your property and is generally placed when a taxpayer, such as a business or individual, fails to pay taxes owed.\n",
    "- Default is defined as LoanStatus ∈​ {‘Default’, ‘Charge Off’}"
   ]
  },
  {
   "cell_type": "markdown",
   "metadata": {},
   "source": [
    "Initial Exploration"
   ]
  },
  {
   "cell_type": "code",
   "execution_count": 3,
   "metadata": {},
   "outputs": [],
   "source": [
    "df = pd.read_csv('LoanStats_2015_subset.csv', low_memory=False)"
   ]
  },
  {
   "cell_type": "code",
   "execution_count": 4,
   "metadata": {},
   "outputs": [
    {
     "data": {
      "text/plain": [
       "0      9.80%\n",
       "1      5.32%\n",
       "2     18.49%\n",
       "3     15.77%\n",
       "4     19.89%\n",
       "Name: int_rate, dtype: object"
      ]
     },
     "execution_count": 4,
     "metadata": {},
     "output_type": "execute_result"
    }
   ],
   "source": [
    "df['int_rate'].head()"
   ]
  },
  {
   "cell_type": "code",
   "execution_count": 5,
   "metadata": {},
   "outputs": [],
   "source": [
    "df['int_rate'] = df['int_rate'].str.rstrip('%').astype(float)"
   ]
  },
  {
   "cell_type": "markdown",
   "metadata": {},
   "source": [
    "#### Section A: KPI Reporting"
   ]
  },
  {
   "cell_type": "markdown",
   "metadata": {},
   "source": [
    "What is the monthly total loan volume in dollars and what is the monthly average loan size?"
   ]
  },
  {
   "cell_type": "markdown",
   "metadata": {},
   "source": [
    "Definition: Loan volume means principal balance outstanding"
   ]
  },
  {
   "cell_type": "code",
   "execution_count": 6,
   "metadata": {},
   "outputs": [
    {
     "data": {
      "text/plain": [
       "array(['Fully Paid', 'Current', 'Charged Off', 'Late (16-30 days)',\n",
       "       'Late (31-120 days)', 'In Grace Period', 'Default', nan],\n",
       "      dtype=object)"
      ]
     },
     "execution_count": 6,
     "metadata": {},
     "output_type": "execute_result"
    }
   ],
   "source": [
    "df.loan_status.unique()"
   ]
  },
  {
   "cell_type": "code",
   "execution_count": 7,
   "metadata": {},
   "outputs": [
    {
     "name": "stdout",
     "output_type": "stream",
     "text": [
      "Loan Status Value Freq:\n",
      "Fully Paid            196814\n",
      "Current               151713\n",
      "Charged Off            63845\n",
      "Late (31-120 days)      4905\n",
      "In Grace Period         2757\n",
      "Late (16-30 days)       1052\n",
      "Default                    9\n",
      "NaN                        2\n",
      "Name: loan_status, dtype: int64\n"
     ]
    }
   ],
   "source": [
    "#Types of loan status\n",
    "print('Loan Status Value Freq:')\n",
    "print(df.loan_status.value_counts(dropna=False))"
   ]
  },
  {
   "cell_type": "code",
   "execution_count": 8,
   "metadata": {},
   "outputs": [
    {
     "data": {
      "text/plain": [
       "0    37.0\n",
       "1    18.0\n",
       "2    46.0\n",
       "3    23.0\n",
       "4    25.0\n",
       "Name: total_acc, dtype: float64"
      ]
     },
     "execution_count": 8,
     "metadata": {},
     "output_type": "execute_result"
    }
   ],
   "source": [
    "df.total_acc.head()"
   ]
  },
  {
   "cell_type": "code",
   "execution_count": 9,
   "metadata": {},
   "outputs": [
    {
     "name": "stdout",
     "output_type": "stream",
     "text": [
      "Number of defaulted loans: \n",
      "63854\n"
     ]
    }
   ],
   "source": [
    "#remember default is Default + Charged Off\n",
    "print('Number of defaulted loans: ')\n",
    "print(len(df[df['loan_status'].isin(['Default', 'Charged Off'])]))"
   ]
  },
  {
   "cell_type": "code",
   "execution_count": 10,
   "metadata": {},
   "outputs": [],
   "source": [
    "#Transforming issue date into a date time attribute.\n",
    "#Notice only month is relevant. Year is always 2015 and day was not given:\n",
    "df['orig_date'] = pd.to_datetime(df['issue_d'])"
   ]
  },
  {
   "cell_type": "code",
   "execution_count": 11,
   "metadata": {},
   "outputs": [
    {
     "data": {
      "text/plain": [
       "2"
      ]
     },
     "execution_count": 11,
     "metadata": {},
     "output_type": "execute_result"
    }
   ],
   "source": [
    "df['orig_date'].isnull().sum()"
   ]
  },
  {
   "cell_type": "code",
   "execution_count": 12,
   "metadata": {},
   "outputs": [
    {
     "data": {
      "text/plain": [
       "421092   2015-01-01\n",
       "421093   2015-01-01\n",
       "421094   2015-01-01\n",
       "421095          NaT\n",
       "421096          NaT\n",
       "Name: orig_date, dtype: datetime64[ns]"
      ]
     },
     "execution_count": 12,
     "metadata": {},
     "output_type": "execute_result"
    }
   ],
   "source": [
    "df['orig_date'].tail()"
   ]
  },
  {
   "cell_type": "code",
   "execution_count": 13,
   "metadata": {},
   "outputs": [],
   "source": [
    "df['orig_month'] = df['orig_date'].map(lambda x: x.month)"
   ]
  },
  {
   "cell_type": "code",
   "execution_count": 14,
   "metadata": {},
   "outputs": [],
   "source": [
    "df['orig_month'] = df['orig_date'].map(lambda x: x.month)"
   ]
  },
  {
   "cell_type": "code",
   "execution_count": 15,
   "metadata": {},
   "outputs": [
    {
     "data": {
      "text/plain": [
       "orig_month\n",
       "1.0     533132575.0\n",
       "2.0     366908525.0\n",
       "3.0     390003275.0\n",
       "4.0     539401075.0\n",
       "5.0     483189475.0\n",
       "6.0     429777175.0\n",
       "7.0     696238600.0\n",
       "8.0     555331400.0\n",
       "9.0     450246800.0\n",
       "10.0    738221400.0\n",
       "11.0    567247325.0\n",
       "12.0    667910550.0\n",
       "Name: funded_amnt, dtype: float64"
      ]
     },
     "execution_count": 15,
     "metadata": {},
     "output_type": "execute_result"
    }
   ],
   "source": [
    "df.groupby(['orig_month']).sum()['funded_amnt']"
   ]
  },
  {
   "cell_type": "code",
   "execution_count": 16,
   "metadata": {},
   "outputs": [
    {
     "data": {
      "image/png": "[encoded data removed]",
      "text/plain": [
       "<Figure size 432x288 with 1 Axes>"
      ]
     },
     "metadata": {
      "needs_background": "light"
     },
     "output_type": "display_data"
    }
   ],
   "source": [
    "#improve quality\n",
    "df.groupby(['orig_month']).sum()['funded_amnt'].plot('bar')\n",
    "plt.title('Funded Amount by Month')\n",
    "plt.show()"
   ]
  },
  {
   "cell_type": "code",
   "execution_count": 17,
   "metadata": {},
   "outputs": [
    {
     "data": {
      "text/plain": [
       "orig_month\n",
       "1.0     15185.933717\n",
       "2.0     15435.781447\n",
       "3.0     15354.459646\n",
       "4.0     15225.705676\n",
       "5.0     15140.835240\n",
       "6.0     15087.841847\n",
       "7.0     15148.135416\n",
       "8.0     15474.875996\n",
       "9.0     15720.358926\n",
       "10.0    15180.057988\n",
       "11.0    15114.503730\n",
       "12.0    15062.367228\n",
       "Name: funded_amnt, dtype: float64"
      ]
     },
     "execution_count": 17,
     "metadata": {},
     "output_type": "execute_result"
    }
   ],
   "source": [
    "df.groupby(['orig_month']).mean()['funded_amnt']"
   ]
  },
  {
   "cell_type": "code",
   "execution_count": 18,
   "metadata": {},
   "outputs": [
    {
     "data": {
      "image/png": "[encoded data removed]",
      "text/plain": [
       "<Figure size 432x288 with 1 Axes>"
      ]
     },
     "metadata": {
      "needs_background": "light"
     },
     "output_type": "display_data"
    }
   ],
   "source": [
    "#redo these in seaborn to improve viz quality\n",
    "df.groupby(['orig_month']).mean()['funded_amnt'].plot('line')\n",
    "plt.title('Average Funded Amount by Month')\n",
    "plt.show()"
   ]
  },
  {
   "cell_type": "markdown",
   "metadata": {},
   "source": [
    "What are the default rates by Loan Grade?"
   ]
  },
  {
   "cell_type": "code",
   "execution_count": 19,
   "metadata": {},
   "outputs": [],
   "source": [
    "#This will become the new target variable as we are concerned with default and charged off loans:\n",
    "df['isdefault'] =  [1 if i =='Default' or i =='Charged Off' else 0 for i in df['loan_status']]"
   ]
  },
  {
   "cell_type": "code",
   "execution_count": 20,
   "metadata": {},
   "outputs": [],
   "source": [
    "df_grade = df.groupby(['grade'])['isdefault'].sum()/df.groupby(['grade'])['isdefault'].count()"
   ]
  },
  {
   "cell_type": "code",
   "execution_count": 21,
   "metadata": {},
   "outputs": [
    {
     "data": {
      "text/plain": [
       "grade\n",
       "A    0.045053\n",
       "B    0.097529\n",
       "C    0.162217\n",
       "D    0.235165\n",
       "E    0.290832\n",
       "F    0.375980\n",
       "G    0.430549\n",
       "Name: isdefault, dtype: float64"
      ]
     },
     "execution_count": 21,
     "metadata": {},
     "output_type": "execute_result"
    }
   ],
   "source": [
    "df_grade"
   ]
  },
  {
   "cell_type": "code",
   "execution_count": 22,
   "metadata": {},
   "outputs": [
    {
     "data": {
      "image/png": "[encoded data removed]",
      "text/plain": [
       "<Figure size 432x288 with 1 Axes>"
      ]
     },
     "metadata": {
      "needs_background": "light"
     },
     "output_type": "display_data"
    }
   ],
   "source": [
    "#improve quality of histogram\n",
    "df_grade.plot(kind='bar')\n",
    "plt.title('Default Rates by Grade')\n",
    "plt.show()"
   ]
  },
  {
   "cell_type": "markdown",
   "metadata": {},
   "source": [
    "Is Lending Club charging an appropriate interest rate for the risk?"
   ]
  },
  {
   "cell_type": "code",
   "execution_count": 23,
   "metadata": {},
   "outputs": [
    {
     "data": {
      "text/plain": [
       "grade\n",
       "A     6.941617\n",
       "B    10.044305\n",
       "C    13.298285\n",
       "D    16.724470\n",
       "E    19.290423\n",
       "F    23.614716\n",
       "G    26.835187\n",
       "Name: int_rate, dtype: float64"
      ]
     },
     "execution_count": 23,
     "metadata": {},
     "output_type": "execute_result"
    }
   ],
   "source": [
    "#finding average interest rate by grade:\n",
    "df.groupby(['grade'])['int_rate'].mean()"
   ]
  },
  {
   "cell_type": "code",
   "execution_count": 24,
   "metadata": {},
   "outputs": [
    {
     "data": {
      "image/png": "[encoded data removed]",
      "text/plain": [
       "<Figure size 432x288 with 1 Axes>"
      ]
     },
     "metadata": {
      "needs_background": "light"
     },
     "output_type": "display_data"
    }
   ],
   "source": [
    "plt.title('Average Interest Rate by Grade')\n",
    "df.groupby(['grade'])['int_rate'].mean().plot(kind='bar')\n",
    "plt.show()"
   ]
  },
  {
   "cell_type": "code",
   "execution_count": 25,
   "metadata": {},
   "outputs": [
    {
     "data": {
      "image/png": "[encoded data removed]",
      "text/plain": [
       "<Figure size 432x288 with 1 Axes>"
      ]
     },
     "metadata": {
      "needs_background": "light"
     },
     "output_type": "display_data"
    }
   ],
   "source": [
    "plt.title('Interest Rate by Grade - Violinplots')\n",
    "sns.violinplot(x='grade', y='int_rate', data=df, order=['A','B','C','D','E','F','G'])\n",
    "plt.show()"
   ]
  },
  {
   "cell_type": "code",
   "execution_count": 26,
   "metadata": {},
   "outputs": [],
   "source": [
    "df_subgrade = df.groupby(['grade','sub_grade'])['isdefault'].sum()/df.groupby(['grade','sub_grade'])['isdefault'].count()"
   ]
  },
  {
   "cell_type": "code",
   "execution_count": 27,
   "metadata": {},
   "outputs": [
    {
     "data": {
      "image/png": "[encoded data removed]",
      "text/plain": [
       "<Figure size 432x288 with 1 Axes>"
      ]
     },
     "metadata": {
      "needs_background": "light"
     },
     "output_type": "display_data"
    }
   ],
   "source": [
    "plt.title('Default Rate by Grade-Subgrade')\n",
    "df_subgrade.plot(kind='bar')\n",
    "plt.show()"
   ]
  },
  {
   "cell_type": "code",
   "execution_count": 28,
   "metadata": {},
   "outputs": [
    {
     "data": {
      "image/png": "[encoded data removed]",
      "text/plain": [
       "<Figure size 432x288 with 1 Axes>"
      ]
     },
     "metadata": {
      "needs_background": "light"
     },
     "output_type": "display_data"
    }
   ],
   "source": [
    "#same as above but by subgrade:\n",
    "plt.title('Interest Rate by Grade-Subgrade')\n",
    "df.groupby(['grade', 'sub_grade'])['int_rate'].mean().plot(kind='bar')\n",
    "plt.show()"
   ]
  },
  {
   "cell_type": "markdown",
   "metadata": {},
   "source": [
    "By comparing the two bar plots, it seems that as we take into account lower and lower grades, the interest rate grows by a disproportional amount in comparison with default risk"
   ]
  },
  {
   "cell_type": "markdown",
   "metadata": {},
   "source": [
    "#### Section B - Modeling"
   ]
  },
  {
   "cell_type": "markdown",
   "metadata": {},
   "source": [
    "Data is often messy, please review and QA the Lending Club dataset and summarize your thoughts on any structural issues:\n",
    "- Is there missing data? Is the missing data random or structured? Are some attributes missing more than others?\n",
    "- Are there any glaringly erroneous data values?"
   ]
  },
  {
   "cell_type": "markdown",
   "metadata": {},
   "source": [
    "Data Quality Checks"
   ]
  },
  {
   "cell_type": "markdown",
   "metadata": {},
   "source": [
    "Many attributes refer to information that was not available at time of loan origination. We drop them to avoid data leakage in our model."
   ]
  },
  {
   "cell_type": "code",
   "execution_count": 29,
   "metadata": {},
   "outputs": [],
   "source": [
    "#Question: will the predictive model be used prior to or after loan origination?\n",
    "#If prior to, funded_amnt and funded_amnt_inv cannot be used"
   ]
  },
  {
   "cell_type": "code",
   "execution_count": 30,
   "metadata": {},
   "outputs": [],
   "source": [
    "#values recorded at time of reporting, not loan origination\n",
    "future = ['acc_now_delinq','avg_cur_bal','bc_open_to_buy', 'bc_util', 'delinq_amnt', \n",
    "            'il_util','loan_amnt',#because it can be changed post origination\n",
    "            'max_bal_bc','num_actv_bc_tl','num_actv_rev_tl','num_tl_120dpd_2m','num_tl_30dpd',\n",
    "            'open_act_il','tot_cur_bal','total_bal_il', 'funded_amnt', 'funded_amnt_inv']"
   ]
  },
  {
   "cell_type": "code",
   "execution_count": 31,
   "metadata": {},
   "outputs": [],
   "source": [
    "df.drop(future, axis=1, inplace=True)"
   ]
  },
  {
   "cell_type": "markdown",
   "metadata": {},
   "source": [
    "Next, we analyze missing values"
   ]
  },
  {
   "cell_type": "code",
   "execution_count": 32,
   "metadata": {},
   "outputs": [
    {
     "data": {
      "text/plain": [
       "acc_open_past_24mths                        2\n",
       "addr_state                                  2\n",
       "all_util                               399725\n",
       "annual_inc                                  2\n",
       "annual_inc_joint                       420586\n",
       "application_type                            2\n",
       "chargeoff_within_12_mths                    2\n",
       "collections_12_mths_ex_med                  2\n",
       "delinq_2yrs                                 2\n",
       "desc                                   421052\n",
       "dti                                         4\n",
       "dti_joint                              420588\n",
       "earliest_cr_line                            2\n",
       "emp_length                              23819\n",
       "emp_title                               23876\n",
       "grade                                       2\n",
       "home_ownership                              2\n",
       "id                                     421095\n",
       "initial_list_status                         2\n",
       "inq_fi                                 399725\n",
       "inq_last_12m                           399725\n",
       "inq_last_6mths                              2\n",
       "installment                                 2\n",
       "int_rate                                    2\n",
       "issue_d                                     2\n",
       "loan_status                                 2\n",
       "member_id                              421097\n",
       "mo_sin_old_il_acct                      12256\n",
       "mo_sin_old_rev_tl_op                        2\n",
       "mo_sin_rcnt_rev_tl_op                       2\n",
       "                                        ...  \n",
       "purpose                                     2\n",
       "revol_bal                                   2\n",
       "revol_util                                164\n",
       "sub_grade                                   2\n",
       "tax_liens                                   2\n",
       "term                                        2\n",
       "title                                     134\n",
       "tot_hi_cred_lim                             2\n",
       "total_acc                                   2\n",
       "total_bal_ex_mort                           2\n",
       "total_bc_limit                              2\n",
       "total_cu_tl                            399725\n",
       "total_il_high_credit_limit                  2\n",
       "total_rev_hi_lim                            2\n",
       "verification_status                         2\n",
       "zip_code                                    2\n",
       "revol_bal_joint                        421097\n",
       "sec_app_earliest_cr_line               421097\n",
       "sec_app_inq_last_6mths                 421097\n",
       "sec_app_mort_acc                       421097\n",
       "sec_app_open_acc                       421097\n",
       "sec_app_revol_util                     421097\n",
       "sec_app_open_act_il                    421097\n",
       "sec_app_num_rev_accts                  421097\n",
       "sec_app_chargeoff_within_12_mths       421097\n",
       "sec_app_collections_12_mths_ex_med     421097\n",
       "sec_app_mths_since_last_major_derog    421097\n",
       "orig_date                                   2\n",
       "orig_month                                  2\n",
       "isdefault                                   0\n",
       "Length: 91, dtype: int64"
      ]
     },
     "execution_count": 32,
     "metadata": {},
     "output_type": "execute_result"
    }
   ],
   "source": [
    "#it seems most attributes have at least some nulls:\n",
    "df.isnull().sum()"
   ]
  },
  {
   "cell_type": "code",
   "execution_count": 33,
   "metadata": {},
   "outputs": [
    {
     "data": {
      "text/plain": [
       "sec_app_mths_since_last_major_derog    421097\n",
       "sec_app_mort_acc                       421097\n",
       "member_id                              421097\n",
       "revol_bal_joint                        421097\n",
       "sec_app_collections_12_mths_ex_med     421097\n",
       "sec_app_inq_last_6mths                 421097\n",
       "sec_app_earliest_cr_line               421097\n",
       "sec_app_open_acc                       421097\n",
       "sec_app_revol_util                     421097\n",
       "sec_app_open_act_il                    421097\n",
       "sec_app_num_rev_accts                  421097\n",
       "sec_app_chargeoff_within_12_mths       421097\n",
       "id                                     421095\n",
       "desc                                   421052\n",
       "dti_joint                              420588\n",
       "annual_inc_joint                       420586\n",
       "mths_since_rcnt_il                     400287\n",
       "inq_fi                                 399725\n",
       "inq_last_12m                           399725\n",
       "open_acc_6m                            399725\n",
       "open_il_24m                            399725\n",
       "open_rv_12m                            399725\n",
       "total_cu_tl                            399725\n",
       "open_rv_24m                            399725\n",
       "all_util                               399725\n",
       "open_il_12m                            399725\n",
       "mths_since_last_record                 346682\n",
       "mths_since_recent_bc_dlq               312497\n",
       "mths_since_last_major_derog            298368\n",
       "mths_since_recent_revol_delinq         269360\n",
       "mths_since_last_delinq                 203964\n",
       "mths_since_recent_inq                   44601\n",
       "emp_title                               23876\n",
       "emp_length                              23819\n",
       "mo_sin_old_il_acct                      12256\n",
       "percent_bc_gt_75                         4241\n",
       "mths_since_recent_bc                     3800\n",
       "revol_util                                164\n",
       "title                                     134\n",
       "dtype: int64"
      ]
     },
     "execution_count": 33,
     "metadata": {},
     "output_type": "execute_result"
    }
   ],
   "source": [
    "#which attributes have more than 100 and how many do they have?:\n",
    "df[df.columns[df.isnull().sum()>100]].isnull().sum().sort_values(ascending=False)"
   ]
  },
  {
   "cell_type": "markdown",
   "metadata": {},
   "source": [
    "It seems that most attributes above are completely null or almost.\n",
    "Only a handful of attributes have nulls around between the 0 - 15% range. We will have to examine those further and possibly impute them, while we can much more easily remove attributes with high null counts alltogether."
   ]
  },
  {
   "cell_type": "markdown",
   "metadata": {},
   "source": [
    "Summary of work on missing data:\n",
    "- First, we get rid of attributes and instances that are completely null\n",
    "- Next, we look at attributes that have high number of nulls (many attributes have the same null counts which is suspicious)\n",
    "- Then we explore attributes with lower null counts with descriptive analytics so we can visualize how different imputation approaches might affect the data"
   ]
  },
  {
   "cell_type": "code",
   "execution_count": 34,
   "metadata": {},
   "outputs": [
    {
     "name": "stdout",
     "output_type": "stream",
     "text": [
      "Attributes that have nulls only:\n"
     ]
    },
    {
     "data": {
      "text/plain": [
       "Index(['member_id', 'revol_bal_joint', 'sec_app_earliest_cr_line',\n",
       "       'sec_app_inq_last_6mths', 'sec_app_mort_acc', 'sec_app_open_acc',\n",
       "       'sec_app_revol_util', 'sec_app_open_act_il', 'sec_app_num_rev_accts',\n",
       "       'sec_app_chargeoff_within_12_mths',\n",
       "       'sec_app_collections_12_mths_ex_med',\n",
       "       'sec_app_mths_since_last_major_derog'],\n",
       "      dtype='object')"
      ]
     },
     "execution_count": 34,
     "metadata": {},
     "output_type": "execute_result"
    }
   ],
   "source": [
    "#All nulls:\n",
    "print(\"Attributes that have nulls only:\")\n",
    "df[df.columns[df.isnull().sum()==df.shape[0]]].columns"
   ]
  },
  {
   "cell_type": "code",
   "execution_count": 35,
   "metadata": {},
   "outputs": [],
   "source": [
    "allnull = df[df.columns[df.isnull().sum()==df.shape[0]]].columns\n",
    "df.drop(columns=allnull, inplace=True)"
   ]
  },
  {
   "cell_type": "code",
   "execution_count": 36,
   "metadata": {},
   "outputs": [],
   "source": [
    "#dropping id:\n",
    "df.drop('id', axis=1, inplace=True)"
   ]
  },
  {
   "cell_type": "code",
   "execution_count": 37,
   "metadata": {},
   "outputs": [],
   "source": [
    "#Next, we compare attributes that are almost completely null wrt the target attribute.\n",
    "#We are probably going to drop them all as well, but before we do so we check that there aren't any useful patterns\n",
    "#sine we only have a handful of isdefault = 1 instances\n",
    "\n",
    "#Attributes:\n",
    "#desc                                   421052 nulls\n",
    "#dti_joint                              420588 nulls\n",
    "#annual_inc_joint                       420586 nulls\n",
    "#mths_since_rcnt_il                     400287 nulls"
   ]
  },
  {
   "cell_type": "code",
   "execution_count": 38,
   "metadata": {},
   "outputs": [
    {
     "name": "stdout",
     "output_type": "stream",
     "text": [
      "Total defaults for not null instances of attribute desc\n",
      "2\n",
      "Total defaults for not null instances of attribute dti_joint\n",
      "77\n",
      "Total defaults for not null instances of attribute annual_inc_joint\n",
      "77\n",
      "Total defaults for not null instances of attribute mths_since_rcnt_il\n",
      "2815\n"
     ]
    }
   ],
   "source": [
    "for i in ['desc', 'dti_joint', 'annual_inc_joint', 'mths_since_rcnt_il']:\n",
    "    print('Total defaults for not null instances of attribute {}'.format(i))\n",
    "    print(df[~df[i].isnull()]['isdefault'].sum())"
   ]
  },
  {
   "cell_type": "code",
   "execution_count": 39,
   "metadata": {},
   "outputs": [],
   "source": [
    "#The values are very low, we can drop these as well:\n",
    "df.drop(['desc', 'dti_joint', 'annual_inc_joint', 'mths_since_rcnt_il'], axis=1, inplace=True)"
   ]
  },
  {
   "cell_type": "code",
   "execution_count": 40,
   "metadata": {},
   "outputs": [],
   "source": [
    "#Next, we work with attributes that have high number of nulls:\n",
    "df_highnulls = df[df.columns[df.isnull().sum()>100]].isnull().sum().sort_values(ascending=False)"
   ]
  },
  {
   "cell_type": "code",
   "execution_count": 41,
   "metadata": {},
   "outputs": [
    {
     "data": {
      "image/png": "[encoded data removed]",
      "text/plain": [
       "<Figure size 864x864 with 1 Axes>"
      ]
     },
     "metadata": {
      "needs_background": "light"
     },
     "output_type": "display_data"
    }
   ],
   "source": [
    "#Before moving on to the next attributes, let's see if we can spot any patterns among nulls:\n",
    "fig, ax = plt.subplots(figsize=(12,12))\n",
    "sns.heatmap(df[df_highnulls.index].isnull(), cbar=False, ax=ax)\n",
    "plt.show()\n",
    "#potentially create a feature from the mths since last attribtues"
   ]
  },
  {
   "cell_type": "code",
   "execution_count": 42,
   "metadata": {},
   "outputs": [
    {
     "name": "stdout",
     "output_type": "stream",
     "text": [
      "Total defaults for not null instances of attribute all_util\n",
      "2905\n",
      "Total defaults for not null instances of attribute inq_fi\n",
      "2905\n",
      "Total defaults for not null instances of attribute inq_last_12m\n",
      "2905\n",
      "Total defaults for not null instances of attribute open_acc_6m\n",
      "2905\n",
      "Total defaults for not null instances of attribute open_il_12m\n",
      "2905\n",
      "Total defaults for not null instances of attribute open_il_24m\n",
      "2905\n",
      "Total defaults for not null instances of attribute open_rv_12m\n",
      "2905\n",
      "Total defaults for not null instances of attribute open_rv_24m\n",
      "2905\n",
      "Total defaults for not null instances of attribute total_cu_tl\n",
      "2905\n"
     ]
    }
   ],
   "source": [
    "#It would make sense to drop the first 9 columns from left to right. Before we do so, let's check\n",
    "#for any patterns wrt the isdefault attribute:\n",
    "for i in df.columns[df.isnull().sum()==399725]:\n",
    "    print('Total defaults for not null instances of attribute {}'.format(i))\n",
    "    print(df[~df[i].isnull()]['isdefault'].sum())\n",
    "    #Could use another heatmap to do this comparison"
   ]
  },
  {
   "cell_type": "code",
   "execution_count": 43,
   "metadata": {},
   "outputs": [],
   "source": [
    "#There are very low counts of defaults among not null instances above, so we drop the above attributes as well\n",
    "df.drop(df.columns[df.isnull().sum()==399725], axis=1,inplace=True)\n",
    "#np.where(df['inq_fi']==df['inq_last_12m'], True, False).sum()"
   ]
  },
  {
   "cell_type": "code",
   "execution_count": 44,
   "metadata": {},
   "outputs": [],
   "source": [
    "#In the next batch of attributes we have nulls btw 70 and 40% of total instances \n",
    "#we will have to dig a bit deeper:\n",
    "\n",
    "#mths_since_last_record                 346682\n",
    "#mths_since_recent_bc_dlq               312497\n",
    "#mths_since_last_major_derog            298368\n",
    "#mths_since_recent_revol_delinq         269360\n",
    "#mths_since_last_delinq                 203964"
   ]
  },
  {
   "cell_type": "code",
   "execution_count": 44,
   "metadata": {},
   "outputs": [],
   "source": [
    "nulls_gt30 = df.columns[df.isnull().sum()>(.3*len(df))]"
   ]
  },
  {
   "cell_type": "code",
   "execution_count": 45,
   "metadata": {},
   "outputs": [
    {
     "data": {
      "text/html": [
       "<div>\n",
       "<style scoped>\n",
       "    .dataframe tbody tr th:only-of-type {\n",
       "        vertical-align: middle;\n",
       "    }\n",
       "\n",
       "    .dataframe tbody tr th {\n",
       "        vertical-align: top;\n",
       "    }\n",
       "\n",
       "    .dataframe thead th {\n",
       "        text-align: right;\n",
       "    }\n",
       "</style>\n",
       "<table border=\"1\" class=\"dataframe\">\n",
       "  <thead>\n",
       "    <tr style=\"text-align: right;\">\n",
       "      <th></th>\n",
       "      <th>mths_since_last_delinq</th>\n",
       "      <th>mths_since_last_major_derog</th>\n",
       "      <th>mths_since_last_record</th>\n",
       "      <th>mths_since_recent_bc_dlq</th>\n",
       "      <th>mths_since_recent_revol_delinq</th>\n",
       "    </tr>\n",
       "  </thead>\n",
       "  <tbody>\n",
       "    <tr>\n",
       "      <th>count</th>\n",
       "      <td>217133.000000</td>\n",
       "      <td>122729.000000</td>\n",
       "      <td>74415.000000</td>\n",
       "      <td>108600.000000</td>\n",
       "      <td>151737.000000</td>\n",
       "    </tr>\n",
       "    <tr>\n",
       "      <th>mean</th>\n",
       "      <td>34.023391</td>\n",
       "      <td>43.809866</td>\n",
       "      <td>66.592609</td>\n",
       "      <td>39.838177</td>\n",
       "      <td>35.797142</td>\n",
       "    </tr>\n",
       "    <tr>\n",
       "      <th>std</th>\n",
       "      <td>21.990270</td>\n",
       "      <td>21.318076</td>\n",
       "      <td>25.577899</td>\n",
       "      <td>23.003885</td>\n",
       "      <td>22.628516</td>\n",
       "    </tr>\n",
       "    <tr>\n",
       "      <th>min</th>\n",
       "      <td>0.000000</td>\n",
       "      <td>0.000000</td>\n",
       "      <td>0.000000</td>\n",
       "      <td>0.000000</td>\n",
       "      <td>0.000000</td>\n",
       "    </tr>\n",
       "    <tr>\n",
       "      <th>25%</th>\n",
       "      <td>15.000000</td>\n",
       "      <td>27.000000</td>\n",
       "      <td>50.000000</td>\n",
       "      <td>20.000000</td>\n",
       "      <td>17.000000</td>\n",
       "    </tr>\n",
       "    <tr>\n",
       "      <th>50%</th>\n",
       "      <td>31.000000</td>\n",
       "      <td>44.000000</td>\n",
       "      <td>67.000000</td>\n",
       "      <td>38.000000</td>\n",
       "      <td>33.000000</td>\n",
       "    </tr>\n",
       "    <tr>\n",
       "      <th>75%</th>\n",
       "      <td>50.000000</td>\n",
       "      <td>62.000000</td>\n",
       "      <td>82.000000</td>\n",
       "      <td>60.000000</td>\n",
       "      <td>53.000000</td>\n",
       "    </tr>\n",
       "    <tr>\n",
       "      <th>max</th>\n",
       "      <td>176.000000</td>\n",
       "      <td>176.000000</td>\n",
       "      <td>120.000000</td>\n",
       "      <td>195.000000</td>\n",
       "      <td>176.000000</td>\n",
       "    </tr>\n",
       "  </tbody>\n",
       "</table>\n",
       "</div>"
      ],
      "text/plain": [
       "       mths_since_last_delinq  mths_since_last_major_derog  \\\n",
       "count           217133.000000                122729.000000   \n",
       "mean                34.023391                    43.809866   \n",
       "std                 21.990270                    21.318076   \n",
       "min                  0.000000                     0.000000   \n",
       "25%                 15.000000                    27.000000   \n",
       "50%                 31.000000                    44.000000   \n",
       "75%                 50.000000                    62.000000   \n",
       "max                176.000000                   176.000000   \n",
       "\n",
       "       mths_since_last_record  mths_since_recent_bc_dlq  \\\n",
       "count            74415.000000             108600.000000   \n",
       "mean                66.592609                 39.838177   \n",
       "std                 25.577899                 23.003885   \n",
       "min                  0.000000                  0.000000   \n",
       "25%                 50.000000                 20.000000   \n",
       "50%                 67.000000                 38.000000   \n",
       "75%                 82.000000                 60.000000   \n",
       "max                120.000000                195.000000   \n",
       "\n",
       "       mths_since_recent_revol_delinq  \n",
       "count                   151737.000000  \n",
       "mean                        35.797142  \n",
       "std                         22.628516  \n",
       "min                          0.000000  \n",
       "25%                         17.000000  \n",
       "50%                         33.000000  \n",
       "75%                         53.000000  \n",
       "max                        176.000000  "
      ]
     },
     "execution_count": 45,
     "metadata": {},
     "output_type": "execute_result"
    }
   ],
   "source": [
    "#is it possible that the above columns simply have so many nulls because that many applicants\n",
    "#never had a last record, or a delinquency, etc.?\n",
    "\n",
    "#Let's look at whether if the value 0 is included in their range:\n",
    "\n",
    "df[nulls_gt30].describe()"
   ]
  },
  {
   "cell_type": "code",
   "execution_count": 46,
   "metadata": {},
   "outputs": [],
   "source": [
    "#Unfortunately the value 0 is included in each range so we will not be able to replace nulls with a 0.\n",
    "#Interestingly, there is a lot of similarity between them (see max and interquartile ranges)\n",
    "#Let's look at each column's distribution"
   ]
  },
  {
   "cell_type": "code",
   "execution_count": 47,
   "metadata": {},
   "outputs": [
    {
     "data": {
      "text/plain": [
       "isdefault\n",
       "0    AxesSubplot(0.125,0.125;0.775x0.755)\n",
       "1    AxesSubplot(0.125,0.125;0.775x0.755)\n",
       "Name: mths_since_last_record, dtype: object"
      ]
     },
     "execution_count": 47,
     "metadata": {},
     "output_type": "execute_result"
    },
    {
     "data": {
      "image/png": "[encoded data removed]",
      "text/plain": [
       "<Figure size 432x288 with 1 Axes>"
      ]
     },
     "metadata": {
      "needs_background": "light"
     },
     "output_type": "display_data"
    }
   ],
   "source": [
    "df.groupby(\"isdefault\").mths_since_last_record.hist(alpha=0.4)"
   ]
  },
  {
   "cell_type": "code",
   "execution_count": 48,
   "metadata": {},
   "outputs": [
    {
     "data": {
      "text/plain": [
       "isdefault\n",
       "0    AxesSubplot(0.125,0.125;0.775x0.755)\n",
       "1    AxesSubplot(0.125,0.125;0.775x0.755)\n",
       "Name: mths_since_recent_bc_dlq, dtype: object"
      ]
     },
     "execution_count": 48,
     "metadata": {},
     "output_type": "execute_result"
    },
    {
     "data": {
      "image/png": "[encoded data removed]",
      "text/plain": [
       "<Figure size 432x288 with 1 Axes>"
      ]
     },
     "metadata": {
      "needs_background": "light"
     },
     "output_type": "display_data"
    }
   ],
   "source": [
    "df.groupby(\"isdefault\").mths_since_recent_bc_dlq.hist(alpha=0.4)"
   ]
  },
  {
   "cell_type": "code",
   "execution_count": 49,
   "metadata": {},
   "outputs": [
    {
     "data": {
      "text/plain": [
       "isdefault\n",
       "0    AxesSubplot(0.125,0.125;0.775x0.755)\n",
       "1    AxesSubplot(0.125,0.125;0.775x0.755)\n",
       "Name: mths_since_last_major_derog, dtype: object"
      ]
     },
     "execution_count": 49,
     "metadata": {},
     "output_type": "execute_result"
    },
    {
     "data": {
      "image/png": "[encoded data removed]",
      "text/plain": [
       "<Figure size 432x288 with 1 Axes>"
      ]
     },
     "metadata": {
      "needs_background": "light"
     },
     "output_type": "display_data"
    }
   ],
   "source": [
    "df.groupby(\"isdefault\").mths_since_last_major_derog.hist(alpha=0.4)"
   ]
  },
  {
   "cell_type": "code",
   "execution_count": 50,
   "metadata": {},
   "outputs": [
    {
     "data": {
      "text/plain": [
       "isdefault\n",
       "0    AxesSubplot(0.125,0.125;0.775x0.755)\n",
       "1    AxesSubplot(0.125,0.125;0.775x0.755)\n",
       "Name: mths_since_recent_revol_delinq, dtype: object"
      ]
     },
     "execution_count": 50,
     "metadata": {},
     "output_type": "execute_result"
    },
    {
     "data": {
      "image/png": "[encoded data removed]",
      "text/plain": [
       "<Figure size 432x288 with 1 Axes>"
      ]
     },
     "metadata": {
      "needs_background": "light"
     },
     "output_type": "display_data"
    }
   ],
   "source": [
    "df.groupby(\"isdefault\").mths_since_recent_revol_delinq.hist(alpha=0.4)"
   ]
  },
  {
   "cell_type": "code",
   "execution_count": 51,
   "metadata": {},
   "outputs": [
    {
     "data": {
      "text/plain": [
       "isdefault\n",
       "0    AxesSubplot(0.125,0.125;0.775x0.755)\n",
       "1    AxesSubplot(0.125,0.125;0.775x0.755)\n",
       "Name: mths_since_last_delinq, dtype: object"
      ]
     },
     "execution_count": 51,
     "metadata": {},
     "output_type": "execute_result"
    },
    {
     "data": {
      "image/png": "[encoded data removed]",
      "text/plain": [
       "<Figure size 432x288 with 1 Axes>"
      ]
     },
     "metadata": {
      "needs_background": "light"
     },
     "output_type": "display_data"
    }
   ],
   "source": [
    "df.groupby(\"isdefault\").mths_since_last_delinq.hist(alpha=0.4)"
   ]
  },
  {
   "cell_type": "code",
   "execution_count": 52,
   "metadata": {},
   "outputs": [
    {
     "data": {
      "image/png": "[encoded data removed]",
      "text/plain": [
       "<Figure size 576x576 with 2 Axes>"
      ]
     },
     "metadata": {
      "needs_background": "light"
     },
     "output_type": "display_data"
    }
   ],
   "source": [
    "#While it appears that mths_since_last_record has some kind of normal distribution, \n",
    "#other features are not only more uniform but also have similar distributions. \n",
    "#Let's examine them further with a correlation matrix:\n",
    "fig, ax = plt.subplots(figsize=(8,8))\n",
    "sns.heatmap(df[nulls_gt30].corr(), cbar=True, ax=ax)\n",
    "plt.show()"
   ]
  },
  {
   "cell_type": "code",
   "execution_count": 53,
   "metadata": {},
   "outputs": [],
   "source": [
    "#There is strong correlation between most attributes with exception of mths_since_last_record\n",
    "#So we will keep mths_since_last_record and mths_since_last_delinq since among the highly correlated\n",
    "#attributes it is the one with the least amount of nulls. Notice we might still drop it later as part of feature selection\n",
    "df.drop(['mths_since_recent_bc_dlq', 'mths_since_last_major_derog', 'mths_since_recent_revol_delinq'], axis=1, inplace=True)"
   ]
  },
  {
   "cell_type": "code",
   "execution_count": 54,
   "metadata": {},
   "outputs": [
    {
     "data": {
      "text/plain": [
       "mths_since_last_record    346682\n",
       "mths_since_last_delinq    203964\n",
       "mths_since_recent_inq      44601\n",
       "emp_title                  23876\n",
       "emp_length                 23819\n",
       "mo_sin_old_il_acct         12256\n",
       "percent_bc_gt_75            4241\n",
       "mths_since_recent_bc        3800\n",
       "revol_util                   164\n",
       "title                        134\n",
       "dtype: int64"
      ]
     },
     "execution_count": 54,
     "metadata": {},
     "output_type": "execute_result"
    }
   ],
   "source": [
    "#Now let's take a look at our nulls again:\n",
    "#which attributes have more than 100 and how many do they have?:\n",
    "df[df.columns[df.isnull().sum()>100]].isnull().sum().sort_values(ascending=False)"
   ]
  },
  {
   "cell_type": "code",
   "execution_count": 55,
   "metadata": {},
   "outputs": [],
   "source": [
    "#Next, we noticed in our heatmap of nulls that, despite having relatively few nulls, two sets of the remaining \n",
    "#attributes in the original list have nulls in nearly the exact same instances\n",
    "#these are emp_title and emp_length as one pair, and percent_bc_gt_75 and mths_since_recent_bc as the other"
   ]
  },
  {
   "cell_type": "code",
   "execution_count": 56,
   "metadata": {},
   "outputs": [],
   "source": [
    "#Quoting the data dictionary:\n",
    "#emp_title: The job title supplied by the Borrower when applying for the loan.*\n",
    "#emp_length: Employment length in years. Possible values are between 0 and 10 where 0 means less than one year and 10 means ten or more years. \n",
    "#percent_bc_gt_75: Percentage of all bankcard accounts > 75% of limit.\n",
    "#mths_since_recent_bc: Months since most recent bankcard account opened."
   ]
  },
  {
   "cell_type": "code",
   "execution_count": 57,
   "metadata": {},
   "outputs": [
    {
     "name": "stdout",
     "output_type": "stream",
     "text": [
      "10+ years\n",
      "1 year\n",
      "10+ years\n",
      "2 years\n",
      "< 1 year\n"
     ]
    }
   ],
   "source": [
    "for i in df.emp_length.head():\n",
    "    print(i)"
   ]
  },
  {
   "cell_type": "code",
   "execution_count": 58,
   "metadata": {},
   "outputs": [
    {
     "data": {
      "text/plain": [
       "array(['10+ years', '1 year', '2 years', '< 1 year', '8 years', '5 years',\n",
       "       '3 years', '9 years', '7 years', '4 years', '6 years', nan],\n",
       "      dtype=object)"
      ]
     },
     "execution_count": 58,
     "metadata": {},
     "output_type": "execute_result"
    }
   ],
   "source": [
    "df.emp_length.unique()"
   ]
  },
  {
   "cell_type": "code",
   "execution_count": 59,
   "metadata": {},
   "outputs": [
    {
     "data": {
      "text/plain": [
       "10+ years    141521\n",
       "2 years       37497\n",
       "< 1 year      34340\n",
       "3 years       33430\n",
       "1 year        27473\n",
       "5 years       24930\n",
       "4 years       24506\n",
       "8 years       21560\n",
       "7 years       18414\n",
       "6 years       16838\n",
       "9 years       16769\n",
       "Name: emp_length, dtype: int64"
      ]
     },
     "execution_count": 59,
     "metadata": {},
     "output_type": "execute_result"
    }
   ],
   "source": [
    "df.emp_length.value_counts()"
   ]
  },
  {
   "cell_type": "code",
   "execution_count": 60,
   "metadata": {},
   "outputs": [],
   "source": [
    "#unemployed is not present in emp title, we presume a null corresponds to unemployed since length is also null"
   ]
  },
  {
   "cell_type": "code",
   "execution_count": 61,
   "metadata": {},
   "outputs": [],
   "source": [
    "#we presume people who never opened a bankcard account also have no accounts with balance abpve 75..."
   ]
  },
  {
   "cell_type": "code",
   "execution_count": 62,
   "metadata": {},
   "outputs": [],
   "source": [
    "#replace nans above with either 'unemployed' or 0"
   ]
  },
  {
   "cell_type": "code",
   "execution_count": 63,
   "metadata": {},
   "outputs": [],
   "source": [
    "df['emp_title'].fillna('Unemployed', inplace=True)"
   ]
  },
  {
   "cell_type": "code",
   "execution_count": 64,
   "metadata": {},
   "outputs": [],
   "source": [
    "#we do not replace nulls in emp_length here but we do so as part of modeling pipelines"
   ]
  },
  {
   "cell_type": "code",
   "execution_count": 65,
   "metadata": {},
   "outputs": [],
   "source": [
    "#for percentage of all bankcard accounts > 75% balance we know the correct business value is 0 so we can replace that here:\n",
    "df['mths_since_recent_bc'].fillna(0, inplace=True)"
   ]
  },
  {
   "cell_type": "code",
   "execution_count": 66,
   "metadata": {},
   "outputs": [],
   "source": [
    "#We use the value 0 also for loans whose applicant never opened a bankcard account:\n",
    "df['percent_bc_gt_75'].fillna(0, inplace=True)"
   ]
  },
  {
   "cell_type": "code",
   "execution_count": 67,
   "metadata": {},
   "outputs": [],
   "source": [
    "#Next, on to rows:"
   ]
  },
  {
   "cell_type": "code",
   "execution_count": 68,
   "metadata": {},
   "outputs": [
    {
     "data": {
      "text/html": [
       "<div>\n",
       "<style scoped>\n",
       "    .dataframe tbody tr th:only-of-type {\n",
       "        vertical-align: middle;\n",
       "    }\n",
       "\n",
       "    .dataframe tbody tr th {\n",
       "        vertical-align: top;\n",
       "    }\n",
       "\n",
       "    .dataframe thead th {\n",
       "        text-align: right;\n",
       "    }\n",
       "</style>\n",
       "<table border=\"1\" class=\"dataframe\">\n",
       "  <thead>\n",
       "    <tr style=\"text-align: right;\">\n",
       "      <th></th>\n",
       "      <th>acc_open_past_24mths</th>\n",
       "      <th>addr_state</th>\n",
       "      <th>annual_inc</th>\n",
       "      <th>application_type</th>\n",
       "      <th>chargeoff_within_12_mths</th>\n",
       "      <th>collections_12_mths_ex_med</th>\n",
       "      <th>delinq_2yrs</th>\n",
       "      <th>dti</th>\n",
       "      <th>earliest_cr_line</th>\n",
       "      <th>emp_length</th>\n",
       "      <th>...</th>\n",
       "      <th>total_acc</th>\n",
       "      <th>total_bal_ex_mort</th>\n",
       "      <th>total_bc_limit</th>\n",
       "      <th>total_il_high_credit_limit</th>\n",
       "      <th>total_rev_hi_lim</th>\n",
       "      <th>verification_status</th>\n",
       "      <th>zip_code</th>\n",
       "      <th>orig_date</th>\n",
       "      <th>orig_month</th>\n",
       "      <th>isdefault</th>\n",
       "    </tr>\n",
       "  </thead>\n",
       "  <tbody>\n",
       "    <tr>\n",
       "      <th>421095</th>\n",
       "      <td>NaN</td>\n",
       "      <td>NaN</td>\n",
       "      <td>NaN</td>\n",
       "      <td>NaN</td>\n",
       "      <td>NaN</td>\n",
       "      <td>NaN</td>\n",
       "      <td>NaN</td>\n",
       "      <td>NaN</td>\n",
       "      <td>NaN</td>\n",
       "      <td>NaN</td>\n",
       "      <td>...</td>\n",
       "      <td>NaN</td>\n",
       "      <td>NaN</td>\n",
       "      <td>NaN</td>\n",
       "      <td>NaN</td>\n",
       "      <td>NaN</td>\n",
       "      <td>NaN</td>\n",
       "      <td>NaN</td>\n",
       "      <td>NaT</td>\n",
       "      <td>NaN</td>\n",
       "      <td>0</td>\n",
       "    </tr>\n",
       "    <tr>\n",
       "      <th>421096</th>\n",
       "      <td>NaN</td>\n",
       "      <td>NaN</td>\n",
       "      <td>NaN</td>\n",
       "      <td>NaN</td>\n",
       "      <td>NaN</td>\n",
       "      <td>NaN</td>\n",
       "      <td>NaN</td>\n",
       "      <td>NaN</td>\n",
       "      <td>NaN</td>\n",
       "      <td>NaN</td>\n",
       "      <td>...</td>\n",
       "      <td>NaN</td>\n",
       "      <td>NaN</td>\n",
       "      <td>NaN</td>\n",
       "      <td>NaN</td>\n",
       "      <td>NaN</td>\n",
       "      <td>NaN</td>\n",
       "      <td>NaN</td>\n",
       "      <td>NaT</td>\n",
       "      <td>NaN</td>\n",
       "      <td>0</td>\n",
       "    </tr>\n",
       "  </tbody>\n",
       "</table>\n",
       "<p>2 rows × 62 columns</p>\n",
       "</div>"
      ],
      "text/plain": [
       "        acc_open_past_24mths addr_state  annual_inc application_type  \\\n",
       "421095                   NaN        NaN         NaN              NaN   \n",
       "421096                   NaN        NaN         NaN              NaN   \n",
       "\n",
       "        chargeoff_within_12_mths  collections_12_mths_ex_med  delinq_2yrs  \\\n",
       "421095                       NaN                         NaN          NaN   \n",
       "421096                       NaN                         NaN          NaN   \n",
       "\n",
       "        dti earliest_cr_line emp_length  ... total_acc total_bal_ex_mort  \\\n",
       "421095  NaN              NaN        NaN  ...       NaN               NaN   \n",
       "421096  NaN              NaN        NaN  ...       NaN               NaN   \n",
       "\n",
       "       total_bc_limit total_il_high_credit_limit  total_rev_hi_lim  \\\n",
       "421095            NaN                        NaN               NaN   \n",
       "421096            NaN                        NaN               NaN   \n",
       "\n",
       "        verification_status  zip_code orig_date orig_month  isdefault  \n",
       "421095                  NaN       NaN       NaT        NaN          0  \n",
       "421096                  NaN       NaN       NaT        NaN          0  \n",
       "\n",
       "[2 rows x 62 columns]"
      ]
     },
     "execution_count": 68,
     "metadata": {},
     "output_type": "execute_result"
    }
   ],
   "source": [
    "#it looks like some instances are comletely null:\n",
    "df[df['orig_month'].isnull()]"
   ]
  },
  {
   "cell_type": "code",
   "execution_count": 69,
   "metadata": {},
   "outputs": [
    {
     "data": {
      "text/html": [
       "<div>\n",
       "<style scoped>\n",
       "    .dataframe tbody tr th:only-of-type {\n",
       "        vertical-align: middle;\n",
       "    }\n",
       "\n",
       "    .dataframe tbody tr th {\n",
       "        vertical-align: top;\n",
       "    }\n",
       "\n",
       "    .dataframe thead th {\n",
       "        text-align: right;\n",
       "    }\n",
       "</style>\n",
       "<table border=\"1\" class=\"dataframe\">\n",
       "  <thead>\n",
       "    <tr style=\"text-align: right;\">\n",
       "      <th></th>\n",
       "      <th>acc_open_past_24mths</th>\n",
       "      <th>addr_state</th>\n",
       "      <th>annual_inc</th>\n",
       "      <th>application_type</th>\n",
       "      <th>chargeoff_within_12_mths</th>\n",
       "      <th>collections_12_mths_ex_med</th>\n",
       "      <th>delinq_2yrs</th>\n",
       "      <th>dti</th>\n",
       "      <th>earliest_cr_line</th>\n",
       "      <th>emp_length</th>\n",
       "      <th>...</th>\n",
       "      <th>total_acc</th>\n",
       "      <th>total_bal_ex_mort</th>\n",
       "      <th>total_bc_limit</th>\n",
       "      <th>total_il_high_credit_limit</th>\n",
       "      <th>total_rev_hi_lim</th>\n",
       "      <th>verification_status</th>\n",
       "      <th>zip_code</th>\n",
       "      <th>orig_date</th>\n",
       "      <th>orig_month</th>\n",
       "      <th>isdefault</th>\n",
       "    </tr>\n",
       "  </thead>\n",
       "  <tbody>\n",
       "    <tr>\n",
       "      <th>421095</th>\n",
       "      <td>NaN</td>\n",
       "      <td>NaN</td>\n",
       "      <td>NaN</td>\n",
       "      <td>NaN</td>\n",
       "      <td>NaN</td>\n",
       "      <td>NaN</td>\n",
       "      <td>NaN</td>\n",
       "      <td>NaN</td>\n",
       "      <td>NaN</td>\n",
       "      <td>NaN</td>\n",
       "      <td>...</td>\n",
       "      <td>NaN</td>\n",
       "      <td>NaN</td>\n",
       "      <td>NaN</td>\n",
       "      <td>NaN</td>\n",
       "      <td>NaN</td>\n",
       "      <td>NaN</td>\n",
       "      <td>NaN</td>\n",
       "      <td>NaT</td>\n",
       "      <td>NaN</td>\n",
       "      <td>0</td>\n",
       "    </tr>\n",
       "    <tr>\n",
       "      <th>421096</th>\n",
       "      <td>NaN</td>\n",
       "      <td>NaN</td>\n",
       "      <td>NaN</td>\n",
       "      <td>NaN</td>\n",
       "      <td>NaN</td>\n",
       "      <td>NaN</td>\n",
       "      <td>NaN</td>\n",
       "      <td>NaN</td>\n",
       "      <td>NaN</td>\n",
       "      <td>NaN</td>\n",
       "      <td>...</td>\n",
       "      <td>NaN</td>\n",
       "      <td>NaN</td>\n",
       "      <td>NaN</td>\n",
       "      <td>NaN</td>\n",
       "      <td>NaN</td>\n",
       "      <td>NaN</td>\n",
       "      <td>NaN</td>\n",
       "      <td>NaT</td>\n",
       "      <td>NaN</td>\n",
       "      <td>0</td>\n",
       "    </tr>\n",
       "  </tbody>\n",
       "</table>\n",
       "<p>2 rows × 62 columns</p>\n",
       "</div>"
      ],
      "text/plain": [
       "        acc_open_past_24mths addr_state  annual_inc application_type  \\\n",
       "421095                   NaN        NaN         NaN              NaN   \n",
       "421096                   NaN        NaN         NaN              NaN   \n",
       "\n",
       "        chargeoff_within_12_mths  collections_12_mths_ex_med  delinq_2yrs  \\\n",
       "421095                       NaN                         NaN          NaN   \n",
       "421096                       NaN                         NaN          NaN   \n",
       "\n",
       "        dti earliest_cr_line emp_length  ... total_acc total_bal_ex_mort  \\\n",
       "421095  NaN              NaN        NaN  ...       NaN               NaN   \n",
       "421096  NaN              NaN        NaN  ...       NaN               NaN   \n",
       "\n",
       "       total_bc_limit total_il_high_credit_limit  total_rev_hi_lim  \\\n",
       "421095            NaN                        NaN               NaN   \n",
       "421096            NaN                        NaN               NaN   \n",
       "\n",
       "        verification_status  zip_code orig_date orig_month  isdefault  \n",
       "421095                  NaN       NaN       NaT        NaN          0  \n",
       "421096                  NaN       NaN       NaT        NaN          0  \n",
       "\n",
       "[2 rows x 62 columns]"
      ]
     },
     "execution_count": 69,
     "metadata": {},
     "output_type": "execute_result"
    }
   ],
   "source": [
    "df.iloc[421095:421097,:]"
   ]
  },
  {
   "cell_type": "code",
   "execution_count": 70,
   "metadata": {},
   "outputs": [],
   "source": [
    "#dropping the two rows above:\n",
    "df.drop([421095,421096], inplace=True)"
   ]
  },
  {
   "cell_type": "code",
   "execution_count": 71,
   "metadata": {},
   "outputs": [
    {
     "name": "stdout",
     "output_type": "stream",
     "text": [
      "How many instances have at least one null value: \n"
     ]
    },
    {
     "data": {
      "text/plain": [
       "386792"
      ]
     },
     "execution_count": 71,
     "metadata": {},
     "output_type": "execute_result"
    }
   ],
   "source": [
    "#How many instances have at least one null value: \n",
    "print(\"How many instances have at least one null value: \")\n",
    "df.isnull().any(axis=1).sum()"
   ]
  },
  {
   "cell_type": "code",
   "execution_count": 72,
   "metadata": {},
   "outputs": [
    {
     "name": "stdout",
     "output_type": "stream",
     "text": [
      "How many instances have only null values: \n"
     ]
    },
    {
     "data": {
      "text/plain": [
       "0"
      ]
     },
     "execution_count": 72,
     "metadata": {},
     "output_type": "execute_result"
    }
   ],
   "source": [
    "#How many instances have all null values: \n",
    "print(\"How many instances have only null values: \")\n",
    "df.isnull().all(axis=1).sum()"
   ]
  },
  {
   "cell_type": "code",
   "execution_count": 73,
   "metadata": {},
   "outputs": [
    {
     "name": "stdout",
     "output_type": "stream",
     "text": [
      "How many instances have more than 1 null attribute values: \n",
      "386792\n",
      "How many instances have more than 2 null attribute values: \n",
      "202692\n",
      "How many instances have more than 3 null attribute values: \n",
      "37956\n",
      "How many instances have more than 4 null attribute values: \n",
      "3903\n",
      "How many instances have more than 5 null attribute values: \n",
      "266\n",
      "How many instances have more than 6 null attribute values: \n",
      "0\n"
     ]
    }
   ],
   "source": [
    "#As shown above, we still have many nulls and many instances with few of them\n",
    "#Let's examine nulls across instances in more detail:\n",
    "for i in range(1,7):\n",
    "    print(\"How many instances have more than {} null attribute values: \".format(i))\n",
    "    print(len(df[df.isnull().sum(axis=1)>=i]))"
   ]
  },
  {
   "cell_type": "markdown",
   "metadata": {},
   "source": [
    "b) Are there any glaringly erroneous data values?"
   ]
  },
  {
   "cell_type": "code",
   "execution_count": 74,
   "metadata": {},
   "outputs": [
    {
     "data": {
      "text/plain": [
       "Index(['addr_state', 'application_type', 'earliest_cr_line', 'emp_length',\n",
       "       'emp_title', 'grade', 'home_ownership', 'initial_list_status',\n",
       "       'issue_d', 'loan_status', 'purpose', 'revol_util', 'sub_grade', 'term',\n",
       "       'title', 'verification_status', 'zip_code'],\n",
       "      dtype='object')"
      ]
     },
     "execution_count": 74,
     "metadata": {},
     "output_type": "execute_result"
    }
   ],
   "source": [
    "#Prior to searching for outliers, let's make sure we have our dataset attributes correctly formatted:\n",
    "#Starting by looking for object data type attributes which might need to be numeric:\n",
    "\n",
    "#x = df.columns.to_series().groupby(df.dtypes).groups\n",
    "df.select_dtypes(include=['object']).columns"
   ]
  },
  {
   "cell_type": "code",
   "execution_count": 75,
   "metadata": {},
   "outputs": [
    {
     "name": "stdout",
     "output_type": "stream",
     "text": [
      "['10+ years' '1 year' '2 years' '< 1 year' '8 years' '5 years' '3 years'\n",
      " '9 years' '7 years' '4 years' '6 years' nan]\n",
      "[' 60 months' ' 36 months']\n",
      "0     13.4%\n",
      "1     42.5%\n",
      "2     51.9%\n",
      "3     50.3%\n",
      "4    102.4%\n",
      "Name: revol_util, dtype: object\n"
     ]
    }
   ],
   "source": [
    "#As we saw earlier, emp length should remain categorical because it reflects bins not actual numeric values\n",
    "print(df.emp_length.unique())\n",
    "\n",
    "#term is also a candidate, upon futher investigation it is a binary value so we will convert it\n",
    "print(df.term.unique())\n",
    "\n",
    "# revol_util is a numeric ratio so we will convert that as well:\n",
    "print(df.revol_util.head())\n",
    "\n",
    "#binarizing term\n",
    "df['term'] = [1 if i == ' 60 months' else 0 for i in df['term']]\n",
    "\n",
    "#cleaning up and casting revol_util to numeric:\n",
    "df['revol_util'] = df['revol_util'].str.rstrip('%').astype(float)"
   ]
  },
  {
   "cell_type": "code",
   "execution_count": 76,
   "metadata": {},
   "outputs": [
    {
     "name": "stdout",
     "output_type": "stream",
     "text": [
      "[1 0]\n",
      "[ 13.4  42.5  51.9 ... 123.3 121.4 184.6]\n",
      "term            int64\n",
      "revol_util    float64\n",
      "dtype: object\n"
     ]
    }
   ],
   "source": [
    "#checking on the above:\n",
    "print(df['term'].unique())\n",
    "print(df['revol_util'].unique())\n",
    "print(df[['term', 'revol_util']].dtypes)"
   ]
  },
  {
   "cell_type": "code",
   "execution_count": 77,
   "metadata": {},
   "outputs": [
    {
     "name": "stdout",
     "output_type": "stream",
     "text": [
      "Latest borrower earliest reported credit line \n",
      "2012-11-01 00:00:00\n"
     ]
    }
   ],
   "source": [
    "#casting earliest credit to date time and checking outputs:\n",
    "df['earliest_cr_line'] = pd.to_datetime(df['earliest_cr_line'])\n",
    "#df['earliest_cr_line'].isnull().sum()\n",
    "print('Latest borrower earliest reported credit line ')\n",
    "print(df['earliest_cr_line'].max())"
   ]
  },
  {
   "cell_type": "code",
   "execution_count": 78,
   "metadata": {},
   "outputs": [
    {
     "data": {
      "text/plain": [
       "Index(['acc_open_past_24mths', 'annual_inc', 'chargeoff_within_12_mths',\n",
       "       'collections_12_mths_ex_med', 'delinq_2yrs', 'dti', 'inq_last_6mths',\n",
       "       'installment', 'int_rate', 'mo_sin_old_il_acct', 'mo_sin_old_rev_tl_op',\n",
       "       'mo_sin_rcnt_rev_tl_op', 'mo_sin_rcnt_tl', 'mort_acc',\n",
       "       'mths_since_last_delinq', 'mths_since_last_record',\n",
       "       'mths_since_recent_bc', 'mths_since_recent_inq',\n",
       "       'num_accts_ever_120_pd', 'num_bc_sats', 'num_bc_tl', 'num_il_tl',\n",
       "       'num_op_rev_tl', 'num_rev_accts', 'num_rev_tl_bal_gt_0', 'num_sats',\n",
       "       'num_tl_90g_dpd_24m', 'num_tl_op_past_12m', 'open_acc',\n",
       "       'pct_tl_nvr_dlq', 'percent_bc_gt_75', 'policy_code', 'pub_rec',\n",
       "       'pub_rec_bankruptcies', 'revol_bal', 'revol_util', 'tax_liens', 'term',\n",
       "       'tot_hi_cred_lim', 'total_acc', 'total_bal_ex_mort', 'total_bc_limit',\n",
       "       'total_il_high_credit_limit', 'total_rev_hi_lim', 'orig_month',\n",
       "       'isdefault'],\n",
       "      dtype='object')"
      ]
     },
     "execution_count": 78,
     "metadata": {},
     "output_type": "execute_result"
    }
   ],
   "source": [
    "#Now checking on numeric attributes which potentially should be categorical or date:\n",
    "df.select_dtypes(include=['int', 'float']).columns"
   ]
  },
  {
   "cell_type": "code",
   "execution_count": 79,
   "metadata": {},
   "outputs": [
    {
     "name": "stdout",
     "output_type": "stream",
     "text": [
      "Index(['earliest_cr_line', 'orig_date'], dtype='object')\n",
      "earliest_cr_line    datetime64[ns]\n",
      "orig_date           datetime64[ns]\n",
      "dtype: object\n"
     ]
    }
   ],
   "source": [
    "#Finally, we check on date time attributes or any other types left:\n",
    "print(df.select_dtypes(exclude=['int', 'float', 'object']).columns)\n",
    "print(df[['earliest_cr_line', 'orig_date']].dtypes)"
   ]
  },
  {
   "cell_type": "code",
   "execution_count": 80,
   "metadata": {},
   "outputs": [],
   "source": [
    "#Data quality checks for funded amnt:\n",
    "#The loan_amnt, funded_amnt and funded_amnt_inv are very similar\n",
    "#When a loan application is submitted, the requested amount by the applicant is the loan_amnt\n",
    "#The loan may not necessarily be funded in full. The funded_amnt reflects how much was actually funded\n",
    "#The funded amnt may not necessarily only reflect how much was contributed by LC investors\n",
    "#LC might step in and add funds to the amount funded by investors\n",
    "\n",
    "#So it should always hold that funded amnt inv <= funded_amnt <= loan_amnt\n",
    "#We removed loan_amnt because it would cause data leakage\n",
    "\n",
    "#print('Count of instances where funded amnt inv <= funded_amnt is not true: ')\n",
    "#print(df[df['funded_amnt'] < df['funded_amnt_inv']].shape[0])\n",
    "\n",
    "#no longer needed because we drop the attributes to avoid data leakage"
   ]
  },
  {
   "cell_type": "code",
   "execution_count": 81,
   "metadata": {},
   "outputs": [],
   "source": [
    "#Next we look for outliers and anomalies in the data:\n",
    "#In numeric attributes we will identify outliers with descriptive statistics \n",
    "#In other attributes we will look for high imbalances:"
   ]
  },
  {
   "cell_type": "code",
   "execution_count": 82,
   "metadata": {},
   "outputs": [],
   "source": [
    "num_cols = df.select_dtypes(include=['int', 'float']).columns"
   ]
  },
  {
   "cell_type": "code",
   "execution_count": 83,
   "metadata": {},
   "outputs": [],
   "source": [
    "#Some numeric columns have mixed data types. Let's fix that here:\n",
    "df[num_cols] = df[num_cols].astype('float')"
   ]
  },
  {
   "cell_type": "code",
   "execution_count": 84,
   "metadata": {},
   "outputs": [
    {
     "name": "stderr",
     "output_type": "stream",
     "text": [
      "/Applications/anaconda3/envs/py36/lib/python3.6/site-packages/scipy/stats/stats.py:2281: RuntimeWarning: invalid value encountered in true_divide\n",
      "  return (a - mns) / sstd\n",
      "/Applications/anaconda3/envs/py36/lib/python3.6/site-packages/ipykernel_launcher.py:1: RuntimeWarning: invalid value encountered in greater\n",
      "  \"\"\"Entry point for launching an IPython kernel.\n"
     ]
    }
   ],
   "source": [
    "z_3 = np.abs(stats.zscore(df[num_cols])>3)"
   ]
  },
  {
   "cell_type": "code",
   "execution_count": 85,
   "metadata": {},
   "outputs": [
    {
     "data": {
      "image/png": "[encoded data removed]",
      "text/plain": [
       "<Figure size 864x864 with 1 Axes>"
      ]
     },
     "metadata": {
      "needs_background": "light"
     },
     "output_type": "display_data"
    }
   ],
   "source": [
    "#Let's use the same heatmap to locate outliers in our dataset:\n",
    "#Notice instances are sorted by date, with earliest loan applications on top\n",
    "fig, ax = plt.subplots(figsize=(12,12))\n",
    "sns.heatmap(z_3, cbar=False, ax=ax)\n",
    "plt.show()\n",
    "#potentially create a feature from the mths since last attribtues"
   ]
  },
  {
   "cell_type": "code",
   "execution_count": 86,
   "metadata": {},
   "outputs": [],
   "source": [
    "#outliers seem to be fairly evenly distributed"
   ]
  },
  {
   "cell_type": "code",
   "execution_count": 87,
   "metadata": {},
   "outputs": [
    {
     "name": "stderr",
     "output_type": "stream",
     "text": [
      "/Applications/anaconda3/envs/py36/lib/python3.6/site-packages/ipykernel_launcher.py:2: RuntimeWarning: invalid value encountered in greater\n",
      "  \n"
     ]
    }
   ],
   "source": [
    "#let's be more selective and try to indetify numeric values that are completely off:\n",
    "z_4 = np.abs(stats.zscore(df[num_cols])>4)"
   ]
  },
  {
   "cell_type": "code",
   "execution_count": 88,
   "metadata": {},
   "outputs": [
    {
     "data": {
      "text/plain": [
       "(421095, 62)"
      ]
     },
     "execution_count": 88,
     "metadata": {},
     "output_type": "execute_result"
    }
   ],
   "source": [
    "df.shape"
   ]
  },
  {
   "cell_type": "code",
   "execution_count": 89,
   "metadata": {},
   "outputs": [
    {
     "name": "stdout",
     "output_type": "stream",
     "text": [
      "Number of values with a Z score > 4:  96130\n"
     ]
    }
   ],
   "source": [
    "print('Number of values with a Z score > 4: ', z_4[z_4==True].shape[0])"
   ]
  },
  {
   "cell_type": "code",
   "execution_count": 90,
   "metadata": {},
   "outputs": [
    {
     "name": "stdout",
     "output_type": "stream",
     "text": [
      "Extreme Outlier Count by Column: \n"
     ]
    },
    {
     "data": {
      "text/plain": [
       "collections_12_mths_ex_med    7767\n",
       "num_accts_ever_120_pd         6259\n",
       "mo_sin_rcnt_rev_tl_op         6191\n",
       "tax_liens                     5336\n",
       "pub_rec                       4970\n",
       "mo_sin_rcnt_tl                4284\n",
       "chargeoff_within_12_mths      3940\n",
       "pub_rec_bankruptcies          3917\n",
       "mths_since_recent_bc          3898\n",
       "total_bal_ex_mort             3828\n",
       "total_bc_limit                3613\n",
       "delinq_2yrs                   3604\n",
       "total_il_high_credit_limit    3511\n",
       "revol_bal                     3489\n",
       "total_rev_hi_lim              3014\n",
       "num_il_tl                     2823\n",
       "num_bc_sats                   2738\n",
       "num_tl_90g_dpd_24m            2713\n",
       "tot_hi_cred_lim               2441\n",
       "num_tl_op_past_12m            2056\n",
       "num_rev_tl_bal_gt_0           1780\n",
       "acc_open_past_24mths          1652\n",
       "num_op_rev_tl                 1646\n",
       "num_bc_tl                     1639\n",
       "open_acc                      1504\n",
       "annual_inc                    1484\n",
       "mort_acc                      1475\n",
       "num_sats                      1458\n",
       "inq_last_6mths                1260\n",
       "total_acc                      996\n",
       "mo_sin_old_rev_tl_op           840\n",
       "installment                      4\n",
       "orig_month                       0\n",
       "int_rate                         0\n",
       "term                             0\n",
       "revol_util                       0\n",
       "dti                              0\n",
       "policy_code                      0\n",
       "mo_sin_old_il_acct               0\n",
       "num_rev_accts                    0\n",
       "percent_bc_gt_75                 0\n",
       "mths_since_last_delinq           0\n",
       "mths_since_last_record           0\n",
       "pct_tl_nvr_dlq                   0\n",
       "mths_since_recent_inq            0\n",
       "isdefault                        0\n",
       "dtype: int64"
      ]
     },
     "execution_count": 90,
     "metadata": {},
     "output_type": "execute_result"
    }
   ],
   "source": [
    "#Let's investigate which columns have most of these extreme outliers:\n",
    "print('Extreme Outlier Count by Column: ')\n",
    "pd.DataFrame(z_4, columns=df[num_cols].columns).sum().sort_values(ascending=False)"
   ]
  },
  {
   "cell_type": "code",
   "execution_count": 91,
   "metadata": {},
   "outputs": [],
   "source": [
    "#Let's investigate the 20 top columns in more detail:\n",
    "top20 = pd.DataFrame(z_4, columns=df[num_cols].columns).sum().sort_values(ascending=False).index[:20]"
   ]
  },
  {
   "cell_type": "code",
   "execution_count": 92,
   "metadata": {},
   "outputs": [
    {
     "data": {
      "text/html": [
       "<div>\n",
       "<style scoped>\n",
       "    .dataframe tbody tr th:only-of-type {\n",
       "        vertical-align: middle;\n",
       "    }\n",
       "\n",
       "    .dataframe tbody tr th {\n",
       "        vertical-align: top;\n",
       "    }\n",
       "\n",
       "    .dataframe thead th {\n",
       "        text-align: right;\n",
       "    }\n",
       "</style>\n",
       "<table border=\"1\" class=\"dataframe\">\n",
       "  <thead>\n",
       "    <tr style=\"text-align: right;\">\n",
       "      <th></th>\n",
       "      <th>collections_12_mths_ex_med</th>\n",
       "      <th>num_accts_ever_120_pd</th>\n",
       "      <th>mo_sin_rcnt_rev_tl_op</th>\n",
       "      <th>tax_liens</th>\n",
       "      <th>pub_rec</th>\n",
       "      <th>mo_sin_rcnt_tl</th>\n",
       "      <th>chargeoff_within_12_mths</th>\n",
       "      <th>pub_rec_bankruptcies</th>\n",
       "      <th>mths_since_recent_bc</th>\n",
       "      <th>total_bal_ex_mort</th>\n",
       "      <th>total_bc_limit</th>\n",
       "      <th>delinq_2yrs</th>\n",
       "      <th>total_il_high_credit_limit</th>\n",
       "      <th>revol_bal</th>\n",
       "      <th>total_rev_hi_lim</th>\n",
       "      <th>num_il_tl</th>\n",
       "      <th>num_bc_sats</th>\n",
       "      <th>num_tl_90g_dpd_24m</th>\n",
       "      <th>tot_hi_cred_lim</th>\n",
       "      <th>num_tl_op_past_12m</th>\n",
       "    </tr>\n",
       "  </thead>\n",
       "  <tbody>\n",
       "    <tr>\n",
       "      <th>count</th>\n",
       "      <td>421095.000000</td>\n",
       "      <td>421095.000000</td>\n",
       "      <td>421095.000000</td>\n",
       "      <td>421095.000000</td>\n",
       "      <td>421095.000000</td>\n",
       "      <td>421095.000000</td>\n",
       "      <td>421095.000000</td>\n",
       "      <td>421095.000000</td>\n",
       "      <td>421095.000000</td>\n",
       "      <td>4.210950e+05</td>\n",
       "      <td>421095.000000</td>\n",
       "      <td>421095.000000</td>\n",
       "      <td>4.210950e+05</td>\n",
       "      <td>4.210950e+05</td>\n",
       "      <td>4.210950e+05</td>\n",
       "      <td>421095.000000</td>\n",
       "      <td>421095.000000</td>\n",
       "      <td>421095.000000</td>\n",
       "      <td>4.210950e+05</td>\n",
       "      <td>421095.000000</td>\n",
       "    </tr>\n",
       "    <tr>\n",
       "      <th>mean</th>\n",
       "      <td>0.020240</td>\n",
       "      <td>0.527054</td>\n",
       "      <td>13.451247</td>\n",
       "      <td>0.064556</td>\n",
       "      <td>0.233776</td>\n",
       "      <td>8.013204</td>\n",
       "      <td>0.010420</td>\n",
       "      <td>0.133188</td>\n",
       "      <td>24.632344</td>\n",
       "      <td>5.222199e+04</td>\n",
       "      <td>21958.208958</td>\n",
       "      <td>0.347397</td>\n",
       "      <td>4.347865e+04</td>\n",
       "      <td>1.768548e+04</td>\n",
       "      <td>3.365771e+04</td>\n",
       "      <td>8.649001</td>\n",
       "      <td>4.799879</td>\n",
       "      <td>0.094318</td>\n",
       "      <td>1.734070e+05</td>\n",
       "      <td>2.170947</td>\n",
       "    </tr>\n",
       "    <tr>\n",
       "      <th>std</th>\n",
       "      <td>0.157506</td>\n",
       "      <td>1.332797</td>\n",
       "      <td>17.156985</td>\n",
       "      <td>0.444231</td>\n",
       "      <td>0.649778</td>\n",
       "      <td>9.189312</td>\n",
       "      <td>0.117019</td>\n",
       "      <td>0.385975</td>\n",
       "      <td>32.212754</td>\n",
       "      <td>4.907494e+04</td>\n",
       "      <td>21840.371112</td>\n",
       "      <td>0.927695</td>\n",
       "      <td>4.394271e+04</td>\n",
       "      <td>2.419503e+04</td>\n",
       "      <td>3.766404e+04</td>\n",
       "      <td>7.471041</td>\n",
       "      <td>3.036184</td>\n",
       "      <td>0.522758</td>\n",
       "      <td>1.756722e+05</td>\n",
       "      <td>1.853858</td>\n",
       "    </tr>\n",
       "    <tr>\n",
       "      <th>min</th>\n",
       "      <td>0.000000</td>\n",
       "      <td>0.000000</td>\n",
       "      <td>0.000000</td>\n",
       "      <td>0.000000</td>\n",
       "      <td>0.000000</td>\n",
       "      <td>0.000000</td>\n",
       "      <td>0.000000</td>\n",
       "      <td>0.000000</td>\n",
       "      <td>0.000000</td>\n",
       "      <td>0.000000e+00</td>\n",
       "      <td>0.000000</td>\n",
       "      <td>0.000000</td>\n",
       "      <td>0.000000e+00</td>\n",
       "      <td>0.000000e+00</td>\n",
       "      <td>0.000000e+00</td>\n",
       "      <td>0.000000</td>\n",
       "      <td>0.000000</td>\n",
       "      <td>0.000000</td>\n",
       "      <td>2.500000e+03</td>\n",
       "      <td>0.000000</td>\n",
       "    </tr>\n",
       "    <tr>\n",
       "      <th>25%</th>\n",
       "      <td>0.000000</td>\n",
       "      <td>0.000000</td>\n",
       "      <td>4.000000</td>\n",
       "      <td>0.000000</td>\n",
       "      <td>0.000000</td>\n",
       "      <td>3.000000</td>\n",
       "      <td>0.000000</td>\n",
       "      <td>0.000000</td>\n",
       "      <td>6.000000</td>\n",
       "      <td>2.259850e+04</td>\n",
       "      <td>7800.000000</td>\n",
       "      <td>0.000000</td>\n",
       "      <td>1.548150e+04</td>\n",
       "      <td>6.480000e+03</td>\n",
       "      <td>1.440000e+04</td>\n",
       "      <td>4.000000</td>\n",
       "      <td>3.000000</td>\n",
       "      <td>0.000000</td>\n",
       "      <td>5.090900e+04</td>\n",
       "      <td>1.000000</td>\n",
       "    </tr>\n",
       "    <tr>\n",
       "      <th>50%</th>\n",
       "      <td>0.000000</td>\n",
       "      <td>0.000000</td>\n",
       "      <td>8.000000</td>\n",
       "      <td>0.000000</td>\n",
       "      <td>0.000000</td>\n",
       "      <td>5.000000</td>\n",
       "      <td>0.000000</td>\n",
       "      <td>0.000000</td>\n",
       "      <td>13.000000</td>\n",
       "      <td>3.959600e+04</td>\n",
       "      <td>15200.000000</td>\n",
       "      <td>0.000000</td>\n",
       "      <td>3.297000e+04</td>\n",
       "      <td>1.199600e+04</td>\n",
       "      <td>2.460000e+04</td>\n",
       "      <td>7.000000</td>\n",
       "      <td>4.000000</td>\n",
       "      <td>0.000000</td>\n",
       "      <td>1.114050e+05</td>\n",
       "      <td>2.000000</td>\n",
       "    </tr>\n",
       "    <tr>\n",
       "      <th>75%</th>\n",
       "      <td>0.000000</td>\n",
       "      <td>0.000000</td>\n",
       "      <td>16.000000</td>\n",
       "      <td>0.000000</td>\n",
       "      <td>0.000000</td>\n",
       "      <td>10.000000</td>\n",
       "      <td>0.000000</td>\n",
       "      <td>0.000000</td>\n",
       "      <td>29.000000</td>\n",
       "      <td>6.565100e+04</td>\n",
       "      <td>28600.000000</td>\n",
       "      <td>0.000000</td>\n",
       "      <td>5.829900e+04</td>\n",
       "      <td>2.142800e+04</td>\n",
       "      <td>4.168850e+04</td>\n",
       "      <td>11.000000</td>\n",
       "      <td>6.000000</td>\n",
       "      <td>0.000000</td>\n",
       "      <td>2.496290e+05</td>\n",
       "      <td>3.000000</td>\n",
       "    </tr>\n",
       "    <tr>\n",
       "      <th>max</th>\n",
       "      <td>14.000000</td>\n",
       "      <td>39.000000</td>\n",
       "      <td>324.000000</td>\n",
       "      <td>85.000000</td>\n",
       "      <td>86.000000</td>\n",
       "      <td>263.000000</td>\n",
       "      <td>10.000000</td>\n",
       "      <td>11.000000</td>\n",
       "      <td>615.000000</td>\n",
       "      <td>2.921551e+06</td>\n",
       "      <td>834300.000000</td>\n",
       "      <td>39.000000</td>\n",
       "      <td>2.101913e+06</td>\n",
       "      <td>2.904836e+06</td>\n",
       "      <td>9.999999e+06</td>\n",
       "      <td>132.000000</td>\n",
       "      <td>63.000000</td>\n",
       "      <td>39.000000</td>\n",
       "      <td>9.999999e+06</td>\n",
       "      <td>30.000000</td>\n",
       "    </tr>\n",
       "  </tbody>\n",
       "</table>\n",
       "</div>"
      ],
      "text/plain": [
       "       collections_12_mths_ex_med  num_accts_ever_120_pd  \\\n",
       "count               421095.000000          421095.000000   \n",
       "mean                     0.020240               0.527054   \n",
       "std                      0.157506               1.332797   \n",
       "min                      0.000000               0.000000   \n",
       "25%                      0.000000               0.000000   \n",
       "50%                      0.000000               0.000000   \n",
       "75%                      0.000000               0.000000   \n",
       "max                     14.000000              39.000000   \n",
       "\n",
       "       mo_sin_rcnt_rev_tl_op      tax_liens        pub_rec  mo_sin_rcnt_tl  \\\n",
       "count          421095.000000  421095.000000  421095.000000   421095.000000   \n",
       "mean               13.451247       0.064556       0.233776        8.013204   \n",
       "std                17.156985       0.444231       0.649778        9.189312   \n",
       "min                 0.000000       0.000000       0.000000        0.000000   \n",
       "25%                 4.000000       0.000000       0.000000        3.000000   \n",
       "50%                 8.000000       0.000000       0.000000        5.000000   \n",
       "75%                16.000000       0.000000       0.000000       10.000000   \n",
       "max               324.000000      85.000000      86.000000      263.000000   \n",
       "\n",
       "       chargeoff_within_12_mths  pub_rec_bankruptcies  mths_since_recent_bc  \\\n",
       "count             421095.000000         421095.000000         421095.000000   \n",
       "mean                   0.010420              0.133188             24.632344   \n",
       "std                    0.117019              0.385975             32.212754   \n",
       "min                    0.000000              0.000000              0.000000   \n",
       "25%                    0.000000              0.000000              6.000000   \n",
       "50%                    0.000000              0.000000             13.000000   \n",
       "75%                    0.000000              0.000000             29.000000   \n",
       "max                   10.000000             11.000000            615.000000   \n",
       "\n",
       "       total_bal_ex_mort  total_bc_limit    delinq_2yrs  \\\n",
       "count       4.210950e+05   421095.000000  421095.000000   \n",
       "mean        5.222199e+04    21958.208958       0.347397   \n",
       "std         4.907494e+04    21840.371112       0.927695   \n",
       "min         0.000000e+00        0.000000       0.000000   \n",
       "25%         2.259850e+04     7800.000000       0.000000   \n",
       "50%         3.959600e+04    15200.000000       0.000000   \n",
       "75%         6.565100e+04    28600.000000       0.000000   \n",
       "max         2.921551e+06   834300.000000      39.000000   \n",
       "\n",
       "       total_il_high_credit_limit     revol_bal  total_rev_hi_lim  \\\n",
       "count                4.210950e+05  4.210950e+05      4.210950e+05   \n",
       "mean                 4.347865e+04  1.768548e+04      3.365771e+04   \n",
       "std                  4.394271e+04  2.419503e+04      3.766404e+04   \n",
       "min                  0.000000e+00  0.000000e+00      0.000000e+00   \n",
       "25%                  1.548150e+04  6.480000e+03      1.440000e+04   \n",
       "50%                  3.297000e+04  1.199600e+04      2.460000e+04   \n",
       "75%                  5.829900e+04  2.142800e+04      4.168850e+04   \n",
       "max                  2.101913e+06  2.904836e+06      9.999999e+06   \n",
       "\n",
       "           num_il_tl    num_bc_sats  num_tl_90g_dpd_24m  tot_hi_cred_lim  \\\n",
       "count  421095.000000  421095.000000       421095.000000     4.210950e+05   \n",
       "mean        8.649001       4.799879            0.094318     1.734070e+05   \n",
       "std         7.471041       3.036184            0.522758     1.756722e+05   \n",
       "min         0.000000       0.000000            0.000000     2.500000e+03   \n",
       "25%         4.000000       3.000000            0.000000     5.090900e+04   \n",
       "50%         7.000000       4.000000            0.000000     1.114050e+05   \n",
       "75%        11.000000       6.000000            0.000000     2.496290e+05   \n",
       "max       132.000000      63.000000           39.000000     9.999999e+06   \n",
       "\n",
       "       num_tl_op_past_12m  \n",
       "count       421095.000000  \n",
       "mean             2.170947  \n",
       "std              1.853858  \n",
       "min              0.000000  \n",
       "25%              1.000000  \n",
       "50%              2.000000  \n",
       "75%              3.000000  \n",
       "max             30.000000  "
      ]
     },
     "execution_count": 92,
     "metadata": {},
     "output_type": "execute_result"
    }
   ],
   "source": [
    "df[top20].describe()"
   ]
  },
  {
   "cell_type": "code",
   "execution_count": 93,
   "metadata": {},
   "outputs": [],
   "source": [
    "#The max row in the above table is particularly interesting\n",
    "#For example, one applicant had\"Number of collections in 12 months excluding medical collections\" == 14 (col 1)\n",
    "#Somebody has 39 accounts that are at least 120 days past due (col 2)"
   ]
  },
  {
   "cell_type": "code",
   "execution_count": 94,
   "metadata": {},
   "outputs": [],
   "source": [
    "#Let's substitute values for extreme outliers in the outlier heavymost columns:\n",
    "#There are two approaches to decide if to replace outliers: \n",
    "#1. business knowledge for values that are just wrong\n",
    "#2. deciding to remove extreme outliers as they may bias our model\n",
    "\n",
    "#Business decisions: outliers might be errors:\n",
    "df['collections_12_mths_ex_med'].clip(upper=5, inplace=True)\n",
    "df['num_accts_ever_120_pd'].clip(upper=10, inplace=True)\n",
    "df['tax_liens'].clip(upper=5, inplace=True)\n",
    "df['pub_rec'].clip(upper=5, inplace=True)\n",
    "df['chargeoff_within_12_mths'].clip(upper=5, inplace=True)\n",
    "df['pub_rec_bankruptcies'].clip(upper=3, inplace=True)\n",
    "df['delinq_2yrs'].clip(upper=5, inplace=True)\n",
    "\n",
    "\n",
    "#Bias reduction decisions: outliers will affect our model in a way that we do not expect to generalize\n",
    "df['mo_sin_rcnt_rev_tl_op'].clip(upper=200, inplace=True)\n",
    "df['mo_sin_rcnt_tl'].clip(upper=40, inplace=True)\n",
    "df['mths_since_recent_bc'].clip(upper=50, inplace=True)\n",
    "\n",
    "#Deciding not to clip the other features as they are significant business metrics"
   ]
  },
  {
   "cell_type": "code",
   "execution_count": 95,
   "metadata": {},
   "outputs": [],
   "source": [
    "#Let's visualize outliers with a scatter plot matrix\n",
    "\n",
    "#sns.pairplot(df[num_cols], hue='isdefault')"
   ]
  },
  {
   "cell_type": "code",
   "execution_count": 96,
   "metadata": {},
   "outputs": [],
   "source": [
    "#df[num_cols].boxplot()\n",
    "#sns.boxplot(x=\"variable\", y=\"value\", data=pd.melt(df[num_cols]))"
   ]
  },
  {
   "cell_type": "code",
   "execution_count": 97,
   "metadata": {},
   "outputs": [],
   "source": [
    "#Examination of categorical attributes:"
   ]
  },
  {
   "cell_type": "code",
   "execution_count": 98,
   "metadata": {},
   "outputs": [],
   "source": [
    "cat_cols = df.select_dtypes(include='object').columns"
   ]
  },
  {
   "cell_type": "code",
   "execution_count": 99,
   "metadata": {},
   "outputs": [
    {
     "name": "stdout",
     "output_type": "stream",
     "text": [
      "States included in dataset: 49\n"
     ]
    }
   ],
   "source": [
    "#How many states are included in the data:\n",
    "print('States included in dataset: {}'.format(len(df['addr_state'].unique())))"
   ]
  },
  {
   "cell_type": "code",
   "execution_count": 100,
   "metadata": {},
   "outputs": [
    {
     "data": {
      "text/plain": [
       "array(['KS', 'VT', 'IN', 'OH', 'FL', 'VA', 'MD', 'NJ', 'TX', 'NC', 'PA',\n",
       "       'AZ', 'MA', 'SC', 'TN', 'NY', 'AL', 'GA', 'CA', 'IL', 'OR', 'DE',\n",
       "       'MO', 'DC', 'MN', 'NM', 'WA', 'NE', 'MI', 'CO', 'WI', 'HI', 'RI',\n",
       "       'CT', 'SD', 'LA', 'NH', 'NV', 'OK', 'MT', 'AR', 'WV', 'WY', 'KY',\n",
       "       'MS', 'UT', 'ME', 'ND', 'AK'], dtype=object)"
      ]
     },
     "execution_count": 100,
     "metadata": {},
     "output_type": "execute_result"
    }
   ],
   "source": [
    "df['addr_state'].unique()"
   ]
  },
  {
   "cell_type": "code",
   "execution_count": 101,
   "metadata": {},
   "outputs": [],
   "source": [
    "#list found on the internet:\n",
    "list_of_states = ['AL','AK','AZ','AR','CA','CO','CT','DC','DE','FL','GA','HI','ID','IL','IN','IA','KS','KY','LA','ME',\n",
    "                  'MA','MI','MN','MS','MO','MT','NE','NV','NH','NJ','NM','NY','NC','ND','OH','OK','OR','PA','RI',\n",
    "                  'SC','SD','TN','TX','UT','VT','VA','WA','WV','WI','WY','MD']"
   ]
  },
  {
   "cell_type": "code",
   "execution_count": 102,
   "metadata": {},
   "outputs": [
    {
     "data": {
      "text/plain": [
       "['ID', 'IA']"
      ]
     },
     "execution_count": 102,
     "metadata": {},
     "output_type": "execute_result"
    }
   ],
   "source": [
    "#Our dataset is missing data from Idaho and Iowa\n",
    "[i for i in list_of_states if i not in df['addr_state'].unique()]"
   ]
  },
  {
   "cell_type": "code",
   "execution_count": 103,
   "metadata": {},
   "outputs": [
    {
     "name": "stdout",
     "output_type": "stream",
     "text": [
      "['Individual' 'Joint App']\n",
      "Individual    420584\n",
      "Joint App        511\n",
      "Name: application_type, dtype: int64\n"
     ]
    }
   ],
   "source": [
    "#Analysis of application type\n",
    "\n",
    "#unique values:\n",
    "print(df.application_type.unique())\n",
    "\n",
    "#value counts:\n",
    "print(df.application_type.value_counts())"
   ]
  },
  {
   "cell_type": "code",
   "execution_count": 104,
   "metadata": {},
   "outputs": [],
   "source": [
    "#Based on the above, we should have cast this attribute to binary earlier. \n",
    "#However, there is a tremendous class imbalance so we might as well drop the attribute:\n",
    "df.drop('application_type', axis=1, inplace=True)"
   ]
  },
  {
   "cell_type": "code",
   "execution_count": 105,
   "metadata": {},
   "outputs": [
    {
     "name": "stdout",
     "output_type": "stream",
     "text": [
      "['B' 'A' 'D' 'E' 'C' 'F' 'G']\n",
      "C    120567\n",
      "B    117606\n",
      "A     73336\n",
      "D     62654\n",
      "E     34948\n",
      "F      9817\n",
      "G      2167\n",
      "Name: grade, dtype: int64\n"
     ]
    }
   ],
   "source": [
    "#Same analysis for grade:\n",
    "\n",
    "#unique values:\n",
    "print(df.grade.unique())\n",
    "\n",
    "#value counts:\n",
    "print(df.grade.value_counts())"
   ]
  },
  {
   "cell_type": "code",
   "execution_count": 106,
   "metadata": {},
   "outputs": [
    {
     "name": "stdout",
     "output_type": "stream",
     "text": [
      "['MORTGAGE' 'RENT' 'OWN' 'ANY']\n",
      "MORTGAGE    207683\n",
      "RENT        167644\n",
      "OWN          45766\n",
      "ANY              2\n",
      "Name: home_ownership, dtype: int64\n"
     ]
    }
   ],
   "source": [
    "#Grade looks alright. Next, home_ownership:\n",
    "\n",
    "#unique values:\n",
    "print(df.home_ownership.unique())\n",
    "\n",
    "#value counts:\n",
    "print(df.home_ownership.value_counts())"
   ]
  },
  {
   "cell_type": "code",
   "execution_count": 107,
   "metadata": {},
   "outputs": [
    {
     "name": "stdout",
     "output_type": "stream",
     "text": [
      "['w' 'f']\n",
      "w    267252\n",
      "f    153843\n",
      "Name: initial_list_status, dtype: int64\n"
     ]
    }
   ],
   "source": [
    "#The above would imply that owning and having a mortgage are two different things:\n",
    "#No research online verifies this, but we assume 'OWN' implies the home is completely owned by the landlord\n",
    "#ANY looks strange but it's insignificant so we can leave it\n",
    "\n",
    "#Next, initial_list_status\n",
    "\n",
    "#unique values:\n",
    "print(df.initial_list_status.unique())\n",
    "\n",
    "#value counts:\n",
    "print(df.initial_list_status.value_counts())"
   ]
  },
  {
   "cell_type": "code",
   "execution_count": 108,
   "metadata": {},
   "outputs": [],
   "source": [
    "#Let's binarize the initial_list_status here:\n",
    "df['initial_list_status'] = [1 if 'w' else 0 for i in df['initial_list_status']]\n",
    "#df['initial_list_status'].head()"
   ]
  },
  {
   "cell_type": "code",
   "execution_count": 109,
   "metadata": {},
   "outputs": [],
   "source": [
    "#We can drop issue date and loan status because we replaced them with orig_month and isdefault earlier:\n",
    "df.drop(columns=['issue_d', 'loan_status'], inplace=True)"
   ]
  },
  {
   "cell_type": "code",
   "execution_count": 110,
   "metadata": {},
   "outputs": [
    {
     "name": "stdout",
     "output_type": "stream",
     "text": [
      "['B3' 'A1' 'D5' 'D1' 'E3' 'B4' 'D2' 'A4' 'C4' 'C2' 'A2' 'D3' 'C1' 'C5'\n",
      " 'C3' 'B2' 'E2' 'E4' 'A5' 'F3' 'F2' 'D4' 'B1' 'B5' 'F1' 'E5' 'A3' 'F5'\n",
      " 'E1' 'G2' 'G1' 'G3' 'G4' 'F4' 'G5']\n",
      "C1    26434\n",
      "C2    25496\n",
      "B4    25121\n",
      "C3    24844\n",
      "C4    24752\n",
      "B3    24637\n",
      "B5    23581\n",
      "A5    23059\n",
      "B2    22171\n",
      "B1    22096\n",
      "C5    19041\n",
      "D1    16977\n",
      "A4    15486\n",
      "D2    12757\n",
      "A1    12373\n",
      "D3    11638\n",
      "A2    11529\n",
      "D4    11459\n",
      "A3    10889\n",
      "D5     9823\n",
      "E1     9235\n",
      "E2     8335\n",
      "E3     7158\n",
      "E4     5732\n",
      "E5     4488\n",
      "F1     3278\n",
      "F2     2391\n",
      "F3     1725\n",
      "F4     1342\n",
      "F5     1081\n",
      "G1      762\n",
      "G2      575\n",
      "G3      398\n",
      "G4      241\n",
      "G5      191\n",
      "Name: sub_grade, dtype: int64\n"
     ]
    }
   ],
   "source": [
    "#Next, sub_grade\n",
    "\n",
    "#unique values:\n",
    "print(df.sub_grade.unique())\n",
    "\n",
    "#value counts:\n",
    "print(df.sub_grade.value_counts())"
   ]
  },
  {
   "cell_type": "code",
   "execution_count": 111,
   "metadata": {},
   "outputs": [
    {
     "name": "stdout",
     "output_type": "stream",
     "text": [
      "['debt_consolidation' 'credit_card' 'home_improvement' 'other' 'car'\n",
      " 'small_business' 'major_purchase' 'vacation' 'house' 'medical' 'moving'\n",
      " 'renewable_energy' 'wedding' 'educational']\n",
      "debt_consolidation    250020\n",
      "credit_card           102025\n",
      "home_improvement       25293\n",
      "other                  19204\n",
      "major_purchase          7449\n",
      "medical                 3938\n",
      "car                     3466\n",
      "small_business          3364\n",
      "moving                  2420\n",
      "vacation                2249\n",
      "house                   1438\n",
      "renewable_energy         224\n",
      "wedding                    4\n",
      "educational                1\n",
      "Name: purpose, dtype: int64\n"
     ]
    }
   ],
   "source": [
    "#Next, purpose\n",
    "\n",
    "#unique values:\n",
    "print(df.purpose.unique())\n",
    "\n",
    "#value counts:\n",
    "print(df.purpose.value_counts())"
   ]
  },
  {
   "cell_type": "code",
   "execution_count": 112,
   "metadata": {},
   "outputs": [
    {
     "name": "stdout",
     "output_type": "stream",
     "text": [
      "['Debt consolidation' 'Credit card refinancing' 'Home improvement' nan\n",
      " 'Other' 'Car financing' 'Business' 'Major purchase' 'Vacation'\n",
      " 'Home buying' 'Medical expenses' 'Moving and relocation' 'Green loan'\n",
      " 'odymeds' 'SAVE' 'Learning and training' 'new day'\n",
      " 'Trying to come back to reality!' 'considerate'\n",
      " 'Paying off higher interest cards & auto'\n",
      " 'Simple Loan Until Contract Is Completed'\n",
      " 'Prescription Drug and Medical Costs' 'Pay off Lowes Card'\n",
      " 'new kitchen for momma!' 'DebtC'\n",
      " 'New Baby and New House (CC Consolidate)' 'Credit Card/Auto Repair'\n",
      " 'Student Loan']\n",
      "Debt consolidation                         249926\n",
      "Credit card refinancing                    102056\n",
      "Home improvement                            25264\n",
      "Other                                       19179\n",
      "Major purchase                               7434\n",
      "Medical expenses                             3926\n",
      "Car financing                                3475\n",
      "Business                                     3357\n",
      "Moving and relocation                        2422\n",
      "Vacation                                     2246\n",
      "Home buying                                  1440\n",
      "Green loan                                    223\n",
      "DebtC                                           1\n",
      "Simple Loan Until Contract Is Completed         1\n",
      "New Baby and New House (CC Consolidate)         1\n",
      "new kitchen for momma!                          1\n",
      "Prescription Drug and Medical Costs             1\n",
      "odymeds                                         1\n",
      "SAVE                                            1\n",
      "Pay off Lowes Card                              1\n",
      "Student Loan                                    1\n",
      "Paying off higher interest cards & auto         1\n",
      "Learning and training                           1\n",
      "new day                                         1\n",
      "Credit Card/Auto Repair                         1\n",
      "Trying to come back to reality!                 1\n",
      "considerate                                     1\n",
      "Name: title, dtype: int64\n"
     ]
    }
   ],
   "source": [
    "#Next, title\n",
    "\n",
    "#unique values:\n",
    "print(df.title.unique())\n",
    "\n",
    "#value counts:\n",
    "print(df.title.value_counts())"
   ]
  },
  {
   "cell_type": "code",
   "execution_count": 113,
   "metadata": {},
   "outputs": [],
   "source": [
    "#The purpose and title attributes reflect the same information:\n",
    "#purpose: A category provided by the borrower for the loan request. \n",
    "#title: The loan title provided by the borrower\n",
    "\n",
    "#Let's examine whether the two are close:\n",
    "\n",
    "#pd.concat([df.title.value_counts(), df.purpose.value_counts()], axis=1)"
   ]
  },
  {
   "cell_type": "code",
   "execution_count": 114,
   "metadata": {},
   "outputs": [
    {
     "name": "stdout",
     "output_type": "stream",
     "text": [
      "['Not Verified' 'Verified' 'Source Verified']\n",
      "Source Verified    179565\n",
      "Verified           123016\n",
      "Not Verified       118514\n",
      "Name: verification_status, dtype: int64\n"
     ]
    }
   ],
   "source": [
    "#Next, verification_status\n",
    "#Indicates if income was verified by LC, not verified, or if the income source was verified\n",
    "#unique values:\n",
    "print(df.verification_status.unique())\n",
    "\n",
    "#value counts:\n",
    "print(df.verification_status.value_counts())\n",
    "\n",
    "#Everything looks alright here"
   ]
  },
  {
   "cell_type": "code",
   "execution_count": 115,
   "metadata": {},
   "outputs": [
    {
     "name": "stdout",
     "output_type": "stream",
     "text": [
      "945xx    4466\n",
      "750xx    4404\n",
      "112xx    4170\n",
      "300xx    4006\n",
      "606xx    3945\n",
      "331xx    3433\n",
      "070xx    3364\n",
      "770xx    3351\n",
      "900xx    3218\n",
      "100xx    3218\n",
      "891xx    3103\n",
      "330xx    3029\n",
      "117xx    2898\n",
      "917xx    2805\n",
      "104xx    2771\n",
      "852xx    2513\n",
      "921xx    2509\n",
      "926xx    2414\n",
      "481xx    2332\n",
      "913xx    2301\n",
      "925xx    2267\n",
      "334xx    2246\n",
      "601xx    2229\n",
      "600xx    2194\n",
      "604xx    2165\n",
      "113xx    2129\n",
      "853xx    2069\n",
      "802xx    2046\n",
      "080xx    2038\n",
      "773xx    2037\n",
      "         ... \n",
      "340xx       1\n",
      "649xx       1\n",
      "819xx       1\n",
      "510xx       1\n",
      "269xx       1\n",
      "343xx       1\n",
      "942xx       1\n",
      "522xx       1\n",
      "507xx       1\n",
      "709xx       1\n",
      "821xx       1\n",
      "520xx       1\n",
      "503xx       1\n",
      "694xx       1\n",
      "969xx       1\n",
      "929xx       1\n",
      "568xx       1\n",
      "837xx       1\n",
      "502xx       1\n",
      "509xx       1\n",
      "854xx       1\n",
      "007xx       1\n",
      "742xx       1\n",
      "205xx       1\n",
      "817xx       1\n",
      "348xx       1\n",
      "702xx       1\n",
      "849xx       1\n",
      "892xx       1\n",
      "862xx       1\n",
      "Name: zip_code, Length: 914, dtype: int64\n"
     ]
    }
   ],
   "source": [
    "#Next, zip_code\n",
    "#unique values:\n",
    "#print(df.zip_code.unique())\n",
    "\n",
    "#value counts:\n",
    "print(df.zip_code.value_counts())\n",
    "\n",
    "#Zip code is redundant with state and because it is very granular we will remove it"
   ]
  },
  {
   "cell_type": "code",
   "execution_count": 116,
   "metadata": {},
   "outputs": [],
   "source": [
    "#subgrade is already reflected in grade, purpose is reflected in title:\n",
    "redundant = ['sub_grade', 'purpose', 'zip_code']"
   ]
  },
  {
   "cell_type": "code",
   "execution_count": 117,
   "metadata": {},
   "outputs": [],
   "source": [
    "df.drop(redundant, axis = 1, inplace=True)"
   ]
  },
  {
   "cell_type": "code",
   "execution_count": 118,
   "metadata": {},
   "outputs": [],
   "source": [
    "#Categorical plots for outlier detection with cat attributes:\n",
    "#sns.catplot(x=\"deck\", kind=\"count\", palette=\"ch:.25\", data=df[cat_cols]);"
   ]
  },
  {
   "cell_type": "code",
   "execution_count": 119,
   "metadata": {},
   "outputs": [
    {
     "data": {
      "text/plain": [
       "Index(['earliest_cr_line', 'orig_date'], dtype='object')"
      ]
     },
     "execution_count": 119,
     "metadata": {},
     "output_type": "execute_result"
    }
   ],
   "source": [
    "#check min and max date ranges for date attributes:\n",
    "df.select_dtypes(exclude=['int', 'float', 'object']).columns"
   ]
  },
  {
   "cell_type": "code",
   "execution_count": 120,
   "metadata": {},
   "outputs": [
    {
     "name": "stdout",
     "output_type": "stream",
     "text": [
      "Earliest Credit Line opened: 2012-11-01 00:00:00\n",
      "Earliest origination: 1.0\n",
      "Latest origination: 12.0\n"
     ]
    }
   ],
   "source": [
    "#Latest earliest credit line opened should be before 2015\n",
    "print(\"Earliest Credit Line opened: {}\".format(df['earliest_cr_line'].max()))\n",
    "\n",
    "#Earliest origination date should be January 2015:\n",
    "print(\"Earliest origination: {}\".format(df['orig_month'].min()))\n",
    "\n",
    "#Latest origination date should be December 2015:\n",
    "print(\"Latest origination: {}\".format(df['orig_month'].max()))"
   ]
  },
  {
   "cell_type": "code",
   "execution_count": 121,
   "metadata": {},
   "outputs": [],
   "source": [
    "#the earliest origination attribute is no longer needed so we can remove it here:\n",
    "df.drop('orig_date', axis=1, inplace=True)"
   ]
  },
  {
   "cell_type": "code",
   "execution_count": 122,
   "metadata": {},
   "outputs": [],
   "source": [
    "#Let's create two attributes for month and year attribute of earliest opened credit line:\n",
    "df['earliest_cr_line_month'] = df['earliest_cr_line'].map(lambda x: x.month)\n",
    "df['earliest_cr_line_year'] = df['earliest_cr_line'].map(lambda x: x.year)"
   ]
  },
  {
   "cell_type": "code",
   "execution_count": 123,
   "metadata": {},
   "outputs": [],
   "source": [
    "#Checking outputs:\n",
    "#print(df['earliest_cr_line_month'].head())\n",
    "#print(df['earliest_cr_line_year'].head())"
   ]
  },
  {
   "cell_type": "code",
   "execution_count": 124,
   "metadata": {},
   "outputs": [],
   "source": [
    "#the earliest credit line attribute is no longer needed so we can remove it here:\n",
    "df.drop('earliest_cr_line', axis=1, inplace=True)"
   ]
  },
  {
   "cell_type": "code",
   "execution_count": 125,
   "metadata": {},
   "outputs": [],
   "source": [
    "#%store df"
   ]
  },
  {
   "cell_type": "code",
   "execution_count": 126,
   "metadata": {},
   "outputs": [],
   "source": [
    "df.to_csv('df.csv', index=False)"
   ]
  },
  {
   "cell_type": "code",
   "execution_count": null,
   "metadata": {},
   "outputs": [],
   "source": []
  }
 ],
 "metadata": {
  "kernelspec": {
   "display_name": "py36",
   "language": "python",
   "name": "py36"
  },
  "language_info": {
   "codemirror_mode": {
    "name": "ipython",
    "version": 3
   },
   "file_extension": ".py",
   "mimetype": "text/x-python",
   "name": "python",
   "nbconvert_exporter": "python",
   "pygments_lexer": "ipython3",
   "version": "3.6.7"
  }
 },
 "nbformat": 4,
 "nbformat_minor": 2
}
