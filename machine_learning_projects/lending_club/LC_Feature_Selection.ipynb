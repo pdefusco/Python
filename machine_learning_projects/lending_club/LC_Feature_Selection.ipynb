{
 "cells": [
  {
   "cell_type": "code",
   "execution_count": 1,
   "metadata": {},
   "outputs": [],
   "source": [
    "import pandas as pd\n",
    "import numpy as np\n",
    "%matplotlib inline\n",
    "import matplotlib as mpl\n",
    "import matplotlib.pyplot as plt\n",
    "import seaborn as sns\n",
    "from scipy import stats\n",
    "import os\n",
    "import math\n",
    "import pickle\n",
    "import featuretools as ft"
   ]
  },
  {
   "cell_type": "code",
   "execution_count": 2,
   "metadata": {},
   "outputs": [],
   "source": [
    "from sklearn_pandas import DataFrameMapper\n",
    "from sklearn.feature_selection import VarianceThreshold, SelectKBest, mutual_info_classif\n",
    "from sklearn.preprocessing import RobustScaler\n",
    "from sklearn.impute import SimpleImputer\n",
    "from sklearn.pipeline import Pipeline\n",
    "from sklearn.compose import ColumnTransformer"
   ]
  },
  {
   "cell_type": "code",
   "execution_count": 3,
   "metadata": {},
   "outputs": [],
   "source": [
    "from sklearn.preprocessing import RobustScaler\n",
    "from sklearn.model_selection import GridSearchCV, train_test_split, cross_val_score, StratifiedKFold\n",
    "from sklearn.metrics import accuracy_score, recall_score, precision_score, confusion_matrix, precision_recall_curve"
   ]
  },
  {
   "cell_type": "code",
   "execution_count": 4,
   "metadata": {},
   "outputs": [],
   "source": [
    "from sklearn.ensemble import AdaBoostClassifier\n",
    "from sklearn.ensemble import BaggingClassifier\n",
    "from sklearn.ensemble import RandomForestClassifier\n",
    "from sklearn.ensemble import ExtraTreesClassifier\n",
    "from sklearn.ensemble import GradientBoostingClassifier"
   ]
  },
  {
   "cell_type": "code",
   "execution_count": 5,
   "metadata": {},
   "outputs": [],
   "source": [
    "#importing the df:\n",
    "#%store -r df\n",
    "df = pd.read_csv('df.csv')"
   ]
  },
  {
   "cell_type": "code",
   "execution_count": 6,
   "metadata": {},
   "outputs": [],
   "source": [
    "#Going to do PCA and will only use numeric features:\n",
    "df = df.select_dtypes(include=['int', 'float'])"
   ]
  },
  {
   "cell_type": "code",
   "execution_count": 7,
   "metadata": {},
   "outputs": [],
   "source": [
    "df = df.iloc[:400000,]"
   ]
  },
  {
   "cell_type": "code",
   "execution_count": 8,
   "metadata": {},
   "outputs": [],
   "source": [
    "df = df.astype('float')"
   ]
  },
  {
   "cell_type": "code",
   "execution_count": 9,
   "metadata": {},
   "outputs": [],
   "source": [
    "#Loading model found in LC_modeling:\n",
    "loaded_model = pickle.load(open('finalized_model.sav', 'rb'))"
   ]
  },
  {
   "cell_type": "code",
   "execution_count": 10,
   "metadata": {},
   "outputs": [
    {
     "data": {
      "text/plain": [
       "{'preprocessor': ColumnTransformer(n_jobs=None, remainder='passthrough', sparse_threshold=0.3,\n",
       "          transformer_weights=None,\n",
       "          transformers=[('num', Pipeline(memory=None,\n",
       "      steps=[('imputer', SimpleImputer(copy=True, fill_value=None, missing_values=nan, strategy='mean',\n",
       "        verbose=0)), ('scaler', RobustScaler(copy=True, quantile_range=(25.0, 75.0), with_centering=True,\n",
       "        with_scaling=True))]), ['acc_open_past_24...redit_limit', 'total_rev_hi_lim', 'orig_month', 'earliest_cr_line_month', 'earliest_cr_line_year'])]),\n",
       " 'var': VarianceThreshold(threshold=0.5),\n",
       " 'kbest': SelectKBest(k=20, score_func=<function mutual_info_classif at 0x1126d9d90>),\n",
       " 'RandomForestClassifier': RandomForestClassifier(bootstrap=True, class_weight='balanced',\n",
       "             criterion='gini', max_depth=10, max_features='auto',\n",
       "             max_leaf_nodes=None, min_impurity_decrease=0.0,\n",
       "             min_impurity_split=None, min_samples_leaf=10000,\n",
       "             min_samples_split=10000, min_weight_fraction_leaf=0.0,\n",
       "             n_estimators=15, n_jobs=None, oob_score=False,\n",
       "             random_state=None, verbose=0, warm_start=False)}"
      ]
     },
     "execution_count": 10,
     "metadata": {},
     "output_type": "execute_result"
    }
   ],
   "source": [
    "loaded_model.named_steps"
   ]
  },
  {
   "cell_type": "code",
   "execution_count": 11,
   "metadata": {},
   "outputs": [
    {
     "data": {
      "text/plain": [
       "RandomForestClassifier(bootstrap=True, class_weight='balanced',\n",
       "            criterion='gini', max_depth=10, max_features='auto',\n",
       "            max_leaf_nodes=None, min_impurity_decrease=0.0,\n",
       "            min_impurity_split=None, min_samples_leaf=10000,\n",
       "            min_samples_split=10000, min_weight_fraction_leaf=0.0,\n",
       "            n_estimators=15, n_jobs=None, oob_score=False,\n",
       "            random_state=None, verbose=0, warm_start=False)"
      ]
     },
     "execution_count": 11,
     "metadata": {},
     "output_type": "execute_result"
    }
   ],
   "source": [
    "loaded_model.named_steps['RandomForestClassifier']"
   ]
  },
  {
   "cell_type": "code",
   "execution_count": 12,
   "metadata": {},
   "outputs": [],
   "source": [
    "X = df.drop('isdefault', axis=1)\n",
    "y = df.isdefault"
   ]
  },
  {
   "cell_type": "code",
   "execution_count": 13,
   "metadata": {},
   "outputs": [],
   "source": [
    "def retrieve_features(pipeline, X, y):\n",
    "    \n",
    "    var_sel_features = X.columns[loaded_model.named_steps['var'].get_support()]\n",
    "    kbest_sel_features = var_sel_features[loaded_model.named_steps['kbest'].get_support()]\n",
    "    \n",
    "    feat_importances = pd.DataFrame(\n",
    "        loaded_model.named_steps['RandomForestClassifier'].feature_importances_, \n",
    "        columns=['Importance']).set_index(kbest_sel_features)\n",
    "    \n",
    "    return var_sel_features, kbest_sel_features, feat_importances"
   ]
  },
  {
   "cell_type": "code",
   "execution_count": 15,
   "metadata": {},
   "outputs": [],
   "source": [
    "#Pulling feature importances for best model found so far:\n",
    "var_sel_features, kbest_sel_features, feat_importances = retrieve_features(loaded_model, X, y)"
   ]
  },
  {
   "cell_type": "code",
   "execution_count": 16,
   "metadata": {},
   "outputs": [
    {
     "data": {
      "image/png": "[encoded data removed]",
      "text/plain": [
       "<Figure size 432x288 with 1 Axes>"
      ]
     },
     "metadata": {
      "needs_background": "light"
     },
     "output_type": "display_data"
    }
   ],
   "source": [
    "feat_importances.sort_values(by='Importance', ascending=False).plot(kind='bar', title='Feature Importance')\n",
    "plt.show()"
   ]
  },
  {
   "cell_type": "code",
   "execution_count": null,
   "metadata": {},
   "outputs": [],
   "source": [
    "#Obviously features are sorted in terms of importance from left to right. \n",
    "#We can probably work with 10 of the most important features to engineer new ones.\n",
    "\n",
    "#Before we proceed, let's also look into the Pearson correlation among the features \n",
    "#To expedite things, I will immediately disregard features that showed little importance \n",
    "#and only focus on the topmost 10"
   ]
  },
  {
   "cell_type": "code",
   "execution_count": 17,
   "metadata": {},
   "outputs": [],
   "source": [
    "imp_features_sorted = feat_importances.sort_values(by='Importance', ascending=False).T.columns[:9]"
   ]
  },
  {
   "cell_type": "code",
   "execution_count": 18,
   "metadata": {},
   "outputs": [
    {
     "data": {
      "image/png": "[encoded data removed]",
      "text/plain": [
       "<Figure size 864x864 with 2 Axes>"
      ]
     },
     "metadata": {
      "needs_background": "light"
     },
     "output_type": "display_data"
    }
   ],
   "source": [
    "##Notice the features in the matrix are sorted by most to least important: top to bottom and left to right. \n",
    "fig, ax = plt.subplots(figsize=(12,12))\n",
    "sns.heatmap(df[imp_features_sorted].corr(), cbar=True, cmap='bwr', ax=ax)\n",
    "plt.show()"
   ]
  },
  {
   "cell_type": "code",
   "execution_count": 19,
   "metadata": {},
   "outputs": [],
   "source": [
    "#Notice that the colormap's lowest value, corresponding to dark blue, is -0.5\n",
    "\n",
    "#Clearly, num_tl_open_past is 12 months is highly correlated with the number of accounts opened int he last 24 months, \n",
    "#We will drop the former as it is less important than the latter:\n",
    "\n",
    "df.drop(['num_tl_op_past_12m'], axis=1, inplace=True)\n",
    "imp_feat_list = [i for i in imp_features_sorted if i not in('num_tl_op_past_12m')]"
   ]
  },
  {
   "cell_type": "code",
   "execution_count": 20,
   "metadata": {},
   "outputs": [],
   "source": [
    "#let's examine in more detail columns that have higher degrees of correlation:\n",
    "\n",
    "#Notice we are taking the absolute value of Pearson correlations to make a magnitude comparison\n",
    "corr_pairs = df[imp_feat_list].corr().abs().unstack().sort_values(ascending=False).drop_duplicates()"
   ]
  },
  {
   "cell_type": "code",
   "execution_count": 21,
   "metadata": {},
   "outputs": [
    {
     "data": {
      "text/plain": [
       "installment      installment             1.000000\n",
       "mo_sin_rcnt_tl   acc_open_past_24mths    0.496940\n",
       "tot_hi_cred_lim  total_bc_limit          0.404346\n",
       "dtype: float64"
      ]
     },
     "execution_count": 21,
     "metadata": {},
     "output_type": "execute_result"
    }
   ],
   "source": [
    "#Let's evaluate pairs that are more correlated:\n",
    "corr_pairs[corr_pairs>0.4]"
   ]
  },
  {
   "cell_type": "code",
   "execution_count": 22,
   "metadata": {},
   "outputs": [],
   "source": [
    "#The above applicant metric are also quite similar, but we will keep them\n",
    "\n",
    "#We can now start on feature engineering:"
   ]
  },
  {
   "cell_type": "code",
   "execution_count": 23,
   "metadata": {},
   "outputs": [
    {
     "data": {
      "text/plain": [
       "installment            annual_inc               0.298563\n",
       "mo_sin_rcnt_tl         mths_since_recent_inq    0.290464\n",
       "mo_sin_old_rev_tl_op   total_bc_limit           0.280188\n",
       "total_bc_limit         annual_inc               0.257955\n",
       "mths_since_recent_inq  acc_open_past_24mths     0.217925\n",
       "tot_hi_cred_lim        mo_sin_old_rev_tl_op     0.210915\n",
       "installment            mo_sin_old_rev_tl_op     0.159469\n",
       "annual_inc             mo_sin_old_rev_tl_op     0.130602\n",
       "acc_open_past_24mths   tot_hi_cred_lim          0.075747\n",
       "mo_sin_rcnt_tl         tot_hi_cred_lim          0.057900\n",
       "acc_open_past_24mths   mo_sin_old_rev_tl_op     0.057024\n",
       "mths_since_recent_inq  tot_hi_cred_lim          0.049797\n",
       "acc_open_past_24mths   annual_inc               0.046054\n",
       "annual_inc             mths_since_recent_inq    0.038158\n",
       "mo_sin_old_rev_tl_op   mo_sin_rcnt_tl           0.037583\n",
       "installment            mo_sin_rcnt_tl           0.028451\n",
       "mo_sin_rcnt_tl         annual_inc               0.024060\n",
       "total_bc_limit         acc_open_past_24mths     0.020156\n",
       "mo_sin_rcnt_tl         total_bc_limit           0.015574\n",
       "total_bc_limit         mths_since_recent_inq    0.012123\n",
       "installment            mths_since_recent_inq    0.011979\n",
       "acc_open_past_24mths   installment              0.010420\n",
       "mo_sin_old_rev_tl_op   mths_since_recent_inq    0.005810\n",
       "dtype: float64"
      ]
     },
     "execution_count": 23,
     "metadata": {},
     "output_type": "execute_result"
    }
   ],
   "source": [
    "corr_pairs[corr_pairs<=0.3]"
   ]
  },
  {
   "cell_type": "code",
   "execution_count": 24,
   "metadata": {},
   "outputs": [],
   "source": [
    "#Using feature tools to create synthetic features\n",
    "\n",
    "es = ft.EntitySet(id = 'loan')"
   ]
  },
  {
   "cell_type": "code",
   "execution_count": 25,
   "metadata": {},
   "outputs": [],
   "source": [
    "#Picking features that are highly important and not too correlated with one another:\n",
    "\n",
    "df_new = df[['acc_open_past_24mths', 'dti', 'annual_inc']]"
   ]
  },
  {
   "cell_type": "code",
   "execution_count": 26,
   "metadata": {},
   "outputs": [
    {
     "data": {
      "text/plain": [
       "Entityset: loan\n",
       "  Entities:\n",
       "    data [Rows: 400000, Columns: 4]\n",
       "  Relationships:\n",
       "    No relationships"
      ]
     },
     "execution_count": 26,
     "metadata": {},
     "output_type": "execute_result"
    }
   ],
   "source": [
    "es.entity_from_dataframe(entity_id = 'data', dataframe = df_new, \n",
    "                         make_index = True, index = 'index')"
   ]
  },
  {
   "cell_type": "code",
   "execution_count": 27,
   "metadata": {},
   "outputs": [],
   "source": [
    "# Run deep feature synthesis with transformation primitives\n",
    "feature_matrix, feature_defs = ft.dfs(entityset = es, target_entity = 'data',\n",
    "                                      trans_primitives = ['add_numeric', 'multiply_numeric'])"
   ]
  },
  {
   "cell_type": "code",
   "execution_count": 29,
   "metadata": {},
   "outputs": [],
   "source": [
    "#feature_matrix.head()"
   ]
  },
  {
   "cell_type": "code",
   "execution_count": 30,
   "metadata": {},
   "outputs": [],
   "source": [
    "#NB: with more time and CPU I would feed more than just the three most important features found\n",
    "#Let's jopin back with our new dataset:\n",
    "\n",
    "X = feature_matrix.merge(df_new, how='inner', left_index=True, right_index=True)\n",
    "#X.head()"
   ]
  },
  {
   "cell_type": "code",
   "execution_count": 31,
   "metadata": {},
   "outputs": [],
   "source": [
    "numeric_features = list(X.select_dtypes(include=['int', 'float']).columns)\n",
    "X['isdefault'] = df['isdefault']"
   ]
  },
  {
   "cell_type": "code",
   "execution_count": 32,
   "metadata": {},
   "outputs": [],
   "source": [
    "#Let's rerun our model pipeline on this, \n",
    "#but this time there is no need for a nested CV run as we have already picked a mdoel\n",
    "#This time we will only need to cross validate"
   ]
  },
  {
   "cell_type": "code",
   "execution_count": 33,
   "metadata": {},
   "outputs": [],
   "source": [
    "#Split data between training and test sets\n",
    "def split_data(df, target_name, test_size):\n",
    "    \n",
    "    y = df[target_name]\n",
    "    X = df.drop(target_name, axis=1)\n",
    "    \n",
    "    X_train, X_test, y_train, y_test = train_test_split(X, y, test_size=test_size, random_state = 1)\n",
    "\n",
    "    return X_train, X_test, y_train, y_test"
   ]
  },
  {
   "cell_type": "code",
   "execution_count": 34,
   "metadata": {},
   "outputs": [],
   "source": [
    "#We'll reuse the same pipeline function but we'll use it differently:\n",
    "def create_pipeline(clf):\n",
    "    \n",
    "    numeric_transformer = Pipeline(steps=[\n",
    "        ('imputer', SimpleImputer(strategy='mean')),\n",
    "        ('scaler', RobustScaler())])\n",
    "    \n",
    "    #Note: because we are no longer using PCA here, it would be correct to include\n",
    "    #a tranasformer for categorical features so not to lose them\n",
    "\n",
    "    preprocessor = ColumnTransformer(\n",
    "        transformers=[('num', numeric_transformer, numeric_features)], remainder='passthrough')\n",
    "    \n",
    "    \n",
    "    var_selector = VarianceThreshold(0.5)\n",
    "    kbest_selector = SelectKBest(mutual_info_classif, k=12)\n",
    "    clf_name = type(clf).__name__\n",
    "\n",
    "    # Append classifier to preprocessing pipeline.\n",
    "    pipe = Pipeline(steps=[('preprocessor', preprocessor),('var', var_selector),\n",
    "                           ('kbest', kbest_selector),\n",
    "                           ('RandomForestClassifier', \n",
    "                            clf)])\n",
    "\n",
    "    return pipe"
   ]
  },
  {
   "cell_type": "code",
   "execution_count": 35,
   "metadata": {},
   "outputs": [],
   "source": [
    "#Notice that while our model is the same we chose, we can now use a different set of hyperparameters for our search:\n",
    "#With more time and CPU I would have liked to broaden the set of hyperparameters below\n",
    "#Here, I only try a higher learning rate both for higher efficiency and because 0.7 was chosen in GSCV previously "
   ]
  },
  {
   "cell_type": "code",
   "execution_count": 36,
   "metadata": {},
   "outputs": [],
   "source": [
    "X_train, X_test, y_train, y_test = split_data(X, 'isdefault',0.2)"
   ]
  },
  {
   "cell_type": "code",
   "execution_count": 37,
   "metadata": {},
   "outputs": [
    {
     "data": {
      "text/plain": [
       "RandomForestClassifier(bootstrap=True, class_weight='balanced',\n",
       "            criterion='gini', max_depth=10, max_features='auto',\n",
       "            max_leaf_nodes=None, min_impurity_decrease=0.0,\n",
       "            min_impurity_split=None, min_samples_leaf=10000,\n",
       "            min_samples_split=10000, min_weight_fraction_leaf=0.0,\n",
       "            n_estimators=15, n_jobs=None, oob_score=False,\n",
       "            random_state=None, verbose=0, warm_start=False)"
      ]
     },
     "execution_count": 37,
     "metadata": {},
     "output_type": "execute_result"
    }
   ],
   "source": [
    "loaded_model.named_steps['RandomForestClassifier']"
   ]
  },
  {
   "cell_type": "code",
   "execution_count": 38,
   "metadata": {},
   "outputs": [],
   "source": [
    "pipe = create_pipeline(loaded_model.named_steps['RandomForestClassifier'])"
   ]
  },
  {
   "cell_type": "code",
   "execution_count": 39,
   "metadata": {},
   "outputs": [
    {
     "data": {
      "text/plain": [
       "Pipeline(memory=None,\n",
       "     steps=[('preprocessor', ColumnTransformer(n_jobs=None, remainder='passthrough', sparse_threshold=0.3,\n",
       "         transformer_weights=None,\n",
       "         transformers=[('num', Pipeline(memory=None,\n",
       "     steps=[('imputer', SimpleImputer(copy=True, fill_value=None, missing_values=nan, strategy='mean',\n",
       "       ...tors=15, n_jobs=None, oob_score=False,\n",
       "            random_state=None, verbose=0, warm_start=False))])"
      ]
     },
     "execution_count": 39,
     "metadata": {},
     "output_type": "execute_result"
    }
   ],
   "source": [
    "pipe.fit(X_train,y_train)"
   ]
  },
  {
   "cell_type": "code",
   "execution_count": 40,
   "metadata": {},
   "outputs": [],
   "source": [
    "cv_metric = cross_val_score(pipe, X_train, y_train, cv=3)"
   ]
  },
  {
   "cell_type": "code",
   "execution_count": 41,
   "metadata": {},
   "outputs": [],
   "source": [
    "test_score = pipe.score(X_test, y_test)"
   ]
  },
  {
   "cell_type": "code",
   "execution_count": 47,
   "metadata": {},
   "outputs": [],
   "source": [
    "gs = GridSearchCV(pipe, param_grid={'RandomForestClassifier__n_estimators':[10,30,60]},\n",
    "                  cv=3, scoring='recall', n_jobs=-1)\n",
    "\n",
    "#NB: ideally, here I would use a wider parameter grid in order to pick a better model"
   ]
  },
  {
   "cell_type": "code",
   "execution_count": 66,
   "metadata": {},
   "outputs": [],
   "source": [
    "#Simple visualization of outcomes:\n",
    "def visualize_results(results):\n",
    "    \n",
    "    res = pd.DataFrame(results).round(4)\n",
    "    \n",
    "    fig, ax1 = plt.subplots(figsize=(len(res.columns)*3,4))\n",
    "    sns.boxplot(data=res, ax=ax1)\n",
    "    plt.suptitle('Model Evaluation Report')\n",
    "    plt.show()"
   ]
  },
  {
   "cell_type": "code",
   "execution_count": 67,
   "metadata": {},
   "outputs": [
    {
     "data": {
      "image/png": "[encoded data removed]",
      "text/plain": [
       "<Figure size 216x288 with 1 Axes>"
      ]
     },
     "metadata": {},
     "output_type": "display_data"
    }
   ],
   "source": [
    "visualize_results(cv_metric)"
   ]
  },
  {
   "cell_type": "code",
   "execution_count": 68,
   "metadata": {},
   "outputs": [
    {
     "name": "stdout",
     "output_type": "stream",
     "text": [
      "Test Recall: 0.5878\n"
     ]
    }
   ],
   "source": [
    "print('Test Recall:', test_score)"
   ]
  },
  {
   "cell_type": "code",
   "execution_count": 48,
   "metadata": {},
   "outputs": [
    {
     "data": {
      "text/plain": [
       "GridSearchCV(cv=3, error_score='raise-deprecating',\n",
       "       estimator=Pipeline(memory=None,\n",
       "     steps=[('preprocessor', ColumnTransformer(n_jobs=None, remainder='passthrough', sparse_threshold=0.3,\n",
       "         transformer_weights=None,\n",
       "         transformers=[('num', Pipeline(memory=None,\n",
       "     steps=[('imputer', SimpleImputer(copy=True, fill_value=None, missing_values=nan, strategy='mean',\n",
       "       ...tors=15, n_jobs=None, oob_score=False,\n",
       "            random_state=None, verbose=0, warm_start=False))]),\n",
       "       fit_params=None, iid='warn', n_jobs=-1,\n",
       "       param_grid={'RandomForestClassifier__n_estimators': [10, 30, 60]},\n",
       "       pre_dispatch='2*n_jobs', refit=True, return_train_score='warn',\n",
       "       scoring='recall', verbose=0)"
      ]
     },
     "execution_count": 48,
     "metadata": {},
     "output_type": "execute_result"
    }
   ],
   "source": [
    "gs.fit(X_train, y_train)"
   ]
  },
  {
   "cell_type": "code",
   "execution_count": 49,
   "metadata": {},
   "outputs": [
    {
     "data": {
      "text/plain": [
       "Pipeline(memory=None,\n",
       "     steps=[('preprocessor', ColumnTransformer(n_jobs=None, remainder='passthrough', sparse_threshold=0.3,\n",
       "         transformer_weights=None,\n",
       "         transformers=[('num', Pipeline(memory=None,\n",
       "     steps=[('imputer', SimpleImputer(copy=True, fill_value=None, missing_values=nan, strategy='mean',\n",
       "       ...tors=60, n_jobs=None, oob_score=False,\n",
       "            random_state=None, verbose=0, warm_start=False))])"
      ]
     },
     "execution_count": 49,
     "metadata": {},
     "output_type": "execute_result"
    }
   ],
   "source": [
    "gs.best_estimator_"
   ]
  },
  {
   "cell_type": "code",
   "execution_count": 58,
   "metadata": {},
   "outputs": [],
   "source": [
    "from yellowbrick.model_selection import ValidationCurve\n",
    "from yellowbrick.model_selection import LearningCurve\n",
    "from yellowbrick.classifier import ClassificationReport, PrecisionRecallCurve, ConfusionMatrix"
   ]
  },
  {
   "cell_type": "code",
   "execution_count": 59,
   "metadata": {},
   "outputs": [],
   "source": [
    "def conf_matrix(clf, X_train, X_test, y_train, y_test):\n",
    "    fig, ax = plt.subplots(figsize=(8,5))\n",
    "\n",
    "    cm = ConfusionMatrix(clf, classes=[0,1], ax=ax)\n",
    "    cm.fit(X_train, y_train)\n",
    "    cm.score(X_test, y_test)\n",
    "\n",
    "    ax.set(title='Confusion Matrix', xlabel='Predicted Class', ylabel='True Class')\n",
    "\n",
    "    cm.poof()"
   ]
  },
  {
   "cell_type": "code",
   "execution_count": 60,
   "metadata": {},
   "outputs": [],
   "source": [
    "def val_curves(clf, param_name, param_range, cv, X_train, y_train, scoring):\n",
    "\n",
    "    fig, ax = plt.subplots(figsize=(8,4))\n",
    "\n",
    "    viz_vc_bg = ValidationCurve(\n",
    "                    clf, param_name=param_name,\n",
    "                    param_range=param_range, cv=cv, \n",
    "                    scoring=scoring, ax=ax)\n",
    "\n",
    "    viz_vc_bg.fit(X_train, y_train)\n",
    "    \n",
    "    clf_name = type(clf).__name__\n",
    "    title = \"Validation Curves for: {}\".format(clf_name)\n",
    "    \n",
    "    ax.set(title=title, ylabel='Score')\n",
    "    ax.legend().set_visible(True)\n",
    "\n",
    "    viz_vc_bg.poof()"
   ]
  },
  {
   "cell_type": "code",
   "execution_count": 61,
   "metadata": {},
   "outputs": [],
   "source": [
    "def learn_curves(clf, cv, X_train, y_train, scoring):\n",
    "\n",
    "    fig, ax = plt.subplots(figsize=(8,4))\n",
    "\n",
    "    viz_lc_bg = LearningCurve(clf, train_sizes = np.linspace(0.1, 1.0, 10), \n",
    "                              scoring=scoring, cv=cv, ax=ax)\n",
    "\n",
    "    # Fit and poof the visualizer\n",
    "    viz_lc_bg.fit(X_train, y_train)\n",
    "\n",
    "    ax.set(title='Learning Curves', xlabel='Training Instances', ylabel='Score')\n",
    "\n",
    "    ax.legend().set_visible(True)\n",
    "\n",
    "    viz_lc_bg.poof()"
   ]
  },
  {
   "cell_type": "code",
   "execution_count": 62,
   "metadata": {},
   "outputs": [
    {
     "data": {
      "image/png": "[encoded data removed]",
      "text/plain": [
       "<Figure size 576x360 with 1 Axes>"
      ]
     },
     "metadata": {},
     "output_type": "display_data"
    }
   ],
   "source": [
    "conf_matrix(gs.best_estimator_, X_train, X_test, y_train, y_test)"
   ]
  },
  {
   "cell_type": "code",
   "execution_count": 64,
   "metadata": {},
   "outputs": [
    {
     "data": {
      "image/png": "[encoded data removed]",
      "text/plain": [
       "<Figure size 576x288 with 1 Axes>"
      ]
     },
     "metadata": {},
     "output_type": "display_data"
    }
   ],
   "source": [
    "val_curves(gs.best_estimator_, \n",
    "           'RandomForestClassifier__n_estimators', [10, 30, 60], 3, X_train, y_train, 'recall')"
   ]
  },
  {
   "cell_type": "code",
   "execution_count": 65,
   "metadata": {},
   "outputs": [
    {
     "data": {
      "image/png": "[encoded data removed]",
      "text/plain": [
       "<Figure size 576x288 with 1 Axes>"
      ]
     },
     "metadata": {},
     "output_type": "display_data"
    }
   ],
   "source": [
    "learn_curves(gs.best_estimator_, 3, X_train, y_train, 'recall')"
   ]
  },
  {
   "cell_type": "code",
   "execution_count": null,
   "metadata": {},
   "outputs": [],
   "source": []
  },
  {
   "cell_type": "code",
   "execution_count": null,
   "metadata": {},
   "outputs": [],
   "source": [
    "#Although results have improved, the model could definitely benefit from a new round of feature engineering and evaluation.\n"
   ]
  },
  {
   "cell_type": "code",
   "execution_count": null,
   "metadata": {},
   "outputs": [],
   "source": [
    "#Once complete, the model would be trained on the entire dataset prior to deployment."
   ]
  },
  {
   "cell_type": "code",
   "execution_count": null,
   "metadata": {},
   "outputs": [],
   "source": []
  }
 ],
 "metadata": {
  "kernelspec": {
   "display_name": "py36",
   "language": "python",
   "name": "py36"
  },
  "language_info": {
   "codemirror_mode": {
    "name": "ipython",
    "version": 3
   },
   "file_extension": ".py",
   "mimetype": "text/x-python",
   "name": "python",
   "nbconvert_exporter": "python",
   "pygments_lexer": "ipython3",
   "version": "3.6.7"
  }
 },
 "nbformat": 4,
 "nbformat_minor": 2
}
