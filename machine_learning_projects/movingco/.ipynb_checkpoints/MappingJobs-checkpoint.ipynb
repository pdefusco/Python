{
 "cells": [
  {
   "cell_type": "code",
   "execution_count": 1,
   "metadata": {},
   "outputs": [
    {
     "name": "stdout",
     "output_type": "stream",
     "text": [
      "Populating the interactive namespace from numpy and matplotlib\n"
     ]
    }
   ],
   "source": [
    "import pandas as pd\n",
    "import numpy as np\n",
    "%matplotlib inline\n",
    "%pylab inline"
   ]
  },
  {
   "cell_type": "code",
   "execution_count": 2,
   "metadata": {},
   "outputs": [
    {
     "name": "stderr",
     "output_type": "stream",
     "text": [
      "/Users/pauldefusco/anaconda2/envs/py27/lib/python2.7/site-packages/ipykernel_launcher.py:1: FutureWarning: from_csv is deprecated. Please use read_csv(...) instead. Note that some of the default arguments are different, so please refer to the documentation for from_csv when changing your function calls\n",
      "  \"\"\"Entry point for launching an IPython kernel.\n"
     ]
    }
   ],
   "source": [
    "data = pd.DataFrame.from_csv('../movingco/VectorMovingJobs.csv', header=0)"
   ]
  },
  {
   "cell_type": "code",
   "execution_count": 9,
   "metadata": {},
   "outputs": [
    {
     "data": {
      "text/html": [
       "<div>\n",
       "<style scoped>\n",
       "    .dataframe tbody tr th:only-of-type {\n",
       "        vertical-align: middle;\n",
       "    }\n",
       "\n",
       "    .dataframe tbody tr th {\n",
       "        vertical-align: top;\n",
       "    }\n",
       "\n",
       "    .dataframe thead th {\n",
       "        text-align: right;\n",
       "    }\n",
       "</style>\n",
       "<table border=\"1\" class=\"dataframe\">\n",
       "  <thead>\n",
       "    <tr style=\"text-align: right;\">\n",
       "      <th></th>\n",
       "      <th>Unnamed: 0.1</th>\n",
       "      <th>DTSTART</th>\n",
       "      <th>DTEND</th>\n",
       "      <th>RRULE</th>\n",
       "      <th>DTSTAMP</th>\n",
       "      <th>UID</th>\n",
       "      <th>CREATED</th>\n",
       "      <th>DESCRIPTION</th>\n",
       "      <th>ORIGIN</th>\n",
       "      <th>ORIGIN TYPE</th>\n",
       "      <th>...</th>\n",
       "      <th>LAST MODIFIED</th>\n",
       "      <th>LOCATION</th>\n",
       "      <th>SEQUENCE</th>\n",
       "      <th>SUMMARY</th>\n",
       "      <th>CANCELLED</th>\n",
       "      <th>TRANSP</th>\n",
       "      <th>ORIGIN LATITUDE</th>\n",
       "      <th>ORIGIN LONGITUDE</th>\n",
       "      <th>DESTINATION LATITUDE</th>\n",
       "      <th>DESTINATION LONGITUDE</th>\n",
       "    </tr>\n",
       "  </thead>\n",
       "  <tbody>\n",
       "    <tr>\n",
       "      <th>0</th>\n",
       "      <td>0.0</td>\n",
       "      <td>2013-08-17 15:00:00</td>\n",
       "      <td>2013-08-17 16:00:00</td>\n",
       "      <td>NaN</td>\n",
       "      <td>2016-11-29 12:31:58</td>\n",
       "      <td>ADD8F2DD-BFEC-4BF8-935F-D8AC24FCBBA8</td>\n",
       "      <td>2013-08-16 00:08:29</td>\n",
       "      <td>7 hours =$975\\n15%=$146.25\\nJllano@sdsp.net</td>\n",
       "      <td>NaN</td>\n",
       "      <td>NaN</td>\n",
       "      <td>...</td>\n",
       "      <td>2013-08-18 17:53:08</td>\n",
       "      <td>972 broadway 91911 building bihind 970 to 2811...</td>\n",
       "      <td>0.0</td>\n",
       "      <td>$130/hr $65 gas John Llano 619-520-3564\\; 619-...</td>\n",
       "      <td>0.0</td>\n",
       "      <td>OPAQUE</td>\n",
       "      <td>NaN</td>\n",
       "      <td>NaN</td>\n",
       "      <td>NaN</td>\n",
       "      <td>NaN</td>\n",
       "    </tr>\n",
       "    <tr>\n",
       "      <th>1</th>\n",
       "      <td>1.0</td>\n",
       "      <td>2013-08-18 22:00:00</td>\n",
       "      <td>2013-08-18 23:00:00</td>\n",
       "      <td>NaN</td>\n",
       "      <td>2016-11-29 12:31:58</td>\n",
       "      <td>5BB18929-7974-4C88-9C53-95588D841D7D</td>\n",
       "      <td>2013-08-18 17:35:50</td>\n",
       "      <td>4:15 $306\\n15%- $46.00</td>\n",
       "      <td>NaN</td>\n",
       "      <td>NaN</td>\n",
       "      <td>...</td>\n",
       "      <td>2013-08-19 20:27:06</td>\n",
       "      <td>7864 avenida navidad San Diego 92122 #195 to 8...</td>\n",
       "      <td>0.0</td>\n",
       "      <td>$65 $30 kar khe 832-466-5649 858-663-5613</td>\n",
       "      <td>0.0</td>\n",
       "      <td>OPAQUE</td>\n",
       "      <td>NaN</td>\n",
       "      <td>NaN</td>\n",
       "      <td>NaN</td>\n",
       "      <td>NaN</td>\n",
       "    </tr>\n",
       "    <tr>\n",
       "      <th>2</th>\n",
       "      <td>2.0</td>\n",
       "      <td>2013-08-18 20:30:00</td>\n",
       "      <td>2013-08-18 21:30:00</td>\n",
       "      <td>NaN</td>\n",
       "      <td>2016-11-29 12:31:58</td>\n",
       "      <td>97vcl68nn3potk63j78ds7vs54@google.com</td>\n",
       "      <td>2013-08-19 20:31:03</td>\n",
       "      <td>NaN</td>\n",
       "      <td>NaN</td>\n",
       "      <td>NaN</td>\n",
       "      <td>...</td>\n",
       "      <td>2013-08-19 20:31:03</td>\n",
       "      <td>NaN</td>\n",
       "      <td>0.0</td>\n",
       "      <td>Send 146.25+46= 192.25</td>\n",
       "      <td>0.0</td>\n",
       "      <td>OPAQUE</td>\n",
       "      <td>NaN</td>\n",
       "      <td>NaN</td>\n",
       "      <td>NaN</td>\n",
       "      <td>NaN</td>\n",
       "    </tr>\n",
       "    <tr>\n",
       "      <th>3</th>\n",
       "      <td>3.0</td>\n",
       "      <td>2013-08-19 19:00:00</td>\n",
       "      <td>2013-08-19 20:00:00</td>\n",
       "      <td>NaN</td>\n",
       "      <td>2016-11-29 12:31:58</td>\n",
       "      <td>B7461062-4494-4A2D-8E78-5538A8E980DD</td>\n",
       "      <td>2013-08-15 20:51:30</td>\n",
       "      <td>Ao.dawson88@gmail.com\\nPark on beech st \\n4 ho...</td>\n",
       "      <td>NaN</td>\n",
       "      <td>NaN</td>\n",
       "      <td>...</td>\n",
       "      <td>2013-08-26 00:35:09</td>\n",
       "      <td>1455 kertner blvd apt526 92101 to 801 ash st a...</td>\n",
       "      <td>1.0</td>\n",
       "      <td>$65 $30 Alex Dawson 928-301-3402</td>\n",
       "      <td>0.0</td>\n",
       "      <td>OPAQUE</td>\n",
       "      <td>NaN</td>\n",
       "      <td>NaN</td>\n",
       "      <td>NaN</td>\n",
       "      <td>NaN</td>\n",
       "    </tr>\n",
       "    <tr>\n",
       "      <th>4</th>\n",
       "      <td>4.0</td>\n",
       "      <td>2013-08-20 15:00:00</td>\n",
       "      <td>2013-08-20 16:00:00</td>\n",
       "      <td>NaN</td>\n",
       "      <td>2016-11-29 12:31:58</td>\n",
       "      <td>uitttdtrjts4vermju9k0vtf5c@google.com</td>\n",
       "      <td>2013-08-18 00:58:34</td>\n",
       "      <td>$15 wardrobes\\n3 hours\\, 3wardrobes \\n15% $37.05</td>\n",
       "      <td>NaN</td>\n",
       "      <td>NaN</td>\n",
       "      <td>...</td>\n",
       "      <td>2013-08-26 00:39:28</td>\n",
       "      <td>707 10-th ave san diego ca 92101 to storage se...</td>\n",
       "      <td>2.0</td>\n",
       "      <td>Andrew Garry 860-705-4143 $65 $20 5% off</td>\n",
       "      <td>0.0</td>\n",
       "      <td>OPAQUE</td>\n",
       "      <td>NaN</td>\n",
       "      <td>NaN</td>\n",
       "      <td>NaN</td>\n",
       "      <td>NaN</td>\n",
       "    </tr>\n",
       "  </tbody>\n",
       "</table>\n",
       "<p>5 rows × 33 columns</p>\n",
       "</div>"
      ],
      "text/plain": [
       "   Unnamed: 0.1              DTSTART                DTEND RRULE  \\\n",
       "0           0.0  2013-08-17 15:00:00  2013-08-17 16:00:00   NaN   \n",
       "1           1.0  2013-08-18 22:00:00  2013-08-18 23:00:00   NaN   \n",
       "2           2.0  2013-08-18 20:30:00  2013-08-18 21:30:00   NaN   \n",
       "3           3.0  2013-08-19 19:00:00  2013-08-19 20:00:00   NaN   \n",
       "4           4.0  2013-08-20 15:00:00  2013-08-20 16:00:00   NaN   \n",
       "\n",
       "               DTSTAMP                                    UID  \\\n",
       "0  2016-11-29 12:31:58   ADD8F2DD-BFEC-4BF8-935F-D8AC24FCBBA8   \n",
       "1  2016-11-29 12:31:58   5BB18929-7974-4C88-9C53-95588D841D7D   \n",
       "2  2016-11-29 12:31:58  97vcl68nn3potk63j78ds7vs54@google.com   \n",
       "3  2016-11-29 12:31:58   B7461062-4494-4A2D-8E78-5538A8E980DD   \n",
       "4  2016-11-29 12:31:58  uitttdtrjts4vermju9k0vtf5c@google.com   \n",
       "\n",
       "               CREATED                                        DESCRIPTION  \\\n",
       "0  2013-08-16 00:08:29        7 hours =$975\\n15%=$146.25\\nJllano@sdsp.net   \n",
       "1  2013-08-18 17:35:50                             4:15 $306\\n15%- $46.00   \n",
       "2  2013-08-19 20:31:03                                                NaN   \n",
       "3  2013-08-15 20:51:30  Ao.dawson88@gmail.com\\nPark on beech st \\n4 ho...   \n",
       "4  2013-08-18 00:58:34   $15 wardrobes\\n3 hours\\, 3wardrobes \\n15% $37.05   \n",
       "\n",
       "  ORIGIN ORIGIN TYPE          ...                  LAST MODIFIED  \\\n",
       "0    NaN         NaN          ...            2013-08-18 17:53:08   \n",
       "1    NaN         NaN          ...            2013-08-19 20:27:06   \n",
       "2    NaN         NaN          ...            2013-08-19 20:31:03   \n",
       "3    NaN         NaN          ...            2013-08-26 00:35:09   \n",
       "4    NaN         NaN          ...            2013-08-26 00:39:28   \n",
       "\n",
       "                                            LOCATION  SEQUENCE  \\\n",
       "0  972 broadway 91911 building bihind 970 to 2811...       0.0   \n",
       "1  7864 avenida navidad San Diego 92122 #195 to 8...       0.0   \n",
       "2                                                NaN       0.0   \n",
       "3  1455 kertner blvd apt526 92101 to 801 ash st a...       1.0   \n",
       "4  707 10-th ave san diego ca 92101 to storage se...       2.0   \n",
       "\n",
       "                                             SUMMARY CANCELLED  TRANSP  \\\n",
       "0  $130/hr $65 gas John Llano 619-520-3564\\; 619-...       0.0  OPAQUE   \n",
       "1          $65 $30 kar khe 832-466-5649 858-663-5613       0.0  OPAQUE   \n",
       "2                             Send 146.25+46= 192.25       0.0  OPAQUE   \n",
       "3                  $65 $30 Alex Dawson 928-301-3402        0.0  OPAQUE   \n",
       "4           Andrew Garry 860-705-4143 $65 $20 5% off       0.0  OPAQUE   \n",
       "\n",
       "   ORIGIN LATITUDE ORIGIN LONGITUDE  DESTINATION LATITUDE  \\\n",
       "0              NaN              NaN                   NaN   \n",
       "1              NaN              NaN                   NaN   \n",
       "2              NaN              NaN                   NaN   \n",
       "3              NaN              NaN                   NaN   \n",
       "4              NaN              NaN                   NaN   \n",
       "\n",
       "   DESTINATION LONGITUDE  \n",
       "0                    NaN  \n",
       "1                    NaN  \n",
       "2                    NaN  \n",
       "3                    NaN  \n",
       "4                    NaN  \n",
       "\n",
       "[5 rows x 33 columns]"
      ]
     },
     "execution_count": 9,
     "metadata": {},
     "output_type": "execute_result"
    }
   ],
   "source": [
    "data.head()"
   ]
  },
  {
   "cell_type": "code",
   "execution_count": 7,
   "metadata": {},
   "outputs": [
    {
     "data": {
      "text/plain": [
       "2335"
      ]
     },
     "execution_count": 7,
     "metadata": {},
     "output_type": "execute_result"
    }
   ],
   "source": [
    "data.RATE.isna().sum()"
   ]
  },
  {
   "cell_type": "code",
   "execution_count": 10,
   "metadata": {},
   "outputs": [],
   "source": [
    "new_data = data[data.ORIGIN.notnull()]"
   ]
  },
  {
   "cell_type": "code",
   "execution_count": 11,
   "metadata": {
    "collapsed": true
   },
   "outputs": [],
   "source": [
    "#http://www.datadependence.com/2016/06/creating-map-visualisations-in-python/\n",
    "import matplotlib.pyplot as plt\n",
    "import matplotlib.cm\n",
    " \n",
    "from mpl_toolkits.basemap import Basemap\n",
    "from matplotlib.patches import Polygon\n",
    "from matplotlib.collections import PatchCollection\n",
    "from matplotlib.colors import Normalize"
   ]
  },
  {
   "cell_type": "code",
   "execution_count": 12,
   "metadata": {},
   "outputs": [
    {
     "data": {
      "image/png": "[encoded data removed]",
      "text/plain": [
       "<Figure size 720x1440 with 1 Axes>"
      ]
     },
     "metadata": {},
     "output_type": "display_data"
    }
   ],
   "source": [
    "fig, ax = plt.subplots(figsize=(10,20))"
   ]
  },
  {
   "cell_type": "code",
   "execution_count": 13,
   "metadata": {},
   "outputs": [
    {
     "ename": "KeyboardInterrupt",
     "evalue": "",
     "output_type": "error",
     "traceback": [
      "\u001b[0;31m---------------------------------------------------------------------------\u001b[0m",
      "\u001b[0;31mKeyboardInterrupt\u001b[0m                         Traceback (most recent call last)",
      "\u001b[0;32m<ipython-input-13-937993c10a79>\u001b[0m in \u001b[0;36m<module>\u001b[0;34m()\u001b[0m\n\u001b[1;32m      2\u001b[0m             \u001b[0mprojection\u001b[0m\u001b[0;34m=\u001b[0m\u001b[0;34m'merc'\u001b[0m\u001b[0;34m,\u001b[0m\u001b[0;34m\u001b[0m\u001b[0m\n\u001b[1;32m      3\u001b[0m             \u001b[0mlat_0\u001b[0m\u001b[0;34m=\u001b[0m\u001b[0;36m33\u001b[0m\u001b[0;34m,\u001b[0m \u001b[0mlon_0\u001b[0m\u001b[0;34m=\u001b[0m\u001b[0;34m-\u001b[0m\u001b[0;36m117\u001b[0m\u001b[0;34m,\u001b[0m\u001b[0;34m\u001b[0m\u001b[0m\n\u001b[0;32m----> 4\u001b[0;31m             llcrnrlon=-117.5029, llcrnrlat=32.5167, urcrnrlon=-116.8575, urcrnrlat=33.2341)\n\u001b[0m\u001b[1;32m      5\u001b[0m \u001b[0;31m#westlimit=-117.5029; southlimit=32.5167; eastlimit=-116.8575; northlimit=33.2341\u001b[0m\u001b[0;34m\u001b[0m\u001b[0;34m\u001b[0m\u001b[0m\n",
      "\u001b[0;32m/Users/pauldefusco/anaconda2/envs/py27/lib/python2.7/site-packages/mpl_toolkits/basemap/__init__.pyc\u001b[0m in \u001b[0;36m__init__\u001b[0;34m(self, llcrnrlon, llcrnrlat, urcrnrlon, urcrnrlat, llcrnrx, llcrnry, urcrnrx, urcrnry, width, height, projection, resolution, area_thresh, rsphere, ellps, lat_ts, lat_1, lat_2, lat_0, lon_0, lon_1, lon_2, o_lon_p, o_lat_p, k_0, no_rot, suppress_ticks, satellite_height, boundinglat, fix_aspect, anchor, celestial, round, epsg, ax)\u001b[0m\n\u001b[1;32m   1077\u001b[0m         \u001b[0;32mif\u001b[0m \u001b[0mself\u001b[0m\u001b[0;34m.\u001b[0m\u001b[0mresolution\u001b[0m \u001b[0;32mis\u001b[0m \u001b[0;32mnot\u001b[0m \u001b[0mNone\u001b[0m\u001b[0;34m:\u001b[0m\u001b[0;34m\u001b[0m\u001b[0m\n\u001b[1;32m   1078\u001b[0m             \u001b[0mself\u001b[0m\u001b[0;34m.\u001b[0m\u001b[0mcoastsegs\u001b[0m\u001b[0;34m,\u001b[0m \u001b[0mself\u001b[0m\u001b[0;34m.\u001b[0m\u001b[0mcoastpolygontypes\u001b[0m \u001b[0;34m=\u001b[0m\u001b[0;31m\\\u001b[0m\u001b[0;34m\u001b[0m\u001b[0m\n\u001b[0;32m-> 1079\u001b[0;31m             \u001b[0mself\u001b[0m\u001b[0;34m.\u001b[0m\u001b[0m_readboundarydata\u001b[0m\u001b[0;34m(\u001b[0m\u001b[0;34m'gshhs'\u001b[0m\u001b[0;34m,\u001b[0m\u001b[0mas_polygons\u001b[0m\u001b[0;34m=\u001b[0m\u001b[0mTrue\u001b[0m\u001b[0;34m)\u001b[0m\u001b[0;34m\u001b[0m\u001b[0m\n\u001b[0m\u001b[1;32m   1080\u001b[0m             \u001b[0;31m# reformat for use in matplotlib.patches.Polygon.\u001b[0m\u001b[0;34m\u001b[0m\u001b[0;34m\u001b[0m\u001b[0m\n\u001b[1;32m   1081\u001b[0m             \u001b[0mself\u001b[0m\u001b[0;34m.\u001b[0m\u001b[0mcoastpolygons\u001b[0m \u001b[0;34m=\u001b[0m \u001b[0;34m[\u001b[0m\u001b[0;34m]\u001b[0m\u001b[0;34m\u001b[0m\u001b[0m\n",
      "\u001b[0;32m/Users/pauldefusco/anaconda2/envs/py27/lib/python2.7/site-packages/mpl_toolkits/basemap/__init__.pyc\u001b[0m in \u001b[0;36m_readboundarydata\u001b[0;34m(self, name, as_polygons)\u001b[0m\n\u001b[1;32m   1278\u001b[0m                  \u001b[0;32mnot\u001b[0m \u001b[0mhasSP\u001b[0m\u001b[0;34m\u001b[0m\u001b[0m\n\u001b[1;32m   1279\u001b[0m                 \u001b[0;32mif\u001b[0m \u001b[0mcrossdatelineE\u001b[0m \u001b[0;32mand\u001b[0m \u001b[0;32mnot\u001b[0m \u001b[0mskipAntart\u001b[0m\u001b[0;34m:\u001b[0m\u001b[0;34m\u001b[0m\u001b[0m\n\u001b[0;32m-> 1280\u001b[0;31m                     \u001b[0;32mif\u001b[0m \u001b[0;32mnot\u001b[0m \u001b[0mpoly\u001b[0m\u001b[0;34m.\u001b[0m\u001b[0mis_valid\u001b[0m\u001b[0;34m(\u001b[0m\u001b[0;34m)\u001b[0m\u001b[0;34m:\u001b[0m \u001b[0mpoly\u001b[0m\u001b[0;34m=\u001b[0m\u001b[0mpoly\u001b[0m\u001b[0;34m.\u001b[0m\u001b[0mfix\u001b[0m\u001b[0;34m(\u001b[0m\u001b[0;34m)\u001b[0m\u001b[0;34m\u001b[0m\u001b[0m\n\u001b[0m\u001b[1;32m   1281\u001b[0m                     \u001b[0mpolyE\u001b[0m \u001b[0;34m=\u001b[0m \u001b[0mpoly\u001b[0m\u001b[0;34m\u001b[0m\u001b[0m\n\u001b[1;32m   1282\u001b[0m                     \u001b[0;32mcontinue\u001b[0m\u001b[0;34m\u001b[0m\u001b[0m\n",
      "\u001b[0;31mKeyboardInterrupt\u001b[0m: "
     ]
    }
   ],
   "source": [
    "m = Basemap(resolution='f', # c, l, i, h, f or None\n",
    "            projection='merc',\n",
    "            lat_0=33, lon_0=-117,\n",
    "            llcrnrlon=-117.5029, llcrnrlat=32.5167, urcrnrlon=-116.8575, urcrnrlat=33.2341)\n",
    "#westlimit=-117.5029; southlimit=32.5167; eastlimit=-116.8575; northlimit=33.2341"
   ]
  },
  {
   "cell_type": "code",
   "execution_count": null,
   "metadata": {},
   "outputs": [],
   "source": [
    "m.drawmapboundary(fill_color='#46bcec')\n",
    "m.fillcontinents(color='#f2f2f2',lake_color='#46bcec')\n",
    "m.drawcoastlines()"
   ]
  },
  {
   "cell_type": "code",
   "execution_count": 15,
   "metadata": {},
   "outputs": [
    {
     "data": {
      "text/plain": [
       "Index([u'Unnamed: 0.1', u'DTSTART', u'DTEND', u'RRULE', u'DTSTAMP', u'UID',\n",
       "       u'CREATED', u'DESCRIPTION', u'ORIGIN', u'ORIGIN TYPE',\n",
       "       u'ORIGIN ZIP CODE', u'DESTINATION', u'DESTINATION TYPE',\n",
       "       u'DESTINATION ZIP CODE', u'SIZE', u'CREW', u'NUMBER OF MOVERS',\n",
       "       u'TRUCKS', u'NUMBER OF TRUCKS', u'RATE', u'CUSTOMER NAME',\n",
       "       u'CUSTOMER PHONE', u'CUSTOMER EMAIL', u'LAST MODIFIED', u'LOCATION',\n",
       "       u'SEQUENCE', u'SUMMARY', u'CANCELLED', u'TRANSP', u'ORIGIN LATITUDE',\n",
       "       u'ORIGIN LONGITUDE', u'DESTINATION LATITUDE', u'DESTINATION LONGITUDE'],\n",
       "      dtype='object')"
      ]
     },
     "execution_count": 15,
     "metadata": {},
     "output_type": "execute_result"
    }
   ],
   "source": [
    "data.columns"
   ]
  },
  {
   "cell_type": "code",
   "execution_count": 14,
   "metadata": {
    "collapsed": true
   },
   "outputs": [],
   "source": [
    "import seaborn as sns"
   ]
  },
  {
   "cell_type": "code",
   "execution_count": 21,
   "metadata": {
    "collapsed": true
   },
   "outputs": [],
   "source": [
    "rates = data['RATE'].dropna()"
   ]
  },
  {
   "cell_type": "code",
   "execution_count": 22,
   "metadata": {},
   "outputs": [
    {
     "name": "stderr",
     "output_type": "stream",
     "text": [
      "/Users/pauldefusco/anaconda2/envs/py27/lib/python2.7/site-packages/matplotlib/axes/_axes.py:6462: UserWarning: The 'normed' kwarg is deprecated, and has been replaced by the 'density' kwarg.\n",
      "  warnings.warn(\"The 'normed' kwarg is deprecated, and has been \"\n"
     ]
    },
    {
     "data": {
      "text/plain": [
       "<matplotlib.axes._subplots.AxesSubplot at 0x11a118890>"
      ]
     },
     "execution_count": 22,
     "metadata": {},
     "output_type": "execute_result"
    },
    {
     "data": {
      "image/png": "[encoded data removed]",
      "text/plain": [
       "<Figure size 432x288 with 1 Axes>"
      ]
     },
     "metadata": {},
     "output_type": "display_data"
    }
   ],
   "source": [
    "sns.distplot(data['RATE'].dropna())"
   ]
  },
  {
   "cell_type": "code",
   "execution_count": null,
   "metadata": {
    "collapsed": true
   },
   "outputs": [],
   "source": []
  }
 ],
 "metadata": {
  "anaconda-cloud": {},
  "kernelspec": {
   "display_name": "Python 2",
   "language": "python",
   "name": "python2"
  },
  "language_info": {
   "codemirror_mode": {
    "name": "ipython",
    "version": 2
   },
   "file_extension": ".py",
   "mimetype": "text/x-python",
   "name": "python",
   "nbconvert_exporter": "python",
   "pygments_lexer": "ipython2",
   "version": "2.7.3"
  }
 },
 "nbformat": 4,
 "nbformat_minor": 1
}
