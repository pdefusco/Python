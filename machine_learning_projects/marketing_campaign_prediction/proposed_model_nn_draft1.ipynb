{
 "cells": [
  {
   "cell_type": "markdown",
   "metadata": {},
   "source": [
    "### Proposed Model - Neural Network"
   ]
  },
  {
   "cell_type": "markdown",
   "metadata": {},
   "source": [
    "Our objective is to beat the model that is being used by our client, Lisboa Bank"
   ]
  },
  {
   "cell_type": "code",
   "execution_count": 1,
   "metadata": {
    "collapsed": true
   },
   "outputs": [],
   "source": [
    "###Insert Baseline Model Performance Metrics Here"
   ]
  },
  {
   "cell_type": "markdown",
   "metadata": {},
   "source": [
    "We will start by creating a simple neural network and seeing how it performs"
   ]
  },
  {
   "cell_type": "code",
   "execution_count": 53,
   "metadata": {
    "collapsed": true
   },
   "outputs": [],
   "source": [
    "import numpy as np\n",
    "import pandas as pd\n",
    "import matplotlib.pyplot as plt"
   ]
  },
  {
   "cell_type": "code",
   "execution_count": 85,
   "metadata": {},
   "outputs": [],
   "source": [
    "from keras.models import Sequential\n",
    "from keras.layers import Dense, Dropout\n",
    "#from keras import keras_metrics"
   ]
  },
  {
   "cell_type": "code",
   "execution_count": 4,
   "metadata": {
    "collapsed": true
   },
   "outputs": [],
   "source": [
    "# Generate dummy data\n",
    "x_train = np.random.random((1000, 20))\n",
    "y_train = np.random.randint(2, size=(1000, 1))\n",
    "x_test = np.random.random((100, 20))\n",
    "y_test = np.random.randint(2, size=(100, 1))"
   ]
  },
  {
   "cell_type": "code",
   "execution_count": 5,
   "metadata": {},
   "outputs": [],
   "source": [
    "df = pd.read_pickle('data/pickle_files/df_pickle')"
   ]
  },
  {
   "cell_type": "code",
   "execution_count": 6,
   "metadata": {
    "collapsed": true
   },
   "outputs": [],
   "source": [
    "y = np.array(df['y'])\n",
    "X = np.array(df.drop(columns=['y']))"
   ]
  },
  {
   "cell_type": "code",
   "execution_count": 7,
   "metadata": {},
   "outputs": [
    {
     "name": "stdout",
     "output_type": "stream",
     "text": [
      "Shape of X:  (41188, 20)\n",
      "Shape of y:  (41188,)\n"
     ]
    }
   ],
   "source": [
    "print(\"Shape of X: \", X.shape)\n",
    "print(\"Shape of y: \", y.shape)"
   ]
  },
  {
   "cell_type": "code",
   "execution_count": 69,
   "metadata": {},
   "outputs": [],
   "source": [
    "from sklearn.model_selection import train_test_split, cross_val_score, StratifiedKFold"
   ]
  },
  {
   "cell_type": "code",
   "execution_count": 9,
   "metadata": {
    "collapsed": true
   },
   "outputs": [],
   "source": [
    "X_train, X_test, y_train, y_test = train_test_split(X, y, random_state = 4)"
   ]
  },
  {
   "cell_type": "code",
   "execution_count": 10,
   "metadata": {},
   "outputs": [
    {
     "name": "stdout",
     "output_type": "stream",
     "text": [
      "Shape of X_train:  (30891, 20)\n",
      "Shape of y_train:  (30891,)\n"
     ]
    }
   ],
   "source": [
    "print(\"Shape of X_train: \", X_train.shape)\n",
    "print(\"Shape of y_train: \", y_train.shape)"
   ]
  },
  {
   "cell_type": "code",
   "execution_count": 43,
   "metadata": {},
   "outputs": [],
   "source": [
    "model = Sequential()\n",
    "#keras.layers.Dense(units, activation=None, use_bias=True, \n",
    "#kernel_initializer='glorot_uniform', bias_initializer='zeros', \n",
    "#kernel_regularizer=None, bias_regularizer=None, \n",
    "#activity_regularizer=None, kernel_constraint=None, bias_constraint=None)"
   ]
  },
  {
   "cell_type": "code",
   "execution_count": 44,
   "metadata": {},
   "outputs": [],
   "source": [
    "model.add(Dense(64, input_dim=20, activation='relu'))\n",
    "model.add(Dropout(0.5))\n",
    "model.add(Dense(64, activation='relu'))\n",
    "model.add(Dropout(0.5))\n",
    "model.add(Dense(1, activation='sigmoid'))"
   ]
  },
  {
   "cell_type": "code",
   "execution_count": 49,
   "metadata": {
    "collapsed": true
   },
   "outputs": [],
   "source": [
    "model.compile(loss='binary_crossentropy',\n",
    "              optimizer='rmsprop',\n",
    "              metrics=['accuracy'])"
   ]
  },
  {
   "cell_type": "code",
   "execution_count": 50,
   "metadata": {},
   "outputs": [
    {
     "name": "stdout",
     "output_type": "stream",
     "text": [
      "Epoch 1/20\n",
      "30891/30891 [==============================] - 5s 156us/step - loss: 1.8126 - acc: 0.8875\n",
      "Epoch 2/20\n",
      "30891/30891 [==============================] - 4s 115us/step - loss: 1.8126 - acc: 0.8875\n",
      "Epoch 3/20\n",
      "30891/30891 [==============================] - 4s 116us/step - loss: 1.8126 - acc: 0.8875\n",
      "Epoch 4/20\n",
      "30891/30891 [==============================] - 4s 119us/step - loss: 1.8132 - acc: 0.8875\n",
      "Epoch 5/20\n",
      "30891/30891 [==============================] - 4s 120us/step - loss: 1.8126 - acc: 0.8875\n",
      "Epoch 6/20\n",
      "30891/30891 [==============================] - 4s 116us/step - loss: 1.8126 - acc: 0.8875\n",
      "Epoch 7/20\n",
      "30891/30891 [==============================] - 4s 140us/step - loss: 1.8126 - acc: 0.8875\n",
      "Epoch 8/20\n",
      "30891/30891 [==============================] - 4s 132us/step - loss: 1.8126 - acc: 0.8875\n",
      "Epoch 9/20\n",
      "30891/30891 [==============================] - 4s 129us/step - loss: 1.8126 - acc: 0.8875\n",
      "Epoch 10/20\n",
      "30891/30891 [==============================] - 4s 123us/step - loss: 1.8126 - acc: 0.8875\n",
      "Epoch 11/20\n",
      "30891/30891 [==============================] - 4s 132us/step - loss: 1.8132 - acc: 0.8875\n",
      "Epoch 12/20\n",
      "30891/30891 [==============================] - 4s 118us/step - loss: 1.8126 - acc: 0.8875\n",
      "Epoch 13/20\n",
      "30891/30891 [==============================] - 4s 121us/step - loss: 1.8126 - acc: 0.8875\n",
      "Epoch 14/20\n",
      "30891/30891 [==============================] - 4s 129us/step - loss: 1.8132 - acc: 0.8875\n",
      "Epoch 15/20\n",
      "30891/30891 [==============================] - 5s 158us/step - loss: 1.8126 - acc: 0.8875\n",
      "Epoch 16/20\n",
      "30891/30891 [==============================] - 4s 139us/step - loss: 1.8126 - acc: 0.8875\n",
      "Epoch 17/20\n",
      "30891/30891 [==============================] - 4s 133us/step - loss: 1.8126 - acc: 0.8875\n",
      "Epoch 18/20\n",
      "30891/30891 [==============================] - 4s 119us/step - loss: 1.8126 - acc: 0.8875\n",
      "Epoch 19/20\n",
      "30891/30891 [==============================] - 4s 119us/step - loss: 1.8132 - acc: 0.8875\n",
      "Epoch 20/20\n",
      "30891/30891 [==============================] - 4s 131us/step - loss: 1.8126 - acc: 0.8875\n"
     ]
    },
    {
     "data": {
      "text/plain": [
       "<keras.callbacks.History at 0x1a321236d8>"
      ]
     },
     "execution_count": 50,
     "metadata": {},
     "output_type": "execute_result"
    }
   ],
   "source": [
    "model.fit(X_train, y_train,\n",
    "          epochs=20,\n",
    "          batch_size=100)"
   ]
  },
  {
   "cell_type": "code",
   "execution_count": 92,
   "metadata": {},
   "outputs": [
    {
     "name": "stdout",
     "output_type": "stream",
     "text": [
      "10297/10297 [==============================] - 1s 84us/step\n"
     ]
    }
   ],
   "source": [
    "score = model.evaluate(X_test, y_test, batch_size=100)"
   ]
  },
  {
   "cell_type": "code",
   "execution_count": 48,
   "metadata": {},
   "outputs": [
    {
     "data": {
      "text/plain": [
       "[1.8251626049996441, 0.8867631291109022]"
      ]
     },
     "execution_count": 48,
     "metadata": {},
     "output_type": "execute_result"
    }
   ],
   "source": [
    "score"
   ]
  },
  {
   "cell_type": "code",
   "execution_count": 52,
   "metadata": {
    "collapsed": true
   },
   "outputs": [],
   "source": [
    "from keras.utils import plot_model\n",
    "plot_model(model, to_file='model.png')"
   ]
  },
  {
   "cell_type": "code",
   "execution_count": 54,
   "metadata": {},
   "outputs": [
    {
     "name": "stdout",
     "output_type": "stream",
     "text": [
      "Epoch 1/20\n",
      "30891/30891 [==============================] - 3s 99us/step - loss: 1.8126 - acc: 0.8875\n",
      "Epoch 2/20\n",
      "30891/30891 [==============================] - 3s 97us/step - loss: 1.8142 - acc: 0.8874\n",
      "Epoch 3/20\n",
      "30891/30891 [==============================] - 3s 97us/step - loss: 1.8126 - acc: 0.8875\n",
      "Epoch 4/20\n",
      "30891/30891 [==============================] - 3s 101us/step - loss: 1.8126 - acc: 0.8875\n",
      "Epoch 5/20\n",
      "30891/30891 [==============================] - 3s 103us/step - loss: 1.8126 - acc: 0.8875\n",
      "Epoch 6/20\n",
      "30891/30891 [==============================] - 3s 99us/step - loss: 1.8126 - acc: 0.8875\n",
      "Epoch 7/20\n",
      "30891/30891 [==============================] - 3s 101us/step - loss: 1.8132 - acc: 0.8875\n",
      "Epoch 8/20\n",
      "30891/30891 [==============================] - 3s 102us/step - loss: 1.8126 - acc: 0.8875\n",
      "Epoch 9/20\n",
      "30891/30891 [==============================] - 4s 114us/step - loss: 1.8121 - acc: 0.8876\n",
      "Epoch 10/20\n",
      "30891/30891 [==============================] - 3s 113us/step - loss: 1.8121 - acc: 0.8876\n",
      "Epoch 11/20\n",
      "30891/30891 [==============================] - 3s 109us/step - loss: 1.8126 - acc: 0.8875\n",
      "Epoch 12/20\n",
      "30891/30891 [==============================] - 3s 103us/step - loss: 1.8126 - acc: 0.8875\n",
      "Epoch 13/20\n",
      "30891/30891 [==============================] - 3s 102us/step - loss: 1.8126 - acc: 0.8875\n",
      "Epoch 14/20\n",
      "30891/30891 [==============================] - 3s 98us/step - loss: 1.8126 - acc: 0.8875\n",
      "Epoch 15/20\n",
      "30891/30891 [==============================] - 3s 98us/step - loss: 1.8126 - acc: 0.8875\n",
      "Epoch 16/20\n",
      "30891/30891 [==============================] - 3s 98us/step - loss: 1.8131 - acc: 0.8875\n",
      "Epoch 17/20\n",
      "30891/30891 [==============================] - 3s 98us/step - loss: 1.8126 - acc: 0.8875\n",
      "Epoch 18/20\n",
      "30891/30891 [==============================] - 3s 100us/step - loss: 1.8137 - acc: 0.8875\n",
      "Epoch 19/20\n",
      "30891/30891 [==============================] - 3s 100us/step - loss: 1.8126 - acc: 0.8875\n",
      "Epoch 20/20\n",
      "30891/30891 [==============================] - 3s 101us/step - loss: 1.8126 - acc: 0.8875\n"
     ]
    }
   ],
   "source": [
    "#Going to plot the model accuracy above through each epoch: \n",
    "history = model.fit(X_train, y_train, epochs=20, batch_size=100, verbose=1)#validation_split"
   ]
  },
  {
   "cell_type": "code",
   "execution_count": 58,
   "metadata": {},
   "outputs": [],
   "source": [
    "def plot_scores(history, val = False):\n",
    "    \n",
    "    # Plot training & validation accuracy values\n",
    "    plt.plot(history.history['acc'])\n",
    "    if val == True:\n",
    "        plt.plot(history.history['val_acc'])\n",
    "        \n",
    "    plt.title('Model accuracy')\n",
    "    plt.ylabel('Accuracy')\n",
    "    plt.xlabel('Epoch')\n",
    "    plt.legend(['Train', 'Test'], loc='upper left')\n",
    "    plt.show()"
   ]
  },
  {
   "cell_type": "code",
   "execution_count": 59,
   "metadata": {},
   "outputs": [],
   "source": [
    "def plot_loss(history, val = False):\n",
    "    # Plot training & validation loss values\n",
    "    plt.plot(history.history['loss'])\n",
    "    \n",
    "    if val == True:\n",
    "        plt.plot(history.history['val_loss'])\n",
    "    \n",
    "    plt.title('Model loss')\n",
    "    plt.ylabel('Loss')\n",
    "    plt.xlabel('Epoch')\n",
    "    plt.legend(['Train', 'Test'], loc='upper left')\n",
    "    plt.show()"
   ]
  },
  {
   "cell_type": "code",
   "execution_count": 60,
   "metadata": {},
   "outputs": [
    {
     "data": {
      "image/png": "[encoded data removed]",
      "text/plain": [
       "<Figure size 432x288 with 1 Axes>"
      ]
     },
     "metadata": {
      "needs_background": "light"
     },
     "output_type": "display_data"
    }
   ],
   "source": [
    "plot_scores(history)"
   ]
  },
  {
   "cell_type": "code",
   "execution_count": 61,
   "metadata": {},
   "outputs": [
    {
     "data": {
      "image/png": "[encoded data removed]",
      "text/plain": [
       "<Figure size 432x288 with 1 Axes>"
      ]
     },
     "metadata": {
      "needs_background": "light"
     },
     "output_type": "display_data"
    }
   ],
   "source": [
    "plot_loss(history)"
   ]
  },
  {
   "cell_type": "markdown",
   "metadata": {},
   "source": [
    "After a few runs of this basic model with different values for units and optimizer, we are noticing that it tends to always perform at most with 88% accuracy"
   ]
  },
  {
   "cell_type": "markdown",
   "metadata": {},
   "source": [
    "Let's try to build more models with more advanced features:\n",
    "    - Cross Validation\n",
    "    - Regularization\n",
    "    - Random Weight Initialization\n",
    "    - Hypterparameter Optimization"
   ]
  },
  {
   "cell_type": "code",
   "execution_count": 62,
   "metadata": {},
   "outputs": [
    {
     "name": "stdout",
     "output_type": "stream",
     "text": [
      "Train on 24712 samples, validate on 6179 samples\n",
      "Epoch 1/20\n",
      "24712/24712 [==============================] - 3s 119us/step - loss: 1.8250 - acc: 0.8868 - val_loss: 1.7634 - val_acc: 0.8906\n",
      "Epoch 2/20\n",
      "24712/24712 [==============================] - 3s 105us/step - loss: 1.8250 - acc: 0.8868 - val_loss: 1.7634 - val_acc: 0.8906\n",
      "Epoch 3/20\n",
      "24712/24712 [==============================] - 3s 120us/step - loss: 1.8250 - acc: 0.8868 - val_loss: 1.7634 - val_acc: 0.8906\n",
      "Epoch 4/20\n",
      "24712/24712 [==============================] - 3s 113us/step - loss: 1.8250 - acc: 0.8868 - val_loss: 1.7634 - val_acc: 0.8906\n",
      "Epoch 5/20\n",
      "24712/24712 [==============================] - 3s 105us/step - loss: 1.8250 - acc: 0.8868 - val_loss: 1.7634 - val_acc: 0.8906\n",
      "Epoch 6/20\n",
      "24712/24712 [==============================] - 3s 106us/step - loss: 1.8250 - acc: 0.8868 - val_loss: 1.7634 - val_acc: 0.8906\n",
      "Epoch 7/20\n",
      "24712/24712 [==============================] - 3s 105us/step - loss: 1.8250 - acc: 0.8868 - val_loss: 1.7634 - val_acc: 0.8906\n",
      "Epoch 8/20\n",
      "24712/24712 [==============================] - 3s 106us/step - loss: 1.8250 - acc: 0.8868 - val_loss: 1.7634 - val_acc: 0.8906\n",
      "Epoch 9/20\n",
      "24712/24712 [==============================] - 3s 106us/step - loss: 1.8250 - acc: 0.8868 - val_loss: 1.7634 - val_acc: 0.8906\n",
      "Epoch 10/20\n",
      "24712/24712 [==============================] - 3s 106us/step - loss: 1.8250 - acc: 0.8868 - val_loss: 1.7634 - val_acc: 0.8906\n",
      "Epoch 11/20\n",
      "24712/24712 [==============================] - 3s 106us/step - loss: 1.8250 - acc: 0.8868 - val_loss: 1.7634 - val_acc: 0.8906\n",
      "Epoch 12/20\n",
      "24712/24712 [==============================] - 3s 106us/step - loss: 1.8250 - acc: 0.8868 - val_loss: 1.7634 - val_acc: 0.8906\n",
      "Epoch 13/20\n",
      "24712/24712 [==============================] - 3s 106us/step - loss: 1.8250 - acc: 0.8868 - val_loss: 1.7634 - val_acc: 0.8906\n",
      "Epoch 14/20\n",
      "24712/24712 [==============================] - 3s 107us/step - loss: 1.8250 - acc: 0.8868 - val_loss: 1.7634 - val_acc: 0.8906\n",
      "Epoch 15/20\n",
      "24712/24712 [==============================] - 3s 106us/step - loss: 1.8250 - acc: 0.8868 - val_loss: 1.7634 - val_acc: 0.8906\n",
      "Epoch 16/20\n",
      "24712/24712 [==============================] - 3s 106us/step - loss: 1.8250 - acc: 0.8868 - val_loss: 1.7634 - val_acc: 0.8906\n",
      "Epoch 17/20\n",
      "24712/24712 [==============================] - 3s 106us/step - loss: 1.8250 - acc: 0.8868 - val_loss: 1.7634 - val_acc: 0.8906\n",
      "Epoch 18/20\n",
      "24712/24712 [==============================] - 3s 105us/step - loss: 1.8250 - acc: 0.8868 - val_loss: 1.7634 - val_acc: 0.8906\n",
      "Epoch 19/20\n",
      "24712/24712 [==============================] - 3s 106us/step - loss: 1.8250 - acc: 0.8868 - val_loss: 1.7634 - val_acc: 0.8906\n",
      "Epoch 20/20\n",
      "24712/24712 [==============================] - 3s 107us/step - loss: 1.8250 - acc: 0.8868 - val_loss: 1.7634 - val_acc: 0.8906\n"
     ]
    }
   ],
   "source": [
    "#Going to plot the model accuracy above through each epoch: \n",
    "history = model.fit(X_train, y_train, validation_split = .2, epochs=20, batch_size=100, verbose=1)"
   ]
  },
  {
   "cell_type": "code",
   "execution_count": 63,
   "metadata": {},
   "outputs": [
    {
     "name": "stdout",
     "output_type": "stream",
     "text": [
      "Train on 24712 samples, validate on 6179 samples\n",
      "Epoch 1/40\n",
      "24712/24712 [==============================] - 3s 112us/step - loss: 1.8250 - acc: 0.8868 - val_loss: 1.7634 - val_acc: 0.8906\n",
      "Epoch 2/40\n",
      "24712/24712 [==============================] - 3s 114us/step - loss: 1.8250 - acc: 0.8868 - val_loss: 1.7634 - val_acc: 0.8906\n",
      "Epoch 3/40\n",
      "24712/24712 [==============================] - 3s 116us/step - loss: 1.8250 - acc: 0.8868 - val_loss: 1.7634 - val_acc: 0.8906\n",
      "Epoch 4/40\n",
      "24712/24712 [==============================] - 3s 116us/step - loss: 1.8250 - acc: 0.8868 - val_loss: 1.7634 - val_acc: 0.8906\n",
      "Epoch 5/40\n",
      "24712/24712 [==============================] - 3s 107us/step - loss: 1.8250 - acc: 0.8868 - val_loss: 1.7634 - val_acc: 0.8906\n",
      "Epoch 6/40\n",
      "24712/24712 [==============================] - 3s 107us/step - loss: 1.8250 - acc: 0.8868 - val_loss: 1.7634 - val_acc: 0.8906\n",
      "Epoch 7/40\n",
      "24712/24712 [==============================] - 3s 121us/step - loss: 1.8250 - acc: 0.8868 - val_loss: 1.7634 - val_acc: 0.8906\n",
      "Epoch 8/40\n",
      "24712/24712 [==============================] - 3s 126us/step - loss: 1.8250 - acc: 0.8868 - val_loss: 1.7634 - val_acc: 0.8906\n",
      "Epoch 9/40\n",
      "24712/24712 [==============================] - 3s 122us/step - loss: 1.8254 - acc: 0.8867 - val_loss: 1.7634 - val_acc: 0.8906\n",
      "Epoch 10/40\n",
      "24712/24712 [==============================] - 3s 126us/step - loss: 1.8250 - acc: 0.8868 - val_loss: 1.7634 - val_acc: 0.8906\n",
      "Epoch 11/40\n",
      "24712/24712 [==============================] - 3s 110us/step - loss: 1.8250 - acc: 0.8868 - val_loss: 1.7634 - val_acc: 0.8906\n",
      "Epoch 12/40\n",
      "24712/24712 [==============================] - 3s 108us/step - loss: 1.8250 - acc: 0.8868 - val_loss: 1.7634 - val_acc: 0.8906\n",
      "Epoch 13/40\n",
      "24712/24712 [==============================] - 3s 115us/step - loss: 1.8250 - acc: 0.8868 - val_loss: 1.7634 - val_acc: 0.8906\n",
      "Epoch 14/40\n",
      "24712/24712 [==============================] - 3s 138us/step - loss: 1.8250 - acc: 0.8868 - val_loss: 1.7634 - val_acc: 0.8906\n",
      "Epoch 15/40\n",
      "24712/24712 [==============================] - 3s 128us/step - loss: 1.8250 - acc: 0.8868 - val_loss: 1.7634 - val_acc: 0.8906\n",
      "Epoch 16/40\n",
      "24712/24712 [==============================] - 3s 123us/step - loss: 1.8256 - acc: 0.8867 - val_loss: 1.7634 - val_acc: 0.8906\n",
      "Epoch 17/40\n",
      "24712/24712 [==============================] - 3s 111us/step - loss: 1.8250 - acc: 0.8868 - val_loss: 1.7634 - val_acc: 0.8906\n",
      "Epoch 18/40\n",
      "24712/24712 [==============================] - 3s 115us/step - loss: 1.8250 - acc: 0.8868 - val_loss: 1.7634 - val_acc: 0.8906\n",
      "Epoch 19/40\n",
      "24712/24712 [==============================] - 3s 107us/step - loss: 1.8250 - acc: 0.8868 - val_loss: 1.7634 - val_acc: 0.8906\n",
      "Epoch 20/40\n",
      "24712/24712 [==============================] - 3s 111us/step - loss: 1.8250 - acc: 0.8868 - val_loss: 1.7634 - val_acc: 0.8906\n",
      "Epoch 21/40\n",
      "24712/24712 [==============================] - 3s 106us/step - loss: 1.8250 - acc: 0.8868 - val_loss: 1.7634 - val_acc: 0.8906\n",
      "Epoch 22/40\n",
      "24712/24712 [==============================] - 3s 110us/step - loss: 1.8250 - acc: 0.8868 - val_loss: 1.7634 - val_acc: 0.8906\n",
      "Epoch 23/40\n",
      "24712/24712 [==============================] - 3s 106us/step - loss: 1.8250 - acc: 0.8868 - val_loss: 1.7634 - val_acc: 0.8906\n",
      "Epoch 24/40\n",
      "24712/24712 [==============================] - 3s 104us/step - loss: 1.8250 - acc: 0.8868 - val_loss: 1.7634 - val_acc: 0.8906\n",
      "Epoch 25/40\n",
      "24712/24712 [==============================] - 3s 105us/step - loss: 1.8250 - acc: 0.8868 - val_loss: 1.7634 - val_acc: 0.8906\n",
      "Epoch 26/40\n",
      "24712/24712 [==============================] - 3s 104us/step - loss: 1.8250 - acc: 0.8868 - val_loss: 1.7634 - val_acc: 0.8906\n",
      "Epoch 27/40\n",
      "24712/24712 [==============================] - 3s 110us/step - loss: 1.8250 - acc: 0.8868 - val_loss: 1.7634 - val_acc: 0.8906\n",
      "Epoch 28/40\n",
      "24712/24712 [==============================] - 3s 104us/step - loss: 1.8250 - acc: 0.8868 - val_loss: 1.7634 - val_acc: 0.8906\n",
      "Epoch 29/40\n",
      "24712/24712 [==============================] - 3s 104us/step - loss: 1.8250 - acc: 0.8868 - val_loss: 1.7634 - val_acc: 0.8906\n",
      "Epoch 30/40\n",
      "24712/24712 [==============================] - 3s 125us/step - loss: 1.8250 - acc: 0.8868 - val_loss: 1.7634 - val_acc: 0.8906\n",
      "Epoch 31/40\n",
      "24712/24712 [==============================] - 3s 130us/step - loss: 1.8256 - acc: 0.8867 - val_loss: 1.7634 - val_acc: 0.8906\n",
      "Epoch 32/40\n",
      "24712/24712 [==============================] - 4s 162us/step - loss: 1.8250 - acc: 0.8868 - val_loss: 1.7634 - val_acc: 0.8906\n",
      "Epoch 33/40\n",
      "24712/24712 [==============================] - 3s 123us/step - loss: 1.8256 - acc: 0.8867 - val_loss: 1.7634 - val_acc: 0.8906\n",
      "Epoch 34/40\n",
      "24712/24712 [==============================] - 3s 106us/step - loss: 1.8250 - acc: 0.8868 - val_loss: 1.7634 - val_acc: 0.8906\n",
      "Epoch 35/40\n",
      "24712/24712 [==============================] - 3s 107us/step - loss: 1.8243 - acc: 0.8868 - val_loss: 1.7634 - val_acc: 0.8906\n",
      "Epoch 36/40\n",
      "24712/24712 [==============================] - 3s 110us/step - loss: 1.8250 - acc: 0.8868 - val_loss: 1.7634 - val_acc: 0.8906\n",
      "Epoch 37/40\n",
      "24712/24712 [==============================] - 3s 110us/step - loss: 1.8256 - acc: 0.8867 - val_loss: 1.7634 - val_acc: 0.8906\n",
      "Epoch 38/40\n",
      "24712/24712 [==============================] - 3s 118us/step - loss: 1.8250 - acc: 0.8868 - val_loss: 1.7634 - val_acc: 0.8906\n",
      "Epoch 39/40\n",
      "24712/24712 [==============================] - 3s 117us/step - loss: 1.8250 - acc: 0.8868 - val_loss: 1.7634 - val_acc: 0.8906\n",
      "Epoch 40/40\n",
      "24712/24712 [==============================] - 3s 106us/step - loss: 1.8250 - acc: 0.8868 - val_loss: 1.7634 - val_acc: 0.8906\n"
     ]
    }
   ],
   "source": [
    "history = model.fit(X_train, y_train, validation_split = .2, epochs=40, batch_size=100, verbose=1)"
   ]
  },
  {
   "cell_type": "code",
   "execution_count": 67,
   "metadata": {},
   "outputs": [
    {
     "name": "stdout",
     "output_type": "stream",
     "text": [
      "_________________________________________________________________\n",
      "Layer (type)                 Output Shape              Param #   \n",
      "=================================================================\n",
      "dense_11 (Dense)             (None, 64)                1344      \n",
      "_________________________________________________________________\n",
      "dropout_2 (Dropout)          (None, 64)                0         \n",
      "_________________________________________________________________\n",
      "dense_12 (Dense)             (None, 64)                4160      \n",
      "_________________________________________________________________\n",
      "dropout_3 (Dropout)          (None, 64)                0         \n",
      "_________________________________________________________________\n",
      "dense_13 (Dense)             (None, 1)                 65        \n",
      "=================================================================\n",
      "Total params: 5,569\n",
      "Trainable params: 5,569\n",
      "Non-trainable params: 0\n",
      "_________________________________________________________________\n"
     ]
    }
   ],
   "source": [
    "model.summary()"
   ]
  },
  {
   "cell_type": "markdown",
   "metadata": {},
   "source": [
    "Stratified K Cross Validation"
   ]
  },
  {
   "cell_type": "code",
   "execution_count": 73,
   "metadata": {},
   "outputs": [],
   "source": [
    "model.compile(loss='binary_crossentropy',\n",
    "              optimizer='rmsprop',\n",
    "              metrics=['accuracy'])"
   ]
  },
  {
   "cell_type": "code",
   "execution_count": 76,
   "metadata": {
    "collapsed": true
   },
   "outputs": [],
   "source": [
    "from keras.wrappers.scikit_learn import KerasClassifier"
   ]
  },
  {
   "cell_type": "code",
   "execution_count": 80,
   "metadata": {},
   "outputs": [],
   "source": [
    "estimator = KerasClassifier(build_fn=model, epochs=100, batch_size=5, verbose=0)"
   ]
  },
  {
   "cell_type": "code",
   "execution_count": 95,
   "metadata": {},
   "outputs": [
    {
     "ename": "TypeError",
     "evalue": "__init__() got an unexpected keyword argument 'n_folds'",
     "output_type": "error",
     "traceback": [
      "\u001b[0;31m---------------------------------------------------------------------------\u001b[0m",
      "\u001b[0;31mTypeError\u001b[0m                                 Traceback (most recent call last)",
      "\u001b[0;32m<ipython-input-95-4e84b9e00b48>\u001b[0m in \u001b[0;36m<module>\u001b[0;34m()\u001b[0m\n\u001b[1;32m      1\u001b[0m \u001b[0mskf1\u001b[0m \u001b[0;34m=\u001b[0m \u001b[0mStratifiedKFold\u001b[0m\u001b[0;34m(\u001b[0m\u001b[0mn_splits\u001b[0m\u001b[0;34m=\u001b[0m\u001b[0;36m10\u001b[0m\u001b[0;34m,\u001b[0m \u001b[0mshuffle\u001b[0m\u001b[0;34m=\u001b[0m\u001b[0;32mTrue\u001b[0m\u001b[0;34m,\u001b[0m \u001b[0mrandom_state\u001b[0m\u001b[0;34m=\u001b[0m\u001b[0;36m2\u001b[0m\u001b[0;34m)\u001b[0m\u001b[0;34m\u001b[0m\u001b[0m\n\u001b[1;32m      2\u001b[0m \u001b[0;34m\u001b[0m\u001b[0m\n\u001b[0;32m----> 3\u001b[0;31m \u001b[0mskf2\u001b[0m \u001b[0;34m=\u001b[0m \u001b[0mStratifiedKFold\u001b[0m\u001b[0;34m(\u001b[0m\u001b[0my_train\u001b[0m\u001b[0;34m,\u001b[0m \u001b[0mn_folds\u001b[0m\u001b[0;34m=\u001b[0m\u001b[0;36m10\u001b[0m\u001b[0;34m,\u001b[0m \u001b[0mshuffle\u001b[0m\u001b[0;34m=\u001b[0m\u001b[0;32mTrue\u001b[0m\u001b[0;34m)\u001b[0m\u001b[0;34m\u001b[0m\u001b[0m\n\u001b[0m",
      "\u001b[0;31mTypeError\u001b[0m: __init__() got an unexpected keyword argument 'n_folds'"
     ]
    }
   ],
   "source": [
    "skf1 = StratifiedKFold(n_splits=10, shuffle=True, random_state=2)\n",
    "\n",
    "skf2 = StratifiedKFold(y_train, n_folds=10, shuffle=True)"
   ]
  },
  {
   "cell_type": "code",
   "execution_count": 89,
   "metadata": {},
   "outputs": [],
   "source": [
    "#results = cross_val_score(estimator, X_train, y_train, cv=kfold)\n",
    "#print(\"Results: %.2f%% (%.2f%%)\" % (results.mean()*100, results.std()*100))"
   ]
  },
  {
   "cell_type": "code",
   "execution_count": 87,
   "metadata": {},
   "outputs": [],
   "source": [
    "#kernel_initializer='random_uniform',bias_initializer='zeros'\n",
    "#metrics = ['recall', 'precision']\n",
    "\n",
    "def create_model(layers = 50, input_dim = 20, kernel_initializer = 'normal', \n",
    "                 activation_inner = 'relu', activation_output = 'sigmoid',\n",
    "                loss = 'binary_crossentropy', optimizer = 'adam', metrics = ['accuracy'] ):\n",
    "    \n",
    "    # create model\n",
    "    model = Sequential()\n",
    "    \n",
    "    model.add(Dense(layers, input_dim=input_dim, kernel_initializer=kernel_initializer, \n",
    "                    activation=activation_inner))\n",
    "    \n",
    "    model.add(Dense(1, kernel_initializer=kernel_initializer, activation=activation_output))\n",
    "    \n",
    "    # Compile model\n",
    "    model.compile(loss=loss, optimizer=optimizer, metrics=metrics)\n",
    "    return model"
   ]
  },
  {
   "cell_type": "code",
   "execution_count": 93,
   "metadata": {},
   "outputs": [],
   "source": [
    "def train_and_evaluate__model(model, X_train, y_train, X_test, y_test, \n",
    "                              epochs, batch_size = 150):\n",
    "    \n",
    "    history = model.fit(X_train, y_train, epochs=epochs, batch_size=batch_size, verbose=1)#validation_split\n",
    "    score = model.evaluate(X_test, y_test, batch_size=batch_size)\n",
    "    return history, score"
   ]
  },
  {
   "cell_type": "code",
   "execution_count": 94,
   "metadata": {},
   "outputs": [
    {
     "ename": "TypeError",
     "evalue": "'StratifiedKFold' object is not iterable",
     "output_type": "error",
     "traceback": [
      "\u001b[0;31m---------------------------------------------------------------------------\u001b[0m",
      "\u001b[0;31mTypeError\u001b[0m                                 Traceback (most recent call last)",
      "\u001b[0;32m<ipython-input-94-3953f9d4f460>\u001b[0m in \u001b[0;36m<module>\u001b[0;34m()\u001b[0m\n\u001b[0;32m----> 1\u001b[0;31m \u001b[0;32mfor\u001b[0m \u001b[0mi\u001b[0m\u001b[0;34m,\u001b[0m \u001b[0;34m(\u001b[0m\u001b[0mtrain\u001b[0m\u001b[0;34m,\u001b[0m \u001b[0mtest\u001b[0m\u001b[0;34m)\u001b[0m \u001b[0;32min\u001b[0m \u001b[0menumerate\u001b[0m\u001b[0;34m(\u001b[0m\u001b[0mskf\u001b[0m\u001b[0;34m)\u001b[0m\u001b[0;34m:\u001b[0m\u001b[0;34m\u001b[0m\u001b[0m\n\u001b[0m\u001b[1;32m      2\u001b[0m     \u001b[0mprint\u001b[0m\u001b[0;34m(\u001b[0m\u001b[0;34m\"Running Fold\"\u001b[0m\u001b[0;34m,\u001b[0m \u001b[0mi\u001b[0m\u001b[0;34m+\u001b[0m\u001b[0;36m1\u001b[0m\u001b[0;34m,\u001b[0m \u001b[0;34m\"/\"\u001b[0m\u001b[0;34m,\u001b[0m \u001b[0mn_folds\u001b[0m\u001b[0;34m)\u001b[0m\u001b[0;34m\u001b[0m\u001b[0m\n\u001b[1;32m      3\u001b[0m     \u001b[0mmodel\u001b[0m \u001b[0;34m=\u001b[0m \u001b[0;32mNone\u001b[0m \u001b[0;31m# Clearing the NN.\u001b[0m\u001b[0;34m\u001b[0m\u001b[0m\n\u001b[1;32m      4\u001b[0m     \u001b[0mmodel\u001b[0m \u001b[0;34m=\u001b[0m \u001b[0mcreate_model\u001b[0m\u001b[0;34m(\u001b[0m\u001b[0;34m)\u001b[0m\u001b[0;34m\u001b[0m\u001b[0m\n\u001b[1;32m      5\u001b[0m     train_and_evaluate_model(model, X_train, y_train, X_test, y_test, \n",
      "\u001b[0;31mTypeError\u001b[0m: 'StratifiedKFold' object is not iterable"
     ]
    }
   ],
   "source": [
    "for i, (train, test) in enumerate(skf):\n",
    "    print(\"Running Fold\", i+1, \"/\", n_folds)\n",
    "    model = None # Clearing the NN.\n",
    "    model = create_model()\n",
    "    train_and_evaluate_model(model, X_train, y_train, X_test, y_test, \n",
    "                              epochs, batch_size = 150)"
   ]
  },
  {
   "cell_type": "code",
   "execution_count": null,
   "metadata": {
    "collapsed": true
   },
   "outputs": [],
   "source": []
  }
 ],
 "metadata": {
  "kernelspec": {
   "display_name": "Python 3",
   "language": "python",
   "name": "python3"
  },
  "language_info": {
   "codemirror_mode": {
    "name": "ipython",
    "version": 3
   },
   "file_extension": ".py",
   "mimetype": "text/x-python",
   "name": "python",
   "nbconvert_exporter": "python",
   "pygments_lexer": "ipython3",
   "version": "3.6.3"
  }
 },
 "nbformat": 4,
 "nbformat_minor": 2
}
