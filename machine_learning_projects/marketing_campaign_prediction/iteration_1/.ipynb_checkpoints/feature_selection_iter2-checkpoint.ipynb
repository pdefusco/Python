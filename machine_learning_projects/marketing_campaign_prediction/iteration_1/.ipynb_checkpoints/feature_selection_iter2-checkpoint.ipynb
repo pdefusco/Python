{
 "cells": [
  {
   "cell_type": "markdown",
   "metadata": {},
   "source": [
    "### Feature Importance and Selection:"
   ]
  },
  {
   "cell_type": "markdown",
   "metadata": {},
   "source": [
    "- Objective: identify most important features for ML algorithm and then output a selected dataset\n",
    "- Method: first use Univariate tests to discard poor features (important when dealing with many features)\n",
    "    Then, use recursive feature elimination and feature importances to get a feeling for ranking among features left\n"
   ]
  },
  {
   "cell_type": "markdown",
   "metadata": {},
   "source": [
    "Dilemma: should we tune a model before feeding it to RFECV? Answer: first loosely tune models and then use regularized decision trees for a potentially more rigorouse answer:\n",
    "            https://arxiv.org/pdf/1201.1587.pdf"
   ]
  },
  {
   "cell_type": "code",
   "execution_count": 1,
   "metadata": {},
   "outputs": [],
   "source": [
    "%load_ext autoreload\n",
    "\n",
    "%autoreload 2"
   ]
  },
  {
   "cell_type": "code",
   "execution_count": 2,
   "metadata": {
    "collapsed": true
   },
   "outputs": [],
   "source": [
    "%matplotlib inline\n",
    "import pandas as pd\n",
    "import numpy as np\n",
    "from scipy.io import arff\n",
    "import matplotlib.pyplot as plt\n",
    "import seaborn as sns\n",
    "import matplotlib as mpl"
   ]
  },
  {
   "cell_type": "code",
   "execution_count": 3,
   "metadata": {
    "collapsed": true
   },
   "outputs": [],
   "source": [
    "from sklearn.model_selection import train_test_split, StratifiedKFold, GridSearchCV, cross_val_score\n",
    "from sklearn import preprocessing\n",
    "from sklearn.pipeline import make_pipeline\n",
    "from sklearn.metrics import confusion_matrix, precision_score, recall_score, average_precision_score\n",
    "from sklearn.metrics import accuracy_score, roc_curve, roc_auc_score, precision_recall_curve\n",
    "from sklearn.metrics import classification_report\n",
    "from sklearn.utils.fixes import signature\n",
    "pd.options.display.float_format = '{:.2f}'.format\n",
    "pd.set_option('display.float_format', lambda x: '%.3f' % x)"
   ]
  },
  {
   "cell_type": "code",
   "execution_count": 6,
   "metadata": {
    "collapsed": true
   },
   "outputs": [],
   "source": [
    "#Loading df1 after it has been augmented in iteration 2:\n",
    "df = pd.read_pickle('../data/pickle_files/df_pickle_w_all_stats')\n",
    "#Excluding the duration variable as it cannot be used in our baseline\n",
    "df = df.drop(columns = ['duration', 'Date'])"
   ]
  },
  {
   "cell_type": "code",
   "execution_count": 7,
   "metadata": {
    "collapsed": true
   },
   "outputs": [],
   "source": [
    "def scale_noncat_only(df):\n",
    "    X_temp_noncat = df.select_dtypes(exclude=['int8'])\n",
    "    X_temp_cat = df.select_dtypes(include=['int8'])\n",
    "    scaler = preprocessing.StandardScaler().fit(X_temp_noncat)\n",
    "    X_transformed = scaler.transform(X_temp_noncat)\n",
    "    X = pd.concat([pd.DataFrame(X_transformed, columns =X_temp_noncat.columns), X_temp_cat], axis = 1)\n",
    "    X = X.drop(columns=['y'])\n",
    "    y = df['y']\n",
    "    #will work with numpy arrays\n",
    "    y = np.array(y)\n",
    "    X = np.array(X)\n",
    "    \n",
    "    return X, y\n",
    "\n",
    "X, y = scale_noncat_only(df)"
   ]
  },
  {
   "cell_type": "code",
   "execution_count": 8,
   "metadata": {},
   "outputs": [
    {
     "data": {
      "text/plain": [
       "Index([], dtype='object')"
      ]
     },
     "execution_count": 8,
     "metadata": {},
     "output_type": "execute_result"
    }
   ],
   "source": [
    "#Checking dtypes have loaded correctly (should return empty index)\n",
    "df.select_dtypes(exclude = ['float64', 'int64', 'int8']).columns"
   ]
  },
  {
   "cell_type": "code",
   "execution_count": 9,
   "metadata": {
    "collapsed": true
   },
   "outputs": [],
   "source": [
    "y = df['y']\n",
    "X = df.drop(columns=['y'])"
   ]
  },
  {
   "cell_type": "code",
   "execution_count": 10,
   "metadata": {},
   "outputs": [
    {
     "data": {
      "text/plain": [
       "(41188, 72)"
      ]
     },
     "execution_count": 10,
     "metadata": {},
     "output_type": "execute_result"
    }
   ],
   "source": [
    "X.shape"
   ]
  },
  {
   "cell_type": "code",
   "execution_count": 11,
   "metadata": {
    "collapsed": true
   },
   "outputs": [],
   "source": [
    "names = list(X.columns)"
   ]
  },
  {
   "cell_type": "markdown",
   "metadata": {},
   "source": [
    "Univariate Feature Selection"
   ]
  },
  {
   "cell_type": "code",
   "execution_count": 12,
   "metadata": {
    "collapsed": true
   },
   "outputs": [],
   "source": [
    "from sklearn.feature_selection import SelectKBest, f_classif, mutual_info_classif"
   ]
  },
  {
   "cell_type": "code",
   "execution_count": 13,
   "metadata": {
    "collapsed": true
   },
   "outputs": [],
   "source": [
    "#Using F Classifier scoring function\n",
    "test = SelectKBest(score_func=f_classif, k='all')\n",
    "fit = test.fit(X, y)\n",
    "# summarize scores\n",
    "np.set_printoptions(precision=3)"
   ]
  },
  {
   "cell_type": "code",
   "execution_count": 14,
   "metadata": {},
   "outputs": [
    {
     "data": {
      "text/plain": [
       "[('Household credit', 6423.957630542542),\n",
       " ('Mortgage credit', 6259.710075255824),\n",
       " ('Unemployment rate', 6215.328224329231),\n",
       " ('Foreign exchange reserves', 6127.619935911332),\n",
       " ('nr.employed', 5926.610601111052),\n",
       " ('Government debt', 5893.926455086986),\n",
       " ('Employment', 5830.594300707896),\n",
       " ('Minimum wage', 5709.937349795137),\n",
       " ('year', 5668.675543704237),\n",
       " ('emplmnt_industry_index', 5488.271703529525),\n",
       " ('Private sector credit', 5171.645855551422),\n",
       " ('pdays', 4861.173272049289),\n",
       " ('Labor cost', 4670.487138412593),\n",
       " ('Business credit interest rate', 4556.632400328948),\n",
       " ('Deposit interest rate', 4432.398191653248),\n",
       " ('Consumer credit', 4375.106973760946),\n",
       " ('Investment as percent of GDP', 4361.241416793941),\n",
       " ('euribor3m', 4309.479048109171),\n",
       " ('Mortgage credit interest rate', 4115.273907037838),\n",
       " ('emp.var.rate', 4023.829925487281),\n",
       " ('Investment', 3577.29704945438),\n",
       " ('Business credit', 3565.6933778955704),\n",
       " ('Government expenditure', 3306.875885293535),\n",
       " ('financial_past', 3102.0897885964437),\n",
       " ('previous', 2304.2570879417895),\n",
       " ('Budget balance', 1885.3246976005948),\n",
       " ('Inflation annual', 1761.3332262114002),\n",
       " ('Consumption as percent of GDP', 1708.3223130038814),\n",
       " ('Economic growth Q-on-Q', 1576.5808961823507),\n",
       " ('Current account balance', 1473.838220296028),\n",
       " ('Exchange rate to USD', 1463.5544786753385),\n",
       " ('Investment growth', 1435.474266979942),\n",
       " ('economy_past', 1310.1144145473545),\n",
       " ('inflation_delta_expect', 1238.188732938843),\n",
       " ('savings_delta_expect', 1209.943101759026),\n",
       " ('Household consumption', 1014.4890534636886),\n",
       " ('contact', 881.7070703057972),\n",
       " ('Business confidence survey', 844.0698348009589),\n",
       " ('ind_turnover', 814.6379928053427),\n",
       " ('Consumption growth', 793.6422507916815),\n",
       " ('cons.price.idx', 778.5897948540367),\n",
       " ('Consumer Price Index (CPI)', 772.3132185149897),\n",
       " ('poutcome', 705.678164442302),\n",
       " ('major_purch_expect', 687.1475353974454),\n",
       " ('Retail sales', 581.8538177068476),\n",
       " ('economy_expect', 548.9286313222702),\n",
       " ('Exports', 499.51547563319406),\n",
       " ('default', 410.59078467356807),\n",
       " ('unempl_expect', 301.84052115190866),\n",
       " ('Gross Domestic Product (GDP)', 278.4004640720997),\n",
       " ('Inflation monthly', 245.99121365715936),\n",
       " ('Money supply (broad money)', 201.86413507902432),\n",
       " ('railway_passengers', 183.03689361945257),\n",
       " ('campaign', 182.1566728779538),\n",
       " ('FDI', 158.06952761873947),\n",
       " ('education', 138.0517555082783),\n",
       " ('Economic growth', 135.70237485597355),\n",
       " ('cons.conf.idx', 124.40997473290119),\n",
       " ('cons_conf', 104.12406685116402),\n",
       " ('Consumer confidence survey', 104.12406685116402),\n",
       " ('marital', 88.10704673107693),\n",
       " ('major_purch_opportu', 84.80120899724722),\n",
       " ('month', 56.022065296719674),\n",
       " ('age', 38.09465928898605),\n",
       " ('job', 26.0098646689367),\n",
       " ('day', 21.496010561813605),\n",
       " ('day_of_week_last_contact', 10.5030958804477),\n",
       " ('housing', 5.496653388835498),\n",
       " ('month_last_contact', 1.5149396996025741),\n",
       " ('savings_expect', 1.106542489845242),\n",
       " ('loan', 0.9923712541376224),\n",
       " ('household_debt_ratio', 0.07580810832248187)]"
      ]
     },
     "execution_count": 14,
     "metadata": {},
     "output_type": "execute_result"
    }
   ],
   "source": [
    "sorted(list(zip(names,list(fit.scores_))), key=lambda tup:tup[1], reverse=True)"
   ]
  },
  {
   "cell_type": "code",
   "execution_count": 15,
   "metadata": {
    "collapsed": true
   },
   "outputs": [],
   "source": [
    "#Same as above with Mutual Info classification scoring function\n",
    "test = SelectKBest(score_func=mutual_info_classif, k='all')\n",
    "fit = test.fit(X, y)\n",
    "# summarize scores\n",
    "np.set_printoptions(precision=3)"
   ]
  },
  {
   "cell_type": "code",
   "execution_count": 16,
   "metadata": {},
   "outputs": [
    {
     "data": {
      "text/plain": [
       "[('euribor3m', 0.07276930652382996),\n",
       " ('Money supply (broad money)', 0.07225833302885643),\n",
       " ('Inflation annual', 0.07166360224852375),\n",
       " ('Exchange rate to USD', 0.07048228652568334),\n",
       " ('Private sector credit', 0.07036034343371145),\n",
       " ('financial_past', 0.07009019362280933),\n",
       " ('Business confidence survey', 0.06998037169595728),\n",
       " ('Business credit', 0.06992931675507719),\n",
       " ('Exports', 0.06944044594647614),\n",
       " ('major_purch_expect', 0.06934259720773928),\n",
       " ('inflation_delta_expect', 0.06897443762801347),\n",
       " ('cons.conf.idx', 0.06892500805118829),\n",
       " ('cons.price.idx', 0.06882659674166702),\n",
       " ('ind_turnover', 0.06866267573099272),\n",
       " ('FDI', 0.06845983522365229),\n",
       " ('Deposit interest rate', 0.0683872474471261),\n",
       " ('Business credit interest rate', 0.06826169049077113),\n",
       " ('Consumer Price Index (CPI)', 0.06824246104083742),\n",
       " ('economy_expect', 0.0682210793244149),\n",
       " ('Mortgage credit', 0.06815931080572768),\n",
       " ('unempl_expect', 0.06771224458472092),\n",
       " ('railway_passengers', 0.06751540491259456),\n",
       " ('Employment', 0.06716696024551516),\n",
       " ('emplmnt_industry_index', 0.06712442978158206),\n",
       " ('Consumer confidence survey', 0.06630531486401825),\n",
       " ('Consumer credit', 0.06628797230426797),\n",
       " ('Mortgage credit interest rate', 0.06616529029294838),\n",
       " ('Household credit', 0.06612440301456868),\n",
       " ('Current account balance', 0.06603361310152156),\n",
       " ('Unemployment rate', 0.06590295659324208),\n",
       " ('Foreign exchange reserves', 0.06570819868297462),\n",
       " ('Investment as percent of GDP', 0.06543307958625832),\n",
       " ('cons_conf', 0.06504397218452707),\n",
       " ('nr.employed', 0.06463806873667721),\n",
       " ('economy_past', 0.06431545341995082),\n",
       " ('Consumption as percent of GDP', 0.06419963551168983),\n",
       " ('Inflation monthly', 0.06405230005664775),\n",
       " ('Retail sales', 0.06351413985928644),\n",
       " ('Investment', 0.06335723232075896),\n",
       " ('Labor cost', 0.06320875588346064),\n",
       " ('Budget balance', 0.06317435977000962),\n",
       " ('savings_delta_expect', 0.0628602583330804),\n",
       " ('Consumption growth', 0.0627355304020929),\n",
       " ('Government debt', 0.06236921302521936),\n",
       " ('Economic growth Q-on-Q', 0.06220198926858389),\n",
       " ('Investment growth', 0.06210616501077104),\n",
       " ('Gross Domestic Product (GDP)', 0.06203906658176894),\n",
       " ('Household consumption', 0.06187256747508263),\n",
       " ('Government expenditure', 0.06174774816345563),\n",
       " ('Economic growth', 0.0606027728010472),\n",
       " ('major_purch_opportu', 0.059612538452913366),\n",
       " ('savings_expect', 0.05936101469198274),\n",
       " ('household_debt_ratio', 0.05847480701510244),\n",
       " ('emp.var.rate', 0.055014502620333694),\n",
       " ('year', 0.051443611741698314),\n",
       " ('Minimum wage', 0.049868227284011635),\n",
       " ('pdays', 0.04114493713357392),\n",
       " ('poutcome', 0.03588103992895686),\n",
       " ('month', 0.02839629317221748),\n",
       " ('month_last_contact', 0.027047085824937644),\n",
       " ('previous', 0.018483632834009445),\n",
       " ('contact', 0.012671188556490076),\n",
       " ('age', 0.012448936752111228),\n",
       " ('job', 0.011881875870608294),\n",
       " ('day', 0.009193628101466622),\n",
       " ('default', 0.005252990625920884),\n",
       " ('campaign', 0.005039891829806242),\n",
       " ('housing', 0.004641819191842922),\n",
       " ('education', 0.003680576595852081),\n",
       " ('marital', 0.0017034753375131384),\n",
       " ('loan', 0.001543580516869314),\n",
       " ('day_of_week_last_contact', 0.0)]"
      ]
     },
     "execution_count": 16,
     "metadata": {},
     "output_type": "execute_result"
    }
   ],
   "source": [
    "sorted(list(zip(names,list(fit.scores_))), key=lambda tup:tup[1], reverse=True)"
   ]
  },
  {
   "cell_type": "markdown",
   "metadata": {},
   "source": [
    "Recursive Feature Elimination"
   ]
  },
  {
   "cell_type": "code",
   "execution_count": 17,
   "metadata": {
    "collapsed": true
   },
   "outputs": [],
   "source": [
    "from sklearn.feature_selection import RFE\n",
    "from sklearn.linear_model import LogisticRegression"
   ]
  },
  {
   "cell_type": "code",
   "execution_count": 18,
   "metadata": {
    "collapsed": true
   },
   "outputs": [],
   "source": [
    "model = LogisticRegression()\n",
    "rfe = RFE(model, 20)\n",
    "fit = rfe.fit(X, y)"
   ]
  },
  {
   "cell_type": "code",
   "execution_count": 19,
   "metadata": {},
   "outputs": [
    {
     "name": "stdout",
     "output_type": "stream",
     "text": [
      "Num Features Selected: 20\n"
     ]
    }
   ],
   "source": [
    "print(\"Num Features Selected: %d\" % (fit.n_features_))\n",
    "#print(\"Selected Features: %s\" % (fit.support_))\n",
    "#print(\"Feature Ranking: %s\" % (fit.ranking_))"
   ]
  },
  {
   "cell_type": "code",
   "execution_count": 20,
   "metadata": {},
   "outputs": [
    {
     "data": {
      "text/plain": [
       "[('economy_expect', 1),\n",
       " ('economy_past', 1),\n",
       " ('savings_expect', 1),\n",
       " ('month', 1),\n",
       " ('previous', 1),\n",
       " ('emp.var.rate', 1),\n",
       " ('default', 1),\n",
       " ('contact', 1),\n",
       " ('poutcome', 1),\n",
       " ('Consumer credit', 1),\n",
       " ('Unemployment rate', 1),\n",
       " ('Labor cost', 1),\n",
       " ('Private sector credit', 1),\n",
       " ('Economic growth', 1),\n",
       " ('Consumption growth', 1),\n",
       " ('Inflation monthly', 1),\n",
       " ('Inflation annual', 1),\n",
       " ('Business confidence survey', 1),\n",
       " ('Consumer confidence survey', 1),\n",
       " ('Economic growth Q-on-Q', 1),\n",
       " ('month_last_contact', 2),\n",
       " ('cons.conf.idx', 3),\n",
       " ('Retail sales', 4),\n",
       " ('Consumer Price Index (CPI)', 5),\n",
       " ('ind_turnover', 6),\n",
       " ('major_purch_opportu', 7),\n",
       " ('savings_delta_expect', 8),\n",
       " ('inflation_delta_expect', 9),\n",
       " ('day_of_week_last_contact', 10),\n",
       " ('marital', 11),\n",
       " ('Money supply (broad money)', 12),\n",
       " ('campaign', 13),\n",
       " ('unempl_expect', 14),\n",
       " ('Investment growth', 15),\n",
       " ('Consumption as percent of GDP', 16),\n",
       " ('Business credit interest rate', 17),\n",
       " ('housing', 18),\n",
       " ('education', 19),\n",
       " ('major_purch_expect', 20),\n",
       " ('Minimum wage', 21),\n",
       " ('loan', 22),\n",
       " ('Household consumption', 23),\n",
       " ('financial_past', 24),\n",
       " ('Business credit', 25),\n",
       " ('Mortgage credit', 26),\n",
       " ('day', 27),\n",
       " ('cons.price.idx', 28),\n",
       " ('year', 29),\n",
       " ('Household credit', 30),\n",
       " ('emplmnt_industry_index', 31),\n",
       " ('nr.employed', 32),\n",
       " ('Investment', 33),\n",
       " ('household_debt_ratio', 34),\n",
       " ('cons_conf', 35),\n",
       " ('Deposit interest rate', 36),\n",
       " ('Foreign exchange reserves', 37),\n",
       " ('euribor3m', 38),\n",
       " ('Government expenditure', 39),\n",
       " ('Employment', 40),\n",
       " ('age', 41),\n",
       " ('pdays', 42),\n",
       " ('job', 43),\n",
       " ('Mortgage credit interest rate', 44),\n",
       " ('Current account balance', 45),\n",
       " ('FDI', 46),\n",
       " ('Exports', 47),\n",
       " ('railway_passengers', 48),\n",
       " ('Budget balance', 49),\n",
       " ('Government debt', 50),\n",
       " ('Gross Domestic Product (GDP)', 51),\n",
       " ('Exchange rate to USD', 52),\n",
       " ('Investment as percent of GDP', 53)]"
      ]
     },
     "execution_count": 20,
     "metadata": {},
     "output_type": "execute_result"
    }
   ],
   "source": [
    "sorted(list(zip(names, fit.ranking_)), key=lambda tup:tup[1], reverse=False)"
   ]
  },
  {
   "cell_type": "markdown",
   "metadata": {},
   "source": [
    "Feature Importance with Decision Trees"
   ]
  },
  {
   "cell_type": "code",
   "execution_count": 21,
   "metadata": {},
   "outputs": [
    {
     "name": "stderr",
     "output_type": "stream",
     "text": [
      "/Users/pauldefusco/anaconda2/envs/py36/lib/python3.6/site-packages/sklearn/ensemble/weight_boosting.py:29: DeprecationWarning: numpy.core.umath_tests is an internal NumPy module and should not be imported. It will be removed in a future NumPy release.\n",
      "  from numpy.core.umath_tests import inner1d\n"
     ]
    }
   ],
   "source": [
    "from sklearn.ensemble import ExtraTreesClassifier"
   ]
  },
  {
   "cell_type": "code",
   "execution_count": 22,
   "metadata": {},
   "outputs": [
    {
     "name": "stdout",
     "output_type": "stream",
     "text": [
      "[6.827e-04 2.141e-03 8.969e-04 4.541e-04 8.221e-04 2.421e-04 1.746e-04\n",
      " 2.366e-03 1.564e-02 1.006e-03 1.855e-03 3.260e-04 1.589e-02 2.342e-03\n",
      " 2.527e-04 1.882e-03 5.379e-02 1.739e-01 1.063e-01 2.229e-02 1.585e-02\n",
      " 3.119e-04 1.143e-03 5.454e-03 6.444e-02 1.398e-02 8.960e-02 4.749e-02\n",
      " 8.265e-02 1.162e-02 3.624e-02 2.731e-02 1.560e-02 4.660e-04 4.623e-02\n",
      " 2.960e-02 7.662e-03 1.054e-02 1.242e-04 6.527e-04 1.762e-02 2.996e-04\n",
      " 2.447e-04 9.233e-05 1.201e-03 1.376e-02 2.369e-04 5.392e-05 1.443e-03\n",
      " 5.100e-04 9.133e-03 1.577e-04 4.014e-03 4.045e-04 8.159e-04 8.215e-03\n",
      " 2.077e-04 4.437e-04 5.630e-03 3.906e-03 1.242e-03 5.127e-04 4.124e-03\n",
      " 6.363e-03 3.261e-04 2.828e-03 7.107e-04 9.886e-04 1.034e-03 1.506e-03\n",
      " 5.721e-04 1.122e-03]\n"
     ]
    }
   ],
   "source": [
    "model = ExtraTreesClassifier()\n",
    "model.fit(X, y)\n",
    "print(model.feature_importances_)"
   ]
  },
  {
   "cell_type": "code",
   "execution_count": 23,
   "metadata": {},
   "outputs": [
    {
     "data": {
      "text/plain": [
       "[('age', 0.17394574587826778),\n",
       " ('campaign', 0.1063372508280613),\n",
       " ('job', 0.08959918893254333),\n",
       " ('education', 0.08265002252322014),\n",
       " ('euribor3m', 0.06443561127536988),\n",
       " ('day', 0.05379034482149064),\n",
       " ('marital', 0.04748723900154844),\n",
       " ('day_of_week_last_contact', 0.046233096385619864),\n",
       " ('housing', 0.036235347804725426),\n",
       " ('poutcome', 0.02960386382420534),\n",
       " ('loan', 0.027309532424848144),\n",
       " ('pdays', 0.022288053956636487),\n",
       " ('Employment', 0.01761709886350751),\n",
       " ('emplmnt_industry_index', 0.015886023897514163),\n",
       " ('previous', 0.01585280683282249),\n",
       " ('financial_past', 0.015636202068373916),\n",
       " ('contact', 0.015603900240354063),\n",
       " ('nr.employed', 0.01397608084004813),\n",
       " ('Foreign exchange reserves', 0.013756639709008358),\n",
       " ('default', 0.01162123370240324),\n",
       " ('Deposit interest rate', 0.010539037324976724),\n",
       " ('Minimum wage', 0.00913349021343838),\n",
       " ('Mortgage credit', 0.0082148636277978),\n",
       " ('Consumer credit', 0.007662238820895296),\n",
       " ('Investment as percent of GDP', 0.006362781075606537),\n",
       " ('Money supply (broad money)', 0.005629626966237007),\n",
       " ('cons.conf.idx', 0.005454218415902096),\n",
       " ('Consumption growth', 0.004124498433565992),\n",
       " ('Private sector credit', 0.004014281027063542),\n",
       " ('Household consumption', 0.0039057129670797878),\n",
       " ('Consumption as percent of GDP', 0.0028275040284329173),\n",
       " ('economy_past', 0.0023658166808744967),\n",
       " ('railway_passengers', 0.0023423859082291817),\n",
       " ('ind_turnover', 0.002140892083146006),\n",
       " ('year', 0.0018816235848255589),\n",
       " ('household_debt_ratio', 0.0018545452709796677),\n",
       " ('Business confidence survey', 0.0015064252893966794),\n",
       " ('Labor cost', 0.001442912676522051),\n",
       " ('Investment', 0.0012421057118256786),\n",
       " ('FDI', 0.001200961486724794),\n",
       " ('cons.price.idx', 0.0011428869064466101),\n",
       " ('Economic growth Q-on-Q', 0.001122477628915982),\n",
       " ('Retail sales', 0.0010339704833520528),\n",
       " ('savings_delta_expect', 0.0010062195751319339),\n",
       " ('Inflation annual', 0.000988581401632133),\n",
       " ('major_purch_expect', 0.0008968564783841013),\n",
       " ('unempl_expect', 0.0008221491520623602),\n",
       " ('Household credit', 0.00081594026579781),\n",
       " ('Inflation monthly', 0.0007107347533204998),\n",
       " ('cons_conf', 0.0006827235354068796),\n",
       " ('Business credit interest rate', 0.0006526720123010175),\n",
       " ('Consumer confidence survey', 0.0005720894371877483),\n",
       " ('Economic growth', 0.000512661476048426),\n",
       " ('Exchange rate to USD', 0.0005100091254401154),\n",
       " ('month_last_contact', 0.00046604839004741304),\n",
       " ('major_purch_opportu', 0.0004541039033207852),\n",
       " ('Consumer Price Index (CPI)', 0.00044372838010088843),\n",
       " ('Business credit', 0.00040451769453968045),\n",
       " ('Investment growth', 0.00032606667499946704),\n",
       " ('savings_expect', 0.000326043018105347),\n",
       " ('emp.var.rate', 0.00031185822130028597),\n",
       " ('Unemployment rate', 0.0002996341040173302),\n",
       " ('month', 0.00025269494087215317),\n",
       " ('Current account balance', 0.0002446880056895165),\n",
       " ('inflation_delta_expect', 0.00024210202788301554),\n",
       " ('Government expenditure', 0.0002368730045553857),\n",
       " ('Gross Domestic Product (GDP)', 0.00020773872087683),\n",
       " ('economy_expect', 0.0001745762511114789),\n",
       " ('Government debt', 0.00015773469832711416),\n",
       " ('Mortgage credit interest rate', 0.00012416803318633537),\n",
       " ('Exports', 9.232918847648406e-05),\n",
       " ('Budget balance', 5.39171070739475e-05)]"
      ]
     },
     "execution_count": 23,
     "metadata": {},
     "output_type": "execute_result"
    }
   ],
   "source": [
    "sorted(list(zip(names, model.feature_importances_)), key=lambda tup:tup[1], reverse=True)"
   ]
  },
  {
   "cell_type": "code",
   "execution_count": null,
   "metadata": {
    "collapsed": true
   },
   "outputs": [],
   "source": []
  }
 ],
 "metadata": {
  "kernelspec": {
   "display_name": "Python 3",
   "language": "python",
   "name": "python3"
  },
  "language_info": {
   "codemirror_mode": {
    "name": "ipython",
    "version": 3
   },
   "file_extension": ".py",
   "mimetype": "text/x-python",
   "name": "python",
   "nbconvert_exporter": "python",
   "pygments_lexer": "ipython3",
   "version": "3.6.3"
  }
 },
 "nbformat": 4,
 "nbformat_minor": 2
}
