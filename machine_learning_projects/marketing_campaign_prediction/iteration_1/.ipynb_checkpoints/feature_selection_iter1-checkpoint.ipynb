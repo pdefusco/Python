{
 "cells": [
  {
   "cell_type": "markdown",
   "metadata": {},
   "source": [
    "### Feature Importance and Selection:"
   ]
  },
  {
   "cell_type": "markdown",
   "metadata": {},
   "source": [
    "- Objective: identify most important features for ML algorithm and then output a selected dataset\n",
    "- Method: first use Univariate tests to discard poor features (important when dealing with many features)\n",
    "    Then, use recursive feature elimination and feature importances to get a feeling for ranking among features left\n"
   ]
  },
  {
   "cell_type": "markdown",
   "metadata": {},
   "source": [
    "Dilemma: should we tune a model before feeding it to RFECV? Answer: first loosely tune models and then use regularized decision trees for a potentially more rigorouse answer:\n",
    "            https://arxiv.org/pdf/1201.1587.pdf"
   ]
  },
  {
   "cell_type": "code",
   "execution_count": 7,
   "metadata": {
    "collapsed": true
   },
   "outputs": [],
   "source": [
    "%load_ext autoreload\n",
    "\n",
    "%autoreload 2"
   ]
  },
  {
   "cell_type": "code",
   "execution_count": 8,
   "metadata": {
    "collapsed": true
   },
   "outputs": [],
   "source": [
    "%matplotlib inline\n",
    "import pandas as pd\n",
    "import numpy as np\n",
    "from scipy.io import arff\n",
    "import matplotlib.pyplot as plt\n",
    "import seaborn as sns\n",
    "import matplotlib as mpl\n",
    "import os"
   ]
  },
  {
   "cell_type": "code",
   "execution_count": 9,
   "metadata": {
    "collapsed": true
   },
   "outputs": [],
   "source": [
    "from sklearn.model_selection import train_test_split, StratifiedKFold, GridSearchCV, cross_val_score\n",
    "from sklearn import preprocessing\n",
    "from sklearn.pipeline import make_pipeline\n",
    "from sklearn.metrics import confusion_matrix, precision_score, recall_score, average_precision_score\n",
    "from sklearn.metrics import accuracy_score, roc_curve, roc_auc_score, precision_recall_curve\n",
    "from sklearn.metrics import classification_report\n",
    "from sklearn.utils.fixes import signature\n",
    "pd.options.display.float_format = '{:.2f}'.format\n",
    "pd.set_option('display.float_format', lambda x: '%.3f' % x)"
   ]
  },
  {
   "cell_type": "code",
   "execution_count": 10,
   "metadata": {},
   "outputs": [
    {
     "data": {
      "text/plain": [
       "['df_pickle_w_all_stats', 'df_pickle', 'df_pickle_w_time_stats']"
      ]
     },
     "execution_count": 10,
     "metadata": {},
     "output_type": "execute_result"
    }
   ],
   "source": [
    "os.listdir('../data/pickle_files')"
   ]
  },
  {
   "cell_type": "code",
   "execution_count": 11,
   "metadata": {
    "collapsed": true
   },
   "outputs": [],
   "source": [
    "#Loading df1 after it has been augmented in iteration 2:\n",
    "df = pd.read_pickle('../data/pickle_files/df_pickle_w_time_stats')\n",
    "#Excluding the duration variable as it cannot be used in our baseline\n",
    "df = df.drop(columns = ['duration', 'Date'])"
   ]
  },
  {
   "cell_type": "code",
   "execution_count": 12,
   "metadata": {
    "collapsed": true
   },
   "outputs": [],
   "source": [
    "def scale_noncat_only(df):\n",
    "    X_temp_noncat = df.select_dtypes(exclude=['int8'])\n",
    "    X_temp_cat = df.select_dtypes(include=['int8'])\n",
    "    scaler = preprocessing.StandardScaler().fit(X_temp_noncat)\n",
    "    X_transformed = scaler.transform(X_temp_noncat)\n",
    "    X = pd.concat([pd.DataFrame(X_transformed, columns =X_temp_noncat.columns), X_temp_cat], axis = 1)\n",
    "    X = X.drop(columns=['y'])\n",
    "    y = df['y']\n",
    "    #will work with numpy arrays\n",
    "    y = np.array(y)\n",
    "    X = np.array(X)\n",
    "    \n",
    "    return X, y\n",
    "\n",
    "X, y = scale_noncat_only(df)"
   ]
  },
  {
   "cell_type": "code",
   "execution_count": 13,
   "metadata": {},
   "outputs": [
    {
     "data": {
      "text/plain": [
       "Index([], dtype='object')"
      ]
     },
     "execution_count": 13,
     "metadata": {},
     "output_type": "execute_result"
    }
   ],
   "source": [
    "#Checking dtypes have loaded correctly (should return empty index)\n",
    "df.select_dtypes(exclude = ['float64', 'int64', 'int8']).columns"
   ]
  },
  {
   "cell_type": "code",
   "execution_count": 14,
   "metadata": {
    "collapsed": true
   },
   "outputs": [],
   "source": [
    "y = df['y']\n",
    "X = df.drop(columns=['y'])"
   ]
  },
  {
   "cell_type": "code",
   "execution_count": 15,
   "metadata": {},
   "outputs": [
    {
     "data": {
      "text/plain": [
       "(41188, 36)"
      ]
     },
     "execution_count": 15,
     "metadata": {},
     "output_type": "execute_result"
    }
   ],
   "source": [
    "X.shape"
   ]
  },
  {
   "cell_type": "code",
   "execution_count": 16,
   "metadata": {
    "collapsed": true
   },
   "outputs": [],
   "source": [
    "names = list(X.columns)"
   ]
  },
  {
   "cell_type": "markdown",
   "metadata": {},
   "source": [
    "Univariate Feature Selection"
   ]
  },
  {
   "cell_type": "code",
   "execution_count": 17,
   "metadata": {
    "collapsed": true
   },
   "outputs": [],
   "source": [
    "from sklearn.feature_selection import SelectKBest, f_classif, mutual_info_classif"
   ]
  },
  {
   "cell_type": "code",
   "execution_count": 18,
   "metadata": {
    "collapsed": true
   },
   "outputs": [],
   "source": [
    "#Using F Classifier scoring function\n",
    "test = SelectKBest(score_func=f_classif, k='all')\n",
    "fit = test.fit(X, y)\n",
    "# summarize scores\n",
    "np.set_printoptions(precision=3)"
   ]
  },
  {
   "cell_type": "code",
   "execution_count": 19,
   "metadata": {},
   "outputs": [
    {
     "data": {
      "text/plain": [
       "[('nr.employed', 5926.610601111052),\n",
       " ('year', 5668.675543704237),\n",
       " ('emplmnt_industry_index', 5488.271703529525),\n",
       " ('pdays', 4861.173272049289),\n",
       " ('euribor3m', 4309.479048109171),\n",
       " ('emp.var.rate', 4023.829925487281),\n",
       " ('financial_past', 3102.0897885964437),\n",
       " ('previous', 2304.2570879417895),\n",
       " ('economy_past', 1310.1144145473545),\n",
       " ('inflation_delta_expect', 1238.188732938843),\n",
       " ('savings_delta_expect', 1209.943101759026),\n",
       " ('contact', 881.7070703057972),\n",
       " ('ind_turnover', 814.6379928053427),\n",
       " ('cons.price.idx', 778.5897948540367),\n",
       " ('poutcome', 705.678164442302),\n",
       " ('major_purch_expect', 687.1475353974454),\n",
       " ('economy_expect', 548.9286313222702),\n",
       " ('default', 410.59078467356807),\n",
       " ('unempl_expect', 301.84052115190866),\n",
       " ('railway_passengers', 183.03689361945257),\n",
       " ('campaign', 182.1566728779538),\n",
       " ('education', 138.0517555082783),\n",
       " ('cons.conf.idx', 124.40997473290119),\n",
       " ('cons_conf', 104.12406685116402),\n",
       " ('marital', 88.10704673107693),\n",
       " ('major_purch_opportu', 84.80120899724722),\n",
       " ('month', 56.022065296719674),\n",
       " ('age', 38.09465928898605),\n",
       " ('job', 26.0098646689367),\n",
       " ('day', 21.496010561813605),\n",
       " ('day_of_week_last_contact', 10.5030958804477),\n",
       " ('housing', 5.496653388835498),\n",
       " ('month_last_contact', 1.5149396996025741),\n",
       " ('savings_expect', 1.106542489845242),\n",
       " ('loan', 0.9923712541376224),\n",
       " ('household_debt_ratio', 0.07580810832248187)]"
      ]
     },
     "execution_count": 19,
     "metadata": {},
     "output_type": "execute_result"
    }
   ],
   "source": [
    "sorted(list(zip(names,list(fit.scores_))), key=lambda tup:tup[1], reverse=True)"
   ]
  },
  {
   "cell_type": "code",
   "execution_count": 20,
   "metadata": {
    "collapsed": true
   },
   "outputs": [],
   "source": [
    "#Same as above with Mutual Info classification scoring function\n",
    "test = SelectKBest(score_func=mutual_info_classif, k='all')\n",
    "fit = test.fit(X, y)\n",
    "# summarize scores\n",
    "np.set_printoptions(precision=3)"
   ]
  },
  {
   "cell_type": "code",
   "execution_count": 21,
   "metadata": {},
   "outputs": [
    {
     "data": {
      "text/plain": [
       "[('euribor3m', 0.075776270335983),\n",
       " ('financial_past', 0.07054494101370135),\n",
       " ('railway_passengers', 0.0704520297946305),\n",
       " ('cons.conf.idx', 0.06974844897392263),\n",
       " ('inflation_delta_expect', 0.0694976476041993),\n",
       " ('major_purch_expect', 0.06934043190878869),\n",
       " ('cons.price.idx', 0.0683562297522482),\n",
       " ('emplmnt_industry_index', 0.0678314387553669),\n",
       " ('ind_turnover', 0.06664044841988881),\n",
       " ('economy_past', 0.06563099355906554),\n",
       " ('unempl_expect', 0.06526844604400539),\n",
       " ('nr.employed', 0.06426763009528136),\n",
       " ('cons_conf', 0.0637162438309613),\n",
       " ('economy_expect', 0.06260972910029805),\n",
       " ('savings_delta_expect', 0.061037918433022975),\n",
       " ('household_debt_ratio', 0.060359977322939073),\n",
       " ('savings_expect', 0.059824428490030224),\n",
       " ('major_purch_opportu', 0.05770193061646367),\n",
       " ('emp.var.rate', 0.05709386154714746),\n",
       " ('year', 0.05373779075436391),\n",
       " ('poutcome', 0.03605166291194606),\n",
       " ('pdays', 0.035716881688217406),\n",
       " ('month', 0.028014115720239152),\n",
       " ('month_last_contact', 0.027378082493479727),\n",
       " ('previous', 0.021366104019740595),\n",
       " ('age', 0.01424524288090967),\n",
       " ('contact', 0.010848975419127882),\n",
       " ('job', 0.01049892529901153),\n",
       " ('day', 0.007912804634300441),\n",
       " ('marital', 0.006584126644768151),\n",
       " ('education', 0.004803484749307918),\n",
       " ('campaign', 0.004691993275202533),\n",
       " ('housing', 0.004248955506723107),\n",
       " ('default', 0.004195507603248716),\n",
       " ('day_of_week_last_contact', 0.002234781452236545),\n",
       " ('loan', 0.0007745956543785404)]"
      ]
     },
     "execution_count": 21,
     "metadata": {},
     "output_type": "execute_result"
    }
   ],
   "source": [
    "sorted(list(zip(names,list(fit.scores_))), key=lambda tup:tup[1], reverse=True)"
   ]
  },
  {
   "cell_type": "markdown",
   "metadata": {},
   "source": [
    "Recursive Feature Elimination"
   ]
  },
  {
   "cell_type": "code",
   "execution_count": 22,
   "metadata": {
    "collapsed": true
   },
   "outputs": [],
   "source": [
    "from sklearn.feature_selection import RFE\n",
    "from sklearn.linear_model import LogisticRegression"
   ]
  },
  {
   "cell_type": "code",
   "execution_count": 23,
   "metadata": {
    "collapsed": true
   },
   "outputs": [],
   "source": [
    "model = LogisticRegression()\n",
    "rfe = RFE(model, 20)\n",
    "fit = rfe.fit(X, y)"
   ]
  },
  {
   "cell_type": "code",
   "execution_count": 24,
   "metadata": {},
   "outputs": [
    {
     "name": "stdout",
     "output_type": "stream",
     "text": [
      "Num Features Selected: 20\n"
     ]
    }
   ],
   "source": [
    "print(\"Num Features Selected: %d\" % (fit.n_features_))\n",
    "#print(\"Selected Features: %s\" % (fit.support_))\n",
    "#print(\"Feature Ranking: %s\" % (fit.ranking_))"
   ]
  },
  {
   "cell_type": "code",
   "execution_count": 25,
   "metadata": {},
   "outputs": [
    {
     "data": {
      "text/plain": [
       "[('cons_conf', 1),\n",
       " ('major_purch_opportu', 1),\n",
       " ('unempl_expect', 1),\n",
       " ('economy_expect', 1),\n",
       " ('economy_past', 1),\n",
       " ('financial_past', 1),\n",
       " ('savings_delta_expect', 1),\n",
       " ('savings_expect', 1),\n",
       " ('month', 1),\n",
       " ('campaign', 1),\n",
       " ('previous', 1),\n",
       " ('emp.var.rate', 1),\n",
       " ('cons.conf.idx', 1),\n",
       " ('euribor3m', 1),\n",
       " ('marital', 1),\n",
       " ('default', 1),\n",
       " ('contact', 1),\n",
       " ('month_last_contact', 1),\n",
       " ('day_of_week_last_contact', 1),\n",
       " ('poutcome', 1),\n",
       " ('emplmnt_industry_index', 2),\n",
       " ('ind_turnover', 3),\n",
       " ('housing', 4),\n",
       " ('education', 5),\n",
       " ('loan', 6),\n",
       " ('cons.price.idx', 7),\n",
       " ('year', 8),\n",
       " ('nr.employed', 9),\n",
       " ('inflation_delta_expect', 10),\n",
       " ('major_purch_expect', 11),\n",
       " ('household_debt_ratio', 12),\n",
       " ('day', 13),\n",
       " ('job', 14),\n",
       " ('age', 15),\n",
       " ('pdays', 16),\n",
       " ('railway_passengers', 17)]"
      ]
     },
     "execution_count": 25,
     "metadata": {},
     "output_type": "execute_result"
    }
   ],
   "source": [
    "sorted(list(zip(names, fit.ranking_)), key=lambda tup:tup[1], reverse=False)"
   ]
  },
  {
   "cell_type": "markdown",
   "metadata": {},
   "source": [
    "Feature Importance with Decision Trees"
   ]
  },
  {
   "cell_type": "code",
   "execution_count": 26,
   "metadata": {},
   "outputs": [
    {
     "name": "stderr",
     "output_type": "stream",
     "text": [
      "/Users/pauldefusco/anaconda2/envs/py36/lib/python3.6/site-packages/sklearn/ensemble/weight_boosting.py:29: DeprecationWarning: numpy.core.umath_tests is an internal NumPy module and should not be imported. It will be removed in a future NumPy release.\n",
      "  from numpy.core.umath_tests import inner1d\n"
     ]
    }
   ],
   "source": [
    "from sklearn.ensemble import ExtraTreesClassifier"
   ]
  },
  {
   "cell_type": "code",
   "execution_count": 27,
   "metadata": {},
   "outputs": [
    {
     "name": "stdout",
     "output_type": "stream",
     "text": [
      "[0.002 0.008 0.007 0.001 0.009 0.011 0.004 0.015 0.013 0.007 0.002 0.003\n",
      " 0.028 0.002 0.005 0.015 0.053 0.17  0.106 0.043 0.017 0.006 0.008 0.004\n",
      " 0.064 0.019 0.091 0.048 0.083 0.014 0.036 0.027 0.014 0.003 0.047 0.017]\n"
     ]
    }
   ],
   "source": [
    "model = ExtraTreesClassifier()\n",
    "model.fit(X, y)\n",
    "print(model.feature_importances_)"
   ]
  },
  {
   "cell_type": "code",
   "execution_count": 28,
   "metadata": {},
   "outputs": [
    {
     "data": {
      "text/plain": [
       "[('age', 0.17030409549145606),\n",
       " ('campaign', 0.10578892586580306),\n",
       " ('job', 0.09050257176049559),\n",
       " ('education', 0.08328948611172694),\n",
       " ('euribor3m', 0.06365186839819546),\n",
       " ('day', 0.05331782459632758),\n",
       " ('marital', 0.04797313483726211),\n",
       " ('day_of_week_last_contact', 0.04715881471422661),\n",
       " ('pdays', 0.04336104600067493),\n",
       " ('housing', 0.03551229721766414),\n",
       " ('emplmnt_industry_index', 0.027719701114551177),\n",
       " ('loan', 0.02657492697547436),\n",
       " ('nr.employed', 0.019414622899268773),\n",
       " ('previous', 0.016892898686821478),\n",
       " ('poutcome', 0.016533156484106814),\n",
       " ('economy_past', 0.014992344644178365),\n",
       " ('year', 0.014744733610246988),\n",
       " ('contact', 0.014294404405441361),\n",
       " ('default', 0.013774531024267086),\n",
       " ('financial_past', 0.013368055728243556),\n",
       " ('inflation_delta_expect', 0.010691645383209183),\n",
       " ('unempl_expect', 0.008725088381314328),\n",
       " ('cons.price.idx', 0.00833571633914716),\n",
       " ('ind_turnover', 0.007758732641767558),\n",
       " ('savings_delta_expect', 0.006770542086186303),\n",
       " ('major_purch_expect', 0.006537854220283801),\n",
       " ('emp.var.rate', 0.006348471793916682),\n",
       " ('month', 0.004509328777939025),\n",
       " ('cons.conf.idx', 0.004212198685745822),\n",
       " ('economy_expect', 0.0038026367042920555),\n",
       " ('month_last_contact', 0.0030450835687629587),\n",
       " ('savings_expect', 0.0026044869893122142),\n",
       " ('household_debt_ratio', 0.0023237288001839466),\n",
       " ('railway_passengers', 0.001957495707286878),\n",
       " ('cons_conf', 0.0019175724939085475),\n",
       " ('major_purch_opportu', 0.0012899768603110888)]"
      ]
     },
     "execution_count": 28,
     "metadata": {},
     "output_type": "execute_result"
    }
   ],
   "source": [
    "sorted(list(zip(names, model.feature_importances_)), key=lambda tup:tup[1], reverse=True)"
   ]
  },
  {
   "cell_type": "code",
   "execution_count": null,
   "metadata": {
    "collapsed": true
   },
   "outputs": [],
   "source": []
  }
 ],
 "metadata": {
  "kernelspec": {
   "display_name": "Python 3",
   "language": "python",
   "name": "python3"
  },
  "language_info": {
   "codemirror_mode": {
    "name": "ipython",
    "version": 3
   },
   "file_extension": ".py",
   "mimetype": "text/x-python",
   "name": "python",
   "nbconvert_exporter": "python",
   "pygments_lexer": "ipython3",
   "version": "3.6.3"
  }
 },
 "nbformat": 4,
 "nbformat_minor": 2
}
