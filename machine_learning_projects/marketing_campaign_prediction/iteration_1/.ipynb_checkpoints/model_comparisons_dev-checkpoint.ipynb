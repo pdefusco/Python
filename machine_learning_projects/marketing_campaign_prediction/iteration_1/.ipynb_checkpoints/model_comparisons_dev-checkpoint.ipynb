{
 "cells": [
  {
   "cell_type": "markdown",
   "metadata": {},
   "source": [
    "### Spotchecking Models"
   ]
  },
  {
   "cell_type": "markdown",
   "metadata": {},
   "source": [
    "- Objective: identify promising models\n",
    "- Method: draft different models and compare them with Nested CV \n",
    "- We are not allowed to use Duration"
   ]
  },
  {
   "cell_type": "code",
   "execution_count": 1,
   "metadata": {},
   "outputs": [],
   "source": [
    "%load_ext autoreload\n",
    "\n",
    "%autoreload 2"
   ]
  },
  {
   "cell_type": "code",
   "execution_count": 2,
   "metadata": {
    "collapsed": true
   },
   "outputs": [],
   "source": [
    "%matplotlib inline\n",
    "import pandas as pd\n",
    "import numpy as np\n",
    "from scipy.io import arff\n",
    "import matplotlib.pyplot as plt\n",
    "import seaborn as sns\n",
    "import matplotlib as mpl"
   ]
  },
  {
   "cell_type": "code",
   "execution_count": 3,
   "metadata": {
    "collapsed": true
   },
   "outputs": [],
   "source": [
    "from sklearn.model_selection import train_test_split, StratifiedKFold, GridSearchCV, cross_val_score\n",
    "from sklearn import preprocessing\n",
    "from sklearn.pipeline import make_pipeline\n",
    "from sklearn.metrics import confusion_matrix, precision_score, recall_score, average_precision_score\n",
    "from sklearn.metrics import accuracy_score, roc_curve, roc_auc_score, precision_recall_curve\n",
    "from sklearn.metrics import classification_report\n",
    "from sklearn.utils.fixes import signature\n",
    "pd.options.display.float_format = '{:.2f}'.format\n",
    "pd.set_option('display.float_format', lambda x: '%.3f' % x)"
   ]
  },
  {
   "cell_type": "code",
   "execution_count": 4,
   "metadata": {
    "collapsed": true
   },
   "outputs": [],
   "source": [
    "from sklearn.linear_model import LogisticRegression\n",
    "from sklearn.tree import DecisionTreeClassifier\n",
    "from sklearn.neighbors import KNeighborsClassifier\n",
    "from sklearn.discriminant_analysis import LinearDiscriminantAnalysis\n",
    "from sklearn.naive_bayes import GaussianNB, BernoulliNB\n",
    "from sklearn.svm import SVC\n",
    "pd.options.display.float_format = '{:.2f}'.format"
   ]
  },
  {
   "cell_type": "code",
   "execution_count": 5,
   "metadata": {
    "collapsed": true
   },
   "outputs": [],
   "source": [
    "#Loading df1 after it has been augmented in iteration 2:\n",
    "df = pd.read_pickle('../data/pickle_files/df_pickle_w_time_stats')\n",
    "#Excluding the duration variable as it cannot be used in our baseline\n",
    "df = df.drop(columns = ['duration'])"
   ]
  },
  {
   "cell_type": "code",
   "execution_count": 6,
   "metadata": {
    "collapsed": true
   },
   "outputs": [],
   "source": [
    "#Checking dtypes have loaded correctly (should return empty index)\n",
    "df.select_dtypes(exclude = ['float64', 'int64']).columns\n",
    "\n",
    "y = df['y']\n",
    "X = df.drop(columns=['y'])"
   ]
  },
  {
   "cell_type": "code",
   "execution_count": 10,
   "metadata": {},
   "outputs": [
    {
     "data": {
      "text/plain": [
       "age                 int64\n",
       "campaign            int64\n",
       "pdays               int64\n",
       "previous            int64\n",
       "emp.var.rate      float64\n",
       "cons.price.idx    float64\n",
       "cons.conf.idx     float64\n",
       "euribor3m         float64\n",
       "nr.employed       float64\n",
       "job                  int8\n",
       "marital              int8\n",
       "education            int8\n",
       "default              int8\n",
       "housing              int8\n",
       "loan                 int8\n",
       "contact              int8\n",
       "month                int8\n",
       "day_of_week          int8\n",
       "poutcome             int8\n",
       "y                    int8\n",
       "dtype: object"
      ]
     },
     "execution_count": 10,
     "metadata": {},
     "output_type": "execute_result"
    }
   ],
   "source": [
    "#int8 dtypes are categorical features - let's make sure we don't standardize them\n",
    "df.dtypes"
   ]
  },
  {
   "cell_type": "code",
   "execution_count": 15,
   "metadata": {},
   "outputs": [],
   "source": [
    "X_temp_noncat = df.select_dtypes(exclude=['int8'])\n",
    "X_temp_cat = df.select_dtypes(include=['int8'])"
   ]
  },
  {
   "cell_type": "code",
   "execution_count": 16,
   "metadata": {
    "collapsed": true
   },
   "outputs": [],
   "source": [
    "scaler = preprocessing.StandardScaler().fit(X_temp_noncat)\n",
    "X_transformed = scaler.transform(X_temp_noncat)"
   ]
  },
  {
   "cell_type": "code",
   "execution_count": 20,
   "metadata": {},
   "outputs": [],
   "source": [
    "X = pd.concat([pd.DataFrame(X_transformed, columns =X_temp_noncat.columns), X_temp_cat], axis = 1)"
   ]
  },
  {
   "cell_type": "code",
   "execution_count": 21,
   "metadata": {
    "collapsed": true
   },
   "outputs": [],
   "source": [
    "X = df.drop(columns=['y'])"
   ]
  },
  {
   "cell_type": "code",
   "execution_count": 22,
   "metadata": {
    "collapsed": true
   },
   "outputs": [],
   "source": [
    "#will work with numpy arrays\n",
    "y = np.array(y)\n",
    "X = np.array(X)"
   ]
  },
  {
   "cell_type": "code",
   "execution_count": 23,
   "metadata": {
    "collapsed": true
   },
   "outputs": [],
   "source": [
    "#Changed in version 0.20: Parameter iid will change from True to False by default in version 0.22, and will be removed in 0.24."
   ]
  },
  {
   "cell_type": "code",
   "execution_count": 24,
   "metadata": {
    "collapsed": true
   },
   "outputs": [],
   "source": [
    "from sklearn.metrics import classification_report, accuracy_score, make_scorer, recall_score, precision_score"
   ]
  },
  {
   "cell_type": "code",
   "execution_count": 25,
   "metadata": {
    "collapsed": true
   },
   "outputs": [],
   "source": [
    "def report_withaccuracy(y_true, y_pred, print_report = False):\n",
    "\n",
    "    #print(classification_report(y_true, y_pred)) # print classification report\n",
    "\n",
    "    return accuracy_score(y_true, y_pred)"
   ]
  },
  {
   "cell_type": "code",
   "execution_count": 26,
   "metadata": {
    "collapsed": true
   },
   "outputs": [],
   "source": [
    "def report_withrecall(y_true, y_pred, print_report = False):\n",
    "\n",
    "    #print(classification_report(y_true, y_pred)) # print classification report\n",
    "\n",
    "    return recall_score(y_true, y_pred) # return accuracy score"
   ]
  },
  {
   "cell_type": "code",
   "execution_count": 27,
   "metadata": {
    "collapsed": true
   },
   "outputs": [],
   "source": [
    "def report_withprecision(y_true, y_pred, print_report = False):\n",
    "\n",
    "    #print(classification_report(y_true, y_pred)) # print classification report\n",
    "\n",
    "    return precision_score(y_true, y_pred) # return accuracy score"
   ]
  },
  {
   "cell_type": "code",
   "execution_count": 38,
   "metadata": {
    "collapsed": true
   },
   "outputs": [],
   "source": [
    "def nested_CV(X, y, estimator, param_grid, num_cv = 10):\n",
    "    \n",
    "    gs = GridSearchCV(estimator = estimator,\n",
    "                     param_grid = param_grid,\n",
    "                     scoring = 'recall',\n",
    "                     cv=2)\n",
    "    \n",
    "    scores_acc = cross_val_score(estimator, X, y, scoring=make_scorer(report_withaccuracy), cv = num_cv)\n",
    "    scores_recall = cross_val_score(estimator, X, y, scoring=make_scorer(report_withrecall), cv = num_cv)\n",
    "    #scores_prec = cross_val_score(gs_LR, X_transformed, y, scoring=make_scorer(report_withprecision), cv = 10)\n",
    "    \n",
    "    #print('ML Algorithm: %s' %(estimator.__name__))\n",
    "    print(\"Average Performance Measures Across %i Folds\" %(num_cv))\n",
    "    print('CV Accuracy : %.3f +/- %.3f' %(np.mean(scores_acc), np.std(scores_acc)))\n",
    "    print('CV Recall : %.3f +/- %.3f' %(np.mean(scores_recall), np.std(scores_recall)))\n",
    "    #print('CV Precision : %.3f +/- %.3f' %(np.mean(scores_prec), np.std(scores_prec)))\n",
    "    \n",
    "    return estimator.__class__.__name__, scores_acc"
   ]
  },
  {
   "cell_type": "code",
   "execution_count": 99,
   "metadata": {
    "collapsed": true
   },
   "outputs": [],
   "source": [
    "results = {}"
   ]
  },
  {
   "cell_type": "code",
   "execution_count": 90,
   "metadata": {
    "collapsed": true
   },
   "outputs": [],
   "source": [
    "def track_results(name,acc, results):\n",
    "    results[name] = acc\n",
    "    return results"
   ]
  },
  {
   "cell_type": "code",
   "execution_count": 100,
   "metadata": {},
   "outputs": [
    {
     "name": "stdout",
     "output_type": "stream",
     "text": [
      "Logistic Regression\n",
      "Average Performance Measures Across 11 Folds\n",
      "CV Accuracy : 0.841 +/- 0.179\n",
      "CV Recall : 0.212 +/- 0.269\n"
     ]
    },
    {
     "data": {
      "text/plain": [
       "{'LogisticRegression': array([0.88731642, 0.88731642, 0.88731642, 0.88731642, 0.88731642,\n",
       "        0.89105474, 0.90758547, 0.92307692, 0.87847222, 0.93614748,\n",
       "        0.27705049])}"
      ]
     },
     "execution_count": 100,
     "metadata": {},
     "output_type": "execute_result"
    }
   ],
   "source": [
    "param_grid = {'solver':['lbfgs', 'liblinear'],\n",
    "              'max_iter': [10,20,30], \n",
    "              'class_weight': ['balanced']}\n",
    "\n",
    "print(\"Logistic Regression\")\n",
    "names, accs = nested_CV(X, y, LogisticRegression(), param_grid, 11)\n",
    "track_results(names,accs, results)"
   ]
  },
  {
   "cell_type": "code",
   "execution_count": 101,
   "metadata": {},
   "outputs": [
    {
     "name": "stdout",
     "output_type": "stream",
     "text": [
      "Support Vector Machine\n",
      "Average Performance Measures Across 5 Folds\n",
      "CV Accuracy : 0.581 +/- 0.262\n",
      "CV Recall : 0.032 +/- 0.062\n"
     ]
    },
    {
     "data": {
      "text/plain": [
       "{'LogisticRegression': array([0.88731642, 0.88731642, 0.88731642, 0.88731642, 0.88731642,\n",
       "        0.89105474, 0.90758547, 0.92307692, 0.87847222, 0.93614748,\n",
       "        0.27705049]),\n",
       " 'SVC': array([0.8873513 , 0.54005827, 0.86501578, 0.2198616 , 0.39189025])}"
      ]
     },
     "execution_count": 101,
     "metadata": {},
     "output_type": "execute_result"
    }
   ],
   "source": [
    "param_grid = {'C':np.logspace(-2, 3, num=6, base=10),\n",
    "              'kernel': ['rbf'],\n",
    "              'gamma' : [0.1, 1, 10],\n",
    "              'class_weight': ['balanced']}\n",
    "\n",
    "print(\"Support Vector Machine\")\n",
    "names, accs = nested_CV(X, y, SVC(), param_grid, 5)\n",
    "track_results(names,accs, results)"
   ]
  },
  {
   "cell_type": "code",
   "execution_count": 102,
   "metadata": {},
   "outputs": [
    {
     "name": "stdout",
     "output_type": "stream",
     "text": [
      "Decision Tree Classifier\n",
      "Average Performance Measures Across 11 Folds\n",
      "CV Accuracy : 0.273 +/- 0.225\n",
      "CV Recall : 0.112 +/- 0.282\n"
     ]
    },
    {
     "data": {
      "text/plain": [
       "{'LogisticRegression': array([0.88731642, 0.88731642, 0.88731642, 0.88731642, 0.88731642,\n",
       "        0.89105474, 0.90758547, 0.92307692, 0.87847222, 0.93614748,\n",
       "        0.27705049]),\n",
       " 'SVC': array([0.8873513 , 0.54005827, 0.86501578, 0.2198616 , 0.39189025]),\n",
       " 'DecisionTreeClassifier': array([0.88731642, 0.40694259, 0.13805073, 0.24432577, 0.41602136,\n",
       "        0.27743658, 0.21928419, 0.06837607, 0.08279915, 0.09778253,\n",
       "        0.1651082 ])}"
      ]
     },
     "execution_count": 102,
     "metadata": {},
     "output_type": "execute_result"
    }
   ],
   "source": [
    "param_grid = {'max_depth':[3,5,7],\n",
    "              'min_samples_split':[100, 1000],\n",
    "              'max_features': [4,6,8],\n",
    "              'max_leaf_nodes':[10,20],\n",
    "              'class_weight': ['balanced']}\n",
    "\n",
    "print(\"Decision Tree Classifier\")\n",
    "names, accs = nested_CV(X, y, DecisionTreeClassifier(), param_grid, 11)\n",
    "track_results(names,accs, results)"
   ]
  },
  {
   "cell_type": "code",
   "execution_count": 103,
   "metadata": {},
   "outputs": [
    {
     "name": "stdout",
     "output_type": "stream",
     "text": [
      "KNeighborsClassifier\n",
      "Average Performance Measures Across 11 Folds\n",
      "CV Accuracy : 0.735 +/- 0.219\n",
      "CV Recall : 0.156 +/- 0.279\n"
     ]
    },
    {
     "data": {
      "text/plain": [
       "{'LogisticRegression': array([0.88731642, 0.88731642, 0.88731642, 0.88731642, 0.88731642,\n",
       "        0.89105474, 0.90758547, 0.92307692, 0.87847222, 0.93614748,\n",
       "        0.27705049]),\n",
       " 'SVC': array([0.8873513 , 0.54005827, 0.86501578, 0.2198616 , 0.39189025]),\n",
       " 'DecisionTreeClassifier': array([0.88731642, 0.40694259, 0.13805073, 0.24432577, 0.41602136,\n",
       "        0.27743658, 0.21928419, 0.06837607, 0.08279915, 0.09778253,\n",
       "        0.1651082 ]),\n",
       " 'KNeighborsClassifier': array([0.88731642, 0.88384513, 0.88277704, 0.88331108, 0.86275033,\n",
       "        0.8835781 , 0.85042735, 0.51842949, 0.40918803, 0.77264227,\n",
       "        0.25353994])}"
      ]
     },
     "execution_count": 103,
     "metadata": {},
     "output_type": "execute_result"
    }
   ],
   "source": [
    "param_grid = {'n_neighbors':[3,5,7,9],\n",
    "              'algorithm' : ['auto', 'ball_tree'],\n",
    "              'weights': ['distance']}\n",
    "\n",
    "print(\"KNeighborsClassifier\")\n",
    "names, accs = nested_CV(X, y, KNeighborsClassifier(), param_grid, 11)\n",
    "track_results(names,accs, results)"
   ]
  },
  {
   "cell_type": "code",
   "execution_count": 104,
   "metadata": {},
   "outputs": [
    {
     "name": "stdout",
     "output_type": "stream",
     "text": [
      "LinearDiscriminantAnalysis\n",
      "Average Performance Measures Across 11 Folds\n",
      "CV Accuracy : 0.805 +/- 0.214\n",
      "CV Recall : 0.292 +/- 0.340\n"
     ]
    },
    {
     "data": {
      "text/plain": [
       "{'LogisticRegression': array([0.88731642, 0.88731642, 0.88731642, 0.88731642, 0.88731642,\n",
       "        0.89105474, 0.90758547, 0.92307692, 0.87847222, 0.93614748,\n",
       "        0.27705049]),\n",
       " 'SVC': array([0.8873513 , 0.54005827, 0.86501578, 0.2198616 , 0.39189025]),\n",
       " 'DecisionTreeClassifier': array([0.88731642, 0.40694259, 0.13805073, 0.24432577, 0.41602136,\n",
       "        0.27743658, 0.21928419, 0.06837607, 0.08279915, 0.09778253,\n",
       "        0.1651082 ]),\n",
       " 'KNeighborsClassifier': array([0.88731642, 0.88384513, 0.88277704, 0.88331108, 0.86275033,\n",
       "        0.8835781 , 0.85042735, 0.51842949, 0.40918803, 0.77264227,\n",
       "        0.25353994]),\n",
       " 'LinearDiscriminantAnalysis': array([0.88731642, 0.88731642, 0.88758344, 0.88811749, 0.9012016 ,\n",
       "        0.89799733, 0.90945513, 0.91800214, 0.44524573, 0.96259685,\n",
       "        0.27464601])}"
      ]
     },
     "execution_count": 104,
     "metadata": {},
     "output_type": "execute_result"
    }
   ],
   "source": [
    "param_grid = {'solver':['lsqr','eigen'],\n",
    "              'n_components':[5,10,15],\n",
    "              'shrinkage': [0,.5,.9]}\n",
    "\n",
    "print(\"LinearDiscriminantAnalysis\")\n",
    "names, accs = nested_CV(X, y, LinearDiscriminantAnalysis(), param_grid, 11)\n",
    "track_results(names,accs, results)"
   ]
  },
  {
   "cell_type": "code",
   "execution_count": 105,
   "metadata": {},
   "outputs": [
    {
     "name": "stdout",
     "output_type": "stream",
     "text": [
      "BernoulliNB\n",
      "Average Performance Measures Across 11 Folds\n",
      "CV Accuracy : 0.799 +/- 0.165\n",
      "CV Recall : 0.264 +/- 0.240\n"
     ]
    },
    {
     "data": {
      "text/plain": [
       "{'LogisticRegression': array([0.88731642, 0.88731642, 0.88731642, 0.88731642, 0.88731642,\n",
       "        0.89105474, 0.90758547, 0.92307692, 0.87847222, 0.93614748,\n",
       "        0.27705049]),\n",
       " 'SVC': array([0.8873513 , 0.54005827, 0.86501578, 0.2198616 , 0.39189025]),\n",
       " 'DecisionTreeClassifier': array([0.88731642, 0.40694259, 0.13805073, 0.24432577, 0.41602136,\n",
       "        0.27743658, 0.21928419, 0.06837607, 0.08279915, 0.09778253,\n",
       "        0.1651082 ]),\n",
       " 'KNeighborsClassifier': array([0.88731642, 0.88384513, 0.88277704, 0.88331108, 0.86275033,\n",
       "        0.8835781 , 0.85042735, 0.51842949, 0.40918803, 0.77264227,\n",
       "        0.25353994]),\n",
       " 'LinearDiscriminantAnalysis': array([0.88731642, 0.88731642, 0.88758344, 0.88811749, 0.9012016 ,\n",
       "        0.89799733, 0.90945513, 0.91800214, 0.44524573, 0.96259685,\n",
       "        0.27464601]),\n",
       " 'BernoulliNB': array([0.88731642, 0.88731642, 0.88998665, 0.89826435, 0.91081442,\n",
       "        0.90013351, 0.89903846, 0.78899573, 0.34375   , 0.72268234,\n",
       "        0.65695966])}"
      ]
     },
     "execution_count": 105,
     "metadata": {},
     "output_type": "execute_result"
    }
   ],
   "source": [
    "param_grid = {'alpha':np.logspace(-2, 3, num=6, base=10)}\n",
    "\n",
    "print(\"BernoulliNB\")\n",
    "names, accs = nested_CV(X, y, BernoulliNB(), param_grid, 11)\n",
    "track_results(names,accs, results)"
   ]
  },
  {
   "cell_type": "code",
   "execution_count": 106,
   "metadata": {},
   "outputs": [
    {
     "name": "stdout",
     "output_type": "stream",
     "text": [
      "GaussianNB\n",
      "Average Performance Measures Across 11 Folds\n",
      "CV Accuracy : 0.748 +/- 0.278\n",
      "CV Recall : 0.489 +/- 0.421\n"
     ]
    },
    {
     "data": {
      "text/plain": [
       "{'LogisticRegression': array([0.88731642, 0.88731642, 0.88731642, 0.88731642, 0.88731642,\n",
       "        0.89105474, 0.90758547, 0.92307692, 0.87847222, 0.93614748,\n",
       "        0.27705049]),\n",
       " 'SVC': array([0.8873513 , 0.54005827, 0.86501578, 0.2198616 , 0.39189025]),\n",
       " 'DecisionTreeClassifier': array([0.88731642, 0.40694259, 0.13805073, 0.24432577, 0.41602136,\n",
       "        0.27743658, 0.21928419, 0.06837607, 0.08279915, 0.09778253,\n",
       "        0.1651082 ]),\n",
       " 'KNeighborsClassifier': array([0.88731642, 0.88384513, 0.88277704, 0.88331108, 0.86275033,\n",
       "        0.8835781 , 0.85042735, 0.51842949, 0.40918803, 0.77264227,\n",
       "        0.25353994]),\n",
       " 'LinearDiscriminantAnalysis': array([0.88731642, 0.88731642, 0.88758344, 0.88811749, 0.9012016 ,\n",
       "        0.89799733, 0.90945513, 0.91800214, 0.44524573, 0.96259685,\n",
       "        0.27464601]),\n",
       " 'BernoulliNB': array([0.88731642, 0.88731642, 0.88998665, 0.89826435, 0.91081442,\n",
       "        0.90013351, 0.89903846, 0.78899573, 0.34375   , 0.72268234,\n",
       "        0.65695966]),\n",
       " 'GaussianNB': array([0.88731642, 0.88731642, 0.88811749, 0.9046729 , 0.9188251 ,\n",
       "        0.91935915, 0.96554487, 0.93856838, 0.36725427, 0.39620625,\n",
       "        0.14987978])}"
      ]
     },
     "execution_count": 106,
     "metadata": {},
     "output_type": "execute_result"
    }
   ],
   "source": [
    "param_grid = {'var_smoothing':[.2,.4,.6,.8]}\n",
    "\n",
    "print(\"GaussianNB\")\n",
    "names, accs = name, acc = nested_CV(X, y, GaussianNB(), param_grid, 11)\n",
    "track_results(names,accs, results)"
   ]
  },
  {
   "cell_type": "code",
   "execution_count": 107,
   "metadata": {},
   "outputs": [
    {
     "data": {
      "text/plain": [
       "{'LogisticRegression': array([0.88731642, 0.88731642, 0.88731642, 0.88731642, 0.88731642,\n",
       "        0.89105474, 0.90758547, 0.92307692, 0.87847222, 0.93614748,\n",
       "        0.27705049]),\n",
       " 'SVC': array([0.8873513 , 0.54005827, 0.86501578, 0.2198616 , 0.39189025]),\n",
       " 'DecisionTreeClassifier': array([0.88731642, 0.40694259, 0.13805073, 0.24432577, 0.41602136,\n",
       "        0.27743658, 0.21928419, 0.06837607, 0.08279915, 0.09778253,\n",
       "        0.1651082 ]),\n",
       " 'KNeighborsClassifier': array([0.88731642, 0.88384513, 0.88277704, 0.88331108, 0.86275033,\n",
       "        0.8835781 , 0.85042735, 0.51842949, 0.40918803, 0.77264227,\n",
       "        0.25353994]),\n",
       " 'LinearDiscriminantAnalysis': array([0.88731642, 0.88731642, 0.88758344, 0.88811749, 0.9012016 ,\n",
       "        0.89799733, 0.90945513, 0.91800214, 0.44524573, 0.96259685,\n",
       "        0.27464601]),\n",
       " 'BernoulliNB': array([0.88731642, 0.88731642, 0.88998665, 0.89826435, 0.91081442,\n",
       "        0.90013351, 0.89903846, 0.78899573, 0.34375   , 0.72268234,\n",
       "        0.65695966]),\n",
       " 'GaussianNB': array([0.88731642, 0.88731642, 0.88811749, 0.9046729 , 0.9188251 ,\n",
       "        0.91935915, 0.96554487, 0.93856838, 0.36725427, 0.39620625,\n",
       "        0.14987978])}"
      ]
     },
     "execution_count": 107,
     "metadata": {},
     "output_type": "execute_result"
    }
   ],
   "source": [
    "results"
   ]
  },
  {
   "cell_type": "code",
   "execution_count": 109,
   "metadata": {},
   "outputs": [
    {
     "data": {
      "text/plain": [
       "{'LogisticRegression': array([0.88731642, 0.88731642, 0.88731642, 0.88731642, 0.88731642,\n",
       "        0.89105474, 0.90758547, 0.92307692, 0.87847222, 0.93614748,\n",
       "        0.27705049]),\n",
       " 'SVC': array([0.8873513 , 0.54005827, 0.86501578, 0.2198616 , 0.39189025]),\n",
       " 'DecisionTreeClassifier': array([0.88731642, 0.40694259, 0.13805073, 0.24432577, 0.41602136,\n",
       "        0.27743658, 0.21928419, 0.06837607, 0.08279915, 0.09778253,\n",
       "        0.1651082 ]),\n",
       " 'KNeighborsClassifier': array([0.88731642, 0.88384513, 0.88277704, 0.88331108, 0.86275033,\n",
       "        0.8835781 , 0.85042735, 0.51842949, 0.40918803, 0.77264227,\n",
       "        0.25353994]),\n",
       " 'LinearDiscriminantAnalysis': array([0.88731642, 0.88731642, 0.88758344, 0.88811749, 0.9012016 ,\n",
       "        0.89799733, 0.90945513, 0.91800214, 0.44524573, 0.96259685,\n",
       "        0.27464601]),\n",
       " 'BernoulliNB': array([0.88731642, 0.88731642, 0.88998665, 0.89826435, 0.91081442,\n",
       "        0.90013351, 0.89903846, 0.78899573, 0.34375   , 0.72268234,\n",
       "        0.65695966]),\n",
       " 'GaussianNB': array([0.88731642, 0.88731642, 0.88811749, 0.9046729 , 0.9188251 ,\n",
       "        0.91935915, 0.96554487, 0.93856838, 0.36725427, 0.39620625,\n",
       "        0.14987978])}"
      ]
     },
     "execution_count": 109,
     "metadata": {},
     "output_type": "execute_result"
    }
   ],
   "source": [
    "results"
   ]
  },
  {
   "cell_type": "code",
   "execution_count": 113,
   "metadata": {},
   "outputs": [
    {
     "name": "stdout",
     "output_type": "stream",
     "text": [
      "11\n",
      "5\n",
      "11\n",
      "11\n",
      "11\n",
      "11\n",
      "11\n"
     ]
    }
   ],
   "source": [
    "for i in results.items():\n",
    "    print(len(i[1]))"
   ]
  },
  {
   "cell_type": "code",
   "execution_count": 108,
   "metadata": {},
   "outputs": [
    {
     "ename": "ValueError",
     "evalue": "arrays must all be same length",
     "output_type": "error",
     "traceback": [
      "\u001b[0;31m---------------------------------------------------------------------------\u001b[0m",
      "\u001b[0;31mValueError\u001b[0m                                Traceback (most recent call last)",
      "\u001b[0;32m<ipython-input-108-5252ddab374c>\u001b[0m in \u001b[0;36m<module>\u001b[0;34m()\u001b[0m\n\u001b[0;32m----> 1\u001b[0;31m \u001b[0mpd\u001b[0m\u001b[0;34m.\u001b[0m\u001b[0mDataFrame\u001b[0m\u001b[0;34m.\u001b[0m\u001b[0mfrom_dict\u001b[0m\u001b[0;34m(\u001b[0m\u001b[0mresults\u001b[0m\u001b[0;34m)\u001b[0m\u001b[0;34m\u001b[0m\u001b[0m\n\u001b[0m",
      "\u001b[0;32m~/anaconda2/envs/py36/lib/python3.6/site-packages/pandas/core/frame.py\u001b[0m in \u001b[0;36mfrom_dict\u001b[0;34m(cls, data, orient, dtype, columns)\u001b[0m\n\u001b[1;32m    983\u001b[0m             \u001b[0;32mraise\u001b[0m \u001b[0mValueError\u001b[0m\u001b[0;34m(\u001b[0m\u001b[0;34m'only recognize index or columns for orient'\u001b[0m\u001b[0;34m)\u001b[0m\u001b[0;34m\u001b[0m\u001b[0m\n\u001b[1;32m    984\u001b[0m \u001b[0;34m\u001b[0m\u001b[0m\n\u001b[0;32m--> 985\u001b[0;31m         \u001b[0;32mreturn\u001b[0m \u001b[0mcls\u001b[0m\u001b[0;34m(\u001b[0m\u001b[0mdata\u001b[0m\u001b[0;34m,\u001b[0m \u001b[0mindex\u001b[0m\u001b[0;34m=\u001b[0m\u001b[0mindex\u001b[0m\u001b[0;34m,\u001b[0m \u001b[0mcolumns\u001b[0m\u001b[0;34m=\u001b[0m\u001b[0mcolumns\u001b[0m\u001b[0;34m,\u001b[0m \u001b[0mdtype\u001b[0m\u001b[0;34m=\u001b[0m\u001b[0mdtype\u001b[0m\u001b[0;34m)\u001b[0m\u001b[0;34m\u001b[0m\u001b[0m\n\u001b[0m\u001b[1;32m    986\u001b[0m \u001b[0;34m\u001b[0m\u001b[0m\n\u001b[1;32m    987\u001b[0m     \u001b[0;32mdef\u001b[0m \u001b[0mto_dict\u001b[0m\u001b[0;34m(\u001b[0m\u001b[0mself\u001b[0m\u001b[0;34m,\u001b[0m \u001b[0morient\u001b[0m\u001b[0;34m=\u001b[0m\u001b[0;34m'dict'\u001b[0m\u001b[0;34m,\u001b[0m \u001b[0minto\u001b[0m\u001b[0;34m=\u001b[0m\u001b[0mdict\u001b[0m\u001b[0;34m)\u001b[0m\u001b[0;34m:\u001b[0m\u001b[0;34m\u001b[0m\u001b[0m\n",
      "\u001b[0;32m~/anaconda2/envs/py36/lib/python3.6/site-packages/pandas/core/frame.py\u001b[0m in \u001b[0;36m__init__\u001b[0;34m(self, data, index, columns, dtype, copy)\u001b[0m\n\u001b[1;32m    346\u001b[0m                                  dtype=dtype, copy=copy)\n\u001b[1;32m    347\u001b[0m         \u001b[0;32melif\u001b[0m \u001b[0misinstance\u001b[0m\u001b[0;34m(\u001b[0m\u001b[0mdata\u001b[0m\u001b[0;34m,\u001b[0m \u001b[0mdict\u001b[0m\u001b[0;34m)\u001b[0m\u001b[0;34m:\u001b[0m\u001b[0;34m\u001b[0m\u001b[0m\n\u001b[0;32m--> 348\u001b[0;31m             \u001b[0mmgr\u001b[0m \u001b[0;34m=\u001b[0m \u001b[0mself\u001b[0m\u001b[0;34m.\u001b[0m\u001b[0m_init_dict\u001b[0m\u001b[0;34m(\u001b[0m\u001b[0mdata\u001b[0m\u001b[0;34m,\u001b[0m \u001b[0mindex\u001b[0m\u001b[0;34m,\u001b[0m \u001b[0mcolumns\u001b[0m\u001b[0;34m,\u001b[0m \u001b[0mdtype\u001b[0m\u001b[0;34m=\u001b[0m\u001b[0mdtype\u001b[0m\u001b[0;34m)\u001b[0m\u001b[0;34m\u001b[0m\u001b[0m\n\u001b[0m\u001b[1;32m    349\u001b[0m         \u001b[0;32melif\u001b[0m \u001b[0misinstance\u001b[0m\u001b[0;34m(\u001b[0m\u001b[0mdata\u001b[0m\u001b[0;34m,\u001b[0m \u001b[0mma\u001b[0m\u001b[0;34m.\u001b[0m\u001b[0mMaskedArray\u001b[0m\u001b[0;34m)\u001b[0m\u001b[0;34m:\u001b[0m\u001b[0;34m\u001b[0m\u001b[0m\n\u001b[1;32m    350\u001b[0m             \u001b[0;32mimport\u001b[0m \u001b[0mnumpy\u001b[0m\u001b[0;34m.\u001b[0m\u001b[0mma\u001b[0m\u001b[0;34m.\u001b[0m\u001b[0mmrecords\u001b[0m \u001b[0;32mas\u001b[0m \u001b[0mmrecords\u001b[0m\u001b[0;34m\u001b[0m\u001b[0m\n",
      "\u001b[0;32m~/anaconda2/envs/py36/lib/python3.6/site-packages/pandas/core/frame.py\u001b[0m in \u001b[0;36m_init_dict\u001b[0;34m(self, data, index, columns, dtype)\u001b[0m\n\u001b[1;32m    457\u001b[0m             \u001b[0marrays\u001b[0m \u001b[0;34m=\u001b[0m \u001b[0;34m[\u001b[0m\u001b[0mdata\u001b[0m\u001b[0;34m[\u001b[0m\u001b[0mk\u001b[0m\u001b[0;34m]\u001b[0m \u001b[0;32mfor\u001b[0m \u001b[0mk\u001b[0m \u001b[0;32min\u001b[0m \u001b[0mkeys\u001b[0m\u001b[0;34m]\u001b[0m\u001b[0;34m\u001b[0m\u001b[0m\n\u001b[1;32m    458\u001b[0m \u001b[0;34m\u001b[0m\u001b[0m\n\u001b[0;32m--> 459\u001b[0;31m         \u001b[0;32mreturn\u001b[0m \u001b[0m_arrays_to_mgr\u001b[0m\u001b[0;34m(\u001b[0m\u001b[0marrays\u001b[0m\u001b[0;34m,\u001b[0m \u001b[0mdata_names\u001b[0m\u001b[0;34m,\u001b[0m \u001b[0mindex\u001b[0m\u001b[0;34m,\u001b[0m \u001b[0mcolumns\u001b[0m\u001b[0;34m,\u001b[0m \u001b[0mdtype\u001b[0m\u001b[0;34m=\u001b[0m\u001b[0mdtype\u001b[0m\u001b[0;34m)\u001b[0m\u001b[0;34m\u001b[0m\u001b[0m\n\u001b[0m\u001b[1;32m    460\u001b[0m \u001b[0;34m\u001b[0m\u001b[0m\n\u001b[1;32m    461\u001b[0m     \u001b[0;32mdef\u001b[0m \u001b[0m_init_ndarray\u001b[0m\u001b[0;34m(\u001b[0m\u001b[0mself\u001b[0m\u001b[0;34m,\u001b[0m \u001b[0mvalues\u001b[0m\u001b[0;34m,\u001b[0m \u001b[0mindex\u001b[0m\u001b[0;34m,\u001b[0m \u001b[0mcolumns\u001b[0m\u001b[0;34m,\u001b[0m \u001b[0mdtype\u001b[0m\u001b[0;34m=\u001b[0m\u001b[0;32mNone\u001b[0m\u001b[0;34m,\u001b[0m \u001b[0mcopy\u001b[0m\u001b[0;34m=\u001b[0m\u001b[0;32mFalse\u001b[0m\u001b[0;34m)\u001b[0m\u001b[0;34m:\u001b[0m\u001b[0;34m\u001b[0m\u001b[0m\n",
      "\u001b[0;32m~/anaconda2/envs/py36/lib/python3.6/site-packages/pandas/core/frame.py\u001b[0m in \u001b[0;36m_arrays_to_mgr\u001b[0;34m(arrays, arr_names, index, columns, dtype)\u001b[0m\n\u001b[1;32m   7354\u001b[0m     \u001b[0;31m# figure out the index, if necessary\u001b[0m\u001b[0;34m\u001b[0m\u001b[0;34m\u001b[0m\u001b[0m\n\u001b[1;32m   7355\u001b[0m     \u001b[0;32mif\u001b[0m \u001b[0mindex\u001b[0m \u001b[0;32mis\u001b[0m \u001b[0;32mNone\u001b[0m\u001b[0;34m:\u001b[0m\u001b[0;34m\u001b[0m\u001b[0m\n\u001b[0;32m-> 7356\u001b[0;31m         \u001b[0mindex\u001b[0m \u001b[0;34m=\u001b[0m \u001b[0mextract_index\u001b[0m\u001b[0;34m(\u001b[0m\u001b[0marrays\u001b[0m\u001b[0;34m)\u001b[0m\u001b[0;34m\u001b[0m\u001b[0m\n\u001b[0m\u001b[1;32m   7357\u001b[0m \u001b[0;34m\u001b[0m\u001b[0m\n\u001b[1;32m   7358\u001b[0m     \u001b[0;31m# don't force copy because getting jammed in an ndarray anyway\u001b[0m\u001b[0;34m\u001b[0m\u001b[0;34m\u001b[0m\u001b[0m\n",
      "\u001b[0;32m~/anaconda2/envs/py36/lib/python3.6/site-packages/pandas/core/frame.py\u001b[0m in \u001b[0;36mextract_index\u001b[0;34m(data)\u001b[0m\n\u001b[1;32m   7400\u001b[0m             \u001b[0mlengths\u001b[0m \u001b[0;34m=\u001b[0m \u001b[0mlist\u001b[0m\u001b[0;34m(\u001b[0m\u001b[0mset\u001b[0m\u001b[0;34m(\u001b[0m\u001b[0mraw_lengths\u001b[0m\u001b[0;34m)\u001b[0m\u001b[0;34m)\u001b[0m\u001b[0;34m\u001b[0m\u001b[0m\n\u001b[1;32m   7401\u001b[0m             \u001b[0;32mif\u001b[0m \u001b[0mlen\u001b[0m\u001b[0;34m(\u001b[0m\u001b[0mlengths\u001b[0m\u001b[0;34m)\u001b[0m \u001b[0;34m>\u001b[0m \u001b[0;36m1\u001b[0m\u001b[0;34m:\u001b[0m\u001b[0;34m\u001b[0m\u001b[0m\n\u001b[0;32m-> 7402\u001b[0;31m                 \u001b[0;32mraise\u001b[0m \u001b[0mValueError\u001b[0m\u001b[0;34m(\u001b[0m\u001b[0;34m'arrays must all be same length'\u001b[0m\u001b[0;34m)\u001b[0m\u001b[0;34m\u001b[0m\u001b[0m\n\u001b[0m\u001b[1;32m   7403\u001b[0m \u001b[0;34m\u001b[0m\u001b[0m\n\u001b[1;32m   7404\u001b[0m             \u001b[0;32mif\u001b[0m \u001b[0mhave_dicts\u001b[0m\u001b[0;34m:\u001b[0m\u001b[0;34m\u001b[0m\u001b[0m\n",
      "\u001b[0;31mValueError\u001b[0m: arrays must all be same length"
     ]
    }
   ],
   "source": [
    "pd.DataFrame.from_dict(results)"
   ]
  },
  {
   "cell_type": "code",
   "execution_count": null,
   "metadata": {},
   "outputs": [],
   "source": [
    "#model_df['Mean Accuracy'] = [np.mean(i) for i in model_df['Accuracy']]\n",
    "#model_df['Stdev Accuracy'] = [np.std(i) for i in model_df['Accuracy']]"
   ]
  },
  {
   "cell_type": "code",
   "execution_count": null,
   "metadata": {
    "collapsed": true
   },
   "outputs": [],
   "source": []
  },
  {
   "cell_type": "code",
   "execution_count": 62,
   "metadata": {},
   "outputs": [
    {
     "ename": "ValueError",
     "evalue": "Neither the `x` nor `y` variable appears to be numeric.",
     "output_type": "error",
     "traceback": [
      "\u001b[0;31m---------------------------------------------------------------------------\u001b[0m",
      "\u001b[0;31mValueError\u001b[0m                                Traceback (most recent call last)",
      "\u001b[0;32m<ipython-input-62-22c0f2eaf345>\u001b[0m in \u001b[0;36m<module>\u001b[0;34m()\u001b[0m\n\u001b[0;32m----> 1\u001b[0;31m \u001b[0msns\u001b[0m\u001b[0;34m.\u001b[0m\u001b[0mboxplot\u001b[0m\u001b[0;34m(\u001b[0m\u001b[0mx\u001b[0m\u001b[0;34m=\u001b[0m\u001b[0;34m\"CLF\"\u001b[0m\u001b[0;34m,\u001b[0m \u001b[0my\u001b[0m\u001b[0;34m=\u001b[0m\u001b[0;34m\"Accuracy\"\u001b[0m\u001b[0;34m,\u001b[0m \u001b[0mdata\u001b[0m\u001b[0;34m=\u001b[0m\u001b[0mpd\u001b[0m\u001b[0;34m.\u001b[0m\u001b[0mDataFrame\u001b[0m\u001b[0;34m(\u001b[0m\u001b[0mresults\u001b[0m\u001b[0;34m,\u001b[0m \u001b[0mcolumns\u001b[0m \u001b[0;34m=\u001b[0m \u001b[0;34m[\u001b[0m\u001b[0;34m'CLF'\u001b[0m\u001b[0;34m,\u001b[0m \u001b[0;34m'Accuracy'\u001b[0m\u001b[0;34m]\u001b[0m\u001b[0;34m)\u001b[0m\u001b[0;34m)\u001b[0m\u001b[0;34m\u001b[0m\u001b[0m\n\u001b[0m",
      "\u001b[0;32m~/anaconda2/envs/py36/lib/python3.6/site-packages/seaborn/categorical.py\u001b[0m in \u001b[0;36mboxplot\u001b[0;34m(x, y, hue, data, order, hue_order, orient, color, palette, saturation, width, dodge, fliersize, linewidth, whis, notch, ax, **kwargs)\u001b[0m\n\u001b[1;32m   2229\u001b[0m     plotter = _BoxPlotter(x, y, hue, data, order, hue_order,\n\u001b[1;32m   2230\u001b[0m                           \u001b[0morient\u001b[0m\u001b[0;34m,\u001b[0m \u001b[0mcolor\u001b[0m\u001b[0;34m,\u001b[0m \u001b[0mpalette\u001b[0m\u001b[0;34m,\u001b[0m \u001b[0msaturation\u001b[0m\u001b[0;34m,\u001b[0m\u001b[0;34m\u001b[0m\u001b[0m\n\u001b[0;32m-> 2231\u001b[0;31m                           width, dodge, fliersize, linewidth)\n\u001b[0m\u001b[1;32m   2232\u001b[0m \u001b[0;34m\u001b[0m\u001b[0m\n\u001b[1;32m   2233\u001b[0m     \u001b[0;32mif\u001b[0m \u001b[0max\u001b[0m \u001b[0;32mis\u001b[0m \u001b[0;32mNone\u001b[0m\u001b[0;34m:\u001b[0m\u001b[0;34m\u001b[0m\u001b[0m\n",
      "\u001b[0;32m~/anaconda2/envs/py36/lib/python3.6/site-packages/seaborn/categorical.py\u001b[0m in \u001b[0;36m__init__\u001b[0;34m(self, x, y, hue, data, order, hue_order, orient, color, palette, saturation, width, dodge, fliersize, linewidth)\u001b[0m\n\u001b[1;32m    444\u001b[0m                  width, dodge, fliersize, linewidth):\n\u001b[1;32m    445\u001b[0m \u001b[0;34m\u001b[0m\u001b[0m\n\u001b[0;32m--> 446\u001b[0;31m         \u001b[0mself\u001b[0m\u001b[0;34m.\u001b[0m\u001b[0mestablish_variables\u001b[0m\u001b[0;34m(\u001b[0m\u001b[0mx\u001b[0m\u001b[0;34m,\u001b[0m \u001b[0my\u001b[0m\u001b[0;34m,\u001b[0m \u001b[0mhue\u001b[0m\u001b[0;34m,\u001b[0m \u001b[0mdata\u001b[0m\u001b[0;34m,\u001b[0m \u001b[0morient\u001b[0m\u001b[0;34m,\u001b[0m \u001b[0morder\u001b[0m\u001b[0;34m,\u001b[0m \u001b[0mhue_order\u001b[0m\u001b[0;34m)\u001b[0m\u001b[0;34m\u001b[0m\u001b[0m\n\u001b[0m\u001b[1;32m    447\u001b[0m         \u001b[0mself\u001b[0m\u001b[0;34m.\u001b[0m\u001b[0mestablish_colors\u001b[0m\u001b[0;34m(\u001b[0m\u001b[0mcolor\u001b[0m\u001b[0;34m,\u001b[0m \u001b[0mpalette\u001b[0m\u001b[0;34m,\u001b[0m \u001b[0msaturation\u001b[0m\u001b[0;34m)\u001b[0m\u001b[0;34m\u001b[0m\u001b[0m\n\u001b[1;32m    448\u001b[0m \u001b[0;34m\u001b[0m\u001b[0m\n",
      "\u001b[0;32m~/anaconda2/envs/py36/lib/python3.6/site-packages/seaborn/categorical.py\u001b[0m in \u001b[0;36mestablish_variables\u001b[0;34m(self, x, y, hue, data, orient, order, hue_order, units)\u001b[0m\n\u001b[1;32m    156\u001b[0m \u001b[0;34m\u001b[0m\u001b[0m\n\u001b[1;32m    157\u001b[0m             \u001b[0;31m# Figure out the plotting orientation\u001b[0m\u001b[0;34m\u001b[0m\u001b[0;34m\u001b[0m\u001b[0m\n\u001b[0;32m--> 158\u001b[0;31m             \u001b[0morient\u001b[0m \u001b[0;34m=\u001b[0m \u001b[0mself\u001b[0m\u001b[0;34m.\u001b[0m\u001b[0minfer_orient\u001b[0m\u001b[0;34m(\u001b[0m\u001b[0mx\u001b[0m\u001b[0;34m,\u001b[0m \u001b[0my\u001b[0m\u001b[0;34m,\u001b[0m \u001b[0morient\u001b[0m\u001b[0;34m)\u001b[0m\u001b[0;34m\u001b[0m\u001b[0m\n\u001b[0m\u001b[1;32m    159\u001b[0m \u001b[0;34m\u001b[0m\u001b[0m\n\u001b[1;32m    160\u001b[0m             \u001b[0;31m# Option 2a:\u001b[0m\u001b[0;34m\u001b[0m\u001b[0;34m\u001b[0m\u001b[0m\n",
      "\u001b[0;32m~/anaconda2/envs/py36/lib/python3.6/site-packages/seaborn/categorical.py\u001b[0m in \u001b[0;36minfer_orient\u001b[0;34m(self, x, y, orient)\u001b[0m\n\u001b[1;32m    359\u001b[0m         \u001b[0;32melif\u001b[0m \u001b[0mis_not_numeric\u001b[0m\u001b[0;34m(\u001b[0m\u001b[0my\u001b[0m\u001b[0;34m)\u001b[0m\u001b[0;34m:\u001b[0m\u001b[0;34m\u001b[0m\u001b[0m\n\u001b[1;32m    360\u001b[0m             \u001b[0;32mif\u001b[0m \u001b[0mis_not_numeric\u001b[0m\u001b[0;34m(\u001b[0m\u001b[0mx\u001b[0m\u001b[0;34m)\u001b[0m\u001b[0;34m:\u001b[0m\u001b[0;34m\u001b[0m\u001b[0m\n\u001b[0;32m--> 361\u001b[0;31m                 \u001b[0;32mraise\u001b[0m \u001b[0mValueError\u001b[0m\u001b[0;34m(\u001b[0m\u001b[0mno_numeric\u001b[0m\u001b[0;34m)\u001b[0m\u001b[0;34m\u001b[0m\u001b[0m\n\u001b[0m\u001b[1;32m    362\u001b[0m             \u001b[0;32melse\u001b[0m\u001b[0;34m:\u001b[0m\u001b[0;34m\u001b[0m\u001b[0m\n\u001b[1;32m    363\u001b[0m                 \u001b[0;32mreturn\u001b[0m \u001b[0;34m\"h\"\u001b[0m\u001b[0;34m\u001b[0m\u001b[0m\n",
      "\u001b[0;31mValueError\u001b[0m: Neither the `x` nor `y` variable appears to be numeric."
     ]
    }
   ],
   "source": [
    "sns.boxplot(x=\"CLF\", y=\"Accuracy\", data=pd.DataFrame.from_dict(results)))"
   ]
  },
  {
   "cell_type": "code",
   "execution_count": null,
   "metadata": {
    "collapsed": true
   },
   "outputs": [],
   "source": []
  },
  {
   "cell_type": "code",
   "execution_count": null,
   "metadata": {
    "collapsed": true
   },
   "outputs": [],
   "source": []
  },
  {
   "cell_type": "code",
   "execution_count": null,
   "metadata": {
    "collapsed": true
   },
   "outputs": [],
   "source": []
  }
 ],
 "metadata": {
  "kernelspec": {
   "display_name": "Python 3",
   "language": "python",
   "name": "python3"
  },
  "language_info": {
   "codemirror_mode": {
    "name": "ipython",
    "version": 3
   },
   "file_extension": ".py",
   "mimetype": "text/x-python",
   "name": "python",
   "nbconvert_exporter": "python",
   "pygments_lexer": "ipython3",
   "version": "3.6.3"
  }
 },
 "nbformat": 4,
 "nbformat_minor": 2
}
