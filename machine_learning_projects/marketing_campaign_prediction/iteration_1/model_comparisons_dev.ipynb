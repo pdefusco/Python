{
 "cells": [
  {
   "cell_type": "markdown",
   "metadata": {},
   "source": [
    "### Spotchecking Models"
   ]
  },
  {
   "cell_type": "markdown",
   "metadata": {},
   "source": [
    "- Objective: identify promising models\n",
    "- Method: draft different models and compare them with Nested CV \n",
    "- We are not allowed to use Duration"
   ]
  },
  {
   "cell_type": "code",
   "execution_count": 1,
   "metadata": {},
   "outputs": [],
   "source": [
    "%load_ext autoreload\n",
    "\n",
    "%autoreload 2"
   ]
  },
  {
   "cell_type": "code",
   "execution_count": 2,
   "metadata": {
    "collapsed": true
   },
   "outputs": [],
   "source": [
    "%matplotlib inline\n",
    "import pandas as pd\n",
    "import numpy as np\n",
    "from scipy.io import arff\n",
    "import matplotlib.pyplot as plt\n",
    "import seaborn as sns\n",
    "import matplotlib as mpl"
   ]
  },
  {
   "cell_type": "code",
   "execution_count": 3,
   "metadata": {
    "collapsed": true
   },
   "outputs": [],
   "source": [
    "from sklearn.model_selection import train_test_split, StratifiedKFold, GridSearchCV, cross_val_score\n",
    "from sklearn import preprocessing\n",
    "from sklearn.pipeline import make_pipeline\n",
    "from sklearn.metrics import confusion_matrix, precision_score, recall_score, average_precision_score\n",
    "from sklearn.metrics import accuracy_score, roc_curve, roc_auc_score, precision_recall_curve\n",
    "from sklearn.metrics import classification_report\n",
    "from sklearn.utils.fixes import signature\n",
    "pd.options.display.float_format = '{:.2f}'.format\n",
    "pd.set_option('display.float_format', lambda x: '%.3f' % x)"
   ]
  },
  {
   "cell_type": "code",
   "execution_count": 4,
   "metadata": {
    "collapsed": true
   },
   "outputs": [],
   "source": [
    "from sklearn.linear_model import LogisticRegression\n",
    "from sklearn.tree import DecisionTreeClassifier\n",
    "from sklearn.neighbors import KNeighborsClassifier\n",
    "from sklearn.discriminant_analysis import LinearDiscriminantAnalysis\n",
    "from sklearn.naive_bayes import GaussianNB, BernoulliNB\n",
    "from sklearn.svm import SVC\n",
    "pd.options.display.float_format = '{:.2f}'.format"
   ]
  },
  {
   "cell_type": "code",
   "execution_count": 5,
   "metadata": {
    "collapsed": true
   },
   "outputs": [],
   "source": [
    "#Loading df1 after it has been augmented in iteration 2:\n",
    "df = pd.read_pickle('../data/pickle_files/df_pickle_w_time_stats')\n",
    "#Excluding the duration variable as it cannot be used in our baseline\n",
    "df = df.drop(columns = ['duration'])"
   ]
  },
  {
   "cell_type": "code",
   "execution_count": 6,
   "metadata": {
    "collapsed": true
   },
   "outputs": [],
   "source": [
    "#Checking dtypes have loaded correctly (should return empty index)\n",
    "df.select_dtypes(exclude = ['float64', 'int64']).columns\n",
    "\n",
    "y = df['y']\n",
    "X = df.drop(columns=['y'])"
   ]
  },
  {
   "cell_type": "code",
   "execution_count": 10,
   "metadata": {},
   "outputs": [
    {
     "data": {
      "text/plain": [
       "age                 int64\n",
       "campaign            int64\n",
       "pdays               int64\n",
       "previous            int64\n",
       "emp.var.rate      float64\n",
       "cons.price.idx    float64\n",
       "cons.conf.idx     float64\n",
       "euribor3m         float64\n",
       "nr.employed       float64\n",
       "job                  int8\n",
       "marital              int8\n",
       "education            int8\n",
       "default              int8\n",
       "housing              int8\n",
       "loan                 int8\n",
       "contact              int8\n",
       "month                int8\n",
       "day_of_week          int8\n",
       "poutcome             int8\n",
       "y                    int8\n",
       "dtype: object"
      ]
     },
     "execution_count": 10,
     "metadata": {},
     "output_type": "execute_result"
    }
   ],
   "source": [
    "#int8 dtypes are categorical features - let's make sure we don't standardize them\n",
    "df.dtypes"
   ]
  },
  {
   "cell_type": "code",
   "execution_count": 15,
   "metadata": {},
   "outputs": [],
   "source": [
    "X_temp_noncat = df.select_dtypes(exclude=['int8'])\n",
    "X_temp_cat = df.select_dtypes(include=['int8'])"
   ]
  },
  {
   "cell_type": "code",
   "execution_count": 16,
   "metadata": {
    "collapsed": true
   },
   "outputs": [],
   "source": [
    "scaler = preprocessing.StandardScaler().fit(X_temp_noncat)\n",
    "X_transformed = scaler.transform(X_temp_noncat)"
   ]
  },
  {
   "cell_type": "code",
   "execution_count": 20,
   "metadata": {},
   "outputs": [],
   "source": [
    "X = pd.concat([pd.DataFrame(X_transformed, columns =X_temp_noncat.columns), X_temp_cat], axis = 1)"
   ]
  },
  {
   "cell_type": "code",
   "execution_count": 21,
   "metadata": {
    "collapsed": true
   },
   "outputs": [],
   "source": [
    "X = df.drop(columns=['y'])"
   ]
  },
  {
   "cell_type": "code",
   "execution_count": 22,
   "metadata": {
    "collapsed": true
   },
   "outputs": [],
   "source": [
    "#will work with numpy arrays\n",
    "y = np.array(y)\n",
    "X = np.array(X)"
   ]
  },
  {
   "cell_type": "code",
   "execution_count": 23,
   "metadata": {
    "collapsed": true
   },
   "outputs": [],
   "source": [
    "#Changed in version 0.20: Parameter iid will change from True to False by default in version 0.22, and will be removed in 0.24."
   ]
  },
  {
   "cell_type": "code",
   "execution_count": 24,
   "metadata": {
    "collapsed": true
   },
   "outputs": [],
   "source": [
    "from sklearn.metrics import classification_report, accuracy_score, make_scorer, recall_score, precision_score"
   ]
  },
  {
   "cell_type": "code",
   "execution_count": 25,
   "metadata": {
    "collapsed": true
   },
   "outputs": [],
   "source": [
    "def report_withaccuracy(y_true, y_pred, print_report = False):\n",
    "\n",
    "    #print(classification_report(y_true, y_pred)) # print classification report\n",
    "\n",
    "    return accuracy_score(y_true, y_pred)"
   ]
  },
  {
   "cell_type": "code",
   "execution_count": 26,
   "metadata": {
    "collapsed": true
   },
   "outputs": [],
   "source": [
    "def report_withrecall(y_true, y_pred, print_report = False):\n",
    "\n",
    "    #print(classification_report(y_true, y_pred)) # print classification report\n",
    "\n",
    "    return recall_score(y_true, y_pred) # return accuracy score"
   ]
  },
  {
   "cell_type": "code",
   "execution_count": 27,
   "metadata": {
    "collapsed": true
   },
   "outputs": [],
   "source": [
    "def report_withprecision(y_true, y_pred, print_report = False):\n",
    "\n",
    "    #print(classification_report(y_true, y_pred)) # print classification report\n",
    "\n",
    "    return precision_score(y_true, y_pred) # return accuracy score"
   ]
  },
  {
   "cell_type": "code",
   "execution_count": 38,
   "metadata": {
    "collapsed": true
   },
   "outputs": [],
   "source": [
    "def nested_CV(X, y, estimator, param_grid, num_cv = 10):\n",
    "    \n",
    "    gs = GridSearchCV(estimator = estimator,\n",
    "                     param_grid = param_grid,\n",
    "                     scoring = 'recall',\n",
    "                     cv=2)\n",
    "    \n",
    "    scores_acc = cross_val_score(estimator, X, y, scoring=make_scorer(report_withaccuracy), cv = num_cv)\n",
    "    scores_recall = cross_val_score(estimator, X, y, scoring=make_scorer(report_withrecall), cv = num_cv)\n",
    "    #scores_prec = cross_val_score(gs_LR, X_transformed, y, scoring=make_scorer(report_withprecision), cv = 10)\n",
    "    \n",
    "    #print('ML Algorithm: %s' %(estimator.__name__))\n",
    "    print(\"Average Performance Measures Across %i Folds\" %(num_cv))\n",
    "    print('CV Accuracy : %.3f +/- %.3f' %(np.mean(scores_acc), np.std(scores_acc)))\n",
    "    print('CV Recall : %.3f +/- %.3f' %(np.mean(scores_recall), np.std(scores_recall)))\n",
    "    #print('CV Precision : %.3f +/- %.3f' %(np.mean(scores_prec), np.std(scores_prec)))\n",
    "    \n",
    "    return estimator.__class__.__name__, scores_acc"
   ]
  },
  {
   "cell_type": "code",
   "execution_count": 49,
   "metadata": {
    "collapsed": true
   },
   "outputs": [],
   "source": [
    "results = []"
   ]
  },
  {
   "cell_type": "code",
   "execution_count": 50,
   "metadata": {
    "collapsed": true
   },
   "outputs": [],
   "source": [
    "def track_results(name,acc, results):\n",
    "    results.append((name, acc))\n",
    "    return results"
   ]
  },
  {
   "cell_type": "code",
   "execution_count": 51,
   "metadata": {},
   "outputs": [
    {
     "name": "stdout",
     "output_type": "stream",
     "text": [
      "Logistic Regression\n",
      "Average Performance Measures Across 11 Folds\n",
      "CV Accuracy : 0.841 +/- 0.179\n",
      "CV Recall : 0.212 +/- 0.269\n"
     ]
    },
    {
     "data": {
      "text/plain": [
       "[('LogisticRegression',\n",
       "  array([0.88731642, 0.88731642, 0.88731642, 0.88731642, 0.88731642,\n",
       "         0.89105474, 0.90758547, 0.92307692, 0.87847222, 0.93614748,\n",
       "         0.27705049]))]"
      ]
     },
     "execution_count": 51,
     "metadata": {},
     "output_type": "execute_result"
    }
   ],
   "source": [
    "param_grid = {'solver':['lbfgs', 'liblinear'],\n",
    "              'max_iter': [10,20,30], \n",
    "              'class_weight': ['balanced']}\n",
    "\n",
    "print(\"Logistic Regression\")\n",
    "names, accs = nested_CV(X, y, LogisticRegression(), param_grid, 11)\n",
    "track_results(names,accs, results)"
   ]
  },
  {
   "cell_type": "code",
   "execution_count": null,
   "metadata": {},
   "outputs": [
    {
     "name": "stdout",
     "output_type": "stream",
     "text": [
      "Support Vector Machine\n"
     ]
    }
   ],
   "source": [
    "param_grid = {'C':np.logspace(-2, 3, num=6, base=10),\n",
    "              'kernel': ['rbf'],\n",
    "              'gamma' : [0.1, 1, 10],\n",
    "              'class_weight': ['balanced']}\n",
    "\n",
    "print(\"Support Vector Machine\")\n",
    "names, accs = nested_CV(X, y, SVC(), param_grid, 5)\n",
    "track_results(names,accs, results)"
   ]
  },
  {
   "cell_type": "code",
   "execution_count": null,
   "metadata": {},
   "outputs": [],
   "source": [
    "param_grid = {'max_depth':[3,5,7],\n",
    "              'min_samples_split':[100, 1000],\n",
    "              'max_features': [4,6,8],\n",
    "              'max_leaf_nodes':[10,20],\n",
    "              'class_weight': ['balanced']}\n",
    "\n",
    "print(\"Decision Tree Classifier\")\n",
    "names, accs = nested_CV(X, y, DecisionTreeClassifier(), param_grid, 11)\n",
    "track_results(names,accs, results)"
   ]
  },
  {
   "cell_type": "code",
   "execution_count": null,
   "metadata": {},
   "outputs": [],
   "source": [
    "param_grid = {'n_neighbors':[3,5,7,9],\n",
    "              'algorithm' : ['auto', 'ball_tree'],\n",
    "              'weights': ['distance']}\n",
    "\n",
    "print(\"KNeighborsClassifier\")\n",
    "names, accs = nested_CV(X, y, KNeighborsClassifier(), param_grid, 11)\n",
    "track_results(names,accs, results)"
   ]
  },
  {
   "cell_type": "code",
   "execution_count": null,
   "metadata": {},
   "outputs": [],
   "source": [
    "param_grid = {'solver':['lsqr','eigen'],\n",
    "              'n_components':[5,10,15],\n",
    "              'shrinkage': [0,.5,.9]}\n",
    "\n",
    "print(\"LinearDiscriminantAnalysis\")\n",
    "names, accs = nested_CV(X, y, LinearDiscriminantAnalysis(), param_grid, 11)\n",
    "track_results(names,accs, results)"
   ]
  },
  {
   "cell_type": "code",
   "execution_count": null,
   "metadata": {},
   "outputs": [],
   "source": [
    "param_grid = {'alpha':np.logspace(-2, 3, num=6, base=10)}\n",
    "\n",
    "print(\"BernoulliNB\")\n",
    "names, accs = nested_CV(X, y, BernoulliNB(), param_grid, 11)\n",
    "track_results(names,accs, results)"
   ]
  },
  {
   "cell_type": "code",
   "execution_count": null,
   "metadata": {},
   "outputs": [],
   "source": [
    "param_grid = {'var_smoothing':[.2,.4,.6,.8]}\n",
    "\n",
    "print(\"GaussianNB\")\n",
    "names, accs = name, acc = nested_CV(X, y, GaussianNB(), param_grid, 11)\n",
    "track_results(names,accs, results)"
   ]
  },
  {
   "cell_type": "code",
   "execution_count": null,
   "metadata": {
    "collapsed": true
   },
   "outputs": [],
   "source": [
    "results"
   ]
  },
  {
   "cell_type": "code",
   "execution_count": null,
   "metadata": {
    "collapsed": true
   },
   "outputs": [],
   "source": [
    "for i in results:\n",
    "    print(i[0])\n",
    "    print(np.mean(i[1]), np.std(i[1]))"
   ]
  },
  {
   "cell_type": "code",
   "execution_count": null,
   "metadata": {
    "collapsed": true
   },
   "outputs": [],
   "source": [
    "pd.DataFrame(results, columns = ['CLF', 'Accuracy'])"
   ]
  },
  {
   "cell_type": "code",
   "execution_count": null,
   "metadata": {
    "collapsed": true
   },
   "outputs": [],
   "source": [
    "sns.boxplot(x=\"CLF\", y=\"Accuracy\", data=pd.DataFrame(results, columns = ['CLF', 'Accuracy']))"
   ]
  },
  {
   "cell_type": "code",
   "execution_count": null,
   "metadata": {
    "collapsed": true
   },
   "outputs": [],
   "source": []
  },
  {
   "cell_type": "code",
   "execution_count": null,
   "metadata": {
    "collapsed": true
   },
   "outputs": [],
   "source": []
  },
  {
   "cell_type": "code",
   "execution_count": null,
   "metadata": {
    "collapsed": true
   },
   "outputs": [],
   "source": []
  },
  {
   "cell_type": "code",
   "execution_count": null,
   "metadata": {
    "collapsed": true
   },
   "outputs": [],
   "source": []
  }
 ],
 "metadata": {
  "kernelspec": {
   "display_name": "Python 3",
   "language": "python",
   "name": "python3"
  },
  "language_info": {
   "codemirror_mode": {
    "name": "ipython",
    "version": 3
   },
   "file_extension": ".py",
   "mimetype": "text/x-python",
   "name": "python",
   "nbconvert_exporter": "python",
   "pygments_lexer": "ipython3",
   "version": "3.6.3"
  }
 },
 "nbformat": 4,
 "nbformat_minor": 2
}
