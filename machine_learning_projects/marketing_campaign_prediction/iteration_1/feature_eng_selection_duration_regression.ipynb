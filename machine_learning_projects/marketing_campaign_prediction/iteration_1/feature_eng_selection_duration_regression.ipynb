{
 "cells": [
  {
   "cell_type": "markdown",
   "metadata": {},
   "source": [
    "### Feature Engineering and Selection:"
   ]
  },
  {
   "cell_type": "markdown",
   "metadata": {},
   "source": [
    "- Objective: engineer new features and analyze their importance\n",
    "- Method: first use Univariate tests to discard poor features (important when dealing with many features)\n",
    "    Then, use recursive feature elimination and feature importances to get a feeling for ranking among features left\n"
   ]
  },
  {
   "cell_type": "markdown",
   "metadata": {},
   "source": [
    "Dilemma: should we tune a model before feeding it to RFECV? Answer: first loosely tune models and then use regularized decision trees for a potentially more rigorouse answer:\n",
    "            https://arxiv.org/pdf/1201.1587.pdf"
   ]
  },
  {
   "cell_type": "code",
   "execution_count": 1,
   "metadata": {},
   "outputs": [],
   "source": [
    "%load_ext autoreload\n",
    "\n",
    "%autoreload 2"
   ]
  },
  {
   "cell_type": "code",
   "execution_count": 2,
   "metadata": {
    "collapsed": true
   },
   "outputs": [],
   "source": [
    "%matplotlib inline\n",
    "import pandas as pd\n",
    "import numpy as np\n",
    "from scipy.io import arff\n",
    "import matplotlib.pyplot as plt\n",
    "import seaborn as sns\n",
    "import matplotlib as mpl\n",
    "import os"
   ]
  },
  {
   "cell_type": "code",
   "execution_count": 3,
   "metadata": {
    "collapsed": true
   },
   "outputs": [],
   "source": [
    "from sklearn.model_selection import train_test_split, StratifiedKFold, GridSearchCV, cross_val_score\n",
    "from sklearn.linear_model import LinearRegression\n",
    "from sklearn import preprocessing\n",
    "from sklearn.pipeline import make_pipeline\n",
    "from sklearn.metrics import confusion_matrix, precision_score, recall_score, average_precision_score\n",
    "from sklearn.metrics import accuracy_score, roc_curve, roc_auc_score, precision_recall_curve\n",
    "from sklearn.metrics import classification_report\n",
    "from sklearn.utils.fixes import signature\n",
    "pd.options.display.float_format = '{:.2f}'.format\n",
    "pd.set_option('display.float_format', lambda x: '%.3f' % x)"
   ]
  },
  {
   "cell_type": "code",
   "execution_count": 4,
   "metadata": {},
   "outputs": [
    {
     "data": {
      "text/plain": [
       "['.DS_Store',\n",
       " 'final_df_pickle',\n",
       " 'df_pickle_w_all_stats',\n",
       " 'df_pickle',\n",
       " 'df_pickle_w_time_stats']"
      ]
     },
     "execution_count": 4,
     "metadata": {},
     "output_type": "execute_result"
    }
   ],
   "source": [
    "os.listdir('../data/pickle_files/')"
   ]
  },
  {
   "cell_type": "code",
   "execution_count": 5,
   "metadata": {
    "collapsed": true
   },
   "outputs": [],
   "source": [
    "#Loading final df from feature engineering notebook\n",
    "final_df = pd.read_pickle('../data/pickle_files/final_df_pickle')\n",
    "final_df = final_df.drop(columns = ['Date'])"
   ]
  },
  {
   "cell_type": "code",
   "execution_count": 6,
   "metadata": {
    "collapsed": true
   },
   "outputs": [],
   "source": [
    "def prep_df(df):\n",
    "    y = df['duration']\n",
    "    X = df.drop(df.filter(regex='y').columns, axis=1)\n",
    "    X = X.drop(columns='duration')\n",
    "    #Dropping features based on y\n",
    "    X = X.drop(X.filter(regex=\"cust_acquisition_flag\").columns, axis=1) \n",
    "    X = X.drop(X.filter(regex=\"cust_retention_flag\").columns, axis=1)\n",
    "    X = X.drop(X.filter(regex=\"prospect_conversion_flag\").columns, axis=1)\n",
    "    #Dropping linearly dependent features\n",
    "    X = X.drop(columns = ['new_lead'])\n",
    "    names = list(X.columns)\n",
    "    return X, y, names"
   ]
  },
  {
   "cell_type": "code",
   "execution_count": 7,
   "metadata": {
    "collapsed": true
   },
   "outputs": [],
   "source": [
    "#loading df\n",
    "X, y, names = prep_df(final_df)"
   ]
  },
  {
   "cell_type": "markdown",
   "metadata": {},
   "source": [
    "Feature Importance:"
   ]
  },
  {
   "cell_type": "markdown",
   "metadata": {},
   "source": [
    "Starting with an exploration of the most important features with univariate methods and RFE (with CV)"
   ]
  },
  {
   "cell_type": "markdown",
   "metadata": {},
   "source": [
    "Univariate Feature Selection"
   ]
  },
  {
   "cell_type": "code",
   "execution_count": 8,
   "metadata": {
    "collapsed": true
   },
   "outputs": [],
   "source": [
    "from sklearn.feature_selection import SelectKBest, f_regression, mutual_info_regression"
   ]
  },
  {
   "cell_type": "code",
   "execution_count": 9,
   "metadata": {
    "collapsed": true
   },
   "outputs": [],
   "source": [
    "def kbest(X,y, score_func, k):\n",
    "    #Use f_regression or mutual_info_regression as scoring function\n",
    "    test = SelectKBest(score_func=score_func, k=k)\n",
    "    fit = test.fit(X, y)\n",
    "    # summarize scores\n",
    "    np.set_printoptions(precision=3)\n",
    "    return sorted(list(zip(names,list(fit.scores_))), key=lambda tup:tup[1], reverse=True) "
   ]
  },
  {
   "cell_type": "code",
   "execution_count": 10,
   "metadata": {
    "collapsed": true
   },
   "outputs": [],
   "source": [
    "best_cols = kbest(X,y, f_regression, 'all')"
   ]
  },
  {
   "cell_type": "code",
   "execution_count": 11,
   "metadata": {},
   "outputs": [
    {
     "data": {
      "text/plain": [
       "[('duration-rolling-sum-10', 658.2322727850463),\n",
       " ('duration-rolling-avg-10', 658.2322727850224),\n",
       " ('duration-rolling-avg-30', 472.36586990655206),\n",
       " ('duration-rolling-sum-30', 472.365869906534),\n",
       " ('duration-rolling-avg-60', 465.1982134214848),\n",
       " ('duration-rolling-sum-60', 465.19821342142563),\n",
       " ('campaign', 212.8221977194653),\n",
       " ('campaign-rolling-sum-60', 162.57484634813886),\n",
       " ('campaign-rolling-avg-60', 162.5748463481367),\n",
       " ('FDI', 127.0960409440427),\n",
       " ('campaign-rolling-sum-30', 108.96647338777834),\n",
       " ('campaign-rolling-avg-30', 108.96647338777736),\n",
       " ('prev_subscr_flag', 83.11115440608762),\n",
       " ('Foreign exchange reserves', 80.87898740255453),\n",
       " ('Government debt', 78.98053221763733),\n",
       " ('prev_subscr_flag-rolling-avg-30', 78.91354586820017),\n",
       " ('prev_subscr_flag-rolling-sum-30', 78.91354586820017),\n",
       " ('campaign-rolling-sum-10', 75.00787008485212),\n",
       " ('campaign-rolling-avg-10', 75.00787008484477),\n",
       " ('previous-rolling-avg-60', 74.51842520207875),\n",
       " ('previous-rolling-sum-60', 74.51842520207872),\n",
       " ('Minimum wage', 73.79140174507602),\n",
       " ('prev_subscr_flag-rolling-sum-60', 73.52253536861821),\n",
       " ('prev_subscr_flag-rolling-avg-60', 73.52253536861814),\n",
       " ('previous-rolling-sum-30', 71.45283135722437),\n",
       " ('previous-rolling-avg-30', 71.4528313572242),\n",
       " ('savings_delta_expect', 69.60089063275831),\n",
       " ('savings_delta_expect-rolling-avg-90', 65.4473995932113),\n",
       " ('savings_delta_expect-rolling-avg-45', 65.29536363730676),\n",
       " ('prev_subscr_flag-rolling-avg-10', 61.802080042295586),\n",
       " ('prev_subscr_flag-rolling-sum-10', 61.80208004229532),\n",
       " ('Mortgage credit', 57.35044863743176),\n",
       " ('Household credit', 54.270397837235684),\n",
       " ('previous-job-marital-default-loan-contact-categorical', 54.13457173342395),\n",
       " ('previous-rolling-avg-10', 53.40675586505385),\n",
       " ('previous-rolling-sum-10', 53.40675586505332),\n",
       " ('previous-job-marital-default-housing-loan-contact-categorical',\n",
       "  53.28498587894631),\n",
       " ('previous-job-marital-education-default-loan-contact-age_bin-categorical',\n",
       "  52.680847286489765),\n",
       " ('campaign-job-marital-default-contact-categorical', 52.42797301366732),\n",
       " ('previous-job-marital-default-housing-contact-categorical',\n",
       "  52.14865295195167),\n",
       " ('Mortgage credit interest rate', 51.53250204707991),\n",
       " ('previous-job-marital-education-default-loan-contact-categorical',\n",
       "  50.695469391181895),\n",
       " ('Business credit interest rate', 50.374087889761526),\n",
       " ('previous-job-education-default-contact-categorical', 48.908723952980274),\n",
       " ('previous-job-marital-default-contact-categorical', 48.73351597214754),\n",
       " ('Labor cost', 48.505959134127224),\n",
       " ('previous-job-education-default-loan-contact-categorical',\n",
       "  48.400224987595784),\n",
       " ('previous-job-education-default-housing-loan-contact-categorical',\n",
       "  48.27597454127815),\n",
       " ('campaign-job-contact-age_bin-categorical', 47.50203277425526),\n",
       " ('Deposit interest rate', 47.45763720003387),\n",
       " ('previous-job-marital-default-loan-contact-age_bin-categorical',\n",
       "  47.291474284883535),\n",
       " ('campaign-job-marital-contact-categorical', 47.16243833896525),\n",
       " ('previous-job-marital-education-default-contact-age_bin-categorical',\n",
       "  46.86555285145152),\n",
       " ('campaign-job-default-contact-categorical', 46.8107321683488),\n",
       " ('campaign-job-default-contact-age_bin-categorical', 46.8063974394813),\n",
       " ('previous-job-marital-loan-contact-categorical', 46.75319142654771),\n",
       " ('previous-job-default-housing-loan-contact-categorical', 46.72771037449353),\n",
       " ('previous-job-marital-housing-loan-contact-categorical', 46.532817714767624),\n",
       " ('campaign-job-contact-categorical', 46.313539504650706),\n",
       " ('previous-job-marital-default-housing-contact-age_bin-categorical',\n",
       "  46.17079824679563),\n",
       " ('previous-job-default-loan-contact-categorical', 46.13877997445828),\n",
       " ('poutcome', 45.887736793236385),\n",
       " ('previous-job-default-housing-contact-categorical', 45.53966286756033),\n",
       " ('previous-job-marital-education-default-housing-loan-contact-categorical',\n",
       "  45.53591996591723),\n",
       " ('previous-job-marital-education-default-contact-categorical',\n",
       "  45.364727315867555),\n",
       " ('previous-job-marital-housing-contact-categorical', 45.09321900937513),\n",
       " ('previous-job-marital-education-default-housing-contact-age_bin-categorical',\n",
       "  44.679305886748075),\n",
       " ('euribor3m', 44.61936216857),\n",
       " ('previous-job-marital-education-default-housing-contact-categorical',\n",
       "  44.60317925420408),\n",
       " ('previous-job-education-default-contact-age_bin-categorical',\n",
       "  44.56827787463426),\n",
       " ('previous-job-default-contact-categorical', 44.56338062852735),\n",
       " ('Economic growth Q-on-Q', 44.483964513703164),\n",
       " ('previous-job-marital-default-contact-age_bin-categorical',\n",
       "  44.314811540630124),\n",
       " ('campaign-job-loan-contact-age_bin-categorical', 44.17873600573121),\n",
       " ('previous-job-education-default-housing-contact-categorical',\n",
       "  44.06292948059231),\n",
       " ('campaign-job-education-default-contact-categorical', 43.84715728554942),\n",
       " ('Investment as percent of GDP', 43.00398017780982),\n",
       " ('previous-marital-education-default-loan-contact-age_bin-categorical',\n",
       "  42.9342162357255),\n",
       " ('previous-job-education-default-loan-contact-age_bin-categorical',\n",
       "  42.51958249466177),\n",
       " ('previous-job-marital-default-housing-loan-contact-age_bin-categorical',\n",
       "  42.51210556042266),\n",
       " ('previous-job-marital-education-loan-contact-categorical',\n",
       "  42.46993062266507),\n",
       " ('campaign-education-default-contact-categorical', 42.091362204328995),\n",
       " ('previous-job-marital-contact-categorical', 41.91122006363097),\n",
       " ('previous-marital-education-default-loan-contact-categorical',\n",
       "  41.3388013846773),\n",
       " ('previous-job-marital-education-loan-contact-age_bin-categorical',\n",
       "  41.014582982161265),\n",
       " ('campaign-education-default-contact-age_bin-categorical', 40.47369935307858),\n",
       " ('previous-job-default-contact-age_bin-categorical', 40.433882471943676),\n",
       " ('previous-marital-education-default-contact-categorical', 40.23086405761349),\n",
       " ('previous-marital-education-default-housing-loan-contact-categorical',\n",
       "  40.03388289618599),\n",
       " ('previous-job-marital-housing-contact-age_bin-categorical',\n",
       "  40.00025403511061),\n",
       " ('previous-marital-education-loan-contact-age_bin-categorical',\n",
       "  39.84681689642361),\n",
       " ('campaign-default-contact-age_bin-categorical', 39.7974519168199),\n",
       " ('previous-job-marital-loan-contact-age_bin-categorical', 39.74264292574515),\n",
       " ('previous-marital-education-default-housing-loan-contact-age_bin-categorical',\n",
       "  39.67538396177786),\n",
       " ('campaign-job-marital-education-housing-loan-contact-age_bin-categorical',\n",
       "  39.65415248284322),\n",
       " ('previous-marital-default-housing-loan-contact-categorical',\n",
       "  39.53635227435327),\n",
       " ('previous-job-education-contact-categorical', 39.38536470538783),\n",
       " ('campaign-job-loan-contact-categorical', 39.32878445428343),\n",
       " ('previous-education-default-contact-categorical', 39.26680142673005),\n",
       " ('previous-job-default-loan-contact-age_bin-categorical', 38.96368284936388),\n",
       " ('Private sector credit', 38.90209784295347),\n",
       " ('previous-education-default-housing-loan-contact-age_bin-categorical',\n",
       "  38.86658079628014),\n",
       " ('campaign-job-housing-contact-age_bin-categorical', 38.5486014695908),\n",
       " ('campaign-job-education-default-contact-age_bin-categorical',\n",
       "  38.53880348658422),\n",
       " ('previous-marital-default-housing-contact-categorical', 38.50876157665921),\n",
       " ('previous-job-housing-loan-contact-categorical', 38.49240780968615),\n",
       " ('previous-job-marital-contact-age_bin-categorical', 38.40468893240478),\n",
       " ('campaign-job-housing-loan-contact-categorical', 38.33920206908871),\n",
       " ('previous-job-education-loan-contact-categorical', 38.30539586408032),\n",
       " ('previous-marital-education-default-housing-contact-age_bin-categorical',\n",
       "  38.286071092125766),\n",
       " ('previous-job-education-default-housing-contact-age_bin-categorical',\n",
       "  38.26257943323741),\n",
       " ('previous-job-marital-education-contact-categorical', 38.18412215817874),\n",
       " ('previous-marital-education-default-housing-contact-categorical',\n",
       "  38.15257590928831),\n",
       " ('previous-job-education-housing-loan-contact-categorical',\n",
       "  38.11649559450145),\n",
       " ('campaign-job-marital-default-contact-age_bin-categorical',\n",
       "  37.98091807879483),\n",
       " ('previous-education-default-loan-contact-age_bin-categorical',\n",
       "  37.97272879881247),\n",
       " ('previous-job-loan-contact-categorical', 37.94673729933406),\n",
       " ('previous-marital-default-loan-contact-categorical', 37.94277983097047),\n",
       " ('previous-job-default-housing-contact-age_bin-categorical',\n",
       "  37.93299703153541),\n",
       " ('previous-marital-education-default-contact-age_bin-categorical',\n",
       "  37.88844230586748),\n",
       " ('previous-job-marital-education-housing-loan-contact-categorical',\n",
       "  37.7143875242794),\n",
       " ('previous-marital-default-loan-contact-age_bin-categorical',\n",
       "  37.55199219627311),\n",
       " ('previous-education-default-housing-contact-categorical', 37.46790382097241),\n",
       " ('previous-education-default-contact-age_bin-categorical', 37.27055060904547),\n",
       " ('previous-education-default-housing-contact-age_bin-categorical',\n",
       "  37.095931826426),\n",
       " ('previous-default-housing-loan-contact-age_bin-categorical',\n",
       "  37.09506348172726),\n",
       " ('previous-job-marital-housing-loan-contact-age_bin-categorical',\n",
       "  36.998818408153035),\n",
       " ('previous-job-default-housing-loan-contact-age_bin-categorical',\n",
       "  36.97847196219584),\n",
       " ('previous-education-default-housing-loan-contact-categorical',\n",
       "  36.912942302411615),\n",
       " ('campaign-education-default-loan-contact-categorical', 36.82126792482105),\n",
       " ('previous-education-default-loan-contact-categorical', 36.79848279398803),\n",
       " ('campaign-job-housing-contact-categorical', 36.57699837285747),\n",
       " ('previous-default-loan-contact-age_bin-categorical', 36.56793700042924),\n",
       " ('previous-marital-default-contact-categorical', 36.38689488822427),\n",
       " ('previous-job-education-default-housing-loan-contact-age_bin-categorical',\n",
       "  36.371465203508905),\n",
       " ('campaign-job-marital-default-loan-contact-categorical', 36.35681664446128),\n",
       " ('campaign-job-marital-default-housing-contact-categorical',\n",
       "  36.33990061129591),\n",
       " ('previous-job-housing-contact-categorical', 36.273372482758504),\n",
       " ('campaign-job-housing-loan-contact-age_bin-categorical', 36.23020213536944),\n",
       " ('campaign-job-education-default-loan-contact-categorical',\n",
       "  36.18067842933465),\n",
       " ('previous-job-education-contact-age_bin-categorical', 36.158397617328475),\n",
       " ('campaign-default-housing-contact-age_bin-categorical', 36.131959401248864),\n",
       " ('previous-default-loan-contact-categorical', 36.06368452482115),\n",
       " ('previous-default-housing-loan-contact-categorical', 36.010993721102494),\n",
       " ('previous-job-contact-categorical', 36.00623506831858),\n",
       " ('previous-job-marital-education-housing-contact-categorical',\n",
       "  35.986757026458875),\n",
       " ('previous-default-housing-contact-age_bin-categorical', 35.88005190185878),\n",
       " ('previous-default-housing-contact-categorical', 35.86703806723135),\n",
       " ('previous-default-contact-categorical', 35.663251044033025),\n",
       " ('previous-job-marital-education-contact-age_bin-categorical',\n",
       "  35.53311222677192),\n",
       " ('previous-job-education-loan-contact-age_bin-categorical',\n",
       "  35.46377977849031),\n",
       " ('major_purch_opportu', 35.39783376075027),\n",
       " ('previous-default-contact-age_bin-categorical', 35.35700240296587),\n",
       " ('previous-marital-education-loan-contact-categorical', 35.039528657654664),\n",
       " ('previous-marital-default-housing-loan-contact-age_bin-categorical',\n",
       "  35.03540336747407),\n",
       " ('campaign-marital-default-contact-categorical', 34.68563250020508),\n",
       " ('campaign-job-education-contact-categorical', 34.65545755447047),\n",
       " ('campaign-default-loan-contact-age_bin-categorical', 34.65156038796772),\n",
       " ('previous-marital-default-contact-age_bin-categorical', 34.63099188961646),\n",
       " ('campaign-job-marital-education-default-contact-categorical',\n",
       "  34.426142003007676),\n",
       " ('campaign-education-default-loan-contact-age_bin-categorical',\n",
       "  34.38693712886464),\n",
       " ('previous-job-marital-education-default-loan-age_bin-categorical',\n",
       "  34.18634482125579),\n",
       " ('previous-marital-education-housing-loan-contact-categorical',\n",
       "  34.157662829012224),\n",
       " ('previous-marital-default-housing-contact-age_bin-categorical',\n",
       "  34.024731625762506),\n",
       " ('previous-job-education-housing-contact-categorical', 34.0103583584054),\n",
       " ('campaign-default-contact-categorical', 33.86509995092415),\n",
       " ('previous-marital-education-contact-age_bin-categorical', 33.68473408785953),\n",
       " ('previous-marital-education-contact-categorical', 33.48898277479984),\n",
       " ('campaign-education-contact-age_bin-categorical', 32.942552313829616),\n",
       " ('previous-marital-loan-contact-age_bin-categorical', 32.92530484920083),\n",
       " ('previous-marital-housing-contact-categorical', 32.88050201898488),\n",
       " ('previous-job-contact-age_bin-categorical', 32.85266912232442),\n",
       " ('major_purch_opportu-rolling-avg-45', 32.7445264331882),\n",
       " ('campaign-marital-education-housing-contact-categorical', 32.7407628217673),\n",
       " ('campaign-job-marital-education-default-contact-age_bin-categorical',\n",
       "  32.73485196103839),\n",
       " ('campaign-education-contact-categorical', 32.6995185136167),\n",
       " ('campaign-contact-age_bin-categorical', 32.67499029972027),\n",
       " ('previous-marital-loan-contact-categorical', 32.64890970410849),\n",
       " ('previous-marital-housing-loan-contact-categorical', 32.592561816708894),\n",
       " ('major_purch_opportu-rolling-avg-90', 32.4493596807347),\n",
       " ('campaign-job-marital-loan-contact-categorical', 32.407108876952606),\n",
       " ('campaign-education-loan-contact-age_bin-categorical', 32.3854288598373),\n",
       " ('Investment', 32.25250329425493),\n",
       " ('previous-job-loan-contact-age_bin-categorical', 32.248420722110886),\n",
       " ('emp.var.rate', 32.241013755425904),\n",
       " ('campaign-job-default-loan-contact-categorical', 32.01220425042673),\n",
       " ('previous-education-loan-contact-age_bin-categorical', 31.964379710227675),\n",
       " ('campaign-marital-default-loan-contact-categorical', 31.914025758098266),\n",
       " ('campaign-job-education-default-loan-contact-age_bin-categorical',\n",
       "  31.864739584667166),\n",
       " ('previous-job-marital-education-housing-contact-age_bin-categorical',\n",
       "  31.856911501589792),\n",
       " ('campaign-marital-default-housing-contact-categorical', 31.834165987647147),\n",
       " ('previous-marital-education-housing-contact-categorical',\n",
       "  31.820088586836203),\n",
       " ('previous-job-housing-loan-contact-age_bin-categorical', 31.755954935601416),\n",
       " ('campaign-job-marital-education-default-loan-contact-age_bin-categorical',\n",
       "  31.465963757396505),\n",
       " ('previous-marital-contact-categorical', 31.217028448364843),\n",
       " ('campaign-marital-education-default-contact-categorical', 31.15496352556221),\n",
       " ('previous-job-housing-contact-age_bin-categorical', 31.04475378708457),\n",
       " ('campaign-job-default-housing-contact-categorical', 30.9851461415125),\n",
       " ('campaign-default-housing-contact-categorical', 30.886941976775002),\n",
       " ('campaign-job-marital-default-housing-contact-age_bin-categorical',\n",
       "  30.87230722189609),\n",
       " ('previous-education-contact-age_bin-categorical', 30.809129718138863),\n",
       " ('previous-loan-contact-age_bin-categorical', 30.782902925985216),\n",
       " ('campaign-job-marital-housing-loan-contact-categorical', 30.73980619626567),\n",
       " ('previous-job-marital-education-housing-loan-contact-age_bin-categorical',\n",
       "  30.71343121380031),\n",
       " ('campaign-job-marital-education-housing-loan-contact-categorical',\n",
       "  30.70349971049967),\n",
       " ('campaign-loan-contact-age_bin-categorical', 30.702752440548256),\n",
       " ('campaign-job-marital-education-housing-contact-age_bin-categorical',\n",
       "  30.68702502484928),\n",
       " ('campaign-marital-education-contact-categorical', 30.491388805996728),\n",
       " ('previous-marital-education-housing-loan-contact-age_bin-categorical',\n",
       "  30.356262331509566),\n",
       " ('previous-housing-contact-age_bin-categorical', 30.301696091661565),\n",
       " ('previous-housing-loan-contact-age_bin-categorical', 30.258548785458512),\n",
       " ('campaign-default-loan-contact-categorical', 30.206983185431394),\n",
       " ('campaign-job-education-default-housing-loan-contact-age_bin-categorical',\n",
       "  30.12248026694585),\n",
       " ('previous-marital-contact-age_bin-categorical', 29.861139692047356),\n",
       " ('previous-loan-contact-categorical', 29.853839400880684),\n",
       " ('campaign-job-marital-contact-age_bin-categorical', 29.77366953827828),\n",
       " ('campaign-job-marital-education-default-housing-loan-contact-categorical',\n",
       "  29.74563362670419),\n",
       " ('previous-marital-education-housing-contact-age_bin-categorical',\n",
       "  29.711772371153728),\n",
       " ('campaign-job-default-housing-contact-age_bin-categorical',\n",
       "  29.708999605177763),\n",
       " ('campaign-job-marital-education-default-housing-contact-age_bin-categorical',\n",
       "  29.6101586219492),\n",
       " ('campaign-education-default-housing-contact-categorical', 29.58820029539357),\n",
       " ('campaign-job-education-contact-age_bin-categorical', 29.561772235517907),\n",
       " ('campaign-job-marital-default-housing-loan-contact-categorical',\n",
       "  29.55109932627347),\n",
       " ('previous-education-housing-loan-contact-age_bin-categorical',\n",
       "  29.54450500297185),\n",
       " ('previous-housing-contact-categorical', 29.466859173982957),\n",
       " ('campaign-job-marital-housing-contact-categorical', 29.445685260610425),\n",
       " ('previous-contact-age_bin-categorical', 29.389921086867272),\n",
       " ('campaign-education-housing-contact-age_bin-categorical', 29.35764484264354),\n",
       " ('contact-categorical_1', 29.286976521862606),\n",
       " ('campaign-default-housing-loan-contact-age_bin-categorical',\n",
       "  29.27669023441342),\n",
       " ('campaign-marital-default-housing-loan-contact-categorical',\n",
       "  29.269867004409846),\n",
       " ('previous-housing-loan-contact-categorical', 29.224177032461235),\n",
       " ('campaign-marital-education-default-housing-contact-categorical',\n",
       "  29.210800996546922),\n",
       " ('previous-job-education-housing-loan-contact-age_bin-categorical',\n",
       "  29.165856790376186),\n",
       " ('previous-marital-housing-contact-age_bin-categorical', 29.144607846279786),\n",
       " ('campaign-job-default-housing-loan-contact-categorical', 29.07922227149427),\n",
       " ('previous-education-contact-categorical', 29.01944254551514),\n",
       " ('previous-education-housing-contact-age_bin-categorical',\n",
       "  28.974888526936546),\n",
       " ('campaign-marital-contact-categorical', 28.92702212099714),\n",
       " ('campaign-job-marital-default-loan-contact-age_bin-categorical',\n",
       "  28.926518959569577),\n",
       " ('campaign-job-marital-education-contact-categorical', 28.89550370150155),\n",
       " ('campaign-education-housing-contact-categorical', 28.88249516003939),\n",
       " ('previous-job-education-housing-contact-age_bin-categorical',\n",
       "  28.7825546173927),\n",
       " ('campaign-job-marital-education-default-loan-contact-categorical',\n",
       "  28.528986551689183),\n",
       " ('major_purch_expect', 28.488660735072525),\n",
       " ('previous-marital-housing-loan-contact-age_bin-categorical',\n",
       "  28.1800279306007),\n",
       " ('campaign-housing-contact-age_bin-categorical', 28.169229564779453),\n",
       " ('campaign-job-marital-housing-loan-contact-age_bin-categorical',\n",
       "  28.138851190232355),\n",
       " ('campaign-job-default-loan-contact-age_bin-categorical', 28.062082475532577),\n",
       " ('previous-job-marital-education-default-housing-loan-age_bin-categorical',\n",
       "  28.024693172905987),\n",
       " ('campaign-job-education-housing-contact-categorical', 28.01681787332436),\n",
       " ('campaign-job-marital-education-loan-contact-age_bin-categorical',\n",
       "  27.98948083214817),\n",
       " ('campaign-job-education-default-housing-loan-contact-categorical',\n",
       "  27.685667039480315),\n",
       " ('previous-education-housing-loan-contact-categorical', 27.66824427532545),\n",
       " ('campaign-marital-housing-loan-contact-age_bin-categorical',\n",
       "  27.636482231584523),\n",
       " ('campaign-job-marital-education-contact-age_bin-categorical',\n",
       "  27.525675969791997),\n",
       " ('previous-education-housing-contact-categorical', 27.514805263799964),\n",
       " ('campaign-default-housing-loan-contact-categorical', 27.49214792594661),\n",
       " ('previous-education-loan-contact-categorical', 27.456471572184398),\n",
       " ('financial_past-rolling-avg-90', 27.31222856224765),\n",
       " ('campaign-education-loan-contact-categorical', 27.298749781522403),\n",
       " ('financial_past', 27.149060874063046),\n",
       " ('campaign-marital-housing-contact-categorical', 27.034060642825835),\n",
       " ('campaign-education-default-housing-contact-age_bin-categorical',\n",
       "  27.02861049740633),\n",
       " ('financial_past-rolling-avg-45', 26.961177623288997),\n",
       " ('Current account balance', 26.62943862097372),\n",
       " ('campaign-job-marital-loan-contact-age_bin-categorical', 26.597237674205928),\n",
       " ('campaign-marital-default-loan-contact-age_bin-categorical',\n",
       "  26.57213626820882),\n",
       " ('campaign-job-education-default-housing-contact-categorical',\n",
       "  26.55570134957828),\n",
       " ('campaign-marital-loan-contact-age_bin-categorical', 26.400816791080356),\n",
       " ('campaign-job-marital-education-housing-contact-categorical',\n",
       "  26.32815791771289),\n",
       " ('campaign-loan-contact-categorical', 26.232146118460108),\n",
       " ('campaign-marital-default-contact-age_bin-categorical', 26.20320492005934),\n",
       " ('campaign-housing-contact-categorical', 26.17416948398121),\n",
       " ('campaign-marital-default-housing-contact-age_bin-categorical',\n",
       "  26.1327697158867),\n",
       " ('campaign-job-marital-housing-contact-age_bin-categorical',\n",
       "  26.098678988853145),\n",
       " ('campaign-job-education-housing-loan-contact-age_bin-categorical',\n",
       "  26.014139383336026),\n",
       " ('Government expenditure', 26.010899946689925),\n",
       " ('major_purch_expect-rolling-avg-90', 25.9626970981486),\n",
       " ('major_purch_expect-rolling-avg-45', 25.81009135755885),\n",
       " ('campaign-housing-loan-contact-age_bin-categorical', 25.692415993187872),\n",
       " ('campaign-marital-housing-loan-contact-categorical', 25.65916816657862),\n",
       " ('campaign-marital-loan-contact-categorical', 25.609661539414112),\n",
       " ('campaign-job-education-loan-contact-categorical', 25.52452634954076),\n",
       " ('Business credit', 25.49133573267126),\n",
       " ('campaign-job-marital-education-loan-contact-categorical',\n",
       "  25.39336687015811),\n",
       " ('previous-job-marital-education-default-loan-categorical',\n",
       "  25.226265697315238),\n",
       " ('campaign-education-default-housing-loan-contact-categorical',\n",
       "  25.046020850853658),\n",
       " ('campaign-housing-loan-contact-categorical', 24.94718022427625),\n",
       " ('campaign-job-education-housing-loan-contact-categorical',\n",
       "  24.792890885562503),\n",
       " ('campaign-marital-default-housing-loan-contact-age_bin-categorical',\n",
       "  24.76633339761625),\n",
       " ('campaign-marital-education-housing-loan-contact-categorical',\n",
       "  24.406858616069236),\n",
       " ('campaign-marital-contact-age_bin-categorical', 24.11706283302546),\n",
       " ('campaign-job-marital-default-housing-loan-contact-age_bin-categorical',\n",
       "  24.108137115786917),\n",
       " ('campaign-marital-housing-contact-age_bin-categorical', 24.066639479842582),\n",
       " ('campaign-marital-education-contact-age_bin-categorical',\n",
       "  23.982777498497025),\n",
       " ('campaign-job-marital-education-default-housing-contact-categorical',\n",
       "  23.906268379236643),\n",
       " ('campaign-marital-education-default-loan-contact-categorical',\n",
       "  23.88830299719615),\n",
       " ('campaign-job-education-loan-contact-age_bin-categorical',\n",
       "  23.844823565331044),\n",
       " ('previous-job-marital-education-default-age_bin-categorical',\n",
       "  23.8372746208322),\n",
       " ('campaign-marital-education-default-housing-loan-contact-categorical',\n",
       "  23.778010747840206),\n",
       " ('campaign-job-education-housing-contact-age_bin-categorical',\n",
       "  23.754217010267453),\n",
       " ('previous-job-marital-education-default-housing-age_bin-categorical',\n",
       "  23.431224217677094),\n",
       " ('campaign-marital-education-loan-contact-categorical', 23.13058479885501),\n",
       " ('campaign-marital-education-loan-contact-age_bin-categorical',\n",
       "  22.919189889726578),\n",
       " ('campaign-job-education-default-housing-contact-age_bin-categorical',\n",
       "  22.599206211779496),\n",
       " ('campaign-education-default-housing-loan-contact-age_bin-categorical',\n",
       "  22.269274902085858),\n",
       " ('campaign-marital-education-housing-contact-age_bin-categorical',\n",
       "  22.083914934850675),\n",
       " ('campaign-education-housing-loan-contact-age_bin-categorical',\n",
       "  21.835091946304576),\n",
       " ('campaign-job-default-housing-loan-contact-age_bin-categorical',\n",
       "  21.811952719479187),\n",
       " ('campaign-job-marital-education-housing-loan-age_bin-categorical',\n",
       "  21.494230826217514),\n",
       " ('previous-job-marital-education-default-housing-loan-categorical',\n",
       "  21.368894341398153),\n",
       " ('campaign-education-housing-loan-contact-categorical', 21.13488492564671),\n",
       " ('previous-job-marital-default-loan-categorical', 21.08484886058374),\n",
       " ('campaign-job-marital-education-default-housing-loan-age_bin-categorical',\n",
       "  21.035552833260507),\n",
       " ('Exports', 20.844294687143364),\n",
       " ('Budget balance', 20.796354841284273),\n",
       " ('previous-job-education-default-loan-age_bin-categorical',\n",
       "  20.459879457860197),\n",
       " ('previous-job-education-default-loan-categorical', 20.26206854560915),\n",
       " ('campaign-marital-education-default-contact-age_bin-categorical',\n",
       "  20.191536243754435),\n",
       " ('previous-job-education-default-housing-loan-categorical',\n",
       "  19.78896746656421),\n",
       " ('campaign-marital-education-housing-loan-contact-age_bin-categorical',\n",
       "  19.75486942921119),\n",
       " ('ind_turnover', 19.6162932437688),\n",
       " ('previous-job-marital-education-loan-age_bin-categorical',\n",
       "  19.310739198968268),\n",
       " ('campaign-job-marital-education-default-loan-age_bin-categorical',\n",
       "  19.111077449862815),\n",
       " ('previous-job-marital-default-loan-age_bin-categorical', 18.881206457929135),\n",
       " ('previous-job-marital-default-housing-loan-categorical', 18.6863037506791),\n",
       " ('ind_turnover-rolling-avg-45', 18.66071005229694),\n",
       " ('previous-job-education-default-housing-loan-age_bin-categorical',\n",
       "  18.346405797802433),\n",
       " ('previous-marital-education-default-loan-age_bin-categorical',\n",
       "  18.242185155105823),\n",
       " ('ind_turnover-rolling-avg-90', 18.08305984687677),\n",
       " ('campaign-job-education-default-loan-categorical', 18.007514080949555),\n",
       " ('previous-job-education-default-age_bin-categorical', 17.66790495634611),\n",
       " ('previous-job-default-loan-categorical', 17.618576994108707),\n",
       " ('previous-job-marital-education-default-housing-categorical',\n",
       "  17.569695548708903),\n",
       " ('previous-job-marital-default-categorical', 17.558608495425),\n",
       " ('previous', 17.553705940451582),\n",
       " ('previous-job-marital-education-default-categorical', 17.487797492944377),\n",
       " ('previous-job-marital-default-age_bin-categorical', 17.466362146764165),\n",
       " ('savings_expect', 17.334001260711194),\n",
       " ('previous-job-marital-education-housing-loan-age_bin-categorical',\n",
       "  16.980082248901855),\n",
       " ('previous-job-marital-default-housing-age_bin-categorical',\n",
       "  16.873094707095326),\n",
       " ('campaign-marital-education-default-housing-contact-age_bin-categorical',\n",
       "  16.806634286462703),\n",
       " ('previous-job-marital-default-housing-categorical', 16.745049857755532),\n",
       " ('campaign-job-default-categorical', 16.450058418050812),\n",
       " ('previous-job-education-default-categorical', 16.381956229799396),\n",
       " ('household_debt_ratio', 16.276000252619657),\n",
       " ('campaign-job-education-default-loan-age_bin-categorical', 16.2725498887075),\n",
       " ('previous-job-default-age_bin-categorical', 16.051449638691405),\n",
       " ('previous-job-default-housing-loan-categorical', 15.997953572501954),\n",
       " ('campaign-job-education-default-categorical', 15.897459096738404),\n",
       " ('campaign-marital-education-default-loan-contact-age_bin-categorical',\n",
       "  15.742826221824016),\n",
       " ('previous-job-default-loan-age_bin-categorical', 15.703678616879422),\n",
       " ('month', 15.499389185709882),\n",
       " ('previous-job-default-categorical', 15.411416206918966),\n",
       " ('Consumption as percent of GDP', 15.271177607202787),\n",
       " ('savings_expect-rolling-avg-45', 15.202893800059678),\n",
       " ('savings_expect-rolling-avg-90', 15.095899695364993),\n",
       " ('previous-job-marital-default-housing-loan-age_bin-categorical',\n",
       "  15.066655103290387),\n",
       " ('campaign-job-marital-default-categorical', 14.990012743462424),\n",
       " ('household_debt_ratio-rolling-avg-90', 14.912271859095021),\n",
       " ('campaign-job-marital-education-default-age_bin-categorical',\n",
       "  14.868265328477259),\n",
       " ('previous-job-default-housing-categorical', 14.854298942095625),\n",
       " ('household_debt_ratio-rolling-avg-45', 14.743332142573687),\n",
       " ('previous-marital-education-default-housing-loan-age_bin-categorical',\n",
       "  14.646877150783766),\n",
       " ('previous-job-education-default-housing-age_bin-categorical',\n",
       "  14.503099517455258),\n",
       " ('previous-job-default-housing-age_bin-categorical', 14.442689056288033),\n",
       " ('campaign-marital-education-default-housing-loan-contact-age_bin-categorical',\n",
       "  14.206847344778936),\n",
       " ('previous-job-default-housing-loan-age_bin-categorical', 14.11420550709808),\n",
       " ('previous-job-marital-education-loan-categorical', 13.928112534486543),\n",
       " ('campaign-job-marital-default-loan-categorical', 13.895210432266532),\n",
       " ('previous-job-education-default-housing-categorical', 13.795601684284522),\n",
       " ('campaign-job-marital-education-default-loan-categorical',\n",
       "  13.745434805483182),\n",
       " ('previous-job-marital-housing-age_bin-categorical', 13.298444185406884),\n",
       " ('campaign-job-marital-education-default-categorical', 13.184139611624575),\n",
       " ('campaign-job-marital-education-default-housing-loan-categorical',\n",
       "  13.057806425880528),\n",
       " ('previous-job-marital-loan-categorical', 12.961075740908543),\n",
       " ('campaign-job-education-default-housing-loan-age_bin-categorical',\n",
       "  12.890751331454913),\n",
       " ('campaign-job-marital-education-housing-loan-categorical',\n",
       "  12.66891064358007),\n",
       " ('Consumer credit', 12.584272928154897),\n",
       " ('previous-job-marital-education-housing-age_bin-categorical',\n",
       "  12.545162944231354),\n",
       " ('previous-marital-education-default-age_bin-categorical',\n",
       "  12.538445289059908),\n",
       " ('campaign-job-marital-education-loan-age_bin-categorical',\n",
       "  12.500417430749605),\n",
       " ('unempl_expect-rolling-avg-90', 12.481687558601514),\n",
       " ('previous-job-marital-education-housing-loan-categorical',\n",
       "  12.45345263802928),\n",
       " ('campaign-job-marital-categorical', 12.450283381938164),\n",
       " ('previous-job-marital-education-age_bin-categorical', 12.411251515735971),\n",
       " ('unempl_expect', 12.390412937297112),\n",
       " ('campaign-job-default-age_bin-categorical', 12.30638308135044),\n",
       " ('previous-marital-education-default-housing-age_bin-categorical',\n",
       "  12.290783500408109),\n",
       " ('previous-job-marital-age_bin-categorical', 12.279561210312078),\n",
       " ('previous-job-marital-housing-loan-categorical', 12.260373691917161),\n",
       " ('previous-marital-education-loan-age_bin-categorical', 12.256402712200456),\n",
       " ('unempl_expect-rolling-avg-45', 12.162504636637282),\n",
       " ('campaign-job-default-housing-loan-categorical', 12.099920212464859),\n",
       " ('campaign-job-education-housing-loan-age_bin-categorical',\n",
       "  12.013331674022727),\n",
       " ('previous-job-marital-loan-age_bin-categorical', 11.995007514920173),\n",
       " ('previous-marital-default-loan-age_bin-categorical', 11.969221440387766),\n",
       " ('campaign-job-default-loan-categorical', 11.845041739728211),\n",
       " ('campaign-job-education-default-age_bin-categorical', 11.727668276181857),\n",
       " ('campaign-job-default-housing-categorical', 11.72528277948513),\n",
       " ('campaign-job-marital-education-default-housing-age_bin-categorical',\n",
       "  11.717823561930103),\n",
       " ('campaign-job-housing-loan-categorical', 11.429923563903955),\n",
       " ('previous-job-marital-housing-loan-age_bin-categorical', 11.364286158925504),\n",
       " ('previous-job-education-loan-age_bin-categorical', 11.206859145488906),\n",
       " ('campaign-education-default-age_bin-categorical', 11.203060906211102),\n",
       " ('campaign-job-marital-education-housing-age_bin-categorical',\n",
       "  11.093617093128247),\n",
       " ('previous-job-education-age_bin-categorical', 10.966278976204105),\n",
       " ('campaign-job-marital-default-housing-categorical', 10.901559480279259),\n",
       " ('previous-job-marital-housing-categorical', 10.591110837168914),\n",
       " ('Inflation annual', 10.548793682365089),\n",
       " ('previous-job-education-housing-loan-age_bin-categorical',\n",
       "  10.536742645918265),\n",
       " ('previous-default-loan-age_bin-categorical', 10.50268381607544),\n",
       " ('previous-job-marital-categorical', 10.484428434667493),\n",
       " ('campaign-job-marital-education-housing-categorical', 10.340797742744705),\n",
       " ('campaign-job-age_bin-categorical', 10.287447990213074),\n",
       " ('campaign-job-loan-categorical', 10.14878127361833),\n",
       " ('campaign-job-marital-education-age_bin-categorical', 10.112738579375492),\n",
       " ('previous-marital-default-age_bin-categorical', 10.06814324813021),\n",
       " ('previous-marital-education-default-loan-categorical', 10.065217534921137),\n",
       " ('previous-default-housing-loan-age_bin-categorical', 9.971201719735905),\n",
       " ('campaign-job-education-default-housing-loan-categorical',\n",
       "  9.955864733723383),\n",
       " ('previous-default-age_bin-categorical', 9.944901235282652),\n",
       " ('campaign-job-loan-age_bin-categorical', 9.932763343347688),\n",
       " ('campaign-job-marital-education-default-housing-categorical',\n",
       "  9.907563400155412),\n",
       " ('campaign-job-marital-education-categorical', 9.740343048727809),\n",
       " ('previous-job-marital-education-housing-categorical', 9.622868537081198),\n",
       " ('campaign-job-marital-education-loan-categorical', 9.604744165399842),\n",
       " ('previous-marital-default-housing-loan-age_bin-categorical',\n",
       "  9.597067207549594),\n",
       " ('campaign-default-age_bin-categorical', 9.556216351812886),\n",
       " ('previous-job-marital-education-categorical', 9.491112785478975),\n",
       " ('campaign-job-marital-loan-categorical', 9.254599052068393),\n",
       " ('campaign-job-marital-housing-loan-categorical', 9.240874288159096),\n",
       " ('campaign-job-marital-default-housing-loan-categorical', 9.216683119662951),\n",
       " ('previous-default-housing-age_bin-categorical', 9.198619857066989),\n",
       " ('campaign-job-education-loan-age_bin-categorical', 9.10229770951376),\n",
       " ('previous-education-default-loan-age_bin-categorical', 8.748849447657859),\n",
       " ('campaign-job-education-default-housing-categorical', 8.738007698803823),\n",
       " ('previous-education-default-housing-loan-age_bin-categorical',\n",
       "  8.688601915191944),\n",
       " ('previous-marital-education-default-categorical', 8.672994477269942),\n",
       " ('campaign-job-education-housing-age_bin-categorical', 8.61044711485303),\n",
       " ('job-categorical_8', 8.580080944437485),\n",
       " ('campaign-default-loan-age_bin-categorical', 8.536212070455484),\n",
       " ('previous-job-education-housing-loan-categorical', 8.525617366501129),\n",
       " ('campaign-job-housing-loan-age_bin-categorical', 8.462307607906464),\n",
       " ('previous-marital-default-housing-age_bin-categorical', 8.460898053238795),\n",
       " ('campaign-job-education-categorical', 8.413545657916455),\n",
       " ('campaign-education-default-categorical', 8.380152190436723),\n",
       " ('previous-job-education-loan-categorical', 8.308485480509958),\n",
       " ('campaign-job-education-age_bin-categorical', 8.114810471046527),\n",
       " ('previous-education-default-age_bin-categorical', 7.987118445088658),\n",
       " ('previous-job-age_bin-categorical', 7.939311476241772),\n",
       " ('previous-job-loan-categorical', 7.833905789239621),\n",
       " ('previous-marital-education-default-housing-loan-categorical',\n",
       "  7.811592601029439),\n",
       " ('job-categorical_9', 7.779006792734049),\n",
       " ('previous-job-education-housing-age_bin-categorical', 7.715688775725699),\n",
       " ('campaign-job-housing-categorical', 7.6392163011844225),\n",
       " ('previous-education-default-housing-age_bin-categorical', 7.598766733757909),\n",
       " ('campaign-job-education-loan-categorical', 7.520713830020317),\n",
       " ('previous-job-education-categorical', 7.410735623364221),\n",
       " ('previous-marital-education-housing-loan-age_bin-categorical',\n",
       "  7.369923955925169),\n",
       " ('previous-job-housing-loan-age_bin-categorical', 7.366670219626904),\n",
       " ('previous-job-loan-age_bin-categorical', 7.3521516951153245),\n",
       " ('previous-marital-loan-age_bin-categorical', 7.34704744340148),\n",
       " ('campaign-job-default-loan-age_bin-categorical', 7.2878153448679495),\n",
       " ('previous-job-housing-age_bin-categorical', 7.232209669234746),\n",
       " ('campaign-job-marital-housing-loan-age_bin-categorical', 7.206502029874118),\n",
       " ('previous-job-housing-loan-categorical', 7.120222023374936),\n",
       " ('job-categorical_1', 6.95272414161787),\n",
       " ('campaign-education-default-loan-age_bin-categorical', 6.874636846336486),\n",
       " ('previous-marital-default-categorical', 6.814713693953319),\n",
       " ('Investment growth', 6.7414792613011025),\n",
       " ('previous-marital-default-loan-categorical', 6.724676116033642),\n",
       " ('campaign-job-education-default-housing-age_bin-categorical',\n",
       "  6.628354291069571),\n",
       " ('education-categorical_6', 6.582606625104329),\n",
       " ('campaign-job-marital-default-loan-age_bin-categorical', 6.55597346309116),\n",
       " ('previous-marital-education-default-housing-categorical', 6.414811403943669),\n",
       " ('job-categorical_5', 6.355491586030045),\n",
       " ('previous-marital-education-age_bin-categorical', 6.351345911094251),\n",
       " ('campaign-job-housing-age_bin-categorical', 6.293320021473365),\n",
       " ('previous-marital-default-housing-loan-categorical', 6.229853173330346),\n",
       " ('previous-job-housing-categorical', 6.0803154666272174),\n",
       " ('Household consumption', 6.014598579109615),\n",
       " ('campaign-job-default-housing-age_bin-categorical', 5.906113817009653),\n",
       " ('previous-marital-age_bin-categorical', 5.852070985794508),\n",
       " ('previous-marital-default-housing-categorical', 5.702105151136813),\n",
       " ('campaign-marital-education-default-housing-categorical', 5.669296407895372),\n",
       " ('old_prospect', 5.604791475727865),\n",
       " ('previous-marital-education-housing-age_bin-categorical', 5.593102349403129),\n",
       " ('previous-education-default-categorical', 5.570437350067995),\n",
       " ('default-categorical_1', 5.531465177682301),\n",
       " ('campaign-default-housing-age_bin-categorical', 5.488208722830167),\n",
       " ('campaign-job-marital-loan-age_bin-categorical', 5.360177789359253),\n",
       " ('previous-job-education-housing-categorical', 5.304081305117239),\n",
       " ('campaign-job-marital-housing-categorical', 5.142909229955038),\n",
       " ('previous-default-loan-categorical', 5.109814695636034),\n",
       " ('campaign-marital-default-loan-age_bin-categorical', 4.846663550224732),\n",
       " ('previous-marital-housing-age_bin-categorical', 4.75897523744518),\n",
       " ('previous-marital-housing-loan-age_bin-categorical', 4.751086517725095),\n",
       " ('campaign-education-default-loan-categorical', 4.714184079110605),\n",
       " ('previous-education-default-loan-categorical', 4.669118231162034),\n",
       " ('previous-loan-age_bin-categorical', 4.5278054421378355),\n",
       " ('campaign-job-education-housing-categorical', 4.4856889808226965),\n",
       " ('campaign-job-marital-default-age_bin-categorical', 4.2798322911730216),\n",
       " ('previous-education-default-housing-loan-categorical', 4.050011660540317),\n",
       " ('campaign-job-default-housing-loan-age_bin-categorical', 3.9955203557252603),\n",
       " ('previous-default-housing-loan-categorical', 3.9947527501318443),\n",
       " ('campaign-job-marital-default-housing-loan-age_bin-categorical',\n",
       "  3.9664090901615263),\n",
       " ('campaign-loan-age_bin-categorical', 3.949488029148217),\n",
       " ('campaign-education-default-housing-age_bin-categorical',\n",
       "  3.9425974363988368),\n",
       " ('campaign-education-housing-loan-categorical', 3.9387153101298704),\n",
       " ('previous-default-housing-categorical', 3.921440713347868),\n",
       " ('previous-education-default-housing-categorical', 3.870539711827824),\n",
       " ('previous-education-housing-categorical', 3.8204125761818397),\n",
       " ('campaign-default-loan-categorical', 3.741629204541386),\n",
       " ('campaign-job-marital-default-housing-age_bin-categorical',\n",
       "  3.6890923780419755),\n",
       " ('campaign-marital-default-loan-categorical', 3.625552523125817),\n",
       " ('campaign-marital-default-housing-loan-age_bin-categorical',\n",
       "  3.5601870309677515),\n",
       " ('marital-categorical_3', 3.533959860079459),\n",
       " ('campaign-marital-default-categorical', 3.503725648296659),\n",
       " ('campaign-marital-housing-loan-age_bin-categorical', 3.360239022696863),\n",
       " ('previous-education-housing-loan-categorical', 3.3320499332074633),\n",
       " ('previous-housing-age_bin-categorical', 3.253428786973491),\n",
       " ('previous-housing-loan-age_bin-categorical', 3.192822785542443),\n",
       " ('campaign-job-education-housing-loan-categorical', 3.181034596349381),\n",
       " ('previous-marital-loan-categorical', 3.1598630129109306),\n",
       " ('campaign-default-housing-loan-age_bin-categorical', 3.153912164349786),\n",
       " ('campaign-education-loan-categorical', 3.1101864619977526),\n",
       " ('previous-education-loan-categorical', 3.107037595383274),\n",
       " ('previous-housing-loan-categorical', 2.958740526622144),\n",
       " ('education-categorical_5', 2.956020247259998),\n",
       " ('campaign-education-default-housing-loan-age_bin-categorical',\n",
       "  2.8577804481479725),\n",
       " ('Exchange rate to USD', 2.854930629363514),\n",
       " ('campaign-education-default-housing-categorical', 2.85412545002797),\n",
       " ('campaign-marital-default-age_bin-categorical', 2.8535776030225666),\n",
       " ('previous-education-loan-age_bin-categorical', 2.8492668387179827),\n",
       " ('Consumption growth', 2.8082167897654435),\n",
       " ('cons.conf.idx', 2.751237650677068),\n",
       " ('age_bin-categorical_2', 2.723439356297009),\n",
       " ('campaign-marital-education-default-loan-age_bin-categorical',\n",
       "  2.6825800214642888),\n",
       " ('campaign-job-marital-age_bin-categorical', 2.6118423316287966),\n",
       " ('campaign-default-housing-categorical', 2.5414505609252314),\n",
       " ('campaign-marital-education-default-housing-age_bin-categorical',\n",
       "  2.5254989654372832),\n",
       " ('marital-categorical_2', 2.5109886865910216),\n",
       " ('campaign-education-housing-categorical', 2.492136623589668),\n",
       " ('previous-marital-education-loan-categorical', 2.450905764547557),\n",
       " ('campaign-marital-default-housing-age_bin-categorical', 2.4402605634222985),\n",
       " ('previous-education-housing-loan-age_bin-categorical', 2.4282068460238713),\n",
       " ('campaign-marital-education-default-housing-loan-age_bin-categorical',\n",
       "  2.42336809945245),\n",
       " ('previous-education-age_bin-categorical', 2.296140804157646),\n",
       " ('campaign-marital-education-default-categorical', 2.150085860588198),\n",
       " ('campaign-job-marital-housing-age_bin-categorical', 2.044952550443902),\n",
       " ('campaign-housing-loan-categorical', 2.017006136679861),\n",
       " ('previous-education-housing-age_bin-categorical', 1.953548261065971),\n",
       " ('housing-categorical_2', 1.9065105544927918),\n",
       " ('previous-marital-education-housing-loan-categorical', 1.7652552927127596),\n",
       " ('campaign-education-age_bin-categorical', 1.7495630379309726),\n",
       " ('age_bin-categorical_1', 1.7237160554566349),\n",
       " ('job-categorical_11', 1.7137103071537125),\n",
       " ('campaign-marital-education-housing-loan-age_bin-categorical',\n",
       "  1.6565753500915774),\n",
       " ('campaign-marital-default-housing-categorical', 1.6534867054571052),\n",
       " ('campaign-marital-education-default-housing-loan-categorical',\n",
       "  1.618518334345567),\n",
       " ('cons_conf', 1.6026092861393553),\n",
       " ('cons_conf-rolling-avg-45', 1.5410522308944874),\n",
       " ('campaign-education-loan-age_bin-categorical', 1.527230351097634),\n",
       " ('cons_conf-rolling-avg-90', 1.5253898765032186),\n",
       " ('campaign-marital-education-housing-categorical', 1.3716352335247046),\n",
       " ('education-categorical_1', 1.356423065344449),\n",
       " ('campaign-marital-education-default-loan-categorical', 1.3525452042985733),\n",
       " ('campaign-marital-loan-age_bin-categorical', 1.3114013895456114),\n",
       " ('previous-marital-housing-categorical', 1.298622365091813),\n",
       " ('previous-marital-housing-loan-categorical', 1.265529194943996),\n",
       " ('education-categorical_3', 1.245963220756081),\n",
       " ('previous-marital-education-categorical', 1.2354419422750564),\n",
       " ('age-rolling-sum-60', 1.218260940331838),\n",
       " ('age-rolling-avg-60', 1.218260940329054),\n",
       " ('job-categorical_10', 1.2066449913908488),\n",
       " ('campaign-marital-education-housing-age_bin-categorical',\n",
       "  1.2054197396476918),\n",
       " ('Consumer Price Index (CPI)', 1.2023317444676787),\n",
       " ('age-rolling-avg-10', 1.200946722646381),\n",
       " ('age-rolling-sum-10', 1.2009467226463275),\n",
       " ('cons.price.idx', 1.1623094940182708),\n",
       " ('campaign-default-housing-loan-categorical', 1.1617116284572082),\n",
       " ('Retail sales', 1.1614274217281042),\n",
       " ('campaign-marital-education-default-age_bin-categorical',\n",
       "  1.1192333025159413),\n",
       " ('campaign-marital-default-housing-loan-categorical', 1.0875422242333201),\n",
       " ('campaign-education-default-housing-loan-categorical', 1.0784969891720972),\n",
       " ('default-categorical_2', 1.071545666248955),\n",
       " ('job-categorical_3', 0.9923148807078381),\n",
       " ('housing-categorical_1', 0.9875733519031513),\n",
       " ('loan-categorical_1', 0.9875733519031513),\n",
       " ('campaign-marital-education-loan-categorical', 0.9829259997215691),\n",
       " ('education-categorical_2', 0.9527996615149553),\n",
       " ('campaign-housing-loan-age_bin-categorical', 0.8815060241577486),\n",
       " ('previous-marital-education-housing-categorical', 0.8025463386776496),\n",
       " ('campaign-marital-education-loan-age_bin-categorical', 0.7823094185673811),\n",
       " ('job-categorical_6', 0.7510614904478244),\n",
       " ('campaign-housing-age_bin-categorical', 0.7149311071672654),\n",
       " ('age_bin-categorical_3', 0.6793253724525662),\n",
       " ('marital-categorical_1', 0.6728783570145014),\n",
       " ('month_last_contact', 0.5607958359569988),\n",
       " ('job-categorical_2', 0.5574508231747944),\n",
       " ('campaign-marital-housing-age_bin-categorical', 0.5236964867061907),\n",
       " ('Economic growth', 0.47714667047425147),\n",
       " ('education-categorical_7', 0.4530413236453706),\n",
       " ('age-rolling-sum-30', 0.3153918890909849),\n",
       " ('age-rolling-avg-30', 0.3153918890905276),\n",
       " ('campaign-marital-education-categorical', 0.3094481571656305),\n",
       " ('campaign-marital-housing-categorical', 0.23990667197489918),\n",
       " ('campaign-education-housing-age_bin-categorical', 0.23866704945424058),\n",
       " ('campaign-education-housing-loan-age_bin-categorical', 0.21377800672962657),\n",
       " ('inflation_delta_expect', 0.1434380575667645),\n",
       " ('campaign-marital-loan-categorical', 0.11501796373038499),\n",
       " ('education-categorical_4', 0.0916053981729585),\n",
       " ('Gross Domestic Product (GDP)', 0.08237429315718257),\n",
       " ('job-categorical_4', 0.07047092081084726),\n",
       " ('inflation_delta_expect-rolling-avg-45', 0.06872628072707623),\n",
       " ('campaign-marital-education-age_bin-categorical', 0.06550139272637155),\n",
       " ('new_prospect', 0.04646553674476931),\n",
       " ('inflation_delta_expect-rolling-avg-90', 0.04432557009997007),\n",
       " ('age', 0.03086667168139963),\n",
       " ('campaign-marital-housing-loan-categorical', 0.020893829648223502),\n",
       " ('campaign-marital-age_bin-categorical', 0.010823381474542738),\n",
       " ('job-categorical_7', 0.0008353605362552548),\n",
       " ('loan-categorical_2', 0.0006048898740834548),\n",
       " ('campaign-marital-education-housing-loan-categorical',\n",
       "  0.0002753491889541692)]"
      ]
     },
     "execution_count": 11,
     "metadata": {},
     "output_type": "execute_result"
    }
   ],
   "source": [
    "best_cols"
   ]
  },
  {
   "cell_type": "code",
   "execution_count": 12,
   "metadata": {
    "collapsed": true
   },
   "outputs": [],
   "source": [
    "#among the top 70 indicators, many are economic indicators that are highly related to one another\n",
    "#to avoid redundancy we will pick only the top 10 economic indicators\n",
    "rfe_test1 = [i[0] for i in best_cols][:40]"
   ]
  },
  {
   "cell_type": "code",
   "execution_count": 13,
   "metadata": {},
   "outputs": [
    {
     "data": {
      "text/plain": [
       "(41188, 40)"
      ]
     },
     "execution_count": 13,
     "metadata": {},
     "output_type": "execute_result"
    }
   ],
   "source": [
    "X[rfe_test1].shape"
   ]
  },
  {
   "cell_type": "markdown",
   "metadata": {},
   "source": [
    "Feature Importances Via Decision Tree Regression"
   ]
  },
  {
   "cell_type": "code",
   "execution_count": 14,
   "metadata": {
    "collapsed": true
   },
   "outputs": [],
   "source": [
    "def scale_noncat_only(X):\n",
    "    \n",
    "    X_temp_noncat = X.select_dtypes(exclude=['int8'])\n",
    "    X_temp_noncat = X_temp_noncat.drop(X_temp_noncat.filter(regex=\"-categorical\").columns, axis=1)\n",
    "    \n",
    "    \n",
    "    scaler = preprocessing.StandardScaler().fit(X_temp_noncat)\n",
    "    X_transformed = pd.DataFrame(scaler.transform(X_temp_noncat), columns = X_temp_noncat.columns)\n",
    "    \n",
    "    X = X_transformed.merge(X, left_index=True, right_index=True, how='inner', suffixes=('', '_rightdf'))\n",
    "    X = X.drop(X.filter(regex=\"_rightdf\").columns, axis=1)\n",
    "    \n",
    "    return X"
   ]
  },
  {
   "cell_type": "code",
   "execution_count": 15,
   "metadata": {
    "collapsed": true
   },
   "outputs": [],
   "source": [
    "X_test1 = X[rfe_test1]"
   ]
  },
  {
   "cell_type": "code",
   "execution_count": 16,
   "metadata": {},
   "outputs": [
    {
     "name": "stderr",
     "output_type": "stream",
     "text": [
      "/Users/pauldefusco/anaconda2/envs/py36/lib/python3.6/site-packages/sklearn/preprocessing/data.py:625: DataConversionWarning: Data with input dtype int64, float64 were all converted to float64 by StandardScaler.\n",
      "  return self.partial_fit(X, y)\n",
      "/Users/pauldefusco/anaconda2/envs/py36/lib/python3.6/site-packages/ipykernel_launcher.py:8: DataConversionWarning: Data with input dtype int64, float64 were all converted to float64 by StandardScaler.\n",
      "  \n"
     ]
    }
   ],
   "source": [
    "X_test1 = scale_noncat_only(X_test1)"
   ]
  },
  {
   "cell_type": "code",
   "execution_count": 17,
   "metadata": {
    "collapsed": true
   },
   "outputs": [],
   "source": [
    "from sklearn.feature_selection import RFE, RFECV\n",
    "from sklearn.ensemble import RandomForestRegressor\n",
    "from sklearn.metrics import r2_score"
   ]
  },
  {
   "cell_type": "code",
   "execution_count": 18,
   "metadata": {
    "collapsed": true
   },
   "outputs": [],
   "source": [
    "def test_regression(X, y):\n",
    "    lr = LinearRegression()\n",
    "    lr.fit(X,y)\n",
    "    scores = cross_val_score(lr,X,y,cv=10, scoring = 'r2')\n",
    "    print('CV R2 : %.3f +/- %.3f' %(np.mean(scores), np.std(scores)))"
   ]
  },
  {
   "cell_type": "code",
   "execution_count": 19,
   "metadata": {
    "collapsed": true
   },
   "outputs": [],
   "source": [
    "X_train, X_test, y_train, y_test = train_test_split(X_test1,y, test_size = 0.20, random_state=4)"
   ]
  },
  {
   "cell_type": "code",
   "execution_count": 20,
   "metadata": {
    "collapsed": true
   },
   "outputs": [],
   "source": [
    "model = RandomForestRegressor(max_depth = 20, min_samples_split = 1000, random_state = 4)"
   ]
  },
  {
   "cell_type": "code",
   "execution_count": 21,
   "metadata": {},
   "outputs": [
    {
     "name": "stderr",
     "output_type": "stream",
     "text": [
      "/Users/pauldefusco/anaconda2/envs/py36/lib/python3.6/site-packages/sklearn/ensemble/forest.py:246: FutureWarning: The default value of n_estimators will change from 10 in version 0.20 to 100 in 0.22.\n",
      "  \"10 in version 0.20 to 100 in 0.22.\", FutureWarning)\n"
     ]
    },
    {
     "data": {
      "text/plain": [
       "RandomForestRegressor(bootstrap=True, criterion='mse', max_depth=20,\n",
       "           max_features='auto', max_leaf_nodes=None,\n",
       "           min_impurity_decrease=0.0, min_impurity_split=None,\n",
       "           min_samples_leaf=1, min_samples_split=1000,\n",
       "           min_weight_fraction_leaf=0.0, n_estimators=10, n_jobs=None,\n",
       "           oob_score=False, random_state=4, verbose=0, warm_start=False)"
      ]
     },
     "execution_count": 21,
     "metadata": {},
     "output_type": "execute_result"
    }
   ],
   "source": [
    "model.fit(X_train,y_train)"
   ]
  },
  {
   "cell_type": "code",
   "execution_count": 22,
   "metadata": {},
   "outputs": [
    {
     "data": {
      "text/plain": [
       "0.016742790411616193"
      ]
     },
     "execution_count": 22,
     "metadata": {},
     "output_type": "execute_result"
    }
   ],
   "source": [
    "r2_score(y_test, model.predict(X_test))"
   ]
  },
  {
   "cell_type": "code",
   "execution_count": 23,
   "metadata": {
    "collapsed": true
   },
   "outputs": [],
   "source": [
    "#Second test with less features\n",
    "rfe_test2 = [i[0] for i in best_cols][:20]\n",
    "X_test2 = X[rfe_test2]"
   ]
  },
  {
   "cell_type": "code",
   "execution_count": 24,
   "metadata": {},
   "outputs": [
    {
     "name": "stderr",
     "output_type": "stream",
     "text": [
      "/Users/pauldefusco/anaconda2/envs/py36/lib/python3.6/site-packages/sklearn/preprocessing/data.py:625: DataConversionWarning: Data with input dtype int64, float64 were all converted to float64 by StandardScaler.\n",
      "  return self.partial_fit(X, y)\n",
      "/Users/pauldefusco/anaconda2/envs/py36/lib/python3.6/site-packages/ipykernel_launcher.py:8: DataConversionWarning: Data with input dtype int64, float64 were all converted to float64 by StandardScaler.\n",
      "  \n"
     ]
    }
   ],
   "source": [
    "X_test2 = scale_noncat_only(X_test2)"
   ]
  },
  {
   "cell_type": "code",
   "execution_count": 25,
   "metadata": {
    "collapsed": true
   },
   "outputs": [],
   "source": [
    "X_train, X_test, y_train, y_test = train_test_split(X_test2,y, test_size = 0.20, random_state=4)"
   ]
  },
  {
   "cell_type": "code",
   "execution_count": 26,
   "metadata": {
    "collapsed": true
   },
   "outputs": [],
   "source": [
    "model = RandomForestRegressor(max_depth = 20, min_samples_split = 1000, random_state = 4)"
   ]
  },
  {
   "cell_type": "code",
   "execution_count": 27,
   "metadata": {},
   "outputs": [
    {
     "name": "stderr",
     "output_type": "stream",
     "text": [
      "/Users/pauldefusco/anaconda2/envs/py36/lib/python3.6/site-packages/sklearn/ensemble/forest.py:246: FutureWarning: The default value of n_estimators will change from 10 in version 0.20 to 100 in 0.22.\n",
      "  \"10 in version 0.20 to 100 in 0.22.\", FutureWarning)\n"
     ]
    },
    {
     "data": {
      "text/plain": [
       "RandomForestRegressor(bootstrap=True, criterion='mse', max_depth=20,\n",
       "           max_features='auto', max_leaf_nodes=None,\n",
       "           min_impurity_decrease=0.0, min_impurity_split=None,\n",
       "           min_samples_leaf=1, min_samples_split=1000,\n",
       "           min_weight_fraction_leaf=0.0, n_estimators=10, n_jobs=None,\n",
       "           oob_score=False, random_state=4, verbose=0, warm_start=False)"
      ]
     },
     "execution_count": 27,
     "metadata": {},
     "output_type": "execute_result"
    }
   ],
   "source": [
    "model.fit(X_train,y_train)"
   ]
  },
  {
   "cell_type": "code",
   "execution_count": 28,
   "metadata": {},
   "outputs": [
    {
     "data": {
      "text/plain": [
       "0.016912919525384873"
      ]
     },
     "execution_count": 28,
     "metadata": {},
     "output_type": "execute_result"
    }
   ],
   "source": [
    "r2_score(y_test, model.predict(X_test))"
   ]
  },
  {
   "cell_type": "code",
   "execution_count": 29,
   "metadata": {
    "collapsed": true
   },
   "outputs": [],
   "source": [
    "#loading df\n",
    "X, y, names = prep_df(final_df)"
   ]
  },
  {
   "cell_type": "code",
   "execution_count": 30,
   "metadata": {
    "collapsed": true
   },
   "outputs": [],
   "source": [
    "#Third test with less features\n",
    "rfe_test3 = [i[0] for i in best_cols][:70]\n",
    "X_test3 = X[rfe_test3]"
   ]
  },
  {
   "cell_type": "code",
   "execution_count": 31,
   "metadata": {},
   "outputs": [
    {
     "name": "stderr",
     "output_type": "stream",
     "text": [
      "/Users/pauldefusco/anaconda2/envs/py36/lib/python3.6/site-packages/sklearn/preprocessing/data.py:625: DataConversionWarning: Data with input dtype int64, float64 were all converted to float64 by StandardScaler.\n",
      "  return self.partial_fit(X, y)\n",
      "/Users/pauldefusco/anaconda2/envs/py36/lib/python3.6/site-packages/ipykernel_launcher.py:8: DataConversionWarning: Data with input dtype int64, float64 were all converted to float64 by StandardScaler.\n",
      "  \n"
     ]
    }
   ],
   "source": [
    "X_test3 = scale_noncat_only(X_test3)"
   ]
  },
  {
   "cell_type": "code",
   "execution_count": 32,
   "metadata": {
    "collapsed": true
   },
   "outputs": [],
   "source": [
    "X_train, X_test, y_train, y_test = train_test_split(X_test3,y, test_size = 0.20, random_state=4)"
   ]
  },
  {
   "cell_type": "code",
   "execution_count": 33,
   "metadata": {
    "collapsed": true
   },
   "outputs": [],
   "source": [
    "model = RandomForestRegressor(max_depth = 20, min_samples_split = 1000, random_state = 4)"
   ]
  },
  {
   "cell_type": "code",
   "execution_count": 34,
   "metadata": {},
   "outputs": [
    {
     "name": "stderr",
     "output_type": "stream",
     "text": [
      "/Users/pauldefusco/anaconda2/envs/py36/lib/python3.6/site-packages/sklearn/ensemble/forest.py:246: FutureWarning: The default value of n_estimators will change from 10 in version 0.20 to 100 in 0.22.\n",
      "  \"10 in version 0.20 to 100 in 0.22.\", FutureWarning)\n"
     ]
    },
    {
     "data": {
      "text/plain": [
       "RandomForestRegressor(bootstrap=True, criterion='mse', max_depth=20,\n",
       "           max_features='auto', max_leaf_nodes=None,\n",
       "           min_impurity_decrease=0.0, min_impurity_split=None,\n",
       "           min_samples_leaf=1, min_samples_split=1000,\n",
       "           min_weight_fraction_leaf=0.0, n_estimators=10, n_jobs=None,\n",
       "           oob_score=False, random_state=4, verbose=0, warm_start=False)"
      ]
     },
     "execution_count": 34,
     "metadata": {},
     "output_type": "execute_result"
    }
   ],
   "source": [
    "model.fit(X_train,y_train)"
   ]
  },
  {
   "cell_type": "code",
   "execution_count": 35,
   "metadata": {},
   "outputs": [
    {
     "data": {
      "text/plain": [
       "0.01978955349149969"
      ]
     },
     "execution_count": 35,
     "metadata": {},
     "output_type": "execute_result"
    }
   ],
   "source": [
    "r2_score(y_test, model.predict(X_test))"
   ]
  },
  {
   "cell_type": "markdown",
   "metadata": {
    "collapsed": true
   },
   "source": [
    "Too many predictors are monthly while call duration depends on specific customer interaction"
   ]
  },
  {
   "cell_type": "markdown",
   "metadata": {},
   "source": [
    "We give up regression methods as a way to predict call duration - will focus on autocorrelation models instead"
   ]
  },
  {
   "cell_type": "code",
   "execution_count": null,
   "metadata": {
    "collapsed": true
   },
   "outputs": [],
   "source": []
  },
  {
   "cell_type": "code",
   "execution_count": null,
   "metadata": {
    "collapsed": true
   },
   "outputs": [],
   "source": []
  },
  {
   "cell_type": "code",
   "execution_count": 37,
   "metadata": {
    "collapsed": true
   },
   "outputs": [],
   "source": [
    "from pandas.plotting import lag_plot"
   ]
  },
  {
   "cell_type": "code",
   "execution_count": 194,
   "metadata": {},
   "outputs": [
    {
     "data": {
      "text/plain": [
       "<matplotlib.axes._subplots.AxesSubplot at 0x1a2485db70>"
      ]
     },
     "execution_count": 194,
     "metadata": {},
     "output_type": "execute_result"
    },
    {
     "data": {
      "image/png": "[encoded data removed]",
      "text/plain": [
       "<Figure size 432x288 with 1 Axes>"
      ]
     },
     "metadata": {
      "needs_background": "light"
     },
     "output_type": "display_data"
    }
   ],
   "source": [
    "lag_plot(y, lag=50)"
   ]
  },
  {
   "cell_type": "code",
   "execution_count": 46,
   "metadata": {},
   "outputs": [],
   "source": [
    "oldp_idx = X[X['old_prospect']==1].index"
   ]
  },
  {
   "cell_type": "code",
   "execution_count": 208,
   "metadata": {},
   "outputs": [
    {
     "data": {
      "text/plain": [
       "<matplotlib.axes._subplots.AxesSubplot at 0x1a27d686d8>"
      ]
     },
     "execution_count": 208,
     "metadata": {},
     "output_type": "execute_result"
    },
    {
     "data": {
      "image/png": "[encoded data removed]",
      "text/plain": [
       "<Figure size 432x288 with 1 Axes>"
      ]
     },
     "metadata": {
      "needs_background": "light"
     },
     "output_type": "display_data"
    }
   ],
   "source": [
    "lag_plot(y[oldp_idx], alpha=0.1, lag=20)"
   ]
  },
  {
   "cell_type": "code",
   "execution_count": null,
   "metadata": {},
   "outputs": [],
   "source": [
    "import matplotlib.pyplot as plt\n",
    "lags = 9\n",
    "columns = [y]\n",
    "plt.figure(figsize=(12,12))\n",
    "\n",
    "for i in range(1,(lags + 1)):\n",
    "    columns.append(y.shift(i))\n",
    "\n",
    "dataframe = pd.concat(columns, axis=1) \n",
    "columns = ['t']\n",
    "\n",
    "for i in range(1,(lags + 1)):\n",
    "                              \n",
    "    columns.append('t-' + str(i)) \n",
    "\n",
    "dataframe.columns = columns \n",
    "\n",
    "for i in range(1,(lags + 1)):\n",
    "    ax = plt.subplot(260 + i)\n",
    "    ax.set_title('t vs t-' + str(i))\n",
    "    plt.scatter(x=dataframe['t'], y=dataframe['t-'+str(i)].values)\n",
    "pyplot.show()"
   ]
  },
  {
   "cell_type": "code",
   "execution_count": 131,
   "metadata": {
    "collapsed": true
   },
   "outputs": [],
   "source": [
    "final_df = pd.read_pickle('../data/pickle_files/final_df_pickle')\n",
    "##Old Prospect\n",
    "oldp_idx = final_df[final_df['old_prospect']==1].index\n",
    "y_oldprospect = y[oldp_idx]\n",
    "##New Prospect\n",
    "newp_idx = final_df[final_df['new_prospect']==1].index\n",
    "y_newprospect = y[newp_idx]\n",
    "##New Lead\n",
    "newl_idx = final_df[final_df['new_lead']==1].index\n",
    "y_newlead = y[newl_idx]"
   ]
  },
  {
   "cell_type": "code",
   "execution_count": 153,
   "metadata": {},
   "outputs": [
    {
     "name": "stdout",
     "output_type": "stream",
     "text": [
      "40688\n",
      "5125\n",
      "20272\n",
      "14291\n"
     ]
    }
   ],
   "source": [
    "lag = 500\n",
    "print(len(y)-lag)\n",
    "print(len(y_oldprospect)-lag)\n",
    "print(len(y_newprospect)-lag)\n",
    "print(len(y_newlead)-lag)"
   ]
  },
  {
   "cell_type": "code",
   "execution_count": 276,
   "metadata": {},
   "outputs": [
    {
     "data": {
      "image/png": "[encoded data removed]",
      "text/plain": [
       "<Figure size 720x432 with 1 Axes>"
      ]
     },
     "metadata": {
      "needs_background": "light"
     },
     "output_type": "display_data"
    }
   ],
   "source": [
    "from matplotlib import pyplot\n",
    "from pandas.plotting import autocorrelation_plot\n",
    "\n",
    "fig, ax = plt.subplots(figsize=(10,6))\n",
    "\n",
    "lag = 200\n",
    "autocorrelation_plot(y[len(y)-lag:], ax=ax, color='blue', label='Total Duration')\n",
    "#autocorrelation_plot(y_oldprospect[len(y_oldprospect)-lag:], ax=ax, color='blue', label='Old Prospet Duration')\n",
    "#autocorrelation_plot(y_newprospect[len(y_newprospect)-lag:], ax=ax, color='orange', label='New Prospect Duration')\n",
    "#autocorrelation_plot(y_newlead[len(y_newlead)-lag:], ax=ax, color='darkgreen', label='New Lead Duration')\n",
    "\n",
    "plt.legend()\n",
    "pyplot.show()"
   ]
  },
  {
   "cell_type": "code",
   "execution_count": 209,
   "metadata": {
    "collapsed": true
   },
   "outputs": [],
   "source": [
    "from statsmodels.tsa.ar_model import AR\n",
    "from sklearn.metrics import mean_squared_error\n",
    "from math import sqrt"
   ]
  },
  {
   "cell_type": "code",
   "execution_count": 338,
   "metadata": {
    "collapsed": true
   },
   "outputs": [],
   "source": [
    "train, test = y[len(y)-200:len(y)-7], y[len(y)-7:]"
   ]
  },
  {
   "cell_type": "code",
   "execution_count": 339,
   "metadata": {
    "scrolled": true
   },
   "outputs": [
    {
     "name": "stderr",
     "output_type": "stream",
     "text": [
      "/Users/pauldefusco/anaconda2/envs/py36/lib/python3.6/site-packages/statsmodels/tsa/base/tsa_model.py:221: ValueWarning: An unsupported index was provided and will be ignored when e.g. forecasting.\n",
      "  ' ignored when e.g. forecasting.', ValueWarning)\n"
     ]
    }
   ],
   "source": [
    "model = AR(train)"
   ]
  },
  {
   "cell_type": "code",
   "execution_count": 340,
   "metadata": {},
   "outputs": [
    {
     "name": "stdout",
     "output_type": "stream",
     "text": [
      "Lag: 14\n",
      "Coefficients: const          276.724\n",
      "L1.duration      0.197\n",
      "L2.duration      0.117\n",
      "L3.duration     -0.010\n",
      "L4.duration     -0.010\n",
      "L5.duration     -0.004\n",
      "L6.duration      0.089\n",
      "L7.duration     -0.095\n",
      "L8.duration      0.100\n",
      "L9.duration      0.031\n",
      "L10.duration    -0.119\n",
      "L11.duration    -0.011\n",
      "L12.duration    -0.135\n",
      "L13.duration     0.073\n",
      "L14.duration    -0.047\n",
      "dtype: float64\n"
     ]
    }
   ],
   "source": [
    "model_fit = model.fit()\n",
    "print('Lag: %s' % model_fit.k_ar)\n",
    "print('Coefficients: %s' % model_fit.params)"
   ]
  },
  {
   "cell_type": "code",
   "execution_count": 341,
   "metadata": {},
   "outputs": [
    {
     "name": "stdout",
     "output_type": "stream",
     "text": [
      "predicted=338, expected=281\n",
      "predicted=334, expected=112\n",
      "predicted=333, expected=334\n",
      "predicted=366, expected=383\n",
      "predicted=323, expected=189\n",
      "predicted=370, expected=442\n",
      "predicted=371, expected=239\n",
      "Test RMSE: 115.771\n"
     ]
    },
    {
     "name": "stderr",
     "output_type": "stream",
     "text": [
      "/Users/pauldefusco/anaconda2/envs/py36/lib/python3.6/site-packages/statsmodels/tsa/base/tsa_model.py:531: ValueWarning: No supported index is available. Prediction results will be given with an integer index beginning at `start`.\n",
      "  ValueWarning)\n"
     ]
    }
   ],
   "source": [
    "# make predictions\n",
    "predictions = model_fit.predict(start=len(train), end=len(train)+len(test)-1, dynamic=False) \n",
    "for i in range(len(predictions)):\n",
    "    print('predicted=%i, expected=%i'%(predictions.iloc[i], test.iloc[i])) \n",
    "rmse = sqrt(mean_squared_error(test, predictions))\n",
    "print('Test RMSE: %.3f' % rmse)"
   ]
  },
  {
   "cell_type": "code",
   "execution_count": 274,
   "metadata": {},
   "outputs": [
    {
     "data": {
      "image/png": "[encoded data removed]",
      "text/plain": [
       "<Figure size 432x288 with 1 Axes>"
      ]
     },
     "metadata": {
      "needs_background": "light"
     },
     "output_type": "display_data"
    }
   ],
   "source": [
    "# plot results\n",
    "pyplot.plot(test)\n",
    "pyplot.plot(predictions, color='red') \n",
    "pyplot.show()"
   ]
  },
  {
   "cell_type": "code",
   "execution_count": 251,
   "metadata": {
    "collapsed": true
   },
   "outputs": [],
   "source": [
    "from statsmodels.tsa.arima_model import ARIMA"
   ]
  },
  {
   "cell_type": "code",
   "execution_count": 358,
   "metadata": {},
   "outputs": [
    {
     "name": "stderr",
     "output_type": "stream",
     "text": [
      "/Users/pauldefusco/anaconda2/envs/py36/lib/python3.6/site-packages/statsmodels/tsa/base/tsa_model.py:225: ValueWarning: A date index has been provided, but it has no associated frequency information and so will be ignored when e.g. forecasting.\n",
      "  ' ignored when e.g. forecasting.', ValueWarning)\n",
      "/Users/pauldefusco/anaconda2/envs/py36/lib/python3.6/site-packages/statsmodels/tsa/base/tsa_model.py:225: ValueWarning: A date index has been provided, but it has no associated frequency information and so will be ignored when e.g. forecasting.\n",
      "  ' ignored when e.g. forecasting.', ValueWarning)\n",
      "/Users/pauldefusco/anaconda2/envs/py36/lib/python3.6/site-packages/scipy/signal/signaltools.py:1341: FutureWarning: Using a non-tuple sequence for multidimensional indexing is deprecated; use `arr[tuple(seq)]` instead of `arr[seq]`. In the future this will be interpreted as an array index, `arr[np.array(seq)]`, which will result either in an error or a different result.\n",
      "  out_full[ind] += zi\n",
      "/Users/pauldefusco/anaconda2/envs/py36/lib/python3.6/site-packages/scipy/signal/signaltools.py:1344: FutureWarning: Using a non-tuple sequence for multidimensional indexing is deprecated; use `arr[tuple(seq)]` instead of `arr[seq]`. In the future this will be interpreted as an array index, `arr[np.array(seq)]`, which will result either in an error or a different result.\n",
      "  out = out_full[ind]\n",
      "/Users/pauldefusco/anaconda2/envs/py36/lib/python3.6/site-packages/scipy/signal/signaltools.py:1350: FutureWarning: Using a non-tuple sequence for multidimensional indexing is deprecated; use `arr[tuple(seq)]` instead of `arr[seq]`. In the future this will be interpreted as an array index, `arr[np.array(seq)]`, which will result either in an error or a different result.\n",
      "  zf = out_full[ind]\n"
     ]
    },
    {
     "name": "stdout",
     "output_type": "stream",
     "text": [
      "                             ARIMA Model Results                              \n",
      "==============================================================================\n",
      "Dep. Variable:             D.duration   No. Observations:                  199\n",
      "Model:                 ARIMA(5, 1, 0)   Log Likelihood                -554.333\n",
      "Method:                       css-mle   S.D. of innovations              3.913\n",
      "Date:                Mon, 14 Jan 2019   AIC                           1122.667\n",
      "Time:                        02:21:08   BIC                           1145.720\n",
      "Sample:                             1   HQIC                          1131.997\n",
      "                                                                              \n",
      "====================================================================================\n",
      "                       coef    std err          z      P>|z|      [0.025      0.975]\n",
      "------------------------------------------------------------------------------------\n",
      "const               -0.0193      0.085     -0.227      0.821      -0.186       0.147\n",
      "ar.L1.D.duration    -0.7523      0.069    -10.852      0.000      -0.888      -0.616\n",
      "ar.L2.D.duration    -0.5700      0.085     -6.709      0.000      -0.737      -0.403\n",
      "ar.L3.D.duration    -0.4282      0.090     -4.781      0.000      -0.604      -0.253\n",
      "ar.L4.D.duration    -0.3345      0.085     -3.920      0.000      -0.502      -0.167\n",
      "ar.L5.D.duration    -0.2050      0.071     -2.904      0.004      -0.343      -0.067\n",
      "                                    Roots                                    \n",
      "=============================================================================\n",
      "                  Real          Imaginary           Modulus         Frequency\n",
      "-----------------------------------------------------------------------------\n",
      "AR.1            0.6387           -1.1720j            1.3347           -0.1706\n",
      "AR.2            0.6387           +1.1720j            1.3347            0.1706\n",
      "AR.3           -1.4347           -0.0000j            1.4347           -0.5000\n",
      "AR.4           -0.7371           -1.1684j            1.3814           -0.3396\n",
      "AR.5           -0.7371           +1.1684j            1.3814            0.3396\n",
      "-----------------------------------------------------------------------------\n"
     ]
    },
    {
     "data": {
      "image/png": "[encoded data removed]",
      "text/plain": [
       "<Figure size 432x288 with 1 Axes>"
      ]
     },
     "metadata": {
      "needs_background": "light"
     },
     "output_type": "display_data"
    }
   ],
   "source": [
    "model = ARIMA(y_oldprospect[len(y_oldprospect)-lag:], order=(5,1,0))\n",
    "model_fit = model.fit(disp=0)\n",
    "# summary of fit model\n",
    "print(model_fit.summary())\n",
    "# line plot of residuals\n",
    "residuals = pd.DataFrame(model_fit.resid) \n",
    "residuals.plot()\n",
    "pyplot.show()"
   ]
  },
  {
   "cell_type": "code",
   "execution_count": 359,
   "metadata": {},
   "outputs": [
    {
     "data": {
      "image/png": "[encoded data removed]",
      "text/plain": [
       "<Figure size 432x288 with 1 Axes>"
      ]
     },
     "metadata": {
      "needs_background": "light"
     },
     "output_type": "display_data"
    },
    {
     "name": "stdout",
     "output_type": "stream",
     "text": [
      "            0\n",
      "count 199.000\n",
      "mean    0.023\n",
      "std     3.933\n",
      "min    -7.725\n",
      "25%    -2.360\n",
      "50%    -0.388\n",
      "75%     1.292\n",
      "max    23.334\n"
     ]
    }
   ],
   "source": [
    "# density plot of residuals \n",
    "residuals.plot(kind='kde') \n",
    "pyplot.show()\n",
    "# summary stats of residuals\n",
    "print(residuals.describe())"
   ]
  },
  {
   "cell_type": "code",
   "execution_count": null,
   "metadata": {},
   "outputs": [
    {
     "name": "stderr",
     "output_type": "stream",
     "text": [
      "/Users/pauldefusco/anaconda2/envs/py36/lib/python3.6/site-packages/scipy/signal/signaltools.py:1341: FutureWarning: Using a non-tuple sequence for multidimensional indexing is deprecated; use `arr[tuple(seq)]` instead of `arr[seq]`. In the future this will be interpreted as an array index, `arr[np.array(seq)]`, which will result either in an error or a different result.\n",
      "  out_full[ind] += zi\n",
      "/Users/pauldefusco/anaconda2/envs/py36/lib/python3.6/site-packages/scipy/signal/signaltools.py:1344: FutureWarning: Using a non-tuple sequence for multidimensional indexing is deprecated; use `arr[tuple(seq)]` instead of `arr[seq]`. In the future this will be interpreted as an array index, `arr[np.array(seq)]`, which will result either in an error or a different result.\n",
      "  out = out_full[ind]\n",
      "/Users/pauldefusco/anaconda2/envs/py36/lib/python3.6/site-packages/scipy/signal/signaltools.py:1350: FutureWarning: Using a non-tuple sequence for multidimensional indexing is deprecated; use `arr[tuple(seq)]` instead of `arr[seq]`. In the future this will be interpreted as an array index, `arr[np.array(seq)]`, which will result either in an error or a different result.\n",
      "  zf = out_full[ind]\n"
     ]
    },
    {
     "name": "stdout",
     "output_type": "stream",
     "text": [
      "predicted=332.919987, expected=65.000000\n",
      "predicted=307.827322, expected=66.000000\n",
      "predicted=296.980265, expected=34.000000\n",
      "predicted=229.246262, expected=333.000000\n",
      "predicted=252.391454, expected=128.000000\n",
      "predicted=234.508157, expected=102.000000\n",
      "predicted=122.351596, expected=400.000000\n",
      "predicted=180.157773, expected=175.000000\n",
      "predicted=194.788087, expected=69.000000\n",
      "predicted=200.531177, expected=126.000000\n",
      "predicted=166.853998, expected=285.000000\n",
      "predicted=192.416820, expected=327.000000\n",
      "predicted=230.462709, expected=168.000000\n",
      "predicted=192.537115, expected=127.000000\n",
      "predicted=184.423270, expected=314.000000\n",
      "predicted=225.140037, expected=147.000000\n",
      "predicted=226.217736, expected=472.000000\n",
      "predicted=261.359550, expected=246.000000\n",
      "predicted=246.400720, expected=213.000000\n",
      "predicted=253.674157, expected=173.000000\n",
      "predicted=260.473168, expected=220.000000\n",
      "predicted=243.961746, expected=130.000000\n",
      "predicted=240.204167, expected=299.000000\n",
      "predicted=214.102765, expected=247.000000\n",
      "predicted=213.938077, expected=111.000000\n",
      "predicted=196.224881, expected=195.000000\n",
      "predicted=200.731504, expected=148.000000\n",
      "predicted=187.363663, expected=286.000000\n",
      "predicted=214.338730, expected=96.000000\n",
      "predicted=179.821112, expected=75.000000\n",
      "predicted=151.502018, expected=386.000000\n",
      "predicted=199.220029, expected=544.000000\n",
      "predicted=258.013074, expected=127.000000\n",
      "predicted=252.464859, expected=155.000000\n",
      "predicted=232.256064, expected=184.000000\n",
      "predicted=244.193268, expected=120.000000\n",
      "predicted=249.032545, expected=480.000000\n",
      "predicted=269.525489, expected=194.000000\n",
      "predicted=210.270495, expected=1232.000000\n",
      "predicted=403.653063, expected=69.000000\n",
      "predicted=379.215616, expected=133.000000\n",
      "predicted=372.314149, expected=193.000000\n",
      "predicted=381.660247, expected=70.000000\n",
      "predicted=307.924387, expected=206.000000\n",
      "predicted=313.495101, expected=152.000000\n",
      "predicted=137.397009, expected=243.000000\n",
      "predicted=166.917127, expected=437.000000\n",
      "predicted=219.425017, expected=259.000000\n",
      "predicted=228.979050, expected=182.000000\n",
      "predicted=247.235859, expected=447.000000\n",
      "predicted=288.709284, expected=238.000000\n",
      "predicted=299.633914, expected=410.000000\n",
      "predicted=329.818440, expected=472.000000\n",
      "predicted=336.727163, expected=83.000000\n",
      "predicted=303.557351, expected=254.000000\n",
      "predicted=317.124514, expected=56.000000\n",
      "predicted=249.161976, expected=204.000000\n",
      "predicted=244.186299, expected=102.000000\n",
      "predicted=193.436930, expected=226.000000\n",
      "predicted=154.645313, expected=217.000000\n",
      "predicted=176.977944, expected=217.000000\n",
      "predicted=171.192649, expected=379.000000\n",
      "predicted=226.220045, expected=145.000000\n",
      "predicted=214.206553, expected=74.000000\n",
      "predicted=208.905230, expected=271.000000\n",
      "predicted=217.349021, expected=0.000000\n",
      "predicted=177.916462, expected=258.000000\n",
      "predicted=188.078854, expected=180.000000\n",
      "predicted=154.910600, expected=196.000000\n",
      "predicted=163.511115, expected=135.000000\n",
      "predicted=173.590686, expected=300.000000\n",
      "predicted=179.523164, expected=347.000000\n",
      "predicted=236.881630, expected=1001.000000\n",
      "predicted=366.784274, expected=72.000000\n",
      "predicted=341.582547, expected=498.000000\n",
      "predicted=396.368880, expected=279.000000\n",
      "predicted=414.864396, expected=50.000000\n",
      "predicted=368.794836, expected=171.000000\n",
      "predicted=342.238494, expected=211.000000\n",
      "predicted=211.930980, expected=567.000000\n",
      "predicted=297.172192, expected=170.000000\n",
      "predicted=241.701225, expected=772.000000\n",
      "predicted=329.944161, expected=298.000000\n",
      "predicted=365.544961, expected=120.000000\n",
      "predicted=355.045833, expected=219.000000\n",
      "predicted=356.357152, expected=877.000000\n",
      "predicted=411.251556, expected=214.000000\n",
      "predicted=413.848239, expected=82.000000\n",
      "predicted=302.608984, expected=304.000000\n",
      "predicted=303.560738, expected=273.000000\n",
      "predicted=324.284689, expected=471.000000\n",
      "predicted=369.599432, expected=133.000000\n",
      "predicted=246.445127, expected=301.000000\n",
      "predicted=262.097488, expected=350.000000\n",
      "predicted=305.379234, expected=86.000000\n",
      "predicted=266.451784, expected=94.000000\n",
      "predicted=237.875018, expected=1388.000000\n",
      "predicted=400.795891, expected=508.000000\n",
      "predicted=455.291822, expected=338.000000\n",
      "predicted=465.140111, expected=208.000000\n",
      "predicted=438.765236, expected=1143.000000\n",
      "predicted=614.321406, expected=503.000000\n",
      "predicted=676.506822, expected=58.000000\n",
      "predicted=458.904777, expected=142.000000\n",
      "predicted=398.614395, expected=276.000000\n",
      "predicted=382.890099, expected=201.000000\n",
      "predicted=380.758618, expected=63.000000\n",
      "predicted=205.695179, expected=222.000000\n",
      "predicted=161.585513, expected=168.000000\n"
     ]
    }
   ],
   "source": [
    "size = int(len(y) * 0.80)\n",
    "train, test = y[0:size], y[size:len(X)]\n",
    "history = [x for x in train]\n",
    "predictions = list()\n",
    "# walk-forward validation\n",
    "for t in range(len(test)):\n",
    "    model = ARIMA(history, order=(5,1,0))\n",
    "    model_fit = model.fit()\n",
    "    output = model_fit.forecast()\n",
    "    yhat = output[0]\n",
    "    predictions.append(yhat)\n",
    "    obs = test.iloc[t]\n",
    "    history.append(obs)\n",
    "    print('predicted=%f, expected=%f' % (yhat, obs))"
   ]
  },
  {
   "cell_type": "code",
   "execution_count": 281,
   "metadata": {},
   "outputs": [
    {
     "name": "stdout",
     "output_type": "stream",
     "text": [
      "Test RMSE: 369.181\n"
     ]
    },
    {
     "data": {
      "image/png": "[encoded data removed]",
      "text/plain": [
       "<Figure size 432x288 with 1 Axes>"
      ]
     },
     "metadata": {
      "needs_background": "light"
     },
     "output_type": "display_data"
    }
   ],
   "source": [
    "# evaluate forecasts\n",
    "rmse = sqrt(mean_squared_error(test, predictions)) \n",
    "print('Test RMSE: %.3f' % rmse)\n",
    "# plot forecasts against actual outcomes pyplot.plot(test)\n",
    "pyplot.plot(predictions, color='red') \n",
    "pyplot.show()"
   ]
  },
  {
   "cell_type": "code",
   "execution_count": 351,
   "metadata": {
    "collapsed": true
   },
   "outputs": [],
   "source": [
    "from __future__ import division\n",
    "#Let's try dividing duration by 60 to predict minutes:\n",
    "final_df = pd.read_pickle('../data/pickle_files/final_df_pickle')\n",
    "##Old Prospect\n",
    "oldp_idx = final_df[final_df['old_prospect']==1].index\n",
    "y_oldprospect = y[oldp_idx]/60\n",
    "y_oldprospect.index = final_df[final_df['old_prospect']==1].Date\n",
    "##New Prospect\n",
    "newp_idx = final_df[final_df['new_prospect']==1].index\n",
    "y_newprospect = y[newp_idx]/60\n",
    "y_newprospect.index = final_df[final_df['new_prospect']==1].Date\n",
    "##New Lead\n",
    "newl_idx = final_df[final_df['new_lead']==1].index\n",
    "y_newlead = y[newl_idx]/60\n",
    "y_newlead.index = final_df[final_df['new_lead']==1].Date"
   ]
  },
  {
   "cell_type": "code",
   "execution_count": 352,
   "metadata": {},
   "outputs": [
    {
     "data": {
      "image/png": "[encoded data removed]",
      "text/plain": [
       "<Figure size 720x432 with 1 Axes>"
      ]
     },
     "metadata": {
      "needs_background": "light"
     },
     "output_type": "display_data"
    }
   ],
   "source": [
    "from matplotlib import pyplot\n",
    "from pandas.plotting import autocorrelation_plot\n",
    "\n",
    "fig, ax = plt.subplots(figsize=(10,6))\n",
    "\n",
    "lag = 200\n",
    "autocorrelation_plot(y_oldprospect[len(y_oldprospect)-lag:], ax=ax, color='blue', label='Total Duration')\n",
    "#autocorrelation_plot(y_oldprospect[len(y_oldprospect)-lag:], ax=ax, color='blue', label='Old Prospet Duration')\n",
    "#autocorrelation_plot(y_newprospect[len(y_newprospect)-lag:], ax=ax, color='orange', label='New Prospect Duration')\n",
    "#autocorrelation_plot(y_newlead[len(y_newlead)-lag:], ax=ax, color='darkgreen', label='New Lead Duration')\n",
    "\n",
    "plt.legend()\n",
    "pyplot.show()"
   ]
  },
  {
   "cell_type": "code",
   "execution_count": 353,
   "metadata": {
    "collapsed": true
   },
   "outputs": [],
   "source": [
    "train, test = y_oldprospect[len(y_oldprospect)-50:len(y_oldprospect)-7], y_oldprospect[len(y_oldprospect)-7:]"
   ]
  },
  {
   "cell_type": "code",
   "execution_count": 354,
   "metadata": {
    "scrolled": true
   },
   "outputs": [
    {
     "name": "stderr",
     "output_type": "stream",
     "text": [
      "/Users/pauldefusco/anaconda2/envs/py36/lib/python3.6/site-packages/statsmodels/tsa/base/tsa_model.py:225: ValueWarning: A date index has been provided, but it has no associated frequency information and so will be ignored when e.g. forecasting.\n",
      "  ' ignored when e.g. forecasting.', ValueWarning)\n"
     ]
    }
   ],
   "source": [
    "model = AR(train)"
   ]
  },
  {
   "cell_type": "code",
   "execution_count": 355,
   "metadata": {},
   "outputs": [
    {
     "name": "stdout",
     "output_type": "stream",
     "text": [
      "Lag: 10\n",
      "Coefficients: const           4.991\n",
      "L1.duration     0.004\n",
      "L2.duration     0.138\n",
      "L3.duration     0.206\n",
      "L4.duration     0.162\n",
      "L5.duration     0.209\n",
      "L6.duration     0.028\n",
      "L7.duration     0.030\n",
      "L8.duration     0.314\n",
      "L9.duration    -0.380\n",
      "L10.duration   -0.454\n",
      "dtype: float64\n"
     ]
    }
   ],
   "source": [
    "model_fit = model.fit()\n",
    "print('Lag: %s' % model_fit.k_ar)\n",
    "print('Coefficients: %s' % model_fit.params)"
   ]
  },
  {
   "cell_type": "code",
   "execution_count": 356,
   "metadata": {},
   "outputs": [
    {
     "name": "stdout",
     "output_type": "stream",
     "text": [
      "predicted=8, expected=4\n",
      "predicted=12, expected=5\n",
      "predicted=9, expected=3\n",
      "predicted=11, expected=3\n",
      "predicted=8, expected=8\n",
      "predicted=9, expected=1\n",
      "predicted=18, expected=3\n",
      "Test RMSE: 8.074\n"
     ]
    },
    {
     "name": "stderr",
     "output_type": "stream",
     "text": [
      "/Users/pauldefusco/anaconda2/envs/py36/lib/python3.6/site-packages/statsmodels/tsa/base/tsa_model.py:531: ValueWarning: No supported index is available. Prediction results will be given with an integer index beginning at `start`.\n",
      "  ValueWarning)\n"
     ]
    }
   ],
   "source": [
    "# make predictions\n",
    "predictions = model_fit.predict(start=len(train), end=len(train)+len(test)-1, dynamic=False) \n",
    "for i in range(len(predictions)):\n",
    "    print('predicted=%i, expected=%i'%(predictions.iloc[i], test.iloc[i])) \n",
    "rmse = sqrt(mean_squared_error(test, predictions))\n",
    "print('Test RMSE: %.3f' % rmse)"
   ]
  },
  {
   "cell_type": "code",
   "execution_count": null,
   "metadata": {
    "collapsed": true
   },
   "outputs": [],
   "source": []
  }
 ],
 "metadata": {
  "kernelspec": {
   "display_name": "Python 3",
   "language": "python",
   "name": "python3"
  },
  "language_info": {
   "codemirror_mode": {
    "name": "ipython",
    "version": 3
   },
   "file_extension": ".py",
   "mimetype": "text/x-python",
   "name": "python",
   "nbconvert_exporter": "python",
   "pygments_lexer": "ipython3",
   "version": "3.6.3"
  }
 },
 "nbformat": 4,
 "nbformat_minor": 2
}
