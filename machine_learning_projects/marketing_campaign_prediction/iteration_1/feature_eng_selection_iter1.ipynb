{
 "cells": [
  {
   "cell_type": "markdown",
   "metadata": {},
   "source": [
    "### Feature Engineering and Selection:"
   ]
  },
  {
   "cell_type": "markdown",
   "metadata": {},
   "source": [
    "- Objective: engineer new features and analyze their importance\n",
    "- Method: first use Univariate tests to discard poor features (important when dealing with many features)\n",
    "    Then, use recursive feature elimination and feature importances to get a feeling for ranking among features left\n"
   ]
  },
  {
   "cell_type": "markdown",
   "metadata": {},
   "source": [
    "Dilemma: should we tune a model before feeding it to RFECV? Answer: first loosely tune models and then use regularized decision trees for a potentially more rigorouse answer:\n",
    "            https://arxiv.org/pdf/1201.1587.pdf"
   ]
  },
  {
   "cell_type": "code",
   "execution_count": 55,
   "metadata": {},
   "outputs": [
    {
     "name": "stdout",
     "output_type": "stream",
     "text": [
      "The autoreload extension is already loaded. To reload it, use:\n",
      "  %reload_ext autoreload\n"
     ]
    }
   ],
   "source": [
    "%load_ext autoreload\n",
    "\n",
    "%autoreload 2"
   ]
  },
  {
   "cell_type": "code",
   "execution_count": 56,
   "metadata": {
    "collapsed": true
   },
   "outputs": [],
   "source": [
    "%matplotlib inline\n",
    "import pandas as pd\n",
    "import numpy as np\n",
    "from scipy.io import arff\n",
    "import matplotlib.pyplot as plt\n",
    "import seaborn as sns\n",
    "import matplotlib as mpl\n",
    "import os"
   ]
  },
  {
   "cell_type": "code",
   "execution_count": 57,
   "metadata": {
    "collapsed": true
   },
   "outputs": [],
   "source": [
    "from sklearn.model_selection import train_test_split, StratifiedKFold, GridSearchCV, cross_val_score\n",
    "from sklearn import preprocessing\n",
    "from sklearn.pipeline import make_pipeline\n",
    "from sklearn.metrics import confusion_matrix, precision_score, recall_score, average_precision_score\n",
    "from sklearn.metrics import accuracy_score, roc_curve, roc_auc_score, precision_recall_curve\n",
    "from sklearn.metrics import classification_report\n",
    "from sklearn.utils.fixes import signature\n",
    "pd.options.display.float_format = '{:.2f}'.format\n",
    "pd.set_option('display.float_format', lambda x: '%.3f' % x)"
   ]
  },
  {
   "cell_type": "code",
   "execution_count": 58,
   "metadata": {},
   "outputs": [
    {
     "data": {
      "text/plain": [
       "['df_pickle_w_all_stats', 'df_pickle', 'df_pickle_w_time_stats']"
      ]
     },
     "execution_count": 58,
     "metadata": {},
     "output_type": "execute_result"
    }
   ],
   "source": [
    "os.listdir('../data/pickle_files')"
   ]
  },
  {
   "cell_type": "code",
   "execution_count": 59,
   "metadata": {
    "collapsed": true
   },
   "outputs": [],
   "source": [
    "#Loading df1 after it has been augmented in iteration 2:\n",
    "df = pd.read_pickle('../data/pickle_files/df_pickle_w_all_stats')\n",
    "#Excluding the duration variable as it cannot be used in our baseline\n",
    "df = df.drop(columns = ['duration', 'Date'])"
   ]
  },
  {
   "cell_type": "code",
   "execution_count": 60,
   "metadata": {
    "collapsed": true
   },
   "outputs": [],
   "source": [
    "y = df['y']\n",
    "X = df.drop(columns='y')\n",
    "names = list(X.columns)"
   ]
  },
  {
   "cell_type": "markdown",
   "metadata": {},
   "source": [
    "Feature Importance:"
   ]
  },
  {
   "cell_type": "markdown",
   "metadata": {},
   "source": [
    "Starting with an exploration of the most important features with univariate methods and RFE (with CV)"
   ]
  },
  {
   "cell_type": "markdown",
   "metadata": {},
   "source": [
    "Univariate Feature Selection"
   ]
  },
  {
   "cell_type": "code",
   "execution_count": 61,
   "metadata": {
    "collapsed": true
   },
   "outputs": [],
   "source": [
    "from sklearn.feature_selection import SelectKBest, f_classif, mutual_info_classif"
   ]
  },
  {
   "cell_type": "code",
   "execution_count": 62,
   "metadata": {
    "collapsed": true
   },
   "outputs": [],
   "source": [
    "#Using F Classifier scoring function\n",
    "test = SelectKBest(score_func=f_classif, k='all')\n",
    "fit = test.fit(X, y)\n",
    "# summarize scores\n",
    "np.set_printoptions(precision=3)"
   ]
  },
  {
   "cell_type": "code",
   "execution_count": 63,
   "metadata": {},
   "outputs": [
    {
     "data": {
      "text/plain": [
       "[('Household credit', 6423.957630542542),\n",
       " ('Mortgage credit', 6259.710075255824),\n",
       " ('Unemployment rate', 6215.328224329231),\n",
       " ('Foreign exchange reserves', 6127.619935911332),\n",
       " ('nr.employed', 5926.610601111052),\n",
       " ('Government debt', 5893.926455086986),\n",
       " ('Employment', 5830.594300707896),\n",
       " ('Minimum wage', 5709.937349795137),\n",
       " ('year', 5668.675543704237),\n",
       " ('emplmnt_industry_index', 5488.271703529525),\n",
       " ('Private sector credit', 5171.645855551422),\n",
       " ('pdays', 4861.173272049289),\n",
       " ('Labor cost', 4670.487138412593),\n",
       " ('Business credit interest rate', 4556.632400328948),\n",
       " ('Deposit interest rate', 4432.398191653248),\n",
       " ('Consumer credit', 4375.106973760946),\n",
       " ('Investment as percent of GDP', 4361.241416793941),\n",
       " ('euribor3m', 4309.479048109171),\n",
       " ('Mortgage credit interest rate', 4115.273907037838),\n",
       " ('emp.var.rate', 4023.829925487281),\n",
       " ('Investment', 3577.29704945438),\n",
       " ('Business credit', 3565.6933778955704),\n",
       " ('Government expenditure', 3306.875885293535),\n",
       " ('financial_past', 3102.0897885964437),\n",
       " ('previous', 2304.2570879417895),\n",
       " ('Budget balance', 1885.3246976005948),\n",
       " ('Inflation annual', 1761.3332262114002),\n",
       " ('Consumption as percent of GDP', 1708.3223130038814),\n",
       " ('Economic growth Q-on-Q', 1576.5808961823507),\n",
       " ('Current account balance', 1473.838220296028),\n",
       " ('Exchange rate to USD', 1463.5544786753385),\n",
       " ('Investment growth', 1435.474266979942),\n",
       " ('economy_past', 1310.1144145473545),\n",
       " ('inflation_delta_expect', 1238.188732938843),\n",
       " ('savings_delta_expect', 1209.943101759026),\n",
       " ('Household consumption', 1014.4890534636886),\n",
       " ('contact', 881.7070703057972),\n",
       " ('Business confidence survey', 844.0698348009589),\n",
       " ('ind_turnover', 814.6379928053427),\n",
       " ('Consumption growth', 793.6422507916815),\n",
       " ('cons.price.idx', 778.5897948540367),\n",
       " ('Consumer Price Index (CPI)', 772.3132185149897),\n",
       " ('poutcome', 705.678164442302),\n",
       " ('major_purch_expect', 687.1475353974454),\n",
       " ('Retail sales', 581.8538177068476),\n",
       " ('economy_expect', 548.9286313222702),\n",
       " ('Exports', 499.51547563319406),\n",
       " ('default', 410.59078467356807),\n",
       " ('unempl_expect', 301.84052115190866),\n",
       " ('Gross Domestic Product (GDP)', 278.4004640720997),\n",
       " ('Inflation monthly', 245.99121365715936),\n",
       " ('Money supply (broad money)', 201.86413507902432),\n",
       " ('railway_passengers', 183.03689361945257),\n",
       " ('campaign', 182.1566728779538),\n",
       " ('FDI', 158.06952761873947),\n",
       " ('education', 138.0517555082783),\n",
       " ('Economic growth', 135.70237485597355),\n",
       " ('cons.conf.idx', 124.40997473290119),\n",
       " ('cons_conf', 104.12406685116402),\n",
       " ('Consumer confidence survey', 104.12406685116402),\n",
       " ('marital', 88.10704673107693),\n",
       " ('major_purch_opportu', 84.80120899724722),\n",
       " ('month', 56.022065296719674),\n",
       " ('age', 38.09465928898605),\n",
       " ('job', 26.0098646689367),\n",
       " ('day', 21.496010561813605),\n",
       " ('day_of_week_last_contact', 10.5030958804477),\n",
       " ('housing', 5.496653388835498),\n",
       " ('month_last_contact', 1.5149396996025741),\n",
       " ('savings_expect', 1.106542489845242),\n",
       " ('loan', 0.9923712541376224),\n",
       " ('household_debt_ratio', 0.07580810832248187)]"
      ]
     },
     "execution_count": 63,
     "metadata": {},
     "output_type": "execute_result"
    }
   ],
   "source": [
    "sorted(list(zip(names,list(fit.scores_))), key=lambda tup:tup[1], reverse=True)"
   ]
  },
  {
   "cell_type": "code",
   "execution_count": 64,
   "metadata": {
    "collapsed": true
   },
   "outputs": [],
   "source": [
    "#Same as above with Mutual Info classification scoring function\n",
    "test = SelectKBest(score_func=mutual_info_classif, k='all')\n",
    "fit = test.fit(X, y)\n",
    "# summarize scores\n",
    "np.set_printoptions(precision=3)"
   ]
  },
  {
   "cell_type": "code",
   "execution_count": 65,
   "metadata": {},
   "outputs": [
    {
     "data": {
      "text/plain": [
       "[('euribor3m', 0.07248659679375846),\n",
       " ('cons.price.idx', 0.07129766500371382),\n",
       " ('Exports', 0.07073904829071531),\n",
       " ('Business credit interest rate', 0.07044783283077805),\n",
       " ('Mortgage credit', 0.07005046660561431),\n",
       " ('Money supply (broad money)', 0.06935715237457796),\n",
       " ('financial_past', 0.06913538536998187),\n",
       " ('FDI', 0.06907773930537742),\n",
       " ('Private sector credit', 0.06893630288424268),\n",
       " ('emplmnt_industry_index', 0.06890832893757581),\n",
       " ('Consumer credit', 0.06889218556795229),\n",
       " ('Business confidence survey', 0.0688443994365393),\n",
       " ('Current account balance', 0.0688366767655606),\n",
       " ('railway_passengers', 0.06878728889342356),\n",
       " ('ind_turnover', 0.06865098632655009),\n",
       " ('Consumer Price Index (CPI)', 0.06857829334127574),\n",
       " ('Deposit interest rate', 0.06845042987276595),\n",
       " ('Mortgage credit interest rate', 0.06798420418315909),\n",
       " ('major_purch_expect', 0.06761135865834023),\n",
       " ('Exchange rate to USD', 0.06754751333413278),\n",
       " ('Business credit', 0.06737619007574969),\n",
       " ('inflation_delta_expect', 0.06725264550604204),\n",
       " ('Household credit', 0.06703081532420785),\n",
       " ('cons.conf.idx', 0.0669960087303545),\n",
       " ('Inflation annual', 0.06666734410241792),\n",
       " ('Foreign exchange reserves', 0.06640874329790147),\n",
       " ('unempl_expect', 0.0658699610172806),\n",
       " ('cons_conf', 0.06585929703824034),\n",
       " ('Inflation monthly', 0.06539943689965577),\n",
       " ('Consumer confidence survey', 0.06510265660215908),\n",
       " ('Government expenditure', 0.06505122827828158),\n",
       " ('Economic growth Q-on-Q', 0.06467245075767791),\n",
       " ('Unemployment rate', 0.06440031557773906),\n",
       " ('Labor cost', 0.064184508193458),\n",
       " ('Consumption growth', 0.064124301703961),\n",
       " ('Employment', 0.06376029725967824),\n",
       " ('nr.employed', 0.06357443088223502),\n",
       " ('Investment as percent of GDP', 0.06342956958476664),\n",
       " ('economy_past', 0.06342476346718828),\n",
       " ('Investment growth', 0.06320650005764783),\n",
       " ('Economic growth', 0.06286393680531677),\n",
       " ('Budget balance', 0.06279448192386194),\n",
       " ('Household consumption', 0.06238424425434719),\n",
       " ('Investment', 0.06222308590201675),\n",
       " ('economy_expect', 0.061743821343993144),\n",
       " ('Retail sales', 0.06152304168233402),\n",
       " ('Government debt', 0.06140315784882455),\n",
       " ('Gross Domestic Product (GDP)', 0.061342569732725005),\n",
       " ('Consumption as percent of GDP', 0.060901278721055885),\n",
       " ('household_debt_ratio', 0.06016147824022422),\n",
       " ('savings_expect', 0.05977711249534501),\n",
       " ('emp.var.rate', 0.05878954188406893),\n",
       " ('savings_delta_expect', 0.05823048096886341),\n",
       " ('major_purch_opportu', 0.057988426178592345),\n",
       " ('year', 0.05413838723056874),\n",
       " ('Minimum wage', 0.05273783885811101),\n",
       " ('poutcome', 0.035218210650411086),\n",
       " ('pdays', 0.03246032404245547),\n",
       " ('month_last_contact', 0.029714908942411133),\n",
       " ('month', 0.028403041471921187),\n",
       " ('previous', 0.01897574926543566),\n",
       " ('age', 0.014604131743645166),\n",
       " ('contact', 0.011455923206760588),\n",
       " ('day', 0.010720861724561548),\n",
       " ('job', 0.008012149743941599),\n",
       " ('default', 0.00639638559109823),\n",
       " ('housing', 0.005979988696231953),\n",
       " ('education', 0.005492017500706048),\n",
       " ('marital', 0.005015208400573012),\n",
       " ('campaign', 0.004634971430615309),\n",
       " ('day_of_week_last_contact', 0.0006350172054887526),\n",
       " ('loan', 0.0005739242039410897)]"
      ]
     },
     "execution_count": 65,
     "metadata": {},
     "output_type": "execute_result"
    }
   ],
   "source": [
    "sorted(list(zip(names,list(fit.scores_))), key=lambda tup:tup[1], reverse=True)"
   ]
  },
  {
   "cell_type": "markdown",
   "metadata": {},
   "source": [
    "Recursive Feature Elimination"
   ]
  },
  {
   "cell_type": "code",
   "execution_count": 66,
   "metadata": {
    "collapsed": true
   },
   "outputs": [],
   "source": [
    "from sklearn.feature_selection import RFE, RFECV\n",
    "from sklearn.linear_model import LogisticRegression"
   ]
  },
  {
   "cell_type": "code",
   "execution_count": 67,
   "metadata": {
    "collapsed": true
   },
   "outputs": [],
   "source": [
    "model = LogisticRegression(C=1, solver = 'liblinear')\n",
    "rfe = RFE(model, 20)\n",
    "fit = rfe.fit(X, y)"
   ]
  },
  {
   "cell_type": "code",
   "execution_count": 68,
   "metadata": {},
   "outputs": [
    {
     "name": "stdout",
     "output_type": "stream",
     "text": [
      "Num Features Selected: 20\n"
     ]
    }
   ],
   "source": [
    "print(\"Num Features Selected: %d\" % (fit.n_features_))\n",
    "#print(\"Selected Features: %s\" % (fit.support_))\n",
    "#print(\"Feature Ranking: %s\" % (fit.ranking_))"
   ]
  },
  {
   "cell_type": "code",
   "execution_count": 69,
   "metadata": {},
   "outputs": [
    {
     "data": {
      "text/plain": [
       "[('economy_expect', 1),\n",
       " ('economy_past', 1),\n",
       " ('savings_expect', 1),\n",
       " ('month', 1),\n",
       " ('previous', 1),\n",
       " ('emp.var.rate', 1),\n",
       " ('default', 1),\n",
       " ('contact', 1),\n",
       " ('poutcome', 1),\n",
       " ('Consumer credit', 1),\n",
       " ('Unemployment rate', 1),\n",
       " ('Labor cost', 1),\n",
       " ('Private sector credit', 1),\n",
       " ('Economic growth', 1),\n",
       " ('Consumption growth', 1),\n",
       " ('Inflation monthly', 1),\n",
       " ('Inflation annual', 1),\n",
       " ('Business confidence survey', 1),\n",
       " ('Consumer confidence survey', 1),\n",
       " ('Economic growth Q-on-Q', 1),\n",
       " ('month_last_contact', 2),\n",
       " ('cons.conf.idx', 3),\n",
       " ('Retail sales', 4),\n",
       " ('Consumer Price Index (CPI)', 5),\n",
       " ('ind_turnover', 6),\n",
       " ('major_purch_opportu', 7),\n",
       " ('savings_delta_expect', 8),\n",
       " ('inflation_delta_expect', 9),\n",
       " ('day_of_week_last_contact', 10),\n",
       " ('marital', 11),\n",
       " ('Money supply (broad money)', 12),\n",
       " ('campaign', 13),\n",
       " ('unempl_expect', 14),\n",
       " ('Investment growth', 15),\n",
       " ('Consumption as percent of GDP', 16),\n",
       " ('Business credit interest rate', 17),\n",
       " ('housing', 18),\n",
       " ('education', 19),\n",
       " ('major_purch_expect', 20),\n",
       " ('Minimum wage', 21),\n",
       " ('loan', 22),\n",
       " ('Household consumption', 23),\n",
       " ('financial_past', 24),\n",
       " ('Business credit', 25),\n",
       " ('Mortgage credit', 26),\n",
       " ('day', 27),\n",
       " ('cons.price.idx', 28),\n",
       " ('year', 29),\n",
       " ('Household credit', 30),\n",
       " ('emplmnt_industry_index', 31),\n",
       " ('nr.employed', 32),\n",
       " ('Investment', 33),\n",
       " ('household_debt_ratio', 34),\n",
       " ('cons_conf', 35),\n",
       " ('Deposit interest rate', 36),\n",
       " ('Foreign exchange reserves', 37),\n",
       " ('euribor3m', 38),\n",
       " ('Government expenditure', 39),\n",
       " ('Employment', 40),\n",
       " ('age', 41),\n",
       " ('pdays', 42),\n",
       " ('job', 43),\n",
       " ('Mortgage credit interest rate', 44),\n",
       " ('Current account balance', 45),\n",
       " ('FDI', 46),\n",
       " ('Exports', 47),\n",
       " ('railway_passengers', 48),\n",
       " ('Budget balance', 49),\n",
       " ('Government debt', 50),\n",
       " ('Gross Domestic Product (GDP)', 51),\n",
       " ('Exchange rate to USD', 52),\n",
       " ('Investment as percent of GDP', 53)]"
      ]
     },
     "execution_count": 69,
     "metadata": {},
     "output_type": "execute_result"
    }
   ],
   "source": [
    "sorted(list(zip(names, fit.ranking_)), key=lambda tup:tup[1], reverse=False)"
   ]
  },
  {
   "cell_type": "code",
   "execution_count": 70,
   "metadata": {
    "collapsed": true
   },
   "outputs": [],
   "source": [
    "rfecv = RFECV(model, step=1, cv=5)\n",
    "fit = rfecv.fit(X, y)"
   ]
  },
  {
   "cell_type": "code",
   "execution_count": 71,
   "metadata": {},
   "outputs": [
    {
     "name": "stdout",
     "output_type": "stream",
     "text": [
      "Num Features Selected: 1\n"
     ]
    }
   ],
   "source": [
    "print(\"Num Features Selected: %d\" % (fit.n_features_))"
   ]
  },
  {
   "cell_type": "code",
   "execution_count": 72,
   "metadata": {},
   "outputs": [
    {
     "data": {
      "text/plain": [
       "[('poutcome', 1),\n",
       " ('emp.var.rate', 2),\n",
       " ('Inflation annual', 3),\n",
       " ('contact', 4),\n",
       " ('default', 5),\n",
       " ('previous', 6),\n",
       " ('Unemployment rate', 7),\n",
       " ('month', 8),\n",
       " ('Economic growth Q-on-Q', 9),\n",
       " ('Consumer credit', 10),\n",
       " ('Private sector credit', 11),\n",
       " ('Labor cost', 12),\n",
       " ('Inflation monthly', 13),\n",
       " ('Economic growth', 14),\n",
       " ('savings_expect', 15),\n",
       " ('Business confidence survey', 16),\n",
       " ('Consumption growth', 17),\n",
       " ('Consumer confidence survey', 18),\n",
       " ('economy_expect', 19),\n",
       " ('economy_past', 20),\n",
       " ('month_last_contact', 21),\n",
       " ('cons.conf.idx', 22),\n",
       " ('Retail sales', 23),\n",
       " ('Consumer Price Index (CPI)', 24),\n",
       " ('ind_turnover', 25),\n",
       " ('major_purch_opportu', 26),\n",
       " ('savings_delta_expect', 27),\n",
       " ('inflation_delta_expect', 28),\n",
       " ('day_of_week_last_contact', 29),\n",
       " ('marital', 30),\n",
       " ('Money supply (broad money)', 31),\n",
       " ('campaign', 32),\n",
       " ('unempl_expect', 33),\n",
       " ('Investment growth', 34),\n",
       " ('Consumption as percent of GDP', 35),\n",
       " ('Business credit interest rate', 36),\n",
       " ('housing', 37),\n",
       " ('education', 38),\n",
       " ('major_purch_expect', 39),\n",
       " ('Minimum wage', 40),\n",
       " ('loan', 41),\n",
       " ('Household consumption', 42),\n",
       " ('financial_past', 43),\n",
       " ('Business credit', 44),\n",
       " ('Mortgage credit', 45),\n",
       " ('day', 46),\n",
       " ('cons.price.idx', 47),\n",
       " ('year', 48),\n",
       " ('Household credit', 49),\n",
       " ('emplmnt_industry_index', 50),\n",
       " ('nr.employed', 51),\n",
       " ('Investment', 52),\n",
       " ('household_debt_ratio', 53),\n",
       " ('cons_conf', 54),\n",
       " ('Deposit interest rate', 55),\n",
       " ('Foreign exchange reserves', 56),\n",
       " ('euribor3m', 57),\n",
       " ('Government expenditure', 58),\n",
       " ('Employment', 59),\n",
       " ('age', 60),\n",
       " ('pdays', 61),\n",
       " ('job', 62),\n",
       " ('Mortgage credit interest rate', 63),\n",
       " ('Current account balance', 64),\n",
       " ('FDI', 65),\n",
       " ('Exports', 66),\n",
       " ('railway_passengers', 67),\n",
       " ('Budget balance', 68),\n",
       " ('Government debt', 69),\n",
       " ('Gross Domestic Product (GDP)', 70),\n",
       " ('Exchange rate to USD', 71),\n",
       " ('Investment as percent of GDP', 72)]"
      ]
     },
     "execution_count": 72,
     "metadata": {},
     "output_type": "execute_result"
    }
   ],
   "source": [
    "sorted(list(zip(names, fit.ranking_)), key=lambda tup:tup[1], reverse=False)"
   ]
  },
  {
   "cell_type": "code",
   "execution_count": 73,
   "metadata": {
    "collapsed": true
   },
   "outputs": [],
   "source": [
    "#Trying the same as above, but this time after scaling non categorical features"
   ]
  },
  {
   "cell_type": "code",
   "execution_count": 74,
   "metadata": {},
   "outputs": [
    {
     "name": "stderr",
     "output_type": "stream",
     "text": [
      "/Users/pauldefusco/anaconda2/envs/py36/lib/python3.6/site-packages/sklearn/preprocessing/data.py:625: DataConversionWarning: Data with input dtype int64, float64 were all converted to float64 by StandardScaler.\n",
      "  return self.partial_fit(X, y)\n",
      "/Users/pauldefusco/anaconda2/envs/py36/lib/python3.6/site-packages/ipykernel_launcher.py:5: DataConversionWarning: Data with input dtype int64, float64 were all converted to float64 by StandardScaler.\n",
      "  \"\"\"\n"
     ]
    }
   ],
   "source": [
    "def scale_noncat_only(df):\n",
    "    X_temp_noncat = df.select_dtypes(exclude=['int8'])\n",
    "    X_temp_cat = df.select_dtypes(include=['int8'])\n",
    "    scaler = preprocessing.StandardScaler().fit(X_temp_noncat)\n",
    "    X_transformed = scaler.transform(X_temp_noncat)\n",
    "    X = pd.concat([pd.DataFrame(X_transformed, columns =X_temp_noncat.columns), X_temp_cat], axis = 1)\n",
    "    X = X.drop(columns=['y'])\n",
    "    y = df['y']\n",
    "    #will work with numpy arrays\n",
    "    y = np.array(y)\n",
    "    X = np.array(X)\n",
    "    \n",
    "    return X, y\n",
    "\n",
    "X, y = scale_noncat_only(df)"
   ]
  },
  {
   "cell_type": "code",
   "execution_count": 75,
   "metadata": {},
   "outputs": [
    {
     "data": {
      "text/plain": [
       "Index([], dtype='object')"
      ]
     },
     "execution_count": 75,
     "metadata": {},
     "output_type": "execute_result"
    }
   ],
   "source": [
    "#Checking dtypes have loaded correctly (should return empty index)\n",
    "df.select_dtypes(exclude = ['float64', 'int64', 'int8']).columns"
   ]
  },
  {
   "cell_type": "code",
   "execution_count": 76,
   "metadata": {
    "collapsed": true
   },
   "outputs": [],
   "source": [
    "y = df['y']\n",
    "X = df.drop(columns=['y'])"
   ]
  },
  {
   "cell_type": "code",
   "execution_count": 77,
   "metadata": {},
   "outputs": [
    {
     "data": {
      "text/plain": [
       "(41188, 72)"
      ]
     },
     "execution_count": 77,
     "metadata": {},
     "output_type": "execute_result"
    }
   ],
   "source": [
    "X.shape"
   ]
  },
  {
   "cell_type": "code",
   "execution_count": 78,
   "metadata": {
    "collapsed": true
   },
   "outputs": [],
   "source": [
    "rfecv = RFECV(model, step=1, cv=5)\n",
    "fit = rfecv.fit(X, y)"
   ]
  },
  {
   "cell_type": "code",
   "execution_count": 79,
   "metadata": {},
   "outputs": [
    {
     "name": "stdout",
     "output_type": "stream",
     "text": [
      "Num Features Selected: 1\n"
     ]
    }
   ],
   "source": [
    "print(\"Num Features Selected: %d\" % (fit.n_features_))"
   ]
  },
  {
   "cell_type": "code",
   "execution_count": 80,
   "metadata": {},
   "outputs": [
    {
     "data": {
      "text/plain": [
       "[('poutcome', 1),\n",
       " ('emp.var.rate', 2),\n",
       " ('Inflation annual', 3),\n",
       " ('contact', 4),\n",
       " ('default', 5),\n",
       " ('previous', 6),\n",
       " ('Unemployment rate', 7),\n",
       " ('month', 8),\n",
       " ('Economic growth Q-on-Q', 9),\n",
       " ('Consumer credit', 10),\n",
       " ('Private sector credit', 11),\n",
       " ('Labor cost', 12),\n",
       " ('Inflation monthly', 13),\n",
       " ('Economic growth', 14),\n",
       " ('savings_expect', 15),\n",
       " ('Business confidence survey', 16),\n",
       " ('Consumption growth', 17),\n",
       " ('Consumer confidence survey', 18),\n",
       " ('economy_expect', 19),\n",
       " ('economy_past', 20),\n",
       " ('month_last_contact', 21),\n",
       " ('cons.conf.idx', 22),\n",
       " ('Retail sales', 23),\n",
       " ('Consumer Price Index (CPI)', 24),\n",
       " ('ind_turnover', 25),\n",
       " ('major_purch_opportu', 26),\n",
       " ('savings_delta_expect', 27),\n",
       " ('inflation_delta_expect', 28),\n",
       " ('day_of_week_last_contact', 29),\n",
       " ('marital', 30),\n",
       " ('Money supply (broad money)', 31),\n",
       " ('campaign', 32),\n",
       " ('unempl_expect', 33),\n",
       " ('Investment growth', 34),\n",
       " ('Consumption as percent of GDP', 35),\n",
       " ('Business credit interest rate', 36),\n",
       " ('housing', 37),\n",
       " ('education', 38),\n",
       " ('major_purch_expect', 39),\n",
       " ('Minimum wage', 40),\n",
       " ('loan', 41),\n",
       " ('Household consumption', 42),\n",
       " ('financial_past', 43),\n",
       " ('Business credit', 44),\n",
       " ('Mortgage credit', 45),\n",
       " ('day', 46),\n",
       " ('cons.price.idx', 47),\n",
       " ('year', 48),\n",
       " ('Household credit', 49),\n",
       " ('emplmnt_industry_index', 50),\n",
       " ('nr.employed', 51),\n",
       " ('Investment', 52),\n",
       " ('household_debt_ratio', 53),\n",
       " ('cons_conf', 54),\n",
       " ('Deposit interest rate', 55),\n",
       " ('Foreign exchange reserves', 56),\n",
       " ('euribor3m', 57),\n",
       " ('Government expenditure', 58),\n",
       " ('Employment', 59),\n",
       " ('age', 60),\n",
       " ('pdays', 61),\n",
       " ('job', 62),\n",
       " ('Mortgage credit interest rate', 63),\n",
       " ('Current account balance', 64),\n",
       " ('FDI', 65),\n",
       " ('Exports', 66),\n",
       " ('railway_passengers', 67),\n",
       " ('Budget balance', 68),\n",
       " ('Government debt', 69),\n",
       " ('Gross Domestic Product (GDP)', 70),\n",
       " ('Exchange rate to USD', 71),\n",
       " ('Investment as percent of GDP', 72)]"
      ]
     },
     "execution_count": 80,
     "metadata": {},
     "output_type": "execute_result"
    }
   ],
   "source": [
    "sorted(list(zip(names, fit.ranking_)), key=lambda tup:tup[1], reverse=False)"
   ]
  },
  {
   "cell_type": "code",
   "execution_count": null,
   "metadata": {
    "collapsed": true
   },
   "outputs": [],
   "source": []
  },
  {
   "cell_type": "code",
   "execution_count": null,
   "metadata": {
    "collapsed": true
   },
   "outputs": [],
   "source": []
  },
  {
   "cell_type": "code",
   "execution_count": null,
   "metadata": {
    "collapsed": true
   },
   "outputs": [],
   "source": []
  },
  {
   "cell_type": "markdown",
   "metadata": {},
   "source": [
    "Feature Importance with Decision Trees"
   ]
  },
  {
   "cell_type": "code",
   "execution_count": 81,
   "metadata": {
    "collapsed": true
   },
   "outputs": [],
   "source": [
    "from sklearn.ensemble import ExtraTreesClassifier"
   ]
  },
  {
   "cell_type": "code",
   "execution_count": 82,
   "metadata": {},
   "outputs": [
    {
     "name": "stderr",
     "output_type": "stream",
     "text": [
      "/Users/pauldefusco/anaconda2/envs/py36/lib/python3.6/site-packages/sklearn/ensemble/forest.py:246: FutureWarning: The default value of n_estimators will change from 10 in version 0.20 to 100 in 0.22.\n",
      "  \"10 in version 0.20 to 100 in 0.22.\", FutureWarning)\n"
     ]
    },
    {
     "name": "stdout",
     "output_type": "stream",
     "text": [
      "[1.612e-04 1.098e-03 2.262e-03 2.874e-04 1.406e-03 5.125e-03 2.674e-04\n",
      " 4.942e-03 9.389e-04 2.342e-03 2.409e-03 1.401e-03 1.135e-02 3.668e-03\n",
      " 2.468e-04 8.791e-03 5.672e-02 1.708e-01 1.076e-01 2.648e-02 1.578e-02\n",
      " 9.459e-03 3.243e-04 1.370e-03 5.802e-02 3.118e-03 8.952e-02 4.883e-02\n",
      " 8.460e-02 1.317e-02 3.532e-02 2.528e-02 1.577e-02 1.269e-03 4.575e-02\n",
      " 2.807e-02 2.288e-03 1.527e-02 6.372e-03 1.404e-02 8.341e-04 1.399e-02\n",
      " 2.742e-04 1.140e-04 4.045e-04 1.198e-02 4.359e-03 1.179e-04 1.061e-03\n",
      " 9.607e-05 4.770e-03 2.806e-03 3.822e-04 2.690e-04 9.630e-05 5.315e-03\n",
      " 2.815e-04 4.029e-03 6.336e-03 9.906e-03 4.747e-04 1.374e-03 6.444e-05\n",
      " 2.726e-04 7.147e-05 1.826e-04 1.953e-03 1.409e-03 1.173e-03 8.657e-05\n",
      " 3.472e-03 2.866e-05]\n"
     ]
    }
   ],
   "source": [
    "model = ExtraTreesClassifier()\n",
    "model.fit(X, y)\n",
    "print(model.feature_importances_)"
   ]
  },
  {
   "cell_type": "code",
   "execution_count": 83,
   "metadata": {},
   "outputs": [
    {
     "data": {
      "text/plain": [
       "[('age', 0.17084381456194841),\n",
       " ('campaign', 0.10764455084485466),\n",
       " ('job', 0.08952188867652652),\n",
       " ('education', 0.08460459539760805),\n",
       " ('euribor3m', 0.0580226563148596),\n",
       " ('day', 0.056723501886880315),\n",
       " ('marital', 0.04883293869369102),\n",
       " ('day_of_week_last_contact', 0.0457463346994218),\n",
       " ('housing', 0.03532021164587391),\n",
       " ('poutcome', 0.028073821307882857),\n",
       " ('pdays', 0.026475444978892714),\n",
       " ('loan', 0.025283874462812633),\n",
       " ('previous', 0.01577853289415438),\n",
       " ('contact', 0.015771761189674598),\n",
       " ('Deposit interest rate', 0.015270125300590492),\n",
       " ('Business credit interest rate', 0.014040150657070965),\n",
       " ('Unemployment rate', 0.013989876622913247),\n",
       " ('default', 0.013167731792014897),\n",
       " ('Foreign exchange reserves', 0.011978897577578213),\n",
       " ('emplmnt_industry_index', 0.011350156697195071),\n",
       " ('Household consumption', 0.009905947546647132),\n",
       " ('emp.var.rate', 0.009459388062056538),\n",
       " ('year', 0.008790839429067408),\n",
       " ('Mortgage credit interest rate', 0.006371630261835744),\n",
       " ('Money supply (broad money)', 0.006335678401616904),\n",
       " ('Mortgage credit', 0.005314850076046308),\n",
       " ('inflation_delta_expect', 0.00512533152946262),\n",
       " ('economy_past', 0.004941610869657919),\n",
       " ('Minimum wage', 0.004770485668450242),\n",
       " ('Government expenditure', 0.004359105935052942),\n",
       " ('Consumer Price Index (CPI)', 0.004028522640149726),\n",
       " ('railway_passengers', 0.0036680546975195695),\n",
       " ('Consumer confidence survey', 0.003471996225087968),\n",
       " ('nr.employed', 0.0031177962085211838),\n",
       " ('Government debt', 0.002805691525338875),\n",
       " ('household_debt_ratio', 0.0024085067777040647),\n",
       " ('savings_delta_expect', 0.0023421983599701828),\n",
       " ('Consumer credit', 0.0022881479415511733),\n",
       " ('major_purch_expect', 0.002261603540103169),\n",
       " ('Inflation monthly', 0.0019534689552160155),\n",
       " ('Inflation annual', 0.0014092232214603778),\n",
       " ('unempl_expect', 0.0014061475914898796),\n",
       " ('savings_expect', 0.0014005581214055491),\n",
       " ('Economic growth', 0.001374017556637115),\n",
       " ('cons.conf.idx', 0.001369657705157154),\n",
       " ('month_last_contact', 0.001269346984625332),\n",
       " ('Retail sales', 0.0011734683818123387),\n",
       " ('ind_turnover', 0.0010981683776397331),\n",
       " ('Labor cost', 0.0010609238969213467),\n",
       " ('financial_past', 0.0009388758928873104),\n",
       " ('Employment', 0.0008340744375712241),\n",
       " ('Investment', 0.000474700379561152),\n",
       " ('FDI', 0.00040451761496405967),\n",
       " ('Private sector credit', 0.00038216916931414855),\n",
       " ('cons.price.idx', 0.0003243421233270361),\n",
       " ('major_purch_opportu', 0.00028739923819633075),\n",
       " ('Gross Domestic Product (GDP)', 0.00028150195578291324),\n",
       " ('Current account balance', 0.00027422294766134053),\n",
       " ('Investment as percent of GDP', 0.00027261512767612003),\n",
       " ('Business credit', 0.00026895939770931577),\n",
       " ('economy_expect', 0.00026742427670192265),\n",
       " ('month', 0.00024677528498300906),\n",
       " ('Consumption as percent of GDP', 0.0001826249872489381),\n",
       " ('cons_conf', 0.00016123211408319008),\n",
       " ('Budget balance', 0.00011785950279159167),\n",
       " ('Exports', 0.00011395851342250733),\n",
       " ('Household credit', 9.630157225667599e-05),\n",
       " ('Exchange rate to USD', 9.607116469165595e-05),\n",
       " ('Business confidence survey', 8.657297985827445e-05),\n",
       " ('Investment growth', 7.146589676785031e-05),\n",
       " ('Consumption growth', 6.444284794077966e-05),\n",
       " ('Economic growth Q-on-Q', 2.865988395374926e-05)]"
      ]
     },
     "execution_count": 83,
     "metadata": {},
     "output_type": "execute_result"
    }
   ],
   "source": [
    "sorted(list(zip(names, model.feature_importances_)), key=lambda tup:tup[1], reverse=True)"
   ]
  },
  {
   "cell_type": "code",
   "execution_count": null,
   "metadata": {
    "collapsed": true
   },
   "outputs": [],
   "source": []
  },
  {
   "cell_type": "markdown",
   "metadata": {
    "collapsed": true
   },
   "source": [
    "Important Visualizations"
   ]
  },
  {
   "cell_type": "code",
   "execution_count": null,
   "metadata": {
    "collapsed": true
   },
   "outputs": [],
   "source": []
  },
  {
   "cell_type": "code",
   "execution_count": null,
   "metadata": {
    "collapsed": true
   },
   "outputs": [],
   "source": []
  },
  {
   "cell_type": "code",
   "execution_count": null,
   "metadata": {
    "collapsed": true
   },
   "outputs": [],
   "source": []
  },
  {
   "cell_type": "code",
   "execution_count": null,
   "metadata": {
    "collapsed": true
   },
   "outputs": [],
   "source": []
  },
  {
   "cell_type": "code",
   "execution_count": null,
   "metadata": {
    "collapsed": true
   },
   "outputs": [],
   "source": []
  },
  {
   "cell_type": "code",
   "execution_count": null,
   "metadata": {
    "collapsed": true
   },
   "outputs": [],
   "source": []
  },
  {
   "cell_type": "code",
   "execution_count": null,
   "metadata": {
    "collapsed": true
   },
   "outputs": [],
   "source": []
  },
  {
   "cell_type": "code",
   "execution_count": null,
   "metadata": {
    "collapsed": true
   },
   "outputs": [],
   "source": []
  }
 ],
 "metadata": {
  "kernelspec": {
   "display_name": "Python 3",
   "language": "python",
   "name": "python3"
  },
  "language_info": {
   "codemirror_mode": {
    "name": "ipython",
    "version": 3
   },
   "file_extension": ".py",
   "mimetype": "text/x-python",
   "name": "python",
   "nbconvert_exporter": "python",
   "pygments_lexer": "ipython3",
   "version": "3.6.3"
  }
 },
 "nbformat": 4,
 "nbformat_minor": 2
}
