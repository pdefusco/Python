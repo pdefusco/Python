{
 "cells": [
  {
   "cell_type": "markdown",
   "metadata": {},
   "source": [
    "### Duration Regression"
   ]
  },
  {
   "cell_type": "markdown",
   "metadata": {},
   "source": [
    "#### bank client data:\n",
    "    1 - age (numeric)\n",
    "    2 - job : type of job (categorical: 'admin.','blue-collar','entrepreneur','housemaid','management','retired','self-employed','services','student','technician','unemployed','unknown')\n",
    "    3 - marital : marital status (categorical: 'divorced','married','single','unknown'; note: 'divorced' means divorced or widowed)\n",
    "    4 - education (categorical: 'basic.4y','basic.6y','basic.9y','high.school','illiterate','professional.course','university.degree','unknown')\n",
    "    5 - default: has credit in default? (categorical: 'no','yes','unknown')\n",
    "    6 - housing: has housing loan? (categorical: 'no','yes','unknown')\n",
    "    7 - loan: has personal loan? (categorical: 'no','yes','unknown')\n",
    "    \n",
    "#### related with the last contact of the current campaign:\n",
    "    8 - contact: contact communication type (categorical: 'cellular','telephone') \n",
    "    9 - month: last contact month of year (categorical: 'jan', 'feb', 'mar', ..., 'nov', 'dec')\n",
    "    10 - day_of_week: last contact day of the week (categorical: 'mon','tue','wed','thu','fri')\n",
    "    11 - duration: last contact duration, in seconds (numeric). Important note: this attribute highly affects the output target (e.g., if duration=0 then y='no'). Yet, the duration is not known before a call is performed. Also, after the end of the call y is obviously known. Thus, this input should only be included for benchmark purposes and should be discarded if the intention is to have a realistic predictive model.\n",
    "    \n",
    "#### other attributes:\n",
    "    12 - campaign: number of contacts performed during this campaign and for this client (numeric, includes last contact)\n",
    "    13 - pdays: number of days that passed by after the client was last contacted from a previous campaign (numeric; 999 means client was not previously contacted)\n",
    "    14 - previous: number of contacts performed before this campaign and for this client (numeric)\n",
    "    15 - poutcome: outcome of the previous marketing campaign (categorical: 'failure','nonexistent','success')\n",
    "    \n",
    "#### social and economic context attributes\n",
    "    16 - emp.var.rate: employment variation rate - quarterly indicator (numeric)\n",
    "    17 - cons.price.idx: consumer price index - monthly indicator (numeric) \n",
    "    18 - cons.conf.idx: consumer confidence index - monthly indicator (numeric) \n",
    "    19 - euribor3m: euribor 3 month rate - daily indicator (numeric)\n",
    "    20 - nr.employed: number of employees - quarterly indicator (numeric)\n",
    "\n",
    "#### Output variable (desired target):"
   ]
  },
  {
   "cell_type": "markdown",
   "metadata": {},
   "source": [
    "- Objective: implement model to predict call duration ahead of its occurrence so it can be used by Stacking Ensembles"
   ]
  },
  {
   "cell_type": "code",
   "execution_count": 704,
   "metadata": {
    "collapsed": true
   },
   "outputs": [],
   "source": [
    "%matplotlib inline\n",
    "\n",
    "import pandas as pd\n",
    "import numpy as np\n",
    "import os\n",
    "import matplotlib as mpl\n",
    "import matplotlib.pyplot as plt\n",
    "import seaborn as sns\n",
    "from scipy import stats\n",
    "import math"
   ]
  },
  {
   "cell_type": "code",
   "execution_count": 705,
   "metadata": {},
   "outputs": [],
   "source": [
    "from sklearn.linear_model import LinearRegression, Ridge, ElasticNet, Lasso\n",
    "from sklearn.model_selection import train_test_split, StratifiedKFold, GridSearchCV, cross_val_score, cross_val_predict\n",
    "from sklearn import preprocessing"
   ]
  },
  {
   "cell_type": "code",
   "execution_count": 750,
   "metadata": {
    "collapsed": true
   },
   "outputs": [],
   "source": [
    "from sklearn.pipeline import make_pipeline\n",
    "from sklearn.metrics import accuracy_score, r2_score\n",
    "#from sklearn.utils.fixes import signature\n",
    "pd.options.display.float_format = '{:.2f}'.format\n",
    "pd.set_option('display.float_format', lambda x: '%.3f' % x)\n",
    "\n",
    "#Also try ARMA models"
   ]
  },
  {
   "cell_type": "code",
   "execution_count": 832,
   "metadata": {},
   "outputs": [],
   "source": [
    "data = pd.read_pickle('data/pickle_files/df_pickle_w_time_stats')\n",
    "df = data.copy()"
   ]
  },
  {
   "cell_type": "code",
   "execution_count": 833,
   "metadata": {
    "collapsed": true
   },
   "outputs": [],
   "source": [
    "cat_vars = ['job','marital', 'education', 'default', 'housing', 'loan', 'contact',\n",
    "       'month_last_contact', 'day_of_week_last_contact', 'poutcome']"
   ]
  },
  {
   "cell_type": "code",
   "execution_count": 834,
   "metadata": {
    "collapsed": true
   },
   "outputs": [],
   "source": [
    "df = df.drop(columns = cat_vars)"
   ]
  },
  {
   "cell_type": "code",
   "execution_count": 835,
   "metadata": {},
   "outputs": [
    {
     "data": {
      "text/plain": [
       "Index(['cons_conf', 'ind_turnover', 'major_purch_expect',\n",
       "       'major_purch_opportu', 'unempl_expect', 'inflation_delta_expect',\n",
       "       'economy_expect', 'economy_past', 'financial_past',\n",
       "       'savings_delta_expect', 'household_debt_ratio', 'savings_expect',\n",
       "       'emplmnt_industry_index', 'railway_passengers', 'month', 'year', 'Date',\n",
       "       'day', 'age', 'duration', 'campaign', 'pdays', 'previous',\n",
       "       'emp.var.rate', 'cons.price.idx', 'cons.conf.idx', 'euribor3m',\n",
       "       'nr.employed', 'y'],\n",
       "      dtype='object')"
      ]
     },
     "execution_count": 835,
     "metadata": {},
     "output_type": "execute_result"
    }
   ],
   "source": [
    "df.columns"
   ]
  },
  {
   "cell_type": "code",
   "execution_count": 836,
   "metadata": {
    "scrolled": true
   },
   "outputs": [],
   "source": [
    "df.drop(columns = ['Date', 'month', 'day'], inplace=True)"
   ]
  },
  {
   "cell_type": "code",
   "execution_count": 837,
   "metadata": {},
   "outputs": [
    {
     "data": {
      "text/html": [
       "<div>\n",
       "<style scoped>\n",
       "    .dataframe tbody tr th:only-of-type {\n",
       "        vertical-align: middle;\n",
       "    }\n",
       "\n",
       "    .dataframe tbody tr th {\n",
       "        vertical-align: top;\n",
       "    }\n",
       "\n",
       "    .dataframe thead th {\n",
       "        text-align: right;\n",
       "    }\n",
       "</style>\n",
       "<table border=\"1\" class=\"dataframe\">\n",
       "  <thead>\n",
       "    <tr style=\"text-align: right;\">\n",
       "      <th></th>\n",
       "      <th>cons_conf</th>\n",
       "      <th>ind_turnover</th>\n",
       "      <th>major_purch_expect</th>\n",
       "      <th>major_purch_opportu</th>\n",
       "      <th>unempl_expect</th>\n",
       "      <th>inflation_delta_expect</th>\n",
       "      <th>economy_expect</th>\n",
       "      <th>economy_past</th>\n",
       "      <th>financial_past</th>\n",
       "      <th>savings_delta_expect</th>\n",
       "      <th>...</th>\n",
       "      <th>duration</th>\n",
       "      <th>campaign</th>\n",
       "      <th>pdays</th>\n",
       "      <th>previous</th>\n",
       "      <th>emp.var.rate</th>\n",
       "      <th>cons.price.idx</th>\n",
       "      <th>cons.conf.idx</th>\n",
       "      <th>euribor3m</th>\n",
       "      <th>nr.employed</th>\n",
       "      <th>y</th>\n",
       "    </tr>\n",
       "  </thead>\n",
       "  <tbody>\n",
       "    <tr>\n",
       "      <th>0</th>\n",
       "      <td>-28.500</td>\n",
       "      <td>113.720</td>\n",
       "      <td>-21.800</td>\n",
       "      <td>-65.100</td>\n",
       "      <td>48.700</td>\n",
       "      <td>52.200</td>\n",
       "      <td>-33.300</td>\n",
       "      <td>-57.100</td>\n",
       "      <td>-28.000</td>\n",
       "      <td>-37.800</td>\n",
       "      <td>...</td>\n",
       "      <td>261</td>\n",
       "      <td>1</td>\n",
       "      <td>999</td>\n",
       "      <td>0</td>\n",
       "      <td>1.100</td>\n",
       "      <td>93.994</td>\n",
       "      <td>-36.400</td>\n",
       "      <td>4.857</td>\n",
       "      <td>5191.000</td>\n",
       "      <td>0</td>\n",
       "    </tr>\n",
       "    <tr>\n",
       "      <th>1</th>\n",
       "      <td>-28.500</td>\n",
       "      <td>113.720</td>\n",
       "      <td>-21.800</td>\n",
       "      <td>-65.100</td>\n",
       "      <td>48.700</td>\n",
       "      <td>52.200</td>\n",
       "      <td>-33.300</td>\n",
       "      <td>-57.100</td>\n",
       "      <td>-28.000</td>\n",
       "      <td>-37.800</td>\n",
       "      <td>...</td>\n",
       "      <td>149</td>\n",
       "      <td>1</td>\n",
       "      <td>999</td>\n",
       "      <td>0</td>\n",
       "      <td>1.100</td>\n",
       "      <td>93.994</td>\n",
       "      <td>-36.400</td>\n",
       "      <td>4.857</td>\n",
       "      <td>5191.000</td>\n",
       "      <td>0</td>\n",
       "    </tr>\n",
       "    <tr>\n",
       "      <th>2</th>\n",
       "      <td>-28.500</td>\n",
       "      <td>113.720</td>\n",
       "      <td>-21.800</td>\n",
       "      <td>-65.100</td>\n",
       "      <td>48.700</td>\n",
       "      <td>52.200</td>\n",
       "      <td>-33.300</td>\n",
       "      <td>-57.100</td>\n",
       "      <td>-28.000</td>\n",
       "      <td>-37.800</td>\n",
       "      <td>...</td>\n",
       "      <td>226</td>\n",
       "      <td>1</td>\n",
       "      <td>999</td>\n",
       "      <td>0</td>\n",
       "      <td>1.100</td>\n",
       "      <td>93.994</td>\n",
       "      <td>-36.400</td>\n",
       "      <td>4.857</td>\n",
       "      <td>5191.000</td>\n",
       "      <td>0</td>\n",
       "    </tr>\n",
       "    <tr>\n",
       "      <th>3</th>\n",
       "      <td>-28.500</td>\n",
       "      <td>113.720</td>\n",
       "      <td>-21.800</td>\n",
       "      <td>-65.100</td>\n",
       "      <td>48.700</td>\n",
       "      <td>52.200</td>\n",
       "      <td>-33.300</td>\n",
       "      <td>-57.100</td>\n",
       "      <td>-28.000</td>\n",
       "      <td>-37.800</td>\n",
       "      <td>...</td>\n",
       "      <td>151</td>\n",
       "      <td>1</td>\n",
       "      <td>999</td>\n",
       "      <td>0</td>\n",
       "      <td>1.100</td>\n",
       "      <td>93.994</td>\n",
       "      <td>-36.400</td>\n",
       "      <td>4.857</td>\n",
       "      <td>5191.000</td>\n",
       "      <td>0</td>\n",
       "    </tr>\n",
       "    <tr>\n",
       "      <th>4</th>\n",
       "      <td>-28.500</td>\n",
       "      <td>113.720</td>\n",
       "      <td>-21.800</td>\n",
       "      <td>-65.100</td>\n",
       "      <td>48.700</td>\n",
       "      <td>52.200</td>\n",
       "      <td>-33.300</td>\n",
       "      <td>-57.100</td>\n",
       "      <td>-28.000</td>\n",
       "      <td>-37.800</td>\n",
       "      <td>...</td>\n",
       "      <td>307</td>\n",
       "      <td>1</td>\n",
       "      <td>999</td>\n",
       "      <td>0</td>\n",
       "      <td>1.100</td>\n",
       "      <td>93.994</td>\n",
       "      <td>-36.400</td>\n",
       "      <td>4.857</td>\n",
       "      <td>5191.000</td>\n",
       "      <td>0</td>\n",
       "    </tr>\n",
       "  </tbody>\n",
       "</table>\n",
       "<p>5 rows × 26 columns</p>\n",
       "</div>"
      ],
      "text/plain": [
       "   cons_conf  ind_turnover  major_purch_expect  major_purch_opportu  \\\n",
       "0    -28.500       113.720             -21.800              -65.100   \n",
       "1    -28.500       113.720             -21.800              -65.100   \n",
       "2    -28.500       113.720             -21.800              -65.100   \n",
       "3    -28.500       113.720             -21.800              -65.100   \n",
       "4    -28.500       113.720             -21.800              -65.100   \n",
       "\n",
       "   unempl_expect  inflation_delta_expect  economy_expect  economy_past  \\\n",
       "0         48.700                  52.200         -33.300       -57.100   \n",
       "1         48.700                  52.200         -33.300       -57.100   \n",
       "2         48.700                  52.200         -33.300       -57.100   \n",
       "3         48.700                  52.200         -33.300       -57.100   \n",
       "4         48.700                  52.200         -33.300       -57.100   \n",
       "\n",
       "   financial_past  savings_delta_expect ...  duration  campaign  pdays  \\\n",
       "0         -28.000               -37.800 ...       261         1    999   \n",
       "1         -28.000               -37.800 ...       149         1    999   \n",
       "2         -28.000               -37.800 ...       226         1    999   \n",
       "3         -28.000               -37.800 ...       151         1    999   \n",
       "4         -28.000               -37.800 ...       307         1    999   \n",
       "\n",
       "   previous  emp.var.rate  cons.price.idx  cons.conf.idx  euribor3m  \\\n",
       "0         0         1.100          93.994        -36.400      4.857   \n",
       "1         0         1.100          93.994        -36.400      4.857   \n",
       "2         0         1.100          93.994        -36.400      4.857   \n",
       "3         0         1.100          93.994        -36.400      4.857   \n",
       "4         0         1.100          93.994        -36.400      4.857   \n",
       "\n",
       "   nr.employed  y  \n",
       "0     5191.000  0  \n",
       "1     5191.000  0  \n",
       "2     5191.000  0  \n",
       "3     5191.000  0  \n",
       "4     5191.000  0  \n",
       "\n",
       "[5 rows x 26 columns]"
      ]
     },
     "execution_count": 837,
     "metadata": {},
     "output_type": "execute_result"
    }
   ],
   "source": [
    "df.head()"
   ]
  },
  {
   "cell_type": "code",
   "execution_count": 838,
   "metadata": {},
   "outputs": [],
   "source": [
    "#Checking dtypes have loaded correctly (should return empty index)\n",
    "df.select_dtypes(exclude = ['float64', 'int64']).columns\n",
    "\n",
    "df = df[df['duration']>0]\n",
    "\n",
    "#y = df['duration']\n",
    "\n",
    "#del df['duration']\n",
    "\n",
    "scaler = preprocessing.StandardScaler().fit(df)\n",
    "X_transformed = pd.DataFrame(scaler.transform(df), columns = df.columns)\n",
    "\n",
    "y = X_transformed['duration']\n",
    "X_transformed = X_transformed.drop(columns=['duration', 'y'])\n",
    "\n",
    "X_transformed = np.array(X_transformed)\n",
    "\n",
    "#X_train, X_test, y_train, y_test = train_test_split(pd.DataFrame(X_transformed), y, random_state = 4)\n",
    "\n",
    "#will work with numpy arrays\n",
    "\n",
    "#y = np.array(np.log(y))\n",
    "#X = np.array(X_transformed)"
   ]
  },
  {
   "cell_type": "code",
   "execution_count": 819,
   "metadata": {},
   "outputs": [
    {
     "name": "stderr",
     "output_type": "stream",
     "text": [
      "/Users/pauldefusco/anaconda2/envs/py36/lib/python3.6/site-packages/scipy/stats/stats.py:1713: FutureWarning: Using a non-tuple sequence for multidimensional indexing is deprecated; use `arr[tuple(seq)]` instead of `arr[seq]`. In the future this will be interpreted as an array index, `arr[np.array(seq)]`, which will result either in an error or a different result.\n",
      "  return np.add.reduce(sorted[indexer] * weights, axis=axis) / sumval\n"
     ]
    },
    {
     "data": {
      "text/plain": [
       "<matplotlib.axes._subplots.AxesSubplot at 0x1a4dcfc6d8>"
      ]
     },
     "execution_count": 819,
     "metadata": {},
     "output_type": "execute_result"
    },
    {
     "data": {
      "image/png": "[encoded data removed]",
      "text/plain": [
       "<Figure size 432x288 with 1 Axes>"
      ]
     },
     "metadata": {
      "needs_background": "light"
     },
     "output_type": "display_data"
    }
   ],
   "source": [
    "sns.distplot(y)"
   ]
  },
  {
   "cell_type": "code",
   "execution_count": 661,
   "metadata": {},
   "outputs": [],
   "source": [
    "df_dummies = pd.DataFrame()\n",
    "for col in cat_vars:\n",
    "    helper = pd.get_dummies(X_transformed[col], drop_first = True)\n",
    "    X_transformed = X_transformed.merge(helper, how='inner', left_index=True, right_index=True)"
   ]
  },
  {
   "cell_type": "code",
   "execution_count": 662,
   "metadata": {},
   "outputs": [],
   "source": [
    "X_transformed.drop(columns = cat_vars, axis=1, inplace=True)"
   ]
  },
  {
   "cell_type": "code",
   "execution_count": 490,
   "metadata": {
    "collapsed": true
   },
   "outputs": [],
   "source": [
    "def nested_CV(X, y, estimator, param_grid, num_cv = 10):\n",
    "    \n",
    "    gs = GridSearchCV(estimator = estimator,\n",
    "                     param_grid = param_grid,\n",
    "                     scoring = 'r2',\n",
    "                     cv=2)\n",
    "    \n",
    "    scores = cross_val_score(estimator, X, y, scoring='r2', cv = num_cv)\n",
    "    #scores_recall = cross_val_score(estimator, X_transformed, y, scoring=make_scorer(report_withrecall), cv = num_cv)\n",
    "    #scores_prec = cross_val_score(gs_LR, X_transformed, y, scoring=make_scorer(report_withprecision), cv = 10)\n",
    "    \n",
    "    #print('ML Algorithm: %s' %(estimator.__name__))\n",
    "    print(\"Average Performance Measures Across %i Folds\" %(num_cv))\n",
    "    print('CV R2 : %.3f +/- %.3f' %(np.mean(scores), np.std(scores)))"
   ]
  },
  {
   "cell_type": "code",
   "execution_count": 663,
   "metadata": {
    "collapsed": true
   },
   "outputs": [],
   "source": [
    "estimator = LinearRegression()"
   ]
  },
  {
   "cell_type": "code",
   "execution_count": 846,
   "metadata": {},
   "outputs": [],
   "source": [
    "X_train, X_test, y_train, y_test = train_test_split(X_transformed,y, test_size = 0.33, random_state = 1)"
   ]
  },
  {
   "cell_type": "code",
   "execution_count": 665,
   "metadata": {},
   "outputs": [],
   "source": [
    "scores = cross_val_score(estimator, X_train, y_train, scoring='r2', cv = 10)"
   ]
  },
  {
   "cell_type": "code",
   "execution_count": 666,
   "metadata": {},
   "outputs": [
    {
     "name": "stdout",
     "output_type": "stream",
     "text": [
      "CV R2 : 0.060 +/- 0.012\n"
     ]
    }
   ],
   "source": [
    "print('CV R2 : %.3f +/- %.3f' %(np.mean(scores), np.std(scores)))"
   ]
  },
  {
   "cell_type": "code",
   "execution_count": 629,
   "metadata": {},
   "outputs": [],
   "source": [
    "y_pred = cross_val_predict(estimator, X_test, y_test, cv=10)"
   ]
  },
  {
   "cell_type": "code",
   "execution_count": 667,
   "metadata": {},
   "outputs": [],
   "source": [
    "estimator.fit(X_train, y_train)\n",
    "y_pred = estimator.predict(X_test)"
   ]
  },
  {
   "cell_type": "code",
   "execution_count": 668,
   "metadata": {},
   "outputs": [
    {
     "data": {
      "text/plain": [
       "0.06892483319062814"
      ]
     },
     "execution_count": 668,
     "metadata": {},
     "output_type": "execute_result"
    }
   ],
   "source": [
    "r2_score(y_test, y_pred)"
   ]
  },
  {
   "cell_type": "code",
   "execution_count": null,
   "metadata": {
    "collapsed": true
   },
   "outputs": [],
   "source": []
  },
  {
   "cell_type": "code",
   "execution_count": 686,
   "metadata": {},
   "outputs": [],
   "source": [
    "poly = preprocessing.PolynomialFeatures(2, interaction_only=True)"
   ]
  },
  {
   "cell_type": "code",
   "execution_count": 687,
   "metadata": {},
   "outputs": [],
   "source": [
    "X_poly = poly.fit_transform(X_transformed)"
   ]
  },
  {
   "cell_type": "code",
   "execution_count": 688,
   "metadata": {
    "collapsed": true
   },
   "outputs": [],
   "source": [
    "X_train, X_test, y_train, y_test = train_test_split(X_poly,y, test_size = 0.33, random_state = 1)"
   ]
  },
  {
   "cell_type": "code",
   "execution_count": 509,
   "metadata": {},
   "outputs": [],
   "source": [
    "#scores = cross_val_score(estimator, X_train, y_train, scoring='r2', cv = 10)"
   ]
  },
  {
   "cell_type": "code",
   "execution_count": 553,
   "metadata": {},
   "outputs": [
    {
     "name": "stdout",
     "output_type": "stream",
     "text": [
      "CV R2 : -0.058 +/- 0.360\n"
     ]
    }
   ],
   "source": [
    "print('CV R2 : %.3f +/- %.3f' %(np.mean(scores), np.std(scores)))"
   ]
  },
  {
   "cell_type": "code",
   "execution_count": null,
   "metadata": {
    "collapsed": true
   },
   "outputs": [],
   "source": [
    "#y_pred = cross_val_predict(estimator, X_test, y_test, cv=10)"
   ]
  },
  {
   "cell_type": "code",
   "execution_count": 554,
   "metadata": {
    "collapsed": true
   },
   "outputs": [],
   "source": [
    "estimator.fit(X_train, y_train)\n",
    "y_pred = estimator.predict(X_test)"
   ]
  },
  {
   "cell_type": "code",
   "execution_count": 555,
   "metadata": {},
   "outputs": [
    {
     "data": {
      "text/plain": [
       "-3.865218797043913"
      ]
     },
     "execution_count": 555,
     "metadata": {},
     "output_type": "execute_result"
    }
   ],
   "source": [
    "r2_score(y_test, y_pred)"
   ]
  },
  {
   "cell_type": "code",
   "execution_count": null,
   "metadata": {
    "collapsed": true
   },
   "outputs": [],
   "source": []
  },
  {
   "cell_type": "code",
   "execution_count": 560,
   "metadata": {
    "collapsed": true
   },
   "outputs": [],
   "source": [
    "from sklearn.linear_model import BayesianRidge, SGDRegressor \n",
    "from sklearn.ensemble import AdaBoostRegressor, RandomForestRegressor, BaggingRegressor, GradientBoostingRegressor"
   ]
  },
  {
   "cell_type": "code",
   "execution_count": 689,
   "metadata": {
    "collapsed": true
   },
   "outputs": [],
   "source": [
    "clf = GradientBoostingRegressor()"
   ]
  },
  {
   "cell_type": "code",
   "execution_count": 693,
   "metadata": {},
   "outputs": [],
   "source": [
    "param_grid = {'learning_rate':[0.06, 0.1, 0.6], 'alpha' : [.3,.4,.5]}\n",
    "              #,'max_depth':[10,20,50]}"
   ]
  },
  {
   "cell_type": "code",
   "execution_count": 694,
   "metadata": {},
   "outputs": [
    {
     "data": {
      "text/plain": [
       "'GradientBoostingRegressor'"
      ]
     },
     "execution_count": 694,
     "metadata": {},
     "output_type": "execute_result"
    }
   ],
   "source": [
    "clf.__class__.__name__"
   ]
  },
  {
   "cell_type": "code",
   "execution_count": 695,
   "metadata": {},
   "outputs": [
    {
     "data": {
      "text/plain": [
       "dict_keys(['alpha', 'criterion', 'init', 'learning_rate', 'loss', 'max_depth', 'max_features', 'max_leaf_nodes', 'min_impurity_decrease', 'min_impurity_split', 'min_samples_leaf', 'min_samples_split', 'min_weight_fraction_leaf', 'n_estimators', 'presort', 'random_state', 'subsample', 'verbose', 'warm_start'])"
      ]
     },
     "execution_count": 695,
     "metadata": {},
     "output_type": "execute_result"
    }
   ],
   "source": [
    "clf.get_params().keys()"
   ]
  },
  {
   "cell_type": "code",
   "execution_count": 696,
   "metadata": {},
   "outputs": [
    {
     "ename": "KeyboardInterrupt",
     "evalue": "",
     "output_type": "error",
     "traceback": [
      "\u001b[0;31m---------------------------------------------------------------------------\u001b[0m",
      "\u001b[0;31mKeyboardInterrupt\u001b[0m                         Traceback (most recent call last)",
      "\u001b[0;32m<ipython-input-696-41e73b541bc6>\u001b[0m in \u001b[0;36m<module>\u001b[0;34m()\u001b[0m\n\u001b[0;32m----> 1\u001b[0;31m \u001b[0mgs\u001b[0m \u001b[0;34m=\u001b[0m \u001b[0mGridSearchCV\u001b[0m\u001b[0;34m(\u001b[0m\u001b[0mclf\u001b[0m\u001b[0;34m,\u001b[0m \u001b[0mparam_grid\u001b[0m\u001b[0;34m)\u001b[0m\u001b[0;34m.\u001b[0m\u001b[0mfit\u001b[0m\u001b[0;34m(\u001b[0m\u001b[0mX_train\u001b[0m\u001b[0;34m,\u001b[0m \u001b[0my_train\u001b[0m\u001b[0;34m)\u001b[0m\u001b[0;34m\u001b[0m\u001b[0m\n\u001b[0m",
      "\u001b[0;32m~/anaconda2/envs/py36/lib/python3.6/site-packages/sklearn/model_selection/_search.py\u001b[0m in \u001b[0;36mfit\u001b[0;34m(self, X, y, groups, **fit_params)\u001b[0m\n\u001b[1;32m    637\u001b[0m                                   error_score=self.error_score)\n\u001b[1;32m    638\u001b[0m           for parameters, (train, test) in product(candidate_params,\n\u001b[0;32m--> 639\u001b[0;31m                                                    cv.split(X, y, groups)))\n\u001b[0m\u001b[1;32m    640\u001b[0m \u001b[0;34m\u001b[0m\u001b[0m\n\u001b[1;32m    641\u001b[0m         \u001b[0;31m# if one choose to see train score, \"out\" will contain train score info\u001b[0m\u001b[0;34m\u001b[0m\u001b[0;34m\u001b[0m\u001b[0m\n",
      "\u001b[0;32m~/anaconda2/envs/py36/lib/python3.6/site-packages/sklearn/externals/joblib/parallel.py\u001b[0m in \u001b[0;36m__call__\u001b[0;34m(self, iterable)\u001b[0m\n\u001b[1;32m    777\u001b[0m             \u001b[0;31m# was dispatched. In particular this covers the edge\u001b[0m\u001b[0;34m\u001b[0m\u001b[0;34m\u001b[0m\u001b[0m\n\u001b[1;32m    778\u001b[0m             \u001b[0;31m# case of Parallel used with an exhausted iterator.\u001b[0m\u001b[0;34m\u001b[0m\u001b[0;34m\u001b[0m\u001b[0m\n\u001b[0;32m--> 779\u001b[0;31m             \u001b[0;32mwhile\u001b[0m \u001b[0mself\u001b[0m\u001b[0;34m.\u001b[0m\u001b[0mdispatch_one_batch\u001b[0m\u001b[0;34m(\u001b[0m\u001b[0miterator\u001b[0m\u001b[0;34m)\u001b[0m\u001b[0;34m:\u001b[0m\u001b[0;34m\u001b[0m\u001b[0m\n\u001b[0m\u001b[1;32m    780\u001b[0m                 \u001b[0mself\u001b[0m\u001b[0;34m.\u001b[0m\u001b[0m_iterating\u001b[0m \u001b[0;34m=\u001b[0m \u001b[0;32mTrue\u001b[0m\u001b[0;34m\u001b[0m\u001b[0m\n\u001b[1;32m    781\u001b[0m             \u001b[0;32melse\u001b[0m\u001b[0;34m:\u001b[0m\u001b[0;34m\u001b[0m\u001b[0m\n",
      "\u001b[0;32m~/anaconda2/envs/py36/lib/python3.6/site-packages/sklearn/externals/joblib/parallel.py\u001b[0m in \u001b[0;36mdispatch_one_batch\u001b[0;34m(self, iterator)\u001b[0m\n\u001b[1;32m    623\u001b[0m                 \u001b[0;32mreturn\u001b[0m \u001b[0;32mFalse\u001b[0m\u001b[0;34m\u001b[0m\u001b[0m\n\u001b[1;32m    624\u001b[0m             \u001b[0;32melse\u001b[0m\u001b[0;34m:\u001b[0m\u001b[0;34m\u001b[0m\u001b[0m\n\u001b[0;32m--> 625\u001b[0;31m                 \u001b[0mself\u001b[0m\u001b[0;34m.\u001b[0m\u001b[0m_dispatch\u001b[0m\u001b[0;34m(\u001b[0m\u001b[0mtasks\u001b[0m\u001b[0;34m)\u001b[0m\u001b[0;34m\u001b[0m\u001b[0m\n\u001b[0m\u001b[1;32m    626\u001b[0m                 \u001b[0;32mreturn\u001b[0m \u001b[0;32mTrue\u001b[0m\u001b[0;34m\u001b[0m\u001b[0m\n\u001b[1;32m    627\u001b[0m \u001b[0;34m\u001b[0m\u001b[0m\n",
      "\u001b[0;32m~/anaconda2/envs/py36/lib/python3.6/site-packages/sklearn/externals/joblib/parallel.py\u001b[0m in \u001b[0;36m_dispatch\u001b[0;34m(self, batch)\u001b[0m\n\u001b[1;32m    586\u001b[0m         \u001b[0mdispatch_timestamp\u001b[0m \u001b[0;34m=\u001b[0m \u001b[0mtime\u001b[0m\u001b[0;34m.\u001b[0m\u001b[0mtime\u001b[0m\u001b[0;34m(\u001b[0m\u001b[0;34m)\u001b[0m\u001b[0;34m\u001b[0m\u001b[0m\n\u001b[1;32m    587\u001b[0m         \u001b[0mcb\u001b[0m \u001b[0;34m=\u001b[0m \u001b[0mBatchCompletionCallBack\u001b[0m\u001b[0;34m(\u001b[0m\u001b[0mdispatch_timestamp\u001b[0m\u001b[0;34m,\u001b[0m \u001b[0mlen\u001b[0m\u001b[0;34m(\u001b[0m\u001b[0mbatch\u001b[0m\u001b[0;34m)\u001b[0m\u001b[0;34m,\u001b[0m \u001b[0mself\u001b[0m\u001b[0;34m)\u001b[0m\u001b[0;34m\u001b[0m\u001b[0m\n\u001b[0;32m--> 588\u001b[0;31m         \u001b[0mjob\u001b[0m \u001b[0;34m=\u001b[0m \u001b[0mself\u001b[0m\u001b[0;34m.\u001b[0m\u001b[0m_backend\u001b[0m\u001b[0;34m.\u001b[0m\u001b[0mapply_async\u001b[0m\u001b[0;34m(\u001b[0m\u001b[0mbatch\u001b[0m\u001b[0;34m,\u001b[0m \u001b[0mcallback\u001b[0m\u001b[0;34m=\u001b[0m\u001b[0mcb\u001b[0m\u001b[0;34m)\u001b[0m\u001b[0;34m\u001b[0m\u001b[0m\n\u001b[0m\u001b[1;32m    589\u001b[0m         \u001b[0mself\u001b[0m\u001b[0;34m.\u001b[0m\u001b[0m_jobs\u001b[0m\u001b[0;34m.\u001b[0m\u001b[0mappend\u001b[0m\u001b[0;34m(\u001b[0m\u001b[0mjob\u001b[0m\u001b[0;34m)\u001b[0m\u001b[0;34m\u001b[0m\u001b[0m\n\u001b[1;32m    590\u001b[0m \u001b[0;34m\u001b[0m\u001b[0m\n",
      "\u001b[0;32m~/anaconda2/envs/py36/lib/python3.6/site-packages/sklearn/externals/joblib/_parallel_backends.py\u001b[0m in \u001b[0;36mapply_async\u001b[0;34m(self, func, callback)\u001b[0m\n\u001b[1;32m    109\u001b[0m     \u001b[0;32mdef\u001b[0m \u001b[0mapply_async\u001b[0m\u001b[0;34m(\u001b[0m\u001b[0mself\u001b[0m\u001b[0;34m,\u001b[0m \u001b[0mfunc\u001b[0m\u001b[0;34m,\u001b[0m \u001b[0mcallback\u001b[0m\u001b[0;34m=\u001b[0m\u001b[0;32mNone\u001b[0m\u001b[0;34m)\u001b[0m\u001b[0;34m:\u001b[0m\u001b[0;34m\u001b[0m\u001b[0m\n\u001b[1;32m    110\u001b[0m         \u001b[0;34m\"\"\"Schedule a func to be run\"\"\"\u001b[0m\u001b[0;34m\u001b[0m\u001b[0m\n\u001b[0;32m--> 111\u001b[0;31m         \u001b[0mresult\u001b[0m \u001b[0;34m=\u001b[0m \u001b[0mImmediateResult\u001b[0m\u001b[0;34m(\u001b[0m\u001b[0mfunc\u001b[0m\u001b[0;34m)\u001b[0m\u001b[0;34m\u001b[0m\u001b[0m\n\u001b[0m\u001b[1;32m    112\u001b[0m         \u001b[0;32mif\u001b[0m \u001b[0mcallback\u001b[0m\u001b[0;34m:\u001b[0m\u001b[0;34m\u001b[0m\u001b[0m\n\u001b[1;32m    113\u001b[0m             \u001b[0mcallback\u001b[0m\u001b[0;34m(\u001b[0m\u001b[0mresult\u001b[0m\u001b[0;34m)\u001b[0m\u001b[0;34m\u001b[0m\u001b[0m\n",
      "\u001b[0;32m~/anaconda2/envs/py36/lib/python3.6/site-packages/sklearn/externals/joblib/_parallel_backends.py\u001b[0m in \u001b[0;36m__init__\u001b[0;34m(self, batch)\u001b[0m\n\u001b[1;32m    330\u001b[0m         \u001b[0;31m# Don't delay the application, to avoid keeping the input\u001b[0m\u001b[0;34m\u001b[0m\u001b[0;34m\u001b[0m\u001b[0m\n\u001b[1;32m    331\u001b[0m         \u001b[0;31m# arguments in memory\u001b[0m\u001b[0;34m\u001b[0m\u001b[0;34m\u001b[0m\u001b[0m\n\u001b[0;32m--> 332\u001b[0;31m         \u001b[0mself\u001b[0m\u001b[0;34m.\u001b[0m\u001b[0mresults\u001b[0m \u001b[0;34m=\u001b[0m \u001b[0mbatch\u001b[0m\u001b[0;34m(\u001b[0m\u001b[0;34m)\u001b[0m\u001b[0;34m\u001b[0m\u001b[0m\n\u001b[0m\u001b[1;32m    333\u001b[0m \u001b[0;34m\u001b[0m\u001b[0m\n\u001b[1;32m    334\u001b[0m     \u001b[0;32mdef\u001b[0m \u001b[0mget\u001b[0m\u001b[0;34m(\u001b[0m\u001b[0mself\u001b[0m\u001b[0;34m)\u001b[0m\u001b[0;34m:\u001b[0m\u001b[0;34m\u001b[0m\u001b[0m\n",
      "\u001b[0;32m~/anaconda2/envs/py36/lib/python3.6/site-packages/sklearn/externals/joblib/parallel.py\u001b[0m in \u001b[0;36m__call__\u001b[0;34m(self)\u001b[0m\n\u001b[1;32m    129\u001b[0m \u001b[0;34m\u001b[0m\u001b[0m\n\u001b[1;32m    130\u001b[0m     \u001b[0;32mdef\u001b[0m \u001b[0m__call__\u001b[0m\u001b[0;34m(\u001b[0m\u001b[0mself\u001b[0m\u001b[0;34m)\u001b[0m\u001b[0;34m:\u001b[0m\u001b[0;34m\u001b[0m\u001b[0m\n\u001b[0;32m--> 131\u001b[0;31m         \u001b[0;32mreturn\u001b[0m \u001b[0;34m[\u001b[0m\u001b[0mfunc\u001b[0m\u001b[0;34m(\u001b[0m\u001b[0;34m*\u001b[0m\u001b[0margs\u001b[0m\u001b[0;34m,\u001b[0m \u001b[0;34m**\u001b[0m\u001b[0mkwargs\u001b[0m\u001b[0;34m)\u001b[0m \u001b[0;32mfor\u001b[0m \u001b[0mfunc\u001b[0m\u001b[0;34m,\u001b[0m \u001b[0margs\u001b[0m\u001b[0;34m,\u001b[0m \u001b[0mkwargs\u001b[0m \u001b[0;32min\u001b[0m \u001b[0mself\u001b[0m\u001b[0;34m.\u001b[0m\u001b[0mitems\u001b[0m\u001b[0;34m]\u001b[0m\u001b[0;34m\u001b[0m\u001b[0m\n\u001b[0m\u001b[1;32m    132\u001b[0m \u001b[0;34m\u001b[0m\u001b[0m\n\u001b[1;32m    133\u001b[0m     \u001b[0;32mdef\u001b[0m \u001b[0m__len__\u001b[0m\u001b[0;34m(\u001b[0m\u001b[0mself\u001b[0m\u001b[0;34m)\u001b[0m\u001b[0;34m:\u001b[0m\u001b[0;34m\u001b[0m\u001b[0m\n",
      "\u001b[0;32m~/anaconda2/envs/py36/lib/python3.6/site-packages/sklearn/externals/joblib/parallel.py\u001b[0m in \u001b[0;36m<listcomp>\u001b[0;34m(.0)\u001b[0m\n\u001b[1;32m    129\u001b[0m \u001b[0;34m\u001b[0m\u001b[0m\n\u001b[1;32m    130\u001b[0m     \u001b[0;32mdef\u001b[0m \u001b[0m__call__\u001b[0m\u001b[0;34m(\u001b[0m\u001b[0mself\u001b[0m\u001b[0;34m)\u001b[0m\u001b[0;34m:\u001b[0m\u001b[0;34m\u001b[0m\u001b[0m\n\u001b[0;32m--> 131\u001b[0;31m         \u001b[0;32mreturn\u001b[0m \u001b[0;34m[\u001b[0m\u001b[0mfunc\u001b[0m\u001b[0;34m(\u001b[0m\u001b[0;34m*\u001b[0m\u001b[0margs\u001b[0m\u001b[0;34m,\u001b[0m \u001b[0;34m**\u001b[0m\u001b[0mkwargs\u001b[0m\u001b[0;34m)\u001b[0m \u001b[0;32mfor\u001b[0m \u001b[0mfunc\u001b[0m\u001b[0;34m,\u001b[0m \u001b[0margs\u001b[0m\u001b[0;34m,\u001b[0m \u001b[0mkwargs\u001b[0m \u001b[0;32min\u001b[0m \u001b[0mself\u001b[0m\u001b[0;34m.\u001b[0m\u001b[0mitems\u001b[0m\u001b[0;34m]\u001b[0m\u001b[0;34m\u001b[0m\u001b[0m\n\u001b[0m\u001b[1;32m    132\u001b[0m \u001b[0;34m\u001b[0m\u001b[0m\n\u001b[1;32m    133\u001b[0m     \u001b[0;32mdef\u001b[0m \u001b[0m__len__\u001b[0m\u001b[0;34m(\u001b[0m\u001b[0mself\u001b[0m\u001b[0;34m)\u001b[0m\u001b[0;34m:\u001b[0m\u001b[0;34m\u001b[0m\u001b[0m\n",
      "\u001b[0;32m~/anaconda2/envs/py36/lib/python3.6/site-packages/sklearn/model_selection/_validation.py\u001b[0m in \u001b[0;36m_fit_and_score\u001b[0;34m(estimator, X, y, scorer, train, test, verbose, parameters, fit_params, return_train_score, return_parameters, return_n_test_samples, return_times, error_score)\u001b[0m\n\u001b[1;32m    456\u001b[0m             \u001b[0mestimator\u001b[0m\u001b[0;34m.\u001b[0m\u001b[0mfit\u001b[0m\u001b[0;34m(\u001b[0m\u001b[0mX_train\u001b[0m\u001b[0;34m,\u001b[0m \u001b[0;34m**\u001b[0m\u001b[0mfit_params\u001b[0m\u001b[0;34m)\u001b[0m\u001b[0;34m\u001b[0m\u001b[0m\n\u001b[1;32m    457\u001b[0m         \u001b[0;32melse\u001b[0m\u001b[0;34m:\u001b[0m\u001b[0;34m\u001b[0m\u001b[0m\n\u001b[0;32m--> 458\u001b[0;31m             \u001b[0mestimator\u001b[0m\u001b[0;34m.\u001b[0m\u001b[0mfit\u001b[0m\u001b[0;34m(\u001b[0m\u001b[0mX_train\u001b[0m\u001b[0;34m,\u001b[0m \u001b[0my_train\u001b[0m\u001b[0;34m,\u001b[0m \u001b[0;34m**\u001b[0m\u001b[0mfit_params\u001b[0m\u001b[0;34m)\u001b[0m\u001b[0;34m\u001b[0m\u001b[0m\n\u001b[0m\u001b[1;32m    459\u001b[0m \u001b[0;34m\u001b[0m\u001b[0m\n\u001b[1;32m    460\u001b[0m     \u001b[0;32mexcept\u001b[0m \u001b[0mException\u001b[0m \u001b[0;32mas\u001b[0m \u001b[0me\u001b[0m\u001b[0;34m:\u001b[0m\u001b[0;34m\u001b[0m\u001b[0m\n",
      "\u001b[0;32m~/anaconda2/envs/py36/lib/python3.6/site-packages/sklearn/ensemble/gradient_boosting.py\u001b[0m in \u001b[0;36mfit\u001b[0;34m(self, X, y, sample_weight, monitor)\u001b[0m\n\u001b[1;32m   1032\u001b[0m         \u001b[0;31m# fit the boosting stages\u001b[0m\u001b[0;34m\u001b[0m\u001b[0;34m\u001b[0m\u001b[0m\n\u001b[1;32m   1033\u001b[0m         n_stages = self._fit_stages(X, y, y_pred, sample_weight, random_state,\n\u001b[0;32m-> 1034\u001b[0;31m                                     begin_at_stage, monitor, X_idx_sorted)\n\u001b[0m\u001b[1;32m   1035\u001b[0m         \u001b[0;31m# change shape of arrays after fit (early-stopping or additional ests)\u001b[0m\u001b[0;34m\u001b[0m\u001b[0;34m\u001b[0m\u001b[0m\n\u001b[1;32m   1036\u001b[0m         \u001b[0;32mif\u001b[0m \u001b[0mn_stages\u001b[0m \u001b[0;34m!=\u001b[0m \u001b[0mself\u001b[0m\u001b[0;34m.\u001b[0m\u001b[0mestimators_\u001b[0m\u001b[0;34m.\u001b[0m\u001b[0mshape\u001b[0m\u001b[0;34m[\u001b[0m\u001b[0;36m0\u001b[0m\u001b[0;34m]\u001b[0m\u001b[0;34m:\u001b[0m\u001b[0;34m\u001b[0m\u001b[0m\n",
      "\u001b[0;32m~/anaconda2/envs/py36/lib/python3.6/site-packages/sklearn/ensemble/gradient_boosting.py\u001b[0m in \u001b[0;36m_fit_stages\u001b[0;34m(self, X, y, y_pred, sample_weight, random_state, begin_at_stage, monitor, X_idx_sorted)\u001b[0m\n\u001b[1;32m   1087\u001b[0m             y_pred = self._fit_stage(i, X, y, y_pred, sample_weight,\n\u001b[1;32m   1088\u001b[0m                                      \u001b[0msample_mask\u001b[0m\u001b[0;34m,\u001b[0m \u001b[0mrandom_state\u001b[0m\u001b[0;34m,\u001b[0m \u001b[0mX_idx_sorted\u001b[0m\u001b[0;34m,\u001b[0m\u001b[0;34m\u001b[0m\u001b[0m\n\u001b[0;32m-> 1089\u001b[0;31m                                      X_csc, X_csr)\n\u001b[0m\u001b[1;32m   1090\u001b[0m \u001b[0;34m\u001b[0m\u001b[0m\n\u001b[1;32m   1091\u001b[0m             \u001b[0;31m# track deviance (= loss)\u001b[0m\u001b[0;34m\u001b[0m\u001b[0;34m\u001b[0m\u001b[0m\n",
      "\u001b[0;32m~/anaconda2/envs/py36/lib/python3.6/site-packages/sklearn/ensemble/gradient_boosting.py\u001b[0m in \u001b[0;36m_fit_stage\u001b[0;34m(self, i, X, y, y_pred, sample_weight, sample_mask, random_state, X_idx_sorted, X_csc, X_csr)\u001b[0m\n\u001b[1;32m    786\u001b[0m             \u001b[0;32melse\u001b[0m\u001b[0;34m:\u001b[0m\u001b[0;34m\u001b[0m\u001b[0m\n\u001b[1;32m    787\u001b[0m                 tree.fit(X, residual, sample_weight=sample_weight,\n\u001b[0;32m--> 788\u001b[0;31m                          check_input=False, X_idx_sorted=X_idx_sorted)\n\u001b[0m\u001b[1;32m    789\u001b[0m \u001b[0;34m\u001b[0m\u001b[0m\n\u001b[1;32m    790\u001b[0m             \u001b[0;31m# update tree leaves\u001b[0m\u001b[0;34m\u001b[0m\u001b[0;34m\u001b[0m\u001b[0m\n",
      "\u001b[0;32m~/anaconda2/envs/py36/lib/python3.6/site-packages/sklearn/tree/tree.py\u001b[0m in \u001b[0;36mfit\u001b[0;34m(self, X, y, sample_weight, check_input, X_idx_sorted)\u001b[0m\n\u001b[1;32m   1122\u001b[0m             \u001b[0msample_weight\u001b[0m\u001b[0;34m=\u001b[0m\u001b[0msample_weight\u001b[0m\u001b[0;34m,\u001b[0m\u001b[0;34m\u001b[0m\u001b[0m\n\u001b[1;32m   1123\u001b[0m             \u001b[0mcheck_input\u001b[0m\u001b[0;34m=\u001b[0m\u001b[0mcheck_input\u001b[0m\u001b[0;34m,\u001b[0m\u001b[0;34m\u001b[0m\u001b[0m\n\u001b[0;32m-> 1124\u001b[0;31m             X_idx_sorted=X_idx_sorted)\n\u001b[0m\u001b[1;32m   1125\u001b[0m         \u001b[0;32mreturn\u001b[0m \u001b[0mself\u001b[0m\u001b[0;34m\u001b[0m\u001b[0m\n\u001b[1;32m   1126\u001b[0m \u001b[0;34m\u001b[0m\u001b[0m\n",
      "\u001b[0;32m~/anaconda2/envs/py36/lib/python3.6/site-packages/sklearn/tree/tree.py\u001b[0m in \u001b[0;36mfit\u001b[0;34m(self, X, y, sample_weight, check_input, X_idx_sorted)\u001b[0m\n\u001b[1;32m    360\u001b[0m                                            min_impurity_split)\n\u001b[1;32m    361\u001b[0m \u001b[0;34m\u001b[0m\u001b[0m\n\u001b[0;32m--> 362\u001b[0;31m         \u001b[0mbuilder\u001b[0m\u001b[0;34m.\u001b[0m\u001b[0mbuild\u001b[0m\u001b[0;34m(\u001b[0m\u001b[0mself\u001b[0m\u001b[0;34m.\u001b[0m\u001b[0mtree_\u001b[0m\u001b[0;34m,\u001b[0m \u001b[0mX\u001b[0m\u001b[0;34m,\u001b[0m \u001b[0my\u001b[0m\u001b[0;34m,\u001b[0m \u001b[0msample_weight\u001b[0m\u001b[0;34m,\u001b[0m \u001b[0mX_idx_sorted\u001b[0m\u001b[0;34m)\u001b[0m\u001b[0;34m\u001b[0m\u001b[0m\n\u001b[0m\u001b[1;32m    363\u001b[0m \u001b[0;34m\u001b[0m\u001b[0m\n\u001b[1;32m    364\u001b[0m         \u001b[0;32mif\u001b[0m \u001b[0mself\u001b[0m\u001b[0;34m.\u001b[0m\u001b[0mn_outputs_\u001b[0m \u001b[0;34m==\u001b[0m \u001b[0;36m1\u001b[0m\u001b[0;34m:\u001b[0m\u001b[0;34m\u001b[0m\u001b[0m\n",
      "\u001b[0;31mKeyboardInterrupt\u001b[0m: "
     ]
    }
   ],
   "source": [
    "gs = GridSearchCV(clf, param_grid).fit(X_train, y_train)"
   ]
  },
  {
   "cell_type": "code",
   "execution_count": null,
   "metadata": {},
   "outputs": [],
   "source": [
    "gs.best_estimator_"
   ]
  },
  {
   "cell_type": "code",
   "execution_count": null,
   "metadata": {},
   "outputs": [],
   "source": [
    "r2_score(y_test, gs.best_estimator_.predict(X_test))"
   ]
  },
  {
   "cell_type": "code",
   "execution_count": null,
   "metadata": {
    "collapsed": true
   },
   "outputs": [],
   "source": []
  },
  {
   "cell_type": "code",
   "execution_count": 676,
   "metadata": {
    "collapsed": true
   },
   "outputs": [],
   "source": [
    "clf = BayesianRidge()"
   ]
  },
  {
   "cell_type": "code",
   "execution_count": 677,
   "metadata": {},
   "outputs": [
    {
     "data": {
      "text/plain": [
       "0.0686398869294349"
      ]
     },
     "execution_count": 677,
     "metadata": {},
     "output_type": "execute_result"
    }
   ],
   "source": [
    "clf.fit(X_train, y_train)\n",
    "r2_score(y_test, clf.predict(X_test))"
   ]
  },
  {
   "cell_type": "code",
   "execution_count": 678,
   "metadata": {
    "collapsed": true
   },
   "outputs": [],
   "source": [
    "clf = SGDRegressor()"
   ]
  },
  {
   "cell_type": "code",
   "execution_count": 679,
   "metadata": {},
   "outputs": [
    {
     "name": "stderr",
     "output_type": "stream",
     "text": [
      "/Users/pauldefusco/anaconda2/envs/py36/lib/python3.6/site-packages/sklearn/linear_model/stochastic_gradient.py:128: FutureWarning: max_iter and tol parameters have been added in <class 'sklearn.linear_model.stochastic_gradient.SGDRegressor'> in 0.19. If both are left unset, they default to max_iter=5 and tol=None. If tol is not None, max_iter defaults to max_iter=1000. From 0.21, default max_iter will be 1000, and default tol will be 1e-3.\n",
      "  \"and default tol will be 1e-3.\" % type(self), FutureWarning)\n"
     ]
    },
    {
     "data": {
      "text/plain": [
       "0.02947761489218781"
      ]
     },
     "execution_count": 679,
     "metadata": {},
     "output_type": "execute_result"
    }
   ],
   "source": [
    "clf.fit(X_train, y_train)\n",
    "r2_score(y_test, clf.predict(X_test))"
   ]
  },
  {
   "cell_type": "code",
   "execution_count": null,
   "metadata": {
    "collapsed": true
   },
   "outputs": [],
   "source": []
  },
  {
   "cell_type": "code",
   "execution_count": 680,
   "metadata": {
    "collapsed": true
   },
   "outputs": [],
   "source": [
    "clf = AdaBoostRegressor()"
   ]
  },
  {
   "cell_type": "code",
   "execution_count": 681,
   "metadata": {},
   "outputs": [
    {
     "data": {
      "text/plain": [
       "0.0621986966020831"
      ]
     },
     "execution_count": 681,
     "metadata": {},
     "output_type": "execute_result"
    }
   ],
   "source": [
    "clf.fit(X_train, y_train)\n",
    "r2_score(y_test, clf.predict(X_test))"
   ]
  },
  {
   "cell_type": "code",
   "execution_count": null,
   "metadata": {
    "collapsed": true
   },
   "outputs": [],
   "source": []
  },
  {
   "cell_type": "code",
   "execution_count": 682,
   "metadata": {
    "collapsed": true
   },
   "outputs": [],
   "source": [
    "clf = RandomForestRegressor()"
   ]
  },
  {
   "cell_type": "code",
   "execution_count": 683,
   "metadata": {},
   "outputs": [
    {
     "data": {
      "text/plain": [
       "-0.03245762495690574"
      ]
     },
     "execution_count": 683,
     "metadata": {},
     "output_type": "execute_result"
    }
   ],
   "source": [
    "clf.fit(X_train, y_train)\n",
    "r2_score(y_test, clf.predict(X_test))"
   ]
  },
  {
   "cell_type": "code",
   "execution_count": null,
   "metadata": {
    "collapsed": true
   },
   "outputs": [],
   "source": []
  },
  {
   "cell_type": "code",
   "execution_count": 684,
   "metadata": {
    "collapsed": true
   },
   "outputs": [],
   "source": [
    "clf = BaggingRegressor()"
   ]
  },
  {
   "cell_type": "code",
   "execution_count": 685,
   "metadata": {},
   "outputs": [
    {
     "data": {
      "text/plain": [
       "-0.04096892742737279"
      ]
     },
     "execution_count": 685,
     "metadata": {},
     "output_type": "execute_result"
    }
   ],
   "source": [
    "clf.fit(X_train, y_train)\n",
    "r2_score(y_test, clf.predict(X_test))"
   ]
  },
  {
   "cell_type": "code",
   "execution_count": null,
   "metadata": {
    "collapsed": true
   },
   "outputs": [],
   "source": []
  },
  {
   "cell_type": "code",
   "execution_count": null,
   "metadata": {
    "collapsed": true
   },
   "outputs": [],
   "source": []
  },
  {
   "cell_type": "code",
   "execution_count": null,
   "metadata": {
    "collapsed": true
   },
   "outputs": [],
   "source": []
  },
  {
   "cell_type": "code",
   "execution_count": null,
   "metadata": {
    "collapsed": true
   },
   "outputs": [],
   "source": []
  },
  {
   "cell_type": "code",
   "execution_count": null,
   "metadata": {
    "collapsed": true
   },
   "outputs": [],
   "source": []
  },
  {
   "cell_type": "code",
   "execution_count": null,
   "metadata": {
    "collapsed": true
   },
   "outputs": [],
   "source": []
  },
  {
   "cell_type": "code",
   "execution_count": null,
   "metadata": {
    "collapsed": true
   },
   "outputs": [],
   "source": []
  },
  {
   "cell_type": "code",
   "execution_count": null,
   "metadata": {
    "collapsed": true
   },
   "outputs": [],
   "source": []
  },
  {
   "cell_type": "code",
   "execution_count": null,
   "metadata": {
    "collapsed": true
   },
   "outputs": [],
   "source": []
  },
  {
   "cell_type": "code",
   "execution_count": 449,
   "metadata": {},
   "outputs": [],
   "source": [
    "from sklearn.ensemble import RandomForestRegressor"
   ]
  },
  {
   "cell_type": "code",
   "execution_count": 556,
   "metadata": {
    "collapsed": true
   },
   "outputs": [],
   "source": [
    "estimator = RandomForestRegressor()"
   ]
  },
  {
   "cell_type": "code",
   "execution_count": 557,
   "metadata": {},
   "outputs": [
    {
     "data": {
      "text/plain": [
       "RandomForestRegressor(bootstrap=True, criterion='mse', max_depth=None,\n",
       "           max_features='auto', max_leaf_nodes=None,\n",
       "           min_impurity_decrease=0.0, min_impurity_split=None,\n",
       "           min_samples_leaf=1, min_samples_split=2,\n",
       "           min_weight_fraction_leaf=0.0, n_estimators=10, n_jobs=1,\n",
       "           oob_score=False, random_state=None, verbose=0, warm_start=False)"
      ]
     },
     "execution_count": 557,
     "metadata": {},
     "output_type": "execute_result"
    }
   ],
   "source": [
    "estimator.fit(X_transformed,y)"
   ]
  },
  {
   "cell_type": "code",
   "execution_count": 558,
   "metadata": {},
   "outputs": [
    {
     "data": {
      "text/plain": [
       "[('campaign', 0.23974272086908194),\n",
       " ('euribor3m', 0.19880946214058945),\n",
       " ('age', 0.1643631268392004),\n",
       " ('major_purch_expect', 0.06626848258807135),\n",
       " ('previous', 0.0639214432393961),\n",
       " ('pdays', 0.05937647242691192),\n",
       " ('major_purch_opportu', 0.03654049672468688),\n",
       " ('cons.conf.idx', 0.029359699666034817),\n",
       " ('household_debt_ratio', 0.02019599809015809),\n",
       " ('railway_passengers', 0.017336346735108022),\n",
       " ('cons.price.idx', 0.016261759042502405),\n",
       " ('ind_turnover', 0.014269111222824904),\n",
       " ('economy_expect', 0.01169213293881751),\n",
       " ('emplmnt_industry_index', 0.01128656785307992),\n",
       " ('inflation_delta_expect', 0.010825051113317354),\n",
       " ('unempl_expect', 0.009390737830366747),\n",
       " ('emp.var.rate', 0.008997181238295886),\n",
       " ('financial_past', 0.008075161907802404),\n",
       " ('savings_expect', 0.0056701880152567365),\n",
       " ('economy_past', 0.0027156280104493314),\n",
       " ('savings_delta_expect', 0.002341556225139937),\n",
       " ('nr.employed', 0.0017130385245208493),\n",
       " ('cons_conf', 0.0008476367583870502)]"
      ]
     },
     "execution_count": 558,
     "metadata": {},
     "output_type": "execute_result"
    }
   ],
   "source": [
    "sorted(list(zip(X_transformed.columns, estimator.feature_importances_)), key=lambda x: x[1], reverse=True)"
   ]
  },
  {
   "cell_type": "code",
   "execution_count": null,
   "metadata": {},
   "outputs": [],
   "source": [
    "#Trying regularized models:\n",
    "lasso = Lasso()"
   ]
  },
  {
   "cell_type": "code",
   "execution_count": null,
   "metadata": {
    "collapsed": true
   },
   "outputs": [],
   "source": [
    "alphas = np.logspace(-8, -0.5, 30)\n",
    "param_grid = [{'alpha': alphas},]\n",
    "n_folds = 8"
   ]
  },
  {
   "cell_type": "code",
   "execution_count": null,
   "metadata": {},
   "outputs": [],
   "source": [
    "nested_CV(X_transformed, y, lasso, param_grid)"
   ]
  },
  {
   "cell_type": "code",
   "execution_count": null,
   "metadata": {
    "collapsed": true
   },
   "outputs": [],
   "source": []
  },
  {
   "cell_type": "code",
   "execution_count": null,
   "metadata": {
    "collapsed": true
   },
   "outputs": [],
   "source": []
  },
  {
   "cell_type": "code",
   "execution_count": 822,
   "metadata": {},
   "outputs": [],
   "source": [
    "from keras.models import Sequential\n",
    "from keras.layers import Dense\n",
    "from keras.wrappers.scikit_learn import KerasRegressor\n",
    "from sklearn.model_selection import cross_val_score\n",
    "from sklearn.model_selection import KFold\n",
    "from sklearn.preprocessing import StandardScaler\n",
    "from sklearn.pipeline import Pipeline"
   ]
  },
  {
   "cell_type": "code",
   "execution_count": 823,
   "metadata": {
    "collapsed": true
   },
   "outputs": [],
   "source": [
    "# define base model\n",
    "def baseline_model():\n",
    "    # create model\n",
    "    model = Sequential()\n",
    "    model.add(Dense(24, input_dim=24, kernel_initializer='normal', activation='relu'))\n",
    "    model.add(Dense(1, kernel_initializer='normal'))\n",
    "    # Compile model\n",
    "    model.compile(loss='mean_squared_error', optimizer='adam')\n",
    "    return model"
   ]
  },
  {
   "cell_type": "code",
   "execution_count": 824,
   "metadata": {
    "collapsed": true
   },
   "outputs": [],
   "source": [
    "# fix random seed for reproducibility\n",
    "seed = 7\n",
    "np.random.seed(seed)\n",
    "# evaluate model with standardized dataset\n",
    "estimator = KerasRegressor(build_fn=baseline_model, epochs=50, batch_size=1000, verbose=0)"
   ]
  },
  {
   "cell_type": "code",
   "execution_count": 825,
   "metadata": {},
   "outputs": [
    {
     "ename": "KeyboardInterrupt",
     "evalue": "",
     "output_type": "error",
     "traceback": [
      "\u001b[0;31m---------------------------------------------------------------------------\u001b[0m",
      "\u001b[0;31mKeyboardInterrupt\u001b[0m                         Traceback (most recent call last)",
      "\u001b[0;32m<ipython-input-825-73bf0123a793>\u001b[0m in \u001b[0;36m<module>\u001b[0;34m()\u001b[0m\n\u001b[1;32m      1\u001b[0m \u001b[0mkfold\u001b[0m \u001b[0;34m=\u001b[0m \u001b[0mKFold\u001b[0m\u001b[0;34m(\u001b[0m\u001b[0mn_splits\u001b[0m\u001b[0;34m=\u001b[0m\u001b[0;36m5\u001b[0m\u001b[0;34m,\u001b[0m \u001b[0mrandom_state\u001b[0m\u001b[0;34m=\u001b[0m\u001b[0mseed\u001b[0m\u001b[0;34m)\u001b[0m\u001b[0;34m\u001b[0m\u001b[0m\n\u001b[0;32m----> 2\u001b[0;31m \u001b[0mresults\u001b[0m \u001b[0;34m=\u001b[0m \u001b[0mcross_val_score\u001b[0m\u001b[0;34m(\u001b[0m\u001b[0mestimator\u001b[0m\u001b[0;34m,\u001b[0m \u001b[0mX_transformed\u001b[0m\u001b[0;34m,\u001b[0m \u001b[0my\u001b[0m\u001b[0;34m,\u001b[0m \u001b[0mcv\u001b[0m\u001b[0;34m=\u001b[0m\u001b[0mkfold\u001b[0m\u001b[0;34m)\u001b[0m\u001b[0;34m\u001b[0m\u001b[0m\n\u001b[0m\u001b[1;32m      3\u001b[0m \u001b[0mprint\u001b[0m\u001b[0;34m(\u001b[0m\u001b[0;34m\"Results: %.2f (%.2f) MSE\"\u001b[0m \u001b[0;34m%\u001b[0m \u001b[0;34m(\u001b[0m\u001b[0mresults\u001b[0m\u001b[0;34m.\u001b[0m\u001b[0mmean\u001b[0m\u001b[0;34m(\u001b[0m\u001b[0;34m)\u001b[0m\u001b[0;34m,\u001b[0m \u001b[0mresults\u001b[0m\u001b[0;34m.\u001b[0m\u001b[0mstd\u001b[0m\u001b[0;34m(\u001b[0m\u001b[0;34m)\u001b[0m\u001b[0;34m)\u001b[0m\u001b[0;34m)\u001b[0m\u001b[0;34m\u001b[0m\u001b[0m\n",
      "\u001b[0;32m~/anaconda2/envs/py36/lib/python3.6/site-packages/sklearn/model_selection/_validation.py\u001b[0m in \u001b[0;36mcross_val_score\u001b[0;34m(estimator, X, y, groups, scoring, cv, n_jobs, verbose, fit_params, pre_dispatch)\u001b[0m\n\u001b[1;32m    340\u001b[0m                                 \u001b[0mn_jobs\u001b[0m\u001b[0;34m=\u001b[0m\u001b[0mn_jobs\u001b[0m\u001b[0;34m,\u001b[0m \u001b[0mverbose\u001b[0m\u001b[0;34m=\u001b[0m\u001b[0mverbose\u001b[0m\u001b[0;34m,\u001b[0m\u001b[0;34m\u001b[0m\u001b[0m\n\u001b[1;32m    341\u001b[0m                                 \u001b[0mfit_params\u001b[0m\u001b[0;34m=\u001b[0m\u001b[0mfit_params\u001b[0m\u001b[0;34m,\u001b[0m\u001b[0;34m\u001b[0m\u001b[0m\n\u001b[0;32m--> 342\u001b[0;31m                                 pre_dispatch=pre_dispatch)\n\u001b[0m\u001b[1;32m    343\u001b[0m     \u001b[0;32mreturn\u001b[0m \u001b[0mcv_results\u001b[0m\u001b[0;34m[\u001b[0m\u001b[0;34m'test_score'\u001b[0m\u001b[0;34m]\u001b[0m\u001b[0;34m\u001b[0m\u001b[0m\n\u001b[1;32m    344\u001b[0m \u001b[0;34m\u001b[0m\u001b[0m\n",
      "\u001b[0;32m~/anaconda2/envs/py36/lib/python3.6/site-packages/sklearn/model_selection/_validation.py\u001b[0m in \u001b[0;36mcross_validate\u001b[0;34m(estimator, X, y, groups, scoring, cv, n_jobs, verbose, fit_params, pre_dispatch, return_train_score)\u001b[0m\n\u001b[1;32m    204\u001b[0m             \u001b[0mfit_params\u001b[0m\u001b[0;34m,\u001b[0m \u001b[0mreturn_train_score\u001b[0m\u001b[0;34m=\u001b[0m\u001b[0mreturn_train_score\u001b[0m\u001b[0;34m,\u001b[0m\u001b[0;34m\u001b[0m\u001b[0m\n\u001b[1;32m    205\u001b[0m             return_times=True)\n\u001b[0;32m--> 206\u001b[0;31m         for train, test in cv.split(X, y, groups))\n\u001b[0m\u001b[1;32m    207\u001b[0m \u001b[0;34m\u001b[0m\u001b[0m\n\u001b[1;32m    208\u001b[0m     \u001b[0;32mif\u001b[0m \u001b[0mreturn_train_score\u001b[0m\u001b[0;34m:\u001b[0m\u001b[0;34m\u001b[0m\u001b[0m\n",
      "\u001b[0;32m~/anaconda2/envs/py36/lib/python3.6/site-packages/sklearn/externals/joblib/parallel.py\u001b[0m in \u001b[0;36m__call__\u001b[0;34m(self, iterable)\u001b[0m\n\u001b[1;32m    777\u001b[0m             \u001b[0;31m# was dispatched. In particular this covers the edge\u001b[0m\u001b[0;34m\u001b[0m\u001b[0;34m\u001b[0m\u001b[0m\n\u001b[1;32m    778\u001b[0m             \u001b[0;31m# case of Parallel used with an exhausted iterator.\u001b[0m\u001b[0;34m\u001b[0m\u001b[0;34m\u001b[0m\u001b[0m\n\u001b[0;32m--> 779\u001b[0;31m             \u001b[0;32mwhile\u001b[0m \u001b[0mself\u001b[0m\u001b[0;34m.\u001b[0m\u001b[0mdispatch_one_batch\u001b[0m\u001b[0;34m(\u001b[0m\u001b[0miterator\u001b[0m\u001b[0;34m)\u001b[0m\u001b[0;34m:\u001b[0m\u001b[0;34m\u001b[0m\u001b[0m\n\u001b[0m\u001b[1;32m    780\u001b[0m                 \u001b[0mself\u001b[0m\u001b[0;34m.\u001b[0m\u001b[0m_iterating\u001b[0m \u001b[0;34m=\u001b[0m \u001b[0;32mTrue\u001b[0m\u001b[0;34m\u001b[0m\u001b[0m\n\u001b[1;32m    781\u001b[0m             \u001b[0;32melse\u001b[0m\u001b[0;34m:\u001b[0m\u001b[0;34m\u001b[0m\u001b[0m\n",
      "\u001b[0;32m~/anaconda2/envs/py36/lib/python3.6/site-packages/sklearn/externals/joblib/parallel.py\u001b[0m in \u001b[0;36mdispatch_one_batch\u001b[0;34m(self, iterator)\u001b[0m\n\u001b[1;32m    623\u001b[0m                 \u001b[0;32mreturn\u001b[0m \u001b[0;32mFalse\u001b[0m\u001b[0;34m\u001b[0m\u001b[0m\n\u001b[1;32m    624\u001b[0m             \u001b[0;32melse\u001b[0m\u001b[0;34m:\u001b[0m\u001b[0;34m\u001b[0m\u001b[0m\n\u001b[0;32m--> 625\u001b[0;31m                 \u001b[0mself\u001b[0m\u001b[0;34m.\u001b[0m\u001b[0m_dispatch\u001b[0m\u001b[0;34m(\u001b[0m\u001b[0mtasks\u001b[0m\u001b[0;34m)\u001b[0m\u001b[0;34m\u001b[0m\u001b[0m\n\u001b[0m\u001b[1;32m    626\u001b[0m                 \u001b[0;32mreturn\u001b[0m \u001b[0;32mTrue\u001b[0m\u001b[0;34m\u001b[0m\u001b[0m\n\u001b[1;32m    627\u001b[0m \u001b[0;34m\u001b[0m\u001b[0m\n",
      "\u001b[0;32m~/anaconda2/envs/py36/lib/python3.6/site-packages/sklearn/externals/joblib/parallel.py\u001b[0m in \u001b[0;36m_dispatch\u001b[0;34m(self, batch)\u001b[0m\n\u001b[1;32m    586\u001b[0m         \u001b[0mdispatch_timestamp\u001b[0m \u001b[0;34m=\u001b[0m \u001b[0mtime\u001b[0m\u001b[0;34m.\u001b[0m\u001b[0mtime\u001b[0m\u001b[0;34m(\u001b[0m\u001b[0;34m)\u001b[0m\u001b[0;34m\u001b[0m\u001b[0m\n\u001b[1;32m    587\u001b[0m         \u001b[0mcb\u001b[0m \u001b[0;34m=\u001b[0m \u001b[0mBatchCompletionCallBack\u001b[0m\u001b[0;34m(\u001b[0m\u001b[0mdispatch_timestamp\u001b[0m\u001b[0;34m,\u001b[0m \u001b[0mlen\u001b[0m\u001b[0;34m(\u001b[0m\u001b[0mbatch\u001b[0m\u001b[0;34m)\u001b[0m\u001b[0;34m,\u001b[0m \u001b[0mself\u001b[0m\u001b[0;34m)\u001b[0m\u001b[0;34m\u001b[0m\u001b[0m\n\u001b[0;32m--> 588\u001b[0;31m         \u001b[0mjob\u001b[0m \u001b[0;34m=\u001b[0m \u001b[0mself\u001b[0m\u001b[0;34m.\u001b[0m\u001b[0m_backend\u001b[0m\u001b[0;34m.\u001b[0m\u001b[0mapply_async\u001b[0m\u001b[0;34m(\u001b[0m\u001b[0mbatch\u001b[0m\u001b[0;34m,\u001b[0m \u001b[0mcallback\u001b[0m\u001b[0;34m=\u001b[0m\u001b[0mcb\u001b[0m\u001b[0;34m)\u001b[0m\u001b[0;34m\u001b[0m\u001b[0m\n\u001b[0m\u001b[1;32m    589\u001b[0m         \u001b[0mself\u001b[0m\u001b[0;34m.\u001b[0m\u001b[0m_jobs\u001b[0m\u001b[0;34m.\u001b[0m\u001b[0mappend\u001b[0m\u001b[0;34m(\u001b[0m\u001b[0mjob\u001b[0m\u001b[0;34m)\u001b[0m\u001b[0;34m\u001b[0m\u001b[0m\n\u001b[1;32m    590\u001b[0m \u001b[0;34m\u001b[0m\u001b[0m\n",
      "\u001b[0;32m~/anaconda2/envs/py36/lib/python3.6/site-packages/sklearn/externals/joblib/_parallel_backends.py\u001b[0m in \u001b[0;36mapply_async\u001b[0;34m(self, func, callback)\u001b[0m\n\u001b[1;32m    109\u001b[0m     \u001b[0;32mdef\u001b[0m \u001b[0mapply_async\u001b[0m\u001b[0;34m(\u001b[0m\u001b[0mself\u001b[0m\u001b[0;34m,\u001b[0m \u001b[0mfunc\u001b[0m\u001b[0;34m,\u001b[0m \u001b[0mcallback\u001b[0m\u001b[0;34m=\u001b[0m\u001b[0;32mNone\u001b[0m\u001b[0;34m)\u001b[0m\u001b[0;34m:\u001b[0m\u001b[0;34m\u001b[0m\u001b[0m\n\u001b[1;32m    110\u001b[0m         \u001b[0;34m\"\"\"Schedule a func to be run\"\"\"\u001b[0m\u001b[0;34m\u001b[0m\u001b[0m\n\u001b[0;32m--> 111\u001b[0;31m         \u001b[0mresult\u001b[0m \u001b[0;34m=\u001b[0m \u001b[0mImmediateResult\u001b[0m\u001b[0;34m(\u001b[0m\u001b[0mfunc\u001b[0m\u001b[0;34m)\u001b[0m\u001b[0;34m\u001b[0m\u001b[0m\n\u001b[0m\u001b[1;32m    112\u001b[0m         \u001b[0;32mif\u001b[0m \u001b[0mcallback\u001b[0m\u001b[0;34m:\u001b[0m\u001b[0;34m\u001b[0m\u001b[0m\n\u001b[1;32m    113\u001b[0m             \u001b[0mcallback\u001b[0m\u001b[0;34m(\u001b[0m\u001b[0mresult\u001b[0m\u001b[0;34m)\u001b[0m\u001b[0;34m\u001b[0m\u001b[0m\n",
      "\u001b[0;32m~/anaconda2/envs/py36/lib/python3.6/site-packages/sklearn/externals/joblib/_parallel_backends.py\u001b[0m in \u001b[0;36m__init__\u001b[0;34m(self, batch)\u001b[0m\n\u001b[1;32m    330\u001b[0m         \u001b[0;31m# Don't delay the application, to avoid keeping the input\u001b[0m\u001b[0;34m\u001b[0m\u001b[0;34m\u001b[0m\u001b[0m\n\u001b[1;32m    331\u001b[0m         \u001b[0;31m# arguments in memory\u001b[0m\u001b[0;34m\u001b[0m\u001b[0;34m\u001b[0m\u001b[0m\n\u001b[0;32m--> 332\u001b[0;31m         \u001b[0mself\u001b[0m\u001b[0;34m.\u001b[0m\u001b[0mresults\u001b[0m \u001b[0;34m=\u001b[0m \u001b[0mbatch\u001b[0m\u001b[0;34m(\u001b[0m\u001b[0;34m)\u001b[0m\u001b[0;34m\u001b[0m\u001b[0m\n\u001b[0m\u001b[1;32m    333\u001b[0m \u001b[0;34m\u001b[0m\u001b[0m\n\u001b[1;32m    334\u001b[0m     \u001b[0;32mdef\u001b[0m \u001b[0mget\u001b[0m\u001b[0;34m(\u001b[0m\u001b[0mself\u001b[0m\u001b[0;34m)\u001b[0m\u001b[0;34m:\u001b[0m\u001b[0;34m\u001b[0m\u001b[0m\n",
      "\u001b[0;32m~/anaconda2/envs/py36/lib/python3.6/site-packages/sklearn/externals/joblib/parallel.py\u001b[0m in \u001b[0;36m__call__\u001b[0;34m(self)\u001b[0m\n\u001b[1;32m    129\u001b[0m \u001b[0;34m\u001b[0m\u001b[0m\n\u001b[1;32m    130\u001b[0m     \u001b[0;32mdef\u001b[0m \u001b[0m__call__\u001b[0m\u001b[0;34m(\u001b[0m\u001b[0mself\u001b[0m\u001b[0;34m)\u001b[0m\u001b[0;34m:\u001b[0m\u001b[0;34m\u001b[0m\u001b[0m\n\u001b[0;32m--> 131\u001b[0;31m         \u001b[0;32mreturn\u001b[0m \u001b[0;34m[\u001b[0m\u001b[0mfunc\u001b[0m\u001b[0;34m(\u001b[0m\u001b[0;34m*\u001b[0m\u001b[0margs\u001b[0m\u001b[0;34m,\u001b[0m \u001b[0;34m**\u001b[0m\u001b[0mkwargs\u001b[0m\u001b[0;34m)\u001b[0m \u001b[0;32mfor\u001b[0m \u001b[0mfunc\u001b[0m\u001b[0;34m,\u001b[0m \u001b[0margs\u001b[0m\u001b[0;34m,\u001b[0m \u001b[0mkwargs\u001b[0m \u001b[0;32min\u001b[0m \u001b[0mself\u001b[0m\u001b[0;34m.\u001b[0m\u001b[0mitems\u001b[0m\u001b[0;34m]\u001b[0m\u001b[0;34m\u001b[0m\u001b[0m\n\u001b[0m\u001b[1;32m    132\u001b[0m \u001b[0;34m\u001b[0m\u001b[0m\n\u001b[1;32m    133\u001b[0m     \u001b[0;32mdef\u001b[0m \u001b[0m__len__\u001b[0m\u001b[0;34m(\u001b[0m\u001b[0mself\u001b[0m\u001b[0;34m)\u001b[0m\u001b[0;34m:\u001b[0m\u001b[0;34m\u001b[0m\u001b[0m\n",
      "\u001b[0;32m~/anaconda2/envs/py36/lib/python3.6/site-packages/sklearn/externals/joblib/parallel.py\u001b[0m in \u001b[0;36m<listcomp>\u001b[0;34m(.0)\u001b[0m\n\u001b[1;32m    129\u001b[0m \u001b[0;34m\u001b[0m\u001b[0m\n\u001b[1;32m    130\u001b[0m     \u001b[0;32mdef\u001b[0m \u001b[0m__call__\u001b[0m\u001b[0;34m(\u001b[0m\u001b[0mself\u001b[0m\u001b[0;34m)\u001b[0m\u001b[0;34m:\u001b[0m\u001b[0;34m\u001b[0m\u001b[0m\n\u001b[0;32m--> 131\u001b[0;31m         \u001b[0;32mreturn\u001b[0m \u001b[0;34m[\u001b[0m\u001b[0mfunc\u001b[0m\u001b[0;34m(\u001b[0m\u001b[0;34m*\u001b[0m\u001b[0margs\u001b[0m\u001b[0;34m,\u001b[0m \u001b[0;34m**\u001b[0m\u001b[0mkwargs\u001b[0m\u001b[0;34m)\u001b[0m \u001b[0;32mfor\u001b[0m \u001b[0mfunc\u001b[0m\u001b[0;34m,\u001b[0m \u001b[0margs\u001b[0m\u001b[0;34m,\u001b[0m \u001b[0mkwargs\u001b[0m \u001b[0;32min\u001b[0m \u001b[0mself\u001b[0m\u001b[0;34m.\u001b[0m\u001b[0mitems\u001b[0m\u001b[0;34m]\u001b[0m\u001b[0;34m\u001b[0m\u001b[0m\n\u001b[0m\u001b[1;32m    132\u001b[0m \u001b[0;34m\u001b[0m\u001b[0m\n\u001b[1;32m    133\u001b[0m     \u001b[0;32mdef\u001b[0m \u001b[0m__len__\u001b[0m\u001b[0;34m(\u001b[0m\u001b[0mself\u001b[0m\u001b[0;34m)\u001b[0m\u001b[0;34m:\u001b[0m\u001b[0;34m\u001b[0m\u001b[0m\n",
      "\u001b[0;32m~/anaconda2/envs/py36/lib/python3.6/site-packages/sklearn/model_selection/_validation.py\u001b[0m in \u001b[0;36m_fit_and_score\u001b[0;34m(estimator, X, y, scorer, train, test, verbose, parameters, fit_params, return_train_score, return_parameters, return_n_test_samples, return_times, error_score)\u001b[0m\n\u001b[1;32m    456\u001b[0m             \u001b[0mestimator\u001b[0m\u001b[0;34m.\u001b[0m\u001b[0mfit\u001b[0m\u001b[0;34m(\u001b[0m\u001b[0mX_train\u001b[0m\u001b[0;34m,\u001b[0m \u001b[0;34m**\u001b[0m\u001b[0mfit_params\u001b[0m\u001b[0;34m)\u001b[0m\u001b[0;34m\u001b[0m\u001b[0m\n\u001b[1;32m    457\u001b[0m         \u001b[0;32melse\u001b[0m\u001b[0;34m:\u001b[0m\u001b[0;34m\u001b[0m\u001b[0m\n\u001b[0;32m--> 458\u001b[0;31m             \u001b[0mestimator\u001b[0m\u001b[0;34m.\u001b[0m\u001b[0mfit\u001b[0m\u001b[0;34m(\u001b[0m\u001b[0mX_train\u001b[0m\u001b[0;34m,\u001b[0m \u001b[0my_train\u001b[0m\u001b[0;34m,\u001b[0m \u001b[0;34m**\u001b[0m\u001b[0mfit_params\u001b[0m\u001b[0;34m)\u001b[0m\u001b[0;34m\u001b[0m\u001b[0m\n\u001b[0m\u001b[1;32m    459\u001b[0m \u001b[0;34m\u001b[0m\u001b[0m\n\u001b[1;32m    460\u001b[0m     \u001b[0;32mexcept\u001b[0m \u001b[0mException\u001b[0m \u001b[0;32mas\u001b[0m \u001b[0me\u001b[0m\u001b[0;34m:\u001b[0m\u001b[0;34m\u001b[0m\u001b[0m\n",
      "\u001b[0;32m~/anaconda2/envs/py36/lib/python3.6/site-packages/keras/wrappers/scikit_learn.py\u001b[0m in \u001b[0;36mfit\u001b[0;34m(self, x, y, **kwargs)\u001b[0m\n\u001b[1;32m    150\u001b[0m         \u001b[0mfit_args\u001b[0m\u001b[0;34m.\u001b[0m\u001b[0mupdate\u001b[0m\u001b[0;34m(\u001b[0m\u001b[0mkwargs\u001b[0m\u001b[0;34m)\u001b[0m\u001b[0;34m\u001b[0m\u001b[0m\n\u001b[1;32m    151\u001b[0m \u001b[0;34m\u001b[0m\u001b[0m\n\u001b[0;32m--> 152\u001b[0;31m         \u001b[0mhistory\u001b[0m \u001b[0;34m=\u001b[0m \u001b[0mself\u001b[0m\u001b[0;34m.\u001b[0m\u001b[0mmodel\u001b[0m\u001b[0;34m.\u001b[0m\u001b[0mfit\u001b[0m\u001b[0;34m(\u001b[0m\u001b[0mx\u001b[0m\u001b[0;34m,\u001b[0m \u001b[0my\u001b[0m\u001b[0;34m,\u001b[0m \u001b[0;34m**\u001b[0m\u001b[0mfit_args\u001b[0m\u001b[0;34m)\u001b[0m\u001b[0;34m\u001b[0m\u001b[0m\n\u001b[0m\u001b[1;32m    153\u001b[0m \u001b[0;34m\u001b[0m\u001b[0m\n\u001b[1;32m    154\u001b[0m         \u001b[0;32mreturn\u001b[0m \u001b[0mhistory\u001b[0m\u001b[0;34m\u001b[0m\u001b[0m\n",
      "\u001b[0;32m~/anaconda2/envs/py36/lib/python3.6/site-packages/keras/engine/training.py\u001b[0m in \u001b[0;36mfit\u001b[0;34m(self, x, y, batch_size, epochs, verbose, callbacks, validation_split, validation_data, shuffle, class_weight, sample_weight, initial_epoch, steps_per_epoch, validation_steps, **kwargs)\u001b[0m\n\u001b[1;32m   1035\u001b[0m                                         \u001b[0minitial_epoch\u001b[0m\u001b[0;34m=\u001b[0m\u001b[0minitial_epoch\u001b[0m\u001b[0;34m,\u001b[0m\u001b[0;34m\u001b[0m\u001b[0m\n\u001b[1;32m   1036\u001b[0m                                         \u001b[0msteps_per_epoch\u001b[0m\u001b[0;34m=\u001b[0m\u001b[0msteps_per_epoch\u001b[0m\u001b[0;34m,\u001b[0m\u001b[0;34m\u001b[0m\u001b[0m\n\u001b[0;32m-> 1037\u001b[0;31m                                         validation_steps=validation_steps)\n\u001b[0m\u001b[1;32m   1038\u001b[0m \u001b[0;34m\u001b[0m\u001b[0m\n\u001b[1;32m   1039\u001b[0m     def evaluate(self, x=None, y=None,\n",
      "\u001b[0;32m~/anaconda2/envs/py36/lib/python3.6/site-packages/keras/engine/training_arrays.py\u001b[0m in \u001b[0;36mfit_loop\u001b[0;34m(model, f, ins, out_labels, batch_size, epochs, verbose, callbacks, val_f, val_ins, shuffle, callback_metrics, initial_epoch, steps_per_epoch, validation_steps)\u001b[0m\n\u001b[1;32m    197\u001b[0m                     \u001b[0mins_batch\u001b[0m\u001b[0;34m[\u001b[0m\u001b[0mi\u001b[0m\u001b[0;34m]\u001b[0m \u001b[0;34m=\u001b[0m \u001b[0mins_batch\u001b[0m\u001b[0;34m[\u001b[0m\u001b[0mi\u001b[0m\u001b[0;34m]\u001b[0m\u001b[0;34m.\u001b[0m\u001b[0mtoarray\u001b[0m\u001b[0;34m(\u001b[0m\u001b[0;34m)\u001b[0m\u001b[0;34m\u001b[0m\u001b[0m\n\u001b[1;32m    198\u001b[0m \u001b[0;34m\u001b[0m\u001b[0m\n\u001b[0;32m--> 199\u001b[0;31m                 \u001b[0mouts\u001b[0m \u001b[0;34m=\u001b[0m \u001b[0mf\u001b[0m\u001b[0;34m(\u001b[0m\u001b[0mins_batch\u001b[0m\u001b[0;34m)\u001b[0m\u001b[0;34m\u001b[0m\u001b[0m\n\u001b[0m\u001b[1;32m    200\u001b[0m                 \u001b[0mouts\u001b[0m \u001b[0;34m=\u001b[0m \u001b[0mto_list\u001b[0m\u001b[0;34m(\u001b[0m\u001b[0mouts\u001b[0m\u001b[0;34m)\u001b[0m\u001b[0;34m\u001b[0m\u001b[0m\n\u001b[1;32m    201\u001b[0m                 \u001b[0;32mfor\u001b[0m \u001b[0ml\u001b[0m\u001b[0;34m,\u001b[0m \u001b[0mo\u001b[0m \u001b[0;32min\u001b[0m \u001b[0mzip\u001b[0m\u001b[0;34m(\u001b[0m\u001b[0mout_labels\u001b[0m\u001b[0;34m,\u001b[0m \u001b[0mouts\u001b[0m\u001b[0;34m)\u001b[0m\u001b[0;34m:\u001b[0m\u001b[0;34m\u001b[0m\u001b[0m\n",
      "\u001b[0;32m~/anaconda2/envs/py36/lib/python3.6/site-packages/keras/backend/tensorflow_backend.py\u001b[0m in \u001b[0;36m__call__\u001b[0;34m(self, inputs)\u001b[0m\n\u001b[1;32m   2664\u001b[0m                 \u001b[0;32mreturn\u001b[0m \u001b[0mself\u001b[0m\u001b[0;34m.\u001b[0m\u001b[0m_legacy_call\u001b[0m\u001b[0;34m(\u001b[0m\u001b[0minputs\u001b[0m\u001b[0;34m)\u001b[0m\u001b[0;34m\u001b[0m\u001b[0m\n\u001b[1;32m   2665\u001b[0m \u001b[0;34m\u001b[0m\u001b[0m\n\u001b[0;32m-> 2666\u001b[0;31m             \u001b[0;32mreturn\u001b[0m \u001b[0mself\u001b[0m\u001b[0;34m.\u001b[0m\u001b[0m_call\u001b[0m\u001b[0;34m(\u001b[0m\u001b[0minputs\u001b[0m\u001b[0;34m)\u001b[0m\u001b[0;34m\u001b[0m\u001b[0m\n\u001b[0m\u001b[1;32m   2667\u001b[0m         \u001b[0;32melse\u001b[0m\u001b[0;34m:\u001b[0m\u001b[0;34m\u001b[0m\u001b[0m\n\u001b[1;32m   2668\u001b[0m             \u001b[0;32mif\u001b[0m \u001b[0mpy_any\u001b[0m\u001b[0;34m(\u001b[0m\u001b[0mis_tensor\u001b[0m\u001b[0;34m(\u001b[0m\u001b[0mx\u001b[0m\u001b[0;34m)\u001b[0m \u001b[0;32mfor\u001b[0m \u001b[0mx\u001b[0m \u001b[0;32min\u001b[0m \u001b[0minputs\u001b[0m\u001b[0;34m)\u001b[0m\u001b[0;34m:\u001b[0m\u001b[0;34m\u001b[0m\u001b[0m\n",
      "\u001b[0;32m~/anaconda2/envs/py36/lib/python3.6/site-packages/keras/backend/tensorflow_backend.py\u001b[0m in \u001b[0;36m_call\u001b[0;34m(self, inputs)\u001b[0m\n\u001b[1;32m   2634\u001b[0m                                 \u001b[0msymbol_vals\u001b[0m\u001b[0;34m,\u001b[0m\u001b[0;34m\u001b[0m\u001b[0m\n\u001b[1;32m   2635\u001b[0m                                 session)\n\u001b[0;32m-> 2636\u001b[0;31m         \u001b[0mfetched\u001b[0m \u001b[0;34m=\u001b[0m \u001b[0mself\u001b[0m\u001b[0;34m.\u001b[0m\u001b[0m_callable_fn\u001b[0m\u001b[0;34m(\u001b[0m\u001b[0;34m*\u001b[0m\u001b[0marray_vals\u001b[0m\u001b[0;34m)\u001b[0m\u001b[0;34m\u001b[0m\u001b[0m\n\u001b[0m\u001b[1;32m   2637\u001b[0m         \u001b[0;32mreturn\u001b[0m \u001b[0mfetched\u001b[0m\u001b[0;34m[\u001b[0m\u001b[0;34m:\u001b[0m\u001b[0mlen\u001b[0m\u001b[0;34m(\u001b[0m\u001b[0mself\u001b[0m\u001b[0;34m.\u001b[0m\u001b[0moutputs\u001b[0m\u001b[0;34m)\u001b[0m\u001b[0;34m]\u001b[0m\u001b[0;34m\u001b[0m\u001b[0m\n\u001b[1;32m   2638\u001b[0m \u001b[0;34m\u001b[0m\u001b[0m\n",
      "\u001b[0;32m~/anaconda2/envs/py36/lib/python3.6/site-packages/tensorflow/python/client/session.py\u001b[0m in \u001b[0;36m__call__\u001b[0;34m(self, *args, **kwargs)\u001b[0m\n\u001b[1;32m   1380\u001b[0m           ret = tf_session.TF_SessionRunCallable(\n\u001b[1;32m   1381\u001b[0m               \u001b[0mself\u001b[0m\u001b[0;34m.\u001b[0m\u001b[0m_session\u001b[0m\u001b[0;34m.\u001b[0m\u001b[0m_session\u001b[0m\u001b[0;34m,\u001b[0m \u001b[0mself\u001b[0m\u001b[0;34m.\u001b[0m\u001b[0m_handle\u001b[0m\u001b[0;34m,\u001b[0m \u001b[0margs\u001b[0m\u001b[0;34m,\u001b[0m \u001b[0mstatus\u001b[0m\u001b[0;34m,\u001b[0m\u001b[0;34m\u001b[0m\u001b[0m\n\u001b[0;32m-> 1382\u001b[0;31m               run_metadata_ptr)\n\u001b[0m\u001b[1;32m   1383\u001b[0m         \u001b[0;32mif\u001b[0m \u001b[0mrun_metadata\u001b[0m\u001b[0;34m:\u001b[0m\u001b[0;34m\u001b[0m\u001b[0m\n\u001b[1;32m   1384\u001b[0m           \u001b[0mproto_data\u001b[0m \u001b[0;34m=\u001b[0m \u001b[0mtf_session\u001b[0m\u001b[0;34m.\u001b[0m\u001b[0mTF_GetBuffer\u001b[0m\u001b[0;34m(\u001b[0m\u001b[0mrun_metadata_ptr\u001b[0m\u001b[0;34m)\u001b[0m\u001b[0;34m\u001b[0m\u001b[0m\n",
      "\u001b[0;31mKeyboardInterrupt\u001b[0m: "
     ]
    }
   ],
   "source": [
    "kfold = KFold(n_splits=5, random_state=seed)\n",
    "results = cross_val_score(estimator, X_transformed, y, cv=kfold)\n",
    "print(\"Results: %.2f (%.2f) MSE\" % (results.mean(), results.std()))"
   ]
  },
  {
   "cell_type": "code",
   "execution_count": null,
   "metadata": {},
   "outputs": [],
   "source": [
    "# evaluate model with standardized dataset\n",
    "np.random.seed(seed)\n",
    "estimators = []\n",
    "estimators.append(('standardize', StandardScaler()))\n",
    "estimators.append(('mlp', KerasRegressor(build_fn=baseline_model, epochs=50, batch_size=1000, verbose=0)))\n",
    "pipeline = Pipeline(estimators)\n",
    "kfold = KFold(n_splits=5, random_state=seed)\n",
    "results = cross_val_score(pipeline, X_transformed, y, cv=kfold)\n",
    "print(\"Standardized: %.2f (%.2f) MSE\" % (results.mean(), results.std()))"
   ]
  },
  {
   "cell_type": "code",
   "execution_count": null,
   "metadata": {
    "collapsed": true
   },
   "outputs": [],
   "source": [
    "# define the model\n",
    "def larger_model():\n",
    "    # create model\n",
    "    model = Sequential()\n",
    "    model.add(Dense(24, input_dim=24, kernel_initializer='normal', activation='relu'))\n",
    "    model.add(Dense(6, kernel_initializer='normal', activation='relu'))\n",
    "    model.add(Dense(1, kernel_initializer='normal'))\n",
    "    # Compile model\n",
    "    model.compile(loss='mean_squared_error', optimizer='adam')\n",
    "    return model"
   ]
  },
  {
   "cell_type": "code",
   "execution_count": null,
   "metadata": {},
   "outputs": [],
   "source": [
    "np.random.seed(seed)\n",
    "estimators = []\n",
    "estimators.append(('standardize', StandardScaler()))\n",
    "estimators.append(('mlp', KerasRegressor(build_fn=larger_model, epochs=50, batch_size=500, verbose=0)))\n",
    "pipeline = Pipeline(estimators)\n",
    "kfold = KFold(n_splits=5, random_state=seed)\n",
    "results = cross_val_score(pipeline, X_transformed, y, cv=kfold)\n",
    "print(\"Larger: %.2f (%.2f) MSE\" % (results.mean(), results.std()))"
   ]
  },
  {
   "cell_type": "code",
   "execution_count": null,
   "metadata": {
    "collapsed": true
   },
   "outputs": [],
   "source": [
    "def wider_model():\n",
    "    # create model\n",
    "    model = Sequential()\n",
    "    model.add(Dense(48, input_dim=24, kernel_initializer='normal', activation='relu'))\n",
    "    model.add(Dense(1, kernel_initializer='normal'))\n",
    "    # Compile model\n",
    "    model.compile(loss='mean_squared_error', optimizer='adam')\n",
    "    return model"
   ]
  },
  {
   "cell_type": "code",
   "execution_count": null,
   "metadata": {},
   "outputs": [],
   "source": [
    "np.random.seed(seed)\n",
    "estimators = []\n",
    "estimators.append(('standardize', StandardScaler()))\n",
    "estimators.append(('mlp', KerasRegressor(build_fn=wider_model, epochs=100, batch_size=500, verbose=0)))\n",
    "pipeline = Pipeline(estimators)\n",
    "kfold = KFold(n_splits=5, random_state=seed)\n",
    "results = cross_val_score(pipeline, X_transformed, y, cv=kfold)\n",
    "print(\"Wider: %.2f (%.2f) MSE\" % (results.mean(), results.std()))"
   ]
  },
  {
   "cell_type": "code",
   "execution_count": null,
   "metadata": {
    "collapsed": true
   },
   "outputs": [],
   "source": [
    "from keras import backend as K"
   ]
  },
  {
   "cell_type": "code",
   "execution_count": null,
   "metadata": {
    "collapsed": true
   },
   "outputs": [],
   "source": [
    "def coeff_determination(y_true, y_pred):\n",
    "    SS_res =  K.sum(K.square( y_true-y_pred )) \n",
    "    SS_tot = K.sum(K.square( y_true - K.mean(y_true) ) ) \n",
    "    return ( 1 - SS_res/(SS_tot + K.epsilon()) )\n",
    "\n",
    "#model.compile(optimizer='adam', loss='mean_squared_error', metrics=[coeff_determination])"
   ]
  },
  {
   "cell_type": "code",
   "execution_count": null,
   "metadata": {
    "collapsed": true
   },
   "outputs": [],
   "source": [
    "# define base model\n",
    "def baseline_model():\n",
    "    # create model\n",
    "    model = Sequential()\n",
    "    model.add(Dense(24, input_dim=24, kernel_initializer='normal', activation='relu'))\n",
    "    model.add(Dense(1, kernel_initializer='normal'))\n",
    "    # Compile model\n",
    "    model.compile(optimizer='adam', loss='mean_squared_error', metrics=[coeff_determination])\n",
    "    return model"
   ]
  },
  {
   "cell_type": "code",
   "execution_count": null,
   "metadata": {},
   "outputs": [],
   "source": [
    "# fix random seed for reproducibility\n",
    "seed = 7\n",
    "np.random.seed(seed)\n",
    "# evaluate model with standardized dataset\n",
    "estimator = KerasRegressor(build_fn=baseline_model, epochs=50, batch_size=1000, verbose=0)\n",
    "\n",
    "kfold = KFold(n_splits=5, random_state=seed)\n",
    "results = cross_val_score(estimator, X_transformed, y, cv=kfold)\n",
    "print(\"Results: %.2f (%.2f) MSE\" % (results.mean(), results.std()))\n",
    "\n",
    "# evaluate model with standardized dataset\n",
    "np.random.seed(seed)\n",
    "estimators = []\n",
    "estimators.append(('standardize', StandardScaler()))\n",
    "estimators.append(('mlp', KerasRegressor(build_fn=baseline_model, epochs=50, batch_size=1000, verbose=0)))\n",
    "pipeline = Pipeline(estimators)\n",
    "kfold = KFold(n_splits=5, random_state=seed)\n",
    "results = cross_val_score(pipeline, X_transformed, y, cv=kfold)\n",
    "print(\"Standardized: %.2f (%.2f) MSE\" % (results.mean(), results.std()))"
   ]
  },
  {
   "cell_type": "code",
   "execution_count": null,
   "metadata": {},
   "outputs": [],
   "source": [
    "X_transformed.shape"
   ]
  },
  {
   "cell_type": "code",
   "execution_count": 847,
   "metadata": {},
   "outputs": [
    {
     "name": "stdout",
     "output_type": "stream",
     "text": [
      "Epoch 1/500\n",
      " - 3s - loss: 1.9724 - mean_squared_error: 1.9724 - mean_absolute_error: 1.0853 - mean_absolute_percentage_error: 597.8322 - cosine_proximity: 0.0909\n",
      "Epoch 2/500\n",
      " - 0s - loss: 1.8921 - mean_squared_error: 1.8921 - mean_absolute_error: 1.0549 - mean_absolute_percentage_error: 573.5579 - cosine_proximity: 0.0864\n",
      "Epoch 3/500\n",
      " - 0s - loss: 1.8191 - mean_squared_error: 1.8191 - mean_absolute_error: 1.0251 - mean_absolute_percentage_error: 549.7164 - cosine_proximity: 0.0864\n",
      "Epoch 4/500\n",
      " - 0s - loss: 1.7528 - mean_squared_error: 1.7528 - mean_absolute_error: 0.9962 - mean_absolute_percentage_error: 526.2354 - cosine_proximity: 0.0844\n",
      "Epoch 5/500\n",
      " - 0s - loss: 1.6929 - mean_squared_error: 1.6929 - mean_absolute_error: 0.9687 - mean_absolute_percentage_error: 503.3110 - cosine_proximity: 0.0827\n",
      "Epoch 6/500\n",
      " - 0s - loss: 1.6413 - mean_squared_error: 1.6413 - mean_absolute_error: 0.9439 - mean_absolute_percentage_error: 482.1964 - cosine_proximity: 0.0827\n",
      "Epoch 7/500\n",
      " - 0s - loss: 1.5930 - mean_squared_error: 1.5930 - mean_absolute_error: 0.9197 - mean_absolute_percentage_error: 461.1700 - cosine_proximity: 0.0848\n",
      "Epoch 8/500\n",
      " - 0s - loss: 1.5498 - mean_squared_error: 1.5498 - mean_absolute_error: 0.8976 - mean_absolute_percentage_error: 441.3094 - cosine_proximity: 0.0847\n",
      "Epoch 9/500\n",
      " - 0s - loss: 1.5112 - mean_squared_error: 1.5112 - mean_absolute_error: 0.8778 - mean_absolute_percentage_error: 422.9348 - cosine_proximity: 0.0812\n",
      "Epoch 10/500\n",
      " - 0s - loss: 1.4765 - mean_squared_error: 1.4765 - mean_absolute_error: 0.8601 - mean_absolute_percentage_error: 406.0353 - cosine_proximity: 0.0817\n",
      "Epoch 11/500\n",
      " - 0s - loss: 1.4452 - mean_squared_error: 1.4452 - mean_absolute_error: 0.8444 - mean_absolute_percentage_error: 390.3622 - cosine_proximity: 0.0811\n",
      "Epoch 12/500\n",
      " - 0s - loss: 1.4168 - mean_squared_error: 1.4168 - mean_absolute_error: 0.8304 - mean_absolute_percentage_error: 375.4922 - cosine_proximity: 0.0815\n",
      "Epoch 13/500\n",
      " - 0s - loss: 1.3908 - mean_squared_error: 1.3908 - mean_absolute_error: 0.8180 - mean_absolute_percentage_error: 361.3996 - cosine_proximity: 0.0805\n",
      "Epoch 14/500\n",
      " - 0s - loss: 1.3668 - mean_squared_error: 1.3668 - mean_absolute_error: 0.8068 - mean_absolute_percentage_error: 348.1829 - cosine_proximity: 0.0806\n",
      "Epoch 15/500\n",
      " - 0s - loss: 1.3448 - mean_squared_error: 1.3448 - mean_absolute_error: 0.7967 - mean_absolute_percentage_error: 336.0929 - cosine_proximity: 0.0589\n",
      "Epoch 16/500\n",
      " - 0s - loss: 1.3243 - mean_squared_error: 1.3243 - mean_absolute_error: 0.7874 - mean_absolute_percentage_error: 325.1371 - cosine_proximity: 0.0239\n",
      "Epoch 17/500\n",
      " - 0s - loss: 1.3053 - mean_squared_error: 1.3053 - mean_absolute_error: 0.7791 - mean_absolute_percentage_error: 315.5729 - cosine_proximity: 0.0071\n",
      "Epoch 18/500\n",
      " - 0s - loss: 1.2876 - mean_squared_error: 1.2876 - mean_absolute_error: 0.7714 - mean_absolute_percentage_error: 307.2242 - cosine_proximity: -4.3852e-03\n",
      "Epoch 19/500\n",
      " - 0s - loss: 1.2710 - mean_squared_error: 1.2710 - mean_absolute_error: 0.7644 - mean_absolute_percentage_error: 300.0002 - cosine_proximity: -9.3864e-03\n",
      "Epoch 20/500\n",
      " - 0s - loss: 1.2553 - mean_squared_error: 1.2553 - mean_absolute_error: 0.7579 - mean_absolute_percentage_error: 293.2296 - cosine_proximity: -1.5620e-02\n",
      "Epoch 21/500\n",
      " - 0s - loss: 1.2407 - mean_squared_error: 1.2407 - mean_absolute_error: 0.7519 - mean_absolute_percentage_error: 286.9658 - cosine_proximity: -1.6707e-02\n",
      "Epoch 22/500\n",
      " - 0s - loss: 1.2270 - mean_squared_error: 1.2270 - mean_absolute_error: 0.7462 - mean_absolute_percentage_error: 281.0210 - cosine_proximity: -1.9389e-02\n",
      "Epoch 23/500\n",
      " - 0s - loss: 1.2141 - mean_squared_error: 1.2141 - mean_absolute_error: 0.7407 - mean_absolute_percentage_error: 275.3724 - cosine_proximity: -2.2506e-02\n",
      "Epoch 24/500\n",
      " - 0s - loss: 1.2020 - mean_squared_error: 1.2020 - mean_absolute_error: 0.7354 - mean_absolute_percentage_error: 270.0234 - cosine_proximity: -2.3231e-02\n",
      "Epoch 25/500\n",
      " - 0s - loss: 1.1905 - mean_squared_error: 1.1905 - mean_absolute_error: 0.7303 - mean_absolute_percentage_error: 264.7497 - cosine_proximity: -2.3448e-02\n",
      "Epoch 26/500\n",
      " - 0s - loss: 1.1798 - mean_squared_error: 1.1798 - mean_absolute_error: 0.7255 - mean_absolute_percentage_error: 259.6015 - cosine_proximity: -2.5405e-02\n",
      "Epoch 27/500\n",
      " - 0s - loss: 1.1699 - mean_squared_error: 1.1699 - mean_absolute_error: 0.7210 - mean_absolute_percentage_error: 254.5308 - cosine_proximity: -2.4970e-02\n",
      "Epoch 28/500\n",
      " - 0s - loss: 1.1605 - mean_squared_error: 1.1605 - mean_absolute_error: 0.7169 - mean_absolute_percentage_error: 249.5621 - cosine_proximity: -1.9534e-02\n",
      "Epoch 29/500\n",
      " - 0s - loss: 1.1518 - mean_squared_error: 1.1518 - mean_absolute_error: 0.7131 - mean_absolute_percentage_error: 244.6767 - cosine_proximity: -8.8066e-03\n",
      "Epoch 30/500\n",
      " - 0s - loss: 1.1436 - mean_squared_error: 1.1436 - mean_absolute_error: 0.7098 - mean_absolute_percentage_error: 239.9457 - cosine_proximity: -3.5879e-03\n",
      "Epoch 31/500\n",
      " - 0s - loss: 1.1359 - mean_squared_error: 1.1359 - mean_absolute_error: 0.7067 - mean_absolute_percentage_error: 235.2643 - cosine_proximity: -5.0375e-03\n",
      "Epoch 32/500\n",
      " - 0s - loss: 1.1285 - mean_squared_error: 1.1285 - mean_absolute_error: 0.7038 - mean_absolute_percentage_error: 230.5341 - cosine_proximity: -6.9945e-03\n",
      "Epoch 33/500\n",
      " - 0s - loss: 1.1218 - mean_squared_error: 1.1218 - mean_absolute_error: 0.7012 - mean_absolute_percentage_error: 225.8120 - cosine_proximity: -7.9368e-03\n",
      "Epoch 34/500\n",
      " - 0s - loss: 1.1154 - mean_squared_error: 1.1154 - mean_absolute_error: 0.6987 - mean_absolute_percentage_error: 221.0321 - cosine_proximity: -9.3864e-03\n",
      "Epoch 35/500\n",
      " - 0s - loss: 1.1094 - mean_squared_error: 1.1094 - mean_absolute_error: 0.6963 - mean_absolute_percentage_error: 216.2135 - cosine_proximity: -1.0401e-02\n",
      "Epoch 36/500\n",
      " - 0s - loss: 1.1039 - mean_squared_error: 1.1039 - mean_absolute_error: 0.6940 - mean_absolute_percentage_error: 211.4796 - cosine_proximity: -1.1923e-02\n",
      "Epoch 37/500\n",
      " - 0s - loss: 1.0988 - mean_squared_error: 1.0988 - mean_absolute_error: 0.6920 - mean_absolute_percentage_error: 206.9977 - cosine_proximity: -1.3083e-02\n",
      "Epoch 38/500\n",
      " - 0s - loss: 1.0940 - mean_squared_error: 1.0940 - mean_absolute_error: 0.6902 - mean_absolute_percentage_error: 202.6909 - cosine_proximity: -1.6490e-02\n",
      "Epoch 39/500\n",
      " - 0s - loss: 1.0896 - mean_squared_error: 1.0896 - mean_absolute_error: 0.6887 - mean_absolute_percentage_error: 198.5953 - cosine_proximity: -1.9969e-02\n",
      "Epoch 40/500\n",
      " - 0s - loss: 1.0857 - mean_squared_error: 1.0857 - mean_absolute_error: 0.6874 - mean_absolute_percentage_error: 194.7676 - cosine_proximity: -1.4315e-02\n",
      "Epoch 41/500\n",
      " - 0s - loss: 1.0821 - mean_squared_error: 1.0821 - mean_absolute_error: 0.6861 - mean_absolute_percentage_error: 191.1696 - cosine_proximity: 0.0011\n",
      "Epoch 42/500\n",
      " - 0s - loss: 1.0789 - mean_squared_error: 1.0789 - mean_absolute_error: 0.6850 - mean_absolute_percentage_error: 187.8974 - cosine_proximity: 0.0255\n",
      "Epoch 43/500\n",
      " - 0s - loss: 1.0759 - mean_squared_error: 1.0759 - mean_absolute_error: 0.6839 - mean_absolute_percentage_error: 185.0022 - cosine_proximity: 0.0411\n",
      "Epoch 44/500\n",
      " - 0s - loss: 1.0733 - mean_squared_error: 1.0733 - mean_absolute_error: 0.6828 - mean_absolute_percentage_error: 182.5065 - cosine_proximity: 0.0441\n",
      "Epoch 45/500\n",
      " - 0s - loss: 1.0710 - mean_squared_error: 1.0710 - mean_absolute_error: 0.6818 - mean_absolute_percentage_error: 180.3606 - cosine_proximity: 0.0460\n",
      "Epoch 46/500\n",
      " - 0s - loss: 1.0688 - mean_squared_error: 1.0688 - mean_absolute_error: 0.6809 - mean_absolute_percentage_error: 178.5807 - cosine_proximity: 0.0471\n",
      "Epoch 47/500\n",
      " - 0s - loss: 1.0669 - mean_squared_error: 1.0669 - mean_absolute_error: 0.6800 - mean_absolute_percentage_error: 177.0964 - cosine_proximity: 0.0429\n",
      "Epoch 48/500\n",
      " - 0s - loss: 1.0651 - mean_squared_error: 1.0651 - mean_absolute_error: 0.6793 - mean_absolute_percentage_error: 175.9211 - cosine_proximity: 0.0402\n",
      "Epoch 49/500\n",
      " - 0s - loss: 1.0635 - mean_squared_error: 1.0635 - mean_absolute_error: 0.6787 - mean_absolute_percentage_error: 174.9960 - cosine_proximity: 0.0361\n",
      "Epoch 50/500\n",
      " - 0s - loss: 1.0619 - mean_squared_error: 1.0619 - mean_absolute_error: 0.6782 - mean_absolute_percentage_error: 174.2375 - cosine_proximity: 0.0324\n"
     ]
    },
    {
     "name": "stdout",
     "output_type": "stream",
     "text": [
      "Epoch 51/500\n",
      " - 0s - loss: 1.0605 - mean_squared_error: 1.0605 - mean_absolute_error: 0.6776 - mean_absolute_percentage_error: 173.5921 - cosine_proximity: 0.0310\n",
      "Epoch 52/500\n",
      " - 0s - loss: 1.0592 - mean_squared_error: 1.0592 - mean_absolute_error: 0.6771 - mean_absolute_percentage_error: 173.0312 - cosine_proximity: 0.0257\n",
      "Epoch 53/500\n",
      " - 0s - loss: 1.0579 - mean_squared_error: 1.0579 - mean_absolute_error: 0.6765 - mean_absolute_percentage_error: 172.5365 - cosine_proximity: 0.0246\n",
      "Epoch 54/500\n",
      " - 0s - loss: 1.0567 - mean_squared_error: 1.0567 - mean_absolute_error: 0.6759 - mean_absolute_percentage_error: 172.1051 - cosine_proximity: 0.0237\n",
      "Epoch 55/500\n",
      " - 0s - loss: 1.0556 - mean_squared_error: 1.0556 - mean_absolute_error: 0.6753 - mean_absolute_percentage_error: 171.7465 - cosine_proximity: 0.0204\n",
      "Epoch 56/500\n",
      " - 0s - loss: 1.0546 - mean_squared_error: 1.0546 - mean_absolute_error: 0.6748 - mean_absolute_percentage_error: 171.4500 - cosine_proximity: 0.0179\n",
      "Epoch 57/500\n",
      " - 0s - loss: 1.0537 - mean_squared_error: 1.0537 - mean_absolute_error: 0.6743 - mean_absolute_percentage_error: 171.2121 - cosine_proximity: 0.0174\n",
      "Epoch 58/500\n",
      " - 0s - loss: 1.0527 - mean_squared_error: 1.0527 - mean_absolute_error: 0.6739 - mean_absolute_percentage_error: 171.0047 - cosine_proximity: 0.0173\n",
      "Epoch 59/500\n",
      " - 0s - loss: 1.0519 - mean_squared_error: 1.0519 - mean_absolute_error: 0.6735 - mean_absolute_percentage_error: 170.8078 - cosine_proximity: 0.0179\n",
      "Epoch 60/500\n",
      " - 0s - loss: 1.0511 - mean_squared_error: 1.0511 - mean_absolute_error: 0.6731 - mean_absolute_percentage_error: 170.5948 - cosine_proximity: 0.0176\n",
      "Epoch 61/500\n",
      " - 0s - loss: 1.0504 - mean_squared_error: 1.0504 - mean_absolute_error: 0.6726 - mean_absolute_percentage_error: 170.3438 - cosine_proximity: 0.0168\n",
      "Epoch 62/500\n",
      " - 0s - loss: 1.0497 - mean_squared_error: 1.0497 - mean_absolute_error: 0.6722 - mean_absolute_percentage_error: 170.0494 - cosine_proximity: 0.0124\n",
      "Epoch 63/500\n",
      " - 0s - loss: 1.0490 - mean_squared_error: 1.0490 - mean_absolute_error: 0.6717 - mean_absolute_percentage_error: 169.7157 - cosine_proximity: 0.0092\n",
      "Epoch 64/500\n",
      " - 0s - loss: 1.0483 - mean_squared_error: 1.0483 - mean_absolute_error: 0.6713 - mean_absolute_percentage_error: 169.3557 - cosine_proximity: 0.0098\n",
      "Epoch 65/500\n",
      " - 0s - loss: 1.0476 - mean_squared_error: 1.0476 - mean_absolute_error: 0.6709 - mean_absolute_percentage_error: 168.9755 - cosine_proximity: 0.0081\n",
      "Epoch 66/500\n",
      " - 0s - loss: 1.0470 - mean_squared_error: 1.0470 - mean_absolute_error: 0.6706 - mean_absolute_percentage_error: 168.5764 - cosine_proximity: 0.0087\n",
      "Epoch 67/500\n",
      " - 0s - loss: 1.0464 - mean_squared_error: 1.0464 - mean_absolute_error: 0.6703 - mean_absolute_percentage_error: 168.1471 - cosine_proximity: 0.0081\n",
      "Epoch 68/500\n",
      " - 0s - loss: 1.0458 - mean_squared_error: 1.0458 - mean_absolute_error: 0.6700 - mean_absolute_percentage_error: 167.6676 - cosine_proximity: 0.0079\n",
      "Epoch 69/500\n",
      " - 0s - loss: 1.0452 - mean_squared_error: 1.0452 - mean_absolute_error: 0.6697 - mean_absolute_percentage_error: 167.1363 - cosine_proximity: 0.0078\n",
      "Epoch 70/500\n",
      " - 0s - loss: 1.0446 - mean_squared_error: 1.0446 - mean_absolute_error: 0.6694 - mean_absolute_percentage_error: 166.5469 - cosine_proximity: 0.0073\n",
      "Epoch 71/500\n",
      " - 0s - loss: 1.0440 - mean_squared_error: 1.0440 - mean_absolute_error: 0.6691 - mean_absolute_percentage_error: 165.9170 - cosine_proximity: 0.0071\n",
      "Epoch 72/500\n",
      " - 0s - loss: 1.0435 - mean_squared_error: 1.0435 - mean_absolute_error: 0.6688 - mean_absolute_percentage_error: 165.2513 - cosine_proximity: 0.0054\n",
      "Epoch 73/500\n",
      " - 0s - loss: 1.0429 - mean_squared_error: 1.0429 - mean_absolute_error: 0.6685 - mean_absolute_percentage_error: 164.5697 - cosine_proximity: 0.0047\n",
      "Epoch 74/500\n",
      " - 0s - loss: 1.0424 - mean_squared_error: 1.0424 - mean_absolute_error: 0.6683 - mean_absolute_percentage_error: 163.8752 - cosine_proximity: 0.0033\n",
      "Epoch 75/500\n",
      " - 0s - loss: 1.0419 - mean_squared_error: 1.0419 - mean_absolute_error: 0.6681 - mean_absolute_percentage_error: 163.1666 - cosine_proximity: 7.6106e-04\n",
      "Epoch 76/500\n",
      " - 0s - loss: 1.0414 - mean_squared_error: 1.0414 - mean_absolute_error: 0.6679 - mean_absolute_percentage_error: 162.4422 - cosine_proximity: -2.5731e-03\n",
      "Epoch 77/500\n",
      " - 0s - loss: 1.0409 - mean_squared_error: 1.0409 - mean_absolute_error: 0.6677 - mean_absolute_percentage_error: 161.7011 - cosine_proximity: -3.9503e-03\n",
      "Epoch 78/500\n",
      " - 0s - loss: 1.0404 - mean_squared_error: 1.0404 - mean_absolute_error: 0.6674 - mean_absolute_percentage_error: 160.9451 - cosine_proximity: -4.2004e-03\n",
      "Epoch 79/500\n",
      " - 0s - loss: 1.0400 - mean_squared_error: 1.0400 - mean_absolute_error: 0.6672 - mean_absolute_percentage_error: 160.1793 - cosine_proximity: -3.9503e-03\n",
      "Epoch 80/500\n",
      " - 0s - loss: 1.0396 - mean_squared_error: 1.0396 - mean_absolute_error: 0.6670 - mean_absolute_percentage_error: 159.4255 - cosine_proximity: -4.5301e-03\n",
      "Epoch 81/500\n",
      " - 0s - loss: 1.0391 - mean_squared_error: 1.0391 - mean_absolute_error: 0.6668 - mean_absolute_percentage_error: 158.6901 - cosine_proximity: -4.8201e-03\n",
      "Epoch 82/500\n",
      " - 0s - loss: 1.0387 - mean_squared_error: 1.0387 - mean_absolute_error: 0.6666 - mean_absolute_percentage_error: 157.9764 - cosine_proximity: -4.9650e-03\n",
      "Epoch 83/500\n",
      " - 0s - loss: 1.0383 - mean_squared_error: 1.0383 - mean_absolute_error: 0.6665 - mean_absolute_percentage_error: 157.2929 - cosine_proximity: -5.2550e-03\n",
      "Epoch 84/500\n",
      " - 0s - loss: 1.0380 - mean_squared_error: 1.0380 - mean_absolute_error: 0.6663 - mean_absolute_percentage_error: 156.6266 - cosine_proximity: -5.1825e-03\n",
      "Epoch 85/500\n",
      " - 0s - loss: 1.0376 - mean_squared_error: 1.0376 - mean_absolute_error: 0.6662 - mean_absolute_percentage_error: 155.9777 - cosine_proximity: -5.1100e-03\n",
      "Epoch 86/500\n",
      " - 0s - loss: 1.0372 - mean_squared_error: 1.0372 - mean_absolute_error: 0.6660 - mean_absolute_percentage_error: 155.3513 - cosine_proximity: -5.3274e-03\n",
      "Epoch 87/500\n",
      " - 0s - loss: 1.0369 - mean_squared_error: 1.0369 - mean_absolute_error: 0.6658 - mean_absolute_percentage_error: 154.7495 - cosine_proximity: -5.3999e-03\n",
      "Epoch 88/500\n",
      " - 0s - loss: 1.0366 - mean_squared_error: 1.0366 - mean_absolute_error: 0.6656 - mean_absolute_percentage_error: 154.1752 - cosine_proximity: -4.8201e-03\n",
      "Epoch 89/500\n",
      " - 0s - loss: 1.0363 - mean_squared_error: 1.0363 - mean_absolute_error: 0.6655 - mean_absolute_percentage_error: 153.6286 - cosine_proximity: -6.5596e-03\n",
      "Epoch 90/500\n",
      " - 0s - loss: 1.0360 - mean_squared_error: 1.0360 - mean_absolute_error: 0.6653 - mean_absolute_percentage_error: 153.1118 - cosine_proximity: -1.0836e-02\n",
      "Epoch 91/500\n",
      " - 0s - loss: 1.0357 - mean_squared_error: 1.0357 - mean_absolute_error: 0.6652 - mean_absolute_percentage_error: 152.6229 - cosine_proximity: -1.3518e-02\n",
      "Epoch 92/500\n",
      " - 0s - loss: 1.0354 - mean_squared_error: 1.0354 - mean_absolute_error: 0.6651 - mean_absolute_percentage_error: 152.1524 - cosine_proximity: -1.4605e-02\n",
      "Epoch 93/500\n",
      " - 0s - loss: 1.0351 - mean_squared_error: 1.0351 - mean_absolute_error: 0.6649 - mean_absolute_percentage_error: 151.7013 - cosine_proximity: -1.5257e-02\n",
      "Epoch 94/500\n",
      " - 0s - loss: 1.0348 - mean_squared_error: 1.0348 - mean_absolute_error: 0.6648 - mean_absolute_percentage_error: 151.2652 - cosine_proximity: -6.6321e-03\n",
      "Epoch 95/500\n",
      " - 0s - loss: 1.0346 - mean_squared_error: 1.0346 - mean_absolute_error: 0.6646 - mean_absolute_percentage_error: 150.8474 - cosine_proximity: -6.9945e-03\n",
      "Epoch 96/500\n",
      " - 0s - loss: 1.0343 - mean_squared_error: 1.0343 - mean_absolute_error: 0.6645 - mean_absolute_percentage_error: 150.4485 - cosine_proximity: -8.7341e-03\n",
      "Epoch 97/500\n",
      " - 0s - loss: 1.0341 - mean_squared_error: 1.0341 - mean_absolute_error: 0.6644 - mean_absolute_percentage_error: 150.0643 - cosine_proximity: -8.8791e-03\n",
      "Epoch 98/500\n",
      " - 0s - loss: 1.0339 - mean_squared_error: 1.0339 - mean_absolute_error: 0.6643 - mean_absolute_percentage_error: 149.6980 - cosine_proximity: -9.8213e-03\n",
      "Epoch 99/500\n",
      " - 0s - loss: 1.0336 - mean_squared_error: 1.0336 - mean_absolute_error: 0.6642 - mean_absolute_percentage_error: 149.3437 - cosine_proximity: -3.4429e-03\n",
      "Epoch 100/500\n",
      " - 0s - loss: 1.0334 - mean_squared_error: 1.0334 - mean_absolute_error: 0.6641 - mean_absolute_percentage_error: 148.9956 - cosine_proximity: -2.8630e-03\n"
     ]
    },
    {
     "name": "stdout",
     "output_type": "stream",
     "text": [
      "Epoch 101/500\n",
      " - 0s - loss: 1.0332 - mean_squared_error: 1.0332 - mean_absolute_error: 0.6640 - mean_absolute_percentage_error: 148.6505 - cosine_proximity: -3.6482e-03\n",
      "Epoch 102/500\n",
      " - 0s - loss: 1.0330 - mean_squared_error: 1.0330 - mean_absolute_error: 0.6639 - mean_absolute_percentage_error: 148.3069 - cosine_proximity: -4.7476e-03\n",
      "Epoch 103/500\n",
      " - 0s - loss: 1.0328 - mean_squared_error: 1.0328 - mean_absolute_error: 0.6638 - mean_absolute_percentage_error: 147.9660 - cosine_proximity: -4.4577e-03\n",
      "Epoch 104/500\n",
      " - 0s - loss: 1.0327 - mean_squared_error: 1.0327 - mean_absolute_error: 0.6637 - mean_absolute_percentage_error: 147.6315 - cosine_proximity: -1.6308e-03\n",
      "Epoch 105/500\n",
      " - 0s - loss: 1.0325 - mean_squared_error: 1.0325 - mean_absolute_error: 0.6636 - mean_absolute_percentage_error: 147.3040 - cosine_proximity: -1.4859e-03\n",
      "Epoch 106/500\n",
      " - 0s - loss: 1.0323 - mean_squared_error: 1.0323 - mean_absolute_error: 0.6636 - mean_absolute_percentage_error: 146.9799 - cosine_proximity: -9.7851e-04\n",
      "Epoch 107/500\n",
      " - 0s - loss: 1.0322 - mean_squared_error: 1.0322 - mean_absolute_error: 0.6635 - mean_absolute_percentage_error: 146.6576 - cosine_proximity: -1.8121e-04\n",
      "Epoch 108/500\n",
      " - 0s - loss: 1.0320 - mean_squared_error: 1.0320 - mean_absolute_error: 0.6634 - mean_absolute_percentage_error: 146.3337 - cosine_proximity: 9.4297e-04\n",
      "Epoch 109/500\n",
      " - 0s - loss: 1.0318 - mean_squared_error: 1.0318 - mean_absolute_error: 0.6633 - mean_absolute_percentage_error: 146.0114 - cosine_proximity: 0.0016\n",
      "Epoch 110/500\n",
      " - 0s - loss: 1.0317 - mean_squared_error: 1.0317 - mean_absolute_error: 0.6633 - mean_absolute_percentage_error: 145.6951 - cosine_proximity: 0.0036\n",
      "Epoch 111/500\n",
      " - 0s - loss: 1.0315 - mean_squared_error: 1.0315 - mean_absolute_error: 0.6632 - mean_absolute_percentage_error: 145.3919 - cosine_proximity: 0.0048\n",
      "Epoch 112/500\n",
      " - 0s - loss: 1.0314 - mean_squared_error: 1.0314 - mean_absolute_error: 0.6632 - mean_absolute_percentage_error: 145.1018 - cosine_proximity: 0.0058\n",
      "Epoch 113/500\n",
      " - 0s - loss: 1.0313 - mean_squared_error: 1.0313 - mean_absolute_error: 0.6631 - mean_absolute_percentage_error: 144.8218 - cosine_proximity: 0.0047\n",
      "Epoch 114/500\n",
      " - 0s - loss: 1.0311 - mean_squared_error: 1.0311 - mean_absolute_error: 0.6630 - mean_absolute_percentage_error: 144.5551 - cosine_proximity: 0.0017\n",
      "Epoch 115/500\n",
      " - 0s - loss: 1.0310 - mean_squared_error: 1.0310 - mean_absolute_error: 0.6630 - mean_absolute_percentage_error: 144.2942 - cosine_proximity: -3.6242e-05\n",
      "Epoch 116/500\n",
      " - 0s - loss: 1.0309 - mean_squared_error: 1.0309 - mean_absolute_error: 0.6629 - mean_absolute_percentage_error: 144.0395 - cosine_proximity: -3.6603e-03\n",
      "Epoch 117/500\n",
      " - 0s - loss: 1.0308 - mean_squared_error: 1.0308 - mean_absolute_error: 0.6629 - mean_absolute_percentage_error: 143.7918 - cosine_proximity: -4.6751e-03\n",
      "Epoch 118/500\n",
      " - 0s - loss: 1.0307 - mean_squared_error: 1.0307 - mean_absolute_error: 0.6628 - mean_absolute_percentage_error: 143.5631 - cosine_proximity: -7.3569e-03\n",
      "Epoch 119/500\n",
      " - 0s - loss: 1.0305 - mean_squared_error: 1.0305 - mean_absolute_error: 0.6628 - mean_absolute_percentage_error: 143.3468 - cosine_proximity: -8.2267e-03\n",
      "Epoch 120/500\n",
      " - 0s - loss: 1.0304 - mean_squared_error: 1.0304 - mean_absolute_error: 0.6627 - mean_absolute_percentage_error: 143.1419 - cosine_proximity: -8.3717e-03\n",
      "Epoch 121/500\n",
      " - 0s - loss: 1.0303 - mean_squared_error: 1.0303 - mean_absolute_error: 0.6627 - mean_absolute_percentage_error: 142.9450 - cosine_proximity: -7.6469e-03\n",
      "Epoch 122/500\n",
      " - 0s - loss: 1.0302 - mean_squared_error: 1.0302 - mean_absolute_error: 0.6627 - mean_absolute_percentage_error: 142.7561 - cosine_proximity: -8.4442e-03\n",
      "Epoch 123/500\n",
      " - 0s - loss: 1.0301 - mean_squared_error: 1.0301 - mean_absolute_error: 0.6626 - mean_absolute_percentage_error: 142.5730 - cosine_proximity: -7.8643e-03\n",
      "Epoch 124/500\n",
      " - 0s - loss: 1.0300 - mean_squared_error: 1.0300 - mean_absolute_error: 0.6626 - mean_absolute_percentage_error: 142.4017 - cosine_proximity: -8.5167e-03\n",
      "Epoch 125/500\n",
      " - 0s - loss: 1.0299 - mean_squared_error: 1.0299 - mean_absolute_error: 0.6625 - mean_absolute_percentage_error: 142.2381 - cosine_proximity: -8.3128e-03\n",
      "Epoch 126/500\n",
      " - 0s - loss: 1.0298 - mean_squared_error: 1.0298 - mean_absolute_error: 0.6625 - mean_absolute_percentage_error: 142.0825 - cosine_proximity: -8.3119e-03\n",
      "Epoch 127/500\n",
      " - 0s - loss: 1.0298 - mean_squared_error: 1.0298 - mean_absolute_error: 0.6625 - mean_absolute_percentage_error: 141.9336 - cosine_proximity: -8.3717e-03\n",
      "Epoch 128/500\n",
      " - 0s - loss: 1.0297 - mean_squared_error: 1.0297 - mean_absolute_error: 0.6624 - mean_absolute_percentage_error: 141.7921 - cosine_proximity: -7.5744e-03\n",
      "Epoch 129/500\n",
      " - 0s - loss: 1.0296 - mean_squared_error: 1.0296 - mean_absolute_error: 0.6624 - mean_absolute_percentage_error: 141.6547 - cosine_proximity: -7.0670e-03\n",
      "Epoch 130/500\n",
      " - 0s - loss: 1.0295 - mean_squared_error: 1.0295 - mean_absolute_error: 0.6623 - mean_absolute_percentage_error: 141.5209 - cosine_proximity: -7.2120e-03\n",
      "Epoch 131/500\n",
      " - 0s - loss: 1.0294 - mean_squared_error: 1.0294 - mean_absolute_error: 0.6623 - mean_absolute_percentage_error: 141.3924 - cosine_proximity: -7.3569e-03\n",
      "Epoch 132/500\n",
      " - 0s - loss: 1.0293 - mean_squared_error: 1.0293 - mean_absolute_error: 0.6623 - mean_absolute_percentage_error: 141.2691 - cosine_proximity: -8.2992e-03\n",
      "Epoch 133/500\n",
      " - 0s - loss: 1.0293 - mean_squared_error: 1.0293 - mean_absolute_error: 0.6622 - mean_absolute_percentage_error: 141.1498 - cosine_proximity: -8.9515e-03\n",
      "Epoch 134/500\n",
      " - 0s - loss: 1.0292 - mean_squared_error: 1.0292 - mean_absolute_error: 0.6622 - mean_absolute_percentage_error: 141.0336 - cosine_proximity: -9.3140e-03\n",
      "Epoch 135/500\n",
      " - 0s - loss: 1.0291 - mean_squared_error: 1.0291 - mean_absolute_error: 0.6622 - mean_absolute_percentage_error: 140.9201 - cosine_proximity: -9.9663e-03\n",
      "Epoch 136/500\n",
      " - 0s - loss: 1.0290 - mean_squared_error: 1.0290 - mean_absolute_error: 0.6621 - mean_absolute_percentage_error: 140.8110 - cosine_proximity: -1.1054e-02\n",
      "Epoch 137/500\n",
      " - 0s - loss: 1.0290 - mean_squared_error: 1.0290 - mean_absolute_error: 0.6621 - mean_absolute_percentage_error: 140.7032 - cosine_proximity: -1.1182e-02\n",
      "Epoch 138/500\n",
      " - 0s - loss: 1.0289 - mean_squared_error: 1.0289 - mean_absolute_error: 0.6621 - mean_absolute_percentage_error: 140.5971 - cosine_proximity: -1.2431e-02\n",
      "Epoch 139/500\n",
      " - 0s - loss: 1.0288 - mean_squared_error: 1.0288 - mean_absolute_error: 0.6620 - mean_absolute_percentage_error: 140.4912 - cosine_proximity: -1.2721e-02\n",
      "Epoch 140/500\n",
      " - 0s - loss: 1.0288 - mean_squared_error: 1.0288 - mean_absolute_error: 0.6620 - mean_absolute_percentage_error: 140.3861 - cosine_proximity: -1.3518e-02\n",
      "Epoch 141/500\n",
      " - 0s - loss: 1.0287 - mean_squared_error: 1.0287 - mean_absolute_error: 0.6620 - mean_absolute_percentage_error: 140.2824 - cosine_proximity: -1.4352e-02\n",
      "Epoch 142/500\n",
      " - 0s - loss: 1.0286 - mean_squared_error: 1.0286 - mean_absolute_error: 0.6620 - mean_absolute_percentage_error: 140.1803 - cosine_proximity: -1.4533e-02\n",
      "Epoch 143/500\n",
      " - 0s - loss: 1.0286 - mean_squared_error: 1.0286 - mean_absolute_error: 0.6619 - mean_absolute_percentage_error: 140.0780 - cosine_proximity: -1.5765e-02\n",
      "Epoch 144/500\n",
      " - 0s - loss: 1.0285 - mean_squared_error: 1.0285 - mean_absolute_error: 0.6619 - mean_absolute_percentage_error: 139.9750 - cosine_proximity: -1.6780e-02\n",
      "Epoch 145/500\n",
      " - 0s - loss: 1.0285 - mean_squared_error: 1.0285 - mean_absolute_error: 0.6619 - mean_absolute_percentage_error: 139.8722 - cosine_proximity: -1.7359e-02\n",
      "Epoch 146/500\n",
      " - 0s - loss: 1.0284 - mean_squared_error: 1.0284 - mean_absolute_error: 0.6618 - mean_absolute_percentage_error: 139.7714 - cosine_proximity: -1.9099e-02\n",
      "Epoch 147/500\n",
      " - 0s - loss: 1.0283 - mean_squared_error: 1.0283 - mean_absolute_error: 0.6618 - mean_absolute_percentage_error: 139.6724 - cosine_proximity: -1.9593e-02\n",
      "Epoch 148/500\n",
      " - 0s - loss: 1.0283 - mean_squared_error: 1.0283 - mean_absolute_error: 0.6618 - mean_absolute_percentage_error: 139.5753 - cosine_proximity: -2.0259e-02\n",
      "Epoch 149/500\n",
      " - 0s - loss: 1.0282 - mean_squared_error: 1.0282 - mean_absolute_error: 0.6618 - mean_absolute_percentage_error: 139.4816 - cosine_proximity: -2.1201e-02\n"
     ]
    },
    {
     "name": "stdout",
     "output_type": "stream",
     "text": [
      "Epoch 150/500\n",
      " - 0s - loss: 1.0282 - mean_squared_error: 1.0282 - mean_absolute_error: 0.6618 - mean_absolute_percentage_error: 139.3901 - cosine_proximity: -2.3086e-02\n",
      "Epoch 151/500\n",
      " - 0s - loss: 1.0281 - mean_squared_error: 1.0281 - mean_absolute_error: 0.6617 - mean_absolute_percentage_error: 139.2995 - cosine_proximity: -2.3231e-02\n",
      "Epoch 152/500\n",
      " - 0s - loss: 1.0281 - mean_squared_error: 1.0281 - mean_absolute_error: 0.6617 - mean_absolute_percentage_error: 139.2099 - cosine_proximity: -2.4535e-02\n",
      "Epoch 153/500\n",
      " - 0s - loss: 1.0280 - mean_squared_error: 1.0280 - mean_absolute_error: 0.6617 - mean_absolute_percentage_error: 139.1218 - cosine_proximity: -2.6565e-02\n",
      "Epoch 154/500\n",
      " - 0s - loss: 1.0280 - mean_squared_error: 1.0280 - mean_absolute_error: 0.6617 - mean_absolute_percentage_error: 139.0413 - cosine_proximity: -2.7217e-02\n",
      "Epoch 155/500\n",
      " - 0s - loss: 1.0279 - mean_squared_error: 1.0279 - mean_absolute_error: 0.6616 - mean_absolute_percentage_error: 138.9647 - cosine_proximity: -2.8304e-02\n",
      "Epoch 156/500\n",
      " - 0s - loss: 1.0279 - mean_squared_error: 1.0279 - mean_absolute_error: 0.6616 - mean_absolute_percentage_error: 138.8891 - cosine_proximity: -2.8304e-02\n",
      "Epoch 157/500\n",
      " - 0s - loss: 1.0278 - mean_squared_error: 1.0278 - mean_absolute_error: 0.6616 - mean_absolute_percentage_error: 138.8143 - cosine_proximity: -2.8232e-02\n",
      "Epoch 158/500\n",
      " - 0s - loss: 1.0278 - mean_squared_error: 1.0278 - mean_absolute_error: 0.6616 - mean_absolute_percentage_error: 138.7407 - cosine_proximity: -2.9174e-02\n",
      "Epoch 159/500\n",
      " - 0s - loss: 1.0277 - mean_squared_error: 1.0277 - mean_absolute_error: 0.6616 - mean_absolute_percentage_error: 138.6687 - cosine_proximity: -3.0189e-02\n",
      "Epoch 160/500\n",
      " - 0s - loss: 1.0277 - mean_squared_error: 1.0277 - mean_absolute_error: 0.6615 - mean_absolute_percentage_error: 138.5996 - cosine_proximity: -3.1710e-02\n",
      "Epoch 161/500\n",
      " - 0s - loss: 1.0276 - mean_squared_error: 1.0276 - mean_absolute_error: 0.6615 - mean_absolute_percentage_error: 138.5327 - cosine_proximity: -3.3161e-02\n",
      "Epoch 162/500\n",
      " - 0s - loss: 1.0276 - mean_squared_error: 1.0276 - mean_absolute_error: 0.6615 - mean_absolute_percentage_error: 138.4673 - cosine_proximity: -3.4900e-02\n",
      "Epoch 163/500\n",
      " - 0s - loss: 1.0275 - mean_squared_error: 1.0275 - mean_absolute_error: 0.6615 - mean_absolute_percentage_error: 138.4072 - cosine_proximity: -3.5770e-02\n",
      "Epoch 164/500\n",
      " - 0s - loss: 1.0275 - mean_squared_error: 1.0275 - mean_absolute_error: 0.6615 - mean_absolute_percentage_error: 138.3492 - cosine_proximity: -3.5552e-02\n",
      "Epoch 165/500\n",
      " - 0s - loss: 1.0274 - mean_squared_error: 1.0274 - mean_absolute_error: 0.6614 - mean_absolute_percentage_error: 138.2932 - cosine_proximity: -3.5770e-02\n",
      "Epoch 166/500\n",
      " - 0s - loss: 1.0274 - mean_squared_error: 1.0274 - mean_absolute_error: 0.6614 - mean_absolute_percentage_error: 138.2386 - cosine_proximity: -3.6930e-02\n",
      "Epoch 167/500\n",
      " - 0s - loss: 1.0273 - mean_squared_error: 1.0273 - mean_absolute_error: 0.6614 - mean_absolute_percentage_error: 138.1852 - cosine_proximity: -3.7727e-02\n",
      "Epoch 168/500\n",
      " - 0s - loss: 1.0273 - mean_squared_error: 1.0273 - mean_absolute_error: 0.6614 - mean_absolute_percentage_error: 138.1325 - cosine_proximity: -3.7727e-02\n",
      "Epoch 169/500\n",
      " - 0s - loss: 1.0273 - mean_squared_error: 1.0273 - mean_absolute_error: 0.6614 - mean_absolute_percentage_error: 138.0801 - cosine_proximity: -3.8162e-02\n",
      "Epoch 170/500\n",
      " - 0s - loss: 1.0272 - mean_squared_error: 1.0272 - mean_absolute_error: 0.6613 - mean_absolute_percentage_error: 138.0278 - cosine_proximity: -3.9394e-02\n",
      "Epoch 171/500\n",
      " - 0s - loss: 1.0272 - mean_squared_error: 1.0272 - mean_absolute_error: 0.6613 - mean_absolute_percentage_error: 137.9755 - cosine_proximity: -3.9611e-02\n",
      "Epoch 172/500\n",
      " - 0s - loss: 1.0271 - mean_squared_error: 1.0271 - mean_absolute_error: 0.6613 - mean_absolute_percentage_error: 137.9267 - cosine_proximity: -4.0554e-02\n",
      "Epoch 173/500\n",
      " - 0s - loss: 1.0271 - mean_squared_error: 1.0271 - mean_absolute_error: 0.6613 - mean_absolute_percentage_error: 137.8821 - cosine_proximity: -4.0626e-02\n",
      "Epoch 174/500\n",
      " - 0s - loss: 1.0270 - mean_squared_error: 1.0270 - mean_absolute_error: 0.6613 - mean_absolute_percentage_error: 137.8374 - cosine_proximity: -4.0481e-02\n",
      "Epoch 175/500\n",
      " - 0s - loss: 1.0270 - mean_squared_error: 1.0270 - mean_absolute_error: 0.6612 - mean_absolute_percentage_error: 137.7924 - cosine_proximity: -4.0626e-02\n",
      "Epoch 176/500\n",
      " - 0s - loss: 1.0270 - mean_squared_error: 1.0270 - mean_absolute_error: 0.6612 - mean_absolute_percentage_error: 137.7470 - cosine_proximity: -4.0626e-02\n",
      "Epoch 177/500\n",
      " - 0s - loss: 1.0269 - mean_squared_error: 1.0269 - mean_absolute_error: 0.6612 - mean_absolute_percentage_error: 137.7024 - cosine_proximity: -4.0554e-02\n",
      "Epoch 178/500\n",
      " - 0s - loss: 1.0269 - mean_squared_error: 1.0269 - mean_absolute_error: 0.6612 - mean_absolute_percentage_error: 137.6581 - cosine_proximity: -4.0844e-02\n",
      "Epoch 179/500\n",
      " - 0s - loss: 1.0268 - mean_squared_error: 1.0268 - mean_absolute_error: 0.6612 - mean_absolute_percentage_error: 137.6142 - cosine_proximity: -4.0699e-02\n",
      "Epoch 180/500\n",
      " - 0s - loss: 1.0268 - mean_squared_error: 1.0268 - mean_absolute_error: 0.6612 - mean_absolute_percentage_error: 137.5705 - cosine_proximity: -4.0699e-02\n",
      "Epoch 181/500\n",
      " - 0s - loss: 1.0268 - mean_squared_error: 1.0268 - mean_absolute_error: 0.6611 - mean_absolute_percentage_error: 137.5276 - cosine_proximity: -4.0626e-02\n",
      "Epoch 182/500\n",
      " - 0s - loss: 1.0267 - mean_squared_error: 1.0267 - mean_absolute_error: 0.6611 - mean_absolute_percentage_error: 137.4847 - cosine_proximity: -4.0916e-02\n",
      "Epoch 183/500\n",
      " - 0s - loss: 1.0267 - mean_squared_error: 1.0267 - mean_absolute_error: 0.6611 - mean_absolute_percentage_error: 137.4419 - cosine_proximity: -4.0626e-02\n",
      "Epoch 184/500\n",
      " - 0s - loss: 1.0267 - mean_squared_error: 1.0267 - mean_absolute_error: 0.6611 - mean_absolute_percentage_error: 137.3992 - cosine_proximity: -4.0554e-02\n",
      "Epoch 185/500\n",
      " - 0s - loss: 1.0266 - mean_squared_error: 1.0266 - mean_absolute_error: 0.6611 - mean_absolute_percentage_error: 137.3570 - cosine_proximity: -4.0699e-02\n",
      "Epoch 186/500\n",
      " - 0s - loss: 1.0266 - mean_squared_error: 1.0266 - mean_absolute_error: 0.6611 - mean_absolute_percentage_error: 137.3148 - cosine_proximity: -4.0626e-02\n",
      "Epoch 187/500\n",
      " - 0s - loss: 1.0265 - mean_squared_error: 1.0265 - mean_absolute_error: 0.6610 - mean_absolute_percentage_error: 137.2728 - cosine_proximity: -4.1134e-02\n",
      "Epoch 188/500\n",
      " - 0s - loss: 1.0265 - mean_squared_error: 1.0265 - mean_absolute_error: 0.6610 - mean_absolute_percentage_error: 137.2311 - cosine_proximity: -4.1496e-02\n",
      "Epoch 189/500\n",
      " - 0s - loss: 1.0265 - mean_squared_error: 1.0265 - mean_absolute_error: 0.6610 - mean_absolute_percentage_error: 137.1897 - cosine_proximity: -4.1496e-02\n",
      "Epoch 190/500\n",
      " - 0s - loss: 1.0264 - mean_squared_error: 1.0264 - mean_absolute_error: 0.6610 - mean_absolute_percentage_error: 137.1490 - cosine_proximity: -4.1641e-02\n",
      "Epoch 191/500\n",
      " - 0s - loss: 1.0264 - mean_squared_error: 1.0264 - mean_absolute_error: 0.6610 - mean_absolute_percentage_error: 137.1086 - cosine_proximity: -4.1424e-02\n",
      "Epoch 192/500\n",
      " - 0s - loss: 1.0264 - mean_squared_error: 1.0264 - mean_absolute_error: 0.6610 - mean_absolute_percentage_error: 137.0688 - cosine_proximity: -4.2003e-02\n",
      "Epoch 193/500\n",
      " - 0s - loss: 1.0263 - mean_squared_error: 1.0263 - mean_absolute_error: 0.6609 - mean_absolute_percentage_error: 137.0294 - cosine_proximity: -4.1931e-02\n",
      "Epoch 194/500\n",
      " - 0s - loss: 1.0263 - mean_squared_error: 1.0263 - mean_absolute_error: 0.6609 - mean_absolute_percentage_error: 136.9901 - cosine_proximity: -4.1931e-02\n",
      "Epoch 195/500\n",
      " - 0s - loss: 1.0263 - mean_squared_error: 1.0263 - mean_absolute_error: 0.6609 - mean_absolute_percentage_error: 136.9505 - cosine_proximity: -4.1858e-02\n",
      "Epoch 196/500\n",
      " - 0s - loss: 1.0262 - mean_squared_error: 1.0262 - mean_absolute_error: 0.6609 - mean_absolute_percentage_error: 136.9119 - cosine_proximity: -4.2293e-02\n",
      "Epoch 197/500\n",
      " - 0s - loss: 1.0262 - mean_squared_error: 1.0262 - mean_absolute_error: 0.6609 - mean_absolute_percentage_error: 136.8730 - cosine_proximity: -4.2438e-02\n",
      "Epoch 198/500\n",
      " - 0s - loss: 1.0262 - mean_squared_error: 1.0262 - mean_absolute_error: 0.6609 - mean_absolute_percentage_error: 136.8347 - cosine_proximity: -4.2366e-02\n"
     ]
    },
    {
     "name": "stdout",
     "output_type": "stream",
     "text": [
      "Epoch 199/500\n",
      " - 0s - loss: 1.0261 - mean_squared_error: 1.0261 - mean_absolute_error: 0.6608 - mean_absolute_percentage_error: 136.7964 - cosine_proximity: -4.2583e-02\n",
      "Epoch 200/500\n",
      " - 0s - loss: 1.0261 - mean_squared_error: 1.0261 - mean_absolute_error: 0.6608 - mean_absolute_percentage_error: 136.7582 - cosine_proximity: -4.3018e-02\n",
      "Epoch 201/500\n",
      " - 0s - loss: 1.0261 - mean_squared_error: 1.0261 - mean_absolute_error: 0.6608 - mean_absolute_percentage_error: 136.7200 - cosine_proximity: -4.3018e-02\n",
      "Epoch 202/500\n",
      " - 0s - loss: 1.0260 - mean_squared_error: 1.0260 - mean_absolute_error: 0.6608 - mean_absolute_percentage_error: 136.6819 - cosine_proximity: -4.3308e-02\n",
      "Epoch 203/500\n",
      " - 0s - loss: 1.0260 - mean_squared_error: 1.0260 - mean_absolute_error: 0.6608 - mean_absolute_percentage_error: 136.6434 - cosine_proximity: -4.3236e-02\n",
      "Epoch 204/500\n",
      " - 0s - loss: 1.0260 - mean_squared_error: 1.0260 - mean_absolute_error: 0.6608 - mean_absolute_percentage_error: 136.6051 - cosine_proximity: -4.3163e-02\n",
      "Epoch 205/500\n",
      " - 0s - loss: 1.0259 - mean_squared_error: 1.0259 - mean_absolute_error: 0.6608 - mean_absolute_percentage_error: 136.5666 - cosine_proximity: -4.3236e-02\n",
      "Epoch 206/500\n",
      " - 0s - loss: 1.0259 - mean_squared_error: 1.0259 - mean_absolute_error: 0.6607 - mean_absolute_percentage_error: 136.5282 - cosine_proximity: -4.3526e-02\n",
      "Epoch 207/500\n",
      " - 0s - loss: 1.0259 - mean_squared_error: 1.0259 - mean_absolute_error: 0.6607 - mean_absolute_percentage_error: 136.4900 - cosine_proximity: -4.4105e-02\n",
      "Epoch 208/500\n",
      " - 0s - loss: 1.0258 - mean_squared_error: 1.0258 - mean_absolute_error: 0.6607 - mean_absolute_percentage_error: 136.4519 - cosine_proximity: -4.4250e-02\n",
      "Epoch 209/500\n",
      " - 0s - loss: 1.0258 - mean_squared_error: 1.0258 - mean_absolute_error: 0.6607 - mean_absolute_percentage_error: 136.4136 - cosine_proximity: -4.4033e-02\n",
      "Epoch 210/500\n",
      " - 0s - loss: 1.0258 - mean_squared_error: 1.0258 - mean_absolute_error: 0.6607 - mean_absolute_percentage_error: 136.3754 - cosine_proximity: -4.4178e-02\n",
      "Epoch 211/500\n",
      " - 0s - loss: 1.0257 - mean_squared_error: 1.0257 - mean_absolute_error: 0.6607 - mean_absolute_percentage_error: 136.3377 - cosine_proximity: -4.4395e-02\n",
      "Epoch 212/500\n",
      " - 0s - loss: 1.0257 - mean_squared_error: 1.0257 - mean_absolute_error: 0.6607 - mean_absolute_percentage_error: 136.3000 - cosine_proximity: -4.4613e-02\n",
      "Epoch 213/500\n",
      " - 0s - loss: 1.0257 - mean_squared_error: 1.0257 - mean_absolute_error: 0.6606 - mean_absolute_percentage_error: 136.2628 - cosine_proximity: -4.4903e-02\n",
      "Epoch 214/500\n",
      " - 0s - loss: 1.0256 - mean_squared_error: 1.0256 - mean_absolute_error: 0.6606 - mean_absolute_percentage_error: 136.2258 - cosine_proximity: -4.4903e-02\n",
      "Epoch 215/500\n",
      " - 0s - loss: 1.0256 - mean_squared_error: 1.0256 - mean_absolute_error: 0.6606 - mean_absolute_percentage_error: 136.1886 - cosine_proximity: -4.5338e-02\n",
      "Epoch 216/500\n",
      " - 0s - loss: 1.0256 - mean_squared_error: 1.0256 - mean_absolute_error: 0.6606 - mean_absolute_percentage_error: 136.1514 - cosine_proximity: -4.5265e-02\n",
      "Epoch 217/500\n",
      " - 0s - loss: 1.0256 - mean_squared_error: 1.0256 - mean_absolute_error: 0.6606 - mean_absolute_percentage_error: 136.1143 - cosine_proximity: -4.5265e-02\n",
      "Epoch 218/500\n",
      " - 0s - loss: 1.0255 - mean_squared_error: 1.0255 - mean_absolute_error: 0.6606 - mean_absolute_percentage_error: 136.0778 - cosine_proximity: -4.4830e-02\n",
      "Epoch 219/500\n",
      " - 0s - loss: 1.0255 - mean_squared_error: 1.0255 - mean_absolute_error: 0.6606 - mean_absolute_percentage_error: 136.0409 - cosine_proximity: -4.4903e-02\n",
      "Epoch 220/500\n",
      " - 0s - loss: 1.0255 - mean_squared_error: 1.0255 - mean_absolute_error: 0.6605 - mean_absolute_percentage_error: 136.0046 - cosine_proximity: -4.4830e-02\n",
      "Epoch 221/500\n",
      " - 0s - loss: 1.0254 - mean_squared_error: 1.0254 - mean_absolute_error: 0.6605 - mean_absolute_percentage_error: 135.9682 - cosine_proximity: -4.5048e-02\n",
      "Epoch 222/500\n",
      " - 0s - loss: 1.0254 - mean_squared_error: 1.0254 - mean_absolute_error: 0.6605 - mean_absolute_percentage_error: 135.9320 - cosine_proximity: -4.5265e-02\n",
      "Epoch 223/500\n",
      " - 0s - loss: 1.0254 - mean_squared_error: 1.0254 - mean_absolute_error: 0.6605 - mean_absolute_percentage_error: 135.8962 - cosine_proximity: -4.5265e-02\n",
      "Epoch 224/500\n",
      " - 0s - loss: 1.0253 - mean_squared_error: 1.0253 - mean_absolute_error: 0.6605 - mean_absolute_percentage_error: 135.8601 - cosine_proximity: -4.5449e-02\n",
      "Epoch 225/500\n",
      " - 0s - loss: 1.0253 - mean_squared_error: 1.0253 - mean_absolute_error: 0.6605 - mean_absolute_percentage_error: 135.8246 - cosine_proximity: -4.5120e-02\n",
      "Epoch 226/500\n",
      " - 0s - loss: 1.0253 - mean_squared_error: 1.0253 - mean_absolute_error: 0.6605 - mean_absolute_percentage_error: 135.7894 - cosine_proximity: -4.4250e-02\n",
      "Epoch 227/500\n",
      " - 0s - loss: 1.0253 - mean_squared_error: 1.0253 - mean_absolute_error: 0.6604 - mean_absolute_percentage_error: 135.7540 - cosine_proximity: -4.3888e-02\n",
      "Epoch 228/500\n",
      " - 0s - loss: 1.0252 - mean_squared_error: 1.0252 - mean_absolute_error: 0.6604 - mean_absolute_percentage_error: 135.7187 - cosine_proximity: -4.3526e-02\n",
      "Epoch 229/500\n",
      " - 0s - loss: 1.0252 - mean_squared_error: 1.0252 - mean_absolute_error: 0.6604 - mean_absolute_percentage_error: 135.6837 - cosine_proximity: -4.3308e-02\n",
      "Epoch 230/500\n",
      " - 0s - loss: 1.0252 - mean_squared_error: 1.0252 - mean_absolute_error: 0.6604 - mean_absolute_percentage_error: 135.6487 - cosine_proximity: -4.3657e-02\n",
      "Epoch 231/500\n",
      " - 0s - loss: 1.0252 - mean_squared_error: 1.0252 - mean_absolute_error: 0.6604 - mean_absolute_percentage_error: 135.6140 - cosine_proximity: -4.3453e-02\n",
      "Epoch 232/500\n",
      " - 0s - loss: 1.0251 - mean_squared_error: 1.0251 - mean_absolute_error: 0.6604 - mean_absolute_percentage_error: 135.5791 - cosine_proximity: -4.3453e-02\n",
      "Epoch 233/500\n",
      " - 0s - loss: 1.0251 - mean_squared_error: 1.0251 - mean_absolute_error: 0.6604 - mean_absolute_percentage_error: 135.5444 - cosine_proximity: -4.3236e-02\n",
      "Epoch 234/500\n",
      " - 0s - loss: 1.0251 - mean_squared_error: 1.0251 - mean_absolute_error: 0.6603 - mean_absolute_percentage_error: 135.5099 - cosine_proximity: -4.3018e-02\n",
      "Epoch 235/500\n",
      " - 0s - loss: 1.0250 - mean_squared_error: 1.0250 - mean_absolute_error: 0.6603 - mean_absolute_percentage_error: 135.4755 - cosine_proximity: -4.3018e-02\n",
      "Epoch 236/500\n",
      " - 0s - loss: 1.0250 - mean_squared_error: 1.0250 - mean_absolute_error: 0.6603 - mean_absolute_percentage_error: 135.4409 - cosine_proximity: -4.2873e-02\n",
      "Epoch 237/500\n",
      " - 0s - loss: 1.0250 - mean_squared_error: 1.0250 - mean_absolute_error: 0.6603 - mean_absolute_percentage_error: 135.4064 - cosine_proximity: -4.3163e-02\n",
      "Epoch 238/500\n",
      " - 0s - loss: 1.0250 - mean_squared_error: 1.0250 - mean_absolute_error: 0.6603 - mean_absolute_percentage_error: 135.3727 - cosine_proximity: -4.2728e-02\n",
      "Epoch 239/500\n",
      " - 0s - loss: 1.0249 - mean_squared_error: 1.0249 - mean_absolute_error: 0.6603 - mean_absolute_percentage_error: 135.3399 - cosine_proximity: -4.2583e-02\n",
      "Epoch 240/500\n",
      " - 0s - loss: 1.0249 - mean_squared_error: 1.0249 - mean_absolute_error: 0.6603 - mean_absolute_percentage_error: 135.3076 - cosine_proximity: -4.2003e-02\n",
      "Epoch 241/500\n",
      " - 0s - loss: 1.0249 - mean_squared_error: 1.0249 - mean_absolute_error: 0.6603 - mean_absolute_percentage_error: 135.2751 - cosine_proximity: -4.1931e-02\n",
      "Epoch 242/500\n",
      " - 0s - loss: 1.0249 - mean_squared_error: 1.0249 - mean_absolute_error: 0.6602 - mean_absolute_percentage_error: 135.2457 - cosine_proximity: -4.1569e-02\n",
      "Epoch 243/500\n",
      " - 0s - loss: 1.0248 - mean_squared_error: 1.0248 - mean_absolute_error: 0.6602 - mean_absolute_percentage_error: 135.2189 - cosine_proximity: -4.0409e-02\n",
      "Epoch 244/500\n",
      " - 0s - loss: 1.0248 - mean_squared_error: 1.0248 - mean_absolute_error: 0.6602 - mean_absolute_percentage_error: 135.1924 - cosine_proximity: -4.0191e-02\n",
      "Epoch 245/500\n",
      " - 0s - loss: 1.0248 - mean_squared_error: 1.0248 - mean_absolute_error: 0.6602 - mean_absolute_percentage_error: 135.1661 - cosine_proximity: -3.9249e-02\n",
      "Epoch 246/500\n",
      " - 0s - loss: 1.0248 - mean_squared_error: 1.0248 - mean_absolute_error: 0.6602 - mean_absolute_percentage_error: 135.1402 - cosine_proximity: -3.9104e-02\n",
      "Epoch 247/500\n",
      " - 0s - loss: 1.0247 - mean_squared_error: 1.0247 - mean_absolute_error: 0.6602 - mean_absolute_percentage_error: 135.1142 - cosine_proximity: -3.9177e-02\n"
     ]
    },
    {
     "name": "stdout",
     "output_type": "stream",
     "text": [
      "Epoch 248/500\n",
      " - 0s - loss: 1.0247 - mean_squared_error: 1.0247 - mean_absolute_error: 0.6602 - mean_absolute_percentage_error: 135.0882 - cosine_proximity: -3.9032e-02\n",
      "Epoch 249/500\n",
      " - 0s - loss: 1.0247 - mean_squared_error: 1.0247 - mean_absolute_error: 0.6602 - mean_absolute_percentage_error: 135.0622 - cosine_proximity: -3.9032e-02\n",
      "Epoch 250/500\n",
      " - 0s - loss: 1.0247 - mean_squared_error: 1.0247 - mean_absolute_error: 0.6601 - mean_absolute_percentage_error: 135.0364 - cosine_proximity: -3.8887e-02\n",
      "Epoch 251/500\n",
      " - 0s - loss: 1.0246 - mean_squared_error: 1.0246 - mean_absolute_error: 0.6601 - mean_absolute_percentage_error: 135.0107 - cosine_proximity: -3.9032e-02\n",
      "Epoch 252/500\n",
      " - 0s - loss: 1.0246 - mean_squared_error: 1.0246 - mean_absolute_error: 0.6601 - mean_absolute_percentage_error: 134.9852 - cosine_proximity: -3.8814e-02\n",
      "Epoch 253/500\n",
      " - 0s - loss: 1.0246 - mean_squared_error: 1.0246 - mean_absolute_error: 0.6601 - mean_absolute_percentage_error: 134.9599 - cosine_proximity: -3.8742e-02\n",
      "Epoch 254/500\n",
      " - 0s - loss: 1.0246 - mean_squared_error: 1.0246 - mean_absolute_error: 0.6601 - mean_absolute_percentage_error: 134.9346 - cosine_proximity: -3.8597e-02\n",
      "Epoch 255/500\n",
      " - 0s - loss: 1.0245 - mean_squared_error: 1.0245 - mean_absolute_error: 0.6601 - mean_absolute_percentage_error: 134.9095 - cosine_proximity: -3.8234e-02\n",
      "Epoch 256/500\n",
      " - 0s - loss: 1.0245 - mean_squared_error: 1.0245 - mean_absolute_error: 0.6601 - mean_absolute_percentage_error: 134.8846 - cosine_proximity: -3.8234e-02\n",
      "Epoch 257/500\n",
      " - 0s - loss: 1.0245 - mean_squared_error: 1.0245 - mean_absolute_error: 0.6601 - mean_absolute_percentage_error: 134.8597 - cosine_proximity: -3.7654e-02\n",
      "Epoch 258/500\n",
      " - 0s - loss: 1.0245 - mean_squared_error: 1.0245 - mean_absolute_error: 0.6601 - mean_absolute_percentage_error: 134.8349 - cosine_proximity: -3.7872e-02\n",
      "Epoch 259/500\n",
      " - 0s - loss: 1.0245 - mean_squared_error: 1.0245 - mean_absolute_error: 0.6600 - mean_absolute_percentage_error: 134.8100 - cosine_proximity: -3.7582e-02\n",
      "Epoch 260/500\n",
      " - 0s - loss: 1.0244 - mean_squared_error: 1.0244 - mean_absolute_error: 0.6600 - mean_absolute_percentage_error: 134.7855 - cosine_proximity: -3.7365e-02\n",
      "Epoch 261/500\n",
      " - 0s - loss: 1.0244 - mean_squared_error: 1.0244 - mean_absolute_error: 0.6600 - mean_absolute_percentage_error: 134.7610 - cosine_proximity: -3.6785e-02\n",
      "Epoch 262/500\n",
      " - 0s - loss: 1.0244 - mean_squared_error: 1.0244 - mean_absolute_error: 0.6600 - mean_absolute_percentage_error: 134.7365 - cosine_proximity: -3.7075e-02\n",
      "Epoch 263/500\n",
      " - 0s - loss: 1.0244 - mean_squared_error: 1.0244 - mean_absolute_error: 0.6600 - mean_absolute_percentage_error: 134.7120 - cosine_proximity: -3.6712e-02\n",
      "Epoch 264/500\n",
      " - 0s - loss: 1.0243 - mean_squared_error: 1.0243 - mean_absolute_error: 0.6600 - mean_absolute_percentage_error: 134.6881 - cosine_proximity: -3.6495e-02\n",
      "Epoch 265/500\n",
      " - 0s - loss: 1.0243 - mean_squared_error: 1.0243 - mean_absolute_error: 0.6600 - mean_absolute_percentage_error: 134.6646 - cosine_proximity: -3.6857e-02\n",
      "Epoch 266/500\n",
      " - 0s - loss: 1.0243 - mean_squared_error: 1.0243 - mean_absolute_error: 0.6600 - mean_absolute_percentage_error: 134.6415 - cosine_proximity: -3.6640e-02\n",
      "Epoch 267/500\n",
      " - 0s - loss: 1.0243 - mean_squared_error: 1.0243 - mean_absolute_error: 0.6600 - mean_absolute_percentage_error: 134.6185 - cosine_proximity: -3.6396e-02\n",
      "Epoch 268/500\n",
      " - 0s - loss: 1.0243 - mean_squared_error: 1.0243 - mean_absolute_error: 0.6599 - mean_absolute_percentage_error: 134.5960 - cosine_proximity: -3.6857e-02\n",
      "Epoch 269/500\n",
      " - 0s - loss: 1.0242 - mean_squared_error: 1.0242 - mean_absolute_error: 0.6599 - mean_absolute_percentage_error: 134.5733 - cosine_proximity: -3.7727e-02\n",
      "Epoch 270/500\n",
      " - 0s - loss: 1.0242 - mean_squared_error: 1.0242 - mean_absolute_error: 0.6599 - mean_absolute_percentage_error: 134.5510 - cosine_proximity: -3.7654e-02\n",
      "Epoch 271/500\n",
      " - 0s - loss: 1.0242 - mean_squared_error: 1.0242 - mean_absolute_error: 0.6599 - mean_absolute_percentage_error: 134.5287 - cosine_proximity: -3.7365e-02\n",
      "Epoch 272/500\n",
      " - 0s - loss: 1.0242 - mean_squared_error: 1.0242 - mean_absolute_error: 0.6599 - mean_absolute_percentage_error: 134.5064 - cosine_proximity: -3.7510e-02\n",
      "Epoch 273/500\n",
      " - 0s - loss: 1.0241 - mean_squared_error: 1.0241 - mean_absolute_error: 0.6599 - mean_absolute_percentage_error: 134.4841 - cosine_proximity: -3.7437e-02\n",
      "Epoch 274/500\n",
      " - 0s - loss: 1.0241 - mean_squared_error: 1.0241 - mean_absolute_error: 0.6599 - mean_absolute_percentage_error: 134.4621 - cosine_proximity: -3.7365e-02\n",
      "Epoch 275/500\n",
      " - 0s - loss: 1.0241 - mean_squared_error: 1.0241 - mean_absolute_error: 0.6599 - mean_absolute_percentage_error: 134.4400 - cosine_proximity: -3.7002e-02\n",
      "Epoch 276/500\n",
      " - 0s - loss: 1.0241 - mean_squared_error: 1.0241 - mean_absolute_error: 0.6599 - mean_absolute_percentage_error: 134.4181 - cosine_proximity: -3.7462e-02\n",
      "Epoch 277/500\n",
      " - 0s - loss: 1.0241 - mean_squared_error: 1.0241 - mean_absolute_error: 0.6598 - mean_absolute_percentage_error: 134.3967 - cosine_proximity: -3.7532e-02\n",
      "Epoch 278/500\n",
      " - 0s - loss: 1.0240 - mean_squared_error: 1.0240 - mean_absolute_error: 0.6598 - mean_absolute_percentage_error: 134.3752 - cosine_proximity: -3.7872e-02\n",
      "Epoch 279/500\n",
      " - 0s - loss: 1.0240 - mean_squared_error: 1.0240 - mean_absolute_error: 0.6598 - mean_absolute_percentage_error: 134.3538 - cosine_proximity: -3.8524e-02\n",
      "Epoch 280/500\n",
      " - 0s - loss: 1.0240 - mean_squared_error: 1.0240 - mean_absolute_error: 0.6598 - mean_absolute_percentage_error: 134.3324 - cosine_proximity: -3.8524e-02\n",
      "Epoch 281/500\n",
      " - 0s - loss: 1.0240 - mean_squared_error: 1.0240 - mean_absolute_error: 0.6598 - mean_absolute_percentage_error: 134.3113 - cosine_proximity: -3.8669e-02\n",
      "Epoch 282/500\n",
      " - 0s - loss: 1.0240 - mean_squared_error: 1.0240 - mean_absolute_error: 0.6598 - mean_absolute_percentage_error: 134.2900 - cosine_proximity: -3.9032e-02\n",
      "Epoch 283/500\n",
      " - 0s - loss: 1.0239 - mean_squared_error: 1.0239 - mean_absolute_error: 0.6598 - mean_absolute_percentage_error: 134.2690 - cosine_proximity: -3.8959e-02\n",
      "Epoch 284/500\n",
      " - 0s - loss: 1.0239 - mean_squared_error: 1.0239 - mean_absolute_error: 0.6598 - mean_absolute_percentage_error: 134.2493 - cosine_proximity: -3.9012e-02\n",
      "Epoch 285/500\n",
      " - 0s - loss: 1.0239 - mean_squared_error: 1.0239 - mean_absolute_error: 0.6598 - mean_absolute_percentage_error: 134.2297 - cosine_proximity: -3.9611e-02\n",
      "Epoch 286/500\n",
      " - 0s - loss: 1.0239 - mean_squared_error: 1.0239 - mean_absolute_error: 0.6597 - mean_absolute_percentage_error: 134.2104 - cosine_proximity: -3.9829e-02\n",
      "Epoch 287/500\n",
      " - 0s - loss: 1.0239 - mean_squared_error: 1.0239 - mean_absolute_error: 0.6597 - mean_absolute_percentage_error: 134.1913 - cosine_proximity: -3.9322e-02\n",
      "Epoch 288/500\n",
      " - 0s - loss: 1.0238 - mean_squared_error: 1.0238 - mean_absolute_error: 0.6597 - mean_absolute_percentage_error: 134.1723 - cosine_proximity: -3.9611e-02\n",
      "Epoch 289/500\n",
      " - 0s - loss: 1.0238 - mean_squared_error: 1.0238 - mean_absolute_error: 0.6597 - mean_absolute_percentage_error: 134.1533 - cosine_proximity: -3.9177e-02\n",
      "Epoch 290/500\n",
      " - 0s - loss: 1.0238 - mean_squared_error: 1.0238 - mean_absolute_error: 0.6597 - mean_absolute_percentage_error: 134.1345 - cosine_proximity: -3.8959e-02\n",
      "Epoch 291/500\n",
      " - 0s - loss: 1.0238 - mean_squared_error: 1.0238 - mean_absolute_error: 0.6597 - mean_absolute_percentage_error: 134.1161 - cosine_proximity: -3.8742e-02\n",
      "Epoch 292/500\n",
      " - 0s - loss: 1.0238 - mean_squared_error: 1.0238 - mean_absolute_error: 0.6597 - mean_absolute_percentage_error: 134.0980 - cosine_proximity: -3.9032e-02\n",
      "Epoch 293/500\n",
      " - 0s - loss: 1.0237 - mean_squared_error: 1.0237 - mean_absolute_error: 0.6597 - mean_absolute_percentage_error: 134.0801 - cosine_proximity: -3.8959e-02\n",
      "Epoch 294/500\n",
      " - 0s - loss: 1.0237 - mean_squared_error: 1.0237 - mean_absolute_error: 0.6597 - mean_absolute_percentage_error: 134.0621 - cosine_proximity: -3.8814e-02\n",
      "Epoch 295/500\n",
      " - 0s - loss: 1.0237 - mean_squared_error: 1.0237 - mean_absolute_error: 0.6597 - mean_absolute_percentage_error: 134.0446 - cosine_proximity: -3.8597e-02\n",
      "Epoch 296/500\n",
      " - 0s - loss: 1.0237 - mean_squared_error: 1.0237 - mean_absolute_error: 0.6596 - mean_absolute_percentage_error: 134.0271 - cosine_proximity: -3.9032e-02\n"
     ]
    },
    {
     "name": "stdout",
     "output_type": "stream",
     "text": [
      "Epoch 297/500\n",
      " - 0s - loss: 1.0237 - mean_squared_error: 1.0237 - mean_absolute_error: 0.6596 - mean_absolute_percentage_error: 134.0098 - cosine_proximity: -3.9467e-02\n",
      "Epoch 298/500\n",
      " - 0s - loss: 1.0237 - mean_squared_error: 1.0237 - mean_absolute_error: 0.6596 - mean_absolute_percentage_error: 133.9926 - cosine_proximity: -3.9032e-02\n",
      "Epoch 299/500\n",
      " - 0s - loss: 1.0236 - mean_squared_error: 1.0236 - mean_absolute_error: 0.6596 - mean_absolute_percentage_error: 133.9753 - cosine_proximity: -3.9177e-02\n",
      "Epoch 300/500\n",
      " - 0s - loss: 1.0236 - mean_squared_error: 1.0236 - mean_absolute_error: 0.6596 - mean_absolute_percentage_error: 133.9582 - cosine_proximity: -3.9032e-02\n",
      "Epoch 301/500\n",
      " - 0s - loss: 1.0236 - mean_squared_error: 1.0236 - mean_absolute_error: 0.6596 - mean_absolute_percentage_error: 133.9414 - cosine_proximity: -3.8669e-02\n",
      "Epoch 302/500\n",
      " - 0s - loss: 1.0236 - mean_squared_error: 1.0236 - mean_absolute_error: 0.6596 - mean_absolute_percentage_error: 133.9252 - cosine_proximity: -3.8887e-02\n",
      "Epoch 303/500\n",
      " - 0s - loss: 1.0236 - mean_squared_error: 1.0236 - mean_absolute_error: 0.6596 - mean_absolute_percentage_error: 133.9091 - cosine_proximity: -3.9177e-02\n",
      "Epoch 304/500\n",
      " - 0s - loss: 1.0235 - mean_squared_error: 1.0235 - mean_absolute_error: 0.6596 - mean_absolute_percentage_error: 133.8932 - cosine_proximity: -3.9322e-02\n",
      "Epoch 305/500\n",
      " - 0s - loss: 1.0235 - mean_squared_error: 1.0235 - mean_absolute_error: 0.6596 - mean_absolute_percentage_error: 133.8773 - cosine_proximity: -3.8814e-02\n",
      "Epoch 306/500\n",
      " - 0s - loss: 1.0235 - mean_squared_error: 1.0235 - mean_absolute_error: 0.6596 - mean_absolute_percentage_error: 133.8617 - cosine_proximity: -3.9104e-02\n",
      "Epoch 307/500\n",
      " - 0s - loss: 1.0235 - mean_squared_error: 1.0235 - mean_absolute_error: 0.6595 - mean_absolute_percentage_error: 133.8460 - cosine_proximity: -3.9394e-02\n",
      "Epoch 308/500\n",
      " - 0s - loss: 1.0235 - mean_squared_error: 1.0235 - mean_absolute_error: 0.6595 - mean_absolute_percentage_error: 133.8312 - cosine_proximity: -3.9549e-02\n",
      "Epoch 309/500\n",
      " - 0s - loss: 1.0235 - mean_squared_error: 1.0235 - mean_absolute_error: 0.6595 - mean_absolute_percentage_error: 133.8183 - cosine_proximity: -3.9394e-02\n",
      "Epoch 310/500\n",
      " - 0s - loss: 1.0234 - mean_squared_error: 1.0234 - mean_absolute_error: 0.6595 - mean_absolute_percentage_error: 133.8068 - cosine_proximity: -3.8959e-02\n",
      "Epoch 311/500\n",
      " - 0s - loss: 1.0234 - mean_squared_error: 1.0234 - mean_absolute_error: 0.6595 - mean_absolute_percentage_error: 133.7952 - cosine_proximity: -3.9708e-02\n",
      "Epoch 312/500\n",
      " - 0s - loss: 1.0234 - mean_squared_error: 1.0234 - mean_absolute_error: 0.6595 - mean_absolute_percentage_error: 133.7837 - cosine_proximity: -3.9684e-02\n",
      "Epoch 313/500\n",
      " - 0s - loss: 1.0234 - mean_squared_error: 1.0234 - mean_absolute_error: 0.6595 - mean_absolute_percentage_error: 133.7723 - cosine_proximity: -3.9829e-02\n",
      "Epoch 314/500\n",
      " - 0s - loss: 1.0234 - mean_squared_error: 1.0234 - mean_absolute_error: 0.6595 - mean_absolute_percentage_error: 133.7611 - cosine_proximity: -4.0046e-02\n",
      "Epoch 315/500\n",
      " - 0s - loss: 1.0234 - mean_squared_error: 1.0234 - mean_absolute_error: 0.6595 - mean_absolute_percentage_error: 133.7500 - cosine_proximity: -3.9974e-02\n",
      "Epoch 316/500\n",
      " - 0s - loss: 1.0233 - mean_squared_error: 1.0233 - mean_absolute_error: 0.6595 - mean_absolute_percentage_error: 133.7390 - cosine_proximity: -4.0264e-02\n",
      "Epoch 317/500\n",
      " - 0s - loss: 1.0233 - mean_squared_error: 1.0233 - mean_absolute_error: 0.6595 - mean_absolute_percentage_error: 133.7280 - cosine_proximity: -4.0264e-02\n",
      "Epoch 318/500\n",
      " - 0s - loss: 1.0233 - mean_squared_error: 1.0233 - mean_absolute_error: 0.6595 - mean_absolute_percentage_error: 133.7171 - cosine_proximity: -4.0357e-02\n",
      "Epoch 319/500\n",
      " - 0s - loss: 1.0233 - mean_squared_error: 1.0233 - mean_absolute_error: 0.6594 - mean_absolute_percentage_error: 133.7062 - cosine_proximity: -4.0409e-02\n",
      "Epoch 320/500\n",
      " - 0s - loss: 1.0233 - mean_squared_error: 1.0233 - mean_absolute_error: 0.6594 - mean_absolute_percentage_error: 133.6954 - cosine_proximity: -4.0409e-02\n",
      "Epoch 321/500\n",
      " - 0s - loss: 1.0233 - mean_squared_error: 1.0233 - mean_absolute_error: 0.6594 - mean_absolute_percentage_error: 133.6846 - cosine_proximity: -4.0554e-02\n",
      "Epoch 322/500\n",
      " - 0s - loss: 1.0233 - mean_squared_error: 1.0233 - mean_absolute_error: 0.6594 - mean_absolute_percentage_error: 133.6740 - cosine_proximity: -4.0916e-02\n",
      "Epoch 323/500\n",
      " - 0s - loss: 1.0232 - mean_squared_error: 1.0232 - mean_absolute_error: 0.6594 - mean_absolute_percentage_error: 133.6633 - cosine_proximity: -4.0626e-02\n",
      "Epoch 324/500\n",
      " - 0s - loss: 1.0232 - mean_squared_error: 1.0232 - mean_absolute_error: 0.6594 - mean_absolute_percentage_error: 133.6522 - cosine_proximity: -4.0771e-02\n",
      "Epoch 325/500\n",
      " - 0s - loss: 1.0232 - mean_squared_error: 1.0232 - mean_absolute_error: 0.6594 - mean_absolute_percentage_error: 133.6416 - cosine_proximity: -4.1061e-02\n",
      "Epoch 326/500\n",
      " - 0s - loss: 1.0232 - mean_squared_error: 1.0232 - mean_absolute_error: 0.6594 - mean_absolute_percentage_error: 133.6313 - cosine_proximity: -4.1713e-02\n",
      "Epoch 327/500\n",
      " - 0s - loss: 1.0232 - mean_squared_error: 1.0232 - mean_absolute_error: 0.6594 - mean_absolute_percentage_error: 133.6208 - cosine_proximity: -4.1858e-02\n",
      "Epoch 328/500\n",
      " - 0s - loss: 1.0232 - mean_squared_error: 1.0232 - mean_absolute_error: 0.6594 - mean_absolute_percentage_error: 133.6107 - cosine_proximity: -4.2293e-02\n",
      "Epoch 329/500\n",
      " - 0s - loss: 1.0231 - mean_squared_error: 1.0231 - mean_absolute_error: 0.6594 - mean_absolute_percentage_error: 133.6004 - cosine_proximity: -4.3236e-02\n",
      "Epoch 330/500\n",
      " - 0s - loss: 1.0231 - mean_squared_error: 1.0231 - mean_absolute_error: 0.6593 - mean_absolute_percentage_error: 133.5901 - cosine_proximity: -4.3888e-02\n",
      "Epoch 331/500\n",
      " - 0s - loss: 1.0231 - mean_squared_error: 1.0231 - mean_absolute_error: 0.6593 - mean_absolute_percentage_error: 133.5803 - cosine_proximity: -4.3526e-02\n",
      "Epoch 332/500\n",
      " - 0s - loss: 1.0231 - mean_squared_error: 1.0231 - mean_absolute_error: 0.6593 - mean_absolute_percentage_error: 133.5710 - cosine_proximity: -4.3743e-02\n",
      "Epoch 333/500\n",
      " - 0s - loss: 1.0231 - mean_squared_error: 1.0231 - mean_absolute_error: 0.6593 - mean_absolute_percentage_error: 133.5615 - cosine_proximity: -4.3960e-02\n",
      "Epoch 334/500\n",
      " - 0s - loss: 1.0231 - mean_squared_error: 1.0231 - mean_absolute_error: 0.6593 - mean_absolute_percentage_error: 133.5525 - cosine_proximity: -4.4033e-02\n",
      "Epoch 335/500\n",
      " - 0s - loss: 1.0231 - mean_squared_error: 1.0231 - mean_absolute_error: 0.6593 - mean_absolute_percentage_error: 133.5431 - cosine_proximity: -4.4323e-02\n",
      "Epoch 336/500\n",
      " - 0s - loss: 1.0230 - mean_squared_error: 1.0230 - mean_absolute_error: 0.6593 - mean_absolute_percentage_error: 133.5338 - cosine_proximity: -4.4516e-02\n",
      "Epoch 337/500\n",
      " - 0s - loss: 1.0230 - mean_squared_error: 1.0230 - mean_absolute_error: 0.6593 - mean_absolute_percentage_error: 133.5246 - cosine_proximity: -4.4911e-02\n",
      "Epoch 338/500\n",
      " - 0s - loss: 1.0230 - mean_squared_error: 1.0230 - mean_absolute_error: 0.6593 - mean_absolute_percentage_error: 133.5158 - cosine_proximity: -4.5959e-02\n",
      "Epoch 339/500\n",
      " - 0s - loss: 1.0230 - mean_squared_error: 1.0230 - mean_absolute_error: 0.6593 - mean_absolute_percentage_error: 133.5070 - cosine_proximity: -4.6570e-02\n",
      "Epoch 340/500\n",
      " - 0s - loss: 1.0230 - mean_squared_error: 1.0230 - mean_absolute_error: 0.6593 - mean_absolute_percentage_error: 133.4984 - cosine_proximity: -4.6642e-02\n",
      "Epoch 341/500\n",
      " - 0s - loss: 1.0230 - mean_squared_error: 1.0230 - mean_absolute_error: 0.6593 - mean_absolute_percentage_error: 133.4896 - cosine_proximity: -4.7367e-02\n",
      "Epoch 342/500\n",
      " - 0s - loss: 1.0230 - mean_squared_error: 1.0230 - mean_absolute_error: 0.6593 - mean_absolute_percentage_error: 133.4810 - cosine_proximity: -4.7440e-02\n",
      "Epoch 343/500\n",
      " - 0s - loss: 1.0229 - mean_squared_error: 1.0229 - mean_absolute_error: 0.6592 - mean_absolute_percentage_error: 133.4725 - cosine_proximity: -4.7440e-02\n",
      "Epoch 344/500\n",
      " - 0s - loss: 1.0229 - mean_squared_error: 1.0229 - mean_absolute_error: 0.6592 - mean_absolute_percentage_error: 133.4641 - cosine_proximity: -4.7947e-02\n",
      "Epoch 345/500\n",
      " - 0s - loss: 1.0229 - mean_squared_error: 1.0229 - mean_absolute_error: 0.6592 - mean_absolute_percentage_error: 133.4554 - cosine_proximity: -4.7947e-02\n"
     ]
    },
    {
     "name": "stdout",
     "output_type": "stream",
     "text": [
      "Epoch 346/500\n",
      " - 0s - loss: 1.0229 - mean_squared_error: 1.0229 - mean_absolute_error: 0.6592 - mean_absolute_percentage_error: 133.4469 - cosine_proximity: -4.8382e-02\n",
      "Epoch 347/500\n",
      " - 0s - loss: 1.0229 - mean_squared_error: 1.0229 - mean_absolute_error: 0.6592 - mean_absolute_percentage_error: 133.4385 - cosine_proximity: -4.8599e-02\n",
      "Epoch 348/500\n",
      " - 0s - loss: 1.0229 - mean_squared_error: 1.0229 - mean_absolute_error: 0.6592 - mean_absolute_percentage_error: 133.4303 - cosine_proximity: -4.8962e-02\n",
      "Epoch 349/500\n",
      " - 0s - loss: 1.0229 - mean_squared_error: 1.0229 - mean_absolute_error: 0.6592 - mean_absolute_percentage_error: 133.4229 - cosine_proximity: -4.8817e-02\n",
      "Epoch 350/500\n",
      " - 0s - loss: 1.0229 - mean_squared_error: 1.0229 - mean_absolute_error: 0.6592 - mean_absolute_percentage_error: 133.4156 - cosine_proximity: -4.8599e-02\n",
      "Epoch 351/500\n",
      " - 0s - loss: 1.0228 - mean_squared_error: 1.0228 - mean_absolute_error: 0.6592 - mean_absolute_percentage_error: 133.4081 - cosine_proximity: -4.8599e-02\n",
      "Epoch 352/500\n",
      " - 0s - loss: 1.0228 - mean_squared_error: 1.0228 - mean_absolute_error: 0.6592 - mean_absolute_percentage_error: 133.4010 - cosine_proximity: -4.9107e-02\n",
      "Epoch 353/500\n",
      " - 0s - loss: 1.0228 - mean_squared_error: 1.0228 - mean_absolute_error: 0.6592 - mean_absolute_percentage_error: 133.3937 - cosine_proximity: -4.9614e-02\n",
      "Epoch 354/500\n",
      " - 0s - loss: 1.0228 - mean_squared_error: 1.0228 - mean_absolute_error: 0.6592 - mean_absolute_percentage_error: 133.3864 - cosine_proximity: -4.9904e-02\n",
      "Epoch 355/500\n",
      " - 0s - loss: 1.0228 - mean_squared_error: 1.0228 - mean_absolute_error: 0.6592 - mean_absolute_percentage_error: 133.3796 - cosine_proximity: -5.0194e-02\n",
      "Epoch 356/500\n",
      " - 0s - loss: 1.0228 - mean_squared_error: 1.0228 - mean_absolute_error: 0.6592 - mean_absolute_percentage_error: 133.3736 - cosine_proximity: -5.0774e-02\n",
      "Epoch 357/500\n",
      " - 0s - loss: 1.0228 - mean_squared_error: 1.0228 - mean_absolute_error: 0.6591 - mean_absolute_percentage_error: 133.3678 - cosine_proximity: -5.1354e-02\n",
      "Epoch 358/500\n",
      " - 0s - loss: 1.0227 - mean_squared_error: 1.0227 - mean_absolute_error: 0.6591 - mean_absolute_percentage_error: 133.3619 - cosine_proximity: -5.1861e-02\n",
      "Epoch 359/500\n",
      " - 0s - loss: 1.0227 - mean_squared_error: 1.0227 - mean_absolute_error: 0.6591 - mean_absolute_percentage_error: 133.3560 - cosine_proximity: -5.2078e-02\n",
      "Epoch 360/500\n",
      " - 0s - loss: 1.0227 - mean_squared_error: 1.0227 - mean_absolute_error: 0.6591 - mean_absolute_percentage_error: 133.3502 - cosine_proximity: -5.2803e-02\n",
      "Epoch 361/500\n",
      " - 0s - loss: 1.0227 - mean_squared_error: 1.0227 - mean_absolute_error: 0.6591 - mean_absolute_percentage_error: 133.3445 - cosine_proximity: -5.2803e-02\n",
      "Epoch 362/500\n",
      " - 0s - loss: 1.0227 - mean_squared_error: 1.0227 - mean_absolute_error: 0.6591 - mean_absolute_percentage_error: 133.3386 - cosine_proximity: -5.2441e-02\n",
      "Epoch 363/500\n",
      " - 0s - loss: 1.0227 - mean_squared_error: 1.0227 - mean_absolute_error: 0.6591 - mean_absolute_percentage_error: 133.3328 - cosine_proximity: -5.1933e-02\n",
      "Epoch 364/500\n",
      " - 0s - loss: 1.0227 - mean_squared_error: 1.0227 - mean_absolute_error: 0.6591 - mean_absolute_percentage_error: 133.3271 - cosine_proximity: -5.2006e-02\n",
      "Epoch 365/500\n",
      " - 0s - loss: 1.0227 - mean_squared_error: 1.0227 - mean_absolute_error: 0.6591 - mean_absolute_percentage_error: 133.3215 - cosine_proximity: -5.2441e-02\n",
      "Epoch 366/500\n",
      " - 0s - loss: 1.0227 - mean_squared_error: 1.0227 - mean_absolute_error: 0.6591 - mean_absolute_percentage_error: 133.3157 - cosine_proximity: -5.2731e-02\n",
      "Epoch 367/500\n",
      " - 0s - loss: 1.0226 - mean_squared_error: 1.0226 - mean_absolute_error: 0.6591 - mean_absolute_percentage_error: 133.3101 - cosine_proximity: -5.3238e-02\n",
      "Epoch 368/500\n",
      " - 0s - loss: 1.0226 - mean_squared_error: 1.0226 - mean_absolute_error: 0.6591 - mean_absolute_percentage_error: 133.3050 - cosine_proximity: -5.3283e-02\n",
      "Epoch 369/500\n",
      " - 0s - loss: 1.0226 - mean_squared_error: 1.0226 - mean_absolute_error: 0.6591 - mean_absolute_percentage_error: 133.2998 - cosine_proximity: -5.3601e-02\n",
      "Epoch 370/500\n",
      " - 0s - loss: 1.0226 - mean_squared_error: 1.0226 - mean_absolute_error: 0.6591 - mean_absolute_percentage_error: 133.2954 - cosine_proximity: -5.3890e-02\n",
      "Epoch 371/500\n",
      " - 0s - loss: 1.0226 - mean_squared_error: 1.0226 - mean_absolute_error: 0.6590 - mean_absolute_percentage_error: 133.2927 - cosine_proximity: -5.4325e-02\n",
      "Epoch 372/500\n",
      " - 0s - loss: 1.0226 - mean_squared_error: 1.0226 - mean_absolute_error: 0.6590 - mean_absolute_percentage_error: 133.2903 - cosine_proximity: -5.4398e-02\n",
      "Epoch 373/500\n",
      " - 0s - loss: 1.0226 - mean_squared_error: 1.0226 - mean_absolute_error: 0.6590 - mean_absolute_percentage_error: 133.2877 - cosine_proximity: -5.4180e-02\n",
      "Epoch 374/500\n",
      " - 0s - loss: 1.0226 - mean_squared_error: 1.0226 - mean_absolute_error: 0.6590 - mean_absolute_percentage_error: 133.2851 - cosine_proximity: -5.4180e-02\n",
      "Epoch 375/500\n",
      " - 0s - loss: 1.0225 - mean_squared_error: 1.0225 - mean_absolute_error: 0.6590 - mean_absolute_percentage_error: 133.2827 - cosine_proximity: -5.4760e-02\n",
      "Epoch 376/500\n",
      " - 0s - loss: 1.0225 - mean_squared_error: 1.0225 - mean_absolute_error: 0.6590 - mean_absolute_percentage_error: 133.2803 - cosine_proximity: -5.4760e-02\n",
      "Epoch 377/500\n",
      " - 0s - loss: 1.0225 - mean_squared_error: 1.0225 - mean_absolute_error: 0.6590 - mean_absolute_percentage_error: 133.2778 - cosine_proximity: -5.4905e-02\n",
      "Epoch 378/500\n",
      " - 0s - loss: 1.0225 - mean_squared_error: 1.0225 - mean_absolute_error: 0.6590 - mean_absolute_percentage_error: 133.2756 - cosine_proximity: -5.4978e-02\n",
      "Epoch 379/500\n",
      " - 0s - loss: 1.0225 - mean_squared_error: 1.0225 - mean_absolute_error: 0.6590 - mean_absolute_percentage_error: 133.2732 - cosine_proximity: -5.5123e-02\n",
      "Epoch 380/500\n",
      " - 0s - loss: 1.0225 - mean_squared_error: 1.0225 - mean_absolute_error: 0.6590 - mean_absolute_percentage_error: 133.2710 - cosine_proximity: -5.5413e-02\n",
      "Epoch 381/500\n",
      " - 0s - loss: 1.0225 - mean_squared_error: 1.0225 - mean_absolute_error: 0.6590 - mean_absolute_percentage_error: 133.2692 - cosine_proximity: -5.5558e-02\n",
      "Epoch 382/500\n",
      " - 0s - loss: 1.0225 - mean_squared_error: 1.0225 - mean_absolute_error: 0.6590 - mean_absolute_percentage_error: 133.2674 - cosine_proximity: -5.5558e-02\n",
      "Epoch 383/500\n",
      " - 0s - loss: 1.0225 - mean_squared_error: 1.0225 - mean_absolute_error: 0.6590 - mean_absolute_percentage_error: 133.2658 - cosine_proximity: -5.5123e-02\n",
      "Epoch 384/500\n",
      " - 0s - loss: 1.0225 - mean_squared_error: 1.0225 - mean_absolute_error: 0.6590 - mean_absolute_percentage_error: 133.2644 - cosine_proximity: -5.5195e-02\n",
      "Epoch 385/500\n",
      " - 0s - loss: 1.0224 - mean_squared_error: 1.0224 - mean_absolute_error: 0.6590 - mean_absolute_percentage_error: 133.2627 - cosine_proximity: -5.5413e-02\n",
      "Epoch 386/500\n",
      " - 0s - loss: 1.0224 - mean_squared_error: 1.0224 - mean_absolute_error: 0.6590 - mean_absolute_percentage_error: 133.2610 - cosine_proximity: -5.6500e-02\n",
      "Epoch 387/500\n",
      " - 0s - loss: 1.0224 - mean_squared_error: 1.0224 - mean_absolute_error: 0.6589 - mean_absolute_percentage_error: 133.2591 - cosine_proximity: -5.6645e-02\n",
      "Epoch 388/500\n",
      " - 0s - loss: 1.0224 - mean_squared_error: 1.0224 - mean_absolute_error: 0.6589 - mean_absolute_percentage_error: 133.2576 - cosine_proximity: -5.6572e-02\n",
      "Epoch 389/500\n",
      " - 0s - loss: 1.0224 - mean_squared_error: 1.0224 - mean_absolute_error: 0.6589 - mean_absolute_percentage_error: 133.2559 - cosine_proximity: -5.6282e-02\n",
      "Epoch 390/500\n",
      " - 0s - loss: 1.0224 - mean_squared_error: 1.0224 - mean_absolute_error: 0.6589 - mean_absolute_percentage_error: 133.2544 - cosine_proximity: -5.6427e-02\n",
      "Epoch 391/500\n",
      " - 0s - loss: 1.0224 - mean_squared_error: 1.0224 - mean_absolute_error: 0.6589 - mean_absolute_percentage_error: 133.2530 - cosine_proximity: -5.7007e-02\n",
      "Epoch 392/500\n",
      " - 0s - loss: 1.0224 - mean_squared_error: 1.0224 - mean_absolute_error: 0.6589 - mean_absolute_percentage_error: 133.2518 - cosine_proximity: -5.7587e-02\n",
      "Epoch 393/500\n",
      " - 0s - loss: 1.0224 - mean_squared_error: 1.0224 - mean_absolute_error: 0.6589 - mean_absolute_percentage_error: 133.2503 - cosine_proximity: -5.7515e-02\n",
      "Epoch 394/500\n",
      " - 0s - loss: 1.0223 - mean_squared_error: 1.0223 - mean_absolute_error: 0.6589 - mean_absolute_percentage_error: 133.2489 - cosine_proximity: -5.7587e-02\n"
     ]
    },
    {
     "name": "stdout",
     "output_type": "stream",
     "text": [
      "Epoch 395/500\n",
      " - 0s - loss: 1.0223 - mean_squared_error: 1.0223 - mean_absolute_error: 0.6589 - mean_absolute_percentage_error: 133.2476 - cosine_proximity: -5.7297e-02\n",
      "Epoch 396/500\n",
      " - 0s - loss: 1.0223 - mean_squared_error: 1.0223 - mean_absolute_error: 0.6589 - mean_absolute_percentage_error: 133.2464 - cosine_proximity: -5.8094e-02\n",
      "Epoch 397/500\n",
      " - 0s - loss: 1.0223 - mean_squared_error: 1.0223 - mean_absolute_error: 0.6589 - mean_absolute_percentage_error: 133.2451 - cosine_proximity: -5.9254e-02\n",
      "Epoch 398/500\n",
      " - 0s - loss: 1.0223 - mean_squared_error: 1.0223 - mean_absolute_error: 0.6589 - mean_absolute_percentage_error: 133.2437 - cosine_proximity: -5.9254e-02\n",
      "Epoch 399/500\n",
      " - 0s - loss: 1.0223 - mean_squared_error: 1.0223 - mean_absolute_error: 0.6589 - mean_absolute_percentage_error: 133.2423 - cosine_proximity: -5.9399e-02\n",
      "Epoch 400/500\n",
      " - 0s - loss: 1.0223 - mean_squared_error: 1.0223 - mean_absolute_error: 0.6589 - mean_absolute_percentage_error: 133.2409 - cosine_proximity: -5.9399e-02\n",
      "Epoch 401/500\n",
      " - 0s - loss: 1.0223 - mean_squared_error: 1.0223 - mean_absolute_error: 0.6589 - mean_absolute_percentage_error: 133.2395 - cosine_proximity: -5.9037e-02\n",
      "Epoch 402/500\n",
      " - 0s - loss: 1.0223 - mean_squared_error: 1.0223 - mean_absolute_error: 0.6589 - mean_absolute_percentage_error: 133.2379 - cosine_proximity: -5.9109e-02\n",
      "Epoch 403/500\n",
      " - 0s - loss: 1.0223 - mean_squared_error: 1.0223 - mean_absolute_error: 0.6589 - mean_absolute_percentage_error: 133.2365 - cosine_proximity: -5.9327e-02\n",
      "Epoch 404/500\n",
      " - 0s - loss: 1.0223 - mean_squared_error: 1.0223 - mean_absolute_error: 0.6588 - mean_absolute_percentage_error: 133.2352 - cosine_proximity: -5.9182e-02\n",
      "Epoch 405/500\n",
      " - 0s - loss: 1.0222 - mean_squared_error: 1.0222 - mean_absolute_error: 0.6588 - mean_absolute_percentage_error: 133.2338 - cosine_proximity: -5.9032e-02\n",
      "Epoch 406/500\n",
      " - 0s - loss: 1.0222 - mean_squared_error: 1.0222 - mean_absolute_error: 0.6588 - mean_absolute_percentage_error: 133.2332 - cosine_proximity: -5.8747e-02\n",
      "Epoch 407/500\n",
      " - 0s - loss: 1.0222 - mean_squared_error: 1.0222 - mean_absolute_error: 0.6588 - mean_absolute_percentage_error: 133.2326 - cosine_proximity: -5.9109e-02\n",
      "Epoch 408/500\n",
      " - 0s - loss: 1.0222 - mean_squared_error: 1.0222 - mean_absolute_error: 0.6588 - mean_absolute_percentage_error: 133.2320 - cosine_proximity: -5.9109e-02\n",
      "Epoch 409/500\n",
      " - 0s - loss: 1.0222 - mean_squared_error: 1.0222 - mean_absolute_error: 0.6588 - mean_absolute_percentage_error: 133.2311 - cosine_proximity: -5.9182e-02\n",
      "Epoch 410/500\n",
      " - 0s - loss: 1.0222 - mean_squared_error: 1.0222 - mean_absolute_error: 0.6588 - mean_absolute_percentage_error: 133.2305 - cosine_proximity: -5.9617e-02\n",
      "Epoch 411/500\n",
      " - 0s - loss: 1.0222 - mean_squared_error: 1.0222 - mean_absolute_error: 0.6588 - mean_absolute_percentage_error: 133.2297 - cosine_proximity: -5.9689e-02\n",
      "Epoch 412/500\n",
      " - 0s - loss: 1.0222 - mean_squared_error: 1.0222 - mean_absolute_error: 0.6588 - mean_absolute_percentage_error: 133.2290 - cosine_proximity: -5.9834e-02\n",
      "Epoch 413/500\n",
      " - 0s - loss: 1.0222 - mean_squared_error: 1.0222 - mean_absolute_error: 0.6588 - mean_absolute_percentage_error: 133.2281 - cosine_proximity: -6.0124e-02\n",
      "Epoch 414/500\n",
      " - 0s - loss: 1.0222 - mean_squared_error: 1.0222 - mean_absolute_error: 0.6588 - mean_absolute_percentage_error: 133.2273 - cosine_proximity: -5.9890e-02\n",
      "Epoch 415/500\n",
      " - 0s - loss: 1.0222 - mean_squared_error: 1.0222 - mean_absolute_error: 0.6588 - mean_absolute_percentage_error: 133.2266 - cosine_proximity: -5.9762e-02\n",
      "Epoch 416/500\n",
      " - 0s - loss: 1.0221 - mean_squared_error: 1.0221 - mean_absolute_error: 0.6588 - mean_absolute_percentage_error: 133.2257 - cosine_proximity: -5.9762e-02\n",
      "Epoch 417/500\n",
      " - 0s - loss: 1.0221 - mean_squared_error: 1.0221 - mean_absolute_error: 0.6588 - mean_absolute_percentage_error: 133.2249 - cosine_proximity: -5.9472e-02\n",
      "Epoch 418/500\n",
      " - 0s - loss: 1.0221 - mean_squared_error: 1.0221 - mean_absolute_error: 0.6588 - mean_absolute_percentage_error: 133.2240 - cosine_proximity: -5.9182e-02\n",
      "Epoch 419/500\n",
      " - 0s - loss: 1.0221 - mean_squared_error: 1.0221 - mean_absolute_error: 0.6588 - mean_absolute_percentage_error: 133.2233 - cosine_proximity: -5.9182e-02\n",
      "Epoch 420/500\n",
      " - 0s - loss: 1.0221 - mean_squared_error: 1.0221 - mean_absolute_error: 0.6588 - mean_absolute_percentage_error: 133.2223 - cosine_proximity: -5.9327e-02\n",
      "Epoch 421/500\n",
      " - 0s - loss: 1.0221 - mean_squared_error: 1.0221 - mean_absolute_error: 0.6588 - mean_absolute_percentage_error: 133.2214 - cosine_proximity: -5.9182e-02\n",
      "Epoch 422/500\n",
      " - 0s - loss: 1.0221 - mean_squared_error: 1.0221 - mean_absolute_error: 0.6588 - mean_absolute_percentage_error: 133.2203 - cosine_proximity: -5.9109e-02\n",
      "Epoch 423/500\n",
      " - 0s - loss: 1.0221 - mean_squared_error: 1.0221 - mean_absolute_error: 0.6587 - mean_absolute_percentage_error: 133.2203 - cosine_proximity: -6.0694e-02\n",
      "Epoch 424/500\n",
      " - 0s - loss: 1.0221 - mean_squared_error: 1.0221 - mean_absolute_error: 0.6587 - mean_absolute_percentage_error: 133.2209 - cosine_proximity: -6.0631e-02\n",
      "Epoch 425/500\n",
      " - 0s - loss: 1.0221 - mean_squared_error: 1.0221 - mean_absolute_error: 0.6587 - mean_absolute_percentage_error: 133.2217 - cosine_proximity: -6.0196e-02\n",
      "Epoch 426/500\n",
      " - 0s - loss: 1.0221 - mean_squared_error: 1.0221 - mean_absolute_error: 0.6587 - mean_absolute_percentage_error: 133.2226 - cosine_proximity: -6.0100e-02\n",
      "Epoch 427/500\n",
      " - 0s - loss: 1.0221 - mean_squared_error: 1.0221 - mean_absolute_error: 0.6587 - mean_absolute_percentage_error: 133.2234 - cosine_proximity: -6.0486e-02\n",
      "Epoch 428/500\n",
      " - 0s - loss: 1.0220 - mean_squared_error: 1.0220 - mean_absolute_error: 0.6587 - mean_absolute_percentage_error: 133.2241 - cosine_proximity: -6.0196e-02\n",
      "Epoch 429/500\n",
      " - 0s - loss: 1.0220 - mean_squared_error: 1.0220 - mean_absolute_error: 0.6587 - mean_absolute_percentage_error: 133.2248 - cosine_proximity: -6.0196e-02\n",
      "Epoch 430/500\n",
      " - 0s - loss: 1.0220 - mean_squared_error: 1.0220 - mean_absolute_error: 0.6587 - mean_absolute_percentage_error: 133.2254 - cosine_proximity: -6.0284e-02\n",
      "Epoch 431/500\n",
      " - 0s - loss: 1.0220 - mean_squared_error: 1.0220 - mean_absolute_error: 0.6587 - mean_absolute_percentage_error: 133.2259 - cosine_proximity: -6.0414e-02\n",
      "Epoch 432/500\n",
      " - 0s - loss: 1.0220 - mean_squared_error: 1.0220 - mean_absolute_error: 0.6587 - mean_absolute_percentage_error: 133.2266 - cosine_proximity: -6.0341e-02\n",
      "Epoch 433/500\n",
      " - 0s - loss: 1.0220 - mean_squared_error: 1.0220 - mean_absolute_error: 0.6587 - mean_absolute_percentage_error: 133.2270 - cosine_proximity: -6.0196e-02\n",
      "Epoch 434/500\n",
      " - 0s - loss: 1.0220 - mean_squared_error: 1.0220 - mean_absolute_error: 0.6587 - mean_absolute_percentage_error: 133.2277 - cosine_proximity: -6.0051e-02\n",
      "Epoch 435/500\n",
      " - 0s - loss: 1.0220 - mean_squared_error: 1.0220 - mean_absolute_error: 0.6587 - mean_absolute_percentage_error: 133.2281 - cosine_proximity: -5.9762e-02\n",
      "Epoch 436/500\n",
      " - 0s - loss: 1.0220 - mean_squared_error: 1.0220 - mean_absolute_error: 0.6587 - mean_absolute_percentage_error: 133.2285 - cosine_proximity: -5.9762e-02\n",
      "Epoch 437/500\n",
      " - 0s - loss: 1.0220 - mean_squared_error: 1.0220 - mean_absolute_error: 0.6587 - mean_absolute_percentage_error: 133.2290 - cosine_proximity: -6.0051e-02\n",
      "Epoch 438/500\n",
      " - 0s - loss: 1.0220 - mean_squared_error: 1.0220 - mean_absolute_error: 0.6587 - mean_absolute_percentage_error: 133.2294 - cosine_proximity: -6.0704e-02\n",
      "Epoch 439/500\n",
      " - 0s - loss: 1.0220 - mean_squared_error: 1.0220 - mean_absolute_error: 0.6587 - mean_absolute_percentage_error: 133.2299 - cosine_proximity: -6.1284e-02\n",
      "Epoch 440/500\n",
      " - 0s - loss: 1.0219 - mean_squared_error: 1.0219 - mean_absolute_error: 0.6587 - mean_absolute_percentage_error: 133.2300 - cosine_proximity: -6.0921e-02\n",
      "Epoch 441/500\n",
      " - 0s - loss: 1.0219 - mean_squared_error: 1.0219 - mean_absolute_error: 0.6587 - mean_absolute_percentage_error: 133.2306 - cosine_proximity: -6.1119e-02\n",
      "Epoch 442/500\n",
      " - 0s - loss: 1.0219 - mean_squared_error: 1.0219 - mean_absolute_error: 0.6587 - mean_absolute_percentage_error: 133.2311 - cosine_proximity: -6.0994e-02\n",
      "Epoch 443/500\n",
      " - 0s - loss: 1.0219 - mean_squared_error: 1.0219 - mean_absolute_error: 0.6586 - mean_absolute_percentage_error: 133.2314 - cosine_proximity: -6.1429e-02\n"
     ]
    },
    {
     "name": "stdout",
     "output_type": "stream",
     "text": [
      "Epoch 444/500\n",
      " - 0s - loss: 1.0219 - mean_squared_error: 1.0219 - mean_absolute_error: 0.6586 - mean_absolute_percentage_error: 133.2317 - cosine_proximity: -6.1429e-02\n",
      "Epoch 445/500\n",
      " - 0s - loss: 1.0219 - mean_squared_error: 1.0219 - mean_absolute_error: 0.6586 - mean_absolute_percentage_error: 133.2320 - cosine_proximity: -6.1211e-02\n",
      "Epoch 446/500\n",
      " - 0s - loss: 1.0219 - mean_squared_error: 1.0219 - mean_absolute_error: 0.6586 - mean_absolute_percentage_error: 133.2323 - cosine_proximity: -6.1139e-02\n",
      "Epoch 447/500\n",
      " - 0s - loss: 1.0219 - mean_squared_error: 1.0219 - mean_absolute_error: 0.6586 - mean_absolute_percentage_error: 133.2325 - cosine_proximity: -6.1139e-02\n",
      "Epoch 448/500\n",
      " - 0s - loss: 1.0219 - mean_squared_error: 1.0219 - mean_absolute_error: 0.6586 - mean_absolute_percentage_error: 133.2327 - cosine_proximity: -6.1356e-02\n",
      "Epoch 449/500\n",
      " - 0s - loss: 1.0219 - mean_squared_error: 1.0219 - mean_absolute_error: 0.6586 - mean_absolute_percentage_error: 133.2329 - cosine_proximity: -6.1356e-02\n",
      "Epoch 450/500\n",
      " - 0s - loss: 1.0219 - mean_squared_error: 1.0219 - mean_absolute_error: 0.6586 - mean_absolute_percentage_error: 133.2331 - cosine_proximity: -6.1356e-02\n",
      "Epoch 451/500\n",
      " - 0s - loss: 1.0219 - mean_squared_error: 1.0219 - mean_absolute_error: 0.6586 - mean_absolute_percentage_error: 133.2336 - cosine_proximity: -6.1429e-02\n",
      "Epoch 452/500\n",
      " - 0s - loss: 1.0219 - mean_squared_error: 1.0219 - mean_absolute_error: 0.6586 - mean_absolute_percentage_error: 133.2337 - cosine_proximity: -6.1501e-02\n",
      "Epoch 453/500\n",
      " - 0s - loss: 1.0219 - mean_squared_error: 1.0219 - mean_absolute_error: 0.6586 - mean_absolute_percentage_error: 133.2338 - cosine_proximity: -6.1501e-02\n",
      "Epoch 454/500\n",
      " - 0s - loss: 1.0218 - mean_squared_error: 1.0218 - mean_absolute_error: 0.6586 - mean_absolute_percentage_error: 133.2341 - cosine_proximity: -6.1356e-02\n",
      "Epoch 455/500\n",
      " - 0s - loss: 1.0218 - mean_squared_error: 1.0218 - mean_absolute_error: 0.6586 - mean_absolute_percentage_error: 133.2342 - cosine_proximity: -6.2153e-02\n",
      "Epoch 456/500\n",
      " - 0s - loss: 1.0218 - mean_squared_error: 1.0218 - mean_absolute_error: 0.6586 - mean_absolute_percentage_error: 133.2345 - cosine_proximity: -6.2081e-02\n",
      "Epoch 457/500\n",
      " - 0s - loss: 1.0218 - mean_squared_error: 1.0218 - mean_absolute_error: 0.6586 - mean_absolute_percentage_error: 133.2346 - cosine_proximity: -6.2008e-02\n",
      "Epoch 458/500\n",
      " - 0s - loss: 1.0218 - mean_squared_error: 1.0218 - mean_absolute_error: 0.6586 - mean_absolute_percentage_error: 133.2349 - cosine_proximity: -6.2008e-02\n",
      "Epoch 459/500\n",
      " - 0s - loss: 1.0218 - mean_squared_error: 1.0218 - mean_absolute_error: 0.6586 - mean_absolute_percentage_error: 133.2354 - cosine_proximity: -6.2516e-02\n",
      "Epoch 460/500\n",
      " - 0s - loss: 1.0218 - mean_squared_error: 1.0218 - mean_absolute_error: 0.6586 - mean_absolute_percentage_error: 133.2354 - cosine_proximity: -6.2008e-02\n",
      "Epoch 461/500\n",
      " - 0s - loss: 1.0218 - mean_squared_error: 1.0218 - mean_absolute_error: 0.6586 - mean_absolute_percentage_error: 133.2357 - cosine_proximity: -6.2371e-02\n",
      "Epoch 462/500\n",
      " - 0s - loss: 1.0218 - mean_squared_error: 1.0218 - mean_absolute_error: 0.6586 - mean_absolute_percentage_error: 133.2358 - cosine_proximity: -6.2516e-02\n",
      "Epoch 463/500\n",
      " - 0s - loss: 1.0218 - mean_squared_error: 1.0218 - mean_absolute_error: 0.6586 - mean_absolute_percentage_error: 133.2361 - cosine_proximity: -6.2588e-02\n",
      "Epoch 464/500\n",
      " - 0s - loss: 1.0218 - mean_squared_error: 1.0218 - mean_absolute_error: 0.6586 - mean_absolute_percentage_error: 133.2366 - cosine_proximity: -6.2661e-02\n",
      "Epoch 465/500\n",
      " - 0s - loss: 1.0218 - mean_squared_error: 1.0218 - mean_absolute_error: 0.6585 - mean_absolute_percentage_error: 133.2369 - cosine_proximity: -6.2516e-02\n",
      "Epoch 466/500\n",
      " - 0s - loss: 1.0218 - mean_squared_error: 1.0218 - mean_absolute_error: 0.6585 - mean_absolute_percentage_error: 133.2371 - cosine_proximity: -6.2153e-02\n",
      "Epoch 467/500\n",
      " - 0s - loss: 1.0218 - mean_squared_error: 1.0218 - mean_absolute_error: 0.6585 - mean_absolute_percentage_error: 133.2374 - cosine_proximity: -6.2298e-02\n",
      "Epoch 468/500\n",
      " - 0s - loss: 1.0218 - mean_squared_error: 1.0218 - mean_absolute_error: 0.6585 - mean_absolute_percentage_error: 133.2376 - cosine_proximity: -6.2588e-02\n",
      "Epoch 469/500\n",
      " - 0s - loss: 1.0217 - mean_squared_error: 1.0217 - mean_absolute_error: 0.6585 - mean_absolute_percentage_error: 133.2377 - cosine_proximity: -6.2733e-02\n",
      "Epoch 470/500\n",
      " - 0s - loss: 1.0217 - mean_squared_error: 1.0217 - mean_absolute_error: 0.6585 - mean_absolute_percentage_error: 133.2380 - cosine_proximity: -6.3241e-02\n",
      "Epoch 471/500\n",
      " - 0s - loss: 1.0217 - mean_squared_error: 1.0217 - mean_absolute_error: 0.6585 - mean_absolute_percentage_error: 133.2382 - cosine_proximity: -6.3458e-02\n",
      "Epoch 472/500\n",
      " - 0s - loss: 1.0217 - mean_squared_error: 1.0217 - mean_absolute_error: 0.6585 - mean_absolute_percentage_error: 133.2385 - cosine_proximity: -6.3676e-02\n",
      "Epoch 473/500\n",
      " - 0s - loss: 1.0217 - mean_squared_error: 1.0217 - mean_absolute_error: 0.6585 - mean_absolute_percentage_error: 133.2385 - cosine_proximity: -6.3748e-02\n",
      "Epoch 474/500\n",
      " - 0s - loss: 1.0217 - mean_squared_error: 1.0217 - mean_absolute_error: 0.6585 - mean_absolute_percentage_error: 133.2387 - cosine_proximity: -6.4038e-02\n",
      "Epoch 475/500\n",
      " - 0s - loss: 1.0217 - mean_squared_error: 1.0217 - mean_absolute_error: 0.6585 - mean_absolute_percentage_error: 133.2388 - cosine_proximity: -6.4148e-02\n",
      "Epoch 476/500\n",
      " - 0s - loss: 1.0217 - mean_squared_error: 1.0217 - mean_absolute_error: 0.6585 - mean_absolute_percentage_error: 133.2388 - cosine_proximity: -6.4110e-02\n",
      "Epoch 477/500\n",
      " - 0s - loss: 1.0217 - mean_squared_error: 1.0217 - mean_absolute_error: 0.6585 - mean_absolute_percentage_error: 133.2388 - cosine_proximity: -6.4328e-02\n",
      "Epoch 478/500\n",
      " - 0s - loss: 1.0217 - mean_squared_error: 1.0217 - mean_absolute_error: 0.6585 - mean_absolute_percentage_error: 133.2390 - cosine_proximity: -6.4618e-02\n",
      "Epoch 479/500\n",
      " - 0s - loss: 1.0217 - mean_squared_error: 1.0217 - mean_absolute_error: 0.6585 - mean_absolute_percentage_error: 133.2390 - cosine_proximity: -6.5198e-02\n",
      "Epoch 480/500\n",
      " - 0s - loss: 1.0217 - mean_squared_error: 1.0217 - mean_absolute_error: 0.6585 - mean_absolute_percentage_error: 133.2390 - cosine_proximity: -6.5415e-02\n",
      "Epoch 481/500\n",
      " - 0s - loss: 1.0217 - mean_squared_error: 1.0217 - mean_absolute_error: 0.6585 - mean_absolute_percentage_error: 133.2390 - cosine_proximity: -6.5343e-02\n",
      "Epoch 482/500\n",
      " - 0s - loss: 1.0217 - mean_squared_error: 1.0217 - mean_absolute_error: 0.6585 - mean_absolute_percentage_error: 133.2389 - cosine_proximity: -6.5215e-02\n",
      "Epoch 483/500\n",
      " - 0s - loss: 1.0217 - mean_squared_error: 1.0217 - mean_absolute_error: 0.6585 - mean_absolute_percentage_error: 133.2390 - cosine_proximity: -6.5778e-02\n",
      "Epoch 484/500\n",
      " - 0s - loss: 1.0217 - mean_squared_error: 1.0217 - mean_absolute_error: 0.6585 - mean_absolute_percentage_error: 133.2392 - cosine_proximity: -6.5850e-02\n",
      "Epoch 485/500\n",
      " - 0s - loss: 1.0216 - mean_squared_error: 1.0216 - mean_absolute_error: 0.6585 - mean_absolute_percentage_error: 133.2392 - cosine_proximity: -6.6140e-02\n",
      "Epoch 486/500\n",
      " - 0s - loss: 1.0216 - mean_squared_error: 1.0216 - mean_absolute_error: 0.6585 - mean_absolute_percentage_error: 133.2392 - cosine_proximity: -6.6720e-02\n",
      "Epoch 487/500\n",
      " - 0s - loss: 1.0216 - mean_squared_error: 1.0216 - mean_absolute_error: 0.6585 - mean_absolute_percentage_error: 133.2393 - cosine_proximity: -6.6792e-02\n",
      "Epoch 488/500\n",
      " - 0s - loss: 1.0216 - mean_squared_error: 1.0216 - mean_absolute_error: 0.6585 - mean_absolute_percentage_error: 133.2393 - cosine_proximity: -6.6792e-02\n",
      "Epoch 489/500\n",
      " - 0s - loss: 1.0216 - mean_squared_error: 1.0216 - mean_absolute_error: 0.6584 - mean_absolute_percentage_error: 133.2393 - cosine_proximity: -6.7082e-02\n",
      "Epoch 490/500\n",
      " - 0s - loss: 1.0216 - mean_squared_error: 1.0216 - mean_absolute_error: 0.6584 - mean_absolute_percentage_error: 133.2393 - cosine_proximity: -6.7082e-02\n",
      "Epoch 491/500\n",
      " - 0s - loss: 1.0216 - mean_squared_error: 1.0216 - mean_absolute_error: 0.6584 - mean_absolute_percentage_error: 133.2389 - cosine_proximity: -6.7010e-02\n",
      "Epoch 492/500\n",
      " - 0s - loss: 1.0216 - mean_squared_error: 1.0216 - mean_absolute_error: 0.6584 - mean_absolute_percentage_error: 133.2390 - cosine_proximity: -6.7227e-02\n"
     ]
    },
    {
     "name": "stdout",
     "output_type": "stream",
     "text": [
      "Epoch 493/500\n",
      " - 0s - loss: 1.0216 - mean_squared_error: 1.0216 - mean_absolute_error: 0.6584 - mean_absolute_percentage_error: 133.2389 - cosine_proximity: -6.7082e-02\n",
      "Epoch 494/500\n",
      " - 0s - loss: 1.0216 - mean_squared_error: 1.0216 - mean_absolute_error: 0.6584 - mean_absolute_percentage_error: 133.2387 - cosine_proximity: -6.7082e-02\n",
      "Epoch 495/500\n",
      " - 0s - loss: 1.0216 - mean_squared_error: 1.0216 - mean_absolute_error: 0.6584 - mean_absolute_percentage_error: 133.2386 - cosine_proximity: -6.7155e-02\n",
      "Epoch 496/500\n",
      " - 0s - loss: 1.0216 - mean_squared_error: 1.0216 - mean_absolute_error: 0.6584 - mean_absolute_percentage_error: 133.2384 - cosine_proximity: -6.7372e-02\n",
      "Epoch 497/500\n",
      " - 0s - loss: 1.0216 - mean_squared_error: 1.0216 - mean_absolute_error: 0.6584 - mean_absolute_percentage_error: 133.2383 - cosine_proximity: -6.7662e-02\n",
      "Epoch 498/500\n",
      " - 0s - loss: 1.0216 - mean_squared_error: 1.0216 - mean_absolute_error: 0.6584 - mean_absolute_percentage_error: 133.2380 - cosine_proximity: -6.7829e-02\n",
      "Epoch 499/500\n",
      " - 0s - loss: 1.0216 - mean_squared_error: 1.0216 - mean_absolute_error: 0.6584 - mean_absolute_percentage_error: 133.2377 - cosine_proximity: -6.7952e-02\n",
      "Epoch 500/500\n",
      " - 0s - loss: 1.0216 - mean_squared_error: 1.0216 - mean_absolute_error: 0.6584 - mean_absolute_percentage_error: 133.2377 - cosine_proximity: -6.7807e-02\n"
     ]
    },
    {
     "data": {
      "image/png": "[encoded data removed]",
      "text/plain": [
       "<Figure size 432x288 with 1 Axes>"
      ]
     },
     "metadata": {
      "needs_background": "light"
     },
     "output_type": "display_data"
    }
   ],
   "source": [
    "from keras.models import Sequential\n",
    "from keras.layers import Dense\n",
    "from matplotlib import pyplot\n",
    "# prepare sequence\n",
    "#X = array([0.1, 0.2, 0.3, 0.4, 0.5, 0.6, 0.7, 0.8, 0.9, 1.0])\n",
    "# create model\n",
    "model = Sequential()\n",
    "model.add(Dense(24, input_dim=24))\n",
    "model.add(Dense(1))\n",
    "model.compile(loss='mse', optimizer='adam', metrics=['mse', 'mae', 'mape', 'cosine'])\n",
    "#model.compile(loss='mse', optimizer='adam', metrics=[coeff_determination])\n",
    "\n",
    "# train model\n",
    "history = model.fit(X_train, y_train, epochs=500, batch_size=len(X_transformed), verbose=2)\n",
    "# plot metrics\n",
    "pyplot.plot(history.history['mean_squared_error'])\n",
    "pyplot.plot(history.history['mean_absolute_error'])\n",
    "pyplot.plot(history.history['mean_absolute_percentage_error'])\n",
    "pyplot.plot(history.history['cosine_proximity'])\n",
    "pyplot.show()"
   ]
  },
  {
   "cell_type": "code",
   "execution_count": 853,
   "metadata": {},
   "outputs": [],
   "source": [
    "#r2_score(y_test, model.predict(X_test))"
   ]
  },
  {
   "cell_type": "code",
   "execution_count": null,
   "metadata": {
    "collapsed": true
   },
   "outputs": [],
   "source": []
  }
 ],
 "metadata": {
  "kernelspec": {
   "display_name": "Python 3",
   "language": "python",
   "name": "python3"
  },
  "language_info": {
   "codemirror_mode": {
    "name": "ipython",
    "version": 3
   },
   "file_extension": ".py",
   "mimetype": "text/x-python",
   "name": "python",
   "nbconvert_exporter": "python",
   "pygments_lexer": "ipython3",
   "version": "3.6.3"
  }
 },
 "nbformat": 4,
 "nbformat_minor": 2
}
