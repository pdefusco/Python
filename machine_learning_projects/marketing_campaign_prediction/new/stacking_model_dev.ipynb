{
 "cells": [
  {
   "cell_type": "markdown",
   "metadata": {},
   "source": [
    "### Stacking Model Development"
   ]
  },
  {
   "cell_type": "markdown",
   "metadata": {
    "collapsed": true
   },
   "source": [
    "- Objective: develop and compare stacking models using best candidates from Nested CV notebook \n",
    "- Methodology: mlxtend module"
   ]
  },
  {
   "cell_type": "markdown",
   "metadata": {},
   "source": [
    "We will use the augmented dataset (which does not include the duration field)"
   ]
  },
  {
   "cell_type": "code",
   "execution_count": 43,
   "metadata": {
    "collapsed": true
   },
   "outputs": [],
   "source": [
    "%matplotlib inline\n",
    "\n",
    "import pandas as pd\n",
    "import numpy as np\n",
    "import os\n",
    "import matplotlib as mpl\n",
    "import matplotlib.pyplot as plt\n",
    "import seaborn as sns\n",
    "from scipy import stats\n",
    "import math"
   ]
  },
  {
   "cell_type": "code",
   "execution_count": 44,
   "metadata": {
    "collapsed": true
   },
   "outputs": [],
   "source": [
    "from mlxtend.classifier import StackingCVClassifier\n",
    "from sklearn import model_selection\n",
    "from sklearn.linear_model import LogisticRegression\n",
    "from sklearn.tree import DecisionTreeClassifier\n",
    "from sklearn.neighbors import KNeighborsClassifier\n",
    "from sklearn.naive_bayes import BernoulliNB"
   ]
  },
  {
   "cell_type": "code",
   "execution_count": 45,
   "metadata": {
    "collapsed": true
   },
   "outputs": [],
   "source": [
    "from sklearn.model_selection import train_test_split, StratifiedKFold, GridSearchCV, cross_val_score\n",
    "from sklearn import preprocessing\n",
    "from sklearn.pipeline import make_pipeline\n",
    "from sklearn.metrics import confusion_matrix, precision_score, recall_score, average_precision_score\n",
    "from sklearn.metrics import accuracy_score, roc_curve, roc_auc_score, precision_recall_curve\n",
    "from sklearn.metrics import classification_report\n",
    "from sklearn.utils.fixes import signature\n",
    "pd.options.display.float_format = '{:.2f}'.format\n",
    "pd.set_option('display.float_format', lambda x: '%.3f' % x)\n",
    "\n",
    "RANDOM_SEED = 12"
   ]
  },
  {
   "cell_type": "code",
   "execution_count": 46,
   "metadata": {
    "collapsed": true
   },
   "outputs": [],
   "source": [
    "#Loading df1 after it has been augmented in iteration 1:\n",
    "df = pd.read_pickle('../data/pickle_files/df_pickle_w_time_stats')\n",
    "#Excluding the duration variable as it cannot be used in our baseline\n",
    "df = df.drop(columns = ['duration'])"
   ]
  },
  {
   "cell_type": "code",
   "execution_count": 47,
   "metadata": {},
   "outputs": [],
   "source": [
    "#Checking dtypes have loaded correctly (should return empty index)\n",
    "df.select_dtypes(exclude = ['float64', 'int64']).columns\n",
    "\n",
    "y = df['y']\n",
    "X = df.drop(columns=['y', 'Date'])"
   ]
  },
  {
   "cell_type": "code",
   "execution_count": 48,
   "metadata": {
    "collapsed": true
   },
   "outputs": [],
   "source": [
    "scaler = preprocessing.StandardScaler().fit(X)\n",
    "X_transformed = scaler.transform(X)"
   ]
  },
  {
   "cell_type": "code",
   "execution_count": 49,
   "metadata": {
    "collapsed": true
   },
   "outputs": [],
   "source": [
    "#X_train, X_test, y_train, y_test = train_test_split(pd.DataFrame(X_transformed), y, random_state = 4)"
   ]
  },
  {
   "cell_type": "code",
   "execution_count": 50,
   "metadata": {
    "collapsed": true
   },
   "outputs": [],
   "source": [
    "#will work with numpy arrays\n",
    "y = np.array(y)\n",
    "X = np.array(X_transformed)"
   ]
  },
  {
   "cell_type": "code",
   "execution_count": 51,
   "metadata": {
    "collapsed": true
   },
   "outputs": [],
   "source": [
    "X_train, X_test, y_train, y_test = train_test_split(X,y, random_state = 4)"
   ]
  },
  {
   "cell_type": "markdown",
   "metadata": {
    "collapsed": true
   },
   "source": [
    "Most Promising Models from Iteration 1 - Model Comparison Notebook:\n",
    "    - Decision Tree Classifier\n",
    "    - K Neighbors Classifier\n",
    "    - BernoulliNB\n",
    "    - Logistic Regression"
   ]
  },
  {
   "cell_type": "markdown",
   "metadata": {},
   "source": [
    "We will implement a stacking algorithm that uses all three and makes a prediction based on their predictions"
   ]
  },
  {
   "cell_type": "code",
   "execution_count": 52,
   "metadata": {
    "collapsed": true
   },
   "outputs": [],
   "source": [
    "def gridSearch_clf(clf, param_grid, X_train, y_train):\n",
    "    gs = GridSearchCV(clf, param_grid).fit(X_train, y_train)\n",
    "    print(\"Best Parameters\")\n",
    "    print(gs.best_params_)\n",
    "    return gs.best_estimator_"
   ]
  },
  {
   "cell_type": "code",
   "execution_count": 53,
   "metadata": {
    "collapsed": true
   },
   "outputs": [],
   "source": [
    "def gs_report(y_test, X_test, best_estimator):\n",
    "    print(classification_report(y_test, best_estimator.predict(X_test)))\n",
    "    print(\"Overall Accuracy Score: \")\n",
    "    print(accuracy_score(y_test, best_estimator.predict(X_test)))"
   ]
  },
  {
   "cell_type": "code",
   "execution_count": 54,
   "metadata": {
    "collapsed": true
   },
   "outputs": [],
   "source": [
    "clf1 = DecisionTreeClassifier()\n",
    "param_grid = {'max_depth':[5,7,9,11],\n",
    "              'min_samples_split':[900, 1000, 3000],\n",
    "              'max_features': [7,8,10,15],\n",
    "              'max_leaf_nodes':[10,20],\n",
    "              'class_weight': ['balanced']}"
   ]
  },
  {
   "cell_type": "code",
   "execution_count": 55,
   "metadata": {},
   "outputs": [
    {
     "name": "stdout",
     "output_type": "stream",
     "text": [
      "Best Parameters\n",
      "{'class_weight': 'balanced', 'max_depth': 7, 'max_features': 8, 'max_leaf_nodes': 10, 'min_samples_split': 900}\n",
      "Best Parameters\n",
      "{'class_weight': 'balanced', 'max_depth': 9, 'max_features': 15, 'max_leaf_nodes': 10, 'min_samples_split': 900}\n",
      "             precision    recall  f1-score   support\n",
      "\n",
      "          0       0.94      0.90      0.92      9131\n",
      "          1       0.42      0.57      0.48      1166\n",
      "\n",
      "avg / total       0.88      0.86      0.87     10297\n",
      "\n",
      "Overall Accuracy Score: \n",
      "0.8609303680683694\n"
     ]
    }
   ],
   "source": [
    "#Saving best estimator for clf1\n",
    "best_clf1 = gridSearch_clf(clf1, param_grid, X_train, y_train)\n",
    "gs_report(y_test,X_test, gridSearch_clf(clf1, param_grid, X_train, y_train))"
   ]
  },
  {
   "cell_type": "code",
   "execution_count": 56,
   "metadata": {
    "collapsed": true
   },
   "outputs": [],
   "source": [
    "clf2 = KNeighborsClassifier()"
   ]
  },
  {
   "cell_type": "code",
   "execution_count": 57,
   "metadata": {
    "collapsed": true
   },
   "outputs": [],
   "source": [
    "param_grid = {'n_neighbors':[9,15], #Higher neighbors have done better than lower\n",
    "              'algorithm' : ['auto', 'ball_tree'],\n",
    "              'weights': ['distance']}"
   ]
  },
  {
   "cell_type": "code",
   "execution_count": 58,
   "metadata": {},
   "outputs": [
    {
     "name": "stdout",
     "output_type": "stream",
     "text": [
      "Best Parameters\n",
      "{'algorithm': 'auto', 'n_neighbors': 15, 'weights': 'distance'}\n",
      "Best Parameters\n",
      "{'algorithm': 'auto', 'n_neighbors': 15, 'weights': 'distance'}\n",
      "             precision    recall  f1-score   support\n",
      "\n",
      "          0       0.91      0.97      0.94      9131\n",
      "          1       0.54      0.29      0.37      1166\n",
      "\n",
      "avg / total       0.87      0.89      0.88     10297\n",
      "\n",
      "Overall Accuracy Score: \n",
      "0.8912304554724677\n"
     ]
    }
   ],
   "source": [
    "#Saving Best Estimator for clf2\n",
    "best_clf2 = gridSearch_clf(clf2, param_grid, X_train, y_train)\n",
    "gs_report(y_test,X_test, gridSearch_clf(clf2, param_grid, X_train, y_train))"
   ]
  },
  {
   "cell_type": "code",
   "execution_count": 59,
   "metadata": {
    "collapsed": true
   },
   "outputs": [],
   "source": [
    "clf3 = BernoulliNB()\n",
    "param_grid = {'alpha':np.logspace(-2, 3, num=6, base=10)}"
   ]
  },
  {
   "cell_type": "code",
   "execution_count": 60,
   "metadata": {},
   "outputs": [
    {
     "name": "stdout",
     "output_type": "stream",
     "text": [
      "Best Parameters\n",
      "{'alpha': 1000.0}\n",
      "Best Parameters\n",
      "{'alpha': 1000.0}\n",
      "             precision    recall  f1-score   support\n",
      "\n",
      "          0       0.95      0.73      0.83      9131\n",
      "          1       0.25      0.69      0.36      1166\n",
      "\n",
      "avg / total       0.87      0.73      0.77     10297\n",
      "\n",
      "Overall Accuracy Score: \n",
      "0.7268136350393318\n"
     ]
    }
   ],
   "source": [
    "best_clf3 = gridSearch_clf(clf3, param_grid, X_train, y_train)\n",
    "gs_report(y_test,X_test, gridSearch_clf(clf3, param_grid, X_train, y_train))"
   ]
  },
  {
   "cell_type": "code",
   "execution_count": 61,
   "metadata": {
    "collapsed": true
   },
   "outputs": [],
   "source": [
    "def print_cv(clfs, clf_names):\n",
    "    \n",
    "    print('3-fold cross validation:\\n')\n",
    "\n",
    "    for clf, label in zip([best_clf1, best_clf2, best_clf3, sclf], \n",
    "                          ['Decision Tree Classifier', \n",
    "                           'K Neighbors Classifier', \n",
    "                           'Bernoulli Naive Bayes',\n",
    "                           'StackingClassifier']):\n",
    "\n",
    "        scores = model_selection.cross_val_score(clf, X, y, cv=3, scoring='accuracy')\n",
    "\n",
    "        print(\"Accuracy: %0.2f (+/- %0.2f) [%s]\" % (scores.mean(), scores.std(), label))"
   ]
  },
  {
   "cell_type": "code",
   "execution_count": 62,
   "metadata": {
    "collapsed": true
   },
   "outputs": [],
   "source": [
    "lr = LogisticRegression()"
   ]
  },
  {
   "cell_type": "code",
   "execution_count": 63,
   "metadata": {
    "collapsed": true
   },
   "outputs": [],
   "source": [
    "np.random.seed(3)\n",
    "sclf = StackingCVClassifier(classifiers=[best_clf1, best_clf2, best_clf3], \n",
    "                            meta_classifier=lr)"
   ]
  },
  {
   "cell_type": "code",
   "execution_count": 64,
   "metadata": {
    "collapsed": true
   },
   "outputs": [],
   "source": [
    "clfs = [best_clf1, best_clf2, best_clf3, sclf]\n",
    "clf_names = [i.__class__.__name__ for i in clfs]"
   ]
  },
  {
   "cell_type": "code",
   "execution_count": 65,
   "metadata": {},
   "outputs": [
    {
     "name": "stdout",
     "output_type": "stream",
     "text": [
      "3-fold cross validation:\n",
      "\n",
      "Accuracy: 0.40 (+/- 0.35) [Decision Tree Classifier]\n",
      "Accuracy: 0.45 (+/- 0.31) [K Neighbors Classifier]\n",
      "Accuracy: 0.52 (+/- 0.32) [Bernoulli Naive Bayes]\n",
      "Accuracy: 0.45 (+/- 0.31) [StackingClassifier]\n"
     ]
    }
   ],
   "source": [
    "print_cv(clfs, clf_names)"
   ]
  },
  {
   "cell_type": "code",
   "execution_count": 66,
   "metadata": {
    "collapsed": true
   },
   "outputs": [],
   "source": [
    "#Trying the same stacking classifier with class probabilities rather than class labels\n",
    "np.random.seed(3)\n",
    "sclf_proba = StackingCVClassifier(classifiers=[best_clf1, best_clf2, best_clf3],\n",
    "                            use_probas = True,\n",
    "                            meta_classifier=lr)"
   ]
  },
  {
   "cell_type": "code",
   "execution_count": 67,
   "metadata": {
    "collapsed": true
   },
   "outputs": [],
   "source": [
    "clfs = [best_clf1, best_clf2, best_clf3, sclf_proba]\n",
    "clf_names = [i.__class__.__name__ for i in clfs]"
   ]
  },
  {
   "cell_type": "code",
   "execution_count": 68,
   "metadata": {},
   "outputs": [
    {
     "name": "stdout",
     "output_type": "stream",
     "text": [
      "3-fold cross validation:\n",
      "\n",
      "Accuracy: 0.40 (+/- 0.35) [Decision Tree Classifier]\n",
      "Accuracy: 0.45 (+/- 0.31) [K Neighbors Classifier]\n",
      "Accuracy: 0.52 (+/- 0.32) [Bernoulli Naive Bayes]\n",
      "Accuracy: 0.45 (+/- 0.31) [StackingClassifier]\n"
     ]
    }
   ],
   "source": [
    "print_cv(clfs, clf_names)"
   ]
  },
  {
   "cell_type": "code",
   "execution_count": null,
   "metadata": {
    "collapsed": true
   },
   "outputs": [],
   "source": []
  },
  {
   "cell_type": "code",
   "execution_count": 69,
   "metadata": {},
   "outputs": [
    {
     "name": "stdout",
     "output_type": "stream",
     "text": [
      "0.423 +/- 0.14 {'bernoullinb__alpha': 100, 'decisiontreeclassifier__max_depth': 7, 'kneighborsclassifier__n_neighbors': 9, 'meta-logisticregression__C': 0.1}\n",
      "0.388 +/- 0.14 {'bernoullinb__alpha': 100, 'decisiontreeclassifier__max_depth': 7, 'kneighborsclassifier__n_neighbors': 11, 'meta-logisticregression__C': 0.1}\n",
      "0.484 +/- 0.17 {'bernoullinb__alpha': 100, 'decisiontreeclassifier__max_depth': 9, 'kneighborsclassifier__n_neighbors': 9, 'meta-logisticregression__C': 0.1}\n",
      "0.365 +/- 0.14 {'bernoullinb__alpha': 100, 'decisiontreeclassifier__max_depth': 9, 'kneighborsclassifier__n_neighbors': 11, 'meta-logisticregression__C': 0.1}\n",
      "0.394 +/- 0.14 {'bernoullinb__alpha': 1000, 'decisiontreeclassifier__max_depth': 7, 'kneighborsclassifier__n_neighbors': 9, 'meta-logisticregression__C': 0.1}\n",
      "0.397 +/- 0.14 {'bernoullinb__alpha': 1000, 'decisiontreeclassifier__max_depth': 7, 'kneighborsclassifier__n_neighbors': 11, 'meta-logisticregression__C': 0.1}\n",
      "0.372 +/- 0.14 {'bernoullinb__alpha': 1000, 'decisiontreeclassifier__max_depth': 9, 'kneighborsclassifier__n_neighbors': 9, 'meta-logisticregression__C': 0.1}\n",
      "0.377 +/- 0.14 {'bernoullinb__alpha': 1000, 'decisiontreeclassifier__max_depth': 9, 'kneighborsclassifier__n_neighbors': 11, 'meta-logisticregression__C': 0.1}\n",
      "Best parameters: {'bernoullinb__alpha': 100, 'decisiontreeclassifier__max_depth': 9, 'kneighborsclassifier__n_neighbors': 9, 'meta-logisticregression__C': 0.1}\n",
      "Accuracy: 0.48\n"
     ]
    }
   ],
   "source": [
    "# Initializing models\n",
    "\n",
    "clf1 = DecisionTreeClassifier()\n",
    "clf2 = KNeighborsClassifier()\n",
    "clf3 = BernoulliNB()\n",
    "lr = LogisticRegression()\n",
    "\n",
    "# The StackingCVClassifier uses scikit-learn's check_cv\n",
    "# internally, which doesn't support a random seed. Thus\n",
    "# NumPy's random seed need to be specified explicitely for\n",
    "# deterministic behavior\n",
    "np.random.seed(RANDOM_SEED)\n",
    "sclf = StackingCVClassifier(classifiers=[clf1, clf2, clf3], \n",
    "                            meta_classifier=lr)\n",
    "\n",
    "params = {'decisiontreeclassifier__max_depth':[7,9],\n",
    "          'kneighborsclassifier__n_neighbors': [9,11],\n",
    "          'bernoullinb__alpha': [100, 1000],\n",
    "          'meta-logisticregression__C': [0.1]}\n",
    "\n",
    "grid = GridSearchCV(estimator=sclf, \n",
    "                    param_grid=params, \n",
    "                    cv=5,\n",
    "                    refit=True)\n",
    "grid.fit(X, y)\n",
    "\n",
    "cv_keys = ('mean_test_score', 'std_test_score', 'params')\n",
    "\n",
    "for r, _ in enumerate(grid.cv_results_['mean_test_score']):\n",
    "    print(\"%0.3f +/- %0.2f %r\"\n",
    "          % (grid.cv_results_[cv_keys[0]][r],\n",
    "             grid.cv_results_[cv_keys[1]][r] / 2.0,\n",
    "             grid.cv_results_[cv_keys[2]][r]))\n",
    "\n",
    "print('Best parameters: %s' % grid.best_params_)\n",
    "print('Accuracy: %.2f' % grid.best_score_)"
   ]
  },
  {
   "cell_type": "code",
   "execution_count": null,
   "metadata": {
    "collapsed": true
   },
   "outputs": [],
   "source": []
  }
 ],
 "metadata": {
  "kernelspec": {
   "display_name": "Python 3",
   "language": "python",
   "name": "python3"
  },
  "language_info": {
   "codemirror_mode": {
    "name": "ipython",
    "version": 3
   },
   "file_extension": ".py",
   "mimetype": "text/x-python",
   "name": "python",
   "nbconvert_exporter": "python",
   "pygments_lexer": "ipython3",
   "version": "3.6.3"
  }
 },
 "nbformat": 4,
 "nbformat_minor": 2
}
