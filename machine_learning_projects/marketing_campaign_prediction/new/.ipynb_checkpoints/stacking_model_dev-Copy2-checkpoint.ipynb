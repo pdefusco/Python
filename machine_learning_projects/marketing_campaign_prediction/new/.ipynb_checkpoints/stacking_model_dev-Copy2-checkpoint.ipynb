{
 "cells": [
  {
   "cell_type": "markdown",
   "metadata": {},
   "source": [
    "### Stacking Model Development"
   ]
  },
  {
   "cell_type": "markdown",
   "metadata": {
    "collapsed": true
   },
   "source": [
    "- Objective: develop and compare stacking models using best candidates from Nested CV notebook \n",
    "- Methodology: mlxtend module"
   ]
  },
  {
   "cell_type": "markdown",
   "metadata": {},
   "source": [
    "We will use the augmented dataset (which does not include the duration field)"
   ]
  },
  {
   "cell_type": "code",
   "execution_count": 59,
   "metadata": {
    "collapsed": true
   },
   "outputs": [],
   "source": [
    "%matplotlib inline\n",
    "\n",
    "import pandas as pd\n",
    "import numpy as np\n",
    "import os\n",
    "import matplotlib as mpl\n",
    "import matplotlib.pyplot as plt\n",
    "import seaborn as sns\n",
    "from scipy import stats\n",
    "import math"
   ]
  },
  {
   "cell_type": "code",
   "execution_count": 60,
   "metadata": {
    "collapsed": true
   },
   "outputs": [],
   "source": [
    "from mlxtend.classifier import StackingCVClassifier\n",
    "from sklearn import model_selection\n",
    "from sklearn.linear_model import LogisticRegression\n",
    "from sklearn.tree import DecisionTreeClassifier\n",
    "from sklearn.neighbors import KNeighborsClassifier\n",
    "from sklearn.naive_bayes import BernoulliNB\n",
    "from sklearn.discriminant_analysis import LinearDiscriminantAnalysis"
   ]
  },
  {
   "cell_type": "code",
   "execution_count": 61,
   "metadata": {
    "collapsed": true
   },
   "outputs": [],
   "source": [
    "from sklearn.model_selection import train_test_split, StratifiedKFold, GridSearchCV, cross_val_score\n",
    "from sklearn import preprocessing\n",
    "from sklearn.pipeline import make_pipeline\n",
    "from sklearn.metrics import confusion_matrix, precision_score, recall_score, average_precision_score\n",
    "from sklearn.metrics import accuracy_score, roc_curve, roc_auc_score, precision_recall_curve\n",
    "from sklearn.metrics import classification_report\n",
    "from sklearn.utils.fixes import signature\n",
    "pd.options.display.float_format = '{:.2f}'.format\n",
    "pd.set_option('display.float_format', lambda x: '%.3f' % x)\n",
    "\n",
    "RANDOM_SEED = 12"
   ]
  },
  {
   "cell_type": "code",
   "execution_count": 62,
   "metadata": {
    "collapsed": true
   },
   "outputs": [],
   "source": [
    "#Loading df1 after it has been augmented in iteration 1:\n",
    "df = pd.read_pickle('../data/pickle_files/df_pickle_w_time_stats')\n",
    "#Excluding the duration variable as it cannot be used in our baseline\n",
    "df = df.drop(columns = ['duration'])"
   ]
  },
  {
   "cell_type": "code",
   "execution_count": 63,
   "metadata": {
    "collapsed": true
   },
   "outputs": [],
   "source": [
    "#Checking dtypes have loaded correctly (should return empty index)\n",
    "df.select_dtypes(exclude = ['float64', 'int64']).columns\n",
    "\n",
    "y = df['y']\n",
    "X = df.drop(columns=['y', 'Date'])"
   ]
  },
  {
   "cell_type": "code",
   "execution_count": 64,
   "metadata": {
    "collapsed": true
   },
   "outputs": [],
   "source": [
    "scaler = preprocessing.StandardScaler().fit(X)\n",
    "X_transformed = scaler.transform(X)"
   ]
  },
  {
   "cell_type": "code",
   "execution_count": 65,
   "metadata": {
    "collapsed": true
   },
   "outputs": [],
   "source": [
    "#X_train, X_test, y_train, y_test = train_test_split(pd.DataFrame(X_transformed), y, random_state = 4)"
   ]
  },
  {
   "cell_type": "code",
   "execution_count": 66,
   "metadata": {
    "collapsed": true
   },
   "outputs": [],
   "source": [
    "#will work with numpy arrays\n",
    "y = np.array(y)\n",
    "X = np.array(X_transformed)"
   ]
  },
  {
   "cell_type": "code",
   "execution_count": 67,
   "metadata": {
    "collapsed": true
   },
   "outputs": [],
   "source": [
    "X_train, X_test, y_train, y_test = train_test_split(X,y, random_state = 4)"
   ]
  },
  {
   "cell_type": "markdown",
   "metadata": {
    "collapsed": true
   },
   "source": [
    "Most Promising Models from Iteration 1 - Model Comparison Notebook:\n",
    "    - Linear Discriminant Analysis\n",
    "    - Logistic Regression\n",
    "    - BernoulliNB\n",
    "    - Logistic Regression"
   ]
  },
  {
   "cell_type": "markdown",
   "metadata": {},
   "source": [
    "We will implement a stacking algorithm that uses all three and makes a prediction based on their predictions"
   ]
  },
  {
   "cell_type": "code",
   "execution_count": 68,
   "metadata": {
    "collapsed": true
   },
   "outputs": [],
   "source": [
    "def gridSearch_clf(clf, param_grid, X_train, y_train):\n",
    "    gs = GridSearchCV(clf, param_grid).fit(X_train, y_train)\n",
    "    print(\"Best Parameters\")\n",
    "    print(gs.best_params_)\n",
    "    return gs.best_estimator_"
   ]
  },
  {
   "cell_type": "code",
   "execution_count": 69,
   "metadata": {
    "collapsed": true
   },
   "outputs": [],
   "source": [
    "def gs_report(y_test, X_test, best_estimator):\n",
    "    print(classification_report(y_test, best_estimator.predict(X_test)))\n",
    "    print(\"Overall Accuracy Score: \")\n",
    "    print(accuracy_score(y_test, best_estimator.predict(X_test)))"
   ]
  },
  {
   "cell_type": "code",
   "execution_count": 70,
   "metadata": {
    "collapsed": true
   },
   "outputs": [],
   "source": [
    "clf1 = LinearDiscriminantAnalysis()\n",
    "param_grid = {'solver':['lsqr'],\n",
    "              'n_components':[5,10],\n",
    "              'shrinkage': [0,.5]}"
   ]
  },
  {
   "cell_type": "code",
   "execution_count": 71,
   "metadata": {},
   "outputs": [
    {
     "name": "stdout",
     "output_type": "stream",
     "text": [
      "Best Parameters\n",
      "{'n_components': 5, 'shrinkage': 0, 'solver': 'lsqr'}\n",
      "             precision    recall  f1-score   support\n",
      "\n",
      "          0       0.93      0.95      0.94      9131\n",
      "          1       0.49      0.42      0.45      1166\n",
      "\n",
      "avg / total       0.88      0.89      0.88     10297\n",
      "\n",
      "Overall Accuracy Score: \n",
      "0.8857919782460911\n"
     ]
    }
   ],
   "source": [
    "#Saving best estimator\n",
    "best_clf1 = gridSearch_clf(clf1, param_grid, X_train, y_train)\n",
    "gs_report(y_test,X_test, best_clf1)"
   ]
  },
  {
   "cell_type": "code",
   "execution_count": 72,
   "metadata": {
    "collapsed": true
   },
   "outputs": [],
   "source": [
    "clf2 = LogisticRegression()"
   ]
  },
  {
   "cell_type": "code",
   "execution_count": 73,
   "metadata": {},
   "outputs": [
    {
     "data": {
      "text/plain": [
       "dict_keys(['C', 'class_weight', 'dual', 'fit_intercept', 'intercept_scaling', 'max_iter', 'multi_class', 'n_jobs', 'penalty', 'random_state', 'solver', 'tol', 'verbose', 'warm_start'])"
      ]
     },
     "execution_count": 73,
     "metadata": {},
     "output_type": "execute_result"
    }
   ],
   "source": [
    "clf2.get_params().keys()"
   ]
  },
  {
   "cell_type": "code",
   "execution_count": 76,
   "metadata": {
    "collapsed": true
   },
   "outputs": [],
   "source": [
    "param_grid = {'C':[0.1, 0.5 , 1], 'class_weight':['balanced']}"
   ]
  },
  {
   "cell_type": "code",
   "execution_count": 77,
   "metadata": {},
   "outputs": [
    {
     "name": "stdout",
     "output_type": "stream",
     "text": [
      "Best Parameters\n",
      "{'C': 1, 'class_weight': 'balanced'}\n",
      "             precision    recall  f1-score   support\n",
      "\n",
      "          0       0.94      0.85      0.90      9131\n",
      "          1       0.35      0.61      0.44      1166\n",
      "\n",
      "avg / total       0.88      0.83      0.85     10297\n",
      "\n",
      "Overall Accuracy Score: \n",
      "0.8267456540740021\n"
     ]
    }
   ],
   "source": [
    "#Saving Best Estimator\n",
    "best_clf2 = gridSearch_clf(clf2, param_grid, X_train, y_train)\n",
    "gs_report(y_test,X_test, best_clf2)"
   ]
  },
  {
   "cell_type": "code",
   "execution_count": 78,
   "metadata": {
    "collapsed": true
   },
   "outputs": [],
   "source": [
    "clf3 = BernoulliNB()\n",
    "param_grid = {'alpha':np.logspace(-2, 3, num=6, base=10)}"
   ]
  },
  {
   "cell_type": "code",
   "execution_count": 79,
   "metadata": {},
   "outputs": [
    {
     "name": "stdout",
     "output_type": "stream",
     "text": [
      "Best Parameters\n",
      "{'alpha': 1000.0}\n",
      "             precision    recall  f1-score   support\n",
      "\n",
      "          0       0.95      0.73      0.83      9131\n",
      "          1       0.25      0.69      0.36      1166\n",
      "\n",
      "avg / total       0.87      0.73      0.77     10297\n",
      "\n",
      "Overall Accuracy Score: \n",
      "0.7268136350393318\n"
     ]
    }
   ],
   "source": [
    "#Saving best estimator\n",
    "best_clf3 = gridSearch_clf(clf3, param_grid, X_train, y_train)\n",
    "gs_report(y_test,X_test, best_clf3)"
   ]
  },
  {
   "cell_type": "code",
   "execution_count": 80,
   "metadata": {
    "collapsed": true
   },
   "outputs": [],
   "source": [
    "def print_cv(clfs, clf_names):\n",
    "    \n",
    "    print('3-fold cross validation:\\n')\n",
    "\n",
    "    for clf, label in zip([best_clf1, best_clf2, best_clf3, sclf], \n",
    "                          ['Linear Discriminant Analysis', \n",
    "                           'Logistic Regression', \n",
    "                           'Bernoulli Naive Bayes',\n",
    "                           'StackingClassifier']):\n",
    "\n",
    "        scores = model_selection.cross_val_score(clf, X, y, cv=3, scoring='accuracy')\n",
    "\n",
    "        print(\"Accuracy: %0.2f (+/- %0.2f) [%s]\" % (scores.mean(), scores.std(), label))"
   ]
  },
  {
   "cell_type": "code",
   "execution_count": 81,
   "metadata": {
    "collapsed": true
   },
   "outputs": [],
   "source": [
    "lr = LogisticRegression()"
   ]
  },
  {
   "cell_type": "code",
   "execution_count": 82,
   "metadata": {
    "collapsed": true
   },
   "outputs": [],
   "source": [
    "np.random.seed(RANDOM_SEED)\n",
    "sclf = StackingCVClassifier(classifiers=[best_clf1, best_clf2, best_clf3], \n",
    "                            meta_classifier=lr)"
   ]
  },
  {
   "cell_type": "code",
   "execution_count": 83,
   "metadata": {
    "collapsed": true
   },
   "outputs": [],
   "source": [
    "clfs = [best_clf1, best_clf2, best_clf3, sclf]\n",
    "clf_names = [i.__class__.__name__ for i in clfs]"
   ]
  },
  {
   "cell_type": "code",
   "execution_count": 84,
   "metadata": {
    "scrolled": true
   },
   "outputs": [
    {
     "name": "stdout",
     "output_type": "stream",
     "text": [
      "3-fold cross validation:\n",
      "\n",
      "Accuracy: 0.42 (+/- 0.33) [Linear Discriminant Analysis]\n",
      "Accuracy: 0.36 (+/- 0.38) [Logistic Regression]\n",
      "Accuracy: 0.52 (+/- 0.32) [Bernoulli Naive Bayes]\n",
      "Accuracy: 0.42 (+/- 0.33) [StackingClassifier]\n"
     ]
    }
   ],
   "source": [
    "print_cv(clfs, clf_names)"
   ]
  },
  {
   "cell_type": "code",
   "execution_count": 85,
   "metadata": {
    "collapsed": true
   },
   "outputs": [],
   "source": [
    "param_grid = {'meta-logisticregression__C':np.logspace(-2, 3, num=6, base=10),\n",
    "             'meta-logisticregression__class_weight':['balanced']}"
   ]
  },
  {
   "cell_type": "code",
   "execution_count": 86,
   "metadata": {},
   "outputs": [
    {
     "name": "stdout",
     "output_type": "stream",
     "text": [
      "Best Parameters\n",
      "{'meta-logisticregression__C': 0.01, 'meta-logisticregression__class_weight': 'balanced'}\n",
      "             precision    recall  f1-score   support\n",
      "\n",
      "          0       0.94      0.85      0.90      9131\n",
      "          1       0.35      0.61      0.44      1166\n",
      "\n",
      "avg / total       0.88      0.83      0.85     10297\n",
      "\n",
      "Overall Accuracy Score: \n",
      "0.8267456540740021\n"
     ]
    }
   ],
   "source": [
    "#Saving Best Estimator\n",
    "best_sclf = gridSearch_clf(sclf, param_grid, X_train, y_train)\n",
    "gs_report(y_test,X_test, best_sclf)"
   ]
  },
  {
   "cell_type": "code",
   "execution_count": 87,
   "metadata": {
    "collapsed": true
   },
   "outputs": [],
   "source": [
    "import matplotlib.pyplot as plt\n",
    "from mlxtend.evaluate import confusion_matrix \n",
    "from mlxtend.plotting import plot_confusion_matrix"
   ]
  },
  {
   "cell_type": "code",
   "execution_count": 88,
   "metadata": {
    "collapsed": true
   },
   "outputs": [],
   "source": [
    "y_pred = best_sclf.predict(X_test)"
   ]
  },
  {
   "cell_type": "code",
   "execution_count": 89,
   "metadata": {
    "collapsed": true
   },
   "outputs": [],
   "source": [
    "cm = confusion_matrix(y_target=y_test, \n",
    "                      y_predicted=y_pred)"
   ]
  },
  {
   "cell_type": "code",
   "execution_count": 90,
   "metadata": {
    "collapsed": true
   },
   "outputs": [],
   "source": [
    "def make_conf_matrix(clf, X_test):\n",
    "    y_pred = clf.predict(X_test)\n",
    "    cmx = pd.DataFrame(confusion_matrix(y_test, y_pred), \n",
    "                   index = ['No', 'Yes'],\n",
    "                   columns = ['No', 'Yes'])\n",
    "    return cmx"
   ]
  },
  {
   "cell_type": "code",
   "execution_count": 91,
   "metadata": {
    "collapsed": true
   },
   "outputs": [],
   "source": [
    "def plot_conf_matrix(cmx):\n",
    "    cmap = mpl.colors.ListedColormap(['green'])\n",
    "    cmap1 = mpl.colors.ListedColormap(['red'])\n",
    "    mask1 = (cmx.isin([cmx.iloc[0,0],cmx.iloc[1,1]]))\n",
    "    \n",
    "    f, ax = plt.subplots(figsize = (9,6))\n",
    "    sns.heatmap(cmx, annot=True, fmt = 'g', cmap = cmap,\n",
    "            cbar = False, annot_kws={\"size\": 20},\n",
    "            ax=ax)\n",
    "    sns.heatmap(cmx, mask=mask1 , cmap=cmap1, cbar=False)\n",
    "\n",
    "    ax.set_ylabel('True label', fontsize = 15)\n",
    "    ax.set_xlabel('Predicted label', fontsize = 15)\n",
    "    ax.set_title(\"Confusion Matrix\", fontsize = 20)\n",
    "    plt.show()"
   ]
  },
  {
   "cell_type": "code",
   "execution_count": 92,
   "metadata": {
    "collapsed": true
   },
   "outputs": [],
   "source": [
    "cm = make_conf_matrix(best_sclf, X_test)"
   ]
  },
  {
   "cell_type": "code",
   "execution_count": 93,
   "metadata": {},
   "outputs": [
    {
     "data": {
      "image/png": "[encoded data removed]",
      "text/plain": [
       "<Figure size 648x432 with 1 Axes>"
      ]
     },
     "metadata": {
      "needs_background": "light"
     },
     "output_type": "display_data"
    }
   ],
   "source": [
    "plot_conf_matrix(cm)"
   ]
  },
  {
   "cell_type": "code",
   "execution_count": 94,
   "metadata": {
    "collapsed": true
   },
   "outputs": [],
   "source": [
    "from mlxtend.plotting import plot_learning_curves"
   ]
  },
  {
   "cell_type": "code",
   "execution_count": 95,
   "metadata": {
    "collapsed": true
   },
   "outputs": [],
   "source": [
    "X_t, X_v, y_t, y_v = train_test_split(X_train, y_train, random_state = 4)"
   ]
  },
  {
   "cell_type": "code",
   "execution_count": 96,
   "metadata": {},
   "outputs": [
    {
     "data": {
      "image/png": "[encoded data removed]",
      "text/plain": [
       "<Figure size 432x288 with 1 Axes>"
      ]
     },
     "metadata": {},
     "output_type": "display_data"
    }
   ],
   "source": [
    "errors = plot_learning_curves(X_t, y_t, X_v, y_v, best_sclf, \n",
    "                    scoring = 'accuracy', print_model=False)"
   ]
  },
  {
   "cell_type": "code",
   "execution_count": 97,
   "metadata": {
    "collapsed": true
   },
   "outputs": [],
   "source": [
    "from mlxtend.evaluate import lift_score"
   ]
  },
  {
   "cell_type": "code",
   "execution_count": 98,
   "metadata": {},
   "outputs": [
    {
     "name": "stdout",
     "output_type": "stream",
     "text": [
      "Lift Score for Stacking Classifier:\n"
     ]
    },
    {
     "data": {
      "text/plain": [
       "3.081508520957269"
      ]
     },
     "execution_count": 98,
     "metadata": {},
     "output_type": "execute_result"
    }
   ],
   "source": [
    "print(\"Lift Score for Stacking Classifier:\")\n",
    "lift_score(y_test, best_sclf.predict(X_test))"
   ]
  },
  {
   "cell_type": "code",
   "execution_count": 99,
   "metadata": {
    "collapsed": true
   },
   "outputs": [],
   "source": [
    "from sklearn.metrics import make_scorer\n",
    "lift_scorer = make_scorer(lift_score)"
   ]
  },
  {
   "cell_type": "code",
   "execution_count": 100,
   "metadata": {
    "collapsed": true
   },
   "outputs": [],
   "source": [
    "#Overriding method to grid search for custom lift scorer:\n",
    "def gridSearch_clf(clf, param_grid, X_train, y_train):\n",
    "    gs = GridSearchCV(clf, param_grid, scoring=lift_scorer).fit(X_train, y_train)\n",
    "    print(\"Best Parameters\")\n",
    "    print(gs.best_params_)\n",
    "    return gs.best_estimator_"
   ]
  },
  {
   "cell_type": "code",
   "execution_count": 101,
   "metadata": {},
   "outputs": [
    {
     "name": "stdout",
     "output_type": "stream",
     "text": [
      "Best Parameters\n",
      "{'meta-logisticregression__C': 0.01, 'meta-logisticregression__class_weight': 'balanced'}\n",
      "             precision    recall  f1-score   support\n",
      "\n",
      "          0       0.94      0.85      0.90      9131\n",
      "          1       0.35      0.61      0.44      1166\n",
      "\n",
      "avg / total       0.88      0.83      0.85     10297\n",
      "\n",
      "Overall Accuracy Score: \n",
      "0.8267456540740021\n"
     ]
    }
   ],
   "source": [
    "best_sclf = gridSearch_clf(sclf, param_grid, X_train, y_train)\n",
    "gs_report(y_test,X_test, best_sclf)"
   ]
  },
  {
   "cell_type": "markdown",
   "metadata": {},
   "source": [
    "Tuning for lift yields the same Best Parameter as before and thus the same model"
   ]
  },
  {
   "cell_type": "code",
   "execution_count": 102,
   "metadata": {},
   "outputs": [
    {
     "name": "stdout",
     "output_type": "stream",
     "text": [
      "Lift Score for Stacking Classifier:\n"
     ]
    },
    {
     "data": {
      "text/plain": [
       "3.075251392600431"
      ]
     },
     "execution_count": 102,
     "metadata": {},
     "output_type": "execute_result"
    }
   ],
   "source": [
    "y_pred = best_sclf.predict(X_test)\n",
    "print(\"Lift Score for Stacking Classifier:\")\n",
    "lift_score(y_test, best_sclf.predict(X_test))"
   ]
  },
  {
   "cell_type": "markdown",
   "metadata": {},
   "source": [
    "However, lift is slightly higher - this is probably due to randomness as the model is the same as before"
   ]
  },
  {
   "cell_type": "code",
   "execution_count": 103,
   "metadata": {
    "collapsed": true
   },
   "outputs": [],
   "source": [
    "recall_scorer = make_scorer(recall_score)"
   ]
  },
  {
   "cell_type": "code",
   "execution_count": 104,
   "metadata": {
    "collapsed": true
   },
   "outputs": [],
   "source": [
    "#Overriding method to grid search for recall scorer:\n",
    "def gridSearch_clf(clf, param_grid, X_train, y_train):\n",
    "    gs = GridSearchCV(clf, param_grid, scoring=recall_scorer).fit(X_train, y_train)\n",
    "    print(\"Best Parameters\")\n",
    "    print(gs.best_params_)\n",
    "    return gs.best_estimator_"
   ]
  },
  {
   "cell_type": "code",
   "execution_count": 105,
   "metadata": {},
   "outputs": [
    {
     "name": "stdout",
     "output_type": "stream",
     "text": [
      "Best Parameters\n",
      "{'meta-logisticregression__C': 0.01, 'meta-logisticregression__class_weight': 'balanced'}\n",
      "             precision    recall  f1-score   support\n",
      "\n",
      "          0       0.94      0.85      0.90      9131\n",
      "          1       0.35      0.61      0.44      1166\n",
      "\n",
      "avg / total       0.88      0.83      0.85     10297\n",
      "\n",
      "Overall Accuracy Score: \n",
      "0.8267456540740021\n"
     ]
    }
   ],
   "source": [
    "best_sclf = gridSearch_clf(sclf, param_grid, X_train, y_train)\n",
    "gs_report(y_test,X_test, best_sclf)"
   ]
  },
  {
   "cell_type": "code",
   "execution_count": null,
   "metadata": {
    "collapsed": true
   },
   "outputs": [],
   "source": []
  }
 ],
 "metadata": {
  "kernelspec": {
   "display_name": "Python 3",
   "language": "python",
   "name": "python3"
  },
  "language_info": {
   "codemirror_mode": {
    "name": "ipython",
    "version": 3
   },
   "file_extension": ".py",
   "mimetype": "text/x-python",
   "name": "python",
   "nbconvert_exporter": "python",
   "pygments_lexer": "ipython3",
   "version": "3.6.3"
  }
 },
 "nbformat": 4,
 "nbformat_minor": 2
}
