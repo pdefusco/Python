{
 "cells": [
  {
   "cell_type": "markdown",
   "metadata": {},
   "source": [
    "### Stacking Ensemble with Neural Networks with Duration LSTM "
   ]
  },
  {
   "cell_type": "markdown",
   "metadata": {},
   "source": [
    "- Objective: using deep learning, improve results obtained in stacking and other ensemble notebooks"
   ]
  },
  {
   "cell_type": "code",
   "execution_count": 282,
   "metadata": {
    "collapsed": true
   },
   "outputs": [],
   "source": [
    "%matplotlib inline\n",
    "\n",
    "import pandas as pd\n",
    "import numpy as np\n",
    "import os\n",
    "import matplotlib as mpl\n",
    "import matplotlib.pyplot as plt\n",
    "import seaborn as sns\n",
    "from scipy import stats\n",
    "import math\n",
    "from math import sqrt\n",
    "from numpy import dstack"
   ]
  },
  {
   "cell_type": "code",
   "execution_count": 283,
   "metadata": {},
   "outputs": [],
   "source": [
    "from keras.utils import to_categorical\n",
    "from keras.utils import plot_model\n",
    "from keras.models import Model\n",
    "from keras.layers import Input\n",
    "from keras.layers import Dense\n",
    "from keras.layers.merge import concatenate\n",
    "from numpy import argmax\n",
    "import tensorflow as tf"
   ]
  },
  {
   "cell_type": "code",
   "execution_count": 284,
   "metadata": {
    "collapsed": true
   },
   "outputs": [],
   "source": [
    "from keras.models import Sequential\n",
    "from keras.layers import Dense, Activation\n",
    "from sklearn.metrics import mean_squared_error\n",
    "from keras.layers import LSTM\n",
    "from sklearn.model_selection import train_test_split\n",
    "from sklearn import preprocessing\n",
    "from sklearn.metrics import accuracy_score, roc_curve, roc_auc_score, precision_recall_curve\n",
    "from sklearn.linear_model import LogisticRegression\n",
    "from keras.layers.merge import concatenate"
   ]
  },
  {
   "cell_type": "code",
   "execution_count": 285,
   "metadata": {
    "collapsed": true
   },
   "outputs": [],
   "source": [
    "from sklearn.metrics import accuracy_score\n",
    "from sklearn.linear_model import LogisticRegression\n",
    "from keras.models import load_model\n",
    "from keras.utils import to_categorical\n",
    "from numpy import dstack"
   ]
  },
  {
   "cell_type": "code",
   "execution_count": 286,
   "metadata": {},
   "outputs": [],
   "source": [
    "#Loading final df from feature engineering notebook\n",
    "final_df = pd.read_pickle('../../../../mkt_camp_data/final_df_pickle.pickle')\n",
    "#final_df = final_df.drop(columns = ['Date'])"
   ]
  },
  {
   "cell_type": "code",
   "execution_count": 287,
   "metadata": {},
   "outputs": [],
   "source": [
    "final_df = final_df[['Date','month', 'year', 'pdays', 'campaign', 'previous', 'emp.var.rate', 'age',\n",
    "           'duration-rolling-avg-10', 'previous-rolling-avg-10', 'old_prospect_y-rolling-avg-10', 'duration']]"
   ]
  },
  {
   "cell_type": "code",
   "execution_count": 288,
   "metadata": {
    "collapsed": true
   },
   "outputs": [],
   "source": [
    "def scale_noncat_only_lstm(X):\n",
    "    \n",
    "    indx = X.Date\n",
    "    X.drop(columns='Date', inplace=True)\n",
    "    \n",
    "    X_temp_noncat = X.select_dtypes(exclude=['int8'])\n",
    "    X_temp_noncat = X_temp_noncat.drop(X_temp_noncat.filter(regex=\"-categorical\").columns, axis=1)\n",
    "    \n",
    "    \n",
    "    scaler = preprocessing.StandardScaler().fit(X_temp_noncat)\n",
    "    X_transformed = pd.DataFrame(scaler.transform(X_temp_noncat), columns = X_temp_noncat.columns)\n",
    "    \n",
    "    X = X_transformed.merge(X, left_index=True, right_index=True, how='left', suffixes=('', '_rightdf'))\n",
    "    X = X.drop(X.filter(regex=\"_rightdf\").columns, axis=1)\n",
    "    \n",
    "    #X.index = indx\n",
    "    \n",
    "    return X, scaler"
   ]
  },
  {
   "cell_type": "code",
   "execution_count": 289,
   "metadata": {},
   "outputs": [
    {
     "name": "stderr",
     "output_type": "stream",
     "text": [
      "/Users/pauldefusco/anaconda2/envs/py36/lib/python3.6/site-packages/sklearn/preprocessing/data.py:625: DataConversionWarning: Data with input dtype int64, float64 were all converted to float64 by StandardScaler.\n",
      "  return self.partial_fit(X, y)\n",
      "/Users/pauldefusco/anaconda2/envs/py36/lib/python3.6/site-packages/ipykernel_launcher.py:11: DataConversionWarning: Data with input dtype int64, float64 were all converted to float64 by StandardScaler.\n",
      "  # This is added back by InteractiveShellApp.init_path()\n"
     ]
    }
   ],
   "source": [
    "final_df, scaler = scale_noncat_only_lstm(final_df)"
   ]
  },
  {
   "cell_type": "code",
   "execution_count": 290,
   "metadata": {
    "collapsed": true
   },
   "outputs": [],
   "source": [
    "def prep_df_lstm(df):\n",
    "    y = df['duration']\n",
    "    #X = df.drop(df.filter(regex='y').columns, axis=1)\n",
    "    y = y.shift(1)\n",
    "    #X = df.drop(columns='duration')\n",
    "    #Dropping features based on y\n",
    "    #X = X.drop(X.filter(regex=\"cust_acquisition_flag\").columns, axis=1) \n",
    "    #X = X.drop(X.filter(regex=\"cust_retention_flag\").columns, axis=1)\n",
    "    #X = X.drop(X.filter(regex=\"prospect_conversion_flag\").columns, axis=1)\n",
    "    \n",
    "    #Dropping linearly dependent features\n",
    "    \n",
    "    #X = df.drop(columns = ['new_lead'])\n",
    "\n",
    "    X = df.copy()\n",
    "     \n",
    "    y = y.iloc[1:]\n",
    "    X = X.iloc[1:]    \n",
    "    \n",
    "    names = list(df.columns)\n",
    "    return X, y, names"
   ]
  },
  {
   "cell_type": "code",
   "execution_count": 291,
   "metadata": {
    "collapsed": true
   },
   "outputs": [],
   "source": [
    "X,y,names = prep_df_lstm(final_df)"
   ]
  },
  {
   "cell_type": "code",
   "execution_count": 292,
   "metadata": {
    "collapsed": true
   },
   "outputs": [],
   "source": [
    "X_train, X_test, y_train, y_test = train_test_split(X, y, test_size = 0.20, random_state=4)"
   ]
  },
  {
   "cell_type": "code",
   "execution_count": 293,
   "metadata": {},
   "outputs": [],
   "source": [
    "y_test_cache = pd.DataFrame(y_test)"
   ]
  },
  {
   "cell_type": "code",
   "execution_count": 318,
   "metadata": {},
   "outputs": [
    {
     "data": {
      "text/html": [
       "<div>\n",
       "<style scoped>\n",
       "    .dataframe tbody tr th:only-of-type {\n",
       "        vertical-align: middle;\n",
       "    }\n",
       "\n",
       "    .dataframe tbody tr th {\n",
       "        vertical-align: top;\n",
       "    }\n",
       "\n",
       "    .dataframe thead th {\n",
       "        text-align: right;\n",
       "    }\n",
       "</style>\n",
       "<table border=\"1\" class=\"dataframe\">\n",
       "  <thead>\n",
       "    <tr style=\"text-align: right;\">\n",
       "      <th></th>\n",
       "      <th>duration</th>\n",
       "    </tr>\n",
       "  </thead>\n",
       "  <tbody>\n",
       "    <tr>\n",
       "      <th>1614</th>\n",
       "      <td>0.866702</td>\n",
       "    </tr>\n",
       "    <tr>\n",
       "      <th>38584</th>\n",
       "      <td>-0.317364</td>\n",
       "    </tr>\n",
       "    <tr>\n",
       "      <th>12511</th>\n",
       "      <td>-0.008813</td>\n",
       "    </tr>\n",
       "    <tr>\n",
       "      <th>10200</th>\n",
       "      <td>-0.375218</td>\n",
       "    </tr>\n",
       "    <tr>\n",
       "      <th>7338</th>\n",
       "      <td>-0.313508</td>\n",
       "    </tr>\n",
       "  </tbody>\n",
       "</table>\n",
       "</div>"
      ],
      "text/plain": [
       "       duration\n",
       "1614   0.866702\n",
       "38584 -0.317364\n",
       "12511 -0.008813\n",
       "10200 -0.375218\n",
       "7338  -0.313508"
      ]
     },
     "execution_count": 318,
     "metadata": {},
     "output_type": "execute_result"
    }
   ],
   "source": [
    "y_test_cache.head()"
   ]
  },
  {
   "cell_type": "code",
   "execution_count": 319,
   "metadata": {},
   "outputs": [
    {
     "data": {
      "text/plain": [
       "Int64Index([ 1614, 38584, 12511, 10200,  7338, 27083, 34486, 11895, 15135,\n",
       "            32139,\n",
       "            ...\n",
       "             6911,  7728, 13009, 37322, 22343,  4428, 40229, 18958, 35430,\n",
       "            18713],\n",
       "           dtype='int64', length=8238)"
      ]
     },
     "execution_count": 319,
     "metadata": {},
     "output_type": "execute_result"
    }
   ],
   "source": [
    "y_test_index"
   ]
  },
  {
   "cell_type": "code",
   "execution_count": 294,
   "metadata": {
    "collapsed": true
   },
   "outputs": [],
   "source": [
    "X_train_index, X_test_index, y_train_index, y_test_index = X_train.index, X_test.index, y_train.index, y_test.index"
   ]
  },
  {
   "cell_type": "code",
   "execution_count": 295,
   "metadata": {
    "collapsed": true
   },
   "outputs": [],
   "source": [
    "X_train, X_test, y_train, y_test = np.array(X_train), np.array(X_test), np.array(y_train), np.array(y_test)"
   ]
  },
  {
   "cell_type": "code",
   "execution_count": 296,
   "metadata": {},
   "outputs": [
    {
     "name": "stdout",
     "output_type": "stream",
     "text": [
      "(32949, 1, 11) (32949,) (8238, 1, 11) (8238,)\n"
     ]
    }
   ],
   "source": [
    "X_train = X_train.reshape((X_train.shape[0], 1, X_train.shape[1]))\n",
    "X_test = X_test.reshape((X_test.shape[0], 1, X_test.shape[1]))\n",
    "print(X_train.shape, y_train.shape, X_test.shape, y_test.shape)"
   ]
  },
  {
   "cell_type": "code",
   "execution_count": 297,
   "metadata": {},
   "outputs": [],
   "source": [
    "# design network\n",
    "model = Sequential()\n",
    "model.add(LSTM(70, input_shape=(X_train.shape[1], X_train.shape[2])))\n",
    "model.add(Dense(1))\n",
    "model.compile(loss='mse', optimizer='adam')"
   ]
  },
  {
   "cell_type": "code",
   "execution_count": 298,
   "metadata": {},
   "outputs": [
    {
     "name": "stdout",
     "output_type": "stream",
     "text": [
      "Train on 32949 samples, validate on 8238 samples\n",
      "Epoch 1/50\n",
      " - 10s - loss: 0.9752 - val_loss: 0.8695\n",
      "Epoch 2/50\n",
      " - 8s - loss: 0.9668 - val_loss: 0.8679\n",
      "Epoch 3/50\n",
      " - 9s - loss: 0.9657 - val_loss: 0.8674\n",
      "Epoch 4/50\n",
      " - 8s - loss: 0.9652 - val_loss: 0.8672\n",
      "Epoch 5/50\n",
      " - 8s - loss: 0.9649 - val_loss: 0.8671\n",
      "Epoch 6/50\n",
      " - 8s - loss: 0.9646 - val_loss: 0.8670\n",
      "Epoch 7/50\n",
      " - 8s - loss: 0.9644 - val_loss: 0.8669\n",
      "Epoch 8/50\n",
      " - 8s - loss: 0.9642 - val_loss: 0.8668\n",
      "Epoch 9/50\n",
      " - 9s - loss: 0.9640 - val_loss: 0.8668\n",
      "Epoch 10/50\n",
      " - 9s - loss: 0.9639 - val_loss: 0.8667\n",
      "Epoch 11/50\n",
      " - 10s - loss: 0.9637 - val_loss: 0.8667\n",
      "Epoch 12/50\n",
      " - 10s - loss: 0.9636 - val_loss: 0.8667\n",
      "Epoch 13/50\n",
      " - 10s - loss: 0.9634 - val_loss: 0.8667\n",
      "Epoch 14/50\n",
      " - 10s - loss: 0.9633 - val_loss: 0.8667\n",
      "Epoch 15/50\n",
      " - 10s - loss: 0.9632 - val_loss: 0.8667\n",
      "Epoch 16/50\n",
      " - 10s - loss: 0.9630 - val_loss: 0.8667\n",
      "Epoch 17/50\n",
      " - 10s - loss: 0.9629 - val_loss: 0.8667\n",
      "Epoch 18/50\n",
      " - 10s - loss: 0.9627 - val_loss: 0.8667\n",
      "Epoch 19/50\n",
      " - 10s - loss: 0.9626 - val_loss: 0.8667\n",
      "Epoch 20/50\n",
      " - 10s - loss: 0.9625 - val_loss: 0.8667\n",
      "Epoch 21/50\n",
      " - 10s - loss: 0.9624 - val_loss: 0.8667\n",
      "Epoch 22/50\n",
      " - 10s - loss: 0.9623 - val_loss: 0.8667\n",
      "Epoch 23/50\n",
      " - 10s - loss: 0.9621 - val_loss: 0.8668\n",
      "Epoch 24/50\n",
      " - 10s - loss: 0.9620 - val_loss: 0.8668\n",
      "Epoch 25/50\n",
      " - 10s - loss: 0.9619 - val_loss: 0.8668\n",
      "Epoch 26/50\n",
      " - 10s - loss: 0.9618 - val_loss: 0.8669\n",
      "Epoch 27/50\n",
      " - 10s - loss: 0.9616 - val_loss: 0.8669\n",
      "Epoch 28/50\n",
      " - 10s - loss: 0.9615 - val_loss: 0.8669\n",
      "Epoch 29/50\n",
      " - 10s - loss: 0.9614 - val_loss: 0.8670\n",
      "Epoch 30/50\n",
      " - 10s - loss: 0.9613 - val_loss: 0.8670\n",
      "Epoch 31/50\n",
      " - 10s - loss: 0.9611 - val_loss: 0.8671\n",
      "Epoch 32/50\n",
      " - 10s - loss: 0.9610 - val_loss: 0.8671\n",
      "Epoch 33/50\n",
      " - 10s - loss: 0.9609 - val_loss: 0.8672\n",
      "Epoch 34/50\n",
      " - 10s - loss: 0.9608 - val_loss: 0.8672\n",
      "Epoch 35/50\n",
      " - 10s - loss: 0.9606 - val_loss: 0.8673\n",
      "Epoch 36/50\n",
      " - 10s - loss: 0.9605 - val_loss: 0.8673\n",
      "Epoch 37/50\n",
      " - 10s - loss: 0.9604 - val_loss: 0.8674\n",
      "Epoch 38/50\n",
      " - 10s - loss: 0.9602 - val_loss: 0.8675\n",
      "Epoch 39/50\n",
      " - 10s - loss: 0.9601 - val_loss: 0.8675\n",
      "Epoch 40/50\n",
      " - 10s - loss: 0.9599 - val_loss: 0.8676\n",
      "Epoch 41/50\n",
      " - 10s - loss: 0.9598 - val_loss: 0.8677\n",
      "Epoch 42/50\n",
      " - 10s - loss: 0.9596 - val_loss: 0.8677\n",
      "Epoch 43/50\n",
      " - 10s - loss: 0.9595 - val_loss: 0.8678\n",
      "Epoch 44/50\n",
      " - 11s - loss: 0.9593 - val_loss: 0.8679\n",
      "Epoch 45/50\n",
      " - 11s - loss: 0.9591 - val_loss: 0.8679\n",
      "Epoch 46/50\n",
      " - 10s - loss: 0.9589 - val_loss: 0.8680\n",
      "Epoch 47/50\n",
      " - 10s - loss: 0.9588 - val_loss: 0.8680\n",
      "Epoch 48/50\n",
      " - 10s - loss: 0.9586 - val_loss: 0.8680\n",
      "Epoch 49/50\n",
      " - 10s - loss: 0.9584 - val_loss: 0.8680\n",
      "Epoch 50/50\n",
      " - 10s - loss: 0.9582 - val_loss: 0.8681\n"
     ]
    }
   ],
   "source": [
    "# fit network\n",
    "history = model.fit(X_train, y_train, epochs=50, \n",
    "                    batch_size=72, validation_data=(X_test, y_test), \n",
    "                    verbose=2, shuffle=False)"
   ]
  },
  {
   "cell_type": "code",
   "execution_count": 299,
   "metadata": {
    "collapsed": true
   },
   "outputs": [],
   "source": [
    "yhat = model.predict(X_test)\n",
    "X_test = X_test.reshape((X_test.shape[0], X_test.shape[2]))"
   ]
  },
  {
   "cell_type": "code",
   "execution_count": 300,
   "metadata": {
    "collapsed": true
   },
   "outputs": [],
   "source": [
    "from numpy import concatenate\n",
    "# invert scaling for forecast\n",
    "inv_yhat = concatenate((yhat, X_test[:, 1:]), axis=1)\n",
    "inv_yhat = scaler.inverse_transform(inv_yhat)\n",
    "inv_yhat = inv_yhat[:,0]"
   ]
  },
  {
   "cell_type": "code",
   "execution_count": 301,
   "metadata": {},
   "outputs": [],
   "source": [
    "# invert scaling for actual\n",
    "y_test = y_test.reshape((len(y_test), 1))\n",
    "inv_y = np.concatenate((y_test, X_test[:, 1:]), axis=1)\n",
    "inv_y = scaler.inverse_transform(inv_y)\n",
    "inv_y = inv_y[:,0]"
   ]
  },
  {
   "cell_type": "code",
   "execution_count": 302,
   "metadata": {},
   "outputs": [
    {
     "name": "stdout",
     "output_type": "stream",
     "text": [
      "Test RMSE: 1.901\n"
     ]
    }
   ],
   "source": [
    "# calculate RMSE\n",
    "rmse = sqrt(mean_squared_error(inv_y, inv_yhat))\n",
    "print('Test RMSE: %.3f' % rmse)"
   ]
  },
  {
   "cell_type": "code",
   "execution_count": 321,
   "metadata": {},
   "outputs": [
    {
     "data": {
      "text/plain": [
       "0.05392202190232431"
      ]
     },
     "execution_count": 321,
     "metadata": {},
     "output_type": "execute_result"
    }
   ],
   "source": [
    "from sklearn.metrics import r2_score\n",
    "r2_score(inv_y, inv_yhat)"
   ]
  },
  {
   "cell_type": "code",
   "execution_count": 306,
   "metadata": {},
   "outputs": [
    {
     "data": {
      "text/plain": [
       "1.2899678758646083"
      ]
     },
     "execution_count": 306,
     "metadata": {},
     "output_type": "execute_result"
    }
   ],
   "source": [
    "from sklearn.metrics import mean_absolute_error\n",
    "mean_absolute_error(inv_y, inv_yhat)"
   ]
  },
  {
   "cell_type": "code",
   "execution_count": 307,
   "metadata": {
    "collapsed": true
   },
   "outputs": [],
   "source": [
    "#Loading final df from feature engineering notebook\n",
    "final_df = pd.read_pickle('../../../../mkt_camp_data/final_df_pickle.pickle')\n",
    "#final_df = final_df.drop(columns = ['Date'])"
   ]
  },
  {
   "cell_type": "code",
   "execution_count": 308,
   "metadata": {
    "collapsed": true
   },
   "outputs": [],
   "source": [
    "def prep_df_sc(df):\n",
    "    y = df['y']\n",
    "    X = df.drop(df.filter(regex='y').columns, axis=1)\n",
    "    #y = y.shift(1)\n",
    "    #X = df.drop(columns='duration')\n",
    "    #Dropping features based on y\n",
    "    X = X.drop(X.filter(regex=\"cust_acquisition_flag\").columns, axis=1) \n",
    "    X = X.drop(X.filter(regex=\"cust_retention_flag\").columns, axis=1)\n",
    "    X = X.drop(X.filter(regex=\"prospect_conversion_flag\").columns, axis=1)\n",
    "   \n",
    "    #X = X.set_index('Date')\n",
    "\n",
    "    #Dropping linearly dependent features\n",
    "\n",
    "    \n",
    "    X = X.drop(columns = ['new_lead'])\n",
    "     \n",
    "    names = list(df.columns)\n",
    "    return X, y, names"
   ]
  },
  {
   "cell_type": "code",
   "execution_count": 309,
   "metadata": {},
   "outputs": [],
   "source": [
    "X,y,names = prep_df_sc(final_df)"
   ]
  },
  {
   "cell_type": "code",
   "execution_count": 310,
   "metadata": {},
   "outputs": [
    {
     "data": {
      "text/html": [
       "<div>\n",
       "<style scoped>\n",
       "    .dataframe tbody tr th:only-of-type {\n",
       "        vertical-align: middle;\n",
       "    }\n",
       "\n",
       "    .dataframe tbody tr th {\n",
       "        vertical-align: top;\n",
       "    }\n",
       "\n",
       "    .dataframe thead th {\n",
       "        text-align: right;\n",
       "    }\n",
       "</style>\n",
       "<table border=\"1\" class=\"dataframe\">\n",
       "  <thead>\n",
       "    <tr style=\"text-align: right;\">\n",
       "      <th></th>\n",
       "      <th>duration</th>\n",
       "    </tr>\n",
       "  </thead>\n",
       "  <tbody>\n",
       "    <tr>\n",
       "      <th>1614</th>\n",
       "      <td>0.866702</td>\n",
       "    </tr>\n",
       "    <tr>\n",
       "      <th>38584</th>\n",
       "      <td>-0.317364</td>\n",
       "    </tr>\n",
       "    <tr>\n",
       "      <th>12511</th>\n",
       "      <td>-0.008813</td>\n",
       "    </tr>\n",
       "    <tr>\n",
       "      <th>10200</th>\n",
       "      <td>-0.375218</td>\n",
       "    </tr>\n",
       "    <tr>\n",
       "      <th>7338</th>\n",
       "      <td>-0.313508</td>\n",
       "    </tr>\n",
       "  </tbody>\n",
       "</table>\n",
       "</div>"
      ],
      "text/plain": [
       "       duration\n",
       "1614   0.866702\n",
       "38584 -0.317364\n",
       "12511 -0.008813\n",
       "10200 -0.375218\n",
       "7338  -0.313508"
      ]
     },
     "execution_count": 310,
     "metadata": {},
     "output_type": "execute_result"
    }
   ],
   "source": [
    "y_test_cache.head()"
   ]
  },
  {
   "cell_type": "code",
   "execution_count": 316,
   "metadata": {},
   "outputs": [
    {
     "data": {
      "text/plain": [
       "array([ 8.3756712 ,  5.95971785,  6.58928224,  5.84167453,  5.9675874 ,\n",
       "        8.24975832,  6.91980354,  4.70845862,  6.48697803, 10.57914656])"
      ]
     },
     "execution_count": 316,
     "metadata": {},
     "output_type": "execute_result"
    }
   ],
   "source": [
    "inv_y[:10]"
   ]
  },
  {
   "cell_type": "code",
   "execution_count": 317,
   "metadata": {},
   "outputs": [
    {
     "data": {
      "text/plain": [
       "array([6.9023322 , 6.69167105, 6.6431977 , 6.33999158, 6.11782991,\n",
       "       7.12214674, 6.53842155, 5.50036469, 6.91756389, 6.88914872])"
      ]
     },
     "execution_count": 317,
     "metadata": {},
     "output_type": "execute_result"
    }
   ],
   "source": [
    "inv_yhat[:10]"
   ]
  },
  {
   "cell_type": "code",
   "execution_count": 79,
   "metadata": {},
   "outputs": [],
   "source": [
    "y_test_cache.reset_index(drop=0, inplace=True)"
   ]
  },
  {
   "cell_type": "code",
   "execution_count": 59,
   "metadata": {},
   "outputs": [],
   "source": [
    "y_test_cache.set_index(\"index\", inplace=True)"
   ]
  },
  {
   "cell_type": "code",
   "execution_count": 258,
   "metadata": {},
   "outputs": [],
   "source": [
    "df = pd.read_pickle('../../../../mkt_camp_data/df_pickle.pickle')\n",
    "#Excluding the duration variable as it cannot be used in our baseline\n",
    "#df = df.drop(columns = ['duration'])"
   ]
  },
  {
   "cell_type": "code",
   "execution_count": 259,
   "metadata": {},
   "outputs": [],
   "source": [
    "y_temp = pd.concat([y_test_cache, pd.Series(inv_yhat)], axis=1)\n",
    "y_temp = y_temp.drop(columns='duration')\n",
    "y_temp.set_index('index', inplace=True)\n",
    "y_temp.columns = ['duration_pred']"
   ]
  },
  {
   "cell_type": "code",
   "execution_count": 260,
   "metadata": {},
   "outputs": [],
   "source": [
    "X_new = y_temp.merge(df, how='inner', left_index=True, right_index=True)"
   ]
  },
  {
   "cell_type": "code",
   "execution_count": 261,
   "metadata": {
    "collapsed": true
   },
   "outputs": [],
   "source": [
    "from sklearn.neighbors import KNeighborsClassifier"
   ]
  },
  {
   "cell_type": "code",
   "execution_count": 262,
   "metadata": {},
   "outputs": [
    {
     "data": {
      "text/plain": [
       "(8238, 22)"
      ]
     },
     "execution_count": 262,
     "metadata": {},
     "output_type": "execute_result"
    }
   ],
   "source": [
    "X_new.shape"
   ]
  },
  {
   "cell_type": "code",
   "execution_count": 263,
   "metadata": {},
   "outputs": [
    {
     "data": {
      "text/plain": [
       "duration_pred     float64\n",
       "age                 int64\n",
       "duration            int64\n",
       "campaign            int64\n",
       "pdays               int64\n",
       "previous            int64\n",
       "emp.var.rate      float64\n",
       "cons.price.idx    float64\n",
       "cons.conf.idx     float64\n",
       "euribor3m         float64\n",
       "nr.employed       float64\n",
       "job                  int8\n",
       "marital              int8\n",
       "education            int8\n",
       "default              int8\n",
       "housing              int8\n",
       "loan                 int8\n",
       "contact              int8\n",
       "month                int8\n",
       "day_of_week          int8\n",
       "poutcome             int8\n",
       "y                    int8\n",
       "dtype: object"
      ]
     },
     "execution_count": 263,
     "metadata": {},
     "output_type": "execute_result"
    }
   ],
   "source": [
    "X_new.dtypes"
   ]
  },
  {
   "cell_type": "code",
   "execution_count": 264,
   "metadata": {
    "collapsed": true
   },
   "outputs": [],
   "source": [
    "def scale_noncat_only_lstm(X):\n",
    "    \n",
    "    #indx = X.Date\n",
    "    #X.drop(columns='Date', inplace=True)\n",
    "    \n",
    "    X_temp_noncat = X.select_dtypes(exclude=['int8'])\n",
    "    X_temp_noncat = X_temp_noncat.drop(X_temp_noncat.filter(regex=\"-categorical\").columns, axis=1)\n",
    "    \n",
    "    \n",
    "    scaler = preprocessing.StandardScaler().fit(X_temp_noncat)\n",
    "    X_transformed = pd.DataFrame(scaler.transform(X_temp_noncat), columns = X_temp_noncat.columns)\n",
    "    X_transformed.index  = X_temp_noncat.index\n",
    "\n",
    "    X = X_transformed.merge(X, left_index=True, right_index=True, how='inner', suffixes=('', '_rightdf'))\n",
    "    X = X.drop(X.filter(regex=\"_rightdf\").columns, axis=1)\n",
    "    \n",
    "    #X.index = indx\n",
    "    \n",
    "    return X, scaler"
   ]
  },
  {
   "cell_type": "code",
   "execution_count": 265,
   "metadata": {},
   "outputs": [
    {
     "name": "stderr",
     "output_type": "stream",
     "text": [
      "/Users/pauldefusco/anaconda2/envs/py36/lib/python3.6/site-packages/sklearn/preprocessing/data.py:625: DataConversionWarning: Data with input dtype int64, float64 were all converted to float64 by StandardScaler.\n",
      "  return self.partial_fit(X, y)\n",
      "/Users/pauldefusco/anaconda2/envs/py36/lib/python3.6/site-packages/ipykernel_launcher.py:11: DataConversionWarning: Data with input dtype int64, float64 were all converted to float64 by StandardScaler.\n",
      "  # This is added back by InteractiveShellApp.init_path()\n"
     ]
    }
   ],
   "source": [
    "X,scaler = scale_noncat_only_lstm(X_new)"
   ]
  },
  {
   "cell_type": "code",
   "execution_count": 266,
   "metadata": {},
   "outputs": [
    {
     "data": {
      "text/plain": [
       "Index(['duration_pred', 'age', 'duration', 'campaign', 'pdays', 'previous',\n",
       "       'emp.var.rate', 'cons.price.idx', 'cons.conf.idx', 'euribor3m',\n",
       "       'nr.employed', 'job', 'marital', 'education', 'default', 'housing',\n",
       "       'loan', 'contact', 'month', 'day_of_week', 'poutcome', 'y'],\n",
       "      dtype='object')"
      ]
     },
     "execution_count": 266,
     "metadata": {},
     "output_type": "execute_result"
    }
   ],
   "source": [
    "X.columns"
   ]
  },
  {
   "cell_type": "code",
   "execution_count": 267,
   "metadata": {},
   "outputs": [],
   "source": [
    "y = X['y']\n",
    "X = X.drop(columns='y')"
   ]
  },
  {
   "cell_type": "code",
   "execution_count": 269,
   "metadata": {
    "collapsed": true
   },
   "outputs": [],
   "source": [
    "X_train, X_test, y_train, y_test = train_test_split(X,y,random_state=4)"
   ]
  },
  {
   "cell_type": "code",
   "execution_count": 270,
   "metadata": {},
   "outputs": [
    {
     "name": "stdout",
     "output_type": "stream",
     "text": [
      "Accuracy Mean and Standard Deviation on Training Set: 0.897, 0.006\n"
     ]
    }
   ],
   "source": [
    "from sklearn.model_selection import cross_val_score\n",
    "clf = KNeighborsClassifier(n_neighbors = 20).fit(X_train, y_train)\n",
    "\n",
    "scores = cross_val_score(clf, X_train, y_train, cv=10, scoring='accuracy')\n",
    "\n",
    "print(\"Accuracy Mean and Standard Deviation on Training Set: %.3f, %.3f\" %(np.mean(scores), np.std(scores)))"
   ]
  },
  {
   "cell_type": "code",
   "execution_count": 271,
   "metadata": {},
   "outputs": [],
   "source": [
    "from sklearn.metrics import recall_score, precision_score, confusion_matrix\n",
    "def print_scores(clf, X_test):\n",
    "    y_pred = clf.predict(X_test)\n",
    "    print(\"Scores on Test Dataset\")\n",
    "    print(\"Accuracy Score: \", accuracy_score(y_test, y_pred))\n",
    "    print(\"Recall Score: \", recall_score(y_test, y_pred))\n",
    "    print(\"Precision Score: \", precision_score(y_test, y_pred))"
   ]
  },
  {
   "cell_type": "code",
   "execution_count": 272,
   "metadata": {},
   "outputs": [
    {
     "name": "stdout",
     "output_type": "stream",
     "text": [
      "Scores on Test Dataset\n",
      "Accuracy Score:  0.9014563106796116\n",
      "Recall Score:  0.25206611570247933\n",
      "Precision Score:  0.7349397590361446\n"
     ]
    }
   ],
   "source": [
    "print_scores(clf, X_test)"
   ]
  },
  {
   "cell_type": "code",
   "execution_count": 273,
   "metadata": {
    "collapsed": true
   },
   "outputs": [],
   "source": [
    "from yellowbrick.model_selection import LearningCurve\n",
    "from yellowbrick.model_selection import ValidationCurve"
   ]
  },
  {
   "cell_type": "code",
   "execution_count": 274,
   "metadata": {},
   "outputs": [
    {
     "data": {
      "image/png": "[encoded data removed]",
      "text/plain": [
       "<Figure size 576x396 with 1 Axes>"
      ]
     },
     "metadata": {},
     "output_type": "display_data"
    }
   ],
   "source": [
    "viz = ValidationCurve(\n",
    "    clf, param_name=\"n_neighbors\",\n",
    "    param_range=[1,10,20,50], cv=3, scoring=\"accuracy\"\n",
    ")\n",
    "# Fit and poof the visualizer\n",
    "viz.fit(X_train, y_train)\n",
    "viz.poof()"
   ]
  },
  {
   "cell_type": "code",
   "execution_count": 275,
   "metadata": {},
   "outputs": [
    {
     "data": {
      "image/png": "[encoded data removed]",
      "text/plain": [
       "<Figure size 576x396 with 1 Axes>"
      ]
     },
     "metadata": {},
     "output_type": "display_data"
    }
   ],
   "source": [
    "viz = LearningCurve(\n",
    "    clf, cv=3, train_sizes=np.linspace(0.3, 1.0, 6),\n",
    "    scoring='accuracy', n_jobs=-1)\n",
    "viz.fit(X_train, y_train)\n",
    "viz.poof()"
   ]
  },
  {
   "cell_type": "code",
   "execution_count": 276,
   "metadata": {
    "collapsed": true
   },
   "outputs": [],
   "source": [
    "def make_conf_matrix(clf, X_test):\n",
    "    y_pred = clf.predict(X_test)\n",
    "    cmx = pd.DataFrame(confusion_matrix(y_test, y_pred), \n",
    "                   index = ['No', 'Yes'],\n",
    "                   columns = ['No', 'Yes'])\n",
    "    return cmx"
   ]
  },
  {
   "cell_type": "code",
   "execution_count": 277,
   "metadata": {
    "collapsed": true
   },
   "outputs": [],
   "source": [
    "def plot_conf_matrix(cmx):\n",
    "    cmap = mpl.colors.ListedColormap(['green'])\n",
    "    cmap1 = mpl.colors.ListedColormap(['red'])\n",
    "    mask1 = (cmx.isin([cmx.iloc[0,0],cmx.iloc[1,1]]))\n",
    "    \n",
    "    f, ax = plt.subplots(figsize = (9,6))\n",
    "    sns.heatmap(cmx, annot=True, fmt = 'g', cmap = cmap,\n",
    "            cbar = False, annot_kws={\"size\": 20},\n",
    "            ax=ax)\n",
    "    sns.heatmap(cmx, mask=mask1 , cmap=cmap1, cbar=False)\n",
    "\n",
    "    ax.set_ylabel('True label', fontsize = 15)\n",
    "    ax.set_xlabel('Predicted label', fontsize = 15)\n",
    "    ax.set_title(\"Confusion Matrix\", fontsize = 20)\n",
    "    plt.show()"
   ]
  },
  {
   "cell_type": "code",
   "execution_count": 278,
   "metadata": {},
   "outputs": [
    {
     "data": {
      "image/png": "[encoded data removed]",
      "text/plain": [
       "<Figure size 648x432 with 1 Axes>"
      ]
     },
     "metadata": {},
     "output_type": "display_data"
    }
   ],
   "source": [
    "#Creating Confusion Matrix for Dirty Model:\n",
    "cmx = make_conf_matrix(clf, X_test)\n",
    "plot_conf_matrix(cmx)"
   ]
  },
  {
   "cell_type": "code",
   "execution_count": 248,
   "metadata": {},
   "outputs": [
    {
     "data": {
      "image/png": "[encoded data removed]",
      "text/plain": [
       "<Figure size 648x432 with 1 Axes>"
      ]
     },
     "metadata": {},
     "output_type": "display_data"
    }
   ],
   "source": [
    "#Creating Confusion Matrix for Dirty Model:\n",
    "cmx = make_conf_matrix(clf, X_test)\n",
    "plot_conf_matrix(cmx)"
   ]
  },
  {
   "cell_type": "code",
   "execution_count": 249,
   "metadata": {},
   "outputs": [
    {
     "data": {
      "image/png": "[encoded data removed]",
      "text/plain": [
       "<Figure size 576x360 with 1 Axes>"
      ]
     },
     "metadata": {},
     "output_type": "display_data"
    }
   ],
   "source": [
    "y_pred_proba = clf.predict_proba(X_test)[::,1]\n",
    "fpr, tpr, _ = roc_curve(y_test,  y_pred_proba)\n",
    "auc = roc_auc_score(y_test, y_pred_proba)\n",
    "\n",
    "plt.figure(figsize = (8,5))\n",
    "plt.plot(fpr,tpr,label=\"Test Set, auc=\"+str(auc))\n",
    "plt.title(\"Area Under the Curve\")\n",
    "plt.xlabel(\"False Positive Rate\")\n",
    "plt.ylabel(\"True Positive Rate\")\n",
    "plt.legend(loc=4)\n",
    "plt.show()"
   ]
  },
  {
   "cell_type": "code",
   "execution_count": 279,
   "metadata": {},
   "outputs": [
    {
     "data": {
      "image/png": "[encoded data removed]",
      "text/plain": [
       "<Figure size 576x360 with 1 Axes>"
      ]
     },
     "metadata": {},
     "output_type": "display_data"
    }
   ],
   "source": [
    "y_pred_proba = clf.predict_proba(X_test)[::,1]\n",
    "fpr, tpr, _ = roc_curve(y_test,  y_pred_proba)\n",
    "auc = roc_auc_score(y_test, y_pred_proba)\n",
    "\n",
    "plt.figure(figsize = (8,5))\n",
    "plt.plot(fpr,tpr,label=\"Test Set, auc=\"+str(auc))\n",
    "plt.title(\"Area Under the Curve\")\n",
    "plt.xlabel(\"False Positive Rate\")\n",
    "plt.ylabel(\"True Positive Rate\")\n",
    "plt.legend(loc=4)\n",
    "plt.show()"
   ]
  },
  {
   "cell_type": "code",
   "execution_count": 281,
   "metadata": {},
   "outputs": [
    {
     "data": {
      "text/html": [
       "<div>\n",
       "<style scoped>\n",
       "    .dataframe tbody tr th:only-of-type {\n",
       "        vertical-align: middle;\n",
       "    }\n",
       "\n",
       "    .dataframe tbody tr th {\n",
       "        vertical-align: top;\n",
       "    }\n",
       "\n",
       "    .dataframe thead th {\n",
       "        text-align: right;\n",
       "    }\n",
       "</style>\n",
       "<table border=\"1\" class=\"dataframe\">\n",
       "  <thead>\n",
       "    <tr style=\"text-align: right;\">\n",
       "      <th></th>\n",
       "      <th>duration</th>\n",
       "      <th>duration_pred</th>\n",
       "    </tr>\n",
       "  </thead>\n",
       "  <tbody>\n",
       "    <tr>\n",
       "      <th>1614</th>\n",
       "      <td>2.250982</td>\n",
       "      <td>1.049059</td>\n",
       "    </tr>\n",
       "    <tr>\n",
       "      <th>38584</th>\n",
       "      <td>0.436806</td>\n",
       "      <td>-0.352790</td>\n",
       "    </tr>\n",
       "    <tr>\n",
       "      <th>12511</th>\n",
       "      <td>-0.324842</td>\n",
       "      <td>0.098157</td>\n",
       "    </tr>\n",
       "    <tr>\n",
       "      <th>10200</th>\n",
       "      <td>-0.271259</td>\n",
       "      <td>-0.891623</td>\n",
       "    </tr>\n",
       "    <tr>\n",
       "      <th>7338</th>\n",
       "      <td>-0.420527</td>\n",
       "      <td>-1.282221</td>\n",
       "    </tr>\n",
       "    <tr>\n",
       "      <th>27083</th>\n",
       "      <td>1.037704</td>\n",
       "      <td>0.027850</td>\n",
       "    </tr>\n",
       "    <tr>\n",
       "      <th>34486</th>\n",
       "      <td>-0.225331</td>\n",
       "      <td>-0.216658</td>\n",
       "    </tr>\n",
       "    <tr>\n",
       "      <th>11895</th>\n",
       "      <td>0.892263</td>\n",
       "      <td>-1.482516</td>\n",
       "    </tr>\n",
       "    <tr>\n",
       "      <th>15135</th>\n",
       "      <td>0.808061</td>\n",
       "      <td>0.779308</td>\n",
       "    </tr>\n",
       "    <tr>\n",
       "      <th>32139</th>\n",
       "      <td>-0.631033</td>\n",
       "      <td>0.530937</td>\n",
       "    </tr>\n",
       "    <tr>\n",
       "      <th>33124</th>\n",
       "      <td>1.807006</td>\n",
       "      <td>-0.896626</td>\n",
       "    </tr>\n",
       "    <tr>\n",
       "      <th>24884</th>\n",
       "      <td>0.080859</td>\n",
       "      <td>0.097704</td>\n",
       "    </tr>\n",
       "    <tr>\n",
       "      <th>34516</th>\n",
       "      <td>-0.565967</td>\n",
       "      <td>0.516972</td>\n",
       "    </tr>\n",
       "    <tr>\n",
       "      <th>29579</th>\n",
       "      <td>-0.152610</td>\n",
       "      <td>-1.103436</td>\n",
       "    </tr>\n",
       "    <tr>\n",
       "      <th>26915</th>\n",
       "      <td>0.390877</td>\n",
       "      <td>0.094868</td>\n",
       "    </tr>\n",
       "    <tr>\n",
       "      <th>3556</th>\n",
       "      <td>0.103824</td>\n",
       "      <td>0.126835</td>\n",
       "    </tr>\n",
       "    <tr>\n",
       "      <th>36601</th>\n",
       "      <td>2.021340</td>\n",
       "      <td>0.252491</td>\n",
       "    </tr>\n",
       "    <tr>\n",
       "      <th>36107</th>\n",
       "      <td>-0.267432</td>\n",
       "      <td>-0.370813</td>\n",
       "    </tr>\n",
       "    <tr>\n",
       "      <th>41184</th>\n",
       "      <td>0.475079</td>\n",
       "      <td>1.285105</td>\n",
       "    </tr>\n",
       "    <tr>\n",
       "      <th>12632</th>\n",
       "      <td>0.306675</td>\n",
       "      <td>-0.825909</td>\n",
       "    </tr>\n",
       "    <tr>\n",
       "      <th>25731</th>\n",
       "      <td>2.078750</td>\n",
       "      <td>0.034980</td>\n",
       "    </tr>\n",
       "    <tr>\n",
       "      <th>18312</th>\n",
       "      <td>-0.167920</td>\n",
       "      <td>0.926263</td>\n",
       "    </tr>\n",
       "    <tr>\n",
       "      <th>3848</th>\n",
       "      <td>-0.087545</td>\n",
       "      <td>0.914136</td>\n",
       "    </tr>\n",
       "    <tr>\n",
       "      <th>10387</th>\n",
       "      <td>-0.699925</td>\n",
       "      <td>-0.935479</td>\n",
       "    </tr>\n",
       "    <tr>\n",
       "      <th>19630</th>\n",
       "      <td>-0.539176</td>\n",
       "      <td>-1.763221</td>\n",
       "    </tr>\n",
       "    <tr>\n",
       "      <th>18788</th>\n",
       "      <td>-0.841538</td>\n",
       "      <td>-0.493516</td>\n",
       "    </tr>\n",
       "    <tr>\n",
       "      <th>4988</th>\n",
       "      <td>-0.910431</td>\n",
       "      <td>1.776489</td>\n",
       "    </tr>\n",
       "    <tr>\n",
       "      <th>22740</th>\n",
       "      <td>-0.569795</td>\n",
       "      <td>-0.094786</td>\n",
       "    </tr>\n",
       "    <tr>\n",
       "      <th>35524</th>\n",
       "      <td>-0.041617</td>\n",
       "      <td>-0.671063</td>\n",
       "    </tr>\n",
       "    <tr>\n",
       "      <th>32523</th>\n",
       "      <td>1.125733</td>\n",
       "      <td>0.377262</td>\n",
       "    </tr>\n",
       "    <tr>\n",
       "      <th>...</th>\n",
       "      <td>...</td>\n",
       "      <td>...</td>\n",
       "    </tr>\n",
       "    <tr>\n",
       "      <th>17708</th>\n",
       "      <td>-0.386080</td>\n",
       "      <td>-1.524811</td>\n",
       "    </tr>\n",
       "    <tr>\n",
       "      <th>27825</th>\n",
       "      <td>-0.458801</td>\n",
       "      <td>-1.446993</td>\n",
       "    </tr>\n",
       "    <tr>\n",
       "      <th>25132</th>\n",
       "      <td>-0.489420</td>\n",
       "      <td>-1.093894</td>\n",
       "    </tr>\n",
       "    <tr>\n",
       "      <th>12154</th>\n",
       "      <td>-0.064581</td>\n",
       "      <td>-1.072238</td>\n",
       "    </tr>\n",
       "    <tr>\n",
       "      <th>29571</th>\n",
       "      <td>-0.910431</td>\n",
       "      <td>-0.848293</td>\n",
       "    </tr>\n",
       "    <tr>\n",
       "      <th>389</th>\n",
       "      <td>2.951392</td>\n",
       "      <td>1.678770</td>\n",
       "    </tr>\n",
       "    <tr>\n",
       "      <th>4485</th>\n",
       "      <td>1.496989</td>\n",
       "      <td>0.991888</td>\n",
       "    </tr>\n",
       "    <tr>\n",
       "      <th>25480</th>\n",
       "      <td>-0.508557</td>\n",
       "      <td>-0.210632</td>\n",
       "    </tr>\n",
       "    <tr>\n",
       "      <th>19014</th>\n",
       "      <td>-0.661652</td>\n",
       "      <td>1.495209</td>\n",
       "    </tr>\n",
       "    <tr>\n",
       "      <th>32990</th>\n",
       "      <td>-0.481765</td>\n",
       "      <td>0.597612</td>\n",
       "    </tr>\n",
       "    <tr>\n",
       "      <th>34113</th>\n",
       "      <td>-0.240640</td>\n",
       "      <td>-0.714919</td>\n",
       "    </tr>\n",
       "    <tr>\n",
       "      <th>21077</th>\n",
       "      <td>-0.745854</td>\n",
       "      <td>-0.609465</td>\n",
       "    </tr>\n",
       "    <tr>\n",
       "      <th>11224</th>\n",
       "      <td>-0.435836</td>\n",
       "      <td>-0.771400</td>\n",
       "    </tr>\n",
       "    <tr>\n",
       "      <th>5416</th>\n",
       "      <td>-0.608068</td>\n",
       "      <td>-0.711703</td>\n",
       "    </tr>\n",
       "    <tr>\n",
       "      <th>33768</th>\n",
       "      <td>0.119133</td>\n",
       "      <td>0.456550</td>\n",
       "    </tr>\n",
       "    <tr>\n",
       "      <th>37721</th>\n",
       "      <td>-0.389908</td>\n",
       "      <td>-1.134107</td>\n",
       "    </tr>\n",
       "    <tr>\n",
       "      <th>25246</th>\n",
       "      <td>-0.680789</td>\n",
       "      <td>0.688798</td>\n",
       "    </tr>\n",
       "    <tr>\n",
       "      <th>32243</th>\n",
       "      <td>-0.657824</td>\n",
       "      <td>-1.376411</td>\n",
       "    </tr>\n",
       "    <tr>\n",
       "      <th>36345</th>\n",
       "      <td>-0.753509</td>\n",
       "      <td>-0.110417</td>\n",
       "    </tr>\n",
       "    <tr>\n",
       "      <th>32526</th>\n",
       "      <td>0.111479</td>\n",
       "      <td>1.091806</td>\n",
       "    </tr>\n",
       "    <tr>\n",
       "      <th>6911</th>\n",
       "      <td>-0.206194</td>\n",
       "      <td>-1.527473</td>\n",
       "    </tr>\n",
       "    <tr>\n",
       "      <th>7728</th>\n",
       "      <td>0.674103</td>\n",
       "      <td>1.729105</td>\n",
       "    </tr>\n",
       "    <tr>\n",
       "      <th>13009</th>\n",
       "      <td>-0.416700</td>\n",
       "      <td>0.000749</td>\n",
       "    </tr>\n",
       "    <tr>\n",
       "      <th>37322</th>\n",
       "      <td>-0.389908</td>\n",
       "      <td>-0.689166</td>\n",
       "    </tr>\n",
       "    <tr>\n",
       "      <th>22343</th>\n",
       "      <td>-0.286569</td>\n",
       "      <td>1.878012</td>\n",
       "    </tr>\n",
       "    <tr>\n",
       "      <th>4428</th>\n",
       "      <td>1.056841</td>\n",
       "      <td>1.462767</td>\n",
       "    </tr>\n",
       "    <tr>\n",
       "      <th>40229</th>\n",
       "      <td>-0.462628</td>\n",
       "      <td>1.213177</td>\n",
       "    </tr>\n",
       "    <tr>\n",
       "      <th>18958</th>\n",
       "      <td>-0.493247</td>\n",
       "      <td>0.939345</td>\n",
       "    </tr>\n",
       "    <tr>\n",
       "      <th>35430</th>\n",
       "      <td>-0.558312</td>\n",
       "      <td>-1.302870</td>\n",
       "    </tr>\n",
       "    <tr>\n",
       "      <th>18713</th>\n",
       "      <td>-0.730544</td>\n",
       "      <td>-1.804308</td>\n",
       "    </tr>\n",
       "  </tbody>\n",
       "</table>\n",
       "<p>8238 rows × 2 columns</p>\n",
       "</div>"
      ],
      "text/plain": [
       "       duration  duration_pred\n",
       "1614   2.250982       1.049059\n",
       "38584  0.436806      -0.352790\n",
       "12511 -0.324842       0.098157\n",
       "10200 -0.271259      -0.891623\n",
       "7338  -0.420527      -1.282221\n",
       "27083  1.037704       0.027850\n",
       "34486 -0.225331      -0.216658\n",
       "11895  0.892263      -1.482516\n",
       "15135  0.808061       0.779308\n",
       "32139 -0.631033       0.530937\n",
       "33124  1.807006      -0.896626\n",
       "24884  0.080859       0.097704\n",
       "34516 -0.565967       0.516972\n",
       "29579 -0.152610      -1.103436\n",
       "26915  0.390877       0.094868\n",
       "3556   0.103824       0.126835\n",
       "36601  2.021340       0.252491\n",
       "36107 -0.267432      -0.370813\n",
       "41184  0.475079       1.285105\n",
       "12632  0.306675      -0.825909\n",
       "25731  2.078750       0.034980\n",
       "18312 -0.167920       0.926263\n",
       "3848  -0.087545       0.914136\n",
       "10387 -0.699925      -0.935479\n",
       "19630 -0.539176      -1.763221\n",
       "18788 -0.841538      -0.493516\n",
       "4988  -0.910431       1.776489\n",
       "22740 -0.569795      -0.094786\n",
       "35524 -0.041617      -0.671063\n",
       "32523  1.125733       0.377262\n",
       "...         ...            ...\n",
       "17708 -0.386080      -1.524811\n",
       "27825 -0.458801      -1.446993\n",
       "25132 -0.489420      -1.093894\n",
       "12154 -0.064581      -1.072238\n",
       "29571 -0.910431      -0.848293\n",
       "389    2.951392       1.678770\n",
       "4485   1.496989       0.991888\n",
       "25480 -0.508557      -0.210632\n",
       "19014 -0.661652       1.495209\n",
       "32990 -0.481765       0.597612\n",
       "34113 -0.240640      -0.714919\n",
       "21077 -0.745854      -0.609465\n",
       "11224 -0.435836      -0.771400\n",
       "5416  -0.608068      -0.711703\n",
       "33768  0.119133       0.456550\n",
       "37721 -0.389908      -1.134107\n",
       "25246 -0.680789       0.688798\n",
       "32243 -0.657824      -1.376411\n",
       "36345 -0.753509      -0.110417\n",
       "32526  0.111479       1.091806\n",
       "6911  -0.206194      -1.527473\n",
       "7728   0.674103       1.729105\n",
       "13009 -0.416700       0.000749\n",
       "37322 -0.389908      -0.689166\n",
       "22343 -0.286569       1.878012\n",
       "4428   1.056841       1.462767\n",
       "40229 -0.462628       1.213177\n",
       "18958 -0.493247       0.939345\n",
       "35430 -0.558312      -1.302870\n",
       "18713 -0.730544      -1.804308\n",
       "\n",
       "[8238 rows x 2 columns]"
      ]
     },
     "execution_count": 281,
     "metadata": {},
     "output_type": "execute_result"
    }
   ],
   "source": [
    "X[['duration', 'duration_pred']]"
   ]
  },
  {
   "cell_type": "code",
   "execution_count": 109,
   "metadata": {},
   "outputs": [
    {
     "name": "stderr",
     "output_type": "stream",
     "text": [
      "/Users/pauldefusco/anaconda2/envs/py36/lib/python3.6/site-packages/sklearn/preprocessing/data.py:625: DataConversionWarning: Data with input dtype int64, float64 were all converted to float64 by StandardScaler.\n",
      "  return self.partial_fit(X, y)\n",
      "/Users/pauldefusco/anaconda2/envs/py36/lib/python3.6/site-packages/ipykernel_launcher.py:10: DataConversionWarning: Data with input dtype int64, float64 were all converted to float64 by StandardScaler.\n",
      "  # Remove the CWD from sys.path while we load stuff.\n"
     ]
    }
   ],
   "source": [
    "def scale_noncat_only(df):\n",
    "    \n",
    "    y = df['y']\n",
    "    df = df.drop(columns='y')\n",
    "    \n",
    "    X_temp_noncat = df.select_dtypes(exclude=['int8'])\n",
    "    X_temp_cat = df.select_dtypes(include=['int8'])\n",
    "    \n",
    "    scaler = preprocessing.StandardScaler().fit(X_temp_noncat)\n",
    "    X_transformed = scaler.transform(X_temp_noncat)\n",
    "    \n",
    "    X = pd.concat([pd.DataFrame(X_transformed, columns = X_temp_noncat.columns), X_temp_cat], axis = 1)\n",
    "    #X = X.drop(columns=['y'])\n",
    "    \n",
    "    #will work with numpy arrays\n",
    "    y = np.array(y)\n",
    "    X = np.array(X)\n",
    "    \n",
    "    return X, y, scaler\n",
    "\n",
    "X, y, scaler = scale_noncat_only(X_new)"
   ]
  },
  {
   "cell_type": "code",
   "execution_count": null,
   "metadata": {
    "collapsed": true
   },
   "outputs": [],
   "source": []
  },
  {
   "cell_type": "code",
   "execution_count": 112,
   "metadata": {},
   "outputs": [
    {
     "ename": "ValueError",
     "evalue": "Found input variables with inconsistent numbers of samples: [14820, 8238]",
     "output_type": "error",
     "traceback": [
      "\u001b[0;31m---------------------------------------------------------------------------\u001b[0m",
      "\u001b[0;31mValueError\u001b[0m                                Traceback (most recent call last)",
      "\u001b[0;32m<ipython-input-112-462c3120ceb9>\u001b[0m in \u001b[0;36m<module>\u001b[0;34m()\u001b[0m\n\u001b[0;32m----> 1\u001b[0;31m \u001b[0mX_train\u001b[0m\u001b[0;34m,\u001b[0m \u001b[0mX_test\u001b[0m\u001b[0;34m,\u001b[0m \u001b[0my_train\u001b[0m\u001b[0;34m,\u001b[0m \u001b[0my_test\u001b[0m \u001b[0;34m=\u001b[0m \u001b[0mtrain_test_split\u001b[0m\u001b[0;34m(\u001b[0m\u001b[0mX\u001b[0m\u001b[0;34m,\u001b[0m \u001b[0my\u001b[0m\u001b[0;34m)\u001b[0m\u001b[0;34m\u001b[0m\u001b[0m\n\u001b[0m",
      "\u001b[0;32m~/anaconda2/envs/py36/lib/python3.6/site-packages/sklearn/model_selection/_split.py\u001b[0m in \u001b[0;36mtrain_test_split\u001b[0;34m(*arrays, **options)\u001b[0m\n\u001b[1;32m   2182\u001b[0m         \u001b[0mtest_size\u001b[0m \u001b[0;34m=\u001b[0m \u001b[0;36m0.25\u001b[0m\u001b[0;34m\u001b[0m\u001b[0m\n\u001b[1;32m   2183\u001b[0m \u001b[0;34m\u001b[0m\u001b[0m\n\u001b[0;32m-> 2184\u001b[0;31m     \u001b[0marrays\u001b[0m \u001b[0;34m=\u001b[0m \u001b[0mindexable\u001b[0m\u001b[0;34m(\u001b[0m\u001b[0;34m*\u001b[0m\u001b[0marrays\u001b[0m\u001b[0;34m)\u001b[0m\u001b[0;34m\u001b[0m\u001b[0m\n\u001b[0m\u001b[1;32m   2185\u001b[0m \u001b[0;34m\u001b[0m\u001b[0m\n\u001b[1;32m   2186\u001b[0m     \u001b[0;32mif\u001b[0m \u001b[0mshuffle\u001b[0m \u001b[0;32mis\u001b[0m \u001b[0;32mFalse\u001b[0m\u001b[0;34m:\u001b[0m\u001b[0;34m\u001b[0m\u001b[0m\n",
      "\u001b[0;32m~/anaconda2/envs/py36/lib/python3.6/site-packages/sklearn/utils/validation.py\u001b[0m in \u001b[0;36mindexable\u001b[0;34m(*iterables)\u001b[0m\n\u001b[1;32m    258\u001b[0m         \u001b[0;32melse\u001b[0m\u001b[0;34m:\u001b[0m\u001b[0;34m\u001b[0m\u001b[0m\n\u001b[1;32m    259\u001b[0m             \u001b[0mresult\u001b[0m\u001b[0;34m.\u001b[0m\u001b[0mappend\u001b[0m\u001b[0;34m(\u001b[0m\u001b[0mnp\u001b[0m\u001b[0;34m.\u001b[0m\u001b[0marray\u001b[0m\u001b[0;34m(\u001b[0m\u001b[0mX\u001b[0m\u001b[0;34m)\u001b[0m\u001b[0;34m)\u001b[0m\u001b[0;34m\u001b[0m\u001b[0m\n\u001b[0;32m--> 260\u001b[0;31m     \u001b[0mcheck_consistent_length\u001b[0m\u001b[0;34m(\u001b[0m\u001b[0;34m*\u001b[0m\u001b[0mresult\u001b[0m\u001b[0;34m)\u001b[0m\u001b[0;34m\u001b[0m\u001b[0m\n\u001b[0m\u001b[1;32m    261\u001b[0m     \u001b[0;32mreturn\u001b[0m \u001b[0mresult\u001b[0m\u001b[0;34m\u001b[0m\u001b[0m\n\u001b[1;32m    262\u001b[0m \u001b[0;34m\u001b[0m\u001b[0m\n",
      "\u001b[0;32m~/anaconda2/envs/py36/lib/python3.6/site-packages/sklearn/utils/validation.py\u001b[0m in \u001b[0;36mcheck_consistent_length\u001b[0;34m(*arrays)\u001b[0m\n\u001b[1;32m    233\u001b[0m     \u001b[0;32mif\u001b[0m \u001b[0mlen\u001b[0m\u001b[0;34m(\u001b[0m\u001b[0muniques\u001b[0m\u001b[0;34m)\u001b[0m \u001b[0;34m>\u001b[0m \u001b[0;36m1\u001b[0m\u001b[0;34m:\u001b[0m\u001b[0;34m\u001b[0m\u001b[0m\n\u001b[1;32m    234\u001b[0m         raise ValueError(\"Found input variables with inconsistent numbers of\"\n\u001b[0;32m--> 235\u001b[0;31m                          \" samples: %r\" % [int(l) for l in lengths])\n\u001b[0m\u001b[1;32m    236\u001b[0m \u001b[0;34m\u001b[0m\u001b[0m\n\u001b[1;32m    237\u001b[0m \u001b[0;34m\u001b[0m\u001b[0m\n",
      "\u001b[0;31mValueError\u001b[0m: Found input variables with inconsistent numbers of samples: [14820, 8238]"
     ]
    }
   ],
   "source": [
    "X_train, X_test, y_train, y_test = train_test_split(X, y)"
   ]
  },
  {
   "cell_type": "code",
   "execution_count": 107,
   "metadata": {},
   "outputs": [
    {
     "data": {
      "text/plain": [
       "(14820, 20)"
      ]
     },
     "execution_count": 107,
     "metadata": {},
     "output_type": "execute_result"
    }
   ],
   "source": [
    "X.shape"
   ]
  },
  {
   "cell_type": "code",
   "execution_count": null,
   "metadata": {
    "collapsed": true
   },
   "outputs": [],
   "source": []
  },
  {
   "cell_type": "code",
   "execution_count": null,
   "metadata": {
    "collapsed": true
   },
   "outputs": [],
   "source": []
  },
  {
   "cell_type": "code",
   "execution_count": null,
   "metadata": {
    "collapsed": true
   },
   "outputs": [],
   "source": []
  },
  {
   "cell_type": "code",
   "execution_count": null,
   "metadata": {
    "collapsed": true
   },
   "outputs": [],
   "source": []
  },
  {
   "cell_type": "code",
   "execution_count": null,
   "metadata": {
    "collapsed": true
   },
   "outputs": [],
   "source": []
  },
  {
   "cell_type": "code",
   "execution_count": null,
   "metadata": {
    "collapsed": true
   },
   "outputs": [],
   "source": []
  },
  {
   "cell_type": "code",
   "execution_count": 28,
   "metadata": {},
   "outputs": [],
   "source": [
    "def scale_noncat_only_sc(df):\n",
    "    X_temp_noncat = df.select_dtypes(exclude=['int8'])\n",
    "    X_temp_cat = df.select_dtypes(include=['int8'])\n",
    "    scaler = preprocessing.StandardScaler().fit(X_temp_noncat)\n",
    "    X_transformed = scaler.transform(X_temp_noncat)\n",
    "    X = pd.concat([pd.DataFrame(X_transformed, columns =X_temp_noncat.columns), X_temp_cat], axis = 1)\n",
    "    X = X.drop(columns=['y'])\n",
    "    y = df['y']\n",
    "    #will work with numpy arrays\n",
    "    y = np.array(y)\n",
    "    X = np.array(X)\n",
    "    \n",
    "    return X, y\n",
    "\n",
    "#X, y = scale_noncat_only(df)"
   ]
  },
  {
   "cell_type": "code",
   "execution_count": 8,
   "metadata": {},
   "outputs": [
    {
     "data": {
      "text/plain": [
       "Index([], dtype='object')"
      ]
     },
     "execution_count": 8,
     "metadata": {},
     "output_type": "execute_result"
    }
   ],
   "source": [
    "#Checking dtypes have loaded correctly (should return empty index)\n",
    "df.select_dtypes(exclude = ['float64', 'int64', 'int8']).columns"
   ]
  },
  {
   "cell_type": "code",
   "execution_count": 9,
   "metadata": {},
   "outputs": [
    {
     "data": {
      "text/plain": [
       "(41188, 72)"
      ]
     },
     "execution_count": 9,
     "metadata": {},
     "output_type": "execute_result"
    }
   ],
   "source": [
    "X.shape"
   ]
  },
  {
   "cell_type": "code",
   "execution_count": 10,
   "metadata": {
    "collapsed": true
   },
   "outputs": [],
   "source": [
    "X_train, X_test, y_train, y_test = train_test_split(X,y, random_state = 4)"
   ]
  },
  {
   "cell_type": "markdown",
   "metadata": {},
   "source": [
    "Starting with Neural Networks"
   ]
  },
  {
   "cell_type": "code",
   "execution_count": 11,
   "metadata": {
    "collapsed": true
   },
   "outputs": [],
   "source": [
    "def as_keras_metric(method):\n",
    "    import functools\n",
    "    from keras import backend as K\n",
    "    import tensorflow as tf\n",
    "    @functools.wraps(method)\n",
    "    def wrapper(self, args, **kwargs):\n",
    "        \"\"\" Wrapper for turning tensorflow metrics into keras metrics \"\"\"\n",
    "        value, update_op = method(self, args, **kwargs)\n",
    "        K.get_session().run(tf.local_variables_initializer())\n",
    "        with tf.control_dependencies([update_op]):\n",
    "            value = tf.identity(value)\n",
    "        return value\n",
    "    return wrapper"
   ]
  },
  {
   "cell_type": "code",
   "execution_count": 12,
   "metadata": {
    "collapsed": true
   },
   "outputs": [],
   "source": [
    "# fit model on dataset\n",
    "def fit_model(X_train, y_train):\n",
    "    # define model\n",
    "    model = Sequential()\n",
    "    model.add(Dense(6, input_dim=72, activation='relu'))\n",
    "    model.add(Dense(1, activation='sigmoid'))\n",
    "    model.compile(loss='binary_crossentropy', optimizer='adam', metrics=['accuracy'])\n",
    "    # fit model\n",
    "    model.fit(X_train, y_train, epochs=500, verbose=0)\n",
    "    return model"
   ]
  },
  {
   "cell_type": "code",
   "execution_count": 13,
   "metadata": {
    "collapsed": true
   },
   "outputs": [],
   "source": [
    "# load models from file\n",
    "def load_all_models(n_models):\n",
    "    all_models = list()\n",
    "    for i in range(n_models):\n",
    "        # define filename for this ensemble\n",
    "        filename = 'models/model_' + str(i + 1) + '.h5'\n",
    "        # load model from file\n",
    "        model = load_model(filename)\n",
    "        # add to list of members\n",
    "        all_models.append(model)\n",
    "        print('>loaded %s' % filename)\n",
    "    return all_models"
   ]
  },
  {
   "cell_type": "code",
   "execution_count": 14,
   "metadata": {},
   "outputs": [
    {
     "name": "stdout",
     "output_type": "stream",
     "text": [
      ">Saved models/model_1.h5\n",
      ">Saved models/model_2.h5\n",
      ">Saved models/model_3.h5\n",
      ">Saved models/model_4.h5\n",
      ">Saved models/model_5.h5\n"
     ]
    }
   ],
   "source": [
    "n_members = 5\n",
    "for i in range(n_members):\n",
    "    # fit model\n",
    "    model = fit_model(X_train, y_train)\n",
    "    # save model\n",
    "    filename = 'models/model_' + str(i + 1) + '.h5'\n",
    "    model.save(filename)\n",
    "    print('>Saved %s' % filename)"
   ]
  },
  {
   "cell_type": "code",
   "execution_count": 15,
   "metadata": {
    "collapsed": true
   },
   "outputs": [],
   "source": [
    "from keras.models import load_model"
   ]
  },
  {
   "cell_type": "code",
   "execution_count": 16,
   "metadata": {},
   "outputs": [
    {
     "name": "stdout",
     "output_type": "stream",
     "text": [
      ">loaded models/model_1.h5\n",
      ">loaded models/model_2.h5\n",
      ">loaded models/model_3.h5\n",
      ">loaded models/model_4.h5\n",
      ">loaded models/model_5.h5\n",
      "Loaded 5 models\n"
     ]
    }
   ],
   "source": [
    "# load all models\n",
    "n_members = 5\n",
    "members = load_all_models(n_members)\n",
    "print('Loaded %d models' % len(members))"
   ]
  },
  {
   "cell_type": "code",
   "execution_count": 17,
   "metadata": {},
   "outputs": [
    {
     "name": "stdout",
     "output_type": "stream",
     "text": [
      "Model Accuracy: 0.895\n",
      "Model Accuracy: 0.899\n",
      "Model Accuracy: 0.897\n",
      "Model Accuracy: 0.898\n",
      "Model Accuracy: 0.899\n"
     ]
    }
   ],
   "source": [
    "# evaluate standalone models on test dataset\n",
    "for model in members:\n",
    "    _, acc = model.evaluate(X_test, y_test, verbose=0)\n",
    "    print('Model Accuracy: %.3f' % acc)"
   ]
  },
  {
   "cell_type": "code",
   "execution_count": 18,
   "metadata": {
    "collapsed": true
   },
   "outputs": [],
   "source": [
    "# create stacked model input dataset as outputs from the ensemble\n",
    "def stacked_dataset(members, inputX):\n",
    "    stackX = None\n",
    "    for model in members:\n",
    "        # make prediction\n",
    "        yhat = model.predict(inputX, verbose=0)\n",
    "        # stack predictions into [rows, members, probabilities]\n",
    "        if stackX is None:\n",
    "            stackX = yhat\n",
    "        else:\n",
    "            stackX = dstack((stackX, yhat))\n",
    "    # flatten predictions to [rows, members x probabilities]\n",
    "    stackX = stackX.reshape((stackX.shape[0], stackX.shape[1]*stackX.shape[2]))\n",
    "    return stackX"
   ]
  },
  {
   "cell_type": "code",
   "execution_count": 19,
   "metadata": {
    "collapsed": true
   },
   "outputs": [],
   "source": [
    "# fit a model based on the outputs from the ensemble members\n",
    "def fit_stacked_model(members, inputX, inputy):\n",
    "    # create dataset using ensemble\n",
    "    stackedX = stacked_dataset(members, inputX)\n",
    "    # fit standalone model\n",
    "    model = LogisticRegression()\n",
    "    model.fit(stackedX, inputy)\n",
    "    return model"
   ]
  },
  {
   "cell_type": "code",
   "execution_count": 20,
   "metadata": {
    "collapsed": true
   },
   "outputs": [],
   "source": [
    "# make a prediction with the stacked model\n",
    "def stacked_prediction(members, model, inputX):\n",
    "    # create dataset using ensemble\n",
    "    stackedX = stacked_dataset(members, inputX)\n",
    "    # make a prediction\n",
    "    yhat = model.predict(stackedX)\n",
    "    return yhat"
   ]
  },
  {
   "cell_type": "code",
   "execution_count": 21,
   "metadata": {},
   "outputs": [
    {
     "name": "stdout",
     "output_type": "stream",
     "text": [
      ">loaded models/model_1.h5\n",
      ">loaded models/model_2.h5\n",
      ">loaded models/model_3.h5\n",
      ">loaded models/model_4.h5\n",
      ">loaded models/model_5.h5\n",
      "Loaded 5 models\n"
     ]
    }
   ],
   "source": [
    "# load all models\n",
    "n_members = 5\n",
    "members = load_all_models(n_members)\n",
    "print('Loaded %d models' % len(members))"
   ]
  },
  {
   "cell_type": "code",
   "execution_count": 22,
   "metadata": {},
   "outputs": [
    {
     "name": "stdout",
     "output_type": "stream",
     "text": [
      "Model Accuracy: 0.895\n",
      "Model Accuracy: 0.899\n",
      "Model Accuracy: 0.897\n",
      "Model Accuracy: 0.898\n",
      "Model Accuracy: 0.899\n"
     ]
    }
   ],
   "source": [
    "# evaluate standalone models on test dataset\n",
    "for model in members:\n",
    "    _, acc = model.evaluate(X_test, y_test, verbose=0)\n",
    "    print('Model Accuracy: %.3f' % acc)"
   ]
  },
  {
   "cell_type": "code",
   "execution_count": 23,
   "metadata": {},
   "outputs": [
    {
     "name": "stdout",
     "output_type": "stream",
     "text": [
      "Stacked Test Accuracy: 0.900\n"
     ]
    }
   ],
   "source": [
    "# fit stacked model using the ensemble\n",
    "model = fit_stacked_model(members, X_test, y_test)\n",
    "# evaluate model on test set\n",
    "yhat = stacked_prediction(members, model, X_test)\n",
    "acc = accuracy_score(y_test, yhat)\n",
    "print('Stacked Test Accuracy: %.3f' % acc)"
   ]
  },
  {
   "cell_type": "code",
   "execution_count": 24,
   "metadata": {
    "collapsed": true
   },
   "outputs": [],
   "source": [
    "from sklearn.datasets.samples_generator import make_blobs\n",
    "from sklearn.metrics import accuracy_score\n",
    "from keras.models import load_model\n",
    "from keras.utils import to_categorical\n",
    "from keras.utils import plot_model\n",
    "from keras.models import Model\n",
    "from keras.layers import Input\n",
    "from keras.layers import Dense\n",
    "from keras.layers.merge import concatenate\n",
    "from numpy import argmax"
   ]
  },
  {
   "cell_type": "code",
   "execution_count": 25,
   "metadata": {
    "collapsed": true
   },
   "outputs": [],
   "source": [
    "# define stacked model from multiple member input models\n",
    "def define_stacked_model(members):\n",
    "    # update all layers in all models to not be trainable\n",
    "    for i in range(len(members)):\n",
    "        model = members[i]\n",
    "        for layer in model.layers:\n",
    "            # make not trainable\n",
    "            layer.trainable = False\n",
    "            # rename to avoid 'unique layer name' issue\n",
    "            layer.name = 'ensemble_' + str(i+1) + '_' + layer.name\n",
    "    # define multi-headed input\n",
    "    ensemble_visible = [model.input for model in members]\n",
    "    # concatenate merge output from each model\n",
    "    ensemble_outputs = [model.output for model in members]\n",
    "    merge = concatenate(ensemble_outputs)\n",
    "    hidden = Dense(10, activation='relu')(merge)\n",
    "    output = Dense(1, activation='sigmoid')(hidden)\n",
    "    model = Model(inputs=ensemble_visible, outputs=output)\n",
    "    # plot graph of ensemble\n",
    "    plot_model(model, show_shapes=True, to_file='model_graph.png')\n",
    "    # compile\n",
    "    model.compile(loss='binary_crossentropy', optimizer='adam', metrics=['accuracy'])\n",
    "    return model"
   ]
  },
  {
   "cell_type": "code",
   "execution_count": 26,
   "metadata": {
    "collapsed": true
   },
   "outputs": [],
   "source": [
    "def fit_stacked_model(model, inputX, inputy):\n",
    "    # prepare input data\n",
    "    X = [inputX for _ in range(len(model.input))]\n",
    "    # fit model\n",
    "    model.fit(X, inputy, epochs=300, verbose=0)"
   ]
  },
  {
   "cell_type": "code",
   "execution_count": 27,
   "metadata": {
    "collapsed": true
   },
   "outputs": [],
   "source": [
    "# make a prediction with a stacked model\n",
    "def predict_stacked_model(model, inputX):\n",
    "    # prepare input data\n",
    "    X = [inputX for _ in range(len(model.input))]\n",
    "    # make prediction\n",
    "    return model.predict(X, verbose=0)"
   ]
  },
  {
   "cell_type": "code",
   "execution_count": 28,
   "metadata": {},
   "outputs": [
    {
     "name": "stdout",
     "output_type": "stream",
     "text": [
      ">loaded models/model_1.h5\n",
      ">loaded models/model_2.h5\n",
      ">loaded models/model_3.h5\n",
      ">loaded models/model_4.h5\n",
      ">loaded models/model_5.h5\n",
      "Loaded 5 models\n"
     ]
    }
   ],
   "source": [
    "# load all models\n",
    "n_members = 5\n",
    "members = load_all_models(n_members)\n",
    "print('Loaded %d models' % len(members))"
   ]
  },
  {
   "cell_type": "code",
   "execution_count": 29,
   "metadata": {},
   "outputs": [
    {
     "name": "stdout",
     "output_type": "stream",
     "text": [
      "Stacked Test Accuracy: 0.887\n"
     ]
    }
   ],
   "source": [
    "# define ensemble model\n",
    "stacked_model = define_stacked_model(members)\n",
    "# fit stacked model on test dataset\n",
    "fit_stacked_model(stacked_model, X_test, y_test)\n",
    "# make predictions and evaluate\n",
    "yhat = predict_stacked_model(stacked_model, X_test)\n",
    "yhat = argmax(yhat, axis=1)\n",
    "acc = accuracy_score(y_test, yhat)\n",
    "print('Stacked Test Accuracy: %.3f' % acc)"
   ]
  },
  {
   "cell_type": "code",
   "execution_count": 30,
   "metadata": {
    "collapsed": true
   },
   "outputs": [],
   "source": [
    "#WHen using, make sure you do y_pred - y_true i.e. invert order:\n",
    "#precision = as_keras_metric(tf.metrics.precision)\n",
    "#recall = as_keras_metric(tf.metrics.recall)"
   ]
  },
  {
   "cell_type": "code",
   "execution_count": null,
   "metadata": {
    "collapsed": true
   },
   "outputs": [],
   "source": []
  }
 ],
 "metadata": {
  "kernelspec": {
   "display_name": "Python 3",
   "language": "python",
   "name": "python3"
  },
  "language_info": {
   "codemirror_mode": {
    "name": "ipython",
    "version": 3
   },
   "file_extension": ".py",
   "mimetype": "text/x-python",
   "name": "python",
   "nbconvert_exporter": "python",
   "pygments_lexer": "ipython3",
   "version": "3.6.3"
  }
 },
 "nbformat": 4,
 "nbformat_minor": 2
}
