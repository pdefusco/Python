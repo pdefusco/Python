{
 "cells": [
  {
   "cell_type": "markdown",
   "metadata": {},
   "source": [
    "### Baseline Model"
   ]
  },
  {
   "cell_type": "markdown",
   "metadata": {},
   "source": [
    "Solution currently used by the bank"
   ]
  },
  {
   "cell_type": "markdown",
   "metadata": {
    "collapsed": true
   },
   "source": [
    "We test four binary classification DM models: logistic regression (LR), decision\n",
    "trees (DTs), neural network (NN) and support vector machine (SVM)."
   ]
  },
  {
   "cell_type": "code",
   "execution_count": 1,
   "metadata": {
    "collapsed": true
   },
   "outputs": [],
   "source": [
    "%matplotlib inline\n",
    "import pandas as pd\n",
    "import numpy as np\n",
    "from scipy.io import arff\n",
    "import matplotlib.pyplot as plt\n",
    "import seaborn as sns\n",
    "import matplotlib as mpl"
   ]
  },
  {
   "cell_type": "code",
   "execution_count": 2,
   "metadata": {},
   "outputs": [],
   "source": [
    "from sklearn.linear_model import LogisticRegression, LogisticRegressionCV\n",
    "from sklearn.model_selection import train_test_split, StratifiedKFold, GridSearchCV\n",
    "from sklearn import preprocessing\n",
    "from sklearn.metrics import confusion_matrix, precision_score, recall_score, average_precision_score\n",
    "from sklearn.metrics import accuracy_score, roc_curve, roc_auc_score, precision_recall_curve\n",
    "from sklearn.utils.fixes import signature\n",
    "pd.options.display.float_format = '{:.2f}'.format"
   ]
  },
  {
   "cell_type": "code",
   "execution_count": 3,
   "metadata": {
    "collapsed": true
   },
   "outputs": [],
   "source": [
    "#Loading df1:\n",
    "df = pd.read_pickle('data/pickle_files/df_pickle')"
   ]
  },
  {
   "cell_type": "code",
   "execution_count": 4,
   "metadata": {},
   "outputs": [],
   "source": [
    "#Checking dtypes have loaded correctly (should return empty index)\n",
    "df.select_dtypes(exclude = ['float64', 'int64']).columns\n",
    "\n",
    "y = df['y']\n",
    "X = df.drop(columns=['y'])"
   ]
  },
  {
   "cell_type": "code",
   "execution_count": 5,
   "metadata": {
    "collapsed": true
   },
   "outputs": [],
   "source": [
    "scaler = preprocessing.StandardScaler().fit(X)\n",
    "X_transformed = scaler.transform(X)"
   ]
  },
  {
   "cell_type": "code",
   "execution_count": 6,
   "metadata": {},
   "outputs": [],
   "source": [
    "X_train, X_test, y_train, y_test = train_test_split(pd.DataFrame(X_transformed), y, random_state = 4)"
   ]
  },
  {
   "cell_type": "code",
   "execution_count": 7,
   "metadata": {},
   "outputs": [
    {
     "name": "stdout",
     "output_type": "stream",
     "text": [
      "Logistic Regression with C = 0.000001\n",
      "Training Accuracy: 0.8528697678935613\n",
      "Test Accuracy: 0.8506361076041565\n",
      "----\n",
      "Logistic Regression with C = 0.000010\n",
      "Training Accuracy: 0.8829756239681461\n",
      "Test Accuracy: 0.8824900456443624\n",
      "----\n",
      "Logistic Regression with C = 0.000100\n",
      "Training Accuracy: 0.9053122268621929\n",
      "Test Accuracy: 0.9023987569194911\n",
      "----\n",
      "Logistic Regression with C = 0.100000\n",
      "Training Accuracy: 0.9118837201773979\n",
      "Test Accuracy: 0.9090026221229485\n",
      "----\n",
      "Logistic Regression with C = 1.000000\n",
      "Training Accuracy: 0.9112039105241009\n",
      "Test Accuracy: 0.9084199281344081\n",
      "----\n"
     ]
    }
   ],
   "source": [
    "for c in [0.000001, 0.00001, 0.0001, 0.1, 1]:\n",
    "    regressor = LogisticRegression(C = c)\n",
    "    regressor.fit(X_train, y_train)\n",
    "    print(\"Logistic Regression with C = {:.6f}\".format(c))\n",
    "    print(\"Training Accuracy: {}\".format(regressor.score(X_train, y_train)))\n",
    "    print(\"Test Accuracy: {}\".format(regressor.score(X_test, y_test)))\n",
    "    print(\"----\")"
   ]
  },
  {
   "cell_type": "markdown",
   "metadata": {},
   "source": [
    "Baseline model with Cross Validation"
   ]
  },
  {
   "cell_type": "code",
   "execution_count": 8,
   "metadata": {},
   "outputs": [
    {
     "name": "stdout",
     "output_type": "stream",
     "text": [
      "<bound method BaseEstimator.get_params of LogisticRegressionCV(Cs=[0.01, 0.1, 1, 10], class_weight=None, cv=5,\n",
      "           dual=False, fit_intercept=True, intercept_scaling=1.0,\n",
      "           max_iter=100, multi_class='ovr', n_jobs=1, penalty='l2',\n",
      "           random_state=0, refit=True, scoring='accuracy', solver='lbfgs',\n",
      "           tol=0.0001, verbose=0)>\n",
      "\n",
      "\n",
      "Prediction accuracy on Test Set: 0.909100\n"
     ]
    }
   ],
   "source": [
    "clf = LogisticRegressionCV(cv=5, Cs = [10**i for i in range(-2,2)],\n",
    "                           penalty = 'l2', random_state=0, \n",
    "                           scoring = 'accuracy',#,'precision','recall'],\n",
    "                           multi_class='ovr').fit(X_train, y_train)\n",
    "\n",
    "print(clf.get_params)\n",
    "print('\\n')\n",
    "print(\"Prediction %s on Test Set: %.6f\" %(clf.scoring, clf.score(X_test, y_test)))"
   ]
  },
  {
   "cell_type": "code",
   "execution_count": 9,
   "metadata": {},
   "outputs": [],
   "source": [
    "def print_scores(clf, X_test):\n",
    "    y_pred = clf.predict(X_test)\n",
    "    print(\"Scores on Test Dataset\")\n",
    "    print(\"Accuracy Score: \", accuracy_score(y_test, y_pred))\n",
    "    print(\"Recall Score: \", recall_score(y_test, y_pred))\n",
    "    print(\"Precision Score: \", precision_score(y_test, y_pred))"
   ]
  },
  {
   "cell_type": "markdown",
   "metadata": {},
   "source": [
    "##### Precision (also called positive predictive value) is the fraction of relevant instances among the retrieved instances. "
   ]
  },
  {
   "cell_type": "markdown",
   "metadata": {},
   "source": [
    "##### Recall (also known as sensitivity) is the fraction of relevant instances that have been retrieved over the total amount of relevant instances."
   ]
  },
  {
   "cell_type": "markdown",
   "metadata": {},
   "source": [
    "Precision can be seen as a measure of exactness or quality, whereas recall is a measure of completeness or quantity."
   ]
  },
  {
   "cell_type": "markdown",
   "metadata": {},
   "source": [
    "Precision = TP/(TP+FP) ---- Recall = TP/(TP+FN)"
   ]
  },
  {
   "cell_type": "code",
   "execution_count": 10,
   "metadata": {},
   "outputs": [
    {
     "name": "stdout",
     "output_type": "stream",
     "text": [
      "Scores on Test Dataset\n",
      "Accuracy Score:  0.9090997377877051\n",
      "Recall Score:  0.39708404802744424\n",
      "Precision Score:  0.6652298850574713\n"
     ]
    }
   ],
   "source": [
    "print_scores(clf, X_test)"
   ]
  },
  {
   "cell_type": "markdown",
   "metadata": {},
   "source": [
    "While accuracy seems high, we have quite a lot of false negatives i.e. labels we have misclassified as negative leading to a potential loss in revenue.\n",
    "We need higher recall, which might come at the cost of having lower precision but that's ok - we'd rather detect more real customers even if that means overguessing at times"
   ]
  },
  {
   "cell_type": "code",
   "execution_count": 11,
   "metadata": {},
   "outputs": [],
   "source": [
    "def make_conf_matrix(clf, X_test):\n",
    "    y_pred = clf.predict(X_test)\n",
    "    cmx = pd.DataFrame(confusion_matrix(y_test, y_pred), \n",
    "                   index = ['No', 'Yes'],\n",
    "                   columns = ['No', 'Yes'])\n",
    "    return cmx"
   ]
  },
  {
   "cell_type": "code",
   "execution_count": 12,
   "metadata": {
    "collapsed": true
   },
   "outputs": [],
   "source": [
    "def plot_conf_matrix(cmx):\n",
    "    cmap = mpl.colors.ListedColormap(['green'])\n",
    "    cmap1 = mpl.colors.ListedColormap(['red'])\n",
    "    mask1 = (cmx.isin([cmx.iloc[0,0],cmx.iloc[1,1]]))\n",
    "    \n",
    "    f, ax = plt.subplots(figsize = (9,6))\n",
    "    sns.heatmap(cmx, annot=True, fmt = 'g', cmap = cmap,\n",
    "            cbar = False, annot_kws={\"size\": 20},\n",
    "            ax=ax)\n",
    "    sns.heatmap(cmx, mask=mask1 , cmap=cmap1, cbar=False)\n",
    "\n",
    "    ax.set_ylabel('True label', fontsize = 15)\n",
    "    ax.set_xlabel('Predicted label', fontsize = 15)\n",
    "    ax.set_title(\"Confusion Matrix\", fontsize = 20)\n",
    "    plt.show()"
   ]
  },
  {
   "cell_type": "code",
   "execution_count": 13,
   "metadata": {},
   "outputs": [
    {
     "data": {
      "image/png": "[encoded data removed]",
      "text/plain": [
       "<Figure size 648x432 with 1 Axes>"
      ]
     },
     "metadata": {
      "needs_background": "light"
     },
     "output_type": "display_data"
    }
   ],
   "source": [
    "#Creating Confusion Matrix for Dirty Model:\n",
    "cmx = make_conf_matrix(clf, X_test)\n",
    "plot_conf_matrix(cmx)"
   ]
  },
  {
   "cell_type": "code",
   "execution_count": 14,
   "metadata": {},
   "outputs": [
    {
     "name": "stdout",
     "output_type": "stream",
     "text": [
      "8898 233 703 463\n"
     ]
    }
   ],
   "source": [
    "#Sanity Check - verifying results \n",
    "y_pred = clf.predict(X_test)\n",
    "tn, fp, fn, tp = confusion_matrix(y_test, y_pred).ravel()\n",
    "print(tn, fp, fn, tp)\n",
    "#the results are correct"
   ]
  },
  {
   "cell_type": "markdown",
   "metadata": {},
   "source": [
    "##### We have 703 false negatives. This means we have 703 customers we are misclassifying as uninterested! In comparison with only 463 customers who are correctly classified as interested for a total of 1166 True Positives (sum across second row). We must try to move customers from the bottom left to the bottom right quadrants"
   ]
  },
  {
   "cell_type": "markdown",
   "metadata": {},
   "source": [
    "We want to increase the True Positive Rate = True Positives / (True Positives + False Negatives)\n",
    "The true positive rate is known as Recall or Sensitivity."
   ]
  },
  {
   "cell_type": "code",
   "execution_count": 41,
   "metadata": {
    "collapsed": true
   },
   "outputs": [],
   "source": [
    "y_pred = clf.predict_proba(X_test)"
   ]
  },
  {
   "cell_type": "code",
   "execution_count": 42,
   "metadata": {},
   "outputs": [
    {
     "data": {
      "text/html": [
       "<div>\n",
       "<style scoped>\n",
       "    .dataframe tbody tr th:only-of-type {\n",
       "        vertical-align: middle;\n",
       "    }\n",
       "\n",
       "    .dataframe tbody tr th {\n",
       "        vertical-align: top;\n",
       "    }\n",
       "\n",
       "    .dataframe thead th {\n",
       "        text-align: right;\n",
       "    }\n",
       "</style>\n",
       "<table border=\"1\" class=\"dataframe\">\n",
       "  <thead>\n",
       "    <tr style=\"text-align: right;\">\n",
       "      <th></th>\n",
       "      <th>0</th>\n",
       "      <th>1</th>\n",
       "    </tr>\n",
       "  </thead>\n",
       "  <tbody>\n",
       "    <tr>\n",
       "      <th>0</th>\n",
       "      <td>0.78</td>\n",
       "      <td>0.22</td>\n",
       "    </tr>\n",
       "    <tr>\n",
       "      <th>1</th>\n",
       "      <td>0.92</td>\n",
       "      <td>0.08</td>\n",
       "    </tr>\n",
       "    <tr>\n",
       "      <th>2</th>\n",
       "      <td>0.97</td>\n",
       "      <td>0.03</td>\n",
       "    </tr>\n",
       "    <tr>\n",
       "      <th>3</th>\n",
       "      <td>0.97</td>\n",
       "      <td>0.03</td>\n",
       "    </tr>\n",
       "    <tr>\n",
       "      <th>4</th>\n",
       "      <td>0.93</td>\n",
       "      <td>0.07</td>\n",
       "    </tr>\n",
       "  </tbody>\n",
       "</table>\n",
       "</div>"
      ],
      "text/plain": [
       "     0    1\n",
       "0 0.78 0.22\n",
       "1 0.92 0.08\n",
       "2 0.97 0.03\n",
       "3 0.97 0.03\n",
       "4 0.93 0.07"
      ]
     },
     "execution_count": 42,
     "metadata": {},
     "output_type": "execute_result"
    }
   ],
   "source": [
    "pd.DataFrame(y_pred).head()"
   ]
  },
  {
   "cell_type": "code",
   "execution_count": 48,
   "metadata": {},
   "outputs": [],
   "source": [
    "#pd.DataFrame(y_pred).T.plot(kind='scatter')"
   ]
  },
  {
   "cell_type": "code",
   "execution_count": 18,
   "metadata": {},
   "outputs": [],
   "source": [
    "def plot_precision_recall(clf, X_test):\n",
    "    \n",
    "    y_pred = clf.predict(X_test)\n",
    "    \n",
    "    p = np.linspace(10,100,len(y_pred))\n",
    "    \n",
    "    precision, recall, thresholds = precision_recall_curve(y_test, probas_pred=p)\n",
    "    average_precision = average_precision_score(y_test, y_pred)\n",
    "    \n",
    "    print('Average precision-recall score: {0:0.2f}'.format(average_precision))\n",
    "    # In matplotlib < 1.5, plt.fill_between does not have a 'step' argument\n",
    "    step_kwargs = ({'step': 'post'}\n",
    "                   if 'step' in signature(plt.fill_between).parameters\n",
    "                   else {})\n",
    "    plt.step(recall, precision, color='b', alpha=0.2,\n",
    "             where='post')\n",
    "    plt.fill_between(recall, precision, alpha=0.2, color='b', **step_kwargs)\n",
    "\n",
    "    plt.xlabel('Recall')\n",
    "    plt.ylabel('Precision')\n",
    "    plt.ylim([0.0, 1.05])\n",
    "    plt.xlim([0.0, 1.0])\n",
    "    plt.title('2-class Precision-Recall curve: AP={0:0.2f}'.format(average_precision))"
   ]
  },
  {
   "cell_type": "code",
   "execution_count": 19,
   "metadata": {},
   "outputs": [
    {
     "name": "stdout",
     "output_type": "stream",
     "text": [
      "Average precision-recall score: 0.33\n"
     ]
    },
    {
     "data": {
      "image/png": "[encoded data removed]",
      "text/plain": [
       "<Figure size 432x288 with 1 Axes>"
      ]
     },
     "metadata": {
      "needs_background": "light"
     },
     "output_type": "display_data"
    }
   ],
   "source": [
    "plot_precision_recall(clf, X_test)"
   ]
  },
  {
   "cell_type": "markdown",
   "metadata": {},
   "source": [
    "AP summarizes a precision-recall curve as the weighted mean of precisions achieved at each threshold, with the increase in recall from the previous threshold used as the weight:\n",
    "where  and  are the precision and recall at the nth threshold"
   ]
  },
  {
   "cell_type": "code",
   "execution_count": 20,
   "metadata": {},
   "outputs": [
    {
     "data": {
      "image/png": "[encoded data removed]",
      "text/plain": [
       "<Figure size 576x360 with 1 Axes>"
      ]
     },
     "metadata": {
      "needs_background": "light"
     },
     "output_type": "display_data"
    }
   ],
   "source": [
    "y_pred_proba = clf.predict_proba(X_test)[::,1]\n",
    "fpr, tpr, _ = roc_curve(y_test,  y_pred_proba)\n",
    "auc = roc_auc_score(y_test, y_pred_proba)\n",
    "\n",
    "plt.figure(figsize = (8,5))\n",
    "plt.plot(fpr,tpr,label=\"Test Set, auc=\"+str(auc))\n",
    "plt.title(\"Area Under the Curve\")\n",
    "plt.xlabel(\"False Positive Rate\")\n",
    "plt.ylabel(\"True Positive Rate\")\n",
    "plt.legend(loc=4)\n",
    "plt.show()"
   ]
  },
  {
   "cell_type": "code",
   "execution_count": 21,
   "metadata": {
    "collapsed": true
   },
   "outputs": [],
   "source": [
    "#StratifiedKFold is a variation of k-fold which returns stratified folds: \n",
    "#each set contains approximately the same percentage \n",
    "#of samples of each target class as the complete set.\n",
    "skf = StratifiedKFold(n_splits=5, random_state = 0)\n",
    "scores = []"
   ]
  },
  {
   "cell_type": "code",
   "execution_count": 22,
   "metadata": {
    "collapsed": true
   },
   "outputs": [],
   "source": [
    "def print_foldscore(X, y, kfold_obj, c):\n",
    "    \n",
    "    for k, (train, test) in enumerate(kfold_obj.split(X, y)):\n",
    "        regressor = LogisticRegression(C = c, multi_class = 'ovr')\n",
    "        regressor.fit(X.iloc[train], y.iloc[train])\n",
    "        print(\"[fold {0}] C: {1:.5f}, score: {2:.5f}\".format(k, regressor.C, regressor.score(X.iloc[test], y.iloc[test])))\n",
    "        scores.append(regressor.score(X.iloc[test], y.iloc[test]))"
   ]
  },
  {
   "cell_type": "code",
   "execution_count": 23,
   "metadata": {},
   "outputs": [
    {
     "name": "stdout",
     "output_type": "stream",
     "text": [
      "Value for C parameter:  0.01\n",
      "[fold 0] C: 0.01000, score: 0.90986\n",
      "[fold 1] C: 0.01000, score: 0.91050\n",
      "[fold 2] C: 0.01000, score: 0.90919\n",
      "[fold 3] C: 0.01000, score: 0.91664\n",
      "[fold 4] C: 0.01000, score: 0.91015\n",
      "----\n",
      "Value for C parameter:  0.1\n",
      "[fold 0] C: 0.10000, score: 0.90986\n",
      "[fold 1] C: 0.10000, score: 0.91180\n",
      "[fold 2] C: 0.10000, score: 0.91065\n",
      "[fold 3] C: 0.10000, score: 0.91761\n",
      "[fold 4] C: 0.10000, score: 0.90886\n",
      "----\n",
      "Value for C parameter:  1\n",
      "[fold 0] C: 1.00000, score: 0.90856\n",
      "[fold 1] C: 1.00000, score: 0.91180\n",
      "[fold 2] C: 1.00000, score: 0.91049\n",
      "[fold 3] C: 1.00000, score: 0.91664\n",
      "[fold 4] C: 1.00000, score: 0.90821\n",
      "----\n",
      "Value for C parameter:  10\n",
      "[fold 0] C: 10.00000, score: 0.90808\n",
      "[fold 1] C: 10.00000, score: 0.91131\n",
      "[fold 2] C: 10.00000, score: 0.91049\n",
      "[fold 3] C: 10.00000, score: 0.91648\n",
      "[fold 4] C: 10.00000, score: 0.90821\n",
      "----\n"
     ]
    }
   ],
   "source": [
    "for c in [10**i for i in range(-2,2)]:\n",
    "    print(\"Value for C parameter: \", c)\n",
    "    print_foldscore(X_train, y_train, skf, c)\n",
    "    print(\"----\")"
   ]
  },
  {
   "cell_type": "markdown",
   "metadata": {},
   "source": [
    "#### Optimization Algorithms Available (Solver Parameter)\n",
    "\n",
    "- LIBLINEAR – A Library for Large Linear Classification\n",
    "https://www.csie.ntu.edu.tw/~cjlin/liblinear/\n",
    "\n",
    "- SAG – Mark Schmidt, Nicolas Le Roux, and Francis Bach\n",
    "Minimizing Finite Sums with the Stochastic Average Gradient https://hal.inria.fr/hal-00860051/document\n",
    "\n",
    "- SAGA – Defazio, A., Bach F. & Lacoste-Julien S. (2014).\n",
    "SAGA: A Fast Incremental Gradient Method With Support for Non-Strongly Convex Composite Objectives https://arxiv.org/abs/1407.0202\n",
    "\n",
    "- Hsiang-Fu Yu, Fang-Lan Huang, Chih-Jen Lin (2011). Dual coordinate descent\n",
    "methods for logistic regression and maximum entropy models. Machine Learning 85(1-2):41-75. https://www.csie.ntu.edu.tw/~cjlin/papers/maxent_dual.pdf"
   ]
  },
  {
   "cell_type": "code",
   "execution_count": 24,
   "metadata": {},
   "outputs": [
    {
     "data": {
      "text/plain": [
       "array([ 0.01,  0.1 ,  1.  , 10.  ])"
      ]
     },
     "execution_count": 24,
     "metadata": {},
     "output_type": "execute_result"
    }
   ],
   "source": [
    "np.array([10**i for i in range(-2,2)])"
   ]
  },
  {
   "cell_type": "code",
   "execution_count": 25,
   "metadata": {},
   "outputs": [],
   "source": [
    "def search_hyper(parameters, clf = LogisticRegressionCV(cv=5, random_state=0, Cs = np.logspace(-2, 3, num=6, base=10))):\n",
    "    gs = GridSearchCV(clf, parameters, cv = 3).fit(X_train, y_train)\n",
    "    print('Best Estimator: ')\n",
    "    gs.best_estimator_\n",
    "    print('----')\n",
    "    print_scores(gs.best_estimator_, X_test)\n",
    "    return gs.best_estimator_"
   ]
  },
  {
   "cell_type": "code",
   "execution_count": 26,
   "metadata": {
    "collapsed": true
   },
   "outputs": [],
   "source": [
    "parameters_1 = {'solver':['lbfgs', 'liblinear'],\n",
    "              'max_iter': [10,20,30], \n",
    "              'class_weight': ['balanced'],\n",
    "              'scoring':['accuracy']}"
   ]
  },
  {
   "cell_type": "code",
   "execution_count": 27,
   "metadata": {
    "collapsed": true
   },
   "outputs": [],
   "source": [
    "parameters_2 = {'solver':['lbfgs', 'liblinear'],\n",
    "              'max_iter': [10,20,30],\n",
    "              'class_weight': ['balanced'],\n",
    "              'scoring':['recall']}"
   ]
  },
  {
   "cell_type": "code",
   "execution_count": 28,
   "metadata": {
    "collapsed": true
   },
   "outputs": [],
   "source": [
    "parameters_3 = {'solver':['lbfgs', 'liblinear'],\n",
    "              'max_iter': [10,20,30],\n",
    "              'class_weight': ['None'],\n",
    "              'scoring':['recall']}"
   ]
  },
  {
   "cell_type": "code",
   "execution_count": 29,
   "metadata": {
    "collapsed": true
   },
   "outputs": [],
   "source": [
    "parameters_4 = {'solver':['lbfgs', 'liblinear'],\n",
    "              'max_iter': [60,70,80],\n",
    "              'class_weight': ['None'],\n",
    "              'scoring':['recall']}"
   ]
  },
  {
   "cell_type": "code",
   "execution_count": 30,
   "metadata": {},
   "outputs": [
    {
     "name": "stdout",
     "output_type": "stream",
     "text": [
      "Best Estimator: \n",
      "----\n",
      "Scores on Test Dataset\n",
      "Accuracy Score:  0.8552976595124794\n",
      "Recall Score:  0.8704974271012007\n",
      "Precision Score:  0.4311809685641461\n"
     ]
    },
    {
     "data": {
      "text/plain": [
       "LogisticRegressionCV(Cs=array([1.e-02, 1.e-01, 1.e+00, 1.e+01, 1.e+02, 1.e+03]),\n",
       "           class_weight='balanced', cv=5, dual=False, fit_intercept=True,\n",
       "           intercept_scaling=1.0, max_iter=10, multi_class='ovr', n_jobs=1,\n",
       "           penalty='l2', random_state=0, refit=True, scoring='accuracy',\n",
       "           solver='lbfgs', tol=0.0001, verbose=0)"
      ]
     },
     "execution_count": 30,
     "metadata": {},
     "output_type": "execute_result"
    }
   ],
   "source": [
    "search_hyper(parameters_1)"
   ]
  },
  {
   "cell_type": "code",
   "execution_count": 31,
   "metadata": {},
   "outputs": [
    {
     "name": "stdout",
     "output_type": "stream",
     "text": [
      "Best Estimator: \n",
      "----\n",
      "Scores on Test Dataset\n",
      "Accuracy Score:  0.8552976595124794\n",
      "Recall Score:  0.8704974271012007\n",
      "Precision Score:  0.4311809685641461\n"
     ]
    },
    {
     "data": {
      "text/plain": [
       "LogisticRegressionCV(Cs=array([1.e-02, 1.e-01, 1.e+00, 1.e+01, 1.e+02, 1.e+03]),\n",
       "           class_weight='balanced', cv=5, dual=False, fit_intercept=True,\n",
       "           intercept_scaling=1.0, max_iter=10, multi_class='ovr', n_jobs=1,\n",
       "           penalty='l2', random_state=0, refit=True, scoring='recall',\n",
       "           solver='lbfgs', tol=0.0001, verbose=0)"
      ]
     },
     "execution_count": 31,
     "metadata": {},
     "output_type": "execute_result"
    }
   ],
   "source": [
    "search_hyper(parameters_2)"
   ]
  },
  {
   "cell_type": "code",
   "execution_count": 32,
   "metadata": {},
   "outputs": [
    {
     "name": "stdout",
     "output_type": "stream",
     "text": [
      "Best Estimator: \n",
      "----\n",
      "Scores on Test Dataset\n",
      "Accuracy Score:  0.9089055064581917\n",
      "Recall Score:  0.39622641509433965\n",
      "Precision Score:  0.6637931034482759\n"
     ]
    },
    {
     "data": {
      "text/plain": [
       "LogisticRegressionCV(Cs=array([1.e-02, 1.e-01, 1.e+00, 1.e+01, 1.e+02, 1.e+03]),\n",
       "           class_weight='None', cv=5, dual=False, fit_intercept=True,\n",
       "           intercept_scaling=1.0, max_iter=10, multi_class='ovr', n_jobs=1,\n",
       "           penalty='l2', random_state=0, refit=True, scoring='recall',\n",
       "           solver='lbfgs', tol=0.0001, verbose=0)"
      ]
     },
     "execution_count": 32,
     "metadata": {},
     "output_type": "execute_result"
    }
   ],
   "source": [
    "search_hyper(parameters_3)"
   ]
  },
  {
   "cell_type": "code",
   "execution_count": 33,
   "metadata": {},
   "outputs": [
    {
     "name": "stdout",
     "output_type": "stream",
     "text": [
      "Best Estimator: \n",
      "----\n",
      "Scores on Test Dataset\n",
      "Accuracy Score:  0.9090026221229485\n",
      "Recall Score:  0.3979416809605489\n",
      "Precision Score:  0.6638054363376252\n"
     ]
    },
    {
     "data": {
      "text/plain": [
       "LogisticRegressionCV(Cs=array([1.e-02, 1.e-01, 1.e+00, 1.e+01, 1.e+02, 1.e+03]),\n",
       "           class_weight='None', cv=5, dual=False, fit_intercept=True,\n",
       "           intercept_scaling=1.0, max_iter=60, multi_class='ovr', n_jobs=1,\n",
       "           penalty='l2', random_state=0, refit=True, scoring='recall',\n",
       "           solver='liblinear', tol=0.0001, verbose=0)"
      ]
     },
     "execution_count": 33,
     "metadata": {},
     "output_type": "execute_result"
    }
   ],
   "source": [
    "search_hyper(parameters_4)"
   ]
  },
  {
   "cell_type": "code",
   "execution_count": 34,
   "metadata": {},
   "outputs": [
    {
     "name": "stdout",
     "output_type": "stream",
     "text": [
      "Best Estimator: \n",
      "----\n",
      "Scores on Test Dataset\n",
      "Accuracy Score:  0.8552976595124794\n",
      "Recall Score:  0.8704974271012007\n",
      "Precision Score:  0.4311809685641461\n",
      "Average precision-recall score: 0.39\n"
     ]
    },
    {
     "data": {
      "image/png": "[encoded data removed]",
      "text/plain": [
       "<Figure size 432x288 with 1 Axes>"
      ]
     },
     "metadata": {
      "needs_background": "light"
     },
     "output_type": "display_data"
    }
   ],
   "source": [
    "clf = search_hyper(parameters_2)\n",
    "plot_precision_recall(clf, X_test)"
   ]
  },
  {
   "cell_type": "markdown",
   "metadata": {},
   "source": [
    "Balanced classes are definitely helping out a lot! Let's continue with different parameters"
   ]
  },
  {
   "cell_type": "markdown",
   "metadata": {},
   "source": [
    "Let's try both l1 and l2 regularization"
   ]
  },
  {
   "cell_type": "code",
   "execution_count": 35,
   "metadata": {},
   "outputs": [],
   "source": [
    "parameters_5 = {'solver':['saga'],\n",
    "              'max_iter': [100], \n",
    "              'class_weight': ['balanced'],\n",
    "              'scoring':['accuracy'],\n",
    "              'penalty':['l1', 'l2']}"
   ]
  },
  {
   "cell_type": "code",
   "execution_count": 36,
   "metadata": {},
   "outputs": [
    {
     "name": "stdout",
     "output_type": "stream",
     "text": [
      "Best Estimator: \n",
      "----\n",
      "Scores on Test Dataset\n",
      "Accuracy Score:  0.8552976595124794\n",
      "Recall Score:  0.8704974271012007\n",
      "Precision Score:  0.4311809685641461\n",
      "Average precision-recall score: 0.39\n"
     ]
    },
    {
     "data": {
      "image/png": "[encoded data removed]",
      "text/plain": [
       "<Figure size 432x288 with 1 Axes>"
      ]
     },
     "metadata": {
      "needs_background": "light"
     },
     "output_type": "display_data"
    }
   ],
   "source": [
    "clf = search_hyper(parameters_5)\n",
    "plot_precision_recall(clf, X_test)"
   ]
  },
  {
   "cell_type": "code",
   "execution_count": 37,
   "metadata": {},
   "outputs": [
    {
     "data": {
      "image/png": "[encoded data removed]",
      "text/plain": [
       "<Figure size 648x432 with 1 Axes>"
      ]
     },
     "metadata": {
      "needs_background": "light"
     },
     "output_type": "display_data"
    }
   ],
   "source": [
    "cmx = make_conf_matrix(clf, X_test)\n",
    "plot_conf_matrix(cmx)"
   ]
  },
  {
   "cell_type": "markdown",
   "metadata": {},
   "source": [
    "We have managed to greatly improve our recall, but more can be done!"
   ]
  },
  {
   "cell_type": "code",
   "execution_count": 38,
   "metadata": {
    "collapsed": true
   },
   "outputs": [],
   "source": [
    "pred_proba_df = pd.DataFrame(clf.predict_proba(X_test))\n",
    "threshold_list = [0.05,0.1,0.15,0.2,0.25,0.3,0.35,0.4,0.45,0.5,0.55,0.6,0.65,.7,.75,.8,.85,.9,.95,.99]"
   ]
  },
  {
   "cell_type": "code",
   "execution_count": 39,
   "metadata": {},
   "outputs": [
    {
     "name": "stdout",
     "output_type": "stream",
     "text": [
      "\n",
      "******** For i = 0.05 ******\n",
      "Our Test Set Accuracy is 0.42303583568029524\n",
      "Our Test Set Recall Score is 0.9974271012006861\n",
      "Our Test Set Precision Score is 0.16377974933108014\n",
      "[[3193 5938]\n",
      " [   3 1163]]\n",
      "\n",
      "******** For i = 0.1 ******\n",
      "Our Test Set Accuracy is 0.6054190540934252\n",
      "Our Test Set Recall Score is 0.9948542024013722\n",
      "Our Test Set Precision Score is 0.22235000958405213\n",
      "[[5074 4057]\n",
      " [   6 1160]]\n",
      "\n",
      "******** For i = 0.15 ******\n"
     ]
    },
    {
     "name": "stderr",
     "output_type": "stream",
     "text": [
      "/Users/pauldefusco/anaconda2/envs/py36/lib/python3.6/site-packages/ipykernel_launcher.py:5: FutureWarning: Method .as_matrix will be removed in a future version. Use .values instead.\n",
      "  \"\"\"\n",
      "/Users/pauldefusco/anaconda2/envs/py36/lib/python3.6/site-packages/ipykernel_launcher.py:6: FutureWarning: Method .as_matrix will be removed in a future version. Use .values instead.\n",
      "  \n",
      "/Users/pauldefusco/anaconda2/envs/py36/lib/python3.6/site-packages/ipykernel_launcher.py:9: FutureWarning: Method .as_matrix will be removed in a future version. Use .values instead.\n",
      "  if __name__ == '__main__':\n",
      "/Users/pauldefusco/anaconda2/envs/py36/lib/python3.6/site-packages/ipykernel_launcher.py:10: FutureWarning: Method .as_matrix will be removed in a future version. Use .values instead.\n",
      "  # Remove the CWD from sys.path while we load stuff.\n",
      "/Users/pauldefusco/anaconda2/envs/py36/lib/python3.6/site-packages/ipykernel_launcher.py:13: FutureWarning: Method .as_matrix will be removed in a future version. Use .values instead.\n",
      "  del sys.path[0]\n",
      "/Users/pauldefusco/anaconda2/envs/py36/lib/python3.6/site-packages/ipykernel_launcher.py:14: FutureWarning: Method .as_matrix will be removed in a future version. Use .values instead.\n",
      "  \n",
      "/Users/pauldefusco/anaconda2/envs/py36/lib/python3.6/site-packages/ipykernel_launcher.py:17: FutureWarning: Method .as_matrix will be removed in a future version. Use .values instead.\n",
      "/Users/pauldefusco/anaconda2/envs/py36/lib/python3.6/site-packages/ipykernel_launcher.py:18: FutureWarning: Method .as_matrix will be removed in a future version. Use .values instead.\n"
     ]
    },
    {
     "name": "stdout",
     "output_type": "stream",
     "text": [
      "Our Test Set Accuracy is 0.681169272603671\n",
      "Our Test Set Recall Score is 0.9879931389365352\n",
      "Our Test Set Precision Score is 0.2605745306491744\n",
      "[[5862 3269]\n",
      " [  14 1152]]\n",
      "\n",
      "******** For i = 0.2 ******\n",
      "Our Test Set Accuracy is 0.7276876760221423\n",
      "Our Test Set Recall Score is 0.9802744425385935\n",
      "Our Test Set Precision Score is 0.29128440366972475\n",
      "[[6350 2781]\n",
      " [  23 1143]]\n",
      "\n",
      "******** For i = 0.25 ******\n",
      "Our Test Set Accuracy is 0.7639118189764009\n",
      "Our Test Set Recall Score is 0.9682675814751286\n",
      "Our Test Set Precision Score is 0.32046551234743115\n",
      "[[6737 2394]\n",
      " [  37 1129]]\n",
      "\n",
      "******** For i = 0.3 ******\n",
      "Our Test Set Accuracy is 0.7897445858016898\n",
      "Our Test Set Recall Score is 0.9562607204116638\n",
      "Our Test Set Precision Score is 0.34530814493651285\n",
      "[[7017 2114]\n",
      " [  51 1115]]\n",
      "\n",
      "******** For i = 0.35 ******\n",
      "Our Test Set Accuracy is 0.8108186850538992\n",
      "Our Test Set Recall Score is 0.9425385934819898\n",
      "Our Test Set Precision Score is 0.3687919463087248\n",
      "[[7250 1881]\n",
      " [  67 1099]]\n",
      "\n",
      "******** For i = 0.4 ******\n",
      "Our Test Set Accuracy is 0.8309216276585413\n",
      "Our Test Set Recall Score is 0.9245283018867925\n",
      "Our Test Set Precision Score is 0.39472720615159285\n",
      "[[7478 1653]\n",
      " [  88 1078]]\n",
      "\n",
      "******** For i = 0.45 ******\n",
      "Our Test Set Accuracy is 0.8446149363892396\n",
      "Our Test Set Recall Score is 0.8962264150943396\n",
      "Our Test Set Precision Score is 0.4140253565768621\n",
      "[[7652 1479]\n",
      " [ 121 1045]]\n",
      "\n",
      "******** For i = 0.5 ******\n",
      "Our Test Set Accuracy is 0.8552976595124794\n",
      "Our Test Set Recall Score is 0.8704974271012007\n",
      "Our Test Set Precision Score is 0.4311809685641461\n",
      "[[7792 1339]\n",
      " [ 151 1015]]\n",
      "\n",
      "******** For i = 0.55 ******\n",
      "Our Test Set Accuracy is 0.8641351850053414\n",
      "Our Test Set Recall Score is 0.8319039451114922\n",
      "Our Test Set Precision Score is 0.446387482742752\n",
      "[[7928 1203]\n",
      " [ 196  970]]\n",
      "\n",
      "******** For i = 0.6 ******\n",
      "Our Test Set Accuracy is 0.8751092551228513\n",
      "Our Test Set Recall Score is 0.8078902229845626\n",
      "Our Test Set Precision Score is 0.47005988023952094\n",
      "[[8069 1062]\n",
      " [ 224  942]]\n",
      "\n",
      "******** For i = 0.65 ******\n",
      "Our Test Set Accuracy is 0.8845294746042537\n",
      "Our Test Set Recall Score is 0.7735849056603774\n",
      "Our Test Set Precision Score is 0.49370552818828684\n",
      "[[8206  925]\n",
      " [ 264  902]]\n",
      "\n",
      "******** For i = 0.7 ******\n",
      "Our Test Set Accuracy is 0.891133339807711\n",
      "Our Test Set Recall Score is 0.7289879931389366\n",
      "Our Test Set Precision Score is 0.513595166163142\n",
      "[[8326  805]\n",
      " [ 316  850]]\n",
      "\n",
      "******** For i = 0.75 ******\n",
      "Our Test Set Accuracy is 0.8966689326988443\n",
      "Our Test Set Recall Score is 0.6792452830188679\n",
      "Our Test Set Precision Score is 0.5344129554655871\n",
      "[[8441  690]\n",
      " [ 374  792]]\n",
      "\n",
      "******** For i = 0.8 ******\n",
      "Our Test Set Accuracy is 0.9020102942604642\n",
      "Our Test Set Recall Score is 0.6243567753001715\n",
      "Our Test Set Precision Score is 0.5604311008468053\n",
      "[[8560  571]\n",
      " [ 438  728]]\n",
      "\n",
      "******** For i = 0.85 ******\n",
      "Our Test Set Accuracy is 0.9074487714868408\n",
      "Our Test Set Recall Score is 0.5506003430531733\n",
      "Our Test Set Precision Score is 0.5994397759103641\n",
      "[[8702  429]\n",
      " [ 524  642]]\n",
      "\n",
      "******** For i = 0.9 ******\n",
      "Our Test Set Accuracy is 0.9085170437991648\n",
      "Our Test Set Recall Score is 0.46226415094339623\n",
      "Our Test Set Precision Score is 0.6311475409836066\n",
      "[[8816  315]\n",
      " [ 627  539]]\n",
      "\n",
      "******** For i = 0.95 ******\n",
      "Our Test Set Accuracy is 0.904243954549869\n",
      "Our Test Set Recall Score is 0.3276157804459691\n",
      "Our Test Set Precision Score is 0.6541095890410958\n",
      "[[8929  202]\n",
      " [ 784  382]]\n",
      "\n",
      "******** For i = 0.99 ******\n",
      "Our Test Set Accuracy is 0.8937554627561426\n",
      "Our Test Set Recall Score is 0.1183533447684391\n",
      "Our Test Set Precision Score is 0.6764705882352942\n",
      "[[9065   66]\n",
      " [1028  138]]\n"
     ]
    }
   ],
   "source": [
    "for i in threshold_list:\n",
    "    print ('\\n******** For i = {} ******'.format(i))\n",
    "    Y_test_pred = pred_proba_df.applymap(lambda x: 1 if x>i else 0)\n",
    "    \n",
    "    test_accuracy = accuracy_score(y_test.as_matrix().reshape(y_test.as_matrix().size,1),\n",
    "        Y_test_pred.iloc[:,1].as_matrix().reshape(Y_test_pred.iloc[:,1].as_matrix().size,1))\n",
    "    print('Our Test Set Accuracy is {}'.format(test_accuracy))\n",
    "\n",
    "    test_recall = recall_score(y_test.as_matrix().reshape(y_test.as_matrix().size,1),\n",
    "        Y_test_pred.iloc[:,1].as_matrix().reshape(Y_test_pred.iloc[:,1].as_matrix().size,1))\n",
    "    print('Our Test Set Recall Score is {}'.format(test_recall))\n",
    "\n",
    "    test_precision = precision_score(y_test.as_matrix().reshape(y_test.as_matrix().size,1),\n",
    "        Y_test_pred.iloc[:,1].as_matrix().reshape(Y_test_pred.iloc[:,1].as_matrix().size,1))\n",
    "    print('Our Test Set Precision Score is {}'.format(test_precision))\n",
    "    \n",
    "    print(confusion_matrix(y_test.as_matrix().reshape(y_test.as_matrix().size,1),\n",
    "        Y_test_pred.iloc[:,1].as_matrix().reshape(Y_test_pred.iloc[:,1].as_matrix().size,1)))"
   ]
  }
 ],
 "metadata": {
  "kernelspec": {
   "display_name": "Python 3",
   "language": "python",
   "name": "python3"
  },
  "language_info": {
   "codemirror_mode": {
    "name": "ipython",
    "version": 3
   },
   "file_extension": ".py",
   "mimetype": "text/x-python",
   "name": "python",
   "nbconvert_exporter": "python",
   "pygments_lexer": "ipython3",
   "version": "3.6.3"
  }
 },
 "nbformat": 4,
 "nbformat_minor": 2
}
