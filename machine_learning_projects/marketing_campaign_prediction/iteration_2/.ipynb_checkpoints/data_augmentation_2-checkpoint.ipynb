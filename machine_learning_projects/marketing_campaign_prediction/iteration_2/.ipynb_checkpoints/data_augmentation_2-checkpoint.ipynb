{
 "cells": [
  {
   "cell_type": "markdown",
   "metadata": {},
   "source": [
    "### Notebook to Explore New Data Sources"
   ]
  },
  {
   "cell_type": "markdown",
   "metadata": {},
   "source": [
    "Datasources found at https://www.ine.pt/xportal/xmain?xpid=INE&xpgid=ine_princindic"
   ]
  },
  {
   "cell_type": "code",
   "execution_count": 1,
   "metadata": {
    "collapsed": true
   },
   "outputs": [],
   "source": [
    "import os\n",
    "import pandas as pd\n",
    "import xlrd \n",
    "import numpy as np"
   ]
  },
  {
   "cell_type": "code",
   "execution_count": 8,
   "metadata": {},
   "outputs": [
    {
     "data": {
      "text/plain": [
       "['08-01-19 01_52_32_theglobaleconomy.xls',\n",
       " '.DS_Store',\n",
       " 'newhousing_construction_index_monthly_portugal.xlsx',\n",
       " '08-01-19 01_55_20_theglobaleconomy.txt',\n",
       " 'cons_confidence_monthly_portugal.xls',\n",
       " 'eco_activity_monthly_portugal.xlsx',\n",
       " 'other_stats_monthly_portugal.xlsx',\n",
       " 'turnover_index_industry_monthly_portugal.xlsx',\n",
       " 'railway_passengers_monthly_portugal.xlsx',\n",
       " 'harmonized_cons_prices_monthly_portugal.xlsx',\n",
       " 'daily_euribor3m.csv',\n",
       " 'hotel_guests_monthly_portugal.xlsx',\n",
       " '08-01-19 01_58_10_theglobaleconomy.csv',\n",
       " 'unemployment_monthly_portugal.xlsx',\n",
       " '08-01-19 01_55_17_theglobaleconomy.csv',\n",
       " 'industry_employment_index_monthly_portugal.xlsx']"
      ]
     },
     "execution_count": 8,
     "metadata": {},
     "output_type": "execute_result"
    }
   ],
   "source": [
    "dirname = '../data/data_augmentation/'\n",
    "os.listdir(dirname)"
   ]
  },
  {
   "cell_type": "code",
   "execution_count": 9,
   "metadata": {
    "collapsed": true
   },
   "outputs": [],
   "source": [
    "df1 = pd.read_csv(dirname+'08-01-19 01_58_10_theglobaleconomy.csv')"
   ]
  },
  {
   "cell_type": "code",
   "execution_count": 10,
   "metadata": {
    "collapsed": true
   },
   "outputs": [],
   "source": [
    "df2 = pd.read_csv(dirname+'08-01-19 01_55_17_theglobaleconomy.csv')"
   ]
  },
  {
   "cell_type": "code",
   "execution_count": 11,
   "metadata": {},
   "outputs": [
    {
     "data": {
      "text/plain": [
       "Index(['Country', 'Code', 'Year', 'Month', ' Consumer credit',\n",
       "       ' Deposit interest rate', ' Mortgage credit interest rate',\n",
       "       ' Business credit interest rate', ' Employment', ' Unemployment rate ',\n",
       "       ' Current account balance', ' Exports', ' FDI',\n",
       "       ' Foreign exchange reserves', ' Government expenditure',\n",
       "       ' Budget balance', ' Labor cost', ' Exchange rate to USD',\n",
       "       ' Minimum wage', ' Government debt '],\n",
       "      dtype='object')"
      ]
     },
     "execution_count": 11,
     "metadata": {},
     "output_type": "execute_result"
    }
   ],
   "source": [
    "df1.columns"
   ]
  },
  {
   "cell_type": "code",
   "execution_count": 12,
   "metadata": {},
   "outputs": [
    {
     "data": {
      "text/plain": [
       "Index(['Country', 'Code', 'Year', 'Month', ' Private sector credit',\n",
       "       ' Business credit', ' Household credit', ' Mortgage credit',\n",
       "       ' Gross Domestic Product (GDP)', ' Consumer Price Index (CPI)',\n",
       "       ' Money supply (broad money)', ' Household consumption', ' Investment',\n",
       "       ' Economic growth ', ' Consumption growth',\n",
       "       ' Investment as percent of GDP', ' Investment growth',\n",
       "       ' Consumption as percent of GDP', ' Inflation monthly',\n",
       "       ' Inflation annual', ' Retail sales', ' Business confidence survey',\n",
       "       ' Consumer confidence survey', ' Economic growth Q-on-Q'],\n",
       "      dtype='object')"
      ]
     },
     "execution_count": 12,
     "metadata": {},
     "output_type": "execute_result"
    }
   ],
   "source": [
    "df2.columns"
   ]
  },
  {
   "cell_type": "code",
   "execution_count": 13,
   "metadata": {
    "collapsed": true
   },
   "outputs": [],
   "source": [
    "df2.drop(columns=['Year', 'Month'], axis=1, inplace=True)"
   ]
  },
  {
   "cell_type": "code",
   "execution_count": 14,
   "metadata": {
    "collapsed": true
   },
   "outputs": [],
   "source": [
    "#df1 and df2 have identical timeframes so they can be merged directly\n",
    "df = pd.concat([df1,df2], axis=1)"
   ]
  },
  {
   "cell_type": "code",
   "execution_count": 15,
   "metadata": {
    "collapsed": true
   },
   "outputs": [],
   "source": [
    "#Replacing empty cells so they can be dropped\n",
    "df.replace(' ', np.nan, inplace=True)"
   ]
  },
  {
   "cell_type": "code",
   "execution_count": 16,
   "metadata": {
    "collapsed": true
   },
   "outputs": [],
   "source": [
    "df.fillna(method='backfill', inplace=True)"
   ]
  },
  {
   "cell_type": "code",
   "execution_count": null,
   "metadata": {
    "collapsed": true
   },
   "outputs": [],
   "source": []
  },
  {
   "cell_type": "code",
   "execution_count": 17,
   "metadata": {
    "collapsed": true
   },
   "outputs": [],
   "source": [
    "#Loading df after it had been augmented in iteration 1 so it can be merged:\n",
    "df_w_time_stats = pd.read_pickle('../data/pickle_files/df_pickle_w_time_stats')"
   ]
  },
  {
   "cell_type": "code",
   "execution_count": 18,
   "metadata": {},
   "outputs": [
    {
     "name": "stdout",
     "output_type": "stream",
     "text": [
      "int64\n",
      "int64\n",
      "int64\n",
      "int64\n"
     ]
    }
   ],
   "source": [
    "#checking data types prior to merging\n",
    "print(df.Year.dtypes)\n",
    "print(df.Month.dtypes)\n",
    "print(df_w_time_stats.year.dtypes)\n",
    "print(df_w_time_stats.month.dtypes)\n",
    "#the data types match so we can merge direcly"
   ]
  },
  {
   "cell_type": "code",
   "execution_count": 19,
   "metadata": {
    "collapsed": true
   },
   "outputs": [],
   "source": [
    "df.rename(columns={'Year':'year', 'Month':'month'}, inplace=True)"
   ]
  },
  {
   "cell_type": "code",
   "execution_count": 20,
   "metadata": {
    "collapsed": true
   },
   "outputs": [],
   "source": [
    "df = df_w_time_stats.merge(df, how='left', on=['year', 'month'])"
   ]
  },
  {
   "cell_type": "code",
   "execution_count": 21,
   "metadata": {},
   "outputs": [
    {
     "name": "stdout",
     "output_type": "stream",
     "text": [
      "Row Match:  True\n"
     ]
    }
   ],
   "source": [
    "#Checking that the merge went succesfully:\n",
    "print(\"Row Match: \", df.shape[0] == df_w_time_stats.shape[0])"
   ]
  },
  {
   "cell_type": "code",
   "execution_count": 22,
   "metadata": {
    "collapsed": true
   },
   "outputs": [],
   "source": [
    "#The new df's columns have leading and trailing spaces, removing them:\n",
    "df.columns = [i.strip() for i in df.columns]"
   ]
  },
  {
   "cell_type": "code",
   "execution_count": 23,
   "metadata": {},
   "outputs": [
    {
     "data": {
      "text/plain": [
       "Index(['cons_conf', 'ind_turnover', 'major_purch_expect',\n",
       "       'major_purch_opportu', 'unempl_expect', 'inflation_delta_expect',\n",
       "       'economy_expect', 'economy_past', 'financial_past',\n",
       "       'savings_delta_expect', 'household_debt_ratio', 'savings_expect',\n",
       "       'emplmnt_industry_index', 'railway_passengers', 'month', 'year', 'Date',\n",
       "       'day', 'age', 'duration', 'campaign', 'pdays', 'previous',\n",
       "       'emp.var.rate', 'cons.price.idx', 'cons.conf.idx', 'euribor3m',\n",
       "       'nr.employed', 'job', 'marital', 'education', 'default', 'housing',\n",
       "       'loan', 'contact', 'month_last_contact', 'day_of_week_last_contact',\n",
       "       'poutcome', 'y', 'Country', 'Code', 'Consumer credit',\n",
       "       'Deposit interest rate', 'Mortgage credit interest rate',\n",
       "       'Business credit interest rate', 'Employment', 'Unemployment rate',\n",
       "       'Current account balance', 'Exports', 'FDI',\n",
       "       'Foreign exchange reserves', 'Government expenditure', 'Budget balance',\n",
       "       'Labor cost', 'Exchange rate to USD', 'Minimum wage', 'Government debt',\n",
       "       'Country', 'Code', 'Private sector credit', 'Business credit',\n",
       "       'Household credit', 'Mortgage credit', 'Gross Domestic Product (GDP)',\n",
       "       'Consumer Price Index (CPI)', 'Money supply (broad money)',\n",
       "       'Household consumption', 'Investment', 'Economic growth',\n",
       "       'Consumption growth', 'Investment as percent of GDP',\n",
       "       'Investment growth', 'Consumption as percent of GDP',\n",
       "       'Inflation monthly', 'Inflation annual', 'Retail sales',\n",
       "       'Business confidence survey', 'Consumer confidence survey',\n",
       "       'Economic growth Q-on-Q'],\n",
       "      dtype='object')"
      ]
     },
     "execution_count": 23,
     "metadata": {},
     "output_type": "execute_result"
    }
   ],
   "source": [
    "#checking for duplicate columns (we had already added economic indicators)\n",
    "df.columns"
   ]
  },
  {
   "cell_type": "code",
   "execution_count": 24,
   "metadata": {
    "collapsed": true
   },
   "outputs": [],
   "source": [
    "def duplicate_columns(frame):\n",
    "    groups = frame.columns.to_series().groupby(frame.dtypes).groups\n",
    "    dups = []\n",
    "\n",
    "    for t, v in groups.items():\n",
    "\n",
    "        cs = frame[v].columns\n",
    "        vs = frame[v]\n",
    "        lcs = len(cs)\n",
    "\n",
    "        for i in range(lcs):\n",
    "            iv = vs.iloc[:,i].tolist()\n",
    "            for j in range(i+1, lcs):\n",
    "                jv = vs.iloc[:,j].tolist()\n",
    "                if iv == jv:\n",
    "                    dups.append(cs[i])\n",
    "                    break\n",
    "\n",
    "    return dups"
   ]
  },
  {
   "cell_type": "code",
   "execution_count": 25,
   "metadata": {
    "collapsed": true
   },
   "outputs": [],
   "source": [
    "dups = duplicate_columns(df)"
   ]
  },
  {
   "cell_type": "code",
   "execution_count": 26,
   "metadata": {},
   "outputs": [
    {
     "data": {
      "text/html": [
       "<div>\n",
       "<style scoped>\n",
       "    .dataframe tbody tr th:only-of-type {\n",
       "        vertical-align: middle;\n",
       "    }\n",
       "\n",
       "    .dataframe tbody tr th {\n",
       "        vertical-align: top;\n",
       "    }\n",
       "\n",
       "    .dataframe thead th {\n",
       "        text-align: right;\n",
       "    }\n",
       "</style>\n",
       "<table border=\"1\" class=\"dataframe\">\n",
       "  <thead>\n",
       "    <tr style=\"text-align: right;\">\n",
       "      <th></th>\n",
       "      <th>cons_conf</th>\n",
       "      <th>Country</th>\n",
       "      <th>Country</th>\n",
       "      <th>Country</th>\n",
       "      <th>Country</th>\n",
       "      <th>Code</th>\n",
       "      <th>Code</th>\n",
       "      <th>Code</th>\n",
       "      <th>Code</th>\n",
       "      <th>Country</th>\n",
       "      <th>Country</th>\n",
       "      <th>Code</th>\n",
       "      <th>Code</th>\n",
       "    </tr>\n",
       "  </thead>\n",
       "  <tbody>\n",
       "    <tr>\n",
       "      <th>0</th>\n",
       "      <td>-28.5</td>\n",
       "      <td>Portugal</td>\n",
       "      <td>Portugal</td>\n",
       "      <td>Portugal</td>\n",
       "      <td>Portugal</td>\n",
       "      <td>PRT</td>\n",
       "      <td>PRT</td>\n",
       "      <td>PRT</td>\n",
       "      <td>PRT</td>\n",
       "      <td>Portugal</td>\n",
       "      <td>Portugal</td>\n",
       "      <td>PRT</td>\n",
       "      <td>PRT</td>\n",
       "    </tr>\n",
       "    <tr>\n",
       "      <th>1</th>\n",
       "      <td>-28.5</td>\n",
       "      <td>Portugal</td>\n",
       "      <td>Portugal</td>\n",
       "      <td>Portugal</td>\n",
       "      <td>Portugal</td>\n",
       "      <td>PRT</td>\n",
       "      <td>PRT</td>\n",
       "      <td>PRT</td>\n",
       "      <td>PRT</td>\n",
       "      <td>Portugal</td>\n",
       "      <td>Portugal</td>\n",
       "      <td>PRT</td>\n",
       "      <td>PRT</td>\n",
       "    </tr>\n",
       "    <tr>\n",
       "      <th>2</th>\n",
       "      <td>-28.5</td>\n",
       "      <td>Portugal</td>\n",
       "      <td>Portugal</td>\n",
       "      <td>Portugal</td>\n",
       "      <td>Portugal</td>\n",
       "      <td>PRT</td>\n",
       "      <td>PRT</td>\n",
       "      <td>PRT</td>\n",
       "      <td>PRT</td>\n",
       "      <td>Portugal</td>\n",
       "      <td>Portugal</td>\n",
       "      <td>PRT</td>\n",
       "      <td>PRT</td>\n",
       "    </tr>\n",
       "    <tr>\n",
       "      <th>3</th>\n",
       "      <td>-28.5</td>\n",
       "      <td>Portugal</td>\n",
       "      <td>Portugal</td>\n",
       "      <td>Portugal</td>\n",
       "      <td>Portugal</td>\n",
       "      <td>PRT</td>\n",
       "      <td>PRT</td>\n",
       "      <td>PRT</td>\n",
       "      <td>PRT</td>\n",
       "      <td>Portugal</td>\n",
       "      <td>Portugal</td>\n",
       "      <td>PRT</td>\n",
       "      <td>PRT</td>\n",
       "    </tr>\n",
       "    <tr>\n",
       "      <th>4</th>\n",
       "      <td>-28.5</td>\n",
       "      <td>Portugal</td>\n",
       "      <td>Portugal</td>\n",
       "      <td>Portugal</td>\n",
       "      <td>Portugal</td>\n",
       "      <td>PRT</td>\n",
       "      <td>PRT</td>\n",
       "      <td>PRT</td>\n",
       "      <td>PRT</td>\n",
       "      <td>Portugal</td>\n",
       "      <td>Portugal</td>\n",
       "      <td>PRT</td>\n",
       "      <td>PRT</td>\n",
       "    </tr>\n",
       "  </tbody>\n",
       "</table>\n",
       "</div>"
      ],
      "text/plain": [
       "   cons_conf   Country   Country   Country   Country  Code  Code  Code  Code  \\\n",
       "0      -28.5  Portugal  Portugal  Portugal  Portugal   PRT   PRT   PRT   PRT   \n",
       "1      -28.5  Portugal  Portugal  Portugal  Portugal   PRT   PRT   PRT   PRT   \n",
       "2      -28.5  Portugal  Portugal  Portugal  Portugal   PRT   PRT   PRT   PRT   \n",
       "3      -28.5  Portugal  Portugal  Portugal  Portugal   PRT   PRT   PRT   PRT   \n",
       "4      -28.5  Portugal  Portugal  Portugal  Portugal   PRT   PRT   PRT   PRT   \n",
       "\n",
       "    Country   Country  Code  Code  \n",
       "0  Portugal  Portugal   PRT   PRT  \n",
       "1  Portugal  Portugal   PRT   PRT  \n",
       "2  Portugal  Portugal   PRT   PRT  \n",
       "3  Portugal  Portugal   PRT   PRT  \n",
       "4  Portugal  Portugal   PRT   PRT  "
      ]
     },
     "execution_count": 26,
     "metadata": {},
     "output_type": "execute_result"
    }
   ],
   "source": [
    "#Verifying that these are actual duplicate columns: cons_conf should not be removed\n",
    "df[dups].head()"
   ]
  },
  {
   "cell_type": "code",
   "execution_count": 27,
   "metadata": {},
   "outputs": [
    {
     "data": {
      "text/plain": [
       "'cons_conf'"
      ]
     },
     "execution_count": 27,
     "metadata": {},
     "output_type": "execute_result"
    }
   ],
   "source": [
    "dups.pop(0)"
   ]
  },
  {
   "cell_type": "code",
   "execution_count": 28,
   "metadata": {
    "collapsed": true
   },
   "outputs": [],
   "source": [
    "df.drop(columns=dups, inplace=True)"
   ]
  },
  {
   "cell_type": "code",
   "execution_count": 29,
   "metadata": {},
   "outputs": [
    {
     "data": {
      "text/html": [
       "<div>\n",
       "<style scoped>\n",
       "    .dataframe tbody tr th:only-of-type {\n",
       "        vertical-align: middle;\n",
       "    }\n",
       "\n",
       "    .dataframe tbody tr th {\n",
       "        vertical-align: top;\n",
       "    }\n",
       "\n",
       "    .dataframe thead th {\n",
       "        text-align: right;\n",
       "    }\n",
       "</style>\n",
       "<table border=\"1\" class=\"dataframe\">\n",
       "  <thead>\n",
       "    <tr style=\"text-align: right;\">\n",
       "      <th></th>\n",
       "      <th>cons_conf</th>\n",
       "      <th>ind_turnover</th>\n",
       "      <th>major_purch_expect</th>\n",
       "      <th>major_purch_opportu</th>\n",
       "      <th>unempl_expect</th>\n",
       "      <th>inflation_delta_expect</th>\n",
       "      <th>economy_expect</th>\n",
       "      <th>economy_past</th>\n",
       "      <th>financial_past</th>\n",
       "      <th>savings_delta_expect</th>\n",
       "      <th>...</th>\n",
       "      <th>Consumption growth</th>\n",
       "      <th>Investment as percent of GDP</th>\n",
       "      <th>Investment growth</th>\n",
       "      <th>Consumption as percent of GDP</th>\n",
       "      <th>Inflation monthly</th>\n",
       "      <th>Inflation annual</th>\n",
       "      <th>Retail sales</th>\n",
       "      <th>Business confidence survey</th>\n",
       "      <th>Consumer confidence survey</th>\n",
       "      <th>Economic growth Q-on-Q</th>\n",
       "    </tr>\n",
       "  </thead>\n",
       "  <tbody>\n",
       "    <tr>\n",
       "      <th>0</th>\n",
       "      <td>-28.5</td>\n",
       "      <td>113.72</td>\n",
       "      <td>-21.8</td>\n",
       "      <td>-65.1</td>\n",
       "      <td>48.7</td>\n",
       "      <td>52.2</td>\n",
       "      <td>-33.3</td>\n",
       "      <td>-57.1</td>\n",
       "      <td>-28.0</td>\n",
       "      <td>-37.8</td>\n",
       "      <td>...</td>\n",
       "      <td>5.12</td>\n",
       "      <td>23.32</td>\n",
       "      <td>9.55</td>\n",
       "      <td>64.6</td>\n",
       "      <td>0.44</td>\n",
       "      <td>2.78</td>\n",
       "      <td>116.9</td>\n",
       "      <td>0.11</td>\n",
       "      <td>-28.5</td>\n",
       "      <td>-0.51</td>\n",
       "    </tr>\n",
       "    <tr>\n",
       "      <th>1</th>\n",
       "      <td>-28.5</td>\n",
       "      <td>113.72</td>\n",
       "      <td>-21.8</td>\n",
       "      <td>-65.1</td>\n",
       "      <td>48.7</td>\n",
       "      <td>52.2</td>\n",
       "      <td>-33.3</td>\n",
       "      <td>-57.1</td>\n",
       "      <td>-28.0</td>\n",
       "      <td>-37.8</td>\n",
       "      <td>...</td>\n",
       "      <td>5.12</td>\n",
       "      <td>23.32</td>\n",
       "      <td>9.55</td>\n",
       "      <td>64.6</td>\n",
       "      <td>0.44</td>\n",
       "      <td>2.78</td>\n",
       "      <td>116.9</td>\n",
       "      <td>0.11</td>\n",
       "      <td>-28.5</td>\n",
       "      <td>-0.51</td>\n",
       "    </tr>\n",
       "    <tr>\n",
       "      <th>2</th>\n",
       "      <td>-28.5</td>\n",
       "      <td>113.72</td>\n",
       "      <td>-21.8</td>\n",
       "      <td>-65.1</td>\n",
       "      <td>48.7</td>\n",
       "      <td>52.2</td>\n",
       "      <td>-33.3</td>\n",
       "      <td>-57.1</td>\n",
       "      <td>-28.0</td>\n",
       "      <td>-37.8</td>\n",
       "      <td>...</td>\n",
       "      <td>5.12</td>\n",
       "      <td>23.32</td>\n",
       "      <td>9.55</td>\n",
       "      <td>64.6</td>\n",
       "      <td>0.44</td>\n",
       "      <td>2.78</td>\n",
       "      <td>116.9</td>\n",
       "      <td>0.11</td>\n",
       "      <td>-28.5</td>\n",
       "      <td>-0.51</td>\n",
       "    </tr>\n",
       "    <tr>\n",
       "      <th>3</th>\n",
       "      <td>-28.5</td>\n",
       "      <td>113.72</td>\n",
       "      <td>-21.8</td>\n",
       "      <td>-65.1</td>\n",
       "      <td>48.7</td>\n",
       "      <td>52.2</td>\n",
       "      <td>-33.3</td>\n",
       "      <td>-57.1</td>\n",
       "      <td>-28.0</td>\n",
       "      <td>-37.8</td>\n",
       "      <td>...</td>\n",
       "      <td>5.12</td>\n",
       "      <td>23.32</td>\n",
       "      <td>9.55</td>\n",
       "      <td>64.6</td>\n",
       "      <td>0.44</td>\n",
       "      <td>2.78</td>\n",
       "      <td>116.9</td>\n",
       "      <td>0.11</td>\n",
       "      <td>-28.5</td>\n",
       "      <td>-0.51</td>\n",
       "    </tr>\n",
       "    <tr>\n",
       "      <th>4</th>\n",
       "      <td>-28.5</td>\n",
       "      <td>113.72</td>\n",
       "      <td>-21.8</td>\n",
       "      <td>-65.1</td>\n",
       "      <td>48.7</td>\n",
       "      <td>52.2</td>\n",
       "      <td>-33.3</td>\n",
       "      <td>-57.1</td>\n",
       "      <td>-28.0</td>\n",
       "      <td>-37.8</td>\n",
       "      <td>...</td>\n",
       "      <td>5.12</td>\n",
       "      <td>23.32</td>\n",
       "      <td>9.55</td>\n",
       "      <td>64.6</td>\n",
       "      <td>0.44</td>\n",
       "      <td>2.78</td>\n",
       "      <td>116.9</td>\n",
       "      <td>0.11</td>\n",
       "      <td>-28.5</td>\n",
       "      <td>-0.51</td>\n",
       "    </tr>\n",
       "  </tbody>\n",
       "</table>\n",
       "<p>5 rows × 75 columns</p>\n",
       "</div>"
      ],
      "text/plain": [
       "   cons_conf  ind_turnover  major_purch_expect  major_purch_opportu  \\\n",
       "0      -28.5        113.72               -21.8                -65.1   \n",
       "1      -28.5        113.72               -21.8                -65.1   \n",
       "2      -28.5        113.72               -21.8                -65.1   \n",
       "3      -28.5        113.72               -21.8                -65.1   \n",
       "4      -28.5        113.72               -21.8                -65.1   \n",
       "\n",
       "   unempl_expect  inflation_delta_expect  economy_expect  economy_past  \\\n",
       "0           48.7                    52.2           -33.3         -57.1   \n",
       "1           48.7                    52.2           -33.3         -57.1   \n",
       "2           48.7                    52.2           -33.3         -57.1   \n",
       "3           48.7                    52.2           -33.3         -57.1   \n",
       "4           48.7                    52.2           -33.3         -57.1   \n",
       "\n",
       "   financial_past  savings_delta_expect           ...            \\\n",
       "0           -28.0                 -37.8           ...             \n",
       "1           -28.0                 -37.8           ...             \n",
       "2           -28.0                 -37.8           ...             \n",
       "3           -28.0                 -37.8           ...             \n",
       "4           -28.0                 -37.8           ...             \n",
       "\n",
       "   Consumption growth  Investment as percent of GDP  Investment growth  \\\n",
       "0                5.12                         23.32               9.55   \n",
       "1                5.12                         23.32               9.55   \n",
       "2                5.12                         23.32               9.55   \n",
       "3                5.12                         23.32               9.55   \n",
       "4                5.12                         23.32               9.55   \n",
       "\n",
       "   Consumption as percent of GDP  Inflation monthly  Inflation annual  \\\n",
       "0                           64.6               0.44              2.78   \n",
       "1                           64.6               0.44              2.78   \n",
       "2                           64.6               0.44              2.78   \n",
       "3                           64.6               0.44              2.78   \n",
       "4                           64.6               0.44              2.78   \n",
       "\n",
       "  Retail sales  Business confidence survey  Consumer confidence survey  \\\n",
       "0        116.9                        0.11                       -28.5   \n",
       "1        116.9                        0.11                       -28.5   \n",
       "2        116.9                        0.11                       -28.5   \n",
       "3        116.9                        0.11                       -28.5   \n",
       "4        116.9                        0.11                       -28.5   \n",
       "\n",
       "   Economic growth Q-on-Q  \n",
       "0                   -0.51  \n",
       "1                   -0.51  \n",
       "2                   -0.51  \n",
       "3                   -0.51  \n",
       "4                   -0.51  \n",
       "\n",
       "[5 rows x 75 columns]"
      ]
     },
     "execution_count": 29,
     "metadata": {},
     "output_type": "execute_result"
    }
   ],
   "source": [
    "df.head()"
   ]
  },
  {
   "cell_type": "code",
   "execution_count": 30,
   "metadata": {},
   "outputs": [
    {
     "data": {
      "text/plain": [
       "cons_conf                        0\n",
       "ind_turnover                     0\n",
       "major_purch_expect               0\n",
       "major_purch_opportu              0\n",
       "unempl_expect                    0\n",
       "inflation_delta_expect           0\n",
       "economy_expect                   0\n",
       "economy_past                     0\n",
       "financial_past                   0\n",
       "savings_delta_expect             0\n",
       "household_debt_ratio             0\n",
       "savings_expect                   0\n",
       "emplmnt_industry_index           0\n",
       "railway_passengers               0\n",
       "month                            0\n",
       "year                             0\n",
       "Date                             0\n",
       "day                              0\n",
       "age                              0\n",
       "duration                         0\n",
       "campaign                         0\n",
       "pdays                            0\n",
       "previous                         0\n",
       "emp.var.rate                     0\n",
       "cons.price.idx                   0\n",
       "cons.conf.idx                    0\n",
       "euribor3m                        0\n",
       "nr.employed                      0\n",
       "job                              0\n",
       "marital                          0\n",
       "                                ..\n",
       "Current account balance          0\n",
       "Exports                          0\n",
       "FDI                              0\n",
       "Foreign exchange reserves        0\n",
       "Government expenditure           0\n",
       "Budget balance                   0\n",
       "Labor cost                       0\n",
       "Exchange rate to USD             0\n",
       "Minimum wage                     0\n",
       "Government debt                  0\n",
       "Private sector credit            0\n",
       "Business credit                  0\n",
       "Household credit                 0\n",
       "Mortgage credit                  0\n",
       "Gross Domestic Product (GDP)     0\n",
       "Consumer Price Index (CPI)       0\n",
       "Money supply (broad money)       0\n",
       "Household consumption            0\n",
       "Investment                       0\n",
       "Economic growth                  0\n",
       "Consumption growth               0\n",
       "Investment as percent of GDP     0\n",
       "Investment growth                0\n",
       "Consumption as percent of GDP    0\n",
       "Inflation monthly                0\n",
       "Inflation annual                 0\n",
       "Retail sales                     0\n",
       "Business confidence survey       0\n",
       "Consumer confidence survey       0\n",
       "Economic growth Q-on-Q           0\n",
       "Length: 75, dtype: int64"
      ]
     },
     "execution_count": 30,
     "metadata": {},
     "output_type": "execute_result"
    }
   ],
   "source": [
    "df.isna().sum()"
   ]
  },
  {
   "cell_type": "code",
   "execution_count": 38,
   "metadata": {},
   "outputs": [
    {
     "data": {
      "text/plain": [
       "Index(['Government expenditure', 'Budget balance', 'Labor cost',\n",
       "       'Government debt', 'Gross Domestic Product (GDP)',\n",
       "       'Household consumption', 'Investment', 'Economic growth',\n",
       "       'Consumption growth', 'Investment as percent of GDP',\n",
       "       'Investment growth', 'Consumption as percent of GDP',\n",
       "       'Economic growth Q-on-Q'],\n",
       "      dtype='object')"
      ]
     },
     "execution_count": 38,
     "metadata": {},
     "output_type": "execute_result"
    }
   ],
   "source": [
    "df.select_dtypes(include = ['object']).columns"
   ]
  },
  {
   "cell_type": "code",
   "execution_count": 42,
   "metadata": {
    "collapsed": true
   },
   "outputs": [],
   "source": [
    "#converting object columns into numeric - they were always supposed to be numeric\n",
    "for i in df.select_dtypes(include = ['object']).columns:\n",
    "    df[i] = df[i].astype(float)"
   ]
  },
  {
   "cell_type": "code",
   "execution_count": 44,
   "metadata": {},
   "outputs": [
    {
     "data": {
      "text/plain": [
       "cons_conf                               float64\n",
       "ind_turnover                            float64\n",
       "major_purch_expect                      float64\n",
       "major_purch_opportu                     float64\n",
       "unempl_expect                           float64\n",
       "inflation_delta_expect                  float64\n",
       "economy_expect                          float64\n",
       "economy_past                            float64\n",
       "financial_past                          float64\n",
       "savings_delta_expect                    float64\n",
       "household_debt_ratio                    float64\n",
       "savings_expect                          float64\n",
       "emplmnt_industry_index                  float64\n",
       "railway_passengers                      float64\n",
       "month                                     int64\n",
       "year                                      int64\n",
       "Date                             datetime64[ns]\n",
       "day                                       int64\n",
       "age                                       int64\n",
       "duration                                  int64\n",
       "campaign                                  int64\n",
       "pdays                                     int64\n",
       "previous                                  int64\n",
       "emp.var.rate                            float64\n",
       "cons.price.idx                          float64\n",
       "cons.conf.idx                           float64\n",
       "euribor3m                               float64\n",
       "nr.employed                             float64\n",
       "job                                        int8\n",
       "marital                                    int8\n",
       "                                      ...      \n",
       "Current account balance                 float64\n",
       "Exports                                 float64\n",
       "FDI                                     float64\n",
       "Foreign exchange reserves               float64\n",
       "Government expenditure                  float64\n",
       "Budget balance                          float64\n",
       "Labor cost                              float64\n",
       "Exchange rate to USD                    float64\n",
       "Minimum wage                            float64\n",
       "Government debt                         float64\n",
       "Private sector credit                   float64\n",
       "Business credit                         float64\n",
       "Household credit                        float64\n",
       "Mortgage credit                         float64\n",
       "Gross Domestic Product (GDP)            float64\n",
       "Consumer Price Index (CPI)              float64\n",
       "Money supply (broad money)              float64\n",
       "Household consumption                   float64\n",
       "Investment                              float64\n",
       "Economic growth                         float64\n",
       "Consumption growth                      float64\n",
       "Investment as percent of GDP            float64\n",
       "Investment growth                       float64\n",
       "Consumption as percent of GDP           float64\n",
       "Inflation monthly                       float64\n",
       "Inflation annual                        float64\n",
       "Retail sales                            float64\n",
       "Business confidence survey              float64\n",
       "Consumer confidence survey              float64\n",
       "Economic growth Q-on-Q                  float64\n",
       "Length: 75, dtype: object"
      ]
     },
     "execution_count": 44,
     "metadata": {},
     "output_type": "execute_result"
    }
   ],
   "source": [
    "#final data quality check\n",
    "df.dtypes"
   ]
  },
  {
   "cell_type": "code",
   "execution_count": 45,
   "metadata": {
    "collapsed": true
   },
   "outputs": [],
   "source": [
    "#Writing the latest augmented dataframe out\n",
    "df.to_pickle('../data/pickle_files/df_pickle_w_all_stats')"
   ]
  },
  {
   "cell_type": "code",
   "execution_count": null,
   "metadata": {
    "collapsed": true
   },
   "outputs": [],
   "source": []
  }
 ],
 "metadata": {
  "kernelspec": {
   "display_name": "Python 3",
   "language": "python",
   "name": "python3"
  },
  "language_info": {
   "codemirror_mode": {
    "name": "ipython",
    "version": 3
   },
   "file_extension": ".py",
   "mimetype": "text/x-python",
   "name": "python",
   "nbconvert_exporter": "python",
   "pygments_lexer": "ipython3",
   "version": "3.6.3"
  }
 },
 "nbformat": 4,
 "nbformat_minor": 2
}
