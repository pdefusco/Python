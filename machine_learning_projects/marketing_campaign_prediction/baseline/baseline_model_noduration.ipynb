{
 "cells": [
  {
   "cell_type": "markdown",
   "metadata": {},
   "source": [
    "### Baseline Model - Duration Excluded"
   ]
  },
  {
   "cell_type": "markdown",
   "metadata": {},
   "source": [
    "Solution currently used by the bank"
   ]
  },
  {
   "cell_type": "code",
   "execution_count": 1,
   "metadata": {
    "collapsed": true
   },
   "outputs": [],
   "source": [
    "%matplotlib inline\n",
    "import pandas as pd\n",
    "import numpy as np\n",
    "from scipy.io import arff\n",
    "import matplotlib.pyplot as plt\n",
    "import seaborn as sns\n",
    "import matplotlib as mpl"
   ]
  },
  {
   "cell_type": "code",
   "execution_count": 2,
   "metadata": {
    "collapsed": true
   },
   "outputs": [],
   "source": [
    "from sklearn.linear_model import LogisticRegression, LogisticRegressionCV\n",
    "from sklearn.model_selection import train_test_split, StratifiedKFold, GridSearchCV\n",
    "from sklearn import preprocessing\n",
    "from sklearn.metrics import confusion_matrix, precision_score, recall_score, average_precision_score\n",
    "from sklearn.metrics import accuracy_score, roc_curve, roc_auc_score, precision_recall_curve\n",
    "from sklearn.utils.fixes import signature\n",
    "pd.options.display.float_format = '{:.2f}'.format"
   ]
  },
  {
   "cell_type": "code",
   "execution_count": 3,
   "metadata": {
    "collapsed": true
   },
   "outputs": [],
   "source": [
    "#Loading df1:\n",
    "df = pd.read_pickle('data/pickle_files/df_pickle')"
   ]
  },
  {
   "cell_type": "code",
   "execution_count": 4,
   "metadata": {
    "collapsed": true
   },
   "outputs": [],
   "source": [
    "#Excluding the duration variable as it cannot be used in our baseline\n",
    "df = df.drop(columns = ['duration'])"
   ]
  },
  {
   "cell_type": "code",
   "execution_count": null,
   "metadata": {
    "collapsed": true
   },
   "outputs": [],
   "source": []
  },
  {
   "cell_type": "code",
   "execution_count": null,
   "metadata": {
    "collapsed": true
   },
   "outputs": [],
   "source": []
  },
  {
   "cell_type": "code",
   "execution_count": 5,
   "metadata": {
    "collapsed": true
   },
   "outputs": [],
   "source": [
    "#Checking dtypes have loaded correctly (should return empty index)\n",
    "df.select_dtypes(exclude = ['float64', 'int64']).columns\n",
    "\n",
    "y = df['y']\n",
    "X = df.drop(columns=['y'])"
   ]
  },
  {
   "cell_type": "code",
   "execution_count": 6,
   "metadata": {
    "collapsed": true
   },
   "outputs": [],
   "source": [
    "scaler = preprocessing.StandardScaler().fit(X)\n",
    "X_transformed = scaler.transform(X)"
   ]
  },
  {
   "cell_type": "code",
   "execution_count": 7,
   "metadata": {
    "collapsed": true
   },
   "outputs": [],
   "source": [
    "X_train, X_test, y_train, y_test = train_test_split(pd.DataFrame(X_transformed), y, random_state = 4)"
   ]
  },
  {
   "cell_type": "code",
   "execution_count": 8,
   "metadata": {},
   "outputs": [
    {
     "name": "stdout",
     "output_type": "stream",
     "text": [
      "Logistic Regression with C = 0.000001\n",
      "Training Accuracy: 0.8313100903175682\n",
      "Test Accuracy: 0.8302418180052442\n",
      "----\n",
      "Logistic Regression with C = 0.000010\n",
      "Training Accuracy: 0.8759185523291574\n",
      "Test Accuracy: 0.8739438671457707\n",
      "----\n",
      "Logistic Regression with C = 0.000100\n",
      "Training Accuracy: 0.8964747013693308\n",
      "Test Accuracy: 0.8958920073807906\n",
      "----\n",
      "Logistic Regression with C = 0.100000\n",
      "Training Accuracy: 0.9005859311773656\n",
      "Test Accuracy: 0.8998737496358162\n",
      "----\n",
      "Logistic Regression with C = 1.000000\n",
      "Training Accuracy: 0.9003916998478522\n",
      "Test Accuracy: 0.8998737496358162\n",
      "----\n"
     ]
    }
   ],
   "source": [
    "for c in [0.000001, 0.00001, 0.0001, 0.1, 1]:\n",
    "    regressor = LogisticRegression(C = c)\n",
    "    regressor.fit(X_train, y_train)\n",
    "    print(\"Logistic Regression with C = {:.6f}\".format(c))\n",
    "    print(\"Training Accuracy: {}\".format(regressor.score(X_train, y_train)))\n",
    "    print(\"Test Accuracy: {}\".format(regressor.score(X_test, y_test)))\n",
    "    print(\"----\")"
   ]
  },
  {
   "cell_type": "markdown",
   "metadata": {},
   "source": [
    "Baseline model with Cross Validation"
   ]
  },
  {
   "cell_type": "code",
   "execution_count": 9,
   "metadata": {},
   "outputs": [
    {
     "name": "stdout",
     "output_type": "stream",
     "text": [
      "<bound method BaseEstimator.get_params of LogisticRegressionCV(Cs=[0.01, 0.1, 1, 10], class_weight=None, cv=5,\n",
      "           dual=False, fit_intercept=True, intercept_scaling=1.0,\n",
      "           max_iter=100, multi_class='ovr', n_jobs=1, penalty='l2',\n",
      "           random_state=0, refit=True, scoring='accuracy', solver='lbfgs',\n",
      "           tol=0.0001, verbose=0)>\n",
      "\n",
      "\n",
      "Prediction accuracy on Test Set: 0.899971\n"
     ]
    }
   ],
   "source": [
    "clf = LogisticRegressionCV(cv=5, Cs = [10**i for i in range(-2,2)],\n",
    "                           penalty = 'l2', random_state=0, \n",
    "                           scoring = 'accuracy',#,'precision','recall'],\n",
    "                           multi_class='ovr').fit(X_train, y_train)\n",
    "\n",
    "print(clf.get_params)\n",
    "print('\\n')\n",
    "print(\"Prediction %s on Test Set: %.6f\" %(clf.scoring, clf.score(X_test, y_test)))"
   ]
  },
  {
   "cell_type": "code",
   "execution_count": 10,
   "metadata": {
    "collapsed": true
   },
   "outputs": [],
   "source": [
    "def print_scores(clf, X_test):\n",
    "    y_pred = clf.predict(X_test)\n",
    "    print(\"Scores on Test Dataset\")\n",
    "    print(\"Accuracy Score: \", accuracy_score(y_test, y_pred))\n",
    "    print(\"Recall Score: \", recall_score(y_test, y_pred))\n",
    "    print(\"Precision Score: \", precision_score(y_test, y_pred))"
   ]
  },
  {
   "cell_type": "markdown",
   "metadata": {},
   "source": [
    "##### Precision (also called positive predictive value) is the fraction of relevant instances among the retrieved instances. "
   ]
  },
  {
   "cell_type": "markdown",
   "metadata": {},
   "source": [
    "##### Recall (also known as sensitivity) is the fraction of relevant instances that have been retrieved over the total amount of relevant instances."
   ]
  },
  {
   "cell_type": "markdown",
   "metadata": {},
   "source": [
    "Precision can be seen as a measure of exactness or quality, whereas recall is a measure of completeness or quantity."
   ]
  },
  {
   "cell_type": "markdown",
   "metadata": {},
   "source": [
    "Precision = TP/(TP+FP) ---- Recall = TP/(TP+FN)"
   ]
  },
  {
   "cell_type": "code",
   "execution_count": 11,
   "metadata": {},
   "outputs": [
    {
     "name": "stdout",
     "output_type": "stream",
     "text": [
      "Scores on Test Dataset\n",
      "Accuracy Score:  0.899970865300573\n",
      "Recall Score:  0.20926243567753003\n",
      "Precision Score:  0.6931818181818182\n"
     ]
    }
   ],
   "source": [
    "print_scores(clf, X_test)"
   ]
  },
  {
   "cell_type": "markdown",
   "metadata": {},
   "source": [
    "While accuracy seems high, we have quite a lot of false negatives i.e. labels we have misclassified as negative leading to a potential loss in revenue.\n",
    "We need higher recall, which might come at the cost of having lower precision but that's ok - we'd rather detect more real customers even if that means overguessing at times"
   ]
  },
  {
   "cell_type": "code",
   "execution_count": 12,
   "metadata": {
    "collapsed": true
   },
   "outputs": [],
   "source": [
    "def make_conf_matrix(clf, X_test):\n",
    "    y_pred = clf.predict(X_test)\n",
    "    cmx = pd.DataFrame(confusion_matrix(y_test, y_pred), \n",
    "                   index = ['No', 'Yes'],\n",
    "                   columns = ['No', 'Yes'])\n",
    "    return cmx"
   ]
  },
  {
   "cell_type": "code",
   "execution_count": 13,
   "metadata": {
    "collapsed": true
   },
   "outputs": [],
   "source": [
    "def plot_conf_matrix(cmx):\n",
    "    cmap = mpl.colors.ListedColormap(['green'])\n",
    "    cmap1 = mpl.colors.ListedColormap(['red'])\n",
    "    mask1 = (cmx.isin([cmx.iloc[0,0],cmx.iloc[1,1]]))\n",
    "    \n",
    "    f, ax = plt.subplots(figsize = (9,6))\n",
    "    sns.heatmap(cmx, annot=True, fmt = 'g', cmap = cmap,\n",
    "            cbar = False, annot_kws={\"size\": 20},\n",
    "            ax=ax)\n",
    "    sns.heatmap(cmx, mask=mask1 , cmap=cmap1, cbar=False)\n",
    "\n",
    "    ax.set_ylabel('True label', fontsize = 15)\n",
    "    ax.set_xlabel('Predicted label', fontsize = 15)\n",
    "    ax.set_title(\"Confusion Matrix\", fontsize = 20)\n",
    "    plt.show()"
   ]
  },
  {
   "cell_type": "code",
   "execution_count": 14,
   "metadata": {},
   "outputs": [
    {
     "data": {
      "image/png": "[encoded data removed]",
      "text/plain": [
       "<Figure size 648x432 with 1 Axes>"
      ]
     },
     "metadata": {
      "needs_background": "light"
     },
     "output_type": "display_data"
    }
   ],
   "source": [
    "#Creating Confusion Matrix for Dirty Model:\n",
    "cmx = make_conf_matrix(clf, X_test)\n",
    "plot_conf_matrix(cmx)"
   ]
  },
  {
   "cell_type": "code",
   "execution_count": 15,
   "metadata": {},
   "outputs": [
    {
     "name": "stdout",
     "output_type": "stream",
     "text": [
      "9023 108 922 244\n"
     ]
    }
   ],
   "source": [
    "#Sanity Check - verifying results \n",
    "y_pred = clf.predict(X_test)\n",
    "tn, fp, fn, tp = confusion_matrix(y_test, y_pred).ravel()\n",
    "print(tn, fp, fn, tp)\n",
    "#the results are correct"
   ]
  },
  {
   "cell_type": "markdown",
   "metadata": {},
   "source": [
    "##### We have 703 false negatives. This means we have 703 customers we are misclassifying as uninterested! In comparison with only 463 customers who are correctly classified as interested for a total of 1166 True Positives (sum across second row). We must try to move customers from the bottom left to the bottom right quadrants"
   ]
  },
  {
   "cell_type": "markdown",
   "metadata": {},
   "source": [
    "We want to increase the True Positive Rate = True Positives / (True Positives + False Negatives)\n",
    "The true positive rate is known as Recall or Sensitivity."
   ]
  },
  {
   "cell_type": "code",
   "execution_count": 16,
   "metadata": {
    "collapsed": true
   },
   "outputs": [],
   "source": [
    "y_pred = clf.predict_proba(X_test)"
   ]
  },
  {
   "cell_type": "code",
   "execution_count": 17,
   "metadata": {},
   "outputs": [
    {
     "data": {
      "text/html": [
       "<div>\n",
       "<style scoped>\n",
       "    .dataframe tbody tr th:only-of-type {\n",
       "        vertical-align: middle;\n",
       "    }\n",
       "\n",
       "    .dataframe tbody tr th {\n",
       "        vertical-align: top;\n",
       "    }\n",
       "\n",
       "    .dataframe thead th {\n",
       "        text-align: right;\n",
       "    }\n",
       "</style>\n",
       "<table border=\"1\" class=\"dataframe\">\n",
       "  <thead>\n",
       "    <tr style=\"text-align: right;\">\n",
       "      <th></th>\n",
       "      <th>0</th>\n",
       "      <th>1</th>\n",
       "    </tr>\n",
       "  </thead>\n",
       "  <tbody>\n",
       "    <tr>\n",
       "      <th>0</th>\n",
       "      <td>0.97</td>\n",
       "      <td>0.03</td>\n",
       "    </tr>\n",
       "    <tr>\n",
       "      <th>1</th>\n",
       "      <td>0.96</td>\n",
       "      <td>0.04</td>\n",
       "    </tr>\n",
       "    <tr>\n",
       "      <th>2</th>\n",
       "      <td>0.98</td>\n",
       "      <td>0.02</td>\n",
       "    </tr>\n",
       "    <tr>\n",
       "      <th>3</th>\n",
       "      <td>0.96</td>\n",
       "      <td>0.04</td>\n",
       "    </tr>\n",
       "    <tr>\n",
       "      <th>4</th>\n",
       "      <td>0.95</td>\n",
       "      <td>0.05</td>\n",
       "    </tr>\n",
       "  </tbody>\n",
       "</table>\n",
       "</div>"
      ],
      "text/plain": [
       "     0    1\n",
       "0 0.97 0.03\n",
       "1 0.96 0.04\n",
       "2 0.98 0.02\n",
       "3 0.96 0.04\n",
       "4 0.95 0.05"
      ]
     },
     "execution_count": 17,
     "metadata": {},
     "output_type": "execute_result"
    }
   ],
   "source": [
    "pd.DataFrame(y_pred).head()"
   ]
  },
  {
   "cell_type": "code",
   "execution_count": 18,
   "metadata": {
    "collapsed": true
   },
   "outputs": [],
   "source": [
    "#pd.DataFrame(y_pred).T.plot(kind='scatter')"
   ]
  },
  {
   "cell_type": "code",
   "execution_count": 19,
   "metadata": {
    "collapsed": true
   },
   "outputs": [],
   "source": [
    "def plot_precision_recall(clf, X_test):\n",
    "    \n",
    "    y_pred = clf.predict(X_test)\n",
    "    \n",
    "    p = np.linspace(10,100,len(y_pred))\n",
    "    \n",
    "    precision, recall, thresholds = precision_recall_curve(y_test, probas_pred=p)\n",
    "    average_precision = average_precision_score(y_test, y_pred)\n",
    "    \n",
    "    print('Average precision-recall score: {0:0.2f}'.format(average_precision))\n",
    "    # In matplotlib < 1.5, plt.fill_between does not have a 'step' argument\n",
    "    step_kwargs = ({'step': 'post'}\n",
    "                   if 'step' in signature(plt.fill_between).parameters\n",
    "                   else {})\n",
    "    plt.step(recall, precision, color='b', alpha=0.2,\n",
    "             where='post')\n",
    "    plt.fill_between(recall, precision, alpha=0.2, color='b', **step_kwargs)\n",
    "\n",
    "    plt.xlabel('Recall')\n",
    "    plt.ylabel('Precision')\n",
    "    plt.ylim([0.0, 1.05])\n",
    "    plt.xlim([0.0, 1.0])\n",
    "    plt.title('2-class Precision-Recall curve: AP={0:0.2f}'.format(average_precision))"
   ]
  },
  {
   "cell_type": "code",
   "execution_count": 20,
   "metadata": {},
   "outputs": [
    {
     "name": "stdout",
     "output_type": "stream",
     "text": [
      "Average precision-recall score: 0.23\n"
     ]
    },
    {
     "data": {
      "image/png": "[encoded data removed]",
      "text/plain": [
       "<Figure size 432x288 with 1 Axes>"
      ]
     },
     "metadata": {
      "needs_background": "light"
     },
     "output_type": "display_data"
    }
   ],
   "source": [
    "plot_precision_recall(clf, X_test)"
   ]
  },
  {
   "cell_type": "markdown",
   "metadata": {},
   "source": [
    "AP summarizes a precision-recall curve as the weighted mean of precisions achieved at each threshold, with the increase in recall from the previous threshold used as the weight:\n",
    "where  and  are the precision and recall at the nth threshold"
   ]
  },
  {
   "cell_type": "code",
   "execution_count": 21,
   "metadata": {},
   "outputs": [
    {
     "data": {
      "image/png": "[encoded data removed]",
      "text/plain": [
       "<Figure size 576x360 with 1 Axes>"
      ]
     },
     "metadata": {
      "needs_background": "light"
     },
     "output_type": "display_data"
    }
   ],
   "source": [
    "y_pred_proba = clf.predict_proba(X_test)[::,1]\n",
    "fpr, tpr, _ = roc_curve(y_test,  y_pred_proba)\n",
    "auc = roc_auc_score(y_test, y_pred_proba)\n",
    "\n",
    "plt.figure(figsize = (8,5))\n",
    "plt.plot(fpr,tpr,label=\"Test Set, auc=\"+str(auc))\n",
    "plt.title(\"Area Under the Curve\")\n",
    "plt.xlabel(\"False Positive Rate\")\n",
    "plt.ylabel(\"True Positive Rate\")\n",
    "plt.legend(loc=4)\n",
    "plt.show()"
   ]
  },
  {
   "cell_type": "code",
   "execution_count": 22,
   "metadata": {
    "collapsed": true
   },
   "outputs": [],
   "source": [
    "#StratifiedKFold is a variation of k-fold which returns stratified folds: \n",
    "#each set contains approximately the same percentage \n",
    "#of samples of each target class as the complete set.\n",
    "skf = StratifiedKFold(n_splits=5, random_state = 0)\n",
    "scores = []"
   ]
  },
  {
   "cell_type": "code",
   "execution_count": 23,
   "metadata": {
    "collapsed": true
   },
   "outputs": [],
   "source": [
    "def print_foldscore(X, y, kfold_obj, c):\n",
    "    \n",
    "    for k, (train, test) in enumerate(kfold_obj.split(X, y)):\n",
    "        regressor = LogisticRegression(C = c, multi_class = 'ovr')\n",
    "        regressor.fit(X.iloc[train], y.iloc[train])\n",
    "        print(\"[fold {0}] C: {1:.5f}, score: {2:.5f}\".format(k, regressor.C, regressor.score(X.iloc[test], y.iloc[test])))\n",
    "        scores.append(regressor.score(X.iloc[test], y.iloc[test]))"
   ]
  },
  {
   "cell_type": "code",
   "execution_count": 24,
   "metadata": {},
   "outputs": [
    {
     "name": "stdout",
     "output_type": "stream",
     "text": [
      "Value for C parameter:  0.01\n",
      "[fold 0] C: 0.01000, score: 0.90095\n",
      "[fold 1] C: 0.01000, score: 0.90095\n",
      "[fold 2] C: 0.01000, score: 0.89900\n",
      "[fold 3] C: 0.01000, score: 0.90110\n",
      "[fold 4] C: 0.01000, score: 0.90189\n",
      "----\n",
      "Value for C parameter:  0.1\n",
      "[fold 0] C: 0.10000, score: 0.89998\n",
      "[fold 1] C: 0.10000, score: 0.90015\n",
      "[fold 2] C: 0.10000, score: 0.89964\n",
      "[fold 3] C: 0.10000, score: 0.90045\n",
      "[fold 4] C: 0.10000, score: 0.90092\n",
      "----\n",
      "Value for C parameter:  1\n",
      "[fold 0] C: 1.00000, score: 0.89966\n",
      "[fold 1] C: 1.00000, score: 0.89950\n",
      "[fold 2] C: 1.00000, score: 0.89932\n",
      "[fold 3] C: 1.00000, score: 0.90045\n",
      "[fold 4] C: 1.00000, score: 0.90173\n",
      "----\n",
      "Value for C parameter:  10\n",
      "[fold 0] C: 10.00000, score: 0.89998\n",
      "[fold 1] C: 10.00000, score: 0.89934\n",
      "[fold 2] C: 10.00000, score: 0.89964\n",
      "[fold 3] C: 10.00000, score: 0.90013\n",
      "[fold 4] C: 10.00000, score: 0.90189\n",
      "----\n"
     ]
    }
   ],
   "source": [
    "for c in [10**i for i in range(-2,2)]:\n",
    "    print(\"Value for C parameter: \", c)\n",
    "    print_foldscore(X_train, y_train, skf, c)\n",
    "    print(\"----\")"
   ]
  },
  {
   "cell_type": "markdown",
   "metadata": {},
   "source": [
    "#### Optimization Algorithms Available (Solver Parameter)\n",
    "\n",
    "- LIBLINEAR – A Library for Large Linear Classification\n",
    "https://www.csie.ntu.edu.tw/~cjlin/liblinear/\n",
    "\n",
    "- SAG – Mark Schmidt, Nicolas Le Roux, and Francis Bach\n",
    "Minimizing Finite Sums with the Stochastic Average Gradient https://hal.inria.fr/hal-00860051/document\n",
    "\n",
    "- SAGA – Defazio, A., Bach F. & Lacoste-Julien S. (2014).\n",
    "SAGA: A Fast Incremental Gradient Method With Support for Non-Strongly Convex Composite Objectives https://arxiv.org/abs/1407.0202\n",
    "\n",
    "- Hsiang-Fu Yu, Fang-Lan Huang, Chih-Jen Lin (2011). Dual coordinate descent\n",
    "methods for logistic regression and maximum entropy models. Machine Learning 85(1-2):41-75. https://www.csie.ntu.edu.tw/~cjlin/papers/maxent_dual.pdf"
   ]
  },
  {
   "cell_type": "code",
   "execution_count": 25,
   "metadata": {},
   "outputs": [
    {
     "data": {
      "text/plain": [
       "array([ 0.01,  0.1 ,  1.  , 10.  ])"
      ]
     },
     "execution_count": 25,
     "metadata": {},
     "output_type": "execute_result"
    }
   ],
   "source": [
    "np.array([10**i for i in range(-2,2)])"
   ]
  },
  {
   "cell_type": "code",
   "execution_count": 26,
   "metadata": {
    "collapsed": true
   },
   "outputs": [],
   "source": [
    "def search_hyper(parameters, clf = LogisticRegressionCV(cv=5, random_state=0, Cs = np.logspace(-2, 3, num=6, base=10))):\n",
    "    gs = GridSearchCV(clf, parameters, cv = 3).fit(X_train, y_train)\n",
    "    print('Best Estimator: ')\n",
    "    gs.best_estimator_\n",
    "    print('----')\n",
    "    print_scores(gs.best_estimator_, X_test)\n",
    "    return gs.best_estimator_"
   ]
  },
  {
   "cell_type": "code",
   "execution_count": 27,
   "metadata": {
    "collapsed": true
   },
   "outputs": [],
   "source": [
    "parameters_1 = {'solver':['lbfgs', 'liblinear'],\n",
    "              'max_iter': [10,20,30], \n",
    "              'class_weight': ['balanced'],\n",
    "              'scoring':['accuracy']}"
   ]
  },
  {
   "cell_type": "code",
   "execution_count": 28,
   "metadata": {
    "collapsed": true
   },
   "outputs": [],
   "source": [
    "parameters_2 = {'solver':['lbfgs', 'liblinear'],\n",
    "              'max_iter': [10,20,30],\n",
    "              'class_weight': ['balanced'],\n",
    "              'scoring':['recall']}"
   ]
  },
  {
   "cell_type": "code",
   "execution_count": 29,
   "metadata": {
    "collapsed": true
   },
   "outputs": [],
   "source": [
    "parameters_3 = {'solver':['lbfgs', 'liblinear'],\n",
    "              'max_iter': [10,20,30],\n",
    "              'class_weight': ['None'],\n",
    "              'scoring':['recall']}"
   ]
  },
  {
   "cell_type": "code",
   "execution_count": 30,
   "metadata": {
    "collapsed": true
   },
   "outputs": [],
   "source": [
    "parameters_4 = {'solver':['lbfgs', 'liblinear'],\n",
    "              'max_iter': [60,70,80],\n",
    "              'class_weight': ['None'],\n",
    "              'scoring':['recall']}"
   ]
  },
  {
   "cell_type": "code",
   "execution_count": 31,
   "metadata": {},
   "outputs": [
    {
     "name": "stdout",
     "output_type": "stream",
     "text": [
      "Best Estimator: \n",
      "----\n",
      "Scores on Test Dataset\n",
      "Accuracy Score:  0.8025638535495776\n",
      "Recall Score:  0.6243567753001715\n",
      "Precision Score:  0.31338786052518297\n"
     ]
    },
    {
     "data": {
      "text/plain": [
       "LogisticRegressionCV(Cs=array([1.e-02, 1.e-01, 1.e+00, 1.e+01, 1.e+02, 1.e+03]),\n",
       "           class_weight='balanced', cv=5, dual=False, fit_intercept=True,\n",
       "           intercept_scaling=1.0, max_iter=10, multi_class='ovr', n_jobs=1,\n",
       "           penalty='l2', random_state=0, refit=True, scoring='accuracy',\n",
       "           solver='liblinear', tol=0.0001, verbose=0)"
      ]
     },
     "execution_count": 31,
     "metadata": {},
     "output_type": "execute_result"
    }
   ],
   "source": [
    "search_hyper(parameters_1)"
   ]
  },
  {
   "cell_type": "code",
   "execution_count": 32,
   "metadata": {},
   "outputs": [
    {
     "name": "stdout",
     "output_type": "stream",
     "text": [
      "Best Estimator: \n",
      "----\n",
      "Scores on Test Dataset\n",
      "Accuracy Score:  0.7797416723317471\n",
      "Recall Score:  0.6526586620926244\n",
      "Precision Score:  0.29001524390243905\n"
     ]
    },
    {
     "data": {
      "text/plain": [
       "LogisticRegressionCV(Cs=array([1.e-02, 1.e-01, 1.e+00, 1.e+01, 1.e+02, 1.e+03]),\n",
       "           class_weight='balanced', cv=5, dual=False, fit_intercept=True,\n",
       "           intercept_scaling=1.0, max_iter=20, multi_class='ovr', n_jobs=1,\n",
       "           penalty='l2', random_state=0, refit=True, scoring='recall',\n",
       "           solver='lbfgs', tol=0.0001, verbose=0)"
      ]
     },
     "execution_count": 32,
     "metadata": {},
     "output_type": "execute_result"
    }
   ],
   "source": [
    "search_hyper(parameters_2)"
   ]
  },
  {
   "cell_type": "code",
   "execution_count": 33,
   "metadata": {},
   "outputs": [
    {
     "name": "stdout",
     "output_type": "stream",
     "text": [
      "Best Estimator: \n",
      "----\n",
      "Scores on Test Dataset\n",
      "Accuracy Score:  0.8998737496358162\n",
      "Recall Score:  0.22641509433962265\n",
      "Precision Score:  0.6717557251908397\n"
     ]
    },
    {
     "data": {
      "text/plain": [
       "LogisticRegressionCV(Cs=array([1.e-02, 1.e-01, 1.e+00, 1.e+01, 1.e+02, 1.e+03]),\n",
       "           class_weight='None', cv=5, dual=False, fit_intercept=True,\n",
       "           intercept_scaling=1.0, max_iter=10, multi_class='ovr', n_jobs=1,\n",
       "           penalty='l2', random_state=0, refit=True, scoring='recall',\n",
       "           solver='lbfgs', tol=0.0001, verbose=0)"
      ]
     },
     "execution_count": 33,
     "metadata": {},
     "output_type": "execute_result"
    }
   ],
   "source": [
    "search_hyper(parameters_3)"
   ]
  },
  {
   "cell_type": "code",
   "execution_count": 34,
   "metadata": {},
   "outputs": [
    {
     "name": "stdout",
     "output_type": "stream",
     "text": [
      "Best Estimator: \n",
      "----\n",
      "Scores on Test Dataset\n",
      "Accuracy Score:  0.899970865300573\n",
      "Recall Score:  0.22641509433962265\n",
      "Precision Score:  0.673469387755102\n"
     ]
    },
    {
     "data": {
      "text/plain": [
       "LogisticRegressionCV(Cs=array([1.e-02, 1.e-01, 1.e+00, 1.e+01, 1.e+02, 1.e+03]),\n",
       "           class_weight='None', cv=5, dual=False, fit_intercept=True,\n",
       "           intercept_scaling=1.0, max_iter=60, multi_class='ovr', n_jobs=1,\n",
       "           penalty='l2', random_state=0, refit=True, scoring='recall',\n",
       "           solver='lbfgs', tol=0.0001, verbose=0)"
      ]
     },
     "execution_count": 34,
     "metadata": {},
     "output_type": "execute_result"
    }
   ],
   "source": [
    "search_hyper(parameters_4)"
   ]
  },
  {
   "cell_type": "code",
   "execution_count": 35,
   "metadata": {},
   "outputs": [
    {
     "name": "stdout",
     "output_type": "stream",
     "text": [
      "Best Estimator: \n",
      "----\n",
      "Scores on Test Dataset\n",
      "Accuracy Score:  0.7797416723317471\n",
      "Recall Score:  0.6526586620926244\n",
      "Precision Score:  0.29001524390243905\n",
      "Average precision-recall score: 0.23\n"
     ]
    },
    {
     "data": {
      "image/png": "[encoded data removed]",
      "text/plain": [
       "<Figure size 432x288 with 1 Axes>"
      ]
     },
     "metadata": {
      "needs_background": "light"
     },
     "output_type": "display_data"
    }
   ],
   "source": [
    "clf = search_hyper(parameters_2)\n",
    "plot_precision_recall(clf, X_test)"
   ]
  },
  {
   "cell_type": "markdown",
   "metadata": {},
   "source": [
    "Balanced classes are definitely helping out a lot! Let's continue with different parameters"
   ]
  },
  {
   "cell_type": "markdown",
   "metadata": {},
   "source": [
    "Let's try both l1 and l2 regularization"
   ]
  },
  {
   "cell_type": "code",
   "execution_count": 36,
   "metadata": {
    "collapsed": true
   },
   "outputs": [],
   "source": [
    "parameters_5 = {'solver':['saga'],\n",
    "              'max_iter': [100], \n",
    "              'class_weight': ['balanced'],\n",
    "              'scoring':['accuracy'],\n",
    "              'penalty':['l1', 'l2']}"
   ]
  },
  {
   "cell_type": "code",
   "execution_count": 37,
   "metadata": {},
   "outputs": [
    {
     "name": "stdout",
     "output_type": "stream",
     "text": [
      "Best Estimator: \n",
      "----\n",
      "Scores on Test Dataset\n",
      "Accuracy Score:  0.8025638535495776\n",
      "Recall Score:  0.6243567753001715\n",
      "Precision Score:  0.31338786052518297\n",
      "Average precision-recall score: 0.24\n"
     ]
    },
    {
     "data": {
      "image/png": "[encoded data removed]",
      "text/plain": [
       "<Figure size 432x288 with 1 Axes>"
      ]
     },
     "metadata": {
      "needs_background": "light"
     },
     "output_type": "display_data"
    }
   ],
   "source": [
    "clf = search_hyper(parameters_5)\n",
    "plot_precision_recall(clf, X_test)"
   ]
  },
  {
   "cell_type": "code",
   "execution_count": 38,
   "metadata": {},
   "outputs": [
    {
     "data": {
      "image/png": "[encoded data removed]",
      "text/plain": [
       "<Figure size 648x432 with 1 Axes>"
      ]
     },
     "metadata": {
      "needs_background": "light"
     },
     "output_type": "display_data"
    }
   ],
   "source": [
    "cmx = make_conf_matrix(clf, X_test)\n",
    "plot_conf_matrix(cmx)"
   ]
  },
  {
   "cell_type": "markdown",
   "metadata": {},
   "source": [
    "We have managed to greatly improve our recall, but the accuracy is nearly unchanged"
   ]
  },
  {
   "cell_type": "code",
   "execution_count": 39,
   "metadata": {
    "collapsed": true
   },
   "outputs": [],
   "source": [
    "pred_proba_df = pd.DataFrame(clf.predict_proba(X_test))\n",
    "threshold_list = [0.05,0.1,0.15,0.2,0.25,0.3,0.35,0.4,0.45,0.5,0.55,0.6,0.65,.7,.75,.8,.85,.9,.95,.99]"
   ]
  },
  {
   "cell_type": "code",
   "execution_count": 40,
   "metadata": {},
   "outputs": [
    {
     "name": "stdout",
     "output_type": "stream",
     "text": [
      "\n",
      "******** For i = 0.05 ******\n",
      "Our Test Set Accuracy is 0.11323686510634165\n",
      "Our Test Set Recall Score is 1.0\n",
      "Our Test Set Precision Score is 0.11323686510634165\n",
      "[[   0 9131]\n",
      " [   0 1166]]\n",
      "\n",
      "******** For i = 0.1 ******\n",
      "Our Test Set Accuracy is 0.11362532776536856\n",
      "Our Test Set Recall Score is 1.0\n",
      "Our Test Set Precision Score is 0.11328087049451083\n"
     ]
    },
    {
     "name": "stderr",
     "output_type": "stream",
     "text": [
      "/Users/pauldefusco/anaconda2/envs/py36/lib/python3.6/site-packages/ipykernel_launcher.py:5: FutureWarning: Method .as_matrix will be removed in a future version. Use .values instead.\n",
      "  \"\"\"\n",
      "/Users/pauldefusco/anaconda2/envs/py36/lib/python3.6/site-packages/ipykernel_launcher.py:6: FutureWarning: Method .as_matrix will be removed in a future version. Use .values instead.\n",
      "  \n",
      "/Users/pauldefusco/anaconda2/envs/py36/lib/python3.6/site-packages/ipykernel_launcher.py:9: FutureWarning: Method .as_matrix will be removed in a future version. Use .values instead.\n",
      "  if __name__ == '__main__':\n",
      "/Users/pauldefusco/anaconda2/envs/py36/lib/python3.6/site-packages/ipykernel_launcher.py:10: FutureWarning: Method .as_matrix will be removed in a future version. Use .values instead.\n",
      "  # Remove the CWD from sys.path while we load stuff.\n",
      "/Users/pauldefusco/anaconda2/envs/py36/lib/python3.6/site-packages/ipykernel_launcher.py:13: FutureWarning: Method .as_matrix will be removed in a future version. Use .values instead.\n",
      "  del sys.path[0]\n",
      "/Users/pauldefusco/anaconda2/envs/py36/lib/python3.6/site-packages/ipykernel_launcher.py:14: FutureWarning: Method .as_matrix will be removed in a future version. Use .values instead.\n",
      "  \n",
      "/Users/pauldefusco/anaconda2/envs/py36/lib/python3.6/site-packages/ipykernel_launcher.py:17: FutureWarning: Method .as_matrix will be removed in a future version. Use .values instead.\n",
      "/Users/pauldefusco/anaconda2/envs/py36/lib/python3.6/site-packages/ipykernel_launcher.py:18: FutureWarning: Method .as_matrix will be removed in a future version. Use .values instead.\n"
     ]
    },
    {
     "name": "stdout",
     "output_type": "stream",
     "text": [
      "[[   4 9127]\n",
      " [   0 1166]]\n",
      "\n",
      "******** For i = 0.15 ******\n",
      "Our Test Set Accuracy is 0.1214916966106633\n",
      "Our Test Set Recall Score is 0.9991423670668954\n",
      "Our Test Set Precision Score is 0.11410381978452498\n",
      "[[  86 9045]\n",
      " [   1 1165]]\n",
      "\n",
      "******** For i = 0.2 ******\n",
      "Our Test Set Accuracy is 0.1726716519374575\n",
      "Our Test Set Recall Score is 0.9794168096054888\n",
      "Our Test Set Precision Score is 0.11850160838435198\n",
      "[[ 636 8495]\n",
      " [  24 1142]]\n",
      "\n",
      "******** For i = 0.25 ******\n",
      "Our Test Set Accuracy is 0.3219384286685442\n",
      "Our Test Set Recall Score is 0.9193825042881647\n",
      "Our Test Set Precision Score is 0.13467336683417086\n",
      "[[2243 6888]\n",
      " [  94 1072]]\n",
      "\n",
      "******** For i = 0.3 ******\n",
      "Our Test Set Accuracy is 0.5303486452364766\n",
      "Our Test Set Recall Score is 0.8267581475128645\n",
      "Our Test Set Precision Score is 0.17220435869953554\n",
      "[[4497 4634]\n",
      " [ 202  964]]\n",
      "\n",
      "******** For i = 0.35 ******\n",
      "Our Test Set Accuracy is 0.6725259784403225\n",
      "Our Test Set Recall Score is 0.7307032590051458\n",
      "Our Test Set Precision Score is 0.21790281329923275\n",
      "[[6073 3058]\n",
      " [ 314  852]]\n",
      "\n",
      "******** For i = 0.4 ******\n",
      "Our Test Set Accuracy is 0.741963678741381\n",
      "Our Test Set Recall Score is 0.6869639794168096\n",
      "Our Test Set Precision Score is 0.25897187196896215\n",
      "[[6839 2292]\n",
      " [ 365  801]]\n",
      "\n",
      "******** For i = 0.45 ******\n",
      "Our Test Set Accuracy is 0.7740118481111004\n",
      "Our Test Set Recall Score is 0.6595197255574614\n",
      "Our Test Set Precision Score is 0.28492034086698775\n",
      "[[7201 1930]\n",
      " [ 397  769]]\n",
      "\n",
      "******** For i = 0.5 ******\n",
      "Our Test Set Accuracy is 0.8025638535495776\n",
      "Our Test Set Recall Score is 0.6243567753001715\n",
      "Our Test Set Precision Score is 0.31338786052518297\n",
      "[[7536 1595]\n",
      " [ 438  728]]\n",
      "\n",
      "******** For i = 0.55 ******\n",
      "Our Test Set Accuracy is 0.8328639409536758\n",
      "Our Test Set Recall Score is 0.5926243567753001\n",
      "Our Test Set Precision Score is 0.3567372225090346\n",
      "[[7885 1246]\n",
      " [ 475  691]]\n",
      "\n",
      "******** For i = 0.6 ******\n",
      "Our Test Set Accuracy is 0.8457803243663203\n",
      "Our Test Set Recall Score is 0.5660377358490566\n",
      "Our Test Set Precision Score is 0.3788748564867968\n",
      "[[8049 1082]\n",
      " [ 506  660]]\n",
      "\n",
      "******** For i = 0.65 ******\n",
      "Our Test Set Accuracy is 0.8502476449451296\n",
      "Our Test Set Recall Score is 0.5360205831903945\n",
      "Our Test Set Precision Score is 0.3843788437884379\n",
      "[[8130 1001]\n",
      " [ 541  625]]\n",
      "\n",
      "******** For i = 0.7 ******\n",
      "Our Test Set Accuracy is 0.8648149946586384\n",
      "Our Test Set Recall Score is 0.5120068610634648\n",
      "Our Test Set Precision Score is 0.4204225352112676\n",
      "[[8308  823]\n",
      " [ 569  597]]\n",
      "\n",
      "******** For i = 0.75 ******\n",
      "Our Test Set Accuracy is 0.8796736913664174\n",
      "Our Test Set Recall Score is 0.4305317324185249\n",
      "Our Test Set Precision Score is 0.4661095636025998\n",
      "[[8556  575]\n",
      " [ 664  502]]\n",
      "\n",
      "******** For i = 0.8 ******\n",
      "Our Test Set Accuracy is 0.8884141011945227\n",
      "Our Test Set Recall Score is 0.36620926243567753\n",
      "Our Test Set Precision Score is 0.5101553166069295\n",
      "[[8721  410]\n",
      " [ 739  427]]\n",
      "\n",
      "******** For i = 0.85 ******\n",
      "Our Test Set Accuracy is 0.8929785374380887\n",
      "Our Test Set Recall Score is 0.2830188679245283\n",
      "Our Test Set Precision Score is 0.5536912751677853\n",
      "[[8865  266]\n",
      " [ 836  330]]\n",
      "\n",
      "******** For i = 0.9 ******\n",
      "Our Test Set Accuracy is 0.9001650966300865\n",
      "Our Test Set Recall Score is 0.20840480274442538\n",
      "Our Test Set Precision Score is 0.6982758620689655\n",
      "[[9026  105]\n",
      " [ 923  243]]\n",
      "\n",
      "******** For i = 0.95 ******\n",
      "Our Test Set Accuracy is 0.8958920073807906\n",
      "Our Test Set Recall Score is 0.11578044596912522\n",
      "Our Test Set Precision Score is 0.7670454545454546\n",
      "[[9090   41]\n",
      " [1031  135]]\n",
      "\n",
      "******** For i = 0.99 ******\n",
      "Our Test Set Accuracy is 0.8867631348936583\n",
      "Our Test Set Recall Score is 0.0\n",
      "Our Test Set Precision Score is 0.0\n",
      "[[9131    0]\n",
      " [1166    0]]\n"
     ]
    },
    {
     "name": "stderr",
     "output_type": "stream",
     "text": [
      "/Users/pauldefusco/anaconda2/envs/py36/lib/python3.6/site-packages/sklearn/metrics/classification.py:1135: UndefinedMetricWarning: Precision is ill-defined and being set to 0.0 due to no predicted samples.\n",
      "  'precision', 'predicted', average, warn_for)\n"
     ]
    }
   ],
   "source": [
    "for i in threshold_list:\n",
    "    print ('\\n******** For i = {} ******'.format(i))\n",
    "    Y_test_pred = pred_proba_df.applymap(lambda x: 1 if x>i else 0)\n",
    "    \n",
    "    test_accuracy = accuracy_score(y_test.as_matrix().reshape(y_test.as_matrix().size,1),\n",
    "        Y_test_pred.iloc[:,1].as_matrix().reshape(Y_test_pred.iloc[:,1].as_matrix().size,1))\n",
    "    print('Our Test Set Accuracy is {}'.format(test_accuracy))\n",
    "\n",
    "    test_recall = recall_score(y_test.as_matrix().reshape(y_test.as_matrix().size,1),\n",
    "        Y_test_pred.iloc[:,1].as_matrix().reshape(Y_test_pred.iloc[:,1].as_matrix().size,1))\n",
    "    print('Our Test Set Recall Score is {}'.format(test_recall))\n",
    "\n",
    "    test_precision = precision_score(y_test.as_matrix().reshape(y_test.as_matrix().size,1),\n",
    "        Y_test_pred.iloc[:,1].as_matrix().reshape(Y_test_pred.iloc[:,1].as_matrix().size,1))\n",
    "    print('Our Test Set Precision Score is {}'.format(test_precision))\n",
    "    \n",
    "    print(confusion_matrix(y_test.as_matrix().reshape(y_test.as_matrix().size,1),\n",
    "        Y_test_pred.iloc[:,1].as_matrix().reshape(Y_test_pred.iloc[:,1].as_matrix().size,1)))"
   ]
  }
 ],
 "metadata": {
  "kernelspec": {
   "display_name": "Python 3",
   "language": "python",
   "name": "python3"
  },
  "language_info": {
   "codemirror_mode": {
    "name": "ipython",
    "version": 3
   },
   "file_extension": ".py",
   "mimetype": "text/x-python",
   "name": "python",
   "nbconvert_exporter": "python",
   "pygments_lexer": "ipython3",
   "version": "3.6.3"
  }
 },
 "nbformat": 4,
 "nbformat_minor": 2
}
