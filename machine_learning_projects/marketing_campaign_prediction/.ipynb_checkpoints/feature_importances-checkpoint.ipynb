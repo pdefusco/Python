{
 "cells": [
  {
   "cell_type": "markdown",
   "metadata": {},
   "source": [
    "### Feature Importances:"
   ]
  },
  {
   "cell_type": "markdown",
   "metadata": {},
   "source": [
    "- Objective: identify most important features for ML algorithm\n",
    "- Method: first use Univariate tests to discard poor features (important when dealing with many features)\n",
    "    Then, use recursive feature elimination and feature importances to get a feeling for ranking among features left\n"
   ]
  },
  {
   "cell_type": "markdown",
   "metadata": {},
   "source": [
    "Dilemma: should we tune a model before feeding it to RFECV? Answer: first loosely tune models and then use regularized decision trees for a potentially more rigorouse answer:\n",
    "            https://arxiv.org/pdf/1201.1587.pdf"
   ]
  },
  {
   "cell_type": "code",
   "execution_count": 35,
   "metadata": {},
   "outputs": [
    {
     "name": "stdout",
     "output_type": "stream",
     "text": [
      "The autoreload extension is already loaded. To reload it, use:\n",
      "  %reload_ext autoreload\n"
     ]
    }
   ],
   "source": [
    "%load_ext autoreload\n",
    "\n",
    "%autoreload 2"
   ]
  },
  {
   "cell_type": "code",
   "execution_count": 8,
   "metadata": {
    "collapsed": true
   },
   "outputs": [],
   "source": [
    "%matplotlib inline\n",
    "import pandas as pd\n",
    "import numpy as np\n",
    "from scipy.io import arff\n",
    "import matplotlib.pyplot as plt\n",
    "import seaborn as sns\n",
    "import matplotlib as mpl"
   ]
  },
  {
   "cell_type": "code",
   "execution_count": 32,
   "metadata": {
    "collapsed": true
   },
   "outputs": [],
   "source": [
    "from sklearn.model_selection import train_test_split, StratifiedKFold, GridSearchCV, cross_val_score\n",
    "from sklearn import preprocessing\n",
    "from sklearn.pipeline import make_pipeline\n",
    "from sklearn.metrics import confusion_matrix, precision_score, recall_score, average_precision_score\n",
    "from sklearn.metrics import accuracy_score, roc_curve, roc_auc_score, precision_recall_curve\n",
    "from sklearn.metrics import classification_report\n",
    "from sklearn.utils.fixes import signature\n",
    "pd.options.display.float_format = '{:.2f}'.format\n",
    "pd.set_option('display.float_format', lambda x: '%.3f' % x)"
   ]
  },
  {
   "cell_type": "code",
   "execution_count": 10,
   "metadata": {
    "collapsed": true
   },
   "outputs": [],
   "source": [
    "#Loading df1:\n",
    "df = pd.read_pickle('data/pickle_files/df_pickle')\n",
    "#Excluding the duration variable as it cannot be used in our baseline\n",
    "df = df.drop(columns = ['duration'])"
   ]
  },
  {
   "cell_type": "code",
   "execution_count": 11,
   "metadata": {
    "collapsed": true
   },
   "outputs": [],
   "source": [
    "#Checking dtypes have loaded correctly (should return empty index)\n",
    "df.select_dtypes(exclude = ['float64', 'int64']).columns\n",
    "\n",
    "y = df['y']\n",
    "X = df.drop(columns=['y'])"
   ]
  },
  {
   "cell_type": "code",
   "execution_count": 14,
   "metadata": {
    "collapsed": true
   },
   "outputs": [],
   "source": [
    "names = X.columns\n",
    "names = list(names)"
   ]
  },
  {
   "cell_type": "code",
   "execution_count": 15,
   "metadata": {
    "collapsed": true
   },
   "outputs": [],
   "source": [
    "scaler = preprocessing.StandardScaler().fit(X)\n",
    "X_transformed = scaler.transform(X)"
   ]
  },
  {
   "cell_type": "code",
   "execution_count": 17,
   "metadata": {
    "collapsed": true
   },
   "outputs": [],
   "source": [
    "y = np.array(y)"
   ]
  },
  {
   "cell_type": "code",
   "execution_count": 18,
   "metadata": {
    "collapsed": true
   },
   "outputs": [],
   "source": [
    "X = X_transformed.copy()"
   ]
  },
  {
   "cell_type": "markdown",
   "metadata": {},
   "source": [
    "Univariate Feature Selection"
   ]
  },
  {
   "cell_type": "code",
   "execution_count": 23,
   "metadata": {
    "collapsed": true
   },
   "outputs": [],
   "source": [
    "from sklearn.feature_selection import SelectKBest, f_classif, mutual_info_classif"
   ]
  },
  {
   "cell_type": "code",
   "execution_count": 53,
   "metadata": {
    "collapsed": true
   },
   "outputs": [],
   "source": [
    "#Using F Classifier scoring function\n",
    "test = SelectKBest(score_func=f_classif, k='all')\n",
    "fit = test.fit(X, y)\n",
    "# summarize scores\n",
    "np.set_printoptions(precision=3)"
   ]
  },
  {
   "cell_type": "code",
   "execution_count": 58,
   "metadata": {},
   "outputs": [
    {
     "data": {
      "text/plain": [
       "[('nr.employed', 5926.610646027028),\n",
       " ('pdays', 4861.173272050324),\n",
       " ('euribor3m', 4309.479048107382),\n",
       " ('emp.var.rate', 4023.829925482691),\n",
       " ('previous', 2304.2570879403065),\n",
       " ('contact', 881.7070703063209),\n",
       " ('cons.price.idx', 778.5897856862763),\n",
       " ('poutcome', 705.6781644424019),\n",
       " ('default', 410.59078467352856),\n",
       " ('campaign', 182.1566728780736),\n",
       " ('education', 138.05175550828088),\n",
       " ('cons.conf.idx', 124.40997473778026),\n",
       " ('marital', 88.10704673114796),\n",
       " ('age', 38.094659288983294),\n",
       " ('job', 26.00986466893916),\n",
       " ('day_of_week', 10.503095880443485),\n",
       " ('housing', 5.496653388850058),\n",
       " ('month', 1.5149396996257602),\n",
       " ('loan', 0.9923712541373586)]"
      ]
     },
     "execution_count": 58,
     "metadata": {},
     "output_type": "execute_result"
    }
   ],
   "source": [
    "sorted(list(zip(names,list(fit.scores_))), key=lambda tup:tup[1], reverse=True)"
   ]
  },
  {
   "cell_type": "code",
   "execution_count": 60,
   "metadata": {
    "collapsed": true
   },
   "outputs": [],
   "source": [
    "#Same as above with Mutual Info classification scoring function\n",
    "test = SelectKBest(score_func=mutual_info_classif, k='all')\n",
    "fit = test.fit(X, y)\n",
    "# summarize scores\n",
    "np.set_printoptions(precision=3)"
   ]
  },
  {
   "cell_type": "code",
   "execution_count": 61,
   "metadata": {},
   "outputs": [
    {
     "data": {
      "text/plain": [
       "[('euribor3m', 0.07362531819079576),\n",
       " ('cons.conf.idx', 0.0693597224867446),\n",
       " ('cons.price.idx', 0.06794686386975957),\n",
       " ('nr.employed', 0.06418966306020213),\n",
       " ('emp.var.rate', 0.056370561691607035),\n",
       " ('pdays', 0.03361003561681852),\n",
       " ('poutcome', 0.03199249344529087),\n",
       " ('month', 0.02560080989118152),\n",
       " ('previous', 0.01979470817988993),\n",
       " ('age', 0.014215531098497491),\n",
       " ('contact', 0.013742130404887698),\n",
       " ('job', 0.012247581717139022),\n",
       " ('default', 0.009371262832790883),\n",
       " ('campaign', 0.00405829100507793),\n",
       " ('education', 0.0037674607712745445),\n",
       " ('marital', 0.002882621775037064),\n",
       " ('housing', 0.002699477033664799),\n",
       " ('loan', 0.002319820994676869),\n",
       " ('day_of_week', 0.0005053778487242866)]"
      ]
     },
     "execution_count": 61,
     "metadata": {},
     "output_type": "execute_result"
    }
   ],
   "source": [
    "sorted(list(zip(names,list(fit.scores_))), key=lambda tup:tup[1], reverse=True)"
   ]
  },
  {
   "cell_type": "markdown",
   "metadata": {},
   "source": [
    "Recursive Feature Elimination"
   ]
  },
  {
   "cell_type": "code",
   "execution_count": 3,
   "metadata": {
    "collapsed": true
   },
   "outputs": [],
   "source": [
    "from sklearn.feature_selection import RFE\n",
    "from sklearn.linear_model import LogisticRegression"
   ]
  },
  {
   "cell_type": "code",
   "execution_count": 66,
   "metadata": {
    "collapsed": true
   },
   "outputs": [],
   "source": [
    "model = LogisticRegression()\n",
    "rfe = RFE(model, 10)\n",
    "fit = rfe.fit(X, y)"
   ]
  },
  {
   "cell_type": "code",
   "execution_count": 78,
   "metadata": {},
   "outputs": [
    {
     "name": "stdout",
     "output_type": "stream",
     "text": [
      "Num Features Selected: 10\n"
     ]
    }
   ],
   "source": [
    "print(\"Num Features Selected: %d\" % (fit.n_features_))\n",
    "#print(\"Selected Features: %s\" % (fit.support_))\n",
    "#print(\"Feature Ranking: %s\" % (fit.ranking_))"
   ]
  },
  {
   "cell_type": "code",
   "execution_count": 79,
   "metadata": {},
   "outputs": [
    {
     "data": {
      "text/plain": [
       "[('campaign', 1),\n",
       " ('pdays', 1),\n",
       " ('emp.var.rate', 1),\n",
       " ('cons.price.idx', 1),\n",
       " ('euribor3m', 1),\n",
       " ('nr.employed', 1),\n",
       " ('default', 1),\n",
       " ('contact', 1),\n",
       " ('month', 1),\n",
       " ('poutcome', 1),\n",
       " ('cons.conf.idx', 2),\n",
       " ('day_of_week', 3),\n",
       " ('education', 4),\n",
       " ('marital', 5),\n",
       " ('age', 6),\n",
       " ('previous', 7),\n",
       " ('housing', 8),\n",
       " ('job', 9),\n",
       " ('loan', 10)]"
      ]
     },
     "execution_count": 79,
     "metadata": {},
     "output_type": "execute_result"
    }
   ],
   "source": [
    "sorted(list(zip(names, fit.ranking_)), key=lambda tup:tup[1], reverse=False)"
   ]
  },
  {
   "cell_type": "markdown",
   "metadata": {},
   "source": [
    "Feature Importance with Decision Trees"
   ]
  },
  {
   "cell_type": "code",
   "execution_count": 70,
   "metadata": {
    "collapsed": true
   },
   "outputs": [],
   "source": [
    "from sklearn.ensemble import ExtraTreesClassifier"
   ]
  },
  {
   "cell_type": "code",
   "execution_count": 71,
   "metadata": {},
   "outputs": [
    {
     "name": "stdout",
     "output_type": "stream",
     "text": [
      "[0.177 0.104 0.061 0.013 0.049 0.023 0.027 0.099 0.043 0.091 0.049 0.08\n",
      " 0.012 0.036 0.026 0.013 0.015 0.062 0.02 ]\n"
     ]
    }
   ],
   "source": [
    "model = ExtraTreesClassifier()\n",
    "model.fit(X, y)\n",
    "print(model.feature_importances_)"
   ]
  },
  {
   "cell_type": "code",
   "execution_count": 81,
   "metadata": {},
   "outputs": [
    {
     "data": {
      "text/plain": [
       "[('age', 0.1767341674850583),\n",
       " ('campaign', 0.10379980130475966),\n",
       " ('euribor3m', 0.09925860005973888),\n",
       " ('job', 0.09126972324127354),\n",
       " ('education', 0.08045474640321133),\n",
       " ('day_of_week', 0.06222333962791955),\n",
       " ('pdays', 0.06078769784667078),\n",
       " ('emp.var.rate', 0.049393155853880356),\n",
       " ('marital', 0.048805752559230864),\n",
       " ('nr.employed', 0.04347115348941223),\n",
       " ('housing', 0.03586110429424358),\n",
       " ('cons.conf.idx', 0.026771841783661994),\n",
       " ('loan', 0.025977819253523993),\n",
       " ('cons.price.idx', 0.023061937406881908),\n",
       " ('poutcome', 0.020062518168205562),\n",
       " ('month', 0.014638971017091482),\n",
       " ('previous', 0.01309584031572274),\n",
       " ('contact', 0.012817344626577899),\n",
       " ('default', 0.011514485262935354)]"
      ]
     },
     "execution_count": 81,
     "metadata": {},
     "output_type": "execute_result"
    }
   ],
   "source": [
    "sorted(list(zip(names, model.feature_importances_)), key=lambda tup:tup[1], reverse=True)"
   ]
  },
  {
   "cell_type": "code",
   "execution_count": null,
   "metadata": {
    "collapsed": true
   },
   "outputs": [],
   "source": [
    "#Do CV with RFE and try regularized tree estimator"
   ]
  }
 ],
 "metadata": {
  "kernelspec": {
   "display_name": "Python 3",
   "language": "python",
   "name": "python3"
  },
  "language_info": {
   "codemirror_mode": {
    "name": "ipython",
    "version": 3
   },
   "file_extension": ".py",
   "mimetype": "text/x-python",
   "name": "python",
   "nbconvert_exporter": "python",
   "pygments_lexer": "ipython3",
   "version": "3.6.3"
  }
 },
 "nbformat": 4,
 "nbformat_minor": 2
}
