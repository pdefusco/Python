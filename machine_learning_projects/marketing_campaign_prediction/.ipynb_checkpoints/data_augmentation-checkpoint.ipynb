{
 "cells": [
  {
   "cell_type": "markdown",
   "metadata": {},
   "source": [
    "### Notebook to Explore New Data Sources"
   ]
  },
  {
   "cell_type": "markdown",
   "metadata": {},
   "source": [
    "Datasources found at https://www.ine.pt/xportal/xmain?xpid=INE&xpgid=ine_princindic"
   ]
  },
  {
   "cell_type": "code",
   "execution_count": 323,
   "metadata": {
    "collapsed": true
   },
   "outputs": [],
   "source": [
    "import os\n",
    "import pandas as pd\n",
    "import xlrd \n",
    "import numpy as np"
   ]
  },
  {
   "cell_type": "code",
   "execution_count": 533,
   "metadata": {},
   "outputs": [
    {
     "data": {
      "text/plain": [
       "['.DS_Store',\n",
       " 'cons_confidence_monthly_portugal.xls',\n",
       " 'eco_activity_monthly_portugal.xlsx',\n",
       " 'other_stats_monthly_portugal.xlsx',\n",
       " 'harmonized_cons_prices_monthly_portugal.xls',\n",
       " 'railway_passengers_monthly_portugal.xls',\n",
       " 'daily_euribor3m.csv',\n",
       " 'hotel_guests_monthly_portugal.xls',\n",
       " 'industry_employment_index_monthly_portugal.xls',\n",
       " 'unemployment_monthly_portugal.xls',\n",
       " 'newhousing_construction_index_monthly_portugal.xls',\n",
       " 'turnover_index_industry_monthly_portugal.xls']"
      ]
     },
     "execution_count": 533,
     "metadata": {},
     "output_type": "execute_result"
    }
   ],
   "source": [
    "dirname = 'data/data_augmentation/'\n",
    "os.listdir(dirname)"
   ]
  },
  {
   "cell_type": "code",
   "execution_count": null,
   "metadata": {
    "collapsed": true
   },
   "outputs": [],
   "source": [
    "#cons_confidence_monthly_portugal.xls"
   ]
  },
  {
   "cell_type": "code",
   "execution_count": 337,
   "metadata": {
    "collapsed": true
   },
   "outputs": [],
   "source": [
    "cons_conf_df = pd.read_excel(dirname+'cons_confidence_monthly_portugal.xls',\n",
    "              sheet_name = 'Table', encoding='utf-8')"
   ]
  },
  {
   "cell_type": "code",
   "execution_count": 338,
   "metadata": {},
   "outputs": [
    {
     "data": {
      "text/html": [
       "<div>\n",
       "<style scoped>\n",
       "    .dataframe tbody tr th:only-of-type {\n",
       "        vertical-align: middle;\n",
       "    }\n",
       "\n",
       "    .dataframe tbody tr th {\n",
       "        vertical-align: top;\n",
       "    }\n",
       "\n",
       "    .dataframe thead th {\n",
       "        text-align: right;\n",
       "    }\n",
       "</style>\n",
       "<table border=\"1\" class=\"dataframe\">\n",
       "  <thead>\n",
       "    <tr style=\"text-align: right;\">\n",
       "      <th></th>\n",
       "      <th>Statistical table extracted on January 06, 2019 (06:16:19)</th>\n",
       "      <th>Unnamed: 1</th>\n",
       "      <th>Unnamed: 2</th>\n",
       "    </tr>\n",
       "  </thead>\n",
       "  <tbody>\n",
       "    <tr>\n",
       "      <th>0</th>\n",
       "      <td>http://www.ine.pt</td>\n",
       "      <td>NaN</td>\n",
       "      <td>NaN</td>\n",
       "    </tr>\n",
       "    <tr>\n",
       "      <th>1</th>\n",
       "      <td>NaN</td>\n",
       "      <td>NaN</td>\n",
       "      <td>NaN</td>\n",
       "    </tr>\n",
       "    <tr>\n",
       "      <th>2</th>\n",
       "      <td>NaN</td>\n",
       "      <td>NaN</td>\n",
       "      <td>NaN</td>\n",
       "    </tr>\n",
       "    <tr>\n",
       "      <th>3</th>\n",
       "      <td>Data reference period</td>\n",
       "      <td>Consumers confidence indicator (Balance); Monthly</td>\n",
       "      <td>NaN</td>\n",
       "    </tr>\n",
       "    <tr>\n",
       "      <th>4</th>\n",
       "      <td>NaN</td>\n",
       "      <td>Place of residence</td>\n",
       "      <td>NaN</td>\n",
       "    </tr>\n",
       "    <tr>\n",
       "      <th>5</th>\n",
       "      <td>NaN</td>\n",
       "      <td>Portugal</td>\n",
       "      <td>NaN</td>\n",
       "    </tr>\n",
       "    <tr>\n",
       "      <th>6</th>\n",
       "      <td>NaN</td>\n",
       "      <td>PT</td>\n",
       "      <td>NaN</td>\n",
       "    </tr>\n",
       "    <tr>\n",
       "      <th>7</th>\n",
       "      <td>NaN</td>\n",
       "      <td>%</td>\n",
       "      <td>NaN</td>\n",
       "    </tr>\n",
       "    <tr>\n",
       "      <th>8</th>\n",
       "      <td>December 2018</td>\n",
       "      <td>-2.7</td>\n",
       "      <td>NaN</td>\n",
       "    </tr>\n",
       "    <tr>\n",
       "      <th>9</th>\n",
       "      <td>November 2018</td>\n",
       "      <td>-3.4</td>\n",
       "      <td>NaN</td>\n",
       "    </tr>\n",
       "  </tbody>\n",
       "</table>\n",
       "</div>"
      ],
      "text/plain": [
       "  Statistical table extracted on January 06, 2019 (06:16:19)  \\\n",
       "0                                  http://www.ine.pt           \n",
       "1                                                NaN           \n",
       "2                                                NaN           \n",
       "3                              Data reference period           \n",
       "4                                                NaN           \n",
       "5                                                NaN           \n",
       "6                                                NaN           \n",
       "7                                                NaN           \n",
       "8                                      December 2018           \n",
       "9                                      November 2018           \n",
       "\n",
       "                                          Unnamed: 1  Unnamed: 2  \n",
       "0                                                NaN         NaN  \n",
       "1                                                NaN         NaN  \n",
       "2                                                NaN         NaN  \n",
       "3  Consumers confidence indicator (Balance); Monthly         NaN  \n",
       "4                                 Place of residence         NaN  \n",
       "5                                           Portugal         NaN  \n",
       "6                                                 PT         NaN  \n",
       "7                                                 %          NaN  \n",
       "8                                               -2.7         NaN  \n",
       "9                                               -3.4         NaN  "
      ]
     },
     "execution_count": 338,
     "metadata": {},
     "output_type": "execute_result"
    }
   ],
   "source": [
    "cons_conf_df.head(10)"
   ]
  },
  {
   "cell_type": "code",
   "execution_count": 339,
   "metadata": {
    "collapsed": true
   },
   "outputs": [],
   "source": [
    "cons_conf_df.drop(cons_conf_df.index[[0,1,2,3,4,5,6,7]], inplace=True)"
   ]
  },
  {
   "cell_type": "code",
   "execution_count": 340,
   "metadata": {
    "collapsed": true
   },
   "outputs": [],
   "source": [
    "cons_conf_df.columns = ['Date', 'Consumers confidence indicator - monthly balance', 'delete']"
   ]
  },
  {
   "cell_type": "code",
   "execution_count": 341,
   "metadata": {
    "collapsed": true
   },
   "outputs": [],
   "source": [
    "cons_conf_df.drop(columns = ['delete'], inplace=True)"
   ]
  },
  {
   "cell_type": "code",
   "execution_count": 342,
   "metadata": {
    "collapsed": true
   },
   "outputs": [],
   "source": [
    "cons_conf_df.reset_index(inplace=True)\n",
    "cons_conf_df.drop('index', axis=1, inplace=True)"
   ]
  },
  {
   "cell_type": "code",
   "execution_count": 343,
   "metadata": {
    "collapsed": true
   },
   "outputs": [],
   "source": [
    "end_idx = cons_conf_df.index[-1]\n",
    "start_idx = cons_conf_df.index[-1] - 4\n",
    "\n",
    "cons_conf_df.drop(cons_conf_df.index[list(range(start_idx,end_idx))], inplace=True)"
   ]
  },
  {
   "cell_type": "code",
   "execution_count": 344,
   "metadata": {
    "collapsed": true
   },
   "outputs": [],
   "source": [
    "cons_conf_df['month'] = [i[0] for i in cons_conf_df['Date'].str.split(' ')]\n",
    "cons_conf_df['year'] = [i[1] for i in cons_conf_df['Date'].str.split(' ')]\n",
    "#del cons_conf_df['Date']"
   ]
  },
  {
   "cell_type": "code",
   "execution_count": 345,
   "metadata": {},
   "outputs": [
    {
     "data": {
      "text/plain": [
       "Date                                                0\n",
       "Consumers confidence indicator - monthly balance    1\n",
       "month                                               0\n",
       "year                                                0\n",
       "dtype: int64"
      ]
     },
     "execution_count": 345,
     "metadata": {},
     "output_type": "execute_result"
    }
   ],
   "source": [
    "cons_conf_df.isna().sum()"
   ]
  },
  {
   "cell_type": "code",
   "execution_count": 346,
   "metadata": {},
   "outputs": [],
   "source": [
    "cons_conf_df.dropna(inplace=True)"
   ]
  },
  {
   "cell_type": "code",
   "execution_count": 347,
   "metadata": {},
   "outputs": [],
   "source": [
    "cons_conf_df.year = pd.to_numeric(cons_conf_df.year, errors = 'coerce').astype(np.int64)"
   ]
  },
  {
   "cell_type": "code",
   "execution_count": 348,
   "metadata": {},
   "outputs": [],
   "source": [
    "cons_conf_df = cons_conf_df[(cons_conf_df['year']<=2013)&(cons_conf_df['year']>2007)]"
   ]
  },
  {
   "cell_type": "code",
   "execution_count": 336,
   "metadata": {},
   "outputs": [],
   "source": [
    "import arrow"
   ]
  },
  {
   "cell_type": "code",
   "execution_count": 365,
   "metadata": {},
   "outputs": [],
   "source": [
    "dates = []\n",
    "for i in list(cons_conf_df.Date):\n",
    "    dates.append(arrow.get(i, 'MMMM YYYY').format('YYYY-MM'))\n",
    "cons_conf_df['dates'] = dates"
   ]
  },
  {
   "cell_type": "code",
   "execution_count": 373,
   "metadata": {},
   "outputs": [],
   "source": [
    "cons_conf_df['dates'] = pd.to_datetime(cons_conf_df['dates'])"
   ]
  },
  {
   "cell_type": "code",
   "execution_count": 375,
   "metadata": {},
   "outputs": [],
   "source": [
    "cons_conf_df = cons_conf_df[(cons_conf_df['dates'] < '2010-11-30') & (cons_conf_df['dates'] > '2008-05-01')]"
   ]
  },
  {
   "cell_type": "code",
   "execution_count": 376,
   "metadata": {
    "collapsed": true
   },
   "outputs": [],
   "source": [
    "del cons_conf_df['dates']"
   ]
  },
  {
   "cell_type": "markdown",
   "metadata": {
    "collapsed": true
   },
   "source": [
    "Importing Other Stats File"
   ]
  },
  {
   "cell_type": "code",
   "execution_count": 479,
   "metadata": {
    "collapsed": true
   },
   "outputs": [],
   "source": [
    "other_stats_df = pd.read_excel(dirname+'/other_stats_monthly_portugal.xlsx', sheet_name = 'Table', encoding='utf-8')"
   ]
  },
  {
   "cell_type": "code",
   "execution_count": 480,
   "metadata": {},
   "outputs": [
    {
     "data": {
      "text/html": [
       "<div>\n",
       "<style scoped>\n",
       "    .dataframe tbody tr th:only-of-type {\n",
       "        vertical-align: middle;\n",
       "    }\n",
       "\n",
       "    .dataframe tbody tr th {\n",
       "        vertical-align: top;\n",
       "    }\n",
       "\n",
       "    .dataframe thead th {\n",
       "        text-align: right;\n",
       "    }\n",
       "</style>\n",
       "<table border=\"1\" class=\"dataframe\">\n",
       "  <thead>\n",
       "    <tr style=\"text-align: right;\">\n",
       "      <th></th>\n",
       "      <th>Data reference period</th>\n",
       "      <th>Place of residence</th>\n",
       "      <th>Expected likelihood to spend money on major purchases over the next 12 months (Balance); Monthly</th>\n",
       "      <th>Unnamed: 3</th>\n",
       "      <th>Opportunity to make major purchases (Balance); Monthly</th>\n",
       "      <th>Unnamed: 5</th>\n",
       "      <th>Expected evolution of unemployment over the next 12 months (Balance); Monthly</th>\n",
       "      <th>Unnamed: 7</th>\n",
       "      <th>Expected change in prices over the next 12 months (Balance); Monthly</th>\n",
       "      <th>Unnamed: 9</th>\n",
       "      <th>...</th>\n",
       "      <th>Unnamed: 11</th>\n",
       "      <th>Evaluation of the economic situation in the country over the last 12 months (Balance); Monthly</th>\n",
       "      <th>Unnamed: 13</th>\n",
       "      <th>Evaluation of the financial situation of households over the last 12 months (Balance); Monthly</th>\n",
       "      <th>Unnamed: 15</th>\n",
       "      <th>Opportunity to save (Balance); Monthly</th>\n",
       "      <th>Unnamed: 17</th>\n",
       "      <th>Household indebtedness level (Balance); Monthly</th>\n",
       "      <th>Unnamed: 19</th>\n",
       "      <th>Expected likelihood to save over the next 12 months (Balance); Monthly</th>\n",
       "    </tr>\n",
       "  </thead>\n",
       "  <tbody>\n",
       "    <tr>\n",
       "      <th>0</th>\n",
       "      <td>NaN</td>\n",
       "      <td>NaN</td>\n",
       "      <td>%</td>\n",
       "      <td>NaN</td>\n",
       "      <td>%</td>\n",
       "      <td>NaN</td>\n",
       "      <td>%</td>\n",
       "      <td>NaN</td>\n",
       "      <td>%</td>\n",
       "      <td>NaN</td>\n",
       "      <td>...</td>\n",
       "      <td>NaN</td>\n",
       "      <td>%</td>\n",
       "      <td>NaN</td>\n",
       "      <td>%</td>\n",
       "      <td>NaN</td>\n",
       "      <td>%</td>\n",
       "      <td>NaN</td>\n",
       "      <td>%</td>\n",
       "      <td>NaN</td>\n",
       "      <td>%</td>\n",
       "    </tr>\n",
       "    <tr>\n",
       "      <th>1</th>\n",
       "      <td>December 2018</td>\n",
       "      <td>PT: Portugal</td>\n",
       "      <td>-27.6</td>\n",
       "      <td>NaN</td>\n",
       "      <td>-30.2</td>\n",
       "      <td>NaN</td>\n",
       "      <td>-5.1</td>\n",
       "      <td>NaN</td>\n",
       "      <td>16.6</td>\n",
       "      <td>NaN</td>\n",
       "      <td>...</td>\n",
       "      <td>NaN</td>\n",
       "      <td>3.3</td>\n",
       "      <td>NaN</td>\n",
       "      <td>-4.3</td>\n",
       "      <td>NaN</td>\n",
       "      <td>-19.8</td>\n",
       "      <td>NaN</td>\n",
       "      <td>14</td>\n",
       "      <td>NaN</td>\n",
       "      <td>-19.2</td>\n",
       "    </tr>\n",
       "    <tr>\n",
       "      <th>2</th>\n",
       "      <td>November 2018</td>\n",
       "      <td>PT: Portugal</td>\n",
       "      <td>-26.2</td>\n",
       "      <td>NaN</td>\n",
       "      <td>-34</td>\n",
       "      <td>NaN</td>\n",
       "      <td>-5.5</td>\n",
       "      <td>NaN</td>\n",
       "      <td>18.7</td>\n",
       "      <td>NaN</td>\n",
       "      <td>...</td>\n",
       "      <td>NaN</td>\n",
       "      <td>3.5</td>\n",
       "      <td>NaN</td>\n",
       "      <td>-4</td>\n",
       "      <td>NaN</td>\n",
       "      <td>-19.4</td>\n",
       "      <td>NaN</td>\n",
       "      <td>14.3</td>\n",
       "      <td>NaN</td>\n",
       "      <td>-22.3</td>\n",
       "    </tr>\n",
       "    <tr>\n",
       "      <th>3</th>\n",
       "      <td>October 2018</td>\n",
       "      <td>PT: Portugal</td>\n",
       "      <td>-25.3</td>\n",
       "      <td>NaN</td>\n",
       "      <td>-31.3</td>\n",
       "      <td>NaN</td>\n",
       "      <td>-5.5</td>\n",
       "      <td>NaN</td>\n",
       "      <td>13.9</td>\n",
       "      <td>NaN</td>\n",
       "      <td>...</td>\n",
       "      <td>NaN</td>\n",
       "      <td>6.5</td>\n",
       "      <td>NaN</td>\n",
       "      <td>-3.3</td>\n",
       "      <td>NaN</td>\n",
       "      <td>-16.5</td>\n",
       "      <td>NaN</td>\n",
       "      <td>13.5</td>\n",
       "      <td>NaN</td>\n",
       "      <td>-16.9</td>\n",
       "    </tr>\n",
       "    <tr>\n",
       "      <th>4</th>\n",
       "      <td>September 2018</td>\n",
       "      <td>PT: Portugal</td>\n",
       "      <td>-21.6</td>\n",
       "      <td>NaN</td>\n",
       "      <td>-35.2</td>\n",
       "      <td>NaN</td>\n",
       "      <td>-5</td>\n",
       "      <td>NaN</td>\n",
       "      <td>9.2</td>\n",
       "      <td>NaN</td>\n",
       "      <td>...</td>\n",
       "      <td>NaN</td>\n",
       "      <td>7.7</td>\n",
       "      <td>NaN</td>\n",
       "      <td>-2.1</td>\n",
       "      <td>NaN</td>\n",
       "      <td>-14.8</td>\n",
       "      <td>NaN</td>\n",
       "      <td>15</td>\n",
       "      <td>NaN</td>\n",
       "      <td>-19</td>\n",
       "    </tr>\n",
       "  </tbody>\n",
       "</table>\n",
       "<p>5 rows × 21 columns</p>\n",
       "</div>"
      ],
      "text/plain": [
       "  Data reference period Place of residence  \\\n",
       "0                   NaN                NaN   \n",
       "1         December 2018       PT: Portugal   \n",
       "2         November 2018       PT: Portugal   \n",
       "3          October 2018       PT: Portugal   \n",
       "4        September 2018       PT: Portugal   \n",
       "\n",
       "  Expected likelihood to spend money on major purchases over the next 12 months (Balance); Monthly  \\\n",
       "0                                                 %                                                  \n",
       "1                                              -27.6                                                 \n",
       "2                                              -26.2                                                 \n",
       "3                                              -25.3                                                 \n",
       "4                                              -21.6                                                 \n",
       "\n",
       "   Unnamed: 3 Opportunity to make major purchases (Balance); Monthly  \\\n",
       "0         NaN                                                 %        \n",
       "1         NaN                                              -30.2       \n",
       "2         NaN                                                -34       \n",
       "3         NaN                                              -31.3       \n",
       "4         NaN                                              -35.2       \n",
       "\n",
       "   Unnamed: 5  \\\n",
       "0         NaN   \n",
       "1         NaN   \n",
       "2         NaN   \n",
       "3         NaN   \n",
       "4         NaN   \n",
       "\n",
       "  Expected evolution of unemployment over the next 12 months (Balance); Monthly  \\\n",
       "0                                                 %                               \n",
       "1                                               -5.1                              \n",
       "2                                               -5.5                              \n",
       "3                                               -5.5                              \n",
       "4                                                 -5                              \n",
       "\n",
       "   Unnamed: 7  \\\n",
       "0         NaN   \n",
       "1         NaN   \n",
       "2         NaN   \n",
       "3         NaN   \n",
       "4         NaN   \n",
       "\n",
       "  Expected change in prices over the next 12 months (Balance); Monthly  \\\n",
       "0                                                 %                      \n",
       "1                                               16.6                     \n",
       "2                                               18.7                     \n",
       "3                                               13.9                     \n",
       "4                                                9.2                     \n",
       "\n",
       "   Unnamed: 9  \\\n",
       "0         NaN   \n",
       "1         NaN   \n",
       "2         NaN   \n",
       "3         NaN   \n",
       "4         NaN   \n",
       "\n",
       "                                    ...                                    \\\n",
       "0                                   ...                                     \n",
       "1                                   ...                                     \n",
       "2                                   ...                                     \n",
       "3                                   ...                                     \n",
       "4                                   ...                                     \n",
       "\n",
       "  Unnamed: 11  \\\n",
       "0         NaN   \n",
       "1         NaN   \n",
       "2         NaN   \n",
       "3         NaN   \n",
       "4         NaN   \n",
       "\n",
       "   Evaluation of the economic situation in the country over the last 12 months (Balance); Monthly  \\\n",
       "0                                                 %                                                 \n",
       "1                                                3.3                                                \n",
       "2                                                3.5                                                \n",
       "3                                                6.5                                                \n",
       "4                                                7.7                                                \n",
       "\n",
       "  Unnamed: 13  \\\n",
       "0         NaN   \n",
       "1         NaN   \n",
       "2         NaN   \n",
       "3         NaN   \n",
       "4         NaN   \n",
       "\n",
       "   Evaluation of the financial situation of households over the last 12 months (Balance); Monthly  \\\n",
       "0                                                 %                                                 \n",
       "1                                               -4.3                                                \n",
       "2                                                 -4                                                \n",
       "3                                               -3.3                                                \n",
       "4                                               -2.1                                                \n",
       "\n",
       "  Unnamed: 15  Opportunity to save (Balance); Monthly Unnamed: 17  \\\n",
       "0         NaN                                      %          NaN   \n",
       "1         NaN                                   -19.8         NaN   \n",
       "2         NaN                                   -19.4         NaN   \n",
       "3         NaN                                   -16.5         NaN   \n",
       "4         NaN                                   -14.8         NaN   \n",
       "\n",
       "   Household indebtedness level (Balance); Monthly Unnamed: 19  \\\n",
       "0                                               %          NaN   \n",
       "1                                               14         NaN   \n",
       "2                                             14.3         NaN   \n",
       "3                                             13.5         NaN   \n",
       "4                                               15         NaN   \n",
       "\n",
       "   Expected likelihood to save over the next 12 months (Balance); Monthly  \n",
       "0                                                 %                        \n",
       "1                                              -19.2                       \n",
       "2                                              -22.3                       \n",
       "3                                              -16.9                       \n",
       "4                                                -19                       \n",
       "\n",
       "[5 rows x 21 columns]"
      ]
     },
     "execution_count": 480,
     "metadata": {},
     "output_type": "execute_result"
    }
   ],
   "source": [
    "other_stats_df.head()"
   ]
  },
  {
   "cell_type": "code",
   "execution_count": 481,
   "metadata": {
    "collapsed": true
   },
   "outputs": [],
   "source": [
    "other_stats_df = other_stats_df.loc[:, ~other_stats_df.columns.str.contains('^Unnamed')]"
   ]
  },
  {
   "cell_type": "code",
   "execution_count": 482,
   "metadata": {},
   "outputs": [],
   "source": [
    "other_stats_df.drop(0, inplace = True)"
   ]
  },
  {
   "cell_type": "code",
   "execution_count": 483,
   "metadata": {},
   "outputs": [],
   "source": [
    "other_stats_df.drop(columns = 'Place of residence', inplace=True)"
   ]
  },
  {
   "cell_type": "code",
   "execution_count": 484,
   "metadata": {},
   "outputs": [],
   "source": [
    "other_stats_df['month'] = [i[0] for i in other_stats_df['Data reference period'].str.split(' ')]"
   ]
  },
  {
   "cell_type": "code",
   "execution_count": 485,
   "metadata": {},
   "outputs": [],
   "source": [
    "other_stats_df['year'] = [i[1] for i in other_stats_df['Data reference period'].str.split(' ')]"
   ]
  },
  {
   "cell_type": "code",
   "execution_count": 486,
   "metadata": {},
   "outputs": [],
   "source": [
    "other_stats_df.rename(columns={'Data reference period':'Date'}, inplace=True)"
   ]
  },
  {
   "cell_type": "code",
   "execution_count": 487,
   "metadata": {},
   "outputs": [],
   "source": [
    "dates = []\n",
    "for i in list(other_stats_df.Date):\n",
    "    dates.append(arrow.get(i, 'MMMM YYYY').format('YYYY-MM'))\n",
    "other_stats_df['dates'] = dates"
   ]
  },
  {
   "cell_type": "code",
   "execution_count": 488,
   "metadata": {},
   "outputs": [],
   "source": [
    "other_stats_df['dates'] = pd.to_datetime(other_stats_df['dates'])\n",
    "other_stats_df = other_stats_df[(other_stats_df['dates'] < '2010-11-30') & (other_stats_df['dates'] > '2008-05-01')]"
   ]
  },
  {
   "cell_type": "code",
   "execution_count": 489,
   "metadata": {},
   "outputs": [],
   "source": [
    "del other_stats_df['Date']"
   ]
  },
  {
   "cell_type": "markdown",
   "metadata": {},
   "source": [
    "Importing Economic Activity Index"
   ]
  },
  {
   "cell_type": "code",
   "execution_count": 520,
   "metadata": {
    "collapsed": true
   },
   "outputs": [],
   "source": [
    "df = pd.read_excel(dirname+'/eco_activity_monthly_portugal.xlsx', sheet_name = 'Table', encoding='utf-8')\n",
    "#eco_activity_monthly_portugal.xls"
   ]
  },
  {
   "cell_type": "code",
   "execution_count": 521,
   "metadata": {},
   "outputs": [
    {
     "data": {
      "text/html": [
       "<div>\n",
       "<style scoped>\n",
       "    .dataframe tbody tr th:only-of-type {\n",
       "        vertical-align: middle;\n",
       "    }\n",
       "\n",
       "    .dataframe tbody tr th {\n",
       "        vertical-align: top;\n",
       "    }\n",
       "\n",
       "    .dataframe thead th {\n",
       "        text-align: right;\n",
       "    }\n",
       "</style>\n",
       "<table border=\"1\" class=\"dataframe\">\n",
       "  <thead>\n",
       "    <tr style=\"text-align: right;\">\n",
       "      <th></th>\n",
       "      <th>Data reference period</th>\n",
       "      <th>Geographic localization (NUTS - 2013) (1)</th>\n",
       "      <th>Unnamed: 2</th>\n",
       "      <th>Economic activity (CAE Rev. 3)</th>\n",
       "      <th>Formation of legal persons and equivalent entities (No.) by Geographic localization (NUTS - 2013) and Economic activity (CAE Rev. 3); Monthly</th>\n",
       "      <th>Unnamed: 5</th>\n",
       "      <th>Dissolution of legal persons and equivalent entities (No.) by Geographic localization (NUTS - 2013) and Economic activity (CAE Rev. 3); Monthly</th>\n",
       "    </tr>\n",
       "  </thead>\n",
       "  <tbody>\n",
       "    <tr>\n",
       "      <th>0</th>\n",
       "      <td>NaN</td>\n",
       "      <td>NaN</td>\n",
       "      <td>NaN</td>\n",
       "      <td>NaN</td>\n",
       "      <td>No.</td>\n",
       "      <td>NaN</td>\n",
       "      <td>No.</td>\n",
       "    </tr>\n",
       "    <tr>\n",
       "      <th>1</th>\n",
       "      <td>November 2018</td>\n",
       "      <td>Portugal</td>\n",
       "      <td>PT</td>\n",
       "      <td>Total</td>\n",
       "      <td>3651</td>\n",
       "      <td>NaN</td>\n",
       "      <td>1673</td>\n",
       "    </tr>\n",
       "    <tr>\n",
       "      <th>2</th>\n",
       "      <td>October 2018</td>\n",
       "      <td>Portugal</td>\n",
       "      <td>PT</td>\n",
       "      <td>Total</td>\n",
       "      <td>3747</td>\n",
       "      <td>NaN</td>\n",
       "      <td>1809</td>\n",
       "    </tr>\n",
       "    <tr>\n",
       "      <th>3</th>\n",
       "      <td>September 2018</td>\n",
       "      <td>Portugal</td>\n",
       "      <td>PT</td>\n",
       "      <td>Total</td>\n",
       "      <td>3114</td>\n",
       "      <td>NaN</td>\n",
       "      <td>1146</td>\n",
       "    </tr>\n",
       "    <tr>\n",
       "      <th>4</th>\n",
       "      <td>August 2018</td>\n",
       "      <td>Portugal</td>\n",
       "      <td>PT</td>\n",
       "      <td>Total</td>\n",
       "      <td>2720</td>\n",
       "      <td>NaN</td>\n",
       "      <td>983</td>\n",
       "    </tr>\n",
       "  </tbody>\n",
       "</table>\n",
       "</div>"
      ],
      "text/plain": [
       "  Data reference period Geographic localization (NUTS - 2013) (1) Unnamed: 2  \\\n",
       "0                   NaN                                       NaN        NaN   \n",
       "1         November 2018                                  Portugal         PT   \n",
       "2          October 2018                                  Portugal         PT   \n",
       "3        September 2018                                  Portugal         PT   \n",
       "4           August 2018                                  Portugal         PT   \n",
       "\n",
       "  Economic activity (CAE Rev. 3)  \\\n",
       "0                            NaN   \n",
       "1                          Total   \n",
       "2                          Total   \n",
       "3                          Total   \n",
       "4                          Total   \n",
       "\n",
       "  Formation of legal persons and equivalent entities (No.) by Geographic localization (NUTS - 2013) and Economic activity (CAE Rev. 3); Monthly  \\\n",
       "0                                               No.                                                                                               \n",
       "1                                               3651                                                                                              \n",
       "2                                               3747                                                                                              \n",
       "3                                               3114                                                                                              \n",
       "4                                               2720                                                                                              \n",
       "\n",
       "   Unnamed: 5  \\\n",
       "0         NaN   \n",
       "1         NaN   \n",
       "2         NaN   \n",
       "3         NaN   \n",
       "4         NaN   \n",
       "\n",
       "  Dissolution of legal persons and equivalent entities (No.) by Geographic localization (NUTS - 2013) and Economic activity (CAE Rev. 3); Monthly  \n",
       "0                                               No.                                                                                                \n",
       "1                                               1673                                                                                               \n",
       "2                                               1809                                                                                               \n",
       "3                                               1146                                                                                               \n",
       "4                                                983                                                                                               "
      ]
     },
     "execution_count": 521,
     "metadata": {},
     "output_type": "execute_result"
    }
   ],
   "source": [
    "df.head()"
   ]
  },
  {
   "cell_type": "code",
   "execution_count": 522,
   "metadata": {},
   "outputs": [],
   "source": [
    "#Removing unwanted columns\n",
    "df = df.loc[:, ~df.columns.str.contains('^Unnamed')]\n",
    "df.drop(0, inplace = True)\n",
    "#df.drop(columns = 'Place of residence', inplace=True)\n",
    "\n",
    "#Fixing Date Ranges\n",
    "df['month'] = [i[0] for i in df['Data reference period'].str.split(' ')]\n",
    "df['year'] = [i[1] for i in df['Data reference period'].str.split(' ')]\n",
    "df.rename(columns={'Data reference period':'Date'}, inplace=True)\n",
    "\n",
    "dates = []\n",
    "for i in list(df.Date):\n",
    "    dates.append(arrow.get(i, 'MMMM YYYY').format('YYYY-MM'))\n",
    "df['dates'] = dates\n",
    "\n",
    "df['dates'] = pd.to_datetime(df['dates'])\n",
    "df = df[(df['dates'] <'2010-11-30') & (df['dates'] > '2008-05-01')]\n",
    "del df['Date']"
   ]
  },
  {
   "cell_type": "code",
   "execution_count": 528,
   "metadata": {},
   "outputs": [],
   "source": [
    "economic_activity_df = df.copy()"
   ]
  },
  {
   "cell_type": "code",
   "execution_count": 531,
   "metadata": {},
   "outputs": [],
   "source": [
    "economic_activity_df.drop(economic_activity_df.columns[[0,1]], axis=1, inplace=True)"
   ]
  },
  {
   "cell_type": "code",
   "execution_count": 532,
   "metadata": {},
   "outputs": [
    {
     "data": {
      "text/html": [
       "<div>\n",
       "<style scoped>\n",
       "    .dataframe tbody tr th:only-of-type {\n",
       "        vertical-align: middle;\n",
       "    }\n",
       "\n",
       "    .dataframe tbody tr th {\n",
       "        vertical-align: top;\n",
       "    }\n",
       "\n",
       "    .dataframe thead th {\n",
       "        text-align: right;\n",
       "    }\n",
       "</style>\n",
       "<table border=\"1\" class=\"dataframe\">\n",
       "  <thead>\n",
       "    <tr style=\"text-align: right;\">\n",
       "      <th></th>\n",
       "      <th>Formation of legal persons and equivalent entities (No.) by Geographic localization (NUTS - 2013) and Economic activity (CAE Rev. 3); Monthly</th>\n",
       "      <th>Dissolution of legal persons and equivalent entities (No.) by Geographic localization (NUTS - 2013) and Economic activity (CAE Rev. 3); Monthly</th>\n",
       "      <th>month</th>\n",
       "      <th>year</th>\n",
       "      <th>dates</th>\n",
       "    </tr>\n",
       "  </thead>\n",
       "  <tbody>\n",
       "    <tr>\n",
       "      <th>97</th>\n",
       "      <td>2052</td>\n",
       "      <td>2908</td>\n",
       "      <td>November</td>\n",
       "      <td>2010</td>\n",
       "      <td>2010-11-01</td>\n",
       "    </tr>\n",
       "    <tr>\n",
       "      <th>98</th>\n",
       "      <td>2194</td>\n",
       "      <td>2570</td>\n",
       "      <td>October</td>\n",
       "      <td>2010</td>\n",
       "      <td>2010-10-01</td>\n",
       "    </tr>\n",
       "    <tr>\n",
       "      <th>99</th>\n",
       "      <td>2238</td>\n",
       "      <td>1310</td>\n",
       "      <td>September</td>\n",
       "      <td>2010</td>\n",
       "      <td>2010-09-01</td>\n",
       "    </tr>\n",
       "    <tr>\n",
       "      <th>100</th>\n",
       "      <td>1739</td>\n",
       "      <td>1479</td>\n",
       "      <td>August</td>\n",
       "      <td>2010</td>\n",
       "      <td>2010-08-01</td>\n",
       "    </tr>\n",
       "    <tr>\n",
       "      <th>101</th>\n",
       "      <td>2188</td>\n",
       "      <td>1647</td>\n",
       "      <td>July</td>\n",
       "      <td>2010</td>\n",
       "      <td>2010-07-01</td>\n",
       "    </tr>\n",
       "  </tbody>\n",
       "</table>\n",
       "</div>"
      ],
      "text/plain": [
       "    Formation of legal persons and equivalent entities (No.) by Geographic localization (NUTS - 2013) and Economic activity (CAE Rev. 3); Monthly  \\\n",
       "97                                                2052                                                                                              \n",
       "98                                                2194                                                                                              \n",
       "99                                                2238                                                                                              \n",
       "100                                               1739                                                                                              \n",
       "101                                               2188                                                                                              \n",
       "\n",
       "    Dissolution of legal persons and equivalent entities (No.) by Geographic localization (NUTS - 2013) and Economic activity (CAE Rev. 3); Monthly  \\\n",
       "97                                                2908                                                                                                \n",
       "98                                                2570                                                                                                \n",
       "99                                                1310                                                                                                \n",
       "100                                               1479                                                                                                \n",
       "101                                               1647                                                                                                \n",
       "\n",
       "         month  year      dates  \n",
       "97    November  2010 2010-11-01  \n",
       "98     October  2010 2010-10-01  \n",
       "99   September  2010 2010-09-01  \n",
       "100     August  2010 2010-08-01  \n",
       "101       July  2010 2010-07-01  "
      ]
     },
     "execution_count": 532,
     "metadata": {},
     "output_type": "execute_result"
    }
   ],
   "source": [
    "economic_activity_df.head()"
   ]
  },
  {
   "cell_type": "code",
   "execution_count": null,
   "metadata": {
    "collapsed": true
   },
   "outputs": [],
   "source": []
  },
  {
   "cell_type": "code",
   "execution_count": 538,
   "metadata": {
    "collapsed": true
   },
   "outputs": [],
   "source": [
    "df = pd.read_excel(dirname+'/harmonized_cons_prices_monthly_portugal.xlsx', sheet_name = 'Table', encoding='utf-8')\n",
    "#harmonized_cons_prices_monthly_portugal.xls"
   ]
  },
  {
   "cell_type": "code",
   "execution_count": 539,
   "metadata": {},
   "outputs": [],
   "source": [
    "#Removing unwanted columns\n",
    "df = df.loc[:, ~df.columns.str.contains('^Unnamed')]\n",
    "df.drop(0, inplace = True)\n",
    "#df.drop(columns = 'Place of residence', inplace=True)\n",
    "\n",
    "df.drop(1, inplace = True)\n",
    "df.drop(2, inplace = True)\n",
    "df.drop(3, inplace = True)\n",
    "\n",
    "#Fixing Date Ranges\n",
    "df['month'] = [i[0] for i in df['Data reference period'].str.split(' ')]\n",
    "df['year'] = [i[1] for i in df['Data reference period'].str.split(' ')]\n",
    "df.rename(columns={'Data reference period':'Date'}, inplace=True)\n",
    "\n",
    "dates = []\n",
    "for i in list(df.Date):\n",
    "    dates.append(arrow.get(i, 'MMMM YYYY').format('YYYY-MM'))\n",
    "df['dates'] = dates\n",
    "\n",
    "df['dates'] = pd.to_datetime(df['dates'])\n",
    "df = df[(df['dates'] <'2010-11-30') & (df['dates'] > '2008-05-01')]\n",
    "del df['Date']"
   ]
  },
  {
   "cell_type": "code",
   "execution_count": 544,
   "metadata": {},
   "outputs": [],
   "source": [
    "df.drop(columns = 'Individual consumption by purpose', inplace=True)"
   ]
  },
  {
   "cell_type": "code",
   "execution_count": 546,
   "metadata": {},
   "outputs": [],
   "source": [
    "cons_price_harm_df = df.copy()"
   ]
  },
  {
   "cell_type": "raw",
   "metadata": {},
   "source": [
    "'railway_passengers_monthly_portugal.xls',\n",
    "'hotel_guests_monthly_portugal.xls',\n",
    "'industry_employment_index_monthly_portugal.xls',\n",
    "'unemployment_monthly_portugal.xls',\n",
    "'newhousing_construction_index_monthly_portugal.xls',\n",
    "'turnover_index_industry_monthly_portugal.xls'"
   ]
  },
  {
   "cell_type": "code",
   "execution_count": null,
   "metadata": {
    "collapsed": true
   },
   "outputs": [],
   "source": []
  },
  {
   "cell_type": "code",
   "execution_count": null,
   "metadata": {
    "collapsed": true
   },
   "outputs": [],
   "source": []
  },
  {
   "cell_type": "code",
   "execution_count": null,
   "metadata": {
    "collapsed": true
   },
   "outputs": [],
   "source": []
  },
  {
   "cell_type": "markdown",
   "metadata": {},
   "source": [
    "Importing the Euribor File from https://www.quandl.com/data/BOF/QS_D_IEUTIO3M-EURIBOR-3-Months-Daily to apply time series to original file"
   ]
  },
  {
   "cell_type": "code",
   "execution_count": 279,
   "metadata": {
    "collapsed": true
   },
   "outputs": [],
   "source": [
    "df = pd.read_csv(dirname+'daily_euribor3m.csv')"
   ]
  },
  {
   "cell_type": "code",
   "execution_count": 280,
   "metadata": {},
   "outputs": [
    {
     "data": {
      "text/html": [
       "<div>\n",
       "<style scoped>\n",
       "    .dataframe tbody tr th:only-of-type {\n",
       "        vertical-align: middle;\n",
       "    }\n",
       "\n",
       "    .dataframe tbody tr th {\n",
       "        vertical-align: top;\n",
       "    }\n",
       "\n",
       "    .dataframe thead th {\n",
       "        text-align: right;\n",
       "    }\n",
       "</style>\n",
       "<table border=\"1\" class=\"dataframe\">\n",
       "  <thead>\n",
       "    <tr style=\"text-align: right;\">\n",
       "      <th></th>\n",
       "      <th>Date</th>\n",
       "      <th>Value</th>\n",
       "    </tr>\n",
       "  </thead>\n",
       "  <tbody>\n",
       "    <tr>\n",
       "      <th>0</th>\n",
       "      <td>2019-01-03</td>\n",
       "      <td>-0.309</td>\n",
       "    </tr>\n",
       "    <tr>\n",
       "      <th>1</th>\n",
       "      <td>2019-01-02</td>\n",
       "      <td>-0.310</td>\n",
       "    </tr>\n",
       "    <tr>\n",
       "      <th>2</th>\n",
       "      <td>2018-12-31</td>\n",
       "      <td>-0.309</td>\n",
       "    </tr>\n",
       "    <tr>\n",
       "      <th>3</th>\n",
       "      <td>2018-12-27</td>\n",
       "      <td>-0.309</td>\n",
       "    </tr>\n",
       "    <tr>\n",
       "      <th>4</th>\n",
       "      <td>2018-12-24</td>\n",
       "      <td>-0.309</td>\n",
       "    </tr>\n",
       "  </tbody>\n",
       "</table>\n",
       "</div>"
      ],
      "text/plain": [
       "         Date  Value\n",
       "0  2019-01-03 -0.309\n",
       "1  2019-01-02 -0.310\n",
       "2  2018-12-31 -0.309\n",
       "3  2018-12-27 -0.309\n",
       "4  2018-12-24 -0.309"
      ]
     },
     "execution_count": 280,
     "metadata": {},
     "output_type": "execute_result"
    }
   ],
   "source": [
    "df.head()"
   ]
  },
  {
   "cell_type": "code",
   "execution_count": 278,
   "metadata": {
    "collapsed": true
   },
   "outputs": [],
   "source": [
    "data = pd.read_pickle('data/pickle_files/df_pickle')"
   ]
  },
  {
   "cell_type": "code",
   "execution_count": 291,
   "metadata": {},
   "outputs": [
    {
     "data": {
      "text/html": [
       "<div>\n",
       "<style scoped>\n",
       "    .dataframe tbody tr th:only-of-type {\n",
       "        vertical-align: middle;\n",
       "    }\n",
       "\n",
       "    .dataframe tbody tr th {\n",
       "        vertical-align: top;\n",
       "    }\n",
       "\n",
       "    .dataframe thead th {\n",
       "        text-align: right;\n",
       "    }\n",
       "</style>\n",
       "<table border=\"1\" class=\"dataframe\">\n",
       "  <thead>\n",
       "    <tr style=\"text-align: right;\">\n",
       "      <th></th>\n",
       "      <th>age</th>\n",
       "      <th>duration</th>\n",
       "      <th>campaign</th>\n",
       "      <th>pdays</th>\n",
       "      <th>previous</th>\n",
       "      <th>emp.var.rate</th>\n",
       "      <th>cons.price.idx</th>\n",
       "      <th>cons.conf.idx</th>\n",
       "      <th>euribor3m</th>\n",
       "      <th>nr.employed</th>\n",
       "      <th>...</th>\n",
       "      <th>marital</th>\n",
       "      <th>education</th>\n",
       "      <th>default</th>\n",
       "      <th>housing</th>\n",
       "      <th>loan</th>\n",
       "      <th>contact</th>\n",
       "      <th>month</th>\n",
       "      <th>day_of_week</th>\n",
       "      <th>poutcome</th>\n",
       "      <th>y</th>\n",
       "    </tr>\n",
       "  </thead>\n",
       "  <tbody>\n",
       "    <tr>\n",
       "      <th>0</th>\n",
       "      <td>56</td>\n",
       "      <td>261</td>\n",
       "      <td>1</td>\n",
       "      <td>999</td>\n",
       "      <td>0</td>\n",
       "      <td>1.1</td>\n",
       "      <td>93.994</td>\n",
       "      <td>-36.4</td>\n",
       "      <td>4.857</td>\n",
       "      <td>5191.0</td>\n",
       "      <td>...</td>\n",
       "      <td>1</td>\n",
       "      <td>0</td>\n",
       "      <td>0</td>\n",
       "      <td>0</td>\n",
       "      <td>0</td>\n",
       "      <td>1</td>\n",
       "      <td>6</td>\n",
       "      <td>1</td>\n",
       "      <td>1</td>\n",
       "      <td>0</td>\n",
       "    </tr>\n",
       "    <tr>\n",
       "      <th>1</th>\n",
       "      <td>57</td>\n",
       "      <td>149</td>\n",
       "      <td>1</td>\n",
       "      <td>999</td>\n",
       "      <td>0</td>\n",
       "      <td>1.1</td>\n",
       "      <td>93.994</td>\n",
       "      <td>-36.4</td>\n",
       "      <td>4.857</td>\n",
       "      <td>5191.0</td>\n",
       "      <td>...</td>\n",
       "      <td>1</td>\n",
       "      <td>3</td>\n",
       "      <td>1</td>\n",
       "      <td>0</td>\n",
       "      <td>0</td>\n",
       "      <td>1</td>\n",
       "      <td>6</td>\n",
       "      <td>1</td>\n",
       "      <td>1</td>\n",
       "      <td>0</td>\n",
       "    </tr>\n",
       "    <tr>\n",
       "      <th>2</th>\n",
       "      <td>37</td>\n",
       "      <td>226</td>\n",
       "      <td>1</td>\n",
       "      <td>999</td>\n",
       "      <td>0</td>\n",
       "      <td>1.1</td>\n",
       "      <td>93.994</td>\n",
       "      <td>-36.4</td>\n",
       "      <td>4.857</td>\n",
       "      <td>5191.0</td>\n",
       "      <td>...</td>\n",
       "      <td>1</td>\n",
       "      <td>3</td>\n",
       "      <td>0</td>\n",
       "      <td>2</td>\n",
       "      <td>0</td>\n",
       "      <td>1</td>\n",
       "      <td>6</td>\n",
       "      <td>1</td>\n",
       "      <td>1</td>\n",
       "      <td>0</td>\n",
       "    </tr>\n",
       "    <tr>\n",
       "      <th>3</th>\n",
       "      <td>40</td>\n",
       "      <td>151</td>\n",
       "      <td>1</td>\n",
       "      <td>999</td>\n",
       "      <td>0</td>\n",
       "      <td>1.1</td>\n",
       "      <td>93.994</td>\n",
       "      <td>-36.4</td>\n",
       "      <td>4.857</td>\n",
       "      <td>5191.0</td>\n",
       "      <td>...</td>\n",
       "      <td>1</td>\n",
       "      <td>1</td>\n",
       "      <td>0</td>\n",
       "      <td>0</td>\n",
       "      <td>0</td>\n",
       "      <td>1</td>\n",
       "      <td>6</td>\n",
       "      <td>1</td>\n",
       "      <td>1</td>\n",
       "      <td>0</td>\n",
       "    </tr>\n",
       "    <tr>\n",
       "      <th>4</th>\n",
       "      <td>56</td>\n",
       "      <td>307</td>\n",
       "      <td>1</td>\n",
       "      <td>999</td>\n",
       "      <td>0</td>\n",
       "      <td>1.1</td>\n",
       "      <td>93.994</td>\n",
       "      <td>-36.4</td>\n",
       "      <td>4.857</td>\n",
       "      <td>5191.0</td>\n",
       "      <td>...</td>\n",
       "      <td>1</td>\n",
       "      <td>3</td>\n",
       "      <td>0</td>\n",
       "      <td>0</td>\n",
       "      <td>2</td>\n",
       "      <td>1</td>\n",
       "      <td>6</td>\n",
       "      <td>1</td>\n",
       "      <td>1</td>\n",
       "      <td>0</td>\n",
       "    </tr>\n",
       "  </tbody>\n",
       "</table>\n",
       "<p>5 rows × 21 columns</p>\n",
       "</div>"
      ],
      "text/plain": [
       "   age  duration  campaign  pdays  previous  emp.var.rate  cons.price.idx  \\\n",
       "0   56       261         1    999         0           1.1          93.994   \n",
       "1   57       149         1    999         0           1.1          93.994   \n",
       "2   37       226         1    999         0           1.1          93.994   \n",
       "3   40       151         1    999         0           1.1          93.994   \n",
       "4   56       307         1    999         0           1.1          93.994   \n",
       "\n",
       "   cons.conf.idx  euribor3m  nr.employed ...  marital  education  default  \\\n",
       "0          -36.4      4.857       5191.0 ...        1          0        0   \n",
       "1          -36.4      4.857       5191.0 ...        1          3        1   \n",
       "2          -36.4      4.857       5191.0 ...        1          3        0   \n",
       "3          -36.4      4.857       5191.0 ...        1          1        0   \n",
       "4          -36.4      4.857       5191.0 ...        1          3        0   \n",
       "\n",
       "   housing  loan  contact  month  day_of_week  poutcome  y  \n",
       "0        0     0        1      6            1         1  0  \n",
       "1        0     0        1      6            1         1  0  \n",
       "2        2     0        1      6            1         1  0  \n",
       "3        0     0        1      6            1         1  0  \n",
       "4        0     2        1      6            1         1  0  \n",
       "\n",
       "[5 rows x 21 columns]"
      ]
     },
     "execution_count": 291,
     "metadata": {},
     "output_type": "execute_result"
    }
   ],
   "source": [
    "data.head()"
   ]
  },
  {
   "cell_type": "code",
   "execution_count": 238,
   "metadata": {
    "collapsed": true
   },
   "outputs": [],
   "source": [
    "res = data.loc[data['euribor3m'].shift(-1) != data['euribor3m']]"
   ]
  },
  {
   "cell_type": "code",
   "execution_count": 269,
   "metadata": {
    "collapsed": true
   },
   "outputs": [],
   "source": [
    "df['year'] = [i[:4] for i in df['Date']]\n",
    "df['month'] = [i[5:7] for i in df['Date']]\n",
    "df['day'] = [i[8:10] for i in df['Date']]"
   ]
  },
  {
   "cell_type": "code",
   "execution_count": 284,
   "metadata": {
    "collapsed": true
   },
   "outputs": [],
   "source": [
    "df['Date'] = pd.to_datetime(df.Date)"
   ]
  },
  {
   "cell_type": "code",
   "execution_count": 301,
   "metadata": {
    "collapsed": true
   },
   "outputs": [],
   "source": [
    "euribor_daily_df = df[(df.Date < '2010-11-30') & (df.Date > '2008-05-01')].sort_index(ascending=False)"
   ]
  },
  {
   "cell_type": "code",
   "execution_count": 307,
   "metadata": {},
   "outputs": [
    {
     "data": {
      "text/html": [
       "<div>\n",
       "<style scoped>\n",
       "    .dataframe tbody tr th:only-of-type {\n",
       "        vertical-align: middle;\n",
       "    }\n",
       "\n",
       "    .dataframe tbody tr th {\n",
       "        vertical-align: top;\n",
       "    }\n",
       "\n",
       "    .dataframe thead th {\n",
       "        text-align: right;\n",
       "    }\n",
       "</style>\n",
       "<table border=\"1\" class=\"dataframe\">\n",
       "  <thead>\n",
       "    <tr style=\"text-align: right;\">\n",
       "      <th></th>\n",
       "      <th>Date</th>\n",
       "      <th>Value</th>\n",
       "    </tr>\n",
       "  </thead>\n",
       "  <tbody>\n",
       "    <tr>\n",
       "      <th>2084</th>\n",
       "      <td>2010-11-02</td>\n",
       "      <td>1.047</td>\n",
       "    </tr>\n",
       "    <tr>\n",
       "      <th>2083</th>\n",
       "      <td>2010-11-03</td>\n",
       "      <td>1.049</td>\n",
       "    </tr>\n",
       "    <tr>\n",
       "      <th>2082</th>\n",
       "      <td>2010-11-04</td>\n",
       "      <td>1.050</td>\n",
       "    </tr>\n",
       "    <tr>\n",
       "      <th>2081</th>\n",
       "      <td>2010-11-05</td>\n",
       "      <td>1.050</td>\n",
       "    </tr>\n",
       "    <tr>\n",
       "      <th>2080</th>\n",
       "      <td>2010-11-08</td>\n",
       "      <td>1.050</td>\n",
       "    </tr>\n",
       "    <tr>\n",
       "      <th>2079</th>\n",
       "      <td>2010-11-09</td>\n",
       "      <td>1.049</td>\n",
       "    </tr>\n",
       "    <tr>\n",
       "      <th>2078</th>\n",
       "      <td>2010-11-10</td>\n",
       "      <td>1.048</td>\n",
       "    </tr>\n",
       "    <tr>\n",
       "      <th>2077</th>\n",
       "      <td>2010-11-11</td>\n",
       "      <td>1.049</td>\n",
       "    </tr>\n",
       "    <tr>\n",
       "      <th>2076</th>\n",
       "      <td>2010-11-12</td>\n",
       "      <td>1.049</td>\n",
       "    </tr>\n",
       "    <tr>\n",
       "      <th>2075</th>\n",
       "      <td>2010-11-15</td>\n",
       "      <td>1.048</td>\n",
       "    </tr>\n",
       "    <tr>\n",
       "      <th>2074</th>\n",
       "      <td>2010-11-16</td>\n",
       "      <td>1.046</td>\n",
       "    </tr>\n",
       "    <tr>\n",
       "      <th>2073</th>\n",
       "      <td>2010-11-17</td>\n",
       "      <td>1.044</td>\n",
       "    </tr>\n",
       "    <tr>\n",
       "      <th>2072</th>\n",
       "      <td>2010-11-18</td>\n",
       "      <td>1.041</td>\n",
       "    </tr>\n",
       "    <tr>\n",
       "      <th>2071</th>\n",
       "      <td>2010-11-19</td>\n",
       "      <td>1.040</td>\n",
       "    </tr>\n",
       "    <tr>\n",
       "      <th>2070</th>\n",
       "      <td>2010-11-22</td>\n",
       "      <td>1.039</td>\n",
       "    </tr>\n",
       "    <tr>\n",
       "      <th>2069</th>\n",
       "      <td>2010-11-23</td>\n",
       "      <td>1.035</td>\n",
       "    </tr>\n",
       "    <tr>\n",
       "      <th>2068</th>\n",
       "      <td>2010-11-24</td>\n",
       "      <td>1.030</td>\n",
       "    </tr>\n",
       "    <tr>\n",
       "      <th>2067</th>\n",
       "      <td>2010-11-25</td>\n",
       "      <td>1.031</td>\n",
       "    </tr>\n",
       "    <tr>\n",
       "      <th>2066</th>\n",
       "      <td>2010-11-26</td>\n",
       "      <td>1.028</td>\n",
       "    </tr>\n",
       "    <tr>\n",
       "      <th>2065</th>\n",
       "      <td>2010-11-29</td>\n",
       "      <td>1.027</td>\n",
       "    </tr>\n",
       "  </tbody>\n",
       "</table>\n",
       "</div>"
      ],
      "text/plain": [
       "           Date  Value\n",
       "2084 2010-11-02  1.047\n",
       "2083 2010-11-03  1.049\n",
       "2082 2010-11-04  1.050\n",
       "2081 2010-11-05  1.050\n",
       "2080 2010-11-08  1.050\n",
       "2079 2010-11-09  1.049\n",
       "2078 2010-11-10  1.048\n",
       "2077 2010-11-11  1.049\n",
       "2076 2010-11-12  1.049\n",
       "2075 2010-11-15  1.048\n",
       "2074 2010-11-16  1.046\n",
       "2073 2010-11-17  1.044\n",
       "2072 2010-11-18  1.041\n",
       "2071 2010-11-19  1.040\n",
       "2070 2010-11-22  1.039\n",
       "2069 2010-11-23  1.035\n",
       "2068 2010-11-24  1.030\n",
       "2067 2010-11-25  1.031\n",
       "2066 2010-11-26  1.028\n",
       "2065 2010-11-29  1.027"
      ]
     },
     "execution_count": 307,
     "metadata": {},
     "output_type": "execute_result"
    }
   ],
   "source": [
    "euribor_daily_df.tail(20)"
   ]
  },
  {
   "cell_type": "code",
   "execution_count": 306,
   "metadata": {
    "scrolled": true
   },
   "outputs": [
    {
     "data": {
      "text/plain": [
       "41043    1.032\n",
       "41049    1.037\n",
       "41058    1.043\n",
       "41059    1.045\n",
       "41060    1.047\n",
       "41079    1.050\n",
       "41089    1.049\n",
       "41097    1.048\n",
       "41099    1.050\n",
       "41102    1.049\n",
       "41108    1.048\n",
       "41123    1.046\n",
       "41129    1.044\n",
       "41138    1.041\n",
       "41148    1.040\n",
       "41157    1.039\n",
       "41164    1.035\n",
       "41170    1.030\n",
       "41178    1.031\n",
       "41187    1.028\n",
       "Name: euribor3m, dtype: float64"
      ]
     },
     "execution_count": 306,
     "metadata": {},
     "output_type": "execute_result"
    }
   ],
   "source": [
    "res['euribor3m'].tail(20)"
   ]
  }
 ],
 "metadata": {
  "kernelspec": {
   "display_name": "Python 3",
   "language": "python",
   "name": "python3"
  },
  "language_info": {
   "codemirror_mode": {
    "name": "ipython",
    "version": 3
   },
   "file_extension": ".py",
   "mimetype": "text/x-python",
   "name": "python",
   "nbconvert_exporter": "python",
   "pygments_lexer": "ipython3",
   "version": "3.6.3"
  }
 },
 "nbformat": 4,
 "nbformat_minor": 2
}
