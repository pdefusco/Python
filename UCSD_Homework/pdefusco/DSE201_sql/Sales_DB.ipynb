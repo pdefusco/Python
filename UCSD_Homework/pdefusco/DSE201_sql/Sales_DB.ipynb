{
 "cells": [
  {
   "cell_type": "code",
   "execution_count": 1,
   "metadata": {
    "collapsed": false
   },
   "outputs": [],
   "source": [
    "import psycopg2\n",
    "import math\n",
    "from random import randint\n"
   ]
  },
  {
   "cell_type": "code",
   "execution_count": 3,
   "metadata": {
    "collapsed": false
   },
   "outputs": [],
   "source": [
    "with open(\"USA_states.txt\") as f:\n",
    "    states = f.readlines()\n",
    "states = [x.strip() for x in states]\n",
    "\n",
    "with open(\"state_codes.txt\") as f:\n",
    "    state_codes = f.readlines()\n",
    "state_codes = [x.strip() for x in state_codes]\n",
    "\n",
    "# create sate table\n",
    "state_table = []\n",
    "for state in states:\n",
    "    state_info = {\"state_name\": state}\n",
    "    state_table.append(state_info) \n",
    "    \n",
    "state_table_t = tuple(state_table)\n",
    "#state_table_t"
   ]
  },
  {
   "cell_type": "code",
   "execution_count": 4,
   "metadata": {
    "collapsed": false
   },
   "outputs": [],
   "source": [
    "#Create entries for customer table customer name = State_code+number(0:10000)\n",
    "customer_list = []\n",
    "customer_table = []\n",
    "CUST_SIZE = 10\n",
    "padding = int(math.log10(CUST_SIZE))\n",
    "for i in range (CUST_SIZE):\n",
    "    for state_code in state_codes:\n",
    "        customer_list.append(state_code+str(i).zfill(padding))\n",
    "        cust_info = {\n",
    "            \"customer_name\" : state_code+str(i).zfill(padding),\n",
    "            \"state_id\"      : randint(2,len(state_codes))\n",
    "        }\n",
    "        customer_table.append(cust_info)\n",
    "\n",
    "customer_table_t = tuple(customer_table)"
   ]
  },
  {
   "cell_type": "code",
   "execution_count": 5,
   "metadata": {
    "collapsed": false
   },
   "outputs": [],
   "source": [
    "#create entries for sales category table\n",
    "category_table = []\n",
    "category_list = []\n",
    "CAT_SIZE = 10\n",
    "padding = int(math.log10(CAT_SIZE))\n",
    "for i in range (CAT_SIZE):\n",
    "    category_list.append(\"CAT\"+str(i).zfill(padding))\n",
    "    cat_info = {\n",
    "        \"category_name\" : \"CAT\"+str(i).zfill(padding),\n",
    "        \"category_desc\" : \"Product Category \"+str(i).zfill(padding)\n",
    "    }\n",
    "    category_table.append(cat_info)\n",
    "\n",
    "category_table_t = tuple(category_table)"
   ]
  },
  {
   "cell_type": "code",
   "execution_count": 6,
   "metadata": {
    "collapsed": false
   },
   "outputs": [
    {
     "data": {
      "text/plain": [
       "10"
      ]
     },
     "execution_count": 6,
     "metadata": {},
     "output_type": "execute_result"
    }
   ],
   "source": [
    "len(category_table_t)"
   ]
  },
  {
   "cell_type": "code",
   "execution_count": 7,
   "metadata": {
    "collapsed": false
   },
   "outputs": [],
   "source": [
    "#create sales table. 1000 products in each category\n",
    "product_table = []\n",
    "product_list = []\n",
    "PROD_SIZE = 10\n",
    "padding = int(math.log10(PROD_SIZE))\n",
    "for cat in category_list:\n",
    "    for i in range (PROD_SIZE):\n",
    "        product_list.append(\"Prod\"+str(i).zfill(padding)+cat)\n",
    "        prod_info = {\n",
    "            \"product_name\" : \"Prod\"+str(i).zfill(padding)+cat,\n",
    "            \"category_id\" : category_list.index(cat)+1,\n",
    "            \"list_price\"   : float(category_list.index(cat)+10)\n",
    "        }\n",
    "        product_table.append(prod_info)\n",
    "\n",
    "product_table_t = tuple(product_table)"
   ]
  },
  {
   "cell_type": "code",
   "execution_count": 8,
   "metadata": {
    "collapsed": false
   },
   "outputs": [
    {
     "data": {
      "text/plain": [
       "100"
      ]
     },
     "execution_count": 8,
     "metadata": {},
     "output_type": "execute_result"
    }
   ],
   "source": [
    "len(product_list)"
   ]
  },
  {
   "cell_type": "code",
   "execution_count": 9,
   "metadata": {
    "collapsed": false
   },
   "outputs": [],
   "source": [
    "#create sale database\n",
    "sale_table = []\n",
    "sale_list = []\n",
    "\n",
    "for i in range(1000):\n",
    "    sale_info = {\n",
    "        \"customer_id\" : randint(2, CUST_SIZE),\n",
    "        \"product_id\"  :  randint(2, PROD_SIZE),\n",
    "        \"quantity\"    : randint(1,9),\n",
    "        \"price\"       : float(randint(1,50)+10)\n",
    "    }\n",
    "    sale_table.append(sale_info)\n",
    "\n",
    "sale_table_t = tuple(sale_table)"
   ]
  },
  {
   "cell_type": "code",
   "execution_count": 10,
   "metadata": {
    "collapsed": false
   },
   "outputs": [
    {
     "data": {
      "text/plain": [
       "1000"
      ]
     },
     "execution_count": 10,
     "metadata": {},
     "output_type": "execute_result"
    }
   ],
   "source": [
    "len(sale_table_t)"
   ]
  },
  {
   "cell_type": "code",
   "execution_count": 11,
   "metadata": {
    "collapsed": false
   },
   "outputs": [
    {
     "data": {
      "text/plain": [
       "{'customer_id': 10, 'price': 11.0, 'product_id': 7, 'quantity': 8}"
      ]
     },
     "execution_count": 11,
     "metadata": {},
     "output_type": "execute_result"
    }
   ],
   "source": [
    "sale_table_t[10]"
   ]
  },
  {
   "cell_type": "code",
   "execution_count": 25,
   "metadata": {
    "collapsed": false
   },
   "outputs": [],
   "source": [
    "# create a connection to database. make sure that the db name and password are correct\n",
    "try:\n",
    "    conn = psycopg2.connect(\"dbname='sales' user='postgres' host='/tmp/' password='Paolino1'\")\n",
    "except:\n",
    "    print \"unable to connect to the database\"\n",
    "    \n",
    "    \n",
    "conn.set_session(autocommit = True)\n",
    "cur = conn.cursor()"
   ]
  },
  {
   "cell_type": "code",
   "execution_count": 26,
   "metadata": {
    "collapsed": false
   },
   "outputs": [],
   "source": [
    "cur.executemany(\"\"\"INSERT INTO sales.state(state_name) VALUES (%(state_name)s)\"\"\", state_table_t)"
   ]
  },
  {
   "cell_type": "code",
   "execution_count": 27,
   "metadata": {
    "collapsed": false
   },
   "outputs": [],
   "source": [
    "cur.executemany(\"\"\"INSERT INTO sales.customer(customer_name,state_id) VALUES (%(customer_name)s, %(state_id)s)\"\"\",\n",
    "                customer_table_t)\n"
   ]
  },
  {
   "cell_type": "code",
   "execution_count": 28,
   "metadata": {
    "collapsed": true
   },
   "outputs": [],
   "source": [
    "cur.executemany(\"\"\"INSERT INTO sales.category(category_name,category_desc) VALUES (%(category_name)s, %(category_desc)s)\"\"\",\n",
    "                category_table_t)"
   ]
  },
  {
   "cell_type": "code",
   "execution_count": 29,
   "metadata": {
    "collapsed": false
   },
   "outputs": [],
   "source": [
    "cur.executemany(\"\"\"INSERT INTO sales.product(product_name,category_id,list_price) VALUES (%(product_name)s, %(category_id)s, %(list_price)s)\"\"\",\n",
    "                product_table_t)"
   ]
  },
  {
   "cell_type": "code",
   "execution_count": 30,
   "metadata": {
    "collapsed": false
   },
   "outputs": [],
   "source": [
    "cur.executemany(\"\"\"INSERT INTO sales.sale(customer_id,product_id,quantity,price) VALUES (%(customer_id)s, %(product_id)s, %(quantity)s, %(price)s)\"\"\",\n",
    "                sale_table_t)"
   ]
  },
  {
   "cell_type": "code",
   "execution_count": 31,
   "metadata": {
    "collapsed": false
   },
   "outputs": [
    {
     "name": "stdout",
     "output_type": "stream",
     "text": [
      "    (1, 7, 3, 4, Decimal('39.0'))\n",
      "    (2, 5, 4, 7, Decimal('36.0'))\n",
      "    (3, 5, 5, 8, Decimal('38.0'))\n",
      "    (4, 9, 4, 9, Decimal('56.0'))\n",
      "    (5, 9, 2, 7, Decimal('59.0'))\n",
      "    (6, 6, 6, 8, Decimal('58.0'))\n",
      "    (7, 3, 4, 4, Decimal('30.0'))\n",
      "    (8, 5, 6, 7, Decimal('55.0'))\n",
      "    (9, 3, 2, 4, Decimal('30.0'))\n",
      "    (10, 10, 5, 5, Decimal('37.0'))\n"
     ]
    }
   ],
   "source": [
    "try:\n",
    "    cur.execute(\"\"\"SELECT * from sales.sale limit 10\"\"\")\n",
    "except:\n",
    "    print \"Failed SELECT from sales.sale\"\n",
    "\n",
    "rows = cur.fetchall()\n",
    "for row in rows:\n",
    "    print \"   \", row"
   ]
  },
  {
   "cell_type": "code",
   "execution_count": 32,
   "metadata": {
    "collapsed": false
   },
   "outputs": [
    {
     "name": "stdout",
     "output_type": "stream",
     "text": [
      "    (1, 'AL0', 40)\n",
      "    (2, 'AK0', 31)\n",
      "    (3, 'AZ0', 12)\n",
      "    (4, 'AR0', 46)\n",
      "    (5, 'CA0', 31)\n"
     ]
    }
   ],
   "source": [
    "\n",
    "try:\n",
    "    cur.execute(\"\"\"SELECT * from sales.customer limit 5\"\"\")\n",
    "except:\n",
    "    print \"Failed SELECT from sales.customer\"\n",
    "\n",
    "rows = cur.fetchall()\n",
    "for row in rows:\n",
    "    print \"   \", row"
   ]
  },
  {
   "cell_type": "code",
   "execution_count": 33,
   "metadata": {
    "collapsed": false
   },
   "outputs": [],
   "source": [
    "#close the connection to db\n",
    "conn.close()"
   ]
  },
  {
   "cell_type": "code",
   "execution_count": null,
   "metadata": {
    "collapsed": false
   },
   "outputs": [],
   "source": []
  }
 ],
 "metadata": {
  "kernelspec": {
   "display_name": "Python [default]",
   "language": "python",
   "name": "python2"
  },
  "language_info": {
   "codemirror_mode": {
    "name": "ipython",
    "version": 2
   },
   "file_extension": ".py",
   "mimetype": "text/x-python",
   "name": "python",
   "nbconvert_exporter": "python",
   "pygments_lexer": "ipython2",
   "version": "2.7.12"
  }
 },
 "nbformat": 4,
 "nbformat_minor": 1
}
