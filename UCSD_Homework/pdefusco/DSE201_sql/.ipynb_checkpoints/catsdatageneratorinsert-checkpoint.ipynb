{
 "cells": [
  {
   "cell_type": "markdown",
   "metadata": {},
   "source": [
    "Hope you enjoy! \n",
    "\n",
    "Cheers,\n",
    "kyle"
   ]
  },
  {
   "cell_type": "markdown",
   "metadata": {},
   "source": [
    "try: **conda install psycopg2** or **pip install psycopg2**\n",
    "\n",
    "don't forget insert your **password!!!**"
   ]
  },
  {
   "cell_type": "code",
   "execution_count": 4,
   "metadata": {
    "collapsed": false
   },
   "outputs": [],
   "source": [
    "import psycopg2\n",
    "import math\n",
    "from random import randint\n",
    "import random\n",
    "from itertools import count\n",
    "import time\n",
    "from datetime import date\n"
   ]
  },
  {
   "cell_type": "code",
   "execution_count": 5,
   "metadata": {
    "collapsed": false
   },
   "outputs": [],
   "source": [
    "class TableDataGen(object):\n",
    "    \"\"\"\n",
    "    Instatiate Class with Num of Rows of data you want for a table, the 'Table' name.\n",
    "    Call PKs first, then gen_names, then gen_emails\n",
    "    \"\"\"\n",
    "    def __init__(self, num_rows, table):\n",
    "        self.num_rows = num_rows\n",
    "        self.table = table #what table in cats you are inserting data into\n",
    "#         self.foriegn_keys = foriegn_key_limits #if the table has FKs, make sure not to exceed their values\n",
    "        self.data = [] #data to export\n",
    "        \n",
    "    def get_size(self, s):\n",
    "        return len(s.encode('utf-8'))\n",
    "        \n",
    "    def gen_names(self):\n",
    "        with open('data/names.txt', 'r') as f:\n",
    "            random_names = []\n",
    "            random_element = [x.split() for x in f.readlines()][0] #silly unpacking hack... [0]\n",
    "            for i in range(1,self.num_rows):\n",
    "                random_names.append(random.choice(random_element))\n",
    "            return self.data.append(random_names)\n",
    "\n",
    "    \n",
    "    def gen_emails(self):\n",
    "        with open('data/names.txt', 'r') as f:\n",
    "            random_emails = []\n",
    "            random_element = [x.split() for x in f.readlines()][0]\n",
    "            for i in range(1, self.num_rows):\n",
    "                random_emails.append(random.choice(random_element).lower()+'01@make_my_own_data.opt')\n",
    "            self.data.append(random_emails)\n",
    "    \n",
    "    def gen_primary_keys(self):\n",
    "        return self.data.append(range(1, self.num_rows))\n",
    "    \n",
    "    def gen_foreign_keys(self, sql):\n",
    "        cur.execute(sql)\n",
    "        rows = cur.fetchall()\n",
    "        fk_choice =[]\n",
    "        for row in rows:\n",
    "            fk_choice.append(*list(row))\n",
    "        new_fk = []\n",
    "        for e in range(1, self.num_rows):\n",
    "            new_fk.append(random.choice(fk_choice))\n",
    "        self.data.append(new_fk)\n",
    "        \n",
    "    \n",
    "    def gen_friend_pairings(self):\n",
    "        base_users = range(1, self.num_rows) #random sampling from PKs\n",
    "        friend_pairs = set() #set to ensure no duplicates\n",
    "        for pairs in range(1, 20*len(base_users)): #we want 20 times the friend pairings as PKs\n",
    "            user1, user2 = random.choice(base_users), random.choice(base_users) #create friends\n",
    "            if user1 == user2: #you can't be your own friend in this universe\n",
    "                continue\n",
    "            friend_pairs.add((user1,user2))\n",
    "        friend_pairs = zip(*list(friend_pairs)) #unpack tuple pairs into 2 lists\n",
    "        return self.data.extend(friend_pairs) #dump it into data\n",
    "        \n",
    "    \n",
    "    def gen_video_names(self):\n",
    "        video_names = []\n",
    "        for video in range(1, self.num_rows):\n",
    "            video_names.append('vid:'+str(randint(1,10000)))\n",
    "        return self.data.append(video_names)\n",
    "    \n",
    "#     def gen_like_id_package(self):\n",
    "#         ids = range(1, self.num_rows)\n",
    "#         id_pool = range(1, len(ids)*40) #40 times likes as users\n",
    "#         self.data.append(id_pool)\n",
    "\n",
    "#         like_pairs = set()\n",
    "#         for pairs in id_pool: #create a like pair for each id_pool\n",
    "#             user, video = random.choice(ids), random.choice(ids)\n",
    "#             like_pairs.add((user,video))\n",
    "#         x = zip(*list(like_pairs))\n",
    "#         x = list(x[0]),list(x[1])\n",
    "#         self.data.extend(x)\n",
    "        \n",
    "    def random_date(self, start, end, format, prop):\n",
    "        stime = time.mktime(time.strptime(start, format))\n",
    "        etime = time.mktime(time.strptime(end, format))\n",
    "        ptime = stime + prop * (etime - stime)\n",
    "        return time.strftime(format, time.localtime(ptime))\n",
    "            \n",
    "    def gen_timestamp(self):\n",
    "        times = []\n",
    "        for rows in range(1, len(self.data[0])):\n",
    "            times.append(self.random_date(\"1/1/2015 1:30\", \"1/1/2016 4:50\", '%m/%d/%Y %I:%M', random.random()))\n",
    "        self.data.append(times)\n",
    "        \n",
    "\n",
    "    def insert_data(self, col, col_insert):\n",
    "#         print self.data\n",
    "        insert_query = \"\"\"INSERT INTO cats.{}{} VALUES {}\"\"\".format(self.table, col, col_insert)\n",
    "        for row in zip(*self.data):\n",
    "            cur.execute(insert_query, row)\n"
   ]
  },
  {
   "cell_type": "code",
   "execution_count": 21,
   "metadata": {
    "collapsed": false
   },
   "outputs": [],
   "source": [
    "# create a connection to database. make sure that the db name and password are correct\n",
    "try:\n",
    "    conn = psycopg2.connect(\"dbname='HW2' user='postgres' host='/tmp/' password='Paolino1'\")\n",
    "except psycopg2.Error as e:\n",
    "    print \"I am unable to connect to the database\"\n",
    "    print e\n",
    "    print e.pgcode\n",
    "    print e.pgerror\n",
    "    print traceback.format_exc()\n",
    "    \n",
    "    \n",
    "conn.set_session(autocommit = True) #else use conn.commit() for each insert statement call\n",
    "cur = conn.cursor()"
   ]
  },
  {
   "cell_type": "markdown",
   "metadata": {},
   "source": [
    "Delete statements if you want to flush the DB, open up query tool and copy pasta them in and execute."
   ]
  },
  {
   "cell_type": "markdown",
   "metadata": {},
   "source": [
    "- 5000 users\n",
    "- 3000 videos\n",
    "- 20000 friend combos\n",
    "- 10000 likes\n",
    "- 20000 logins\n",
    "- 20000 watches\n",
    "- 5000 suggestions"
   ]
  },
  {
   "cell_type": "code",
   "execution_count": 23,
   "metadata": {
    "collapsed": false
   },
   "outputs": [],
   "source": [
    "user = TableDataGen(5000, 'user')\n",
    "user.gen_primary_keys()\n",
    "user.gen_names()\n",
    "user.gen_emails()\n",
    "user.insert_data('(user_id,user_name,facebook_id)', '(%s,%s,%s)')"
   ]
  },
  {
   "cell_type": "code",
   "execution_count": 24,
   "metadata": {
    "collapsed": false
   },
   "outputs": [],
   "source": [
    "video = TableDataGen(3000, 'video')\n",
    "video.gen_primary_keys()\n",
    "video.gen_video_names()\n",
    "video.insert_data('(video_id,video_name)', '(%s,%s)')"
   ]
  },
  {
   "cell_type": "code",
   "execution_count": 25,
   "metadata": {
    "collapsed": false
   },
   "outputs": [],
   "source": [
    "friend = TableDataGen(1000, 'friend') #creating 20 times!!! friend pairings for num of users\n",
    "friend.gen_friend_pairings()\n",
    "friend.insert_data('(user_id,friend_id)', '(%s,%s)')"
   ]
  },
  {
   "cell_type": "code",
   "execution_count": 26,
   "metadata": {
    "collapsed": false
   },
   "outputs": [],
   "source": [
    "likes = TableDataGen(10000, 'likes')\n",
    "# likes.gen_like_id_package()\n",
    "likes.gen_primary_keys()\n",
    "likes.gen_foreign_keys(\"\"\"SELECT user_id FROM cats.user\"\"\")\n",
    "likes.gen_foreign_keys(\"\"\"SELECT video_id FROM cats.video\"\"\")\n",
    "likes.gen_timestamp()\n",
    "likes.insert_data('(like_id,user_id,video_id,time)', '(%s,%s,%s,%s)')"
   ]
  },
  {
   "cell_type": "code",
   "execution_count": 27,
   "metadata": {
    "collapsed": false
   },
   "outputs": [],
   "source": [
    "login = TableDataGen(20000, 'login')\n",
    "login.gen_primary_keys()\n",
    "login.gen_foreign_keys(\"\"\"SELECT user_id FROM cats.user\"\"\")\n",
    "login.gen_timestamp()\n",
    "login.insert_data('(login_id,user_id,time)', '(%s,%s,%s)')"
   ]
  },
  {
   "cell_type": "code",
   "execution_count": 28,
   "metadata": {
    "collapsed": false
   },
   "outputs": [],
   "source": [
    "watch = TableDataGen(20000, 'watch')\n",
    "watch.gen_primary_keys()\n",
    "watch.gen_foreign_keys(\"\"\"SELECT video_id FROM cats.video\"\"\")\n",
    "watch.gen_foreign_keys(\"\"\"SELECT user_id FROM cats.user\"\"\")\n",
    "watch.gen_timestamp()\n",
    "watch.insert_data('(watch_id,video_id,user_id,time)', '(%s,%s,%s,%s)')"
   ]
  },
  {
   "cell_type": "code",
   "execution_count": 29,
   "metadata": {
    "collapsed": false
   },
   "outputs": [],
   "source": [
    "suggestion = TableDataGen(5000, 'suggestion')\n",
    "suggestion.gen_primary_keys()\n",
    "suggestion.gen_foreign_keys(\"\"\"SELECT login_id FROM cats.login\"\"\")\n",
    "suggestion.gen_foreign_keys(\"\"\"SELECT video_id FROM cats.video\"\"\")\n",
    "suggestion.insert_data('(suggestion_id,login_id,video_id)', '(%s,%s,%s)')"
   ]
  },
  {
   "cell_type": "code",
   "execution_count": null,
   "metadata": {
    "collapsed": true
   },
   "outputs": [],
   "source": []
  },
  {
   "cell_type": "markdown",
   "metadata": {},
   "source": [
    "### Test out the data quality by pulling from the database:"
   ]
  },
  {
   "cell_type": "code",
   "execution_count": 30,
   "metadata": {
    "collapsed": false
   },
   "outputs": [
    {
     "name": "stdout",
     "output_type": "stream",
     "text": [
      "\n",
      "LIMIT 10 from table:  ----- user -----\n",
      "(1, 'Aaron', 'aaron01@make_my_own_data.opt')\n",
      "(2, 'Aaron', 'aaron01@make_my_own_data.opt')\n",
      "(3, 'Aaron', 'aaron01@make_my_own_data.opt')\n",
      "(4, 'Aaron', 'aaron01@make_my_own_data.opt')\n",
      "(5, 'Aaron', 'aaron01@make_my_own_data.opt')\n",
      "(6, 'Aaron', 'aaron01@make_my_own_data.opt')\n",
      "(7, 'Aaron', 'aaron01@make_my_own_data.opt')\n",
      "(8, 'Aaron', 'aaron01@make_my_own_data.opt')\n",
      "(9, 'Aaron', 'aaron01@make_my_own_data.opt')\n",
      "(10, 'Aaron', 'aaron01@make_my_own_data.opt')\n",
      "\n",
      "LIMIT 10 from table:  ----- video -----\n",
      "(1, 'vid:6733')\n",
      "(2, 'vid:6462')\n",
      "(3, 'vid:3506')\n",
      "(4, 'vid:3975')\n",
      "(5, 'vid:6873')\n",
      "(6, 'vid:3963')\n",
      "(7, 'vid:8754')\n",
      "(8, 'vid:4352')\n",
      "(9, 'vid:8986')\n",
      "(10, 'vid:3490')\n",
      "\n",
      "LIMIT 10 from table:  ----- friend -----\n",
      "(67, 248)\n",
      "(985, 541)\n",
      "(214, 377)\n",
      "(622, 362)\n",
      "(808, 994)\n",
      "(915, 838)\n",
      "(840, 686)\n",
      "(882, 175)\n",
      "(534, 556)\n",
      "(238, 78)\n",
      "\n",
      "LIMIT 10 from table:  ----- likes -----\n",
      "(1, 360, 1834, datetime.datetime(2015, 5, 29, 5, 26))\n",
      "(2, 2271, 1853, datetime.datetime(2015, 5, 8, 9, 31))\n",
      "(3, 4197, 1745, datetime.datetime(2015, 3, 29, 12, 52))\n",
      "(4, 4002, 890, datetime.datetime(2015, 12, 3, 10, 32))\n",
      "(5, 3028, 965, datetime.datetime(2015, 11, 30, 10, 44))\n",
      "(6, 4479, 1542, datetime.datetime(2015, 11, 12, 6, 47))\n",
      "(7, 855, 857, datetime.datetime(2015, 12, 12, 4, 12))\n",
      "(8, 2483, 1780, datetime.datetime(2015, 7, 11, 9, 0))\n",
      "(9, 2129, 1659, datetime.datetime(2015, 8, 7, 6, 40))\n",
      "(10, 4526, 691, datetime.datetime(2015, 7, 27, 1, 21))\n",
      "\n",
      "LIMIT 10 from table:  ----- suggestion -----\n",
      "(1, 9205, 2275)\n",
      "(2, 10452, 2742)\n",
      "(3, 5559, 1736)\n",
      "(4, 5068, 1346)\n",
      "(5, 83, 2653)\n",
      "(6, 3129, 806)\n",
      "(7, 2854, 2197)\n",
      "(8, 15761, 2562)\n",
      "(9, 18586, 807)\n",
      "(10, 19921, 562)\n",
      "\n",
      "LIMIT 10 from table:  ----- watch -----\n",
      "(1, 1575, 4683, datetime.datetime(2015, 1, 25, 7, 31))\n",
      "(2, 2966, 4669, datetime.datetime(2015, 7, 3, 10, 10))\n",
      "(3, 2544, 792, datetime.datetime(2015, 11, 16, 12, 8))\n",
      "(4, 2630, 495, datetime.datetime(2015, 4, 1, 4, 33))\n",
      "(5, 440, 3685, datetime.datetime(2015, 3, 23, 11, 32))\n",
      "(6, 1664, 2775, datetime.datetime(2015, 1, 30, 2, 39))\n",
      "(7, 2283, 3870, datetime.datetime(2015, 1, 13, 11, 22))\n",
      "(8, 2023, 4043, datetime.datetime(2015, 3, 12, 5, 25))\n",
      "(9, 431, 2868, datetime.datetime(2015, 2, 16, 12, 56))\n",
      "(10, 1227, 4175, datetime.datetime(2015, 5, 28, 7, 13))\n",
      "\n",
      "LIMIT 10 from table:  ----- login -----\n",
      "(1, 4536, datetime.datetime(2015, 7, 31, 3, 26))\n",
      "(2, 3870, datetime.datetime(2015, 8, 21, 3, 28))\n",
      "(3, 4349, datetime.datetime(2015, 10, 1, 4, 24))\n",
      "(4, 1966, datetime.datetime(2015, 6, 10, 9, 45))\n",
      "(5, 2647, datetime.datetime(2015, 11, 20, 1, 49))\n",
      "(6, 2474, datetime.datetime(2015, 8, 7, 2, 9))\n",
      "(7, 2257, datetime.datetime(2015, 5, 27, 9, 41))\n",
      "(8, 3459, datetime.datetime(2015, 2, 21, 4, 58))\n",
      "(9, 3623, datetime.datetime(2015, 3, 1, 11, 35))\n",
      "(10, 2104, datetime.datetime(2015, 12, 1, 12, 53))\n"
     ]
    }
   ],
   "source": [
    "# Test DB Queries:\n",
    "tests = ['user','video','friend','likes', 'suggestion', 'watch','login'] #get data from base tables\n",
    "for test in tests:\n",
    "    try:\n",
    "        cur.execute(\"\"\"SELECT * from cats.{} limit 10\"\"\".format(test))\n",
    "    except:\n",
    "        print \"Failed SELECT from cats.{}\".format(test)\n",
    "\n",
    "    rows = cur.fetchall()\n",
    "    print '\\nLIMIT 10 from table:  ----- {} -----'.format(test)\n",
    "    for row in rows:\n",
    "        print row"
   ]
  },
  {
   "cell_type": "code",
   "execution_count": 31,
   "metadata": {
    "collapsed": true
   },
   "outputs": [],
   "source": [
    "#close the connection to db\n",
    "conn.close()"
   ]
  },
  {
   "cell_type": "code",
   "execution_count": null,
   "metadata": {
    "collapsed": true
   },
   "outputs": [],
   "source": []
  }
 ],
 "metadata": {
  "anaconda-cloud": {},
  "kernelspec": {
   "display_name": "Python [default]",
   "language": "python",
   "name": "python2"
  },
  "language_info": {
   "codemirror_mode": {
    "name": "ipython",
    "version": 2
   },
   "file_extension": ".py",
   "mimetype": "text/x-python",
   "name": "python",
   "nbconvert_exporter": "python",
   "pygments_lexer": "ipython2",
   "version": "2.7.12"
  }
 },
 "nbformat": 4,
 "nbformat_minor": 1
}
