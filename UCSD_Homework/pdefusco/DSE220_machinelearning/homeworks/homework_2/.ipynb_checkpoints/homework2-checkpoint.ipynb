{
 "cells": [
  {
   "cell_type": "code",
   "execution_count": null,
   "metadata": {},
   "outputs": [],
   "source": [
    "import numpy as np\n",
    "import matplotlib as mp\n",
    "import pandas as pd"
   ]
  },
  {
   "cell_type": "markdown",
   "metadata": {},
   "source": [
    "# Homework 2"
   ]
  },
  {
   "cell_type": "markdown",
   "metadata": {},
   "source": [
    "Load Data"
   ]
  },
  {
   "cell_type": "code",
   "execution_count": null,
   "metadata": {},
   "outputs": [],
   "source": [
    "train_data = pd.read_csv('/Users/pauldefusco/Documents/DSE/pdefusco/DSE220/DSE-220/homeworks/homework_2/mnist_train_data.csv')\n",
    "train_labels = pd.read_csv('/Users/pauldefusco/Documents/DSE/pdefusco/DSE220/DSE-220/homeworks/homework_2/mnist_train_labels.csv')\n",
    "test_data = pd.read_csv('/Users/pauldefusco/Documents/DSE/pdefusco/DSE220/DSE-220/homeworks/homework_2/mnist_test_data.csv')\n",
    "test_labels = pd.read_csv('/Users/pauldefusco/Documents/DSE/pdefusco/DSE220/DSE-220/homeworks/homework_2/mnist_test_labels.csv')"
   ]
  },
  {
   "cell_type": "markdown",
   "metadata": {},
   "source": [
    "Question 1"
   ]
  },
  {
   "cell_type": "code",
   "execution_count": null,
   "metadata": {},
   "outputs": [],
   "source": [
    "priors = []\n",
    "for k in range(0,10):\n",
    "    count = 0\n",
    "    for i in train_labels['5']:\n",
    "        if i == k:\n",
    "            count+=1\n",
    "    priors.append(count/float(5999))"
   ]
  },
  {
   "cell_type": "markdown",
   "metadata": {},
   "source": [
    "Question 2"
   ]
  },
  {
   "cell_type": "code",
   "execution_count": null,
   "metadata": {},
   "outputs": [],
   "source": [
    "tot = 0\n",
    "new = []\n",
    "for k in priors:\n",
    "    i=k*int(5999)\n",
    "    new.append(i)"
   ]
  },
  {
   "cell_type": "code",
   "execution_count": null,
   "metadata": {},
   "outputs": [],
   "source": [
    "new_smoothed = [i+2 for i in new]"
   ]
  },
  {
   "cell_type": "code",
   "execution_count": null,
   "metadata": {},
   "outputs": [],
   "source": [
    "labeled = pd.DataFrame(train_data, train_labels['5']).reset_index()\n",
    "labeled = labeled.rename(columns = {'5':'Label'})"
   ]
  },
  {
   "cell_type": "code",
   "execution_count": null,
   "metadata": {},
   "outputs": [],
   "source": [
    "df = pd.DataFrame()\n",
    "for i in labeled.columns:\n",
    "    new_series = labeled.groupby(['Label'])[i].sum()+1\n",
    "    df = df.append(new_series)\n",
    "df = df.transpose()"
   ]
  },
  {
   "cell_type": "code",
   "execution_count": null,
   "metadata": {},
   "outputs": [],
   "source": [
    "del df['Label']"
   ]
  },
  {
   "cell_type": "code",
   "execution_count": null,
   "metadata": {},
   "outputs": [],
   "source": [
    "df = (df.transpose()/new_smoothed).transpose()"
   ]
  },
  {
   "cell_type": "markdown",
   "metadata": {},
   "source": [
    "Highest Pij for each class"
   ]
  },
  {
   "cell_type": "code",
   "execution_count": null,
   "metadata": {},
   "outputs": [],
   "source": [
    "df.max(axis=1)"
   ]
  },
  {
   "cell_type": "markdown",
   "metadata": {
    "collapsed": true
   },
   "source": [
    "Question 3"
   ]
  },
  {
   "cell_type": "code",
   "execution_count": null,
   "metadata": {},
   "outputs": [],
   "source": [
    "df"
   ]
  },
  {
   "cell_type": "code",
   "execution_count": null,
   "metadata": {
    "collapsed": true
   },
   "outputs": [],
   "source": [
    "df.columns = [i for i in range(0,784)]"
   ]
  },
  {
   "cell_type": "code",
   "execution_count": null,
   "metadata": {
    "collapsed": true
   },
   "outputs": [],
   "source": [
    "from operator import itemgetter"
   ]
  },
  {
   "cell_type": "code",
   "execution_count": null,
   "metadata": {},
   "outputs": [],
   "source": [
    "predictions = []\n",
    "\n",
    "for i in range(0,999):\n",
    "    totals = []\n",
    "    for s in range(0,10):\n",
    "        label = s\n",
    "        tot = np.log(priors[s])\n",
    "        for k,j in zip(df.iloc[s,:],test_data.iloc[i,:]):\n",
    "            if j==1:\n",
    "                tot+=np.log(k)\n",
    "            elif j==0:\n",
    "                tot+=np.log(1-k)\n",
    "        totals.append((tot,label))\n",
    "    #predictions.append(max(totals,key=lambda x:x[0])[1])\n",
    "    #predictions.append(max(totals)[1])\n",
    "    predictions.append(max(totals,key=itemgetter(0))[1])\n",
    "\n",
    "    #predictions.append(np.argmax(totals))"
   ]
  },
  {
   "cell_type": "code",
   "execution_count": null,
   "metadata": {},
   "outputs": [],
   "source": [
    "predictions = []\n",
    "\n",
    "for i in range(0,999):\n",
    "    totals = []\n",
    "    for s in range(0,10):\n",
    "        label = s\n",
    "        tot = np.log(priors[s])\n",
    "        for k,j in zip(df.iloc[s,:],test_data.iloc[i,:]):\n",
    "            if j==1:\n",
    "                tot+=np.log(k)\n",
    "            elif j==0:\n",
    "                tot+=np.log(1-k)\n",
    "        totals.append(tot)\n",
    "    #predictions.append(max(totals,key=lambda item:item[0])[1])\n",
    "    predictions.append(np.argmax(totals))\n"
   ]
  },
  {
   "cell_type": "code",
   "execution_count": null,
   "metadata": {},
   "outputs": [],
   "source": [
    "predictions"
   ]
  },
  {
   "cell_type": "code",
   "execution_count": null,
   "metadata": {},
   "outputs": [],
   "source": [
    "test_labels['Prediction'] = predictions"
   ]
  },
  {
   "cell_type": "code",
   "execution_count": null,
   "metadata": {},
   "outputs": [],
   "source": [
    "test_labels"
   ]
  },
  {
   "cell_type": "code",
   "execution_count": null,
   "metadata": {},
   "outputs": [],
   "source": [
    "test_labels=test_labels.rename(columns = {'7':'Label'})"
   ]
  },
  {
   "cell_type": "code",
   "execution_count": null,
   "metadata": {},
   "outputs": [],
   "source": [
    "correct = []\n",
    "for i,k in zip(test_labels['Label'],test_labels['Prediction']):\n",
    "    if i==k:\n",
    "        correct.append('True')\n",
    "    else:\n",
    "        correct.append('False')\n",
    "test_labels['Correct Prediction'] = correct"
   ]
  },
  {
   "cell_type": "code",
   "execution_count": null,
   "metadata": {},
   "outputs": [],
   "source": [
    "test_labels['Correct Prediction']"
   ]
  },
  {
   "cell_type": "code",
   "execution_count": null,
   "metadata": {},
   "outputs": [],
   "source": [
    "count = 0\n",
    "for i in test_labels['Correct Prediction']:\n",
    "    if i == 'True':\n",
    "        count+=1\n",
    "print ('Accuracy: ', count/float(len(test_labels)))"
   ]
  },
  {
   "cell_type": "markdown",
   "metadata": {
    "collapsed": true
   },
   "source": [
    "Question 4"
   ]
  },
  {
   "cell_type": "code",
   "execution_count": null,
   "metadata": {},
   "outputs": [],
   "source": [
    "from sklearn import metrics"
   ]
  },
  {
   "cell_type": "code",
   "execution_count": null,
   "metadata": {},
   "outputs": [],
   "source": [
    "#Confusion Matrix\n",
    "cm = metrics.confusion_matrix(test_labels['Label'], test_labels['Prediction'], labels=None, sample_weight=None)"
   ]
  },
  {
   "cell_type": "code",
   "execution_count": null,
   "metadata": {
    "collapsed": true
   },
   "outputs": [],
   "source": [
    "import matplotlib.pyplot as plt"
   ]
  },
  {
   "cell_type": "code",
   "execution_count": null,
   "metadata": {},
   "outputs": [],
   "source": [
    "plt.matshow(cm)\n",
    "plt.title('Confusion matrix')\n",
    "plt.colorbar()\n",
    "plt.ylabel('True label')\n",
    "plt.xlabel('Predicted label')\n",
    "plt.show()"
   ]
  },
  {
   "cell_type": "code",
   "execution_count": null,
   "metadata": {},
   "outputs": [],
   "source": [
    "type(cm)"
   ]
  },
  {
   "cell_type": "code",
   "execution_count": null,
   "metadata": {},
   "outputs": [],
   "source": [
    "cm"
   ]
  },
  {
   "cell_type": "markdown",
   "metadata": {
    "collapsed": true
   },
   "source": [
    "By reading my confusion matrix the most inaccurate classifications occur for values that were predicted to be in class 8 but really were in class 2 (84 of them). Then values that were predicted to be in class 10 but were really in class 4 (58 of them). And finally values predicted to be in class 4 that were really in class 10 (53)."
   ]
  },
  {
   "cell_type": "markdown",
   "metadata": {},
   "source": [
    "Question 5"
   ]
  },
  {
   "cell_type": "code",
   "execution_count": null,
   "metadata": {},
   "outputs": [],
   "source": [
    "pixels = test_data.iloc[1,:]\n",
    "pixels = np.array(pixels, dtype='uint8')\n",
    "pixels = pixels.reshape((28, 28))\n",
    "\n",
    "plt.title('Label is {label}'.format(label=test_labels['Label'][0]))\n",
    "plt.imshow(pixels, cmap='gray')\n",
    "plt.show()\n",
    "\n",
    "print ('Label is ', test_labels['Label'][0], 'predition is ', test_labels['Prediction'][0])"
   ]
  },
  {
   "cell_type": "code",
   "execution_count": null,
   "metadata": {},
   "outputs": [],
   "source": [
    "pixels = test_data.iloc[2,:]\n",
    "pixels = np.array(pixels, dtype='uint8')\n",
    "pixels = pixels.reshape((28, 28))\n",
    "\n",
    "plt.title('Label is {label}'.format(label=test_labels['Label'][1]))\n",
    "plt.imshow(pixels, cmap='gray')\n",
    "plt.show()\n",
    "\n",
    "print ('Label is ', test_labels['Label'][1], 'predition is ', test_labels['Prediction'][1])"
   ]
  },
  {
   "cell_type": "markdown",
   "metadata": {},
   "source": [
    "Question 6"
   ]
  },
  {
   "cell_type": "code",
   "execution_count": null,
   "metadata": {
    "collapsed": true
   },
   "outputs": [],
   "source": [
    "from sklearn.datasets import load_breast_cancer\n",
    "data = load_breast_cancer()"
   ]
  },
  {
   "cell_type": "code",
   "execution_count": null,
   "metadata": {},
   "outputs": [],
   "source": [
    "data.keys()"
   ]
  },
  {
   "cell_type": "code",
   "execution_count": null,
   "metadata": {},
   "outputs": [],
   "source": [
    "data['data'].shape"
   ]
  },
  {
   "cell_type": "code",
   "execution_count": null,
   "metadata": {},
   "outputs": [],
   "source": [
    "data_set = pd.DataFrame(data['data'])"
   ]
  },
  {
   "cell_type": "code",
   "execution_count": null,
   "metadata": {
    "collapsed": true
   },
   "outputs": [],
   "source": [
    "target_set = np.array(data['target'])"
   ]
  },
  {
   "cell_type": "code",
   "execution_count": null,
   "metadata": {
    "collapsed": true
   },
   "outputs": [],
   "source": [
    "target_set = pd.DataFrame(target_set)"
   ]
  },
  {
   "cell_type": "code",
   "execution_count": null,
   "metadata": {},
   "outputs": [],
   "source": [
    "target_set.shape"
   ]
  },
  {
   "cell_type": "code",
   "execution_count": null,
   "metadata": {},
   "outputs": [],
   "source": [
    "from sklearn.model_selection import train_test_split"
   ]
  },
  {
   "cell_type": "code",
   "execution_count": null,
   "metadata": {},
   "outputs": [],
   "source": [
    "X_train_val, X_test, y_train_val, y_test = train_test_split(data_set, target_set, test_size=0.4, random_state=1)\n",
    "X_train, X_val, y_train, y_val = train_test_split(X_train_val, y_train_val, test_size=0.333, random_state=1)"
   ]
  },
  {
   "cell_type": "code",
   "execution_count": null,
   "metadata": {
    "collapsed": true
   },
   "outputs": [],
   "source": [
    "from sklearn.mixture import GaussianMixture"
   ]
  },
  {
   "cell_type": "code",
   "execution_count": null,
   "metadata": {},
   "outputs": [],
   "source": [
    "from sklearn.metrics import accuracy_score\n",
    "for cov in ['full', 'tied', 'diag', 'spherical']:\n",
    "\n",
    "    clf = GaussianMixture(n_components=2, covariance_type=cov)\n",
    "    clf.means_init = np.array([X_train.iloc[y_train==i].mean(axis=0) for i in range(2)])\n",
    "    clf.fit(X_train, y_train)\n",
    "    pred = clf.predict(X_val)\n",
    "    print ('Validation accuracy for covariance type '+ cov + ' = ' + str(accuracy_score(y_val, pred)))"
   ]
  },
  {
   "cell_type": "code",
   "execution_count": null,
   "metadata": {},
   "outputs": [],
   "source": [
    "clf_best = GaussianMixture(n_components=2, covariance_type='spherical')  \n",
    "clf_best.means_init = np.array([X_train_val.iloc[y_train_val==i].mean(axis=0) for i in range(2)])\n",
    "clf_best.fit(X_train_val, y_train_val)"
   ]
  },
  {
   "cell_type": "code",
   "execution_count": null,
   "metadata": {},
   "outputs": [],
   "source": [
    "# predict\n",
    "pred_train_val = clf_best.predict(X_train_val)\n",
    "pred = clf_best.predict(X_test)\n",
    "#evaluate\n",
    "print ('Train + Val accuracy = ' + str(accuracy_score(y_train_val, pred_train_val)))\n",
    "print ('Test accuracy = ' + str(accuracy_score(y_test, pred)))"
   ]
  },
  {
   "cell_type": "markdown",
   "metadata": {},
   "source": [
    "Question 7"
   ]
  },
  {
   "cell_type": "code",
   "execution_count": null,
   "metadata": {},
   "outputs": [],
   "source": [
    "array_train_val = y_train_val[0]\n",
    "array_train_val = array_train_val.as_matrix()\n",
    "array_test = y_test[0]\n",
    "array_test = array_test.as_matrix()"
   ]
  },
  {
   "cell_type": "code",
   "execution_count": null,
   "metadata": {},
   "outputs": [],
   "source": [
    "from sklearn.discriminant_analysis import LinearDiscriminantAnalysis\n",
    "\n",
    "clf = LinearDiscriminantAnalysis()\n",
    "clf.fit(X_train_val, y_train_val)\n",
    "y_pred = clf.predict(X_test)\n",
    "y_train_val_pred = clf.predict(X_train_val)\n",
    "\n",
    "print ('Training accuracy = ' + str(np.sum(y_train_val_pred == array_train_val)/float(len(array_train_val))))\n",
    "print ('Test accuracy = ' + str(np.sum(y_pred == array_test)/float(len(array_test))))"
   ]
  },
  {
   "cell_type": "markdown",
   "metadata": {},
   "source": [
    "Transf Matrix"
   ]
  },
  {
   "cell_type": "code",
   "execution_count": null,
   "metadata": {},
   "outputs": [],
   "source": [
    "clf.coef_"
   ]
  },
  {
   "cell_type": "markdown",
   "metadata": {},
   "source": [
    "Intercept"
   ]
  },
  {
   "cell_type": "code",
   "execution_count": null,
   "metadata": {},
   "outputs": [],
   "source": [
    "clf.intercept_"
   ]
  },
  {
   "cell_type": "markdown",
   "metadata": {
    "collapsed": true
   },
   "source": [
    "Question 8"
   ]
  },
  {
   "cell_type": "code",
   "execution_count": null,
   "metadata": {},
   "outputs": [],
   "source": [
    "from sklearn.datasets import load_digits\n",
    "digits = load_digits()\n",
    "print(digits.data.shape)"
   ]
  },
  {
   "cell_type": "code",
   "execution_count": null,
   "metadata": {},
   "outputs": [],
   "source": [
    "import matplotlib.pyplot as plt \n",
    "plt.gray() \n",
    "plt.matshow(digits.images[0]) \n",
    "plt.show() "
   ]
  },
  {
   "cell_type": "code",
   "execution_count": null,
   "metadata": {},
   "outputs": [],
   "source": [
    "digits_train = pd.DataFrame(digits.data).iloc[0:497,:]\n",
    "digits_test = pd.DataFrame(digits.data).iloc[497:,:]"
   ]
  },
  {
   "cell_type": "code",
   "execution_count": null,
   "metadata": {},
   "outputs": [],
   "source": [
    "target_train = pd.DataFrame(digits.target).iloc[0:497,:]\n",
    "target_test = pd.DataFrame(digits.target).iloc[497:,:]"
   ]
  },
  {
   "cell_type": "code",
   "execution_count": null,
   "metadata": {},
   "outputs": [],
   "source": [
    "from sklearn.neighbors import KNeighborsClassifier\n",
    "nbrs = KNeighborsClassifier(n_neighbors=5,metric='chebyshev')\n",
    "#.fit(digits_train)\n",
    "model = nbrs.fit(digits_train, target_train)"
   ]
  },
  {
   "cell_type": "code",
   "execution_count": null,
   "metadata": {},
   "outputs": [],
   "source": [
    "prediction = model.predict(digits_test)"
   ]
  },
  {
   "cell_type": "code",
   "execution_count": null,
   "metadata": {},
   "outputs": [],
   "source": [
    "prediction.shape"
   ]
  },
  {
   "cell_type": "code",
   "execution_count": null,
   "metadata": {
    "collapsed": true
   },
   "outputs": [],
   "source": [
    "new_ind = [i for i in range(497,1797)]"
   ]
  },
  {
   "cell_type": "code",
   "execution_count": null,
   "metadata": {},
   "outputs": [],
   "source": [
    "prediction_comparison = pd.DataFrame(prediction)"
   ]
  },
  {
   "cell_type": "code",
   "execution_count": null,
   "metadata": {},
   "outputs": [],
   "source": [
    "prediction_comparison.index=new_ind"
   ]
  },
  {
   "cell_type": "code",
   "execution_count": null,
   "metadata": {},
   "outputs": [],
   "source": [
    "new2 = pd.concat([prediction_comparison,target_test],axis=1, ignore_index=True)"
   ]
  },
  {
   "cell_type": "code",
   "execution_count": null,
   "metadata": {},
   "outputs": [],
   "source": [
    "new2.columns = ['Prediction','Actual']"
   ]
  },
  {
   "cell_type": "markdown",
   "metadata": {},
   "source": [
    "Specificity(i.e. Recall), Sensitivity, TPR, TNR, FNR, FPR, Precision for Digit 3"
   ]
  },
  {
   "cell_type": "code",
   "execution_count": null,
   "metadata": {},
   "outputs": [],
   "source": [
    "Actual_Three = []\n",
    "for i in new2['Actual']:\n",
    "    if i == 3:\n",
    "        Actual_Three.append(1)\n",
    "    else:\n",
    "        Actual_Three.append(0)\n",
    "\n",
    "Prediction_Three = []\n",
    "for i in new2['Prediction']:\n",
    "    if i == 3:\n",
    "        Prediction_Three.append(1)\n",
    "    else:\n",
    "        Prediction_Three.append(0)       "
   ]
  },
  {
   "cell_type": "code",
   "execution_count": null,
   "metadata": {},
   "outputs": [],
   "source": [
    "matrix = np.matrix([Actual_Three,Prediction_Three])\n",
    "df = pd.DataFrame(data=matrix).transpose()"
   ]
  },
  {
   "cell_type": "code",
   "execution_count": null,
   "metadata": {},
   "outputs": [],
   "source": [
    "df.columns = ['Actually_a_3','Predicted_a_3']"
   ]
  },
  {
   "cell_type": "code",
   "execution_count": null,
   "metadata": {},
   "outputs": [],
   "source": [
    "Real_Pos = 0\n",
    "Real_Neg = 0\n",
    "False_Pos = 0\n",
    "False_Neg = 0\n",
    "\n",
    "#Counts for Real Positives, Real Negatives, False Positives, False Negatives\n",
    "for a,p in zip(df.Actually_a_3, df.Predicted_a_3):\n",
    "    if a == 1 and p == 1:\n",
    "        Real_Pos +=1\n",
    "    elif a == 0 and p == 0:\n",
    "        Real_Neg +=1\n",
    "    elif a == 1 and p == 0:\n",
    "        False_Neg +=1\n",
    "    elif a == 0 and p == 1:\n",
    "        False_Pos +=1\n",
    "        "
   ]
  },
  {
   "cell_type": "code",
   "execution_count": null,
   "metadata": {},
   "outputs": [],
   "source": [
    "print 'Real Positives: ', Real_Pos, 'Real Negatives: ', Real_Neg, 'False Positives: ', False_Pos, 'False Negatives: ', False_Neg"
   ]
  },
  {
   "cell_type": "code",
   "execution_count": null,
   "metadata": {},
   "outputs": [],
   "source": [
    "#Sensitivity i.e. Recall i.e. True Positive Rate\n",
    "Sensitivity = Real_Pos/float(Real_Pos+False_Neg)\n",
    "print 'Sensitivity: ', Sensitivity"
   ]
  },
  {
   "cell_type": "code",
   "execution_count": null,
   "metadata": {},
   "outputs": [],
   "source": [
    "#Specificity i.e. True Negative Rate\n",
    "Specificity = Real_Neg / float(Real_Neg + False_Pos)\n",
    "print 'Specificity: ', Specificity"
   ]
  },
  {
   "cell_type": "code",
   "execution_count": null,
   "metadata": {},
   "outputs": [],
   "source": [
    "#Precision\n",
    "Precision = Real_Pos / float(Real_Pos + False_Pos)\n",
    "print 'Precision: ', Precision"
   ]
  },
  {
   "cell_type": "code",
   "execution_count": null,
   "metadata": {},
   "outputs": [],
   "source": [
    "#False Positive Rate\n",
    "False_Pos_Rate = False_Pos/float(False_Pos+Real_Neg)\n",
    "print 'False Positive Rate: ', False_Pos_Rate"
   ]
  },
  {
   "cell_type": "code",
   "execution_count": null,
   "metadata": {},
   "outputs": [],
   "source": [
    "#False Negative Rate\n",
    "False_Neg_Rate = False_Neg / float(Real_Pos + False_Neg)\n",
    "print 'False Negative Rate: ',False_Neg_Rate"
   ]
  },
  {
   "cell_type": "markdown",
   "metadata": {},
   "source": [
    "Question 9"
   ]
  },
  {
   "cell_type": "code",
   "execution_count": null,
   "metadata": {},
   "outputs": [],
   "source": [
    "from sklearn.datasets import load_diabetes\n",
    "data = load_diabetes()"
   ]
  },
  {
   "cell_type": "code",
   "execution_count": null,
   "metadata": {},
   "outputs": [],
   "source": [
    "type(data)"
   ]
  },
  {
   "cell_type": "code",
   "execution_count": null,
   "metadata": {},
   "outputs": [],
   "source": [
    "data.keys()"
   ]
  },
  {
   "cell_type": "code",
   "execution_count": null,
   "metadata": {},
   "outputs": [],
   "source": [
    "data.data.shape"
   ]
  },
  {
   "cell_type": "code",
   "execution_count": null,
   "metadata": {},
   "outputs": [],
   "source": [
    "data.target.shape"
   ]
  },
  {
   "cell_type": "code",
   "execution_count": null,
   "metadata": {
    "collapsed": true
   },
   "outputs": [],
   "source": [
    "data_set = pd.DataFrame(data.data)\n",
    "target_set = pd.DataFrame(data.target)"
   ]
  },
  {
   "cell_type": "code",
   "execution_count": null,
   "metadata": {},
   "outputs": [],
   "source": [
    "X_train, X_test, y_train, y_test = train_test_split(data_set, target_set, test_size=0.1, random_state=10)"
   ]
  },
  {
   "cell_type": "code",
   "execution_count": null,
   "metadata": {
    "collapsed": true
   },
   "outputs": [],
   "source": [
    "theta,residuals,rank,s = np.linalg.lstsq(X_train, y_train)"
   ]
  },
  {
   "cell_type": "code",
   "execution_count": null,
   "metadata": {},
   "outputs": [],
   "source": [
    "# Make predictions on the test data\n",
    "predictions = np.dot(X_test, theta)\n",
    "# Let's see the output on training data as well, to see the training error\n",
    "y_true_pred = np.dot(X_train, theta)"
   ]
  },
  {
   "cell_type": "code",
   "execution_count": null,
   "metadata": {},
   "outputs": [],
   "source": [
    "from sklearn.metrics import mean_squared_error\n",
    "from sklearn.metrics import mean_absolute_error\n",
    "print 'Mean Squared Error on Test: ',(mean_squared_error(y_test, predictions))\n",
    "print 'Mean Absolute Error on Test: ',(mean_absolute_error(y_test, predictions))\n"
   ]
  },
  {
   "cell_type": "markdown",
   "metadata": {},
   "source": [
    "Question 10"
   ]
  },
  {
   "cell_type": "code",
   "execution_count": null,
   "metadata": {
    "collapsed": true
   },
   "outputs": [],
   "source": [
    "from sklearn.metrics import r2_score"
   ]
  },
  {
   "cell_type": "code",
   "execution_count": null,
   "metadata": {},
   "outputs": [],
   "source": [
    "metrics = []\n",
    "for i in range(0,10):\n",
    "    X_train_experiment = pd.DataFrame.copy(X_train)\n",
    "    ones = pd.DataFrame(1, index=np.arange(len(X_train)), columns = ['One'])\n",
    "    X_train_experiment.iloc[:,i] = ones\n",
    "    X_train_experiment.fillna(1,inplace=True)\n",
    "    #model\n",
    "    theta,residuals,rank,s = np.linalg.lstsq(X_train_experiment, y_train)\n",
    "    predictions = np.dot(X_test, theta)\n",
    "    y_true_pred = np.dot(X_train, theta)\n",
    "    #Metrics\n",
    "    MSE = (mean_squared_error(y_test, predictions))\n",
    "    MAE = (mean_absolute_error(y_test, predictions))\n",
    "    R2 =(r2_score(y_test, predictions))\n",
    "    metrics.append((i,MSE,MAE,R2))\n",
    "    "
   ]
  },
  {
   "cell_type": "markdown",
   "metadata": {},
   "source": [
    "Question 11"
   ]
  },
  {
   "cell_type": "code",
   "execution_count": null,
   "metadata": {},
   "outputs": [],
   "source": [
    "metrics"
   ]
  },
  {
   "cell_type": "code",
   "execution_count": null,
   "metadata": {},
   "outputs": [],
   "source": [
    "metrics = pd.DataFrame(metrics, columns = ['Feature','MSE','MAE','R2'])"
   ]
  },
  {
   "cell_type": "code",
   "execution_count": null,
   "metadata": {},
   "outputs": [],
   "source": [
    "metrics.sort_values(['MSE'],ascending=False)"
   ]
  },
  {
   "cell_type": "markdown",
   "metadata": {},
   "source": [
    "The features that are most significant are the ones such that if they are changed into 1's' the MSE is highest. So the features are sorted by significance in the above dataframe, from highest to lowest (DESC)"
   ]
  },
  {
   "cell_type": "code",
   "execution_count": null,
   "metadata": {
    "collapsed": true
   },
   "outputs": [],
   "source": []
  }
 ],
 "metadata": {
  "kernelspec": {
   "display_name": "Python 2",
   "language": "python",
   "name": "python2"
  },
  "language_info": {
   "codemirror_mode": {
    "name": "ipython",
    "version": 2
   },
   "file_extension": ".py",
   "mimetype": "text/x-python",
   "name": "python",
   "nbconvert_exporter": "python",
   "pygments_lexer": "ipython2",
   "version": "2.7.13"
  }
 },
 "nbformat": 4,
 "nbformat_minor": 2
}
