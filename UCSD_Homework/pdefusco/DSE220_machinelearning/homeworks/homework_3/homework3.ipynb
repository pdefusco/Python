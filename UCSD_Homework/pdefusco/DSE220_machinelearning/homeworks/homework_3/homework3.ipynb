{
 "cells": [
  {
   "cell_type": "markdown",
   "metadata": {},
   "source": [
    "Paul de Fusco\n",
    "Homework 3"
   ]
  },
  {
   "cell_type": "markdown",
   "metadata": {},
   "source": [
    "Question 1"
   ]
  },
  {
   "cell_type": "code",
   "execution_count": null,
   "metadata": {
    "collapsed": true
   },
   "outputs": [],
   "source": [
    "import numpy as np\n",
    "import matplotlib.pyplot as plt\n",
    "%matplotlib inline\n",
    "\n",
    "from sklearn.model_selection import train_test_split\n",
    "import pandas as pd"
   ]
  },
  {
   "cell_type": "code",
   "execution_count": null,
   "metadata": {
    "collapsed": true
   },
   "outputs": [],
   "source": [
    "data = pd.read_csv('wine_original.csv')"
   ]
  },
  {
   "cell_type": "code",
   "execution_count": null,
   "metadata": {
    "collapsed": true
   },
   "outputs": [],
   "source": [
    "data"
   ]
  },
  {
   "cell_type": "code",
   "execution_count": null,
   "metadata": {
    "collapsed": true
   },
   "outputs": [],
   "source": [
    "labels = data['class']"
   ]
  },
  {
   "cell_type": "code",
   "execution_count": null,
   "metadata": {
    "collapsed": true
   },
   "outputs": [],
   "source": [
    "del data['class']"
   ]
  },
  {
   "cell_type": "code",
   "execution_count": null,
   "metadata": {
    "collapsed": true
   },
   "outputs": [],
   "source": [
    "X_train, X_test, y_train, y_test = train_test_split(data, labels, test_size=0.2, random_state=3)"
   ]
  },
  {
   "cell_type": "code",
   "execution_count": null,
   "metadata": {
    "collapsed": true
   },
   "outputs": [],
   "source": [
    "X_train.shape"
   ]
  },
  {
   "cell_type": "code",
   "execution_count": null,
   "metadata": {
    "collapsed": true
   },
   "outputs": [],
   "source": [
    "type(labels)"
   ]
  },
  {
   "cell_type": "code",
   "execution_count": null,
   "metadata": {
    "collapsed": true
   },
   "outputs": [],
   "source": [
    "labels.shape"
   ]
  },
  {
   "cell_type": "code",
   "execution_count": null,
   "metadata": {
    "collapsed": true
   },
   "outputs": [],
   "source": [
    "y_test.shape"
   ]
  },
  {
   "cell_type": "code",
   "execution_count": null,
   "metadata": {
    "collapsed": true
   },
   "outputs": [],
   "source": [
    "# Logistic Regression\n",
    "from sklearn.linear_model import LogisticRegression\n",
    "from sklearn.model_selection import GridSearchCV\n",
    "from sklearn.metrics import accuracy_score\n",
    "\n",
    "parameters = { 'penalty': ['l1','l2'], \n",
    "              'C':[0.1, 0.5, 1, 2, 3, 4, 5, 10]}\n",
    "logreg = LogisticRegression()\n",
    "clf = GridSearchCV(logreg, parameters, verbose=True, n_jobs=-1)\n",
    "clf.fit(X_train, y_train)\n",
    "y_pred = clf.predict(X_test)\n",
    "\n",
    "accuracy = accuracy_score(y_pred, y_test)\n",
    "train_acc = accuracy_score(clf.predict(X_train), y_train)\n",
    "print ('Selected Parameters: ', clf.best_params_)\n",
    "print ('Training Accuracy = ' + str(train_acc))\n",
    "print ('Test Accuracy = ' + str(accuracy))"
   ]
  },
  {
   "cell_type": "markdown",
   "metadata": {
    "collapsed": true
   },
   "source": [
    "Question 2"
   ]
  },
  {
   "cell_type": "code",
   "execution_count": null,
   "metadata": {
    "collapsed": true
   },
   "outputs": [],
   "source": [
    "from sklearn.datasets import fetch_20newsgroups\n",
    "from sklearn.feature_extraction.text import TfidfVectorizer\n",
    "from sklearn.feature_extraction import text"
   ]
  },
  {
   "cell_type": "code",
   "execution_count": null,
   "metadata": {
    "collapsed": true
   },
   "outputs": [],
   "source": [
    "cats = ['alt.atheism','comp.graphics','sci.space','talk.politics.mideast']\n",
    "newsgroups_train = fetch_20newsgroups(subset='train', remove=('headers', 'footers', 'quotes'),categories=cats)\n",
    "newsgroups_test = fetch_20newsgroups(subset='test', remove=('headers', 'footers', 'quotes'),categories=cats)\n",
    "#stop_words = text.ENGLISH_STOP_WORDS"
   ]
  },
  {
   "cell_type": "code",
   "execution_count": null,
   "metadata": {
    "collapsed": true
   },
   "outputs": [],
   "source": [
    "vectorizer = TfidfVectorizer(lowercase=True,stop_words='english',smooth_idf=True, max_features=2000)\n",
    "vectors_train = vectorizer.fit_transform(newsgroups_train.data)\n",
    "vectors_test = vectorizer.fit_transform(newsgroups_test.data)"
   ]
  },
  {
   "cell_type": "code",
   "execution_count": null,
   "metadata": {
    "collapsed": true
   },
   "outputs": [],
   "source": [
    "from sklearn.linear_model import Perceptron\n",
    "from sklearn.metrics import accuracy_score\n",
    "clf = Perceptron(alpha=0.1)\n",
    "clf.fit(vectors_train,newsgroups_train.target)\n",
    "pred = clf.predict(vectors_test)\n",
    "print('Test Accuracy = ' + str(accuracy_score(newsgroups_test.target,pred)))"
   ]
  },
  {
   "cell_type": "code",
   "execution_count": null,
   "metadata": {
    "collapsed": true
   },
   "outputs": [],
   "source": [
    "clf.coef_[0]"
   ]
  },
  {
   "cell_type": "markdown",
   "metadata": {},
   "source": [
    "Question 3"
   ]
  },
  {
   "cell_type": "code",
   "execution_count": null,
   "metadata": {
    "collapsed": true
   },
   "outputs": [],
   "source": [
    "acc_perceptron = []\n",
    "from matplotlib import pyplot as plt\n",
    "max_feat = [100,200,500,1000,1500,2000,3000]\n",
    "for k in max_feat:\n",
    "    \n",
    "    vectorizer = TfidfVectorizer(lowercase=True,stop_words='english',smooth_idf=True, max_features=k)\n",
    "    vectors_train = vectorizer.fit_transform(newsgroups_train.data)\n",
    "    vectors_test = vectorizer.fit_transform(newsgroups_test.data)\n",
    "    clf = Perceptron(alpha=0.1)\n",
    "    clf.fit(vectors_train,newsgroups_train.target)\n",
    "    pred = clf.predict(vectors_test)\n",
    "    \n",
    "    acc_perceptron.append(accuracy_score(newsgroups_test.target,pred))"
   ]
  },
  {
   "cell_type": "code",
   "execution_count": null,
   "metadata": {
    "collapsed": true
   },
   "outputs": [],
   "source": [
    "acc_perceptron"
   ]
  },
  {
   "cell_type": "code",
   "execution_count": null,
   "metadata": {
    "collapsed": true
   },
   "outputs": [],
   "source": [
    "plt.plot(max_feat,acc_perceptron)\n",
    "plt.xlabel('Top Features')\n",
    "plt.ylabel('Accuracy')\n",
    "plt.title('Question 3')\n",
    "plt.show()"
   ]
  },
  {
   "cell_type": "markdown",
   "metadata": {},
   "source": [
    "Question 4"
   ]
  },
  {
   "cell_type": "code",
   "execution_count": null,
   "metadata": {
    "collapsed": true
   },
   "outputs": [],
   "source": [
    "from sklearn.svm import SVC\n",
    "clf = SVC(kernel='linear')\n",
    "clf.fit(vectors_train, newsgroups_train.target)\n",
    "pred = clf.predict(vectors_test)\n",
    "print('Test accuracy = ' + str(accuracy_score(newsgroups_test.target,pred)))"
   ]
  },
  {
   "cell_type": "markdown",
   "metadata": {},
   "source": [
    "Question 5"
   ]
  },
  {
   "cell_type": "code",
   "execution_count": null,
   "metadata": {
    "collapsed": true
   },
   "outputs": [],
   "source": [
    "acc_SVM = []\n",
    "\n",
    "max_feat = [100,200,500,1000,1500,2000,3000]\n",
    "for k in max_feat:\n",
    "    \n",
    "    vectorizer = TfidfVectorizer(lowercase=True,stop_words='english',smooth_idf=True, max_features=k)\n",
    "    vectors_train = vectorizer.fit_transform(newsgroups_train.data)\n",
    "    vectors_test = vectorizer.fit_transform(newsgroups_test.data)\n",
    "    clf = SVC(kernel='linear')\n",
    "    clf.fit(vectors_train, newsgroups_train.target)\n",
    "    pred = clf.predict(vectors_test)\n",
    "    acc_SVM.append(accuracy_score(newsgroups_test.target,pred))"
   ]
  },
  {
   "cell_type": "code",
   "execution_count": null,
   "metadata": {
    "collapsed": true
   },
   "outputs": [],
   "source": [
    "plt.plot(max_feat,acc_SVM)\n",
    "plt.xlabel('Top Features')\n",
    "plt.ylabel('Accuracy')\n",
    "plt.title('Question 5')\n",
    "plt.show()"
   ]
  },
  {
   "cell_type": "markdown",
   "metadata": {},
   "source": [
    "Question 6"
   ]
  },
  {
   "cell_type": "code",
   "execution_count": null,
   "metadata": {
    "collapsed": true
   },
   "outputs": [],
   "source": [
    "from sklearn.model_selection import train_test_split\n",
    "from sklearn.model_selection import GridSearchCV"
   ]
  },
  {
   "cell_type": "code",
   "execution_count": null,
   "metadata": {
    "collapsed": true
   },
   "outputs": [],
   "source": [
    "vectorizer = TfidfVectorizer(lowercase=True,stop_words='english',smooth_idf=True, max_features=2000)\n",
    "vectors_train = vectorizer.fit_transform(newsgroups_train.data)\n",
    "vectors_test = vectorizer.fit_transform(newsgroups_test.data)"
   ]
  },
  {
   "cell_type": "code",
   "execution_count": null,
   "metadata": {
    "collapsed": true
   },
   "outputs": [],
   "source": [
    "X_train, X_val, y_train, y_val = train_test_split(vectors_train, newsgroups_train.target, test_size = 0.2, random_state=10)"
   ]
  },
  {
   "cell_type": "code",
   "execution_count": null,
   "metadata": {
    "collapsed": true
   },
   "outputs": [],
   "source": [
    "parameters = {'C':[0.01,0.1,1,10,100]}\n",
    "svc=SVC()\n",
    "clf=GridSearchCV(svc,parameters,verbose=True)\n",
    "clf.fit(X_val, y_val)\n",
    "y_pred = clf.predict(vectors_test)\n",
    "y_val_pred = clf.predict(X_val)\n",
    "\n",
    "acc = accuracy_score(y_pred, newsgroups_test.target)\n",
    "val_acc = accuracy_score(y_val_pred, y_val)\n",
    "\n",
    "print('Validation Accuracy: ' + str(val_acc))\n",
    "print('Testing Accuracy: ' + str(acc))\n",
    "\n",
    "print(clf.best_params_)"
   ]
  },
  {
   "cell_type": "markdown",
   "metadata": {},
   "source": [
    "Question 7"
   ]
  },
  {
   "cell_type": "code",
   "execution_count": null,
   "metadata": {
    "collapsed": true
   },
   "outputs": [],
   "source": [
    "parameters = {'C':[10000],'kernel':['poly','rbf','sigmoid'],'degree':[1,2,3]}\n",
    "svc=SVC()\n",
    "clf=GridSearchCV(svc,parameters,verbose=True)\n",
    "clf.fit(X_val, y_val)\n",
    "y_pred = clf.predict(vectors_test)\n",
    "y_val_pred = clf.predict(X_val)\n",
    "\n",
    "acc = accuracy_score(y_pred, newsgroups_test.target)\n",
    "val_acc = accuracy_score(y_val_pred, y_val)\n",
    "\n",
    "print('Validation Accuracy: ' + str(val_acc))\n",
    "print('Testing Accuracy: ' + str(acc))\n",
    "\n",
    "print(clf.best_params_)"
   ]
  },
  {
   "cell_type": "markdown",
   "metadata": {},
   "source": [
    "Question 8"
   ]
  },
  {
   "cell_type": "code",
   "execution_count": null,
   "metadata": {
    "collapsed": true
   },
   "outputs": [],
   "source": [
    "from sklearn.metrics.pairwise import cosine_similarity, laplacian_kernel"
   ]
  },
  {
   "cell_type": "code",
   "execution_count": null,
   "metadata": {
    "collapsed": true
   },
   "outputs": [],
   "source": [
    "vectorizer = TfidfVectorizer(lowercase=True,stop_words='english',smooth_idf=True, max_features=2000)\n",
    "vectors_train = vectorizer.fit_transform(newsgroups_train.data)\n",
    "vectors_test = vectorizer.fit_transform(newsgroups_test.data)"
   ]
  },
  {
   "cell_type": "code",
   "execution_count": null,
   "metadata": {
    "collapsed": true
   },
   "outputs": [],
   "source": [
    "svc=SVC(kernel=cosine_similarity)\n",
    "clf.fit(vectors_train, newsgroups_train.target)\n",
    "y_pred = clf.predict(vectors_test)\n",
    "y_train_pred = clf.predict(vectors_train)\n",
    "\n",
    "acc = accuracy_score(y_pred, newsgroups_test.target)\n",
    "train_acc = accuracy_score(y_train_pred, newsgroups_train.target)\n",
    "\n",
    "print('Training Accuracy: ' + str(train_acc))\n",
    "print('Testing Accuracy: ' + str(acc))"
   ]
  },
  {
   "cell_type": "code",
   "execution_count": null,
   "metadata": {
    "collapsed": true
   },
   "outputs": [],
   "source": [
    "svc=SVC(kernel=laplacian_kernel)\n",
    "clf.fit(vectors_train, newsgroups_train.target)\n",
    "y_pred = clf.predict(vectors_test)\n",
    "y_train_pred = clf.predict(vectors_train)\n",
    "\n",
    "acc = accuracy_score(y_pred, newsgroups_test.target)\n",
    "train_acc = accuracy_score(y_train_pred, newsgroups_train.target)\n",
    "\n",
    "print('Training Accuracy: ' + str(train_acc))\n",
    "print('Testing Accuracy: ' + str(acc))"
   ]
  },
  {
   "cell_type": "markdown",
   "metadata": {
    "collapsed": true
   },
   "source": [
    "Question 9"
   ]
  },
  {
   "cell_type": "code",
   "execution_count": null,
   "metadata": {
    "collapsed": true
   },
   "outputs": [],
   "source": [
    "from sklearn.metrics.pairwise import cosine_similarity, laplacian_kernel\n",
    "#from scipy.sparse import csr_matrix\n",
    "def myKernel(X, Y, alpha=0.5, K_function_1=cosine_similarity, K_function_2=laplacian_kernel):\n",
    "    gram=alpha*K_function_1(X, Y) + (1-alpha)*K_function_2(X,Y)\n",
    "    #sparse_gram = csr_matrix(gram)\n",
    "    return gram"
   ]
  },
  {
   "cell_type": "code",
   "execution_count": null,
   "metadata": {
    "collapsed": true
   },
   "outputs": [],
   "source": [
    "vectorizer = TfidfVectorizer(lowercase=True,stop_words='english',smooth_idf=True, max_features=2000)\n",
    "vectors_train = vectorizer.fit_transform(newsgroups_train.data)\n",
    "vectors_test = vectorizer.fit_transform(newsgroups_test.data)"
   ]
  },
  {
   "cell_type": "code",
   "execution_count": null,
   "metadata": {
    "collapsed": true
   },
   "outputs": [],
   "source": [
    "C=0.1\n",
    "clf = SVC(C = C, kernel=myKernel)\n",
    "clf.fit(vectors_train, newsgroups_train.target)\n",
    "y_pred = clf.predict(vectors_test)\n",
    "y_train_pred = clf.predict(vectors_train)"
   ]
  },
  {
   "cell_type": "code",
   "execution_count": null,
   "metadata": {
    "collapsed": true
   },
   "outputs": [],
   "source": [
    "acc = accuracy_score(y_pred, newsgroups_test.target)\n",
    "train_acc = accuracy_score(y_train_pred, newsgroups_train.target)\n",
    "\n",
    "print('Training Accuracy: ' + str(train_acc))\n",
    "print('Testing Accuracy: ' + str(acc))\n",
    "\n",
    "#print(clf.best_params_)"
   ]
  },
  {
   "cell_type": "code",
   "execution_count": null,
   "metadata": {
    "collapsed": true
   },
   "outputs": [],
   "source": [
    "from sklearn.metrics.pairwise import cosine_similarity, laplacian_kernel\n",
    "#from scipy.sparse import csr_matrix\n",
    "def myThirdKernel(X, Y, alpha, K_function_1=cosine_similarity, K_function_2=laplacian_kernel):\n",
    "    K=alpha*cosine_similarity(X, Y) + (1-alpha)*laplacian_kernel(X,Y)\n",
    "    #sparse_gram = csr_matrix(gram)\n",
    "    return gram"
   ]
  },
  {
   "cell_type": "code",
   "execution_count": null,
   "metadata": {
    "collapsed": true
   },
   "outputs": [],
   "source": [
    "vectorizer = TfidfVectorizer(lowercase=True,stop_words='english',smooth_idf=True, max_features=2000)\n",
    "vectors_train = vectorizer.fit_transform(newsgroups_train.data)\n",
    "vectors_test = vectorizer.fit_transform(newsgroups_test.data)"
   ]
  },
  {
   "cell_type": "code",
   "execution_count": null,
   "metadata": {
    "collapsed": true
   },
   "outputs": [],
   "source": [
    "print vectors_train.shape, newsgroups_train.target.shape"
   ]
  },
  {
   "cell_type": "code",
   "execution_count": null,
   "metadata": {
    "collapsed": true
   },
   "outputs": [],
   "source": [
    "for alpha in np.arange(0,1,0.1):\n",
    "    K=alpha*cosine_similarity(vectors_train, newsgroups_train.target) + (1-alpha)*laplacian_kernel(vectors_train, newsgroups_train.target)\n",
    "    clf = svm.SVC( kernel='precomputed')\n",
    "    clf.fit(K, newsgroups_train.target)\n",
    "    \n",
    "    #y_pred = clf.predict(vectors_test)\n",
    "    #y_train_pred = clf.predict(vectors_train)"
   ]
  },
  {
   "cell_type": "code",
   "execution_count": null,
   "metadata": {
    "collapsed": true
   },
   "outputs": [],
   "source": []
  },
  {
   "cell_type": "code",
   "execution_count": null,
   "metadata": {
    "collapsed": true
   },
   "outputs": [],
   "source": []
  },
  {
   "cell_type": "code",
   "execution_count": null,
   "metadata": {
    "collapsed": true
   },
   "outputs": [],
   "source": []
  },
  {
   "cell_type": "code",
   "execution_count": null,
   "metadata": {
    "collapsed": true
   },
   "outputs": [],
   "source": [
    "alp = 0.5\n",
    "K = alp*cosine_similarity(vectors_train,newsgroups_train.target)+(1-alp)*laplacian_kernel(vectors_train,newsgroups_train.target)"
   ]
  },
  {
   "cell_type": "code",
   "execution_count": null,
   "metadata": {
    "collapsed": true
   },
   "outputs": [],
   "source": []
  },
  {
   "cell_type": "code",
   "execution_count": null,
   "metadata": {
    "collapsed": true
   },
   "outputs": [],
   "source": [
    "from sklearn.metrics.pairwise import cosine_similarity, laplacian_kernel\n",
    "#from scipy.sparse import csr_matrix\n",
    "def mySecondKernel(X, Y, alpha, K_function_1=cosine_similarity, K_function_2=laplacian_kernel):\n",
    "    gram=alpha*K_function_1(X, Y) + (1-alpha)*K_function_2(X,Y)\n",
    "    #sparse_gram = csr_matrix(gram)\n",
    "    return gram"
   ]
  },
  {
   "cell_type": "code",
   "execution_count": null,
   "metadata": {
    "collapsed": true
   },
   "outputs": [],
   "source": [
    "param_grid=dict(alpha=np.arange(0,1,0.05))\n",
    "#svc=SVC(kernel=mySecondKernel)\n",
    "#clf=GridSearchCV(svc,param_grid=param_grid,verbose=True)\n",
    "grid = GridSearchCV(SVC(kernel=mySecondKernel), param_grid=param_grid)\n",
    "grid.fit(vectors_train, newsgroups_train.target)\n",
    "\n",
    "#classifiers = []\n",
    "##for alpha in np.arange(0,1.1,0.05):\n",
    "#    clf = SVC(alpha=alpha)\n",
    "#    clf.fit(vectors_train, newsgroups_train.target)\n",
    "#    classifiers.append((C, gamma, clf))\n",
    "    \n",
    "#clf.fit(vectors_train, newsgroups_train.target)\n",
    "#y_pred = clf.predict(vectors_test)\n",
    "#y_train_pred = clf.predict(vectors_train)"
   ]
  },
  {
   "cell_type": "code",
   "execution_count": null,
   "metadata": {
    "collapsed": true
   },
   "outputs": [],
   "source": []
  }
 ],
 "metadata": {
  "kernelspec": {
   "display_name": "Python 2",
   "language": "python",
   "name": "python2"
  },
  "language_info": {
   "codemirror_mode": {
    "name": "ipython",
    "version": 2
   },
   "file_extension": ".py",
   "mimetype": "text/x-python",
   "name": "python",
   "nbconvert_exporter": "python",
   "pygments_lexer": "ipython2",
   "version": "2.7.14"
  }
 },
 "nbformat": 4,
 "nbformat_minor": 2
}
