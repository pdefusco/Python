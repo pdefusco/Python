{
 "cells": [
  {
   "cell_type": "raw",
   "metadata": {},
   "source": [
    "This notebook discusses the various common data structures that are used in Python.\n",
    "Outline:\n",
    "    Variables\n",
    "    Strings\n",
    "    Lists\n",
    "    Tuples\n",
    "    Dictionaries"
   ]
  },
  {
   "cell_type": "raw",
   "metadata": {},
   "source": [
    "Variables"
   ]
  },
  {
   "cell_type": "code",
   "execution_count": null,
   "metadata": {
    "collapsed": false
   },
   "outputs": [],
   "source": [
    "a = 0\n",
    "b = 2\n",
    "print(a  + b)"
   ]
  },
  {
   "cell_type": "code",
   "execution_count": null,
   "metadata": {
    "collapsed": false
   },
   "outputs": [],
   "source": [
    "# Type casting\n",
    "a = \"0\"\n",
    "b = 2\n",
    "print(int(a)  + b)"
   ]
  },
  {
   "cell_type": "raw",
   "metadata": {},
   "source": [
    "Strings"
   ]
  },
  {
   "cell_type": "code",
   "execution_count": null,
   "metadata": {
    "collapsed": false
   },
   "outputs": [],
   "source": [
    "myString = \"\"\n",
    "print (type(myString))"
   ]
  },
  {
   "cell_type": "raw",
   "metadata": {},
   "source": [
    "Common string methods:\n",
    "stringVar.count('x') - counts the number of occurrences of 'x' in stringVar\n",
    "stringVar.find('x') - returns the position of character 'x'\n",
    "stringVar.lower() - returns the stringVar in lowercase (this is temporary)\n",
    "stringVar.upper() - returns the stringVar in uppercase (this is temporary)\n",
    "stringVar.replace('a', 'b') - replaces all occurrences of a with b in the string\n",
    "stringVar.strip() - removes leading/trailing white space from string"
   ]
  },
  {
   "cell_type": "code",
   "execution_count": null,
   "metadata": {
    "collapsed": false
   },
   "outputs": [],
   "source": [
    "a = \"string\"\n",
    "print (a[1:3])\n",
    "print (a[:-1])"
   ]
  },
  {
   "cell_type": "raw",
   "metadata": {},
   "source": [
    "Lists"
   ]
  },
  {
   "cell_type": "code",
   "execution_count": null,
   "metadata": {
    "collapsed": false
   },
   "outputs": [],
   "source": [
    "sampleList = [1,2,3,4,5,6,7,8]\n",
    "\n",
    "print (sampleList[1])"
   ]
  },
  {
   "cell_type": "code",
   "execution_count": null,
   "metadata": {
    "collapsed": false
   },
   "outputs": [],
   "source": [
    "sampleList = [1,2,3,4,5,6,7,8]\n",
    "\n",
    "for a in sampleList:\n",
    "\n",
    "    print (a)"
   ]
  },
  {
   "cell_type": "raw",
   "metadata": {},
   "source": [
    "Common list methods:\n",
    "    .append(value) - appends element to end of the list\n",
    "    .count('x') - counts the number of occurrences of 'x' in the list\n",
    "    .index('x') - returns the index of 'x' in the list\n",
    "    .insert('y','x') - inserts 'x' at location 'y'\n",
    "    .pop() - returns last element then removes it from the list\n",
    "    .remove('x') - finds and removes first 'x' from list\n",
    "    .reverse() - reverses the elements in the list\n",
    "    .sort() - sorts the list alphabetically in ascending order, or numerical in ascending order"
   ]
  },
  {
   "cell_type": "raw",
   "metadata": {},
   "source": [
    "Tuples - the non-modify-able lists"
   ]
  },
  {
   "cell_type": "code",
   "execution_count": null,
   "metadata": {
    "collapsed": false
   },
   "outputs": [],
   "source": [
    "myList = [1,2,3]\n",
    "myList.append(4)\n",
    "print (myList)\n",
    "\n",
    "myTuple = (1,2,3)\n",
    "print (myTuple)"
   ]
  },
  {
   "cell_type": "code",
   "execution_count": null,
   "metadata": {
    "collapsed": true
   },
   "outputs": [],
   "source": [
    "myTuple2 = (1,2,3)\n",
    "myTuple2.append(4)\n",
    "print (myTuple2)\n",
    "# Gives error! - You cannot change a tuple"
   ]
  },
  {
   "cell_type": "code",
   "execution_count": null,
   "metadata": {
    "collapsed": true
   },
   "outputs": [],
   "source": [
    "# Refer the first notebook for dictionaries"
   ]
  }
 ],
 "metadata": {
  "kernelspec": {
   "display_name": "Python [Root]",
   "language": "python",
   "name": "Python [Root]"
  },
  "language_info": {
   "codemirror_mode": {
    "name": "ipython",
    "version": 3
   },
   "file_extension": ".py",
   "mimetype": "text/x-python",
   "name": "python",
   "nbconvert_exporter": "python",
   "pygments_lexer": "ipython3",
   "version": "3.5.2"
  }
 },
 "nbformat": 4,
 "nbformat_minor": 0
}
