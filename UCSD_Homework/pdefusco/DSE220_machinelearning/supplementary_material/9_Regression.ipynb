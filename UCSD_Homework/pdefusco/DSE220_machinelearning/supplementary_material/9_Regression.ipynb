{
 "cells": [
  {
   "cell_type": "markdown",
   "metadata": {},
   "source": [
    "# Regression"
   ]
  },
  {
   "cell_type": "raw",
   "metadata": {},
   "source": [
    "This notebook discusses regression techniques.\n",
    "Outline:\n",
    "    Least Square Regression\n",
    "    Ridge Regression. \n",
    "    Evaluation metrics like MSE, MAE etc.\n",
    "We will train the regressors on 'Beer Reviews' dataset of Prof. Julian McAuley from UC San Diego. We then evaluate our\n",
    "regressors based on metrics like MSE, MAE etc."
   ]
  },
  {
   "cell_type": "code",
   "execution_count": null,
   "metadata": {
    "collapsed": true
   },
   "outputs": [],
   "source": [
    "# Importing the libraries we will use\n",
    "import numpy\n",
    "import urllib.request\n",
    "import scipy.optimize\n",
    "import random\n",
    "from sklearn.model_selection import train_test_split"
   ]
  },
  {
   "cell_type": "code",
   "execution_count": null,
   "metadata": {
    "collapsed": false
   },
   "outputs": [],
   "source": [
    "# Code to get raw JSON data from the end point and dump it into a Python list\n",
    "def parseData(fname):\n",
    "  for l in urllib.request.urlopen(fname):\n",
    "    yield eval(l)\n",
    "\n",
    "print (\"Reading data...\")\n",
    "data = list(parseData(\"http://jmcauley.ucsd.edu/cse190/data/beer/beer_50000.json\"))\n",
    "print (\"done\")"
   ]
  },
  {
   "cell_type": "code",
   "execution_count": null,
   "metadata": {
    "collapsed": false
   },
   "outputs": [],
   "source": [
    "# Understand what our data looks like before operating on it\n",
    "data[0]"
   ]
  },
  {
   "cell_type": "code",
   "execution_count": null,
   "metadata": {
    "collapsed": false
   },
   "outputs": [],
   "source": [
    "# How many samples are there in the data? How many features are we looking at?\n",
    "print (len(data[0]))\n",
    "print (len(data))"
   ]
  },
  {
   "cell_type": "code",
   "execution_count": null,
   "metadata": {
    "collapsed": false
   },
   "outputs": [],
   "source": [
    "### Do older people rate beer more highly? ### -> This is the question we would like to answer\n",
    "# Note that we can even answer this question by plotting a graph, but here we would like to make predictions.\n",
    "# We try to predict the rating a user would give to a beer, given the user's age in seconds\n",
    "\n",
    "# Not all users may submit their age. Drop rows where we don't have age\n",
    "data2 = [d for d in data if 'user/ageInSeconds' in d]\n",
    "\n",
    "# Generate a feature matrix of size (no of samples x 2)\n",
    "# 1 is added to add the bias term to this matrix\n",
    "def feature(datum):\n",
    "   feat = [1]\n",
    "   feat.append(datum['user/ageInSeconds'])\n",
    "   return feat\n",
    "\n",
    "X = [feature(d) for d in data2]\n",
    "y = [d['review/overall'] for d in data2] # this is the list of overall ratings"
   ]
  },
  {
   "cell_type": "code",
   "execution_count": null,
   "metadata": {
    "collapsed": false
   },
   "outputs": [],
   "source": [
    "# Plotting the values onto a graph\n",
    "import matplotlib.pyplot as plt\n",
    "\n",
    "# Plot the points using matplotlib\n",
    "x = [d[1] for d in X]\n",
    "plt.scatter(x, y)\n",
    "plt.show() "
   ]
  },
  {
   "cell_type": "markdown",
   "metadata": {},
   "source": [
    "The plot shows us that the age and rating values have no relation in particular. "
   ]
  },
  {
   "cell_type": "markdown",
   "metadata": {},
   "source": [
    "Least Square Regression"
   ]
  },
  {
   "cell_type": "code",
   "execution_count": null,
   "metadata": {
    "collapsed": true
   },
   "outputs": [],
   "source": [
    "# Split data into training and testing datasets\n",
    "X_train, X_test, y_train, y_test = train_test_split(X, y, test_size=0.5)\n",
    "# Least squares regression\n",
    "theta,residuals,rank,s = numpy.linalg.lstsq(X_train, y_train)"
   ]
  },
  {
   "cell_type": "code",
   "execution_count": null,
   "metadata": {
    "collapsed": false
   },
   "outputs": [],
   "source": [
    "# Make predictions on the test data\n",
    "predictions = numpy.dot(X_test, theta)\n",
    "# Let's see the output on training data as well, to see the training error\n",
    "y_true_pred = numpy.dot(X_train, theta)"
   ]
  },
  {
   "cell_type": "code",
   "execution_count": null,
   "metadata": {
    "collapsed": false
   },
   "outputs": [],
   "source": [
    "# MSE calculation\n",
    "from sklearn.metrics import mean_squared_error\n",
    "print (mean_squared_error(y_test, predictions))\n",
    "print (mean_squared_error(y_train, y_true_pred))"
   ]
  },
  {
   "cell_type": "code",
   "execution_count": null,
   "metadata": {
    "collapsed": false
   },
   "outputs": [],
   "source": [
    "# R2 Score calculation\n",
    "from sklearn.metrics import r2_score\n",
    "\n",
    "print (r2_score(y_train, y_true_pred))\n",
    "print (r2_score(y_test, predictions))"
   ]
  },
  {
   "cell_type": "code",
   "execution_count": null,
   "metadata": {
    "collapsed": false
   },
   "outputs": [],
   "source": [
    "# MAE calculation\n",
    "from sklearn.metrics import mean_absolute_error\n",
    "\n",
    "print (mean_absolute_error(y_train, y_true_pred))\n",
    "print (mean_absolute_error(y_test, predictions))"
   ]
  },
  {
   "cell_type": "markdown",
   "metadata": {},
   "source": [
    "Ridge Regression"
   ]
  },
  {
   "cell_type": "code",
   "execution_count": null,
   "metadata": {
    "collapsed": false
   },
   "outputs": [],
   "source": [
    "from sklearn.linear_model import Ridge\n",
    "\n",
    "ridge = Ridge(fit_intercept=True, random_state=0, normalize=True)\n",
    "ridge.fit(X_train, y_train)"
   ]
  },
  {
   "cell_type": "code",
   "execution_count": null,
   "metadata": {
    "collapsed": false
   },
   "outputs": [],
   "source": [
    "predictions = ridge.predict(X_test)\n",
    "y_true_pred = ridge.predict(X_train)"
   ]
  },
  {
   "cell_type": "code",
   "execution_count": null,
   "metadata": {
    "collapsed": false
   },
   "outputs": [],
   "source": [
    "# MSE calculation\n",
    "from sklearn.metrics import mean_squared_error\n",
    "print (mean_squared_error(y_test, predictions))\n",
    "print (mean_squared_error(y_train, y_true_pred))\n",
    "\n",
    "# All other evaluators can be applied in a similar manner"
   ]
  }
 ],
 "metadata": {
  "anaconda-cloud": {},
  "kernelspec": {
   "display_name": "Python [Root]",
   "language": "python",
   "name": "Python [Root]"
  },
  "language_info": {
   "codemirror_mode": {
    "name": "ipython",
    "version": 3
   },
   "file_extension": ".py",
   "mimetype": "text/x-python",
   "name": "python",
   "nbconvert_exporter": "python",
   "pygments_lexer": "ipython3",
   "version": "3.5.2"
  }
 },
 "nbformat": 4,
 "nbformat_minor": 0
}
