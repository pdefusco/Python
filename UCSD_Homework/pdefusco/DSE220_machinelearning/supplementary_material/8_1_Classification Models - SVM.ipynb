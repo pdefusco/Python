{
 "cells": [
  {
   "cell_type": "markdown",
   "metadata": {},
   "source": [
    "# SVM"
   ]
  },
  {
   "cell_type": "raw",
   "metadata": {},
   "source": [
    "This notebook talks about SVM classification. \n",
    "Outline:\n",
    "    Import the tools required\n",
    "    Load the dataset\n",
    "    Division the dataset into train/test\n",
    "    Train a classifier\n",
    "    Classify using SVM\n",
    "    Repeat with multi-class\n",
    "    Repeat with OneVsRestClassifier\n",
    "    Accuracy measures\n",
    "    Precision/Recall\n",
    "    AUC/ROC\n",
    "    Plotting what we have learnt\n",
    "    Decision boundaries plot"
   ]
  },
  {
   "cell_type": "code",
   "execution_count": null,
   "metadata": {
    "collapsed": true
   },
   "outputs": [],
   "source": [
    "import matplotlib.pyplot as plt\n",
    "import numpy as np\n",
    "from itertools import cycle\n",
    "\n",
    "from sklearn import svm, datasets\n",
    "from sklearn.model_selection import train_test_split\n",
    "from sklearn.preprocessing import label_binarize\n",
    "from sklearn.multiclass import OneVsRestClassifier"
   ]
  },
  {
   "cell_type": "markdown",
   "metadata": {},
   "source": [
    "Two class classification using SVM"
   ]
  },
  {
   "cell_type": "code",
   "execution_count": null,
   "metadata": {
    "collapsed": false
   },
   "outputs": [],
   "source": [
    "from sklearn.datasets import make_classification\n",
    "\n",
    "# Geneate a random classification problem\n",
    "X, y = make_classification(n_samples = 10000, n_classes=2, random_state=5)\n",
    "X_train, X_test, y_train, y_test = train_test_split(X, y, test_size = 0.2)\n",
    "\n",
    "# Initialize\n",
    "clf = svm.SVC(C=100)\n",
    "# Train\n",
    "clf.fit(X_train, y_train);\n",
    "# Predict\n",
    "predictions = clf.predict(X_test)\n",
    "\n",
    "# Print accuracy\n",
    "print (np.sum(predictions == y_test)/len(y_test))"
   ]
  },
  {
   "cell_type": "code",
   "execution_count": null,
   "metadata": {
    "collapsed": false
   },
   "outputs": [],
   "source": [
    "# Parameter tuning\n",
    "\n",
    "X_train, X_valid, y_train, y_valid = train_test_split(X_train, y_train, test_size = 0.4, random_state=45)\n",
    "best_acc = 0.0\n",
    "best_c = 1\n",
    "c = best_c\n",
    "\n",
    "while c < 200:\n",
    "    clf = svm.SVC(C=c)\n",
    "    clf.fit(X_train, y_train)\n",
    "    predictions = (clf.predict(X_valid))\n",
    "    accuracy = np.sum(predictions == y_valid)/len(y_valid)\n",
    "    print ('accuracy = ' + str(accuracy) + \" c = \" + str(c))\n",
    "    if (accuracy > best_acc):\n",
    "        best_acc = accuracy\n",
    "        best_c = c\n",
    "    c += 10\n",
    "\n",
    "clf = svm.SVC(C=best_c)\n",
    "clf.fit(X_train, y_train)\n",
    "predictions = (clf.predict(X_test))\n",
    "print ('test accuracy = ' + str(np.sum(predictions == y_test)/len(y_test)))\n",
    "print (best_c)\n"
   ]
  },
  {
   "cell_type": "markdown",
   "metadata": {},
   "source": [
    "Multi-class classification using SVM"
   ]
  },
  {
   "cell_type": "code",
   "execution_count": null,
   "metadata": {
    "collapsed": false
   },
   "outputs": [],
   "source": [
    "from sklearn.datasets import make_classification\n",
    "\n",
    "# Geneate a random classification problem\n",
    "X, y = make_classification(n_samples=3000, n_classes=3, # Changed to 3 classes\n",
    "                           random_state=5, n_clusters_per_class=1) \n",
    "X_train, X_test, y_train, y_test = train_test_split(X, y, test_size = 0.2)\n",
    "\n",
    "# Initialize\n",
    "clf = svm.SVC(C=100)\n",
    "# Train\n",
    "clf.fit(X_train, y_train);\n",
    "# Predict\n",
    "predictions = clf.predict(X_test)\n",
    "\n",
    "# Print accuracy\n",
    "print (np.sum(predictions == y_test)/len(y_test))"
   ]
  },
  {
   "cell_type": "markdown",
   "metadata": {},
   "source": [
    "Mutli-class classification using OneVsRest on Iris dataset"
   ]
  },
  {
   "cell_type": "code",
   "execution_count": null,
   "metadata": {
    "collapsed": false
   },
   "outputs": [],
   "source": [
    "# Load the iris dataset\n",
    "iris = datasets.load_iris()\n",
    "X = iris.data\n",
    "y = iris.target\n",
    "\n",
    "#Understand the dataset at hand before proceeding\n",
    "print (\"samples = \" + str(len(X)))\n",
    "\n",
    "# Features are - Sepal Length, Sepal Width, Petal Length and Petal Width.\n",
    "print (\"features = \" + str(len(X[0])))\n",
    "print (\"first row = \" + str(X[0]))\n",
    "\n",
    "# Based on the plant and it's flower's dimensions, \n",
    "# we classify the iris as Setosa, Versicolour, and Virginica\n",
    "\n",
    "# setup plot details - will be required when we plot stuff later\n",
    "colors = cycle(['navy', 'turquoise', 'darkorange', 'cornflowerblue', 'teal'])\n",
    "\n",
    "# Binarize the output.\n",
    "# e.g. y = 2 becomes [0,0,1]. y = 0 becomes [1,0,0]\n",
    "y = label_binarize(y, classes=[0, 1, 2])\n",
    "n_classes = y.shape[1]\n",
    "print (n_classes)\n",
    "print (y[0])"
   ]
  },
  {
   "cell_type": "code",
   "execution_count": null,
   "metadata": {
    "collapsed": false
   },
   "outputs": [],
   "source": [
    "# Split into training and test. Random state is specified so that we can create the exact same results\n",
    "X_train, X_test, y_train, y_test = train_test_split(X, y, test_size=.5, random_state=8) # 50% data is test, 50% is train\n",
    "\n",
    "# Initialize multi-class SVM classifier\n",
    "classifier = OneVsRestClassifier(svm.SVC(C=1000, probability=True))\n",
    "\n",
    "# One v/s All used because of computational efficiency (only n_classes classifiers are needed)\n",
    "# one advantage of this approach is its interpretability. Since each class is represented by one and one classifier only, \n",
    "# it is possible to gain knowledge about the class by inspecting its corresponding classifier. \n",
    "# This is the most commonly used strategy for multiclass classification and is a fair default choice. \n",
    "# Source: sklearn documentation\n",
    "\n",
    "# Provide training data to the classifier so that it may learn about it\n",
    "classifier.fit(X_train, y_train)\n",
    "\n"
   ]
  },
  {
   "cell_type": "code",
   "execution_count": null,
   "metadata": {
    "collapsed": false
   },
   "outputs": [],
   "source": [
    "# Predicting class labels for instances in test data\n",
    "predictions = classifier.predict(X_test)\n",
    "print (predictions[0])"
   ]
  },
  {
   "cell_type": "code",
   "execution_count": null,
   "metadata": {
    "collapsed": false
   },
   "outputs": [],
   "source": [
    "# Checking the instances where predictions match the actual labels, and reporting accuracy\n",
    "print (np.sum(predictions==y_test)/(n_classes*len(y_test)))"
   ]
  },
  {
   "cell_type": "code",
   "execution_count": null,
   "metadata": {
    "collapsed": false
   },
   "outputs": [],
   "source": [
    "# Get the decision funtion for testing data\n",
    "y_score = classifier.decision_function(X_test)\n",
    "# Distance of the samples X to the separating hyperplane.\n",
    "print (y_score[0])"
   ]
  },
  {
   "cell_type": "code",
   "execution_count": null,
   "metadata": {
    "collapsed": false
   },
   "outputs": [],
   "source": [
    "# Compute Precision-Recall and plot curve\n",
    "from sklearn.metrics import precision_recall_curve\n",
    "from sklearn.metrics import average_precision_score\n",
    "\n",
    "# We will calculate precision and recall for each class\n",
    "precision = dict()\n",
    "recall = dict()\n",
    "average_precision = dict()\n",
    "\n",
    "for i in range(n_classes):\n",
    "    precision[i], recall[i], _ = precision_recall_curve(y_test[:, i], #y_test, y_score are 75 x 3\n",
    "                                                        y_score[:, i])\n",
    "    # Third value in above statement is threshold\n",
    "    average_precision[i] = average_precision_score(y_test[:, i], y_score[:, i])\n"
   ]
  },
  {
   "cell_type": "code",
   "execution_count": null,
   "metadata": {
    "collapsed": true
   },
   "outputs": [],
   "source": [
    "# Plot Precision-Recall curve for each class\n",
    "\n",
    "# Clear the plot\n",
    "plt.clf()\n",
    "lw = 2 #line width\n",
    "\n",
    "for i, color in zip(range(n_classes), colors):\n",
    "    # Plot for each class using the color specified earlier\n",
    "    plt.plot(recall[i], precision[i], color=color, lw=lw,\n",
    "             label='Precision-recall curve of class {0} (area = {1:0.2f})'\n",
    "                   ''.format(i, average_precision[i]))\n",
    "\n",
    "plt.xlim([0.0, 1.0]) # Specifies the coordinates limits for x-axis\n",
    "plt.ylim([0.0, 1.05])\n",
    "plt.xlabel('Recall')\n",
    "plt.ylabel('Precision')\n",
    "plt.title('Extension of Precision-Recall curve to multi-class')\n",
    "plt.legend(loc=\"lower right\")\n",
    "plt.show()"
   ]
  },
  {
   "cell_type": "code",
   "execution_count": null,
   "metadata": {
    "collapsed": false
   },
   "outputs": [],
   "source": [
    "# ROC Curve\n",
    "from sklearn.metrics import roc_curve, auc\n",
    "# Compute ROC curve and ROC area for each class\n",
    "fpr = dict()\n",
    "tpr = dict()\n",
    "roc_auc = dict()\n",
    "for i in range(n_classes):\n",
    "    fpr[i], tpr[i], _ = roc_curve(y_test[:, i], y_score[:, i])\n",
    "    roc_auc[i] = auc(fpr[i], tpr[i])"
   ]
  },
  {
   "cell_type": "code",
   "execution_count": null,
   "metadata": {
    "collapsed": false
   },
   "outputs": [],
   "source": [
    "plt.figure()\n",
    "lw = 2\n",
    "for i, color in zip(range(n_classes), colors):\n",
    "    plt.plot(fpr[i], tpr[i], color=color,\n",
    "         lw=lw, label='ROC curve (area = %0.2f)' % roc_auc[i])\n",
    "plt.plot([0, 1], [0, 1], color=color, lw=lw, linestyle='--')\n",
    "plt.xlim([0.0, 1.0])\n",
    "plt.ylim([0.0, 1.05])\n",
    "plt.xlabel('False Positive Rate')\n",
    "plt.ylabel('True Positive Rate')\n",
    "plt.title('ROC example')\n",
    "plt.legend(loc=\"lower right\")\n",
    "plt.show()\n",
    "\n",
    "# closer the curve follows the left-hand border and then the top border of the ROC space, the more accurate the test.\n",
    "# closer the curve comes to the 45-degree diagonal of the ROC space, the less accurate the test.\n",
    "# Accuracy is measured by the area under the ROC curve. An area of 1 represents a perfect test"
   ]
  },
  {
   "cell_type": "markdown",
   "metadata": {},
   "source": [
    "Plotting Decision Boundaries"
   ]
  },
  {
   "cell_type": "code",
   "execution_count": null,
   "metadata": {
    "collapsed": true
   },
   "outputs": [],
   "source": [
    "import numpy as np\n",
    "iris = datasets.load_iris()\n",
    "X = iris.data[:, :2]  # we only take the first two features. We could\n",
    "                      # avoid this ugly slicing by using a two-dim dataset\n",
    "y = iris.target\n",
    "\n",
    "h = .02  # step size in the mesh\n"
   ]
  },
  {
   "cell_type": "code",
   "execution_count": null,
   "metadata": {
    "collapsed": true
   },
   "outputs": [],
   "source": [
    "C = 1.0  # SVM regularization parameter\n",
    "svc = svm.SVC(C=C).fit(X, y) # No OneVsRest used here"
   ]
  },
  {
   "cell_type": "code",
   "execution_count": null,
   "metadata": {
    "collapsed": true
   },
   "outputs": [],
   "source": [
    "# create a mesh to plot in\n",
    "x_min, x_max = X[:, 0].min() - 1, X[:, 0].max() + 1\n",
    "y_min, y_max = X[:, 1].min() - 1, X[:, 1].max() + 1\n",
    "xx, yy = np.meshgrid(np.arange(x_min, x_max, h),\n",
    "                     np.arange(y_min, y_max, h))"
   ]
  },
  {
   "cell_type": "code",
   "execution_count": null,
   "metadata": {
    "collapsed": false
   },
   "outputs": [],
   "source": [
    "# Plot the decision boundary. For that, we will assign a color to each\n",
    "# point in the mesh [x_min, x_max]x[y_min, y_max].\n",
    "plt.subplot(2, 2, i + 1)\n",
    "plt.subplots_adjust(wspace=0.4, hspace=0.4)\n",
    "\n",
    "Z = svc.predict(np.c_[xx.ravel(), yy.ravel()])\n",
    "\n",
    "# Put the result into a color plot\n",
    "Z = Z.reshape(xx.shape)\n",
    "plt.contourf(xx, yy, Z, cmap=plt.cm.coolwarm, alpha=0.8)\n",
    "\n",
    "# Plot also the training points\n",
    "plt.scatter(X[:, 0], X[:, 1], c=y, cmap=plt.cm.coolwarm)\n",
    "plt.xlabel('Sepal length')\n",
    "plt.ylabel('Sepal width')\n",
    "plt.xlim(xx.min(), xx.max())\n",
    "plt.ylim(yy.min(), yy.max())\n",
    "plt.xticks(())\n",
    "plt.yticks(())\n",
    "plt.title('SVM')\n",
    "plt.show()"
   ]
  }
 ],
 "metadata": {
  "anaconda-cloud": {},
  "kernelspec": {
   "display_name": "Python [Root]",
   "language": "python",
   "name": "Python [Root]"
  },
  "language_info": {
   "codemirror_mode": {
    "name": "ipython",
    "version": 3
   },
   "file_extension": ".py",
   "mimetype": "text/x-python",
   "name": "python",
   "nbconvert_exporter": "python",
   "pygments_lexer": "ipython3",
   "version": "3.5.2"
  }
 },
 "nbformat": 4,
 "nbformat_minor": 0
}
