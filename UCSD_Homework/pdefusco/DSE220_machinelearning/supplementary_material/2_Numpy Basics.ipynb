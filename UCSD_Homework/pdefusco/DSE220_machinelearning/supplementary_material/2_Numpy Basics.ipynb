{
 "cells": [
  {
   "cell_type": "raw",
   "metadata": {},
   "source": [
    "NumPy:\n",
    "    Something that Python programmers and ML enthusiasts use a lot\n",
    "    Provides multi-dimensional array utilities\n",
    "    Provides math functions like log, exp\n",
    "This notebook discusses a few common numpy utilities\n",
    "Outline:\n",
    "    Arange\n",
    "    Shape\n",
    "    Dtype\n",
    "    Zeros\n",
    "    Ones\n",
    "    Random\n",
    "    Discussion on why NumPy"
   ]
  },
  {
   "cell_type": "markdown",
   "metadata": {},
   "source": [
    "Import Statements"
   ]
  },
  {
   "cell_type": "code",
   "execution_count": null,
   "metadata": {
    "collapsed": true
   },
   "outputs": [],
   "source": [
    "# This is an import statement in Python, just like Java\n",
    "import numpy as np \n",
    "#np is an alias for numpy in the above statement"
   ]
  },
  {
   "cell_type": "code",
   "execution_count": null,
   "metadata": {
    "collapsed": false
   },
   "outputs": [],
   "source": [
    "# arange - returns a list of numbers from 0 to n-1\n",
    "# reshape - reshapes the 1 x n number to the shape specified\n",
    "a = np.arange(15).reshape(3, 5)\n",
    "print (a)"
   ]
  },
  {
   "cell_type": "code",
   "execution_count": null,
   "metadata": {
    "collapsed": false
   },
   "outputs": [],
   "source": [
    "# Find dimensions of an existing matrix\n",
    "print (a.shape)"
   ]
  },
  {
   "cell_type": "code",
   "execution_count": null,
   "metadata": {
    "collapsed": false
   },
   "outputs": [],
   "source": [
    "# Find the datatype of a variable\n",
    "print (a.dtype)"
   ]
  },
  {
   "cell_type": "code",
   "execution_count": null,
   "metadata": {
    "collapsed": false
   },
   "outputs": [],
   "source": [
    "# Casting a normal list to a numpy array\n",
    "a = np.array([2,3,4])"
   ]
  },
  {
   "cell_type": "code",
   "execution_count": null,
   "metadata": {
    "collapsed": false
   },
   "outputs": [],
   "source": [
    "# Create a matrix of shape 3 x 4 having all zeros\n",
    "np.zeros((3,4))"
   ]
  },
  {
   "cell_type": "code",
   "execution_count": null,
   "metadata": {
    "collapsed": false
   },
   "outputs": [],
   "source": [
    "# Create a 3-D matrix of shape 2 x 3 x 4 having all ones. \n",
    "# Specify the datatype to be 16-bit integer\n",
    "np.ones((2,3,4), dtype=np.int16)                # dtype can also be specified"
   ]
  },
  {
   "cell_type": "code",
   "execution_count": null,
   "metadata": {
    "collapsed": false
   },
   "outputs": [],
   "source": [
    "# Create an empty numpy array os shape 2 x 3\n",
    "np.empty((2,3))"
   ]
  },
  {
   "cell_type": "code",
   "execution_count": null,
   "metadata": {
    "collapsed": false
   },
   "outputs": [],
   "source": [
    "# arange takes 3 arguments here - start value, end value, step size\n",
    "np.arange(10, 30, 5)"
   ]
  },
  {
   "cell_type": "code",
   "execution_count": null,
   "metadata": {
    "collapsed": false
   },
   "outputs": [],
   "source": [
    "np.arange(5)"
   ]
  },
  {
   "cell_type": "code",
   "execution_count": null,
   "metadata": {
    "collapsed": false
   },
   "outputs": [],
   "source": [
    "# Multiply all elements of the numpy array with a constant\n",
    "a = np.ones((2,3), dtype=int)\n",
    "a *= 3 # shorthand notation. Is equivalent to a = a*3\n",
    "print (a)"
   ]
  },
  {
   "cell_type": "code",
   "execution_count": null,
   "metadata": {
    "collapsed": false
   },
   "outputs": [],
   "source": [
    "# Generate random numbers in range 0 to 1 and create a numpy array of shape 2 x 3\n",
    "np.random.seed(5) # Setting the seed ensures same random numbers each time with this seed\n",
    "a = np.random.random((2,3))\n",
    "print (a)"
   ]
  },
  {
   "cell_type": "raw",
   "metadata": {},
   "source": [
    "Why NumPy?\n",
    "\n",
    "NumPy's arrays are more compact than Python lists. A list of lists in Python would take at least 20 MB or so, \n",
    "while a NumPy 3D array with single-precision floats in the cells would fit in 4 MB. Access in reading and \n",
    "writing items is also faster with NumPy.\n",
    "\n",
    "Maybe you don't care that much for just a million cells, but you definitely would for a billion cells -- neither approach would fit in a 32-bit architecture, but with 64-bit builds NumPy would get away with 4 GB or so, Python alone would need at least about 12 GB (lots of pointers which double in size) -- a much costlier piece of hardware!\n",
    "\n",
    "The difference is mostly due to \"indirectness\" -- a Python list is an array of pointers to Python objects, at least 4 bytes per pointer plus 16 bytes for even the smallest Python object (4 for type pointer, 4 for reference count, 4 for value -- and the memory allocators rounds up to 16). A NumPy array is an array of uniform values -- single-precision numbers takes 4 bytes each, double-precision ones, 8 bytes. Less flexible, but you pay substantially for the flexibility of standard Python lists!\n",
    "\n",
    "NumPy is not just more efficient; it is also more convenient. You get a lot of vector and matrix operations for free, which sometimes allow one to avoid unnecessary work. And they are also efficiently implemented.\n",
    "\n",
    "For example, you could read your cube directly from a file into an array:\n",
    "x = numpy.fromfile(file=open(\"data\"), dtype=float).reshape((100, 100, 100))\n",
    "\n",
    "Sum along the second dimension:\n",
    "s = x.sum(axis=1)\n",
    "\n",
    "Find which cells are above a threshold:\n",
    "(x > 0.5).nonzero()"
   ]
  }
 ],
 "metadata": {
  "anaconda-cloud": {},
  "kernelspec": {
   "display_name": "Python [Root]",
   "language": "python",
   "name": "Python [Root]"
  },
  "language_info": {
   "codemirror_mode": {
    "name": "ipython",
    "version": 3
   },
   "file_extension": ".py",
   "mimetype": "text/x-python",
   "name": "python",
   "nbconvert_exporter": "python",
   "pygments_lexer": "ipython3",
   "version": "3.5.2"
  }
 },
 "nbformat": 4,
 "nbformat_minor": 0
}
