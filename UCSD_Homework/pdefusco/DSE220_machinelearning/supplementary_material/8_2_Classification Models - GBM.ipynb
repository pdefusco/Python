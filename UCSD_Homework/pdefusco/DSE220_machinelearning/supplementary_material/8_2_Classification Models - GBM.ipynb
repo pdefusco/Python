{
 "cells": [
  {
   "cell_type": "markdown",
   "metadata": {},
   "source": [
    "# Gradient Boosting"
   ]
  },
  {
   "cell_type": "raw",
   "metadata": {},
   "source": [
    "This notebook discusses one of the most sought after classification methods - Gradient Boosting. \n",
    "Outline:\n",
    "    Create a random classification problem\n",
    "    Split data into train/test datasets\n",
    "    Train a GBM classifier\n",
    "    Predict on test data\n",
    "    Plot the ROC curve to evaluate our classifier"
   ]
  },
  {
   "cell_type": "code",
   "execution_count": null,
   "metadata": {
    "collapsed": true
   },
   "outputs": [],
   "source": [
    "import numpy as np\n",
    "np.random.seed(10)\n",
    "\n",
    "import matplotlib.pyplot as plt\n",
    "\n",
    "from sklearn.datasets import make_classification\n",
    "from sklearn.linear_model import LogisticRegression\n",
    "from sklearn.ensemble import GradientBoostingClassifier\n",
    "from sklearn.preprocessing import OneHotEncoder\n",
    "from sklearn.model_selection import train_test_split\n",
    "from sklearn.metrics import roc_curve\n",
    "from sklearn.pipeline import make_pipeline"
   ]
  },
  {
   "cell_type": "code",
   "execution_count": null,
   "metadata": {
    "collapsed": false
   },
   "outputs": [],
   "source": [
    "# Generate a random classification problem\n",
    "X, y = make_classification(n_samples=8000, n_features=20)\n",
    "X_train, X_test, y_train, y_test = train_test_split(X, y, test_size=0.5)\n",
    "X_train, X_valid, y_train, y_valid = train_test_split(X_train, y_train, test_size=0.3)"
   ]
  },
  {
   "cell_type": "code",
   "execution_count": null,
   "metadata": {
    "collapsed": false
   },
   "outputs": [],
   "source": [
    "# Number of weak learner the model should train\n",
    "n_estimator = 10\n",
    "best_n_estimator = n_estimator\n",
    "best_acc = 0.0\n",
    "\n",
    "while n_estimator < 500:\n",
    "    grd = GradientBoostingClassifier(n_estimators=n_estimator)\n",
    "    grd.fit(X_train, y_train)\n",
    "    preds = grd.predict(X_valid)\n",
    "    accuracy = np.sum(preds == y_valid)/len(y_valid)\n",
    "    print ('accuracy = ' + str(accuracy) + ' n_estimator = ' + str(n_estimator))\n",
    "    if (accuracy > best_acc):\n",
    "        best_n_estimator = n_estimator\n",
    "        best_acc = accuracy\n",
    "    n_estimator += 10"
   ]
  },
  {
   "cell_type": "code",
   "execution_count": null,
   "metadata": {
    "collapsed": false
   },
   "outputs": [],
   "source": [
    "# Get predictions, probabilities and decision function\n",
    "grd = GradientBoostingClassifier(n_estimators=best_n_estimator)\n",
    "grd.fit(X_train, y_train)\n",
    "prob_pred = grd.predict_proba(X_test)[:, 1]\n",
    "predictions = grd.predict(X_test)\n",
    "fpr_grd, tpr_grd, _ = roc_curve(y_test, prob_pred)\n",
    "y_score = grd.decision_function(X_test)"
   ]
  },
  {
   "cell_type": "code",
   "execution_count": null,
   "metadata": {
    "collapsed": false
   },
   "outputs": [],
   "source": [
    "# Accuracy on test set\n",
    "print (np.sum(predictions==y_test)/(len(y_test)))"
   ]
  },
  {
   "cell_type": "code",
   "execution_count": null,
   "metadata": {
    "collapsed": false
   },
   "outputs": [],
   "source": [
    "# Distance of the samples X to the separating hyperplane.\n",
    "print (y_score[0])"
   ]
  },
  {
   "cell_type": "code",
   "execution_count": null,
   "metadata": {
    "collapsed": false
   },
   "outputs": [],
   "source": [
    "# Plot ROC Curve\n",
    "plt.figure(1)\n",
    "plt.plot([0, 1], [0, 1], 'k--')\n",
    "plt.plot(fpr_grd, tpr_grd, label='GBT')\n",
    "plt.xlabel('False positive rate')\n",
    "plt.ylabel('True positive rate')\n",
    "plt.title('ROC curve')\n",
    "plt.legend(loc='best')\n",
    "plt.show()"
   ]
  }
 ],
 "metadata": {
  "anaconda-cloud": {},
  "kernelspec": {
   "display_name": "Python [Root]",
   "language": "python",
   "name": "Python [Root]"
  },
  "language_info": {
   "codemirror_mode": {
    "name": "ipython",
    "version": 3
   },
   "file_extension": ".py",
   "mimetype": "text/x-python",
   "name": "python",
   "nbconvert_exporter": "python",
   "pygments_lexer": "ipython3",
   "version": "3.5.2"
  }
 },
 "nbformat": 4,
 "nbformat_minor": 0
}
