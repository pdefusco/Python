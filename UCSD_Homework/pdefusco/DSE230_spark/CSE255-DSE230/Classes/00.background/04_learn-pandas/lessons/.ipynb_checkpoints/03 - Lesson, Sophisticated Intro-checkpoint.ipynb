{
 "cells": [
  {
   "cell_type": "markdown",
   "metadata": {},
   "source": [
    "# Lesson 3  \n",
    "**Get Data** - Our data set will consist of an Excel file containing customer counts per date. We will learn how to read in the excel file for processing.  \n",
    "**Prepare Data** - The data is an irregular time series having duplicate dates. We will be challenged in compressing the data and coming up with next years forecasted customer count.  \n",
    "**Analyze Data** - We use graphs to visualize trends and spot outliers. Some built in computational tools will be used to calculate next years forecasted customer count.  \n",
    "**Present Data** - The results will be plotted.  \n",
    "\n",
    "***NOTE:\n",
    "Make sure you have looked through all previous lessons, as the knowledge learned in previous lessons will be\n",
    "needed for this exercise.***"
   ]
  },
  {
   "cell_type": "code",
   "execution_count": 1,
   "metadata": {
    "collapsed": false
   },
   "outputs": [],
   "source": [
    "# Import libraries\n",
    "import pandas as pd\n",
    "import matplotlib.pyplot as plt\n",
    "import numpy.random as np\n",
    "import sys\n",
    "\n",
    "%matplotlib inline"
   ]
  },
  {
   "cell_type": "code",
   "execution_count": 2,
   "metadata": {
    "collapsed": false
   },
   "outputs": [
    {
     "name": "stdout",
     "output_type": "stream",
     "text": [
      "Python version 2.7.12 |Anaconda 2.5.0 (x86_64)| (default, Jul  2 2016, 17:43:17) \n",
      "[GCC 4.2.1 (Based on Apple Inc. build 5658) (LLVM build 2336.11.00)]\n",
      "Pandas version: 0.17.0\n"
     ]
    }
   ],
   "source": [
    "print 'Python version ' + sys.version\n",
    "print 'Pandas version: ' + pd.__version__"
   ]
  },
  {
   "cell_type": "markdown",
   "metadata": {},
   "source": [
    "We will be creating our own test data for analysis."
   ]
  },
  {
   "cell_type": "code",
   "execution_count": 3,
   "metadata": {
    "collapsed": false
   },
   "outputs": [],
   "source": [
    "# set seed\n",
    "np.seed(111)\n",
    "\n",
    "# Function to generate test data\n",
    "def CreateDataSet(Number=1):\n",
    "    \n",
    "    Output = []\n",
    "    \n",
    "    for i in range(Number):\n",
    "        \n",
    "        # Create a weekly (mondays) date range\n",
    "        rng = pd.date_range(start='1/1/2009', end='12/31/2012', freq='W-MON')\n",
    "        \n",
    "        # Create random data\n",
    "        data = np.randint(low=25,high=1000,size=len(rng))\n",
    "        \n",
    "        # Status pool\n",
    "        status = [1,2,3]\n",
    "        \n",
    "        # Make a random list of statuses\n",
    "        random_status = [status[np.randint(low=0,high=len(status))] for i in range(len(rng))]\n",
    "        \n",
    "        # State pool\n",
    "        states = ['GA','FL','fl','NY','NJ','TX']\n",
    "        \n",
    "        # Make a random list of states \n",
    "        random_states = [states[np.randint(low=0,high=len(states))] for i in range(len(rng))]\n",
    "    \n",
    "        Output.extend(zip(random_states, random_status, data, rng))\n",
    "        \n",
    "    return Output"
   ]
  },
  {
   "cell_type": "markdown",
   "metadata": {},
   "source": [
    "Now that we have a function to generate our test data, lets create some data and stick it into a dataframe."
   ]
  },
  {
   "cell_type": "code",
   "execution_count": 4,
   "metadata": {
    "collapsed": false
   },
   "outputs": [],
   "source": [
    "pd.date_range?"
   ]
  },
  {
   "cell_type": "code",
   "execution_count": 4,
   "metadata": {
    "collapsed": false
   },
   "outputs": [
    {
     "name": "stdout",
     "output_type": "stream",
     "text": [
      "<class 'pandas.core.frame.DataFrame'>\n",
      "Int64Index: 836 entries, 0 to 835\n",
      "Data columns (total 4 columns):\n",
      "State            836 non-null object\n",
      "Status           836 non-null int64\n",
      "CustomerCount    836 non-null int64\n",
      "StatusDate       836 non-null datetime64[ns]\n",
      "dtypes: datetime64[ns](1), int64(2), object(1)\n",
      "memory usage: 32.7+ KB\n"
     ]
    }
   ],
   "source": [
    "dataset = CreateDataSet(4)\n",
    "df = pd.DataFrame(data=dataset, columns=['State','Status','CustomerCount','StatusDate'])\n",
    "df.info()"
   ]
  },
  {
   "cell_type": "code",
   "execution_count": 7,
   "metadata": {
    "collapsed": false
   },
   "outputs": [
    {
     "data": {
      "text/html": [
       "<div style=\"max-height:1000px;max-width:1500px;overflow:auto;\">\n",
       "<table border=\"1\" class=\"dataframe\">\n",
       "  <thead>\n",
       "    <tr style=\"text-align: right;\">\n",
       "      <th></th>\n",
       "      <th>State</th>\n",
       "      <th>Status</th>\n",
       "      <th>CustomerCount</th>\n",
       "      <th>StatusDate</th>\n",
       "    </tr>\n",
       "  </thead>\n",
       "  <tbody>\n",
       "    <tr>\n",
       "      <th>0</th>\n",
       "      <td> FL</td>\n",
       "      <td> 2</td>\n",
       "      <td> 454</td>\n",
       "      <td>2009-01-05</td>\n",
       "    </tr>\n",
       "    <tr>\n",
       "      <th>1</th>\n",
       "      <td> FL</td>\n",
       "      <td> 1</td>\n",
       "      <td> 319</td>\n",
       "      <td>2009-01-12</td>\n",
       "    </tr>\n",
       "    <tr>\n",
       "      <th>2</th>\n",
       "      <td> TX</td>\n",
       "      <td> 2</td>\n",
       "      <td>  78</td>\n",
       "      <td>2009-01-19</td>\n",
       "    </tr>\n",
       "    <tr>\n",
       "      <th>3</th>\n",
       "      <td> NJ</td>\n",
       "      <td> 3</td>\n",
       "      <td> 691</td>\n",
       "      <td>2009-01-26</td>\n",
       "    </tr>\n",
       "    <tr>\n",
       "      <th>4</th>\n",
       "      <td> NJ</td>\n",
       "      <td> 3</td>\n",
       "      <td> 634</td>\n",
       "      <td>2009-02-02</td>\n",
       "    </tr>\n",
       "  </tbody>\n",
       "</table>\n",
       "</div>"
      ],
      "text/plain": [
       "  State  Status  CustomerCount StatusDate\n",
       "0    FL       2            454 2009-01-05\n",
       "1    FL       1            319 2009-01-12\n",
       "2    TX       2             78 2009-01-19\n",
       "3    NJ       3            691 2009-01-26\n",
       "4    NJ       3            634 2009-02-02"
      ]
     },
     "execution_count": 7,
     "metadata": {},
     "output_type": "execute_result"
    }
   ],
   "source": [
    "df.head()"
   ]
  },
  {
   "cell_type": "markdown",
   "metadata": {},
   "source": [
    "We are now going to save this dataframe into an Excel file, to then bring it back to a dataframe. We simply do this to show you how to read and write to Excel files.  \n",
    "\n",
    "We do not write the index values of the dataframe to the Excel file, since they are not meant to be part of our initial test data set."
   ]
  },
  {
   "cell_type": "code",
   "execution_count": 5,
   "metadata": {
    "collapsed": false
   },
   "outputs": [
    {
     "name": "stdout",
     "output_type": "stream",
     "text": [
      "Done\n"
     ]
    }
   ],
   "source": [
    "# Save results to excel\n",
    "df.to_excel('Lesson3.xlsx', index=False)\n",
    "print 'Done'"
   ]
  },
  {
   "cell_type": "markdown",
   "metadata": {},
   "source": [
    "# Grab Data from Excel  \n",
    "\n",
    "We will be using the ***read_excel*** function to read in data from an Excel file. The function allows you to read in specfic tabs by name or location."
   ]
  },
  {
   "cell_type": "code",
   "execution_count": null,
   "metadata": {
    "collapsed": false
   },
   "outputs": [],
   "source": [
    "pd.read_excel?"
   ]
  },
  {
   "cell_type": "markdown",
   "metadata": {},
   "source": [
    "**Note: The location on the Excel file will be in the same folder as the notebook, unless specified otherwise.**"
   ]
  },
  {
   "cell_type": "code",
   "execution_count": null,
   "metadata": {
    "collapsed": false
   },
   "outputs": [],
   "source": [
    "# Location of file\n",
    "Location = r'Lesson3.xlsx'\n",
    "\n",
    "# Parse a specific sheet\n",
    "df = pd.read_excel(Location, 0, index_col='StatusDate')\n",
    "df.dtypes"
   ]
  },
  {
   "cell_type": "code",
   "execution_count": null,
   "metadata": {
    "collapsed": false
   },
   "outputs": [],
   "source": [
    "df.index"
   ]
  },
  {
   "cell_type": "code",
   "execution_count": null,
   "metadata": {
    "collapsed": false
   },
   "outputs": [],
   "source": [
    "df.head()"
   ]
  },
  {
   "cell_type": "markdown",
   "metadata": {},
   "source": [
    "# Prepare Data  \n",
    "\n",
    "This section attempts to clean up the data for analysis.  \n",
    "1. Make sure the state column is all in upper case  \n",
    "2. Only select records where the account status is equal to \"1\"  \n",
    "3. Merge (NJ and NY) to NY in the state column  \n",
    "4. Remove any outliers (any odd results in the data set)\n"
   ]
  },
  {
   "cell_type": "markdown",
   "metadata": {},
   "source": [
    "Lets take a quick look on how some of the *State* values are upper case and some are lower case"
   ]
  },
  {
   "cell_type": "code",
   "execution_count": 9,
   "metadata": {
    "collapsed": false
   },
   "outputs": [
    {
     "data": {
      "text/plain": [
       "array(['FL', 'TX', 'NJ', 'fl', 'NY', 'GA'], dtype=object)"
      ]
     },
     "execution_count": 9,
     "metadata": {},
     "output_type": "execute_result"
    }
   ],
   "source": [
    "df['State'].unique()"
   ]
  },
  {
   "cell_type": "markdown",
   "metadata": {},
   "source": [
    "#### Functions\n",
    "Functions provide a way to encapsulate a particular computation and isolate the implementation from the rest of the program."
   ]
  },
  {
   "cell_type": "code",
   "execution_count": 10,
   "metadata": {
    "collapsed": false
   },
   "outputs": [
    {
     "data": {
      "text/plain": [
       "16"
      ]
     },
     "execution_count": 10,
     "metadata": {},
     "output_type": "execute_result"
    }
   ],
   "source": [
    "def square(x):\n",
    "    return x*x\n",
    "square(4)"
   ]
  },
  {
   "cell_type": "markdown",
   "metadata": {},
   "source": [
    "#### Lambda functions\n",
    "Lambda functions provide a succinct syntac for defining functions right where you need them.\n",
    "Lambda function are \"nameless\""
   ]
  },
  {
   "cell_type": "code",
   "execution_count": 11,
   "metadata": {
    "collapsed": false
   },
   "outputs": [
    {
     "data": {
      "text/plain": [
       "16"
      ]
     },
     "execution_count": 11,
     "metadata": {},
     "output_type": "execute_result"
    }
   ],
   "source": [
    "(lambda x:x*x)(4)"
   ]
  },
  {
   "cell_type": "markdown",
   "metadata": {},
   "source": [
    "To convert all the State values to upper case we will use the ***upper()*** function and the dataframe's ***apply*** attribute. The ***lambda*** function simply will apply the upper function to each value in the *State* column."
   ]
  },
  {
   "cell_type": "code",
   "execution_count": 12,
   "metadata": {
    "collapsed": false
   },
   "outputs": [],
   "source": [
    "# Clean State Column, convert to upper case\n",
    "df['State'] = df.State.apply(lambda x: x.upper())"
   ]
  },
  {
   "cell_type": "code",
   "execution_count": 13,
   "metadata": {
    "collapsed": false
   },
   "outputs": [
    {
     "data": {
      "text/plain": [
       "array(['FL', 'TX', 'NJ', 'NY', 'GA'], dtype=object)"
      ]
     },
     "execution_count": 13,
     "metadata": {},
     "output_type": "execute_result"
    }
   ],
   "source": [
    "df['State'].unique()"
   ]
  },
  {
   "cell_type": "code",
   "execution_count": 14,
   "metadata": {
    "collapsed": false
   },
   "outputs": [],
   "source": [
    "# Only grab where Status == 1\n",
    "mask = df['Status'] == 1\n",
    "df = df[mask]"
   ]
  },
  {
   "cell_type": "markdown",
   "metadata": {},
   "source": [
    "To turn the ***NJ*** states to ***NY*** we simply...  \n",
    "\n",
    "***[df.State == 'NJ']*** - Find all records in the *State* column where they are equal to *NJ*.  \n",
    "***df.State[df.State == 'NJ'] = 'NY'*** - For all records in the *State* column where they are equal to *NJ*, replace them with *NY*."
   ]
  },
  {
   "cell_type": "code",
   "execution_count": 15,
   "metadata": {
    "collapsed": false
   },
   "outputs": [
    {
     "data": {
      "text/plain": [
       "[('FL', False),\n",
       " ('GA', False),\n",
       " ('FL', False),\n",
       " ('NJ', True),\n",
       " ('FL', False),\n",
       " ('FL', False),\n",
       " ('GA', False),\n",
       " ('GA', False),\n",
       " ('NJ', True),\n",
       " ('GA', False),\n",
       " ('NJ', True),\n",
       " ('NY', False),\n",
       " ('FL', False),\n",
       " ('FL', False),\n",
       " ('GA', False),\n",
       " ('GA', False),\n",
       " ('FL', False),\n",
       " ('NY', False),\n",
       " ('NJ', True),\n",
       " ('NJ', True),\n",
       " ('TX', False),\n",
       " ('FL', False),\n",
       " ('TX', False),\n",
       " ('NY', False),\n",
       " ('NJ', True),\n",
       " ('TX', False),\n",
       " ('GA', False),\n",
       " ('NY', False),\n",
       " ('NY', False),\n",
       " ('FL', False),\n",
       " ('TX', False),\n",
       " ('TX', False),\n",
       " ('FL', False),\n",
       " ('NJ', True),\n",
       " ('TX', False),\n",
       " ('NJ', True),\n",
       " ('GA', False),\n",
       " ('NY', False),\n",
       " ('NJ', True),\n",
       " ('NY', False),\n",
       " ('TX', False),\n",
       " ('NY', False),\n",
       " ('FL', False),\n",
       " ('NY', False),\n",
       " ('GA', False),\n",
       " ('TX', False),\n",
       " ('TX', False),\n",
       " ('TX', False),\n",
       " ('NJ', True),\n",
       " ('FL', False),\n",
       " ('TX', False),\n",
       " ('NJ', True),\n",
       " ('NY', False),\n",
       " ('NY', False),\n",
       " ('FL', False),\n",
       " ('NY', False),\n",
       " ('GA', False),\n",
       " ('FL', False),\n",
       " ('NJ', True),\n",
       " ('GA', False),\n",
       " ('GA', False),\n",
       " ('FL', False),\n",
       " ('FL', False),\n",
       " ('NY', False),\n",
       " ('NJ', True),\n",
       " ('NJ', True),\n",
       " ('FL', False),\n",
       " ('FL', False),\n",
       " ('FL', False),\n",
       " ('NJ', True),\n",
       " ('FL', False),\n",
       " ('TX', False),\n",
       " ('FL', False),\n",
       " ('FL', False),\n",
       " ('NY', False),\n",
       " ('FL', False),\n",
       " ('GA', False),\n",
       " ('FL', False),\n",
       " ('NY', False),\n",
       " ('NJ', True),\n",
       " ('NY', False),\n",
       " ('FL', False),\n",
       " ('NY', False),\n",
       " ('TX', False),\n",
       " ('GA', False),\n",
       " ('FL', False),\n",
       " ('NY', False),\n",
       " ('NJ', True),\n",
       " ('TX', False),\n",
       " ('FL', False),\n",
       " ('FL', False),\n",
       " ('FL', False),\n",
       " ('NY', False),\n",
       " ('NJ', True),\n",
       " ('FL', False),\n",
       " ('FL', False),\n",
       " ('NY', False),\n",
       " ('NY', False),\n",
       " ('FL', False),\n",
       " ('TX', False),\n",
       " ('FL', False),\n",
       " ('NY', False),\n",
       " ('FL', False),\n",
       " ('GA', False),\n",
       " ('NY', False),\n",
       " ('NY', False),\n",
       " ('NY', False),\n",
       " ('GA', False),\n",
       " ('NJ', True),\n",
       " ('NY', False),\n",
       " ('FL', False),\n",
       " ('FL', False),\n",
       " ('NY', False),\n",
       " ('FL', False),\n",
       " ('NY', False),\n",
       " ('NJ', True),\n",
       " ('GA', False),\n",
       " ('FL', False),\n",
       " ('FL', False),\n",
       " ('TX', False),\n",
       " ('FL', False),\n",
       " ('GA', False),\n",
       " ('NY', False),\n",
       " ('GA', False),\n",
       " ('NY', False),\n",
       " ('NY', False),\n",
       " ('FL', False),\n",
       " ('TX', False),\n",
       " ('TX', False),\n",
       " ('FL', False),\n",
       " ('FL', False),\n",
       " ('TX', False),\n",
       " ('TX', False),\n",
       " ('NJ', True),\n",
       " ('NY', False),\n",
       " ('NJ', True),\n",
       " ('GA', False),\n",
       " ('TX', False),\n",
       " ('GA', False),\n",
       " ('NY', False),\n",
       " ('FL', False),\n",
       " ('NY', False),\n",
       " ('GA', False),\n",
       " ('TX', False),\n",
       " ('NJ', True),\n",
       " ('FL', False),\n",
       " ('FL', False),\n",
       " ('NJ', True),\n",
       " ('NY', False),\n",
       " ('FL', False),\n",
       " ('FL', False),\n",
       " ('NY', False),\n",
       " ('GA', False),\n",
       " ('GA', False),\n",
       " ('NJ', True),\n",
       " ('NJ', True),\n",
       " ('NJ', True),\n",
       " ('GA', False),\n",
       " ('TX', False),\n",
       " ('TX', False),\n",
       " ('FL', False),\n",
       " ('FL', False),\n",
       " ('TX', False),\n",
       " ('NY', False),\n",
       " ('FL', False),\n",
       " ('NJ', True),\n",
       " ('NJ', True),\n",
       " ('TX', False),\n",
       " ('NY', False),\n",
       " ('NY', False),\n",
       " ('FL', False),\n",
       " ('TX', False),\n",
       " ('GA', False),\n",
       " ('TX', False),\n",
       " ('TX', False),\n",
       " ('NJ', True),\n",
       " ('NY', False),\n",
       " ('FL', False),\n",
       " ('FL', False),\n",
       " ('FL', False),\n",
       " ('NJ', True),\n",
       " ('TX', False),\n",
       " ('NY', False),\n",
       " ('FL', False),\n",
       " ('NY', False),\n",
       " ('TX', False),\n",
       " ('NY', False),\n",
       " ('NJ', True),\n",
       " ('FL', False),\n",
       " ('FL', False),\n",
       " ('GA', False),\n",
       " ('NJ', True),\n",
       " ('FL', False),\n",
       " ('FL', False),\n",
       " ('TX', False),\n",
       " ('FL', False),\n",
       " ('FL', False),\n",
       " ('NY', False),\n",
       " ('GA', False),\n",
       " ('GA', False),\n",
       " ('FL', False),\n",
       " ('NY', False),\n",
       " ('FL', False),\n",
       " ('NJ', True),\n",
       " ('NJ', True),\n",
       " ('NY', False),\n",
       " ('NJ', True),\n",
       " ('FL', False),\n",
       " ('GA', False),\n",
       " ('FL', False),\n",
       " ('NJ', True),\n",
       " ('NJ', True),\n",
       " ('NJ', True),\n",
       " ('FL', False),\n",
       " ('GA', False),\n",
       " ('NJ', True),\n",
       " ('FL', False),\n",
       " ('TX', False),\n",
       " ('FL', False),\n",
       " ('GA', False),\n",
       " ('TX', False),\n",
       " ('TX', False),\n",
       " ('GA', False),\n",
       " ('NJ', True),\n",
       " ('TX', False),\n",
       " ('NY', False),\n",
       " ('TX', False),\n",
       " ('GA', False),\n",
       " ('NJ', True),\n",
       " ('GA', False),\n",
       " ('NY', False),\n",
       " ('FL', False),\n",
       " ('NY', False),\n",
       " ('NY', False),\n",
       " ('TX', False),\n",
       " ('FL', False),\n",
       " ('GA', False),\n",
       " ('TX', False),\n",
       " ('NY', False),\n",
       " ('NY', False),\n",
       " ('TX', False),\n",
       " ('NY', False),\n",
       " ('NJ', True),\n",
       " ('NJ', True),\n",
       " ('GA', False),\n",
       " ('NY', False),\n",
       " ('NJ', True),\n",
       " ('NY', False),\n",
       " ('GA', False),\n",
       " ('GA', False),\n",
       " ('NY', False),\n",
       " ('NY', False),\n",
       " ('FL', False),\n",
       " ('FL', False),\n",
       " ('GA', False),\n",
       " ('NY', False),\n",
       " ('FL', False),\n",
       " ('FL', False),\n",
       " ('TX', False),\n",
       " ('NJ', True),\n",
       " ('FL', False),\n",
       " ('FL', False)]"
      ]
     },
     "execution_count": 15,
     "metadata": {},
     "output_type": "execute_result"
    }
   ],
   "source": [
    "# Convert NJ to NY\n",
    "mask = df.State == 'NJ'\n",
    "zip(df.State, mask)"
   ]
  },
  {
   "cell_type": "code",
   "execution_count": 16,
   "metadata": {
    "collapsed": false
   },
   "outputs": [
    {
     "data": {
      "text/html": [
       "<div style=\"max-height:1000px;max-width:1500px;overflow:auto;\">\n",
       "<table border=\"1\" class=\"dataframe\">\n",
       "  <thead>\n",
       "    <tr style=\"text-align: right;\">\n",
       "      <th></th>\n",
       "      <th>State</th>\n",
       "      <th>Status</th>\n",
       "      <th>CustomerCount</th>\n",
       "      <th>StatusDate</th>\n",
       "    </tr>\n",
       "  </thead>\n",
       "  <tbody>\n",
       "    <tr>\n",
       "      <th>1  </th>\n",
       "      <td> FL</td>\n",
       "      <td> 1</td>\n",
       "      <td> 319</td>\n",
       "      <td>2009-01-12</td>\n",
       "    </tr>\n",
       "    <tr>\n",
       "      <th>12 </th>\n",
       "      <td> GA</td>\n",
       "      <td> 1</td>\n",
       "      <td>  63</td>\n",
       "      <td>2009-03-30</td>\n",
       "    </tr>\n",
       "    <tr>\n",
       "      <th>15 </th>\n",
       "      <td> FL</td>\n",
       "      <td> 1</td>\n",
       "      <td> 788</td>\n",
       "      <td>2009-04-20</td>\n",
       "    </tr>\n",
       "    <tr>\n",
       "      <th>18 </th>\n",
       "      <td> NY</td>\n",
       "      <td> 1</td>\n",
       "      <td> 199</td>\n",
       "      <td>2009-05-11</td>\n",
       "    </tr>\n",
       "    <tr>\n",
       "      <th>24 </th>\n",
       "      <td> FL</td>\n",
       "      <td> 1</td>\n",
       "      <td> 997</td>\n",
       "      <td>2009-06-22</td>\n",
       "    </tr>\n",
       "    <tr>\n",
       "      <th>26 </th>\n",
       "      <td> FL</td>\n",
       "      <td> 1</td>\n",
       "      <td> 689</td>\n",
       "      <td>2009-07-06</td>\n",
       "    </tr>\n",
       "    <tr>\n",
       "      <th>29 </th>\n",
       "      <td> GA</td>\n",
       "      <td> 1</td>\n",
       "      <td> 582</td>\n",
       "      <td>2009-07-27</td>\n",
       "    </tr>\n",
       "    <tr>\n",
       "      <th>31 </th>\n",
       "      <td> GA</td>\n",
       "      <td> 1</td>\n",
       "      <td> 494</td>\n",
       "      <td>2009-08-10</td>\n",
       "    </tr>\n",
       "    <tr>\n",
       "      <th>36 </th>\n",
       "      <td> NY</td>\n",
       "      <td> 1</td>\n",
       "      <td> 976</td>\n",
       "      <td>2009-09-14</td>\n",
       "    </tr>\n",
       "    <tr>\n",
       "      <th>43 </th>\n",
       "      <td> GA</td>\n",
       "      <td> 1</td>\n",
       "      <td> 519</td>\n",
       "      <td>2009-11-02</td>\n",
       "    </tr>\n",
       "    <tr>\n",
       "      <th>50 </th>\n",
       "      <td> NY</td>\n",
       "      <td> 1</td>\n",
       "      <td> 118</td>\n",
       "      <td>2009-12-21</td>\n",
       "    </tr>\n",
       "    <tr>\n",
       "      <th>53 </th>\n",
       "      <td> NY</td>\n",
       "      <td> 1</td>\n",
       "      <td> 267</td>\n",
       "      <td>2010-01-11</td>\n",
       "    </tr>\n",
       "    <tr>\n",
       "      <th>55 </th>\n",
       "      <td> FL</td>\n",
       "      <td> 1</td>\n",
       "      <td> 685</td>\n",
       "      <td>2010-01-25</td>\n",
       "    </tr>\n",
       "    <tr>\n",
       "      <th>57 </th>\n",
       "      <td> FL</td>\n",
       "      <td> 1</td>\n",
       "      <td> 686</td>\n",
       "      <td>2010-02-08</td>\n",
       "    </tr>\n",
       "    <tr>\n",
       "      <th>60 </th>\n",
       "      <td> GA</td>\n",
       "      <td> 1</td>\n",
       "      <td> 797</td>\n",
       "      <td>2010-03-01</td>\n",
       "    </tr>\n",
       "    <tr>\n",
       "      <th>64 </th>\n",
       "      <td> GA</td>\n",
       "      <td> 1</td>\n",
       "      <td> 312</td>\n",
       "      <td>2010-03-29</td>\n",
       "    </tr>\n",
       "    <tr>\n",
       "      <th>65 </th>\n",
       "      <td> FL</td>\n",
       "      <td> 1</td>\n",
       "      <td> 715</td>\n",
       "      <td>2010-04-05</td>\n",
       "    </tr>\n",
       "    <tr>\n",
       "      <th>67 </th>\n",
       "      <td> NY</td>\n",
       "      <td> 1</td>\n",
       "      <td> 969</td>\n",
       "      <td>2010-04-19</td>\n",
       "    </tr>\n",
       "    <tr>\n",
       "      <th>70 </th>\n",
       "      <td> NY</td>\n",
       "      <td> 1</td>\n",
       "      <td> 827</td>\n",
       "      <td>2010-05-10</td>\n",
       "    </tr>\n",
       "    <tr>\n",
       "      <th>71 </th>\n",
       "      <td> NY</td>\n",
       "      <td> 1</td>\n",
       "      <td> 549</td>\n",
       "      <td>2010-05-17</td>\n",
       "    </tr>\n",
       "    <tr>\n",
       "      <th>72 </th>\n",
       "      <td> TX</td>\n",
       "      <td> 1</td>\n",
       "      <td> 290</td>\n",
       "      <td>2010-05-24</td>\n",
       "    </tr>\n",
       "    <tr>\n",
       "      <th>73 </th>\n",
       "      <td> FL</td>\n",
       "      <td> 1</td>\n",
       "      <td> 300</td>\n",
       "      <td>2010-05-31</td>\n",
       "    </tr>\n",
       "    <tr>\n",
       "      <th>76 </th>\n",
       "      <td> TX</td>\n",
       "      <td> 1</td>\n",
       "      <td> 332</td>\n",
       "      <td>2010-06-21</td>\n",
       "    </tr>\n",
       "    <tr>\n",
       "      <th>82 </th>\n",
       "      <td> NY</td>\n",
       "      <td> 1</td>\n",
       "      <td> 198</td>\n",
       "      <td>2010-08-02</td>\n",
       "    </tr>\n",
       "    <tr>\n",
       "      <th>92 </th>\n",
       "      <td> NY</td>\n",
       "      <td> 1</td>\n",
       "      <td> 390</td>\n",
       "      <td>2010-10-11</td>\n",
       "    </tr>\n",
       "    <tr>\n",
       "      <th>96 </th>\n",
       "      <td> TX</td>\n",
       "      <td> 1</td>\n",
       "      <td>  73</td>\n",
       "      <td>2010-11-08</td>\n",
       "    </tr>\n",
       "    <tr>\n",
       "      <th>102</th>\n",
       "      <td> GA</td>\n",
       "      <td> 1</td>\n",
       "      <td> 479</td>\n",
       "      <td>2010-12-20</td>\n",
       "    </tr>\n",
       "    <tr>\n",
       "      <th>108</th>\n",
       "      <td> NY</td>\n",
       "      <td> 1</td>\n",
       "      <td>  35</td>\n",
       "      <td>2011-01-31</td>\n",
       "    </tr>\n",
       "    <tr>\n",
       "      <th>112</th>\n",
       "      <td> NY</td>\n",
       "      <td> 1</td>\n",
       "      <td> 691</td>\n",
       "      <td>2011-02-28</td>\n",
       "    </tr>\n",
       "    <tr>\n",
       "      <th>113</th>\n",
       "      <td> FL</td>\n",
       "      <td> 1</td>\n",
       "      <td> 638</td>\n",
       "      <td>2011-03-07</td>\n",
       "    </tr>\n",
       "    <tr>\n",
       "      <th>...</th>\n",
       "      <td>...</td>\n",
       "      <td>...</td>\n",
       "      <td>...</td>\n",
       "      <td>...</td>\n",
       "    </tr>\n",
       "    <tr>\n",
       "      <th>747</th>\n",
       "      <td> NY</td>\n",
       "      <td> 1</td>\n",
       "      <td> 439</td>\n",
       "      <td>2011-04-25</td>\n",
       "    </tr>\n",
       "    <tr>\n",
       "      <th>751</th>\n",
       "      <td> NY</td>\n",
       "      <td> 1</td>\n",
       "      <td> 275</td>\n",
       "      <td>2011-05-23</td>\n",
       "    </tr>\n",
       "    <tr>\n",
       "      <th>753</th>\n",
       "      <td> TX</td>\n",
       "      <td> 1</td>\n",
       "      <td> 257</td>\n",
       "      <td>2011-06-06</td>\n",
       "    </tr>\n",
       "    <tr>\n",
       "      <th>755</th>\n",
       "      <td> FL</td>\n",
       "      <td> 1</td>\n",
       "      <td> 137</td>\n",
       "      <td>2011-06-20</td>\n",
       "    </tr>\n",
       "    <tr>\n",
       "      <th>756</th>\n",
       "      <td> GA</td>\n",
       "      <td> 1</td>\n",
       "      <td>  44</td>\n",
       "      <td>2011-06-27</td>\n",
       "    </tr>\n",
       "    <tr>\n",
       "      <th>758</th>\n",
       "      <td> TX</td>\n",
       "      <td> 1</td>\n",
       "      <td> 841</td>\n",
       "      <td>2011-07-11</td>\n",
       "    </tr>\n",
       "    <tr>\n",
       "      <th>760</th>\n",
       "      <td> NY</td>\n",
       "      <td> 1</td>\n",
       "      <td> 487</td>\n",
       "      <td>2011-07-25</td>\n",
       "    </tr>\n",
       "    <tr>\n",
       "      <th>765</th>\n",
       "      <td> NY</td>\n",
       "      <td> 1</td>\n",
       "      <td> 657</td>\n",
       "      <td>2011-08-29</td>\n",
       "    </tr>\n",
       "    <tr>\n",
       "      <th>772</th>\n",
       "      <td> TX</td>\n",
       "      <td> 1</td>\n",
       "      <td> 390</td>\n",
       "      <td>2011-10-17</td>\n",
       "    </tr>\n",
       "    <tr>\n",
       "      <th>773</th>\n",
       "      <td> NY</td>\n",
       "      <td> 1</td>\n",
       "      <td> 488</td>\n",
       "      <td>2011-10-24</td>\n",
       "    </tr>\n",
       "    <tr>\n",
       "      <th>777</th>\n",
       "      <td> NY</td>\n",
       "      <td> 1</td>\n",
       "      <td> 660</td>\n",
       "      <td>2011-11-21</td>\n",
       "    </tr>\n",
       "    <tr>\n",
       "      <th>778</th>\n",
       "      <td> NY</td>\n",
       "      <td> 1</td>\n",
       "      <td> 676</td>\n",
       "      <td>2011-11-28</td>\n",
       "    </tr>\n",
       "    <tr>\n",
       "      <th>781</th>\n",
       "      <td> GA</td>\n",
       "      <td> 1</td>\n",
       "      <td> 507</td>\n",
       "      <td>2011-12-19</td>\n",
       "    </tr>\n",
       "    <tr>\n",
       "      <th>783</th>\n",
       "      <td> NY</td>\n",
       "      <td> 1</td>\n",
       "      <td> 191</td>\n",
       "      <td>2012-01-02</td>\n",
       "    </tr>\n",
       "    <tr>\n",
       "      <th>784</th>\n",
       "      <td> NY</td>\n",
       "      <td> 1</td>\n",
       "      <td> 830</td>\n",
       "      <td>2012-01-09</td>\n",
       "    </tr>\n",
       "    <tr>\n",
       "      <th>786</th>\n",
       "      <td> NY</td>\n",
       "      <td> 1</td>\n",
       "      <td>  55</td>\n",
       "      <td>2012-01-23</td>\n",
       "    </tr>\n",
       "    <tr>\n",
       "      <th>790</th>\n",
       "      <td> GA</td>\n",
       "      <td> 1</td>\n",
       "      <td> 327</td>\n",
       "      <td>2012-02-20</td>\n",
       "    </tr>\n",
       "    <tr>\n",
       "      <th>792</th>\n",
       "      <td> GA</td>\n",
       "      <td> 1</td>\n",
       "      <td> 881</td>\n",
       "      <td>2012-03-05</td>\n",
       "    </tr>\n",
       "    <tr>\n",
       "      <th>793</th>\n",
       "      <td> NY</td>\n",
       "      <td> 1</td>\n",
       "      <td> 390</td>\n",
       "      <td>2012-03-12</td>\n",
       "    </tr>\n",
       "    <tr>\n",
       "      <th>794</th>\n",
       "      <td> NY</td>\n",
       "      <td> 1</td>\n",
       "      <td> 177</td>\n",
       "      <td>2012-03-19</td>\n",
       "    </tr>\n",
       "    <tr>\n",
       "      <th>796</th>\n",
       "      <td> FL</td>\n",
       "      <td> 1</td>\n",
       "      <td> 934</td>\n",
       "      <td>2012-04-02</td>\n",
       "    </tr>\n",
       "    <tr>\n",
       "      <th>802</th>\n",
       "      <td> FL</td>\n",
       "      <td> 1</td>\n",
       "      <td> 149</td>\n",
       "      <td>2012-05-14</td>\n",
       "    </tr>\n",
       "    <tr>\n",
       "      <th>807</th>\n",
       "      <td> GA</td>\n",
       "      <td> 1</td>\n",
       "      <td> 649</td>\n",
       "      <td>2012-06-18</td>\n",
       "    </tr>\n",
       "    <tr>\n",
       "      <th>813</th>\n",
       "      <td> NY</td>\n",
       "      <td> 1</td>\n",
       "      <td> 449</td>\n",
       "      <td>2012-07-30</td>\n",
       "    </tr>\n",
       "    <tr>\n",
       "      <th>815</th>\n",
       "      <td> FL</td>\n",
       "      <td> 1</td>\n",
       "      <td> 217</td>\n",
       "      <td>2012-08-13</td>\n",
       "    </tr>\n",
       "    <tr>\n",
       "      <th>816</th>\n",
       "      <td> FL</td>\n",
       "      <td> 1</td>\n",
       "      <td>  50</td>\n",
       "      <td>2012-08-20</td>\n",
       "    </tr>\n",
       "    <tr>\n",
       "      <th>818</th>\n",
       "      <td> TX</td>\n",
       "      <td> 1</td>\n",
       "      <td> 790</td>\n",
       "      <td>2012-09-03</td>\n",
       "    </tr>\n",
       "    <tr>\n",
       "      <th>819</th>\n",
       "      <td> NY</td>\n",
       "      <td> 1</td>\n",
       "      <td> 647</td>\n",
       "      <td>2012-09-10</td>\n",
       "    </tr>\n",
       "    <tr>\n",
       "      <th>821</th>\n",
       "      <td> FL</td>\n",
       "      <td> 1</td>\n",
       "      <td> 125</td>\n",
       "      <td>2012-09-24</td>\n",
       "    </tr>\n",
       "    <tr>\n",
       "      <th>832</th>\n",
       "      <td> FL</td>\n",
       "      <td> 1</td>\n",
       "      <td> 760</td>\n",
       "      <td>2012-12-10</td>\n",
       "    </tr>\n",
       "  </tbody>\n",
       "</table>\n",
       "<p>262 rows × 4 columns</p>\n",
       "</div>"
      ],
      "text/plain": [
       "    State  Status  CustomerCount StatusDate\n",
       "1      FL       1            319 2009-01-12\n",
       "12     GA       1             63 2009-03-30\n",
       "15     FL       1            788 2009-04-20\n",
       "18     NY       1            199 2009-05-11\n",
       "24     FL       1            997 2009-06-22\n",
       "26     FL       1            689 2009-07-06\n",
       "29     GA       1            582 2009-07-27\n",
       "31     GA       1            494 2009-08-10\n",
       "36     NY       1            976 2009-09-14\n",
       "43     GA       1            519 2009-11-02\n",
       "50     NY       1            118 2009-12-21\n",
       "53     NY       1            267 2010-01-11\n",
       "55     FL       1            685 2010-01-25\n",
       "57     FL       1            686 2010-02-08\n",
       "60     GA       1            797 2010-03-01\n",
       "64     GA       1            312 2010-03-29\n",
       "65     FL       1            715 2010-04-05\n",
       "67     NY       1            969 2010-04-19\n",
       "70     NY       1            827 2010-05-10\n",
       "71     NY       1            549 2010-05-17\n",
       "72     TX       1            290 2010-05-24\n",
       "73     FL       1            300 2010-05-31\n",
       "76     TX       1            332 2010-06-21\n",
       "82     NY       1            198 2010-08-02\n",
       "92     NY       1            390 2010-10-11\n",
       "96     TX       1             73 2010-11-08\n",
       "102    GA       1            479 2010-12-20\n",
       "108    NY       1             35 2011-01-31\n",
       "112    NY       1            691 2011-02-28\n",
       "113    FL       1            638 2011-03-07\n",
       "..    ...     ...            ...        ...\n",
       "747    NY       1            439 2011-04-25\n",
       "751    NY       1            275 2011-05-23\n",
       "753    TX       1            257 2011-06-06\n",
       "755    FL       1            137 2011-06-20\n",
       "756    GA       1             44 2011-06-27\n",
       "758    TX       1            841 2011-07-11\n",
       "760    NY       1            487 2011-07-25\n",
       "765    NY       1            657 2011-08-29\n",
       "772    TX       1            390 2011-10-17\n",
       "773    NY       1            488 2011-10-24\n",
       "777    NY       1            660 2011-11-21\n",
       "778    NY       1            676 2011-11-28\n",
       "781    GA       1            507 2011-12-19\n",
       "783    NY       1            191 2012-01-02\n",
       "784    NY       1            830 2012-01-09\n",
       "786    NY       1             55 2012-01-23\n",
       "790    GA       1            327 2012-02-20\n",
       "792    GA       1            881 2012-03-05\n",
       "793    NY       1            390 2012-03-12\n",
       "794    NY       1            177 2012-03-19\n",
       "796    FL       1            934 2012-04-02\n",
       "802    FL       1            149 2012-05-14\n",
       "807    GA       1            649 2012-06-18\n",
       "813    NY       1            449 2012-07-30\n",
       "815    FL       1            217 2012-08-13\n",
       "816    FL       1             50 2012-08-20\n",
       "818    TX       1            790 2012-09-03\n",
       "819    NY       1            647 2012-09-10\n",
       "821    FL       1            125 2012-09-24\n",
       "832    FL       1            760 2012-12-10\n",
       "\n",
       "[262 rows x 4 columns]"
      ]
     },
     "execution_count": 16,
     "metadata": {},
     "output_type": "execute_result"
    }
   ],
   "source": [
    "df['State'][mask] = 'NY'\n",
    "df"
   ]
  },
  {
   "cell_type": "markdown",
   "metadata": {},
   "source": [
    "Now we can see we have a much cleaner data set to work with."
   ]
  },
  {
   "cell_type": "code",
   "execution_count": 17,
   "metadata": {
    "collapsed": false
   },
   "outputs": [
    {
     "data": {
      "text/plain": [
       "array(['FL', 'GA', 'NY', 'TX'], dtype=object)"
      ]
     },
     "execution_count": 17,
     "metadata": {},
     "output_type": "execute_result"
    }
   ],
   "source": [
    "df['State'].unique()"
   ]
  },
  {
   "cell_type": "markdown",
   "metadata": {},
   "source": [
    "At this point we may want to graph the data to check for any outliers or inconsistencies in the data. We will be using the ***plot()*** attribute of the dataframe.  \n",
    "\n",
    "As you can see from the graph below it is not very conclusive and is probably a sign that we need to perform some more data preparation."
   ]
  },
  {
   "cell_type": "code",
   "execution_count": 18,
   "metadata": {
    "collapsed": false
   },
   "outputs": [
    {
     "data": {
      "image/png": "[encoded data removed]",
      "text/plain": [
       "<matplotlib.figure.Figure at 0x10a03e050>"
      ]
     },
     "metadata": {},
     "output_type": "display_data"
    }
   ],
   "source": [
    "df['CustomerCount'].plot(figsize=(5,1));"
   ]
  },
  {
   "cell_type": "markdown",
   "metadata": {},
   "source": [
    "If we take a look at the data, we begin to realize that there are multiple values for the same State, StatusDate, and Status combination. It is possible that this means the data you are working with is dirty/bad/inaccurate, but we will assume otherwise. We can assume this data set is a subset of a bigger data set and if we simply add the values in the ***CustomerCount*** column per State, StatusDate, and Status we will get the ***Total Customer Count*** per day.  "
   ]
  },
  {
   "cell_type": "code",
   "execution_count": 19,
   "metadata": {
    "collapsed": false
   },
   "outputs": [
    {
     "data": {
      "text/html": [
       "<div style=\"max-height:1000px;max-width:1500px;overflow:auto;\">\n",
       "<table border=\"1\" class=\"dataframe\">\n",
       "  <thead>\n",
       "    <tr style=\"text-align: right;\">\n",
       "      <th></th>\n",
       "      <th>State</th>\n",
       "      <th>Status</th>\n",
       "      <th>CustomerCount</th>\n",
       "      <th>StatusDate</th>\n",
       "    </tr>\n",
       "  </thead>\n",
       "  <tbody>\n",
       "    <tr>\n",
       "      <th>18 </th>\n",
       "      <td> NY</td>\n",
       "      <td> 1</td>\n",
       "      <td> 199</td>\n",
       "      <td>2009-05-11</td>\n",
       "    </tr>\n",
       "    <tr>\n",
       "      <th>36 </th>\n",
       "      <td> NY</td>\n",
       "      <td> 1</td>\n",
       "      <td> 976</td>\n",
       "      <td>2009-09-14</td>\n",
       "    </tr>\n",
       "    <tr>\n",
       "      <th>50 </th>\n",
       "      <td> NY</td>\n",
       "      <td> 1</td>\n",
       "      <td> 118</td>\n",
       "      <td>2009-12-21</td>\n",
       "    </tr>\n",
       "    <tr>\n",
       "      <th>53 </th>\n",
       "      <td> NY</td>\n",
       "      <td> 1</td>\n",
       "      <td> 267</td>\n",
       "      <td>2010-01-11</td>\n",
       "    </tr>\n",
       "    <tr>\n",
       "      <th>67 </th>\n",
       "      <td> NY</td>\n",
       "      <td> 1</td>\n",
       "      <td> 969</td>\n",
       "      <td>2010-04-19</td>\n",
       "    </tr>\n",
       "    <tr>\n",
       "      <th>70 </th>\n",
       "      <td> NY</td>\n",
       "      <td> 1</td>\n",
       "      <td> 827</td>\n",
       "      <td>2010-05-10</td>\n",
       "    </tr>\n",
       "    <tr>\n",
       "      <th>71 </th>\n",
       "      <td> NY</td>\n",
       "      <td> 1</td>\n",
       "      <td> 549</td>\n",
       "      <td>2010-05-17</td>\n",
       "    </tr>\n",
       "    <tr>\n",
       "      <th>82 </th>\n",
       "      <td> NY</td>\n",
       "      <td> 1</td>\n",
       "      <td> 198</td>\n",
       "      <td>2010-08-02</td>\n",
       "    </tr>\n",
       "    <tr>\n",
       "      <th>92 </th>\n",
       "      <td> NY</td>\n",
       "      <td> 1</td>\n",
       "      <td> 390</td>\n",
       "      <td>2010-10-11</td>\n",
       "    </tr>\n",
       "    <tr>\n",
       "      <th>108</th>\n",
       "      <td> NY</td>\n",
       "      <td> 1</td>\n",
       "      <td>  35</td>\n",
       "      <td>2011-01-31</td>\n",
       "    </tr>\n",
       "  </tbody>\n",
       "</table>\n",
       "</div>"
      ],
      "text/plain": [
       "    State  Status  CustomerCount StatusDate\n",
       "18     NY       1            199 2009-05-11\n",
       "36     NY       1            976 2009-09-14\n",
       "50     NY       1            118 2009-12-21\n",
       "53     NY       1            267 2010-01-11\n",
       "67     NY       1            969 2010-04-19\n",
       "70     NY       1            827 2010-05-10\n",
       "71     NY       1            549 2010-05-17\n",
       "82     NY       1            198 2010-08-02\n",
       "92     NY       1            390 2010-10-11\n",
       "108    NY       1             35 2011-01-31"
      ]
     },
     "execution_count": 19,
     "metadata": {},
     "output_type": "execute_result"
    }
   ],
   "source": [
    "sortdf = df[df['State']=='NY'].sort(axis=0)\n",
    "sortdf.head(10)"
   ]
  },
  {
   "cell_type": "markdown",
   "metadata": {},
   "source": [
    "Our task is now to create a new dataframe that compresses the data so we have daily customer counts per State and StatusDate. We can ignore the Status column since all the values in this column are of value *1*. To accomplish this we will use the dataframe's functions ***groupby*** and ***sum()***.  \n",
    "\n",
    "Note that we had to use **reset_index** . If we did not, we would not have been able to group by both the State and the StatusDate since the groupby function expects only columns as inputs. The **reset_index** function will bring the index ***StatusDate*** back to a column in the dataframe. "
   ]
  },
  {
   "cell_type": "code",
   "execution_count": 22,
   "metadata": {
    "collapsed": false
   },
   "outputs": [
    {
     "data": {
      "text/plain": [
       "Index([u'State', u'Status', u'CustomerCount', u'StatusDate'], dtype='object')"
      ]
     },
     "execution_count": 22,
     "metadata": {},
     "output_type": "execute_result"
    }
   ],
   "source": [
    "df.columns"
   ]
  },
  {
   "cell_type": "code",
   "execution_count": 20,
   "metadata": {
    "collapsed": false
   },
   "outputs": [
    {
     "data": {
      "text/html": [
       "<div style=\"max-height:1000px;max-width:1500px;overflow:auto;\">\n",
       "<table border=\"1\" class=\"dataframe\">\n",
       "  <thead>\n",
       "    <tr style=\"text-align: right;\">\n",
       "      <th></th>\n",
       "      <th></th>\n",
       "      <th>index</th>\n",
       "      <th>Status</th>\n",
       "      <th>CustomerCount</th>\n",
       "    </tr>\n",
       "    <tr>\n",
       "      <th>State</th>\n",
       "      <th>StatusDate</th>\n",
       "      <th></th>\n",
       "      <th></th>\n",
       "      <th></th>\n",
       "    </tr>\n",
       "  </thead>\n",
       "  <tbody>\n",
       "    <tr>\n",
       "      <th rowspan=\"5\" valign=\"top\">FL</th>\n",
       "      <th>2009-01-12</th>\n",
       "      <td>   1</td>\n",
       "      <td> 1</td>\n",
       "      <td> 319</td>\n",
       "    </tr>\n",
       "    <tr>\n",
       "      <th>2009-01-26</th>\n",
       "      <td> 421</td>\n",
       "      <td> 1</td>\n",
       "      <td> 127</td>\n",
       "    </tr>\n",
       "    <tr>\n",
       "      <th>2009-02-02</th>\n",
       "      <td> 213</td>\n",
       "      <td> 1</td>\n",
       "      <td> 261</td>\n",
       "    </tr>\n",
       "    <tr>\n",
       "      <th>2009-04-20</th>\n",
       "      <td>  15</td>\n",
       "      <td> 1</td>\n",
       "      <td> 788</td>\n",
       "    </tr>\n",
       "    <tr>\n",
       "      <th>2009-05-18</th>\n",
       "      <td> 228</td>\n",
       "      <td> 1</td>\n",
       "      <td> 326</td>\n",
       "    </tr>\n",
       "  </tbody>\n",
       "</table>\n",
       "</div>"
      ],
      "text/plain": [
       "                  index  Status  CustomerCount\n",
       "State StatusDate                              \n",
       "FL    2009-01-12      1       1            319\n",
       "      2009-01-26    421       1            127\n",
       "      2009-02-02    213       1            261\n",
       "      2009-04-20     15       1            788\n",
       "      2009-05-18    228       1            326"
      ]
     },
     "execution_count": 20,
     "metadata": {},
     "output_type": "execute_result"
    }
   ],
   "source": [
    "# Group by State and StatusDate\n",
    "Daily = df.reset_index().groupby(['State','StatusDate']).sum()\n",
    "Daily.head()"
   ]
  },
  {
   "cell_type": "markdown",
   "metadata": {},
   "source": [
    "The ***State*** and ***StatusDate*** columns are automatically placed in the index of the ***Daily*** dataframe. You can think of the ***index*** as the primary key of a database table but without the constraint of having unique values. Columns in the index as you will see allow us to easily select, plot, and perform calculations on the data.  \n",
    "\n",
    "Below we delete the ***Status*** column since it is all equal to one and no longer necessary."
   ]
  },
  {
   "cell_type": "code",
   "execution_count": 23,
   "metadata": {
    "collapsed": false
   },
   "outputs": [
    {
     "data": {
      "text/html": [
       "<div style=\"max-height:1000px;max-width:1500px;overflow:auto;\">\n",
       "<table border=\"1\" class=\"dataframe\">\n",
       "  <thead>\n",
       "    <tr style=\"text-align: right;\">\n",
       "      <th></th>\n",
       "      <th></th>\n",
       "      <th>index</th>\n",
       "      <th>CustomerCount</th>\n",
       "    </tr>\n",
       "    <tr>\n",
       "      <th>State</th>\n",
       "      <th>StatusDate</th>\n",
       "      <th></th>\n",
       "      <th></th>\n",
       "    </tr>\n",
       "  </thead>\n",
       "  <tbody>\n",
       "    <tr>\n",
       "      <th rowspan=\"5\" valign=\"top\">FL</th>\n",
       "      <th>2009-01-12</th>\n",
       "      <td>   1</td>\n",
       "      <td> 319</td>\n",
       "    </tr>\n",
       "    <tr>\n",
       "      <th>2009-01-26</th>\n",
       "      <td> 421</td>\n",
       "      <td> 127</td>\n",
       "    </tr>\n",
       "    <tr>\n",
       "      <th>2009-02-02</th>\n",
       "      <td> 213</td>\n",
       "      <td> 261</td>\n",
       "    </tr>\n",
       "    <tr>\n",
       "      <th>2009-04-20</th>\n",
       "      <td>  15</td>\n",
       "      <td> 788</td>\n",
       "    </tr>\n",
       "    <tr>\n",
       "      <th>2009-05-18</th>\n",
       "      <td> 228</td>\n",
       "      <td> 326</td>\n",
       "    </tr>\n",
       "  </tbody>\n",
       "</table>\n",
       "</div>"
      ],
      "text/plain": [
       "                  index  CustomerCount\n",
       "State StatusDate                      \n",
       "FL    2009-01-12      1            319\n",
       "      2009-01-26    421            127\n",
       "      2009-02-02    213            261\n",
       "      2009-04-20     15            788\n",
       "      2009-05-18    228            326"
      ]
     },
     "execution_count": 23,
     "metadata": {},
     "output_type": "execute_result"
    }
   ],
   "source": [
    "del Daily['Status']\n",
    "Daily.head()"
   ]
  },
  {
   "cell_type": "code",
   "execution_count": 24,
   "metadata": {
    "collapsed": false
   },
   "outputs": [
    {
     "data": {
      "text/plain": [
       "MultiIndex(levels=[[u'FL', u'GA', u'NY', u'TX'], [2009-01-05 00:00:00, 2009-01-12 00:00:00, 2009-01-26 00:00:00, 2009-02-02 00:00:00, 2009-02-23 00:00:00, 2009-03-02 00:00:00, 2009-03-16 00:00:00, 2009-03-23 00:00:00, 2009-03-30 00:00:00, 2009-04-06 00:00:00, 2009-04-20 00:00:00, 2009-04-27 00:00:00, 2009-05-11 00:00:00, 2009-05-18 00:00:00, 2009-05-25 00:00:00, 2009-06-01 00:00:00, 2009-06-08 00:00:00, 2009-06-15 00:00:00, 2009-06-22 00:00:00, 2009-06-29 00:00:00, 2009-07-06 00:00:00, 2009-07-13 00:00:00, 2009-07-27 00:00:00, 2009-08-10 00:00:00, 2009-08-17 00:00:00, 2009-08-24 00:00:00, 2009-09-14 00:00:00, 2009-09-21 00:00:00, 2009-09-28 00:00:00, 2009-10-12 00:00:00, 2009-10-19 00:00:00, 2009-10-26 00:00:00, 2009-11-02 00:00:00, 2009-11-09 00:00:00, 2009-11-23 00:00:00, 2009-12-07 00:00:00, 2009-12-14 00:00:00, 2009-12-21 00:00:00, 2009-12-28 00:00:00, 2010-01-11 00:00:00, 2010-01-18 00:00:00, 2010-01-25 00:00:00, 2010-02-08 00:00:00, 2010-02-15 00:00:00, 2010-03-01 00:00:00, 2010-03-08 00:00:00, 2010-03-15 00:00:00, 2010-03-29 00:00:00, 2010-04-05 00:00:00, 2010-04-12 00:00:00, 2010-04-19 00:00:00, 2010-04-26 00:00:00, 2010-05-03 00:00:00, 2010-05-10 00:00:00, 2010-05-17 00:00:00, 2010-05-24 00:00:00, 2010-05-31 00:00:00, 2010-06-07 00:00:00, 2010-06-14 00:00:00, 2010-06-21 00:00:00, 2010-06-28 00:00:00, 2010-08-02 00:00:00, 2010-08-09 00:00:00, 2010-08-16 00:00:00, 2010-08-23 00:00:00, 2010-08-30 00:00:00, 2010-09-06 00:00:00, 2010-09-13 00:00:00, 2010-09-20 00:00:00, 2010-09-27 00:00:00, 2010-10-04 00:00:00, 2010-10-11 00:00:00, 2010-10-25 00:00:00, 2010-11-01 00:00:00, 2010-11-08 00:00:00, 2010-11-15 00:00:00, 2010-11-22 00:00:00, 2010-11-29 00:00:00, 2010-12-06 00:00:00, 2010-12-13 00:00:00, 2010-12-20 00:00:00, 2010-12-27 00:00:00, 2011-01-03 00:00:00, 2011-01-17 00:00:00, 2011-01-24 00:00:00, 2011-01-31 00:00:00, 2011-02-07 00:00:00, 2011-02-14 00:00:00, 2011-02-21 00:00:00, 2011-02-28 00:00:00, 2011-03-07 00:00:00, 2011-03-14 00:00:00, 2011-04-11 00:00:00, 2011-04-18 00:00:00, 2011-04-25 00:00:00, 2011-05-02 00:00:00, 2011-05-09 00:00:00, 2011-05-23 00:00:00, 2011-05-30 00:00:00, 2011-06-06 00:00:00, ...]],\n",
       "           labels=[[0, 0, 0, 0, 0, 0, 0, 0, 0, 0, 0, 0, 0, 0, 0, 0, 0, 0, 0, 0, 0, 0, 0, 0, 0, 0, 0, 0, 0, 0, 0, 0, 0, 0, 0, 0, 0, 0, 0, 0, 0, 0, 0, 0, 0, 0, 0, 0, 0, 0, 0, 0, 0, 0, 0, 0, 0, 0, 0, 0, 0, 0, 1, 1, 1, 1, 1, 1, 1, 1, 1, 1, 1, 1, 1, 1, 1, 1, 1, 1, 1, 1, 1, 1, 1, 1, 1, 1, 1, 1, 1, 1, 1, 1, 1, 1, 1, 1, 1, 1, ...], [1, 2, 3, 10, 13, 14, 17, 18, 20, 21, 26, 31, 35, 37, 38, 41, 42, 48, 50, 51, 52, 54, 55, 56, 58, 60, 62, 68, 82, 83, 90, 91, 94, 95, 96, 101, 103, 107, 108, 116, 117, 118, 119, 123, 126, 128, 131, 136, 138, 141, 142, 144, 145, 146, 151, 152, 154, 155, 158, 159, 160, 161, 2, 5, 6, 7, 8, 9, 12, 16, 22, 23, 32, 34, 37, 38, 44, 45, 47, 49, 57, 59, 64, 65, 66, 73, 78, 80, 81, 82, 102, 107, 110, 119, 126, 127, 128, 130, 134, 140, ...]],\n",
       "           names=[u'State', u'StatusDate'])"
      ]
     },
     "execution_count": 24,
     "metadata": {},
     "output_type": "execute_result"
    }
   ],
   "source": [
    "# What is the index of the dataframe\n",
    "Daily.index"
   ]
  },
  {
   "cell_type": "code",
   "execution_count": 25,
   "metadata": {
    "collapsed": false
   },
   "outputs": [
    {
     "data": {
      "text/plain": [
       "Index([u'FL', u'GA', u'NY', u'TX'], dtype='object')"
      ]
     },
     "execution_count": 25,
     "metadata": {},
     "output_type": "execute_result"
    }
   ],
   "source": [
    "# Select the State index\n",
    "Daily.index.levels[0]"
   ]
  },
  {
   "cell_type": "code",
   "execution_count": 26,
   "metadata": {
    "collapsed": false
   },
   "outputs": [
    {
     "data": {
      "text/plain": [
       "<class 'pandas.tseries.index.DatetimeIndex'>\n",
       "[2009-01-05, ..., 2012-12-17]\n",
       "Length: 162, Freq: None, Timezone: None"
      ]
     },
     "execution_count": 26,
     "metadata": {},
     "output_type": "execute_result"
    }
   ],
   "source": [
    "# Select the StatusDate index\n",
    "Daily.index.levels[1]"
   ]
  },
  {
   "cell_type": "markdown",
   "metadata": {},
   "source": [
    "Lets now plot the data per State.  \n",
    "\n",
    "As you can see by breaking the graph up by the ***State*** column we have a much clearer picture on how the data looks like. Can you spot any outliers?"
   ]
  },
  {
   "cell_type": "code",
   "execution_count": 27,
   "metadata": {
    "collapsed": false
   },
   "outputs": [
    {
     "data": {
      "image/png": "[encoded data removed]",
      "text/plain": [
       "<matplotlib.figure.Figure at 0x10a03e950>"
      ]
     },
     "metadata": {},
     "output_type": "display_data"
    },
    {
     "data": {
      "image/png": "[encoded data removed]",
      "text/plain": [
       "<matplotlib.figure.Figure at 0x10a2a11d0>"
      ]
     },
     "metadata": {},
     "output_type": "display_data"
    },
    {
     "data": {
      "image/png": "[encoded data removed]",
      "text/plain": [
       "<matplotlib.figure.Figure at 0x10a328710>"
      ]
     },
     "metadata": {},
     "output_type": "display_data"
    },
    {
     "data": {
      "image/png": "[encoded data removed]",
      "text/plain": [
       "<matplotlib.figure.Figure at 0x10a3e3e50>"
      ]
     },
     "metadata": {},
     "output_type": "display_data"
    }
   ],
   "source": [
    "Daily.loc['FL'].plot()\n",
    "Daily.loc['GA'].plot()\n",
    "Daily.loc['NY'].plot()\n",
    "Daily.loc['TX'].plot();"
   ]
  },
  {
   "cell_type": "markdown",
   "metadata": {},
   "source": [
    "We can also just plot the data on a specific date, like ***2012***. We can now clearly see that the data for these states is all over the place. since the data consist of weekly customer counts, the variability of the data seems suspect. For this tutorial we will assume bad data and proceed. "
   ]
  },
  {
   "cell_type": "code",
   "execution_count": 28,
   "metadata": {
    "collapsed": false
   },
   "outputs": [
    {
     "data": {
      "image/png": "[encoded data removed]",
      "text/plain": [
       "<matplotlib.figure.Figure at 0x10a7fa410>"
      ]
     },
     "metadata": {},
     "output_type": "display_data"
    },
    {
     "data": {
      "image/png": "[encoded data removed]",
      "text/plain": [
       "<matplotlib.figure.Figure at 0x10a413d50>"
      ]
     },
     "metadata": {},
     "output_type": "display_data"
    },
    {
     "data": {
      "image/png": "[encoded data removed]",
      "text/plain": [
       "<matplotlib.figure.Figure at 0x10a27a3d0>"
      ]
     },
     "metadata": {},
     "output_type": "display_data"
    },
    {
     "data": {
      "image/png": "[encoded data removed]",
      "text/plain": [
       "<matplotlib.figure.Figure at 0x10a358110>"
      ]
     },
     "metadata": {},
     "output_type": "display_data"
    }
   ],
   "source": [
    "Daily.loc['FL']['2012':].plot()\n",
    "Daily.loc['GA']['2012':].plot()\n",
    "Daily.loc['NY']['2012':].plot()\n",
    "Daily.loc['TX']['2012':].plot();"
   ]
  },
  {
   "cell_type": "markdown",
   "metadata": {},
   "source": [
    "We will assume that per month the customer count should remain relatively steady. Any data outside a specific range in that month will be removed from the data set. The final result should have smooth graphs with no spikes.  \n",
    "\n",
    "***StateYearMonth*** - Here we group by State, Year of StatusDate, and Month of StatusDate.  \n",
    "***Daily['Outlier']*** - A boolean (True or False) value letting us know if the value in the CustomerCount column is ouside the acceptable range.  \n",
    "\n",
    "We will be using the attribute ***transform*** instead of ***apply***. The reason is that transform will keep the shape(# of rows and columns) of the dataframe the same and apply will not. By looking at the previous graphs, we can realize they are not resembling a gaussian distribution, this means we cannot use summary statistics like the mean and stDev. We use percentiles instead. Note that we run the risk of eliminating good data."
   ]
  },
  {
   "cell_type": "code",
   "execution_count": 29,
   "metadata": {
    "collapsed": false
   },
   "outputs": [],
   "source": [
    "# Calculate Outliers\n",
    "StateYearMonth = Daily.groupby([Daily.index.get_level_values(0), Daily.index.get_level_values(1).year, Daily.index.get_level_values(1).month])\n",
    "Daily['Lower'] = StateYearMonth['CustomerCount'].transform( lambda x: x.quantile(q=.25) - (1.5*x.quantile(q=.75)-x.quantile(q=.25)) )\n",
    "Daily['Upper'] = StateYearMonth['CustomerCount'].transform( lambda x: x.quantile(q=.75) + (1.5*x.quantile(q=.75)-x.quantile(q=.25)) )\n",
    "Daily['Outlier'] = (Daily['CustomerCount'] < Daily['Lower']) | (Daily['CustomerCount'] > Daily['Upper']) \n",
    "\n",
    "# Remove Outliers\n",
    "Daily = Daily[Daily['Outlier'] == False]"
   ]
  },
  {
   "cell_type": "code",
   "execution_count": 32,
   "metadata": {
    "collapsed": false
   },
   "outputs": [
    {
     "data": {
      "text/plain": [
       "pandas.core.groupby.SeriesGroupBy"
      ]
     },
     "execution_count": 32,
     "metadata": {},
     "output_type": "execute_result"
    }
   ],
   "source": [
    "type(StateYearMonth['CustomerCount'])"
   ]
  },
  {
   "cell_type": "markdown",
   "metadata": {},
   "source": [
    "The dataframe named ***Daily*** will hold customer counts that have been aggregated per day. The original data (df) has multiple records per day.  We are left with a data set that is indexed by both the state and the StatusDate. The Outlier column should be equal to ***False*** signifying that the record is not an outlier."
   ]
  },
  {
   "cell_type": "code",
   "execution_count": 30,
   "metadata": {
    "collapsed": false
   },
   "outputs": [
    {
     "data": {
      "text/html": [
       "<div style=\"max-height:1000px;max-width:1500px;overflow:auto;\">\n",
       "<table border=\"1\" class=\"dataframe\">\n",
       "  <thead>\n",
       "    <tr style=\"text-align: right;\">\n",
       "      <th></th>\n",
       "      <th></th>\n",
       "      <th>index</th>\n",
       "      <th>CustomerCount</th>\n",
       "      <th>Lower</th>\n",
       "      <th>Upper</th>\n",
       "      <th>Outlier</th>\n",
       "    </tr>\n",
       "    <tr>\n",
       "      <th>State</th>\n",
       "      <th>StatusDate</th>\n",
       "      <th></th>\n",
       "      <th></th>\n",
       "      <th></th>\n",
       "      <th></th>\n",
       "      <th></th>\n",
       "    </tr>\n",
       "  </thead>\n",
       "  <tbody>\n",
       "    <tr>\n",
       "      <th rowspan=\"5\" valign=\"top\">FL</th>\n",
       "      <th>2009-01-12</th>\n",
       "      <td>   1</td>\n",
       "      <td> 319</td>\n",
       "      <td> -56.500</td>\n",
       "      <td>  502.500</td>\n",
       "      <td> False</td>\n",
       "    </tr>\n",
       "    <tr>\n",
       "      <th>2009-01-26</th>\n",
       "      <td> 421</td>\n",
       "      <td> 127</td>\n",
       "      <td> -56.500</td>\n",
       "      <td>  502.500</td>\n",
       "      <td> False</td>\n",
       "    </tr>\n",
       "    <tr>\n",
       "      <th>2009-02-02</th>\n",
       "      <td> 213</td>\n",
       "      <td> 261</td>\n",
       "      <td> 130.500</td>\n",
       "      <td>  391.500</td>\n",
       "      <td> False</td>\n",
       "    </tr>\n",
       "    <tr>\n",
       "      <th>2009-04-20</th>\n",
       "      <td>  15</td>\n",
       "      <td> 788</td>\n",
       "      <td> 394.000</td>\n",
       "      <td> 1182.000</td>\n",
       "      <td> False</td>\n",
       "    </tr>\n",
       "    <tr>\n",
       "      <th>2009-05-18</th>\n",
       "      <td> 228</td>\n",
       "      <td> 326</td>\n",
       "      <td>-292.625</td>\n",
       "      <td> 1673.625</td>\n",
       "      <td> False</td>\n",
       "    </tr>\n",
       "  </tbody>\n",
       "</table>\n",
       "</div>"
      ],
      "text/plain": [
       "                  index  CustomerCount    Lower     Upper Outlier\n",
       "State StatusDate                                                 \n",
       "FL    2009-01-12      1            319  -56.500   502.500   False\n",
       "      2009-01-26    421            127  -56.500   502.500   False\n",
       "      2009-02-02    213            261  130.500   391.500   False\n",
       "      2009-04-20     15            788  394.000  1182.000   False\n",
       "      2009-05-18    228            326 -292.625  1673.625   False"
      ]
     },
     "execution_count": 30,
     "metadata": {},
     "output_type": "execute_result"
    }
   ],
   "source": [
    "Daily.head()"
   ]
  },
  {
   "cell_type": "markdown",
   "metadata": {},
   "source": [
    "We create a separate dataframe named ***ALL*** which groups the Daily dataframe by StatusDate. We are essentially getting rid of the ***State*** column. The ***Max*** column represents the maximum customer count per month. The ***Max*** column is used to smooth out the graph."
   ]
  },
  {
   "cell_type": "code",
   "execution_count": 35,
   "metadata": {
    "collapsed": false
   },
   "outputs": [
    {
     "data": {
      "text/html": [
       "<div style=\"max-height:1000px;max-width:1500px;overflow:auto;\">\n",
       "<table border=\"1\" class=\"dataframe\">\n",
       "  <thead>\n",
       "    <tr style=\"text-align: right;\">\n",
       "      <th></th>\n",
       "      <th>CustomerCount</th>\n",
       "      <th>Max</th>\n",
       "    </tr>\n",
       "    <tr>\n",
       "      <th>StatusDate</th>\n",
       "      <th></th>\n",
       "      <th></th>\n",
       "    </tr>\n",
       "  </thead>\n",
       "  <tbody>\n",
       "    <tr>\n",
       "      <th>2009-01-05</th>\n",
       "      <td> 1279</td>\n",
       "      <td> 1279</td>\n",
       "    </tr>\n",
       "    <tr>\n",
       "      <th>2009-01-12</th>\n",
       "      <td>  319</td>\n",
       "      <td> 1279</td>\n",
       "    </tr>\n",
       "    <tr>\n",
       "      <th>2009-01-26</th>\n",
       "      <td>  428</td>\n",
       "      <td> 1279</td>\n",
       "    </tr>\n",
       "    <tr>\n",
       "      <th>2009-02-02</th>\n",
       "      <td>  261</td>\n",
       "      <td>  350</td>\n",
       "    </tr>\n",
       "    <tr>\n",
       "      <th>2009-02-23</th>\n",
       "      <td>  350</td>\n",
       "      <td>  350</td>\n",
       "    </tr>\n",
       "  </tbody>\n",
       "</table>\n",
       "</div>"
      ],
      "text/plain": [
       "            CustomerCount   Max\n",
       "StatusDate                     \n",
       "2009-01-05           1279  1279\n",
       "2009-01-12            319  1279\n",
       "2009-01-26            428  1279\n",
       "2009-02-02            261   350\n",
       "2009-02-23            350   350"
      ]
     },
     "execution_count": 35,
     "metadata": {},
     "output_type": "execute_result"
    }
   ],
   "source": [
    "# Combine all markets\n",
    "\n",
    "# Get the max customer count by Date\n",
    "ALL = pd.DataFrame(Daily['CustomerCount'].groupby(Daily.index.get_level_values(1)).sum())\n",
    "ALL.columns = ['CustomerCount'] # rename column\n",
    "\n",
    "# Group by Year and Month\n",
    "YearMonth = ALL.groupby([lambda x: x.year, lambda x: x.month])\n",
    "\n",
    "# What is the max customer count per Year and Month\n",
    "ALL['Max'] = YearMonth['CustomerCount'].transform(lambda x: x.max())\n",
    "ALL.head()"
   ]
  },
  {
   "cell_type": "markdown",
   "metadata": {},
   "source": [
    "As you can see from the ***ALL*** dataframe above, in the month of January 2009, the maximum customer count was 901. If we had used ***apply***, we would have got a dataframe with (Year and Month) as the index and just the *Max* column with the value of 901. "
   ]
  },
  {
   "cell_type": "markdown",
   "metadata": {},
   "source": [
    "----------------------------------  \n",
    "There is also an interest to gauge if the current customer counts were reaching certain goals the company had established. The task here is to visually show if the current customer counts are meeting the goals listed below. We will call the goals ***BHAG*** (Big Hairy Annual Goal).  \n",
    "\n",
    "* 12/31/2011 - 1,000 customers  \n",
    "* 12/31/2012 - 2,000 customers  \n",
    "* 12/31/2013 - 3,000 customers  \n",
    "\n",
    "We will be using the **date_range** function to create our dates.  \n",
    "\n",
    "***Definition:*** date_range(start=None, end=None, periods=None, freq='D', tz=None, normalize=False, name=None, closed=None)  \n",
    "***Docstring:*** Return a fixed frequency datetime index, with day (calendar) as the default frequency  \n",
    "\n",
    "By choosing the frequency to be ***A*** or annual we will be able to get the three target dates from above."
   ]
  },
  {
   "cell_type": "code",
   "execution_count": null,
   "metadata": {
    "collapsed": false
   },
   "outputs": [],
   "source": [
    "date_range?"
   ]
  },
  {
   "cell_type": "code",
   "execution_count": 33,
   "metadata": {
    "collapsed": false
   },
   "outputs": [
    {
     "data": {
      "text/html": [
       "<div style=\"max-height:1000px;max-width:1500px;overflow:auto;\">\n",
       "<table border=\"1\" class=\"dataframe\">\n",
       "  <thead>\n",
       "    <tr style=\"text-align: right;\">\n",
       "      <th></th>\n",
       "      <th>BHAG</th>\n",
       "    </tr>\n",
       "  </thead>\n",
       "  <tbody>\n",
       "    <tr>\n",
       "      <th>2011-12-31</th>\n",
       "      <td> 1000</td>\n",
       "    </tr>\n",
       "    <tr>\n",
       "      <th>2012-12-31</th>\n",
       "      <td> 2000</td>\n",
       "    </tr>\n",
       "    <tr>\n",
       "      <th>2013-12-31</th>\n",
       "      <td> 3000</td>\n",
       "    </tr>\n",
       "  </tbody>\n",
       "</table>\n",
       "</div>"
      ],
      "text/plain": [
       "            BHAG\n",
       "2011-12-31  1000\n",
       "2012-12-31  2000\n",
       "2013-12-31  3000"
      ]
     },
     "execution_count": 33,
     "metadata": {},
     "output_type": "execute_result"
    }
   ],
   "source": [
    "# Create the BHAG dataframe\n",
    "data = [1000,2000,3000]\n",
    "idx = pd.date_range(start='12/31/2011', end='12/31/2013', freq='A')\n",
    "BHAG = pd.DataFrame(data, index=idx, columns=['BHAG'])\n",
    "BHAG"
   ]
  },
  {
   "cell_type": "markdown",
   "metadata": {},
   "source": [
    "Combining dataframes as we have learned in previous lesson is made simple using the ***concat*** function. Remember when we choose ***axis = 0*** we are appending row wise."
   ]
  },
  {
   "cell_type": "code",
   "execution_count": 36,
   "metadata": {
    "collapsed": false
   },
   "outputs": [
    {
     "data": {
      "text/html": [
       "<div style=\"max-height:1000px;max-width:1500px;overflow:auto;\">\n",
       "<table border=\"1\" class=\"dataframe\">\n",
       "  <thead>\n",
       "    <tr style=\"text-align: right;\">\n",
       "      <th></th>\n",
       "      <th>BHAG</th>\n",
       "      <th>CustomerCount</th>\n",
       "      <th>Max</th>\n",
       "    </tr>\n",
       "  </thead>\n",
       "  <tbody>\n",
       "    <tr>\n",
       "      <th>2012-11-26</th>\n",
       "      <td>  NaN</td>\n",
       "      <td>  478</td>\n",
       "      <td> 1257</td>\n",
       "    </tr>\n",
       "    <tr>\n",
       "      <th>2012-12-10</th>\n",
       "      <td>  NaN</td>\n",
       "      <td>  760</td>\n",
       "      <td> 1842</td>\n",
       "    </tr>\n",
       "    <tr>\n",
       "      <th>2012-12-17</th>\n",
       "      <td>  NaN</td>\n",
       "      <td> 1842</td>\n",
       "      <td> 1842</td>\n",
       "    </tr>\n",
       "    <tr>\n",
       "      <th>2012-12-31</th>\n",
       "      <td> 2000</td>\n",
       "      <td>  NaN</td>\n",
       "      <td>  NaN</td>\n",
       "    </tr>\n",
       "    <tr>\n",
       "      <th>2013-12-31</th>\n",
       "      <td> 3000</td>\n",
       "      <td>  NaN</td>\n",
       "      <td>  NaN</td>\n",
       "    </tr>\n",
       "  </tbody>\n",
       "</table>\n",
       "</div>"
      ],
      "text/plain": [
       "            BHAG  CustomerCount   Max\n",
       "2012-11-26   NaN            478  1257\n",
       "2012-12-10   NaN            760  1842\n",
       "2012-12-17   NaN           1842  1842\n",
       "2012-12-31  2000            NaN   NaN\n",
       "2013-12-31  3000            NaN   NaN"
      ]
     },
     "execution_count": 36,
     "metadata": {},
     "output_type": "execute_result"
    }
   ],
   "source": [
    "# Combine the BHAG and the ALL data set \n",
    "combined = pd.concat([ALL,BHAG], axis=0)\n",
    "combined = combined.sort(axis=0)\n",
    "combined.tail()"
   ]
  },
  {
   "cell_type": "code",
   "execution_count": 37,
   "metadata": {
    "collapsed": false
   },
   "outputs": [
    {
     "data": {
      "image/png": "[encoded data removed]",
      "text/plain": [
       "<matplotlib.figure.Figure at 0x10a11c1d0>"
      ]
     },
     "metadata": {},
     "output_type": "display_data"
    }
   ],
   "source": [
    "fig, axes = plt.subplots(figsize=(12, 7))\n",
    "\n",
    "combined['BHAG'].fillna(method='pad').plot(color='green', label='BHAG')\n",
    "combined['Max'].plot(color='blue', label='All Markets')\n",
    "plt.legend(loc='best');"
   ]
  },
  {
   "cell_type": "markdown",
   "metadata": {},
   "source": [
    "There was also a need to forecast next year's customer count and we can do this in a couple of simple steps. We will first group the ***combined*** dataframe by ***Year*** and place the maximum customer count for that year. This will give us one row per Year.   "
   ]
  },
  {
   "cell_type": "code",
   "execution_count": 38,
   "metadata": {
    "collapsed": false
   },
   "outputs": [
    {
     "data": {
      "text/html": [
       "<div style=\"max-height:1000px;max-width:1500px;overflow:auto;\">\n",
       "<table border=\"1\" class=\"dataframe\">\n",
       "  <thead>\n",
       "    <tr style=\"text-align: right;\">\n",
       "      <th></th>\n",
       "      <th>BHAG</th>\n",
       "      <th>CustomerCount</th>\n",
       "      <th>Max</th>\n",
       "    </tr>\n",
       "  </thead>\n",
       "  <tbody>\n",
       "    <tr>\n",
       "      <th>2009</th>\n",
       "      <td>  NaN</td>\n",
       "      <td> 2034</td>\n",
       "      <td> 2034</td>\n",
       "    </tr>\n",
       "    <tr>\n",
       "      <th>2010</th>\n",
       "      <td>  NaN</td>\n",
       "      <td> 2115</td>\n",
       "      <td> 2115</td>\n",
       "    </tr>\n",
       "    <tr>\n",
       "      <th>2011</th>\n",
       "      <td> 1000</td>\n",
       "      <td> 1904</td>\n",
       "      <td> 1904</td>\n",
       "    </tr>\n",
       "    <tr>\n",
       "      <th>2012</th>\n",
       "      <td> 2000</td>\n",
       "      <td> 2036</td>\n",
       "      <td> 2036</td>\n",
       "    </tr>\n",
       "    <tr>\n",
       "      <th>2013</th>\n",
       "      <td> 3000</td>\n",
       "      <td>  NaN</td>\n",
       "      <td>  NaN</td>\n",
       "    </tr>\n",
       "  </tbody>\n",
       "</table>\n",
       "</div>"
      ],
      "text/plain": [
       "      BHAG  CustomerCount   Max\n",
       "2009   NaN           2034  2034\n",
       "2010   NaN           2115  2115\n",
       "2011  1000           1904  1904\n",
       "2012  2000           2036  2036\n",
       "2013  3000            NaN   NaN"
      ]
     },
     "execution_count": 38,
     "metadata": {},
     "output_type": "execute_result"
    }
   ],
   "source": [
    "# Group by Year and then get the max value per year\n",
    "Year = combined.groupby(lambda x: x.year).max()\n",
    "Year"
   ]
  },
  {
   "cell_type": "code",
   "execution_count": 39,
   "metadata": {
    "collapsed": false
   },
   "outputs": [
    {
     "data": {
      "text/html": [
       "<div style=\"max-height:1000px;max-width:1500px;overflow:auto;\">\n",
       "<table border=\"1\" class=\"dataframe\">\n",
       "  <thead>\n",
       "    <tr style=\"text-align: right;\">\n",
       "      <th></th>\n",
       "      <th>BHAG</th>\n",
       "      <th>CustomerCount</th>\n",
       "      <th>Max</th>\n",
       "      <th>YR_PCT_Change</th>\n",
       "    </tr>\n",
       "  </thead>\n",
       "  <tbody>\n",
       "    <tr>\n",
       "      <th>2009</th>\n",
       "      <td>  NaN</td>\n",
       "      <td> 2034</td>\n",
       "      <td> 2034</td>\n",
       "      <td>      NaN</td>\n",
       "    </tr>\n",
       "    <tr>\n",
       "      <th>2010</th>\n",
       "      <td>  NaN</td>\n",
       "      <td> 2115</td>\n",
       "      <td> 2115</td>\n",
       "      <td> 0.039823</td>\n",
       "    </tr>\n",
       "    <tr>\n",
       "      <th>2011</th>\n",
       "      <td> 1000</td>\n",
       "      <td> 1904</td>\n",
       "      <td> 1904</td>\n",
       "      <td>-0.099764</td>\n",
       "    </tr>\n",
       "    <tr>\n",
       "      <th>2012</th>\n",
       "      <td> 2000</td>\n",
       "      <td> 2036</td>\n",
       "      <td> 2036</td>\n",
       "      <td> 0.069328</td>\n",
       "    </tr>\n",
       "    <tr>\n",
       "      <th>2013</th>\n",
       "      <td> 3000</td>\n",
       "      <td>  NaN</td>\n",
       "      <td>  NaN</td>\n",
       "      <td>      NaN</td>\n",
       "    </tr>\n",
       "  </tbody>\n",
       "</table>\n",
       "</div>"
      ],
      "text/plain": [
       "      BHAG  CustomerCount   Max  YR_PCT_Change\n",
       "2009   NaN           2034  2034            NaN\n",
       "2010   NaN           2115  2115       0.039823\n",
       "2011  1000           1904  1904      -0.099764\n",
       "2012  2000           2036  2036       0.069328\n",
       "2013  3000            NaN   NaN            NaN"
      ]
     },
     "execution_count": 39,
     "metadata": {},
     "output_type": "execute_result"
    }
   ],
   "source": [
    "# Add a column representing the percent change per year\n",
    "Year['YR_PCT_Change'] = Year['Max'].pct_change(periods=1)\n",
    "Year"
   ]
  },
  {
   "cell_type": "markdown",
   "metadata": {},
   "source": [
    "To get next year's end customer count we will assume our current growth rate remains constant. We then will increase this years customer count by that amount and that will be our forecast for next year. "
   ]
  },
  {
   "cell_type": "code",
   "execution_count": 40,
   "metadata": {
    "collapsed": false
   },
   "outputs": [
    {
     "data": {
      "text/plain": [
       "2177.1512605042017"
      ]
     },
     "execution_count": 40,
     "metadata": {},
     "output_type": "execute_result"
    }
   ],
   "source": [
    "(1 + Year.ix[2012,'YR_PCT_Change']) * Year.ix[2012,'Max']"
   ]
  },
  {
   "cell_type": "markdown",
   "metadata": {},
   "source": [
    "# Present Data  \n",
    "\n",
    "Create individual Graphs per State.  "
   ]
  },
  {
   "cell_type": "code",
   "execution_count": 42,
   "metadata": {
    "collapsed": false
   },
   "outputs": [
    {
     "data": {
      "image/png": "[encoded data removed]",
      "text/plain": [
       "<matplotlib.figure.Figure at 0x10a24fdd0>"
      ]
     },
     "metadata": {},
     "output_type": "display_data"
    },
    {
     "data": {
      "image/png": "[encoded data removed]",
      "text/plain": [
       "<matplotlib.figure.Figure at 0x10a24f2d0>"
      ]
     },
     "metadata": {},
     "output_type": "display_data"
    }
   ],
   "source": [
    "# First Graph\n",
    "ALL['Max'].plot(figsize=(10, 5));plt.title('ALL Markets')\n",
    "\n",
    "# Last four Graphs\n",
    "fig, axes = plt.subplots(nrows=2, ncols=2, figsize=(10, 5))\n",
    "fig.subplots_adjust(hspace=1.0) ## Create space between plots\n",
    "\n",
    "Daily.loc['FL']['CustomerCount']['2012':].fillna(method='pad').plot(ax=axes[0,0])\n",
    "Daily.loc['GA']['CustomerCount']['2012':].fillna(method='pad').plot(ax=axes[0,1]) \n",
    "Daily.loc['TX']['CustomerCount']['2012':].fillna(method='pad').plot(ax=axes[1,0]) \n",
    "Daily.loc['NY']['CustomerCount']['2012':].fillna(method='pad').plot(ax=axes[1,1]) \n",
    "\n",
    "# Add titles\n",
    "axes[0,0].set_title('Florida')\n",
    "axes[0,1].set_title('Georgia')\n",
    "axes[1,0].set_title('Texas')\n",
    "axes[1,1].set_title('North East');"
   ]
  },
  {
   "cell_type": "markdown",
   "metadata": {},
   "source": [
    "**Author:** [David Rojas](http://www.hedaro.com/)  "
   ]
  }
 ],
 "metadata": {
  "kernelspec": {
   "display_name": "Python 2",
   "language": "python",
   "name": "python2"
  },
  "language_info": {
   "codemirror_mode": {
    "name": "ipython",
    "version": 2
   },
   "file_extension": ".py",
   "mimetype": "text/x-python",
   "name": "python",
   "nbconvert_exporter": "python",
   "pygments_lexer": "ipython2",
   "version": "2.7.12"
  }
 },
 "nbformat": 4,
 "nbformat_minor": 0
}
