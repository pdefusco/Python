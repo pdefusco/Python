{
 "cells": [
  {
   "cell_type": "markdown",
   "metadata": {},
   "source": [
    "# Lecture4 Exercises"
   ]
  },
  {
   "cell_type": "markdown",
   "metadata": {},
   "source": [
    "##Functional Programming\n",
    "\n",
    "Use the [map](https://docs.python.org/2/library/functions.html#map) and [filter](https://docs.python.org/2/library/functions.html#filter) functions to convert the list `l = [0,1,2,3,4,5,6,7,8,9,10]` into a list of the squares of the even numbers in `l`.\n",
    "\n",
    "Hints:\n",
    "\n",
    "1. Use map() to apply a function to each element in the list\n",
    "2. Use filter() to filter elements of a list\n",
    "3. Use lambda to define anonymous functions\n",
    "4. *Do not* use list comprehensions"
   ]
  },
  {
   "cell_type": "code",
   "execution_count": 10,
   "metadata": {
    "collapsed": false
   },
   "outputs": [
    {
     "data": {
      "text/plain": [
       "[0, 4, 16, 36, 64, 100]"
      ]
     },
     "execution_count": 10,
     "metadata": {},
     "output_type": "execute_result"
    }
   ],
   "source": [
    "l = [0,1,2,3,4,5,6,7,8,9,10]\n",
    "#write code here\n",
    "filtered = filter(lambda i: not i%2,l)\n",
    "mapped = map(lambda i: i**2,filtered)\n",
    "mapped"
   ]
  },
  {
   "cell_type": "markdown",
   "metadata": {},
   "source": [
    "### Object Oriented Programming"
   ]
  },
  {
   "cell_type": "markdown",
   "metadata": {},
   "source": [
    "Implement a Python iterator which iterates over string characters (ASCII only) returning their ASCII code\n",
    "\n",
    "1. Define a new iterator class which contains two methods:\n",
    "    -init – a constructor taking the ASCII string as a argument,\n",
    "    -next – returns the ASCII code of the next character or raises a StopIteration exception if the string end was encountered.\n",
    "\n",
    "2. Define a new iterable class which wraps around a string and contains iter method which returns the iterator instance.\n",
    "3. Test your code using explicit calls of next method (see example in the lecture) and for loop."
   ]
  },
  {
   "cell_type": "code",
   "execution_count": 1,
   "metadata": {
    "collapsed": false
   },
   "outputs": [],
   "source": [
    "#Test here\n",
    "class StringIterator:\n",
    "    def __init__(self, string):\n",
    "        self.string=string\n",
    "    \n",
    "    def next(self):\n",
    "        try:\n",
    "            return ord(self.next())\n",
    "        except:\n",
    "            raise StopIteration\n",
    "        \n",
    "class StringIterable:\n",
    "    def __init__(self,string):\n",
    "        self.string=string\n",
    "        \n",
    "    def __iter__(self):\n",
    "        return StringIterator(self.string)"
   ]
  },
  {
   "cell_type": "code",
   "execution_count": 2,
   "metadata": {
    "collapsed": false
   },
   "outputs": [
    {
     "ename": "StopIteration",
     "evalue": "",
     "output_type": "error",
     "traceback": [
      "\u001b[0;31m---------------------------------------------------------------------------\u001b[0m",
      "\u001b[0;31mStopIteration\u001b[0m                             Traceback (most recent call last)",
      "\u001b[0;32m<ipython-input-2-81a287fa7dfb>\u001b[0m in \u001b[0;36m<module>\u001b[0;34m()\u001b[0m\n\u001b[1;32m      1\u001b[0m \u001b[0;31m#string='stringing'\u001b[0m\u001b[0;34m\u001b[0m\u001b[0;34m\u001b[0m\u001b[0m\n\u001b[1;32m      2\u001b[0m \u001b[0mdastring\u001b[0m \u001b[0;34m=\u001b[0m \u001b[0mStringIterator\u001b[0m\u001b[0;34m(\u001b[0m\u001b[0;34m'hehehwqndklqewndklwendw'\u001b[0m\u001b[0;34m)\u001b[0m\u001b[0;34m\u001b[0m\u001b[0m\n\u001b[0;32m----> 3\u001b[0;31m \u001b[0mdastring\u001b[0m\u001b[0;34m.\u001b[0m\u001b[0mnext\u001b[0m\u001b[0;34m(\u001b[0m\u001b[0;34m)\u001b[0m\u001b[0;34m\u001b[0m\u001b[0m\n\u001b[0m",
      "\u001b[0;32m<ipython-input-1-b9d3a5b9a095>\u001b[0m in \u001b[0;36mnext\u001b[0;34m(self)\u001b[0m\n\u001b[1;32m      8\u001b[0m             \u001b[0;32mreturn\u001b[0m \u001b[0mord\u001b[0m\u001b[0;34m(\u001b[0m\u001b[0mself\u001b[0m\u001b[0;34m.\u001b[0m\u001b[0mnext\u001b[0m\u001b[0;34m(\u001b[0m\u001b[0;34m)\u001b[0m\u001b[0;34m)\u001b[0m\u001b[0;34m\u001b[0m\u001b[0m\n\u001b[1;32m      9\u001b[0m         \u001b[0;32mexcept\u001b[0m\u001b[0;34m:\u001b[0m\u001b[0;34m\u001b[0m\u001b[0m\n\u001b[0;32m---> 10\u001b[0;31m             \u001b[0;32mraise\u001b[0m \u001b[0mStopIteration\u001b[0m\u001b[0;34m\u001b[0m\u001b[0m\n\u001b[0m\u001b[1;32m     11\u001b[0m \u001b[0;34m\u001b[0m\u001b[0m\n\u001b[1;32m     12\u001b[0m \u001b[0;32mclass\u001b[0m \u001b[0mStringIterable\u001b[0m\u001b[0;34m:\u001b[0m\u001b[0;34m\u001b[0m\u001b[0m\n",
      "\u001b[0;31mStopIteration\u001b[0m: "
     ]
    }
   ],
   "source": [
    "#string='stringing'\n",
    "dastring = StringIterator('hehehwqndklqewndklwendw')\n",
    "dastring.next()"
   ]
  },
  {
   "cell_type": "code",
   "execution_count": 5,
   "metadata": {
    "collapsed": false
   },
   "outputs": [],
   "source": [
    "dastring = StringIterator('hehehwqndklqewndklwendw')\n",
    "newstring= StringIterable('[i**2 for i in range(10)]')\n",
    "for i in newstring:\n",
    "    print i"
   ]
  },
  {
   "cell_type": "markdown",
   "metadata": {},
   "source": [
    "##Fibonacci Sequence\n",
    "\n",
    "write a class Fibonacci whose constructor takes two numbers; the class uses these two numbers as the first two numbers in the sequence. \n",
    "\n",
    "1. The class should have a method calculate(n) that returns the n-th number in the sequence.\n",
    "2. Add a method next(). The first call to next() returns the first number in the sequence, the second call returns the second number, and so on. You'll need instance variables to save state between calls. \n",
    "3. Finally, add a method writeToFile(n, filename), that writes the first n numbers in the sequence to the file named filename, one number per line.\n",
    "\n",
    "**HINT:** you should store previously computed fibonachi numbers instead of recomputing every one as they are needed"
   ]
  },
  {
   "cell_type": "code",
   "execution_count": 186,
   "metadata": {
    "collapsed": false
   },
   "outputs": [],
   "source": [
    "class Fibonacci:\n",
    "    \n",
    "    def __init__(self, first, second):\n",
    "        self.first=first\n",
    "        self.second=second\n",
    "        self.rememberThis=-1\n",
    "        \n",
    "    def calculate(self,n):\n",
    "        if n == 0:\n",
    "            return 0\n",
    "        elif n == 1:\n",
    "            return 1\n",
    "        else:\n",
    "            self.nums = []\n",
    "            self.nums.append(self.first)\n",
    "            self.nums.append(self.second)\n",
    "            new = self.nums[0] + self.nums[1]\n",
    "            self.nums.append(new)\n",
    "            for i in range(n):\n",
    "                new = self.nums[-1] + self.nums[-2]\n",
    "                self.nums.append(new)\n",
    "            return self.nums[n]\n",
    "            \n",
    "    call_number = 0\n",
    "    def next(self):\n",
    "        #nom = self.call_number\n",
    "        self.rememberThis +=1\n",
    "        return self.nums[self.rememberThis]\n",
    "        \n",
    "    \n",
    "        #Fibonacci.call_number = Fibonacci.call_number +1\n",
    "    \n",
    "    def writeToFile(self, n, filename):\n",
    "        fib_list = self.calculate(n)\n",
    "        fib_list = self.nums[:n]\n",
    "        seq = fib_list[:n-1]\n",
    "        f = open(filename, 'w+')\n",
    "        for i in seq:\n",
    "            k=str(i)\n",
    "            f.write(k)\n",
    "            f.write('\\n')\n",
    "      "
   ]
  },
  {
   "cell_type": "code",
   "execution_count": 187,
   "metadata": {
    "collapsed": false
   },
   "outputs": [
    {
     "name": "stdout",
     "output_type": "stream",
     "text": [
      "True\n",
      "True\n",
      "True\n",
      "True\n",
      "True\n",
      "True\n",
      "True\n",
      "True\n",
      "2\n",
      "0\n",
      "1\n",
      "1\n",
      "2\n",
      "3\n",
      "5\n",
      "8\n",
      "13\n",
      "21\n",
      "34\n",
      "55\n",
      "89\n",
      "144\n",
      "233\n",
      "377\n",
      "610\n",
      "987\n",
      "1597\n",
      "2584\n",
      "4181\n",
      "6765\n",
      "10946\n",
      "17711\n",
      "28657\n",
      "46368\n",
      "75025\n",
      "121393\n",
      "196418\n",
      "317811\n"
     ]
    }
   ],
   "source": [
    "#Testing code, should all equal print true\n",
    "fib = Fibonacci(0,1)\n",
    "\n",
    "print fib.calculate(0) == 0\n",
    "print fib.calculate(1) == 1\n",
    "print fib.calculate(2) == 1\n",
    "print fib.calculate(3) == 2\n",
    "print fib.calculate(20) == 6765 \n",
    "print fib.next() == fib.calculate(0)\n",
    "print fib.next() == fib.calculate(1)\n",
    "print fib.next() == fib.calculate(2)\n",
    "print fib.next()\n",
    "\n",
    "fib.writeToFile(30, \"fib.out\")"
   ]
  },
  {
   "cell_type": "markdown",
   "metadata": {},
   "source": [
    "Write a function solve(h,l) which solves the folowing classic puzzle: \n",
    "\n",
    "We count h heads and l legs among the chickens and rabbits in a farm. How many rabbits and how many chickens do we have? where h and l are the parameters passed to the function solve\n",
    "\n",
    "    >> numheads=35\n",
    "    >> numlegs=94\n",
    "    >> solutions=solve(numheads,numlegs)\n",
    "    >> print solutions\n",
    "\n"
   ]
  },
  {
   "cell_type": "code",
   "execution_count": 193,
   "metadata": {
    "collapsed": true
   },
   "outputs": [],
   "source": [
    "import numpy as np\n",
    "def solve(h,l):\n",
    "    \n",
    "    #The system of equations is:\n",
    "    #legs = 2*chickens + 4*rabbits\n",
    "    #heads = chickens + rabbits\n",
    "    #chickens is x1 and rabbits is x2\n",
    "    \n",
    "    a = np.array([[2,4], [1,1]])\n",
    "    b = np.array([l,h])\n",
    "    x = np.linalg.solve(a,b)\n",
    "    return x"
   ]
  },
  {
   "cell_type": "code",
   "execution_count": 195,
   "metadata": {
    "collapsed": false
   },
   "outputs": [
    {
     "name": "stdout",
     "output_type": "stream",
     "text": [
      "[ 23.  12.]\n"
     ]
    }
   ],
   "source": [
    "solutions = solve(35,94)\n",
    "print solutions"
   ]
  }
 ],
 "metadata": {
  "anaconda-cloud": {},
  "kernelspec": {
   "display_name": "Python [default]",
   "language": "python",
   "name": "python2"
  },
  "language_info": {
   "codemirror_mode": {
    "name": "ipython",
    "version": 2
   },
   "file_extension": ".py",
   "mimetype": "text/x-python",
   "name": "python",
   "nbconvert_exporter": "python",
   "pygments_lexer": "ipython2",
   "version": "2.7.12"
  }
 },
 "nbformat": 4,
 "nbformat_minor": 0
}
