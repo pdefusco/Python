{
 "cells": [
  {
   "cell_type": "markdown",
   "metadata": {},
   "source": [
    "# Final exam DSE 200"
   ]
  },
  {
   "cell_type": "markdown",
   "metadata": {},
   "source": [
    "Your task in this take-home exam is to analyze the evolution of poverty and income distribution in the United States.\n",
    "\n",
    "### Data source: \n",
    "\n",
    "https://www.census.gov/did/www/saipe/data/statecounty/data/index.html\n",
    "\n",
    "Use the given code snippet to access the data files\n",
    "\n",
    "The data fields are described here:https://www.census.gov/did/www/saipe/data/statecounty/data/2000.html \n",
    "Extract the required fields. The required fields are: \n",
    "   'State FIPS', 'County FIPS','Poverty Estimate All Ages', 'Poverty Percent All Ages', \n",
    "   'Poverty Estimate Under Age 18', 'Poverty Percent Under Age 18', 'Poverty Estimate Ages 5-17', \n",
    "   'Poverty Percent Ages 5-17', 'Median Household Income','Name','Postal'\n",
    " \n",
    "### Pandas Data-Frames\n",
    "\n",
    "1)\n",
    "    - create a data frame with just the country-wide data\n",
    "    - create a data frame with just the data of the states\n",
    "    - create a data frame with just the data of the counties\n",
    "\n",
    "    \n",
    "2) Plot a graph of 'Poverty Percent All Ages' of the entire country vs year (line graph).\n",
    "   Plot a graph of 'Median Household Income' of the entire country vs year (line graph)\n",
    "\n",
    "3) Plot the total poverty in each state across the years and compare it with the country-wide poverty\n",
    "\n",
    "4) Plot county-wide poverty stats\n",
    "\n",
    "- Create a dataframe with the Unique FIPS code (obtained by combining the state and county FIPS), 'Poverty Percent All Ages' in every county in 2000, 'Poverty Percent All Ages' in every county in 2013 and the change ratio between 2000 and 2013. (change ratio = poverty % in 2013 / poverty % in 2000. Divide this by the nationwide change ratio for normalization. A value > 1 indicates that poverty is higher compared to the nation-wide poverty and a value < 1 indicates that poverty is lower compared to the nationwide poverty.)\n",
    "\n",
    "\n",
    "FIPS code is a unique code to identify counties and states in the US. In this data you have been given state code and county code separately. You will have to combine the state code and the county code to generate a unique code for each place, which will be used to plot on the map. Please note that before combining, make sure the state code is 2 digits and county code is 3 digits by adding zeroes to the front.\n",
    "\n",
    "\n",
    "- Plot the 'Poverty Percent All Ages' for each county on the map for the years 2000 and 2013.\n",
    "- Plot the normalized change ratio on the map.\n",
    "- Find the counties which witnessed the most positive and most negative change in poverty,\n",
    "\n",
    "For this visualization, we will use a library called Vincent, which lets you plot data for places using their FIPS code instead of using latitude/longitude. \n",
    "\n",
    "To install vincent do\n",
    "`pip install vincent` or `conda install vincent`\n",
    "\n",
    "\n",
    "To use it in the notebook and display the maps inside the notebook do\n",
    "\n",
    "`import vincent`\n",
    "\n",
    "`vincent.core.initialize_notebook()`\n",
    "\n",
    "You can find further details about how to use it here - http://wrobstory.github.io/2013/10/mapping-data-python.html and https://github.com/wrobstory/vincent\n",
    "\n",
    "Before closing your notebook, please clear the output of the vincent maps as it becomes difficult of reload the notebook later. For plotting the counties on the map, you will need to use the file us_counties.topo.json present in the exam folder.\n",
    "\n",
    "Tips: -  \n",
    "    Check the type of datafields before operating on them. It will also help you debug for errors.\n",
    "    Clean the data before using it. Drop those rows before using them."
   ]
  },
  {
   "cell_type": "code",
   "execution_count": null,
   "metadata": {
    "collapsed": true
   },
   "outputs": [],
   "source": [
    "import urllib2\n",
    "import pandas as pd"
   ]
  },
  {
   "cell_type": "code",
   "execution_count": null,
   "metadata": {
    "collapsed": false
   },
   "outputs": [],
   "source": [
    "urls = ['https://www.census.gov/did/www/saipe/downloads/estmod93/est93ALL.dat',\n",
    "        'https://www.census.gov/did/www/saipe/downloads/estmod95/est95ALL.dat',\n",
    "        'https://www.census.gov/did/www/saipe/downloads/estmod97/est97ALL.dat',\n",
    "        'https://www.census.gov/did/www/saipe/downloads/estmod98/est98ALL.dat',\n",
    "        'https://www.census.gov/did/www/saipe/downloads/estmod99/est99ALL.dat',\n",
    "        'https://www.census.gov/did/www/saipe/downloads/estmod00/est00ALL.dat',\n",
    "        'https://www.census.gov/did/www/saipe/downloads/estmod01/est01ALL.dat',\n",
    "        'https://www.census.gov/did/www/saipe/downloads/estmod02/est02ALL.dat',\n",
    "        'https://www.census.gov/did/www/saipe/downloads/estmod03/est03ALL.dat',\n",
    "        'https://www.census.gov/did/www/saipe/downloads/estmod04/est04ALL.txt',\n",
    "        'https://www.census.gov/did/www/saipe/downloads/estmod05/est05ALL.txt',\n",
    "        'https://www.census.gov/did/www/saipe/downloads/estmod06/est06ALL.txt',\n",
    "        'https://www.census.gov/did/www/saipe/downloads/estmod07/est07ALL.txt',\n",
    "        'https://www.census.gov/did/www/saipe/downloads/estmod08/est08ALL.txt',\n",
    "        'https://www.census.gov/did/www/saipe/downloads/estmod09/est09ALL.txt',\n",
    "        'https://www.census.gov/did/www/saipe/downloads/estmod10/est10ALL.txt',\n",
    "        'https://www.census.gov/did/www/saipe/downloads/estmod11/est11all.txt',\n",
    "        'https://www.census.gov/did/www/saipe/downloads/estmod12/est12ALL.txt',\n",
    "        'https://www.census.gov/did/www/saipe/downloads/estmod13/est13ALL.txt']\n"
   ]
  },
  {
   "cell_type": "code",
   "execution_count": null,
   "metadata": {
    "collapsed": false
   },
   "outputs": [],
   "source": [
    "def getUrl(urls):\n",
    "    \n",
    "    state_fips = []\n",
    "    county_fips = []\n",
    "    pov_est_all_ages = []\n",
    "    pov_prcent_all_ages = []\n",
    "    pov_est_undr_18 = []\n",
    "    pov_prcent_undr_18 = []\n",
    "    pov_est_ages_517 = []\n",
    "    pov_prcent_ages_517 = []\n",
    "    med_hsld_income = []\n",
    "    name = []\n",
    "    postal = []\n",
    "    year = []\n",
    "    \n",
    "    \n",
    "    for url in urls:\n",
    "        response = urllib2.urlopen(url)\n",
    "        lines = response.read().split('\\n')\n",
    "        #print lines\n",
    "        #del lines[-1]\n",
    "        #TODO -code to use the text data\n",
    "\n",
    "        \n",
    "        for i in lines:\n",
    "            state = str(i[0:2])\n",
    "            state_fips.append(state)\n",
    "\n",
    "            county = i[3:6]\n",
    "            county_fips.append(county)\n",
    "\n",
    "            pov_est = str(i[7:15])\n",
    "            pov_est_all_ages.append(pov_est)\n",
    "\n",
    "            pov_prcent = str(i[34:38])\n",
    "            pov_prcent_all_ages.append(pov_prcent)\n",
    "\n",
    "            pov_est_18 = str(i[49:57])\n",
    "            pov_est_undr_18.append(pov_est_18)\n",
    "\n",
    "            pov_prcent_18 = str(i[76:80])\n",
    "            pov_prcent_undr_18.append(pov_prcent_18)\n",
    "\n",
    "            pov_est_517 = str(i[91:99])\n",
    "            pov_est_ages_517.append(pov_est_517)\n",
    "\n",
    "            pov_prcent_517 = str(i[118:122])\n",
    "            pov_prcent_ages_517.append(pov_prcent_517)\n",
    "\n",
    "            income = str(i[133:139])\n",
    "            med_hsld_income.append(income)\n",
    "\n",
    "            nm = str(i[193:238])\n",
    "            name.append(nm)\n",
    "\n",
    "            pst = str(i[239:241])\n",
    "            postal.append(pst)\n",
    "\n",
    "            yr = int(url[-9:-7])\n",
    "            if yr < 10:\n",
    "                yr = '200'+str(yr)\n",
    "                year.append(yr)\n",
    "            elif yr >= 10 and yr < 15:\n",
    "                yr = '20'+str(yr)\n",
    "                year.append(yr)\n",
    "            else:\n",
    "                yr = '19'+str(yr)\n",
    "                year.append(yr)\n",
    "            \n",
    "                \n",
    "    state_fips = pd.Series(state_fips)\n",
    "    county_fips = pd.Series(county_fips)\n",
    "    pov_est_all_ages = pd.Series(pov_est_all_ages)\n",
    "    pov_prcent_all_ages = pd.Series(pov_prcent_all_ages)\n",
    "    pov_est_undr_18 = pd.Series(pov_est_undr_18)\n",
    "    pov_prcent_undr_18 = pd.Series(pov_prcent_undr_18)\n",
    "    pov_est_ages_517 = pd.Series(pov_est_ages_517)\n",
    "    pov_prcent_ages_517 = pd.Series(pov_prcent_ages_517)\n",
    "    med_hsld_income = pd.Series(med_hsld_income)\n",
    "    name = pd.Series(name)\n",
    "    postal = pd.Series(postal)\n",
    "    year = pd.Series(year)\n",
    "\n",
    "    master_frame = pd.concat([state_fips,county_fips\n",
    "                                  ,pov_est_all_ages,pov_prcent_all_ages\n",
    "                                  ,pov_est_undr_18,pov_prcent_undr_18\n",
    "                                  ,pov_est_ages_517,pov_prcent_ages_517\n",
    "                                  ,med_hsld_income,name,postal,year],axis=1)\n",
    "\n",
    "    master_frame.columns = ['State FIPS', 'County FIPS','Poverty Estimate All Ages', \n",
    "                                'Poverty Percent All Ages', 'Poverty Estimate Under Age 18', \n",
    "                                'Poverty Percent Under Age 18', 'Poverty Estimate Ages 5-17', \n",
    "                                'Poverty Percent Ages 5-17', 'Median Household Income','Name',\n",
    "                                'Postal','Year']\n",
    "                \n",
    "    return master_frame[:-1]\n",
    "        \n"
   ]
  },
  {
   "cell_type": "markdown",
   "metadata": {},
   "source": [
    "### Q1: Create the dataframes\n",
    "\n",
    "Download and parse the data files and create the following three pandas dataframes: (your dataframes should have data in the format shown below)\n",
    "\n",
    " * US_stat: statistics for the whole United States.\n",
    " * states_stat: Statistics for each state.\n",
    " * county_stat: Statistics for each county."
   ]
  },
  {
   "cell_type": "code",
   "execution_count": null,
   "metadata": {
    "collapsed": false
   },
   "outputs": [],
   "source": [
    "master_frame = getUrl(urls)"
   ]
  },
  {
   "cell_type": "code",
   "execution_count": null,
   "metadata": {
    "collapsed": true
   },
   "outputs": [],
   "source": [
    "master_frame['County FIPS'] = master_frame['County FIPS'].str.replace(' ', '0')"
   ]
  },
  {
   "cell_type": "code",
   "execution_count": null,
   "metadata": {
    "collapsed": false
   },
   "outputs": [],
   "source": [
    "master_frame"
   ]
  },
  {
   "cell_type": "code",
   "execution_count": null,
   "metadata": {
    "collapsed": false
   },
   "outputs": [],
   "source": [
    "master_frame = master_frame.set_index('Year')"
   ]
  },
  {
   "cell_type": "code",
   "execution_count": null,
   "metadata": {
    "collapsed": true
   },
   "outputs": [],
   "source": [
    "master_frame['Year'] = master_frame.index"
   ]
  },
  {
   "cell_type": "code",
   "execution_count": null,
   "metadata": {
    "collapsed": true
   },
   "outputs": [],
   "source": [
    "master_frame.insert(2, 'FIPS', master_frame['State FIPS'] + master_frame['County FIPS'])"
   ]
  },
  {
   "cell_type": "code",
   "execution_count": null,
   "metadata": {
    "collapsed": false
   },
   "outputs": [],
   "source": [
    "#df[\"Make\"] = df[\"Make\"].map(str.strip)\n",
    "master_frame['Name'] = master_frame['Name'].map(str.strip)\n",
    "master_frame['Poverty Estimate All Ages']=master_frame['Poverty Estimate All Ages'].map(str.strip)\n",
    "master_frame['Poverty Percent All Ages']=master_frame['Poverty Percent All Ages'].map(str.strip)\n",
    "master_frame['Poverty Estimate Under Age 18']=master_frame['Poverty Estimate Under Age 18'].map(str.strip)\n",
    "master_frame['Poverty Percent Under Age 18']=master_frame['Poverty Percent Under Age 18'].map(str.strip)\n",
    "master_frame['Poverty Estimate Ages 5-17']=master_frame['Poverty Estimate Ages 5-17'].map(str.strip)\n",
    "master_frame['Poverty Percent Ages 5-17']=master_frame['Poverty Percent Ages 5-17'].map(str.strip)\n",
    "master_frame['Median Household Income']=master_frame['Median Household Income'].map(str.strip)\n",
    "master_frame['Postal']=master_frame['Postal'].map(str.strip)\n",
    "master_frame['Year']=master_frame['Year'].map(str.strip)"
   ]
  },
  {
   "cell_type": "code",
   "execution_count": null,
   "metadata": {
    "collapsed": false
   },
   "outputs": [],
   "source": [
    "US_stat = master_frame.loc[master_frame['Postal'] == 'US']"
   ]
  },
  {
   "cell_type": "code",
   "execution_count": null,
   "metadata": {
    "collapsed": false
   },
   "outputs": [],
   "source": [
    "states_list = ['Alabama'\n",
    ",'Alaska'\n",
    ",'Arizona'\n",
    ",'Arkansas'\n",
    ",'California'\n",
    ",'Colorado'\n",
    ",'Connecticut'\n",
    ",'Delaware'\n",
    ",'Florida'\n",
    ",'Georgia'\n",
    ",'Hawaii'\n",
    ",'Idaho'\n",
    ",'Illinois'\n",
    ",'Indiana'\n",
    ",'Iowa'\n",
    ",'Kansas'\n",
    ",'Kentucky'\n",
    ",'Louisiana'\n",
    ",'Maine'\n",
    ",'Maryland'\n",
    ",'Massachusetts'\n",
    ",'Michigan'\n",
    ",'Minnesota'\n",
    ",'Mississippi'\n",
    ",'Missouri'\n",
    ",'Montana'\n",
    ",'Nebraska'\n",
    ",'Nevada'\n",
    ",'New Hampshire'\n",
    ",'New Jersey'\n",
    ",'New Mexico'\n",
    ",'New York'\n",
    ",'North Carolina'\n",
    ",'North Dakota'\n",
    ",'Ohio'\n",
    ",'Oklahoma'\n",
    ",'Oregon'\n",
    ",'Pennsylvania'\n",
    ",'Rhode Island'\n",
    ",'South Carolina'\n",
    ",'South Dakota'\n",
    ",'Tennessee'\n",
    ",'Texas'\n",
    ",'Utah'\n",
    ",'Vermont'\n",
    ",'Virginia'\n",
    ",'Washington'\n",
    ",'West Virginia'\n",
    ",'Wisconsin'\n",
    ",'Wyoming']"
   ]
  },
  {
   "cell_type": "code",
   "execution_count": null,
   "metadata": {
    "collapsed": false
   },
   "outputs": [],
   "source": [
    "states_stat = master_frame.loc[master_frame.Name.isin(['Alabama','Alaska','Arizona'\n",
    ",'Arkansas'\n",
    ",'California'\n",
    ",'Colorado'\n",
    ",'Connecticut'\n",
    ",'Delaware'\n",
    ",'Florida'\n",
    ",'Georgia'\n",
    ",'Hawaii'\n",
    ",'Idaho'\n",
    ",'Illinois'\n",
    ",'Indiana'\n",
    ",'Iowa'\n",
    ",'Kansas'\n",
    ",'Kentucky'\n",
    ",'Louisiana'\n",
    ",'Maine'\n",
    ",'Maryland'\n",
    ",'Massachusetts'\n",
    ",'Michigan'\n",
    ",'Minnesota'\n",
    ",'Mississippi'\n",
    ",'Missouri'\n",
    ",'Montana'\n",
    ",'Nebraska'\n",
    ",'Nevada'\n",
    ",'New Hampshire'\n",
    ",'New Jersey'\n",
    ",'New Mexico'\n",
    ",'New York'\n",
    ",'North Carolina'\n",
    ",'North Dakota'\n",
    ",'Ohio'\n",
    ",'Oklahoma'\n",
    ",'Oregon'\n",
    ",'Pennsylvania'\n",
    ",'Rhode Island'\n",
    ",'South Carolina'\n",
    ",'South Dakota'\n",
    ",'Tennessee'\n",
    ",'Texas'\n",
    ",'Utah'\n",
    ",'Vermont'\n",
    ",'Virginia'\n",
    ",'Washington'\n",
    ",'West Virginia'\n",
    ",'Wisconsin'\n",
    ",'Wyoming'])]"
   ]
  },
  {
   "cell_type": "code",
   "execution_count": null,
   "metadata": {
    "collapsed": false
   },
   "outputs": [],
   "source": [
    "#states_stat\n",
    "#county_stat.index\n",
    "states_stat.set_index(['Postal','Year'], inplace=True)"
   ]
  },
  {
   "cell_type": "code",
   "execution_count": null,
   "metadata": {
    "collapsed": false
   },
   "outputs": [],
   "source": [
    "states_stat"
   ]
  },
  {
   "cell_type": "code",
   "execution_count": null,
   "metadata": {
    "collapsed": false
   },
   "outputs": [],
   "source": [
    "#county_frame = master_frame.loc[master_frame['Name'].str.contains('County', na=False)]\n",
    "county_stat = master_frame.loc[~master_frame.Name.isin(['United States','Alabama','Alaska','Arizona'\n",
    ",'Arkansas'\n",
    ",'California'\n",
    ",'Colorado'\n",
    ",'Connecticut'\n",
    ",'Delaware'\n",
    ",'Florida'\n",
    ",'Georgia'\n",
    ",'Hawaii'\n",
    ",'Idaho'\n",
    ",'Illinois'\n",
    ",'Indiana'\n",
    ",'Iowa'\n",
    ",'Kansas'\n",
    ",'Kentucky'\n",
    ",'Louisiana'\n",
    ",'Maine'\n",
    ",'Maryland'\n",
    ",'Massachusetts'\n",
    ",'Michigan'\n",
    ",'Minnesota'\n",
    ",'Mississippi'\n",
    ",'Missouri'\n",
    ",'Montana'\n",
    ",'Nebraska'\n",
    ",'Nevada'\n",
    ",'New Hampshire'\n",
    ",'New Jersey'\n",
    ",'New Mexico'\n",
    ",'New York'\n",
    ",'North Carolina'\n",
    ",'North Dakota'\n",
    ",'Ohio'\n",
    ",'Oklahoma'\n",
    ",'Oregon'\n",
    ",'Pennsylvania'\n",
    ",'Rhode Island'\n",
    ",'South Carolina'\n",
    ",'South Dakota'\n",
    ",'Tennessee'\n",
    ",'Texas'\n",
    ",'Utah'\n",
    ",'Vermont'\n",
    ",'Virginia'\n",
    ",'Washington'\n",
    ",'West Virginia'\n",
    ",'Wisconsin'\n",
    ",'Wyoming'])]"
   ]
  },
  {
   "cell_type": "code",
   "execution_count": null,
   "metadata": {
    "collapsed": false
   },
   "outputs": [],
   "source": [
    "#county_stat.index\n",
    "county_stat.set_index(['Postal','FIPS','Year'], inplace=True)\n",
    "#county_stat.reset_index(level=[0,1,2], drop=False, inplace=True, col_level=0, col_fill='')"
   ]
  },
  {
   "cell_type": "code",
   "execution_count": null,
   "metadata": {
    "collapsed": false
   },
   "outputs": [],
   "source": [
    "county_stat"
   ]
  },
  {
   "cell_type": "markdown",
   "metadata": {},
   "source": [
    "### Q2. Plot the US-wide statistics on poverty.\n",
    "\n",
    "Plot the 'Poverty Percent All Ages' and 'Median Household Income' across entire US over the years. \n",
    "\n",
    "Compute the percentage of increase in poverty in the US between 2000 and 2013. - [poverty % in 2013] / [poverty % in 2000]"
   ]
  },
  {
   "cell_type": "code",
   "execution_count": null,
   "metadata": {
    "collapsed": false,
    "scrolled": true
   },
   "outputs": [],
   "source": [
    "import matplotlib.pyplot as plt"
   ]
  },
  {
   "cell_type": "code",
   "execution_count": null,
   "metadata": {
    "collapsed": false
   },
   "outputs": [],
   "source": [
    "US_stat['Year'] = US_stat.Year.astype(int)\n",
    "US_stat['Median Household Income'] = US_stat['Median Household Income'].apply(pd.to_numeric)\n",
    "US_stat['Poverty Percent All Ages']=US_stat['Poverty Percent All Ages'].astype(float)"
   ]
  },
  {
   "cell_type": "code",
   "execution_count": null,
   "metadata": {
    "collapsed": false
   },
   "outputs": [],
   "source": [
    "fig = plt.figure()\n",
    "US_stat.plot(y='Poverty Percent All Ages',kind='line')\n",
    "US_stat.plot(y='Median Household Income',kind='line')\n",
    "plt.show()"
   ]
  },
  {
   "cell_type": "code",
   "execution_count": null,
   "metadata": {
    "collapsed": false
   },
   "outputs": [],
   "source": [
    "pov_13 = float(US_stat.loc[US_stat['Year'] == 2013,'Poverty Percent All Ages'])\n",
    "pov_00 = float(US_stat.loc[US_stat['Year'] == 2000,'Poverty Percent All Ages'])"
   ]
  },
  {
   "cell_type": "code",
   "execution_count": null,
   "metadata": {
    "collapsed": false
   },
   "outputs": [],
   "source": [
    "pov_incr_prcent = pov_13/pov_00\n",
    "print 'The Poverty Increase between 2013 and 2000 has been: ' + str(pov_incr_prcent) + '%'"
   ]
  },
  {
   "cell_type": "markdown",
   "metadata": {},
   "source": [
    "### 2000 was a good year\n",
    "\n",
    "We see from these graphs that even though the median household in the US keeps increasing at a more or less constant rate, the pocerty levels reached a minimum at 2000 and have increased dramatically , by 40% since then.\n",
    "\n",
    "We will now attempt to identify the geographic distribution of the rise in poverty since 2000.\n",
    "\n",
    "We start by plotting the time evolution of poverty for each of the states.\n",
    "\n",
    "### Q3: Plot the change in poverty percentages by state.\n",
    "\n",
    "For each state, plot the poverty levels across time and compare it with the nation-wide poverty level. Produce a graph similar to the ones below."
   ]
  },
  {
   "cell_type": "code",
   "execution_count": null,
   "metadata": {
    "collapsed": false
   },
   "outputs": [],
   "source": [
    "states_stat['Poverty Percent All Ages']=states_stat['Poverty Percent All Ages'].astype(float)"
   ]
  },
  {
   "cell_type": "code",
   "execution_count": null,
   "metadata": {
    "collapsed": false
   },
   "outputs": [],
   "source": [
    "fig, axs = plt.subplots(10,5, figsize=(20, 20))\n",
    "fig=plt.figure(facecolor='w', edgecolor='k')\n",
    "\n",
    "axs = axs.ravel()\n",
    "z=[x for x in range(50)]\n",
    "\n",
    "for i,j in zip(z,states_list):\n",
    "\n",
    "    wrk_frame = states_stat.loc[states_stat['Name']==j]\n",
    "    axs[i].plot(legend=False) \n",
    "    US_stat['Poverty Percent All Ages'].plot(style='r-',ax=axs[i],use_index=False,legend=False)\n",
    "    wrk_frame['Poverty Percent All Ages'].plot(style='b-',ax=axs[i],use_index=False,legend=False)\n",
    "    axs[i].set_title(str(j))\n",
    "    axs[i].set_xticklabels([])\n",
    "\n",
    "fig.subplots_adjust(hspace = 40)  \n",
    "plt.show()"
   ]
  },
  {
   "cell_type": "code",
   "execution_count": null,
   "metadata": {
    "collapsed": false
   },
   "outputs": [],
   "source": []
  },
  {
   "cell_type": "markdown",
   "metadata": {},
   "source": [
    "### Q4: plot poverty statistics by county\n",
    "\n",
    "Using the vincent library and the dataframe `county_stat`, generate the following three maps.\n",
    "\n",
    "1. Overall percentage of poverty for each county in 2000.\n",
    "![poverty2000](Poverty2000.jpg)\n",
    "1. Overall percentage of poverty for each county in 2013.\n",
    "![poverty2013](Poverty2013.jpg)\n",
    "1. Ratio between percentage of change in poverty from 2000 to 2013 for each county. Divided by the nation-wide change in poverty (1.39).\n",
    "![povertyChange](PovertyChange.jpg)"
   ]
  },
  {
   "cell_type": "markdown",
   "metadata": {},
   "source": [
    "# Plot county-wide poverty stats\n",
    "Create a dataframe with the Unique FIPS code (obtained by combining the state and county FIPS), 'Poverty Percent All Ages' in every county in 2000, 'Poverty Percent All Ages' in every county in 2013 and the change ratio between 2000 and 2013. (change ratio = poverty % in 2013 / poverty % in 2000. Divide this by the nationwide change ratio for normalization. A value > 1 indicates that poverty is higher compared to the nation-wide poverty and a value < 1 indicates that poverty is lower compared to the nationwide poverty.)\n",
    "FIPS code is a unique code to identify counties and states in the US. In this data you have been given state code and county code separately. You will have to combine the state code and the county code to generate a unique code for each place, which will be used to plot on the map. Please note that before combining, make sure the state code is 2 digits and county code is 3 digits by adding zeroes to the front."
   ]
  },
  {
   "cell_type": "code",
   "execution_count": null,
   "metadata": {
    "collapsed": false
   },
   "outputs": [],
   "source": [
    "wrk = county_stat.iloc[county_stat.index.isin(['2000'], level=2)]\n",
    "wrk.reset_index(level=[0,1,2], drop=False, inplace=True, col_level=0, col_fill='')\n",
    "wrk['Poverty Percent All Ages Year 2000']=wrk['Poverty Percent All Ages']\n",
    "wrk.drop(['Poverty Percent All Ages','Year','Postal','State FIPS','County FIPS','Poverty Estimate All Ages','Poverty Estimate Under Age 18', \n",
    "                                'Poverty Percent Under Age 18', 'Poverty Estimate Ages 5-17', \n",
    "                                'Poverty Percent Ages 5-17', 'Median Household Income','Name'],\n",
    "                                axis=1, level=None, inplace=True, errors='raise')"
   ]
  },
  {
   "cell_type": "code",
   "execution_count": null,
   "metadata": {
    "collapsed": false
   },
   "outputs": [],
   "source": [
    "wrk2 = county_stat.iloc[county_stat.index.isin(['2013'], level=2)]\n",
    "wrk2.reset_index(level=[0,1,2], drop=False, inplace=True, col_level=0, col_fill='')\n",
    "wrk2['Poverty Percent All Ages Year 2013']=wrk2['Poverty Percent All Ages']\n",
    "wrk2.drop(['Poverty Percent All Ages','Year','Postal','State FIPS','County FIPS','Poverty Estimate All Ages','Poverty Estimate Under Age 18', \n",
    "                                'Poverty Percent Under Age 18', 'Poverty Estimate Ages 5-17', \n",
    "                                'Poverty Percent Ages 5-17', 'Median Household Income','Name'],\n",
    "                                axis=1, level=None, inplace=True, errors='raise')\n",
    "\n"
   ]
  },
  {
   "cell_type": "code",
   "execution_count": null,
   "metadata": {
    "collapsed": false
   },
   "outputs": [],
   "source": [
    "new_frame=pd.merge(wrk, wrk2, how='inner', on='FIPS', left_on=None, right_on=None,\n",
    "         left_index=False, right_index=False, sort=True, copy=True, indicator=False)"
   ]
  },
  {
   "cell_type": "code",
   "execution_count": null,
   "metadata": {
    "collapsed": false
   },
   "outputs": [],
   "source": [
    "new_frame['Poverty Percent All Ages Year 2013']=new_frame['Poverty Percent All Ages Year 2013'].convert_objects(convert_numeric=True)\n",
    "new_frame['Poverty Percent All Ages Year 2000']=new_frame['Poverty Percent All Ages Year 2000'].convert_objects(convert_numeric=True)"
   ]
  },
  {
   "cell_type": "code",
   "execution_count": null,
   "metadata": {
    "collapsed": false
   },
   "outputs": [],
   "source": [
    "new_frame['Diff in Poverty Percent'] = new_frame['Poverty Percent All Ages Year 2013']/new_frame['Poverty Percent All Ages Year 2000']"
   ]
  },
  {
   "cell_type": "code",
   "execution_count": null,
   "metadata": {
    "collapsed": false
   },
   "outputs": [],
   "source": [
    "new_frame['Diff in Poverty Percent']= new_frame['Diff in Poverty Percent'] / pov_incr_prcent"
   ]
  },
  {
   "cell_type": "code",
   "execution_count": null,
   "metadata": {
    "collapsed": false
   },
   "outputs": [],
   "source": [
    "!pip install vincent"
   ]
  },
  {
   "cell_type": "code",
   "execution_count": null,
   "metadata": {
    "collapsed": false
   },
   "outputs": [],
   "source": [
    "import json\n",
    "import vincent\n",
    "from vincent import PropertySet, ValueRef\n",
    "vincent.core.initialize_notebook()"
   ]
  },
  {
   "cell_type": "code",
   "execution_count": null,
   "metadata": {
    "collapsed": false
   },
   "outputs": [],
   "source": [
    "with open('us_counties.topo.json', 'r') as f:\n",
    "    get_id = json.load(f)\n",
    "\n",
    "#A little FIPS code type casting to ensure keys match\n",
    "new_geoms = []\n",
    "for geom in get_id['objects']['us_counties.geo']['geometries']:\n",
    "    geom['properties']['FIPS'] = int(geom['properties']['FIPS'])\n",
    "    new_geoms.append(geom)\n",
    "\n",
    "get_id['objects']['us_counties.geo']['geometries'] = new_geoms\n",
    "\n",
    "with open('us_counties.topo.json', 'w') as f:\n",
    "    json.dump(get_id, f)\n",
    "\n",
    "#Grab the FIPS codes and load them into a dataframe\n",
    "geometries = get_id['objects']['us_counties.geo']['geometries']\n",
    "county_codes = [x['properties']['FIPS'] for x in geometries]\n",
    "county_df = pd.DataFrame({'FIPS': county_codes}, dtype=str)\n",
    "county_df = county_df.astype(int)\n",
    "\n",
    "#Read county unemployment data into Dataframe, cast to int for consistency\n",
    "\n",
    "new_frame['FIPS'] = new_frame['FIPS'].astype(int)\n",
    "\n",
    "#Perform an inner join, pad NA's with data from nearest county\n",
    "merged = pd.merge(new_frame, county_df, on='FIPS', how='inner')\n",
    "merged = merged.fillna(method='pad')"
   ]
  },
  {
   "cell_type": "code",
   "execution_count": null,
   "metadata": {
    "collapsed": false
   },
   "outputs": [],
   "source": [
    "geo_data = [{'name': 'counties',\n",
    "             'url': 'us_counties.topo.json',\n",
    "             'feature': 'us_counties.geo'}]"
   ]
  },
  {
   "cell_type": "code",
   "execution_count": null,
   "metadata": {
    "collapsed": false
   },
   "outputs": [],
   "source": [
    "vis2000 = vincent.Map(data=merged, geo_data=geo_data, scale=1100, projection='albersUsa',\n",
    "          data_bind='Poverty Percent All Ages Year 2000', data_key='FIPS',brew='YlGnBu',\n",
    "          map_key={'counties': 'properties.FIPS'}\n",
    "                     )\n",
    "vis2000.marks[0].properties.enter.stroke_opacity = ValueRef(value=0.5)\n",
    "vis2000.scales[0].type='threshold'\n",
    "vis2000.scales['color'].domain = [0,4,6,8,10,12,20,30]\n",
    "vis2000.legend(title='Poverty % 2000')\n",
    "vis2000.to_json('vega.json')"
   ]
  },
  {
   "cell_type": "code",
   "execution_count": null,
   "metadata": {
    "collapsed": false
   },
   "outputs": [],
   "source": [
    "vis2000"
   ]
  },
  {
   "cell_type": "code",
   "execution_count": null,
   "metadata": {
    "collapsed": true
   },
   "outputs": [],
   "source": [
    "vis2013 = vincent.Map(data=merged, geo_data=geo_data, scale=1100, projection='albersUsa',\n",
    "          data_bind='Poverty Percent All Ages Year 2013', data_key='FIPS',brew='YlGnBu',\n",
    "          map_key={'counties': 'properties.FIPS'})\n",
    "vis2013.marks[0].properties.enter.stroke_opacity = ValueRef(value=0.5)\n",
    "vis2013.scales[0].type='threshold'\n",
    "vis2013.scales['color'].domain = [0,4,6,8,10,12,20,30]\n",
    "vis2013.to_json('vega.json')"
   ]
  },
  {
   "cell_type": "code",
   "execution_count": null,
   "metadata": {
    "collapsed": false
   },
   "outputs": [],
   "source": [
    "vis2013"
   ]
  },
  {
   "cell_type": "code",
   "execution_count": null,
   "metadata": {
    "collapsed": false
   },
   "outputs": [],
   "source": [
    "vis_diff = vincent.Map(data=merged, geo_data=geo_data, scale=1100, projection='albersUsa',\n",
    "          data_bind='Diff in Poverty Percent', data_key='FIPS',brew='YlGnBu',\n",
    "          map_key={'counties': 'properties.FIPS'})\n",
    "vis_diff.marks[0].properties.enter.stroke_opacity = ValueRef(value=0.5)\n",
    "vis_diff.scales[0].type='threshold'\n",
    "vis_diff.scales['color'].domain = [0,0.8,0.9,1,1.1,1.2,1.3]\n",
    "vis_diff.to_json('vega.json')"
   ]
  },
  {
   "cell_type": "code",
   "execution_count": null,
   "metadata": {
    "collapsed": false
   },
   "outputs": [],
   "source": [
    "vis_diff"
   ]
  },
  {
   "cell_type": "markdown",
   "metadata": {},
   "source": [
    "### Q5: Identify the extremes.\n",
    "Find out which are the counties in which the poverty percentage increased or decreased the most during the period 2000 - 2013."
   ]
  },
  {
   "cell_type": "code",
   "execution_count": null,
   "metadata": {
    "collapsed": false
   },
   "outputs": [],
   "source": [
    "increased_most=new_frame.sort_values('Diff in Poverty Percent', axis=0, ascending=False)\n",
    "decreased_most=new_frame.sort_values('Diff in Poverty Percent', axis=0, ascending=True)"
   ]
  },
  {
   "cell_type": "code",
   "execution_count": null,
   "metadata": {
    "collapsed": false
   },
   "outputs": [],
   "source": [
    "top_10_increased=increased_most.head(n=10)\n",
    "top_10_decreased=decreased_most.head(n=10)"
   ]
  },
  {
   "cell_type": "code",
   "execution_count": null,
   "metadata": {
    "collapsed": false
   },
   "outputs": [],
   "source": [
    "top_10_increased=top_10_increased['FIPS'].astype(str)\n",
    "top_10_decreased=top_10_decreased['FIPS'].astype(str)"
   ]
  },
  {
   "cell_type": "code",
   "execution_count": null,
   "metadata": {
    "collapsed": false
   },
   "outputs": [],
   "source": [
    "#county_stat.set_index(['Postal','FIPS','Year'], inplace=True)\n",
    "county_stat.reset_index(level=[0,1,2], drop=False, inplace=True, col_level=0, col_fill='')"
   ]
  },
  {
   "cell_type": "code",
   "execution_count": null,
   "metadata": {
    "collapsed": false
   },
   "outputs": [],
   "source": [
    "Top_10_Counties_Increased=county_stat.loc[county_stat.FIPS.isin(top_10_increased)]\n",
    "Top_10_Counties_Decreased=county_stat.loc[county_stat.FIPS.isin(top_10_decreased)]"
   ]
  },
  {
   "cell_type": "code",
   "execution_count": null,
   "metadata": {
    "collapsed": false
   },
   "outputs": [],
   "source": [
    "#Top 10 Counties Increased\n",
    "Top_10_Counties_Increased['Name'].head(n=10)"
   ]
  },
  {
   "cell_type": "code",
   "execution_count": null,
   "metadata": {
    "collapsed": false
   },
   "outputs": [],
   "source": [
    "#Top 10 Counties Decreased\n",
    "Top_10_Counties_Decreased['Name'].head(n=10)"
   ]
  }
 ],
 "metadata": {
  "anaconda-cloud": {},
  "kernelspec": {
   "display_name": "Python [default]",
   "language": "python",
   "name": "python2"
  },
  "language_info": {
   "codemirror_mode": {
    "name": "ipython",
    "version": 2
   },
   "file_extension": ".py",
   "mimetype": "text/x-python",
   "name": "python",
   "nbconvert_exporter": "python",
   "pygments_lexer": "ipython2",
   "version": "2.7.12"
  }
 },
 "nbformat": 4,
 "nbformat_minor": 0
}
