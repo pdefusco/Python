{
 "cells": [
  {
   "cell_type": "markdown",
   "metadata": {},
   "source": [
    "### Excercise 1: reconstruct a file from segments."
   ]
  },
  {
   "cell_type": "markdown",
   "metadata": {},
   "source": [
    "Each of the files F* is a short segment of the original text file.\n",
    "\n",
    "The format of the file is `(n1: 5 char int),(n2: 5 char int),string`\n",
    "The string represents the content of the file in the range `[n1:n2]`\n",
    "\n",
    "Your task is to reconstruct the original file."
   ]
  },
  {
   "cell_type": "code",
   "execution_count": 5,
   "metadata": {
    "collapsed": false
   },
   "outputs": [
    {
     "name": "stdout",
     "output_type": "stream",
     "text": [
      "[Errno 2] No such file or directory: '../data/NLTK/Chopped/'\n",
      "/Users/pauldefusco/Documents/DSE/pdefusco/DSE200/data/NLTK/Chopped\n",
      "F0    F115  F131  F148  F164  F180  F198  F214  F230  F36   F52   F68   F83\r\n",
      "F1    F117  F132  F149  F165  F181  F199  F215  F231  F37   F53   F69   F84\r\n",
      "F10   F118  F133  F15   F166  F182  F2    F216  F232  F38   F54   F7    F85\r\n",
      "F100  F119  F134  F151  F167  F183  F20   F218  F233  F39   F55   F70   F86\r\n",
      "F101  F12   F135  F152  F168  F185  F200  F219  F24   F4    F56   F71   F87\r\n",
      "F102  F120  F136  F153  F169  F186  F201  F22   F25   F40   F57   F72   F88\r\n",
      "F104  F121  F137  F154  F170  F187  F202  F220  F26   F41   F58   F73   F9\r\n",
      "F106  F122  F138  F155  F171  F189  F204  F221  F27   F42   F59   F74   F90\r\n",
      "F107  F123  F139  F156  F172  F19   F205  F222  F28   F43   F6    F75   F91\r\n",
      "F108  F124  F14   F157  F173  F190  F206  F223  F29   F44   F60   F76   F93\r\n",
      "F109  F125  F140  F158  F174  F191  F207  F224  F3    F45   F61   F77   F94\r\n",
      "F11   F126  F141  F159  F175  F192  F208  F225  F30   F46   F62   F78   F95\r\n",
      "F110  F127  F142  F16   F176  F193  F209  F226  F31   F48   F63   F79   F96\r\n",
      "F111  F128  F144  F160  F177  F194  F210  F227  F32   F49   F64   F8    F97\r\n",
      "F112  F129  F145  F161  F178  F195  F211  F228  F33   F5    F65   F80   F99\r\n",
      "F113  F13   F146  F162  F179  F196  F212  F229  F34   F50   F66   F81\r\n",
      "F114  F130  F147  F163  F18   F197  F213  F23   F35   F51   F67   F82\r\n"
     ]
    }
   ],
   "source": [
    "%cd ../data/NLTK/Chopped/\n",
    "!ls -F"
   ]
  },
  {
   "cell_type": "code",
   "execution_count": 9,
   "metadata": {
    "collapsed": false
   },
   "outputs": [
    {
     "name": "stdout",
     "output_type": "stream",
     "text": [
      "  183  191 term-en\r\n",
      " 1009 1011st\r\n",
      "  792  796f th\r\n",
      "  859  870egistration\r\n",
      "  736  737s\r\n",
      "  210  225 the City Execu\r\n",
      "  891  894 ar\r\n",
      "  592  595ayo\r\n",
      "  912  913e\r\n",
      "  965  982ulton legislators\r\n"
     ]
    }
   ],
   "source": [
    "!cat F11*"
   ]
  },
  {
   "cell_type": "code",
   "execution_count": 16,
   "metadata": {
    "collapsed": false
   },
   "outputs": [
    {
     "name": "stdout",
     "output_type": "stream",
     "text": [
      "  669  681 received ''\r\n",
      "  894  897e o\r\n",
      "  844  854 of Georgi\r\n",
      "  897  899ut\r\n",
      "  523  527le `\r\n",
      " 1268 1281ices which in\r\n",
      "  419  427r term j\r\n",
      " 1053 1069g and improving \r\n",
      "  178  180id\r\n",
      "  439  443 cha\r\n",
      " 1259 1266ted pra\r\n",
      "  183  191 term-en\r\n",
      " 1009 1011st\r\n",
      "  792  796f th\r\n",
      "  859  870egistration\r\n",
      "  736  737s\r\n",
      "  210  225 the City Execu\r\n",
      "  891  894 ar\r\n",
      "  592  595ayo\r\n",
      "  912  913e\r\n",
      "  965  982ulton legislators\r\n",
      "  935  954ous '' . It recomme\r\n",
      "  599  600m\r\n",
      " 1542 1545 , \r\n",
      " 1254 1259accep\r\n",
      "   60   64 Atl\r\n",
      " 1250 1254lly \r\n",
      "  191  198d prese\r\n",
      " 1423 1427to a\r\n",
      " 1111 1115mber\r\n",
      " 1155 1156a\r\n",
      "  666  667w\r\n",
      "  198  199n\r\n",
      " 1504 1513 Purchasi\r\n",
      " 1591 1601l as a res\r\n",
      "  199  205tments\r\n",
      " 1617 1622onnel\r\n",
      "   88   99ection prod\r\n",
      " 1077 1085. The gr\r\n",
      "  681  682 \r\n",
      "  624  626` \r\n",
      "  982 1006 act `` to have these la\r\n",
      " 1398 1423fices should be combined \r\n",
      "   58   60of\r\n",
      "  168  175further\r\n",
      "  764  771ber of \r\n",
      "  817  840 said it did find that \r\n",
      " 1461 1468ce the \r\n",
      " 1578 1589ical person\r\n",
      " 1096 1101mment\r\n",
      " 1493 1499 . The\r\n",
      "  771  780voters an\r\n",
      " 1069 1077them '' \r\n",
      "  569  577mary whi\r\n",
      "  377  384ction w\r\n",
      " 1156 1164 and Ful\r\n",
      " 1051 1053in\r\n",
      " 1247 1250era\r\n",
      " 1430 1431e\r\n",
      " 1164 1168ton \r\n",
      "  427  430ury\r\n",
      "  790  792 o\r\n",
      " 1115 1134 of other topics , \r\n",
      "  913  921quate an\r\n",
      "   24   37Jury said Fri\r\n",
      "  682  690, the ju\r\n",
      "  954  965nded that F\r\n",
      "  277  290ection , `` d\r\n",
      "   18   24Grand \r\n",
      "  318  319s\r\n",
      " 1224 1228oper\r\n",
      "  225  241tive Committee ,\r\n",
      "  132  151rregularities took \r\n",
      " 1480 1493nistration ''\r\n",
      " 1302 1310est of b\r\n",
      " 1573 1578 cler\r\n",
      "  879  882tio\r\n",
      " 1376 1384lieves `\r\n",
      " 1134 1137amo\r\n",
      "  297  299 t\r\n",
      " 1320 1328ments ''\r\n",
      "  708  727dering the widespre\r\n",
      "  595  596r\r\n",
      "  804  812'' . The\r\n",
      "  110  117evidenc\r\n",
      "  452  453u\r\n",
      " 1352 1376er , the jury said it be\r\n",
      "    8   18on County \r\n",
      "  858  859r\r\n",
      " 1385 1386 \r\n",
      "  470  474rt J\r\n",
      " 1524 1526nt\r\n",
      "  161  168e jury \r\n",
      "  385  416s conducted . The September-Oct\r\n",
      " 1239 1247llow gen\r\n",
      " 1206 1224 said `` are well \r\n",
      "  241  242 \r\n",
      "  856  858s \r\n",
      "  854  856a'\r\n",
      "  591  592M\r\n",
      "  667  669as\r\n",
      "  175  178 sa\r\n",
      " 1601 1611ult of cit\r\n",
      "   64   83anta's recent prima\r\n",
      "  605  624 Ivan Allen Jr. . `\r\n",
      "  643  666andful of such reports \r\n",
      "    0    4The \r\n",
      " 1459 1460d\r\n",
      "  205  210 that\r\n",
      " 1624 1636olicies '' .\r\n",
      " 1310 1313oth\r\n",
      " 1228 1239ated and fo\r\n",
      "  812  817 jury\r\n",
      "  693  708said , `` consi\r\n",
      "  155  161e . Th\r\n",
      "  902  910ed or in\r\n",
      "   99  100u\r\n",
      "  299  305he pra\r\n",
      " 1085 1096and jury co\r\n",
      "  264  274rge of the\r\n",
      " 1479 1480i\r\n",
      "  527  547` irregularities '' \r\n",
      "  456  470n Superior Cou\r\n",
      "  417  419be\r\n",
      " 1532 1542 jury said\r\n",
      " 1313 1320 govern\r\n",
      "  549  566 the hard-fought \r\n",
      " 1567 1568i\r\n",
      "  840  843man\r\n",
      "  242  264which had over-all cha\r\n",
      "  870  879 and elec\r\n",
      " 1384 1385`\r\n",
      " 1386 1388th\r\n",
      "  737  751t in the elect\r\n",
      " 1589 1591ne\r\n",
      " 1188 1206partments which it\r\n",
      "  797  804s city \r\n",
      "  690  692ry\r\n",
      "  751  764ion , the num\r\n",
      " 1442 1451efficienc\r\n",
      " 1035 1051 end of moderniz\r\n",
      "  566  569pri\r\n",
      "  921  929d often \r\n",
      "  782  790the size\r\n",
      " 1342 1352osed Howev\r\n",
      "  910  912ad\r\n",
      "  596  599-no\r\n",
      "   83   88ry el\r\n",
      " 1012 1035died and revised to the\r\n",
      "   56   58n \r\n",
      " 1148 1155 Atlant\r\n",
      "  600  605inate\r\n",
      " 1499 1504 City\r\n",
      " 1472 1479 of adm\r\n",
      "  883  886 la\r\n",
      " 1471 1472t\r\n",
      "  305  318ise and thank\r\n",
      " 1427 1430chi\r\n",
      "  123  132hat any i\r\n",
      " 1460 1461u\r\n",
      "  727  736ad intere\r\n",
      " 1622 1624 p\r\n",
      "   37   56day an investigatio\r\n",
      " 1564 1567per\r\n",
      "  882  883n\r\n",
      "  577  580ch \r\n",
      " 1611 1617y pers\r\n",
      " 1011 1012u\r\n",
      " 1146 1148he\r\n",
      " 1468 1471cos\r\n",
      " 1388 1398ese two of\r\n",
      "  319  377 of the City of Atlanta '' for the manner in which the ele\r\n",
      "  929  931am\r\n",
      "  509  512ort\r\n",
      " 1526 1532 , the\r\n",
      "  512  514s \r\n",
      "  886  891ws ``\r\n",
      "  180  181 \r\n",
      "  495  496n\r\n",
      " 1545 1564`` is lacking in ex\r\n",
      "  626  643Only a relative h\r\n",
      "  692  693 \r\n",
      " 1142 1146em t\r\n",
      "  181  183in\r\n",
      " 1431 1442ve greater \r\n",
      " 1568 1573enced\r\n",
      "  384  385a\r\n",
      "  151  155plac\r\n",
      " 1137 1142ng th\r\n",
      " 1513 1524ng Departme\r\n",
      " 1328 1342 . Merger prop\r\n",
      "  117  123e '' t\r\n",
      "  780  782d \r\n",
      " 1266 1268ct\r\n",
      "  580  588was won \r\n",
      "  496  503vestiga\r\n",
      " 1006 1009ws \r\n",
      "  100  110ced `` no \r\n",
      " 1168 1188County purchasing de\r\n",
      " 1101 1111ed on a nu\r\n",
      "  416  417o\r\n",
      "  474  495udge Durwood Pye to i\r\n",
      "  899  902mod\r\n",
      "    4    8Fult\r\n",
      "  547  549in\r\n",
      "  796  797i\r\n",
      "  514  523of possib\r\n",
      " 1281 1294ure to the be\r\n",
      " 1451 1459y and re\r\n",
      " 1294 1302st inter\r\n",
      "  843  844y\r\n",
      "  931  935bigu\r\n",
      "  290  297eserves\r\n",
      "  588  591by \r\n",
      "  274  277 el\r\n",
      "  430  439 had been\r\n",
      "  453  456lto\r\n",
      "  503  509te rep\r\n",
      "  443  452rged by F\r\n"
     ]
    }
   ],
   "source": [
    "!cat F* 1>> file\n",
    "#!cat newfile\n",
    "!cat file"
   ]
  },
  {
   "cell_type": "markdown",
   "metadata": {},
   "source": [
    "### Excercise 2:"
   ]
  },
  {
   "cell_type": "code",
   "execution_count": 85,
   "metadata": {
    "collapsed": false
   },
   "outputs": [
    {
     "name": "stdout",
     "output_type": "stream",
     "text": [
      "ls: Caesar: No such file or directory\r\n"
     ]
    }
   ],
   "source": [
    "!rm Caesar\n",
    "!ls Caesar"
   ]
  },
  {
   "cell_type": "code",
   "execution_count": 86,
   "metadata": {
    "collapsed": true
   },
   "outputs": [],
   "source": [
    "!echo \"\"\"Caesar, a great general, is petitioned by several citizens to show clemency to one of his enemies. He declines, pompously speaking of himself in the third person. The group of conspirators then proceeds to stab him. With his dying breath he gasps, \\\"Et tu, Brute? \\\"And you, Brutus?\\\" Thus falls Caesar.\\\" The conspirators exult, and Shakespeare inserts a self-referential joke as Cassius says, \\\"How many ages hence shall this our lofty scene be acted over in states unborn and accents yet unknown!\\\" \"\"\" 1>> Caesar"
   ]
  },
  {
   "cell_type": "code",
   "execution_count": 87,
   "metadata": {
    "collapsed": false
   },
   "outputs": [
    {
     "name": "stdout",
     "output_type": "stream",
     "text": [
      "-rw-r--r--  1 pauldefusco  staff  497 Oct 13 10:58 Caesar\r\n"
     ]
    }
   ],
   "source": [
    "!ls -l Caesar\n",
    "!chmod 666 Caesar"
   ]
  },
  {
   "cell_type": "code",
   "execution_count": 88,
   "metadata": {
    "collapsed": false
   },
   "outputs": [
    {
     "name": "stdout",
     "output_type": "stream",
     "text": [
      "Caesar: ASCII text, with very long lines\r\n"
     ]
    }
   ],
   "source": [
    "!file Caesar"
   ]
  },
  {
   "cell_type": "code",
   "execution_count": 89,
   "metadata": {
    "collapsed": false
   },
   "outputs": [
    {
     "name": "stdout",
     "output_type": "stream",
     "text": [
      "Caesar, a great general, is petitioned by several citizens to show clemency to one of his enemies. He declines, pompously speaking of himself in the third person. The group of conspirators then proceeds to stab him. With his dying breath he gasps, \"Et tu, Brute? \"And you, Brutus?\" Thus falls Caesar.\" The conspirators exult, and Shakespeare inserts a self-referential joke as Cassius says, \"How many ages hence shall this our lofty scene be acted over in states unborn and accents yet unknown!\" \n",
      "       0\n"
     ]
    }
   ],
   "source": [
    "#!cat Caesar\n",
    "!grep -v [aeiou] Caesar | wc -w"
   ]
  },
  {
   "cell_type": "code",
   "execution_count": 90,
   "metadata": {
    "collapsed": false
   },
   "outputs": [
    {
     "name": "stdout",
     "output_type": "stream",
     "text": [
      "Leonidas, a great general, is petitioned by several citizens to show clemency to one of his enemies. He declines, pompously speaking of himself in the third person. The group of conspirators then proceeds to stab him. With his dying breath he gasps, \"Et tu, Brute? \"And you, Brutus?\" Thus falls Leonidas.\" The conspirators exult, and Shakespeare inserts a self-referential joke as Cassius says, \"How many ages hence shall this our lofty scene be acted over in states unborn and accents yet unknown!\" \r\n"
     ]
    }
   ],
   "source": [
    "!sed -i.bak 's/Caesar/Leonidas/g' Caesar \n",
    "#!cat Caesar | sed -e 's/Caesar/Leonidas' 1>> Caesar\n",
    "!cat Caesar"
   ]
  },
  {
   "cell_type": "code",
   "execution_count": 179,
   "metadata": {
    "collapsed": false
   },
   "outputs": [
    {
     "name": "stdout",
     "output_type": "stream",
     "text": [
      "Leonidas, a great general, is petitioned by several citizens to show clemency to one of his enemies. He declines, pompously speaking of himself in the third person. The group of conspirators then proceeds to stab him. With his dying breath he gasps, \"Et tu, Brute? \"And you, Brutus?\" Thus falls Leonidas.\" The conspirators exult, and Shakespeare inserts a self-referential joke as Cassius says, \"How many ages hence shall this our lofty scene be acted over in states unborn and accents yet unknown!\" \n",
      "-rw-r--r--  1 pauldefusco  staff  0 Oct 13 12:26 Leonidas\n",
      "Leonidas, a great general, is petitioned by several citizens to show clemency to one of his enemies. He declines, pompously speaking of himself in the third person. The group of conspirators then proceeds to stab him. With his dying breath he gasps, \"Et tu, Brute? \"And you, Brutus?\" Thus falls Leonidas.\" The conspirators exult, and Shakespeare inserts a self-referential joke as Cassius says, \"How many ages hence shall this our lofty scene be acted over in states unborn and accents yet unknown!\" \n"
     ]
    }
   ],
   "source": [
    "!cat Caesar\n",
    "!rm Leonidas\n",
    "!touch Leonidas\n",
    "!ls -l Leonidas\n",
    "!cp Caesar Leonidas\n",
    "#!sed '1d' Leonidas | sed '$d' #>> Leonidas\n",
    "#!sed -i.bak '1d;$d' Leonidas\n",
    "#!sed -e '2,$!d' -e '$d' Leonidas\n",
    "#!sed -i.bak '1d;$d' Leonidas >> Leonidas\n",
    "!cat Leonidas\n",
    "#!cut Caesar | head -1 Caesar >> Leonidas\n",
    "#!| tail -1 Caesar > Leonidas\n",
    "#!head -n +2 Caesar | tail -n +2 >> Leonidas\n",
    "#!cat Leonidas\n",
    "#!awk 'FNR <= 3' Caesar >> Leonidas\n",
    "#!cat Leonidas"
   ]
  },
  {
   "cell_type": "code",
   "execution_count": null,
   "metadata": {
    "collapsed": false
   },
   "outputs": [],
   "source": [
    "#Issue a UNIX command to create a file called Caesar that contains the following lines (include the mistakes!!)\n",
    "\n",
    "Text = \"\"\"Caesar, a great general, is petitioned by several citizens to show clemency to one of his enemies.\n",
    "He declines, pompously speaking of himself in the third person. The group of conspirators then proceeds to stab him.\n",
    "With his dying breath he gasps, \"Et tu, Brute? (\"And you, Brutus?\") Thus falls Caesar.\" \n",
    "The conspirators exult, and Shakespeare inserts a self-referential joke as Cassius says, \n",
    "\"How many ages hence shall this our lofty scene be acted over in states unborn and accents yet unknown!\"\n",
    "\"\"\"\n",
    "\n",
    "#Change the permissions of this file to 666\n",
    "#Issue a UNIX command to determine the file type\n",
    "#Isue a uniix comannd to count the number of words in the above text that contains no vowels\n",
    "#Replace the word Caesar wherever it is found in the entire text to Leonidas\n",
    "#Make a copy of the above file without the first and last lines of the text and rename this file to Leonidas"
   ]
  },
  {
   "cell_type": "code",
   "execution_count": null,
   "metadata": {
    "collapsed": true
   },
   "outputs": [],
   "source": []
  },
  {
   "cell_type": "markdown",
   "metadata": {},
   "source": [
    "### Excercise 3:"
   ]
  },
  {
   "cell_type": "code",
   "execution_count": 172,
   "metadata": {
    "collapsed": false
   },
   "outputs": [
    {
     "name": "stdout",
     "output_type": "stream",
     "text": [
      "       1      82     501\n",
      "       1\n",
      "./.ipynb_checkpoints/Untitled-checkpoint.ipynb\n",
      "./Caesar\n",
      "./Caesar.bak\n",
      "./Leonidas\n",
      "./Leonidas.bak\n",
      "./LockFile.md\n",
      "./Untitled.ipynb\n"
     ]
    }
   ],
   "source": [
    "#What is the command to count lines,words and characters in a file and how do you make this comand display only linecount?\n",
    "#Also write a single command that lists the files in the current directory that begin with upper case letters\n",
    "\n",
    "#The command applied to file Caesar\n",
    "!wc < Caesar\n",
    "\n",
    "#The same but displaying only line count\n",
    "!wc -l < Caesar\n",
    "\n",
    "#Listing files in directory beginning with upper case letters:\n",
    "!find . -type f -name \"[[:upper:]]*\"\n",
    "\n"
   ]
  },
  {
   "cell_type": "markdown",
   "metadata": {},
   "source": [
    "### Excercise 4:"
   ]
  },
  {
   "cell_type": "code",
   "execution_count": 194,
   "metadata": {
    "collapsed": false
   },
   "outputs": [
    {
     "name": "stdout",
     "output_type": "stream",
     "text": [
      "kings\n",
      "Leonidas, a great general, is petitioned by several citizens to show clemency to \b one of his enemies. He declines, pompously speaking of himself in the third per \bson. The group of conspirators then proceeds to stab him. With his dying breath  \bhe gasps, \"Et tu, Brute? \"And you, Brutus?\" Thus falls Leonidas.\" The conspirato \brs exult, and Shakespeare inserts a self-referential joke as Cassius says, \"How  \bmany ages hence shall this our lofty scene be acted over in states unborn and ac \bcents yet unknown!\" \n",
      "Leonidas, a great general, is petitioned by several citizens to show clemency to \b one of his enemies. He declines, pompously speaking of himself in the third per \bson. The group of conspirators then proceeds to stab him. With his dying breath  \bhe gasps, \"Et tu, Brute? \"And you, Brutus?\" Thus falls Leonidas.\" The conspirato \brs exult, and Shakespeare inserts a self-referential joke as Cassius says, \"How  \bmany ages hence shall this our lofty scene be acted over in states unborn and ac \bcents yet unknown!\" \n",
      "\u001b[K\u001b[?1l\u001b>you\n",
      "you\n",
      "yet\n",
      "yet\n",
      "unknown\n",
      "unknown\n",
      "unborn\n",
      "unborn\n",
      "tu\n",
      "tu\n",
      "to\n",
      "to\n",
      "to\n",
      "to\n",
      "to\n",
      "to\n",
      "this\n",
      "this\n",
      "third\n",
      "third\n",
      "then\n",
      "then\n",
      "the\n",
      "the\n",
      "states\n",
      "states\n",
      "stab\n",
      "stab\n",
      "speaking\n",
      "speaking\n",
      "show\n",
      "show\n",
      "shall\n",
      "shall\n",
      "several\n",
      "several\n",
      "selfreferential\n",
      "selfreferential\n",
      "scene\n",
      "scene\n",
      "says\n",
      "says\n",
      "proceeds\n",
      "proceeds\n",
      "pompously\n",
      "pompously\n",
      "petitioned\n",
      "petitioned\n",
      "person\n",
      "person\n",
      "over\n",
      "over\n",
      "our\n",
      "our\n",
      "one\n",
      "one\n",
      "of\n",
      "of\n",
      "of\n",
      "of\n",
      "of\n",
      "of\n",
      "many\n",
      "many\n",
      "lofty\n",
      "lofty\n",
      "joke\n",
      "joke\n",
      "is\n",
      "is\n",
      "inserts\n",
      "inserts\n",
      "in\n",
      "in\n",
      "in\n",
      "in\n",
      "his\n",
      "his\n",
      "his\n",
      "his\n",
      "himself\n",
      "himself\n",
      "him\n",
      "him\n",
      "hence\n",
      "hence\n",
      "he\n",
      "he\n",
      "group\n",
      "group\n",
      "great\n",
      "great\n",
      "general\n",
      "general\n",
      "gasps\n",
      "gasps\n",
      "falls\n",
      "falls\n",
      "exult\n",
      "exult\n",
      "enemies\n",
      "enemies\n",
      "dying\n",
      "dying\n",
      "declines\n",
      "declines\n",
      "conspirators\n",
      "conspirators\n",
      "conspirators\n",
      "conspirators\n",
      "clemency\n",
      "clemency\n",
      "citizens\n",
      "citizens\n",
      "by\n",
      "by\n",
      "breath\n",
      "breath\n",
      "be\n",
      "be\n",
      "as\n",
      "as\n",
      "and\n",
      "and\n",
      "and\n",
      "and\n",
      "ages\n",
      "ages\n",
      "acted\n",
      "acted\n",
      "accents\n",
      "accents\n",
      "a\n",
      "a\n",
      "a\n",
      "a\n",
      "With\n",
      "With\n",
      "Thus\n",
      "Thus\n",
      "The\n",
      "The\n",
      "The\n",
      "The\n",
      "Shakespeare\n",
      "Shakespeare\n",
      "Leonidas\n",
      "Leonidas\n",
      "Leonidas\n",
      "Leonidas\n",
      "How\n",
      "How\n",
      "He\n",
      "He\n",
      "Et\n",
      "Et\n",
      "Cassius\n",
      "Cassius\n",
      "Brutus\n",
      "Brutus\n",
      "Brute\n",
      "Brute\n",
      "And\n",
      "And\n",
      "\n",
      "\n"
     ]
    }
   ],
   "source": [
    "#Combine the files Caesar and Leonidas and save the combined file as kings\n",
    "#!rm kings\n",
    "!touch kings\n",
    "!cat Caesar Leonidas > kings\n",
    "\n",
    "#Display the contents of this file using more command\n",
    "!more kings\n",
    "\n",
    "#Sort this file in reverse alphabetic order and display it by piping it into more\n",
    "!more kings | tr ' ' '\\n' | tr -d '[:punct:]' | sort -r \n",
    "\n"
   ]
  },
  {
   "cell_type": "markdown",
   "metadata": {},
   "source": [
    "### Excercise 5:"
   ]
  },
  {
   "cell_type": "code",
   "execution_count": 214,
   "metadata": {
    "collapsed": false
   },
   "outputs": [
    {
     "name": "stdout",
     "output_type": "stream",
     "text": [
      "mv: rename total to subDirectory/total: No such file or directory\n",
      "mv: rename 56 to subDirectory/56: No such file or directory\n",
      "mv: rename drwxr-xr-x to subDirectory/drwxr-xr-x: No such file or directory\n",
      "mv: rename 5 to subDirectory/5: No such file or directory\n",
      "mv: rename pauldefusco to subDirectory/pauldefusco: No such file or directory\n",
      "mv: rename staff to subDirectory/staff: No such file or directory\n",
      "mv: rename 170 to subDirectory/170: No such file or directory\n",
      "mv: rename Oct to subDirectory/Oct: No such file or directory\n",
      "mv: rename 13 to subDirectory/13: No such file or directory\n",
      "mv: rename 16:43 to subDirectory/16:43: No such file or directory\n",
      "mv: rename . to subDirectory/.: Invalid argument\n",
      "mv: rename drwxr-xr-x to subDirectory/drwxr-xr-x: No such file or directory\n",
      "mv: rename 10 to subDirectory/10: No such file or directory\n",
      "mv: rename pauldefusco to subDirectory/pauldefusco: No such file or directory\n",
      "mv: rename staff to subDirectory/staff: No such file or directory\n",
      "mv: rename 340 to subDirectory/340: No such file or directory\n",
      "mv: rename Oct to subDirectory/Oct: No such file or directory\n",
      "mv: rename 13 to subDirectory/13: No such file or directory\n",
      "mv: rename 00:12 to subDirectory/00:12: No such file or directory\n",
      "mv: rename .. to subDirectory/..: Invalid argument\n",
      "mv: rename drwxr-xr-x to subDirectory/drwxr-xr-x: No such file or directory\n",
      "mv: rename 3 to subDirectory/3: No such file or directory\n",
      "mv: rename pauldefusco to subDirectory/pauldefusco: No such file or directory\n",
      "mv: rename staff to subDirectory/staff: No such file or directory\n",
      "mv: rename 102 to subDirectory/102: No such file or directory\n",
      "mv: rename Oct to subDirectory/Oct: No such file or directory\n",
      "mv: rename 13 to subDirectory/13: No such file or directory\n",
      "mv: rename 16:41 to subDirectory/16:41: No such file or directory\n",
      "mv: rename -rw-r--r-- to subDirectory/-rw-r--r--: No such file or directory\n",
      "mv: rename 1 to subDirectory/1: No such file or directory\n",
      "mv: rename pauldefusco to subDirectory/pauldefusco: No such file or directory\n",
      "mv: rename staff to subDirectory/staff: No such file or directory\n",
      "mv: rename 27527 to subDirectory/27527: No such file or directory\n",
      "mv: rename Oct to subDirectory/Oct: No such file or directory\n",
      "mv: rename 13 to subDirectory/13: No such file or directory\n",
      "mv: rename 16:41 to subDirectory/16:41: No such file or directory\n",
      "mv: rename drwxr-xr-x to subDirectory/drwxr-xr-x: No such file or directory\n",
      "mv: rename 2 to subDirectory/2: No such file or directory\n",
      "mv: rename pauldefusco to subDirectory/pauldefusco: No such file or directory\n",
      "mv: rename staff to subDirectory/staff: No such file or directory\n",
      "mv: rename 68 to subDirectory/68: No such file or directory\n",
      "mv: rename Oct to subDirectory/Oct: No such file or directory\n",
      "mv: rename 13 to subDirectory/13: No such file or directory\n",
      "mv: rename 16:43 to subDirectory/16:43: No such file or directory\n",
      "mv: rename subDirectory to subDirectory/subDirectory: Invalid argument\n",
      "5_unix_exercises.ipynb\n"
     ]
    }
   ],
   "source": [
    "#List all files in your current directory. Make a subDirectory and copy all these files in the subdirectory.\n",
    "!rm -rf subDirectory\n",
    "!mkdir subDirectory\n",
    "!mv `ls -al` subDirectory\n",
    "!ls subDirectory\n",
    "\n",
    "#Write Unix commands to rename all the files to the format - currentDate_originalname"
   ]
  },
  {
   "cell_type": "markdown",
   "metadata": {},
   "source": [
    "### Excercise 6:"
   ]
  },
  {
   "cell_type": "code",
   "execution_count": null,
   "metadata": {
    "collapsed": false
   },
   "outputs": [],
   "source": [
    "#Suppose we have a script that performs numerous efficiency tests. \n",
    "#The output from the script contains lots of information, but our purpose now is to extract information\n",
    "#about the CPU time of each test and sort these CPU times. The output from the tests takes the following form:\n",
    "output = \"\"\"\n",
    "f95 -c -O0  versions/main_wIO.f F77WAVE.f\n",
    "f95 -o app  -static main_wIO.o F77WAVE.o   -lf2c\n",
    "app < input > tmp.out\n",
    "CPU-time: 255.97   f95 -O0 formatted I/O\n",
    "f95 -c -O1  versions/main_wIO.f F77WAVE.f\n",
    "f95 -o app  -static main_wIO.o F77WAVE.o   -lf2c\n",
    "app < input > tmp.out\n",
    "CPU-time: 252.47   f95 -O1 formatted I/O\n",
    "f95 -c -O2  versions/main_wIO.f F77WAVE.f\n",
    "f95 -o app  -static main_wIO.o F77WAVE.o   -lf2c\n",
    "app < input > tmp.out\n",
    "CPU-time: 252.40   f95 -O2 formatted I/O\n",
    "f95 -c -O3  versions/main_wIO.f F77WAVE.f\n",
    "f95 -o app  -static main_wIO.o F77WAVE.o   -lf2c\n",
    "app < input > tmp.out\n",
    "CPU-time: 255.28   f95 -O0 formatted I/O\n",
    "f95 -c -O4  versions/main_wIO.f F77WAVE.f\n",
    "f95 -o app  -static main_wIO.o F77WAVE.o   -lf2c\n",
    "app < input > tmp.out\n",
    "CPU-time: 251.43  f95 -O0 formatted I/O\n",
    "f95 -c -O5  versions/main_wIO.f F77WAVE.f\n",
    "f95 -o app  -static main_wIO.o F77WAVE.o   -lf2c\n",
    "app < input > tmp.out\n",
    "CPU-time: 255.90   f95 -O0 formatted I/O\n",
    "f95 -c -O6  versions/main_wIO.f F77WAVE.f\n",
    "f95 -o app  -static main_wIO.o F77WAVE.o   -lf2c\n",
    "app < input > tmp.out\n",
    "CPU-time: 252.15   f95 -O0 formatted I/O\n",
    "\"\"\"\n",
    "\n",
    "#First we need to extract the lines starting with CPU-time. \n",
    "#Then we need to sort the extracted lines with respect to the CPU time, which is the number appearing in the second column. \n",
    "#Write a script to accomplish this task. \n",
    "\n",
    "#Hint: Find the lines with CPU time results by using a string comparison of the first 7 characters \n",
    "#to detect the keyword CPU-time. Then write a tailored sort function for sorting two lines \n",
    "#(extract the CPU time from the second column in both lines and compare the CPU times as floating-point numbers). \n",
    "#A tailored sort function takes two arguments a and b, which hold two list elements. \n",
    "#The sort function returns -1 if a is less than b, 1 if a is greater than b, and 0 otherwise (a equals b)."
   ]
  },
  {
   "cell_type": "markdown",
   "metadata": {},
   "source": [
    "### Excercise 7:"
   ]
  },
  {
   "cell_type": "code",
   "execution_count": null,
   "metadata": {
    "collapsed": false
   },
   "outputs": [],
   "source": [
    "#Make a copy of your working directory along with its subdirectories and \n",
    "#write unix+python commands that traverses the copied working directory and its subdirectories (recursively) and returns a \n",
    "#list of all files that are larger than X Mb and that have not been accessed the last Y days, \n",
    "#where X and Y are passed as user inputs.\n",
    "#Include an option in this function that moves the files to a subdirectory trash under /tmp \n",
    "#(you need to create trash if it does not exist)."
   ]
  },
  {
   "cell_type": "code",
   "execution_count": null,
   "metadata": {
    "collapsed": false
   },
   "outputs": [],
   "source": []
  }
 ],
 "metadata": {
  "anaconda-cloud": {},
  "kernelspec": {
   "display_name": "Python [default]",
   "language": "python",
   "name": "python2"
  },
  "language_info": {
   "codemirror_mode": {
    "name": "ipython",
    "version": 2
   },
   "file_extension": ".py",
   "mimetype": "text/x-python",
   "name": "python",
   "nbconvert_exporter": "python",
   "pygments_lexer": "ipython2",
   "version": "2.7.12"
  }
 },
 "nbformat": 4,
 "nbformat_minor": 0
}
