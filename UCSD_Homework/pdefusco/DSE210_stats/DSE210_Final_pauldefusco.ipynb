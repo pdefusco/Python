{
 "cells": [
  {
   "cell_type": "code",
   "execution_count": 1,
   "metadata": {
    "collapsed": true
   },
   "outputs": [],
   "source": [
    "import numpy as np\n",
    "from sklearn.naive_bayes import BernoulliNB"
   ]
  },
  {
   "cell_type": "code",
   "execution_count": 2,
   "metadata": {
    "collapsed": false
   },
   "outputs": [],
   "source": [
    "train_data = open(\"wk5data/20news-bydate-2/matlab/train.data\").read().split('\\n')[:-1]\n",
    "train_data = [x.split() for x in train_data]\n",
    "train_label=open(\"wk5data/20news-bydate-2/matlab/train.label\").read().split('\\n')[:-1] \n",
    "train_label = [int(x) for x in train_label if x]\n",
    "test_data = open(\"wk5data/20news-bydate-2/matlab/test.data\").read().split('\\n')[:-1]\n",
    "test_data = [x.split() for x in test_data]\n",
    "test_label = open(\"wk5data/20news-bydate-2/matlab/test.label\").read().split('\\n')[:-1]\n",
    "test_label = [int(x) for x in test_label]\n",
    "vocabulary = open(\"vocabulary.txt\").read().split('\\n')"
   ]
  },
  {
   "cell_type": "code",
   "execution_count": 3,
   "metadata": {
    "collapsed": false
   },
   "outputs": [
    {
     "name": "stdout",
     "output_type": "stream",
     "text": [
      "11269\n",
      "61189\n",
      "7505\n"
     ]
    }
   ],
   "source": [
    "train_documents = len(train_label)\n",
    "print train_documents\n",
    "size_vocab = len(vocabulary)\n",
    "print size_vocab\n",
    "test_documents = len(test_label)\n",
    "print test_documents"
   ]
  },
  {
   "cell_type": "code",
   "execution_count": 4,
   "metadata": {
    "collapsed": false
   },
   "outputs": [],
   "source": [
    "train_sparse = np.zeros((train_documents, size_vocab))\n",
    "for data in train_data:\n",
    "    train_sparse[int(data[0])-1][int(data[1])-1] = int(data[2])\n",
    "test_sparse = np.zeros((test_documents, size_vocab))\n",
    "for data in test_data:\n",
    "    test_sparse[int(data[0])-1][int(data[1])-1] = data[2]"
   ]
  },
  {
   "cell_type": "code",
   "execution_count": 5,
   "metadata": {
    "collapsed": false
   },
   "outputs": [
    {
     "data": {
      "text/plain": [
       "BernoulliNB(alpha=1.0, binarize=0.0, class_prior=None, fit_prior=True)"
      ]
     },
     "execution_count": 5,
     "metadata": {},
     "output_type": "execute_result"
    }
   ],
   "source": [
    "model = BernoulliNB()\n",
    "model.fit(train_sparse, train_label)"
   ]
  },
  {
   "cell_type": "code",
   "execution_count": 6,
   "metadata": {
    "collapsed": false
   },
   "outputs": [],
   "source": [
    "test_predicted = model.predict(test_sparse)"
   ]
  },
  {
   "cell_type": "code",
   "execution_count": 7,
   "metadata": {
    "collapsed": false
   },
   "outputs": [],
   "source": [
    "accuracy = sum(test_predicted == test_label)"
   ]
  },
  {
   "cell_type": "code",
   "execution_count": 8,
   "metadata": {
    "collapsed": false
   },
   "outputs": [
    {
     "name": "stdout",
     "output_type": "stream",
     "text": [
      "37.601598934\n"
     ]
    }
   ],
   "source": [
    "error_rate = (test_documents-accuracy)*100.0/test_documents\n",
    "print error_rate"
   ]
  },
  {
   "cell_type": "code",
   "execution_count": 9,
   "metadata": {
    "collapsed": true
   },
   "outputs": [],
   "source": [
    "from sklearn.metrics import confusion_matrix"
   ]
  },
  {
   "cell_type": "code",
   "execution_count": 10,
   "metadata": {
    "collapsed": false
   },
   "outputs": [
    {
     "data": {
      "text/plain": [
       "array([[139,   4,   1,   5,  18,   0,  39,   5,  15,  10,   0,   1,   6,\n",
       "          7,   3,  57,   1,   4,   2,   1],\n",
       "       [  0, 204,  11,  19,  15,  13,  99,   3,   0,   0,   0,  12,   5,\n",
       "          1,   4,   2,   0,   1,   0,   0],\n",
       "       [  0,  10, 221,  58,  14,   9,  54,   1,   1,   1,   0,  11,   2,\n",
       "          0,   2,   5,   0,   0,   1,   1],\n",
       "       [  0,   1,  12, 279,  16,   2,  59,   1,   0,   0,   0,   4,  18,\n",
       "          0,   0,   0,   0,   0,   0,   0],\n",
       "       [  0,   1,   4,  22, 269,   0,  72,   2,   0,   0,   0,   3,   7,\n",
       "          0,   3,   0,   0,   0,   0,   0],\n",
       "       [  0,  45,  34,  16,  12, 206,  68,   1,   0,   0,   0,   5,   2,\n",
       "          1,   0,   0,   0,   0,   0,   0],\n",
       "       [  0,   1,   1,  13,   1,   1, 349,   8,   0,   0,   0,   1,   5,\n",
       "          0,   0,   0,   2,   0,   0,   0],\n",
       "       [  0,   2,   1,   4,  10,   0,  76, 280,   7,   0,   0,   0,  13,\n",
       "          0,   1,   0,   1,   0,   0,   0],\n",
       "       [  0,   1,   0,   0,   4,   0,  35,  11, 341,   1,   0,   1,   0,\n",
       "          0,   0,   0,   1,   1,   1,   0],\n",
       "       [  1,   1,   0,   0,   1,   0,  53,   0,   0, 331,   0,   0,   1,\n",
       "          0,   0,   6,   1,   0,   2,   0],\n",
       "       [  0,   1,   0,   1,   2,   0,  51,   0,   2,  27, 308,   1,   2,\n",
       "          0,   0,   4,   0,   0,   0,   0],\n",
       "       [  0,  15,   3,  14,  34,   1,  59,   1,   3,   1,   1, 244,  14,\n",
       "          0,   1,   1,   2,   0,   1,   0],\n",
       "       [  0,  11,   5,  29,  14,   0,  87,   6,   2,   0,   0,  15, 220,\n",
       "          3,   0,   0,   1,   0,   0,   0],\n",
       "       [  0,   6,   1,   7,  34,   0,  96,   4,  15,   1,   0,   0,  22,\n",
       "        189,   1,  11,   1,   1,   4,   0],\n",
       "       [  0,  16,   1,   1,  11,   3,  55,  10,   3,   0,   0,   3,  30,\n",
       "          2, 251,   2,   2,   0,   2,   0],\n",
       "       [  1,   5,   0,   6,  19,   0,  51,   0,   2,   7,   0,   0,   4,\n",
       "          0,   0, 301,   1,   0,   1,   0],\n",
       "       [  0,   0,   1,   1,  15,   0,  50,  22,  15,  10,   0,   3,  12,\n",
       "          1,   2,   4, 228,   0,   0,   0],\n",
       "       [  1,   2,   1,   1,  20,   0,  46,   5,  15,  16,   0,   2,   3,\n",
       "          1,   0,  23,   5, 233,   2,   0],\n",
       "       [  3,   3,   1,   7,  20,   0,  38,  20,  13,  16,   0,   2,  10,\n",
       "          4,  10,  15,  65,   0,  83,   0],\n",
       "       [ 26,   3,   2,   9,  17,   0,  37,   5,   9,  10,   0,   1,   3,\n",
       "          4,   3,  91,  21,   2,   1,   7]])"
      ]
     },
     "execution_count": 10,
     "metadata": {},
     "output_type": "execute_result"
    }
   ],
   "source": [
    "confusion_matrix(test_label, test_predicted)"
   ]
  },
  {
   "cell_type": "markdown",
   "metadata": {},
   "source": [
    "# Exercise 7"
   ]
  },
  {
   "cell_type": "code",
   "execution_count": 11,
   "metadata": {
    "collapsed": true
   },
   "outputs": [],
   "source": [
    "from sklearn.cluster import KMeans\n",
    "import numpy as np"
   ]
  },
  {
   "cell_type": "code",
   "execution_count": 12,
   "metadata": {
    "collapsed": false
   },
   "outputs": [],
   "source": [
    "X=np.array([-0.1,-0.2, 0.1, 0.2, 0, 0.1, -0.1, 0, -0.05, 0.1, 1.05, 1.1, 0.9, 0.8, 0.9, 1, 1.2, 1.1,1.2, .9])"
   ]
  },
  {
   "cell_type": "code",
   "execution_count": 13,
   "metadata": {
    "collapsed": false
   },
   "outputs": [],
   "source": [
    "X = X.reshape(-1,1)"
   ]
  },
  {
   "cell_type": "code",
   "execution_count": 14,
   "metadata": {
    "collapsed": false
   },
   "outputs": [],
   "source": [
    "kmeans = KMeans(n_clusters=2).fit(X)"
   ]
  },
  {
   "cell_type": "code",
   "execution_count": 15,
   "metadata": {
    "collapsed": false
   },
   "outputs": [
    {
     "data": {
      "text/plain": [
       "array([1, 1, 1, 1, 1, 1, 1, 1, 1, 1, 0, 0, 0, 0, 0, 0, 0, 0, 0, 0], dtype=int32)"
      ]
     },
     "execution_count": 15,
     "metadata": {},
     "output_type": "execute_result"
    }
   ],
   "source": [
    "kmeans.predict(X)"
   ]
  },
  {
   "cell_type": "code",
   "execution_count": 16,
   "metadata": {
    "collapsed": false
   },
   "outputs": [
    {
     "data": {
      "text/plain": [
       "array([[ 1.015],\n",
       "       [ 0.005]])"
      ]
     },
     "execution_count": 16,
     "metadata": {},
     "output_type": "execute_result"
    }
   ],
   "source": [
    "kmeans.cluster_centers_"
   ]
  },
  {
   "cell_type": "markdown",
   "metadata": {},
   "source": [
    "# Exercise 8"
   ]
  },
  {
   "cell_type": "code",
   "execution_count": 17,
   "metadata": {
    "collapsed": false
   },
   "outputs": [],
   "source": [
    "from sklearn.mixture import GaussianMixture"
   ]
  },
  {
   "cell_type": "code",
   "execution_count": 18,
   "metadata": {
    "collapsed": false
   },
   "outputs": [],
   "source": [
    "gmm = GaussianMixture(n_components=2, covariance_type='full').fit(X)"
   ]
  },
  {
   "cell_type": "code",
   "execution_count": 19,
   "metadata": {
    "collapsed": false
   },
   "outputs": [
    {
     "data": {
      "text/plain": [
       "array([0, 0, 0, 0, 0, 0, 0, 0, 0, 0, 1, 1, 1, 1, 1, 1, 1, 1, 1, 1])"
      ]
     },
     "execution_count": 19,
     "metadata": {},
     "output_type": "execute_result"
    }
   ],
   "source": [
    "gmm.predict(X)"
   ]
  },
  {
   "cell_type": "markdown",
   "metadata": {},
   "source": [
    "# Estimate for number of mixtures: 2"
   ]
  }
 ],
 "metadata": {
  "anaconda-cloud": {},
  "kernelspec": {
   "display_name": "Python [default]",
   "language": "python",
   "name": "python2"
  },
  "language_info": {
   "codemirror_mode": {
    "name": "ipython",
    "version": 2
   },
   "file_extension": ".py",
   "mimetype": "text/x-python",
   "name": "python",
   "nbconvert_exporter": "python",
   "pygments_lexer": "ipython2",
   "version": "2.7.12"
  }
 },
 "nbformat": 4,
 "nbformat_minor": 1
}
