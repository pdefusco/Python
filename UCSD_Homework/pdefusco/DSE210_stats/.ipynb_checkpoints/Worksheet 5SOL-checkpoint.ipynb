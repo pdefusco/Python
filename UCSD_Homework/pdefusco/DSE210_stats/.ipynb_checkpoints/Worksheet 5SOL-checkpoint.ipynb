{
 "cells": [
  {
   "cell_type": "markdown",
   "metadata": {},
   "source": [
    "# Text classification using multinomial Naive Bayes"
   ]
  },
  {
   "cell_type": "code",
   "execution_count": null,
   "metadata": {
    "collapsed": true
   },
   "outputs": [],
   "source": [
    "import numpy as np\n",
    "from sklearn.naive_bayes import MultinomialNB"
   ]
  },
  {
   "cell_type": "markdown",
   "metadata": {},
   "source": [
    "### (a) : Redind the data\n",
    "We have used the 20 Newsgroups data set from http://qwone.com/~jason/20Newsgroups/. Overall, there are roughly 19,000\n",
    "documents, each from one of 20 newsgroups. The label of a document is the identity of its newsgroup. This has been divided into training set and test set"
   ]
  },
  {
   "cell_type": "code",
   "execution_count": 49,
   "metadata": {
    "collapsed": false
   },
   "outputs": [],
   "source": [
    "train_data = open(\"20news-bydate/matlab/train.data\").read().split('\\n')[:-1]\n",
    "train_data = [x.split() for x in train_data]\n",
    "train_label=open(\"20news-bydate/matlab/train.label\").read().split('\\n')[:-1] \n",
    "train_label = [int(x) for x in train_label if x]\n",
    "test_data = open(\"20news-bydate/matlab/test.data\").read().split('\\n')[:-1]\n",
    "test_data = [x.split() for x in test_data]\n",
    "test_label = open(\"20news-bydate/matlab/test.label\").read().split('\\n')[:-1]\n",
    "test_label = [int(x) for x in test_label]\n",
    "vocabulary = open(\"vocabulary.txt\").read().split('\\n')"
   ]
  },
  {
   "cell_type": "markdown",
   "metadata": {},
   "source": [
    "### preprocessing of data\n",
    "We have converted the data files into sparse matrix (where $i^{th}$ row correspond to $i^{th}$ document, $j^{th}$ column correspond to $j^{th}$ word and matrix[i][j] is the frequency of $j^{th}$ word in $i^{th}$ document). Originally .data files are formatted \"docIdx wordIdx count\"."
   ]
  },
  {
   "cell_type": "code",
   "execution_count": 50,
   "metadata": {
    "collapsed": false
   },
   "outputs": [
    {
     "name": "stdout",
     "output_type": "stream",
     "text": [
      "11269\n",
      "61189\n"
     ]
    }
   ],
   "source": [
    "train_documents = len(train_label)\n",
    "print train_documents\n",
    "size_vocab = len(vocabulary)\n",
    "print size_vocab\n",
    "test_documents = len(test_label)\n",
    "print test_documents"
   ]
  },
  {
   "cell_type": "code",
   "execution_count": 51,
   "metadata": {
    "collapsed": false
   },
   "outputs": [],
   "source": [
    "train_sparse = np.zeros((train_documents, size_vocab))\n",
    "for data in train_data:\n",
    "    train_sparse[int(data[0])-1][int(data[1])-1] = int(data[2])\n",
    "test_sparse = np.zeros((no_documents, size_vocab))\n",
    "for data in test_data:\n",
    "    test_sparse[int(data[0])-1][int(data[1])-1] = data[2]"
   ]
  },
  {
   "cell_type": "markdown",
   "metadata": {},
   "source": [
    "### (c): Using sklearn.naive_bayes.MultinomialNB library to fit the model\n",
    "We have used sklearn library which implements 'Naive Bayes classifier for multinomial models'\n"
   ]
  },
  {
   "cell_type": "code",
   "execution_count": 52,
   "metadata": {
    "collapsed": false
   },
   "outputs": [
    {
     "data": {
      "text/plain": [
       "MultinomialNB(alpha=1.0, class_prior=None, fit_prior=True)"
      ]
     },
     "execution_count": 52,
     "metadata": {},
     "output_type": "execute_result"
    }
   ],
   "source": [
    "model = MultinomialNB()\n",
    "model.fit(train_sparse, train_label)"
   ]
  },
  {
   "cell_type": "markdown",
   "metadata": {},
   "source": [
    "### (e): Evaluating the performance on test data"
   ]
  },
  {
   "cell_type": "code",
   "execution_count": 69,
   "metadata": {
    "collapsed": false
   },
   "outputs": [
    {
     "name": "stdout",
     "output_type": "stream",
     "text": [
      "21.892071952\n"
     ]
    }
   ],
   "source": [
    "test_predicted = model.predict(test_sparse)\n",
    "accuracy = sum(test_predicted == test_label)\n",
    "error_rate = (no_documents-accuracy)*100.0/no_documents\n",
    "print error_rate"
   ]
  },
  {
   "cell_type": "markdown",
   "metadata": {},
   "source": [
    "#### Achieved an error rate of ~21% "
   ]
  }
 ],
 "metadata": {
  "anaconda-cloud": {},
  "kernelspec": {
   "display_name": "Python [default]",
   "language": "python",
   "name": "python2"
  },
  "language_info": {
   "codemirror_mode": {
    "name": "ipython",
    "version": 2
   },
   "file_extension": ".py",
   "mimetype": "text/x-python",
   "name": "python",
   "nbconvert_exporter": "python",
   "pygments_lexer": "ipython2",
   "version": "2.7.12"
  }
 },
 "nbformat": 4,
 "nbformat_minor": 0
}
