{
 "cells": [
  {
   "cell_type": "code",
   "execution_count": 1,
   "metadata": {
    "collapsed": false
   },
   "outputs": [
    {
     "name": "stdout",
     "output_type": "stream",
     "text": [
      "Populating the interactive namespace from numpy and matplotlib\n",
      "[ 50.  50.  50.]\n",
      "[ 0.33333333  0.33333333  0.33333333]\n",
      "[[ 0.121764  0.142276  0.029504  0.011264]\n",
      " [ 0.261104  0.0965    0.2164    0.038324]\n",
      " [ 0.396256  0.101924  0.298496  0.073924]]\n"
     ]
    }
   ],
   "source": [
    "import math\n",
    "import matplotlib.pyplot as plt\n",
    "%pylab inline\n",
    "import numpy as np\n",
    "from sklearn import datasets\n",
    "iris = datasets.load_iris()\n",
    "from sklearn.naive_bayes import GaussianNB\n",
    "gnb = GaussianNB()\n",
    "gnb.fit(iris.data, iris.target)\n",
    "\n",
    "print gnb.class_count_\n",
    "print gnb.class_prior_\n",
    "print gnb.sigma_"
   ]
  },
  {
   "cell_type": "code",
   "execution_count": 2,
   "metadata": {
    "collapsed": false
   },
   "outputs": [
    {
     "name": "stdout",
     "output_type": "stream",
     "text": [
      "Number of mislabeled points out of a total 150 points : 6\n"
     ]
    }
   ],
   "source": [
    "y_pred = gnb.predict(iris.data)\n",
    "print(\"Number of mislabeled points out of a total %d points : %d\" % (iris.data.shape[0],(iris.target != y_pred).sum()))"
   ]
  },
  {
   "cell_type": "code",
   "execution_count": 4,
   "metadata": {
    "collapsed": false
   },
   "outputs": [
    {
     "name": "stderr",
     "output_type": "stream",
     "text": [
      "/Users/pauldefusco/anaconda2/lib/python2.7/site-packages/sklearn/cross_validation.py:44: DeprecationWarning: This module was deprecated in version 0.18 in favor of the model_selection module into which all the refactored classes and functions are moved. Also note that the interface of the new CV iterators are different from that of this module. This module will be removed in 0.20.\n",
      "  \"This module will be removed in 0.20.\", DeprecationWarning)\n"
     ]
    },
    {
     "data": {
      "text/plain": [
       "(25, 4)"
      ]
     },
     "execution_count": 4,
     "metadata": {},
     "output_type": "execute_result"
    }
   ],
   "source": [
    "#mean = np.array(examples.mean(0))[0]\n",
    "#cov = np.cov(examples, rowvar=0)\n",
    "#p_x = multivariate_normal(mean=mean, cov=cov)\n",
    "\n",
    "#For iris dataset we will have 4x4 \n",
    "#covariance matrix b/c there are 4 features in our training set., \n",
    "#here’s an example of finding the covariance matrix ΣΣ on the iris \n",
    "#trainging set. We should be abel to confirm our answer\n",
    "\n",
    "#lets split into a test and training set\n",
    "from sklearn.cross_validation import train_test_split\n",
    "X_train, X_test, Y_train, Y_test = train_test_split(iris.data,iris.target, test_size=0.4, random_state=4)\n",
    "\n",
    "# lets gather all the examples from class 0\n",
    "def get_examples_for_class(class_id):\n",
    "    examples = []\n",
    "    for i, example in enumerate(X_train):\n",
    "        if Y_train[i]==class_id:\n",
    "            examples.append(example)\n",
    "        \n",
    "    examples = np.matrix(examples)\n",
    "    return examples\n",
    "\n",
    "examples = get_examples_for_class(0)\n",
    "examples.shape"
   ]
  },
  {
   "cell_type": "code",
   "execution_count": 5,
   "metadata": {
    "collapsed": false
   },
   "outputs": [
    {
     "name": "stdout",
     "output_type": "stream",
     "text": [
      "[ 4.964  3.416  1.44   0.24 ]\n",
      "[[ 0.1049      0.06976667  0.01483333  0.00566667]\n",
      " [ 0.06976667  0.10723333  0.00391667  0.00266667]\n",
      " [ 0.01483333  0.00391667  0.02583333  0.00625   ]\n",
      " [ 0.00566667  0.00266667  0.00625     0.01      ]]\n"
     ]
    }
   ],
   "source": [
    "mean = np.array(examples.mean(0))[0]\n",
    "cov = np.cov(examples.T) # I don't know why you have to transpose the input to numpy... \n",
    "print mean\n",
    "print cov"
   ]
  },
  {
   "cell_type": "code",
   "execution_count": 6,
   "metadata": {
    "collapsed": true
   },
   "outputs": [],
   "source": [
    "from scipy.stats import multivariate_normal\n",
    "P_0 = np.random.multivariate_normal(mean, cov).T\n",
    "P_0\n",
    "\n",
    "var = multivariate_normal(mean=mean, cov=cov)"
   ]
  },
  {
   "cell_type": "code",
   "execution_count": 41,
   "metadata": {
    "collapsed": false
   },
   "outputs": [
    {
     "data": {
      "text/plain": [
       "[0, 1.2060594131871579e-172]"
      ]
     },
     "execution_count": 41,
     "metadata": {},
     "output_type": "execute_result"
    }
   ],
   "source": [
    "prob_0"
   ]
  },
  {
   "cell_type": "code",
   "execution_count": 9,
   "metadata": {
    "collapsed": false
   },
   "outputs": [
    {
     "name": "stdout",
     "output_type": "stream",
     "text": [
      "[ 6.4  2.8  5.6  2.2]\n",
      "virginica\n",
      "virginica\n"
     ]
    }
   ],
   "source": [
    "X1=X_test[15]\n",
    "import random\n",
    "X1 = random.choice (X_test)\n",
    "print X1\n",
    "prior = pi_0 = gnb.class_prior_[0]\n",
    "prob_0=[0, var.pdf(X1)]\n",
    "\n",
    "#now for class 1\n",
    "examples_1 = get_examples_for_class(1)\n",
    "mean_1 = np.array(examples_1.mean(0))[0]\n",
    "cov_1 = np.cov(examples_1.T)\n",
    "p_x_1 = multivariate_normal(mean=mean_1, cov=cov_1)\n",
    "prob_1 = [1, gnb.class_prior_[1] * p_x_1.pdf(X1)]\n",
    "\n",
    "#now for class 2\n",
    "examples_2 = get_examples_for_class(2)\n",
    "mean_2 = np.array(examples_2.mean(0))[0]\n",
    "cov_2 = np.cov(examples_2.T)\n",
    "p_x_2 = multivariate_normal(mean=mean_2, cov=cov_2)\n",
    "prob_2 = [2, gnb.class_prior_[2] * p_x_2.pdf(X1)]\n",
    "\n",
    "prediction = max(prob_0, prob_1, prob_2, key= lambda a: a[1])\n",
    "print iris.target_names[prediction[0]]\n",
    "\n",
    "X = iris.data\n",
    "Y = iris.target\n",
    "from sklearn.naive_bayes import GaussianNB\n",
    "clf = GaussianNB()\n",
    "clf.fit(X, Y)\n",
    "\n",
    "print(iris.target_names[clf.predict([X1])][0])\n"
   ]
  },
  {
   "cell_type": "code",
   "execution_count": 37,
   "metadata": {
    "collapsed": false
   },
   "outputs": [
    {
     "data": {
      "text/plain": [
       "<scipy.stats._multivariate.multivariate_normal_frozen at 0x10c19f350>"
      ]
     },
     "execution_count": 37,
     "metadata": {},
     "output_type": "execute_result"
    }
   ],
   "source": [
    "p_x_2"
   ]
  },
  {
   "cell_type": "code",
   "execution_count": 10,
   "metadata": {
    "collapsed": false
   },
   "outputs": [
    {
     "data": {
      "text/plain": [
       "(1078, 64)"
      ]
     },
     "execution_count": 10,
     "metadata": {},
     "output_type": "execute_result"
    }
   ],
   "source": [
    "digits = datasets.load_digits()\n",
    "X_train, X_test, Y_train, Y_test = train_test_split(digits.data, digits.target, test_size=0.4, random_state=4)\n",
    "X_train.shape"
   ]
  },
  {
   "cell_type": "code",
   "execution_count": 11,
   "metadata": {
    "collapsed": false
   },
   "outputs": [
    {
     "name": "stdout",
     "output_type": "stream",
     "text": [
      "[0 1 2 3 4 5 6 7 8 9]\n"
     ]
    },
    {
     "data": {
      "text/plain": [
       "array([ 0.09369202,  0.10482375,  0.0974026 ,  0.0974026 ,  0.10575139,\n",
       "        0.10296846,  0.0974026 ,  0.10018553,  0.09925788,  0.10111317])"
      ]
     },
     "execution_count": 11,
     "metadata": {},
     "output_type": "execute_result"
    }
   ],
   "source": [
    "helper = GaussianNB()\n",
    "helper.fit(X_train, Y_train)\n",
    "classes = helper.classes_\n",
    "priors = helper.class_prior_\n",
    "print classes\n",
    "priors"
   ]
  },
  {
   "cell_type": "code",
   "execution_count": 30,
   "metadata": {
    "collapsed": false
   },
   "outputs": [],
   "source": [
    "#from numpy.random import multivariate_normal\n",
    "#, allow_singular=True\n",
    "from scipy.stats import multivariate_normal\n",
    "posteriors=[]\n",
    "\n",
    "for klass in classes:\n",
    "    examples = get_examples_for_class(klass)\n",
    "    mean = np.array(examples.mean(0))[0]\n",
    "    cov = np.cov(examples.T)\n",
    "    p_x = multivariate_normal(mean=mean, cov=cov, allow_singular=True)\n",
    "    posteriors.append(p_x)"
   ]
  },
  {
   "cell_type": "code",
   "execution_count": 31,
   "metadata": {
    "collapsed": false
   },
   "outputs": [
    {
     "data": {
      "text/plain": [
       "[<scipy.stats._multivariate.multivariate_normal_frozen at 0x10c249e90>,\n",
       " <scipy.stats._multivariate.multivariate_normal_frozen at 0x10c748390>,\n",
       " <scipy.stats._multivariate.multivariate_normal_frozen at 0x10c77ab50>,\n",
       " <scipy.stats._multivariate.multivariate_normal_frozen at 0x10c77ac10>,\n",
       " <scipy.stats._multivariate.multivariate_normal_frozen at 0x10c77ab90>,\n",
       " <scipy.stats._multivariate.multivariate_normal_frozen at 0x10c788210>,\n",
       " <scipy.stats._multivariate.multivariate_normal_frozen at 0x10c788410>,\n",
       " <scipy.stats._multivariate.multivariate_normal_frozen at 0x10c788cd0>,\n",
       " <scipy.stats._multivariate.multivariate_normal_frozen at 0x10c788bd0>,\n",
       " <scipy.stats._multivariate.multivariate_normal_frozen at 0x10c788c90>]"
      ]
     },
     "execution_count": 31,
     "metadata": {},
     "output_type": "execute_result"
    }
   ],
   "source": [
    "posteriors"
   ]
  },
  {
   "cell_type": "code",
   "execution_count": 16,
   "metadata": {
    "collapsed": false
   },
   "outputs": [
    {
     "name": "stdout",
     "output_type": "stream",
     "text": [
      "[  0.   0.   2.  15.   4.   0.   0.   0.   0.   0.  11.  13.   0.   0.   0.\n",
      "   0.   0.   0.  16.   6.   0.   0.   0.   0.   0.   3.  16.   7.   0.   0.\n",
      "   0.   0.   0.   4.  16.  16.  15.   5.   0.   0.   0.   4.  16.   5.   3.\n",
      "  13.   7.   0.   0.   1.  14.   9.   0.   8.  13.   0.   0.   0.   2.  13.\n",
      "  16.  16.   8.   0.]\n"
     ]
    }
   ],
   "source": [
    "x = random.choice (X_test)\n",
    "print x"
   ]
  },
  {
   "cell_type": "code",
   "execution_count": 17,
   "metadata": {
    "collapsed": false
   },
   "outputs": [
    {
     "data": {
      "text/plain": [
       "[[0, 0.0],\n",
       " [1, 2.7404854530162325e-293],\n",
       " [2, 0.0],\n",
       " [3, 3.2697255389178208e-179],\n",
       " [4, 0.0],\n",
       " [5, 8.261074358167956e-157],\n",
       " [6, 3.1125128442032229e-37],\n",
       " [7, 0.0],\n",
       " [8, 4.2275219511188878e-83],\n",
       " [9, 1.7091942811817822e-251]]"
      ]
     },
     "execution_count": 17,
     "metadata": {},
     "output_type": "execute_result"
    }
   ],
   "source": [
    "bayes_probs = []\n",
    "for klass in classes:\n",
    "    prob = [klass, priors[klass] * posteriors[klass].pdf(x)]\n",
    "    bayes_probs.append(prob)\n",
    "bayes_probs"
   ]
  },
  {
   "cell_type": "code",
   "execution_count": 24,
   "metadata": {
    "collapsed": false
   },
   "outputs": [
    {
     "data": {
      "text/plain": [
       "[<scipy.stats._multivariate.multivariate_normal_frozen at 0x10c77aa90>,\n",
       " <scipy.stats._multivariate.multivariate_normal_frozen at 0x10c258050>,\n",
       " <scipy.stats._multivariate.multivariate_normal_frozen at 0x1044d33d0>,\n",
       " <scipy.stats._multivariate.multivariate_normal_frozen at 0x10c76cdd0>,\n",
       " <scipy.stats._multivariate.multivariate_normal_frozen at 0x10c19f6d0>,\n",
       " <scipy.stats._multivariate.multivariate_normal_frozen at 0x10c19f590>,\n",
       " <scipy.stats._multivariate.multivariate_normal_frozen at 0x10c19f810>,\n",
       " <scipy.stats._multivariate.multivariate_normal_frozen at 0x10c19f8d0>,\n",
       " <scipy.stats._multivariate.multivariate_normal_frozen at 0x10c19f790>,\n",
       " <scipy.stats._multivariate.multivariate_normal_frozen at 0x10c19f2d0>]"
      ]
     },
     "execution_count": 24,
     "metadata": {},
     "output_type": "execute_result"
    }
   ],
   "source": [
    "posteriors"
   ]
  },
  {
   "cell_type": "code",
   "execution_count": null,
   "metadata": {
    "collapsed": true
   },
   "outputs": [],
   "source": []
  }
 ],
 "metadata": {
  "anaconda-cloud": {},
  "kernelspec": {
   "display_name": "Python [conda root]",
   "language": "python",
   "name": "conda-root-py"
  },
  "language_info": {
   "codemirror_mode": {
    "name": "ipython",
    "version": 2
   },
   "file_extension": ".py",
   "mimetype": "text/x-python",
   "name": "python",
   "nbconvert_exporter": "python",
   "pygments_lexer": "ipython2",
   "version": "2.7.12"
  }
 },
 "nbformat": 4,
 "nbformat_minor": 1
}
