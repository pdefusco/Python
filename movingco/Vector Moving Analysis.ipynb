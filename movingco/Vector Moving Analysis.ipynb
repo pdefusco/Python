{
 "cells": [
  {
   "cell_type": "markdown",
   "metadata": {},
   "source": [
    "# Moving Company Exploratory Data Analysis\n",
    "\n",
    "Imports the Google Calendar information from a moving company and describes relevant data."
   ]
  },
  {
   "cell_type": "markdown",
   "metadata": {},
   "source": [
    "We need the Python library _icalendar_ to parse the Google Calendar."
   ]
  },
  {
   "cell_type": "code",
   "execution_count": 2,
   "metadata": {
    "collapsed": false
   },
   "outputs": [
    {
     "name": "stdout",
     "output_type": "stream",
     "text": [
      "Collecting icalendar\n",
      "  Downloading icalendar-3.11.3-py2.py3-none-any.whl (74kB)\n",
      "\u001b[K    100% |████████████████████████████████| 81kB 849kB/s \n",
      "\u001b[?25hRequirement already satisfied (use --upgrade to upgrade): pytz in /Users/pauldefusco/anaconda2/lib/python2.7/site-packages (from icalendar)\n",
      "Requirement already satisfied (use --upgrade to upgrade): python-dateutil in /Users/pauldefusco/anaconda2/lib/python2.7/site-packages (from icalendar)\n",
      "Requirement already satisfied (use --upgrade to upgrade): six>=1.5 in /Users/pauldefusco/anaconda2/lib/python2.7/site-packages (from python-dateutil->icalendar)\n",
      "Installing collected packages: icalendar\n",
      "Successfully installed icalendar-3.11.3\n",
      "\u001b[33mYou are using pip version 8.1.2, however version 9.0.1 is available.\n",
      "You should consider upgrading via the 'pip install --upgrade pip' command.\u001b[0m\n"
     ]
    }
   ],
   "source": [
    "!pip install icalendar"
   ]
  },
  {
   "cell_type": "code",
   "execution_count": 3,
   "metadata": {
    "collapsed": false
   },
   "outputs": [],
   "source": [
    "from icalendar import Calendar, Event"
   ]
  },
  {
   "cell_type": "markdown",
   "metadata": {},
   "source": [
    "Let's create a Python dictionary to hold the data from the moving jobs"
   ]
  },
  {
   "cell_type": "code",
   "execution_count": 4,
   "metadata": {
    "collapsed": true
   },
   "outputs": [],
   "source": [
    "jobs = {}\n",
    "i = 0"
   ]
  },
  {
   "cell_type": "markdown",
   "metadata": {},
   "source": [
    "The text fields (summary and description) have newlines (/n) and $. We need a method for Python to correctly interpret these."
   ]
  },
  {
   "cell_type": "markdown",
   "metadata": {},
   "source": [
    "## I'm not sure I understand the notes in the DESCRIPTION field\n",
    "\n",
    "It seems like it is some shorthand on how many hours the job took, what the hourly rate will be, how many movers are needed, etc. It's going to be difficult to parse this, but we'll take a stab at it with some regular expressions.\n",
    "\n",
    "In some cases, I think they are listing the hourly rate. In other cases, I think they are listing the total charge. I need some sort of client decision on how to tell which is which. Of course, there are some cases where they have more than 5 movers so that might explain the high hourly rates (5 movers x \\$50/hr = \\$250/hr)"
   ]
  },
  {
   "cell_type": "code",
   "execution_count": 5,
   "metadata": {
    "collapsed": false
   },
   "outputs": [],
   "source": [
    "import re\n",
    "\n",
    "'''\n",
    "Extract the hourly rate\n",
    "This should be in the description after the dollar sign.\n",
    "However, this should be checked with the client.\n",
    "I think sometimes the number is the hourly rate and other times it is the total charge.\n",
    "So use a regular expression\n",
    "'''\n",
    "def extractRate(text):\n",
    "    \n",
    "    if text == None:\n",
    "        return None\n",
    "    \n",
    "    rate = re.findall(r'[\\$]{1}\\d+\\.?\\d{0,2}',text)\n",
    "    if len(rate) > 0:  # Only return first dollar amount found\n",
    "        rate = float(rate[0][1:])   # Strip dollar sign and return decimal only\n",
    "    else:\n",
    "        rate = None\n",
    "    return rate"
   ]
  },
  {
   "cell_type": "markdown",
   "metadata": {},
   "source": [
    "Extract the email address of the customer"
   ]
  },
  {
   "cell_type": "code",
   "execution_count": 6,
   "metadata": {
    "collapsed": false
   },
   "outputs": [],
   "source": [
    "'''\n",
    "Extract the email address of the customer\n",
    "'''\n",
    "def extractEmail(text):\n",
    "    \n",
    "    if text == None:\n",
    "        return None\n",
    "    \n",
    "    # Regular expression to match email addresses\n",
    "    email = re.findall(r'[\\w+\\.]*\\w+@[\\w.-]+|\\{(?:\\w+, *)+\\w+\\}@[\\w.-]+',text.replace('\\\\n', ' '))\n",
    "    if len(email) > 0:\n",
    "        email = email[0]\n",
    "    else:\n",
    "        email = None\n",
    "        \n",
    "    return email\n"
   ]
  },
  {
   "cell_type": "markdown",
   "metadata": {},
   "source": [
    "Search the _summary_ field for the word cancelled. Keep track of cancelled jobs."
   ]
  },
  {
   "cell_type": "code",
   "execution_count": 7,
   "metadata": {
    "collapsed": false
   },
   "outputs": [],
   "source": [
    "'''\n",
    "Determine if customer has cancelled the appointment\n",
    "'''\n",
    "def hasCancelled(text):\n",
    "    \n",
    "    if text == None:\n",
    "        return None\n",
    "    \n",
    "    if 'cancelled' not in text.lower():\n",
    "        return False\n",
    "    else:\n",
    "        return True\n"
   ]
  },
  {
   "cell_type": "markdown",
   "metadata": {},
   "source": [
    "Extract the zip code"
   ]
  },
  {
   "cell_type": "code",
   "execution_count": 8,
   "metadata": {
    "collapsed": true
   },
   "outputs": [],
   "source": [
    "def extractZipCode(text):\n",
    "    \n",
    "\n",
    "    if text == None:\n",
    "        return None\n",
    "    \n",
    "    '''\n",
    "    This regex gets a tuple of full zip and 4 digits after the - \n",
    "    '''\n",
    "    zips = re.findall(r'.*(\\d{5}(\\-\\d{4})?)$', text)\n",
    "    if len(zips) > 0:\n",
    "        return zips[0][0]\n",
    "    else:\n",
    "        return None"
   ]
  },
  {
   "cell_type": "code",
   "execution_count": 9,
   "metadata": {
    "collapsed": true
   },
   "outputs": [],
   "source": [
    "def ExtractMovers(text):\n",
    "    \n",
    "    if text == None:\n",
    "        return None\n",
    "    \n",
    "    text = text.lower()\n",
    "    \n",
    "    movers = re.findall(r'(\\d+) (?:movers|mover)', text)\n",
    "    if len(movers) > 0:\n",
    "        return movers[0]\n",
    "    else:\n",
    "        return None"
   ]
  },
  {
   "cell_type": "code",
   "execution_count": 10,
   "metadata": {
    "collapsed": true
   },
   "outputs": [],
   "source": [
    "def ExtractTrucks(text):\n",
    "    \n",
    "    if text == None:\n",
    "        return None\n",
    "    \n",
    "    text = text.lower()\n",
    "    \n",
    "    trucks = re.findall(r'(\\d+) (?:trucks|truck)', text)\n",
    "    if len(trucks) > 0:\n",
    "        return trucks[0]\n",
    "    else:\n",
    "        return None"
   ]
  },
  {
   "cell_type": "markdown",
   "metadata": {},
   "source": [
    "### It looks like after September 2015, they started using a form to fill out the description\n",
    "\n",
    "The form has customer name, phone, email, booked by, origin, destination, and all other useful fields.\n",
    "\n",
    "For example, \n",
    "['DARNELL\\\\, ALAN',\n",
    " 'NAME: Tian Hui Zhang ',\n",
    " 'PHONE: 858-997-7729',\n",
    " 'EMAIL: zzztianhui@gmail.com',\n",
    " 'Booked BY: Frank on 09/21/2015',\n",
    " '',\n",
    " 'ORIGIN: 7655 Palmilla Dr \\#7675\\\\, San Diego\\\\, CA 92122',\n",
    " 'DESTINATION:3833 Nobel Drive\\\\, San Diego\\\\, CA 92122 ',\n",
    " '',\n",
    " 'SIZE: 1 Bedroom',\n",
    " 'SERVICE: moving furniture and Full Pack',\n",
    " 'CREW: 2 movers ',\n",
    " 'TRUCKS: 1',\n",
    " 'MATERIALS: standard Full Pack',\n",
    " 'ESTIMATE:N/A',\n",
    " 'RATE: \\$88/hour - cash\\\\, $98/hour - card',\n",
    " 'NOT TO EXCEED:N/A',\n",
    " '',\n",
    " 'NOTES: Full Pack']"
   ]
  },
  {
   "cell_type": "code",
   "execution_count": 11,
   "metadata": {
    "collapsed": false
   },
   "outputs": [],
   "source": [
    "def formatPhoneNumber(text): \n",
    "    \n",
    "    if text == None:\n",
    "        return None\n",
    "    \n",
    "    if text.strip() == '':\n",
    "        return None\n",
    "    \n",
    "    phone = text.replace('.','-')\n",
    "    phone = re.sub('\\/\\s?', '', phone) # Remove slash /\n",
    "    phone = re.sub('\\(\\s?', '', phone) # Remove left parenthesis (\n",
    "    phone = re.sub('\\)\\s?', '-', phone) # Replace ) with hyphen\n",
    "    \n",
    "    if phone.isdigit():  # Add hyphens if not present\n",
    "        phone = '{}-{}-{}'.format(phone[0:3], phone[4:6], phone[7:10])\n",
    "    \n",
    "    return phone\n",
    "     "
   ]
  },
  {
   "cell_type": "code",
   "execution_count": 12,
   "metadata": {
    "collapsed": true
   },
   "outputs": [],
   "source": [
    "def parseDescription(text):\n",
    "    \n",
    "    if text == None:\n",
    "        return None\n",
    "    \n",
    "    notes = {}\n",
    "    notes['ORIGIN'] = None\n",
    "    notes['ORIGIN TYPE'] = None\n",
    "    notes['DESTINATION'] = None\n",
    "    notes['DESTINATION TYPE'] = None\n",
    "    notes['SIZE'] = None\n",
    "    notes['CREW'] = None\n",
    "    notes['TRUCKS'] = None\n",
    "    notes['RATE'] = None\n",
    "    notes['PHONE'] = None\n",
    "    notes['NAME'] = None\n",
    "\n",
    "    for item in text.split('\\\\n'):\n",
    "\n",
    "        if item[0:(len('ORIGIN:'))].upper() == 'ORIGIN:':\n",
    "            notes['ORIGIN'] = item[len('ORIGIN:'):].strip()\n",
    "            \n",
    "        if item[0:(len('Pick up Address:'))].upper() == 'PICK UP ADDRESS:':\n",
    "            notes['ORIGIN'] = item[len('Pick up Address:'):].strip()\n",
    "            \n",
    "        if item[0:(len('Pick up Address Type:'))].upper() == 'PICK UP ADDRESS TYPE:':\n",
    "            notes['ORIGIN TYPE'] = item[len('Pick up Address Type:'):].strip()    \n",
    "\n",
    "        if item[0:(len('DESTINATION:'))].upper() == 'DESTINATION:':\n",
    "            notes['DESTINATION'] =  item[len('DESTINATION:'):].strip()\n",
    "            \n",
    "        if item[0:(len('Drop off Address Type:'))].upper() == 'DROP OFF ADDRESS TYPE:':\n",
    "            notes['DESTINATION TYPE'] = item[len('Drop off Address Type:'):].strip()    \n",
    "\n",
    "        if item[0:(len('Drop off  Address:'))].upper() == 'DROP OFF  ADDRESS:':\n",
    "            notes['DESTINATION'] = item[len('Drop off  Address:'):].strip()\n",
    "            \n",
    "        if item[0:(len('SIZE:'))].upper() == 'SIZE:':\n",
    "            notes['SIZE'] = item[len('SIZE:'):].strip()\n",
    "\n",
    "        if item[0:(len('CREW:'))].upper() == 'CREW:':\n",
    "            notes['CREW'] = item[len('CREW:'):].strip()\n",
    "            \n",
    "        if item[0:(len('Crew Size:'))].upper() == 'CREW SIZE:':\n",
    "            notes['CREW'] = item[len('Crew Size:'):].strip()\n",
    "\n",
    "        if item[0:(len('TRUCKS:'))].upper() == 'TRUCKS:':\n",
    "            notes['TRUCKS'] = item[len('TRUCKS:'):].strip()\n",
    "\n",
    "        if item[0:(len('RATE:'))].upper() == 'RATE:':\n",
    "            notes['RATE'] = extractRate(item[len('RATE:'):].strip())\n",
    "            \n",
    "        if item[0:(len('Rate and Fees:'))].upper() == 'RATE AND FEES:':\n",
    "            notes['RATE'] = extractRate(item[len('Rate and Fees:'):].strip())\n",
    "\n",
    "        if item[0:(len('PHONE:'))].upper() == 'PHONE:':\n",
    "            notes['PHONE'] = formatPhoneNumber(item[len('PHONE:'):].strip())\n",
    "\n",
    "        if item[0:(len('NAME:'))].upper() == 'NAME:':\n",
    "            notes['NAME'] = item[len('NAME:'):].strip()\n",
    "            \n",
    "        notes['ORIGIN ZIP'] = extractZipCode(notes['ORIGIN'])\n",
    "        notes['DESTINATION ZIP'] = extractZipCode(notes['DESTINATION'])\n",
    "            \n",
    "    return notes"
   ]
  },
  {
   "cell_type": "code",
   "execution_count": 13,
   "metadata": {
    "collapsed": true
   },
   "outputs": [],
   "source": [
    "def raw(text):\n",
    "    return text"
   ]
  },
  {
   "cell_type": "markdown",
   "metadata": {},
   "source": [
    "The _icalendar_ library parses the calendar. For every _event_ in the calendar, we check to see which fields are present."
   ]
  },
  {
   "cell_type": "code",
   "execution_count": 14,
   "metadata": {
    "collapsed": false
   },
   "outputs": [],
   "source": [
    "def parseKeys(component):\n",
    "    \n",
    "      \n",
    "    if component.has_key('DTSTART'):\n",
    "            DTSTART = component.get('DTSTART').to_ical()\n",
    "    else:\n",
    "        DTSTART = None\n",
    "\n",
    "    if component.has_key('DTEND'):\n",
    "        DTEND = component.get('DTEND').to_ical()\n",
    "    else:\n",
    "        DTEND = None\n",
    "\n",
    "    if component.has_key('RRULE'):\n",
    "        RRULE = component.get('RRULE').to_ical()\n",
    "    else:\n",
    "        RRULE = None\n",
    "\n",
    "    if component.has_key('DTSTAMP'):\n",
    "        DTSTAMP = component.get('DTSTAMP').to_ical()\n",
    "    else:\n",
    "        DTSTAMP = None\n",
    "\n",
    "    if component.has_key('UID'):\n",
    "        UID = component.get('UID').to_ical()\n",
    "    else:\n",
    "        UID = None\n",
    "\n",
    "    if component.has_key('CREATED'):\n",
    "        CREATED = component.get('CREATED').to_ical()\n",
    "    else:\n",
    "        CREATED = None\n",
    "\n",
    "    if component.has_key('DESCRIPTION'):\n",
    "        DESCRIPTION = raw(component.get('DESCRIPTION').to_ical())\n",
    "        EMAIL = extractEmail(DESCRIPTION)\n",
    "        parsed = parseDescription(DESCRIPTION)\n",
    "    else:\n",
    "        DESCRIPTION = None\n",
    "        EMAIL = None\n",
    "        parsed = parseDescription('')\n",
    "\n",
    "    if component.has_key('LAST-MODIFIED'):\n",
    "        LASTMODIFIED = component.get('LAST-MODIFIED').to_ical()\n",
    "    else:\n",
    "        LASTMODIFIED = None\n",
    "\n",
    "    if component.has_key('LOCATION'):\n",
    "        LOCATION = component.get('LOCATION').to_ical()\n",
    "    else:\n",
    "        LOCATION = None\n",
    "\n",
    "    if component.has_key('SEQUENCE'):\n",
    "        SEQUENCE = component.get('SEQUENCE').to_ical()\n",
    "    else:\n",
    "        SEQUENCE = None\n",
    "\n",
    "    if component.has_key('SUMMARY'):\n",
    "        SUMMARY = raw(component.get('SUMMARY').to_ical())\n",
    "        CANCELLED = hasCancelled(SUMMARY)\n",
    "    else:\n",
    "        SUMMARY = None\n",
    "        CANCELLED = None\n",
    "\n",
    "    if component.has_key('TRANSP'):\n",
    "        TRANSP = component.get('TRANSP').to_ical()\n",
    "    else:\n",
    "        TRANSP = None\n",
    "\n",
    "\n",
    "    NUMBERMOVERS = ExtractMovers(DESCRIPTION)\n",
    "    if (NUMBERMOVERS == None):\n",
    "        NUMBERMOVERS = ExtractMovers(SUMMARY)\n",
    "\n",
    "    NUMBERTRUCKS = ExtractTrucks(DESCRIPTION)\n",
    "    if (NUMBERTRUCKS == None):\n",
    "        NUMBERTRUCKS = ExtractTrucks(SUMMARY)\n",
    "            \n",
    "    return [DTSTART,\n",
    "            DTEND,\n",
    "            RRULE,\n",
    "            DTSTAMP,\n",
    "            UID,\n",
    "            CREATED,\n",
    "            DESCRIPTION,\n",
    "            parsed['ORIGIN'],\n",
    "            parsed['ORIGIN TYPE'],\n",
    "            parsed['ORIGIN ZIP'],\n",
    "            parsed['DESTINATION'],\n",
    "            parsed['DESTINATION TYPE'],\n",
    "            parsed['DESTINATION ZIP'],\n",
    "            parsed['SIZE'],\n",
    "            parsed['CREW'],\n",
    "            NUMBERMOVERS,\n",
    "            parsed['TRUCKS'],\n",
    "            NUMBERTRUCKS,\n",
    "            parsed['RATE'],\n",
    "            parsed['NAME'],\n",
    "            parsed['PHONE'],\n",
    "            EMAIL,\n",
    "            LASTMODIFIED,\n",
    "            LOCATION,\n",
    "            SEQUENCE,\n",
    "            SUMMARY,\n",
    "            CANCELLED,\n",
    "            TRANSP]"
   ]
  },
  {
   "cell_type": "markdown",
   "metadata": {},
   "source": [
    "Now go through the file and parse the moving jobs into the dictionary"
   ]
  },
  {
   "cell_type": "code",
   "execution_count": 16,
   "metadata": {
    "collapsed": false
   },
   "outputs": [],
   "source": [
    "fileName = 'vectormovingsd@gmail.com.ics'\n",
    "\n",
    "with open(fileName,'rb') as fp:\n",
    "    gcal = Calendar.from_ical(fp.read())\n",
    "    for component in gcal.walk():\n",
    "    \n",
    "        if component.name == 'VEVENT':\n",
    "         \n",
    "            jobs[i] = parseKeys(component)\n",
    "\n",
    "            i += 1\n",
    "    \n",
    "fp.close()"
   ]
  },
  {
   "cell_type": "markdown",
   "metadata": {},
   "source": [
    "Let's put the jobs into Pandas"
   ]
  },
  {
   "cell_type": "code",
   "execution_count": 17,
   "metadata": {
    "collapsed": false
   },
   "outputs": [],
   "source": [
    "import pandas as pd"
   ]
  },
  {
   "cell_type": "code",
   "execution_count": 18,
   "metadata": {
    "collapsed": false
   },
   "outputs": [],
   "source": [
    "dfJobs = pd.DataFrame.from_dict(jobs, orient='index')\n",
    "dfJobs.columns = ['DTSTART',\n",
    "                  'DTEND',\n",
    "                  'RRULE',\n",
    "                  'DTSTAMP',\n",
    "                  'UID',\n",
    "                  'CREATED',\n",
    "                  'DESCRIPTION',\n",
    "                  'ORIGIN',\n",
    "                  'ORIGIN TYPE',\n",
    "                  'ORIGIN ZIP CODE',\n",
    "                  'DESTINATION',\n",
    "                  'DESTINATION TYPE',\n",
    "                  'DESTINATION ZIP CODE',\n",
    "                  'SIZE',\n",
    "                  'CREW',\n",
    "                  'NUMBER OF MOVERS',\n",
    "                  'TRUCKS',\n",
    "                  'NUMBER OF TRUCKS',\n",
    "                  'RATE',\n",
    "                  'CUSTOMER NAME',\n",
    "                  'CUSTOMER PHONE',\n",
    "                  'CUSTOMER EMAIL',\n",
    "                  'LAST MODIFIED',\n",
    "                  'LOCATION',\n",
    "                  'SEQUENCE',\n",
    "                  'SUMMARY',\n",
    "                  'CANCELLED',\n",
    "                  'TRANSP']"
   ]
  },
  {
   "cell_type": "code",
   "execution_count": 19,
   "metadata": {
    "collapsed": false
   },
   "outputs": [],
   "source": [
    "del jobs   # Free up memory"
   ]
  },
  {
   "cell_type": "markdown",
   "metadata": {},
   "source": [
    "Let's convert the time/date stamps to correct format."
   ]
  },
  {
   "cell_type": "code",
   "execution_count": 20,
   "metadata": {
    "collapsed": false
   },
   "outputs": [],
   "source": [
    "dfJobs['DTSTART'] = pd.to_datetime(dfJobs['DTSTART'])\n",
    "dfJobs['DTEND'] = pd.to_datetime(dfJobs['DTEND'])\n",
    "dfJobs['DTSTAMP'] = pd.to_datetime(dfJobs['DTSTAMP'])\n",
    "dfJobs['CREATED'] = pd.to_datetime(dfJobs['CREATED'])\n",
    "dfJobs['LAST MODIFIED'] = pd.to_datetime(dfJobs['LAST MODIFIED'])"
   ]
  },
  {
   "cell_type": "markdown",
   "metadata": {},
   "source": [
    "# Sanity check\n",
    "\n",
    "Note that the DESCRIPTION and SUMMARY fields differ in the hourly rate (\\$55 vs. \\$60/hr)"
   ]
  },
  {
   "cell_type": "code",
   "execution_count": 21,
   "metadata": {
    "collapsed": false,
    "scrolled": true
   },
   "outputs": [
    {
     "data": {
      "text/plain": [
       "DTSTART                                               2013-09-06 22:00:00\n",
       "DTEND                                                 2013-09-06 23:00:00\n",
       "RRULE                                                                None\n",
       "DTSTAMP                                               2016-11-29 12:31:58\n",
       "UID                                 galblf8rorplcgmdmb7aqtcst8@google.com\n",
       "CREATED                                               2013-09-04 19:00:55\n",
       "DESCRIPTION             yelp.com\\ncholleti15@yahoo.com\\n3 hours $55/hr...\n",
       "ORIGIN                                                               None\n",
       "ORIGIN TYPE                                                          None\n",
       "ORIGIN ZIP CODE                                                      None\n",
       "DESTINATION                                                          None\n",
       "DESTINATION TYPE                                                     None\n",
       "DESTINATION ZIP CODE                                                 None\n",
       "SIZE                                                                 None\n",
       "CREW                                                                 None\n",
       "NUMBER OF MOVERS                                                     None\n",
       "TRUCKS                                                               None\n",
       "NUMBER OF TRUCKS                                                     None\n",
       "RATE                                                                  NaN\n",
       "CUSTOMER NAME                                                        None\n",
       "CUSTOMER PHONE                                                       None\n",
       "CUSTOMER EMAIL                                       cholleti15@yahoo.com\n",
       "LAST MODIFIED                                         2013-09-09 17:33:20\n",
       "LOCATION                     9175 Judicial Dr apt 6412 San Diego Ca 92122\n",
       "SEQUENCE                                                                0\n",
       "SUMMARY                 Hanu Cholleti 858-752-7580 $60/hr 3 hours from...\n",
       "CANCELLED                                                           False\n",
       "TRANSP                                                             OPAQUE\n",
       "Name: 40, dtype: object"
      ]
     },
     "execution_count": 21,
     "metadata": {},
     "output_type": "execute_result"
    }
   ],
   "source": [
    "dfJobs.ix[40]"
   ]
  },
  {
   "cell_type": "code",
   "execution_count": 22,
   "metadata": {
    "collapsed": false
   },
   "outputs": [
    {
     "data": {
      "text/plain": [
       "DTSTART                                               2016-12-01 22:00:00\n",
       "DTEND                                                 2016-12-02 06:00:00\n",
       "RRULE                                                                None\n",
       "DTSTAMP                                               2016-11-29 12:31:59\n",
       "UID                                 mseq63sf79542ehq1isoq6mg94@google.com\n",
       "CREATED                                               2016-11-29 00:57:30\n",
       "DESCRIPTION             December 1\\, 2016 2:00pm PST\\nCalendar: Vector...\n",
       "ORIGIN                     2870 Fifth Ave. Suite 107 San Diego\\, Ca 92103\n",
       "ORIGIN TYPE                                                        Office\n",
       "ORIGIN ZIP CODE                                                     92103\n",
       "DESTINATION                                                          None\n",
       "DESTINATION TYPE                                                     None\n",
       "DESTINATION ZIP CODE                                                 None\n",
       "SIZE                                                                 None\n",
       "CREW                                                 3 movers and a truck\n",
       "NUMBER OF MOVERS                                                        3\n",
       "TRUCKS                                                               None\n",
       "NUMBER OF TRUCKS                                                        1\n",
       "RATE                                                                  125\n",
       "CUSTOMER NAME                                                Shawn Fisher\n",
       "CUSTOMER PHONE                                               619-228-4293\n",
       "CUSTOMER EMAIL                                       sfisher228@gmail.com\n",
       "LAST MODIFIED                                         2016-11-29 00:57:30\n",
       "LOCATION                                        Vector Moving and Storage\n",
       "SEQUENCE                                                                0\n",
       "SUMMARY                 Shawn Fisher: Local Moving with approximate du...\n",
       "CANCELLED                                                           False\n",
       "TRANSP                                                             OPAQUE\n",
       "Name: 4009, dtype: object"
      ]
     },
     "execution_count": 22,
     "metadata": {},
     "output_type": "execute_result"
    }
   ],
   "source": [
    "dfJobs.ix[4009]"
   ]
  },
  {
   "cell_type": "code",
   "execution_count": 24,
   "metadata": {
    "collapsed": false
   },
   "outputs": [
    {
     "name": "stdout",
     "output_type": "stream",
     "text": [
      "Collecting seaborn\n",
      "  Downloading seaborn-0.7.1.tar.gz (158kB)\n",
      "\u001b[K    100% |████████████████████████████████| 163kB 1.1MB/s \n",
      "\u001b[?25hBuilding wheels for collected packages: seaborn\n",
      "  Running setup.py bdist_wheel for seaborn ... \u001b[?25l-\b \b\\\b \bdone\n",
      "\u001b[?25h  Stored in directory: /Users/pauldefusco/Library/Caches/pip/wheels/cb/c8/67/83d615c0ef9b529558525aa521025b183de8c5b156799b091e\n",
      "Successfully built seaborn\n",
      "Installing collected packages: seaborn\n",
      "Successfully installed seaborn-0.7.1\n",
      "\u001b[33mYou are using pip version 8.1.2, however version 9.0.1 is available.\n",
      "You should consider upgrading via the 'pip install --upgrade pip' command.\u001b[0m\n"
     ]
    }
   ],
   "source": [
    "!pip install seaborn"
   ]
  },
  {
   "cell_type": "code",
   "execution_count": 25,
   "metadata": {
    "collapsed": false
   },
   "outputs": [],
   "source": [
    "import matplotlib.pyplot as plt\n",
    "%matplotlib inline\n",
    "\n",
    "import matplotlib.ticker as ticker\n",
    "\n",
    "import seaborn as sns\n",
    "sns.set(color_codes=True)\n"
   ]
  },
  {
   "cell_type": "markdown",
   "metadata": {},
   "source": [
    "# Plot histogram of the number of jobs per month"
   ]
  },
  {
   "cell_type": "code",
   "execution_count": 26,
   "metadata": {
    "collapsed": false
   },
   "outputs": [
    {
     "data": {
      "image/png": "[encoded data removed]",
      "text/plain": [
       "<matplotlib.figure.Figure at 0x11ca128d0>"
      ]
     },
     "metadata": {},
     "output_type": "display_data"
    }
   ],
   "source": [
    "# Create a histogram of the start dates\n",
    "df = dfJobs['DTSTART'].groupby([dfJobs['DTSTART'].dt.year, dfJobs['DTSTART'].dt.month]).count()\n",
    "ax = df.plot(kind=\"bar\", rot=0, figsize=(15,15));\n",
    "\n",
    "\n",
    "plt.xlabel('Date of job', fontsize=32);\n",
    "plt.ylabel('Number of jobs', fontsize=32);\n",
    "plt.title('Number of jobs per month', fontsize=40);\n",
    "\n",
    "# This just customizes our ticker so that the labels aren't squished.\n",
    "ticklabels = ['']*len(df.index) # Create a list of tick labels the same size as our index\n",
    "monthLabel = ['Jan', 'Feb', 'Mar', 'Apr', 'May', 'Jun', 'Jul', 'Aug', 'Sep', 'Oct', 'Nov', 'Dec']\n",
    "\n",
    "# Every 4th tick shows the month and day\n",
    "ticklabels[::4] = [monthLabel[item[1]-1] for item in df.index[::4]]\n",
    "# Every 12th ticklabel includes the year\n",
    "ticklabels[::12] = ['{}\\n{}'.format(monthLabel[item[1]-1], item[0]) for item in df.index[::12]]\n",
    "# Get rid of first tick\n",
    "ticklabels[0] = ''\n",
    "ax.xaxis.set_major_formatter(ticker.FixedFormatter(ticklabels))\n",
    "#plt.gcf().autofmt_xdate()"
   ]
  },
  {
   "cell_type": "markdown",
   "metadata": {},
   "source": [
    "# There's definitely a variation in the jobs over time. \n",
    "\n",
    "Not as many moving jobs during the winter period. 2015 was a very bad year. Summer better than winter. September through November is worst for jobs. Although in 2016, there was a spike in jobs in "
   ]
  },
  {
   "cell_type": "markdown",
   "metadata": {},
   "source": [
    "## Cancelled jobs\n",
    "\n",
    "Cancelled jobs can be a problem for the business. However, it looks like only 4% of the jobs were listed as cancelled. We may be able to look further into the _summary_ field or _date_ field to learn more about why jobs were cancelled."
   ]
  },
  {
   "cell_type": "code",
   "execution_count": 27,
   "metadata": {
    "collapsed": false
   },
   "outputs": [
    {
     "name": "stdout",
     "output_type": "stream",
     "text": [
      "There were 173 cancelled jobs out of 4015 total jobs(4.31%)\n"
     ]
    }
   ],
   "source": [
    "print('There were {} cancelled jobs out of {} total jobs({:.2f}%)'.format(sum(dfJobs['CANCELLED']), \n",
    "                                                                          len(dfJobs['CANCELLED']), \n",
    "                                                                100.0*sum(dfJobs['CANCELLED'])/len(dfJobs['CANCELLED'])))"
   ]
  },
  {
   "cell_type": "code",
   "execution_count": 28,
   "metadata": {
    "collapsed": false,
    "scrolled": false
   },
   "outputs": [
    {
     "data": {
      "text/plain": [
       "DTSTART                                               2016-12-01 22:00:00\n",
       "DTEND                                                 2016-12-02 06:00:00\n",
       "RRULE                                                                None\n",
       "DTSTAMP                                               2016-11-29 12:31:59\n",
       "UID                                 mseq63sf79542ehq1isoq6mg94@google.com\n",
       "CREATED                                               2016-11-29 00:57:30\n",
       "DESCRIPTION             December 1\\, 2016 2:00pm PST\\nCalendar: Vector...\n",
       "ORIGIN                     2870 Fifth Ave. Suite 107 San Diego\\, Ca 92103\n",
       "ORIGIN TYPE                                                        Office\n",
       "ORIGIN ZIP CODE                                                     92103\n",
       "DESTINATION                                                          None\n",
       "DESTINATION TYPE                                                     None\n",
       "DESTINATION ZIP CODE                                                 None\n",
       "SIZE                                                                 None\n",
       "CREW                                                 3 movers and a truck\n",
       "NUMBER OF MOVERS                                                        3\n",
       "TRUCKS                                                               None\n",
       "NUMBER OF TRUCKS                                                        1\n",
       "RATE                                                                  125\n",
       "CUSTOMER NAME                                                Shawn Fisher\n",
       "CUSTOMER PHONE                                               619-228-4293\n",
       "CUSTOMER EMAIL                                       sfisher228@gmail.com\n",
       "LAST MODIFIED                                         2016-11-29 00:57:30\n",
       "LOCATION                                        Vector Moving and Storage\n",
       "SEQUENCE                                                                0\n",
       "SUMMARY                 Shawn Fisher: Local Moving with approximate du...\n",
       "CANCELLED                                                           False\n",
       "TRANSP                                                             OPAQUE\n",
       "Name: 4009, dtype: object"
      ]
     },
     "execution_count": 28,
     "metadata": {},
     "output_type": "execute_result"
    }
   ],
   "source": [
    "dfJobs.ix[4009]"
   ]
  },
  {
   "cell_type": "code",
   "execution_count": 26,
   "metadata": {
    "collapsed": false,
    "scrolled": true
   },
   "outputs": [
    {
     "data": {
      "text/plain": [
       "DTSTART                                               2016-08-14 18:00:00\n",
       "DTEND                                                 2016-08-15 01:00:00\n",
       "RRULE                                                                None\n",
       "DTSTAMP                                               2016-11-29 12:31:59\n",
       "UID                                 3dgci7jsjbduarpusgmvtlma8s@google.com\n",
       "CREATED                                               2016-08-09 16:12:55\n",
       "DESCRIPTION             Jorge N.\\, Felix V.\\nNAME: Kelly Sprankel\\nPHO...\n",
       "ORIGIN                       2916 Wintergreen Drive\\, Carlsbad\\, CA 92008\n",
       "ORIGIN TYPE                                                          None\n",
       "ORIGIN ZIP CODE                                                     92008\n",
       "DESTINATION                      1024 Gleneagles Place\\, Vista\\, CA 92081\n",
       "DESTINATION TYPE                                                     None\n",
       "DESTINATION ZIP CODE                                                92081\n",
       "SIZE                       3 Bedroom ( minimal inventory is being Moved )\n",
       "CREW                                                             2 Movers\n",
       "NUMBER OF MOVERS                                                        2\n",
       "TRUCKS                                                            1 Truck\n",
       "NUMBER OF TRUCKS                                                        1\n",
       "RATE                                                                  100\n",
       "CUSTOMER NAME                                              Kelly Sprankel\n",
       "CUSTOMER PHONE                                               760-207-2765\n",
       "CUSTOMER EMAIL                                        ksprankel@gmail.com\n",
       "LAST MODIFIED                                         2016-08-15 21:08:00\n",
       "LOCATION                                                                 \n",
       "SEQUENCE                                                                1\n",
       "SUMMARY                                Kelly Sprankel [ 2 movers 1 truck]\n",
       "CANCELLED                                                           False\n",
       "TRANSP                                                             OPAQUE\n",
       "Name: 3400, dtype: object"
      ]
     },
     "execution_count": 26,
     "metadata": {},
     "output_type": "execute_result"
    }
   ],
   "source": [
    "dfJobs.ix[3400]"
   ]
  },
  {
   "cell_type": "markdown",
   "metadata": {},
   "source": [
    "# Plot the data to Google Maps"
   ]
  },
  {
   "cell_type": "markdown",
   "metadata": {},
   "source": [
    "# Let's plot the origins\n",
    "\n",
    "First we need to get all of the latitudes and longitudes of the origin addresses.\n",
    "The geopy package goes to the internet to try to interpret the address."
   ]
  },
  {
   "cell_type": "code",
   "execution_count": 30,
   "metadata": {
    "collapsed": false
   },
   "outputs": [
    {
     "name": "stdout",
     "output_type": "stream",
     "text": [
      "Collecting geopy\n",
      "  Downloading geopy-1.11.0-py2.py3-none-any.whl (66kB)\n",
      "\u001b[K    100% |████████████████████████████████| 71kB 629kB/s \n",
      "\u001b[?25hInstalling collected packages: geopy\n",
      "Successfully installed geopy-1.11.0\n",
      "\u001b[33mYou are using pip version 8.1.2, however version 9.0.1 is available.\n",
      "You should consider upgrading via the 'pip install --upgrade pip' command.\u001b[0m\n"
     ]
    }
   ],
   "source": [
    "!pip install geopy"
   ]
  },
  {
   "cell_type": "code",
   "execution_count": 31,
   "metadata": {
    "collapsed": false,
    "scrolled": false
   },
   "outputs": [],
   "source": [
    "#!pip install geopy\n",
    "\n",
    "# You can use any of the RESTful APIs below to turn the address into latitude/longitude.\n",
    "# However, some APIs are better at parsing the address. Others limit the number\n",
    "# of requests per day. Some APIs are better at parsing and figuring out addresses than others.\n",
    "# The list of supported API interfaces is here: https://github.com/geopy/geopy/tree/master/geopy/geocoders\n",
    "from geopy.geocoders import ArcGIS  # Lat/long is a few blocks off\n",
    "#from geopy.geocoders import GoogleV3  # Google only allows 2500 request per day\n",
    "from geopy.geocoders import Nominatim # OpenStreetMap geocoder - Completely free, no request limits\n",
    "#from geopy.geocoders import GeocodeFarm  # Limit is 250 request per day on free module\n",
    "#from geopy.geocoders import GeocoderDotUS  # The US Census Bureau\n",
    "#from geopy.geocoders import GeoNames  # Requires username\n",
    "\n",
    "def hasNumbers(inputString):\n",
    "    return any(char.isdigit() for char in inputString)\n",
    "\n",
    "def getCoordinates(dfJobs, field = 'ORIGIN'):\n",
    "    \n",
    "    geolocatorArc = ArcGIS() \n",
    "    geolocator = Nominatim()\n",
    "    #geolocator = GeocoderDotUS()\n",
    "    #geolocator = GeocodeFarm()\n",
    "    #geolocator = GeoNames()\n",
    "\n",
    "    lats = [None]*dfJobs.shape[0]\n",
    "    longs = [None]*dfJobs.shape[0]\n",
    "\n",
    "    for i in range(dfJobs.shape[0]):\n",
    "\n",
    "        place = dfJobs[field].ix[i]\n",
    "\n",
    "        if place != None:\n",
    "\n",
    "            '''\n",
    "            We need to manually correct some of the input so that we can find lat and longitude\n",
    "            '''\n",
    "            place = place.strip()\n",
    "            place = place.lower()\n",
    "            place = re.sub(r'sd', 'san diego', place)\n",
    "            place = re.sub(r'coranado', 'coronado', place)\n",
    "            place = re.sub(r'\\(.*?\\)', '', place)  # Remove anything in parentheses\n",
    "            place = re.sub(r'[^0-9a-zA-Z\\s]+', '', place)  # Remove anything non alpha-numeric or spaced\n",
    "            place = re.sub(r'apt\\s*\\w+', '', place)   # Remove apartment\n",
    "            place = re.sub(r'unit\\s*\\w+', '', place)  # Remove unit\n",
    "            place = re.sub(r'suite\\s*\\w+', '', place)  # Remove suite\n",
    "            place = re.sub(r'Ste\\s*\\w+', '', place)  # Remove ste\n",
    "            place = re.sub(r'(ca)\\s', ', california ', place) # Add comma before california\n",
    "\n",
    "            # Get rid of everything after the zip code\n",
    "            st = [m.end(0) for m in re.finditer(r'\\d{5}(?:[-\\s]\\d{4})?', place)]\n",
    "\n",
    "            if (len(st) != 0) and (st > 0):\n",
    "                place = place[0:st[-1]] # Only take the last match in case house number has same # digits as zip\n",
    "\n",
    "            # Remove the middle numbers\n",
    "            nums = re.findall(r'\\d+', place)[1:-1]\n",
    "            for n in nums:\n",
    "                place = re.sub(n, '', place)\n",
    "            \n",
    "            # Handles the 'To Be Determined' shorthand\n",
    "            # Often the destination is not known when making the appointment\n",
    "            # so some sort of text note gets added. Not sure how to differentiate\n",
    "            # note from a valid address. Most notes do not have digits in them. So let's use that.\n",
    "            # A valid address has to have at least one digit somewhere.\n",
    "            if not hasNumbers(place):  # If there are no numbers then this is not an address\n",
    "                place = ''\n",
    "                \n",
    "            #print place\n",
    "            \n",
    "            if len(place) > 0:\n",
    "                \n",
    "                # Nominatim gives better lats and long, but doesn't parse well.\n",
    "                location = geolocator.geocode(place, timeout=120)  # Don't timeout for 120 seconds\n",
    "                if (location is not None):\n",
    "                    lats[i] = location.latitude\n",
    "                    longs[i] = location.longitude\n",
    "                else:\n",
    "                    # Arc parses well, but is often a few blocks off on lat and long\n",
    "                    # I think it rounds off the decimal places too much.\n",
    "                    location = geolocatorArc.geocode(place, timeout=120)  # Don't timeout for 120 seconds\n",
    "                    if (location is not None):\n",
    "                        lats[i] = location.latitude\n",
    "                        longs[i] = location.longitude\n",
    "                    else:\n",
    "                        if dfJobs[field + ' ZIP CODE'].ix[i] is not None:\n",
    "                            # If not found, then lookup through zip code\n",
    "                            location = geolocator.geocode(dfJobs[field + ' ZIP CODE'].ix[i], timeout=120)\n",
    "                            if (location is not None):\n",
    "                                lats[i] = location.latitude\n",
    "                                longs[i] = location.longitude\n",
    "                            else:\n",
    "                                print ('Can''t find: {}'.format(place))\n",
    "                                \n",
    "    return [lats, longs]\n"
   ]
  },
  {
   "cell_type": "markdown",
   "metadata": {},
   "source": [
    "## Get latitude and longitude of the origin address"
   ]
  },
  {
   "cell_type": "code",
   "execution_count": 33,
   "metadata": {
    "collapsed": false
   },
   "outputs": [
    {
     "ename": "KeyboardInterrupt",
     "evalue": "",
     "output_type": "error",
     "traceback": [
      "\u001b[0;31m---------------------------------------------------------------------------\u001b[0m",
      "\u001b[0;31mKeyboardInterrupt\u001b[0m                         Traceback (most recent call last)",
      "\u001b[0;32m<ipython-input-33-07c58ba28680>\u001b[0m in \u001b[0;36m<module>\u001b[0;34m()\u001b[0m\n\u001b[0;32m----> 1\u001b[0;31m \u001b[0;34m[\u001b[0m\u001b[0mlats\u001b[0m\u001b[0;34m,\u001b[0m \u001b[0mlongs\u001b[0m\u001b[0;34m]\u001b[0m \u001b[0;34m=\u001b[0m \u001b[0mgetCoordinates\u001b[0m\u001b[0;34m(\u001b[0m\u001b[0mdfJobs\u001b[0m\u001b[0;34m,\u001b[0m \u001b[0;34m'ORIGIN'\u001b[0m\u001b[0;34m)\u001b[0m\u001b[0;34m\u001b[0m\u001b[0m\n\u001b[0m\u001b[1;32m      2\u001b[0m \u001b[0;34m\u001b[0m\u001b[0m\n\u001b[1;32m      3\u001b[0m \u001b[0;31m#Sanity check - San Diego driveable region should be approximately (32 to 34 lat, -108 to -118 long)\u001b[0m\u001b[0;34m\u001b[0m\u001b[0;34m\u001b[0m\u001b[0m\n\u001b[1;32m      4\u001b[0m \u001b[0mlats\u001b[0m\u001b[0;34m[\u001b[0m\u001b[0mlats\u001b[0m \u001b[0;34m<\u001b[0m \u001b[0;36m32\u001b[0m\u001b[0;34m]\u001b[0m \u001b[0;34m=\u001b[0m \u001b[0mNone\u001b[0m\u001b[0;34m\u001b[0m\u001b[0m\n\u001b[1;32m      5\u001b[0m \u001b[0mlats\u001b[0m\u001b[0;34m[\u001b[0m\u001b[0mlats\u001b[0m \u001b[0;34m>\u001b[0m \u001b[0;36m34\u001b[0m\u001b[0;34m]\u001b[0m \u001b[0;34m=\u001b[0m \u001b[0mNone\u001b[0m\u001b[0;34m\u001b[0m\u001b[0m\n",
      "\u001b[0;32m<ipython-input-31-6fc95df3b2b9>\u001b[0m in \u001b[0;36mgetCoordinates\u001b[0;34m(dfJobs, field)\u001b[0m\n\u001b[1;32m     78\u001b[0m                     \u001b[0;31m# Arc parses well, but is often a few blocks off on lat and long\u001b[0m\u001b[0;34m\u001b[0m\u001b[0;34m\u001b[0m\u001b[0m\n\u001b[1;32m     79\u001b[0m                     \u001b[0;31m# I think it rounds off the decimal places too much.\u001b[0m\u001b[0;34m\u001b[0m\u001b[0;34m\u001b[0m\u001b[0m\n\u001b[0;32m---> 80\u001b[0;31m                     \u001b[0mlocation\u001b[0m \u001b[0;34m=\u001b[0m \u001b[0mgeolocatorArc\u001b[0m\u001b[0;34m.\u001b[0m\u001b[0mgeocode\u001b[0m\u001b[0;34m(\u001b[0m\u001b[0mplace\u001b[0m\u001b[0;34m,\u001b[0m \u001b[0mtimeout\u001b[0m\u001b[0;34m=\u001b[0m\u001b[0;36m120\u001b[0m\u001b[0;34m)\u001b[0m  \u001b[0;31m# Don't timeout for 120 seconds\u001b[0m\u001b[0;34m\u001b[0m\u001b[0m\n\u001b[0m\u001b[1;32m     81\u001b[0m                     \u001b[0;32mif\u001b[0m \u001b[0;34m(\u001b[0m\u001b[0mlocation\u001b[0m \u001b[0;32mis\u001b[0m \u001b[0;32mnot\u001b[0m \u001b[0mNone\u001b[0m\u001b[0;34m)\u001b[0m\u001b[0;34m:\u001b[0m\u001b[0;34m\u001b[0m\u001b[0m\n\u001b[1;32m     82\u001b[0m                         \u001b[0mlats\u001b[0m\u001b[0;34m[\u001b[0m\u001b[0mi\u001b[0m\u001b[0;34m]\u001b[0m \u001b[0;34m=\u001b[0m \u001b[0mlocation\u001b[0m\u001b[0;34m.\u001b[0m\u001b[0mlatitude\u001b[0m\u001b[0;34m\u001b[0m\u001b[0m\n",
      "\u001b[0;32m/Users/pauldefusco/anaconda2/lib/python2.7/site-packages/geopy/geocoders/arcgis.pyc\u001b[0m in \u001b[0;36mgeocode\u001b[0;34m(self, query, exactly_one, timeout)\u001b[0m\n\u001b[1;32m    129\u001b[0m         \u001b[0murl\u001b[0m \u001b[0;34m=\u001b[0m \u001b[0;34m\"?\"\u001b[0m\u001b[0;34m.\u001b[0m\u001b[0mjoin\u001b[0m\u001b[0;34m(\u001b[0m\u001b[0;34m(\u001b[0m\u001b[0mself\u001b[0m\u001b[0;34m.\u001b[0m\u001b[0mapi\u001b[0m\u001b[0;34m,\u001b[0m \u001b[0murlencode\u001b[0m\u001b[0;34m(\u001b[0m\u001b[0mparams\u001b[0m\u001b[0;34m)\u001b[0m\u001b[0;34m)\u001b[0m\u001b[0;34m)\u001b[0m\u001b[0;34m\u001b[0m\u001b[0m\n\u001b[1;32m    130\u001b[0m         \u001b[0mlogger\u001b[0m\u001b[0;34m.\u001b[0m\u001b[0mdebug\u001b[0m\u001b[0;34m(\u001b[0m\u001b[0;34m\"%s.geocode: %s\"\u001b[0m\u001b[0;34m,\u001b[0m \u001b[0mself\u001b[0m\u001b[0;34m.\u001b[0m\u001b[0m__class__\u001b[0m\u001b[0;34m.\u001b[0m\u001b[0m__name__\u001b[0m\u001b[0;34m,\u001b[0m \u001b[0murl\u001b[0m\u001b[0;34m)\u001b[0m\u001b[0;34m\u001b[0m\u001b[0m\n\u001b[0;32m--> 131\u001b[0;31m         \u001b[0mresponse\u001b[0m \u001b[0;34m=\u001b[0m \u001b[0mself\u001b[0m\u001b[0;34m.\u001b[0m\u001b[0m_call_geocoder\u001b[0m\u001b[0;34m(\u001b[0m\u001b[0murl\u001b[0m\u001b[0;34m,\u001b[0m \u001b[0mtimeout\u001b[0m\u001b[0;34m=\u001b[0m\u001b[0mtimeout\u001b[0m\u001b[0;34m)\u001b[0m\u001b[0;34m\u001b[0m\u001b[0m\n\u001b[0m\u001b[1;32m    132\u001b[0m \u001b[0;34m\u001b[0m\u001b[0m\n\u001b[1;32m    133\u001b[0m         \u001b[0;31m# Handle any errors; recursing in the case of an expired token.\u001b[0m\u001b[0;34m\u001b[0m\u001b[0;34m\u001b[0m\u001b[0m\n",
      "\u001b[0;32m/Users/pauldefusco/anaconda2/lib/python2.7/site-packages/geopy/geocoders/base.pyc\u001b[0m in \u001b[0;36m_call_geocoder\u001b[0;34m(self, url, timeout, raw, requester, deserializer, **kwargs)\u001b[0m\n\u001b[1;32m    141\u001b[0m \u001b[0;34m\u001b[0m\u001b[0m\n\u001b[1;32m    142\u001b[0m         \u001b[0;32mtry\u001b[0m\u001b[0;34m:\u001b[0m\u001b[0;34m\u001b[0m\u001b[0m\n\u001b[0;32m--> 143\u001b[0;31m             \u001b[0mpage\u001b[0m \u001b[0;34m=\u001b[0m \u001b[0mrequester\u001b[0m\u001b[0;34m(\u001b[0m\u001b[0mreq\u001b[0m\u001b[0;34m,\u001b[0m \u001b[0mtimeout\u001b[0m\u001b[0;34m=\u001b[0m\u001b[0;34m(\u001b[0m\u001b[0mtimeout\u001b[0m \u001b[0;32mor\u001b[0m \u001b[0mself\u001b[0m\u001b[0;34m.\u001b[0m\u001b[0mtimeout\u001b[0m\u001b[0;34m)\u001b[0m\u001b[0;34m,\u001b[0m \u001b[0;34m**\u001b[0m\u001b[0mkwargs\u001b[0m\u001b[0;34m)\u001b[0m\u001b[0;34m\u001b[0m\u001b[0m\n\u001b[0m\u001b[1;32m    144\u001b[0m         \u001b[0;32mexcept\u001b[0m \u001b[0mException\u001b[0m \u001b[0;32mas\u001b[0m \u001b[0merror\u001b[0m\u001b[0;34m:\u001b[0m \u001b[0;31m# pylint: disable=W0703\u001b[0m\u001b[0;34m\u001b[0m\u001b[0m\n\u001b[1;32m    145\u001b[0m             message = (\n",
      "\u001b[0;32m/Users/pauldefusco/anaconda2/lib/python2.7/urllib2.pyc\u001b[0m in \u001b[0;36murlopen\u001b[0;34m(url, data, timeout, cafile, capath, cadefault, context)\u001b[0m\n\u001b[1;32m    152\u001b[0m     \u001b[0;32melse\u001b[0m\u001b[0;34m:\u001b[0m\u001b[0;34m\u001b[0m\u001b[0m\n\u001b[1;32m    153\u001b[0m         \u001b[0mopener\u001b[0m \u001b[0;34m=\u001b[0m \u001b[0m_opener\u001b[0m\u001b[0;34m\u001b[0m\u001b[0m\n\u001b[0;32m--> 154\u001b[0;31m     \u001b[0;32mreturn\u001b[0m \u001b[0mopener\u001b[0m\u001b[0;34m.\u001b[0m\u001b[0mopen\u001b[0m\u001b[0;34m(\u001b[0m\u001b[0murl\u001b[0m\u001b[0;34m,\u001b[0m \u001b[0mdata\u001b[0m\u001b[0;34m,\u001b[0m \u001b[0mtimeout\u001b[0m\u001b[0;34m)\u001b[0m\u001b[0;34m\u001b[0m\u001b[0m\n\u001b[0m\u001b[1;32m    155\u001b[0m \u001b[0;34m\u001b[0m\u001b[0m\n\u001b[1;32m    156\u001b[0m \u001b[0;32mdef\u001b[0m \u001b[0minstall_opener\u001b[0m\u001b[0;34m(\u001b[0m\u001b[0mopener\u001b[0m\u001b[0;34m)\u001b[0m\u001b[0;34m:\u001b[0m\u001b[0;34m\u001b[0m\u001b[0m\n",
      "\u001b[0;32m/Users/pauldefusco/anaconda2/lib/python2.7/urllib2.pyc\u001b[0m in \u001b[0;36mopen\u001b[0;34m(self, fullurl, data, timeout)\u001b[0m\n\u001b[1;32m    427\u001b[0m             \u001b[0mreq\u001b[0m \u001b[0;34m=\u001b[0m \u001b[0mmeth\u001b[0m\u001b[0;34m(\u001b[0m\u001b[0mreq\u001b[0m\u001b[0;34m)\u001b[0m\u001b[0;34m\u001b[0m\u001b[0m\n\u001b[1;32m    428\u001b[0m \u001b[0;34m\u001b[0m\u001b[0m\n\u001b[0;32m--> 429\u001b[0;31m         \u001b[0mresponse\u001b[0m \u001b[0;34m=\u001b[0m \u001b[0mself\u001b[0m\u001b[0;34m.\u001b[0m\u001b[0m_open\u001b[0m\u001b[0;34m(\u001b[0m\u001b[0mreq\u001b[0m\u001b[0;34m,\u001b[0m \u001b[0mdata\u001b[0m\u001b[0;34m)\u001b[0m\u001b[0;34m\u001b[0m\u001b[0m\n\u001b[0m\u001b[1;32m    430\u001b[0m \u001b[0;34m\u001b[0m\u001b[0m\n\u001b[1;32m    431\u001b[0m         \u001b[0;31m# post-process response\u001b[0m\u001b[0;34m\u001b[0m\u001b[0;34m\u001b[0m\u001b[0m\n",
      "\u001b[0;32m/Users/pauldefusco/anaconda2/lib/python2.7/urllib2.pyc\u001b[0m in \u001b[0;36m_open\u001b[0;34m(self, req, data)\u001b[0m\n\u001b[1;32m    445\u001b[0m         \u001b[0mprotocol\u001b[0m \u001b[0;34m=\u001b[0m \u001b[0mreq\u001b[0m\u001b[0;34m.\u001b[0m\u001b[0mget_type\u001b[0m\u001b[0;34m(\u001b[0m\u001b[0;34m)\u001b[0m\u001b[0;34m\u001b[0m\u001b[0m\n\u001b[1;32m    446\u001b[0m         result = self._call_chain(self.handle_open, protocol, protocol +\n\u001b[0;32m--> 447\u001b[0;31m                                   '_open', req)\n\u001b[0m\u001b[1;32m    448\u001b[0m         \u001b[0;32mif\u001b[0m \u001b[0mresult\u001b[0m\u001b[0;34m:\u001b[0m\u001b[0;34m\u001b[0m\u001b[0m\n\u001b[1;32m    449\u001b[0m             \u001b[0;32mreturn\u001b[0m \u001b[0mresult\u001b[0m\u001b[0;34m\u001b[0m\u001b[0m\n",
      "\u001b[0;32m/Users/pauldefusco/anaconda2/lib/python2.7/urllib2.pyc\u001b[0m in \u001b[0;36m_call_chain\u001b[0;34m(self, chain, kind, meth_name, *args)\u001b[0m\n\u001b[1;32m    405\u001b[0m             \u001b[0mfunc\u001b[0m \u001b[0;34m=\u001b[0m \u001b[0mgetattr\u001b[0m\u001b[0;34m(\u001b[0m\u001b[0mhandler\u001b[0m\u001b[0;34m,\u001b[0m \u001b[0mmeth_name\u001b[0m\u001b[0;34m)\u001b[0m\u001b[0;34m\u001b[0m\u001b[0m\n\u001b[1;32m    406\u001b[0m \u001b[0;34m\u001b[0m\u001b[0m\n\u001b[0;32m--> 407\u001b[0;31m             \u001b[0mresult\u001b[0m \u001b[0;34m=\u001b[0m \u001b[0mfunc\u001b[0m\u001b[0;34m(\u001b[0m\u001b[0;34m*\u001b[0m\u001b[0margs\u001b[0m\u001b[0;34m)\u001b[0m\u001b[0;34m\u001b[0m\u001b[0m\n\u001b[0m\u001b[1;32m    408\u001b[0m             \u001b[0;32mif\u001b[0m \u001b[0mresult\u001b[0m \u001b[0;32mis\u001b[0m \u001b[0;32mnot\u001b[0m \u001b[0mNone\u001b[0m\u001b[0;34m:\u001b[0m\u001b[0;34m\u001b[0m\u001b[0m\n\u001b[1;32m    409\u001b[0m                 \u001b[0;32mreturn\u001b[0m \u001b[0mresult\u001b[0m\u001b[0;34m\u001b[0m\u001b[0m\n",
      "\u001b[0;32m/Users/pauldefusco/anaconda2/lib/python2.7/urllib2.pyc\u001b[0m in \u001b[0;36mhttps_open\u001b[0;34m(self, req)\u001b[0m\n\u001b[1;32m   1239\u001b[0m         \u001b[0;32mdef\u001b[0m \u001b[0mhttps_open\u001b[0m\u001b[0;34m(\u001b[0m\u001b[0mself\u001b[0m\u001b[0;34m,\u001b[0m \u001b[0mreq\u001b[0m\u001b[0;34m)\u001b[0m\u001b[0;34m:\u001b[0m\u001b[0;34m\u001b[0m\u001b[0m\n\u001b[1;32m   1240\u001b[0m             return self.do_open(httplib.HTTPSConnection, req,\n\u001b[0;32m-> 1241\u001b[0;31m                 context=self._context)\n\u001b[0m\u001b[1;32m   1242\u001b[0m \u001b[0;34m\u001b[0m\u001b[0m\n\u001b[1;32m   1243\u001b[0m         \u001b[0mhttps_request\u001b[0m \u001b[0;34m=\u001b[0m \u001b[0mAbstractHTTPHandler\u001b[0m\u001b[0;34m.\u001b[0m\u001b[0mdo_request_\u001b[0m\u001b[0;34m\u001b[0m\u001b[0m\n",
      "\u001b[0;32m/Users/pauldefusco/anaconda2/lib/python2.7/urllib2.pyc\u001b[0m in \u001b[0;36mdo_open\u001b[0;34m(self, http_class, req, **http_conn_args)\u001b[0m\n\u001b[1;32m   1199\u001b[0m         \u001b[0;32melse\u001b[0m\u001b[0;34m:\u001b[0m\u001b[0;34m\u001b[0m\u001b[0m\n\u001b[1;32m   1200\u001b[0m             \u001b[0;32mtry\u001b[0m\u001b[0;34m:\u001b[0m\u001b[0;34m\u001b[0m\u001b[0m\n\u001b[0;32m-> 1201\u001b[0;31m                 \u001b[0mr\u001b[0m \u001b[0;34m=\u001b[0m \u001b[0mh\u001b[0m\u001b[0;34m.\u001b[0m\u001b[0mgetresponse\u001b[0m\u001b[0;34m(\u001b[0m\u001b[0mbuffering\u001b[0m\u001b[0;34m=\u001b[0m\u001b[0mTrue\u001b[0m\u001b[0;34m)\u001b[0m\u001b[0;34m\u001b[0m\u001b[0m\n\u001b[0m\u001b[1;32m   1202\u001b[0m             \u001b[0;32mexcept\u001b[0m \u001b[0mTypeError\u001b[0m\u001b[0;34m:\u001b[0m \u001b[0;31m# buffering kw not supported\u001b[0m\u001b[0;34m\u001b[0m\u001b[0m\n\u001b[1;32m   1203\u001b[0m                 \u001b[0mr\u001b[0m \u001b[0;34m=\u001b[0m \u001b[0mh\u001b[0m\u001b[0;34m.\u001b[0m\u001b[0mgetresponse\u001b[0m\u001b[0;34m(\u001b[0m\u001b[0;34m)\u001b[0m\u001b[0;34m\u001b[0m\u001b[0m\n",
      "\u001b[0;32m/Users/pauldefusco/anaconda2/lib/python2.7/httplib.pyc\u001b[0m in \u001b[0;36mgetresponse\u001b[0;34m(self, buffering)\u001b[0m\n\u001b[1;32m   1134\u001b[0m \u001b[0;34m\u001b[0m\u001b[0m\n\u001b[1;32m   1135\u001b[0m         \u001b[0;32mtry\u001b[0m\u001b[0;34m:\u001b[0m\u001b[0;34m\u001b[0m\u001b[0m\n\u001b[0;32m-> 1136\u001b[0;31m             \u001b[0mresponse\u001b[0m\u001b[0;34m.\u001b[0m\u001b[0mbegin\u001b[0m\u001b[0;34m(\u001b[0m\u001b[0;34m)\u001b[0m\u001b[0;34m\u001b[0m\u001b[0m\n\u001b[0m\u001b[1;32m   1137\u001b[0m             \u001b[0;32massert\u001b[0m \u001b[0mresponse\u001b[0m\u001b[0;34m.\u001b[0m\u001b[0mwill_close\u001b[0m \u001b[0;34m!=\u001b[0m \u001b[0m_UNKNOWN\u001b[0m\u001b[0;34m\u001b[0m\u001b[0m\n\u001b[1;32m   1138\u001b[0m             \u001b[0mself\u001b[0m\u001b[0;34m.\u001b[0m\u001b[0m__state\u001b[0m \u001b[0;34m=\u001b[0m \u001b[0m_CS_IDLE\u001b[0m\u001b[0;34m\u001b[0m\u001b[0m\n",
      "\u001b[0;32m/Users/pauldefusco/anaconda2/lib/python2.7/httplib.pyc\u001b[0m in \u001b[0;36mbegin\u001b[0;34m(self)\u001b[0m\n\u001b[1;32m    451\u001b[0m         \u001b[0;31m# read until we get a non-100 response\u001b[0m\u001b[0;34m\u001b[0m\u001b[0;34m\u001b[0m\u001b[0m\n\u001b[1;32m    452\u001b[0m         \u001b[0;32mwhile\u001b[0m \u001b[0mTrue\u001b[0m\u001b[0;34m:\u001b[0m\u001b[0;34m\u001b[0m\u001b[0m\n\u001b[0;32m--> 453\u001b[0;31m             \u001b[0mversion\u001b[0m\u001b[0;34m,\u001b[0m \u001b[0mstatus\u001b[0m\u001b[0;34m,\u001b[0m \u001b[0mreason\u001b[0m \u001b[0;34m=\u001b[0m \u001b[0mself\u001b[0m\u001b[0;34m.\u001b[0m\u001b[0m_read_status\u001b[0m\u001b[0;34m(\u001b[0m\u001b[0;34m)\u001b[0m\u001b[0;34m\u001b[0m\u001b[0m\n\u001b[0m\u001b[1;32m    454\u001b[0m             \u001b[0;32mif\u001b[0m \u001b[0mstatus\u001b[0m \u001b[0;34m!=\u001b[0m \u001b[0mCONTINUE\u001b[0m\u001b[0;34m:\u001b[0m\u001b[0;34m\u001b[0m\u001b[0m\n\u001b[1;32m    455\u001b[0m                 \u001b[0;32mbreak\u001b[0m\u001b[0;34m\u001b[0m\u001b[0m\n",
      "\u001b[0;32m/Users/pauldefusco/anaconda2/lib/python2.7/httplib.pyc\u001b[0m in \u001b[0;36m_read_status\u001b[0;34m(self)\u001b[0m\n\u001b[1;32m    407\u001b[0m     \u001b[0;32mdef\u001b[0m \u001b[0m_read_status\u001b[0m\u001b[0;34m(\u001b[0m\u001b[0mself\u001b[0m\u001b[0;34m)\u001b[0m\u001b[0;34m:\u001b[0m\u001b[0;34m\u001b[0m\u001b[0m\n\u001b[1;32m    408\u001b[0m         \u001b[0;31m# Initialize with Simple-Response defaults\u001b[0m\u001b[0;34m\u001b[0m\u001b[0;34m\u001b[0m\u001b[0m\n\u001b[0;32m--> 409\u001b[0;31m         \u001b[0mline\u001b[0m \u001b[0;34m=\u001b[0m \u001b[0mself\u001b[0m\u001b[0;34m.\u001b[0m\u001b[0mfp\u001b[0m\u001b[0;34m.\u001b[0m\u001b[0mreadline\u001b[0m\u001b[0;34m(\u001b[0m\u001b[0m_MAXLINE\u001b[0m \u001b[0;34m+\u001b[0m \u001b[0;36m1\u001b[0m\u001b[0;34m)\u001b[0m\u001b[0;34m\u001b[0m\u001b[0m\n\u001b[0m\u001b[1;32m    410\u001b[0m         \u001b[0;32mif\u001b[0m \u001b[0mlen\u001b[0m\u001b[0;34m(\u001b[0m\u001b[0mline\u001b[0m\u001b[0;34m)\u001b[0m \u001b[0;34m>\u001b[0m \u001b[0m_MAXLINE\u001b[0m\u001b[0;34m:\u001b[0m\u001b[0;34m\u001b[0m\u001b[0m\n\u001b[1;32m    411\u001b[0m             \u001b[0;32mraise\u001b[0m \u001b[0mLineTooLong\u001b[0m\u001b[0;34m(\u001b[0m\u001b[0;34m\"header line\"\u001b[0m\u001b[0;34m)\u001b[0m\u001b[0;34m\u001b[0m\u001b[0m\n",
      "\u001b[0;32m/Users/pauldefusco/anaconda2/lib/python2.7/socket.pyc\u001b[0m in \u001b[0;36mreadline\u001b[0;34m(self, size)\u001b[0m\n\u001b[1;32m    478\u001b[0m             \u001b[0;32mwhile\u001b[0m \u001b[0mTrue\u001b[0m\u001b[0;34m:\u001b[0m\u001b[0;34m\u001b[0m\u001b[0m\n\u001b[1;32m    479\u001b[0m                 \u001b[0;32mtry\u001b[0m\u001b[0;34m:\u001b[0m\u001b[0;34m\u001b[0m\u001b[0m\n\u001b[0;32m--> 480\u001b[0;31m                     \u001b[0mdata\u001b[0m \u001b[0;34m=\u001b[0m \u001b[0mself\u001b[0m\u001b[0;34m.\u001b[0m\u001b[0m_sock\u001b[0m\u001b[0;34m.\u001b[0m\u001b[0mrecv\u001b[0m\u001b[0;34m(\u001b[0m\u001b[0mself\u001b[0m\u001b[0;34m.\u001b[0m\u001b[0m_rbufsize\u001b[0m\u001b[0;34m)\u001b[0m\u001b[0;34m\u001b[0m\u001b[0m\n\u001b[0m\u001b[1;32m    481\u001b[0m                 \u001b[0;32mexcept\u001b[0m \u001b[0merror\u001b[0m\u001b[0;34m,\u001b[0m \u001b[0me\u001b[0m\u001b[0;34m:\u001b[0m\u001b[0;34m\u001b[0m\u001b[0m\n\u001b[1;32m    482\u001b[0m                     \u001b[0;32mif\u001b[0m \u001b[0me\u001b[0m\u001b[0;34m.\u001b[0m\u001b[0margs\u001b[0m\u001b[0;34m[\u001b[0m\u001b[0;36m0\u001b[0m\u001b[0;34m]\u001b[0m \u001b[0;34m==\u001b[0m \u001b[0mEINTR\u001b[0m\u001b[0;34m:\u001b[0m\u001b[0;34m\u001b[0m\u001b[0m\n",
      "\u001b[0;32m/Users/pauldefusco/anaconda2/lib/python2.7/ssl.pyc\u001b[0m in \u001b[0;36mrecv\u001b[0;34m(self, buflen, flags)\u001b[0m\n\u001b[1;32m    754\u001b[0m                     \u001b[0;34m\"non-zero flags not allowed in calls to recv() on %s\"\u001b[0m \u001b[0;34m%\u001b[0m\u001b[0;34m\u001b[0m\u001b[0m\n\u001b[1;32m    755\u001b[0m                     self.__class__)\n\u001b[0;32m--> 756\u001b[0;31m             \u001b[0;32mreturn\u001b[0m \u001b[0mself\u001b[0m\u001b[0;34m.\u001b[0m\u001b[0mread\u001b[0m\u001b[0;34m(\u001b[0m\u001b[0mbuflen\u001b[0m\u001b[0;34m)\u001b[0m\u001b[0;34m\u001b[0m\u001b[0m\n\u001b[0m\u001b[1;32m    757\u001b[0m         \u001b[0;32melse\u001b[0m\u001b[0;34m:\u001b[0m\u001b[0;34m\u001b[0m\u001b[0m\n\u001b[1;32m    758\u001b[0m             \u001b[0;32mreturn\u001b[0m \u001b[0mself\u001b[0m\u001b[0;34m.\u001b[0m\u001b[0m_sock\u001b[0m\u001b[0;34m.\u001b[0m\u001b[0mrecv\u001b[0m\u001b[0;34m(\u001b[0m\u001b[0mbuflen\u001b[0m\u001b[0;34m,\u001b[0m \u001b[0mflags\u001b[0m\u001b[0;34m)\u001b[0m\u001b[0;34m\u001b[0m\u001b[0m\n",
      "\u001b[0;32m/Users/pauldefusco/anaconda2/lib/python2.7/ssl.pyc\u001b[0m in \u001b[0;36mread\u001b[0;34m(self, len, buffer)\u001b[0m\n\u001b[1;32m    641\u001b[0m                 \u001b[0mv\u001b[0m \u001b[0;34m=\u001b[0m \u001b[0mself\u001b[0m\u001b[0;34m.\u001b[0m\u001b[0m_sslobj\u001b[0m\u001b[0;34m.\u001b[0m\u001b[0mread\u001b[0m\u001b[0;34m(\u001b[0m\u001b[0mlen\u001b[0m\u001b[0;34m,\u001b[0m \u001b[0mbuffer\u001b[0m\u001b[0;34m)\u001b[0m\u001b[0;34m\u001b[0m\u001b[0m\n\u001b[1;32m    642\u001b[0m             \u001b[0;32melse\u001b[0m\u001b[0;34m:\u001b[0m\u001b[0;34m\u001b[0m\u001b[0m\n\u001b[0;32m--> 643\u001b[0;31m                 \u001b[0mv\u001b[0m \u001b[0;34m=\u001b[0m \u001b[0mself\u001b[0m\u001b[0;34m.\u001b[0m\u001b[0m_sslobj\u001b[0m\u001b[0;34m.\u001b[0m\u001b[0mread\u001b[0m\u001b[0;34m(\u001b[0m\u001b[0mlen\u001b[0m\u001b[0;34m)\u001b[0m\u001b[0;34m\u001b[0m\u001b[0m\n\u001b[0m\u001b[1;32m    644\u001b[0m             \u001b[0;32mreturn\u001b[0m \u001b[0mv\u001b[0m\u001b[0;34m\u001b[0m\u001b[0m\n\u001b[1;32m    645\u001b[0m         \u001b[0;32mexcept\u001b[0m \u001b[0mSSLError\u001b[0m \u001b[0;32mas\u001b[0m \u001b[0mx\u001b[0m\u001b[0;34m:\u001b[0m\u001b[0;34m\u001b[0m\u001b[0m\n",
      "\u001b[0;31mKeyboardInterrupt\u001b[0m: "
     ]
    }
   ],
   "source": [
    "[lats, longs] = getCoordinates(dfJobs, 'ORIGIN')\n",
    "\n",
    "#Sanity check - San Diego driveable region should be approximately (32 to 34 lat, -108 to -118 long)\n",
    "lats[lats < 32] = None\n",
    "lats[lats > 34] = None\n",
    "longs[longs < -118] = None\n",
    "longs[longs > -108] = None\n",
    "\n",
    "dfJobs['ORIGIN LATITUDE'] = lats\n",
    "dfJobs['ORIGIN LONGITUDE'] = longs"
   ]
  },
  {
   "cell_type": "markdown",
   "metadata": {},
   "source": [
    "## Get latitude and longitude of the destination address"
   ]
  },
  {
   "cell_type": "code",
   "execution_count": null,
   "metadata": {
    "collapsed": false,
    "scrolled": false
   },
   "outputs": [],
   "source": [
    "[lats, longs] = getCoordinates(dfJobs, 'DESTINATION')\n",
    "\n",
    "#Sanity check - San Diego driveable region should be approximately (32 to 34 lat, -108 to -118 long)\n",
    "lats[lats < 32] = None\n",
    "lats[lats > 34] = None\n",
    "longs[longs < -118] = None\n",
    "long[longs > -108] = None\n",
    "\n",
    "dfJobs['DESTINATION LATITUDE'] = lats\n",
    "dfJobs['DESTINATION LONGITUDE'] = longs"
   ]
  },
  {
   "cell_type": "markdown",
   "metadata": {},
   "source": [
    "## Plot the address locations into a Google Map"
   ]
  },
  {
   "cell_type": "code",
   "execution_count": 344,
   "metadata": {
    "collapsed": false
   },
   "outputs": [],
   "source": [
    "#!pip install gmplot   # Google Maps plotter\n",
    "import gmplot\n",
    "\n",
    "gmap = gmplot.GoogleMapPlotter(32.7157, -117.1611, 9)  # Centered on San Diego, CA\n",
    "\n",
    "\n",
    "#gmap.plot(lats, longs, 'cornflowerblue', edge_width=10) # I think this plots line in between\n",
    "                                                         # So good for paths\n",
    "\n",
    "# This code just plots circles at the lat/lon coordinates\n",
    "gmap.scatter(dfJobs[~dfJobs['ORIGIN LATITUDE'].isnull()]['ORIGIN LATITUDE'], \n",
    "             dfJobs[~dfJobs['ORIGIN LATITUDE'].isnull()]['ORIGIN LONGITUDE'], \n",
    "             color = 'm', size = 70, marker=False, alpha=0.5)\n",
    "\n",
    "gmap.scatter(dfJobs[~dfJobs['DESTINATION LATITUDE'].isnull()]['DESTINATION LATITUDE'], \n",
    "             dfJobs[~dfJobs['DESTINATION LATITUDE'].isnull()]['DESTINATION LONGITUDE'], \n",
    "             color = 'teal', size = 70, marker=False, alpha=0.5)\n",
    "\n",
    "grad1 = [  # Blue to red gradient\n",
    "    [0, 255, 255, 0],\n",
    "    [0, 255, 255, 1],\n",
    "    [0, 191, 255, 1],\n",
    "    [0, 127, 255, 1],\n",
    "    [0, 63, 255, 1],\n",
    "    [0, 0, 255, 1],\n",
    "    [0, 0, 223, 1],\n",
    "    [0, 0, 191, 1],\n",
    "    [0, 0, 159, 1],\n",
    "    [0, 0, 127, 1],\n",
    "    [63, 0, 91, 1],\n",
    "    [127, 0, 63, 1],\n",
    "    [191, 0, 31, 1],\n",
    "    [255, 0, 0, 1]]\n",
    "\n",
    "# This code adds heatmaps to the lat/lon coordinates\n",
    "gmap.heatmap(dfJobs[~dfJobs['ORIGIN LATITUDE'].isnull()]['ORIGIN LATITUDE'], \n",
    "             dfJobs[~dfJobs['ORIGIN LATITUDE'].isnull()]['ORIGIN LONGITUDE'], \n",
    "             radius=10, threshold=10, \n",
    "             gradient=grad1)\n",
    "\n",
    "gmap.heatmap(dfJobs[~dfJobs['DESTINATION LATITUDE'].isnull()]['DESTINATION LATITUDE'], \n",
    "             dfJobs[~dfJobs['DESTINATION LATITUDE'].isnull()]['DESTINATION LONGITUDE'], \n",
    "             radius=10, threshold=10)\n",
    "\n",
    "gmap.draw('vectorMovingJobs.html')"
   ]
  },
  {
   "cell_type": "code",
   "execution_count": 345,
   "metadata": {
    "collapsed": false
   },
   "outputs": [
    {
     "data": {
      "text/plain": [
       "True"
      ]
     },
     "execution_count": 345,
     "metadata": {},
     "output_type": "execute_result"
    }
   ],
   "source": [
    "import webbrowser\n",
    "\n",
    "webbrowser.open_new_tab('vectorMovingJobs.html')"
   ]
  },
  {
   "cell_type": "markdown",
   "metadata": {},
   "source": [
    "## Save data to CSV file"
   ]
  },
  {
   "cell_type": "code",
   "execution_count": 339,
   "metadata": {
    "collapsed": true
   },
   "outputs": [],
   "source": [
    "#dfJobs.to_csv('VectorMovingJobs.csv')"
   ]
  },
  {
   "cell_type": "code",
   "execution_count": null,
   "metadata": {
    "collapsed": true
   },
   "outputs": [],
   "source": []
  }
 ],
 "metadata": {
  "anaconda-cloud": {},
  "kernelspec": {
   "display_name": "Python [default]",
   "language": "python",
   "name": "python2"
  },
  "language_info": {
   "codemirror_mode": {
    "name": "ipython",
    "version": 2
   },
   "file_extension": ".py",
   "mimetype": "text/x-python",
   "name": "python",
   "nbconvert_exporter": "python",
   "pygments_lexer": "ipython2",
   "version": "2.7.12"
  }
 },
 "nbformat": 4,
 "nbformat_minor": 2
}
