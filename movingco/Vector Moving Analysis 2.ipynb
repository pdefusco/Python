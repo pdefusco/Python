{
 "cells": [
  {
   "cell_type": "code",
   "execution_count": 2,
   "metadata": {
    "collapsed": true
   },
   "outputs": [],
   "source": [
    "import pandas as pd\n",
    "import matplotlib.pyplot as plt\n",
    "\n",
    "%matplotlib inline"
   ]
  },
  {
   "cell_type": "code",
   "execution_count": 4,
   "metadata": {
    "collapsed": false
   },
   "outputs": [],
   "source": [
    "dfJobs = pd.read_csv('VectorMovingJobs.csv')"
   ]
  },
  {
   "cell_type": "code",
   "execution_count": 10,
   "metadata": {
    "collapsed": false
   },
   "outputs": [
    {
     "data": {
      "text/plain": [
       "Unnamed: 0                                                   2\n",
       "DTSTART                                    2013-08-18 20:30:00\n",
       "DTEND                                      2013-08-18 21:30:00\n",
       "RRULE                                                      NaN\n",
       "DTSTAMP                                    2016-11-29 12:31:58\n",
       "UID                      97vcl68nn3potk63j78ds7vs54@google.com\n",
       "CREATED                                    2013-08-19 20:31:03\n",
       "DESCRIPTION                                                NaN\n",
       "ORIGIN                                                     NaN\n",
       "ORIGIN TYPE                                                NaN\n",
       "ORIGIN ZIP CODE                                            NaN\n",
       "DESTINATION                                                NaN\n",
       "DESTINATION TYPE                                           NaN\n",
       "DESTINATION ZIP CODE                                       NaN\n",
       "SIZE                                                       NaN\n",
       "CREW                                                       NaN\n",
       "NUMBER OF MOVERS                                           NaN\n",
       "TRUCKS                                                     NaN\n",
       "NUMBER OF TRUCKS                                           NaN\n",
       "RATE                                                       NaN\n",
       "CUSTOMER NAME                                              NaN\n",
       "CUSTOMER PHONE                                             NaN\n",
       "CUSTOMER EMAIL                                             NaN\n",
       "LAST MODIFIED                              2013-08-19 20:31:03\n",
       "LOCATION                                                   NaN\n",
       "SEQUENCE                                                     0\n",
       "SUMMARY                                 Send 146.25+46= 192.25\n",
       "CANCELLED                                                False\n",
       "TRANSP                                                  OPAQUE\n",
       "ORIGIN LATITUDE                                            NaN\n",
       "ORIGIN LONGITUDE                                           NaN\n",
       "DESTINATION LATITUDE                                       NaN\n",
       "DESTINATION LONGITUDE                                      NaN\n",
       "Name: 2, dtype: object"
      ]
     },
     "execution_count": 10,
     "metadata": {},
     "output_type": "execute_result"
    }
   ],
   "source": [
    "dfJobs.ix[2]"
   ]
  },
  {
   "cell_type": "code",
   "execution_count": 7,
   "metadata": {
    "collapsed": true
   },
   "outputs": [],
   "source": [
    "#!pip install gmplot   # Google Maps plotter\n",
    "import gmplot\n",
    "import webbrowser"
   ]
  },
  {
   "cell_type": "code",
   "execution_count": 9,
   "metadata": {
    "collapsed": true
   },
   "outputs": [],
   "source": [
    "def mapJobs(dfJobs, fileName = 'vectorMovingJobs.html'):\n",
    "\n",
    "    gmap = gmplot.GoogleMapPlotter(32.7157, -117.1611, 9)  # Centered on San Diego, CA\n",
    "\n",
    "\n",
    "    #gmap.plot(lats, longs, 'cornflowerblue', edge_width=10) # I think this plots line in between\n",
    "                                                             # So good for paths\n",
    "\n",
    "    # This code just plots circles at the lat/lon coordinates\n",
    "    gmap.scatter(dfJobs[~dfJobs['ORIGIN LATITUDE'].isnull()]['ORIGIN LATITUDE'], \n",
    "                 dfJobs[~dfJobs['ORIGIN LATITUDE'].isnull()]['ORIGIN LONGITUDE'], \n",
    "                 color = 'm', size = 70, marker=False, alpha=0.5)\n",
    "\n",
    "    gmap.scatter(dfJobs[~dfJobs['DESTINATION LATITUDE'].isnull()]['DESTINATION LATITUDE'], \n",
    "                 dfJobs[~dfJobs['DESTINATION LATITUDE'].isnull()]['DESTINATION LONGITUDE'], \n",
    "                 color = 'teal', size = 70, marker=False, alpha=0.5)\n",
    "\n",
    "    grad1 = [  # Blue to red gradient\n",
    "        [0, 255, 255, 0],\n",
    "        [0, 255, 255, 1],\n",
    "        [0, 191, 255, 1],\n",
    "        [0, 127, 255, 1],\n",
    "        [0, 63, 255, 1],\n",
    "        [0, 0, 255, 1],\n",
    "        [0, 0, 223, 1],\n",
    "        [0, 0, 191, 1],\n",
    "        [0, 0, 159, 1],\n",
    "        [0, 0, 127, 1],\n",
    "        [63, 0, 91, 1],\n",
    "        [127, 0, 63, 1],\n",
    "        [191, 0, 31, 1],\n",
    "        [255, 0, 0, 1]]\n",
    "\n",
    "    # This code adds heatmaps to the lat/lon coordinates\n",
    "    gmap.heatmap(dfJobs[~dfJobs['ORIGIN LATITUDE'].isnull()]['ORIGIN LATITUDE'], \n",
    "                 dfJobs[~dfJobs['ORIGIN LATITUDE'].isnull()]['ORIGIN LONGITUDE'], \n",
    "                 radius=10, threshold=10, \n",
    "                 gradient=grad1)\n",
    "\n",
    "    gmap.heatmap(dfJobs[~dfJobs['DESTINATION LATITUDE'].isnull()]['DESTINATION LATITUDE'], \n",
    "                 dfJobs[~dfJobs['DESTINATION LATITUDE'].isnull()]['DESTINATION LONGITUDE'], \n",
    "                 radius=10, threshold=10)\n",
    "\n",
    "    gmap.draw(fileName)\n",
    "    \n",
    "    webbrowser.open_new_tab(fileName)\n",
    "    "
   ]
  },
  {
   "cell_type": "code",
   "execution_count": 26,
   "metadata": {
    "collapsed": false
   },
   "outputs": [],
   "source": [
    "mon = ['Jan', 'Feb', 'Mar', 'Apr', 'May', 'Jun', 'Jul', 'Aug', 'Sep', 'Oct', 'Nov', 'Dec']\n",
    "\n",
    "for m in range(12):  # cycle through months\n",
    "\n",
    "    mapJobs(dfJobs[pd.DatetimeIndex(dfJobs['DTSTART']).month == (m+1)], 'jobMap{}.html'.format(mon[m]))"
   ]
  },
  {
   "cell_type": "code",
   "execution_count": 27,
   "metadata": {
    "collapsed": true
   },
   "outputs": [],
   "source": [
    "import folium"
   ]
  },
  {
   "cell_type": "code",
   "execution_count": 28,
   "metadata": {
    "collapsed": true
   },
   "outputs": [],
   "source": [
    "from folium.plugins import MarkerCluster"
   ]
  },
  {
   "cell_type": "code",
   "execution_count": 39,
   "metadata": {
    "collapsed": false
   },
   "outputs": [],
   "source": [
    "m = folium.Map(location=[32.7157, -117.1611],\n",
    "                  tiles='Cartodb Positron', zoom_start=7)\n",
    "\n",
    "locations = list(zip(dfJobs[~dfJobs['ORIGIN LATITUDE'].isnull()]['ORIGIN LATITUDE'], \n",
    "                 dfJobs[~dfJobs['ORIGIN LATITUDE'].isnull()]['ORIGIN LONGITUDE']))\n",
    "m.add_child(MarkerCluster(locations=locations))\n",
    "\n",
    "\n",
    "m.save('jobsFolium.html')"
   ]
  },
  {
   "cell_type": "code",
   "execution_count": null,
   "metadata": {
    "collapsed": true
   },
   "outputs": [],
   "source": []
  }
 ],
 "metadata": {
  "kernelspec": {
   "display_name": "Python 2",
   "language": "python",
   "name": "python2"
  },
  "language_info": {
   "codemirror_mode": {
    "name": "ipython",
    "version": 2
   },
   "file_extension": ".py",
   "mimetype": "text/x-python",
   "name": "python",
   "nbconvert_exporter": "python",
   "pygments_lexer": "ipython2",
   "version": "2.7.13"
  }
 },
 "nbformat": 4,
 "nbformat_minor": 2
}
