{
 "cells": [
  {
   "cell_type": "markdown",
   "metadata": {},
   "source": [
    "### Type Hinting"
   ]
  },
  {
   "cell_type": "code",
   "execution_count": 1,
   "metadata": {},
   "outputs": [],
   "source": [
    "#Type hinting is available in Python 3.5+ versions\n",
    "#Allows to set a type for input and output parameters when creating a function"
   ]
  },
  {
   "cell_type": "code",
   "execution_count": 2,
   "metadata": {},
   "outputs": [],
   "source": [
    "from typing import List"
   ]
  },
  {
   "cell_type": "code",
   "execution_count": 3,
   "metadata": {},
   "outputs": [],
   "source": [
    "def list_avg(sequence: List) -> float:\n",
    "    return sum(sequence)/len(sequence)"
   ]
  },
  {
   "cell_type": "code",
   "execution_count": 6,
   "metadata": {},
   "outputs": [
    {
     "data": {
      "text/plain": [
       "26.6"
      ]
     },
     "execution_count": 6,
     "metadata": {},
     "output_type": "execute_result"
    }
   ],
   "source": [
    "list_avg([123, 1, 2, 3, 4])"
   ]
  },
  {
   "cell_type": "code",
   "execution_count": 7,
   "metadata": {},
   "outputs": [],
   "source": [
    "#The above will work but it does not have error handling so if you provide an int it will return an error"
   ]
  },
  {
   "cell_type": "code",
   "execution_count": 8,
   "metadata": {},
   "outputs": [],
   "source": [
    "#Type hinting can be used in many ways. \n",
    "\n",
    "#Below is a class example using type hinting in many ways:\n",
    "\n",
    "class hint(object):\n",
    "    \n",
    "    TYPES = ('hardcover')\n",
    "    \n",
    "    def __init__(self, val: int):\n",
    "        self.val = val #using type hinting so val can only be an interger\n",
    "    \n",
    "    def __repr__(self) -> str: #using type hinting so returned value can only be a string\n",
    "        return f\"<Book {self.val}>\"\n",
    "    \n",
    "    @classmethod\n",
    "    def hardcover(cls, name: str, page_weight: int) -> \"Book\": #using type hinting so the \n",
    "                                                               #returned object is a class object\n",
    "                                                               #has to be in quotes\n",
    "        return cls(name, cls.TYPES[0], page_weight+100)"
   ]
  },
  {
   "cell_type": "code",
   "execution_count": null,
   "metadata": {},
   "outputs": [],
   "source": []
  }
 ],
 "metadata": {
  "kernelspec": {
   "display_name": "py36",
   "language": "python",
   "name": "py36"
  },
  "language_info": {
   "codemirror_mode": {
    "name": "ipython",
    "version": 3
   },
   "file_extension": ".py",
   "mimetype": "text/x-python",
   "name": "python",
   "nbconvert_exporter": "python",
   "pygments_lexer": "ipython3",
   "version": "3.6.7"
  }
 },
 "nbformat": 4,
 "nbformat_minor": 2
}
