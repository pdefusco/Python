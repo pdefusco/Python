{
 "cells": [
  {
   "cell_type": "markdown",
   "metadata": {},
   "source": [
    "### Error Handling"
   ]
  },
  {
   "cell_type": "code",
   "execution_count": 1,
   "metadata": {},
   "outputs": [],
   "source": [
    "def divide(dividend, divisor):\n",
    "    if divisor == 0:\n",
    "        raise ZeroDivisionError(\"Divisor Cannot be 0\")\n",
    "        raise ValueError\n",
    "        #There are many other OOB errors\n",
    "        \n",
    "    return dividend/divisor"
   ]
  },
  {
   "cell_type": "code",
   "execution_count": 2,
   "metadata": {},
   "outputs": [],
   "source": [
    "grades = []"
   ]
  },
  {
   "cell_type": "code",
   "execution_count": 5,
   "metadata": {},
   "outputs": [
    {
     "name": "stdout",
     "output_type": "stream",
     "text": [
      "Welcome to the program\n",
      "Divisor Cannot be 0\n",
      "There are no grades in your list\n",
      "End of the student average calculation\n"
     ]
    }
   ],
   "source": [
    "print(\"Welcome to the program\")\n",
    "try:\n",
    "    average = divide(sum(grades), len(grades))\n",
    "except ZeroDivisionError as e:\n",
    "    print(e)\n",
    "    print(\"There are no grades in your list\")\n",
    "#except   \n",
    "else:\n",
    "    print(\"The average grade is {average}.\") #code executed if there are no errors\n",
    "finally:\n",
    "    print(\"End of the student average calculation\") #code always runs no matter if there are or aren't errors"
   ]
  },
  {
   "cell_type": "markdown",
   "metadata": {},
   "source": [
    "### Custom Error Classes"
   ]
  },
  {
   "cell_type": "code",
   "execution_count": 9,
   "metadata": {},
   "outputs": [],
   "source": [
    "#custom errors can be defined also at the bottom if you like\n",
    "\n",
    "#custom error class which inherits from ValueError. Could inherit from other error classes\n",
    "#If not inheriting from other error classes you won't be able to raise it. You need the OOB class methods to raise errros\n",
    "class TooManyPagesReadError(ValueError):\n",
    "    pass #we essentially built a copy of ValueError with different name\n",
    "\n",
    "class Book:\n",
    "    def __init__(self, name:str, page_count:int):\n",
    "        self.name = name\n",
    "        self.page_count = page_count\n",
    "        self.pages_read = 0\n",
    "        \n",
    "    def __repr__(self):\n",
    "        return (\n",
    "            f\"<Book {self.name}, read {self.pages_read}, pages out of {self.page_count}>\"\n",
    "        )\n",
    "    \n",
    "    def read(self, pages: int):\n",
    "        if self.pages_read + pages > self.page_count:\n",
    "            raise TooManyPagesReadError( #This could also be done with ValueError but it's not specific enough\n",
    "                f\"You tried to read {self.pages_read} pages out of {self.page_count}\"\n",
    "            )\n",
    "        self.pages_read += pages\n",
    "        print(f\"You have now read {self.pages_read} pages out of {self.page_count}.\")"
   ]
  },
  {
   "cell_type": "code",
   "execution_count": 10,
   "metadata": {},
   "outputs": [
    {
     "name": "stdout",
     "output_type": "stream",
     "text": [
      "You have now read 35 pages out of 50.\n"
     ]
    },
    {
     "ename": "TooManyPagesReadError",
     "evalue": "You tried to read 35 pages out of 50",
     "output_type": "error",
     "traceback": [
      "\u001b[0;31m---------------------------------------------------------------------------\u001b[0m",
      "\u001b[0;31mTooManyPagesReadError\u001b[0m                     Traceback (most recent call last)",
      "\u001b[0;32m<ipython-input-10-a545774d0532>\u001b[0m in \u001b[0;36m<module>\u001b[0;34m\u001b[0m\n\u001b[1;32m      1\u001b[0m \u001b[0mpython101\u001b[0m \u001b[0;34m=\u001b[0m \u001b[0mBook\u001b[0m\u001b[0;34m(\u001b[0m\u001b[0;34m\"Python 101\"\u001b[0m\u001b[0;34m,\u001b[0m \u001b[0;36m50\u001b[0m\u001b[0;34m)\u001b[0m\u001b[0;34m\u001b[0m\u001b[0;34m\u001b[0m\u001b[0m\n\u001b[1;32m      2\u001b[0m \u001b[0mpython101\u001b[0m\u001b[0;34m.\u001b[0m\u001b[0mread\u001b[0m\u001b[0;34m(\u001b[0m\u001b[0;36m35\u001b[0m\u001b[0;34m)\u001b[0m\u001b[0;34m\u001b[0m\u001b[0;34m\u001b[0m\u001b[0m\n\u001b[0;32m----> 3\u001b[0;31m \u001b[0mpython101\u001b[0m\u001b[0;34m.\u001b[0m\u001b[0mread\u001b[0m\u001b[0;34m(\u001b[0m\u001b[0;36m50\u001b[0m\u001b[0;34m)\u001b[0m\u001b[0;34m\u001b[0m\u001b[0;34m\u001b[0m\u001b[0m\n\u001b[0m",
      "\u001b[0;32m<ipython-input-9-f91e01d98d56>\u001b[0m in \u001b[0;36mread\u001b[0;34m(self, pages)\u001b[0m\n\u001b[1;32m     20\u001b[0m         \u001b[0;32mif\u001b[0m \u001b[0mself\u001b[0m\u001b[0;34m.\u001b[0m\u001b[0mpages_read\u001b[0m \u001b[0;34m+\u001b[0m \u001b[0mpages\u001b[0m \u001b[0;34m>\u001b[0m \u001b[0mself\u001b[0m\u001b[0;34m.\u001b[0m\u001b[0mpage_count\u001b[0m\u001b[0;34m:\u001b[0m\u001b[0;34m\u001b[0m\u001b[0;34m\u001b[0m\u001b[0m\n\u001b[1;32m     21\u001b[0m             raise TooManyPagesReadError( #This could also be done with ValueError but it's not specific enough\n\u001b[0;32m---> 22\u001b[0;31m                 \u001b[0;34mf\"You tried to read {self.pages_read} pages out of {self.page_count}\"\u001b[0m\u001b[0;34m\u001b[0m\u001b[0;34m\u001b[0m\u001b[0m\n\u001b[0m\u001b[1;32m     23\u001b[0m             )\n\u001b[1;32m     24\u001b[0m         \u001b[0mself\u001b[0m\u001b[0;34m.\u001b[0m\u001b[0mpages_read\u001b[0m \u001b[0;34m+=\u001b[0m \u001b[0mpages\u001b[0m\u001b[0;34m\u001b[0m\u001b[0;34m\u001b[0m\u001b[0m\n",
      "\u001b[0;31mTooManyPagesReadError\u001b[0m: You tried to read 35 pages out of 50"
     ]
    }
   ],
   "source": [
    "python101 = Book(\"Python 101\", 50)\n",
    "python101.read(35)\n",
    "python101.read(50)"
   ]
  },
  {
   "cell_type": "code",
   "execution_count": null,
   "metadata": {},
   "outputs": [],
   "source": []
  }
 ],
 "metadata": {
  "kernelspec": {
   "display_name": "py36",
   "language": "python",
   "name": "py36"
  },
  "language_info": {
   "codemirror_mode": {
    "name": "ipython",
    "version": 3
   },
   "file_extension": ".py",
   "mimetype": "text/x-python",
   "name": "python",
   "nbconvert_exporter": "python",
   "pygments_lexer": "ipython3",
   "version": "3.6.7"
  }
 },
 "nbformat": 4,
 "nbformat_minor": 2
}
