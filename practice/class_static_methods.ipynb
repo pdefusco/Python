{
 "cells": [
  {
   "cell_type": "markdown",
   "metadata": {},
   "source": [
    "### Class and Static Methods"
   ]
  },
  {
   "cell_type": "code",
   "execution_count": 9,
   "metadata": {},
   "outputs": [],
   "source": [
    "#all methods that use self really use an instance of the class\n",
    "#they are thus called instance methods:\n",
    "\n",
    "class ClassTest:\n",
    "    \n",
    "    def instance_method(self):\n",
    "        print(f\"Called instance method of {self}\")\n",
    "    \n",
    "    #Class method: the class will be passed as a parameter to the method\n",
    "    @classmethod\n",
    "    def class_method(cls):\n",
    "        print(f\"Called class_method of {cls}\")\n",
    "        \n",
    "    #Static method: does not receive any argument parameters \n",
    "    @staticmethod\n",
    "    def static_method():\n",
    "        print(\"Called static method.\")"
   ]
  },
  {
   "cell_type": "code",
   "execution_count": 10,
   "metadata": {},
   "outputs": [],
   "source": [
    "test = ClassTest()"
   ]
  },
  {
   "cell_type": "code",
   "execution_count": 11,
   "metadata": {},
   "outputs": [
    {
     "name": "stdout",
     "output_type": "stream",
     "text": [
      "Called instance method of <__main__.ClassTest object at 0x10fa45a90>\n"
     ]
    }
   ],
   "source": [
    "test.instance_method()"
   ]
  },
  {
   "cell_type": "code",
   "execution_count": 12,
   "metadata": {},
   "outputs": [
    {
     "name": "stdout",
     "output_type": "stream",
     "text": [
      "Called instance method of <__main__.ClassTest object at 0x10fa45a90>\n"
     ]
    }
   ],
   "source": [
    "ClassTest.instance_method(test)"
   ]
  },
  {
   "cell_type": "code",
   "execution_count": 13,
   "metadata": {},
   "outputs": [
    {
     "name": "stdout",
     "output_type": "stream",
     "text": [
      "Called class_method of <class '__main__.ClassTest'>\n"
     ]
    }
   ],
   "source": [
    "ClassTest.class_method()"
   ]
  },
  {
   "cell_type": "code",
   "execution_count": 14,
   "metadata": {},
   "outputs": [
    {
     "name": "stdout",
     "output_type": "stream",
     "text": [
      "Called static method.\n"
     ]
    }
   ],
   "source": [
    "ClassTest.static_method()"
   ]
  },
  {
   "cell_type": "code",
   "execution_count": 15,
   "metadata": {},
   "outputs": [],
   "source": [
    "#Class methods are used as factories\n",
    "#Static methods just used to execute standard operations (not used too frequently)"
   ]
  },
  {
   "cell_type": "code",
   "execution_count": 24,
   "metadata": {},
   "outputs": [],
   "source": [
    "#Using class methods to generate different types of books:\n",
    "\n",
    "class Book(object):\n",
    "    \n",
    "    #The two types of books\n",
    "    TYPES = (\"hardcover\", \"paperback\")\n",
    "    \n",
    "    def __init__(self, name, book_type, weight):\n",
    "        self.name = name\n",
    "        self.book_type = book_type\n",
    "        self.weight = weight\n",
    "        \n",
    "    def __repr__(self):\n",
    "        return f\"<Book {self.name}, {self.book_type}, {self.weight}g>\"\n",
    "    \n",
    "    @classmethod\n",
    "    def hardcover(cls, name, page_weight):\n",
    "        return cls(name, cls.TYPES[0], page_weight + 100)\n",
    "    \n",
    "    @classmethod\n",
    "    def paperback(cls, name, page_weight):\n",
    "        return cls(name, cls.TYPES[1], page_weight)"
   ]
  },
  {
   "cell_type": "code",
   "execution_count": 25,
   "metadata": {},
   "outputs": [],
   "source": [
    "book = Book.hardcover(\"Harry Potter\", 1500)\n",
    "light = Book.paperback(\"Python 101\", 600)"
   ]
  },
  {
   "cell_type": "code",
   "execution_count": 26,
   "metadata": {},
   "outputs": [
    {
     "name": "stdout",
     "output_type": "stream",
     "text": [
      "<Book Harry Potter, hardcover, 1600g>\n"
     ]
    }
   ],
   "source": [
    "print(book)"
   ]
  },
  {
   "cell_type": "code",
   "execution_count": 27,
   "metadata": {},
   "outputs": [
    {
     "name": "stdout",
     "output_type": "stream",
     "text": [
      "<Book Python 101, paperback, 600g>\n"
     ]
    }
   ],
   "source": [
    "print(light)"
   ]
  },
  {
   "cell_type": "code",
   "execution_count": null,
   "metadata": {},
   "outputs": [],
   "source": []
  }
 ],
 "metadata": {
  "kernelspec": {
   "display_name": "py36",
   "language": "python",
   "name": "py36"
  },
  "language_info": {
   "codemirror_mode": {
    "name": "ipython",
    "version": 3
   },
   "file_extension": ".py",
   "mimetype": "text/x-python",
   "name": "python",
   "nbconvert_exporter": "python",
   "pygments_lexer": "ipython3",
   "version": "3.6.7"
  }
 },
 "nbformat": 4,
 "nbformat_minor": 2
}
