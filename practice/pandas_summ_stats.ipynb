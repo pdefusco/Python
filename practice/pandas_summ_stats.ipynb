{
 "cells": [
  {
   "cell_type": "markdown",
   "metadata": {},
   "source": [
    "Tutorial for missing values and summary statistics:"
   ]
  },
  {
   "cell_type": "code",
   "execution_count": 1,
   "metadata": {
    "collapsed": true
   },
   "outputs": [],
   "source": [
    "import pandas as pd\n",
    "import numpy as np"
   ]
  },
  {
   "cell_type": "code",
   "execution_count": 3,
   "metadata": {},
   "outputs": [],
   "source": [
    "listings = pd.read_csv('listings.csv')"
   ]
  },
  {
   "cell_type": "code",
   "execution_count": 7,
   "metadata": {},
   "outputs": [
    {
     "data": {
      "text/plain": [
       "id                                    int64\n",
       "listing_url                          object\n",
       "scrape_id                             int64\n",
       "last_scraped                         object\n",
       "name                                 object\n",
       "summary                              object\n",
       "space                                object\n",
       "description                          object\n",
       "experiences_offered                  object\n",
       "neighborhood_overview                object\n",
       "notes                                object\n",
       "transit                              object\n",
       "access                               object\n",
       "interaction                          object\n",
       "house_rules                          object\n",
       "thumbnail_url                        object\n",
       "medium_url                           object\n",
       "picture_url                          object\n",
       "xl_picture_url                       object\n",
       "host_id                               int64\n",
       "host_url                             object\n",
       "host_name                            object\n",
       "host_since                           object\n",
       "host_location                        object\n",
       "host_about                           object\n",
       "host_response_time                   object\n",
       "host_response_rate                   object\n",
       "host_acceptance_rate                 object\n",
       "host_is_superhost                    object\n",
       "host_thumbnail_url                   object\n",
       "                                     ...   \n",
       "guests_included                       int64\n",
       "extra_people                         object\n",
       "minimum_nights                        int64\n",
       "maximum_nights                        int64\n",
       "calendar_updated                     object\n",
       "has_availability                    float64\n",
       "availability_30                       int64\n",
       "availability_60                       int64\n",
       "availability_90                       int64\n",
       "availability_365                      int64\n",
       "calendar_last_scraped                object\n",
       "number_of_reviews                     int64\n",
       "first_review                         object\n",
       "last_review                          object\n",
       "review_scores_rating                float64\n",
       "review_scores_accuracy              float64\n",
       "review_scores_cleanliness           float64\n",
       "review_scores_checkin               float64\n",
       "review_scores_communication         float64\n",
       "review_scores_location              float64\n",
       "review_scores_value                 float64\n",
       "requires_license                     object\n",
       "license                             float64\n",
       "jurisdiction_names                   object\n",
       "instant_bookable                     object\n",
       "cancellation_policy                  object\n",
       "require_guest_profile_picture        object\n",
       "require_guest_phone_verification     object\n",
       "calculated_host_listings_count        int64\n",
       "reviews_per_month                   float64\n",
       "Length: 95, dtype: object"
      ]
     },
     "execution_count": 7,
     "metadata": {},
     "output_type": "execute_result"
    }
   ],
   "source": [
    "listings.dtypes"
   ]
  },
  {
   "cell_type": "code",
   "execution_count": 8,
   "metadata": {
    "collapsed": true
   },
   "outputs": [],
   "source": [
    "df = listings[['id', 'license', 'scrape_id', 'review_scores_rating']]"
   ]
  },
  {
   "cell_type": "code",
   "execution_count": 9,
   "metadata": {},
   "outputs": [
    {
     "data": {
      "text/plain": [
       "id                         0\n",
       "license                 6608\n",
       "scrape_id                  0\n",
       "review_scores_rating    2126\n",
       "dtype: int64"
      ]
     },
     "execution_count": 9,
     "metadata": {},
     "output_type": "execute_result"
    }
   ],
   "source": [
    "df.isnull().sum()"
   ]
  },
  {
   "cell_type": "code",
   "execution_count": 10,
   "metadata": {},
   "outputs": [
    {
     "data": {
      "text/html": [
       "<div>\n",
       "<style scoped>\n",
       "    .dataframe tbody tr th:only-of-type {\n",
       "        vertical-align: middle;\n",
       "    }\n",
       "\n",
       "    .dataframe tbody tr th {\n",
       "        vertical-align: top;\n",
       "    }\n",
       "\n",
       "    .dataframe thead th {\n",
       "        text-align: right;\n",
       "    }\n",
       "</style>\n",
       "<table border=\"1\" class=\"dataframe\">\n",
       "  <thead>\n",
       "    <tr style=\"text-align: right;\">\n",
       "      <th></th>\n",
       "      <th>id</th>\n",
       "      <th>license</th>\n",
       "      <th>scrape_id</th>\n",
       "      <th>review_scores_rating</th>\n",
       "    </tr>\n",
       "  </thead>\n",
       "  <tbody>\n",
       "  </tbody>\n",
       "</table>\n",
       "</div>"
      ],
      "text/plain": [
       "Empty DataFrame\n",
       "Columns: [id, license, scrape_id, review_scores_rating]\n",
       "Index: []"
      ]
     },
     "execution_count": 10,
     "metadata": {},
     "output_type": "execute_result"
    }
   ],
   "source": [
    "#we can simply drop nulls with dropna:\n",
    "#in our case, all 6608 license rows are nulls so dropna returns an empty df\n",
    "df.dropna()"
   ]
  },
  {
   "cell_type": "code",
   "execution_count": 12,
   "metadata": {},
   "outputs": [
    {
     "data": {
      "text/html": [
       "<div>\n",
       "<style scoped>\n",
       "    .dataframe tbody tr th:only-of-type {\n",
       "        vertical-align: middle;\n",
       "    }\n",
       "\n",
       "    .dataframe tbody tr th {\n",
       "        vertical-align: top;\n",
       "    }\n",
       "\n",
       "    .dataframe thead th {\n",
       "        text-align: right;\n",
       "    }\n",
       "</style>\n",
       "<table border=\"1\" class=\"dataframe\">\n",
       "  <thead>\n",
       "    <tr style=\"text-align: right;\">\n",
       "      <th></th>\n",
       "      <th>id</th>\n",
       "      <th>license</th>\n",
       "      <th>scrape_id</th>\n",
       "      <th>review_scores_rating</th>\n",
       "    </tr>\n",
       "  </thead>\n",
       "  <tbody>\n",
       "    <tr>\n",
       "      <th>0</th>\n",
       "      <td>False</td>\n",
       "      <td>True</td>\n",
       "      <td>False</td>\n",
       "      <td>False</td>\n",
       "    </tr>\n",
       "    <tr>\n",
       "      <th>1</th>\n",
       "      <td>False</td>\n",
       "      <td>True</td>\n",
       "      <td>False</td>\n",
       "      <td>False</td>\n",
       "    </tr>\n",
       "    <tr>\n",
       "      <th>2</th>\n",
       "      <td>False</td>\n",
       "      <td>True</td>\n",
       "      <td>False</td>\n",
       "      <td>False</td>\n",
       "    </tr>\n",
       "    <tr>\n",
       "      <th>3</th>\n",
       "      <td>False</td>\n",
       "      <td>True</td>\n",
       "      <td>False</td>\n",
       "      <td>False</td>\n",
       "    </tr>\n",
       "    <tr>\n",
       "      <th>4</th>\n",
       "      <td>False</td>\n",
       "      <td>True</td>\n",
       "      <td>False</td>\n",
       "      <td>True</td>\n",
       "    </tr>\n",
       "  </tbody>\n",
       "</table>\n",
       "</div>"
      ],
      "text/plain": [
       "      id  license  scrape_id  review_scores_rating\n",
       "0  False     True      False                 False\n",
       "1  False     True      False                 False\n",
       "2  False     True      False                 False\n",
       "3  False     True      False                 False\n",
       "4  False     True      False                  True"
      ]
     },
     "execution_count": 12,
     "metadata": {},
     "output_type": "execute_result"
    }
   ],
   "source": [
    "#we can return a df of booleans based on null/notnull with isnull:\n",
    "df.isnull().head()"
   ]
  },
  {
   "cell_type": "code",
   "execution_count": 18,
   "metadata": {},
   "outputs": [
    {
     "data": {
      "text/html": [
       "<div>\n",
       "<style scoped>\n",
       "    .dataframe tbody tr th:only-of-type {\n",
       "        vertical-align: middle;\n",
       "    }\n",
       "\n",
       "    .dataframe tbody tr th {\n",
       "        vertical-align: top;\n",
       "    }\n",
       "\n",
       "    .dataframe thead th {\n",
       "        text-align: right;\n",
       "    }\n",
       "</style>\n",
       "<table border=\"1\" class=\"dataframe\">\n",
       "  <thead>\n",
       "    <tr style=\"text-align: right;\">\n",
       "      <th></th>\n",
       "      <th>id</th>\n",
       "      <th>license</th>\n",
       "      <th>scrape_id</th>\n",
       "      <th>review_scores_rating</th>\n",
       "    </tr>\n",
       "  </thead>\n",
       "  <tbody>\n",
       "    <tr>\n",
       "      <th>0</th>\n",
       "      <td>11204286</td>\n",
       "      <td>NaN</td>\n",
       "      <td>20160706203047</td>\n",
       "      <td>100.0</td>\n",
       "    </tr>\n",
       "    <tr>\n",
       "      <th>1</th>\n",
       "      <td>7972006</td>\n",
       "      <td>NaN</td>\n",
       "      <td>20160706203047</td>\n",
       "      <td>100.0</td>\n",
       "    </tr>\n",
       "    <tr>\n",
       "      <th>2</th>\n",
       "      <td>7727710</td>\n",
       "      <td>NaN</td>\n",
       "      <td>20160706203047</td>\n",
       "      <td>80.0</td>\n",
       "    </tr>\n",
       "    <tr>\n",
       "      <th>3</th>\n",
       "      <td>13124681</td>\n",
       "      <td>NaN</td>\n",
       "      <td>20160706203047</td>\n",
       "      <td>100.0</td>\n",
       "    </tr>\n",
       "    <tr>\n",
       "      <th>4</th>\n",
       "      <td>3469225</td>\n",
       "      <td>NaN</td>\n",
       "      <td>20160706203047</td>\n",
       "      <td>NaN</td>\n",
       "    </tr>\n",
       "  </tbody>\n",
       "</table>\n",
       "</div>"
      ],
      "text/plain": [
       "         id  license       scrape_id  review_scores_rating\n",
       "0  11204286      NaN  20160706203047                 100.0\n",
       "1   7972006      NaN  20160706203047                 100.0\n",
       "2   7727710      NaN  20160706203047                  80.0\n",
       "3  13124681      NaN  20160706203047                 100.0\n",
       "4   3469225      NaN  20160706203047                   NaN"
      ]
     },
     "execution_count": 18,
     "metadata": {},
     "output_type": "execute_result"
    }
   ],
   "source": [
    "#dropna can take arguments to determine dropping criteria:\n",
    "#with the all criterion, only examples with all nulls will be dropped\n",
    "df.dropna(how='all').head()"
   ]
  },
  {
   "cell_type": "code",
   "execution_count": 26,
   "metadata": {},
   "outputs": [
    {
     "data": {
      "text/html": [
       "<div>\n",
       "<style scoped>\n",
       "    .dataframe tbody tr th:only-of-type {\n",
       "        vertical-align: middle;\n",
       "    }\n",
       "\n",
       "    .dataframe tbody tr th {\n",
       "        vertical-align: top;\n",
       "    }\n",
       "\n",
       "    .dataframe thead th {\n",
       "        text-align: right;\n",
       "    }\n",
       "</style>\n",
       "<table border=\"1\" class=\"dataframe\">\n",
       "  <thead>\n",
       "    <tr style=\"text-align: right;\">\n",
       "      <th></th>\n",
       "      <th>id</th>\n",
       "      <th>license</th>\n",
       "      <th>scrape_id</th>\n",
       "      <th>review_scores_rating</th>\n",
       "    </tr>\n",
       "  </thead>\n",
       "  <tbody>\n",
       "    <tr>\n",
       "      <th>0</th>\n",
       "      <td>11204286</td>\n",
       "      <td>NaN</td>\n",
       "      <td>20160706203047</td>\n",
       "      <td>100.0</td>\n",
       "    </tr>\n",
       "    <tr>\n",
       "      <th>1</th>\n",
       "      <td>7972006</td>\n",
       "      <td>NaN</td>\n",
       "      <td>20160706203047</td>\n",
       "      <td>100.0</td>\n",
       "    </tr>\n",
       "    <tr>\n",
       "      <th>2</th>\n",
       "      <td>7727710</td>\n",
       "      <td>NaN</td>\n",
       "      <td>20160706203047</td>\n",
       "      <td>80.0</td>\n",
       "    </tr>\n",
       "    <tr>\n",
       "      <th>3</th>\n",
       "      <td>13124681</td>\n",
       "      <td>NaN</td>\n",
       "      <td>20160706203047</td>\n",
       "      <td>100.0</td>\n",
       "    </tr>\n",
       "    <tr>\n",
       "      <th>4</th>\n",
       "      <td>3469225</td>\n",
       "      <td>NaN</td>\n",
       "      <td>20160706203047</td>\n",
       "      <td>NaN</td>\n",
       "    </tr>\n",
       "  </tbody>\n",
       "</table>\n",
       "</div>"
      ],
      "text/plain": [
       "         id  license       scrape_id  review_scores_rating\n",
       "0  11204286      NaN  20160706203047                 100.0\n",
       "1   7972006      NaN  20160706203047                 100.0\n",
       "2   7727710      NaN  20160706203047                  80.0\n",
       "3  13124681      NaN  20160706203047                 100.0\n",
       "4   3469225      NaN  20160706203047                   NaN"
      ]
     },
     "execution_count": 26,
     "metadata": {},
     "output_type": "execute_result"
    }
   ],
   "source": [
    "#we can further condition dropna based on the threshold param:\n",
    "#here we require 0 non null values in the examples\n",
    "df.dropna(thresh=0).head()"
   ]
  },
  {
   "cell_type": "code",
   "execution_count": 28,
   "metadata": {},
   "outputs": [
    {
     "data": {
      "text/html": [
       "<div>\n",
       "<style scoped>\n",
       "    .dataframe tbody tr th:only-of-type {\n",
       "        vertical-align: middle;\n",
       "    }\n",
       "\n",
       "    .dataframe tbody tr th {\n",
       "        vertical-align: top;\n",
       "    }\n",
       "\n",
       "    .dataframe thead th {\n",
       "        text-align: right;\n",
       "    }\n",
       "</style>\n",
       "<table border=\"1\" class=\"dataframe\">\n",
       "  <thead>\n",
       "    <tr style=\"text-align: right;\">\n",
       "      <th></th>\n",
       "      <th>id</th>\n",
       "      <th>license</th>\n",
       "      <th>scrape_id</th>\n",
       "      <th>review_scores_rating</th>\n",
       "    </tr>\n",
       "  </thead>\n",
       "  <tbody>\n",
       "  </tbody>\n",
       "</table>\n",
       "</div>"
      ],
      "text/plain": [
       "Empty DataFrame\n",
       "Columns: [id, license, scrape_id, review_scores_rating]\n",
       "Index: []"
      ]
     },
     "execution_count": 28,
     "metadata": {},
     "output_type": "execute_result"
    }
   ],
   "source": [
    "#here we require 4 non null values in the examples\n",
    "df.dropna(thresh=4).head()"
   ]
  },
  {
   "cell_type": "code",
   "execution_count": 31,
   "metadata": {},
   "outputs": [
    {
     "data": {
      "text/html": [
       "<div>\n",
       "<style scoped>\n",
       "    .dataframe tbody tr th:only-of-type {\n",
       "        vertical-align: middle;\n",
       "    }\n",
       "\n",
       "    .dataframe tbody tr th {\n",
       "        vertical-align: top;\n",
       "    }\n",
       "\n",
       "    .dataframe thead th {\n",
       "        text-align: right;\n",
       "    }\n",
       "</style>\n",
       "<table border=\"1\" class=\"dataframe\">\n",
       "  <thead>\n",
       "    <tr style=\"text-align: right;\">\n",
       "      <th></th>\n",
       "      <th>id</th>\n",
       "      <th>scrape_id</th>\n",
       "    </tr>\n",
       "  </thead>\n",
       "  <tbody>\n",
       "    <tr>\n",
       "      <th>0</th>\n",
       "      <td>11204286</td>\n",
       "      <td>20160706203047</td>\n",
       "    </tr>\n",
       "    <tr>\n",
       "      <th>1</th>\n",
       "      <td>7972006</td>\n",
       "      <td>20160706203047</td>\n",
       "    </tr>\n",
       "    <tr>\n",
       "      <th>2</th>\n",
       "      <td>7727710</td>\n",
       "      <td>20160706203047</td>\n",
       "    </tr>\n",
       "    <tr>\n",
       "      <th>3</th>\n",
       "      <td>13124681</td>\n",
       "      <td>20160706203047</td>\n",
       "    </tr>\n",
       "    <tr>\n",
       "      <th>4</th>\n",
       "      <td>3469225</td>\n",
       "      <td>20160706203047</td>\n",
       "    </tr>\n",
       "  </tbody>\n",
       "</table>\n",
       "</div>"
      ],
      "text/plain": [
       "         id       scrape_id\n",
       "0  11204286  20160706203047\n",
       "1   7972006  20160706203047\n",
       "2   7727710  20160706203047\n",
       "3  13124681  20160706203047\n",
       "4   3469225  20160706203047"
      ]
     },
     "execution_count": 31,
     "metadata": {},
     "output_type": "execute_result"
    }
   ],
   "source": [
    "#drop columns with missing values:\n",
    "#notice using the axis method will become deprecated in future pandas versions\n",
    "df.dropna(axis=1).head()"
   ]
  },
  {
   "cell_type": "markdown",
   "metadata": {},
   "source": [
    "FILLNA"
   ]
  },
  {
   "cell_type": "code",
   "execution_count": 33,
   "metadata": {},
   "outputs": [
    {
     "data": {
      "text/html": [
       "<div>\n",
       "<style scoped>\n",
       "    .dataframe tbody tr th:only-of-type {\n",
       "        vertical-align: middle;\n",
       "    }\n",
       "\n",
       "    .dataframe tbody tr th {\n",
       "        vertical-align: top;\n",
       "    }\n",
       "\n",
       "    .dataframe thead th {\n",
       "        text-align: right;\n",
       "    }\n",
       "</style>\n",
       "<table border=\"1\" class=\"dataframe\">\n",
       "  <thead>\n",
       "    <tr style=\"text-align: right;\">\n",
       "      <th></th>\n",
       "      <th>id</th>\n",
       "      <th>license</th>\n",
       "      <th>scrape_id</th>\n",
       "      <th>review_scores_rating</th>\n",
       "    </tr>\n",
       "  </thead>\n",
       "  <tbody>\n",
       "    <tr>\n",
       "      <th>0</th>\n",
       "      <td>11204286</td>\n",
       "      <td>1.0</td>\n",
       "      <td>20160706203047</td>\n",
       "      <td>100.0</td>\n",
       "    </tr>\n",
       "    <tr>\n",
       "      <th>1</th>\n",
       "      <td>7972006</td>\n",
       "      <td>0.0</td>\n",
       "      <td>20160706203047</td>\n",
       "      <td>100.0</td>\n",
       "    </tr>\n",
       "    <tr>\n",
       "      <th>2</th>\n",
       "      <td>7727710</td>\n",
       "      <td>0.0</td>\n",
       "      <td>20160706203047</td>\n",
       "      <td>80.0</td>\n",
       "    </tr>\n",
       "    <tr>\n",
       "      <th>3</th>\n",
       "      <td>13124681</td>\n",
       "      <td>0.0</td>\n",
       "      <td>20160706203047</td>\n",
       "      <td>100.0</td>\n",
       "    </tr>\n",
       "    <tr>\n",
       "      <th>4</th>\n",
       "      <td>3469225</td>\n",
       "      <td>0.0</td>\n",
       "      <td>20160706203047</td>\n",
       "      <td>0.0</td>\n",
       "    </tr>\n",
       "  </tbody>\n",
       "</table>\n",
       "</div>"
      ],
      "text/plain": [
       "         id  license       scrape_id  review_scores_rating\n",
       "0  11204286      1.0  20160706203047                 100.0\n",
       "1   7972006      0.0  20160706203047                 100.0\n",
       "2   7727710      0.0  20160706203047                  80.0\n",
       "3  13124681      0.0  20160706203047                 100.0\n",
       "4   3469225      0.0  20160706203047                   0.0"
      ]
     },
     "execution_count": 33,
     "metadata": {},
     "output_type": "execute_result"
    }
   ],
   "source": [
    "#we can use fillna to fill missing values:\n",
    "df.fillna(0).head()"
   ]
  },
  {
   "cell_type": "code",
   "execution_count": 39,
   "metadata": {},
   "outputs": [
    {
     "name": "stderr",
     "output_type": "stream",
     "text": [
      "/Users/pauldefusco/anaconda2/envs/py27/lib/python2.7/site-packages/ipykernel_launcher.py:3: SettingWithCopyWarning: \n",
      "A value is trying to be set on a copy of a slice from a DataFrame.\n",
      "Try using .loc[row_indexer,col_indexer] = value instead\n",
      "\n",
      "See the caveats in the documentation: http://pandas.pydata.org/pandas-docs/stable/indexing.html#indexing-view-versus-copy\n",
      "  This is separate from the ipykernel package so we can avoid doing imports until\n",
      "/Users/pauldefusco/anaconda2/envs/py27/lib/python2.7/site-packages/pandas/core/generic.py:4355: SettingWithCopyWarning: \n",
      "A value is trying to be set on a copy of a slice from a DataFrame\n",
      "\n",
      "See the caveats in the documentation: http://pandas.pydata.org/pandas-docs/stable/indexing.html#indexing-view-versus-copy\n",
      "  self._update_inplace(new_data)\n"
     ]
    }
   ],
   "source": [
    "#we can specify further conditions to be more accurate in the replacement:\n",
    "#to better demonstrate functionality, we create a col of nulls:\n",
    "df['nulls_col'] = np.nan\n",
    "df.fillna({'license': 1, 'nulls_col': 2}, inplace=True)"
   ]
  },
  {
   "cell_type": "code",
   "execution_count": 41,
   "metadata": {},
   "outputs": [
    {
     "data": {
      "text/html": [
       "<div>\n",
       "<style scoped>\n",
       "    .dataframe tbody tr th:only-of-type {\n",
       "        vertical-align: middle;\n",
       "    }\n",
       "\n",
       "    .dataframe tbody tr th {\n",
       "        vertical-align: top;\n",
       "    }\n",
       "\n",
       "    .dataframe thead th {\n",
       "        text-align: right;\n",
       "    }\n",
       "</style>\n",
       "<table border=\"1\" class=\"dataframe\">\n",
       "  <thead>\n",
       "    <tr style=\"text-align: right;\">\n",
       "      <th></th>\n",
       "      <th>id</th>\n",
       "      <th>license</th>\n",
       "      <th>scrape_id</th>\n",
       "      <th>review_scores_rating</th>\n",
       "      <th>nulls_col</th>\n",
       "    </tr>\n",
       "  </thead>\n",
       "  <tbody>\n",
       "    <tr>\n",
       "      <th>0</th>\n",
       "      <td>11204286</td>\n",
       "      <td>1.0</td>\n",
       "      <td>20160706203047</td>\n",
       "      <td>100.0</td>\n",
       "      <td>2.0</td>\n",
       "    </tr>\n",
       "    <tr>\n",
       "      <th>1</th>\n",
       "      <td>7972006</td>\n",
       "      <td>1.0</td>\n",
       "      <td>20160706203047</td>\n",
       "      <td>100.0</td>\n",
       "      <td>2.0</td>\n",
       "    </tr>\n",
       "    <tr>\n",
       "      <th>2</th>\n",
       "      <td>7727710</td>\n",
       "      <td>1.0</td>\n",
       "      <td>20160706203047</td>\n",
       "      <td>80.0</td>\n",
       "      <td>2.0</td>\n",
       "    </tr>\n",
       "    <tr>\n",
       "      <th>3</th>\n",
       "      <td>13124681</td>\n",
       "      <td>1.0</td>\n",
       "      <td>20160706203047</td>\n",
       "      <td>100.0</td>\n",
       "      <td>2.0</td>\n",
       "    </tr>\n",
       "    <tr>\n",
       "      <th>4</th>\n",
       "      <td>3469225</td>\n",
       "      <td>1.0</td>\n",
       "      <td>20160706203047</td>\n",
       "      <td>100.0</td>\n",
       "      <td>2.0</td>\n",
       "    </tr>\n",
       "  </tbody>\n",
       "</table>\n",
       "</div>"
      ],
      "text/plain": [
       "         id  license       scrape_id  review_scores_rating  nulls_col\n",
       "0  11204286      1.0  20160706203047                 100.0        2.0\n",
       "1   7972006      1.0  20160706203047                 100.0        2.0\n",
       "2   7727710      1.0  20160706203047                  80.0        2.0\n",
       "3  13124681      1.0  20160706203047                 100.0        2.0\n",
       "4   3469225      1.0  20160706203047                 100.0        2.0"
      ]
     },
     "execution_count": 41,
     "metadata": {},
     "output_type": "execute_result"
    }
   ],
   "source": [
    "#diffrent methods for filling the values can be set directly witht he method arg:\n",
    "#for example, one can use the ffill method to fill the entire column with the last \n",
    "#not null value\n",
    "df.fillna(method='ffill').head()"
   ]
  },
  {
   "cell_type": "markdown",
   "metadata": {},
   "source": [
    "Data Summarization:"
   ]
  },
  {
   "cell_type": "markdown",
   "metadata": {},
   "source": [
    "The NumPy package contains several functions that are useful here, but several summarization or reduction methods are built into Pandas data structures."
   ]
  },
  {
   "cell_type": "code",
   "execution_count": 42,
   "metadata": {},
   "outputs": [
    {
     "data": {
      "text/plain": [
       "id                      5.393800e+10\n",
       "license                 6.608000e+03\n",
       "scrape_id               1.332219e+17\n",
       "review_scores_rating    4.230130e+05\n",
       "nulls_col               1.321600e+04\n",
       "dtype: float64"
      ]
     },
     "execution_count": 42,
     "metadata": {},
     "output_type": "execute_result"
    }
   ],
   "source": [
    "df.sum()"
   ]
  },
  {
   "cell_type": "code",
   "execution_count": 44,
   "metadata": {},
   "outputs": [
    {
     "data": {
      "text/plain": [
       "id                      8.162531e+06\n",
       "license                 1.000000e+00\n",
       "scrape_id               2.016071e+13\n",
       "review_scores_rating    9.438041e+01\n",
       "nulls_col               2.000000e+00\n",
       "dtype: float64"
      ]
     },
     "execution_count": 44,
     "metadata": {},
     "output_type": "execute_result"
    }
   ],
   "source": [
    "df.mean()"
   ]
  },
  {
   "cell_type": "code",
   "execution_count": 45,
   "metadata": {},
   "outputs": [
    {
     "data": {
      "text/plain": [
       "id                      8.248510e+06\n",
       "license                 1.000000e+00\n",
       "scrape_id               2.016071e+13\n",
       "review_scores_rating    9.700000e+01\n",
       "nulls_col               2.000000e+00\n",
       "dtype: float64"
      ]
     },
     "execution_count": 45,
     "metadata": {},
     "output_type": "execute_result"
    }
   ],
   "source": [
    "df.median()"
   ]
  },
  {
   "cell_type": "code",
   "execution_count": 46,
   "metadata": {},
   "outputs": [
    {
     "data": {
      "text/plain": [
       "id                      8.162531e+06\n",
       "license                 1.000000e+00\n",
       "scrape_id               2.016071e+13\n",
       "review_scores_rating             NaN\n",
       "nulls_col               2.000000e+00\n",
       "dtype: float64"
      ]
     },
     "execution_count": 46,
     "metadata": {},
     "output_type": "execute_result"
    }
   ],
   "source": [
    "#the pandas summarization methods allow for handling nulls:\n",
    "#notice the values are slightly diffrent from above, \n",
    "#and very different fro the review_scores_rating col which had all nulls\n",
    "df.mean(skipna=False)"
   ]
  },
  {
   "cell_type": "code",
   "execution_count": 50,
   "metadata": {},
   "outputs": [
    {
     "data": {
      "text/plain": [
       "0    2.016072e+13\n",
       "1    2.016071e+13\n",
       "2    2.016071e+13\n",
       "3    2.016072e+13\n",
       "4    2.016071e+13\n",
       "dtype: float64"
      ]
     },
     "execution_count": 50,
     "metadata": {},
     "output_type": "execute_result"
    }
   ],
   "source": [
    "#we can use the axis method to summarize over rows rather than columns:\n",
    "df.sum(axis=1).head()"
   ]
  },
  {
   "cell_type": "code",
   "execution_count": 52,
   "metadata": {},
   "outputs": [
    {
     "data": {
      "text/plain": [
       "511     2.016072e+13\n",
       "1217    2.016072e+13\n",
       "4479    2.016072e+13\n",
       "991     2.016072e+13\n",
       "6301    2.016072e+13\n",
       "dtype: float64"
      ]
     },
     "execution_count": 52,
     "metadata": {},
     "output_type": "execute_result"
    }
   ],
   "source": [
    "#this operation returns a series of length len(df) with index df.index\n",
    "df.sum(axis=1).sort_values(ascending=False).head()"
   ]
  },
  {
   "cell_type": "code",
   "execution_count": 53,
   "metadata": {},
   "outputs": [
    {
     "data": {
      "text/html": [
       "<div>\n",
       "<style scoped>\n",
       "    .dataframe tbody tr th:only-of-type {\n",
       "        vertical-align: middle;\n",
       "    }\n",
       "\n",
       "    .dataframe tbody tr th {\n",
       "        vertical-align: top;\n",
       "    }\n",
       "\n",
       "    .dataframe thead th {\n",
       "        text-align: right;\n",
       "    }\n",
       "</style>\n",
       "<table border=\"1\" class=\"dataframe\">\n",
       "  <thead>\n",
       "    <tr style=\"text-align: right;\">\n",
       "      <th></th>\n",
       "      <th>id</th>\n",
       "      <th>license</th>\n",
       "      <th>scrape_id</th>\n",
       "      <th>review_scores_rating</th>\n",
       "      <th>nulls_col</th>\n",
       "    </tr>\n",
       "  </thead>\n",
       "  <tbody>\n",
       "    <tr>\n",
       "      <th>count</th>\n",
       "      <td>6.608000e+03</td>\n",
       "      <td>6608.0</td>\n",
       "      <td>6.608000e+03</td>\n",
       "      <td>4482.000000</td>\n",
       "      <td>6608.0</td>\n",
       "    </tr>\n",
       "    <tr>\n",
       "      <th>mean</th>\n",
       "      <td>8.162531e+06</td>\n",
       "      <td>1.0</td>\n",
       "      <td>2.016071e+13</td>\n",
       "      <td>94.380411</td>\n",
       "      <td>2.0</td>\n",
       "    </tr>\n",
       "    <tr>\n",
       "      <th>std</th>\n",
       "      <td>4.214318e+06</td>\n",
       "      <td>0.0</td>\n",
       "      <td>0.000000e+00</td>\n",
       "      <td>7.822489</td>\n",
       "      <td>0.0</td>\n",
       "    </tr>\n",
       "    <tr>\n",
       "      <th>min</th>\n",
       "      <td>6.000000e+00</td>\n",
       "      <td>1.0</td>\n",
       "      <td>2.016071e+13</td>\n",
       "      <td>20.000000</td>\n",
       "      <td>2.0</td>\n",
       "    </tr>\n",
       "    <tr>\n",
       "      <th>25%</th>\n",
       "      <td>4.697434e+06</td>\n",
       "      <td>1.0</td>\n",
       "      <td>2.016071e+13</td>\n",
       "      <td>92.000000</td>\n",
       "      <td>2.0</td>\n",
       "    </tr>\n",
       "    <tr>\n",
       "      <th>50%</th>\n",
       "      <td>8.248510e+06</td>\n",
       "      <td>1.0</td>\n",
       "      <td>2.016071e+13</td>\n",
       "      <td>97.000000</td>\n",
       "      <td>2.0</td>\n",
       "    </tr>\n",
       "    <tr>\n",
       "      <th>75%</th>\n",
       "      <td>1.225299e+07</td>\n",
       "      <td>1.0</td>\n",
       "      <td>2.016071e+13</td>\n",
       "      <td>100.000000</td>\n",
       "      <td>2.0</td>\n",
       "    </tr>\n",
       "    <tr>\n",
       "      <th>max</th>\n",
       "      <td>1.388293e+07</td>\n",
       "      <td>1.0</td>\n",
       "      <td>2.016071e+13</td>\n",
       "      <td>100.000000</td>\n",
       "      <td>2.0</td>\n",
       "    </tr>\n",
       "  </tbody>\n",
       "</table>\n",
       "</div>"
      ],
      "text/plain": [
       "                 id  license     scrape_id  review_scores_rating  nulls_col\n",
       "count  6.608000e+03   6608.0  6.608000e+03           4482.000000     6608.0\n",
       "mean   8.162531e+06      1.0  2.016071e+13             94.380411        2.0\n",
       "std    4.214318e+06      0.0  0.000000e+00              7.822489        0.0\n",
       "min    6.000000e+00      1.0  2.016071e+13             20.000000        2.0\n",
       "25%    4.697434e+06      1.0  2.016071e+13             92.000000        2.0\n",
       "50%    8.248510e+06      1.0  2.016071e+13             97.000000        2.0\n",
       "75%    1.225299e+07      1.0  2.016071e+13            100.000000        2.0\n",
       "max    1.388293e+07      1.0  2.016071e+13            100.000000        2.0"
      ]
     },
     "execution_count": 53,
     "metadata": {},
     "output_type": "execute_result"
    }
   ],
   "source": [
    "#the describe command will provide summary stats for the data passed to it\n",
    "df.describe()"
   ]
  },
  {
   "cell_type": "code",
   "execution_count": 54,
   "metadata": {},
   "outputs": [
    {
     "data": {
      "text/plain": [
       "count    6.608000e+03\n",
       "mean     2.016071e+13\n",
       "std      0.000000e+00\n",
       "min      2.016071e+13\n",
       "25%      2.016071e+13\n",
       "50%      2.016071e+13\n",
       "75%      2.016071e+13\n",
       "max      2.016071e+13\n",
       "Name: scrape_id, dtype: float64"
      ]
     },
     "execution_count": 54,
     "metadata": {},
     "output_type": "execute_result"
    }
   ],
   "source": [
    "#also works with a series:\n",
    "df.scrape_id.describe()"
   ]
  },
  {
   "cell_type": "code",
   "execution_count": 59,
   "metadata": {},
   "outputs": [
    {
     "data": {
      "text/plain": [
       "1245425.5272006723"
      ]
     },
     "execution_count": 59,
     "metadata": {},
     "output_type": "execute_result"
    }
   ],
   "source": [
    "#covariance between two variables:\n",
    "df['id'].cov(df['review_scores_rating'])"
   ]
  },
  {
   "cell_type": "code",
   "execution_count": 58,
   "metadata": {},
   "outputs": [
    {
     "data": {
      "text/plain": [
       "0.039797889430816025"
      ]
     },
     "execution_count": 58,
     "metadata": {},
     "output_type": "execute_result"
    }
   ],
   "source": [
    "#correlation between two variables:\n",
    "df['id'].corr(df['review_scores_rating'])"
   ]
  },
  {
   "cell_type": "code",
   "execution_count": 61,
   "metadata": {},
   "outputs": [
    {
     "name": "stdout",
     "output_type": "stream",
     "text": [
      "                                id  license     scrape_id  \\\n",
      "id                    1.776048e+13      0.0  5.362118e-10   \n",
      "license               0.000000e+00      0.0  0.000000e+00   \n",
      "scrape_id             5.362118e-10      0.0  7.520730e+00   \n",
      "review_scores_rating  1.245426e+06      0.0  6.330625e-15   \n",
      "nulls_col             0.000000e+00      0.0  0.000000e+00   \n",
      "\n",
      "                      review_scores_rating  nulls_col  \n",
      "id                            1.245426e+06        0.0  \n",
      "license                       0.000000e+00        0.0  \n",
      "scrape_id                     6.330625e-15        0.0  \n",
      "review_scores_rating          6.119134e+01        0.0  \n",
      "nulls_col                     0.000000e+00        0.0  \n",
      "                                id  license     scrape_id  \\\n",
      "id                    1.000000e+00      NaN  4.639584e-17   \n",
      "license                        NaN      NaN           NaN   \n",
      "scrape_id             4.639584e-17      NaN  1.000000e+00   \n",
      "review_scores_rating  3.979789e-02      NaN  1.125836e-15   \n",
      "nulls_col                      NaN      NaN           NaN   \n",
      "\n",
      "                      review_scores_rating  nulls_col  \n",
      "id                            3.979789e-02        NaN  \n",
      "license                                NaN        NaN  \n",
      "scrape_id                     1.125836e-15        NaN  \n",
      "review_scores_rating          1.000000e+00        NaN  \n",
      "nulls_col                              NaN        NaN  \n"
     ]
    }
   ],
   "source": [
    "#the commands can also be run on the entire df:\n",
    "print df.cov()\n",
    "print df.corr()"
   ]
  },
  {
   "cell_type": "code",
   "execution_count": 64,
   "metadata": {},
   "outputs": [],
   "source": [
    "#we can use hierarchical indexing to calculate summary stats for dataframes:\n",
    "hier_df = pd.DataFrame(np.arange(1,16).reshape(5,3),\n",
    "                      index=[['ind1', 'ind1', 'ind2', 'ind2', 'ind3'],\n",
    "                             [1,2,1,2,1]],\n",
    "                      columns = [['top','top','top'],['col1', 'col2', 'col3']])"
   ]
  },
  {
   "cell_type": "code",
   "execution_count": 81,
   "metadata": {},
   "outputs": [
    {
     "data": {
      "text/html": [
       "<div>\n",
       "<style scoped>\n",
       "    .dataframe tbody tr th:only-of-type {\n",
       "        vertical-align: middle;\n",
       "    }\n",
       "\n",
       "    .dataframe tbody tr th {\n",
       "        vertical-align: top;\n",
       "    }\n",
       "\n",
       "    .dataframe thead tr th {\n",
       "        text-align: left;\n",
       "    }\n",
       "</style>\n",
       "<table border=\"1\" class=\"dataframe\">\n",
       "  <thead>\n",
       "    <tr>\n",
       "      <th></th>\n",
       "      <th></th>\n",
       "      <th colspan=\"3\" halign=\"left\">top</th>\n",
       "    </tr>\n",
       "    <tr>\n",
       "      <th></th>\n",
       "      <th></th>\n",
       "      <th>col1</th>\n",
       "      <th>col2</th>\n",
       "      <th>col3</th>\n",
       "    </tr>\n",
       "  </thead>\n",
       "  <tbody>\n",
       "    <tr>\n",
       "      <th rowspan=\"2\" valign=\"top\">ind1</th>\n",
       "      <th>1</th>\n",
       "      <td>1</td>\n",
       "      <td>2</td>\n",
       "      <td>3</td>\n",
       "    </tr>\n",
       "    <tr>\n",
       "      <th>2</th>\n",
       "      <td>4</td>\n",
       "      <td>5</td>\n",
       "      <td>6</td>\n",
       "    </tr>\n",
       "    <tr>\n",
       "      <th rowspan=\"2\" valign=\"top\">ind2</th>\n",
       "      <th>1</th>\n",
       "      <td>7</td>\n",
       "      <td>8</td>\n",
       "      <td>9</td>\n",
       "    </tr>\n",
       "    <tr>\n",
       "      <th>2</th>\n",
       "      <td>10</td>\n",
       "      <td>11</td>\n",
       "      <td>12</td>\n",
       "    </tr>\n",
       "    <tr>\n",
       "      <th>ind3</th>\n",
       "      <th>1</th>\n",
       "      <td>13</td>\n",
       "      <td>14</td>\n",
       "      <td>15</td>\n",
       "    </tr>\n",
       "  </tbody>\n",
       "</table>\n",
       "</div>"
      ],
      "text/plain": [
       "        top          \n",
       "       col1 col2 col3\n",
       "ind1 1    1    2    3\n",
       "     2    4    5    6\n",
       "ind2 1    7    8    9\n",
       "     2   10   11   12\n",
       "ind3 1   13   14   15"
      ]
     },
     "execution_count": 81,
     "metadata": {},
     "output_type": "execute_result"
    }
   ],
   "source": [
    "hier_df"
   ]
  },
  {
   "cell_type": "code",
   "execution_count": 67,
   "metadata": {},
   "outputs": [
    {
     "data": {
      "text/plain": [
       "top  col1    5\n",
       "     col2    7\n",
       "     col3    9\n",
       "dtype: int64"
      ]
     },
     "execution_count": 67,
     "metadata": {},
     "output_type": "execute_result"
    }
   ],
   "source": [
    "#summing for subset of df\n",
    "hier_df.loc['ind1'].sum()"
   ]
  },
  {
   "cell_type": "code",
   "execution_count": 68,
   "metadata": {},
   "outputs": [
    {
     "data": {
      "text/plain": [
       "1     6\n",
       "2    15\n",
       "dtype: int64"
      ]
     },
     "execution_count": 68,
     "metadata": {},
     "output_type": "execute_result"
    }
   ],
   "source": [
    "#summing for subset of df\n",
    "hier_df.loc['ind1'].sum(axis=1)"
   ]
  },
  {
   "cell_type": "code",
   "execution_count": 69,
   "metadata": {},
   "outputs": [
    {
     "data": {
      "text/plain": [
       "top  col1     8.5\n",
       "     col2     9.5\n",
       "     col3    10.5\n",
       "dtype: float64"
      ]
     },
     "execution_count": 69,
     "metadata": {},
     "output_type": "execute_result"
    }
   ],
   "source": [
    "#mean for subset of df\n",
    "hier_df.loc['ind2'].mean()"
   ]
  },
  {
   "cell_type": "code",
   "execution_count": 71,
   "metadata": {},
   "outputs": [
    {
     "data": {
      "text/plain": [
       "1     8.0\n",
       "2    11.0\n",
       "dtype: float64"
      ]
     },
     "execution_count": 71,
     "metadata": {},
     "output_type": "execute_result"
    }
   ],
   "source": [
    "#mean for subset of df with axis=1\n",
    "hier_df.loc['ind2'].mean(axis=1)"
   ]
  },
  {
   "cell_type": "code",
   "execution_count": 78,
   "metadata": {},
   "outputs": [
    {
     "data": {
      "text/html": [
       "<div>\n",
       "<style scoped>\n",
       "    .dataframe tbody tr th:only-of-type {\n",
       "        vertical-align: middle;\n",
       "    }\n",
       "\n",
       "    .dataframe tbody tr th {\n",
       "        vertical-align: top;\n",
       "    }\n",
       "\n",
       "    .dataframe thead tr th {\n",
       "        text-align: left;\n",
       "    }\n",
       "</style>\n",
       "<table border=\"1\" class=\"dataframe\">\n",
       "  <thead>\n",
       "    <tr>\n",
       "      <th></th>\n",
       "      <th></th>\n",
       "      <th colspan=\"3\" halign=\"left\">top</th>\n",
       "    </tr>\n",
       "    <tr>\n",
       "      <th></th>\n",
       "      <th></th>\n",
       "      <th>col1</th>\n",
       "      <th>col2</th>\n",
       "      <th>col3</th>\n",
       "    </tr>\n",
       "  </thead>\n",
       "  <tbody>\n",
       "    <tr>\n",
       "      <th rowspan=\"3\" valign=\"top\">top</th>\n",
       "      <th>col1</th>\n",
       "      <td>1.0</td>\n",
       "      <td>1.0</td>\n",
       "      <td>1.0</td>\n",
       "    </tr>\n",
       "    <tr>\n",
       "      <th>col2</th>\n",
       "      <td>1.0</td>\n",
       "      <td>1.0</td>\n",
       "      <td>1.0</td>\n",
       "    </tr>\n",
       "    <tr>\n",
       "      <th>col3</th>\n",
       "      <td>1.0</td>\n",
       "      <td>1.0</td>\n",
       "      <td>1.0</td>\n",
       "    </tr>\n",
       "  </tbody>\n",
       "</table>\n",
       "</div>"
      ],
      "text/plain": [
       "          top          \n",
       "         col1 col2 col3\n",
       "top col1  1.0  1.0  1.0\n",
       "    col2  1.0  1.0  1.0\n",
       "    col3  1.0  1.0  1.0"
      ]
     },
     "execution_count": 78,
     "metadata": {},
     "output_type": "execute_result"
    }
   ],
   "source": [
    "hier_df.loc['ind1'].corr()"
   ]
  },
  {
   "cell_type": "code",
   "execution_count": 80,
   "metadata": {},
   "outputs": [
    {
     "data": {
      "text/html": [
       "<div>\n",
       "<style scoped>\n",
       "    .dataframe tbody tr th:only-of-type {\n",
       "        vertical-align: middle;\n",
       "    }\n",
       "\n",
       "    .dataframe tbody tr th {\n",
       "        vertical-align: top;\n",
       "    }\n",
       "\n",
       "    .dataframe thead tr th {\n",
       "        text-align: left;\n",
       "    }\n",
       "</style>\n",
       "<table border=\"1\" class=\"dataframe\">\n",
       "  <thead>\n",
       "    <tr>\n",
       "      <th></th>\n",
       "      <th></th>\n",
       "      <th colspan=\"3\" halign=\"left\">top</th>\n",
       "    </tr>\n",
       "    <tr>\n",
       "      <th></th>\n",
       "      <th></th>\n",
       "      <th>col1</th>\n",
       "      <th>col2</th>\n",
       "      <th>col3</th>\n",
       "    </tr>\n",
       "  </thead>\n",
       "  <tbody>\n",
       "    <tr>\n",
       "      <th rowspan=\"3\" valign=\"top\">top</th>\n",
       "      <th>col1</th>\n",
       "      <td>4.5</td>\n",
       "      <td>4.5</td>\n",
       "      <td>4.5</td>\n",
       "    </tr>\n",
       "    <tr>\n",
       "      <th>col2</th>\n",
       "      <td>4.5</td>\n",
       "      <td>4.5</td>\n",
       "      <td>4.5</td>\n",
       "    </tr>\n",
       "    <tr>\n",
       "      <th>col3</th>\n",
       "      <td>4.5</td>\n",
       "      <td>4.5</td>\n",
       "      <td>4.5</td>\n",
       "    </tr>\n",
       "  </tbody>\n",
       "</table>\n",
       "</div>"
      ],
      "text/plain": [
       "          top          \n",
       "         col1 col2 col3\n",
       "top col1  4.5  4.5  4.5\n",
       "    col2  4.5  4.5  4.5\n",
       "    col3  4.5  4.5  4.5"
      ]
     },
     "execution_count": 80,
     "metadata": {},
     "output_type": "execute_result"
    }
   ],
   "source": [
    "hier_df.loc['ind2'].cov()"
   ]
  },
  {
   "cell_type": "code",
   "execution_count": 85,
   "metadata": {},
   "outputs": [
    {
     "data": {
      "text/plain": [
       "1     6\n",
       "2    15\n",
       "dtype: int64"
      ]
     },
     "execution_count": 85,
     "metadata": {},
     "output_type": "execute_result"
    }
   ],
   "source": [
    "#one can also use more complex filtering options:\n",
    "hier_df.loc['ind1', ['top', 'col2']].sum(axis=1)"
   ]
  },
  {
   "cell_type": "code",
   "execution_count": 92,
   "metadata": {},
   "outputs": [
    {
     "data": {
      "text/html": [
       "<div>\n",
       "<style scoped>\n",
       "    .dataframe tbody tr th:only-of-type {\n",
       "        vertical-align: middle;\n",
       "    }\n",
       "\n",
       "    .dataframe tbody tr th {\n",
       "        vertical-align: top;\n",
       "    }\n",
       "\n",
       "    .dataframe thead tr th {\n",
       "        text-align: left;\n",
       "    }\n",
       "</style>\n",
       "<table border=\"1\" class=\"dataframe\">\n",
       "  <thead>\n",
       "    <tr>\n",
       "      <th></th>\n",
       "      <th colspan=\"3\" halign=\"left\">top</th>\n",
       "    </tr>\n",
       "    <tr>\n",
       "      <th></th>\n",
       "      <th>col1</th>\n",
       "      <th>col2</th>\n",
       "      <th>col3</th>\n",
       "    </tr>\n",
       "  </thead>\n",
       "  <tbody>\n",
       "    <tr>\n",
       "      <th>1</th>\n",
       "      <td>21</td>\n",
       "      <td>24</td>\n",
       "      <td>27</td>\n",
       "    </tr>\n",
       "    <tr>\n",
       "      <th>2</th>\n",
       "      <td>14</td>\n",
       "      <td>16</td>\n",
       "      <td>18</td>\n",
       "    </tr>\n",
       "  </tbody>\n",
       "</table>\n",
       "</div>"
      ],
      "text/plain": [
       "   top          \n",
       "  col1 col2 col3\n",
       "1   21   24   27\n",
       "2   14   16   18"
      ]
     },
     "execution_count": 92,
     "metadata": {},
     "output_type": "execute_result"
    }
   ],
   "source": [
    "#you can also aggregate by passing the level explicitly:\n",
    "hier_df.sum(level=1)"
   ]
  },
  {
   "cell_type": "code",
   "execution_count": null,
   "metadata": {
    "collapsed": true
   },
   "outputs": [],
   "source": []
  }
 ],
 "metadata": {
  "kernelspec": {
   "display_name": "Python 2",
   "language": "python",
   "name": "python2"
  },
  "language_info": {
   "codemirror_mode": {
    "name": "ipython",
    "version": 2
   },
   "file_extension": ".py",
   "mimetype": "text/x-python",
   "name": "python",
   "nbconvert_exporter": "python",
   "pygments_lexer": "ipython2",
   "version": "2.7.14"
  }
 },
 "nbformat": 4,
 "nbformat_minor": 2
}
