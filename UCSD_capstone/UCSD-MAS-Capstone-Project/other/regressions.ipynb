{
 "cells": [
  {
   "cell_type": "markdown",
   "metadata": {},
   "source": [
    "# Linear & Non Linear Regression Notebook"
   ]
  },
  {
   "cell_type": "markdown",
   "metadata": {},
   "source": [
    "Notebook to experiment solely with Linear Regression Models"
   ]
  },
  {
   "cell_type": "code",
   "execution_count": 18,
   "metadata": {},
   "outputs": [],
   "source": [
    "import pandas as pd\n",
    "import numpy as np\n",
    "import scipy.stats as stats\n",
    "import statsmodels.api as sm\n",
    "import statsmodels.formula.api as smf\n",
    "import statsmodels.stats.api as sms\n",
    "from __future__ import print_function\n",
    "from statsmodels.compat import lzip\n",
    "import matplotlib.pyplot as plt\n",
    "import numpy as np\n",
    "import pyarrow as pa\n",
    "import pyarrow.parquet as pq\n",
    "import sklearn as sk\n",
    "from sklearn.linear_model import LinearRegression"
   ]
  },
  {
   "cell_type": "code",
   "execution_count": 2,
   "metadata": {
    "collapsed": true
   },
   "outputs": [],
   "source": [
    "master = pd.read_parquet('master.parquet',engine='fastparquet')"
   ]
  },
  {
   "cell_type": "code",
   "execution_count": 3,
   "metadata": {
    "collapsed": true
   },
   "outputs": [],
   "source": [
    "master = master.select_dtypes(include=['float64','int64'])"
   ]
  },
  {
   "cell_type": "code",
   "execution_count": 4,
   "metadata": {
    "collapsed": true
   },
   "outputs": [],
   "source": [
    "master=master.fillna(0)"
   ]
  },
  {
   "cell_type": "code",
   "execution_count": 5,
   "metadata": {
    "collapsed": true
   },
   "outputs": [],
   "source": [
    "X = master.drop('price_y', axis = 1)"
   ]
  },
  {
   "cell_type": "code",
   "execution_count": 6,
   "metadata": {
    "collapsed": true
   },
   "outputs": [],
   "source": [
    "y = master['price_y']"
   ]
  },
  {
   "cell_type": "markdown",
   "metadata": {},
   "source": [
    "Using Stats Models to do Regression - Provides more info than SKlearn in the summary:"
   ]
  },
  {
   "cell_type": "code",
   "execution_count": 7,
   "metadata": {
    "collapsed": true
   },
   "outputs": [],
   "source": [
    "X2 = sm.add_constant(X)\n",
    "X2 = X2.drop(columns=['listing_id','id','scrape_id','host_id','longitude', 'latitude', 'zipcode','has_availability','license'])"
   ]
  },
  {
   "cell_type": "code",
   "execution_count": 8,
   "metadata": {
    "collapsed": true
   },
   "outputs": [],
   "source": [
    "est = sm.OLS(y, X2)\n",
    "est2 = est.fit()"
   ]
  },
  {
   "cell_type": "markdown",
   "metadata": {},
   "source": [
    "Plotting the Price vs Square Feet"
   ]
  },
  {
   "cell_type": "code",
   "execution_count": 9,
   "metadata": {
    "collapsed": true
   },
   "outputs": [],
   "source": [
    "from statsmodels.graphics.regressionplots import plot_fit"
   ]
  },
  {
   "cell_type": "code",
   "execution_count": 10,
   "metadata": {
    "collapsed": true
   },
   "outputs": [],
   "source": [
    "mod = sm.OLS(y.head(10000),X2['bedrooms'].head(10000))\n",
    "results = mod.fit()"
   ]
  },
  {
   "cell_type": "code",
   "execution_count": 11,
   "metadata": {},
   "outputs": [
    {
     "data": {
      "image/png": "[encoded data removed]",
      "text/plain": [
       "<matplotlib.figure.Figure at 0x1141af9d0>"
      ]
     },
     "metadata": {},
     "output_type": "display_data"
    }
   ],
   "source": [
    "fig, ax = plt.subplots(figsize=(12,12))\n",
    "fig = sm.graphics.plot_fit(results, 0, ax=ax)\n",
    "ax.set_ylabel(\"Price\")\n",
    "ax.set_xlabel(\"Bedrooms\")\n",
    "ax.set_title(\"Linear Regression\")\n",
    "plt.show()"
   ]
  },
  {
   "cell_type": "code",
   "execution_count": null,
   "metadata": {},
   "outputs": [],
   "source": []
  },
  {
   "cell_type": "code",
   "execution_count": 12,
   "metadata": {},
   "outputs": [
    {
     "data": {
      "text/html": [
       "<table class=\"simpletable\">\n",
       "<caption>OLS Regression Results</caption>\n",
       "<tr>\n",
       "  <th>Dep. Variable:</th>         <td>price_y</td>     <th>  R-squared:         </th>  <td>   0.761</td>  \n",
       "</tr>\n",
       "<tr>\n",
       "  <th>Model:</th>                   <td>OLS</td>       <th>  Adj. R-squared:    </th>  <td>   0.761</td>  \n",
       "</tr>\n",
       "<tr>\n",
       "  <th>Method:</th>             <td>Least Squares</td>  <th>  F-statistic:       </th>  <td>9.298e+04</td> \n",
       "</tr>\n",
       "<tr>\n",
       "  <th>Date:</th>             <td>Sat, 03 Mar 2018</td> <th>  Prob (F-statistic):</th>   <td>  0.00</td>   \n",
       "</tr>\n",
       "<tr>\n",
       "  <th>Time:</th>                 <td>02:02:33</td>     <th>  Log-Likelihood:    </th> <td>-5.6083e+06</td>\n",
       "</tr>\n",
       "<tr>\n",
       "  <th>No. Observations:</th>      <td>873972</td>      <th>  AIC:               </th>  <td>1.122e+07</td> \n",
       "</tr>\n",
       "<tr>\n",
       "  <th>Df Residuals:</th>          <td>873942</td>      <th>  BIC:               </th>  <td>1.122e+07</td> \n",
       "</tr>\n",
       "<tr>\n",
       "  <th>Df Model:</th>              <td>    30</td>      <th>                     </th>      <td> </td>     \n",
       "</tr>\n",
       "<tr>\n",
       "  <th>Covariance Type:</th>      <td>nonrobust</td>    <th>                     </th>      <td> </td>     \n",
       "</tr>\n",
       "</table>\n",
       "<table class=\"simpletable\">\n",
       "<tr>\n",
       "                 <td></td>                   <th>coef</th>     <th>std err</th>      <th>t</th>      <th>P>|t|</th>  <th>[0.025</th>    <th>0.975]</th>  \n",
       "</tr>\n",
       "<tr>\n",
       "  <th>host_listings_count</th>            <td>-1.122e+09</td> <td> 2.02e+09</td> <td>   -0.555</td> <td> 0.579</td> <td>-5.09e+09</td> <td> 2.84e+09</td>\n",
       "</tr>\n",
       "<tr>\n",
       "  <th>host_total_listings_count</th>      <td> 1.122e+09</td> <td> 2.02e+09</td> <td>    0.555</td> <td> 0.579</td> <td>-2.84e+09</td> <td> 5.09e+09</td>\n",
       "</tr>\n",
       "<tr>\n",
       "  <th>neighbourhood_group_cleansed</th>   <td>-8.806e-08</td> <td> 1.59e-07</td> <td>   -0.555</td> <td> 0.579</td> <td>-3.99e-07</td> <td> 2.23e-07</td>\n",
       "</tr>\n",
       "<tr>\n",
       "  <th>accommodates</th>                   <td>   15.0789</td> <td>    0.120</td> <td>  125.358</td> <td> 0.000</td> <td>   14.843</td> <td>   15.315</td>\n",
       "</tr>\n",
       "<tr>\n",
       "  <th>bathrooms</th>                      <td>   -8.2299</td> <td>    0.278</td> <td>  -29.596</td> <td> 0.000</td> <td>   -8.775</td> <td>   -7.685</td>\n",
       "</tr>\n",
       "<tr>\n",
       "  <th>bedrooms</th>                       <td>   33.4484</td> <td>    0.266</td> <td>  125.894</td> <td> 0.000</td> <td>   32.928</td> <td>   33.969</td>\n",
       "</tr>\n",
       "<tr>\n",
       "  <th>beds</th>                           <td>   -0.0462</td> <td>    0.168</td> <td>   -0.274</td> <td> 0.784</td> <td>   -0.376</td> <td>    0.284</td>\n",
       "</tr>\n",
       "<tr>\n",
       "  <th>square_feet</th>                    <td>    0.0458</td> <td>    0.001</td> <td>   56.434</td> <td> 0.000</td> <td>    0.044</td> <td>    0.047</td>\n",
       "</tr>\n",
       "<tr>\n",
       "  <th>guests_included</th>                <td>    3.4047</td> <td>    0.081</td> <td>   41.969</td> <td> 0.000</td> <td>    3.246</td> <td>    3.564</td>\n",
       "</tr>\n",
       "<tr>\n",
       "  <th>minimum_nights</th>                 <td>   -0.9708</td> <td>    0.021</td> <td>  -45.820</td> <td> 0.000</td> <td>   -1.012</td> <td>   -0.929</td>\n",
       "</tr>\n",
       "<tr>\n",
       "  <th>maximum_nights</th>                 <td>-6.522e-05</td> <td> 7.79e-06</td> <td>   -8.368</td> <td> 0.000</td> <td>-8.05e-05</td> <td>-4.99e-05</td>\n",
       "</tr>\n",
       "<tr>\n",
       "  <th>availability_30</th>                <td>   -0.1244</td> <td>    0.040</td> <td>   -3.144</td> <td> 0.002</td> <td>   -0.202</td> <td>   -0.047</td>\n",
       "</tr>\n",
       "<tr>\n",
       "  <th>availability_60</th>                <td>    0.7160</td> <td>    0.038</td> <td>   18.696</td> <td> 0.000</td> <td>    0.641</td> <td>    0.791</td>\n",
       "</tr>\n",
       "<tr>\n",
       "  <th>availability_90</th>                <td>   -0.2611</td> <td>    0.022</td> <td>  -11.720</td> <td> 0.000</td> <td>   -0.305</td> <td>   -0.217</td>\n",
       "</tr>\n",
       "<tr>\n",
       "  <th>availability_365</th>               <td>   -0.0206</td> <td>    0.002</td> <td>   -8.297</td> <td> 0.000</td> <td>   -0.025</td> <td>   -0.016</td>\n",
       "</tr>\n",
       "<tr>\n",
       "  <th>number_of_reviews</th>              <td>   -0.1720</td> <td>    0.007</td> <td>  -24.902</td> <td> 0.000</td> <td>   -0.186</td> <td>   -0.158</td>\n",
       "</tr>\n",
       "<tr>\n",
       "  <th>review_scores_rating</th>           <td>    0.4487</td> <td>    0.034</td> <td>   13.247</td> <td> 0.000</td> <td>    0.382</td> <td>    0.515</td>\n",
       "</tr>\n",
       "<tr>\n",
       "  <th>review_scores_accuracy</th>         <td>    7.9512</td> <td>    0.301</td> <td>   26.429</td> <td> 0.000</td> <td>    7.362</td> <td>    8.541</td>\n",
       "</tr>\n",
       "<tr>\n",
       "  <th>review_scores_cleanliness</th>      <td>    4.9091</td> <td>    0.275</td> <td>   17.883</td> <td> 0.000</td> <td>    4.371</td> <td>    5.447</td>\n",
       "</tr>\n",
       "<tr>\n",
       "  <th>review_scores_checkin</th>          <td>  -22.4358</td> <td>    0.352</td> <td>  -63.711</td> <td> 0.000</td> <td>  -23.126</td> <td>  -21.746</td>\n",
       "</tr>\n",
       "<tr>\n",
       "  <th>review_scores_communication</th>    <td>   -1.3302</td> <td>    0.321</td> <td>   -4.150</td> <td> 0.000</td> <td>   -1.958</td> <td>   -0.702</td>\n",
       "</tr>\n",
       "<tr>\n",
       "  <th>review_scores_location</th>         <td>    8.4248</td> <td>    0.256</td> <td>   32.947</td> <td> 0.000</td> <td>    7.924</td> <td>    8.926</td>\n",
       "</tr>\n",
       "<tr>\n",
       "  <th>review_scores_value</th>            <td>   -3.5534</td> <td>    0.312</td> <td>  -11.407</td> <td> 0.000</td> <td>   -4.164</td> <td>   -2.943</td>\n",
       "</tr>\n",
       "<tr>\n",
       "  <th>calculated_host_listings_count</th> <td>    0.5237</td> <td>    0.011</td> <td>   48.846</td> <td> 0.000</td> <td>    0.503</td> <td>    0.545</td>\n",
       "</tr>\n",
       "<tr>\n",
       "  <th>reviews_per_month</th>              <td>   -7.9738</td> <td>    0.136</td> <td>  -58.569</td> <td> 0.000</td> <td>   -8.241</td> <td>   -7.707</td>\n",
       "</tr>\n",
       "<tr>\n",
       "  <th>transit_length</th>                 <td>    0.1309</td> <td>    0.009</td> <td>   14.172</td> <td> 0.000</td> <td>    0.113</td> <td>    0.149</td>\n",
       "</tr>\n",
       "<tr>\n",
       "  <th>transit_variety</th>                <td>    1.1636</td> <td>    0.199</td> <td>    5.848</td> <td> 0.000</td> <td>    0.774</td> <td>    1.554</td>\n",
       "</tr>\n",
       "<tr>\n",
       "  <th>transit_vocab_size</th>             <td>   -0.4825</td> <td>    0.024</td> <td>  -20.320</td> <td> 0.000</td> <td>   -0.529</td> <td>   -0.436</td>\n",
       "</tr>\n",
       "<tr>\n",
       "  <th>transitTextLength</th>              <td>   -0.5829</td> <td>    0.044</td> <td>  -13.118</td> <td> 0.000</td> <td>   -0.670</td> <td>   -0.496</td>\n",
       "</tr>\n",
       "<tr>\n",
       "  <th>transitTextWordsPerc</th>           <td>  127.0046</td> <td>    0.831</td> <td>  152.804</td> <td> 0.000</td> <td>  125.376</td> <td>  128.634</td>\n",
       "</tr>\n",
       "<tr>\n",
       "  <th>transitTextPuncPerc</th>            <td>  149.5299</td> <td>    2.035</td> <td>   73.491</td> <td> 0.000</td> <td>  145.542</td> <td>  153.518</td>\n",
       "</tr>\n",
       "<tr>\n",
       "  <th>transitTextDigitsPerc</th>          <td>  -34.8367</td> <td>    2.994</td> <td>  -11.636</td> <td> 0.000</td> <td>  -40.705</td> <td>  -28.969</td>\n",
       "</tr>\n",
       "</table>\n",
       "<table class=\"simpletable\">\n",
       "<tr>\n",
       "  <th>Omnibus:</th>       <td>107115.723</td> <th>  Durbin-Watson:     </th>  <td>   0.129</td> \n",
       "</tr>\n",
       "<tr>\n",
       "  <th>Prob(Omnibus):</th>   <td> 0.000</td>   <th>  Jarque-Bera (JB):  </th> <td>837302.230</td>\n",
       "</tr>\n",
       "<tr>\n",
       "  <th>Skew:</th>            <td> 0.332</td>   <th>  Prob(JB):          </th>  <td>    0.00</td> \n",
       "</tr>\n",
       "<tr>\n",
       "  <th>Kurtosis:</th>        <td> 7.749</td>   <th>  Cond. No.          </th>  <td>1.06e+16</td> \n",
       "</tr>\n",
       "</table>"
      ],
      "text/plain": [
       "<class 'statsmodels.iolib.summary.Summary'>\n",
       "\"\"\"\n",
       "                            OLS Regression Results                            \n",
       "==============================================================================\n",
       "Dep. Variable:                price_y   R-squared:                       0.761\n",
       "Model:                            OLS   Adj. R-squared:                  0.761\n",
       "Method:                 Least Squares   F-statistic:                 9.298e+04\n",
       "Date:                Sat, 03 Mar 2018   Prob (F-statistic):               0.00\n",
       "Time:                        02:02:33   Log-Likelihood:            -5.6083e+06\n",
       "No. Observations:              873972   AIC:                         1.122e+07\n",
       "Df Residuals:                  873942   BIC:                         1.122e+07\n",
       "Df Model:                          30                                         \n",
       "Covariance Type:            nonrobust                                         \n",
       "==================================================================================================\n",
       "                                     coef    std err          t      P>|t|      [0.025      0.975]\n",
       "--------------------------------------------------------------------------------------------------\n",
       "host_listings_count            -1.122e+09   2.02e+09     -0.555      0.579   -5.09e+09    2.84e+09\n",
       "host_total_listings_count       1.122e+09   2.02e+09      0.555      0.579   -2.84e+09    5.09e+09\n",
       "neighbourhood_group_cleansed   -8.806e-08   1.59e-07     -0.555      0.579   -3.99e-07    2.23e-07\n",
       "accommodates                      15.0789      0.120    125.358      0.000      14.843      15.315\n",
       "bathrooms                         -8.2299      0.278    -29.596      0.000      -8.775      -7.685\n",
       "bedrooms                          33.4484      0.266    125.894      0.000      32.928      33.969\n",
       "beds                              -0.0462      0.168     -0.274      0.784      -0.376       0.284\n",
       "square_feet                        0.0458      0.001     56.434      0.000       0.044       0.047\n",
       "guests_included                    3.4047      0.081     41.969      0.000       3.246       3.564\n",
       "minimum_nights                    -0.9708      0.021    -45.820      0.000      -1.012      -0.929\n",
       "maximum_nights                 -6.522e-05   7.79e-06     -8.368      0.000   -8.05e-05   -4.99e-05\n",
       "availability_30                   -0.1244      0.040     -3.144      0.002      -0.202      -0.047\n",
       "availability_60                    0.7160      0.038     18.696      0.000       0.641       0.791\n",
       "availability_90                   -0.2611      0.022    -11.720      0.000      -0.305      -0.217\n",
       "availability_365                  -0.0206      0.002     -8.297      0.000      -0.025      -0.016\n",
       "number_of_reviews                 -0.1720      0.007    -24.902      0.000      -0.186      -0.158\n",
       "review_scores_rating               0.4487      0.034     13.247      0.000       0.382       0.515\n",
       "review_scores_accuracy             7.9512      0.301     26.429      0.000       7.362       8.541\n",
       "review_scores_cleanliness          4.9091      0.275     17.883      0.000       4.371       5.447\n",
       "review_scores_checkin            -22.4358      0.352    -63.711      0.000     -23.126     -21.746\n",
       "review_scores_communication       -1.3302      0.321     -4.150      0.000      -1.958      -0.702\n",
       "review_scores_location             8.4248      0.256     32.947      0.000       7.924       8.926\n",
       "review_scores_value               -3.5534      0.312    -11.407      0.000      -4.164      -2.943\n",
       "calculated_host_listings_count     0.5237      0.011     48.846      0.000       0.503       0.545\n",
       "reviews_per_month                 -7.9738      0.136    -58.569      0.000      -8.241      -7.707\n",
       "transit_length                     0.1309      0.009     14.172      0.000       0.113       0.149\n",
       "transit_variety                    1.1636      0.199      5.848      0.000       0.774       1.554\n",
       "transit_vocab_size                -0.4825      0.024    -20.320      0.000      -0.529      -0.436\n",
       "transitTextLength                 -0.5829      0.044    -13.118      0.000      -0.670      -0.496\n",
       "transitTextWordsPerc             127.0046      0.831    152.804      0.000     125.376     128.634\n",
       "transitTextPuncPerc              149.5299      2.035     73.491      0.000     145.542     153.518\n",
       "transitTextDigitsPerc            -34.8367      2.994    -11.636      0.000     -40.705     -28.969\n",
       "==============================================================================\n",
       "Omnibus:                   107115.723   Durbin-Watson:                   0.129\n",
       "Prob(Omnibus):                  0.000   Jarque-Bera (JB):           837302.230\n",
       "Skew:                           0.332   Prob(JB):                         0.00\n",
       "Kurtosis:                       7.749   Cond. No.                     1.06e+16\n",
       "==============================================================================\n",
       "\n",
       "Warnings:\n",
       "[1] Standard Errors assume that the covariance matrix of the errors is correctly specified.\n",
       "[2] The smallest eigenvalue is 3.28e-18. This might indicate that there are\n",
       "strong multicollinearity problems or that the design matrix is singular.\n",
       "\"\"\""
      ]
     },
     "execution_count": 12,
     "metadata": {},
     "output_type": "execute_result"
    }
   ],
   "source": [
    "est2.summary()"
   ]
  },
  {
   "cell_type": "markdown",
   "metadata": {},
   "source": [
    "The p-value for each term tests the null hypothesis that the coefficient is equal to zero (no effect). A low p-value (< 0.05) indicates that you can reject the null hypothesis. In other words, a predictor that has a low p-value is likely to be a meaningful addition to your model because changes in the predictor's value are related to changes in the response variable.\n",
    "Conversely, a larger (insignificant) p-value suggests that changes in the predictor are not associated with changes in the response."
   ]
  },
  {
   "cell_type": "markdown",
   "metadata": {},
   "source": [
    "Based on the above summary, we would eliminate only the following columns: host_listings_count, host_total_listings_count, beds, neighbourhood_group_cleansed. So we would keep columns in the following list:"
   ]
  },
  {
   "cell_type": "code",
   "execution_count": 13,
   "metadata": {
    "collapsed": true
   },
   "outputs": [],
   "source": [
    "manually_excluded = ['listing_id','id','scrape_id','host_id','longitude', 'latitude', 'zipcode','has_availability','license']\n",
    "exclude = ['host_listings_count', 'host_total_listings_count', 'beds', 'neighbourhood_group_cleansed']\n",
    "include = [i for i in X.columns if i not in exclude]\n",
    "final = [i for i in include if i not in manually_excluded]"
   ]
  },
  {
   "cell_type": "code",
   "execution_count": 14,
   "metadata": {},
   "outputs": [
    {
     "name": "stdout",
     "output_type": "stream",
     "text": [
      "accommodates\n",
      "bathrooms\n",
      "bedrooms\n",
      "square_feet\n",
      "guests_included\n",
      "minimum_nights\n",
      "maximum_nights\n",
      "availability_30\n",
      "availability_60\n",
      "availability_90\n",
      "availability_365\n",
      "number_of_reviews\n",
      "review_scores_rating\n",
      "review_scores_accuracy\n",
      "review_scores_cleanliness\n",
      "review_scores_checkin\n",
      "review_scores_communication\n",
      "review_scores_location\n",
      "review_scores_value\n",
      "calculated_host_listings_count\n",
      "reviews_per_month\n",
      "transit_length\n",
      "transit_variety\n",
      "transit_vocab_size\n",
      "transitTextLength\n",
      "transitTextWordsPerc\n",
      "transitTextPuncPerc\n",
      "transitTextDigitsPerc\n"
     ]
    }
   ],
   "source": [
    "for i in X[final]:\n",
    "    print i"
   ]
  },
  {
   "cell_type": "markdown",
   "metadata": {},
   "source": [
    "Analysis of Residuals"
   ]
  },
  {
   "cell_type": "markdown",
   "metadata": {},
   "source": [
    "Jarque-Bera test:"
   ]
  },
  {
   "cell_type": "code",
   "execution_count": 19,
   "metadata": {},
   "outputs": [
    {
     "data": {
      "text/plain": [
       "[('Jarque-Bera', 837302.2304387874),\n",
       " ('Chi^2 two-tail prob.', 0.0),\n",
       " ('Skew', 0.33223436201399587),\n",
       " ('Kurtosis', 7.748841844132165)]"
      ]
     },
     "execution_count": 19,
     "metadata": {},
     "output_type": "execute_result"
    }
   ],
   "source": [
    "name = ['Jarque-Bera', 'Chi^2 two-tail prob.', 'Skew', 'Kurtosis']\n",
    "test = sms.jarque_bera(est2.resid)\n",
    "lzip(name, test)"
   ]
  },
  {
   "cell_type": "markdown",
   "metadata": {},
   "source": [
    "Omni test:"
   ]
  },
  {
   "cell_type": "code",
   "execution_count": 20,
   "metadata": {},
   "outputs": [
    {
     "data": {
      "text/plain": [
       "[('Chi^2', 107115.72329904058), ('Two-tail probability', 0.0)]"
      ]
     },
     "execution_count": 20,
     "metadata": {},
     "output_type": "execute_result"
    }
   ],
   "source": [
    "name = ['Chi^2', 'Two-tail probability']\n",
    "test = sms.omni_normtest(est2.resid)\n",
    "lzip(name, test)"
   ]
  },
  {
   "cell_type": "code",
   "execution_count": 21,
   "metadata": {
    "collapsed": true
   },
   "outputs": [],
   "source": [
    "from statsmodels.graphics.regressionplots import plot_leverage_resid2"
   ]
  },
  {
   "cell_type": "code",
   "execution_count": 22,
   "metadata": {},
   "outputs": [
    {
     "data": {
      "image/png": "[encoded data removed]",
      "text/plain": [
       "<matplotlib.figure.Figure at 0x1c60a2bb90>"
      ]
     },
     "metadata": {},
     "output_type": "display_data"
    }
   ],
   "source": [
    "fig, ax = plt.subplots(figsize=(12,12))\n",
    "fig = plot_leverage_resid2(results, ax = ax)\n",
    "plt.show()"
   ]
  },
  {
   "cell_type": "code",
   "execution_count": 23,
   "metadata": {},
   "outputs": [
    {
     "data": {
      "text/plain": [
       "statsmodels.regression.linear_model.RegressionResultsWrapper"
      ]
     },
     "execution_count": 23,
     "metadata": {},
     "output_type": "execute_result"
    }
   ],
   "source": [
    "type(est2)"
   ]
  },
  {
   "cell_type": "markdown",
   "metadata": {},
   "source": [
    "Multicollinearity"
   ]
  },
  {
   "cell_type": "code",
   "execution_count": 24,
   "metadata": {},
   "outputs": [
    {
     "data": {
      "text/plain": [
       "4.2024828593722132e+18"
      ]
     },
     "execution_count": 24,
     "metadata": {},
     "output_type": "execute_result"
    }
   ],
   "source": [
    "np.linalg.cond(est2.model.exog)"
   ]
  },
  {
   "cell_type": "markdown",
   "metadata": {},
   "source": [
    "Heteroskedasticity"
   ]
  },
  {
   "cell_type": "markdown",
   "metadata": {
    "collapsed": true
   },
   "source": [
    "It is customary to check for heteroscedasticity of residuals once you build the linear regression model. The reason is, we want to check if the model thus built is unable to explain some pattern in the response variable Y, that eventually shows up in the residuals. This would result in an inefficient and unstable regression model that could yield bizarre predictions later on."
   ]
  },
  {
   "cell_type": "markdown",
   "metadata": {},
   "source": [
    "For these test the null hypothesis is that all observations have the same error variance, i.e. errors are homoscedastic. The tests differ in which kind of heteroscedasticity is considered as alternative hypothesis. They also vary in the power of the test for different types of heteroscedasticity."
   ]
  },
  {
   "cell_type": "markdown",
   "metadata": {},
   "source": [
    "Breush-Pagan test: It tests whether the variance of the errors from a regression is dependent on the values of the independent variables. In that case, heteroskedasticity is present.\n",
    "If the test statistic has a p-value below an appropriate threshold (e.g. p<0.05) then the null hypothesis of homoskedasticity is rejected and heteroskedasticity assumed."
   ]
  },
  {
   "cell_type": "code",
   "execution_count": 25,
   "metadata": {},
   "outputs": [
    {
     "name": "stderr",
     "output_type": "stream",
     "text": [
      "/Users/pauldefusco/anaconda2/envs/py27/lib/python2.7/site-packages/ipykernel_launcher.py:3: DeprecationWarning: `het_breushpagan` is deprecated, use `het_breuschpagan` instead!\n",
      "Use het_breuschpagan, het_breushpagan will be removed in 0.9 \n",
      "(Note: misspelling missing 'c')\n",
      "  This is separate from the ipykernel package so we can avoid doing imports until\n"
     ]
    },
    {
     "data": {
      "text/plain": [
       "[('Lagrange multiplier statistic', 357453.11797230464),\n",
       " ('p-value', 0.0),\n",
       " ('f-value', 20160.172499444179),\n",
       " ('f p-value', 0.0)]"
      ]
     },
     "execution_count": 25,
     "metadata": {},
     "output_type": "execute_result"
    }
   ],
   "source": [
    "name = ['Lagrange multiplier statistic', 'p-value', \n",
    "        'f-value', 'f p-value']\n",
    "test = sms.het_breushpagan(est2.resid, est2.model.exog)\n",
    "lzip(name, test)"
   ]
  },
  {
   "cell_type": "markdown",
   "metadata": {},
   "source": [
    "Goldfeld-Quandt test"
   ]
  },
  {
   "cell_type": "code",
   "execution_count": 26,
   "metadata": {},
   "outputs": [
    {
     "data": {
      "text/plain": [
       "[('F statistic', 0.72086422157047358), ('p-value', 0.99999999999999989)]"
      ]
     },
     "execution_count": 26,
     "metadata": {},
     "output_type": "execute_result"
    }
   ],
   "source": [
    "name = ['F statistic', 'p-value']\n",
    "test = sms.het_goldfeldquandt(est2.resid, est2.model.exog)\n",
    "lzip(name, test)"
   ]
  },
  {
   "cell_type": "code",
   "execution_count": 27,
   "metadata": {
    "collapsed": true
   },
   "outputs": [],
   "source": [
    "from statsmodels.graphics.regressionplots import plot_regress_exog"
   ]
  },
  {
   "cell_type": "markdown",
   "metadata": {},
   "source": [
    "Plot regression results against one regressor.\n",
    "\n",
    "This plots four graphs in a 2 by 2 figure: ‘endog versus exog’, ‘residuals versus exog’, ‘fitted versus exog’ and ‘fitted plus residual versus exog’"
   ]
  },
  {
   "cell_type": "code",
   "execution_count": 28,
   "metadata": {},
   "outputs": [
    {
     "data": {
      "image/png": "[encoded data removed]",
      "text/plain": [
       "<matplotlib.figure.Figure at 0x1c41ac2390>"
      ]
     },
     "execution_count": 28,
     "metadata": {},
     "output_type": "execute_result"
    }
   ],
   "source": [
    "fig = plt.figure(figsize=(12,12))\n",
    "plot_regress_exog(est2, 5, fig=fig)"
   ]
  },
  {
   "cell_type": "code",
   "execution_count": 36,
   "metadata": {
    "collapsed": true
   },
   "outputs": [],
   "source": [
    "cols_for_plot = ['accommodates','number_of_reviews','review_scores_rating','transit_variety','transitTextWordsPerc']"
   ]
  },
  {
   "cell_type": "code",
   "execution_count": null,
   "metadata": {},
   "outputs": [
    {
     "data": {
      "image/png": "[encoded data removed]",
      "text/plain": [
       "<matplotlib.figure.Figure at 0x1d5824add0>"
      ]
     },
     "execution_count": 38,
     "metadata": {},
     "output_type": "execute_result"
    }
   ],
   "source": [
    "#plot_regress_exog(est2, 'number_of_reviews')"
   ]
  },
  {
   "cell_type": "code",
   "execution_count": null,
   "metadata": {
    "collapsed": true
   },
   "outputs": [],
   "source": [
    "#plot_regress_exog(est2, 'review_scores_rating')"
   ]
  },
  {
   "cell_type": "code",
   "execution_count": null,
   "metadata": {
    "collapsed": true
   },
   "outputs": [],
   "source": [
    "#plot_regress_exog(est2, 'transit_variety')"
   ]
  },
  {
   "cell_type": "code",
   "execution_count": null,
   "metadata": {
    "collapsed": true
   },
   "outputs": [],
   "source": [
    "#plot_regress_exog(est2, 'transitTextWordsPerc')"
   ]
  },
  {
   "cell_type": "markdown",
   "metadata": {},
   "source": [
    "Component-Component plus Residual (CCPR) Plots\n",
    "The CCPR plot provides a way to judge the effect of one regressor on the \n",
    "response variable by taking into account the effects of the other \n",
    "independent variables. The partial residuals plot is defined as \n",
    "Residuals+BiXi    versus  Xi . The component adds  BiXi  versus \n",
    "Xi  to show where the fitted line would lie. Care should be taken if  Xi  \n",
    "is highly correlated with any of the other independent variables. If this \n",
    "is the case, the variance evident in the plot will be an underestimate of \n",
    "the true variance."
   ]
  },
  {
   "cell_type": "markdown",
   "metadata": {},
   "source": [
    "Conclusion: the variables that have low variance in the top right graph and low slope on the bottom right plot are showing less heteroskedasticity (better for autoregression analysis). However, the heteroskedasticity tests show that there is a lot of heteroskedasticity, which implies a poor future prediction (Standard estimation methods are inefficient when the errors are heteroscedastic or have non-constant variance)"
   ]
  },
  {
   "cell_type": "code",
   "execution_count": null,
   "metadata": {
    "collapsed": true
   },
   "outputs": [],
   "source": []
  },
  {
   "cell_type": "code",
   "execution_count": null,
   "metadata": {
    "collapsed": true
   },
   "outputs": [],
   "source": []
  },
  {
   "cell_type": "markdown",
   "metadata": {},
   "source": [
    "Linearity: Harvey-Collier multiplier test for Null hypothesis that the linear specification is correct:"
   ]
  },
  {
   "cell_type": "markdown",
   "metadata": {},
   "source": [
    "The basic idea of the Rainbow test is that even if the true relationship is non-linear, a good linear fit can be achieved on a subsample in the \"middle\" of the data. The null hypothesis is rejected whenever the overall fit is significantly worse than the fit for the subsample."
   ]
  },
  {
   "cell_type": "code",
   "execution_count": null,
   "metadata": {},
   "outputs": [],
   "source": [
    "\"\"\"name = ['t value', 'p value']\n",
    "test = sms.linear_harvey_collier(est2)\n",
    "lzip(name, test)\"\"\""
   ]
  },
  {
   "cell_type": "markdown",
   "metadata": {},
   "source": [
    "Heteroskedastic-Robust Standard Errors"
   ]
  },
  {
   "cell_type": "code",
   "execution_count": null,
   "metadata": {
    "collapsed": true
   },
   "outputs": [],
   "source": [
    "results2_robust = est2.get_robustcov_results()"
   ]
  },
  {
   "cell_type": "code",
   "execution_count": null,
   "metadata": {},
   "outputs": [],
   "source": [
    "results2_robust.summary()"
   ]
  },
  {
   "cell_type": "markdown",
   "metadata": {},
   "source": []
  },
  {
   "cell_type": "code",
   "execution_count": null,
   "metadata": {
    "collapsed": true
   },
   "outputs": [],
   "source": []
  },
  {
   "cell_type": "code",
   "execution_count": null,
   "metadata": {
    "collapsed": true
   },
   "outputs": [],
   "source": []
  },
  {
   "cell_type": "code",
   "execution_count": null,
   "metadata": {
    "collapsed": true
   },
   "outputs": [],
   "source": []
  },
  {
   "cell_type": "code",
   "execution_count": null,
   "metadata": {
    "collapsed": true
   },
   "outputs": [],
   "source": []
  },
  {
   "cell_type": "code",
   "execution_count": null,
   "metadata": {
    "collapsed": true
   },
   "outputs": [],
   "source": []
  },
  {
   "cell_type": "markdown",
   "metadata": {},
   "source": [
    "The same linear regression in SKLearn"
   ]
  },
  {
   "cell_type": "code",
   "execution_count": null,
   "metadata": {
    "collapsed": true
   },
   "outputs": [],
   "source": [
    "lm = LinearRegression()"
   ]
  },
  {
   "cell_type": "code",
   "execution_count": null,
   "metadata": {},
   "outputs": [],
   "source": [
    "lm.fit(X,master['price_y'])"
   ]
  },
  {
   "cell_type": "code",
   "execution_count": null,
   "metadata": {},
   "outputs": [],
   "source": [
    "print 'Estimated intercept coefficient: ', lm.intercept_"
   ]
  },
  {
   "cell_type": "code",
   "execution_count": null,
   "metadata": {},
   "outputs": [],
   "source": [
    "print 'Number of coefficients: ', len(lm.coef_)"
   ]
  },
  {
   "cell_type": "markdown",
   "metadata": {},
   "source": [
    "Regression coefficients represent the mean change in the response variable for one unit of change in the predictor variable while holding other predictors in the model constant. This statistical control that regression provides is important because it isolates the role of one variable from all of the others in the model.\n",
    "\n",
    "The key to understanding the coefficients is to think of them as slopes, and they’re often called slope coefficients. I’ll illustrate this in the fitted line plot below, where I’ll use a person’s height to model their weight."
   ]
  },
  {
   "cell_type": "code",
   "execution_count": null,
   "metadata": {},
   "outputs": [],
   "source": [
    "pd.DataFrame(zip(X.columns, lm.coef_), columns=['Features','Estimated Coefficients'])"
   ]
  },
  {
   "cell_type": "code",
   "execution_count": null,
   "metadata": {
    "collapsed": true
   },
   "outputs": [],
   "source": []
  },
  {
   "cell_type": "code",
   "execution_count": null,
   "metadata": {
    "collapsed": true
   },
   "outputs": [],
   "source": []
  },
  {
   "cell_type": "code",
   "execution_count": null,
   "metadata": {},
   "outputs": [],
   "source": [
    "plt.scatter(master.transitTextWordsPerc, master.price_y)\n",
    "plt.xlabel(\"Percentage of Words in Transit Description Field\")\n",
    "plt.ylabel(\"Calendar Price\")\n",
    "plt.title(\"Plotting Price and Transit Text Words Perc\")\n",
    "plt.show()\n"
   ]
  },
  {
   "cell_type": "code",
   "execution_count": null,
   "metadata": {},
   "outputs": [],
   "source": [
    "lm.predict(X)[0:390]\n"
   ]
  },
  {
   "cell_type": "markdown",
   "metadata": {},
   "source": [
    "#Problem: we have many calendar days for the same listings. For each listing, one price prediction is made but because\n",
    "#we have many calendar days for each listing, the above outputs the same result for each cal day\n",
    "#Make better representation"
   ]
  },
  {
   "cell_type": "markdown",
   "metadata": {},
   "source": [
    "More Regressions"
   ]
  },
  {
   "cell_type": "code",
   "execution_count": null,
   "metadata": {
    "collapsed": true
   },
   "outputs": [],
   "source": [
    "from sklearn import linear_model"
   ]
  },
  {
   "cell_type": "markdown",
   "metadata": {},
   "source": [
    "Lasso Lars Regression"
   ]
  },
  {
   "cell_type": "code",
   "execution_count": null,
   "metadata": {},
   "outputs": [],
   "source": [
    "ll = linear_model.LassoLars(alpha=.1)\n",
    "ll.fit(X, y)"
   ]
  },
  {
   "cell_type": "code",
   "execution_count": null,
   "metadata": {},
   "outputs": [],
   "source": [
    "ll.coef_"
   ]
  },
  {
   "cell_type": "code",
   "execution_count": null,
   "metadata": {},
   "outputs": [],
   "source": [
    "ll.intercept_"
   ]
  },
  {
   "cell_type": "markdown",
   "metadata": {},
   "source": [
    "Bayesian Ridge Regression"
   ]
  },
  {
   "cell_type": "code",
   "execution_count": null,
   "metadata": {
    "collapsed": true
   },
   "outputs": [],
   "source": [
    "br = linear_model.BayesianRidge()"
   ]
  },
  {
   "cell_type": "code",
   "execution_count": null,
   "metadata": {},
   "outputs": [],
   "source": [
    "br.fit(X,y)"
   ]
  },
  {
   "cell_type": "code",
   "execution_count": null,
   "metadata": {},
   "outputs": [],
   "source": [
    "br.coef_"
   ]
  },
  {
   "cell_type": "code",
   "execution_count": null,
   "metadata": {},
   "outputs": [],
   "source": [
    "br.intercept_"
   ]
  },
  {
   "cell_type": "markdown",
   "metadata": {},
   "source": [
    "Stochastic Gradient Descent"
   ]
  },
  {
   "cell_type": "code",
   "execution_count": null,
   "metadata": {
    "collapsed": true
   },
   "outputs": [],
   "source": [
    "X_trunc = X.head(10000)"
   ]
  },
  {
   "cell_type": "code",
   "execution_count": null,
   "metadata": {
    "collapsed": true
   },
   "outputs": [],
   "source": [
    "y_trunc = y.head(10000)"
   ]
  },
  {
   "cell_type": "code",
   "execution_count": null,
   "metadata": {},
   "outputs": [],
   "source": [
    "sgd = linear_model.SGDClassifier()\n",
    "sgd.fit(X_trunc, y_trunc)"
   ]
  },
  {
   "cell_type": "code",
   "execution_count": null,
   "metadata": {},
   "outputs": [],
   "source": [
    "sgd.coef_"
   ]
  },
  {
   "cell_type": "code",
   "execution_count": null,
   "metadata": {},
   "outputs": [],
   "source": [
    "sgd.intercept_"
   ]
  },
  {
   "cell_type": "markdown",
   "metadata": {},
   "source": [
    "Non Linear Regression"
   ]
  },
  {
   "cell_type": "code",
   "execution_count": null,
   "metadata": {
    "collapsed": true
   },
   "outputs": [],
   "source": [
    "from sklearn.preprocessing import PolynomialFeatures"
   ]
  },
  {
   "cell_type": "code",
   "execution_count": null,
   "metadata": {},
   "outputs": [],
   "source": [
    "poly = PolynomialFeatures(degree=2)\n",
    "poly.fit_transform(X)"
   ]
  },
  {
   "cell_type": "markdown",
   "metadata": {},
   "source": [
    "Plynomial Interpolation"
   ]
  },
  {
   "cell_type": "code",
   "execution_count": null,
   "metadata": {
    "collapsed": true
   },
   "outputs": [],
   "source": [
    "from sklearn.pipeline import make_pipeline\n",
    "from sklearn.linear_model import Ridge"
   ]
  },
  {
   "cell_type": "code",
   "execution_count": null,
   "metadata": {
    "collapsed": true
   },
   "outputs": [],
   "source": [
    "def f(x):\n",
    "    \"\"\" function to approximate by polynomial interpolation\"\"\"\n",
    "    return x * np.sin(x)"
   ]
  },
  {
   "cell_type": "code",
   "execution_count": null,
   "metadata": {},
   "outputs": [],
   "source": [
    "len(y)"
   ]
  },
  {
   "cell_type": "code",
   "execution_count": null,
   "metadata": {
    "collapsed": true
   },
   "outputs": [],
   "source": [
    "X_trunc = X_trunc.head(1000)\n",
    "y_trunc = y_trunc.head(1000)"
   ]
  },
  {
   "cell_type": "code",
   "execution_count": null,
   "metadata": {},
   "outputs": [],
   "source": [
    "#X = x[:, np.newaxis]\n",
    "#X_plot = x_plot[:, np.newaxis]\n",
    "x_plot = np.linspace(0, 1, len(X_trunc))\n",
    "x = np.linspace(0, 1, len(X_trunc))\n",
    "\n",
    "colors = ['teal', 'yellowgreen']\n",
    "\n",
    "lw = 2\n",
    "\n",
    "plt.plot(x_plot, f(x_plot), color='cornflowerblue', linewidth=lw)\n",
    "\n",
    "plt.scatter(x, y_trunc, color='navy', s=30, marker='o', label=\"training points\")\n",
    "\n",
    "for count, degree in enumerate([2, 3]):\n",
    "    model = make_pipeline(PolynomialFeatures(degree), Ridge())\n",
    "    model.fit(X_trunc, y_trunc)\n",
    "    y_plot = model.predict(X_trunc)\n",
    "    plt.plot(x_plot, y_plot, color=colors[count], linewidth=lw,\n",
    "             label=\"degree %d\" % degree)\n",
    "\n",
    "plt.legend(loc='lower left')\n",
    "\n",
    "plt.show()"
   ]
  },
  {
   "cell_type": "markdown",
   "metadata": {},
   "source": [
    "More Nonlinear Regressions (These will freeze)"
   ]
  },
  {
   "cell_type": "code",
   "execution_count": null,
   "metadata": {},
   "outputs": [],
   "source": [
    "\"\"\"poly = PolynomialFeatures(degree=3)\n",
    "poly.fit_transform(X)\"\"\""
   ]
  },
  {
   "cell_type": "code",
   "execution_count": null,
   "metadata": {},
   "outputs": [],
   "source": [
    "\"\"\"poly = PolynomialFeatures(degree=4)\n",
    "poly.fit_transform(X)\"\"\""
   ]
  },
  {
   "cell_type": "markdown",
   "metadata": {
    "collapsed": true
   },
   "source": [
    "Outputting list of features that are deemed to be statistically significant by this process"
   ]
  },
  {
   "cell_type": "code",
   "execution_count": null,
   "metadata": {},
   "outputs": [],
   "source": [
    "for i in pd.DataFrame(zip(X.columns, lm.coef_), columns=['features','estimatedCoefficients']):\n",
    "    print i"
   ]
  }
 ],
 "metadata": {
  "kernelspec": {
   "display_name": "Python 2",
   "language": "python",
   "name": "python2"
  },
  "language_info": {
   "codemirror_mode": {
    "name": "ipython",
    "version": 2
   },
   "file_extension": ".py",
   "mimetype": "text/x-python",
   "name": "python",
   "nbconvert_exporter": "python",
   "pygments_lexer": "ipython2",
   "version": "2.7.14"
  }
 },
 "nbformat": 4,
 "nbformat_minor": 2
}
