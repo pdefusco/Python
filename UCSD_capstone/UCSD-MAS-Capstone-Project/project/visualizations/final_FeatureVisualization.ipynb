{
 "cells": [
  {
   "cell_type": "code",
   "execution_count": 1,
   "metadata": {
    "collapsed": true
   },
   "outputs": [],
   "source": [
    "import numpy as np\n",
    "import pandas as pd\n",
    "import matplotlib as mpl\n",
    "import matplotlib.pyplot as plt"
   ]
  },
  {
   "cell_type": "code",
   "execution_count": 2,
   "metadata": {
    "collapsed": true
   },
   "outputs": [],
   "source": [
    "import seaborn as sns"
   ]
  },
  {
   "cell_type": "code",
   "execution_count": 3,
   "metadata": {
    "collapsed": true
   },
   "outputs": [],
   "source": [
    "listings_original = pd.read_csv('Datasources/inside_airbnb/listings.csv')"
   ]
  },
  {
   "cell_type": "code",
   "execution_count": 4,
   "metadata": {
    "collapsed": true
   },
   "outputs": [],
   "source": [
    "listings = pd.read_csv('Datasources/listings_augmented/listings_original_modified_2018-06-04_V1.csv',low_memory=False)"
   ]
  },
  {
   "cell_type": "code",
   "execution_count": 8,
   "metadata": {
    "collapsed": true
   },
   "outputs": [],
   "source": [
    "listings_other = pd.read_csv('Datasources/listings_augmented/listings_augmented_2018-06-03_V1.csv',low_memory=False)"
   ]
  },
  {
   "cell_type": "code",
   "execution_count": 11,
   "metadata": {
    "scrolled": true
   },
   "outputs": [
    {
     "data": {
      "text/plain": [
       "0        6.933030\n",
       "1        7.746536\n",
       "2        8.324688\n",
       "3        8.303117\n",
       "4        8.497738\n",
       "5        8.474420\n",
       "6        8.510836\n",
       "7        7.371305\n",
       "8        7.613071\n",
       "9        7.252264\n",
       "10       7.342621\n",
       "11       4.154925\n",
       "12       4.152644\n",
       "13       4.245264\n",
       "14       4.167712\n",
       "15       5.575510\n",
       "16       8.248511\n",
       "17       7.297255\n",
       "18       5.704921\n",
       "19       5.951846\n",
       "20       8.184629\n",
       "21       6.106030\n",
       "22       8.214836\n",
       "23       6.405504\n",
       "24       5.896891\n",
       "25       6.551498\n",
       "26       6.238728\n",
       "27       5.562495\n",
       "28       6.464804\n",
       "29       6.245061\n",
       "          ...    \n",
       "5723    10.928024\n",
       "5724     0.396820\n",
       "5725     0.688065\n",
       "5726     0.411768\n",
       "5727     9.894432\n",
       "5728     3.827771\n",
       "5729     0.730278\n",
       "5730     5.514464\n",
       "5731     7.149837\n",
       "5732    11.717180\n",
       "5733     2.963263\n",
       "5734     0.508235\n",
       "5735     0.819760\n",
       "5736     5.520239\n",
       "5737     0.322273\n",
       "5738     0.302423\n",
       "5739     0.440980\n",
       "5740     0.468522\n",
       "5741     0.667964\n",
       "5742     0.559112\n",
       "5743    12.439098\n",
       "5744     0.310572\n",
       "5745     8.040016\n",
       "5746     5.330114\n",
       "5747     6.789793\n",
       "5748     0.248397\n",
       "5749     0.339215\n",
       "5750     0.385639\n",
       "5751     0.903466\n",
       "5752     0.655232\n",
       "Name: distance_from_ocean, Length: 5751, dtype: float64"
      ]
     },
     "execution_count": 11,
     "metadata": {},
     "output_type": "execute_result"
    }
   ],
   "source": [
    "listings_other['distance_from_ocean'].dropna()"
   ]
  },
  {
   "cell_type": "code",
   "execution_count": 12,
   "metadata": {},
   "outputs": [
    {
     "name": "stderr",
     "output_type": "stream",
     "text": [
      "C:\\Users\\sanka\\Anaconda2\\lib\\site-packages\\matplotlib\\axes\\_axes.py:6462: UserWarning: The 'normed' kwarg is deprecated, and has been replaced by the 'density' kwarg.\n",
      "  warnings.warn(\"The 'normed' kwarg is deprecated, and has been \"\n"
     ]
    },
    {
     "data": {
      "text/plain": [
       "<matplotlib.axes._subplots.AxesSubplot at 0x110eb828>"
      ]
     },
     "execution_count": 12,
     "metadata": {},
     "output_type": "execute_result"
    }
   ],
   "source": [
    "sns.distplot(listings_other['distance_from_ocean'].dropna(), kde=False, rug=True)"
   ]
  },
  {
   "cell_type": "code",
   "execution_count": 13,
   "metadata": {},
   "outputs": [
    {
     "data": {
      "image/png": "[encoded data removed]",
      "text/plain": [
       "<Figure size 432x288 with 1 Axes>"
      ]
     },
     "metadata": {},
     "output_type": "display_data"
    }
   ],
   "source": [
    "plt.show()"
   ]
  },
  {
   "cell_type": "code",
   "execution_count": 14,
   "metadata": {},
   "outputs": [
    {
     "data": {
      "text/plain": [
       "<matplotlib.axes._subplots.AxesSubplot at 0x1dda18d0>"
      ]
     },
     "execution_count": 14,
     "metadata": {},
     "output_type": "execute_result"
    }
   ],
   "source": [
    "sns.regplot(x=\"distance_from_ocean\", y=\"accommodates\", data=listings_other)"
   ]
  },
  {
   "cell_type": "code",
   "execution_count": 15,
   "metadata": {},
   "outputs": [
    {
     "data": {
      "image/png": "[encoded data removed]",
      "text/plain": [
       "<Figure size 432x288 with 1 Axes>"
      ]
     },
     "metadata": {},
     "output_type": "display_data"
    }
   ],
   "source": [
    "plt.show()"
   ]
  },
  {
   "cell_type": "code",
   "execution_count": null,
   "metadata": {
    "collapsed": true
   },
   "outputs": [],
   "source": []
  }
 ],
 "metadata": {
  "kernelspec": {
   "display_name": "Python [conda env:Anaconda2]",
   "language": "python",
   "name": "conda-env-Anaconda2-py"
  },
  "language_info": {
   "codemirror_mode": {
    "name": "ipython",
    "version": 2
   },
   "file_extension": ".py",
   "mimetype": "text/x-python",
   "name": "python",
   "nbconvert_exporter": "python",
   "pygments_lexer": "ipython2",
   "version": "2.7.12"
  }
 },
 "nbformat": 4,
 "nbformat_minor": 2
}
