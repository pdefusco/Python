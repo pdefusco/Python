{
 "cells": [
  {
   "cell_type": "markdown",
   "metadata": {},
   "source": [
    "## Loading necessary packages"
   ]
  },
  {
   "cell_type": "code",
   "execution_count": 1,
   "metadata": {
    "collapsed": true
   },
   "outputs": [],
   "source": [
    "import pandas as pd\n",
    "import numpy as np\n",
    "import scipy.stats as stats\n",
    "import statsmodels.api as sm\n",
    "import statsmodels.formula.api as smf\n",
    "import statsmodels.stats.api as sms\n",
    "from __future__ import print_function\n",
    "from statsmodels.compat import lzip\n",
    "import matplotlib.pyplot as plt\n",
    "import numpy as np\n",
    "import sklearn as sk\n",
    "from sklearn.linear_model import LinearRegression"
   ]
  },
  {
   "cell_type": "code",
   "execution_count": 2,
   "metadata": {
    "collapsed": true
   },
   "outputs": [],
   "source": [
    "from statsmodels.graphics.regressionplots import plot_fit\n",
    "from statsmodels.graphics.regressionplots import plot_leverage_resid2\n",
    "from statsmodels.graphics.regressionplots import plot_regress_exog\n",
    "from sklearn import linear_model\n",
    "from sklearn.preprocessing import PolynomialFeatures\n",
    "from sklearn.pipeline import make_pipeline\n",
    "from sklearn.linear_model import Ridge\n",
    "from pandas.tseries.holiday import USFederalHolidayCalendar as calendar\n",
    "import statsmodels.api as sm\n",
    "import statsmodels.formula.api as smf\n",
    "from sklearn.preprocessing import StandardScaler\n",
    "from sklearn import linear_model\n",
    "from sklearn.pipeline import make_pipeline"
   ]
  },
  {
   "cell_type": "code",
   "execution_count": 3,
   "metadata": {
    "collapsed": true
   },
   "outputs": [],
   "source": [
    "from sklearn.metrics import r2_score, mean_squared_error\n",
    "linear_regression = linear_model.LinearRegression(normalize=False, fit_intercept=True)\n",
    "def r2_est(X,y):\n",
    "    return r2_score(y, linear_regression.fit(X,y).predict(X))\n",
    "def r2_est_two(X,y, X_new, y_new):\n",
    "    return r2_score(y_new, linear_regression.fit(X,y).predict(X_new))"
   ]
  },
  {
   "cell_type": "code",
   "execution_count": 4,
   "metadata": {
    "collapsed": true
   },
   "outputs": [],
   "source": [
    "from sklearn.preprocessing import LabelEncoder, LabelBinarizer\n",
    "from sklearn.decomposition import PCA\n",
    "from sklearn.metrics import mean_absolute_error\n",
    "from sklearn.preprocessing import MinMaxScaler\n",
    "from sklearn.cross_validation import cross_val_score, KFold, StratifiedKFold\n",
    "from sklearn.metrics import make_scorer\n",
    "from sklearn.preprocessing import PolynomialFeatures\n",
    "from sklearn.feature_selection import RFECV\n",
    "from sklearn.cross_validation import KFold\n",
    "from sklearn.cross_validation import train_test_split\n",
    "from sklearn.linear_model import Lasso\n",
    "from sklearn.grid_search import RandomizedSearchCV\n",
    "from scipy.stats import expon"
   ]
  },
  {
   "cell_type": "code",
   "execution_count": 5,
   "metadata": {
    "collapsed": true
   },
   "outputs": [],
   "source": [
    "from sklearn.preprocessing import LabelEncoder, LabelBinarizer\n",
    "label_enc = LabelEncoder()\n",
    "label_bin = LabelBinarizer()"
   ]
  },
  {
   "cell_type": "markdown",
   "metadata": {},
   "source": [
    "## Data Loading and Preparation (time series)"
   ]
  },
  {
   "cell_type": "code",
   "execution_count": 9,
   "metadata": {
    "collapsed": true
   },
   "outputs": [],
   "source": [
    "cal = pd.read_csv('Datasources/inside_airbnb/calendar.csv')"
   ]
  },
  {
   "cell_type": "code",
   "execution_count": 10,
   "metadata": {
    "collapsed": true
   },
   "outputs": [],
   "source": [
    "cal['price'] = cal['price'].astype(str).map(lambda x: x.lstrip('$'))\n",
    "cal['price'] = cal['price'].apply(pd.to_numeric, errors='coerce')\n",
    "cal['price'].replace(regex=True,inplace=True,to_replace=r'\\D',value=r'')"
   ]
  },
  {
   "cell_type": "code",
   "execution_count": 11,
   "metadata": {
    "collapsed": true
   },
   "outputs": [],
   "source": [
    "cal['date'] = pd.to_datetime(cal['date'])\n",
    "cal['month'] = cal['date'].apply(lambda x: x.month)\n",
    "cal['day'] = cal['date'].apply(lambda x: x.day)"
   ]
  },
  {
   "cell_type": "code",
   "execution_count": 12,
   "metadata": {
    "collapsed": true
   },
   "outputs": [],
   "source": [
    "cal['day_of_week'] = cal['date'].dt.weekday_name"
   ]
  },
  {
   "cell_type": "code",
   "execution_count": 13,
   "metadata": {
    "collapsed": true
   },
   "outputs": [],
   "source": [
    "from pandas.tseries.holiday import USFederalHolidayCalendar as calendar"
   ]
  },
  {
   "cell_type": "code",
   "execution_count": 14,
   "metadata": {
    "collapsed": true
   },
   "outputs": [],
   "source": [
    "cl = calendar()\n",
    "holidays = cl.holidays(start=cal['date'].min(), end=cal['date'].max())"
   ]
  },
  {
   "cell_type": "code",
   "execution_count": 15,
   "metadata": {
    "collapsed": true
   },
   "outputs": [],
   "source": [
    "cal['holiday'] = cal['date'].isin(holidays)"
   ]
  },
  {
   "cell_type": "code",
   "execution_count": 16,
   "metadata": {
    "collapsed": true
   },
   "outputs": [],
   "source": [
    "c = cal.loc[cal.available!='f']\n",
    "c = c[['listing_id','date','price','month','day_of_week','holiday']]"
   ]
  },
  {
   "cell_type": "code",
   "execution_count": 17,
   "metadata": {
    "collapsed": true
   },
   "outputs": [],
   "source": [
    "c_hol = c[c['holiday']==True]\n",
    "c_wke = c[(c['holiday']==False)&((c['day_of_week']=='Sunday')|(c['day_of_week']=='Saturday'))]\n",
    "c_wkd = c[(~c.isin(c_hol['date']))&(~c.isin(c_wke['date']))]"
   ]
  },
  {
   "cell_type": "code",
   "execution_count": 18,
   "metadata": {
    "collapsed": true
   },
   "outputs": [],
   "source": [
    "mean_price_hol = c_hol.groupby(by='listing_id')['price'].mean()\n",
    "mean_price_wke = c_wke.groupby(by='listing_id')['price'].mean()\n",
    "mean_price_wkd = c_wkd.groupby(by='listing_id')['price'].mean()"
   ]
  },
  {
   "cell_type": "code",
   "execution_count": 19,
   "metadata": {
    "collapsed": true
   },
   "outputs": [],
   "source": [
    "mean_price_hol = pd.DataFrame(mean_price_hol)\n",
    "mean_price_wke = pd.DataFrame(mean_price_wke)\n",
    "mean_price_wkd = pd.DataFrame(mean_price_wkd)"
   ]
  },
  {
   "cell_type": "code",
   "execution_count": 20,
   "metadata": {
    "collapsed": true
   },
   "outputs": [],
   "source": [
    "mean_price_hol = mean_price_hol.reset_index()\n",
    "mean_price_wke = mean_price_wke.reset_index()\n",
    "mean_price_wkd = mean_price_wkd.reset_index()"
   ]
  },
  {
   "cell_type": "code",
   "execution_count": 21,
   "metadata": {
    "collapsed": true
   },
   "outputs": [],
   "source": [
    "listings = pd.read_csv('Datasources/inside_airbnb/listings.csv')"
   ]
  },
  {
   "cell_type": "code",
   "execution_count": 22,
   "metadata": {
    "collapsed": true
   },
   "outputs": [],
   "source": [
    "master_hol = listings.merge(mean_price_hol, how='inner', left_on='id', right_on='listing_id')\n",
    "master_wke = listings.merge(mean_price_wke, how='inner', left_on='id', right_on='listing_id')\n",
    "master_wkd = listings.merge(mean_price_wkd, how='inner', left_on='id', right_on='listing_id')"
   ]
  },
  {
   "cell_type": "markdown",
   "metadata": {},
   "source": [
    "## Feature Creation (time series)"
   ]
  },
  {
   "cell_type": "markdown",
   "metadata": {},
   "source": [
    "### Features Created in regression"
   ]
  },
  {
   "cell_type": "code",
   "execution_count": 23,
   "metadata": {
    "collapsed": true
   },
   "outputs": [],
   "source": [
    "master_hol['host_response_rate'] = master_hol['host_response_rate'].astype(str).map(lambda x: x.rstrip(\"%\"))\n",
    "master_hol['host_response_rate'] = master_hol['host_response_rate'].apply(pd.to_numeric, errors='coerce')\n",
    "master_hol['host_response_rate'].replace(regex=True,inplace=True,to_replace=r'\\D',value=r'')\n",
    "master_hol['host_acceptance_rate'] = master_hol['host_acceptance_rate'].astype(str).map(lambda x: x.rstrip(\"%\"))\n",
    "master_hol['host_acceptance_rate'] = master_hol['host_acceptance_rate'].apply(pd.to_numeric, errors='coerce')\n",
    "master_hol['host_acceptance_rate'].replace(regex=True,inplace=True,to_replace=r'\\D',value=r'')\n",
    "master_hol['extra_people'] = master_hol['extra_people'].astype(str).map(lambda x: x.lstrip('$'))\n",
    "master_hol['extra_people'] = master_hol['extra_people'].apply(pd.to_numeric, errors='coerce')\n",
    "master_hol['extra_people'].replace(regex=True,inplace=True,to_replace=r'\\D',value=r'')\n",
    "master_hol['weekly_price'] = master_hol['weekly_price'].astype(str).map(lambda x: x.lstrip('$'))\n",
    "master_hol['weekly_price'] = master_hol['weekly_price'].apply(pd.to_numeric, errors='coerce')\n",
    "master_hol['weekly_price'].replace(regex=True,inplace=True,to_replace=r'\\D',value=r'')\n",
    "master_hol['monthly_price'] = master_hol['monthly_price'].astype(str).map(lambda x: x.lstrip('$'))\n",
    "master_hol['monthly_price'] = master_hol['monthly_price'].apply(pd.to_numeric, errors='coerce')\n",
    "master_hol['monthly_price'].replace(regex=True,inplace=True,to_replace=r'\\D',value=r'')\n",
    "master_hol['security_deposit'] = master_hol['security_deposit'].astype(str).map(lambda x: x.lstrip('$'))\n",
    "master_hol['security_deposit'] = master_hol['security_deposit'].apply(pd.to_numeric, errors='coerce')\n",
    "master_hol['security_deposit'].replace(regex=True,inplace=True,to_replace=r'\\D',value=r'')\n",
    "master_hol['cleaning_fee'] = master_hol['cleaning_fee'].astype(str).map(lambda x: x.lstrip('$'))\n",
    "master_hol['cleaning_fee'] = master_hol['cleaning_fee'].apply(pd.to_numeric, errors='coerce')\n",
    "master_hol['cleaning_fee'].replace(regex=True,inplace=True,to_replace=r'\\D',value=r'')"
   ]
  },
  {
   "cell_type": "code",
   "execution_count": 24,
   "metadata": {
    "collapsed": true
   },
   "outputs": [],
   "source": [
    "master_wke['host_response_rate'] = master_wke['host_response_rate'].astype(str).map(lambda x: x.rstrip(\"%\"))\n",
    "master_wke['host_response_rate'] = master_wke['host_response_rate'].apply(pd.to_numeric, errors='coerce')\n",
    "master_wke['host_response_rate'].replace(regex=True,inplace=True,to_replace=r'\\D',value=r'')\n",
    "master_wke['host_acceptance_rate'] = master_wke['host_acceptance_rate'].astype(str).map(lambda x: x.rstrip(\"%\"))\n",
    "master_wke['host_acceptance_rate'] = master_wke['host_acceptance_rate'].apply(pd.to_numeric, errors='coerce')\n",
    "master_wke['host_acceptance_rate'].replace(regex=True,inplace=True,to_replace=r'\\D',value=r'')\n",
    "master_wke['extra_people'] = master_wke['extra_people'].astype(str).map(lambda x: x.lstrip('$'))\n",
    "master_wke['extra_people'] = master_wke['extra_people'].apply(pd.to_numeric, errors='coerce')\n",
    "master_wke['extra_people'].replace(regex=True,inplace=True,to_replace=r'\\D',value=r'')\n",
    "master_wke['weekly_price'] = master_wke['weekly_price'].astype(str).map(lambda x: x.lstrip('$'))\n",
    "master_wke['weekly_price'] = master_wke['weekly_price'].apply(pd.to_numeric, errors='coerce')\n",
    "master_wke['weekly_price'].replace(regex=True,inplace=True,to_replace=r'\\D',value=r'')\n",
    "master_wke['monthly_price'] = master_wke['monthly_price'].astype(str).map(lambda x: x.lstrip('$'))\n",
    "master_wke['monthly_price'] = master_wke['monthly_price'].apply(pd.to_numeric, errors='coerce')\n",
    "master_wke['monthly_price'].replace(regex=True,inplace=True,to_replace=r'\\D',value=r'')\n",
    "master_wke['security_deposit'] = master_wke['security_deposit'].astype(str).map(lambda x: x.lstrip('$'))\n",
    "master_wke['security_deposit'] = master_wke['security_deposit'].apply(pd.to_numeric, errors='coerce')\n",
    "master_wke['security_deposit'].replace(regex=True,inplace=True,to_replace=r'\\D',value=r'')\n",
    "master_wke['cleaning_fee'] = master_wke['cleaning_fee'].astype(str).map(lambda x: x.lstrip('$'))\n",
    "master_wke['cleaning_fee'] = master_wke['cleaning_fee'].apply(pd.to_numeric, errors='coerce')\n",
    "master_wke['cleaning_fee'].replace(regex=True,inplace=True,to_replace=r'\\D',value=r'')"
   ]
  },
  {
   "cell_type": "code",
   "execution_count": 25,
   "metadata": {
    "collapsed": true
   },
   "outputs": [],
   "source": [
    "master_wkd['host_response_rate'] = master_wkd['host_response_rate'].astype(str).map(lambda x: x.rstrip(\"%\"))\n",
    "master_wkd['host_response_rate'] = master_wkd['host_response_rate'].apply(pd.to_numeric, errors='coerce')\n",
    "master_wkd['host_response_rate'].replace(regex=True,inplace=True,to_replace=r'\\D',value=r'')\n",
    "master_wkd['host_acceptance_rate'] = master_wkd['host_acceptance_rate'].astype(str).map(lambda x: x.rstrip(\"%\"))\n",
    "master_wkd['host_acceptance_rate'] = master_wkd['host_acceptance_rate'].apply(pd.to_numeric, errors='coerce')\n",
    "master_wkd['host_acceptance_rate'].replace(regex=True,inplace=True,to_replace=r'\\D',value=r'')\n",
    "master_wkd['extra_people'] = master_wkd['extra_people'].astype(str).map(lambda x: x.lstrip('$'))\n",
    "master_wkd['extra_people'] = master_wkd['extra_people'].apply(pd.to_numeric, errors='coerce')\n",
    "master_wkd['extra_people'].replace(regex=True,inplace=True,to_replace=r'\\D',value=r'')\n",
    "master_wkd['weekly_price'] = master_wkd['weekly_price'].astype(str).map(lambda x: x.lstrip('$'))\n",
    "master_wkd['weekly_price'] = master_wkd['weekly_price'].apply(pd.to_numeric, errors='coerce')\n",
    "master_wkd['weekly_price'].replace(regex=True,inplace=True,to_replace=r'\\D',value=r'')\n",
    "master_wkd['monthly_price'] = master_wkd['monthly_price'].astype(str).map(lambda x: x.lstrip('$'))\n",
    "master_wkd['monthly_price'] = master_wkd['monthly_price'].apply(pd.to_numeric, errors='coerce')\n",
    "master_wkd['monthly_price'].replace(regex=True,inplace=True,to_replace=r'\\D',value=r'')\n",
    "master_wkd['security_deposit'] = master_wkd['security_deposit'].astype(str).map(lambda x: x.lstrip('$'))\n",
    "master_wkd['security_deposit'] = master_wkd['security_deposit'].apply(pd.to_numeric, errors='coerce')\n",
    "master_wkd['security_deposit'].replace(regex=True,inplace=True,to_replace=r'\\D',value=r'')\n",
    "master_wkd['cleaning_fee'] = master_wkd['cleaning_fee'].astype(str).map(lambda x: x.lstrip('$'))\n",
    "master_wkd['cleaning_fee'] = master_wkd['cleaning_fee'].apply(pd.to_numeric, errors='coerce')\n",
    "master_wkd['cleaning_fee'].replace(regex=True,inplace=True,to_replace=r'\\D',value=r'')"
   ]
  },
  {
   "cell_type": "code",
   "execution_count": 26,
   "metadata": {
    "collapsed": true
   },
   "outputs": [],
   "source": [
    "master_hol['ones'] = np.ones(len(master_hol))\n",
    "master_wke['ones'] = np.ones(len(master_wke))\n",
    "master_wkd['ones'] = np.ones(len(master_wkd))"
   ]
  },
  {
   "cell_type": "markdown",
   "metadata": {},
   "source": [
    "### Features created from amenities"
   ]
  },
  {
   "cell_type": "code",
   "execution_count": 27,
   "metadata": {
    "collapsed": true
   },
   "outputs": [],
   "source": [
    "def string_to_set(x):\n",
    "    c = set()\n",
    "    for w in x[1:-1].split(\",\"):\n",
    "        c.add(w)\n",
    "        \n",
    "    return c"
   ]
  },
  {
   "cell_type": "code",
   "execution_count": 28,
   "metadata": {
    "collapsed": true
   },
   "outputs": [],
   "source": [
    "master_hol['amenities_set'] = master_hol['amenities'].map(string_to_set)\n",
    "master_wke['amenities_set'] = master_wke['amenities'].map(string_to_set)\n",
    "master_wkd['amenities_set'] = master_wkd['amenities'].map(string_to_set)"
   ]
  },
  {
   "cell_type": "code",
   "execution_count": 29,
   "metadata": {
    "collapsed": true
   },
   "outputs": [],
   "source": [
    "def has_amenity(x, amen_):\n",
    "    if amen_ in x:\n",
    "        return 1\n",
    "    pass"
   ]
  },
  {
   "cell_type": "code",
   "execution_count": 30,
   "metadata": {
    "scrolled": true
   },
   "outputs": [
    {
     "data": {
      "text/plain": [
       "{'',\n",
       " '\"24-Hour Check-in\"',\n",
       " '\"Air Conditioning\"',\n",
       " '\"Buzzer/Wireless Intercom\"',\n",
       " '\"Cable TV\"',\n",
       " '\"Carbon Monoxide Detector\"',\n",
       " '\"Elevator in Building\"',\n",
       " '\"Family/Kid Friendly\"',\n",
       " '\"Fire Extinguisher\"',\n",
       " '\"First Aid Kit\"',\n",
       " '\"Free Parking on Premises\"',\n",
       " '\"Hair Dryer\"',\n",
       " '\"Hot Tub\"',\n",
       " '\"Indoor Fireplace\"',\n",
       " '\"Laptop Friendly Workspace\"',\n",
       " '\"Lock on Bedroom Door\"',\n",
       " '\"Other pet(s)\"',\n",
       " '\"Pets Allowed\"',\n",
       " '\"Pets live on this property\"',\n",
       " '\"Safety Card\"',\n",
       " '\"Smoke Detector\"',\n",
       " '\"Smoking Allowed\"',\n",
       " '\"Suitable for Events\"',\n",
       " '\"Wheelchair Accessible\"',\n",
       " '\"Wireless Internet\"',\n",
       " '\"translation missing: en.hosting_amenity_49\"',\n",
       " '\"translation missing: en.hosting_amenity_50\"',\n",
       " 'Breakfast',\n",
       " 'Cat(s)',\n",
       " 'Dog(s)',\n",
       " 'Doorman',\n",
       " 'Dryer',\n",
       " 'Essentials',\n",
       " 'Gym',\n",
       " 'Hangers',\n",
       " 'Heating',\n",
       " 'Internet',\n",
       " 'Iron',\n",
       " 'Kitchen',\n",
       " 'Pool',\n",
       " 'Shampoo',\n",
       " 'TV',\n",
       " 'Washer'}"
      ]
     },
     "execution_count": 30,
     "metadata": {},
     "output_type": "execute_result"
    }
   ],
   "source": [
    "all_amenities = set()\n",
    "\n",
    "for idx in listings['amenities'].map(string_to_set).index:\n",
    "    all_amenities = all_amenities.union(listings['amenities'].map(string_to_set)[idx])\n",
    "\n",
    "all_amenities"
   ]
  },
  {
   "cell_type": "code",
   "execution_count": 31,
   "metadata": {
    "collapsed": true
   },
   "outputs": [],
   "source": [
    "for amen in all_amenities:\n",
    "    master_hol['has' + amen] = 0\n",
    "    master_wke['has' + amen] = 0\n",
    "    master_wkd['has' + amen] = 0\n",
    "    master_hol['has' + amen] = master_hol['amenities_set'].map(lambda x: has_amenity(x, amen))\n",
    "    master_wke['has' + amen] = master_wke['amenities_set'].map(lambda x: has_amenity(x, amen))\n",
    "    master_wkd['has' + amen] = master_wkd['amenities_set'].map(lambda x: has_amenity(x, amen))"
   ]
  },
  {
   "cell_type": "code",
   "execution_count": 32,
   "metadata": {
    "collapsed": true
   },
   "outputs": [],
   "source": [
    "has_amenties_list = []\n",
    "for amen in all_amenities:\n",
    "    has_amenties_list.append('has' + amen)"
   ]
  },
  {
   "cell_type": "code",
   "execution_count": 33,
   "metadata": {
    "collapsed": true
   },
   "outputs": [],
   "source": [
    "master_hol[has_amenties_list] = master_hol[has_amenties_list].fillna(0)\n",
    "master_wke[has_amenties_list] = master_wke[has_amenties_list].fillna(0)\n",
    "master_wkd[has_amenties_list] = master_wkd[has_amenties_list].fillna(0)"
   ]
  },
  {
   "cell_type": "markdown",
   "metadata": {},
   "source": [
    "### Preliminary Data Cleaning and Column Dropping"
   ]
  },
  {
   "cell_type": "code",
   "execution_count": 34,
   "metadata": {
    "collapsed": true
   },
   "outputs": [],
   "source": [
    "X_hol = master_hol.select_dtypes(include=['float64', 'int64'])\n",
    "X_wke = master_wke.select_dtypes(include=['float64', 'int64'])\n",
    "X_wkd = master_wkd.select_dtypes(include=['float64', 'int64'])"
   ]
  },
  {
   "cell_type": "code",
   "execution_count": 35,
   "metadata": {
    "scrolled": true
   },
   "outputs": [
    {
     "data": {
      "text/plain": [
       "id                                                    0\n",
       "scrape_id                                             0\n",
       "host_id                                               0\n",
       "host_response_rate                                  297\n",
       "host_acceptance_rate                                469\n",
       "host_listings_count                                   0\n",
       "host_total_listings_count                             0\n",
       "neighbourhood_group_cleansed                       5208\n",
       "zipcode                                              77\n",
       "latitude                                              0\n",
       "longitude                                             0\n",
       "accommodates                                          0\n",
       "bathrooms                                            10\n",
       "bedrooms                                              3\n",
       "beds                                                  4\n",
       "square_feet                                        5112\n",
       "weekly_price                                       4157\n",
       "monthly_price                                      5106\n",
       "security_deposit                                   2557\n",
       "cleaning_fee                                       1054\n",
       "guests_included                                       0\n",
       "extra_people                                          0\n",
       "minimum_nights                                        0\n",
       "maximum_nights                                        0\n",
       "has_availability                                   5208\n",
       "availability_30                                       0\n",
       "availability_60                                       0\n",
       "availability_90                                       0\n",
       "availability_365                                      0\n",
       "number_of_reviews                                     0\n",
       "                                                   ... \n",
       "has\"Fire Extinguisher\"                                0\n",
       "has\"Hot Tub\"                                          0\n",
       "has\"Cable TV\"                                         0\n",
       "has\"Air Conditioning\"                                 0\n",
       "has\"Laptop Friendly Workspace\"                        0\n",
       "has\"Suitable for Events\"                              0\n",
       "hasKitchen                                            0\n",
       "has\"Family/Kid Friendly\"                              0\n",
       "has\"translation missing: en.hosting_amenity_49\"       0\n",
       "hasShampoo                                            0\n",
       "hasHeating                                            0\n",
       "has\"Hair Dryer\"                                       0\n",
       "has\"Smoke Detector\"                                   0\n",
       "hasIron                                               0\n",
       "has\"Lock on Bedroom Door\"                             0\n",
       "has\"Free Parking on Premises\"                         0\n",
       "has\"Pets live on this property\"                       0\n",
       "has\"Safety Card\"                                      0\n",
       "hasDoorman                                            0\n",
       "hasDryer                                              0\n",
       "has\"Pets Allowed\"                                     0\n",
       "has\"Wheelchair Accessible\"                            0\n",
       "has\"First Aid Kit\"                                    0\n",
       "hasDog(s)                                             0\n",
       "has\"Wireless Internet\"                                0\n",
       "hasPool                                               0\n",
       "hasBreakfast                                          0\n",
       "has\"Smoking Allowed\"                                  0\n",
       "hasCat(s)                                             0\n",
       "has\"24-Hour Check-in\"                                 0\n",
       "dtype: int64"
      ]
     },
     "execution_count": 35,
     "metadata": {},
     "output_type": "execute_result"
    }
   ],
   "source": [
    "X_hol.isnull().sum()"
   ]
  },
  {
   "cell_type": "code",
   "execution_count": 38,
   "metadata": {},
   "outputs": [],
   "source": [
    "X_hol = X_hol.drop(['neighbourhood_group_cleansed','square_feet','has_availability','license','weekly_price','monthly_price'], axis = 1)\n",
    "X_wke = X_wke.drop(['neighbourhood_group_cleansed','square_feet','has_availability','license','weekly_price','monthly_price'], axis = 1)\n",
    "X_wkd = X_wkd.drop(['neighbourhood_group_cleansed','square_feet','has_availability','license','weekly_price','monthly_price'], axis = 1)"
   ]
  },
  {
   "cell_type": "code",
   "execution_count": 39,
   "metadata": {
    "collapsed": true
   },
   "outputs": [],
   "source": [
    "X_hol = X_hol.fillna(value=X_hol.mean())\n",
    "X_wke = X_wke.fillna(value=X_wke.mean())\n",
    "X_wkd = X_wkd.fillna(value=X_wkd.mean())"
   ]
  },
  {
   "cell_type": "code",
   "execution_count": 41,
   "metadata": {},
   "outputs": [],
   "source": [
    "X_hol = X_hol.drop(['id','listing_id','host_id','scrape_id'], axis = 1)\n",
    "X_wke = X_wke.drop(['id','listing_id','host_id','scrape_id'], axis = 1)\n",
    "X_wkd = X_wkd.drop(['id','listing_id','host_id','scrape_id'], axis = 1)"
   ]
  },
  {
   "cell_type": "markdown",
   "metadata": {},
   "source": [
    "## Including Encoded and Binarized Variables"
   ]
  },
  {
   "cell_type": "markdown",
   "metadata": {},
   "source": [
    "#### Encoded Variables"
   ]
  },
  {
   "cell_type": "code",
   "execution_count": 42,
   "metadata": {
    "collapsed": true
   },
   "outputs": [],
   "source": [
    "X_hol['policy_enc'] = label_enc.fit_transform(master_hol.cancellation_policy)\n",
    "master_hol['host_response_time'] = master_hol['host_response_time'].astype(str)\n",
    "X_hol['host_resp_time_enc'] = label_enc.fit_transform(master_hol.host_response_time)\n",
    "master_hol['calendar_updated'] = master_hol['calendar_updated'].astype(str)\n",
    "X_hol['calendar_updated_enc'] = label_enc.fit_transform(master_hol.calendar_updated)\n",
    "master_hol['bed_type'] = master_hol['bed_type'].astype(str)\n",
    "X_hol['bed_type_enc'] = label_enc.fit_transform(master_hol.bed_type)\n",
    "master_hol['jurisdiction_names'] = master_hol['jurisdiction_names'].astype(str)\n",
    "X_hol['jurisdiction_names_enc'] = label_enc.fit_transform(master_hol.jurisdiction_names)\n",
    "master_hol['zipcode'] = master_hol['zipcode'].astype(str)\n",
    "X_hol['zipcode_enc'] = label_enc.fit_transform(master_hol.zipcode)"
   ]
  },
  {
   "cell_type": "code",
   "execution_count": 43,
   "metadata": {
    "collapsed": true
   },
   "outputs": [],
   "source": [
    "X_wke['policy_enc'] = label_enc.fit_transform(master_wke.cancellation_policy)\n",
    "master_wke['host_response_time'] = master_wke['host_response_time'].astype(str)\n",
    "X_wke['host_resp_time_enc'] = label_enc.fit_transform(master_wke.host_response_time)\n",
    "master_wke['calendar_updated'] = master_wke['calendar_updated'].astype(str)\n",
    "X_wke['calendar_updated_enc'] = label_enc.fit_transform(master_wke.calendar_updated)\n",
    "master_wke['bed_type'] = master_wke['bed_type'].astype(str)\n",
    "X_wke['bed_type_enc'] = label_enc.fit_transform(master_wke.bed_type)\n",
    "master_wke['jurisdiction_names'] = master_wke['jurisdiction_names'].astype(str)\n",
    "X_wke['jurisdiction_names_enc'] = label_enc.fit_transform(master_wke.jurisdiction_names)\n",
    "master_wke['zipcode'] = master_wke['zipcode'].astype(str)\n",
    "X_wke['zipcode_enc'] = label_enc.fit_transform(master_wke.zipcode)"
   ]
  },
  {
   "cell_type": "code",
   "execution_count": 44,
   "metadata": {
    "collapsed": true
   },
   "outputs": [],
   "source": [
    "X_wkd['policy_enc'] = label_enc.fit_transform(master_wkd.cancellation_policy)\n",
    "master_wkd['host_response_time'] = master_wkd['host_response_time'].astype(str)\n",
    "X_wkd['host_resp_time_enc'] = label_enc.fit_transform(master_wkd.host_response_time)\n",
    "master_wkd['calendar_updated'] = master_wkd['calendar_updated'].astype(str)\n",
    "X_wkd['calendar_updated_enc'] = label_enc.fit_transform(master_wkd.calendar_updated)\n",
    "master_wkd['bed_type'] = master_wkd['bed_type'].astype(str)\n",
    "X_wkd['bed_type_enc'] = label_enc.fit_transform(master_wkd.bed_type)\n",
    "master_wkd['jurisdiction_names'] = master_wkd['jurisdiction_names'].astype(str)\n",
    "X_wkd['jurisdiction_names_enc'] = label_enc.fit_transform(master_wkd.jurisdiction_names)\n",
    "master_wkd['zipcode'] = master_wkd['zipcode'].astype(str)\n",
    "X_wkd['zipcode_enc'] = label_enc.fit_transform(master_wkd.zipcode)"
   ]
  },
  {
   "cell_type": "markdown",
   "metadata": {},
   "source": [
    "#### Binarized Variables"
   ]
  },
  {
   "cell_type": "code",
   "execution_count": 45,
   "metadata": {
    "collapsed": true
   },
   "outputs": [],
   "source": [
    "X_hol['host_is_superhost'] = label_bin.fit_transform(master_hol.host_is_superhost)\n",
    "X_hol['is_location_exact'] = label_bin.fit_transform(master_hol.is_location_exact)\n",
    "X_hol['host_profile_pic'] = label_bin.fit_transform(master_hol.host_has_profile_pic)\n",
    "X_hol['host_identity_verified'] = label_bin.fit_transform(master_hol.host_identity_verified)\n",
    "X_hol['instant_bookable'] = label_bin.fit_transform(master_hol.instant_bookable)\n",
    "X_hol['require_guest_profile_picture'] = label_bin.fit_transform(master_hol.require_guest_profile_picture)\n",
    "X_hol['require_guest_phone_verification'] = label_bin.fit_transform(master_hol.require_guest_phone_verification)"
   ]
  },
  {
   "cell_type": "code",
   "execution_count": 46,
   "metadata": {
    "collapsed": true
   },
   "outputs": [],
   "source": [
    "X_wke['host_is_superhost'] = label_bin.fit_transform(master_wke.host_is_superhost)\n",
    "X_wke['is_location_exact'] = label_bin.fit_transform(master_wke.is_location_exact)\n",
    "X_wke['host_profile_pic'] = label_bin.fit_transform(master_wke.host_has_profile_pic)\n",
    "X_wke['host_identity_verified'] = label_bin.fit_transform(master_wke.host_identity_verified)\n",
    "X_wke['instant_bookable'] = label_bin.fit_transform(master_wke.instant_bookable)\n",
    "X_wke['require_guest_profile_picture'] = label_bin.fit_transform(master_wke.require_guest_profile_picture)\n",
    "X_wke['require_guest_phone_verification'] = label_bin.fit_transform(master_wke.require_guest_phone_verification)"
   ]
  },
  {
   "cell_type": "code",
   "execution_count": 47,
   "metadata": {
    "collapsed": true
   },
   "outputs": [],
   "source": [
    "X_wkd['host_is_superhost'] = label_bin.fit_transform(master_wkd.host_is_superhost)\n",
    "X_wkd['is_location_exact'] = label_bin.fit_transform(master_wkd.is_location_exact)\n",
    "X_wkd['host_profile_pic'] = label_bin.fit_transform(master_wkd.host_has_profile_pic)\n",
    "X_wkd['host_identity_verified'] = label_bin.fit_transform(master_wkd.host_identity_verified)\n",
    "X_wkd['instant_bookable'] = label_bin.fit_transform(master_wkd.instant_bookable)\n",
    "X_wkd['require_guest_profile_picture'] = label_bin.fit_transform(master_wkd.require_guest_profile_picture)\n",
    "X_wkd['require_guest_phone_verification'] = label_bin.fit_transform(master_wkd.require_guest_phone_verification)"
   ]
  },
  {
   "cell_type": "markdown",
   "metadata": {},
   "source": [
    "## Including Interactions"
   ]
  },
  {
   "cell_type": "code",
   "execution_count": 48,
   "metadata": {
    "collapsed": true
   },
   "outputs": [],
   "source": [
    "X_hol['bathrooms*cleaning_fee'] = X_hol['bathrooms'] * X_hol['cleaning_fee']\n",
    "X_hol['bathrooms*guests_included'] = X_hol['bathrooms'] * X_hol['guests_included']\n",
    "X_hol['bathrooms*addommodates'] = X_hol['accommodates'] * X_hol['bathrooms']\n",
    "X_hol['accomodates*cleaning_fee'] = X_hol['accommodates'] * X_hol['cleaning_fee']"
   ]
  },
  {
   "cell_type": "code",
   "execution_count": 49,
   "metadata": {
    "collapsed": true
   },
   "outputs": [],
   "source": [
    "X_wke['bathrooms*cleaning_fee'] = X_wke['bathrooms'] * X_wke['cleaning_fee']\n",
    "X_wke['bathrooms*guests_included'] = X_wke['bathrooms'] * X_wke['guests_included']\n",
    "X_wke['bathrooms*addommodates'] = X_wke['accommodates'] * X_wke['bathrooms']\n",
    "X_wke['accomodates*cleaning_fee'] = X_wke['accommodates'] * X_wke['cleaning_fee']"
   ]
  },
  {
   "cell_type": "code",
   "execution_count": 50,
   "metadata": {
    "collapsed": true
   },
   "outputs": [],
   "source": [
    "X_wkd['bathrooms*cleaning_fee'] = X_wkd['bathrooms'] * X_wkd['cleaning_fee']\n",
    "X_wkd['bathrooms*guests_included'] = X_wkd['bathrooms'] * X_wkd['guests_included']\n",
    "X_wkd['bathrooms*addommodates'] = X_wkd['accommodates'] * X_wkd['bathrooms']\n",
    "X_wkd['accomodates*cleaning_fee'] = X_wkd['accommodates'] * X_wkd['cleaning_fee']"
   ]
  },
  {
   "cell_type": "markdown",
   "metadata": {},
   "source": [
    "## Target and Predictors dataframe creation"
   ]
  },
  {
   "cell_type": "code",
   "execution_count": 51,
   "metadata": {
    "collapsed": true
   },
   "outputs": [],
   "source": [
    "target_hol = X_hol['price_y']\n",
    "target_wke = X_wke['price_y']\n",
    "target_wkd = X_wkd['price_y']"
   ]
  },
  {
   "cell_type": "code",
   "execution_count": 52,
   "metadata": {
    "collapsed": true
   },
   "outputs": [],
   "source": [
    "X_hol = X_hol.drop('price_y', axis = 1)\n",
    "X_wke = X_wke.drop('price_y', axis = 1)\n",
    "X_wkd = X_wkd.drop('price_y', axis = 1)"
   ]
  },
  {
   "cell_type": "markdown",
   "metadata": {},
   "source": [
    "### Whole Target and Predictors dataframe creation"
   ]
  },
  {
   "cell_type": "code",
   "execution_count": 53,
   "metadata": {
    "collapsed": true
   },
   "outputs": [],
   "source": [
    "target_whole = reduce(lambda x, y: x.combine_first(y), [target_hol, target_wke, target_wkd])\n",
    "X_whole = reduce(lambda x, y: x.combine_first(y), [X_hol, X_wke, X_wkd])"
   ]
  },
  {
   "cell_type": "markdown",
   "metadata": {},
   "source": [
    "## Modeling (time series)"
   ]
  },
  {
   "cell_type": "markdown",
   "metadata": {},
   "source": [
    "### Model 3"
   ]
  },
  {
   "cell_type": "markdown",
   "metadata": {},
   "source": [
    "#### Holidays"
   ]
  },
  {
   "cell_type": "code",
   "execution_count": 69,
   "metadata": {},
   "outputs": [],
   "source": [
    "X_train, X_test, y_train, y_test = train_test_split(X_hol, target_hol, test_size=.30, random_state=1)\n",
    "X_train_two, X_val, y_train_two, y_val = train_test_split(X_train, y_train, test_size=.30, random_state=1)"
   ]
  },
  {
   "cell_type": "markdown",
   "metadata": {},
   "source": [
    "##### Linear Model"
   ]
  },
  {
   "cell_type": "code",
   "execution_count": 56,
   "metadata": {},
   "outputs": [
    {
     "name": "stdout",
     "output_type": "stream",
     "text": [
      "R2 for validation is 0.667332578188\n",
      "Mean square error for validation is 8587.70808747\n",
      "Mean absolute error for validation is 61.9781239998\n",
      "R2 is -1.61958634403\n",
      "Mean square error is 66439.3511622\n",
      "Mean absolute error is 67.4951681112\n"
     ]
    }
   ],
   "source": [
    "print('R2 for validation is ' + str(r2_est_two(X_train_two, y_train_two, X_val, y_val)))\n",
    "print('Mean square error for validation is ' + str(mean_squared_error(linear_regression.fit(X_train_two, y_train_two).predict(X_val), y_val)))\n",
    "print('Mean absolute error for validation is ' + str(mean_absolute_error(linear_regression.fit(X_train_two, y_train_two).predict(X_val), y_val)))\n",
    "print('R2 is ' + str(r2_est_two(X_train, y_train, X_test, y_test)))\n",
    "print('Mean square error is ' + str(mean_squared_error(linear_regression.fit(X_train, y_train).predict(X_test), y_test)))\n",
    "print('Mean absolute error is ' + str(mean_absolute_error(linear_regression.fit(X_train, y_train).predict(X_test), y_test)))"
   ]
  },
  {
   "cell_type": "markdown",
   "metadata": {},
   "source": [
    "##### Quadratic Model"
   ]
  },
  {
   "cell_type": "code",
   "execution_count": 70,
   "metadata": {},
   "outputs": [
    {
     "name": "stdout",
     "output_type": "stream",
     "text": [
      "R^2 for validation is 0.0071325269226\n",
      "Mean square error for validation is 10343890.6773\n",
      "Mean absolute error for validation is 1888.96237253\n",
      "R^2 for is -0.00229576787193\n",
      "Mean square error is 23957406.5521\n",
      "Mean absolute error is 1824.57668503\n"
     ]
    }
   ],
   "source": [
    "create_poly = PolynomialFeatures(degree=2, interaction_only=True, include_bias=False)\n",
    "poly = make_pipeline(create_poly, StandardScaler(), linear_regression)\n",
    "model = poly.fit(X_train_two, y_train_two)\n",
    "print('R^2 for validation is ' + str(r2_score(model.predict(X_val), y_val)))\n",
    "print('Mean square error for validation is ' + str(mean_squared_error(model.predict(X_val), y_val)))\n",
    "print('Mean absolute error for validation is ' + str(mean_absolute_error(model.predict(X_val), y_val)))\n",
    "model_final = poly.fit(X_train, y_train)\n",
    "print('R^2 for is ' + str(r2_score(model.predict(X_test), y_test)))\n",
    "print('Mean square error is ' + str(mean_squared_error(model.predict(X_test), y_test)))\n",
    "print('Mean absolute error is ' + str(mean_absolute_error(model.predict(X_test), y_test)))"
   ]
  },
  {
   "cell_type": "markdown",
   "metadata": {},
   "source": [
    "#### Weekends"
   ]
  },
  {
   "cell_type": "code",
   "execution_count": 71,
   "metadata": {},
   "outputs": [],
   "source": [
    "X_train, X_test, y_train, y_test = train_test_split(X_wke, target_wke, test_size=.30, random_state=1)\n",
    "X_train_two, X_val, y_train_two, y_val = train_test_split(X_train, y_train, test_size=.30, random_state=1)"
   ]
  },
  {
   "cell_type": "markdown",
   "metadata": {},
   "source": [
    "##### Linear Model"
   ]
  },
  {
   "cell_type": "code",
   "execution_count": 60,
   "metadata": {},
   "outputs": [
    {
     "name": "stdout",
     "output_type": "stream",
     "text": [
      "R2 for validation is 0.613288860204\n",
      "Mean square error for validation is 11289.0120014\n",
      "Mean absolute error for validation is 68.6589471424\n",
      "R2 is -1.92156598143\n",
      "Mean square error is 77332.8416202\n",
      "Mean absolute error is 73.7650414509\n"
     ]
    }
   ],
   "source": [
    "print('R2 for validation is ' + str(r2_est_two(X_train_two, y_train_two, X_val, y_val)))\n",
    "print('Mean square error for validation is ' + str(mean_squared_error(linear_regression.fit(X_train_two, y_train_two).predict(X_val), y_val)))\n",
    "print('Mean absolute error for validation is ' + str(mean_absolute_error(linear_regression.fit(X_train_two, y_train_two).predict(X_val), y_val)))\n",
    "print('R2 is ' + str(r2_est_two(X_train, y_train, X_test, y_test)))\n",
    "print('Mean square error is ' + str(mean_squared_error(linear_regression.fit(X_train, y_train).predict(X_test), y_test)))\n",
    "print('Mean absolute error is ' + str(mean_absolute_error(linear_regression.fit(X_train, y_train).predict(X_test), y_test)))"
   ]
  },
  {
   "cell_type": "markdown",
   "metadata": {},
   "source": [
    "##### Quadratic Model "
   ]
  },
  {
   "cell_type": "code",
   "execution_count": 72,
   "metadata": {},
   "outputs": [
    {
     "name": "stdout",
     "output_type": "stream",
     "text": [
      "R^2 for validation is 0.00182263532958\n",
      "Mean square error for validation is 1851395.35407\n",
      "Mean absolute error for validation is 820.245818553\n",
      "R^2 for is -0.0021854146768\n",
      "Mean square error is 6.26746507071e+24\n",
      "Mean absolute error is 277544084982.0\n"
     ]
    }
   ],
   "source": [
    "create_poly = PolynomialFeatures(degree=2, interaction_only=True, include_bias=False)\n",
    "poly = make_pipeline(create_poly, StandardScaler(), linear_regression)\n",
    "model = poly.fit(X_train_two, y_train_two)\n",
    "print('R^2 for validation is ' + str(r2_score(model.predict(X_val), y_val)))\n",
    "print('Mean square error for validation is ' + str(mean_squared_error(model.predict(X_val), y_val)))\n",
    "print('Mean absolute error for validation is ' + str(mean_absolute_error(model.predict(X_val), y_val)))\n",
    "model_final = poly.fit(X_train, y_train)\n",
    "print('R^2 for is ' + str(r2_score(model.predict(X_test), y_test)))\n",
    "print('Mean square error is ' + str(mean_squared_error(model.predict(X_test), y_test)))\n",
    "print('Mean absolute error is ' + str(mean_absolute_error(model.predict(X_test), y_test)))"
   ]
  },
  {
   "cell_type": "markdown",
   "metadata": {},
   "source": [
    "#### Weekdays "
   ]
  },
  {
   "cell_type": "code",
   "execution_count": 73,
   "metadata": {},
   "outputs": [],
   "source": [
    "X_train, X_test, y_train, y_test = train_test_split(X_wkd, target_wkd, test_size=.30, random_state=1)\n",
    "X_train_two, X_val, y_train_two, y_val = train_test_split(X_train, y_train, test_size=.30, random_state=1)"
   ]
  },
  {
   "cell_type": "markdown",
   "metadata": {},
   "source": [
    "##### Linear Model"
   ]
  },
  {
   "cell_type": "code",
   "execution_count": 64,
   "metadata": {},
   "outputs": [
    {
     "name": "stdout",
     "output_type": "stream",
     "text": [
      "R2 for validation is 0.607959811208\n",
      "Mean square error for validation is 9979.06322611\n",
      "Mean absolute error for validation is 66.427615843\n",
      "R2 is 0.640284864283\n",
      "Mean square error is 10317.1451407\n",
      "Mean absolute error is 65.821378261\n"
     ]
    }
   ],
   "source": [
    "print('R2 for validation is ' + str(r2_est_two(X_train_two, y_train_two, X_val, y_val)))\n",
    "print('Mean square error for validation is ' + str(mean_squared_error(linear_regression.fit(X_train_two, y_train_two).predict(X_val), y_val)))\n",
    "print('Mean absolute error for validation is ' + str(mean_absolute_error(linear_regression.fit(X_train_two, y_train_two).predict(X_val), y_val)))\n",
    "print('R2 is ' + str(r2_est_two(X_train, y_train, X_test, y_test)))\n",
    "print('Mean square error is ' + str(mean_squared_error(linear_regression.fit(X_train, y_train).predict(X_test), y_test)))\n",
    "print('Mean absolute error is ' + str(mean_absolute_error(linear_regression.fit(X_train, y_train).predict(X_test), y_test)))"
   ]
  },
  {
   "cell_type": "markdown",
   "metadata": {},
   "source": [
    "##### Quadratic Model"
   ]
  },
  {
   "cell_type": "code",
   "execution_count": 74,
   "metadata": {},
   "outputs": [
    {
     "name": "stdout",
     "output_type": "stream",
     "text": [
      "R^2 for validation is 0.0259912623834\n",
      "Mean square error for validation is 431557.97775\n",
      "Mean absolute error for validation is 381.815474329\n",
      "R^2 for is -0.000272081381259\n",
      "Mean square error is 1.09943716594e+24\n",
      "Mean absolute error is 115709905216.0\n"
     ]
    }
   ],
   "source": [
    "create_poly = PolynomialFeatures(degree=2, interaction_only=True, include_bias=False)\n",
    "poly = make_pipeline(create_poly, StandardScaler(), linear_regression)\n",
    "model = poly.fit(X_train_two, y_train_two)\n",
    "print('R^2 for validation is ' + str(r2_score(model.predict(X_val), y_val)))\n",
    "print('Mean square error for validation is ' + str(mean_squared_error(model.predict(X_val), y_val)))\n",
    "print('Mean absolute error for validation is ' + str(mean_absolute_error(model.predict(X_val), y_val)))\n",
    "model_final = poly.fit(X_train, y_train)\n",
    "print('R^2 for is ' + str(r2_score(model.predict(X_test), y_test)))\n",
    "print('Mean square error is ' + str(mean_squared_error(model.predict(X_test), y_test)))\n",
    "print('Mean absolute error is ' + str(mean_absolute_error(model.predict(X_test), y_test)))"
   ]
  },
  {
   "cell_type": "markdown",
   "metadata": {},
   "source": [
    "#### As a whole"
   ]
  },
  {
   "cell_type": "code",
   "execution_count": 75,
   "metadata": {
    "collapsed": true
   },
   "outputs": [],
   "source": [
    "X_train, X_test, y_train, y_test = train_test_split(X_whole, target_whole, test_size=.30, random_state=1)\n",
    "X_train_two, X_val, y_train_two, y_val = train_test_split(X_train, y_train, test_size=.30, random_state=1)"
   ]
  },
  {
   "cell_type": "markdown",
   "metadata": {},
   "source": [
    "##### Linear Model"
   ]
  },
  {
   "cell_type": "code",
   "execution_count": 67,
   "metadata": {},
   "outputs": [
    {
     "name": "stdout",
     "output_type": "stream",
     "text": [
      "R2 for validation is 0.571326041779\n",
      "Mean square error for validation is 9745.66385281\n",
      "Mean absolute error for validation is 62.2131388404\n",
      "R2 is 0.63589271336\n",
      "Mean square error is 9457.98660233\n",
      "Mean absolute error is 60.9864236218\n"
     ]
    }
   ],
   "source": [
    "print('R2 for validation is ' + str(r2_est_two(X_train_two, y_train_two, X_val, y_val)))\n",
    "print('Mean square error for validation is ' + str(mean_squared_error(linear_regression.fit(X_train_two, y_train_two).predict(X_val), y_val)))\n",
    "print('Mean absolute error for validation is ' + str(mean_absolute_error(linear_regression.fit(X_train_two, y_train_two).predict(X_val), y_val)))\n",
    "print('R2 is ' + str(r2_est_two(X_train, y_train, X_test, y_test)))\n",
    "print('Mean square error is ' + str(mean_squared_error(linear_regression.fit(X_train, y_train).predict(X_test), y_test)))\n",
    "print('Mean absolute error is ' + str(mean_absolute_error(linear_regression.fit(X_train, y_train).predict(X_test), y_test)))"
   ]
  },
  {
   "cell_type": "markdown",
   "metadata": {},
   "source": [
    "##### Quadratic Model"
   ]
  },
  {
   "cell_type": "code",
   "execution_count": 76,
   "metadata": {},
   "outputs": [
    {
     "name": "stdout",
     "output_type": "stream",
     "text": [
      "R^2 for validation is -0.000883201004719\n",
      "Mean square error for validation is 5.28121228395e+13\n",
      "Mean absolute error for validation is 1508073.97021\n",
      "R^2 for is -0.000455285076517\n",
      "Mean square error is 1.07677213861e+23\n",
      "Mean absolute error is 38650090287.9\n"
     ]
    }
   ],
   "source": [
    "create_poly = PolynomialFeatures(degree=2, interaction_only=True, include_bias=False)\n",
    "poly = make_pipeline(create_poly, StandardScaler(), linear_regression)\n",
    "model = poly.fit(X_train_two, y_train_two)\n",
    "print('R^2 for validation is ' + str(r2_score(model.predict(X_val), y_val)))\n",
    "print('Mean square error for validation is ' + str(mean_squared_error(model.predict(X_val), y_val)))\n",
    "print('Mean absolute error for validation is ' + str(mean_absolute_error(model.predict(X_val), y_val)))\n",
    "model_final = poly.fit(X_train, y_train)\n",
    "print('R^2 for is ' + str(r2_score(model.predict(X_test), y_test)))\n",
    "print('Mean square error is ' + str(mean_squared_error(model.predict(X_test), y_test)))\n",
    "print('Mean absolute error is ' + str(mean_absolute_error(model.predict(X_test), y_test)))"
   ]
  },
  {
   "cell_type": "code",
   "execution_count": null,
   "metadata": {
    "collapsed": true
   },
   "outputs": [],
   "source": []
  }
 ],
 "metadata": {
  "kernelspec": {
   "display_name": "Python [conda env:py27]",
   "language": "python",
   "name": "conda-env-py27-py"
  },
  "language_info": {
   "codemirror_mode": {
    "name": "ipython",
    "version": 2
   },
   "file_extension": ".py",
   "mimetype": "text/x-python",
   "name": "python",
   "nbconvert_exporter": "python",
   "pygments_lexer": "ipython2",
   "version": "2.7.12"
  }
 },
 "nbformat": 4,
 "nbformat_minor": 2
}
