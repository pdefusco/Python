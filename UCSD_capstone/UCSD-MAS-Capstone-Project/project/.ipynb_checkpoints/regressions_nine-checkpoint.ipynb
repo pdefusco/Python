{
 "cells": [
  {
   "cell_type": "code",
   "execution_count": 1,
   "metadata": {
    "collapsed": true
   },
   "outputs": [],
   "source": [
    "import pandas as pd\n",
    "import numpy as np\n",
    "import scipy.stats as stats\n",
    "import statsmodels.api as sm\n",
    "import statsmodels.formula.api as smf\n",
    "import statsmodels.stats.api as sms\n",
    "from __future__ import print_function\n",
    "from statsmodels.compat import lzip\n",
    "import matplotlib.pyplot as plt\n",
    "import numpy as np\n",
    "import sklearn as sk\n",
    "from sklearn.linear_model import LinearRegression"
   ]
  },
  {
   "cell_type": "code",
   "execution_count": 2,
   "metadata": {
    "collapsed": true
   },
   "outputs": [],
   "source": [
    "from statsmodels.graphics.regressionplots import plot_fit\n",
    "from statsmodels.graphics.regressionplots import plot_leverage_resid2\n",
    "from statsmodels.graphics.regressionplots import plot_regress_exog\n",
    "from sklearn import linear_model\n",
    "from sklearn.preprocessing import PolynomialFeatures\n",
    "from sklearn.pipeline import make_pipeline\n",
    "from sklearn.linear_model import Ridge\n",
    "from pandas.tseries.holiday import USFederalHolidayCalendar as calendar\n",
    "import statsmodels.api as sm\n",
    "import statsmodels.formula.api as smf\n",
    "from sklearn.preprocessing import StandardScaler\n",
    "from sklearn import linear_model\n",
    "from sklearn.pipeline import make_pipeline"
   ]
  },
  {
   "cell_type": "code",
   "execution_count": 3,
   "metadata": {
    "collapsed": true
   },
   "outputs": [],
   "source": [
    "from sklearn.metrics import r2_score, mean_squared_error\n",
    "linear_regression = linear_model.LinearRegression(normalize=False, fit_intercept=True)\n",
    "def r2_est(X,y):\n",
    "    return r2_score(y, linear_regression.fit(X,y).predict(X))\n",
    "def r2_est_two(X,y, X_new, y_new):\n",
    "    return r2_score(y_new, linear_regression.fit(X,y).predict(X_new))"
   ]
  },
  {
   "cell_type": "code",
   "execution_count": 4,
   "metadata": {
    "collapsed": true
   },
   "outputs": [],
   "source": [
    "from sklearn.preprocessing import LabelEncoder, LabelBinarizer\n",
    "from sklearn.decomposition import PCA\n",
    "from sklearn.metrics import mean_absolute_error\n",
    "from sklearn.preprocessing import MinMaxScaler\n",
    "from sklearn.cross_validation import cross_val_score, KFold, StratifiedKFold\n",
    "from sklearn.metrics import make_scorer\n",
    "from sklearn.preprocessing import PolynomialFeatures\n",
    "from sklearn.feature_selection import RFECV\n",
    "from sklearn.cross_validation import KFold\n",
    "from sklearn.cross_validation import train_test_split\n",
    "from sklearn.linear_model import Lasso\n",
    "from sklearn.grid_search import RandomizedSearchCV\n",
    "from scipy.stats import expon"
   ]
  },
  {
   "cell_type": "code",
   "execution_count": 5,
   "metadata": {
    "collapsed": true
   },
   "outputs": [],
   "source": [
    "from sklearn.preprocessing import LabelEncoder, LabelBinarizer\n",
    "label_enc = LabelEncoder()\n",
    "label_bin = LabelBinarizer()"
   ]
  },
  {
   "cell_type": "code",
   "execution_count": 6,
   "metadata": {
    "collapsed": true
   },
   "outputs": [],
   "source": [
    "lasso_regression = linear_model.LassoLars(normalize=False, fit_intercept=True)\n",
    "def r2_lasso_est_two(X,y, X_new, y_new):\n",
    "    return r2_score(y_new, lasso_regression.fit(X,y).predict(X_new))"
   ]
  },
  {
   "cell_type": "code",
   "execution_count": 7,
   "metadata": {
    "collapsed": true
   },
   "outputs": [],
   "source": [
    "ridge_regression = linear_model.Ridge(normalize=False, fit_intercept=True)\n",
    "def r2_ridge_est_two(X,y, X_new, y_new):\n",
    "    return r2_score(y_new, ridge_regression.fit(X,y).predict(X_new))"
   ]
  },
  {
   "cell_type": "code",
   "execution_count": 8,
   "metadata": {
    "collapsed": true
   },
   "outputs": [],
   "source": [
    "def r2_gbd_est_two(X,y, X_new, y_new, loss_, _rate):\n",
    "    gbd = GradientBoostingRegressor(loss = loss_, learning_rate = _rate)\n",
    "    gbd.fit(X,y)\n",
    "    return gbd.score(X_new, y_new)\n",
    "\n",
    "def r2_gbd_est_two_huber(X,y, X_new, y_new):\n",
    "    return r2_gbd_est_two(X,y, X_new, y_new, 'huber', .1)"
   ]
  },
  {
   "cell_type": "code",
   "execution_count": 9,
   "metadata": {
    "collapsed": true
   },
   "outputs": [],
   "source": [
    "from sklearn.feature_selection import RFECV\n",
    "from sklearn.ensemble import GradientBoostingRegressor, AdaBoostRegressor, BaggingRegressor, ExtraTreesRegressor\n",
    "from sklearn.ensemble import RandomForestRegressor"
   ]
  },
  {
   "cell_type": "code",
   "execution_count": 10,
   "metadata": {
    "collapsed": true
   },
   "outputs": [],
   "source": [
    "listings_augmented_2018 = pd.read_csv('listings_augmented_2018-04-29_V1.csv', low_memory=False)"
   ]
  },
  {
   "cell_type": "code",
   "execution_count": 11,
   "metadata": {
    "collapsed": true
   },
   "outputs": [],
   "source": [
    "Dominant_Topic_feature_list = []\n",
    "Topic_feature_list = []\n",
    "\n",
    "for w in listings_augmented_2018.columns:\n",
    "    if 'Dominant_Topic' in w:\n",
    "        Dominant_Topic_feature_list.append(w)\n",
    "    if '-Topic' in w:\n",
    "        Topic_feature_list.append(w)\n",
    "    "
   ]
  },
  {
   "cell_type": "code",
   "execution_count": 12,
   "metadata": {
    "collapsed": true
   },
   "outputs": [],
   "source": [
    "df = pd.DataFrame()\n",
    "\n",
    "for (index, row) in listings_augmented_2018.iterrows():\n",
    "    if index not in range(4324, 4326):\n",
    "        df = df.append(row)"
   ]
  },
  {
   "cell_type": "code",
   "execution_count": 13,
   "metadata": {
    "collapsed": true
   },
   "outputs": [],
   "source": [
    "listings_augmented_2018 = df\n",
    "listings_augmented_2018 = listings_augmented_2018.reset_index()\n",
    "listings_augmented_2018['Unnamed: 0'] = listings_augmented_2018.index\n",
    "listings_augmented_2018 = listings_augmented_2018.drop('index', axis = 1)"
   ]
  },
  {
   "cell_type": "code",
   "execution_count": 14,
   "metadata": {
    "collapsed": true
   },
   "outputs": [],
   "source": [
    "listings_augmented_2018[Topic_feature_list] = listings_augmented_2018[Topic_feature_list].astype('float')\n",
    "listings_augmented_2018[Dominant_Topic_feature_list] = listings_augmented_2018[Dominant_Topic_feature_list].astype('int')"
   ]
  },
  {
   "cell_type": "code",
   "execution_count": 15,
   "metadata": {
    "collapsed": true
   },
   "outputs": [],
   "source": [
    "listings_augmented_2018['host_response_rate'] = listings_augmented_2018['host_response_rate'].astype(str).map(lambda x: x.rstrip(\"%\"))\n",
    "listings_augmented_2018['host_response_rate'] = listings_augmented_2018['host_response_rate'].apply(pd.to_numeric, errors='coerce')\n",
    "listings_augmented_2018['host_response_rate'].replace(regex=True,inplace=True,to_replace=r'\\D',value=r'')\n",
    "listings_augmented_2018['host_acceptance_rate'] = listings_augmented_2018['host_acceptance_rate'].astype(str).map(lambda x: x.rstrip(\"%\"))\n",
    "listings_augmented_2018['host_acceptance_rate'] = listings_augmented_2018['host_acceptance_rate'].apply(pd.to_numeric, errors='coerce')\n",
    "listings_augmented_2018['host_acceptance_rate'].replace(regex=True,inplace=True,to_replace=r'\\D',value=r'')\n",
    "listings_augmented_2018['extra_people'] = listings_augmented_2018['extra_people'].astype(str).map(lambda x: x.lstrip('$'))\n",
    "listings_augmented_2018['extra_people'] = listings_augmented_2018['extra_people'].apply(pd.to_numeric, errors='coerce')\n",
    "listings_augmented_2018['extra_people'].replace(regex=True,inplace=True,to_replace=r'\\D',value=r'')\n",
    "listings_augmented_2018['weekly_price'] = listings_augmented_2018['weekly_price'].astype(str).map(lambda x: x.lstrip('$'))\n",
    "listings_augmented_2018['weekly_price'] = listings_augmented_2018['weekly_price'].apply(pd.to_numeric, errors='coerce')\n",
    "listings_augmented_2018['weekly_price'].replace(regex=True,inplace=True,to_replace=r'\\D',value=r'')\n",
    "listings_augmented_2018['monthly_price'] = listings_augmented_2018['monthly_price'].astype(str).map(lambda x: x.lstrip('$'))\n",
    "listings_augmented_2018['monthly_price'] = listings_augmented_2018['monthly_price'].apply(pd.to_numeric, errors='coerce')\n",
    "listings_augmented_2018['monthly_price'].replace(regex=True,inplace=True,to_replace=r'\\D',value=r'')\n",
    "listings_augmented_2018['security_deposit'] = listings_augmented_2018['security_deposit'].astype(str).map(lambda x: x.lstrip('$'))\n",
    "listings_augmented_2018['security_deposit'] = listings_augmented_2018['security_deposit'].apply(pd.to_numeric, errors='coerce')\n",
    "listings_augmented_2018['security_deposit'].replace(regex=True,inplace=True,to_replace=r'\\D',value=r'')\n",
    "listings_augmented_2018['cleaning_fee'] = listings_augmented_2018['cleaning_fee'].astype(str).map(lambda x: x.lstrip('$'))\n",
    "listings_augmented_2018['cleaning_fee'] = listings_augmented_2018['cleaning_fee'].apply(pd.to_numeric, errors='coerce')\n",
    "listings_augmented_2018['cleaning_fee'].replace(regex=True,inplace=True,to_replace=r'\\D',value=r'')"
   ]
  },
  {
   "cell_type": "code",
   "execution_count": 16,
   "metadata": {
    "collapsed": true
   },
   "outputs": [],
   "source": [
    "listings_augmented_2018['ones'] = np.ones(len(listings_augmented_2018))"
   ]
  },
  {
   "cell_type": "code",
   "execution_count": 17,
   "metadata": {
    "collapsed": true
   },
   "outputs": [],
   "source": [
    "listings_augmented_2018['host_is_superhost'] = label_bin.fit_transform(listings_augmented_2018.host_is_superhost)\n",
    "listings_augmented_2018['is_location_exact'] = label_bin.fit_transform(listings_augmented_2018.is_location_exact)\n",
    "listings_augmented_2018['host_identity_verified'] = label_bin.fit_transform(listings_augmented_2018.host_identity_verified)\n",
    "listings_augmented_2018['instant_bookable'] = label_bin.fit_transform(listings_augmented_2018.instant_bookable)\n",
    "listings_augmented_2018['require_guest_profile_picture'] = label_bin.fit_transform(listings_augmented_2018.require_guest_profile_picture)\n",
    "listings_augmented_2018['require_guest_phone_verification'] = label_bin.fit_transform(listings_augmented_2018.require_guest_phone_verification)"
   ]
  },
  {
   "cell_type": "code",
   "execution_count": 18,
   "metadata": {
    "collapsed": true
   },
   "outputs": [],
   "source": [
    "listings_augmented_2018['host_resp_time_enc'] = label_enc.fit_transform(listings_augmented_2018['host_response_time'].astype(str))\n",
    "listings_augmented_2018['calendar_updated_enc'] = label_enc.fit_transform(listings_augmented_2018['calendar_updated'].astype(str))\n",
    "listings_augmented_2018['bed_type_enc'] = label_enc.fit_transform(listings_augmented_2018['bed_type'].astype(str))\n",
    "listings_augmented_2018['jurisdiction_names_enc'] = label_enc.fit_transform(listings_augmented_2018['jurisdiction_names'].astype(str))\n",
    "listings_augmented_2018['zipcode_enc'] = label_enc.fit_transform(listings_augmented_2018['zipcode'].astype(str))"
   ]
  },
  {
   "cell_type": "code",
   "execution_count": 19,
   "metadata": {
    "collapsed": true
   },
   "outputs": [],
   "source": [
    "listings_augmented_2018 = listings_augmented_2018.drop(['neighbourhood_group_cleansed','square_feet','has_availability','license','weekly_price','monthly_price'], axis = 1)"
   ]
  },
  {
   "cell_type": "code",
   "execution_count": 20,
   "metadata": {
    "collapsed": true
   },
   "outputs": [],
   "source": [
    "listings_augmented_2018 = listings_augmented_2018.drop(['host_response_time','calendar_updated', 'bed_type', 'jurisdiction_names', 'zipcode'], axis = 1)"
   ]
  },
  {
   "cell_type": "code",
   "execution_count": 21,
   "metadata": {
    "collapsed": true
   },
   "outputs": [],
   "source": [
    "listings_augmented_2018 = listings_augmented_2018.select_dtypes(include=['float64', 'int64'])"
   ]
  },
  {
   "cell_type": "code",
   "execution_count": 22,
   "metadata": {
    "collapsed": true
   },
   "outputs": [],
   "source": [
    "listings_augmented_2018 = listings_augmented_2018.fillna(value=listings_augmented_2018.mean())"
   ]
  },
  {
   "cell_type": "code",
   "execution_count": 23,
   "metadata": {
    "collapsed": true
   },
   "outputs": [],
   "source": [
    "target = listings_augmented_2018['price_y']"
   ]
  },
  {
   "cell_type": "code",
   "execution_count": 24,
   "metadata": {
    "collapsed": true
   },
   "outputs": [],
   "source": [
    "X = listings_augmented_2018.drop('price_y', axis = 1)"
   ]
  },
  {
   "cell_type": "code",
   "execution_count": 25,
   "metadata": {
    "collapsed": true
   },
   "outputs": [],
   "source": [
    "X = X.fillna(0)"
   ]
  },
  {
   "cell_type": "markdown",
   "metadata": {
    "collapsed": true
   },
   "source": [
    "## Modeling"
   ]
  },
  {
   "cell_type": "markdown",
   "metadata": {},
   "source": [
    "### Model 28"
   ]
  },
  {
   "cell_type": "code",
   "execution_count": 26,
   "metadata": {
    "collapsed": true
   },
   "outputs": [],
   "source": [
    "X_train, X_test, y_train, y_test = train_test_split(X, target, test_size=.30, random_state=1)\n",
    "X_train_two, X_val, y_train_two, y_val = train_test_split(X_train, y_train, test_size=.30, random_state=1)"
   ]
  },
  {
   "cell_type": "code",
   "execution_count": 27,
   "metadata": {},
   "outputs": [
    {
     "name": "stdout",
     "output_type": "stream",
     "text": [
      "The R2 for validation is 0.660165851254\n",
      "The mean squared error for validation is 9396.31905936\n",
      "The mean absolute error for validation is 60.2633702095\n",
      "The R2 is 0.677682343013\n",
      "The mean squared error is 8094.29210946\n",
      "The mean absolute error for test is 55.27173663\n"
     ]
    }
   ],
   "source": [
    "gbd = GradientBoostingRegressor(loss = 'huber', learning_rate = .1)\n",
    "gbd.fit(X_train_two, y_train_two)\n",
    "b = gbd.predict(X_val)\n",
    "print('The R2 for validation is ' + str(gbd.score(X_val, y_val)))\n",
    "print('The mean squared error for validation is ' + str(mean_squared_error(b, y_val)))\n",
    "print('The mean absolute error for validation is ' + str(mean_absolute_error(b, y_val)))\n",
    "gbd.fit(X_train, y_train)\n",
    "b = gbd.predict(X_test)\n",
    "print('The R2 is ' + str(gbd.score(X_test, y_test)))\n",
    "print('The mean squared error is ' + str(mean_squared_error(b, y_test)))\n",
    "print('The mean absolute error for test is ' + str(mean_absolute_error(b, y_test)))"
   ]
  },
  {
   "cell_type": "code",
   "execution_count": 28,
   "metadata": {
    "collapsed": true
   },
   "outputs": [],
   "source": [
    "def r2_gbd_est_two(X,y, X_new, y_new, loss_, _rate):\n",
    "    gbd = GradientBoostingRegressor(loss = loss_, learning_rate = _rate)\n",
    "    gbd.fit(X,y)\n",
    "    return gbd.score(X_new, y_new)\n",
    "\n",
    "def r2_gbd_est_two_huber(X,y, X_new, y_new):\n",
    "    return r2_gbd_est_two(X,y, X_new, y_new, 'huber', .1)"
   ]
  },
  {
   "cell_type": "code",
   "execution_count": 29,
   "metadata": {},
   "outputs": [
    {
     "name": "stdout",
     "output_type": "stream",
     "text": [
      " 0.011 bedrooms\n",
      " 0.009 longitude\n",
      " 0.004 bathrooms\n",
      " 0.001 maximum_nights\n",
      " 0.001 accommodates\n",
      " 0.001 host_resp_time_enc\n",
      " 0.001 neighborhood_overview-Topic10\n",
      " 0.001 space_DET_tokens_sum_ratio\n",
      " 0.001 host_response_rate\n",
      " 0.001 description_TextLength\n",
      " 0.001 description_CONJ_tokens_sum_ratio\n",
      " 0.001 notes-Topic13\n",
      " 0.000 notes-Topic4\n",
      " 0.000 has\n",
      " 0.000 space-Topic13\n",
      " 0.000 notes-Topic6\n",
      " 0.000 access_NUM\n",
      " 0.000 house_rules-Topic8\n",
      " 0.000 transit_PRON\n",
      " 0.000 transit-Topic15\n",
      " 0.000 notes-Topic11\n",
      " 0.000 description_.\n",
      " 0.000 space-Topic10\n",
      " 0.000 house_rules_VERB_tokens_sum_ratio\n",
      " 0.000 neighborhood_overview-Topic19\n",
      " 0.000 has\"Laptop Friendly Workspace\"\n",
      " 0.000 notes_TextDigitsPerc\n",
      " 0.000 space-Topic0\n",
      " 0.000 neighborhood_overview_X_tokens_sum_ratio\n",
      " 0.000 neighborhood_overview_CONJ\n",
      " 0.000 house_rules_TextLength\n",
      " 0.000 access_X\n",
      " 0.000 notes_ADV_tokens_sum_ratio\n",
      " 0.000 access-Topic2\n",
      " 0.000 extra_people\n",
      " 0.000 house_rules_TextWordsPerc\n",
      " 0.000 access-Topic16\n",
      " 0.000 has\"Lock on Bedroom Door\"\n",
      " 0.000 house_rules-Topic4\n",
      " 0.000 transit-Topic1\n",
      " 0.000 id\n",
      " 0.000 space_NOUN\n",
      "-0.000 house_rules_ADJ\n",
      "-0.000 interaction_PRT\n",
      "-0.000 access-Topic8\n",
      "-0.000 neighborhood_overview_TextPuncPerc\n",
      "-0.000 hasBreakfast\n",
      "-0.000 host_listings_count\n",
      "-0.000 interaction_ADV\n",
      "-0.000 neighborhood_overview-Topic7\n",
      "-0.000 access-Topic5\n",
      "-0.000 review_scores_location\n",
      "-0.000 access_TextLength\n",
      "-0.000 access-Topic14\n",
      "-0.000 house_rules-Topic6\n",
      "-0.000 space-Topic15\n",
      "-0.000 notes-Topic17\n",
      "-0.000 interaction_PRON\n",
      "-0.000 transit_VERB\n",
      "-0.000 house_rules_CONJ_tokens_sum_ratio\n",
      "-0.000 host_acceptance_rate\n",
      "-0.000 space_PRON\n",
      "-0.000 interaction_VERB_tokens_sum_ratio\n",
      "-0.000 space_ADP\n",
      "-0.000 reviews_per_month\n",
      "-0.000 interaction_DET\n",
      "-0.000 transit_ADJ_tokens_sum_ratio\n",
      "-0.000 house_rules_ADP\n",
      "-0.000 transit_TextDigitsPerc\n",
      "-0.000 access_._tokens_sum_ratio\n",
      "-0.000 notes_NOUN\n",
      "-0.000 description-Topic19\n",
      "-0.000 hasDog(s)\n",
      "-0.000 space_PRT_tokens_sum_ratio\n",
      "-0.000 transit_CONJ_tokens_sum_ratio\n",
      "-0.000 has\"Air Conditioning\"\n",
      "-0.000 access-Topic12\n",
      "-0.000 house_rules_PRT_tokens_sum_ratio\n",
      "-0.000 house_rules-Topic11\n",
      "-0.000 transit-Topic2\n",
      "-0.000 interaction-Topic5\n",
      "-0.000 neighborhood_overview_ADV_tokens_sum_ratio\n",
      "-0.000 notes-Topic18\n",
      "-0.000 description_X\n",
      "-0.000 house_rules_LexicalDiversity\n",
      "-0.000 transit_TextWordsPerc\n",
      "-0.000 transit-Topic12\n",
      "-0.000 interaction-Topic7\n",
      "-0.000 interaction_CONJ\n",
      "-0.000 neighborhood_overview_ADJ\n",
      "-0.000 notes_ADP_tokens_sum_ratio\n",
      "-0.000 interaction_ADJ\n",
      "-0.000 neighborhood_overview-Topic13\n",
      "-0.000 space_TextLength\n",
      "-0.000 house_rules-Topic16\n",
      "-0.000 hasDryer\n",
      "-0.000 access-Topic17\n",
      "-0.000 access-Topic4\n",
      "-0.001 hasPool\n",
      "-0.001 transit-Topic11\n",
      "-0.001 description-Topic13\n",
      "-0.001 transit_PRON_tokens_sum_ratio\n",
      "-0.001 notes-Topic16\n",
      "-0.001 notes-Topic1\n",
      "-0.001 hasHeating\n",
      "-0.001 hasEssentials\n",
      "-0.001 transit-Topic19\n",
      "-0.001 hasShampoo\n",
      "-0.001 interaction-Topic1\n",
      "-0.001 notes_VERB\n",
      "-0.001 interaction_VERB\n",
      "-0.001 interaction-Topic11\n",
      "-0.001 notes_DET_tokens_sum_ratio\n",
      "-0.001 space-Topic18\n",
      "-0.001 house_rules-Topic13\n",
      "-0.001 has\"Wireless Internet\"\n",
      "-0.001 access_ADV_tokens_sum_ratio\n",
      "-0.001 house_rules_X_tokens_sum_ratio\n",
      "-0.001 access_X_tokens_sum_ratio\n",
      "-0.001 description-Topic16\n",
      "-0.001 hasWasher\n",
      "-0.001 access-Topic10\n",
      "-0.001 access-Topic1\n",
      "-0.001 house_rules_DET_tokens_sum_ratio\n",
      "-0.001 notes_TextLength\n",
      "-0.001 house_rules-Topic17\n",
      "-0.001 space_X\n",
      "-0.001 description_ADJ\n",
      "-0.001 bed_type_enc\n",
      "-0.001 neighborhood_overview_PRT_tokens_sum_ratio\n",
      "-0.001 transit-Topic3\n",
      "-0.001 neighborhood_overview_PRT\n",
      "-0.001 interaction-Topic4\n",
      "-0.001 notes_NOUN_tokens_sum_ratio\n",
      "-0.001 has\"Pets live on this property\"\n",
      "-0.001 has\"Smoke Detector\"\n",
      "-0.001 access_ADP_tokens_sum_ratio\n",
      "-0.001 space_DET\n",
      "-0.001 transit_KmeansCluster\n",
      "-0.001 access-Topic19\n",
      "-0.001 access_PRON_tokens_sum_ratio\n",
      "-0.001 access_DET\n",
      "-0.001 review_scores_communication\n",
      "-0.001 security_deposit\n",
      "-0.001 access_VERB\n",
      "-0.001 interaction-Topic15\n",
      "-0.001 beds\n",
      "-0.001 interaction-Topic10\n",
      "-0.001 neighborhood_overview-Topic4\n",
      "-0.001 transit_TextLength\n",
      "-0.001 description_ADP\n",
      "-0.001 interaction-Topic0\n",
      "-0.001 notes_TextWordsPerc\n",
      "-0.001 neighborhood_overview-Topic15\n",
      "-0.001 access_PRT\n",
      "-0.001 transit_ADV\n",
      "-0.001 house_rules_NUM\n",
      "-0.001 interaction_CONJ_tokens_sum_ratio\n",
      "-0.001 neighborhood_overview-Topic0\n",
      "-0.001 house_rules_CONJ\n",
      "-0.001 house_rules_.\n",
      "-0.001 notes-Topic0\n",
      "-0.001 transit_LexicalDiversity\n",
      "-0.001 neighborhood_overview_PRON\n",
      "-0.001 has\"translation missing: en.hosting_amenity_50\"\n",
      "-0.001 space_CONJ\n",
      "-0.001 house_rules_ADJ_tokens_sum_ratio\n",
      "-0.001 has\"Carbon Monoxide Detector\"\n",
      "-0.001 neighborhood_overview_NUM\n",
      "-0.001 transit_ADP\n",
      "-0.001 description_NUM\n",
      "-0.001 neighborhood_overview-Topic9\n",
      "-0.001 access_VERB_tokens_sum_ratio\n",
      "-0.001 neighborhood_overview_KmeansCluster\n",
      "-0.001 neighborhood_overview_ADP_tokens_sum_ratio\n",
      "-0.001 access_NOUN_tokens_sum_ratio\n",
      "-0.001 description-Topic6\n",
      "-0.001 description_TextPuncPerc\n",
      "-0.001 interaction_PRON_tokens_sum_ratio\n",
      "-0.001 neighborhood_overview-Topic6\n",
      "-0.001 neighborhood_overview_.\n",
      "-0.001 description_KmeansCluster\n",
      "-0.001 space_TextPuncPerc\n",
      "-0.001 has\"Fire Extinguisher\"\n",
      "-0.001 description-Topic12\n",
      "-0.001 neighborhood_overview_NUM_tokens_sum_ratio\n",
      "-0.001 transit_DET\n",
      "-0.001 description-Topic0\n",
      "-0.001 neighborhood_overview_._tokens_sum_ratio\n",
      "-0.001 notes_._tokens_sum_ratio\n",
      "-0.001 hasIron\n",
      "-0.001 interaction_NOUN\n",
      "-0.001 neighborhood_overview_DET_tokens_sum_ratio\n",
      "-0.001 transit-Topic14\n",
      "-0.001 space_ADJ_tokens_sum_ratio\n",
      "-0.001 house_rules-Topic14\n",
      "-0.001 notes_DET\n",
      "-0.001 space_.\n",
      "-0.001 transit_TextPuncPerc\n",
      "-0.001 space_ADV\n",
      "-0.001 interaction_TextPuncPerc\n",
      "-0.001 notes_VERB_tokens_sum_ratio\n",
      "-0.001 has\"24-Hour Check-in\"\n",
      "-0.001 house_rules_NOUN_tokens_sum_ratio\n",
      "-0.001 description_PRT_tokens_sum_ratio\n",
      "-0.001 notes_TextPuncPerc\n",
      "-0.001 has\"Wheelchair Accessible\"\n",
      "-0.001 transit_X\n",
      "-0.001 neighborhood_overview_PRON_tokens_sum_ratio\n",
      "-0.001 neighborhood_overview_TextLength\n",
      "-0.001 neighborhood_overview_TextDigitsPerc\n",
      "-0.001 description_PRON_tokens_sum_ratio\n",
      "-0.001 calendar_updated_enc\n",
      "-0.001 access-Topic0\n",
      "-0.001 house_rules_._tokens_sum_ratio\n",
      "-0.001 space-Topic19\n",
      "-0.001 transit-Topic0\n",
      "-0.001 interaction-Topic17\n",
      "-0.001 has\"Hot Tub\"\n",
      "-0.001 has\"Other pet(s)\"\n",
      "-0.001 neighborhood_overview-Topic14\n",
      "-0.001 interaction_ADP\n",
      "-0.001 house_rules_TextPuncPerc\n",
      "-0.001 hasCat(s)\n",
      "-0.001 transit_._tokens_sum_ratio\n",
      "-0.001 notes_ADP\n",
      "-0.001 description-Topic9\n",
      "-0.001 neighborhood_overview_VERB_tokens_sum_ratio\n",
      "-0.001 transit_ADV_tokens_sum_ratio\n",
      "-0.001 space-Topic2\n",
      "-0.001 has\"Smoking Allowed\"\n",
      "-0.001 house_rules-Topic12\n",
      "-0.001 notes-Topic19\n",
      "-0.001 access_KmeansCluster\n",
      "-0.001 house_rules-Topic7\n",
      "-0.001 transit_NOUN_tokens_sum_ratio\n",
      "-0.001 notes_PRT\n",
      "-0.001 transit_ADP_tokens_sum_ratio\n",
      "-0.001 notes_KmeansCluster\n",
      "-0.001 description-Topic5\n",
      "-0.001 house_rules_ADV\n",
      "-0.001 transit-Topic17\n",
      "-0.001 transit_ADJ\n",
      "-0.001 review_scores_value\n",
      "-0.001 description_CONJ\n",
      "-0.001 space_._tokens_sum_ratio\n",
      "-0.001 transit_VERB_tokens_sum_ratio\n",
      "-0.001 availability_90\n",
      "-0.001 access-Topic9\n",
      "-0.001 transit_PRT_tokens_sum_ratio\n",
      "-0.001 interaction_NOUN_tokens_sum_ratio\n",
      "-0.001 neighborhood_overview-Topic11\n",
      "-0.001 access_ADV\n",
      "-0.001 description_TextDigitsPerc\n",
      "-0.001 has\"Pets Allowed\"\n",
      "-0.001 access_PRT_tokens_sum_ratio\n",
      "-0.001 house_rules_X\n",
      "-0.001 description-Topic15\n",
      "-0.001 interaction-Topic2\n",
      "-0.001 access-Topic3\n",
      "-0.001 interaction_ADV_tokens_sum_ratio\n",
      "-0.001 description_DET\n",
      "-0.001 access_LexicalDiversity\n",
      "-0.001 house_rules_PRT\n",
      "-0.001 description_NUM_tokens_sum_ratio\n",
      "-0.001 host_total_listings_count\n",
      "-0.001 access_TextWordsPerc\n",
      "-0.001 notes_ADJ_tokens_sum_ratio\n",
      "-0.001 notes-Topic3\n",
      "-0.001 interaction-Topic9\n",
      "-0.001 neighborhood_overview_TextWordsPerc\n",
      "-0.001 interaction_ADJ_tokens_sum_ratio\n",
      "-0.001 description_X_tokens_sum_ratio\n",
      "-0.001 access-Topic7\n",
      "-0.001 notes-Topic15\n",
      "-0.002 neighborhood_overview-Topic16\n",
      "-0.002 has\"First Aid Kit\"\n",
      "-0.002 neighborhood_overview_NOUN_tokens_sum_ratio\n",
      "-0.002 space_NUM_tokens_sum_ratio\n",
      "-0.002 space_LexicalDiversity\n",
      "-0.002 interaction-Topic14\n",
      "-0.002 space-Topic4\n",
      "-0.002 neighborhood_overview-Topic3\n",
      "-0.002 description_ADJ_tokens_sum_ratio\n",
      "-0.002 space-Topic9\n",
      "-0.002 transit_NUM\n",
      "-0.002 notes_PRON\n",
      "-0.002 access_ADJ_tokens_sum_ratio\n",
      "-0.002 house_rules_ADV_tokens_sum_ratio\n",
      "-0.002 has\"Family/Kid Friendly\"\n",
      "-0.002 scrape_id\n",
      "-0.002 description-Topic10\n",
      "-0.002 house_rules-Topic9\n",
      "-0.002 description_ADV\n",
      "-0.002 notes_.\n",
      "-0.002 interaction_DET_tokens_sum_ratio\n",
      "-0.002 notes_X_tokens_sum_ratio\n",
      "-0.002 neighborhood_overview_CONJ_tokens_sum_ratio\n",
      "-0.002 interaction_NUM_tokens_sum_ratio\n",
      "-0.002 transit-Topic13\n",
      "-0.002 house_rules_PRON_tokens_sum_ratio\n",
      "-0.002 has\"translation missing: en.hosting_amenity_49\"\n",
      "-0.002 house_rules_NOUN\n",
      "-0.002 access_ADP\n",
      "-0.002 neighborhood_overview-Topic5\n",
      "-0.002 neighborhood_overview-Topic17\n",
      "-0.002 cleaning_fee\n",
      "-0.002 access-Topic6\n",
      "-0.002 description-Topic8\n",
      "-0.002 space-Topic1\n",
      "-0.002 interaction-Topic3\n",
      "-0.002 transit_NUM_tokens_sum_ratio\n",
      "-0.002 interaction_KmeansCluster\n",
      "-0.002 interaction_NUM\n",
      "-0.002 access_CONJ_tokens_sum_ratio\n",
      "-0.002 transit_X_tokens_sum_ratio\n",
      "-0.002 neighborhood_overview_ADP\n",
      "-0.002 neighborhood_overview-Topic18\n",
      "-0.002 listing_id\n",
      "-0.002 access_.\n",
      "-0.002 space_PRT\n",
      "-0.002 jurisdiction_names_enc\n",
      "-0.002 space-Topic14\n",
      "-0.002 neighborhood_overview-Topic12\n",
      "-0.002 neighborhood_overview_VERB\n",
      "-0.002 transit-Topic10\n",
      "-0.002 notes-Topic8\n",
      "-0.002 access-Topic18\n",
      "-0.002 notes_ADJ\n",
      "-0.002 neighborhood_overview-Topic2\n",
      "-0.002 interaction-Topic18\n",
      "-0.002 notes-Topic5\n",
      "-0.002 neighborhood_overview-Topic1\n",
      "-0.002 notes_LexicalDiversity\n",
      "-0.002 neighborhood_overview_X\n",
      "-0.002 house_rules-Topic10\n",
      "-0.002 description_ADV_tokens_sum_ratio\n",
      "-0.002 transit-Topic6\n",
      "-0.002 space-Topic16\n",
      "-0.002 notes-Topic10\n",
      "-0.002 interaction-Topic6\n",
      "-0.002 house_rules-Topic2\n",
      "-0.002 house_rules-Topic18\n",
      "-0.002 neighborhood_overview_ADV\n",
      "-0.002 transit_CONJ\n",
      "-0.002 access_PRON\n",
      "-0.002 transit_DET_tokens_sum_ratio\n",
      "-0.002 house_rules_PRON\n",
      "-0.002 notes-Topic14\n",
      "-0.002 house_rules-Topic5\n",
      "-0.002 transit_NOUN\n",
      "-0.002 notes_ADV\n",
      "-0.002 transit-Topic5\n",
      "-0.002 interaction_LexicalDiversity\n",
      "-0.002 space-Topic5\n",
      "-0.002 space_CONJ_tokens_sum_ratio\n",
      "-0.002 description_NOUN_tokens_sum_ratio\n",
      "-0.002 interaction-Topic16\n",
      "-0.002 interaction-Topic8\n",
      "-0.002 description_NOUN\n",
      "-0.002 review_scores_rating\n",
      "-0.002 description_VERB\n",
      "-0.002 space-Topic7\n",
      "-0.002 description-Topic3\n",
      "-0.002 neighborhood_overview_DET\n",
      "-0.002 description-Topic7\n",
      "-0.002 house_rules-Topic3\n",
      "-0.002 notes-Topic7\n",
      "-0.002 interaction_PRT_tokens_sum_ratio\n",
      "-0.002 description-Topic18\n",
      "-0.002 hasDoorman\n",
      "-0.002 interaction-Topic19\n",
      "-0.002 space-Topic6\n",
      "-0.002 access_DET_tokens_sum_ratio\n",
      "-0.002 space-Topic3\n",
      "-0.002 minimum_nights\n",
      "-0.002 notes-Topic12\n",
      "-0.002 interaction_X_tokens_sum_ratio\n",
      "-0.002 interaction_TextDigitsPerc\n",
      "-0.002 notes_NUM_tokens_sum_ratio\n",
      "-0.002 house_rules_NUM_tokens_sum_ratio\n",
      "-0.002 space_ADJ\n",
      "-0.002 description_ADP_tokens_sum_ratio\n",
      "-0.002 neighborhood_overview_ADJ_tokens_sum_ratio\n",
      "-0.002 has\"Hair Dryer\"\n",
      "-0.002 space_X_tokens_sum_ratio\n",
      "-0.002 space_TextWordsPerc\n",
      "-0.002 notes_PRT_tokens_sum_ratio\n",
      "-0.002 interaction-Topic13\n",
      "-0.002 space_VERB\n",
      "-0.002 access_ADJ\n",
      "-0.002 access-Topic15\n",
      "-0.002 notes_CONJ\n",
      "-0.002 interaction_X\n",
      "-0.002 space-Topic11\n",
      "-0.002 hasInternet\n",
      "-0.002 description-Topic14\n",
      "-0.002 review_scores_accuracy\n",
      "-0.002 has\"Free Parking on Premises\"\n",
      "-0.002 notes_X\n",
      "-0.002 description_._tokens_sum_ratio\n",
      "-0.002 hasHangers\n",
      "-0.002 review_scores_checkin\n",
      "-0.002 transit-Topic16\n",
      "-0.002 notes_PRON_tokens_sum_ratio\n",
      "-0.002 description-Topic4\n",
      "-0.002 house_rules_DET\n",
      "-0.002 description_VERB_tokens_sum_ratio\n",
      "-0.002 hasGym\n",
      "-0.002 neighborhood_overview-Topic8\n",
      "-0.002 ones\n",
      "-0.002 access_NOUN\n",
      "-0.002 interaction_.\n",
      "-0.002 description_DET_tokens_sum_ratio\n",
      "-0.002 space_NUM\n",
      "-0.002 space-Topic17\n",
      "-0.002 host_id\n",
      "-0.002 transit_.\n",
      "-0.002 description_PRT\n",
      "-0.002 space-Topic8\n",
      "-0.002 interaction_ADP_tokens_sum_ratio\n",
      "-0.002 house_rules-Topic19\n",
      "-0.002 transit-Topic7\n",
      "-0.002 notes_NUM\n",
      "-0.002 neighborhood_overview_LexicalDiversity\n",
      "-0.002 interaction-Topic12\n",
      "-0.002 access_NUM_tokens_sum_ratio\n",
      "-0.002 space_ADP_tokens_sum_ratio\n",
      "-0.002 access_CONJ\n",
      "-0.002 transit_PRT\n",
      "-0.002 transit-Topic4\n",
      "-0.002 transit-Topic18\n",
      "-0.002 interaction_._tokens_sum_ratio\n",
      "-0.002 has\"Indoor Fireplace\"\n",
      "-0.002 description-Topic1\n",
      "-0.002 notes_CONJ_tokens_sum_ratio\n",
      "-0.002 notes-Topic9\n",
      "-0.002 neighborhood_overview_NOUN\n",
      "-0.002 transit-Topic8\n",
      "-0.003 hasKitchen\n",
      "-0.003 space_TextDigitsPerc\n",
      "-0.003 access_TextPuncPerc\n",
      "-0.003 house_rules-Topic0\n",
      "-0.003 space_KmeansCluster\n",
      "-0.003 has\"Safety Card\"\n",
      "-0.003 house_rules_KmeansCluster\n",
      "-0.003 has\"Suitable for Events\"\n",
      "-0.003 space_NOUN_tokens_sum_ratio\n",
      "-0.003 description-Topic2\n",
      "-0.003 house_rules_VERB\n",
      "-0.003 interaction_TextLength\n",
      "-0.003 space-Topic12\n",
      "-0.003 has\"Buzzer/Wireless Intercom\"\n",
      "-0.003 space_PRON_tokens_sum_ratio\n",
      "-0.003 interaction_TextWordsPerc\n",
      "-0.003 review_scores_cleanliness\n",
      "-0.003 latitude\n",
      "-0.003 has\"Elevator in Building\"\n",
      "-0.003 access-Topic11\n",
      "-0.003 house_rules-Topic1\n",
      "-0.003 has\"Cable TV\"\n",
      "-0.003 house_rules_TextDigitsPerc\n",
      "-0.003 transit-Topic9\n",
      "-0.003 availability_60\n",
      "-0.004 house_rules-Topic15\n",
      "-0.004 access-Topic13\n",
      "-0.004 notes-Topic2\n",
      "-0.004 calculated_host_listings_count\n",
      "-0.004 availability_30\n",
      "-0.004 description-Topic11\n",
      "-0.004 access_TextDigitsPerc\n",
      "-0.004 Unnamed: 0\n",
      "-0.004 availability_365\n",
      "-0.004 description_PRON\n",
      "-0.004 description_LexicalDiversity\n",
      "-0.004 hasTV\n",
      "-0.005 space_VERB_tokens_sum_ratio\n",
      "-0.005 description-Topic17\n",
      "-0.005 description_TextWordsPerc\n",
      "-0.005 zipcode_enc\n",
      "-0.006 house_rules_ADP_tokens_sum_ratio\n",
      "-0.007 number_of_reviews\n",
      "-0.010 guests_included\n"
     ]
    }
   ],
   "source": [
    "r2_impact = list()\n",
    "baseline = r2_gbd_est_two_huber(X_train, y_train, X_test, y_test)\n",
    "for j in range(X.shape[1]):\n",
    "    selection = [i for i in range(X.shape[1]) if i!=j]\n",
    "    r2_impact.append((baseline - (r2_gbd_est_two_huber(X_train.values[:,selection], y_train, X_test.values[:,selection], y_test)), X_test.columns[j]))\n",
    "for imp, var in sorted(r2_impact, reverse=True):\n",
    "    print(\"%6.3f %s\" %(imp, var))"
   ]
  },
  {
   "cell_type": "markdown",
   "metadata": {},
   "source": [
    "### Model 29"
   ]
  },
  {
   "cell_type": "code",
   "execution_count": null,
   "metadata": {
    "collapsed": true
   },
   "outputs": [],
   "source": []
  }
 ],
 "metadata": {
  "anaconda-cloud": {},
  "kernelspec": {
   "display_name": "Python [conda env:py27]",
   "language": "python",
   "name": "conda-env-py27-py"
  },
  "language_info": {
   "codemirror_mode": {
    "name": "ipython",
    "version": 2
   },
   "file_extension": ".py",
   "mimetype": "text/x-python",
   "name": "python",
   "nbconvert_exporter": "python",
   "pygments_lexer": "ipython2",
   "version": "2.7.12"
  }
 },
 "nbformat": 4,
 "nbformat_minor": 2
}
