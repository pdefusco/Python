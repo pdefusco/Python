{
 "cells": [
  {
   "cell_type": "markdown",
   "metadata": {},
   "source": [
    "## Importing necessary packages and doing relevant cleaning\n"
   ]
  },
  {
   "cell_type": "code",
   "execution_count": 1,
   "metadata": {
    "collapsed": true
   },
   "outputs": [],
   "source": [
    "import pandas as pd\n",
    "import numpy as np\n",
    "import scipy.stats as stats\n",
    "import statsmodels.api as sm\n",
    "import statsmodels.formula.api as smf\n",
    "import statsmodels.stats.api as sms\n",
    "from __future__ import print_function\n",
    "from statsmodels.compat import lzip\n",
    "import matplotlib.pyplot as plt\n",
    "import numpy as np\n",
    "import sklearn as sk\n",
    "from sklearn.linear_model import LinearRegression"
   ]
  },
  {
   "cell_type": "code",
   "execution_count": 2,
   "metadata": {
    "collapsed": true
   },
   "outputs": [],
   "source": [
    "from statsmodels.graphics.regressionplots import plot_fit\n",
    "from statsmodels.graphics.regressionplots import plot_leverage_resid2\n",
    "from statsmodels.graphics.regressionplots import plot_regress_exog\n",
    "from sklearn import linear_model\n",
    "from sklearn.preprocessing import PolynomialFeatures\n",
    "from sklearn.pipeline import make_pipeline\n",
    "from sklearn.linear_model import Ridge\n",
    "from pandas.tseries.holiday import USFederalHolidayCalendar as calendar\n",
    "import statsmodels.api as sm\n",
    "import statsmodels.formula.api as smf\n",
    "from sklearn.preprocessing import StandardScaler\n",
    "from sklearn import linear_model\n",
    "from sklearn.pipeline import make_pipeline"
   ]
  },
  {
   "cell_type": "code",
   "execution_count": 3,
   "metadata": {
    "collapsed": true
   },
   "outputs": [],
   "source": [
    "from sklearn.metrics import r2_score, mean_squared_error\n",
    "linear_regression = linear_model.LinearRegression(normalize=False, fit_intercept=True)\n",
    "def r2_est(X,y):\n",
    "    return r2_score(y, linear_regression.fit(X,y).predict(X))\n",
    "def r2_est_two(X,y, X_new, y_new):\n",
    "    return r2_score(y_new, linear_regression.fit(X,y).predict(X_new))"
   ]
  },
  {
   "cell_type": "code",
   "execution_count": 4,
   "metadata": {
    "collapsed": true
   },
   "outputs": [],
   "source": [
    "from sklearn.preprocessing import LabelEncoder, LabelBinarizer\n",
    "from sklearn.decomposition import PCA\n",
    "from sklearn.metrics import mean_absolute_error\n",
    "from sklearn.preprocessing import MinMaxScaler\n",
    "from sklearn.cross_validation import cross_val_score, KFold, StratifiedKFold\n",
    "from sklearn.metrics import make_scorer\n",
    "from sklearn.preprocessing import PolynomialFeatures\n",
    "from sklearn.feature_selection import RFECV\n",
    "from sklearn.cross_validation import KFold\n",
    "from sklearn.cross_validation import train_test_split\n",
    "from sklearn.linear_model import Lasso\n",
    "from sklearn.grid_search import RandomizedSearchCV\n",
    "from scipy.stats import expon"
   ]
  },
  {
   "cell_type": "code",
   "execution_count": 5,
   "metadata": {
    "collapsed": true
   },
   "outputs": [],
   "source": [
    "from sklearn.preprocessing import LabelEncoder, LabelBinarizer\n",
    "label_enc = LabelEncoder()\n",
    "label_bin = LabelBinarizer()"
   ]
  },
  {
   "cell_type": "code",
   "execution_count": 6,
   "metadata": {
    "collapsed": true
   },
   "outputs": [],
   "source": [
    "lasso_regression = linear_model.LassoLars(normalize=False, fit_intercept=True)\n",
    "def r2_lasso_est_two(X,y, X_new, y_new):\n",
    "    return r2_score(y_new, lasso_regression.fit(X,y).predict(X_new))"
   ]
  },
  {
   "cell_type": "code",
   "execution_count": 7,
   "metadata": {
    "collapsed": true
   },
   "outputs": [],
   "source": [
    "ridge_regression = linear_model.Ridge(normalize=False, fit_intercept=True)\n",
    "def r2_ridge_est_two(X,y, X_new, y_new):\n",
    "    return r2_score(y_new, ridge_regression.fit(X,y).predict(X_new))"
   ]
  },
  {
   "cell_type": "code",
   "execution_count": 8,
   "metadata": {
    "collapsed": true
   },
   "outputs": [],
   "source": [
    "def r2_gbd_est_two(X,y, X_new, y_new, loss_, _rate):\n",
    "    gbd = GradientBoostingRegressor(loss = loss_, learning_rate = _rate)\n",
    "    gbd.fit(X,y)\n",
    "    return gbd.score(X_new, y_new)\n",
    "\n",
    "def r2_gbd_est_two_huber(X,y, X_new, y_new):\n",
    "    return r2_gbd_est_two(X,y, X_new, y_new, 'huber', .1)"
   ]
  },
  {
   "cell_type": "code",
   "execution_count": 9,
   "metadata": {
    "collapsed": true
   },
   "outputs": [],
   "source": [
    "from sklearn.feature_selection import RFECV\n",
    "from sklearn.ensemble import GradientBoostingRegressor, AdaBoostRegressor, BaggingRegressor, ExtraTreesRegressor\n",
    "from sklearn.ensemble import RandomForestRegressor"
   ]
  },
  {
   "cell_type": "code",
   "execution_count": 11,
   "metadata": {},
   "outputs": [],
   "source": [
    "listings_augmented_2018_before = pd.read_csv('listings_augmented_2018-04-25-4-11.csv', low_memory = False)\n",
    "listings_augmented_2018 = pd.read_csv('listings_augmented_2018-04-29_V1.csv', low_memory=False)"
   ]
  },
  {
   "cell_type": "code",
   "execution_count": 12,
   "metadata": {
    "collapsed": true
   },
   "outputs": [],
   "source": [
    "Dominant_Topic_feature_list = []\n",
    "Topic_feature_list = []\n",
    "\n",
    "for w in listings_augmented_2018.columns:\n",
    "    if 'Dominant_Topic' in w:\n",
    "        Dominant_Topic_feature_list.append(w)\n",
    "    if '-Topic' in w:\n",
    "        Topic_feature_list.append(w)"
   ]
  },
  {
   "cell_type": "code",
   "execution_count": 15,
   "metadata": {
    "collapsed": true
   },
   "outputs": [],
   "source": [
    "df = pd.DataFrame()\n",
    "\n",
    "for (index, row) in listings_augmented_2018.iterrows():\n",
    "    if index not in range(4324, 4326):\n",
    "        df = df.append(row)"
   ]
  },
  {
   "cell_type": "code",
   "execution_count": 16,
   "metadata": {
    "collapsed": true
   },
   "outputs": [],
   "source": [
    "listings_augmented_2018 = df\n",
    "listings_augmented_2018 = listings_augmented_2018.reset_index()\n",
    "listings_augmented_2018['Unnamed: 0'] = listings_augmented_2018.index\n",
    "listings_augmented_2018 = listings_augmented_2018.drop('index', axis = 1)"
   ]
  },
  {
   "cell_type": "code",
   "execution_count": 21,
   "metadata": {
    "collapsed": true
   },
   "outputs": [],
   "source": [
    "listings_augmented_2018[Topic_feature_list] = listings_augmented_2018[Topic_feature_list].astype('float64')\n",
    "listings_augmented_2018[Dominant_Topic_feature_list] = listings_augmented_2018[Dominant_Topic_feature_list].astype('int64')"
   ]
  },
  {
   "cell_type": "code",
   "execution_count": 27,
   "metadata": {
    "collapsed": true
   },
   "outputs": [],
   "source": [
    "a = listings_augmented_2018['host_verifications'].map(lambda x: x[1:-1]).map(lambda j: j.split(',')).map(lambda k: set(k))"
   ]
  },
  {
   "cell_type": "code",
   "execution_count": 28,
   "metadata": {},
   "outputs": [],
   "source": [
    "all_host_verifications = set()\n",
    "\n",
    "for w in a.index:\n",
    "    all_host_verifications = all_host_verifications.union(a[w])"
   ]
  },
  {
   "cell_type": "code",
   "execution_count": 29,
   "metadata": {
    "collapsed": true
   },
   "outputs": [],
   "source": [
    "def has_amenity(x, amen_):\n",
    "    if amen_ in x:\n",
    "        return 1\n",
    "    pass"
   ]
  },
  {
   "cell_type": "code",
   "execution_count": 30,
   "metadata": {
    "collapsed": true
   },
   "outputs": [],
   "source": [
    "for w in all_host_verifications:\n",
    "    listings_augmented_2018['uses' + w] = 0\n",
    "    listings_augmented_2018['uses' + w] = a.map(lambda x: has_amenity(x, w))\n",
    "    \n",
    "uses_verification_list = []\n",
    "for veri in all_host_verifications:\n",
    "    uses_verification_list.append('uses' + veri)\n",
    "\n",
    "listings_augmented_2018[uses_verification_list] = listings_augmented_2018[uses_verification_list].fillna(0)"
   ]
  },
  {
   "cell_type": "code",
   "execution_count": 31,
   "metadata": {
    "collapsed": true
   },
   "outputs": [],
   "source": [
    "listings_augmented_2018['host_response_rate'] = listings_augmented_2018['host_response_rate'].astype(str).map(lambda x: x.rstrip(\"%\"))\n",
    "listings_augmented_2018['host_response_rate'] = listings_augmented_2018['host_response_rate'].apply(pd.to_numeric, errors='coerce')\n",
    "listings_augmented_2018['host_response_rate'].replace(regex=True,inplace=True,to_replace=r'\\D',value=r'')\n",
    "listings_augmented_2018['host_acceptance_rate'] = listings_augmented_2018['host_acceptance_rate'].astype(str).map(lambda x: x.rstrip(\"%\"))\n",
    "listings_augmented_2018['host_acceptance_rate'] = listings_augmented_2018['host_acceptance_rate'].apply(pd.to_numeric, errors='coerce')\n",
    "listings_augmented_2018['host_acceptance_rate'].replace(regex=True,inplace=True,to_replace=r'\\D',value=r'')\n",
    "listings_augmented_2018['extra_people'] = listings_augmented_2018['extra_people'].astype(str).map(lambda x: x.lstrip('$'))\n",
    "listings_augmented_2018['extra_people'] = listings_augmented_2018['extra_people'].apply(pd.to_numeric, errors='coerce')\n",
    "listings_augmented_2018['extra_people'].replace(regex=True,inplace=True,to_replace=r'\\D',value=r'')\n",
    "listings_augmented_2018['weekly_price'] = listings_augmented_2018['weekly_price'].astype(str).map(lambda x: x.lstrip('$'))\n",
    "listings_augmented_2018['weekly_price'] = listings_augmented_2018['weekly_price'].apply(pd.to_numeric, errors='coerce')\n",
    "listings_augmented_2018['weekly_price'].replace(regex=True,inplace=True,to_replace=r'\\D',value=r'')\n",
    "listings_augmented_2018['monthly_price'] = listings_augmented_2018['monthly_price'].astype(str).map(lambda x: x.lstrip('$'))\n",
    "listings_augmented_2018['monthly_price'] = listings_augmented_2018['monthly_price'].apply(pd.to_numeric, errors='coerce')\n",
    "listings_augmented_2018['monthly_price'].replace(regex=True,inplace=True,to_replace=r'\\D',value=r'')\n",
    "listings_augmented_2018['security_deposit'] = listings_augmented_2018['security_deposit'].astype(str).map(lambda x: x.lstrip('$'))\n",
    "listings_augmented_2018['security_deposit'] = listings_augmented_2018['security_deposit'].apply(pd.to_numeric, errors='coerce')\n",
    "listings_augmented_2018['security_deposit'].replace(regex=True,inplace=True,to_replace=r'\\D',value=r'')\n",
    "listings_augmented_2018['cleaning_fee'] = listings_augmented_2018['cleaning_fee'].astype(str).map(lambda x: x.lstrip('$'))\n",
    "listings_augmented_2018['cleaning_fee'] = listings_augmented_2018['cleaning_fee'].apply(pd.to_numeric, errors='coerce')\n",
    "listings_augmented_2018['cleaning_fee'].replace(regex=True,inplace=True,to_replace=r'\\D',value=r'')"
   ]
  },
  {
   "cell_type": "code",
   "execution_count": 32,
   "metadata": {
    "collapsed": true
   },
   "outputs": [],
   "source": [
    "listings_augmented_2018['ones'] = np.ones(len(listings_augmented_2018))"
   ]
  },
  {
   "cell_type": "code",
   "execution_count": 33,
   "metadata": {
    "collapsed": true
   },
   "outputs": [],
   "source": [
    "listings_augmented_2018['host_is_superhost'] = label_bin.fit_transform(listings_augmented_2018.host_is_superhost)\n",
    "listings_augmented_2018['is_location_exact'] = label_bin.fit_transform(listings_augmented_2018.is_location_exact)\n",
    "listings_augmented_2018['host_identity_verified'] = label_bin.fit_transform(listings_augmented_2018.host_identity_verified)\n",
    "listings_augmented_2018['instant_bookable'] = label_bin.fit_transform(listings_augmented_2018.instant_bookable)\n",
    "listings_augmented_2018['require_guest_profile_picture'] = label_bin.fit_transform(listings_augmented_2018.require_guest_profile_picture)\n",
    "listings_augmented_2018['require_guest_phone_verification'] = label_bin.fit_transform(listings_augmented_2018.require_guest_phone_verification)"
   ]
  },
  {
   "cell_type": "code",
   "execution_count": 34,
   "metadata": {
    "collapsed": true
   },
   "outputs": [],
   "source": [
    "listings_augmented_2018['host_resp_time_enc'] = label_enc.fit_transform(listings_augmented_2018['host_response_time'].astype(str))\n",
    "listings_augmented_2018['calendar_updated_enc'] = label_enc.fit_transform(listings_augmented_2018['calendar_updated'].astype(str))\n",
    "listings_augmented_2018['bed_type_enc'] = label_enc.fit_transform(listings_augmented_2018['bed_type'].astype(str))\n",
    "listings_augmented_2018['jurisdiction_names_enc'] = label_enc.fit_transform(listings_augmented_2018['jurisdiction_names'].astype(str))\n",
    "listings_augmented_2018['zipcode_enc'] = label_enc.fit_transform(listings_augmented_2018['zipcode'].astype(str))"
   ]
  },
  {
   "cell_type": "code",
   "execution_count": 35,
   "metadata": {
    "collapsed": true
   },
   "outputs": [],
   "source": [
    "listings_augmented_2018 = listings_augmented_2018.drop(['neighbourhood_group_cleansed','square_feet','has_availability','license','weekly_price','monthly_price'], axis = 1)"
   ]
  },
  {
   "cell_type": "code",
   "execution_count": 36,
   "metadata": {
    "collapsed": true
   },
   "outputs": [],
   "source": [
    "listings_augmented_2018 = listings_augmented_2018.drop(['host_response_time','calendar_updated', 'bed_type', 'jurisdiction_names', 'zipcode'], axis = 1)"
   ]
  },
  {
   "cell_type": "code",
   "execution_count": 37,
   "metadata": {
    "collapsed": true
   },
   "outputs": [],
   "source": [
    "listings_augmented_2018 = listings_augmented_2018.select_dtypes(include=['float64', 'int64'])"
   ]
  },
  {
   "cell_type": "code",
   "execution_count": 38,
   "metadata": {
    "collapsed": true
   },
   "outputs": [],
   "source": [
    "listings_augmented_2018 = listings_augmented_2018.fillna(value=listings_augmented_2018.mean())"
   ]
  },
  {
   "cell_type": "code",
   "execution_count": 39,
   "metadata": {
    "collapsed": true
   },
   "outputs": [],
   "source": [
    "target = listings_augmented_2018['price_y']"
   ]
  },
  {
   "cell_type": "code",
   "execution_count": 40,
   "metadata": {
    "collapsed": true
   },
   "outputs": [],
   "source": [
    "X = listings_augmented_2018.drop('price_y', axis = 1)"
   ]
  },
  {
   "cell_type": "code",
   "execution_count": 41,
   "metadata": {
    "collapsed": true
   },
   "outputs": [],
   "source": [
    "X = X.fillna(0)"
   ]
  },
  {
   "cell_type": "code",
   "execution_count": 42,
   "metadata": {
    "collapsed": true
   },
   "outputs": [],
   "source": [
    "positive_features_two = ['access-Topic1', 'access-Topic12','access-Topic13','access-Topic16','access-Topic3','access_.','access_ADJ',\n",
    " 'access_ADV','access_DET','access_KmeansCluster','access_LexicalDiversity','access_NOUN','access_PRON','access_TextDigitsPerc',\n",
    " 'access_TextLength','access_TextPuncPerc','access_TextWordsPerc','accommodates','availability_365','availability_60','availability_90','bathrooms',\n",
    " 'bedrooms','beds','cleaning_fee','description-Topic12','description-Topic2','description-Topic5','description_.','description_ADJ',\n",
    " 'description_ADP','description_ADV','description_DET','description_KmeansCluster','description_LexicalDiversity','description_NOUN',\n",
    " 'description_TextLength','description_TextWordsPerc','description_VERB','description_X','extra_people','has_availability','host_acceptance_rate',\n",
    " 'host_id','host_listings_count','host_response_rate','host_total_listings_count','house_rules-Topic7','house_rules_.','house_rules_ADP',\n",
    " 'house_rules_ADV','house_rules_CONJ','house_rules_KmeansCluster','house_rules_NUM','house_rules_PRT','house_rules_TextLength',\n",
    " 'house_rules_X','interaction-Topic10','interaction-Topic13','interaction-Topic9','interaction_ADJ','interaction_ADV','interaction_DET',\n",
    " 'interaction_KmeansCluster','interaction_PRT','interaction_TextDigitsPerc','interaction_TextPuncPerc','interaction_VERB','latitude',\n",
    " 'license','listing_id','longitude','minimum_nights','neighborhood_overview-Topic14', 'neighborhood_overview-Topic9','neighborhood_overview_ADJ',\n",
    " 'neighborhood_overview_DET','neighborhood_overview_KmeansCluster','neighborhood_overview_NUM','neighborhood_overview_PRON',\n",
    " 'neighborhood_overview_TextDigitsPerc','neighborhood_overview_TextLength','neighborhood_overview_VERB','neighbourhood_group_cleansed',\n",
    " 'notes-Topic10','notes-Topic12','notes-Topic14','notes-Topic15','notes-Topic16','notes-Topic19','notes-Topic2','notes-Topic3',\n",
    " 'notes-Topic4','notes-Topic6','notes-Topic8','notes-Topic9','notes_.','notes_ADP','notes_ADV','notes_TextPuncPerc','notes_TextWordsPerc',\n",
    " 'number_of_reviews','review_scores_accuracy','review_scores_value','reviews_per_month','scrape_id','security_deposit','space-Topic0',\n",
    " 'space-Topic1','space-Topic10','space-Topic11','space-Topic12','space-Topic13','space-Topic14','space-Topic15','space-Topic16',\n",
    " 'space-Topic17','space-Topic18','space-Topic19','space-Topic2','space-Topic3','space-Topic4','space-Topic5','space-Topic7',\n",
    " 'space-Topic9','space_.','space_ADJ','space_DET','space_NOUN','space_TextLength','space_VERB','transit-Dominant_Topic','transit-Topic10',\n",
    " 'transit-Topic11','transit-Topic12','transit-Topic13','transit-Topic14','transit-Topic16','transit-Topic17','transit-Topic19',\n",
    " 'transit-Topic5','transit-Topic7','transit-Topic8','transit_ADJ','transit_DET','transit_LexicalDiversity','transit_NOUN',\n",
    " 'transit_NUM','transit_PRON','transit_TextWordsPerc','transit_VERB','hasEssentials','has\"Elevator in Building\"','hasHangers',\n",
    " 'has\"Buzzer/Wireless Intercom\"','hasTV','has\"Fire Extinguisher\"','hasDryer','has\"Air Conditioning\"','hasKitchen','has\"Family/Kid Friendly\"',\n",
    " 'hasShampoo','hasHeating','has\"Hair Dryer\"','hasIron','has\"Safety Card\"','hasDoorman','hasPool','has\"Pets Allowed\"','has\"First Aid Kit\"',\n",
    " 'has\"Cable TV\"','has\"Laptop Friendly Workspace\"', 'has\"Smoking Allowed\"','hasCat(s)','has\"24-Hour Check-in\"']"
   ]
  },
  {
   "cell_type": "code",
   "execution_count": 46,
   "metadata": {},
   "outputs": [],
   "source": [
    "list_of_updated_features = []\n",
    "\n",
    "for w in listings_augmented_2018.columns:\n",
    "    if w not in listings_augmented_2018_before.columns and 'has' not in w:\n",
    "        list_of_updated_features.append(w)"
   ]
  },
  {
   "cell_type": "code",
   "execution_count": 47,
   "metadata": {},
   "outputs": [
    {
     "data": {
      "text/plain": [
       "['access_._tokens_sum_ratio',\n",
       " 'access_ADJ_tokens_sum_ratio',\n",
       " 'access_ADP_tokens_sum_ratio',\n",
       " 'access_ADV_tokens_sum_ratio',\n",
       " 'access_CONJ_tokens_sum_ratio',\n",
       " 'access_DET_tokens_sum_ratio',\n",
       " 'access_NOUN_tokens_sum_ratio',\n",
       " 'access_NUM_tokens_sum_ratio',\n",
       " 'access_PRON_tokens_sum_ratio',\n",
       " 'access_PRT_tokens_sum_ratio',\n",
       " 'access_VERB_tokens_sum_ratio',\n",
       " 'access_X_tokens_sum_ratio',\n",
       " 'description_._tokens_sum_ratio',\n",
       " 'description_ADJ_tokens_sum_ratio',\n",
       " 'description_ADP_tokens_sum_ratio',\n",
       " 'description_ADV_tokens_sum_ratio',\n",
       " 'description_CONJ_tokens_sum_ratio',\n",
       " 'description_DET_tokens_sum_ratio',\n",
       " 'description_NOUN_tokens_sum_ratio',\n",
       " 'description_NUM_tokens_sum_ratio',\n",
       " 'description_PRON_tokens_sum_ratio',\n",
       " 'description_PRT_tokens_sum_ratio',\n",
       " 'description_VERB_tokens_sum_ratio',\n",
       " 'description_X_tokens_sum_ratio',\n",
       " 'house_rules_._tokens_sum_ratio',\n",
       " 'house_rules_ADJ_tokens_sum_ratio',\n",
       " 'house_rules_ADP_tokens_sum_ratio',\n",
       " 'house_rules_ADV_tokens_sum_ratio',\n",
       " 'house_rules_CONJ_tokens_sum_ratio',\n",
       " 'house_rules_DET_tokens_sum_ratio',\n",
       " 'house_rules_NOUN_tokens_sum_ratio',\n",
       " 'house_rules_NUM_tokens_sum_ratio',\n",
       " 'house_rules_PRON_tokens_sum_ratio',\n",
       " 'house_rules_PRT_tokens_sum_ratio',\n",
       " 'house_rules_VERB_tokens_sum_ratio',\n",
       " 'house_rules_X_tokens_sum_ratio',\n",
       " 'interaction_._tokens_sum_ratio',\n",
       " 'interaction_ADJ_tokens_sum_ratio',\n",
       " 'interaction_ADP_tokens_sum_ratio',\n",
       " 'interaction_ADV_tokens_sum_ratio',\n",
       " 'interaction_CONJ_tokens_sum_ratio',\n",
       " 'interaction_DET_tokens_sum_ratio',\n",
       " 'interaction_NOUN_tokens_sum_ratio',\n",
       " 'interaction_NUM_tokens_sum_ratio',\n",
       " 'interaction_PRON_tokens_sum_ratio',\n",
       " 'interaction_PRT_tokens_sum_ratio',\n",
       " 'interaction_VERB_tokens_sum_ratio',\n",
       " 'interaction_X_tokens_sum_ratio',\n",
       " 'neighborhood_overview_._tokens_sum_ratio',\n",
       " 'neighborhood_overview_ADJ_tokens_sum_ratio',\n",
       " 'neighborhood_overview_ADP_tokens_sum_ratio',\n",
       " 'neighborhood_overview_ADV_tokens_sum_ratio',\n",
       " 'neighborhood_overview_CONJ_tokens_sum_ratio',\n",
       " 'neighborhood_overview_DET_tokens_sum_ratio',\n",
       " 'neighborhood_overview_NOUN_tokens_sum_ratio',\n",
       " 'neighborhood_overview_NUM_tokens_sum_ratio',\n",
       " 'neighborhood_overview_PRON_tokens_sum_ratio',\n",
       " 'neighborhood_overview_PRT_tokens_sum_ratio',\n",
       " 'neighborhood_overview_VERB_tokens_sum_ratio',\n",
       " 'neighborhood_overview_X_tokens_sum_ratio',\n",
       " 'notes_._tokens_sum_ratio',\n",
       " 'notes_ADJ_tokens_sum_ratio',\n",
       " 'notes_ADP_tokens_sum_ratio',\n",
       " 'notes_ADV_tokens_sum_ratio',\n",
       " 'notes_CONJ_tokens_sum_ratio',\n",
       " 'notes_DET_tokens_sum_ratio',\n",
       " 'notes_NOUN_tokens_sum_ratio',\n",
       " 'notes_NUM_tokens_sum_ratio',\n",
       " 'notes_PRON_tokens_sum_ratio',\n",
       " 'notes_PRT_tokens_sum_ratio',\n",
       " 'notes_VERB_tokens_sum_ratio',\n",
       " 'notes_X_tokens_sum_ratio',\n",
       " 'space_._tokens_sum_ratio',\n",
       " 'space_ADJ_tokens_sum_ratio',\n",
       " 'space_ADP_tokens_sum_ratio',\n",
       " 'space_CONJ_tokens_sum_ratio',\n",
       " 'space_DET_tokens_sum_ratio',\n",
       " 'space_NOUN_tokens_sum_ratio',\n",
       " 'space_NUM_tokens_sum_ratio',\n",
       " 'space_PRON_tokens_sum_ratio',\n",
       " 'space_PRT_tokens_sum_ratio',\n",
       " 'space_VERB_tokens_sum_ratio',\n",
       " 'space_X_tokens_sum_ratio',\n",
       " 'transit_._tokens_sum_ratio',\n",
       " 'transit_ADJ_tokens_sum_ratio',\n",
       " 'transit_ADP_tokens_sum_ratio',\n",
       " 'transit_ADV_tokens_sum_ratio',\n",
       " 'transit_CONJ_tokens_sum_ratio',\n",
       " 'transit_DET_tokens_sum_ratio',\n",
       " 'transit_NOUN_tokens_sum_ratio',\n",
       " 'transit_NUM_tokens_sum_ratio',\n",
       " 'transit_PRON_tokens_sum_ratio',\n",
       " 'transit_PRT_tokens_sum_ratio',\n",
       " 'transit_VERB_tokens_sum_ratio',\n",
       " 'transit_X_tokens_sum_ratio',\n",
       " \"uses 'amex'\",\n",
       " \"uses 'linkedin'\",\n",
       " \"uses 'manual_offline'\",\n",
       " \"uses'email'\",\n",
       " \"uses 'google'\",\n",
       " \"uses 'sent_id'\",\n",
       " \"uses 'kba'\",\n",
       " \"uses 'jumio'\",\n",
       " \"uses 'facebook'\",\n",
       " \"uses'phone'\",\n",
       " \"uses 'reviews'\",\n",
       " \"uses 'manual_online'\",\n",
       " \"uses 'phone'\",\n",
       " 'ones',\n",
       " 'host_resp_time_enc',\n",
       " 'calendar_updated_enc',\n",
       " 'bed_type_enc',\n",
       " 'jurisdiction_names_enc',\n",
       " 'zipcode_enc']"
      ]
     },
     "execution_count": 47,
     "metadata": {},
     "output_type": "execute_result"
    }
   ],
   "source": [
    "list_of_updated_features"
   ]
  },
  {
   "cell_type": "code",
   "execution_count": 48,
   "metadata": {
    "collapsed": true
   },
   "outputs": [],
   "source": [
    "positive_features_two_new = []\n",
    "\n",
    "for w in positive_features_two:\n",
    "    if w not in ['neighbourhood_group_cleansed','square_feet','has_availability','license','weekly_price','monthly_price'] + ['host_response_time','calendar_updated', 'bed_type', 'jurisdiction_names', 'zipcode']:\n",
    "        positive_features_two_new.append(w)"
   ]
  },
  {
   "cell_type": "markdown",
   "metadata": {},
   "source": [
    "## Modeling"
   ]
  },
  {
   "cell_type": "markdown",
   "metadata": {},
   "source": [
    "### Model 32"
   ]
  },
  {
   "cell_type": "code",
   "execution_count": 50,
   "metadata": {
    "collapsed": true
   },
   "outputs": [],
   "source": [
    "X_train, X_test, y_train, y_test = train_test_split(X[list_of_updated_features], target, test_size=.30, random_state=1)\n",
    "X_train_two, X_val, y_train_two, y_val = train_test_split(X_train, y_train, test_size=.30, random_state=1)"
   ]
  },
  {
   "cell_type": "code",
   "execution_count": 51,
   "metadata": {},
   "outputs": [
    {
     "name": "stdout",
     "output_type": "stream",
     "text": [
      "The R2 for validation is 0.155829163072\n",
      "The mean squared error for validation is 23341.0872735\n",
      "The mean absolute error for validation is 105.96866119\n",
      "The R2 is 0.201497369063\n",
      "The mean squared error is 20052.6201555\n",
      "The mean absolute error for test is 100.519256621\n"
     ]
    }
   ],
   "source": [
    "gbd = GradientBoostingRegressor(loss = 'huber', learning_rate = .1)\n",
    "gbd.fit(X_train_two, y_train_two)\n",
    "b = gbd.predict(X_val)\n",
    "print('The R2 for validation is ' + str(gbd.score(X_val, y_val)))\n",
    "print('The mean squared error for validation is ' + str(mean_squared_error(b, y_val)))\n",
    "print('The mean absolute error for validation is ' + str(mean_absolute_error(b, y_val)))\n",
    "gbd.fit(X_train, y_train)\n",
    "b = gbd.predict(X_test)\n",
    "print('The R2 is ' + str(gbd.score(X_test, y_test)))\n",
    "print('The mean squared error is ' + str(mean_squared_error(b, y_test)))\n",
    "print('The mean absolute error for test is ' + str(mean_absolute_error(b, y_test)))"
   ]
  },
  {
   "cell_type": "markdown",
   "metadata": {},
   "source": [
    "### Model 33"
   ]
  },
  {
   "cell_type": "code",
   "execution_count": 52,
   "metadata": {
    "collapsed": true
   },
   "outputs": [],
   "source": [
    "X_train, X_test, y_train, y_test = train_test_split(X[list_of_updated_features + positive_features_two_new], target, test_size=.30, random_state=1)\n",
    "X_train_two, X_val, y_train_two, y_val = train_test_split(X_train, y_train, test_size=.30, random_state=1)"
   ]
  },
  {
   "cell_type": "code",
   "execution_count": 53,
   "metadata": {},
   "outputs": [
    {
     "name": "stdout",
     "output_type": "stream",
     "text": [
      "The R2 for validation is 0.664466957612\n",
      "The mean squared error for validation is 9277.39467287\n",
      "The mean absolute error for validation is 60.4110819105\n",
      "The R2 is 0.68374892498\n",
      "The mean squared error is 7941.94337681\n",
      "The mean absolute error for test is 54.9721053786\n"
     ]
    }
   ],
   "source": [
    "gbd = GradientBoostingRegressor(loss = 'huber', learning_rate = .1)\n",
    "gbd.fit(X_train_two, y_train_two)\n",
    "b = gbd.predict(X_val)\n",
    "print('The R2 for validation is ' + str(gbd.score(X_val, y_val)))\n",
    "print('The mean squared error for validation is ' + str(mean_squared_error(b, y_val)))\n",
    "print('The mean absolute error for validation is ' + str(mean_absolute_error(b, y_val)))\n",
    "gbd.fit(X_train, y_train)\n",
    "b = gbd.predict(X_test)\n",
    "print('The R2 is ' + str(gbd.score(X_test, y_test)))\n",
    "print('The mean squared error is ' + str(mean_squared_error(b, y_test)))\n",
    "print('The mean absolute error for test is ' + str(mean_absolute_error(b, y_test)))"
   ]
  },
  {
   "cell_type": "code",
   "execution_count": 58,
   "metadata": {},
   "outputs": [
    {
     "name": "stdout",
     "output_type": "stream",
     "text": [
      " 0.019 bedrooms\n",
      " 0.016 longitude\n",
      " 0.011 latitude\n",
      " 0.010 accommodates\n",
      " 0.004 bathrooms\n",
      " 0.004 host_resp_time_enc\n",
      " 0.004 space-Topic9\n",
      " 0.004 number_of_reviews\n",
      " 0.004 availability_365\n",
      " 0.004 minimum_nights\n",
      " 0.003 notes_NUM_tokens_sum_ratio\n",
      " 0.003 hasDoorman\n",
      " 0.003 notes-Topic8\n",
      " 0.003 space-Topic11\n",
      " 0.003 interaction_DET_tokens_sum_ratio\n",
      " 0.003 access-Topic1\n",
      " 0.003 neighborhood_overview_TextLength\n",
      " 0.003 has\"Cable TV\"\n",
      " 0.003 transit_VERB_tokens_sum_ratio\n",
      " 0.003 access_TextWordsPerc\n",
      " 0.003 neighborhood_overview_KmeansCluster\n",
      " 0.003 interaction_CONJ_tokens_sum_ratio\n",
      " 0.002 notes_ADV_tokens_sum_ratio\n",
      " 0.002 transit-Topic7\n",
      " 0.002 house_rules_NUM_tokens_sum_ratio\n",
      " 0.002 hasDryer\n",
      " 0.002 notes_VERB_tokens_sum_ratio\n",
      " 0.002 has\"Fire Extinguisher\"\n",
      " 0.002 description_ADV\n",
      " 0.002 interaction_TextDigitsPerc\n",
      " 0.002 space-Topic7\n",
      " 0.002 description_ADP_tokens_sum_ratio\n",
      " 0.002 host_id\n",
      " 0.002 interaction-Topic9\n",
      " 0.002 notes-Topic2\n",
      " 0.002 notes_PRT_tokens_sum_ratio\n",
      " 0.002 interaction_VERB\n",
      " 0.002 has\"Air Conditioning\"\n",
      " 0.002 description_CONJ_tokens_sum_ratio\n",
      " 0.002 hasEssentials\n",
      " 0.002 space_TextLength\n",
      " 0.002 space_.\n",
      " 0.002 has\"Elevator in Building\"\n",
      " 0.002 notes-Topic9\n",
      " 0.002 access-Topic12\n",
      " 0.002 space-Topic4\n",
      " 0.002 house_rules_TextLength\n",
      " 0.002 description-Topic12\n",
      " 0.002 transit-Topic5\n",
      " 0.002 description_DET\n",
      " 0.002 access-Topic13\n",
      " 0.002 access_ADV\n",
      " 0.002 has\"Pets Allowed\"\n",
      " 0.002 notes_.\n",
      " 0.002 description_LexicalDiversity\n",
      " 0.002 transit-Topic16\n",
      " 0.002 description_ADJ\n",
      " 0.002 interaction-Topic13\n",
      " 0.002 uses 'sent_id'\n",
      " 0.002 transit_NOUN_tokens_sum_ratio\n",
      " 0.001 house_rules_ADV_tokens_sum_ratio\n",
      " 0.001 access-Topic16\n",
      " 0.001 house_rules_X_tokens_sum_ratio\n",
      " 0.001 has\"24-Hour Check-in\"\n",
      " 0.001 notes_PRON_tokens_sum_ratio\n",
      " 0.001 space-Topic19\n",
      " 0.001 interaction_._tokens_sum_ratio\n",
      " 0.001 access_VERB_tokens_sum_ratio\n",
      " 0.001 space-Topic12\n",
      " 0.001 description_X\n",
      " 0.001 access-Topic3\n",
      " 0.001 notes_TextPuncPerc\n",
      " 0.001 description_ADJ_tokens_sum_ratio\n",
      " 0.001 transit_X_tokens_sum_ratio\n",
      " 0.001 neighborhood_overview_ADP_tokens_sum_ratio\n",
      " 0.001 notes_NOUN_tokens_sum_ratio\n",
      " 0.001 space-Topic0\n",
      " 0.001 transit-Topic10\n",
      " 0.001 house_rules_CONJ_tokens_sum_ratio\n",
      " 0.001 space_._tokens_sum_ratio\n",
      " 0.001 description_PRON_tokens_sum_ratio\n",
      " 0.001 description_KmeansCluster\n",
      " 0.001 hasShampoo\n",
      " 0.001 transit_._tokens_sum_ratio\n",
      " 0.001 transit_DET_tokens_sum_ratio\n",
      " 0.001 house_rules_ADP_tokens_sum_ratio\n",
      " 0.001 hasIron\n",
      " 0.001 bed_type_enc\n",
      " 0.001 reviews_per_month\n",
      " 0.001 space-Topic18\n",
      " 0.001 house_rules_DET_tokens_sum_ratio\n",
      " 0.001 space-Topic2\n",
      " 0.001 transit_LexicalDiversity\n",
      " 0.001 access_ADP_tokens_sum_ratio\n",
      " 0.001 access_KmeansCluster\n",
      " 0.001 notes-Topic10\n",
      " 0.001 transit_DET\n",
      " 0.001 neighborhood_overview_PRT_tokens_sum_ratio\n",
      " 0.001 transit-Topic19\n",
      " 0.001 notes_ADP_tokens_sum_ratio\n",
      " 0.001 hasHangers\n",
      " 0.001 transit_NUM\n",
      " 0.001 transit-Dominant_Topic\n",
      " 0.001 uses 'amex'\n",
      " 0.001 zipcode_enc\n",
      " 0.001 description_NOUN_tokens_sum_ratio\n",
      " 0.001 transit_ADP_tokens_sum_ratio\n",
      " 0.001 calendar_updated_enc\n",
      " 0.001 neighborhood_overview-Topic9\n",
      " 0.001 has\"Laptop Friendly Workspace\"\n",
      " 0.001 transit_PRT_tokens_sum_ratio\n",
      " 0.001 neighborhood_overview_PRON\n",
      " 0.001 notes_X_tokens_sum_ratio\n",
      " 0.001 description_._tokens_sum_ratio\n",
      " 0.001 access_TextPuncPerc\n",
      " 0.001 uses'email'\n",
      " 0.001 neighborhood_overview_VERB\n",
      " 0.001 host_response_rate\n",
      " 0.001 description_.\n",
      " 0.001 uses 'linkedin'\n",
      " 0.001 transit-Topic11\n",
      " 0.001 hasTV\n",
      " 0.001 neighborhood_overview_NUM\n",
      " 0.001 neighborhood_overview_ADV_tokens_sum_ratio\n",
      " 0.001 interaction_PRT\n",
      " 0.001 neighborhood_overview_PRON_tokens_sum_ratio\n",
      " 0.001 description_DET_tokens_sum_ratio\n",
      " 0.001 access_X_tokens_sum_ratio\n",
      " 0.001 notes-Topic14\n",
      " 0.001 house_rules_NUM\n",
      " 0.001 access_PRON_tokens_sum_ratio\n",
      " 0.001 space-Topic5\n",
      " 0.001 space_VERB\n",
      " 0.001 transit_PRON_tokens_sum_ratio\n",
      " 0.000 neighborhood_overview_VERB_tokens_sum_ratio\n",
      " 0.000 space_DET\n",
      " 0.000 description_ADP\n",
      " 0.000 description_VERB_tokens_sum_ratio\n",
      " 0.000 notes-Topic12\n",
      " 0.000 space_NOUN\n",
      " 0.000 notes_DET_tokens_sum_ratio\n",
      " 0.000 interaction_NUM_tokens_sum_ratio\n",
      " 0.000 house_rules_PRT\n",
      " 0.000 access_DET_tokens_sum_ratio\n",
      " 0.000 jurisdiction_names_enc\n",
      " 0.000 neighborhood_overview_._tokens_sum_ratio\n",
      " 0.000 interaction_ADJ_tokens_sum_ratio\n",
      " 0.000 house_rules_._tokens_sum_ratio\n",
      " 0.000 space_ADP_tokens_sum_ratio\n",
      " 0.000 has\"Safety Card\"\n",
      " 0.000 neighborhood_overview_ADJ_tokens_sum_ratio\n",
      " 0.000 neighborhood_overview-Topic14\n",
      " 0.000 notes-Topic3\n",
      " 0.000 extra_people\n",
      " 0.000 hasKitchen\n",
      " 0.000 transit_ADJ_tokens_sum_ratio\n",
      " 0.000 interaction_NOUN_tokens_sum_ratio\n",
      " 0.000 transit_CONJ_tokens_sum_ratio\n",
      " 0.000 interaction_ADJ\n",
      " 0.000 space-Topic14\n",
      " 0.000 access_ADJ\n",
      " 0.000 uses'phone'\n",
      " 0.000 description_X_tokens_sum_ratio\n",
      " 0.000 access_CONJ_tokens_sum_ratio\n",
      " 0.000 description_NUM_tokens_sum_ratio\n",
      " 0.000 space-Topic1\n",
      " 0.000 house_rules_PRON_tokens_sum_ratio\n",
      " 0.000 review_scores_value\n",
      " 0.000 transit_VERB\n",
      " 0.000 access_ADV_tokens_sum_ratio\n",
      " 0.000 interaction_ADP_tokens_sum_ratio\n",
      " 0.000 house_rules_ADP\n",
      " 0.000 hasCat(s)\n",
      " 0.000 notes_TextWordsPerc\n",
      " 0.000 has\"Buzzer/Wireless Intercom\"\n",
      " 0.000 transit_PRON\n",
      " 0.000 has\"Hair Dryer\"\n",
      " 0.000 space_NOUN_tokens_sum_ratio\n",
      " 0.000 interaction_VERB_tokens_sum_ratio\n",
      " 0.000 transit_TextWordsPerc\n",
      " 0.000 space_PRT_tokens_sum_ratio\n",
      " 0.000 cleaning_fee\n",
      " 0.000 uses 'manual_online'\n",
      " 0.000 uses 'jumio'\n",
      " 0.000 space_X_tokens_sum_ratio\n",
      " 0.000 transit_NUM_tokens_sum_ratio\n",
      " 0.000 access_PRON\n",
      " 0.000 notes-Topic16\n",
      " 0.000 transit-Topic17\n",
      " 0.000 notes-Topic19\n",
      " 0.000 access_._tokens_sum_ratio\n",
      " 0.000 security_deposit\n",
      " 0.000 notes-Topic15\n",
      " 0.000 neighborhood_overview_ADJ\n",
      " 0.000 space_CONJ_tokens_sum_ratio\n",
      " 0.000 transit-Topic13\n",
      " 0.000 space_ADJ\n",
      " 0.000 notes-Topic4\n",
      " 0.000 uses 'reviews'\n",
      " 0.000 uses 'kba'\n",
      " 0.000 house_rules-Topic7\n",
      " 0.000 access_NOUN\n",
      " 0.000 space-Topic17\n",
      " 0.000 space_VERB_tokens_sum_ratio\n",
      " 0.000 space-Topic13\n",
      " 0.000 interaction_TextPuncPerc\n",
      " 0.000 neighborhood_overview_TextDigitsPerc\n",
      " 0.000 access_DET\n",
      "-0.000 transit_ADV_tokens_sum_ratio\n",
      "-0.000 interaction-Topic10\n",
      "-0.000 transit_NOUN\n",
      "-0.000 uses 'facebook'\n",
      "-0.000 host_total_listings_count\n",
      "-0.000 description_VERB\n",
      "-0.000 house_rules_PRT_tokens_sum_ratio\n",
      "-0.000 interaction_PRON_tokens_sum_ratio\n",
      "-0.000 interaction_KmeansCluster\n",
      "-0.000 notes_CONJ_tokens_sum_ratio\n",
      "-0.000 house_rules_NOUN_tokens_sum_ratio\n",
      "-0.000 house_rules_.\n",
      "-0.000 space-Topic10\n",
      "-0.000 access_NOUN_tokens_sum_ratio\n",
      "-0.000 access_NUM_tokens_sum_ratio\n",
      "-0.000 scrape_id\n",
      "-0.000 neighborhood_overview_DET_tokens_sum_ratio\n",
      "-0.000 hasHeating\n",
      "-0.000 ones\n",
      "-0.000 house_rules_KmeansCluster\n",
      "-0.000 house_rules_ADJ_tokens_sum_ratio\n",
      "-0.000 uses 'google'\n",
      "-0.000 space_NUM_tokens_sum_ratio\n",
      "-0.000 access_PRT_tokens_sum_ratio\n",
      "-0.000 transit-Topic14\n",
      "-0.000 interaction_ADV_tokens_sum_ratio\n",
      "-0.000 interaction_PRT_tokens_sum_ratio\n",
      "-0.000 access_ADJ_tokens_sum_ratio\n",
      "-0.000 notes_ADV\n",
      "-0.000 space_PRON_tokens_sum_ratio\n",
      "-0.000 notes-Topic6\n",
      "-0.000 description_NOUN\n",
      "-0.000 interaction_DET\n",
      "-0.000 house_rules_X\n",
      "-0.000 house_rules_VERB_tokens_sum_ratio\n",
      "-0.000 space-Topic15\n",
      "-0.000 interaction_X_tokens_sum_ratio\n",
      "-0.000 has\"Family/Kid Friendly\"\n",
      "-0.001 has\"Smoking Allowed\"\n",
      "-0.001 neighborhood_overview_DET\n",
      "-0.001 description_PRT_tokens_sum_ratio\n",
      "-0.001 space_DET_tokens_sum_ratio\n",
      "-0.001 space_ADJ_tokens_sum_ratio\n",
      "-0.001 neighborhood_overview_NOUN_tokens_sum_ratio\n",
      "-0.001 neighborhood_overview_CONJ_tokens_sum_ratio\n",
      "-0.001 notes_._tokens_sum_ratio\n",
      "-0.001 description-Topic5\n",
      "-0.001 neighborhood_overview_NUM_tokens_sum_ratio\n",
      "-0.001 access_LexicalDiversity\n",
      "-0.001 host_listings_count\n",
      "-0.001 uses 'phone'\n",
      "-0.001 house_rules_CONJ\n",
      "-0.001 notes_ADJ_tokens_sum_ratio\n",
      "-0.001 access_.\n",
      "-0.001 neighborhood_overview_X_tokens_sum_ratio\n",
      "-0.001 host_acceptance_rate\n",
      "-0.001 notes_ADP\n",
      "-0.001 hasPool\n",
      "-0.001 transit-Topic12\n",
      "-0.001 description-Topic2\n",
      "-0.001 interaction_ADV\n",
      "-0.001 uses 'manual_offline'\n",
      "-0.001 transit_ADJ\n",
      "-0.001 has\"First Aid Kit\"\n",
      "-0.001 house_rules_ADV\n",
      "-0.001 beds\n",
      "-0.001 access_TextLength\n",
      "-0.001 space-Topic3\n",
      "-0.001 availability_90\n",
      "-0.001 transit-Topic8\n",
      "-0.002 space-Topic16\n",
      "-0.002 access_TextDigitsPerc\n",
      "-0.002 availability_60\n",
      "-0.003 description_ADV_tokens_sum_ratio\n",
      "-0.003 description_TextWordsPerc\n",
      "-0.003 review_scores_accuracy\n",
      "-0.004 description_TextLength\n",
      "-0.004 listing_id\n"
     ]
    }
   ],
   "source": [
    "r2_impact = list()\n",
    "baseline = r2_gbd_est_two_huber(X_train, y_train, X_test, y_test)\n",
    "for j in range(X_train.shape[1]):\n",
    "    selection = [i for i in range(X_train.shape[1]) if i!=j]\n",
    "    r2_impact.append((baseline - (r2_gbd_est_two_huber(X_train.values[:,selection], y_train, X_test.values[:,selection], y_test)), X_test.columns[j]))\n",
    "for imp, var in sorted(r2_impact, reverse=True):\n",
    "    print(\"%6.3f %s\" %(imp, var))"
   ]
  },
  {
   "cell_type": "code",
   "execution_count": 59,
   "metadata": {
    "collapsed": true
   },
   "outputs": [],
   "source": [
    "positive_features_five = []\n",
    "\n",
    "for i, j in r2_impact:\n",
    "    if 0 <= i:\n",
    "        positive_features_five.append(j)"
   ]
  },
  {
   "cell_type": "code",
   "execution_count": 60,
   "metadata": {},
   "outputs": [
    {
     "data": {
      "text/plain": [
       "208"
      ]
     },
     "execution_count": 60,
     "metadata": {},
     "output_type": "execute_result"
    }
   ],
   "source": [
    "len(positive_features_five)"
   ]
  },
  {
   "cell_type": "code",
   "execution_count": 61,
   "metadata": {},
   "outputs": [
    {
     "data": {
      "text/plain": [
       "286"
      ]
     },
     "execution_count": 61,
     "metadata": {},
     "output_type": "execute_result"
    }
   ],
   "source": [
    "len(list_of_updated_features + positive_features_two_new)"
   ]
  },
  {
   "cell_type": "code",
   "execution_count": 62,
   "metadata": {},
   "outputs": [
    {
     "data": {
      "text/plain": [
       "175"
      ]
     },
     "execution_count": 62,
     "metadata": {},
     "output_type": "execute_result"
    }
   ],
   "source": [
    "len(positive_features_two)"
   ]
  },
  {
   "cell_type": "code",
   "execution_count": 63,
   "metadata": {},
   "outputs": [
    {
     "data": {
      "text/plain": [
       "114"
      ]
     },
     "execution_count": 63,
     "metadata": {},
     "output_type": "execute_result"
    }
   ],
   "source": [
    "len(list_of_updated_features)"
   ]
  },
  {
   "cell_type": "code",
   "execution_count": 65,
   "metadata": {},
   "outputs": [
    {
     "data": {
      "text/plain": [
       "172"
      ]
     },
     "execution_count": 65,
     "metadata": {},
     "output_type": "execute_result"
    }
   ],
   "source": [
    "len(positive_features_two_new)"
   ]
  },
  {
   "cell_type": "code",
   "execution_count": 66,
   "metadata": {
    "collapsed": true
   },
   "outputs": [],
   "source": [
    "positive_features_five_new = positive_features_five\n",
    "\n",
    "for w in positive_features_two_new:\n",
    "    if w not in positive_features_five:\n",
    "        positive_features_five_new.append(w)"
   ]
  },
  {
   "cell_type": "code",
   "execution_count": 67,
   "metadata": {},
   "outputs": [
    {
     "data": {
      "text/plain": [
       "254"
      ]
     },
     "execution_count": 67,
     "metadata": {},
     "output_type": "execute_result"
    }
   ],
   "source": [
    "len(positive_features_five_new)"
   ]
  },
  {
   "cell_type": "markdown",
   "metadata": {},
   "source": [
    "### Model 34"
   ]
  },
  {
   "cell_type": "code",
   "execution_count": 68,
   "metadata": {
    "collapsed": true
   },
   "outputs": [],
   "source": [
    "X_train, X_test, y_train, y_test = train_test_split(X[positive_features_five_new], target, test_size=.30, random_state=1)\n",
    "X_train_two, X_val, y_train_two, y_val = train_test_split(X_train, y_train, test_size=.30, random_state=1)"
   ]
  },
  {
   "cell_type": "code",
   "execution_count": 69,
   "metadata": {},
   "outputs": [
    {
     "name": "stdout",
     "output_type": "stream",
     "text": [
      "The R2 for validation is 0.658694963068\n",
      "The mean squared error for validation is 9436.98870584\n",
      "The mean absolute error for validation is 60.4274768427\n",
      "The R2 is 0.687132050133\n",
      "The mean squared error is 7856.98370231\n",
      "The mean absolute error for test is 54.6938083056\n"
     ]
    }
   ],
   "source": [
    "gbd = GradientBoostingRegressor(loss = 'huber', learning_rate = .1)\n",
    "gbd.fit(X_train_two, y_train_two)\n",
    "b = gbd.predict(X_val)\n",
    "print('The R2 for validation is ' + str(gbd.score(X_val, y_val)))\n",
    "print('The mean squared error for validation is ' + str(mean_squared_error(b, y_val)))\n",
    "print('The mean absolute error for validation is ' + str(mean_absolute_error(b, y_val)))\n",
    "gbd.fit(X_train, y_train)\n",
    "b = gbd.predict(X_test)\n",
    "print('The R2 is ' + str(gbd.score(X_test, y_test)))\n",
    "print('The mean squared error is ' + str(mean_squared_error(b, y_test)))\n",
    "print('The mean absolute error for test is ' + str(mean_absolute_error(b, y_test)))"
   ]
  },
  {
   "cell_type": "code",
   "execution_count": 70,
   "metadata": {},
   "outputs": [
    {
     "name": "stdout",
     "output_type": "stream",
     "text": [
      " 0.026 bedrooms\n",
      " 0.022 longitude\n",
      " 0.010 accommodates\n",
      " 0.008 availability_365\n",
      " 0.007 latitude\n",
      " 0.007 number_of_reviews\n",
      " 0.006 reviews_per_month\n",
      " 0.005 interaction_DET_tokens_sum_ratio\n",
      " 0.005 host_resp_time_enc\n",
      " 0.005 zipcode_enc\n",
      " 0.005 minimum_nights\n",
      " 0.004 has\"Elevator in Building\"\n",
      " 0.004 bathrooms\n",
      " 0.004 description-Topic2\n",
      " 0.004 has\"Air Conditioning\"\n",
      " 0.003 transit_VERB_tokens_sum_ratio\n",
      " 0.003 space_TextLength\n",
      " 0.003 availability_60\n",
      " 0.002 house_rules_KmeansCluster\n",
      " 0.002 neighborhood_overview_TextLength\n",
      " 0.002 transit-Topic5\n",
      " 0.002 notes-Topic8\n",
      " 0.002 description_ADP_tokens_sum_ratio\n",
      " 0.002 transit_ADJ\n",
      " 0.001 notes-Topic2\n",
      " 0.001 description_LexicalDiversity\n",
      " 0.001 transit-Topic8\n",
      " 0.001 availability_90\n",
      " 0.001 description_VERB_tokens_sum_ratio\n",
      " 0.001 notes-Topic6\n",
      " 0.001 neighborhood_overview-Topic9\n",
      " 0.001 description_KmeansCluster\n",
      " 0.001 description_TextWordsPerc\n",
      " 0.001 space-Topic4\n",
      " 0.001 hasTV\n",
      " 0.001 house_rules-Topic7\n",
      " 0.001 access_ADV\n",
      " 0.001 interaction_ADV\n",
      " 0.001 space_DET\n",
      " 0.001 has\"24-Hour Check-in\"\n",
      " 0.001 transit_TextWordsPerc\n",
      " 0.001 hasEssentials\n",
      " 0.001 uses 'linkedin'\n",
      " 0.001 interaction_VERB_tokens_sum_ratio\n",
      " 0.001 space-Topic10\n",
      " 0.001 house_rules_._tokens_sum_ratio\n",
      " 0.001 host_id\n",
      " 0.001 transit_VERB\n",
      " 0.001 space-Topic17\n",
      " 0.001 space-Topic15\n",
      " 0.001 transit_PRT_tokens_sum_ratio\n",
      " 0.001 access-Topic3\n",
      " 0.001 neighborhood_overview_VERB_tokens_sum_ratio\n",
      " 0.001 space-Topic2\n",
      " 0.001 space_ADP_tokens_sum_ratio\n",
      " 0.001 access_ADV_tokens_sum_ratio\n",
      " 0.001 transit-Dominant_Topic\n",
      " 0.001 notes_PRON_tokens_sum_ratio\n",
      " 0.001 space-Topic16\n",
      " 0.001 notes_VERB_tokens_sum_ratio\n",
      " 0.001 uses'phone'\n",
      " 0.001 notes-Topic3\n",
      " 0.001 description_VERB\n",
      " 0.001 notes_NUM_tokens_sum_ratio\n",
      " 0.001 description_X_tokens_sum_ratio\n",
      " 0.001 hasKitchen\n",
      " 0.001 host_total_listings_count\n",
      " 0.001 has\"Laptop Friendly Workspace\"\n",
      " 0.001 space-Topic9\n",
      " 0.000 uses 'amex'\n",
      " 0.000 notes_ADP\n",
      " 0.000 transit_DET\n",
      " 0.000 transit_PRON_tokens_sum_ratio\n",
      " 0.000 neighborhood_overview_VERB\n",
      " 0.000 uses 'jumio'\n",
      " 0.000 calendar_updated_enc\n",
      " 0.000 space_VERB_tokens_sum_ratio\n",
      " 0.000 space-Topic5\n",
      " 0.000 neighborhood_overview_ADP_tokens_sum_ratio\n",
      " 0.000 access_.\n",
      " 0.000 house_rules_PRON_tokens_sum_ratio\n",
      " 0.000 transit-Topic14\n",
      " 0.000 space-Topic0\n",
      " 0.000 space_VERB\n",
      " 0.000 transit-Topic12\n",
      " 0.000 interaction_CONJ_tokens_sum_ratio\n",
      " 0.000 notes_X_tokens_sum_ratio\n",
      " 0.000 access_CONJ_tokens_sum_ratio\n",
      " 0.000 interaction-Topic13\n",
      " 0.000 house_rules_NUM\n",
      " 0.000 hasIron\n",
      " 0.000 notes_TextPuncPerc\n",
      " 0.000 neighborhood_overview_TextDigitsPerc\n",
      " 0.000 has\"Hair Dryer\"\n",
      " 0.000 transit_DET_tokens_sum_ratio\n",
      " 0.000 cleaning_fee\n",
      " 0.000 transit_ADP_tokens_sum_ratio\n",
      " 0.000 description_ADJ\n",
      " 0.000 space_._tokens_sum_ratio\n",
      " 0.000 description_CONJ_tokens_sum_ratio\n",
      " 0.000 transit_NUM_tokens_sum_ratio\n",
      " 0.000 host_acceptance_rate\n",
      " 0.000 space_PRT_tokens_sum_ratio\n",
      " 0.000 transit-Topic16\n",
      " 0.000 security_deposit\n",
      " 0.000 interaction_ADJ\n",
      " 0.000 notes-Topic9\n",
      " 0.000 interaction_ADJ_tokens_sum_ratio\n",
      " 0.000 has\"Cable TV\"\n",
      " 0.000 access_VERB_tokens_sum_ratio\n",
      " 0.000 neighborhood_overview_PRON\n",
      " 0.000 house_rules_CONJ_tokens_sum_ratio\n",
      " 0.000 interaction-Topic9\n",
      " 0.000 has\"Safety Card\"\n",
      " 0.000 description_PRON_tokens_sum_ratio\n",
      " 0.000 description_ADJ_tokens_sum_ratio\n",
      "-0.000 transit_NOUN\n",
      "-0.000 bed_type_enc\n",
      "-0.000 interaction_TextPuncPerc\n",
      "-0.000 interaction_ADP_tokens_sum_ratio\n",
      "-0.000 access_PRON_tokens_sum_ratio\n",
      "-0.000 description-Topic5\n",
      "-0.000 access_PRON\n",
      "-0.000 notes_PRT_tokens_sum_ratio\n",
      "-0.000 access_TextPuncPerc\n",
      "-0.000 transit-Topic13\n",
      "-0.000 has\"Buzzer/Wireless Intercom\"\n",
      "-0.000 space-Topic18\n",
      "-0.000 access_NOUN\n",
      "-0.000 access_ADP_tokens_sum_ratio\n",
      "-0.000 space_NOUN_tokens_sum_ratio\n",
      "-0.000 has\"Fire Extinguisher\"\n",
      "-0.000 notes-Topic15\n",
      "-0.000 access_._tokens_sum_ratio\n",
      "-0.000 access_DET_tokens_sum_ratio\n",
      "-0.000 notes_NOUN_tokens_sum_ratio\n",
      "-0.000 space-Topic14\n",
      "-0.000 hasPool\n",
      "-0.000 description_DET\n",
      "-0.000 space_.\n",
      "-0.000 notes_.\n",
      "-0.000 review_scores_value\n",
      "-0.000 house_rules_ADP\n",
      "-0.000 space-Topic19\n",
      "-0.000 space_ADJ\n",
      "-0.000 transit_NOUN_tokens_sum_ratio\n",
      "-0.000 space-Topic13\n",
      "-0.000 space_NOUN\n",
      "-0.000 space-Topic7\n",
      "-0.000 notes-Topic19\n",
      "-0.000 neighborhood_overview_ADJ_tokens_sum_ratio\n",
      "-0.000 interaction_NOUN_tokens_sum_ratio\n",
      "-0.000 notes-Topic10\n",
      "-0.000 uses'email'\n",
      "-0.000 house_rules_X\n",
      "-0.000 notes-Topic14\n",
      "-0.000 hasShampoo\n",
      "-0.000 transit_NUM\n",
      "-0.000 access-Topic12\n",
      "-0.000 house_rules_PRT\n",
      "-0.000 house_rules_DET_tokens_sum_ratio\n",
      "-0.000 description-Topic12\n",
      "-0.000 house_rules_CONJ\n",
      "-0.000 notes_ADV_tokens_sum_ratio\n",
      "-0.000 notes_DET_tokens_sum_ratio\n",
      "-0.000 house_rules_ADV_tokens_sum_ratio\n",
      "-0.000 extra_people\n",
      "-0.000 notes_ADP_tokens_sum_ratio\n",
      "-0.000 notes-Topic16\n",
      "-0.000 access_TextWordsPerc\n",
      "-0.000 description_ADV\n",
      "-0.000 interaction_PRT\n",
      "-0.000 notes_TextWordsPerc\n",
      "-0.000 transit_CONJ_tokens_sum_ratio\n",
      "-0.000 has\"First Aid Kit\"\n",
      "-0.000 space-Topic3\n",
      "-0.001 host_listings_count\n",
      "-0.001 uses 'manual_online'\n",
      "-0.001 hasHeating\n",
      "-0.001 neighborhood_overview_PRON_tokens_sum_ratio\n",
      "-0.001 hasCat(s)\n",
      "-0.001 space-Topic12\n",
      "-0.001 neighborhood_overview_ADV_tokens_sum_ratio\n",
      "-0.001 uses 'reviews'\n",
      "-0.001 access_X_tokens_sum_ratio\n",
      "-0.001 has\"Pets Allowed\"\n",
      "-0.001 description_NUM_tokens_sum_ratio\n",
      "-0.001 space-Topic11\n",
      "-0.001 neighborhood_overview_PRT_tokens_sum_ratio\n",
      "-0.001 transit-Topic11\n",
      "-0.001 interaction_NUM_tokens_sum_ratio\n",
      "-0.001 interaction-Topic10\n",
      "-0.001 description_NOUN\n",
      "-0.001 notes-Topic12\n",
      "-0.001 description_.\n",
      "-0.001 interaction_KmeansCluster\n",
      "-0.001 uses 'sent_id'\n",
      "-0.001 house_rules_TextLength\n",
      "-0.001 neighborhood_overview_._tokens_sum_ratio\n",
      "-0.001 house_rules_.\n",
      "-0.001 interaction_DET\n",
      "-0.001 neighborhood_overview_DET\n",
      "-0.001 neighborhood_overview_ADJ\n",
      "-0.001 description_TextLength\n",
      "-0.001 access_TextLength\n",
      "-0.001 house_rules_X_tokens_sum_ratio\n",
      "-0.001 neighborhood_overview_NUM\n",
      "-0.001 transit_X_tokens_sum_ratio\n",
      "-0.001 space_X_tokens_sum_ratio\n",
      "-0.001 description_ADP\n",
      "-0.001 scrape_id\n",
      "-0.001 space-Topic1\n",
      "-0.001 notes-Topic4\n",
      "-0.001 jurisdiction_names_enc\n",
      "-0.001 transit-Topic17\n",
      "-0.001 transit_ADJ_tokens_sum_ratio\n",
      "-0.001 has\"Smoking Allowed\"\n",
      "-0.001 transit-Topic19\n",
      "-0.001 hasDryer\n",
      "-0.001 neighborhood_overview-Topic14\n",
      "-0.001 description_X\n",
      "-0.001 beds\n",
      "-0.001 transit_PRON\n",
      "-0.001 access_ADJ\n",
      "-0.001 house_rules_NUM_tokens_sum_ratio\n",
      "-0.001 transit_LexicalDiversity\n",
      "-0.001 uses 'kba'\n",
      "-0.001 description_NOUN_tokens_sum_ratio\n",
      "-0.001 house_rules_ADV\n",
      "-0.001 listing_id\n",
      "-0.001 access-Topic13\n",
      "-0.001 host_response_rate\n",
      "-0.001 space_CONJ_tokens_sum_ratio\n",
      "-0.001 interaction_._tokens_sum_ratio\n",
      "-0.002 house_rules_ADP_tokens_sum_ratio\n",
      "-0.002 access_LexicalDiversity\n",
      "-0.002 has\"Family/Kid Friendly\"\n",
      "-0.002 hasDoorman\n",
      "-0.002 interaction_TextDigitsPerc\n",
      "-0.002 access_KmeansCluster\n",
      "-0.002 transit_._tokens_sum_ratio\n",
      "-0.002 description_DET_tokens_sum_ratio\n",
      "-0.002 access-Topic1\n",
      "-0.002 neighborhood_overview_KmeansCluster\n",
      "-0.002 interaction_VERB\n",
      "-0.002 transit-Topic7\n",
      "-0.002 hasHangers\n",
      "-0.002 description_._tokens_sum_ratio\n",
      "-0.002 transit-Topic10\n",
      "-0.003 notes_ADV\n",
      "-0.003 access-Topic16\n",
      "-0.003 access_DET\n",
      "-0.004 access_TextDigitsPerc\n",
      "-0.005 review_scores_accuracy\n"
     ]
    }
   ],
   "source": [
    "r2_impact = list()\n",
    "baseline = r2_gbd_est_two_huber(X_train, y_train, X_test, y_test)\n",
    "for j in range(X_train.shape[1]):\n",
    "    selection = [i for i in range(X_train.shape[1]) if i!=j]\n",
    "    r2_impact.append((baseline - (r2_gbd_est_two_huber(X_train.values[:,selection], y_train, X_test.values[:,selection], y_test)), X_test.columns[j]))\n",
    "for imp, var in sorted(r2_impact, reverse=True):\n",
    "    print(\"%6.3f %s\" %(imp, var))"
   ]
  },
  {
   "cell_type": "code",
   "execution_count": 71,
   "metadata": {
    "collapsed": true
   },
   "outputs": [],
   "source": [
    "positive_features_six = []\n",
    "\n",
    "for i, j in r2_impact:\n",
    "    if 0 <= i:\n",
    "        positive_features_six.append(j)"
   ]
  },
  {
   "cell_type": "code",
   "execution_count": 72,
   "metadata": {},
   "outputs": [
    {
     "data": {
      "text/plain": [
       "116"
      ]
     },
     "execution_count": 72,
     "metadata": {},
     "output_type": "execute_result"
    }
   ],
   "source": [
    "len(positive_features_six)"
   ]
  },
  {
   "cell_type": "markdown",
   "metadata": {},
   "source": [
    "### Model 35"
   ]
  },
  {
   "cell_type": "code",
   "execution_count": 73,
   "metadata": {
    "collapsed": true
   },
   "outputs": [],
   "source": [
    "X_train, X_test, y_train, y_test = train_test_split(X[positive_features_five], target, test_size=.30, random_state=1)\n",
    "X_train_two, X_val, y_train_two, y_val = train_test_split(X_train, y_train, test_size=.30, random_state=1)"
   ]
  },
  {
   "cell_type": "code",
   "execution_count": 74,
   "metadata": {},
   "outputs": [
    {
     "name": "stdout",
     "output_type": "stream",
     "text": [
      "The R2 for validation is 0.659258064634\n",
      "The mean squared error for validation is 9421.4191052\n",
      "The mean absolute error for validation is 60.4964493987\n",
      "The R2 is 0.686336999278\n",
      "The mean squared error is 7876.94963876\n",
      "The mean absolute error for test is 54.7470923406\n"
     ]
    }
   ],
   "source": [
    "gbd = GradientBoostingRegressor(loss = 'huber', learning_rate = .1)\n",
    "gbd.fit(X_train_two, y_train_two)\n",
    "b = gbd.predict(X_val)\n",
    "print('The R2 for validation is ' + str(gbd.score(X_val, y_val)))\n",
    "print('The mean squared error for validation is ' + str(mean_squared_error(b, y_val)))\n",
    "print('The mean absolute error for validation is ' + str(mean_absolute_error(b, y_val)))\n",
    "gbd.fit(X_train, y_train)\n",
    "b = gbd.predict(X_test)\n",
    "print('The R2 is ' + str(gbd.score(X_test, y_test)))\n",
    "print('The mean squared error is ' + str(mean_squared_error(b, y_test)))\n",
    "print('The mean absolute error for test is ' + str(mean_absolute_error(b, y_test)))"
   ]
  },
  {
   "cell_type": "code",
   "execution_count": 75,
   "metadata": {},
   "outputs": [
    {
     "name": "stdout",
     "output_type": "stream",
     "text": [
      " 0.027 bedrooms\n",
      " 0.020 longitude\n",
      " 0.010 accommodates\n",
      " 0.007 latitude\n",
      " 0.006 host_resp_time_enc\n",
      " 0.006 number_of_reviews\n",
      " 0.006 availability_365\n",
      " 0.005 reviews_per_month\n",
      " 0.005 has\"Air Conditioning\"\n",
      " 0.005 bathrooms\n",
      " 0.004 description-Topic2\n",
      " 0.003 has\"Elevator in Building\"\n",
      " 0.003 minimum_nights\n",
      " 0.003 interaction_DET_tokens_sum_ratio\n",
      " 0.003 hasTV\n",
      " 0.002 space_TextLength\n",
      " 0.002 description_LexicalDiversity\n",
      " 0.002 transit_VERB_tokens_sum_ratio\n",
      " 0.002 zipcode_enc\n",
      " 0.002 description_ADP_tokens_sum_ratio\n",
      " 0.002 notes-Topic2\n",
      " 0.001 space-Topic0\n",
      " 0.001 notes-Topic3\n",
      " 0.001 notes_TextPuncPerc\n",
      " 0.001 availability_60\n",
      " 0.001 neighborhood_overview-Topic9\n",
      " 0.001 transit_ADJ\n",
      " 0.001 uses'email'\n",
      " 0.001 interaction-Topic13\n",
      " 0.001 space-Topic10\n",
      " 0.001 neighborhood_overview_PRON_tokens_sum_ratio\n",
      " 0.001 has\"First Aid Kit\"\n",
      " 0.001 notes_TextWordsPerc\n",
      " 0.001 transit-Topic19\n",
      " 0.001 space_VERB\n",
      " 0.001 access-Topic12\n",
      " 0.001 bed_type_enc\n",
      " 0.001 has\"Laptop Friendly Workspace\"\n",
      " 0.001 security_deposit\n",
      " 0.001 house_rules_NUM_tokens_sum_ratio\n",
      " 0.001 access_ADV_tokens_sum_ratio\n",
      " 0.001 jurisdiction_names_enc\n",
      " 0.001 description_KmeansCluster\n",
      " 0.000 transit_PRON_tokens_sum_ratio\n",
      " 0.000 house_rules_ADV_tokens_sum_ratio\n",
      " 0.000 transit-Topic13\n",
      " 0.000 space-Topic16\n",
      " 0.000 review_scores_value\n",
      " 0.000 interaction-Topic10\n",
      " 0.000 house_rules_._tokens_sum_ratio\n",
      " 0.000 interaction_DET\n",
      " 0.000 notes_NOUN_tokens_sum_ratio\n",
      " 0.000 hasCat(s)\n",
      " 0.000 transit-Topic5\n",
      " 0.000 notes-Topic9\n",
      " 0.000 interaction_TextPuncPerc\n",
      " 0.000 space-Topic4\n",
      " 0.000 transit_CONJ_tokens_sum_ratio\n",
      " 0.000 notes_ADP\n",
      " 0.000 space_X_tokens_sum_ratio\n",
      " 0.000 access_LexicalDiversity\n",
      " 0.000 host_acceptance_rate\n",
      " 0.000 space-Topic19\n",
      " 0.000 space-Topic14\n",
      " 0.000 neighborhood_overview_ADJ\n",
      " 0.000 calendar_updated_enc\n",
      " 0.000 notes-Topic6\n",
      " 0.000 hasPool\n",
      " 0.000 transit_TextWordsPerc\n",
      " 0.000 space_PRT_tokens_sum_ratio\n",
      " 0.000 interaction_VERB_tokens_sum_ratio\n",
      " 0.000 house_rules_CONJ_tokens_sum_ratio\n",
      " 0.000 neighborhood_overview_TextLength\n",
      " 0.000 has\"24-Hour Check-in\"\n",
      " 0.000 uses 'reviews'\n",
      " 0.000 neighborhood_overview_KmeansCluster\n",
      " 0.000 description_ADJ_tokens_sum_ratio\n",
      " 0.000 transit_ADP_tokens_sum_ratio\n",
      " 0.000 transit_NUM\n",
      " 0.000 has\"Family/Kid Friendly\"\n",
      " 0.000 description_NOUN_tokens_sum_ratio\n",
      " 0.000 uses 'sent_id'\n",
      " 0.000 space_ADJ\n",
      "-0.000 transit_X_tokens_sum_ratio\n",
      "-0.000 has\"Cable TV\"\n",
      "-0.000 notes_DET_tokens_sum_ratio\n",
      "-0.000 access-Topic13\n",
      "-0.000 neighborhood_overview_NUM\n",
      "-0.000 interaction_PRT\n",
      "-0.000 notes_X_tokens_sum_ratio\n",
      "-0.000 description_TextWordsPerc\n",
      "-0.000 notes_PRON_tokens_sum_ratio\n",
      "-0.000 house_rules_NUM\n",
      "-0.000 access_CONJ_tokens_sum_ratio\n",
      "-0.000 space-Topic18\n",
      "-0.000 neighborhood_overview_PRT_tokens_sum_ratio\n",
      "-0.000 access_ADJ\n",
      "-0.000 access_._tokens_sum_ratio\n",
      "-0.000 space_CONJ_tokens_sum_ratio\n",
      "-0.000 beds\n",
      "-0.000 house_rules_PRON_tokens_sum_ratio\n",
      "-0.000 interaction_NOUN_tokens_sum_ratio\n",
      "-0.000 neighborhood_overview_DET\n",
      "-0.000 space-Topic15\n",
      "-0.000 cleaning_fee\n",
      "-0.000 uses 'kba'\n",
      "-0.000 description_CONJ_tokens_sum_ratio\n",
      "-0.000 interaction_ADV\n",
      "-0.000 interaction_CONJ_tokens_sum_ratio\n",
      "-0.000 neighborhood_overview_ADJ_tokens_sum_ratio\n",
      "-0.000 host_total_listings_count\n",
      "-0.000 interaction_ADP_tokens_sum_ratio\n",
      "-0.000 hasKitchen\n",
      "-0.000 uses'phone'\n",
      "-0.000 interaction_._tokens_sum_ratio\n",
      "-0.000 transit_DET\n",
      "-0.000 transit_PRON\n",
      "-0.000 transit-Dominant_Topic\n",
      "-0.000 house_rules_TextLength\n",
      "-0.000 space_NOUN_tokens_sum_ratio\n",
      "-0.000 interaction_NUM_tokens_sum_ratio\n",
      "-0.000 description_X_tokens_sum_ratio\n",
      "-0.000 access_VERB_tokens_sum_ratio\n",
      "-0.000 interaction_ADJ_tokens_sum_ratio\n",
      "-0.000 description_X\n",
      "-0.000 description_DET_tokens_sum_ratio\n",
      "-0.000 transit_DET_tokens_sum_ratio\n",
      "-0.000 has\"Pets Allowed\"\n",
      "-0.000 space-Topic2\n",
      "-0.000 access_KmeansCluster\n",
      "-0.000 description_ADP\n",
      "-0.000 house_rules-Topic7\n",
      "-0.000 hasHeating\n",
      "-0.000 notes-Topic16\n",
      "-0.000 space-Topic9\n",
      "-0.000 transit-Topic11\n",
      "-0.000 space_ADP_tokens_sum_ratio\n",
      "-0.001 has\"Buzzer/Wireless Intercom\"\n",
      "-0.001 neighborhood_overview_ADP_tokens_sum_ratio\n",
      "-0.001 access_PRON\n",
      "-0.001 access_TextPuncPerc\n",
      "-0.001 neighborhood_overview_VERB_tokens_sum_ratio\n",
      "-0.001 notes-Topic14\n",
      "-0.001 notes_VERB_tokens_sum_ratio\n",
      "-0.001 neighborhood_overview-Topic14\n",
      "-0.001 extra_people\n",
      "-0.001 notes_NUM_tokens_sum_ratio\n",
      "-0.001 transit_PRT_tokens_sum_ratio\n",
      "-0.001 access-Topic3\n",
      "-0.001 has\"Safety Card\"\n",
      "-0.001 transit_LexicalDiversity\n",
      "-0.001 uses 'jumio'\n",
      "-0.001 space-Topic5\n",
      "-0.001 access_X_tokens_sum_ratio\n",
      "-0.001 description_ADV\n",
      "-0.001 has\"Hair Dryer\"\n",
      "-0.001 notes-Topic12\n",
      "-0.001 uses 'linkedin'\n",
      "-0.001 availability_90\n",
      "-0.001 space_.\n",
      "-0.001 neighborhood_overview_ADV_tokens_sum_ratio\n",
      "-0.001 house_rules_PRT\n",
      "-0.001 access_DET\n",
      "-0.001 notes-Topic8\n",
      "-0.001 description-Topic5\n",
      "-0.001 space-Topic3\n",
      "-0.001 access_ADP_tokens_sum_ratio\n",
      "-0.001 description_VERB\n",
      "-0.001 space_DET\n",
      "-0.001 transit-Topic16\n",
      "-0.001 access_ADV\n",
      "-0.001 transit_VERB\n",
      "-0.001 transit_._tokens_sum_ratio\n",
      "-0.001 space_VERB_tokens_sum_ratio\n",
      "-0.001 description-Topic12\n",
      "-0.001 transit_ADJ_tokens_sum_ratio\n",
      "-0.001 transit-Topic17\n",
      "-0.001 host_response_rate\n",
      "-0.001 neighborhood_overview_PRON\n",
      "-0.001 notes-Topic19\n",
      "-0.001 space-Topic11\n",
      "-0.001 notes-Topic15\n",
      "-0.001 transit-Topic14\n",
      "-0.001 house_rules_ADP\n",
      "-0.001 house_rules_X\n",
      "-0.001 access_.\n",
      "-0.001 scrape_id\n",
      "-0.001 house_rules_X_tokens_sum_ratio\n",
      "-0.001 notes_ADP_tokens_sum_ratio\n",
      "-0.001 access_TextWordsPerc\n",
      "-0.001 hasEssentials\n",
      "-0.001 host_listings_count\n",
      "-0.001 space-Topic1\n",
      "-0.001 transit_NOUN\n",
      "-0.001 has\"Smoking Allowed\"\n",
      "-0.001 interaction_KmeansCluster\n",
      "-0.001 space-Topic12\n",
      "-0.001 space-Topic13\n",
      "-0.001 neighborhood_overview_VERB\n",
      "-0.001 access_PRON_tokens_sum_ratio\n",
      "-0.001 interaction_ADJ\n",
      "-0.001 access_DET_tokens_sum_ratio\n",
      "-0.001 house_rules_.\n",
      "-0.001 interaction_TextDigitsPerc\n",
      "-0.001 description_VERB_tokens_sum_ratio\n",
      "-0.001 transit-Topic8\n",
      "-0.001 house_rules_DET_tokens_sum_ratio\n",
      "-0.001 uses 'amex'\n",
      "-0.001 hasIron\n",
      "-0.001 space_._tokens_sum_ratio\n",
      "-0.001 transit_NUM_tokens_sum_ratio\n",
      "-0.001 uses 'manual_online'\n",
      "-0.001 description_NUM_tokens_sum_ratio\n",
      "-0.001 notes-Topic10\n",
      "-0.001 transit-Topic10\n",
      "-0.001 transit_NOUN_tokens_sum_ratio\n",
      "-0.001 description_._tokens_sum_ratio\n",
      "-0.001 has\"Fire Extinguisher\"\n",
      "-0.001 transit-Topic12\n",
      "-0.001 description_DET\n",
      "-0.001 notes_ADV_tokens_sum_ratio\n",
      "-0.001 space-Topic7\n",
      "-0.001 host_id\n",
      "-0.001 house_rules_ADP_tokens_sum_ratio\n",
      "-0.001 house_rules_CONJ\n",
      "-0.001 interaction-Topic9\n",
      "-0.001 hasShampoo\n",
      "-0.001 access-Topic16\n",
      "-0.002 description_ADJ\n",
      "-0.002 hasDoorman\n",
      "-0.002 access_TextLength\n",
      "-0.002 access_NOUN\n",
      "-0.002 description_.\n",
      "-0.002 neighborhood_overview_TextDigitsPerc\n",
      "-0.002 space-Topic17\n",
      "-0.002 notes_PRT_tokens_sum_ratio\n",
      "-0.002 notes-Topic4\n",
      "-0.002 access_TextDigitsPerc\n",
      "-0.002 notes_.\n",
      "-0.002 transit-Topic7\n",
      "-0.002 description_PRON_tokens_sum_ratio\n",
      "-0.002 description_NOUN\n",
      "-0.002 access-Topic1\n",
      "-0.002 hasDryer\n",
      "-0.002 listing_id\n",
      "-0.002 house_rules_ADV\n",
      "-0.002 house_rules_KmeansCluster\n",
      "-0.002 space_NOUN\n",
      "-0.003 notes_ADV\n",
      "-0.003 neighborhood_overview_._tokens_sum_ratio\n",
      "-0.003 hasHangers\n",
      "-0.003 interaction_VERB\n",
      "-0.004 description_TextLength\n",
      "-0.004 review_scores_accuracy\n"
     ]
    }
   ],
   "source": [
    "r2_impact = list()\n",
    "baseline = r2_gbd_est_two_huber(X_train, y_train, X_test, y_test)\n",
    "for j in range(X_train.shape[1]):\n",
    "    selection = [i for i in range(X_train.shape[1]) if i!=j]\n",
    "    r2_impact.append((baseline - (r2_gbd_est_two_huber(X_train.values[:,selection], y_train, X_test.values[:,selection], y_test)), X_test.columns[j]))\n",
    "for imp, var in sorted(r2_impact, reverse=True):\n",
    "    print(\"%6.3f %s\" %(imp, var))"
   ]
  },
  {
   "cell_type": "code",
   "execution_count": 78,
   "metadata": {
    "collapsed": true
   },
   "outputs": [],
   "source": [
    "positive_features_seven = []\n",
    "\n",
    "for i, j in r2_impact:\n",
    "    if 0 <= i:\n",
    "        positive_features_seven.append(j)"
   ]
  },
  {
   "cell_type": "code",
   "execution_count": 79,
   "metadata": {},
   "outputs": [
    {
     "data": {
      "text/plain": [
       "83"
      ]
     },
     "execution_count": 79,
     "metadata": {},
     "output_type": "execute_result"
    }
   ],
   "source": [
    "len(positive_features_seven)"
   ]
  },
  {
   "cell_type": "markdown",
   "metadata": {},
   "source": [
    "### Model 36"
   ]
  },
  {
   "cell_type": "code",
   "execution_count": 80,
   "metadata": {
    "collapsed": true
   },
   "outputs": [],
   "source": [
    "X_train, X_test, y_train, y_test = train_test_split(X[positive_features_six], target, test_size=.30, random_state=1)\n",
    "X_train_two, X_val, y_train_two, y_val = train_test_split(X_train, y_train, test_size=.30, random_state=1)"
   ]
  },
  {
   "cell_type": "code",
   "execution_count": 81,
   "metadata": {},
   "outputs": [
    {
     "name": "stdout",
     "output_type": "stream",
     "text": [
      "The R2 for validation is 0.660460222981\n",
      "The mean squared error for validation is 9388.17976354\n",
      "The mean absolute error for validation is 60.4720997588\n",
      "The R2 is 0.691685317873\n",
      "The mean squared error is 7742.6384955\n",
      "The mean absolute error for test is 54.8691128626\n"
     ]
    }
   ],
   "source": [
    "gbd = GradientBoostingRegressor(loss = 'huber', learning_rate = .1)\n",
    "gbd.fit(X_train_two, y_train_two)\n",
    "b = gbd.predict(X_val)\n",
    "print('The R2 for validation is ' + str(gbd.score(X_val, y_val)))\n",
    "print('The mean squared error for validation is ' + str(mean_squared_error(b, y_val)))\n",
    "print('The mean absolute error for validation is ' + str(mean_absolute_error(b, y_val)))\n",
    "gbd.fit(X_train, y_train)\n",
    "b = gbd.predict(X_test)\n",
    "print('The R2 is ' + str(gbd.score(X_test, y_test)))\n",
    "print('The mean squared error is ' + str(mean_squared_error(b, y_test)))\n",
    "print('The mean absolute error for test is ' + str(mean_absolute_error(b, y_test)))"
   ]
  },
  {
   "cell_type": "markdown",
   "metadata": {},
   "source": [
    "### Model 37"
   ]
  },
  {
   "cell_type": "code",
   "execution_count": 82,
   "metadata": {
    "collapsed": true
   },
   "outputs": [],
   "source": [
    "X_train, X_test, y_train, y_test = train_test_split(X[positive_features_seven], target, test_size=.30, random_state=1)\n",
    "X_train_two, X_val, y_train_two, y_val = train_test_split(X_train, y_train, test_size=.30, random_state=1)"
   ]
  },
  {
   "cell_type": "code",
   "execution_count": 83,
   "metadata": {},
   "outputs": [
    {
     "name": "stdout",
     "output_type": "stream",
     "text": [
      "The R2 for validation is 0.656253203396\n",
      "The mean squared error for validation is 9504.50267708\n",
      "The mean absolute error for validation is 61.2782719728\n",
      "The R2 is 0.677748023333\n",
      "The mean squared error is 8092.64269408\n",
      "The mean absolute error for test is 56.1453545811\n"
     ]
    }
   ],
   "source": [
    "gbd = GradientBoostingRegressor(loss = 'huber', learning_rate = .1)\n",
    "gbd.fit(X_train_two, y_train_two)\n",
    "b = gbd.predict(X_val)\n",
    "print('The R2 for validation is ' + str(gbd.score(X_val, y_val)))\n",
    "print('The mean squared error for validation is ' + str(mean_squared_error(b, y_val)))\n",
    "print('The mean absolute error for validation is ' + str(mean_absolute_error(b, y_val)))\n",
    "gbd.fit(X_train, y_train)\n",
    "b = gbd.predict(X_test)\n",
    "print('The R2 is ' + str(gbd.score(X_test, y_test)))\n",
    "print('The mean squared error is ' + str(mean_squared_error(b, y_test)))\n",
    "print('The mean absolute error for test is ' + str(mean_absolute_error(b, y_test)))"
   ]
  },
  {
   "cell_type": "code",
   "execution_count": null,
   "metadata": {
    "collapsed": true
   },
   "outputs": [],
   "source": []
  }
 ],
 "metadata": {
  "anaconda-cloud": {},
  "kernelspec": {
   "display_name": "Python [conda env:py35]",
   "language": "python",
   "name": "conda-env-py35-py"
  },
  "language_info": {
   "codemirror_mode": {
    "name": "ipython",
    "version": 3
   },
   "file_extension": ".py",
   "mimetype": "text/x-python",
   "name": "python",
   "nbconvert_exporter": "python",
   "pygments_lexer": "ipython3",
   "version": "3.5.2"
  }
 },
 "nbformat": 4,
 "nbformat_minor": 2
}
