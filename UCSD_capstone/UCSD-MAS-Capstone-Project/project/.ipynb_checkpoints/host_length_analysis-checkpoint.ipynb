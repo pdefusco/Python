{
 "cells": [
  {
   "cell_type": "code",
   "execution_count": 1,
   "metadata": {
    "collapsed": true
   },
   "outputs": [],
   "source": [
    "import json\n",
    "from StringIO import StringIO\n",
    "import pandas as pd"
   ]
  },
  {
   "cell_type": "code",
   "execution_count": 2,
   "metadata": {
    "collapsed": true
   },
   "outputs": [],
   "source": [
    "import pandas as pd\n",
    "import os\n",
    "import sklearn as sk\n",
    "from sklearn.linear_model import MultiTaskLasso, MultiTaskElasticNet, ElasticNet\n",
    "from sklearn.cross_validation import train_test_split\n",
    "from sklearn.metrics import mean_absolute_error, mean_squared_error\n",
    "import sklearn.metrics as skmet\n",
    "import numpy as np\n",
    "import nltk\n",
    "from nltk.tokenize import sent_tokenize, word_tokenize\n",
    "from nltk.corpus import stopwords, names\n",
    "import datetime\n",
    "from scipy.stats import ttest_ind \n",
    "import csv"
   ]
  },
  {
   "cell_type": "code",
   "execution_count": 3,
   "metadata": {
    "collapsed": true
   },
   "outputs": [],
   "source": [
    "listings = pd.read_csv('inside_airbnb/listings.csv')\n",
    "list_summ = pd.read_csv('inside_airbnb/listings_summ.csv')\n",
    "neighborhoods = pd.read_csv('inside_airbnb/neighbourhoods.csv')\n",
    "reviews = pd.read_csv('inside_airbnb/reviews.csv')\n",
    "reviews_summ = pd.read_csv('inside_airbnb/reviews_summ.csv')\n",
    "calendar = pd.read_csv('inside_airbnb/calendar.csv')"
   ]
  },
  {
   "cell_type": "code",
   "execution_count": 4,
   "metadata": {
    "scrolled": true
   },
   "outputs": [
    {
     "data": {
      "text/plain": [
       "0       2016-01-26\n",
       "1       2015-08-20\n",
       "2       2015-08-05\n",
       "3       2016-04-12\n",
       "4       2013-01-08\n",
       "5       2013-01-08\n",
       "6       2014-05-22\n",
       "7       2014-05-22\n",
       "8       2014-05-22\n",
       "9       2015-07-21\n",
       "10      2016-04-01\n",
       "11      2016-05-23\n",
       "12      2015-11-20\n",
       "13      2015-10-30\n",
       "14      2015-08-03\n",
       "15      2015-08-03\n",
       "16      2015-08-03\n",
       "17      2015-02-01\n",
       "18      2015-08-03\n",
       "19      2014-08-25\n",
       "20      2012-06-11\n",
       "21      2012-06-11\n",
       "22      2015-09-24\n",
       "23      2016-05-11\n",
       "24      2012-06-11\n",
       "25      2013-02-19\n",
       "26      2016-06-16\n",
       "27      2015-12-16\n",
       "28      2016-06-25\n",
       "29      2016-05-11\n",
       "           ...    \n",
       "6578    2016-06-29\n",
       "6579    2016-06-21\n",
       "6580    2014-10-11\n",
       "6581    2014-10-08\n",
       "6582    2011-07-25\n",
       "6583    2015-10-30\n",
       "6584    2014-05-29\n",
       "6585    2016-07-06\n",
       "6586    2016-06-14\n",
       "6587    2016-06-25\n",
       "6588    2016-06-12\n",
       "6589    2015-12-30\n",
       "6590    2012-07-19\n",
       "6591    2015-10-14\n",
       "6592    2011-06-24\n",
       "6593    2012-10-26\n",
       "6594    2016-02-20\n",
       "6595    2015-05-05\n",
       "6596    2014-01-17\n",
       "6597    2015-07-04\n",
       "6598    2016-05-25\n",
       "6599    2016-06-05\n",
       "6600    2015-02-04\n",
       "6601    2014-11-29\n",
       "6602    2015-12-30\n",
       "6603    2014-10-20\n",
       "6604    2015-12-25\n",
       "6605    2014-09-04\n",
       "6606    2011-12-14\n",
       "6607    2016-06-09\n",
       "Name: host_since, dtype: object"
      ]
     },
     "execution_count": 4,
     "metadata": {},
     "output_type": "execute_result"
    }
   ],
   "source": [
    "listings['host_since']"
   ]
  },
  {
   "cell_type": "code",
   "execution_count": 5,
   "metadata": {
    "scrolled": true
   },
   "outputs": [
    {
     "data": {
      "text/plain": [
       "0       2016-07-07\n",
       "1       2016-07-07\n",
       "2       2016-07-07\n",
       "3       2016-07-07\n",
       "4       2016-07-07\n",
       "5       2016-07-07\n",
       "6       2016-07-07\n",
       "7       2016-07-07\n",
       "8       2016-07-07\n",
       "9       2016-07-07\n",
       "10      2016-07-07\n",
       "11      2016-07-07\n",
       "12      2016-07-07\n",
       "13      2016-07-07\n",
       "14      2016-07-07\n",
       "15      2016-07-07\n",
       "16      2016-07-07\n",
       "17      2016-07-07\n",
       "18      2016-07-07\n",
       "19      2016-07-07\n",
       "20      2016-07-07\n",
       "21      2016-07-07\n",
       "22      2016-07-07\n",
       "23      2016-07-07\n",
       "24      2016-07-07\n",
       "25      2016-07-07\n",
       "26      2016-07-07\n",
       "27      2016-07-07\n",
       "28      2016-07-07\n",
       "29      2016-07-07\n",
       "           ...    \n",
       "6578    2016-07-07\n",
       "6579    2016-07-07\n",
       "6580    2016-07-07\n",
       "6581    2016-07-07\n",
       "6582    2016-07-07\n",
       "6583    2016-07-07\n",
       "6584    2016-07-07\n",
       "6585    2016-07-07\n",
       "6586    2016-07-07\n",
       "6587    2016-07-07\n",
       "6588    2016-07-07\n",
       "6589    2016-07-07\n",
       "6590    2016-07-07\n",
       "6591    2016-07-07\n",
       "6592    2016-07-07\n",
       "6593    2016-07-07\n",
       "6594    2016-07-07\n",
       "6595    2016-07-07\n",
       "6596    2016-07-07\n",
       "6597    2016-07-07\n",
       "6598    2016-07-07\n",
       "6599    2016-07-07\n",
       "6600    2016-07-07\n",
       "6601    2016-07-07\n",
       "6602    2016-07-07\n",
       "6603    2016-07-07\n",
       "6604    2016-07-07\n",
       "6605    2016-07-07\n",
       "6606    2016-07-07\n",
       "6607    2016-07-07\n",
       "Name: last_scraped, dtype: object"
      ]
     },
     "execution_count": 5,
     "metadata": {},
     "output_type": "execute_result"
    }
   ],
   "source": [
    "listings['last_scraped']"
   ]
  },
  {
   "cell_type": "code",
   "execution_count": 6,
   "metadata": {},
   "outputs": [
    {
     "data": {
      "text/plain": [
       "(dtype('O'), dtype('O'))"
      ]
     },
     "execution_count": 6,
     "metadata": {},
     "output_type": "execute_result"
    }
   ],
   "source": [
    "listings['host_since'].dtype, listings['last_scraped'].dtype"
   ]
  },
  {
   "cell_type": "code",
   "execution_count": 22,
   "metadata": {
    "collapsed": true
   },
   "outputs": [],
   "source": [
    "def datetime_strip(x):\n",
    "    x_date = datetime.datetime.strptime(x, \"%Y-%m-%d\")\n",
    "    return x_date"
   ]
  },
  {
   "cell_type": "code",
   "execution_count": 25,
   "metadata": {
    "collapsed": true
   },
   "outputs": [],
   "source": [
    "def get_days(b):\n",
    "    return b.days"
   ]
  },
  {
   "cell_type": "code",
   "execution_count": 27,
   "metadata": {
    "collapsed": true
   },
   "outputs": [],
   "source": [
    "listings['days_since_host'] = (listings['last_scraped'].map(datetime_strip) - listings['host_since'].map(datetime_strip)).map(get_days)"
   ]
  },
  {
   "cell_type": "code",
   "execution_count": 28,
   "metadata": {
    "scrolled": true
   },
   "outputs": [
    {
     "data": {
      "text/plain": [
       "0        163\n",
       "1        322\n",
       "2        337\n",
       "3         86\n",
       "4       1276\n",
       "5       1276\n",
       "6        777\n",
       "7        777\n",
       "8        777\n",
       "9        352\n",
       "10        97\n",
       "11        45\n",
       "12       230\n",
       "13       251\n",
       "14       339\n",
       "15       339\n",
       "16       339\n",
       "17       522\n",
       "18       339\n",
       "19       682\n",
       "20      1487\n",
       "21      1487\n",
       "22       287\n",
       "23        57\n",
       "24      1487\n",
       "25      1234\n",
       "26        21\n",
       "27       204\n",
       "28        12\n",
       "29        57\n",
       "        ... \n",
       "6578       8\n",
       "6579      16\n",
       "6580     635\n",
       "6581     638\n",
       "6582    1809\n",
       "6583     251\n",
       "6584     770\n",
       "6585       1\n",
       "6586      23\n",
       "6587      12\n",
       "6588      25\n",
       "6589     190\n",
       "6590    1449\n",
       "6591     267\n",
       "6592    1840\n",
       "6593    1350\n",
       "6594     138\n",
       "6595     429\n",
       "6596     902\n",
       "6597     369\n",
       "6598      43\n",
       "6599      32\n",
       "6600     519\n",
       "6601     586\n",
       "6602     190\n",
       "6603     626\n",
       "6604     195\n",
       "6605     672\n",
       "6606    1667\n",
       "6607      28\n",
       "Name: days_since_host, dtype: int64"
      ]
     },
     "execution_count": 28,
     "metadata": {},
     "output_type": "execute_result"
    }
   ],
   "source": [
    "listings['days_since_host']"
   ]
  },
  {
   "cell_type": "code",
   "execution_count": null,
   "metadata": {
    "collapsed": true
   },
   "outputs": [],
   "source": []
  }
 ],
 "metadata": {
  "anaconda-cloud": {},
  "kernelspec": {
   "display_name": "Python [conda env:py27]",
   "language": "python",
   "name": "conda-env-py27-py"
  },
  "language_info": {
   "codemirror_mode": {
    "name": "ipython",
    "version": 2
   },
   "file_extension": ".py",
   "mimetype": "text/x-python",
   "name": "python",
   "nbconvert_exporter": "python",
   "pygments_lexer": "ipython2",
   "version": "2.7.12"
  }
 },
 "nbformat": 4,
 "nbformat_minor": 2
}
