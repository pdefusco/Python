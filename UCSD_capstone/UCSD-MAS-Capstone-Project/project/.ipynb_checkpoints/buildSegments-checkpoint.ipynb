{
 "cells": [
  {
   "cell_type": "markdown",
   "metadata": {},
   "source": [
    "# Listings Segmentation"
   ]
  },
  {
   "cell_type": "markdown",
   "metadata": {},
   "source": [
    "Splitting up the listings based on different combinations of features\n",
    "Basis for hypothesis tests"
   ]
  },
  {
   "cell_type": "markdown",
   "metadata": {},
   "source": [
    "NB: This notebook will work with mean prices across each listing time series price data in order to simplify the problem. Eventually, this will probably have to be modified"
   ]
  },
  {
   "cell_type": "code",
   "execution_count": 1,
   "metadata": {},
   "outputs": [
    {
     "name": "stderr",
     "output_type": "stream",
     "text": [
      "/Users/pauldefusco/anaconda2/envs/py27/lib/python2.7/site-packages/statsmodels/compat/pandas.py:56: FutureWarning: The pandas.core.datetools module is deprecated and will be removed in a future version. Please use the pandas.tseries module instead.\n",
      "  from pandas.core import datetools\n"
     ]
    }
   ],
   "source": [
    "import pandas as pd\n",
    "import numpy as np\n",
    "import scipy.stats as stats\n",
    "import matplotlib.pyplot as plt\n",
    "import numpy as np\n",
    "import pyarrow as pa\n",
    "import pyarrow.parquet as pq\n",
    "import sklearn as sk\n",
    "from sklearn.linear_model import LinearRegression\n",
    "import statsmodels.api as sm"
   ]
  },
  {
   "cell_type": "code",
   "execution_count": 2,
   "metadata": {
    "collapsed": true
   },
   "outputs": [],
   "source": [
    "%matplotlib inline"
   ]
  },
  {
   "cell_type": "code",
   "execution_count": 3,
   "metadata": {
    "collapsed": true
   },
   "outputs": [],
   "source": [
    "master = pd.read_parquet('master.parquet',engine='fastparquet')"
   ]
  },
  {
   "cell_type": "code",
   "execution_count": 4,
   "metadata": {
    "collapsed": true
   },
   "outputs": [],
   "source": [
    "mask = (master['date'] > '2016-07-01') & (master['date'] <= '2016-10-07')"
   ]
  },
  {
   "cell_type": "code",
   "execution_count": 5,
   "metadata": {
    "collapsed": true
   },
   "outputs": [],
   "source": [
    "master = master.loc[mask]\n",
    "master = master.reset_index()"
   ]
  },
  {
   "cell_type": "code",
   "execution_count": null,
   "metadata": {
    "collapsed": true
   },
   "outputs": [],
   "source": []
  },
  {
   "cell_type": "code",
   "execution_count": null,
   "metadata": {
    "collapsed": true
   },
   "outputs": [],
   "source": []
  },
  {
   "cell_type": "code",
   "execution_count": null,
   "metadata": {
    "collapsed": true
   },
   "outputs": [],
   "source": []
  },
  {
   "cell_type": "code",
   "execution_count": null,
   "metadata": {
    "collapsed": true
   },
   "outputs": [],
   "source": []
  },
  {
   "cell_type": "code",
   "execution_count": null,
   "metadata": {
    "collapsed": true
   },
   "outputs": [],
   "source": []
  },
  {
   "cell_type": "markdown",
   "metadata": {},
   "source": [
    "Taking the average price for each listing:"
   ]
  },
  {
   "cell_type": "code",
   "execution_count": 6,
   "metadata": {
    "collapsed": true
   },
   "outputs": [],
   "source": [
    "df = master.groupby(by='listing_id').mean().reset_index()"
   ]
  },
  {
   "cell_type": "code",
   "execution_count": 7,
   "metadata": {
    "collapsed": true
   },
   "outputs": [],
   "source": [
    "df = df[['listing_id','price_y']]"
   ]
  },
  {
   "cell_type": "code",
   "execution_count": 8,
   "metadata": {
    "collapsed": true
   },
   "outputs": [],
   "source": [
    "df = df.rename(columns={\"price_y\":\"listing_avg_price\"})"
   ]
  },
  {
   "cell_type": "code",
   "execution_count": 9,
   "metadata": {
    "collapsed": true
   },
   "outputs": [],
   "source": [
    "master = master.merge(df, how='left', left_on='listing_id', right_on='listing_id')"
   ]
  },
  {
   "cell_type": "markdown",
   "metadata": {},
   "source": [
    "Create Categories by Combining Numeric Features"
   ]
  },
  {
   "cell_type": "markdown",
   "metadata": {},
   "source": [
    "Bedroom and Bathrooms Based Categories"
   ]
  },
  {
   "cell_type": "code",
   "execution_count": 10,
   "metadata": {
    "collapsed": true
   },
   "outputs": [],
   "source": [
    "master['bed_bath_grp']=master[['listing_id', 'bedrooms', 'bathrooms']].groupby(by=['bedrooms','bathrooms']).ngroup()"
   ]
  },
  {
   "cell_type": "code",
   "execution_count": 11,
   "metadata": {},
   "outputs": [
    {
     "data": {
      "image/png": "[encoded data removed]",
      "text/plain": [
       "<matplotlib.figure.Figure at 0x1c0fdea950>"
      ]
     },
     "metadata": {},
     "output_type": "display_data"
    }
   ],
   "source": [
    "plt.figure()\n",
    "master['bed_bath_grp'].hist()\n",
    "plt.title('')\n",
    "plt.show()"
   ]
  },
  {
   "cell_type": "code",
   "execution_count": 12,
   "metadata": {
    "collapsed": true
   },
   "outputs": [],
   "source": [
    "#create more"
   ]
  },
  {
   "cell_type": "code",
   "execution_count": null,
   "metadata": {
    "collapsed": true
   },
   "outputs": [],
   "source": []
  },
  {
   "cell_type": "markdown",
   "metadata": {},
   "source": [
    "Create Categories by Binning Numeric Features"
   ]
  },
  {
   "cell_type": "code",
   "execution_count": 13,
   "metadata": {},
   "outputs": [
    {
     "data": {
      "text/plain": [
       "count    176994.000000\n",
       "mean        273.670296\n",
       "std         177.660818\n",
       "min          25.000000\n",
       "25%         147.970588\n",
       "50%         220.000000\n",
       "75%         342.773585\n",
       "max         999.000000\n",
       "Name: listing_avg_price, dtype: float64"
      ]
     },
     "execution_count": 13,
     "metadata": {},
     "output_type": "execute_result"
    }
   ],
   "source": [
    "master.listing_avg_price.describe()"
   ]
  },
  {
   "cell_type": "code",
   "execution_count": 14,
   "metadata": {},
   "outputs": [
    {
     "data": {
      "image/png": "[encoded data removed]",
      "text/plain": [
       "<matplotlib.figure.Figure at 0x1c0fdeaf10>"
      ]
     },
     "metadata": {},
     "output_type": "display_data"
    }
   ],
   "source": [
    "plt.figure()\n",
    "master.listing_avg_price.plot.density()\n",
    "plt.show()"
   ]
  },
  {
   "cell_type": "code",
   "execution_count": 15,
   "metadata": {
    "collapsed": true
   },
   "outputs": [],
   "source": [
    "#Looking at the pdf gives us an approximate idea of how to define bins for the variable\n",
    "#Use more rigorous approach in the future"
   ]
  },
  {
   "cell_type": "code",
   "execution_count": 16,
   "metadata": {
    "collapsed": true
   },
   "outputs": [],
   "source": [
    "master['avg_price_bin']=pd.cut(master.listing_avg_price, 10, right=True, labels=None, retbins=False, precision=3, include_lowest=False)"
   ]
  },
  {
   "cell_type": "code",
   "execution_count": 17,
   "metadata": {},
   "outputs": [
    {
     "data": {
      "text/plain": [
       "count    174803.000000\n",
       "mean        267.442132\n",
       "std         175.714787\n",
       "min          19.000000\n",
       "25%         145.000000\n",
       "50%         215.000000\n",
       "75%         341.000000\n",
       "max         999.000000\n",
       "Name: price_y, dtype: float64"
      ]
     },
     "execution_count": 17,
     "metadata": {},
     "output_type": "execute_result"
    }
   ],
   "source": [
    "master.price_y.describe()"
   ]
  },
  {
   "cell_type": "code",
   "execution_count": 18,
   "metadata": {},
   "outputs": [
    {
     "data": {
      "image/png": "[encoded data removed]",
      "text/plain": [
       "<matplotlib.figure.Figure at 0x1cf8230390>"
      ]
     },
     "metadata": {},
     "output_type": "display_data"
    }
   ],
   "source": [
    "plt.figure()\n",
    "master.price_y.plot.density()\n",
    "plt.show()"
   ]
  },
  {
   "cell_type": "code",
   "execution_count": 19,
   "metadata": {
    "collapsed": true
   },
   "outputs": [],
   "source": [
    "master['price_bin']=pd.cut(master.price_y, 10, right=True, labels=None, retbins=False, precision=3, include_lowest=False)"
   ]
  },
  {
   "cell_type": "code",
   "execution_count": 20,
   "metadata": {},
   "outputs": [
    {
     "data": {
      "text/plain": [
       "count    125922.000000\n",
       "mean         93.620035\n",
       "std           8.342053\n",
       "min          20.000000\n",
       "25%          91.000000\n",
       "50%          96.000000\n",
       "75%         100.000000\n",
       "max         100.000000\n",
       "Name: review_scores_rating, dtype: float64"
      ]
     },
     "execution_count": 20,
     "metadata": {},
     "output_type": "execute_result"
    }
   ],
   "source": [
    "master.review_scores_rating.describe()"
   ]
  },
  {
   "cell_type": "code",
   "execution_count": 21,
   "metadata": {},
   "outputs": [
    {
     "data": {
      "image/png": "[encoded data removed]",
      "text/plain": [
       "<matplotlib.figure.Figure at 0x1c10bd9790>"
      ]
     },
     "metadata": {},
     "output_type": "display_data"
    }
   ],
   "source": [
    "plt.figure()\n",
    "master.review_scores_rating.plot.density()\n",
    "plt.show()"
   ]
  },
  {
   "cell_type": "code",
   "execution_count": 22,
   "metadata": {
    "collapsed": true
   },
   "outputs": [],
   "source": [
    "master['review_scores_rating']=pd.cut(master.review_scores_rating, 10, right=True, labels=None, retbins=False, precision=3, include_lowest=False)"
   ]
  },
  {
   "cell_type": "code",
   "execution_count": 23,
   "metadata": {
    "collapsed": true
   },
   "outputs": [],
   "source": [
    "#Do more of the above with other features"
   ]
  },
  {
   "cell_type": "markdown",
   "metadata": {},
   "source": [
    "Now doing some Hypothesis Testing"
   ]
  },
  {
   "cell_type": "code",
   "execution_count": 24,
   "metadata": {},
   "outputs": [
    {
     "name": "stdout",
     "output_type": "stream",
     "text": [
      "7644\n",
      "5453\n",
      "0\n"
     ]
    }
   ],
   "source": [
    "print master['price_y'].isnull().sum()\n",
    "print master['listing_avg_price'].isnull().sum()\n",
    "print master['host_is_superhost'].isnull().sum()"
   ]
  },
  {
   "cell_type": "code",
   "execution_count": 25,
   "metadata": {},
   "outputs": [
    {
     "name": "stdout",
     "output_type": "stream",
     "text": [
      "0\n",
      "0\n"
     ]
    }
   ],
   "source": [
    "#for now just using avg of both series to impute null values\n",
    "#will need to evaluate this further\n",
    "mean_price = master['price_y'].mean()\n",
    "master['price_y'] = master['price_y'].fillna(mean_price)\n",
    "mean_avg_price = master['listing_avg_price'].mean()\n",
    "master['listing_avg_price'] = master['listing_avg_price'].fillna(mean_avg_price)\n",
    "print master['price_y'].isnull().sum()\n",
    "print master['listing_avg_price'].isnull().sum()"
   ]
  },
  {
   "cell_type": "code",
   "execution_count": 26,
   "metadata": {
    "collapsed": true
   },
   "outputs": [],
   "source": [
    "from scipy import stats"
   ]
  },
  {
   "cell_type": "markdown",
   "metadata": {},
   "source": [
    "Hypothesis Test: price being equal to 100"
   ]
  },
  {
   "cell_type": "code",
   "execution_count": 27,
   "metadata": {},
   "outputs": [
    {
     "data": {
      "text/plain": [
       "Ttest_1sampResult(statistic=415.83282862406338, pvalue=0.0)"
      ]
     },
     "execution_count": 27,
     "metadata": {},
     "output_type": "execute_result"
    }
   ],
   "source": [
    "stats.ttest_1samp(master['price_y'], 100)"
   ]
  },
  {
   "cell_type": "markdown",
   "metadata": {},
   "source": [
    "2 Sample T-Test: review score difference based on whether host is superhost"
   ]
  },
  {
   "cell_type": "code",
   "execution_count": 28,
   "metadata": {
    "collapsed": true
   },
   "outputs": [],
   "source": [
    "sup_host = master[master['host_is_superhost'] == 't']['review_scores_communication']"
   ]
  },
  {
   "cell_type": "code",
   "execution_count": 29,
   "metadata": {
    "collapsed": true
   },
   "outputs": [],
   "source": [
    "sup_host_not = master[master['host_is_superhost'] == 'f']['review_scores_communication']"
   ]
  },
  {
   "cell_type": "code",
   "execution_count": 30,
   "metadata": {
    "collapsed": true
   },
   "outputs": [],
   "source": [
    "sup_host = sup_host.fillna(sup_host.mean())\n",
    "sup_host_not = sup_host_not.fillna(sup_host_not.mean())"
   ]
  },
  {
   "cell_type": "code",
   "execution_count": 31,
   "metadata": {},
   "outputs": [
    {
     "name": "stdout",
     "output_type": "stream",
     "text": [
      "24278\n",
      "158169\n"
     ]
    }
   ],
   "source": [
    "print len(sup_host)\n",
    "print len(sup_host_not)"
   ]
  },
  {
   "cell_type": "code",
   "execution_count": 32,
   "metadata": {
    "collapsed": true
   },
   "outputs": [],
   "source": [
    "sup_host_sample = sup_host.sample(n=1300)\n",
    "sup_host_not_sample = sup_host_not.sample(n=1300)"
   ]
  },
  {
   "cell_type": "code",
   "execution_count": 33,
   "metadata": {},
   "outputs": [
    {
     "data": {
      "text/plain": [
       "Ttest_indResult(statistic=-18.04194276384381, pvalue=1.1906779462524356e-68)"
      ]
     },
     "execution_count": 33,
     "metadata": {},
     "output_type": "execute_result"
    }
   ],
   "source": [
    "stats.ttest_ind(sup_host_not_sample, sup_host_sample)"
   ]
  },
  {
   "cell_type": "markdown",
   "metadata": {},
   "source": [
    "Repeated Measures T-Test:"
   ]
  },
  {
   "cell_type": "code",
   "execution_count": 34,
   "metadata": {},
   "outputs": [
    {
     "data": {
      "text/plain": [
       "Ttest_relResult(statistic=18.087649625146071, pvalue=2.1379672909548848e-65)"
      ]
     },
     "execution_count": 34,
     "metadata": {},
     "output_type": "execute_result"
    }
   ],
   "source": [
    "stats.ttest_rel(sup_host_sample, sup_host_not_sample)"
   ]
  },
  {
   "cell_type": "markdown",
   "metadata": {},
   "source": [
    "Wilcoxon Signed-Rank Test"
   ]
  },
  {
   "cell_type": "code",
   "execution_count": 35,
   "metadata": {},
   "outputs": [
    {
     "data": {
      "text/plain": [
       "WilcoxonResult(statistic=7733.0, pvalue=7.9426296367189396e-110)"
      ]
     },
     "execution_count": 35,
     "metadata": {},
     "output_type": "execute_result"
    }
   ],
   "source": [
    "stats.wilcoxon(sup_host_sample, sup_host_not_sample)"
   ]
  },
  {
   "cell_type": "markdown",
   "metadata": {},
   "source": [
    "Same tests as above but with different features:"
   ]
  },
  {
   "cell_type": "code",
   "execution_count": 36,
   "metadata": {
    "collapsed": true
   },
   "outputs": [],
   "source": [
    "#fill in"
   ]
  },
  {
   "cell_type": "markdown",
   "metadata": {},
   "source": [
    "Adding Autoregression Analysis - Using master['bed_bath_grp']==40"
   ]
  },
  {
   "cell_type": "code",
   "execution_count": 37,
   "metadata": {
    "collapsed": true
   },
   "outputs": [],
   "source": [
    "import statsmodels.api as sm"
   ]
  },
  {
   "cell_type": "code",
   "execution_count": 38,
   "metadata": {
    "collapsed": true
   },
   "outputs": [],
   "source": [
    "x = master['price_y']"
   ]
  },
  {
   "cell_type": "code",
   "execution_count": 39,
   "metadata": {
    "collapsed": true
   },
   "outputs": [],
   "source": [
    "x.index = master['date']"
   ]
  },
  {
   "cell_type": "code",
   "execution_count": 40,
   "metadata": {},
   "outputs": [
    {
     "data": {
      "text/plain": [
       "DatetimeIndex(['2016-10-07', '2016-10-06', '2016-10-05', '2016-10-04',\n",
       "               '2016-10-03', '2016-10-02', '2016-10-01', '2016-09-30',\n",
       "               '2016-09-29', '2016-09-28',\n",
       "               ...\n",
       "               '2016-08-28', '2016-08-27', '2016-08-26', '2016-08-25',\n",
       "               '2016-08-24', '2016-08-23', '2016-08-22', '2016-08-17',\n",
       "               '2016-08-16', '2016-08-01'],\n",
       "              dtype='datetime64[ns]', name=u'date', length=182447, freq=None)"
      ]
     },
     "execution_count": 40,
     "metadata": {},
     "output_type": "execute_result"
    }
   ],
   "source": [
    "x.index"
   ]
  },
  {
   "cell_type": "code",
   "execution_count": 41,
   "metadata": {
    "collapsed": true
   },
   "outputs": [],
   "source": [
    "x.index = pd.DatetimeIndex(x.index,start='0', end='lngth')"
   ]
  },
  {
   "cell_type": "markdown",
   "metadata": {},
   "source": [
    "Autocorrelation Function"
   ]
  },
  {
   "cell_type": "markdown",
   "metadata": {},
   "source": [
    "The autocorrelation function is a measure of the correlation between observations of a time series that are separated by k time units (yt and yt–k).\n",
    "\n",
    "Interpretation\n",
    "Use the autocorrelation function and the partial autocorrelation functions together to identify ARIMA models. Examine the spikes at each lag to determine whether they are significant. A significant spike will extend beyond the significance limits, which indicates that the correlation for that lag doesn't equal zero."
   ]
  },
  {
   "cell_type": "markdown",
   "metadata": {},
   "source": [
    "On this plot, there is a significant correlation at lag 1 that decreases after a few lags. This pattern indicates an autoregressive term. You should use the partial autocorrelation function to determine the order of the autoregressive term."
   ]
  },
  {
   "cell_type": "code",
   "execution_count": 42,
   "metadata": {},
   "outputs": [
    {
     "data": {
      "text/plain": [
       "<matplotlib.figure.Figure at 0x1c1472ad50>"
      ]
     },
     "metadata": {},
     "output_type": "display_data"
    },
    {
     "data": {
      "image/png": "[encoded data removed]",
      "text/plain": [
       "<matplotlib.figure.Figure at 0x1c1472a390>"
      ]
     },
     "metadata": {},
     "output_type": "display_data"
    }
   ],
   "source": [
    "plt.figure()\n",
    "sm.graphics.tsa.plot_acf(x, lags=100)\n",
    "plt.show()"
   ]
  },
  {
   "cell_type": "markdown",
   "metadata": {},
   "source": [
    "Partial autocorrelation function"
   ]
  },
  {
   "cell_type": "markdown",
   "metadata": {},
   "source": [
    "The partial autocorrelation function is a measure of the correlation between observations of a time series that are separated by k time units (yt and yt–k), after adjusting for the presence of all the other terms of shorter lag (yt–1, yt–2, ..., yt–k–1)."
   ]
  },
  {
   "cell_type": "markdown",
   "metadata": {},
   "source": [
    "Use the partial autocorrelation and autocorrelation functions together to identify ARIMA models. Look for the following patterns on the partial autocorrelation function. Examine the spikes at each lag to determine whether they are significance. A significant spike will extend beyond the significant limits, which indicates that the correlation for that lag doesn't equal zero."
   ]
  },
  {
   "cell_type": "markdown",
   "metadata": {},
   "source": [
    "We observe a large spike at lag 1 followed by a damped wave that alternates between positive and negative correlations. This implies a higher order moving average term in the data. Use the autocorrelation function to determine the order of the moving average term."
   ]
  },
  {
   "cell_type": "code",
   "execution_count": 43,
   "metadata": {},
   "outputs": [
    {
     "data": {
      "text/plain": [
       "<matplotlib.figure.Figure at 0x1c1472ab50>"
      ]
     },
     "metadata": {},
     "output_type": "display_data"
    },
    {
     "data": {
      "image/png": "[encoded data removed]",
      "text/plain": [
       "<matplotlib.figure.Figure at 0x1c1472a6d0>"
      ]
     },
     "metadata": {},
     "output_type": "display_data"
    }
   ],
   "source": [
    "plt.figure()\n",
    "sm.graphics.tsa.plot_pacf(x, lags=100)\n",
    "plt.show()"
   ]
  },
  {
   "cell_type": "markdown",
   "metadata": {},
   "source": [
    "ARMA Model"
   ]
  },
  {
   "cell_type": "code",
   "execution_count": 44,
   "metadata": {},
   "outputs": [
    {
     "name": "stdout",
     "output_type": "stream",
     "text": [
      "Optimization terminated successfully.\n",
      "         Current function value: 5.394504\n",
      "         Iterations: 20\n",
      "         Function evaluations: 57\n",
      "         Gradient evaluations: 57\n"
     ]
    },
    {
     "data": {
      "text/html": [
       "<table class=\"simpletable\">\n",
       "<caption>ARMA Model Results</caption>\n",
       "<tr>\n",
       "  <th>Dep. Variable:</th>      <td>price_y</td>     <th>  No. Observations:  </th>   <td>182447</td>   \n",
       "</tr>\n",
       "<tr>\n",
       "  <th>Model:</th>            <td>ARMA(3, 1)</td>    <th>  Log Likelihood     </th> <td>-984211.074</td>\n",
       "</tr>\n",
       "<tr>\n",
       "  <th>Method:</th>               <td>mle</td>       <th>  S.D. of innovations</th>   <td>53.280</td>   \n",
       "</tr>\n",
       "<tr>\n",
       "  <th>Date:</th>          <td>Sat, 03 Mar 2018</td> <th>  AIC                </th> <td>1968434.147</td>\n",
       "</tr>\n",
       "<tr>\n",
       "  <th>Time:</th>              <td>05:15:24</td>     <th>  BIC                </th> <td>1968494.833</td>\n",
       "</tr>\n",
       "<tr>\n",
       "  <th>Sample:</th>           <td>10-07-2016</td>    <th>  HQIC               </th> <td>1968452.080</td>\n",
       "</tr>\n",
       "<tr>\n",
       "  <th></th>                 <td>- 08-01-2016</td>   <th>                     </th>      <td> </td>     \n",
       "</tr>\n",
       "</table>\n",
       "<table class=\"simpletable\">\n",
       "<tr>\n",
       "        <td></td>           <th>coef</th>     <th>std err</th>      <th>z</th>      <th>P>|z|</th>  <th>[0.025</th>    <th>0.975]</th>  \n",
       "</tr>\n",
       "<tr>\n",
       "  <th>const</th>         <td>  267.4421</td> <td>    3.775</td> <td>   70.838</td> <td> 0.000</td> <td>  260.042</td> <td>  274.842</td>\n",
       "</tr>\n",
       "<tr>\n",
       "  <th>ar.L1.price_y</th> <td>    1.5218</td> <td>    0.007</td> <td>  215.931</td> <td> 0.000</td> <td>    1.508</td> <td>    1.536</td>\n",
       "</tr>\n",
       "<tr>\n",
       "  <th>ar.L2.price_y</th> <td>   -0.6477</td> <td>    0.007</td> <td>  -99.432</td> <td> 0.000</td> <td>   -0.660</td> <td>   -0.635</td>\n",
       "</tr>\n",
       "<tr>\n",
       "  <th>ar.L3.price_y</th> <td>    0.1138</td> <td>    0.003</td> <td>   43.367</td> <td> 0.000</td> <td>    0.109</td> <td>    0.119</td>\n",
       "</tr>\n",
       "<tr>\n",
       "  <th>ma.L1.price_y</th> <td>   -0.6356</td> <td>    0.007</td> <td>  -93.076</td> <td> 0.000</td> <td>   -0.649</td> <td>   -0.622</td>\n",
       "</tr>\n",
       "</table>\n",
       "<table class=\"simpletable\">\n",
       "<caption>Roots</caption>\n",
       "<tr>\n",
       "    <td></td>   <th>           Real</th> <th>         Imaginary</th> <th>         Modulus</th> <th>        Frequency</th>\n",
       "</tr>\n",
       "<tr>\n",
       "  <th>AR.1</th>               1.0214                    -0.0000j                    1.0214                   -0.0000     \n",
       "</tr>\n",
       "<tr>\n",
       "  <th>AR.2</th>               2.3343                    -1.7755j                    2.9328                   -0.1035     \n",
       "</tr>\n",
       "<tr>\n",
       "  <th>AR.3</th>               2.3343                    +1.7755j                    2.9328                    0.1035     \n",
       "</tr>\n",
       "<tr>\n",
       "  <th>MA.1</th>               1.5732                    +0.0000j                    1.5732                    0.0000     \n",
       "</tr>\n",
       "</table>"
      ],
      "text/plain": [
       "<class 'statsmodels.iolib.summary.Summary'>\n",
       "\"\"\"\n",
       "                              ARMA Model Results                              \n",
       "==============================================================================\n",
       "Dep. Variable:                price_y   No. Observations:               182447\n",
       "Model:                     ARMA(3, 1)   Log Likelihood             -984211.074\n",
       "Method:                           mle   S.D. of innovations             53.280\n",
       "Date:                Sat, 03 Mar 2018   AIC                        1968434.147\n",
       "Time:                        05:15:24   BIC                        1968494.833\n",
       "Sample:                    10-07-2016   HQIC                       1968452.080\n",
       "                         - 08-01-2016                                         \n",
       "=================================================================================\n",
       "                    coef    std err          z      P>|z|      [0.025      0.975]\n",
       "---------------------------------------------------------------------------------\n",
       "const           267.4421      3.775     70.838      0.000     260.042     274.842\n",
       "ar.L1.price_y     1.5218      0.007    215.931      0.000       1.508       1.536\n",
       "ar.L2.price_y    -0.6477      0.007    -99.432      0.000      -0.660      -0.635\n",
       "ar.L3.price_y     0.1138      0.003     43.367      0.000       0.109       0.119\n",
       "ma.L1.price_y    -0.6356      0.007    -93.076      0.000      -0.649      -0.622\n",
       "                                    Roots                                    \n",
       "=============================================================================\n",
       "                 Real           Imaginary           Modulus         Frequency\n",
       "-----------------------------------------------------------------------------\n",
       "AR.1            1.0214           -0.0000j            1.0214           -0.0000\n",
       "AR.2            2.3343           -1.7755j            2.9328           -0.1035\n",
       "AR.3            2.3343           +1.7755j            2.9328            0.1035\n",
       "MA.1            1.5732           +0.0000j            1.5732            0.0000\n",
       "-----------------------------------------------------------------------------\n",
       "\"\"\""
      ]
     },
     "execution_count": 44,
     "metadata": {},
     "output_type": "execute_result"
    }
   ],
   "source": [
    "model = sm.tsa.ARMA(x, (3, 1))\n",
    "result = model.fit(maxiter=1000, method='mle', solver='cg')\n",
    "result.summary()"
   ]
  },
  {
   "cell_type": "code",
   "execution_count": 45,
   "metadata": {
    "collapsed": true
   },
   "outputs": [],
   "source": [
    "#_ = result.plot_predict()"
   ]
  },
  {
   "cell_type": "code",
   "execution_count": 46,
   "metadata": {},
   "outputs": [
    {
     "data": {
      "text/plain": [
       "NormaltestResult(statistic=65039.4157192028, pvalue=0.0)"
      ]
     },
     "execution_count": 46,
     "metadata": {},
     "output_type": "execute_result"
    }
   ],
   "source": [
    "stats.normaltest(result.resid)"
   ]
  },
  {
   "cell_type": "code",
   "execution_count": 47,
   "metadata": {
    "collapsed": true
   },
   "outputs": [],
   "source": [
    "from statsmodels.graphics.api import qqplot"
   ]
  },
  {
   "cell_type": "code",
   "execution_count": 48,
   "metadata": {},
   "outputs": [
    {
     "data": {
      "text/plain": [
       "<matplotlib.figure.Figure at 0x1c5c0c6e50>"
      ]
     },
     "metadata": {},
     "output_type": "display_data"
    },
    {
     "data": {
      "image/png": "[encoded data removed]",
      "text/plain": [
       "<matplotlib.figure.Figure at 0x1c0fcef750>"
      ]
     },
     "metadata": {},
     "output_type": "display_data"
    }
   ],
   "source": [
    "plt.figure()\n",
    "fig = plt.figure(figsize=(12,8))\n",
    "ax = fig.add_subplot(111)\n",
    "fig = qqplot(result.resid, line='q', ax=ax, fit=True)\n",
    "plt.show()"
   ]
  },
  {
   "cell_type": "code",
   "execution_count": 49,
   "metadata": {},
   "outputs": [
    {
     "data": {
      "text/plain": [
       "\"prediction = model.predict('2016-07-07', '2016-07-22', dynamic=True)\\nprint(prediction)\""
      ]
     },
     "execution_count": 49,
     "metadata": {},
     "output_type": "execute_result"
    }
   ],
   "source": [
    "\"\"\"prediction = model.predict('2016-07-07', '2016-07-22', dynamic=True)\n",
    "print(prediction)\"\"\""
   ]
  },
  {
   "cell_type": "code",
   "execution_count": 50,
   "metadata": {},
   "outputs": [
    {
     "ename": "AttributeError",
     "evalue": "'ARMA' object has no attribute 'plot_predict'",
     "output_type": "error",
     "traceback": [
      "\u001b[0;31m---------------------------------------------------------------------------\u001b[0m",
      "\u001b[0;31mAttributeError\u001b[0m                            Traceback (most recent call last)",
      "\u001b[0;32m<ipython-input-50-494e5e23bdf7>\u001b[0m in \u001b[0;36m<module>\u001b[0;34m()\u001b[0m\n\u001b[1;32m      1\u001b[0m \u001b[0mfig\u001b[0m\u001b[0;34m,\u001b[0m \u001b[0max\u001b[0m \u001b[0;34m=\u001b[0m \u001b[0mplt\u001b[0m\u001b[0;34m.\u001b[0m\u001b[0msubplots\u001b[0m\u001b[0;34m(\u001b[0m\u001b[0mfigsize\u001b[0m\u001b[0;34m=\u001b[0m\u001b[0;34m(\u001b[0m\u001b[0;36m12\u001b[0m\u001b[0;34m,\u001b[0m \u001b[0;36m8\u001b[0m\u001b[0;34m)\u001b[0m\u001b[0;34m)\u001b[0m\u001b[0;34m\u001b[0m\u001b[0m\n\u001b[1;32m      2\u001b[0m \u001b[0max\u001b[0m \u001b[0;34m=\u001b[0m \u001b[0mx\u001b[0m\u001b[0;34m.\u001b[0m\u001b[0mplot\u001b[0m\u001b[0;34m(\u001b[0m\u001b[0max\u001b[0m\u001b[0;34m=\u001b[0m\u001b[0max\u001b[0m\u001b[0;34m)\u001b[0m\u001b[0;34m\u001b[0m\u001b[0m\n\u001b[0;32m----> 3\u001b[0;31m \u001b[0mfig\u001b[0m \u001b[0;34m=\u001b[0m \u001b[0mmodel\u001b[0m\u001b[0;34m.\u001b[0m\u001b[0mplot_predict\u001b[0m\u001b[0;34m(\u001b[0m\u001b[0;34m'2016-07-07'\u001b[0m\u001b[0;34m,\u001b[0m \u001b[0;34m'2016-07-22'\u001b[0m\u001b[0;34m,\u001b[0m \u001b[0mdynamic\u001b[0m\u001b[0;34m=\u001b[0m\u001b[0mTrue\u001b[0m\u001b[0;34m,\u001b[0m \u001b[0max\u001b[0m\u001b[0;34m=\u001b[0m\u001b[0max\u001b[0m\u001b[0;34m,\u001b[0m \u001b[0mplot_insample\u001b[0m\u001b[0;34m=\u001b[0m\u001b[0mFalse\u001b[0m\u001b[0;34m)\u001b[0m\u001b[0;34m\u001b[0m\u001b[0m\n\u001b[0m",
      "\u001b[0;31mAttributeError\u001b[0m: 'ARMA' object has no attribute 'plot_predict'"
     ]
    },
    {
     "data": {
      "image/png": "[encoded data removed]",
      "text/plain": [
       "<matplotlib.figure.Figure at 0x1c0fd11250>"
      ]
     },
     "metadata": {},
     "output_type": "display_data"
    }
   ],
   "source": [
    "fig, ax = plt.subplots(figsize=(12, 8))\n",
    "ax = x.plot(ax=ax)\n",
    "fig = model.plot_predict('2016-07-07', '2016-07-22', dynamic=True, ax=ax, plot_insample=False)"
   ]
  },
  {
   "cell_type": "code",
   "execution_count": 51,
   "metadata": {
    "collapsed": true
   },
   "outputs": [],
   "source": [
    "def mean_forecast_err(y, yhat):\n",
    "    return y.sub(yhat).mean()"
   ]
  },
  {
   "cell_type": "code",
   "execution_count": 52,
   "metadata": {},
   "outputs": [
    {
     "data": {
      "text/plain": [
       "'mean_forecast_err(x, model)'"
      ]
     },
     "execution_count": 52,
     "metadata": {},
     "output_type": "execute_result"
    }
   ],
   "source": [
    "\"\"\"mean_forecast_err(x, model)\"\"\""
   ]
  },
  {
   "cell_type": "markdown",
   "metadata": {},
   "source": [
    "F: Array of out of sample forecasts (middle line)\n",
    "S: Array of the standard error of the forecasts (not shown)\n",
    "2d array of the confidence interval for the forecast (top and bottom lines)"
   ]
  },
  {
   "cell_type": "code",
   "execution_count": 53,
   "metadata": {},
   "outputs": [
    {
     "data": {
      "text/plain": [
       "[<matplotlib.lines.Line2D at 0x1c5bd2edd0>,\n",
       " <matplotlib.lines.Line2D at 0x1c5bd2e8d0>,\n",
       " <matplotlib.lines.Line2D at 0x1c5bd2eb50>]"
      ]
     },
     "execution_count": 53,
     "metadata": {},
     "output_type": "execute_result"
    },
    {
     "data": {
      "image/png": "[encoded data removed]",
      "text/plain": [
       "<matplotlib.figure.Figure at 0x1c5bf16490>"
      ]
     },
     "metadata": {},
     "output_type": "display_data"
    }
   ],
   "source": [
    "f, s, e= result.forecast(steps=200)\n",
    "plt.plot(f, '.-', e, '.--')"
   ]
  },
  {
   "cell_type": "markdown",
   "metadata": {
    "collapsed": true
   },
   "source": [
    "Machine Learning on Time Series"
   ]
  },
  {
   "cell_type": "code",
   "execution_count": 54,
   "metadata": {
    "collapsed": true
   },
   "outputs": [],
   "source": [
    "def embed_data(x, steps):\n",
    "    n = len(x)\n",
    "    xout = np.zeros((n - steps, steps))\n",
    "    yout = x[steps:]\n",
    "    for i in np.arange(steps, n):\n",
    "        xout[i - steps] = x[i-steps:i]\n",
    "    return xout, yout"
   ]
  },
  {
   "cell_type": "code",
   "execution_count": 55,
   "metadata": {
    "collapsed": true
   },
   "outputs": [],
   "source": [
    "import sklearn\n",
    "from sklearn import svm"
   ]
  },
  {
   "cell_type": "code",
   "execution_count": 56,
   "metadata": {
    "collapsed": true
   },
   "outputs": [],
   "source": [
    "from sklearn import metrics"
   ]
  },
  {
   "cell_type": "code",
   "execution_count": 57,
   "metadata": {
    "collapsed": true
   },
   "outputs": [],
   "source": [
    "model = svm.SVR(kernel='linear', C=1)"
   ]
  },
  {
   "cell_type": "code",
   "execution_count": 58,
   "metadata": {
    "collapsed": true
   },
   "outputs": [],
   "source": [
    "xs = master['price_y'].head(400)"
   ]
  },
  {
   "cell_type": "code",
   "execution_count": 59,
   "metadata": {
    "collapsed": true
   },
   "outputs": [],
   "source": [
    "x, y = embed_data(xs, 1)"
   ]
  },
  {
   "cell_type": "code",
   "execution_count": 60,
   "metadata": {},
   "outputs": [
    {
     "data": {
      "text/plain": [
       "SVR(C=1, cache_size=200, coef0=0.0, degree=3, epsilon=0.1, gamma='auto',\n",
       "  kernel='linear', max_iter=-1, shrinking=True, tol=0.001, verbose=False)"
      ]
     },
     "execution_count": 60,
     "metadata": {},
     "output_type": "execute_result"
    }
   ],
   "source": [
    "model.fit(x, y)"
   ]
  },
  {
   "cell_type": "code",
   "execution_count": 61,
   "metadata": {},
   "outputs": [
    {
     "data": {
      "text/plain": [
       "array([ 120.08765432,  120.08765432,  120.08765432,  120.08765432,\n",
       "        120.08765432,  120.08765432,  120.08765432,  120.08765432,\n",
       "        120.08765432,  120.08765432,  120.08765432,  120.08765432,\n",
       "        120.08765432,  120.08765432,  120.08765432,  120.08765432,\n",
       "        120.08765432,  120.08765432,  120.08765432,  120.08765432,\n",
       "        120.08765432,  120.08765432,  120.08765432,  120.08765432,\n",
       "        120.08765432,  120.08765432,  120.08765432,  120.08765432,\n",
       "        120.08765432,  120.08765432,  120.08765432,  120.08765432,\n",
       "        120.08765432,  120.08765432,  120.08765432,  120.08765432,\n",
       "        120.08765432,  120.08765432,  120.08765432,  120.08765432,\n",
       "        120.08765432,  120.08765432,  120.08765432,  120.08765432,\n",
       "        120.08765432,  120.08765432,  120.08765432,  120.08765432,\n",
       "        120.08765432,  120.08765432,  120.08765432,  120.08765432,\n",
       "        120.08765432,  120.08765432,  120.08765432,  120.08765432,\n",
       "        120.08765432,  120.08765432,  248.02444444,  214.04123457,\n",
       "        214.04123457,  214.04123457,  214.04123457,  214.04123457,\n",
       "        214.04123457,  214.04123457,  214.04123457,  214.04123457,\n",
       "        248.02444444,  248.02444444,  214.04123457,  214.04123457,\n",
       "        214.04123457,  214.04123457,  214.04123457,  248.02444444,\n",
       "        248.02444444,  214.04123457,  214.04123457,  214.04123457,\n",
       "        214.04123457,  214.04123457,  248.02444444,  248.02444444,\n",
       "        248.02444444,  248.02444444,  248.02444444,  297.99975309,\n",
       "        248.02444444,  248.02444444,  248.02444444,  248.02444444,\n",
       "        248.02444444,  248.02444444,  248.02444444,  341.97802469,\n",
       "        341.97802469,  299.99876543,  299.99876543,  299.99876543,\n",
       "        299.99876543,  299.99876543,  299.99876543,  299.99876543,\n",
       "        299.99876543,  299.99876543,  299.99876543,  299.99876543,\n",
       "        299.99876543,  299.99876543,  299.99876543,  299.99876543,\n",
       "        299.99876543,  299.99876543,  299.99876543,  299.99876543,\n",
       "        299.99876543,  299.99876543,  299.99876543,  299.99876543,\n",
       "        299.99876543,  299.99876543,  299.99876543,  299.99876543,\n",
       "        299.99876543,  299.99876543,  299.99876543,  299.99876543,\n",
       "        299.99876543,  299.99876543,  299.99876543,  299.99876543,\n",
       "        299.99876543,  299.99876543,  499.9       ,  449.92469136,\n",
       "        449.92469136,  449.92469136,  449.92469136,  449.92469136,\n",
       "        499.9       ,  499.9       ,  449.92469136,  449.92469136,\n",
       "        449.92469136,  449.92469136,  449.92469136,  449.92469136,\n",
       "        499.9       ,  499.9       ,  449.92469136,  449.92469136,\n",
       "        449.92469136,  449.92469136,  449.92469136,  499.9       ,\n",
       "        499.9       ,  449.92469136,  449.92469136,  449.92469136,\n",
       "        449.92469136,  449.92469136,  499.9       ,  499.9       ,\n",
       "        449.92469136,  449.92469136,  449.92469136,  449.92469136,\n",
       "        449.92469136,  499.9       ,  499.9       ,  449.92469136,\n",
       "        449.92469136,  449.92469136,  449.92469136,  449.92469136,\n",
       "        499.9       ,  499.9       ,  449.92469136,  449.92469136,\n",
       "        449.92469136,  449.92469136,  449.92469136,  499.9       ,\n",
       "        499.9       ,  449.92469136,  449.92469136,  449.92469136,\n",
       "        449.92469136,  449.92469136,  449.92469136,  499.9       ,\n",
       "        499.9       ,  449.92469136,  449.92469136,  449.92469136,\n",
       "        240.02839506,  200.04814815,  200.04814815,  200.04814815,\n",
       "        200.04814815,  200.04814815,  240.02839506,  240.02839506,\n",
       "        200.04814815,  200.04814815,  200.04814815,  200.04814815,\n",
       "        200.04814815,  200.04814815,  200.04814815,  200.04814815,\n",
       "        240.02839506,  240.02839506,  200.04814815,  200.04814815,\n",
       "        200.04814815,  200.04814815,  200.04814815,  240.02839506,\n",
       "        240.02839506,  200.04814815,  200.04814815,  200.04814815,\n",
       "        240.02839506,  240.02839506,  260.01851852,  260.01851852,\n",
       "        280.00864198,  240.02839506,  240.02839506,  240.02839506,\n",
       "        240.02839506,  220.0382716 ,  280.00864198,  280.00864198,\n",
       "        240.02839506,  240.02839506,  240.02839506,  240.02839506,\n",
       "        220.0382716 ,  280.00864198,  280.00864198,  240.02839506,\n",
       "        220.0382716 ,  220.0382716 ,  240.02839506,  240.02839506,\n",
       "        240.02839506,  240.02839506,  240.02839506,  270.01358025,\n",
       "        265.01604938,  265.01604938,  265.01604938,  265.01604938,\n",
       "        265.01604938,  270.01358025,  270.01358025,  265.01604938,\n",
       "        265.01604938,  265.01604938,  265.01604938,  265.01604938,\n",
       "        270.01358025,  270.01358025,  265.01604938,  265.01604938,\n",
       "        265.01604938,  265.01604938,  265.01604938,  270.01358025,\n",
       "        270.01358025,  265.01604938,  265.01604938,  265.01604938,\n",
       "        265.01604938,  265.01604938,  270.01358025,  270.01358025,\n",
       "        265.01604938,  265.01604938,  265.01604938,  265.01604938,\n",
       "        265.01604938,  270.01358025,  270.01358025,  265.01604938,\n",
       "        265.01604938,  265.01604938,  265.01604938,  265.01604938,\n",
       "        270.01358025,  270.01358025,  265.01604938,  265.01604938,\n",
       "        265.01604938,  265.01604938,  265.01604938,  270.01358025,\n",
       "        270.01358025,  265.01604938,  265.01604938,  265.01604938,\n",
       "        265.01604938,  265.01604938,  270.01358025,  270.01358025,\n",
       "        265.01604938,  265.01604938,  349.97407407,  349.97407407,\n",
       "        349.97407407,  349.97407407,  299.99876543,  299.99876543,\n",
       "        299.99876543,  299.99876543,  265.01604938,  299.99876543,\n",
       "        299.99876543,  299.99876543,  449.92469136,  449.92469136,\n",
       "        449.92469136,  449.92469136,  299.99876543,  299.99876543,\n",
       "        299.99876543,  299.99876543,  299.99876543,  299.99876543,\n",
       "        299.99876543,  299.99876543,  299.99876543,  299.99876543,\n",
       "        299.99876543,  299.99876543,  299.99876543,  299.99876543,\n",
       "        319.98888889,  319.98888889,  339.97901235,  339.97901235,\n",
       "        319.98888889,  319.98888889,  319.98888889,  339.97901235,\n",
       "        339.97901235,  319.98888889,  319.98888889,  319.98888889,\n",
       "        319.98888889,  319.98888889,  339.97901235,  339.97901235,\n",
       "        319.98888889,  319.98888889,  319.98888889,  319.98888889,\n",
       "        319.98888889,  339.97901235,  339.97901235,  319.98888889,\n",
       "        319.98888889,  319.98888889,  319.98888889,  449.92469136,\n",
       "        339.97901235,  339.97901235,  449.92469136,  449.92469136,\n",
       "        319.98888889,  319.98888889,  339.97901235,  319.98888889,\n",
       "        319.98888889,   89.10296296,   92.10148148,   89.10296296,\n",
       "         89.10296296,   89.10296296,   90.10246914,   92.10148148,\n",
       "         89.10296296,   95.1       ,   95.1       ,   95.1       ,\n",
       "         95.1       ,   95.1       ,   95.1       ,   95.1       ,\n",
       "         95.1       ,   95.1       ,   95.1       ,   95.1       ,\n",
       "         95.1       ,   95.1       ,   95.1       ])"
      ]
     },
     "execution_count": 61,
     "metadata": {},
     "output_type": "execute_result"
    }
   ],
   "source": [
    "model.predict(x)"
   ]
  },
  {
   "cell_type": "code",
   "execution_count": 62,
   "metadata": {},
   "outputs": [
    {
     "data": {
      "text/plain": [
       "919.48298117091304"
      ]
     },
     "execution_count": 62,
     "metadata": {},
     "output_type": "execute_result"
    }
   ],
   "source": [
    "metrics.mean_squared_error(model.predict(x), y)"
   ]
  },
  {
   "cell_type": "code",
   "execution_count": 63,
   "metadata": {},
   "outputs": [
    {
     "data": {
      "text/plain": [
       "0.010627672609789109"
      ]
     },
     "execution_count": 63,
     "metadata": {},
     "output_type": "execute_result"
    }
   ],
   "source": [
    "np.linalg.norm(model.predict(x) - y)**2 / np.linalg.norm(y)**2"
   ]
  },
  {
   "cell_type": "code",
   "execution_count": 65,
   "metadata": {
    "collapsed": true
   },
   "outputs": [],
   "source": [
    "train = xs[:72]\n",
    "test = xs[72:]\n",
    "xtrain, ytrain = embed_data(train, 1)\n",
    "xtest, ytest = embed_data(test, 1)"
   ]
  },
  {
   "cell_type": "code",
   "execution_count": 66,
   "metadata": {},
   "outputs": [
    {
     "data": {
      "text/plain": [
       "SVR(C=1, cache_size=200, coef0=0.0, degree=3, epsilon=0.1, gamma=0.1,\n",
       "  kernel='rbf', max_iter=-1, shrinking=True, tol=0.001, verbose=False)"
      ]
     },
     "execution_count": 66,
     "metadata": {},
     "output_type": "execute_result"
    }
   ],
   "source": [
    "m = svm.SVR(kernel='rbf', C=1, gamma=0.1)\n",
    "m.fit(xtrain, ytrain)"
   ]
  },
  {
   "cell_type": "code",
   "execution_count": 80,
   "metadata": {},
   "outputs": [
    {
     "name": "stdout",
     "output_type": "stream",
     "text": [
      "R2 for the prediction\n"
     ]
    },
    {
     "data": {
      "text/plain": [
       "-2.7379802775731408"
      ]
     },
     "execution_count": 80,
     "metadata": {},
     "output_type": "execute_result"
    }
   ],
   "source": [
    "print 'R2 for the prediction'\n",
    "m.score(xtest,ytest)"
   ]
  },
  {
   "cell_type": "code",
   "execution_count": 68,
   "metadata": {
    "collapsed": true
   },
   "outputs": [],
   "source": [
    "#plt.plot(m.predict(xtrain), 'b-', ytrain, 'r-')"
   ]
  },
  {
   "cell_type": "code",
   "execution_count": 70,
   "metadata": {
    "collapsed": true
   },
   "outputs": [],
   "source": [
    "#plt.plot(m.predict(xtest), 'b-', ytest, 'r-')"
   ]
  },
  {
   "cell_type": "markdown",
   "metadata": {},
   "source": [
    "Using Keras"
   ]
  },
  {
   "cell_type": "code",
   "execution_count": 81,
   "metadata": {},
   "outputs": [
    {
     "name": "stderr",
     "output_type": "stream",
     "text": [
      "Using TensorFlow backend.\n"
     ]
    }
   ],
   "source": [
    "from keras.models import Sequential\n",
    "from keras.layers import Dense\n",
    "from keras.layers.recurrent import LSTM"
   ]
  },
  {
   "cell_type": "code",
   "execution_count": 82,
   "metadata": {
    "collapsed": true
   },
   "outputs": [],
   "source": [
    "xs = master[master['bed_bath_grp']==40]['price_y']"
   ]
  },
  {
   "cell_type": "code",
   "execution_count": 83,
   "metadata": {
    "collapsed": true
   },
   "outputs": [],
   "source": [
    "x = xs[:-1]; y = xs[1:]"
   ]
  },
  {
   "cell_type": "code",
   "execution_count": 84,
   "metadata": {},
   "outputs": [
    {
     "name": "stderr",
     "output_type": "stream",
     "text": [
      "/Users/pauldefusco/anaconda2/envs/py27/lib/python2.7/site-packages/ipykernel_launcher.py:1: FutureWarning: reshape is deprecated and will raise in a subsequent release. Please use .values.reshape(...) instead\n",
      "  \"\"\"Entry point for launching an IPython kernel.\n",
      "/Users/pauldefusco/anaconda2/envs/py27/lib/python2.7/site-packages/ipykernel_launcher.py:2: FutureWarning: reshape is deprecated and will raise in a subsequent release. Please use .values.reshape(...) instead\n",
      "  \n"
     ]
    }
   ],
   "source": [
    "xtrain = x.reshape(len(x), 1, 1)\n",
    "ytrain = y.reshape(len(y), 1)"
   ]
  },
  {
   "cell_type": "code",
   "execution_count": 85,
   "metadata": {
    "collapsed": true
   },
   "outputs": [],
   "source": [
    "bs = 1\n",
    "model = Sequential()\n",
    "model.add(LSTM(10, batch_input_shape=(bs, 1, 1), stateful=True))\n",
    "model.add(Dense(1))\n",
    "model.compile(optimizer='adam', loss='mean_squared_error')"
   ]
  },
  {
   "cell_type": "code",
   "execution_count": 86,
   "metadata": {},
   "outputs": [
    {
     "name": "stdout",
     "output_type": "stream",
     "text": [
      "Epoch 1/1\n",
      "1131/1131 [==============================] - 10s 9ms/step - loss: 342005.2123\n",
      "Epoch 1/1\n",
      "1131/1131 [==============================] - 10s 9ms/step - loss: 339426.6652\n",
      "Epoch 1/1\n",
      "1131/1131 [==============================] - 10s 9ms/step - loss: 336819.8607\n"
     ]
    }
   ],
   "source": [
    "for i in range(3):\n",
    "    model.fit(xtrain, ytrain, epochs=1, batch_size=bs, shuffle=False)\n",
    "    model.reset_states()"
   ]
  },
  {
   "cell_type": "code",
   "execution_count": 87,
   "metadata": {
    "collapsed": true
   },
   "outputs": [],
   "source": [
    "model.reset_states()"
   ]
  },
  {
   "cell_type": "markdown",
   "metadata": {},
   "source": [
    "Model Prediction"
   ]
  },
  {
   "cell_type": "code",
   "execution_count": 88,
   "metadata": {
    "collapsed": true
   },
   "outputs": [],
   "source": [
    "yhat = model.predict(xtrain, batch_size=bs)"
   ]
  },
  {
   "cell_type": "code",
   "execution_count": 89,
   "metadata": {},
   "outputs": [
    {
     "data": {
      "text/plain": [
       "[<matplotlib.lines.Line2D at 0x1ccba73e50>,\n",
       " <matplotlib.lines.Line2D at 0x1ccba739d0>]"
      ]
     },
     "execution_count": 89,
     "metadata": {},
     "output_type": "execute_result"
    },
    {
     "data": {
      "image/png": "[encoded data removed]",
      "text/plain": [
       "<matplotlib.figure.Figure at 0x1ccbb478d0>"
      ]
     },
     "metadata": {},
     "output_type": "display_data"
    }
   ],
   "source": [
    "start=1800; stop=2000\n",
    "plt.figure(figsize=(15,10))\n",
    "plt.plot(yhat[start:stop], '-', ytrain[start:stop], 'r-')"
   ]
  },
  {
   "cell_type": "code",
   "execution_count": 91,
   "metadata": {},
   "outputs": [
    {
     "ename": "AttributeError",
     "evalue": "'Sequential' object has no attribute 'nmse'",
     "output_type": "error",
     "traceback": [
      "\u001b[0;31m---------------------------------------------------------------------------\u001b[0m",
      "\u001b[0;31mAttributeError\u001b[0m                            Traceback (most recent call last)",
      "\u001b[0;32m<ipython-input-91-7b140fc4b3c4>\u001b[0m in \u001b[0;36m<module>\u001b[0;34m()\u001b[0m\n\u001b[0;32m----> 1\u001b[0;31m \u001b[0mmodel\u001b[0m\u001b[0;34m.\u001b[0m\u001b[0mnmse\u001b[0m\u001b[0;34m(\u001b[0m\u001b[0myhat\u001b[0m\u001b[0;34m,\u001b[0m \u001b[0mytrain\u001b[0m\u001b[0;34m)\u001b[0m\u001b[0;34m\u001b[0m\u001b[0m\n\u001b[0m",
      "\u001b[0;31mAttributeError\u001b[0m: 'Sequential' object has no attribute 'nmse'"
     ]
    }
   ],
   "source": [
    "model.nmse(yhat, ytrain)"
   ]
  },
  {
   "cell_type": "code",
   "execution_count": null,
   "metadata": {
    "collapsed": true
   },
   "outputs": [],
   "source": []
  }
 ],
 "metadata": {
  "kernelspec": {
   "display_name": "Python [default]",
   "language": "python",
   "name": "python2"
  },
  "language_info": {
   "codemirror_mode": {
    "name": "ipython",
    "version": 2
   },
   "file_extension": ".py",
   "mimetype": "text/x-python",
   "name": "python",
   "nbconvert_exporter": "python",
   "pygments_lexer": "ipython2",
   "version": "2.7.12"
  }
 },
 "nbformat": 4,
 "nbformat_minor": 2
}
