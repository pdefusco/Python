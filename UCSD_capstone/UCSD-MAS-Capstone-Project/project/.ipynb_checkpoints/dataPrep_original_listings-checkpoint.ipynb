{
 "cells": [
  {
   "cell_type": "markdown",
   "metadata": {},
   "source": [
    "Data Preparation Notebook Consolidating All Data Prep code into linear process"
   ]
  },
  {
   "cell_type": "code",
   "execution_count": 1,
   "metadata": {
    "collapsed": true
   },
   "outputs": [],
   "source": [
    "import json\n",
    "from StringIO import StringIO\n",
    "import pandas as pd\n",
    "import numpy as np\n",
    "import nltk\n",
    "import string\n",
    "from collections import defaultdict\n",
    "from sklearn.feature_extraction.text import CountVectorizer\n",
    "from sklearn.feature_extraction.text import TfidfVectorizer\n",
    "from sklearn.preprocessing import LabelEncoder, LabelBinarizer"
   ]
  },
  {
   "cell_type": "code",
   "execution_count": 2,
   "metadata": {
    "collapsed": true
   },
   "outputs": [],
   "source": [
    "listings_original = pd.read_csv('Datasources/inside_airbnb/listings.csv')"
   ]
  },
  {
   "cell_type": "code",
   "execution_count": 3,
   "metadata": {
    "collapsed": true
   },
   "outputs": [],
   "source": [
    "def parse_columns(listings, cols):\n",
    "    chars = \"%$\"\n",
    "    for i in cols:\n",
    "        listings[i] = listings[i].astype(str).map(lambda x: x.rstrip(chars))\n",
    "        listings[i] = listings[i].astype(str).map(lambda x: x.lstrip(chars))\n",
    "        listings[i] = listings[i].apply(pd.to_numeric, errors='coerce')\n",
    "        listings[i].replace(regex=True,inplace=True,to_replace=r'\\D',value=r'')\n",
    "    return listings        "
   ]
  },
  {
   "cell_type": "code",
   "execution_count": 6,
   "metadata": {
    "collapsed": true
   },
   "outputs": [],
   "source": [
    "listings = parse_columns(listings_original, ['host_response_rate', 'cleaning_fee',\n",
    "                                     'host_acceptance_rate','extra_people',\n",
    "                                     'weekly_price', 'monthly_price', 'security_deposit','price'])"
   ]
  },
  {
   "cell_type": "code",
   "execution_count": 7,
   "metadata": {
    "collapsed": true
   },
   "outputs": [],
   "source": [
    "def encoder(listings, encoded_features):\n",
    "    \n",
    "    label_enc = LabelEncoder()\n",
    "    \n",
    "    for col in encoded_features:\n",
    "        \n",
    "        listings[col] = listings[col].astype(str)\n",
    "        \n",
    "        var_name = str(col) + '_enc'\n",
    "        listings[var_name] = label_enc.fit_transform(listings[col])\n",
    "    \n",
    "    return listings"
   ]
  },
  {
   "cell_type": "code",
   "execution_count": 8,
   "metadata": {
    "collapsed": true
   },
   "outputs": [],
   "source": [
    "encoded_vars = ['host_response_time', 'calendar_updated', 'bed_type', 'jurisdiction_names', 'zipcode',\n",
    "               'cancellation_policy']"
   ]
  },
  {
   "cell_type": "code",
   "execution_count": 9,
   "metadata": {
    "collapsed": true
   },
   "outputs": [],
   "source": [
    "new9 = listings.copy()\n",
    "new9 = encoder(listings, encoded_vars)"
   ]
  },
  {
   "cell_type": "code",
   "execution_count": 10,
   "metadata": {
    "collapsed": true
   },
   "outputs": [],
   "source": [
    "#Caution!!! The input features are not dropped by the following to columns - they must be dropped as part of modeling\n",
    "#5/23/18 the unwanted columns are detected and dropped in the featureExplorastio notebook"
   ]
  },
  {
   "cell_type": "code",
   "execution_count": 11,
   "metadata": {
    "collapsed": true
   },
   "outputs": [],
   "source": [
    "def binarizer(listings, binarized_features):\n",
    "    \n",
    "    label_enc = LabelBinarizer()\n",
    "    \n",
    "    for col in binarized_features:\n",
    "        \n",
    "        listings[col] = listings[col].astype(str)\n",
    "        \n",
    "        var_name = str(col) + '_bin'\n",
    "        listings[var_name] = label_enc.fit_transform(listings[col])\n",
    "    \n",
    "    return listings"
   ]
  },
  {
   "cell_type": "code",
   "execution_count": 12,
   "metadata": {
    "collapsed": true
   },
   "outputs": [],
   "source": [
    "binarized_vars = ['host_is_superhost','is_location_exact','host_has_profile_pic','host_identity_verified',\n",
    "                  'instant_bookable','require_guest_profile_picture','require_guest_phone_verification']"
   ]
  },
  {
   "cell_type": "code",
   "execution_count": 13,
   "metadata": {
    "collapsed": true
   },
   "outputs": [],
   "source": [
    "new10 = new9.copy()\n",
    "new10 = binarizer(new10, binarized_vars)"
   ]
  },
  {
   "cell_type": "code",
   "execution_count": 14,
   "metadata": {
    "collapsed": true
   },
   "outputs": [],
   "source": [
    "#takes list of features that should be numeric and transforms them to float\n",
    "#Also takes care of the topic features - these need not be input into the features parameter\n",
    "def make_numeric(listings):\n",
    "    #Taking Care of topics features\n",
    "    topic_cols = listings.filter(regex='Topic').columns\n",
    "    listings[topic_cols] = listings[topic_cols].astype(float)\n",
    "    \n",
    "    return listings"
   ]
  },
  {
   "cell_type": "code",
   "execution_count": 15,
   "metadata": {
    "collapsed": true
   },
   "outputs": [],
   "source": [
    "new11 = new10.copy()\n",
    "new11 = make_numeric(new11)"
   ]
  },
  {
   "cell_type": "code",
   "execution_count": 16,
   "metadata": {
    "collapsed": true
   },
   "outputs": [],
   "source": [
    "new11 = new11.rename(columns = {'listing_id_x': 'id'})"
   ]
  },
  {
   "cell_type": "code",
   "execution_count": 17,
   "metadata": {
    "collapsed": true
   },
   "outputs": [],
   "source": [
    "from collections import defaultdict"
   ]
  },
  {
   "cell_type": "code",
   "execution_count": 18,
   "metadata": {
    "collapsed": true
   },
   "outputs": [],
   "source": [
    "col_counts = defaultdict(int)\n",
    "col_ix = new11.first_valid_index()"
   ]
  },
  {
   "cell_type": "code",
   "execution_count": 19,
   "metadata": {},
   "outputs": [
    {
     "name": "stderr",
     "output_type": "stream",
     "text": [
      "/Users/pauldefusco/anaconda2/envs/py27/lib/python2.7/site-packages/ipykernel_launcher.py:2: DeprecationWarning: \n",
      ".ix is deprecated. Please use\n",
      ".loc for label based indexing or\n",
      ".iloc for positional indexing\n",
      "\n",
      "See the documentation here:\n",
      "http://pandas.pydata.org/pandas-docs/stable/indexing.html#ix-indexer-is-deprecated\n",
      "  \n"
     ]
    }
   ],
   "source": [
    "cols = []\n",
    "for col in new11.ix[col_ix].index:\n",
    "    cnt = col_counts[col]\n",
    "    col_counts[col] += 1\n",
    "    suf = '_' + str(cnt) if cnt else ''\n",
    "    cols.append(col + suf)"
   ]
  },
  {
   "cell_type": "code",
   "execution_count": 20,
   "metadata": {
    "collapsed": true
   },
   "outputs": [],
   "source": [
    "new11.columns = cols\n",
    "new11 = new11.drop([col_ix])"
   ]
  },
  {
   "cell_type": "code",
   "execution_count": 21,
   "metadata": {
    "collapsed": true
   },
   "outputs": [],
   "source": [
    "#Keep the below line just in case\n",
    "#new11 = new11.drop(columns= ['id'])"
   ]
  },
  {
   "cell_type": "code",
   "execution_count": 22,
   "metadata": {
    "collapsed": true
   },
   "outputs": [],
   "source": [
    "num_features = ['latitude', 'longitude', 'accommodates', 'bathrooms', 'bedrooms', \n",
    "               'beds', 'guests_included', 'minimum_nights',\n",
    "               'maximum_nights', 'availability_30', 'availability_60','availability_90',\n",
    "               'availability_365', 'number_of_reviews', 'review_scores_rating', 'review_scores_accuracy',\n",
    "               'review_scores_cleanliness', 'review_scores_checkin', 'review_scores_communication',\n",
    "               'review_scores_location', 'review_scores_value', 'calculated_host_listings_count', \n",
    "               'reviews_per_month', 'id',\n",
    "               'host_listings_count', 'host_total_listings_count']"
   ]
  },
  {
   "cell_type": "code",
   "execution_count": 23,
   "metadata": {
    "collapsed": true
   },
   "outputs": [],
   "source": [
    "new11 = parse_columns(new11,num_features)"
   ]
  },
  {
   "cell_type": "code",
   "execution_count": 24,
   "metadata": {
    "collapsed": true
   },
   "outputs": [],
   "source": [
    "def calendar_update_parse(x):\n",
    "    if x == 'today':\n",
    "        return 0\n",
    "    \n",
    "    elif x == 'yesterday':\n",
    "        return 1    \n",
    "    \n",
    "    else:        \n",
    "        b = x.split(' ')\n",
    "        \n",
    "        if 'days' in b:\n",
    "            a = int(b[0])\n",
    "            return a\n",
    "        \n",
    "        elif 'week' in b:\n",
    "            return 7\n",
    "        \n",
    "        elif 'weeks' in b:\n",
    "            a = 7*int(b[0])\n",
    "            return a\n",
    "        \n",
    "        elif 'month' in b:\n",
    "            a = 365.25/12.0\n",
    "            return np.floor(a)\n",
    "        \n",
    "        elif 'months' in b:\n",
    "            a = (365.25*float(b[0]))/12.0\n",
    "            return np.floor(a)\n",
    "    pass\n",
    "            "
   ]
  },
  {
   "cell_type": "code",
   "execution_count": 25,
   "metadata": {
    "collapsed": true
   },
   "outputs": [],
   "source": [
    "def add_calendar_updated_cleaned(listings):\n",
    "    listings[\"calendar_updated_numeric\"] = listings[\"calendar_updated\"].map(calendar_update_parse)\n",
    "    listings[\"calendar_updated_numeric\"] = listings[\"calendar_updated_numeric\"].fillna(listings[\"calendar_updated_numeric\"].max())\n",
    "    return listings"
   ]
  },
  {
   "cell_type": "code",
   "execution_count": 26,
   "metadata": {
    "collapsed": true
   },
   "outputs": [],
   "source": [
    "new14 = new11.copy()\n",
    "new14 = add_calendar_updated_cleaned(new14)"
   ]
  },
  {
   "cell_type": "code",
   "execution_count": 27,
   "metadata": {},
   "outputs": [
    {
     "name": "stdout",
     "output_type": "stream",
     "text": [
      "Listings Shape at Each Iteration\n",
      "(6608, 101)\n",
      "(6608, 101)\n",
      "(6608, 101)\n",
      "(6608, 108)\n",
      "(6607, 108)\n",
      "(6607, 109)\n"
     ]
    }
   ],
   "source": [
    "print \"Listings Shape at Each Iteration\"\n",
    "print listings_original.shape\n",
    "print listings.shape\n",
    "print new9.shape\n",
    "print new10.shape\n",
    "print new11.shape\n",
    "print new14.shape"
   ]
  },
  {
   "cell_type": "code",
   "execution_count": 29,
   "metadata": {},
   "outputs": [
    {
     "data": {
      "text/plain": [
       "dtype('int64')"
      ]
     },
     "execution_count": 29,
     "metadata": {},
     "output_type": "execute_result"
    }
   ],
   "source": [
    "new14.accommodates.dtypes"
   ]
  },
  {
   "cell_type": "code",
   "execution_count": 26,
   "metadata": {
    "collapsed": true
   },
   "outputs": [],
   "source": [
    "#Make sure to uncomment and update the count variable whenever needed"
   ]
  },
  {
   "cell_type": "code",
   "execution_count": 27,
   "metadata": {
    "collapsed": true
   },
   "outputs": [],
   "source": [
    "count = 0"
   ]
  },
  {
   "cell_type": "code",
   "execution_count": 28,
   "metadata": {
    "collapsed": true
   },
   "outputs": [],
   "source": [
    "import datetime\n",
    "today = datetime.date.today()\n",
    "count+=1\n",
    "filename = 'Datasources/listings_augmented/listings_original_modified_' + str(today) + '_V' + str(count) + '.csv'"
   ]
  },
  {
   "cell_type": "code",
   "execution_count": 29,
   "metadata": {},
   "outputs": [
    {
     "name": "stdout",
     "output_type": "stream",
     "text": [
      "Datasources/listings_augmented/listings_original_modified_2018-06-04_V1.csv\n"
     ]
    }
   ],
   "source": [
    "print filename"
   ]
  },
  {
   "cell_type": "code",
   "execution_count": 30,
   "metadata": {
    "collapsed": true
   },
   "outputs": [],
   "source": [
    "new14.to_csv(filename, index=False)"
   ]
  },
  {
   "cell_type": "code",
   "execution_count": null,
   "metadata": {
    "collapsed": true
   },
   "outputs": [],
   "source": []
  }
 ],
 "metadata": {
  "anaconda-cloud": {},
  "kernelspec": {
   "display_name": "Python 2",
   "language": "python",
   "name": "python2"
  },
  "language_info": {
   "codemirror_mode": {
    "name": "ipython",
    "version": 2
   },
   "file_extension": ".py",
   "mimetype": "text/x-python",
   "name": "python",
   "nbconvert_exporter": "python",
   "pygments_lexer": "ipython2",
   "version": "2.7.14"
  }
 },
 "nbformat": 4,
 "nbformat_minor": 2
}
