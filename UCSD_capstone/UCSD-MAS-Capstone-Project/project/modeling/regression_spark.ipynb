{
 "cells": [
  {
   "cell_type": "markdown",
   "metadata": {},
   "source": [
    "Notebook to automate regression analysis techniques in order to create a system that selects the best model iteratively"
   ]
  },
  {
   "cell_type": "markdown",
   "metadata": {
    "collapsed": true
   },
   "source": [
    "Building Simple Scalable Solution with Spark"
   ]
  },
  {
   "cell_type": "code",
   "execution_count": 6,
   "metadata": {
    "collapsed": true
   },
   "outputs": [],
   "source": [
    "import findspark\n",
    "findspark.init()"
   ]
  },
  {
   "cell_type": "code",
   "execution_count": 7,
   "metadata": {
    "collapsed": true
   },
   "outputs": [],
   "source": [
    "from pyspark.mllib.regression import LabeledPoint, LinearRegressionWithSGD, LinearRegressionModel\n",
    "from pyspark.sql import SparkSession"
   ]
  },
  {
   "cell_type": "code",
   "execution_count": 8,
   "metadata": {
    "collapsed": true
   },
   "outputs": [],
   "source": [
    "spark = SparkSession.builder.master(\"local\").appName(\"Regression Scalability\")\\\n",
    "    .config(\"spark.some.config.option\", \"some-value\")\\\n",
    "    .getOrCreate()"
   ]
  },
  {
   "cell_type": "code",
   "execution_count": 9,
   "metadata": {
    "collapsed": true
   },
   "outputs": [],
   "source": [
    "#spark.stop()"
   ]
  },
  {
   "cell_type": "code",
   "execution_count": 10,
   "metadata": {
    "collapsed": true
   },
   "outputs": [],
   "source": [
    "#sc = spark.sparkContext"
   ]
  },
  {
   "cell_type": "markdown",
   "metadata": {},
   "source": [
    "Applying data transformations from regressionDiagnostics nb - these might end up changing"
   ]
  },
  {
   "cell_type": "code",
   "execution_count": 11,
   "metadata": {
    "collapsed": true
   },
   "outputs": [],
   "source": [
    "import pandas as pd\n",
    "import numpy as np\n",
    "from itertools import combinations"
   ]
  },
  {
   "cell_type": "code",
   "execution_count": 12,
   "metadata": {
    "collapsed": true
   },
   "outputs": [],
   "source": [
    "from sklearn import preprocessing\n",
    "from sklearn import linear_model\n",
    "from sklearn.metrics import r2_score, mean_squared_error,mean_absolute_error\n",
    "from sklearn.model_selection import KFold,cross_val_score, cross_val_predict"
   ]
  },
  {
   "cell_type": "code",
   "execution_count": 241,
   "metadata": {
    "collapsed": true
   },
   "outputs": [],
   "source": [
    "from pyspark.ml.feature import OneHotEncoder, StringIndexer"
   ]
  },
  {
   "cell_type": "code",
   "execution_count": 255,
   "metadata": {
    "collapsed": true
   },
   "outputs": [],
   "source": [
    "listings = pd.read_csv('listings_augmented_2018-05-06_V1.csv',low_memory=False)\n",
    "\n",
    "listings = listings.drop(columns=['listing_id','id','scrape_id','host_id',\n",
    "                                  'has_availability','license', 'zipcode',\n",
    "                                  'Unnamed: 0', 'thumbnail_url', 'medium_url',\n",
    "                                  'picture_url', 'xl_picture_url', 'host_url',\n",
    "                                  'host_name', 'host_thumbnail_url', 'host_picture_url',\n",
    "                                  'price_x', 'amenities', 'amenities_set', 'bed_type'\n",
    "                                 ])\n",
    "\n",
    "y = listings['price_y'].fillna(listings['price_y'].mean())\n",
    "\n",
    "X = listings.copy()\n",
    "#NB: not dropping the price in this nb because it is needed by Spark's ML methods\n",
    "#X = X.drop(columns='price_y')\n",
    "\n",
    "X_num = X.select_dtypes(include=['int64','float64'])\n",
    "X_num = X_num.replace([np.inf, -np.inf], np.nan)\n",
    "X_num = X_num.fillna(X_num.mean())\n",
    "X_1 = X_num[X_num.columns.drop(X_num[list(X_num.filter(regex='Topic'))])]\n",
    "data_scaled = pd.DataFrame(preprocessing.scale(X_1),columns = X_1.columns) "
   ]
  },
  {
   "cell_type": "code",
   "execution_count": null,
   "metadata": {
    "collapsed": true
   },
   "outputs": [],
   "source": [
    "#Best model features from the Regression Diagnostics notebook\n",
    "%store -r best_features"
   ]
  },
  {
   "cell_type": "code",
   "execution_count": 339,
   "metadata": {
    "collapsed": true
   },
   "outputs": [],
   "source": [
    "new = X_1.copy()\n",
    "\n",
    "for i in ['space','description','neighborhood','notes','transit', 'access',\n",
    "          'interaction', 'house_rules','KmeansCluster', 'has', 'Text', 'review']:\n",
    "    \n",
    "    new = new[new.columns.drop(new[list(new.filter(regex=i))])]"
   ]
  },
  {
   "cell_type": "code",
   "execution_count": 14,
   "metadata": {},
   "outputs": [
    {
     "name": "stderr",
     "output_type": "stream",
     "text": [
      "/Users/pauldefusco/anaconda2/envs/py27/lib/python2.7/site-packages/scipy/linalg/basic.py:1226: RuntimeWarning: internal gelsd driver lwork query error, required iwork dimension not returned. This is likely the result of LAPACK bug 0038, fixed in LAPACK 3.2.2 (released July 21, 2010). Falling back to 'gelss' driver.\n",
      "  warnings.warn(mesg, RuntimeWarning)\n"
     ]
    }
   ],
   "source": [
    "R2s = []\n",
    "for col in X_1.columns:\n",
    "    linear_regression = linear_model.LinearRegression(normalize=False, fit_intercept=True)\n",
    "    regression_results = linear_regression.fit(data_scaled[col].values.reshape(-1, 1),y)\n",
    "    #scores = cross_val_score(regression_results, data_scaled[col].values.reshape(-1, 1), y, cv=6)\n",
    "    predictions = cross_val_predict(regression_results, data_scaled[col].values.reshape(-1, 1), y, cv=6)\n",
    "    #accuracy = metrics.r2_score(y, predictions)\n",
    "    R2s.append((col, r2_score(y, predictions)))"
   ]
  },
  {
   "cell_type": "code",
   "execution_count": 15,
   "metadata": {
    "collapsed": true
   },
   "outputs": [],
   "source": [
    "uni_r2 = pd.DataFrame(R2s, columns = ['col','R2']).sort_values(by='R2', ascending=False)\n",
    "pos_uni_r2 = uni_r2[uni_r2['R2']>0]"
   ]
  },
  {
   "cell_type": "code",
   "execution_count": 16,
   "metadata": {
    "collapsed": true
   },
   "outputs": [],
   "source": [
    "candidates_050918 = ['availability_30','accommodates','calculated_host_listings_count','has\"Cable TV\"',\\\n",
    "              'distance from ocean','has\"Indoor Fireplace\"','hasDryer',\\\n",
    "              'has\"Hot Tub\"','hasDoorman']\n",
    "\n",
    "cands_050918 = ['price_y']\n",
    "\n",
    "for i in candidates_050918:\n",
    "    cands_050918.append(i)\n",
    "\n",
    "#candidates.remove(\"price_y\")"
   ]
  },
  {
   "cell_type": "markdown",
   "metadata": {},
   "source": [
    "One Hot Encoding with Spark ML"
   ]
  },
  {
   "cell_type": "code",
   "execution_count": null,
   "metadata": {
    "collapsed": true
   },
   "outputs": [],
   "source": [
    "#WIP\n",
    "\"\"\"def index_and_encode(df,pdSeriesName):\n",
    "    \n",
    "    \n",
    "    df[pdSeriesName] = df[pdSeriesName].fillna('00000').astype(int).astype(str)\n",
    "    \n",
    "    df[pdSeriesName].unique()\n",
    "    \n",
    "    dfSp = spark.createDataFrame([\n",
    "        (0, \"a\"),\n",
    "        (1, \"b\"),\n",
    "        (2, \"c\"),\n",
    "        (3, \"a\"),\n",
    "        (4, \"a\"),\n",
    "        (5, \"c\")\n",
    "    ], [\"id\", \"category\"])\n",
    "\n",
    "    stringIndexer = StringIndexer(inputCol=\"category\", outputCol=\"categoryIndex\")\n",
    "    model = stringIndexer.fit(dfSp)\n",
    "    indexed = model.transform(dfSp)\n",
    "\n",
    "    encoder = OneHotEncoder(inputCol=\"categoryIndex\", outputCol=\"categoryVec\")\n",
    "    encoded = encoder.transform(indexed)\n",
    "    return encoded.show()\"\"\""
   ]
  },
  {
   "cell_type": "code",
   "execution_count": null,
   "metadata": {
    "collapsed": true
   },
   "outputs": [],
   "source": []
  },
  {
   "cell_type": "code",
   "execution_count": null,
   "metadata": {
    "collapsed": true
   },
   "outputs": [],
   "source": []
  },
  {
   "cell_type": "code",
   "execution_count": 123,
   "metadata": {
    "collapsed": true
   },
   "outputs": [],
   "source": [
    "#Case study 1\n",
    "candidates_050918_V1 = ['availability_30','accommodates','calculated_host_listings_count' \n",
    "                        ,'security_deposit'\n",
    "                        ,'cleaning_fee'\n",
    "                        \n",
    "                        ,'distance from ocean' ]\n",
    "\n",
    "cands_050918 = ['price_y']\n",
    "\n",
    "for i in candidates_050918_V1:\n",
    "    cands_050918.append(i)"
   ]
  },
  {
   "cell_type": "code",
   "execution_count": 164,
   "metadata": {
    "collapsed": true
   },
   "outputs": [],
   "source": [
    "#Case Study 2:\n",
    "candidates_case_study_2 = ['availability_30','accommodates','distance from ocean', 'security_deposit']\n",
    "cands_cs2 = ['price_y']\n",
    "for i in candidates_case_study_2:\n",
    "    cands_cs2.append(i)"
   ]
  },
  {
   "cell_type": "code",
   "execution_count": 297,
   "metadata": {
    "collapsed": true
   },
   "outputs": [],
   "source": [
    "#Case Study 3:\n",
    "candidates_case_study_3 = new.columns\n",
    "cands_cs3 = ['price_y']\n",
    "for i in candidates_case_study_3:\n",
    "    cands_cs3.append(i)"
   ]
  },
  {
   "cell_type": "markdown",
   "metadata": {},
   "source": [
    "Insights 05 - 09 - 18: the best features are 'availability_30','accommodates','calculated_host_listings_count','has\"Cable TV\"'"
   ]
  },
  {
   "cell_type": "code",
   "execution_count": 46,
   "metadata": {
    "collapsed": true
   },
   "outputs": [],
   "source": [
    "candidates_051018 = ['availability_30','accommodates','calculated_host_listings_count','has\"Cable TV\"','bathrooms'\n",
    ",'bedrooms'\n",
    ",'beds'\n",
    ",'square_feet'\n",
    ",'weekly_price'\n",
    ",'monthly_price'\n",
    ",'security_deposit'\n",
    ",'cleaning_fee'\n",
    ",'guests_included'\n",
    ",'extra_people'\n",
    ",'minimum_nights'\n",
    ",'maximum_nights']"
   ]
  },
  {
   "cell_type": "code",
   "execution_count": 47,
   "metadata": {
    "collapsed": true
   },
   "outputs": [],
   "source": [
    "# must look at listings['host_response_rate'] - make sure vars are ok\n",
    "# must write to db or log file - done\n",
    "# must label encode cat features"
   ]
  },
  {
   "cell_type": "code",
   "execution_count": 340,
   "metadata": {},
   "outputs": [
    {
     "data": {
      "text/plain": [
       "\"cands_cs3 = ['price_y']\\nfor i in candidates:\\n    cands_cs3.append(i)\""
      ]
     },
     "execution_count": 340,
     "metadata": {},
     "output_type": "execute_result"
    }
   ],
   "source": [
    "#must transform into method\n",
    "from itertools import chain, combinations\n",
    "\n",
    "lst = list(candidates_case_study_3)\n",
    "lst.remove('price_y')\n",
    "\n",
    "candidates = list(lst)\n",
    "min_range = len(lst)-1\n",
    "\n",
    "def all_subsets(ss):\n",
    "    return chain(*map(lambda x: combinations(ss, x), range(min_range, len(ss)+1)))\n",
    "combos = []\n",
    "\n",
    "for subset in all_subsets(candidates):\n",
    "    combos.append(subset)\n",
    "    \n",
    "\"\"\"cands_cs3 = ['price_y']\n",
    "for i in candidates:\n",
    "    cands_cs3.append(i)\"\"\""
   ]
  },
  {
   "cell_type": "markdown",
   "metadata": {},
   "source": [
    "Trying to select important features by doing a RFECV instead of looking at univariate linear regressions first"
   ]
  },
  {
   "cell_type": "code",
   "execution_count": 35,
   "metadata": {
    "collapsed": true
   },
   "outputs": [],
   "source": [
    "from sklearn.feature_selection import RFECV\n",
    "\n",
    "estimator2 = linear_model.LinearRegression()\n",
    "selector2 = RFECV(estimator2, step=3, cv=5)\n",
    "selector2 = selector2.fit(data_scaled, y)"
   ]
  },
  {
   "cell_type": "code",
   "execution_count": 36,
   "metadata": {},
   "outputs": [
    {
     "name": "stdout",
     "output_type": "stream",
     "text": [
      "host_response_rate 17\n",
      "host_acceptance_rate 16\n",
      "host_listings_count 1\n",
      "host_total_listings_count 1\n",
      "neighbourhood_group_cleansed 1\n",
      "latitude 1\n",
      "longitude 3\n",
      "accommodates 1\n",
      "bathrooms 1\n",
      "bedrooms 1\n",
      "beds 1\n",
      "square_feet 15\n",
      "weekly_price 1\n",
      "monthly_price 1\n",
      "security_deposit 1\n",
      "cleaning_fee 1\n",
      "guests_included 1\n",
      "extra_people 1\n",
      "minimum_nights 1\n",
      "maximum_nights 1\n",
      "availability_30 1\n",
      "availability_60 1\n",
      "availability_90 1\n",
      "availability_365 1\n",
      "number_of_reviews 1\n",
      "review_scores_rating 1\n",
      "review_scores_accuracy 1\n",
      "review_scores_cleanliness 1\n",
      "review_scores_checkin 1\n",
      "review_scores_communication 1\n",
      "review_scores_location 1\n",
      "review_scores_value 14\n",
      "calculated_host_listings_count 1\n",
      "reviews_per_month 1\n",
      "price_y 1\n",
      "space_TextLength 1\n",
      "space_TextWordsPerc 6\n",
      "space_TextPuncPerc 1\n",
      "space_TextDigitsPerc 1\n",
      "description_TextLength 1\n",
      "description_TextWordsPerc 12\n",
      "description_TextPuncPerc 1\n",
      "description_TextDigitsPerc 1\n",
      "neighborhood_overview_TextLength 1\n",
      "neighborhood_overview_TextWordsPerc 16\n",
      "neighborhood_overview_TextPuncPerc 1\n",
      "neighborhood_overview_TextDigitsPerc 11\n",
      "notes_TextLength 1\n",
      "notes_TextWordsPerc 1\n",
      "notes_TextPuncPerc 1\n",
      "notes_TextDigitsPerc 1\n",
      "transit_TextLength 1\n",
      "transit_TextWordsPerc 12\n",
      "transit_TextPuncPerc 1\n",
      "transit_TextDigitsPerc 1\n",
      "access_TextLength 2\n",
      "access_TextWordsPerc 1\n",
      "access_TextPuncPerc 8\n",
      "access_TextDigitsPerc 1\n",
      "interaction_TextLength 1\n",
      "interaction_TextWordsPerc 1\n",
      "interaction_TextPuncPerc 1\n",
      "interaction_TextDigitsPerc 1\n",
      "house_rules_TextLength 1\n",
      "house_rules_TextWordsPerc 10\n",
      "house_rules_TextPuncPerc 8\n",
      "house_rules_TextDigitsPerc 1\n",
      "space_LexicalDiversity 1\n",
      "description_LexicalDiversity 1\n",
      "neighborhood_overview_LexicalDiversity 16\n",
      "notes_LexicalDiversity 1\n",
      "transit_LexicalDiversity 14\n",
      "access_LexicalDiversity 1\n",
      "interaction_LexicalDiversity 1\n",
      "house_rules_LexicalDiversity 1\n",
      "space_. 1\n",
      "space_._tokens_sum_ratio 1\n",
      "space_ADJ 1\n",
      "space_ADJ_tokens_sum_ratio 1\n",
      "space_ADP 2\n",
      "space_ADP_tokens_sum_ratio 1\n",
      "space_ADV 9\n",
      "space_CONJ 1\n",
      "space_CONJ_tokens_sum_ratio 1\n",
      "space_DET 1\n",
      "space_DET_tokens_sum_ratio 1\n",
      "space_NOUN 1\n",
      "space_NOUN_tokens_sum_ratio 1\n",
      "space_NUM 1\n",
      "space_NUM_tokens_sum_ratio 1\n",
      "space_PRON 1\n",
      "space_PRON_tokens_sum_ratio 1\n",
      "space_PRT 1\n",
      "space_PRT_tokens_sum_ratio 1\n",
      "space_VERB 1\n",
      "space_VERB_tokens_sum_ratio 1\n",
      "space_X 1\n",
      "space_X_tokens_sum_ratio 1\n",
      "description_. 1\n",
      "description_._tokens_sum_ratio 1\n",
      "description_ADJ 4\n",
      "description_ADJ_tokens_sum_ratio 1\n",
      "description_ADP 1\n",
      "description_ADP_tokens_sum_ratio 1\n",
      "description_ADV 1\n",
      "description_ADV_tokens_sum_ratio 1\n",
      "description_CONJ 1\n",
      "description_CONJ_tokens_sum_ratio 1\n",
      "description_DET 1\n",
      "description_DET_tokens_sum_ratio 1\n",
      "description_NOUN 1\n",
      "description_NOUN_tokens_sum_ratio 1\n",
      "description_NUM 13\n",
      "description_NUM_tokens_sum_ratio 1\n",
      "description_PRON 1\n",
      "description_PRON_tokens_sum_ratio 1\n",
      "description_PRT 1\n",
      "description_PRT_tokens_sum_ratio 1\n",
      "description_VERB 10\n",
      "description_VERB_tokens_sum_ratio 1\n",
      "description_X 1\n",
      "description_X_tokens_sum_ratio 1\n",
      "neighborhood_overview_. 1\n",
      "neighborhood_overview_._tokens_sum_ratio 1\n",
      "neighborhood_overview_ADJ 1\n",
      "neighborhood_overview_ADJ_tokens_sum_ratio 1\n",
      "neighborhood_overview_ADP 1\n",
      "neighborhood_overview_ADP_tokens_sum_ratio 1\n",
      "neighborhood_overview_ADV 12\n",
      "neighborhood_overview_ADV_tokens_sum_ratio 1\n",
      "neighborhood_overview_CONJ 13\n",
      "neighborhood_overview_CONJ_tokens_sum_ratio 1\n",
      "neighborhood_overview_DET 1\n",
      "neighborhood_overview_DET_tokens_sum_ratio 1\n",
      "neighborhood_overview_NOUN 1\n",
      "neighborhood_overview_NOUN_tokens_sum_ratio 1\n",
      "neighborhood_overview_NUM 1\n",
      "neighborhood_overview_NUM_tokens_sum_ratio 1\n",
      "neighborhood_overview_PRON 1\n",
      "neighborhood_overview_PRON_tokens_sum_ratio 1\n",
      "neighborhood_overview_PRT 1\n",
      "neighborhood_overview_PRT_tokens_sum_ratio 1\n",
      "neighborhood_overview_VERB 1\n",
      "neighborhood_overview_VERB_tokens_sum_ratio 1\n",
      "neighborhood_overview_X 1\n",
      "neighborhood_overview_X_tokens_sum_ratio 1\n",
      "notes_. 1\n",
      "notes_._tokens_sum_ratio 1\n",
      "notes_ADJ 1\n",
      "notes_ADJ_tokens_sum_ratio 1\n",
      "notes_ADP 1\n",
      "notes_ADP_tokens_sum_ratio 1\n",
      "notes_ADV 1\n",
      "notes_ADV_tokens_sum_ratio 1\n",
      "notes_CONJ 1\n",
      "notes_CONJ_tokens_sum_ratio 1\n",
      "notes_DET 1\n",
      "notes_DET_tokens_sum_ratio 1\n",
      "notes_NOUN 1\n",
      "notes_NOUN_tokens_sum_ratio 1\n",
      "notes_NUM 5\n",
      "notes_NUM_tokens_sum_ratio 1\n",
      "notes_PRON 1\n",
      "notes_PRON_tokens_sum_ratio 1\n",
      "notes_PRT 1\n",
      "notes_PRT_tokens_sum_ratio 1\n",
      "notes_VERB 1\n",
      "notes_VERB_tokens_sum_ratio 1\n",
      "notes_X 1\n",
      "notes_X_tokens_sum_ratio 1\n",
      "transit_. 1\n",
      "transit_._tokens_sum_ratio 1\n",
      "transit_ADJ 1\n",
      "transit_ADJ_tokens_sum_ratio 1\n",
      "transit_ADP 1\n",
      "transit_ADP_tokens_sum_ratio 1\n",
      "transit_ADV 13\n",
      "transit_ADV_tokens_sum_ratio 1\n",
      "transit_CONJ 3\n",
      "transit_CONJ_tokens_sum_ratio 1\n",
      "transit_DET 9\n",
      "transit_DET_tokens_sum_ratio 1\n",
      "transit_NOUN 1\n",
      "transit_NOUN_tokens_sum_ratio 1\n",
      "transit_NUM 1\n",
      "transit_NUM_tokens_sum_ratio 1\n",
      "transit_PRON 17\n",
      "transit_PRON_tokens_sum_ratio 1\n",
      "transit_PRT 15\n",
      "transit_PRT_tokens_sum_ratio 1\n",
      "transit_VERB 1\n",
      "transit_VERB_tokens_sum_ratio 1\n",
      "transit_X 1\n",
      "transit_X_tokens_sum_ratio 1\n",
      "access_. 1\n",
      "access_._tokens_sum_ratio 1\n",
      "access_ADJ 1\n",
      "access_ADJ_tokens_sum_ratio 1\n",
      "access_ADP 1\n",
      "access_ADP_tokens_sum_ratio 1\n",
      "access_ADV 1\n",
      "access_ADV_tokens_sum_ratio 1\n",
      "access_CONJ 1\n",
      "access_CONJ_tokens_sum_ratio 1\n",
      "access_DET 5\n",
      "access_DET_tokens_sum_ratio 1\n",
      "access_NOUN 1\n",
      "access_NOUN_tokens_sum_ratio 1\n",
      "access_NUM 1\n",
      "access_NUM_tokens_sum_ratio 1\n",
      "access_PRON 1\n",
      "access_PRON_tokens_sum_ratio 1\n",
      "access_PRT 8\n",
      "access_PRT_tokens_sum_ratio 1\n",
      "access_VERB 1\n",
      "access_VERB_tokens_sum_ratio 1\n",
      "access_X 17\n",
      "access_X_tokens_sum_ratio 1\n",
      "interaction_. 1\n",
      "interaction_._tokens_sum_ratio 1\n",
      "interaction_ADJ 2\n",
      "interaction_ADJ_tokens_sum_ratio 1\n",
      "interaction_ADP 1\n",
      "interaction_ADP_tokens_sum_ratio 1\n",
      "interaction_ADV 4\n",
      "interaction_ADV_tokens_sum_ratio 1\n",
      "interaction_CONJ 1\n",
      "interaction_CONJ_tokens_sum_ratio 1\n",
      "interaction_DET 1\n",
      "interaction_DET_tokens_sum_ratio 1\n",
      "interaction_NOUN 3\n",
      "interaction_NOUN_tokens_sum_ratio 1\n",
      "interaction_NUM 7\n",
      "interaction_NUM_tokens_sum_ratio 1\n",
      "interaction_PRON 1\n",
      "interaction_PRON_tokens_sum_ratio 1\n",
      "interaction_PRT 1\n",
      "interaction_PRT_tokens_sum_ratio 1\n",
      "interaction_VERB 1\n",
      "interaction_VERB_tokens_sum_ratio 1\n",
      "interaction_X 1\n",
      "interaction_X_tokens_sum_ratio 1\n",
      "house_rules_. 1\n",
      "house_rules_._tokens_sum_ratio 1\n",
      "house_rules_ADJ 1\n",
      "house_rules_ADJ_tokens_sum_ratio 1\n",
      "house_rules_ADP 1\n",
      "house_rules_ADP_tokens_sum_ratio 1\n",
      "house_rules_ADV 11\n",
      "house_rules_ADV_tokens_sum_ratio 1\n",
      "house_rules_CONJ 1\n",
      "house_rules_CONJ_tokens_sum_ratio 1\n",
      "house_rules_DET 1\n",
      "house_rules_DET_tokens_sum_ratio 1\n",
      "house_rules_NOUN 10\n",
      "house_rules_NOUN_tokens_sum_ratio 1\n",
      "house_rules_NUM 1\n",
      "house_rules_NUM_tokens_sum_ratio 1\n",
      "house_rules_PRON 1\n",
      "house_rules_PRON_tokens_sum_ratio 1\n",
      "house_rules_PRT 1\n",
      "house_rules_PRT_tokens_sum_ratio 1\n",
      "house_rules_VERB 1\n",
      "house_rules_VERB_tokens_sum_ratio 1\n",
      "house_rules_X 1\n",
      "house_rules_X_tokens_sum_ratio 1\n",
      "space_KmeansCluster 1\n",
      "description_KmeansCluster 7\n",
      "neighborhood_overview_KmeansCluster 1\n",
      "notes_KmeansCluster 1\n",
      "transit_KmeansCluster 1\n",
      "access_KmeansCluster 15\n",
      "interaction_KmeansCluster 6\n",
      "house_rules_KmeansCluster 1\n",
      "has 1\n",
      "has\"Other pet(s)\" 1\n",
      "hasEssentials 11\n",
      "has\"Carbon Monoxide Detector\" 1\n",
      "has\"Elevator in Building\" 7\n",
      "has\"Indoor Fireplace\" 1\n",
      "has\"translation missing: en.hosting_amenity_50\" 1\n",
      "hasInternet 1\n",
      "hasWasher 1\n",
      "hasHangers 1\n",
      "has\"Buzzer/Wireless Intercom\" 1\n",
      "hasTV 1\n",
      "hasGym 1\n",
      "has\"Fire Extinguisher\" 1\n",
      "has\"Hot Tub\" 1\n",
      "hasDryer 1\n",
      "has\"Air Conditioning\" 6\n",
      "has\"Laptop Friendly Workspace\" 1\n",
      "has\"Suitable for Events\" 1\n",
      "hasKitchen 1\n",
      "has\"Family/Kid Friendly\" 1\n",
      "has\"translation missing: en.hosting_amenity_49\" 1\n",
      "hasShampoo 1\n",
      "hasHeating 1\n",
      "has\"Hair Dryer\" 1\n",
      "hasCat(s) 9\n",
      "has\"Smoke Detector\" 1\n",
      "hasIron 1\n",
      "has\"Free Parking on Premises\" 4\n",
      "has\"Pets live on this property\" 1\n",
      "has\"Safety Card\" 1\n",
      "has\"Smoking Allowed\" 1\n",
      "has\"Pets Allowed\" 5\n",
      "has\"Wheelchair Accessible\" 1\n",
      "has\"First Aid Kit\" 1\n",
      "hasDog(s) 1\n",
      "has\"Wireless Internet\" 1\n",
      "has\"Cable TV\" 14\n",
      "hasPool 1\n",
      "hasBreakfast 1\n",
      "hasDoorman 1\n",
      "has\"Lock on Bedroom Door\" 1\n",
      "has\"24-Hour Check-in\" 1\n",
      "distance from ocean 1\n"
     ]
    }
   ],
   "source": [
    "for i,k in zip(data_scaled.columns, selector2.ranking_):\n",
    "    print i,k"
   ]
  },
  {
   "cell_type": "code",
   "execution_count": 341,
   "metadata": {
    "collapsed": true
   },
   "outputs": [],
   "source": [
    "outputlist = [xs + ('price_y',) for xs in combos]"
   ]
  },
  {
   "cell_type": "code",
   "execution_count": 342,
   "metadata": {
    "collapsed": true
   },
   "outputs": [],
   "source": [
    "sparkDF = spark.createDataFrame(new)"
   ]
  },
  {
   "cell_type": "code",
   "execution_count": 20,
   "metadata": {
    "collapsed": true
   },
   "outputs": [],
   "source": [
    "#Had loaded spark df from file - but prefer to do data manipulation in pandas and load ultimate df\n",
    "#df = spark.read.format('csv').options(header='true', inferSchema='true').load(\"listings_augmented_2018-05-06_V1.csv\")"
   ]
  },
  {
   "cell_type": "code",
   "execution_count": 344,
   "metadata": {
    "collapsed": true
   },
   "outputs": [],
   "source": [
    "#sparkDF.printSchema()"
   ]
  },
  {
   "cell_type": "code",
   "execution_count": 127,
   "metadata": {},
   "outputs": [
    {
     "data": {
      "text/plain": [
       "u'2.3.0'"
      ]
     },
     "execution_count": 127,
     "metadata": {},
     "output_type": "execute_result"
    }
   ],
   "source": [
    "from pyspark.ml.regression import LinearRegression, RandomForestRegressor, GBTRegressor, DecisionTreeRegressor\n",
    "from pyspark.ml.linalg import Vectors\n",
    "from pyspark.sql import Row\n",
    "from pyspark.ml.evaluation import RegressionEvaluator\n",
    "spark.version"
   ]
  },
  {
   "cell_type": "code",
   "execution_count": 128,
   "metadata": {
    "collapsed": true
   },
   "outputs": [],
   "source": [
    "def split_data(data, train_size):\n",
    "    (trainingData, testData) = data.randomSplit([train_size, 1-train_size])\n",
    "    return trainingData, testData"
   ]
  },
  {
   "cell_type": "code",
   "execution_count": 129,
   "metadata": {
    "collapsed": true
   },
   "outputs": [],
   "source": [
    "def create_linear_regression(data):\n",
    "    lr = LinearRegression(maxIter=10, regParam=0, solver = 'normal', elasticNetParam=0, fitIntercept=True)\n",
    "    lr.setFitIntercept(True)\n",
    "    lrModel = lr.fit(data)\n",
    "    return lrModel"
   ]
  },
  {
   "cell_type": "code",
   "execution_count": 130,
   "metadata": {
    "collapsed": true
   },
   "outputs": [],
   "source": [
    "def create_random_forest_regression(data):\n",
    "    rf = RandomForestRegressor()\n",
    "    rfModel = rf.fit(data)\n",
    "    featureImportances = rfModel.featureImportances\n",
    "    return rfModel,featureImportances"
   ]
  },
  {
   "cell_type": "code",
   "execution_count": 131,
   "metadata": {
    "collapsed": true
   },
   "outputs": [],
   "source": [
    "def create_decision_tree_regression(data):\n",
    "    dtr = DecisionTreeRegressor(maxDepth=2, varianceCol=\"variance\")\n",
    "    dtrModel = dtr.fit(data)\n",
    "    featureImportances = dtrModel.featureImportances\n",
    "    return dtrModel,featureImportances"
   ]
  },
  {
   "cell_type": "code",
   "execution_count": 132,
   "metadata": {
    "collapsed": true
   },
   "outputs": [],
   "source": [
    "def create_grad_boosted_regression(data):\n",
    "    gbt = GBTRegressor(maxIter=10)\n",
    "    gbtModel = gbt.fit(data)\n",
    "    return gbtModel "
   ]
  },
  {
   "cell_type": "code",
   "execution_count": 133,
   "metadata": {
    "collapsed": true
   },
   "outputs": [],
   "source": [
    "#Not sure if I'll do this one\n",
    "def create_non_linear_regression(data):\n",
    "    return nlrModel"
   ]
  },
  {
   "cell_type": "code",
   "execution_count": 134,
   "metadata": {
    "collapsed": true
   },
   "outputs": [],
   "source": [
    "def print_model_results(model, predictions):\n",
    "    # Print the coefficients and intercept for linear regression\n",
    "    print(\"\\n\")\n",
    "    print(\"Coefficients: %s\" % str(model.coefficients))\n",
    "    print(\"Intercept: %s\" % str(model.intercept))\n",
    "    # Summarize the model over the training set and print out some metrics\n",
    "    summary = model.summary\n",
    "    print(\"numIterations: %d\" % summary.totalIterations)\n",
    "    print(\"objectiveHistory: %s\" % str(summary.objectiveHistory))\n",
    "    summary.residuals.show()\n",
    "    print(\"Root Mean Squared Error (RMSE) on training data: %f\" % summary.rootMeanSquaredError)\n",
    "    print(\"r2: %f\" % summary.r2)\n",
    "    # Select (prediction, true label) and compute test error\n",
    "    evaluator = RegressionEvaluator(\n",
    "        labelCol=\"label\", predictionCol=\"prediction\", metricName=\"rmse\")\n",
    "    rmse = evaluator.evaluate(predictions)\n",
    "    print(\"Root Mean Squared Error (RMSE) on test data = %g\" % rmse)\n",
    "    print(\"\\n\")"
   ]
  },
  {
   "cell_type": "code",
   "execution_count": 271,
   "metadata": {
    "collapsed": true
   },
   "outputs": [],
   "source": [
    "def save_linear_regression_results(model, DTRfeatureImportances,RFRfeatureImportances, model_features, model_type, predictions):\n",
    "    \n",
    "    dictionary = dict()\n",
    "    \n",
    "    #model ID & features\n",
    "    model_features = list(model_features)\n",
    "    dictionary['model_id'] = '-'.join(model_features)\n",
    "    dictionary['model_type'] = str(model_type)\n",
    "    dictionary['features'] = model_features\n",
    "    dictionary['DTRfeatureImportances'] = DTRfeatureImportances\n",
    "    dictionary['RFRfeatureImportances'] = RFRfeatureImportances\n",
    "    \n",
    "    #Training Data Summary Metrics\n",
    "    summary = model.summary\n",
    "    \n",
    "    #dictionary['coefficientStandardErrors'] = summary.coefficientStandardErrors\n",
    "    dictionary['degreesOfFreedom'] = summary.degreesOfFreedom\n",
    "    dictionary['devianceResiduals'] = summary.devianceResiduals\n",
    "    dictionary['explainedVariance'] = summary.explainedVariance\n",
    "    dictionary['meanAbsoluteError'] = summary.meanAbsoluteError\n",
    "    dictionary['meanSquaredError'] = summary.meanSquaredError\n",
    "    #dictionary['pValues'] = summary.pValues\n",
    "    dictionary['r2'] = summary.r2\n",
    "    dictionary['residuals'] = summary.residuals\n",
    "    dictionary['rootMeanSquaredError'] = summary.rootMeanSquaredError\n",
    "    #dictionary['tValues'] = summary.tValues\n",
    "    \n",
    "    #Test Data Metrics\n",
    "    evaluator = RegressionEvaluator(\n",
    "        labelCol=\"label\", predictionCol=\"prediction\")\n",
    "    rmse = evaluator.evaluate(predictions)\n",
    "    \n",
    "    r2_test = evaluator.evaluate(predictions, {evaluator.metricName: \"r2\"})\n",
    "    mae_test = evaluator.evaluate(predictions, {evaluator.metricName: \"mae\"})\n",
    "    rmse_test = evaluator.evaluate(predictions, {evaluator.metricName: \"rmse\"})\n",
    "    \n",
    "    dictionary['r2_test'] = r2_test\n",
    "    dictionary['mae_test'] = mae_test\n",
    "    dictionary['rmse_test'] = rmse_test\n",
    "    \n",
    "    return dictionary"
   ]
  },
  {
   "cell_type": "markdown",
   "metadata": {},
   "source": [
    "Modeling: linear regression, gradient boosted tree regression, random forest regression"
   ]
  },
  {
   "cell_type": "code",
   "execution_count": 274,
   "metadata": {
    "collapsed": true
   },
   "outputs": [],
   "source": [
    "def compute_linear_regression(outputlist):\n",
    "    \n",
    "    models_dict = []\n",
    "    \n",
    "    for i in outputlist:\n",
    "        #preparing data\n",
    "        new = sparkDF.select(list(i))\n",
    "        data = new.rdd.map(lambda x:(Vectors.dense(x[0:-1]), x[-1])).toDF([\"features\", \"label\"])\n",
    "        trainingData, testData = split_data(data, 0.72)\n",
    "        #modeling\n",
    "        lrModel = create_linear_regression(trainingData)\n",
    "        predictions = lrModel.transform(testData)\n",
    "        #print 'Model Results for Features: ',i\n",
    "        #print_model_results(lrModel, predictions)\n",
    "        \n",
    "        #feature importances with dec tree reg & random forest regressor\n",
    "        dtrModel, DTRfeatureImportances = create_decision_tree_regression(data)\n",
    "        \n",
    "        #Switching off RFR for now as its comp intensive\n",
    "        #rfModel, RFRfeatureImportances = create_random_forest_regression(data)\n",
    "        RFRfeatureImportances = 'NA'\n",
    "        \n",
    "        #append model to dictionary \n",
    "        temp_dict = save_linear_regression_results(lrModel, DTRfeatureImportances, \n",
    "                                       RFRfeatureImportances, i, lrModel, predictions)\n",
    "        models_dict.append(temp_dict)\n",
    "       \n",
    "        \n",
    "    return models_dict\n",
    "        #saving models\n",
    "        #enter code here"
   ]
  },
  {
   "cell_type": "code",
   "execution_count": 345,
   "metadata": {
    "collapsed": true
   },
   "outputs": [],
   "source": [
    "% timeit \n",
    "dic = compute_linear_regression(outputlist)"
   ]
  },
  {
   "cell_type": "code",
   "execution_count": null,
   "metadata": {
    "collapsed": true
   },
   "outputs": [],
   "source": []
  },
  {
   "cell_type": "code",
   "execution_count": null,
   "metadata": {
    "collapsed": true
   },
   "outputs": [],
   "source": []
  },
  {
   "cell_type": "code",
   "execution_count": 197,
   "metadata": {
    "collapsed": true
   },
   "outputs": [],
   "source": [
    "def save_random_forest_regression(model, featureImportances, predictions, model_features, model_type):\n",
    "    dictionary = dict()\n",
    "    \n",
    "    model_features = list(model_features)\n",
    "    dictionary['model_id'] = '-'.join(model_features)\n",
    "    #dictionary['model_type'] = str(model_type)\n",
    "    dictionary['features'] = model_features\n",
    "    dictionary['featureImportances'] = featureImportances\n",
    "    \n",
    "    \n",
    "    \n",
    "    #Test Data Metrics\n",
    "    evaluator = RegressionEvaluator(\n",
    "        labelCol=\"label\", predictionCol=\"prediction\")\n",
    "    rmse = evaluator.evaluate(predictions)\n",
    "    \n",
    "    r2_test = evaluator.evaluate(predictions, {evaluator.metricName: \"r2\"})\n",
    "    mae_test = evaluator.evaluate(predictions, {evaluator.metricName: \"mae\"})\n",
    "    rmse_test = evaluator.evaluate(predictions, {evaluator.metricName: \"rmse\"})\n",
    "    \n",
    "    dictionary['r2_test'] = r2_test\n",
    "    dictionary['mae_test'] = mae_test\n",
    "    dictionary['rmse_test'] = rmse_test\n",
    "    \n",
    "    return dictionary"
   ]
  },
  {
   "cell_type": "code",
   "execution_count": 198,
   "metadata": {
    "collapsed": true
   },
   "outputs": [],
   "source": [
    "def compute_random_forest_regression(outputlist):\n",
    "    \n",
    "    models_dict= []\n",
    "    \n",
    "    for i in outputlist:\n",
    "        #preparing data\n",
    "        new = sparkDF.select(list(i))\n",
    "        data = new.rdd.map(lambda x:(Vectors.dense(x[0:-1]), x[-1])).toDF([\"features\", \"label\"])\n",
    "        trainingData, testData = split_data(data, 0.72)\n",
    "        #modeling\n",
    "        rfModel, featureImportances = create_random_forest_regression(trainingData)\n",
    "        predictions = rfModel.transform(testData)\n",
    "        \n",
    "        #feature importances\n",
    "        featureImportances = rfModel.featureImportances\n",
    "        \n",
    "        #print 'Model Results for Features: ',i\n",
    "        #print_model_results(rfModel, predictions)\n",
    "    \n",
    "    \n",
    "        #Save Model Results\n",
    "        temp_dict = save_random_forest_regression(rfModel, featureImportances, predictions, i, rfModel)\n",
    "        models_dict.append(temp_dict)\n",
    "    \n",
    "    return models_dict"
   ]
  },
  {
   "cell_type": "code",
   "execution_count": 199,
   "metadata": {
    "collapsed": true
   },
   "outputs": [],
   "source": [
    "dic = compute_random_forest_regression(outputlist)"
   ]
  },
  {
   "cell_type": "code",
   "execution_count": null,
   "metadata": {
    "collapsed": true
   },
   "outputs": [],
   "source": []
  },
  {
   "cell_type": "code",
   "execution_count": 216,
   "metadata": {
    "collapsed": true
   },
   "outputs": [],
   "source": [
    "def save_grad_boosted_regression(model, featureImportances, predictions, model_features, model_type):\n",
    "    \n",
    "    dictionary = dict()\n",
    "    \n",
    "    model_features = list(model_features)\n",
    "    dictionary['model_id'] = '-'.join(model_features)\n",
    "    dictionary['model_type'] = str(model_type)\n",
    "    dictionary['features'] = model_features\n",
    "    dictionary['featureImportances'] = featureImportances\n",
    "    \n",
    "    #Test Data Metrics\n",
    "    evaluator = RegressionEvaluator(\n",
    "        labelCol=\"label\", predictionCol=\"prediction\")\n",
    "    rmse = evaluator.evaluate(predictions)\n",
    "    \n",
    "    r2_test = evaluator.evaluate(predictions, {evaluator.metricName: \"r2\"})\n",
    "    mae_test = evaluator.evaluate(predictions, {evaluator.metricName: \"mae\"})\n",
    "    rmse_test = evaluator.evaluate(predictions, {evaluator.metricName: \"rmse\"})\n",
    "    \n",
    "    dictionary['r2_test'] = r2_test\n",
    "    dictionary['mae_test'] = mae_test\n",
    "    dictionary['rmse_test'] = rmse_test\n",
    "    \n",
    "    return dictionary"
   ]
  },
  {
   "cell_type": "code",
   "execution_count": 225,
   "metadata": {
    "collapsed": true
   },
   "outputs": [],
   "source": [
    "def compute_grad_boosted_regression(outputlist):\n",
    "    \n",
    "    models_dict = []\n",
    "    \n",
    "    for i in outputlist:\n",
    "        \n",
    "        #preparing data\n",
    "        new = sparkDF.select(list(i))\n",
    "        data = new.rdd.map(lambda x:(Vectors.dense(x[0:-1]), x[-1])).toDF([\"features\", \"label\"])\n",
    "        trainingData, testData = split_data(data, 0.72)\n",
    "        \n",
    "        #modeling\n",
    "        gbtModel = create_grad_boosted_regression(trainingData)\n",
    "        predictions = gbtModel.transform(testData)\n",
    "        \n",
    "        #print 'Model Results for Features: ',i\n",
    "        #Model results will probably have to change\n",
    "        #print_model_results(gbtModel, predictions)\n",
    "        \n",
    "        #Feature Importances\n",
    "        featureImportances = gbtModel.featureImportances\n",
    "        \n",
    "        #Save Model Results\n",
    "        temp_dict = save_grad_boosted_regression(gbtModel, featureImportances, predictions, i, gbtModel)\n",
    "        models_dict.append(temp_dict)\n",
    "        \n",
    "    return models_dict"
   ]
  },
  {
   "cell_type": "code",
   "execution_count": 226,
   "metadata": {
    "collapsed": true
   },
   "outputs": [],
   "source": [
    "dic = compute_grad_boosted_regression(outputlist)"
   ]
  },
  {
   "cell_type": "code",
   "execution_count": null,
   "metadata": {
    "collapsed": true
   },
   "outputs": [],
   "source": []
  },
  {
   "cell_type": "code",
   "execution_count": 36,
   "metadata": {
    "collapsed": true
   },
   "outputs": [],
   "source": [
    "#Additional Modeling Techniques:\n",
    "#Do lasso lars and or ridge for feature selection by just modifying lienar model parameter (see docs)"
   ]
  },
  {
   "cell_type": "code",
   "execution_count": null,
   "metadata": {
    "collapsed": true
   },
   "outputs": [],
   "source": []
  },
  {
   "cell_type": "code",
   "execution_count": null,
   "metadata": {
    "collapsed": true
   },
   "outputs": [],
   "source": []
  },
  {
   "cell_type": "code",
   "execution_count": null,
   "metadata": {
    "collapsed": true
   },
   "outputs": [],
   "source": []
  },
  {
   "cell_type": "code",
   "execution_count": null,
   "metadata": {
    "collapsed": true
   },
   "outputs": [],
   "source": []
  },
  {
   "cell_type": "code",
   "execution_count": 38,
   "metadata": {
    "collapsed": true
   },
   "outputs": [],
   "source": [
    "#Plot Results of all models to see what works and what doesnt"
   ]
  },
  {
   "cell_type": "code",
   "execution_count": 346,
   "metadata": {
    "collapsed": true
   },
   "outputs": [],
   "source": [
    "models_df = pd.DataFrame.from_dict(dic)"
   ]
  },
  {
   "cell_type": "code",
   "execution_count": 347,
   "metadata": {},
   "outputs": [
    {
     "data": {
      "text/plain": [
       "27"
      ]
     },
     "execution_count": 347,
     "metadata": {},
     "output_type": "execute_result"
    }
   ],
   "source": [
    "len(models_df)"
   ]
  },
  {
   "cell_type": "code",
   "execution_count": 366,
   "metadata": {},
   "outputs": [
    {
     "data": {
      "text/html": [
       "<div>\n",
       "<style scoped>\n",
       "    .dataframe tbody tr th:only-of-type {\n",
       "        vertical-align: middle;\n",
       "    }\n",
       "\n",
       "    .dataframe tbody tr th {\n",
       "        vertical-align: top;\n",
       "    }\n",
       "\n",
       "    .dataframe thead th {\n",
       "        text-align: right;\n",
       "    }\n",
       "</style>\n",
       "<table border=\"1\" class=\"dataframe\">\n",
       "  <thead>\n",
       "    <tr style=\"text-align: right;\">\n",
       "      <th></th>\n",
       "      <th>DTRfeatureImportances</th>\n",
       "      <th>RFRfeatureImportances</th>\n",
       "      <th>degreesOfFreedom</th>\n",
       "      <th>devianceResiduals</th>\n",
       "      <th>explainedVariance</th>\n",
       "      <th>features</th>\n",
       "      <th>mae_test</th>\n",
       "      <th>meanAbsoluteError</th>\n",
       "      <th>meanSquaredError</th>\n",
       "      <th>model_id</th>\n",
       "      <th>model_type</th>\n",
       "      <th>r2</th>\n",
       "      <th>r2_test</th>\n",
       "      <th>residuals</th>\n",
       "      <th>rmse_test</th>\n",
       "      <th>rootMeanSquaredError</th>\n",
       "      <th>numOfFeatures</th>\n",
       "    </tr>\n",
       "  </thead>\n",
       "  <tbody>\n",
       "    <tr>\n",
       "      <th>21</th>\n",
       "      <td>(0.0, 0.0, 0.0, 0.0, 0.0, 0.0, 0.0535390226937...</td>\n",
       "      <td>NA</td>\n",
       "      <td>4107</td>\n",
       "      <td>[-788.141703115, 717.63176785]</td>\n",
       "      <td>13518.117815</td>\n",
       "      <td>[host_response_rate, host_acceptance_rate, hos...</td>\n",
       "      <td>72.841256</td>\n",
       "      <td>72.62432</td>\n",
       "      <td>12379.132421</td>\n",
       "      <td>host_response_rate-host_acceptance_rate-host_l...</td>\n",
       "      <td>LinearRegression_4c3e90ee37842cd1cb9a</td>\n",
       "      <td>0.523018</td>\n",
       "      <td>0.574988</td>\n",
       "      <td>DataFrame[residuals: double]</td>\n",
       "      <td>107.776783</td>\n",
       "      <td>111.26155</td>\n",
       "      <td>25</td>\n",
       "    </tr>\n",
       "  </tbody>\n",
       "</table>\n",
       "</div>"
      ],
      "text/plain": [
       "                                DTRfeatureImportances RFRfeatureImportances  \\\n",
       "21  (0.0, 0.0, 0.0, 0.0, 0.0, 0.0, 0.0535390226937...                    NA   \n",
       "\n",
       "    degreesOfFreedom               devianceResiduals  explainedVariance  \\\n",
       "21              4107  [-788.141703115, 717.63176785]       13518.117815   \n",
       "\n",
       "                                             features   mae_test  \\\n",
       "21  [host_response_rate, host_acceptance_rate, hos...  72.841256   \n",
       "\n",
       "    meanAbsoluteError  meanSquaredError  \\\n",
       "21           72.62432      12379.132421   \n",
       "\n",
       "                                             model_id  \\\n",
       "21  host_response_rate-host_acceptance_rate-host_l...   \n",
       "\n",
       "                               model_type        r2   r2_test  \\\n",
       "21  LinearRegression_4c3e90ee37842cd1cb9a  0.523018  0.574988   \n",
       "\n",
       "                       residuals   rmse_test  rootMeanSquaredError  \\\n",
       "21  DataFrame[residuals: double]  107.776783             111.26155   \n",
       "\n",
       "    numOfFeatures  \n",
       "21             25  "
      ]
     },
     "execution_count": 366,
     "metadata": {},
     "output_type": "execute_result"
    }
   ],
   "source": [
    "models_df[models_df['r2_test']>0.57]"
   ]
  },
  {
   "cell_type": "code",
   "execution_count": 349,
   "metadata": {
    "collapsed": true
   },
   "outputs": [],
   "source": [
    "import seaborn as sb\n",
    "import matplotlib.pyplot as plt\n",
    "%matplotlib inline"
   ]
  },
  {
   "cell_type": "code",
   "execution_count": 350,
   "metadata": {
    "collapsed": true
   },
   "outputs": [],
   "source": [
    "#Some basic data transformations on models_df to better visualize things\n",
    "models_df['numOfFeatures'] = models_df['features'].apply(lambda x: len(x)-1)"
   ]
  },
  {
   "cell_type": "code",
   "execution_count": 358,
   "metadata": {},
   "outputs": [
    {
     "data": {
      "image/png": "[encoded data removed]",
      "text/plain": [
       "<Figure size 432x288 with 1 Axes>"
      ]
     },
     "metadata": {},
     "output_type": "display_data"
    }
   ],
   "source": [
    "models_df[models_df['r2_test']>0].plot(x='model_id',y='r2_test')\n",
    "plt.show()"
   ]
  },
  {
   "cell_type": "code",
   "execution_count": 355,
   "metadata": {},
   "outputs": [
    {
     "data": {
      "text/plain": [
       "<matplotlib.axes._subplots.AxesSubplot at 0x11812e410>"
      ]
     },
     "execution_count": 355,
     "metadata": {},
     "output_type": "execute_result"
    },
    {
     "data": {
      "image/png": "[encoded data removed]",
      "text/plain": [
       "<Figure size 432x288 with 1 Axes>"
      ]
     },
     "metadata": {},
     "output_type": "display_data"
    }
   ],
   "source": [
    "sb.distplot(models_df[models_df['r2_test']>0].r2_test)"
   ]
  },
  {
   "cell_type": "code",
   "execution_count": 359,
   "metadata": {},
   "outputs": [
    {
     "data": {
      "image/png": "[encoded data removed]",
      "text/plain": [
       "<Figure size 432x288 with 1 Axes>"
      ]
     },
     "metadata": {},
     "output_type": "display_data"
    }
   ],
   "source": [
    "models_df[models_df['r2_test']>0].plot(x='numOfFeatures',y='r2_test')\n",
    "plt.show()"
   ]
  },
  {
   "cell_type": "code",
   "execution_count": 360,
   "metadata": {},
   "outputs": [
    {
     "data": {
      "text/plain": [
       "<matplotlib.axes._subplots.AxesSubplot at 0x11c04ebd0>"
      ]
     },
     "execution_count": 360,
     "metadata": {},
     "output_type": "execute_result"
    },
    {
     "data": {
      "image/png": "[encoded data removed]",
      "text/plain": [
       "<Figure size 432x288 with 1 Axes>"
      ]
     },
     "metadata": {},
     "output_type": "display_data"
    }
   ],
   "source": [
    "sb.distplot(models_df[models_df['r2_test']>0].mae_test)"
   ]
  },
  {
   "cell_type": "code",
   "execution_count": 361,
   "metadata": {},
   "outputs": [
    {
     "data": {
      "text/plain": [
       "<matplotlib.axes._subplots.AxesSubplot at 0x11841e710>"
      ]
     },
     "execution_count": 361,
     "metadata": {},
     "output_type": "execute_result"
    },
    {
     "data": {
      "image/png": "[encoded data removed]",
      "text/plain": [
       "<Figure size 432x288 with 1 Axes>"
      ]
     },
     "metadata": {},
     "output_type": "display_data"
    }
   ],
   "source": [
    "sb.distplot(models_df[models_df['r2_test']>0].rmse_test)"
   ]
  },
  {
   "cell_type": "code",
   "execution_count": 363,
   "metadata": {},
   "outputs": [
    {
     "data": {
      "text/plain": [
       "<Figure size 432x288 with 0 Axes>"
      ]
     },
     "metadata": {},
     "output_type": "display_data"
    },
    {
     "data": {
      "image/png": "[encoded data removed]",
      "text/plain": [
       "<Figure size 1440x1440 with 1 Axes>"
      ]
     },
     "metadata": {},
     "output_type": "display_data"
    }
   ],
   "source": [
    "plt.figure()\n",
    "models_df.nlargest(2, 'r2_test').plot(x='model_id',y='r2_test', kind='barh', figsize=(20,20))\n",
    "plt.show()"
   ]
  },
  {
   "cell_type": "code",
   "execution_count": 184,
   "metadata": {
    "collapsed": true
   },
   "outputs": [],
   "source": [
    "#count = 3"
   ]
  },
  {
   "cell_type": "code",
   "execution_count": 364,
   "metadata": {
    "collapsed": true
   },
   "outputs": [],
   "source": [
    "import datetime\n",
    "today = datetime.date.today()\n",
    "count+=1\n",
    "filename = 'models_df' + str(today) + '_V' + str(count) + '.csv'"
   ]
  },
  {
   "cell_type": "code",
   "execution_count": 365,
   "metadata": {
    "collapsed": true
   },
   "outputs": [],
   "source": [
    "models_df.to_csv('model_df/'+filename)"
   ]
  },
  {
   "cell_type": "code",
   "execution_count": null,
   "metadata": {
    "collapsed": true
   },
   "outputs": [],
   "source": []
  },
  {
   "cell_type": "code",
   "execution_count": null,
   "metadata": {
    "collapsed": true
   },
   "outputs": [],
   "source": []
  },
  {
   "cell_type": "markdown",
   "metadata": {},
   "source": [
    "insight: must use more features.."
   ]
  },
  {
   "cell_type": "code",
   "execution_count": null,
   "metadata": {
    "collapsed": true
   },
   "outputs": [],
   "source": [
    "#tomorrow will focus on adding more features and only starting from highest n and working way down to a few at a time"
   ]
  },
  {
   "cell_type": "code",
   "execution_count": 39,
   "metadata": {
    "collapsed": true
   },
   "outputs": [],
   "source": [
    "#plot performance of the jobs or use spark UI (maybe)"
   ]
  },
  {
   "cell_type": "code",
   "execution_count": 376,
   "metadata": {
    "collapsed": true
   },
   "outputs": [],
   "source": [
    "df1 = pd.read_csv('model_df/models_df2018-05-10_V1.csv').drop(columns='Unnamed: 0')\n",
    "df4 = pd.read_csv('model_df/models_df2018-05-10_V4.csv').drop(columns='Unnamed: 0')\n",
    "df5 = pd.read_csv('model_df/models_df2018-05-10_V5.csv').drop(columns='Unnamed: 0')\n",
    "df6 = pd.read_csv('model_df/models_df2018-05-10_V6.csv').drop(columns='Unnamed: 0')\n",
    "df7 = pd.read_csv('model_df/models_df2018-05-11_V7.csv').drop(columns='Unnamed: 0')\n",
    "df8 = pd.read_csv('model_df/models_df2018-05-11_V8.csv').drop(columns='Unnamed: 0')"
   ]
  },
  {
   "cell_type": "code",
   "execution_count": 379,
   "metadata": {
    "collapsed": true
   },
   "outputs": [],
   "source": [
    "all_models = pd.concat([df1,df4,df5,df6,df7,df8])"
   ]
  },
  {
   "cell_type": "code",
   "execution_count": 380,
   "metadata": {},
   "outputs": [
    {
     "data": {
      "text/plain": [
       "Index([u'DTRfeatureImportances', u'RFRfeatureImportances', u'degreesOfFreedom',\n",
       "       u'devianceResiduals', u'explainedVariance', u'featureImportances',\n",
       "       u'features', u'mae_test', u'meanAbsoluteError', u'meanSquaredError',\n",
       "       u'model_id', u'model_type', u'numOfFeatures', u'r2', u'r2_test',\n",
       "       u'residuals', u'rmse_test', u'rootMeanSquaredError'],\n",
       "      dtype='object')"
      ]
     },
     "execution_count": 380,
     "metadata": {},
     "output_type": "execute_result"
    }
   ],
   "source": [
    "all_models.columns"
   ]
  },
  {
   "cell_type": "code",
   "execution_count": 381,
   "metadata": {},
   "outputs": [
    {
     "data": {
      "text/plain": [
       "<matplotlib.axes._subplots.AxesSubplot at 0x117237e50>"
      ]
     },
     "execution_count": 381,
     "metadata": {},
     "output_type": "execute_result"
    },
    {
     "data": {
      "image/png": "[encoded data removed]",
      "text/plain": [
       "<Figure size 432x288 with 1 Axes>"
      ]
     },
     "metadata": {},
     "output_type": "display_data"
    }
   ],
   "source": [
    "all_models[all_models['r2_test']>0].plot(x='model_id',y='r2_test')"
   ]
  },
  {
   "cell_type": "code",
   "execution_count": 382,
   "metadata": {
    "collapsed": true
   },
   "outputs": [],
   "source": [
    "all_models['numOfFeatures'] = all_models['features'].apply(lambda x: len(x)-1)"
   ]
  },
  {
   "cell_type": "code",
   "execution_count": 384,
   "metadata": {},
   "outputs": [
    {
     "data": {
      "image/png": "[encoded data removed]",
      "text/plain": [
       "<Figure size 432x288 with 1 Axes>"
      ]
     },
     "metadata": {},
     "output_type": "display_data"
    }
   ],
   "source": [
    "all_models[all_models['r2_test']>0].plot(x='numOfFeatures',y='r2_test', kind='scatter')\n",
    "plt.show()"
   ]
  },
  {
   "cell_type": "code",
   "execution_count": 412,
   "metadata": {},
   "outputs": [
    {
     "data": {
      "text/plain": [
       "<matplotlib.axes._subplots.AxesSubplot at 0x118291790>"
      ]
     },
     "execution_count": 412,
     "metadata": {},
     "output_type": "execute_result"
    },
    {
     "data": {
      "image/png": "[encoded data removed]",
      "text/plain": [
       "<Figure size 432x288 with 1 Axes>"
      ]
     },
     "metadata": {},
     "output_type": "display_data"
    }
   ],
   "source": [
    "all_models[all_models['r2_test']<1].drop(columns='degreesOfFreedom').groupby(by=all_models.model_type).sum().plot()"
   ]
  },
  {
   "cell_type": "code",
   "execution_count": null,
   "metadata": {
    "collapsed": true
   },
   "outputs": [],
   "source": []
  },
  {
   "cell_type": "code",
   "execution_count": 62,
   "metadata": {
    "collapsed": true
   },
   "outputs": [],
   "source": [
    "spark.stop()"
   ]
  }
 ],
 "metadata": {
  "kernelspec": {
   "display_name": "Python 2",
   "language": "python",
   "name": "python2"
  },
  "language_info": {
   "codemirror_mode": {
    "name": "ipython",
    "version": 2
   },
   "file_extension": ".py",
   "mimetype": "text/x-python",
   "name": "python",
   "nbconvert_exporter": "python",
   "pygments_lexer": "ipython2",
   "version": "2.7.14"
  }
 },
 "nbformat": 4,
 "nbformat_minor": 2
}
