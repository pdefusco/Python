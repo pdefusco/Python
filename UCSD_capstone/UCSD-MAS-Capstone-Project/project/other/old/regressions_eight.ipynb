{
 "cells": [
  {
   "cell_type": "markdown",
   "metadata": {},
   "source": [
    "## Importing necessary packages and doing relevant cleaning"
   ]
  },
  {
   "cell_type": "code",
   "execution_count": 1,
   "metadata": {
    "collapsed": true
   },
   "outputs": [],
   "source": [
    "import pandas as pd\n",
    "import numpy as np\n",
    "import scipy.stats as stats\n",
    "import statsmodels.api as sm\n",
    "import statsmodels.formula.api as smf\n",
    "import statsmodels.stats.api as sms\n",
    "from __future__ import print_function\n",
    "from statsmodels.compat import lzip\n",
    "import matplotlib.pyplot as plt\n",
    "import numpy as np\n",
    "import sklearn as sk\n",
    "from sklearn.linear_model import LinearRegression"
   ]
  },
  {
   "cell_type": "code",
   "execution_count": 2,
   "metadata": {
    "collapsed": true
   },
   "outputs": [],
   "source": [
    "from statsmodels.graphics.regressionplots import plot_fit\n",
    "from statsmodels.graphics.regressionplots import plot_leverage_resid2\n",
    "from statsmodels.graphics.regressionplots import plot_regress_exog\n",
    "from sklearn import linear_model\n",
    "from sklearn.preprocessing import PolynomialFeatures\n",
    "from sklearn.pipeline import make_pipeline\n",
    "from sklearn.linear_model import Ridge\n",
    "from pandas.tseries.holiday import USFederalHolidayCalendar as calendar\n",
    "import statsmodels.api as sm\n",
    "import statsmodels.formula.api as smf\n",
    "from sklearn.preprocessing import StandardScaler\n",
    "from sklearn import linear_model\n",
    "from sklearn.pipeline import make_pipeline"
   ]
  },
  {
   "cell_type": "code",
   "execution_count": 3,
   "metadata": {
    "collapsed": true
   },
   "outputs": [],
   "source": [
    "from sklearn.metrics import r2_score, mean_squared_error\n",
    "linear_regression = linear_model.LinearRegression(normalize=False, fit_intercept=True)\n",
    "def r2_est(X,y):\n",
    "    return r2_score(y, linear_regression.fit(X,y).predict(X))\n",
    "def r2_est_two(X,y, X_new, y_new):\n",
    "    return r2_score(y_new, linear_regression.fit(X,y).predict(X_new))"
   ]
  },
  {
   "cell_type": "code",
   "execution_count": 4,
   "metadata": {
    "collapsed": true
   },
   "outputs": [],
   "source": [
    "from sklearn.preprocessing import LabelEncoder, LabelBinarizer\n",
    "from sklearn.decomposition import PCA\n",
    "from sklearn.metrics import mean_absolute_error\n",
    "from sklearn.preprocessing import MinMaxScaler\n",
    "from sklearn.cross_validation import cross_val_score, KFold, StratifiedKFold\n",
    "from sklearn.metrics import make_scorer\n",
    "from sklearn.preprocessing import PolynomialFeatures\n",
    "from sklearn.feature_selection import RFECV\n",
    "from sklearn.cross_validation import KFold\n",
    "from sklearn.cross_validation import train_test_split\n",
    "from sklearn.linear_model import Lasso\n",
    "from sklearn.grid_search import RandomizedSearchCV\n",
    "from scipy.stats import expon"
   ]
  },
  {
   "cell_type": "code",
   "execution_count": 5,
   "metadata": {
    "collapsed": true
   },
   "outputs": [],
   "source": [
    "from sklearn.preprocessing import LabelEncoder, LabelBinarizer\n",
    "label_enc = LabelEncoder()\n",
    "label_bin = LabelBinarizer()"
   ]
  },
  {
   "cell_type": "code",
   "execution_count": 6,
   "metadata": {
    "collapsed": true
   },
   "outputs": [],
   "source": [
    "lasso_regression = linear_model.LassoLars(normalize=False, fit_intercept=True)\n",
    "def r2_lasso_est_two(X,y, X_new, y_new):\n",
    "    return r2_score(y_new, lasso_regression.fit(X,y).predict(X_new))"
   ]
  },
  {
   "cell_type": "code",
   "execution_count": 7,
   "metadata": {
    "collapsed": true
   },
   "outputs": [],
   "source": [
    "ridge_regression = linear_model.Ridge(normalize=False, fit_intercept=True)\n",
    "def r2_ridge_est_two(X,y, X_new, y_new):\n",
    "    return r2_score(y_new, ridge_regression.fit(X,y).predict(X_new))"
   ]
  },
  {
   "cell_type": "code",
   "execution_count": 8,
   "metadata": {
    "collapsed": true
   },
   "outputs": [],
   "source": [
    "from sklearn.feature_selection import RFECV\n",
    "from sklearn.ensemble import GradientBoostingRegressor, AdaBoostRegressor, BaggingRegressor, ExtraTreesRegressor\n",
    "from sklearn.ensemble import RandomForestRegressor"
   ]
  },
  {
   "cell_type": "code",
   "execution_count": 9,
   "metadata": {
    "collapsed": true
   },
   "outputs": [],
   "source": [
    "listings_augmented_2018 = pd.read_csv('listings_augmented_2018-04-29_V1.csv', low_memory=False)"
   ]
  },
  {
   "cell_type": "code",
   "execution_count": 10,
   "metadata": {
    "collapsed": true
   },
   "outputs": [],
   "source": [
    "df = pd.DataFrame()\n",
    "\n",
    "for (index, row) in listings_augmented_2018.iterrows():\n",
    "    if index not in range(4324, 4326):\n",
    "        df = df.append(row)"
   ]
  },
  {
   "cell_type": "code",
   "execution_count": 11,
   "metadata": {
    "collapsed": true
   },
   "outputs": [],
   "source": [
    "listings_augmented_2018 = df\n",
    "listings_augmented_2018 = listings_augmented_2018.reset_index()\n",
    "listings_augmented_2018['Unnamed: 0'] = listings_augmented_2018.index\n",
    "listings_augmented_2018 = listings_augmented_2018.drop('index', axis = 1)"
   ]
  },
  {
   "cell_type": "code",
   "execution_count": 12,
   "metadata": {
    "collapsed": true
   },
   "outputs": [],
   "source": [
    "listings_augmented_2018['host_response_rate'] = listings_augmented_2018['host_response_rate'].astype(str).map(lambda x: x.rstrip(\"%\"))\n",
    "listings_augmented_2018['host_response_rate'] = listings_augmented_2018['host_response_rate'].apply(pd.to_numeric, errors='coerce')\n",
    "listings_augmented_2018['host_response_rate'].replace(regex=True,inplace=True,to_replace=r'\\D',value=r'')\n",
    "listings_augmented_2018['host_acceptance_rate'] = listings_augmented_2018['host_acceptance_rate'].astype(str).map(lambda x: x.rstrip(\"%\"))\n",
    "listings_augmented_2018['host_acceptance_rate'] = listings_augmented_2018['host_acceptance_rate'].apply(pd.to_numeric, errors='coerce')\n",
    "listings_augmented_2018['host_acceptance_rate'].replace(regex=True,inplace=True,to_replace=r'\\D',value=r'')\n",
    "listings_augmented_2018['extra_people'] = listings_augmented_2018['extra_people'].astype(str).map(lambda x: x.lstrip('$'))\n",
    "listings_augmented_2018['extra_people'] = listings_augmented_2018['extra_people'].apply(pd.to_numeric, errors='coerce')\n",
    "listings_augmented_2018['extra_people'].replace(regex=True,inplace=True,to_replace=r'\\D',value=r'')\n",
    "listings_augmented_2018['weekly_price'] = listings_augmented_2018['weekly_price'].astype(str).map(lambda x: x.lstrip('$'))\n",
    "listings_augmented_2018['weekly_price'] = listings_augmented_2018['weekly_price'].apply(pd.to_numeric, errors='coerce')\n",
    "listings_augmented_2018['weekly_price'].replace(regex=True,inplace=True,to_replace=r'\\D',value=r'')\n",
    "listings_augmented_2018['monthly_price'] = listings_augmented_2018['monthly_price'].astype(str).map(lambda x: x.lstrip('$'))\n",
    "listings_augmented_2018['monthly_price'] = listings_augmented_2018['monthly_price'].apply(pd.to_numeric, errors='coerce')\n",
    "listings_augmented_2018['monthly_price'].replace(regex=True,inplace=True,to_replace=r'\\D',value=r'')\n",
    "listings_augmented_2018['security_deposit'] = listings_augmented_2018['security_deposit'].astype(str).map(lambda x: x.lstrip('$'))\n",
    "listings_augmented_2018['security_deposit'] = listings_augmented_2018['security_deposit'].apply(pd.to_numeric, errors='coerce')\n",
    "listings_augmented_2018['security_deposit'].replace(regex=True,inplace=True,to_replace=r'\\D',value=r'')\n",
    "listings_augmented_2018['cleaning_fee'] = listings_augmented_2018['cleaning_fee'].astype(str).map(lambda x: x.lstrip('$'))\n",
    "listings_augmented_2018['cleaning_fee'] = listings_augmented_2018['cleaning_fee'].apply(pd.to_numeric, errors='coerce')\n",
    "listings_augmented_2018['cleaning_fee'].replace(regex=True,inplace=True,to_replace=r'\\D',value=r'')"
   ]
  },
  {
   "cell_type": "code",
   "execution_count": 15,
   "metadata": {
    "collapsed": true
   },
   "outputs": [],
   "source": [
    "listings_augmented_2018['ones'] = np.ones(len(listings_augmented_2018))"
   ]
  },
  {
   "cell_type": "code",
   "execution_count": 16,
   "metadata": {},
   "outputs": [
    {
     "name": "stdout",
     "output_type": "stream",
     "text": [
      "host_is_superhost True\n",
      "is_location_exact True\n",
      "host_profile_pic False\n",
      "host_identity_verified True\n",
      "instant_bookable True\n",
      "require_guest_profile_picture True\n",
      "require_guest_phone_verification True\n"
     ]
    }
   ],
   "source": [
    "for w in ['host_is_superhost', 'is_location_exact', 'host_profile_pic', 'host_identity_verified', 'instant_bookable', 'require_guest_profile_picture', 'require_guest_phone_verification']:\n",
    "    a = (w in listings_augmented_2018.columns)\n",
    "    print(w, a)"
   ]
  },
  {
   "cell_type": "code",
   "execution_count": 17,
   "metadata": {
    "collapsed": true
   },
   "outputs": [],
   "source": [
    "listings_augmented_2018['host_is_superhost'] = label_bin.fit_transform(listings_augmented_2018.host_is_superhost)\n",
    "listings_augmented_2018['is_location_exact'] = label_bin.fit_transform(listings_augmented_2018.is_location_exact)\n",
    "listings_augmented_2018['host_identity_verified'] = label_bin.fit_transform(listings_augmented_2018.host_identity_verified)\n",
    "listings_augmented_2018['instant_bookable'] = label_bin.fit_transform(listings_augmented_2018.instant_bookable)\n",
    "listings_augmented_2018['require_guest_profile_picture'] = label_bin.fit_transform(listings_augmented_2018.require_guest_profile_picture)\n",
    "listings_augmented_2018['require_guest_phone_verification'] = label_bin.fit_transform(listings_augmented_2018.require_guest_phone_verification)"
   ]
  },
  {
   "cell_type": "code",
   "execution_count": 18,
   "metadata": {},
   "outputs": [
    {
     "name": "stdout",
     "output_type": "stream",
     "text": [
      "policy_enc False\n",
      "host_response_time True\n",
      "calendar_updated True\n",
      "bed_type True\n",
      "jurisdiction_names True\n",
      "zipcode True\n"
     ]
    }
   ],
   "source": [
    "for w in ['policy_enc', 'host_response_time', 'calendar_updated', 'bed_type', 'jurisdiction_names', 'zipcode']:\n",
    "    a = (w in listings_augmented_2018.columns)\n",
    "    print(w, a)"
   ]
  },
  {
   "cell_type": "code",
   "execution_count": 19,
   "metadata": {
    "collapsed": true
   },
   "outputs": [],
   "source": [
    "listings_augmented_2018['host_resp_time_enc'] = label_enc.fit_transform(listings_augmented_2018['host_response_time'].astype(str))\n",
    "listings_augmented_2018['calendar_updated_enc'] = label_enc.fit_transform(listings_augmented_2018['calendar_updated'].astype(str))\n",
    "listings_augmented_2018['bed_type_enc'] = label_enc.fit_transform(listings_augmented_2018['bed_type'].astype(str))\n",
    "listings_augmented_2018['jurisdiction_names_enc'] = label_enc.fit_transform(listings_augmented_2018['jurisdiction_names'].astype(str))\n",
    "listings_augmented_2018['zipcode_enc'] = label_enc.fit_transform(listings_augmented_2018['zipcode'].astype(str))"
   ]
  },
  {
   "cell_type": "code",
   "execution_count": 20,
   "metadata": {
    "collapsed": true
   },
   "outputs": [],
   "source": [
    "listings_augmented_2018 = listings_augmented_2018.drop(['neighbourhood_group_cleansed','square_feet','has_availability','license','weekly_price','monthly_price'], axis = 1)"
   ]
  },
  {
   "cell_type": "code",
   "execution_count": 23,
   "metadata": {
    "scrolled": true
   },
   "outputs": [
    {
     "data": {
      "text/plain": [
       "Unnamed: 0                          0\n",
       "access                           1884\n",
       "access-Dominant_Topic               0\n",
       "access-Topic0                       0\n",
       "access-Topic1                       0\n",
       "access-Topic10                      0\n",
       "access-Topic11                      0\n",
       "access-Topic12                      0\n",
       "access-Topic13                      0\n",
       "access-Topic14                      0\n",
       "access-Topic15                      0\n",
       "access-Topic16                      0\n",
       "access-Topic17                      0\n",
       "access-Topic18                      0\n",
       "access-Topic19                      0\n",
       "access-Topic2                       0\n",
       "access-Topic3                       0\n",
       "access-Topic4                       0\n",
       "access-Topic5                       0\n",
       "access-Topic6                       0\n",
       "access-Topic7                       0\n",
       "access-Topic8                       0\n",
       "access-Topic9                       0\n",
       "access_.                            0\n",
       "access_._tokens_sum_ratio           0\n",
       "access_ADJ                          0\n",
       "access_ADJ_tokens_sum_ratio         0\n",
       "access_ADP                          0\n",
       "access_ADP_tokens_sum_ratio         0\n",
       "access_ADV                          0\n",
       "                                 ... \n",
       "transit_CONJ                        0\n",
       "transit_CONJ_tokens_sum_ratio       0\n",
       "transit_DET                         0\n",
       "transit_DET_tokens_sum_ratio        0\n",
       "transit_KmeansCluster               0\n",
       "transit_LexicalDiversity            0\n",
       "transit_NOUN                        0\n",
       "transit_NOUN_tokens_sum_ratio       0\n",
       "transit_NUM                         0\n",
       "transit_NUM_tokens_sum_ratio        0\n",
       "transit_PRON                        0\n",
       "transit_PRON_tokens_sum_ratio       0\n",
       "transit_PRT                         0\n",
       "transit_PRT_tokens_sum_ratio        0\n",
       "transit_TextDigitsPerc              0\n",
       "transit_TextLength                  0\n",
       "transit_TextPuncPerc                0\n",
       "transit_TextWordsPerc               0\n",
       "transit_VERB                        0\n",
       "transit_VERB_tokens_sum_ratio       0\n",
       "transit_X                           0\n",
       "transit_X_tokens_sum_ratio          0\n",
       "xl_picture_url                   1057\n",
       "zipcode                            96\n",
       "ones                                0\n",
       "host_resp_time_enc                  0\n",
       "calendar_updated_enc                0\n",
       "bed_type_enc                        0\n",
       "jurisdiction_names_enc              0\n",
       "zipcode_enc                         0\n",
       "dtype: int64"
      ]
     },
     "execution_count": 23,
     "metadata": {},
     "output_type": "execute_result"
    }
   ],
   "source": [
    "listings_augmented_2018.isnull().sum()"
   ]
  },
  {
   "cell_type": "code",
   "execution_count": 26,
   "metadata": {
    "collapsed": true
   },
   "outputs": [],
   "source": [
    "listings_augmented_2018 = listings_augmented_2018.drop(['host_response_time','calendar_updated', 'bed_type', 'jurisdiction_names', 'zipcode'], axis = 1)"
   ]
  },
  {
   "cell_type": "code",
   "execution_count": 27,
   "metadata": {
    "collapsed": true
   },
   "outputs": [],
   "source": [
    "listings_augmented_2018 = listings_augmented_2018.select_dtypes(include=['float64', 'int64'])"
   ]
  },
  {
   "cell_type": "code",
   "execution_count": 29,
   "metadata": {
    "collapsed": true
   },
   "outputs": [],
   "source": [
    "listings_augmented_2018 = listings_augmented_2018.fillna(value=listings_augmented_2018.mean())"
   ]
  },
  {
   "cell_type": "code",
   "execution_count": 30,
   "metadata": {
    "collapsed": true
   },
   "outputs": [],
   "source": [
    "target = listings_augmented_2018['price_y']"
   ]
  },
  {
   "cell_type": "code",
   "execution_count": 31,
   "metadata": {
    "collapsed": true
   },
   "outputs": [],
   "source": [
    "X = listings_augmented_2018.drop('price_y', axis = 1)"
   ]
  },
  {
   "cell_type": "markdown",
   "metadata": {},
   "source": [
    "Checking for unfilled values"
   ]
  },
  {
   "cell_type": "code",
   "execution_count": 33,
   "metadata": {},
   "outputs": [
    {
     "data": {
      "text/plain": [
       "True"
      ]
     },
     "execution_count": 33,
     "metadata": {},
     "output_type": "execute_result"
    }
   ],
   "source": [
    "len(target.dropna()) == len(target)"
   ]
  },
  {
   "cell_type": "code",
   "execution_count": 34,
   "metadata": {},
   "outputs": [
    {
     "data": {
      "text/plain": [
       "False"
      ]
     },
     "execution_count": 34,
     "metadata": {},
     "output_type": "execute_result"
    }
   ],
   "source": [
    "len(X.dropna()) == len(X)"
   ]
  },
  {
   "cell_type": "code",
   "execution_count": 35,
   "metadata": {
    "collapsed": true
   },
   "outputs": [],
   "source": [
    "X = X.fillna(0)"
   ]
  },
  {
   "cell_type": "markdown",
   "metadata": {},
   "source": [
    "## Modeling (without interactions)"
   ]
  },
  {
   "cell_type": "markdown",
   "metadata": {},
   "source": [
    "### Model 26"
   ]
  },
  {
   "cell_type": "code",
   "execution_count": 36,
   "metadata": {
    "collapsed": true
   },
   "outputs": [],
   "source": [
    "X_train, X_test, y_train, y_test = train_test_split(X, target, test_size=.30, random_state=1)\n",
    "X_train_two, X_val, y_train_two, y_val = train_test_split(X_train, y_train, test_size=.30, random_state=1)"
   ]
  },
  {
   "cell_type": "code",
   "execution_count": 37,
   "metadata": {},
   "outputs": [
    {
     "name": "stdout",
     "output_type": "stream",
     "text": [
      "The R2 for validation is 0.661990975809\n",
      "The mean squared error for validation is 9345.85487645\n",
      "The mean absolute error for validation is 60.492419075\n",
      "The R2 is 0.680412854423\n",
      "The mean squared error is 8025.72137967\n",
      "The mean absolute error for test is 55.1416177023\n"
     ]
    }
   ],
   "source": [
    "gbd = GradientBoostingRegressor(loss = 'huber', learning_rate = .1)\n",
    "gbd.fit(X_train_two, y_train_two)\n",
    "b = gbd.predict(X_val)\n",
    "print('The R2 for validation is ' + str(gbd.score(X_val, y_val)))\n",
    "print('The mean squared error for validation is ' + str(mean_squared_error(b, y_val)))\n",
    "print('The mean absolute error for validation is ' + str(mean_absolute_error(b, y_val)))\n",
    "gbd.fit(X_train, y_train)\n",
    "b = gbd.predict(X_test)\n",
    "print('The R2 is ' + str(gbd.score(X_test, y_test)))\n",
    "print('The mean squared error is ' + str(mean_squared_error(b, y_test)))\n",
    "print('The mean absolute error for test is ' + str(mean_absolute_error(b, y_test)))"
   ]
  },
  {
   "cell_type": "markdown",
   "metadata": {},
   "source": [
    "Evaluating for impact of each feature"
   ]
  },
  {
   "cell_type": "code",
   "execution_count": 45,
   "metadata": {
    "collapsed": true
   },
   "outputs": [],
   "source": [
    "def r2_gbd_est_two(X,y, X_new, y_new, loss_, _rate):\n",
    "    gbd = GradientBoostingRegressor(loss = loss_, learning_rate = _rate)\n",
    "    gbd.fit(X,y)\n",
    "    return gbd.score(X_new, y_new)\n",
    "\n",
    "def r2_gbd_est_two_huber(X,y, X_new, y_new):\n",
    "    return r2_gbd_est_two(X,y, X_new, y_new, 'huber', .1)"
   ]
  },
  {
   "cell_type": "code",
   "execution_count": 46,
   "metadata": {},
   "outputs": [
    {
     "name": "stdout",
     "output_type": "stream",
     "text": [
      " 0.018 longitude\n",
      " 0.017 bedrooms\n",
      " 0.013 accommodates\n",
      " 0.012 host_resp_time_enc\n",
      " 0.011 notes_TextLength\n",
      " 0.008 house_rules-Topic15\n",
      " 0.008 bathrooms\n",
      " 0.008 availability_365\n",
      " 0.008 access_TextDigitsPerc\n",
      " 0.007 space_TextLength\n",
      " 0.007 zipcode_enc\n",
      " 0.007 neighborhood_overview_PRT_tokens_sum_ratio\n",
      " 0.007 house_rules-Topic7\n",
      " 0.007 notes_VERB\n",
      " 0.007 notes_DET_tokens_sum_ratio\n",
      " 0.007 description_ADV_tokens_sum_ratio\n",
      " 0.007 access-Topic5\n",
      " 0.007 interaction_TextPuncPerc\n",
      " 0.007 interaction-Topic10\n",
      " 0.007 has\"Lock on Bedroom Door\"\n",
      " 0.007 house_rules_NOUN\n",
      " 0.007 house_rules_DET_tokens_sum_ratio\n",
      " 0.007 description_CONJ\n",
      " 0.007 space_NOUN\n",
      " 0.006 access_ADV\n",
      " 0.006 description-Topic5\n",
      " 0.006 has\"Buzzer/Wireless Intercom\"\n",
      " 0.006 description_ADJ\n",
      " 0.006 notes_PRON_tokens_sum_ratio\n",
      " 0.006 description-Topic2\n",
      " 0.006 neighborhood_overview-Topic17\n",
      " 0.006 review_scores_accuracy\n",
      " 0.006 description_CONJ_tokens_sum_ratio\n",
      " 0.006 notes_PRON\n",
      " 0.006 description-Topic3\n",
      " 0.006 interaction-Topic7\n",
      " 0.006 transit_TextPuncPerc\n",
      " 0.006 interaction_CONJ_tokens_sum_ratio\n",
      " 0.006 description-Topic12\n",
      " 0.006 transit_ADV\n",
      " 0.006 interaction_PRON_tokens_sum_ratio\n",
      " 0.006 transit_TextWordsPerc\n",
      " 0.006 house_rules_CONJ_tokens_sum_ratio\n",
      " 0.006 access_TextPuncPerc\n",
      " 0.006 availability_90\n",
      " 0.006 access_KmeansCluster\n",
      " 0.006 description-Topic11\n",
      " 0.006 has\"Elevator in Building\"\n",
      " 0.006 space-Topic19\n",
      " 0.006 interaction_ADP\n",
      " 0.006 has\"Air Conditioning\"\n",
      " 0.006 space_CONJ_tokens_sum_ratio\n",
      " 0.006 listing_id\n",
      " 0.006 description_ADP\n",
      " 0.006 access-Topic13\n",
      " 0.006 interaction_X_tokens_sum_ratio\n",
      " 0.006 house_rules_TextWordsPerc\n",
      " 0.006 space-Topic11\n",
      " 0.006 interaction-Topic15\n",
      " 0.006 description_X\n",
      " 0.005 notes_LexicalDiversity\n",
      " 0.005 space_TextDigitsPerc\n",
      " 0.005 neighborhood_overview_NOUN_tokens_sum_ratio\n",
      " 0.005 neighborhood_overview-Topic11\n",
      " 0.005 description-Topic6\n",
      " 0.005 has\"Cable TV\"\n",
      " 0.005 description-Topic1\n",
      " 0.005 neighborhood_overview-Topic3\n",
      " 0.005 maximum_nights\n",
      " 0.005 reviews_per_month\n",
      " 0.005 notes_ADJ\n",
      " 0.005 notes_X\n",
      " 0.005 hasTV\n",
      " 0.005 transit-Topic16\n",
      " 0.005 has\"Safety Card\"\n",
      " 0.005 availability_30\n",
      " 0.005 notes_TextWordsPerc\n",
      " 0.005 transit_NUM\n",
      " 0.005 notes-Topic2\n",
      " 0.005 availability_60\n",
      " 0.005 hasWasher\n",
      " 0.005 review_scores_rating\n",
      " 0.005 transit_DET_tokens_sum_ratio\n",
      " 0.005 space_KmeansCluster\n",
      " 0.005 latitude\n",
      " 0.005 transit_ADJ\n",
      " 0.005 access_DET\n",
      " 0.005 description_LexicalDiversity\n",
      " 0.005 has\"Hot Tub\"\n",
      " 0.005 transit-Topic14\n",
      " 0.005 house_rules-Topic8\n",
      " 0.005 description-Dominant_Topic\n",
      " 0.005 interaction-Topic8\n",
      " 0.005 review_scores_communication\n",
      " 0.005 notes_ADP\n",
      " 0.005 access_VERB\n",
      " 0.005 description-Topic8\n",
      " 0.005 transit-Topic8\n",
      " 0.005 access-Topic14\n",
      " 0.005 space_ADV\n",
      " 0.005 access_CONJ\n",
      " 0.005 house_rules_ADP\n",
      " 0.005 neighborhood_overview-Topic15\n",
      " 0.005 hasHeating\n",
      " 0.005 description_TextPuncPerc\n",
      " 0.005 space_.\n",
      " 0.005 transit_TextDigitsPerc\n",
      " 0.005 description_VERB_tokens_sum_ratio\n",
      " 0.005 calculated_host_listings_count\n",
      " 0.005 neighborhood_overview-Topic0\n",
      " 0.005 transit_NOUN_tokens_sum_ratio\n",
      " 0.005 house_rules-Topic18\n",
      " 0.005 access_CONJ_tokens_sum_ratio\n",
      " 0.005 space-Topic16\n",
      " 0.005 transit-Dominant_Topic\n",
      " 0.005 house_rules_._tokens_sum_ratio\n",
      " 0.005 description_VERB\n",
      " 0.004 neighborhood_overview-Topic13\n",
      " 0.004 space_ADP\n",
      " 0.004 neighborhood_overview_TextPuncPerc\n",
      " 0.004 space-Topic10\n",
      " 0.004 notes_NOUN_tokens_sum_ratio\n",
      " 0.004 neighborhood_overview_TextLength\n",
      " 0.004 access_NUM\n",
      " 0.004 security_deposit\n",
      " 0.004 space-Topic3\n",
      " 0.004 notes-Topic17\n",
      " 0.004 transit_PRON_tokens_sum_ratio\n",
      " 0.004 bed_type_enc\n",
      " 0.004 description_KmeansCluster\n",
      " 0.004 neighborhood_overview_ADP\n",
      " 0.004 interaction_DET_tokens_sum_ratio\n",
      " 0.004 house_rules_X_tokens_sum_ratio\n",
      " 0.004 notes_NUM\n",
      " 0.004 hasDog(s)\n",
      " 0.004 access_DET_tokens_sum_ratio\n",
      " 0.004 house_rules_DET\n",
      " 0.004 space-Topic17\n",
      " 0.004 transit-Topic9\n",
      " 0.004 space-Dominant_Topic\n",
      " 0.004 space_ADP_tokens_sum_ratio\n",
      " 0.004 description_TextDigitsPerc\n",
      " 0.004 house_rules_NUM_tokens_sum_ratio\n",
      " 0.004 interaction_VERB\n",
      " 0.004 neighborhood_overview-Topic4\n",
      " 0.004 description-Topic0\n",
      " 0.004 interaction_ADV_tokens_sum_ratio\n",
      " 0.004 has\"Pets live on this property\"\n",
      " 0.004 house_rules_PRON\n",
      " 0.004 neighborhood_overview-Dominant_Topic\n",
      " 0.004 space-Topic1\n",
      " 0.004 house_rules_PRT\n",
      " 0.004 space_PRT\n",
      " 0.004 space_LexicalDiversity\n",
      " 0.004 transit-Topic10\n",
      " 0.004 transit_X\n",
      " 0.004 description-Topic14\n",
      " 0.004 notes_TextPuncPerc\n",
      " 0.004 scrape_id\n",
      " 0.004 notes-Topic14\n",
      " 0.004 access-Topic3\n",
      " 0.004 transit-Topic11\n",
      " 0.004 transit_PRT_tokens_sum_ratio\n",
      " 0.004 has\"Smoking Allowed\"\n",
      " 0.004 notes_X_tokens_sum_ratio\n",
      " 0.004 review_scores_cleanliness\n",
      " 0.004 notes_NOUN\n",
      " 0.004 hasBreakfast\n",
      " 0.004 description_NUM\n",
      " 0.004 transit_CONJ_tokens_sum_ratio\n",
      " 0.004 space_._tokens_sum_ratio\n",
      " 0.004 space_VERB_tokens_sum_ratio\n",
      " 0.004 space_CONJ\n",
      " 0.004 space_DET\n",
      " 0.004 hasDoorman\n",
      " 0.004 transit_PRT\n",
      " 0.004 hasDryer\n",
      " 0.004 interaction_TextWordsPerc\n",
      " 0.004 hasHangers\n",
      " 0.004 space-Topic0\n",
      " 0.004 description-Topic19\n",
      " 0.004 access-Topic0\n",
      " 0.004 has\"First Aid Kit\"\n",
      " 0.004 space-Topic4\n",
      " 0.004 has\"Smoke Detector\"\n",
      " 0.004 access_PRT_tokens_sum_ratio\n",
      " 0.004 neighborhood_overview_ADP_tokens_sum_ratio\n",
      " 0.004 description_PRT_tokens_sum_ratio\n",
      " 0.004 notes-Topic15\n",
      " 0.004 interaction_KmeansCluster\n",
      " 0.004 interaction_NOUN\n",
      " 0.004 access_ADP\n",
      " 0.004 interaction_ADP_tokens_sum_ratio\n",
      " 0.004 description-Topic18\n",
      " 0.004 space-Topic12\n",
      " 0.004 house_rules_TextDigitsPerc\n",
      " 0.004 review_scores_location\n",
      " 0.004 interaction_VERB_tokens_sum_ratio\n",
      " 0.003 hasPool\n",
      " 0.003 space_PRT_tokens_sum_ratio\n",
      " 0.003 description-Topic13\n",
      " 0.003 neighborhood_overview_.\n",
      " 0.003 description_DET_tokens_sum_ratio\n",
      " 0.003 minimum_nights\n",
      " 0.003 neighborhood_overview-Topic6\n",
      " 0.003 space_DET_tokens_sum_ratio\n",
      " 0.003 neighborhood_overview_ADJ\n",
      " 0.003 extra_people\n",
      " 0.003 access-Topic4\n",
      " 0.003 access-Topic18\n",
      " 0.003 space-Topic7\n",
      " 0.003 neighborhood_overview_X\n",
      " 0.003 house_rules_VERB_tokens_sum_ratio\n",
      " 0.003 transit_VERB_tokens_sum_ratio\n",
      " 0.003 neighborhood_overview_CONJ_tokens_sum_ratio\n",
      " 0.003 neighborhood_overview_NOUN\n",
      " 0.003 neighborhood_overview_._tokens_sum_ratio\n",
      " 0.003 neighborhood_overview_PRON_tokens_sum_ratio\n",
      " 0.003 notes-Topic8\n",
      " 0.003 description_DET\n",
      " 0.003 notes-Topic4\n",
      " 0.003 transit-Topic5\n",
      " 0.003 Unnamed: 0\n",
      " 0.003 hasCat(s)\n",
      " 0.003 has\"Wheelchair Accessible\"\n",
      " 0.003 transit_PRON\n",
      " 0.003 transit-Topic7\n",
      " 0.003 description-Topic9\n",
      " 0.003 space-Topic15\n",
      " 0.003 space_PRON\n",
      " 0.003 transit_LexicalDiversity\n",
      " 0.003 access_ADP_tokens_sum_ratio\n",
      " 0.003 access-Topic6\n",
      " 0.003 beds\n",
      " 0.003 interaction_TextDigitsPerc\n",
      " 0.002 description_PRON\n",
      " 0.002 transit-Topic6\n",
      " 0.002 house_rules-Topic13\n",
      " 0.002 description_TextLength\n",
      " 0.002 interaction_PRT_tokens_sum_ratio\n",
      " 0.002 notes-Topic11\n",
      " 0.002 notes_VERB_tokens_sum_ratio\n",
      " 0.002 has\n",
      " 0.002 notes-Topic18\n",
      " 0.002 house_rules_ADP_tokens_sum_ratio\n",
      " 0.002 transit_TextLength\n",
      " 0.002 interaction-Topic2\n",
      " 0.002 has\"Family/Kid Friendly\"\n",
      " 0.002 house_rules_TextPuncPerc\n",
      " 0.002 access_PRT\n",
      " 0.002 access_ADV_tokens_sum_ratio\n",
      " 0.002 transit_DET\n",
      " 0.002 notes-Topic9\n",
      " 0.002 interaction_DET\n",
      " 0.002 space_TextWordsPerc\n",
      " 0.002 access_NOUN_tokens_sum_ratio\n",
      " 0.002 space-Topic13\n",
      " 0.002 notes_CONJ_tokens_sum_ratio\n",
      " 0.002 space_PRON_tokens_sum_ratio\n",
      " 0.002 space_NOUN_tokens_sum_ratio\n",
      " 0.002 hasIron\n",
      " 0.002 has\"Hair Dryer\"\n",
      " 0.002 transit_ADP\n",
      " 0.002 access_PRON_tokens_sum_ratio\n",
      " 0.002 notes-Topic6\n",
      " 0.002 notes_TextDigitsPerc\n",
      " 0.002 notes-Topic0\n",
      " 0.002 notes-Topic19\n",
      " 0.002 space-Topic8\n",
      " 0.002 has\"Free Parking on Premises\"\n",
      " 0.002 notes_._tokens_sum_ratio\n",
      " 0.002 transit-Topic15\n",
      " 0.002 notes-Topic1\n",
      " 0.002 notes-Topic13\n",
      " 0.002 house_rules-Topic1\n",
      " 0.001 hasGym\n",
      " 0.001 interaction_ADJ\n",
      " 0.001 house_rules_X\n",
      " 0.001 description_ADJ_tokens_sum_ratio\n",
      " 0.001 interaction_._tokens_sum_ratio\n",
      " 0.001 transit_CONJ\n",
      " 0.001 number_of_reviews\n",
      " 0.001 neighborhood_overview_LexicalDiversity\n",
      " 0.001 space-Topic14\n",
      " 0.001 space_VERB\n",
      " 0.001 host_id\n",
      " 0.001 house_rules_PRON_tokens_sum_ratio\n",
      " 0.001 description_NOUN\n",
      " 0.001 description-Topic7\n",
      " 0.001 neighborhood_overview-Topic8\n",
      " 0.001 neighborhood_overview_KmeansCluster\n",
      " 0.001 notes-Topic12\n",
      " 0.001 house_rules_ADJ_tokens_sum_ratio\n",
      " 0.001 has\"translation missing: en.hosting_amenity_50\"\n",
      " 0.001 transit_._tokens_sum_ratio\n",
      " 0.001 transit_VERB\n",
      " 0.001 house_rules_PRT_tokens_sum_ratio\n",
      " 0.001 house_rules_CONJ\n",
      " 0.001 transit-Topic19\n",
      " 0.001 space-Topic6\n",
      " 0.001 interaction-Topic13\n",
      " 0.001 transit_X_tokens_sum_ratio\n",
      " 0.001 ones\n",
      " 0.001 notes_ADP_tokens_sum_ratio\n",
      " 0.001 access_NOUN\n",
      " 0.001 cleaning_fee\n",
      " 0.001 transit_ADJ_tokens_sum_ratio\n",
      " 0.001 neighborhood_overview-Topic9\n",
      " 0.001 interaction-Topic18\n",
      " 0.001 space_ADJ\n",
      " 0.001 interaction_PRON\n",
      " 0.001 neighborhood_overview-Topic14\n",
      " 0.001 interaction_LexicalDiversity\n",
      " 0.001 house_rules-Topic6\n",
      " 0.001 neighborhood_overview_TextWordsPerc\n",
      " 0.001 notes-Topic3\n",
      " 0.001 neighborhood_overview-Topic5\n",
      " 0.001 neighborhood_overview-Topic1\n",
      " 0.001 host_total_listings_count\n",
      " 0.001 neighborhood_overview_CONJ\n",
      " 0.001 space_ADJ_tokens_sum_ratio\n",
      " 0.001 interaction_ADV\n",
      " 0.001 notes_DET\n",
      " 0.001 calendar_updated_enc\n",
      " 0.001 has\"Indoor Fireplace\"\n",
      " 0.001 space_X_tokens_sum_ratio\n",
      " 0.001 access-Topic16\n",
      " 0.001 description_PRT\n",
      " 0.001 has\"Laptop Friendly Workspace\"\n",
      " 0.001 description_NUM_tokens_sum_ratio\n",
      " 0.001 access-Dominant_Topic\n",
      " 0.001 interaction_NUM_tokens_sum_ratio\n",
      " 0.001 interaction_.\n",
      " 0.001 review_scores_checkin\n",
      " 0.001 transit-Topic18\n",
      " 0.001 transit-Topic12\n",
      " 0.001 notes_PRT\n",
      " 0.001 hasEssentials\n",
      " 0.001 interaction_ADJ_tokens_sum_ratio\n",
      " 0.001 access_LexicalDiversity\n",
      " 0.001 neighborhood_overview_DET\n",
      " 0.001 interaction-Topic16\n",
      " 0.001 house_rules_NOUN_tokens_sum_ratio\n",
      " 0.001 house_rules_ADJ\n",
      " 0.001 has\"Suitable for Events\"\n",
      " 0.001 hasKitchen\n",
      " 0.001 description_NOUN_tokens_sum_ratio\n",
      " 0.001 interaction_NUM\n",
      " 0.001 has\"Other pet(s)\"\n",
      " 0.001 house_rules_ADV\n",
      " 0.001 interaction-Dominant_Topic\n",
      " 0.001 description_PRON_tokens_sum_ratio\n",
      " 0.001 interaction_X\n",
      " 0.001 description-Topic4\n",
      " 0.001 notes-Topic5\n",
      " 0.001 space-Topic18\n",
      " 0.001 transit_ADV_tokens_sum_ratio\n",
      " 0.001 neighborhood_overview_NUM\n",
      " 0.001 notes_ADJ_tokens_sum_ratio\n",
      " 0.001 has\"translation missing: en.hosting_amenity_49\"\n",
      " 0.001 id\n",
      " 0.001 interaction_TextLength\n",
      " 0.001 access-Topic1\n",
      " 0.001 access-Topic12\n",
      " 0.001 description_TextWordsPerc\n",
      " 0.001 neighborhood_overview-Topic18\n",
      " 0.001 notes_PRT_tokens_sum_ratio\n",
      " 0.001 notes_CONJ\n",
      " 0.001 access_TextWordsPerc\n",
      " 0.001 access_ADJ_tokens_sum_ratio\n",
      " 0.001 description-Topic16\n",
      " 0.001 neighborhood_overview_ADV_tokens_sum_ratio\n",
      " 0.001 access-Topic7\n",
      " 0.001 neighborhood_overview_VERB_tokens_sum_ratio\n",
      " 0.001 access_VERB_tokens_sum_ratio\n",
      " 0.001 transit_KmeansCluster\n",
      " 0.001 host_acceptance_rate\n",
      " 0.001 has\"Pets Allowed\"\n",
      " 0.001 transit_NUM_tokens_sum_ratio\n",
      " 0.001 notes-Topic10\n",
      " 0.001 neighborhood_overview-Topic12\n",
      " 0.001 space_TextPuncPerc\n",
      " 0.001 neighborhood_overview_TextDigitsPerc\n",
      " 0.001 hasShampoo\n",
      " 0.001 access_X\n",
      " 0.001 house_rules_VERB\n",
      " 0.001 transit_NOUN\n",
      " 0.001 host_listings_count\n",
      " 0.001 access_._tokens_sum_ratio\n",
      " 0.001 description_X_tokens_sum_ratio\n",
      " 0.001 host_response_rate\n",
      " 0.001 notes_KmeansCluster\n",
      " 0.001 neighborhood_overview_VERB\n",
      " 0.001 neighborhood_overview_NUM_tokens_sum_ratio\n",
      " 0.001 house_rules-Topic2\n",
      " 0.001 neighborhood_overview_PRON\n",
      " 0.001 access_TextLength\n",
      " 0.001 house_rules_.\n",
      " 0.001 space_NUM\n",
      " 0.001 description_.\n",
      " 0.001 notes_NUM_tokens_sum_ratio\n",
      " 0.001 transit-Topic17\n",
      " 0.001 access-Topic17\n",
      " 0.001 access-Topic9\n",
      " 0.001 house_rules_LexicalDiversity\n",
      " 0.001 space-Topic2\n",
      " 0.001 jurisdiction_names_enc\n",
      " 0.001 has\"Wireless Internet\"\n",
      " 0.001 neighborhood_overview_DET_tokens_sum_ratio\n",
      " 0.000 access_X_tokens_sum_ratio\n",
      " 0.000 house_rules_NUM\n",
      " 0.000 access-Topic15\n",
      " 0.000 access_PRON\n",
      " 0.000 notes_ADV\n",
      " 0.000 neighborhood_overview-Topic16\n",
      " 0.000 notes_.\n",
      " 0.000 transit_.\n",
      " 0.000 neighborhood_overview-Topic19\n",
      " 0.000 neighborhood_overview-Topic10\n",
      " 0.000 hasInternet\n",
      " 0.000 description-Topic10\n",
      " 0.000 neighborhood_overview-Topic2\n",
      " 0.000 interaction-Topic17\n",
      " 0.000 description-Topic17\n",
      " 0.000 house_rules_TextLength\n",
      " 0.000 description_._tokens_sum_ratio\n",
      " 0.000 description-Topic15\n",
      " 0.000 space-Topic5\n",
      " 0.000 transit_ADP_tokens_sum_ratio\n",
      " 0.000 interaction-Topic3\n",
      " 0.000 space-Topic9\n",
      " 0.000 interaction_CONJ\n",
      " 0.000 interaction-Topic9\n",
      " 0.000 notes-Dominant_Topic\n",
      " 0.000 access_.\n",
      " 0.000 review_scores_value\n",
      " 0.000 access_ADJ\n",
      " 0.000 neighborhood_overview_ADJ_tokens_sum_ratio\n",
      " 0.000 space_X\n",
      " 0.000 description_ADP_tokens_sum_ratio\n",
      " 0.000 notes-Topic7\n",
      " 0.000 interaction_PRT\n",
      " 0.000 has\"Carbon Monoxide Detector\"\n",
      " 0.000 neighborhood_overview_PRT\n",
      " 0.000 neighborhood_overview_ADV\n",
      " 0.000 interaction-Topic19\n",
      " 0.000 has\"Fire Extinguisher\"\n",
      " 0.000 notes-Topic16\n",
      " 0.000 guests_included\n",
      "-0.000 access_NUM_tokens_sum_ratio\n",
      "-0.000 space_NUM_tokens_sum_ratio\n",
      "-0.000 neighborhood_overview_X_tokens_sum_ratio\n",
      "-0.000 house_rules_KmeansCluster\n",
      "-0.000 notes_ADV_tokens_sum_ratio\n",
      "-0.000 interaction_NOUN_tokens_sum_ratio\n",
      "-0.000 description_ADV\n",
      "-0.000 house_rules_ADV_tokens_sum_ratio\n",
      "-0.000 neighborhood_overview-Topic7\n",
      "-0.001 transit-Topic13\n",
      "-0.001 has\"24-Hour Check-in\"\n"
     ]
    }
   ],
   "source": [
    "r2_impact = list()\n",
    "baseline = r2_gbd_est_two_huber(X_train, y_train, X_test, y_test)\n",
    "for j in range(X.shape[1]):\n",
    "    selection = [i for i in range(X.shape[1]) if i!=j]\n",
    "    r2_impact.append((baseline - (r2_gbd_est_two_huber(X_train.values[:,selection], y_train, X_test.values[:,selection], y_test)), X_test.columns[j]))\n",
    "for imp, var in sorted(r2_impact, reverse=True):\n",
    "    print(\"%6.3f %s\" %(imp, var))"
   ]
  },
  {
   "cell_type": "code",
   "execution_count": 47,
   "metadata": {
    "collapsed": true
   },
   "outputs": [],
   "source": [
    "positive_features = []\n",
    "\n",
    "for i, j in r2_impact:\n",
    "    if 0 <= i:\n",
    "        positive_features.append(j)"
   ]
  },
  {
   "cell_type": "code",
   "execution_count": 48,
   "metadata": {},
   "outputs": [
    {
     "data": {
      "text/plain": [
       "['Unnamed: 0',\n",
       " 'access-Dominant_Topic',\n",
       " 'access-Topic0',\n",
       " 'access-Topic1',\n",
       " 'access-Topic12',\n",
       " 'access-Topic13',\n",
       " 'access-Topic14',\n",
       " 'access-Topic15',\n",
       " 'access-Topic16',\n",
       " 'access-Topic17',\n",
       " 'access-Topic18',\n",
       " 'access-Topic3',\n",
       " 'access-Topic4',\n",
       " 'access-Topic5',\n",
       " 'access-Topic6',\n",
       " 'access-Topic7',\n",
       " 'access-Topic9',\n",
       " 'access_.',\n",
       " 'access_._tokens_sum_ratio',\n",
       " 'access_ADJ',\n",
       " 'access_ADJ_tokens_sum_ratio',\n",
       " 'access_ADP',\n",
       " 'access_ADP_tokens_sum_ratio',\n",
       " 'access_ADV',\n",
       " 'access_ADV_tokens_sum_ratio',\n",
       " 'access_CONJ',\n",
       " 'access_CONJ_tokens_sum_ratio',\n",
       " 'access_DET',\n",
       " 'access_DET_tokens_sum_ratio',\n",
       " 'access_KmeansCluster',\n",
       " 'access_LexicalDiversity',\n",
       " 'access_NOUN',\n",
       " 'access_NOUN_tokens_sum_ratio',\n",
       " 'access_NUM',\n",
       " 'access_PRON',\n",
       " 'access_PRON_tokens_sum_ratio',\n",
       " 'access_PRT',\n",
       " 'access_PRT_tokens_sum_ratio',\n",
       " 'access_TextDigitsPerc',\n",
       " 'access_TextLength',\n",
       " 'access_TextPuncPerc',\n",
       " 'access_TextWordsPerc',\n",
       " 'access_VERB',\n",
       " 'access_VERB_tokens_sum_ratio',\n",
       " 'access_X',\n",
       " 'access_X_tokens_sum_ratio',\n",
       " 'accommodates',\n",
       " 'availability_30',\n",
       " 'availability_365',\n",
       " 'availability_60',\n",
       " 'availability_90',\n",
       " 'bathrooms',\n",
       " 'bedrooms',\n",
       " 'beds',\n",
       " 'calculated_host_listings_count',\n",
       " 'cleaning_fee',\n",
       " 'description-Dominant_Topic',\n",
       " 'description-Topic0',\n",
       " 'description-Topic1',\n",
       " 'description-Topic10',\n",
       " 'description-Topic11',\n",
       " 'description-Topic12',\n",
       " 'description-Topic13',\n",
       " 'description-Topic14',\n",
       " 'description-Topic15',\n",
       " 'description-Topic16',\n",
       " 'description-Topic17',\n",
       " 'description-Topic18',\n",
       " 'description-Topic19',\n",
       " 'description-Topic2',\n",
       " 'description-Topic3',\n",
       " 'description-Topic4',\n",
       " 'description-Topic5',\n",
       " 'description-Topic6',\n",
       " 'description-Topic7',\n",
       " 'description-Topic8',\n",
       " 'description-Topic9',\n",
       " 'description_.',\n",
       " 'description_._tokens_sum_ratio',\n",
       " 'description_ADJ',\n",
       " 'description_ADJ_tokens_sum_ratio',\n",
       " 'description_ADP',\n",
       " 'description_ADP_tokens_sum_ratio',\n",
       " 'description_ADV_tokens_sum_ratio',\n",
       " 'description_CONJ',\n",
       " 'description_CONJ_tokens_sum_ratio',\n",
       " 'description_DET',\n",
       " 'description_DET_tokens_sum_ratio',\n",
       " 'description_KmeansCluster',\n",
       " 'description_LexicalDiversity',\n",
       " 'description_NOUN',\n",
       " 'description_NOUN_tokens_sum_ratio',\n",
       " 'description_NUM',\n",
       " 'description_NUM_tokens_sum_ratio',\n",
       " 'description_PRON',\n",
       " 'description_PRON_tokens_sum_ratio',\n",
       " 'description_PRT',\n",
       " 'description_PRT_tokens_sum_ratio',\n",
       " 'description_TextDigitsPerc',\n",
       " 'description_TextLength',\n",
       " 'description_TextPuncPerc',\n",
       " 'description_TextWordsPerc',\n",
       " 'description_VERB',\n",
       " 'description_VERB_tokens_sum_ratio',\n",
       " 'description_X',\n",
       " 'description_X_tokens_sum_ratio',\n",
       " 'extra_people',\n",
       " 'guests_included',\n",
       " 'has',\n",
       " 'has\"Air Conditioning\"',\n",
       " 'has\"Buzzer/Wireless Intercom\"',\n",
       " 'has\"Cable TV\"',\n",
       " 'has\"Carbon Monoxide Detector\"',\n",
       " 'has\"Elevator in Building\"',\n",
       " 'has\"Family/Kid Friendly\"',\n",
       " 'has\"Fire Extinguisher\"',\n",
       " 'has\"First Aid Kit\"',\n",
       " 'has\"Free Parking on Premises\"',\n",
       " 'has\"Hair Dryer\"',\n",
       " 'has\"Hot Tub\"',\n",
       " 'has\"Indoor Fireplace\"',\n",
       " 'has\"Laptop Friendly Workspace\"',\n",
       " 'has\"Lock on Bedroom Door\"',\n",
       " 'has\"Other pet(s)\"',\n",
       " 'has\"Pets Allowed\"',\n",
       " 'has\"Pets live on this property\"',\n",
       " 'has\"Safety Card\"',\n",
       " 'has\"Smoke Detector\"',\n",
       " 'has\"Smoking Allowed\"',\n",
       " 'has\"Suitable for Events\"',\n",
       " 'has\"Wheelchair Accessible\"',\n",
       " 'has\"Wireless Internet\"',\n",
       " 'has\"translation missing: en.hosting_amenity_49\"',\n",
       " 'has\"translation missing: en.hosting_amenity_50\"',\n",
       " 'hasBreakfast',\n",
       " 'hasCat(s)',\n",
       " 'hasDog(s)',\n",
       " 'hasDoorman',\n",
       " 'hasDryer',\n",
       " 'hasEssentials',\n",
       " 'hasGym',\n",
       " 'hasHangers',\n",
       " 'hasHeating',\n",
       " 'hasInternet',\n",
       " 'hasIron',\n",
       " 'hasKitchen',\n",
       " 'hasPool',\n",
       " 'hasShampoo',\n",
       " 'hasTV',\n",
       " 'hasWasher',\n",
       " 'host_acceptance_rate',\n",
       " 'host_id',\n",
       " 'host_listings_count',\n",
       " 'host_response_rate',\n",
       " 'host_total_listings_count',\n",
       " 'house_rules-Topic1',\n",
       " 'house_rules-Topic13',\n",
       " 'house_rules-Topic15',\n",
       " 'house_rules-Topic18',\n",
       " 'house_rules-Topic2',\n",
       " 'house_rules-Topic6',\n",
       " 'house_rules-Topic7',\n",
       " 'house_rules-Topic8',\n",
       " 'house_rules_.',\n",
       " 'house_rules_._tokens_sum_ratio',\n",
       " 'house_rules_ADJ',\n",
       " 'house_rules_ADJ_tokens_sum_ratio',\n",
       " 'house_rules_ADP',\n",
       " 'house_rules_ADP_tokens_sum_ratio',\n",
       " 'house_rules_ADV',\n",
       " 'house_rules_CONJ',\n",
       " 'house_rules_CONJ_tokens_sum_ratio',\n",
       " 'house_rules_DET',\n",
       " 'house_rules_DET_tokens_sum_ratio',\n",
       " 'house_rules_LexicalDiversity',\n",
       " 'house_rules_NOUN',\n",
       " 'house_rules_NOUN_tokens_sum_ratio',\n",
       " 'house_rules_NUM',\n",
       " 'house_rules_NUM_tokens_sum_ratio',\n",
       " 'house_rules_PRON',\n",
       " 'house_rules_PRON_tokens_sum_ratio',\n",
       " 'house_rules_PRT',\n",
       " 'house_rules_PRT_tokens_sum_ratio',\n",
       " 'house_rules_TextDigitsPerc',\n",
       " 'house_rules_TextLength',\n",
       " 'house_rules_TextPuncPerc',\n",
       " 'house_rules_TextWordsPerc',\n",
       " 'house_rules_VERB',\n",
       " 'house_rules_VERB_tokens_sum_ratio',\n",
       " 'house_rules_X',\n",
       " 'house_rules_X_tokens_sum_ratio',\n",
       " 'id',\n",
       " 'interaction-Dominant_Topic',\n",
       " 'interaction-Topic10',\n",
       " 'interaction-Topic13',\n",
       " 'interaction-Topic15',\n",
       " 'interaction-Topic16',\n",
       " 'interaction-Topic17',\n",
       " 'interaction-Topic18',\n",
       " 'interaction-Topic19',\n",
       " 'interaction-Topic2',\n",
       " 'interaction-Topic3',\n",
       " 'interaction-Topic7',\n",
       " 'interaction-Topic8',\n",
       " 'interaction-Topic9',\n",
       " 'interaction_.',\n",
       " 'interaction_._tokens_sum_ratio',\n",
       " 'interaction_ADJ',\n",
       " 'interaction_ADJ_tokens_sum_ratio',\n",
       " 'interaction_ADP',\n",
       " 'interaction_ADP_tokens_sum_ratio',\n",
       " 'interaction_ADV',\n",
       " 'interaction_ADV_tokens_sum_ratio',\n",
       " 'interaction_CONJ',\n",
       " 'interaction_CONJ_tokens_sum_ratio',\n",
       " 'interaction_DET',\n",
       " 'interaction_DET_tokens_sum_ratio',\n",
       " 'interaction_KmeansCluster',\n",
       " 'interaction_LexicalDiversity',\n",
       " 'interaction_NOUN',\n",
       " 'interaction_NUM',\n",
       " 'interaction_NUM_tokens_sum_ratio',\n",
       " 'interaction_PRON',\n",
       " 'interaction_PRON_tokens_sum_ratio',\n",
       " 'interaction_PRT',\n",
       " 'interaction_PRT_tokens_sum_ratio',\n",
       " 'interaction_TextDigitsPerc',\n",
       " 'interaction_TextLength',\n",
       " 'interaction_TextPuncPerc',\n",
       " 'interaction_TextWordsPerc',\n",
       " 'interaction_VERB',\n",
       " 'interaction_VERB_tokens_sum_ratio',\n",
       " 'interaction_X',\n",
       " 'interaction_X_tokens_sum_ratio',\n",
       " 'latitude',\n",
       " 'listing_id',\n",
       " 'longitude',\n",
       " 'maximum_nights',\n",
       " 'minimum_nights',\n",
       " 'neighborhood_overview-Dominant_Topic',\n",
       " 'neighborhood_overview-Topic0',\n",
       " 'neighborhood_overview-Topic1',\n",
       " 'neighborhood_overview-Topic10',\n",
       " 'neighborhood_overview-Topic11',\n",
       " 'neighborhood_overview-Topic12',\n",
       " 'neighborhood_overview-Topic13',\n",
       " 'neighborhood_overview-Topic14',\n",
       " 'neighborhood_overview-Topic15',\n",
       " 'neighborhood_overview-Topic16',\n",
       " 'neighborhood_overview-Topic17',\n",
       " 'neighborhood_overview-Topic18',\n",
       " 'neighborhood_overview-Topic19',\n",
       " 'neighborhood_overview-Topic2',\n",
       " 'neighborhood_overview-Topic3',\n",
       " 'neighborhood_overview-Topic4',\n",
       " 'neighborhood_overview-Topic5',\n",
       " 'neighborhood_overview-Topic6',\n",
       " 'neighborhood_overview-Topic8',\n",
       " 'neighborhood_overview-Topic9',\n",
       " 'neighborhood_overview_.',\n",
       " 'neighborhood_overview_._tokens_sum_ratio',\n",
       " 'neighborhood_overview_ADJ',\n",
       " 'neighborhood_overview_ADJ_tokens_sum_ratio',\n",
       " 'neighborhood_overview_ADP',\n",
       " 'neighborhood_overview_ADP_tokens_sum_ratio',\n",
       " 'neighborhood_overview_ADV',\n",
       " 'neighborhood_overview_ADV_tokens_sum_ratio',\n",
       " 'neighborhood_overview_CONJ',\n",
       " 'neighborhood_overview_CONJ_tokens_sum_ratio',\n",
       " 'neighborhood_overview_DET',\n",
       " 'neighborhood_overview_DET_tokens_sum_ratio',\n",
       " 'neighborhood_overview_KmeansCluster',\n",
       " 'neighborhood_overview_LexicalDiversity',\n",
       " 'neighborhood_overview_NOUN',\n",
       " 'neighborhood_overview_NOUN_tokens_sum_ratio',\n",
       " 'neighborhood_overview_NUM',\n",
       " 'neighborhood_overview_NUM_tokens_sum_ratio',\n",
       " 'neighborhood_overview_PRON',\n",
       " 'neighborhood_overview_PRON_tokens_sum_ratio',\n",
       " 'neighborhood_overview_PRT',\n",
       " 'neighborhood_overview_PRT_tokens_sum_ratio',\n",
       " 'neighborhood_overview_TextDigitsPerc',\n",
       " 'neighborhood_overview_TextLength',\n",
       " 'neighborhood_overview_TextPuncPerc',\n",
       " 'neighborhood_overview_TextWordsPerc',\n",
       " 'neighborhood_overview_VERB',\n",
       " 'neighborhood_overview_VERB_tokens_sum_ratio',\n",
       " 'neighborhood_overview_X',\n",
       " 'notes-Dominant_Topic',\n",
       " 'notes-Topic0',\n",
       " 'notes-Topic1',\n",
       " 'notes-Topic10',\n",
       " 'notes-Topic11',\n",
       " 'notes-Topic12',\n",
       " 'notes-Topic13',\n",
       " 'notes-Topic14',\n",
       " 'notes-Topic15',\n",
       " 'notes-Topic16',\n",
       " 'notes-Topic17',\n",
       " 'notes-Topic18',\n",
       " 'notes-Topic19',\n",
       " 'notes-Topic2',\n",
       " 'notes-Topic3',\n",
       " 'notes-Topic4',\n",
       " 'notes-Topic5',\n",
       " 'notes-Topic6',\n",
       " 'notes-Topic7',\n",
       " 'notes-Topic8',\n",
       " 'notes-Topic9',\n",
       " 'notes_.',\n",
       " 'notes_._tokens_sum_ratio',\n",
       " 'notes_ADJ',\n",
       " 'notes_ADJ_tokens_sum_ratio',\n",
       " 'notes_ADP',\n",
       " 'notes_ADP_tokens_sum_ratio',\n",
       " 'notes_ADV',\n",
       " 'notes_CONJ',\n",
       " 'notes_CONJ_tokens_sum_ratio',\n",
       " 'notes_DET',\n",
       " 'notes_DET_tokens_sum_ratio',\n",
       " 'notes_KmeansCluster',\n",
       " 'notes_LexicalDiversity',\n",
       " 'notes_NOUN',\n",
       " 'notes_NOUN_tokens_sum_ratio',\n",
       " 'notes_NUM',\n",
       " 'notes_NUM_tokens_sum_ratio',\n",
       " 'notes_PRON',\n",
       " 'notes_PRON_tokens_sum_ratio',\n",
       " 'notes_PRT',\n",
       " 'notes_PRT_tokens_sum_ratio',\n",
       " 'notes_TextDigitsPerc',\n",
       " 'notes_TextLength',\n",
       " 'notes_TextPuncPerc',\n",
       " 'notes_TextWordsPerc',\n",
       " 'notes_VERB',\n",
       " 'notes_VERB_tokens_sum_ratio',\n",
       " 'notes_X',\n",
       " 'notes_X_tokens_sum_ratio',\n",
       " 'number_of_reviews',\n",
       " 'review_scores_accuracy',\n",
       " 'review_scores_checkin',\n",
       " 'review_scores_cleanliness',\n",
       " 'review_scores_communication',\n",
       " 'review_scores_location',\n",
       " 'review_scores_rating',\n",
       " 'review_scores_value',\n",
       " 'reviews_per_month',\n",
       " 'scrape_id',\n",
       " 'security_deposit',\n",
       " 'space-Dominant_Topic',\n",
       " 'space-Topic0',\n",
       " 'space-Topic1',\n",
       " 'space-Topic10',\n",
       " 'space-Topic11',\n",
       " 'space-Topic12',\n",
       " 'space-Topic13',\n",
       " 'space-Topic14',\n",
       " 'space-Topic15',\n",
       " 'space-Topic16',\n",
       " 'space-Topic17',\n",
       " 'space-Topic18',\n",
       " 'space-Topic19',\n",
       " 'space-Topic2',\n",
       " 'space-Topic3',\n",
       " 'space-Topic4',\n",
       " 'space-Topic5',\n",
       " 'space-Topic6',\n",
       " 'space-Topic7',\n",
       " 'space-Topic8',\n",
       " 'space-Topic9',\n",
       " 'space_.',\n",
       " 'space_._tokens_sum_ratio',\n",
       " 'space_ADJ',\n",
       " 'space_ADJ_tokens_sum_ratio',\n",
       " 'space_ADP',\n",
       " 'space_ADP_tokens_sum_ratio',\n",
       " 'space_ADV',\n",
       " 'space_CONJ',\n",
       " 'space_CONJ_tokens_sum_ratio',\n",
       " 'space_DET',\n",
       " 'space_DET_tokens_sum_ratio',\n",
       " 'space_KmeansCluster',\n",
       " 'space_LexicalDiversity',\n",
       " 'space_NOUN',\n",
       " 'space_NOUN_tokens_sum_ratio',\n",
       " 'space_NUM',\n",
       " 'space_PRON',\n",
       " 'space_PRON_tokens_sum_ratio',\n",
       " 'space_PRT',\n",
       " 'space_PRT_tokens_sum_ratio',\n",
       " 'space_TextDigitsPerc',\n",
       " 'space_TextLength',\n",
       " 'space_TextPuncPerc',\n",
       " 'space_TextWordsPerc',\n",
       " 'space_VERB',\n",
       " 'space_VERB_tokens_sum_ratio',\n",
       " 'space_X',\n",
       " 'space_X_tokens_sum_ratio',\n",
       " 'transit-Dominant_Topic',\n",
       " 'transit-Topic10',\n",
       " 'transit-Topic11',\n",
       " 'transit-Topic12',\n",
       " 'transit-Topic14',\n",
       " 'transit-Topic15',\n",
       " 'transit-Topic16',\n",
       " 'transit-Topic17',\n",
       " 'transit-Topic18',\n",
       " 'transit-Topic19',\n",
       " 'transit-Topic5',\n",
       " 'transit-Topic6',\n",
       " 'transit-Topic7',\n",
       " 'transit-Topic8',\n",
       " 'transit-Topic9',\n",
       " 'transit_.',\n",
       " 'transit_._tokens_sum_ratio',\n",
       " 'transit_ADJ',\n",
       " 'transit_ADJ_tokens_sum_ratio',\n",
       " 'transit_ADP',\n",
       " 'transit_ADP_tokens_sum_ratio',\n",
       " 'transit_ADV',\n",
       " 'transit_ADV_tokens_sum_ratio',\n",
       " 'transit_CONJ',\n",
       " 'transit_CONJ_tokens_sum_ratio',\n",
       " 'transit_DET',\n",
       " 'transit_DET_tokens_sum_ratio',\n",
       " 'transit_KmeansCluster',\n",
       " 'transit_LexicalDiversity',\n",
       " 'transit_NOUN',\n",
       " 'transit_NOUN_tokens_sum_ratio',\n",
       " 'transit_NUM',\n",
       " 'transit_NUM_tokens_sum_ratio',\n",
       " 'transit_PRON',\n",
       " 'transit_PRON_tokens_sum_ratio',\n",
       " 'transit_PRT',\n",
       " 'transit_PRT_tokens_sum_ratio',\n",
       " 'transit_TextDigitsPerc',\n",
       " 'transit_TextLength',\n",
       " 'transit_TextPuncPerc',\n",
       " 'transit_TextWordsPerc',\n",
       " 'transit_VERB',\n",
       " 'transit_VERB_tokens_sum_ratio',\n",
       " 'transit_X',\n",
       " 'transit_X_tokens_sum_ratio',\n",
       " 'ones',\n",
       " 'host_resp_time_enc',\n",
       " 'calendar_updated_enc',\n",
       " 'bed_type_enc',\n",
       " 'jurisdiction_names_enc',\n",
       " 'zipcode_enc']"
      ]
     },
     "execution_count": 48,
     "metadata": {},
     "output_type": "execute_result"
    }
   ],
   "source": [
    "positive_features"
   ]
  },
  {
   "cell_type": "markdown",
   "metadata": {},
   "source": [
    "### Model 27"
   ]
  },
  {
   "cell_type": "code",
   "execution_count": 50,
   "metadata": {
    "collapsed": true
   },
   "outputs": [],
   "source": [
    "X_train, X_test, y_train, y_test = train_test_split(X[positive_features], target, test_size=.30, random_state=1)\n",
    "X_train_two, X_val, y_train_two, y_val = train_test_split(X_train, y_train, test_size=.30, random_state=1)"
   ]
  },
  {
   "cell_type": "code",
   "execution_count": 51,
   "metadata": {},
   "outputs": [
    {
     "name": "stdout",
     "output_type": "stream",
     "text": [
      "The R2 for validation is 0.662153352432\n",
      "The mean squared error for validation is 9341.36520829\n",
      "The mean absolute error for validation is 60.3173702509\n",
      "The R2 is 0.680305440026\n",
      "The mean squared error is 8028.41885368\n",
      "The mean absolute error for test is 55.1676716727\n"
     ]
    }
   ],
   "source": [
    "gbd = GradientBoostingRegressor(loss = 'huber', learning_rate = .1)\n",
    "gbd.fit(X_train_two, y_train_two)\n",
    "b = gbd.predict(X_val)\n",
    "print('The R2 for validation is ' + str(gbd.score(X_val, y_val)))\n",
    "print('The mean squared error for validation is ' + str(mean_squared_error(b, y_val)))\n",
    "print('The mean absolute error for validation is ' + str(mean_absolute_error(b, y_val)))\n",
    "gbd.fit(X_train, y_train)\n",
    "b = gbd.predict(X_test)\n",
    "print('The R2 is ' + str(gbd.score(X_test, y_test)))\n",
    "print('The mean squared error is ' + str(mean_squared_error(b, y_test)))\n",
    "print('The mean absolute error for test is ' + str(mean_absolute_error(b, y_test)))"
   ]
  },
  {
   "cell_type": "code",
   "execution_count": 52,
   "metadata": {
    "scrolled": false
   },
   "outputs": [
    {
     "name": "stdout",
     "output_type": "stream",
     "text": [
      "The R2 for validation is 0.625548293778\n",
      "The mean squared error for validation is 10353.4848307\n",
      "The mean absolute error for validation is 60.7383976486\n",
      "The R2 is 0.645552758863\n",
      "The mean squared error is 8901.15525774\n",
      "The mean absolute error for test is 55.4480705993\n",
      "The R2 for validation is 0.6610888178\n",
      "The mean squared error for validation is 9370.79929279\n",
      "The mean absolute error for validation is 60.4150319764\n",
      "The R2 is 0.679467022025\n",
      "The mean squared error is 8049.4738597\n",
      "The mean absolute error for test is 55.2322929137\n",
      "The R2 for validation is 0.664721093756\n",
      "The mean squared error for validation is 9270.36787964\n",
      "The mean absolute error for validation is 61.6880173456\n",
      "The R2 is 0.689588115708\n",
      "The mean squared error is 7795.30507014\n",
      "The mean absolute error for test is 56.488743237\n"
     ]
    }
   ],
   "source": [
    "for w in {'ls', 'lad', 'huber'}:\n",
    "    gbd = GradientBoostingRegressor(loss = w, learning_rate = .1)\n",
    "    gbd.fit(X_train_two, y_train_two)\n",
    "    b = gbd.predict(X_val)\n",
    "    print('The R2 for validation is ' + str(gbd.score(X_val, y_val)))\n",
    "    print('The mean squared error for validation is ' + str(mean_squared_error(b, y_val)))\n",
    "    print('The mean absolute error for validation is ' + str(mean_absolute_error(b, y_val)))\n",
    "    gbd.fit(X_train, y_train)\n",
    "    b = gbd.predict(X_test)\n",
    "    print('The R2 is ' + str(gbd.score(X_test, y_test)))\n",
    "    print('The mean squared error is ' + str(mean_squared_error(b, y_test)))\n",
    "    print('The mean absolute error for test is ' + str(mean_absolute_error(b, y_test)))"
   ]
  },
  {
   "cell_type": "code",
   "execution_count": 59,
   "metadata": {},
   "outputs": [
    {
     "data": {
      "text/plain": [
       "Index([u'Unnamed: 0', u'house_rules-Topic0', u'house_rules-Topic3',\n",
       "       u'house_rules-Topic4', u'house_rules-Topic5', u'house_rules-Topic9',\n",
       "       u'house_rules-Topic10', u'house_rules-Topic11', u'house_rules-Topic12',\n",
       "       u'house_rules-Topic14', u'house_rules-Topic16', u'house_rules-Topic17',\n",
       "       u'house_rules-Topic19', u'house_rules-Dominant_Topic',\n",
       "       u'interaction-Topic0', u'interaction-Topic1', u'interaction-Topic4',\n",
       "       u'interaction-Topic5', u'interaction-Topic6', u'interaction-Topic11',\n",
       "       u'interaction-Topic12', u'interaction-Topic14', u'access-Topic2',\n",
       "       u'access-Topic8', u'access-Topic10', u'access-Topic11',\n",
       "       u'access-Topic19', u'transit-Topic0', u'transit-Topic1',\n",
       "       u'transit-Topic2', u'transit-Topic3', u'transit-Topic4', u'listing_url',\n",
       "       u'last_scraped', u'name', u'summary', u'space', u'description',\n",
       "       u'experiences_offered', u'neighborhood_overview', u'notes', u'transit',\n",
       "       u'access', u'interaction', u'house_rules', u'thumbnail_url',\n",
       "       u'medium_url', u'picture_url', u'xl_picture_url', u'host_url',\n",
       "       u'host_name', u'host_since', u'host_location', u'host_about',\n",
       "       u'host_response_time', u'host_is_superhost', u'host_thumbnail_url',\n",
       "       u'host_picture_url', u'host_neighbourhood', u'host_verifications',\n",
       "       u'host_has_profile_pic', u'host_identity_verified', u'street',\n",
       "       u'neighbourhood', u'neighbourhood_cleansed', u'city', u'state',\n",
       "       u'market', u'smart_location', u'country_code', u'country',\n",
       "       u'is_location_exact', u'property_type', u'room_type', u'bed_type',\n",
       "       u'amenities', u'price_x', u'calendar_updated', u'calendar_last_scraped',\n",
       "       u'first_review', u'last_review', u'requires_license',\n",
       "       u'jurisdiction_names', u'instant_bookable', u'cancellation_policy',\n",
       "       u'require_guest_profile_picture', u'require_guest_phone_verification',\n",
       "       u'space_ADV_tokens_sum_ratio', u'amenities_set'],\n",
       "      dtype='object')"
      ]
     },
     "execution_count": 59,
     "metadata": {},
     "output_type": "execute_result"
    }
   ],
   "source": [
    "pd.read_csv('listings_augmented_2018-04-29_V1.csv', low_memory=False).select_dtypes(['object']).columns"
   ]
  },
  {
   "cell_type": "code",
   "execution_count": 60,
   "metadata": {},
   "outputs": [
    {
     "data": {
      "text/plain": [
       "Index([u'notes-Dominant_Topic'], dtype='object')"
      ]
     },
     "execution_count": 60,
     "metadata": {},
     "output_type": "execute_result"
    }
   ],
   "source": [
    "pd.read_csv('listings_augmented_2018-04-29_V1.csv', low_memory=False).select_dtypes(['int64']).columns"
   ]
  },
  {
   "cell_type": "code",
   "execution_count": 61,
   "metadata": {},
   "outputs": [
    {
     "data": {
      "text/plain": [
       "Index([u'house_rules-Topic1', u'house_rules-Topic2', u'house_rules-Topic6',\n",
       "       u'house_rules-Topic7', u'house_rules-Topic8', u'house_rules-Topic13',\n",
       "       u'house_rules-Topic15', u'house_rules-Topic18', u'interaction-Topic2',\n",
       "       u'interaction-Topic3',\n",
       "       ...\n",
       "       u'has\"Wheelchair Accessible\"', u'has\"First Aid Kit\"', u'hasDog(s)',\n",
       "       u'has\"Wireless Internet\"', u'has\"Cable TV\"', u'hasPool',\n",
       "       u'hasBreakfast', u'hasDoorman', u'has\"Lock on Bedroom Door\"',\n",
       "       u'has\"24-Hour Check-in\"'],\n",
       "      dtype='object', length=460)"
      ]
     },
     "execution_count": 61,
     "metadata": {},
     "output_type": "execute_result"
    }
   ],
   "source": [
    "pd.read_csv('listings_augmented_2018-04-29_V1.csv', low_memory=False).select_dtypes(['float64']).columns"
   ]
  },
  {
   "cell_type": "code",
   "execution_count": 62,
   "metadata": {},
   "outputs": [
    {
     "data": {
      "text/plain": [
       "89"
      ]
     },
     "execution_count": 62,
     "metadata": {},
     "output_type": "execute_result"
    }
   ],
   "source": [
    "len(pd.read_csv('listings_augmented_2018-04-29_V1.csv', low_memory=False).select_dtypes(['object']).columns)"
   ]
  },
  {
   "cell_type": "code",
   "execution_count": 63,
   "metadata": {
    "scrolled": true
   },
   "outputs": [
    {
     "name": "stdout",
     "output_type": "stream",
     "text": [
      "house_rules-Dominant_Topic\n",
      "interaction-Dominant_Topic\n",
      "access-Dominant_Topic\n",
      "transit-Dominant_Topic\n",
      "notes-Dominant_Topic\n",
      "neighborhood_overview-Dominant_Topic\n",
      "description-Dominant_Topic\n",
      "space-Dominant_Topic\n"
     ]
    }
   ],
   "source": [
    "for w in pd.read_csv('listings_augmented_2018-04-29_V1.csv', low_memory=False).columns:\n",
    "    if 'Dominant_Topic' in w:\n",
    "        print(w)"
   ]
  },
  {
   "cell_type": "code",
   "execution_count": 65,
   "metadata": {},
   "outputs": [
    {
     "name": "stdout",
     "output_type": "stream",
     "text": [
      "False\n",
      "True\n",
      "True\n",
      "True\n",
      "True\n",
      "True\n",
      "True\n"
     ]
    }
   ],
   "source": [
    "for w in ['use_rules-Dominant_Topic', 'interaction-Dominant_Topic', 'access-Dominant_Topic', 'access-Dominant_Topic', \\\n",
    "'neighborhood_overview-Dominant_Topic', 'description-Dominant_Topic', 'space-Dominant_Topic']:\n",
    "    print (w in pd.read_csv('listings_augmented_2018-04-29_V1.csv', low_memory=False).select_dtypes(['float64']).columns)"
   ]
  },
  {
   "cell_type": "code",
   "execution_count": null,
   "metadata": {
    "collapsed": true
   },
   "outputs": [],
   "source": [
    "create_interactions = PolynomialFeatures(degree=2, interaction_only=True, include_bias=False)\n",
    "Xi_train = create_interactions.fit_transform(X_train)\n",
    "Xi_test = create_interactions.fit_transform(X_test)\n",
    "main_effects = create_interactions.n_input_features_\n",
    "baseline_test = r2_gbd_est_two_huber(Xi_train, y_train, Xi_test, y_test)\n",
    "#Now calculating the interactions:\n",
    "for k, effect in enumerate(create_interactions.powers_[(main_effects):]):\n",
    "    A, B = X_test.columns[effect==1]\n",
    "    increment = r2_gbd_est_two_huber(Xi_train[:,list(range(0,main_effects))+[main_effects+k]], y_train, Xi_train[:,list(range(0,main_effects))+[main_effects+k]], y_test) - baseline_test\n",
    "    if increment > 0.01:\n",
    "        print (\"Interaction: var %8s and var %8s R2: %5.3f\" %(A,B,increment))"
   ]
  },
  {
   "cell_type": "code",
   "execution_count": null,
   "metadata": {
    "collapsed": true
   },
   "outputs": [],
   "source": []
  }
 ],
 "metadata": {
  "kernelspec": {
   "display_name": "Python [conda env:py27]",
   "language": "python",
   "name": "conda-env-py27-py"
  },
  "language_info": {
   "codemirror_mode": {
    "name": "ipython",
    "version": 2
   },
   "file_extension": ".py",
   "mimetype": "text/x-python",
   "name": "python",
   "nbconvert_exporter": "python",
   "pygments_lexer": "ipython2",
   "version": "2.7.12"
  }
 },
 "nbformat": 4,
 "nbformat_minor": 2
}
