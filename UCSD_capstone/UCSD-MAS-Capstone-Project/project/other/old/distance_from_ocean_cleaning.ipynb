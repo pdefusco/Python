{
 "cells": [
  {
   "cell_type": "code",
   "execution_count": 1,
   "metadata": {
    "collapsed": true
   },
   "outputs": [],
   "source": [
    "import json\n",
    "from StringIO import StringIO\n",
    "import pandas as pd"
   ]
  },
  {
   "cell_type": "code",
   "execution_count": 6,
   "metadata": {
    "collapsed": true
   },
   "outputs": [],
   "source": [
    "import numpy as np\n",
    "from sklearn.pipeline import Pipeline\n",
    "from sklearn.decomposition import LatentDirichletAllocation\n",
    "from sklearn.feature_extraction.text import CountVectorizer"
   ]
  },
  {
   "cell_type": "code",
   "execution_count": 2,
   "metadata": {
    "collapsed": true
   },
   "outputs": [],
   "source": [
    "listings_original = pd.read_csv('Datasources/inside_airbnb/listings.csv')\n",
    "calendar_original = pd.read_csv('Datasources/inside_airbnb/calendar.csv')"
   ]
  },
  {
   "cell_type": "code",
   "execution_count": 3,
   "metadata": {
    "collapsed": true
   },
   "outputs": [],
   "source": [
    "def parse_columns(listings, cols):\n",
    "    chars = \"%$\"\n",
    "    for i in cols:\n",
    "        listings[i].astype(str).map(lambda x: x.rstrip(chars))\n",
    "        listings[i] = listings[i].apply(pd.to_numeric, errors='coerce')\n",
    "        listings[i].replace(regex=True,inplace=True,to_replace=r'\\D',value=r'')\n",
    "    return listings  "
   ]
  },
  {
   "cell_type": "code",
   "execution_count": 4,
   "metadata": {
    "collapsed": true
   },
   "outputs": [],
   "source": [
    "listings = parse_columns(listings_original, ['host_response_rate', 'cleaning_fee',\\\n",
    "                                     'host_acceptance_rate','extra_people',\\\n",
    "                                     'weekly_price', 'monthly_price', 'security_deposit'])"
   ]
  },
  {
   "cell_type": "code",
   "execution_count": 9,
   "metadata": {},
   "outputs": [
    {
     "name": "stderr",
     "output_type": "stream",
     "text": [
      "C:\\Users\\sanka\\Anaconda2\\envs\\py27\\lib\\site-packages\\ipykernel\\__main__.py:12: SettingWithCopyWarning: \n",
      "A value is trying to be set on a copy of a slice from a DataFrame\n",
      "\n",
      "See the caveats in the documentation: http://pandas.pydata.org/pandas-docs/stable/indexing.html#indexing-view-versus-copy\n"
     ]
    }
   ],
   "source": [
    "listings['distance_from_ocean'] = 0\n",
    "listings['distance_from_ocean'] = listings['distance_from_ocean'].astype('float')\n",
    "    \n",
    "for w in listings.index:\n",
    "    p = float(listings['latitude'][w])\n",
    "    q = float(listings['longitude'][w])\n",
    "    lon_diff = (q + 117.235585)*np.pi/180\n",
    "    lat_diff = (p - 32.802458)*np.pi/180\n",
    "    a = np.sin(lat_diff/2)**2 + np.cos(p*np.pi/180)*np.cos(32.802458*np.pi/180)*(np.sin(lon_diff/2)**2)\n",
    "    c = np.arctan2(np.sqrt(a), np.sqrt(1 - a))\n",
    "    d = 6371.00*float(c)\n",
    "    listings['distance_from_ocean'][w] = d"
   ]
  },
  {
   "cell_type": "code",
   "execution_count": 10,
   "metadata": {},
   "outputs": [
    {
     "data": {
      "text/plain": [
       "0       16.428822\n",
       "1       14.680150\n",
       "2       14.615847\n",
       "3       16.117698\n",
       "4       16.590429\n",
       "5       16.591702\n",
       "6       16.806100\n",
       "7       16.754990\n",
       "8       16.785644\n",
       "9       15.937859\n",
       "10      15.690154\n",
       "11      16.167408\n",
       "12      16.075261\n",
       "13      16.162247\n",
       "14      13.746722\n",
       "15      13.722925\n",
       "16      13.798799\n",
       "17      13.389211\n",
       "18      13.728835\n",
       "19      14.822134\n",
       "20      16.671896\n",
       "21      16.269556\n",
       "22      14.783864\n",
       "23      15.103421\n",
       "24      16.611282\n",
       "25      14.867815\n",
       "26      16.116383\n",
       "27      14.748924\n",
       "28      15.687380\n",
       "29      15.091123\n",
       "          ...    \n",
       "6578     8.273928\n",
       "6579     9.149486\n",
       "6580     9.931912\n",
       "6581    10.233495\n",
       "6582    11.654730\n",
       "6583    15.976335\n",
       "6584    10.408165\n",
       "6585     2.886872\n",
       "6586     2.168124\n",
       "6587    10.344644\n",
       "6588    13.607347\n",
       "6589    16.010018\n",
       "6590     4.627291\n",
       "6591     1.178504\n",
       "6592     8.324562\n",
       "6593    11.686941\n",
       "6594     9.900131\n",
       "6595    18.063823\n",
       "6596     8.658302\n",
       "6597    12.858196\n",
       "6598    11.899211\n",
       "6599     9.192316\n",
       "6600    11.076149\n",
       "6601     8.097011\n",
       "6602    16.032397\n",
       "6603     8.247458\n",
       "6604    10.235705\n",
       "6605     9.895514\n",
       "6606    10.215875\n",
       "6607     9.954144\n",
       "Name: distance_from_ocean, dtype: float64"
      ]
     },
     "execution_count": 10,
     "metadata": {},
     "output_type": "execute_result"
    }
   ],
   "source": [
    "listings['distance_from_ocean']"
   ]
  },
  {
   "cell_type": "code",
   "execution_count": null,
   "metadata": {
    "collapsed": true
   },
   "outputs": [],
   "source": []
  }
 ],
 "metadata": {
  "anaconda-cloud": {},
  "kernelspec": {
   "display_name": "Python [conda env:py27]",
   "language": "python",
   "name": "conda-env-py27-py"
  },
  "language_info": {
   "codemirror_mode": {
    "name": "ipython",
    "version": 2
   },
   "file_extension": ".py",
   "mimetype": "text/x-python",
   "name": "python",
   "nbconvert_exporter": "python",
   "pygments_lexer": "ipython2",
   "version": "2.7.12"
  }
 },
 "nbformat": 4,
 "nbformat_minor": 2
}
