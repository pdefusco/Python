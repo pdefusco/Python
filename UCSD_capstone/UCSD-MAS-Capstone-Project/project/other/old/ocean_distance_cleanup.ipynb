{
 "cells": [
  {
   "cell_type": "code",
   "execution_count": 1,
   "metadata": {
    "collapsed": true
   },
   "outputs": [],
   "source": [
    "import pandas as pd\n",
    "import numpy as np\n",
    "import scipy.stats as stats\n",
    "import statsmodels.api as sm\n",
    "import statsmodels.formula.api as smf\n",
    "import statsmodels.stats.api as sms\n",
    "from __future__ import print_function\n",
    "from statsmodels.compat import lzip\n",
    "import matplotlib.pyplot as plt\n",
    "import numpy as np\n",
    "import sklearn as sk\n",
    "from sklearn.linear_model import LinearRegression"
   ]
  },
  {
   "cell_type": "code",
   "execution_count": 2,
   "metadata": {
    "collapsed": true
   },
   "outputs": [],
   "source": [
    "from statsmodels.graphics.regressionplots import plot_fit\n",
    "from statsmodels.graphics.regressionplots import plot_leverage_resid2\n",
    "from statsmodels.graphics.regressionplots import plot_regress_exog\n",
    "from sklearn import linear_model\n",
    "from sklearn.preprocessing import PolynomialFeatures\n",
    "from sklearn.pipeline import make_pipeline\n",
    "from sklearn.linear_model import Ridge\n",
    "from pandas.tseries.holiday import USFederalHolidayCalendar as calendar\n",
    "import statsmodels.api as sm\n",
    "import statsmodels.formula.api as smf\n",
    "from sklearn.preprocessing import StandardScaler\n",
    "from sklearn import linear_model\n",
    "from sklearn.pipeline import make_pipeline"
   ]
  },
  {
   "cell_type": "code",
   "execution_count": 3,
   "metadata": {
    "collapsed": true
   },
   "outputs": [],
   "source": [
    "from sklearn.metrics import r2_score, mean_squared_error\n",
    "linear_regression = linear_model.LinearRegression(normalize=False, fit_intercept=True)\n",
    "def r2_est(X,y):\n",
    "    return r2_score(y, linear_regression.fit(X,y).predict(X))\n",
    "def r2_est_two(X,y, X_new, y_new):\n",
    "    return r2_score(y_new, linear_regression.fit(X,y).predict(X_new))"
   ]
  },
  {
   "cell_type": "code",
   "execution_count": 4,
   "metadata": {
    "collapsed": true
   },
   "outputs": [],
   "source": [
    "from sklearn.preprocessing import LabelEncoder, LabelBinarizer\n",
    "from sklearn.decomposition import PCA\n",
    "from sklearn.metrics import mean_absolute_error\n",
    "from sklearn.preprocessing import MinMaxScaler\n",
    "from sklearn.cross_validation import cross_val_score, KFold, StratifiedKFold\n",
    "from sklearn.metrics import make_scorer\n",
    "from sklearn.preprocessing import PolynomialFeatures\n",
    "from sklearn.feature_selection import RFECV\n",
    "from sklearn.cross_validation import KFold\n",
    "from sklearn.cross_validation import train_test_split\n",
    "from sklearn.linear_model import Lasso\n",
    "from sklearn.grid_search import RandomizedSearchCV\n",
    "from scipy.stats import expon"
   ]
  },
  {
   "cell_type": "code",
   "execution_count": 5,
   "metadata": {
    "collapsed": true
   },
   "outputs": [],
   "source": [
    "from sklearn.preprocessing import LabelEncoder, LabelBinarizer\n",
    "label_enc = LabelEncoder()\n",
    "label_bin = LabelBinarizer()"
   ]
  },
  {
   "cell_type": "code",
   "execution_count": 6,
   "metadata": {
    "collapsed": true
   },
   "outputs": [],
   "source": [
    "lasso_regression = linear_model.LassoLars(normalize=False, fit_intercept=True)\n",
    "def r2_lasso_est_two(X,y, X_new, y_new):\n",
    "    return r2_score(y_new, lasso_regression.fit(X,y).predict(X_new))"
   ]
  },
  {
   "cell_type": "code",
   "execution_count": 7,
   "metadata": {
    "collapsed": true
   },
   "outputs": [],
   "source": [
    "ridge_regression = linear_model.Ridge(normalize=False, fit_intercept=True)\n",
    "def r2_ridge_est_two(X,y, X_new, y_new):\n",
    "    return r2_score(y_new, ridge_regression.fit(X,y).predict(X_new))"
   ]
  },
  {
   "cell_type": "code",
   "execution_count": 8,
   "metadata": {
    "collapsed": true
   },
   "outputs": [],
   "source": [
    "def r2_gbd_est_two(X,y, X_new, y_new, loss_, _rate):\n",
    "    gbd = GradientBoostingRegressor(loss = loss_, learning_rate = _rate)\n",
    "    gbd.fit(X,y)\n",
    "    return gbd.score(X_new, y_new)\n",
    "\n",
    "def r2_gbd_est_two_huber(X,y, X_new, y_new):\n",
    "    return r2_gbd_est_two(X,y, X_new, y_new, 'huber', .1)"
   ]
  },
  {
   "cell_type": "code",
   "execution_count": 9,
   "metadata": {
    "collapsed": true
   },
   "outputs": [],
   "source": [
    "from sklearn.feature_selection import RFECV\n",
    "from sklearn.ensemble import GradientBoostingRegressor, AdaBoostRegressor, BaggingRegressor, ExtraTreesRegressor\n",
    "from sklearn.ensemble import RandomForestRegressor"
   ]
  },
  {
   "cell_type": "code",
   "execution_count": 10,
   "metadata": {
    "collapsed": true
   },
   "outputs": [],
   "source": [
    "listings_augmented_2018 = pd.read_csv('listings_augmented_2018-04-29_V1.csv', low_memory=False)"
   ]
  },
  {
   "cell_type": "code",
   "execution_count": 11,
   "metadata": {
    "collapsed": true
   },
   "outputs": [],
   "source": [
    "Dominant_Topic_feature_list = []\n",
    "Topic_feature_list = []\n",
    "\n",
    "for w in listings_augmented_2018.columns:\n",
    "    if 'Dominant_Topic' in w:\n",
    "        Dominant_Topic_feature_list.append(w)\n",
    "    if '-Topic' in w:\n",
    "        Topic_feature_list.append(w)"
   ]
  },
  {
   "cell_type": "code",
   "execution_count": 12,
   "metadata": {
    "collapsed": true
   },
   "outputs": [],
   "source": [
    "df = pd.DataFrame()\n",
    "\n",
    "for (index, row) in listings_augmented_2018.iterrows():\n",
    "    if index not in range(4324, 4326):\n",
    "        df = df.append(row)"
   ]
  },
  {
   "cell_type": "code",
   "execution_count": 13,
   "metadata": {
    "collapsed": true
   },
   "outputs": [],
   "source": [
    "listings_augmented_2018 = df\n",
    "listings_augmented_2018 = listings_augmented_2018.reset_index()\n",
    "listings_augmented_2018['Unnamed: 0'] = listings_augmented_2018.index\n",
    "listings_augmented_2018 = listings_augmented_2018.drop('index', axis = 1)"
   ]
  },
  {
   "cell_type": "code",
   "execution_count": 18,
   "metadata": {},
   "outputs": [
    {
     "name": "stderr",
     "output_type": "stream",
     "text": [
      "C:\\Users\\sanka\\Anaconda2\\envs\\py27\\lib\\site-packages\\ipykernel\\__main__.py:11: SettingWithCopyWarning: \n",
      "A value is trying to be set on a copy of a slice from a DataFrame\n",
      "\n",
      "See the caveats in the documentation: http://pandas.pydata.org/pandas-docs/stable/indexing.html#indexing-view-versus-copy\n"
     ]
    }
   ],
   "source": [
    "listings_augmented_2018['distance from ocean'] = 0\n",
    "\n",
    "for w in listings_augmented_2018.index:\n",
    "    p = float(listings_augmented_2018['latitude'][w])\n",
    "    q = float(listings_augmented_2018['longitude'][w])\n",
    "    lon_diff = (q + 117.235585)*np.pi/180\n",
    "    lat_diff = (p - 32.802458)*np.pi/180\n",
    "    a = np.sin(lat_diff/2)**2 + np.cos(p*np.pi/180)*np.cos(32.802458*np.pi/180)*(np.sin(lon_diff/2)**2)\n",
    "    c = np.arctan2(np.sqrt(a), np.sqrt(1 - a))\n",
    "    d = 6371*float(c)\n",
    "    listings_augmented_2018['distance from ocean'][w] = d"
   ]
  },
  {
   "cell_type": "code",
   "execution_count": 19,
   "metadata": {},
   "outputs": [
    {
     "data": {
      "text/plain": [
       "0       16\n",
       "1       14\n",
       "2       16\n",
       "3       16\n",
       "4       16\n",
       "5       16\n",
       "6       16\n",
       "7       16\n",
       "8       15\n",
       "9       16\n",
       "10      16\n",
       "11      16\n",
       "12      13\n",
       "13      13\n",
       "14      13\n",
       "15      13\n",
       "16      14\n",
       "17      16\n",
       "18      16\n",
       "19      14\n",
       "20      15\n",
       "21      16\n",
       "22      14\n",
       "23      16\n",
       "24      15\n",
       "25      15\n",
       "26      15\n",
       "27      14\n",
       "28      14\n",
       "29      15\n",
       "        ..\n",
       "5722     9\n",
       "5723     8\n",
       "5724    10\n",
       "5725     8\n",
       "5726     9\n",
       "5727     9\n",
       "5728    10\n",
       "5729    11\n",
       "5730    15\n",
       "5731    10\n",
       "5732     2\n",
       "5733     2\n",
       "5734    10\n",
       "5735    13\n",
       "5736    16\n",
       "5737     4\n",
       "5738     1\n",
       "5739     8\n",
       "5740    11\n",
       "5741     9\n",
       "5742    18\n",
       "5743     8\n",
       "5744    12\n",
       "5745    11\n",
       "5746     9\n",
       "5747     8\n",
       "5748    16\n",
       "5749     8\n",
       "5750    10\n",
       "5751    10\n",
       "Name: distance from ocean, dtype: int64"
      ]
     },
     "execution_count": 19,
     "metadata": {},
     "output_type": "execute_result"
    }
   ],
   "source": [
    "listings_augmented_2018['distance from ocean']"
   ]
  },
  {
   "cell_type": "code",
   "execution_count": null,
   "metadata": {
    "collapsed": true
   },
   "outputs": [],
   "source": []
  }
 ],
 "metadata": {
  "anaconda-cloud": {},
  "kernelspec": {
   "display_name": "Python 2",
   "language": "python",
   "name": "python2"
  },
  "language_info": {
   "codemirror_mode": {
    "name": "ipython",
    "version": 2
   },
   "file_extension": ".py",
   "mimetype": "text/x-python",
   "name": "python",
   "nbconvert_exporter": "python",
   "pygments_lexer": "ipython2",
   "version": "2.7.14"
  }
 },
 "nbformat": 4,
 "nbformat_minor": 2
}
