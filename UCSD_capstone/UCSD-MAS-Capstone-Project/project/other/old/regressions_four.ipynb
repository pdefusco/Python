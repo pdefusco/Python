{
 "cells": [
  {
   "cell_type": "code",
   "execution_count": 1,
   "metadata": {},
   "outputs": [
    {
     "name": "stderr",
     "output_type": "stream",
     "text": [
      "C:\\Users\\sanka\\Anaconda2\\lib\\site-packages\\statsmodels\\compat\\pandas.py:56: FutureWarning: The pandas.core.datetools module is deprecated and will be removed in a future version. Please use the pandas.tseries module instead.\n",
      "  from pandas.core import datetools\n"
     ]
    }
   ],
   "source": [
    "import pandas as pd\n",
    "import numpy as np\n",
    "import scipy.stats as stats\n",
    "import statsmodels.api as sm\n",
    "import statsmodels.formula.api as smf\n",
    "import statsmodels.stats.api as sms\n",
    "from __future__ import print_function\n",
    "from statsmodels.compat import lzip\n",
    "import matplotlib.pyplot as plt\n",
    "import numpy as np\n",
    "import sklearn as sk\n",
    "from sklearn.linear_model import LinearRegression"
   ]
  },
  {
   "cell_type": "code",
   "execution_count": 2,
   "metadata": {
    "collapsed": true
   },
   "outputs": [],
   "source": [
    "from statsmodels.graphics.regressionplots import plot_fit\n",
    "from statsmodels.graphics.regressionplots import plot_leverage_resid2\n",
    "from statsmodels.graphics.regressionplots import plot_regress_exog\n",
    "from sklearn import linear_model\n",
    "from sklearn.preprocessing import PolynomialFeatures\n",
    "from sklearn.pipeline import make_pipeline\n",
    "from sklearn.linear_model import Ridge\n",
    "from pandas.tseries.holiday import USFederalHolidayCalendar as calendar\n",
    "import statsmodels.api as sm\n",
    "import statsmodels.formula.api as smf\n",
    "from sklearn.preprocessing import StandardScaler\n",
    "from sklearn import linear_model\n",
    "from sklearn.pipeline import make_pipeline"
   ]
  },
  {
   "cell_type": "code",
   "execution_count": 3,
   "metadata": {
    "collapsed": true
   },
   "outputs": [],
   "source": [
    "from sklearn.metrics import r2_score, mean_squared_error\n",
    "linear_regression = linear_model.LinearRegression(normalize=False, fit_intercept=True)\n",
    "def r2_est(X,y):\n",
    "    return r2_score(y, linear_regression.fit(X,y).predict(X))\n",
    "def r2_est_two(X,y, X_new, y_new):\n",
    "    return r2_score(y_new, linear_regression.fit(X,y).predict(X_new))"
   ]
  },
  {
   "cell_type": "code",
   "execution_count": 4,
   "metadata": {},
   "outputs": [
    {
     "name": "stderr",
     "output_type": "stream",
     "text": [
      "C:\\Users\\sanka\\Anaconda2\\lib\\site-packages\\sklearn\\cross_validation.py:41: DeprecationWarning: This module was deprecated in version 0.18 in favor of the model_selection module into which all the refactored classes and functions are moved. Also note that the interface of the new CV iterators are different from that of this module. This module will be removed in 0.20.\n",
      "  \"This module will be removed in 0.20.\", DeprecationWarning)\n",
      "C:\\Users\\sanka\\Anaconda2\\lib\\site-packages\\sklearn\\grid_search.py:42: DeprecationWarning: This module was deprecated in version 0.18 in favor of the model_selection module into which all the refactored classes and functions are moved. This module will be removed in 0.20.\n",
      "  DeprecationWarning)\n"
     ]
    }
   ],
   "source": [
    "from sklearn.preprocessing import LabelEncoder, LabelBinarizer\n",
    "from sklearn.decomposition import PCA\n",
    "from sklearn.metrics import mean_absolute_error\n",
    "from sklearn.preprocessing import MinMaxScaler\n",
    "from sklearn.cross_validation import cross_val_score, KFold, StratifiedKFold\n",
    "from sklearn.metrics import make_scorer\n",
    "from sklearn.preprocessing import PolynomialFeatures\n",
    "from sklearn.feature_selection import RFECV\n",
    "from sklearn.cross_validation import KFold\n",
    "from sklearn.cross_validation import train_test_split\n",
    "from sklearn.linear_model import Lasso\n",
    "from sklearn.grid_search import RandomizedSearchCV\n",
    "from scipy.stats import expon"
   ]
  },
  {
   "cell_type": "code",
   "execution_count": 5,
   "metadata": {
    "collapsed": true
   },
   "outputs": [],
   "source": [
    "from sklearn.preprocessing import LabelEncoder, LabelBinarizer\n",
    "label_enc = LabelEncoder()\n",
    "label_bin = LabelBinarizer()"
   ]
  },
  {
   "cell_type": "code",
   "execution_count": null,
   "metadata": {
    "collapsed": true
   },
   "outputs": [],
   "source": []
  },
  {
   "cell_type": "markdown",
   "metadata": {},
   "source": [
    "## Data Loading and Preparation (time series)"
   ]
  },
  {
   "cell_type": "code",
   "execution_count": 6,
   "metadata": {
    "collapsed": true
   },
   "outputs": [],
   "source": [
    "cal = pd.read_csv('Datasources/inside_airbnb/calendar.csv')"
   ]
  },
  {
   "cell_type": "code",
   "execution_count": 7,
   "metadata": {
    "collapsed": true
   },
   "outputs": [],
   "source": [
    "cal['price'] = cal['price'].astype(str).map(lambda x: x.lstrip('$'))\n",
    "cal['price'] = cal['price'].apply(pd.to_numeric, errors='coerce')\n",
    "cal['price'].replace(regex=True,inplace=True,to_replace=r'\\D',value=r'')"
   ]
  },
  {
   "cell_type": "code",
   "execution_count": 8,
   "metadata": {
    "collapsed": true
   },
   "outputs": [],
   "source": [
    "cal['date'] = pd.to_datetime(cal['date'])\n",
    "cal['month'] = cal['date'].apply(lambda x: x.month)\n",
    "cal['day'] = cal['date'].apply(lambda x: x.day)"
   ]
  },
  {
   "cell_type": "code",
   "execution_count": 9,
   "metadata": {
    "collapsed": true
   },
   "outputs": [],
   "source": [
    "cal['day_of_week'] = cal['date'].dt.weekday_name"
   ]
  },
  {
   "cell_type": "code",
   "execution_count": 10,
   "metadata": {
    "collapsed": true
   },
   "outputs": [],
   "source": [
    "from pandas.tseries.holiday import USFederalHolidayCalendar as calendar"
   ]
  },
  {
   "cell_type": "code",
   "execution_count": 11,
   "metadata": {
    "collapsed": true
   },
   "outputs": [],
   "source": [
    "cl = calendar()\n",
    "holidays = cl.holidays(start=cal['date'].min(), end=cal['date'].max())"
   ]
  },
  {
   "cell_type": "code",
   "execution_count": 12,
   "metadata": {
    "collapsed": true
   },
   "outputs": [],
   "source": [
    "cal['holiday'] = cal['date'].isin(holidays)"
   ]
  },
  {
   "cell_type": "code",
   "execution_count": 13,
   "metadata": {
    "collapsed": true
   },
   "outputs": [],
   "source": [
    "c = cal.loc[cal.available!='f']\n",
    "c = c[['listing_id','date','price','month','day_of_week','holiday']]"
   ]
  },
  {
   "cell_type": "code",
   "execution_count": 14,
   "metadata": {
    "collapsed": true
   },
   "outputs": [],
   "source": [
    "c_hol = c[c['holiday']==True]\n",
    "c_wke = c[(c['holiday']==False)&((c['day_of_week']=='Sunday')|(c['day_of_week']=='Saturday'))]\n",
    "c_wkd = c[(~c.isin(c_hol['date']))&(~c.isin(c_wke['date']))]"
   ]
  },
  {
   "cell_type": "code",
   "execution_count": 15,
   "metadata": {
    "collapsed": true
   },
   "outputs": [],
   "source": [
    "mean_price_hol = c_hol.groupby(by='listing_id')['price'].mean()\n",
    "mean_price_wke = c_wke.groupby(by='listing_id')['price'].mean()\n",
    "mean_price_wkd = c_wkd.groupby(by='listing_id')['price'].mean()"
   ]
  },
  {
   "cell_type": "code",
   "execution_count": 16,
   "metadata": {
    "collapsed": true
   },
   "outputs": [],
   "source": [
    "mean_price_hol = pd.DataFrame(mean_price_hol)\n",
    "mean_price_wke = pd.DataFrame(mean_price_wke)\n",
    "mean_price_wkd = pd.DataFrame(mean_price_wkd)"
   ]
  },
  {
   "cell_type": "code",
   "execution_count": 17,
   "metadata": {
    "collapsed": true
   },
   "outputs": [],
   "source": [
    "mean_price_hol = mean_price_hol.reset_index()\n",
    "mean_price_wke = mean_price_wke.reset_index()\n",
    "mean_price_wkd = mean_price_wkd.reset_index()"
   ]
  },
  {
   "cell_type": "code",
   "execution_count": 18,
   "metadata": {},
   "outputs": [
    {
     "name": "stderr",
     "output_type": "stream",
     "text": [
      "C:\\Users\\sanka\\Anaconda2\\lib\\site-packages\\IPython\\core\\interactiveshell.py:2717: DtypeWarning: Columns (0,1,2,3,4,5,6,10,11,12,13,15,17,18,20,21,22,54,62,65) have mixed types. Specify dtype option on import or set low_memory=False.\n",
      "  interactivity=interactivity, compiler=compiler, result=result)\n"
     ]
    }
   ],
   "source": [
    "listings_withtopics = pd.read_csv('listings_withtopics.csv')\n",
    "listings = pd.read_csv('Datasources/inside_airbnb/listings.csv')"
   ]
  },
  {
   "cell_type": "code",
   "execution_count": 19,
   "metadata": {
    "collapsed": true
   },
   "outputs": [],
   "source": [
    "def string_to_set(x):\n",
    "    c = set()\n",
    "    for w in x[1:-1].split(\",\"):\n",
    "        c.add(w)\n",
    "        \n",
    "    return c"
   ]
  },
  {
   "cell_type": "code",
   "execution_count": 20,
   "metadata": {
    "collapsed": true
   },
   "outputs": [],
   "source": [
    "listings_withtopics['amenities_set'] = listings_withtopics['amenities'].fillna('{}').map(string_to_set)"
   ]
  },
  {
   "cell_type": "code",
   "execution_count": 21,
   "metadata": {
    "collapsed": true
   },
   "outputs": [],
   "source": [
    "Topic_feature_list = []\n",
    "for w in listings_withtopics.columns:\n",
    "    if 'Topic' in w:\n",
    "        Topic_feature_list.append(w)"
   ]
  },
  {
   "cell_type": "code",
   "execution_count": 22,
   "metadata": {
    "collapsed": true
   },
   "outputs": [],
   "source": [
    "df = pd.DataFrame()\n",
    "\n",
    "for (index, rows) in listings_withtopics.iterrows():\n",
    "    if index != 4927:\n",
    "        df = df.append(rows)\n",
    "        "
   ]
  },
  {
   "cell_type": "code",
   "execution_count": 23,
   "metadata": {
    "collapsed": true
   },
   "outputs": [],
   "source": [
    "df['id'] = df['id'].astype('int')"
   ]
  },
  {
   "cell_type": "code",
   "execution_count": 24,
   "metadata": {
    "collapsed": true
   },
   "outputs": [],
   "source": [
    "master_hol = df.merge(mean_price_hol, how='inner', left_on='id', right_on='listing_id')\n",
    "master_wke = df.merge(mean_price_wke, how='inner', left_on='id', right_on='listing_id')\n",
    "master_wkd = df.merge(mean_price_wkd, how='inner', left_on='id', right_on='listing_id')"
   ]
  },
  {
   "cell_type": "markdown",
   "metadata": {},
   "source": [
    "## Feature Creation (time series)"
   ]
  },
  {
   "cell_type": "markdown",
   "metadata": {},
   "source": [
    "\n",
    "\n",
    "\n",
    "### Features Created in regression"
   ]
  },
  {
   "cell_type": "code",
   "execution_count": 25,
   "metadata": {
    "collapsed": true
   },
   "outputs": [],
   "source": [
    "master_hol['host_response_rate'] = master_hol['host_response_rate'].astype(str).map(lambda x: x.rstrip(\"%\"))\n",
    "master_hol['host_response_rate'] = master_hol['host_response_rate'].apply(pd.to_numeric, errors='coerce')\n",
    "master_hol['host_response_rate'].replace(regex=True,inplace=True,to_replace=r'\\D',value=r'')\n",
    "master_hol['host_acceptance_rate'] = master_hol['host_acceptance_rate'].astype(str).map(lambda x: x.rstrip(\"%\"))\n",
    "master_hol['host_acceptance_rate'] = master_hol['host_acceptance_rate'].apply(pd.to_numeric, errors='coerce')\n",
    "master_hol['host_acceptance_rate'].replace(regex=True,inplace=True,to_replace=r'\\D',value=r'')\n",
    "master_hol['extra_people'] = master_hol['extra_people'].astype(str).map(lambda x: x.lstrip('$'))\n",
    "master_hol['extra_people'] = master_hol['extra_people'].apply(pd.to_numeric, errors='coerce')\n",
    "master_hol['extra_people'].replace(regex=True,inplace=True,to_replace=r'\\D',value=r'')\n",
    "master_hol['weekly_price'] = master_hol['weekly_price'].astype(str).map(lambda x: x.lstrip('$'))\n",
    "master_hol['weekly_price'] = master_hol['weekly_price'].apply(pd.to_numeric, errors='coerce')\n",
    "master_hol['weekly_price'].replace(regex=True,inplace=True,to_replace=r'\\D',value=r'')\n",
    "master_hol['monthly_price'] = master_hol['monthly_price'].astype(str).map(lambda x: x.lstrip('$'))\n",
    "master_hol['monthly_price'] = master_hol['monthly_price'].apply(pd.to_numeric, errors='coerce')\n",
    "master_hol['monthly_price'].replace(regex=True,inplace=True,to_replace=r'\\D',value=r'')\n",
    "master_hol['security_deposit'] = master_hol['security_deposit'].astype(str).map(lambda x: x.lstrip('$'))\n",
    "master_hol['security_deposit'] = master_hol['security_deposit'].apply(pd.to_numeric, errors='coerce')\n",
    "master_hol['security_deposit'].replace(regex=True,inplace=True,to_replace=r'\\D',value=r'')\n",
    "master_hol['cleaning_fee'] = master_hol['cleaning_fee'].astype(str).map(lambda x: x.lstrip('$'))\n",
    "master_hol['cleaning_fee'] = master_hol['cleaning_fee'].apply(pd.to_numeric, errors='coerce')\n",
    "master_hol['cleaning_fee'].replace(regex=True,inplace=True,to_replace=r'\\D',value=r'')"
   ]
  },
  {
   "cell_type": "code",
   "execution_count": 26,
   "metadata": {
    "collapsed": true
   },
   "outputs": [],
   "source": [
    "master_wke['host_response_rate'] = master_wke['host_response_rate'].astype(str).map(lambda x: x.rstrip(\"%\"))\n",
    "master_wke['host_response_rate'] = master_wke['host_response_rate'].apply(pd.to_numeric, errors='coerce')\n",
    "master_wke['host_response_rate'].replace(regex=True,inplace=True,to_replace=r'\\D',value=r'')\n",
    "master_wke['host_acceptance_rate'] = master_wke['host_acceptance_rate'].astype(str).map(lambda x: x.rstrip(\"%\"))\n",
    "master_wke['host_acceptance_rate'] = master_wke['host_acceptance_rate'].apply(pd.to_numeric, errors='coerce')\n",
    "master_wke['host_acceptance_rate'].replace(regex=True,inplace=True,to_replace=r'\\D',value=r'')\n",
    "master_wke['extra_people'] = master_wke['extra_people'].astype(str).map(lambda x: x.lstrip('$'))\n",
    "master_wke['extra_people'] = master_wke['extra_people'].apply(pd.to_numeric, errors='coerce')\n",
    "master_wke['extra_people'].replace(regex=True,inplace=True,to_replace=r'\\D',value=r'')\n",
    "master_wke['weekly_price'] = master_wke['weekly_price'].astype(str).map(lambda x: x.lstrip('$'))\n",
    "master_wke['weekly_price'] = master_wke['weekly_price'].apply(pd.to_numeric, errors='coerce')\n",
    "master_wke['weekly_price'].replace(regex=True,inplace=True,to_replace=r'\\D',value=r'')\n",
    "master_wke['monthly_price'] = master_wke['monthly_price'].astype(str).map(lambda x: x.lstrip('$'))\n",
    "master_wke['monthly_price'] = master_wke['monthly_price'].apply(pd.to_numeric, errors='coerce')\n",
    "master_wke['monthly_price'].replace(regex=True,inplace=True,to_replace=r'\\D',value=r'')\n",
    "master_wke['security_deposit'] = master_wke['security_deposit'].astype(str).map(lambda x: x.lstrip('$'))\n",
    "master_wke['security_deposit'] = master_wke['security_deposit'].apply(pd.to_numeric, errors='coerce')\n",
    "master_wke['security_deposit'].replace(regex=True,inplace=True,to_replace=r'\\D',value=r'')\n",
    "master_wke['cleaning_fee'] = master_wke['cleaning_fee'].astype(str).map(lambda x: x.lstrip('$'))\n",
    "master_wke['cleaning_fee'] = master_wke['cleaning_fee'].apply(pd.to_numeric, errors='coerce')\n",
    "master_wke['cleaning_fee'].replace(regex=True,inplace=True,to_replace=r'\\D',value=r'')"
   ]
  },
  {
   "cell_type": "code",
   "execution_count": 27,
   "metadata": {
    "collapsed": true
   },
   "outputs": [],
   "source": [
    "master_wkd['host_response_rate'] = master_wkd['host_response_rate'].astype(str).map(lambda x: x.rstrip(\"%\"))\n",
    "master_wkd['host_response_rate'] = master_wkd['host_response_rate'].apply(pd.to_numeric, errors='coerce')\n",
    "master_wkd['host_response_rate'].replace(regex=True,inplace=True,to_replace=r'\\D',value=r'')\n",
    "master_wkd['host_acceptance_rate'] = master_wkd['host_acceptance_rate'].astype(str).map(lambda x: x.rstrip(\"%\"))\n",
    "master_wkd['host_acceptance_rate'] = master_wkd['host_acceptance_rate'].apply(pd.to_numeric, errors='coerce')\n",
    "master_wkd['host_acceptance_rate'].replace(regex=True,inplace=True,to_replace=r'\\D',value=r'')\n",
    "master_wkd['extra_people'] = master_wkd['extra_people'].astype(str).map(lambda x: x.lstrip('$'))\n",
    "master_wkd['extra_people'] = master_wkd['extra_people'].apply(pd.to_numeric, errors='coerce')\n",
    "master_wkd['extra_people'].replace(regex=True,inplace=True,to_replace=r'\\D',value=r'')\n",
    "master_wkd['weekly_price'] = master_wkd['weekly_price'].astype(str).map(lambda x: x.lstrip('$'))\n",
    "master_wkd['weekly_price'] = master_wkd['weekly_price'].apply(pd.to_numeric, errors='coerce')\n",
    "master_wkd['weekly_price'].replace(regex=True,inplace=True,to_replace=r'\\D',value=r'')\n",
    "master_wkd['monthly_price'] = master_wkd['monthly_price'].astype(str).map(lambda x: x.lstrip('$'))\n",
    "master_wkd['monthly_price'] = master_wkd['monthly_price'].apply(pd.to_numeric, errors='coerce')\n",
    "master_wkd['monthly_price'].replace(regex=True,inplace=True,to_replace=r'\\D',value=r'')\n",
    "master_wkd['security_deposit'] = master_wkd['security_deposit'].astype(str).map(lambda x: x.lstrip('$'))\n",
    "master_wkd['security_deposit'] = master_wkd['security_deposit'].apply(pd.to_numeric, errors='coerce')\n",
    "master_wkd['security_deposit'].replace(regex=True,inplace=True,to_replace=r'\\D',value=r'')\n",
    "master_wkd['cleaning_fee'] = master_wkd['cleaning_fee'].astype(str).map(lambda x: x.lstrip('$'))\n",
    "master_wkd['cleaning_fee'] = master_wkd['cleaning_fee'].apply(pd.to_numeric, errors='coerce')\n",
    "master_wkd['cleaning_fee'].replace(regex=True,inplace=True,to_replace=r'\\D',value=r'')"
   ]
  },
  {
   "cell_type": "code",
   "execution_count": 28,
   "metadata": {
    "collapsed": true
   },
   "outputs": [],
   "source": [
    "master_hol['ones'] = np.ones(len(master_hol))\n",
    "master_wke['ones'] = np.ones(len(master_wke))\n",
    "master_wkd['ones'] = np.ones(len(master_wkd))"
   ]
  },
  {
   "cell_type": "code",
   "execution_count": 29,
   "metadata": {
    "collapsed": true
   },
   "outputs": [],
   "source": [
    "def has_amenity(x, amen_):\n",
    "    if amen_ in x:\n",
    "        return 1\n",
    "    pass"
   ]
  },
  {
   "cell_type": "code",
   "execution_count": 30,
   "metadata": {
    "scrolled": true
   },
   "outputs": [
    {
     "data": {
      "text/plain": [
       "{'',\n",
       " '\"24-Hour Check-in\"',\n",
       " '\"Air Conditioning\"',\n",
       " '\"Buzzer/Wireless Intercom\"',\n",
       " '\"Cable TV\"',\n",
       " '\"Carbon Monoxide Detector\"',\n",
       " '\"Elevator in Building\"',\n",
       " '\"Family/Kid Friendly\"',\n",
       " '\"Fire Extinguisher\"',\n",
       " '\"First Aid Kit\"',\n",
       " '\"Free Parking on Premises\"',\n",
       " '\"Hair Dryer\"',\n",
       " '\"Hot Tub\"',\n",
       " '\"Indoor Fireplace\"',\n",
       " '\"Laptop Friendly Workspace\"',\n",
       " '\"Lock on Bedroom Door\"',\n",
       " '\"Other pet(s)\"',\n",
       " '\"Pets Allowed\"',\n",
       " '\"Pets live on this property\"',\n",
       " '\"Safety Card\"',\n",
       " '\"Smoke Detector\"',\n",
       " '\"Smoking Allowed\"',\n",
       " '\"Suitable for Events\"',\n",
       " '\"Wheelchair Accessible\"',\n",
       " '\"Wireless Internet\"',\n",
       " '\"translation missing: en.hosting_amenity_49\"',\n",
       " '\"translation missing: en.hosting_amenity_50\"',\n",
       " '.89583333333',\n",
       " 'Breakfast',\n",
       " 'Cat(s)',\n",
       " 'Dog(s)',\n",
       " 'Doorman',\n",
       " 'Dryer',\n",
       " 'Essentials',\n",
       " 'Gym',\n",
       " 'Hangers',\n",
       " 'Heating',\n",
       " 'Internet',\n",
       " 'Iron',\n",
       " 'Kitchen',\n",
       " 'Pool',\n",
       " 'Shampoo',\n",
       " 'TV',\n",
       " 'Washer'}"
      ]
     },
     "execution_count": 30,
     "metadata": {},
     "output_type": "execute_result"
    }
   ],
   "source": [
    "all_amenities = set()\n",
    "\n",
    "for idx in listings_withtopics['amenities'].fillna('{}').map(string_to_set).index:\n",
    "    all_amenities = all_amenities.union(listings_withtopics['amenities'].fillna('{}').map(string_to_set)[idx])\n",
    "    \n",
    "all_amenities"
   ]
  },
  {
   "cell_type": "code",
   "execution_count": 31,
   "metadata": {
    "collapsed": true
   },
   "outputs": [],
   "source": [
    "for amen in all_amenities:\n",
    "    master_hol['has' + amen] = 0\n",
    "    master_wke['has' + amen] = 0\n",
    "    master_wkd['has' + amen] = 0\n",
    "    master_hol['has' + amen] = master_hol['amenities_set'].map(lambda x: has_amenity(x, amen))\n",
    "    master_wke['has' + amen] = master_wke['amenities_set'].map(lambda x: has_amenity(x, amen))\n",
    "    master_wkd['has' + amen] = master_wkd['amenities_set'].map(lambda x: has_amenity(x, amen))"
   ]
  },
  {
   "cell_type": "code",
   "execution_count": 32,
   "metadata": {
    "collapsed": true
   },
   "outputs": [],
   "source": [
    "has_amenties_list = []\n",
    "for amen in all_amenities:\n",
    "    has_amenties_list.append('has' + amen)"
   ]
  },
  {
   "cell_type": "code",
   "execution_count": 33,
   "metadata": {
    "collapsed": true
   },
   "outputs": [],
   "source": [
    "master_hol[has_amenties_list] = master_hol[has_amenties_list].fillna(0)\n",
    "master_wke[has_amenties_list] = master_wke[has_amenties_list].fillna(0)\n",
    "master_wkd[has_amenties_list] = master_wkd[has_amenties_list].fillna(0)"
   ]
  },
  {
   "cell_type": "code",
   "execution_count": 34,
   "metadata": {
    "collapsed": true
   },
   "outputs": [],
   "source": [
    "master_hol[Topic_feature_list] = master_hol[Topic_feature_list].astype('float')\n",
    "master_wke[Topic_feature_list] = master_wke[Topic_feature_list].astype('float')\n",
    "master_wkd[Topic_feature_list] = master_wkd[Topic_feature_list].astype('float')"
   ]
  },
  {
   "cell_type": "code",
   "execution_count": 35,
   "metadata": {
    "collapsed": true
   },
   "outputs": [],
   "source": [
    "X_hol = master_hol.select_dtypes(include=['float64', 'int64'])\n",
    "X_wke = master_wke.select_dtypes(include=['float64', 'int64'])\n",
    "X_wkd = master_wkd.select_dtypes(include=['float64', 'int64'])"
   ]
  },
  {
   "cell_type": "code",
   "execution_count": 36,
   "metadata": {
    "scrolled": true
   },
   "outputs": [
    {
     "data": {
      "text/plain": [
       "Topic0                                             0\n",
       "Topic1                                             0\n",
       "Topic10                                            0\n",
       "Topic11                                            0\n",
       "Topic12                                            0\n",
       "Topic13                                            0\n",
       "Topic14                                            0\n",
       "Topic15                                            0\n",
       "Topic16                                            0\n",
       "Topic17                                            0\n",
       "Topic18                                            0\n",
       "Topic19                                            0\n",
       "Topic2                                             0\n",
       "Topic3                                             0\n",
       "Topic4                                             0\n",
       "Topic5                                             0\n",
       "Topic6                                             0\n",
       "Topic7                                             0\n",
       "Topic8                                             0\n",
       "Topic9                                             0\n",
       "access_diversity                                   1\n",
       "access_textDigitsPerc                              1\n",
       "access_textLength                                  1\n",
       "access_textPuncPerc                                1\n",
       "access_textWordsPerc                               1\n",
       "accommodates                                       1\n",
       "availability_30                                    1\n",
       "availability_365                                   1\n",
       "availability_60                                    1\n",
       "availability_90                                    1\n",
       "                                                  ..\n",
       "has\"Hot Tub\"                                       0\n",
       "has\"Cable TV\"                                      0\n",
       "has\"Air Conditioning\"                              0\n",
       "has\"Suitable for Events\"                           0\n",
       "hasKitchen                                         0\n",
       "has.89583333333                                    0\n",
       "has\"Family/Kid Friendly\"                           0\n",
       "has\"translation missing: en.hosting_amenity_49\"    0\n",
       "hasShampoo                                         0\n",
       "hasHeating                                         0\n",
       "has\"Hair Dryer\"                                    0\n",
       "hasCat(s)                                          0\n",
       "has\"Smoke Detector\"                                0\n",
       "hasIron                                            0\n",
       "has\"Free Parking on Premises\"                      0\n",
       "has\"Pets live on this property\"                    0\n",
       "has\"Safety Card\"                                   0\n",
       "has\"Smoking Allowed\"                               0\n",
       "hasDryer                                           0\n",
       "hasPool                                            0\n",
       "has\"Pets Allowed\"                                  0\n",
       "has\"Wheelchair Accessible\"                         0\n",
       "has\"First Aid Kit\"                                 0\n",
       "hasDog(s)                                          0\n",
       "has\"Wireless Internet\"                             0\n",
       "has\"Laptop Friendly Workspace\"                     0\n",
       "hasBreakfast                                       0\n",
       "hasDoorman                                         0\n",
       "has\"Lock on Bedroom Door\"                          0\n",
       "has\"24-Hour Check-in\"                              0\n",
       "Length: 149, dtype: int64"
      ]
     },
     "execution_count": 36,
     "metadata": {},
     "output_type": "execute_result"
    }
   ],
   "source": [
    "X_hol.isnull().sum()"
   ]
  },
  {
   "cell_type": "code",
   "execution_count": 37,
   "metadata": {
    "collapsed": true
   },
   "outputs": [],
   "source": [
    "X_hol = X_hol.drop(['neighbourhood_group_cleansed','square_feet','has_availability','license','weekly_price','monthly_price'], axis = 1)\n",
    "X_wke = X_wke.drop(['neighbourhood_group_cleansed','square_feet','has_availability','license','weekly_price','monthly_price'], axis = 1)\n",
    "X_wkd = X_wkd.drop(['neighbourhood_group_cleansed','square_feet','has_availability','license','weekly_price','monthly_price'], axis = 1)"
   ]
  },
  {
   "cell_type": "code",
   "execution_count": 38,
   "metadata": {
    "collapsed": true
   },
   "outputs": [],
   "source": [
    "X_hol = X_hol.fillna(value=X_hol.mean())\n",
    "X_wke = X_wke.fillna(value=X_wke.mean())\n",
    "X_wkd = X_wkd.fillna(value=X_wkd.mean())"
   ]
  },
  {
   "cell_type": "code",
   "execution_count": 39,
   "metadata": {
    "collapsed": true
   },
   "outputs": [],
   "source": [
    "X_hol = X_hol.drop(['listing_id','host_id','scrape_id'], axis = 1)\n",
    "X_wke = X_wke.drop(['listing_id','host_id','scrape_id'], axis = 1)\n",
    "X_wkd = X_wkd.drop(['listing_id','host_id','scrape_id'], axis = 1)"
   ]
  },
  {
   "cell_type": "code",
   "execution_count": 40,
   "metadata": {
    "collapsed": true
   },
   "outputs": [],
   "source": [
    "X_hol['policy_enc'] = label_enc.fit_transform(master_hol.cancellation_policy)\n",
    "master_hol['host_response_time'] = master_hol['host_response_time'].astype(str)\n",
    "X_hol['host_resp_time_enc'] = label_enc.fit_transform(master_hol.host_response_time)\n",
    "master_hol['calendar_updated'] = master_hol['calendar_updated'].astype(str)\n",
    "X_hol['calendar_updated_enc'] = label_enc.fit_transform(master_hol.calendar_updated)\n",
    "master_hol['bed_type'] = master_hol['bed_type'].astype(str)\n",
    "X_hol['bed_type_enc'] = label_enc.fit_transform(master_hol.bed_type)\n",
    "master_hol['jurisdiction_names'] = master_hol['jurisdiction_names'].astype(str)\n",
    "X_hol['jurisdiction_names_enc'] = label_enc.fit_transform(master_hol.jurisdiction_names)\n",
    "master_hol['zipcode'] = master_hol['zipcode'].astype(str)\n",
    "X_hol['zipcode_enc'] = label_enc.fit_transform(master_hol.zipcode)"
   ]
  },
  {
   "cell_type": "code",
   "execution_count": 41,
   "metadata": {
    "collapsed": true
   },
   "outputs": [],
   "source": [
    "X_wke['policy_enc'] = label_enc.fit_transform(master_wke.cancellation_policy)\n",
    "master_wke['host_response_time'] = master_wke['host_response_time'].astype(str)\n",
    "X_wke['host_resp_time_enc'] = label_enc.fit_transform(master_wke.host_response_time)\n",
    "master_wke['calendar_updated'] = master_wke['calendar_updated'].astype(str)\n",
    "X_wke['calendar_updated_enc'] = label_enc.fit_transform(master_wke.calendar_updated)\n",
    "master_wke['bed_type'] = master_wke['bed_type'].astype(str)\n",
    "X_wke['bed_type_enc'] = label_enc.fit_transform(master_wke.bed_type)\n",
    "master_wke['jurisdiction_names'] = master_wke['jurisdiction_names'].astype(str)\n",
    "X_wke['jurisdiction_names_enc'] = label_enc.fit_transform(master_wke.jurisdiction_names)\n",
    "master_wke['zipcode'] = master_wke['zipcode'].astype(str)\n",
    "X_wke['zipcode_enc'] = label_enc.fit_transform(master_wke.zipcode)"
   ]
  },
  {
   "cell_type": "code",
   "execution_count": 42,
   "metadata": {
    "collapsed": true
   },
   "outputs": [],
   "source": [
    "X_wkd['policy_enc'] = label_enc.fit_transform(master_wkd.cancellation_policy)\n",
    "master_wkd['host_response_time'] = master_wkd['host_response_time'].astype(str)\n",
    "X_wkd['host_resp_time_enc'] = label_enc.fit_transform(master_wkd.host_response_time)\n",
    "master_wkd['calendar_updated'] = master_wkd['calendar_updated'].astype(str)\n",
    "X_wkd['calendar_updated_enc'] = label_enc.fit_transform(master_wkd.calendar_updated)\n",
    "master_wkd['bed_type'] = master_wkd['bed_type'].astype(str)\n",
    "X_wkd['bed_type_enc'] = label_enc.fit_transform(master_wkd.bed_type)\n",
    "master_wkd['jurisdiction_names'] = master_wkd['jurisdiction_names'].astype(str)\n",
    "X_wkd['jurisdiction_names_enc'] = label_enc.fit_transform(master_wkd.jurisdiction_names)\n",
    "master_wkd['zipcode'] = master_wkd['zipcode'].astype(str)\n",
    "X_wkd['zipcode_enc'] = label_enc.fit_transform(master_wkd.zipcode)"
   ]
  },
  {
   "cell_type": "code",
   "execution_count": 43,
   "metadata": {
    "collapsed": true
   },
   "outputs": [],
   "source": [
    "df_two = pd.DataFrame()\n",
    "\n",
    "for (index, row) in master_hol.iterrows():\n",
    "    if index != 3914:\n",
    "        df_two = df_two.append(row)"
   ]
  },
  {
   "cell_type": "code",
   "execution_count": 44,
   "metadata": {
    "collapsed": true
   },
   "outputs": [],
   "source": [
    "master_hol = df_two"
   ]
  },
  {
   "cell_type": "code",
   "execution_count": 45,
   "metadata": {
    "collapsed": true
   },
   "outputs": [],
   "source": [
    "master_hol = master_hol.reset_index()"
   ]
  },
  {
   "cell_type": "code",
   "execution_count": 46,
   "metadata": {
    "collapsed": true
   },
   "outputs": [],
   "source": [
    "df_three = pd.DataFrame()\n",
    "\n",
    "for (index, row) in X_hol.iterrows():\n",
    "    if index != 3914:\n",
    "        df_three = df_three.append(row)\n",
    "        \n",
    "X_hol = df_three"
   ]
  },
  {
   "cell_type": "code",
   "execution_count": 47,
   "metadata": {
    "collapsed": true
   },
   "outputs": [],
   "source": [
    "master_hol = master_hol.drop('index' , axis = 1)"
   ]
  },
  {
   "cell_type": "code",
   "execution_count": 48,
   "metadata": {
    "collapsed": true
   },
   "outputs": [],
   "source": [
    "X_hol.index = range(len(X_hol))"
   ]
  },
  {
   "cell_type": "code",
   "execution_count": 49,
   "metadata": {
    "collapsed": true
   },
   "outputs": [],
   "source": [
    "X_hol['host_is_superhost'] = label_bin.fit_transform(master_hol.host_is_superhost)\n",
    "X_hol['is_location_exact'] = label_bin.fit_transform(master_hol.is_location_exact)\n",
    "X_hol['host_profile_pic'] = label_bin.fit_transform(master_hol.host_has_profile_pic)\n",
    "X_hol['host_identity_verified'] = label_bin.fit_transform(master_hol.host_identity_verified)\n",
    "X_hol['instant_bookable'] = label_bin.fit_transform(master_hol.instant_bookable)\n",
    "X_hol['require_guest_profile_picture'] = label_bin.fit_transform(master_hol.require_guest_profile_picture)\n",
    "X_hol['require_guest_phone_verification'] = label_bin.fit_transform(master_hol.require_guest_phone_verification)"
   ]
  },
  {
   "cell_type": "code",
   "execution_count": 50,
   "metadata": {},
   "outputs": [
    {
     "data": {
      "text/plain": [
       "4400    NaN\n",
       "Name: host_is_superhost, dtype: object"
      ]
     },
     "execution_count": 50,
     "metadata": {},
     "output_type": "execute_result"
    }
   ],
   "source": [
    "master_wke[(master_wke.host_is_superhost != 't') & (master_wke.host_is_superhost != 'f')]['host_is_superhost']"
   ]
  },
  {
   "cell_type": "code",
   "execution_count": 51,
   "metadata": {
    "collapsed": true
   },
   "outputs": [],
   "source": [
    "df_four = pd.DataFrame()\n",
    "\n",
    "for (index, row) in master_wke.iterrows():\n",
    "    if index != 4400:\n",
    "        df_four = df_four.append(row)\n",
    "        \n",
    "master_wke = df_four\n",
    "master_wke.index = range(len(master_wke))"
   ]
  },
  {
   "cell_type": "code",
   "execution_count": 52,
   "metadata": {
    "collapsed": true
   },
   "outputs": [],
   "source": [
    "df_five = pd.DataFrame()\n",
    "\n",
    "for (index, row) in X_wke.iterrows():\n",
    "    if index != 4400:\n",
    "        df_five = df_five.append(row)\n",
    "        \n",
    "X_wke = df_five\n",
    "X_wke.index = range(len(X_wke))"
   ]
  },
  {
   "cell_type": "code",
   "execution_count": 53,
   "metadata": {
    "collapsed": true
   },
   "outputs": [],
   "source": [
    "X_wke['host_is_superhost'] = label_bin.fit_transform(master_wke.host_is_superhost)\n",
    "X_wke['is_location_exact'] = label_bin.fit_transform(master_wke.is_location_exact)\n",
    "X_wke['host_profile_pic'] = label_bin.fit_transform(master_wke.host_has_profile_pic)\n",
    "X_wke['host_identity_verified'] = label_bin.fit_transform(master_wke.host_identity_verified)\n",
    "X_wke['instant_bookable'] = label_bin.fit_transform(master_wke.instant_bookable)\n",
    "X_wke['require_guest_profile_picture'] = label_bin.fit_transform(master_wke.require_guest_profile_picture)\n",
    "X_wke['require_guest_phone_verification'] = label_bin.fit_transform(master_wke.require_guest_phone_verification)"
   ]
  },
  {
   "cell_type": "code",
   "execution_count": 54,
   "metadata": {},
   "outputs": [
    {
     "data": {
      "text/plain": [
       "4443    NaN\n",
       "Name: host_is_superhost, dtype: object"
      ]
     },
     "execution_count": 54,
     "metadata": {},
     "output_type": "execute_result"
    }
   ],
   "source": [
    "master_wkd[(master_wkd.host_is_superhost != 't') & (master_wkd.host_is_superhost != 'f')]['host_is_superhost']"
   ]
  },
  {
   "cell_type": "code",
   "execution_count": 55,
   "metadata": {
    "collapsed": true
   },
   "outputs": [],
   "source": [
    "df_six = pd.DataFrame()\n",
    "\n",
    "for (index, row) in master_wkd.iterrows():\n",
    "    if index != 4443:\n",
    "        df_six = df_six.append(row)\n",
    "        \n",
    "master_wkd = df_six\n",
    "master_wkd.index = range(len(master_wkd))"
   ]
  },
  {
   "cell_type": "code",
   "execution_count": 56,
   "metadata": {
    "collapsed": true
   },
   "outputs": [],
   "source": [
    "df_seven = pd.DataFrame()\n",
    "\n",
    "for (index, row) in X_wkd.iterrows():\n",
    "    if index != 4443:\n",
    "        df_seven = df_seven.append(row)\n",
    "        \n",
    "X_wkd = df_seven\n",
    "X_wkd.index = range(len(X_wkd))"
   ]
  },
  {
   "cell_type": "code",
   "execution_count": 57,
   "metadata": {
    "collapsed": true
   },
   "outputs": [],
   "source": [
    "X_wkd['host_is_superhost'] = label_bin.fit_transform(master_wkd.host_is_superhost)\n",
    "X_wkd['is_location_exact'] = label_bin.fit_transform(master_wkd.is_location_exact)\n",
    "X_wkd['host_profile_pic'] = label_bin.fit_transform(master_wkd.host_has_profile_pic)\n",
    "X_wkd['host_identity_verified'] = label_bin.fit_transform(master_wkd.host_identity_verified)\n",
    "X_wkd['instant_bookable'] = label_bin.fit_transform(master_wkd.instant_bookable)\n",
    "X_wkd['require_guest_profile_picture'] = label_bin.fit_transform(master_wkd.require_guest_profile_picture)\n",
    "X_wkd['require_guest_phone_verification'] = label_bin.fit_transform(master_wkd.require_guest_phone_verification)"
   ]
  },
  {
   "cell_type": "code",
   "execution_count": 58,
   "metadata": {
    "collapsed": true
   },
   "outputs": [],
   "source": [
    "target_hol = X_hol['price_y']\n",
    "target_wke = X_wke['price_y']\n",
    "target_wkd = X_wkd['price_y']"
   ]
  },
  {
   "cell_type": "code",
   "execution_count": 59,
   "metadata": {
    "collapsed": true
   },
   "outputs": [],
   "source": [
    "X_hol = X_hol.drop('price_y', axis = 1)\n",
    "X_wke = X_wke.drop('price_y', axis = 1)\n",
    "X_wkd = X_wkd.drop('price_y', axis = 1)"
   ]
  },
  {
   "cell_type": "code",
   "execution_count": 60,
   "metadata": {
    "collapsed": true
   },
   "outputs": [],
   "source": [
    "target_whole = pd.concat([target_hol, target_wke, target_wkd], axis = 0)\n",
    "X_whole = pd.concat([X_hol, X_wke, X_wkd], axis = 0)"
   ]
  },
  {
   "cell_type": "code",
   "execution_count": 61,
   "metadata": {
    "collapsed": true
   },
   "outputs": [],
   "source": [
    "X_whole = X_whole.fillna(0)"
   ]
  },
  {
   "cell_type": "code",
   "execution_count": 62,
   "metadata": {},
   "outputs": [
    {
     "data": {
      "text/plain": [
       "(16996, 152)"
      ]
     },
     "execution_count": 62,
     "metadata": {},
     "output_type": "execute_result"
    }
   ],
   "source": [
    "X_whole.shape"
   ]
  },
  {
   "cell_type": "markdown",
   "metadata": {},
   "source": [
    "### Model 4"
   ]
  },
  {
   "cell_type": "markdown",
   "metadata": {},
   "source": [
    "#### Holidays"
   ]
  },
  {
   "cell_type": "code",
   "execution_count": 63,
   "metadata": {
    "collapsed": true
   },
   "outputs": [],
   "source": [
    "X_train, X_test, y_train, y_test = train_test_split(X_hol, target_hol, test_size=.30, random_state=1)\n",
    "X_train_two, X_val, y_train_two, y_val = train_test_split(X_train, y_train, test_size=.30, random_state=1)"
   ]
  },
  {
   "cell_type": "markdown",
   "metadata": {},
   "source": [
    "##### Linear Model"
   ]
  },
  {
   "cell_type": "code",
   "execution_count": 64,
   "metadata": {},
   "outputs": [
    {
     "name": "stdout",
     "output_type": "stream",
     "text": [
      "R2 for validation is 0.664258811108\n",
      "Mean square error for validation is 9010.65005289\n",
      "Mean absolute error for validation is 63.6454962801\n",
      "R2 is 0.625398818979\n",
      "Mean square error is 9336.71787368\n",
      "Mean absolute error is 59.9938154053\n"
     ]
    }
   ],
   "source": [
    "print('R2 for validation is ' + str(r2_est_two(X_train_two, y_train_two, X_val, y_val)))\n",
    "print('Mean square error for validation is ' + str(mean_squared_error(linear_regression.fit(X_train_two, y_train_two).predict(X_val), y_val)))\n",
    "print('Mean absolute error for validation is ' + str(mean_absolute_error(linear_regression.fit(X_train_two, y_train_two).predict(X_val), y_val)))\n",
    "print('R2 is ' + str(r2_est_two(X_train, y_train, X_test, y_test)))\n",
    "print('Mean square error is ' + str(mean_squared_error(linear_regression.fit(X_train, y_train).predict(X_test), y_test)))\n",
    "print('Mean absolute error is ' + str(mean_absolute_error(linear_regression.fit(X_train, y_train).predict(X_test), y_test)))"
   ]
  },
  {
   "cell_type": "markdown",
   "metadata": {},
   "source": [
    "##### Quadratic Model"
   ]
  },
  {
   "cell_type": "code",
   "execution_count": 65,
   "metadata": {},
   "outputs": [
    {
     "name": "stdout",
     "output_type": "stream",
     "text": [
      "R^2 for validation is 0.330959098884\n",
      "Mean square error for validation is 26586.4579112\n",
      "Mean absolute error for validation is 107.613344245\n",
      "R^2 for is 0.282177722496\n",
      "Mean square error is 32719.593567\n",
      "Mean absolute error is 125.324642221\n"
     ]
    }
   ],
   "source": [
    "create_poly = PolynomialFeatures(degree=2, interaction_only=True, include_bias=False)\n",
    "poly = make_pipeline(create_poly, StandardScaler(), linear_regression)\n",
    "model = poly.fit(X_train_two, y_train_two)\n",
    "print('R^2 for validation is ' + str(r2_score(model.predict(X_val), y_val)))\n",
    "print('Mean square error for validation is ' + str(mean_squared_error(model.predict(X_val), y_val)))\n",
    "print('Mean absolute error for validation is ' + str(mean_absolute_error(model.predict(X_val), y_val)))\n",
    "model_final = poly.fit(X_train, y_train)\n",
    "print('R^2 for is ' + str(r2_score(model.predict(X_test), y_test)))\n",
    "print('Mean square error is ' + str(mean_squared_error(model.predict(X_test), y_test)))\n",
    "print('Mean absolute error is ' + str(mean_absolute_error(model.predict(X_test), y_test)))"
   ]
  },
  {
   "cell_type": "markdown",
   "metadata": {},
   "source": [
    "#### Weekends"
   ]
  },
  {
   "cell_type": "code",
   "execution_count": 66,
   "metadata": {
    "collapsed": true
   },
   "outputs": [],
   "source": [
    "X_train, X_test, y_train, y_test = train_test_split(X_wke, target_wke, test_size=.30, random_state=1)\n",
    "X_train_two, X_val, y_train_two, y_val = train_test_split(X_train, y_train, test_size=.30, random_state=1)"
   ]
  },
  {
   "cell_type": "markdown",
   "metadata": {},
   "source": [
    "##### Linear Model"
   ]
  },
  {
   "cell_type": "code",
   "execution_count": 67,
   "metadata": {},
   "outputs": [
    {
     "name": "stdout",
     "output_type": "stream",
     "text": [
      "R2 for validation is 0.334439008825\n",
      "Mean square error for validation is 18727.8799723\n",
      "Mean absolute error for validation is 72.1281829635\n",
      "R2 is 0.579385359016\n",
      "Mean square error is 10897.1992709\n",
      "Mean absolute error is 66.8292724188\n"
     ]
    }
   ],
   "source": [
    "print('R2 for validation is ' + str(r2_est_two(X_train_two, y_train_two, X_val, y_val)))\n",
    "print('Mean square error for validation is ' + str(mean_squared_error(linear_regression.fit(X_train_two, y_train_two).predict(X_val), y_val)))\n",
    "print('Mean absolute error for validation is ' + str(mean_absolute_error(linear_regression.fit(X_train_two, y_train_two).predict(X_val), y_val)))\n",
    "print('R2 is ' + str(r2_est_two(X_train, y_train, X_test, y_test)))\n",
    "print('Mean square error is ' + str(mean_squared_error(linear_regression.fit(X_train, y_train).predict(X_test), y_test)))\n",
    "print('Mean absolute error is ' + str(mean_absolute_error(linear_regression.fit(X_train, y_train).predict(X_test), y_test)))"
   ]
  },
  {
   "cell_type": "markdown",
   "metadata": {},
   "source": [
    "##### Quadratic Model"
   ]
  },
  {
   "cell_type": "code",
   "execution_count": 68,
   "metadata": {},
   "outputs": [
    {
     "name": "stdout",
     "output_type": "stream",
     "text": [
      "R^2 for validation is 0.00958189752492\n",
      "Mean square error for validation is 1196438.55344\n",
      "Mean absolute error for validation is 149.998594867\n",
      "R^2 for is 0.129135653907\n",
      "Mean square error is 81673.6402226\n",
      "Mean absolute error is 150.836054516\n"
     ]
    }
   ],
   "source": [
    "create_poly = PolynomialFeatures(degree=2, interaction_only=True, include_bias=False)\n",
    "poly = make_pipeline(create_poly, StandardScaler(), linear_regression)\n",
    "model = poly.fit(X_train_two, y_train_two)\n",
    "print('R^2 for validation is ' + str(r2_score(model.predict(X_val), y_val)))\n",
    "print('Mean square error for validation is ' + str(mean_squared_error(model.predict(X_val), y_val)))\n",
    "print('Mean absolute error for validation is ' + str(mean_absolute_error(model.predict(X_val), y_val)))\n",
    "model_final = poly.fit(X_train, y_train)\n",
    "print('R^2 for is ' + str(r2_score(model.predict(X_test), y_test)))\n",
    "print('Mean square error is ' + str(mean_squared_error(model.predict(X_test), y_test)))\n",
    "print('Mean absolute error is ' + str(mean_absolute_error(model.predict(X_test), y_test)))"
   ]
  },
  {
   "cell_type": "markdown",
   "metadata": {},
   "source": [
    "#### Weekdays"
   ]
  },
  {
   "cell_type": "code",
   "execution_count": 69,
   "metadata": {
    "collapsed": true
   },
   "outputs": [],
   "source": [
    "X_train, X_test, y_train, y_test = train_test_split(X_wkd, target_wkd, test_size=.30, random_state=1)\n",
    "X_train_two, X_val, y_train_two, y_val = train_test_split(X_train, y_train, test_size=.30, random_state=1)"
   ]
  },
  {
   "cell_type": "markdown",
   "metadata": {},
   "source": [
    "##### Linear Model"
   ]
  },
  {
   "cell_type": "code",
   "execution_count": 70,
   "metadata": {},
   "outputs": [
    {
     "name": "stdout",
     "output_type": "stream",
     "text": [
      "R2 for validation is 0.576248397064\n",
      "Mean square error for validation is 12559.2786654\n",
      "Mean absolute error for validation is 71.5033793243\n",
      "R2 is 0.617307937621\n",
      "Mean square error is 11146.0008107\n",
      "Mean absolute error is 66.1873838863\n"
     ]
    }
   ],
   "source": [
    "print('R2 for validation is ' + str(r2_est_two(X_train_two, y_train_two, X_val, y_val)))\n",
    "print('Mean square error for validation is ' + str(mean_squared_error(linear_regression.fit(X_train_two, y_train_two).predict(X_val), y_val)))\n",
    "print('Mean absolute error for validation is ' + str(mean_absolute_error(linear_regression.fit(X_train_two, y_train_two).predict(X_val), y_val)))\n",
    "print('R2 is ' + str(r2_est_two(X_train, y_train, X_test, y_test)))\n",
    "print('Mean square error is ' + str(mean_squared_error(linear_regression.fit(X_train, y_train).predict(X_test), y_test)))\n",
    "print('Mean absolute error is ' + str(mean_absolute_error(linear_regression.fit(X_train, y_train).predict(X_test), y_test)))"
   ]
  },
  {
   "cell_type": "markdown",
   "metadata": {},
   "source": [
    "##### Quadratic Model"
   ]
  },
  {
   "cell_type": "code",
   "execution_count": 71,
   "metadata": {},
   "outputs": [
    {
     "name": "stdout",
     "output_type": "stream",
     "text": [
      "R^2 for validation is 0.181784716548\n",
      "Mean square error for validation is 46558.4266425\n",
      "Mean absolute error for validation is 123.286425122\n",
      "R^2 for is 0.176095000949\n",
      "Mean square error is 48928.1248248\n",
      "Mean absolute error is 146.53126753\n"
     ]
    }
   ],
   "source": [
    "create_poly = PolynomialFeatures(degree=2, interaction_only=True, include_bias=False)\n",
    "poly = make_pipeline(create_poly, StandardScaler(), linear_regression)\n",
    "model = poly.fit(X_train_two, y_train_two)\n",
    "print('R^2 for validation is ' + str(r2_score(model.predict(X_val), y_val)))\n",
    "print('Mean square error for validation is ' + str(mean_squared_error(model.predict(X_val), y_val)))\n",
    "print('Mean absolute error for validation is ' + str(mean_absolute_error(model.predict(X_val), y_val)))\n",
    "model_final = poly.fit(X_train, y_train)\n",
    "print('R^2 for is ' + str(r2_score(model.predict(X_test), y_test)))\n",
    "print('Mean square error is ' + str(mean_squared_error(model.predict(X_test), y_test)))\n",
    "print('Mean absolute error is ' + str(mean_absolute_error(model.predict(X_test), y_test)))"
   ]
  },
  {
   "cell_type": "markdown",
   "metadata": {},
   "source": [
    "#### As a whole"
   ]
  },
  {
   "cell_type": "code",
   "execution_count": 72,
   "metadata": {
    "collapsed": true
   },
   "outputs": [],
   "source": [
    "X_train, X_test, y_train, y_test = train_test_split(X_whole, target_whole, test_size=.30, random_state=1)\n",
    "X_train_two, X_val, y_train_two, y_val = train_test_split(X_train, y_train, test_size=.30, random_state=1)"
   ]
  },
  {
   "cell_type": "markdown",
   "metadata": {},
   "source": [
    "##### Linear Model"
   ]
  },
  {
   "cell_type": "code",
   "execution_count": 73,
   "metadata": {},
   "outputs": [
    {
     "name": "stdout",
     "output_type": "stream",
     "text": [
      "R2 for validation is 0.637302866951\n",
      "Mean square error for validation is 9860.6593467\n",
      "Mean absolute error for validation is 63.4661136148\n",
      "R2 is 0.609650111887\n",
      "Mean square error is 10762.8494543\n",
      "Mean absolute error is 64.7291345333\n"
     ]
    }
   ],
   "source": [
    "print('R2 for validation is ' + str(r2_est_two(X_train_two, y_train_two, X_val, y_val)))\n",
    "print('Mean square error for validation is ' + str(mean_squared_error(linear_regression.fit(X_train_two, y_train_two).predict(X_val), y_val)))\n",
    "print('Mean absolute error for validation is ' + str(mean_absolute_error(linear_regression.fit(X_train_two, y_train_two).predict(X_val), y_val)))\n",
    "print('R2 is ' + str(r2_est_two(X_train, y_train, X_test, y_test)))\n",
    "print('Mean square error is ' + str(mean_squared_error(linear_regression.fit(X_train, y_train).predict(X_test), y_test)))\n",
    "print('Mean absolute error is ' + str(mean_absolute_error(linear_regression.fit(X_train, y_train).predict(X_test), y_test)))"
   ]
  },
  {
   "cell_type": "markdown",
   "metadata": {},
   "source": [
    "##### Quadratic Model"
   ]
  },
  {
   "cell_type": "code",
   "execution_count": 74,
   "metadata": {},
   "outputs": [
    {
     "name": "stdout",
     "output_type": "stream",
     "text": [
      "R^2 for validation is -0.000105905369508\n",
      "Mean square error for validation is 4.72439347376e+26\n",
      "Mean absolute error for validation is 7.37650844795e+12\n",
      "R^2 for is -0.00098538251853\n",
      "Mean square error is 9.98536414231e+24\n",
      "Mean absolute error is 635800668735.0\n"
     ]
    }
   ],
   "source": [
    "create_poly = PolynomialFeatures(degree=2, interaction_only=True, include_bias=False)\n",
    "poly = make_pipeline(create_poly, StandardScaler(), linear_regression)\n",
    "model = poly.fit(X_train_two, y_train_two)\n",
    "print('R^2 for validation is ' + str(r2_score(model.predict(X_val), y_val)))\n",
    "print('Mean square error for validation is ' + str(mean_squared_error(model.predict(X_val), y_val)))\n",
    "print('Mean absolute error for validation is ' + str(mean_absolute_error(model.predict(X_val), y_val)))\n",
    "model_final = poly.fit(X_train, y_train)\n",
    "print('R^2 for is ' + str(r2_score(model.predict(X_test), y_test)))\n",
    "print('Mean square error is ' + str(mean_squared_error(model.predict(X_test), y_test)))\n",
    "print('Mean absolute error is ' + str(mean_absolute_error(model.predict(X_test), y_test)))"
   ]
  },
  {
   "cell_type": "markdown",
   "metadata": {},
   "source": [
    "### Impact of Variables for models"
   ]
  },
  {
   "cell_type": "code",
   "execution_count": 75,
   "metadata": {
    "collapsed": true
   },
   "outputs": [],
   "source": [
    "X_train, X_test, y_train, y_test = train_test_split(X_hol, target_hol, test_size=.30, random_state=1)\n",
    "X_train_two, X_val, y_train_two, y_val = train_test_split(X_train, y_train, test_size=.30, random_state=1)"
   ]
  },
  {
   "cell_type": "code",
   "execution_count": 76,
   "metadata": {},
   "outputs": [
    {
     "name": "stdout",
     "output_type": "stream",
     "text": [
      " 0.017 accommodates\n",
      " 0.006 bedrooms\n",
      " 0.006 cleaning_fee\n",
      " 0.005 longitude\n",
      " 0.003 security_deposit\n",
      " 0.003 host_resp_time_enc\n",
      " 0.002 minimum_nights\n",
      " 0.002 has\"Elevator in Building\"\n",
      " 0.001 has\"Indoor Fireplace\"\n",
      " 0.001 neighborhood_overview_textDigitsPerc\n",
      " 0.001 description_textWordsPerc\n",
      " 0.001 has\"Suitable for Events\"\n",
      " 0.001 has\"Smoking Allowed\"\n",
      " 0.001 has\"Free Parking on Premises\"\n",
      " 0.001 number_of_reviews\n",
      " 0.001 hasTV\n",
      " 0.001 has\n",
      " 0.001 require_guest_profile_picture\n",
      " 0.001 guests_included\n",
      " 0.001 access_textLength\n",
      " 0.001 access_diversity\n",
      " 0.000 review_scores_location\n",
      " 0.000 host_total_listings_count\n",
      " 0.000 notes_textDigitsPerc\n",
      " 0.000 beds\n",
      " 0.000 reviews_per_month\n",
      " 0.000 instant_bookable\n",
      " 0.000 has\"translation missing: en.hosting_amenity_49\"\n",
      " 0.000 bed_type_enc\n",
      " 0.000 require_guest_phone_verification\n",
      " 0.000 has\"Other pet(s)\"\n",
      " 0.000 hasInternet\n",
      " 0.000 host_acceptance_rate\n",
      " 0.000 calculated_host_listings_count\n",
      " 0.000 hasEssentials\n",
      " 0.000 Topic4\n",
      " 0.000 has\"Pets live on this property\"\n",
      " 0.000 bathrooms\n",
      " 0.000 interaction_textDigitsPerc\n",
      " 0.000 hasKitchen\n",
      " 0.000 Topic10\n",
      " 0.000 transit_textWordsPerc\n",
      " 0.000 interaction_textLength\n",
      " 0.000 transit_textDigitsPerc\n",
      " 0.000 availability_90\n",
      " 0.000 review_scores_communication\n",
      " 0.000 availability_60\n",
      " 0.000 neighborhood_overview_textWordsPerc\n",
      " 0.000 availability_30\n",
      " 0.000 hasPool\n",
      " 0.000 Topic9\n",
      " 0.000 has\"Pets Allowed\"\n",
      " 0.000 is_location_exact\n",
      " 0.000 has\"Safety Card\"\n",
      " 0.000 jurisdiction_names_enc\n",
      " 0.000 hasWasher\n",
      " 0.000 interaction_textPuncPerc\n",
      " 0.000 has\"Cable TV\"\n",
      " 0.000 Topic17\n",
      " 0.000 Topic15\n",
      " 0.000 hasHangers\n",
      " 0.000 notes_textWordsPerc\n",
      " 0.000 hasDryer\n",
      " 0.000 space_diversity\n",
      " 0.000 review_scores_cleanliness\n",
      " 0.000 Topic16\n",
      " 0.000 review_scores_accuracy\n",
      " 0.000 hasDog(s)\n",
      " 0.000 Topic13\n",
      " 0.000 latitude\n",
      " 0.000 description_diversity\n",
      " 0.000 house_rules_textLength\n",
      " 0.000 host_response_rate\n",
      " 0.000 Topic6\n",
      " 0.000 has\"Carbon Monoxide Detector\"\n",
      " 0.000 host_is_superhost\n",
      " 0.000 house_rules_diversity\n",
      " 0.000 maximum_nights\n",
      " 0.000 house_rules_textDigitsPerc\n",
      " 0.000 ones\n",
      "-0.000 experiences_offered_textLength\n",
      "-0.000 experiences_offered_textDigitsPerc\n",
      "-0.000 experiences_offered_diversity\n",
      "-0.000 experiences_offered_textWordsPerc\n",
      "-0.000 experiences_offered_textPuncPerc\n",
      "-0.000 has.89583333333\n",
      "-0.000 has\"Laptop Friendly Workspace\"\n",
      "-0.000 Topic8\n",
      "-0.000 Topic0\n",
      "-0.000 house_rules_textPuncPerc\n",
      "-0.000 has\"Wheelchair Accessible\"\n",
      "-0.000 neighborhood_overview_textPuncPerc\n",
      "-0.000 Topic7\n",
      "-0.000 hasIron\n",
      "-0.000 hasCat(s)\n",
      "-0.000 interaction_diversity\n",
      "-0.000 Topic12\n",
      "-0.000 host_profile_pic\n",
      "-0.000 Topic3\n",
      "-0.000 description_textPuncPerc\n",
      "-0.000 hasBreakfast\n",
      "-0.000 Topic5\n",
      "-0.000 has\"First Aid Kit\"\n",
      "-0.000 access_textWordsPerc\n",
      "-0.000 access_textDigitsPerc\n",
      "-0.000 has\"Fire Extinguisher\"\n",
      "-0.000 has\"translation missing: en.hosting_amenity_50\"\n",
      "-0.000 notes_textPuncPerc\n",
      "-0.000 Topic18\n",
      "-0.000 description_textLength\n",
      "-0.000 availability_365\n",
      "-0.000 hasDoorman\n",
      "-0.000 Topic1\n",
      "-0.000 review_scores_value\n",
      "-0.000 policy_enc\n",
      "-0.000 zipcode_enc\n",
      "-0.000 has\"Family/Kid Friendly\"\n",
      "-0.000 has\"Lock on Bedroom Door\"\n",
      "-0.000 Topic14\n",
      "-0.000 Topic2\n",
      "-0.000 notes_textLength\n",
      "-0.000 has\"Wireless Internet\"\n",
      "-0.000 space_textLength\n",
      "-0.000 interaction_textWordsPerc\n",
      "-0.000 calendar_updated_enc\n",
      "-0.000 host_identity_verified\n",
      "-0.000 has\"Hair Dryer\"\n",
      "-0.000 notes_diversity\n",
      "-0.000 review_scores_rating\n",
      "-0.000 hasGym\n",
      "-0.000 transit_textPuncPerc\n",
      "-0.000 space_textDigitsPerc\n",
      "-0.000 hasShampoo\n",
      "-0.000 transit_diversity\n",
      "-0.000 has\"Buzzer/Wireless Intercom\"\n",
      "-0.000 has\"24-Hour Check-in\"\n",
      "-0.000 description_textDigitsPerc\n",
      "-0.000 Topic11\n",
      "-0.001 review_scores_checkin\n",
      "-0.001 access_textPuncPerc\n",
      "-0.001 transit_textLength\n",
      "-0.001 Topic19\n",
      "-0.001 extra_people\n",
      "-0.001 hasHeating\n",
      "-0.001 has\"Smoke Detector\"\n",
      "-0.001 house_rules_textWordsPerc\n",
      "-0.001 has\"Air Conditioning\"\n",
      "-0.002 neighborhood_overview_textLength\n",
      "-0.002 has\"Hot Tub\"\n",
      "-0.002 space_textWordsPerc\n",
      "-0.003 space_textPuncPerc\n",
      "-0.003 neighborhood_overview_diversity\n"
     ]
    }
   ],
   "source": [
    "r2_impact_hol = list()\n",
    "baseline_hol = r2_est_two(X_train, y_train, X_test, y_test)\n",
    "for j in range(X_hol.shape[1]):\n",
    "    selection = [i for i in range(X_hol.shape[1]) if i!=j]\n",
    "    r2_impact_hol.append((baseline_hol - (r2_est_two(X_train.values[:,selection], y_train, X_test.values[:,selection], y_test)), X_test.columns[j]))\n",
    "for imp, var in sorted(r2_impact_hol, reverse=True):\n",
    "    print(\"%6.3f %s\" %(imp, var))"
   ]
  },
  {
   "cell_type": "code",
   "execution_count": 77,
   "metadata": {
    "collapsed": true
   },
   "outputs": [],
   "source": [
    "X_train, X_test, y_train, y_test = train_test_split(X_wke, target_wke, test_size=.30, random_state=1)\n",
    "X_train_two, X_val, y_train_two, y_val = train_test_split(X_train, y_train, test_size=.30, random_state=1)"
   ]
  },
  {
   "cell_type": "code",
   "execution_count": 78,
   "metadata": {},
   "outputs": [
    {
     "name": "stdout",
     "output_type": "stream",
     "text": [
      " 0.023 accommodates\n",
      " 0.006 cleaning_fee\n",
      " 0.006 longitude\n",
      " 0.004 security_deposit\n",
      " 0.002 host_resp_time_enc\n",
      " 0.002 host_acceptance_rate\n",
      " 0.002 minimum_nights\n",
      " 0.002 has\"Air Conditioning\"\n",
      " 0.001 calculated_host_listings_count\n",
      " 0.001 has\"Smoking Allowed\"\n",
      " 0.001 availability_90\n",
      " 0.001 has\"Elevator in Building\"\n",
      " 0.001 has\"Indoor Fireplace\"\n",
      " 0.001 host_total_listings_count\n",
      " 0.001 access_textLength\n",
      " 0.001 reviews_per_month\n",
      " 0.001 access_diversity\n",
      " 0.001 has\"Laptop Friendly Workspace\"\n",
      " 0.001 zipcode_enc\n",
      " 0.001 availability_365\n",
      " 0.001 require_guest_phone_verification\n",
      " 0.001 has\"Suitable for Events\"\n",
      " 0.001 has\n",
      " 0.001 has\"Pets Allowed\"\n",
      " 0.001 availability_60\n",
      " 0.001 host_response_rate\n",
      " 0.001 bathrooms\n",
      " 0.001 review_scores_value\n",
      " 0.001 latitude\n",
      " 0.000 Topic11\n",
      " 0.000 interaction_diversity\n",
      " 0.000 review_scores_accuracy\n",
      " 0.000 bed_type_enc\n",
      " 0.000 Topic10\n",
      " 0.000 has\"Free Parking on Premises\"\n",
      " 0.000 notes_textPuncPerc\n",
      " 0.000 hasTV\n",
      " 0.000 has\"Pets live on this property\"\n",
      " 0.000 notes_textDigitsPerc\n",
      " 0.000 neighborhood_overview_textWordsPerc\n",
      " 0.000 Topic19\n",
      " 0.000 space_textDigitsPerc\n",
      " 0.000 Topic6\n",
      " 0.000 interaction_textLength\n",
      " 0.000 instant_bookable\n",
      " 0.000 has\"translation missing: en.hosting_amenity_49\"\n",
      " 0.000 Topic2\n",
      " 0.000 availability_30\n",
      " 0.000 Topic8\n",
      " 0.000 require_guest_profile_picture\n",
      " 0.000 has\"Lock on Bedroom Door\"\n",
      " 0.000 beds\n",
      " 0.000 Topic16\n",
      " 0.000 Topic0\n",
      " 0.000 jurisdiction_names_enc\n",
      " 0.000 Topic18\n",
      " 0.000 interaction_textDigitsPerc\n",
      " 0.000 Topic4\n",
      " 0.000 Topic12\n",
      " 0.000 has\"translation missing: en.hosting_amenity_50\"\n",
      " 0.000 host_identity_verified\n",
      " 0.000 Topic1\n",
      " 0.000 Topic14\n",
      " 0.000 hasEssentials\n",
      " 0.000 hasHeating\n",
      " 0.000 review_scores_checkin\n",
      " 0.000 house_rules_textLength\n",
      " 0.000 Topic5\n",
      " 0.000 space_textPuncPerc\n",
      " 0.000 extra_people\n",
      " 0.000 hasDog(s)\n",
      " 0.000 notes_textLength\n",
      " 0.000 neighborhood_overview_textPuncPerc\n",
      " 0.000 neighborhood_overview_textDigitsPerc\n",
      " 0.000 hasWasher\n",
      " 0.000 Topic9\n",
      " 0.000 has\"Fire Extinguisher\"\n",
      " 0.000 interaction_textWordsPerc\n",
      " 0.000 Topic3\n",
      " 0.000 has\"Hair Dryer\"\n",
      " 0.000 Topic17\n",
      " 0.000 space_textLength\n",
      " 0.000 notes_diversity\n",
      " 0.000 hasDryer\n",
      " 0.000 house_rules_diversity\n",
      " 0.000 Topic13\n",
      " 0.000 has\"Other pet(s)\"\n",
      " 0.000 description_textLength\n",
      " 0.000 host_is_superhost\n",
      " 0.000 hasCat(s)\n",
      " 0.000 review_scores_cleanliness\n",
      " 0.000 review_scores_rating\n",
      " 0.000 has\"Cable TV\"\n",
      " 0.000 has.89583333333\n",
      " 0.000 experiences_offered_diversity\n",
      " 0.000 experiences_offered_textLength\n",
      " 0.000 experiences_offered_textDigitsPerc\n",
      " 0.000 experiences_offered_textWordsPerc\n",
      " 0.000 experiences_offered_textPuncPerc\n",
      "-0.000 ones\n",
      "-0.000 description_textDigitsPerc\n",
      "-0.000 space_diversity\n",
      "-0.000 Topic15\n",
      "-0.000 interaction_textPuncPerc\n",
      "-0.000 description_textPuncPerc\n",
      "-0.000 has\"Hot Tub\"\n",
      "-0.000 hasGym\n",
      "-0.000 transit_textLength\n",
      "-0.000 review_scores_communication\n",
      "-0.000 transit_textWordsPerc\n",
      "-0.000 calendar_updated_enc\n",
      "-0.000 Topic7\n",
      "-0.000 policy_enc\n",
      "-0.000 hasDoorman\n",
      "-0.000 host_profile_pic\n",
      "-0.000 transit_textPuncPerc\n",
      "-0.000 has\"Safety Card\"\n",
      "-0.000 has\"Buzzer/Wireless Intercom\"\n",
      "-0.000 has\"First Aid Kit\"\n",
      "-0.000 has\"Wheelchair Accessible\"\n",
      "-0.000 access_textDigitsPerc\n",
      "-0.000 space_textWordsPerc\n",
      "-0.000 maximum_nights\n",
      "-0.000 description_diversity\n",
      "-0.000 has\"24-Hour Check-in\"\n",
      "-0.000 hasInternet\n",
      "-0.000 notes_textWordsPerc\n",
      "-0.000 house_rules_textPuncPerc\n",
      "-0.000 transit_diversity\n",
      "-0.000 neighborhood_overview_textLength\n",
      "-0.000 is_location_exact\n",
      "-0.000 neighborhood_overview_diversity\n",
      "-0.000 has\"Family/Kid Friendly\"\n",
      "-0.000 access_textPuncPerc\n",
      "-0.000 has\"Smoke Detector\"\n",
      "-0.000 house_rules_textDigitsPerc\n",
      "-0.000 transit_textDigitsPerc\n",
      "-0.000 hasBreakfast\n",
      "-0.000 hasShampoo\n",
      "-0.000 has\"Wireless Internet\"\n",
      "-0.000 has\"Carbon Monoxide Detector\"\n",
      "-0.001 guests_included\n",
      "-0.001 hasKitchen\n",
      "-0.001 access_textWordsPerc\n",
      "-0.001 hasHangers\n",
      "-0.001 bedrooms\n",
      "-0.001 hasIron\n",
      "-0.001 number_of_reviews\n",
      "-0.001 description_textWordsPerc\n",
      "-0.001 review_scores_location\n",
      "-0.001 house_rules_textWordsPerc\n",
      "-0.002 hasPool\n"
     ]
    }
   ],
   "source": [
    "r2_impact_wke = list()\n",
    "baseline_wke = r2_est_two(X_train, y_train, X_test, y_test)\n",
    "for j in range(X_wke.shape[1]):\n",
    "    selection = [i for i in range(X_wke.shape[1]) if i!=j]\n",
    "    r2_impact_wke.append((baseline_wke - (r2_est_two(X_train.values[:,selection], y_train, X_test.values[:,selection], y_test)), X_test.columns[j]))\n",
    "for imp, var in sorted(r2_impact_wke, reverse=True):\n",
    "    print(\"%6.3f %s\" %(imp, var))"
   ]
  },
  {
   "cell_type": "code",
   "execution_count": 79,
   "metadata": {
    "collapsed": true
   },
   "outputs": [],
   "source": [
    "X_train, X_test, y_train, y_test = train_test_split(X_wkd, target_wkd, test_size=.30, random_state=1)\n",
    "X_train_two, X_val, y_train_two, y_val = train_test_split(X_train, y_train, test_size=.30, random_state=1)"
   ]
  },
  {
   "cell_type": "code",
   "execution_count": 80,
   "metadata": {},
   "outputs": [
    {
     "name": "stdout",
     "output_type": "stream",
     "text": [
      " 0.021 accommodates\n",
      " 0.012 bedrooms\n",
      " 0.007 longitude\n",
      " 0.004 has\"Elevator in Building\"\n",
      " 0.003 host_resp_time_enc\n",
      " 0.002 cleaning_fee\n",
      " 0.002 host_acceptance_rate\n",
      " 0.002 availability_30\n",
      " 0.001 has\"Air Conditioning\"\n",
      " 0.001 calculated_host_listings_count\n",
      " 0.001 reviews_per_month\n",
      " 0.001 beds\n",
      " 0.001 zipcode_enc\n",
      " 0.001 require_guest_profile_picture\n",
      " 0.001 access_diversity\n",
      " 0.001 availability_90\n",
      " 0.001 host_response_rate\n",
      " 0.001 access_textLength\n",
      " 0.001 Topic11\n",
      " 0.001 has\"Indoor Fireplace\"\n",
      " 0.001 minimum_nights\n",
      " 0.000 host_total_listings_count\n",
      " 0.000 has\n",
      " 0.000 bed_type_enc\n",
      " 0.000 has\"Pets Allowed\"\n",
      " 0.000 instant_bookable\n",
      " 0.000 has\"Family/Kid Friendly\"\n",
      " 0.000 bathrooms\n",
      " 0.000 require_guest_phone_verification\n",
      " 0.000 hasHangers\n",
      " 0.000 has\"Safety Card\"\n",
      " 0.000 calendar_updated_enc\n",
      " 0.000 Topic4\n",
      " 0.000 security_deposit\n",
      " 0.000 notes_textDigitsPerc\n",
      " 0.000 review_scores_accuracy\n",
      " 0.000 transit_textDigitsPerc\n",
      " 0.000 notes_textPuncPerc\n",
      " 0.000 review_scores_checkin\n",
      " 0.000 has\"Pets live on this property\"\n",
      " 0.000 Topic2\n",
      " 0.000 jurisdiction_names_enc\n",
      " 0.000 neighborhood_overview_textLength\n",
      " 0.000 neighborhood_overview_diversity\n",
      " 0.000 review_scores_cleanliness\n",
      " 0.000 availability_60\n",
      " 0.000 hasEssentials\n",
      " 0.000 has\"Free Parking on Premises\"\n",
      " 0.000 description_textLength\n",
      " 0.000 hasGym\n",
      " 0.000 has\"Wireless Internet\"\n",
      " 0.000 has\"Cable TV\"\n",
      " 0.000 house_rules_diversity\n",
      " 0.000 Topic8\n",
      " 0.000 interaction_textWordsPerc\n",
      " 0.000 host_identity_verified\n",
      " 0.000 has\"Hair Dryer\"\n",
      " 0.000 is_location_exact\n",
      " 0.000 house_rules_textLength\n",
      " 0.000 Topic9\n",
      " 0.000 has\"Wheelchair Accessible\"\n",
      " 0.000 has\"Smoke Detector\"\n",
      " 0.000 hasKitchen\n",
      " 0.000 access_textDigitsPerc\n",
      " 0.000 host_is_superhost\n",
      " 0.000 Topic10\n",
      " 0.000 has\"Fire Extinguisher\"\n",
      " 0.000 Topic14\n",
      " 0.000 transit_textWordsPerc\n",
      " 0.000 maximum_nights\n",
      " 0.000 house_rules_textWordsPerc\n",
      " 0.000 Topic16\n",
      " 0.000 hasDog(s)\n",
      " 0.000 Topic6\n",
      "-0.000 ones\n",
      "-0.000 experiences_offered_textDigitsPerc\n",
      "-0.000 experiences_offered_textWordsPerc\n",
      "-0.000 experiences_offered_textPuncPerc\n",
      "-0.000 experiences_offered_diversity\n",
      "-0.000 experiences_offered_textLength\n",
      "-0.000 has.89583333333\n",
      "-0.000 has\"First Aid Kit\"\n",
      "-0.000 transit_textPuncPerc\n",
      "-0.000 has\"translation missing: en.hosting_amenity_49\"\n",
      "-0.000 access_textWordsPerc\n",
      "-0.000 review_scores_rating\n",
      "-0.000 hasHeating\n",
      "-0.000 has\"Carbon Monoxide Detector\"\n",
      "-0.000 description_diversity\n",
      "-0.000 Topic0\n",
      "-0.000 house_rules_textPuncPerc\n",
      "-0.000 hasTV\n",
      "-0.000 review_scores_location\n",
      "-0.000 hasIron\n",
      "-0.000 Topic15\n",
      "-0.000 Topic18\n",
      "-0.000 hasCat(s)\n",
      "-0.000 Topic3\n",
      "-0.000 access_textPuncPerc\n",
      "-0.000 Topic7\n",
      "-0.000 review_scores_value\n",
      "-0.000 house_rules_textDigitsPerc\n",
      "-0.000 has\"Smoking Allowed\"\n",
      "-0.000 has\"24-Hour Check-in\"\n",
      "-0.000 Topic5\n",
      "-0.000 Topic12\n",
      "-0.000 policy_enc\n",
      "-0.000 Topic1\n",
      "-0.000 interaction_textPuncPerc\n",
      "-0.000 Topic13\n",
      "-0.000 number_of_reviews\n",
      "-0.000 guests_included\n",
      "-0.000 has\"translation missing: en.hosting_amenity_50\"\n",
      "-0.000 transit_textLength\n",
      "-0.000 hasDryer\n",
      "-0.000 latitude\n",
      "-0.000 hasWasher\n",
      "-0.000 host_profile_pic\n",
      "-0.000 description_textDigitsPerc\n",
      "-0.000 Topic19\n",
      "-0.000 notes_textWordsPerc\n",
      "-0.000 hasShampoo\n",
      "-0.000 neighborhood_overview_textDigitsPerc\n",
      "-0.000 has\"Other pet(s)\"\n",
      "-0.000 hasBreakfast\n",
      "-0.000 extra_people\n",
      "-0.000 notes_diversity\n",
      "-0.000 transit_diversity\n",
      "-0.000 neighborhood_overview_textWordsPerc\n",
      "-0.000 hasDoorman\n",
      "-0.000 hasInternet\n",
      "-0.000 notes_textLength\n",
      "-0.000 has\"Lock on Bedroom Door\"\n",
      "-0.001 space_textLength\n",
      "-0.001 Topic17\n",
      "-0.001 availability_365\n",
      "-0.001 neighborhood_overview_textPuncPerc\n",
      "-0.001 has\"Hot Tub\"\n",
      "-0.001 has\"Suitable for Events\"\n",
      "-0.001 interaction_diversity\n",
      "-0.001 hasPool\n",
      "-0.001 interaction_textLength\n",
      "-0.001 space_diversity\n",
      "-0.001 interaction_textDigitsPerc\n",
      "-0.001 space_textDigitsPerc\n",
      "-0.001 has\"Buzzer/Wireless Intercom\"\n",
      "-0.001 has\"Laptop Friendly Workspace\"\n",
      "-0.001 review_scores_communication\n",
      "-0.002 description_textWordsPerc\n",
      "-0.002 space_textPuncPerc\n",
      "-0.003 space_textWordsPerc\n",
      "-0.004 description_textPuncPerc\n"
     ]
    }
   ],
   "source": [
    "r2_impact_wkd = list()\n",
    "baseline_wkd = r2_est_two(X_train, y_train, X_test, y_test)\n",
    "for j in range(X_wkd.shape[1]):\n",
    "    selection = [i for i in range(X_wkd.shape[1]) if i!=j]\n",
    "    r2_impact_wkd.append((baseline_wkd - (r2_est_two(X_train.values[:,selection], y_train, X_test.values[:,selection], y_test)), X_test.columns[j]))\n",
    "for imp, var in sorted(r2_impact_wkd, reverse=True):\n",
    "    print(\"%6.3f %s\" %(imp, var))"
   ]
  },
  {
   "cell_type": "code",
   "execution_count": 81,
   "metadata": {
    "collapsed": true
   },
   "outputs": [],
   "source": [
    "X_train, X_test, y_train, y_test = train_test_split(X_whole, target_whole, test_size=.30, random_state=1)\n",
    "X_train_two, X_val, y_train_two, y_val = train_test_split(X_train, y_train, test_size=.30, random_state=1)"
   ]
  },
  {
   "cell_type": "code",
   "execution_count": 82,
   "metadata": {},
   "outputs": [
    {
     "name": "stdout",
     "output_type": "stream",
     "text": [
      " 0.019 accommodates\n",
      " 0.006 longitude\n",
      " 0.005 bedrooms\n",
      " 0.004 cleaning_fee\n",
      " 0.003 security_deposit\n",
      " 0.002 has\"Elevator in Building\"\n",
      " 0.001 require_guest_profile_picture\n",
      " 0.001 has\"Air Conditioning\"\n",
      " 0.001 host_resp_time_enc\n",
      " 0.001 hasPool\n",
      " 0.001 require_guest_phone_verification\n",
      " 0.001 minimum_nights\n",
      " 0.001 availability_90\n",
      " 0.001 host_acceptance_rate\n",
      " 0.001 has\"Indoor Fireplace\"\n",
      " 0.001 calculated_host_listings_count\n",
      " 0.001 availability_30\n",
      " 0.001 access_textLength\n",
      " 0.001 access_diversity\n",
      " 0.001 hasInternet\n",
      " 0.001 has\"Free Parking on Premises\"\n",
      " 0.001 reviews_per_month\n",
      " 0.001 Topic11\n",
      " 0.001 interaction_diversity\n",
      " 0.001 interaction_textLength\n",
      " 0.001 has\"Smoking Allowed\"\n",
      " 0.001 guests_included\n",
      " 0.000 Topic10\n",
      " 0.000 has\"Lock on Bedroom Door\"\n",
      " 0.000 hasHangers\n",
      " 0.000 hasTV\n",
      " 0.000 review_scores_communication\n",
      " 0.000 has\"Laptop Friendly Workspace\"\n",
      " 0.000 review_scores_accuracy\n",
      " 0.000 description_textWordsPerc\n",
      " 0.000 availability_60\n",
      " 0.000 has\"Buzzer/Wireless Intercom\"\n",
      " 0.000 number_of_reviews\n",
      " 0.000 Topic4\n",
      " 0.000 has\n",
      " 0.000 Topic2\n",
      " 0.000 Topic12\n",
      " 0.000 notes_textPuncPerc\n",
      " 0.000 host_response_rate\n",
      " 0.000 review_scores_checkin\n",
      " 0.000 Topic19\n",
      " 0.000 Topic8\n",
      " 0.000 Topic16\n",
      " 0.000 Topic18\n",
      " 0.000 neighborhood_overview_textDigitsPerc\n",
      " 0.000 Topic6\n",
      " 0.000 review_scores_location\n",
      " 0.000 has\"Pets live on this property\"\n",
      " 0.000 jurisdiction_names_enc\n",
      " 0.000 hasDoorman\n",
      " 0.000 calendar_updated_enc\n",
      " 0.000 Topic9\n",
      " 0.000 hasEssentials\n",
      " 0.000 review_scores_value\n",
      " 0.000 has\"Family/Kid Friendly\"\n",
      " 0.000 hasShampoo\n",
      " 0.000 Topic14\n",
      " 0.000 neighborhood_overview_textWordsPerc\n",
      " 0.000 access_textPuncPerc\n",
      " 0.000 Topic0\n",
      " 0.000 zipcode_enc\n",
      " 0.000 interaction_textDigitsPerc\n",
      " 0.000 has\"translation missing: en.hosting_amenity_49\"\n",
      " 0.000 Topic5\n",
      " 0.000 instant_bookable\n",
      " 0.000 transit_textWordsPerc\n",
      " 0.000 bed_type_enc\n",
      " 0.000 Topic1\n",
      " 0.000 has\"Other pet(s)\"\n",
      " 0.000 space_textDigitsPerc\n",
      " 0.000 interaction_textWordsPerc\n",
      " 0.000 has\"Hot Tub\"\n",
      " 0.000 space_textPuncPerc\n",
      " 0.000 house_rules_textLength\n",
      " 0.000 is_location_exact\n",
      " 0.000 house_rules_diversity\n",
      " 0.000 hasHeating\n",
      " 0.000 Topic3\n",
      " 0.000 hasDog(s)\n",
      " 0.000 host_identity_verified\n",
      " 0.000 has\"translation missing: en.hosting_amenity_50\"\n",
      " 0.000 space_textLength\n",
      " 0.000 Topic17\n",
      " 0.000 neighborhood_overview_textLength\n",
      " 0.000 has\"Wireless Internet\"\n",
      " 0.000 neighborhood_overview_textPuncPerc\n",
      " 0.000 notes_textLength\n",
      " 0.000 access_textDigitsPerc\n",
      " 0.000 Topic13\n",
      " 0.000 has\"Suitable for Events\"\n",
      " 0.000 has\"Fire Extinguisher\"\n",
      " 0.000 hasDryer\n",
      " 0.000 host_is_superhost\n",
      " 0.000 has\"Carbon Monoxide Detector\"\n",
      " 0.000 hasCat(s)\n",
      " 0.000 host_total_listings_count\n",
      " 0.000 transit_textLength\n",
      " 0.000 notes_diversity\n",
      " 0.000 hasWasher\n",
      " 0.000 transit_diversity\n",
      " 0.000 policy_enc\n",
      " 0.000 has\"Smoke Detector\"\n",
      " 0.000 maximum_nights\n",
      " 0.000 bathrooms\n",
      "-0.000 ones\n",
      "-0.000 experiences_offered_textWordsPerc\n",
      "-0.000 experiences_offered_textPuncPerc\n",
      "-0.000 experiences_offered_textDigitsPerc\n",
      "-0.000 experiences_offered_diversity\n",
      "-0.000 experiences_offered_textLength\n",
      "-0.000 has.89583333333\n",
      "-0.000 host_profile_pic\n",
      "-0.000 space_textWordsPerc\n",
      "-0.000 description_diversity\n",
      "-0.000 review_scores_rating\n",
      "-0.000 house_rules_textDigitsPerc\n",
      "-0.000 hasIron\n",
      "-0.000 notes_textWordsPerc\n",
      "-0.000 access_textWordsPerc\n",
      "-0.000 house_rules_textWordsPerc\n",
      "-0.000 Topic15\n",
      "-0.000 Topic7\n",
      "-0.000 interaction_textPuncPerc\n",
      "-0.000 extra_people\n",
      "-0.000 has\"Wheelchair Accessible\"\n",
      "-0.000 neighborhood_overview_diversity\n",
      "-0.000 space_diversity\n",
      "-0.000 has\"Safety Card\"\n",
      "-0.000 availability_365\n",
      "-0.000 hasBreakfast\n",
      "-0.000 review_scores_cleanliness\n",
      "-0.000 has\"Pets Allowed\"\n",
      "-0.000 hasGym\n",
      "-0.000 hasKitchen\n",
      "-0.000 transit_textDigitsPerc\n",
      "-0.000 description_textDigitsPerc\n",
      "-0.000 transit_textPuncPerc\n",
      "-0.000 description_textLength\n",
      "-0.000 has\"First Aid Kit\"\n",
      "-0.000 beds\n",
      "-0.000 has\"Cable TV\"\n",
      "-0.000 house_rules_textPuncPerc\n",
      "-0.000 description_textPuncPerc\n",
      "-0.000 has\"Hair Dryer\"\n",
      "-0.000 notes_textDigitsPerc\n",
      "-0.000 latitude\n",
      "-0.000 has\"24-Hour Check-in\"\n"
     ]
    }
   ],
   "source": [
    "r2_impact_whole = list()\n",
    "baseline_whole = r2_est_two(X_train, y_train, X_test, y_test)\n",
    "for j in range(X_whole.shape[1]):\n",
    "    selection = [i for i in range(X_whole.shape[1]) if i!=j]\n",
    "    r2_impact_whole.append((baseline_whole - (r2_est_two(X_train.values[:,selection], y_train, X_test.values[:,selection], y_test)), X_test.columns[j]))\n",
    "for imp, var in sorted(r2_impact_whole, reverse=True):\n",
    "    print(\"%6.3f %s\" %(imp, var))"
   ]
  },
  {
   "cell_type": "markdown",
   "metadata": {},
   "source": [
    "### Model 5"
   ]
  },
  {
   "cell_type": "markdown",
   "metadata": {},
   "source": [
    "#### Holidays"
   ]
  },
  {
   "cell_type": "code",
   "execution_count": 83,
   "metadata": {
    "collapsed": true
   },
   "outputs": [],
   "source": [
    "X_train, X_test, y_train, y_test = train_test_split(X_hol, np.log(target_hol), test_size=.30, random_state=1)\n",
    "X_train_two, X_val, y_train_two, y_val = train_test_split(X_train, y_train, test_size=.30, random_state=1)"
   ]
  },
  {
   "cell_type": "code",
   "execution_count": 84,
   "metadata": {},
   "outputs": [
    {
     "name": "stdout",
     "output_type": "stream",
     "text": [
      "R2 for validation is 0.713408608734\n",
      "Mean square error for validation is 11067.8480221\n",
      "Mean absolute error for validation is 61.3380258186\n",
      "R2 is 0.69986984258\n",
      "Mean square error is 14624.0066227\n",
      "Mean absolute error is 61.9210474179\n"
     ]
    }
   ],
   "source": [
    "print('R2 for validation is ' + str(r2_est_two(X_train_two, y_train_two, X_val, y_val)))\n",
    "print('Mean square error for validation is ' + str(mean_squared_error(np.exp(linear_regression.fit(X_train_two, y_train_two).predict(X_val)), np.exp(y_val))))\n",
    "print('Mean absolute error for validation is ' + str(mean_absolute_error(np.exp(linear_regression.fit(X_train_two, y_train_two).predict(X_val)), np.exp(y_val))))\n",
    "print('R2 is ' + str(r2_est_two(X_train, y_train, X_test, y_test)))\n",
    "print('Mean square error is ' + str(mean_squared_error(np.exp(linear_regression.fit(X_train, y_train).predict(X_test)), np.exp(y_test))))\n",
    "print('Mean absolute error is ' + str(mean_absolute_error(np.exp(linear_regression.fit(X_train, y_train).predict(X_test)), np.exp(y_test))))"
   ]
  },
  {
   "cell_type": "markdown",
   "metadata": {},
   "source": [
    "#### Weekends"
   ]
  },
  {
   "cell_type": "code",
   "execution_count": 85,
   "metadata": {
    "collapsed": true
   },
   "outputs": [],
   "source": [
    "X_train, X_test, y_train, y_test = train_test_split(X_wke, np.log(target_wke), test_size=.30, random_state=1)\n",
    "X_train_two, X_val, y_train_two, y_val = train_test_split(X_train, y_train, test_size=.30, random_state=1)"
   ]
  },
  {
   "cell_type": "code",
   "execution_count": 86,
   "metadata": {},
   "outputs": [
    {
     "name": "stdout",
     "output_type": "stream",
     "text": [
      "R2 for validation is -0.128564923652\n",
      "Mean square error for validation is 16481.585957\n",
      "Mean absolute error for validation is 69.1097374351\n",
      "R2 is 0.651963515773\n",
      "Mean square error is 18053.5489113\n",
      "Mean absolute error is 67.9182888195\n"
     ]
    }
   ],
   "source": [
    "print('R2 for validation is ' + str(r2_est_two(X_train_two, y_train_two, X_val, y_val)))\n",
    "print('Mean square error for validation is ' + str(mean_squared_error(np.exp(linear_regression.fit(X_train_two, y_train_two).predict(X_val)), np.exp(y_val))))\n",
    "print('Mean absolute error for validation is ' + str(mean_absolute_error(np.exp(linear_regression.fit(X_train_two, y_train_two).predict(X_val)), np.exp(y_val))))\n",
    "print('R2 is ' + str(r2_est_two(X_train, y_train, X_test, y_test)))\n",
    "print('Mean square error is ' + str(mean_squared_error(np.exp(linear_regression.fit(X_train, y_train).predict(X_test)), np.exp(y_test))))\n",
    "print('Mean absolute error is ' + str(mean_absolute_error(np.exp(linear_regression.fit(X_train, y_train).predict(X_test)), np.exp(y_test))))"
   ]
  },
  {
   "cell_type": "markdown",
   "metadata": {},
   "source": [
    "#### Weekdays"
   ]
  },
  {
   "cell_type": "code",
   "execution_count": 87,
   "metadata": {
    "collapsed": true
   },
   "outputs": [],
   "source": [
    "X_train, X_test, y_train, y_test = train_test_split(X_wkd, np.log(target_wkd), test_size=.30, random_state=1)\n",
    "X_train_two, X_val, y_train_two, y_val = train_test_split(X_train, y_train, test_size=.30, random_state=1)"
   ]
  },
  {
   "cell_type": "code",
   "execution_count": 88,
   "metadata": {},
   "outputs": [
    {
     "name": "stdout",
     "output_type": "stream",
     "text": [
      "R2 for validation is 0.635215022373\n",
      "Mean square error for validation is 15630.5894728\n",
      "Mean absolute error for validation is 70.7960988664\n",
      "R2 is 0.68157070758\n",
      "Mean square error is 19412.1495749\n",
      "Mean absolute error is 67.5007212331\n"
     ]
    }
   ],
   "source": [
    "print('R2 for validation is ' + str(r2_est_two(X_train_two, y_train_two, X_val, y_val)))\n",
    "print('Mean square error for validation is ' + str(mean_squared_error(np.exp(linear_regression.fit(X_train_two, y_train_two).predict(X_val)), np.exp(y_val))))\n",
    "print('Mean absolute error for validation is ' + str(mean_absolute_error(np.exp(linear_regression.fit(X_train_two, y_train_two).predict(X_val)), np.exp(y_val))))\n",
    "print('R2 is ' + str(r2_est_two(X_train, y_train, X_test, y_test)))\n",
    "print('Mean square error is ' + str(mean_squared_error(np.exp(linear_regression.fit(X_train, y_train).predict(X_test)), np.exp(y_test))))\n",
    "print('Mean absolute error is ' + str(mean_absolute_error(np.exp(linear_regression.fit(X_train, y_train).predict(X_test)), np.exp(y_test))))"
   ]
  },
  {
   "cell_type": "markdown",
   "metadata": {},
   "source": [
    "#### As a whole"
   ]
  },
  {
   "cell_type": "code",
   "execution_count": 89,
   "metadata": {
    "collapsed": true
   },
   "outputs": [],
   "source": [
    "X_train, X_test, y_train, y_test = train_test_split(X_whole, np.log(target_whole), test_size=.30, random_state=1)\n",
    "X_train_two, X_val, y_train_two, y_val = train_test_split(X_train, y_train, test_size=.30, random_state=1)"
   ]
  },
  {
   "cell_type": "code",
   "execution_count": 90,
   "metadata": {},
   "outputs": [
    {
     "name": "stdout",
     "output_type": "stream",
     "text": [
      "R2 for validation is 0.696978761225\n",
      "Mean square error for validation is 15485.0512118\n",
      "Mean absolute error for validation is 65.1062347828\n",
      "R2 is 0.681936852525\n",
      "Mean square error is 15603.1353012\n",
      "Mean absolute error is 65.6321606212\n"
     ]
    }
   ],
   "source": [
    "print('R2 for validation is ' + str(r2_est_two(X_train_two, y_train_two, X_val, y_val)))\n",
    "print('Mean square error for validation is ' + str(mean_squared_error(np.exp(linear_regression.fit(X_train_two, y_train_two).predict(X_val)), np.exp(y_val))))\n",
    "print('Mean absolute error for validation is ' + str(mean_absolute_error(np.exp(linear_regression.fit(X_train_two, y_train_two).predict(X_val)), np.exp(y_val))))\n",
    "print('R2 is ' + str(r2_est_two(X_train, y_train, X_test, y_test)))\n",
    "print('Mean square error is ' + str(mean_squared_error(np.exp(linear_regression.fit(X_train, y_train).predict(X_test)), np.exp(y_test))))\n",
    "print('Mean absolute error is ' + str(mean_absolute_error(np.exp(linear_regression.fit(X_train, y_train).predict(X_test)), np.exp(y_test))))"
   ]
  },
  {
   "cell_type": "code",
   "execution_count": null,
   "metadata": {
    "collapsed": true
   },
   "outputs": [],
   "source": []
  }
 ],
 "metadata": {
  "anaconda-cloud": {},
  "kernelspec": {
   "display_name": "Python 2",
   "language": "python",
   "name": "python2"
  },
  "language_info": {
   "codemirror_mode": {
    "name": "ipython",
    "version": 2
   },
   "file_extension": ".py",
   "mimetype": "text/x-python",
   "name": "python",
   "nbconvert_exporter": "python",
   "pygments_lexer": "ipython2",
   "version": "2.7.14"
  }
 },
 "nbformat": 4,
 "nbformat_minor": 2
}
