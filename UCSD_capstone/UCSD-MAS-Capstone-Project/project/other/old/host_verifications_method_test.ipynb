{
 "cells": [
  {
   "cell_type": "code",
   "execution_count": 1,
   "metadata": {
    "collapsed": true
   },
   "outputs": [],
   "source": [
    "import json\n",
    "from StringIO import StringIO\n",
    "import pandas as pd"
   ]
  },
  {
   "cell_type": "code",
   "execution_count": 2,
   "metadata": {
    "collapsed": true
   },
   "outputs": [],
   "source": [
    "import pandas as pd\n",
    "import os\n",
    "import sklearn as sk\n",
    "from sklearn.linear_model import MultiTaskLasso, MultiTaskElasticNet, ElasticNet\n",
    "from sklearn.cross_validation import train_test_split\n",
    "from sklearn.metrics import mean_absolute_error, mean_squared_error\n",
    "import sklearn.metrics as skmet\n",
    "import numpy as np\n",
    "import nltk\n",
    "from nltk.tokenize import sent_tokenize, word_tokenize\n",
    "from nltk.corpus import stopwords, names\n",
    "import datetime\n",
    "from scipy.stats import ttest_ind \n",
    "import csv"
   ]
  },
  {
   "cell_type": "code",
   "execution_count": 3,
   "metadata": {
    "collapsed": true
   },
   "outputs": [],
   "source": [
    "listings = pd.read_csv('inside_airbnb/listings.csv')\n",
    "list_summ = pd.read_csv('inside_airbnb/listings_summ.csv')\n",
    "neighborhoods = pd.read_csv('inside_airbnb/neighbourhoods.csv')\n",
    "reviews = pd.read_csv('inside_airbnb/reviews.csv')\n",
    "reviews_summ = pd.read_csv('inside_airbnb/reviews_summ.csv')\n",
    "calendar = pd.read_csv('inside_airbnb/calendar.csv')"
   ]
  },
  {
   "cell_type": "code",
   "execution_count": 4,
   "metadata": {
    "collapsed": true
   },
   "outputs": [],
   "source": [
    "def string_to_set(x):\n",
    "    c = set()\n",
    "    for w in x[1:-1].split(\",\"):\n",
    "        c.add(w)\n",
    "        \n",
    "    return c\n",
    "\n",
    "def has_amenity(x, amen_):\n",
    "    if amen_ in x:\n",
    "        return 1\n",
    "    pass"
   ]
  },
  {
   "cell_type": "code",
   "execution_count": 9,
   "metadata": {
    "collapsed": true
   },
   "outputs": [],
   "source": [
    "listings['amenities_set'] = listings['amenities'].fillna('{}').map(string_to_set)\n",
    "all_amenities = set()\n",
    "    \n",
    "for idx in listings['amenities'].fillna('{}').map(string_to_set).index:\n",
    "    all_amenities = all_amenities.union(listings['amenities'].fillna('{}').map(string_to_set)[idx])"
   ]
  },
  {
   "cell_type": "code",
   "execution_count": 10,
   "metadata": {
    "scrolled": true
   },
   "outputs": [
    {
     "data": {
      "text/plain": [
       "{'',\n",
       " '\"24-Hour Check-in\"',\n",
       " '\"Air Conditioning\"',\n",
       " '\"Buzzer/Wireless Intercom\"',\n",
       " '\"Cable TV\"',\n",
       " '\"Carbon Monoxide Detector\"',\n",
       " '\"Elevator in Building\"',\n",
       " '\"Family/Kid Friendly\"',\n",
       " '\"Fire Extinguisher\"',\n",
       " '\"First Aid Kit\"',\n",
       " '\"Free Parking on Premises\"',\n",
       " '\"Hair Dryer\"',\n",
       " '\"Hot Tub\"',\n",
       " '\"Indoor Fireplace\"',\n",
       " '\"Laptop Friendly Workspace\"',\n",
       " '\"Lock on Bedroom Door\"',\n",
       " '\"Other pet(s)\"',\n",
       " '\"Pets Allowed\"',\n",
       " '\"Pets live on this property\"',\n",
       " '\"Safety Card\"',\n",
       " '\"Smoke Detector\"',\n",
       " '\"Smoking Allowed\"',\n",
       " '\"Suitable for Events\"',\n",
       " '\"Wheelchair Accessible\"',\n",
       " '\"Wireless Internet\"',\n",
       " '\"translation missing: en.hosting_amenity_49\"',\n",
       " '\"translation missing: en.hosting_amenity_50\"',\n",
       " 'Breakfast',\n",
       " 'Cat(s)',\n",
       " 'Dog(s)',\n",
       " 'Doorman',\n",
       " 'Dryer',\n",
       " 'Essentials',\n",
       " 'Gym',\n",
       " 'Hangers',\n",
       " 'Heating',\n",
       " 'Internet',\n",
       " 'Iron',\n",
       " 'Kitchen',\n",
       " 'Pool',\n",
       " 'Shampoo',\n",
       " 'TV',\n",
       " 'Washer'}"
      ]
     },
     "execution_count": 10,
     "metadata": {},
     "output_type": "execute_result"
    }
   ],
   "source": [
    "all_amenities"
   ]
  },
  {
   "cell_type": "code",
   "execution_count": null,
   "metadata": {
    "collapsed": true
   },
   "outputs": [],
   "source": []
  },
  {
   "cell_type": "code",
   "execution_count": null,
   "metadata": {
    "collapsed": true
   },
   "outputs": [],
   "source": []
  },
  {
   "cell_type": "code",
   "execution_count": null,
   "metadata": {
    "collapsed": true
   },
   "outputs": [],
   "source": []
  },
  {
   "cell_type": "code",
   "execution_count": null,
   "metadata": {
    "collapsed": true
   },
   "outputs": [],
   "source": []
  },
  {
   "cell_type": "code",
   "execution_count": 5,
   "metadata": {
    "collapsed": true
   },
   "outputs": [],
   "source": [
    "listings['amenities_set'] = listings['amenities'].fillna('{}').map(string_to_set)\n",
    "all_amenities = set()\n",
    "    \n",
    "for idx in listings['amenities'].fillna('{}').map(string_to_set).index:\n",
    "    all_amenities = all_amenities.union(listings['amenities'].fillna('{}').map(string_to_set)[idx])\n",
    "    \n",
    "for amen in all_amenities:\n",
    "        \n",
    "    if len(amen.split(' ')) == 1:\n",
    "        listings['has_' + amen] = 0\n",
    "        listings['has_' + amen] = listings['amenities_set'].map(lambda x: has_amenity(x, amen))\n",
    "        continue\n",
    "            \n",
    "    if \"\" in amen:\n",
    "        amen = amen[1:-1].replace(' ', '_')\n",
    "            \n",
    "    listings['has_' + amen] = 0\n",
    "    listings['has_' + amen] = listings['amenities_set'].map(lambda x: has_amenity(x, amen))\n",
    "        \n",
    "    \n",
    "has_amenties_list = []\n",
    "for amen in all_amenities:\n",
    "        \n",
    "    if len(amen.split(' ')) == 1:\n",
    "        has_amenties_list.append('has_' + amen)\n",
    "        continue\n",
    "            \n",
    "    if \"\" in amen:\n",
    "        amen = amen[1:-1].replace(' ', '_')\n",
    "            \n",
    "    has_amenties_list.append('has_' + amen)\n",
    "    "
   ]
  },
  {
   "cell_type": "code",
   "execution_count": 6,
   "metadata": {},
   "outputs": [
    {
     "data": {
      "text/plain": [
       "has_                                              6525\n",
       "has_Other_pet(s)                                  6608\n",
       "has_Essentials                                    1061\n",
       "has_Carbon_Monoxide_Detector                      6608\n",
       "has_Elevator_in_Building                          6608\n",
       "has_Indoor_Fireplace                              6608\n",
       "has_translation_missing:_en.hosting_amenity_50    6608\n",
       "has_Internet                                      1852\n",
       "has_Washer                                        1416\n",
       "has_Hangers                                       3194\n",
       "has_Buzzer/Wireless_Intercom                      6608\n",
       "has_TV                                            1334\n",
       "has_Gym                                           5634\n",
       "has_Fire_Extinguisher                             6608\n",
       "has_Hot_Tub                                       6608\n",
       "has_Cable_TV                                      6608\n",
       "has_Air_Conditioning                              6608\n",
       "has_Laptop_Friendly_Workspace                     6608\n",
       "has_Suitable_for_Events                           6608\n",
       "has_Kitchen                                        520\n",
       "has_Family/Kid_Friendly                           6608\n",
       "has_translation_missing:_en.hosting_amenity_49    6608\n",
       "has_Shampoo                                       2244\n",
       "has_Heating                                       1415\n",
       "has_Hair_Dryer                                    6608\n",
       "has_Smoke_Detector                                6608\n",
       "has_Iron                                          3693\n",
       "has_Lock_on_Bedroom_Door                          6608\n",
       "has_Free_Parking_on_Premises                      6608\n",
       "has_Pets_live_on_this_property                    6608\n",
       "has_Safety_Card                                   6608\n",
       "has_Doorman                                       6493\n",
       "has_Dryer                                         1457\n",
       "has_Pets_Allowed                                  6608\n",
       "has_Wheelchair_Accessible                         6608\n",
       "has_First_Aid_Kit                                 6608\n",
       "has_Dog(s)                                        5889\n",
       "has_Wireless_Internet                             6608\n",
       "has_Pool                                          5255\n",
       "has_Breakfast                                     5943\n",
       "has_Smoking_Allowed                               6608\n",
       "has_Cat(s)                                        6269\n",
       "has_24-Hour_Check-in                              6608\n",
       "dtype: int64"
      ]
     },
     "execution_count": 6,
     "metadata": {},
     "output_type": "execute_result"
    }
   ],
   "source": [
    "listings[has_amenties_list].isnull().sum()"
   ]
  },
  {
   "cell_type": "code",
   "execution_count": null,
   "metadata": {
    "collapsed": true
   },
   "outputs": [],
   "source": [
    "listings[has_amenties_list] = listings[has_amenties_list].fillna(0)"
   ]
  },
  {
   "cell_type": "code",
   "execution_count": 7,
   "metadata": {
    "collapsed": true
   },
   "outputs": [],
   "source": [
    "a = listings['host_verifications'].map(lambda x: x[1:-1]).map(lambda j: j.split(',')).map(lambda k: set(k))\n",
    "all_host_verifications = set()\n",
    "    \n",
    "for w in a.index:\n",
    "    all_host_verifications = all_host_verifications.union(a[w])\n",
    "        \n",
    "for w in all_host_verifications:\n",
    "        \n",
    "    if '' in w:\n",
    "        w = w.strip()[1:-1].replace(' ', '_')\n",
    "            \n",
    "    listings['uses_' + w] = 0\n",
    "    listings['uses_' + w] = a.map(lambda x: has_amenity(x, w))\n",
    "        \n",
    "    \n",
    "uses_verification_list = []\n",
    "for veri in all_host_verifications:\n",
    "        \n",
    "    if '' in veri:\n",
    "        veri = veri.strip()[1:-1].replace(' ', '_')\n",
    "            \n",
    "    uses_verification_list.append('uses_' + veri)\n",
    "        \n"
   ]
  },
  {
   "cell_type": "code",
   "execution_count": 8,
   "metadata": {},
   "outputs": [
    {
     "data": {
      "text/plain": [
       "uses_phone             6608\n",
       "uses_linkedin          6608\n",
       "uses_email             6608\n",
       "uses_manual_online     6608\n",
       "uses_facebook          6608\n",
       "uses_amex              6608\n",
       "uses_phone             6608\n",
       "uses_sent_id           6608\n",
       "uses_jumio             6608\n",
       "uses_google            6608\n",
       "uses_weibo             6608\n",
       "uses_manual_offline    6608\n",
       "uses_kba               6608\n",
       "uses_kba               6608\n",
       "uses_reviews           6608\n",
       "dtype: int64"
      ]
     },
     "execution_count": 8,
     "metadata": {},
     "output_type": "execute_result"
    }
   ],
   "source": [
    "listings[uses_verification_list].isnull().sum()"
   ]
  },
  {
   "cell_type": "code",
   "execution_count": null,
   "metadata": {
    "collapsed": true
   },
   "outputs": [],
   "source": [
    "listings[uses_verification_list] = listings[uses_verification_list].fillna(0)"
   ]
  },
  {
   "cell_type": "code",
   "execution_count": null,
   "metadata": {
    "collapsed": true
   },
   "outputs": [],
   "source": [
    "listings[has_amenties_list].isnull().sum()"
   ]
  },
  {
   "cell_type": "code",
   "execution_count": 7,
   "metadata": {},
   "outputs": [
    {
     "data": {
      "text/html": [
       "<div>\n",
       "<table border=\"1\" class=\"dataframe\">\n",
       "  <thead>\n",
       "    <tr style=\"text-align: right;\">\n",
       "      <th></th>\n",
       "      <th>uses_phone</th>\n",
       "      <th>uses_linkedin</th>\n",
       "      <th>uses_email</th>\n",
       "      <th>uses_manual_online</th>\n",
       "      <th>uses_facebook</th>\n",
       "      <th>uses_amex</th>\n",
       "      <th>uses_phone</th>\n",
       "      <th>uses_sent_id</th>\n",
       "      <th>uses_jumio</th>\n",
       "      <th>uses_google</th>\n",
       "      <th>uses_weibo</th>\n",
       "      <th>uses_manual_offline</th>\n",
       "      <th>uses_kba</th>\n",
       "      <th>uses_kba</th>\n",
       "      <th>uses_reviews</th>\n",
       "    </tr>\n",
       "  </thead>\n",
       "  <tbody>\n",
       "    <tr>\n",
       "      <th>0</th>\n",
       "      <td>0</td>\n",
       "      <td>0</td>\n",
       "      <td>0</td>\n",
       "      <td>0</td>\n",
       "      <td>0</td>\n",
       "      <td>0</td>\n",
       "      <td>0</td>\n",
       "      <td>0</td>\n",
       "      <td>0</td>\n",
       "      <td>0</td>\n",
       "      <td>0</td>\n",
       "      <td>0</td>\n",
       "      <td>0</td>\n",
       "      <td>0</td>\n",
       "      <td>0</td>\n",
       "    </tr>\n",
       "    <tr>\n",
       "      <th>1</th>\n",
       "      <td>0</td>\n",
       "      <td>0</td>\n",
       "      <td>0</td>\n",
       "      <td>0</td>\n",
       "      <td>0</td>\n",
       "      <td>0</td>\n",
       "      <td>0</td>\n",
       "      <td>0</td>\n",
       "      <td>0</td>\n",
       "      <td>0</td>\n",
       "      <td>0</td>\n",
       "      <td>0</td>\n",
       "      <td>0</td>\n",
       "      <td>0</td>\n",
       "      <td>0</td>\n",
       "    </tr>\n",
       "    <tr>\n",
       "      <th>2</th>\n",
       "      <td>0</td>\n",
       "      <td>0</td>\n",
       "      <td>0</td>\n",
       "      <td>0</td>\n",
       "      <td>0</td>\n",
       "      <td>0</td>\n",
       "      <td>0</td>\n",
       "      <td>0</td>\n",
       "      <td>0</td>\n",
       "      <td>0</td>\n",
       "      <td>0</td>\n",
       "      <td>0</td>\n",
       "      <td>0</td>\n",
       "      <td>0</td>\n",
       "      <td>0</td>\n",
       "    </tr>\n",
       "    <tr>\n",
       "      <th>3</th>\n",
       "      <td>0</td>\n",
       "      <td>0</td>\n",
       "      <td>0</td>\n",
       "      <td>0</td>\n",
       "      <td>0</td>\n",
       "      <td>0</td>\n",
       "      <td>0</td>\n",
       "      <td>0</td>\n",
       "      <td>0</td>\n",
       "      <td>0</td>\n",
       "      <td>0</td>\n",
       "      <td>0</td>\n",
       "      <td>0</td>\n",
       "      <td>0</td>\n",
       "      <td>0</td>\n",
       "    </tr>\n",
       "  </tbody>\n",
       "</table>\n",
       "</div>"
      ],
      "text/plain": [
       "   uses_phone  uses_linkedin  uses_email  uses_manual_online  uses_facebook  \\\n",
       "0           0              0           0                   0              0   \n",
       "1           0              0           0                   0              0   \n",
       "2           0              0           0                   0              0   \n",
       "3           0              0           0                   0              0   \n",
       "\n",
       "   uses_amex  uses_phone  uses_sent_id  uses_jumio  uses_google  uses_weibo  \\\n",
       "0          0           0             0           0            0           0   \n",
       "1          0           0             0           0            0           0   \n",
       "2          0           0             0           0            0           0   \n",
       "3          0           0             0           0            0           0   \n",
       "\n",
       "   uses_manual_offline  uses_kba  uses_kba  uses_reviews  \n",
       "0                    0         0         0             0  \n",
       "1                    0         0         0             0  \n",
       "2                    0         0         0             0  \n",
       "3                    0         0         0             0  "
      ]
     },
     "execution_count": 7,
     "metadata": {},
     "output_type": "execute_result"
    }
   ],
   "source": [
    "listings[uses_verification_list].head(4)"
   ]
  },
  {
   "cell_type": "code",
   "execution_count": 8,
   "metadata": {
    "scrolled": true
   },
   "outputs": [
    {
     "data": {
      "text/html": [
       "<div>\n",
       "<table border=\"1\" class=\"dataframe\">\n",
       "  <thead>\n",
       "    <tr style=\"text-align: right;\">\n",
       "      <th></th>\n",
       "      <th>has_</th>\n",
       "      <th>has_Other_pet(s)</th>\n",
       "      <th>has_Essentials</th>\n",
       "      <th>has_Carbon_Monoxide_Detector</th>\n",
       "      <th>has_Elevator_in_Building</th>\n",
       "      <th>has_Indoor_Fireplace</th>\n",
       "      <th>has_translation_missing:_en.hosting_amenity_50</th>\n",
       "      <th>has_Internet</th>\n",
       "      <th>has_Washer</th>\n",
       "      <th>has_Hangers</th>\n",
       "      <th>...</th>\n",
       "      <th>has_Pets_Allowed</th>\n",
       "      <th>has_Wheelchair_Accessible</th>\n",
       "      <th>has_First_Aid_Kit</th>\n",
       "      <th>has_Dog(s)</th>\n",
       "      <th>has_Wireless_Internet</th>\n",
       "      <th>has_Pool</th>\n",
       "      <th>has_Breakfast</th>\n",
       "      <th>has_Smoking_Allowed</th>\n",
       "      <th>has_Cat(s)</th>\n",
       "      <th>has_24-Hour_Check-in</th>\n",
       "    </tr>\n",
       "  </thead>\n",
       "  <tbody>\n",
       "    <tr>\n",
       "      <th>0</th>\n",
       "      <td>0.0</td>\n",
       "      <td>0</td>\n",
       "      <td>1.0</td>\n",
       "      <td>0</td>\n",
       "      <td>0</td>\n",
       "      <td>0</td>\n",
       "      <td>0</td>\n",
       "      <td>0.0</td>\n",
       "      <td>0.0</td>\n",
       "      <td>0.0</td>\n",
       "      <td>...</td>\n",
       "      <td>0</td>\n",
       "      <td>0</td>\n",
       "      <td>0</td>\n",
       "      <td>0.0</td>\n",
       "      <td>0</td>\n",
       "      <td>0.0</td>\n",
       "      <td>0.0</td>\n",
       "      <td>0</td>\n",
       "      <td>0.0</td>\n",
       "      <td>0</td>\n",
       "    </tr>\n",
       "    <tr>\n",
       "      <th>1</th>\n",
       "      <td>0.0</td>\n",
       "      <td>0</td>\n",
       "      <td>1.0</td>\n",
       "      <td>0</td>\n",
       "      <td>0</td>\n",
       "      <td>0</td>\n",
       "      <td>0</td>\n",
       "      <td>1.0</td>\n",
       "      <td>0.0</td>\n",
       "      <td>0.0</td>\n",
       "      <td>...</td>\n",
       "      <td>0</td>\n",
       "      <td>0</td>\n",
       "      <td>0</td>\n",
       "      <td>0.0</td>\n",
       "      <td>0</td>\n",
       "      <td>1.0</td>\n",
       "      <td>0.0</td>\n",
       "      <td>0</td>\n",
       "      <td>0.0</td>\n",
       "      <td>0</td>\n",
       "    </tr>\n",
       "    <tr>\n",
       "      <th>2</th>\n",
       "      <td>0.0</td>\n",
       "      <td>0</td>\n",
       "      <td>1.0</td>\n",
       "      <td>0</td>\n",
       "      <td>0</td>\n",
       "      <td>0</td>\n",
       "      <td>0</td>\n",
       "      <td>0.0</td>\n",
       "      <td>1.0</td>\n",
       "      <td>0.0</td>\n",
       "      <td>...</td>\n",
       "      <td>0</td>\n",
       "      <td>0</td>\n",
       "      <td>0</td>\n",
       "      <td>0.0</td>\n",
       "      <td>0</td>\n",
       "      <td>1.0</td>\n",
       "      <td>0.0</td>\n",
       "      <td>0</td>\n",
       "      <td>0.0</td>\n",
       "      <td>0</td>\n",
       "    </tr>\n",
       "    <tr>\n",
       "      <th>3</th>\n",
       "      <td>0.0</td>\n",
       "      <td>0</td>\n",
       "      <td>1.0</td>\n",
       "      <td>0</td>\n",
       "      <td>0</td>\n",
       "      <td>0</td>\n",
       "      <td>0</td>\n",
       "      <td>1.0</td>\n",
       "      <td>1.0</td>\n",
       "      <td>1.0</td>\n",
       "      <td>...</td>\n",
       "      <td>0</td>\n",
       "      <td>0</td>\n",
       "      <td>0</td>\n",
       "      <td>0.0</td>\n",
       "      <td>0</td>\n",
       "      <td>0.0</td>\n",
       "      <td>0.0</td>\n",
       "      <td>0</td>\n",
       "      <td>0.0</td>\n",
       "      <td>0</td>\n",
       "    </tr>\n",
       "  </tbody>\n",
       "</table>\n",
       "<p>4 rows × 43 columns</p>\n",
       "</div>"
      ],
      "text/plain": [
       "   has_  has_Other_pet(s)  has_Essentials  has_Carbon_Monoxide_Detector  \\\n",
       "0   0.0                 0             1.0                             0   \n",
       "1   0.0                 0             1.0                             0   \n",
       "2   0.0                 0             1.0                             0   \n",
       "3   0.0                 0             1.0                             0   \n",
       "\n",
       "   has_Elevator_in_Building  has_Indoor_Fireplace  \\\n",
       "0                         0                     0   \n",
       "1                         0                     0   \n",
       "2                         0                     0   \n",
       "3                         0                     0   \n",
       "\n",
       "   has_translation_missing:_en.hosting_amenity_50  has_Internet  has_Washer  \\\n",
       "0                                               0           0.0         0.0   \n",
       "1                                               0           1.0         0.0   \n",
       "2                                               0           0.0         1.0   \n",
       "3                                               0           1.0         1.0   \n",
       "\n",
       "   has_Hangers          ...           has_Pets_Allowed  \\\n",
       "0          0.0          ...                          0   \n",
       "1          0.0          ...                          0   \n",
       "2          0.0          ...                          0   \n",
       "3          1.0          ...                          0   \n",
       "\n",
       "   has_Wheelchair_Accessible  has_First_Aid_Kit  has_Dog(s)  \\\n",
       "0                          0                  0         0.0   \n",
       "1                          0                  0         0.0   \n",
       "2                          0                  0         0.0   \n",
       "3                          0                  0         0.0   \n",
       "\n",
       "   has_Wireless_Internet  has_Pool  has_Breakfast  has_Smoking_Allowed  \\\n",
       "0                      0       0.0            0.0                    0   \n",
       "1                      0       1.0            0.0                    0   \n",
       "2                      0       1.0            0.0                    0   \n",
       "3                      0       0.0            0.0                    0   \n",
       "\n",
       "   has_Cat(s)  has_24-Hour_Check-in  \n",
       "0         0.0                     0  \n",
       "1         0.0                     0  \n",
       "2         0.0                     0  \n",
       "3         0.0                     0  \n",
       "\n",
       "[4 rows x 43 columns]"
      ]
     },
     "execution_count": 8,
     "metadata": {},
     "output_type": "execute_result"
    }
   ],
   "source": [
    "listings[has_amenties_list].head(4)"
   ]
  },
  {
   "cell_type": "code",
   "execution_count": null,
   "metadata": {
    "collapsed": true
   },
   "outputs": [],
   "source": []
  }
 ],
 "metadata": {
  "anaconda-cloud": {},
  "kernelspec": {
   "display_name": "Python [conda env:py27]",
   "language": "python",
   "name": "conda-env-py27-py"
  },
  "language_info": {
   "codemirror_mode": {
    "name": "ipython",
    "version": 2
   },
   "file_extension": ".py",
   "mimetype": "text/x-python",
   "name": "python",
   "nbconvert_exporter": "python",
   "pygments_lexer": "ipython2",
   "version": "2.7.12"
  }
 },
 "nbformat": 4,
 "nbformat_minor": 2
}
