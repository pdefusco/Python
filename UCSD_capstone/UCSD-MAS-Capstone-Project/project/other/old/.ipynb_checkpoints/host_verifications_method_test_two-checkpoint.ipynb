{
 "cells": [
  {
   "cell_type": "code",
   "execution_count": 1,
   "metadata": {
    "collapsed": true
   },
   "outputs": [],
   "source": [
    "import json\n",
    "from StringIO import StringIO\n",
    "import pandas as pd"
   ]
  },
  {
   "cell_type": "code",
   "execution_count": 2,
   "metadata": {
    "collapsed": true
   },
   "outputs": [],
   "source": [
    "import os\n",
    "import sklearn as sk\n",
    "from sklearn.linear_model import MultiTaskLasso, MultiTaskElasticNet, ElasticNet\n",
    "from sklearn.cross_validation import train_test_split\n",
    "from sklearn.metrics import mean_absolute_error, mean_squared_error\n",
    "import sklearn.metrics as skmet\n",
    "import numpy as np\n",
    "import nltk\n",
    "from nltk.tokenize import sent_tokenize, word_tokenize\n",
    "from nltk.corpus import stopwords, names\n",
    "import datetime\n",
    "from scipy.stats import ttest_ind \n",
    "import csv"
   ]
  },
  {
   "cell_type": "code",
   "execution_count": 3,
   "metadata": {
    "collapsed": true
   },
   "outputs": [],
   "source": [
    "listings = pd.read_csv('inside_airbnb/listings.csv')\n",
    "list_summ = pd.read_csv('inside_airbnb/listings_summ.csv')\n",
    "neighborhoods = pd.read_csv('inside_airbnb/neighbourhoods.csv')\n",
    "reviews = pd.read_csv('inside_airbnb/reviews.csv')\n",
    "reviews_summ = pd.read_csv('inside_airbnb/reviews_summ.csv')\n",
    "calendar = pd.read_csv('inside_airbnb/calendar.csv')"
   ]
  },
  {
   "cell_type": "code",
   "execution_count": 4,
   "metadata": {
    "collapsed": true
   },
   "outputs": [],
   "source": [
    "def string_to_set(x):\n",
    "    c = set()\n",
    "    for w in x[1:-1].split(\",\"):\n",
    "        c.add(w)\n",
    "        \n",
    "    return c\n",
    "\n",
    "def has_amenity(x, amen_):\n",
    "    if amen_ in x:\n",
    "        return 1\n",
    "    pass"
   ]
  },
  {
   "cell_type": "code",
   "execution_count": 5,
   "metadata": {
    "collapsed": true
   },
   "outputs": [],
   "source": [
    "a = listings['amenities'].fillna('{}')\n",
    "\n",
    "listings['amenities_set'] = a.map(string_to_set)\n",
    "all_amenities = set()\n",
    "    \n",
    "for idx in listings['amenities_set'].index:\n",
    "    all_amenities = all_amenities.union(listings['amenities_set'][idx])"
   ]
  },
  {
   "cell_type": "code",
   "execution_count": 10,
   "metadata": {},
   "outputs": [],
   "source": [
    "b = set(['', '\"translation missing: en.hosting_amenity_49\"','\"translation missing: en.hosting_amenity_50\"'])"
   ]
  },
  {
   "cell_type": "code",
   "execution_count": 11,
   "metadata": {},
   "outputs": [],
   "source": [
    "all_amenities = all_amenities.difference(b)"
   ]
  },
  {
   "cell_type": "code",
   "execution_count": 13,
   "metadata": {
    "scrolled": true
   },
   "outputs": [
    {
     "data": {
      "text/plain": [
       "{'\"24-Hour Check-in\"',\n",
       " '\"Air Conditioning\"',\n",
       " '\"Buzzer/Wireless Intercom\"',\n",
       " '\"Cable TV\"',\n",
       " '\"Carbon Monoxide Detector\"',\n",
       " '\"Elevator in Building\"',\n",
       " '\"Family/Kid Friendly\"',\n",
       " '\"Fire Extinguisher\"',\n",
       " '\"First Aid Kit\"',\n",
       " '\"Free Parking on Premises\"',\n",
       " '\"Hair Dryer\"',\n",
       " '\"Hot Tub\"',\n",
       " '\"Indoor Fireplace\"',\n",
       " '\"Laptop Friendly Workspace\"',\n",
       " '\"Lock on Bedroom Door\"',\n",
       " '\"Other pet(s)\"',\n",
       " '\"Pets Allowed\"',\n",
       " '\"Pets live on this property\"',\n",
       " '\"Safety Card\"',\n",
       " '\"Smoke Detector\"',\n",
       " '\"Smoking Allowed\"',\n",
       " '\"Suitable for Events\"',\n",
       " '\"Wheelchair Accessible\"',\n",
       " '\"Wireless Internet\"',\n",
       " 'Breakfast',\n",
       " 'Cat(s)',\n",
       " 'Dog(s)',\n",
       " 'Doorman',\n",
       " 'Dryer',\n",
       " 'Essentials',\n",
       " 'Gym',\n",
       " 'Hangers',\n",
       " 'Heating',\n",
       " 'Internet',\n",
       " 'Iron',\n",
       " 'Kitchen',\n",
       " 'Pool',\n",
       " 'Shampoo',\n",
       " 'TV',\n",
       " 'Washer'}"
      ]
     },
     "execution_count": 13,
     "metadata": {},
     "output_type": "execute_result"
    }
   ],
   "source": [
    "all_amenities"
   ]
  },
  {
   "cell_type": "code",
   "execution_count": 14,
   "metadata": {
    "collapsed": true
   },
   "outputs": [],
   "source": [
    "for amen in all_amenities:\n",
    "        \n",
    "    if len(amen.split(' ')) == 1:\n",
    "        listings['has_' + amen] = listings['amenities_set'].map(lambda x: has_amenity(x, amen))\n",
    "        listings['has_' + amen] = listings['has_' + amen].fillna(0)\n",
    "        continue\n",
    "            \n",
    "    if \"\" in amen:\n",
    "        amen = amen[1:-1].replace(' ', '_')\n",
    "            \n",
    "    listings['has_' + amen] = listings['amenities_set'].map(lambda x: has_amenity(x, amen))\n",
    "    listings['has_' + amen] = listings['has_' + amen].fillna(0)\n",
    "    \n",
    "has_amenties_list = []\n",
    "for amen in all_amenities:\n",
    "        \n",
    "    if len(amen.split(' ')) == 1:\n",
    "        has_amenties_list.append('has_' + amen)\n",
    "        continue\n",
    "            \n",
    "    if \"\" in amen:\n",
    "        amen = amen[1:-1].replace(' ', '_')\n",
    "            \n",
    "    has_amenties_list.append('has_' + amen)\n",
    "    "
   ]
  },
  {
   "cell_type": "code",
   "execution_count": 15,
   "metadata": {
    "scrolled": true
   },
   "outputs": [
    {
     "data": {
      "text/plain": [
       "has_Other_pet(s)                  0\n",
       "has_Essentials                    0\n",
       "has_Carbon_Monoxide_Detector      0\n",
       "has_Elevator_in_Building          0\n",
       "has_Indoor_Fireplace              0\n",
       "has_Internet                      0\n",
       "has_Washer                        0\n",
       "has_Hangers                       0\n",
       "has_Buzzer/Wireless_Intercom      0\n",
       "has_TV                            0\n",
       "has_Gym                           0\n",
       "has_Fire_Extinguisher             0\n",
       "has_Hot_Tub                       0\n",
       "has_Cable_TV                      0\n",
       "has_Air_Conditioning              0\n",
       "has_Suitable_for_Events           0\n",
       "has_Kitchen                       0\n",
       "has_Family/Kid_Friendly           0\n",
       "has_Shampoo                       0\n",
       "has_Heating                       0\n",
       "has_Hair_Dryer                    0\n",
       "has_Cat(s)                        0\n",
       "has_Smoke_Detector                0\n",
       "has_Iron                          0\n",
       "has_Free_Parking_on_Premises      0\n",
       "has_Pets_live_on_this_property    0\n",
       "has_Safety_Card                   0\n",
       "has_Smoking_Allowed               0\n",
       "has_Dryer                         0\n",
       "has_Pool                          0\n",
       "has_Pets_Allowed                  0\n",
       "has_Wheelchair_Accessible         0\n",
       "has_First_Aid_Kit                 0\n",
       "has_Dog(s)                        0\n",
       "has_Wireless_Internet             0\n",
       "has_Laptop_Friendly_Workspace     0\n",
       "has_Breakfast                     0\n",
       "has_Doorman                       0\n",
       "has_Lock_on_Bedroom_Door          0\n",
       "has_24-Hour_Check-in              0\n",
       "dtype: int64"
      ]
     },
     "execution_count": 15,
     "metadata": {},
     "output_type": "execute_result"
    }
   ],
   "source": [
    "listings[has_amenties_list].isnull().sum()"
   ]
  },
  {
   "cell_type": "code",
   "execution_count": 16,
   "metadata": {
    "collapsed": true
   },
   "outputs": [],
   "source": [
    "a = listings['host_verifications'].map(lambda x: x[1:-1]).map(lambda j: j.split(',')).map(lambda k: set(k))\n",
    "all_host_verifications = set()\n",
    "    \n",
    "for w in a.index:\n",
    "    all_host_verifications = all_host_verifications.union(a[w])\n",
    "        \n",
    "for w in all_host_verifications:\n",
    "        \n",
    "    if '' in w:\n",
    "        w = w.strip()[1:-1].replace(' ', '_')\n",
    "            \n",
    "    listings['uses_' + w] = a.map(lambda x: has_amenity(x, w))\n",
    "    listings['uses_' + w] = listings['uses_' + w].fillna(0)"
   ]
  },
  {
   "cell_type": "code",
   "execution_count": 19,
   "metadata": {
    "collapsed": true
   },
   "outputs": [],
   "source": [
    "uses_verification_list = []\n",
    "for veri in all_host_verifications:\n",
    "        \n",
    "    if '' in veri:\n",
    "        veri = veri.strip()[1:-1].replace(' ', '_')\n",
    "    \n",
    "    uses_verification_list.append('uses_' + veri)"
   ]
  },
  {
   "cell_type": "code",
   "execution_count": 21,
   "metadata": {},
   "outputs": [
    {
     "data": {
      "text/plain": [
       "uses_phone             0\n",
       "uses_linkedin          0\n",
       "uses_email             0\n",
       "uses_manual_online     0\n",
       "uses_facebook          0\n",
       "uses_amex              0\n",
       "uses_phone             0\n",
       "uses_sent_id           0\n",
       "uses_jumio             0\n",
       "uses_google            0\n",
       "uses_weibo             0\n",
       "uses_manual_offline    0\n",
       "uses_kba               0\n",
       "uses_kba               0\n",
       "uses_reviews           0\n",
       "dtype: int64"
      ]
     },
     "execution_count": 21,
     "metadata": {},
     "output_type": "execute_result"
    }
   ],
   "source": [
    "listings[uses_verification_list].isnull().sum()"
   ]
  },
  {
   "cell_type": "code",
   "execution_count": null,
   "metadata": {
    "collapsed": true
   },
   "outputs": [],
   "source": []
  }
 ],
 "metadata": {
  "anaconda-cloud": {},
  "kernelspec": {
   "display_name": "Python [conda env:py27]",
   "language": "python",
   "name": "conda-env-py27-py"
  },
  "language_info": {
   "codemirror_mode": {
    "name": "ipython",
    "version": 2
   },
   "file_extension": ".py",
   "mimetype": "text/x-python",
   "name": "python",
   "nbconvert_exporter": "python",
   "pygments_lexer": "ipython2",
   "version": "2.7.12"
  }
 },
 "nbformat": 4,
 "nbformat_minor": 2
}
