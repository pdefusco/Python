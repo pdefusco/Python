{
 "cells": [
  {
   "cell_type": "code",
   "execution_count": 1,
   "metadata": {
    "collapsed": true
   },
   "outputs": [],
   "source": [
    "import findspark\n",
    "findspark.init()"
   ]
  },
  {
   "cell_type": "code",
   "execution_count": 132,
   "metadata": {
    "collapsed": true
   },
   "outputs": [],
   "source": [
    "from pyspark import SparkContext\n",
    "#sc = SparkContext('local[*]')"
   ]
  },
  {
   "cell_type": "code",
   "execution_count": 131,
   "metadata": {
    "collapsed": true
   },
   "outputs": [],
   "source": [
    "from pyspark.sql import SQLContext\n",
    "#sqlc = SQLContext(sc)"
   ]
  },
  {
   "cell_type": "code",
   "execution_count": 4,
   "metadata": {
    "collapsed": true
   },
   "outputs": [],
   "source": [
    "from pyspark.ml.feature import VectorAssembler\n",
    "from pyspark.ml.feature import StandardScaler\n",
    "from pyspark.ml.feature import StringIndexer\n",
    "from pyspark.ml.feature import PCA\n",
    "from pyspark.ml import Pipeline\n",
    "from pyspark.ml.classification import LogisticRegression"
   ]
  },
  {
   "cell_type": "code",
   "execution_count": 5,
   "metadata": {
    "collapsed": true
   },
   "outputs": [],
   "source": [
    "#sc.stop()"
   ]
  },
  {
   "cell_type": "code",
   "execution_count": 6,
   "metadata": {
    "collapsed": true
   },
   "outputs": [],
   "source": [
    "from pyspark.sql import SparkSession\n",
    "\n",
    "spark = SparkSession \\\n",
    "    .builder \\\n",
    "    .appName(\"Python Spark SQL basic example\") \\\n",
    "    .config(\"spark.some.config.option\", \"some-value\") \\\n",
    "    .getOrCreate()"
   ]
  },
  {
   "cell_type": "code",
   "execution_count": 7,
   "metadata": {
    "collapsed": true
   },
   "outputs": [],
   "source": [
    "sc = spark.sparkContext"
   ]
  },
  {
   "cell_type": "code",
   "execution_count": 8,
   "metadata": {
    "collapsed": true
   },
   "outputs": [],
   "source": [
    "df = spark.read.load(\"master.parquet\")"
   ]
  },
  {
   "cell_type": "code",
   "execution_count": 9,
   "metadata": {},
   "outputs": [
    {
     "data": {
      "text/plain": [
       "[('index', 'bigint'),\n",
       " ('id', 'bigint'),\n",
       " ('listing_url', 'binary'),\n",
       " ('scrape_id', 'bigint'),\n",
       " ('last_scraped', 'binary'),\n",
       " ('name', 'binary'),\n",
       " ('summary', 'binary'),\n",
       " ('space', 'binary'),\n",
       " ('description', 'binary'),\n",
       " ('experiences_offered', 'binary'),\n",
       " ('neighborhood_overview', 'binary'),\n",
       " ('notes', 'binary'),\n",
       " ('transit', 'binary'),\n",
       " ('access', 'binary'),\n",
       " ('interaction', 'binary'),\n",
       " ('house_rules', 'binary'),\n",
       " ('thumbnail_url', 'binary'),\n",
       " ('medium_url', 'binary'),\n",
       " ('picture_url', 'binary'),\n",
       " ('xl_picture_url', 'binary'),\n",
       " ('host_id', 'bigint'),\n",
       " ('host_url', 'binary'),\n",
       " ('host_name', 'binary'),\n",
       " ('host_since', 'binary'),\n",
       " ('host_location', 'binary'),\n",
       " ('host_about', 'binary'),\n",
       " ('host_response_time', 'binary'),\n",
       " ('host_response_rate', 'binary'),\n",
       " ('host_acceptance_rate', 'binary'),\n",
       " ('host_is_superhost', 'binary'),\n",
       " ('host_thumbnail_url', 'binary'),\n",
       " ('host_picture_url', 'binary'),\n",
       " ('host_neighbourhood', 'binary'),\n",
       " ('host_listings_count', 'bigint'),\n",
       " ('host_total_listings_count', 'bigint'),\n",
       " ('host_verifications', 'binary'),\n",
       " ('host_has_profile_pic', 'binary'),\n",
       " ('host_identity_verified', 'binary'),\n",
       " ('street', 'binary'),\n",
       " ('neighbourhood', 'binary'),\n",
       " ('neighbourhood_cleansed', 'binary'),\n",
       " ('neighbourhood_group_cleansed', 'double'),\n",
       " ('city', 'binary'),\n",
       " ('state', 'binary'),\n",
       " ('zipcode', 'double'),\n",
       " ('market', 'binary'),\n",
       " ('smart_location', 'binary'),\n",
       " ('country_code', 'binary'),\n",
       " ('country', 'binary'),\n",
       " ('latitude', 'double'),\n",
       " ('longitude', 'double'),\n",
       " ('is_location_exact', 'binary'),\n",
       " ('property_type', 'binary'),\n",
       " ('room_type', 'binary'),\n",
       " ('accommodates', 'bigint'),\n",
       " ('bathrooms', 'double'),\n",
       " ('bedrooms', 'double'),\n",
       " ('beds', 'double'),\n",
       " ('bed_type', 'binary'),\n",
       " ('amenities', 'binary'),\n",
       " ('square_feet', 'double'),\n",
       " ('price_x', 'binary'),\n",
       " ('weekly_price', 'binary'),\n",
       " ('monthly_price', 'binary'),\n",
       " ('security_deposit', 'binary'),\n",
       " ('cleaning_fee', 'binary'),\n",
       " ('guests_included', 'bigint'),\n",
       " ('extra_people', 'binary'),\n",
       " ('minimum_nights', 'bigint'),\n",
       " ('maximum_nights', 'bigint'),\n",
       " ('calendar_updated', 'binary'),\n",
       " ('has_availability', 'double'),\n",
       " ('availability_30', 'bigint'),\n",
       " ('availability_60', 'bigint'),\n",
       " ('availability_90', 'bigint'),\n",
       " ('availability_365', 'bigint'),\n",
       " ('calendar_last_scraped', 'binary'),\n",
       " ('number_of_reviews', 'bigint'),\n",
       " ('first_review', 'binary'),\n",
       " ('last_review', 'binary'),\n",
       " ('review_scores_rating', 'double'),\n",
       " ('review_scores_accuracy', 'double'),\n",
       " ('review_scores_cleanliness', 'double'),\n",
       " ('review_scores_checkin', 'double'),\n",
       " ('review_scores_communication', 'double'),\n",
       " ('review_scores_location', 'double'),\n",
       " ('review_scores_value', 'double'),\n",
       " ('requires_license', 'binary'),\n",
       " ('license', 'double'),\n",
       " ('jurisdiction_names', 'binary'),\n",
       " ('instant_bookable', 'binary'),\n",
       " ('cancellation_policy', 'binary'),\n",
       " ('require_guest_profile_picture', 'binary'),\n",
       " ('require_guest_phone_verification', 'binary'),\n",
       " ('calculated_host_listings_count', 'bigint'),\n",
       " ('reviews_per_month', 'double'),\n",
       " ('listing_id', 'bigint'),\n",
       " ('date', 'bigint'),\n",
       " ('price_y', 'double'),\n",
       " ('transit_length', 'bigint'),\n",
       " ('transit_variety', 'bigint'),\n",
       " ('transit_vocab_size', 'bigint'),\n",
       " ('transitTextLength', 'bigint'),\n",
       " ('transitTextWordsPerc', 'double'),\n",
       " ('transitTextPuncPerc', 'double'),\n",
       " ('transitTextDigitsPerc', 'double')]"
      ]
     },
     "execution_count": 9,
     "metadata": {},
     "output_type": "execute_result"
    }
   ],
   "source": [
    "df.dtypes"
   ]
  },
  {
   "cell_type": "code",
   "execution_count": 10,
   "metadata": {
    "collapsed": true
   },
   "outputs": [],
   "source": [
    "features = df.columns"
   ]
  },
  {
   "cell_type": "code",
   "execution_count": 11,
   "metadata": {},
   "outputs": [
    {
     "data": {
      "text/plain": [
       "pyspark.sql.dataframe.DataFrame"
      ]
     },
     "execution_count": 11,
     "metadata": {},
     "output_type": "execute_result"
    }
   ],
   "source": [
    "type(df)"
   ]
  },
  {
   "cell_type": "code",
   "execution_count": 22,
   "metadata": {
    "collapsed": true
   },
   "outputs": [],
   "source": [
    "cols = ['index','host_listings_count','neighbourhood_group_cleansed',\\\n",
    "        'bathrooms','bedrooms','beds','square_feet', 'guests_included',\\\n",
    "        'review_scores_rating','price_y']"
   ]
  },
  {
   "cell_type": "code",
   "execution_count": 99,
   "metadata": {
    "collapsed": true
   },
   "outputs": [],
   "source": [
    "test = df[cols]"
   ]
  },
  {
   "cell_type": "code",
   "execution_count": 100,
   "metadata": {
    "collapsed": true
   },
   "outputs": [],
   "source": [
    "test = test.fillna(0)"
   ]
  },
  {
   "cell_type": "code",
   "execution_count": 101,
   "metadata": {},
   "outputs": [
    {
     "data": {
      "text/plain": [
       "[Row(index=0, host_listings_count=1, neighbourhood_group_cleansed=0.0, bathrooms=1.5, bedrooms=2.0, beds=3.0, square_feet=0.0, guests_included=1, review_scores_rating=100.0, price_y=120.0),\n",
       " Row(index=1, host_listings_count=1, neighbourhood_group_cleansed=0.0, bathrooms=1.5, bedrooms=2.0, beds=3.0, square_feet=0.0, guests_included=1, review_scores_rating=100.0, price_y=120.0),\n",
       " Row(index=2, host_listings_count=1, neighbourhood_group_cleansed=0.0, bathrooms=1.5, bedrooms=2.0, beds=3.0, square_feet=0.0, guests_included=1, review_scores_rating=100.0, price_y=120.0)]"
      ]
     },
     "execution_count": 101,
     "metadata": {},
     "output_type": "execute_result"
    }
   ],
   "source": [
    "test.take(3)"
   ]
  },
  {
   "cell_type": "code",
   "execution_count": 102,
   "metadata": {
    "collapsed": true
   },
   "outputs": [],
   "source": [
    "from pyspark.mllib.linalg import Vectors\n",
    "from pyspark.ml.feature import PCA\n",
    "from pyspark.ml.feature import VectorAssembler"
   ]
  },
  {
   "cell_type": "code",
   "execution_count": 103,
   "metadata": {
    "collapsed": true
   },
   "outputs": [],
   "source": [
    "assembler = VectorAssembler(\n",
    "    inputCols=cols,\n",
    "    outputCol=\"features\")"
   ]
  },
  {
   "cell_type": "code",
   "execution_count": 104,
   "metadata": {
    "collapsed": true
   },
   "outputs": [],
   "source": [
    "output = assembler.transform(test)"
   ]
  },
  {
   "cell_type": "code",
   "execution_count": 105,
   "metadata": {},
   "outputs": [
    {
     "data": {
      "text/plain": [
       "[Row(index=0, host_listings_count=1, neighbourhood_group_cleansed=0.0, bathrooms=1.5, bedrooms=2.0, beds=3.0, square_feet=0.0, guests_included=1, review_scores_rating=100.0, price_y=120.0, features=DenseVector([0.0, 1.0, 0.0, 1.5, 2.0, 3.0, 0.0, 1.0, 100.0, 120.0])),\n",
       " Row(index=1, host_listings_count=1, neighbourhood_group_cleansed=0.0, bathrooms=1.5, bedrooms=2.0, beds=3.0, square_feet=0.0, guests_included=1, review_scores_rating=100.0, price_y=120.0, features=DenseVector([1.0, 1.0, 0.0, 1.5, 2.0, 3.0, 0.0, 1.0, 100.0, 120.0])),\n",
       " Row(index=2, host_listings_count=1, neighbourhood_group_cleansed=0.0, bathrooms=1.5, bedrooms=2.0, beds=3.0, square_feet=0.0, guests_included=1, review_scores_rating=100.0, price_y=120.0, features=DenseVector([2.0, 1.0, 0.0, 1.5, 2.0, 3.0, 0.0, 1.0, 100.0, 120.0]))]"
      ]
     },
     "execution_count": 105,
     "metadata": {},
     "output_type": "execute_result"
    }
   ],
   "source": [
    "output.take(3)"
   ]
  },
  {
   "cell_type": "code",
   "execution_count": 106,
   "metadata": {
    "collapsed": true
   },
   "outputs": [],
   "source": [
    "standardizer = StandardScaler(withMean=True, withStd=True,\n",
    "                              inputCol='features',\n",
    "                              outputCol='std_features')\n",
    "model = standardizer.fit(output)\n",
    "output = model.transform(output)"
   ]
  },
  {
   "cell_type": "code",
   "execution_count": 107,
   "metadata": {},
   "outputs": [
    {
     "name": "stdout",
     "output_type": "stream",
     "text": [
      "PCA with 3 components\n"
     ]
    }
   ],
   "source": [
    "pca = PCA(k=3, inputCol=\"std_features\", outputCol=\"pca\")\n",
    "print \"PCA with %i components\" %pca.getK()"
   ]
  },
  {
   "cell_type": "code",
   "execution_count": 108,
   "metadata": {
    "collapsed": true
   },
   "outputs": [],
   "source": [
    "model = pca.fit(output)\n",
    "transformed = model.transform(output).select(\"pca\")"
   ]
  },
  {
   "cell_type": "code",
   "execution_count": 109,
   "metadata": {},
   "outputs": [
    {
     "name": "stdout",
     "output_type": "stream",
     "text": [
      "Percentage of Variance Explained:\n",
      "[0.339116092116,0.158205086962,0.111489445064]\n"
     ]
    }
   ],
   "source": [
    "print \"Percentage of Variance Explained:\"\n",
    "print model.explainedVariance"
   ]
  },
  {
   "cell_type": "code",
   "execution_count": 110,
   "metadata": {},
   "outputs": [
    {
     "name": "stdout",
     "output_type": "stream",
     "text": [
      "Cumulative Percentage of Variance Explained: \n",
      "0.608810624141\n"
     ]
    }
   ],
   "source": [
    "print \"Cumulative Percentage of Variance Explained: \" \n",
    "print sum(model.explainedVariance)"
   ]
  },
  {
   "cell_type": "code",
   "execution_count": 111,
   "metadata": {},
   "outputs": [
    {
     "data": {
      "text/plain": [
       "DenseMatrix(10, 3, [0.0082, 0.0977, 0.0, 0.4953, 0.5314, 0.502, 0.0734, 0.2308, ..., 0.0, -0.0301, -0.0096, -0.0128, 0.2672, -0.1042, -0.2407, -0.0254], 0)"
      ]
     },
     "execution_count": 111,
     "metadata": {},
     "output_type": "execute_result"
    }
   ],
   "source": [
    "model.pc"
   ]
  },
  {
   "cell_type": "code",
   "execution_count": 112,
   "metadata": {},
   "outputs": [
    {
     "data": {
      "image/png": "[encoded data removed]",
      "text/plain": [
       "<matplotlib.figure.Figure at 0x1302e9f50>"
      ]
     },
     "metadata": {},
     "output_type": "display_data"
    }
   ],
   "source": [
    "#Explained variance\n",
    "from matplotlib import *\n",
    "import matplotlib.pyplot as plt\n",
    "import numpy as np\n",
    "plt.plot(np.cumsum(model.explainedVariance))\n",
    "plt.xlabel('number of components')\n",
    "plt.ylabel('cumulative explained variance')\n",
    "plt.show()"
   ]
  },
  {
   "cell_type": "code",
   "execution_count": 113,
   "metadata": {},
   "outputs": [
    {
     "name": "stdout",
     "output_type": "stream",
     "text": [
      "+-------------------------------------------------------------+\n",
      "|pca                                                          |\n",
      "+-------------------------------------------------------------+\n",
      "|[-0.5585729808297781,0.18599214031885042,-1.7505634158755838]|\n",
      "|[-0.5585729483604489,0.1859927690471589,-1.7505597462659734] |\n",
      "|[-0.5585729158911197,0.18599339777546736,-1.7505560766563633]|\n",
      "|[-0.5585728834217905,0.18599402650377583,-1.7505524070467529]|\n",
      "|[-0.5585728509524612,0.1859946552320843,-1.7505487374371425] |\n",
      "|[-0.5585728184831321,0.18599528396039278,-1.750545067827532] |\n",
      "|[-0.5585727860138029,0.18599591268870125,-1.7505413982179217]|\n",
      "|[-0.5585727535444737,0.18599654141700972,-1.7505377286083112]|\n",
      "|[-0.5585727210751446,0.1859971701453182,-1.7505340589987008] |\n",
      "|[-0.5585726886058153,0.18599779887362666,-1.7505303893890904]|\n",
      "|[-0.5585726561364861,0.18599842760193513,-1.75052671977948]  |\n",
      "|[-0.5585726236671569,0.1859990563302436,-1.7505230501698696] |\n",
      "|[-0.5585725911978277,0.18599968505855208,-1.7505193805602592]|\n",
      "|[-0.5585725587284984,0.18600031378686055,-1.7505157109506488]|\n",
      "|[-0.5585725262591693,0.18600094251516902,-1.7505120413410384]|\n",
      "|[-0.5585724937898401,0.18600157124347755,-1.7505083717314278]|\n",
      "|[-0.558572461320511,0.18600219997178602,-1.7505047021218174] |\n",
      "|[-0.5585724288511817,0.1860028287000945,-1.750501032512207]  |\n",
      "|[-0.5585723963818525,0.18600345742840296,-1.7504973629025966]|\n",
      "|[-0.5585723639125233,0.18600408615671143,-1.7504936932929862]|\n",
      "+-------------------------------------------------------------+\n",
      "only showing top 20 rows\n",
      "\n"
     ]
    }
   ],
   "source": [
    "transformed.show(truncate=False)"
   ]
  },
  {
   "cell_type": "code",
   "execution_count": 114,
   "metadata": {},
   "outputs": [
    {
     "name": "stdout",
     "output_type": "stream",
     "text": [
      "+-------+\n",
      "|summary|\n",
      "+-------+\n",
      "|  count|\n",
      "|   mean|\n",
      "| stddev|\n",
      "|    min|\n",
      "|    max|\n",
      "+-------+\n",
      "\n"
     ]
    }
   ],
   "source": [
    "transformed.describe().show()"
   ]
  },
  {
   "cell_type": "code",
   "execution_count": null,
   "metadata": {
    "collapsed": true
   },
   "outputs": [],
   "source": []
  },
  {
   "cell_type": "code",
   "execution_count": 28,
   "metadata": {
    "collapsed": true
   },
   "outputs": [],
   "source": [
    "#spark.stop()"
   ]
  },
  {
   "cell_type": "markdown",
   "metadata": {
    "collapsed": true
   },
   "source": [
    "Clustering"
   ]
  },
  {
   "cell_type": "code",
   "execution_count": 115,
   "metadata": {
    "collapsed": true
   },
   "outputs": [],
   "source": [
    "from pyspark.ml.clustering import KMeans\n",
    "from pyspark.ml.clustering import GaussianMixture"
   ]
  },
  {
   "cell_type": "code",
   "execution_count": 116,
   "metadata": {},
   "outputs": [
    {
     "name": "stdout",
     "output_type": "stream",
     "text": [
      "Cluster Centers: \n",
      "[  6.55478500e+05   1.58721492e+01   0.00000000e+00   1.63554782e+00\n",
      "   1.93017625e+00   2.84640927e+00   2.80938131e+01   2.19425107e+00\n",
      "   6.92393441e+01   2.39819207e+02]\n",
      "[  2.18492500e+05   2.68822731e+01   0.00000000e+00   1.74272402e+00\n",
      "   1.97151167e+00   2.79804158e+00   1.70703867e+01   2.06102484e+00\n",
      "   6.70014783e+01   2.53120468e+02]\n"
     ]
    }
   ],
   "source": [
    "# Trains a k-means model.\n",
    "kmeans = KMeans().setK(2).setSeed(1)\n",
    "model = kmeans.fit(output)\n",
    "\n",
    "# Make predictions\n",
    "predictions = model.transform(output)\n",
    "\n",
    "# Shows the result.\n",
    "centers = model.clusterCenters()\n",
    "print(\"Cluster Centers: \")\n",
    "for center in centers:\n",
    "    print(center)"
   ]
  },
  {
   "cell_type": "code",
   "execution_count": 93,
   "metadata": {
    "scrolled": true
   },
   "outputs": [
    {
     "name": "stdout",
     "output_type": "stream",
     "text": [
      "Gaussians shown as a DataFrame: \n",
      "+-----------------------------------------------------------------------------------------------------------------------------------------------------------------------------+------------------------------------------------------------------------------------------------------------------------------------------------------------------------------------------------------------------------------------------------------------------------------------------------------------------------------------------------------------------------------------------------------------------------------------------------------------------------------------------------------------------------------------------------------------+\n",
      "|mean                                                                                                                                                                         |cov                                                                                                                                                                                                                                                                                                                                                                                                                                                                                                                                                         |\n",
      "+-----------------------------------------------------------------------------------------------------------------------------------------------------------------------------+------------------------------------------------------------------------------------------------------------------------------------------------------------------------------------------------------------------------------------------------------------------------------------------------------------------------------------------------------------------------------------------------------------------------------------------------------------------------------------------------------------------------------------------------------------+\n",
      "|[436985.5000432767,21.37721111775939,0.0,1.6891359203994945,1.9508439607947883,2.822225422844436,22.582099808825756,2.1276379548261075,68.12041125560008,246.46983744597628] |6.365225466515481E10  -939029.4348793031   0.0  ... (10 total)\n",
      "-939029.4348793031    3384.6879180037436   0.0  ...\n",
      "0.0                   0.0                  0.0  ...\n",
      "-3203.29867374462     7.0460554624314815   0.0  ...\n",
      "7831.466900791042     9.742583711614756    0.0  ...\n",
      "15308.770501013243    6.53988723608138     0.0  ...\n",
      "1477673.621087358     -385.080726720122    0.0  ...\n",
      "21371.25332422319     -19.533459409249257  0.0  ...\n",
      "-29859.060992191164   -631.607136699635    0.0  ...\n",
      "-1194819.9630683286   1430.378136136418    0.0  ...          |\n",
      "|[436985.49995672324,21.377211220713694,0.0,1.6891359235497394,1.950843965134189,2.8222254291279394,22.582099959587875,2.127637957903362,68.12041110484166,246.46983796696597]|6.3652254798593575E10  -939029.4397619818   0.0  ... (10 total)\n",
      "-939029.4397619818     3384.687938521214    0.0  ...\n",
      "0.0                    0.0                  0.0  ...\n",
      "-3203.2986388693744    7.046055457210765    0.0  ...\n",
      "7831.466983818533      9.742583705743174    0.0  ...\n",
      "15308.77062158537      6.5398871717126275   0.0  ...\n",
      "1477673.632947097      -385.080731617276    0.0  ...\n",
      "21371.253536408636     -19.533459577516158  0.0  ...\n",
      "-29859.06236186616     -631.6071383448872   0.0  ...\n",
      "-1194819.9612026827    1430.3781367502013   0.0  ...|\n",
      "+-----------------------------------------------------------------------------------------------------------------------------------------------------------------------------+------------------------------------------------------------------------------------------------------------------------------------------------------------------------------------------------------------------------------------------------------------------------------------------------------------------------------------------------------------------------------------------------------------------------------------------------------------------------------------------------------------------------------------------------------------+\n",
      "\n"
     ]
    }
   ],
   "source": [
    "gmm = GaussianMixture().setK(2).setSeed(538009335)\n",
    "model = gmm.fit(output)\n",
    "\n",
    "print(\"Gaussians shown as a DataFrame: \")\n",
    "model.gaussiansDF.show(truncate=False)"
   ]
  },
  {
   "cell_type": "markdown",
   "metadata": {},
   "source": [
    "Classification"
   ]
  },
  {
   "cell_type": "markdown",
   "metadata": {},
   "source": [
    "Bucketizing. NB: bucket ranges chosen based on 'price_bin' feature from 'classification.ipynb'"
   ]
  },
  {
   "cell_type": "code",
   "execution_count": 117,
   "metadata": {
    "collapsed": true
   },
   "outputs": [],
   "source": [
    "from pyspark.ml.feature import Bucketizer"
   ]
  },
  {
   "cell_type": "code",
   "execution_count": 118,
   "metadata": {
    "collapsed": true
   },
   "outputs": [],
   "source": [
    "splits = [-float(\"inf\"), 200, 300, float(\"inf\")]"
   ]
  },
  {
   "cell_type": "code",
   "execution_count": 119,
   "metadata": {
    "collapsed": true
   },
   "outputs": [],
   "source": [
    "bucketizer = Bucketizer(splits=splits, inputCol=\"price_y\", outputCol=\"price_bin\")"
   ]
  },
  {
   "cell_type": "code",
   "execution_count": 125,
   "metadata": {},
   "outputs": [
    {
     "data": {
      "text/plain": [
       "pyspark.sql.dataframe.DataFrame"
      ]
     },
     "execution_count": 125,
     "metadata": {},
     "output_type": "execute_result"
    }
   ],
   "source": [
    "type(output)"
   ]
  },
  {
   "cell_type": "code",
   "execution_count": 126,
   "metadata": {
    "collapsed": true
   },
   "outputs": [],
   "source": [
    "bucketedData = bucketizer.transform(output)"
   ]
  },
  {
   "cell_type": "code",
   "execution_count": 128,
   "metadata": {},
   "outputs": [
    {
     "name": "stdout",
     "output_type": "stream",
     "text": [
      "+-----+-------------------+----------------------------+---------+--------+----+-----------+---------------+--------------------+-------+--------------------+--------------------+---------+\n",
      "|index|host_listings_count|neighbourhood_group_cleansed|bathrooms|bedrooms|beds|square_feet|guests_included|review_scores_rating|price_y|            features|        std_features|price_bin|\n",
      "+-----+-------------------+----------------------------+---------+--------+----+-----------+---------------+--------------------+-------+--------------------+--------------------+---------+\n",
      "|    0|                  1|                         0.0|      1.5|     2.0| 3.0|        0.0|              1|               100.0|  120.0|[0.0,1.0,0.0,1.5,...|[-1.7320478348483...|      0.0|\n",
      "|    1|                  1|                         0.0|      1.5|     2.0| 3.0|        0.0|              1|               100.0|  120.0|[1.0,1.0,0.0,1.5,...|[-1.7320438712206...|      0.0|\n",
      "|    2|                  1|                         0.0|      1.5|     2.0| 3.0|        0.0|              1|               100.0|  120.0|[2.0,1.0,0.0,1.5,...|[-1.7320399075929...|      0.0|\n",
      "|    3|                  1|                         0.0|      1.5|     2.0| 3.0|        0.0|              1|               100.0|  120.0|[3.0,1.0,0.0,1.5,...|[-1.7320359439652...|      0.0|\n",
      "+-----+-------------------+----------------------------+---------+--------+----+-----------+---------------+--------------------+-------+--------------------+--------------------+---------+\n",
      "only showing top 4 rows\n",
      "\n"
     ]
    }
   ],
   "source": [
    "bucketedData.show(4)"
   ]
  },
  {
   "cell_type": "markdown",
   "metadata": {},
   "source": [
    "Merging the two dataframes"
   ]
  },
  {
   "cell_type": "code",
   "execution_count": 133,
   "metadata": {},
   "outputs": [
    {
     "ename": "ImportError",
     "evalue": "cannot import name rowNumber",
     "output_type": "error",
     "traceback": [
      "\u001b[0;31m---------------------------------------------------------------------------\u001b[0m",
      "\u001b[0;31mImportError\u001b[0m                               Traceback (most recent call last)",
      "\u001b[0;32m<ipython-input-133-12fe0d8c375c>\u001b[0m in \u001b[0;36m<module>\u001b[0;34m()\u001b[0m\n\u001b[1;32m      1\u001b[0m \u001b[0;32mfrom\u001b[0m \u001b[0mpyspark\u001b[0m\u001b[0;34m.\u001b[0m\u001b[0msql\u001b[0m\u001b[0;34m.\u001b[0m\u001b[0mwindow\u001b[0m \u001b[0;32mimport\u001b[0m \u001b[0mWindow\u001b[0m\u001b[0;34m\u001b[0m\u001b[0m\n\u001b[0;32m----> 2\u001b[0;31m \u001b[0;32mfrom\u001b[0m \u001b[0mpyspark\u001b[0m\u001b[0;34m.\u001b[0m\u001b[0msql\u001b[0m\u001b[0;34m.\u001b[0m\u001b[0mfunctions\u001b[0m \u001b[0;32mimport\u001b[0m \u001b[0mrowNumber\u001b[0m\u001b[0;34m\u001b[0m\u001b[0m\n\u001b[0m",
      "\u001b[0;31mImportError\u001b[0m: cannot import name rowNumber"
     ]
    }
   ],
   "source": [
    "from pyspark.sql.window import Window\n",
    "from pyspark.sql.functions import rowNumber"
   ]
  },
  {
   "cell_type": "code",
   "execution_count": 129,
   "metadata": {},
   "outputs": [
    {
     "ename": "NameError",
     "evalue": "name 'Window' is not defined",
     "output_type": "error",
     "traceback": [
      "\u001b[0;31m---------------------------------------------------------------------------\u001b[0m",
      "\u001b[0;31mNameError\u001b[0m                                 Traceback (most recent call last)",
      "\u001b[0;32m<ipython-input-129-d60644284650>\u001b[0m in \u001b[0;36m<module>\u001b[0;34m()\u001b[0m\n\u001b[0;32m----> 1\u001b[0;31m \u001b[0mw\u001b[0m \u001b[0;34m=\u001b[0m \u001b[0mWindow\u001b[0m\u001b[0;34m(\u001b[0m\u001b[0;34m)\u001b[0m\u001b[0;34m.\u001b[0m\u001b[0morderBy\u001b[0m\u001b[0;34m(\u001b[0m\u001b[0;34m)\u001b[0m\u001b[0;34m\u001b[0m\u001b[0m\n\u001b[0m\u001b[1;32m      2\u001b[0m \u001b[0mdf11\u001b[0m \u001b[0;34m=\u001b[0m  \u001b[0moutput\u001b[0m\u001b[0;34m.\u001b[0m\u001b[0mwithColumn\u001b[0m\u001b[0;34m(\u001b[0m\u001b[0;34m\"columnindex\"\u001b[0m\u001b[0;34m,\u001b[0m \u001b[0mrowNumber\u001b[0m\u001b[0;34m(\u001b[0m\u001b[0;34m)\u001b[0m\u001b[0;34m.\u001b[0m\u001b[0mover\u001b[0m\u001b[0;34m(\u001b[0m\u001b[0mw\u001b[0m\u001b[0;34m)\u001b[0m\u001b[0;34m)\u001b[0m\u001b[0;34m\u001b[0m\u001b[0m\n\u001b[1;32m      3\u001b[0m \u001b[0mdf22\u001b[0m \u001b[0;34m=\u001b[0m  \u001b[0mbucketedData\u001b[0m\u001b[0;34m.\u001b[0m\u001b[0mwithColumn\u001b[0m\u001b[0;34m(\u001b[0m\u001b[0;34m\"columnindex\"\u001b[0m\u001b[0;34m,\u001b[0m \u001b[0mrowNumber\u001b[0m\u001b[0;34m(\u001b[0m\u001b[0;34m)\u001b[0m\u001b[0;34m.\u001b[0m\u001b[0mover\u001b[0m\u001b[0;34m(\u001b[0m\u001b[0mw\u001b[0m\u001b[0;34m)\u001b[0m\u001b[0;34m)\u001b[0m\u001b[0;34m\u001b[0m\u001b[0m\n",
      "\u001b[0;31mNameError\u001b[0m: name 'Window' is not defined"
     ]
    }
   ],
   "source": [
    "w = Window().orderBy()\n",
    "df11 =  output.withColumn(\"columnindex\", rowNumber().over(w))\n",
    "df22 =  bucketedData.withColumn(\"columnindex\", rowNumber().over(w))"
   ]
  },
  {
   "cell_type": "code",
   "execution_count": 134,
   "metadata": {
    "collapsed": true
   },
   "outputs": [],
   "source": [
    "spark.stop()"
   ]
  },
  {
   "cell_type": "code",
   "execution_count": null,
   "metadata": {
    "collapsed": true
   },
   "outputs": [],
   "source": []
  }
 ],
 "metadata": {
  "anaconda-cloud": {},
  "kernelspec": {
   "display_name": "Python [default]",
   "language": "python",
   "name": "python2"
  },
  "language_info": {
   "codemirror_mode": {
    "name": "ipython",
    "version": 2
   },
   "file_extension": ".py",
   "mimetype": "text/x-python",
   "name": "python",
   "nbconvert_exporter": "python",
   "pygments_lexer": "ipython2",
   "version": "2.7.12"
  }
 },
 "nbformat": 4,
 "nbformat_minor": 2
}
