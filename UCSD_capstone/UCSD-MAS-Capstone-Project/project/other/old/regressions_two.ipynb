{
 "cells": [
  {
   "cell_type": "code",
   "execution_count": 1,
   "metadata": {},
   "outputs": [
    {
     "name": "stderr",
     "output_type": "stream",
     "text": [
      "C:\\Users\\sanka\\Anaconda2\\lib\\site-packages\\statsmodels\\compat\\pandas.py:56: FutureWarning: The pandas.core.datetools module is deprecated and will be removed in a future version. Please use the pandas.tseries module instead.\n",
      "  from pandas.core import datetools\n"
     ]
    }
   ],
   "source": [
    "import pandas as pd\n",
    "import numpy as np\n",
    "import scipy.stats as stats\n",
    "import statsmodels.api as sm\n",
    "import statsmodels.formula.api as smf\n",
    "import statsmodels.stats.api as sms\n",
    "from __future__ import print_function\n",
    "from statsmodels.compat import lzip\n",
    "import matplotlib.pyplot as plt\n",
    "import numpy as np\n",
    "import sklearn as sk\n",
    "from sklearn.linear_model import LinearRegression"
   ]
  },
  {
   "cell_type": "code",
   "execution_count": 2,
   "metadata": {
    "collapsed": true
   },
   "outputs": [],
   "source": [
    "from statsmodels.graphics.regressionplots import plot_fit\n",
    "from statsmodels.graphics.regressionplots import plot_leverage_resid2\n",
    "from statsmodels.graphics.regressionplots import plot_regress_exog\n",
    "from sklearn import linear_model\n",
    "from sklearn.preprocessing import PolynomialFeatures\n",
    "from sklearn.pipeline import make_pipeline\n",
    "from sklearn.linear_model import Ridge\n",
    "from pandas.tseries.holiday import USFederalHolidayCalendar as calendar\n",
    "import statsmodels.api as sm\n",
    "import statsmodels.formula.api as smf\n",
    "from sklearn.preprocessing import StandardScaler\n",
    "from sklearn import linear_model\n",
    "from sklearn.pipeline import make_pipeline"
   ]
  },
  {
   "cell_type": "code",
   "execution_count": 3,
   "metadata": {
    "collapsed": true
   },
   "outputs": [],
   "source": [
    "from sklearn.metrics import r2_score, mean_squared_error\n",
    "linear_regression = linear_model.LinearRegression(normalize=False, fit_intercept=True)\n",
    "def r2_est(X,y):\n",
    "    return r2_score(y, linear_regression.fit(X,y).predict(X))\n",
    "def r2_est_two(X,y, X_new, y_new):\n",
    "    return r2_score(y_new, linear_regression.fit(X,y).predict(X_new))"
   ]
  },
  {
   "cell_type": "code",
   "execution_count": 4,
   "metadata": {},
   "outputs": [
    {
     "name": "stderr",
     "output_type": "stream",
     "text": [
      "C:\\Users\\sanka\\Anaconda2\\lib\\site-packages\\sklearn\\cross_validation.py:44: DeprecationWarning: This module was deprecated in version 0.18 in favor of the model_selection module into which all the refactored classes and functions are moved. Also note that the interface of the new CV iterators are different from that of this module. This module will be removed in 0.20.\n",
      "  \"This module will be removed in 0.20.\", DeprecationWarning)\n",
      "C:\\Users\\sanka\\Anaconda2\\lib\\site-packages\\sklearn\\grid_search.py:43: DeprecationWarning: This module was deprecated in version 0.18 in favor of the model_selection module into which all the refactored classes and functions are moved. This module will be removed in 0.20.\n",
      "  DeprecationWarning)\n"
     ]
    }
   ],
   "source": [
    "from sklearn.preprocessing import LabelEncoder, LabelBinarizer\n",
    "from sklearn.decomposition import PCA\n",
    "from sklearn.metrics import mean_absolute_error\n",
    "from sklearn.preprocessing import MinMaxScaler\n",
    "from sklearn.cross_validation import cross_val_score, KFold, StratifiedKFold\n",
    "from sklearn.metrics import make_scorer\n",
    "from sklearn.preprocessing import PolynomialFeatures\n",
    "from sklearn.feature_selection import RFECV\n",
    "from sklearn.cross_validation import KFold\n",
    "from sklearn.cross_validation import train_test_split\n",
    "from sklearn.linear_model import Lasso\n",
    "from sklearn.grid_search import RandomizedSearchCV\n",
    "from scipy.stats import expon"
   ]
  },
  {
   "cell_type": "markdown",
   "metadata": {},
   "source": [
    "## Data Loading and Preparation (time series)"
   ]
  },
  {
   "cell_type": "code",
   "execution_count": 5,
   "metadata": {
    "collapsed": true
   },
   "outputs": [],
   "source": [
    "cal = pd.read_csv('Datasources/inside_airbnb/calendar.csv')"
   ]
  },
  {
   "cell_type": "code",
   "execution_count": 6,
   "metadata": {
    "collapsed": true
   },
   "outputs": [],
   "source": [
    "cal['price'] = cal['price'].astype(str).map(lambda x: x.lstrip('$'))\n",
    "cal['price'] = cal['price'].apply(pd.to_numeric, errors='coerce')\n",
    "cal['price'].replace(regex=True,inplace=True,to_replace=r'\\D',value=r'')"
   ]
  },
  {
   "cell_type": "code",
   "execution_count": 7,
   "metadata": {
    "collapsed": true
   },
   "outputs": [],
   "source": [
    "cal['date'] = pd.to_datetime(cal['date'])\n",
    "cal['month'] = cal['date'].apply(lambda x: x.month)\n",
    "cal['day'] = cal['date'].apply(lambda x: x.day)"
   ]
  },
  {
   "cell_type": "code",
   "execution_count": 8,
   "metadata": {
    "collapsed": true
   },
   "outputs": [],
   "source": [
    "cal['day_of_week'] = cal['date'].dt.weekday_name"
   ]
  },
  {
   "cell_type": "code",
   "execution_count": 9,
   "metadata": {
    "collapsed": true
   },
   "outputs": [],
   "source": [
    "from pandas.tseries.holiday import USFederalHolidayCalendar as calendar"
   ]
  },
  {
   "cell_type": "code",
   "execution_count": 10,
   "metadata": {
    "collapsed": true
   },
   "outputs": [],
   "source": [
    "cl = calendar()\n",
    "holidays = cl.holidays(start=cal['date'].min(), end=cal['date'].max())"
   ]
  },
  {
   "cell_type": "code",
   "execution_count": 11,
   "metadata": {
    "collapsed": true
   },
   "outputs": [],
   "source": [
    "cal['holiday'] = cal['date'].isin(holidays)"
   ]
  },
  {
   "cell_type": "code",
   "execution_count": 12,
   "metadata": {
    "collapsed": true
   },
   "outputs": [],
   "source": [
    "c = cal.loc[cal.available!='f']\n",
    "c = c[['listing_id','date','price','month','day_of_week','holiday']]"
   ]
  },
  {
   "cell_type": "code",
   "execution_count": 13,
   "metadata": {
    "collapsed": true
   },
   "outputs": [],
   "source": [
    "c_hol = c[c['holiday']==True]\n",
    "c_wke = c[(c['holiday']==False)&((c['day_of_week']=='Sunday')|(c['day_of_week']=='Saturday'))]\n",
    "c_wkd = c[(~c.isin(c_hol['date']))&(~c.isin(c_wke['date']))]"
   ]
  },
  {
   "cell_type": "code",
   "execution_count": 14,
   "metadata": {
    "collapsed": true
   },
   "outputs": [],
   "source": [
    "mean_price_hol = c_hol.groupby(by='listing_id')['price'].mean()\n",
    "mean_price_wke = c_wke.groupby(by='listing_id')['price'].mean()\n",
    "mean_price_wkd = c_wkd.groupby(by='listing_id')['price'].mean()"
   ]
  },
  {
   "cell_type": "code",
   "execution_count": 15,
   "metadata": {
    "collapsed": true
   },
   "outputs": [],
   "source": [
    "mean_price_hol = pd.DataFrame(mean_price_hol)\n",
    "mean_price_wke = pd.DataFrame(mean_price_wke)\n",
    "mean_price_wkd = pd.DataFrame(mean_price_wkd)"
   ]
  },
  {
   "cell_type": "code",
   "execution_count": 16,
   "metadata": {
    "collapsed": true
   },
   "outputs": [],
   "source": [
    "mean_price_hol = mean_price_hol.reset_index()\n",
    "mean_price_wke = mean_price_wke.reset_index()\n",
    "mean_price_wkd = mean_price_wkd.reset_index()"
   ]
  },
  {
   "cell_type": "code",
   "execution_count": 17,
   "metadata": {
    "collapsed": true
   },
   "outputs": [],
   "source": [
    "listings = pd.read_csv('Datasources/inside_airbnb/listings.csv')"
   ]
  },
  {
   "cell_type": "code",
   "execution_count": 18,
   "metadata": {
    "collapsed": true
   },
   "outputs": [],
   "source": [
    "master_hol = listings.merge(mean_price_hol, how='inner', left_on='id', right_on='listing_id')\n",
    "master_wke = listings.merge(mean_price_wke, how='inner', left_on='id', right_on='listing_id')\n",
    "master_wkd = listings.merge(mean_price_wkd, how='inner', left_on='id', right_on='listing_id')"
   ]
  },
  {
   "cell_type": "markdown",
   "metadata": {},
   "source": [
    "## Feature Creation (time series)"
   ]
  },
  {
   "cell_type": "code",
   "execution_count": 19,
   "metadata": {
    "collapsed": true
   },
   "outputs": [],
   "source": [
    "master_hol['host_response_rate'] = master_hol['host_response_rate'].astype(str).map(lambda x: x.rstrip(\"%\"))\n",
    "master_hol['host_response_rate'] = master_hol['host_response_rate'].apply(pd.to_numeric, errors='coerce')\n",
    "master_hol['host_response_rate'].replace(regex=True,inplace=True,to_replace=r'\\D',value=r'')\n",
    "master_hol['host_acceptance_rate'] = master_hol['host_acceptance_rate'].astype(str).map(lambda x: x.rstrip(\"%\"))\n",
    "master_hol['host_acceptance_rate'] = master_hol['host_acceptance_rate'].apply(pd.to_numeric, errors='coerce')\n",
    "master_hol['host_acceptance_rate'].replace(regex=True,inplace=True,to_replace=r'\\D',value=r'')\n",
    "master_hol['extra_people'] = master_hol['extra_people'].astype(str).map(lambda x: x.lstrip('$'))\n",
    "master_hol['extra_people'] = master_hol['extra_people'].apply(pd.to_numeric, errors='coerce')\n",
    "master_hol['extra_people'].replace(regex=True,inplace=True,to_replace=r'\\D',value=r'')\n",
    "master_hol['weekly_price'] = master_hol['weekly_price'].astype(str).map(lambda x: x.lstrip('$'))\n",
    "master_hol['weekly_price'] = master_hol['weekly_price'].apply(pd.to_numeric, errors='coerce')\n",
    "master_hol['weekly_price'].replace(regex=True,inplace=True,to_replace=r'\\D',value=r'')\n",
    "master_hol['monthly_price'] = master_hol['monthly_price'].astype(str).map(lambda x: x.lstrip('$'))\n",
    "master_hol['monthly_price'] = master_hol['monthly_price'].apply(pd.to_numeric, errors='coerce')\n",
    "master_hol['monthly_price'].replace(regex=True,inplace=True,to_replace=r'\\D',value=r'')\n",
    "master_hol['security_deposit'] = master_hol['security_deposit'].astype(str).map(lambda x: x.lstrip('$'))\n",
    "master_hol['security_deposit'] = master_hol['security_deposit'].apply(pd.to_numeric, errors='coerce')\n",
    "master_hol['security_deposit'].replace(regex=True,inplace=True,to_replace=r'\\D',value=r'')\n",
    "master_hol['cleaning_fee'] = master_hol['cleaning_fee'].astype(str).map(lambda x: x.lstrip('$'))\n",
    "master_hol['cleaning_fee'] = master_hol['cleaning_fee'].apply(pd.to_numeric, errors='coerce')\n",
    "master_hol['cleaning_fee'].replace(regex=True,inplace=True,to_replace=r'\\D',value=r'')"
   ]
  },
  {
   "cell_type": "code",
   "execution_count": 20,
   "metadata": {
    "collapsed": true
   },
   "outputs": [],
   "source": [
    "master_wke['host_response_rate'] = master_wke['host_response_rate'].astype(str).map(lambda x: x.rstrip(\"%\"))\n",
    "master_wke['host_response_rate'] = master_wke['host_response_rate'].apply(pd.to_numeric, errors='coerce')\n",
    "master_wke['host_response_rate'].replace(regex=True,inplace=True,to_replace=r'\\D',value=r'')\n",
    "master_wke['host_acceptance_rate'] = master_wke['host_acceptance_rate'].astype(str).map(lambda x: x.rstrip(\"%\"))\n",
    "master_wke['host_acceptance_rate'] = master_wke['host_acceptance_rate'].apply(pd.to_numeric, errors='coerce')\n",
    "master_wke['host_acceptance_rate'].replace(regex=True,inplace=True,to_replace=r'\\D',value=r'')\n",
    "master_wke['extra_people'] = master_wke['extra_people'].astype(str).map(lambda x: x.lstrip('$'))\n",
    "master_wke['extra_people'] = master_wke['extra_people'].apply(pd.to_numeric, errors='coerce')\n",
    "master_wke['extra_people'].replace(regex=True,inplace=True,to_replace=r'\\D',value=r'')\n",
    "master_wke['weekly_price'] = master_wke['weekly_price'].astype(str).map(lambda x: x.lstrip('$'))\n",
    "master_wke['weekly_price'] = master_wke['weekly_price'].apply(pd.to_numeric, errors='coerce')\n",
    "master_wke['weekly_price'].replace(regex=True,inplace=True,to_replace=r'\\D',value=r'')\n",
    "master_wke['monthly_price'] = master_wke['monthly_price'].astype(str).map(lambda x: x.lstrip('$'))\n",
    "master_wke['monthly_price'] = master_wke['monthly_price'].apply(pd.to_numeric, errors='coerce')\n",
    "master_wke['monthly_price'].replace(regex=True,inplace=True,to_replace=r'\\D',value=r'')\n",
    "master_wke['security_deposit'] = master_wke['security_deposit'].astype(str).map(lambda x: x.lstrip('$'))\n",
    "master_wke['security_deposit'] = master_wke['security_deposit'].apply(pd.to_numeric, errors='coerce')\n",
    "master_wke['security_deposit'].replace(regex=True,inplace=True,to_replace=r'\\D',value=r'')\n",
    "master_wke['cleaning_fee'] = master_wke['cleaning_fee'].astype(str).map(lambda x: x.lstrip('$'))\n",
    "master_wke['cleaning_fee'] = master_wke['cleaning_fee'].apply(pd.to_numeric, errors='coerce')\n",
    "master_wke['cleaning_fee'].replace(regex=True,inplace=True,to_replace=r'\\D',value=r'')"
   ]
  },
  {
   "cell_type": "code",
   "execution_count": 21,
   "metadata": {
    "collapsed": true
   },
   "outputs": [],
   "source": [
    "master_wkd['host_response_rate'] = master_wkd['host_response_rate'].astype(str).map(lambda x: x.rstrip(\"%\"))\n",
    "master_wkd['host_response_rate'] = master_wkd['host_response_rate'].apply(pd.to_numeric, errors='coerce')\n",
    "master_wkd['host_response_rate'].replace(regex=True,inplace=True,to_replace=r'\\D',value=r'')\n",
    "master_wkd['host_acceptance_rate'] = master_wkd['host_acceptance_rate'].astype(str).map(lambda x: x.rstrip(\"%\"))\n",
    "master_wkd['host_acceptance_rate'] = master_wkd['host_acceptance_rate'].apply(pd.to_numeric, errors='coerce')\n",
    "master_wkd['host_acceptance_rate'].replace(regex=True,inplace=True,to_replace=r'\\D',value=r'')\n",
    "master_wkd['extra_people'] = master_wkd['extra_people'].astype(str).map(lambda x: x.lstrip('$'))\n",
    "master_wkd['extra_people'] = master_wkd['extra_people'].apply(pd.to_numeric, errors='coerce')\n",
    "master_wkd['extra_people'].replace(regex=True,inplace=True,to_replace=r'\\D',value=r'')\n",
    "master_wkd['weekly_price'] = master_wkd['weekly_price'].astype(str).map(lambda x: x.lstrip('$'))\n",
    "master_wkd['weekly_price'] = master_wkd['weekly_price'].apply(pd.to_numeric, errors='coerce')\n",
    "master_wkd['weekly_price'].replace(regex=True,inplace=True,to_replace=r'\\D',value=r'')\n",
    "master_wkd['monthly_price'] = master_wkd['monthly_price'].astype(str).map(lambda x: x.lstrip('$'))\n",
    "master_wkd['monthly_price'] = master_wkd['monthly_price'].apply(pd.to_numeric, errors='coerce')\n",
    "master_wkd['monthly_price'].replace(regex=True,inplace=True,to_replace=r'\\D',value=r'')\n",
    "master_wkd['security_deposit'] = master_wkd['security_deposit'].astype(str).map(lambda x: x.lstrip('$'))\n",
    "master_wkd['security_deposit'] = master_wkd['security_deposit'].apply(pd.to_numeric, errors='coerce')\n",
    "master_wkd['security_deposit'].replace(regex=True,inplace=True,to_replace=r'\\D',value=r'')\n",
    "master_wkd['cleaning_fee'] = master_wkd['cleaning_fee'].astype(str).map(lambda x: x.lstrip('$'))\n",
    "master_wkd['cleaning_fee'] = master_wkd['cleaning_fee'].apply(pd.to_numeric, errors='coerce')\n",
    "master_wkd['cleaning_fee'].replace(regex=True,inplace=True,to_replace=r'\\D',value=r'')"
   ]
  },
  {
   "cell_type": "code",
   "execution_count": 22,
   "metadata": {
    "collapsed": true
   },
   "outputs": [],
   "source": [
    "master_hol['ones'] = np.ones(len(master_hol))\n",
    "master_wke['ones'] = np.ones(len(master_wke))\n",
    "master_wkd['ones'] = np.ones(len(master_wkd))"
   ]
  },
  {
   "cell_type": "markdown",
   "metadata": {},
   "source": [
    "### Amenities Feature Creation"
   ]
  },
  {
   "cell_type": "code",
   "execution_count": 23,
   "metadata": {
    "collapsed": true
   },
   "outputs": [],
   "source": [
    "def string_to_set(x):\n",
    "    c = set()\n",
    "    for w in x[1:-1].split(\",\"):\n",
    "        c.add(w)\n",
    "        \n",
    "    return c"
   ]
  },
  {
   "cell_type": "code",
   "execution_count": 24,
   "metadata": {
    "collapsed": true
   },
   "outputs": [],
   "source": [
    "master_hol['amenities_set'] = master_hol['amenities'].map(string_to_set)\n",
    "master_wke['amenities_set'] = master_wke['amenities'].map(string_to_set)\n",
    "master_wkd['amenities_set'] = master_wkd['amenities'].map(string_to_set)"
   ]
  },
  {
   "cell_type": "code",
   "execution_count": 25,
   "metadata": {
    "collapsed": true
   },
   "outputs": [],
   "source": [
    "def has_amenity(x, amen_):\n",
    "    if amen_ in x:\n",
    "        return 1\n",
    "    pass"
   ]
  },
  {
   "cell_type": "code",
   "execution_count": 26,
   "metadata": {
    "scrolled": true
   },
   "outputs": [
    {
     "data": {
      "text/plain": [
       "{'',\n",
       " '\"24-Hour Check-in\"',\n",
       " '\"Air Conditioning\"',\n",
       " '\"Buzzer/Wireless Intercom\"',\n",
       " '\"Cable TV\"',\n",
       " '\"Carbon Monoxide Detector\"',\n",
       " '\"Elevator in Building\"',\n",
       " '\"Family/Kid Friendly\"',\n",
       " '\"Fire Extinguisher\"',\n",
       " '\"First Aid Kit\"',\n",
       " '\"Free Parking on Premises\"',\n",
       " '\"Hair Dryer\"',\n",
       " '\"Hot Tub\"',\n",
       " '\"Indoor Fireplace\"',\n",
       " '\"Laptop Friendly Workspace\"',\n",
       " '\"Lock on Bedroom Door\"',\n",
       " '\"Other pet(s)\"',\n",
       " '\"Pets Allowed\"',\n",
       " '\"Pets live on this property\"',\n",
       " '\"Safety Card\"',\n",
       " '\"Smoke Detector\"',\n",
       " '\"Smoking Allowed\"',\n",
       " '\"Suitable for Events\"',\n",
       " '\"Wheelchair Accessible\"',\n",
       " '\"Wireless Internet\"',\n",
       " '\"translation missing: en.hosting_amenity_49\"',\n",
       " '\"translation missing: en.hosting_amenity_50\"',\n",
       " 'Breakfast',\n",
       " 'Cat(s)',\n",
       " 'Dog(s)',\n",
       " 'Doorman',\n",
       " 'Dryer',\n",
       " 'Essentials',\n",
       " 'Gym',\n",
       " 'Hangers',\n",
       " 'Heating',\n",
       " 'Internet',\n",
       " 'Iron',\n",
       " 'Kitchen',\n",
       " 'Pool',\n",
       " 'Shampoo',\n",
       " 'TV',\n",
       " 'Washer'}"
      ]
     },
     "execution_count": 26,
     "metadata": {},
     "output_type": "execute_result"
    }
   ],
   "source": [
    "all_amenities = set()\n",
    "\n",
    "for idx in listings['amenities'].map(string_to_set).index:\n",
    "    all_amenities = all_amenities.union(listings['amenities'].map(string_to_set)[idx])\n",
    "\n",
    "all_amenities"
   ]
  },
  {
   "cell_type": "code",
   "execution_count": 27,
   "metadata": {
    "collapsed": true
   },
   "outputs": [],
   "source": [
    "for amen in all_amenities:\n",
    "    master_hol['has' + amen] = 0\n",
    "    master_wke['has' + amen] = 0\n",
    "    master_wkd['has' + amen] = 0\n",
    "    master_hol['has' + amen] = master_hol['amenities_set'].map(lambda x: has_amenity(x, amen))\n",
    "    master_wke['has' + amen] = master_wke['amenities_set'].map(lambda x: has_amenity(x, amen))\n",
    "    master_wkd['has' + amen] = master_wkd['amenities_set'].map(lambda x: has_amenity(x, amen))"
   ]
  },
  {
   "cell_type": "code",
   "execution_count": 28,
   "metadata": {
    "collapsed": true
   },
   "outputs": [],
   "source": [
    "has_amenties_list = []\n",
    "for amen in all_amenities:\n",
    "    has_amenties_list.append('has' + amen)"
   ]
  },
  {
   "cell_type": "code",
   "execution_count": 29,
   "metadata": {
    "collapsed": true
   },
   "outputs": [],
   "source": [
    "master_hol[has_amenties_list] = master_hol[has_amenties_list].fillna(0)\n",
    "master_wke[has_amenties_list] = master_wke[has_amenties_list].fillna(0)\n",
    "master_wkd[has_amenties_list] = master_wkd[has_amenties_list].fillna(0)"
   ]
  },
  {
   "cell_type": "markdown",
   "metadata": {},
   "source": [
    "### Final Data Cleaning"
   ]
  },
  {
   "cell_type": "code",
   "execution_count": 30,
   "metadata": {
    "collapsed": true
   },
   "outputs": [],
   "source": [
    "X_hol = master_hol.select_dtypes(include=['float64', 'int64'])\n",
    "X_wke = master_wke.select_dtypes(include=['float64', 'int64'])\n",
    "X_wkd = master_wkd.select_dtypes(include=['float64', 'int64'])"
   ]
  },
  {
   "cell_type": "code",
   "execution_count": 31,
   "metadata": {
    "scrolled": true
   },
   "outputs": [
    {
     "data": {
      "text/plain": [
       "id                                                    0\n",
       "scrape_id                                             0\n",
       "host_id                                               0\n",
       "host_response_rate                                  297\n",
       "host_acceptance_rate                                469\n",
       "host_listings_count                                   0\n",
       "host_total_listings_count                             0\n",
       "neighbourhood_group_cleansed                       5208\n",
       "zipcode                                              77\n",
       "latitude                                              0\n",
       "longitude                                             0\n",
       "accommodates                                          0\n",
       "bathrooms                                            10\n",
       "bedrooms                                              3\n",
       "beds                                                  4\n",
       "square_feet                                        5112\n",
       "weekly_price                                       4157\n",
       "monthly_price                                      5106\n",
       "security_deposit                                   2557\n",
       "cleaning_fee                                       1054\n",
       "guests_included                                       0\n",
       "extra_people                                          0\n",
       "minimum_nights                                        0\n",
       "maximum_nights                                        0\n",
       "has_availability                                   5208\n",
       "availability_30                                       0\n",
       "availability_60                                       0\n",
       "availability_90                                       0\n",
       "availability_365                                      0\n",
       "number_of_reviews                                     0\n",
       "                                                   ... \n",
       "has\"Fire Extinguisher\"                                0\n",
       "has\"Hot Tub\"                                          0\n",
       "has\"Cable TV\"                                         0\n",
       "has\"Air Conditioning\"                                 0\n",
       "has\"Laptop Friendly Workspace\"                        0\n",
       "has\"Suitable for Events\"                              0\n",
       "hasKitchen                                            0\n",
       "has\"Family/Kid Friendly\"                              0\n",
       "has\"translation missing: en.hosting_amenity_49\"       0\n",
       "hasShampoo                                            0\n",
       "hasHeating                                            0\n",
       "has\"Hair Dryer\"                                       0\n",
       "has\"Smoke Detector\"                                   0\n",
       "hasIron                                               0\n",
       "has\"Lock on Bedroom Door\"                             0\n",
       "has\"Free Parking on Premises\"                         0\n",
       "has\"Pets live on this property\"                       0\n",
       "has\"Safety Card\"                                      0\n",
       "hasDoorman                                            0\n",
       "hasDryer                                              0\n",
       "has\"Pets Allowed\"                                     0\n",
       "has\"Wheelchair Accessible\"                            0\n",
       "has\"First Aid Kit\"                                    0\n",
       "hasDog(s)                                             0\n",
       "has\"Wireless Internet\"                                0\n",
       "hasPool                                               0\n",
       "hasBreakfast                                          0\n",
       "has\"Smoking Allowed\"                                  0\n",
       "hasCat(s)                                             0\n",
       "has\"24-Hour Check-in\"                                 0\n",
       "Length: 86, dtype: int64"
      ]
     },
     "execution_count": 31,
     "metadata": {},
     "output_type": "execute_result"
    }
   ],
   "source": [
    "X_hol.isnull().sum()"
   ]
  },
  {
   "cell_type": "code",
   "execution_count": 32,
   "metadata": {
    "collapsed": true
   },
   "outputs": [],
   "source": [
    "X_hol = X_hol.drop(columns=['neighbourhood_group_cleansed','square_feet','has_availability','license','weekly_price','monthly_price'])\n",
    "X_wke = X_wke.drop(columns=['neighbourhood_group_cleansed','square_feet','has_availability','license','weekly_price','monthly_price'])\n",
    "X_wkd = X_wkd.drop(columns=['neighbourhood_group_cleansed','square_feet','has_availability','license','weekly_price','monthly_price'])"
   ]
  },
  {
   "cell_type": "code",
   "execution_count": 33,
   "metadata": {
    "collapsed": true
   },
   "outputs": [],
   "source": [
    "X_hol = X_hol.fillna(value=X_hol.mean())\n",
    "X_wke = X_wke.fillna(value=X_wke.mean())\n",
    "X_wkd = X_wkd.fillna(value=X_wkd.mean())"
   ]
  },
  {
   "cell_type": "code",
   "execution_count": 34,
   "metadata": {
    "collapsed": true
   },
   "outputs": [],
   "source": [
    "X_hol = X_hol.drop(columns=['id','listing_id','host_id','scrape_id'])\n",
    "X_wke = X_wke.drop(columns=['id','listing_id','host_id','scrape_id'])\n",
    "X_wkd = X_wkd.drop(columns=['id','listing_id','host_id','scrape_id'])"
   ]
  },
  {
   "cell_type": "code",
   "execution_count": 35,
   "metadata": {
    "collapsed": true,
    "scrolled": true
   },
   "outputs": [],
   "source": [
    "target_hol = X_hol['price_y']\n",
    "target_wke = X_wke['price_y']\n",
    "target_wkd = X_wkd['price_y']"
   ]
  },
  {
   "cell_type": "code",
   "execution_count": 36,
   "metadata": {
    "collapsed": true
   },
   "outputs": [],
   "source": [
    "X_hol = X_hol.drop('price_y', axis = 1)\n",
    "X_wke = X_wke.drop('price_y', axis = 1)\n",
    "X_wkd = X_wkd.drop('price_y', axis = 1)"
   ]
  },
  {
   "cell_type": "code",
   "execution_count": null,
   "metadata": {
    "collapsed": true
   },
   "outputs": [],
   "source": []
  },
  {
   "cell_type": "code",
   "execution_count": null,
   "metadata": {
    "collapsed": true
   },
   "outputs": [],
   "source": []
  },
  {
   "cell_type": "code",
   "execution_count": null,
   "metadata": {
    "collapsed": true
   },
   "outputs": [],
   "source": []
  },
  {
   "cell_type": "code",
   "execution_count": null,
   "metadata": {
    "collapsed": true
   },
   "outputs": [],
   "source": []
  },
  {
   "cell_type": "markdown",
   "metadata": {},
   "source": [
    "#### Creating a whole target and predictors"
   ]
  },
  {
   "cell_type": "code",
   "execution_count": 37,
   "metadata": {
    "collapsed": true
   },
   "outputs": [],
   "source": [
    "target_whole = reduce(lambda x, y: x.combine_first(y), [target_hol, target_wke, target_wkd])\n",
    "X_whole = reduce(lambda x, y: x.combine_first(y), [X_hol, X_wke, X_wkd])"
   ]
  },
  {
   "cell_type": "markdown",
   "metadata": {},
   "source": [
    "## Modeling (time series)"
   ]
  },
  {
   "cell_type": "markdown",
   "metadata": {},
   "source": [
    "### Model 1"
   ]
  },
  {
   "cell_type": "code",
   "execution_count": 39,
   "metadata": {
    "collapsed": true
   },
   "outputs": [],
   "source": [
    "features = [u'host_response_rate', u'host_acceptance_rate', u'host_listings_count',\n",
    "       u'host_total_listings_count', u'zipcode', u'latitude', u'longitude',\n",
    "       u'accommodates', u'bathrooms', u'bedrooms', u'beds',\n",
    "       u'security_deposit', u'cleaning_fee', u'guests_included',\n",
    "       u'extra_people', u'minimum_nights', u'maximum_nights',\n",
    "       u'availability_30', u'availability_60', u'availability_90',\n",
    "       u'availability_365', u'number_of_reviews', u'review_scores_rating',\n",
    "       u'review_scores_accuracy', u'review_scores_cleanliness',\n",
    "       u'review_scores_checkin', u'review_scores_communication',\n",
    "       u'review_scores_location', u'review_scores_value',\n",
    "       u'calculated_host_listings_count', u'reviews_per_month', u'ones']"
   ]
  },
  {
   "cell_type": "markdown",
   "metadata": {},
   "source": [
    "#### Holidays"
   ]
  },
  {
   "cell_type": "code",
   "execution_count": 40,
   "metadata": {
    "collapsed": true
   },
   "outputs": [],
   "source": [
    "X_train, X_test, y_train, y_test = train_test_split(X_hol[features], target_hol, test_size=.30, random_state=1)\n",
    "X_train_two, X_val, y_train_two, y_val = train_test_split(X_train, y_train, test_size=.30, random_state=1)"
   ]
  },
  {
   "cell_type": "markdown",
   "metadata": {},
   "source": [
    "##### Linear Model "
   ]
  },
  {
   "cell_type": "code",
   "execution_count": 42,
   "metadata": {},
   "outputs": [
    {
     "name": "stdout",
     "output_type": "stream",
     "text": [
      "R2 for validation is 0.659122179548\n",
      "Mean square error for validation is 8799.6570256\n",
      "Mean absolute error for validation is 62.1892286849\n",
      "R2 is -0.448279870262\n",
      "Mean square error is 36732.0493561\n",
      "Mean absolute error is 66.2050991985\n"
     ]
    }
   ],
   "source": [
    "print('R2 for validation is ' + str(r2_est_two(X_train_two, y_train_two, X_val, y_val)))\n",
    "print('Mean square error for validation is ' + str(mean_squared_error(linear_regression.fit(X_train_two, y_train_two).predict(X_val), y_val)))\n",
    "print('Mean absolute error for validation is ' + str(mean_absolute_error(linear_regression.fit(X_train_two, y_train_two).predict(X_val), y_val)))\n",
    "print('R2 is ' + str(r2_est_two(X_train, y_train, X_test, y_test)))\n",
    "print('Mean square error is ' + str(mean_squared_error(linear_regression.fit(X_train, y_train).predict(X_test), y_test)))\n",
    "print('Mean absolute error is ' + str(mean_absolute_error(linear_regression.fit(X_train, y_train).predict(X_test), y_test)))"
   ]
  },
  {
   "cell_type": "markdown",
   "metadata": {},
   "source": [
    "##### Quadratic Model"
   ]
  },
  {
   "cell_type": "code",
   "execution_count": 43,
   "metadata": {
    "scrolled": true
   },
   "outputs": [
    {
     "name": "stdout",
     "output_type": "stream",
     "text": [
      "R^2 for validation is 0.290799197092\n",
      "Mean square error for validation is 22847.1143969\n",
      "Mean absolute error for validation is 78.0034678952\n",
      "R^2 for is -0.000627194665553\n",
      "Mean square error is 433132349237.0\n",
      "Mean absolute error is 16714.6570329\n"
     ]
    }
   ],
   "source": [
    "create_poly = PolynomialFeatures(degree=2, interaction_only=False, include_bias=False)\n",
    "poly = make_pipeline(create_poly, StandardScaler(), linear_regression)\n",
    "model = poly.fit(X_train_two, y_train_two)\n",
    "print('R^2 for validation is ' + str(r2_score(model.predict(X_val), y_val)))\n",
    "print('Mean square error for validation is ' + str(mean_squared_error(model.predict(X_val), y_val)))\n",
    "print('Mean absolute error for validation is ' + str(mean_absolute_error(model.predict(X_val), y_val)))\n",
    "model_final = poly.fit(X_train, y_train)\n",
    "print('R^2 for is ' + str(r2_score(model.predict(X_test), y_test)))\n",
    "print('Mean square error is ' + str(mean_squared_error(model.predict(X_test), y_test)))\n",
    "print('Mean absolute error is ' + str(mean_absolute_error(model.predict(X_test), y_test)))"
   ]
  },
  {
   "cell_type": "markdown",
   "metadata": {},
   "source": [
    "#### Weekends"
   ]
  },
  {
   "cell_type": "code",
   "execution_count": 44,
   "metadata": {
    "collapsed": true
   },
   "outputs": [],
   "source": [
    "X_train, X_test, y_train, y_test = train_test_split(X_wke[features], target_wke, test_size=.30, random_state=1)\n",
    "X_train_two, X_val, y_train_two, y_val = train_test_split(X_train, y_train, test_size=.30, random_state=1)"
   ]
  },
  {
   "cell_type": "markdown",
   "metadata": {},
   "source": [
    "##### Linear Model"
   ]
  },
  {
   "cell_type": "code",
   "execution_count": 45,
   "metadata": {},
   "outputs": [
    {
     "name": "stdout",
     "output_type": "stream",
     "text": [
      "R2 for validation is 0.602416947469\n",
      "Mean square error for validation is 11606.3888254\n",
      "Mean absolute error for validation is 68.3761138482\n",
      "R2 is -0.365051508093\n",
      "Mean square error is 36132.4415569\n",
      "Mean absolute error is 70.8816841853\n"
     ]
    }
   ],
   "source": [
    "print('R2 for validation is ' + str(r2_est_two(X_train_two, y_train_two, X_val, y_val)))\n",
    "print('Mean square error for validation is ' + str(mean_squared_error(linear_regression.fit(X_train_two, y_train_two).predict(X_val), y_val)))\n",
    "print('Mean absolute error for validation is ' + str(mean_absolute_error(linear_regression.fit(X_train_two, y_train_two).predict(X_val), y_val)))\n",
    "print('R2 is ' + str(r2_est_two(X_train, y_train, X_test, y_test)))\n",
    "print('Mean square error is ' + str(mean_squared_error(linear_regression.fit(X_train, y_train).predict(X_test), y_test)))\n",
    "print('Mean absolute error is ' + str(mean_absolute_error(linear_regression.fit(X_train, y_train).predict(X_test), y_test)))"
   ]
  },
  {
   "cell_type": "markdown",
   "metadata": {},
   "source": [
    "##### Quadratic Model"
   ]
  },
  {
   "cell_type": "code",
   "execution_count": 46,
   "metadata": {},
   "outputs": [
    {
     "name": "stdout",
     "output_type": "stream",
     "text": [
      "R^2 for validation is 0.282855547762\n",
      "Mean square error for validation is 23265.6608046\n",
      "Mean absolute error for validation is 79.0708132186\n",
      "R^2 for is -0.000551942882484\n",
      "Mean square error is 1.00176120194e+12\n",
      "Mean absolute error is 24077.0970935\n"
     ]
    }
   ],
   "source": [
    "create_poly = PolynomialFeatures(degree=2, interaction_only=False, include_bias=False)\n",
    "poly = make_pipeline(create_poly, StandardScaler(), linear_regression)\n",
    "model = poly.fit(X_train_two, y_train_two)\n",
    "print('R^2 for validation is ' + str(r2_score(model.predict(X_val), y_val)))\n",
    "print('Mean square error for validation is ' + str(mean_squared_error(model.predict(X_val), y_val)))\n",
    "print('Mean absolute error for validation is ' + str(mean_absolute_error(model.predict(X_val), y_val)))\n",
    "model_final = poly.fit(X_train, y_train)\n",
    "print('R^2 for is ' + str(r2_score(model.predict(X_test), y_test)))\n",
    "print('Mean square error is ' + str(mean_squared_error(model.predict(X_test), y_test)))\n",
    "print('Mean absolute error is ' + str(mean_absolute_error(model.predict(X_test), y_test)))"
   ]
  },
  {
   "cell_type": "markdown",
   "metadata": {},
   "source": [
    "#### Weekdays"
   ]
  },
  {
   "cell_type": "code",
   "execution_count": 47,
   "metadata": {
    "collapsed": true
   },
   "outputs": [],
   "source": [
    "X_train, X_test, y_train, y_test = train_test_split(X_wkd[features], target_wkd, test_size=.30, random_state=1)\n",
    "X_train_two, X_val, y_train_two, y_val = train_test_split(X_train, y_train, test_size=.30, random_state=1)"
   ]
  },
  {
   "cell_type": "markdown",
   "metadata": {},
   "source": [
    "##### Linear Model"
   ]
  },
  {
   "cell_type": "code",
   "execution_count": 48,
   "metadata": {},
   "outputs": [
    {
     "name": "stdout",
     "output_type": "stream",
     "text": [
      "R2 for validation is 0.578179812619\n",
      "Mean square error for validation is 10737.0887992\n",
      "Mean absolute error for validation is 67.3657262885\n",
      "R2 is 0.60095715516\n",
      "Mean square error is 11445.1201487\n",
      "Mean absolute error is 66.6547857159\n"
     ]
    }
   ],
   "source": [
    "print('R2 for validation is ' + str(r2_est_two(X_train_two, y_train_two, X_val, y_val)))\n",
    "print('Mean square error for validation is ' + str(mean_squared_error(linear_regression.fit(X_train_two, y_train_two).predict(X_val), y_val)))\n",
    "print('Mean absolute error for validation is ' + str(mean_absolute_error(linear_regression.fit(X_train_two, y_train_two).predict(X_val), y_val)))\n",
    "print('R2 is ' + str(r2_est_two(X_train, y_train, X_test, y_test)))\n",
    "print('Mean square error is ' + str(mean_squared_error(linear_regression.fit(X_train, y_train).predict(X_test), y_test)))\n",
    "print('Mean absolute error is ' + str(mean_absolute_error(linear_regression.fit(X_train, y_train).predict(X_test), y_test)))"
   ]
  },
  {
   "cell_type": "markdown",
   "metadata": {},
   "source": [
    "##### Quadratic Model"
   ]
  },
  {
   "cell_type": "code",
   "execution_count": 49,
   "metadata": {},
   "outputs": [
    {
     "name": "stdout",
     "output_type": "stream",
     "text": [
      "R^2 for validation is 0.383522750873\n",
      "Mean square error for validation is 15214.9180703\n",
      "Mean absolute error for validation is 78.3227111599\n",
      "R^2 for is 0.448714712015\n",
      "Mean square error is 12442.3485348\n",
      "Mean absolute error is 69.989243112\n"
     ]
    }
   ],
   "source": [
    "create_poly = PolynomialFeatures(degree=2, interaction_only=False, include_bias=False)\n",
    "poly = make_pipeline(create_poly, StandardScaler(), linear_regression)\n",
    "model = poly.fit(X_train_two, y_train_two)\n",
    "print('R^2 for validation is ' + str(r2_score(model.predict(X_val), y_val)))\n",
    "print('Mean square error for validation is ' + str(mean_squared_error(model.predict(X_val), y_val)))\n",
    "print('Mean absolute error for validation is ' + str(mean_absolute_error(model.predict(X_val), y_val)))\n",
    "model_final = poly.fit(X_train, y_train)\n",
    "print('R^2 for is ' + str(r2_score(model.predict(X_test), y_test)))\n",
    "print('Mean square error is ' + str(mean_squared_error(model.predict(X_test), y_test)))\n",
    "print('Mean absolute error is ' + str(mean_absolute_error(model.predict(X_test), y_test)))"
   ]
  },
  {
   "cell_type": "markdown",
   "metadata": {
    "collapsed": true
   },
   "source": [
    "#### As a whole"
   ]
  },
  {
   "cell_type": "code",
   "execution_count": 51,
   "metadata": {
    "collapsed": true
   },
   "outputs": [],
   "source": [
    "X_train, X_test, y_train, y_test = train_test_split(X_whole[features], target_whole, test_size=.30, random_state=1)\n",
    "X_train_two, X_val, y_train_two, y_val = train_test_split(X_train, y_train, test_size=.30, random_state=1)"
   ]
  },
  {
   "cell_type": "markdown",
   "metadata": {},
   "source": [
    "##### Linear Model"
   ]
  },
  {
   "cell_type": "code",
   "execution_count": 52,
   "metadata": {},
   "outputs": [
    {
     "name": "stdout",
     "output_type": "stream",
     "text": [
      "R2 for validation is 0.487686511466\n",
      "Mean square error for validation is 11647.1620232\n",
      "Mean absolute error for validation is 63.4825031749\n",
      "R2 is 0.615381582489\n",
      "Mean square error is 9990.78011704\n",
      "Mean absolute error is 60.8174121637\n"
     ]
    }
   ],
   "source": [
    "print('R2 for validation is ' + str(r2_est_two(X_train_two, y_train_two, X_val, y_val)))\n",
    "print('Mean square error for validation is ' + str(mean_squared_error(linear_regression.fit(X_train_two, y_train_two).predict(X_val), y_val)))\n",
    "print('Mean absolute error for validation is ' + str(mean_absolute_error(linear_regression.fit(X_train_two, y_train_two).predict(X_val), y_val)))\n",
    "print('R2 is ' + str(r2_est_two(X_train, y_train, X_test, y_test)))\n",
    "print('Mean square error is ' + str(mean_squared_error(linear_regression.fit(X_train, y_train).predict(X_test), y_test)))\n",
    "print('Mean absolute error is ' + str(mean_absolute_error(linear_regression.fit(X_train, y_train).predict(X_test), y_test)))"
   ]
  },
  {
   "cell_type": "markdown",
   "metadata": {},
   "source": [
    "##### Quadratic Model"
   ]
  },
  {
   "cell_type": "code",
   "execution_count": 53,
   "metadata": {},
   "outputs": [
    {
     "name": "stdout",
     "output_type": "stream",
     "text": [
      "R^2 for validation is 0.0168791384756\n",
      "Mean square error for validation is 494995.69643\n",
      "Mean absolute error for validation is 86.2101723294\n",
      "R^2 for is 0.365767698752\n",
      "Mean square error is 16664.8497915\n",
      "Mean absolute error is 66.7971226172\n"
     ]
    }
   ],
   "source": [
    "create_poly = PolynomialFeatures(degree=2, interaction_only=False, include_bias=False)\n",
    "poly = make_pipeline(create_poly, StandardScaler(), linear_regression)\n",
    "model = poly.fit(X_train_two, y_train_two)\n",
    "print('R^2 for validation is ' + str(r2_score(model.predict(X_val), y_val)))\n",
    "print('Mean square error for validation is ' + str(mean_squared_error(model.predict(X_val), y_val)))\n",
    "print('Mean absolute error for validation is ' + str(mean_absolute_error(model.predict(X_val), y_val)))\n",
    "model_final = poly.fit(X_train, y_train)\n",
    "print('R^2 for is ' + str(r2_score(model.predict(X_test), y_test)))\n",
    "print('Mean square error is ' + str(mean_squared_error(model.predict(X_test), y_test)))\n",
    "print('Mean absolute error is ' + str(mean_absolute_error(model.predict(X_test), y_test)))"
   ]
  },
  {
   "cell_type": "markdown",
   "metadata": {
    "collapsed": true
   },
   "source": [
    "### Model 2"
   ]
  },
  {
   "cell_type": "markdown",
   "metadata": {},
   "source": [
    "#### Holidays"
   ]
  },
  {
   "cell_type": "code",
   "execution_count": 54,
   "metadata": {
    "collapsed": true
   },
   "outputs": [],
   "source": [
    "X_train, X_test, y_train, y_test = train_test_split(X_hol, target_hol, test_size=.30, random_state=1)\n",
    "X_train_two, X_val, y_train_two, y_val = train_test_split(X_train, y_train, test_size=.30, random_state=1)"
   ]
  },
  {
   "cell_type": "markdown",
   "metadata": {},
   "source": [
    "##### Linear Model "
   ]
  },
  {
   "cell_type": "code",
   "execution_count": 55,
   "metadata": {},
   "outputs": [
    {
     "name": "stdout",
     "output_type": "stream",
     "text": [
      "R2 for validation is 0.669547338606\n",
      "Mean square error for validation is 8530.53472239\n",
      "Mean absolute error for validation is 60.9325948832\n",
      "R2 is -0.993337509003\n",
      "Mean square error is 50556.0929676\n",
      "Mean absolute error is 66.4187797467\n"
     ]
    }
   ],
   "source": [
    "print('R2 for validation is ' + str(r2_est_two(X_train_two, y_train_two, X_val, y_val)))\n",
    "print('Mean square error for validation is ' + str(mean_squared_error(linear_regression.fit(X_train_two, y_train_two).predict(X_val), y_val)))\n",
    "print('Mean absolute error for validation is ' + str(mean_absolute_error(linear_regression.fit(X_train_two, y_train_two).predict(X_val), y_val)))\n",
    "print('R2 is ' + str(r2_est_two(X_train, y_train, X_test, y_test)))\n",
    "print('Mean square error is ' + str(mean_squared_error(linear_regression.fit(X_train, y_train).predict(X_test), y_test)))\n",
    "print('Mean absolute error is ' + str(mean_absolute_error(linear_regression.fit(X_train, y_train).predict(X_test), y_test)))"
   ]
  },
  {
   "cell_type": "markdown",
   "metadata": {},
   "source": [
    "##### Quadratic Model "
   ]
  },
  {
   "cell_type": "code",
   "execution_count": 56,
   "metadata": {},
   "outputs": [
    {
     "name": "stdout",
     "output_type": "stream",
     "text": [
      "R^2 for validation is -0.00274564279329\n",
      "Mean square error for validation is 155284121.925\n",
      "Mean absolute error for validation is 3335.24420422\n",
      "R^2 for is -0.000865183210554\n",
      "Mean square error is 6.46424251297e+27\n",
      "Mean absolute error is 6.41776854028e+12\n"
     ]
    }
   ],
   "source": [
    "create_poly = PolynomialFeatures(degree=2, interaction_only=False, include_bias=False)\n",
    "poly = make_pipeline(create_poly, StandardScaler(), linear_regression)\n",
    "model = poly.fit(X_train_two, y_train_two)\n",
    "print('R^2 for validation is ' + str(r2_score(model.predict(X_val), y_val)))\n",
    "print('Mean square error for validation is ' + str(mean_squared_error(model.predict(X_val), y_val)))\n",
    "print('Mean absolute error for validation is ' + str(mean_absolute_error(model.predict(X_val), y_val)))\n",
    "model_final = poly.fit(X_train, y_train)\n",
    "print('R^2 for is ' + str(r2_score(model.predict(X_test), y_test)))\n",
    "print('Mean square error is ' + str(mean_squared_error(model.predict(X_test), y_test)))\n",
    "print('Mean absolute error is ' + str(mean_absolute_error(model.predict(X_test), y_test)))"
   ]
  },
  {
   "cell_type": "markdown",
   "metadata": {},
   "source": [
    "#### Weekends"
   ]
  },
  {
   "cell_type": "code",
   "execution_count": 57,
   "metadata": {
    "collapsed": true
   },
   "outputs": [],
   "source": [
    "X_train, X_test, y_train, y_test = train_test_split(X_wke, target_wke, test_size=.30, random_state=1)\n",
    "X_train_two, X_val, y_train_two, y_val = train_test_split(X_train, y_train, test_size=.30, random_state=1)"
   ]
  },
  {
   "cell_type": "markdown",
   "metadata": {},
   "source": [
    "##### Linear Model"
   ]
  },
  {
   "cell_type": "code",
   "execution_count": 58,
   "metadata": {},
   "outputs": [
    {
     "name": "stdout",
     "output_type": "stream",
     "text": [
      "R2 for validation is 0.611565285436\n",
      "Mean square error for validation is 11339.3272218\n",
      "Mean absolute error for validation is 67.7828282961\n",
      "R2 is -1.05860147938\n",
      "Mean square error is 54490.469555\n",
      "Mean absolute error is 72.7735050177\n"
     ]
    }
   ],
   "source": [
    "print('R2 for validation is ' + str(r2_est_two(X_train_two, y_train_two, X_val, y_val)))\n",
    "print('Mean square error for validation is ' + str(mean_squared_error(linear_regression.fit(X_train_two, y_train_two).predict(X_val), y_val)))\n",
    "print('Mean absolute error for validation is ' + str(mean_absolute_error(linear_regression.fit(X_train_two, y_train_two).predict(X_val), y_val)))\n",
    "print('R2 is ' + str(r2_est_two(X_train, y_train, X_test, y_test)))\n",
    "print('Mean square error is ' + str(mean_squared_error(linear_regression.fit(X_train, y_train).predict(X_test), y_test)))\n",
    "print('Mean absolute error is ' + str(mean_absolute_error(linear_regression.fit(X_train, y_train).predict(X_test), y_test)))"
   ]
  },
  {
   "cell_type": "markdown",
   "metadata": {},
   "source": [
    "##### Quadratic Model"
   ]
  },
  {
   "cell_type": "code",
   "execution_count": 59,
   "metadata": {},
   "outputs": [
    {
     "name": "stdout",
     "output_type": "stream",
     "text": [
      "R^2 for validation is -0.00180511196039\n",
      "Mean square error for validation is 2.14492749554e+24\n",
      "Mean absolute error for validation is 172199604517.0\n",
      "R^2 for is -0.00277946696803\n",
      "Mean square error is 4.06723361209e+25\n",
      "Mean absolute error is 432300563822.0\n"
     ]
    }
   ],
   "source": [
    "create_poly = PolynomialFeatures(degree=2, interaction_only=False, include_bias=False)\n",
    "poly = make_pipeline(create_poly, StandardScaler(), linear_regression)\n",
    "model = poly.fit(X_train_two, y_train_two)\n",
    "print('R^2 for validation is ' + str(r2_score(model.predict(X_val), y_val)))\n",
    "print('Mean square error for validation is ' + str(mean_squared_error(model.predict(X_val), y_val)))\n",
    "print('Mean absolute error for validation is ' + str(mean_absolute_error(model.predict(X_val), y_val)))\n",
    "model_final = poly.fit(X_train, y_train)\n",
    "print('R^2 for is ' + str(r2_score(model.predict(X_test), y_test)))\n",
    "print('Mean square error is ' + str(mean_squared_error(model.predict(X_test), y_test)))\n",
    "print('Mean absolute error is ' + str(mean_absolute_error(model.predict(X_test), y_test)))"
   ]
  },
  {
   "cell_type": "markdown",
   "metadata": {},
   "source": [
    "#### Weekdays"
   ]
  },
  {
   "cell_type": "code",
   "execution_count": 60,
   "metadata": {
    "collapsed": true
   },
   "outputs": [],
   "source": [
    "X_train, X_test, y_train, y_test = train_test_split(X_wkd, target_wkd, test_size=.30, random_state=1)\n",
    "X_train_two, X_val, y_train_two, y_val = train_test_split(X_train, y_train, test_size=.30, random_state=1)"
   ]
  },
  {
   "cell_type": "markdown",
   "metadata": {},
   "source": [
    "##### Linear Model "
   ]
  },
  {
   "cell_type": "code",
   "execution_count": 61,
   "metadata": {},
   "outputs": [
    {
     "name": "stdout",
     "output_type": "stream",
     "text": [
      "R2 for validation is 0.591220217989\n",
      "Mean square error for validation is 10405.1559173\n",
      "Mean absolute error for validation is 66.5884535025\n",
      "R2 is 0.608245442315\n",
      "Mean square error is 11236.0816375\n",
      "Mean absolute error is 66.6659432419\n"
     ]
    }
   ],
   "source": [
    "print('R2 for validation is ' + str(r2_est_two(X_train_two, y_train_two, X_val, y_val)))\n",
    "print('Mean square error for validation is ' + str(mean_squared_error(linear_regression.fit(X_train_two, y_train_two).predict(X_val), y_val)))\n",
    "print('Mean absolute error for validation is ' + str(mean_absolute_error(linear_regression.fit(X_train_two, y_train_two).predict(X_val), y_val)))\n",
    "print('R2 is ' + str(r2_est_two(X_train, y_train, X_test, y_test)))\n",
    "print('Mean square error is ' + str(mean_squared_error(linear_regression.fit(X_train, y_train).predict(X_test), y_test)))\n",
    "print('Mean absolute error is ' + str(mean_absolute_error(linear_regression.fit(X_train, y_train).predict(X_test), y_test)))"
   ]
  },
  {
   "cell_type": "markdown",
   "metadata": {},
   "source": [
    "##### Quadratic Model"
   ]
  },
  {
   "cell_type": "code",
   "execution_count": 62,
   "metadata": {},
   "outputs": [
    {
     "name": "stdout",
     "output_type": "stream",
     "text": [
      "R^2 for validation is -1.70205974208e-05\n",
      "Mean square error for validation is 1.94180497673e+25\n",
      "Mean absolute error for validation is 536657086394.0\n",
      "R^2 for is -0.000674362271768\n",
      "Mean square error is 2.87630269556e+25\n",
      "Mean absolute error is 533313123650.0\n"
     ]
    }
   ],
   "source": [
    "create_poly = PolynomialFeatures(degree=2, interaction_only=False, include_bias=False)\n",
    "poly = make_pipeline(create_poly, StandardScaler(), linear_regression)\n",
    "model = poly.fit(X_train_two, y_train_two)\n",
    "print('R^2 for validation is ' + str(r2_score(model.predict(X_val), y_val)))\n",
    "print('Mean square error for validation is ' + str(mean_squared_error(model.predict(X_val), y_val)))\n",
    "print('Mean absolute error for validation is ' + str(mean_absolute_error(model.predict(X_val), y_val)))\n",
    "model_final = poly.fit(X_train, y_train)\n",
    "print('R^2 for is ' + str(r2_score(model.predict(X_test), y_test)))\n",
    "print('Mean square error is ' + str(mean_squared_error(model.predict(X_test), y_test)))\n",
    "print('Mean absolute error is ' + str(mean_absolute_error(model.predict(X_test), y_test)))"
   ]
  },
  {
   "cell_type": "markdown",
   "metadata": {},
   "source": [
    "#### As a whole"
   ]
  },
  {
   "cell_type": "code",
   "execution_count": 63,
   "metadata": {
    "collapsed": true
   },
   "outputs": [],
   "source": [
    "X_train, X_test, y_train, y_test = train_test_split(X_whole, target_whole, test_size=.30, random_state=1)\n",
    "X_train_two, X_val, y_train_two, y_val = train_test_split(X_train, y_train, test_size=.30, random_state=1)"
   ]
  },
  {
   "cell_type": "markdown",
   "metadata": {},
   "source": [
    "##### Linear Model "
   ]
  },
  {
   "cell_type": "code",
   "execution_count": 64,
   "metadata": {},
   "outputs": [
    {
     "name": "stdout",
     "output_type": "stream",
     "text": [
      "R2 for validation is 0.512522120498\n",
      "Mean square error for validation is 11082.5382746\n",
      "Mean absolute error for validation is 62.9007033929\n",
      "R2 is 0.623231784336\n",
      "Mean square error is 9786.86465964\n",
      "Mean absolute error is 60.3065431552\n"
     ]
    }
   ],
   "source": [
    "print('R2 for validation is ' + str(r2_est_two(X_train_two, y_train_two, X_val, y_val)))\n",
    "print('Mean square error for validation is ' + str(mean_squared_error(linear_regression.fit(X_train_two, y_train_two).predict(X_val), y_val)))\n",
    "print('Mean absolute error for validation is ' + str(mean_absolute_error(linear_regression.fit(X_train_two, y_train_two).predict(X_val), y_val)))\n",
    "print('R2 is ' + str(r2_est_two(X_train, y_train, X_test, y_test)))\n",
    "print('Mean square error is ' + str(mean_squared_error(linear_regression.fit(X_train, y_train).predict(X_test), y_test)))\n",
    "print('Mean absolute error is ' + str(mean_absolute_error(linear_regression.fit(X_train, y_train).predict(X_test), y_test)))"
   ]
  },
  {
   "cell_type": "markdown",
   "metadata": {},
   "source": [
    "##### Quadratic Model"
   ]
  },
  {
   "cell_type": "code",
   "execution_count": 65,
   "metadata": {},
   "outputs": [
    {
     "name": "stdout",
     "output_type": "stream",
     "text": [
      "R^2 for validation is -0.000705508080497\n",
      "Mean square error for validation is 2.40434253026e+25\n",
      "Mean absolute error for validation is 477634448587.0\n",
      "R^2 for is -0.000313822082472\n",
      "Mean square error is 2.78956778236e+25\n",
      "Mean absolute error is 502052817840.0\n"
     ]
    }
   ],
   "source": [
    "create_poly = PolynomialFeatures(degree=2, interaction_only=False, include_bias=False)\n",
    "poly = make_pipeline(create_poly, StandardScaler(), linear_regression)\n",
    "model = poly.fit(X_train_two, y_train_two)\n",
    "print('R^2 for validation is ' + str(r2_score(model.predict(X_val), y_val)))\n",
    "print('Mean square error for validation is ' + str(mean_squared_error(model.predict(X_val), y_val)))\n",
    "print('Mean absolute error for validation is ' + str(mean_absolute_error(model.predict(X_val), y_val)))\n",
    "model_final = poly.fit(X_train, y_train)\n",
    "print('R^2 for is ' + str(r2_score(model.predict(X_test), y_test)))\n",
    "print('Mean square error is ' + str(mean_squared_error(model.predict(X_test), y_test)))\n",
    "print('Mean absolute error is ' + str(mean_absolute_error(model.predict(X_test), y_test)))"
   ]
  },
  {
   "cell_type": "code",
   "execution_count": null,
   "metadata": {
    "collapsed": true
   },
   "outputs": [],
   "source": []
  }
 ],
 "metadata": {
  "anaconda-cloud": {},
  "kernelspec": {
   "display_name": "Python [default]",
   "language": "python",
   "name": "python2"
  },
  "language_info": {
   "codemirror_mode": {
    "name": "ipython",
    "version": 2
   },
   "file_extension": ".py",
   "mimetype": "text/x-python",
   "name": "python",
   "nbconvert_exporter": "python",
   "pygments_lexer": "ipython2",
   "version": "2.7.12"
  }
 },
 "nbformat": 4,
 "nbformat_minor": 2
}
