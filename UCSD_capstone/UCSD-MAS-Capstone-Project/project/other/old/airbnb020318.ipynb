{
 "cells": [
  {
   "cell_type": "code",
   "execution_count": 1,
   "metadata": {
    "collapsed": true
   },
   "outputs": [],
   "source": [
    "import pandas as pd\n",
    "import os"
   ]
  },
  {
   "cell_type": "code",
   "execution_count": 2,
   "metadata": {
    "collapsed": true
   },
   "outputs": [],
   "source": [
    "import sklearn as sk\n",
    "from sklearn.linear_model import MultiTaskLasso, MultiTaskElasticNet, ElasticNet"
   ]
  },
  {
   "cell_type": "code",
   "execution_count": 3,
   "metadata": {
    "collapsed": true
   },
   "outputs": [],
   "source": [
    "from sklearn.model_selection import train_test_split"
   ]
  },
  {
   "cell_type": "code",
   "execution_count": 4,
   "metadata": {
    "collapsed": true
   },
   "outputs": [],
   "source": [
    "from sklearn.metrics import mean_absolute_error, mean_squared_error\n",
    "import sklearn.metrics as skmet"
   ]
  },
  {
   "cell_type": "code",
   "execution_count": 5,
   "metadata": {
    "collapsed": true
   },
   "outputs": [],
   "source": [
    "import numpy as np"
   ]
  },
  {
   "cell_type": "code",
   "execution_count": 6,
   "metadata": {},
   "outputs": [
    {
     "data": {
      "text/plain": [
       "['neighbourhoods.geo.json',\n",
       " 'reviews.csv',\n",
       " '.DS_Store',\n",
       " 'neighbourhoods.geojson',\n",
       " 'listings_summ.csv',\n",
       " 'neighbourhoods.csv',\n",
       " 'stations.geojson',\n",
       " 'listings.csv',\n",
       " 'calendar.csv',\n",
       " 'reviews_summ.csv',\n",
       " 'neighbourhoods.json']"
      ]
     },
     "execution_count": 6,
     "metadata": {},
     "output_type": "execute_result"
    }
   ],
   "source": [
    "os.listdir(\"inside_airbnb\") "
   ]
  },
  {
   "cell_type": "code",
   "execution_count": 7,
   "metadata": {
    "collapsed": true
   },
   "outputs": [],
   "source": [
    "listings = pd.read_csv('inside_airbnb/listings.csv')\n",
    "list_summ = pd.read_csv('inside_airbnb/listings_summ.csv')\n",
    "neighborhoods = pd.read_csv('inside_airbnb/neighbourhoods.csv')\n",
    "reviews = pd.read_csv('inside_airbnb/reviews.csv')\n",
    "reviews_summ = pd.read_csv('inside_airbnb/reviews_summ.csv')\n",
    "calendar = pd.read_csv('inside_airbnb/calendar.csv')"
   ]
  },
  {
   "cell_type": "code",
   "execution_count": 8,
   "metadata": {},
   "outputs": [
    {
     "data": {
      "text/plain": [
       "Index([u'id', u'listing_url', u'scrape_id', u'last_scraped', u'name',\n",
       "       u'summary', u'space', u'description', u'experiences_offered',\n",
       "       u'neighborhood_overview', u'notes', u'transit', u'access',\n",
       "       u'interaction', u'house_rules', u'thumbnail_url', u'medium_url',\n",
       "       u'picture_url', u'xl_picture_url', u'host_id', u'host_url',\n",
       "       u'host_name', u'host_since', u'host_location', u'host_about',\n",
       "       u'host_response_time', u'host_response_rate', u'host_acceptance_rate',\n",
       "       u'host_is_superhost', u'host_thumbnail_url', u'host_picture_url',\n",
       "       u'host_neighbourhood', u'host_listings_count',\n",
       "       u'host_total_listings_count', u'host_verifications',\n",
       "       u'host_has_profile_pic', u'host_identity_verified', u'street',\n",
       "       u'neighbourhood', u'neighbourhood_cleansed',\n",
       "       u'neighbourhood_group_cleansed', u'city', u'state', u'zipcode',\n",
       "       u'market', u'smart_location', u'country_code', u'country', u'latitude',\n",
       "       u'longitude', u'is_location_exact', u'property_type', u'room_type',\n",
       "       u'accommodates', u'bathrooms', u'bedrooms', u'beds', u'bed_type',\n",
       "       u'amenities', u'square_feet', u'price', u'weekly_price',\n",
       "       u'monthly_price', u'security_deposit', u'cleaning_fee',\n",
       "       u'guests_included', u'extra_people', u'minimum_nights',\n",
       "       u'maximum_nights', u'calendar_updated', u'has_availability',\n",
       "       u'availability_30', u'availability_60', u'availability_90',\n",
       "       u'availability_365', u'calendar_last_scraped', u'number_of_reviews',\n",
       "       u'first_review', u'last_review', u'review_scores_rating',\n",
       "       u'review_scores_accuracy', u'review_scores_cleanliness',\n",
       "       u'review_scores_checkin', u'review_scores_communication',\n",
       "       u'review_scores_location', u'review_scores_value', u'requires_license',\n",
       "       u'license', u'jurisdiction_names', u'instant_bookable',\n",
       "       u'cancellation_policy', u'require_guest_profile_picture',\n",
       "       u'require_guest_phone_verification', u'calculated_host_listings_count',\n",
       "       u'reviews_per_month'],\n",
       "      dtype='object')"
      ]
     },
     "execution_count": 8,
     "metadata": {},
     "output_type": "execute_result"
    }
   ],
   "source": [
    "listings.columns"
   ]
  },
  {
   "cell_type": "code",
   "execution_count": 9,
   "metadata": {
    "collapsed": true
   },
   "outputs": [],
   "source": [
    "listings = listings.loc[(listings.zipcode==92101) & (listings.room_type == 'Entire home/apt')]"
   ]
  },
  {
   "cell_type": "code",
   "execution_count": 10,
   "metadata": {
    "collapsed": true
   },
   "outputs": [],
   "source": [
    "calendar['price'].replace(regex=True,inplace=True,to_replace=r'\\D',value=r'')"
   ]
  },
  {
   "cell_type": "code",
   "execution_count": 11,
   "metadata": {
    "collapsed": true
   },
   "outputs": [],
   "source": [
    "calendar['price'] = pd.to_numeric(calendar['price'], errors='coerce')"
   ]
  },
  {
   "cell_type": "code",
   "execution_count": 12,
   "metadata": {
    "collapsed": true
   },
   "outputs": [],
   "source": [
    "calendar['price'] = calendar['price']/100"
   ]
  },
  {
   "cell_type": "code",
   "execution_count": 13,
   "metadata": {
    "collapsed": true
   },
   "outputs": [],
   "source": [
    "def group_mean(x):\n",
    "    x['mean_price'] = x['price'].mean()\n",
    "    return x"
   ]
  },
  {
   "cell_type": "code",
   "execution_count": 14,
   "metadata": {
    "collapsed": true
   },
   "outputs": [],
   "source": [
    "fr = calendar.groupby(calendar.listing_id).apply(group_mean)"
   ]
  },
  {
   "cell_type": "code",
   "execution_count": 15,
   "metadata": {
    "collapsed": true
   },
   "outputs": [],
   "source": [
    "fr = fr.loc[fr.available!='t']"
   ]
  },
  {
   "cell_type": "code",
   "execution_count": 16,
   "metadata": {
    "collapsed": true
   },
   "outputs": [],
   "source": [
    "frame = fr[['listing_id','mean_price']].groupby(['listing_id']).sum()"
   ]
  },
  {
   "cell_type": "code",
   "execution_count": 17,
   "metadata": {
    "collapsed": true
   },
   "outputs": [],
   "source": [
    "merged = listings.merge(frame, how='inner', left_on='id', right_index=True)"
   ]
  },
  {
   "cell_type": "code",
   "execution_count": 18,
   "metadata": {
    "collapsed": true
   },
   "outputs": [],
   "source": [
    "merged.rename(columns={'mean_price':'estimated_tot_income'}, inplace=True)"
   ]
  },
  {
   "cell_type": "code",
   "execution_count": 19,
   "metadata": {
    "collapsed": true
   },
   "outputs": [],
   "source": [
    "merged['estimated_tot_income'] = merged['estimated_tot_income'].apply(lambda x: x*0.75)"
   ]
  },
  {
   "cell_type": "code",
   "execution_count": 20,
   "metadata": {
    "collapsed": true
   },
   "outputs": [],
   "source": [
    "cols = ['id','bathrooms', 'bedrooms', 'beds', 'bed_type', 'amenities', 'square_feet','review_scores_accuracy', 'review_scores_cleanliness',\n",
    "       'review_scores_checkin', 'review_scores_communication',\n",
    "       'review_scores_location', 'review_scores_value', 'estimated_tot_income']"
   ]
  },
  {
   "cell_type": "code",
   "execution_count": 21,
   "metadata": {},
   "outputs": [
    {
     "data": {
      "text/html": [
       "<div>\n",
       "<style scoped>\n",
       "    .dataframe tbody tr th:only-of-type {\n",
       "        vertical-align: middle;\n",
       "    }\n",
       "\n",
       "    .dataframe tbody tr th {\n",
       "        vertical-align: top;\n",
       "    }\n",
       "\n",
       "    .dataframe thead th {\n",
       "        text-align: right;\n",
       "    }\n",
       "</style>\n",
       "<table border=\"1\" class=\"dataframe\">\n",
       "  <thead>\n",
       "    <tr style=\"text-align: right;\">\n",
       "      <th></th>\n",
       "      <th>id</th>\n",
       "      <th>bathrooms</th>\n",
       "      <th>bedrooms</th>\n",
       "      <th>beds</th>\n",
       "      <th>bed_type</th>\n",
       "      <th>amenities</th>\n",
       "      <th>square_feet</th>\n",
       "      <th>review_scores_accuracy</th>\n",
       "      <th>review_scores_cleanliness</th>\n",
       "      <th>review_scores_checkin</th>\n",
       "      <th>review_scores_communication</th>\n",
       "      <th>review_scores_location</th>\n",
       "      <th>review_scores_value</th>\n",
       "      <th>estimated_tot_income</th>\n",
       "    </tr>\n",
       "  </thead>\n",
       "  <tbody>\n",
       "    <tr>\n",
       "      <th>5731</th>\n",
       "      <td>6869868</td>\n",
       "      <td>3.0</td>\n",
       "      <td>2.0</td>\n",
       "      <td>3.0</td>\n",
       "      <td>Real Bed</td>\n",
       "      <td>{TV,\"Cable TV\",Internet,\"Air Conditioning\",Kit...</td>\n",
       "      <td>NaN</td>\n",
       "      <td>NaN</td>\n",
       "      <td>NaN</td>\n",
       "      <td>NaN</td>\n",
       "      <td>NaN</td>\n",
       "      <td>NaN</td>\n",
       "      <td>NaN</td>\n",
       "      <td>599062.50000</td>\n",
       "    </tr>\n",
       "    <tr>\n",
       "      <th>1285</th>\n",
       "      <td>6275771</td>\n",
       "      <td>2.0</td>\n",
       "      <td>1.0</td>\n",
       "      <td>2.0</td>\n",
       "      <td>Real Bed</td>\n",
       "      <td>{TV,Internet,\"Wireless Internet\",\"Air Conditio...</td>\n",
       "      <td>NaN</td>\n",
       "      <td>10.0</td>\n",
       "      <td>10.0</td>\n",
       "      <td>10.0</td>\n",
       "      <td>10.0</td>\n",
       "      <td>10.0</td>\n",
       "      <td>10.0</td>\n",
       "      <td>351000.00000</td>\n",
       "    </tr>\n",
       "    <tr>\n",
       "      <th>5723</th>\n",
       "      <td>13298618</td>\n",
       "      <td>3.0</td>\n",
       "      <td>3.0</td>\n",
       "      <td>5.0</td>\n",
       "      <td>Real Bed</td>\n",
       "      <td>{TV,\"Wireless Internet\",\"Air Conditioning\",Kit...</td>\n",
       "      <td>NaN</td>\n",
       "      <td>NaN</td>\n",
       "      <td>NaN</td>\n",
       "      <td>NaN</td>\n",
       "      <td>NaN</td>\n",
       "      <td>NaN</td>\n",
       "      <td>NaN</td>\n",
       "      <td>341978.04878</td>\n",
       "    </tr>\n",
       "  </tbody>\n",
       "</table>\n",
       "</div>"
      ],
      "text/plain": [
       "            id  bathrooms  bedrooms  beds  bed_type  \\\n",
       "5731   6869868        3.0       2.0   3.0  Real Bed   \n",
       "1285   6275771        2.0       1.0   2.0  Real Bed   \n",
       "5723  13298618        3.0       3.0   5.0  Real Bed   \n",
       "\n",
       "                                              amenities  square_feet  \\\n",
       "5731  {TV,\"Cable TV\",Internet,\"Air Conditioning\",Kit...          NaN   \n",
       "1285  {TV,Internet,\"Wireless Internet\",\"Air Conditio...          NaN   \n",
       "5723  {TV,\"Wireless Internet\",\"Air Conditioning\",Kit...          NaN   \n",
       "\n",
       "      review_scores_accuracy  review_scores_cleanliness  \\\n",
       "5731                     NaN                        NaN   \n",
       "1285                    10.0                       10.0   \n",
       "5723                     NaN                        NaN   \n",
       "\n",
       "      review_scores_checkin  review_scores_communication  \\\n",
       "5731                    NaN                          NaN   \n",
       "1285                   10.0                         10.0   \n",
       "5723                    NaN                          NaN   \n",
       "\n",
       "      review_scores_location  review_scores_value  estimated_tot_income  \n",
       "5731                     NaN                  NaN          599062.50000  \n",
       "1285                    10.0                 10.0          351000.00000  \n",
       "5723                     NaN                  NaN          341978.04878  "
      ]
     },
     "execution_count": 21,
     "metadata": {},
     "output_type": "execute_result"
    }
   ],
   "source": [
    "merged[cols].sort_values(['estimated_tot_income'], ascending=False).head(3)"
   ]
  },
  {
   "cell_type": "code",
   "execution_count": 22,
   "metadata": {},
   "outputs": [
    {
     "data": {
      "text/plain": [
       "listing_id    355\n",
       "date          355\n",
       "available     355\n",
       "price           0\n",
       "dtype: int64"
      ]
     },
     "execution_count": 22,
     "metadata": {},
     "output_type": "execute_result"
    }
   ],
   "source": [
    "calendar.loc[(calendar.listing_id == 6869868) & (calendar.available!='t')].count()"
   ]
  },
  {
   "cell_type": "code",
   "execution_count": 23,
   "metadata": {},
   "outputs": [
    {
     "data": {
      "text/plain": [
       "array(['Cortez', 'Core-Columbia', 'Marina', 'Little Italy', 'Harborview',\n",
       "       nan, 'East Village', 'Park West', 'Gaslamp', 'Petco Park',\n",
       "       'Horton Plaza', 'Sherman Heights', 'Midway District', 'Midtown'], dtype=object)"
      ]
     },
     "execution_count": 23,
     "metadata": {},
     "output_type": "execute_result"
    }
   ],
   "source": [
    "#The neighborhoods in San Diego that AirBNB works with\n",
    "listings['neighbourhood'].unique()"
   ]
  },
  {
   "cell_type": "code",
   "execution_count": 24,
   "metadata": {},
   "outputs": [
    {
     "data": {
      "text/plain": [
       "array(['Amphitheater And Water Park', 'East Lake', 'Eastlake Trails',\n",
       "       'Eastlake Vistas', 'Estlake Greens', 'Lynwood Hills', 'Otay Ranch',\n",
       "       'Northwest', 'Yosemite Dr', 'Allied Gardens', 'Paseo Ranchoero',\n",
       "       'Rancho Del Rey', 'Rolling Hills Ranch', 'Alta Vista',\n",
       "       'Balboa Park', 'Southwest', 'Sunbow', 'Terra Nova',\n",
       "       'Thomy Locust Pl', 'Bario Logan', 'Bay Ho', 'Bay Park',\n",
       "       'Bay Terrace', 'Bird Land', 'Carmel Mountain', 'Carmel Valley',\n",
       "       'Chollas View', 'City Heights East', 'City Heights West',\n",
       "       'Clairemont Mesa', 'College Area', 'Columbia', 'Core',\n",
       "       'Cortez Hill', 'Darnall', 'Del Cerro', 'Marina', 'Del Mar Heights',\n",
       "       'East Village', 'Egger Highlands', 'El Cerritos', 'Memorial',\n",
       "       'Encanto', 'Gaslamp Quarter', 'Gateway', 'Grant Hill', 'Grantville',\n",
       "       'Horton Plaza', 'Jomacha-Lomita', 'Kearny Mesa', 'Kensington',\n",
       "       'Midtown', 'Moreno Mission', 'La Jolla', 'La Jolla Village',\n",
       "       'Lake Murray', 'Lincoln Park', 'Linda Vista', 'Little Italy',\n",
       "       'Loma Portal', 'Midtown District', 'Mira Mesa', 'Mission Bay',\n",
       "       'Mission Valley', 'Mount Hope', 'Mountain View', 'Nestor',\n",
       "       'Normal Heights', 'North City', 'North Clairemont', 'North Hills',\n",
       "       'Oak Park', 'Ocean Beach', 'Old Town', 'Pacific Beach', 'Palm City',\n",
       "       'Paradise Hills', 'Park West', 'Rancho Bernadino',\n",
       "       'Rancho Penasquitos', 'Rolando', 'Roseville', 'Sabre Springs',\n",
       "       'San Carlos', 'San Ysidro', 'Scripps Ranch', 'Serra Mesa',\n",
       "       'Sky Line', 'Sorrento Valley', 'South Park', 'Southcrest',\n",
       "       'Talmadge', 'Tierrasanta', 'Tijuana River Valley', 'Torrey Pines',\n",
       "       'University City', 'Valencia Park', 'Webster',\n",
       "       'West University Heights', 'Wooded Area'], dtype=object)"
      ]
     },
     "execution_count": 24,
     "metadata": {},
     "output_type": "execute_result"
    }
   ],
   "source": [
    "list_summ['neighbourhood'].unique()"
   ]
  },
  {
   "cell_type": "code",
   "execution_count": 25,
   "metadata": {
    "scrolled": true
   },
   "outputs": [
    {
     "name": "stdout",
     "output_type": "stream",
     "text": [
      "('La Jolla', 478.50506756756755)\n",
      "('Wooded Area', 454.56)\n",
      "('North City', 393.95999999999998)\n",
      "('Columbia', 311.3125)\n",
      "('Torrey Pines', 308.23076923076923)\n",
      "('Del Mar Heights', 300.77464788732397)\n",
      "('Mission Bay', 287.51837769328262)\n",
      "('Midtown District', 287.24489795918367)\n",
      "('Rancho Del Rey', 267.57142857142856)\n",
      "('Little Italy', 249.70526315789473)\n",
      "('Rancho Bernadino', 241.02500000000001)\n",
      "('San Ysidro', 240.83333333333334)\n",
      "('San Carlos', 238.20689655172413)\n",
      "('Horton Plaza', 235.0)\n",
      "('Gaslamp Quarter', 234.0)\n",
      "('Carmel Valley', 221.86567164179104)\n",
      "('Roseville', 221.31147540983608)\n",
      "('Ocean Beach', 210.64102564102564)\n",
      "('Cortez Hill', 208.89743589743588)\n",
      "('Core', 206.1081081081081)\n",
      "('Del Cerro', 198.72727272727272)\n",
      "('East Village', 198.34545454545454)\n",
      "('Rancho Penasquitos', 196.09090909090909)\n",
      "('Kensington', 194.09090909090909)\n",
      "('Old Town', 193.28099173553719)\n",
      "('Park West', 192.15686274509804)\n",
      "('Pacific Beach', 192.01536098310291)\n",
      "('Lynwood Hills', 188.0)\n",
      "('Midtown', 173.12025316455697)\n",
      "('Grant Hill', 171.56756756756758)\n",
      "('Marina', 169.94680851063831)\n",
      "('Bay Park', 169.07228915662651)\n",
      "('Allied Gardens', 165.875)\n",
      "('Rolling Hills Ranch', 163.66666666666666)\n",
      "('Sorrento Valley', 162.9047619047619)\n",
      "('Kearny Mesa', 162.8235294117647)\n",
      "('Talmadge', 161.76190476190476)\n",
      "('West University Heights', 155.8125)\n",
      "('Loma Portal', 154.48557692307693)\n",
      "('Linda Vista', 153.03125)\n",
      "('Lake Murray', 151.11111111111111)\n",
      "('Estlake Greens', 150.33333333333334)\n",
      "('Balboa Park', 149.03940886699507)\n",
      "('Mission Valley', 143.44444444444446)\n",
      "('Moreno Mission', 141.93650793650792)\n",
      "('La Jolla Village', 138.72727272727272)\n",
      "('Tierrasanta', 137.8235294117647)\n",
      "('Tijuana River Valley', 136.66666666666666)\n",
      "('Gateway', 136.375)\n",
      "('North Hills', 136.26249999999999)\n",
      "('Bario Logan', 135.0)\n",
      "('Scripps Ranch', 132.88888888888889)\n",
      "('Northwest', 132.58536585365854)\n",
      "('Southwest', 129.76923076923077)\n",
      "('Bay Ho', 129.23529411764707)\n",
      "('South Park', 129.02857142857144)\n",
      "('Serra Mesa', 125.85964912280701)\n",
      "('Bird Land', 124.46153846153847)\n",
      "('Carmel Mountain', 121.625)\n",
      "('Paseo Ranchoero', 121.5)\n",
      "('Eastlake Trails', 120.0)\n",
      "('Memorial', 116.5)\n",
      "('Rolando', 114.35294117647059)\n",
      "('Paradise Hills', 112.94117647058823)\n",
      "('Normal Heights', 112.47058823529412)\n",
      "('Otay Ranch', 111.0)\n",
      "('College Area', 110.09836065573771)\n",
      "('University City', 106.16666666666667)\n",
      "('Oak Park', 105.23076923076923)\n",
      "('East Lake', 104.5)\n",
      "('Sabre Springs', 103.66666666666667)\n",
      "('Darnall', 103.57142857142857)\n",
      "('City Heights West', 102.54237288135593)\n",
      "('Bay Terrace', 98.375)\n",
      "('Clairemont Mesa', 97.773195876288653)\n",
      "('Eastlake Vistas', 94.0)\n",
      "('Egger Highlands', 94.0)\n",
      "('Grantville', 92.333333333333329)\n",
      "('Sunbow', 86.5)\n",
      "('Webster', 85.666666666666671)\n",
      "('Encanto', 85.0)\n",
      "('Valencia Park', 85.0)\n",
      "('North Clairemont', 81.976744186046517)\n",
      "('Terra Nova', 80.0)\n",
      "('Mira Mesa', 79.059701492537314)\n",
      "('Mount Hope', 77.090909090909093)\n",
      "('Southcrest', 72.5)\n",
      "('Mountain View', 72.111111111111114)\n",
      "('City Heights East', 65.642857142857139)\n",
      "('Sky Line', 65.25)\n",
      "('Thomy Locust Pl', 65.0)\n",
      "('El Cerritos', 62.875)\n",
      "('Palm City', 60.399999999999999)\n",
      "('Alta Vista', 60.0)\n",
      "('Yosemite Dr', 59.0)\n",
      "('Chollas View', 57.333333333333336)\n",
      "('Amphitheater And Water Park', 49.0)\n",
      "('Nestor', 46.25)\n",
      "('Jomacha-Lomita', 44.5)\n",
      "('Lincoln Park', 40.0)\n"
     ]
    }
   ],
   "source": [
    "L = []\n",
    "for w in list_summ['neighbourhood'].unique():\n",
    "    L.append((w, list_summ[list_summ['neighbourhood'] == w]['price'].mean()))\n",
    "    \n",
    "L = sorted(L, key = lambda x: x[1], reverse = True)\n",
    "\n",
    "for w in L:\n",
    "    print w"
   ]
  },
  {
   "cell_type": "code",
   "execution_count": 26,
   "metadata": {
    "scrolled": true
   },
   "outputs": [
    {
     "data": {
      "text/plain": [
       "226    {TV,\"Cable TV\",Internet,\"Wireless Internet\",\"A...\n",
       "781    {TV,\"Cable TV\",Internet,\"Wireless Internet\",\"A...\n",
       "783    {\"Air Conditioning\",\"Family/Kid Friendly\",Wash...\n",
       "784    {TV,\"Cable TV\",Internet,\"Wireless Internet\",\"A...\n",
       "Name: amenities, dtype: object"
      ]
     },
     "execution_count": 26,
     "metadata": {},
     "output_type": "execute_result"
    }
   ],
   "source": [
    "listings['amenities'].head(4)"
   ]
  },
  {
   "cell_type": "code",
   "execution_count": 27,
   "metadata": {},
   "outputs": [
    {
     "data": {
      "text/plain": [
       "Index([u'id', u'name', u'host_id', u'host_name', u'neighbourhood_group',\n",
       "       u'neighbourhood', u'latitude', u'longitude', u'room_type', u'price',\n",
       "       u'minimum_nights', u'number_of_reviews', u'last_review',\n",
       "       u'reviews_per_month', u'calculated_host_listings_count',\n",
       "       u'availability_365'],\n",
       "      dtype='object')"
      ]
     },
     "execution_count": 27,
     "metadata": {},
     "output_type": "execute_result"
    }
   ],
   "source": [
    "list_summ.columns"
   ]
  },
  {
   "cell_type": "code",
   "execution_count": 28,
   "metadata": {},
   "outputs": [
    {
     "data": {
      "text/plain": [
       "array([ nan])"
      ]
     },
     "execution_count": 28,
     "metadata": {},
     "output_type": "execute_result"
    }
   ],
   "source": [
    "listings['has_availability'].unique()"
   ]
  },
  {
   "cell_type": "code",
   "execution_count": 29,
   "metadata": {
    "scrolled": true
   },
   "outputs": [
    {
     "data": {
      "text/plain": [
       "226    0\n",
       "781    0\n",
       "783    0\n",
       "Name: availability_30, dtype: int64"
      ]
     },
     "execution_count": 29,
     "metadata": {},
     "output_type": "execute_result"
    }
   ],
   "source": [
    "listings['availability_30'].head(3)"
   ]
  },
  {
   "cell_type": "code",
   "execution_count": 30,
   "metadata": {
    "scrolled": true
   },
   "outputs": [
    {
     "data": {
      "text/plain": [
       "[0,\n",
       " 1,\n",
       " 2,\n",
       " 3,\n",
       " 4,\n",
       " 5,\n",
       " 6,\n",
       " 7,\n",
       " 8,\n",
       " 9,\n",
       " 10,\n",
       " 11,\n",
       " 12,\n",
       " 13,\n",
       " 14,\n",
       " 15,\n",
       " 16,\n",
       " 17,\n",
       " 18,\n",
       " 19,\n",
       " 20,\n",
       " 21,\n",
       " 22,\n",
       " 23,\n",
       " 24,\n",
       " 25,\n",
       " 26,\n",
       " 27,\n",
       " 28,\n",
       " 29,\n",
       " 30]"
      ]
     },
     "execution_count": 30,
     "metadata": {},
     "output_type": "execute_result"
    }
   ],
   "source": [
    "sorted(listings['availability_30'].unique())"
   ]
  },
  {
   "cell_type": "code",
   "execution_count": 31,
   "metadata": {
    "scrolled": true
   },
   "outputs": [
    {
     "data": {
      "text/plain": [
       "[0,\n",
       " 1,\n",
       " 2,\n",
       " 3,\n",
       " 4,\n",
       " 5,\n",
       " 6,\n",
       " 7,\n",
       " 8,\n",
       " 9,\n",
       " 10,\n",
       " 11,\n",
       " 12,\n",
       " 13,\n",
       " 14,\n",
       " 15,\n",
       " 16,\n",
       " 17,\n",
       " 18,\n",
       " 19,\n",
       " 20,\n",
       " 21,\n",
       " 22,\n",
       " 23,\n",
       " 24,\n",
       " 25,\n",
       " 26,\n",
       " 27,\n",
       " 28,\n",
       " 29,\n",
       " 30,\n",
       " 31,\n",
       " 32,\n",
       " 33,\n",
       " 34,\n",
       " 35,\n",
       " 36,\n",
       " 37,\n",
       " 38,\n",
       " 40,\n",
       " 41,\n",
       " 42,\n",
       " 43,\n",
       " 44,\n",
       " 45,\n",
       " 46,\n",
       " 47,\n",
       " 48,\n",
       " 49,\n",
       " 50,\n",
       " 51,\n",
       " 52,\n",
       " 53,\n",
       " 54,\n",
       " 55,\n",
       " 56,\n",
       " 57,\n",
       " 58,\n",
       " 59,\n",
       " 60]"
      ]
     },
     "execution_count": 31,
     "metadata": {},
     "output_type": "execute_result"
    }
   ],
   "source": [
    "sorted(listings['availability_60'].unique())"
   ]
  },
  {
   "cell_type": "code",
   "execution_count": 32,
   "metadata": {
    "scrolled": true
   },
   "outputs": [
    {
     "data": {
      "text/plain": [
       "[0,\n",
       " 1,\n",
       " 2,\n",
       " 3,\n",
       " 4,\n",
       " 5,\n",
       " 6,\n",
       " 7,\n",
       " 8,\n",
       " 9,\n",
       " 10,\n",
       " 11,\n",
       " 12,\n",
       " 13,\n",
       " 14,\n",
       " 15,\n",
       " 16,\n",
       " 17,\n",
       " 18,\n",
       " 19,\n",
       " 20,\n",
       " 21,\n",
       " 22,\n",
       " 23,\n",
       " 24,\n",
       " 25,\n",
       " 26,\n",
       " 27,\n",
       " 28,\n",
       " 29,\n",
       " 30,\n",
       " 31,\n",
       " 32,\n",
       " 33,\n",
       " 34,\n",
       " 35,\n",
       " 36,\n",
       " 37,\n",
       " 38,\n",
       " 39,\n",
       " 40,\n",
       " 41,\n",
       " 42,\n",
       " 43,\n",
       " 44,\n",
       " 45,\n",
       " 46,\n",
       " 47,\n",
       " 48,\n",
       " 49,\n",
       " 50,\n",
       " 51,\n",
       " 52,\n",
       " 53,\n",
       " 54,\n",
       " 55,\n",
       " 56,\n",
       " 57,\n",
       " 58,\n",
       " 59,\n",
       " 60,\n",
       " 61,\n",
       " 62,\n",
       " 63,\n",
       " 64,\n",
       " 65,\n",
       " 66,\n",
       " 67,\n",
       " 68,\n",
       " 69,\n",
       " 70,\n",
       " 71,\n",
       " 72,\n",
       " 73,\n",
       " 74,\n",
       " 75,\n",
       " 76,\n",
       " 77,\n",
       " 78,\n",
       " 79,\n",
       " 80,\n",
       " 81,\n",
       " 82,\n",
       " 83,\n",
       " 84,\n",
       " 85,\n",
       " 86,\n",
       " 87,\n",
       " 88,\n",
       " 89,\n",
       " 90]"
      ]
     },
     "execution_count": 32,
     "metadata": {},
     "output_type": "execute_result"
    }
   ],
   "source": [
    "sorted(listings['availability_90'].unique())"
   ]
  },
  {
   "cell_type": "code",
   "execution_count": 33,
   "metadata": {
    "scrolled": true
   },
   "outputs": [
    {
     "data": {
      "text/plain": [
       "[0,\n",
       " 1,\n",
       " 2,\n",
       " 3,\n",
       " 4,\n",
       " 5,\n",
       " 6,\n",
       " 7,\n",
       " 8,\n",
       " 9,\n",
       " 10,\n",
       " 11,\n",
       " 12,\n",
       " 13,\n",
       " 14,\n",
       " 15,\n",
       " 16,\n",
       " 17,\n",
       " 18,\n",
       " 19,\n",
       " 20,\n",
       " 21,\n",
       " 22,\n",
       " 25,\n",
       " 27,\n",
       " 29,\n",
       " 30,\n",
       " 31,\n",
       " 32,\n",
       " 33,\n",
       " 34,\n",
       " 35,\n",
       " 36,\n",
       " 37,\n",
       " 38,\n",
       " 39,\n",
       " 40,\n",
       " 41,\n",
       " 42,\n",
       " 43,\n",
       " 44,\n",
       " 45,\n",
       " 46,\n",
       " 48,\n",
       " 49,\n",
       " 50,\n",
       " 51,\n",
       " 52,\n",
       " 53,\n",
       " 55,\n",
       " 56,\n",
       " 57,\n",
       " 58,\n",
       " 63,\n",
       " 66,\n",
       " 67,\n",
       " 68,\n",
       " 69,\n",
       " 71,\n",
       " 72,\n",
       " 73,\n",
       " 74,\n",
       " 76,\n",
       " 77,\n",
       " 78,\n",
       " 79,\n",
       " 80,\n",
       " 81,\n",
       " 82,\n",
       " 83,\n",
       " 84,\n",
       " 85,\n",
       " 86,\n",
       " 87,\n",
       " 88,\n",
       " 96,\n",
       " 99,\n",
       " 101,\n",
       " 103,\n",
       " 105,\n",
       " 106,\n",
       " 112,\n",
       " 116,\n",
       " 117,\n",
       " 120,\n",
       " 122,\n",
       " 123,\n",
       " 128,\n",
       " 131,\n",
       " 133,\n",
       " 135,\n",
       " 137,\n",
       " 138,\n",
       " 140,\n",
       " 141,\n",
       " 144,\n",
       " 145,\n",
       " 148,\n",
       " 149,\n",
       " 150,\n",
       " 151,\n",
       " 152,\n",
       " 153,\n",
       " 154,\n",
       " 156,\n",
       " 157,\n",
       " 159,\n",
       " 160,\n",
       " 161,\n",
       " 162,\n",
       " 163,\n",
       " 164,\n",
       " 165,\n",
       " 167,\n",
       " 173,\n",
       " 178,\n",
       " 179,\n",
       " 186,\n",
       " 190,\n",
       " 191,\n",
       " 192,\n",
       " 199,\n",
       " 200,\n",
       " 204,\n",
       " 206,\n",
       " 208,\n",
       " 211,\n",
       " 212,\n",
       " 215,\n",
       " 219,\n",
       " 220,\n",
       " 221,\n",
       " 224,\n",
       " 225,\n",
       " 226,\n",
       " 227,\n",
       " 228,\n",
       " 229,\n",
       " 232,\n",
       " 233,\n",
       " 234,\n",
       " 236,\n",
       " 237,\n",
       " 250,\n",
       " 251,\n",
       " 253,\n",
       " 259,\n",
       " 260,\n",
       " 263,\n",
       " 264,\n",
       " 265,\n",
       " 266,\n",
       " 268,\n",
       " 270,\n",
       " 271,\n",
       " 274,\n",
       " 275,\n",
       " 276,\n",
       " 277,\n",
       " 279,\n",
       " 280,\n",
       " 281,\n",
       " 284,\n",
       " 285,\n",
       " 288,\n",
       " 290,\n",
       " 292,\n",
       " 293,\n",
       " 294,\n",
       " 296,\n",
       " 299,\n",
       " 300,\n",
       " 301,\n",
       " 302,\n",
       " 303,\n",
       " 304,\n",
       " 305,\n",
       " 306,\n",
       " 307,\n",
       " 308,\n",
       " 309,\n",
       " 310,\n",
       " 311,\n",
       " 312,\n",
       " 313,\n",
       " 314,\n",
       " 315,\n",
       " 316,\n",
       " 317,\n",
       " 318,\n",
       " 319,\n",
       " 320,\n",
       " 321,\n",
       " 322,\n",
       " 323,\n",
       " 324,\n",
       " 326,\n",
       " 327,\n",
       " 328,\n",
       " 329,\n",
       " 330,\n",
       " 331,\n",
       " 332,\n",
       " 333,\n",
       " 334,\n",
       " 336,\n",
       " 337,\n",
       " 338,\n",
       " 339,\n",
       " 340,\n",
       " 341,\n",
       " 342,\n",
       " 343,\n",
       " 344,\n",
       " 345,\n",
       " 346,\n",
       " 347,\n",
       " 348,\n",
       " 349,\n",
       " 350,\n",
       " 351,\n",
       " 352,\n",
       " 353,\n",
       " 354,\n",
       " 355,\n",
       " 356,\n",
       " 357,\n",
       " 358,\n",
       " 359,\n",
       " 360,\n",
       " 361,\n",
       " 362,\n",
       " 363,\n",
       " 364,\n",
       " 365]"
      ]
     },
     "execution_count": 33,
     "metadata": {},
     "output_type": "execute_result"
    }
   ],
   "source": [
    "sorted(listings['availability_365'].unique())"
   ]
  },
  {
   "cell_type": "code",
   "execution_count": 34,
   "metadata": {
    "scrolled": true
   },
   "outputs": [
    {
     "data": {
      "text/html": [
       "<div>\n",
       "<style scoped>\n",
       "    .dataframe tbody tr th:only-of-type {\n",
       "        vertical-align: middle;\n",
       "    }\n",
       "\n",
       "    .dataframe tbody tr th {\n",
       "        vertical-align: top;\n",
       "    }\n",
       "\n",
       "    .dataframe thead th {\n",
       "        text-align: right;\n",
       "    }\n",
       "</style>\n",
       "<table border=\"1\" class=\"dataframe\">\n",
       "  <thead>\n",
       "    <tr style=\"text-align: right;\">\n",
       "      <th></th>\n",
       "      <th>listing_id</th>\n",
       "      <th>date</th>\n",
       "      <th>available</th>\n",
       "      <th>price</th>\n",
       "    </tr>\n",
       "  </thead>\n",
       "  <tbody>\n",
       "    <tr>\n",
       "      <th>0</th>\n",
       "      <td>11204286</td>\n",
       "      <td>2017-07-05</td>\n",
       "      <td>t</td>\n",
       "      <td>49.0</td>\n",
       "    </tr>\n",
       "    <tr>\n",
       "      <th>1</th>\n",
       "      <td>11204286</td>\n",
       "      <td>2017-07-04</td>\n",
       "      <td>t</td>\n",
       "      <td>49.0</td>\n",
       "    </tr>\n",
       "    <tr>\n",
       "      <th>2</th>\n",
       "      <td>11204286</td>\n",
       "      <td>2017-07-03</td>\n",
       "      <td>t</td>\n",
       "      <td>49.0</td>\n",
       "    </tr>\n",
       "  </tbody>\n",
       "</table>\n",
       "</div>"
      ],
      "text/plain": [
       "   listing_id        date available  price\n",
       "0    11204286  2017-07-05         t   49.0\n",
       "1    11204286  2017-07-04         t   49.0\n",
       "2    11204286  2017-07-03         t   49.0"
      ]
     },
     "execution_count": 34,
     "metadata": {},
     "output_type": "execute_result"
    }
   ],
   "source": [
    "calendar.head(3)"
   ]
  },
  {
   "cell_type": "code",
   "execution_count": 35,
   "metadata": {},
   "outputs": [
    {
     "data": {
      "text/plain": [
       "array(['t', 'f'], dtype=object)"
      ]
     },
     "execution_count": 35,
     "metadata": {},
     "output_type": "execute_result"
    }
   ],
   "source": [
    "calendar['available'].unique()"
   ]
  },
  {
   "cell_type": "code",
   "execution_count": 36,
   "metadata": {
    "scrolled": true
   },
   "outputs": [
    {
     "data": {
      "text/html": [
       "<div>\n",
       "<style scoped>\n",
       "    .dataframe tbody tr th:only-of-type {\n",
       "        vertical-align: middle;\n",
       "    }\n",
       "\n",
       "    .dataframe tbody tr th {\n",
       "        vertical-align: top;\n",
       "    }\n",
       "\n",
       "    .dataframe thead th {\n",
       "        text-align: right;\n",
       "    }\n",
       "</style>\n",
       "<table border=\"1\" class=\"dataframe\">\n",
       "  <thead>\n",
       "    <tr style=\"text-align: right;\">\n",
       "      <th></th>\n",
       "      <th>listing_id</th>\n",
       "      <th>id</th>\n",
       "      <th>date</th>\n",
       "      <th>reviewer_id</th>\n",
       "      <th>reviewer_name</th>\n",
       "      <th>comments</th>\n",
       "    </tr>\n",
       "  </thead>\n",
       "  <tbody>\n",
       "    <tr>\n",
       "      <th>0</th>\n",
       "      <td>4796400</td>\n",
       "      <td>32687022</td>\n",
       "      <td>2015-05-20</td>\n",
       "      <td>29916246</td>\n",
       "      <td>Bill</td>\n",
       "      <td>Jeff, we cannot thank you enough for your hosp...</td>\n",
       "    </tr>\n",
       "    <tr>\n",
       "      <th>1</th>\n",
       "      <td>4796400</td>\n",
       "      <td>33062004</td>\n",
       "      <td>2015-05-25</td>\n",
       "      <td>3547281</td>\n",
       "      <td>Christina</td>\n",
       "      <td>The location was amazing, we were able to chea...</td>\n",
       "    </tr>\n",
       "    <tr>\n",
       "      <th>2</th>\n",
       "      <td>4796400</td>\n",
       "      <td>41311067</td>\n",
       "      <td>2015-08-07</td>\n",
       "      <td>16458913</td>\n",
       "      <td>Naif</td>\n",
       "      <td>I would like to thank Jeff for his great hospi...</td>\n",
       "    </tr>\n",
       "  </tbody>\n",
       "</table>\n",
       "</div>"
      ],
      "text/plain": [
       "   listing_id        id        date  reviewer_id reviewer_name  \\\n",
       "0     4796400  32687022  2015-05-20     29916246          Bill   \n",
       "1     4796400  33062004  2015-05-25      3547281     Christina   \n",
       "2     4796400  41311067  2015-08-07     16458913          Naif   \n",
       "\n",
       "                                            comments  \n",
       "0  Jeff, we cannot thank you enough for your hosp...  \n",
       "1  The location was amazing, we were able to chea...  \n",
       "2  I would like to thank Jeff for his great hospi...  "
      ]
     },
     "execution_count": 36,
     "metadata": {},
     "output_type": "execute_result"
    }
   ],
   "source": [
    "reviews.head(3)"
   ]
  },
  {
   "cell_type": "code",
   "execution_count": 37,
   "metadata": {
    "scrolled": true
   },
   "outputs": [
    {
     "data": {
      "text/html": [
       "<div>\n",
       "<style scoped>\n",
       "    .dataframe tbody tr th:only-of-type {\n",
       "        vertical-align: middle;\n",
       "    }\n",
       "\n",
       "    .dataframe tbody tr th {\n",
       "        vertical-align: top;\n",
       "    }\n",
       "\n",
       "    .dataframe thead th {\n",
       "        text-align: right;\n",
       "    }\n",
       "</style>\n",
       "<table border=\"1\" class=\"dataframe\">\n",
       "  <thead>\n",
       "    <tr style=\"text-align: right;\">\n",
       "      <th></th>\n",
       "      <th>listing_id</th>\n",
       "      <th>date</th>\n",
       "    </tr>\n",
       "  </thead>\n",
       "  <tbody>\n",
       "    <tr>\n",
       "      <th>0</th>\n",
       "      <td>4796400</td>\n",
       "      <td>2015-05-20</td>\n",
       "    </tr>\n",
       "    <tr>\n",
       "      <th>1</th>\n",
       "      <td>4796400</td>\n",
       "      <td>2015-05-25</td>\n",
       "    </tr>\n",
       "    <tr>\n",
       "      <th>2</th>\n",
       "      <td>4796400</td>\n",
       "      <td>2015-08-07</td>\n",
       "    </tr>\n",
       "  </tbody>\n",
       "</table>\n",
       "</div>"
      ],
      "text/plain": [
       "   listing_id        date\n",
       "0     4796400  2015-05-20\n",
       "1     4796400  2015-05-25\n",
       "2     4796400  2015-08-07"
      ]
     },
     "execution_count": 37,
     "metadata": {},
     "output_type": "execute_result"
    }
   ],
   "source": [
    "reviews_summ.head(3)"
   ]
  },
  {
   "cell_type": "code",
   "execution_count": 38,
   "metadata": {
    "scrolled": true
   },
   "outputs": [
    {
     "data": {
      "text/html": [
       "<div>\n",
       "<style scoped>\n",
       "    .dataframe tbody tr th:only-of-type {\n",
       "        vertical-align: middle;\n",
       "    }\n",
       "\n",
       "    .dataframe tbody tr th {\n",
       "        vertical-align: top;\n",
       "    }\n",
       "\n",
       "    .dataframe thead th {\n",
       "        text-align: right;\n",
       "    }\n",
       "</style>\n",
       "<table border=\"1\" class=\"dataframe\">\n",
       "  <thead>\n",
       "    <tr style=\"text-align: right;\">\n",
       "      <th></th>\n",
       "      <th>neighbourhood_group</th>\n",
       "      <th>neighbourhood</th>\n",
       "    </tr>\n",
       "  </thead>\n",
       "  <tbody>\n",
       "    <tr>\n",
       "      <th>0</th>\n",
       "      <td>NaN</td>\n",
       "      <td>Allied Gardens</td>\n",
       "    </tr>\n",
       "    <tr>\n",
       "      <th>1</th>\n",
       "      <td>NaN</td>\n",
       "      <td>Alta Vista</td>\n",
       "    </tr>\n",
       "    <tr>\n",
       "      <th>2</th>\n",
       "      <td>NaN</td>\n",
       "      <td>Amphitheater And Water Park</td>\n",
       "    </tr>\n",
       "  </tbody>\n",
       "</table>\n",
       "</div>"
      ],
      "text/plain": [
       "   neighbourhood_group                neighbourhood\n",
       "0                  NaN               Allied Gardens\n",
       "1                  NaN                   Alta Vista\n",
       "2                  NaN  Amphitheater And Water Park"
      ]
     },
     "execution_count": 38,
     "metadata": {},
     "output_type": "execute_result"
    }
   ],
   "source": [
    "neighborhoods.head(3)"
   ]
  },
  {
   "cell_type": "code",
   "execution_count": 39,
   "metadata": {},
   "outputs": [
    {
     "data": {
      "text/plain": [
       "array([   49.,    nan,    59., ...,   991.,  2240.,  1854.])"
      ]
     },
     "execution_count": 39,
     "metadata": {},
     "output_type": "execute_result"
    }
   ],
   "source": [
    "calendar['price'].unique()"
   ]
  },
  {
   "cell_type": "code",
   "execution_count": 40,
   "metadata": {},
   "outputs": [
    {
     "data": {
      "text/html": [
       "<div>\n",
       "<style scoped>\n",
       "    .dataframe tbody tr th:only-of-type {\n",
       "        vertical-align: middle;\n",
       "    }\n",
       "\n",
       "    .dataframe tbody tr th {\n",
       "        vertical-align: top;\n",
       "    }\n",
       "\n",
       "    .dataframe thead th {\n",
       "        text-align: right;\n",
       "    }\n",
       "</style>\n",
       "<table border=\"1\" class=\"dataframe\">\n",
       "  <thead>\n",
       "    <tr style=\"text-align: right;\">\n",
       "      <th></th>\n",
       "      <th>id</th>\n",
       "      <th>listing_url</th>\n",
       "      <th>scrape_id</th>\n",
       "      <th>last_scraped</th>\n",
       "      <th>name</th>\n",
       "      <th>summary</th>\n",
       "      <th>space</th>\n",
       "      <th>description</th>\n",
       "      <th>experiences_offered</th>\n",
       "      <th>neighborhood_overview</th>\n",
       "      <th>...</th>\n",
       "      <th>requires_license</th>\n",
       "      <th>license</th>\n",
       "      <th>jurisdiction_names</th>\n",
       "      <th>instant_bookable</th>\n",
       "      <th>cancellation_policy</th>\n",
       "      <th>require_guest_profile_picture</th>\n",
       "      <th>require_guest_phone_verification</th>\n",
       "      <th>calculated_host_listings_count</th>\n",
       "      <th>reviews_per_month</th>\n",
       "      <th>estimated_tot_income</th>\n",
       "    </tr>\n",
       "  </thead>\n",
       "  <tbody>\n",
       "    <tr>\n",
       "      <th>226</th>\n",
       "      <td>6902290</td>\n",
       "      <td>https://www.airbnb.com/rooms/6902290</td>\n",
       "      <td>20160706203047</td>\n",
       "      <td>2016-07-07</td>\n",
       "      <td>Comic Con! Two Bedroom Condo</td>\n",
       "      <td>2-Bedroom Condo in Cortez Hill, downtown San D...</td>\n",
       "      <td>NaN</td>\n",
       "      <td>2-Bedroom Condo in Cortez Hill, downtown San D...</td>\n",
       "      <td>none</td>\n",
       "      <td>NaN</td>\n",
       "      <td>...</td>\n",
       "      <td>f</td>\n",
       "      <td>NaN</td>\n",
       "      <td>SAN DIEGO, SAN DIEGO TOURISM MARKETING DISTRIC...</td>\n",
       "      <td>f</td>\n",
       "      <td>strict</td>\n",
       "      <td>f</td>\n",
       "      <td>f</td>\n",
       "      <td>2</td>\n",
       "      <td>0.08</td>\n",
       "      <td>NaN</td>\n",
       "    </tr>\n",
       "    <tr>\n",
       "      <th>781</th>\n",
       "      <td>6899514</td>\n",
       "      <td>https://www.airbnb.com/rooms/6899514</td>\n",
       "      <td>20160706203047</td>\n",
       "      <td>2016-07-07</td>\n",
       "      <td>Spectacular Views Little Italy</td>\n",
       "      <td>Walk to the San Diego night life. Awesome rest...</td>\n",
       "      <td>Decorated with high end furniture; spectacular...</td>\n",
       "      <td>Walk to the San Diego night life. Awesome rest...</td>\n",
       "      <td>none</td>\n",
       "      <td>Awesome restaurants; spectacular views; alive ...</td>\n",
       "      <td>...</td>\n",
       "      <td>f</td>\n",
       "      <td>NaN</td>\n",
       "      <td>SAN DIEGO, SAN DIEGO TOURISM MARKETING DISTRIC...</td>\n",
       "      <td>t</td>\n",
       "      <td>strict</td>\n",
       "      <td>f</td>\n",
       "      <td>f</td>\n",
       "      <td>1</td>\n",
       "      <td>0.09</td>\n",
       "      <td>NaN</td>\n",
       "    </tr>\n",
       "    <tr>\n",
       "      <th>783</th>\n",
       "      <td>8407570</td>\n",
       "      <td>https://www.airbnb.com/rooms/8407570</td>\n",
       "      <td>20160706203047</td>\n",
       "      <td>2016-07-07</td>\n",
       "      <td>clean and neat</td>\n",
       "      <td>great!</td>\n",
       "      <td>NaN</td>\n",
       "      <td>great!</td>\n",
       "      <td>none</td>\n",
       "      <td>NaN</td>\n",
       "      <td>...</td>\n",
       "      <td>f</td>\n",
       "      <td>NaN</td>\n",
       "      <td>SAN DIEGO, SAN DIEGO TOURISM MARKETING DISTRIC...</td>\n",
       "      <td>f</td>\n",
       "      <td>flexible</td>\n",
       "      <td>f</td>\n",
       "      <td>f</td>\n",
       "      <td>1</td>\n",
       "      <td>NaN</td>\n",
       "      <td>NaN</td>\n",
       "    </tr>\n",
       "  </tbody>\n",
       "</table>\n",
       "<p>3 rows × 96 columns</p>\n",
       "</div>"
      ],
      "text/plain": [
       "          id                           listing_url       scrape_id  \\\n",
       "226  6902290  https://www.airbnb.com/rooms/6902290  20160706203047   \n",
       "781  6899514  https://www.airbnb.com/rooms/6899514  20160706203047   \n",
       "783  8407570  https://www.airbnb.com/rooms/8407570  20160706203047   \n",
       "\n",
       "    last_scraped                            name  \\\n",
       "226   2016-07-07    Comic Con! Two Bedroom Condo   \n",
       "781   2016-07-07  Spectacular Views Little Italy   \n",
       "783   2016-07-07                  clean and neat   \n",
       "\n",
       "                                               summary  \\\n",
       "226  2-Bedroom Condo in Cortez Hill, downtown San D...   \n",
       "781  Walk to the San Diego night life. Awesome rest...   \n",
       "783                                             great!   \n",
       "\n",
       "                                                 space  \\\n",
       "226                                                NaN   \n",
       "781  Decorated with high end furniture; spectacular...   \n",
       "783                                                NaN   \n",
       "\n",
       "                                           description experiences_offered  \\\n",
       "226  2-Bedroom Condo in Cortez Hill, downtown San D...                none   \n",
       "781  Walk to the San Diego night life. Awesome rest...                none   \n",
       "783                                             great!                none   \n",
       "\n",
       "                                 neighborhood_overview          ...           \\\n",
       "226                                                NaN          ...            \n",
       "781  Awesome restaurants; spectacular views; alive ...          ...            \n",
       "783                                                NaN          ...            \n",
       "\n",
       "    requires_license license  \\\n",
       "226                f     NaN   \n",
       "781                f     NaN   \n",
       "783                f     NaN   \n",
       "\n",
       "                                    jurisdiction_names instant_bookable  \\\n",
       "226  SAN DIEGO, SAN DIEGO TOURISM MARKETING DISTRIC...                f   \n",
       "781  SAN DIEGO, SAN DIEGO TOURISM MARKETING DISTRIC...                t   \n",
       "783  SAN DIEGO, SAN DIEGO TOURISM MARKETING DISTRIC...                f   \n",
       "\n",
       "    cancellation_policy require_guest_profile_picture  \\\n",
       "226              strict                             f   \n",
       "781              strict                             f   \n",
       "783            flexible                             f   \n",
       "\n",
       "    require_guest_phone_verification calculated_host_listings_count  \\\n",
       "226                                f                              2   \n",
       "781                                f                              1   \n",
       "783                                f                              1   \n",
       "\n",
       "    reviews_per_month  estimated_tot_income  \n",
       "226              0.08                   NaN  \n",
       "781              0.09                   NaN  \n",
       "783               NaN                   NaN  \n",
       "\n",
       "[3 rows x 96 columns]"
      ]
     },
     "execution_count": 40,
     "metadata": {},
     "output_type": "execute_result"
    }
   ],
   "source": [
    "merged.head(3)"
   ]
  },
  {
   "cell_type": "code",
   "execution_count": 41,
   "metadata": {
    "scrolled": true
   },
   "outputs": [
    {
     "data": {
      "text/plain": [
       "226    $600.00\n",
       "781    $350.00\n",
       "783    $999.00\n",
       "Name: price, dtype: object"
      ]
     },
     "execution_count": 41,
     "metadata": {},
     "output_type": "execute_result"
    }
   ],
   "source": [
    "merged['price'].head(3)"
   ]
  },
  {
   "cell_type": "code",
   "execution_count": 42,
   "metadata": {
    "scrolled": true
   },
   "outputs": [
    {
     "data": {
      "text/plain": [
       "0    49.0\n",
       "1    49.0\n",
       "2    49.0\n",
       "Name: price, dtype: float64"
      ]
     },
     "execution_count": 42,
     "metadata": {},
     "output_type": "execute_result"
    }
   ],
   "source": [
    "calendar['price'].head(3)"
   ]
  },
  {
   "cell_type": "code",
   "execution_count": 43,
   "metadata": {
    "collapsed": true
   },
   "outputs": [],
   "source": [
    "L = []\n",
    "\n",
    "for w in merged.index:\n",
    "    a = 0\n",
    "    b = merged['price'][w][1:].split(',')\n",
    "    c = ''\n",
    "    \n",
    "    for k in b:\n",
    "        c = c + k\n",
    "    \n",
    "    L.append(int(float(c)))"
   ]
  },
  {
   "cell_type": "code",
   "execution_count": 44,
   "metadata": {
    "collapsed": true
   },
   "outputs": [],
   "source": [
    "merged['numerical price'] = L"
   ]
  },
  {
   "cell_type": "code",
   "execution_count": 45,
   "metadata": {
    "scrolled": true
   },
   "outputs": [
    {
     "data": {
      "text/plain": [
       "226    600\n",
       "781    350\n",
       "783    999\n",
       "Name: numerical price, dtype: int64"
      ]
     },
     "execution_count": 45,
     "metadata": {},
     "output_type": "execute_result"
    }
   ],
   "source": [
    "merged['numerical price'].head(3)"
   ]
  },
  {
   "cell_type": "code",
   "execution_count": 46,
   "metadata": {
    "scrolled": true
   },
   "outputs": [
    {
     "data": {
      "text/plain": [
       "Index([u'id', u'listing_url', u'scrape_id', u'last_scraped', u'name',\n",
       "       u'summary', u'space', u'description', u'experiences_offered',\n",
       "       u'neighborhood_overview', u'notes', u'transit', u'access',\n",
       "       u'interaction', u'house_rules', u'thumbnail_url', u'medium_url',\n",
       "       u'picture_url', u'xl_picture_url', u'host_id', u'host_url',\n",
       "       u'host_name', u'host_since', u'host_location', u'host_about',\n",
       "       u'host_response_time', u'host_response_rate', u'host_acceptance_rate',\n",
       "       u'host_is_superhost', u'host_thumbnail_url', u'host_picture_url',\n",
       "       u'host_neighbourhood', u'host_listings_count',\n",
       "       u'host_total_listings_count', u'host_verifications',\n",
       "       u'host_has_profile_pic', u'host_identity_verified', u'street',\n",
       "       u'neighbourhood', u'neighbourhood_cleansed',\n",
       "       u'neighbourhood_group_cleansed', u'city', u'state', u'zipcode',\n",
       "       u'market', u'smart_location', u'country_code', u'country', u'latitude',\n",
       "       u'longitude', u'is_location_exact', u'property_type', u'room_type',\n",
       "       u'accommodates', u'bathrooms', u'bedrooms', u'beds', u'bed_type',\n",
       "       u'amenities', u'square_feet', u'price', u'weekly_price',\n",
       "       u'monthly_price', u'security_deposit', u'cleaning_fee',\n",
       "       u'guests_included', u'extra_people', u'minimum_nights',\n",
       "       u'maximum_nights', u'calendar_updated', u'has_availability',\n",
       "       u'availability_30', u'availability_60', u'availability_90',\n",
       "       u'availability_365', u'calendar_last_scraped', u'number_of_reviews',\n",
       "       u'first_review', u'last_review', u'review_scores_rating',\n",
       "       u'review_scores_accuracy', u'review_scores_cleanliness',\n",
       "       u'review_scores_checkin', u'review_scores_communication',\n",
       "       u'review_scores_location', u'review_scores_value', u'requires_license',\n",
       "       u'license', u'jurisdiction_names', u'instant_bookable',\n",
       "       u'cancellation_policy', u'require_guest_profile_picture',\n",
       "       u'require_guest_phone_verification', u'calculated_host_listings_count',\n",
       "       u'reviews_per_month', u'estimated_tot_income', u'numerical price'],\n",
       "      dtype='object')"
      ]
     },
     "execution_count": 46,
     "metadata": {},
     "output_type": "execute_result"
    }
   ],
   "source": [
    "merged.columns"
   ]
  },
  {
   "cell_type": "code",
   "execution_count": 47,
   "metadata": {
    "scrolled": true
   },
   "outputs": [
    {
     "data": {
      "text/plain": [
       "226    2.0\n",
       "781    2.0\n",
       "783    1.0\n",
       "Name: bathrooms, dtype: float64"
      ]
     },
     "execution_count": 47,
     "metadata": {},
     "output_type": "execute_result"
    }
   ],
   "source": [
    "merged['bathrooms'].head(3)"
   ]
  },
  {
   "cell_type": "code",
   "execution_count": 48,
   "metadata": {},
   "outputs": [
    {
     "data": {
      "text/plain": [
       "array([ 2. ,  1. ,  1.5,  2.5,  3. ,  nan,  5. ])"
      ]
     },
     "execution_count": 48,
     "metadata": {},
     "output_type": "execute_result"
    }
   ],
   "source": [
    "merged['bathrooms'].unique()"
   ]
  },
  {
   "cell_type": "code",
   "execution_count": 49,
   "metadata": {},
   "outputs": [
    {
     "data": {
      "text/plain": [
       "226                                                  NaN\n",
       "781    no drugs or excessive alcohol. Respect of the ...\n",
       "783                                                  NaN\n",
       "Name: house_rules, dtype: object"
      ]
     },
     "execution_count": 49,
     "metadata": {},
     "output_type": "execute_result"
    }
   ],
   "source": [
    "merged['house_rules'].head(3)"
   ]
  },
  {
   "cell_type": "code",
   "execution_count": 50,
   "metadata": {
    "collapsed": true
   },
   "outputs": [],
   "source": [
    "def is_transit(a):\n",
    "    if a.len() > 0:\n",
    "        return 1\n",
    "    else:\n",
    "        return 0"
   ]
  },
  {
   "cell_type": "code",
   "execution_count": 49,
   "metadata": {
    "scrolled": true
   },
   "outputs": [
    {
     "data": {
      "text/plain": [
       "226    NaN\n",
       "781    NaN\n",
       "783    NaN\n",
       "Name: transit, dtype: object"
      ]
     },
     "execution_count": 49,
     "metadata": {},
     "output_type": "execute_result"
    }
   ],
   "source": [
    "merged['transit'].head(3)"
   ]
  },
  {
   "cell_type": "code",
   "execution_count": 52,
   "metadata": {
    "collapsed": true
   },
   "outputs": [],
   "source": [
    "L = []\n",
    "for w in merged.index:\n",
    "    a = merged['transit'].str.len()[w]\n",
    "    if  a > 0:\n",
    "        L.append(1)\n",
    "    else:\n",
    "        L.append(0)\n",
    "\n",
    "merged['is_transit'] = L"
   ]
  },
  {
   "cell_type": "code",
   "execution_count": 53,
   "metadata": {
    "scrolled": true
   },
   "outputs": [
    {
     "data": {
      "text/plain": [
       "226    0\n",
       "781    0\n",
       "783    0\n",
       "Name: is_transit, dtype: int64"
      ]
     },
     "execution_count": 53,
     "metadata": {},
     "output_type": "execute_result"
    }
   ],
   "source": [
    "merged['is_transit'].head(3)"
   ]
  },
  {
   "cell_type": "code",
   "execution_count": 54,
   "metadata": {},
   "outputs": [
    {
     "data": {
      "text/plain": [
       "['One',\n",
       " 'Free',\n",
       " 'parking',\n",
       " 'space',\n",
       " 'is',\n",
       " 'available',\n",
       " 'if',\n",
       " 'driving',\n",
       " 'and',\n",
       " 'access',\n",
       " 'to',\n",
       " 'the',\n",
       " 'trolley',\n",
       " 'is',\n",
       " 'minutes',\n",
       " 'away.',\n",
       " 'There',\n",
       " 'are',\n",
       " 'also',\n",
       " 'buses',\n",
       " 'and',\n",
       " 'ride',\n",
       " 'shares',\n",
       " 'easily',\n",
       " 'accessible',\n",
       " 'from',\n",
       " 'this',\n",
       " 'location.']"
      ]
     },
     "execution_count": 54,
     "metadata": {},
     "output_type": "execute_result"
    }
   ],
   "source": [
    "merged['transit'].str.split(' ')[788]"
   ]
  },
  {
   "cell_type": "code",
   "execution_count": 55,
   "metadata": {
    "scrolled": true
   },
   "outputs": [
    {
     "data": {
      "text/plain": [
       "226    Balboa Park\n",
       "781       Columbia\n",
       "783       Columbia\n",
       "Name: neighbourhood_cleansed, dtype: object"
      ]
     },
     "execution_count": 55,
     "metadata": {},
     "output_type": "execute_result"
    }
   ],
   "source": [
    "merged['neighbourhood_cleansed'].head(3)"
   ]
  },
  {
   "cell_type": "code",
   "execution_count": 56,
   "metadata": {
    "scrolled": true
   },
   "outputs": [
    {
     "data": {
      "text/plain": [
       "226           Cortez\n",
       "781    Core-Columbia\n",
       "783    Core-Columbia\n",
       "Name: neighbourhood, dtype: object"
      ]
     },
     "execution_count": 56,
     "metadata": {},
     "output_type": "execute_result"
    }
   ],
   "source": [
    "merged['neighbourhood'].head(3)"
   ]
  },
  {
   "cell_type": "code",
   "execution_count": 57,
   "metadata": {
    "scrolled": true
   },
   "outputs": [
    {
     "data": {
      "text/plain": [
       "0    Jeff, we cannot thank you enough for your hosp...\n",
       "1    The location was amazing, we were able to chea...\n",
       "2    I would like to thank Jeff for his great hospi...\n",
       "Name: comments, dtype: object"
      ]
     },
     "execution_count": 57,
     "metadata": {},
     "output_type": "execute_result"
    }
   ],
   "source": [
    "reviews['comments'].head(3)"
   ]
  },
  {
   "cell_type": "code",
   "execution_count": 58,
   "metadata": {
    "collapsed": true
   },
   "outputs": [],
   "source": [
    "reviews['comment_length'] = reviews['comments'].str.len()"
   ]
  },
  {
   "cell_type": "code",
   "execution_count": null,
   "metadata": {
    "collapsed": true
   },
   "outputs": [],
   "source": []
  },
  {
   "cell_type": "markdown",
   "metadata": {},
   "source": [
    "# Modeling"
   ]
  },
  {
   "cell_type": "markdown",
   "metadata": {},
   "source": [
    "## Model 1"
   ]
  },
  {
   "cell_type": "code",
   "execution_count": 59,
   "metadata": {
    "collapsed": true
   },
   "outputs": [],
   "source": [
    "clf = ElasticNet()"
   ]
  },
  {
   "cell_type": "code",
   "execution_count": 60,
   "metadata": {
    "collapsed": true
   },
   "outputs": [],
   "source": [
    "merged_drop_NA = merged[['bathrooms', 'bedrooms', 'numerical price']].dropna()"
   ]
  },
  {
   "cell_type": "code",
   "execution_count": 61,
   "metadata": {
    "collapsed": true
   },
   "outputs": [],
   "source": [
    "X_train, X_test, y_train, y_test = train_test_split(merged_drop_NA[['bathrooms', 'bedrooms']], merged_drop_NA['numerical price'], test_size=0.2)"
   ]
  },
  {
   "cell_type": "code",
   "execution_count": 62,
   "metadata": {},
   "outputs": [
    {
     "data": {
      "text/plain": [
       "ElasticNet(alpha=1.0, copy_X=True, fit_intercept=True, l1_ratio=0.5,\n",
       "      max_iter=1000, normalize=False, positive=False, precompute=False,\n",
       "      random_state=None, selection='cyclic', tol=0.0001, warm_start=False)"
      ]
     },
     "execution_count": 62,
     "metadata": {},
     "output_type": "execute_result"
    }
   ],
   "source": [
    "clf.fit(X_train, y_train)"
   ]
  },
  {
   "cell_type": "code",
   "execution_count": 63,
   "metadata": {
    "collapsed": true
   },
   "outputs": [],
   "source": [
    "y_pred = clf.predict(X_test)"
   ]
  },
  {
   "cell_type": "code",
   "execution_count": 64,
   "metadata": {},
   "outputs": [
    {
     "data": {
      "text/plain": [
       "array([ 233.16971662,  302.02623154,  197.39404242,  266.25055734,\n",
       "        302.02623154,  268.94539082,  233.16971662,  233.16971662,\n",
       "        285.48581118,  266.25055734,  302.02623154,  233.16971662,\n",
       "        197.39404242,  233.16971662,  197.39404242,  233.16971662,\n",
       "        233.16971662,  233.16971662,  302.02623154,  197.39404242,\n",
       "        249.71013698,  233.16971662,  266.25055734,  266.25055734,\n",
       "        442.43409486,  302.02623154,  197.39404242,  354.3423261 ,\n",
       "        233.16971662,  197.39404242,  197.39404242,  233.16971662,\n",
       "        233.16971662,  197.39404242,  197.39404242,  197.39404242,\n",
       "        233.16971662,  233.16971662,  302.02623154,  302.02623154,\n",
       "        268.94539082,  233.16971662,  233.16971662,  197.39404242,\n",
       "        233.16971662,  233.16971662,  233.16971662,  233.16971662,\n",
       "        197.39404242,  266.25055734,  233.16971662,  268.94539082,\n",
       "        233.16971662,  233.16971662,  197.39404242,  268.94539082,\n",
       "        197.39404242,  233.16971662,  233.16971662,  268.94539082,\n",
       "        197.39404242,  197.39404242,  249.71013698,  233.16971662,\n",
       "        233.16971662,  302.02623154,  233.16971662,  302.02623154,\n",
       "        302.02623154,  480.90460254,  233.16971662,  197.39404242,\n",
       "        197.39404242,  233.16971662,  302.02623154,  197.39404242,\n",
       "        337.80190574,  318.5666519 ,  302.02623154,  233.16971662,\n",
       "        302.02623154,  285.48581118,  197.39404242,  302.02623154,\n",
       "        285.48581118,  233.16971662,  233.16971662,  233.16971662,\n",
       "        233.16971662,  233.16971662,  197.39404242,  233.16971662,\n",
       "        197.39404242,  197.39404242,  302.02623154,  233.16971662,\n",
       "        335.10707225,  233.16971662,  268.94539082,  197.39404242,\n",
       "        197.39404242,  302.02623154,  249.71013698,  233.16971662,\n",
       "        285.48581118,  197.39404242,  197.39404242,  370.88274646,\n",
       "        197.39404242,  268.94539082,  233.16971662,  197.39404242,\n",
       "        197.39404242,  233.16971662,  302.02623154,  233.16971662])"
      ]
     },
     "execution_count": 64,
     "metadata": {},
     "output_type": "execute_result"
    }
   ],
   "source": [
    "y_pred"
   ]
  },
  {
   "cell_type": "code",
   "execution_count": 65,
   "metadata": {},
   "outputs": [
    {
     "name": "stdout",
     "output_type": "stream",
     "text": [
      "The Mean Squared Error of the first model = 22988.0156788\n",
      "The Mean Absolute Error of the first model = 109.388063582\n"
     ]
    }
   ],
   "source": [
    "print('The Mean Squared Error of the first model = ' + str(mean_squared_error(y_pred, y_test)))\n",
    "print('The Mean Absolute Error of the first model = ' + str(mean_absolute_error(y_pred, y_test)))"
   ]
  },
  {
   "cell_type": "code",
   "execution_count": 56,
   "metadata": {},
   "outputs": [
    {
     "data": {
      "text/plain": [
       "226                                                   NaN\n",
       "781     no drugs or excessive alcohol. Respect of the ...\n",
       "783                                                   NaN\n",
       "784                                                   NaN\n",
       "785                                                   NaN\n",
       "786                                    No smoking please!\n",
       "787     This is our place. We want it to feel like it'...\n",
       "788            No smoking, no loud music, no pets allowed\n",
       "789     Respectful, Quiet past 10pm, no ragers/sex par...\n",
       "790                                                   NaN\n",
       "791                          Small dogs are OK.  No cats.\n",
       "792     Personal items in the house, just be respectfu...\n",
       "793     Please treat my place as it's yours and keep i...\n",
       "794     RULES AND REGULATIONS FOR artist flat The part...\n",
       "795                                                   NaN\n",
       "796     House Rules: • Please no shoes in the house as...\n",
       "798                                                   NaN\n",
       "800     Please clean up! That will come out of your se...\n",
       "802                                                   NaN\n",
       "803                                                   NaN\n",
       "804                                                   NaN\n",
       "805     No smoking, no pets, no parties. Free to use w...\n",
       "806     Smoking is not allowed. Please do not smoke an...\n",
       "807     Keep the house clean. Guest should respect my ...\n",
       "809     - Parking $30 per day, in and out privileges  ...\n",
       "812     Treat my home as it is your own. Respect to pe...\n",
       "813     You may use anything you need in the kitchen a...\n",
       "814     Please just be respectful to our neighbors. No...\n",
       "819     Check-in is at 3 pm and checkout is at 11 am. ...\n",
       "820     Please treat the loft like your own :) House R...\n",
       "                              ...                        \n",
       "5738    Please, no parties,  no smoking inside apartme...\n",
       "5739    This apartment is completely Non-smoking, its ...\n",
       "5740    We expect guests to treat this house with resp...\n",
       "5742    We expect guests to treat this house with resp...\n",
       "5743    No Smoking, Drugs, Partying or Excessive Noise...\n",
       "5744    We expect guests to treat this house with resp...\n",
       "5745    We expect guests to treat this house with resp...\n",
       "5746                                                  NaN\n",
       "5748    No smoking Not suitable for pets No parties or...\n",
       "5750    No cigarette smoking No pets allowed No house ...\n",
       "5754                                                  NaN\n",
       "5755                                                  NaN\n",
       "5756    Guests should act as \"the Reasonably Prudent P...\n",
       "5757    Integrity and respect, thanks : ) I am 100% co...\n",
       "5758                                                  NaN\n",
       "5759    Please review the info binder in the unit.  It...\n",
       "5760    PLEASE MAKE SURE EVERYONE IN YOUR PARTY HAS RE...\n",
       "5761    I appreciate respect and cleanliness of the sp...\n",
       "5762    Please leave the house how you found it! Also,...\n",
       "5764    We expect guests to treat this house with resp...\n",
       "5766                                                  NaN\n",
       "5767    This is a no smoking condo complex. Quiet hour...\n",
       "5768    The only rules are for you to be curteous to t...\n",
       "5769                                                  NaN\n",
       "5770    Very simple: -Respect the art and appliances/d...\n",
       "5773    It is a neighborhood setting so the 10-7 am qu...\n",
       "5775    TERMS for AIRBNB guests:  Unexpected guests wi...\n",
       "5778    - Gated courtyard.  -Smoking okay outside in c...\n",
       "5781    A house cleaner will come once a week to clean...\n",
       "5782    *Please keep the house clean and treat it like...\n",
       "Name: house_rules, Length: 581, dtype: object"
      ]
     },
     "execution_count": 56,
     "metadata": {},
     "output_type": "execute_result"
    }
   ],
   "source": [
    "merged['house_rules']"
   ]
  },
  {
   "cell_type": "code",
   "execution_count": 57,
   "metadata": {
    "collapsed": true
   },
   "outputs": [],
   "source": [
    "def is_transit(a):\n",
    "    if a.len() > 0:\n",
    "        return 1\n",
    "    else:\n",
    "        return 0"
   ]
  },
  {
   "cell_type": "code",
   "execution_count": 58,
   "metadata": {
    "scrolled": true
   },
   "outputs": [
    {
     "data": {
      "text/plain": [
       "226                                                   NaN\n",
       "781                                                   NaN\n",
       "783                                                   NaN\n",
       "784                                                   NaN\n",
       "785     Uber, Lyft, rental car, black car services or ...\n",
       "786                                                   NaN\n",
       "787                                                   NaN\n",
       "788     One Free parking space is available if driving...\n",
       "789     We are in the heart of all of downtown, close ...\n",
       "790                                                   NaN\n",
       "791     Stay in the most walkable neighborhood in San ...\n",
       "792     *Uber*Car2go *Taxi Services *Walk to Buses &Tr...\n",
       "793     Santa Fe Depot (Amtrack/Coaster) is a block an...\n",
       "794     A 5 min walk to the Trolly that can take you a...\n",
       "795     The Urban Treehouse is conveniently located in...\n",
       "796     **Free Parking in secured garage!!** Conventio...\n",
       "798                                                   NaN\n",
       "800                                                   NaN\n",
       "802                                                   NaN\n",
       "803                                                   NaN\n",
       "804                                                   NaN\n",
       "805     The Trolley, buses and Balboa Park Trams are c...\n",
       "806     Trolley is available.  Taxis are readily acces...\n",
       "807     My location is only a few blocks from the tram...\n",
       "809                                                   NaN\n",
       "812     trolley train track one block north as well as...\n",
       "813     Right around one corner is a major bus hub and...\n",
       "814     The bus & trolley stops are within a block. Le...\n",
       "819     Distant to common destinations San Diego Conve...\n",
       "820     Uber, Lyft, Car2go, Pedi Cabs, Taxis, Bus, Tro...\n",
       "                              ...                        \n",
       "5738                                                  NaN\n",
       "5739    Super easy, 2 minutes to downtown, 3-4 minutes...\n",
       "5740    San Diego International airport is only 2.2 mi...\n",
       "5742    San Diego International airport is only 2.2 mi...\n",
       "5743    There are bus stops, trolley stations, car ren...\n",
       "5744    San Diego International airport is only 2.2 mi...\n",
       "5745    San Diego International airport is only 2.2 mi...\n",
       "5746                                                  NaN\n",
       "5748    Uber, Lyft, and taxis are all readily availabl...\n",
       "5750    Following freeways have immediate access (less...\n",
       "5754    Bus stop outside of the building, but many att...\n",
       "5755                                                  NaN\n",
       "5756    8 min drive to beach!  Bus Line 3 stops outsid...\n",
       "5757    Many places to walk, ~15min and you'll be in t...\n",
       "5758                                                  NaN\n",
       "5759    Street parking is  good within a 1-3 block rad...\n",
       "5760    - This location is perfect if you are looking ...\n",
       "5761    There is convenient unpaid street parking on t...\n",
       "5762    We are only a mile from the major transit/trol...\n",
       "5764    San Diego International airport is only 2.2 mi...\n",
       "5766                                                  NaN\n",
       "5767    On 5th Ave and Laurel the 120 bus will take yo...\n",
       "5768                 LYFT is the best way to get around. \n",
       "5769                                                  NaN\n",
       "5770    There are a few bus lines that run through her...\n",
       "5773    The airport, train and trolley are approx one ...\n",
       "5775    San Diego International airport is only 2.2 mi...\n",
       "5778                                                  NaN\n",
       "5781    Public transit is available one block away. Th...\n",
       "5782    The apartment does not have off street parking...\n",
       "Name: transit, Length: 581, dtype: object"
      ]
     },
     "execution_count": 58,
     "metadata": {},
     "output_type": "execute_result"
    }
   ],
   "source": [
    "merged['transit']"
   ]
  },
  {
   "cell_type": "code",
   "execution_count": 59,
   "metadata": {
    "collapsed": true
   },
   "outputs": [],
   "source": [
    "L = []\n",
    "for w in merged.index:\n",
    "    a = merged['transit'].str.len()[w]\n",
    "    if  a > 0:\n",
    "        L.append(1)\n",
    "    else:\n",
    "        L.append(0)\n",
    "\n",
    "merged['is_transit'] = L"
   ]
  },
  {
   "cell_type": "code",
   "execution_count": 67,
   "metadata": {
    "scrolled": true
   },
   "outputs": [
    {
     "data": {
      "text/plain": [
       "226     0\n",
       "781     0\n",
       "783     0\n",
       "784     0\n",
       "785     1\n",
       "786     0\n",
       "787     0\n",
       "788     1\n",
       "789     1\n",
       "790     0\n",
       "791     1\n",
       "792     1\n",
       "793     1\n",
       "794     1\n",
       "795     1\n",
       "796     1\n",
       "798     0\n",
       "800     0\n",
       "802     0\n",
       "803     0\n",
       "804     0\n",
       "805     1\n",
       "806     1\n",
       "807     1\n",
       "809     0\n",
       "812     1\n",
       "813     1\n",
       "814     1\n",
       "819     1\n",
       "820     1\n",
       "       ..\n",
       "5738    0\n",
       "5739    1\n",
       "5740    1\n",
       "5742    1\n",
       "5743    1\n",
       "5744    1\n",
       "5745    1\n",
       "5746    0\n",
       "5748    1\n",
       "5750    1\n",
       "5754    1\n",
       "5755    0\n",
       "5756    1\n",
       "5757    1\n",
       "5758    0\n",
       "5759    1\n",
       "5760    1\n",
       "5761    1\n",
       "5762    1\n",
       "5764    1\n",
       "5766    0\n",
       "5767    1\n",
       "5768    1\n",
       "5769    0\n",
       "5770    1\n",
       "5773    1\n",
       "5775    1\n",
       "5778    0\n",
       "5781    1\n",
       "5782    1\n",
       "Name: is_transit, Length: 581, dtype: int64"
      ]
     },
     "execution_count": 67,
     "metadata": {},
     "output_type": "execute_result"
    }
   ],
   "source": [
    "merged['is_transit']"
   ]
  },
  {
   "cell_type": "code",
   "execution_count": 68,
   "metadata": {},
   "outputs": [
    {
     "data": {
      "text/plain": [
       "['One',\n",
       " 'Free',\n",
       " 'parking',\n",
       " 'space',\n",
       " 'is',\n",
       " 'available',\n",
       " 'if',\n",
       " 'driving',\n",
       " 'and',\n",
       " 'access',\n",
       " 'to',\n",
       " 'the',\n",
       " 'trolley',\n",
       " 'is',\n",
       " 'minutes',\n",
       " 'away.',\n",
       " 'There',\n",
       " 'are',\n",
       " 'also',\n",
       " 'buses',\n",
       " 'and',\n",
       " 'ride',\n",
       " 'shares',\n",
       " 'easily',\n",
       " 'accessible',\n",
       " 'from',\n",
       " 'this',\n",
       " 'location.']"
      ]
     },
     "execution_count": 68,
     "metadata": {},
     "output_type": "execute_result"
    }
   ],
   "source": [
    "merged['transit'].str.split(' ')[788]"
   ]
  },
  {
   "cell_type": "code",
   "execution_count": 69,
   "metadata": {
    "scrolled": true
   },
   "outputs": [
    {
     "data": {
      "text/plain": [
       "226     Balboa Park\n",
       "781        Columbia\n",
       "783        Columbia\n",
       "784        Columbia\n",
       "785        Columbia\n",
       "786        Columbia\n",
       "787        Columbia\n",
       "788        Columbia\n",
       "789        Columbia\n",
       "790        Columbia\n",
       "791        Columbia\n",
       "792        Columbia\n",
       "793        Columbia\n",
       "794        Columbia\n",
       "795        Columbia\n",
       "796        Columbia\n",
       "798            Core\n",
       "800            Core\n",
       "802            Core\n",
       "803            Core\n",
       "804            Core\n",
       "805            Core\n",
       "806            Core\n",
       "807            Core\n",
       "809            Core\n",
       "812            Core\n",
       "813            Core\n",
       "814            Core\n",
       "819            Core\n",
       "820            Core\n",
       "           ...     \n",
       "5738      Park West\n",
       "5739      Park West\n",
       "5740      Park West\n",
       "5742      Park West\n",
       "5743      Park West\n",
       "5744      Park West\n",
       "5745      Park West\n",
       "5746      Park West\n",
       "5748      Park West\n",
       "5750      Park West\n",
       "5754      Park West\n",
       "5755      Park West\n",
       "5756      Park West\n",
       "5757      Park West\n",
       "5758      Park West\n",
       "5759      Park West\n",
       "5760      Park West\n",
       "5761      Park West\n",
       "5762      Park West\n",
       "5764      Park West\n",
       "5766      Park West\n",
       "5767      Park West\n",
       "5768      Park West\n",
       "5769      Park West\n",
       "5770      Park West\n",
       "5773      Park West\n",
       "5775      Park West\n",
       "5778      Park West\n",
       "5781      Park West\n",
       "5782      Park West\n",
       "Name: neighbourhood_cleansed, Length: 581, dtype: object"
      ]
     },
     "execution_count": 69,
     "metadata": {},
     "output_type": "execute_result"
    }
   ],
   "source": [
    "merged['neighbourhood_cleansed']"
   ]
  },
  {
   "cell_type": "code",
   "execution_count": 70,
   "metadata": {
    "scrolled": true
   },
   "outputs": [
    {
     "data": {
      "text/plain": [
       "226            Cortez\n",
       "781     Core-Columbia\n",
       "783     Core-Columbia\n",
       "784            Marina\n",
       "785      Little Italy\n",
       "786        Harborview\n",
       "787               NaN\n",
       "788               NaN\n",
       "789     Core-Columbia\n",
       "790     Core-Columbia\n",
       "791     Core-Columbia\n",
       "792      Little Italy\n",
       "793     Core-Columbia\n",
       "794               NaN\n",
       "795      Little Italy\n",
       "796     Core-Columbia\n",
       "798     Core-Columbia\n",
       "800     Core-Columbia\n",
       "802      East Village\n",
       "803     Core-Columbia\n",
       "804      East Village\n",
       "805     Core-Columbia\n",
       "806      East Village\n",
       "807               NaN\n",
       "809      East Village\n",
       "812     Core-Columbia\n",
       "813               NaN\n",
       "814               NaN\n",
       "819      East Village\n",
       "820     Core-Columbia\n",
       "            ...      \n",
       "5738        Park West\n",
       "5739        Park West\n",
       "5740        Park West\n",
       "5742        Park West\n",
       "5743        Park West\n",
       "5744        Park West\n",
       "5745        Park West\n",
       "5746              NaN\n",
       "5748        Park West\n",
       "5750              NaN\n",
       "5754        Park West\n",
       "5755        Park West\n",
       "5756        Park West\n",
       "5757        Park West\n",
       "5758              NaN\n",
       "5759        Park West\n",
       "5760        Park West\n",
       "5761        Park West\n",
       "5762        Park West\n",
       "5764        Park West\n",
       "5766        Park West\n",
       "5767        Park West\n",
       "5768        Park West\n",
       "5769        Park West\n",
       "5770              NaN\n",
       "5773        Park West\n",
       "5775        Park West\n",
       "5778        Park West\n",
       "5781              NaN\n",
       "5782        Park West\n",
       "Name: neighbourhood, Length: 581, dtype: object"
      ]
     },
     "execution_count": 70,
     "metadata": {},
     "output_type": "execute_result"
    }
   ],
   "source": [
    "merged['neighbourhood']"
   ]
  },
  {
   "cell_type": "code",
   "execution_count": 77,
   "metadata": {
    "scrolled": true
   },
   "outputs": [
    {
     "data": {
      "text/plain": [
       "0        Jeff, we cannot thank you enough for your hosp...\n",
       "1        The location was amazing, we were able to chea...\n",
       "2        I would like to thank Jeff for his great hospi...\n",
       "3        Jeff was an amazing host! We rented all three ...\n",
       "4        Jeff was the consummate host.  He was quick to...\n",
       "5             The location was excellent, literally ste...\n",
       "6        Wonderful beach house. So close to the beach. ...\n",
       "7        perfect place for me and my family. would love...\n",
       "8        Ryan and his staff were amazing!!!!! So incred...\n",
       "9        My communication with Ryan before our stay was...\n",
       "10       The location could not have been better.  This...\n",
       "11       Very nice family who makes you feel welcome an...\n",
       "12       Clean, friendly, comfortable! Maisue and her f...\n",
       "13       Maisue was a great host to me and my friend th...\n",
       "14       Maisue and her family were wonderful hosts. We...\n",
       "15       Mai Sue and Thé are excellent hosts. I stayed ...\n",
       "16       Me and my sister stood at Maisue.  We loved th...\n",
       "17       Great hosts. Nice and clean room. Highly recom...\n",
       "18       We stayed with Maisue for a night and had a wo...\n",
       "19       The stay at Maisue's place was really pleasant...\n",
       "20       Awesome place better then many hotels I have s...\n",
       "21       Great place -  good value! Becky was very quic...\n",
       "22       I'm very satisfied with both the price and wit...\n",
       "23       Becky was very welcoming and invited us to go ...\n",
       "24       We loved staying here. It was nice to meet Sar...\n",
       "25       Sarah was a great host. The loft was exactly a...\n",
       "26       The Loft was the perfect get away for visiting...\n",
       "27       Great location.   Views from the windows bette...\n",
       "28       Sarah was an excellent host.  Her rental is in...\n",
       "29       Excellent place in a great location. The view ...\n",
       "                               ...                        \n",
       "92832    Rachel's place is very lovely and clean with a...\n",
       "92833    Our hosts were super awesome!  Cheerful, helpf...\n",
       "92834    What a wonderful place! Terrific location - wi...\n",
       "92835    Great studio in a great location! The studio w...\n",
       "92836    Place was great! Right next to a bunch of rest...\n",
       "92837    Rachel was great at communicating directions a...\n",
       "92838    Great little place, terrific location with awe...\n",
       "92839    Great location - very clean and comfortable - ...\n",
       "92840    Everything was excellent and exactly as descri...\n",
       "92841    This was our first AirB&B and it was a big hit...\n",
       "92842    Rachel's studio apartment was just as deceived...\n",
       "92843    Stayed at this lovely light and pleasant apart...\n",
       "92844    Rachel's place truly is situated right in the ...\n",
       "92845    This was our first Airbnb experience. Rachel w...\n",
       "92846    The studio space is wonderful!  All the little...\n",
       "92847    Rachel is such an amazing host. She's very res...\n",
       "92848    The studio was as lovely as hopped for. One bl...\n",
       "92849    Rachel was an excellent host! She was extremel...\n",
       "92850    Rachel's loft is beautiful, immaculate, and ve...\n",
       "92851    Apt. was immaculate and charming, with many ho...\n",
       "92852    My friend was visiting me in San Diego and aft...\n",
       "92853    We loved Rachel's place. It's in the best loca...\n",
       "92854    We had a great time at Rachel 's place. The ap...\n",
       "92855    We loved this upstairs studio in Little Italy,...\n",
       "92856    Staying here was a great experience. The neigh...\n",
       "92857    Nice place, great location -- close to everyth...\n",
       "92858    Rachel was great!  She was very thoughtful and...\n",
       "92859    Such a cute place. Easy to find. We loved stay...\n",
       "92860    Listing was just as described. Great place, Li...\n",
       "92861    Flat is wonderfully decorated, and flooded wit...\n",
       "Name: comments, Length: 92862, dtype: object"
      ]
     },
     "execution_count": 77,
     "metadata": {},
     "output_type": "execute_result"
    }
   ],
   "source": [
    "reviews['comments']"
   ]
  },
  {
   "cell_type": "code",
   "execution_count": 75,
   "metadata": {
    "collapsed": true
   },
   "outputs": [],
   "source": [
    "reviews['comment_length'] = reviews['comments'].str.len()"
   ]
  },
  {
   "cell_type": "code",
   "execution_count": null,
   "metadata": {
    "collapsed": true
   },
   "outputs": [],
   "source": []
  },
  {
   "cell_type": "markdown",
   "metadata": {},
   "source": [
    "# Modeling"
   ]
  },
  {
   "cell_type": "markdown",
   "metadata": {},
   "source": [
    "## Model 1"
   ]
  },
  {
   "cell_type": "code",
   "execution_count": 60,
   "metadata": {
    "collapsed": true
   },
   "outputs": [],
   "source": [
    "clf = ElasticNet()"
   ]
  },
  {
   "cell_type": "code",
   "execution_count": 61,
   "metadata": {
    "collapsed": true
   },
   "outputs": [],
   "source": [
    "merged_drop_NA = merged[['bathrooms', 'bedrooms', 'numerical price']].dropna()"
   ]
  },
  {
   "cell_type": "code",
   "execution_count": 62,
   "metadata": {
    "collapsed": true
   },
   "outputs": [],
   "source": [
    "X_train, X_test, y_train, y_test = train_test_split(merged_drop_NA[['bathrooms', 'bedrooms']], merged_drop_NA['numerical price'], test_size=0.2)"
   ]
  },
  {
   "cell_type": "code",
   "execution_count": 63,
   "metadata": {},
   "outputs": [
    {
     "data": {
      "text/plain": [
       "ElasticNet(alpha=1.0, copy_X=True, fit_intercept=True, l1_ratio=0.5,\n",
       "      max_iter=1000, normalize=False, positive=False, precompute=False,\n",
       "      random_state=None, selection='cyclic', tol=0.0001, warm_start=False)"
      ]
     },
     "execution_count": 63,
     "metadata": {},
     "output_type": "execute_result"
    }
   ],
   "source": [
    "clf.fit(X_train, y_train)"
   ]
  },
  {
   "cell_type": "code",
   "execution_count": 64,
   "metadata": {
    "collapsed": true
   },
   "outputs": [],
   "source": [
    "y_pred = clf.predict(X_test)"
   ]
  },
  {
   "cell_type": "code",
   "execution_count": 65,
   "metadata": {},
   "outputs": [
    {
     "data": {
      "text/plain": [
       "array([ 362.98161807,  193.22505885,  228.82090712,  193.22505885,\n",
       "        193.22505885,  260.30541432,  264.4167554 ,  300.01260368,\n",
       "        228.82090712,  193.22505885,  228.82090712,  228.82090712,\n",
       "        228.82090712,  260.30541432,  193.22505885,  228.82090712,\n",
       "        228.82090712,  228.82090712,  228.82090712,  295.9012626 ,\n",
       "        228.82090712,  228.82090712,  228.82090712,  193.22505885,\n",
       "        295.9012626 ,  228.82090712,  193.22505885,  264.4167554 ,\n",
       "        331.49711088,  193.22505885,  193.22505885,  228.82090712,\n",
       "        228.82090712,  228.82090712,  295.9012626 ,  228.82090712,\n",
       "        362.98161807,  228.82090712,  280.159009  ,  193.22505885,\n",
       "        228.82090712,  295.9012626 ,  228.82090712,  193.22505885,\n",
       "        228.82090712,  193.22505885,  228.82090712,  193.22505885,\n",
       "        331.49711088,  295.9012626 ,  264.4167554 ,  295.9012626 ,\n",
       "        193.22505885,  228.82090712,  193.22505885,  228.82090712,\n",
       "        193.22505885,  193.22505885,  228.82090712,  280.159009  ,\n",
       "        228.82090712,  193.22505885,  228.82090712,  295.9012626 ,\n",
       "        228.82090712,  228.82090712,  193.22505885,  228.82090712,\n",
       "        193.22505885,  264.4167554 ,  244.56316072,  193.22505885,\n",
       "        228.82090712,  193.22505885,  193.22505885,  228.82090712,\n",
       "        264.4167554 ,  228.82090712,  228.82090712,  228.82090712,\n",
       "        228.82090712,  228.82090712,  264.4167554 ,  295.9012626 ,\n",
       "        260.30541432,  295.9012626 ,  295.9012626 ,  295.9012626 ,\n",
       "        228.82090712,  193.22505885,  228.82090712,  300.01260368,\n",
       "        193.22505885,  295.9012626 ,  193.22505885,  264.4167554 ,\n",
       "        228.82090712,  193.22505885,  280.159009  ,  228.82090712,\n",
       "        264.4167554 ,  193.22505885,  295.9012626 ,  228.82090712,\n",
       "        193.22505885,  193.22505885,  347.23936447,  228.82090712,\n",
       "        295.9012626 ,  193.22505885,  295.9012626 ,  228.82090712,\n",
       "        295.9012626 ,  193.22505885,  193.22505885,  193.22505885])"
      ]
     },
     "execution_count": 65,
     "metadata": {},
     "output_type": "execute_result"
    }
   ],
   "source": [
    "y_pred"
   ]
  },
  {
   "cell_type": "code",
   "execution_count": 66,
   "metadata": {},
   "outputs": [
    {
     "name": "stdout",
     "output_type": "stream",
     "text": [
      "The Mean Squared Error of the first model = 31261.2586994\n",
      "The Mean Absolute Error of the first model = 119.71305226\n"
     ]
    }
   ],
   "source": [
    "print('The Mean Squared Error of the first model = ' + str(mean_squared_error(y_pred, y_test)))\n",
    "print('The Mean Absolute Error of the first model = ' + str(mean_absolute_error(y_pred, y_test)))"
   ]
  },
  {
   "cell_type": "code",
   "execution_count": null,
   "metadata": {
    "collapsed": true
   },
   "outputs": [],
   "source": []
  }
 ],
 "metadata": {
  "anaconda-cloud": {},
  "kernelspec": {
   "display_name": "Python 2",
   "language": "python",
   "name": "python2"
  },
  "language_info": {
   "codemirror_mode": {
    "name": "ipython",
    "version": 2
   },
   "file_extension": ".py",
   "mimetype": "text/x-python",
   "name": "python",
   "nbconvert_exporter": "python",
   "pygments_lexer": "ipython2",
   "version": "2.7.14"
  }
 },
 "nbformat": 4,
 "nbformat_minor": 2
}
