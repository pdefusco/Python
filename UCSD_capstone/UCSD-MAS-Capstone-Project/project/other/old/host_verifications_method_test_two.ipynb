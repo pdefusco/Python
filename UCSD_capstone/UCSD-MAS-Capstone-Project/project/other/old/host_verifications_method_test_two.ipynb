{
 "cells": [
  {
   "cell_type": "code",
   "execution_count": 1,
   "metadata": {
    "collapsed": true
   },
   "outputs": [],
   "source": [
    "import json\n",
    "from StringIO import StringIO\n",
    "import pandas as pd"
   ]
  },
  {
   "cell_type": "code",
   "execution_count": 2,
   "metadata": {
    "collapsed": true
   },
   "outputs": [],
   "source": [
    "import os\n",
    "import sklearn as sk\n",
    "from sklearn.linear_model import MultiTaskLasso, MultiTaskElasticNet, ElasticNet\n",
    "from sklearn.cross_validation import train_test_split\n",
    "from sklearn.metrics import mean_absolute_error, mean_squared_error\n",
    "import sklearn.metrics as skmet\n",
    "import numpy as np\n",
    "import nltk\n",
    "from nltk.tokenize import sent_tokenize, word_tokenize\n",
    "from nltk.corpus import stopwords, names\n",
    "import datetime\n",
    "from scipy.stats import ttest_ind \n",
    "import csv"
   ]
  },
  {
   "cell_type": "code",
   "execution_count": 3,
   "metadata": {
    "collapsed": true
   },
   "outputs": [],
   "source": [
    "listings = pd.read_csv('inside_airbnb/listings.csv')\n",
    "list_summ = pd.read_csv('inside_airbnb/listings_summ.csv')\n",
    "neighborhoods = pd.read_csv('inside_airbnb/neighbourhoods.csv')\n",
    "reviews = pd.read_csv('inside_airbnb/reviews.csv')\n",
    "reviews_summ = pd.read_csv('inside_airbnb/reviews_summ.csv')\n",
    "calendar = pd.read_csv('inside_airbnb/calendar.csv')"
   ]
  },
  {
   "cell_type": "code",
   "execution_count": 4,
   "metadata": {
    "collapsed": true
   },
   "outputs": [],
   "source": [
    "def string_to_set(x):\n",
    "    c = set()\n",
    "    for w in x[1:-1].split(\",\"):\n",
    "        c.add(w)\n",
    "        \n",
    "    return c\n",
    "\n",
    "def has_amenity(x, amen_):\n",
    "    if amen_ in x:\n",
    "        return 1\n",
    "    pass"
   ]
  },
  {
   "cell_type": "code",
   "execution_count": 5,
   "metadata": {
    "collapsed": true
   },
   "outputs": [],
   "source": [
    "a = listings['amenities'].fillna('{}')\n",
    "\n",
    "listings['amenities_set'] = a.map(string_to_set)\n",
    "all_amenities = set()\n",
    "    \n",
    "for idx in listings['amenities_set'].index:\n",
    "    all_amenities = all_amenities.union(listings['amenities_set'][idx])"
   ]
  },
  {
   "cell_type": "code",
   "execution_count": 10,
   "metadata": {},
   "outputs": [],
   "source": [
    "b = set(['', '\"translation missing: en.hosting_amenity_49\"','\"translation missing: en.hosting_amenity_50\"'])"
   ]
  },
  {
   "cell_type": "code",
   "execution_count": 11,
   "metadata": {},
   "outputs": [],
   "source": [
    "all_amenities = all_amenities.difference(b)"
   ]
  },
  {
   "cell_type": "code",
   "execution_count": 13,
   "metadata": {
    "scrolled": true
   },
   "outputs": [
    {
     "data": {
      "text/plain": [
       "{'\"24-Hour Check-in\"',\n",
       " '\"Air Conditioning\"',\n",
       " '\"Buzzer/Wireless Intercom\"',\n",
       " '\"Cable TV\"',\n",
       " '\"Carbon Monoxide Detector\"',\n",
       " '\"Elevator in Building\"',\n",
       " '\"Family/Kid Friendly\"',\n",
       " '\"Fire Extinguisher\"',\n",
       " '\"First Aid Kit\"',\n",
       " '\"Free Parking on Premises\"',\n",
       " '\"Hair Dryer\"',\n",
       " '\"Hot Tub\"',\n",
       " '\"Indoor Fireplace\"',\n",
       " '\"Laptop Friendly Workspace\"',\n",
       " '\"Lock on Bedroom Door\"',\n",
       " '\"Other pet(s)\"',\n",
       " '\"Pets Allowed\"',\n",
       " '\"Pets live on this property\"',\n",
       " '\"Safety Card\"',\n",
       " '\"Smoke Detector\"',\n",
       " '\"Smoking Allowed\"',\n",
       " '\"Suitable for Events\"',\n",
       " '\"Wheelchair Accessible\"',\n",
       " '\"Wireless Internet\"',\n",
       " 'Breakfast',\n",
       " 'Cat(s)',\n",
       " 'Dog(s)',\n",
       " 'Doorman',\n",
       " 'Dryer',\n",
       " 'Essentials',\n",
       " 'Gym',\n",
       " 'Hangers',\n",
       " 'Heating',\n",
       " 'Internet',\n",
       " 'Iron',\n",
       " 'Kitchen',\n",
       " 'Pool',\n",
       " 'Shampoo',\n",
       " 'TV',\n",
       " 'Washer'}"
      ]
     },
     "execution_count": 13,
     "metadata": {},
     "output_type": "execute_result"
    }
   ],
   "source": [
    "all_amenities"
   ]
  },
  {
   "cell_type": "code",
   "execution_count": 14,
   "metadata": {
    "collapsed": true
   },
   "outputs": [],
   "source": [
    "for amen in all_amenities:\n",
    "        \n",
    "    if len(amen.split(' ')) == 1:\n",
    "        listings['has_' + amen] = listings['amenities_set'].map(lambda x: has_amenity(x, amen))\n",
    "        listings['has_' + amen] = listings['has_' + amen].fillna(0)\n",
    "        continue\n",
    "            \n",
    "    if \"\" in amen:\n",
    "        amen = amen[1:-1].replace(' ', '_')\n",
    "            \n",
    "    listings['has_' + amen] = listings['amenities_set'].map(lambda x: has_amenity(x, amen))\n",
    "    listings['has_' + amen] = listings['has_' + amen].fillna(0)\n",
    "    \n",
    "has_amenties_list = []\n",
    "for amen in all_amenities:\n",
    "        \n",
    "    if len(amen.split(' ')) == 1:\n",
    "        has_amenties_list.append('has_' + amen)\n",
    "        continue\n",
    "            \n",
    "    if \"\" in amen:\n",
    "        amen = amen[1:-1].replace(' ', '_')\n",
    "            \n",
    "    has_amenties_list.append('has_' + amen)\n",
    "    "
   ]
  },
  {
   "cell_type": "code",
   "execution_count": 22,
   "metadata": {},
   "outputs": [
    {
     "data": {
      "text/plain": [
       "['has_Other_pet(s)',\n",
       " 'has_Essentials',\n",
       " 'has_Carbon_Monoxide_Detector',\n",
       " 'has_Elevator_in_Building',\n",
       " 'has_Indoor_Fireplace',\n",
       " 'has_Internet',\n",
       " 'has_Washer',\n",
       " 'has_Hangers',\n",
       " 'has_Buzzer/Wireless_Intercom',\n",
       " 'has_TV',\n",
       " 'has_Gym',\n",
       " 'has_Fire_Extinguisher',\n",
       " 'has_Hot_Tub',\n",
       " 'has_Cable_TV',\n",
       " 'has_Air_Conditioning',\n",
       " 'has_Suitable_for_Events',\n",
       " 'has_Kitchen',\n",
       " 'has_Family/Kid_Friendly',\n",
       " 'has_Shampoo',\n",
       " 'has_Heating',\n",
       " 'has_Hair_Dryer',\n",
       " 'has_Cat(s)',\n",
       " 'has_Smoke_Detector',\n",
       " 'has_Iron',\n",
       " 'has_Free_Parking_on_Premises',\n",
       " 'has_Pets_live_on_this_property',\n",
       " 'has_Safety_Card',\n",
       " 'has_Smoking_Allowed',\n",
       " 'has_Dryer',\n",
       " 'has_Pool',\n",
       " 'has_Pets_Allowed',\n",
       " 'has_Wheelchair_Accessible',\n",
       " 'has_First_Aid_Kit',\n",
       " 'has_Dog(s)',\n",
       " 'has_Wireless_Internet',\n",
       " 'has_Laptop_Friendly_Workspace',\n",
       " 'has_Breakfast',\n",
       " 'has_Doorman',\n",
       " 'has_Lock_on_Bedroom_Door',\n",
       " 'has_24-Hour_Check-in']"
      ]
     },
     "execution_count": 22,
     "metadata": {},
     "output_type": "execute_result"
    }
   ],
   "source": [
    "has_amenties_list"
   ]
  },
  {
   "cell_type": "code",
   "execution_count": 15,
   "metadata": {
    "scrolled": true
   },
   "outputs": [
    {
     "data": {
      "text/plain": [
       "has_Other_pet(s)                  0\n",
       "has_Essentials                    0\n",
       "has_Carbon_Monoxide_Detector      0\n",
       "has_Elevator_in_Building          0\n",
       "has_Indoor_Fireplace              0\n",
       "has_Internet                      0\n",
       "has_Washer                        0\n",
       "has_Hangers                       0\n",
       "has_Buzzer/Wireless_Intercom      0\n",
       "has_TV                            0\n",
       "has_Gym                           0\n",
       "has_Fire_Extinguisher             0\n",
       "has_Hot_Tub                       0\n",
       "has_Cable_TV                      0\n",
       "has_Air_Conditioning              0\n",
       "has_Suitable_for_Events           0\n",
       "has_Kitchen                       0\n",
       "has_Family/Kid_Friendly           0\n",
       "has_Shampoo                       0\n",
       "has_Heating                       0\n",
       "has_Hair_Dryer                    0\n",
       "has_Cat(s)                        0\n",
       "has_Smoke_Detector                0\n",
       "has_Iron                          0\n",
       "has_Free_Parking_on_Premises      0\n",
       "has_Pets_live_on_this_property    0\n",
       "has_Safety_Card                   0\n",
       "has_Smoking_Allowed               0\n",
       "has_Dryer                         0\n",
       "has_Pool                          0\n",
       "has_Pets_Allowed                  0\n",
       "has_Wheelchair_Accessible         0\n",
       "has_First_Aid_Kit                 0\n",
       "has_Dog(s)                        0\n",
       "has_Wireless_Internet             0\n",
       "has_Laptop_Friendly_Workspace     0\n",
       "has_Breakfast                     0\n",
       "has_Doorman                       0\n",
       "has_Lock_on_Bedroom_Door          0\n",
       "has_24-Hour_Check-in              0\n",
       "dtype: int64"
      ]
     },
     "execution_count": 15,
     "metadata": {},
     "output_type": "execute_result"
    }
   ],
   "source": [
    "listings[has_amenties_list].isnull().sum()"
   ]
  },
  {
   "cell_type": "code",
   "execution_count": 16,
   "metadata": {
    "collapsed": true
   },
   "outputs": [],
   "source": [
    "a = listings['host_verifications'].map(lambda x: x[1:-1]).map(lambda j: j.split(',')).map(lambda k: set(k))\n",
    "all_host_verifications = set()\n",
    "    \n",
    "for w in a.index:\n",
    "    all_host_verifications = all_host_verifications.union(a[w])\n",
    "        \n",
    "for w in all_host_verifications:\n",
    "        \n",
    "    if '' in w:\n",
    "        w = w.strip()[1:-1].replace(' ', '_')\n",
    "            \n",
    "    listings['uses_' + w] = a.map(lambda x: has_amenity(x, w))\n",
    "    listings['uses_' + w] = listings['uses_' + w].fillna(0)"
   ]
  },
  {
   "cell_type": "code",
   "execution_count": 19,
   "metadata": {
    "collapsed": true
   },
   "outputs": [],
   "source": [
    "uses_verification_list = []\n",
    "for veri in all_host_verifications:\n",
    "        \n",
    "    if '' in veri:\n",
    "        veri = veri.strip()[1:-1].replace(' ', '_')\n",
    "    \n",
    "    uses_verification_list.append('uses_' + veri)"
   ]
  },
  {
   "cell_type": "code",
   "execution_count": 21,
   "metadata": {},
   "outputs": [
    {
     "data": {
      "text/plain": [
       "uses_phone             0\n",
       "uses_linkedin          0\n",
       "uses_email             0\n",
       "uses_manual_online     0\n",
       "uses_facebook          0\n",
       "uses_amex              0\n",
       "uses_phone             0\n",
       "uses_sent_id           0\n",
       "uses_jumio             0\n",
       "uses_google            0\n",
       "uses_weibo             0\n",
       "uses_manual_offline    0\n",
       "uses_kba               0\n",
       "uses_kba               0\n",
       "uses_reviews           0\n",
       "dtype: int64"
      ]
     },
     "execution_count": 21,
     "metadata": {},
     "output_type": "execute_result"
    }
   ],
   "source": [
    "listings[uses_verification_list].isnull().sum()"
   ]
  },
  {
   "cell_type": "code",
   "execution_count": 23,
   "metadata": {},
   "outputs": [
    {
     "data": {
      "text/plain": [
       "['uses_phone',\n",
       " 'uses_linkedin',\n",
       " 'uses_email',\n",
       " 'uses_manual_online',\n",
       " 'uses_facebook',\n",
       " 'uses_amex',\n",
       " 'uses_phone',\n",
       " 'uses_sent_id',\n",
       " 'uses_jumio',\n",
       " 'uses_google',\n",
       " 'uses_weibo',\n",
       " 'uses_manual_offline',\n",
       " 'uses_kba',\n",
       " 'uses_kba',\n",
       " 'uses_reviews']"
      ]
     },
     "execution_count": 23,
     "metadata": {},
     "output_type": "execute_result"
    }
   ],
   "source": [
    "uses_verification_list"
   ]
  },
  {
   "cell_type": "code",
   "execution_count": 25,
   "metadata": {},
   "outputs": [
    {
     "data": {
      "text/plain": [
       "0               { 'phone',  'jumio',  'reviews', 'email'}\n",
       "1       { 'phone',  'manual_online',  'jumio',  'revie...\n",
       "2                                   { 'reviews', 'phone'}\n",
       "3               { 'phone',  'jumio',  'reviews', 'email'}\n",
       "4       { 'phone',  'kba',  'reviews',  'facebook', 'e...\n",
       "5       { 'phone',  'kba',  'reviews',  'facebook', 'e...\n",
       "6                 { 'phone',  'kba',  'reviews', 'email'}\n",
       "7                 { 'phone',  'kba',  'reviews', 'email'}\n",
       "8                 { 'phone',  'kba',  'reviews', 'email'}\n",
       "9               { 'phone',  'jumio',  'reviews', 'email'}\n",
       "10                        { 'phone',  'reviews', 'email'}\n",
       "11                                    { 'phone', 'email'}\n",
       "12                        { 'phone',  'reviews', 'email'}\n",
       "13              { 'phone',  'jumio',  'reviews', 'email'}\n",
       "14              { 'phone',  'jumio',  'reviews', 'email'}\n",
       "15              { 'phone',  'jumio',  'reviews', 'email'}\n",
       "16              { 'phone',  'jumio',  'reviews', 'email'}\n",
       "17              { 'phone',  'jumio',  'reviews', 'email'}\n",
       "18              { 'phone',  'jumio',  'reviews', 'email'}\n",
       "19      { 'phone',  'kba',  'reviews',  'facebook', 'e...\n",
       "20                { 'phone',  'kba',  'reviews', 'email'}\n",
       "21                { 'phone',  'kba',  'reviews', 'email'}\n",
       "22              { 'phone',  'jumio',  'reviews', 'email'}\n",
       "23           { 'phone',  'reviews',  'facebook', 'email'}\n",
       "24                { 'phone',  'kba',  'reviews', 'email'}\n",
       "25                { 'phone',  'kba',  'reviews', 'email'}\n",
       "26      { 'phone',  'jumio',  'reviews',  'facebook', ...\n",
       "27                                    { 'phone', 'email'}\n",
       "28                        { 'phone',  'reviews', 'email'}\n",
       "29           { 'phone',  'reviews',  'facebook', 'email'}\n",
       "                              ...                        \n",
       "6578                                  { 'phone', 'email'}\n",
       "6579             { 'phone',  'google',  'jumio', 'email'}\n",
       "6580              { 'phone',  'kba',  'reviews', 'email'}\n",
       "6581                      { 'phone',  'reviews', 'email'}\n",
       "6582    { 'phone',  'jumio',  'reviews',  'facebook', ...\n",
       "6583            { 'phone',  'jumio',  'reviews', 'email'}\n",
       "6584            { 'phone',  'jumio',  'reviews', 'email'}\n",
       "6585                                  { 'phone', 'email'}\n",
       "6586                                  { 'phone', 'email'}\n",
       "6587                                  { 'phone', 'email'}\n",
       "6588         { 'phone',  'reviews',  'facebook', 'email'}\n",
       "6589            { 'phone',  'jumio',  'reviews', 'email'}\n",
       "6590    { 'phone',  'kba',  'reviews',  'facebook', 'e...\n",
       "6591              { 'phone',  'kba',  'reviews', 'email'}\n",
       "6592    { 'phone',  'jumio',  'reviews',  'facebook', ...\n",
       "6593                      { 'phone',  'reviews', 'email'}\n",
       "6594                                            {'phone'}\n",
       "6595              { 'phone',  'kba',  'reviews', 'email'}\n",
       "6596                                  { 'phone', 'email'}\n",
       "6597            { 'phone',  'jumio',  'reviews', 'email'}\n",
       "6598    { 'phone',  'jumio',  'reviews',  'facebook', ...\n",
       "6599                                  { 'phone', 'email'}\n",
       "6600    { 'phone',  'google',  'kba',  'linkedin', 'em...\n",
       "6601                      { 'phone',  'reviews', 'email'}\n",
       "6602            { 'phone',  'jumio',  'reviews', 'email'}\n",
       "6603              { 'phone',  'kba',  'reviews', 'email'}\n",
       "6604            { 'phone',  'jumio',  'reviews', 'email'}\n",
       "6605                      { 'phone',  'reviews', 'email'}\n",
       "6606    { 'phone', 'email',  'facebook',  'amex',  'kb...\n",
       "6607                     { 'phone',  'facebook', 'email'}\n",
       "Name: host_verifications, dtype: object"
      ]
     },
     "execution_count": 25,
     "metadata": {},
     "output_type": "execute_result"
    }
   ],
   "source": [
    "listings['host_verifications'].map(lambda x: x[1:-1]).map(lambda j: j.split(',')).map(lambda k: set(k))"
   ]
  },
  {
   "cell_type": "code",
   "execution_count": 26,
   "metadata": {},
   "outputs": [
    {
     "data": {
      "text/plain": [
       "0       {Essentials, \"Family/Kid Friendly\", TV, Shampo...\n",
       "1       {Essentials, \"Carbon Monoxide Detector\", Shamp...\n",
       "2       {Essentials, \"Family/Kid Friendly\", TV, Dryer,...\n",
       "3       {Hangers, Essentials, \"Family/Kid Friendly\", T...\n",
       "4       {Essentials, \"Indoor Fireplace\", Internet, Was...\n",
       "5       {Essentials, \"Indoor Fireplace\", Internet, Was...\n",
       "6       {Essentials, TV, Heating, Dog(s), \"Carbon Mono...\n",
       "7       {TV, \"Indoor Fireplace\", Heating, Dog(s), \"Wir...\n",
       "8       {TV, \"Indoor Fireplace\", \"Smoke Detector\", Hea...\n",
       "9       {Shampoo, \"Laptop Friendly Workspace\", Hangers...\n",
       "10      {\"translation missing: en.hosting_amenity_50\",...\n",
       "11      {\"Laptop Friendly Workspace\", Essentials, TV, ...\n",
       "12      {Essentials, \"Indoor Fireplace\", Washer, Hange...\n",
       "13      {\"Laptop Friendly Workspace\", Essentials, TV, ...\n",
       "14      {Essentials, \"Indoor Fireplace\", Internet, Was...\n",
       "15      {\"Indoor Fireplace\", Internet, Washer, Hangers...\n",
       "16      {Essentials, \"Indoor Fireplace\", Washer, Hange...\n",
       "17      {Essentials, \"Family/Kid Friendly\", TV, Shampo...\n",
       "18      {\"Indoor Fireplace\", Washer, Hangers, TV, Gym,...\n",
       "19      {Essentials, \"Family/Kid Friendly\", TV, Dryer,...\n",
       "20      {Hangers, Essentials, \"Family/Kid Friendly\", T...\n",
       "21      {\"translation missing: en.hosting_amenity_50\",...\n",
       "22      {Essentials, \"Carbon Monoxide Detector\", Inter...\n",
       "23                                   {\"Air Conditioning\"}\n",
       "24      {Essentials, \"Carbon Monoxide Detector\", \"tran...\n",
       "25      {\"Lock on Bedroom Door\", Hangers, Essentials, ...\n",
       "26      {Shampoo, Hangers, Essentials, \"Family/Kid Fri...\n",
       "27      {Hangers, Essentials, TV, Shampoo, \"Lock on Be...\n",
       "28      {\"Laptop Friendly Workspace\", Essentials, \"Fam...\n",
       "29                                                     {}\n",
       "                              ...                        \n",
       "6578    {\"translation missing: en.hosting_amenity_50\",...\n",
       "6579    {Hangers, Essentials, \"Family/Kid Friendly\", \"...\n",
       "6580    {\"Smoking Allowed\", Hangers, Essentials, TV, S...\n",
       "6581    {\"Smoking Allowed\", Essentials, TV, Shampoo, G...\n",
       "6582    {Essentials, \"Carbon Monoxide Detector\", \"Indo...\n",
       "6583    {\"Laptop Friendly Workspace\", Gym, Shampoo, \"H...\n",
       "6584    {Essentials, TV, \"Hot Tub\", \"Hair Dryer\", \"Wir...\n",
       "6585    {Essentials, \"Carbon Monoxide Detector\", Inter...\n",
       "6586    {Hangers, Essentials, \"Family/Kid Friendly\", T...\n",
       "6587    {Essentials, \"Family/Kid Friendly\", Gym, \"Pets...\n",
       "6588    {Hangers, Essentials, \"Carbon Monoxide Detecto...\n",
       "6589    {Hangers, Essentials, \"Family/Kid Friendly\", \"...\n",
       "6590    {Essentials, \"Carbon Monoxide Detector\", \"Elev...\n",
       "6591    {Shampoo, \"translation missing: en.hosting_ame...\n",
       "6592    {Hangers, Essentials, \"Family/Kid Friendly\", T...\n",
       "6593    {\"Laptop Friendly Workspace\", Hangers, Essenti...\n",
       "6594    {Essentials, \"Family/Kid Friendly\", TV, Gym, \"...\n",
       "6595    {Essentials, \"Carbon Monoxide Detector\", \"Indo...\n",
       "6596    {Essentials, \"Family/Kid Friendly\", TV, \"Fire ...\n",
       "6597    {\"Laptop Friendly Workspace\", Hangers, Essenti...\n",
       "6598    {Essentials, \"Carbon Monoxide Detector\", Dryer...\n",
       "6599    {Hangers, Essentials, TV, Shampoo, \"translatio...\n",
       "6600    {Essentials, \"Carbon Monoxide Detector\", \"Indo...\n",
       "6601    {Essentials, \"Family/Kid Friendly\", TV, Gym, \"...\n",
       "6602    {Essentials, Shampoo, \"Pets Allowed\", \"First A...\n",
       "6603    {\"translation missing: en.hosting_amenity_50\",...\n",
       "6604    {Hangers, TV, Dryer, \"Fire Extinguisher\", \"Ind...\n",
       "6605    {Hangers, Essentials, \"Family/Kid Friendly\", T...\n",
       "6606    {Essentials, \"Carbon Monoxide Detector\", \"tran...\n",
       "6607    {\"translation missing: en.hosting_amenity_50\",...\n",
       "Name: amenities_set, dtype: object"
      ]
     },
     "execution_count": 26,
     "metadata": {},
     "output_type": "execute_result"
    }
   ],
   "source": [
    "listings['amenities_set']"
   ]
  },
  {
   "cell_type": "code",
   "execution_count": null,
   "metadata": {
    "collapsed": true
   },
   "outputs": [],
   "source": []
  }
 ],
 "metadata": {
  "anaconda-cloud": {},
  "kernelspec": {
   "display_name": "Python [conda env:py27]",
   "language": "python",
   "name": "conda-env-py27-py"
  },
  "language_info": {
   "codemirror_mode": {
    "name": "ipython",
    "version": 2
   },
   "file_extension": ".py",
   "mimetype": "text/x-python",
   "name": "python",
   "nbconvert_exporter": "python",
   "pygments_lexer": "ipython2",
   "version": "2.7.12"
  }
 },
 "nbformat": 4,
 "nbformat_minor": 2
}
