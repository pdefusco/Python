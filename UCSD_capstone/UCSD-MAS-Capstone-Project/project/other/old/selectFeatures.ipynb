{
 "cells": [
  {
   "cell_type": "markdown",
   "metadata": {},
   "source": [
    "# Select Features"
   ]
  },
  {
   "cell_type": "markdown",
   "metadata": {},
   "source": [
    "Notebook used to automate feature selection; this notebook takes as input the features output by the regressions notebook; it then ranks them in order of importance"
   ]
  },
  {
   "cell_type": "code",
   "execution_count": 1,
   "metadata": {
    "collapsed": true
   },
   "outputs": [],
   "source": [
    "from sklearn.feature_selection import RFECV\n",
    "from sklearn.svm import SVR\n",
    "import pandas as pd\n",
    "from sklearn.linear_model import LinearRegression\n",
    "import numpy as np"
   ]
  },
  {
   "cell_type": "code",
   "execution_count": 2,
   "metadata": {
    "collapsed": true
   },
   "outputs": [],
   "source": [
    "master = pd.read_parquet('master.parquet',engine='fastparquet')"
   ]
  },
  {
   "cell_type": "code",
   "execution_count": 3,
   "metadata": {
    "collapsed": true
   },
   "outputs": [],
   "source": [
    "mask = (master['date'] > '2017-07-01') & (master['date'] <= '2017-10-07')"
   ]
  },
  {
   "cell_type": "code",
   "execution_count": 4,
   "metadata": {
    "collapsed": true
   },
   "outputs": [],
   "source": [
    "new = master.loc[mask]\n",
    "new = new.reset_index()\n",
    "X = new.drop(columns='index')"
   ]
  },
  {
   "cell_type": "code",
   "execution_count": 5,
   "metadata": {
    "collapsed": true
   },
   "outputs": [],
   "source": [
    "new = new.select_dtypes(include=['float64','int64'])"
   ]
  },
  {
   "cell_type": "code",
   "execution_count": 6,
   "metadata": {
    "collapsed": true
   },
   "outputs": [],
   "source": [
    "X = new.replace([np.inf, -np.inf], np.nan)\n",
    "X = X.fillna(X.mean())"
   ]
  },
  {
   "cell_type": "code",
   "execution_count": 7,
   "metadata": {
    "collapsed": true
   },
   "outputs": [],
   "source": [
    "X = X.drop('price_y', axis = 1)\n",
    "y = new['price_y']"
   ]
  },
  {
   "cell_type": "code",
   "execution_count": 8,
   "metadata": {
    "collapsed": true
   },
   "outputs": [],
   "source": [
    "X = X.drop('index', axis=1)"
   ]
  },
  {
   "cell_type": "code",
   "execution_count": 9,
   "metadata": {
    "collapsed": true
   },
   "outputs": [],
   "source": [
    "X = X.drop('scrape_id', axis=1)"
   ]
  },
  {
   "cell_type": "code",
   "execution_count": 10,
   "metadata": {
    "collapsed": true
   },
   "outputs": [],
   "source": [
    "X = X.drop('neighbourhood_group_cleansed', axis=1)"
   ]
  },
  {
   "cell_type": "code",
   "execution_count": 11,
   "metadata": {
    "collapsed": true
   },
   "outputs": [],
   "source": [
    "X = X.drop('has_availability', axis=1)"
   ]
  },
  {
   "cell_type": "code",
   "execution_count": 12,
   "metadata": {
    "collapsed": true
   },
   "outputs": [],
   "source": [
    "X = X.drop('license', axis=1)"
   ]
  },
  {
   "cell_type": "code",
   "execution_count": 13,
   "metadata": {},
   "outputs": [
    {
     "data": {
      "text/html": [
       "<div>\n",
       "<style scoped>\n",
       "    .dataframe tbody tr th:only-of-type {\n",
       "        vertical-align: middle;\n",
       "    }\n",
       "\n",
       "    .dataframe tbody tr th {\n",
       "        vertical-align: top;\n",
       "    }\n",
       "\n",
       "    .dataframe thead th {\n",
       "        text-align: right;\n",
       "    }\n",
       "</style>\n",
       "<table border=\"1\" class=\"dataframe\">\n",
       "  <thead>\n",
       "    <tr style=\"text-align: right;\">\n",
       "      <th></th>\n",
       "      <th>id</th>\n",
       "      <th>host_id</th>\n",
       "      <th>host_listings_count</th>\n",
       "      <th>host_total_listings_count</th>\n",
       "      <th>zipcode</th>\n",
       "      <th>latitude</th>\n",
       "      <th>longitude</th>\n",
       "      <th>accommodates</th>\n",
       "      <th>bathrooms</th>\n",
       "      <th>bedrooms</th>\n",
       "      <th>...</th>\n",
       "      <th>calculated_host_listings_count</th>\n",
       "      <th>reviews_per_month</th>\n",
       "      <th>listing_id</th>\n",
       "      <th>transit_length</th>\n",
       "      <th>transit_variety</th>\n",
       "      <th>transit_vocab_size</th>\n",
       "      <th>transitTextLength</th>\n",
       "      <th>transitTextWordsPerc</th>\n",
       "      <th>transitTextPuncPerc</th>\n",
       "      <th>transitTextDigitsPerc</th>\n",
       "    </tr>\n",
       "  </thead>\n",
       "  <tbody>\n",
       "    <tr>\n",
       "      <th>0</th>\n",
       "      <td>13124681</td>\n",
       "      <td>66918996</td>\n",
       "      <td>1</td>\n",
       "      <td>1</td>\n",
       "      <td>91915.0</td>\n",
       "      <td>32.638694</td>\n",
       "      <td>-116.951252</td>\n",
       "      <td>4</td>\n",
       "      <td>1.5</td>\n",
       "      <td>2.0</td>\n",
       "      <td>...</td>\n",
       "      <td>1</td>\n",
       "      <td>3.0</td>\n",
       "      <td>13124681</td>\n",
       "      <td>3</td>\n",
       "      <td>1</td>\n",
       "      <td>2</td>\n",
       "      <td>1</td>\n",
       "      <td>1.0</td>\n",
       "      <td>0.0</td>\n",
       "      <td>0.0</td>\n",
       "    </tr>\n",
       "    <tr>\n",
       "      <th>1</th>\n",
       "      <td>13124681</td>\n",
       "      <td>66918996</td>\n",
       "      <td>1</td>\n",
       "      <td>1</td>\n",
       "      <td>91915.0</td>\n",
       "      <td>32.638694</td>\n",
       "      <td>-116.951252</td>\n",
       "      <td>4</td>\n",
       "      <td>1.5</td>\n",
       "      <td>2.0</td>\n",
       "      <td>...</td>\n",
       "      <td>1</td>\n",
       "      <td>3.0</td>\n",
       "      <td>13124681</td>\n",
       "      <td>3</td>\n",
       "      <td>1</td>\n",
       "      <td>2</td>\n",
       "      <td>1</td>\n",
       "      <td>1.0</td>\n",
       "      <td>0.0</td>\n",
       "      <td>0.0</td>\n",
       "    </tr>\n",
       "    <tr>\n",
       "      <th>2</th>\n",
       "      <td>13124681</td>\n",
       "      <td>66918996</td>\n",
       "      <td>1</td>\n",
       "      <td>1</td>\n",
       "      <td>91915.0</td>\n",
       "      <td>32.638694</td>\n",
       "      <td>-116.951252</td>\n",
       "      <td>4</td>\n",
       "      <td>1.5</td>\n",
       "      <td>2.0</td>\n",
       "      <td>...</td>\n",
       "      <td>1</td>\n",
       "      <td>3.0</td>\n",
       "      <td>13124681</td>\n",
       "      <td>3</td>\n",
       "      <td>1</td>\n",
       "      <td>2</td>\n",
       "      <td>1</td>\n",
       "      <td>1.0</td>\n",
       "      <td>0.0</td>\n",
       "      <td>0.0</td>\n",
       "    </tr>\n",
       "  </tbody>\n",
       "</table>\n",
       "<p>3 rows × 37 columns</p>\n",
       "</div>"
      ],
      "text/plain": [
       "         id   host_id  host_listings_count  host_total_listings_count  \\\n",
       "0  13124681  66918996                    1                          1   \n",
       "1  13124681  66918996                    1                          1   \n",
       "2  13124681  66918996                    1                          1   \n",
       "\n",
       "   zipcode   latitude   longitude  accommodates  bathrooms  bedrooms  \\\n",
       "0  91915.0  32.638694 -116.951252             4        1.5       2.0   \n",
       "1  91915.0  32.638694 -116.951252             4        1.5       2.0   \n",
       "2  91915.0  32.638694 -116.951252             4        1.5       2.0   \n",
       "\n",
       "           ...            calculated_host_listings_count  reviews_per_month  \\\n",
       "0          ...                                         1                3.0   \n",
       "1          ...                                         1                3.0   \n",
       "2          ...                                         1                3.0   \n",
       "\n",
       "   listing_id  transit_length  transit_variety  transit_vocab_size  \\\n",
       "0    13124681               3                1                   2   \n",
       "1    13124681               3                1                   2   \n",
       "2    13124681               3                1                   2   \n",
       "\n",
       "   transitTextLength  transitTextWordsPerc  transitTextPuncPerc  \\\n",
       "0                  1                   1.0                  0.0   \n",
       "1                  1                   1.0                  0.0   \n",
       "2                  1                   1.0                  0.0   \n",
       "\n",
       "   transitTextDigitsPerc  \n",
       "0                    0.0  \n",
       "1                    0.0  \n",
       "2                    0.0  \n",
       "\n",
       "[3 rows x 37 columns]"
      ]
     },
     "execution_count": 13,
     "metadata": {},
     "output_type": "execute_result"
    }
   ],
   "source": [
    "X.head(3)"
   ]
  },
  {
   "cell_type": "code",
   "execution_count": 14,
   "metadata": {
    "collapsed": true
   },
   "outputs": [],
   "source": [
    "y = y.replace([np.inf, -np.inf], np.nan)\n",
    "y = y.fillna(y.mean())"
   ]
  },
  {
   "cell_type": "code",
   "execution_count": 15,
   "metadata": {
    "collapsed": true
   },
   "outputs": [],
   "source": [
    "X = X.astype(float)\n",
    "y = y.astype(float)"
   ]
  },
  {
   "cell_type": "code",
   "execution_count": 16,
   "metadata": {
    "collapsed": true
   },
   "outputs": [],
   "source": [
    "include = ['accommodates',\n",
    "'bathrooms',\n",
    "'bedrooms',\n",
    "'square_feet',\n",
    "'guests_included',\n",
    "'minimum_nights',\n",
    "'maximum_nights',\n",
    "'availability_30',\n",
    "'availability_60',\n",
    "'availability_90',\n",
    "'availability_365',\n",
    "'number_of_reviews',\n",
    "'review_scores_rating',\n",
    "'review_scores_accuracy',\n",
    "'review_scores_cleanliness',\n",
    "'review_scores_checkin',\n",
    "'review_scores_communication',\n",
    "'review_scores_location',\n",
    "'review_scores_value',\n",
    "'calculated_host_listings_count',\n",
    "'reviews_per_month',\n",
    "'transit_length',\n",
    "'transit_variety',\n",
    "'transit_vocab_size',\n",
    "'transitTextLength',\n",
    "'transitTextWordsPerc',\n",
    "'transitTextPuncPerc',\n",
    "'transitTextDigitsPerc']"
   ]
  },
  {
   "cell_type": "markdown",
   "metadata": {},
   "source": [
    "Estimation with Epsilon Support Vector Regression"
   ]
  },
  {
   "cell_type": "code",
   "execution_count": null,
   "metadata": {
    "collapsed": true
   },
   "outputs": [],
   "source": [
    "#This one will freeze"
   ]
  },
  {
   "cell_type": "code",
   "execution_count": null,
   "metadata": {
    "collapsed": true
   },
   "outputs": [],
   "source": [
    "estimator1 = SVR(kernel=\"linear\")\n",
    "selector1 = RFECV(estimator1, step=3, cv=5)\n",
    "selector1 = selector1.fit(X[include], y)"
   ]
  },
  {
   "cell_type": "code",
   "execution_count": null,
   "metadata": {
    "collapsed": true
   },
   "outputs": [],
   "source": [
    "selector1.support_ "
   ]
  },
  {
   "cell_type": "code",
   "execution_count": null,
   "metadata": {
    "collapsed": true
   },
   "outputs": [],
   "source": [
    "selector1.ranking_"
   ]
  },
  {
   "cell_type": "code",
   "execution_count": null,
   "metadata": {
    "collapsed": true
   },
   "outputs": [],
   "source": [
    "for i,k in zip(X.columns, selector1.ranking_):\n",
    "    print i,k"
   ]
  },
  {
   "cell_type": "markdown",
   "metadata": {},
   "source": [
    "Estimation with Linear Regression"
   ]
  },
  {
   "cell_type": "code",
   "execution_count": 17,
   "metadata": {
    "collapsed": true
   },
   "outputs": [],
   "source": [
    "estimator2 = LinearRegression()\n",
    "selector2 = RFECV(estimator2, step=3, cv=5)\n",
    "selector2 = selector2.fit(X[include], y)"
   ]
  },
  {
   "cell_type": "code",
   "execution_count": 18,
   "metadata": {},
   "outputs": [
    {
     "data": {
      "text/plain": [
       "array([ True,  True,  True, False, False, False, False, False, False,\n",
       "       False, False, False, False,  True,  True,  True,  True,  True,\n",
       "        True, False,  True, False,  True, False, False, False,  True,  True], dtype=bool)"
      ]
     },
     "execution_count": 18,
     "metadata": {},
     "output_type": "execute_result"
    }
   ],
   "source": [
    "selector2.support_ "
   ]
  },
  {
   "cell_type": "code",
   "execution_count": 19,
   "metadata": {},
   "outputs": [
    {
     "data": {
      "text/plain": [
       "array([1, 1, 1, 5, 5, 2, 6, 4, 3, 6, 6, 4, 2, 1, 1, 1, 1, 1, 1, 3, 1, 3, 1,\n",
       "       5, 2, 4, 1, 1])"
      ]
     },
     "execution_count": 19,
     "metadata": {},
     "output_type": "execute_result"
    }
   ],
   "source": [
    "selector2.ranking_"
   ]
  },
  {
   "cell_type": "code",
   "execution_count": 20,
   "metadata": {},
   "outputs": [
    {
     "name": "stdout",
     "output_type": "stream",
     "text": [
      "id 1\n",
      "host_id 1\n",
      "host_listings_count 1\n",
      "host_total_listings_count 5\n",
      "zipcode 5\n",
      "latitude 2\n",
      "longitude 6\n",
      "accommodates 4\n",
      "bathrooms 3\n",
      "bedrooms 6\n",
      "beds 6\n",
      "square_feet 4\n",
      "guests_included 2\n",
      "minimum_nights 1\n",
      "maximum_nights 1\n",
      "availability_30 1\n",
      "availability_60 1\n",
      "availability_90 1\n",
      "availability_365 1\n",
      "number_of_reviews 3\n",
      "review_scores_rating 1\n",
      "review_scores_accuracy 3\n",
      "review_scores_cleanliness 1\n",
      "review_scores_checkin 5\n",
      "review_scores_communication 2\n",
      "review_scores_location 4\n",
      "review_scores_value 1\n",
      "calculated_host_listings_count 1\n"
     ]
    }
   ],
   "source": [
    "for i,k in zip(X.columns, selector2.ranking_):\n",
    "    print i,k"
   ]
  },
  {
   "cell_type": "code",
   "execution_count": null,
   "metadata": {
    "collapsed": true
   },
   "outputs": [],
   "source": []
  }
 ],
 "metadata": {
  "kernelspec": {
   "display_name": "Python 2",
   "language": "python",
   "name": "python2"
  },
  "language_info": {
   "codemirror_mode": {
    "name": "ipython",
    "version": 2
   },
   "file_extension": ".py",
   "mimetype": "text/x-python",
   "name": "python",
   "nbconvert_exporter": "python",
   "pygments_lexer": "ipython2",
   "version": "2.7.14"
  }
 },
 "nbformat": 4,
 "nbformat_minor": 2
}
