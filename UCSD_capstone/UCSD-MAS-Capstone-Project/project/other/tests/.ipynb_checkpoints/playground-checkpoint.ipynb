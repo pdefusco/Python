{
 "cells": [
  {
   "cell_type": "markdown",
   "metadata": {},
   "source": [
    "Toy noteobook to try out things"
   ]
  },
  {
   "cell_type": "code",
   "execution_count": 1,
   "metadata": {
    "collapsed": true
   },
   "outputs": [],
   "source": [
    "import numpy as np\n",
    "import pandas as pd"
   ]
  },
  {
   "cell_type": "code",
   "execution_count": 8,
   "metadata": {},
   "outputs": [
    {
     "name": "stderr",
     "output_type": "stream",
     "text": [
      "/Users/pauldefusco/anaconda2/envs/py27/lib/python2.7/site-packages/statsmodels/compat/pandas.py:56: FutureWarning: The pandas.core.datetools module is deprecated and will be removed in a future version. Please use the pandas.tseries module instead.\n",
      "  from pandas.core import datetools\n"
     ]
    }
   ],
   "source": [
    "import sys\n",
    "sys.path.append('./lib')\n",
    "from airbnb_modeling import detect_feature_importance, scale_data, normalize_data, eval_metrics, plot_residuals, plot_predictions\n",
    "from parse_methods import parse_columns\n",
    "from airbnb_modeling import detect_interactions, add_interactions, map_variable, plot_rmse_instances,plot_rmse_features\n",
    "#from filename import methodname\n",
    "#from airbnb_modeling import\n",
    "#from airbnb_modeling import"
   ]
  },
  {
   "cell_type": "code",
   "execution_count": 3,
   "metadata": {},
   "outputs": [
    {
     "data": {
      "text/plain": [
       "array([7.94328235e-01, 1.77123368e+00, 3.94958736e+00, 8.80699168e+00,\n",
       "       1.96382800e+01, 4.37904401e+01, 9.76461608e+01, 2.17736398e+02,\n",
       "       4.85519745e+02, 1.08263673e+03, 2.41411870e+03, 5.38312523e+03,\n",
       "       1.20035677e+04, 2.67661685e+04, 5.96845700e+04, 1.33087703e+05,\n",
       "       2.96765761e+05, 6.61743456e+05, 1.47558937e+06, 3.29034456e+06,\n",
       "       7.33697841e+06, 1.63603693e+07, 3.64811874e+07, 8.13476156e+07,\n",
       "       1.81393069e+08, 4.04479534e+08, 9.01929130e+08, 2.01116766e+09,\n",
       "       4.48460439e+09, 1.00000000e+10])"
      ]
     },
     "execution_count": 3,
     "metadata": {},
     "output_type": "execute_result"
    }
   ],
   "source": [
    "np.logspace(-0.1, 10, 30)"
   ]
  },
  {
   "cell_type": "code",
   "execution_count": 4,
   "metadata": {
    "collapsed": true
   },
   "outputs": [],
   "source": [
    "listings = pd.read_csv('Datasources/listings_augmented/listings_augmented_2018-05-31_V3.csv',low_memory=False)\n",
    "listings = listings.drop(listings.index[4323:4325])\n",
    "listings.index = [i for i in range(len(listings))]"
   ]
  },
  {
   "cell_type": "code",
   "execution_count": 5,
   "metadata": {
    "collapsed": true
   },
   "outputs": [],
   "source": [
    "#Excluded variables from the featuresExploration notebook\n",
    "%store -r excluded"
   ]
  },
  {
   "cell_type": "code",
   "execution_count": 6,
   "metadata": {
    "collapsed": true
   },
   "outputs": [],
   "source": [
    "cols = [i for i in listings.columns if i not in excluded]\n",
    "X = listings[cols]\n",
    "X = X.fillna(X.mean())"
   ]
  },
  {
   "cell_type": "code",
   "execution_count": 9,
   "metadata": {
    "collapsed": true
   },
   "outputs": [],
   "source": [
    "X = parse_columns(X, ['has_Pets_Allowed',\n",
    "'has_Wheelchair_Accessible',\n",
    " 'has_First_Aid_Kit',\n",
    " 'has_Cat(s)',\n",
    " 'has_24-Hour_Check-in',\n",
    " 'uses_jumio',\n",
    "'description-Topic0',\n",
    " 'description-Topic1',\n",
    " 'description-Topic4',\n",
    " 'description-Topic5',\n",
    " 'description-Topic6',\n",
    " 'description-Topic10',\n",
    " 'description-Topic11',\n",
    " 'description-Topic12',\n",
    " 'description-Topic13',\n",
    " 'description-Topic15',\n",
    " 'description-Topic17',\n",
    " 'description-Topic18',\n",
    " 'description-Dominant_Topic'])"
   ]
  },
  {
   "cell_type": "code",
   "execution_count": 21,
   "metadata": {
    "collapsed": true
   },
   "outputs": [],
   "source": [
    "X = X[[i for i in X.columns if i not in X.filter(regex='enc').columns]]\n",
    "donotscale = X.filter(regex='bin').columns\n",
    "cols = [i for i in X.columns if i not in donotscale]\n",
    "helper_df = normalize_data(X[cols])\n",
    "X_normed = helper_df.merge(X[donotscale], right_index=True, left_index=True)"
   ]
  },
  {
   "cell_type": "code",
   "execution_count": 22,
   "metadata": {
    "collapsed": true
   },
   "outputs": [],
   "source": [
    "y_normed = X_normed['price_y'].fillna(X_normed['price_y'].mean())\n",
    "X_normed = X_normed[X_normed.columns.drop(X_normed[list(X_normed.filter(regex='price'))])]"
   ]
  },
  {
   "cell_type": "code",
   "execution_count": null,
   "metadata": {
    "collapsed": true
   },
   "outputs": [],
   "source": []
  },
  {
   "cell_type": "code",
   "execution_count": 11,
   "metadata": {},
   "outputs": [
    {
     "data": {
      "text/plain": [
       "Index([u'description-Topic0', u'description-Topic1', u'description-Topic2',\n",
       "       u'description-Topic3', u'description-Topic4', u'description-Topic5',\n",
       "       u'description-Topic6', u'description-Topic7', u'description-Topic8',\n",
       "       u'description-Topic9',\n",
       "       ...\n",
       "       u'park_count_5km', u'distance_to_closest_park_km',\n",
       "       u'closest_park_full_name_enc', u'park_type_enc',\n",
       "       u'all_events_within_1_km_at_min_distance_bin',\n",
       "       u'all_events_within_3_km_at_min_distance_bin',\n",
       "       u'all_events_within_5_km_at_min_distance_bin', u'days_since_host',\n",
       "       u'calendar_updated_numeric', u'amenity_level_enc'],\n",
       "      dtype='object', length=147)"
      ]
     },
     "execution_count": 11,
     "metadata": {},
     "output_type": "execute_result"
    }
   ],
   "source": [
    "X_normed.columns"
   ]
  },
  {
   "cell_type": "code",
   "execution_count": 26,
   "metadata": {},
   "outputs": [
    {
     "data": {
      "text/plain": [
       "Index([u'event_count_1km', u'event_count_3km', u'event_count_5km',\n",
       "       u'distance_to_closest_event_km', u'count_of_events_at_min_distance',\n",
       "       u'all_events_within_1_km_at_min_distance_bin',\n",
       "       u'all_events_within_3_km_at_min_distance_bin',\n",
       "       u'all_events_within_5_km_at_min_distance_bin'],\n",
       "      dtype='object')"
      ]
     },
     "execution_count": 26,
     "metadata": {},
     "output_type": "execute_result"
    }
   ],
   "source": [
    "X_normed.filter(regex='event').columns"
   ]
  },
  {
   "cell_type": "code",
   "execution_count": 45,
   "metadata": {
    "collapsed": true
   },
   "outputs": [],
   "source": [
    "other = ['calculated_host_listings_count','extra_people', 'minimum_nights', 'number_of_reviews']\n",
    "candidates = list(X_normed.filter(regex='event').columns) + list(X_normed.filter(regex='park').columns) + list(X_normed.filter(regex='ocean').columns) + list(X_normed.filter(regex='ratio').columns) + other"
   ]
  },
  {
   "cell_type": "code",
   "execution_count": 72,
   "metadata": {
    "collapsed": true
   },
   "outputs": [],
   "source": [
    "import itertools\n",
    "a = []\n",
    "for subset in itertools.combinations(candidates, 2):\n",
    "    a.append(subset)"
   ]
  },
  {
   "cell_type": "code",
   "execution_count": 88,
   "metadata": {
    "collapsed": true
   },
   "outputs": [],
   "source": [
    "new = [i for i in a if \"bin\" not in i[0] and \"bin\" not in i[1]]"
   ]
  },
  {
   "cell_type": "code",
   "execution_count": 91,
   "metadata": {
    "collapsed": true
   },
   "outputs": [],
   "source": [
    "for i in new:\n",
    "    name = str(i[0]) + '/' + str(i[1]) + '_ratio'\n",
    "    X_normed[name] = X_normed[i[0]]/X_normed[i[1]]"
   ]
  },
  {
   "cell_type": "code",
   "execution_count": 3,
   "metadata": {},
   "outputs": [
    {
     "name": "stdout",
     "output_type": "stream",
     "text": [
      "1\n",
      "6\n"
     ]
    }
   ],
   "source": [
    "for i in range(1,10,5):\n",
    "    print i"
   ]
  },
  {
   "cell_type": "code",
   "execution_count": 5,
   "metadata": {
    "collapsed": true
   },
   "outputs": [],
   "source": [
    "import numpy as np"
   ]
  },
  {
   "cell_type": "code",
   "execution_count": 16,
   "metadata": {
    "collapsed": true
   },
   "outputs": [],
   "source": [
    "import matplotlib.pyplot as plt\n",
    "from mpl_toolkits.mplot3d import Axes3D"
   ]
  },
  {
   "cell_type": "code",
   "execution_count": 61,
   "metadata": {},
   "outputs": [],
   "source": [
    "def f(n_estimators, max_features):\n",
    "    \n",
    "    #param_grid = [{'n_estimators':n_estimators, 'max_features':max_features},]\n",
    "    #rfr = RandomForestRegressor()\n",
    "    #gs = GridSearchCV(new_for_reg, param_grid, cv=4, scoring='neg_mean_squared_error')\n",
    "    #rfr_scores = cross_validate(gs, X_train, y_train, cv=4, scoring='neg_mean_squared_error')\n",
    "    \n",
    "    return (np.sin(x*5)*np.cos(y*5))"
   ]
  },
  {
   "cell_type": "code",
   "execution_count": 62,
   "metadata": {},
   "outputs": [],
   "source": [
    "x = np.linspace(-6, 6, 30)\n",
    "y = np.linspace(-10, 10, 30)\n",
    "\n",
    "X, Y = np.meshgrid(x, y)\n",
    "Z = f(X, Y)"
   ]
  },
  {
   "cell_type": "code",
   "execution_count": 63,
   "metadata": {},
   "outputs": [
    {
     "data": {
      "image/png": "[encoded data removed]",
      "text/plain": [
       "<Figure size 432x288 with 1 Axes>"
      ]
     },
     "metadata": {},
     "output_type": "display_data"
    }
   ],
   "source": [
    "fig = plt.figure()\n",
    "ax = fig.add_subplot(111, projection='3d')\n",
    "ax.plot(x,y,Z)\n",
    "plt.show()"
   ]
  },
  {
   "cell_type": "code",
   "execution_count": null,
   "metadata": {},
   "outputs": [],
   "source": []
  },
  {
   "cell_type": "code",
   "execution_count": null,
   "metadata": {
    "collapsed": true
   },
   "outputs": [],
   "source": []
  }
 ],
 "metadata": {
  "kernelspec": {
   "display_name": "Python 2",
   "language": "python",
   "name": "python2"
  },
  "language_info": {
   "codemirror_mode": {
    "name": "ipython",
    "version": 2
   },
   "file_extension": ".py",
   "mimetype": "text/x-python",
   "name": "python",
   "nbconvert_exporter": "python",
   "pygments_lexer": "ipython2",
   "version": "2.7.14"
  }
 },
 "nbformat": 4,
 "nbformat_minor": 2
}
