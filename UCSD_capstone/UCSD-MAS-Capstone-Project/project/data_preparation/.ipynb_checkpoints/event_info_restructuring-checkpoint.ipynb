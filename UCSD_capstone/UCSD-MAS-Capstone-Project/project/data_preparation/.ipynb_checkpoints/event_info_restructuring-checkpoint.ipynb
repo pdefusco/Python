{
 "cells": [
  {
   "cell_type": "code",
   "execution_count": 1,
   "metadata": {
    "collapsed": true
   },
   "outputs": [],
   "source": [
    "import json\n",
    "from StringIO import StringIO\n",
    "import pandas as pd\n",
    "import openpyxl\n",
    "import pandas as pd\n",
    "import os\n",
    "import numpy as np\n",
    "import datetime\n",
    "import csv"
   ]
  },
  {
   "cell_type": "code",
   "execution_count": 2,
   "metadata": {
    "collapsed": true
   },
   "outputs": [],
   "source": [
    "listings_events_2018_05_22_V1 = pd.read_csv('../Datasources/listings_events/listings_events_2018-05-22_V1.csv')"
   ]
  },
  {
   "cell_type": "code",
   "execution_count": 3,
   "metadata": {},
   "outputs": [
    {
     "data": {
      "text/html": [
       "<div>\n",
       "<style scoped>\n",
       "    .dataframe tbody tr th:only-of-type {\n",
       "        vertical-align: middle;\n",
       "    }\n",
       "\n",
       "    .dataframe tbody tr th {\n",
       "        vertical-align: top;\n",
       "    }\n",
       "\n",
       "    .dataframe thead th {\n",
       "        text-align: right;\n",
       "    }\n",
       "</style>\n",
       "<table border=\"1\" class=\"dataframe\">\n",
       "  <thead>\n",
       "    <tr style=\"text-align: right;\">\n",
       "      <th></th>\n",
       "      <th>listing_id</th>\n",
       "      <th>event_count_1km</th>\n",
       "      <th>event_count_3km</th>\n",
       "      <th>event_count_5km</th>\n",
       "      <th>event_count_10km</th>\n",
       "      <th>event_count_16km</th>\n",
       "      <th>closest_distance_of_events</th>\n",
       "      <th>event_id_of_closest_distance</th>\n",
       "      <th>event_title</th>\n",
       "      <th>event_id</th>\n",
       "      <th>event_type</th>\n",
       "    </tr>\n",
       "  </thead>\n",
       "  <tbody>\n",
       "    <tr>\n",
       "      <th>0</th>\n",
       "      <td>5179392.0</td>\n",
       "      <td>34.0</td>\n",
       "      <td>94.0</td>\n",
       "      <td>343.0</td>\n",
       "      <td>2405.0</td>\n",
       "      <td>2555.0</td>\n",
       "      <td>0.977183</td>\n",
       "      <td>47883.0</td>\n",
       "      <td>UTC Farmer's Market (Every Thursday)</td>\n",
       "      <td>47883</td>\n",
       "      <td>FARMERS</td>\n",
       "    </tr>\n",
       "    <tr>\n",
       "      <th>1</th>\n",
       "      <td>10340469.0</td>\n",
       "      <td>34.0</td>\n",
       "      <td>97.0</td>\n",
       "      <td>363.0</td>\n",
       "      <td>2411.0</td>\n",
       "      <td>2557.0</td>\n",
       "      <td>0.736589</td>\n",
       "      <td>47883.0</td>\n",
       "      <td>UTC Farmer's Market (Every Thursday)</td>\n",
       "      <td>47883</td>\n",
       "      <td>FARMERS</td>\n",
       "    </tr>\n",
       "    <tr>\n",
       "      <th>2</th>\n",
       "      <td>7366806.0</td>\n",
       "      <td>37.0</td>\n",
       "      <td>93.0</td>\n",
       "      <td>366.0</td>\n",
       "      <td>2419.0</td>\n",
       "      <td>2557.0</td>\n",
       "      <td>0.638279</td>\n",
       "      <td>47883.0</td>\n",
       "      <td>UTC Farmer's Market (Every Thursday)</td>\n",
       "      <td>47883</td>\n",
       "      <td>FARMERS</td>\n",
       "    </tr>\n",
       "    <tr>\n",
       "      <th>3</th>\n",
       "      <td>4965750.0</td>\n",
       "      <td>34.0</td>\n",
       "      <td>95.0</td>\n",
       "      <td>365.0</td>\n",
       "      <td>2414.0</td>\n",
       "      <td>2557.0</td>\n",
       "      <td>0.654214</td>\n",
       "      <td>47883.0</td>\n",
       "      <td>UTC Farmer's Market (Every Thursday)</td>\n",
       "      <td>47883</td>\n",
       "      <td>FARMERS</td>\n",
       "    </tr>\n",
       "    <tr>\n",
       "      <th>4</th>\n",
       "      <td>1759554.0</td>\n",
       "      <td>34.0</td>\n",
       "      <td>103.0</td>\n",
       "      <td>378.0</td>\n",
       "      <td>2421.0</td>\n",
       "      <td>2555.0</td>\n",
       "      <td>0.564041</td>\n",
       "      <td>47883.0</td>\n",
       "      <td>UTC Farmer's Market (Every Thursday)</td>\n",
       "      <td>47883</td>\n",
       "      <td>FARMERS</td>\n",
       "    </tr>\n",
       "  </tbody>\n",
       "</table>\n",
       "</div>"
      ],
      "text/plain": [
       "   listing_id  event_count_1km  event_count_3km  event_count_5km  \\\n",
       "0   5179392.0             34.0             94.0            343.0   \n",
       "1  10340469.0             34.0             97.0            363.0   \n",
       "2   7366806.0             37.0             93.0            366.0   \n",
       "3   4965750.0             34.0             95.0            365.0   \n",
       "4   1759554.0             34.0            103.0            378.0   \n",
       "\n",
       "   event_count_10km  event_count_16km  closest_distance_of_events  \\\n",
       "0            2405.0            2555.0                    0.977183   \n",
       "1            2411.0            2557.0                    0.736589   \n",
       "2            2419.0            2557.0                    0.638279   \n",
       "3            2414.0            2557.0                    0.654214   \n",
       "4            2421.0            2555.0                    0.564041   \n",
       "\n",
       "   event_id_of_closest_distance                           event_title  \\\n",
       "0                       47883.0  UTC Farmer's Market (Every Thursday)   \n",
       "1                       47883.0  UTC Farmer's Market (Every Thursday)   \n",
       "2                       47883.0  UTC Farmer's Market (Every Thursday)   \n",
       "3                       47883.0  UTC Farmer's Market (Every Thursday)   \n",
       "4                       47883.0  UTC Farmer's Market (Every Thursday)   \n",
       "\n",
       "   event_id event_type  \n",
       "0     47883    FARMERS  \n",
       "1     47883    FARMERS  \n",
       "2     47883    FARMERS  \n",
       "3     47883    FARMERS  \n",
       "4     47883    FARMERS  "
      ]
     },
     "execution_count": 3,
     "metadata": {},
     "output_type": "execute_result"
    }
   ],
   "source": [
    "listings_events_2018_05_22_V1.head()"
   ]
  },
  {
   "cell_type": "code",
   "execution_count": 4,
   "metadata": {
    "collapsed": true
   },
   "outputs": [],
   "source": [
    "L = []\n",
    "\n",
    "for w in listings_events_2018_05_22_V1['listing_id'].unique():\n",
    "    a = len(listings_events_2018_05_22_V1[listings_events_2018_05_22_V1['listing_id'] == w])\n",
    "    L.append((w, a))\n",
    "    "
   ]
  },
  {
   "cell_type": "code",
   "execution_count": 6,
   "metadata": {
    "collapsed": true
   },
   "outputs": [],
   "source": [
    "def frame_to_list(x):\n",
    "    L = []\n",
    "    for w in x:\n",
    "        L.append(w)\n",
    "    return L"
   ]
  },
  {
   "cell_type": "code",
   "execution_count": 7,
   "metadata": {
    "scrolled": true
   },
   "outputs": [
    {
     "data": {
      "text/plain": [
       "listing_id  event_title                           \n",
       "6.0         The BLVD Market Summer Edition                                 [49527, 49526, 49525, 49524]\n",
       "            The BLVD Monthly Market                   [47712, 47711, 47710, 47709, 47708, 47707, 477...\n",
       "5570.0      Margarita 5K Run                                                             [49850, 48951]\n",
       "9553.0      11th Annual CityBeat Festival of Beers                                              [50427]\n",
       "            9th Annual City Beat Festival of Beers                                              [49272]\n",
       "Name: event_id, dtype: object"
      ]
     },
     "execution_count": 7,
     "metadata": {},
     "output_type": "execute_result"
    }
   ],
   "source": [
    "listings_events_2018_05_22_V1[['listing_id', 'event_title', 'event_id', 'event_type']].groupby(['listing_id', 'event_title'])['event_id'].apply(frame_to_list).head()"
   ]
  },
  {
   "cell_type": "code",
   "execution_count": 8,
   "metadata": {},
   "outputs": [
    {
     "data": {
      "text/plain": [
       "9916"
      ]
     },
     "execution_count": 8,
     "metadata": {},
     "output_type": "execute_result"
    }
   ],
   "source": [
    "len(listings_events_2018_05_22_V1[['listing_id', 'event_title', 'event_id', 'event_type']].groupby(['listing_id', 'event_title']))"
   ]
  },
  {
   "cell_type": "code",
   "execution_count": 9,
   "metadata": {
    "collapsed": true
   },
   "outputs": [],
   "source": [
    "a = listings_events_2018_05_22_V1[['listing_id', 'event_title', 'event_id', 'event_type']].groupby(['listing_id', 'event_title'])['event_id'].apply(frame_to_list)"
   ]
  },
  {
   "cell_type": "code",
   "execution_count": 11,
   "metadata": {
    "collapsed": true
   },
   "outputs": [],
   "source": [
    "def frame_to_set(x):\n",
    "    L = set()\n",
    "    \n",
    "    for w in x:\n",
    "        L.add(w)\n",
    "        \n",
    "    return L"
   ]
  },
  {
   "cell_type": "code",
   "execution_count": 12,
   "metadata": {
    "scrolled": true
   },
   "outputs": [
    {
     "data": {
      "text/plain": [
       "listing_id  event_title                           \n",
       "6.0         The BLVD Market Summer Edition            {FESTIVAL}\n",
       "            The BLVD Monthly Market                    {FARMERS}\n",
       "5570.0      Margarita 5K Run                          {ATHLETIC}\n",
       "9553.0      11th Annual CityBeat Festival of Beers    {FESTIVAL}\n",
       "            9th Annual City Beat Festival of Beers    {FESTIVAL}\n",
       "Name: event_type, dtype: object"
      ]
     },
     "execution_count": 12,
     "metadata": {},
     "output_type": "execute_result"
    }
   ],
   "source": [
    "listings_events_2018_05_22_V1[['listing_id', 'event_title', 'event_id', 'event_type']].groupby(['listing_id', 'event_title'])['event_type'].apply(frame_to_set).head()"
   ]
  },
  {
   "cell_type": "code",
   "execution_count": 13,
   "metadata": {
    "collapsed": true
   },
   "outputs": [],
   "source": [
    "def set_to_value(x):\n",
    "    L = []\n",
    "    \n",
    "    for w in x:\n",
    "        L.append(w)\n",
    "        \n",
    "    return L[0]"
   ]
  },
  {
   "cell_type": "code",
   "execution_count": 14,
   "metadata": {
    "scrolled": true
   },
   "outputs": [
    {
     "data": {
      "text/plain": [
       "listing_id  event_title                           \n",
       "6.0         The BLVD Market Summer Edition            FESTIVAL\n",
       "            The BLVD Monthly Market                    FARMERS\n",
       "5570.0      Margarita 5K Run                          ATHLETIC\n",
       "9553.0      11th Annual CityBeat Festival of Beers    FESTIVAL\n",
       "            9th Annual City Beat Festival of Beers    FESTIVAL\n",
       "Name: event_type, dtype: object"
      ]
     },
     "execution_count": 14,
     "metadata": {},
     "output_type": "execute_result"
    }
   ],
   "source": [
    "listings_events_2018_05_22_V1[['listing_id', 'event_title', 'event_id', 'event_type']].groupby(['listing_id', 'event_title'])['event_type'].apply(frame_to_set).apply(set_to_value).head()"
   ]
  },
  {
   "cell_type": "code",
   "execution_count": 15,
   "metadata": {
    "collapsed": true
   },
   "outputs": [],
   "source": [
    "v = listings_events_2018_05_22_V1[['listing_id', 'event_title', 'event_id', 'event_type']].groupby(['listing_id', 'event_title'])['event_type'].apply(frame_to_set)"
   ]
  },
  {
   "cell_type": "code",
   "execution_count": 17,
   "metadata": {},
   "outputs": [
    {
     "data": {
      "text/plain": [
       "Index([u'10 Barrel Grand Opening Block Party', u'100 Wave Challenge',\n",
       "       u'1056h Festa of the Holy Spirit (Parade)',\n",
       "       u'106th Festa of the Holy Spirit (Procession)',\n",
       "       u'107th Festa of the Holy Spirit (Parade)',\n",
       "       u'107th Festa of the Holy Spirit (Procession)',\n",
       "       u'108th Festa of the Holy Spirit (Parade)',\n",
       "       u'108th Festa of the Holy Spirit (Procession)',\n",
       "       u'10th Annual Gaslamp Holiday Pet Parade',\n",
       "       u'10th Annual GranFondo San Diego Bike Ride',\n",
       "       ...\n",
       "       u'Van - Go!', u'Van Go! STEAM Festival and Derby', u'Voltaire Scare',\n",
       "       u'Walk for Water', u'Walk for Water ', u'Walk to Cure Arthritis',\n",
       "       u'Walk to Defeat ALS', u'Walk to End Alzheimer's ', u'Whistlestop Fest',\n",
       "       u'Ye Scallywag!'],\n",
       "      dtype='object', name=u'event_title', length=421)"
      ]
     },
     "execution_count": 17,
     "metadata": {},
     "output_type": "execute_result"
    }
   ],
   "source": [
    "v.index.levels[1]"
   ]
  },
  {
   "cell_type": "code",
   "execution_count": 19,
   "metadata": {
    "collapsed": true
   },
   "outputs": [],
   "source": [
    "v = listings_events_2018_05_22_V1[['listing_id', 'event_title', 'event_id', 'event_type']].groupby(['listing_id', 'event_title'])['event_type'].apply(frame_to_set).apply(set_to_value)"
   ]
  },
  {
   "cell_type": "code",
   "execution_count": 20,
   "metadata": {
    "scrolled": true
   },
   "outputs": [
    {
     "data": {
      "text/plain": [
       "listing_id  event_title                           \n",
       "6.0         The BLVD Market Summer Edition            FESTIVAL\n",
       "            The BLVD Monthly Market                    FARMERS\n",
       "5570.0      Margarita 5K Run                          ATHLETIC\n",
       "9553.0      11th Annual CityBeat Festival of Beers    FESTIVAL\n",
       "            9th Annual City Beat Festival of Beers    FESTIVAL\n",
       "Name: event_type, dtype: object"
      ]
     },
     "execution_count": 20,
     "metadata": {},
     "output_type": "execute_result"
    }
   ],
   "source": [
    "v.head()"
   ]
  },
  {
   "cell_type": "code",
   "execution_count": 22,
   "metadata": {
    "collapsed": true
   },
   "outputs": [],
   "source": [
    "def get_zero(f):\n",
    "    return f[0]"
   ]
  },
  {
   "cell_type": "code",
   "execution_count": 23,
   "metadata": {},
   "outputs": [
    {
     "data": {
      "text/plain": [
       "Float64Index([       6.0,        6.0,     5570.0,     9553.0,     9553.0,\n",
       "                 38245.0,    39516.0,    45429.0,    54001.0,    62274.0,\n",
       "              ...\n",
       "              13881744.0, 13881744.0, 13881863.0, 13881863.0, 13882013.0,\n",
       "              13882245.0, 13882335.0, 13882335.0, 13882606.0, 13882606.0],\n",
       "             dtype='float64', length=9916)"
      ]
     },
     "execution_count": 23,
     "metadata": {},
     "output_type": "execute_result"
    }
   ],
   "source": [
    "v.index.map(get_zero)"
   ]
  },
  {
   "cell_type": "code",
   "execution_count": 24,
   "metadata": {
    "collapsed": true
   },
   "outputs": [],
   "source": [
    "b = pd.DataFrame()"
   ]
  },
  {
   "cell_type": "code",
   "execution_count": 25,
   "metadata": {
    "collapsed": true
   },
   "outputs": [],
   "source": [
    "b['listings_id'] = v.index.map(get_zero)"
   ]
  },
  {
   "cell_type": "code",
   "execution_count": 26,
   "metadata": {
    "collapsed": true
   },
   "outputs": [],
   "source": [
    "def get_one(f):\n",
    "    return f[1]"
   ]
  },
  {
   "cell_type": "code",
   "execution_count": 27,
   "metadata": {
    "collapsed": true
   },
   "outputs": [],
   "source": [
    "b['event_title'] = v.index.map(get_one)"
   ]
  },
  {
   "cell_type": "code",
   "execution_count": 28,
   "metadata": {
    "scrolled": true
   },
   "outputs": [
    {
     "data": {
      "text/plain": [
       "listing_id  event_title                           \n",
       "6.0         The BLVD Market Summer Edition                                 [49527, 49526, 49525, 49524]\n",
       "            The BLVD Monthly Market                   [47712, 47711, 47710, 47709, 47708, 47707, 477...\n",
       "5570.0      Margarita 5K Run                                                             [49850, 48951]\n",
       "9553.0      11th Annual CityBeat Festival of Beers                                              [50427]\n",
       "            9th Annual City Beat Festival of Beers                                              [49272]\n",
       "Name: event_id, dtype: object"
      ]
     },
     "execution_count": 28,
     "metadata": {},
     "output_type": "execute_result"
    }
   ],
   "source": [
    "a.head()"
   ]
  },
  {
   "cell_type": "code",
   "execution_count": 29,
   "metadata": {
    "collapsed": true
   },
   "outputs": [],
   "source": [
    "b = b.rename(columns = {'listings_id': 'listing_id'})"
   ]
  },
  {
   "cell_type": "code",
   "execution_count": 30,
   "metadata": {
    "scrolled": true
   },
   "outputs": [
    {
     "data": {
      "text/html": [
       "<div>\n",
       "<style scoped>\n",
       "    .dataframe tbody tr th:only-of-type {\n",
       "        vertical-align: middle;\n",
       "    }\n",
       "\n",
       "    .dataframe tbody tr th {\n",
       "        vertical-align: top;\n",
       "    }\n",
       "\n",
       "    .dataframe thead th {\n",
       "        text-align: right;\n",
       "    }\n",
       "</style>\n",
       "<table border=\"1\" class=\"dataframe\">\n",
       "  <thead>\n",
       "    <tr style=\"text-align: right;\">\n",
       "      <th></th>\n",
       "      <th>listing_id</th>\n",
       "      <th>event_title</th>\n",
       "    </tr>\n",
       "  </thead>\n",
       "  <tbody>\n",
       "    <tr>\n",
       "      <th>0</th>\n",
       "      <td>6.0</td>\n",
       "      <td>The BLVD Market Summer Edition</td>\n",
       "    </tr>\n",
       "    <tr>\n",
       "      <th>1</th>\n",
       "      <td>6.0</td>\n",
       "      <td>The BLVD Monthly Market</td>\n",
       "    </tr>\n",
       "    <tr>\n",
       "      <th>2</th>\n",
       "      <td>5570.0</td>\n",
       "      <td>Margarita 5K Run</td>\n",
       "    </tr>\n",
       "    <tr>\n",
       "      <th>3</th>\n",
       "      <td>9553.0</td>\n",
       "      <td>11th Annual CityBeat Festival of Beers</td>\n",
       "    </tr>\n",
       "    <tr>\n",
       "      <th>4</th>\n",
       "      <td>9553.0</td>\n",
       "      <td>9th Annual City Beat Festival of Beers</td>\n",
       "    </tr>\n",
       "  </tbody>\n",
       "</table>\n",
       "</div>"
      ],
      "text/plain": [
       "   listing_id                             event_title\n",
       "0         6.0          The BLVD Market Summer Edition\n",
       "1         6.0                 The BLVD Monthly Market\n",
       "2      5570.0                        Margarita 5K Run\n",
       "3      9553.0  11th Annual CityBeat Festival of Beers\n",
       "4      9553.0  9th Annual City Beat Festival of Beers"
      ]
     },
     "execution_count": 30,
     "metadata": {},
     "output_type": "execute_result"
    }
   ],
   "source": [
    "b.head()"
   ]
  },
  {
   "cell_type": "code",
   "execution_count": 31,
   "metadata": {
    "scrolled": true
   },
   "outputs": [
    {
     "data": {
      "text/plain": [
       "listing_id\n",
       "6.0        14\n",
       "5570.0      2\n",
       "9553.0      2\n",
       "38245.0     1\n",
       "39516.0     1\n",
       "Name: event_id, dtype: int64"
      ]
     },
     "execution_count": 31,
     "metadata": {},
     "output_type": "execute_result"
    }
   ],
   "source": [
    "listings_events_2018_05_22_V1.groupby('listing_id')['event_id'].count().head()"
   ]
  },
  {
   "cell_type": "code",
   "execution_count": 32,
   "metadata": {
    "scrolled": true
   },
   "outputs": [
    {
     "data": {
      "text/html": [
       "<div>\n",
       "<style scoped>\n",
       "    .dataframe tbody tr th:only-of-type {\n",
       "        vertical-align: middle;\n",
       "    }\n",
       "\n",
       "    .dataframe tbody tr th {\n",
       "        vertical-align: top;\n",
       "    }\n",
       "\n",
       "    .dataframe thead th {\n",
       "        text-align: right;\n",
       "    }\n",
       "</style>\n",
       "<table border=\"1\" class=\"dataframe\">\n",
       "  <thead>\n",
       "    <tr style=\"text-align: right;\">\n",
       "      <th></th>\n",
       "      <th>listing_id</th>\n",
       "      <th>event_count_1km</th>\n",
       "      <th>event_count_3km</th>\n",
       "      <th>event_count_5km</th>\n",
       "      <th>event_count_10km</th>\n",
       "      <th>event_count_16km</th>\n",
       "      <th>closest_distance_of_events</th>\n",
       "      <th>event_id_of_closest_distance</th>\n",
       "      <th>event_title</th>\n",
       "      <th>event_id</th>\n",
       "      <th>event_type</th>\n",
       "    </tr>\n",
       "  </thead>\n",
       "  <tbody>\n",
       "    <tr>\n",
       "      <th>0</th>\n",
       "      <td>5179392.0</td>\n",
       "      <td>34.0</td>\n",
       "      <td>94.0</td>\n",
       "      <td>343.0</td>\n",
       "      <td>2405.0</td>\n",
       "      <td>2555.0</td>\n",
       "      <td>0.977183</td>\n",
       "      <td>47883.0</td>\n",
       "      <td>UTC Farmer's Market (Every Thursday)</td>\n",
       "      <td>47883</td>\n",
       "      <td>FARMERS</td>\n",
       "    </tr>\n",
       "    <tr>\n",
       "      <th>1</th>\n",
       "      <td>10340469.0</td>\n",
       "      <td>34.0</td>\n",
       "      <td>97.0</td>\n",
       "      <td>363.0</td>\n",
       "      <td>2411.0</td>\n",
       "      <td>2557.0</td>\n",
       "      <td>0.736589</td>\n",
       "      <td>47883.0</td>\n",
       "      <td>UTC Farmer's Market (Every Thursday)</td>\n",
       "      <td>47883</td>\n",
       "      <td>FARMERS</td>\n",
       "    </tr>\n",
       "    <tr>\n",
       "      <th>2</th>\n",
       "      <td>7366806.0</td>\n",
       "      <td>37.0</td>\n",
       "      <td>93.0</td>\n",
       "      <td>366.0</td>\n",
       "      <td>2419.0</td>\n",
       "      <td>2557.0</td>\n",
       "      <td>0.638279</td>\n",
       "      <td>47883.0</td>\n",
       "      <td>UTC Farmer's Market (Every Thursday)</td>\n",
       "      <td>47883</td>\n",
       "      <td>FARMERS</td>\n",
       "    </tr>\n",
       "    <tr>\n",
       "      <th>3</th>\n",
       "      <td>4965750.0</td>\n",
       "      <td>34.0</td>\n",
       "      <td>95.0</td>\n",
       "      <td>365.0</td>\n",
       "      <td>2414.0</td>\n",
       "      <td>2557.0</td>\n",
       "      <td>0.654214</td>\n",
       "      <td>47883.0</td>\n",
       "      <td>UTC Farmer's Market (Every Thursday)</td>\n",
       "      <td>47883</td>\n",
       "      <td>FARMERS</td>\n",
       "    </tr>\n",
       "    <tr>\n",
       "      <th>4</th>\n",
       "      <td>1759554.0</td>\n",
       "      <td>34.0</td>\n",
       "      <td>103.0</td>\n",
       "      <td>378.0</td>\n",
       "      <td>2421.0</td>\n",
       "      <td>2555.0</td>\n",
       "      <td>0.564041</td>\n",
       "      <td>47883.0</td>\n",
       "      <td>UTC Farmer's Market (Every Thursday)</td>\n",
       "      <td>47883</td>\n",
       "      <td>FARMERS</td>\n",
       "    </tr>\n",
       "  </tbody>\n",
       "</table>\n",
       "</div>"
      ],
      "text/plain": [
       "   listing_id  event_count_1km  event_count_3km  event_count_5km  \\\n",
       "0   5179392.0             34.0             94.0            343.0   \n",
       "1  10340469.0             34.0             97.0            363.0   \n",
       "2   7366806.0             37.0             93.0            366.0   \n",
       "3   4965750.0             34.0             95.0            365.0   \n",
       "4   1759554.0             34.0            103.0            378.0   \n",
       "\n",
       "   event_count_10km  event_count_16km  closest_distance_of_events  \\\n",
       "0            2405.0            2555.0                    0.977183   \n",
       "1            2411.0            2557.0                    0.736589   \n",
       "2            2419.0            2557.0                    0.638279   \n",
       "3            2414.0            2557.0                    0.654214   \n",
       "4            2421.0            2555.0                    0.564041   \n",
       "\n",
       "   event_id_of_closest_distance                           event_title  \\\n",
       "0                       47883.0  UTC Farmer's Market (Every Thursday)   \n",
       "1                       47883.0  UTC Farmer's Market (Every Thursday)   \n",
       "2                       47883.0  UTC Farmer's Market (Every Thursday)   \n",
       "3                       47883.0  UTC Farmer's Market (Every Thursday)   \n",
       "4                       47883.0  UTC Farmer's Market (Every Thursday)   \n",
       "\n",
       "   event_id event_type  \n",
       "0     47883    FARMERS  \n",
       "1     47883    FARMERS  \n",
       "2     47883    FARMERS  \n",
       "3     47883    FARMERS  \n",
       "4     47883    FARMERS  "
      ]
     },
     "execution_count": 32,
     "metadata": {},
     "output_type": "execute_result"
    }
   ],
   "source": [
    "listings_events_2018_05_22_V1.head()"
   ]
  },
  {
   "cell_type": "code",
   "execution_count": 33,
   "metadata": {
    "scrolled": true
   },
   "outputs": [
    {
     "data": {
      "text/html": [
       "<div>\n",
       "<style scoped>\n",
       "    .dataframe tbody tr th:only-of-type {\n",
       "        vertical-align: middle;\n",
       "    }\n",
       "\n",
       "    .dataframe tbody tr th {\n",
       "        vertical-align: top;\n",
       "    }\n",
       "\n",
       "    .dataframe thead th {\n",
       "        text-align: right;\n",
       "    }\n",
       "</style>\n",
       "<table border=\"1\" class=\"dataframe\">\n",
       "  <thead>\n",
       "    <tr style=\"text-align: right;\">\n",
       "      <th></th>\n",
       "      <th>listing_id</th>\n",
       "      <th>event_count_1km</th>\n",
       "      <th>event_count_3km</th>\n",
       "      <th>event_count_5km</th>\n",
       "      <th>event_count_10km</th>\n",
       "      <th>event_count_16km</th>\n",
       "      <th>closest_distance_of_events</th>\n",
       "    </tr>\n",
       "  </thead>\n",
       "  <tbody>\n",
       "    <tr>\n",
       "      <th>0</th>\n",
       "      <td>5179392.0</td>\n",
       "      <td>34.0</td>\n",
       "      <td>94.0</td>\n",
       "      <td>343.0</td>\n",
       "      <td>2405.0</td>\n",
       "      <td>2555.0</td>\n",
       "      <td>0.977183</td>\n",
       "    </tr>\n",
       "    <tr>\n",
       "      <th>1</th>\n",
       "      <td>10340469.0</td>\n",
       "      <td>34.0</td>\n",
       "      <td>97.0</td>\n",
       "      <td>363.0</td>\n",
       "      <td>2411.0</td>\n",
       "      <td>2557.0</td>\n",
       "      <td>0.736589</td>\n",
       "    </tr>\n",
       "    <tr>\n",
       "      <th>2</th>\n",
       "      <td>7366806.0</td>\n",
       "      <td>37.0</td>\n",
       "      <td>93.0</td>\n",
       "      <td>366.0</td>\n",
       "      <td>2419.0</td>\n",
       "      <td>2557.0</td>\n",
       "      <td>0.638279</td>\n",
       "    </tr>\n",
       "    <tr>\n",
       "      <th>3</th>\n",
       "      <td>4965750.0</td>\n",
       "      <td>34.0</td>\n",
       "      <td>95.0</td>\n",
       "      <td>365.0</td>\n",
       "      <td>2414.0</td>\n",
       "      <td>2557.0</td>\n",
       "      <td>0.654214</td>\n",
       "    </tr>\n",
       "    <tr>\n",
       "      <th>4</th>\n",
       "      <td>1759554.0</td>\n",
       "      <td>34.0</td>\n",
       "      <td>103.0</td>\n",
       "      <td>378.0</td>\n",
       "      <td>2421.0</td>\n",
       "      <td>2555.0</td>\n",
       "      <td>0.564041</td>\n",
       "    </tr>\n",
       "  </tbody>\n",
       "</table>\n",
       "</div>"
      ],
      "text/plain": [
       "   listing_id  event_count_1km  event_count_3km  event_count_5km  \\\n",
       "0   5179392.0             34.0             94.0            343.0   \n",
       "1  10340469.0             34.0             97.0            363.0   \n",
       "2   7366806.0             37.0             93.0            366.0   \n",
       "3   4965750.0             34.0             95.0            365.0   \n",
       "4   1759554.0             34.0            103.0            378.0   \n",
       "\n",
       "   event_count_10km  event_count_16km  closest_distance_of_events  \n",
       "0            2405.0            2555.0                    0.977183  \n",
       "1            2411.0            2557.0                    0.736589  \n",
       "2            2419.0            2557.0                    0.638279  \n",
       "3            2414.0            2557.0                    0.654214  \n",
       "4            2421.0            2555.0                    0.564041  "
      ]
     },
     "execution_count": 33,
     "metadata": {},
     "output_type": "execute_result"
    }
   ],
   "source": [
    "listings_events_2018_05_22_V1[['listing_id', 'event_count_1km', 'event_count_3km', 'event_count_5km', 'event_count_10km', 'event_count_16km', 'closest_distance_of_events']].drop_duplicates().head()"
   ]
  },
  {
   "cell_type": "code",
   "execution_count": 34,
   "metadata": {
    "collapsed": true
   },
   "outputs": [],
   "source": [
    "b = listings_events_2018_05_22_V1[['listing_id', 'event_count_1km', 'event_count_3km', 'event_count_5km', 'event_count_10km', 'event_count_16km', 'closest_distance_of_events']].drop_duplicates()"
   ]
  },
  {
   "cell_type": "code",
   "execution_count": 35,
   "metadata": {
    "collapsed": true
   },
   "outputs": [],
   "source": [
    "b.index = range(len(b))"
   ]
  },
  {
   "cell_type": "code",
   "execution_count": 36,
   "metadata": {
    "scrolled": true
   },
   "outputs": [
    {
     "data": {
      "text/html": [
       "<div>\n",
       "<style scoped>\n",
       "    .dataframe tbody tr th:only-of-type {\n",
       "        vertical-align: middle;\n",
       "    }\n",
       "\n",
       "    .dataframe tbody tr th {\n",
       "        vertical-align: top;\n",
       "    }\n",
       "\n",
       "    .dataframe thead th {\n",
       "        text-align: right;\n",
       "    }\n",
       "</style>\n",
       "<table border=\"1\" class=\"dataframe\">\n",
       "  <thead>\n",
       "    <tr style=\"text-align: right;\">\n",
       "      <th></th>\n",
       "      <th>listing_id</th>\n",
       "      <th>event_count_1km</th>\n",
       "      <th>event_count_3km</th>\n",
       "      <th>event_count_5km</th>\n",
       "      <th>event_count_10km</th>\n",
       "      <th>event_count_16km</th>\n",
       "      <th>closest_distance_of_events</th>\n",
       "    </tr>\n",
       "  </thead>\n",
       "  <tbody>\n",
       "    <tr>\n",
       "      <th>0</th>\n",
       "      <td>5179392.0</td>\n",
       "      <td>34.0</td>\n",
       "      <td>94.0</td>\n",
       "      <td>343.0</td>\n",
       "      <td>2405.0</td>\n",
       "      <td>2555.0</td>\n",
       "      <td>0.977183</td>\n",
       "    </tr>\n",
       "    <tr>\n",
       "      <th>1</th>\n",
       "      <td>10340469.0</td>\n",
       "      <td>34.0</td>\n",
       "      <td>97.0</td>\n",
       "      <td>363.0</td>\n",
       "      <td>2411.0</td>\n",
       "      <td>2557.0</td>\n",
       "      <td>0.736589</td>\n",
       "    </tr>\n",
       "    <tr>\n",
       "      <th>2</th>\n",
       "      <td>7366806.0</td>\n",
       "      <td>37.0</td>\n",
       "      <td>93.0</td>\n",
       "      <td>366.0</td>\n",
       "      <td>2419.0</td>\n",
       "      <td>2557.0</td>\n",
       "      <td>0.638279</td>\n",
       "    </tr>\n",
       "    <tr>\n",
       "      <th>3</th>\n",
       "      <td>4965750.0</td>\n",
       "      <td>34.0</td>\n",
       "      <td>95.0</td>\n",
       "      <td>365.0</td>\n",
       "      <td>2414.0</td>\n",
       "      <td>2557.0</td>\n",
       "      <td>0.654214</td>\n",
       "    </tr>\n",
       "    <tr>\n",
       "      <th>4</th>\n",
       "      <td>1759554.0</td>\n",
       "      <td>34.0</td>\n",
       "      <td>103.0</td>\n",
       "      <td>378.0</td>\n",
       "      <td>2421.0</td>\n",
       "      <td>2555.0</td>\n",
       "      <td>0.564041</td>\n",
       "    </tr>\n",
       "  </tbody>\n",
       "</table>\n",
       "</div>"
      ],
      "text/plain": [
       "   listing_id  event_count_1km  event_count_3km  event_count_5km  \\\n",
       "0   5179392.0             34.0             94.0            343.0   \n",
       "1  10340469.0             34.0             97.0            363.0   \n",
       "2   7366806.0             37.0             93.0            366.0   \n",
       "3   4965750.0             34.0             95.0            365.0   \n",
       "4   1759554.0             34.0            103.0            378.0   \n",
       "\n",
       "   event_count_10km  event_count_16km  closest_distance_of_events  \n",
       "0            2405.0            2555.0                    0.977183  \n",
       "1            2411.0            2557.0                    0.736589  \n",
       "2            2419.0            2557.0                    0.638279  \n",
       "3            2414.0            2557.0                    0.654214  \n",
       "4            2421.0            2555.0                    0.564041  "
      ]
     },
     "execution_count": 36,
     "metadata": {},
     "output_type": "execute_result"
    }
   ],
   "source": [
    "b.head()"
   ]
  },
  {
   "cell_type": "code",
   "execution_count": 37,
   "metadata": {
    "scrolled": true
   },
   "outputs": [
    {
     "data": {
      "text/plain": [
       "Float64Index([       6.0,     5570.0,     9553.0,    38245.0,    39516.0,\n",
       "                 45429.0,    54001.0,    62274.0,    62949.0,    63285.0,\n",
       "              ...\n",
       "              13879772.0, 13879939.0, 13880019.0, 13881033.0, 13881744.0,\n",
       "              13881863.0, 13882013.0, 13882245.0, 13882335.0, 13882606.0],\n",
       "             dtype='float64', name=u'listing_id', length=6297)"
      ]
     },
     "execution_count": 37,
     "metadata": {},
     "output_type": "execute_result"
    }
   ],
   "source": [
    "listings_events_2018_05_22_V1.groupby('listing_id')['event_id'].count().index"
   ]
  },
  {
   "cell_type": "code",
   "execution_count": 38,
   "metadata": {
    "collapsed": true
   },
   "outputs": [],
   "source": [
    "c = pd.DataFrame(listings_events_2018_05_22_V1.groupby('listing_id')['event_id'].count())"
   ]
  },
  {
   "cell_type": "code",
   "execution_count": 39,
   "metadata": {
    "scrolled": true
   },
   "outputs": [
    {
     "data": {
      "text/html": [
       "<div>\n",
       "<style scoped>\n",
       "    .dataframe tbody tr th:only-of-type {\n",
       "        vertical-align: middle;\n",
       "    }\n",
       "\n",
       "    .dataframe tbody tr th {\n",
       "        vertical-align: top;\n",
       "    }\n",
       "\n",
       "    .dataframe thead th {\n",
       "        text-align: right;\n",
       "    }\n",
       "</style>\n",
       "<table border=\"1\" class=\"dataframe\">\n",
       "  <thead>\n",
       "    <tr style=\"text-align: right;\">\n",
       "      <th></th>\n",
       "      <th>listing_id</th>\n",
       "      <th>event_count_1km</th>\n",
       "      <th>event_count_3km</th>\n",
       "      <th>event_count_5km</th>\n",
       "      <th>event_count_10km</th>\n",
       "      <th>event_count_16km</th>\n",
       "      <th>closest_distance_of_events</th>\n",
       "      <th>event_id</th>\n",
       "    </tr>\n",
       "  </thead>\n",
       "  <tbody>\n",
       "    <tr>\n",
       "      <th>0</th>\n",
       "      <td>5179392.0</td>\n",
       "      <td>34.0</td>\n",
       "      <td>94.0</td>\n",
       "      <td>343.0</td>\n",
       "      <td>2405.0</td>\n",
       "      <td>2555.0</td>\n",
       "      <td>0.977183</td>\n",
       "      <td>34</td>\n",
       "    </tr>\n",
       "    <tr>\n",
       "      <th>1</th>\n",
       "      <td>10340469.0</td>\n",
       "      <td>34.0</td>\n",
       "      <td>97.0</td>\n",
       "      <td>363.0</td>\n",
       "      <td>2411.0</td>\n",
       "      <td>2557.0</td>\n",
       "      <td>0.736589</td>\n",
       "      <td>34</td>\n",
       "    </tr>\n",
       "    <tr>\n",
       "      <th>2</th>\n",
       "      <td>7366806.0</td>\n",
       "      <td>37.0</td>\n",
       "      <td>93.0</td>\n",
       "      <td>366.0</td>\n",
       "      <td>2419.0</td>\n",
       "      <td>2557.0</td>\n",
       "      <td>0.638279</td>\n",
       "      <td>34</td>\n",
       "    </tr>\n",
       "    <tr>\n",
       "      <th>3</th>\n",
       "      <td>4965750.0</td>\n",
       "      <td>34.0</td>\n",
       "      <td>95.0</td>\n",
       "      <td>365.0</td>\n",
       "      <td>2414.0</td>\n",
       "      <td>2557.0</td>\n",
       "      <td>0.654214</td>\n",
       "      <td>34</td>\n",
       "    </tr>\n",
       "    <tr>\n",
       "      <th>4</th>\n",
       "      <td>1759554.0</td>\n",
       "      <td>34.0</td>\n",
       "      <td>103.0</td>\n",
       "      <td>378.0</td>\n",
       "      <td>2421.0</td>\n",
       "      <td>2555.0</td>\n",
       "      <td>0.564041</td>\n",
       "      <td>34</td>\n",
       "    </tr>\n",
       "  </tbody>\n",
       "</table>\n",
       "</div>"
      ],
      "text/plain": [
       "   listing_id  event_count_1km  event_count_3km  event_count_5km  \\\n",
       "0   5179392.0             34.0             94.0            343.0   \n",
       "1  10340469.0             34.0             97.0            363.0   \n",
       "2   7366806.0             37.0             93.0            366.0   \n",
       "3   4965750.0             34.0             95.0            365.0   \n",
       "4   1759554.0             34.0            103.0            378.0   \n",
       "\n",
       "   event_count_10km  event_count_16km  closest_distance_of_events  event_id  \n",
       "0            2405.0            2555.0                    0.977183        34  \n",
       "1            2411.0            2557.0                    0.736589        34  \n",
       "2            2419.0            2557.0                    0.638279        34  \n",
       "3            2414.0            2557.0                    0.654214        34  \n",
       "4            2421.0            2555.0                    0.564041        34  "
      ]
     },
     "execution_count": 39,
     "metadata": {},
     "output_type": "execute_result"
    }
   ],
   "source": [
    "b.merge(c, how = 'inner', left_on = 'listing_id', right_index = True).head()"
   ]
  },
  {
   "cell_type": "code",
   "execution_count": null,
   "metadata": {
    "collapsed": true
   },
   "outputs": [],
   "source": []
  }
 ],
 "metadata": {
  "kernelspec": {
   "display_name": "Python 2",
   "language": "python",
   "name": "python2"
  },
  "language_info": {
   "codemirror_mode": {
    "name": "ipython",
    "version": 2
   },
   "file_extension": ".py",
   "mimetype": "text/x-python",
   "name": "python",
   "nbconvert_exporter": "python",
   "pygments_lexer": "ipython2",
   "version": "2.7.14"
  }
 },
 "nbformat": 4,
 "nbformat_minor": 2
}
