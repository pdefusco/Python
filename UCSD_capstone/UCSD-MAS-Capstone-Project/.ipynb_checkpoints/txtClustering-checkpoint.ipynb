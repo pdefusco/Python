{
 "cells": [
  {
   "cell_type": "markdown",
   "metadata": {},
   "source": [
    "# Text Clustering on the \"transit\" column from Listings"
   ]
  },
  {
   "cell_type": "code",
   "execution_count": 2,
   "metadata": {
    "collapsed": true
   },
   "outputs": [],
   "source": [
    "import pandas as pd\n",
    "import matplotlib.pyplot as plt\n",
    "import numpy as np\n",
    "from sklearn.feature_extraction.text import TfidfVectorizer\n",
    "from sklearn.cluster import KMeans\n",
    "from sklearn.metrics import adjusted_rand_score"
   ]
  },
  {
   "cell_type": "code",
   "execution_count": 3,
   "metadata": {
    "collapsed": true
   },
   "outputs": [],
   "source": [
    "#master.csv too large - won't store on github even with lfs - use read_hf below\n",
    "#master = pd.read_csv('master.csv')"
   ]
  },
  {
   "cell_type": "code",
   "execution_count": 4,
   "metadata": {
    "collapsed": true
   },
   "outputs": [],
   "source": [
    "#ms = pd.read_hdf('master.h5', 'table')"
   ]
  },
  {
   "cell_type": "code",
   "execution_count": 5,
   "metadata": {
    "collapsed": true
   },
   "outputs": [],
   "source": [
    "#trying parquet\n",
    "master = pd.read_parquet('master.parquet',engine='fastparquet')"
   ]
  },
  {
   "cell_type": "code",
   "execution_count": 5,
   "metadata": {
    "collapsed": true
   },
   "outputs": [],
   "source": [
    "#Extract contents of transit column into a list\n",
    "lst = []\n",
    "for i in master['transit']:\n",
    "    lst.append(str(i))"
   ]
  },
  {
   "cell_type": "code",
   "execution_count": 6,
   "metadata": {},
   "outputs": [
    {
     "data": {
      "text/plain": [
       "['Area Airports From San Diego International Airport -Lindbergh Field: Driving directions Travel east on Harbor Drive to downtown San Diego. Turn left onto Ash Street. Turn right onto Kettner. Turn left onto A Street. Our San Diego property is on the right. Driving from the East: Driving directions From Interstate 8 West, take 163 South to the end. Turn right onto B Street. Turn right onto 7th Avenue. Turn right onto A Street. Our San Diego property is directly on the right. Driving from the North: Driving directions From Interstate 5 South, exit on 10th Street. Turn right on B Street. Turn right on 7th Street. Turn right on A Street Our San Diego property is on the right. Driving from the South: Driving directions From Interstate 5 North, exit on Pershing/B Street. Turn left onto B Street. Turn right onto 7th Street. Turn right onto A Street. Our San Diego property is directly on the right.',\n",
       " 'Area Airports From San Diego International Airport -Lindbergh Field: Driving directions Travel east on Harbor Drive to downtown San Diego. Turn left onto Ash Street. Turn right onto Kettner. Turn left onto A Street. Our San Diego property is on the right. Driving from the East: Driving directions From Interstate 8 West, take 163 South to the end. Turn right onto B Street. Turn right onto 7th Avenue. Turn right onto A Street. Our San Diego property is directly on the right. Driving from the North: Driving directions From Interstate 5 South, exit on 10th Street. Turn right on B Street. Turn right on 7th Street. Turn right on A Street Our San Diego property is on the right. Driving from the South: Driving directions From Interstate 5 North, exit on Pershing/B Street. Turn left onto B Street. Turn right onto 7th Street. Turn right onto A Street. Our San Diego property is directly on the right.']"
      ]
     },
     "execution_count": 6,
     "metadata": {},
     "output_type": "execute_result"
    }
   ],
   "source": [
    "lst[80000:80002]"
   ]
  },
  {
   "cell_type": "code",
   "execution_count": 7,
   "metadata": {},
   "outputs": [
    {
     "data": {
      "text/plain": [
       "KMeans(algorithm='auto', copy_x=True, init='k-means++', max_iter=100,\n",
       "    n_clusters=10, n_init=1, n_jobs=1, precompute_distances='auto',\n",
       "    random_state=None, tol=0.0001, verbose=0)"
      ]
     },
     "execution_count": 7,
     "metadata": {},
     "output_type": "execute_result"
    }
   ],
   "source": [
    "\"\"\"documents = [\"This little kitty came to play when I was eating at a restaurant.\",\n",
    "             \"Merley has the best squooshy kitten belly.\",\n",
    "             \"Google Translate app is incredible.\",\n",
    "             \"If you open 100 tab in google you get a smiley face.\",\n",
    "             \"Best cat photo I've ever taken.\",\n",
    "             \"Climbing ninja cat.\",\n",
    "             \"Impressed with google map feedback.\",\n",
    "             \"Key promoter extension for Google Chrome.\"]\"\"\"\n",
    "\n",
    "vectorizer = TfidfVectorizer(stop_words='english')\n",
    "X = vectorizer.fit_transform(lst)\n",
    " \n",
    "true_k = 10\n",
    "model = KMeans(n_clusters=true_k, init='k-means++', max_iter=100, n_init=1)\n",
    "model.fit(X)"
   ]
  },
  {
   "cell_type": "code",
   "execution_count": 8,
   "metadata": {},
   "outputs": [
    {
     "name": "stdout",
     "output_type": "stream",
     "text": [
      "Top terms per cluster:\n",
      "Cluster 0:  bus  san  uber  diego  away  car  walk  stop  public  beach\n",
      "Cluster 1:  yes  bus  corner  huge  good  stop  ap  uber  paths  runs\n",
      "Cluster 2:  limo  complimentary  special  discount  offer  guests  sedan  housekeeping  reservations  monthly\n",
      "Cluster 3:  min  10  walk  san  diego  town  15  miles  downtown  park\n",
      "Cluster 4:  diego  san  jolla  la  frequent  westfield  golf  torrey  pines  shores\n",
      "Cluster 5:  pickups  just  blocks  qualcomm  stadium  away  fashion  trolly  mall  valley\n",
      "Cluster 6:  parking  site  street  additional  garage  home  indoor  driveway  available  limited\n",
      "Cluster 7:  suggested  socal  share  highly  having  stations  car2go  free  buses  bike\n",
      "Cluster 8:  min  line  jolla  la  distance  walking  public  downtown  bus  estimate\n",
      "Cluster 9:  distances  coastal  easiest  end  going  way  jolla  bikes  la  ride\n",
      "\n",
      "\n",
      "Prediction\n"
     ]
    }
   ],
   "source": [
    "print(\"Top terms per cluster:\")\n",
    "order_centroids = model.cluster_centers_.argsort()[:, ::-1]\n",
    "terms = vectorizer.get_feature_names()\n",
    "for i in range(true_k):\n",
    "    print(\"Cluster %d:\" % i),\n",
    "    for ind in order_centroids[i, :10]:\n",
    "        print(' %s' % terms[ind]),\n",
    "    print\n",
    " \n",
    " \n",
    "print(\"\\n\")\n",
    "print(\"Prediction\")"
   ]
  },
  {
   "cell_type": "code",
   "execution_count": 9,
   "metadata": {},
   "outputs": [
    {
     "name": "stdout",
     "output_type": "stream",
     "text": [
      "[0]\n"
     ]
    }
   ],
   "source": [
    "Y = vectorizer.transform([\"Public Transportation\"])\n",
    "prediction = model.predict(Y)\n",
    "print(prediction)"
   ]
  },
  {
   "cell_type": "code",
   "execution_count": 10,
   "metadata": {},
   "outputs": [
    {
     "name": "stdout",
     "output_type": "stream",
     "text": [
      "[0]\n"
     ]
    }
   ],
   "source": [
    "Y = vectorizer.transform([\"Trolley\"])\n",
    "prediction = model.predict(Y)\n",
    "print(prediction)"
   ]
  },
  {
   "cell_type": "markdown",
   "metadata": {
    "collapsed": true
   },
   "source": [
    "Use this next! \n",
    "http://scikit-learn.org/stable/modules/label_propagation.html"
   ]
  },
  {
   "cell_type": "code",
   "execution_count": null,
   "metadata": {
    "collapsed": true
   },
   "outputs": [],
   "source": []
  },
  {
   "cell_type": "code",
   "execution_count": null,
   "metadata": {
    "collapsed": true
   },
   "outputs": [],
   "source": []
  }
 ],
 "metadata": {
  "kernelspec": {
   "display_name": "Python 2",
   "language": "python",
   "name": "python2"
  },
  "language_info": {
   "codemirror_mode": {
    "name": "ipython",
    "version": 2
   },
   "file_extension": ".py",
   "mimetype": "text/x-python",
   "name": "python",
   "nbconvert_exporter": "python",
   "pygments_lexer": "ipython2",
   "version": "2.7.14"
  }
 },
 "nbformat": 4,
 "nbformat_minor": 2
}
