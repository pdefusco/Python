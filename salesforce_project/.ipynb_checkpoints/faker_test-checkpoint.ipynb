{
 "cells": [
  {
   "cell_type": "markdown",
   "metadata": {},
   "source": [
    "### Faker Test"
   ]
  },
  {
   "cell_type": "markdown",
   "metadata": {},
   "source": [
    "Test creating realistic customer data with the faker library. All personal info is completely made up by the library."
   ]
  },
  {
   "cell_type": "code",
   "execution_count": 2,
   "metadata": {},
   "outputs": [],
   "source": [
    "from faker import Faker"
   ]
  },
  {
   "cell_type": "code",
   "execution_count": 45,
   "metadata": {},
   "outputs": [],
   "source": [
    "from faker.providers import ssn\n",
    "from faker.providers import address\n",
    "from faker.providers import company\n",
    "from faker.providers import credit_card\n",
    "from faker.providers import phone_number\n",
    "from faker.providers import misc\n",
    "from faker.providers import profile\n",
    "from faker.providers import python\n",
    "from faker.providers import automotive\n",
    "from faker.providers import bank\n",
    "from faker.providers import barcode\n",
    "from faker.providers import color\n",
    "from faker.providers import currency\n",
    "from faker.providers import date_time\n",
    "from faker.providers import file\n",
    "from faker.providers import geo\n",
    "from faker.providers import internet\n",
    "from faker.providers import isbn\n",
    "from faker.providers import job\n",
    "from faker.providers import lorem\n",
    "from faker.providers import user_agent"
   ]
  },
  {
   "cell_type": "code",
   "execution_count": 46,
   "metadata": {},
   "outputs": [],
   "source": [
    "fake = Faker()"
   ]
  },
  {
   "cell_type": "code",
   "execution_count": 47,
   "metadata": {},
   "outputs": [
    {
     "data": {
      "text/plain": [
       "'Ashlee Johnston'"
      ]
     },
     "execution_count": 47,
     "metadata": {},
     "output_type": "execute_result"
    }
   ],
   "source": [
    "fake.name()"
   ]
  },
  {
   "cell_type": "code",
   "execution_count": 48,
   "metadata": {},
   "outputs": [
    {
     "name": "stdout",
     "output_type": "stream",
     "text": [
      "David Eaton\n",
      "Randall Bruce\n",
      "Samuel Williams\n",
      "Benjamin Padilla\n",
      "Danielle Taylor\n",
      "Jenna Payne\n",
      "Tyrone Novak\n",
      "Brandon Collins\n",
      "Troy Richardson\n",
      "Robert Hubbard\n"
     ]
    }
   ],
   "source": [
    "for i in range(10):\n",
    "    print(fake.name())"
   ]
  },
  {
   "cell_type": "markdown",
   "metadata": {},
   "source": [
    "### Faker Providers\n",
    "- faker.providers.address\n",
    "- faker.providers.automotive\n",
    "- faker.providers.bank\n",
    "- faker.providers.barcode\n",
    "- faker.providers.color\n",
    "- faker.providers.company\n",
    "- faker.providers.credit_card\n",
    "- faker.providers.currency\n",
    "- faker.providers.date_time\n",
    "- faker.providers.file\n",
    "- faker.providers.geo\n",
    "- faker.providers.internet\n",
    "- faker.providers.isbn\n",
    "- faker.providers.job\n",
    "- faker.providers.lorem\n",
    "- faker.providers.misc\n",
    "- faker.providers.person\n",
    "- faker.providers.phone_number\n",
    "- faker.providers.profile\n",
    "- faker.providers.python\n",
    "- faker.providers.ssn\n",
    "- faker.providers.user_agent"
   ]
  },
  {
   "cell_type": "code",
   "execution_count": 49,
   "metadata": {},
   "outputs": [],
   "source": [
    "name = []\n",
    "address = []\n",
    "phone_number = []\n",
    "ssn = []"
   ]
  },
  {
   "cell_type": "code",
   "execution_count": 51,
   "metadata": {},
   "outputs": [],
   "source": [
    "fake.add_provider(ssn)\n",
    "fake.add_provider(address)\n",
    "fake.add_provider(company)\n",
    "fake.add_provider(credit_card)\n",
    "fake.add_provider(phone_number)\n",
    "fake.add_provider(misc)\n",
    "fake.add_provider(profile)\n",
    "fake.add_provider(internet)\n",
    "\n",
    "fake.add_provider(automotive)\n",
    "fake.add_provider(bank)\n",
    "fake.add_provider(barcode)\n",
    "fake.add_provider(color)\n",
    "fake.add_provider(currency)\n",
    "fake.add_provider(date_time)\n",
    "fake.add_provider(file)\n",
    "fake.add_provider(geo)\n",
    "\n",
    "fake.add_provider(isbn)\n",
    "fake.add_provider(job)\n",
    "fake.add_provider(lorem)\n",
    "fake.add_provider(user_agent)"
   ]
  },
  {
   "cell_type": "code",
   "execution_count": 56,
   "metadata": {},
   "outputs": [
    {
     "data": {
      "text/plain": [
       "('BRL', 'Brazilian real')"
      ]
     },
     "execution_count": 56,
     "metadata": {},
     "output_type": "execute_result"
    }
   ],
   "source": [
    "fake.currency()"
   ]
  },
  {
   "cell_type": "code",
   "execution_count": 57,
   "metadata": {},
   "outputs": [
    {
     "data": {
      "text/plain": [
       "datetime.datetime(2006, 1, 19, 21, 32, 31)"
      ]
     },
     "execution_count": 57,
     "metadata": {},
     "output_type": "execute_result"
    }
   ],
   "source": [
    "fake.date_time()"
   ]
  },
  {
   "cell_type": "code",
   "execution_count": 61,
   "metadata": {},
   "outputs": [
    {
     "data": {
      "text/plain": [
       "'Games developer'"
      ]
     },
     "execution_count": 61,
     "metadata": {},
     "output_type": "execute_result"
    }
   ],
   "source": [
    "fake.job()"
   ]
  },
  {
   "cell_type": "code",
   "execution_count": 64,
   "metadata": {},
   "outputs": [
    {
     "data": {
      "text/plain": [
       "'Mozilla/5.0 (compatible; MSIE 9.0; Windows NT 5.2; Trident/4.0)'"
      ]
     },
     "execution_count": 64,
     "metadata": {},
     "output_type": "execute_result"
    }
   ],
   "source": [
    "fake.user_agent()"
   ]
  },
  {
   "cell_type": "code",
   "execution_count": 24,
   "metadata": {},
   "outputs": [
    {
     "data": {
      "text/plain": [
       "'330-66-8664'"
      ]
     },
     "execution_count": 24,
     "metadata": {},
     "output_type": "execute_result"
    }
   ],
   "source": [
    "fake.ssn()"
   ]
  },
  {
   "cell_type": "code",
   "execution_count": 27,
   "metadata": {},
   "outputs": [
    {
     "data": {
      "text/plain": [
       "'901 White Island\\nMarshhaven, FL 34780'"
      ]
     },
     "execution_count": 27,
     "metadata": {},
     "output_type": "execute_result"
    }
   ],
   "source": [
    "fake.address()"
   ]
  },
  {
   "cell_type": "code",
   "execution_count": 28,
   "metadata": {},
   "outputs": [
    {
     "data": {
      "text/plain": [
       "'Rose and Sons'"
      ]
     },
     "execution_count": 28,
     "metadata": {},
     "output_type": "execute_result"
    }
   ],
   "source": [
    "fake.company()"
   ]
  },
  {
   "cell_type": "code",
   "execution_count": 31,
   "metadata": {},
   "outputs": [
    {
     "data": {
      "text/plain": [
       "'965.532.3765x87475'"
      ]
     },
     "execution_count": 31,
     "metadata": {},
     "output_type": "execute_result"
    }
   ],
   "source": [
    "fake.phone_number()"
   ]
  },
  {
   "cell_type": "code",
   "execution_count": 33,
   "metadata": {},
   "outputs": [
    {
     "data": {
      "text/plain": [
       "{'job': 'Chartered certified accountant',\n",
       " 'company': 'Lopez, Montgomery and Bonilla',\n",
       " 'ssn': '292-91-8919',\n",
       " 'residence': 'PSC 5016, Box 4095\\nAPO AA 82059',\n",
       " 'current_location': (Decimal('54.307243'), Decimal('27.371334')),\n",
       " 'blood_group': 'B+',\n",
       " 'website': ['https://www.wilson.com/'],\n",
       " 'username': 'molinamelody',\n",
       " 'name': 'Angela Parks',\n",
       " 'sex': 'F',\n",
       " 'address': '945 Annette Hills\\nBauerside, MD 33633',\n",
       " 'mail': 'millermason@yahoo.com',\n",
       " 'birthdate': datetime.date(2009, 7, 29)}"
      ]
     },
     "execution_count": 33,
     "metadata": {},
     "output_type": "execute_result"
    }
   ],
   "source": [
    "fake.profile()"
   ]
  },
  {
   "cell_type": "code",
   "execution_count": 39,
   "metadata": {},
   "outputs": [],
   "source": [
    "import pandas as pd"
   ]
  },
  {
   "cell_type": "code",
   "execution_count": 67,
   "metadata": {},
   "outputs": [],
   "source": [
    "profiles = []\n",
    "phone_numbers = []\n",
    "\n",
    "for i in range(1000):\n",
    "    profiles.append(fake.profile())\n",
    "    phone_numbers.append(fake.phone_number())\n",
    "\n",
    "profiles = pd.DataFrame(profiles)\n",
    "profiles['phone_number'] = phone_numbers"
   ]
  },
  {
   "cell_type": "code",
   "execution_count": 68,
   "metadata": {},
   "outputs": [
    {
     "data": {
      "text/html": [
       "<div>\n",
       "<style scoped>\n",
       "    .dataframe tbody tr th:only-of-type {\n",
       "        vertical-align: middle;\n",
       "    }\n",
       "\n",
       "    .dataframe tbody tr th {\n",
       "        vertical-align: top;\n",
       "    }\n",
       "\n",
       "    .dataframe thead th {\n",
       "        text-align: right;\n",
       "    }\n",
       "</style>\n",
       "<table border=\"1\" class=\"dataframe\">\n",
       "  <thead>\n",
       "    <tr style=\"text-align: right;\">\n",
       "      <th></th>\n",
       "      <th>address</th>\n",
       "      <th>birthdate</th>\n",
       "      <th>blood_group</th>\n",
       "      <th>company</th>\n",
       "      <th>current_location</th>\n",
       "      <th>job</th>\n",
       "      <th>mail</th>\n",
       "      <th>name</th>\n",
       "      <th>residence</th>\n",
       "      <th>sex</th>\n",
       "      <th>ssn</th>\n",
       "      <th>username</th>\n",
       "      <th>website</th>\n",
       "      <th>phone_number</th>\n",
       "    </tr>\n",
       "  </thead>\n",
       "  <tbody>\n",
       "    <tr>\n",
       "      <th>0</th>\n",
       "      <td>7054 William Vista\\nReillyton, ID 38292</td>\n",
       "      <td>1938-11-17</td>\n",
       "      <td>B-</td>\n",
       "      <td>Williams Ltd</td>\n",
       "      <td>(-42.3492215, -82.101956)</td>\n",
       "      <td>Education administrator</td>\n",
       "      <td>patricia52@yahoo.com</td>\n",
       "      <td>Debra Hatfield</td>\n",
       "      <td>386 Williams Drives Apt. 916\\nPhiliptown, IL 2...</td>\n",
       "      <td>F</td>\n",
       "      <td>372-06-8163</td>\n",
       "      <td>luke24</td>\n",
       "      <td>[http://www.farmer.com/]</td>\n",
       "      <td>613-302-0500x428</td>\n",
       "    </tr>\n",
       "    <tr>\n",
       "      <th>1</th>\n",
       "      <td>8800 Wilson Radial\\nWest Denisefurt, IL 47337</td>\n",
       "      <td>2017-05-04</td>\n",
       "      <td>AB-</td>\n",
       "      <td>Becker, Rodriguez and Foster</td>\n",
       "      <td>(-11.8507295, 1.870122)</td>\n",
       "      <td>Commercial/residential surveyor</td>\n",
       "      <td>monica37@gmail.com</td>\n",
       "      <td>Terry Haas</td>\n",
       "      <td>11551 Angela Stream\\nHowardstad, PA 02674</td>\n",
       "      <td>M</td>\n",
       "      <td>646-75-3060</td>\n",
       "      <td>pfrederick</td>\n",
       "      <td>[https://www.richardson-delgado.info/, https:/...</td>\n",
       "      <td>789.925.3826x25830</td>\n",
       "    </tr>\n",
       "    <tr>\n",
       "      <th>2</th>\n",
       "      <td>45916 Gonzalez Trail\\nMarvinborough, VT 98752</td>\n",
       "      <td>2001-12-01</td>\n",
       "      <td>A+</td>\n",
       "      <td>Atkins Ltd</td>\n",
       "      <td>(-1.447314, -30.742583)</td>\n",
       "      <td>Magazine journalist</td>\n",
       "      <td>martin85@yahoo.com</td>\n",
       "      <td>Scott Wolfe</td>\n",
       "      <td>403 Riley Springs\\nAndrewsport, OH 57592</td>\n",
       "      <td>M</td>\n",
       "      <td>223-39-2497</td>\n",
       "      <td>whitney89</td>\n",
       "      <td>[http://lamb.com/, http://www.rodriguez.info/]</td>\n",
       "      <td>260.745.9162</td>\n",
       "    </tr>\n",
       "    <tr>\n",
       "      <th>3</th>\n",
       "      <td>USS Bryan\\nFPO AA 34121</td>\n",
       "      <td>1923-07-08</td>\n",
       "      <td>A-</td>\n",
       "      <td>Moore, Gonzalez and Miller</td>\n",
       "      <td>(-82.827245, 162.479012)</td>\n",
       "      <td>Dance movement psychotherapist</td>\n",
       "      <td>jellis@hotmail.com</td>\n",
       "      <td>Janet Weaver</td>\n",
       "      <td>56501 Burke Brook Apt. 013\\nJoshuatown, NE 82309</td>\n",
       "      <td>F</td>\n",
       "      <td>321-57-7620</td>\n",
       "      <td>barnesmorgan</td>\n",
       "      <td>[http://www.shelton.com/]</td>\n",
       "      <td>7417409394</td>\n",
       "    </tr>\n",
       "    <tr>\n",
       "      <th>4</th>\n",
       "      <td>419 Mitchell Cliff Apt. 655\\nEdwardsmouth, HI ...</td>\n",
       "      <td>1964-09-10</td>\n",
       "      <td>O-</td>\n",
       "      <td>Bishop and Sons</td>\n",
       "      <td>(65.267070, -61.228618)</td>\n",
       "      <td>Surgeon</td>\n",
       "      <td>laurie56@gmail.com</td>\n",
       "      <td>Catherine Bennett</td>\n",
       "      <td>6394 Pratt Cape Apt. 845\\nEast Brandonland, AZ...</td>\n",
       "      <td>F</td>\n",
       "      <td>317-53-6266</td>\n",
       "      <td>qlindsey</td>\n",
       "      <td>[http://www.huber.info/, https://www.morgan.org/]</td>\n",
       "      <td>122.368.5778x581</td>\n",
       "    </tr>\n",
       "  </tbody>\n",
       "</table>\n",
       "</div>"
      ],
      "text/plain": [
       "                                             address   birthdate blood_group  \\\n",
       "0            7054 William Vista\\nReillyton, ID 38292  1938-11-17          B-   \n",
       "1      8800 Wilson Radial\\nWest Denisefurt, IL 47337  2017-05-04         AB-   \n",
       "2      45916 Gonzalez Trail\\nMarvinborough, VT 98752  2001-12-01          A+   \n",
       "3                            USS Bryan\\nFPO AA 34121  1923-07-08          A-   \n",
       "4  419 Mitchell Cliff Apt. 655\\nEdwardsmouth, HI ...  1964-09-10          O-   \n",
       "\n",
       "                        company           current_location  \\\n",
       "0                  Williams Ltd  (-42.3492215, -82.101956)   \n",
       "1  Becker, Rodriguez and Foster    (-11.8507295, 1.870122)   \n",
       "2                    Atkins Ltd    (-1.447314, -30.742583)   \n",
       "3    Moore, Gonzalez and Miller   (-82.827245, 162.479012)   \n",
       "4               Bishop and Sons    (65.267070, -61.228618)   \n",
       "\n",
       "                               job                  mail               name  \\\n",
       "0          Education administrator  patricia52@yahoo.com     Debra Hatfield   \n",
       "1  Commercial/residential surveyor    monica37@gmail.com         Terry Haas   \n",
       "2              Magazine journalist    martin85@yahoo.com        Scott Wolfe   \n",
       "3   Dance movement psychotherapist    jellis@hotmail.com       Janet Weaver   \n",
       "4                          Surgeon    laurie56@gmail.com  Catherine Bennett   \n",
       "\n",
       "                                           residence sex          ssn  \\\n",
       "0  386 Williams Drives Apt. 916\\nPhiliptown, IL 2...   F  372-06-8163   \n",
       "1          11551 Angela Stream\\nHowardstad, PA 02674   M  646-75-3060   \n",
       "2           403 Riley Springs\\nAndrewsport, OH 57592   M  223-39-2497   \n",
       "3   56501 Burke Brook Apt. 013\\nJoshuatown, NE 82309   F  321-57-7620   \n",
       "4  6394 Pratt Cape Apt. 845\\nEast Brandonland, AZ...   F  317-53-6266   \n",
       "\n",
       "       username                                            website  \\\n",
       "0        luke24                           [http://www.farmer.com/]   \n",
       "1    pfrederick  [https://www.richardson-delgado.info/, https:/...   \n",
       "2     whitney89     [http://lamb.com/, http://www.rodriguez.info/]   \n",
       "3  barnesmorgan                          [http://www.shelton.com/]   \n",
       "4      qlindsey  [http://www.huber.info/, https://www.morgan.org/]   \n",
       "\n",
       "         phone_number  \n",
       "0    613-302-0500x428  \n",
       "1  789.925.3826x25830  \n",
       "2        260.745.9162  \n",
       "3          7417409394  \n",
       "4    122.368.5778x581  "
      ]
     },
     "execution_count": 68,
     "metadata": {},
     "output_type": "execute_result"
    }
   ],
   "source": [
    "profiles.head()"
   ]
  },
  {
   "cell_type": "code",
   "execution_count": null,
   "metadata": {},
   "outputs": [],
   "source": []
  }
 ],
 "metadata": {
  "kernelspec": {
   "display_name": "py36",
   "language": "python",
   "name": "py36"
  },
  "language_info": {
   "codemirror_mode": {
    "name": "ipython",
    "version": 3
   },
   "file_extension": ".py",
   "mimetype": "text/x-python",
   "name": "python",
   "nbconvert_exporter": "python",
   "pygments_lexer": "ipython3",
   "version": "3.6.7"
  }
 },
 "nbformat": 4,
 "nbformat_minor": 2
}
