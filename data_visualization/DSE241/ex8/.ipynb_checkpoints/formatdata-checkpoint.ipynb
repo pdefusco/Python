{
 "cells": [
  {
   "cell_type": "code",
   "execution_count": 1,
   "metadata": {
    "collapsed": true
   },
   "outputs": [],
   "source": [
    "import pandas as pd"
   ]
  },
  {
   "cell_type": "code",
   "execution_count": 170,
   "metadata": {},
   "outputs": [],
   "source": [
    "sheet1 = pd.read_csv('West_Nile_Virus_by_County2/Sheet 1-Table 1.csv')"
   ]
  },
  {
   "cell_type": "code",
   "execution_count": 85,
   "metadata": {},
   "outputs": [],
   "source": [
    "sheet3 = pd.read_csv('West_Nile_Virus_by_County2/test2.csv')"
   ]
  },
  {
   "cell_type": "code",
   "execution_count": 120,
   "metadata": {},
   "outputs": [],
   "source": [
    "sheet1['Year'] = sheet1.Year.astype(str)"
   ]
  },
  {
   "cell_type": "code",
   "execution_count": 121,
   "metadata": {
    "collapsed": true
   },
   "outputs": [],
   "source": [
    "sheet3['Year'] = sheet3.Year.astype(str)"
   ]
  },
  {
   "cell_type": "code",
   "execution_count": 125,
   "metadata": {},
   "outputs": [
    {
     "name": "stdout",
     "output_type": "stream",
     "text": [
      "Year              object\n",
      "Week_Reported      int64\n",
      "County            object\n",
      "County Code       object\n",
      "id                 int64\n",
      "Positive_Cases     int64\n",
      "dtype: object\n",
      "Year          object\n",
      "Population     int64\n",
      "County2       object\n",
      "dtype: object\n"
     ]
    }
   ],
   "source": [
    "print sheet1.dtypes\n",
    "print sheet3.dtypes"
   ]
  },
  {
   "cell_type": "code",
   "execution_count": 147,
   "metadata": {},
   "outputs": [],
   "source": [
    "new = sheet3.merge(sheet1, how='left', left_on = ['County2','Year'], right_on = ['County','Year'])"
   ]
  },
  {
   "cell_type": "code",
   "execution_count": 148,
   "metadata": {},
   "outputs": [],
   "source": [
    "new.to_csv('output.csv')"
   ]
  },
  {
   "cell_type": "code",
   "execution_count": 138,
   "metadata": {},
   "outputs": [
    {
     "data": {
      "text/plain": [
       "-1310"
      ]
     },
     "execution_count": 138,
     "metadata": {},
     "output_type": "execute_result"
    }
   ],
   "source": [
    "1264-2574"
   ]
  },
  {
   "cell_type": "code",
   "execution_count": 174,
   "metadata": {},
   "outputs": [],
   "source": [
    "month = []\n",
    "for i in sheet1['Week_Reported']:\n",
    "    if i/4 == 1:\n",
    "        month.append('January')\n",
    "    elif i/4 == 2:\n",
    "        month.append('February')\n",
    "    elif i/4 == 3:\n",
    "        month.append('March')        \n",
    "    elif i/4 == 4:\n",
    "        month.append('April')\n",
    "    elif i/4 == 5:\n",
    "        month.append('May')\n",
    "    elif i/4 == 6:\n",
    "        month.append('June')        \n",
    "    elif i/4 == 7:\n",
    "        month.append('July')\n",
    "    elif i/4 == 8:\n",
    "        month.append('August')\n",
    "    elif i/4 == 9:\n",
    "        month.append('September')        \n",
    "    elif i/4 == 10:\n",
    "        month.append('October')\n",
    "    elif i/4 == 11:\n",
    "        month.append('November')\n",
    "    elif i/4 == 12:\n",
    "        month.append('December')\n",
    "    else:\n",
    "        month.append('December')\n",
    "    "
   ]
  },
  {
   "cell_type": "code",
   "execution_count": 175,
   "metadata": {},
   "outputs": [],
   "source": [
    "sheet1['Month']=month"
   ]
  },
  {
   "cell_type": "code",
   "execution_count": 177,
   "metadata": {},
   "outputs": [
    {
     "data": {
      "text/html": [
       "<div>\n",
       "<style scoped>\n",
       "    .dataframe tbody tr th:only-of-type {\n",
       "        vertical-align: middle;\n",
       "    }\n",
       "\n",
       "    .dataframe tbody tr th {\n",
       "        vertical-align: top;\n",
       "    }\n",
       "\n",
       "    .dataframe thead th {\n",
       "        text-align: right;\n",
       "    }\n",
       "</style>\n",
       "<table border=\"1\" class=\"dataframe\">\n",
       "  <thead>\n",
       "    <tr style=\"text-align: right;\">\n",
       "      <th></th>\n",
       "      <th>Year</th>\n",
       "      <th>Week_Reported</th>\n",
       "      <th>County</th>\n",
       "      <th>County Code</th>\n",
       "      <th>id</th>\n",
       "      <th>Positive_Cases</th>\n",
       "      <th>Unnamed: 6</th>\n",
       "      <th>Month</th>\n",
       "    </tr>\n",
       "  </thead>\n",
       "  <tbody>\n",
       "    <tr>\n",
       "      <th>0</th>\n",
       "      <td>2006</td>\n",
       "      <td>35</td>\n",
       "      <td>Alameda</td>\n",
       "      <td>Ala</td>\n",
       "      <td>6001</td>\n",
       "      <td>1</td>\n",
       "      <td>NaN</td>\n",
       "      <td>August</td>\n",
       "    </tr>\n",
       "    <tr>\n",
       "      <th>1</th>\n",
       "      <td>2006</td>\n",
       "      <td>33</td>\n",
       "      <td>Butte</td>\n",
       "      <td>But</td>\n",
       "      <td>6007</td>\n",
       "      <td>4</td>\n",
       "      <td>NaN</td>\n",
       "      <td>August</td>\n",
       "    </tr>\n",
       "    <tr>\n",
       "      <th>2</th>\n",
       "      <td>2006</td>\n",
       "      <td>34</td>\n",
       "      <td>Butte</td>\n",
       "      <td>But</td>\n",
       "      <td>6007</td>\n",
       "      <td>1</td>\n",
       "      <td>NaN</td>\n",
       "      <td>August</td>\n",
       "    </tr>\n",
       "  </tbody>\n",
       "</table>\n",
       "</div>"
      ],
      "text/plain": [
       "   Year  Week_Reported   County County Code    id  Positive_Cases  Unnamed: 6  \\\n",
       "0  2006             35  Alameda         Ala  6001               1         NaN   \n",
       "1  2006             33    Butte         But  6007               4         NaN   \n",
       "2  2006             34    Butte         But  6007               1         NaN   \n",
       "\n",
       "    Month  \n",
       "0  August  \n",
       "1  August  \n",
       "2  August  "
      ]
     },
     "execution_count": 177,
     "metadata": {},
     "output_type": "execute_result"
    }
   ],
   "source": [
    "sheet1.head(3)"
   ]
  },
  {
   "cell_type": "code",
   "execution_count": 179,
   "metadata": {
    "collapsed": true
   },
   "outputs": [],
   "source": [
    "sheet1.to_csv('newsheet1.csv')"
   ]
  },
  {
   "cell_type": "code",
   "execution_count": null,
   "metadata": {
    "collapsed": true
   },
   "outputs": [],
   "source": []
  }
 ],
 "metadata": {
  "kernelspec": {
   "display_name": "Python 2",
   "language": "python",
   "name": "python2"
  },
  "language_info": {
   "codemirror_mode": {
    "name": "ipython",
    "version": 2
   },
   "file_extension": ".py",
   "mimetype": "text/x-python",
   "name": "python",
   "nbconvert_exporter": "python",
   "pygments_lexer": "ipython2",
   "version": "2.7.14"
  }
 },
 "nbformat": 4,
 "nbformat_minor": 2
}
