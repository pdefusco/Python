{
 "cells": [
  {
   "cell_type": "markdown",
   "metadata": {},
   "source": [
    "### Baseline Model"
   ]
  },
  {
   "cell_type": "code",
   "execution_count": 1,
   "metadata": {},
   "outputs": [],
   "source": [
    "import pandas as pd\n",
    "import numpy as np\n",
    "import seaborn as sns\n",
    "import matplotlib.pyplot as plt"
   ]
  },
  {
   "cell_type": "code",
   "execution_count": 2,
   "metadata": {},
   "outputs": [
    {
     "name": "stdout",
     "output_type": "stream",
     "text": [
      "2007.csv             baseline_model.ipynb df.csv\r\n",
      "airports.csv         carriers.csv         planedata.csv\r\n"
     ]
    }
   ],
   "source": [
    "!ls"
   ]
  },
  {
   "cell_type": "code",
   "execution_count": null,
   "metadata": {},
   "outputs": [],
   "source": [
    "df = pd.read_csv('df.csv').drop('Unnamed: 0', axis=1)"
   ]
  },
  {
   "cell_type": "code",
   "execution_count": null,
   "metadata": {},
   "outputs": [],
   "source": [
    "df.shape"
   ]
  },
  {
   "cell_type": "markdown",
   "metadata": {},
   "source": [
    "Removing Data Leakage Attributes"
   ]
  },
  {
   "cell_type": "code",
   "execution_count": null,
   "metadata": {},
   "outputs": [],
   "source": [
    "df.columns"
   ]
  },
  {
   "cell_type": "code",
   "execution_count": null,
   "metadata": {},
   "outputs": [],
   "source": [
    "df.drop('TailNum.1',axis=1,inplace=True)"
   ]
  },
  {
   "cell_type": "code",
   "execution_count": null,
   "metadata": {},
   "outputs": [],
   "source": [
    "df = df.rename(columns={'PlaneIssueData':'PlaneIssueDate'})"
   ]
  },
  {
   "cell_type": "code",
   "execution_count": null,
   "metadata": {},
   "outputs": [],
   "source": [
    "df.head()"
   ]
  },
  {
   "cell_type": "markdown",
   "metadata": {},
   "source": [
    "The following columns will have to be removed in order to avoid Data Leakage:\n",
    "- ArrTime, DepTime, ActualElapsedTime, AirTime, ArrDelay, DepDelay, TaxiIn, TaxiOut\n",
    "- 'Cancelled', 'CancellationCode', 'Diverted', 'CarrierDelay',\n",
    "- 'WeatherDelay', 'NASDelay', 'SecurityDelay', 'LateAircraftDelay'\n",
    "\n",
    "The following columns are duplicates of other columns:\n",
    "- OriginCityIata\n",
    "\n",
    "The following columns should be removed as they carry no info for a linear model:\n",
    "- 'OriginLat', 'OriginLong', 'DestLat','DestLong', 'CRSDepTime', 'CRSArrTime'"
   ]
  },
  {
   "cell_type": "code",
   "execution_count": null,
   "metadata": {},
   "outputs": [],
   "source": [
    "#df = df.drop(columns=['ArrTime', 'DepTime', 'ActualElapsedTime', 'AirTime',\n",
    "#                 'DepDelay', 'TaxiIn', 'TaxiOut','Cancelled', 'CancellationCode', 'Diverted', 'CarrierDelay',\n",
    "#                 'WeatherDelay', 'NASDelay', 'SecurityDelay', 'LateAircraftDelay', 'OriginCityIata', \n",
    "#                  'OriginLat', 'OriginLong', 'DestLat','DestLong', 'CRSDepTime', 'CRSArrTime'])"
   ]
  },
  {
   "cell_type": "markdown",
   "metadata": {},
   "source": [
    "Feature Engineering"
   ]
  },
  {
   "cell_type": "code",
   "execution_count": null,
   "metadata": {},
   "outputs": [],
   "source": [
    "df.PlaneIssueDate.head()"
   ]
  },
  {
   "cell_type": "code",
   "execution_count": null,
   "metadata": {},
   "outputs": [],
   "source": [
    "df['PlaneIssueDay'] = df['PlaneIssueDate'].str[:2]\n",
    "df['PlaneIssueMonth'] = df['PlaneIssueDate'].str[3:5]\n",
    "df['PlaneIssueYear'] = df['PlaneIssueDate'].str[6:10]"
   ]
  },
  {
   "cell_type": "code",
   "execution_count": null,
   "metadata": {},
   "outputs": [],
   "source": [
    "df = df.drop('PlaneIssueDate', axis=1)"
   ]
  },
  {
   "cell_type": "code",
   "execution_count": null,
   "metadata": {},
   "outputs": [],
   "source": [
    "# y = 'ArrDelay' "
   ]
  },
  {
   "cell_type": "code",
   "execution_count": null,
   "metadata": {},
   "outputs": [],
   "source": [
    "#Removing DestCountry because all flights are within the US\n",
    "len(df['DestCountry'].unique())"
   ]
  },
  {
   "cell_type": "code",
   "execution_count": null,
   "metadata": {},
   "outputs": [],
   "source": [
    "df = df.drop('DestCountry', axis=1)"
   ]
  },
  {
   "cell_type": "markdown",
   "metadata": {},
   "source": [
    "We have dropped all columns that should be dropped at this point. Next: Nulls"
   ]
  },
  {
   "cell_type": "code",
   "execution_count": null,
   "metadata": {},
   "outputs": [],
   "source": [
    "#Checking for nulls in each column:\n",
    "df.isnull().sum()"
   ]
  },
  {
   "cell_type": "code",
   "execution_count": null,
   "metadata": {},
   "outputs": [],
   "source": [
    "df[df.OriginCity.isnull()]['Origin'].unique()\n",
    "#df[df.DestCity.isnull()]['Dest'].unique()"
   ]
  },
  {
   "cell_type": "code",
   "execution_count": null,
   "metadata": {},
   "outputs": [],
   "source": [
    "df.DestCity.loc[df.Dest == 'CLD'] = 'Carlsbad'\n",
    "df.DestCity.loc[df.Dest == 'MQT'] = 'Sawyer'\n",
    "df.DestCity.loc[df.Dest == 'SCE'] = 'University Park'\n",
    "df.DestCity.loc[df.Dest == 'HHH'] = 'Hilton Head'\n",
    "df.DestState.loc[df.Dest == 'CLD'] = 'CA'\n",
    "df.DestState.loc[df.Dest == 'MQT'] = 'MI'\n",
    "df.DestState.loc[df.Dest == 'SCE'] = 'PA'\n",
    "df.DestState.loc[df.Dest == 'HHH'] = 'SC'"
   ]
  },
  {
   "cell_type": "code",
   "execution_count": null,
   "metadata": {},
   "outputs": [],
   "source": [
    "df.OriginCity.loc[df.Origin == 'CLD'] = 'Carlsbad'\n",
    "df.OriginCity.loc[df.Origin == 'MQT'] = 'Sawyer'\n",
    "df.OriginCity.loc[df.Origin == 'SCE'] = 'University Park'\n",
    "df.OriginCity.loc[df.Origin == 'HHH'] = 'Hilton Head'\n",
    "df.OriginState.loc[df.Origin == 'CLD'] = 'CA'\n",
    "df.OriginState.loc[df.Origin == 'MQT'] = 'MI'\n",
    "df.OriginState.loc[df.Origin == 'SCE'] = 'PA'\n",
    "df.OriginState.loc[df.Origin == 'HHH'] = 'SC'"
   ]
  },
  {
   "cell_type": "code",
   "execution_count": null,
   "metadata": {},
   "outputs": [],
   "source": [
    "df.isnull().sum()"
   ]
  },
  {
   "cell_type": "code",
   "execution_count": null,
   "metadata": {},
   "outputs": [],
   "source": [
    "#Replacing nulls in unrecognized planes with unknowns \n",
    "df[['PlaneOwnership', 'Manufacturer', 'PlaneModel', 'PlaneStatus', 'AircraftType', 'Engine']] = df[['PlaneOwnership', 'Manufacturer', 'PlaneModel', 'PlaneStatus', 'AircraftType', 'Engine']].fillna(value = 'Unknown')\n",
    "#Replacing nulls with median\n",
    "df[['PlaneYear','PlaneIssueDay','PlaneIssueMonth','PlaneIssueYear']] = df[['PlaneYear','PlaneIssueDay','PlaneIssueMonth','PlaneIssueYear']].fillna(value=2000)"
   ]
  },
  {
   "cell_type": "markdown",
   "metadata": {},
   "source": [
    "Working with Data Types"
   ]
  },
  {
   "cell_type": "code",
   "execution_count": null,
   "metadata": {},
   "outputs": [],
   "source": [
    "df.dtypes"
   ]
  },
  {
   "cell_type": "code",
   "execution_count": null,
   "metadata": {},
   "outputs": [],
   "source": [
    "#Even though Plane Issue Day, Month and Year are numeric attributes only the Year can be said to be on a numeric scale"
   ]
  },
  {
   "cell_type": "code",
   "execution_count": null,
   "metadata": {},
   "outputs": [],
   "source": [
    "#mean = df[df['PlaneIssueYear']!='']['PlaneIssueYear'].mean()"
   ]
  },
  {
   "cell_type": "code",
   "execution_count": null,
   "metadata": {},
   "outputs": [],
   "source": [
    "df['PlaneIssueYear'] = df['PlaneIssueYear'].replace('',2000)"
   ]
  },
  {
   "cell_type": "code",
   "execution_count": null,
   "metadata": {},
   "outputs": [],
   "source": [
    "df.columns"
   ]
  },
  {
   "cell_type": "code",
   "execution_count": null,
   "metadata": {},
   "outputs": [],
   "source": [
    "#We would like to one hot encode categorical variables but doing so directly would introduce too much sparsity"
   ]
  },
  {
   "cell_type": "code",
   "execution_count": null,
   "metadata": {},
   "outputs": [],
   "source": [
    "#top_dest = df[['DestAirport','ArrDelay']].groupby('ArrDelay').sum()['ArrDelay'].nlargest(10).reset_index()"
   ]
  },
  {
   "cell_type": "code",
   "execution_count": null,
   "metadata": {},
   "outputs": [],
   "source": [
    "#Looking for Columns to one hot encode\n",
    "print('Candidates for One Hot Encoding:')\n",
    "print('Unique Carriers: ', len(df.Carrier.unique()))\n",
    "print('Unique Origin Airports: ', len(df.Origin.unique()))\n",
    "print('Unique Destination Airports: ', len(df.Dest.unique()))\n",
    "print('Plane Manufacturer: ', len(df.Manufacturer.unique()))\n",
    "print('Unique Plane Models: ', len(df.PlaneModel.unique()))\n",
    "print('Unique Plane Status: ', len(df.PlaneStatus.unique()))\n",
    "print('Unique Aircraft Type: ', len(df.AircraftType.unique()))"
   ]
  },
  {
   "cell_type": "code",
   "execution_count": null,
   "metadata": {},
   "outputs": [],
   "source": []
  },
  {
   "cell_type": "code",
   "execution_count": null,
   "metadata": {},
   "outputs": [],
   "source": []
  },
  {
   "cell_type": "code",
   "execution_count": null,
   "metadata": {},
   "outputs": [],
   "source": []
  },
  {
   "cell_type": "code",
   "execution_count": null,
   "metadata": {},
   "outputs": [],
   "source": []
  },
  {
   "cell_type": "code",
   "execution_count": null,
   "metadata": {},
   "outputs": [],
   "source": []
  },
  {
   "cell_type": "code",
   "execution_count": null,
   "metadata": {},
   "outputs": [],
   "source": []
  },
  {
   "cell_type": "code",
   "execution_count": null,
   "metadata": {},
   "outputs": [],
   "source": []
  },
  {
   "cell_type": "code",
   "execution_count": null,
   "metadata": {},
   "outputs": [],
   "source": []
  },
  {
   "cell_type": "code",
   "execution_count": null,
   "metadata": {},
   "outputs": [],
   "source": [
    "df.shape"
   ]
  },
  {
   "cell_type": "code",
   "execution_count": null,
   "metadata": {},
   "outputs": [],
   "source": []
  },
  {
   "cell_type": "code",
   "execution_count": null,
   "metadata": {},
   "outputs": [],
   "source": [
    "#Finally, one hot encoding categorical variables:\n",
    "#pd.get_dummies(df, columns=['Carrier', ''])"
   ]
  },
  {
   "cell_type": "code",
   "execution_count": null,
   "metadata": {},
   "outputs": [],
   "source": [
    "#Plotting distribution of delays\n",
    "ax = sns.distplot(df['ArrDelay']).set_title('Delays Distribution')\n",
    "plt.show()"
   ]
  }
 ],
 "metadata": {
  "kernelspec": {
   "display_name": "py36",
   "language": "python",
   "name": "py36"
  },
  "language_info": {
   "codemirror_mode": {
    "name": "ipython",
    "version": 3
   },
   "file_extension": ".py",
   "mimetype": "text/x-python",
   "name": "python",
   "nbconvert_exporter": "python",
   "pygments_lexer": "ipython3",
   "version": "3.6.7"
  }
 },
 "nbformat": 4,
 "nbformat_minor": 2
}
