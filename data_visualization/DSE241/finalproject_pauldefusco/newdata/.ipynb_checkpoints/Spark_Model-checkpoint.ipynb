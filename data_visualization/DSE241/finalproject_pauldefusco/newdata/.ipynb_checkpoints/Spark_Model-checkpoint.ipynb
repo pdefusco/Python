{
 "cells": [
  {
   "cell_type": "markdown",
   "metadata": {},
   "source": [
    "### Spark Model"
   ]
  },
  {
   "cell_type": "code",
   "execution_count": 244,
   "metadata": {},
   "outputs": [],
   "source": [
    "#sc.stop()"
   ]
  },
  {
   "cell_type": "code",
   "execution_count": 245,
   "metadata": {},
   "outputs": [],
   "source": [
    "import findspark\n",
    "findspark.init()"
   ]
  },
  {
   "cell_type": "code",
   "execution_count": 246,
   "metadata": {},
   "outputs": [
    {
     "data": {
      "text/html": [
       "\n",
       "        <div>\n",
       "            <p><b>SparkContext</b></p>\n",
       "\n",
       "            <p><a href=\"http://10.0.1.4:4040\">Spark UI</a></p>\n",
       "\n",
       "            <dl>\n",
       "              <dt>Version</dt>\n",
       "                <dd><code>v2.3.0</code></dd>\n",
       "              <dt>Master</dt>\n",
       "                <dd><code>local[4]</code></dd>\n",
       "              <dt>AppName</dt>\n",
       "                <dd><code>pyspark-shell</code></dd>\n",
       "            </dl>\n",
       "        </div>\n",
       "        "
      ],
      "text/plain": [
       "<SparkContext master=local[4] appName=pyspark-shell>"
      ]
     },
     "execution_count": 246,
     "metadata": {},
     "output_type": "execute_result"
    }
   ],
   "source": [
    "from pyspark import SparkContext\n",
    "sc = SparkContext(master=\"local[4]\")\n",
    "sc"
   ]
  },
  {
   "cell_type": "code",
   "execution_count": 247,
   "metadata": {},
   "outputs": [],
   "source": [
    "tmp = sc.textFile('2007.csv')"
   ]
  },
  {
   "cell_type": "code",
   "execution_count": 248,
   "metadata": {},
   "outputs": [],
   "source": [
    "flights = tmp.sample(False, 1000)"
   ]
  },
  {
   "cell_type": "code",
   "execution_count": 249,
   "metadata": {},
   "outputs": [],
   "source": [
    "carriers = sc.textFile('carriers.csv')"
   ]
  },
  {
   "cell_type": "code",
   "execution_count": 250,
   "metadata": {},
   "outputs": [],
   "source": [
    "airports = sc.textFile('airports.csv')"
   ]
  },
  {
   "cell_type": "code",
   "execution_count": 251,
   "metadata": {},
   "outputs": [],
   "source": [
    "planedata = sc.textFile('planedata.csv')"
   ]
  },
  {
   "cell_type": "code",
   "execution_count": 252,
   "metadata": {},
   "outputs": [],
   "source": [
    "# Helper method to remove header from rdd\n",
    "\n",
    "def remove_header(rdd):\n",
    "    rdd_header = rdd.first()\n",
    "    header = sc.parallelize([rdd_header])\n",
    "    rdd_out = rdd.subtract(header)\n",
    "    return rdd_out, str(rdd_header)"
   ]
  },
  {
   "cell_type": "code",
   "execution_count": 253,
   "metadata": {},
   "outputs": [],
   "source": [
    "flights_rdd, flights_header = remove_header(flights)"
   ]
  },
  {
   "cell_type": "code",
   "execution_count": 254,
   "metadata": {},
   "outputs": [
    {
     "data": {
      "text/plain": [
       "'Year,Month,DayofMonth,DayOfWeek,DepTime,CRSDepTime,ArrTime,CRSArrTime,UniqueCarrier,FlightNum,TailNum,ActualElapsedTime,CRSElapsedTime,AirTime,ArrDelay,DepDelay,Origin,Dest,Distance,TaxiIn,TaxiOut,Cancelled,CancellationCode,Diverted,CarrierDelay,WeatherDelay,NASDelay,SecurityDelay,LateAircraftDelay'"
      ]
     },
     "execution_count": 254,
     "metadata": {},
     "output_type": "execute_result"
    }
   ],
   "source": [
    "#Printing the header for the Flights RDD\n",
    "flights_header"
   ]
  },
  {
   "cell_type": "code",
   "execution_count": 255,
   "metadata": {},
   "outputs": [
    {
     "data": {
      "text/plain": [
       "['2007,1,1,1,831,830,957,1000,WN,2278,N480,86,90,74,-3,1,SMF,PDX,479,3,9,0,,0,0,0,0,0,0',\n",
       " '2007,1,1,1,1630,1630,1746,1750,WN,1146,N707SA,76,80,60,-4,0,SMF,SNA,404,6,10,0,,0,0,0,0,0,0',\n",
       " '2007,1,1,1,1439,1440,1607,1605,WN,728,N707SA,88,85,70,2,-1,SNA,SMF,404,3,15,0,,0,0,0,0,0,0',\n",
       " '2007,1,1,1,2050,2050,2338,2335,WN,675,N637SW,108,105,97,3,0,STL,BWI,737,4,7,0,,0,0,0,0,0,0',\n",
       " '2007,1,1,1,959,1000,1222,1225,WN,1477,N390SW,83,85,70,-3,-1,STL,CLE,487,5,8,0,,0,0,0,0,0,0',\n",
       " '2007,1,1,1,2116,2110,2241,2250,WN,82,N270,85,100,77,-9,6,STL,DAL,546,2,6,0,,0,0,0,0,0,0',\n",
       " '2007,1,1,1,1657,1700,1920,1925,WN,1880,N637SW,83,85,69,-5,-3,STL,DTW,440,7,7,0,,0,0,0,0,0,0',\n",
       " '2007,1,1,1,1358,1350,1602,1600,WN,144,N619SW,124,130,108,2,8,TPA,BWI,842,4,12,0,,0,0,0,0,0,0',\n",
       " '2007,1,1,1,816,815,906,910,WN,11,N624SW,50,55,41,-4,1,TUL,DAL,237,2,7,0,,0,0,0,0,0,0',\n",
       " '2007,1,2,2,1605,1540,1707,1650,WN,2014,N464,62,70,50,17,25,ABQ,PHX,328,4,8,0,,0,2,0,0,0,15']"
      ]
     },
     "execution_count": 255,
     "metadata": {},
     "output_type": "execute_result"
    }
   ],
   "source": [
    "#Printing the first ten rows for the flights RDD\n",
    "flights_rdd.take(10)"
   ]
  },
  {
   "cell_type": "code",
   "execution_count": 256,
   "metadata": {},
   "outputs": [],
   "source": [
    "#Separating RDD and headers for remaining files\n",
    "carriers_rdd, carriers_header = remove_header(carriers)\n",
    "airports_rdd, airports_header = remove_header(airports)\n",
    "planedata_rdd, planedata_header = remove_header(planedata)"
   ]
  },
  {
   "cell_type": "code",
   "execution_count": 257,
   "metadata": {},
   "outputs": [],
   "source": [
    "#INSERT A COUPLE RDD OPERATIONS HERE TO DEMO RDD"
   ]
  },
  {
   "cell_type": "code",
   "execution_count": 258,
   "metadata": {},
   "outputs": [],
   "source": [
    "from pyspark.sql import SQLContext\n",
    "from pyspark.sql.types import Row, StructField, StructType, StringType, IntegerType"
   ]
  },
  {
   "cell_type": "code",
   "execution_count": 260,
   "metadata": {},
   "outputs": [
    {
     "data": {
      "text/plain": [
       "<pyspark.sql.context.SQLContext at 0x112bf5400>"
      ]
     },
     "execution_count": 260,
     "metadata": {},
     "output_type": "execute_result"
    }
   ],
   "source": [
    "sqlContext = SQLContext(sc)\n",
    "sqlContext"
   ]
  },
  {
   "cell_type": "code",
   "execution_count": 261,
   "metadata": {},
   "outputs": [
    {
     "data": {
      "text/plain": [
       "'Year,Month,DayofMonth,DayOfWeek,DepTime,CRSDepTime,ArrTime,CRSArrTime,UniqueCarrier,FlightNum,TailNum,ActualElapsedTime,CRSElapsedTime,AirTime,ArrDelay,DepDelay,Origin,Dest,Distance,TaxiIn,TaxiOut,Cancelled,CancellationCode,Diverted,CarrierDelay,WeatherDelay,NASDelay,SecurityDelay,LateAircraftDelay'"
      ]
     },
     "execution_count": 261,
     "metadata": {},
     "output_type": "execute_result"
    }
   ],
   "source": [
    "flights_header"
   ]
  },
  {
   "cell_type": "code",
   "execution_count": 262,
   "metadata": {},
   "outputs": [
    {
     "data": {
      "text/plain": [
       "'Code,Description'"
      ]
     },
     "execution_count": 262,
     "metadata": {},
     "output_type": "execute_result"
    }
   ],
   "source": [
    "carriers_header"
   ]
  },
  {
   "cell_type": "code",
   "execution_count": 263,
   "metadata": {},
   "outputs": [
    {
     "data": {
      "text/plain": [
       "['\"0CQ\",\"ACM AIR CHARTER GmbH\"',\n",
       " '\"0FQ\",\"Maine Aviation Aircraft Charter, LLC\"']"
      ]
     },
     "execution_count": 263,
     "metadata": {},
     "output_type": "execute_result"
    }
   ],
   "source": [
    "carriers_rdd.take(2)"
   ]
  },
  {
   "cell_type": "code",
   "execution_count": 264,
   "metadata": {},
   "outputs": [],
   "source": [
    "carriers_schema = StructType([StructField(\"Code\", StringType(), True),\n",
    "                             StructField(\"Description\", StringType(), True)])"
   ]
  },
  {
   "cell_type": "code",
   "execution_count": 265,
   "metadata": {},
   "outputs": [
    {
     "data": {
      "text/plain": [
       "'\"iata\",\"airport\",\"city\",\"state\",\"country\",\"lat\",\"long\"'"
      ]
     },
     "execution_count": 265,
     "metadata": {},
     "output_type": "execute_result"
    }
   ],
   "source": [
    "airports_header"
   ]
  },
  {
   "cell_type": "code",
   "execution_count": 266,
   "metadata": {},
   "outputs": [
    {
     "data": {
      "text/plain": [
       "['\"00M\",\"Thigpen \",\"Bay Springs\",\"MS\",\"USA\",31.95376472,-89.23450472',\n",
       " '\"00V\",\"Meadow Lake\",\"Colorado Springs\",\"CO\",\"USA\",38.94574889,-104.5698933']"
      ]
     },
     "execution_count": 266,
     "metadata": {},
     "output_type": "execute_result"
    }
   ],
   "source": [
    "airports_rdd.take(2)"
   ]
  },
  {
   "cell_type": "code",
   "execution_count": 267,
   "metadata": {},
   "outputs": [],
   "source": [
    "airports_schema = StructType([StructField(\"Iata\", StringType(), True),\n",
    "                             StructField(\"Airport\", StringType(), True),\n",
    "                             StructField(\"City\", StringType(), True),\n",
    "                             StructField(\"State\", StringType(), True),\n",
    "                             StructField(\"Country\", StringType(), True), \n",
    "                             StructField(\"Lat\", IntegerType(), True),\n",
    "                             StructField(\"Long\", IntegerType(), True)])"
   ]
  },
  {
   "cell_type": "code",
   "execution_count": 268,
   "metadata": {},
   "outputs": [
    {
     "data": {
      "text/plain": [
       "'tailnum,type,manufacturer,issue_date,model,status,aircraft_type,engine_type,year'"
      ]
     },
     "execution_count": 268,
     "metadata": {},
     "output_type": "execute_result"
    }
   ],
   "source": [
    "planedata_header"
   ]
  },
  {
   "cell_type": "code",
   "execution_count": 269,
   "metadata": {},
   "outputs": [
    {
     "data": {
      "text/plain": [
       "['N051AA', 'N057AA', 'N065AA']"
      ]
     },
     "execution_count": 269,
     "metadata": {},
     "output_type": "execute_result"
    }
   ],
   "source": [
    "planedata_rdd.take(3)"
   ]
  },
  {
   "cell_type": "code",
   "execution_count": 270,
   "metadata": {},
   "outputs": [],
   "source": [
    "planedata_schema = StructType([StructField(\"TailNum\", StringType(), True),\n",
    "                             StructField(\"PlaneType\", StringType(), True),\n",
    "                             StructField(\"PlaneManufacturer\", StringType(), True),\n",
    "                             StructField(\"PlaneIssueDate\", StringType(), True),\n",
    "                             StructField(\"PlaneModel\", StringType(), True),\n",
    "                             StructField(\"PlaneStatus\", StringType(), True),\n",
    "                             StructField(\"PlaneAircraftType\", StringType(), True),\n",
    "                             StructField(\"PlaneEngineType\", StringType(), True),\n",
    "                             StructField(\"PlaneYear\", IntegerType(), True)\n",
    "                             ])"
   ]
  },
  {
   "cell_type": "markdown",
   "metadata": {},
   "source": [
    "Transforming RDDs into Spark Dataframes"
   ]
  },
  {
   "cell_type": "code",
   "execution_count": 271,
   "metadata": {},
   "outputs": [
    {
     "data": {
      "text/plain": [
       "[['\"0CQ', 'ACM AIR CHARTER GmbH\"'],\n",
       " ['\"0FQ', 'Maine Aviation Aircraft Charter LLC\"'],\n",
       " ['\"0JQ', 'Vision Airlines\"'],\n",
       " ['\"0KQ', 'Mokulele Flight Services Inc.\"'],\n",
       " ['\"3F', 'Pacific Airways Inc.\"'],\n",
       " ['\"4E', 'Tanana Air Service\"'],\n",
       " ['\"4H', 'Belize Trans Air\"'],\n",
       " ['\"4S', 'Sol Air (Aero Hunduras)\"'],\n",
       " ['\"5G', 'Skyservice Airlines Inc.\"'],\n",
       " ['\"5Y', 'Atlas Air Inc.\"']]"
      ]
     },
     "execution_count": 271,
     "metadata": {},
     "output_type": "execute_result"
    }
   ],
   "source": [
    "carriers_rdd.map(lambda s: s.replace(',','').split('\\\"\"')).take(10)"
   ]
  },
  {
   "cell_type": "code",
   "execution_count": 272,
   "metadata": {},
   "outputs": [
    {
     "name": "stdout",
     "output_type": "stream",
     "text": [
      "root\n",
      " |-- Code: string (nullable = true)\n",
      " |-- Description: string (nullable = true)\n",
      "\n"
     ]
    }
   ],
   "source": [
    "carriers_df = sqlContext.createDataFrame(\n",
    "    carriers_rdd.map(lambda s: s.replace(',','')\n",
    "                                        .split('\\\"\"'))\n",
    "                                        .map(lambda row: (row[0].replace('\\\"', ''),\n",
    "                                                          row[1].replace('\\\"', ''))), \n",
    "                                                                carriers_schema)\n",
    "carriers_df.printSchema()"
   ]
  },
  {
   "cell_type": "code",
   "execution_count": 273,
   "metadata": {},
   "outputs": [
    {
     "name": "stdout",
     "output_type": "stream",
     "text": [
      "+----+--------------------+\n",
      "|Code|         Description|\n",
      "+----+--------------------+\n",
      "| 0CQ|ACM AIR CHARTER GmbH|\n",
      "| 0FQ|Maine Aviation Ai...|\n",
      "| 0JQ|     Vision Airlines|\n",
      "| 0KQ|Mokulele Flight S...|\n",
      "|  3F|Pacific Airways Inc.|\n",
      "+----+--------------------+\n",
      "only showing top 5 rows\n",
      "\n"
     ]
    }
   ],
   "source": [
    "carriers_df.show(5)"
   ]
  },
  {
   "cell_type": "code",
   "execution_count": 274,
   "metadata": {},
   "outputs": [],
   "source": [
    "from pyspark.sql.functions import substring, length"
   ]
  },
  {
   "cell_type": "code",
   "execution_count": 275,
   "metadata": {},
   "outputs": [],
   "source": [
    "#carriers_df = carriers_df.select(carriers_df.Code.substr(2,4).alias('Code'), \n",
    "#                                 carriers_df.Description.alias('Description'))"
   ]
  },
  {
   "cell_type": "code",
   "execution_count": 276,
   "metadata": {},
   "outputs": [],
   "source": [
    "#Creating df for airplanes:\n",
    "flights_df = sqlContext.createDataFrame(flights_rdd.map(lambda s: s.split(',')), flights_header.split(','))"
   ]
  },
  {
   "cell_type": "code",
   "execution_count": 277,
   "metadata": {},
   "outputs": [
    {
     "name": "stdout",
     "output_type": "stream",
     "text": [
      "root\n",
      " |-- Year: string (nullable = true)\n",
      " |-- Month: string (nullable = true)\n",
      " |-- DayofMonth: string (nullable = true)\n",
      " |-- DayOfWeek: string (nullable = true)\n",
      " |-- DepTime: string (nullable = true)\n",
      " |-- CRSDepTime: string (nullable = true)\n",
      " |-- ArrTime: string (nullable = true)\n",
      " |-- CRSArrTime: string (nullable = true)\n",
      " |-- UniqueCarrier: string (nullable = true)\n",
      " |-- FlightNum: string (nullable = true)\n",
      " |-- TailNum: string (nullable = true)\n",
      " |-- ActualElapsedTime: string (nullable = true)\n",
      " |-- CRSElapsedTime: string (nullable = true)\n",
      " |-- AirTime: string (nullable = true)\n",
      " |-- ArrDelay: string (nullable = true)\n",
      " |-- DepDelay: string (nullable = true)\n",
      " |-- Origin: string (nullable = true)\n",
      " |-- Dest: string (nullable = true)\n",
      " |-- Distance: string (nullable = true)\n",
      " |-- TaxiIn: string (nullable = true)\n",
      " |-- TaxiOut: string (nullable = true)\n",
      " |-- Cancelled: string (nullable = true)\n",
      " |-- CancellationCode: string (nullable = true)\n",
      " |-- Diverted: string (nullable = true)\n",
      " |-- CarrierDelay: string (nullable = true)\n",
      " |-- WeatherDelay: string (nullable = true)\n",
      " |-- NASDelay: string (nullable = true)\n",
      " |-- SecurityDelay: string (nullable = true)\n",
      " |-- LateAircraftDelay: string (nullable = true)\n",
      "\n"
     ]
    }
   ],
   "source": [
    "flights_df.printSchema()"
   ]
  },
  {
   "cell_type": "code",
   "execution_count": 278,
   "metadata": {},
   "outputs": [],
   "source": [
    "#Next we will assign Int types to integer columns:\n",
    "#First we define columns we would like to maintain type String:\n",
    "st_list = ['TailNum', 'CancellationCode', 'UniqueCarrier', 'Origin', 'Dest']\n",
    "\n",
    "#Then we remove those from the list of all columns we collected from the helper method remove_header:\n",
    "int_list = [i for i in flights_header.split(',') if i not in st_list]\n",
    "\n",
    "#Finally we use cast to modify data types:\n",
    "\n",
    "from pyspark.sql.functions import col\n",
    "\n",
    "for col_name in int_list:\n",
    "    flights_df = flights_df.withColumn(col_name, col(col_name).cast('int'))"
   ]
  },
  {
   "cell_type": "code",
   "execution_count": 279,
   "metadata": {},
   "outputs": [
    {
     "name": "stdout",
     "output_type": "stream",
     "text": [
      "root\n",
      " |-- Year: integer (nullable = true)\n",
      " |-- Month: integer (nullable = true)\n",
      " |-- DayofMonth: integer (nullable = true)\n",
      " |-- DayOfWeek: integer (nullable = true)\n",
      " |-- DepTime: integer (nullable = true)\n",
      " |-- CRSDepTime: integer (nullable = true)\n",
      " |-- ArrTime: integer (nullable = true)\n",
      " |-- CRSArrTime: integer (nullable = true)\n",
      " |-- UniqueCarrier: string (nullable = true)\n",
      " |-- FlightNum: integer (nullable = true)\n",
      " |-- TailNum: string (nullable = true)\n",
      " |-- ActualElapsedTime: integer (nullable = true)\n",
      " |-- CRSElapsedTime: integer (nullable = true)\n",
      " |-- AirTime: integer (nullable = true)\n",
      " |-- ArrDelay: integer (nullable = true)\n",
      " |-- DepDelay: integer (nullable = true)\n",
      " |-- Origin: string (nullable = true)\n",
      " |-- Dest: string (nullable = true)\n",
      " |-- Distance: integer (nullable = true)\n",
      " |-- TaxiIn: integer (nullable = true)\n",
      " |-- TaxiOut: integer (nullable = true)\n",
      " |-- Cancelled: integer (nullable = true)\n",
      " |-- CancellationCode: string (nullable = true)\n",
      " |-- Diverted: integer (nullable = true)\n",
      " |-- CarrierDelay: integer (nullable = true)\n",
      " |-- WeatherDelay: integer (nullable = true)\n",
      " |-- NASDelay: integer (nullable = true)\n",
      " |-- SecurityDelay: integer (nullable = true)\n",
      " |-- LateAircraftDelay: integer (nullable = true)\n",
      "\n"
     ]
    }
   ],
   "source": [
    "flights_df.printSchema()"
   ]
  },
  {
   "cell_type": "code",
   "execution_count": 280,
   "metadata": {},
   "outputs": [],
   "source": [
    "flights_df = flights_df.drop(\"Year\", \"country_Origin\", \"country_Dest\")"
   ]
  },
  {
   "cell_type": "markdown",
   "metadata": {},
   "source": [
    "Additional Files: Airplanes and Airports"
   ]
  },
  {
   "cell_type": "code",
   "execution_count": 281,
   "metadata": {},
   "outputs": [
    {
     "name": "stdout",
     "output_type": "stream",
     "text": [
      "+-------+----+------------+----------+-----+------+-------------+-----------+----+\n",
      "|tailnum|type|manufacturer|issue_date|model|status|aircraft_type|engine_type|year|\n",
      "+-------+----+------------+----------+-----+------+-------------+-----------+----+\n",
      "| N050AA|null|        null|      null| null|  null|         null|       null|null|\n",
      "| N051AA|null|        null|      null| null|  null|         null|       null|null|\n",
      "| N052AA|null|        null|      null| null|  null|         null|       null|null|\n",
      "| N054AA|null|        null|      null| null|  null|         null|       null|null|\n",
      "| N055AA|null|        null|      null| null|  null|         null|       null|null|\n",
      "| N056AA|null|        null|      null| null|  null|         null|       null|null|\n",
      "| N057AA|null|        null|      null| null|  null|         null|       null|null|\n",
      "| N058AA|null|        null|      null| null|  null|         null|       null|null|\n",
      "| N059AA|null|        null|      null| null|  null|         null|       null|null|\n",
      "| N060AA|null|        null|      null| null|  null|         null|       null|null|\n",
      "+-------+----+------------+----------+-----+------+-------------+-----------+----+\n",
      "only showing top 10 rows\n",
      "\n"
     ]
    }
   ],
   "source": [
    "#Alternative way to load data - directly into PySpark DF\n",
    "planedata_df = sqlContext.read.csv('planedata.csv', inferSchema=True, header=True)\n",
    "planedata_df.show(10)"
   ]
  },
  {
   "cell_type": "code",
   "execution_count": 282,
   "metadata": {},
   "outputs": [
    {
     "name": "stdout",
     "output_type": "stream",
     "text": [
      "+----+--------------------+----------------+-----+-------+-----------+------------+\n",
      "|iata|             airport|            city|state|country|        lat|        long|\n",
      "+----+--------------------+----------------+-----+-------+-----------+------------+\n",
      "| 00M|            Thigpen |     Bay Springs|   MS|    USA|31.95376472|-89.23450472|\n",
      "| 00R|Livingston Municipal|      Livingston|   TX|    USA|30.68586111|-95.01792778|\n",
      "| 00V|         Meadow Lake|Colorado Springs|   CO|    USA|38.94574889|-104.5698933|\n",
      "| 01G|        Perry-Warsaw|           Perry|   NY|    USA|42.74134667|-78.05208056|\n",
      "| 01J|    Hilliard Airpark|        Hilliard|   FL|    USA| 30.6880125|-81.90594389|\n",
      "| 01M|   Tishomingo County|         Belmont|   MS|    USA|34.49166667|-88.20111111|\n",
      "| 02A|         Gragg-Wade |         Clanton|   AL|    USA|32.85048667|-86.61145333|\n",
      "| 02C|             Capitol|      Brookfield|   WI|    USA|   43.08751|-88.17786917|\n",
      "| 02G|   Columbiana County|  East Liverpool|   OH|    USA|40.67331278|-80.64140639|\n",
      "| 03D|    Memphis Memorial|         Memphis|   MO|    USA|40.44725889|-92.22696056|\n",
      "+----+--------------------+----------------+-----+-------+-----------+------------+\n",
      "only showing top 10 rows\n",
      "\n"
     ]
    }
   ],
   "source": [
    "airports_df = sqlContext.read.csv('airports.csv', inferSchema=True, header=True)\n",
    "airports_df.show(10)"
   ]
  },
  {
   "cell_type": "markdown",
   "metadata": {},
   "source": [
    "Data Exploration with Spark - Performing Analytics"
   ]
  },
  {
   "cell_type": "code",
   "execution_count": 283,
   "metadata": {},
   "outputs": [],
   "source": [
    "#Step 1 - Merging into a master df\n",
    "#Step 2 - Running some queries to extract insights"
   ]
  },
  {
   "cell_type": "code",
   "execution_count": null,
   "metadata": {},
   "outputs": [
    {
     "name": "stdout",
     "output_type": "stream",
     "text": [
      "Dataframe Schema for Airports\n",
      "root\n",
      " |-- iata: string (nullable = true)\n",
      " |-- airport: string (nullable = true)\n",
      " |-- city: string (nullable = true)\n",
      " |-- state: string (nullable = true)\n",
      " |-- country: string (nullable = true)\n",
      " |-- lat: double (nullable = true)\n",
      " |-- long: double (nullable = true)\n",
      "\n"
     ]
    }
   ],
   "source": [
    "#We will have to join the dataframes. Let us first explore what we are dealing with:\n",
    "print('Dataframe Schema for Airports')\n",
    "airports_df.printSchema()"
   ]
  },
  {
   "cell_type": "code",
   "execution_count": null,
   "metadata": {},
   "outputs": [
    {
     "name": "stdout",
     "output_type": "stream",
     "text": [
      "Dataframe Schema for Flights\n",
      "root\n",
      " |-- Month: integer (nullable = true)\n",
      " |-- DayofMonth: integer (nullable = true)\n",
      " |-- DayOfWeek: integer (nullable = true)\n",
      " |-- DepTime: integer (nullable = true)\n",
      " |-- CRSDepTime: integer (nullable = true)\n",
      " |-- ArrTime: integer (nullable = true)\n",
      " |-- CRSArrTime: integer (nullable = true)\n",
      " |-- UniqueCarrier: string (nullable = true)\n",
      " |-- FlightNum: integer (nullable = true)\n",
      " |-- TailNum: string (nullable = true)\n",
      " |-- ActualElapsedTime: integer (nullable = true)\n",
      " |-- CRSElapsedTime: integer (nullable = true)\n",
      " |-- AirTime: integer (nullable = true)\n",
      " |-- ArrDelay: integer (nullable = true)\n",
      " |-- DepDelay: integer (nullable = true)\n",
      " |-- Origin: string (nullable = true)\n",
      " |-- Dest: string (nullable = true)\n",
      " |-- Distance: integer (nullable = true)\n",
      " |-- TaxiIn: integer (nullable = true)\n",
      " |-- TaxiOut: integer (nullable = true)\n",
      " |-- Cancelled: integer (nullable = true)\n",
      " |-- CancellationCode: string (nullable = true)\n",
      " |-- Diverted: integer (nullable = true)\n",
      " |-- CarrierDelay: integer (nullable = true)\n",
      " |-- WeatherDelay: integer (nullable = true)\n",
      " |-- NASDelay: integer (nullable = true)\n",
      " |-- SecurityDelay: integer (nullable = true)\n",
      " |-- LateAircraftDelay: integer (nullable = true)\n",
      "\n"
     ]
    }
   ],
   "source": [
    "print('Dataframe Schema for Flights')\n",
    "flights_df.printSchema()"
   ]
  },
  {
   "cell_type": "code",
   "execution_count": null,
   "metadata": {},
   "outputs": [
    {
     "name": "stdout",
     "output_type": "stream",
     "text": [
      "Dataframe Schema for Planes\n",
      "root\n",
      " |-- tailnum: string (nullable = true)\n",
      " |-- type: string (nullable = true)\n",
      " |-- manufacturer: string (nullable = true)\n",
      " |-- issue_date: string (nullable = true)\n",
      " |-- model: string (nullable = true)\n",
      " |-- status: string (nullable = true)\n",
      " |-- aircraft_type: string (nullable = true)\n",
      " |-- engine_type: string (nullable = true)\n",
      " |-- year: string (nullable = true)\n",
      "\n"
     ]
    }
   ],
   "source": [
    "print('Dataframe Schema for Planes')\n",
    "planedata_df.printSchema()"
   ]
  },
  {
   "cell_type": "code",
   "execution_count": null,
   "metadata": {},
   "outputs": [
    {
     "name": "stdout",
     "output_type": "stream",
     "text": [
      "Dataframe Schema for Carriers\n",
      "root\n",
      " |-- Code: string (nullable = true)\n",
      " |-- Description: string (nullable = true)\n",
      "\n"
     ]
    }
   ],
   "source": [
    "print('Dataframe Schema for Carriers')\n",
    "carriers_df.printSchema()"
   ]
  },
  {
   "cell_type": "code",
   "execution_count": null,
   "metadata": {},
   "outputs": [],
   "source": [
    "#Joining flights with planedata on tailnum:\n",
    "join_df = flights_df.join(planedata_df, flights_df.TailNum == planedata_df.tailnum, how='left')"
   ]
  },
  {
   "cell_type": "code",
   "execution_count": null,
   "metadata": {},
   "outputs": [],
   "source": [
    "#Next, joining thenew df with carriers on Code:\n",
    "new_join_df = join_df.join(carriers_df, join_df.UniqueCarrier == carriers_df.Code, how='left')"
   ]
  },
  {
   "cell_type": "code",
   "execution_count": null,
   "metadata": {},
   "outputs": [
    {
     "data": {
      "text/plain": [
       "[Row(Month=1, DayofMonth=1, DayOfWeek=1, DepTime=831, CRSDepTime=830, ArrTime=957, CRSArrTime=1000, UniqueCarrier='WN', FlightNum=2278, TailNum='N480', ActualElapsedTime=86, CRSElapsedTime=90, AirTime=74, ArrDelay=-3, DepDelay=1, Origin='SMF', Dest='PDX', Distance=479, TaxiIn=3, TaxiOut=9, Cancelled=0, CancellationCode='', Diverted=0, CarrierDelay=0, WeatherDelay=0, NASDelay=0, SecurityDelay=0, LateAircraftDelay=0, tailnum=None, type=None, manufacturer=None, issue_date=None, model=None, status=None, aircraft_type=None, engine_type=None, year=None, Code='WN', Description='Southwest Airlines Co.'),\n",
       " Row(Month=1, DayofMonth=1, DayOfWeek=1, DepTime=1630, CRSDepTime=1630, ArrTime=1746, CRSArrTime=1750, UniqueCarrier='WN', FlightNum=1146, TailNum='N707SA', ActualElapsedTime=76, CRSElapsedTime=80, AirTime=60, ArrDelay=-4, DepDelay=0, Origin='SMF', Dest='SNA', Distance=404, TaxiIn=6, TaxiOut=10, Cancelled=0, CancellationCode='', Diverted=0, CarrierDelay=0, WeatherDelay=0, NASDelay=0, SecurityDelay=0, LateAircraftDelay=0, tailnum='N707SA', type='Corporation', manufacturer='BOEING', issue_date='12/08/1998', model='737-7H4', status='Valid', aircraft_type='Fixed Wing Multi-Engine', engine_type='Turbo-Fan', year='1998', Code='WN', Description='Southwest Airlines Co.'),\n",
       " Row(Month=1, DayofMonth=1, DayOfWeek=1, DepTime=1439, CRSDepTime=1440, ArrTime=1607, CRSArrTime=1605, UniqueCarrier='WN', FlightNum=728, TailNum='N707SA', ActualElapsedTime=88, CRSElapsedTime=85, AirTime=70, ArrDelay=2, DepDelay=-1, Origin='SNA', Dest='SMF', Distance=404, TaxiIn=3, TaxiOut=15, Cancelled=0, CancellationCode='', Diverted=0, CarrierDelay=0, WeatherDelay=0, NASDelay=0, SecurityDelay=0, LateAircraftDelay=0, tailnum='N707SA', type='Corporation', manufacturer='BOEING', issue_date='12/08/1998', model='737-7H4', status='Valid', aircraft_type='Fixed Wing Multi-Engine', engine_type='Turbo-Fan', year='1998', Code='WN', Description='Southwest Airlines Co.'),\n",
       " Row(Month=1, DayofMonth=1, DayOfWeek=1, DepTime=2050, CRSDepTime=2050, ArrTime=2338, CRSArrTime=2335, UniqueCarrier='WN', FlightNum=675, TailNum='N637SW', ActualElapsedTime=108, CRSElapsedTime=105, AirTime=97, ArrDelay=3, DepDelay=0, Origin='STL', Dest='BWI', Distance=737, TaxiIn=4, TaxiOut=7, Cancelled=0, CancellationCode='', Diverted=0, CarrierDelay=0, WeatherDelay=0, NASDelay=0, SecurityDelay=0, LateAircraftDelay=0, tailnum='N637SW', type='Corporation', manufacturer='BOEING', issue_date='10/04/1996', model='737-3H4', status='Valid', aircraft_type='Fixed Wing Multi-Engine', engine_type='Turbo-Fan', year='1996', Code='WN', Description='Southwest Airlines Co.')]"
      ]
     },
     "execution_count": 290,
     "metadata": {},
     "output_type": "execute_result"
    }
   ],
   "source": [
    "new_join_df.take(4)"
   ]
  },
  {
   "cell_type": "code",
   "execution_count": null,
   "metadata": {},
   "outputs": [],
   "source": [
    "#Finally, we merge twice with the airports dataset. Once for Departing airport, once for Arrival airport:\n",
    "third = new_join_df.join(airports_df, new_join_df.Origin == airports_df.iata, how='left')"
   ]
  },
  {
   "cell_type": "code",
   "execution_count": null,
   "metadata": {},
   "outputs": [
    {
     "data": {
      "text/plain": [
       "[Row(Month=1, DayofMonth=1, DayOfWeek=1, DepTime=831, CRSDepTime=830, ArrTime=957, CRSArrTime=1000, UniqueCarrier='WN', FlightNum=2278, TailNum='N480', ActualElapsedTime=86, CRSElapsedTime=90, AirTime=74, ArrDelay=-3, DepDelay=1, Origin='SMF', Dest='PDX', Distance=479, TaxiIn=3, TaxiOut=9, Cancelled=0, CancellationCode='', Diverted=0, CarrierDelay=0, WeatherDelay=0, NASDelay=0, SecurityDelay=0, LateAircraftDelay=0, tailnum=None, type=None, manufacturer=None, issue_date=None, model=None, status=None, aircraft_type=None, engine_type=None, year=None, Code='WN', Description='Southwest Airlines Co.', iata='SMF', airport='Sacramento International', city='Sacramento', state='CA', country='USA', lat=38.69542167, long=-121.5907669),\n",
       " Row(Month=1, DayofMonth=1, DayOfWeek=1, DepTime=1630, CRSDepTime=1630, ArrTime=1746, CRSArrTime=1750, UniqueCarrier='WN', FlightNum=1146, TailNum='N707SA', ActualElapsedTime=76, CRSElapsedTime=80, AirTime=60, ArrDelay=-4, DepDelay=0, Origin='SMF', Dest='SNA', Distance=404, TaxiIn=6, TaxiOut=10, Cancelled=0, CancellationCode='', Diverted=0, CarrierDelay=0, WeatherDelay=0, NASDelay=0, SecurityDelay=0, LateAircraftDelay=0, tailnum='N707SA', type='Corporation', manufacturer='BOEING', issue_date='12/08/1998', model='737-7H4', status='Valid', aircraft_type='Fixed Wing Multi-Engine', engine_type='Turbo-Fan', year='1998', Code='WN', Description='Southwest Airlines Co.', iata='SMF', airport='Sacramento International', city='Sacramento', state='CA', country='USA', lat=38.69542167, long=-121.5907669)]"
      ]
     },
     "execution_count": 292,
     "metadata": {},
     "output_type": "execute_result"
    }
   ],
   "source": [
    "third.take(2)"
   ]
  },
  {
   "cell_type": "code",
   "execution_count": null,
   "metadata": {},
   "outputs": [],
   "source": [
    "new_cols = [i for i in third.columns]"
   ]
  },
  {
   "cell_type": "code",
   "execution_count": null,
   "metadata": {},
   "outputs": [],
   "source": [
    "new_cols = [\n",
    " 'Month',\n",
    " 'DayofMonth',\n",
    " 'DayOfWeek',\n",
    " 'DepTime',\n",
    " 'CRSDepTime',\n",
    " 'ArrTime',\n",
    " 'CRSArrTime',\n",
    " 'UniqueCarrier',\n",
    " 'FlightNum',\n",
    " 'TailNum',\n",
    " 'ActualElapsedTime',\n",
    " 'CRSElapsedTime',\n",
    " 'AirTime',\n",
    " 'ArrDelay',\n",
    " 'DepDelay',\n",
    " 'Origin',\n",
    " 'Dest',\n",
    " 'Distance',\n",
    " 'TaxiIn',\n",
    " 'TaxiOut',\n",
    " 'Cancelled',\n",
    " 'CancellationCode',\n",
    " 'Diverted',\n",
    " 'CarrierDelay',\n",
    " 'WeatherDelay',\n",
    " 'NASDelay',\n",
    " 'SecurityDelay',\n",
    " 'LateAircraftDelay',\n",
    " 'tailnum',\n",
    " 'type',\n",
    " 'manufacturer',\n",
    " 'issue_date',\n",
    " 'model',\n",
    " 'status',\n",
    " 'aircraft_type',\n",
    " 'engine_type',\n",
    " 'year',\n",
    " 'Code',\n",
    " 'Description',\n",
    " 'iata_Origin',\n",
    " 'airport_Origin',\n",
    " 'city_Origin',\n",
    " 'state_Origin',\n",
    " 'country_Origin',\n",
    " 'lat_Origin',\n",
    " 'long_Origin']"
   ]
  },
  {
   "cell_type": "code",
   "execution_count": null,
   "metadata": {},
   "outputs": [],
   "source": [
    "def rename_columns(df, old_cols, new_cols):\n",
    "    for old_col, new_col in zip(old_cols, new_cols):\n",
    "        df= df.withColumnRenamed(old_col, new_col)\n",
    "    return df"
   ]
  },
  {
   "cell_type": "code",
   "execution_count": null,
   "metadata": {},
   "outputs": [],
   "source": [
    "third_updated = rename_columns(third, third.columns, new_cols)"
   ]
  },
  {
   "cell_type": "code",
   "execution_count": null,
   "metadata": {},
   "outputs": [],
   "source": [
    "fourth = third_updated.join(airports_df, third_updated.Dest == airports_df.iata, how='left')"
   ]
  },
  {
   "cell_type": "code",
   "execution_count": null,
   "metadata": {},
   "outputs": [],
   "source": [
    "new_cols = [i for i in fourth.columns]"
   ]
  },
  {
   "cell_type": "code",
   "execution_count": null,
   "metadata": {},
   "outputs": [],
   "source": [
    "new_cols = [\n",
    " 'Month',\n",
    " 'DayofMonth',\n",
    " 'DayOfWeek',\n",
    " 'DepTime',\n",
    " 'CRSDepTime',\n",
    " 'ArrTime',\n",
    " 'CRSArrTime',\n",
    " 'UniqueCarrier',\n",
    " 'FlightNum',\n",
    " 'tailnum',\n",
    " 'ActualElapsedTime',\n",
    " 'CRSElapsedTime',\n",
    " 'AirTime',\n",
    " 'ArrDelay',\n",
    " 'DepDelay',\n",
    " 'Origin',\n",
    " 'Dest',\n",
    " 'Distance',\n",
    " 'TaxiIn',\n",
    " 'TaxiOut',\n",
    " 'Cancelled',\n",
    " 'CancellationCode',\n",
    " 'Diverted',\n",
    " 'CarrierDelay',\n",
    " 'WeatherDelay',\n",
    " 'NASDelay',\n",
    " 'SecurityDelay',\n",
    " 'LateAircraftDelay',\n",
    " 'tailnum',\n",
    " 'type',\n",
    " 'manufacturer',\n",
    " 'issue_date',\n",
    " 'model',\n",
    " 'status',\n",
    " 'aircraft_type',\n",
    " 'engine_type',\n",
    " 'plane_year',\n",
    " 'Code',\n",
    " 'Description',\n",
    " 'iata_Origin',\n",
    " 'airport_Origin',\n",
    " 'city_Origin',\n",
    " 'state_Origin',\n",
    " 'country_Origin',\n",
    " 'lat_Origin',\n",
    " 'long_Origin',\n",
    " 'iata_Dest',\n",
    " 'airport_Dest',\n",
    " 'city_Dest',\n",
    " 'state_Dest',\n",
    " 'country_Dest',\n",
    " 'lat_Dest',\n",
    " 'long_Dest']"
   ]
  },
  {
   "cell_type": "code",
   "execution_count": null,
   "metadata": {},
   "outputs": [],
   "source": [
    "fourth_updated = rename_columns(fourth, fourth.columns, new_cols)"
   ]
  },
  {
   "cell_type": "code",
   "execution_count": null,
   "metadata": {},
   "outputs": [
    {
     "data": {
      "text/plain": [
       "[Row(Month=1, DayofMonth=14, DayOfWeek=7, DepTime=1015, CRSDepTime=1010, ArrTime=1519, CRSArrTime=1530, UniqueCarrier='UA', FlightNum=1, tailnum='N212UA', ActualElapsedTime=544, CRSElapsedTime=560, AirTime=518, ArrDelay=-11, DepDelay=5, Origin='ORD', Dest='HNL', Distance=4243, TaxiIn=3, TaxiOut=23, Cancelled=0, CancellationCode='', Diverted=0, CarrierDelay=0, WeatherDelay=0, NASDelay=0, SecurityDelay=0, LateAircraftDelay=0, tailnum='N212UA', type='Corporation', manufacturer='BOEING', issue_date='07/31/2000', model='777-222', status='Valid', aircraft_type='Fixed Wing Multi-Engine', engine_type='Turbo-Fan', plane_year='2000', Code='UA', Description='United Air Lines Inc.', iata_Origin='ORD', airport_Origin=\"Chicago O'Hare International\", city_Origin='Chicago', state_Origin='IL', country_Origin='USA', lat_Origin=41.979595, long_Origin=-87.90446417, iata_Dest='HNL', airport_Dest='Honolulu International', city_Dest='Honolulu', state_Dest='HI', country_Dest='USA', lat_Dest=21.31869111, long_Dest=-157.9224072)]"
      ]
     },
     "execution_count": 301,
     "metadata": {},
     "output_type": "execute_result"
    }
   ],
   "source": [
    "fourth_updated.take(1)"
   ]
  },
  {
   "cell_type": "code",
   "execution_count": null,
   "metadata": {},
   "outputs": [
    {
     "data": {
      "text/plain": [
       "7453215"
      ]
     },
     "execution_count": 302,
     "metadata": {},
     "output_type": "execute_result"
    }
   ],
   "source": [
    "fourth_updated.count()"
   ]
  },
  {
   "cell_type": "code",
   "execution_count": null,
   "metadata": {
    "scrolled": true
   },
   "outputs": [
    {
     "name": "stdout",
     "output_type": "stream",
     "text": [
      "root\n",
      " |-- Month: integer (nullable = true)\n",
      " |-- DayofMonth: integer (nullable = true)\n",
      " |-- DayOfWeek: integer (nullable = true)\n",
      " |-- DepTime: integer (nullable = true)\n",
      " |-- CRSDepTime: integer (nullable = true)\n",
      " |-- ArrTime: integer (nullable = true)\n",
      " |-- CRSArrTime: integer (nullable = true)\n",
      " |-- UniqueCarrier: string (nullable = true)\n",
      " |-- FlightNum: integer (nullable = true)\n",
      " |-- tailnum: string (nullable = true)\n",
      " |-- ActualElapsedTime: integer (nullable = true)\n",
      " |-- CRSElapsedTime: integer (nullable = true)\n",
      " |-- AirTime: integer (nullable = true)\n",
      " |-- ArrDelay: integer (nullable = true)\n",
      " |-- DepDelay: integer (nullable = true)\n",
      " |-- Origin: string (nullable = true)\n",
      " |-- Dest: string (nullable = true)\n",
      " |-- Distance: integer (nullable = true)\n",
      " |-- TaxiIn: integer (nullable = true)\n",
      " |-- TaxiOut: integer (nullable = true)\n",
      " |-- Cancelled: integer (nullable = true)\n",
      " |-- CancellationCode: string (nullable = true)\n",
      " |-- Diverted: integer (nullable = true)\n",
      " |-- CarrierDelay: integer (nullable = true)\n",
      " |-- WeatherDelay: integer (nullable = true)\n",
      " |-- NASDelay: integer (nullable = true)\n",
      " |-- SecurityDelay: integer (nullable = true)\n",
      " |-- LateAircraftDelay: integer (nullable = true)\n",
      " |-- tailnum: string (nullable = true)\n",
      " |-- type: string (nullable = true)\n",
      " |-- manufacturer: string (nullable = true)\n",
      " |-- issue_date: string (nullable = true)\n",
      " |-- model: string (nullable = true)\n",
      " |-- status: string (nullable = true)\n",
      " |-- aircraft_type: string (nullable = true)\n",
      " |-- engine_type: string (nullable = true)\n",
      " |-- plane_year: string (nullable = true)\n",
      " |-- Code: string (nullable = true)\n",
      " |-- Description: string (nullable = true)\n",
      " |-- iata_Origin: string (nullable = true)\n",
      " |-- airport_Origin: string (nullable = true)\n",
      " |-- city_Origin: string (nullable = true)\n",
      " |-- state_Origin: string (nullable = true)\n",
      " |-- country_Origin: string (nullable = true)\n",
      " |-- lat_Origin: double (nullable = true)\n",
      " |-- long_Origin: double (nullable = true)\n",
      " |-- iata_Dest: string (nullable = true)\n",
      " |-- airport_Dest: string (nullable = true)\n",
      " |-- city_Dest: string (nullable = true)\n",
      " |-- state_Dest: string (nullable = true)\n",
      " |-- country_Dest: string (nullable = true)\n",
      " |-- lat_Dest: double (nullable = true)\n",
      " |-- long_Dest: double (nullable = true)\n",
      "\n"
     ]
    }
   ],
   "source": [
    "fourth_updated.printSchema()"
   ]
  },
  {
   "cell_type": "markdown",
   "metadata": {},
   "source": [
    "Analytics with Spark SQL"
   ]
  },
  {
   "cell_type": "code",
   "execution_count": null,
   "metadata": {},
   "outputs": [],
   "source": [
    "#Now that we have the final dataframe we can start querying it to obtain some insights:"
   ]
  },
  {
   "cell_type": "code",
   "execution_count": null,
   "metadata": {},
   "outputs": [],
   "source": [
    "# Register this DataFrame as a table.\n",
    "fourth_updated.registerTempTable(\"master\")"
   ]
  },
  {
   "cell_type": "code",
   "execution_count": null,
   "metadata": {},
   "outputs": [],
   "source": [
    "# SQL statements can be run by using the sql methods provided by sqlContext\n",
    "delays_by_engine = sqlContext.sql(\n",
    "    \"SELECT engine_type, SUM(CarrierDelay), SUM(WeatherDelay), SUM(NASDelay), SUM(SecurityDelay),SUM(LateAircraftDelay)  \\\n",
    "     FROM master \\\n",
    "     GROUP BY engine_type\")"
   ]
  },
  {
   "cell_type": "code",
   "execution_count": null,
   "metadata": {},
   "outputs": [],
   "source": [
    "result1 = delays_by_engine.collect()\n",
    "#result.toPandas()"
   ]
  },
  {
   "cell_type": "code",
   "execution_count": null,
   "metadata": {
    "scrolled": true
   },
   "outputs": [
    {
     "data": {
      "text/html": [
       "<div>\n",
       "<style scoped>\n",
       "    .dataframe tbody tr th:only-of-type {\n",
       "        vertical-align: middle;\n",
       "    }\n",
       "\n",
       "    .dataframe tbody tr th {\n",
       "        vertical-align: top;\n",
       "    }\n",
       "\n",
       "    .dataframe thead th {\n",
       "        text-align: right;\n",
       "    }\n",
       "</style>\n",
       "<table border=\"1\" class=\"dataframe\">\n",
       "  <thead>\n",
       "    <tr style=\"text-align: right;\">\n",
       "      <th></th>\n",
       "      <th>engine_type</th>\n",
       "      <th>sum(CarrierDelay)</th>\n",
       "      <th>sum(WeatherDelay)</th>\n",
       "      <th>sum(NASDelay)</th>\n",
       "      <th>sum(SecurityDelay)</th>\n",
       "      <th>sum(LateAircraftDelay)</th>\n",
       "    </tr>\n",
       "  </thead>\n",
       "  <tbody>\n",
       "    <tr>\n",
       "      <th>1</th>\n",
       "      <td>None</td>\n",
       "      <td>3588878</td>\n",
       "      <td>761304</td>\n",
       "      <td>3152224</td>\n",
       "      <td>12446</td>\n",
       "      <td>4286969</td>\n",
       "    </tr>\n",
       "    <tr>\n",
       "      <th>2</th>\n",
       "      <td>4 Cycle</td>\n",
       "      <td>12418</td>\n",
       "      <td>3164</td>\n",
       "      <td>15880</td>\n",
       "      <td>21</td>\n",
       "      <td>16683</td>\n",
       "    </tr>\n",
       "    <tr>\n",
       "      <th>3</th>\n",
       "      <td>Turbo-Shaft</td>\n",
       "      <td>18717</td>\n",
       "      <td>4063</td>\n",
       "      <td>14399</td>\n",
       "      <td>15</td>\n",
       "      <td>14380</td>\n",
       "    </tr>\n",
       "    <tr>\n",
       "      <th>4</th>\n",
       "      <td>Turbo-Fan</td>\n",
       "      <td>15974603</td>\n",
       "      <td>3464986</td>\n",
       "      <td>16244698</td>\n",
       "      <td>105844</td>\n",
       "      <td>22912142</td>\n",
       "    </tr>\n",
       "    <tr>\n",
       "      <th>5</th>\n",
       "      <td>Turbo-Prop</td>\n",
       "      <td>1445301</td>\n",
       "      <td>253248</td>\n",
       "      <td>515721</td>\n",
       "      <td>7403</td>\n",
       "      <td>980772</td>\n",
       "    </tr>\n",
       "    <tr>\n",
       "      <th>6</th>\n",
       "      <td>Reciprocating</td>\n",
       "      <td>121252</td>\n",
       "      <td>41700</td>\n",
       "      <td>152748</td>\n",
       "      <td>174</td>\n",
       "      <td>187766</td>\n",
       "    </tr>\n",
       "    <tr>\n",
       "      <th>7</th>\n",
       "      <td>Turbo-Jet</td>\n",
       "      <td>7634591</td>\n",
       "      <td>1206516</td>\n",
       "      <td>8085555</td>\n",
       "      <td>51002</td>\n",
       "      <td>9585065</td>\n",
       "    </tr>\n",
       "  </tbody>\n",
       "</table>\n",
       "</div>"
      ],
      "text/plain": [
       "     engine_type  sum(CarrierDelay)  sum(WeatherDelay)  sum(NASDelay)  \\\n",
       "1           None            3588878             761304        3152224   \n",
       "2        4 Cycle              12418               3164          15880   \n",
       "3    Turbo-Shaft              18717               4063          14399   \n",
       "4      Turbo-Fan           15974603            3464986       16244698   \n",
       "5     Turbo-Prop            1445301             253248         515721   \n",
       "6  Reciprocating             121252              41700         152748   \n",
       "7      Turbo-Jet            7634591            1206516        8085555   \n",
       "\n",
       "   sum(SecurityDelay)  sum(LateAircraftDelay)  \n",
       "1               12446                 4286969  \n",
       "2                  21                   16683  \n",
       "3                  15                   14380  \n",
       "4              105844                22912142  \n",
       "5                7403                  980772  \n",
       "6                 174                  187766  \n",
       "7               51002                 9585065  "
      ]
     },
     "execution_count": 308,
     "metadata": {},
     "output_type": "execute_result"
    }
   ],
   "source": [
    "delays_by_engine.toPandas()[delays_by_engine.toPandas()['engine_type']!='None']"
   ]
  },
  {
   "cell_type": "code",
   "execution_count": null,
   "metadata": {},
   "outputs": [],
   "source": [
    "avg_delay_by_carrier = sqlContext.sql(\n",
    "    \"SELECT Description, AVG(ArrDelay), AVG(AirTime), AVG(CRSElapsedTime), AVG(ActualElapsedTime)  \\\n",
    "     FROM master \\\n",
    "     GROUP BY Description\")"
   ]
  },
  {
   "cell_type": "code",
   "execution_count": null,
   "metadata": {},
   "outputs": [],
   "source": [
    "result2 = avg_delay_by_carrier.collect()"
   ]
  },
  {
   "cell_type": "code",
   "execution_count": null,
   "metadata": {},
   "outputs": [
    {
     "data": {
      "text/html": [
       "<div>\n",
       "<style scoped>\n",
       "    .dataframe tbody tr th:only-of-type {\n",
       "        vertical-align: middle;\n",
       "    }\n",
       "\n",
       "    .dataframe tbody tr th {\n",
       "        vertical-align: top;\n",
       "    }\n",
       "\n",
       "    .dataframe thead th {\n",
       "        text-align: right;\n",
       "    }\n",
       "</style>\n",
       "<table border=\"1\" class=\"dataframe\">\n",
       "  <thead>\n",
       "    <tr style=\"text-align: right;\">\n",
       "      <th></th>\n",
       "      <th>Description</th>\n",
       "      <th>avg(ArrDelay)</th>\n",
       "      <th>avg(AirTime)</th>\n",
       "      <th>avg(CRSElapsedTime)</th>\n",
       "      <th>avg(ActualElapsedTime)</th>\n",
       "    </tr>\n",
       "  </thead>\n",
       "  <tbody>\n",
       "    <tr>\n",
       "      <th>0</th>\n",
       "      <td>US Airways Inc. (Merged with America West 9/05...</td>\n",
       "      <td>11.527269</td>\n",
       "      <td>116.944477</td>\n",
       "      <td>142.296284</td>\n",
       "      <td>142.089904</td>\n",
       "    </tr>\n",
       "    <tr>\n",
       "      <th>1</th>\n",
       "      <td>Pinnacle Airlines Inc.</td>\n",
       "      <td>8.138337</td>\n",
       "      <td>71.223194</td>\n",
       "      <td>98.742040</td>\n",
       "      <td>97.790544</td>\n",
       "    </tr>\n",
       "    <tr>\n",
       "      <th>2</th>\n",
       "      <td>Aloha Airlines Inc.</td>\n",
       "      <td>-1.376896</td>\n",
       "      <td>62.185804</td>\n",
       "      <td>75.813568</td>\n",
       "      <td>73.913615</td>\n",
       "    </tr>\n",
       "    <tr>\n",
       "      <th>3</th>\n",
       "      <td>Skywest Airlines Inc.</td>\n",
       "      <td>8.838887</td>\n",
       "      <td>68.755080</td>\n",
       "      <td>89.916295</td>\n",
       "      <td>90.613354</td>\n",
       "    </tr>\n",
       "    <tr>\n",
       "      <th>4</th>\n",
       "      <td>American Eagle Airlines Inc.</td>\n",
       "      <td>12.992794</td>\n",
       "      <td>67.674432</td>\n",
       "      <td>90.825297</td>\n",
       "      <td>90.812536</td>\n",
       "    </tr>\n",
       "    <tr>\n",
       "      <th>5</th>\n",
       "      <td>United Air Lines Inc.</td>\n",
       "      <td>12.753122</td>\n",
       "      <td>144.691570</td>\n",
       "      <td>170.446041</td>\n",
       "      <td>169.692381</td>\n",
       "    </tr>\n",
       "    <tr>\n",
       "      <th>6</th>\n",
       "      <td>Comair Inc.</td>\n",
       "      <td>13.135051</td>\n",
       "      <td>79.218251</td>\n",
       "      <td>106.261807</td>\n",
       "      <td>106.611888</td>\n",
       "    </tr>\n",
       "    <tr>\n",
       "      <th>7</th>\n",
       "      <td>Expressjet Airlines Inc.</td>\n",
       "      <td>10.007052</td>\n",
       "      <td>85.350256</td>\n",
       "      <td>112.446327</td>\n",
       "      <td>110.620772</td>\n",
       "    </tr>\n",
       "    <tr>\n",
       "      <th>8</th>\n",
       "      <td>Frontier Airlines Inc.</td>\n",
       "      <td>7.431885</td>\n",
       "      <td>122.335277</td>\n",
       "      <td>144.363854</td>\n",
       "      <td>144.398620</td>\n",
       "    </tr>\n",
       "    <tr>\n",
       "      <th>9</th>\n",
       "      <td>Southwest Airlines Co.</td>\n",
       "      <td>5.472958</td>\n",
       "      <td>90.056290</td>\n",
       "      <td>110.132786</td>\n",
       "      <td>105.270136</td>\n",
       "    </tr>\n",
       "    <tr>\n",
       "      <th>10</th>\n",
       "      <td>Continental Air Lines Inc.</td>\n",
       "      <td>10.269463</td>\n",
       "      <td>154.340016</td>\n",
       "      <td>186.400451</td>\n",
       "      <td>185.028029</td>\n",
       "    </tr>\n",
       "    <tr>\n",
       "      <th>11</th>\n",
       "      <td>Northwest Airlines Inc.</td>\n",
       "      <td>12.559142</td>\n",
       "      <td>109.023372</td>\n",
       "      <td>133.248945</td>\n",
       "      <td>137.285528</td>\n",
       "    </tr>\n",
       "    <tr>\n",
       "      <th>12</th>\n",
       "      <td>JetBlue Airways</td>\n",
       "      <td>13.439936</td>\n",
       "      <td>151.879829</td>\n",
       "      <td>182.620778</td>\n",
       "      <td>181.502432</td>\n",
       "    </tr>\n",
       "    <tr>\n",
       "      <th>13</th>\n",
       "      <td>AirTran Airways Corporation</td>\n",
       "      <td>7.937923</td>\n",
       "      <td>99.824716</td>\n",
       "      <td>123.221531</td>\n",
       "      <td>122.166734</td>\n",
       "    </tr>\n",
       "    <tr>\n",
       "      <th>14</th>\n",
       "      <td>Hawaiian Airlines Inc.</td>\n",
       "      <td>-0.430518</td>\n",
       "      <td>82.645267</td>\n",
       "      <td>96.827788</td>\n",
       "      <td>97.526790</td>\n",
       "    </tr>\n",
       "    <tr>\n",
       "      <th>15</th>\n",
       "      <td>Atlantic Southeast Airlines</td>\n",
       "      <td>17.195729</td>\n",
       "      <td>73.251980</td>\n",
       "      <td>100.371511</td>\n",
       "      <td>97.217727</td>\n",
       "    </tr>\n",
       "    <tr>\n",
       "      <th>16</th>\n",
       "      <td>Alaska Airlines Inc.</td>\n",
       "      <td>9.262788</td>\n",
       "      <td>124.258835</td>\n",
       "      <td>145.848419</td>\n",
       "      <td>144.972614</td>\n",
       "    </tr>\n",
       "    <tr>\n",
       "      <th>17</th>\n",
       "      <td>Delta Air Lines Inc.</td>\n",
       "      <td>7.303039</td>\n",
       "      <td>127.955917</td>\n",
       "      <td>156.829675</td>\n",
       "      <td>156.517843</td>\n",
       "    </tr>\n",
       "    <tr>\n",
       "      <th>18</th>\n",
       "      <td>Mesa Airlines Inc.</td>\n",
       "      <td>10.963476</td>\n",
       "      <td>64.128425</td>\n",
       "      <td>88.683604</td>\n",
       "      <td>87.290769</td>\n",
       "    </tr>\n",
       "    <tr>\n",
       "      <th>19</th>\n",
       "      <td>American Airlines Inc.</td>\n",
       "      <td>14.441869</td>\n",
       "      <td>142.457924</td>\n",
       "      <td>167.502339</td>\n",
       "      <td>167.609668</td>\n",
       "    </tr>\n",
       "  </tbody>\n",
       "</table>\n",
       "</div>"
      ],
      "text/plain": [
       "                                          Description  avg(ArrDelay)  \\\n",
       "0   US Airways Inc. (Merged with America West 9/05...      11.527269   \n",
       "1                              Pinnacle Airlines Inc.       8.138337   \n",
       "2                                 Aloha Airlines Inc.      -1.376896   \n",
       "3                               Skywest Airlines Inc.       8.838887   \n",
       "4                        American Eagle Airlines Inc.      12.992794   \n",
       "5                               United Air Lines Inc.      12.753122   \n",
       "6                                         Comair Inc.      13.135051   \n",
       "7                            Expressjet Airlines Inc.      10.007052   \n",
       "8                              Frontier Airlines Inc.       7.431885   \n",
       "9                              Southwest Airlines Co.       5.472958   \n",
       "10                         Continental Air Lines Inc.      10.269463   \n",
       "11                            Northwest Airlines Inc.      12.559142   \n",
       "12                                    JetBlue Airways      13.439936   \n",
       "13                        AirTran Airways Corporation       7.937923   \n",
       "14                             Hawaiian Airlines Inc.      -0.430518   \n",
       "15                        Atlantic Southeast Airlines      17.195729   \n",
       "16                               Alaska Airlines Inc.       9.262788   \n",
       "17                               Delta Air Lines Inc.       7.303039   \n",
       "18                                 Mesa Airlines Inc.      10.963476   \n",
       "19                             American Airlines Inc.      14.441869   \n",
       "\n",
       "    avg(AirTime)  avg(CRSElapsedTime)  avg(ActualElapsedTime)  \n",
       "0     116.944477           142.296284              142.089904  \n",
       "1      71.223194            98.742040               97.790544  \n",
       "2      62.185804            75.813568               73.913615  \n",
       "3      68.755080            89.916295               90.613354  \n",
       "4      67.674432            90.825297               90.812536  \n",
       "5     144.691570           170.446041              169.692381  \n",
       "6      79.218251           106.261807              106.611888  \n",
       "7      85.350256           112.446327              110.620772  \n",
       "8     122.335277           144.363854              144.398620  \n",
       "9      90.056290           110.132786              105.270136  \n",
       "10    154.340016           186.400451              185.028029  \n",
       "11    109.023372           133.248945              137.285528  \n",
       "12    151.879829           182.620778              181.502432  \n",
       "13     99.824716           123.221531              122.166734  \n",
       "14     82.645267            96.827788               97.526790  \n",
       "15     73.251980           100.371511               97.217727  \n",
       "16    124.258835           145.848419              144.972614  \n",
       "17    127.955917           156.829675              156.517843  \n",
       "18     64.128425            88.683604               87.290769  \n",
       "19    142.457924           167.502339              167.609668  "
      ]
     },
     "execution_count": 311,
     "metadata": {},
     "output_type": "execute_result"
    }
   ],
   "source": [
    "avg_delay_by_carrier.toPandas()"
   ]
  },
  {
   "cell_type": "code",
   "execution_count": null,
   "metadata": {},
   "outputs": [],
   "source": [
    "cancellations_by_destination = sqlContext.sql(\n",
    "    \"SELECT city_Dest, iata_Dest, SUM(Cancelled)  \\\n",
    "     FROM master \\\n",
    "     GROUP BY city_Dest, iata_Dest \\\n",
    "     ORDER BY SUM(Cancelled)\")"
   ]
  },
  {
   "cell_type": "code",
   "execution_count": null,
   "metadata": {},
   "outputs": [],
   "source": [
    "result3 = cancellations_by_destination.collect()"
   ]
  },
  {
   "cell_type": "code",
   "execution_count": null,
   "metadata": {},
   "outputs": [
    {
     "data": {
      "text/html": [
       "<div>\n",
       "<style scoped>\n",
       "    .dataframe tbody tr th:only-of-type {\n",
       "        vertical-align: middle;\n",
       "    }\n",
       "\n",
       "    .dataframe tbody tr th {\n",
       "        vertical-align: top;\n",
       "    }\n",
       "\n",
       "    .dataframe thead th {\n",
       "        text-align: right;\n",
       "    }\n",
       "</style>\n",
       "<table border=\"1\" class=\"dataframe\">\n",
       "  <thead>\n",
       "    <tr style=\"text-align: right;\">\n",
       "      <th></th>\n",
       "      <th>city_Dest</th>\n",
       "      <th>iata_Dest</th>\n",
       "      <th>sum(Cancelled)</th>\n",
       "    </tr>\n",
       "  </thead>\n",
       "  <tbody>\n",
       "    <tr>\n",
       "      <th>0</th>\n",
       "      <td>Cedar City</td>\n",
       "      <td>CDC</td>\n",
       "      <td>0</td>\n",
       "    </tr>\n",
       "    <tr>\n",
       "      <th>1</th>\n",
       "      <td>Pueblo</td>\n",
       "      <td>PUB</td>\n",
       "      <td>0</td>\n",
       "    </tr>\n",
       "    <tr>\n",
       "      <th>2</th>\n",
       "      <td>Provo</td>\n",
       "      <td>PVU</td>\n",
       "      <td>0</td>\n",
       "    </tr>\n",
       "    <tr>\n",
       "      <th>3</th>\n",
       "      <td>Pierre</td>\n",
       "      <td>PIR</td>\n",
       "      <td>0</td>\n",
       "    </tr>\n",
       "    <tr>\n",
       "      <th>4</th>\n",
       "      <td>Cheyenne</td>\n",
       "      <td>CYS</td>\n",
       "      <td>0</td>\n",
       "    </tr>\n",
       "    <tr>\n",
       "      <th>5</th>\n",
       "      <td>Lewiston</td>\n",
       "      <td>LWS</td>\n",
       "      <td>0</td>\n",
       "    </tr>\n",
       "    <tr>\n",
       "      <th>6</th>\n",
       "      <td>Ogden</td>\n",
       "      <td>OGD</td>\n",
       "      <td>0</td>\n",
       "    </tr>\n",
       "    <tr>\n",
       "      <th>7</th>\n",
       "      <td>Greenville</td>\n",
       "      <td>GLH</td>\n",
       "      <td>0</td>\n",
       "    </tr>\n",
       "    <tr>\n",
       "      <th>8</th>\n",
       "      <td>Kansas City</td>\n",
       "      <td>MKC</td>\n",
       "      <td>0</td>\n",
       "    </tr>\n",
       "    <tr>\n",
       "      <th>9</th>\n",
       "      <td>Scottsbluff</td>\n",
       "      <td>BFF</td>\n",
       "      <td>0</td>\n",
       "    </tr>\n",
       "    <tr>\n",
       "      <th>10</th>\n",
       "      <td>Lewisburg</td>\n",
       "      <td>LWB</td>\n",
       "      <td>1</td>\n",
       "    </tr>\n",
       "    <tr>\n",
       "      <th>11</th>\n",
       "      <td>Salem</td>\n",
       "      <td>SLE</td>\n",
       "      <td>1</td>\n",
       "    </tr>\n",
       "    <tr>\n",
       "      <th>12</th>\n",
       "      <td>West Yellowstone</td>\n",
       "      <td>WYS</td>\n",
       "      <td>1</td>\n",
       "    </tr>\n",
       "    <tr>\n",
       "      <th>13</th>\n",
       "      <td>Yakima</td>\n",
       "      <td>YKM</td>\n",
       "      <td>1</td>\n",
       "    </tr>\n",
       "    <tr>\n",
       "      <th>14</th>\n",
       "      <td>Marathon</td>\n",
       "      <td>MTH</td>\n",
       "      <td>1</td>\n",
       "    </tr>\n",
       "    <tr>\n",
       "      <th>15</th>\n",
       "      <td>Kinston</td>\n",
       "      <td>ISO</td>\n",
       "      <td>1</td>\n",
       "    </tr>\n",
       "    <tr>\n",
       "      <th>16</th>\n",
       "      <td>Roswell</td>\n",
       "      <td>ROW</td>\n",
       "      <td>1</td>\n",
       "    </tr>\n",
       "    <tr>\n",
       "      <th>17</th>\n",
       "      <td>Gustavus</td>\n",
       "      <td>GST</td>\n",
       "      <td>2</td>\n",
       "    </tr>\n",
       "    <tr>\n",
       "      <th>18</th>\n",
       "      <td>Dillingham</td>\n",
       "      <td>DLG</td>\n",
       "      <td>3</td>\n",
       "    </tr>\n",
       "    <tr>\n",
       "      <th>19</th>\n",
       "      <td>Bellingham</td>\n",
       "      <td>BLI</td>\n",
       "      <td>4</td>\n",
       "    </tr>\n",
       "    <tr>\n",
       "      <th>20</th>\n",
       "      <td>Christiansted</td>\n",
       "      <td>STX</td>\n",
       "      <td>5</td>\n",
       "    </tr>\n",
       "    <tr>\n",
       "      <th>21</th>\n",
       "      <td>Pinehurst/Southern Pines</td>\n",
       "      <td>SOP</td>\n",
       "      <td>5</td>\n",
       "    </tr>\n",
       "    <tr>\n",
       "      <th>22</th>\n",
       "      <td>Pocatello</td>\n",
       "      <td>PIH</td>\n",
       "      <td>5</td>\n",
       "    </tr>\n",
       "    <tr>\n",
       "      <th>23</th>\n",
       "      <td>King Salmon</td>\n",
       "      <td>AKN</td>\n",
       "      <td>5</td>\n",
       "    </tr>\n",
       "    <tr>\n",
       "      <th>24</th>\n",
       "      <td>New Bern</td>\n",
       "      <td>EWN</td>\n",
       "      <td>5</td>\n",
       "    </tr>\n",
       "    <tr>\n",
       "      <th>25</th>\n",
       "      <td>Adak</td>\n",
       "      <td>ADK</td>\n",
       "      <td>6</td>\n",
       "    </tr>\n",
       "    <tr>\n",
       "      <th>26</th>\n",
       "      <td>Huntington</td>\n",
       "      <td>HTS</td>\n",
       "      <td>6</td>\n",
       "    </tr>\n",
       "    <tr>\n",
       "      <th>27</th>\n",
       "      <td>Eau Claire</td>\n",
       "      <td>EAU</td>\n",
       "      <td>7</td>\n",
       "    </tr>\n",
       "    <tr>\n",
       "      <th>28</th>\n",
       "      <td>Rockford</td>\n",
       "      <td>RFD</td>\n",
       "      <td>7</td>\n",
       "    </tr>\n",
       "    <tr>\n",
       "      <th>29</th>\n",
       "      <td>Key West</td>\n",
       "      <td>EYW</td>\n",
       "      <td>10</td>\n",
       "    </tr>\n",
       "    <tr>\n",
       "      <th>...</th>\n",
       "      <td>...</td>\n",
       "      <td>...</td>\n",
       "      <td>...</td>\n",
       "    </tr>\n",
       "    <tr>\n",
       "      <th>280</th>\n",
       "      <td>Orlando</td>\n",
       "      <td>MCO</td>\n",
       "      <td>1087</td>\n",
       "    </tr>\n",
       "    <tr>\n",
       "      <th>281</th>\n",
       "      <td>Dallas</td>\n",
       "      <td>DAL</td>\n",
       "      <td>1129</td>\n",
       "    </tr>\n",
       "    <tr>\n",
       "      <th>282</th>\n",
       "      <td>Seattle</td>\n",
       "      <td>SEA</td>\n",
       "      <td>1242</td>\n",
       "    </tr>\n",
       "    <tr>\n",
       "      <th>283</th>\n",
       "      <td>St Louis</td>\n",
       "      <td>STL</td>\n",
       "      <td>1256</td>\n",
       "    </tr>\n",
       "    <tr>\n",
       "      <th>284</th>\n",
       "      <td>Chicago</td>\n",
       "      <td>MDW</td>\n",
       "      <td>1287</td>\n",
       "    </tr>\n",
       "    <tr>\n",
       "      <th>285</th>\n",
       "      <td>Raleigh</td>\n",
       "      <td>RDU</td>\n",
       "      <td>1399</td>\n",
       "    </tr>\n",
       "    <tr>\n",
       "      <th>286</th>\n",
       "      <td>Cleveland</td>\n",
       "      <td>CLE</td>\n",
       "      <td>1422</td>\n",
       "    </tr>\n",
       "    <tr>\n",
       "      <th>287</th>\n",
       "      <td>Salt Lake City</td>\n",
       "      <td>SLC</td>\n",
       "      <td>1482</td>\n",
       "    </tr>\n",
       "    <tr>\n",
       "      <th>288</th>\n",
       "      <td>Baltimore</td>\n",
       "      <td>BWI</td>\n",
       "      <td>1614</td>\n",
       "    </tr>\n",
       "    <tr>\n",
       "      <th>289</th>\n",
       "      <td>Las Vegas</td>\n",
       "      <td>LAS</td>\n",
       "      <td>1677</td>\n",
       "    </tr>\n",
       "    <tr>\n",
       "      <th>290</th>\n",
       "      <td>Memphis</td>\n",
       "      <td>MEM</td>\n",
       "      <td>1799</td>\n",
       "    </tr>\n",
       "    <tr>\n",
       "      <th>291</th>\n",
       "      <td>Houston</td>\n",
       "      <td>IAH</td>\n",
       "      <td>2166</td>\n",
       "    </tr>\n",
       "    <tr>\n",
       "      <th>292</th>\n",
       "      <td>Philadelphia</td>\n",
       "      <td>PHL</td>\n",
       "      <td>2334</td>\n",
       "    </tr>\n",
       "    <tr>\n",
       "      <th>293</th>\n",
       "      <td>Charlotte</td>\n",
       "      <td>CLT</td>\n",
       "      <td>2406</td>\n",
       "    </tr>\n",
       "    <tr>\n",
       "      <th>294</th>\n",
       "      <td>San Francisco</td>\n",
       "      <td>SFO</td>\n",
       "      <td>2753</td>\n",
       "    </tr>\n",
       "    <tr>\n",
       "      <th>295</th>\n",
       "      <td>Covington</td>\n",
       "      <td>CVG</td>\n",
       "      <td>2885</td>\n",
       "    </tr>\n",
       "    <tr>\n",
       "      <th>296</th>\n",
       "      <td>Chantilly</td>\n",
       "      <td>IAD</td>\n",
       "      <td>3116</td>\n",
       "    </tr>\n",
       "    <tr>\n",
       "      <th>297</th>\n",
       "      <td>Arlington</td>\n",
       "      <td>DCA</td>\n",
       "      <td>3119</td>\n",
       "    </tr>\n",
       "    <tr>\n",
       "      <th>298</th>\n",
       "      <td>Phoenix</td>\n",
       "      <td>PHX</td>\n",
       "      <td>3121</td>\n",
       "    </tr>\n",
       "    <tr>\n",
       "      <th>299</th>\n",
       "      <td>Los Angeles</td>\n",
       "      <td>LAX</td>\n",
       "      <td>3417</td>\n",
       "    </tr>\n",
       "    <tr>\n",
       "      <th>300</th>\n",
       "      <td>Minneapolis</td>\n",
       "      <td>MSP</td>\n",
       "      <td>3792</td>\n",
       "    </tr>\n",
       "    <tr>\n",
       "      <th>301</th>\n",
       "      <td>New York</td>\n",
       "      <td>JFK</td>\n",
       "      <td>4082</td>\n",
       "    </tr>\n",
       "    <tr>\n",
       "      <th>302</th>\n",
       "      <td>Denver</td>\n",
       "      <td>DEN</td>\n",
       "      <td>4134</td>\n",
       "    </tr>\n",
       "    <tr>\n",
       "      <th>303</th>\n",
       "      <td>Boston</td>\n",
       "      <td>BOS</td>\n",
       "      <td>4251</td>\n",
       "    </tr>\n",
       "    <tr>\n",
       "      <th>304</th>\n",
       "      <td>Detroit</td>\n",
       "      <td>DTW</td>\n",
       "      <td>4484</td>\n",
       "    </tr>\n",
       "    <tr>\n",
       "      <th>305</th>\n",
       "      <td>Newark</td>\n",
       "      <td>EWR</td>\n",
       "      <td>5992</td>\n",
       "    </tr>\n",
       "    <tr>\n",
       "      <th>306</th>\n",
       "      <td>New York</td>\n",
       "      <td>LGA</td>\n",
       "      <td>6301</td>\n",
       "    </tr>\n",
       "    <tr>\n",
       "      <th>307</th>\n",
       "      <td>Atlanta</td>\n",
       "      <td>ATL</td>\n",
       "      <td>7789</td>\n",
       "    </tr>\n",
       "    <tr>\n",
       "      <th>308</th>\n",
       "      <td>Dallas-Fort Worth</td>\n",
       "      <td>DFW</td>\n",
       "      <td>9767</td>\n",
       "    </tr>\n",
       "    <tr>\n",
       "      <th>309</th>\n",
       "      <td>Chicago</td>\n",
       "      <td>ORD</td>\n",
       "      <td>17568</td>\n",
       "    </tr>\n",
       "  </tbody>\n",
       "</table>\n",
       "<p>310 rows × 3 columns</p>\n",
       "</div>"
      ],
      "text/plain": [
       "                    city_Dest iata_Dest  sum(Cancelled)\n",
       "0                  Cedar City       CDC               0\n",
       "1                      Pueblo       PUB               0\n",
       "2                       Provo       PVU               0\n",
       "3                      Pierre       PIR               0\n",
       "4                    Cheyenne       CYS               0\n",
       "5                    Lewiston       LWS               0\n",
       "6                       Ogden       OGD               0\n",
       "7                  Greenville       GLH               0\n",
       "8                 Kansas City       MKC               0\n",
       "9                 Scottsbluff       BFF               0\n",
       "10                  Lewisburg       LWB               1\n",
       "11                      Salem       SLE               1\n",
       "12           West Yellowstone       WYS               1\n",
       "13                     Yakima       YKM               1\n",
       "14                   Marathon       MTH               1\n",
       "15                    Kinston       ISO               1\n",
       "16                    Roswell       ROW               1\n",
       "17                   Gustavus       GST               2\n",
       "18                 Dillingham       DLG               3\n",
       "19                 Bellingham       BLI               4\n",
       "20              Christiansted       STX               5\n",
       "21   Pinehurst/Southern Pines       SOP               5\n",
       "22                  Pocatello       PIH               5\n",
       "23                King Salmon       AKN               5\n",
       "24                   New Bern       EWN               5\n",
       "25                       Adak       ADK               6\n",
       "26                 Huntington       HTS               6\n",
       "27                 Eau Claire       EAU               7\n",
       "28                   Rockford       RFD               7\n",
       "29                   Key West       EYW              10\n",
       "..                        ...       ...             ...\n",
       "280                   Orlando       MCO            1087\n",
       "281                    Dallas       DAL            1129\n",
       "282                   Seattle       SEA            1242\n",
       "283                  St Louis       STL            1256\n",
       "284                   Chicago       MDW            1287\n",
       "285                   Raleigh       RDU            1399\n",
       "286                 Cleveland       CLE            1422\n",
       "287            Salt Lake City       SLC            1482\n",
       "288                 Baltimore       BWI            1614\n",
       "289                 Las Vegas       LAS            1677\n",
       "290                   Memphis       MEM            1799\n",
       "291                   Houston       IAH            2166\n",
       "292              Philadelphia       PHL            2334\n",
       "293                 Charlotte       CLT            2406\n",
       "294             San Francisco       SFO            2753\n",
       "295                 Covington       CVG            2885\n",
       "296                 Chantilly       IAD            3116\n",
       "297                 Arlington       DCA            3119\n",
       "298                   Phoenix       PHX            3121\n",
       "299               Los Angeles       LAX            3417\n",
       "300               Minneapolis       MSP            3792\n",
       "301                  New York       JFK            4082\n",
       "302                    Denver       DEN            4134\n",
       "303                    Boston       BOS            4251\n",
       "304                   Detroit       DTW            4484\n",
       "305                    Newark       EWR            5992\n",
       "306                  New York       LGA            6301\n",
       "307                   Atlanta       ATL            7789\n",
       "308         Dallas-Fort Worth       DFW            9767\n",
       "309                   Chicago       ORD           17568\n",
       "\n",
       "[310 rows x 3 columns]"
      ]
     },
     "execution_count": 314,
     "metadata": {},
     "output_type": "execute_result"
    }
   ],
   "source": [
    "cancellations_by_destination.toPandas()"
   ]
  },
  {
   "cell_type": "code",
   "execution_count": null,
   "metadata": {},
   "outputs": [],
   "source": [
    "early_by_carrier = sqlContext.sql(\n",
    "    \"SELECT Description, SUM(ArrDelay)  \\\n",
    "     FROM master \\\n",
    "     WHERE (ArrDelay < 0) GROUP BY Description ORDER BY SUM(ArrDelay) ASC \")"
   ]
  },
  {
   "cell_type": "code",
   "execution_count": null,
   "metadata": {},
   "outputs": [],
   "source": [
    "result4 = early_by_carrier.collect()"
   ]
  },
  {
   "cell_type": "code",
   "execution_count": null,
   "metadata": {},
   "outputs": [
    {
     "data": {
      "text/html": [
       "<div>\n",
       "<style scoped>\n",
       "    .dataframe tbody tr th:only-of-type {\n",
       "        vertical-align: middle;\n",
       "    }\n",
       "\n",
       "    .dataframe tbody tr th {\n",
       "        vertical-align: top;\n",
       "    }\n",
       "\n",
       "    .dataframe thead th {\n",
       "        text-align: right;\n",
       "    }\n",
       "</style>\n",
       "<table border=\"1\" class=\"dataframe\">\n",
       "  <thead>\n",
       "    <tr style=\"text-align: right;\">\n",
       "      <th></th>\n",
       "      <th>Description</th>\n",
       "      <th>sum(ArrDelay)</th>\n",
       "    </tr>\n",
       "  </thead>\n",
       "  <tbody>\n",
       "    <tr>\n",
       "      <th>0</th>\n",
       "      <td>Southwest Airlines Co.</td>\n",
       "      <td>-5783814</td>\n",
       "    </tr>\n",
       "    <tr>\n",
       "      <th>1</th>\n",
       "      <td>American Airlines Inc.</td>\n",
       "      <td>-2891332</td>\n",
       "    </tr>\n",
       "    <tr>\n",
       "      <th>2</th>\n",
       "      <td>Expressjet Airlines Inc.</td>\n",
       "      <td>-2817869</td>\n",
       "    </tr>\n",
       "    <tr>\n",
       "      <th>3</th>\n",
       "      <td>Skywest Airlines Inc.</td>\n",
       "      <td>-2674892</td>\n",
       "    </tr>\n",
       "    <tr>\n",
       "      <th>4</th>\n",
       "      <td>United Air Lines Inc.</td>\n",
       "      <td>-2628170</td>\n",
       "    </tr>\n",
       "    <tr>\n",
       "      <th>5</th>\n",
       "      <td>Delta Air Lines Inc.</td>\n",
       "      <td>-2495262</td>\n",
       "    </tr>\n",
       "    <tr>\n",
       "      <th>6</th>\n",
       "      <td>American Eagle Airlines Inc.</td>\n",
       "      <td>-2488111</td>\n",
       "    </tr>\n",
       "    <tr>\n",
       "      <th>7</th>\n",
       "      <td>US Airways Inc. (Merged with America West 9/05...</td>\n",
       "      <td>-2258630</td>\n",
       "    </tr>\n",
       "    <tr>\n",
       "      <th>8</th>\n",
       "      <td>Continental Air Lines Inc.</td>\n",
       "      <td>-1948909</td>\n",
       "    </tr>\n",
       "    <tr>\n",
       "      <th>9</th>\n",
       "      <td>Mesa Airlines Inc.</td>\n",
       "      <td>-1547762</td>\n",
       "    </tr>\n",
       "    <tr>\n",
       "      <th>10</th>\n",
       "      <td>Northwest Airlines Inc.</td>\n",
       "      <td>-1518313</td>\n",
       "    </tr>\n",
       "    <tr>\n",
       "      <th>11</th>\n",
       "      <td>AirTran Airways Corporation</td>\n",
       "      <td>-1421828</td>\n",
       "    </tr>\n",
       "    <tr>\n",
       "      <th>12</th>\n",
       "      <td>Pinnacle Airlines Inc.</td>\n",
       "      <td>-1419325</td>\n",
       "    </tr>\n",
       "    <tr>\n",
       "      <th>13</th>\n",
       "      <td>JetBlue Airways</td>\n",
       "      <td>-1297111</td>\n",
       "    </tr>\n",
       "    <tr>\n",
       "      <th>14</th>\n",
       "      <td>Atlantic Southeast Airlines</td>\n",
       "      <td>-1291127</td>\n",
       "    </tr>\n",
       "    <tr>\n",
       "      <th>15</th>\n",
       "      <td>Comair Inc.</td>\n",
       "      <td>-1049556</td>\n",
       "    </tr>\n",
       "    <tr>\n",
       "      <th>16</th>\n",
       "      <td>Alaska Airlines Inc.</td>\n",
       "      <td>-888289</td>\n",
       "    </tr>\n",
       "    <tr>\n",
       "      <th>17</th>\n",
       "      <td>Frontier Airlines Inc.</td>\n",
       "      <td>-397996</td>\n",
       "    </tr>\n",
       "    <tr>\n",
       "      <th>18</th>\n",
       "      <td>Hawaiian Airlines Inc.</td>\n",
       "      <td>-261749</td>\n",
       "    </tr>\n",
       "    <tr>\n",
       "      <th>19</th>\n",
       "      <td>Aloha Airlines Inc.</td>\n",
       "      <td>-252167</td>\n",
       "    </tr>\n",
       "  </tbody>\n",
       "</table>\n",
       "</div>"
      ],
      "text/plain": [
       "                                          Description  sum(ArrDelay)\n",
       "0                              Southwest Airlines Co.       -5783814\n",
       "1                              American Airlines Inc.       -2891332\n",
       "2                            Expressjet Airlines Inc.       -2817869\n",
       "3                               Skywest Airlines Inc.       -2674892\n",
       "4                               United Air Lines Inc.       -2628170\n",
       "5                                Delta Air Lines Inc.       -2495262\n",
       "6                        American Eagle Airlines Inc.       -2488111\n",
       "7   US Airways Inc. (Merged with America West 9/05...       -2258630\n",
       "8                          Continental Air Lines Inc.       -1948909\n",
       "9                                  Mesa Airlines Inc.       -1547762\n",
       "10                            Northwest Airlines Inc.       -1518313\n",
       "11                        AirTran Airways Corporation       -1421828\n",
       "12                             Pinnacle Airlines Inc.       -1419325\n",
       "13                                    JetBlue Airways       -1297111\n",
       "14                        Atlantic Southeast Airlines       -1291127\n",
       "15                                        Comair Inc.       -1049556\n",
       "16                               Alaska Airlines Inc.        -888289\n",
       "17                             Frontier Airlines Inc.        -397996\n",
       "18                             Hawaiian Airlines Inc.        -261749\n",
       "19                                Aloha Airlines Inc.        -252167"
      ]
     },
     "execution_count": 317,
     "metadata": {},
     "output_type": "execute_result"
    }
   ],
   "source": [
    "early_by_carrier.toPandas()"
   ]
  },
  {
   "cell_type": "code",
   "execution_count": null,
   "metadata": {},
   "outputs": [],
   "source": [
    "#, SUM(WeatherDelay), SUM(NASDelay), SUM(SecurityDelay),SUM(LateAircraftDelay)"
   ]
  },
  {
   "cell_type": "code",
   "execution_count": null,
   "metadata": {},
   "outputs": [],
   "source": [
    "total_count = sqlContext.sql('SELECT COUNT(*) FROM MASTER')"
   ]
  },
  {
   "cell_type": "code",
   "execution_count": null,
   "metadata": {},
   "outputs": [],
   "source": [
    "total_count.collect()"
   ]
  },
  {
   "cell_type": "code",
   "execution_count": null,
   "metadata": {},
   "outputs": [],
   "source": [
    "#Adding an ID field to use the FeatureTools4S library\n",
    "from pyspark.sql.functions import monotonically_increasing_id"
   ]
  },
  {
   "cell_type": "code",
   "execution_count": null,
   "metadata": {},
   "outputs": [],
   "source": [
    "df = fourth_updated.withColumn(\"id\", monotonically_increasing_id())"
   ]
  },
  {
   "cell_type": "code",
   "execution_count": null,
   "metadata": {},
   "outputs": [],
   "source": [
    "#Removing info just not relevant for the predictive model\n",
    "#Year, Cancelled, CancellationCode, country_Origin, country_Dest- sure\n",
    "#potential: cancellations - "
   ]
  },
  {
   "cell_type": "code",
   "execution_count": null,
   "metadata": {},
   "outputs": [],
   "source": [
    "df = df.drop(\"Cancelled\", \"CancellationCode\")"
   ]
  },
  {
   "cell_type": "code",
   "execution_count": null,
   "metadata": {},
   "outputs": [],
   "source": [
    "df = df.na.drop(subset=[\"ArrDelay\"])"
   ]
  },
  {
   "cell_type": "code",
   "execution_count": null,
   "metadata": {},
   "outputs": [],
   "source": [
    "#Investigate Nulls:\n",
    "from pyspark.sql.functions import isnan, when, count, col"
   ]
  },
  {
   "cell_type": "code",
   "execution_count": null,
   "metadata": {},
   "outputs": [],
   "source": [
    "df = df.drop('tailnum')"
   ]
  },
  {
   "cell_type": "code",
   "execution_count": null,
   "metadata": {},
   "outputs": [],
   "source": [
    "#The df is clean from nulls\n",
    "df.select([count(when(isnan(c), c)).alias(c) for c in df.columns]).show()"
   ]
  },
  {
   "cell_type": "code",
   "execution_count": null,
   "metadata": {},
   "outputs": [],
   "source": [
    "#Dropping attributes that will not be helpful to us e.g. country is always US\n",
    "df = df.drop('country_Dest', 'country_Origin', 'lat_Origin', 'long_Origin', 'lat_Dest', 'long_Dest', 'Code')"
   ]
  },
  {
   "cell_type": "code",
   "execution_count": null,
   "metadata": {},
   "outputs": [],
   "source": [
    "#Removing additional attributes to avoid sparsity:\n",
    "df_ml = df.drop('type', 'status', 'model',  'engine_type', 'city_Dest', 'state_Origin',\n",
    "                   'airport_Origin', 'city_Origin', 'iata_Dest', 'iata_Origin', 'state_Dest', 'issue_date', \n",
    "                  'Origin', 'Description', 'Origin', 'Dest',  'issue_date', 'id', 'airport_Dest', 'Month', 'DayofMonth')"
   ]
  },
  {
   "cell_type": "code",
   "execution_count": null,
   "metadata": {},
   "outputs": [],
   "source": [
    "df_ml.dtypes"
   ]
  },
  {
   "cell_type": "code",
   "execution_count": null,
   "metadata": {},
   "outputs": [],
   "source": [
    "#Plane year should be int:\n",
    "df_ml = df_ml.withColumn('plane_year', col('plane_year').cast('int'))"
   ]
  },
  {
   "cell_type": "code",
   "execution_count": null,
   "metadata": {},
   "outputs": [],
   "source": [
    "df_ml = df_ml.withColumn('DayOfWeek', col('DayOfWeek').cast('string'))"
   ]
  },
  {
   "cell_type": "code",
   "execution_count": null,
   "metadata": {},
   "outputs": [],
   "source": [
    "df_ml = df_ml.na.drop()"
   ]
  },
  {
   "cell_type": "code",
   "execution_count": null,
   "metadata": {},
   "outputs": [],
   "source": [
    "from pyspark.sql.functions import substring\n",
    "df_ml = df_ml.withColumn(\"manufacturer\", substring(col(\"manufacturer\"), 0, 5))\n",
    "df_ml = df_ml.withColumn(\"aircraft_type\", substring(col(\"aircraft_type\"), 0,2))"
   ]
  },
  {
   "cell_type": "code",
   "execution_count": null,
   "metadata": {},
   "outputs": [],
   "source": [
    "from pyspark.ml.evaluation import RegressionEvaluator\n",
    "from pyspark.ml.regression import LinearRegression\n",
    "from pyspark.ml.tuning import ParamGridBuilder, TrainValidationSplit\n",
    "from pyspark.ml.feature import OneHotEncoderEstimator, StringIndexer, VectorAssembler\n",
    "from pyspark.ml import Pipeline"
   ]
  },
  {
   "cell_type": "code",
   "execution_count": null,
   "metadata": {},
   "outputs": [],
   "source": [
    "#Run exploration here"
   ]
  },
  {
   "cell_type": "code",
   "execution_count": null,
   "metadata": {},
   "outputs": [],
   "source": [
    "cat_cols = [item[0] for item in df_ml.dtypes if item[1].startswith('string')]\n",
    "num_cols = [item[0] for item in df_ml.dtypes if item[1].startswith('in')]"
   ]
  },
  {
   "cell_type": "code",
   "execution_count": null,
   "metadata": {},
   "outputs": [],
   "source": [
    "cat_cols"
   ]
  },
  {
   "cell_type": "code",
   "execution_count": null,
   "metadata": {},
   "outputs": [],
   "source": [
    "def make_pipeline(df):        \n",
    "    stages= []\n",
    "\n",
    "    for col in cat_cols:\n",
    "\n",
    "        stringIndexer = StringIndexer(inputCol = col , outputCol = col + '_StringIndex')\n",
    "        encoder = OneHotEncoderEstimator(inputCols=[stringIndexer.getOutputCol()], outputCols=[col + '_ClassVect'])\n",
    "        stages += [stringIndexer, encoder]\n",
    "\n",
    "    #Assembling mixed data type transformations:\n",
    "    assemblerInputs = [c + \"_ClassVect\" for c in cat_cols] + num_cols\n",
    "    assembler = VectorAssembler(inputCols=assemblerInputs, outputCol=\"features\")\n",
    "\n",
    "    stages += [assembler]\n",
    "\n",
    "    #Creating and running the pipeline:\n",
    "    pipeline = Pipeline(stages=stages)\n",
    "    pipelineModel = pipeline.fit(df_model)\n",
    "    out_df = pipelineModel.transform(df_model)\n",
    "    \n",
    "    return out_df"
   ]
  },
  {
   "cell_type": "code",
   "execution_count": null,
   "metadata": {},
   "outputs": [],
   "source": [
    "out_df = make_pipeline(df_ml)"
   ]
  },
  {
   "cell_type": "markdown",
   "metadata": {},
   "source": [
    "Linear Regression to Predict Delays"
   ]
  },
  {
   "cell_type": "code",
   "execution_count": null,
   "metadata": {},
   "outputs": [],
   "source": [
    "#Creating Baseline Linear Regression Model:\n",
    "lr = LinearRegression(maxIter=10, featuresCol=\"features\", labelCol=\"ArrDelay\")"
   ]
  },
  {
   "cell_type": "code",
   "execution_count": null,
   "metadata": {},
   "outputs": [],
   "source": [
    "train, test = df_model.randomSplit([0.8, 0.2], seed=1)"
   ]
  },
  {
   "cell_type": "code",
   "execution_count": null,
   "metadata": {},
   "outputs": [],
   "source": [
    "#Fitting the model to the training data\n",
    "lrmodel = lr.fit(train)"
   ]
  },
  {
   "cell_type": "code",
   "execution_count": null,
   "metadata": {},
   "outputs": [],
   "source": [
    "#Creating Model Summary to evaluate performance:\n",
    "trainingSummary = lrmodel.summary\n",
    "\n",
    "print(\"Training Set R2: \", trainingSummary.r2)\n",
    "print(\"Training Set RMSE: \", trainingSummary.rootMeanSquaredError)"
   ]
  },
  {
   "cell_type": "code",
   "execution_count": null,
   "metadata": {},
   "outputs": [],
   "source": [
    "#Evaluating model with the held out test set:\n",
    "predictions = lrmodel.transform(test)"
   ]
  },
  {
   "cell_type": "code",
   "execution_count": null,
   "metadata": {},
   "outputs": [],
   "source": [
    "from pyspark.ml.evaluation import RegressionEvaluator\n",
    "evaluator = RegressionEvaluator(labelCol = \"ArrDelay\", predictionCol=\"prediction\", metricName=\"rmse\")"
   ]
  },
  {
   "cell_type": "code",
   "execution_count": null,
   "metadata": {},
   "outputs": [],
   "source": [
    "print(\"Test set R2: \" + str(evaluator.evaluate(predictions, {evaluator.metricName: \"r2\"})))\n",
    "print(\"Test set RMSE: \" + str(evaluator.evaluate(predictions, {evaluator.metricName: \"rmse\"})))"
   ]
  },
  {
   "cell_type": "markdown",
   "metadata": {},
   "source": [
    "These results are very good. Too good to be true?"
   ]
  },
  {
   "cell_type": "code",
   "execution_count": null,
   "metadata": {},
   "outputs": [],
   "source": [
    "from pyspark.ml.stat import Correlation"
   ]
  },
  {
   "cell_type": "code",
   "execution_count": null,
   "metadata": {},
   "outputs": [],
   "source": [
    "print(\"Pearson Correlation between Carrier Delay and Arrival Delay: \", df_model.stat.corr(\"CarrierDelay\", \"ArrDelay\"))\n",
    "print(\"Pearson Correlation between WeatherDelay Delay and Arrival Delay: \", df_model.stat.corr(\"WeatherDelay\", \"ArrDelay\"))\n",
    "print(\"Pearson Correlation between NASDelay Delay and Arrival Delay: \", df_model.stat.corr(\"NASDelay\", \"ArrDelay\"))\n",
    "print(\"Pearson Correlation between SecurityDelay Delay and Arrival Delay: \", df_model.stat.corr(\"SecurityDelay\", \"ArrDelay\"))"
   ]
  },
  {
   "cell_type": "markdown",
   "metadata": {},
   "source": [
    "We need to remove attributes that can only be populated upon the flight's arrival"
   ]
  },
  {
   "cell_type": "code",
   "execution_count": null,
   "metadata": {},
   "outputs": [],
   "source": [
    "#Attributes causing data leakage\n",
    "df_dl = df_model.drop(\"ArrTime\", \"ActualElapsedTime\", \"AirTime\", \"TaxiIn\", \"Diverted\", \"CarrierDelay\", \n",
    "                \"WeatherDelay\", \"NASDelay\", \"SecurityDelay\")"
   ]
  },
  {
   "cell_type": "code",
   "execution_count": null,
   "metadata": {},
   "outputs": [],
   "source": [
    "df_dl = make_pipeline(df_dl)"
   ]
  },
  {
   "cell_type": "code",
   "execution_count": null,
   "metadata": {},
   "outputs": [],
   "source": [
    "#Replicating Baseline Linear Regression Model without Data Leakage Attributes:\n",
    "lr_dl = LinearRegression(maxIter=10, featuresCol=\"features\", labelCol=\"ArrDelay\")"
   ]
  },
  {
   "cell_type": "code",
   "execution_count": null,
   "metadata": {},
   "outputs": [],
   "source": [
    "train, test = df_model.randomSplit([0.8, 0.2], seed=1)"
   ]
  },
  {
   "cell_type": "code",
   "execution_count": null,
   "metadata": {},
   "outputs": [],
   "source": [
    "#Fitting the model to the training data\n",
    "lrmodel_dl = lr_dl.fit(train)"
   ]
  },
  {
   "cell_type": "code",
   "execution_count": null,
   "metadata": {},
   "outputs": [],
   "source": [
    "#Creating Model Summary to evaluate performance:\n",
    "trainingSummary_dl = lrmodel_dl.summary\n",
    "\n",
    "print(\"Training Set R2: \", trainingSummary_dl.r2)\n",
    "print(\"Training Set RMSE: \", trainingSummary_dl.rootMeanSquaredError)"
   ]
  },
  {
   "cell_type": "markdown",
   "metadata": {},
   "source": [
    "The model is performing worse. Let's examine Feature Importance with the help of Random Forest Regression Model"
   ]
  },
  {
   "cell_type": "code",
   "execution_count": null,
   "metadata": {},
   "outputs": [],
   "source": [
    "from pyspark.ml import RandomForestRegressor"
   ]
  },
  {
   "cell_type": "code",
   "execution_count": null,
   "metadata": {},
   "outputs": [],
   "source": [
    "rf = RandomForestRegressor(labelCol=\"ArrDelay\", featuresCol=\"features\", seed=1, numTrees=5, subsamplingRate = 1)"
   ]
  },
  {
   "cell_type": "code",
   "execution_count": null,
   "metadata": {},
   "outputs": [],
   "source": [
    "rf_model_dl = rf.fit(train)"
   ]
  },
  {
   "cell_type": "code",
   "execution_count": null,
   "metadata": {},
   "outputs": [],
   "source": [
    "rf_model_dl.featureImportances"
   ]
  },
  {
   "cell_type": "code",
   "execution_count": null,
   "metadata": {},
   "outputs": [],
   "source": [
    "def ExtractFeatureImp(featureImp, df, featuresCol):\n",
    "    extract = []\n",
    "    for i in df.schema[featuresCol].metadata[\"ml_attr\"][\"attrs\"]:\n",
    "        extract = extract + df.schema[featuresCol].metadata[\"ml_attr\"][\"attrs\"][i]\n",
    "    varlist['score'] = varlist['idx'].apply(lambda x: featureImp[x])\n",
    "    return(varlist.sort_values('score', ascending=False))"
   ]
  },
  {
   "cell_type": "code",
   "execution_count": null,
   "metadata": {},
   "outputs": [],
   "source": [
    "extracted = ExtractFeatureImp(rf_model_dl.featureImportances, df_dl, \"features\")"
   ]
  },
  {
   "cell_type": "code",
   "execution_count": null,
   "metadata": {},
   "outputs": [],
   "source": [
    "extracted"
   ]
  },
  {
   "cell_type": "markdown",
   "metadata": {},
   "source": [
    "Rather than using all available variables, we can discard the ones that have little importance and construct new features with those"
   ]
  },
  {
   "cell_type": "code",
   "execution_count": null,
   "metadata": {},
   "outputs": [],
   "source": [
    "import featuretools4s as fts"
   ]
  },
  {
   "cell_type": "code",
   "execution_count": null,
   "metadata": {},
   "outputs": [],
   "source": [
    "drop = [col for col not in extracted['name']]"
   ]
  },
  {
   "cell_type": "code",
   "execution_count": null,
   "metadata": {},
   "outputs": [],
   "source": [
    "df_fe = df.drop(drop)"
   ]
  },
  {
   "cell_type": "code",
   "execution_count": null,
   "metadata": {},
   "outputs": [],
   "source": [
    "es = fts.EntitySetSpark(id=\"Flights\")"
   ]
  },
  {
   "cell_type": "code",
   "execution_count": null,
   "metadata": {},
   "outputs": [],
   "source": [
    "es.entity_from_dataframe(\"Flights\", df_fe, index=\"id\")"
   ]
  },
  {
   "cell_type": "code",
   "execution_count": null,
   "metadata": {},
   "outputs": [],
   "source": [
    "features = fts.dfs(spark, entityset=es, target_entity=\"Flights\",\n",
    "#                   agg_primitives=[\"mean\"],\n",
    "#                   primary_col=\"id\", num_partition=3)"
   ]
  },
  {
   "cell_type": "code",
   "execution_count": null,
   "metadata": {},
   "outputs": [],
   "source": [
    "#Run improved model here"
   ]
  },
  {
   "cell_type": "markdown",
   "metadata": {},
   "source": [
    "This time we will use hyperparameter tuning to train the model"
   ]
  },
  {
   "cell_type": "code",
   "execution_count": null,
   "metadata": {},
   "outputs": [],
   "source": [
    "from pyspark.ml.tuning import CrossValidator, ParamGridBuilder"
   ]
  },
  {
   "cell_type": "code",
   "execution_count": null,
   "metadata": {},
   "outputs": [],
   "source": [
    "#Replicating Baseline Linear Regression Model without Data Leakage Attributes:\n",
    "lr_dl = LinearRegression(maxIter=10, featuresCol=\"features\", labelCol=\"ArrDelay\")"
   ]
  },
  {
   "cell_type": "code",
   "execution_count": null,
   "metadata": {},
   "outputs": [],
   "source": [
    "paramGrid = ParamGridBuilder().addGrid(lr_dl.)"
   ]
  },
  {
   "cell_type": "code",
   "execution_count": null,
   "metadata": {},
   "outputs": [],
   "source": []
  },
  {
   "cell_type": "code",
   "execution_count": null,
   "metadata": {},
   "outputs": [],
   "source": []
  },
  {
   "cell_type": "code",
   "execution_count": null,
   "metadata": {},
   "outputs": [],
   "source": []
  }
 ],
 "metadata": {
  "kernelspec": {
   "display_name": "py36",
   "language": "python",
   "name": "py36"
  },
  "language_info": {
   "codemirror_mode": {
    "name": "ipython",
    "version": 3
   },
   "file_extension": ".py",
   "mimetype": "text/x-python",
   "name": "python",
   "nbconvert_exporter": "python",
   "pygments_lexer": "ipython3",
   "version": "3.6.7"
  }
 },
 "nbformat": 4,
 "nbformat_minor": 2
}
