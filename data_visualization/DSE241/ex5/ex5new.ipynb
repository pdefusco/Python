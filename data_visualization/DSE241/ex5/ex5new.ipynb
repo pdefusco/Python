{
 "cells": [
  {
   "cell_type": "code",
   "execution_count": 1,
   "metadata": {
    "collapsed": true
   },
   "outputs": [],
   "source": [
    "import math\n",
    "from bokeh.io import output_notebook, show\n",
    "from bokeh.plotting import figure\n",
    "from bokeh.models import Legend,Plot,GraphRenderer, Oval, Range1d, MultiLine, Circle, HoverTool, TapTool, BoxSelectTool,BoxZoomTool, Rect, WheelZoomTool\n",
    "from bokeh.models.graphs import NodesAndLinkedEdges, EdgesAndLinkedNodes,from_networkx\n",
    "from bokeh.palettes import Spectral4, Spectral8, Blues8, Greens8, magma,OrRd,Oranges, Viridis256, Oranges8\n",
    "from bokeh.plotting import ColumnDataSource\n",
    "from bokeh.models import ColumnDataSource, LabelSet, ColumnData,StaticLayoutProvider,GraphRenderer\n",
    "from bokeh.layouts import gridplot\n",
    "import numpy as np\n",
    "from networkx.algorithms import approximation as approx\n",
    "import matplotlib.pyplot as plt\n",
    "import pandas as pd\n",
    "import networkx as nx\n",
    "import numpy as np\n",
    "import csv"
   ]
  },
  {
   "cell_type": "code",
   "execution_count": 2,
   "metadata": {},
   "outputs": [
    {
     "data": {
      "text/plain": [
       "('source', 'target', 'weight')"
      ]
     },
     "execution_count": 2,
     "metadata": {},
     "output_type": "execute_result"
    }
   ],
   "source": [
    "#Importing Nodes as Pandas DF\n",
    "nodes = pd.read_csv(\"sheep_data/sheep_age.csv\")\n",
    "edges = pd.read_csv(\"sheep_data/sheep_edges.csv\")\n",
    "#Importing Edges as Tuples \n",
    "with open('sheep_data/sheep_edges.csv') as f:\n",
    "    sheep_edges=[tuple(line) for line in csv.reader(f)]\n",
    "sheep_edges.pop(0)"
   ]
  },
  {
   "cell_type": "code",
   "execution_count": 3,
   "metadata": {
    "collapsed": true
   },
   "outputs": [],
   "source": [
    "#Creating the Network\n",
    "X = nx.DiGraph()\n",
    "X.add_weighted_edges_from(sheep_edges)"
   ]
  },
  {
   "cell_type": "code",
   "execution_count": 4,
   "metadata": {
    "collapsed": true
   },
   "outputs": [],
   "source": [
    "#Creating Features\n",
    "src_dom = edges.groupby(['source']).sum()\n",
    "tgt_dom = edges.groupby(['target']).sum()\n",
    "src_dom = src_dom.reset_index()\n",
    "tgt_dom = tgt_dom.reset_index()"
   ]
  },
  {
   "cell_type": "code",
   "execution_count": 5,
   "metadata": {
    "collapsed": true
   },
   "outputs": [],
   "source": [
    "df2 = pd.DataFrame([[1, 0, 0]],columns=['target','source','weight'])\n",
    "tgt_dom = tgt_dom.append(df2)\n",
    "tgt_dom = tgt_dom.sort_values('target')\n",
    "tgt_dom = tgt_dom.drop(columns=['source'])\n",
    "tgt_dom.rename(columns={'target': 'id', 'weight':'DominatedBy'}, inplace=True)"
   ]
  },
  {
   "cell_type": "code",
   "execution_count": 6,
   "metadata": {
    "collapsed": true
   },
   "outputs": [],
   "source": [
    "df2 = pd.DataFrame([[6, 0, 0]],columns=['source', 'target','weight'])\n",
    "src_dom = src_dom.append(df2)\n",
    "src_dom = src_dom.sort_values('source')\n",
    "src_dom = src_dom.drop(columns=['target'])\n",
    "src_dom.rename(columns={'source': 'id', 'weight':'DominatedOthers'}, inplace=True)                                                                  "
   ]
  },
  {
   "cell_type": "code",
   "execution_count": 7,
   "metadata": {
    "collapsed": true
   },
   "outputs": [],
   "source": [
    "#Merge Original Nodes DF to add Dominated\n",
    "nodes = pd.merge(nodes, tgt_dom, how='inner', on='id')\n",
    "nodes = pd.merge(nodes, src_dom, how='inner', on='id')\n",
    "#1 - How many different sheep it dominated\n",
    "src_diff = edges.groupby(['source']).sum()\n",
    "#2 - How many different sheep it was dominated by\n",
    "tgt_diff = edges.groupby(['target']).sum()\n",
    "edges_work = edges.copy()\n",
    "edges_work = edges_work.drop(columns=['weight'])\n",
    "#del src\n",
    "src = edges_work.groupby(['source']).count()\n",
    "src = src.reset_index()\n",
    "df2 = pd.DataFrame([[6, 0]],columns=['source', 'target'])\n",
    "src = src.append(df2)\n",
    "src = src.sort_values('source')\n",
    "src.rename(columns={'source': 'id', 'target':'TargetsPerSource'}, inplace=True)\n",
    "edges_work = edges.copy()\n",
    "edges_work = edges_work.drop(columns=['weight'])\n",
    "#del tgt\n",
    "tgt = edges_work.groupby('target').count()\n",
    "tgt = tgt.reset_index()\n",
    "df2 = pd.DataFrame([[1, 0]],columns=['target', 'source'])\n",
    "tgt = tgt.append(df2)\n",
    "tgt = tgt.sort_values('target')\n",
    "tgt.rename(columns={'target': 'id', 'source':'SourcesPerTarget'}, inplace=True)\n",
    "nodes = pd.merge(nodes, src, how='inner', on='id')\n",
    "nodes = pd.merge(nodes, tgt, how='inner', on='id')\n",
    "#Load the node attributes\n",
    "for j in nodes.columns:\n",
    "    for i,k in zip(sorted(X.nodes()),pd.Series(nodes[j])):\n",
    "        X.node[i][j] = k\n",
    "#Create Edge Attributes:\n",
    "color_series = []\n",
    "for i in edges['weight']:\n",
    "    if i>7:\n",
    "        color_series.append(Spectral8[7])\n",
    "    else:\n",
    "        color_series.append(Spectral8[i])\n",
    "edges['weight_color'] = color_series"
   ]
  },
  {
   "cell_type": "code",
   "execution_count": 8,
   "metadata": {
    "collapsed": true
   },
   "outputs": [],
   "source": [
    "nodes['DominatedOthers'] = nodes['DominatedOthers']+1\n",
    "nodes['DominatedBy'] = nodes['DominatedBy']+1\n",
    "nodes['TargetsPerSource'] = nodes['TargetsPerSource']+1\n",
    "nodes['SourcesPerTarget'] = nodes['SourcesPerTarget']+1\n",
    "nodes['DomBy/DomOthers'] = nodes['DominatedBy'].divide(nodes['DominatedOthers'])\n",
    "nodes['DomBy/DomOthers'] = nodes['DomBy/DomOthers']+.1\n",
    "nodes['Tgts/Srcs'] = nodes['TargetsPerSource'].divide(nodes['SourcesPerTarget'])\n",
    "nodes['DominatedOthersPCGT'] = nodes['DominatedOthers']/nodes['DominatedOthers'].sum()\n",
    "nodes['DominatedByPCGT'] = nodes['DominatedBy']/nodes['DominatedBy'].sum()\n",
    "nodes['TotalInteractions'] = nodes['DominatedOthers']+nodes['DominatedBy']\n",
    "nodes['WonPCGT'] = nodes['DominatedOthers']/nodes['TotalInteractions']\n",
    "nodes['LostPCGT'] = nodes['DominatedBy']/nodes['TotalInteractions']\n",
    "nds_dom_pt_lst = []\n",
    "for i in nodes['DominatedOthersPCGT'].tolist():\n",
    "    nds_dom_pt_lst.append(str(i))"
   ]
  },
  {
   "cell_type": "code",
   "execution_count": 9,
   "metadata": {},
   "outputs": [
    {
     "name": "stdout",
     "output_type": "stream",
     "text": [
      "A clique in an undirected graph G = (V, E) is a subset of the vertex set C subset e q V such that\n",
      "for every two vertices in C there exists an edge connecting the two\n",
      "Max Clique:  {'4', '18', '24', '20', '26', '21'}\n"
     ]
    }
   ],
   "source": [
    "print(\"A clique in an undirected graph G = (V, E) is a subset of the vertex set C subset e q V such that\") \n",
    "print(\"for every two vertices in C there exists an edge connecting the two\")\n",
    "print(\"Max Clique: \", approx.max_clique(X))\n",
    "mx_clique = approx.max_clique(X)"
   ]
  },
  {
   "cell_type": "code",
   "execution_count": 10,
   "metadata": {
    "collapsed": true
   },
   "outputs": [],
   "source": [
    "# or DiGraph, MultiGraph, MultiDiGraph, etc\n",
    "mx_cliq = list(mx_clique)\n",
    "H = nx.DiGraph(X.subgraph(mx_cliq))\n",
    "type(H.edges())\n",
    "H_edges_lst = []\n",
    "for i in H.edges():\n",
    "    H_edges_lst.append(i)\n",
    "\n",
    "H_edges = pd.DataFrame(H_edges_lst, columns=['source', 'target'])\n",
    "H_edges1 = pd.merge(edges, H_edges, how='right', left_on=['source','target'],right_on=['source','target'])\n",
    "H_edges1=H_edges1.drop(columns=['weight_color'])\n",
    "edge_weight_lst = []\n",
    "for edge in edges['weight']:\n",
    "    edge_weight_lst.append(str(edge))"
   ]
  },
  {
   "cell_type": "code",
   "execution_count": 11,
   "metadata": {
    "collapsed": true
   },
   "outputs": [],
   "source": [
    "color_series2 = []\n",
    "for i in nodes['WonPCGT']:\n",
    "    if i<0.2:\n",
    "        color_series2.append(Oranges8[0])\n",
    "    elif i<0.3:\n",
    "        color_series2.append(Oranges8[1])\n",
    "    elif i<0.4:\n",
    "        color_series2.append(Oranges8[2])\n",
    "    elif i<0.5:\n",
    "        color_series2.append(Oranges8[3])\n",
    "    elif i<0.6:\n",
    "        color_series2.append(Oranges8[4])\n",
    "    elif i<0.7:\n",
    "        color_series2.append(Oranges8[5])\n",
    "    elif i<0.8:\n",
    "        color_series2.append(Oranges8[6])\n",
    "    else:\n",
    "        color_series2.append(Oranges8[7])\n",
    "nodes['WonColor'] = color_series2"
   ]
  },
  {
   "cell_type": "code",
   "execution_count": 12,
   "metadata": {
    "collapsed": true
   },
   "outputs": [],
   "source": [
    "color_series3 = []\n",
    "for i in 1/nodes['DomBy/DomOthers']:\n",
    "    if i<0.5:\n",
    "        color_series3.append(Blues8[0])\n",
    "    elif i<1:\n",
    "        color_series3.append(Blues8[1])\n",
    "    elif i<1.5:\n",
    "        color_series3.append(Blues8[2])\n",
    "    elif i<2:\n",
    "        color_series3.append(Blues8[3])\n",
    "    elif i<2.5:\n",
    "        color_series3.append(Blues8[4])\n",
    "    elif i<3:\n",
    "        color_series3.append(Blues8[5])\n",
    "    elif i<3.5:\n",
    "        color_series3.append(Blues8[6])\n",
    "    else:\n",
    "        color_series3.append(Blues8[7])\n",
    "nodes['DomBy/DomOthers_color'] = color_series3"
   ]
  },
  {
   "cell_type": "code",
   "execution_count": 13,
   "metadata": {
    "collapsed": true
   },
   "outputs": [],
   "source": [
    "color_series4 = []\n",
    "for i in nodes['Tgts/Srcs']:\n",
    "    if i<1:\n",
    "        color_series4.append(Greens8[0])\n",
    "    elif i<2:\n",
    "        color_series4.append(Greens8[1])\n",
    "    elif i<3:\n",
    "        color_series4.append(Greens8[2])\n",
    "    elif i<4:\n",
    "        color_series4.append(Greens8[3])\n",
    "    elif i<6:\n",
    "        color_series4.append(Greens8[4])\n",
    "    elif i<8:\n",
    "        color_series4.append(Greens8[5])\n",
    "    elif i<9:\n",
    "        color_series4.append(Greens8[6])\n",
    "    else:\n",
    "        color_series4.append(Greens8[7])\n",
    "nodes['Tgts/Srcs_color'] = color_series4"
   ]
  },
  {
   "cell_type": "code",
   "execution_count": null,
   "metadata": {
    "collapsed": true
   },
   "outputs": [],
   "source": []
  },
  {
   "cell_type": "code",
   "execution_count": null,
   "metadata": {
    "collapsed": true
   },
   "outputs": [],
   "source": []
  },
  {
   "cell_type": "code",
   "execution_count": 30,
   "metadata": {},
   "outputs": [
    {
     "name": "stderr",
     "output_type": "stream",
     "text": [
      "E-1001 (BAD_COLUMN_NAME): Glyph refers to nonexistent column name: dom_by, dom_index, fi_color, size_dim [renderer: GlyphRenderer(id='dbf0685b-aa83-48f1-ae36-aad826d20df6', ...)]\n",
      "E-1001 (BAD_COLUMN_NAME): Glyph refers to nonexistent column name: width, width_alpha [renderer: GlyphRenderer(id='20ce78b6-bf06-48cd-924a-b5a107e4678d', ...)]\n",
      "E-1001 (BAD_COLUMN_NAME): Glyph refers to nonexistent column name: age, fi_color2, fi_color3, tgtdivsrcstgt [renderer: GlyphRenderer(id='5c217bbe-eac0-462b-a23d-3319e1a93185', ...)]\n",
      "E-1001 (BAD_COLUMN_NAME): Glyph refers to nonexistent column name: dom_by, dom_index, fi_color, size_dim [renderer: GlyphRenderer(id='4a730232-f260-4302-a7bf-fb54da6c4cc3', ...)]\n",
      "E-1001 (BAD_COLUMN_NAME): Glyph refers to nonexistent column name: width, width_alpha [renderer: GlyphRenderer(id='6d75572c-fe97-4286-af6f-8880bf81e72c', ...)]\n",
      "E-1001 (BAD_COLUMN_NAME): Glyph refers to nonexistent column name: width, width_alpha [renderer: GlyphRenderer(id='baae911f-379c-4877-9807-aefdd9f74811', ...)]\n",
      "E-1001 (BAD_COLUMN_NAME): Glyph refers to nonexistent column name: dom_by, dom_index, fi_color, size_dim [renderer: GlyphRenderer(id='09a1a286-d4db-4650-aca4-4b69f100e956', ...)]\n",
      "E-1001 (BAD_COLUMN_NAME): Glyph refers to nonexistent column name: width, width_alpha [renderer: GlyphRenderer(id='cbbcec00-2cae-4e47-83af-9413e38c7398', ...)]\n",
      "E-1001 (BAD_COLUMN_NAME): Glyph refers to nonexistent column name: dom_by, dom_index, fi_color, size_dim [renderer: GlyphRenderer(id='3740804e-3df1-4c37-9d7a-2c94013dcaba', ...)]\n",
      "E-1001 (BAD_COLUMN_NAME): Glyph refers to nonexistent column name: width, width_alpha [renderer: GlyphRenderer(id='2c230391-be3d-4334-b1ee-3188a5a3bebf', ...)]\n",
      "E-1001 (BAD_COLUMN_NAME): Glyph refers to nonexistent column name: dom_by, dom_index, fi_color, size_dim [renderer: GlyphRenderer(id='42bc1106-9808-46dd-a32e-a549143efd65', ...)]\n",
      "E-1001 (BAD_COLUMN_NAME): Glyph refers to nonexistent column name: width, width_alpha [renderer: GlyphRenderer(id='ca048264-c16a-4e86-82ec-06d9b1f92684', ...)]\n",
      "E-1001 (BAD_COLUMN_NAME): Glyph refers to nonexistent column name: dom_by, dom_index, fi_color, size_dim [renderer: GlyphRenderer(id='e50a56c2-c666-4581-9a98-5ac4446b15a4', ...)]\n",
      "E-1001 (BAD_COLUMN_NAME): Glyph refers to nonexistent column name: width, width_alpha [renderer: GlyphRenderer(id='34f28b55-fb95-425a-9c24-fbd752f8cf20', ...)]\n",
      "E-1001 (BAD_COLUMN_NAME): Glyph refers to nonexistent column name: dom_by, dom_index, fi_color, size_dim [renderer: GlyphRenderer(id='281b110b-3ad7-4068-b266-96f9859da41f', ...)]\n",
      "E-1001 (BAD_COLUMN_NAME): Glyph refers to nonexistent column name: width, width_alpha [renderer: GlyphRenderer(id='f52497ca-5831-4b17-a0f1-06220df20eef', ...)]\n",
      "E-1001 (BAD_COLUMN_NAME): Glyph refers to nonexistent column name: dom_by, dom_index, fi_color, size_dim [renderer: GlyphRenderer(id='04a2a37b-9830-497f-8913-450d8386898c', ...)]\n",
      "E-1001 (BAD_COLUMN_NAME): Glyph refers to nonexistent column name: width, width_alpha [renderer: GlyphRenderer(id='8d1a7a1d-6217-4161-b33e-a8946c956cf6', ...)]\n"
     ]
    }
   ],
   "source": [
    "#First Plot\n",
    "N1 = len(X.nodes)\n",
    "node_indices = list(range(N1))\n",
    "nd_idx = [i+1 for i in node_indices]\n",
    "\n",
    "p = figure(title=\"Graph Spectral Layout\", x_range=(-1.1,1.1), y_range=(-1.1,1.1), toolbar_location=\"right\")\n",
    "\n",
    "p.title.text_color = \"black\"\n",
    "p.title.text_font = \"verdana\"\n",
    "p.title.text_font_style = \"italic\"\n",
    "p.title.text_font_style = \"bold\"\n",
    "p.background_fill_alpha = 0.07\n",
    "p.title.align = \"center\"\n",
    "p.title.text_font_size = '29pt'\n",
    "\n",
    "p.add_tools(HoverTool(tooltips=[(\"Source\", \"@edges_src\"),\n",
    "                                (\"Target\", \"@edges_tgt\"),(\"Weight\",\"@width\")]), \n",
    "            TapTool(), BoxSelectTool(), BoxZoomTool(),WheelZoomTool())\n",
    "\n",
    "graph_renderer = from_networkx(X,nx.spectral_layout, center=(0,0))\n",
    "\n",
    "pos = nx.spectral_layout(X)\n",
    "x,y=zip(*pos.values())\n",
    "\n",
    "src = ColumnDataSource({'x':x,'y':y,'nodeid':nd_idx})\n",
    "labels = LabelSet(x='x', y='y', text='nodeid', source=src)\n",
    "\n",
    "graph_renderer.node_renderer.glyph = Circle(size=\"size_dim\", fill_alpha=\"dom_index\",\n",
    "                                            line_color = \"firebrick\",\n",
    "                                            line_dash = [1, 1],\n",
    "                                            line_width = \"dom_by\",\n",
    "                                            fill_color=\"fi_color\",\n",
    "                                            \n",
    "                                            )\n",
    "\n",
    "graph_renderer.node_renderer.selection_glyph = Circle(size=\"size_dim\", fill_alpha=\"dom_index\",\n",
    "                                            line_color = \"firebrick\",\n",
    "                                            line_dash = [1, 1],\n",
    "                                            line_width = \"dom_by\",\n",
    "                                            fill_color=\"fi_color\")\n",
    "\n",
    "graph_renderer.node_renderer.hover_glyph = Circle(size=\"size_dim\", fill_alpha=\"dom_index\", \n",
    "                                            line_color = \"firebrick\",\n",
    "                                            line_dash = [1, 1],\n",
    "                                            line_width = \"dom_by\",\n",
    "                                            fill_color=\"fi_color\")\n",
    "\n",
    "graph_renderer.node_renderer.data_source.data = dict(index=nd_idx, \n",
    "                                            size_dim = nodes['DominatedOthersPCGT']*600,\n",
    "                                            dom_index = 30/nodes['DomBy/DomOthers'],\n",
    "                                            dom_by = nodes['DominatedBy']/7,\n",
    "                                            fi_color = nodes['DomBy/DomOthers_color'],\n",
    "                                            age = nodes['age']/60\n",
    "                                                    )\n",
    "\n",
    "graph_renderer.edge_renderer.glyph = MultiLine(line_color=\"#bdbdbd\", line_alpha=\"width_alpha\",\n",
    "                                               line_dash=\"dotted\", line_width=\"width\",line_join='round')\n",
    "graph_renderer.edge_renderer.selection_glyph = MultiLine(line_color=\"edge_col\", line_width=\"width\",line_join='round')\n",
    "graph_renderer.edge_renderer.hover_glyph = MultiLine(line_color=\"edge_col\", line_width=\"width\",line_join='round')\n",
    "graph_renderer.edge_renderer.data_source.data = dict(start=edges['source'],\n",
    "                                                     end=edges['target'],\n",
    "                                                     width=edges['weight'],\n",
    "                                                     edge_col=edges['weight_color'],\n",
    "                                                     width_alpha=edges['weight']/2,\n",
    "                                                     edges_src=edges['source'],\n",
    "                                                     edges_tgt=edges['target']\n",
    "                                                    )\n",
    "\n",
    "legend = Legend(items=[\n",
    "                       (\"Node Size: Count of Dominance by Percentage of All Sheep Interactions\",[]),\n",
    "                       (\"Blue Intensity:  Ratio of Count of Times a sheep dominated vs. was dominated\",[]),\n",
    "                       (\"Edge Size: Thicker Represents more Interactions between Sheep\",[]),\n",
    "                       (\"Edge Color: Green Represents few, Yellow Medium, Red High Interactions Count\",[]),\n",
    "                       (\"Edge Size: Thicker Represents more Interactions between Sheep\",[]),\n",
    "                        (\"Circle Border: Thicker Represents more Interactions in which Sheep was Dominated\",[]) \n",
    "                      ], location=\"top_right\")\n",
    "\n",
    "graph_renderer.selection_policy = NodesAndLinkedEdges()\n",
    "graph_renderer.inspection_policy = EdgesAndLinkedNodes()\n",
    "\n",
    "p.renderers.append(labels)\n",
    "p.renderers.append(graph_renderer)\n",
    "p.add_layout(legend)\n",
    "show(p)"
   ]
  },
  {
   "cell_type": "code",
   "execution_count": 31,
   "metadata": {},
   "outputs": [
    {
     "name": "stderr",
     "output_type": "stream",
     "text": [
      "E-1001 (BAD_COLUMN_NAME): Glyph refers to nonexistent column name: dom_by, dom_index, fi_color, size_dim [renderer: GlyphRenderer(id='dbf0685b-aa83-48f1-ae36-aad826d20df6', ...)]\n",
      "E-1001 (BAD_COLUMN_NAME): Glyph refers to nonexistent column name: width, width_alpha [renderer: GlyphRenderer(id='20ce78b6-bf06-48cd-924a-b5a107e4678d', ...)]\n",
      "E-1001 (BAD_COLUMN_NAME): Glyph refers to nonexistent column name: age, fi_color2, fi_color3, tgtdivsrcstgt [renderer: GlyphRenderer(id='5c217bbe-eac0-462b-a23d-3319e1a93185', ...)]\n",
      "E-1001 (BAD_COLUMN_NAME): Glyph refers to nonexistent column name: dom_by, dom_index, fi_color, size_dim [renderer: GlyphRenderer(id='4a730232-f260-4302-a7bf-fb54da6c4cc3', ...)]\n",
      "E-1001 (BAD_COLUMN_NAME): Glyph refers to nonexistent column name: width, width_alpha [renderer: GlyphRenderer(id='6d75572c-fe97-4286-af6f-8880bf81e72c', ...)]\n",
      "E-1001 (BAD_COLUMN_NAME): Glyph refers to nonexistent column name: width, width_alpha [renderer: GlyphRenderer(id='baae911f-379c-4877-9807-aefdd9f74811', ...)]\n",
      "E-1001 (BAD_COLUMN_NAME): Glyph refers to nonexistent column name: dom_by, dom_index, fi_color, size_dim [renderer: GlyphRenderer(id='09a1a286-d4db-4650-aca4-4b69f100e956', ...)]\n",
      "E-1001 (BAD_COLUMN_NAME): Glyph refers to nonexistent column name: width, width_alpha [renderer: GlyphRenderer(id='cbbcec00-2cae-4e47-83af-9413e38c7398', ...)]\n",
      "E-1001 (BAD_COLUMN_NAME): Glyph refers to nonexistent column name: dom_by, dom_index, fi_color, size_dim [renderer: GlyphRenderer(id='3740804e-3df1-4c37-9d7a-2c94013dcaba', ...)]\n",
      "E-1001 (BAD_COLUMN_NAME): Glyph refers to nonexistent column name: width, width_alpha [renderer: GlyphRenderer(id='2c230391-be3d-4334-b1ee-3188a5a3bebf', ...)]\n",
      "E-1001 (BAD_COLUMN_NAME): Glyph refers to nonexistent column name: dom_by, dom_index, fi_color, size_dim [renderer: GlyphRenderer(id='42bc1106-9808-46dd-a32e-a549143efd65', ...)]\n",
      "E-1001 (BAD_COLUMN_NAME): Glyph refers to nonexistent column name: width, width_alpha [renderer: GlyphRenderer(id='ca048264-c16a-4e86-82ec-06d9b1f92684', ...)]\n",
      "E-1001 (BAD_COLUMN_NAME): Glyph refers to nonexistent column name: dom_by, dom_index, fi_color, size_dim [renderer: GlyphRenderer(id='e50a56c2-c666-4581-9a98-5ac4446b15a4', ...)]\n",
      "E-1001 (BAD_COLUMN_NAME): Glyph refers to nonexistent column name: width, width_alpha [renderer: GlyphRenderer(id='34f28b55-fb95-425a-9c24-fbd752f8cf20', ...)]\n",
      "E-1001 (BAD_COLUMN_NAME): Glyph refers to nonexistent column name: dom_by, dom_index, fi_color, size_dim [renderer: GlyphRenderer(id='281b110b-3ad7-4068-b266-96f9859da41f', ...)]\n",
      "E-1001 (BAD_COLUMN_NAME): Glyph refers to nonexistent column name: width, width_alpha [renderer: GlyphRenderer(id='f52497ca-5831-4b17-a0f1-06220df20eef', ...)]\n",
      "E-1001 (BAD_COLUMN_NAME): Glyph refers to nonexistent column name: dom_by, dom_index, fi_color, size_dim [renderer: GlyphRenderer(id='04a2a37b-9830-497f-8913-450d8386898c', ...)]\n",
      "E-1001 (BAD_COLUMN_NAME): Glyph refers to nonexistent column name: width, width_alpha [renderer: GlyphRenderer(id='8d1a7a1d-6217-4161-b33e-a8946c956cf6', ...)]\n",
      "E-1001 (BAD_COLUMN_NAME): Glyph refers to nonexistent column name: age, fi_color2, fi_color3, tgtdivsrcstgt [renderer: GlyphRenderer(id='820b7b5a-f573-4ff9-9659-6df610f68cd5', ...)]\n",
      "E-1001 (BAD_COLUMN_NAME): Glyph refers to nonexistent column name: dom_by, dom_index, fi_color, size_dim [renderer: GlyphRenderer(id='f78dfdd4-0f6f-4d0d-a24f-70101d4d9a53', ...)]\n",
      "E-1001 (BAD_COLUMN_NAME): Glyph refers to nonexistent column name: width, width_alpha [renderer: GlyphRenderer(id='055af934-ec76-4fb5-a02f-8f3b5c4b18a4', ...)]\n",
      "E-1001 (BAD_COLUMN_NAME): Glyph refers to nonexistent column name: width, width_alpha [renderer: GlyphRenderer(id='4755e35f-5558-49ff-be5c-0e279e9aca03', ...)]\n"
     ]
    }
   ],
   "source": [
    "#First Plot\n",
    "N1 = len(X.nodes)\n",
    "node_indices = list(range(N1))\n",
    "plot_options = dict(width=400, plot_height=400)\n",
    "nds_dom_pt=nodes['DominatedOthersPCGT'].tolist()\n",
    "nd_idx = [i+1 for i in node_indices]\n",
    "#tgtdivsrcstgt-tgtdivsrc\n",
    "node_src = dict(index=nd_idx, dom_oth_pcgt = nds_dom_pt,\n",
    "                                    size_dim = nodes['DominatedOthersPCGT']*300,\n",
    "                                    dom_index = 30/nodes['DomBy/DomOthers'],\n",
    "                                    dom_by = nodes['DominatedBy']/7,\n",
    "                                    fi_color = nodes['DomBy/DomOthers_color'],\n",
    "                                    fi_color2 = nodes['Tgts/Srcs_color'],\n",
    "                                    fi_color3 = nodes['WonColor'],\n",
    "                                    age = nodes['age']/60,\n",
    "                                    tgtdivsrcstgt=nodes['Tgts/Srcs']*30#,\n",
    "                                    #tgtdivsrc = 1\n",
    "                                \n",
    "               )\n",
    "\n",
    "edge_src = dict(start=edges['source'],end=edges['target'],\n",
    "                                     width=edges['weight'],\n",
    "                                     edge_col=edges['weight_color'],\n",
    "                                     width_alpha=edges['weight']/2,\n",
    "                                     edges_src=edges['source'],\n",
    "                                     edges_tgt=edges['target'])\n",
    "\n",
    "s1 = figure(title=\"Graph Layout Demonstration\", x_range=(-1.1,1.1)\n",
    "            , y_range=(-1.1,1.1),tools='pan,wheel_zoom,tap,xbox_select', toolbar_location=\"right\", **plot_options)\n",
    "\n",
    "s1.add_tools(HoverTool(tooltips=[(\"Source\", \"@edges_src\"),\n",
    "                                (\"Target\", \"@edges_tgt\"),(\"Weight\",\"@width\")]), \n",
    "            TapTool(), BoxSelectTool(), BoxZoomTool(),WheelZoomTool())\n",
    "\n",
    "graph1 = from_networkx(X,nx.shell_layout, center=(0,0))\n",
    "\n",
    "pos = nx.shell_layout(X)\n",
    "x,y=zip(*pos.values())\n",
    "\n",
    "src = ColumnDataSource({'x':x,'y':y,'nodeid':nd_idx})\n",
    "labels = LabelSet(x='x', y='y', text='nodeid', source=src)\n",
    "s1.title.text_color = \"blue\"\n",
    "s1.title.text_font = \"verdana\"\n",
    "s1.title.text_font_style = \"italic\"\n",
    "\n",
    "graph1.node_renderer.glyph = Circle(size=\"size_dim\", fill_alpha=\"dom_index\",\n",
    "                                            line_color = \"firebrick\",\n",
    "                                            line_dash = [1, 1],\n",
    "                                            line_width = \"dom_by\",\n",
    "                                            fill_color=\"fi_color\"\n",
    "                                            \n",
    "                                            )\n",
    "graph1.node_renderer.selection_glyph = Circle(size=\"size_dim\", fill_alpha=\"dom_index\",\n",
    "                                            line_color = \"firebrick\",\n",
    "                                            line_dash = [1, 1],\n",
    "                                            line_width = \"dom_by\",\n",
    "                                            fill_color=\"fi_color\")\n",
    "\n",
    "graph1.node_renderer.hover_glyph = Circle(size=\"size_dim\", fill_alpha=\"dom_index\", \n",
    "                                            line_color = \"firebrick\",\n",
    "                                            line_dash = [1, 1],\n",
    "                                            line_width = \"dom_by\",\n",
    "                                            fill_color=\"fi_color\")\n",
    "\n",
    "graph1.node_renderer.data_source.data = node_src\n",
    "\n",
    "graph1.edge_renderer.glyph = MultiLine(line_color=\"#bdbdbd\", line_alpha=\"width_alpha\",\n",
    "                                               line_dash=\"dotted\", line_width=\"width\")\n",
    "\n",
    "graph1.edge_renderer.selection_glyph = MultiLine(line_color=\"edge_col\", line_width=\"width\")\n",
    "graph1.edge_renderer.hover_glyph = MultiLine(line_color=\"edge_col\", line_width=\"width\")\n",
    "graph1.edge_renderer.data_source.data = edge_src\n",
    "\n",
    "legend1 = Legend(items=[(\"Node ID\",[])], location=\"top_right\")\n",
    "\n",
    "\n",
    "graph1.selection_policy = NodesAndLinkedEdges()\n",
    "graph1.inspection_policy = EdgesAndLinkedNodes()\n",
    "\n",
    "s1.renderers.append(graph1)\n",
    "\n",
    "s1.renderers.append(labels)\n",
    "s1.renderers.append(graph1)\n",
    "s1.add_layout(legend1)\n",
    "\n",
    "##Second Plot\n",
    "N2 = len(X.nodes)\n",
    "node_indices2 = list(range(N2))\n",
    "\n",
    "s2 = figure(x_range=s1.x_range, y_range=s1.y_range,\n",
    "               title=\"Second Graph\",tools='pan,wheel_zoom,tap,xbox_select', \n",
    "                toolbar_location=\"right\", **plot_options)\n",
    "\n",
    "s2.add_tools(HoverTool(tooltips=[(\"Source\", \"@edges_src\"),\n",
    "                                (\"Target\", \"@edges_tgt\"),(\"Weight\",\"@width\")]), \n",
    "            TapTool(), BoxSelectTool(), BoxZoomTool(),WheelZoomTool())\n",
    "\n",
    "graph2 = from_networkx(X,nx.shell_layout, center=(0,0))\n",
    "\n",
    "s2.title.text_color = \"blue\"\n",
    "s2.title.text_font = \"verdana\"\n",
    "s2.title.text_font_style = \"italic\"                                    \n",
    "\n",
    "graph2.node_renderer.glyph = Rect(x=\"age\", y=\"age\",width=\"age\",height=\"age\",angle=-0.7,\n",
    "                                            fill_alpha=\"tgtdivsrcstgt\",\n",
    "                                            line_color = \"fi_color3\",\n",
    "                                            line_dash = \"solid\",\n",
    "                                            line_width = 5,#\"tgtdivsrc\",\n",
    "                                            fill_color=\"fi_color2\"\n",
    "                                 )\n",
    "graph2.node_renderer.selection_glyph = Rect(x=\"age\", y=\"age\",width=\"age\",height=\"age\",angle=-0.7,\n",
    "                                            fill_alpha=\"tgtdivsrcstgt\",\n",
    "                                            line_color = \"fi_color3\",\n",
    "                                            line_dash = \"solid\",\n",
    "                                            line_width = 5,#\"tgtdivsrc\",\n",
    "                                            fill_color=\"fi_color2\"\n",
    "                                            \n",
    "                                            )\n",
    "\n",
    "graph2.node_renderer.hover_glyph = Rect(x=\"age\", y=\"age\",width=\"age\",height=\"age\",angle=-0.7,\n",
    "                                            fill_alpha=\"tgtdivsrcstgt\",\n",
    "                                            line_color = \"fi_color3\",\n",
    "                                            line_dash = \"solid\",\n",
    "                                            line_width = 5,#\"tgtdivsrc\",\n",
    "                                            fill_color=\"fi_color2\"\n",
    "                                            \n",
    "                                            )\n",
    "\n",
    "graph2.node_renderer.data_source.data = node_src\n",
    "\n",
    "graph2.edge_renderer.glyph = MultiLine(line_color=\"#bdbdbd\", line_alpha=\"width_alpha\",\n",
    "                                               line_dash=\"dotted\", line_width=\"width\")\n",
    "\n",
    "graph2.edge_renderer.selection_glyph = MultiLine(line_color=\"edge_col\", line_width=\"width\")\n",
    "graph2.edge_renderer.hover_glyph = MultiLine(line_color=\"edge_col\", line_width=\"width\")\n",
    "graph2.edge_renderer.data_source.data = edge_src\n",
    "\n",
    "\n",
    "legend2 = Legend(items=[(\"Node ID\",[])], location=\"top_right\")\n",
    "\n",
    "graph2.selection_policy = NodesAndLinkedEdges()\n",
    "graph2.inspection_policy = EdgesAndLinkedNodes()\n",
    "\n",
    "s2.renderers.append(graph2)\n",
    "\n",
    "s2.renderers.append(labels)\n",
    "s2.renderers.append(graph2)\n",
    "s2.add_layout(legend2)\n",
    "\n",
    "p = gridplot([[s1, s2]])\n",
    "\n",
    "show(p)\n",
    "\n"
   ]
  },
  {
   "cell_type": "code",
   "execution_count": 23,
   "metadata": {},
   "outputs": [
    {
     "name": "stderr",
     "output_type": "stream",
     "text": [
      "E-1001 (BAD_COLUMN_NAME): Glyph refers to nonexistent column name: dom_by, dom_index, fi_color, size_dim [renderer: GlyphRenderer(id='dbf0685b-aa83-48f1-ae36-aad826d20df6', ...)]\n",
      "E-1001 (BAD_COLUMN_NAME): Glyph refers to nonexistent column name: width, width_alpha [renderer: GlyphRenderer(id='20ce78b6-bf06-48cd-924a-b5a107e4678d', ...)]\n",
      "E-1001 (BAD_COLUMN_NAME): Glyph refers to nonexistent column name: age, fi_color2, fi_color3, tgtdivsrcstgt [renderer: GlyphRenderer(id='5c217bbe-eac0-462b-a23d-3319e1a93185', ...)]\n",
      "E-1001 (BAD_COLUMN_NAME): Glyph refers to nonexistent column name: dom_by, dom_index, fi_color, size_dim [renderer: GlyphRenderer(id='4a730232-f260-4302-a7bf-fb54da6c4cc3', ...)]\n",
      "E-1001 (BAD_COLUMN_NAME): Glyph refers to nonexistent column name: width, width_alpha [renderer: GlyphRenderer(id='6d75572c-fe97-4286-af6f-8880bf81e72c', ...)]\n",
      "E-1001 (BAD_COLUMN_NAME): Glyph refers to nonexistent column name: width, width_alpha [renderer: GlyphRenderer(id='baae911f-379c-4877-9807-aefdd9f74811', ...)]\n",
      "E-1001 (BAD_COLUMN_NAME): Glyph refers to nonexistent column name: dom_by, dom_index, fi_color, size_dim [renderer: GlyphRenderer(id='09a1a286-d4db-4650-aca4-4b69f100e956', ...)]\n",
      "E-1001 (BAD_COLUMN_NAME): Glyph refers to nonexistent column name: width, width_alpha [renderer: GlyphRenderer(id='cbbcec00-2cae-4e47-83af-9413e38c7398', ...)]\n",
      "E-1001 (BAD_COLUMN_NAME): Glyph refers to nonexistent column name: dom_by, dom_index, fi_color, size_dim [renderer: GlyphRenderer(id='3740804e-3df1-4c37-9d7a-2c94013dcaba', ...)]\n",
      "E-1001 (BAD_COLUMN_NAME): Glyph refers to nonexistent column name: width, width_alpha [renderer: GlyphRenderer(id='2c230391-be3d-4334-b1ee-3188a5a3bebf', ...)]\n"
     ]
    }
   ],
   "source": [
    "from bokeh.models import LinearColorMapper, ColorBar\n",
    "from bokeh.palettes import YlOrBr8,Oranges8\n",
    "\n",
    "source = ColumnDataSource(dict(nodes))\n",
    "color_mapper = LinearColorMapper(palette=Oranges8, low=nodes.WonPCGT.max(), high=nodes.WonPCGT.min())\n",
    "\n",
    "tls=\"crosshair,pan,wheel_zoom,box_zoom,reset,hover,previewsave\"\n",
    "\n",
    "p = figure(x_axis_label='TargetsPerSource', y_axis_label='SourcesPerTarget', tools=tls, toolbar_location='above')\n",
    "p.circle(x='TargetsPerSource', y='SourcesPerTarget', color={'field': 'WonPCGT', 'transform': color_mapper}, \n",
    "         size=20, alpha=0.6, source=source,legend=\"3*sin(x)\")\n",
    "hover =p.select(dict(type=HoverTool))\n",
    "hover.tooltips = dict([\n",
    "    (\"Node ID\", \"@id\"),\n",
    "])\n",
    "\n",
    "color_bar = ColorBar(color_mapper=color_mapper, label_standoff=12, location=(0,0), title='WonPCGT')\n",
    "\n",
    "p.add_layout(color_bar, 'right')\n",
    "\n",
    "show(p)"
   ]
  },
  {
   "cell_type": "code",
   "execution_count": 21,
   "metadata": {},
   "outputs": [
    {
     "name": "stderr",
     "output_type": "stream",
     "text": [
      "E-1001 (BAD_COLUMN_NAME): Glyph refers to nonexistent column name: dom_by, dom_index, fi_color, size_dim [renderer: GlyphRenderer(id='dbf0685b-aa83-48f1-ae36-aad826d20df6', ...)]\n",
      "E-1001 (BAD_COLUMN_NAME): Glyph refers to nonexistent column name: width, width_alpha [renderer: GlyphRenderer(id='20ce78b6-bf06-48cd-924a-b5a107e4678d', ...)]\n",
      "E-1001 (BAD_COLUMN_NAME): Glyph refers to nonexistent column name: age, fi_color2, fi_color3, tgtdivsrcstgt [renderer: GlyphRenderer(id='5c217bbe-eac0-462b-a23d-3319e1a93185', ...)]\n",
      "E-1001 (BAD_COLUMN_NAME): Glyph refers to nonexistent column name: dom_by, dom_index, fi_color, size_dim [renderer: GlyphRenderer(id='4a730232-f260-4302-a7bf-fb54da6c4cc3', ...)]\n",
      "E-1001 (BAD_COLUMN_NAME): Glyph refers to nonexistent column name: width, width_alpha [renderer: GlyphRenderer(id='6d75572c-fe97-4286-af6f-8880bf81e72c', ...)]\n",
      "E-1001 (BAD_COLUMN_NAME): Glyph refers to nonexistent column name: width, width_alpha [renderer: GlyphRenderer(id='baae911f-379c-4877-9807-aefdd9f74811', ...)]\n",
      "E-1001 (BAD_COLUMN_NAME): Glyph refers to nonexistent column name: dom_by, dom_index, fi_color, size_dim [renderer: GlyphRenderer(id='09a1a286-d4db-4650-aca4-4b69f100e956', ...)]\n",
      "E-1001 (BAD_COLUMN_NAME): Glyph refers to nonexistent column name: width, width_alpha [renderer: GlyphRenderer(id='cbbcec00-2cae-4e47-83af-9413e38c7398', ...)]\n",
      "E-1001 (BAD_COLUMN_NAME): Glyph refers to nonexistent column name: dom_by, dom_index, fi_color, size_dim [renderer: GlyphRenderer(id='3740804e-3df1-4c37-9d7a-2c94013dcaba', ...)]\n",
      "E-1001 (BAD_COLUMN_NAME): Glyph refers to nonexistent column name: width, width_alpha [renderer: GlyphRenderer(id='2c230391-be3d-4334-b1ee-3188a5a3bebf', ...)]\n"
     ]
    }
   ],
   "source": [
    "\n",
    "\n",
    "p = figure(plot_width=300, plot_height=300)\n",
    "p.multi_line(xs=[[1, 2, 3], [2, 3, 4]], ys=[[6, 7, 2], [4, 5, 7]],\n",
    "             color=['red','green'], line_join='miter')\n",
    "show(p)"
   ]
  },
  {
   "cell_type": "code",
   "execution_count": 27,
   "metadata": {},
   "outputs": [
    {
     "ename": "ValueError",
     "evalue": "expected an element of either String, Dict(Enum('expr', 'field', 'value', 'transform'), Either(String, Instance(Transform), Instance(Expression), Float)) or Float, got [1, 2]",
     "output_type": "error",
     "traceback": [
      "\u001b[0;31m---------------------------------------------------------------------------\u001b[0m",
      "\u001b[0;31mValueError\u001b[0m                                Traceback (most recent call last)",
      "\u001b[0;32m<ipython-input-27-53640b4c5bf0>\u001b[0m in \u001b[0;36m<module>\u001b[0;34m()\u001b[0m\n\u001b[1;32m     11\u001b[0m \u001b[0;34m\u001b[0m\u001b[0m\n\u001b[1;32m     12\u001b[0m p.add_layout(Arrow(end=NormalHead(fill_color=\"orange\"),\n\u001b[0;32m---> 13\u001b[0;31m                    x_start=[1,2], y_start=[0,2], x_end=[0.5,3], y_end=[0.7,3]))\n\u001b[0m\u001b[1;32m     14\u001b[0m \u001b[0;34m\u001b[0m\u001b[0m\n\u001b[1;32m     15\u001b[0m p.add_layout(Arrow(end=VeeHead(size=35), line_color=\"red\",\n",
      "\u001b[0;32m~/anaconda2/envs/py36/lib/python3.6/site-packages/bokeh/model.py\u001b[0m in \u001b[0;36m__init__\u001b[0;34m(self, **kwargs)\u001b[0m\n\u001b[1;32m    217\u001b[0m         \u001b[0mself\u001b[0m\u001b[0;34m.\u001b[0m\u001b[0m_id\u001b[0m \u001b[0;34m=\u001b[0m \u001b[0mkwargs\u001b[0m\u001b[0;34m.\u001b[0m\u001b[0mpop\u001b[0m\u001b[0;34m(\u001b[0m\u001b[0;34m\"id\"\u001b[0m\u001b[0;34m,\u001b[0m \u001b[0mmake_id\u001b[0m\u001b[0;34m(\u001b[0m\u001b[0;34m)\u001b[0m\u001b[0;34m)\u001b[0m\u001b[0;34m\u001b[0m\u001b[0m\n\u001b[1;32m    218\u001b[0m         \u001b[0mself\u001b[0m\u001b[0;34m.\u001b[0m\u001b[0m_document\u001b[0m \u001b[0;34m=\u001b[0m \u001b[0;32mNone\u001b[0m\u001b[0;34m\u001b[0m\u001b[0m\n\u001b[0;32m--> 219\u001b[0;31m         \u001b[0msuper\u001b[0m\u001b[0;34m(\u001b[0m\u001b[0mModel\u001b[0m\u001b[0;34m,\u001b[0m \u001b[0mself\u001b[0m\u001b[0;34m)\u001b[0m\u001b[0;34m.\u001b[0m\u001b[0m__init__\u001b[0m\u001b[0;34m(\u001b[0m\u001b[0;34m**\u001b[0m\u001b[0mkwargs\u001b[0m\u001b[0;34m)\u001b[0m\u001b[0;34m\u001b[0m\u001b[0m\n\u001b[0m\u001b[1;32m    220\u001b[0m         \u001b[0mdefault_theme\u001b[0m\u001b[0;34m.\u001b[0m\u001b[0mapply_to_model\u001b[0m\u001b[0;34m(\u001b[0m\u001b[0mself\u001b[0m\u001b[0;34m)\u001b[0m\u001b[0;34m\u001b[0m\u001b[0m\n\u001b[1;32m    221\u001b[0m \u001b[0;34m\u001b[0m\u001b[0m\n",
      "\u001b[0;32m~/anaconda2/envs/py36/lib/python3.6/site-packages/bokeh/core/has_props.py\u001b[0m in \u001b[0;36m__init__\u001b[0;34m(self, **properties)\u001b[0m\n\u001b[1;32m    234\u001b[0m \u001b[0;34m\u001b[0m\u001b[0m\n\u001b[1;32m    235\u001b[0m         \u001b[0;32mfor\u001b[0m \u001b[0mname\u001b[0m\u001b[0;34m,\u001b[0m \u001b[0mvalue\u001b[0m \u001b[0;32min\u001b[0m \u001b[0mproperties\u001b[0m\u001b[0;34m.\u001b[0m\u001b[0mitems\u001b[0m\u001b[0;34m(\u001b[0m\u001b[0;34m)\u001b[0m\u001b[0;34m:\u001b[0m\u001b[0;34m\u001b[0m\u001b[0m\n\u001b[0;32m--> 236\u001b[0;31m             \u001b[0msetattr\u001b[0m\u001b[0;34m(\u001b[0m\u001b[0mself\u001b[0m\u001b[0;34m,\u001b[0m \u001b[0mname\u001b[0m\u001b[0;34m,\u001b[0m \u001b[0mvalue\u001b[0m\u001b[0;34m)\u001b[0m\u001b[0;34m\u001b[0m\u001b[0m\n\u001b[0m\u001b[1;32m    237\u001b[0m \u001b[0;34m\u001b[0m\u001b[0m\n\u001b[1;32m    238\u001b[0m     \u001b[0;32mdef\u001b[0m \u001b[0m__setattr__\u001b[0m\u001b[0;34m(\u001b[0m\u001b[0mself\u001b[0m\u001b[0;34m,\u001b[0m \u001b[0mname\u001b[0m\u001b[0;34m,\u001b[0m \u001b[0mvalue\u001b[0m\u001b[0;34m)\u001b[0m\u001b[0;34m:\u001b[0m\u001b[0;34m\u001b[0m\u001b[0m\n",
      "\u001b[0;32m~/anaconda2/envs/py36/lib/python3.6/site-packages/bokeh/core/has_props.py\u001b[0m in \u001b[0;36m__setattr__\u001b[0;34m(self, name, value)\u001b[0m\n\u001b[1;32m    261\u001b[0m \u001b[0;34m\u001b[0m\u001b[0m\n\u001b[1;32m    262\u001b[0m         \u001b[0;32mif\u001b[0m \u001b[0mname\u001b[0m \u001b[0;32min\u001b[0m \u001b[0mprops\u001b[0m \u001b[0;32mor\u001b[0m \u001b[0;34m(\u001b[0m\u001b[0mdescriptor\u001b[0m \u001b[0;32mis\u001b[0m \u001b[0;32mnot\u001b[0m \u001b[0;32mNone\u001b[0m \u001b[0;32mand\u001b[0m \u001b[0mdescriptor\u001b[0m\u001b[0;34m.\u001b[0m\u001b[0mfset\u001b[0m \u001b[0;32mis\u001b[0m \u001b[0;32mnot\u001b[0m \u001b[0;32mNone\u001b[0m\u001b[0;34m)\u001b[0m\u001b[0;34m:\u001b[0m\u001b[0;34m\u001b[0m\u001b[0m\n\u001b[0;32m--> 263\u001b[0;31m             \u001b[0msuper\u001b[0m\u001b[0;34m(\u001b[0m\u001b[0mHasProps\u001b[0m\u001b[0;34m,\u001b[0m \u001b[0mself\u001b[0m\u001b[0;34m)\u001b[0m\u001b[0;34m.\u001b[0m\u001b[0m__setattr__\u001b[0m\u001b[0;34m(\u001b[0m\u001b[0mname\u001b[0m\u001b[0;34m,\u001b[0m \u001b[0mvalue\u001b[0m\u001b[0;34m)\u001b[0m\u001b[0;34m\u001b[0m\u001b[0m\n\u001b[0m\u001b[1;32m    264\u001b[0m         \u001b[0;32melse\u001b[0m\u001b[0;34m:\u001b[0m\u001b[0;34m\u001b[0m\u001b[0m\n\u001b[1;32m    265\u001b[0m             \u001b[0mmatches\u001b[0m\u001b[0;34m,\u001b[0m \u001b[0mtext\u001b[0m \u001b[0;34m=\u001b[0m \u001b[0mdifflib\u001b[0m\u001b[0;34m.\u001b[0m\u001b[0mget_close_matches\u001b[0m\u001b[0;34m(\u001b[0m\u001b[0mname\u001b[0m\u001b[0;34m.\u001b[0m\u001b[0mlower\u001b[0m\u001b[0;34m(\u001b[0m\u001b[0;34m)\u001b[0m\u001b[0;34m,\u001b[0m \u001b[0mprops\u001b[0m\u001b[0;34m)\u001b[0m\u001b[0;34m,\u001b[0m \u001b[0;34m\"similar\"\u001b[0m\u001b[0;34m\u001b[0m\u001b[0m\n",
      "\u001b[0;32m~/anaconda2/envs/py36/lib/python3.6/site-packages/bokeh/core/property/descriptors.py\u001b[0m in \u001b[0;36m__set__\u001b[0;34m(self, obj, value, setter)\u001b[0m\n\u001b[1;32m    501\u001b[0m             \u001b[0;32mraise\u001b[0m \u001b[0mRuntimeError\u001b[0m\u001b[0;34m(\u001b[0m\u001b[0;34m\"%s.%s is a readonly property\"\u001b[0m \u001b[0;34m%\u001b[0m \u001b[0;34m(\u001b[0m\u001b[0mobj\u001b[0m\u001b[0;34m.\u001b[0m\u001b[0m__class__\u001b[0m\u001b[0;34m.\u001b[0m\u001b[0m__name__\u001b[0m\u001b[0;34m,\u001b[0m \u001b[0mself\u001b[0m\u001b[0;34m.\u001b[0m\u001b[0mname\u001b[0m\u001b[0;34m)\u001b[0m\u001b[0;34m)\u001b[0m\u001b[0;34m\u001b[0m\u001b[0m\n\u001b[1;32m    502\u001b[0m \u001b[0;34m\u001b[0m\u001b[0m\n\u001b[0;32m--> 503\u001b[0;31m         \u001b[0mself\u001b[0m\u001b[0;34m.\u001b[0m\u001b[0m_internal_set\u001b[0m\u001b[0;34m(\u001b[0m\u001b[0mobj\u001b[0m\u001b[0;34m,\u001b[0m \u001b[0mvalue\u001b[0m\u001b[0;34m,\u001b[0m \u001b[0msetter\u001b[0m\u001b[0;34m=\u001b[0m\u001b[0msetter\u001b[0m\u001b[0;34m)\u001b[0m\u001b[0;34m\u001b[0m\u001b[0m\n\u001b[0m\u001b[1;32m    504\u001b[0m \u001b[0;34m\u001b[0m\u001b[0m\n\u001b[1;32m    505\u001b[0m     \u001b[0;32mdef\u001b[0m \u001b[0m__delete__\u001b[0m\u001b[0;34m(\u001b[0m\u001b[0mself\u001b[0m\u001b[0;34m,\u001b[0m \u001b[0mobj\u001b[0m\u001b[0;34m)\u001b[0m\u001b[0;34m:\u001b[0m\u001b[0;34m\u001b[0m\u001b[0m\n",
      "\u001b[0;32m~/anaconda2/envs/py36/lib/python3.6/site-packages/bokeh/core/property/descriptors.py\u001b[0m in \u001b[0;36m_internal_set\u001b[0;34m(self, obj, value, hint, setter)\u001b[0m\n\u001b[1;32m    722\u001b[0m \u001b[0;34m\u001b[0m\u001b[0m\n\u001b[1;32m    723\u001b[0m         '''\n\u001b[0;32m--> 724\u001b[0;31m         \u001b[0mvalue\u001b[0m \u001b[0;34m=\u001b[0m \u001b[0mself\u001b[0m\u001b[0;34m.\u001b[0m\u001b[0mproperty\u001b[0m\u001b[0;34m.\u001b[0m\u001b[0mprepare_value\u001b[0m\u001b[0;34m(\u001b[0m\u001b[0mobj\u001b[0m\u001b[0;34m,\u001b[0m \u001b[0mself\u001b[0m\u001b[0;34m.\u001b[0m\u001b[0mname\u001b[0m\u001b[0;34m,\u001b[0m \u001b[0mvalue\u001b[0m\u001b[0;34m)\u001b[0m\u001b[0;34m\u001b[0m\u001b[0m\n\u001b[0m\u001b[1;32m    725\u001b[0m \u001b[0;34m\u001b[0m\u001b[0m\n\u001b[1;32m    726\u001b[0m         \u001b[0mold\u001b[0m \u001b[0;34m=\u001b[0m \u001b[0mself\u001b[0m\u001b[0;34m.\u001b[0m\u001b[0m__get__\u001b[0m\u001b[0;34m(\u001b[0m\u001b[0mobj\u001b[0m\u001b[0;34m,\u001b[0m \u001b[0mobj\u001b[0m\u001b[0;34m.\u001b[0m\u001b[0m__class__\u001b[0m\u001b[0;34m)\u001b[0m\u001b[0;34m\u001b[0m\u001b[0m\n",
      "\u001b[0;32m~/anaconda2/envs/py36/lib/python3.6/site-packages/bokeh/core/property/bases.py\u001b[0m in \u001b[0;36mprepare_value\u001b[0;34m(self, obj_or_cls, name, value)\u001b[0m\n\u001b[1;32m    279\u001b[0m                     \u001b[0;32mbreak\u001b[0m\u001b[0;34m\u001b[0m\u001b[0m\n\u001b[1;32m    280\u001b[0m             \u001b[0;32melse\u001b[0m\u001b[0;34m:\u001b[0m\u001b[0;34m\u001b[0m\u001b[0m\n\u001b[0;32m--> 281\u001b[0;31m                 \u001b[0;32mraise\u001b[0m \u001b[0me\u001b[0m\u001b[0;34m\u001b[0m\u001b[0m\n\u001b[0m\u001b[1;32m    282\u001b[0m         \u001b[0;32melse\u001b[0m\u001b[0;34m:\u001b[0m\u001b[0;34m\u001b[0m\u001b[0m\n\u001b[1;32m    283\u001b[0m             \u001b[0mvalue\u001b[0m \u001b[0;34m=\u001b[0m \u001b[0mself\u001b[0m\u001b[0;34m.\u001b[0m\u001b[0mtransform\u001b[0m\u001b[0;34m(\u001b[0m\u001b[0mvalue\u001b[0m\u001b[0;34m)\u001b[0m\u001b[0;34m\u001b[0m\u001b[0m\n",
      "\u001b[0;32m~/anaconda2/envs/py36/lib/python3.6/site-packages/bokeh/core/property/bases.py\u001b[0m in \u001b[0;36mprepare_value\u001b[0;34m(self, obj_or_cls, name, value)\u001b[0m\n\u001b[1;32m    272\u001b[0m     \u001b[0;32mdef\u001b[0m \u001b[0mprepare_value\u001b[0m\u001b[0;34m(\u001b[0m\u001b[0mself\u001b[0m\u001b[0;34m,\u001b[0m \u001b[0mobj_or_cls\u001b[0m\u001b[0;34m,\u001b[0m \u001b[0mname\u001b[0m\u001b[0;34m,\u001b[0m \u001b[0mvalue\u001b[0m\u001b[0;34m)\u001b[0m\u001b[0;34m:\u001b[0m\u001b[0;34m\u001b[0m\u001b[0m\n\u001b[1;32m    273\u001b[0m         \u001b[0;32mtry\u001b[0m\u001b[0;34m:\u001b[0m\u001b[0;34m\u001b[0m\u001b[0m\n\u001b[0;32m--> 274\u001b[0;31m             \u001b[0mself\u001b[0m\u001b[0;34m.\u001b[0m\u001b[0mvalidate\u001b[0m\u001b[0;34m(\u001b[0m\u001b[0mvalue\u001b[0m\u001b[0;34m)\u001b[0m\u001b[0;34m\u001b[0m\u001b[0m\n\u001b[0m\u001b[1;32m    275\u001b[0m         \u001b[0;32mexcept\u001b[0m \u001b[0mValueError\u001b[0m \u001b[0;32mas\u001b[0m \u001b[0me\u001b[0m\u001b[0;34m:\u001b[0m\u001b[0;34m\u001b[0m\u001b[0m\n\u001b[1;32m    276\u001b[0m             \u001b[0;32mfor\u001b[0m \u001b[0mtp\u001b[0m\u001b[0;34m,\u001b[0m \u001b[0mconverter\u001b[0m \u001b[0;32min\u001b[0m \u001b[0mself\u001b[0m\u001b[0;34m.\u001b[0m\u001b[0malternatives\u001b[0m\u001b[0;34m:\u001b[0m\u001b[0;34m\u001b[0m\u001b[0m\n",
      "\u001b[0;32m~/anaconda2/envs/py36/lib/python3.6/site-packages/bokeh/core/properties.py\u001b[0m in \u001b[0;36mvalidate\u001b[0;34m(self, value)\u001b[0m\n\u001b[1;32m    689\u001b[0m \u001b[0;34m\u001b[0m\u001b[0m\n\u001b[1;32m    690\u001b[0m         \u001b[0;32mif\u001b[0m \u001b[0;32mnot\u001b[0m \u001b[0;34m(\u001b[0m\u001b[0mvalue\u001b[0m \u001b[0;32mis\u001b[0m \u001b[0;32mNone\u001b[0m \u001b[0;32mor\u001b[0m \u001b[0many\u001b[0m\u001b[0;34m(\u001b[0m\u001b[0mparam\u001b[0m\u001b[0;34m.\u001b[0m\u001b[0mis_valid\u001b[0m\u001b[0;34m(\u001b[0m\u001b[0mvalue\u001b[0m\u001b[0;34m)\u001b[0m \u001b[0;32mfor\u001b[0m \u001b[0mparam\u001b[0m \u001b[0;32min\u001b[0m \u001b[0mself\u001b[0m\u001b[0;34m.\u001b[0m\u001b[0mtype_params\u001b[0m\u001b[0;34m)\u001b[0m\u001b[0;34m)\u001b[0m\u001b[0;34m:\u001b[0m\u001b[0;34m\u001b[0m\u001b[0m\n\u001b[0;32m--> 691\u001b[0;31m             \u001b[0;32mraise\u001b[0m \u001b[0mValueError\u001b[0m\u001b[0;34m(\u001b[0m\u001b[0;34m\"expected an element of either %s, got %r\"\u001b[0m \u001b[0;34m%\u001b[0m \u001b[0;34m(\u001b[0m\u001b[0mnice_join\u001b[0m\u001b[0;34m(\u001b[0m\u001b[0mself\u001b[0m\u001b[0;34m.\u001b[0m\u001b[0mtype_params\u001b[0m\u001b[0;34m)\u001b[0m\u001b[0;34m,\u001b[0m \u001b[0mvalue\u001b[0m\u001b[0;34m)\u001b[0m\u001b[0;34m)\u001b[0m\u001b[0;34m\u001b[0m\u001b[0m\n\u001b[0m\u001b[1;32m    692\u001b[0m \u001b[0;34m\u001b[0m\u001b[0m\n\u001b[1;32m    693\u001b[0m     \u001b[0;31m# TODO (bev) implement this\u001b[0m\u001b[0;34m\u001b[0m\u001b[0;34m\u001b[0m\u001b[0m\n",
      "\u001b[0;31mValueError\u001b[0m: expected an element of either String, Dict(Enum('expr', 'field', 'value', 'transform'), Either(String, Instance(Transform), Instance(Expression), Float)) or Float, got [1, 2]"
     ]
    }
   ],
   "source": [
    "from bokeh.models.annotations import Arrow\n",
    "from bokeh.models.arrow_heads import OpenHead, NormalHead, VeeHead\n",
    "\n",
    "p = figure(plot_width=600, plot_height=600)\n",
    "\n",
    "p.circle(x=[0, 1, 0.5], y=[0, 0, 0.7], radius=0.1,\n",
    "         color=[\"navy\", \"yellow\", \"red\"], fill_alpha=0.1)\n",
    "\n",
    "p.add_layout(Arrow(end=OpenHead(line_color=\"firebrick\", line_width=4),\n",
    "                   x_start=0, y_start=0, x_end=1, y_end=0))\n",
    "\n",
    "p.add_layout(Arrow(end=NormalHead(fill_color=\"orange\"),\n",
    "                   x_start=[1,2], y_start=[0,2], x_end=[0.5,3], y_end=[0.7,3]))\n",
    "\n",
    "p.add_layout(Arrow(end=VeeHead(size=35), line_color=\"red\",\n",
    "                   x_start=0.5, y_start=0.7, x_end=0, y_end=0))\n",
    "\n",
    "show(p)"
   ]
  },
  {
   "cell_type": "code",
   "execution_count": null,
   "metadata": {
    "collapsed": true
   },
   "outputs": [],
   "source": []
  }
 ],
 "metadata": {
  "kernelspec": {
   "display_name": "Python 3",
   "language": "python",
   "name": "python3"
  },
  "language_info": {
   "codemirror_mode": {
    "name": "ipython",
    "version": 3
   },
   "file_extension": ".py",
   "mimetype": "text/x-python",
   "name": "python",
   "nbconvert_exporter": "python",
   "pygments_lexer": "ipython3",
   "version": "3.6.3"
  }
 },
 "nbformat": 4,
 "nbformat_minor": 2
}
