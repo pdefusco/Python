{
 "cells": [
  {
   "cell_type": "code",
   "execution_count": 1,
   "metadata": {},
   "outputs": [
    {
     "data": {
      "text/html": [
       "\n",
       "    <div class=\"bk-root\">\n",
       "        <a href=\"https://bokeh.pydata.org\" target=\"_blank\" class=\"bk-logo bk-logo-small bk-logo-notebook\"></a>\n",
       "        <span id=\"336bbc83-d5f8-4758-ab49-355aa220b02e\">Loading BokehJS ...</span>\n",
       "    </div>"
      ]
     },
     "metadata": {},
     "output_type": "display_data"
    },
    {
     "data": {
      "application/javascript": [
       "\n",
       "(function(root) {\n",
       "  function now() {\n",
       "    return new Date();\n",
       "  }\n",
       "\n",
       "  var force = true;\n",
       "\n",
       "  if (typeof (root._bokeh_onload_callbacks) === \"undefined\" || force === true) {\n",
       "    root._bokeh_onload_callbacks = [];\n",
       "    root._bokeh_is_loading = undefined;\n",
       "  }\n",
       "\n",
       "  var JS_MIME_TYPE = 'application/javascript';\n",
       "  var HTML_MIME_TYPE = 'text/html';\n",
       "  var EXEC_MIME_TYPE = 'application/vnd.bokehjs_exec.v0+json';\n",
       "  var CLASS_NAME = 'output_bokeh rendered_html';\n",
       "\n",
       "  /**\n",
       "   * Render data to the DOM node\n",
       "   */\n",
       "  function render(props, node) {\n",
       "    var script = document.createElement(\"script\");\n",
       "    node.appendChild(script);\n",
       "  }\n",
       "\n",
       "  /**\n",
       "   * Handle when an output is cleared or removed\n",
       "   */\n",
       "  function handleClearOutput(event, handle) {\n",
       "    var cell = handle.cell;\n",
       "\n",
       "    var id = cell.output_area._bokeh_element_id;\n",
       "    var server_id = cell.output_area._bokeh_server_id;\n",
       "    // Clean up Bokeh references\n",
       "    if (id !== undefined) {\n",
       "      Bokeh.index[id].model.document.clear();\n",
       "      delete Bokeh.index[id];\n",
       "    }\n",
       "\n",
       "    if (server_id !== undefined) {\n",
       "      // Clean up Bokeh references\n",
       "      var cmd = \"from bokeh.io.state import curstate; print(curstate().uuid_to_server['\" + server_id + \"'].get_sessions()[0].document.roots[0]._id)\";\n",
       "      cell.notebook.kernel.execute(cmd, {\n",
       "        iopub: {\n",
       "          output: function(msg) {\n",
       "            var element_id = msg.content.text.trim();\n",
       "            Bokeh.index[element_id].model.document.clear();\n",
       "            delete Bokeh.index[element_id];\n",
       "          }\n",
       "        }\n",
       "      });\n",
       "      // Destroy server and session\n",
       "      var cmd = \"import bokeh.io.notebook as ion; ion.destroy_server('\" + server_id + \"')\";\n",
       "      cell.notebook.kernel.execute(cmd);\n",
       "    }\n",
       "  }\n",
       "\n",
       "  /**\n",
       "   * Handle when a new output is added\n",
       "   */\n",
       "  function handleAddOutput(event, handle) {\n",
       "    var output_area = handle.output_area;\n",
       "    var output = handle.output;\n",
       "\n",
       "    // limit handleAddOutput to display_data with EXEC_MIME_TYPE content only\n",
       "    if ((output.output_type != \"display_data\") || (!output.data.hasOwnProperty(EXEC_MIME_TYPE))) {\n",
       "      return\n",
       "    }\n",
       "\n",
       "    var toinsert = output_area.element.find(\".\" + CLASS_NAME.split(' ')[0]);\n",
       "\n",
       "    if (output.metadata[EXEC_MIME_TYPE][\"id\"] !== undefined) {\n",
       "      toinsert[0].firstChild.textContent = output.data[JS_MIME_TYPE];\n",
       "      // store reference to embed id on output_area\n",
       "      output_area._bokeh_element_id = output.metadata[EXEC_MIME_TYPE][\"id\"];\n",
       "    }\n",
       "    if (output.metadata[EXEC_MIME_TYPE][\"server_id\"] !== undefined) {\n",
       "      var bk_div = document.createElement(\"div\");\n",
       "      bk_div.innerHTML = output.data[HTML_MIME_TYPE];\n",
       "      var script_attrs = bk_div.children[0].attributes;\n",
       "      for (var i = 0; i < script_attrs.length; i++) {\n",
       "        toinsert[0].firstChild.setAttribute(script_attrs[i].name, script_attrs[i].value);\n",
       "      }\n",
       "      // store reference to server id on output_area\n",
       "      output_area._bokeh_server_id = output.metadata[EXEC_MIME_TYPE][\"server_id\"];\n",
       "    }\n",
       "  }\n",
       "\n",
       "  function register_renderer(events, OutputArea) {\n",
       "\n",
       "    function append_mime(data, metadata, element) {\n",
       "      // create a DOM node to render to\n",
       "      var toinsert = this.create_output_subarea(\n",
       "        metadata,\n",
       "        CLASS_NAME,\n",
       "        EXEC_MIME_TYPE\n",
       "      );\n",
       "      this.keyboard_manager.register_events(toinsert);\n",
       "      // Render to node\n",
       "      var props = {data: data, metadata: metadata[EXEC_MIME_TYPE]};\n",
       "      render(props, toinsert[0]);\n",
       "      element.append(toinsert);\n",
       "      return toinsert\n",
       "    }\n",
       "\n",
       "    /* Handle when an output is cleared or removed */\n",
       "    events.on('clear_output.CodeCell', handleClearOutput);\n",
       "    events.on('delete.Cell', handleClearOutput);\n",
       "\n",
       "    /* Handle when a new output is added */\n",
       "    events.on('output_added.OutputArea', handleAddOutput);\n",
       "\n",
       "    /**\n",
       "     * Register the mime type and append_mime function with output_area\n",
       "     */\n",
       "    OutputArea.prototype.register_mime_type(EXEC_MIME_TYPE, append_mime, {\n",
       "      /* Is output safe? */\n",
       "      safe: true,\n",
       "      /* Index of renderer in `output_area.display_order` */\n",
       "      index: 0\n",
       "    });\n",
       "  }\n",
       "\n",
       "  // register the mime type if in Jupyter Notebook environment and previously unregistered\n",
       "  if (root.Jupyter !== undefined) {\n",
       "    var events = require('base/js/events');\n",
       "    var OutputArea = require('notebook/js/outputarea').OutputArea;\n",
       "\n",
       "    if (OutputArea.prototype.mime_types().indexOf(EXEC_MIME_TYPE) == -1) {\n",
       "      register_renderer(events, OutputArea);\n",
       "    }\n",
       "  }\n",
       "\n",
       "  \n",
       "  if (typeof (root._bokeh_timeout) === \"undefined\" || force === true) {\n",
       "    root._bokeh_timeout = Date.now() + 5000;\n",
       "    root._bokeh_failed_load = false;\n",
       "  }\n",
       "\n",
       "  var NB_LOAD_WARNING = {'data': {'text/html':\n",
       "     \"<div style='background-color: #fdd'>\\n\"+\n",
       "     \"<p>\\n\"+\n",
       "     \"BokehJS does not appear to have successfully loaded. If loading BokehJS from CDN, this \\n\"+\n",
       "     \"may be due to a slow or bad network connection. Possible fixes:\\n\"+\n",
       "     \"</p>\\n\"+\n",
       "     \"<ul>\\n\"+\n",
       "     \"<li>re-rerun `output_notebook()` to attempt to load from CDN again, or</li>\\n\"+\n",
       "     \"<li>use INLINE resources instead, as so:</li>\\n\"+\n",
       "     \"</ul>\\n\"+\n",
       "     \"<code>\\n\"+\n",
       "     \"from bokeh.resources import INLINE\\n\"+\n",
       "     \"output_notebook(resources=INLINE)\\n\"+\n",
       "     \"</code>\\n\"+\n",
       "     \"</div>\"}};\n",
       "\n",
       "  function display_loaded() {\n",
       "    var el = document.getElementById(\"336bbc83-d5f8-4758-ab49-355aa220b02e\");\n",
       "    if (el != null) {\n",
       "      el.textContent = \"BokehJS is loading...\";\n",
       "    }\n",
       "    if (root.Bokeh !== undefined) {\n",
       "      if (el != null) {\n",
       "        el.textContent = \"BokehJS \" + root.Bokeh.version + \" successfully loaded.\";\n",
       "      }\n",
       "    } else if (Date.now() < root._bokeh_timeout) {\n",
       "      setTimeout(display_loaded, 100)\n",
       "    }\n",
       "  }\n",
       "\n",
       "\n",
       "  function run_callbacks() {\n",
       "    try {\n",
       "      root._bokeh_onload_callbacks.forEach(function(callback) { callback() });\n",
       "    }\n",
       "    finally {\n",
       "      delete root._bokeh_onload_callbacks\n",
       "    }\n",
       "    console.info(\"Bokeh: all callbacks have finished\");\n",
       "  }\n",
       "\n",
       "  function load_libs(js_urls, callback) {\n",
       "    root._bokeh_onload_callbacks.push(callback);\n",
       "    if (root._bokeh_is_loading > 0) {\n",
       "      console.log(\"Bokeh: BokehJS is being loaded, scheduling callback at\", now());\n",
       "      return null;\n",
       "    }\n",
       "    if (js_urls == null || js_urls.length === 0) {\n",
       "      run_callbacks();\n",
       "      return null;\n",
       "    }\n",
       "    console.log(\"Bokeh: BokehJS not loaded, scheduling load and callback at\", now());\n",
       "    root._bokeh_is_loading = js_urls.length;\n",
       "    for (var i = 0; i < js_urls.length; i++) {\n",
       "      var url = js_urls[i];\n",
       "      var s = document.createElement('script');\n",
       "      s.src = url;\n",
       "      s.async = false;\n",
       "      s.onreadystatechange = s.onload = function() {\n",
       "        root._bokeh_is_loading--;\n",
       "        if (root._bokeh_is_loading === 0) {\n",
       "          console.log(\"Bokeh: all BokehJS libraries loaded\");\n",
       "          run_callbacks()\n",
       "        }\n",
       "      };\n",
       "      s.onerror = function() {\n",
       "        console.warn(\"failed to load library \" + url);\n",
       "      };\n",
       "      console.log(\"Bokeh: injecting script tag for BokehJS library: \", url);\n",
       "      document.getElementsByTagName(\"head\")[0].appendChild(s);\n",
       "    }\n",
       "  };var element = document.getElementById(\"336bbc83-d5f8-4758-ab49-355aa220b02e\");\n",
       "  if (element == null) {\n",
       "    console.log(\"Bokeh: ERROR: autoload.js configured with elementid '336bbc83-d5f8-4758-ab49-355aa220b02e' but no matching script tag was found. \")\n",
       "    return false;\n",
       "  }\n",
       "\n",
       "  var js_urls = [\"https://cdn.pydata.org/bokeh/release/bokeh-0.12.13.min.js\", \"https://cdn.pydata.org/bokeh/release/bokeh-widgets-0.12.13.min.js\", \"https://cdn.pydata.org/bokeh/release/bokeh-tables-0.12.13.min.js\", \"https://cdn.pydata.org/bokeh/release/bokeh-gl-0.12.13.min.js\"];\n",
       "\n",
       "  var inline_js = [\n",
       "    function(Bokeh) {\n",
       "      Bokeh.set_log_level(\"info\");\n",
       "    },\n",
       "    \n",
       "    function(Bokeh) {\n",
       "      \n",
       "    },\n",
       "    function(Bokeh) {\n",
       "      console.log(\"Bokeh: injecting CSS: https://cdn.pydata.org/bokeh/release/bokeh-0.12.13.min.css\");\n",
       "      Bokeh.embed.inject_css(\"https://cdn.pydata.org/bokeh/release/bokeh-0.12.13.min.css\");\n",
       "      console.log(\"Bokeh: injecting CSS: https://cdn.pydata.org/bokeh/release/bokeh-widgets-0.12.13.min.css\");\n",
       "      Bokeh.embed.inject_css(\"https://cdn.pydata.org/bokeh/release/bokeh-widgets-0.12.13.min.css\");\n",
       "      console.log(\"Bokeh: injecting CSS: https://cdn.pydata.org/bokeh/release/bokeh-tables-0.12.13.min.css\");\n",
       "      Bokeh.embed.inject_css(\"https://cdn.pydata.org/bokeh/release/bokeh-tables-0.12.13.min.css\");\n",
       "    }\n",
       "  ];\n",
       "\n",
       "  function run_inline_js() {\n",
       "    \n",
       "    if ((root.Bokeh !== undefined) || (force === true)) {\n",
       "      for (var i = 0; i < inline_js.length; i++) {\n",
       "        inline_js[i].call(root, root.Bokeh);\n",
       "      }if (force === true) {\n",
       "        display_loaded();\n",
       "      }} else if (Date.now() < root._bokeh_timeout) {\n",
       "      setTimeout(run_inline_js, 100);\n",
       "    } else if (!root._bokeh_failed_load) {\n",
       "      console.log(\"Bokeh: BokehJS failed to load within specified timeout.\");\n",
       "      root._bokeh_failed_load = true;\n",
       "    } else if (force !== true) {\n",
       "      var cell = $(document.getElementById(\"336bbc83-d5f8-4758-ab49-355aa220b02e\")).parents('.cell').data().cell;\n",
       "      cell.output_area.append_execute_result(NB_LOAD_WARNING)\n",
       "    }\n",
       "\n",
       "  }\n",
       "\n",
       "  if (root._bokeh_is_loading === 0) {\n",
       "    console.log(\"Bokeh: BokehJS loaded, going straight to plotting\");\n",
       "    run_inline_js();\n",
       "  } else {\n",
       "    load_libs(js_urls, function() {\n",
       "      console.log(\"Bokeh: BokehJS plotting callback run at\", now());\n",
       "      run_inline_js();\n",
       "    });\n",
       "  }\n",
       "}(window));"
      ],
      "application/vnd.bokehjs_load.v0+json": "\n(function(root) {\n  function now() {\n    return new Date();\n  }\n\n  var force = true;\n\n  if (typeof (root._bokeh_onload_callbacks) === \"undefined\" || force === true) {\n    root._bokeh_onload_callbacks = [];\n    root._bokeh_is_loading = undefined;\n  }\n\n  \n\n  \n  if (typeof (root._bokeh_timeout) === \"undefined\" || force === true) {\n    root._bokeh_timeout = Date.now() + 5000;\n    root._bokeh_failed_load = false;\n  }\n\n  var NB_LOAD_WARNING = {'data': {'text/html':\n     \"<div style='background-color: #fdd'>\\n\"+\n     \"<p>\\n\"+\n     \"BokehJS does not appear to have successfully loaded. If loading BokehJS from CDN, this \\n\"+\n     \"may be due to a slow or bad network connection. Possible fixes:\\n\"+\n     \"</p>\\n\"+\n     \"<ul>\\n\"+\n     \"<li>re-rerun `output_notebook()` to attempt to load from CDN again, or</li>\\n\"+\n     \"<li>use INLINE resources instead, as so:</li>\\n\"+\n     \"</ul>\\n\"+\n     \"<code>\\n\"+\n     \"from bokeh.resources import INLINE\\n\"+\n     \"output_notebook(resources=INLINE)\\n\"+\n     \"</code>\\n\"+\n     \"</div>\"}};\n\n  function display_loaded() {\n    var el = document.getElementById(\"336bbc83-d5f8-4758-ab49-355aa220b02e\");\n    if (el != null) {\n      el.textContent = \"BokehJS is loading...\";\n    }\n    if (root.Bokeh !== undefined) {\n      if (el != null) {\n        el.textContent = \"BokehJS \" + root.Bokeh.version + \" successfully loaded.\";\n      }\n    } else if (Date.now() < root._bokeh_timeout) {\n      setTimeout(display_loaded, 100)\n    }\n  }\n\n\n  function run_callbacks() {\n    try {\n      root._bokeh_onload_callbacks.forEach(function(callback) { callback() });\n    }\n    finally {\n      delete root._bokeh_onload_callbacks\n    }\n    console.info(\"Bokeh: all callbacks have finished\");\n  }\n\n  function load_libs(js_urls, callback) {\n    root._bokeh_onload_callbacks.push(callback);\n    if (root._bokeh_is_loading > 0) {\n      console.log(\"Bokeh: BokehJS is being loaded, scheduling callback at\", now());\n      return null;\n    }\n    if (js_urls == null || js_urls.length === 0) {\n      run_callbacks();\n      return null;\n    }\n    console.log(\"Bokeh: BokehJS not loaded, scheduling load and callback at\", now());\n    root._bokeh_is_loading = js_urls.length;\n    for (var i = 0; i < js_urls.length; i++) {\n      var url = js_urls[i];\n      var s = document.createElement('script');\n      s.src = url;\n      s.async = false;\n      s.onreadystatechange = s.onload = function() {\n        root._bokeh_is_loading--;\n        if (root._bokeh_is_loading === 0) {\n          console.log(\"Bokeh: all BokehJS libraries loaded\");\n          run_callbacks()\n        }\n      };\n      s.onerror = function() {\n        console.warn(\"failed to load library \" + url);\n      };\n      console.log(\"Bokeh: injecting script tag for BokehJS library: \", url);\n      document.getElementsByTagName(\"head\")[0].appendChild(s);\n    }\n  };var element = document.getElementById(\"336bbc83-d5f8-4758-ab49-355aa220b02e\");\n  if (element == null) {\n    console.log(\"Bokeh: ERROR: autoload.js configured with elementid '336bbc83-d5f8-4758-ab49-355aa220b02e' but no matching script tag was found. \")\n    return false;\n  }\n\n  var js_urls = [\"https://cdn.pydata.org/bokeh/release/bokeh-0.12.13.min.js\", \"https://cdn.pydata.org/bokeh/release/bokeh-widgets-0.12.13.min.js\", \"https://cdn.pydata.org/bokeh/release/bokeh-tables-0.12.13.min.js\", \"https://cdn.pydata.org/bokeh/release/bokeh-gl-0.12.13.min.js\"];\n\n  var inline_js = [\n    function(Bokeh) {\n      Bokeh.set_log_level(\"info\");\n    },\n    \n    function(Bokeh) {\n      \n    },\n    function(Bokeh) {\n      console.log(\"Bokeh: injecting CSS: https://cdn.pydata.org/bokeh/release/bokeh-0.12.13.min.css\");\n      Bokeh.embed.inject_css(\"https://cdn.pydata.org/bokeh/release/bokeh-0.12.13.min.css\");\n      console.log(\"Bokeh: injecting CSS: https://cdn.pydata.org/bokeh/release/bokeh-widgets-0.12.13.min.css\");\n      Bokeh.embed.inject_css(\"https://cdn.pydata.org/bokeh/release/bokeh-widgets-0.12.13.min.css\");\n      console.log(\"Bokeh: injecting CSS: https://cdn.pydata.org/bokeh/release/bokeh-tables-0.12.13.min.css\");\n      Bokeh.embed.inject_css(\"https://cdn.pydata.org/bokeh/release/bokeh-tables-0.12.13.min.css\");\n    }\n  ];\n\n  function run_inline_js() {\n    \n    if ((root.Bokeh !== undefined) || (force === true)) {\n      for (var i = 0; i < inline_js.length; i++) {\n        inline_js[i].call(root, root.Bokeh);\n      }if (force === true) {\n        display_loaded();\n      }} else if (Date.now() < root._bokeh_timeout) {\n      setTimeout(run_inline_js, 100);\n    } else if (!root._bokeh_failed_load) {\n      console.log(\"Bokeh: BokehJS failed to load within specified timeout.\");\n      root._bokeh_failed_load = true;\n    } else if (force !== true) {\n      var cell = $(document.getElementById(\"336bbc83-d5f8-4758-ab49-355aa220b02e\")).parents('.cell').data().cell;\n      cell.output_area.append_execute_result(NB_LOAD_WARNING)\n    }\n\n  }\n\n  if (root._bokeh_is_loading === 0) {\n    console.log(\"Bokeh: BokehJS loaded, going straight to plotting\");\n    run_inline_js();\n  } else {\n    load_libs(js_urls, function() {\n      console.log(\"Bokeh: BokehJS plotting callback run at\", now());\n      run_inline_js();\n    });\n  }\n}(window));"
     },
     "metadata": {},
     "output_type": "display_data"
    }
   ],
   "source": [
    "from bokeh.io import output_notebook, show\n",
    "from bokeh.plotting import figure\n",
    "output_notebook()"
   ]
  },
  {
   "cell_type": "markdown",
   "metadata": {
    "collapsed": true
   },
   "source": [
    "# Linked Interactions\n",
    "\n",
    "It is possible to link various interactions between different Bokeh plots. For instance, the ranges of two (or more) plots can be linked, so that when one of the plots is panned (or zoomed, or otherwise has its range changed) the other plots will update in unison. It is also possible to link selections between two plots, so that when items are selected on one plot, the corresponding items on the second plot also become selected. "
   ]
  },
  {
   "cell_type": "markdown",
   "metadata": {},
   "source": [
    "## Linked panning\n",
    "\n",
    "Linked panning (when multiple plots have ranges that stay in sync) is simple to spell with Bokeh. You simply share the appropriate range objects between two (or more) plots. The example below shows how to accomplish this by linking the ranges of three plots in various ways:"
   ]
  },
  {
   "cell_type": "code",
   "execution_count": 2,
   "metadata": {},
   "outputs": [
    {
     "data": {
      "text/html": [
       "\n",
       "<div class=\"bk-root\">\n",
       "    <div class=\"bk-plotdiv\" id=\"7c9fcb47-fe19-46ac-90d5-9b21f1ef6b09\"></div>\n",
       "</div>"
      ]
     },
     "metadata": {},
     "output_type": "display_data"
    },
    {
     "data": {
      "application/javascript": [
       "(function(root) {\n",
       "  function embed_document(root) {\n",
       "    \n",
       "  var docs_json = {\"17fd02e1-4685-486b-b676-f577c1fd53d1\":{\"roots\":{\"references\":[{\"attributes\":{},\"id\":\"081df34f-6443-44cb-b446-8719468dd055\",\"type\":\"WheelZoomTool\"},{\"attributes\":{},\"id\":\"dcba2e06-c382-4760-94fb-da1fa518aef9\",\"type\":\"BasicTickFormatter\"},{\"attributes\":{\"fill_alpha\":{\"value\":0.1},\"fill_color\":{\"value\":\"#1f77b4\"},\"line_alpha\":{\"value\":0.1},\"line_color\":{\"value\":\"#1f77b4\"},\"size\":{\"units\":\"screen\",\"value\":10},\"x\":{\"field\":\"x\"},\"y\":{\"field\":\"y\"}},\"id\":\"27f8dad9-5f77-4970-8c49-5ffd6968243a\",\"type\":\"Square\"},{\"attributes\":{\"data_source\":{\"id\":\"9fad3a84-286e-4950-985a-043bc66240a4\",\"type\":\"ColumnDataSource\"},\"glyph\":{\"id\":\"7c0ba217-3b08-4466-85df-456e7da83c4e\",\"type\":\"Square\"},\"hover_glyph\":null,\"muted_glyph\":null,\"nonselection_glyph\":{\"id\":\"27f8dad9-5f77-4970-8c49-5ffd6968243a\",\"type\":\"Square\"},\"selection_glyph\":null,\"view\":{\"id\":\"5d6dcace-86ff-481f-868d-a8f40bac297d\",\"type\":\"CDSView\"}},\"id\":\"0504bc6a-d633-4cf3-93cd-8a3bfa010050\",\"type\":\"GlyphRenderer\"},{\"attributes\":{\"fill_alpha\":{\"value\":0.1},\"fill_color\":{\"value\":\"#1f77b4\"},\"line_alpha\":{\"value\":0.1},\"line_color\":{\"value\":\"#1f77b4\"},\"size\":{\"units\":\"screen\",\"value\":10},\"x\":{\"field\":\"x\"},\"y\":{\"field\":\"y\"}},\"id\":\"0092ff23-01c7-4b80-8582-e52c73b99b8b\",\"type\":\"Circle\"},{\"attributes\":{\"source\":{\"id\":\"9fad3a84-286e-4950-985a-043bc66240a4\",\"type\":\"ColumnDataSource\"}},\"id\":\"5d6dcace-86ff-481f-868d-a8f40bac297d\",\"type\":\"CDSView\"},{\"attributes\":{},\"id\":\"78c5faf6-5f09-4c46-904a-38ca54730c34\",\"type\":\"LinearScale\"},{\"attributes\":{\"formatter\":{\"id\":\"27faa110-8be5-40a5-bd2d-8c5ffd954fcd\",\"type\":\"BasicTickFormatter\"},\"plot\":{\"id\":\"4803dce9-1121-4252-9e87-19162f8bc3cc\",\"subtype\":\"Figure\",\"type\":\"Plot\"},\"ticker\":{\"id\":\"0c188e32-50d1-401a-bf83-322e930cf903\",\"type\":\"BasicTicker\"}},\"id\":\"4b34c5ae-cf2f-413d-853c-2b62fb2818b8\",\"type\":\"LinearAxis\"},{\"attributes\":{\"plot\":null,\"text\":\"\"},\"id\":\"95366f6c-f0a0-4915-9c28-cdf0ed832935\",\"type\":\"Title\"},{\"attributes\":{},\"id\":\"cac3ba88-39aa-4e46-af49-1b86c7e5ac6a\",\"type\":\"BasicTickFormatter\"},{\"attributes\":{\"tools\":[{\"id\":\"780ebc52-c86f-4ba4-bc75-521075b10290\",\"type\":\"PanTool\"},{\"id\":\"93bcbf4a-8db1-4e0b-9333-b4acfaa4e644\",\"type\":\"WheelZoomTool\"},{\"id\":\"34e07c46-b794-4ea6-b29f-33770f379d2a\",\"type\":\"PanTool\"},{\"id\":\"d8ebace5-0417-4102-8159-fcb5da50e5e8\",\"type\":\"WheelZoomTool\"},{\"id\":\"e53b231a-12fa-4478-8c11-4b7397a64133\",\"type\":\"PanTool\"},{\"id\":\"081df34f-6443-44cb-b446-8719468dd055\",\"type\":\"WheelZoomTool\"}]},\"id\":\"b05ecd00-e86d-45dd-b5e5-7c99b5b67e1e\",\"type\":\"ProxyToolbar\"},{\"attributes\":{\"toolbar\":{\"id\":\"b05ecd00-e86d-45dd-b5e5-7c99b5b67e1e\",\"type\":\"ProxyToolbar\"},\"toolbar_location\":\"above\"},\"id\":\"70d6721d-f2fa-46e9-b151-ce5b52c01f85\",\"type\":\"ToolbarBox\"},{\"attributes\":{\"children\":[{\"id\":\"70d6721d-f2fa-46e9-b151-ce5b52c01f85\",\"type\":\"ToolbarBox\"},{\"id\":\"718ebac7-6054-48bb-b77f-41097460deff\",\"type\":\"Column\"}]},\"id\":\"aa5d5ab1-0989-4d5a-9fee-505552a28dd8\",\"type\":\"Column\"},{\"attributes\":{\"below\":[{\"id\":\"4b34c5ae-cf2f-413d-853c-2b62fb2818b8\",\"type\":\"LinearAxis\"}],\"left\":[{\"id\":\"8f55c3bc-3480-4055-bd6f-2236dc2d454d\",\"type\":\"LinearAxis\"}],\"plot_height\":250,\"plot_width\":250,\"renderers\":[{\"id\":\"4b34c5ae-cf2f-413d-853c-2b62fb2818b8\",\"type\":\"LinearAxis\"},{\"id\":\"bc2bd4a1-c213-437c-a1c0-89d6e090831a\",\"type\":\"Grid\"},{\"id\":\"8f55c3bc-3480-4055-bd6f-2236dc2d454d\",\"type\":\"LinearAxis\"},{\"id\":\"f275f4b0-34c3-4df9-bf6c-6cc7e6785df7\",\"type\":\"Grid\"},{\"id\":\"27c62c20-c2e9-498a-9b50-112fc50e5dc8\",\"type\":\"GlyphRenderer\"}],\"title\":{\"id\":\"a0f6b7cc-244b-4269-abd2-5d3533e57fd7\",\"type\":\"Title\"},\"toolbar\":{\"id\":\"6fd698f7-4c9e-4ec8-9eb1-b7515ae5cd77\",\"type\":\"Toolbar\"},\"toolbar_location\":null,\"x_range\":{\"id\":\"a68ab40d-a557-4a24-8818-4d99d02451c9\",\"type\":\"DataRange1d\"},\"x_scale\":{\"id\":\"e5fabcd3-3478-465f-b474-d8e312f7cf45\",\"type\":\"LinearScale\"},\"y_range\":{\"id\":\"20f785e8-43a2-4fe4-9373-0157744dafaf\",\"type\":\"DataRange1d\"},\"y_scale\":{\"id\":\"78c5faf6-5f09-4c46-904a-38ca54730c34\",\"type\":\"LinearScale\"}},\"id\":\"4803dce9-1121-4252-9e87-19162f8bc3cc\",\"subtype\":\"Figure\",\"type\":\"Plot\"},{\"attributes\":{\"active_drag\":\"auto\",\"active_inspect\":\"auto\",\"active_scroll\":\"auto\",\"active_tap\":\"auto\",\"tools\":[{\"id\":\"34e07c46-b794-4ea6-b29f-33770f379d2a\",\"type\":\"PanTool\"},{\"id\":\"d8ebace5-0417-4102-8159-fcb5da50e5e8\",\"type\":\"WheelZoomTool\"}]},\"id\":\"b000e268-9269-4596-8a4a-0bb81af88f67\",\"type\":\"Toolbar\"},{\"attributes\":{\"active_drag\":\"auto\",\"active_inspect\":\"auto\",\"active_scroll\":\"auto\",\"active_tap\":\"auto\",\"tools\":[{\"id\":\"780ebc52-c86f-4ba4-bc75-521075b10290\",\"type\":\"PanTool\"},{\"id\":\"93bcbf4a-8db1-4e0b-9333-b4acfaa4e644\",\"type\":\"WheelZoomTool\"}]},\"id\":\"6fd698f7-4c9e-4ec8-9eb1-b7515ae5cd77\",\"type\":\"Toolbar\"},{\"attributes\":{\"callback\":null},\"id\":\"20f785e8-43a2-4fe4-9373-0157744dafaf\",\"type\":\"DataRange1d\"},{\"attributes\":{},\"id\":\"48ce0bd8-7c5d-4acb-b923-89ed02ecdabf\",\"type\":\"BasicTicker\"},{\"attributes\":{\"data_source\":{\"id\":\"8c8e27ae-b8e2-46b3-b1c3-9ccf497de538\",\"type\":\"ColumnDataSource\"},\"glyph\":{\"id\":\"c00cae3b-c973-45ef-a8fa-5504f6b190fc\",\"type\":\"Circle\"},\"hover_glyph\":null,\"muted_glyph\":null,\"nonselection_glyph\":{\"id\":\"0092ff23-01c7-4b80-8582-e52c73b99b8b\",\"type\":\"Circle\"},\"selection_glyph\":null,\"view\":{\"id\":\"757283c2-f2c3-4936-a7bc-d886c6f597b8\",\"type\":\"CDSView\"}},\"id\":\"27c62c20-c2e9-498a-9b50-112fc50e5dc8\",\"type\":\"GlyphRenderer\"},{\"attributes\":{\"callback\":null,\"column_names\":[\"x\",\"y\"],\"data\":{\"x\":[0,1,2,3,4,5,6,7,8,9,10],\"y\":[0,1,2,3,4,5,6,7,8,9,10]}},\"id\":\"8c8e27ae-b8e2-46b3-b1c3-9ccf497de538\",\"type\":\"ColumnDataSource\"},{\"attributes\":{\"dimension\":1,\"plot\":{\"id\":\"4803dce9-1121-4252-9e87-19162f8bc3cc\",\"subtype\":\"Figure\",\"type\":\"Plot\"},\"ticker\":{\"id\":\"48ce0bd8-7c5d-4acb-b923-89ed02ecdabf\",\"type\":\"BasicTicker\"}},\"id\":\"f275f4b0-34c3-4df9-bf6c-6cc7e6785df7\",\"type\":\"Grid\"},{\"attributes\":{},\"id\":\"e5fabcd3-3478-465f-b474-d8e312f7cf45\",\"type\":\"LinearScale\"},{\"attributes\":{\"source\":{\"id\":\"8c8e27ae-b8e2-46b3-b1c3-9ccf497de538\",\"type\":\"ColumnDataSource\"}},\"id\":\"757283c2-f2c3-4936-a7bc-d886c6f597b8\",\"type\":\"CDSView\"},{\"attributes\":{},\"id\":\"0c188e32-50d1-401a-bf83-322e930cf903\",\"type\":\"BasicTicker\"},{\"attributes\":{\"plot\":null,\"text\":\"\"},\"id\":\"a0f6b7cc-244b-4269-abd2-5d3533e57fd7\",\"type\":\"Title\"},{\"attributes\":{\"plot\":{\"id\":\"4803dce9-1121-4252-9e87-19162f8bc3cc\",\"subtype\":\"Figure\",\"type\":\"Plot\"},\"ticker\":{\"id\":\"0c188e32-50d1-401a-bf83-322e930cf903\",\"type\":\"BasicTicker\"}},\"id\":\"bc2bd4a1-c213-437c-a1c0-89d6e090831a\",\"type\":\"Grid\"},{\"attributes\":{\"formatter\":{\"id\":\"aef97ec6-f259-4fc4-a123-0f6462f4e3a0\",\"type\":\"BasicTickFormatter\"},\"plot\":{\"id\":\"4803dce9-1121-4252-9e87-19162f8bc3cc\",\"subtype\":\"Figure\",\"type\":\"Plot\"},\"ticker\":{\"id\":\"48ce0bd8-7c5d-4acb-b923-89ed02ecdabf\",\"type\":\"BasicTicker\"}},\"id\":\"8f55c3bc-3480-4055-bd6f-2236dc2d454d\",\"type\":\"LinearAxis\"},{\"attributes\":{},\"id\":\"93bcbf4a-8db1-4e0b-9333-b4acfaa4e644\",\"type\":\"WheelZoomTool\"},{\"attributes\":{},\"id\":\"780ebc52-c86f-4ba4-bc75-521075b10290\",\"type\":\"PanTool\"},{\"attributes\":{\"fill_color\":{\"value\":\"navy\"},\"line_color\":{\"value\":\"navy\"},\"size\":{\"units\":\"screen\",\"value\":10},\"x\":{\"field\":\"x\"},\"y\":{\"field\":\"y\"}},\"id\":\"c00cae3b-c973-45ef-a8fa-5504f6b190fc\",\"type\":\"Circle\"},{\"attributes\":{},\"id\":\"74203e58-16b2-4894-98ff-bd4319bd9cfd\",\"type\":\"BasicTickFormatter\"},{\"attributes\":{\"below\":[{\"id\":\"56cb739c-1580-4c60-9fb3-39294bf9f394\",\"type\":\"LinearAxis\"}],\"left\":[{\"id\":\"c9a3fc3b-cd43-4e82-aada-2fdea63afe0d\",\"type\":\"LinearAxis\"}],\"plot_height\":250,\"plot_width\":250,\"renderers\":[{\"id\":\"56cb739c-1580-4c60-9fb3-39294bf9f394\",\"type\":\"LinearAxis\"},{\"id\":\"69d49e00-3373-4e58-9617-01ec7d7b9368\",\"type\":\"Grid\"},{\"id\":\"c9a3fc3b-cd43-4e82-aada-2fdea63afe0d\",\"type\":\"LinearAxis\"},{\"id\":\"c32ec806-b1cb-4a46-a4ad-27e494b177fe\",\"type\":\"Grid\"},{\"id\":\"189188a7-9753-4dcc-a69e-e0ab00f1ee21\",\"type\":\"GlyphRenderer\"}],\"title\":{\"id\":\"2df4992e-73bc-4222-9587-7b98444ead3e\",\"type\":\"Title\"},\"toolbar\":{\"id\":\"b000e268-9269-4596-8a4a-0bb81af88f67\",\"type\":\"Toolbar\"},\"toolbar_location\":null,\"x_range\":{\"id\":\"a68ab40d-a557-4a24-8818-4d99d02451c9\",\"type\":\"DataRange1d\"},\"x_scale\":{\"id\":\"756fd538-5f13-4ac1-9978-6f1dd48e345d\",\"type\":\"LinearScale\"},\"y_range\":{\"id\":\"20f785e8-43a2-4fe4-9373-0157744dafaf\",\"type\":\"DataRange1d\"},\"y_scale\":{\"id\":\"8d658d4c-b27a-4038-9a10-4e0955608f3e\",\"type\":\"LinearScale\"}},\"id\":\"b509b484-5021-49e1-a857-699c1317684c\",\"subtype\":\"Figure\",\"type\":\"Plot\"},{\"attributes\":{},\"id\":\"aef97ec6-f259-4fc4-a123-0f6462f4e3a0\",\"type\":\"BasicTickFormatter\"},{\"attributes\":{\"formatter\":{\"id\":\"48dfee70-1662-4a4a-ba6c-d10159abd7af\",\"type\":\"BasicTickFormatter\"},\"plot\":{\"id\":\"b509b484-5021-49e1-a857-699c1317684c\",\"subtype\":\"Figure\",\"type\":\"Plot\"},\"ticker\":{\"id\":\"7c591be3-ada0-41b2-ab2a-1bf838d7eae6\",\"type\":\"BasicTicker\"}},\"id\":\"56cb739c-1580-4c60-9fb3-39294bf9f394\",\"type\":\"LinearAxis\"},{\"attributes\":{\"fill_color\":{\"value\":\"firebrick\"},\"line_color\":{\"value\":\"firebrick\"},\"size\":{\"units\":\"screen\",\"value\":10},\"x\":{\"field\":\"x\"},\"y\":{\"field\":\"y\"}},\"id\":\"fd0c41fe-9377-4c48-b7cc-f0d5c285efb5\",\"type\":\"Triangle\"},{\"attributes\":{\"callback\":null,\"column_names\":[\"x\",\"y\"],\"data\":{\"x\":[0,1,2,3,4,5,6,7,8,9,10],\"y\":[10,9,8,7,6,5,4,3,2,1,0]}},\"id\":\"3a12bcf0-a6a5-4156-bccd-0486839cf7ee\",\"type\":\"ColumnDataSource\"},{\"attributes\":{},\"id\":\"27faa110-8be5-40a5-bd2d-8c5ffd954fcd\",\"type\":\"BasicTickFormatter\"},{\"attributes\":{},\"id\":\"756fd538-5f13-4ac1-9978-6f1dd48e345d\",\"type\":\"LinearScale\"},{\"attributes\":{},\"id\":\"8d658d4c-b27a-4038-9a10-4e0955608f3e\",\"type\":\"LinearScale\"},{\"attributes\":{\"plot\":{\"id\":\"b509b484-5021-49e1-a857-699c1317684c\",\"subtype\":\"Figure\",\"type\":\"Plot\"},\"ticker\":{\"id\":\"7c591be3-ada0-41b2-ab2a-1bf838d7eae6\",\"type\":\"BasicTicker\"}},\"id\":\"69d49e00-3373-4e58-9617-01ec7d7b9368\",\"type\":\"Grid\"},{\"attributes\":{},\"id\":\"7c591be3-ada0-41b2-ab2a-1bf838d7eae6\",\"type\":\"BasicTicker\"},{\"attributes\":{\"formatter\":{\"id\":\"74203e58-16b2-4894-98ff-bd4319bd9cfd\",\"type\":\"BasicTickFormatter\"},\"plot\":{\"id\":\"b509b484-5021-49e1-a857-699c1317684c\",\"subtype\":\"Figure\",\"type\":\"Plot\"},\"ticker\":{\"id\":\"b0056894-d636-45a5-bd0b-83503b182a53\",\"type\":\"BasicTicker\"}},\"id\":\"c9a3fc3b-cd43-4e82-aada-2fdea63afe0d\",\"type\":\"LinearAxis\"},{\"attributes\":{},\"id\":\"b0056894-d636-45a5-bd0b-83503b182a53\",\"type\":\"BasicTicker\"},{\"attributes\":{\"dimension\":1,\"plot\":{\"id\":\"b509b484-5021-49e1-a857-699c1317684c\",\"subtype\":\"Figure\",\"type\":\"Plot\"},\"ticker\":{\"id\":\"b0056894-d636-45a5-bd0b-83503b182a53\",\"type\":\"BasicTicker\"}},\"id\":\"c32ec806-b1cb-4a46-a4ad-27e494b177fe\",\"type\":\"Grid\"},{\"attributes\":{\"fill_color\":{\"value\":\"olive\"},\"line_color\":{\"value\":\"olive\"},\"size\":{\"units\":\"screen\",\"value\":10},\"x\":{\"field\":\"x\"},\"y\":{\"field\":\"y\"}},\"id\":\"7c0ba217-3b08-4466-85df-456e7da83c4e\",\"type\":\"Square\"},{\"attributes\":{},\"id\":\"34e07c46-b794-4ea6-b29f-33770f379d2a\",\"type\":\"PanTool\"},{\"attributes\":{\"below\":[{\"id\":\"69d5744d-c5fd-4a12-8ed6-1325dc250248\",\"type\":\"LinearAxis\"}],\"left\":[{\"id\":\"bccb98fd-c7e0-45fc-a2cf-32be00a4d8a8\",\"type\":\"LinearAxis\"}],\"plot_height\":250,\"plot_width\":250,\"renderers\":[{\"id\":\"69d5744d-c5fd-4a12-8ed6-1325dc250248\",\"type\":\"LinearAxis\"},{\"id\":\"433259f5-0452-420e-8d5e-d0d0d19b9bff\",\"type\":\"Grid\"},{\"id\":\"bccb98fd-c7e0-45fc-a2cf-32be00a4d8a8\",\"type\":\"LinearAxis\"},{\"id\":\"bd63bfcd-e7a9-4b3f-be47-803731505bec\",\"type\":\"Grid\"},{\"id\":\"0504bc6a-d633-4cf3-93cd-8a3bfa010050\",\"type\":\"GlyphRenderer\"}],\"title\":{\"id\":\"95366f6c-f0a0-4915-9c28-cdf0ed832935\",\"type\":\"Title\"},\"toolbar\":{\"id\":\"9846b77a-0329-4267-9710-b0a6ba6f5e57\",\"type\":\"Toolbar\"},\"toolbar_location\":null,\"x_range\":{\"id\":\"a68ab40d-a557-4a24-8818-4d99d02451c9\",\"type\":\"DataRange1d\"},\"x_scale\":{\"id\":\"f5162f78-9b20-4387-b269-96db1c534422\",\"type\":\"LinearScale\"},\"y_range\":{\"id\":\"7929dd29-18c4-452d-bce2-da45acb4a530\",\"type\":\"DataRange1d\"},\"y_scale\":{\"id\":\"bc4e7731-d5b9-4d1d-bf7c-ac33f3ebd6a8\",\"type\":\"LinearScale\"}},\"id\":\"45bca049-45e1-487b-b320-ad72139ac7fa\",\"subtype\":\"Figure\",\"type\":\"Plot\"},{\"attributes\":{},\"id\":\"d8ebace5-0417-4102-8159-fcb5da50e5e8\",\"type\":\"WheelZoomTool\"},{\"attributes\":{\"callback\":null},\"id\":\"a68ab40d-a557-4a24-8818-4d99d02451c9\",\"type\":\"DataRange1d\"},{\"attributes\":{\"fill_alpha\":{\"value\":0.1},\"fill_color\":{\"value\":\"#1f77b4\"},\"line_alpha\":{\"value\":0.1},\"line_color\":{\"value\":\"#1f77b4\"},\"size\":{\"units\":\"screen\",\"value\":10},\"x\":{\"field\":\"x\"},\"y\":{\"field\":\"y\"}},\"id\":\"b19eff5e-c90f-4471-92d9-8adba007c7a9\",\"type\":\"Triangle\"},{\"attributes\":{\"data_source\":{\"id\":\"3a12bcf0-a6a5-4156-bccd-0486839cf7ee\",\"type\":\"ColumnDataSource\"},\"glyph\":{\"id\":\"fd0c41fe-9377-4c48-b7cc-f0d5c285efb5\",\"type\":\"Triangle\"},\"hover_glyph\":null,\"muted_glyph\":null,\"nonselection_glyph\":{\"id\":\"b19eff5e-c90f-4471-92d9-8adba007c7a9\",\"type\":\"Triangle\"},\"selection_glyph\":null,\"view\":{\"id\":\"2a0ac4ea-328c-4bba-864e-12d3fd3440dc\",\"type\":\"CDSView\"}},\"id\":\"189188a7-9753-4dcc-a69e-e0ab00f1ee21\",\"type\":\"GlyphRenderer\"},{\"attributes\":{\"source\":{\"id\":\"3a12bcf0-a6a5-4156-bccd-0486839cf7ee\",\"type\":\"ColumnDataSource\"}},\"id\":\"2a0ac4ea-328c-4bba-864e-12d3fd3440dc\",\"type\":\"CDSView\"},{\"attributes\":{\"active_drag\":\"auto\",\"active_inspect\":\"auto\",\"active_scroll\":\"auto\",\"active_tap\":\"auto\",\"tools\":[{\"id\":\"e53b231a-12fa-4478-8c11-4b7397a64133\",\"type\":\"PanTool\"},{\"id\":\"081df34f-6443-44cb-b446-8719468dd055\",\"type\":\"WheelZoomTool\"}]},\"id\":\"9846b77a-0329-4267-9710-b0a6ba6f5e57\",\"type\":\"Toolbar\"},{\"attributes\":{\"plot\":null,\"text\":\"\"},\"id\":\"2df4992e-73bc-4222-9587-7b98444ead3e\",\"type\":\"Title\"},{\"attributes\":{\"plot\":{\"id\":\"45bca049-45e1-487b-b320-ad72139ac7fa\",\"subtype\":\"Figure\",\"type\":\"Plot\"},\"ticker\":{\"id\":\"1566b6f1-27f8-4a5e-ae04-fdce39bf974c\",\"type\":\"BasicTicker\"}},\"id\":\"433259f5-0452-420e-8d5e-d0d0d19b9bff\",\"type\":\"Grid\"},{\"attributes\":{\"children\":[{\"id\":\"00fbb551-bdca-4291-b346-2e1b192b7737\",\"type\":\"Row\"}]},\"id\":\"718ebac7-6054-48bb-b77f-41097460deff\",\"type\":\"Column\"},{\"attributes\":{\"callback\":null,\"column_names\":[\"x\",\"y\"],\"data\":{\"x\":[0,1,2,3,4,5,6,7,8,9,10],\"y\":[5,4,3,2,1,0,1,2,3,4,5]}},\"id\":\"9fad3a84-286e-4950-985a-043bc66240a4\",\"type\":\"ColumnDataSource\"},{\"attributes\":{},\"id\":\"48dfee70-1662-4a4a-ba6c-d10159abd7af\",\"type\":\"BasicTickFormatter\"},{\"attributes\":{\"callback\":null},\"id\":\"7929dd29-18c4-452d-bce2-da45acb4a530\",\"type\":\"DataRange1d\"},{\"attributes\":{},\"id\":\"f5162f78-9b20-4387-b269-96db1c534422\",\"type\":\"LinearScale\"},{\"attributes\":{},\"id\":\"bc4e7731-d5b9-4d1d-bf7c-ac33f3ebd6a8\",\"type\":\"LinearScale\"},{\"attributes\":{\"formatter\":{\"id\":\"cac3ba88-39aa-4e46-af49-1b86c7e5ac6a\",\"type\":\"BasicTickFormatter\"},\"plot\":{\"id\":\"45bca049-45e1-487b-b320-ad72139ac7fa\",\"subtype\":\"Figure\",\"type\":\"Plot\"},\"ticker\":{\"id\":\"1566b6f1-27f8-4a5e-ae04-fdce39bf974c\",\"type\":\"BasicTicker\"}},\"id\":\"69d5744d-c5fd-4a12-8ed6-1325dc250248\",\"type\":\"LinearAxis\"},{\"attributes\":{},\"id\":\"1566b6f1-27f8-4a5e-ae04-fdce39bf974c\",\"type\":\"BasicTicker\"},{\"attributes\":{\"formatter\":{\"id\":\"dcba2e06-c382-4760-94fb-da1fa518aef9\",\"type\":\"BasicTickFormatter\"},\"plot\":{\"id\":\"45bca049-45e1-487b-b320-ad72139ac7fa\",\"subtype\":\"Figure\",\"type\":\"Plot\"},\"ticker\":{\"id\":\"deddd126-3611-4bab-9b8e-ef1f13145bee\",\"type\":\"BasicTicker\"}},\"id\":\"bccb98fd-c7e0-45fc-a2cf-32be00a4d8a8\",\"type\":\"LinearAxis\"},{\"attributes\":{},\"id\":\"deddd126-3611-4bab-9b8e-ef1f13145bee\",\"type\":\"BasicTicker\"},{\"attributes\":{\"dimension\":1,\"plot\":{\"id\":\"45bca049-45e1-487b-b320-ad72139ac7fa\",\"subtype\":\"Figure\",\"type\":\"Plot\"},\"ticker\":{\"id\":\"deddd126-3611-4bab-9b8e-ef1f13145bee\",\"type\":\"BasicTicker\"}},\"id\":\"bd63bfcd-e7a9-4b3f-be47-803731505bec\",\"type\":\"Grid\"},{\"attributes\":{\"children\":[{\"id\":\"4803dce9-1121-4252-9e87-19162f8bc3cc\",\"subtype\":\"Figure\",\"type\":\"Plot\"},{\"id\":\"b509b484-5021-49e1-a857-699c1317684c\",\"subtype\":\"Figure\",\"type\":\"Plot\"},{\"id\":\"45bca049-45e1-487b-b320-ad72139ac7fa\",\"subtype\":\"Figure\",\"type\":\"Plot\"}]},\"id\":\"00fbb551-bdca-4291-b346-2e1b192b7737\",\"type\":\"Row\"},{\"attributes\":{},\"id\":\"e53b231a-12fa-4478-8c11-4b7397a64133\",\"type\":\"PanTool\"}],\"root_ids\":[\"aa5d5ab1-0989-4d5a-9fee-505552a28dd8\"]},\"title\":\"Bokeh Application\",\"version\":\"0.12.13\"}};\n",
       "  var render_items = [{\"docid\":\"17fd02e1-4685-486b-b676-f577c1fd53d1\",\"elementid\":\"7c9fcb47-fe19-46ac-90d5-9b21f1ef6b09\",\"modelid\":\"aa5d5ab1-0989-4d5a-9fee-505552a28dd8\"}];\n",
       "  root.Bokeh.embed.embed_items_notebook(docs_json, render_items);\n",
       "\n",
       "  }\n",
       "  if (root.Bokeh !== undefined) {\n",
       "    embed_document(root);\n",
       "  } else {\n",
       "    var attempts = 0;\n",
       "    var timer = setInterval(function(root) {\n",
       "      if (root.Bokeh !== undefined) {\n",
       "        embed_document(root);\n",
       "        clearInterval(timer);\n",
       "      }\n",
       "      attempts++;\n",
       "      if (attempts > 100) {\n",
       "        console.log(\"Bokeh: ERROR: Unable to run BokehJS code because BokehJS library is missing\")\n",
       "        clearInterval(timer);\n",
       "      }\n",
       "    }, 10, root)\n",
       "  }\n",
       "})(window);"
      ],
      "application/vnd.bokehjs_exec.v0+json": ""
     },
     "metadata": {
      "application/vnd.bokehjs_exec.v0+json": {
       "id": "aa5d5ab1-0989-4d5a-9fee-505552a28dd8"
      }
     },
     "output_type": "display_data"
    }
   ],
   "source": [
    "from bokeh.layouts import gridplot\n",
    "\n",
    "x = list(range(11))\n",
    "y0, y1, y2 = x, [10-i for i in x], [abs(i-5) for i in x]\n",
    "\n",
    "plot_options = dict(width=250, plot_height=250, tools='pan,wheel_zoom')\n",
    "\n",
    "# create a new plot\n",
    "s1 = figure(**plot_options)\n",
    "s1.circle(x, y0, size=10, color=\"navy\")\n",
    "\n",
    "# create a new plot and share both ranges\n",
    "s2 = figure(x_range=s1.x_range, y_range=s1.y_range, **plot_options)\n",
    "s2.triangle(x, y1, size=10, color=\"firebrick\")\n",
    "\n",
    "# create a new plot and share only one range\n",
    "s3 = figure(x_range=s1.x_range, **plot_options)\n",
    "s3.square(x, y2, size=10, color=\"olive\")\n",
    "\n",
    "p = gridplot([[s1, s2, s3]])\n",
    "\n",
    "# show the results\n",
    "show(p)"
   ]
  },
  {
   "cell_type": "code",
   "execution_count": null,
   "metadata": {
    "collapsed": true
   },
   "outputs": [],
   "source": [
    "# EXERCISE: create two plots in a gridplot, and link their ranges\n"
   ]
  },
  {
   "cell_type": "markdown",
   "metadata": {},
   "source": [
    "## Linked brushing\n",
    "\n",
    "Linking selections is accomplished in a similar way, by sharing data sources between plots. Note that normally with ``bokeh.plotting`` and ``bokeh.charts`` creating a default data source for simple plots is handled automatically. However to share a data source, we must create them by hand and pass them explicitly. This is illustrated in the example below:"
   ]
  },
  {
   "cell_type": "code",
   "execution_count": 4,
   "metadata": {},
   "outputs": [
    {
     "data": {
      "text/html": [
       "\n",
       "<div class=\"bk-root\">\n",
       "    <div class=\"bk-plotdiv\" id=\"d86be7b9-406d-4d3c-8d26-e4aba6f4d275\"></div>\n",
       "</div>"
      ]
     },
     "metadata": {},
     "output_type": "display_data"
    },
    {
     "data": {
      "application/javascript": [
       "(function(root) {\n",
       "  function embed_document(root) {\n",
       "    \n",
       "  var docs_json = {\"fa878191-28a7-4448-bd53-f76899da1811\":{\"roots\":{\"references\":[{\"attributes\":{\"callback\":null,\"overlay\":{\"id\":\"67cd8ffa-a629-411e-b9e4-cca9dee5c3d2\",\"type\":\"BoxAnnotation\"},\"renderers\":[{\"id\":\"d7840a88-c7f7-47ec-a365-16fd121b4add\",\"type\":\"GlyphRenderer\"}]},\"id\":\"af387e92-3f3a-414a-ab42-ef8c7f1568ed\",\"type\":\"BoxSelectTool\"},{\"attributes\":{\"fill_alpha\":{\"value\":0.1},\"fill_color\":{\"value\":\"#1f77b4\"},\"line_alpha\":{\"value\":0.1},\"line_color\":{\"value\":\"#1f77b4\"},\"x\":{\"field\":\"x\"},\"y\":{\"field\":\"y0\"}},\"id\":\"e430b6b4-f57c-444f-877c-a312ead9544d\",\"type\":\"Circle\"},{\"attributes\":{\"formatter\":{\"id\":\"6a14ccd6-83db-4d64-a606-4e154a55c56c\",\"type\":\"BasicTickFormatter\"},\"plot\":{\"id\":\"840e7aa2-0778-45ec-aba2-2d524fdd76ed\",\"subtype\":\"Figure\",\"type\":\"Plot\"},\"ticker\":{\"id\":\"80ebb696-92b2-4cda-a69a-fe534cd0ebe1\",\"type\":\"BasicTicker\"}},\"id\":\"e3a1c862-6dec-4040-92f0-f0cd66c8ba30\",\"type\":\"LinearAxis\"},{\"attributes\":{},\"id\":\"cb59d78d-4837-45ee-8bb2-8af57c00572f\",\"type\":\"BasicTicker\"},{\"attributes\":{\"bottom_units\":\"screen\",\"fill_alpha\":{\"value\":0.5},\"fill_color\":{\"value\":\"lightgrey\"},\"left_units\":\"screen\",\"level\":\"overlay\",\"line_alpha\":{\"value\":1.0},\"line_color\":{\"value\":\"black\"},\"line_dash\":[4,4],\"line_width\":{\"value\":2},\"plot\":null,\"render_mode\":\"css\",\"right_units\":\"screen\",\"top_units\":\"screen\"},\"id\":\"23201887-e6a2-4be9-b91f-e1ac2d03abb4\",\"type\":\"BoxAnnotation\"},{\"attributes\":{},\"id\":\"0e7ac2f4-368e-4c87-9585-eb8e3fb17d66\",\"type\":\"HelpTool\"},{\"attributes\":{\"callback\":null,\"overlay\":{\"id\":\"64460d39-193f-42ee-9b4d-e42b5678fc0a\",\"type\":\"PolyAnnotation\"}},\"id\":\"df21e3e3-a06b-46f5-a5e9-8b7b14edb80d\",\"type\":\"LassoSelectTool\"},{\"attributes\":{\"formatter\":{\"id\":\"7f11afc6-6d14-4048-954f-0f5aba18d3f1\",\"type\":\"BasicTickFormatter\"},\"plot\":{\"id\":\"dbc4c52e-27d3-46bb-8900-f561acc83dca\",\"subtype\":\"Figure\",\"type\":\"Plot\"},\"ticker\":{\"id\":\"242c40a3-9791-46b4-bbd2-9308dbc9fa32\",\"type\":\"BasicTicker\"}},\"id\":\"5e01f759-e321-44ae-8f0a-c67fb46f364a\",\"type\":\"LinearAxis\"},{\"attributes\":{\"below\":[{\"id\":\"5e01f759-e321-44ae-8f0a-c67fb46f364a\",\"type\":\"LinearAxis\"}],\"left\":[{\"id\":\"7ac32492-ee38-4851-864f-7138ee9f8b1d\",\"type\":\"LinearAxis\"}],\"plot_height\":300,\"plot_width\":300,\"renderers\":[{\"id\":\"5e01f759-e321-44ae-8f0a-c67fb46f364a\",\"type\":\"LinearAxis\"},{\"id\":\"74574efa-e1e8-408e-bb5b-de3d17b428e0\",\"type\":\"Grid\"},{\"id\":\"7ac32492-ee38-4851-864f-7138ee9f8b1d\",\"type\":\"LinearAxis\"},{\"id\":\"6f49f5f1-a517-4075-9b8f-a93b5375cb6a\",\"type\":\"Grid\"},{\"id\":\"23201887-e6a2-4be9-b91f-e1ac2d03abb4\",\"type\":\"BoxAnnotation\"},{\"id\":\"a70b95de-323e-4074-b564-d18a47fa59d9\",\"type\":\"PolyAnnotation\"},{\"id\":\"3f218d01-af0e-48f0-98b8-6fb603138cdc\",\"type\":\"GlyphRenderer\"}],\"title\":{\"id\":\"6d12dd4c-bb8e-4bb2-9350-7a8c69c6114d\",\"type\":\"Title\"},\"toolbar\":{\"id\":\"68fa2b64-8890-4e2c-a17c-d47d70d506d6\",\"type\":\"Toolbar\"},\"toolbar_location\":null,\"x_range\":{\"id\":\"6e94f2b9-7663-4a01-bf76-2755dc0cd32c\",\"type\":\"DataRange1d\"},\"x_scale\":{\"id\":\"77eb0caa-7cb4-459d-b8ef-b270b72b39dd\",\"type\":\"LinearScale\"},\"y_range\":{\"id\":\"9dc12c13-8ea0-4abd-9b41-ecdc38010ed4\",\"type\":\"DataRange1d\"},\"y_scale\":{\"id\":\"a2e39e0f-e6d0-43c4-a7ab-58bc25fa80bd\",\"type\":\"LinearScale\"}},\"id\":\"dbc4c52e-27d3-46bb-8900-f561acc83dca\",\"subtype\":\"Figure\",\"type\":\"Plot\"},{\"attributes\":{\"plot\":null,\"text\":\"\"},\"id\":\"41dacab9-ac58-40db-b297-889899307ad1\",\"type\":\"Title\"},{\"attributes\":{\"fill_alpha\":{\"value\":0.5},\"fill_color\":{\"value\":\"lightgrey\"},\"level\":\"overlay\",\"line_alpha\":{\"value\":1.0},\"line_color\":{\"value\":\"black\"},\"line_dash\":[4,4],\"line_width\":{\"value\":2},\"plot\":null,\"xs_units\":\"screen\",\"ys_units\":\"screen\"},\"id\":\"64460d39-193f-42ee-9b4d-e42b5678fc0a\",\"type\":\"PolyAnnotation\"},{\"attributes\":{},\"id\":\"77eb0caa-7cb4-459d-b8ef-b270b72b39dd\",\"type\":\"LinearScale\"},{\"attributes\":{\"callback\":null},\"id\":\"9dc12c13-8ea0-4abd-9b41-ecdc38010ed4\",\"type\":\"DataRange1d\"},{\"attributes\":{\"plot\":{\"id\":\"dbc4c52e-27d3-46bb-8900-f561acc83dca\",\"subtype\":\"Figure\",\"type\":\"Plot\"},\"ticker\":{\"id\":\"242c40a3-9791-46b4-bbd2-9308dbc9fa32\",\"type\":\"BasicTicker\"}},\"id\":\"74574efa-e1e8-408e-bb5b-de3d17b428e0\",\"type\":\"Grid\"},{\"attributes\":{},\"id\":\"6a14ccd6-83db-4d64-a606-4e154a55c56c\",\"type\":\"BasicTickFormatter\"},{\"attributes\":{},\"id\":\"82008497-ab40-4a75-be50-c17f8d90b340\",\"type\":\"BasicTicker\"},{\"attributes\":{\"formatter\":{\"id\":\"7f80096b-1eb3-471a-89a1-c767c693bdcc\",\"type\":\"BasicTickFormatter\"},\"plot\":{\"id\":\"dbc4c52e-27d3-46bb-8900-f561acc83dca\",\"subtype\":\"Figure\",\"type\":\"Plot\"},\"ticker\":{\"id\":\"82008497-ab40-4a75-be50-c17f8d90b340\",\"type\":\"BasicTicker\"}},\"id\":\"7ac32492-ee38-4851-864f-7138ee9f8b1d\",\"type\":\"LinearAxis\"},{\"attributes\":{\"callback\":null},\"id\":\"6e94f2b9-7663-4a01-bf76-2755dc0cd32c\",\"type\":\"DataRange1d\"},{\"attributes\":{},\"id\":\"242c40a3-9791-46b4-bbd2-9308dbc9fa32\",\"type\":\"BasicTicker\"},{\"attributes\":{\"children\":[{\"id\":\"2e1acf16-052c-4f4c-8a15-ad534fdb2553\",\"type\":\"Row\"}]},\"id\":\"2f78a218-aaae-4b5d-9ad6-aa28f9b1878c\",\"type\":\"Column\"},{\"attributes\":{\"source\":{\"id\":\"20c2a530-aa7d-4960-8440-eb095b82ebc0\",\"type\":\"ColumnDataSource\"}},\"id\":\"00082e38-05d7-4ebe-ae4c-f9cd63c9ac50\",\"type\":\"CDSView\"},{\"attributes\":{},\"id\":\"7f11afc6-6d14-4048-954f-0f5aba18d3f1\",\"type\":\"BasicTickFormatter\"},{\"attributes\":{\"below\":[{\"id\":\"dd808846-3945-4406-9046-dbbd030b4155\",\"type\":\"LinearAxis\"}],\"left\":[{\"id\":\"e3a1c862-6dec-4040-92f0-f0cd66c8ba30\",\"type\":\"LinearAxis\"}],\"plot_height\":300,\"plot_width\":300,\"renderers\":[{\"id\":\"dd808846-3945-4406-9046-dbbd030b4155\",\"type\":\"LinearAxis\"},{\"id\":\"80df5781-2950-46e2-993d-281974cd2806\",\"type\":\"Grid\"},{\"id\":\"e3a1c862-6dec-4040-92f0-f0cd66c8ba30\",\"type\":\"LinearAxis\"},{\"id\":\"80878720-495c-4031-94d0-ce98e4688fb5\",\"type\":\"Grid\"},{\"id\":\"67cd8ffa-a629-411e-b9e4-cca9dee5c3d2\",\"type\":\"BoxAnnotation\"},{\"id\":\"64460d39-193f-42ee-9b4d-e42b5678fc0a\",\"type\":\"PolyAnnotation\"},{\"id\":\"d7840a88-c7f7-47ec-a365-16fd121b4add\",\"type\":\"GlyphRenderer\"}],\"title\":{\"id\":\"41dacab9-ac58-40db-b297-889899307ad1\",\"type\":\"Title\"},\"toolbar\":{\"id\":\"994d0f57-f0b5-49a5-ab5e-46c00243755c\",\"type\":\"Toolbar\"},\"toolbar_location\":null,\"x_range\":{\"id\":\"eb1a57ac-482c-4f79-8ea0-a841dffa4051\",\"type\":\"DataRange1d\"},\"x_scale\":{\"id\":\"eec8aff4-b6fc-4434-85cf-d63109d69462\",\"type\":\"LinearScale\"},\"y_range\":{\"id\":\"10bb070d-d76a-46a0-9f56-9c17990c9552\",\"type\":\"DataRange1d\"},\"y_scale\":{\"id\":\"b2cf6b12-71dd-481e-a666-7a73c4f0c634\",\"type\":\"LinearScale\"}},\"id\":\"840e7aa2-0778-45ec-aba2-2d524fdd76ed\",\"subtype\":\"Figure\",\"type\":\"Plot\"},{\"attributes\":{},\"id\":\"a2e39e0f-e6d0-43c4-a7ab-58bc25fa80bd\",\"type\":\"LinearScale\"},{\"attributes\":{\"fill_color\":{\"value\":\"#1f77b4\"},\"line_color\":{\"value\":\"#1f77b4\"},\"x\":{\"field\":\"x\"},\"y\":{\"field\":\"y0\"}},\"id\":\"dce7edb6-c70c-4f1f-b408-37c75f0e37d7\",\"type\":\"Circle\"},{\"attributes\":{},\"id\":\"e1413305-ad26-44e3-9f0d-b6cf7854b3f0\",\"type\":\"BasicTickFormatter\"},{\"attributes\":{\"children\":[{\"id\":\"840e7aa2-0778-45ec-aba2-2d524fdd76ed\",\"subtype\":\"Figure\",\"type\":\"Plot\"},{\"id\":\"dbc4c52e-27d3-46bb-8900-f561acc83dca\",\"subtype\":\"Figure\",\"type\":\"Plot\"}]},\"id\":\"2e1acf16-052c-4f4c-8a15-ad534fdb2553\",\"type\":\"Row\"},{\"attributes\":{\"toolbar\":{\"id\":\"26d81542-9b54-4868-97d1-0ba15022c315\",\"type\":\"ProxyToolbar\"},\"toolbar_location\":\"above\"},\"id\":\"6e9e3800-352a-4a49-8a23-139a1b39564e\",\"type\":\"ToolbarBox\"},{\"attributes\":{\"dimension\":1,\"plot\":{\"id\":\"dbc4c52e-27d3-46bb-8900-f561acc83dca\",\"subtype\":\"Figure\",\"type\":\"Plot\"},\"ticker\":{\"id\":\"82008497-ab40-4a75-be50-c17f8d90b340\",\"type\":\"BasicTicker\"}},\"id\":\"6f49f5f1-a517-4075-9b8f-a93b5375cb6a\",\"type\":\"Grid\"},{\"attributes\":{\"fill_alpha\":{\"value\":0.1},\"fill_color\":{\"value\":\"#1f77b4\"},\"line_alpha\":{\"value\":0.1},\"line_color\":{\"value\":\"#1f77b4\"},\"x\":{\"field\":\"x\"},\"y\":{\"field\":\"y1\"}},\"id\":\"6987533e-3803-4cf7-a749-9b22104e10fb\",\"type\":\"Circle\"},{\"attributes\":{\"formatter\":{\"id\":\"e1413305-ad26-44e3-9f0d-b6cf7854b3f0\",\"type\":\"BasicTickFormatter\"},\"plot\":{\"id\":\"840e7aa2-0778-45ec-aba2-2d524fdd76ed\",\"subtype\":\"Figure\",\"type\":\"Plot\"},\"ticker\":{\"id\":\"cb59d78d-4837-45ee-8bb2-8af57c00572f\",\"type\":\"BasicTicker\"}},\"id\":\"dd808846-3945-4406-9046-dbbd030b4155\",\"type\":\"LinearAxis\"},{\"attributes\":{\"callback\":null,\"overlay\":{\"id\":\"23201887-e6a2-4be9-b91f-e1ac2d03abb4\",\"type\":\"BoxAnnotation\"},\"renderers\":[{\"id\":\"3f218d01-af0e-48f0-98b8-6fb603138cdc\",\"type\":\"GlyphRenderer\"}]},\"id\":\"81bb585a-4e14-44c1-b174-45ad160669af\",\"type\":\"BoxSelectTool\"},{\"attributes\":{\"plot\":{\"id\":\"840e7aa2-0778-45ec-aba2-2d524fdd76ed\",\"subtype\":\"Figure\",\"type\":\"Plot\"},\"ticker\":{\"id\":\"cb59d78d-4837-45ee-8bb2-8af57c00572f\",\"type\":\"BasicTicker\"}},\"id\":\"80df5781-2950-46e2-993d-281974cd2806\",\"type\":\"Grid\"},{\"attributes\":{},\"id\":\"1146ad71-5919-4fdf-8359-3b3cbd607a12\",\"type\":\"HelpTool\"},{\"attributes\":{\"active_drag\":\"auto\",\"active_inspect\":\"auto\",\"active_scroll\":\"auto\",\"active_tap\":\"auto\",\"tools\":[{\"id\":\"81bb585a-4e14-44c1-b174-45ad160669af\",\"type\":\"BoxSelectTool\"},{\"id\":\"579ff8a3-3d3c-448a-9e45-4e2b21f83c4b\",\"type\":\"LassoSelectTool\"},{\"id\":\"1146ad71-5919-4fdf-8359-3b3cbd607a12\",\"type\":\"HelpTool\"}]},\"id\":\"68fa2b64-8890-4e2c-a17c-d47d70d506d6\",\"type\":\"Toolbar\"},{\"attributes\":{\"callback\":null,\"overlay\":{\"id\":\"a70b95de-323e-4074-b564-d18a47fa59d9\",\"type\":\"PolyAnnotation\"}},\"id\":\"579ff8a3-3d3c-448a-9e45-4e2b21f83c4b\",\"type\":\"LassoSelectTool\"},{\"attributes\":{},\"id\":\"b2cf6b12-71dd-481e-a666-7a73c4f0c634\",\"type\":\"LinearScale\"},{\"attributes\":{\"data_source\":{\"id\":\"20c2a530-aa7d-4960-8440-eb095b82ebc0\",\"type\":\"ColumnDataSource\"},\"glyph\":{\"id\":\"dce7edb6-c70c-4f1f-b408-37c75f0e37d7\",\"type\":\"Circle\"},\"hover_glyph\":null,\"muted_glyph\":null,\"nonselection_glyph\":{\"id\":\"e430b6b4-f57c-444f-877c-a312ead9544d\",\"type\":\"Circle\"},\"selection_glyph\":null,\"view\":{\"id\":\"00082e38-05d7-4ebe-ae4c-f9cd63c9ac50\",\"type\":\"CDSView\"}},\"id\":\"d7840a88-c7f7-47ec-a365-16fd121b4add\",\"type\":\"GlyphRenderer\"},{\"attributes\":{\"source\":{\"id\":\"20c2a530-aa7d-4960-8440-eb095b82ebc0\",\"type\":\"ColumnDataSource\"}},\"id\":\"77d26104-7da3-430d-9687-9dc516ae570d\",\"type\":\"CDSView\"},{\"attributes\":{},\"id\":\"eec8aff4-b6fc-4434-85cf-d63109d69462\",\"type\":\"LinearScale\"},{\"attributes\":{\"fill_alpha\":{\"value\":0.5},\"fill_color\":{\"value\":\"lightgrey\"},\"level\":\"overlay\",\"line_alpha\":{\"value\":1.0},\"line_color\":{\"value\":\"black\"},\"line_dash\":[4,4],\"line_width\":{\"value\":2},\"plot\":null,\"xs_units\":\"screen\",\"ys_units\":\"screen\"},\"id\":\"a70b95de-323e-4074-b564-d18a47fa59d9\",\"type\":\"PolyAnnotation\"},{\"attributes\":{},\"id\":\"7f80096b-1eb3-471a-89a1-c767c693bdcc\",\"type\":\"BasicTickFormatter\"},{\"attributes\":{\"data_source\":{\"id\":\"20c2a530-aa7d-4960-8440-eb095b82ebc0\",\"type\":\"ColumnDataSource\"},\"glyph\":{\"id\":\"fd329e33-a12b-41bd-946b-8f37a333dc59\",\"type\":\"Circle\"},\"hover_glyph\":null,\"muted_glyph\":null,\"nonselection_glyph\":{\"id\":\"6987533e-3803-4cf7-a749-9b22104e10fb\",\"type\":\"Circle\"},\"selection_glyph\":null,\"view\":{\"id\":\"77d26104-7da3-430d-9687-9dc516ae570d\",\"type\":\"CDSView\"}},\"id\":\"3f218d01-af0e-48f0-98b8-6fb603138cdc\",\"type\":\"GlyphRenderer\"},{\"attributes\":{\"bottom_units\":\"screen\",\"fill_alpha\":{\"value\":0.5},\"fill_color\":{\"value\":\"lightgrey\"},\"left_units\":\"screen\",\"level\":\"overlay\",\"line_alpha\":{\"value\":1.0},\"line_color\":{\"value\":\"black\"},\"line_dash\":[4,4],\"line_width\":{\"value\":2},\"plot\":null,\"render_mode\":\"css\",\"right_units\":\"screen\",\"top_units\":\"screen\"},\"id\":\"67cd8ffa-a629-411e-b9e4-cca9dee5c3d2\",\"type\":\"BoxAnnotation\"},{\"attributes\":{\"callback\":null},\"id\":\"10bb070d-d76a-46a0-9f56-9c17990c9552\",\"type\":\"DataRange1d\"},{\"attributes\":{\"callback\":null,\"column_names\":[\"x\",\"y0\",\"y1\"],\"data\":{\"x\":[-20,-19,-18,-17,-16,-15,-14,-13,-12,-11,-10,-9,-8,-7,-6,-5,-4,-3,-2,-1,0,1,2,3,4,5,6,7,8,9,10,11,12,13,14,15,16,17,18,19,20],\"y0\":[20,19,18,17,16,15,14,13,12,11,10,9,8,7,6,5,4,3,2,1,0,1,2,3,4,5,6,7,8,9,10,11,12,13,14,15,16,17,18,19,20],\"y1\":[400,361,324,289,256,225,196,169,144,121,100,81,64,49,36,25,16,9,4,1,0,1,4,9,16,25,36,49,64,81,100,121,144,169,196,225,256,289,324,361,400]}},\"id\":\"20c2a530-aa7d-4960-8440-eb095b82ebc0\",\"type\":\"ColumnDataSource\"},{\"attributes\":{\"active_drag\":\"auto\",\"active_inspect\":\"auto\",\"active_scroll\":\"auto\",\"active_tap\":\"auto\",\"tools\":[{\"id\":\"af387e92-3f3a-414a-ab42-ef8c7f1568ed\",\"type\":\"BoxSelectTool\"},{\"id\":\"df21e3e3-a06b-46f5-a5e9-8b7b14edb80d\",\"type\":\"LassoSelectTool\"},{\"id\":\"0e7ac2f4-368e-4c87-9585-eb8e3fb17d66\",\"type\":\"HelpTool\"}]},\"id\":\"994d0f57-f0b5-49a5-ab5e-46c00243755c\",\"type\":\"Toolbar\"},{\"attributes\":{\"callback\":null},\"id\":\"eb1a57ac-482c-4f79-8ea0-a841dffa4051\",\"type\":\"DataRange1d\"},{\"attributes\":{\"plot\":null,\"text\":\"\"},\"id\":\"6d12dd4c-bb8e-4bb2-9350-7a8c69c6114d\",\"type\":\"Title\"},{\"attributes\":{},\"id\":\"80ebb696-92b2-4cda-a69a-fe534cd0ebe1\",\"type\":\"BasicTicker\"},{\"attributes\":{\"tools\":[{\"id\":\"af387e92-3f3a-414a-ab42-ef8c7f1568ed\",\"type\":\"BoxSelectTool\"},{\"id\":\"df21e3e3-a06b-46f5-a5e9-8b7b14edb80d\",\"type\":\"LassoSelectTool\"},{\"id\":\"0e7ac2f4-368e-4c87-9585-eb8e3fb17d66\",\"type\":\"HelpTool\"},{\"id\":\"81bb585a-4e14-44c1-b174-45ad160669af\",\"type\":\"BoxSelectTool\"},{\"id\":\"579ff8a3-3d3c-448a-9e45-4e2b21f83c4b\",\"type\":\"LassoSelectTool\"},{\"id\":\"1146ad71-5919-4fdf-8359-3b3cbd607a12\",\"type\":\"HelpTool\"}]},\"id\":\"26d81542-9b54-4868-97d1-0ba15022c315\",\"type\":\"ProxyToolbar\"},{\"attributes\":{\"fill_color\":{\"value\":\"#1f77b4\"},\"line_color\":{\"value\":\"#1f77b4\"},\"x\":{\"field\":\"x\"},\"y\":{\"field\":\"y1\"}},\"id\":\"fd329e33-a12b-41bd-946b-8f37a333dc59\",\"type\":\"Circle\"},{\"attributes\":{\"children\":[{\"id\":\"6e9e3800-352a-4a49-8a23-139a1b39564e\",\"type\":\"ToolbarBox\"},{\"id\":\"2f78a218-aaae-4b5d-9ad6-aa28f9b1878c\",\"type\":\"Column\"}]},\"id\":\"517d839f-03f0-4321-b16c-84761c873db0\",\"type\":\"Column\"},{\"attributes\":{\"dimension\":1,\"plot\":{\"id\":\"840e7aa2-0778-45ec-aba2-2d524fdd76ed\",\"subtype\":\"Figure\",\"type\":\"Plot\"},\"ticker\":{\"id\":\"80ebb696-92b2-4cda-a69a-fe534cd0ebe1\",\"type\":\"BasicTicker\"}},\"id\":\"80878720-495c-4031-94d0-ce98e4688fb5\",\"type\":\"Grid\"}],\"root_ids\":[\"517d839f-03f0-4321-b16c-84761c873db0\"]},\"title\":\"Bokeh Application\",\"version\":\"0.12.13\"}};\n",
       "  var render_items = [{\"docid\":\"fa878191-28a7-4448-bd53-f76899da1811\",\"elementid\":\"d86be7b9-406d-4d3c-8d26-e4aba6f4d275\",\"modelid\":\"517d839f-03f0-4321-b16c-84761c873db0\"}];\n",
       "  root.Bokeh.embed.embed_items_notebook(docs_json, render_items);\n",
       "\n",
       "  }\n",
       "  if (root.Bokeh !== undefined) {\n",
       "    embed_document(root);\n",
       "  } else {\n",
       "    var attempts = 0;\n",
       "    var timer = setInterval(function(root) {\n",
       "      if (root.Bokeh !== undefined) {\n",
       "        embed_document(root);\n",
       "        clearInterval(timer);\n",
       "      }\n",
       "      attempts++;\n",
       "      if (attempts > 100) {\n",
       "        console.log(\"Bokeh: ERROR: Unable to run BokehJS code because BokehJS library is missing\")\n",
       "        clearInterval(timer);\n",
       "      }\n",
       "    }, 10, root)\n",
       "  }\n",
       "})(window);"
      ],
      "application/vnd.bokehjs_exec.v0+json": ""
     },
     "metadata": {
      "application/vnd.bokehjs_exec.v0+json": {
       "id": "517d839f-03f0-4321-b16c-84761c873db0"
      }
     },
     "output_type": "display_data"
    }
   ],
   "source": [
    "from bokeh.models import ColumnDataSource\n",
    "\n",
    "x = list(range(-20, 21))\n",
    "y0, y1 = [abs(xx) for xx in x], [xx**2 for xx in x]\n",
    "\n",
    "# create a column data source for the plots to share\n",
    "source = ColumnDataSource(data=dict(x=x, y0=y0, y1=y1))\n",
    "\n",
    "TOOLS = \"box_select,lasso_select,help\"\n",
    "\n",
    "# create a new plot and add a renderer\n",
    "left = figure(tools=TOOLS, width=300, height=300)\n",
    "left.circle('x', 'y0', source=source)\n",
    "\n",
    "# create another new plot and add a renderer\n",
    "right = figure(tools=TOOLS, width=300, height=300)\n",
    "right.circle('x', 'y1', source=source)\n",
    "\n",
    "p = gridplot([[left, right]])\n",
    "\n",
    "show(p)"
   ]
  },
  {
   "cell_type": "code",
   "execution_count": null,
   "metadata": {
    "collapsed": true
   },
   "outputs": [],
   "source": [
    "# EXERCISE: create two plots in a gridplot, and link their data sources\n",
    "\n"
   ]
  },
  {
   "cell_type": "markdown",
   "metadata": {},
   "source": [
    "# Hover Tools\n",
    "\n",
    "Bokeh has a Hover Tool that allows additional information to be displayed in a popup whenever the user hovers over a specific glyph. Basic hover tool configuration amounts to providing a list of ``(name, format)`` tuples. The full details can be found in the User's Guide [here](http://bokeh.pydata.org/en/latest/docs/user_guide/tools.html#hovertool).\n",
    "\n",
    "The example below shows some basic usage of the Hover tool with a circle glyph, using hover information defined in utils.py:"
   ]
  },
  {
   "cell_type": "code",
   "execution_count": null,
   "metadata": {
    "collapsed": true
   },
   "outputs": [],
   "source": [
    "from bokeh.models import HoverTool\n",
    "\n",
    "source = ColumnDataSource(\n",
    "        data=dict(\n",
    "            x=[1, 2, 3, 4, 5],\n",
    "            y=[2, 5, 8, 2, 7],\n",
    "            desc=['A', 'b', 'C', 'd', 'E'],\n",
    "        )\n",
    "    )\n",
    "\n",
    "hover = HoverTool(\n",
    "        tooltips=[\n",
    "            (\"index\", \"$index\"),\n",
    "            (\"(x,y)\", \"($x, $y)\"),\n",
    "            (\"desc\", \"@desc\"),\n",
    "        ]\n",
    "    )\n",
    "\n",
    "p = figure(plot_width=300, plot_height=300, tools=[hover], title=\"Mouse over the dots\")\n",
    "\n",
    "p.circle('x', 'y', size=20, source=source)\n",
    "\n",
    "show(p)"
   ]
  },
  {
   "cell_type": "markdown",
   "metadata": {},
   "source": [
    "# Widgets"
   ]
  },
  {
   "cell_type": "markdown",
   "metadata": {},
   "source": [
    "Bokeh supports direct integration with a small basic widget set. Thse can be used in conjunction with a Bokeh Server, or with ``CustomJS`` models to add more interactive capability to your documents. You can see a complete list, with example code in the [Adding Widgets](http://bokeh.pydata.org/en/latest/docs/user_guide/interaction.html#adding-widgets) section of the User's Guide. \n",
    "\n",
    "To use the widgets, include them in a layout like you would a plot object:"
   ]
  },
  {
   "cell_type": "code",
   "execution_count": 5,
   "metadata": {},
   "outputs": [
    {
     "data": {
      "text/html": [
       "\n",
       "<div class=\"bk-root\">\n",
       "    <div class=\"bk-plotdiv\" id=\"4af5668c-afb9-4ff0-9710-be0f33057b7a\"></div>\n",
       "</div>"
      ]
     },
     "metadata": {},
     "output_type": "display_data"
    },
    {
     "data": {
      "application/javascript": [
       "(function(root) {\n",
       "  function embed_document(root) {\n",
       "    \n",
       "  var docs_json = {\"abdf03b0-1496-41b7-87e9-2fe7952b1dc2\":{\"roots\":{\"references\":[{\"attributes\":{\"callback\":null,\"end\":10,\"start\":0,\"step\":0.1,\"title\":\"foo\",\"value\":1},\"id\":\"38d24361-5028-43d8-a1de-7ad7acbb9d58\",\"type\":\"Slider\"},{\"attributes\":{\"children\":[{\"id\":\"38d24361-5028-43d8-a1de-7ad7acbb9d58\",\"type\":\"Slider\"}]},\"id\":\"a33c374b-4c07-48e2-ab1e-34d664907126\",\"type\":\"WidgetBox\"}],\"root_ids\":[\"a33c374b-4c07-48e2-ab1e-34d664907126\"]},\"title\":\"Bokeh Application\",\"version\":\"0.12.13\"}};\n",
       "  var render_items = [{\"docid\":\"abdf03b0-1496-41b7-87e9-2fe7952b1dc2\",\"elementid\":\"4af5668c-afb9-4ff0-9710-be0f33057b7a\",\"modelid\":\"a33c374b-4c07-48e2-ab1e-34d664907126\"}];\n",
       "  root.Bokeh.embed.embed_items_notebook(docs_json, render_items);\n",
       "\n",
       "  }\n",
       "  if (root.Bokeh !== undefined) {\n",
       "    embed_document(root);\n",
       "  } else {\n",
       "    var attempts = 0;\n",
       "    var timer = setInterval(function(root) {\n",
       "      if (root.Bokeh !== undefined) {\n",
       "        embed_document(root);\n",
       "        clearInterval(timer);\n",
       "      }\n",
       "      attempts++;\n",
       "      if (attempts > 100) {\n",
       "        console.log(\"Bokeh: ERROR: Unable to run BokehJS code because BokehJS library is missing\")\n",
       "        clearInterval(timer);\n",
       "      }\n",
       "    }, 10, root)\n",
       "  }\n",
       "})(window);"
      ],
      "application/vnd.bokehjs_exec.v0+json": ""
     },
     "metadata": {
      "application/vnd.bokehjs_exec.v0+json": {
       "id": "a33c374b-4c07-48e2-ab1e-34d664907126"
      }
     },
     "output_type": "display_data"
    }
   ],
   "source": [
    "from bokeh.layouts import widgetbox\n",
    "from bokeh.models.widgets import Slider\n",
    "\n",
    "\n",
    "slider = Slider(start=0, end=10, value=1, step=.1, title=\"foo\")\n",
    "\n",
    "show(widgetbox(slider))"
   ]
  },
  {
   "cell_type": "code",
   "execution_count": null,
   "metadata": {
    "collapsed": true
   },
   "outputs": [],
   "source": [
    "# EXERCISE: create and show a Select widget \n"
   ]
  },
  {
   "cell_type": "markdown",
   "metadata": {},
   "source": [
    "# CustomJS Callbacks"
   ]
  },
  {
   "cell_type": "code",
   "execution_count": 3,
   "metadata": {},
   "outputs": [
    {
     "data": {
      "text/html": [
       "\n",
       "<div class=\"bk-root\">\n",
       "    <div class=\"bk-plotdiv\" id=\"57fc32e7-11aa-4504-98db-06df41ca0a63\"></div>\n",
       "</div>"
      ]
     },
     "metadata": {},
     "output_type": "display_data"
    },
    {
     "data": {
      "application/javascript": [
       "(function(root) {\n",
       "  function embed_document(root) {\n",
       "    \n",
       "  var docs_json = {\"282e3a3d-f59b-47b6-aa50-3029cedd2baa\":{\"roots\":{\"references\":[{\"attributes\":{\"formatter\":{\"id\":\"8f23d10b-b202-49ee-ab34-aeee14e1010e\",\"type\":\"BasicTickFormatter\"},\"plot\":{\"id\":\"23745023-26cb-443b-a52d-d299bccb4768\",\"subtype\":\"Figure\",\"type\":\"Plot\"},\"ticker\":{\"id\":\"9e074b5f-927d-43fc-a9da-c2d45148fdb1\",\"type\":\"BasicTicker\"}},\"id\":\"56d5b567-bb45-46f9-9359-645808c66b36\",\"type\":\"LinearAxis\"},{\"attributes\":{\"plot\":{\"id\":\"23745023-26cb-443b-a52d-d299bccb4768\",\"subtype\":\"Figure\",\"type\":\"Plot\"},\"ticker\":{\"id\":\"21055f59-5e52-49f8-9f41-1def808085a1\",\"type\":\"BasicTicker\"}},\"id\":\"4206e7f2-7107-443b-8b56-3d456a995e49\",\"type\":\"Grid\"},{\"attributes\":{\"dimension\":1,\"plot\":{\"id\":\"23745023-26cb-443b-a52d-d299bccb4768\",\"subtype\":\"Figure\",\"type\":\"Plot\"},\"ticker\":{\"id\":\"9e074b5f-927d-43fc-a9da-c2d45148fdb1\",\"type\":\"BasicTicker\"}},\"id\":\"08141f53-24d1-4e13-bbe7-d21a3df2f62e\",\"type\":\"Grid\"},{\"attributes\":{\"active_drag\":\"auto\",\"active_inspect\":\"auto\",\"active_scroll\":\"auto\",\"active_tap\":\"auto\",\"tools\":[{\"id\":\"fdd75b3b-8750-44df-8d66-267ab5a5b80f\",\"type\":\"TapTool\"}]},\"id\":\"96b81a48-7f1b-4e50-90cd-c4daae46995f\",\"type\":\"Toolbar\"},{\"attributes\":{},\"id\":\"8f23d10b-b202-49ee-ab34-aeee14e1010e\",\"type\":\"BasicTickFormatter\"},{\"attributes\":{\"fill_alpha\":{\"value\":0.1},\"fill_color\":{\"value\":\"#1f77b4\"},\"line_alpha\":{\"value\":0.1},\"line_color\":{\"value\":\"#1f77b4\"},\"size\":{\"units\":\"screen\",\"value\":20},\"x\":{\"field\":\"x\"},\"y\":{\"field\":\"y\"}},\"id\":\"ca27157d-ee8e-4584-bd4b-2a0be42d43c2\",\"type\":\"Circle\"},{\"attributes\":{\"callback\":null,\"column_names\":[\"x\",\"y\"],\"data\":{\"x\":[1,2,3,4,5],\"y\":[2,5,8,2,7]}},\"id\":\"0c0469ca-c302-4c1c-a224-f24555e6b638\",\"type\":\"ColumnDataSource\"},{\"attributes\":{},\"id\":\"cecaae1a-738e-45bb-ab67-6e8094c27a85\",\"type\":\"BasicTickFormatter\"},{\"attributes\":{\"callback\":null},\"id\":\"7a4dbf58-6f58-4e7b-8e22-01a5427ae3f2\",\"type\":\"DataRange1d\"},{\"attributes\":{\"callback\":{\"id\":\"92d3a87f-f4f6-47d1-9762-9ee8c611d30b\",\"type\":\"CustomJS\"}},\"id\":\"fdd75b3b-8750-44df-8d66-267ab5a5b80f\",\"type\":\"TapTool\"},{\"attributes\":{},\"id\":\"dcd02bd1-d22e-40dd-adcd-af2870ddf099\",\"type\":\"LinearScale\"},{\"attributes\":{\"plot\":null,\"text\":\"\"},\"id\":\"4551f204-678a-41a2-acc9-fee1ac9dca3e\",\"type\":\"Title\"},{\"attributes\":{\"callback\":null},\"id\":\"6789865e-3c50-4519-ac34-3c8ce4f27c2d\",\"type\":\"DataRange1d\"},{\"attributes\":{\"fill_color\":{\"value\":\"#1f77b4\"},\"line_color\":{\"value\":\"#1f77b4\"},\"size\":{\"units\":\"screen\",\"value\":20},\"x\":{\"field\":\"x\"},\"y\":{\"field\":\"y\"}},\"id\":\"e5626dd2-4b09-40b3-8341-17b929a49c3a\",\"type\":\"Circle\"},{\"attributes\":{\"source\":{\"id\":\"0c0469ca-c302-4c1c-a224-f24555e6b638\",\"type\":\"ColumnDataSource\"}},\"id\":\"28c463ad-1dfe-45be-802f-d72424536f93\",\"type\":\"CDSView\"},{\"attributes\":{},\"id\":\"9e074b5f-927d-43fc-a9da-c2d45148fdb1\",\"type\":\"BasicTicker\"},{\"attributes\":{\"below\":[{\"id\":\"1804409d-9eef-4a17-887d-0d6983ea1628\",\"type\":\"LinearAxis\"}],\"left\":[{\"id\":\"56d5b567-bb45-46f9-9359-645808c66b36\",\"type\":\"LinearAxis\"}],\"plot_height\":300,\"renderers\":[{\"id\":\"1804409d-9eef-4a17-887d-0d6983ea1628\",\"type\":\"LinearAxis\"},{\"id\":\"4206e7f2-7107-443b-8b56-3d456a995e49\",\"type\":\"Grid\"},{\"id\":\"56d5b567-bb45-46f9-9359-645808c66b36\",\"type\":\"LinearAxis\"},{\"id\":\"08141f53-24d1-4e13-bbe7-d21a3df2f62e\",\"type\":\"Grid\"},{\"id\":\"34954f66-c011-42c0-97ef-820c7e6c4099\",\"type\":\"GlyphRenderer\"}],\"title\":{\"id\":\"4551f204-678a-41a2-acc9-fee1ac9dca3e\",\"type\":\"Title\"},\"toolbar\":{\"id\":\"96b81a48-7f1b-4e50-90cd-c4daae46995f\",\"type\":\"Toolbar\"},\"x_range\":{\"id\":\"6789865e-3c50-4519-ac34-3c8ce4f27c2d\",\"type\":\"DataRange1d\"},\"x_scale\":{\"id\":\"dcd02bd1-d22e-40dd-adcd-af2870ddf099\",\"type\":\"LinearScale\"},\"y_range\":{\"id\":\"7a4dbf58-6f58-4e7b-8e22-01a5427ae3f2\",\"type\":\"DataRange1d\"},\"y_scale\":{\"id\":\"7d96dbb5-11d5-4ad7-993d-ace658894b33\",\"type\":\"LinearScale\"}},\"id\":\"23745023-26cb-443b-a52d-d299bccb4768\",\"subtype\":\"Figure\",\"type\":\"Plot\"},{\"attributes\":{},\"id\":\"7d96dbb5-11d5-4ad7-993d-ace658894b33\",\"type\":\"LinearScale\"},{\"attributes\":{\"data_source\":{\"id\":\"0c0469ca-c302-4c1c-a224-f24555e6b638\",\"type\":\"ColumnDataSource\"},\"glyph\":{\"id\":\"e5626dd2-4b09-40b3-8341-17b929a49c3a\",\"type\":\"Circle\"},\"hover_glyph\":null,\"muted_glyph\":null,\"nonselection_glyph\":{\"id\":\"ca27157d-ee8e-4584-bd4b-2a0be42d43c2\",\"type\":\"Circle\"},\"selection_glyph\":null,\"view\":{\"id\":\"28c463ad-1dfe-45be-802f-d72424536f93\",\"type\":\"CDSView\"}},\"id\":\"34954f66-c011-42c0-97ef-820c7e6c4099\",\"type\":\"GlyphRenderer\"},{\"attributes\":{},\"id\":\"21055f59-5e52-49f8-9f41-1def808085a1\",\"type\":\"BasicTicker\"},{\"attributes\":{\"formatter\":{\"id\":\"cecaae1a-738e-45bb-ab67-6e8094c27a85\",\"type\":\"BasicTickFormatter\"},\"plot\":{\"id\":\"23745023-26cb-443b-a52d-d299bccb4768\",\"subtype\":\"Figure\",\"type\":\"Plot\"},\"ticker\":{\"id\":\"21055f59-5e52-49f8-9f41-1def808085a1\",\"type\":\"BasicTicker\"}},\"id\":\"1804409d-9eef-4a17-887d-0d6983ea1628\",\"type\":\"LinearAxis\"},{\"attributes\":{\"code\":\"alert('hello world')\"},\"id\":\"92d3a87f-f4f6-47d1-9762-9ee8c611d30b\",\"type\":\"CustomJS\"}],\"root_ids\":[\"23745023-26cb-443b-a52d-d299bccb4768\"]},\"title\":\"Bokeh Application\",\"version\":\"0.12.13\"}};\n",
       "  var render_items = [{\"docid\":\"282e3a3d-f59b-47b6-aa50-3029cedd2baa\",\"elementid\":\"57fc32e7-11aa-4504-98db-06df41ca0a63\",\"modelid\":\"23745023-26cb-443b-a52d-d299bccb4768\"}];\n",
       "  root.Bokeh.embed.embed_items_notebook(docs_json, render_items);\n",
       "\n",
       "  }\n",
       "  if (root.Bokeh !== undefined) {\n",
       "    embed_document(root);\n",
       "  } else {\n",
       "    var attempts = 0;\n",
       "    var timer = setInterval(function(root) {\n",
       "      if (root.Bokeh !== undefined) {\n",
       "        embed_document(root);\n",
       "        clearInterval(timer);\n",
       "      }\n",
       "      attempts++;\n",
       "      if (attempts > 100) {\n",
       "        console.log(\"Bokeh: ERROR: Unable to run BokehJS code because BokehJS library is missing\")\n",
       "        clearInterval(timer);\n",
       "      }\n",
       "    }, 10, root)\n",
       "  }\n",
       "})(window);"
      ],
      "application/vnd.bokehjs_exec.v0+json": ""
     },
     "metadata": {
      "application/vnd.bokehjs_exec.v0+json": {
       "id": "23745023-26cb-443b-a52d-d299bccb4768"
      }
     },
     "output_type": "display_data"
    }
   ],
   "source": [
    "from bokeh.models import TapTool, CustomJS, ColumnDataSource\n",
    "\n",
    "callback = CustomJS(code=\"alert('hello world')\")\n",
    "tap = TapTool(callback=callback)\n",
    "\n",
    "p = figure(plot_width=600, plot_height=300, tools=[tap])\n",
    "\n",
    "p.circle(x=[1, 2, 3, 4, 5], y=[2, 5, 8, 2, 7], size=20)\n",
    "\n",
    "show(p)"
   ]
  },
  {
   "cell_type": "markdown",
   "metadata": {},
   "source": [
    "## Lots of places to add callbacks\n",
    "\n",
    "* Widgets - Button, Toggle, Dropdown, TextInput, AutocompleteInput, Select, Multiselect, Slider, (DateRangeSlider), DatePicker,\n",
    "* Tools - TapTool, BoxSelectTool, HoverTool,\n",
    "* Selection - ColumnDataSource, AjaxDataSource, BlazeDataSource, ServerDataSource\n",
    "* Ranges - Range1d, DataRange1d, FactorRange\n"
   ]
  },
  {
   "cell_type": "markdown",
   "metadata": {},
   "source": [
    "## Callbacks for widgets\n",
    "\n",
    "Widgets that have values associated can have small JavaScript actions attached to them. These actions (also referred to as \"callbacks\") are executed whenever the widget's value is changed. In order to make it easier to refer to specific Bokeh models (e.g., a data source, or a glyhph) from JavaScript, the ``CustomJS`` obejct also accepts a dictionary of \"args\" that map names to Python Bokeh models. The corresponding JavaScript models are made available automaticaly to the ``CustomJS`` code. \n",
    "\n",
    "And example below shows an action attached to a slider that updates a data source whenever the slider is moved:"
   ]
  },
  {
   "cell_type": "code",
   "execution_count": 7,
   "metadata": {},
   "outputs": [],
   "source": [
    "from bokeh.layouts import column\n",
    "from bokeh.models import CustomJS, ColumnDataSource, Slider\n",
    "from bokeh.io import output_notebook, show, output_file\n",
    "\n",
    "x = [x*0.005 for x in range(0, 201)]\n",
    "\n",
    "source = ColumnDataSource(data=dict(x=x, y=x))\n",
    "\n",
    "plot = figure(plot_width=400, plot_height=400)\n",
    "plot.line('x', 'y', source=source, line_width=3, line_alpha=0.6)\n",
    "\n",
    "slider = Slider(start=0.1, end=6, value=1, step=.1, title=\"power\")\n",
    "\n",
    "update_curve = CustomJS(args=dict(source=source, slider=slider), code=\"\"\"\n",
    "    var data = source.get('data');\n",
    "    var f = slider.value;\n",
    "    x = data['x']\n",
    "    y = data['y']\n",
    "    for (i = 0; i < x.length; i++) {\n",
    "        y[i] = Math.pow(x[i], f)\n",
    "    }\n",
    "    source.change.emit();\n",
    "\"\"\")\n",
    "slider.js_on_change('value', update_curve)\n",
    "\n",
    "\n",
    "#show(column(slider, plot))\n",
    "output_file('trial.html',column(slider, plot))\n"
   ]
  },
  {
   "cell_type": "markdown",
   "metadata": {},
   "source": [
    "## Calbacks for selections\n",
    "\n",
    "It's also possible to make JavaScript actions that execute whenever a user selection (e.g., box, point, lasso) changes. This is done by attaching the same kind of CustomJS object to whatever data source the selection is made on.\n",
    "\n",
    "The example below is a bit more sophisticated, and demonstrates updating one glyph's data source in response to another glyph's selection: "
   ]
  },
  {
   "cell_type": "code",
   "execution_count": 8,
   "metadata": {},
   "outputs": [
    {
     "data": {
      "text/html": [
       "\n",
       "<div class=\"bk-root\">\n",
       "    <div class=\"bk-plotdiv\" id=\"dff84a0c-12bf-4a29-9a85-72af9cb1be50\"></div>\n",
       "</div>"
      ]
     },
     "metadata": {},
     "output_type": "display_data"
    },
    {
     "data": {
      "application/javascript": [
       "(function(root) {\n",
       "  function embed_document(root) {\n",
       "    \n",
       "  var docs_json = {\"106548a1-a82d-41a2-874f-50fadee564af\":{\"roots\":{\"references\":[{\"attributes\":{\"callback\":null},\"id\":\"8594a699-de16-4202-8167-f9eb6bd0c7aa\",\"type\":\"DataRange1d\"},{\"attributes\":{\"fill_alpha\":{\"value\":0.5},\"fill_color\":{\"value\":\"lightgrey\"},\"level\":\"overlay\",\"line_alpha\":{\"value\":1.0},\"line_color\":{\"value\":\"black\"},\"line_dash\":[4,4],\"line_width\":{\"value\":2},\"plot\":null,\"xs_units\":\"screen\",\"ys_units\":\"screen\"},\"id\":\"a1626dfb-e557-48cb-9d38-b7517dc0ba74\",\"type\":\"PolyAnnotation\"},{\"attributes\":{\"active_drag\":\"auto\",\"active_inspect\":\"auto\",\"active_scroll\":\"auto\",\"active_tap\":\"auto\",\"tools\":[{\"id\":\"455f8137-0cdf-47d4-b2f7-b1b84b5de857\",\"type\":\"LassoSelectTool\"}]},\"id\":\"7ad29d5a-ef0e-44c0-a23c-b4080ca27afb\",\"type\":\"Toolbar\"},{\"attributes\":{\"line_alpha\":0.1,\"line_color\":\"#1f77b4\",\"line_width\":5,\"x\":{\"field\":\"xm\"},\"y\":{\"field\":\"ym\"}},\"id\":\"51f930da-098f-43ba-bd48-baa5d542d9d5\",\"type\":\"Line\"},{\"attributes\":{\"source\":{\"id\":\"2dd541df-6a87-462c-a399-62ecfd4dcbae\",\"type\":\"ColumnDataSource\"}},\"id\":\"8cc82335-77ec-47bb-9ebc-40deb0b6a3cb\",\"type\":\"CDSView\"},{\"attributes\":{\"callback\":null,\"overlay\":{\"id\":\"a1626dfb-e557-48cb-9d38-b7517dc0ba74\",\"type\":\"PolyAnnotation\"}},\"id\":\"455f8137-0cdf-47d4-b2f7-b1b84b5de857\",\"type\":\"LassoSelectTool\"},{\"attributes\":{\"source\":{\"id\":\"2497819b-d080-4c48-ad31-649e994f9a92\",\"type\":\"ColumnDataSource\"}},\"id\":\"44c8c9b6-0f5a-4fc6-aac5-a6a48fd381f4\",\"type\":\"CDSView\"},{\"attributes\":{\"plot\":{\"id\":\"a79bf002-8159-4f48-8c92-3c37d423cf7f\",\"subtype\":\"Figure\",\"type\":\"Plot\"},\"ticker\":{\"id\":\"f2655120-3787-4815-8fb5-ab3919871fa5\",\"type\":\"BasicTicker\"}},\"id\":\"661bb932-6395-4450-b9f6-c8db8f38112f\",\"type\":\"Grid\"},{\"attributes\":{},\"id\":\"7cc9b29f-86b4-4a25-aa1e-cd3ad181f608\",\"type\":\"LinearScale\"},{\"attributes\":{\"formatter\":{\"id\":\"d1a3e038-0cbf-4290-80c0-3c59b044e21b\",\"type\":\"BasicTickFormatter\"},\"plot\":{\"id\":\"a79bf002-8159-4f48-8c92-3c37d423cf7f\",\"subtype\":\"Figure\",\"type\":\"Plot\"},\"ticker\":{\"id\":\"f2655120-3787-4815-8fb5-ab3919871fa5\",\"type\":\"BasicTicker\"}},\"id\":\"3052240f-10c5-4bad-a582-68d92476b248\",\"type\":\"LinearAxis\"},{\"attributes\":{},\"id\":\"f2655120-3787-4815-8fb5-ab3919871fa5\",\"type\":\"BasicTicker\"},{\"attributes\":{\"formatter\":{\"id\":\"c363b3ed-302f-4a2e-84fe-f5c14a73722a\",\"type\":\"BasicTickFormatter\"},\"plot\":{\"id\":\"a79bf002-8159-4f48-8c92-3c37d423cf7f\",\"subtype\":\"Figure\",\"type\":\"Plot\"},\"ticker\":{\"id\":\"c7d6b7a9-99a1-44d4-920f-d55d4ae0f74b\",\"type\":\"BasicTicker\"}},\"id\":\"a07136f4-516d-433b-aef1-8198415c8e16\",\"type\":\"LinearAxis\"},{\"attributes\":{},\"id\":\"c7d6b7a9-99a1-44d4-920f-d55d4ae0f74b\",\"type\":\"BasicTicker\"},{\"attributes\":{\"dimension\":1,\"plot\":{\"id\":\"a79bf002-8159-4f48-8c92-3c37d423cf7f\",\"subtype\":\"Figure\",\"type\":\"Plot\"},\"ticker\":{\"id\":\"c7d6b7a9-99a1-44d4-920f-d55d4ae0f74b\",\"type\":\"BasicTicker\"}},\"id\":\"547e9e12-3daa-4522-86fb-38fa14f5a29d\",\"type\":\"Grid\"},{\"attributes\":{\"callback\":null,\"column_names\":[\"xm\",\"ym\"],\"data\":{\"xm\":[0,1],\"ym\":[0.5,0.5]}},\"id\":\"2497819b-d080-4c48-ad31-649e994f9a92\",\"type\":\"ColumnDataSource\"},{\"attributes\":{\"fill_alpha\":{\"value\":0.4},\"fill_color\":{\"field\":\"color\"},\"line_alpha\":{\"value\":0.4},\"line_color\":{\"field\":\"color\"},\"size\":{\"units\":\"screen\",\"value\":8},\"x\":{\"field\":\"x\"},\"y\":{\"field\":\"y\"}},\"id\":\"0cc149ef-88d8-40cb-baa4-e3f684d6ae59\",\"type\":\"Circle\"},{\"attributes\":{},\"id\":\"d1a3e038-0cbf-4290-80c0-3c59b044e21b\",\"type\":\"BasicTickFormatter\"},{\"attributes\":{\"data_source\":{\"id\":\"2dd541df-6a87-462c-a399-62ecfd4dcbae\",\"type\":\"ColumnDataSource\"},\"glyph\":{\"id\":\"0cc149ef-88d8-40cb-baa4-e3f684d6ae59\",\"type\":\"Circle\"},\"hover_glyph\":null,\"muted_glyph\":null,\"nonselection_glyph\":{\"id\":\"5f2ce08b-c58a-479c-b8f9-30683c76b43f\",\"type\":\"Circle\"},\"selection_glyph\":null,\"view\":{\"id\":\"8cc82335-77ec-47bb-9ebc-40deb0b6a3cb\",\"type\":\"CDSView\"}},\"id\":\"3746adf0-009b-4daf-8e59-a91f9a31e910\",\"type\":\"GlyphRenderer\"},{\"attributes\":{},\"id\":\"87df2949-d830-40ee-a5eb-24af2f40fc3b\",\"type\":\"LinearScale\"},{\"attributes\":{\"fill_alpha\":{\"value\":0.1},\"fill_color\":{\"value\":\"#1f77b4\"},\"line_alpha\":{\"value\":0.1},\"line_color\":{\"value\":\"#1f77b4\"},\"size\":{\"units\":\"screen\",\"value\":8},\"x\":{\"field\":\"x\"},\"y\":{\"field\":\"y\"}},\"id\":\"5f2ce08b-c58a-479c-b8f9-30683c76b43f\",\"type\":\"Circle\"},{\"attributes\":{\"plot\":null,\"text\":\"Select Here\"},\"id\":\"d1f468dd-052d-4c76-afbc-a2ceba608297\",\"type\":\"Title\"},{\"attributes\":{\"args\":{\"s2\":{\"id\":\"2497819b-d080-4c48-ad31-649e994f9a92\",\"type\":\"ColumnDataSource\"}},\"code\":\"\\n    var inds = cb_obj.get('selected')['1d'].indices;\\n    var d = cb_obj.get('data');\\n    var ym = 0\\n    \\n    if (inds.length == 0) { return; }\\n    \\n    for (i = 0; i < d['color'].length; i++) {\\n        d['color'][i] = \\\"navy\\\"\\n    }\\n    for (i = 0; i < inds.length; i++) {\\n        d['color'][inds[i]] = \\\"firebrick\\\"\\n        ym += d['y'][inds[i]]\\n    }\\n    \\n    ym /= inds.length\\n    s2.get('data')['ym'] = [ym, ym]\\n    \\n    cb_obj.trigger('change');\\n    s2.trigger('change');\\n\"},\"id\":\"16cebcd9-1050-4fb9-bf03-790ddac28a99\",\"type\":\"CustomJS\"},{\"attributes\":{\"below\":[{\"id\":\"3052240f-10c5-4bad-a582-68d92476b248\",\"type\":\"LinearAxis\"}],\"left\":[{\"id\":\"a07136f4-516d-433b-aef1-8198415c8e16\",\"type\":\"LinearAxis\"}],\"plot_height\":400,\"plot_width\":400,\"renderers\":[{\"id\":\"3052240f-10c5-4bad-a582-68d92476b248\",\"type\":\"LinearAxis\"},{\"id\":\"661bb932-6395-4450-b9f6-c8db8f38112f\",\"type\":\"Grid\"},{\"id\":\"a07136f4-516d-433b-aef1-8198415c8e16\",\"type\":\"LinearAxis\"},{\"id\":\"547e9e12-3daa-4522-86fb-38fa14f5a29d\",\"type\":\"Grid\"},{\"id\":\"a1626dfb-e557-48cb-9d38-b7517dc0ba74\",\"type\":\"PolyAnnotation\"},{\"id\":\"3746adf0-009b-4daf-8e59-a91f9a31e910\",\"type\":\"GlyphRenderer\"},{\"id\":\"9e143855-bc17-47cc-b1ec-5c9eaa52662c\",\"type\":\"GlyphRenderer\"}],\"title\":{\"id\":\"d1f468dd-052d-4c76-afbc-a2ceba608297\",\"type\":\"Title\"},\"toolbar\":{\"id\":\"7ad29d5a-ef0e-44c0-a23c-b4080ca27afb\",\"type\":\"Toolbar\"},\"x_range\":{\"id\":\"c5ee80a0-edbc-4478-860c-84f10e9e24ee\",\"type\":\"DataRange1d\"},\"x_scale\":{\"id\":\"87df2949-d830-40ee-a5eb-24af2f40fc3b\",\"type\":\"LinearScale\"},\"y_range\":{\"id\":\"8594a699-de16-4202-8167-f9eb6bd0c7aa\",\"type\":\"DataRange1d\"},\"y_scale\":{\"id\":\"7cc9b29f-86b4-4a25-aa1e-cd3ad181f608\",\"type\":\"LinearScale\"}},\"id\":\"a79bf002-8159-4f48-8c92-3c37d423cf7f\",\"subtype\":\"Figure\",\"type\":\"Plot\"},{\"attributes\":{\"line_alpha\":0.6,\"line_color\":\"orange\",\"line_width\":5,\"x\":{\"field\":\"xm\"},\"y\":{\"field\":\"ym\"}},\"id\":\"ff39d517-b839-480f-9b27-391ae82f38a0\",\"type\":\"Line\"},{\"attributes\":{\"callback\":null},\"id\":\"c5ee80a0-edbc-4478-860c-84f10e9e24ee\",\"type\":\"DataRange1d\"},{\"attributes\":{},\"id\":\"c363b3ed-302f-4a2e-84fe-f5c14a73722a\",\"type\":\"BasicTickFormatter\"},{\"attributes\":{\"callback\":{\"id\":\"16cebcd9-1050-4fb9-bf03-790ddac28a99\",\"type\":\"CustomJS\"},\"column_names\":[\"x\",\"y\",\"color\"],\"data\":{\"color\":[\"navy\",\"navy\",\"navy\",\"navy\",\"navy\",\"navy\",\"navy\",\"navy\",\"navy\",\"navy\",\"navy\",\"navy\",\"navy\",\"navy\",\"navy\",\"navy\",\"navy\",\"navy\",\"navy\",\"navy\",\"navy\",\"navy\",\"navy\",\"navy\",\"navy\",\"navy\",\"navy\",\"navy\",\"navy\",\"navy\",\"navy\",\"navy\",\"navy\",\"navy\",\"navy\",\"navy\",\"navy\",\"navy\",\"navy\",\"navy\",\"navy\",\"navy\",\"navy\",\"navy\",\"navy\",\"navy\",\"navy\",\"navy\",\"navy\",\"navy\",\"navy\",\"navy\",\"navy\",\"navy\",\"navy\",\"navy\",\"navy\",\"navy\",\"navy\",\"navy\",\"navy\",\"navy\",\"navy\",\"navy\",\"navy\",\"navy\",\"navy\",\"navy\",\"navy\",\"navy\",\"navy\",\"navy\",\"navy\",\"navy\",\"navy\",\"navy\",\"navy\",\"navy\",\"navy\",\"navy\",\"navy\",\"navy\",\"navy\",\"navy\",\"navy\",\"navy\",\"navy\",\"navy\",\"navy\",\"navy\",\"navy\",\"navy\",\"navy\",\"navy\",\"navy\",\"navy\",\"navy\",\"navy\",\"navy\",\"navy\",\"navy\",\"navy\",\"navy\",\"navy\",\"navy\",\"navy\",\"navy\",\"navy\",\"navy\",\"navy\",\"navy\",\"navy\",\"navy\",\"navy\",\"navy\",\"navy\",\"navy\",\"navy\",\"navy\",\"navy\",\"navy\",\"navy\",\"navy\",\"navy\",\"navy\",\"navy\",\"navy\",\"navy\",\"navy\",\"navy\",\"navy\",\"navy\",\"navy\",\"navy\",\"navy\",\"navy\",\"navy\",\"navy\",\"navy\",\"navy\",\"navy\",\"navy\",\"navy\",\"navy\",\"navy\",\"navy\",\"navy\",\"navy\",\"navy\",\"navy\",\"navy\",\"navy\",\"navy\",\"navy\",\"navy\",\"navy\",\"navy\",\"navy\",\"navy\",\"navy\",\"navy\",\"navy\",\"navy\",\"navy\",\"navy\",\"navy\",\"navy\",\"navy\",\"navy\",\"navy\",\"navy\",\"navy\",\"navy\",\"navy\",\"navy\",\"navy\",\"navy\",\"navy\",\"navy\",\"navy\",\"navy\",\"navy\",\"navy\",\"navy\",\"navy\",\"navy\",\"navy\",\"navy\",\"navy\",\"navy\",\"navy\",\"navy\",\"navy\",\"navy\",\"navy\",\"navy\",\"navy\",\"navy\",\"navy\",\"navy\",\"navy\",\"navy\",\"navy\",\"navy\",\"navy\",\"navy\",\"navy\",\"navy\",\"navy\",\"navy\",\"navy\",\"navy\",\"navy\",\"navy\",\"navy\",\"navy\",\"navy\",\"navy\",\"navy\",\"navy\",\"navy\",\"navy\",\"navy\",\"navy\",\"navy\",\"navy\",\"navy\",\"navy\",\"navy\",\"navy\",\"navy\",\"navy\",\"navy\",\"navy\",\"navy\",\"navy\",\"navy\",\"navy\",\"navy\",\"navy\",\"navy\",\"navy\",\"navy\",\"navy\",\"navy\",\"navy\",\"navy\",\"navy\",\"navy\",\"navy\",\"navy\",\"navy\",\"navy\",\"navy\",\"navy\",\"navy\",\"navy\",\"navy\",\"navy\",\"navy\",\"navy\",\"navy\",\"navy\",\"navy\",\"navy\",\"navy\",\"navy\",\"navy\",\"navy\",\"navy\",\"navy\",\"navy\",\"navy\",\"navy\",\"navy\",\"navy\",\"navy\",\"navy\",\"navy\",\"navy\",\"navy\",\"navy\",\"navy\",\"navy\",\"navy\",\"navy\",\"navy\",\"navy\",\"navy\",\"navy\",\"navy\",\"navy\",\"navy\",\"navy\",\"navy\",\"navy\",\"navy\",\"navy\",\"navy\",\"navy\",\"navy\",\"navy\",\"navy\",\"navy\",\"navy\",\"navy\",\"navy\",\"navy\",\"navy\",\"navy\",\"navy\",\"navy\",\"navy\",\"navy\",\"navy\",\"navy\",\"navy\",\"navy\",\"navy\",\"navy\",\"navy\",\"navy\",\"navy\",\"navy\",\"navy\",\"navy\",\"navy\",\"navy\",\"navy\",\"navy\",\"navy\",\"navy\",\"navy\",\"navy\",\"navy\",\"navy\",\"navy\",\"navy\",\"navy\",\"navy\",\"navy\",\"navy\",\"navy\",\"navy\",\"navy\",\"navy\",\"navy\",\"navy\",\"navy\",\"navy\",\"navy\",\"navy\",\"navy\",\"navy\",\"navy\",\"navy\",\"navy\",\"navy\",\"navy\",\"navy\",\"navy\",\"navy\",\"navy\",\"navy\",\"navy\",\"navy\",\"navy\",\"navy\",\"navy\",\"navy\",\"navy\",\"navy\",\"navy\",\"navy\",\"navy\",\"navy\",\"navy\",\"navy\",\"navy\",\"navy\",\"navy\",\"navy\",\"navy\",\"navy\",\"navy\",\"navy\",\"navy\",\"navy\",\"navy\",\"navy\",\"navy\",\"navy\",\"navy\",\"navy\",\"navy\",\"navy\",\"navy\",\"navy\",\"navy\",\"navy\",\"navy\",\"navy\",\"navy\",\"navy\",\"navy\",\"navy\",\"navy\",\"navy\",\"navy\",\"navy\",\"navy\",\"navy\",\"navy\",\"navy\",\"navy\",\"navy\",\"navy\",\"navy\",\"navy\",\"navy\",\"navy\",\"navy\",\"navy\",\"navy\",\"navy\",\"navy\",\"navy\",\"navy\",\"navy\",\"navy\",\"navy\",\"navy\",\"navy\",\"navy\",\"navy\",\"navy\",\"navy\",\"navy\",\"navy\",\"navy\",\"navy\",\"navy\",\"navy\",\"navy\",\"navy\",\"navy\",\"navy\",\"navy\",\"navy\",\"navy\",\"navy\",\"navy\",\"navy\",\"navy\",\"navy\",\"navy\",\"navy\",\"navy\",\"navy\",\"navy\",\"navy\",\"navy\",\"navy\",\"navy\",\"navy\",\"navy\",\"navy\",\"navy\",\"navy\",\"navy\",\"navy\",\"navy\",\"navy\",\"navy\",\"navy\",\"navy\",\"navy\",\"navy\",\"navy\",\"navy\",\"navy\",\"navy\",\"navy\",\"navy\",\"navy\",\"navy\",\"navy\",\"navy\",\"navy\",\"navy\",\"navy\",\"navy\",\"navy\",\"navy\",\"navy\",\"navy\",\"navy\",\"navy\",\"navy\",\"navy\"],\"x\":[0.055461581938802906,0.6205708806205322,0.9569604737957004,0.5870528290100863,0.5488757088783011,0.005655292732846151,0.24350401835058422,0.5024306569134934,0.12031915777693625,0.8951315760205701,0.8635645904881882,0.5233379054362897,0.9295324208934556,0.12086220736020648,0.8257326749287611,0.28646696039767616,0.37516077180057483,0.09390962937524783,0.7837331160779942,0.9208964034386115,0.509940847813482,0.9285096539427797,0.5395453849048358,0.7665626081114262,0.9404058783103437,0.9043179597120876,0.18561914057316808,0.9550728406510703,0.7609922565846267,0.26283553177881647,0.9918671906319287,0.449495001630386,0.9359031433336819,0.7978465934687023,0.6011122820606554,0.5801797004345909,0.5140509768749427,0.19684595632285262,0.18531569871422837,0.4765231611849875,0.17946164827893396,0.23064372201295014,0.7960726218789921,0.31587069185905514,0.617986856532307,0.6317776940618192,0.00048157500563361655,0.5075734741009146,0.9419913912149217,0.8321948350489563,0.03446273785732401,0.6568733453074287,0.7751687122877559,0.9913437469451724,0.7627042457515278,0.7495495610877824,0.4496864916377188,0.189642870385887,0.3791938465093615,0.885032738340967,0.972114572650641,0.5179679075113025,0.8524855595954027,0.22168231312568354,0.9199007447070576,0.05806868522627617,0.09787895988127138,0.30958723559549517,0.9285649380093586,0.0817409582381724,0.5535753552080989,0.5689906212545094,0.11295378585222127,0.7464416583730729,0.08821826506091279,0.960902862289252,0.3221704403947505,0.6664897164258993,0.19244723371317896,0.7871088673732599,0.12415778330291005,0.36353626216398005,0.5229219833711398,0.4399988289472354,0.8067243234815473,0.9141832924852544,0.6690898242068042,0.6782534557920341,0.1246142114423171,0.5930851284039085,0.9915680201859426,0.8143284213735714,0.6077898994605934,0.14313488546137298,0.434948417721871,0.6981826100609412,0.435707448238452,0.7013572747896657,0.6912453422934949,0.7333788516703162,0.8302809438231392,0.3874605624321652,0.10328316310260477,0.5845884891527467,0.757804590313762,0.3293143384678294,0.8562978497760547,0.22712148238290386,0.848280733893898,0.35700993191593167,0.18103236024714886,0.5269582406521335,0.21924807700074644,0.7414666222969885,0.8983722667974899,0.21410338254888406,0.016675590488442915,0.187275318113448,0.8342658224753104,0.7313840997186202,0.6235643224367176,0.21315728457994676,0.42342867377653504,0.38134877435652115,0.3737370597512498,0.6126243034611402,0.7367140713370324,0.8088714658195476,0.24226335352219552,0.0665523762193111,0.8340242342225738,0.7932238565664392,0.0008817565147892781,0.043179914570269595,0.9509767992420525,0.42582020455789615,0.12005781936497295,0.21224673571671204,0.16157872254597783,0.026581610554054946,0.4011475135763235,0.6989006233260671,0.7750832235429206,0.6167399620207933,0.26168191536653895,0.5274196700104701,0.6728987001781829,0.2516537194637045,0.10705994606377489,0.3921668460679555,0.7179924487769619,0.06869572981345584,0.4036813780910534,0.3585725971327942,0.5101161165009526,0.7471585696636596,0.10881420522276397,0.07231849782968103,0.4013102375803874,0.15386405251004664,0.25501344467002307,0.9917766160087198,0.6622254582585624,0.9500499616378881,0.27296657304051775,0.11441284290781362,0.997257796242046,0.7509730160989916,0.13433047905794393,0.5435677324817092,0.041299922149875434,0.12094026054466156,0.5462192974974879,0.14958864340997546,0.9646233862586399,0.25037882547946455,0.1962142489341494,0.2898532756627651,0.17569942916706238,0.6039427786647195,0.20190638314173903,0.28796721124522273,0.10331682868788328,0.4767231712560468,0.9428800481375917,0.156703643672641,0.2667530619217219,0.8080250624687034,0.15210710287035512,0.88938310955974,0.6153108374699612,0.11298794817602276,0.5364615629691805,0.17111142928833378,0.9073622934813438,0.8174338572667379,0.31504678010146925,0.08653440269864743,0.7432142513737583,0.7151993221875598,0.03137015096522533,0.26731311861614115,0.09642148409467255,0.38962469351527496,0.618859703595982,0.8643642609522182,0.5875375738543931,0.5647714430523619,0.99545977132716,0.572817991761333,0.19759287333313957,0.6395611272920145,0.3153696160907209,0.8422940741437572,0.5218706613386248,0.10346844296354829,0.7608517455392781,0.45789705766077515,0.9817158462929242,0.8135004499682248,0.4087959134195418,0.7462519249919909,0.3972483211964155,0.8314868560120308,0.6893524892624633,0.7359243812115642,0.5437651735725917,0.5269723947967468,0.5249472109137434,0.8396157549346738,0.7583862824139165,0.3588455183013789,0.7986429967907526,0.6982337920124339,0.9566284084823712,0.5581112409482536,0.5612594550202559,0.35174085459548154,0.4703500671405445,0.23708227921544933,0.06770495897159501,0.055168780956233676,0.749978288498503,0.007411208985940498,0.27023314870640713,0.700720457520158,0.819123054167242,0.360591908195528,0.7189957668526431,0.2973162519790584,0.1569297673152522,0.2015219362061349,0.7732967490824141,0.12644499546147692,0.6457020302827188,0.12782675700284796,0.9313563791134232,0.2567698275733138,0.4256392154677897,0.3358892917929749,0.24781661074197914,0.12248433228795286,0.030380344838518036,0.09977931243296878,0.37804411851647224,0.3472925727302896,0.118740190884709,0.06952503573613178,0.09125357910361198,0.08752415193036034,0.4357523342166333,0.5872823337483022,0.7536942515256323,0.33069884569813623,0.7451201715546057,0.8388492968388601,0.7121144230493146,0.9729185819329516,0.8946756748987409,0.094204734375673,0.5196832529900325,0.13959581748419325,0.9087955528633659,0.32268967570400753,0.1005040211799425,0.25759057395134377,0.8628613567418515,0.7729568714069011,0.6041940768666126,0.6911437591532114,0.6360390862606423,0.8805527220118378,0.09309741190531007,0.9665769678897618,0.40401493492669427,0.21510266092040164,0.6032747272589488,0.13346369393148982,0.6927180120095559,0.7927818182380245,0.03854618222948003,0.3311193239116087,0.6824102317254309,0.032289234945872214,0.29037495972512106,0.10784917349601886,0.6473625925209926,0.4738777081087855,0.2479928400985566,0.2496043944747831,0.9267528549528508,0.6260431195668998,0.4685849962940545,0.9501315072518524,0.8215949264898127,0.4884613027022715,0.2923858740235946,0.967076910734321,0.8207828628985582,0.5120382177460935,0.8535563336158346,0.5226896944028535,0.5451877198729138,0.8626164839246302,0.27531791634955816,0.9121773959992416,0.056038258972155086,0.8369647718632718,0.10496319309195312,0.5444898894511332,0.3191729521806793,0.3541909902520066,0.9521263034014044,0.9957754272016601,0.7492599926568682,0.9254742796331338,0.831053277640107,0.8389499645923791,0.26681899387660013,0.7864111488365306,0.019971388158618764,0.6453106965078867,0.8484294962607644,0.8458571904222854,0.9809837878444814,0.6557309504488341,0.47411240341288685,0.919796684892058,0.4531496181136957,0.10982030881119265,0.3687698849084692,0.5058598404417565,0.10135611579511805,0.8175572426049974,0.5472743403731918,0.43265199317021086,0.30082057778967464,0.6959917178135845,0.8837160677270676,0.21277175944017634,0.5434896086101216,0.66757448531999,0.6652142349874154,0.506827074315908,0.10344939896663641,0.5059566898745661,0.10293185815408479,0.07472874674061136,0.7486360095180348,0.29308607529269026,0.76417114004004,0.7608237690719947,0.8706329135687854,0.8106604042334523,0.04863528436261033,0.11776558196061582,0.9591537556212509,0.3709236079579604,0.5203961045918338,0.7778745124680237,0.9583275763269317,0.714936406376999,0.31407299543437683,0.5858986812635661,0.09486639279010545,0.045979995244123995,0.9320133305305693,0.7535832163336655,0.24503057369011128,0.4074593588833486,0.5011083835864478,0.5150880957323882,0.6472386170128241,0.6991418797101958,0.16317419998893157,0.4507531493160267,0.3287660241958221,0.20516193829391471,0.975277367269212,0.6462028173971115,0.8062465161344496,0.9606120127060082,0.9624697888451132,0.6585697508462868,0.5581276291124629,0.9230056951575588,0.6354154555244095,0.6098183685340063,0.11464808344081034,0.5838070005660613,0.7616870120665952,0.8489209670939448,0.22262150116178048,0.00885409920746838,0.2430242312902947,0.618745887000347,0.4085529860726693,0.16356211073009996,0.9213785855134305,0.6787556747955713,0.6709095832044804,0.5534457124874298,0.061846666768595404,0.6631921080217802,0.8348271069246218,0.5393739513121828,0.7482725383556746,0.21675685084179408,0.3100142972924581,0.5941549136818104,0.4795122909813615,0.3335008090438001,0.8091573682104685,0.4628812743763868,0.41179890468378333,0.4640429054908153,0.9103354048599549,0.42718623577472503,0.42932594681482406,0.4337000778078035,0.4239126228868668,0.2139307876801606,0.4070235401968245,0.37715126809885524,0.5249740217646311,0.8402163265760072,0.5752505330213341,0.3420316335115464,0.03873499062331909,0.8653974685160857,0.9577114999134917,0.309299927585311,0.06872502330615793,0.9237582481536545,0.26143976581186945,0.7467251347792989,0.6989785170563414,0.763032474087049,0.28515553337091604,0.4428392784578836,0.26080525977734914,0.7557109879866077,0.6346622592032288,0.855869933947528,0.6058131605223108,0.837608353525163,0.5458431144804761,0.6829245681676548,0.015117970956503357,0.6224839459633864,0.39814979369452164,0.04649506568511341,0.2522999055048569,0.19717730636733155,0.206285312415311,0.5541295567650215,0.5904410545543717,0.3845838066916356,0.9032889406305861,0.1464130858231939,0.4138906726734277,0.09141710903366962,0.16988349060024766,0.8580857245323691,0.531749687687203,0.657415689417992,0.07211757855421685,0.2086478874372416,0.8853514238918934,0.8303459271519009,0.4237389538821833,0.5703278550889604,0.32570425898086197,0.0939674005891602,0.16735740872401406,0.6773447209400963,0.5359061876212502,0.35780919989305393,0.5690031224700034,0.2828074139000156],\"y\":[0.33224441140411576,0.223005495670612,0.29509671867252896,0.25449670408637626,0.7694766694807715,0.12443579509071057,0.40723268067888596,0.8794093437173949,0.944067454097462,0.8948084249974512,0.8960683513523937,0.5940925707154066,0.44993114854968075,0.5362614148819232,0.5222321956677052,0.29506613719829966,0.3813950741214669,0.789765315920888,0.6270195714798265,0.5230226618691095,0.36584864857814825,0.047119360430792234,0.41449765388254967,0.23856978254296313,0.7299822162364417,0.68986253502331,0.14964751455804304,0.07905135763524995,0.8636104316230618,0.5168476999390427,0.8541004413901904,0.09093541363832103,0.509064746252966,0.536120344510453,0.8900940130822742,0.8965757013375103,0.05854786751311669,0.7366168240735723,0.12094432218264561,0.14839080057832765,0.32876962658431863,0.6381659286219102,0.436028470974537,0.9830008394642529,0.17691254487991892,0.10239442718445269,0.9543423717640351,0.8849565631524071,0.3592171721039117,0.40151881982377335,0.11414036805146699,0.3500504803706457,0.4927861557364065,0.8952349268321195,0.4824381133003568,0.8293122015717932,0.2364583896523037,0.4349768245937926,0.5830443470504043,0.3273251795047595,0.4718102464848226,0.6736413170217235,0.7526586808091298,0.14723541139650198,0.38960805647846597,0.26525661131756795,0.9815841164862965,0.8363800428184957,0.42634435935663995,0.3720742229816131,0.4789495458329318,0.7374668438470836,0.47114648223304934,0.4948571539853531,0.17198004066999018,0.9740757521782627,0.42051018420940445,0.6491187149885738,0.13546689450408178,0.4080290464116114,0.7917828292140635,0.7166244148972452,0.5861374836423164,0.4396218958010566,0.21255685244781175,0.5728235675295733,0.15432052454328582,0.021815576423417804,0.26368226746223133,0.9897203631742582,0.9362462080497719,0.09290914164861297,0.46316749272641755,0.7011293333499273,0.24147476856546968,0.28152423482635613,0.0010134570836772827,0.7264425636754754,0.5796186101952463,0.31874215381670756,0.25236200056511937,0.3136195130568181,0.13702864168780926,0.3067011261150884,0.9843933591938988,0.565271448110434,0.2941512122756116,0.2663962480613523,0.14405854414481778,0.13924951712527478,0.9969620073405632,0.009415531120265608,0.7641675737772173,0.9919544375227483,0.5791281312614786,0.4163713529801586,0.1206397486206956,0.02145279155387647,0.3828745583466362,0.0028774577443223537,0.5580957330332217,0.28078503573476943,0.42905029898507563,0.9400194906559398,0.7758891073439329,0.5279632853208944,0.7043094591825874,0.6626380501076083,0.45465017543575925,0.9243799099917607,0.0951726844804337,0.825557597111019,0.9857309765303178,0.8118437142406894,0.5940904104107676,0.36345882231542403,0.05686043166753407,0.39922346432191325,0.5600552168322105,0.3536349276021127,0.766756934516541,0.08027494423555581,0.3418794163977714,0.30023446969610246,0.2895586741533346,0.14997094256565624,0.5813162520097572,0.03354423081071922,0.3694868171789084,0.8491962751569243,0.4570909759893865,0.9716822853987495,0.24348954639126996,0.4226103214714694,0.7140969567591177,0.9422283952280487,0.24396566989687363,0.58775575326281,0.27018609297739926,0.7517171406550355,0.690503721207296,0.5240209744187223,0.700133509080772,0.3955161085572366,0.3422395852214246,0.1898614142501428,0.5268096763352533,0.026357006537230276,0.9952252562300111,0.6692577150869622,0.8829498616368407,0.44228133846226414,0.687764995397862,0.2821749140174209,0.7911638326820741,0.6012751692676097,0.8785295696949057,0.03405913077888145,0.32727971293510416,0.11358015550260736,0.8925200352047157,0.5090772090599659,0.5250748579126114,0.13629650050949516,0.6409594891113777,0.16921178957605065,0.1519272572623217,0.35899058335525325,0.3615381974362498,0.20602767720684467,0.2436331172751317,0.8339135281734342,0.19895724698735884,0.26586050156240904,0.9270971974890102,0.26303680963778686,0.8022632961689691,0.9731337465561327,0.5181924211930117,0.9093885811118023,0.3715458473529619,0.15461364856192994,0.19056245445893327,0.38304898528169695,0.15793423980842847,0.6120520909241833,0.9104742416160968,0.714504352585641,0.4723267970112801,0.32399328387578086,0.9697153335638878,0.7409603359517487,0.5018831642904104,0.441476278018186,0.26098325409026457,0.8714851892117552,0.31858354423091295,0.30099871580860704,0.26788907863879685,0.6636786744558866,0.4281460914572689,0.8599870251975428,0.23762032169671388,0.0683917413039774,0.2704089137451666,0.14911862101821072,0.17195506399563132,0.4169677772175052,0.013856552158346247,0.2900728006155562,0.9496143641041422,0.9480180077466197,0.7435057448272337,0.4792961811020512,0.4206911997023739,0.7058683724812744,0.826264537056744,0.1021215748688129,0.3885501046902077,0.1344348407479048,0.4838455843078756,0.5405278445160895,0.6718197052480012,0.45807853580931746,0.9149101398962598,0.6982188111304004,0.891972183569294,0.5905910910969505,0.562352814843012,0.2837121249533583,0.35335145000442036,0.0679180467083248,0.0291034277286365,0.6840517857213082,0.8820903044893803,0.1315204564309156,0.9101677697859182,0.32973020553654997,0.3294295240398747,0.051845149153225356,0.6738970169965856,0.5934254967307028,0.545752760856004,0.547897122752622,0.160825231129755,0.23721790681882904,0.13512530160791936,0.6166288479921134,0.6981618517989929,0.29111275582672214,0.9538761315622826,0.03582666940130652,0.4703344558875381,0.3447455103204161,0.11745708455236292,0.9903516010953535,0.8656580527577697,0.16210140218032432,0.14785916444709524,0.1469453110021416,0.19985916921188962,0.7672072154373093,0.5155791796606288,0.08722547106951917,0.41704765568710533,0.23927588409845113,0.8309311050110338,0.7048518181252588,0.26731489297770006,0.2700049918888213,0.8310045336320785,0.9987812278497286,0.6373357629532553,0.705893282644447,0.6902610451413392,0.6977166931555633,0.30712292950466147,0.027661437236822795,0.8473528063182362,0.7016355586844862,0.4889843296461158,0.46698106767461633,0.3104181562217997,0.8217962932744857,0.135815527411281,0.47978615882433084,0.34313946824952213,0.17015925333227833,0.9861338014357249,0.5354756396253386,0.49553111316937704,0.2733836279806048,0.0672849885274398,0.0520871870879267,0.3325060680998049,0.7367695311379647,0.2805610298488961,0.47592583870532834,0.5801897636018923,0.7309942524335142,0.5839642533440323,0.36584506764968205,0.6331062716468222,0.5462568053756128,0.8494923617106529,0.8995191647597106,0.7958212986919844,0.9583071826989698,0.8010501157175287,0.8105937020146149,0.8216344428251792,0.8652142496415067,0.7751601338969816,0.8655016693930244,0.9906302379663273,0.2259343469952576,0.5536283331467013,0.556037108897189,0.9251062781469521,0.8631159961168577,0.6438719046316622,0.19218390194938972,0.42024818468505976,0.2924131964551373,0.33157269213845464,0.4174938149658879,0.9612224794271269,0.9147202844567746,0.48310798730921956,0.6513674880343421,0.3461044354637288,0.8340920692859047,0.2790361816944854,0.11370884469109266,0.6298285188591546,0.8361611659841421,0.5429382248567464,0.9680745117788081,0.9718306191988823,0.786452791119759,0.7445644186430832,0.4128349681213327,0.34960132359798424,0.07205127626144725,0.7413918595726872,0.8081584058021469,0.491218282466775,0.20229175654708176,0.7587365827430115,0.5846380250817838,0.5743509264391934,0.42507301786102325,0.76670350662386,0.48470179661102497,0.9771500086928572,0.8877024622619553,0.7338539446319046,0.4403885920641396,0.7138855290672023,0.003392809679574782,0.9654194617536909,0.5134301241536423,0.4548986699415395,0.6433158200222002,0.6115368254100142,0.4896658964212075,0.6098954128722386,0.7181862385205018,0.23231999589719043,0.9253280473283771,0.19016298190063607,0.9417257868878679,0.17546811690566833,0.5171241713064347,0.7615420431697487,0.5213525225096263,0.7168394879241606,0.7166041180946744,0.11186163912528357,0.9749959311195135,0.6415313212059547,0.9242994284902754,0.8595973351349323,0.39564300915679307,0.744855203845487,0.13608038911517428,0.26517385559331885,0.34488954674861083,0.39784631467148346,0.9252665580113475,0.20560720292994616,0.3009535731737336,0.8314781128264052,0.07700925712030748,0.8312657521553116,0.9313619446747464,0.5283721201940755,0.2527782663561715,0.5850292691672218,0.9286494301538045,0.37407393250125254,0.615747186989824,0.6666828655009397,0.6578055035392655,0.37448881195710104,0.9003641652121297,0.6996189839469535,0.47838108922676714,0.7172584450635962,0.5661719387771533,0.23195592832138734,0.9944536927935725,0.12394456321686442,0.9888789664956531,0.233621863007061,0.3776353164525965,0.9620422477342281,0.42761847547097565,0.914526606357979,0.013060784977223072,0.6350171432571046,0.11648134733298321,0.15484612370832695,0.5251331406385805,0.33766019285517157,0.10940011735437083,0.624729898182367,0.29572507441630125,0.7265244613180027,0.7700258171351767,0.7779386502858205,0.3559948061773971,0.939173384140974,0.44959843201283756,0.15915269959026745,0.22614251515324912,0.2284948584390365,0.7312395433797377,0.6721718952993581,0.13828468435139651,0.7209867287509871,0.26819987449818006,0.8182913232693257,0.8113740525930675,0.907528613683257,0.6941949327479287,0.6595837070677434,0.31665236911775496,0.44896058654158555,0.8586368845585628,0.01590739059406332,0.2781314602624042,0.6602772652466972,0.6631454373786879,0.9953300487380633,0.9900253179983054,0.5808508313702816,0.537984732475082,0.29990432009140566,0.8377849157125415,0.18607040031347755,0.09792721462655463,0.026852371287768628,0.18127312379450145,0.3537392903953629,0.1965052624482917,0.8337980488844811,0.8100876179462608,0.4334915953590106,0.6455231955616689,0.13018941735764744,0.4994614767551715,0.5350127864713647,0.14688105517089478,0.7051534708390732,0.8047682952932148,0.7414307759399743,0.3949596690564027,0.6923131801035909,0.13793209523594485]}},\"id\":\"2dd541df-6a87-462c-a399-62ecfd4dcbae\",\"type\":\"ColumnDataSource\"},{\"attributes\":{\"data_source\":{\"id\":\"2497819b-d080-4c48-ad31-649e994f9a92\",\"type\":\"ColumnDataSource\"},\"glyph\":{\"id\":\"ff39d517-b839-480f-9b27-391ae82f38a0\",\"type\":\"Line\"},\"hover_glyph\":null,\"muted_glyph\":null,\"nonselection_glyph\":{\"id\":\"51f930da-098f-43ba-bd48-baa5d542d9d5\",\"type\":\"Line\"},\"selection_glyph\":null,\"view\":{\"id\":\"44c8c9b6-0f5a-4fc6-aac5-a6a48fd381f4\",\"type\":\"CDSView\"}},\"id\":\"9e143855-bc17-47cc-b1ec-5c9eaa52662c\",\"type\":\"GlyphRenderer\"}],\"root_ids\":[\"a79bf002-8159-4f48-8c92-3c37d423cf7f\"]},\"title\":\"Bokeh Application\",\"version\":\"0.12.13\"}};\n",
       "  var render_items = [{\"docid\":\"106548a1-a82d-41a2-874f-50fadee564af\",\"elementid\":\"dff84a0c-12bf-4a29-9a85-72af9cb1be50\",\"modelid\":\"a79bf002-8159-4f48-8c92-3c37d423cf7f\"}];\n",
       "  root.Bokeh.embed.embed_items_notebook(docs_json, render_items);\n",
       "\n",
       "  }\n",
       "  if (root.Bokeh !== undefined) {\n",
       "    embed_document(root);\n",
       "  } else {\n",
       "    var attempts = 0;\n",
       "    var timer = setInterval(function(root) {\n",
       "      if (root.Bokeh !== undefined) {\n",
       "        embed_document(root);\n",
       "        clearInterval(timer);\n",
       "      }\n",
       "      attempts++;\n",
       "      if (attempts > 100) {\n",
       "        console.log(\"Bokeh: ERROR: Unable to run BokehJS code because BokehJS library is missing\")\n",
       "        clearInterval(timer);\n",
       "      }\n",
       "    }, 10, root)\n",
       "  }\n",
       "})(window);"
      ],
      "application/vnd.bokehjs_exec.v0+json": ""
     },
     "metadata": {
      "application/vnd.bokehjs_exec.v0+json": {
       "id": "a79bf002-8159-4f48-8c92-3c37d423cf7f"
      }
     },
     "output_type": "display_data"
    }
   ],
   "source": [
    "from random import random\n",
    "\n",
    "x = [random() for x in range(500)]\n",
    "y = [random() for y in range(500)]\n",
    "color = [\"navy\"] * len(x)\n",
    "\n",
    "s = ColumnDataSource(data=dict(x=x, y=y, color=color))\n",
    "p = figure(plot_width=400, plot_height=400, tools=\"lasso_select\", title=\"Select Here\")\n",
    "p.circle('x', 'y', color='color', size=8, source=s, alpha=0.4)\n",
    "\n",
    "s2 = ColumnDataSource(data=dict(xm=[0,1],ym=[0.5, 0.5]))\n",
    "p.line(x='xm', y='ym', color=\"orange\", line_width=5, alpha=0.6, source=s2)\n",
    "\n",
    "s.callback = CustomJS(args=dict(s2=s2), code=\"\"\"\n",
    "    var inds = cb_obj.get('selected')['1d'].indices;\n",
    "    var d = cb_obj.get('data');\n",
    "    var ym = 0\n",
    "    \n",
    "    if (inds.length == 0) { return; }\n",
    "    \n",
    "    for (i = 0; i < d['color'].length; i++) {\n",
    "        d['color'][i] = \"navy\"\n",
    "    }\n",
    "    for (i = 0; i < inds.length; i++) {\n",
    "        d['color'][inds[i]] = \"firebrick\"\n",
    "        ym += d['y'][inds[i]]\n",
    "    }\n",
    "    \n",
    "    ym /= inds.length\n",
    "    s2.get('data')['ym'] = [ym, ym]\n",
    "    \n",
    "    cb_obj.trigger('change');\n",
    "    s2.trigger('change');\n",
    "\"\"\")\n",
    "\n",
    "show(p)"
   ]
  },
  {
   "cell_type": "markdown",
   "metadata": {
    "collapsed": true
   },
   "source": [
    "# More\n",
    "For more interactions, see the User Guide - http://bokeh.pydata.org/en/latest/docs/user_guide/interaction.html"
   ]
  }
 ],
 "metadata": {
  "anaconda-cloud": {},
  "kernelspec": {
   "display_name": "Python 3",
   "language": "python",
   "name": "python3"
  },
  "language_info": {
   "codemirror_mode": {
    "name": "ipython",
    "version": 3
   },
   "file_extension": ".py",
   "mimetype": "text/x-python",
   "name": "python",
   "nbconvert_exporter": "python",
   "pygments_lexer": "ipython3",
   "version": "3.6.3"
  },
  "widgets": {
   "state": {
    "335ae2c8ff80469e9adac668c2924989": {
     "views": [
      {
       "cell_index": 19
      }
     ]
    }
   },
   "version": "1.2.0"
  }
 },
 "nbformat": 4,
 "nbformat_minor": 1
}
