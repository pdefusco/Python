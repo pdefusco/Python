{
 "cells": [
  {
   "cell_type": "markdown",
   "metadata": {},
   "source": [
    "# Matplotlib"
   ]
  },
  {
   "cell_type": "markdown",
   "metadata": {},
   "source": [
    "Matplotlib is the Swiss Army Knife of python visualization tools: it's been around forever and everything you could want to do has been done <i>at some point before</i>, although it probably looks bad.\n",
    "<br><br>\n",
    "Pyplot is a collection of functions that make Matplotlib work like Matlab, and it is the most frequently used part of Matplotlib.\n",
    "<br><br>\n",
    "Example Gallery: http://matplotlib.org/gallery.html<br>\n",
    "Pyplot Tutorial: http://matplotlib.org/users/pyplot_tutorial.html<br>\n",
    "Full Beginner's Guide: http://matplotlib.org/users/beginner.html"
   ]
  },
  {
   "cell_type": "markdown",
   "metadata": {},
   "source": [
    "## Scatter Plot"
   ]
  },
  {
   "cell_type": "code",
   "execution_count": null,
   "metadata": {
    "collapsed": true
   },
   "outputs": [],
   "source": [
    "import matplotlib.pyplot as plt\n",
    "\n",
    "# Make matplotlib plot in notebook rather than external\n",
    "%matplotlib inline\n",
    "\n",
    "# Define X & Y datasets\n",
    "x = [1,2,3,4]\n",
    "y = [1,4,9,16]\n",
    "\n",
    "# Define ranges for axis\n",
    "x_min = 0\n",
    "x_max = 6\n",
    "y_min = 0\n",
    "y_max = 20\n",
    "\n",
    "# Add a point for each (x, y) with setting 'ro' (red circle) to the figure\n",
    "plt.plot(x, y, 'ro')\n",
    "# Set the axis bounds\n",
    "plt.axis([x_min, x_max, y_min, y_max])\n",
    "# Show the current figure\n",
    "plt.show()"
   ]
  },
  {
   "cell_type": "markdown",
   "metadata": {},
   "source": [
    "## Multiple Plots"
   ]
  },
  {
   "cell_type": "code",
   "execution_count": null,
   "metadata": {
    "collapsed": true
   },
   "outputs": [],
   "source": [
    "import matplotlib.pyplot as plt\n",
    "import numpy as np\n",
    "\n",
    "# Make matplotlib plot in notebook rather than external\n",
    "%matplotlib inline\n",
    "\n",
    "# Create an array of evenly sampled points from 0 to 5, step = 0.2\n",
    "t = np.arange(0., 5., 0.2)\n",
    "\n",
    "# Create a new figure which is 10x5 inches big\n",
    "plt.figure(figsize=(10, 5))\n",
    "\n",
    "# Plot t vs. t with red circles\n",
    "plt.plot(t, t, 'ro')\n",
    "# Plot t vs. t^2 with blue squares\n",
    "plt.plot(t, t**2, 'bs')\n",
    "# Plot t vs. t^3 with green triangles connected by a line\n",
    "plt.plot(t, t**3, 'g^-')\n",
    "\n",
    "plt.show()"
   ]
  },
  {
   "cell_type": "markdown",
   "metadata": {},
   "source": [
    "## Bubble Plot"
   ]
  },
  {
   "cell_type": "code",
   "execution_count": null,
   "metadata": {
    "collapsed": true
   },
   "outputs": [],
   "source": [
    "import numpy as np\n",
    "import matplotlib.pyplot as plt\n",
    "\n",
    "# Make matplotlib plot in notebook rather than external\n",
    "%matplotlib inline\n",
    "\n",
    "# Generate 50 random points \n",
    "N = 50\n",
    "x = np.random.rand(N)\n",
    "y = np.random.rand(N)\n",
    "\n",
    "# Generate 50 random area values\n",
    "area = np.pi * (15 * np.random.rand(N))**2  # 0 to 15 point radiuses\n",
    "\n",
    "# Use plt.scatter to plot the points with the specified areas and opacity\n",
    "plt.scatter(x, y, s=area, alpha=0.5)\n",
    "plt.show()"
   ]
  },
  {
   "cell_type": "markdown",
   "metadata": {},
   "source": [
    "## Stacked Bar Chart with Error Margins"
   ]
  },
  {
   "cell_type": "code",
   "execution_count": null,
   "metadata": {
    "collapsed": true,
    "scrolled": true
   },
   "outputs": [],
   "source": [
    "import numpy as np\n",
    "import matplotlib.pyplot as plt\n",
    "\n",
    "# Make matplotlib plot in notebook rather than external\n",
    "%matplotlib inline\n",
    "\n",
    "# Define some data\n",
    "N = 5\n",
    "menMeans = (20, 35, 30, 35, 27)\n",
    "womenMeans = (25, 32, 34, 20, 25)\n",
    "menStd = (2, 3, 4, 1, 2)\n",
    "womenStd = (3, 5, 2, 3, 3)\n",
    "ind = np.arange(N)    # the x locations for the groups\n",
    "width = 0.35       # the width of the bars: can also be len(x) sequence\n",
    "\n",
    "# Add a bar of height specified by each of the values in menMeans\n",
    "# At the x coordinate specified by ind\n",
    "# with the error bars specified by menStd\n",
    "p1 = plt.bar(ind, menMeans, width, color='r', yerr=menStd)\n",
    "\n",
    "# Add a barchart ontop of the men bars (with bottom=menMeans) \n",
    "# with the specified error bars by womenStd\n",
    "p2 = plt.bar(ind, womenMeans, width, color='y',\n",
    "             bottom=menMeans, yerr=womenStd)\n",
    "\n",
    "# Set a y-axis label and plot title \n",
    "plt.ylabel('Scores')\n",
    "plt.title('Scores by group and gender')\n",
    "\n",
    "# Define the x-axis labels and their locations\n",
    "plt.xticks(ind + width/2., ('G1', 'G2', 'G3', 'G4', 'G5'))\n",
    "plt.yticks(np.arange(0, 81, 10))\n",
    "\n",
    "# Add a legend\n",
    "plt.legend((p1[0], p2[0]), ('Men', 'Women'))\n",
    "\n",
    "plt.show()"
   ]
  },
  {
   "cell_type": "markdown",
   "metadata": {},
   "source": [
    "## Subplots"
   ]
  },
  {
   "cell_type": "code",
   "execution_count": null,
   "metadata": {
    "collapsed": true
   },
   "outputs": [],
   "source": [
    "import numpy as np\n",
    "import matplotlib.pyplot as plt\n",
    "\n",
    "# Make matplotlib plot in notebook rather than external\n",
    "%matplotlib inline\n",
    "\n",
    "def f(t):\n",
    "    return np.exp(-t) * np.cos(2*np.pi*t)\n",
    "\n",
    "# Create two x datasets from 0 to 5 sampled at different intervals\n",
    "t1 = np.arange(0.0, 5.0, 0.1)\n",
    "t2 = np.arange(0.0, 5.0, 0.02)\n",
    "\n",
    "# Create a figure\n",
    "plt.figure()\n",
    "\n",
    "# Subplots are defined in a grid shape with a number of rows, \n",
    "# a number of columns, and a figure number from 1 to numrows*numcols\n",
    "# Ex: plt.subplot(numrows, numcols, fignum)\n",
    "\n",
    "numrows = 2\n",
    "numcols = 1\n",
    "\n",
    "# Add a subplot at fignum=1 \n",
    "plt.subplot(numrows, numcols, 1)\n",
    "plt.plot(t1, f(t1), 'bo-')\n",
    "\n",
    "# Add a subplot at fignum=2\n",
    "plt.subplot(numrows, numcols, 2)\n",
    "plt.plot(t2, np.cos(2*np.pi*t2), 'r--')\n",
    "plt.show()"
   ]
  },
  {
   "cell_type": "markdown",
   "metadata": {},
   "source": [
    "## MPlot3d: 3D Plots"
   ]
  },
  {
   "cell_type": "code",
   "execution_count": null,
   "metadata": {
    "collapsed": true
   },
   "outputs": [],
   "source": [
    "from mpl_toolkits.mplot3d import Axes3D\n",
    "from matplotlib import cm\n",
    "from matplotlib.ticker import LinearLocator, FormatStrFormatter\n",
    "import matplotlib.pyplot as plt\n",
    "import numpy as np\n",
    "\n",
    "# Make matplotlib plot in notebook rather than external\n",
    "%matplotlib inline\n",
    "\n",
    "fig = plt.figure()\n",
    "ax = fig.gca(projection='3d')\n",
    "X = np.arange(-5, 5, 0.25)\n",
    "Y = np.arange(-5, 5, 0.25)\n",
    "X, Y = np.meshgrid(X, Y)\n",
    "R = np.sqrt(X**2 + Y**2)\n",
    "Z = np.sin(R)\n",
    "surf = ax.plot_surface(X, Y, Z, rstride=1, cstride=1, cmap=cm.coolwarm,\n",
    "                       linewidth=0, antialiased=False)\n",
    "ax.set_zlim(-1.01, 1.01)\n",
    "\n",
    "ax.zaxis.set_major_locator(LinearLocator(10))\n",
    "ax.zaxis.set_major_formatter(FormatStrFormatter('%.02f'))\n",
    "\n",
    "fig.colorbar(surf, shrink=0.5, aspect=5)\n",
    "\n",
    "plt.show()"
   ]
  },
  {
   "cell_type": "markdown",
   "metadata": {},
   "source": [
    "## Matplotlib Widgets\n",
    "Reference: http://matplotlib.org/api/widgets_api.html<br>\n",
    "You'll need to restart your notebook kernel to run this if you've already plotted the previous examples using %matplotlin inline."
   ]
  },
  {
   "cell_type": "code",
   "execution_count": null,
   "metadata": {
    "collapsed": true
   },
   "outputs": [],
   "source": [
    "import numpy as np\n",
    "import matplotlib.pyplot as plt\n",
    "from matplotlib.widgets import Slider, Button, RadioButtons\n",
    "\n",
    "\n",
    "# Make matplotlib interactivity work in notebook rather than external\n",
    "%matplotlib inline\n",
    "%matplotlib nbagg\n",
    "\n",
    "\n",
    "# Make matplotlib interactivity plot in external window\n",
    "#%matplotlib qt\n",
    "#%matplotlib inline\n",
    "\n",
    "fig, ax = plt.subplots()\n",
    "plt.subplots_adjust(left=0.25, bottom=0.25)\n",
    "t = np.arange(0.0, 1.0, 0.001)\n",
    "a0 = 5\n",
    "f0 = 3\n",
    "s = a0*np.sin(2*np.pi*f0*t)\n",
    "l, = plt.plot(t, s, lw=2, color='red')\n",
    "plt.axis([0, 1, -10, 10])\n",
    "\n",
    "# Define the locations and sizes of sliders\n",
    "axcolor = 'lightgoldenrodyellow'\n",
    "axfreq = plt.axes([0.25, 0.1, 0.65, 0.03], axisbg=axcolor)\n",
    "axamp = plt.axes([0.25, 0.15, 0.65, 0.03], axisbg=axcolor)\n",
    "\n",
    "# Create two sliders which operate on the frequency and amplitude\n",
    "sfreq = Slider(axfreq, 'Freq', 0.1, 30.0, valinit=f0)\n",
    "samp = Slider(axamp, 'Amp', 0.1, 10.0, valinit=a0)\n",
    "\n",
    "# Define callbacks for the sliders and bind them\n",
    "def update(val):\n",
    "    amp = samp.val\n",
    "    freq = sfreq.val\n",
    "    l.set_ydata(amp*np.sin(2*np.pi*freq*t))\n",
    "    fig.canvas.draw_idle()\n",
    "sfreq.on_changed(update)\n",
    "samp.on_changed(update)\n",
    "\n",
    "# Create the reset button and set it's callback\n",
    "resetax = plt.axes([0.8, 0.025, 0.1, 0.04])\n",
    "button = Button(resetax, 'Reset', color=axcolor, hovercolor='0.975')\n",
    "\n",
    "def reset(event):\n",
    "    sfreq.reset()\n",
    "    samp.reset()\n",
    "button.on_clicked(reset)\n",
    "\n",
    "# Add the color radio buttons and set their calback\n",
    "rax = plt.axes([0.025, 0.5, 0.15, 0.15], axisbg=axcolor)\n",
    "radio = RadioButtons(rax, ('red', 'blue', 'green'), active=0)\n",
    "\n",
    "def colorfunc(label):\n",
    "    l.set_color(label)\n",
    "    fig.canvas.draw_idle()\n",
    "radio.on_clicked(colorfunc)\n",
    "\n",
    "plt.show()"
   ]
  },
  {
   "cell_type": "code",
   "execution_count": null,
   "metadata": {
    "collapsed": true
   },
   "outputs": [],
   "source": []
  }
 ],
 "metadata": {
  "kernelspec": {
   "display_name": "Python 3",
   "language": "python",
   "name": "python3"
  },
  "language_info": {
   "codemirror_mode": {
    "name": "ipython",
    "version": 3
   },
   "file_extension": ".py",
   "mimetype": "text/x-python",
   "name": "python",
   "nbconvert_exporter": "python",
   "pygments_lexer": "ipython3",
   "version": "3.6.3"
  }
 },
 "nbformat": 4,
 "nbformat_minor": 1
}
