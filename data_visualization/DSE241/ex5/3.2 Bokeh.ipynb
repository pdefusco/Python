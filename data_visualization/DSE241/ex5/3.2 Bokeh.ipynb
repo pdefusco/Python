{
 "cells": [
  {
   "cell_type": "code",
   "execution_count": 1,
   "metadata": {
    "collapsed": true
   },
   "outputs": [],
   "source": [
    "from bokeh.io import output_notebook, show\n",
    "from bokeh.plotting import figure"
   ]
  },
  {
   "cell_type": "code",
   "execution_count": 2,
   "metadata": {},
   "outputs": [
    {
     "data": {
      "text/html": [
       "\n",
       "    <div class=\"bk-root\">\n",
       "        <a href=\"https://bokeh.pydata.org\" target=\"_blank\" class=\"bk-logo bk-logo-small bk-logo-notebook\"></a>\n",
       "        <span id=\"4089c809-bd61-46b8-829b-475096497c9c\">Loading BokehJS ...</span>\n",
       "    </div>"
      ]
     },
     "metadata": {},
     "output_type": "display_data"
    },
    {
     "data": {
      "application/javascript": [
       "\n",
       "(function(root) {\n",
       "  function now() {\n",
       "    return new Date();\n",
       "  }\n",
       "\n",
       "  var force = true;\n",
       "\n",
       "  if (typeof (root._bokeh_onload_callbacks) === \"undefined\" || force === true) {\n",
       "    root._bokeh_onload_callbacks = [];\n",
       "    root._bokeh_is_loading = undefined;\n",
       "  }\n",
       "\n",
       "  var JS_MIME_TYPE = 'application/javascript';\n",
       "  var HTML_MIME_TYPE = 'text/html';\n",
       "  var EXEC_MIME_TYPE = 'application/vnd.bokehjs_exec.v0+json';\n",
       "  var CLASS_NAME = 'output_bokeh rendered_html';\n",
       "\n",
       "  /**\n",
       "   * Render data to the DOM node\n",
       "   */\n",
       "  function render(props, node) {\n",
       "    var script = document.createElement(\"script\");\n",
       "    node.appendChild(script);\n",
       "  }\n",
       "\n",
       "  /**\n",
       "   * Handle when an output is cleared or removed\n",
       "   */\n",
       "  function handleClearOutput(event, handle) {\n",
       "    var cell = handle.cell;\n",
       "\n",
       "    var id = cell.output_area._bokeh_element_id;\n",
       "    var server_id = cell.output_area._bokeh_server_id;\n",
       "    // Clean up Bokeh references\n",
       "    if (id !== undefined) {\n",
       "      Bokeh.index[id].model.document.clear();\n",
       "      delete Bokeh.index[id];\n",
       "    }\n",
       "\n",
       "    if (server_id !== undefined) {\n",
       "      // Clean up Bokeh references\n",
       "      var cmd = \"from bokeh.io.state import curstate; print(curstate().uuid_to_server['\" + server_id + \"'].get_sessions()[0].document.roots[0]._id)\";\n",
       "      cell.notebook.kernel.execute(cmd, {\n",
       "        iopub: {\n",
       "          output: function(msg) {\n",
       "            var element_id = msg.content.text.trim();\n",
       "            Bokeh.index[element_id].model.document.clear();\n",
       "            delete Bokeh.index[element_id];\n",
       "          }\n",
       "        }\n",
       "      });\n",
       "      // Destroy server and session\n",
       "      var cmd = \"import bokeh.io.notebook as ion; ion.destroy_server('\" + server_id + \"')\";\n",
       "      cell.notebook.kernel.execute(cmd);\n",
       "    }\n",
       "  }\n",
       "\n",
       "  /**\n",
       "   * Handle when a new output is added\n",
       "   */\n",
       "  function handleAddOutput(event, handle) {\n",
       "    var output_area = handle.output_area;\n",
       "    var output = handle.output;\n",
       "\n",
       "    // limit handleAddOutput to display_data with EXEC_MIME_TYPE content only\n",
       "    if ((output.output_type != \"display_data\") || (!output.data.hasOwnProperty(EXEC_MIME_TYPE))) {\n",
       "      return\n",
       "    }\n",
       "\n",
       "    var toinsert = output_area.element.find(\".\" + CLASS_NAME.split(' ')[0]);\n",
       "\n",
       "    if (output.metadata[EXEC_MIME_TYPE][\"id\"] !== undefined) {\n",
       "      toinsert[0].firstChild.textContent = output.data[JS_MIME_TYPE];\n",
       "      // store reference to embed id on output_area\n",
       "      output_area._bokeh_element_id = output.metadata[EXEC_MIME_TYPE][\"id\"];\n",
       "    }\n",
       "    if (output.metadata[EXEC_MIME_TYPE][\"server_id\"] !== undefined) {\n",
       "      var bk_div = document.createElement(\"div\");\n",
       "      bk_div.innerHTML = output.data[HTML_MIME_TYPE];\n",
       "      var script_attrs = bk_div.children[0].attributes;\n",
       "      for (var i = 0; i < script_attrs.length; i++) {\n",
       "        toinsert[0].firstChild.setAttribute(script_attrs[i].name, script_attrs[i].value);\n",
       "      }\n",
       "      // store reference to server id on output_area\n",
       "      output_area._bokeh_server_id = output.metadata[EXEC_MIME_TYPE][\"server_id\"];\n",
       "    }\n",
       "  }\n",
       "\n",
       "  function register_renderer(events, OutputArea) {\n",
       "\n",
       "    function append_mime(data, metadata, element) {\n",
       "      // create a DOM node to render to\n",
       "      var toinsert = this.create_output_subarea(\n",
       "        metadata,\n",
       "        CLASS_NAME,\n",
       "        EXEC_MIME_TYPE\n",
       "      );\n",
       "      this.keyboard_manager.register_events(toinsert);\n",
       "      // Render to node\n",
       "      var props = {data: data, metadata: metadata[EXEC_MIME_TYPE]};\n",
       "      render(props, toinsert[0]);\n",
       "      element.append(toinsert);\n",
       "      return toinsert\n",
       "    }\n",
       "\n",
       "    /* Handle when an output is cleared or removed */\n",
       "    events.on('clear_output.CodeCell', handleClearOutput);\n",
       "    events.on('delete.Cell', handleClearOutput);\n",
       "\n",
       "    /* Handle when a new output is added */\n",
       "    events.on('output_added.OutputArea', handleAddOutput);\n",
       "\n",
       "    /**\n",
       "     * Register the mime type and append_mime function with output_area\n",
       "     */\n",
       "    OutputArea.prototype.register_mime_type(EXEC_MIME_TYPE, append_mime, {\n",
       "      /* Is output safe? */\n",
       "      safe: true,\n",
       "      /* Index of renderer in `output_area.display_order` */\n",
       "      index: 0\n",
       "    });\n",
       "  }\n",
       "\n",
       "  // register the mime type if in Jupyter Notebook environment and previously unregistered\n",
       "  if (root.Jupyter !== undefined) {\n",
       "    var events = require('base/js/events');\n",
       "    var OutputArea = require('notebook/js/outputarea').OutputArea;\n",
       "\n",
       "    if (OutputArea.prototype.mime_types().indexOf(EXEC_MIME_TYPE) == -1) {\n",
       "      register_renderer(events, OutputArea);\n",
       "    }\n",
       "  }\n",
       "\n",
       "  \n",
       "  if (typeof (root._bokeh_timeout) === \"undefined\" || force === true) {\n",
       "    root._bokeh_timeout = Date.now() + 5000;\n",
       "    root._bokeh_failed_load = false;\n",
       "  }\n",
       "\n",
       "  var NB_LOAD_WARNING = {'data': {'text/html':\n",
       "     \"<div style='background-color: #fdd'>\\n\"+\n",
       "     \"<p>\\n\"+\n",
       "     \"BokehJS does not appear to have successfully loaded. If loading BokehJS from CDN, this \\n\"+\n",
       "     \"may be due to a slow or bad network connection. Possible fixes:\\n\"+\n",
       "     \"</p>\\n\"+\n",
       "     \"<ul>\\n\"+\n",
       "     \"<li>re-rerun `output_notebook()` to attempt to load from CDN again, or</li>\\n\"+\n",
       "     \"<li>use INLINE resources instead, as so:</li>\\n\"+\n",
       "     \"</ul>\\n\"+\n",
       "     \"<code>\\n\"+\n",
       "     \"from bokeh.resources import INLINE\\n\"+\n",
       "     \"output_notebook(resources=INLINE)\\n\"+\n",
       "     \"</code>\\n\"+\n",
       "     \"</div>\"}};\n",
       "\n",
       "  function display_loaded() {\n",
       "    var el = document.getElementById(\"4089c809-bd61-46b8-829b-475096497c9c\");\n",
       "    if (el != null) {\n",
       "      el.textContent = \"BokehJS is loading...\";\n",
       "    }\n",
       "    if (root.Bokeh !== undefined) {\n",
       "      if (el != null) {\n",
       "        el.textContent = \"BokehJS \" + root.Bokeh.version + \" successfully loaded.\";\n",
       "      }\n",
       "    } else if (Date.now() < root._bokeh_timeout) {\n",
       "      setTimeout(display_loaded, 100)\n",
       "    }\n",
       "  }\n",
       "\n",
       "\n",
       "  function run_callbacks() {\n",
       "    try {\n",
       "      root._bokeh_onload_callbacks.forEach(function(callback) { callback() });\n",
       "    }\n",
       "    finally {\n",
       "      delete root._bokeh_onload_callbacks\n",
       "    }\n",
       "    console.info(\"Bokeh: all callbacks have finished\");\n",
       "  }\n",
       "\n",
       "  function load_libs(js_urls, callback) {\n",
       "    root._bokeh_onload_callbacks.push(callback);\n",
       "    if (root._bokeh_is_loading > 0) {\n",
       "      console.log(\"Bokeh: BokehJS is being loaded, scheduling callback at\", now());\n",
       "      return null;\n",
       "    }\n",
       "    if (js_urls == null || js_urls.length === 0) {\n",
       "      run_callbacks();\n",
       "      return null;\n",
       "    }\n",
       "    console.log(\"Bokeh: BokehJS not loaded, scheduling load and callback at\", now());\n",
       "    root._bokeh_is_loading = js_urls.length;\n",
       "    for (var i = 0; i < js_urls.length; i++) {\n",
       "      var url = js_urls[i];\n",
       "      var s = document.createElement('script');\n",
       "      s.src = url;\n",
       "      s.async = false;\n",
       "      s.onreadystatechange = s.onload = function() {\n",
       "        root._bokeh_is_loading--;\n",
       "        if (root._bokeh_is_loading === 0) {\n",
       "          console.log(\"Bokeh: all BokehJS libraries loaded\");\n",
       "          run_callbacks()\n",
       "        }\n",
       "      };\n",
       "      s.onerror = function() {\n",
       "        console.warn(\"failed to load library \" + url);\n",
       "      };\n",
       "      console.log(\"Bokeh: injecting script tag for BokehJS library: \", url);\n",
       "      document.getElementsByTagName(\"head\")[0].appendChild(s);\n",
       "    }\n",
       "  };var element = document.getElementById(\"4089c809-bd61-46b8-829b-475096497c9c\");\n",
       "  if (element == null) {\n",
       "    console.log(\"Bokeh: ERROR: autoload.js configured with elementid '4089c809-bd61-46b8-829b-475096497c9c' but no matching script tag was found. \")\n",
       "    return false;\n",
       "  }\n",
       "\n",
       "  var js_urls = [\"https://cdn.pydata.org/bokeh/release/bokeh-0.12.13.min.js\", \"https://cdn.pydata.org/bokeh/release/bokeh-widgets-0.12.13.min.js\", \"https://cdn.pydata.org/bokeh/release/bokeh-tables-0.12.13.min.js\", \"https://cdn.pydata.org/bokeh/release/bokeh-gl-0.12.13.min.js\"];\n",
       "\n",
       "  var inline_js = [\n",
       "    function(Bokeh) {\n",
       "      Bokeh.set_log_level(\"info\");\n",
       "    },\n",
       "    \n",
       "    function(Bokeh) {\n",
       "      \n",
       "    },\n",
       "    function(Bokeh) {\n",
       "      console.log(\"Bokeh: injecting CSS: https://cdn.pydata.org/bokeh/release/bokeh-0.12.13.min.css\");\n",
       "      Bokeh.embed.inject_css(\"https://cdn.pydata.org/bokeh/release/bokeh-0.12.13.min.css\");\n",
       "      console.log(\"Bokeh: injecting CSS: https://cdn.pydata.org/bokeh/release/bokeh-widgets-0.12.13.min.css\");\n",
       "      Bokeh.embed.inject_css(\"https://cdn.pydata.org/bokeh/release/bokeh-widgets-0.12.13.min.css\");\n",
       "      console.log(\"Bokeh: injecting CSS: https://cdn.pydata.org/bokeh/release/bokeh-tables-0.12.13.min.css\");\n",
       "      Bokeh.embed.inject_css(\"https://cdn.pydata.org/bokeh/release/bokeh-tables-0.12.13.min.css\");\n",
       "    }\n",
       "  ];\n",
       "\n",
       "  function run_inline_js() {\n",
       "    \n",
       "    if ((root.Bokeh !== undefined) || (force === true)) {\n",
       "      for (var i = 0; i < inline_js.length; i++) {\n",
       "        inline_js[i].call(root, root.Bokeh);\n",
       "      }if (force === true) {\n",
       "        display_loaded();\n",
       "      }} else if (Date.now() < root._bokeh_timeout) {\n",
       "      setTimeout(run_inline_js, 100);\n",
       "    } else if (!root._bokeh_failed_load) {\n",
       "      console.log(\"Bokeh: BokehJS failed to load within specified timeout.\");\n",
       "      root._bokeh_failed_load = true;\n",
       "    } else if (force !== true) {\n",
       "      var cell = $(document.getElementById(\"4089c809-bd61-46b8-829b-475096497c9c\")).parents('.cell').data().cell;\n",
       "      cell.output_area.append_execute_result(NB_LOAD_WARNING)\n",
       "    }\n",
       "\n",
       "  }\n",
       "\n",
       "  if (root._bokeh_is_loading === 0) {\n",
       "    console.log(\"Bokeh: BokehJS loaded, going straight to plotting\");\n",
       "    run_inline_js();\n",
       "  } else {\n",
       "    load_libs(js_urls, function() {\n",
       "      console.log(\"Bokeh: BokehJS plotting callback run at\", now());\n",
       "      run_inline_js();\n",
       "    });\n",
       "  }\n",
       "}(window));"
      ],
      "application/vnd.bokehjs_load.v0+json": "\n(function(root) {\n  function now() {\n    return new Date();\n  }\n\n  var force = true;\n\n  if (typeof (root._bokeh_onload_callbacks) === \"undefined\" || force === true) {\n    root._bokeh_onload_callbacks = [];\n    root._bokeh_is_loading = undefined;\n  }\n\n  \n\n  \n  if (typeof (root._bokeh_timeout) === \"undefined\" || force === true) {\n    root._bokeh_timeout = Date.now() + 5000;\n    root._bokeh_failed_load = false;\n  }\n\n  var NB_LOAD_WARNING = {'data': {'text/html':\n     \"<div style='background-color: #fdd'>\\n\"+\n     \"<p>\\n\"+\n     \"BokehJS does not appear to have successfully loaded. If loading BokehJS from CDN, this \\n\"+\n     \"may be due to a slow or bad network connection. Possible fixes:\\n\"+\n     \"</p>\\n\"+\n     \"<ul>\\n\"+\n     \"<li>re-rerun `output_notebook()` to attempt to load from CDN again, or</li>\\n\"+\n     \"<li>use INLINE resources instead, as so:</li>\\n\"+\n     \"</ul>\\n\"+\n     \"<code>\\n\"+\n     \"from bokeh.resources import INLINE\\n\"+\n     \"output_notebook(resources=INLINE)\\n\"+\n     \"</code>\\n\"+\n     \"</div>\"}};\n\n  function display_loaded() {\n    var el = document.getElementById(\"4089c809-bd61-46b8-829b-475096497c9c\");\n    if (el != null) {\n      el.textContent = \"BokehJS is loading...\";\n    }\n    if (root.Bokeh !== undefined) {\n      if (el != null) {\n        el.textContent = \"BokehJS \" + root.Bokeh.version + \" successfully loaded.\";\n      }\n    } else if (Date.now() < root._bokeh_timeout) {\n      setTimeout(display_loaded, 100)\n    }\n  }\n\n\n  function run_callbacks() {\n    try {\n      root._bokeh_onload_callbacks.forEach(function(callback) { callback() });\n    }\n    finally {\n      delete root._bokeh_onload_callbacks\n    }\n    console.info(\"Bokeh: all callbacks have finished\");\n  }\n\n  function load_libs(js_urls, callback) {\n    root._bokeh_onload_callbacks.push(callback);\n    if (root._bokeh_is_loading > 0) {\n      console.log(\"Bokeh: BokehJS is being loaded, scheduling callback at\", now());\n      return null;\n    }\n    if (js_urls == null || js_urls.length === 0) {\n      run_callbacks();\n      return null;\n    }\n    console.log(\"Bokeh: BokehJS not loaded, scheduling load and callback at\", now());\n    root._bokeh_is_loading = js_urls.length;\n    for (var i = 0; i < js_urls.length; i++) {\n      var url = js_urls[i];\n      var s = document.createElement('script');\n      s.src = url;\n      s.async = false;\n      s.onreadystatechange = s.onload = function() {\n        root._bokeh_is_loading--;\n        if (root._bokeh_is_loading === 0) {\n          console.log(\"Bokeh: all BokehJS libraries loaded\");\n          run_callbacks()\n        }\n      };\n      s.onerror = function() {\n        console.warn(\"failed to load library \" + url);\n      };\n      console.log(\"Bokeh: injecting script tag for BokehJS library: \", url);\n      document.getElementsByTagName(\"head\")[0].appendChild(s);\n    }\n  };var element = document.getElementById(\"4089c809-bd61-46b8-829b-475096497c9c\");\n  if (element == null) {\n    console.log(\"Bokeh: ERROR: autoload.js configured with elementid '4089c809-bd61-46b8-829b-475096497c9c' but no matching script tag was found. \")\n    return false;\n  }\n\n  var js_urls = [\"https://cdn.pydata.org/bokeh/release/bokeh-0.12.13.min.js\", \"https://cdn.pydata.org/bokeh/release/bokeh-widgets-0.12.13.min.js\", \"https://cdn.pydata.org/bokeh/release/bokeh-tables-0.12.13.min.js\", \"https://cdn.pydata.org/bokeh/release/bokeh-gl-0.12.13.min.js\"];\n\n  var inline_js = [\n    function(Bokeh) {\n      Bokeh.set_log_level(\"info\");\n    },\n    \n    function(Bokeh) {\n      \n    },\n    function(Bokeh) {\n      console.log(\"Bokeh: injecting CSS: https://cdn.pydata.org/bokeh/release/bokeh-0.12.13.min.css\");\n      Bokeh.embed.inject_css(\"https://cdn.pydata.org/bokeh/release/bokeh-0.12.13.min.css\");\n      console.log(\"Bokeh: injecting CSS: https://cdn.pydata.org/bokeh/release/bokeh-widgets-0.12.13.min.css\");\n      Bokeh.embed.inject_css(\"https://cdn.pydata.org/bokeh/release/bokeh-widgets-0.12.13.min.css\");\n      console.log(\"Bokeh: injecting CSS: https://cdn.pydata.org/bokeh/release/bokeh-tables-0.12.13.min.css\");\n      Bokeh.embed.inject_css(\"https://cdn.pydata.org/bokeh/release/bokeh-tables-0.12.13.min.css\");\n    }\n  ];\n\n  function run_inline_js() {\n    \n    if ((root.Bokeh !== undefined) || (force === true)) {\n      for (var i = 0; i < inline_js.length; i++) {\n        inline_js[i].call(root, root.Bokeh);\n      }if (force === true) {\n        display_loaded();\n      }} else if (Date.now() < root._bokeh_timeout) {\n      setTimeout(run_inline_js, 100);\n    } else if (!root._bokeh_failed_load) {\n      console.log(\"Bokeh: BokehJS failed to load within specified timeout.\");\n      root._bokeh_failed_load = true;\n    } else if (force !== true) {\n      var cell = $(document.getElementById(\"4089c809-bd61-46b8-829b-475096497c9c\")).parents('.cell').data().cell;\n      cell.output_area.append_execute_result(NB_LOAD_WARNING)\n    }\n\n  }\n\n  if (root._bokeh_is_loading === 0) {\n    console.log(\"Bokeh: BokehJS loaded, going straight to plotting\");\n    run_inline_js();\n  } else {\n    load_libs(js_urls, function() {\n      console.log(\"Bokeh: BokehJS plotting callback run at\", now());\n      run_inline_js();\n    });\n  }\n}(window));"
     },
     "metadata": {},
     "output_type": "display_data"
    }
   ],
   "source": [
    "output_notebook()"
   ]
  },
  {
   "cell_type": "markdown",
   "metadata": {},
   "source": [
    "# Colors and Properties"
   ]
  },
  {
   "cell_type": "markdown",
   "metadata": {},
   "source": [
    "## Colors\n",
    "\n",
    "There are many places where you may need to specify colors. Bokeh can accept colors in a variety of different ways:\n",
    "\n",
    "* any of the [147 named CSS colors](http://www.w3schools.com/cssref/css_colornames.asp), e.g ``'green'``, ``'indigo'``\n",
    "* an RGB(A) hex value, e.g., ``'#FF0000'``, ``'#44444444'``\n",
    "* a 3-tuple of integers *(r,g,b)* between 0 and 255\n",
    "*  a 4-tuple of *(r,g,b,a)* where *r*, *g*, *b* are integers between 0 and 255 and *a* is a floating point value between 0 and 1\n",
    "\n"
   ]
  },
  {
   "cell_type": "markdown",
   "metadata": {
    "collapsed": true
   },
   "source": [
    "## Properties\n",
    "\n",
    "Regardless of what API (``models``, ``plotting``, or ``charts``) is used to create a Bokeh plot, styling the visual aspects of the plot can always be accomplished by setting attributes on the Bokeh model objects that comprise the resulting plot. Visual properties come in three kinds: line, fill, and text properties. For full information with code and examples see the [Styling Visual Properties](http://bokeh.pydata.org/en/latest/docs/user_guide/styling.html) section of the user guide. \n",
    "\n",
    "----\n",
    "\n",
    "### Line Properties\n",
    "\n",
    "Set the visual appearance of lines. The most common are ``line_color``, ``line_alpha``, ``line_width`` and ``line_dash``.\n",
    "\n",
    "### Fill Properties\n",
    "\n",
    "Set the visual appearance of filled areas: ``fill_color`` and ``fill_alpha``.\n",
    "\n",
    "### Text Properties\n",
    "\n",
    "Set the visual appearance of lines of text. The most common are ``text_font``, ``text_font_size``, ``text_color``, and ``text_alpha``.\n",
    "\n",
    "----\n",
    "\n",
    "Sometimes a prefix is used with property names, e.g. to distinguish between different line properties on the same object, or to give a more meaningful name. For example, to set the line width of the plot outline, you would say ``myplot.outline_line_width = 2``. "
   ]
  },
  {
   "cell_type": "markdown",
   "metadata": {},
   "source": [
    "# Plots\n",
    "\n",
    "Many top-level attributes of plots (outline, border, etc.) can be configured. See the [Plots](http://bokeh.pydata.org/en/latest/docs/user_guide/styling.html#plots) section of the styling guide for full information. \n",
    "\n",
    "Here is an example that tweaks the plot outline:"
   ]
  },
  {
   "cell_type": "code",
   "execution_count": 3,
   "metadata": {
    "scrolled": false
   },
   "outputs": [
    {
     "data": {
      "text/html": [
       "\n",
       "<div class=\"bk-root\">\n",
       "    <div class=\"bk-plotdiv\" id=\"ebcccbd6-ba29-4438-aa79-70abeccdd884\"></div>\n",
       "</div>"
      ]
     },
     "metadata": {},
     "output_type": "display_data"
    },
    {
     "data": {
      "application/javascript": [
       "(function(root) {\n",
       "  function embed_document(root) {\n",
       "    \n",
       "  var docs_json = {\"5022502d-05af-472a-92a2-dadf832f0d39\":{\"roots\":{\"references\":[{\"attributes\":{\"active_drag\":\"auto\",\"active_inspect\":\"auto\",\"active_scroll\":\"auto\",\"active_tap\":\"auto\",\"tools\":[{\"id\":\"7e8d4363-74f7-4956-8590-256db542459a\",\"type\":\"PanTool\"},{\"id\":\"cdf5c2b2-2794-4dc2-9162-bef651ea6772\",\"type\":\"WheelZoomTool\"},{\"id\":\"dd71ed5b-1a99-4070-a289-f4aab8665983\",\"type\":\"BoxZoomTool\"},{\"id\":\"7972929a-9307-4da5-bbe9-89dec837caa9\",\"type\":\"SaveTool\"},{\"id\":\"fc838e6f-7940-4211-b596-0c0081311273\",\"type\":\"ResetTool\"},{\"id\":\"de778021-b5d8-426b-850a-1ea7552cfa76\",\"type\":\"HelpTool\"}]},\"id\":\"ea8b6e66-1f92-464f-b942-f0626f222da2\",\"type\":\"Toolbar\"},{\"attributes\":{\"overlay\":{\"id\":\"aa727b6a-2e23-49a0-8ffd-4feadf9b9280\",\"type\":\"BoxAnnotation\"}},\"id\":\"dd71ed5b-1a99-4070-a289-f4aab8665983\",\"type\":\"BoxZoomTool\"},{\"attributes\":{},\"id\":\"d7fca9cf-ef86-4d86-a832-aa779abfebe9\",\"type\":\"BasicTicker\"},{\"attributes\":{},\"id\":\"7972929a-9307-4da5-bbe9-89dec837caa9\",\"type\":\"SaveTool\"},{\"attributes\":{\"formatter\":{\"id\":\"cc6b2e2a-ed00-4b28-82da-5b5f17b3c8de\",\"type\":\"BasicTickFormatter\"},\"plot\":{\"id\":\"5f659800-7c64-43f8-894b-257b755a00ad\",\"subtype\":\"Figure\",\"type\":\"Plot\"},\"ticker\":{\"id\":\"d7fca9cf-ef86-4d86-a832-aa779abfebe9\",\"type\":\"BasicTicker\"}},\"id\":\"d59f5643-83fb-438d-89d5-c27cf345ad16\",\"type\":\"LinearAxis\"},{\"attributes\":{},\"id\":\"fc838e6f-7940-4211-b596-0c0081311273\",\"type\":\"ResetTool\"},{\"attributes\":{\"plot\":{\"id\":\"5f659800-7c64-43f8-894b-257b755a00ad\",\"subtype\":\"Figure\",\"type\":\"Plot\"},\"ticker\":{\"id\":\"d7fca9cf-ef86-4d86-a832-aa779abfebe9\",\"type\":\"BasicTicker\"}},\"id\":\"2169530c-08f3-444c-9560-d9399c98fe7b\",\"type\":\"Grid\"},{\"attributes\":{},\"id\":\"de778021-b5d8-426b-850a-1ea7552cfa76\",\"type\":\"HelpTool\"},{\"attributes\":{\"dimension\":1,\"plot\":{\"id\":\"5f659800-7c64-43f8-894b-257b755a00ad\",\"subtype\":\"Figure\",\"type\":\"Plot\"},\"ticker\":{\"id\":\"a83ddd6b-65f1-4492-a867-4546e9d28843\",\"type\":\"BasicTicker\"}},\"id\":\"eedfe207-2d8a-46fa-882f-727696b18484\",\"type\":\"Grid\"},{\"attributes\":{\"bottom_units\":\"screen\",\"fill_alpha\":{\"value\":0.5},\"fill_color\":{\"value\":\"lightgrey\"},\"left_units\":\"screen\",\"level\":\"overlay\",\"line_alpha\":{\"value\":1.0},\"line_color\":{\"value\":\"black\"},\"line_dash\":[4,4],\"line_width\":{\"value\":2},\"plot\":null,\"render_mode\":\"css\",\"right_units\":\"screen\",\"top_units\":\"screen\"},\"id\":\"aa727b6a-2e23-49a0-8ffd-4feadf9b9280\",\"type\":\"BoxAnnotation\"},{\"attributes\":{\"source\":{\"id\":\"962734cd-ebd2-4899-b5b6-048961f82c77\",\"type\":\"ColumnDataSource\"}},\"id\":\"88ac8828-ee66-417d-a993-e127ddf43544\",\"type\":\"CDSView\"},{\"attributes\":{},\"id\":\"cc6b2e2a-ed00-4b28-82da-5b5f17b3c8de\",\"type\":\"BasicTickFormatter\"},{\"attributes\":{\"callback\":null},\"id\":\"7915ba75-39f3-4c0d-85c8-a0fe23b203f7\",\"type\":\"DataRange1d\"},{\"attributes\":{\"fill_alpha\":{\"value\":0.1},\"fill_color\":{\"value\":\"#1f77b4\"},\"line_alpha\":{\"value\":0.1},\"line_color\":{\"value\":\"#1f77b4\"},\"size\":{\"units\":\"screen\",\"value\":10},\"x\":{\"field\":\"x\"},\"y\":{\"field\":\"y\"}},\"id\":\"948b7d59-6e00-4bf0-8610-5f7a1fce8f43\",\"type\":\"Circle\"},{\"attributes\":{\"callback\":null},\"id\":\"faadd7af-4d8a-48de-9707-721c0da3c71e\",\"type\":\"DataRange1d\"},{\"attributes\":{\"data_source\":{\"id\":\"962734cd-ebd2-4899-b5b6-048961f82c77\",\"type\":\"ColumnDataSource\"},\"glyph\":{\"id\":\"fd57669f-1301-490a-ba5c-bffb969e12a1\",\"type\":\"Circle\"},\"hover_glyph\":null,\"muted_glyph\":null,\"nonselection_glyph\":{\"id\":\"948b7d59-6e00-4bf0-8610-5f7a1fce8f43\",\"type\":\"Circle\"},\"selection_glyph\":null,\"view\":{\"id\":\"88ac8828-ee66-417d-a993-e127ddf43544\",\"type\":\"CDSView\"}},\"id\":\"9e42ed9f-d288-469d-a73d-5c12833c1305\",\"type\":\"GlyphRenderer\"},{\"attributes\":{},\"id\":\"42fe2594-e727-4a87-9007-0ae1438ada9f\",\"type\":\"LinearScale\"},{\"attributes\":{},\"id\":\"c7a8eee8-130b-4597-8942-02f9b1ae8fa7\",\"type\":\"BasicTickFormatter\"},{\"attributes\":{\"formatter\":{\"id\":\"c7a8eee8-130b-4597-8942-02f9b1ae8fa7\",\"type\":\"BasicTickFormatter\"},\"plot\":{\"id\":\"5f659800-7c64-43f8-894b-257b755a00ad\",\"subtype\":\"Figure\",\"type\":\"Plot\"},\"ticker\":{\"id\":\"a83ddd6b-65f1-4492-a867-4546e9d28843\",\"type\":\"BasicTicker\"}},\"id\":\"7715a74f-90b9-4c32-9944-3d848f6f9ede\",\"type\":\"LinearAxis\"},{\"attributes\":{\"fill_color\":{\"value\":\"#1f77b4\"},\"line_color\":{\"value\":\"#1f77b4\"},\"size\":{\"units\":\"screen\",\"value\":10},\"x\":{\"field\":\"x\"},\"y\":{\"field\":\"y\"}},\"id\":\"fd57669f-1301-490a-ba5c-bffb969e12a1\",\"type\":\"Circle\"},{\"attributes\":{},\"id\":\"a83ddd6b-65f1-4492-a867-4546e9d28843\",\"type\":\"BasicTicker\"},{\"attributes\":{\"plot\":null,\"text\":\"\"},\"id\":\"ff70d1bd-ce7b-4c27-bb50-7169bb237b4b\",\"type\":\"Title\"},{\"attributes\":{\"callback\":null,\"column_names\":[\"x\",\"y\"],\"data\":{\"x\":[1,2,3,4,5],\"y\":[2,5,8,2,7]}},\"id\":\"962734cd-ebd2-4899-b5b6-048961f82c77\",\"type\":\"ColumnDataSource\"},{\"attributes\":{\"below\":[{\"id\":\"d59f5643-83fb-438d-89d5-c27cf345ad16\",\"type\":\"LinearAxis\"}],\"left\":[{\"id\":\"7715a74f-90b9-4c32-9944-3d848f6f9ede\",\"type\":\"LinearAxis\"}],\"outline_line_alpha\":{\"value\":0.3},\"outline_line_color\":{\"value\":\"navy\"},\"outline_line_width\":{\"value\":7},\"plot_height\":400,\"plot_width\":400,\"renderers\":[{\"id\":\"d59f5643-83fb-438d-89d5-c27cf345ad16\",\"type\":\"LinearAxis\"},{\"id\":\"2169530c-08f3-444c-9560-d9399c98fe7b\",\"type\":\"Grid\"},{\"id\":\"7715a74f-90b9-4c32-9944-3d848f6f9ede\",\"type\":\"LinearAxis\"},{\"id\":\"eedfe207-2d8a-46fa-882f-727696b18484\",\"type\":\"Grid\"},{\"id\":\"aa727b6a-2e23-49a0-8ffd-4feadf9b9280\",\"type\":\"BoxAnnotation\"},{\"id\":\"9e42ed9f-d288-469d-a73d-5c12833c1305\",\"type\":\"GlyphRenderer\"}],\"title\":{\"id\":\"ff70d1bd-ce7b-4c27-bb50-7169bb237b4b\",\"type\":\"Title\"},\"toolbar\":{\"id\":\"ea8b6e66-1f92-464f-b942-f0626f222da2\",\"type\":\"Toolbar\"},\"x_range\":{\"id\":\"7915ba75-39f3-4c0d-85c8-a0fe23b203f7\",\"type\":\"DataRange1d\"},\"x_scale\":{\"id\":\"42fe2594-e727-4a87-9007-0ae1438ada9f\",\"type\":\"LinearScale\"},\"y_range\":{\"id\":\"faadd7af-4d8a-48de-9707-721c0da3c71e\",\"type\":\"DataRange1d\"},\"y_scale\":{\"id\":\"3f74574f-3fdb-47d0-ba46-9cdb3f04d254\",\"type\":\"LinearScale\"}},\"id\":\"5f659800-7c64-43f8-894b-257b755a00ad\",\"subtype\":\"Figure\",\"type\":\"Plot\"},{\"attributes\":{},\"id\":\"7e8d4363-74f7-4956-8590-256db542459a\",\"type\":\"PanTool\"},{\"attributes\":{},\"id\":\"3f74574f-3fdb-47d0-ba46-9cdb3f04d254\",\"type\":\"LinearScale\"},{\"attributes\":{},\"id\":\"cdf5c2b2-2794-4dc2-9162-bef651ea6772\",\"type\":\"WheelZoomTool\"}],\"root_ids\":[\"5f659800-7c64-43f8-894b-257b755a00ad\"]},\"title\":\"Bokeh Application\",\"version\":\"0.12.13\"}};\n",
       "  var render_items = [{\"docid\":\"5022502d-05af-472a-92a2-dadf832f0d39\",\"elementid\":\"ebcccbd6-ba29-4438-aa79-70abeccdd884\",\"modelid\":\"5f659800-7c64-43f8-894b-257b755a00ad\"}];\n",
       "  root.Bokeh.embed.embed_items_notebook(docs_json, render_items);\n",
       "\n",
       "  }\n",
       "  if (root.Bokeh !== undefined) {\n",
       "    embed_document(root);\n",
       "  } else {\n",
       "    var attempts = 0;\n",
       "    var timer = setInterval(function(root) {\n",
       "      if (root.Bokeh !== undefined) {\n",
       "        embed_document(root);\n",
       "        clearInterval(timer);\n",
       "      }\n",
       "      attempts++;\n",
       "      if (attempts > 100) {\n",
       "        console.log(\"Bokeh: ERROR: Unable to run BokehJS code because BokehJS library is missing\")\n",
       "        clearInterval(timer);\n",
       "      }\n",
       "    }, 10, root)\n",
       "  }\n",
       "})(window);"
      ],
      "application/vnd.bokehjs_exec.v0+json": ""
     },
     "metadata": {
      "application/vnd.bokehjs_exec.v0+json": {
       "id": "5f659800-7c64-43f8-894b-257b755a00ad"
      }
     },
     "output_type": "display_data"
    }
   ],
   "source": [
    "# create a new plot with a title\n",
    "p = figure(plot_width=400, plot_height=400)\n",
    "p.outline_line_width = 7\n",
    "p.outline_line_alpha = 0.3\n",
    "p.outline_line_color = \"navy\"\n",
    "\n",
    "p.circle([1,2,3,4,5], [2,5,8,2,7], size=10)\n",
    "\n",
    "show(p)"
   ]
  },
  {
   "cell_type": "code",
   "execution_count": 6,
   "metadata": {},
   "outputs": [
    {
     "data": {
      "text/html": [
       "\n",
       "<div class=\"bk-root\">\n",
       "    <div class=\"bk-plotdiv\" id=\"5798c777-3f63-47b5-8fc5-bb976a7cfec8\"></div>\n",
       "</div>"
      ]
     },
     "metadata": {},
     "output_type": "display_data"
    },
    {
     "data": {
      "application/javascript": [
       "(function(root) {\n",
       "  function embed_document(root) {\n",
       "    \n",
       "  var docs_json = {\"fa33f60e-98f0-4b42-b20b-b8d34efb874e\":{\"roots\":{\"references\":[{\"attributes\":{},\"id\":\"e4175805-8ca6-4dcd-a4ea-ee058d959b19\",\"type\":\"BasicTicker\"},{\"attributes\":{\"callback\":null},\"id\":\"6e462ad5-3cc9-43f8-9fec-174ae2160e4b\",\"type\":\"DataRange1d\"},{\"attributes\":{\"formatter\":{\"id\":\"56ca240e-78d0-4c8e-a10a-5595a96a0ee2\",\"type\":\"BasicTickFormatter\"},\"plot\":{\"id\":\"7932e604-9632-4784-8a97-f81ce62dc122\",\"subtype\":\"Figure\",\"type\":\"Plot\"},\"ticker\":{\"id\":\"70d5fd51-472d-4d02-b7a1-7d3468437edd\",\"type\":\"BasicTicker\"}},\"id\":\"81a82d7d-a1f6-4ca2-8e83-eaa38c7601d2\",\"type\":\"LinearAxis\"},{\"attributes\":{},\"id\":\"70d5fd51-472d-4d02-b7a1-7d3468437edd\",\"type\":\"BasicTicker\"},{\"attributes\":{\"data_source\":{\"id\":\"f62f4c60-eb9b-4b14-b2b4-6fb9f9124f4d\",\"type\":\"ColumnDataSource\"},\"glyph\":{\"id\":\"31b49a60-ffef-4388-bd28-1e390b9d70b0\",\"type\":\"Asterisk\"},\"hover_glyph\":null,\"muted_glyph\":null,\"nonselection_glyph\":{\"id\":\"854acab0-6296-4998-91ce-3bc9af177f5b\",\"type\":\"Asterisk\"},\"selection_glyph\":null,\"view\":{\"id\":\"7964ad67-90f8-4306-bdd6-4a9dd1f55614\",\"type\":\"CDSView\"}},\"id\":\"aa63ee50-32dd-4f74-955d-e6ac66614025\",\"type\":\"GlyphRenderer\"},{\"attributes\":{},\"id\":\"c5cb40ee-acaf-4fb9-94b4-603c57852d27\",\"type\":\"LinearScale\"},{\"attributes\":{\"fill_alpha\":{\"value\":0.1},\"fill_color\":{\"value\":\"#1f77b4\"},\"line_alpha\":{\"value\":0.1},\"line_color\":{\"value\":\"#1f77b4\"},\"size\":{\"units\":\"screen\",\"value\":10},\"x\":{\"field\":\"x\"},\"y\":{\"field\":\"y\"}},\"id\":\"854acab0-6296-4998-91ce-3bc9af177f5b\",\"type\":\"Asterisk\"},{\"attributes\":{\"fill_color\":{\"value\":\"#1f77b4\"},\"line_color\":{\"value\":\"#1f77b4\"},\"size\":{\"units\":\"screen\",\"value\":10},\"x\":{\"field\":\"x\"},\"y\":{\"field\":\"y\"}},\"id\":\"31b49a60-ffef-4388-bd28-1e390b9d70b0\",\"type\":\"Asterisk\"},{\"attributes\":{\"bottom_units\":\"screen\",\"fill_alpha\":{\"value\":0.5},\"fill_color\":{\"value\":\"lightgrey\"},\"left_units\":\"screen\",\"level\":\"overlay\",\"line_alpha\":{\"value\":1.0},\"line_color\":{\"value\":\"black\"},\"line_dash\":[4,4],\"line_width\":{\"value\":2},\"plot\":null,\"render_mode\":\"css\",\"right_units\":\"screen\",\"top_units\":\"screen\"},\"id\":\"1ebc6a7e-5beb-4bad-ab5c-ffcc996e6138\",\"type\":\"BoxAnnotation\"},{\"attributes\":{},\"id\":\"75216f19-0f8a-43df-928b-f74a1cbb61cb\",\"type\":\"PanTool\"},{\"attributes\":{},\"id\":\"37a66e2e-4902-4ac1-a27b-c1ddadda8e64\",\"type\":\"BasicTickFormatter\"},{\"attributes\":{},\"id\":\"853070ca-d92b-4e6d-a608-07d304cb5a0d\",\"type\":\"WheelZoomTool\"},{\"attributes\":{},\"id\":\"56ca240e-78d0-4c8e-a10a-5595a96a0ee2\",\"type\":\"BasicTickFormatter\"},{\"attributes\":{\"overlay\":{\"id\":\"1ebc6a7e-5beb-4bad-ab5c-ffcc996e6138\",\"type\":\"BoxAnnotation\"}},\"id\":\"5823d7eb-8b42-4c4a-81d2-08986bbf7e8f\",\"type\":\"BoxZoomTool\"},{\"attributes\":{\"below\":[{\"id\":\"7c709f32-0f97-4aed-b692-462c946eebb2\",\"type\":\"LinearAxis\"}],\"left\":[{\"id\":\"81a82d7d-a1f6-4ca2-8e83-eaa38c7601d2\",\"type\":\"LinearAxis\"}],\"outline_line_alpha\":{\"value\":0.3},\"outline_line_color\":{\"value\":\"navy\"},\"outline_line_width\":{\"value\":7},\"plot_height\":400,\"plot_width\":400,\"renderers\":[{\"id\":\"7c709f32-0f97-4aed-b692-462c946eebb2\",\"type\":\"LinearAxis\"},{\"id\":\"2d37477a-c931-441d-8abb-38fe0b61fd22\",\"type\":\"Grid\"},{\"id\":\"81a82d7d-a1f6-4ca2-8e83-eaa38c7601d2\",\"type\":\"LinearAxis\"},{\"id\":\"0ff550ea-1004-4afb-a909-78af1927c70e\",\"type\":\"Grid\"},{\"id\":\"1ebc6a7e-5beb-4bad-ab5c-ffcc996e6138\",\"type\":\"BoxAnnotation\"},{\"id\":\"aa63ee50-32dd-4f74-955d-e6ac66614025\",\"type\":\"GlyphRenderer\"}],\"title\":{\"id\":\"3ab8727a-f20c-457c-ae2a-3e091861f6aa\",\"type\":\"Title\"},\"toolbar\":{\"id\":\"022fb478-4a85-4233-911a-a5bf20908498\",\"type\":\"Toolbar\"},\"x_range\":{\"id\":\"15b5ea39-d1a6-4240-93d2-c98743e74c8d\",\"type\":\"DataRange1d\"},\"x_scale\":{\"id\":\"2cd0ecb8-75ce-45ea-9bb8-530c63c42ea5\",\"type\":\"LinearScale\"},\"y_range\":{\"id\":\"6e462ad5-3cc9-43f8-9fec-174ae2160e4b\",\"type\":\"DataRange1d\"},\"y_scale\":{\"id\":\"c5cb40ee-acaf-4fb9-94b4-603c57852d27\",\"type\":\"LinearScale\"}},\"id\":\"7932e604-9632-4784-8a97-f81ce62dc122\",\"subtype\":\"Figure\",\"type\":\"Plot\"},{\"attributes\":{},\"id\":\"2cd0ecb8-75ce-45ea-9bb8-530c63c42ea5\",\"type\":\"LinearScale\"},{\"attributes\":{},\"id\":\"00345ae5-4525-464b-baa8-424ee7d8ace4\",\"type\":\"SaveTool\"},{\"attributes\":{\"dimension\":1,\"plot\":{\"id\":\"7932e604-9632-4784-8a97-f81ce62dc122\",\"subtype\":\"Figure\",\"type\":\"Plot\"},\"ticker\":{\"id\":\"70d5fd51-472d-4d02-b7a1-7d3468437edd\",\"type\":\"BasicTicker\"}},\"id\":\"0ff550ea-1004-4afb-a909-78af1927c70e\",\"type\":\"Grid\"},{\"attributes\":{\"source\":{\"id\":\"f62f4c60-eb9b-4b14-b2b4-6fb9f9124f4d\",\"type\":\"ColumnDataSource\"}},\"id\":\"7964ad67-90f8-4306-bdd6-4a9dd1f55614\",\"type\":\"CDSView\"},{\"attributes\":{},\"id\":\"6bc37f66-d63f-486e-a8c0-bfb75f35502e\",\"type\":\"ResetTool\"},{\"attributes\":{},\"id\":\"143a6f1f-dcfe-462c-b7c3-f00a8406db15\",\"type\":\"HelpTool\"},{\"attributes\":{\"active_drag\":\"auto\",\"active_inspect\":\"auto\",\"active_scroll\":\"auto\",\"active_tap\":\"auto\",\"tools\":[{\"id\":\"75216f19-0f8a-43df-928b-f74a1cbb61cb\",\"type\":\"PanTool\"},{\"id\":\"853070ca-d92b-4e6d-a608-07d304cb5a0d\",\"type\":\"WheelZoomTool\"},{\"id\":\"5823d7eb-8b42-4c4a-81d2-08986bbf7e8f\",\"type\":\"BoxZoomTool\"},{\"id\":\"00345ae5-4525-464b-baa8-424ee7d8ace4\",\"type\":\"SaveTool\"},{\"id\":\"6bc37f66-d63f-486e-a8c0-bfb75f35502e\",\"type\":\"ResetTool\"},{\"id\":\"143a6f1f-dcfe-462c-b7c3-f00a8406db15\",\"type\":\"HelpTool\"}]},\"id\":\"022fb478-4a85-4233-911a-a5bf20908498\",\"type\":\"Toolbar\"},{\"attributes\":{\"callback\":null},\"id\":\"15b5ea39-d1a6-4240-93d2-c98743e74c8d\",\"type\":\"DataRange1d\"},{\"attributes\":{\"plot\":null,\"text\":\"\"},\"id\":\"3ab8727a-f20c-457c-ae2a-3e091861f6aa\",\"type\":\"Title\"},{\"attributes\":{\"plot\":{\"id\":\"7932e604-9632-4784-8a97-f81ce62dc122\",\"subtype\":\"Figure\",\"type\":\"Plot\"},\"ticker\":{\"id\":\"e4175805-8ca6-4dcd-a4ea-ee058d959b19\",\"type\":\"BasicTicker\"}},\"id\":\"2d37477a-c931-441d-8abb-38fe0b61fd22\",\"type\":\"Grid\"},{\"attributes\":{\"formatter\":{\"id\":\"37a66e2e-4902-4ac1-a27b-c1ddadda8e64\",\"type\":\"BasicTickFormatter\"},\"plot\":{\"id\":\"7932e604-9632-4784-8a97-f81ce62dc122\",\"subtype\":\"Figure\",\"type\":\"Plot\"},\"ticker\":{\"id\":\"e4175805-8ca6-4dcd-a4ea-ee058d959b19\",\"type\":\"BasicTicker\"}},\"id\":\"7c709f32-0f97-4aed-b692-462c946eebb2\",\"type\":\"LinearAxis\"},{\"attributes\":{\"callback\":null,\"column_names\":[\"x\",\"y\"],\"data\":{\"x\":[1,2,3,4,5],\"y\":[2,5,8,2,7]}},\"id\":\"f62f4c60-eb9b-4b14-b2b4-6fb9f9124f4d\",\"type\":\"ColumnDataSource\"}],\"root_ids\":[\"7932e604-9632-4784-8a97-f81ce62dc122\"]},\"title\":\"Bokeh Application\",\"version\":\"0.12.13\"}};\n",
       "  var render_items = [{\"docid\":\"fa33f60e-98f0-4b42-b20b-b8d34efb874e\",\"elementid\":\"5798c777-3f63-47b5-8fc5-bb976a7cfec8\",\"modelid\":\"7932e604-9632-4784-8a97-f81ce62dc122\"}];\n",
       "  root.Bokeh.embed.embed_items_notebook(docs_json, render_items);\n",
       "\n",
       "  }\n",
       "  if (root.Bokeh !== undefined) {\n",
       "    embed_document(root);\n",
       "  } else {\n",
       "    var attempts = 0;\n",
       "    var timer = setInterval(function(root) {\n",
       "      if (root.Bokeh !== undefined) {\n",
       "        embed_document(root);\n",
       "        clearInterval(timer);\n",
       "      }\n",
       "      attempts++;\n",
       "      if (attempts > 100) {\n",
       "        console.log(\"Bokeh: ERROR: Unable to run BokehJS code because BokehJS library is missing\")\n",
       "        clearInterval(timer);\n",
       "      }\n",
       "    }, 10, root)\n",
       "  }\n",
       "})(window);"
      ],
      "application/vnd.bokehjs_exec.v0+json": ""
     },
     "metadata": {
      "application/vnd.bokehjs_exec.v0+json": {
       "id": "7932e604-9632-4784-8a97-f81ce62dc122"
      }
     },
     "output_type": "display_data"
    }
   ],
   "source": [
    "# EXERCISE Create a plot of your own and customize several plot-level properties\n",
    "p = figure(plot_width=400, plot_height=400)\n",
    "\n",
    "p.outline_line_width = 7\n",
    "p.outline_line_alpha = 0.3\n",
    "p.outline_line_color = \"navy\"\n",
    "\n",
    "p.asterisk([1,2,3,4,5], [2,5,8,2,7], size=10)\n",
    "\n",
    "show(p)"
   ]
  },
  {
   "cell_type": "markdown",
   "metadata": {},
   "source": [
    "# Glyphs\n",
    "\n",
    "It's also possible to style the visual properties of glyphs. When using `bokeh.plotting` this is often done when calling the glyph methods:\n",
    "```python\n",
    "p.circle(line_color=\"red\", fill_alpha=0.2, ...)\n",
    "```\n",
    "But it is also possible to set these properties directly on glyph objects. Glyph objects are found on `GlyphRenderer` objects, which are returned by the `Plot.add_glyph` and `bokeh.plotting` glyph methods like `circle`, `rect`, etc. Let's look at an example:"
   ]
  },
  {
   "cell_type": "code",
   "execution_count": 7,
   "metadata": {},
   "outputs": [
    {
     "data": {
      "text/html": [
       "\n",
       "<div class=\"bk-root\">\n",
       "    <div class=\"bk-plotdiv\" id=\"edc70cb2-033d-45a1-be99-7e9f7acaee0e\"></div>\n",
       "</div>"
      ]
     },
     "metadata": {},
     "output_type": "display_data"
    },
    {
     "data": {
      "application/javascript": [
       "(function(root) {\n",
       "  function embed_document(root) {\n",
       "    \n",
       "  var docs_json = {\"8e68aa7b-b350-44df-a80a-769165a06f0b\":{\"roots\":{\"references\":[{\"attributes\":{\"active_drag\":\"auto\",\"active_inspect\":\"auto\",\"active_scroll\":\"auto\",\"active_tap\":\"auto\",\"tools\":[{\"id\":\"7f6658e6-282b-4c38-b01d-05553b53347f\",\"type\":\"PanTool\"},{\"id\":\"41495ec9-596d-46d7-b081-a532eba3a507\",\"type\":\"WheelZoomTool\"},{\"id\":\"ca3d06f0-b5b4-4d35-9a69-ef33fd129fd3\",\"type\":\"BoxZoomTool\"},{\"id\":\"801a0bae-fcf9-41eb-a542-1d502594372b\",\"type\":\"SaveTool\"},{\"id\":\"e936f5f3-9a18-48d8-95b1-710dd67286f5\",\"type\":\"ResetTool\"},{\"id\":\"aa6cbd46-8d43-4f01-b383-9de4865718f8\",\"type\":\"HelpTool\"}]},\"id\":\"b3034f16-8e7c-41a6-8252-5a6865194e53\",\"type\":\"Toolbar\"},{\"attributes\":{},\"id\":\"0390d6ae-1930-4d31-b6a5-e4eab7c3a109\",\"type\":\"LinearScale\"},{\"attributes\":{},\"id\":\"30f0cb0a-3831-43ed-9c08-9830dd4f0b58\",\"type\":\"LinearScale\"},{\"attributes\":{\"callback\":null},\"id\":\"647d72f1-648e-4b07-a8ed-6db8edacc0d9\",\"type\":\"DataRange1d\"},{\"attributes\":{\"source\":{\"id\":\"0ddc7e8b-74cb-49c5-9d0c-633381e664a1\",\"type\":\"ColumnDataSource\"}},\"id\":\"7ed66a8c-dcbf-4d2b-99cd-61008060e860\",\"type\":\"CDSView\"},{\"attributes\":{},\"id\":\"5674d96e-9759-4fea-9215-3422ea9af0b8\",\"type\":\"BasicTickFormatter\"},{\"attributes\":{\"data_source\":{\"id\":\"0ddc7e8b-74cb-49c5-9d0c-633381e664a1\",\"type\":\"ColumnDataSource\"},\"glyph\":{\"id\":\"8249540f-be3f-43a6-aaa2-83bdcfce006a\",\"type\":\"Circle\"},\"hover_glyph\":null,\"muted_glyph\":null,\"nonselection_glyph\":{\"id\":\"dfb1d931-938e-4c4c-8502-e60c6f7fad2c\",\"type\":\"Circle\"},\"selection_glyph\":null,\"view\":{\"id\":\"7ed66a8c-dcbf-4d2b-99cd-61008060e860\",\"type\":\"CDSView\"}},\"id\":\"26218889-3ac1-434f-80d0-9a9553bf3893\",\"type\":\"GlyphRenderer\"},{\"attributes\":{\"callback\":null},\"id\":\"7cb71a15-02c7-40e6-9e45-a661d04849a1\",\"type\":\"DataRange1d\"},{\"attributes\":{\"plot\":{\"id\":\"54bd10bb-c343-45b4-ba22-065dea5e74ed\",\"subtype\":\"Figure\",\"type\":\"Plot\"},\"ticker\":{\"id\":\"c58e76a7-6ed7-4e92-ac6e-5b0659402803\",\"type\":\"BasicTicker\"}},\"id\":\"74eacb77-8163-4a53-b1c8-b399f6c5fa4a\",\"type\":\"Grid\"},{\"attributes\":{},\"id\":\"c58e76a7-6ed7-4e92-ac6e-5b0659402803\",\"type\":\"BasicTicker\"},{\"attributes\":{\"formatter\":{\"id\":\"5674d96e-9759-4fea-9215-3422ea9af0b8\",\"type\":\"BasicTickFormatter\"},\"plot\":{\"id\":\"54bd10bb-c343-45b4-ba22-065dea5e74ed\",\"subtype\":\"Figure\",\"type\":\"Plot\"},\"ticker\":{\"id\":\"c58e76a7-6ed7-4e92-ac6e-5b0659402803\",\"type\":\"BasicTicker\"}},\"id\":\"074d6a8a-5705-46bf-a606-51f19515295c\",\"type\":\"LinearAxis\"},{\"attributes\":{\"callback\":null,\"column_names\":[\"x\",\"y\"],\"data\":{\"x\":[1,2,3,4,5],\"y\":[2,5,8,2,7]}},\"id\":\"0ddc7e8b-74cb-49c5-9d0c-633381e664a1\",\"type\":\"ColumnDataSource\"},{\"attributes\":{},\"id\":\"aa6cbd46-8d43-4f01-b383-9de4865718f8\",\"type\":\"HelpTool\"},{\"attributes\":{},\"id\":\"58fa9a77-d7a0-4bc3-8c61-d4f955990aff\",\"type\":\"BasicTicker\"},{\"attributes\":{},\"id\":\"7f6658e6-282b-4c38-b01d-05553b53347f\",\"type\":\"PanTool\"},{\"attributes\":{\"plot\":null,\"text\":\"\"},\"id\":\"970d7ab3-7105-4c84-ad14-94a0a46183d2\",\"type\":\"Title\"},{\"attributes\":{\"bottom_units\":\"screen\",\"fill_alpha\":{\"value\":0.5},\"fill_color\":{\"value\":\"lightgrey\"},\"left_units\":\"screen\",\"level\":\"overlay\",\"line_alpha\":{\"value\":1.0},\"line_color\":{\"value\":\"black\"},\"line_dash\":[4,4],\"line_width\":{\"value\":2},\"plot\":null,\"render_mode\":\"css\",\"right_units\":\"screen\",\"top_units\":\"screen\"},\"id\":\"db612ca3-eacf-4ee4-9aeb-79f7bd34279f\",\"type\":\"BoxAnnotation\"},{\"attributes\":{\"overlay\":{\"id\":\"db612ca3-eacf-4ee4-9aeb-79f7bd34279f\",\"type\":\"BoxAnnotation\"}},\"id\":\"ca3d06f0-b5b4-4d35-9a69-ef33fd129fd3\",\"type\":\"BoxZoomTool\"},{\"attributes\":{\"dimension\":1,\"plot\":{\"id\":\"54bd10bb-c343-45b4-ba22-065dea5e74ed\",\"subtype\":\"Figure\",\"type\":\"Plot\"},\"ticker\":{\"id\":\"58fa9a77-d7a0-4bc3-8c61-d4f955990aff\",\"type\":\"BasicTicker\"}},\"id\":\"8980d7fd-c16c-45a1-8ad6-b9c22d6937cd\",\"type\":\"Grid\"},{\"attributes\":{},\"id\":\"e936f5f3-9a18-48d8-95b1-710dd67286f5\",\"type\":\"ResetTool\"},{\"attributes\":{},\"id\":\"41495ec9-596d-46d7-b081-a532eba3a507\",\"type\":\"WheelZoomTool\"},{\"attributes\":{\"fill_alpha\":{\"value\":0.1},\"fill_color\":{\"value\":\"#1f77b4\"},\"line_alpha\":{\"value\":0.1},\"line_color\":{\"value\":\"#1f77b4\"},\"x\":{\"field\":\"x\"},\"y\":{\"field\":\"y\"}},\"id\":\"dfb1d931-938e-4c4c-8502-e60c6f7fad2c\",\"type\":\"Circle\"},{\"attributes\":{},\"id\":\"801a0bae-fcf9-41eb-a542-1d502594372b\",\"type\":\"SaveTool\"},{\"attributes\":{\"formatter\":{\"id\":\"c7545ca8-edcf-4799-94c3-360cad488d1e\",\"type\":\"BasicTickFormatter\"},\"plot\":{\"id\":\"54bd10bb-c343-45b4-ba22-065dea5e74ed\",\"subtype\":\"Figure\",\"type\":\"Plot\"},\"ticker\":{\"id\":\"58fa9a77-d7a0-4bc3-8c61-d4f955990aff\",\"type\":\"BasicTicker\"}},\"id\":\"f3f23337-021b-4b53-b492-c498b82aa476\",\"type\":\"LinearAxis\"},{\"attributes\":{\"below\":[{\"id\":\"074d6a8a-5705-46bf-a606-51f19515295c\",\"type\":\"LinearAxis\"}],\"left\":[{\"id\":\"f3f23337-021b-4b53-b492-c498b82aa476\",\"type\":\"LinearAxis\"}],\"plot_height\":400,\"plot_width\":400,\"renderers\":[{\"id\":\"074d6a8a-5705-46bf-a606-51f19515295c\",\"type\":\"LinearAxis\"},{\"id\":\"74eacb77-8163-4a53-b1c8-b399f6c5fa4a\",\"type\":\"Grid\"},{\"id\":\"f3f23337-021b-4b53-b492-c498b82aa476\",\"type\":\"LinearAxis\"},{\"id\":\"8980d7fd-c16c-45a1-8ad6-b9c22d6937cd\",\"type\":\"Grid\"},{\"id\":\"db612ca3-eacf-4ee4-9aeb-79f7bd34279f\",\"type\":\"BoxAnnotation\"},{\"id\":\"26218889-3ac1-434f-80d0-9a9553bf3893\",\"type\":\"GlyphRenderer\"}],\"title\":{\"id\":\"970d7ab3-7105-4c84-ad14-94a0a46183d2\",\"type\":\"Title\"},\"toolbar\":{\"id\":\"b3034f16-8e7c-41a6-8252-5a6865194e53\",\"type\":\"Toolbar\"},\"x_range\":{\"id\":\"647d72f1-648e-4b07-a8ed-6db8edacc0d9\",\"type\":\"DataRange1d\"},\"x_scale\":{\"id\":\"30f0cb0a-3831-43ed-9c08-9830dd4f0b58\",\"type\":\"LinearScale\"},\"y_range\":{\"id\":\"7cb71a15-02c7-40e6-9e45-a661d04849a1\",\"type\":\"DataRange1d\"},\"y_scale\":{\"id\":\"0390d6ae-1930-4d31-b6a5-e4eab7c3a109\",\"type\":\"LinearScale\"}},\"id\":\"54bd10bb-c343-45b4-ba22-065dea5e74ed\",\"subtype\":\"Figure\",\"type\":\"Plot\"},{\"attributes\":{\"fill_alpha\":{\"value\":0.2},\"fill_color\":{\"value\":\"#1f77b4\"},\"line_color\":{\"value\":\"firebrick\"},\"line_dash\":[5,1],\"line_width\":{\"value\":2},\"size\":{\"units\":\"screen\",\"value\":50},\"x\":{\"field\":\"x\"},\"y\":{\"field\":\"y\"}},\"id\":\"8249540f-be3f-43a6-aaa2-83bdcfce006a\",\"type\":\"Circle\"},{\"attributes\":{},\"id\":\"c7545ca8-edcf-4799-94c3-360cad488d1e\",\"type\":\"BasicTickFormatter\"}],\"root_ids\":[\"54bd10bb-c343-45b4-ba22-065dea5e74ed\"]},\"title\":\"Bokeh Application\",\"version\":\"0.12.13\"}};\n",
       "  var render_items = [{\"docid\":\"8e68aa7b-b350-44df-a80a-769165a06f0b\",\"elementid\":\"edc70cb2-033d-45a1-be99-7e9f7acaee0e\",\"modelid\":\"54bd10bb-c343-45b4-ba22-065dea5e74ed\"}];\n",
       "  root.Bokeh.embed.embed_items_notebook(docs_json, render_items);\n",
       "\n",
       "  }\n",
       "  if (root.Bokeh !== undefined) {\n",
       "    embed_document(root);\n",
       "  } else {\n",
       "    var attempts = 0;\n",
       "    var timer = setInterval(function(root) {\n",
       "      if (root.Bokeh !== undefined) {\n",
       "        embed_document(root);\n",
       "        clearInterval(timer);\n",
       "      }\n",
       "      attempts++;\n",
       "      if (attempts > 100) {\n",
       "        console.log(\"Bokeh: ERROR: Unable to run BokehJS code because BokehJS library is missing\")\n",
       "        clearInterval(timer);\n",
       "      }\n",
       "    }, 10, root)\n",
       "  }\n",
       "})(window);"
      ],
      "application/vnd.bokehjs_exec.v0+json": ""
     },
     "metadata": {
      "application/vnd.bokehjs_exec.v0+json": {
       "id": "54bd10bb-c343-45b4-ba22-065dea5e74ed"
      }
     },
     "output_type": "display_data"
    }
   ],
   "source": [
    "p = figure(plot_width=400, plot_height=400)\n",
    "\n",
    "# keep a reference to the returned GlyphRenderer\n",
    "r = p.circle([1,2,3,4,5], [2,5,8,2,7])\n",
    "\n",
    "r.glyph.size = 50\n",
    "r.glyph.fill_alpha = 0.2\n",
    "r.glyph.line_color = \"firebrick\"\n",
    "r.glyph.line_dash = [5, 1]\n",
    "r.glyph.line_width = 2\n",
    "\n",
    "show(p)"
   ]
  },
  {
   "cell_type": "markdown",
   "metadata": {},
   "source": [
    "### Selection and non-selection visuals\n",
    "\n",
    "You can also control how glyphs look when there are selections involved. The set of \"selected\" points is displayed according to the optional `.selection_glyph` property of a `GlyphRenderer`:\n",
    "```python\n",
    "r.selection_glyph = Circle(fill_alpha=1, fill_color=\"firebrick\", line_color=None) \n",
    "```\n",
    "When there is a non-empty selection, the set of \"unselected: points is displayed according to the optional  `.nonselection_glyph` property of a `GlyphRenderer`:\n",
    "```python\n",
    "r.nonselection_glyph = Circle(fill_alpha=0.2, fill_color=\"grey\", line_color=None) \n",
    "```\n",
    "\n",
    "When using the `bokeh.plotting` interface, it is easier to pass these visual properties to the glyph methods as shown below. The glyph method will create the selection or nonselection glyphs and attach them to the renderer for you. "
   ]
  },
  {
   "cell_type": "code",
   "execution_count": 8,
   "metadata": {},
   "outputs": [
    {
     "data": {
      "text/html": [
       "\n",
       "<div class=\"bk-root\">\n",
       "    <div class=\"bk-plotdiv\" id=\"340aad1e-9bd5-4276-8e18-197c48ed3f94\"></div>\n",
       "</div>"
      ]
     },
     "metadata": {},
     "output_type": "display_data"
    },
    {
     "data": {
      "application/javascript": [
       "(function(root) {\n",
       "  function embed_document(root) {\n",
       "    \n",
       "  var docs_json = {\"9ebc76cb-4b9b-4d63-938e-0f2affe1fad5\":{\"roots\":{\"references\":[{\"attributes\":{\"plot\":{\"id\":\"59b6a537-b886-473d-bacd-8a33836d2513\",\"subtype\":\"Figure\",\"type\":\"Plot\"},\"ticker\":{\"id\":\"823cd8ff-8d8e-441c-8e9e-f08b9f2beac6\",\"type\":\"BasicTicker\"}},\"id\":\"25139698-83b1-47d3-b184-d6d8e31d0efe\",\"type\":\"Grid\"},{\"attributes\":{\"plot\":null,\"text\":\"Select a circle\"},\"id\":\"f9734a95-4c62-4061-bc17-e47711268902\",\"type\":\"Title\"},{\"attributes\":{\"data_source\":{\"id\":\"dee53476-9378-4644-a9e1-90d7e95c41c4\",\"type\":\"ColumnDataSource\"},\"glyph\":{\"id\":\"8b95d677-7a11-431b-86bb-17022343a776\",\"type\":\"Circle\"},\"hover_glyph\":null,\"muted_glyph\":null,\"nonselection_glyph\":{\"id\":\"2ef05bf6-0417-45dc-a5fd-1f0b1d53f716\",\"type\":\"Circle\"},\"selection_glyph\":{\"id\":\"957fc7c2-be12-413a-9bd8-a0d52460c47e\",\"type\":\"Circle\"},\"view\":{\"id\":\"3ada464f-96ed-451d-abec-78d8927a142e\",\"type\":\"CDSView\"}},\"id\":\"dfccff46-ddac-4547-9876-674e33a66a7d\",\"type\":\"GlyphRenderer\"},{\"attributes\":{\"callback\":null},\"id\":\"21de91ad-f1e8-4e44-857b-be972a19cd0d\",\"type\":\"DataRange1d\"},{\"attributes\":{\"source\":{\"id\":\"dee53476-9378-4644-a9e1-90d7e95c41c4\",\"type\":\"ColumnDataSource\"}},\"id\":\"3ada464f-96ed-451d-abec-78d8927a142e\",\"type\":\"CDSView\"},{\"attributes\":{},\"id\":\"84c58262-f2c8-49a4-872f-c94c60750c15\",\"type\":\"LinearScale\"},{\"attributes\":{\"callback\":null},\"id\":\"8af6dadb-8a7b-4281-9920-bd23427894af\",\"type\":\"TapTool\"},{\"attributes\":{\"active_drag\":\"auto\",\"active_inspect\":\"auto\",\"active_scroll\":\"auto\",\"active_tap\":\"auto\",\"tools\":[{\"id\":\"8af6dadb-8a7b-4281-9920-bd23427894af\",\"type\":\"TapTool\"}]},\"id\":\"2dfa12a5-a651-4294-9573-061b559c9b92\",\"type\":\"Toolbar\"},{\"attributes\":{},\"id\":\"6441f47c-2e8e-4e8a-826c-d222969df1d1\",\"type\":\"LinearScale\"},{\"attributes\":{\"below\":[{\"id\":\"d2256869-68b7-4bc3-8003-933b16f23c15\",\"type\":\"LinearAxis\"}],\"left\":[{\"id\":\"bb4b0a19-b394-4513-949b-455903be0d20\",\"type\":\"LinearAxis\"}],\"plot_height\":400,\"plot_width\":400,\"renderers\":[{\"id\":\"d2256869-68b7-4bc3-8003-933b16f23c15\",\"type\":\"LinearAxis\"},{\"id\":\"25139698-83b1-47d3-b184-d6d8e31d0efe\",\"type\":\"Grid\"},{\"id\":\"bb4b0a19-b394-4513-949b-455903be0d20\",\"type\":\"LinearAxis\"},{\"id\":\"168f868d-91c0-4ef1-95f8-5bf47523cf58\",\"type\":\"Grid\"},{\"id\":\"dfccff46-ddac-4547-9876-674e33a66a7d\",\"type\":\"GlyphRenderer\"}],\"title\":{\"id\":\"f9734a95-4c62-4061-bc17-e47711268902\",\"type\":\"Title\"},\"toolbar\":{\"id\":\"2dfa12a5-a651-4294-9573-061b559c9b92\",\"type\":\"Toolbar\"},\"x_range\":{\"id\":\"1640104d-0d95-4e6f-acba-ab9639a0be9e\",\"type\":\"DataRange1d\"},\"x_scale\":{\"id\":\"6441f47c-2e8e-4e8a-826c-d222969df1d1\",\"type\":\"LinearScale\"},\"y_range\":{\"id\":\"21de91ad-f1e8-4e44-857b-be972a19cd0d\",\"type\":\"DataRange1d\"},\"y_scale\":{\"id\":\"84c58262-f2c8-49a4-872f-c94c60750c15\",\"type\":\"LinearScale\"}},\"id\":\"59b6a537-b886-473d-bacd-8a33836d2513\",\"subtype\":\"Figure\",\"type\":\"Plot\"},{\"attributes\":{\"fill_alpha\":{\"value\":0.2},\"fill_color\":{\"value\":\"grey\"},\"line_color\":{\"value\":\"firebrick\"},\"size\":{\"units\":\"screen\",\"value\":50},\"x\":{\"field\":\"x\"},\"y\":{\"field\":\"y\"}},\"id\":\"2ef05bf6-0417-45dc-a5fd-1f0b1d53f716\",\"type\":\"Circle\"},{\"attributes\":{},\"id\":\"b2bc4c52-2831-4152-b02e-6d96bd547e44\",\"type\":\"BasicTicker\"},{\"attributes\":{\"formatter\":{\"id\":\"b8b62442-5b3d-4936-af6a-e5725ff80bee\",\"type\":\"BasicTickFormatter\"},\"plot\":{\"id\":\"59b6a537-b886-473d-bacd-8a33836d2513\",\"subtype\":\"Figure\",\"type\":\"Plot\"},\"ticker\":{\"id\":\"b2bc4c52-2831-4152-b02e-6d96bd547e44\",\"type\":\"BasicTicker\"}},\"id\":\"bb4b0a19-b394-4513-949b-455903be0d20\",\"type\":\"LinearAxis\"},{\"attributes\":{\"fill_color\":{\"value\":\"firebrick\"},\"line_color\":{\"value\":\"firebrick\"},\"size\":{\"units\":\"screen\",\"value\":50},\"x\":{\"field\":\"x\"},\"y\":{\"field\":\"y\"}},\"id\":\"957fc7c2-be12-413a-9bd8-a0d52460c47e\",\"type\":\"Circle\"},{\"attributes\":{},\"id\":\"b8b62442-5b3d-4936-af6a-e5725ff80bee\",\"type\":\"BasicTickFormatter\"},{\"attributes\":{},\"id\":\"a594f7a9-25a2-4002-803a-5a6286cca5f4\",\"type\":\"BasicTickFormatter\"},{\"attributes\":{\"fill_color\":{\"value\":\"#1f77b4\"},\"line_color\":{\"value\":\"#1f77b4\"},\"size\":{\"units\":\"screen\",\"value\":50},\"x\":{\"field\":\"x\"},\"y\":{\"field\":\"y\"}},\"id\":\"8b95d677-7a11-431b-86bb-17022343a776\",\"type\":\"Circle\"},{\"attributes\":{\"formatter\":{\"id\":\"a594f7a9-25a2-4002-803a-5a6286cca5f4\",\"type\":\"BasicTickFormatter\"},\"plot\":{\"id\":\"59b6a537-b886-473d-bacd-8a33836d2513\",\"subtype\":\"Figure\",\"type\":\"Plot\"},\"ticker\":{\"id\":\"823cd8ff-8d8e-441c-8e9e-f08b9f2beac6\",\"type\":\"BasicTicker\"}},\"id\":\"d2256869-68b7-4bc3-8003-933b16f23c15\",\"type\":\"LinearAxis\"},{\"attributes\":{\"callback\":null,\"column_names\":[\"x\",\"y\"],\"data\":{\"x\":[1,2,3,4,5],\"y\":[2,5,8,2,7]}},\"id\":\"dee53476-9378-4644-a9e1-90d7e95c41c4\",\"type\":\"ColumnDataSource\"},{\"attributes\":{\"callback\":null},\"id\":\"1640104d-0d95-4e6f-acba-ab9639a0be9e\",\"type\":\"DataRange1d\"},{\"attributes\":{\"dimension\":1,\"plot\":{\"id\":\"59b6a537-b886-473d-bacd-8a33836d2513\",\"subtype\":\"Figure\",\"type\":\"Plot\"},\"ticker\":{\"id\":\"b2bc4c52-2831-4152-b02e-6d96bd547e44\",\"type\":\"BasicTicker\"}},\"id\":\"168f868d-91c0-4ef1-95f8-5bf47523cf58\",\"type\":\"Grid\"},{\"attributes\":{},\"id\":\"823cd8ff-8d8e-441c-8e9e-f08b9f2beac6\",\"type\":\"BasicTicker\"}],\"root_ids\":[\"59b6a537-b886-473d-bacd-8a33836d2513\"]},\"title\":\"Bokeh Application\",\"version\":\"0.12.13\"}};\n",
       "  var render_items = [{\"docid\":\"9ebc76cb-4b9b-4d63-938e-0f2affe1fad5\",\"elementid\":\"340aad1e-9bd5-4276-8e18-197c48ed3f94\",\"modelid\":\"59b6a537-b886-473d-bacd-8a33836d2513\"}];\n",
       "  root.Bokeh.embed.embed_items_notebook(docs_json, render_items);\n",
       "\n",
       "  }\n",
       "  if (root.Bokeh !== undefined) {\n",
       "    embed_document(root);\n",
       "  } else {\n",
       "    var attempts = 0;\n",
       "    var timer = setInterval(function(root) {\n",
       "      if (root.Bokeh !== undefined) {\n",
       "        embed_document(root);\n",
       "        clearInterval(timer);\n",
       "      }\n",
       "      attempts++;\n",
       "      if (attempts > 100) {\n",
       "        console.log(\"Bokeh: ERROR: Unable to run BokehJS code because BokehJS library is missing\")\n",
       "        clearInterval(timer);\n",
       "      }\n",
       "    }, 10, root)\n",
       "  }\n",
       "})(window);"
      ],
      "application/vnd.bokehjs_exec.v0+json": ""
     },
     "metadata": {
      "application/vnd.bokehjs_exec.v0+json": {
       "id": "59b6a537-b886-473d-bacd-8a33836d2513"
      }
     },
     "output_type": "display_data"
    }
   ],
   "source": [
    "p = figure(plot_width=400, plot_height=400, tools=\"tap\", title=\"Select a circle\")\n",
    "renderer = p.circle([1, 2, 3, 4, 5], [2, 5, 8, 2, 7], size=50,\n",
    "\n",
    "                    # set visual properties for selected glyphs\n",
    "                    selection_color=\"firebrick\",\n",
    "\n",
    "                    # set visual properties for non-selected glyphs\n",
    "                    nonselection_fill_alpha=0.2,\n",
    "                    nonselection_fill_color=\"grey\",\n",
    "                    nonselection_line_color=\"firebrick\",\n",
    "                    nonselection_line_alpha=1.0)\n",
    "\n",
    "show(p)"
   ]
  },
  {
   "cell_type": "markdown",
   "metadata": {},
   "source": [
    "It is also possible to specify the visual appearance of glyphs when they are \"inspected\", e.g. by a hover tool. This is accomplished by setting an optional `hover_glyph` on the glyph renderer:\n",
    "```python\n",
    "r.hover_glyph = Circle(fill_alpha=1, fill_color=\"firebrick\", line_color=None) \n",
    "```\n",
    "Or if using `bokeh.plotting` glyph methods, by passing `hover_fill_alpha`, etc. to the glyph method. Lets look at an example that works together with a `HoverTool` configured for \"hline\" hit-testing."
   ]
  },
  {
   "cell_type": "code",
   "execution_count": 11,
   "metadata": {},
   "outputs": [
    {
     "name": "stdout",
     "output_type": "stream",
     "text": [
      "Creating /Users/pauldefusco/.bokeh directory\n",
      "Creating /Users/pauldefusco/.bokeh/data directory\n",
      "Using data directory: /Users/pauldefusco/.bokeh/data\n",
      "Downloading: CGM.csv (1589982 bytes)\n",
      "   1589982 [100.00%]\n",
      "Downloading: US_Counties.zip (3182088 bytes)\n",
      "   3182088 [100.00%]\n",
      "Unpacking: US_Counties.csv\n",
      "Downloading: us_cities.json (713565 bytes)\n",
      "    713565 [100.00%]\n",
      "Downloading: unemployment09.csv (253301 bytes)\n",
      "    253301 [100.00%]\n",
      "Downloading: AAPL.csv (166698 bytes)\n",
      "    166698 [100.00%]\n",
      "Downloading: FB.csv (9706 bytes)\n",
      "      9706 [100.00%]\n",
      "Downloading: GOOG.csv (113894 bytes)\n",
      "    113894 [100.00%]\n",
      "Downloading: IBM.csv (165625 bytes)\n",
      "    165625 [100.00%]\n",
      "Downloading: MSFT.csv (161614 bytes)\n",
      "    161614 [100.00%]\n",
      "Downloading: WPP2012_SA_DB03_POPULATION_QUINQUENNIAL.zip (5148539 bytes)\n",
      "   5148539 [100.00%]\n",
      "Unpacking: WPP2012_SA_DB03_POPULATION_QUINQUENNIAL.csv\n",
      "Downloading: gapminder_fertility.csv (64346 bytes)\n",
      "     64346 [100.00%]\n",
      "Downloading: gapminder_population.csv (94509 bytes)\n",
      "     94509 [100.00%]\n",
      "Downloading: gapminder_life_expectancy.csv (73243 bytes)\n",
      "     73243 [100.00%]\n",
      "Downloading: gapminder_regions.csv (7781 bytes)\n",
      "      7781 [100.00%]\n",
      "Downloading: world_cities.zip (646858 bytes)\n",
      "    646858 [100.00%]\n",
      "Unpacking: world_cities.csv\n",
      "Downloading: airports.json (6373 bytes)\n",
      "      6373 [100.00%]\n",
      "Downloading: movies.db.zip (5067833 bytes)\n",
      "   5067833 [100.00%]\n",
      "Unpacking: movies.db\n",
      "Downloading: airports.csv (203190 bytes)\n",
      "    203190 [100.00%]\n",
      "Downloading: routes.csv (377280 bytes)\n",
      "    377280 [100.00%]\n"
     ]
    },
    {
     "data": {
      "text/html": [
       "\n",
       "<div class=\"bk-root\">\n",
       "    <div class=\"bk-plotdiv\" id=\"d86bc702-3f5c-46b1-bc92-d2a63d623e9f\"></div>\n",
       "</div>"
      ]
     },
     "metadata": {},
     "output_type": "display_data"
    },
    {
     "data": {
      "application/javascript": [
       "(function(root) {\n",
       "  function embed_document(root) {\n",
       "    \n",
       "  var docs_json = {\"87c9267d-e9be-44cd-91b1-ea5c92b4eb41\":{\"roots\":{\"references\":[{\"attributes\":{},\"id\":\"b9b4de11-7a27-4195-98f2-96885922a286\",\"type\":\"DatetimeTickFormatter\"},{\"attributes\":{\"callback\":null,\"column_names\":[\"x\",\"y\"],\"data\":{\"x\":[1286323380000.0,1286323680000.0,1286323980000.0,1286324280000.0,1286324580000.0,1286324880000.0,1286325180000.0,1286325480000.0,1286325780000.0,1286326080000.0,1286326380000.0,1286326680000.0,1286326980000.0,1286327280000.0,1286327580000.0,1286327880000.0,1286328180000.0,1286328480000.0,1286328780000.0,1286329080000.0,1286329380000.0,1286329680000.0,1286329980000.0,1286330280000.0,1286330580000.0,1286330880000.0,1286331180000.0,1286331480000.0,1286331780000.0,1286332080000.0,1286332380000.0,1286332680000.0,1286332980000.0,1286333280000.0,1286333580000.0,1286333880000.0,1286334180000.0,1286334480000.0,1286334780000.0,1286335080000.0,1286335380000.0,1286335680000.0,1286335980000.0,1286336280000.0,1286336580000.0,1286336880000.0,1286337180000.0,1286337480000.0,1286337780000.0,1286338080000.0,1286338380000.0,1286338680000.0,1286338980000.0,1286339280000.0,1286339580000.0,1286339880000.0,1286340180000.0,1286340480000.0,1286340780000.0,1286341080000.0,1286341380000.0,1286341680000.0,1286341980000.0,1286342280000.0,1286342580000.0,1286342880000.0,1286343180000.0,1286343480000.0,1286343780000.0,1286344080000.0,1286344380000.0,1286344680000.0,1286344980000.0,1286345280000.0,1286345580000.0,1286345880000.0,1286346180000.0,1286346480000.0,1286346780000.0,1286347080000.0,1286347380000.0,1286347680000.0,1286347980000.0,1286348280000.0,1286348580000.0,1286348880000.0,1286349180000.0,1286349480000.0,1286349780000.0,1286350080000.0,1286350380000.0,1286350680000.0,1286350980000.0,1286351280000.0,1286351580000.0,1286351880000.0,1286352180000.0,1286352480000.0,1286352780000.0,1286353080000.0,1286353380000.0,1286353680000.0,1286353980000.0,1286354280000.0,1286354580000.0,1286354880000.0,1286355180000.0,1286355480000.0,1286355780000.0,1286356080000.0,1286356380000.0,1286356680000.0,1286356980000.0,1286357280000.0,1286357580000.0,1286357880000.0,1286358180000.0,1286358480000.0,1286358780000.0,1286359080000.0,1286359380000.0,1286359680000.0,1286359980000.0,1286360280000.0,1286360580000.0,1286360880000.0,1286361180000.0,1286361480000.0,1286361780000.0,1286362080000.0,1286362380000.0,1286362680000.0,1286362980000.0,1286363280000.0,1286363580000.0,1286363880000.0,1286364180000.0,1286364480000.0,1286364780000.0,1286365080000.0,1286365380000.0,1286365680000.0,1286365980000.0,1286366280000.0,1286366580000.0,1286366880000.0,1286367180000.0,1286367480000.0,1286367780000.0,1286368080000.0,1286368380000.0,1286368680000.0,1286368980000.0,1286369280000.0,1286369580000.0,1286369880000.0,1286370180000.0,1286370480000.0,1286370780000.0,1286371080000.0,1286371380000.0,1286371680000.0,1286371980000.0,1286372280000.0,1286372580000.0,1286372880000.0,1286373180000.0,1286373480000.0,1286373780000.0,1286374080000.0,1286374380000.0,1286374680000.0,1286374980000.0,1286375280000.0,1286375580000.0,1286375880000.0,1286376180000.0,1286376480000.0,1286376780000.0,1286377080000.0,1286377380000.0,1286377680000.0,1286377980000.0,1286378280000.0,1286378580000.0,1286378880000.0,1286379180000.0,1286379480000.0,1286379780000.0,1286380080000.0,1286380380000.0,1286380680000.0,1286380980000.0,1286381280000.0,1286381580000.0,1286381880000.0,1286382180000.0,1286382480000.0,1286382780000.0,1286383080000.0,1286383380000.0,1286383680000.0,1286383980000.0,1286384280000.0,1286384580000.0,1286384880000.0,1286385180000.0,1286385480000.0,1286385780000.0,1286386080000.0,1286386380000.0,1286386680000.0,1286386980000.0,1286387280000.0,1286387580000.0,1286387880000.0,1286388180000.0,1286388480000.0,1286388780000.0,1286389080000.0,1286389380000.0,1286389680000.0,1286389980000.0,1286390280000.0,1286390580000.0,1286390880000.0,1286391180000.0,1286391480000.0,1286391780000.0,1286392080000.0,1286392380000.0,1286392680000.0,1286392980000.0,1286393280000.0,1286393580000.0,1286393880000.0,1286394180000.0,1286394480000.0,1286394780000.0,1286395080000.0,1286395380000.0,1286395680000.0,1286395980000.0,1286396280000.0,1286396580000.0,1286396880000.0,1286397180000.0,1286397480000.0,1286397780000.0,1286398080000.0,1286398380000.0,1286398680000.0,1286398980000.0,1286399280000.0,1286399580000.0,1286399880000.0,1286400180000.0,1286400480000.0,1286400780000.0,1286401080000.0,1286401380000.0,1286401680000.0,1286401980000.0,1286402280000.0,1286402580000.0,1286402880000.0,1286403180000.0,1286403480000.0,1286403780000.0,1286404080000.0,1286404380000.0,1286404680000.0,1286404980000.0,1286405280000.0,1286405580000.0,1286405880000.0,1286406180000.0,1286406480000.0,1286406780000.0,1286407080000.0,1286407380000.0,1286407680000.0,1286407980000.0,1286408280000.0,1286408580000.0,1286408880000.0,1286409180000.0,1286409480000.0],\"y\":[143,147,150,152,152,152,154,155,142,140,138,134,131,130,128,127,126,126,126,126,127,129,131,132,134,136,136,136,136,135,134,132,130,130,130,129,128,127,125,124,123,123,122,121,120,118,115,112,111,111,110,110,109,108,107,107,107,108,107,105,105,105,105,104,103,102,99,97,96,94,94,93,93,92,91,92,94,95,96,97,99,102,104,112,112,112,111,110,107,104,105,105,103,99,96,94,95,102,114,128,144,160,173,185,196,205,209,214,219,226,234,241,248,255,260,265,268,270,272,271,271,268,265,261,256,253,250,246,244,241,237,233,229,225,222,204,200,197,193,190,186,182,179,175,171,168,164,158,154,151,148,145,141,133,139,152,173,196,217,233,244,249,250,253,256,260,263,265,265,264,260,254,246,234,217,200,188,181,175,169,164,159,154,147,138,132,129,127,123,117,111,106,104,103,100,94,88,83,78,75,73,71,69,68,67,67,68,70,71,71,70,69,68,67,67,67,66,67,69,71,74,76,78,80,80,80,80,80,80,82,84,87,90,92,87,87,86,86,86,86,87,87,87,85,83,82,83,87,95,107,118,130,141,149,172,179,187,201,214,221,225,230,232,230,223,216,208,199,191,185,181,177,176,177,176,173,171,169,163,154,152,153,154,154,153,151,150,150]}},\"id\":\"7d7bb2ed-7457-4579-9177-00c763c3e2af\",\"type\":\"ColumnDataSource\"},{\"attributes\":{\"bottom_units\":\"screen\",\"fill_alpha\":{\"value\":0.5},\"fill_color\":{\"value\":\"lightgrey\"},\"left_units\":\"screen\",\"level\":\"overlay\",\"line_alpha\":{\"value\":1.0},\"line_color\":{\"value\":\"black\"},\"line_dash\":[4,4],\"line_width\":{\"value\":2},\"plot\":null,\"render_mode\":\"css\",\"right_units\":\"screen\",\"top_units\":\"screen\"},\"id\":\"b961ae19-7164-43d2-927d-3b64aac5e4c1\",\"type\":\"BoxAnnotation\"},{\"attributes\":{},\"id\":\"59633620-e559-4ffc-89d2-212d95edf68a\",\"type\":\"PanTool\"},{\"attributes\":{},\"id\":\"6a2d73b1-1def-40ae-b4da-27865b25addf\",\"type\":\"WheelZoomTool\"},{\"attributes\":{\"overlay\":{\"id\":\"b961ae19-7164-43d2-927d-3b64aac5e4c1\",\"type\":\"BoxAnnotation\"}},\"id\":\"49852d27-f6f0-4082-899e-883bb7e64efe\",\"type\":\"BoxZoomTool\"},{\"attributes\":{},\"id\":\"d516cf8b-a186-439c-ae0c-710b1c28ebe9\",\"type\":\"SaveTool\"},{\"attributes\":{},\"id\":\"02b9f883-4b8b-4268-9b56-00276bd12cda\",\"type\":\"ResetTool\"},{\"attributes\":{},\"id\":\"36aaf063-58e5-4298-9ff5-0a34b882651d\",\"type\":\"HelpTool\"},{\"attributes\":{\"callback\":null,\"column_names\":[\"x\",\"y\"],\"data\":{\"x\":[1286323380000.0,1286323680000.0,1286323980000.0,1286324280000.0,1286324580000.0,1286324880000.0,1286325180000.0,1286325480000.0,1286325780000.0,1286326080000.0,1286326380000.0,1286326680000.0,1286326980000.0,1286327280000.0,1286327580000.0,1286327880000.0,1286328180000.0,1286328480000.0,1286328780000.0,1286329080000.0,1286329380000.0,1286329680000.0,1286329980000.0,1286330280000.0,1286330580000.0,1286330880000.0,1286331180000.0,1286331480000.0,1286331780000.0,1286332080000.0,1286332380000.0,1286332680000.0,1286332980000.0,1286333280000.0,1286333580000.0,1286333880000.0,1286334180000.0,1286334480000.0,1286334780000.0,1286335080000.0,1286335380000.0,1286335680000.0,1286335980000.0,1286336280000.0,1286336580000.0,1286336880000.0,1286337180000.0,1286337480000.0,1286337780000.0,1286338080000.0,1286338380000.0,1286338680000.0,1286338980000.0,1286339280000.0,1286339580000.0,1286339880000.0,1286340180000.0,1286340480000.0,1286340780000.0,1286341080000.0,1286341380000.0,1286341680000.0,1286341980000.0,1286342280000.0,1286342580000.0,1286342880000.0,1286343180000.0,1286343480000.0,1286343780000.0,1286344080000.0,1286344380000.0,1286344680000.0,1286344980000.0,1286345280000.0,1286345580000.0,1286345880000.0,1286346180000.0,1286346480000.0,1286346780000.0,1286347080000.0,1286347380000.0,1286347680000.0,1286347980000.0,1286348280000.0,1286348580000.0,1286348880000.0,1286349180000.0,1286349480000.0,1286349780000.0,1286350080000.0,1286350380000.0,1286350680000.0,1286350980000.0,1286351280000.0,1286351580000.0,1286351880000.0,1286352180000.0,1286352480000.0,1286352780000.0,1286353080000.0,1286353380000.0,1286353680000.0,1286353980000.0,1286354280000.0,1286354580000.0,1286354880000.0,1286355180000.0,1286355480000.0,1286355780000.0,1286356080000.0,1286356380000.0,1286356680000.0,1286356980000.0,1286357280000.0,1286357580000.0,1286357880000.0,1286358180000.0,1286358480000.0,1286358780000.0,1286359080000.0,1286359380000.0,1286359680000.0,1286359980000.0,1286360280000.0,1286360580000.0,1286360880000.0,1286361180000.0,1286361480000.0,1286361780000.0,1286362080000.0,1286362380000.0,1286362680000.0,1286362980000.0,1286363280000.0,1286363580000.0,1286363880000.0,1286364180000.0,1286364480000.0,1286364780000.0,1286365080000.0,1286365380000.0,1286365680000.0,1286365980000.0,1286366280000.0,1286366580000.0,1286366880000.0,1286367180000.0,1286367480000.0,1286367780000.0,1286368080000.0,1286368380000.0,1286368680000.0,1286368980000.0,1286369280000.0,1286369580000.0,1286369880000.0,1286370180000.0,1286370480000.0,1286370780000.0,1286371080000.0,1286371380000.0,1286371680000.0,1286371980000.0,1286372280000.0,1286372580000.0,1286372880000.0,1286373180000.0,1286373480000.0,1286373780000.0,1286374080000.0,1286374380000.0,1286374680000.0,1286374980000.0,1286375280000.0,1286375580000.0,1286375880000.0,1286376180000.0,1286376480000.0,1286376780000.0,1286377080000.0,1286377380000.0,1286377680000.0,1286377980000.0,1286378280000.0,1286378580000.0,1286378880000.0,1286379180000.0,1286379480000.0,1286379780000.0,1286380080000.0,1286380380000.0,1286380680000.0,1286380980000.0,1286381280000.0,1286381580000.0,1286381880000.0,1286382180000.0,1286382480000.0,1286382780000.0,1286383080000.0,1286383380000.0,1286383680000.0,1286383980000.0,1286384280000.0,1286384580000.0,1286384880000.0,1286385180000.0,1286385480000.0,1286385780000.0,1286386080000.0,1286386380000.0,1286386680000.0,1286386980000.0,1286387280000.0,1286387580000.0,1286387880000.0,1286388180000.0,1286388480000.0,1286388780000.0,1286389080000.0,1286389380000.0,1286389680000.0,1286389980000.0,1286390280000.0,1286390580000.0,1286390880000.0,1286391180000.0,1286391480000.0,1286391780000.0,1286392080000.0,1286392380000.0,1286392680000.0,1286392980000.0,1286393280000.0,1286393580000.0,1286393880000.0,1286394180000.0,1286394480000.0,1286394780000.0,1286395080000.0,1286395380000.0,1286395680000.0,1286395980000.0,1286396280000.0,1286396580000.0,1286396880000.0,1286397180000.0,1286397480000.0,1286397780000.0,1286398080000.0,1286398380000.0,1286398680000.0,1286398980000.0,1286399280000.0,1286399580000.0,1286399880000.0,1286400180000.0,1286400480000.0,1286400780000.0,1286401080000.0,1286401380000.0,1286401680000.0,1286401980000.0,1286402280000.0,1286402580000.0,1286402880000.0,1286403180000.0,1286403480000.0,1286403780000.0,1286404080000.0,1286404380000.0,1286404680000.0,1286404980000.0,1286405280000.0,1286405580000.0,1286405880000.0,1286406180000.0,1286406480000.0,1286406780000.0,1286407080000.0,1286407380000.0,1286407680000.0,1286407980000.0,1286408280000.0,1286408580000.0,1286408880000.0,1286409180000.0,1286409480000.0],\"y\":[143,147,150,152,152,152,154,155,142,140,138,134,131,130,128,127,126,126,126,126,127,129,131,132,134,136,136,136,136,135,134,132,130,130,130,129,128,127,125,124,123,123,122,121,120,118,115,112,111,111,110,110,109,108,107,107,107,108,107,105,105,105,105,104,103,102,99,97,96,94,94,93,93,92,91,92,94,95,96,97,99,102,104,112,112,112,111,110,107,104,105,105,103,99,96,94,95,102,114,128,144,160,173,185,196,205,209,214,219,226,234,241,248,255,260,265,268,270,272,271,271,268,265,261,256,253,250,246,244,241,237,233,229,225,222,204,200,197,193,190,186,182,179,175,171,168,164,158,154,151,148,145,141,133,139,152,173,196,217,233,244,249,250,253,256,260,263,265,265,264,260,254,246,234,217,200,188,181,175,169,164,159,154,147,138,132,129,127,123,117,111,106,104,103,100,94,88,83,78,75,73,71,69,68,67,67,68,70,71,71,70,69,68,67,67,67,66,67,69,71,74,76,78,80,80,80,80,80,80,82,84,87,90,92,87,87,86,86,86,86,87,87,87,85,83,82,83,87,95,107,118,130,141,149,172,179,187,201,214,221,225,230,232,230,223,216,208,199,191,185,181,177,176,177,176,173,171,169,163,154,152,153,154,154,153,151,150,150]}},\"id\":\"2e437e7e-6113-4c24-9e83-002c345e9316\",\"type\":\"ColumnDataSource\"},{\"attributes\":{\"days\":[1,2,3,4,5,6,7,8,9,10,11,12,13,14,15,16,17,18,19,20,21,22,23,24,25,26,27,28,29,30,31]},\"id\":\"7f17156a-2a79-4c3e-9af4-7a66cb99a9e0\",\"type\":\"DaysTicker\"},{\"attributes\":{\"fill_alpha\":{\"value\":0.05},\"fill_color\":{\"value\":\"grey\"},\"line_color\":{\"value\":null},\"size\":{\"units\":\"screen\",\"value\":20},\"x\":{\"field\":\"x\"},\"y\":{\"field\":\"y\"}},\"id\":\"a407423c-bdb6-42d6-af05-ad78be16aa9a\",\"type\":\"Circle\"},{\"attributes\":{\"mantissas\":[1,2,5],\"max_interval\":500.0,\"num_minor_ticks\":0},\"id\":\"9772ce79-727b-42e4-b3b1-8812f1f5951b\",\"type\":\"AdaptiveTicker\"},{\"attributes\":{\"days\":[1,15]},\"id\":\"28eb0c1f-1bf0-4956-b29e-7b888c0aff2d\",\"type\":\"DaysTicker\"},{\"attributes\":{},\"id\":\"d77746df-8b64-49b5-8d87-11f2eb18aaf0\",\"type\":\"BasicTickFormatter\"},{\"attributes\":{\"base\":24,\"mantissas\":[1,2,4,6,8,12],\"max_interval\":43200000.0,\"min_interval\":3600000.0,\"num_minor_ticks\":0},\"id\":\"3e05119c-973f-48e7-b67a-7e89702ba6be\",\"type\":\"AdaptiveTicker\"},{\"attributes\":{\"base\":60,\"mantissas\":[1,2,5,10,15,20,30],\"max_interval\":1800000.0,\"min_interval\":1000.0,\"num_minor_ticks\":0},\"id\":\"8c137212-f68d-47e2-929c-96170cf8ece0\",\"type\":\"AdaptiveTicker\"},{\"attributes\":{\"days\":[1,8,15,22]},\"id\":\"afa00112-17c1-43c1-a903-a76e2473c2a8\",\"type\":\"DaysTicker\"},{\"attributes\":{\"days\":[1,4,7,10,13,16,19,22,25,28]},\"id\":\"367a4d38-1767-4776-8da3-66d05bb0b4d9\",\"type\":\"DaysTicker\"},{\"attributes\":{\"months\":[0,1,2,3,4,5,6,7,8,9,10,11]},\"id\":\"adeb45c7-58b4-4d09-92f8-f0a2a6642f71\",\"type\":\"MonthsTicker\"},{\"attributes\":{\"plot\":null,\"text\":\"Hover over points\"},\"id\":\"c7e8bc30-51b4-4fae-890f-434aed389134\",\"type\":\"Title\"},{\"attributes\":{\"months\":[0,2,4,6,8,10]},\"id\":\"e6f38adf-ed34-4e37-bbb0-8790290ca9df\",\"type\":\"MonthsTicker\"},{\"attributes\":{\"months\":[0,4,8]},\"id\":\"e59a23c1-e8ed-4587-a84e-79dd87d4496a\",\"type\":\"MonthsTicker\"},{\"attributes\":{\"callback\":null},\"id\":\"d2e1289f-0ea9-4384-a024-f7ad4bdc257e\",\"type\":\"DataRange1d\"},{\"attributes\":{\"months\":[0,6]},\"id\":\"ccd65bfa-70ba-40ec-8e23-eba8b9828c52\",\"type\":\"MonthsTicker\"},{\"attributes\":{},\"id\":\"6820c60e-a412-4bfe-8b55-047b43fd5f08\",\"type\":\"YearsTicker\"},{\"attributes\":{\"active_drag\":\"auto\",\"active_inspect\":\"auto\",\"active_scroll\":\"auto\",\"active_tap\":\"auto\",\"tools\":[{\"id\":\"59633620-e559-4ffc-89d2-212d95edf68a\",\"type\":\"PanTool\"},{\"id\":\"6a2d73b1-1def-40ae-b4da-27865b25addf\",\"type\":\"WheelZoomTool\"},{\"id\":\"49852d27-f6f0-4082-899e-883bb7e64efe\",\"type\":\"BoxZoomTool\"},{\"id\":\"d516cf8b-a186-439c-ae0c-710b1c28ebe9\",\"type\":\"SaveTool\"},{\"id\":\"02b9f883-4b8b-4268-9b56-00276bd12cda\",\"type\":\"ResetTool\"},{\"id\":\"36aaf063-58e5-4298-9ff5-0a34b882651d\",\"type\":\"HelpTool\"},{\"id\":\"cb0aaa52-650c-4741-8c34-8f47908de578\",\"type\":\"HoverTool\"}]},\"id\":\"39a7beda-8b8c-49da-8da1-70fe06fea43c\",\"type\":\"Toolbar\"},{\"attributes\":{\"callback\":null,\"mode\":\"hline\",\"renderers\":[{\"id\":\"7db838d5-e1ff-4997-9eb1-538abea006d4\",\"type\":\"GlyphRenderer\"}],\"tooltips\":null},\"id\":\"cb0aaa52-650c-4741-8c34-8f47908de578\",\"type\":\"HoverTool\"},{\"attributes\":{\"formatter\":{\"id\":\"b9b4de11-7a27-4195-98f2-96885922a286\",\"type\":\"DatetimeTickFormatter\"},\"plot\":{\"id\":\"58d7cd93-7640-4079-bb03-a4f081bd40e3\",\"subtype\":\"Figure\",\"type\":\"Plot\"},\"ticker\":{\"id\":\"13017b2e-977b-490e-ab8c-c660415accb9\",\"type\":\"DatetimeTicker\"}},\"id\":\"7df791f2-f7ff-4d16-a180-5f74e43cfd2e\",\"type\":\"DatetimeAxis\"},{\"attributes\":{},\"id\":\"052b41cc-bafb-4c8f-ab9d-cd42cb501bae\",\"type\":\"LinearScale\"},{\"attributes\":{\"callback\":null},\"id\":\"05d01a83-92c2-4072-9618-b87f887abcec\",\"type\":\"DataRange1d\"},{\"attributes\":{\"fill_alpha\":{\"value\":0.1},\"fill_color\":{\"value\":\"#1f77b4\"},\"line_alpha\":{\"value\":0.1},\"line_color\":{\"value\":\"#1f77b4\"},\"size\":{\"units\":\"screen\",\"value\":20},\"x\":{\"field\":\"x\"},\"y\":{\"field\":\"y\"}},\"id\":\"20f9d035-6d57-4ffd-bfa8-642a668d3d05\",\"type\":\"Circle\"},{\"attributes\":{},\"id\":\"92bbd23d-9e67-4ac7-bfd1-0192182b8e86\",\"type\":\"LinearScale\"},{\"attributes\":{\"fill_alpha\":{\"value\":0.3},\"fill_color\":{\"value\":\"firebrick\"},\"line_alpha\":{\"value\":0.3},\"line_color\":{\"value\":\"white\"},\"size\":{\"units\":\"screen\",\"value\":20},\"x\":{\"field\":\"x\"},\"y\":{\"field\":\"y\"}},\"id\":\"a392da2d-19cc-46c2-83a3-cca8a25c3e57\",\"type\":\"Circle\"},{\"attributes\":{\"plot\":{\"id\":\"58d7cd93-7640-4079-bb03-a4f081bd40e3\",\"subtype\":\"Figure\",\"type\":\"Plot\"},\"ticker\":{\"id\":\"13017b2e-977b-490e-ab8c-c660415accb9\",\"type\":\"DatetimeTicker\"}},\"id\":\"e2f8e359-bc34-4594-b1dc-903aa91a8f93\",\"type\":\"Grid\"},{\"attributes\":{\"source\":{\"id\":\"2e437e7e-6113-4c24-9e83-002c345e9316\",\"type\":\"ColumnDataSource\"}},\"id\":\"14d5eb10-be14-4732-9572-c72dea97cb73\",\"type\":\"CDSView\"},{\"attributes\":{\"line_alpha\":0.1,\"line_color\":\"#1f77b4\",\"line_dash\":[4,4],\"x\":{\"field\":\"x\"},\"y\":{\"field\":\"y\"}},\"id\":\"1500669e-fb67-4f16-bacc-44417a891f40\",\"type\":\"Line\"},{\"attributes\":{\"data_source\":{\"id\":\"7d7bb2ed-7457-4579-9177-00c763c3e2af\",\"type\":\"ColumnDataSource\"},\"glyph\":{\"id\":\"a407423c-bdb6-42d6-af05-ad78be16aa9a\",\"type\":\"Circle\"},\"hover_glyph\":{\"id\":\"a392da2d-19cc-46c2-83a3-cca8a25c3e57\",\"type\":\"Circle\"},\"muted_glyph\":null,\"nonselection_glyph\":{\"id\":\"20f9d035-6d57-4ffd-bfa8-642a668d3d05\",\"type\":\"Circle\"},\"selection_glyph\":null,\"view\":{\"id\":\"280e1c62-5888-46f3-a27d-c5f063de2d17\",\"type\":\"CDSView\"}},\"id\":\"7db838d5-e1ff-4997-9eb1-538abea006d4\",\"type\":\"GlyphRenderer\"},{\"attributes\":{\"formatter\":{\"id\":\"d77746df-8b64-49b5-8d87-11f2eb18aaf0\",\"type\":\"BasicTickFormatter\"},\"plot\":{\"id\":\"58d7cd93-7640-4079-bb03-a4f081bd40e3\",\"subtype\":\"Figure\",\"type\":\"Plot\"},\"ticker\":{\"id\":\"5b652f8b-2edb-4c9a-9d56-8adbf5f9c39c\",\"type\":\"BasicTicker\"}},\"id\":\"7a723316-8280-46ed-b7fa-1cb8675aba92\",\"type\":\"LinearAxis\"},{\"attributes\":{\"source\":{\"id\":\"7d7bb2ed-7457-4579-9177-00c763c3e2af\",\"type\":\"ColumnDataSource\"}},\"id\":\"280e1c62-5888-46f3-a27d-c5f063de2d17\",\"type\":\"CDSView\"},{\"attributes\":{\"below\":[{\"id\":\"7df791f2-f7ff-4d16-a180-5f74e43cfd2e\",\"type\":\"DatetimeAxis\"}],\"left\":[{\"id\":\"7a723316-8280-46ed-b7fa-1cb8675aba92\",\"type\":\"LinearAxis\"}],\"plot_height\":300,\"renderers\":[{\"id\":\"7df791f2-f7ff-4d16-a180-5f74e43cfd2e\",\"type\":\"DatetimeAxis\"},{\"id\":\"e2f8e359-bc34-4594-b1dc-903aa91a8f93\",\"type\":\"Grid\"},{\"id\":\"7a723316-8280-46ed-b7fa-1cb8675aba92\",\"type\":\"LinearAxis\"},{\"id\":\"d2a34223-0a81-4513-b5f8-4d3d0c203684\",\"type\":\"Grid\"},{\"id\":\"b961ae19-7164-43d2-927d-3b64aac5e4c1\",\"type\":\"BoxAnnotation\"},{\"id\":\"cbaa8b41-d45c-4c8a-96ef-75a8c5d34089\",\"type\":\"GlyphRenderer\"},{\"id\":\"7db838d5-e1ff-4997-9eb1-538abea006d4\",\"type\":\"GlyphRenderer\"}],\"title\":{\"id\":\"c7e8bc30-51b4-4fae-890f-434aed389134\",\"type\":\"Title\"},\"toolbar\":{\"id\":\"39a7beda-8b8c-49da-8da1-70fe06fea43c\",\"type\":\"Toolbar\"},\"x_range\":{\"id\":\"d2e1289f-0ea9-4384-a024-f7ad4bdc257e\",\"type\":\"DataRange1d\"},\"x_scale\":{\"id\":\"052b41cc-bafb-4c8f-ab9d-cd42cb501bae\",\"type\":\"LinearScale\"},\"y_range\":{\"id\":\"05d01a83-92c2-4072-9618-b87f887abcec\",\"type\":\"DataRange1d\"},\"y_scale\":{\"id\":\"92bbd23d-9e67-4ac7-bfd1-0192182b8e86\",\"type\":\"LinearScale\"}},\"id\":\"58d7cd93-7640-4079-bb03-a4f081bd40e3\",\"subtype\":\"Figure\",\"type\":\"Plot\"},{\"attributes\":{},\"id\":\"5b652f8b-2edb-4c9a-9d56-8adbf5f9c39c\",\"type\":\"BasicTicker\"},{\"attributes\":{\"line_color\":\"gray\",\"line_dash\":[4,4],\"x\":{\"field\":\"x\"},\"y\":{\"field\":\"y\"}},\"id\":\"43e11faf-c9db-4657-a424-9063dadaf27f\",\"type\":\"Line\"},{\"attributes\":{\"data_source\":{\"id\":\"2e437e7e-6113-4c24-9e83-002c345e9316\",\"type\":\"ColumnDataSource\"},\"glyph\":{\"id\":\"43e11faf-c9db-4657-a424-9063dadaf27f\",\"type\":\"Line\"},\"hover_glyph\":null,\"muted_glyph\":null,\"nonselection_glyph\":{\"id\":\"1500669e-fb67-4f16-bacc-44417a891f40\",\"type\":\"Line\"},\"selection_glyph\":null,\"view\":{\"id\":\"14d5eb10-be14-4732-9572-c72dea97cb73\",\"type\":\"CDSView\"}},\"id\":\"cbaa8b41-d45c-4c8a-96ef-75a8c5d34089\",\"type\":\"GlyphRenderer\"},{\"attributes\":{\"num_minor_ticks\":5,\"tickers\":[{\"id\":\"9772ce79-727b-42e4-b3b1-8812f1f5951b\",\"type\":\"AdaptiveTicker\"},{\"id\":\"8c137212-f68d-47e2-929c-96170cf8ece0\",\"type\":\"AdaptiveTicker\"},{\"id\":\"3e05119c-973f-48e7-b67a-7e89702ba6be\",\"type\":\"AdaptiveTicker\"},{\"id\":\"7f17156a-2a79-4c3e-9af4-7a66cb99a9e0\",\"type\":\"DaysTicker\"},{\"id\":\"367a4d38-1767-4776-8da3-66d05bb0b4d9\",\"type\":\"DaysTicker\"},{\"id\":\"afa00112-17c1-43c1-a903-a76e2473c2a8\",\"type\":\"DaysTicker\"},{\"id\":\"28eb0c1f-1bf0-4956-b29e-7b888c0aff2d\",\"type\":\"DaysTicker\"},{\"id\":\"adeb45c7-58b4-4d09-92f8-f0a2a6642f71\",\"type\":\"MonthsTicker\"},{\"id\":\"e6f38adf-ed34-4e37-bbb0-8790290ca9df\",\"type\":\"MonthsTicker\"},{\"id\":\"e59a23c1-e8ed-4587-a84e-79dd87d4496a\",\"type\":\"MonthsTicker\"},{\"id\":\"ccd65bfa-70ba-40ec-8e23-eba8b9828c52\",\"type\":\"MonthsTicker\"},{\"id\":\"6820c60e-a412-4bfe-8b55-047b43fd5f08\",\"type\":\"YearsTicker\"}]},\"id\":\"13017b2e-977b-490e-ab8c-c660415accb9\",\"type\":\"DatetimeTicker\"},{\"attributes\":{\"dimension\":1,\"plot\":{\"id\":\"58d7cd93-7640-4079-bb03-a4f081bd40e3\",\"subtype\":\"Figure\",\"type\":\"Plot\"},\"ticker\":{\"id\":\"5b652f8b-2edb-4c9a-9d56-8adbf5f9c39c\",\"type\":\"BasicTicker\"}},\"id\":\"d2a34223-0a81-4513-b5f8-4d3d0c203684\",\"type\":\"Grid\"}],\"root_ids\":[\"58d7cd93-7640-4079-bb03-a4f081bd40e3\"]},\"title\":\"Bokeh Application\",\"version\":\"0.12.13\"}};\n",
       "  var render_items = [{\"docid\":\"87c9267d-e9be-44cd-91b1-ea5c92b4eb41\",\"elementid\":\"d86bc702-3f5c-46b1-bc92-d2a63d623e9f\",\"modelid\":\"58d7cd93-7640-4079-bb03-a4f081bd40e3\"}];\n",
       "  root.Bokeh.embed.embed_items_notebook(docs_json, render_items);\n",
       "\n",
       "  }\n",
       "  if (root.Bokeh !== undefined) {\n",
       "    embed_document(root);\n",
       "  } else {\n",
       "    var attempts = 0;\n",
       "    var timer = setInterval(function(root) {\n",
       "      if (root.Bokeh !== undefined) {\n",
       "        embed_document(root);\n",
       "        clearInterval(timer);\n",
       "      }\n",
       "      attempts++;\n",
       "      if (attempts > 100) {\n",
       "        console.log(\"Bokeh: ERROR: Unable to run BokehJS code because BokehJS library is missing\")\n",
       "        clearInterval(timer);\n",
       "      }\n",
       "    }, 10, root)\n",
       "  }\n",
       "})(window);"
      ],
      "application/vnd.bokehjs_exec.v0+json": ""
     },
     "metadata": {
      "application/vnd.bokehjs_exec.v0+json": {
       "id": "58d7cd93-7640-4079-bb03-a4f081bd40e3"
      }
     },
     "output_type": "display_data"
    }
   ],
   "source": [
    "import bokeh\n",
    "#bokeh.sampledata.download()\n",
    "from bokeh.models.tools import HoverTool\n",
    "bokeh.sampledata.download()\n",
    "from bokeh.sampledata.glucose import data\n",
    "\n",
    "\n",
    "subset = data.loc['2010-10-06']\n",
    "\n",
    "x, y = subset.index.to_series(), subset['glucose']\n",
    "\n",
    "# Basic plot setup\n",
    "p = figure(width=600, height=300, x_axis_type=\"datetime\", title='Hover over points')\n",
    "\n",
    "p.line(x, y, line_dash=\"4 4\", line_width=1, color='gray')\n",
    "\n",
    "cr = p.circle(x, y, size=20,\n",
    "              fill_color=\"grey\", hover_fill_color=\"firebrick\",\n",
    "              fill_alpha=0.05, hover_alpha=0.3,\n",
    "              line_color=None, hover_line_color=\"white\")\n",
    "\n",
    "p.add_tools(HoverTool(tooltips=None, renderers=[cr], mode='hline'))\n",
    "\n",
    "show(p)"
   ]
  },
  {
   "cell_type": "code",
   "execution_count": 8,
   "metadata": {
    "collapsed": true
   },
   "outputs": [],
   "source": [
    "# EXERCISE: experiment with standard, selected, hover glyph visual properties\n"
   ]
  },
  {
   "cell_type": "markdown",
   "metadata": {},
   "source": [
    "# Axes\n",
    "\n",
    "[Axes](http://bokeh.pydata.org/en/latest/docs/user_guide/styling.html#axes)\n",
    "\n",
    "To style axes, you first must get ahold of `Axis` objects. The simplest way is to use some convenience methods on `Plot`: [axis](http://bokeh.pydata.org/en/latest/docs/reference/plotting.html#bokeh.plotting.Figure.axis), [xaxis](http://bokeh.pydata.org/en/latest/docs/reference/plotting.html#bokeh.plotting.Figure.xaxis), and [yaxis](http://bokeh.pydata.org/en/latest/docs/reference/plotting.html#bokeh.plotting.Figure.yaxis). These methods return lists of axis objects:\n",
    "\n",
    "```\n",
    ">>> p.xaxis\n",
    "[<bokeh.models.axes.LinearAxis at 0x106fa2390>]\n",
    "```\n",
    "However, you can set properties on all the elements of the list as if it was a single object:\n",
    "```\n",
    "p.xaxis.axis_label = \"Temperature\"\n",
    "p.axis.major_label_text_color = \"orange\"\n",
    "```\n",
    "These are referred to as \"splattable\" lists, and tab completion works on them as well. \n"
   ]
  },
  {
   "cell_type": "code",
   "execution_count": 9,
   "metadata": {
    "collapsed": true
   },
   "outputs": [],
   "source": [
    "# EXERCISE Try out tab completion. Type p.xaxis.<press tab key> to see a list of attributes that can be set.\n",
    "\n",
    "p.xaxis."
   ]
  },
  {
   "cell_type": "markdown",
   "metadata": {},
   "source": [
    "* **axis** \n",
    " - [line properties](http://bokeh.pydata.org/en/latest/docs/user_guide/styling.html#line-properties)\n",
    "* **axis_label** \n",
    " - [text properties](http://bokeh.pydata.org/en/latest/docs/user_guide/styling.html#text-properties)\n",
    " - ``axis_label_standoff``\n",
    "* **major_label** \n",
    " - [text properties](http://bokeh.pydata.org/en/latest/docs/user_guide/styling.html#text-properties)\n",
    " - ``orientation``\n",
    "* **major_tick** \n",
    " - [line_properties](http://bokeh.pydata.org/en/latest/docs/user_guide/styling.html#line-properties)\n",
    " - ``major_tick_in`` \n",
    " - ``major_tick_out``\n",
    "* **minor_tick** \n",
    " - [line properties](http://bokeh.pydata.org/en/latest/docs/user_guide/styling.html#line-properties)\n",
    " - ``minor_tick_in``\n",
    " - ``minor_tick_out``\n",
    "\n",
    "As a simple first example, let's change the orientation of the major tick labels on both axes of a plot:"
   ]
  },
  {
   "cell_type": "code",
   "execution_count": 12,
   "metadata": {},
   "outputs": [
    {
     "data": {
      "text/html": [
       "\n",
       "<div class=\"bk-root\">\n",
       "    <div class=\"bk-plotdiv\" id=\"84e9af83-81b4-4cf3-af3f-e96c4e427fa1\"></div>\n",
       "</div>"
      ]
     },
     "metadata": {},
     "output_type": "display_data"
    },
    {
     "data": {
      "application/javascript": [
       "(function(root) {\n",
       "  function embed_document(root) {\n",
       "    \n",
       "  var docs_json = {\"63555da3-b3f5-47bf-9c85-e8dc1967bfbe\":{\"roots\":{\"references\":[{\"attributes\":{\"formatter\":{\"id\":\"d3d0e28d-727c-44a9-9329-1753ac1d56fc\",\"type\":\"BasicTickFormatter\"},\"major_label_orientation\":0.7853981633974483,\"plot\":{\"id\":\"3292ae3c-66ba-4a67-a82b-578815550524\",\"subtype\":\"Figure\",\"type\":\"Plot\"},\"ticker\":{\"id\":\"ff5f2ac3-dc86-4e67-88bd-fb1fe9163183\",\"type\":\"BasicTicker\"}},\"id\":\"a4168fd8-9152-489d-b841-63c63b2bd140\",\"type\":\"LinearAxis\"},{\"attributes\":{},\"id\":\"d3d0e28d-727c-44a9-9329-1753ac1d56fc\",\"type\":\"BasicTickFormatter\"},{\"attributes\":{},\"id\":\"c91f0094-0f36-4fde-a4b1-96fb0f39da28\",\"type\":\"ResetTool\"},{\"attributes\":{},\"id\":\"ac0711d8-21fc-4666-8b74-524689a7035e\",\"type\":\"HelpTool\"},{\"attributes\":{},\"id\":\"117205bc-9457-4ad1-b9b8-43f7ad163811\",\"type\":\"SaveTool\"},{\"attributes\":{\"fill_color\":{\"value\":\"#1f77b4\"},\"line_color\":{\"value\":\"#1f77b4\"},\"line_width\":{\"value\":2},\"size\":{\"units\":\"screen\",\"value\":10},\"x\":{\"field\":\"x\"},\"y\":{\"field\":\"y\"}},\"id\":\"68f623b9-10a4-475a-b896-a899c61c9176\",\"type\":\"X\"},{\"attributes\":{},\"id\":\"df37cc3e-1251-4979-b416-f0bfae0111ee\",\"type\":\"LinearScale\"},{\"attributes\":{},\"id\":\"8c1638f0-35af-4521-a92a-76a7c0531864\",\"type\":\"WheelZoomTool\"},{\"attributes\":{\"data_source\":{\"id\":\"3cadab61-af1d-4a36-aed0-d53aabc93012\",\"type\":\"ColumnDataSource\"},\"glyph\":{\"id\":\"68f623b9-10a4-475a-b896-a899c61c9176\",\"type\":\"X\"},\"hover_glyph\":null,\"muted_glyph\":null,\"nonselection_glyph\":{\"id\":\"02fa7d81-a296-4d82-af1f-e07ff3a6c3b7\",\"type\":\"X\"},\"selection_glyph\":null,\"view\":{\"id\":\"f631f5af-3083-4966-839c-870f7a37e0ac\",\"type\":\"CDSView\"}},\"id\":\"3445820f-a244-4900-9fd1-909481818d5a\",\"type\":\"GlyphRenderer\"},{\"attributes\":{\"callback\":null},\"id\":\"b29239a6-673c-4fc2-8ed0-e7550bb97157\",\"type\":\"DataRange1d\"},{\"attributes\":{},\"id\":\"426d760d-d3fd-4049-be03-fcb42c492f2f\",\"type\":\"LinearScale\"},{\"attributes\":{},\"id\":\"fc6cd55f-56ba-4857-8af2-20e982c007ba\",\"type\":\"BasicTicker\"},{\"attributes\":{\"fill_alpha\":{\"value\":0.1},\"fill_color\":{\"value\":\"#1f77b4\"},\"line_alpha\":{\"value\":0.1},\"line_color\":{\"value\":\"#1f77b4\"},\"line_width\":{\"value\":2},\"size\":{\"units\":\"screen\",\"value\":10},\"x\":{\"field\":\"x\"},\"y\":{\"field\":\"y\"}},\"id\":\"02fa7d81-a296-4d82-af1f-e07ff3a6c3b7\",\"type\":\"X\"},{\"attributes\":{\"plot\":null,\"text\":\"\"},\"id\":\"de94e588-0394-4fb7-9838-912a8051361f\",\"type\":\"Title\"},{\"attributes\":{\"plot\":{\"id\":\"3292ae3c-66ba-4a67-a82b-578815550524\",\"subtype\":\"Figure\",\"type\":\"Plot\"},\"ticker\":{\"id\":\"ff5f2ac3-dc86-4e67-88bd-fb1fe9163183\",\"type\":\"BasicTicker\"}},\"id\":\"b57eb61b-4811-4976-a36d-8efe84393f6e\",\"type\":\"Grid\"},{\"attributes\":{\"active_drag\":\"auto\",\"active_inspect\":\"auto\",\"active_scroll\":\"auto\",\"active_tap\":\"auto\",\"tools\":[{\"id\":\"9690150b-388b-401b-8e0c-459ccd18dc4f\",\"type\":\"PanTool\"},{\"id\":\"8c1638f0-35af-4521-a92a-76a7c0531864\",\"type\":\"WheelZoomTool\"},{\"id\":\"519e69fb-62ca-4aa9-9a67-8ddf5b35e0a9\",\"type\":\"BoxZoomTool\"},{\"id\":\"117205bc-9457-4ad1-b9b8-43f7ad163811\",\"type\":\"SaveTool\"},{\"id\":\"c91f0094-0f36-4fde-a4b1-96fb0f39da28\",\"type\":\"ResetTool\"},{\"id\":\"ac0711d8-21fc-4666-8b74-524689a7035e\",\"type\":\"HelpTool\"}]},\"id\":\"ed4ac89d-1100-49b7-9479-1f889dbf09ef\",\"type\":\"Toolbar\"},{\"attributes\":{\"bottom_units\":\"screen\",\"fill_alpha\":{\"value\":0.5},\"fill_color\":{\"value\":\"lightgrey\"},\"left_units\":\"screen\",\"level\":\"overlay\",\"line_alpha\":{\"value\":1.0},\"line_color\":{\"value\":\"black\"},\"line_dash\":[4,4],\"line_width\":{\"value\":2},\"plot\":null,\"render_mode\":\"css\",\"right_units\":\"screen\",\"top_units\":\"screen\"},\"id\":\"0753cdcd-7691-441f-b6e1-67d55a4cbb68\",\"type\":\"BoxAnnotation\"},{\"attributes\":{\"callback\":null},\"id\":\"6f85d422-3f94-4861-b425-2bb7befc2783\",\"type\":\"DataRange1d\"},{\"attributes\":{\"below\":[{\"id\":\"a4168fd8-9152-489d-b841-63c63b2bd140\",\"type\":\"LinearAxis\"}],\"left\":[{\"id\":\"ef091ac5-7783-454e-932e-462929e77933\",\"type\":\"LinearAxis\"}],\"plot_height\":400,\"plot_width\":400,\"renderers\":[{\"id\":\"a4168fd8-9152-489d-b841-63c63b2bd140\",\"type\":\"LinearAxis\"},{\"id\":\"b57eb61b-4811-4976-a36d-8efe84393f6e\",\"type\":\"Grid\"},{\"id\":\"ef091ac5-7783-454e-932e-462929e77933\",\"type\":\"LinearAxis\"},{\"id\":\"b5b1c8ba-3359-4ae0-b711-9b6bd77e9b00\",\"type\":\"Grid\"},{\"id\":\"0753cdcd-7691-441f-b6e1-67d55a4cbb68\",\"type\":\"BoxAnnotation\"},{\"id\":\"3445820f-a244-4900-9fd1-909481818d5a\",\"type\":\"GlyphRenderer\"}],\"title\":{\"id\":\"de94e588-0394-4fb7-9838-912a8051361f\",\"type\":\"Title\"},\"toolbar\":{\"id\":\"ed4ac89d-1100-49b7-9479-1f889dbf09ef\",\"type\":\"Toolbar\"},\"x_range\":{\"id\":\"6f85d422-3f94-4861-b425-2bb7befc2783\",\"type\":\"DataRange1d\"},\"x_scale\":{\"id\":\"426d760d-d3fd-4049-be03-fcb42c492f2f\",\"type\":\"LinearScale\"},\"y_range\":{\"id\":\"b29239a6-673c-4fc2-8ed0-e7550bb97157\",\"type\":\"DataRange1d\"},\"y_scale\":{\"id\":\"df37cc3e-1251-4979-b416-f0bfae0111ee\",\"type\":\"LinearScale\"}},\"id\":\"3292ae3c-66ba-4a67-a82b-578815550524\",\"subtype\":\"Figure\",\"type\":\"Plot\"},{\"attributes\":{\"callback\":null,\"column_names\":[\"x\",\"y\"],\"data\":{\"x\":[1,2,3,4,5],\"y\":[2,5,8,2,7]}},\"id\":\"3cadab61-af1d-4a36-aed0-d53aabc93012\",\"type\":\"ColumnDataSource\"},{\"attributes\":{},\"id\":\"9690150b-388b-401b-8e0c-459ccd18dc4f\",\"type\":\"PanTool\"},{\"attributes\":{\"formatter\":{\"id\":\"4c3b83ec-7b2b-45c6-99a2-d934c5d09cc7\",\"type\":\"BasicTickFormatter\"},\"major_label_orientation\":\"vertical\",\"plot\":{\"id\":\"3292ae3c-66ba-4a67-a82b-578815550524\",\"subtype\":\"Figure\",\"type\":\"Plot\"},\"ticker\":{\"id\":\"fc6cd55f-56ba-4857-8af2-20e982c007ba\",\"type\":\"BasicTicker\"}},\"id\":\"ef091ac5-7783-454e-932e-462929e77933\",\"type\":\"LinearAxis\"},{\"attributes\":{\"source\":{\"id\":\"3cadab61-af1d-4a36-aed0-d53aabc93012\",\"type\":\"ColumnDataSource\"}},\"id\":\"f631f5af-3083-4966-839c-870f7a37e0ac\",\"type\":\"CDSView\"},{\"attributes\":{},\"id\":\"4c3b83ec-7b2b-45c6-99a2-d934c5d09cc7\",\"type\":\"BasicTickFormatter\"},{\"attributes\":{\"dimension\":1,\"plot\":{\"id\":\"3292ae3c-66ba-4a67-a82b-578815550524\",\"subtype\":\"Figure\",\"type\":\"Plot\"},\"ticker\":{\"id\":\"fc6cd55f-56ba-4857-8af2-20e982c007ba\",\"type\":\"BasicTicker\"}},\"id\":\"b5b1c8ba-3359-4ae0-b711-9b6bd77e9b00\",\"type\":\"Grid\"},{\"attributes\":{\"overlay\":{\"id\":\"0753cdcd-7691-441f-b6e1-67d55a4cbb68\",\"type\":\"BoxAnnotation\"}},\"id\":\"519e69fb-62ca-4aa9-9a67-8ddf5b35e0a9\",\"type\":\"BoxZoomTool\"},{\"attributes\":{},\"id\":\"ff5f2ac3-dc86-4e67-88bd-fb1fe9163183\",\"type\":\"BasicTicker\"}],\"root_ids\":[\"3292ae3c-66ba-4a67-a82b-578815550524\"]},\"title\":\"Bokeh Application\",\"version\":\"0.12.13\"}};\n",
       "  var render_items = [{\"docid\":\"63555da3-b3f5-47bf-9c85-e8dc1967bfbe\",\"elementid\":\"84e9af83-81b4-4cf3-af3f-e96c4e427fa1\",\"modelid\":\"3292ae3c-66ba-4a67-a82b-578815550524\"}];\n",
       "  root.Bokeh.embed.embed_items_notebook(docs_json, render_items);\n",
       "\n",
       "  }\n",
       "  if (root.Bokeh !== undefined) {\n",
       "    embed_document(root);\n",
       "  } else {\n",
       "    var attempts = 0;\n",
       "    var timer = setInterval(function(root) {\n",
       "      if (root.Bokeh !== undefined) {\n",
       "        embed_document(root);\n",
       "        clearInterval(timer);\n",
       "      }\n",
       "      attempts++;\n",
       "      if (attempts > 100) {\n",
       "        console.log(\"Bokeh: ERROR: Unable to run BokehJS code because BokehJS library is missing\")\n",
       "        clearInterval(timer);\n",
       "      }\n",
       "    }, 10, root)\n",
       "  }\n",
       "})(window);"
      ],
      "application/vnd.bokehjs_exec.v0+json": ""
     },
     "metadata": {
      "application/vnd.bokehjs_exec.v0+json": {
       "id": "3292ae3c-66ba-4a67-a82b-578815550524"
      }
     },
     "output_type": "display_data"
    }
   ],
   "source": [
    "from math import pi\n",
    "\n",
    "p = figure(plot_width=400, plot_height=400)\n",
    "p.x([1,2,3,4,5], [2,5,8,2,7], size=10, line_width=2)\n",
    "\n",
    "p.xaxis.major_label_orientation = pi/4\n",
    "p.yaxis.major_label_orientation = \"vertical\"\n",
    "\n",
    "show(p)"
   ]
  },
  {
   "cell_type": "markdown",
   "metadata": {},
   "source": [
    "The next example shows customizations on several of the different Axis properties at once:"
   ]
  },
  {
   "cell_type": "code",
   "execution_count": 14,
   "metadata": {},
   "outputs": [
    {
     "data": {
      "text/html": [
       "\n",
       "<div class=\"bk-root\">\n",
       "    <div class=\"bk-plotdiv\" id=\"83b5b53f-ba17-4dc7-a454-656f1c5796bf\"></div>\n",
       "</div>"
      ]
     },
     "metadata": {},
     "output_type": "display_data"
    },
    {
     "data": {
      "application/javascript": [
       "(function(root) {\n",
       "  function embed_document(root) {\n",
       "    \n",
       "  var docs_json = {\"5bc3b91d-d81e-443b-9908-886a6a7c72c9\":{\"roots\":{\"references\":[{\"attributes\":{},\"id\":\"7e4ed99b-9abf-4fdd-b6d9-54bf7f51c4e8\",\"type\":\"BasicTickFormatter\"},{\"attributes\":{},\"id\":\"f464f65f-4395-4749-97fc-c4a8a11300e5\",\"type\":\"BasicTicker\"},{\"attributes\":{},\"id\":\"63400139-d4e9-49a7-bf21-e79d79ba9505\",\"type\":\"SaveTool\"},{\"attributes\":{},\"id\":\"b6587453-2882-4ec4-a235-b22ccb2b6770\",\"type\":\"WheelZoomTool\"},{\"attributes\":{\"callback\":null},\"id\":\"ad162b77-8e15-4ee2-813e-75f7954fbca3\",\"type\":\"DataRange1d\"},{\"attributes\":{\"axis_label\":\"Temp\",\"axis_line_color\":{\"value\":\"red\"},\"axis_line_width\":{\"value\":3},\"formatter\":{\"id\":\"c477355e-c9e0-4d04-8a56-bfcc64718965\",\"type\":\"BasicTickFormatter\"},\"minor_tick_in\":-3,\"minor_tick_out\":6,\"plot\":{\"id\":\"5c4643c3-3b53-45bb-8684-0911cfa076c9\",\"subtype\":\"Figure\",\"type\":\"Plot\"},\"ticker\":{\"id\":\"f464f65f-4395-4749-97fc-c4a8a11300e5\",\"type\":\"BasicTicker\"}},\"id\":\"bc83f5a4-4d15-4dc2-a4b7-05e7e2944557\",\"type\":\"LinearAxis\"},{\"attributes\":{},\"id\":\"aac4583d-2b7f-4ef2-b45f-a3fe0fbed59d\",\"type\":\"ResetTool\"},{\"attributes\":{\"fill_color\":{\"value\":\"olive\"},\"line_color\":{\"value\":\"olive\"},\"size\":{\"units\":\"screen\",\"value\":12},\"x\":{\"field\":\"x\"},\"y\":{\"field\":\"y\"}},\"id\":\"c1081604-1d26-4837-a4d6-1171a305d085\",\"type\":\"Asterisk\"},{\"attributes\":{\"data_source\":{\"id\":\"1ad0cee5-7d17-49e3-bcc6-e47e6bdb7268\",\"type\":\"ColumnDataSource\"},\"glyph\":{\"id\":\"c1081604-1d26-4837-a4d6-1171a305d085\",\"type\":\"Asterisk\"},\"hover_glyph\":null,\"muted_glyph\":null,\"nonselection_glyph\":{\"id\":\"cc693b27-51fc-4742-a642-36f59249eb15\",\"type\":\"Asterisk\"},\"selection_glyph\":null,\"view\":{\"id\":\"d18005b5-bd1f-4899-ba67-b26eb9b9a584\",\"type\":\"CDSView\"}},\"id\":\"aafeb297-de1c-439b-80af-a7fd3df8fcaf\",\"type\":\"GlyphRenderer\"},{\"attributes\":{\"overlay\":{\"id\":\"ee291a83-be45-44a0-bcfd-005189a1ab49\",\"type\":\"BoxAnnotation\"}},\"id\":\"b3e2148e-a7e3-435f-bb9f-1040e5a4d828\",\"type\":\"BoxZoomTool\"},{\"attributes\":{\"fill_alpha\":{\"value\":0.1},\"fill_color\":{\"value\":\"#1f77b4\"},\"line_alpha\":{\"value\":0.1},\"line_color\":{\"value\":\"#1f77b4\"},\"size\":{\"units\":\"screen\",\"value\":12},\"x\":{\"field\":\"x\"},\"y\":{\"field\":\"y\"}},\"id\":\"cc693b27-51fc-4742-a642-36f59249eb15\",\"type\":\"Asterisk\"},{\"attributes\":{\"callback\":null},\"id\":\"06c2269d-993b-465c-bfd5-df7e6d84d997\",\"type\":\"DataRange1d\"},{\"attributes\":{},\"id\":\"ef91648b-5ceb-43d7-b919-36a9d13a2acc\",\"type\":\"PanTool\"},{\"attributes\":{\"plot\":null,\"text\":\"\"},\"id\":\"cf710d8e-e536-4fdf-9369-9e8ec1fac91e\",\"type\":\"Title\"},{\"attributes\":{\"bottom_units\":\"screen\",\"fill_alpha\":{\"value\":0.5},\"fill_color\":{\"value\":\"lightgrey\"},\"left_units\":\"screen\",\"level\":\"overlay\",\"line_alpha\":{\"value\":1.0},\"line_color\":{\"value\":\"black\"},\"line_dash\":[4,4],\"line_width\":{\"value\":2},\"plot\":null,\"render_mode\":\"css\",\"right_units\":\"screen\",\"top_units\":\"screen\"},\"id\":\"ee291a83-be45-44a0-bcfd-005189a1ab49\",\"type\":\"BoxAnnotation\"},{\"attributes\":{},\"id\":\"c477355e-c9e0-4d04-8a56-bfcc64718965\",\"type\":\"BasicTickFormatter\"},{\"attributes\":{\"axis_label\":\"Pressure\",\"formatter\":{\"id\":\"7e4ed99b-9abf-4fdd-b6d9-54bf7f51c4e8\",\"type\":\"BasicTickFormatter\"},\"major_label_orientation\":\"vertical\",\"major_label_text_color\":{\"value\":\"orange\"},\"minor_tick_in\":-3,\"minor_tick_out\":6,\"plot\":{\"id\":\"5c4643c3-3b53-45bb-8684-0911cfa076c9\",\"subtype\":\"Figure\",\"type\":\"Plot\"},\"ticker\":{\"id\":\"504a5cf2-47b8-435a-9b0e-18be830a4912\",\"type\":\"BasicTicker\"}},\"id\":\"0aba5979-a890-400e-af58-095eb95b1318\",\"type\":\"LinearAxis\"},{\"attributes\":{},\"id\":\"fcdb1b0c-9326-477b-b2eb-fd8a9695da35\",\"type\":\"HelpTool\"},{\"attributes\":{\"callback\":null,\"column_names\":[\"x\",\"y\"],\"data\":{\"x\":[1,2,3,4,5],\"y\":[2,5,8,2,7]}},\"id\":\"1ad0cee5-7d17-49e3-bcc6-e47e6bdb7268\",\"type\":\"ColumnDataSource\"},{\"attributes\":{\"below\":[{\"id\":\"bc83f5a4-4d15-4dc2-a4b7-05e7e2944557\",\"type\":\"LinearAxis\"}],\"left\":[{\"id\":\"0aba5979-a890-400e-af58-095eb95b1318\",\"type\":\"LinearAxis\"}],\"plot_height\":400,\"plot_width\":400,\"renderers\":[{\"id\":\"bc83f5a4-4d15-4dc2-a4b7-05e7e2944557\",\"type\":\"LinearAxis\"},{\"id\":\"c2eaa936-1c16-45d4-821c-6c09820baf43\",\"type\":\"Grid\"},{\"id\":\"0aba5979-a890-400e-af58-095eb95b1318\",\"type\":\"LinearAxis\"},{\"id\":\"920cde80-3d3b-4692-bf3f-cf6226d049a7\",\"type\":\"Grid\"},{\"id\":\"ee291a83-be45-44a0-bcfd-005189a1ab49\",\"type\":\"BoxAnnotation\"},{\"id\":\"aafeb297-de1c-439b-80af-a7fd3df8fcaf\",\"type\":\"GlyphRenderer\"}],\"title\":{\"id\":\"cf710d8e-e536-4fdf-9369-9e8ec1fac91e\",\"type\":\"Title\"},\"toolbar\":{\"id\":\"9ec3c3a6-0b29-4fd1-a667-b40b096c2370\",\"type\":\"Toolbar\"},\"x_range\":{\"id\":\"ad162b77-8e15-4ee2-813e-75f7954fbca3\",\"type\":\"DataRange1d\"},\"x_scale\":{\"id\":\"11e63ed9-0622-4b10-8bd2-b433c7738d41\",\"type\":\"LinearScale\"},\"y_range\":{\"id\":\"06c2269d-993b-465c-bfd5-df7e6d84d997\",\"type\":\"DataRange1d\"},\"y_scale\":{\"id\":\"77460a81-78ec-4963-a319-ff6624380323\",\"type\":\"LinearScale\"}},\"id\":\"5c4643c3-3b53-45bb-8684-0911cfa076c9\",\"subtype\":\"Figure\",\"type\":\"Plot\"},{\"attributes\":{\"active_drag\":\"auto\",\"active_inspect\":\"auto\",\"active_scroll\":\"auto\",\"active_tap\":\"auto\",\"tools\":[{\"id\":\"ef91648b-5ceb-43d7-b919-36a9d13a2acc\",\"type\":\"PanTool\"},{\"id\":\"b6587453-2882-4ec4-a235-b22ccb2b6770\",\"type\":\"WheelZoomTool\"},{\"id\":\"b3e2148e-a7e3-435f-bb9f-1040e5a4d828\",\"type\":\"BoxZoomTool\"},{\"id\":\"63400139-d4e9-49a7-bf21-e79d79ba9505\",\"type\":\"SaveTool\"},{\"id\":\"aac4583d-2b7f-4ef2-b45f-a3fe0fbed59d\",\"type\":\"ResetTool\"},{\"id\":\"fcdb1b0c-9326-477b-b2eb-fd8a9695da35\",\"type\":\"HelpTool\"}]},\"id\":\"9ec3c3a6-0b29-4fd1-a667-b40b096c2370\",\"type\":\"Toolbar\"},{\"attributes\":{},\"id\":\"77460a81-78ec-4963-a319-ff6624380323\",\"type\":\"LinearScale\"},{\"attributes\":{\"plot\":{\"id\":\"5c4643c3-3b53-45bb-8684-0911cfa076c9\",\"subtype\":\"Figure\",\"type\":\"Plot\"},\"ticker\":{\"id\":\"f464f65f-4395-4749-97fc-c4a8a11300e5\",\"type\":\"BasicTicker\"}},\"id\":\"c2eaa936-1c16-45d4-821c-6c09820baf43\",\"type\":\"Grid\"},{\"attributes\":{\"dimension\":1,\"plot\":{\"id\":\"5c4643c3-3b53-45bb-8684-0911cfa076c9\",\"subtype\":\"Figure\",\"type\":\"Plot\"},\"ticker\":{\"id\":\"504a5cf2-47b8-435a-9b0e-18be830a4912\",\"type\":\"BasicTicker\"}},\"id\":\"920cde80-3d3b-4692-bf3f-cf6226d049a7\",\"type\":\"Grid\"},{\"attributes\":{\"source\":{\"id\":\"1ad0cee5-7d17-49e3-bcc6-e47e6bdb7268\",\"type\":\"ColumnDataSource\"}},\"id\":\"d18005b5-bd1f-4899-ba67-b26eb9b9a584\",\"type\":\"CDSView\"},{\"attributes\":{},\"id\":\"504a5cf2-47b8-435a-9b0e-18be830a4912\",\"type\":\"BasicTicker\"},{\"attributes\":{},\"id\":\"11e63ed9-0622-4b10-8bd2-b433c7738d41\",\"type\":\"LinearScale\"}],\"root_ids\":[\"5c4643c3-3b53-45bb-8684-0911cfa076c9\"]},\"title\":\"Bokeh Application\",\"version\":\"0.12.13\"}};\n",
       "  var render_items = [{\"docid\":\"5bc3b91d-d81e-443b-9908-886a6a7c72c9\",\"elementid\":\"83b5b53f-ba17-4dc7-a454-656f1c5796bf\",\"modelid\":\"5c4643c3-3b53-45bb-8684-0911cfa076c9\"}];\n",
       "  root.Bokeh.embed.embed_items_notebook(docs_json, render_items);\n",
       "\n",
       "  }\n",
       "  if (root.Bokeh !== undefined) {\n",
       "    embed_document(root);\n",
       "  } else {\n",
       "    var attempts = 0;\n",
       "    var timer = setInterval(function(root) {\n",
       "      if (root.Bokeh !== undefined) {\n",
       "        embed_document(root);\n",
       "        clearInterval(timer);\n",
       "      }\n",
       "      attempts++;\n",
       "      if (attempts > 100) {\n",
       "        console.log(\"Bokeh: ERROR: Unable to run BokehJS code because BokehJS library is missing\")\n",
       "        clearInterval(timer);\n",
       "      }\n",
       "    }, 10, root)\n",
       "  }\n",
       "})(window);"
      ],
      "application/vnd.bokehjs_exec.v0+json": ""
     },
     "metadata": {
      "application/vnd.bokehjs_exec.v0+json": {
       "id": "5c4643c3-3b53-45bb-8684-0911cfa076c9"
      }
     },
     "output_type": "display_data"
    }
   ],
   "source": [
    "p = figure(plot_width=400, plot_height=400)\n",
    "p.asterisk([1,2,3,4,5], [2,5,8,2,7], size=12, color=\"olive\")\n",
    "\n",
    "# change just some things about the x-axes\n",
    "p.xaxis.axis_label = \"Temp\"\n",
    "p.xaxis.axis_line_width = 3\n",
    "p.xaxis.axis_line_color = \"red\"\n",
    "\n",
    "# change just some things about the y-axes\n",
    "p.yaxis.axis_label = \"Pressure\"\n",
    "p.yaxis.major_label_text_color = \"orange\"\n",
    "p.yaxis.major_label_orientation = \"vertical\"\n",
    "\n",
    "# change things on all axes\n",
    "p.axis.minor_tick_in = -3\n",
    "p.axis.minor_tick_out = 6\n",
    "\n",
    "show(p)"
   ]
  },
  {
   "cell_type": "code",
   "execution_count": 20,
   "metadata": {},
   "outputs": [
    {
     "data": {
      "text/html": [
       "\n",
       "<div class=\"bk-root\">\n",
       "    <div class=\"bk-plotdiv\" id=\"f7de281f-ac91-4003-81d7-dffadb1d5883\"></div>\n",
       "</div>"
      ]
     },
     "metadata": {},
     "output_type": "display_data"
    },
    {
     "data": {
      "application/javascript": [
       "(function(root) {\n",
       "  function embed_document(root) {\n",
       "    \n",
       "  var docs_json = {\"467149ab-93c7-4116-884e-e31fcf86143e\":{\"roots\":{\"references\":[{\"attributes\":{\"bottom_units\":\"screen\",\"fill_alpha\":{\"value\":0.5},\"fill_color\":{\"value\":\"lightgrey\"},\"left_units\":\"screen\",\"level\":\"overlay\",\"line_alpha\":{\"value\":1.0},\"line_color\":{\"value\":\"black\"},\"line_dash\":[4,4],\"line_width\":{\"value\":2},\"plot\":null,\"render_mode\":\"css\",\"right_units\":\"screen\",\"top_units\":\"screen\"},\"id\":\"33017e42-4611-4326-b3f0-5a113c60a799\",\"type\":\"BoxAnnotation\"},{\"attributes\":{},\"id\":\"038cb5eb-1a7a-44bd-8108-e80feacb6fcd\",\"type\":\"PanTool\"},{\"attributes\":{\"data_source\":{\"id\":\"ae65db14-381f-4d8b-93b7-96980b320473\",\"type\":\"ColumnDataSource\"},\"glyph\":{\"id\":\"10a88ad6-a562-4ce3-9326-52deba04fdba\",\"type\":\"Line\"},\"hover_glyph\":null,\"muted_glyph\":null,\"nonselection_glyph\":{\"id\":\"d93f0a9d-f49a-4575-a71a-d49008ea90e8\",\"type\":\"Line\"},\"selection_glyph\":null,\"view\":{\"id\":\"8ec838bd-50b1-4b6f-81e4-5b5877978192\",\"type\":\"CDSView\"}},\"id\":\"3284d974-94bc-42e9-908d-21524c1fbfbb\",\"type\":\"GlyphRenderer\"},{\"attributes\":{},\"id\":\"0319257e-b498-402e-b349-e979e169958f\",\"type\":\"WheelZoomTool\"},{\"attributes\":{\"overlay\":{\"id\":\"33017e42-4611-4326-b3f0-5a113c60a799\",\"type\":\"BoxAnnotation\"}},\"id\":\"c50a0dfa-d18a-405f-9f18-0ae8e4c69d56\",\"type\":\"BoxZoomTool\"},{\"attributes\":{\"below\":[{\"id\":\"d9498ba0-032e-4a24-812e-48223afc081c\",\"type\":\"LinearAxis\"}],\"left\":[{\"id\":\"d6118ea1-0219-4751-8a46-4c8db8e9042a\",\"type\":\"LinearAxis\"}],\"renderers\":[{\"id\":\"d9498ba0-032e-4a24-812e-48223afc081c\",\"type\":\"LinearAxis\"},{\"id\":\"b6710cea-efc2-47cf-881f-880f3c7ae2b3\",\"type\":\"Grid\"},{\"id\":\"d6118ea1-0219-4751-8a46-4c8db8e9042a\",\"type\":\"LinearAxis\"},{\"id\":\"904cf822-c2ea-40df-94f9-16f4edd0fa66\",\"type\":\"Grid\"},{\"id\":\"33017e42-4611-4326-b3f0-5a113c60a799\",\"type\":\"BoxAnnotation\"},{\"id\":\"3284d974-94bc-42e9-908d-21524c1fbfbb\",\"type\":\"GlyphRenderer\"}],\"title\":{\"id\":\"029e3767-050f-419b-b6ac-2f9a9af9b13b\",\"type\":\"Title\"},\"toolbar\":{\"id\":\"3aac66aa-62e6-4c83-aeac-2c4fa5e0f7c5\",\"type\":\"Toolbar\"},\"x_range\":{\"id\":\"f5271d1f-5ab1-4316-b7af-c8950bba0b5d\",\"type\":\"DataRange1d\"},\"x_scale\":{\"id\":\"ea6f1856-e46c-46b6-bc3e-752510ff1290\",\"type\":\"LinearScale\"},\"y_range\":{\"id\":\"522c3dce-b154-4808-9983-9c8d806c353b\",\"type\":\"DataRange1d\"},\"y_scale\":{\"id\":\"db9d2a45-7faf-4014-a548-2c82e70d0b8b\",\"type\":\"LinearScale\"}},\"id\":\"815fc45f-1185-4594-8f9c-ebc4098278f3\",\"subtype\":\"Figure\",\"type\":\"Plot\"},{\"attributes\":{},\"id\":\"7fcae195-cd81-4454-9f95-76754469610f\",\"type\":\"SaveTool\"},{\"attributes\":{},\"id\":\"c41217ac-f3f6-496e-8035-10b6a0644e3b\",\"type\":\"ResetTool\"},{\"attributes\":{\"line_alpha\":0.1,\"line_color\":\"#1f77b4\",\"x\":{\"field\":\"x\"},\"y\":{\"field\":\"y\"}},\"id\":\"d93f0a9d-f49a-4575-a71a-d49008ea90e8\",\"type\":\"Line\"},{\"attributes\":{},\"id\":\"bd4f0010-f6b2-45f3-a668-a7d22557ff05\",\"type\":\"HelpTool\"},{\"attributes\":{\"active_drag\":\"auto\",\"active_inspect\":\"auto\",\"active_scroll\":\"auto\",\"active_tap\":\"auto\",\"tools\":[{\"id\":\"038cb5eb-1a7a-44bd-8108-e80feacb6fcd\",\"type\":\"PanTool\"},{\"id\":\"0319257e-b498-402e-b349-e979e169958f\",\"type\":\"WheelZoomTool\"},{\"id\":\"c50a0dfa-d18a-405f-9f18-0ae8e4c69d56\",\"type\":\"BoxZoomTool\"},{\"id\":\"7fcae195-cd81-4454-9f95-76754469610f\",\"type\":\"SaveTool\"},{\"id\":\"c41217ac-f3f6-496e-8035-10b6a0644e3b\",\"type\":\"ResetTool\"},{\"id\":\"bd4f0010-f6b2-45f3-a668-a7d22557ff05\",\"type\":\"HelpTool\"}]},\"id\":\"3aac66aa-62e6-4c83-aeac-2c4fa5e0f7c5\",\"type\":\"Toolbar\"},{\"attributes\":{\"callback\":null},\"id\":\"522c3dce-b154-4808-9983-9c8d806c353b\",\"type\":\"DataRange1d\"},{\"attributes\":{\"plot\":null,\"text\":\"\"},\"id\":\"029e3767-050f-419b-b6ac-2f9a9af9b13b\",\"type\":\"Title\"},{\"attributes\":{\"callback\":null},\"id\":\"f5271d1f-5ab1-4316-b7af-c8950bba0b5d\",\"type\":\"DataRange1d\"},{\"attributes\":{\"plot\":{\"id\":\"815fc45f-1185-4594-8f9c-ebc4098278f3\",\"subtype\":\"Figure\",\"type\":\"Plot\"},\"ticker\":{\"id\":\"98d926ea-c7fc-48c6-94e0-4f21f5791eca\",\"type\":\"BasicTicker\"}},\"id\":\"b6710cea-efc2-47cf-881f-880f3c7ae2b3\",\"type\":\"Grid\"},{\"attributes\":{\"source\":{\"id\":\"ae65db14-381f-4d8b-93b7-96980b320473\",\"type\":\"ColumnDataSource\"}},\"id\":\"8ec838bd-50b1-4b6f-81e4-5b5877978192\",\"type\":\"CDSView\"},{\"attributes\":{\"axis_label\":\"Ordinate\",\"axis_line_color\":{\"value\":\"blue\"},\"axis_line_width\":{\"value\":12},\"formatter\":{\"id\":\"43a6c6e1-d2bf-4d51-9f26-c70f042f816f\",\"type\":\"BasicTickFormatter\"},\"plot\":{\"id\":\"815fc45f-1185-4594-8f9c-ebc4098278f3\",\"subtype\":\"Figure\",\"type\":\"Plot\"},\"ticker\":{\"id\":\"98d926ea-c7fc-48c6-94e0-4f21f5791eca\",\"type\":\"BasicTicker\"}},\"id\":\"d9498ba0-032e-4a24-812e-48223afc081c\",\"type\":\"LinearAxis\"},{\"attributes\":{},\"id\":\"43a6c6e1-d2bf-4d51-9f26-c70f042f816f\",\"type\":\"BasicTickFormatter\"},{\"attributes\":{},\"id\":\"98d926ea-c7fc-48c6-94e0-4f21f5791eca\",\"type\":\"BasicTicker\"},{\"attributes\":{},\"id\":\"924999e9-c7ef-472b-a40f-0302c0161ec1\",\"type\":\"BasicTickFormatter\"},{\"attributes\":{\"axis_label\":\"Ascisse\",\"formatter\":{\"id\":\"924999e9-c7ef-472b-a40f-0302c0161ec1\",\"type\":\"BasicTickFormatter\"},\"plot\":{\"id\":\"815fc45f-1185-4594-8f9c-ebc4098278f3\",\"subtype\":\"Figure\",\"type\":\"Plot\"},\"ticker\":{\"id\":\"4551762a-af53-4d5d-a834-4a469b89a0fd\",\"type\":\"BasicTicker\"}},\"id\":\"d6118ea1-0219-4751-8a46-4c8db8e9042a\",\"type\":\"LinearAxis\"},{\"attributes\":{},\"id\":\"ea6f1856-e46c-46b6-bc3e-752510ff1290\",\"type\":\"LinearScale\"},{\"attributes\":{},\"id\":\"4551762a-af53-4d5d-a834-4a469b89a0fd\",\"type\":\"BasicTicker\"},{\"attributes\":{},\"id\":\"db9d2a45-7faf-4014-a548-2c82e70d0b8b\",\"type\":\"LinearScale\"},{\"attributes\":{\"dimension\":1,\"plot\":{\"id\":\"815fc45f-1185-4594-8f9c-ebc4098278f3\",\"subtype\":\"Figure\",\"type\":\"Plot\"},\"ticker\":{\"id\":\"4551762a-af53-4d5d-a834-4a469b89a0fd\",\"type\":\"BasicTicker\"}},\"id\":\"904cf822-c2ea-40df-94f9-16f4edd0fa66\",\"type\":\"Grid\"},{\"attributes\":{\"line_color\":\"red\",\"x\":{\"field\":\"x\"},\"y\":{\"field\":\"y\"}},\"id\":\"10a88ad6-a562-4ce3-9326-52deba04fdba\",\"type\":\"Line\"},{\"attributes\":{\"callback\":null,\"column_names\":[\"x\",\"y\"],\"data\":{\"x\":[1,2,3,4,5,6,7],\"y\":[3,4,5,6,7,8,4]}},\"id\":\"ae65db14-381f-4d8b-93b7-96980b320473\",\"type\":\"ColumnDataSource\"}],\"root_ids\":[\"815fc45f-1185-4594-8f9c-ebc4098278f3\"]},\"title\":\"Bokeh Application\",\"version\":\"0.12.13\"}};\n",
       "  var render_items = [{\"docid\":\"467149ab-93c7-4116-884e-e31fcf86143e\",\"elementid\":\"f7de281f-ac91-4003-81d7-dffadb1d5883\",\"modelid\":\"815fc45f-1185-4594-8f9c-ebc4098278f3\"}];\n",
       "  root.Bokeh.embed.embed_items_notebook(docs_json, render_items);\n",
       "\n",
       "  }\n",
       "  if (root.Bokeh !== undefined) {\n",
       "    embed_document(root);\n",
       "  } else {\n",
       "    var attempts = 0;\n",
       "    var timer = setInterval(function(root) {\n",
       "      if (root.Bokeh !== undefined) {\n",
       "        embed_document(root);\n",
       "        clearInterval(timer);\n",
       "      }\n",
       "      attempts++;\n",
       "      if (attempts > 100) {\n",
       "        console.log(\"Bokeh: ERROR: Unable to run BokehJS code because BokehJS library is missing\")\n",
       "        clearInterval(timer);\n",
       "      }\n",
       "    }, 10, root)\n",
       "  }\n",
       "})(window);"
      ],
      "application/vnd.bokehjs_exec.v0+json": ""
     },
     "metadata": {
      "application/vnd.bokehjs_exec.v0+json": {
       "id": "815fc45f-1185-4594-8f9c-ebc4098278f3"
      }
     },
     "output_type": "display_data"
    }
   ],
   "source": [
    "# EXERCISE Create a plot of your own and customize several axis properties\n",
    "\n",
    "\n",
    "p = figure(plot_width=600, plot_height=600)\n",
    "\n",
    "p.line([1,2,3,4,5,6,7],[3,4,5,6,7,8,4],line_color=\"red\")\n",
    "\n",
    "p.xaxis.axis_label = \"Ordinate\"\n",
    "p.yaxis.axis_label = \"Ascisse\"\n",
    "\n",
    "p.xaxis.axis_line_width = 12\n",
    "p.xaxis.axis_line_color = \"blue\"\n",
    "\n",
    "show(p)"
   ]
  },
  {
   "cell_type": "markdown",
   "metadata": {},
   "source": [
    "There are further customizations possible. See the [User Guide](http://bokeh.pydata.org/en/latest/docs/user_guide.html) for more information on topics such as [tick label formatting](http://bokeh.pydata.org/en/latest/docs/user_guide/styling.html#tick-label-formats) or [limiting axis bounds](http://bokeh.pydata.org/en/latest/docs/user_guide/styling.html#bounds)."
   ]
  },
  {
   "cell_type": "markdown",
   "metadata": {},
   "source": [
    "# Grids\n",
    "\n",
    "[Grids](http://bokeh.pydata.org/en/latest/docs/user_guide/styling.html#grids)\n",
    "\n",
    "* **grid** [line properties](http://bokeh.pydata.org/en/latest/docs/user_guide/styling.html#line-properties)\n",
    "* **band** [fill properties]()"
   ]
  },
  {
   "cell_type": "code",
   "execution_count": 30,
   "metadata": {},
   "outputs": [
    {
     "data": {
      "text/html": [
       "\n",
       "<div class=\"bk-root\">\n",
       "    <div class=\"bk-plotdiv\" id=\"98495d52-5ddc-4f97-8543-31b97818889b\"></div>\n",
       "</div>"
      ]
     },
     "metadata": {},
     "output_type": "display_data"
    },
    {
     "data": {
      "application/javascript": [
       "(function(root) {\n",
       "  function embed_document(root) {\n",
       "    \n",
       "  var docs_json = {\"4d1db9d5-d3f0-40de-8ca9-3f94f1d3fff3\":{\"roots\":{\"references\":[{\"attributes\":{\"bottom_units\":\"screen\",\"fill_alpha\":{\"value\":0.5},\"fill_color\":{\"value\":\"lightgrey\"},\"left_units\":\"screen\",\"level\":\"overlay\",\"line_alpha\":{\"value\":1.0},\"line_color\":{\"value\":\"black\"},\"line_dash\":[4,4],\"line_width\":{\"value\":2},\"plot\":null,\"render_mode\":\"css\",\"right_units\":\"screen\",\"top_units\":\"screen\"},\"id\":\"e766ca52-ca5b-47a3-b4f7-23104d7ca5ca\",\"type\":\"BoxAnnotation\"},{\"attributes\":{\"grid_line_color\":{\"value\":null},\"plot\":{\"id\":\"323aa2bf-9669-4ec7-9b56-bb7711128f30\",\"subtype\":\"Figure\",\"type\":\"Plot\"},\"ticker\":{\"id\":\"41adab93-d305-4f31-b14e-b9a5619c2b3e\",\"type\":\"BasicTicker\"}},\"id\":\"b473096e-5719-4a70-9b00-09efb0b7ba0c\",\"type\":\"Grid\"},{\"attributes\":{},\"id\":\"f29bab85-e53b-4dfd-b24d-3aea1e50129d\",\"type\":\"PanTool\"},{\"attributes\":{},\"id\":\"eda6a165-917a-422d-a87a-361d202d221d\",\"type\":\"BasicTickFormatter\"},{\"attributes\":{},\"id\":\"c3feac32-3f0a-457b-958c-24c58f1e3b7d\",\"type\":\"WheelZoomTool\"},{\"attributes\":{},\"id\":\"7a1e89a1-f8da-43d2-8300-89a60b865b97\",\"type\":\"BasicTickFormatter\"},{\"attributes\":{},\"id\":\"a7fc36b7-6930-4dec-a899-143a066f7bae\",\"type\":\"LinearScale\"},{\"attributes\":{\"overlay\":{\"id\":\"e766ca52-ca5b-47a3-b4f7-23104d7ca5ca\",\"type\":\"BoxAnnotation\"}},\"id\":\"1e5c7fd3-8762-452e-a025-6c13366d310c\",\"type\":\"BoxZoomTool\"},{\"attributes\":{\"below\":[{\"id\":\"b6f31595-d6e9-458e-baac-0903a07fc2bc\",\"type\":\"LinearAxis\"}],\"left\":[{\"id\":\"6081e5c8-7d8c-41d6-a52e-10a5f19e279e\",\"type\":\"LinearAxis\"}],\"plot_height\":400,\"plot_width\":400,\"renderers\":[{\"id\":\"b6f31595-d6e9-458e-baac-0903a07fc2bc\",\"type\":\"LinearAxis\"},{\"id\":\"b473096e-5719-4a70-9b00-09efb0b7ba0c\",\"type\":\"Grid\"},{\"id\":\"6081e5c8-7d8c-41d6-a52e-10a5f19e279e\",\"type\":\"LinearAxis\"},{\"id\":\"bb151820-cc12-4e0e-900e-98770d08c219\",\"type\":\"Grid\"},{\"id\":\"e766ca52-ca5b-47a3-b4f7-23104d7ca5ca\",\"type\":\"BoxAnnotation\"},{\"id\":\"9ddaa5c7-ea53-4de4-a350-736397c44054\",\"type\":\"GlyphRenderer\"}],\"title\":{\"id\":\"f725bb52-48c0-4253-9db8-1f7a9b6367bf\",\"type\":\"Title\"},\"toolbar\":{\"id\":\"d8ac2aa6-4b62-4212-ac3e-0f6906d47eff\",\"type\":\"Toolbar\"},\"x_range\":{\"id\":\"ca1f015e-3100-4320-8399-818c57f13f02\",\"type\":\"DataRange1d\"},\"x_scale\":{\"id\":\"ed7ce700-bc2f-4071-9a0b-804bc9effb0d\",\"type\":\"LinearScale\"},\"y_range\":{\"id\":\"5494d90e-2b3a-4dc2-98b5-607ae3ea8a27\",\"type\":\"DataRange1d\"},\"y_scale\":{\"id\":\"a7fc36b7-6930-4dec-a899-143a066f7bae\",\"type\":\"LinearScale\"}},\"id\":\"323aa2bf-9669-4ec7-9b56-bb7711128f30\",\"subtype\":\"Figure\",\"type\":\"Plot\"},{\"attributes\":{},\"id\":\"c125a8ca-7160-42ee-8503-5e625a441ed9\",\"type\":\"SaveTool\"},{\"attributes\":{\"callback\":null,\"column_names\":[\"x\",\"y\"],\"data\":{\"x\":[1,2,3,4,5],\"y\":[2,5,8,2,7]}},\"id\":\"7cfd4ea8-a32b-4fb4-9299-0b60f2917762\",\"type\":\"ColumnDataSource\"},{\"attributes\":{},\"id\":\"d0e13127-2ca9-45f0-8e33-687d7c241afb\",\"type\":\"ResetTool\"},{\"attributes\":{\"source\":{\"id\":\"7cfd4ea8-a32b-4fb4-9299-0b60f2917762\",\"type\":\"ColumnDataSource\"}},\"id\":\"dc3f7bfd-73b7-4f70-90a8-31d02f9650cd\",\"type\":\"CDSView\"},{\"attributes\":{},\"id\":\"3b38b89d-aa55-40dc-a778-798d0bf59d8a\",\"type\":\"HelpTool\"},{\"attributes\":{\"active_drag\":\"auto\",\"active_inspect\":\"auto\",\"active_scroll\":\"auto\",\"active_tap\":\"auto\",\"tools\":[{\"id\":\"f29bab85-e53b-4dfd-b24d-3aea1e50129d\",\"type\":\"PanTool\"},{\"id\":\"c3feac32-3f0a-457b-958c-24c58f1e3b7d\",\"type\":\"WheelZoomTool\"},{\"id\":\"1e5c7fd3-8762-452e-a025-6c13366d310c\",\"type\":\"BoxZoomTool\"},{\"id\":\"c125a8ca-7160-42ee-8503-5e625a441ed9\",\"type\":\"SaveTool\"},{\"id\":\"d0e13127-2ca9-45f0-8e33-687d7c241afb\",\"type\":\"ResetTool\"},{\"id\":\"3b38b89d-aa55-40dc-a778-798d0bf59d8a\",\"type\":\"HelpTool\"}]},\"id\":\"d8ac2aa6-4b62-4212-ac3e-0f6906d47eff\",\"type\":\"Toolbar\"},{\"attributes\":{\"callback\":null},\"id\":\"5494d90e-2b3a-4dc2-98b5-607ae3ea8a27\",\"type\":\"DataRange1d\"},{\"attributes\":{\"callback\":null},\"id\":\"ca1f015e-3100-4320-8399-818c57f13f02\",\"type\":\"DataRange1d\"},{\"attributes\":{\"plot\":null,\"text\":\"\"},\"id\":\"f725bb52-48c0-4253-9db8-1f7a9b6367bf\",\"type\":\"Title\"},{\"attributes\":{\"formatter\":{\"id\":\"7a1e89a1-f8da-43d2-8300-89a60b865b97\",\"type\":\"BasicTickFormatter\"},\"plot\":{\"id\":\"323aa2bf-9669-4ec7-9b56-bb7711128f30\",\"subtype\":\"Figure\",\"type\":\"Plot\"},\"ticker\":{\"id\":\"10d2d030-6f0f-43fc-865c-7b09cb9f6b2a\",\"type\":\"BasicTicker\"}},\"id\":\"6081e5c8-7d8c-41d6-a52e-10a5f19e279e\",\"type\":\"LinearAxis\"},{\"attributes\":{},\"id\":\"41adab93-d305-4f31-b14e-b9a5619c2b3e\",\"type\":\"BasicTicker\"},{\"attributes\":{\"dimension\":1,\"grid_line_alpha\":{\"value\":5},\"grid_line_dash\":[200,4],\"plot\":{\"id\":\"323aa2bf-9669-4ec7-9b56-bb7711128f30\",\"subtype\":\"Figure\",\"type\":\"Plot\"},\"ticker\":{\"id\":\"10d2d030-6f0f-43fc-865c-7b09cb9f6b2a\",\"type\":\"BasicTicker\"}},\"id\":\"bb151820-cc12-4e0e-900e-98770d08c219\",\"type\":\"Grid\"},{\"attributes\":{},\"id\":\"ed7ce700-bc2f-4071-9a0b-804bc9effb0d\",\"type\":\"LinearScale\"},{\"attributes\":{\"formatter\":{\"id\":\"eda6a165-917a-422d-a87a-361d202d221d\",\"type\":\"BasicTickFormatter\"},\"plot\":{\"id\":\"323aa2bf-9669-4ec7-9b56-bb7711128f30\",\"subtype\":\"Figure\",\"type\":\"Plot\"},\"ticker\":{\"id\":\"41adab93-d305-4f31-b14e-b9a5619c2b3e\",\"type\":\"BasicTicker\"}},\"id\":\"b6f31595-d6e9-458e-baac-0903a07fc2bc\",\"type\":\"LinearAxis\"},{\"attributes\":{},\"id\":\"10d2d030-6f0f-43fc-865c-7b09cb9f6b2a\",\"type\":\"BasicTicker\"},{\"attributes\":{\"fill_alpha\":{\"value\":0.1},\"fill_color\":{\"value\":\"#1f77b4\"},\"line_alpha\":{\"value\":0.1},\"line_color\":{\"value\":\"#1f77b4\"},\"size\":{\"units\":\"screen\",\"value\":100},\"x\":{\"field\":\"x\"},\"y\":{\"field\":\"y\"}},\"id\":\"06129b37-f9a5-4300-8906-7783353b2f96\",\"type\":\"Circle\"},{\"attributes\":{\"data_source\":{\"id\":\"7cfd4ea8-a32b-4fb4-9299-0b60f2917762\",\"type\":\"ColumnDataSource\"},\"glyph\":{\"id\":\"450c3d5c-a008-4d98-9711-07749125bc8c\",\"type\":\"Circle\"},\"hover_glyph\":null,\"muted_glyph\":null,\"nonselection_glyph\":{\"id\":\"06129b37-f9a5-4300-8906-7783353b2f96\",\"type\":\"Circle\"},\"selection_glyph\":null,\"view\":{\"id\":\"dc3f7bfd-73b7-4f70-90a8-31d02f9650cd\",\"type\":\"CDSView\"}},\"id\":\"9ddaa5c7-ea53-4de4-a350-736397c44054\",\"type\":\"GlyphRenderer\"},{\"attributes\":{\"fill_color\":{\"value\":\"#1f77b4\"},\"line_color\":{\"value\":\"#1f77b4\"},\"size\":{\"units\":\"screen\",\"value\":100},\"x\":{\"field\":\"x\"},\"y\":{\"field\":\"y\"}},\"id\":\"450c3d5c-a008-4d98-9711-07749125bc8c\",\"type\":\"Circle\"}],\"root_ids\":[\"323aa2bf-9669-4ec7-9b56-bb7711128f30\"]},\"title\":\"Bokeh Application\",\"version\":\"0.12.13\"}};\n",
       "  var render_items = [{\"docid\":\"4d1db9d5-d3f0-40de-8ca9-3f94f1d3fff3\",\"elementid\":\"98495d52-5ddc-4f97-8543-31b97818889b\",\"modelid\":\"323aa2bf-9669-4ec7-9b56-bb7711128f30\"}];\n",
       "  root.Bokeh.embed.embed_items_notebook(docs_json, render_items);\n",
       "\n",
       "  }\n",
       "  if (root.Bokeh !== undefined) {\n",
       "    embed_document(root);\n",
       "  } else {\n",
       "    var attempts = 0;\n",
       "    var timer = setInterval(function(root) {\n",
       "      if (root.Bokeh !== undefined) {\n",
       "        embed_document(root);\n",
       "        clearInterval(timer);\n",
       "      }\n",
       "      attempts++;\n",
       "      if (attempts > 100) {\n",
       "        console.log(\"Bokeh: ERROR: Unable to run BokehJS code because BokehJS library is missing\")\n",
       "        clearInterval(timer);\n",
       "      }\n",
       "    }, 10, root)\n",
       "  }\n",
       "})(window);"
      ],
      "application/vnd.bokehjs_exec.v0+json": ""
     },
     "metadata": {
      "application/vnd.bokehjs_exec.v0+json": {
       "id": "323aa2bf-9669-4ec7-9b56-bb7711128f30"
      }
     },
     "output_type": "display_data"
    }
   ],
   "source": [
    "p = figure(plot_width=400, plot_height=400)\n",
    "p.circle([1,2,3,4,5], [2,5,8,2,7], size=100)\n",
    "\n",
    "# change just some things about the x-grid\n",
    "p.xgrid.grid_line_color = None\n",
    "\n",
    "# change just some things about the y-grid\n",
    "p.ygrid.grid_line_alpha = 5\n",
    "p.ygrid.grid_line_dash = [200, 4]\n",
    "\n",
    "show(p)"
   ]
  },
  {
   "cell_type": "code",
   "execution_count": 31,
   "metadata": {},
   "outputs": [
    {
     "data": {
      "text/html": [
       "\n",
       "<div class=\"bk-root\">\n",
       "    <div class=\"bk-plotdiv\" id=\"55c4c279-2096-4d98-b1ca-bc9787cd313e\"></div>\n",
       "</div>"
      ]
     },
     "metadata": {},
     "output_type": "display_data"
    },
    {
     "data": {
      "application/javascript": [
       "(function(root) {\n",
       "  function embed_document(root) {\n",
       "    \n",
       "  var docs_json = {\"516a4a9c-978e-4840-80ed-1cfa5eb9cf66\":{\"roots\":{\"references\":[{\"attributes\":{},\"id\":\"f6b9678d-98c1-473d-88b1-d9428b804dba\",\"type\":\"PanTool\"},{\"attributes\":{},\"id\":\"ec4894c7-aa2f-4051-bd76-ea7688f0ad4c\",\"type\":\"ResetTool\"},{\"attributes\":{},\"id\":\"fb721a11-21ee-40fe-8275-f48e49644439\",\"type\":\"SaveTool\"},{\"attributes\":{},\"id\":\"94d8aee3-0527-44bc-b4f0-db7eb65bbbdd\",\"type\":\"WheelZoomTool\"},{\"attributes\":{\"source\":{\"id\":\"1192c80b-490d-4984-b587-b430603dca46\",\"type\":\"ColumnDataSource\"}},\"id\":\"8d89b21d-2bf6-409e-92cd-29ffcb359a8f\",\"type\":\"CDSView\"},{\"attributes\":{},\"id\":\"069dd01a-2da3-4da8-beb4-74bf69b3b9a3\",\"type\":\"BasicTicker\"},{\"attributes\":{\"overlay\":{\"id\":\"f4adb6a2-351f-4fa8-ba78-9934e7833d4d\",\"type\":\"BoxAnnotation\"}},\"id\":\"5bc18570-4171-4fcf-92b2-3e7dd2f26416\",\"type\":\"BoxZoomTool\"},{\"attributes\":{\"bottom_units\":\"screen\",\"fill_alpha\":{\"value\":0.5},\"fill_color\":{\"value\":\"lightgrey\"},\"left_units\":\"screen\",\"level\":\"overlay\",\"line_alpha\":{\"value\":1.0},\"line_color\":{\"value\":\"black\"},\"line_dash\":[4,4],\"line_width\":{\"value\":2},\"plot\":null,\"render_mode\":\"css\",\"right_units\":\"screen\",\"top_units\":\"screen\"},\"id\":\"f4adb6a2-351f-4fa8-ba78-9934e7833d4d\",\"type\":\"BoxAnnotation\"},{\"attributes\":{\"data_source\":{\"id\":\"1192c80b-490d-4984-b587-b430603dca46\",\"type\":\"ColumnDataSource\"},\"glyph\":{\"id\":\"d7b170dd-07bc-4b3d-8fe4-58efa1e10af8\",\"type\":\"Circle\"},\"hover_glyph\":null,\"muted_glyph\":null,\"nonselection_glyph\":{\"id\":\"0321d31f-4c38-4809-9066-26bf9e8803b1\",\"type\":\"Circle\"},\"selection_glyph\":null,\"view\":{\"id\":\"8d89b21d-2bf6-409e-92cd-29ffcb359a8f\",\"type\":\"CDSView\"}},\"id\":\"8c83ab9e-d554-45d8-9803-35e1f71312c2\",\"type\":\"GlyphRenderer\"},{\"attributes\":{\"formatter\":{\"id\":\"e3e93ece-4813-425a-bebc-267af8e39465\",\"type\":\"BasicTickFormatter\"},\"plot\":{\"id\":\"654dd920-013f-41c9-945c-3e123c717722\",\"subtype\":\"Figure\",\"type\":\"Plot\"},\"ticker\":{\"id\":\"111470ff-6bf5-456e-9b3e-e7d1e6363915\",\"type\":\"BasicTicker\"}},\"id\":\"032bb04d-b5a6-466b-a801-55c319b9089f\",\"type\":\"LinearAxis\"},{\"attributes\":{\"formatter\":{\"id\":\"f72c06d5-e3e9-4828-be93-7afcb88c3def\",\"type\":\"BasicTickFormatter\"},\"plot\":{\"id\":\"654dd920-013f-41c9-945c-3e123c717722\",\"subtype\":\"Figure\",\"type\":\"Plot\"},\"ticker\":{\"id\":\"069dd01a-2da3-4da8-beb4-74bf69b3b9a3\",\"type\":\"BasicTicker\"}},\"id\":\"d91b3d9c-b220-4727-a0c4-af85537a57e7\",\"type\":\"LinearAxis\"},{\"attributes\":{\"grid_line_color\":{\"value\":null},\"plot\":{\"id\":\"654dd920-013f-41c9-945c-3e123c717722\",\"subtype\":\"Figure\",\"type\":\"Plot\"},\"ticker\":{\"id\":\"069dd01a-2da3-4da8-beb4-74bf69b3b9a3\",\"type\":\"BasicTicker\"}},\"id\":\"8a285339-0198-46aa-b210-d3ff67ef772a\",\"type\":\"Grid\"},{\"attributes\":{\"callback\":null},\"id\":\"04a77237-dba5-4d90-a014-53fcb8e1b9bc\",\"type\":\"DataRange1d\"},{\"attributes\":{\"fill_color\":{\"value\":\"#1f77b4\"},\"line_color\":{\"value\":\"#1f77b4\"},\"size\":{\"units\":\"screen\",\"value\":10},\"x\":{\"field\":\"x\"},\"y\":{\"field\":\"y\"}},\"id\":\"d7b170dd-07bc-4b3d-8fe4-58efa1e10af8\",\"type\":\"Circle\"},{\"attributes\":{},\"id\":\"4fb4f392-f3e7-4590-8fd7-71fb37fe5019\",\"type\":\"LinearScale\"},{\"attributes\":{\"below\":[{\"id\":\"d91b3d9c-b220-4727-a0c4-af85537a57e7\",\"type\":\"LinearAxis\"}],\"left\":[{\"id\":\"032bb04d-b5a6-466b-a801-55c319b9089f\",\"type\":\"LinearAxis\"}],\"plot_height\":400,\"plot_width\":400,\"renderers\":[{\"id\":\"d91b3d9c-b220-4727-a0c4-af85537a57e7\",\"type\":\"LinearAxis\"},{\"id\":\"8a285339-0198-46aa-b210-d3ff67ef772a\",\"type\":\"Grid\"},{\"id\":\"032bb04d-b5a6-466b-a801-55c319b9089f\",\"type\":\"LinearAxis\"},{\"id\":\"89f9d4e8-0c29-497f-ba20-e172c12e420c\",\"type\":\"Grid\"},{\"id\":\"f4adb6a2-351f-4fa8-ba78-9934e7833d4d\",\"type\":\"BoxAnnotation\"},{\"id\":\"8c83ab9e-d554-45d8-9803-35e1f71312c2\",\"type\":\"GlyphRenderer\"}],\"title\":{\"id\":\"7b7d552f-4ff0-4c05-a1ca-f35caa893ee6\",\"type\":\"Title\"},\"toolbar\":{\"id\":\"fc2f6e87-6662-4d27-94a2-3e8bfde3b5f8\",\"type\":\"Toolbar\"},\"x_range\":{\"id\":\"04a77237-dba5-4d90-a014-53fcb8e1b9bc\",\"type\":\"DataRange1d\"},\"x_scale\":{\"id\":\"7e256295-3625-47ca-b646-12a156567f69\",\"type\":\"LinearScale\"},\"y_range\":{\"id\":\"c1646ade-97b5-47f2-9d99-6220fca6812e\",\"type\":\"DataRange1d\"},\"y_scale\":{\"id\":\"4fb4f392-f3e7-4590-8fd7-71fb37fe5019\",\"type\":\"LinearScale\"}},\"id\":\"654dd920-013f-41c9-945c-3e123c717722\",\"subtype\":\"Figure\",\"type\":\"Plot\"},{\"attributes\":{},\"id\":\"7e256295-3625-47ca-b646-12a156567f69\",\"type\":\"LinearScale\"},{\"attributes\":{},\"id\":\"111470ff-6bf5-456e-9b3e-e7d1e6363915\",\"type\":\"BasicTicker\"},{\"attributes\":{},\"id\":\"1ea5ee97-4149-491a-816f-149a2d7466d0\",\"type\":\"HelpTool\"},{\"attributes\":{\"active_drag\":\"auto\",\"active_inspect\":\"auto\",\"active_scroll\":\"auto\",\"active_tap\":\"auto\",\"tools\":[{\"id\":\"f6b9678d-98c1-473d-88b1-d9428b804dba\",\"type\":\"PanTool\"},{\"id\":\"94d8aee3-0527-44bc-b4f0-db7eb65bbbdd\",\"type\":\"WheelZoomTool\"},{\"id\":\"5bc18570-4171-4fcf-92b2-3e7dd2f26416\",\"type\":\"BoxZoomTool\"},{\"id\":\"fb721a11-21ee-40fe-8275-f48e49644439\",\"type\":\"SaveTool\"},{\"id\":\"ec4894c7-aa2f-4051-bd76-ea7688f0ad4c\",\"type\":\"ResetTool\"},{\"id\":\"1ea5ee97-4149-491a-816f-149a2d7466d0\",\"type\":\"HelpTool\"}]},\"id\":\"fc2f6e87-6662-4d27-94a2-3e8bfde3b5f8\",\"type\":\"Toolbar\"},{\"attributes\":{\"plot\":null,\"text\":\"\"},\"id\":\"7b7d552f-4ff0-4c05-a1ca-f35caa893ee6\",\"type\":\"Title\"},{\"attributes\":{\"callback\":null,\"column_names\":[\"x\",\"y\"],\"data\":{\"x\":[1,2,3,4,5],\"y\":[2,5,8,2,7]}},\"id\":\"1192c80b-490d-4984-b587-b430603dca46\",\"type\":\"ColumnDataSource\"},{\"attributes\":{\"callback\":null},\"id\":\"c1646ade-97b5-47f2-9d99-6220fca6812e\",\"type\":\"DataRange1d\"},{\"attributes\":{},\"id\":\"f72c06d5-e3e9-4828-be93-7afcb88c3def\",\"type\":\"BasicTickFormatter\"},{\"attributes\":{},\"id\":\"e3e93ece-4813-425a-bebc-267af8e39465\",\"type\":\"BasicTickFormatter\"},{\"attributes\":{\"fill_alpha\":{\"value\":0.1},\"fill_color\":{\"value\":\"#1f77b4\"},\"line_alpha\":{\"value\":0.1},\"line_color\":{\"value\":\"#1f77b4\"},\"size\":{\"units\":\"screen\",\"value\":10},\"x\":{\"field\":\"x\"},\"y\":{\"field\":\"y\"}},\"id\":\"0321d31f-4c38-4809-9066-26bf9e8803b1\",\"type\":\"Circle\"},{\"attributes\":{\"band_fill_alpha\":{\"value\":0.1},\"band_fill_color\":{\"value\":\"navy\"},\"dimension\":1,\"plot\":{\"id\":\"654dd920-013f-41c9-945c-3e123c717722\",\"subtype\":\"Figure\",\"type\":\"Plot\"},\"ticker\":{\"id\":\"111470ff-6bf5-456e-9b3e-e7d1e6363915\",\"type\":\"BasicTicker\"}},\"id\":\"89f9d4e8-0c29-497f-ba20-e172c12e420c\",\"type\":\"Grid\"}],\"root_ids\":[\"654dd920-013f-41c9-945c-3e123c717722\"]},\"title\":\"Bokeh Application\",\"version\":\"0.12.13\"}};\n",
       "  var render_items = [{\"docid\":\"516a4a9c-978e-4840-80ed-1cfa5eb9cf66\",\"elementid\":\"55c4c279-2096-4d98-b1ca-bc9787cd313e\",\"modelid\":\"654dd920-013f-41c9-945c-3e123c717722\"}];\n",
       "  root.Bokeh.embed.embed_items_notebook(docs_json, render_items);\n",
       "\n",
       "  }\n",
       "  if (root.Bokeh !== undefined) {\n",
       "    embed_document(root);\n",
       "  } else {\n",
       "    var attempts = 0;\n",
       "    var timer = setInterval(function(root) {\n",
       "      if (root.Bokeh !== undefined) {\n",
       "        embed_document(root);\n",
       "        clearInterval(timer);\n",
       "      }\n",
       "      attempts++;\n",
       "      if (attempts > 100) {\n",
       "        console.log(\"Bokeh: ERROR: Unable to run BokehJS code because BokehJS library is missing\")\n",
       "        clearInterval(timer);\n",
       "      }\n",
       "    }, 10, root)\n",
       "  }\n",
       "})(window);"
      ],
      "application/vnd.bokehjs_exec.v0+json": ""
     },
     "metadata": {
      "application/vnd.bokehjs_exec.v0+json": {
       "id": "654dd920-013f-41c9-945c-3e123c717722"
      }
     },
     "output_type": "display_data"
    }
   ],
   "source": [
    "p = figure(plot_width=400, plot_height=400)\n",
    "p.circle([1,2,3,4,5], [2,5,8,2,7], size=10)\n",
    "\n",
    "# change just some things about the x-grid\n",
    "p.xgrid.grid_line_color = None\n",
    "\n",
    "# change just some things about the y-grid\n",
    "p.ygrid.band_fill_alpha = 0.1\n",
    "p.ygrid.band_fill_color = \"navy\"\n",
    "\n",
    "show(p)"
   ]
  },
  {
   "cell_type": "code",
   "execution_count": 39,
   "metadata": {},
   "outputs": [
    {
     "data": {
      "text/html": [
       "\n",
       "<div class=\"bk-root\">\n",
       "    <div class=\"bk-plotdiv\" id=\"23701cae-698f-431d-b3b5-3230b0558b79\"></div>\n",
       "</div>"
      ]
     },
     "metadata": {},
     "output_type": "display_data"
    },
    {
     "data": {
      "application/javascript": [
       "(function(root) {\n",
       "  function embed_document(root) {\n",
       "    \n",
       "  var docs_json = {\"ffd4267d-1e27-4973-9c14-7ff61b93390f\":{\"roots\":{\"references\":[{\"attributes\":{\"grid_line_color\":{\"value\":\"blue\"},\"plot\":{\"id\":\"14571c2d-4700-4a34-8221-1b7785beee62\",\"subtype\":\"Figure\",\"type\":\"Plot\"},\"ticker\":{\"id\":\"1a65ede8-5fc6-4701-b834-88d0cce13b61\",\"type\":\"BasicTicker\"}},\"id\":\"0661edbb-9ec2-41d5-8fd6-318ab4be5108\",\"type\":\"Grid\"},{\"attributes\":{\"fill_color\":{\"value\":\"#1f77b4\"},\"line_color\":{\"value\":\"#1f77b4\"},\"size\":{\"units\":\"screen\",\"value\":10},\"x\":{\"field\":\"x\"},\"y\":{\"field\":\"y\"}},\"id\":\"6b5cf5e0-db5a-4f80-9853-347a17a500e6\",\"type\":\"Circle\"},{\"attributes\":{\"formatter\":{\"id\":\"aeb4778d-99be-4a4a-8929-3ff3f553f0dd\",\"type\":\"BasicTickFormatter\"},\"plot\":{\"id\":\"14571c2d-4700-4a34-8221-1b7785beee62\",\"subtype\":\"Figure\",\"type\":\"Plot\"},\"ticker\":{\"id\":\"4272b8fb-5e3f-469b-ad89-278632cbb057\",\"type\":\"BasicTicker\"}},\"id\":\"1dec5d64-7005-4c0f-b20f-6e0140a2c902\",\"type\":\"LinearAxis\"},{\"attributes\":{\"overlay\":{\"id\":\"0c44cfb2-bd5a-4dc1-965e-8c63f4b9a58d\",\"type\":\"BoxAnnotation\"}},\"id\":\"909d3a27-7312-428b-8459-74849bb7a756\",\"type\":\"BoxZoomTool\"},{\"attributes\":{},\"id\":\"e874b664-f9c5-4e1a-a3de-6b8c824d4d1c\",\"type\":\"ResetTool\"},{\"attributes\":{\"callback\":null,\"column_names\":[\"x\",\"y\"],\"data\":{\"x\":[0,1,2,3,4,5,6,7,8,9,10,11,12,13,14,15,16,17,18,19],\"y\":[0,1,2,3,4,5,6,7,8,9,10,11,12,13,14,15,16,17,18,19]}},\"id\":\"2a2f819a-46f2-4146-a7ff-80365141d194\",\"type\":\"ColumnDataSource\"},{\"attributes\":{},\"id\":\"aab6fc37-70dd-4ec9-9afb-f5a1d41a294d\",\"type\":\"LinearScale\"},{\"attributes\":{\"bottom_units\":\"screen\",\"fill_alpha\":{\"value\":0.5},\"fill_color\":{\"value\":\"lightgrey\"},\"left_units\":\"screen\",\"level\":\"overlay\",\"line_alpha\":{\"value\":1.0},\"line_color\":{\"value\":\"black\"},\"line_dash\":[4,4],\"line_width\":{\"value\":2},\"plot\":null,\"render_mode\":\"css\",\"right_units\":\"screen\",\"top_units\":\"screen\"},\"id\":\"0c44cfb2-bd5a-4dc1-965e-8c63f4b9a58d\",\"type\":\"BoxAnnotation\"},{\"attributes\":{\"active_drag\":\"auto\",\"active_inspect\":\"auto\",\"active_scroll\":\"auto\",\"active_tap\":\"auto\",\"tools\":[{\"id\":\"cbb82b32-3a1e-44cf-9ebc-1e0fb2ff06af\",\"type\":\"PanTool\"},{\"id\":\"96acd0c9-98c5-43aa-9c60-b5e6ef5dda77\",\"type\":\"WheelZoomTool\"},{\"id\":\"909d3a27-7312-428b-8459-74849bb7a756\",\"type\":\"BoxZoomTool\"},{\"id\":\"87dec5af-9f40-400b-b433-6915f40ecbcd\",\"type\":\"SaveTool\"},{\"id\":\"e874b664-f9c5-4e1a-a3de-6b8c824d4d1c\",\"type\":\"ResetTool\"},{\"id\":\"65261795-85e6-488a-abac-efea28dd1631\",\"type\":\"HelpTool\"}]},\"id\":\"32a330b4-9067-46b0-93fa-5e46a697b703\",\"type\":\"Toolbar\"},{\"attributes\":{},\"id\":\"280d1735-773d-48b6-86f6-50ed23b0a45e\",\"type\":\"BasicTickFormatter\"},{\"attributes\":{},\"id\":\"87dec5af-9f40-400b-b433-6915f40ecbcd\",\"type\":\"SaveTool\"},{\"attributes\":{},\"id\":\"1a65ede8-5fc6-4701-b834-88d0cce13b61\",\"type\":\"BasicTicker\"},{\"attributes\":{},\"id\":\"65261795-85e6-488a-abac-efea28dd1631\",\"type\":\"HelpTool\"},{\"attributes\":{},\"id\":\"4272b8fb-5e3f-469b-ad89-278632cbb057\",\"type\":\"BasicTicker\"},{\"attributes\":{\"formatter\":{\"id\":\"280d1735-773d-48b6-86f6-50ed23b0a45e\",\"type\":\"BasicTickFormatter\"},\"plot\":{\"id\":\"14571c2d-4700-4a34-8221-1b7785beee62\",\"subtype\":\"Figure\",\"type\":\"Plot\"},\"ticker\":{\"id\":\"1a65ede8-5fc6-4701-b834-88d0cce13b61\",\"type\":\"BasicTicker\"}},\"id\":\"385f705e-619d-4540-9bfc-2f4bb2e37639\",\"type\":\"LinearAxis\"},{\"attributes\":{\"fill_alpha\":{\"value\":0.1},\"fill_color\":{\"value\":\"#1f77b4\"},\"line_alpha\":{\"value\":0.1},\"line_color\":{\"value\":\"#1f77b4\"},\"size\":{\"units\":\"screen\",\"value\":10},\"x\":{\"field\":\"x\"},\"y\":{\"field\":\"y\"}},\"id\":\"147f57b1-ccc6-42c1-9648-800e37bd6c25\",\"type\":\"Circle\"},{\"attributes\":{\"source\":{\"id\":\"2a2f819a-46f2-4146-a7ff-80365141d194\",\"type\":\"ColumnDataSource\"}},\"id\":\"f5ce2d53-9697-474e-9fa6-5546f4896c33\",\"type\":\"CDSView\"},{\"attributes\":{},\"id\":\"aeb4778d-99be-4a4a-8929-3ff3f553f0dd\",\"type\":\"BasicTickFormatter\"},{\"attributes\":{\"callback\":null},\"id\":\"0bf98856-f5e3-4a11-b9d1-3c8170e20304\",\"type\":\"DataRange1d\"},{\"attributes\":{\"band_fill_alpha\":{\"value\":1},\"band_fill_color\":{\"value\":\"navy\"},\"dimension\":1,\"grid_line_color\":{\"value\":\"red\"},\"plot\":{\"id\":\"14571c2d-4700-4a34-8221-1b7785beee62\",\"subtype\":\"Figure\",\"type\":\"Plot\"},\"ticker\":{\"id\":\"4272b8fb-5e3f-469b-ad89-278632cbb057\",\"type\":\"BasicTicker\"}},\"id\":\"0a4cce99-102a-4583-a9fe-5e3ad44e5950\",\"type\":\"Grid\"},{\"attributes\":{},\"id\":\"d7125e93-a42e-49d4-9314-138f50eea534\",\"type\":\"LinearScale\"},{\"attributes\":{\"callback\":null},\"id\":\"ba9aefe9-6a69-4dcf-af75-c3a85e80f2e3\",\"type\":\"DataRange1d\"},{\"attributes\":{\"plot\":null,\"text\":\"\"},\"id\":\"86c56852-222f-483a-8777-16d58d253c19\",\"type\":\"Title\"},{\"attributes\":{},\"id\":\"96acd0c9-98c5-43aa-9c60-b5e6ef5dda77\",\"type\":\"WheelZoomTool\"},{\"attributes\":{\"below\":[{\"id\":\"385f705e-619d-4540-9bfc-2f4bb2e37639\",\"type\":\"LinearAxis\"}],\"left\":[{\"id\":\"1dec5d64-7005-4c0f-b20f-6e0140a2c902\",\"type\":\"LinearAxis\"}],\"plot_height\":400,\"plot_width\":200,\"renderers\":[{\"id\":\"385f705e-619d-4540-9bfc-2f4bb2e37639\",\"type\":\"LinearAxis\"},{\"id\":\"0661edbb-9ec2-41d5-8fd6-318ab4be5108\",\"type\":\"Grid\"},{\"id\":\"1dec5d64-7005-4c0f-b20f-6e0140a2c902\",\"type\":\"LinearAxis\"},{\"id\":\"0a4cce99-102a-4583-a9fe-5e3ad44e5950\",\"type\":\"Grid\"},{\"id\":\"0c44cfb2-bd5a-4dc1-965e-8c63f4b9a58d\",\"type\":\"BoxAnnotation\"},{\"id\":\"0813f187-59c6-42a6-8207-1e48f5a9eca2\",\"type\":\"GlyphRenderer\"}],\"title\":{\"id\":\"86c56852-222f-483a-8777-16d58d253c19\",\"type\":\"Title\"},\"toolbar\":{\"id\":\"32a330b4-9067-46b0-93fa-5e46a697b703\",\"type\":\"Toolbar\"},\"x_range\":{\"id\":\"ba9aefe9-6a69-4dcf-af75-c3a85e80f2e3\",\"type\":\"DataRange1d\"},\"x_scale\":{\"id\":\"d7125e93-a42e-49d4-9314-138f50eea534\",\"type\":\"LinearScale\"},\"y_range\":{\"id\":\"0bf98856-f5e3-4a11-b9d1-3c8170e20304\",\"type\":\"DataRange1d\"},\"y_scale\":{\"id\":\"aab6fc37-70dd-4ec9-9afb-f5a1d41a294d\",\"type\":\"LinearScale\"}},\"id\":\"14571c2d-4700-4a34-8221-1b7785beee62\",\"subtype\":\"Figure\",\"type\":\"Plot\"},{\"attributes\":{\"data_source\":{\"id\":\"2a2f819a-46f2-4146-a7ff-80365141d194\",\"type\":\"ColumnDataSource\"},\"glyph\":{\"id\":\"6b5cf5e0-db5a-4f80-9853-347a17a500e6\",\"type\":\"Circle\"},\"hover_glyph\":null,\"muted_glyph\":null,\"nonselection_glyph\":{\"id\":\"147f57b1-ccc6-42c1-9648-800e37bd6c25\",\"type\":\"Circle\"},\"selection_glyph\":null,\"view\":{\"id\":\"f5ce2d53-9697-474e-9fa6-5546f4896c33\",\"type\":\"CDSView\"}},\"id\":\"0813f187-59c6-42a6-8207-1e48f5a9eca2\",\"type\":\"GlyphRenderer\"},{\"attributes\":{},\"id\":\"cbb82b32-3a1e-44cf-9ebc-1e0fb2ff06af\",\"type\":\"PanTool\"}],\"root_ids\":[\"14571c2d-4700-4a34-8221-1b7785beee62\"]},\"title\":\"Bokeh Application\",\"version\":\"0.12.13\"}};\n",
       "  var render_items = [{\"docid\":\"ffd4267d-1e27-4973-9c14-7ff61b93390f\",\"elementid\":\"23701cae-698f-431d-b3b5-3230b0558b79\",\"modelid\":\"14571c2d-4700-4a34-8221-1b7785beee62\"}];\n",
       "  root.Bokeh.embed.embed_items_notebook(docs_json, render_items);\n",
       "\n",
       "  }\n",
       "  if (root.Bokeh !== undefined) {\n",
       "    embed_document(root);\n",
       "  } else {\n",
       "    var attempts = 0;\n",
       "    var timer = setInterval(function(root) {\n",
       "      if (root.Bokeh !== undefined) {\n",
       "        embed_document(root);\n",
       "        clearInterval(timer);\n",
       "      }\n",
       "      attempts++;\n",
       "      if (attempts > 100) {\n",
       "        console.log(\"Bokeh: ERROR: Unable to run BokehJS code because BokehJS library is missing\")\n",
       "        clearInterval(timer);\n",
       "      }\n",
       "    }, 10, root)\n",
       "  }\n",
       "})(window);"
      ],
      "application/vnd.bokehjs_exec.v0+json": ""
     },
     "metadata": {
      "application/vnd.bokehjs_exec.v0+json": {
       "id": "14571c2d-4700-4a34-8221-1b7785beee62"
      }
     },
     "output_type": "display_data"
    }
   ],
   "source": [
    "# EXERCISE Create a plot of your own and customize several grid properties\n",
    "p = figure(plot_width = 200, plot_height = 400)\n",
    "x = [i for i in range(20)]\n",
    "y = [i for i in range(40,2)]\n",
    "p.circle(x=x,y=x , size=10)\n",
    "\n",
    "p.xgrid.grid_line_color = \"blue\"\n",
    "p.ygrid.grid_line_color = \"red\"\n",
    "\n",
    "p.ygrid.band_fill_alpha = 1\n",
    "p.ygrid.band_fill_color = \"navy\"\n",
    "show(p)"
   ]
  },
  {
   "cell_type": "code",
   "execution_count": null,
   "metadata": {
    "collapsed": true
   },
   "outputs": [],
   "source": []
  }
 ],
 "metadata": {
  "kernelspec": {
   "display_name": "Python 3",
   "language": "python",
   "name": "python3"
  },
  "language_info": {
   "codemirror_mode": {
    "name": "ipython",
    "version": 3
   },
   "file_extension": ".py",
   "mimetype": "text/x-python",
   "name": "python",
   "nbconvert_exporter": "python",
   "pygments_lexer": "ipython3",
   "version": "3.6.3"
  }
 },
 "nbformat": 4,
 "nbformat_minor": 1
}
