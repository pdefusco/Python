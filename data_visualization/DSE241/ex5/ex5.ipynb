{
 "cells": [
  {
   "cell_type": "code",
   "execution_count": 38,
   "metadata": {
    "collapsed": true
   },
   "outputs": [],
   "source": [
    "import math\n",
    "from bokeh.io import output_notebook, show\n",
    "from bokeh.plotting import figure\n",
    "from bokeh.models import FixedTicker,Legend,Plot,GraphRenderer, Oval, Range1d, MultiLine, Circle, HoverTool, TapTool, BoxSelectTool,BoxZoomTool, Rect, WheelZoomTool\n",
    "from bokeh.models.graphs import NodesAndLinkedEdges, EdgesAndLinkedNodes,from_networkx\n",
    "from bokeh.palettes import Spectral4, Spectral8, Blues8, Greens8, magma,OrRd,Oranges, Viridis256, Oranges8\n",
    "from bokeh.plotting import ColumnDataSource\n",
    "from bokeh.models import ColumnDataSource, LabelSet, ColumnData,StaticLayoutProvider,GraphRenderer\n",
    "from bokeh.layouts import gridplot\n",
    "import numpy as np\n",
    "from networkx.algorithms import approximation as approx\n",
    "import matplotlib.pyplot as plt\n",
    "import pandas as pd\n",
    "import networkx as nx\n",
    "import numpy as np\n",
    "import csv"
   ]
  },
  {
   "cell_type": "code",
   "execution_count": 2,
   "metadata": {
    "collapsed": true
   },
   "outputs": [],
   "source": [
    "#Importing Nodes as Pandas DF\n",
    "nodes = pd.read_csv(\"sheep_data/sheep_age.csv\")\n",
    "edges = pd.read_csv(\"sheep_data/sheep_edges.csv\")"
   ]
  },
  {
   "cell_type": "code",
   "execution_count": 3,
   "metadata": {
    "collapsed": true
   },
   "outputs": [],
   "source": [
    "#Importing Edges as Tuples \n",
    "with open('sheep_data/sheep_edges.csv') as f:\n",
    "    sheep_edges=[tuple(line) for line in csv.reader(f)]"
   ]
  },
  {
   "cell_type": "code",
   "execution_count": 4,
   "metadata": {},
   "outputs": [
    {
     "data": {
      "text/plain": [
       "('source', 'target', 'weight')"
      ]
     },
     "execution_count": 4,
     "metadata": {},
     "output_type": "execute_result"
    }
   ],
   "source": [
    "sheep_edges.pop(0)"
   ]
  },
  {
   "cell_type": "code",
   "execution_count": 5,
   "metadata": {
    "collapsed": true
   },
   "outputs": [],
   "source": [
    "#Creating the Network\n",
    "X = nx.DiGraph()"
   ]
  },
  {
   "cell_type": "code",
   "execution_count": 6,
   "metadata": {
    "collapsed": true
   },
   "outputs": [],
   "source": [
    "#D.add_weighted_edges_from(sheep_edges)\n",
    "X.add_weighted_edges_from(sheep_edges)"
   ]
  },
  {
   "cell_type": "code",
   "execution_count": 7,
   "metadata": {
    "collapsed": true
   },
   "outputs": [],
   "source": [
    "#Loading as graphml\n",
    "#new = nx.read_graphml('sheep_data/sheep_ml.graphml')\n",
    "#print(\"Number of Nodes: \", new.number_of_nodes())\n",
    "#print(\"Number of Edges: \", new.number_of_edges())"
   ]
  },
  {
   "cell_type": "code",
   "execution_count": 8,
   "metadata": {
    "collapsed": true
   },
   "outputs": [],
   "source": [
    "#Creating Features\n",
    "#1 - How many times that particular sheep has dominated another sheep\n",
    "src_dom = edges.groupby(['source']).sum()\n",
    "#2 - How many times that particular sheep has been dominated by another sheep\n",
    "tgt_dom = edges.groupby(['target']).sum()"
   ]
  },
  {
   "cell_type": "code",
   "execution_count": 9,
   "metadata": {
    "collapsed": true
   },
   "outputs": [],
   "source": [
    "src_dom = src_dom.reset_index()\n",
    "tgt_dom = tgt_dom.reset_index()"
   ]
  },
  {
   "cell_type": "code",
   "execution_count": 10,
   "metadata": {
    "collapsed": true
   },
   "outputs": [],
   "source": [
    "df2 = pd.DataFrame([[1, 0, 0]],columns=['target','source','weight'])\n",
    "tgt_dom = tgt_dom.append(df2)\n",
    "tgt_dom = tgt_dom.sort_values('target')\n",
    "tgt_dom = tgt_dom.drop(columns=['source'])\n",
    "tgt_dom.rename(columns={'target': 'id', 'weight':'DominatedBy'}, inplace=True)"
   ]
  },
  {
   "cell_type": "code",
   "execution_count": 11,
   "metadata": {
    "collapsed": true
   },
   "outputs": [],
   "source": [
    "df2 = pd.DataFrame([[6, 0, 0]],columns=['source', 'target','weight'])\n",
    "src_dom = src_dom.append(df2)\n",
    "src_dom = src_dom.sort_values('source')\n",
    "src_dom = src_dom.drop(columns=['target'])\n",
    "src_dom.rename(columns={'source': 'id', 'weight':'DominatedOthers'}, inplace=True)                                                                  "
   ]
  },
  {
   "cell_type": "code",
   "execution_count": 12,
   "metadata": {
    "collapsed": true
   },
   "outputs": [],
   "source": [
    "#Merge Original Nodes DF to add Dominated\n",
    "nodes = pd.merge(nodes, tgt_dom, how='inner', on='id')\n",
    "nodes = pd.merge(nodes, src_dom, how='inner', on='id')"
   ]
  },
  {
   "cell_type": "code",
   "execution_count": 13,
   "metadata": {
    "collapsed": true
   },
   "outputs": [],
   "source": [
    "#1 - How many different sheep it dominated\n",
    "src_diff = edges.groupby(['source']).sum()\n",
    "#2 - How many different sheep it was dominated by\n",
    "tgt_diff = edges.groupby(['target']).sum()"
   ]
  },
  {
   "cell_type": "code",
   "execution_count": 14,
   "metadata": {
    "collapsed": true
   },
   "outputs": [],
   "source": [
    "edges_work = edges.copy()\n",
    "edges_work = edges_work.drop(columns=['weight'])"
   ]
  },
  {
   "cell_type": "code",
   "execution_count": 15,
   "metadata": {
    "collapsed": true
   },
   "outputs": [],
   "source": [
    "#del src\n",
    "src = edges_work.groupby(['source']).count()\n",
    "src = src.reset_index()\n",
    "df2 = pd.DataFrame([[6, 0]],columns=['source', 'target'])\n",
    "src = src.append(df2)\n",
    "src = src.sort_values('source')\n",
    "src.rename(columns={'source': 'id', 'target':'TargetsPerSource'}, inplace=True)"
   ]
  },
  {
   "cell_type": "code",
   "execution_count": 16,
   "metadata": {
    "collapsed": true
   },
   "outputs": [],
   "source": [
    "edges_work = edges.copy()\n",
    "edges_work = edges_work.drop(columns=['weight'])"
   ]
  },
  {
   "cell_type": "code",
   "execution_count": 17,
   "metadata": {
    "collapsed": true
   },
   "outputs": [],
   "source": [
    "#del tgt\n",
    "tgt = edges_work.groupby('target').count()\n",
    "tgt = tgt.reset_index()\n",
    "df2 = pd.DataFrame([[1, 0]],columns=['target', 'source'])\n",
    "tgt = tgt.append(df2)\n",
    "tgt = tgt.sort_values('target')\n",
    "tgt.rename(columns={'target': 'id', 'source':'SourcesPerTarget'}, inplace=True)"
   ]
  },
  {
   "cell_type": "code",
   "execution_count": 18,
   "metadata": {
    "collapsed": true
   },
   "outputs": [],
   "source": [
    "#Adding Plus One to make division possible \n",
    "nodes['DominatedOthers'] = nodes['DominatedOthers']+1"
   ]
  },
  {
   "cell_type": "code",
   "execution_count": 19,
   "metadata": {
    "collapsed": true
   },
   "outputs": [],
   "source": [
    "nodes['DominatedBy'] = nodes['DominatedBy']+1"
   ]
  },
  {
   "cell_type": "code",
   "execution_count": 20,
   "metadata": {
    "collapsed": true
   },
   "outputs": [],
   "source": [
    "nodes = pd.merge(nodes, src, how='inner', on='id')\n",
    "nodes = pd.merge(nodes, tgt, how='inner', on='id')"
   ]
  },
  {
   "cell_type": "code",
   "execution_count": 21,
   "metadata": {
    "collapsed": true
   },
   "outputs": [],
   "source": [
    "nodes['TargetsPerSource'] = nodes['TargetsPerSource']+1"
   ]
  },
  {
   "cell_type": "code",
   "execution_count": 22,
   "metadata": {
    "collapsed": true
   },
   "outputs": [],
   "source": [
    "nodes['SourcesPerTarget'] = nodes['SourcesPerTarget']+1"
   ]
  },
  {
   "cell_type": "code",
   "execution_count": 23,
   "metadata": {
    "collapsed": true
   },
   "outputs": [],
   "source": [
    "nodes['DomBy/DomOthers'] = nodes['DominatedBy'].divide(nodes['DominatedOthers'])\n",
    "nodes['Tgts/Srcs'] = nodes['TargetsPerSource'].divide(nodes['SourcesPerTarget'])"
   ]
  },
  {
   "cell_type": "code",
   "execution_count": 24,
   "metadata": {
    "collapsed": true
   },
   "outputs": [],
   "source": [
    "nodes['DomBy/DomOthers'] = nodes['DomBy/DomOthers']+.1"
   ]
  },
  {
   "cell_type": "code",
   "execution_count": 25,
   "metadata": {
    "collapsed": true
   },
   "outputs": [],
   "source": [
    "#Load the node attributes\n",
    "for j in nodes.columns:\n",
    "    for i,k in zip(sorted(X.nodes()),pd.Series(nodes[j])):\n",
    "        X.node[i][j] = k"
   ]
  },
  {
   "cell_type": "code",
   "execution_count": 26,
   "metadata": {
    "collapsed": true
   },
   "outputs": [],
   "source": [
    "#Create Edge Attributes:\n",
    "color_series = []\n",
    "for i in edges['weight']:\n",
    "    if i>7:\n",
    "        color_series.append(Spectral8[7])\n",
    "    else:\n",
    "        color_series.append(Spectral8[i])"
   ]
  },
  {
   "cell_type": "code",
   "execution_count": 27,
   "metadata": {
    "collapsed": true
   },
   "outputs": [],
   "source": [
    "edges['weight_color'] = color_series"
   ]
  },
  {
   "cell_type": "code",
   "execution_count": 28,
   "metadata": {
    "collapsed": true
   },
   "outputs": [],
   "source": [
    "wgt_col = {'weight_color': edges['weight_color'].to_dict()}"
   ]
  },
  {
   "cell_type": "code",
   "execution_count": 29,
   "metadata": {
    "collapsed": true
   },
   "outputs": [],
   "source": [
    "nodes['DominatedOthersPCGT'] = nodes['DominatedOthers']/nodes['DominatedOthers'].sum()"
   ]
  },
  {
   "cell_type": "code",
   "execution_count": 30,
   "metadata": {
    "collapsed": true
   },
   "outputs": [],
   "source": [
    "nodes['DominatedByPCGT'] = nodes['DominatedBy']/nodes['DominatedBy'].sum()"
   ]
  },
  {
   "cell_type": "code",
   "execution_count": 31,
   "metadata": {
    "collapsed": true
   },
   "outputs": [],
   "source": [
    "nodes['TotalInteractions'] = nodes['DominatedOthers']+nodes['DominatedBy']\n",
    "nodes['WonPCGT'] = nodes['DominatedOthers']/nodes['TotalInteractions']\n",
    "nodes['LostPCGT'] = nodes['DominatedBy']/nodes['TotalInteractions']"
   ]
  },
  {
   "cell_type": "code",
   "execution_count": 32,
   "metadata": {
    "collapsed": true
   },
   "outputs": [],
   "source": [
    "#NetworkX Algorithms"
   ]
  },
  {
   "cell_type": "code",
   "execution_count": 33,
   "metadata": {},
   "outputs": [
    {
     "data": {
      "text/html": [
       "<div>\n",
       "<style scoped>\n",
       "    .dataframe tbody tr th:only-of-type {\n",
       "        vertical-align: middle;\n",
       "    }\n",
       "\n",
       "    .dataframe tbody tr th {\n",
       "        vertical-align: top;\n",
       "    }\n",
       "\n",
       "    .dataframe thead th {\n",
       "        text-align: right;\n",
       "    }\n",
       "</style>\n",
       "<table border=\"1\" class=\"dataframe\">\n",
       "  <thead>\n",
       "    <tr style=\"text-align: right;\">\n",
       "      <th></th>\n",
       "      <th>id</th>\n",
       "      <th>age</th>\n",
       "      <th>DominatedBy</th>\n",
       "      <th>DominatedOthers</th>\n",
       "      <th>TargetsPerSource</th>\n",
       "      <th>SourcesPerTarget</th>\n",
       "      <th>DomBy/DomOthers</th>\n",
       "      <th>Tgts/Srcs</th>\n",
       "      <th>DominatedOthersPCGT</th>\n",
       "      <th>DominatedByPCGT</th>\n",
       "      <th>TotalInteractions</th>\n",
       "      <th>WonPCGT</th>\n",
       "      <th>LostPCGT</th>\n",
       "    </tr>\n",
       "  </thead>\n",
       "  <tbody>\n",
       "    <tr>\n",
       "      <th>0</th>\n",
       "      <td>1</td>\n",
       "      <td>8</td>\n",
       "      <td>1</td>\n",
       "      <td>6</td>\n",
       "      <td>6</td>\n",
       "      <td>1</td>\n",
       "      <td>0.266667</td>\n",
       "      <td>6.0</td>\n",
       "      <td>0.008746</td>\n",
       "      <td>0.001458</td>\n",
       "      <td>7</td>\n",
       "      <td>0.857143</td>\n",
       "      <td>0.142857</td>\n",
       "    </tr>\n",
       "    <tr>\n",
       "      <th>1</th>\n",
       "      <td>2</td>\n",
       "      <td>8</td>\n",
       "      <td>10</td>\n",
       "      <td>36</td>\n",
       "      <td>15</td>\n",
       "      <td>6</td>\n",
       "      <td>0.377778</td>\n",
       "      <td>2.5</td>\n",
       "      <td>0.052478</td>\n",
       "      <td>0.014577</td>\n",
       "      <td>46</td>\n",
       "      <td>0.782609</td>\n",
       "      <td>0.217391</td>\n",
       "    </tr>\n",
       "  </tbody>\n",
       "</table>\n",
       "</div>"
      ],
      "text/plain": [
       "   id  age  DominatedBy  DominatedOthers  TargetsPerSource  SourcesPerTarget  \\\n",
       "0   1    8            1                6                 6                 1   \n",
       "1   2    8           10               36                15                 6   \n",
       "\n",
       "   DomBy/DomOthers  Tgts/Srcs  DominatedOthersPCGT  DominatedByPCGT  \\\n",
       "0         0.266667        6.0             0.008746         0.001458   \n",
       "1         0.377778        2.5             0.052478         0.014577   \n",
       "\n",
       "   TotalInteractions   WonPCGT  LostPCGT  \n",
       "0                  7  0.857143  0.142857  \n",
       "1                 46  0.782609  0.217391  "
      ]
     },
     "execution_count": 33,
     "metadata": {},
     "output_type": "execute_result"
    }
   ],
   "source": [
    "nodes.head(2)"
   ]
  },
  {
   "cell_type": "code",
   "execution_count": null,
   "metadata": {
    "collapsed": true
   },
   "outputs": [],
   "source": [
    "print(\"Pairwise or local node connectivity between two distinct and nonadjacent nodes\")\n",
    "print(\"Minimum number of nodes that must be removed (minimum separating cutset) to disconnect Nodes 1 and 2: \")\n",
    "print(approx.node_connectivity(X,'1','2'))"
   ]
  },
  {
   "cell_type": "code",
   "execution_count": null,
   "metadata": {
    "collapsed": true
   },
   "outputs": [],
   "source": [
    "print(\"A clique in an undirected graph G = (V, E) is a subset of the vertex set C subset e q V such that\") \n",
    "print(\"for every two vertices in C there exists an edge connecting the two\")\n",
    "print(\"Max Clique: \", approx.max_clique(X))\n",
    "mx_clique = approx.max_clique(X)\n"
   ]
  },
  {
   "cell_type": "code",
   "execution_count": null,
   "metadata": {
    "collapsed": true
   },
   "outputs": [],
   "source": [
    "print(\"A maximum independent set is a largest independent set for a given graph G and its size is denoted 𝛼(G).\")\n",
    "print(\"The maximum independent set of New is: \", approx.maximum_independent_set(X))\n",
    "mx_indep = approx.maximum_independent_set(X)"
   ]
  },
  {
   "cell_type": "code",
   "execution_count": null,
   "metadata": {
    "collapsed": true
   },
   "outputs": [],
   "source": [
    "print(\"Given a graph G = (V,E), a matching M in G is a set of pairwise non-adjacent edges; that is, no two edges share a common vertex\")\n",
    "print(\"The Matching of new is: \", approx.min_maximal_matching(X))"
   ]
  },
  {
   "cell_type": "code",
   "execution_count": null,
   "metadata": {
    "collapsed": true
   },
   "outputs": [],
   "source": [
    "print(\"The degree centrality for a node v is the fraction of nodes it is connected to.\")\n",
    "print(\"The degree centrality for each node is \", nx.degree_centrality(X))"
   ]
  },
  {
   "cell_type": "code",
   "execution_count": null,
   "metadata": {
    "collapsed": true
   },
   "outputs": [],
   "source": [
    "print(\"The in-degree centrality for a node v is the fraction of nodes its incoming edges are connected to\")\n",
    "print(\"The in-degree centrality for each node is \", nx.in_degree_centrality(X))"
   ]
  },
  {
   "cell_type": "code",
   "execution_count": null,
   "metadata": {
    "collapsed": true
   },
   "outputs": [],
   "source": [
    "print(\"The out-degree centrality for a node v is the fraction of nodes its outgoing edges are connected to.\")\n",
    "print(\"The out-degree centrality for each node is \", nx.out_degree_centrality(X))"
   ]
  },
  {
   "cell_type": "code",
   "execution_count": null,
   "metadata": {
    "collapsed": true
   },
   "outputs": [],
   "source": [
    "print(\"Betweennes centrality for each node in new: \", nx.betweenness_centrality(X))"
   ]
  },
  {
   "cell_type": "code",
   "execution_count": null,
   "metadata": {
    "collapsed": true
   },
   "outputs": [],
   "source": [
    "print(\"Betweennes centrality for each edge in new: \", nx.edge_betweenness_centrality(X))"
   ]
  },
  {
   "cell_type": "code",
   "execution_count": null,
   "metadata": {
    "collapsed": true
   },
   "outputs": [],
   "source": [
    "print(\"The local reaching centrality of a node in a directed graph is the proportion of other nodes reachable from that node\")\n",
    "print(\"The local reaching centrality for node 4 is: \", nx.local_reaching_centrality(X, \"4\"))"
   ]
  },
  {
   "cell_type": "code",
   "execution_count": null,
   "metadata": {
    "collapsed": true
   },
   "outputs": [],
   "source": [
    "nx.greedy_color(X, strategy=\"largest_first\", interchange=False)"
   ]
  },
  {
   "cell_type": "code",
   "execution_count": null,
   "metadata": {
    "collapsed": true
   },
   "outputs": [],
   "source": [
    "# or DiGraph, MultiGraph, MultiDiGraph, etc\n",
    "mx_cliq = list(mx_clique)\n",
    "H = nx.DiGraph(X.subgraph(mx_cliq))\n",
    "type(H.edges())"
   ]
  },
  {
   "cell_type": "code",
   "execution_count": null,
   "metadata": {
    "collapsed": true
   },
   "outputs": [],
   "source": [
    "H_edges_lst = []\n",
    "for i in H.edges():\n",
    "    H_edges_lst.append(i)\n",
    "\n",
    "H_edges = pd.DataFrame(H_edges_lst, columns=['source', 'target'])\n",
    "H_edges1 = pd.merge(edges, H_edges, how='right', left_on=['source','target'],right_on=['source','target'])\n",
    "H_edges1=H_edges1.drop(columns=['weight_color'])"
   ]
  },
  {
   "cell_type": "code",
   "execution_count": null,
   "metadata": {
    "collapsed": true
   },
   "outputs": [],
   "source": [
    "edges1 = edges.copy()\n",
    "edges1 = edges"
   ]
  },
  {
   "cell_type": "code",
   "execution_count": null,
   "metadata": {
    "collapsed": true
   },
   "outputs": [],
   "source": [
    "nds_dom_pt_lst = []\n",
    "for i in nodes['DominatedOthersPCGT'].tolist():\n",
    "    nds_dom_pt_lst.append(str(i))"
   ]
  },
  {
   "cell_type": "code",
   "execution_count": null,
   "metadata": {
    "collapsed": true
   },
   "outputs": [],
   "source": [
    "edge_weight_lst = []\n",
    "for edge in edges['weight']:\n",
    "    edge_weight_lst.append(str(edge))\n",
    "#pass dictionary and e - example is at the main page (latest)"
   ]
  },
  {
   "cell_type": "code",
   "execution_count": null,
   "metadata": {
    "collapsed": true
   },
   "outputs": [],
   "source": [
    "nodes_list = []\n",
    "for i in X.nodes:\n",
    "    nodes_list.append(i)\n",
    "print(nodes_list)"
   ]
  },
  {
   "cell_type": "code",
   "execution_count": null,
   "metadata": {
    "collapsed": true
   },
   "outputs": [],
   "source": [
    "edge_sorted = edges.sort_values(by=['weight'])"
   ]
  },
  {
   "cell_type": "code",
   "execution_count": null,
   "metadata": {
    "collapsed": true
   },
   "outputs": [],
   "source": [
    "#output_notebook()"
   ]
  },
  {
   "cell_type": "markdown",
   "metadata": {},
   "source": [
    "plot = figure(title=\"Networkx Integration Demonstration\", x_range=(-2,2), y_range=(-2,2),\n",
    "              tools=\"\", toolbar_location=None)\n",
    "\n",
    "graph = from_networkx(X, nx.spring_layout, scale=2, center=(0,0))\n",
    "plot.renderers.append(graph)\n",
    "show(plot)"
   ]
  },
  {
   "cell_type": "code",
   "execution_count": 138,
   "metadata": {},
   "outputs": [
    {
     "name": "stderr",
     "output_type": "stream",
     "text": [
      "E-1001 (BAD_COLUMN_NAME): Glyph refers to nonexistent column name: dom_by, dom_index, fi_color, size_dim [renderer: GlyphRenderer(id='1b09c1a0-d23d-4c7c-942d-56e4ef42a56a', ...)]\n",
      "E-1001 (BAD_COLUMN_NAME): Glyph refers to nonexistent column name: width, width_alpha [renderer: GlyphRenderer(id='8732117f-1202-479d-8f65-d3b7e51bf656', ...)]\n",
      "E-1001 (BAD_COLUMN_NAME): Glyph refers to nonexistent column name: age, fi_color2, tgtdivsrc, tgtdivsrcstgt [renderer: GlyphRenderer(id='366d8f7d-9b09-42a4-8b72-b9c538ec0907', ...)]\n",
      "E-1001 (BAD_COLUMN_NAME): Glyph refers to nonexistent column name: dom_by, dom_index, fi_color, size_dim [renderer: GlyphRenderer(id='4a76762b-fa57-4933-a52c-68811dbfa04e', ...)]\n",
      "E-1001 (BAD_COLUMN_NAME): Glyph refers to nonexistent column name: width, width_alpha [renderer: GlyphRenderer(id='8504fcdf-6c25-46db-9570-2072e93e711d', ...)]\n",
      "E-1001 (BAD_COLUMN_NAME): Glyph refers to nonexistent column name: width, width_alpha [renderer: GlyphRenderer(id='ce7743b0-6548-4735-8eb8-878a1e2327ba', ...)]\n",
      "E-1001 (BAD_COLUMN_NAME): Glyph refers to nonexistent column name: age, fi_color2, tgtdivsrc, tgtdivsrcstgt [renderer: GlyphRenderer(id='0e41d143-cc72-4fa3-b040-6aa5548b7bf2', ...)]\n",
      "E-1001 (BAD_COLUMN_NAME): Glyph refers to nonexistent column name: dom_by, dom_index, fi_color, size_dim [renderer: GlyphRenderer(id='d645422b-539c-4e5d-9061-b9386307a53f', ...)]\n",
      "E-1001 (BAD_COLUMN_NAME): Glyph refers to nonexistent column name: width, width_alpha [renderer: GlyphRenderer(id='3e4367fd-2a42-429c-a684-4163adfd1f54', ...)]\n",
      "E-1001 (BAD_COLUMN_NAME): Glyph refers to nonexistent column name: width, width_alpha [renderer: GlyphRenderer(id='dd52a180-b056-427a-9009-c003c3d63f9d', ...)]\n",
      "E-1001 (BAD_COLUMN_NAME): Glyph refers to nonexistent column name: age, fi_color2, fi_color3, tgtdivsrc, tgtdivsrcstgt [renderer: GlyphRenderer(id='ac40fdc4-40cb-4d59-831e-4a801290673f', ...)]\n",
      "E-1001 (BAD_COLUMN_NAME): Glyph refers to nonexistent column name: dom_by, dom_index, fi_color, size_dim [renderer: GlyphRenderer(id='f5129bfb-dac9-45b9-9796-a6e091a41a53', ...)]\n",
      "E-1001 (BAD_COLUMN_NAME): Glyph refers to nonexistent column name: width, width_alpha [renderer: GlyphRenderer(id='1797e6d9-5c4f-4bcf-89dd-bb6e780a898b', ...)]\n",
      "E-1001 (BAD_COLUMN_NAME): Glyph refers to nonexistent column name: width, width_alpha [renderer: GlyphRenderer(id='9a71a4c5-76f6-4ca2-823d-2355cddeda6e', ...)]\n",
      "E-1001 (BAD_COLUMN_NAME): Glyph refers to nonexistent column name: age, fi_color2, fi_color3, tgtdivsrc, tgtdivsrcstgt [renderer: GlyphRenderer(id='5653edfc-4dd3-416b-9a7a-835aad8d0967', ...)]\n",
      "E-1001 (BAD_COLUMN_NAME): Glyph refers to nonexistent column name: dom_by, dom_index, fi_color, size_dim [renderer: GlyphRenderer(id='934a414f-4b59-47e6-bacf-0def9b2b5229', ...)]\n",
      "E-1001 (BAD_COLUMN_NAME): Glyph refers to nonexistent column name: width, width_alpha [renderer: GlyphRenderer(id='62cfe01c-592a-460d-b66d-c7c23a13600f', ...)]\n",
      "E-1001 (BAD_COLUMN_NAME): Glyph refers to nonexistent column name: width, width_alpha [renderer: GlyphRenderer(id='dc55ed63-19c5-4214-affc-c0272e143e2c', ...)]\n",
      "E-1001 (BAD_COLUMN_NAME): Glyph refers to nonexistent column name: age, fi_color2, fi_color3, tgtdivsrc, tgtdivsrcstgt [renderer: GlyphRenderer(id='9052bcb0-3b70-411c-ae83-a5e3f3a20107', ...)]\n",
      "E-1001 (BAD_COLUMN_NAME): Glyph refers to nonexistent column name: dom_by, dom_index, fi_color, size_dim [renderer: GlyphRenderer(id='c7fce0ae-0a53-46db-a729-6971fd78bf98', ...)]\n",
      "E-1001 (BAD_COLUMN_NAME): Glyph refers to nonexistent column name: width, width_alpha [renderer: GlyphRenderer(id='47f980e2-fe8e-45e2-bf21-af1bc7cdeddc', ...)]\n",
      "E-1001 (BAD_COLUMN_NAME): Glyph refers to nonexistent column name: width, width_alpha [renderer: GlyphRenderer(id='c1a2b6c2-a35d-499b-bc1e-0150b218172e', ...)]\n",
      "E-1001 (BAD_COLUMN_NAME): Glyph refers to nonexistent column name: age, fi_color2, fi_color3, tgtdivsrc, tgtdivsrcstgt [renderer: GlyphRenderer(id='07588149-602f-43e6-b99d-f32302050e04', ...)]\n",
      "E-1001 (BAD_COLUMN_NAME): Glyph refers to nonexistent column name: dom_by, dom_index, fi_color, size_dim [renderer: GlyphRenderer(id='cdaea047-72df-4a9b-86b1-6c927fa04cc5', ...)]\n",
      "E-1001 (BAD_COLUMN_NAME): Glyph refers to nonexistent column name: width, width_alpha [renderer: GlyphRenderer(id='b2134870-0142-4c3e-b16c-2ceb15b3e2e4', ...)]\n",
      "E-1001 (BAD_COLUMN_NAME): Glyph refers to nonexistent column name: width, width_alpha [renderer: GlyphRenderer(id='b4a7d0c5-c485-432c-be6b-f80de431296a', ...)]\n",
      "E-1001 (BAD_COLUMN_NAME): Glyph refers to nonexistent column name: age, fi_color2, fi_color3, tgtdivsrc, tgtdivsrcstgt [renderer: GlyphRenderer(id='9101eebb-4327-4582-8524-e2af9f6a443d', ...)]\n",
      "E-1001 (BAD_COLUMN_NAME): Glyph refers to nonexistent column name: dom_by, dom_index, fi_color, size_dim [renderer: GlyphRenderer(id='765530bd-3061-467c-9273-72d6a8ee27d2', ...)]\n",
      "E-1001 (BAD_COLUMN_NAME): Glyph refers to nonexistent column name: width, width_alpha [renderer: GlyphRenderer(id='33d64e8e-2e37-4fdd-a680-bbdacc15e53b', ...)]\n",
      "E-1001 (BAD_COLUMN_NAME): Glyph refers to nonexistent column name: width, width_alpha [renderer: GlyphRenderer(id='7b1e54dd-c8bf-4c64-918e-b222183c4134', ...)]\n",
      "E-1001 (BAD_COLUMN_NAME): Glyph refers to nonexistent column name: age, fi_color2, fi_color3, tgtdivsrc, tgtdivsrcstgt [renderer: GlyphRenderer(id='36c6a626-9c2f-4e4a-8c70-8035eeb1bd75', ...)]\n",
      "E-1001 (BAD_COLUMN_NAME): Glyph refers to nonexistent column name: dom_by, dom_index, fi_color, size_dim [renderer: GlyphRenderer(id='f1c8eb1f-5b59-4113-b95c-01b8a48779ce', ...)]\n",
      "E-1001 (BAD_COLUMN_NAME): Glyph refers to nonexistent column name: width, width_alpha [renderer: GlyphRenderer(id='57b6c039-3538-4bc9-a1be-0794f5277577', ...)]\n",
      "E-1001 (BAD_COLUMN_NAME): Glyph refers to nonexistent column name: width, width_alpha [renderer: GlyphRenderer(id='f871d0f3-277c-477c-b46b-ebbaf7d50e2a', ...)]\n",
      "E-1001 (BAD_COLUMN_NAME): Glyph refers to nonexistent column name: age, fi_color2, fi_color3, tgtdivsrc, tgtdivsrcstgt [renderer: GlyphRenderer(id='054c0f51-7832-44ca-a2eb-683bff911e4e', ...)]\n",
      "E-1001 (BAD_COLUMN_NAME): Glyph refers to nonexistent column name: dom_by, dom_index, fi_color, size_dim [renderer: GlyphRenderer(id='ed12d3e8-b77a-4e0a-8a56-341f9af35d03', ...)]\n",
      "E-1001 (BAD_COLUMN_NAME): Glyph refers to nonexistent column name: width, width_alpha [renderer: GlyphRenderer(id='248beac9-253b-4eb3-b35b-2e497466407a', ...)]\n",
      "E-1001 (BAD_COLUMN_NAME): Glyph refers to nonexistent column name: width, width_alpha [renderer: GlyphRenderer(id='e490113f-3315-4457-a0c7-d51f6449b1fc', ...)]\n",
      "E-1001 (BAD_COLUMN_NAME): Glyph refers to nonexistent column name: age, fi_color2, fi_color3, tgtdivsrc, tgtdivsrcstgt [renderer: GlyphRenderer(id='540335fa-1348-4680-8778-c6b3ac87a5d3', ...)]\n",
      "E-1001 (BAD_COLUMN_NAME): Glyph refers to nonexistent column name: dom_by, dom_index, fi_color, size_dim [renderer: GlyphRenderer(id='0913b0e7-e5db-4a36-83d7-633838da9a9a', ...)]\n",
      "E-1001 (BAD_COLUMN_NAME): Glyph refers to nonexistent column name: width, width_alpha [renderer: GlyphRenderer(id='0ea398a7-945a-45d1-8d74-fe5e008b5529', ...)]\n",
      "E-1001 (BAD_COLUMN_NAME): Glyph refers to nonexistent column name: width, width_alpha [renderer: GlyphRenderer(id='7c6836e5-4738-4451-9730-fba3a52b6779', ...)]\n",
      "E-1001 (BAD_COLUMN_NAME): Glyph refers to nonexistent column name: age, fi_color2, fi_color3, tgtdivsrc, tgtdivsrcstgt [renderer: GlyphRenderer(id='7c08d417-5f5b-4bd8-b62b-72a4665f59d0', ...)]\n",
      "E-1001 (BAD_COLUMN_NAME): Glyph refers to nonexistent column name: dom_by, dom_index, fi_color, size_dim [renderer: GlyphRenderer(id='10616925-93e5-4e45-afa4-ea1c847acc8f', ...)]\n",
      "E-1001 (BAD_COLUMN_NAME): Glyph refers to nonexistent column name: width, width_alpha [renderer: GlyphRenderer(id='5f81e944-42c0-4a2b-861c-e5bab0be9430', ...)]\n",
      "E-1001 (BAD_COLUMN_NAME): Glyph refers to nonexistent column name: width, width_alpha [renderer: GlyphRenderer(id='f636206a-aebb-4388-a230-d77e5d3e6243', ...)]\n",
      "E-1001 (BAD_COLUMN_NAME): Glyph refers to nonexistent column name: age, fi_color2, fi_color3, tgtdivsrc, tgtdivsrcstgt [renderer: GlyphRenderer(id='36a97929-2f87-4d0f-8c72-4f2f33416f59', ...)]\n",
      "E-1001 (BAD_COLUMN_NAME): Glyph refers to nonexistent column name: dom_by, dom_index, fi_color, size_dim [renderer: GlyphRenderer(id='3c906835-6949-478c-bb14-29a141e14a25', ...)]\n"
     ]
    },
    {
     "name": "stderr",
     "output_type": "stream",
     "text": [
      "E-1001 (BAD_COLUMN_NAME): Glyph refers to nonexistent column name: width, width_alpha [renderer: GlyphRenderer(id='bfc12413-3256-497d-9f91-9aab57015001', ...)]\n",
      "E-1001 (BAD_COLUMN_NAME): Glyph refers to nonexistent column name: width, width_alpha [renderer: GlyphRenderer(id='ca4484d8-e08d-44a3-99ed-44c3d0cd6e5d', ...)]\n",
      "E-1001 (BAD_COLUMN_NAME): Glyph refers to nonexistent column name: age, fi_color2, fi_color3, tgtdivsrcstgt [renderer: GlyphRenderer(id='bc4a3310-59de-4d44-8eb2-085a2f36456a', ...)]\n",
      "E-1001 (BAD_COLUMN_NAME): Glyph refers to nonexistent column name: dom_by, dom_index, fi_color, size_dim [renderer: GlyphRenderer(id='dcb1744b-6859-4984-a759-22dc100bb6e7', ...)]\n",
      "E-1001 (BAD_COLUMN_NAME): Glyph refers to nonexistent column name: width, width_alpha [renderer: GlyphRenderer(id='0c974d06-969e-4f88-9503-b622b59dec92', ...)]\n",
      "E-1001 (BAD_COLUMN_NAME): Glyph refers to nonexistent column name: width, width_alpha [renderer: GlyphRenderer(id='656c8002-59c7-42f4-a8e6-b76c148d5807', ...)]\n",
      "E-1001 (BAD_COLUMN_NAME): Glyph refers to nonexistent column name: age, fi_color2, fi_color3, tgtdivsrcstgt [renderer: GlyphRenderer(id='888f491b-a73b-41ba-8411-0b858475fccc', ...)]\n",
      "E-1001 (BAD_COLUMN_NAME): Glyph refers to nonexistent column name: dom_by, dom_index, fi_color, size_dim [renderer: GlyphRenderer(id='84d9d0d6-525e-4242-9fff-02d3c9fb1f56', ...)]\n",
      "E-1001 (BAD_COLUMN_NAME): Glyph refers to nonexistent column name: width, width_alpha [renderer: GlyphRenderer(id='207477de-6a1b-4831-8d62-cd8f57e67b4a', ...)]\n",
      "E-1001 (BAD_COLUMN_NAME): Glyph refers to nonexistent column name: width, width_alpha [renderer: GlyphRenderer(id='9dfd64e0-95d0-4af3-91b0-a56f197b76c5', ...)]\n",
      "E-1001 (BAD_COLUMN_NAME): Glyph refers to nonexistent column name: age, fi_color2, fi_color3, tgtdivsrcstgt [renderer: GlyphRenderer(id='630831c0-b882-4814-b776-99e14c941148', ...)]\n",
      "E-1001 (BAD_COLUMN_NAME): Glyph refers to nonexistent column name: dom_by, dom_index, fi_color, size_dim [renderer: GlyphRenderer(id='d1cf7574-f06e-4e6a-8b2e-7d0fd0ad748e', ...)]\n",
      "E-1001 (BAD_COLUMN_NAME): Glyph refers to nonexistent column name: width, width_alpha [renderer: GlyphRenderer(id='1e905255-7bac-4ac5-a89a-3f9b6177ffff', ...)]\n",
      "E-1001 (BAD_COLUMN_NAME): Glyph refers to nonexistent column name: width, width_alpha [renderer: GlyphRenderer(id='5516c22c-82f2-404b-9ce4-475a905b5f4f', ...)]\n",
      "E-1001 (BAD_COLUMN_NAME): Glyph refers to nonexistent column name: age, fi_color2, fi_color3, tgtdivsrcstgt [renderer: GlyphRenderer(id='045d839d-e60a-42ad-b409-2d0402cf596e', ...)]\n",
      "E-1001 (BAD_COLUMN_NAME): Glyph refers to nonexistent column name: dom_by, dom_index, fi_color, size_dim [renderer: GlyphRenderer(id='4728cefa-4fcd-4135-ad82-46d7acdcf5d7', ...)]\n",
      "E-1001 (BAD_COLUMN_NAME): Glyph refers to nonexistent column name: width, width_alpha [renderer: GlyphRenderer(id='1583181a-8c59-46f7-806e-a8e51e5d50b9', ...)]\n",
      "E-1001 (BAD_COLUMN_NAME): Glyph refers to nonexistent column name: width, width_alpha [renderer: GlyphRenderer(id='b2f303f1-2678-4ea4-a5be-122168c99d63', ...)]\n",
      "E-1001 (BAD_COLUMN_NAME): Glyph refers to nonexistent column name: age, fi_color2, fi_color3, tgtdivsrcstgt [renderer: GlyphRenderer(id='075c93d8-164c-4977-86c3-c5299df4b968', ...)]\n",
      "E-1001 (BAD_COLUMN_NAME): Glyph refers to nonexistent column name: dom_by, dom_index, fi_color, size_dim [renderer: GlyphRenderer(id='bcf9408b-c21c-4665-b66a-fbf0bbca9f94', ...)]\n",
      "E-1001 (BAD_COLUMN_NAME): Glyph refers to nonexistent column name: width, width_alpha [renderer: GlyphRenderer(id='20669205-7b41-4cf5-8adb-083cd3a589a0', ...)]\n",
      "E-1001 (BAD_COLUMN_NAME): Glyph refers to nonexistent column name: width, width_alpha [renderer: GlyphRenderer(id='64f508b4-3d2b-4ffd-b4da-5bf906a5d0c4', ...)]\n",
      "E-1001 (BAD_COLUMN_NAME): Glyph refers to nonexistent column name: dom_by, dom_index, fi_color, size_dim [renderer: GlyphRenderer(id='36f37795-f1db-4928-b885-dac418504b8e', ...)]\n",
      "E-1001 (BAD_COLUMN_NAME): Glyph refers to nonexistent column name: width, width_alpha [renderer: GlyphRenderer(id='bf6f33ca-2ef2-4292-b4e5-0d1da660ee78', ...)]\n",
      "E-1001 (BAD_COLUMN_NAME): Glyph refers to nonexistent column name: dom_by, dom_index, fi_color, size_dim [renderer: GlyphRenderer(id='dc856b95-d3db-4750-8dfa-9ce94139581b', ...)]\n",
      "E-1001 (BAD_COLUMN_NAME): Glyph refers to nonexistent column name: width, width_alpha [renderer: GlyphRenderer(id='07837972-c7a8-4834-8c43-403d0ee7c8ba', ...)]\n"
     ]
    }
   ],
   "source": [
    "#First Plot\n",
    "N1 = len(X.nodes)\n",
    "node_indices = list(range(N1))\n",
    "nd_idx = [i+1 for i in node_indices]\n",
    "\n",
    "p = figure(title=\"Graph Spectral Layout\", x_range=(-1.1,1.1), y_range=(-1.1,1.1), toolbar_location=\"right\")\n",
    "\n",
    "p.title.text_color = \"black\"\n",
    "p.title.text_font = \"verdana\"\n",
    "p.title.text_font_style = \"italic\"\n",
    "p.title.text_font_style = \"bold\"\n",
    "p.background_fill_alpha = 0.07\n",
    "p.title.align = \"center\"\n",
    "p.title.text_font_size = '29pt'\n",
    "\n",
    "p.add_tools(HoverTool(tooltips=[(\"Source\", \"@edges_src\"),\n",
    "                                (\"Target\", \"@edges_tgt\"),(\"Weight\",\"@width\")]), \n",
    "            TapTool(), BoxSelectTool(), BoxZoomTool(),WheelZoomTool())\n",
    "\n",
    "graph_renderer = from_networkx(X,nx.spectral_layout, center=(0,0))\n",
    "\n",
    "pos = nx.spectral_layout(X)\n",
    "x,y=zip(*pos.values())\n",
    "\n",
    "src = ColumnDataSource({'x':x,'y':y,'nodeid':nd_idx})\n",
    "labels = LabelSet(x='x', y='y', text='nodeid', source=src)\n",
    "\n",
    "graph_renderer.node_renderer.glyph = Circle(size=\"size_dim\", fill_alpha=\"dom_index\",\n",
    "                                            line_color = \"firebrick\",\n",
    "                                            line_dash = [1, 1],\n",
    "                                            line_width = \"dom_by\",\n",
    "                                            fill_color=\"fi_color\"\n",
    "                                            \n",
    "                                            )\n",
    "\n",
    "graph_renderer.node_renderer.selection_glyph = Circle(size=\"size_dim\", fill_alpha=\"dom_index\",\n",
    "                                            line_color = \"firebrick\",\n",
    "                                            line_dash = [1, 1],\n",
    "                                            line_width = \"dom_by\",\n",
    "                                            fill_color=\"fi_color\")\n",
    "\n",
    "graph_renderer.node_renderer.hover_glyph = Circle(size=\"size_dim\", fill_alpha=\"dom_index\", \n",
    "                                            line_color = \"firebrick\",\n",
    "                                            line_dash = [1, 1],\n",
    "                                            line_width = \"dom_by\",\n",
    "                                            fill_color=\"fi_color\")\n",
    "\n",
    "graph_renderer.node_renderer.data_source.data = dict(index=nd_idx, \n",
    "                                            size_dim = nodes['DominatedOthersPCGT']*600,\n",
    "                                            dom_index = 30/nodes['DomBy/DomOthers'],\n",
    "                                            dom_by = nodes['DominatedBy']/7,\n",
    "                                            fi_color = nodes['DomBy/DomOthers_color'],\n",
    "                                            age = nodes['age']/60\n",
    "                                                    )\n",
    "\n",
    "graph_renderer.edge_renderer.glyph = MultiLine(line_color=\"#bdbdbd\", line_alpha=\"width_alpha\",\n",
    "                                               line_dash=\"dotted\", line_width=\"width\")\n",
    "graph_renderer.edge_renderer.selection_glyph = MultiLine(line_color=\"edge_col\", line_width=\"width\")\n",
    "graph_renderer.edge_renderer.hover_glyph = MultiLine(line_color=\"edge_col\", line_width=\"width\")\n",
    "graph_renderer.edge_renderer.data_source.data = dict(start=edges['source'],\n",
    "                                                     end=edges['target'],\n",
    "                                                     width=edges['weight'],\n",
    "                                                     edge_col=edges['weight_color'],\n",
    "                                                     width_alpha=edges['weight']/2,\n",
    "                                                     edges_src=edges['source'],\n",
    "                                                     edges_tgt=edges['target']\n",
    "                                                    )\n",
    "\n",
    "legend = Legend(items=[(\"Node ID\",[])], location=\"top_right\")\n",
    "\n",
    "graph_renderer.selection_policy = NodesAndLinkedEdges()\n",
    "graph_renderer.inspection_policy = EdgesAndLinkedNodes()\n",
    "\n",
    "p.renderers.append(labels)\n",
    "p.renderers.append(graph_renderer)\n",
    "p.add_layout(legend)\n",
    "show(p)\n"
   ]
  },
  {
   "cell_type": "code",
   "execution_count": 136,
   "metadata": {},
   "outputs": [
    {
     "name": "stderr",
     "output_type": "stream",
     "text": [
      "E-1001 (BAD_COLUMN_NAME): Glyph refers to nonexistent column name: dom_by, dom_index, fi_color, size_dim [renderer: GlyphRenderer(id='1b09c1a0-d23d-4c7c-942d-56e4ef42a56a', ...)]\n",
      "E-1001 (BAD_COLUMN_NAME): Glyph refers to nonexistent column name: width, width_alpha [renderer: GlyphRenderer(id='8732117f-1202-479d-8f65-d3b7e51bf656', ...)]\n",
      "E-1001 (BAD_COLUMN_NAME): Glyph refers to nonexistent column name: age, fi_color2, tgtdivsrc, tgtdivsrcstgt [renderer: GlyphRenderer(id='366d8f7d-9b09-42a4-8b72-b9c538ec0907', ...)]\n",
      "E-1001 (BAD_COLUMN_NAME): Glyph refers to nonexistent column name: dom_by, dom_index, fi_color, size_dim [renderer: GlyphRenderer(id='4a76762b-fa57-4933-a52c-68811dbfa04e', ...)]\n",
      "E-1001 (BAD_COLUMN_NAME): Glyph refers to nonexistent column name: width, width_alpha [renderer: GlyphRenderer(id='8504fcdf-6c25-46db-9570-2072e93e711d', ...)]\n",
      "E-1001 (BAD_COLUMN_NAME): Glyph refers to nonexistent column name: width, width_alpha [renderer: GlyphRenderer(id='ce7743b0-6548-4735-8eb8-878a1e2327ba', ...)]\n",
      "E-1001 (BAD_COLUMN_NAME): Glyph refers to nonexistent column name: age, fi_color2, tgtdivsrc, tgtdivsrcstgt [renderer: GlyphRenderer(id='0e41d143-cc72-4fa3-b040-6aa5548b7bf2', ...)]\n",
      "E-1001 (BAD_COLUMN_NAME): Glyph refers to nonexistent column name: dom_by, dom_index, fi_color, size_dim [renderer: GlyphRenderer(id='d645422b-539c-4e5d-9061-b9386307a53f', ...)]\n",
      "E-1001 (BAD_COLUMN_NAME): Glyph refers to nonexistent column name: width, width_alpha [renderer: GlyphRenderer(id='3e4367fd-2a42-429c-a684-4163adfd1f54', ...)]\n",
      "E-1001 (BAD_COLUMN_NAME): Glyph refers to nonexistent column name: width, width_alpha [renderer: GlyphRenderer(id='dd52a180-b056-427a-9009-c003c3d63f9d', ...)]\n",
      "E-1001 (BAD_COLUMN_NAME): Glyph refers to nonexistent column name: age, fi_color2, fi_color3, tgtdivsrc, tgtdivsrcstgt [renderer: GlyphRenderer(id='ac40fdc4-40cb-4d59-831e-4a801290673f', ...)]\n",
      "E-1001 (BAD_COLUMN_NAME): Glyph refers to nonexistent column name: dom_by, dom_index, fi_color, size_dim [renderer: GlyphRenderer(id='f5129bfb-dac9-45b9-9796-a6e091a41a53', ...)]\n",
      "E-1001 (BAD_COLUMN_NAME): Glyph refers to nonexistent column name: width, width_alpha [renderer: GlyphRenderer(id='1797e6d9-5c4f-4bcf-89dd-bb6e780a898b', ...)]\n",
      "E-1001 (BAD_COLUMN_NAME): Glyph refers to nonexistent column name: width, width_alpha [renderer: GlyphRenderer(id='9a71a4c5-76f6-4ca2-823d-2355cddeda6e', ...)]\n",
      "E-1001 (BAD_COLUMN_NAME): Glyph refers to nonexistent column name: age, fi_color2, fi_color3, tgtdivsrc, tgtdivsrcstgt [renderer: GlyphRenderer(id='5653edfc-4dd3-416b-9a7a-835aad8d0967', ...)]\n",
      "E-1001 (BAD_COLUMN_NAME): Glyph refers to nonexistent column name: dom_by, dom_index, fi_color, size_dim [renderer: GlyphRenderer(id='934a414f-4b59-47e6-bacf-0def9b2b5229', ...)]\n",
      "E-1001 (BAD_COLUMN_NAME): Glyph refers to nonexistent column name: width, width_alpha [renderer: GlyphRenderer(id='62cfe01c-592a-460d-b66d-c7c23a13600f', ...)]\n",
      "E-1001 (BAD_COLUMN_NAME): Glyph refers to nonexistent column name: width, width_alpha [renderer: GlyphRenderer(id='dc55ed63-19c5-4214-affc-c0272e143e2c', ...)]\n",
      "E-1001 (BAD_COLUMN_NAME): Glyph refers to nonexistent column name: age, fi_color2, fi_color3, tgtdivsrc, tgtdivsrcstgt [renderer: GlyphRenderer(id='9052bcb0-3b70-411c-ae83-a5e3f3a20107', ...)]\n",
      "E-1001 (BAD_COLUMN_NAME): Glyph refers to nonexistent column name: dom_by, dom_index, fi_color, size_dim [renderer: GlyphRenderer(id='c7fce0ae-0a53-46db-a729-6971fd78bf98', ...)]\n",
      "E-1001 (BAD_COLUMN_NAME): Glyph refers to nonexistent column name: width, width_alpha [renderer: GlyphRenderer(id='47f980e2-fe8e-45e2-bf21-af1bc7cdeddc', ...)]\n",
      "E-1001 (BAD_COLUMN_NAME): Glyph refers to nonexistent column name: width, width_alpha [renderer: GlyphRenderer(id='c1a2b6c2-a35d-499b-bc1e-0150b218172e', ...)]\n",
      "E-1001 (BAD_COLUMN_NAME): Glyph refers to nonexistent column name: age, fi_color2, fi_color3, tgtdivsrc, tgtdivsrcstgt [renderer: GlyphRenderer(id='07588149-602f-43e6-b99d-f32302050e04', ...)]\n",
      "E-1001 (BAD_COLUMN_NAME): Glyph refers to nonexistent column name: dom_by, dom_index, fi_color, size_dim [renderer: GlyphRenderer(id='cdaea047-72df-4a9b-86b1-6c927fa04cc5', ...)]\n",
      "E-1001 (BAD_COLUMN_NAME): Glyph refers to nonexistent column name: width, width_alpha [renderer: GlyphRenderer(id='b2134870-0142-4c3e-b16c-2ceb15b3e2e4', ...)]\n",
      "E-1001 (BAD_COLUMN_NAME): Glyph refers to nonexistent column name: width, width_alpha [renderer: GlyphRenderer(id='b4a7d0c5-c485-432c-be6b-f80de431296a', ...)]\n",
      "E-1001 (BAD_COLUMN_NAME): Glyph refers to nonexistent column name: age, fi_color2, fi_color3, tgtdivsrc, tgtdivsrcstgt [renderer: GlyphRenderer(id='9101eebb-4327-4582-8524-e2af9f6a443d', ...)]\n",
      "E-1001 (BAD_COLUMN_NAME): Glyph refers to nonexistent column name: dom_by, dom_index, fi_color, size_dim [renderer: GlyphRenderer(id='765530bd-3061-467c-9273-72d6a8ee27d2', ...)]\n",
      "E-1001 (BAD_COLUMN_NAME): Glyph refers to nonexistent column name: width, width_alpha [renderer: GlyphRenderer(id='33d64e8e-2e37-4fdd-a680-bbdacc15e53b', ...)]\n",
      "E-1001 (BAD_COLUMN_NAME): Glyph refers to nonexistent column name: width, width_alpha [renderer: GlyphRenderer(id='7b1e54dd-c8bf-4c64-918e-b222183c4134', ...)]\n",
      "E-1001 (BAD_COLUMN_NAME): Glyph refers to nonexistent column name: age, fi_color2, fi_color3, tgtdivsrc, tgtdivsrcstgt [renderer: GlyphRenderer(id='36c6a626-9c2f-4e4a-8c70-8035eeb1bd75', ...)]\n",
      "E-1001 (BAD_COLUMN_NAME): Glyph refers to nonexistent column name: dom_by, dom_index, fi_color, size_dim [renderer: GlyphRenderer(id='f1c8eb1f-5b59-4113-b95c-01b8a48779ce', ...)]\n",
      "E-1001 (BAD_COLUMN_NAME): Glyph refers to nonexistent column name: width, width_alpha [renderer: GlyphRenderer(id='57b6c039-3538-4bc9-a1be-0794f5277577', ...)]\n",
      "E-1001 (BAD_COLUMN_NAME): Glyph refers to nonexistent column name: width, width_alpha [renderer: GlyphRenderer(id='f871d0f3-277c-477c-b46b-ebbaf7d50e2a', ...)]\n",
      "E-1001 (BAD_COLUMN_NAME): Glyph refers to nonexistent column name: age, fi_color2, fi_color3, tgtdivsrc, tgtdivsrcstgt [renderer: GlyphRenderer(id='054c0f51-7832-44ca-a2eb-683bff911e4e', ...)]\n",
      "E-1001 (BAD_COLUMN_NAME): Glyph refers to nonexistent column name: dom_by, dom_index, fi_color, size_dim [renderer: GlyphRenderer(id='ed12d3e8-b77a-4e0a-8a56-341f9af35d03', ...)]\n",
      "E-1001 (BAD_COLUMN_NAME): Glyph refers to nonexistent column name: width, width_alpha [renderer: GlyphRenderer(id='248beac9-253b-4eb3-b35b-2e497466407a', ...)]\n",
      "E-1001 (BAD_COLUMN_NAME): Glyph refers to nonexistent column name: width, width_alpha [renderer: GlyphRenderer(id='e490113f-3315-4457-a0c7-d51f6449b1fc', ...)]\n",
      "E-1001 (BAD_COLUMN_NAME): Glyph refers to nonexistent column name: age, fi_color2, fi_color3, tgtdivsrc, tgtdivsrcstgt [renderer: GlyphRenderer(id='540335fa-1348-4680-8778-c6b3ac87a5d3', ...)]\n",
      "E-1001 (BAD_COLUMN_NAME): Glyph refers to nonexistent column name: dom_by, dom_index, fi_color, size_dim [renderer: GlyphRenderer(id='0913b0e7-e5db-4a36-83d7-633838da9a9a', ...)]\n",
      "E-1001 (BAD_COLUMN_NAME): Glyph refers to nonexistent column name: width, width_alpha [renderer: GlyphRenderer(id='0ea398a7-945a-45d1-8d74-fe5e008b5529', ...)]\n",
      "E-1001 (BAD_COLUMN_NAME): Glyph refers to nonexistent column name: width, width_alpha [renderer: GlyphRenderer(id='7c6836e5-4738-4451-9730-fba3a52b6779', ...)]\n",
      "E-1001 (BAD_COLUMN_NAME): Glyph refers to nonexistent column name: age, fi_color2, fi_color3, tgtdivsrc, tgtdivsrcstgt [renderer: GlyphRenderer(id='7c08d417-5f5b-4bd8-b62b-72a4665f59d0', ...)]\n",
      "E-1001 (BAD_COLUMN_NAME): Glyph refers to nonexistent column name: dom_by, dom_index, fi_color, size_dim [renderer: GlyphRenderer(id='10616925-93e5-4e45-afa4-ea1c847acc8f', ...)]\n",
      "E-1001 (BAD_COLUMN_NAME): Glyph refers to nonexistent column name: width, width_alpha [renderer: GlyphRenderer(id='5f81e944-42c0-4a2b-861c-e5bab0be9430', ...)]\n",
      "E-1001 (BAD_COLUMN_NAME): Glyph refers to nonexistent column name: width, width_alpha [renderer: GlyphRenderer(id='f636206a-aebb-4388-a230-d77e5d3e6243', ...)]\n",
      "E-1001 (BAD_COLUMN_NAME): Glyph refers to nonexistent column name: age, fi_color2, fi_color3, tgtdivsrc, tgtdivsrcstgt [renderer: GlyphRenderer(id='36a97929-2f87-4d0f-8c72-4f2f33416f59', ...)]\n",
      "E-1001 (BAD_COLUMN_NAME): Glyph refers to nonexistent column name: dom_by, dom_index, fi_color, size_dim [renderer: GlyphRenderer(id='3c906835-6949-478c-bb14-29a141e14a25', ...)]\n"
     ]
    },
    {
     "name": "stderr",
     "output_type": "stream",
     "text": [
      "E-1001 (BAD_COLUMN_NAME): Glyph refers to nonexistent column name: width, width_alpha [renderer: GlyphRenderer(id='bfc12413-3256-497d-9f91-9aab57015001', ...)]\n",
      "E-1001 (BAD_COLUMN_NAME): Glyph refers to nonexistent column name: width, width_alpha [renderer: GlyphRenderer(id='ca4484d8-e08d-44a3-99ed-44c3d0cd6e5d', ...)]\n",
      "E-1001 (BAD_COLUMN_NAME): Glyph refers to nonexistent column name: age, fi_color2, fi_color3, tgtdivsrcstgt [renderer: GlyphRenderer(id='bc4a3310-59de-4d44-8eb2-085a2f36456a', ...)]\n",
      "E-1001 (BAD_COLUMN_NAME): Glyph refers to nonexistent column name: dom_by, dom_index, fi_color, size_dim [renderer: GlyphRenderer(id='dcb1744b-6859-4984-a759-22dc100bb6e7', ...)]\n",
      "E-1001 (BAD_COLUMN_NAME): Glyph refers to nonexistent column name: width, width_alpha [renderer: GlyphRenderer(id='0c974d06-969e-4f88-9503-b622b59dec92', ...)]\n",
      "E-1001 (BAD_COLUMN_NAME): Glyph refers to nonexistent column name: width, width_alpha [renderer: GlyphRenderer(id='656c8002-59c7-42f4-a8e6-b76c148d5807', ...)]\n",
      "E-1001 (BAD_COLUMN_NAME): Glyph refers to nonexistent column name: age, fi_color2, fi_color3, tgtdivsrcstgt [renderer: GlyphRenderer(id='888f491b-a73b-41ba-8411-0b858475fccc', ...)]\n",
      "E-1001 (BAD_COLUMN_NAME): Glyph refers to nonexistent column name: dom_by, dom_index, fi_color, size_dim [renderer: GlyphRenderer(id='84d9d0d6-525e-4242-9fff-02d3c9fb1f56', ...)]\n",
      "E-1001 (BAD_COLUMN_NAME): Glyph refers to nonexistent column name: width, width_alpha [renderer: GlyphRenderer(id='207477de-6a1b-4831-8d62-cd8f57e67b4a', ...)]\n",
      "E-1001 (BAD_COLUMN_NAME): Glyph refers to nonexistent column name: width, width_alpha [renderer: GlyphRenderer(id='9dfd64e0-95d0-4af3-91b0-a56f197b76c5', ...)]\n",
      "E-1001 (BAD_COLUMN_NAME): Glyph refers to nonexistent column name: age, fi_color2, fi_color3, tgtdivsrcstgt [renderer: GlyphRenderer(id='630831c0-b882-4814-b776-99e14c941148', ...)]\n",
      "E-1001 (BAD_COLUMN_NAME): Glyph refers to nonexistent column name: dom_by, dom_index, fi_color, size_dim [renderer: GlyphRenderer(id='d1cf7574-f06e-4e6a-8b2e-7d0fd0ad748e', ...)]\n",
      "E-1001 (BAD_COLUMN_NAME): Glyph refers to nonexistent column name: width, width_alpha [renderer: GlyphRenderer(id='1e905255-7bac-4ac5-a89a-3f9b6177ffff', ...)]\n",
      "E-1001 (BAD_COLUMN_NAME): Glyph refers to nonexistent column name: width, width_alpha [renderer: GlyphRenderer(id='5516c22c-82f2-404b-9ce4-475a905b5f4f', ...)]\n",
      "E-1001 (BAD_COLUMN_NAME): Glyph refers to nonexistent column name: age, fi_color2, fi_color3, tgtdivsrcstgt [renderer: GlyphRenderer(id='045d839d-e60a-42ad-b409-2d0402cf596e', ...)]\n",
      "E-1001 (BAD_COLUMN_NAME): Glyph refers to nonexistent column name: dom_by, dom_index, fi_color, size_dim [renderer: GlyphRenderer(id='4728cefa-4fcd-4135-ad82-46d7acdcf5d7', ...)]\n",
      "E-1001 (BAD_COLUMN_NAME): Glyph refers to nonexistent column name: width, width_alpha [renderer: GlyphRenderer(id='1583181a-8c59-46f7-806e-a8e51e5d50b9', ...)]\n",
      "E-1001 (BAD_COLUMN_NAME): Glyph refers to nonexistent column name: width, width_alpha [renderer: GlyphRenderer(id='b2f303f1-2678-4ea4-a5be-122168c99d63', ...)]\n",
      "E-1001 (BAD_COLUMN_NAME): Glyph refers to nonexistent column name: age, fi_color2, fi_color3, tgtdivsrcstgt [renderer: GlyphRenderer(id='075c93d8-164c-4977-86c3-c5299df4b968', ...)]\n",
      "E-1001 (BAD_COLUMN_NAME): Glyph refers to nonexistent column name: dom_by, dom_index, fi_color, size_dim [renderer: GlyphRenderer(id='bcf9408b-c21c-4665-b66a-fbf0bbca9f94', ...)]\n",
      "E-1001 (BAD_COLUMN_NAME): Glyph refers to nonexistent column name: width, width_alpha [renderer: GlyphRenderer(id='20669205-7b41-4cf5-8adb-083cd3a589a0', ...)]\n",
      "E-1001 (BAD_COLUMN_NAME): Glyph refers to nonexistent column name: width, width_alpha [renderer: GlyphRenderer(id='64f508b4-3d2b-4ffd-b4da-5bf906a5d0c4', ...)]\n"
     ]
    }
   ],
   "source": [
    "#First Plot\n",
    "N1 = len(X.nodes)\n",
    "node_indices = list(range(N1))\n",
    "plot_options = dict(width=400, plot_height=400)\n",
    "nds_dom_pt=nodes['DominatedOthersPCGT'].tolist()\n",
    "nd_idx = [i+1 for i in node_indices]\n",
    "#tgtdivsrcstgt-tgtdivsrc\n",
    "node_src = dict(index=nd_idx, dom_oth_pcgt = nds_dom_pt,\n",
    "                                    size_dim = nodes['DominatedOthersPCGT']*300,\n",
    "                                    dom_index = 30/nodes['DomBy/DomOthers'],\n",
    "                                    dom_by = nodes['DominatedBy']/7,\n",
    "                                    fi_color = nodes['DomBy/DomOthers_color'],\n",
    "                                    fi_color2 = nodes['Tgts/Srcs_color'],\n",
    "                                    fi_color3 = nodes['WonColor'],\n",
    "                                    age = nodes['age']/60,\n",
    "                                    tgtdivsrcstgt=nodes['Tgts/Srcs']*30#,\n",
    "                                    #tgtdivsrc = 1              \n",
    "               )\n",
    "\n",
    "edge_src = dict(start=edges['source'],end=edges['target'],\n",
    "                                     width=edges['weight'],\n",
    "                                     edge_col=edges['weight_color'],\n",
    "                                     width_alpha=edges['weight']/2,\n",
    "                                     edges_src=edges['source'],\n",
    "                                     edges_tgt=edges['target'])\n",
    "\n",
    "s1 = figure(title=\"Graph Layout Demonstration\", x_range=(-1.1,1.1)\n",
    "            , y_range=(-1.1,1.1),tools='pan,wheel_zoom,tap,xbox_select', toolbar_location=\"right\", **plot_options)\n",
    "\n",
    "s1.add_tools(HoverTool(tooltips=[(\"Source\", \"@edges_src\"),\n",
    "                                (\"Target\", \"@edges_tgt\"),(\"Weight\",\"@width\")]), \n",
    "            TapTool(), BoxSelectTool(), BoxZoomTool(),WheelZoomTool())\n",
    "\n",
    "graph1 = from_networkx(X,nx.shell_layout, center=(0,0))\n",
    "\n",
    "pos = nx.shell_layout(X)\n",
    "x,y=zip(*pos.values())\n",
    "\n",
    "src = ColumnDataSource({'x':x,'y':y,'nodeid':nd_idx})\n",
    "labels = LabelSet(x='x', y='y', text='nodeid', source=src)\n",
    "s1.title.text_color = \"blue\"\n",
    "s1.title.text_font = \"verdana\"\n",
    "s1.title.text_font_style = \"italic\"\n",
    "\n",
    "graph1.node_renderer.glyph = Circle(size=\"size_dim\", fill_alpha=\"dom_index\",\n",
    "                                            line_color = \"firebrick\",\n",
    "                                            line_dash = [1, 1],\n",
    "                                            line_width = \"dom_by\",\n",
    "                                            fill_color=\"fi_color\"\n",
    "                                            \n",
    "                                            )\n",
    "graph1.node_renderer.selection_glyph = Circle(size=\"size_dim\", fill_alpha=\"dom_index\",\n",
    "                                            line_color = \"firebrick\",\n",
    "                                            line_dash = [1, 1],\n",
    "                                            line_width = \"dom_by\",\n",
    "                                            fill_color=\"fi_color\")\n",
    "\n",
    "graph1.node_renderer.hover_glyph = Circle(size=\"size_dim\", fill_alpha=\"dom_index\", \n",
    "                                            line_color = \"firebrick\",\n",
    "                                            line_dash = [1, 1],\n",
    "                                            line_width = \"dom_by\",\n",
    "                                            fill_color=\"fi_color\")\n",
    "\n",
    "graph1.node_renderer.data_source.data = node_src\n",
    "\n",
    "graph1.edge_renderer.glyph = MultiLine(line_color=\"#bdbdbd\", line_alpha=\"width_alpha\",\n",
    "                                               line_dash=\"dotted\", line_width=\"width\")\n",
    "\n",
    "graph1.edge_renderer.selection_glyph = MultiLine(line_color=\"edge_col\", line_width=\"width\")\n",
    "graph1.edge_renderer.hover_glyph = MultiLine(line_color=\"edge_col\", line_width=\"width\")\n",
    "graph1.edge_renderer.data_source.data = edge_src\n",
    "\n",
    "legend1 = Legend(items=[(\"Node ID\",[])], location=\"top_right\")\n",
    "\n",
    "\n",
    "graph1.selection_policy = NodesAndLinkedEdges()\n",
    "graph1.inspection_policy = EdgesAndLinkedNodes()\n",
    "\n",
    "s1.renderers.append(graph1)\n",
    "\n",
    "s1.renderers.append(labels)\n",
    "s1.renderers.append(graph1)\n",
    "s1.add_layout(legend1)\n",
    "\n",
    "##Second Plot\n",
    "N2 = len(X.nodes)\n",
    "node_indices2 = list(range(N2))\n",
    "\n",
    "s2 = figure(x_range=s1.x_range, y_range=s1.y_range,\n",
    "               title=\"Second Graph\",tools='pan,wheel_zoom,tap,xbox_select', \n",
    "                toolbar_location=\"right\", **plot_options)\n",
    "\n",
    "s2.add_tools(HoverTool(tooltips=[(\"Source\", \"@edges_src\"),\n",
    "                                (\"Target\", \"@edges_tgt\"),(\"Weight\",\"@width\")]), \n",
    "            TapTool(), BoxSelectTool(), BoxZoomTool(),WheelZoomTool())\n",
    "\n",
    "graph2 = from_networkx(X,nx.shell_layout, center=(0,0))\n",
    "\n",
    "s2.title.text_color = \"blue\"\n",
    "s2.title.text_font = \"verdana\"\n",
    "s2.title.text_font_style = \"italic\"                                    \n",
    "\n",
    "graph2.node_renderer.glyph = Rect(x=\"age\", y=\"age\",width=\"age\",height=\"age\",angle=-0.7,\n",
    "                                            fill_alpha=\"tgtdivsrcstgt\",\n",
    "                                            line_color = \"fi_color3\",\n",
    "                                            line_dash = \"solid\",\n",
    "                                            line_width = 5,#\"tgtdivsrc\",\n",
    "                                            fill_color=\"fi_color2\"\n",
    "                                 )\n",
    "graph2.node_renderer.selection_glyph = Rect(x=\"age\", y=\"age\",width=\"age\",height=\"age\",angle=-0.7,\n",
    "                                            fill_alpha=\"tgtdivsrcstgt\",\n",
    "                                            line_color = \"fi_color3\",\n",
    "                                            line_dash = \"solid\",\n",
    "                                            line_width = 5,#\"tgtdivsrc\",\n",
    "                                            fill_color=\"fi_color2\"\n",
    "                                            \n",
    "                                            )\n",
    "\n",
    "graph2.node_renderer.hover_glyph = Rect(x=\"age\", y=\"age\",width=\"age\",height=\"age\",angle=-0.7,\n",
    "                                            fill_alpha=\"tgtdivsrcstgt\",\n",
    "                                            line_color = \"fi_color3\",\n",
    "                                            line_dash = \"solid\",\n",
    "                                            line_width = 5,#\"tgtdivsrc\",\n",
    "                                            fill_color=\"fi_color2\"\n",
    "                                            \n",
    "                                            )\n",
    "\n",
    "graph2.node_renderer.data_source.data = node_src\n",
    "\n",
    "graph2.edge_renderer.glyph = MultiLine(line_color=\"#bdbdbd\", line_alpha=\"width_alpha\",\n",
    "                                               line_dash=\"dotted\", line_width=\"width\")\n",
    "\n",
    "graph2.edge_renderer.selection_glyph = MultiLine(line_color=\"edge_col\", line_width=\"width\")\n",
    "graph2.edge_renderer.hover_glyph = MultiLine(line_color=\"edge_col\", line_width=\"width\")\n",
    "graph2.edge_renderer.data_source.data = edge_src\n",
    "\n",
    "\n",
    "legend2 = Legend(items=[(\"Node ID\",[])], location=\"top_right\")\n",
    "\n",
    "graph2.selection_policy = NodesAndLinkedEdges()\n",
    "graph2.inspection_policy = EdgesAndLinkedNodes()\n",
    "\n",
    "s2.renderers.append(graph2)\n",
    "\n",
    "s2.renderers.append(labels)\n",
    "s2.renderers.append(graph2)\n",
    "s2.add_layout(legend2)\n",
    "\n",
    "p = gridplot([[s1, s2]])\n",
    "\n",
    "show(p)\n"
   ]
  },
  {
   "cell_type": "code",
   "execution_count": null,
   "metadata": {
    "collapsed": true
   },
   "outputs": [],
   "source": [
    "nodes.head(2)"
   ]
  },
  {
   "cell_type": "code",
   "execution_count": null,
   "metadata": {
    "collapsed": true
   },
   "outputs": [],
   "source": [
    "#fillalpha: nodes['TargetsPerSource']/nodes['DominatedOthers'])*10,\n",
    "#linewidth: nodes['Tgts/Srcs']"
   ]
  },
  {
   "cell_type": "code",
   "execution_count": null,
   "metadata": {
    "collapsed": true
   },
   "outputs": [],
   "source": [
    "type(Spectral8)"
   ]
  },
  {
   "cell_type": "code",
   "execution_count": 49,
   "metadata": {},
   "outputs": [],
   "source": [
    "from bokeh.models import LinearColorMapper, ColorBar, Ticker, LogTicker, BasicTicker\n",
    "from bokeh.palettes import YlOrBr8,Oranges8\n",
    "\n",
    "source = ColumnDataSource(dict(nodes))\n",
    "color_mapper = LinearColorMapper(palette=Oranges8, low=nodes.WonPCGT.max(), high=nodes.WonPCGT.min())\n",
    "\n",
    "tls=\"crosshair,pan,wheel_zoom,box_zoom,reset,hover,previewsave\"\n",
    "\n",
    "p = figure(x_axis_label='TargetsPerSource', y_axis_label='SourcesPerTarget', tools=tls, toolbar_location='above')\n",
    "p.circle(x='TargetsPerSource', y='SourcesPerTarget', color={'field': 'WonPCGT', 'transform': color_mapper}, \n",
    "         size=20, alpha=0.6, source=source)\n",
    "hover =p.select(dict(type=HoverTool))\n",
    "hover.tooltips = dict([\n",
    "    (\"Node ID\", \"@id\"),\n",
    "])\n",
    "\n",
    "color_bar = ColorBar(color_mapper=color_mapper, \n",
    "                     label_standoff=12, \n",
    "                     location=(0,0), \n",
    "                     orientation='vertical', \n",
    "                     title='WonPCGT',\n",
    "                    ticker=BasicTicker())\n",
    "\n",
    "p.add_layout(color_bar, 'right')\n",
    "\n",
    "show(p)"
   ]
  },
  {
   "cell_type": "code",
   "execution_count": null,
   "metadata": {
    "collapsed": true
   },
   "outputs": [],
   "source": [
    "dict(index=node_indices, dom_oth_pcgt = nds_dom_pt,  size_dim = nodes['DominatedOthersPCGT']*400,\n",
    "                                    dom_index = 30/nodes['DomBy/DomOthers'],\n",
    "                                    dom_by = nodes['DominatedBy']/7,\n",
    "                                    fi_color = Blues8,\n",
    "                                    fi_color2 = Greens8,\n",
    "                                    age = nodes['age']/60,\n",
    "                                    tgtdivsrcstgt=nodes['WonPCGT']*20,\n",
    "                                    tgtdivsrc = nodes['Tgts/Srcs']*3\n",
    "#dom_index is fill for circles\n",
    "#wonpcgt is fill for rect\n",
    "size=\"size_dim\", fill_alpha=\"dom_index\",line_color = \"firebrick\",\n",
    "                                            line_dash = [1, 1],\n",
    "                                            line_width = \"dom_by\",\n",
    "                                            fill_color=\"fi_color\"\n",
    "     \n",
    "     Rect(x=\"age\", y=\"age\",width=\"age\",height=\"age\",angle=-0.7,\n",
    "                                            fill_alpha=\"tgtdivsrcstgt\",\n",
    "                                            line_color = \"#f46d43\",\n",
    "                                            line_dash = \"solid\",\n",
    "                                            line_width = \"tgtdivsrc\",\n",
    "                                            fill_color=\"fi_color2\""
   ]
  },
  {
   "cell_type": "code",
   "execution_count": 113,
   "metadata": {
    "collapsed": true
   },
   "outputs": [],
   "source": [
    "#Create Edge Attributes:\n",
    "color_series2 = []\n",
    "for i in nodes['WonPCGT']:\n",
    "    if i<0.2:\n",
    "        color_series2.append(Oranges8[0])\n",
    "    elif i<0.3:\n",
    "        color_series2.append(Oranges8[1])\n",
    "    elif i<0.4:\n",
    "        color_series2.append(Oranges8[2])\n",
    "    elif i<0.5:\n",
    "        color_series2.append(Oranges8[3])\n",
    "    elif i<0.6:\n",
    "        color_series2.append(Oranges8[4])\n",
    "    elif i<0.7:\n",
    "        color_series2.append(Oranges8[5])\n",
    "    elif i<0.8:\n",
    "        color_series2.append(Oranges8[6])\n",
    "    else:\n",
    "        color_series2.append(Oranges8[7])"
   ]
  },
  {
   "cell_type": "code",
   "execution_count": 114,
   "metadata": {
    "collapsed": true
   },
   "outputs": [],
   "source": [
    "nodes['WonColor'] = color_series2"
   ]
  },
  {
   "cell_type": "code",
   "execution_count": 101,
   "metadata": {
    "collapsed": true
   },
   "outputs": [],
   "source": [
    "color_series3 = []\n",
    "for i in 1/nodes['DomBy/DomOthers']:\n",
    "    if i<0.5:\n",
    "        color_series3.append(Blues8[0])\n",
    "    elif i<1:\n",
    "        color_series3.append(Blues8[1])\n",
    "    elif i<1.5:\n",
    "        color_series3.append(Blues8[2])\n",
    "    elif i<2:\n",
    "        color_series3.append(Blues8[3])\n",
    "    elif i<2.5:\n",
    "        color_series3.append(Blues8[4])\n",
    "    elif i<3:\n",
    "        color_series3.append(Blues8[5])\n",
    "    elif i<3.5:\n",
    "        color_series3.append(Blues8[6])\n",
    "    else:\n",
    "        color_series3.append(Blues8[7])"
   ]
  },
  {
   "cell_type": "code",
   "execution_count": 102,
   "metadata": {
    "collapsed": true
   },
   "outputs": [],
   "source": [
    "nodes['DomBy/DomOthers_color'] = color_series3"
   ]
  },
  {
   "cell_type": "code",
   "execution_count": 133,
   "metadata": {
    "collapsed": true
   },
   "outputs": [],
   "source": [
    "color_series4 = []\n",
    "for i in nodes['Tgts/Srcs']:\n",
    "    if i<1:\n",
    "        color_series4.append(Greens8[0])\n",
    "    elif i<2:\n",
    "        color_series4.append(Greens8[1])\n",
    "    elif i<3:\n",
    "        color_series4.append(Greens8[2])\n",
    "    elif i<4:\n",
    "        color_series4.append(Greens8[3])\n",
    "    elif i<6:\n",
    "        color_series4.append(Greens8[4])\n",
    "    elif i<8:\n",
    "        color_series4.append(Greens8[5])\n",
    "    elif i<9:\n",
    "        color_series4.append(Greens8[6])\n",
    "    else:\n",
    "        color_series4.append(Greens8[7])"
   ]
  },
  {
   "cell_type": "code",
   "execution_count": 134,
   "metadata": {
    "collapsed": true
   },
   "outputs": [],
   "source": [
    "nodes['Tgts/Srcs_color'] = color_series4"
   ]
  },
  {
   "cell_type": "code",
   "execution_count": 132,
   "metadata": {},
   "outputs": [
    {
     "data": {
      "text/plain": [
       "0     6.000000\n",
       "1     2.500000\n",
       "2     2.111111\n",
       "3     1.800000\n",
       "4     0.500000\n",
       "5     0.050000\n",
       "6     8.500000\n",
       "7     3.000000\n",
       "8     2.428571\n",
       "9     2.000000\n",
       "10    1.571429\n",
       "11    1.600000\n",
       "12    1.875000\n",
       "13    1.000000\n",
       "14    1.200000\n",
       "15    0.909091\n",
       "16    0.727273\n",
       "17    0.785714\n",
       "18    0.571429\n",
       "19    0.166667\n",
       "20    0.090909\n",
       "21    4.250000\n",
       "22    0.769231\n",
       "23    0.583333\n",
       "24    0.538462\n",
       "25    0.200000\n",
       "26    0.166667\n",
       "27    4.000000\n",
       "Name: Tgts/Srcs, dtype: float64"
      ]
     },
     "execution_count": 132,
     "metadata": {},
     "output_type": "execute_result"
    }
   ],
   "source": [
    "nodes['Tgts/Srcs']"
   ]
  },
  {
   "cell_type": "code",
   "execution_count": 109,
   "metadata": {},
   "outputs": [
    {
     "data": {
      "text/plain": [
       "0     #f7fcf5\n",
       "1     #c7e9c0\n",
       "2     #41ab5d\n",
       "3     #41ab5d\n",
       "4     #005a32\n",
       "5     #005a32\n",
       "6     #f7fcf5\n",
       "7     #a1d99b\n",
       "8     #a1d99b\n",
       "9     #74c476\n",
       "10    #41ab5d\n",
       "11    #a1d99b\n",
       "12    #41ab5d\n",
       "13    #238b45\n",
       "14    #238b45\n",
       "15    #238b45\n",
       "16    #005a32\n",
       "17    #41ab5d\n",
       "18    #005a32\n",
       "19    #005a32\n",
       "20    #005a32\n",
       "21    #f7fcf5\n",
       "22    #005a32\n",
       "23    #238b45\n",
       "24    #41ab5d\n",
       "25    #005a32\n",
       "26    #005a32\n",
       "27    #a1d99b\n",
       "Name: Tgts/Srcs_color, dtype: object"
      ]
     },
     "execution_count": 109,
     "metadata": {},
     "output_type": "execute_result"
    }
   ],
   "source": [
    "nodes['Tgts/Srcs_color']"
   ]
  },
  {
   "cell_type": "code",
   "execution_count": 131,
   "metadata": {},
   "outputs": [
    {
     "data": {
      "text/html": [
       "<div>\n",
       "<style scoped>\n",
       "    .dataframe tbody tr th:only-of-type {\n",
       "        vertical-align: middle;\n",
       "    }\n",
       "\n",
       "    .dataframe tbody tr th {\n",
       "        vertical-align: top;\n",
       "    }\n",
       "\n",
       "    .dataframe thead th {\n",
       "        text-align: right;\n",
       "    }\n",
       "</style>\n",
       "<table border=\"1\" class=\"dataframe\">\n",
       "  <thead>\n",
       "    <tr style=\"text-align: right;\">\n",
       "      <th></th>\n",
       "      <th>id</th>\n",
       "      <th>age</th>\n",
       "      <th>DominatedBy</th>\n",
       "      <th>DominatedOthers</th>\n",
       "      <th>TargetsPerSource</th>\n",
       "      <th>SourcesPerTarget</th>\n",
       "      <th>DomBy/DomOthers</th>\n",
       "      <th>Tgts/Srcs</th>\n",
       "      <th>DominatedOthersPCGT</th>\n",
       "      <th>DominatedByPCGT</th>\n",
       "      <th>TotalInteractions</th>\n",
       "      <th>WonPCGT</th>\n",
       "      <th>LostPCGT</th>\n",
       "      <th>WonColor</th>\n",
       "      <th>DomBy/DomOthers_color</th>\n",
       "      <th>Tgts/Srcs_color</th>\n",
       "    </tr>\n",
       "  </thead>\n",
       "  <tbody>\n",
       "    <tr>\n",
       "      <th>0</th>\n",
       "      <td>1</td>\n",
       "      <td>8</td>\n",
       "      <td>1</td>\n",
       "      <td>6</td>\n",
       "      <td>6</td>\n",
       "      <td>1</td>\n",
       "      <td>0.266667</td>\n",
       "      <td>6.000000</td>\n",
       "      <td>0.008746</td>\n",
       "      <td>0.001458</td>\n",
       "      <td>7</td>\n",
       "      <td>0.857143</td>\n",
       "      <td>0.142857</td>\n",
       "      <td>#fff5eb</td>\n",
       "      <td>#f7fbff</td>\n",
       "      <td>#005a32</td>\n",
       "    </tr>\n",
       "    <tr>\n",
       "      <th>1</th>\n",
       "      <td>2</td>\n",
       "      <td>8</td>\n",
       "      <td>10</td>\n",
       "      <td>36</td>\n",
       "      <td>15</td>\n",
       "      <td>6</td>\n",
       "      <td>0.377778</td>\n",
       "      <td>2.500000</td>\n",
       "      <td>0.052478</td>\n",
       "      <td>0.014577</td>\n",
       "      <td>46</td>\n",
       "      <td>0.782609</td>\n",
       "      <td>0.217391</td>\n",
       "      <td>#fee6ce</td>\n",
       "      <td>#c6dbef</td>\n",
       "      <td>#005a32</td>\n",
       "    </tr>\n",
       "    <tr>\n",
       "      <th>2</th>\n",
       "      <td>3</td>\n",
       "      <td>4</td>\n",
       "      <td>37</td>\n",
       "      <td>64</td>\n",
       "      <td>19</td>\n",
       "      <td>9</td>\n",
       "      <td>0.678125</td>\n",
       "      <td>2.111111</td>\n",
       "      <td>0.093294</td>\n",
       "      <td>0.053936</td>\n",
       "      <td>101</td>\n",
       "      <td>0.633663</td>\n",
       "      <td>0.366337</td>\n",
       "      <td>#fdd0a2</td>\n",
       "      <td>#4292c6</td>\n",
       "      <td>#005a32</td>\n",
       "    </tr>\n",
       "    <tr>\n",
       "      <th>3</th>\n",
       "      <td>4</td>\n",
       "      <td>7</td>\n",
       "      <td>16</td>\n",
       "      <td>26</td>\n",
       "      <td>18</td>\n",
       "      <td>10</td>\n",
       "      <td>0.715385</td>\n",
       "      <td>1.800000</td>\n",
       "      <td>0.037901</td>\n",
       "      <td>0.023324</td>\n",
       "      <td>42</td>\n",
       "      <td>0.619048</td>\n",
       "      <td>0.380952</td>\n",
       "      <td>#fdd0a2</td>\n",
       "      <td>#4292c6</td>\n",
       "      <td>#005a32</td>\n",
       "    </tr>\n",
       "    <tr>\n",
       "      <th>4</th>\n",
       "      <td>5</td>\n",
       "      <td>8</td>\n",
       "      <td>6</td>\n",
       "      <td>3</td>\n",
       "      <td>3</td>\n",
       "      <td>6</td>\n",
       "      <td>2.100000</td>\n",
       "      <td>0.500000</td>\n",
       "      <td>0.004373</td>\n",
       "      <td>0.008746</td>\n",
       "      <td>9</td>\n",
       "      <td>0.333333</td>\n",
       "      <td>0.666667</td>\n",
       "      <td>#f16913</td>\n",
       "      <td>#084594</td>\n",
       "      <td>#41ab5d</td>\n",
       "    </tr>\n",
       "    <tr>\n",
       "      <th>5</th>\n",
       "      <td>6</td>\n",
       "      <td>3</td>\n",
       "      <td>63</td>\n",
       "      <td>1</td>\n",
       "      <td>1</td>\n",
       "      <td>20</td>\n",
       "      <td>63.100000</td>\n",
       "      <td>0.050000</td>\n",
       "      <td>0.001458</td>\n",
       "      <td>0.091837</td>\n",
       "      <td>64</td>\n",
       "      <td>0.015625</td>\n",
       "      <td>0.984375</td>\n",
       "      <td>#8c2d04</td>\n",
       "      <td>#084594</td>\n",
       "      <td>#f7fcf5</td>\n",
       "    </tr>\n",
       "    <tr>\n",
       "      <th>6</th>\n",
       "      <td>7</td>\n",
       "      <td>5</td>\n",
       "      <td>2</td>\n",
       "      <td>44</td>\n",
       "      <td>17</td>\n",
       "      <td>2</td>\n",
       "      <td>0.145455</td>\n",
       "      <td>8.500000</td>\n",
       "      <td>0.064140</td>\n",
       "      <td>0.002915</td>\n",
       "      <td>46</td>\n",
       "      <td>0.956522</td>\n",
       "      <td>0.043478</td>\n",
       "      <td>#fff5eb</td>\n",
       "      <td>#f7fbff</td>\n",
       "      <td>#005a32</td>\n",
       "    </tr>\n",
       "    <tr>\n",
       "      <th>7</th>\n",
       "      <td>8</td>\n",
       "      <td>4</td>\n",
       "      <td>19</td>\n",
       "      <td>57</td>\n",
       "      <td>15</td>\n",
       "      <td>5</td>\n",
       "      <td>0.433333</td>\n",
       "      <td>3.000000</td>\n",
       "      <td>0.083090</td>\n",
       "      <td>0.027697</td>\n",
       "      <td>76</td>\n",
       "      <td>0.750000</td>\n",
       "      <td>0.250000</td>\n",
       "      <td>#fee6ce</td>\n",
       "      <td>#9ecae1</td>\n",
       "      <td>#005a32</td>\n",
       "    </tr>\n",
       "    <tr>\n",
       "      <th>8</th>\n",
       "      <td>9</td>\n",
       "      <td>7</td>\n",
       "      <td>19</td>\n",
       "      <td>53</td>\n",
       "      <td>17</td>\n",
       "      <td>7</td>\n",
       "      <td>0.458491</td>\n",
       "      <td>2.428571</td>\n",
       "      <td>0.077259</td>\n",
       "      <td>0.027697</td>\n",
       "      <td>72</td>\n",
       "      <td>0.736111</td>\n",
       "      <td>0.263889</td>\n",
       "      <td>#fee6ce</td>\n",
       "      <td>#9ecae1</td>\n",
       "      <td>#005a32</td>\n",
       "    </tr>\n",
       "    <tr>\n",
       "      <th>9</th>\n",
       "      <td>10</td>\n",
       "      <td>9</td>\n",
       "      <td>2</td>\n",
       "      <td>4</td>\n",
       "      <td>4</td>\n",
       "      <td>2</td>\n",
       "      <td>0.600000</td>\n",
       "      <td>2.000000</td>\n",
       "      <td>0.005831</td>\n",
       "      <td>0.002915</td>\n",
       "      <td>6</td>\n",
       "      <td>0.666667</td>\n",
       "      <td>0.333333</td>\n",
       "      <td>#fdd0a2</td>\n",
       "      <td>#6baed6</td>\n",
       "      <td>#005a32</td>\n",
       "    </tr>\n",
       "    <tr>\n",
       "      <th>10</th>\n",
       "      <td>11</td>\n",
       "      <td>6</td>\n",
       "      <td>9</td>\n",
       "      <td>15</td>\n",
       "      <td>11</td>\n",
       "      <td>7</td>\n",
       "      <td>0.700000</td>\n",
       "      <td>1.571429</td>\n",
       "      <td>0.021866</td>\n",
       "      <td>0.013120</td>\n",
       "      <td>24</td>\n",
       "      <td>0.625000</td>\n",
       "      <td>0.375000</td>\n",
       "      <td>#fdd0a2</td>\n",
       "      <td>#4292c6</td>\n",
       "      <td>#005a32</td>\n",
       "    </tr>\n",
       "    <tr>\n",
       "      <th>11</th>\n",
       "      <td>12</td>\n",
       "      <td>4</td>\n",
       "      <td>5</td>\n",
       "      <td>14</td>\n",
       "      <td>8</td>\n",
       "      <td>5</td>\n",
       "      <td>0.457143</td>\n",
       "      <td>1.600000</td>\n",
       "      <td>0.020408</td>\n",
       "      <td>0.007289</td>\n",
       "      <td>19</td>\n",
       "      <td>0.736842</td>\n",
       "      <td>0.263158</td>\n",
       "      <td>#fee6ce</td>\n",
       "      <td>#9ecae1</td>\n",
       "      <td>#005a32</td>\n",
       "    </tr>\n",
       "    <tr>\n",
       "      <th>12</th>\n",
       "      <td>13</td>\n",
       "      <td>9</td>\n",
       "      <td>20</td>\n",
       "      <td>31</td>\n",
       "      <td>15</td>\n",
       "      <td>8</td>\n",
       "      <td>0.745161</td>\n",
       "      <td>1.875000</td>\n",
       "      <td>0.045190</td>\n",
       "      <td>0.029155</td>\n",
       "      <td>51</td>\n",
       "      <td>0.607843</td>\n",
       "      <td>0.392157</td>\n",
       "      <td>#fdd0a2</td>\n",
       "      <td>#4292c6</td>\n",
       "      <td>#005a32</td>\n",
       "    </tr>\n",
       "    <tr>\n",
       "      <th>13</th>\n",
       "      <td>14</td>\n",
       "      <td>1</td>\n",
       "      <td>29</td>\n",
       "      <td>32</td>\n",
       "      <td>12</td>\n",
       "      <td>12</td>\n",
       "      <td>1.006250</td>\n",
       "      <td>1.000000</td>\n",
       "      <td>0.046647</td>\n",
       "      <td>0.042274</td>\n",
       "      <td>61</td>\n",
       "      <td>0.524590</td>\n",
       "      <td>0.475410</td>\n",
       "      <td>#fdae6b</td>\n",
       "      <td>#2171b5</td>\n",
       "      <td>#238b45</td>\n",
       "    </tr>\n",
       "    <tr>\n",
       "      <th>14</th>\n",
       "      <td>15</td>\n",
       "      <td>9</td>\n",
       "      <td>23</td>\n",
       "      <td>25</td>\n",
       "      <td>12</td>\n",
       "      <td>10</td>\n",
       "      <td>1.020000</td>\n",
       "      <td>1.200000</td>\n",
       "      <td>0.036443</td>\n",
       "      <td>0.033528</td>\n",
       "      <td>48</td>\n",
       "      <td>0.520833</td>\n",
       "      <td>0.479167</td>\n",
       "      <td>#fdae6b</td>\n",
       "      <td>#2171b5</td>\n",
       "      <td>#005a32</td>\n",
       "    </tr>\n",
       "    <tr>\n",
       "      <th>15</th>\n",
       "      <td>16</td>\n",
       "      <td>9</td>\n",
       "      <td>20</td>\n",
       "      <td>17</td>\n",
       "      <td>10</td>\n",
       "      <td>11</td>\n",
       "      <td>1.276471</td>\n",
       "      <td>0.909091</td>\n",
       "      <td>0.024781</td>\n",
       "      <td>0.029155</td>\n",
       "      <td>37</td>\n",
       "      <td>0.459459</td>\n",
       "      <td>0.540541</td>\n",
       "      <td>#fd8d3c</td>\n",
       "      <td>#2171b5</td>\n",
       "      <td>#238b45</td>\n",
       "    </tr>\n",
       "    <tr>\n",
       "      <th>16</th>\n",
       "      <td>17</td>\n",
       "      <td>4</td>\n",
       "      <td>19</td>\n",
       "      <td>9</td>\n",
       "      <td>8</td>\n",
       "      <td>11</td>\n",
       "      <td>2.211111</td>\n",
       "      <td>0.727273</td>\n",
       "      <td>0.013120</td>\n",
       "      <td>0.027697</td>\n",
       "      <td>28</td>\n",
       "      <td>0.321429</td>\n",
       "      <td>0.678571</td>\n",
       "      <td>#f16913</td>\n",
       "      <td>#084594</td>\n",
       "      <td>#238b45</td>\n",
       "    </tr>\n",
       "    <tr>\n",
       "      <th>17</th>\n",
       "      <td>18</td>\n",
       "      <td>1</td>\n",
       "      <td>26</td>\n",
       "      <td>36</td>\n",
       "      <td>11</td>\n",
       "      <td>14</td>\n",
       "      <td>0.822222</td>\n",
       "      <td>0.785714</td>\n",
       "      <td>0.052478</td>\n",
       "      <td>0.037901</td>\n",
       "      <td>62</td>\n",
       "      <td>0.580645</td>\n",
       "      <td>0.419355</td>\n",
       "      <td>#fdae6b</td>\n",
       "      <td>#4292c6</td>\n",
       "      <td>#238b45</td>\n",
       "    </tr>\n",
       "    <tr>\n",
       "      <th>18</th>\n",
       "      <td>19</td>\n",
       "      <td>1</td>\n",
       "      <td>51</td>\n",
       "      <td>17</td>\n",
       "      <td>8</td>\n",
       "      <td>14</td>\n",
       "      <td>3.100000</td>\n",
       "      <td>0.571429</td>\n",
       "      <td>0.024781</td>\n",
       "      <td>0.074344</td>\n",
       "      <td>68</td>\n",
       "      <td>0.250000</td>\n",
       "      <td>0.750000</td>\n",
       "      <td>#d94801</td>\n",
       "      <td>#084594</td>\n",
       "      <td>#238b45</td>\n",
       "    </tr>\n",
       "    <tr>\n",
       "      <th>19</th>\n",
       "      <td>20</td>\n",
       "      <td>3</td>\n",
       "      <td>46</td>\n",
       "      <td>5</td>\n",
       "      <td>3</td>\n",
       "      <td>18</td>\n",
       "      <td>9.300000</td>\n",
       "      <td>0.166667</td>\n",
       "      <td>0.007289</td>\n",
       "      <td>0.067055</td>\n",
       "      <td>51</td>\n",
       "      <td>0.098039</td>\n",
       "      <td>0.901961</td>\n",
       "      <td>#8c2d04</td>\n",
       "      <td>#084594</td>\n",
       "      <td>#74c476</td>\n",
       "    </tr>\n",
       "    <tr>\n",
       "      <th>20</th>\n",
       "      <td>21</td>\n",
       "      <td>3</td>\n",
       "      <td>48</td>\n",
       "      <td>11</td>\n",
       "      <td>2</td>\n",
       "      <td>22</td>\n",
       "      <td>4.463636</td>\n",
       "      <td>0.090909</td>\n",
       "      <td>0.016035</td>\n",
       "      <td>0.069971</td>\n",
       "      <td>59</td>\n",
       "      <td>0.186441</td>\n",
       "      <td>0.813559</td>\n",
       "      <td>#8c2d04</td>\n",
       "      <td>#084594</td>\n",
       "      <td>#a1d99b</td>\n",
       "    </tr>\n",
       "    <tr>\n",
       "      <th>21</th>\n",
       "      <td>22</td>\n",
       "      <td>1</td>\n",
       "      <td>11</td>\n",
       "      <td>66</td>\n",
       "      <td>17</td>\n",
       "      <td>4</td>\n",
       "      <td>0.266667</td>\n",
       "      <td>4.250000</td>\n",
       "      <td>0.096210</td>\n",
       "      <td>0.016035</td>\n",
       "      <td>77</td>\n",
       "      <td>0.857143</td>\n",
       "      <td>0.142857</td>\n",
       "      <td>#fff5eb</td>\n",
       "      <td>#f7fbff</td>\n",
       "      <td>#005a32</td>\n",
       "    </tr>\n",
       "    <tr>\n",
       "      <th>22</th>\n",
       "      <td>23</td>\n",
       "      <td>7</td>\n",
       "      <td>57</td>\n",
       "      <td>18</td>\n",
       "      <td>10</td>\n",
       "      <td>13</td>\n",
       "      <td>3.266667</td>\n",
       "      <td>0.769231</td>\n",
       "      <td>0.026239</td>\n",
       "      <td>0.083090</td>\n",
       "      <td>75</td>\n",
       "      <td>0.240000</td>\n",
       "      <td>0.760000</td>\n",
       "      <td>#d94801</td>\n",
       "      <td>#084594</td>\n",
       "      <td>#238b45</td>\n",
       "    </tr>\n",
       "    <tr>\n",
       "      <th>23</th>\n",
       "      <td>24</td>\n",
       "      <td>1</td>\n",
       "      <td>39</td>\n",
       "      <td>26</td>\n",
       "      <td>7</td>\n",
       "      <td>12</td>\n",
       "      <td>1.600000</td>\n",
       "      <td>0.583333</td>\n",
       "      <td>0.037901</td>\n",
       "      <td>0.056851</td>\n",
       "      <td>65</td>\n",
       "      <td>0.400000</td>\n",
       "      <td>0.600000</td>\n",
       "      <td>#fd8d3c</td>\n",
       "      <td>#2171b5</td>\n",
       "      <td>#238b45</td>\n",
       "    </tr>\n",
       "    <tr>\n",
       "      <th>24</th>\n",
       "      <td>25</td>\n",
       "      <td>9</td>\n",
       "      <td>23</td>\n",
       "      <td>26</td>\n",
       "      <td>7</td>\n",
       "      <td>13</td>\n",
       "      <td>0.984615</td>\n",
       "      <td>0.538462</td>\n",
       "      <td>0.037901</td>\n",
       "      <td>0.033528</td>\n",
       "      <td>49</td>\n",
       "      <td>0.530612</td>\n",
       "      <td>0.469388</td>\n",
       "      <td>#fdae6b</td>\n",
       "      <td>#4292c6</td>\n",
       "      <td>#238b45</td>\n",
       "    </tr>\n",
       "    <tr>\n",
       "      <th>25</th>\n",
       "      <td>26</td>\n",
       "      <td>3</td>\n",
       "      <td>55</td>\n",
       "      <td>9</td>\n",
       "      <td>4</td>\n",
       "      <td>20</td>\n",
       "      <td>6.211111</td>\n",
       "      <td>0.200000</td>\n",
       "      <td>0.013120</td>\n",
       "      <td>0.080175</td>\n",
       "      <td>64</td>\n",
       "      <td>0.140625</td>\n",
       "      <td>0.859375</td>\n",
       "      <td>#8c2d04</td>\n",
       "      <td>#084594</td>\n",
       "      <td>#74c476</td>\n",
       "    </tr>\n",
       "    <tr>\n",
       "      <th>26</th>\n",
       "      <td>27</td>\n",
       "      <td>4</td>\n",
       "      <td>17</td>\n",
       "      <td>2</td>\n",
       "      <td>2</td>\n",
       "      <td>12</td>\n",
       "      <td>8.600000</td>\n",
       "      <td>0.166667</td>\n",
       "      <td>0.002915</td>\n",
       "      <td>0.024781</td>\n",
       "      <td>19</td>\n",
       "      <td>0.105263</td>\n",
       "      <td>0.894737</td>\n",
       "      <td>#8c2d04</td>\n",
       "      <td>#084594</td>\n",
       "      <td>#74c476</td>\n",
       "    </tr>\n",
       "    <tr>\n",
       "      <th>27</th>\n",
       "      <td>28</td>\n",
       "      <td>9</td>\n",
       "      <td>13</td>\n",
       "      <td>33</td>\n",
       "      <td>16</td>\n",
       "      <td>4</td>\n",
       "      <td>0.493939</td>\n",
       "      <td>4.000000</td>\n",
       "      <td>0.048105</td>\n",
       "      <td>0.018950</td>\n",
       "      <td>46</td>\n",
       "      <td>0.717391</td>\n",
       "      <td>0.282609</td>\n",
       "      <td>#fee6ce</td>\n",
       "      <td>#9ecae1</td>\n",
       "      <td>#005a32</td>\n",
       "    </tr>\n",
       "  </tbody>\n",
       "</table>\n",
       "</div>"
      ],
      "text/plain": [
       "    id  age  DominatedBy  DominatedOthers  TargetsPerSource  SourcesPerTarget  \\\n",
       "0    1    8            1                6                 6                 1   \n",
       "1    2    8           10               36                15                 6   \n",
       "2    3    4           37               64                19                 9   \n",
       "3    4    7           16               26                18                10   \n",
       "4    5    8            6                3                 3                 6   \n",
       "5    6    3           63                1                 1                20   \n",
       "6    7    5            2               44                17                 2   \n",
       "7    8    4           19               57                15                 5   \n",
       "8    9    7           19               53                17                 7   \n",
       "9   10    9            2                4                 4                 2   \n",
       "10  11    6            9               15                11                 7   \n",
       "11  12    4            5               14                 8                 5   \n",
       "12  13    9           20               31                15                 8   \n",
       "13  14    1           29               32                12                12   \n",
       "14  15    9           23               25                12                10   \n",
       "15  16    9           20               17                10                11   \n",
       "16  17    4           19                9                 8                11   \n",
       "17  18    1           26               36                11                14   \n",
       "18  19    1           51               17                 8                14   \n",
       "19  20    3           46                5                 3                18   \n",
       "20  21    3           48               11                 2                22   \n",
       "21  22    1           11               66                17                 4   \n",
       "22  23    7           57               18                10                13   \n",
       "23  24    1           39               26                 7                12   \n",
       "24  25    9           23               26                 7                13   \n",
       "25  26    3           55                9                 4                20   \n",
       "26  27    4           17                2                 2                12   \n",
       "27  28    9           13               33                16                 4   \n",
       "\n",
       "    DomBy/DomOthers  Tgts/Srcs  DominatedOthersPCGT  DominatedByPCGT  \\\n",
       "0          0.266667   6.000000             0.008746         0.001458   \n",
       "1          0.377778   2.500000             0.052478         0.014577   \n",
       "2          0.678125   2.111111             0.093294         0.053936   \n",
       "3          0.715385   1.800000             0.037901         0.023324   \n",
       "4          2.100000   0.500000             0.004373         0.008746   \n",
       "5         63.100000   0.050000             0.001458         0.091837   \n",
       "6          0.145455   8.500000             0.064140         0.002915   \n",
       "7          0.433333   3.000000             0.083090         0.027697   \n",
       "8          0.458491   2.428571             0.077259         0.027697   \n",
       "9          0.600000   2.000000             0.005831         0.002915   \n",
       "10         0.700000   1.571429             0.021866         0.013120   \n",
       "11         0.457143   1.600000             0.020408         0.007289   \n",
       "12         0.745161   1.875000             0.045190         0.029155   \n",
       "13         1.006250   1.000000             0.046647         0.042274   \n",
       "14         1.020000   1.200000             0.036443         0.033528   \n",
       "15         1.276471   0.909091             0.024781         0.029155   \n",
       "16         2.211111   0.727273             0.013120         0.027697   \n",
       "17         0.822222   0.785714             0.052478         0.037901   \n",
       "18         3.100000   0.571429             0.024781         0.074344   \n",
       "19         9.300000   0.166667             0.007289         0.067055   \n",
       "20         4.463636   0.090909             0.016035         0.069971   \n",
       "21         0.266667   4.250000             0.096210         0.016035   \n",
       "22         3.266667   0.769231             0.026239         0.083090   \n",
       "23         1.600000   0.583333             0.037901         0.056851   \n",
       "24         0.984615   0.538462             0.037901         0.033528   \n",
       "25         6.211111   0.200000             0.013120         0.080175   \n",
       "26         8.600000   0.166667             0.002915         0.024781   \n",
       "27         0.493939   4.000000             0.048105         0.018950   \n",
       "\n",
       "    TotalInteractions   WonPCGT  LostPCGT WonColor DomBy/DomOthers_color  \\\n",
       "0                   7  0.857143  0.142857  #fff5eb               #f7fbff   \n",
       "1                  46  0.782609  0.217391  #fee6ce               #c6dbef   \n",
       "2                 101  0.633663  0.366337  #fdd0a2               #4292c6   \n",
       "3                  42  0.619048  0.380952  #fdd0a2               #4292c6   \n",
       "4                   9  0.333333  0.666667  #f16913               #084594   \n",
       "5                  64  0.015625  0.984375  #8c2d04               #084594   \n",
       "6                  46  0.956522  0.043478  #fff5eb               #f7fbff   \n",
       "7                  76  0.750000  0.250000  #fee6ce               #9ecae1   \n",
       "8                  72  0.736111  0.263889  #fee6ce               #9ecae1   \n",
       "9                   6  0.666667  0.333333  #fdd0a2               #6baed6   \n",
       "10                 24  0.625000  0.375000  #fdd0a2               #4292c6   \n",
       "11                 19  0.736842  0.263158  #fee6ce               #9ecae1   \n",
       "12                 51  0.607843  0.392157  #fdd0a2               #4292c6   \n",
       "13                 61  0.524590  0.475410  #fdae6b               #2171b5   \n",
       "14                 48  0.520833  0.479167  #fdae6b               #2171b5   \n",
       "15                 37  0.459459  0.540541  #fd8d3c               #2171b5   \n",
       "16                 28  0.321429  0.678571  #f16913               #084594   \n",
       "17                 62  0.580645  0.419355  #fdae6b               #4292c6   \n",
       "18                 68  0.250000  0.750000  #d94801               #084594   \n",
       "19                 51  0.098039  0.901961  #8c2d04               #084594   \n",
       "20                 59  0.186441  0.813559  #8c2d04               #084594   \n",
       "21                 77  0.857143  0.142857  #fff5eb               #f7fbff   \n",
       "22                 75  0.240000  0.760000  #d94801               #084594   \n",
       "23                 65  0.400000  0.600000  #fd8d3c               #2171b5   \n",
       "24                 49  0.530612  0.469388  #fdae6b               #4292c6   \n",
       "25                 64  0.140625  0.859375  #8c2d04               #084594   \n",
       "26                 19  0.105263  0.894737  #8c2d04               #084594   \n",
       "27                 46  0.717391  0.282609  #fee6ce               #9ecae1   \n",
       "\n",
       "   Tgts/Srcs_color  \n",
       "0          #005a32  \n",
       "1          #005a32  \n",
       "2          #005a32  \n",
       "3          #005a32  \n",
       "4          #41ab5d  \n",
       "5          #f7fcf5  \n",
       "6          #005a32  \n",
       "7          #005a32  \n",
       "8          #005a32  \n",
       "9          #005a32  \n",
       "10         #005a32  \n",
       "11         #005a32  \n",
       "12         #005a32  \n",
       "13         #238b45  \n",
       "14         #005a32  \n",
       "15         #238b45  \n",
       "16         #238b45  \n",
       "17         #238b45  \n",
       "18         #238b45  \n",
       "19         #74c476  \n",
       "20         #a1d99b  \n",
       "21         #005a32  \n",
       "22         #238b45  \n",
       "23         #238b45  \n",
       "24         #238b45  \n",
       "25         #74c476  \n",
       "26         #74c476  \n",
       "27         #005a32  "
      ]
     },
     "execution_count": 131,
     "metadata": {},
     "output_type": "execute_result"
    }
   ],
   "source": [
    "nodes"
   ]
  },
  {
   "cell_type": "code",
   "execution_count": null,
   "metadata": {
    "collapsed": true
   },
   "outputs": [],
   "source": []
  }
 ],
 "metadata": {
  "kernelspec": {
   "display_name": "Python 3",
   "language": "python",
   "name": "python3"
  },
  "language_info": {
   "codemirror_mode": {
    "name": "ipython",
    "version": 3
   },
   "file_extension": ".py",
   "mimetype": "text/x-python",
   "name": "python",
   "nbconvert_exporter": "python",
   "pygments_lexer": "ipython3",
   "version": "3.6.3"
  }
 },
 "nbformat": 4,
 "nbformat_minor": 2
}
