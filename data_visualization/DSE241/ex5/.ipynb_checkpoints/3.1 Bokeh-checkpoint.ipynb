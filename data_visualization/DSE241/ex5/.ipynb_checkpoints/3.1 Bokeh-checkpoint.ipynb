{
 "cells": [
  {
   "cell_type": "markdown",
   "metadata": {},
   "source": [
    "This section of the tutorial covers the [`bokeh.plotting`](http://bokeh.pydata.org/en/latest/docs/user_guide/plotting.html) \n",
    "interface. This interface is a \"mid-level\" interface, and the main idea can be described by the statement:\n",
    "\n",
    "**Starting from simple default figures (with sensible default tools, grids and axes), add markers and other shapes whose visual attributes are tied to directly data.**\n",
    "\n",
    "We will see that it is possible to customize and change all of the defaults, but having them means that it is possible to get up and running very quickly. "
   ]
  },
  {
   "cell_type": "markdown",
   "metadata": {},
   "source": [
    "# Imports and Setup\n",
    "\n",
    "When using the [`bokeh.plotting`](http://bokeh.pydata.org/en/latest/docs/user_guide/plotting.html) interface, there are a few common imports:\n",
    "* Use the [`figure`](http://bokeh.pydata.org/en/latest/docs/reference/plotting.html#bokeh.plotting.figure) function to  create new plot objects to work with. \n",
    "* Call the functions [`output_file`](http://bokeh.pydata.org/en/latest/docs/reference/resources_embedding.html#bokeh.io.output_file), [`output_notebook`](http://bokeh.pydata.org/en/latest/docs/reference/resources_embedding.html#bokeh.io.output_notebook), and [`output_server`](http://bokeh.pydata.org/en/latest/docs/reference/resources_embedding.html#bokeh.io.output_server) (possibly in combination) to tell Bokeh how to display or save output. \n",
    "* Execute [`show`](http://bokeh.pydata.org/en/latest/docs/reference/resources_embedding.html#bokeh.io.show) and  [`save`](http://bokeh.pydata.org/en/latest/docs/reference/resources_embedding.html#bokeh.io.save) to display or save plots and layouts."
   ]
  },
  {
   "cell_type": "code",
   "execution_count": 1,
   "metadata": {
    "collapsed": true
   },
   "outputs": [],
   "source": [
    "from bokeh.io import output_notebook, show\n",
    "from bokeh.plotting import figure"
   ]
  },
  {
   "cell_type": "code",
   "execution_count": null,
   "metadata": {
    "collapsed": true
   },
   "outputs": [],
   "source": []
  },
  {
   "cell_type": "markdown",
   "metadata": {},
   "source": [
    "In this case, we are in the Jupyter notebook, so call `output_notebook()`. We only need to call this once, and all subsequent calls to `show()` will display inline in the notebook."
   ]
  },
  {
   "cell_type": "code",
   "execution_count": 2,
   "metadata": {},
   "outputs": [
    {
     "data": {
      "text/html": [
       "\n",
       "    <div class=\"bk-root\">\n",
       "        <a href=\"https://bokeh.pydata.org\" target=\"_blank\" class=\"bk-logo bk-logo-small bk-logo-notebook\"></a>\n",
       "        <span id=\"99355098-c8e5-4693-aa52-6f96cec0b3ef\">Loading BokehJS ...</span>\n",
       "    </div>"
      ]
     },
     "metadata": {},
     "output_type": "display_data"
    },
    {
     "data": {
      "application/javascript": [
       "\n",
       "(function(root) {\n",
       "  function now() {\n",
       "    return new Date();\n",
       "  }\n",
       "\n",
       "  var force = true;\n",
       "\n",
       "  if (typeof (root._bokeh_onload_callbacks) === \"undefined\" || force === true) {\n",
       "    root._bokeh_onload_callbacks = [];\n",
       "    root._bokeh_is_loading = undefined;\n",
       "  }\n",
       "\n",
       "  var JS_MIME_TYPE = 'application/javascript';\n",
       "  var HTML_MIME_TYPE = 'text/html';\n",
       "  var EXEC_MIME_TYPE = 'application/vnd.bokehjs_exec.v0+json';\n",
       "  var CLASS_NAME = 'output_bokeh rendered_html';\n",
       "\n",
       "  /**\n",
       "   * Render data to the DOM node\n",
       "   */\n",
       "  function render(props, node) {\n",
       "    var script = document.createElement(\"script\");\n",
       "    node.appendChild(script);\n",
       "  }\n",
       "\n",
       "  /**\n",
       "   * Handle when an output is cleared or removed\n",
       "   */\n",
       "  function handleClearOutput(event, handle) {\n",
       "    var cell = handle.cell;\n",
       "\n",
       "    var id = cell.output_area._bokeh_element_id;\n",
       "    var server_id = cell.output_area._bokeh_server_id;\n",
       "    // Clean up Bokeh references\n",
       "    if (id !== undefined) {\n",
       "      Bokeh.index[id].model.document.clear();\n",
       "      delete Bokeh.index[id];\n",
       "    }\n",
       "\n",
       "    if (server_id !== undefined) {\n",
       "      // Clean up Bokeh references\n",
       "      var cmd = \"from bokeh.io.state import curstate; print(curstate().uuid_to_server['\" + server_id + \"'].get_sessions()[0].document.roots[0]._id)\";\n",
       "      cell.notebook.kernel.execute(cmd, {\n",
       "        iopub: {\n",
       "          output: function(msg) {\n",
       "            var element_id = msg.content.text.trim();\n",
       "            Bokeh.index[element_id].model.document.clear();\n",
       "            delete Bokeh.index[element_id];\n",
       "          }\n",
       "        }\n",
       "      });\n",
       "      // Destroy server and session\n",
       "      var cmd = \"import bokeh.io.notebook as ion; ion.destroy_server('\" + server_id + \"')\";\n",
       "      cell.notebook.kernel.execute(cmd);\n",
       "    }\n",
       "  }\n",
       "\n",
       "  /**\n",
       "   * Handle when a new output is added\n",
       "   */\n",
       "  function handleAddOutput(event, handle) {\n",
       "    var output_area = handle.output_area;\n",
       "    var output = handle.output;\n",
       "\n",
       "    // limit handleAddOutput to display_data with EXEC_MIME_TYPE content only\n",
       "    if ((output.output_type != \"display_data\") || (!output.data.hasOwnProperty(EXEC_MIME_TYPE))) {\n",
       "      return\n",
       "    }\n",
       "\n",
       "    var toinsert = output_area.element.find(\".\" + CLASS_NAME.split(' ')[0]);\n",
       "\n",
       "    if (output.metadata[EXEC_MIME_TYPE][\"id\"] !== undefined) {\n",
       "      toinsert[0].firstChild.textContent = output.data[JS_MIME_TYPE];\n",
       "      // store reference to embed id on output_area\n",
       "      output_area._bokeh_element_id = output.metadata[EXEC_MIME_TYPE][\"id\"];\n",
       "    }\n",
       "    if (output.metadata[EXEC_MIME_TYPE][\"server_id\"] !== undefined) {\n",
       "      var bk_div = document.createElement(\"div\");\n",
       "      bk_div.innerHTML = output.data[HTML_MIME_TYPE];\n",
       "      var script_attrs = bk_div.children[0].attributes;\n",
       "      for (var i = 0; i < script_attrs.length; i++) {\n",
       "        toinsert[0].firstChild.setAttribute(script_attrs[i].name, script_attrs[i].value);\n",
       "      }\n",
       "      // store reference to server id on output_area\n",
       "      output_area._bokeh_server_id = output.metadata[EXEC_MIME_TYPE][\"server_id\"];\n",
       "    }\n",
       "  }\n",
       "\n",
       "  function register_renderer(events, OutputArea) {\n",
       "\n",
       "    function append_mime(data, metadata, element) {\n",
       "      // create a DOM node to render to\n",
       "      var toinsert = this.create_output_subarea(\n",
       "        metadata,\n",
       "        CLASS_NAME,\n",
       "        EXEC_MIME_TYPE\n",
       "      );\n",
       "      this.keyboard_manager.register_events(toinsert);\n",
       "      // Render to node\n",
       "      var props = {data: data, metadata: metadata[EXEC_MIME_TYPE]};\n",
       "      render(props, toinsert[0]);\n",
       "      element.append(toinsert);\n",
       "      return toinsert\n",
       "    }\n",
       "\n",
       "    /* Handle when an output is cleared or removed */\n",
       "    events.on('clear_output.CodeCell', handleClearOutput);\n",
       "    events.on('delete.Cell', handleClearOutput);\n",
       "\n",
       "    /* Handle when a new output is added */\n",
       "    events.on('output_added.OutputArea', handleAddOutput);\n",
       "\n",
       "    /**\n",
       "     * Register the mime type and append_mime function with output_area\n",
       "     */\n",
       "    OutputArea.prototype.register_mime_type(EXEC_MIME_TYPE, append_mime, {\n",
       "      /* Is output safe? */\n",
       "      safe: true,\n",
       "      /* Index of renderer in `output_area.display_order` */\n",
       "      index: 0\n",
       "    });\n",
       "  }\n",
       "\n",
       "  // register the mime type if in Jupyter Notebook environment and previously unregistered\n",
       "  if (root.Jupyter !== undefined) {\n",
       "    var events = require('base/js/events');\n",
       "    var OutputArea = require('notebook/js/outputarea').OutputArea;\n",
       "\n",
       "    if (OutputArea.prototype.mime_types().indexOf(EXEC_MIME_TYPE) == -1) {\n",
       "      register_renderer(events, OutputArea);\n",
       "    }\n",
       "  }\n",
       "\n",
       "  \n",
       "  if (typeof (root._bokeh_timeout) === \"undefined\" || force === true) {\n",
       "    root._bokeh_timeout = Date.now() + 5000;\n",
       "    root._bokeh_failed_load = false;\n",
       "  }\n",
       "\n",
       "  var NB_LOAD_WARNING = {'data': {'text/html':\n",
       "     \"<div style='background-color: #fdd'>\\n\"+\n",
       "     \"<p>\\n\"+\n",
       "     \"BokehJS does not appear to have successfully loaded. If loading BokehJS from CDN, this \\n\"+\n",
       "     \"may be due to a slow or bad network connection. Possible fixes:\\n\"+\n",
       "     \"</p>\\n\"+\n",
       "     \"<ul>\\n\"+\n",
       "     \"<li>re-rerun `output_notebook()` to attempt to load from CDN again, or</li>\\n\"+\n",
       "     \"<li>use INLINE resources instead, as so:</li>\\n\"+\n",
       "     \"</ul>\\n\"+\n",
       "     \"<code>\\n\"+\n",
       "     \"from bokeh.resources import INLINE\\n\"+\n",
       "     \"output_notebook(resources=INLINE)\\n\"+\n",
       "     \"</code>\\n\"+\n",
       "     \"</div>\"}};\n",
       "\n",
       "  function display_loaded() {\n",
       "    var el = document.getElementById(\"99355098-c8e5-4693-aa52-6f96cec0b3ef\");\n",
       "    if (el != null) {\n",
       "      el.textContent = \"BokehJS is loading...\";\n",
       "    }\n",
       "    if (root.Bokeh !== undefined) {\n",
       "      if (el != null) {\n",
       "        el.textContent = \"BokehJS \" + root.Bokeh.version + \" successfully loaded.\";\n",
       "      }\n",
       "    } else if (Date.now() < root._bokeh_timeout) {\n",
       "      setTimeout(display_loaded, 100)\n",
       "    }\n",
       "  }\n",
       "\n",
       "\n",
       "  function run_callbacks() {\n",
       "    try {\n",
       "      root._bokeh_onload_callbacks.forEach(function(callback) { callback() });\n",
       "    }\n",
       "    finally {\n",
       "      delete root._bokeh_onload_callbacks\n",
       "    }\n",
       "    console.info(\"Bokeh: all callbacks have finished\");\n",
       "  }\n",
       "\n",
       "  function load_libs(js_urls, callback) {\n",
       "    root._bokeh_onload_callbacks.push(callback);\n",
       "    if (root._bokeh_is_loading > 0) {\n",
       "      console.log(\"Bokeh: BokehJS is being loaded, scheduling callback at\", now());\n",
       "      return null;\n",
       "    }\n",
       "    if (js_urls == null || js_urls.length === 0) {\n",
       "      run_callbacks();\n",
       "      return null;\n",
       "    }\n",
       "    console.log(\"Bokeh: BokehJS not loaded, scheduling load and callback at\", now());\n",
       "    root._bokeh_is_loading = js_urls.length;\n",
       "    for (var i = 0; i < js_urls.length; i++) {\n",
       "      var url = js_urls[i];\n",
       "      var s = document.createElement('script');\n",
       "      s.src = url;\n",
       "      s.async = false;\n",
       "      s.onreadystatechange = s.onload = function() {\n",
       "        root._bokeh_is_loading--;\n",
       "        if (root._bokeh_is_loading === 0) {\n",
       "          console.log(\"Bokeh: all BokehJS libraries loaded\");\n",
       "          run_callbacks()\n",
       "        }\n",
       "      };\n",
       "      s.onerror = function() {\n",
       "        console.warn(\"failed to load library \" + url);\n",
       "      };\n",
       "      console.log(\"Bokeh: injecting script tag for BokehJS library: \", url);\n",
       "      document.getElementsByTagName(\"head\")[0].appendChild(s);\n",
       "    }\n",
       "  };var element = document.getElementById(\"99355098-c8e5-4693-aa52-6f96cec0b3ef\");\n",
       "  if (element == null) {\n",
       "    console.log(\"Bokeh: ERROR: autoload.js configured with elementid '99355098-c8e5-4693-aa52-6f96cec0b3ef' but no matching script tag was found. \")\n",
       "    return false;\n",
       "  }\n",
       "\n",
       "  var js_urls = [\"https://cdn.pydata.org/bokeh/release/bokeh-0.12.13.min.js\", \"https://cdn.pydata.org/bokeh/release/bokeh-widgets-0.12.13.min.js\", \"https://cdn.pydata.org/bokeh/release/bokeh-tables-0.12.13.min.js\", \"https://cdn.pydata.org/bokeh/release/bokeh-gl-0.12.13.min.js\"];\n",
       "\n",
       "  var inline_js = [\n",
       "    function(Bokeh) {\n",
       "      Bokeh.set_log_level(\"info\");\n",
       "    },\n",
       "    \n",
       "    function(Bokeh) {\n",
       "      \n",
       "    },\n",
       "    function(Bokeh) {\n",
       "      console.log(\"Bokeh: injecting CSS: https://cdn.pydata.org/bokeh/release/bokeh-0.12.13.min.css\");\n",
       "      Bokeh.embed.inject_css(\"https://cdn.pydata.org/bokeh/release/bokeh-0.12.13.min.css\");\n",
       "      console.log(\"Bokeh: injecting CSS: https://cdn.pydata.org/bokeh/release/bokeh-widgets-0.12.13.min.css\");\n",
       "      Bokeh.embed.inject_css(\"https://cdn.pydata.org/bokeh/release/bokeh-widgets-0.12.13.min.css\");\n",
       "      console.log(\"Bokeh: injecting CSS: https://cdn.pydata.org/bokeh/release/bokeh-tables-0.12.13.min.css\");\n",
       "      Bokeh.embed.inject_css(\"https://cdn.pydata.org/bokeh/release/bokeh-tables-0.12.13.min.css\");\n",
       "    }\n",
       "  ];\n",
       "\n",
       "  function run_inline_js() {\n",
       "    \n",
       "    if ((root.Bokeh !== undefined) || (force === true)) {\n",
       "      for (var i = 0; i < inline_js.length; i++) {\n",
       "        inline_js[i].call(root, root.Bokeh);\n",
       "      }if (force === true) {\n",
       "        display_loaded();\n",
       "      }} else if (Date.now() < root._bokeh_timeout) {\n",
       "      setTimeout(run_inline_js, 100);\n",
       "    } else if (!root._bokeh_failed_load) {\n",
       "      console.log(\"Bokeh: BokehJS failed to load within specified timeout.\");\n",
       "      root._bokeh_failed_load = true;\n",
       "    } else if (force !== true) {\n",
       "      var cell = $(document.getElementById(\"99355098-c8e5-4693-aa52-6f96cec0b3ef\")).parents('.cell').data().cell;\n",
       "      cell.output_area.append_execute_result(NB_LOAD_WARNING)\n",
       "    }\n",
       "\n",
       "  }\n",
       "\n",
       "  if (root._bokeh_is_loading === 0) {\n",
       "    console.log(\"Bokeh: BokehJS loaded, going straight to plotting\");\n",
       "    run_inline_js();\n",
       "  } else {\n",
       "    load_libs(js_urls, function() {\n",
       "      console.log(\"Bokeh: BokehJS plotting callback run at\", now());\n",
       "      run_inline_js();\n",
       "    });\n",
       "  }\n",
       "}(window));"
      ],
      "application/vnd.bokehjs_load.v0+json": "\n(function(root) {\n  function now() {\n    return new Date();\n  }\n\n  var force = true;\n\n  if (typeof (root._bokeh_onload_callbacks) === \"undefined\" || force === true) {\n    root._bokeh_onload_callbacks = [];\n    root._bokeh_is_loading = undefined;\n  }\n\n  \n\n  \n  if (typeof (root._bokeh_timeout) === \"undefined\" || force === true) {\n    root._bokeh_timeout = Date.now() + 5000;\n    root._bokeh_failed_load = false;\n  }\n\n  var NB_LOAD_WARNING = {'data': {'text/html':\n     \"<div style='background-color: #fdd'>\\n\"+\n     \"<p>\\n\"+\n     \"BokehJS does not appear to have successfully loaded. If loading BokehJS from CDN, this \\n\"+\n     \"may be due to a slow or bad network connection. Possible fixes:\\n\"+\n     \"</p>\\n\"+\n     \"<ul>\\n\"+\n     \"<li>re-rerun `output_notebook()` to attempt to load from CDN again, or</li>\\n\"+\n     \"<li>use INLINE resources instead, as so:</li>\\n\"+\n     \"</ul>\\n\"+\n     \"<code>\\n\"+\n     \"from bokeh.resources import INLINE\\n\"+\n     \"output_notebook(resources=INLINE)\\n\"+\n     \"</code>\\n\"+\n     \"</div>\"}};\n\n  function display_loaded() {\n    var el = document.getElementById(\"99355098-c8e5-4693-aa52-6f96cec0b3ef\");\n    if (el != null) {\n      el.textContent = \"BokehJS is loading...\";\n    }\n    if (root.Bokeh !== undefined) {\n      if (el != null) {\n        el.textContent = \"BokehJS \" + root.Bokeh.version + \" successfully loaded.\";\n      }\n    } else if (Date.now() < root._bokeh_timeout) {\n      setTimeout(display_loaded, 100)\n    }\n  }\n\n\n  function run_callbacks() {\n    try {\n      root._bokeh_onload_callbacks.forEach(function(callback) { callback() });\n    }\n    finally {\n      delete root._bokeh_onload_callbacks\n    }\n    console.info(\"Bokeh: all callbacks have finished\");\n  }\n\n  function load_libs(js_urls, callback) {\n    root._bokeh_onload_callbacks.push(callback);\n    if (root._bokeh_is_loading > 0) {\n      console.log(\"Bokeh: BokehJS is being loaded, scheduling callback at\", now());\n      return null;\n    }\n    if (js_urls == null || js_urls.length === 0) {\n      run_callbacks();\n      return null;\n    }\n    console.log(\"Bokeh: BokehJS not loaded, scheduling load and callback at\", now());\n    root._bokeh_is_loading = js_urls.length;\n    for (var i = 0; i < js_urls.length; i++) {\n      var url = js_urls[i];\n      var s = document.createElement('script');\n      s.src = url;\n      s.async = false;\n      s.onreadystatechange = s.onload = function() {\n        root._bokeh_is_loading--;\n        if (root._bokeh_is_loading === 0) {\n          console.log(\"Bokeh: all BokehJS libraries loaded\");\n          run_callbacks()\n        }\n      };\n      s.onerror = function() {\n        console.warn(\"failed to load library \" + url);\n      };\n      console.log(\"Bokeh: injecting script tag for BokehJS library: \", url);\n      document.getElementsByTagName(\"head\")[0].appendChild(s);\n    }\n  };var element = document.getElementById(\"99355098-c8e5-4693-aa52-6f96cec0b3ef\");\n  if (element == null) {\n    console.log(\"Bokeh: ERROR: autoload.js configured with elementid '99355098-c8e5-4693-aa52-6f96cec0b3ef' but no matching script tag was found. \")\n    return false;\n  }\n\n  var js_urls = [\"https://cdn.pydata.org/bokeh/release/bokeh-0.12.13.min.js\", \"https://cdn.pydata.org/bokeh/release/bokeh-widgets-0.12.13.min.js\", \"https://cdn.pydata.org/bokeh/release/bokeh-tables-0.12.13.min.js\", \"https://cdn.pydata.org/bokeh/release/bokeh-gl-0.12.13.min.js\"];\n\n  var inline_js = [\n    function(Bokeh) {\n      Bokeh.set_log_level(\"info\");\n    },\n    \n    function(Bokeh) {\n      \n    },\n    function(Bokeh) {\n      console.log(\"Bokeh: injecting CSS: https://cdn.pydata.org/bokeh/release/bokeh-0.12.13.min.css\");\n      Bokeh.embed.inject_css(\"https://cdn.pydata.org/bokeh/release/bokeh-0.12.13.min.css\");\n      console.log(\"Bokeh: injecting CSS: https://cdn.pydata.org/bokeh/release/bokeh-widgets-0.12.13.min.css\");\n      Bokeh.embed.inject_css(\"https://cdn.pydata.org/bokeh/release/bokeh-widgets-0.12.13.min.css\");\n      console.log(\"Bokeh: injecting CSS: https://cdn.pydata.org/bokeh/release/bokeh-tables-0.12.13.min.css\");\n      Bokeh.embed.inject_css(\"https://cdn.pydata.org/bokeh/release/bokeh-tables-0.12.13.min.css\");\n    }\n  ];\n\n  function run_inline_js() {\n    \n    if ((root.Bokeh !== undefined) || (force === true)) {\n      for (var i = 0; i < inline_js.length; i++) {\n        inline_js[i].call(root, root.Bokeh);\n      }if (force === true) {\n        display_loaded();\n      }} else if (Date.now() < root._bokeh_timeout) {\n      setTimeout(run_inline_js, 100);\n    } else if (!root._bokeh_failed_load) {\n      console.log(\"Bokeh: BokehJS failed to load within specified timeout.\");\n      root._bokeh_failed_load = true;\n    } else if (force !== true) {\n      var cell = $(document.getElementById(\"99355098-c8e5-4693-aa52-6f96cec0b3ef\")).parents('.cell').data().cell;\n      cell.output_area.append_execute_result(NB_LOAD_WARNING)\n    }\n\n  }\n\n  if (root._bokeh_is_loading === 0) {\n    console.log(\"Bokeh: BokehJS loaded, going straight to plotting\");\n    run_inline_js();\n  } else {\n    load_libs(js_urls, function() {\n      console.log(\"Bokeh: BokehJS plotting callback run at\", now());\n      run_inline_js();\n    });\n  }\n}(window));"
     },
     "metadata": {},
     "output_type": "display_data"
    }
   ],
   "source": [
    "output_notebook()\n"
   ]
  },
  {
   "cell_type": "markdown",
   "metadata": {},
   "source": [
    "# Some Basic Scatter Plots\n",
    "\n",
    "In this section you will see how to use Bokeh's various marker types to create simple scatter plots. "
   ]
  },
  {
   "cell_type": "code",
   "execution_count": 4,
   "metadata": {},
   "outputs": [
    {
     "data": {
      "text/html": [
       "\n",
       "<div class=\"bk-root\">\n",
       "    <div class=\"bk-plotdiv\" id=\"3935f429-a8f1-4ce2-bc9f-95618f9445ca\"></div>\n",
       "</div>"
      ]
     },
     "metadata": {},
     "output_type": "display_data"
    },
    {
     "data": {
      "application/javascript": [
       "(function(root) {\n",
       "  function embed_document(root) {\n",
       "    \n",
       "  var docs_json = {\"b3afb765-22f3-4232-af4e-89044b26bd12\":{\"roots\":{\"references\":[{\"attributes\":{\"callback\":null},\"id\":\"51cc9217-4402-49cf-ab4c-db1e8e5b5142\",\"type\":\"DataRange1d\"},{\"attributes\":{\"below\":[{\"id\":\"2d98a36e-4c2f-41e0-952d-33f397bb04a5\",\"type\":\"LinearAxis\"}],\"left\":[{\"id\":\"b302f81f-bc69-46b5-944e-c872e332a063\",\"type\":\"LinearAxis\"}],\"plot_height\":400,\"plot_width\":400,\"renderers\":[{\"id\":\"2d98a36e-4c2f-41e0-952d-33f397bb04a5\",\"type\":\"LinearAxis\"},{\"id\":\"68829495-53d3-4a1b-9e95-a309089feed3\",\"type\":\"Grid\"},{\"id\":\"b302f81f-bc69-46b5-944e-c872e332a063\",\"type\":\"LinearAxis\"},{\"id\":\"ee71903a-3eba-40f2-819a-2c9309b0f50d\",\"type\":\"Grid\"},{\"id\":\"69c29aec-3a00-4cfd-bf3f-bae0f7713a8a\",\"type\":\"BoxAnnotation\"},{\"id\":\"d6456111-9346-4428-97b5-50dc1d82056e\",\"type\":\"GlyphRenderer\"}],\"title\":{\"id\":\"49be244a-3264-40fe-a33f-e3708905cd6b\",\"type\":\"Title\"},\"toolbar\":{\"id\":\"0aac2fb8-0a72-4b7c-a777-73cc0b0da19d\",\"type\":\"Toolbar\"},\"x_range\":{\"id\":\"51cc9217-4402-49cf-ab4c-db1e8e5b5142\",\"type\":\"DataRange1d\"},\"x_scale\":{\"id\":\"07eed7a9-f14c-4227-8986-4e4e5a8814f8\",\"type\":\"LinearScale\"},\"y_range\":{\"id\":\"66bafff3-2b6f-4fed-b21f-2b47fa727328\",\"type\":\"DataRange1d\"},\"y_scale\":{\"id\":\"7ba6708c-234e-4cb8-8a2f-626118995778\",\"type\":\"LinearScale\"}},\"id\":\"ee286b48-22ab-41cf-aa5b-25c9228302e5\",\"subtype\":\"Figure\",\"type\":\"Plot\"},{\"attributes\":{},\"id\":\"365bd1a3-ec92-46b8-8c55-3266a25cd20a\",\"type\":\"BasicTickFormatter\"},{\"attributes\":{\"callback\":null,\"column_names\":[\"x\",\"y\"],\"data\":{\"x\":[1,2,3,4,5],\"y\":[6,7,2,4,5]}},\"id\":\"d6e0b934-317d-45b5-b039-f92b4af49a39\",\"type\":\"ColumnDataSource\"},{\"attributes\":{\"source\":{\"id\":\"d6e0b934-317d-45b5-b039-f92b4af49a39\",\"type\":\"ColumnDataSource\"}},\"id\":\"bf93a3e1-c29e-49dc-91e9-9d9e184c1021\",\"type\":\"CDSView\"},{\"attributes\":{},\"id\":\"7ba6708c-234e-4cb8-8a2f-626118995778\",\"type\":\"LinearScale\"},{\"attributes\":{\"active_drag\":\"auto\",\"active_inspect\":\"auto\",\"active_scroll\":\"auto\",\"active_tap\":\"auto\",\"tools\":[{\"id\":\"12b58905-77e4-40b1-a5f4-7d43c7debb31\",\"type\":\"PanTool\"},{\"id\":\"92e54763-04a1-4575-bea6-17eea7230af0\",\"type\":\"WheelZoomTool\"},{\"id\":\"491e03dd-d1ae-4c8f-985d-cfc7e1c5e942\",\"type\":\"BoxZoomTool\"},{\"id\":\"b32ee679-ef44-4b0f-9d20-e67470021bd4\",\"type\":\"SaveTool\"},{\"id\":\"d162030a-7fc6-4f2a-a95a-5ca9806babbe\",\"type\":\"ResetTool\"},{\"id\":\"33ae80e2-aae5-48f3-98a9-ad3586e35c61\",\"type\":\"HelpTool\"}]},\"id\":\"0aac2fb8-0a72-4b7c-a777-73cc0b0da19d\",\"type\":\"Toolbar\"},{\"attributes\":{},\"id\":\"8ee542f9-07dd-4b28-9fde-db6e632dc7a8\",\"type\":\"BasicTicker\"},{\"attributes\":{\"overlay\":{\"id\":\"69c29aec-3a00-4cfd-bf3f-bae0f7713a8a\",\"type\":\"BoxAnnotation\"}},\"id\":\"491e03dd-d1ae-4c8f-985d-cfc7e1c5e942\",\"type\":\"BoxZoomTool\"},{\"attributes\":{\"formatter\":{\"id\":\"365bd1a3-ec92-46b8-8c55-3266a25cd20a\",\"type\":\"BasicTickFormatter\"},\"plot\":{\"id\":\"ee286b48-22ab-41cf-aa5b-25c9228302e5\",\"subtype\":\"Figure\",\"type\":\"Plot\"},\"ticker\":{\"id\":\"8ee542f9-07dd-4b28-9fde-db6e632dc7a8\",\"type\":\"BasicTicker\"}},\"id\":\"2d98a36e-4c2f-41e0-952d-33f397bb04a5\",\"type\":\"LinearAxis\"},{\"attributes\":{},\"id\":\"07eed7a9-f14c-4227-8986-4e4e5a8814f8\",\"type\":\"LinearScale\"},{\"attributes\":{},\"id\":\"b32ee679-ef44-4b0f-9d20-e67470021bd4\",\"type\":\"SaveTool\"},{\"attributes\":{\"plot\":{\"id\":\"ee286b48-22ab-41cf-aa5b-25c9228302e5\",\"subtype\":\"Figure\",\"type\":\"Plot\"},\"ticker\":{\"id\":\"8ee542f9-07dd-4b28-9fde-db6e632dc7a8\",\"type\":\"BasicTicker\"}},\"id\":\"68829495-53d3-4a1b-9e95-a309089feed3\",\"type\":\"Grid\"},{\"attributes\":{\"callback\":null},\"id\":\"66bafff3-2b6f-4fed-b21f-2b47fa727328\",\"type\":\"DataRange1d\"},{\"attributes\":{},\"id\":\"12b58905-77e4-40b1-a5f4-7d43c7debb31\",\"type\":\"PanTool\"},{\"attributes\":{\"plot\":null,\"text\":\"\"},\"id\":\"49be244a-3264-40fe-a33f-e3708905cd6b\",\"type\":\"Title\"},{\"attributes\":{\"data_source\":{\"id\":\"d6e0b934-317d-45b5-b039-f92b4af49a39\",\"type\":\"ColumnDataSource\"},\"glyph\":{\"id\":\"453c8e31-4686-4b67-b864-0f4d79eaf661\",\"type\":\"Circle\"},\"hover_glyph\":null,\"muted_glyph\":null,\"nonselection_glyph\":{\"id\":\"1748d244-2e6b-4b12-99d9-9c3087496c13\",\"type\":\"Circle\"},\"selection_glyph\":null,\"view\":{\"id\":\"bf93a3e1-c29e-49dc-91e9-9d9e184c1021\",\"type\":\"CDSView\"}},\"id\":\"d6456111-9346-4428-97b5-50dc1d82056e\",\"type\":\"GlyphRenderer\"},{\"attributes\":{},\"id\":\"33ae80e2-aae5-48f3-98a9-ad3586e35c61\",\"type\":\"HelpTool\"},{\"attributes\":{\"bottom_units\":\"screen\",\"fill_alpha\":{\"value\":0.5},\"fill_color\":{\"value\":\"lightgrey\"},\"left_units\":\"screen\",\"level\":\"overlay\",\"line_alpha\":{\"value\":1.0},\"line_color\":{\"value\":\"black\"},\"line_dash\":[4,4],\"line_width\":{\"value\":2},\"plot\":null,\"render_mode\":\"css\",\"right_units\":\"screen\",\"top_units\":\"screen\"},\"id\":\"69c29aec-3a00-4cfd-bf3f-bae0f7713a8a\",\"type\":\"BoxAnnotation\"},{\"attributes\":{\"formatter\":{\"id\":\"28559061-80bd-4b31-9611-d6dbda442b33\",\"type\":\"BasicTickFormatter\"},\"plot\":{\"id\":\"ee286b48-22ab-41cf-aa5b-25c9228302e5\",\"subtype\":\"Figure\",\"type\":\"Plot\"},\"ticker\":{\"id\":\"324c6a25-89f4-4f4b-88f3-4a2c6e7d7bc1\",\"type\":\"BasicTicker\"}},\"id\":\"b302f81f-bc69-46b5-944e-c872e332a063\",\"type\":\"LinearAxis\"},{\"attributes\":{\"fill_alpha\":{\"value\":0.1},\"fill_color\":{\"value\":\"#1f77b4\"},\"line_alpha\":{\"value\":0.1},\"line_color\":{\"value\":\"#1f77b4\"},\"size\":{\"units\":\"screen\",\"value\":15},\"x\":{\"field\":\"x\"},\"y\":{\"field\":\"y\"}},\"id\":\"1748d244-2e6b-4b12-99d9-9c3087496c13\",\"type\":\"Circle\"},{\"attributes\":{\"dimension\":1,\"plot\":{\"id\":\"ee286b48-22ab-41cf-aa5b-25c9228302e5\",\"subtype\":\"Figure\",\"type\":\"Plot\"},\"ticker\":{\"id\":\"324c6a25-89f4-4f4b-88f3-4a2c6e7d7bc1\",\"type\":\"BasicTicker\"}},\"id\":\"ee71903a-3eba-40f2-819a-2c9309b0f50d\",\"type\":\"Grid\"},{\"attributes\":{},\"id\":\"28559061-80bd-4b31-9611-d6dbda442b33\",\"type\":\"BasicTickFormatter\"},{\"attributes\":{},\"id\":\"92e54763-04a1-4575-bea6-17eea7230af0\",\"type\":\"WheelZoomTool\"},{\"attributes\":{},\"id\":\"324c6a25-89f4-4f4b-88f3-4a2c6e7d7bc1\",\"type\":\"BasicTicker\"},{\"attributes\":{\"fill_alpha\":{\"value\":0.5},\"fill_color\":{\"value\":\"orange\"},\"line_color\":{\"value\":\"navy\"},\"size\":{\"units\":\"screen\",\"value\":15},\"x\":{\"field\":\"x\"},\"y\":{\"field\":\"y\"}},\"id\":\"453c8e31-4686-4b67-b864-0f4d79eaf661\",\"type\":\"Circle\"},{\"attributes\":{},\"id\":\"d162030a-7fc6-4f2a-a95a-5ca9806babbe\",\"type\":\"ResetTool\"}],\"root_ids\":[\"ee286b48-22ab-41cf-aa5b-25c9228302e5\"]},\"title\":\"Bokeh Application\",\"version\":\"0.12.13\"}};\n",
       "  var render_items = [{\"docid\":\"b3afb765-22f3-4232-af4e-89044b26bd12\",\"elementid\":\"3935f429-a8f1-4ce2-bc9f-95618f9445ca\",\"modelid\":\"ee286b48-22ab-41cf-aa5b-25c9228302e5\"}];\n",
       "  root.Bokeh.embed.embed_items_notebook(docs_json, render_items);\n",
       "\n",
       "  }\n",
       "  if (root.Bokeh !== undefined) {\n",
       "    embed_document(root);\n",
       "  } else {\n",
       "    var attempts = 0;\n",
       "    var timer = setInterval(function(root) {\n",
       "      if (root.Bokeh !== undefined) {\n",
       "        embed_document(root);\n",
       "        clearInterval(timer);\n",
       "      }\n",
       "      attempts++;\n",
       "      if (attempts > 100) {\n",
       "        console.log(\"Bokeh: ERROR: Unable to run BokehJS code because BokehJS library is missing\")\n",
       "        clearInterval(timer);\n",
       "      }\n",
       "    }, 10, root)\n",
       "  }\n",
       "})(window);"
      ],
      "application/vnd.bokehjs_exec.v0+json": ""
     },
     "metadata": {
      "application/vnd.bokehjs_exec.v0+json": {
       "id": "ee286b48-22ab-41cf-aa5b-25c9228302e5"
      }
     },
     "output_type": "display_data"
    }
   ],
   "source": [
    "# create a new plot with default tools, using figure\n",
    "p = figure(plot_width=400, plot_height=400)\n",
    "\n",
    "# add a circle renderer with a size, color, and alpha\n",
    "p.circle([1, 2, 3, 4, 5], [6, 7, 2, 4, 5], size=15, line_color=\"navy\", fill_color=\"orange\", fill_alpha=0.5)\n",
    "\n",
    "show(p) # show the results\n"
   ]
  },
  {
   "cell_type": "markdown",
   "metadata": {},
   "source": [
    "All Bokeh markers accept `size` (measured in screen space units) as a property. Circles also have `radius` (measured in \"data\" space units). "
   ]
  },
  {
   "cell_type": "code",
   "execution_count": 9,
   "metadata": {},
   "outputs": [
    {
     "data": {
      "text/html": [
       "\n",
       "<div class=\"bk-root\">\n",
       "    <div class=\"bk-plotdiv\" id=\"eb3540a5-b749-4a5d-9078-5bf71211e5cb\"></div>\n",
       "</div>"
      ]
     },
     "metadata": {},
     "output_type": "display_data"
    },
    {
     "data": {
      "application/javascript": [
       "(function(root) {\n",
       "  function embed_document(root) {\n",
       "    \n",
       "  var docs_json = {\"c30c13b9-c31a-42db-869b-3ceb46c29e47\":{\"roots\":{\"references\":[{\"attributes\":{},\"id\":\"63e37d52-b443-45e2-965f-6497e53ef5e6\",\"type\":\"BasicTicker\"},{\"attributes\":{\"callback\":null,\"column_names\":[\"x\",\"y\"],\"data\":{\"x\":[1,2,3,4,5],\"y\":[6,7,2,4,5]}},\"id\":\"e3f55897-2661-481c-8d3e-7cf2659da229\",\"type\":\"ColumnDataSource\"},{\"attributes\":{\"bottom_units\":\"screen\",\"fill_alpha\":{\"value\":0.5},\"fill_color\":{\"value\":\"lightgrey\"},\"left_units\":\"screen\",\"level\":\"overlay\",\"line_alpha\":{\"value\":1.0},\"line_color\":{\"value\":\"black\"},\"line_dash\":[4,4],\"line_width\":{\"value\":2},\"plot\":null,\"render_mode\":\"css\",\"right_units\":\"screen\",\"top_units\":\"screen\"},\"id\":\"b01db01c-df94-4e47-95a9-8de75fc2d74c\",\"type\":\"BoxAnnotation\"},{\"attributes\":{\"formatter\":{\"id\":\"415ff741-fda6-419a-b385-e50aca800c48\",\"type\":\"BasicTickFormatter\"},\"plot\":{\"id\":\"1320d56e-97c7-404e-ac91-91f350684972\",\"subtype\":\"Figure\",\"type\":\"Plot\"},\"ticker\":{\"id\":\"c72afc97-f591-4790-a24e-c598e285e435\",\"type\":\"BasicTicker\"}},\"id\":\"ff1e79a7-d9b1-451e-aec9-71003c178c7b\",\"type\":\"LinearAxis\"},{\"attributes\":{\"callback\":null},\"id\":\"39cb5beb-8122-4589-94aa-8c84729b6472\",\"type\":\"DataRange1d\"},{\"attributes\":{},\"id\":\"415ff741-fda6-419a-b385-e50aca800c48\",\"type\":\"BasicTickFormatter\"},{\"attributes\":{\"source\":{\"id\":\"e3f55897-2661-481c-8d3e-7cf2659da229\",\"type\":\"ColumnDataSource\"}},\"id\":\"c40579fb-bae7-4ca7-9035-dff6470c9bda\",\"type\":\"CDSView\"},{\"attributes\":{\"plot\":{\"id\":\"1320d56e-97c7-404e-ac91-91f350684972\",\"subtype\":\"Figure\",\"type\":\"Plot\"},\"ticker\":{\"id\":\"63e37d52-b443-45e2-965f-6497e53ef5e6\",\"type\":\"BasicTicker\"}},\"id\":\"2d1fd657-ffa7-4233-af07-d3a0133ba01b\",\"type\":\"Grid\"},{\"attributes\":{},\"id\":\"9fc834f5-c42a-4c6f-8f59-10b7f1036aa0\",\"type\":\"WheelZoomTool\"},{\"attributes\":{},\"id\":\"54caf236-8b7c-4a66-a9c7-765366570a2f\",\"type\":\"BasicTickFormatter\"},{\"attributes\":{},\"id\":\"9ebca9a4-033a-4375-8698-87516d4bb6b3\",\"type\":\"LinearScale\"},{\"attributes\":{},\"id\":\"7e513612-de1b-4b20-b8fc-1813da961a1b\",\"type\":\"LinearScale\"},{\"attributes\":{\"fill_alpha\":{\"value\":0.1},\"fill_color\":{\"value\":\"#1f77b4\"},\"line_alpha\":{\"value\":0.1},\"line_color\":{\"value\":\"#1f77b4\"},\"radius\":{\"units\":\"data\",\"value\":1},\"x\":{\"field\":\"x\"},\"y\":{\"field\":\"y\"}},\"id\":\"ad3205fe-f8c3-4db8-84a6-32c815960859\",\"type\":\"Circle\"},{\"attributes\":{\"dimension\":1,\"plot\":{\"id\":\"1320d56e-97c7-404e-ac91-91f350684972\",\"subtype\":\"Figure\",\"type\":\"Plot\"},\"ticker\":{\"id\":\"c72afc97-f591-4790-a24e-c598e285e435\",\"type\":\"BasicTicker\"}},\"id\":\"4ee9f3a6-d718-4630-9aa6-6df596738286\",\"type\":\"Grid\"},{\"attributes\":{\"below\":[{\"id\":\"d657f778-010f-48a5-8d74-21a6448d90ef\",\"type\":\"LinearAxis\"}],\"left\":[{\"id\":\"ff1e79a7-d9b1-451e-aec9-71003c178c7b\",\"type\":\"LinearAxis\"}],\"plot_height\":400,\"plot_width\":400,\"renderers\":[{\"id\":\"d657f778-010f-48a5-8d74-21a6448d90ef\",\"type\":\"LinearAxis\"},{\"id\":\"2d1fd657-ffa7-4233-af07-d3a0133ba01b\",\"type\":\"Grid\"},{\"id\":\"ff1e79a7-d9b1-451e-aec9-71003c178c7b\",\"type\":\"LinearAxis\"},{\"id\":\"4ee9f3a6-d718-4630-9aa6-6df596738286\",\"type\":\"Grid\"},{\"id\":\"b01db01c-df94-4e47-95a9-8de75fc2d74c\",\"type\":\"BoxAnnotation\"},{\"id\":\"5920e9b2-99d9-4d3a-a5c8-43b6015f4c9a\",\"type\":\"GlyphRenderer\"}],\"title\":{\"id\":\"a2711c90-e9bd-494f-b5e1-5bd8231da19c\",\"type\":\"Title\"},\"toolbar\":{\"id\":\"f56c823f-475d-4f89-9c7a-1e6efb725e0b\",\"type\":\"Toolbar\"},\"x_range\":{\"id\":\"05609845-eef2-4096-9625-9c51c2238077\",\"type\":\"DataRange1d\"},\"x_scale\":{\"id\":\"7e513612-de1b-4b20-b8fc-1813da961a1b\",\"type\":\"LinearScale\"},\"y_range\":{\"id\":\"39cb5beb-8122-4589-94aa-8c84729b6472\",\"type\":\"DataRange1d\"},\"y_scale\":{\"id\":\"9ebca9a4-033a-4375-8698-87516d4bb6b3\",\"type\":\"LinearScale\"}},\"id\":\"1320d56e-97c7-404e-ac91-91f350684972\",\"subtype\":\"Figure\",\"type\":\"Plot\"},{\"attributes\":{},\"id\":\"81b49d7c-e5c2-4b46-9b44-4aee02cfcfee\",\"type\":\"HelpTool\"},{\"attributes\":{\"plot\":null,\"text\":\"\"},\"id\":\"a2711c90-e9bd-494f-b5e1-5bd8231da19c\",\"type\":\"Title\"},{\"attributes\":{\"formatter\":{\"id\":\"54caf236-8b7c-4a66-a9c7-765366570a2f\",\"type\":\"BasicTickFormatter\"},\"plot\":{\"id\":\"1320d56e-97c7-404e-ac91-91f350684972\",\"subtype\":\"Figure\",\"type\":\"Plot\"},\"ticker\":{\"id\":\"63e37d52-b443-45e2-965f-6497e53ef5e6\",\"type\":\"BasicTicker\"}},\"id\":\"d657f778-010f-48a5-8d74-21a6448d90ef\",\"type\":\"LinearAxis\"},{\"attributes\":{},\"id\":\"6df786fd-195f-489a-a80e-07d44e04d82a\",\"type\":\"PanTool\"},{\"attributes\":{\"callback\":null},\"id\":\"05609845-eef2-4096-9625-9c51c2238077\",\"type\":\"DataRange1d\"},{\"attributes\":{\"overlay\":{\"id\":\"b01db01c-df94-4e47-95a9-8de75fc2d74c\",\"type\":\"BoxAnnotation\"}},\"id\":\"6c2f1127-fb6b-412a-a2f5-0166ae884431\",\"type\":\"BoxZoomTool\"},{\"attributes\":{\"fill_alpha\":{\"value\":0.5},\"fill_color\":{\"value\":\"orange\"},\"line_color\":{\"value\":\"navy\"},\"radius\":{\"units\":\"data\",\"value\":1},\"x\":{\"field\":\"x\"},\"y\":{\"field\":\"y\"}},\"id\":\"6e2b89fd-2c90-420f-963f-175865fb72e7\",\"type\":\"Circle\"},{\"attributes\":{},\"id\":\"c72afc97-f591-4790-a24e-c598e285e435\",\"type\":\"BasicTicker\"},{\"attributes\":{},\"id\":\"d60d83e6-a3af-43c5-84bc-441339bfbe3c\",\"type\":\"ResetTool\"},{\"attributes\":{\"data_source\":{\"id\":\"e3f55897-2661-481c-8d3e-7cf2659da229\",\"type\":\"ColumnDataSource\"},\"glyph\":{\"id\":\"6e2b89fd-2c90-420f-963f-175865fb72e7\",\"type\":\"Circle\"},\"hover_glyph\":null,\"muted_glyph\":null,\"nonselection_glyph\":{\"id\":\"ad3205fe-f8c3-4db8-84a6-32c815960859\",\"type\":\"Circle\"},\"selection_glyph\":null,\"view\":{\"id\":\"c40579fb-bae7-4ca7-9035-dff6470c9bda\",\"type\":\"CDSView\"}},\"id\":\"5920e9b2-99d9-4d3a-a5c8-43b6015f4c9a\",\"type\":\"GlyphRenderer\"},{\"attributes\":{\"active_drag\":\"auto\",\"active_inspect\":\"auto\",\"active_scroll\":\"auto\",\"active_tap\":\"auto\",\"tools\":[{\"id\":\"6df786fd-195f-489a-a80e-07d44e04d82a\",\"type\":\"PanTool\"},{\"id\":\"9fc834f5-c42a-4c6f-8f59-10b7f1036aa0\",\"type\":\"WheelZoomTool\"},{\"id\":\"6c2f1127-fb6b-412a-a2f5-0166ae884431\",\"type\":\"BoxZoomTool\"},{\"id\":\"40e44c50-9e99-4e12-9895-4cb835236beb\",\"type\":\"SaveTool\"},{\"id\":\"d60d83e6-a3af-43c5-84bc-441339bfbe3c\",\"type\":\"ResetTool\"},{\"id\":\"81b49d7c-e5c2-4b46-9b44-4aee02cfcfee\",\"type\":\"HelpTool\"}]},\"id\":\"f56c823f-475d-4f89-9c7a-1e6efb725e0b\",\"type\":\"Toolbar\"},{\"attributes\":{},\"id\":\"40e44c50-9e99-4e12-9895-4cb835236beb\",\"type\":\"SaveTool\"}],\"root_ids\":[\"1320d56e-97c7-404e-ac91-91f350684972\"]},\"title\":\"Bokeh Application\",\"version\":\"0.12.13\"}};\n",
       "  var render_items = [{\"docid\":\"c30c13b9-c31a-42db-869b-3ceb46c29e47\",\"elementid\":\"eb3540a5-b749-4a5d-9078-5bf71211e5cb\",\"modelid\":\"1320d56e-97c7-404e-ac91-91f350684972\"}];\n",
       "  root.Bokeh.embed.embed_items_notebook(docs_json, render_items);\n",
       "\n",
       "  }\n",
       "  if (root.Bokeh !== undefined) {\n",
       "    embed_document(root);\n",
       "  } else {\n",
       "    var attempts = 0;\n",
       "    var timer = setInterval(function(root) {\n",
       "      if (root.Bokeh !== undefined) {\n",
       "        embed_document(root);\n",
       "        clearInterval(timer);\n",
       "      }\n",
       "      attempts++;\n",
       "      if (attempts > 100) {\n",
       "        console.log(\"Bokeh: ERROR: Unable to run BokehJS code because BokehJS library is missing\")\n",
       "        clearInterval(timer);\n",
       "      }\n",
       "    }, 10, root)\n",
       "  }\n",
       "})(window);"
      ],
      "application/vnd.bokehjs_exec.v0+json": ""
     },
     "metadata": {
      "application/vnd.bokehjs_exec.v0+json": {
       "id": "1320d56e-97c7-404e-ac91-91f350684972"
      }
     },
     "output_type": "display_data"
    }
   ],
   "source": [
    "# EXERCISE: Try changing the example above to set a `radius` value instead of `size`\n",
    "\n",
    "# create a new plot with default tools, using figure\n",
    "p = figure(plot_width=400, plot_height=400)\n",
    "\n",
    "# add a circle renderer with a size, color, and alpha\n",
    "p.circle([1, 2, 3, 4, 5], [6, 7, 2, 4, 5], radius=1, line_color=\"navy\", fill_color=\"orange\", fill_alpha=0.5)\n",
    "\n",
    "show(p) # show the results"
   ]
  },
  {
   "cell_type": "markdown",
   "metadata": {},
   "source": [
    "To scatter square markers instead of circles, you can use the `square` method on figures. "
   ]
  },
  {
   "cell_type": "code",
   "execution_count": 10,
   "metadata": {},
   "outputs": [
    {
     "data": {
      "text/html": [
       "\n",
       "<div class=\"bk-root\">\n",
       "    <div class=\"bk-plotdiv\" id=\"00379d99-bb0b-4364-bb79-d846308f31e9\"></div>\n",
       "</div>"
      ]
     },
     "metadata": {},
     "output_type": "display_data"
    },
    {
     "data": {
      "application/javascript": [
       "(function(root) {\n",
       "  function embed_document(root) {\n",
       "    \n",
       "  var docs_json = {\"cc812e6c-ab4e-41ac-979a-626239c0ccf3\":{\"roots\":{\"references\":[{\"attributes\":{\"fill_alpha\":{\"value\":0.6},\"fill_color\":{\"value\":\"firebrick\"},\"line_alpha\":{\"value\":0.6},\"line_color\":{\"value\":\"firebrick\"},\"size\":{\"field\":\"size\",\"units\":\"screen\"},\"x\":{\"field\":\"x\"},\"y\":{\"field\":\"y\"}},\"id\":\"60c22724-817f-4754-ba3c-9b655731db71\",\"type\":\"Square\"},{\"attributes\":{\"bottom_units\":\"screen\",\"fill_alpha\":{\"value\":0.5},\"fill_color\":{\"value\":\"lightgrey\"},\"left_units\":\"screen\",\"level\":\"overlay\",\"line_alpha\":{\"value\":1.0},\"line_color\":{\"value\":\"black\"},\"line_dash\":[4,4],\"line_width\":{\"value\":2},\"plot\":null,\"render_mode\":\"css\",\"right_units\":\"screen\",\"top_units\":\"screen\"},\"id\":\"eccf10a0-d9ae-43e7-8ce0-c77da33e7a15\",\"type\":\"BoxAnnotation\"},{\"attributes\":{\"callback\":null},\"id\":\"286eed13-bbbc-4284-b3c0-8030bfafedad\",\"type\":\"DataRange1d\"},{\"attributes\":{},\"id\":\"6d878cf0-df89-45dc-a39c-0a220a286bef\",\"type\":\"PanTool\"},{\"attributes\":{\"source\":{\"id\":\"186979b9-db1b-4802-afb7-668e8ae7f8c3\",\"type\":\"ColumnDataSource\"}},\"id\":\"9d1f3a24-8694-472c-8711-94a4d68d2cd8\",\"type\":\"CDSView\"},{\"attributes\":{},\"id\":\"b3d3e4e1-8431-49b7-a1de-8e950eb9ce09\",\"type\":\"WheelZoomTool\"},{\"attributes\":{},\"id\":\"cb139af6-2546-4007-9c52-b62cea32aaf5\",\"type\":\"BasicTickFormatter\"},{\"attributes\":{\"overlay\":{\"id\":\"eccf10a0-d9ae-43e7-8ce0-c77da33e7a15\",\"type\":\"BoxAnnotation\"}},\"id\":\"09c61173-77b4-4ad6-aa77-10530dfd404b\",\"type\":\"BoxZoomTool\"},{\"attributes\":{\"below\":[{\"id\":\"5720725a-d342-49c9-b0a5-d470312d8305\",\"type\":\"LinearAxis\"}],\"left\":[{\"id\":\"a936b457-0a6f-4f5b-8585-d18f420bbcd1\",\"type\":\"LinearAxis\"}],\"plot_height\":400,\"plot_width\":400,\"renderers\":[{\"id\":\"5720725a-d342-49c9-b0a5-d470312d8305\",\"type\":\"LinearAxis\"},{\"id\":\"5a3054dd-38e6-4a87-9159-dff2e8d63b50\",\"type\":\"Grid\"},{\"id\":\"a936b457-0a6f-4f5b-8585-d18f420bbcd1\",\"type\":\"LinearAxis\"},{\"id\":\"18b5d3f1-52c9-4887-bcab-c60704a1742a\",\"type\":\"Grid\"},{\"id\":\"eccf10a0-d9ae-43e7-8ce0-c77da33e7a15\",\"type\":\"BoxAnnotation\"},{\"id\":\"c4262faf-4459-42e0-898f-066e0a5d4114\",\"type\":\"GlyphRenderer\"}],\"title\":{\"id\":\"ba2e8e7b-e3d9-4822-a5e6-40a776f4d72a\",\"type\":\"Title\"},\"toolbar\":{\"id\":\"b85ad7ae-f5d0-494c-9d61-92dd8155a529\",\"type\":\"Toolbar\"},\"x_range\":{\"id\":\"286eed13-bbbc-4284-b3c0-8030bfafedad\",\"type\":\"DataRange1d\"},\"x_scale\":{\"id\":\"342fa3de-beb7-4b43-800a-fb3137a49b72\",\"type\":\"LinearScale\"},\"y_range\":{\"id\":\"e10b010a-fa1c-4ce9-85d3-30fa67082f91\",\"type\":\"DataRange1d\"},\"y_scale\":{\"id\":\"3c6e341f-b317-40e3-86f3-54c0cc67357b\",\"type\":\"LinearScale\"}},\"id\":\"9beb17ee-85c8-4a08-a84e-2ca5b928bd56\",\"subtype\":\"Figure\",\"type\":\"Plot\"},{\"attributes\":{},\"id\":\"68afc235-83fb-4122-934d-ad98398f1655\",\"type\":\"SaveTool\"},{\"attributes\":{\"callback\":null,\"column_names\":[\"x\",\"y\",\"size\"],\"data\":{\"size\":[10,15,20,25,30],\"x\":[1,2,3,4,5],\"y\":[6,7,2,4,5]}},\"id\":\"186979b9-db1b-4802-afb7-668e8ae7f8c3\",\"type\":\"ColumnDataSource\"},{\"attributes\":{\"formatter\":{\"id\":\"71b60e52-137d-4bfe-b0d3-64dcca9e6177\",\"type\":\"BasicTickFormatter\"},\"plot\":{\"id\":\"9beb17ee-85c8-4a08-a84e-2ca5b928bd56\",\"subtype\":\"Figure\",\"type\":\"Plot\"},\"ticker\":{\"id\":\"bc831af5-223d-42c9-925c-0f0d084319d7\",\"type\":\"BasicTicker\"}},\"id\":\"a936b457-0a6f-4f5b-8585-d18f420bbcd1\",\"type\":\"LinearAxis\"},{\"attributes\":{},\"id\":\"1f4b994c-dd9d-483c-a178-942070345b00\",\"type\":\"ResetTool\"},{\"attributes\":{\"data_source\":{\"id\":\"186979b9-db1b-4802-afb7-668e8ae7f8c3\",\"type\":\"ColumnDataSource\"},\"glyph\":{\"id\":\"60c22724-817f-4754-ba3c-9b655731db71\",\"type\":\"Square\"},\"hover_glyph\":null,\"muted_glyph\":null,\"nonselection_glyph\":{\"id\":\"fdadf6a2-5739-43a9-b465-94dec615dd2f\",\"type\":\"Square\"},\"selection_glyph\":null,\"view\":{\"id\":\"9d1f3a24-8694-472c-8711-94a4d68d2cd8\",\"type\":\"CDSView\"}},\"id\":\"c4262faf-4459-42e0-898f-066e0a5d4114\",\"type\":\"GlyphRenderer\"},{\"attributes\":{},\"id\":\"d1d37ee5-a115-4888-8121-c02964165da7\",\"type\":\"HelpTool\"},{\"attributes\":{\"active_drag\":\"auto\",\"active_inspect\":\"auto\",\"active_scroll\":\"auto\",\"active_tap\":\"auto\",\"tools\":[{\"id\":\"6d878cf0-df89-45dc-a39c-0a220a286bef\",\"type\":\"PanTool\"},{\"id\":\"b3d3e4e1-8431-49b7-a1de-8e950eb9ce09\",\"type\":\"WheelZoomTool\"},{\"id\":\"09c61173-77b4-4ad6-aa77-10530dfd404b\",\"type\":\"BoxZoomTool\"},{\"id\":\"68afc235-83fb-4122-934d-ad98398f1655\",\"type\":\"SaveTool\"},{\"id\":\"1f4b994c-dd9d-483c-a178-942070345b00\",\"type\":\"ResetTool\"},{\"id\":\"d1d37ee5-a115-4888-8121-c02964165da7\",\"type\":\"HelpTool\"}]},\"id\":\"b85ad7ae-f5d0-494c-9d61-92dd8155a529\",\"type\":\"Toolbar\"},{\"attributes\":{\"fill_alpha\":{\"value\":0.1},\"fill_color\":{\"value\":\"#1f77b4\"},\"line_alpha\":{\"value\":0.1},\"line_color\":{\"value\":\"#1f77b4\"},\"size\":{\"field\":\"size\",\"units\":\"screen\"},\"x\":{\"field\":\"x\"},\"y\":{\"field\":\"y\"}},\"id\":\"fdadf6a2-5739-43a9-b465-94dec615dd2f\",\"type\":\"Square\"},{\"attributes\":{\"plot\":null,\"text\":\"\"},\"id\":\"ba2e8e7b-e3d9-4822-a5e6-40a776f4d72a\",\"type\":\"Title\"},{\"attributes\":{\"dimension\":1,\"plot\":{\"id\":\"9beb17ee-85c8-4a08-a84e-2ca5b928bd56\",\"subtype\":\"Figure\",\"type\":\"Plot\"},\"ticker\":{\"id\":\"bc831af5-223d-42c9-925c-0f0d084319d7\",\"type\":\"BasicTicker\"}},\"id\":\"18b5d3f1-52c9-4887-bcab-c60704a1742a\",\"type\":\"Grid\"},{\"attributes\":{},\"id\":\"3c6e341f-b317-40e3-86f3-54c0cc67357b\",\"type\":\"LinearScale\"},{\"attributes\":{\"formatter\":{\"id\":\"cb139af6-2546-4007-9c52-b62cea32aaf5\",\"type\":\"BasicTickFormatter\"},\"plot\":{\"id\":\"9beb17ee-85c8-4a08-a84e-2ca5b928bd56\",\"subtype\":\"Figure\",\"type\":\"Plot\"},\"ticker\":{\"id\":\"8284bd09-7362-42a7-b24c-d961de6a8e60\",\"type\":\"BasicTicker\"}},\"id\":\"5720725a-d342-49c9-b0a5-d470312d8305\",\"type\":\"LinearAxis\"},{\"attributes\":{\"callback\":null},\"id\":\"e10b010a-fa1c-4ce9-85d3-30fa67082f91\",\"type\":\"DataRange1d\"},{\"attributes\":{},\"id\":\"342fa3de-beb7-4b43-800a-fb3137a49b72\",\"type\":\"LinearScale\"},{\"attributes\":{},\"id\":\"8284bd09-7362-42a7-b24c-d961de6a8e60\",\"type\":\"BasicTicker\"},{\"attributes\":{},\"id\":\"71b60e52-137d-4bfe-b0d3-64dcca9e6177\",\"type\":\"BasicTickFormatter\"},{\"attributes\":{},\"id\":\"bc831af5-223d-42c9-925c-0f0d084319d7\",\"type\":\"BasicTicker\"},{\"attributes\":{\"plot\":{\"id\":\"9beb17ee-85c8-4a08-a84e-2ca5b928bd56\",\"subtype\":\"Figure\",\"type\":\"Plot\"},\"ticker\":{\"id\":\"8284bd09-7362-42a7-b24c-d961de6a8e60\",\"type\":\"BasicTicker\"}},\"id\":\"5a3054dd-38e6-4a87-9159-dff2e8d63b50\",\"type\":\"Grid\"}],\"root_ids\":[\"9beb17ee-85c8-4a08-a84e-2ca5b928bd56\"]},\"title\":\"Bokeh Application\",\"version\":\"0.12.13\"}};\n",
       "  var render_items = [{\"docid\":\"cc812e6c-ab4e-41ac-979a-626239c0ccf3\",\"elementid\":\"00379d99-bb0b-4364-bb79-d846308f31e9\",\"modelid\":\"9beb17ee-85c8-4a08-a84e-2ca5b928bd56\"}];\n",
       "  root.Bokeh.embed.embed_items_notebook(docs_json, render_items);\n",
       "\n",
       "  }\n",
       "  if (root.Bokeh !== undefined) {\n",
       "    embed_document(root);\n",
       "  } else {\n",
       "    var attempts = 0;\n",
       "    var timer = setInterval(function(root) {\n",
       "      if (root.Bokeh !== undefined) {\n",
       "        embed_document(root);\n",
       "        clearInterval(timer);\n",
       "      }\n",
       "      attempts++;\n",
       "      if (attempts > 100) {\n",
       "        console.log(\"Bokeh: ERROR: Unable to run BokehJS code because BokehJS library is missing\")\n",
       "        clearInterval(timer);\n",
       "      }\n",
       "    }, 10, root)\n",
       "  }\n",
       "})(window);"
      ],
      "application/vnd.bokehjs_exec.v0+json": ""
     },
     "metadata": {
      "application/vnd.bokehjs_exec.v0+json": {
       "id": "9beb17ee-85c8-4a08-a84e-2ca5b928bd56"
      }
     },
     "output_type": "display_data"
    }
   ],
   "source": [
    "# create a new plot using figure\n",
    "p = figure(plot_width=400, plot_height=400)\n",
    "\n",
    "# add a square renderer with a size, color, alpha, and sizes\n",
    "p.square([1, 2, 3, 4, 5], [6, 7, 2, 4, 5], size=[10, 15, 20, 25, 30], color=\"firebrick\", alpha=0.6)\n",
    "\n",
    "show(p) # show the results"
   ]
  },
  {
   "cell_type": "markdown",
   "metadata": {},
   "source": [
    "Note that in the example above, we are also specifying different sizes for each individual marker. ***In general, all of a glyph's properties can be \"vectorized\" in this fashion. ***  Also note that we have passed ``color`` as a shorthand to set both the line and fill colors easily at the same time. This is a convenience specific to ``bokeh.plotting``.\n",
    "\n",
    "</table><p>There are many marker types available in Bokeh, you can see details and\n",
    "example plots for all of them in the reference guide by clicking on entries in the list below:</p>\n",
    "<table class=\"hlist\" style=\"float:left\"><tr><td><ul>\n",
    "<li><a href=\"http://bokeh.pydata.org/en/latest/docs/reference/plotting.html#bokeh.plotting.Figure.asterisk\" title=\"bokeh.plotting.Figure.asterisk\"><code class=\"xref py py-func docutils literal\"><span class=\"pre\">asterisk()</span></code></a></li>\n",
    "<li><a href=\"http://bokeh.pydata.org/en/latest/docs/reference/plotting.html#bokeh.plotting.Figure.circle\" title=\"bokeh.plotting.Figure.circle\"><code class=\"xref py py-func docutils literal\"><span class=\"pre\">circle()</span></code></a></li>\n",
    "<li><a href=\"http://bokeh.pydata.org/en/latest/docs/reference/plotting.html#bokeh.plotting.Figure.circle_cross\" title=\"bokeh.plotting.Figure.circle_cross\"><code class=\"xref py py-func docutils literal\"><span class=\"pre\">circle_cross()</span></code></a></li>\n",
    "<li><a href=\"http://bokeh.pydata.org/en/latest/docs/reference/plotting.html#bokeh.plotting.Figure.circle_x\" title=\"bokeh.plotting.Figure.circle_x\"><code class=\"xref py py-func docutils literal\"><span class=\"pre\">circle_x()</span></code></a></li>\n",
    "<li><a href=\"http://bokeh.pydata.org/en/latest/docs/reference/plotting.html#bokeh.plotting.Figure.cross\" title=\"bokeh.plotting.Figure.cross\"><code class=\"xref py py-func docutils literal\"><span class=\"pre\">cross()</span></code></a></li>\n",
    "</ul>\n",
    "</td><td><ul>\n",
    "<li><a href=\"http://bokeh.pydata.org/en/latest/docs/reference/plotting.html#bokeh.plotting.Figure.diamond\" title=\"bokeh.plotting.Figure.diamond\"><code class=\"xref py py-func docutils literal\"><span class=\"pre\">diamond()</span></code></a></li>\n",
    "<li><a href=\"http://bokeh.pydata.org/en/latest/docs/reference/plotting.html#bokeh.plotting.Figure.diamond_cross\" title=\"bokeh.plotting.Figure.diamond_cross\"><code class=\"xref py py-func docutils literal\"><span class=\"pre\">diamond_cross()</span></code></a></li>\n",
    "<li><a href=\"http://bokeh.pydata.org/en/latest/docs/reference/plotting.html#bokeh.plotting.Figure.inverted_triangle\" title=\"bokeh.plotting.Figure.inverted_triangle\"><code class=\"xref py py-func docutils literal\"><span class=\"pre\">inverted_triangle()</span></code></a></li>\n",
    "<li><a href=\"http://bokeh.pydata.org/en/latest/docs/reference/plotting.html#bokeh.plotting.Figure.square\" title=\"bokeh.plotting.Figure.square\"><code class=\"xref py py-func docutils literal\"><span class=\"pre\">square()</span></code></a></li>\n",
    "</ul>\n",
    "</td><td><ul>\n",
    "<li><a href=\"http://bokeh.pydata.org/en/latest/docs/reference/plotting.html#bokeh.plotting.Figure.square_cross\" title=\"bokeh.plotting.Figure.square_cross\"><code class=\"xref py py-func docutils literal\"><span class=\"pre\">square_cross()</span></code></a></li>\n",
    "<li><a href=\"http://bokeh.pydata.org/en/latest/docs/reference/plotting.html#bokeh.plotting.Figure.square_x\" title=\"bokeh.plotting.Figure.square_x\"><code class=\"xref py py-func docutils literal\"><span class=\"pre\">square_x()</span></code></a></li>\n",
    "<li><a href=\"http://bokeh.pydata.org/en/latest/docs/reference/plotting.html#bokeh.plotting.Figure.triangle\" title=\"bokeh.plotting.Figure.triangle\"><code class=\"xref py py-func docutils literal\"><span class=\"pre\">triangle()</span></code></a></li>\n",
    "<li><a href=\"http://bokeh.pydata.org/en/latest/docs/reference/plotting.html#bokeh.plotting.Figure.x\" title=\"bokeh.plotting.Figure.x\"><code class=\"xref py py-func docutils literal\"><span class=\"pre\">x()</span></code></a></li>\n",
    "</ul>\n",
    "</td></tr></table>"
   ]
  },
  {
   "cell_type": "code",
   "execution_count": 15,
   "metadata": {},
   "outputs": [
    {
     "data": {
      "text/html": [
       "\n",
       "<div class=\"bk-root\">\n",
       "    <div class=\"bk-plotdiv\" id=\"cd939e88-77ff-4707-a06e-885037c0c016\"></div>\n",
       "</div>"
      ]
     },
     "metadata": {},
     "output_type": "display_data"
    },
    {
     "data": {
      "application/javascript": [
       "(function(root) {\n",
       "  function embed_document(root) {\n",
       "    \n",
       "  var docs_json = {\"c9f8c206-fdeb-4cbc-8f73-30b4cfee38e1\":{\"roots\":{\"references\":[{\"attributes\":{},\"id\":\"5d6cafd9-fb41-486f-a8d6-b040875e287f\",\"type\":\"PanTool\"},{\"attributes\":{\"bottom_units\":\"screen\",\"fill_alpha\":{\"value\":0.5},\"fill_color\":{\"value\":\"lightgrey\"},\"left_units\":\"screen\",\"level\":\"overlay\",\"line_alpha\":{\"value\":1.0},\"line_color\":{\"value\":\"black\"},\"line_dash\":[4,4],\"line_width\":{\"value\":2},\"plot\":null,\"render_mode\":\"css\",\"right_units\":\"screen\",\"top_units\":\"screen\"},\"id\":\"fa92296e-43fa-4f76-8ca8-75411f86f2bf\",\"type\":\"BoxAnnotation\"},{\"attributes\":{},\"id\":\"83871a2f-6082-41b9-9a76-3488d8a5fea2\",\"type\":\"WheelZoomTool\"},{\"attributes\":{},\"id\":\"a4103f38-257f-440a-b29c-9730ff722540\",\"type\":\"BasicTickFormatter\"},{\"attributes\":{\"data_source\":{\"id\":\"cc17e2fe-307c-472f-9e97-8e9404b29e28\",\"type\":\"ColumnDataSource\"},\"glyph\":{\"id\":\"a70ca8d3-f1d6-451c-a7b6-351d565e8af6\",\"type\":\"Asterisk\"},\"hover_glyph\":null,\"muted_glyph\":null,\"nonselection_glyph\":{\"id\":\"11bde04a-f443-4bcd-9a25-8cda1bfd994f\",\"type\":\"Asterisk\"},\"selection_glyph\":null,\"view\":{\"id\":\"7cedf1a6-8309-42eb-b32f-b42794db7c4d\",\"type\":\"CDSView\"}},\"id\":\"8181d7f1-332b-4fb3-96f2-4aa20960962d\",\"type\":\"GlyphRenderer\"},{\"attributes\":{\"fill_color\":{\"value\":\"#1f77b4\"},\"line_color\":{\"value\":\"#1f77b4\"},\"size\":{\"units\":\"screen\",\"value\":10},\"x\":{\"field\":\"x\"},\"y\":{\"field\":\"y\"}},\"id\":\"a70ca8d3-f1d6-451c-a7b6-351d565e8af6\",\"type\":\"Asterisk\"},{\"attributes\":{\"formatter\":{\"id\":\"a4103f38-257f-440a-b29c-9730ff722540\",\"type\":\"BasicTickFormatter\"},\"plot\":{\"id\":\"e640d474-c7b3-48d9-9dba-3d97bfeda1ce\",\"subtype\":\"Figure\",\"type\":\"Plot\"},\"ticker\":{\"id\":\"f5c60968-14fa-4d81-8921-7e36f75a5ff6\",\"type\":\"BasicTicker\"}},\"id\":\"8fcd9b71-1e8e-4a46-b666-c4b291c70ff8\",\"type\":\"LinearAxis\"},{\"attributes\":{\"formatter\":{\"id\":\"65be51d4-23b4-44bc-ab9b-667ebc0cda81\",\"type\":\"BasicTickFormatter\"},\"plot\":{\"id\":\"e640d474-c7b3-48d9-9dba-3d97bfeda1ce\",\"subtype\":\"Figure\",\"type\":\"Plot\"},\"ticker\":{\"id\":\"c397e472-9a64-4c76-9f32-73155f0980fb\",\"type\":\"BasicTicker\"}},\"id\":\"a14d9164-ec07-45b1-942c-227d4bd37554\",\"type\":\"LinearAxis\"},{\"attributes\":{\"callback\":null,\"end\":5},\"id\":\"703ee0f0-e578-4447-827a-424b971b6285\",\"type\":\"Range1d\"},{\"attributes\":{\"plot\":{\"id\":\"e640d474-c7b3-48d9-9dba-3d97bfeda1ce\",\"subtype\":\"Figure\",\"type\":\"Plot\"},\"ticker\":{\"id\":\"c397e472-9a64-4c76-9f32-73155f0980fb\",\"type\":\"BasicTicker\"}},\"id\":\"52b301ca-89de-49ee-83c5-f67c91a6ca86\",\"type\":\"Grid\"},{\"attributes\":{},\"id\":\"1b09700c-18ec-4f78-87a3-4295c4b2b3d1\",\"type\":\"SaveTool\"},{\"attributes\":{\"active_drag\":\"auto\",\"active_inspect\":\"auto\",\"active_scroll\":\"auto\",\"active_tap\":\"auto\",\"tools\":[{\"id\":\"5d6cafd9-fb41-486f-a8d6-b040875e287f\",\"type\":\"PanTool\"},{\"id\":\"83871a2f-6082-41b9-9a76-3488d8a5fea2\",\"type\":\"WheelZoomTool\"},{\"id\":\"46ba90e6-3d3b-4757-a263-f0e09748ba6b\",\"type\":\"BoxZoomTool\"},{\"id\":\"1b09700c-18ec-4f78-87a3-4295c4b2b3d1\",\"type\":\"SaveTool\"},{\"id\":\"06effde3-041a-431c-a966-50be770d2b24\",\"type\":\"ResetTool\"},{\"id\":\"43318b5b-8680-46a2-8c95-6fd19208b1d0\",\"type\":\"HelpTool\"}]},\"id\":\"5cf1e476-fc0a-4817-b24c-94afa69e4b97\",\"type\":\"Toolbar\"},{\"attributes\":{},\"id\":\"65be51d4-23b4-44bc-ab9b-667ebc0cda81\",\"type\":\"BasicTickFormatter\"},{\"attributes\":{},\"id\":\"c599d1c4-61ad-4840-94c3-3f4e8738befc\",\"type\":\"LinearScale\"},{\"attributes\":{\"fill_alpha\":{\"value\":0.1},\"fill_color\":{\"value\":\"#1f77b4\"},\"line_alpha\":{\"value\":0.1},\"line_color\":{\"value\":\"#1f77b4\"},\"size\":{\"units\":\"screen\",\"value\":10},\"x\":{\"field\":\"x\"},\"y\":{\"field\":\"y\"}},\"id\":\"11bde04a-f443-4bcd-9a25-8cda1bfd994f\",\"type\":\"Asterisk\"},{\"attributes\":{},\"id\":\"c397e472-9a64-4c76-9f32-73155f0980fb\",\"type\":\"BasicTicker\"},{\"attributes\":{},\"id\":\"0c729cc9-9529-4831-8ae0-b8068d27be9b\",\"type\":\"LinearScale\"},{\"attributes\":{\"overlay\":{\"id\":\"fa92296e-43fa-4f76-8ca8-75411f86f2bf\",\"type\":\"BoxAnnotation\"}},\"id\":\"46ba90e6-3d3b-4757-a263-f0e09748ba6b\",\"type\":\"BoxZoomTool\"},{\"attributes\":{\"source\":{\"id\":\"cc17e2fe-307c-472f-9e97-8e9404b29e28\",\"type\":\"ColumnDataSource\"}},\"id\":\"7cedf1a6-8309-42eb-b32f-b42794db7c4d\",\"type\":\"CDSView\"},{\"attributes\":{\"below\":[{\"id\":\"a14d9164-ec07-45b1-942c-227d4bd37554\",\"type\":\"LinearAxis\"}],\"left\":[{\"id\":\"8fcd9b71-1e8e-4a46-b666-c4b291c70ff8\",\"type\":\"LinearAxis\"}],\"renderers\":[{\"id\":\"a14d9164-ec07-45b1-942c-227d4bd37554\",\"type\":\"LinearAxis\"},{\"id\":\"52b301ca-89de-49ee-83c5-f67c91a6ca86\",\"type\":\"Grid\"},{\"id\":\"8fcd9b71-1e8e-4a46-b666-c4b291c70ff8\",\"type\":\"LinearAxis\"},{\"id\":\"940ac122-e658-4974-b122-4988fc4cf8be\",\"type\":\"Grid\"},{\"id\":\"fa92296e-43fa-4f76-8ca8-75411f86f2bf\",\"type\":\"BoxAnnotation\"},{\"id\":\"8181d7f1-332b-4fb3-96f2-4aa20960962d\",\"type\":\"GlyphRenderer\"}],\"title\":{\"id\":\"5daa0e47-b89c-4c20-b14f-40cdf665f0df\",\"type\":\"Title\"},\"toolbar\":{\"id\":\"5cf1e476-fc0a-4817-b24c-94afa69e4b97\",\"type\":\"Toolbar\"},\"x_range\":{\"id\":\"703ee0f0-e578-4447-827a-424b971b6285\",\"type\":\"Range1d\"},\"x_scale\":{\"id\":\"0c729cc9-9529-4831-8ae0-b8068d27be9b\",\"type\":\"LinearScale\"},\"y_range\":{\"id\":\"8c03bf5c-fd91-4911-a557-7179af3057e3\",\"type\":\"Range1d\"},\"y_scale\":{\"id\":\"c599d1c4-61ad-4840-94c3-3f4e8738befc\",\"type\":\"LinearScale\"}},\"id\":\"e640d474-c7b3-48d9-9dba-3d97bfeda1ce\",\"subtype\":\"Figure\",\"type\":\"Plot\"},{\"attributes\":{\"dimension\":1,\"plot\":{\"id\":\"e640d474-c7b3-48d9-9dba-3d97bfeda1ce\",\"subtype\":\"Figure\",\"type\":\"Plot\"},\"ticker\":{\"id\":\"f5c60968-14fa-4d81-8921-7e36f75a5ff6\",\"type\":\"BasicTicker\"}},\"id\":\"940ac122-e658-4974-b122-4988fc4cf8be\",\"type\":\"Grid\"},{\"attributes\":{\"plot\":null,\"text\":\"\"},\"id\":\"5daa0e47-b89c-4c20-b14f-40cdf665f0df\",\"type\":\"Title\"},{\"attributes\":{\"callback\":null,\"end\":20},\"id\":\"8c03bf5c-fd91-4911-a557-7179af3057e3\",\"type\":\"Range1d\"},{\"attributes\":{\"callback\":null,\"column_names\":[\"x\",\"y\"],\"data\":{\"x\":[1,2,3,4,5],\"y\":[9,8,7,6,5]}},\"id\":\"cc17e2fe-307c-472f-9e97-8e9404b29e28\",\"type\":\"ColumnDataSource\"},{\"attributes\":{},\"id\":\"43318b5b-8680-46a2-8c95-6fd19208b1d0\",\"type\":\"HelpTool\"},{\"attributes\":{},\"id\":\"06effde3-041a-431c-a966-50be770d2b24\",\"type\":\"ResetTool\"},{\"attributes\":{},\"id\":\"f5c60968-14fa-4d81-8921-7e36f75a5ff6\",\"type\":\"BasicTicker\"}],\"root_ids\":[\"e640d474-c7b3-48d9-9dba-3d97bfeda1ce\"]},\"title\":\"Bokeh Application\",\"version\":\"0.12.13\"}};\n",
       "  var render_items = [{\"docid\":\"c9f8c206-fdeb-4cbc-8f73-30b4cfee38e1\",\"elementid\":\"cd939e88-77ff-4707-a06e-885037c0c016\",\"modelid\":\"e640d474-c7b3-48d9-9dba-3d97bfeda1ce\"}];\n",
       "  root.Bokeh.embed.embed_items_notebook(docs_json, render_items);\n",
       "\n",
       "  }\n",
       "  if (root.Bokeh !== undefined) {\n",
       "    embed_document(root);\n",
       "  } else {\n",
       "    var attempts = 0;\n",
       "    var timer = setInterval(function(root) {\n",
       "      if (root.Bokeh !== undefined) {\n",
       "        embed_document(root);\n",
       "        clearInterval(timer);\n",
       "      }\n",
       "      attempts++;\n",
       "      if (attempts > 100) {\n",
       "        console.log(\"Bokeh: ERROR: Unable to run BokehJS code because BokehJS library is missing\")\n",
       "        clearInterval(timer);\n",
       "      }\n",
       "    }, 10, root)\n",
       "  }\n",
       "})(window);"
      ],
      "application/vnd.bokehjs_exec.v0+json": ""
     },
     "metadata": {
      "application/vnd.bokehjs_exec.v0+json": {
       "id": "e640d474-c7b3-48d9-9dba-3d97bfeda1ce"
      }
     },
     "output_type": "display_data"
    }
   ],
   "source": [
    "# EXERCISE: Plot some different markers in this cell\n",
    "\n",
    "p = figure(x_range=(0,5), y_range=(0,20))\n",
    "\n",
    "p.asterisk([1,2,3,4,5],[9,8,7,6,5],size=10)\n",
    "\n",
    "\n",
    "show(p)"
   ]
  },
  {
   "cell_type": "markdown",
   "metadata": {},
   "source": [
    "# Basic Line Plots"
   ]
  },
  {
   "cell_type": "code",
   "execution_count": 16,
   "metadata": {},
   "outputs": [
    {
     "data": {
      "text/html": [
       "\n",
       "<div class=\"bk-root\">\n",
       "    <div class=\"bk-plotdiv\" id=\"f19cd7c3-7dc9-47d5-84e0-d215550ed292\"></div>\n",
       "</div>"
      ]
     },
     "metadata": {},
     "output_type": "display_data"
    },
    {
     "data": {
      "application/javascript": [
       "(function(root) {\n",
       "  function embed_document(root) {\n",
       "    \n",
       "  var docs_json = {\"83676701-eeb5-465b-95ba-8e564659c396\":{\"roots\":{\"references\":[{\"attributes\":{},\"id\":\"500d646b-a8ea-468a-95f4-aa690a8e302f\",\"type\":\"WheelZoomTool\"},{\"attributes\":{\"active_drag\":\"auto\",\"active_inspect\":\"auto\",\"active_scroll\":\"auto\",\"active_tap\":\"auto\",\"tools\":[{\"id\":\"fe4e2b5a-4a0d-4178-8c04-94b623d9609b\",\"type\":\"PanTool\"},{\"id\":\"500d646b-a8ea-468a-95f4-aa690a8e302f\",\"type\":\"WheelZoomTool\"},{\"id\":\"21bc9d1e-9785-4420-a830-25166378d988\",\"type\":\"BoxZoomTool\"},{\"id\":\"139f07c9-c0d4-4300-adde-8cefe0ddc506\",\"type\":\"SaveTool\"},{\"id\":\"49af59c8-4c14-4088-947a-47ed76db46ec\",\"type\":\"ResetTool\"},{\"id\":\"6c15c595-1f68-40ff-803e-da8b73a00fbd\",\"type\":\"HelpTool\"}]},\"id\":\"0db12e61-56b2-4898-978e-a6e5679992de\",\"type\":\"Toolbar\"},{\"attributes\":{\"bottom_units\":\"screen\",\"fill_alpha\":{\"value\":0.5},\"fill_color\":{\"value\":\"lightgrey\"},\"left_units\":\"screen\",\"level\":\"overlay\",\"line_alpha\":{\"value\":1.0},\"line_color\":{\"value\":\"black\"},\"line_dash\":[4,4],\"line_width\":{\"value\":2},\"plot\":null,\"render_mode\":\"css\",\"right_units\":\"screen\",\"top_units\":\"screen\"},\"id\":\"ae4a44e3-3fd1-41da-bde4-bd8c12155263\",\"type\":\"BoxAnnotation\"},{\"attributes\":{\"formatter\":{\"id\":\"7f8b4ad2-f393-4cef-b393-2b262b17e638\",\"type\":\"BasicTickFormatter\"},\"plot\":{\"id\":\"ebe88bb8-fa87-4033-827b-43cdc76a6d9d\",\"subtype\":\"Figure\",\"type\":\"Plot\"},\"ticker\":{\"id\":\"9b675c1a-7058-4029-8ac9-59baf4a40819\",\"type\":\"BasicTicker\"}},\"id\":\"2979f369-6ed5-480b-a958-9fa4288425b9\",\"type\":\"LinearAxis\"},{\"attributes\":{},\"id\":\"6c15c595-1f68-40ff-803e-da8b73a00fbd\",\"type\":\"HelpTool\"},{\"attributes\":{\"callback\":null},\"id\":\"20c80dcf-06df-4447-af12-d419e5820185\",\"type\":\"DataRange1d\"},{\"attributes\":{},\"id\":\"e815bb6b-d50c-44e0-baec-24abff11657b\",\"type\":\"BasicTicker\"},{\"attributes\":{\"plot\":{\"id\":\"ebe88bb8-fa87-4033-827b-43cdc76a6d9d\",\"subtype\":\"Figure\",\"type\":\"Plot\"},\"ticker\":{\"id\":\"9b675c1a-7058-4029-8ac9-59baf4a40819\",\"type\":\"BasicTicker\"}},\"id\":\"aaf972a6-0da0-4ec3-9a67-7a95273215ce\",\"type\":\"Grid\"},{\"attributes\":{\"source\":{\"id\":\"1df92d77-516e-4d5f-aecb-14b961b21bc4\",\"type\":\"ColumnDataSource\"}},\"id\":\"6b2de660-3f09-495f-8960-3c20a39cee07\",\"type\":\"CDSView\"},{\"attributes\":{\"plot\":null,\"text\":\"My Line Plot\"},\"id\":\"be269a37-4c6d-420c-84c5-5bc14ba1591f\",\"type\":\"Title\"},{\"attributes\":{},\"id\":\"9b675c1a-7058-4029-8ac9-59baf4a40819\",\"type\":\"BasicTicker\"},{\"attributes\":{\"formatter\":{\"id\":\"a13f3c6b-194c-40ce-b9d4-4b5387134028\",\"type\":\"BasicTickFormatter\"},\"plot\":{\"id\":\"ebe88bb8-fa87-4033-827b-43cdc76a6d9d\",\"subtype\":\"Figure\",\"type\":\"Plot\"},\"ticker\":{\"id\":\"e815bb6b-d50c-44e0-baec-24abff11657b\",\"type\":\"BasicTicker\"}},\"id\":\"a189c0f6-6700-4208-ac32-adb3c602c333\",\"type\":\"LinearAxis\"},{\"attributes\":{\"line_alpha\":0.1,\"line_color\":\"#1f77b4\",\"line_width\":2,\"x\":{\"field\":\"x\"},\"y\":{\"field\":\"y\"}},\"id\":\"be22dfd9-279f-4945-8821-4ba687474d1d\",\"type\":\"Line\"},{\"attributes\":{\"data_source\":{\"id\":\"1df92d77-516e-4d5f-aecb-14b961b21bc4\",\"type\":\"ColumnDataSource\"},\"glyph\":{\"id\":\"ee0aa223-9f0e-4670-a631-3bcac0fefbeb\",\"type\":\"Line\"},\"hover_glyph\":null,\"muted_glyph\":null,\"nonselection_glyph\":{\"id\":\"be22dfd9-279f-4945-8821-4ba687474d1d\",\"type\":\"Line\"},\"selection_glyph\":null,\"view\":{\"id\":\"6b2de660-3f09-495f-8960-3c20a39cee07\",\"type\":\"CDSView\"}},\"id\":\"74e2c5ee-dddb-4911-80b7-8fbd50bf6ad7\",\"type\":\"GlyphRenderer\"},{\"attributes\":{\"below\":[{\"id\":\"2979f369-6ed5-480b-a958-9fa4288425b9\",\"type\":\"LinearAxis\"}],\"left\":[{\"id\":\"a189c0f6-6700-4208-ac32-adb3c602c333\",\"type\":\"LinearAxis\"}],\"plot_height\":400,\"plot_width\":400,\"renderers\":[{\"id\":\"2979f369-6ed5-480b-a958-9fa4288425b9\",\"type\":\"LinearAxis\"},{\"id\":\"aaf972a6-0da0-4ec3-9a67-7a95273215ce\",\"type\":\"Grid\"},{\"id\":\"a189c0f6-6700-4208-ac32-adb3c602c333\",\"type\":\"LinearAxis\"},{\"id\":\"44c7eb04-45e0-4456-9a85-e77075a64f20\",\"type\":\"Grid\"},{\"id\":\"ae4a44e3-3fd1-41da-bde4-bd8c12155263\",\"type\":\"BoxAnnotation\"},{\"id\":\"74e2c5ee-dddb-4911-80b7-8fbd50bf6ad7\",\"type\":\"GlyphRenderer\"}],\"title\":{\"id\":\"be269a37-4c6d-420c-84c5-5bc14ba1591f\",\"type\":\"Title\"},\"toolbar\":{\"id\":\"0db12e61-56b2-4898-978e-a6e5679992de\",\"type\":\"Toolbar\"},\"x_range\":{\"id\":\"20c80dcf-06df-4447-af12-d419e5820185\",\"type\":\"DataRange1d\"},\"x_scale\":{\"id\":\"e9c97d52-8808-45f7-b94c-d5efa5be87bf\",\"type\":\"LinearScale\"},\"y_range\":{\"id\":\"3b111d33-1f9f-489b-84ab-1ba8be8f4dca\",\"type\":\"DataRange1d\"},\"y_scale\":{\"id\":\"4d29cb59-9546-4f38-bdfd-cea564f013e5\",\"type\":\"LinearScale\"}},\"id\":\"ebe88bb8-fa87-4033-827b-43cdc76a6d9d\",\"subtype\":\"Figure\",\"type\":\"Plot\"},{\"attributes\":{},\"id\":\"7f8b4ad2-f393-4cef-b393-2b262b17e638\",\"type\":\"BasicTickFormatter\"},{\"attributes\":{\"callback\":null},\"id\":\"3b111d33-1f9f-489b-84ab-1ba8be8f4dca\",\"type\":\"DataRange1d\"},{\"attributes\":{\"callback\":null,\"column_names\":[\"x\",\"y\"],\"data\":{\"x\":[1,2,3,4,5],\"y\":[6,7,2,4,5]}},\"id\":\"1df92d77-516e-4d5f-aecb-14b961b21bc4\",\"type\":\"ColumnDataSource\"},{\"attributes\":{},\"id\":\"139f07c9-c0d4-4300-adde-8cefe0ddc506\",\"type\":\"SaveTool\"},{\"attributes\":{},\"id\":\"4d29cb59-9546-4f38-bdfd-cea564f013e5\",\"type\":\"LinearScale\"},{\"attributes\":{},\"id\":\"e9c97d52-8808-45f7-b94c-d5efa5be87bf\",\"type\":\"LinearScale\"},{\"attributes\":{\"line_color\":\"#1f77b4\",\"line_width\":2,\"x\":{\"field\":\"x\"},\"y\":{\"field\":\"y\"}},\"id\":\"ee0aa223-9f0e-4670-a631-3bcac0fefbeb\",\"type\":\"Line\"},{\"attributes\":{\"overlay\":{\"id\":\"ae4a44e3-3fd1-41da-bde4-bd8c12155263\",\"type\":\"BoxAnnotation\"}},\"id\":\"21bc9d1e-9785-4420-a830-25166378d988\",\"type\":\"BoxZoomTool\"},{\"attributes\":{},\"id\":\"a13f3c6b-194c-40ce-b9d4-4b5387134028\",\"type\":\"BasicTickFormatter\"},{\"attributes\":{\"dimension\":1,\"plot\":{\"id\":\"ebe88bb8-fa87-4033-827b-43cdc76a6d9d\",\"subtype\":\"Figure\",\"type\":\"Plot\"},\"ticker\":{\"id\":\"e815bb6b-d50c-44e0-baec-24abff11657b\",\"type\":\"BasicTicker\"}},\"id\":\"44c7eb04-45e0-4456-9a85-e77075a64f20\",\"type\":\"Grid\"},{\"attributes\":{},\"id\":\"49af59c8-4c14-4088-947a-47ed76db46ec\",\"type\":\"ResetTool\"},{\"attributes\":{},\"id\":\"fe4e2b5a-4a0d-4178-8c04-94b623d9609b\",\"type\":\"PanTool\"}],\"root_ids\":[\"ebe88bb8-fa87-4033-827b-43cdc76a6d9d\"]},\"title\":\"Bokeh Application\",\"version\":\"0.12.13\"}};\n",
       "  var render_items = [{\"docid\":\"83676701-eeb5-465b-95ba-8e564659c396\",\"elementid\":\"f19cd7c3-7dc9-47d5-84e0-d215550ed292\",\"modelid\":\"ebe88bb8-fa87-4033-827b-43cdc76a6d9d\"}];\n",
       "  root.Bokeh.embed.embed_items_notebook(docs_json, render_items);\n",
       "\n",
       "  }\n",
       "  if (root.Bokeh !== undefined) {\n",
       "    embed_document(root);\n",
       "  } else {\n",
       "    var attempts = 0;\n",
       "    var timer = setInterval(function(root) {\n",
       "      if (root.Bokeh !== undefined) {\n",
       "        embed_document(root);\n",
       "        clearInterval(timer);\n",
       "      }\n",
       "      attempts++;\n",
       "      if (attempts > 100) {\n",
       "        console.log(\"Bokeh: ERROR: Unable to run BokehJS code because BokehJS library is missing\")\n",
       "        clearInterval(timer);\n",
       "      }\n",
       "    }, 10, root)\n",
       "  }\n",
       "})(window);"
      ],
      "application/vnd.bokehjs_exec.v0+json": ""
     },
     "metadata": {
      "application/vnd.bokehjs_exec.v0+json": {
       "id": "ebe88bb8-fa87-4033-827b-43cdc76a6d9d"
      }
     },
     "output_type": "display_data"
    }
   ],
   "source": [
    "# create a new plot (with a title) using figure\n",
    "p = figure(plot_width=400, plot_height=400, title=\"My Line Plot\")\n",
    "\n",
    "# add a line renderer\n",
    "p.line([1, 2, 3, 4, 5], [6, 7, 2, 4, 5], line_width=2)\n",
    "\n",
    "show(p) # show the results"
   ]
  },
  {
   "cell_type": "markdown",
   "metadata": {},
   "source": [
    "# Images"
   ]
  },
  {
   "cell_type": "markdown",
   "metadata": {},
   "source": [
    "The example below shows how to use the `image_rgba` method to display raw RGBA data. \n",
    "\n",
    "**Note**: This example makes use of the NumPy library "
   ]
  },
  {
   "cell_type": "code",
   "execution_count": 17,
   "metadata": {},
   "outputs": [
    {
     "data": {
      "text/html": [
       "\n",
       "<div class=\"bk-root\">\n",
       "    <div class=\"bk-plotdiv\" id=\"13d82edb-1fa7-4a53-be6d-96459c96b1b1\"></div>\n",
       "</div>"
      ]
     },
     "metadata": {},
     "output_type": "display_data"
    },
    {
     "data": {
      "application/javascript": [
       "(function(root) {\n",
       "  function embed_document(root) {\n",
       "    \n",
       "  var docs_json = {\"abeae937-1c3b-4e80-864a-9c8fed42a3b4\":{\"roots\":{\"references\":[{\"attributes\":{},\"id\":\"d7313910-55eb-4d8f-b829-b46549ac9f28\",\"type\":\"LinearScale\"},{\"attributes\":{\"plot\":null,\"text\":\"\"},\"id\":\"93e8af8e-71d4-471f-8359-fc0e4214e980\",\"type\":\"Title\"},{\"attributes\":{},\"id\":\"f71c4a6f-c107-4126-b9c3-03ea05ae5696\",\"type\":\"LinearScale\"},{\"attributes\":{\"plot\":{\"id\":\"7127b0a1-9aa1-4e0e-8d34-868b583ed453\",\"subtype\":\"Figure\",\"type\":\"Plot\"},\"ticker\":{\"id\":\"6a495749-8f26-4d23-aae4-6ad27becb70a\",\"type\":\"BasicTicker\"}},\"id\":\"7f20147f-03a3-44b2-8ee2-9115ca20f134\",\"type\":\"Grid\"},{\"attributes\":{\"formatter\":{\"id\":\"c0677812-b69d-47d0-8abb-c754b682c25c\",\"type\":\"BasicTickFormatter\"},\"plot\":{\"id\":\"7127b0a1-9aa1-4e0e-8d34-868b583ed453\",\"subtype\":\"Figure\",\"type\":\"Plot\"},\"ticker\":{\"id\":\"6a495749-8f26-4d23-aae4-6ad27becb70a\",\"type\":\"BasicTicker\"}},\"id\":\"f16cc41e-4681-4ae1-8ae1-01cf7ad87277\",\"type\":\"LinearAxis\"},{\"attributes\":{},\"id\":\"6a495749-8f26-4d23-aae4-6ad27becb70a\",\"type\":\"BasicTicker\"},{\"attributes\":{},\"id\":\"308ff072-db0d-4fdc-a73c-909bd3aae6be\",\"type\":\"BasicTickFormatter\"},{\"attributes\":{},\"id\":\"20b410e1-77fb-48a1-895d-fa2092f7183f\",\"type\":\"HelpTool\"},{\"attributes\":{\"formatter\":{\"id\":\"308ff072-db0d-4fdc-a73c-909bd3aae6be\",\"type\":\"BasicTickFormatter\"},\"plot\":{\"id\":\"7127b0a1-9aa1-4e0e-8d34-868b583ed453\",\"subtype\":\"Figure\",\"type\":\"Plot\"},\"ticker\":{\"id\":\"28c5a903-fcde-47f8-8989-e695b90313c4\",\"type\":\"BasicTicker\"}},\"id\":\"16002878-4a6b-4061-af0c-6bfc72ed539a\",\"type\":\"LinearAxis\"},{\"attributes\":{},\"id\":\"28c5a903-fcde-47f8-8989-e695b90313c4\",\"type\":\"BasicTicker\"},{\"attributes\":{\"dimension\":1,\"plot\":{\"id\":\"7127b0a1-9aa1-4e0e-8d34-868b583ed453\",\"subtype\":\"Figure\",\"type\":\"Plot\"},\"ticker\":{\"id\":\"28c5a903-fcde-47f8-8989-e695b90313c4\",\"type\":\"BasicTicker\"}},\"id\":\"f9d80c2b-d345-4fc6-8ea3-8975080daadc\",\"type\":\"Grid\"},{\"attributes\":{\"dh\":{\"field\":\"dh\",\"units\":\"data\"},\"dw\":{\"field\":\"dw\",\"units\":\"data\"},\"image\":{\"field\":\"image\"},\"x\":{\"field\":\"x\"},\"y\":{\"field\":\"y\"}},\"id\":\"a610e3e1-b8bc-4805-bd9a-8883fe8318f2\",\"type\":\"ImageRGBA\"},{\"attributes\":{\"dh\":{\"field\":\"dh\",\"units\":\"data\"},\"dw\":{\"field\":\"dw\",\"units\":\"data\"},\"image\":{\"field\":\"image\"},\"x\":{\"field\":\"x\"},\"y\":{\"field\":\"y\"}},\"id\":\"c6b7ca93-aff0-4fb1-8555-c5fc1911b4eb\",\"type\":\"ImageRGBA\"},{\"attributes\":{\"callback\":null,\"column_names\":[\"image\",\"x\",\"y\",\"dw\",\"dh\"],\"data\":{\"dh\":[10],\"dw\":[10],\"image\":[{\"__ndarray__\":\"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\",\"dtype\":\"uint32\",\"shape\":[20,20]}],\"x\":[0],\"y\":[0]}},\"id\":\"9cb64ec5-abbc-40b5-810a-6903f5f5741e\",\"type\":\"ColumnDataSource\"},{\"attributes\":{\"source\":{\"id\":\"9cb64ec5-abbc-40b5-810a-6903f5f5741e\",\"type\":\"ColumnDataSource\"}},\"id\":\"adc6a31f-f40c-4e65-b587-dcb611dd5d52\",\"type\":\"CDSView\"},{\"attributes\":{\"data_source\":{\"id\":\"9cb64ec5-abbc-40b5-810a-6903f5f5741e\",\"type\":\"ColumnDataSource\"},\"glyph\":{\"id\":\"c6b7ca93-aff0-4fb1-8555-c5fc1911b4eb\",\"type\":\"ImageRGBA\"},\"hover_glyph\":null,\"muted_glyph\":null,\"nonselection_glyph\":{\"id\":\"a610e3e1-b8bc-4805-bd9a-8883fe8318f2\",\"type\":\"ImageRGBA\"},\"selection_glyph\":null,\"view\":{\"id\":\"adc6a31f-f40c-4e65-b587-dcb611dd5d52\",\"type\":\"CDSView\"}},\"id\":\"9cfe1539-48f2-4fd2-bf9e-0d2d2e6fb81a\",\"type\":\"GlyphRenderer\"},{\"attributes\":{},\"id\":\"e0cd4f8c-6b69-4438-b752-56ecd4986ad8\",\"type\":\"PanTool\"},{\"attributes\":{\"below\":[{\"id\":\"f16cc41e-4681-4ae1-8ae1-01cf7ad87277\",\"type\":\"LinearAxis\"}],\"left\":[{\"id\":\"16002878-4a6b-4061-af0c-6bfc72ed539a\",\"type\":\"LinearAxis\"}],\"renderers\":[{\"id\":\"f16cc41e-4681-4ae1-8ae1-01cf7ad87277\",\"type\":\"LinearAxis\"},{\"id\":\"7f20147f-03a3-44b2-8ee2-9115ca20f134\",\"type\":\"Grid\"},{\"id\":\"16002878-4a6b-4061-af0c-6bfc72ed539a\",\"type\":\"LinearAxis\"},{\"id\":\"f9d80c2b-d345-4fc6-8ea3-8975080daadc\",\"type\":\"Grid\"},{\"id\":\"99090067-1070-4478-ac4d-3ea348be0d3e\",\"type\":\"BoxAnnotation\"},{\"id\":\"9cfe1539-48f2-4fd2-bf9e-0d2d2e6fb81a\",\"type\":\"GlyphRenderer\"}],\"title\":{\"id\":\"93e8af8e-71d4-471f-8359-fc0e4214e980\",\"type\":\"Title\"},\"toolbar\":{\"id\":\"e3893299-45b3-4a51-a360-3f96af5767d5\",\"type\":\"Toolbar\"},\"x_range\":{\"id\":\"0ac1257e-bc32-4cd2-90b2-5f42250e7ff2\",\"type\":\"Range1d\"},\"x_scale\":{\"id\":\"d7313910-55eb-4d8f-b829-b46549ac9f28\",\"type\":\"LinearScale\"},\"y_range\":{\"id\":\"ffbc0db1-8d9d-43f8-af92-de0281d7bdd4\",\"type\":\"Range1d\"},\"y_scale\":{\"id\":\"f71c4a6f-c107-4126-b9c3-03ea05ae5696\",\"type\":\"LinearScale\"}},\"id\":\"7127b0a1-9aa1-4e0e-8d34-868b583ed453\",\"subtype\":\"Figure\",\"type\":\"Plot\"},{\"attributes\":{\"bottom_units\":\"screen\",\"fill_alpha\":{\"value\":0.5},\"fill_color\":{\"value\":\"lightgrey\"},\"left_units\":\"screen\",\"level\":\"overlay\",\"line_alpha\":{\"value\":1.0},\"line_color\":{\"value\":\"black\"},\"line_dash\":[4,4],\"line_width\":{\"value\":2},\"plot\":null,\"render_mode\":\"css\",\"right_units\":\"screen\",\"top_units\":\"screen\"},\"id\":\"99090067-1070-4478-ac4d-3ea348be0d3e\",\"type\":\"BoxAnnotation\"},{\"attributes\":{},\"id\":\"fe28588c-d21f-4257-8d35-00c4d7412c9e\",\"type\":\"ResetTool\"},{\"attributes\":{\"active_drag\":\"auto\",\"active_inspect\":\"auto\",\"active_scroll\":\"auto\",\"active_tap\":\"auto\",\"tools\":[{\"id\":\"e0cd4f8c-6b69-4438-b752-56ecd4986ad8\",\"type\":\"PanTool\"},{\"id\":\"63a5d9c2-3472-46fa-8a1f-f72c8f2e549d\",\"type\":\"WheelZoomTool\"},{\"id\":\"b2be15e2-f150-43de-ac7c-5282448d88f0\",\"type\":\"BoxZoomTool\"},{\"id\":\"8aa925e7-2346-409e-bbf8-a0bb0e6a7be9\",\"type\":\"SaveTool\"},{\"id\":\"fe28588c-d21f-4257-8d35-00c4d7412c9e\",\"type\":\"ResetTool\"},{\"id\":\"20b410e1-77fb-48a1-895d-fa2092f7183f\",\"type\":\"HelpTool\"}]},\"id\":\"e3893299-45b3-4a51-a360-3f96af5767d5\",\"type\":\"Toolbar\"},{\"attributes\":{},\"id\":\"63a5d9c2-3472-46fa-8a1f-f72c8f2e549d\",\"type\":\"WheelZoomTool\"},{\"attributes\":{\"callback\":null,\"end\":10},\"id\":\"0ac1257e-bc32-4cd2-90b2-5f42250e7ff2\",\"type\":\"Range1d\"},{\"attributes\":{\"overlay\":{\"id\":\"99090067-1070-4478-ac4d-3ea348be0d3e\",\"type\":\"BoxAnnotation\"}},\"id\":\"b2be15e2-f150-43de-ac7c-5282448d88f0\",\"type\":\"BoxZoomTool\"},{\"attributes\":{},\"id\":\"c0677812-b69d-47d0-8abb-c754b682c25c\",\"type\":\"BasicTickFormatter\"},{\"attributes\":{},\"id\":\"8aa925e7-2346-409e-bbf8-a0bb0e6a7be9\",\"type\":\"SaveTool\"},{\"attributes\":{\"callback\":null,\"end\":10},\"id\":\"ffbc0db1-8d9d-43f8-af92-de0281d7bdd4\",\"type\":\"Range1d\"}],\"root_ids\":[\"7127b0a1-9aa1-4e0e-8d34-868b583ed453\"]},\"title\":\"Bokeh Application\",\"version\":\"0.12.13\"}};\n",
       "  var render_items = [{\"docid\":\"abeae937-1c3b-4e80-864a-9c8fed42a3b4\",\"elementid\":\"13d82edb-1fa7-4a53-be6d-96459c96b1b1\",\"modelid\":\"7127b0a1-9aa1-4e0e-8d34-868b583ed453\"}];\n",
       "  root.Bokeh.embed.embed_items_notebook(docs_json, render_items);\n",
       "\n",
       "  }\n",
       "  if (root.Bokeh !== undefined) {\n",
       "    embed_document(root);\n",
       "  } else {\n",
       "    var attempts = 0;\n",
       "    var timer = setInterval(function(root) {\n",
       "      if (root.Bokeh !== undefined) {\n",
       "        embed_document(root);\n",
       "        clearInterval(timer);\n",
       "      }\n",
       "      attempts++;\n",
       "      if (attempts > 100) {\n",
       "        console.log(\"Bokeh: ERROR: Unable to run BokehJS code because BokehJS library is missing\")\n",
       "        clearInterval(timer);\n",
       "      }\n",
       "    }, 10, root)\n",
       "  }\n",
       "})(window);"
      ],
      "application/vnd.bokehjs_exec.v0+json": ""
     },
     "metadata": {
      "application/vnd.bokehjs_exec.v0+json": {
       "id": "7127b0a1-9aa1-4e0e-8d34-868b583ed453"
      }
     },
     "output_type": "display_data"
    }
   ],
   "source": [
    "from __future__ import division\n",
    "import numpy as np\n",
    "\n",
    "# set up some data\n",
    "N = 20\n",
    "img = np.empty((N,N), dtype=np.uint32)\n",
    "view = img.view(dtype=np.uint8).reshape((N, N, 4))\n",
    "for i in range(N):\n",
    "    for j in range(N):\n",
    "        view[i, j, 0] = int(i/N*255) # red\n",
    "        view[i, j, 1] = 158          # green\n",
    "        view[i, j, 2] = int(j/N*255) # blue\n",
    "        view[i, j, 3] = 255          # alpha\n",
    "        \n",
    "# create a new plot (with a fixed range) using figure\n",
    "p = figure(x_range=[0,10], y_range=[0,10])\n",
    "\n",
    "# add an RGBA image renderer\n",
    "p.image_rgba(image=[img], x=[0], y=[0], dw=[10], dh=[10])\n",
    "\n",
    "show(p) # show the results"
   ]
  },
  {
   "cell_type": "markdown",
   "metadata": {},
   "source": [
    "# Other Kinds of Glyphs\n",
    "\n",
    "Bokeh supports many other kinds of glyphs. You can click on the User Guide links below to see how to create plots with these glyphs using the [`bokeh.plotting`](http://bokeh.pydata.org/en/latest/docs/user_guide/plotting.html) interface.\n",
    "\n",
    "* [Rectangles and Ovals](http://bokeh.pydata.org/en/latest/docs/user_guide/plotting.html#rectangles-and-ovals)\n",
    "* [Segments and Rays](http://bokeh.pydata.org/en/latest/docs/user_guide/plotting.html#segments-and-rays)\n",
    "* [Wedges and Arcs](http://bokeh.pydata.org/en/latest/docs/user_guide/plotting.html#wedges-and-arcs)\n",
    "* [Specialized Curves](http://bokeh.pydata.org/en/latest/docs/user_guide/plotting.html#specialized-curves)\n"
   ]
  },
  {
   "cell_type": "code",
   "execution_count": 23,
   "metadata": {},
   "outputs": [
    {
     "data": {
      "text/html": [
       "\n",
       "<div class=\"bk-root\">\n",
       "    <div class=\"bk-plotdiv\" id=\"bbd3be36-540e-4a58-bb13-580f4e882c2e\"></div>\n",
       "</div>"
      ]
     },
     "metadata": {},
     "output_type": "display_data"
    },
    {
     "data": {
      "application/javascript": [
       "(function(root) {\n",
       "  function embed_document(root) {\n",
       "    \n",
       "  var docs_json = {\"3dea901f-9ffc-40c5-acdc-ca86465bda61\":{\"roots\":{\"references\":[{\"attributes\":{\"dimension\":1,\"plot\":{\"id\":\"f404e4b4-eb45-4d70-aa99-453ef3ec5e14\",\"subtype\":\"Figure\",\"type\":\"Plot\"},\"ticker\":{\"id\":\"1c797940-dfc0-44b2-9b09-0bbadc7e40dc\",\"type\":\"BasicTicker\"}},\"id\":\"949c2b77-d2bb-4756-8b4e-8b51487b06e9\",\"type\":\"Grid\"},{\"attributes\":{},\"id\":\"74bf100f-ad4d-49d8-893d-f2118cc04c9c\",\"type\":\"BasicTicker\"},{\"attributes\":{\"overlay\":{\"id\":\"294b0dc2-1a13-4c09-a3dd-c0619eab0c21\",\"type\":\"BoxAnnotation\"}},\"id\":\"7de91241-a62a-4117-9d97-c340a3565049\",\"type\":\"BoxZoomTool\"},{\"attributes\":{\"source\":{\"id\":\"aa7f7873-58c1-4033-a1b2-2ac0c2a024aa\",\"type\":\"ColumnDataSource\"}},\"id\":\"a7ea4a13-b588-4418-b67c-2e733644a2e5\",\"type\":\"CDSView\"},{\"attributes\":{\"callback\":null},\"id\":\"126fcaed-0cb9-4f96-900c-e3fe8d6d281f\",\"type\":\"DataRange1d\"},{\"attributes\":{\"end_angle\":{\"units\":\"rad\",\"value\":2},\"line_alpha\":{\"value\":0.1},\"line_color\":{\"value\":\"#1f77b4\"},\"radius\":{\"units\":\"data\",\"value\":1.5},\"start_angle\":{\"units\":\"rad\",\"value\":0.5},\"x\":{\"field\":\"x\"},\"y\":{\"field\":\"y\"}},\"id\":\"cb400f2f-a061-4d2b-9dbb-6b1f4ee617f5\",\"type\":\"Arc\"},{\"attributes\":{},\"id\":\"349b179a-1cd3-42d7-9e26-bedf06b23624\",\"type\":\"SaveTool\"},{\"attributes\":{},\"id\":\"18d97dd3-fa57-4e09-89da-9ea0cd4a17fe\",\"type\":\"BasicTickFormatter\"},{\"attributes\":{},\"id\":\"669945d3-fb28-40d4-8db5-efc2c6a4f59a\",\"type\":\"LinearScale\"},{\"attributes\":{\"formatter\":{\"id\":\"18d97dd3-fa57-4e09-89da-9ea0cd4a17fe\",\"type\":\"BasicTickFormatter\"},\"plot\":{\"id\":\"f404e4b4-eb45-4d70-aa99-453ef3ec5e14\",\"subtype\":\"Figure\",\"type\":\"Plot\"},\"ticker\":{\"id\":\"1c797940-dfc0-44b2-9b09-0bbadc7e40dc\",\"type\":\"BasicTicker\"}},\"id\":\"85e06717-0cb8-4ee9-a7f5-6d2346114fab\",\"type\":\"LinearAxis\"},{\"attributes\":{},\"id\":\"23385c29-3149-4e6a-a93f-9fbc7ad7a3bd\",\"type\":\"ResetTool\"},{\"attributes\":{\"callback\":null},\"id\":\"bf65ed5a-d682-47cf-ac53-f464643654fc\",\"type\":\"DataRange1d\"},{\"attributes\":{\"data_source\":{\"id\":\"aa7f7873-58c1-4033-a1b2-2ac0c2a024aa\",\"type\":\"ColumnDataSource\"},\"glyph\":{\"id\":\"5525f382-2ce9-4efd-ba7a-980b1b8e3ca8\",\"type\":\"Arc\"},\"hover_glyph\":null,\"muted_glyph\":null,\"nonselection_glyph\":{\"id\":\"cb400f2f-a061-4d2b-9dbb-6b1f4ee617f5\",\"type\":\"Arc\"},\"selection_glyph\":null,\"view\":{\"id\":\"a7ea4a13-b588-4418-b67c-2e733644a2e5\",\"type\":\"CDSView\"}},\"id\":\"23976aa1-1cce-45eb-b828-a5af23f2aaa8\",\"type\":\"GlyphRenderer\"},{\"attributes\":{},\"id\":\"144624d1-312e-41d4-9146-dd18c66aedb5\",\"type\":\"HelpTool\"},{\"attributes\":{\"end_angle\":{\"units\":\"rad\",\"value\":2},\"line_color\":{\"value\":\"steelblue\"},\"radius\":{\"units\":\"data\",\"value\":1.5},\"start_angle\":{\"units\":\"rad\",\"value\":0.5},\"x\":{\"field\":\"x\"},\"y\":{\"field\":\"y\"}},\"id\":\"5525f382-2ce9-4efd-ba7a-980b1b8e3ca8\",\"type\":\"Arc\"},{\"attributes\":{\"active_drag\":\"auto\",\"active_inspect\":\"auto\",\"active_scroll\":\"auto\",\"active_tap\":\"auto\",\"tools\":[{\"id\":\"2087cce9-8e6d-4497-a133-5bdce36c4aaf\",\"type\":\"PanTool\"},{\"id\":\"3007c883-fd06-47f4-aca0-6c6993e4bff0\",\"type\":\"WheelZoomTool\"},{\"id\":\"7de91241-a62a-4117-9d97-c340a3565049\",\"type\":\"BoxZoomTool\"},{\"id\":\"349b179a-1cd3-42d7-9e26-bedf06b23624\",\"type\":\"SaveTool\"},{\"id\":\"23385c29-3149-4e6a-a93f-9fbc7ad7a3bd\",\"type\":\"ResetTool\"},{\"id\":\"144624d1-312e-41d4-9146-dd18c66aedb5\",\"type\":\"HelpTool\"}]},\"id\":\"1de2ee7e-8160-4f97-a8d1-4819d9cbdbe4\",\"type\":\"Toolbar\"},{\"attributes\":{\"plot\":{\"id\":\"f404e4b4-eb45-4d70-aa99-453ef3ec5e14\",\"subtype\":\"Figure\",\"type\":\"Plot\"},\"ticker\":{\"id\":\"74bf100f-ad4d-49d8-893d-f2118cc04c9c\",\"type\":\"BasicTicker\"}},\"id\":\"5f648b5f-1cd6-4dbc-a2b1-94622c49cb44\",\"type\":\"Grid\"},{\"attributes\":{},\"id\":\"2087cce9-8e6d-4497-a133-5bdce36c4aaf\",\"type\":\"PanTool\"},{\"attributes\":{\"below\":[{\"id\":\"2ce943ae-f689-47a2-af7d-b769215fbdee\",\"type\":\"LinearAxis\"}],\"left\":[{\"id\":\"85e06717-0cb8-4ee9-a7f5-6d2346114fab\",\"type\":\"LinearAxis\"}],\"plot_height\":400,\"plot_width\":400,\"renderers\":[{\"id\":\"2ce943ae-f689-47a2-af7d-b769215fbdee\",\"type\":\"LinearAxis\"},{\"id\":\"5f648b5f-1cd6-4dbc-a2b1-94622c49cb44\",\"type\":\"Grid\"},{\"id\":\"85e06717-0cb8-4ee9-a7f5-6d2346114fab\",\"type\":\"LinearAxis\"},{\"id\":\"949c2b77-d2bb-4756-8b4e-8b51487b06e9\",\"type\":\"Grid\"},{\"id\":\"294b0dc2-1a13-4c09-a3dd-c0619eab0c21\",\"type\":\"BoxAnnotation\"},{\"id\":\"23976aa1-1cce-45eb-b828-a5af23f2aaa8\",\"type\":\"GlyphRenderer\"}],\"title\":{\"id\":\"e1fe14cb-f44e-449b-a7e8-a61bbd7573bf\",\"type\":\"Title\"},\"toolbar\":{\"id\":\"1de2ee7e-8160-4f97-a8d1-4819d9cbdbe4\",\"type\":\"Toolbar\"},\"x_range\":{\"id\":\"bf65ed5a-d682-47cf-ac53-f464643654fc\",\"type\":\"DataRange1d\"},\"x_scale\":{\"id\":\"27d8aa3f-0404-45a4-9c2b-b929c9af64fe\",\"type\":\"LinearScale\"},\"y_range\":{\"id\":\"126fcaed-0cb9-4f96-900c-e3fe8d6d281f\",\"type\":\"DataRange1d\"},\"y_scale\":{\"id\":\"669945d3-fb28-40d4-8db5-efc2c6a4f59a\",\"type\":\"LinearScale\"}},\"id\":\"f404e4b4-eb45-4d70-aa99-453ef3ec5e14\",\"subtype\":\"Figure\",\"type\":\"Plot\"},{\"attributes\":{},\"id\":\"27d8aa3f-0404-45a4-9c2b-b929c9af64fe\",\"type\":\"LinearScale\"},{\"attributes\":{\"callback\":null,\"column_names\":[\"x\",\"y\"],\"data\":{\"x\":[1,2,3,4,5],\"y\":[4,5,6,7,8]}},\"id\":\"aa7f7873-58c1-4033-a1b2-2ac0c2a024aa\",\"type\":\"ColumnDataSource\"},{\"attributes\":{\"plot\":null,\"text\":\"\"},\"id\":\"e1fe14cb-f44e-449b-a7e8-a61bbd7573bf\",\"type\":\"Title\"},{\"attributes\":{\"bottom_units\":\"screen\",\"fill_alpha\":{\"value\":0.5},\"fill_color\":{\"value\":\"lightgrey\"},\"left_units\":\"screen\",\"level\":\"overlay\",\"line_alpha\":{\"value\":1.0},\"line_color\":{\"value\":\"black\"},\"line_dash\":[4,4],\"line_width\":{\"value\":2},\"plot\":null,\"render_mode\":\"css\",\"right_units\":\"screen\",\"top_units\":\"screen\"},\"id\":\"294b0dc2-1a13-4c09-a3dd-c0619eab0c21\",\"type\":\"BoxAnnotation\"},{\"attributes\":{},\"id\":\"1c797940-dfc0-44b2-9b09-0bbadc7e40dc\",\"type\":\"BasicTicker\"},{\"attributes\":{},\"id\":\"9d8f2cbb-b977-41ab-9b7f-07893a940429\",\"type\":\"BasicTickFormatter\"},{\"attributes\":{},\"id\":\"3007c883-fd06-47f4-aca0-6c6993e4bff0\",\"type\":\"WheelZoomTool\"},{\"attributes\":{\"formatter\":{\"id\":\"9d8f2cbb-b977-41ab-9b7f-07893a940429\",\"type\":\"BasicTickFormatter\"},\"plot\":{\"id\":\"f404e4b4-eb45-4d70-aa99-453ef3ec5e14\",\"subtype\":\"Figure\",\"type\":\"Plot\"},\"ticker\":{\"id\":\"74bf100f-ad4d-49d8-893d-f2118cc04c9c\",\"type\":\"BasicTicker\"}},\"id\":\"2ce943ae-f689-47a2-af7d-b769215fbdee\",\"type\":\"LinearAxis\"}],\"root_ids\":[\"f404e4b4-eb45-4d70-aa99-453ef3ec5e14\"]},\"title\":\"Bokeh Application\",\"version\":\"0.12.13\"}};\n",
       "  var render_items = [{\"docid\":\"3dea901f-9ffc-40c5-acdc-ca86465bda61\",\"elementid\":\"bbd3be36-540e-4a58-bb13-580f4e882c2e\",\"modelid\":\"f404e4b4-eb45-4d70-aa99-453ef3ec5e14\"}];\n",
       "  root.Bokeh.embed.embed_items_notebook(docs_json, render_items);\n",
       "\n",
       "  }\n",
       "  if (root.Bokeh !== undefined) {\n",
       "    embed_document(root);\n",
       "  } else {\n",
       "    var attempts = 0;\n",
       "    var timer = setInterval(function(root) {\n",
       "      if (root.Bokeh !== undefined) {\n",
       "        embed_document(root);\n",
       "        clearInterval(timer);\n",
       "      }\n",
       "      attempts++;\n",
       "      if (attempts > 100) {\n",
       "        console.log(\"Bokeh: ERROR: Unable to run BokehJS code because BokehJS library is missing\")\n",
       "        clearInterval(timer);\n",
       "      }\n",
       "    }, 10, root)\n",
       "  }\n",
       "})(window);"
      ],
      "application/vnd.bokehjs_exec.v0+json": ""
     },
     "metadata": {
      "application/vnd.bokehjs_exec.v0+json": {
       "id": "f404e4b4-eb45-4d70-aa99-453ef3ec5e14"
      }
     },
     "output_type": "display_data"
    }
   ],
   "source": [
    "# EXERCISE: Plot some of the other glyph types, following the examples in the User Guide. \n",
    "\n",
    "p = figure(plot_width=400, plot_height=400)\n",
    "\n",
    "p.arc([1,2,3,4,5],[4,5,6,7,8], radius=1.5, start_angle=0.5, end_angle=2, color=\"steelblue\")\n",
    "\n",
    "show(p)"
   ]
  },
  {
   "cell_type": "markdown",
   "metadata": {},
   "source": [
    "# Plots with Multiple Glyphs \n",
    "\n",
    "It is possible to combine more than one glyph on a single figure. You just need to call multiple glyph methods on one figure object:"
   ]
  },
  {
   "cell_type": "code",
   "execution_count": 24,
   "metadata": {},
   "outputs": [
    {
     "data": {
      "text/html": [
       "\n",
       "<div class=\"bk-root\">\n",
       "    <div class=\"bk-plotdiv\" id=\"67df74e6-bde1-4a06-90c0-61a6e2b6a3d3\"></div>\n",
       "</div>"
      ]
     },
     "metadata": {},
     "output_type": "display_data"
    },
    {
     "data": {
      "application/javascript": [
       "(function(root) {\n",
       "  function embed_document(root) {\n",
       "    \n",
       "  var docs_json = {\"c1989e75-3595-4105-bf48-5d61c2865dcc\":{\"roots\":{\"references\":[{\"attributes\":{\"callback\":null},\"id\":\"fd918490-461c-42ef-aa7f-07cfde3352f7\",\"type\":\"DataRange1d\"},{\"attributes\":{},\"id\":\"85882ad9-8a9e-4213-b961-4694a0212662\",\"type\":\"BasicTicker\"},{\"attributes\":{\"line_alpha\":0.1,\"line_color\":\"#1f77b4\",\"line_width\":2,\"x\":{\"field\":\"x\"},\"y\":{\"field\":\"y\"}},\"id\":\"6029899c-87c5-4987-b759-b3b5f375a45e\",\"type\":\"Line\"},{\"attributes\":{\"data_source\":{\"id\":\"176f8ec0-505d-43b0-a07c-3d9b2786025f\",\"type\":\"ColumnDataSource\"},\"glyph\":{\"id\":\"bd34fcff-dd2c-4c18-be5a-b0a21b2d11b5\",\"type\":\"Line\"},\"hover_glyph\":null,\"muted_glyph\":null,\"nonselection_glyph\":{\"id\":\"6029899c-87c5-4987-b759-b3b5f375a45e\",\"type\":\"Line\"},\"selection_glyph\":null,\"view\":{\"id\":\"e9c94128-8c01-4325-8e93-ac5cb9103e2e\",\"type\":\"CDSView\"}},\"id\":\"9245500d-6f99-4492-88f4-d84dc190f6bc\",\"type\":\"GlyphRenderer\"},{\"attributes\":{},\"id\":\"6d19956f-b5fe-405a-8d26-826bce6189f4\",\"type\":\"BasicTickFormatter\"},{\"attributes\":{\"bottom_units\":\"screen\",\"fill_alpha\":{\"value\":0.5},\"fill_color\":{\"value\":\"lightgrey\"},\"left_units\":\"screen\",\"level\":\"overlay\",\"line_alpha\":{\"value\":1.0},\"line_color\":{\"value\":\"black\"},\"line_dash\":[4,4],\"line_width\":{\"value\":2},\"plot\":null,\"render_mode\":\"css\",\"right_units\":\"screen\",\"top_units\":\"screen\"},\"id\":\"89af7cf5-4d3e-4230-9fe9-0b4b7415debe\",\"type\":\"BoxAnnotation\"},{\"attributes\":{},\"id\":\"444de12c-f83d-49f5-9e96-dd84cf7f41a4\",\"type\":\"PanTool\"},{\"attributes\":{\"source\":{\"id\":\"176f8ec0-505d-43b0-a07c-3d9b2786025f\",\"type\":\"ColumnDataSource\"}},\"id\":\"e9c94128-8c01-4325-8e93-ac5cb9103e2e\",\"type\":\"CDSView\"},{\"attributes\":{\"plot\":{\"id\":\"a140774f-57d3-4686-b63b-3f4cf561777d\",\"subtype\":\"Figure\",\"type\":\"Plot\"},\"ticker\":{\"id\":\"85882ad9-8a9e-4213-b961-4694a0212662\",\"type\":\"BasicTicker\"}},\"id\":\"f6992681-f577-4366-98e0-ae6dee3d1f78\",\"type\":\"Grid\"},{\"attributes\":{},\"id\":\"72f28219-b2ac-4a37-9dbf-7b31ecaa9be2\",\"type\":\"WheelZoomTool\"},{\"attributes\":{\"formatter\":{\"id\":\"3240e8eb-4b5e-4318-bffd-bb9325e75c14\",\"type\":\"BasicTickFormatter\"},\"plot\":{\"id\":\"a140774f-57d3-4686-b63b-3f4cf561777d\",\"subtype\":\"Figure\",\"type\":\"Plot\"},\"ticker\":{\"id\":\"717b0210-421b-4112-97dc-924d8fbbdde3\",\"type\":\"BasicTicker\"}},\"id\":\"0d73e31e-b199-46fd-8c76-fe4cfbc38300\",\"type\":\"LinearAxis\"},{\"attributes\":{\"overlay\":{\"id\":\"89af7cf5-4d3e-4230-9fe9-0b4b7415debe\",\"type\":\"BoxAnnotation\"}},\"id\":\"1984797e-67ae-4df6-a13f-1bc839f1d3cc\",\"type\":\"BoxZoomTool\"},{\"attributes\":{},\"id\":\"17696eb7-9721-429a-8b47-41da421384a9\",\"type\":\"SaveTool\"},{\"attributes\":{},\"id\":\"784c9905-9f57-4d99-82cc-4d2e65ac549f\",\"type\":\"ResetTool\"},{\"attributes\":{},\"id\":\"558e9fd7-2a1a-4c21-9129-d70faa37d7ec\",\"type\":\"HelpTool\"},{\"attributes\":{\"callback\":null,\"column_names\":[\"x\",\"y\"],\"data\":{\"x\":[1,2,3,4,5],\"y\":[6,7,8,7,3]}},\"id\":\"176f8ec0-505d-43b0-a07c-3d9b2786025f\",\"type\":\"ColumnDataSource\"},{\"attributes\":{\"fill_alpha\":{\"value\":0.1},\"fill_color\":{\"value\":\"#1f77b4\"},\"line_alpha\":{\"value\":0.1},\"line_color\":{\"value\":\"#1f77b4\"},\"size\":{\"units\":\"screen\",\"value\":8},\"x\":{\"field\":\"x\"},\"y\":{\"field\":\"y\"}},\"id\":\"8a6a4811-9640-49ad-bfac-4fd55fbebe91\",\"type\":\"Circle\"},{\"attributes\":{\"plot\":null,\"text\":\"\"},\"id\":\"695e7a60-cd26-447e-847b-56451ae9483f\",\"type\":\"Title\"},{\"attributes\":{\"fill_color\":{\"value\":\"white\"},\"line_color\":{\"value\":\"#1f77b4\"},\"size\":{\"units\":\"screen\",\"value\":8},\"x\":{\"field\":\"x\"},\"y\":{\"field\":\"y\"}},\"id\":\"7b60e382-c77f-42e7-9f59-9047e7520ff7\",\"type\":\"Circle\"},{\"attributes\":{\"data_source\":{\"id\":\"f2ee5723-d6c2-4987-a99c-819f581c9717\",\"type\":\"ColumnDataSource\"},\"glyph\":{\"id\":\"7b60e382-c77f-42e7-9f59-9047e7520ff7\",\"type\":\"Circle\"},\"hover_glyph\":null,\"muted_glyph\":null,\"nonselection_glyph\":{\"id\":\"8a6a4811-9640-49ad-bfac-4fd55fbebe91\",\"type\":\"Circle\"},\"selection_glyph\":null,\"view\":{\"id\":\"a1beb4da-4bc9-4222-9b62-aea6d21a9dd0\",\"type\":\"CDSView\"}},\"id\":\"f7742e8f-7e0b-46ba-a0ef-6432d872b48c\",\"type\":\"GlyphRenderer\"},{\"attributes\":{},\"id\":\"12e5cc20-ff2d-4ae0-8b10-f5f50995ee1a\",\"type\":\"LinearScale\"},{\"attributes\":{},\"id\":\"3240e8eb-4b5e-4318-bffd-bb9325e75c14\",\"type\":\"BasicTickFormatter\"},{\"attributes\":{\"dimension\":1,\"plot\":{\"id\":\"a140774f-57d3-4686-b63b-3f4cf561777d\",\"subtype\":\"Figure\",\"type\":\"Plot\"},\"ticker\":{\"id\":\"717b0210-421b-4112-97dc-924d8fbbdde3\",\"type\":\"BasicTicker\"}},\"id\":\"bc4ad1d7-4c06-4ffc-af7c-4a0e613aad35\",\"type\":\"Grid\"},{\"attributes\":{\"source\":{\"id\":\"f2ee5723-d6c2-4987-a99c-819f581c9717\",\"type\":\"ColumnDataSource\"}},\"id\":\"a1beb4da-4bc9-4222-9b62-aea6d21a9dd0\",\"type\":\"CDSView\"},{\"attributes\":{\"formatter\":{\"id\":\"6d19956f-b5fe-405a-8d26-826bce6189f4\",\"type\":\"BasicTickFormatter\"},\"plot\":{\"id\":\"a140774f-57d3-4686-b63b-3f4cf561777d\",\"subtype\":\"Figure\",\"type\":\"Plot\"},\"ticker\":{\"id\":\"85882ad9-8a9e-4213-b961-4694a0212662\",\"type\":\"BasicTicker\"}},\"id\":\"013be5bd-1736-4cff-b98e-7effcc44a71b\",\"type\":\"LinearAxis\"},{\"attributes\":{\"callback\":null,\"column_names\":[\"x\",\"y\"],\"data\":{\"x\":[1,2,3,4,5],\"y\":[6,7,8,7,3]}},\"id\":\"f2ee5723-d6c2-4987-a99c-819f581c9717\",\"type\":\"ColumnDataSource\"},{\"attributes\":{\"active_drag\":\"auto\",\"active_inspect\":\"auto\",\"active_scroll\":\"auto\",\"active_tap\":\"auto\",\"tools\":[{\"id\":\"444de12c-f83d-49f5-9e96-dd84cf7f41a4\",\"type\":\"PanTool\"},{\"id\":\"72f28219-b2ac-4a37-9dbf-7b31ecaa9be2\",\"type\":\"WheelZoomTool\"},{\"id\":\"1984797e-67ae-4df6-a13f-1bc839f1d3cc\",\"type\":\"BoxZoomTool\"},{\"id\":\"17696eb7-9721-429a-8b47-41da421384a9\",\"type\":\"SaveTool\"},{\"id\":\"784c9905-9f57-4d99-82cc-4d2e65ac549f\",\"type\":\"ResetTool\"},{\"id\":\"558e9fd7-2a1a-4c21-9129-d70faa37d7ec\",\"type\":\"HelpTool\"}]},\"id\":\"cab4578f-5fe9-4e76-a289-736429d9951c\",\"type\":\"Toolbar\"},{\"attributes\":{},\"id\":\"b019dcef-2e49-452b-a3ed-7221355e1631\",\"type\":\"LinearScale\"},{\"attributes\":{\"line_color\":\"#1f77b4\",\"line_width\":2,\"x\":{\"field\":\"x\"},\"y\":{\"field\":\"y\"}},\"id\":\"bd34fcff-dd2c-4c18-be5a-b0a21b2d11b5\",\"type\":\"Line\"},{\"attributes\":{\"below\":[{\"id\":\"013be5bd-1736-4cff-b98e-7effcc44a71b\",\"type\":\"LinearAxis\"}],\"left\":[{\"id\":\"0d73e31e-b199-46fd-8c76-fe4cfbc38300\",\"type\":\"LinearAxis\"}],\"plot_height\":400,\"plot_width\":400,\"renderers\":[{\"id\":\"013be5bd-1736-4cff-b98e-7effcc44a71b\",\"type\":\"LinearAxis\"},{\"id\":\"f6992681-f577-4366-98e0-ae6dee3d1f78\",\"type\":\"Grid\"},{\"id\":\"0d73e31e-b199-46fd-8c76-fe4cfbc38300\",\"type\":\"LinearAxis\"},{\"id\":\"bc4ad1d7-4c06-4ffc-af7c-4a0e613aad35\",\"type\":\"Grid\"},{\"id\":\"89af7cf5-4d3e-4230-9fe9-0b4b7415debe\",\"type\":\"BoxAnnotation\"},{\"id\":\"9245500d-6f99-4492-88f4-d84dc190f6bc\",\"type\":\"GlyphRenderer\"},{\"id\":\"f7742e8f-7e0b-46ba-a0ef-6432d872b48c\",\"type\":\"GlyphRenderer\"}],\"title\":{\"id\":\"695e7a60-cd26-447e-847b-56451ae9483f\",\"type\":\"Title\"},\"toolbar\":{\"id\":\"cab4578f-5fe9-4e76-a289-736429d9951c\",\"type\":\"Toolbar\"},\"x_range\":{\"id\":\"5b9216db-5690-4986-b952-cd713ea50736\",\"type\":\"DataRange1d\"},\"x_scale\":{\"id\":\"12e5cc20-ff2d-4ae0-8b10-f5f50995ee1a\",\"type\":\"LinearScale\"},\"y_range\":{\"id\":\"fd918490-461c-42ef-aa7f-07cfde3352f7\",\"type\":\"DataRange1d\"},\"y_scale\":{\"id\":\"b019dcef-2e49-452b-a3ed-7221355e1631\",\"type\":\"LinearScale\"}},\"id\":\"a140774f-57d3-4686-b63b-3f4cf561777d\",\"subtype\":\"Figure\",\"type\":\"Plot\"},{\"attributes\":{\"callback\":null},\"id\":\"5b9216db-5690-4986-b952-cd713ea50736\",\"type\":\"DataRange1d\"},{\"attributes\":{},\"id\":\"717b0210-421b-4112-97dc-924d8fbbdde3\",\"type\":\"BasicTicker\"}],\"root_ids\":[\"a140774f-57d3-4686-b63b-3f4cf561777d\"]},\"title\":\"Bokeh Application\",\"version\":\"0.12.13\"}};\n",
       "  var render_items = [{\"docid\":\"c1989e75-3595-4105-bf48-5d61c2865dcc\",\"elementid\":\"67df74e6-bde1-4a06-90c0-61a6e2b6a3d3\",\"modelid\":\"a140774f-57d3-4686-b63b-3f4cf561777d\"}];\n",
       "  root.Bokeh.embed.embed_items_notebook(docs_json, render_items);\n",
       "\n",
       "  }\n",
       "  if (root.Bokeh !== undefined) {\n",
       "    embed_document(root);\n",
       "  } else {\n",
       "    var attempts = 0;\n",
       "    var timer = setInterval(function(root) {\n",
       "      if (root.Bokeh !== undefined) {\n",
       "        embed_document(root);\n",
       "        clearInterval(timer);\n",
       "      }\n",
       "      attempts++;\n",
       "      if (attempts > 100) {\n",
       "        console.log(\"Bokeh: ERROR: Unable to run BokehJS code because BokehJS library is missing\")\n",
       "        clearInterval(timer);\n",
       "      }\n",
       "    }, 10, root)\n",
       "  }\n",
       "})(window);"
      ],
      "application/vnd.bokehjs_exec.v0+json": ""
     },
     "metadata": {
      "application/vnd.bokehjs_exec.v0+json": {
       "id": "a140774f-57d3-4686-b63b-3f4cf561777d"
      }
     },
     "output_type": "display_data"
    }
   ],
   "source": [
    "# set up some data\n",
    "x = [1, 2, 3, 4, 5]\n",
    "y = [6, 7, 8, 7, 3]\n",
    "\n",
    "# create a new plot with figure\n",
    "p = figure(plot_width=400, plot_height=400)\n",
    "\n",
    "# add both a line and circles on the same plot\n",
    "p.line(x, y, line_width=2)\n",
    "p.circle(x, y, fill_color=\"white\", size=8)\n",
    "\n",
    "show(p) # show the results"
   ]
  },
  {
   "cell_type": "code",
   "execution_count": 27,
   "metadata": {},
   "outputs": [
    {
     "name": "stderr",
     "output_type": "stream",
     "text": [
      "/Users/pauldefusco/anaconda2/envs/py36/lib/python3.6/site-packages/bokeh/models/sources.py:137: BokehUserWarning: ColumnDataSource's columns must be of the same length. Current lengths: ('x', 100), ('y', 200)\n",
      "  \"Current lengths: %s\" % \", \".join(sorted(str((k, len(v))) for k, v in data.items())), BokehUserWarning))\n",
      "/Users/pauldefusco/anaconda2/envs/py36/lib/python3.6/site-packages/bokeh/models/sources.py:137: BokehUserWarning: ColumnDataSource's columns must be of the same length. Current lengths: ('x', 100), ('y', 200)\n",
      "  \"Current lengths: %s\" % \", \".join(sorted(str((k, len(v))) for k, v in data.items())), BokehUserWarning))\n"
     ]
    },
    {
     "data": {
      "text/html": [
       "\n",
       "<div class=\"bk-root\">\n",
       "    <div class=\"bk-plotdiv\" id=\"110bbad8-e986-49d1-b999-f014a459257d\"></div>\n",
       "</div>"
      ]
     },
     "metadata": {},
     "output_type": "display_data"
    },
    {
     "data": {
      "application/javascript": [
       "(function(root) {\n",
       "  function embed_document(root) {\n",
       "    \n",
       "  var docs_json = {\"a0bb1c56-7f4c-4cb9-a85e-01f4fda2be98\":{\"roots\":{\"references\":[{\"attributes\":{},\"id\":\"d25f06a2-41dc-46d2-86a5-d87df12515b4\",\"type\":\"ResetTool\"},{\"attributes\":{\"angle\":{\"units\":\"rad\",\"value\":3},\"fill_color\":{\"value\":\"#1f77b4\"},\"line_color\":{\"value\":\"#1f77b4\"},\"size\":{\"units\":\"screen\",\"value\":300},\"x\":{\"field\":\"x\"},\"y\":{\"field\":\"y\"}},\"id\":\"48cab114-125d-4851-b96a-98c3ee89aac7\",\"type\":\"Asterisk\"},{\"attributes\":{},\"id\":\"e4a27cb8-3b1e-4493-92a4-6adc6ff350da\",\"type\":\"SaveTool\"},{\"attributes\":{\"end_angle\":{\"units\":\"rad\",\"value\":9},\"line_color\":{\"value\":\"#1f77b4\"},\"radius\":{\"units\":\"data\",\"value\":3},\"start_angle\":{\"units\":\"rad\",\"value\":0},\"x\":{\"field\":\"x\"},\"y\":{\"field\":\"y\"}},\"id\":\"1b016905-f0d5-438b-a3cb-87c98a2eebf7\",\"type\":\"Arc\"},{\"attributes\":{\"callback\":null},\"id\":\"8ce8effa-10c8-41bc-8981-9ec854fb5030\",\"type\":\"DataRange1d\"},{\"attributes\":{},\"id\":\"040cb7c3-3653-4fec-a0ec-354716c2f5b4\",\"type\":\"BasicTickFormatter\"},{\"attributes\":{\"formatter\":{\"id\":\"49855222-91ab-47a0-b46c-9e0f3dcc4e5f\",\"type\":\"BasicTickFormatter\"},\"plot\":{\"id\":\"79c5faa8-e7f0-4ef2-ad4a-7c74a2cbc1af\",\"subtype\":\"Figure\",\"type\":\"Plot\"},\"ticker\":{\"id\":\"d53b1ed8-3b42-4ca2-93f0-cd7ad5b95e0b\",\"type\":\"BasicTicker\"}},\"id\":\"91c76d08-6cee-4483-b489-6b05ba18a9e6\",\"type\":\"LinearAxis\"},{\"attributes\":{\"end_angle\":{\"units\":\"rad\",\"value\":9},\"line_alpha\":{\"value\":0.1},\"line_color\":{\"value\":\"#1f77b4\"},\"radius\":{\"units\":\"data\",\"value\":3},\"start_angle\":{\"units\":\"rad\",\"value\":0},\"x\":{\"field\":\"x\"},\"y\":{\"field\":\"y\"}},\"id\":\"d9f7e01c-4296-453f-a556-c5404f0b3c6d\",\"type\":\"Arc\"},{\"attributes\":{},\"id\":\"a8faba14-185d-4c4d-8d8d-58913ae4ac58\",\"type\":\"WheelZoomTool\"},{\"attributes\":{\"plot\":null,\"text\":\"\"},\"id\":\"ce7b289a-b6c1-4907-bbfe-c2036fa7667e\",\"type\":\"Title\"},{\"attributes\":{\"source\":{\"id\":\"6755d63c-96f9-44d3-aa3b-e79f96af5e96\",\"type\":\"ColumnDataSource\"}},\"id\":\"039536b5-ffc4-43d8-a36e-f6258d78a116\",\"type\":\"CDSView\"},{\"attributes\":{\"data_source\":{\"id\":\"6755d63c-96f9-44d3-aa3b-e79f96af5e96\",\"type\":\"ColumnDataSource\"},\"glyph\":{\"id\":\"1b016905-f0d5-438b-a3cb-87c98a2eebf7\",\"type\":\"Arc\"},\"hover_glyph\":null,\"muted_glyph\":null,\"nonselection_glyph\":{\"id\":\"d9f7e01c-4296-453f-a556-c5404f0b3c6d\",\"type\":\"Arc\"},\"selection_glyph\":null,\"view\":{\"id\":\"039536b5-ffc4-43d8-a36e-f6258d78a116\",\"type\":\"CDSView\"}},\"id\":\"951754a4-e8e2-44ba-9417-600963deb401\",\"type\":\"GlyphRenderer\"},{\"attributes\":{},\"id\":\"d53b1ed8-3b42-4ca2-93f0-cd7ad5b95e0b\",\"type\":\"BasicTicker\"},{\"attributes\":{\"data_source\":{\"id\":\"2ea28849-756b-4e25-bea1-526e609c7d3a\",\"type\":\"ColumnDataSource\"},\"glyph\":{\"id\":\"48cab114-125d-4851-b96a-98c3ee89aac7\",\"type\":\"Asterisk\"},\"hover_glyph\":null,\"muted_glyph\":null,\"nonselection_glyph\":{\"id\":\"f2ca79f0-2e8d-4a40-9799-3666f0de1ada\",\"type\":\"Asterisk\"},\"selection_glyph\":null,\"view\":{\"id\":\"d503c30d-9e11-4361-8ec0-3ea15c7ca77a\",\"type\":\"CDSView\"}},\"id\":\"81927b3f-3db0-451c-8b9e-b467f3b9193c\",\"type\":\"GlyphRenderer\"},{\"attributes\":{},\"id\":\"df5bbe5d-2f57-4d97-b9cd-5541b5ad38c1\",\"type\":\"HelpTool\"},{\"attributes\":{\"formatter\":{\"id\":\"040cb7c3-3653-4fec-a0ec-354716c2f5b4\",\"type\":\"BasicTickFormatter\"},\"plot\":{\"id\":\"79c5faa8-e7f0-4ef2-ad4a-7c74a2cbc1af\",\"subtype\":\"Figure\",\"type\":\"Plot\"},\"ticker\":{\"id\":\"a799c721-93ec-4096-92e3-7aab08970e10\",\"type\":\"BasicTicker\"}},\"id\":\"8721708b-5640-49b3-b733-614d385726bd\",\"type\":\"LinearAxis\"},{\"attributes\":{},\"id\":\"33eaeab3-2402-42e9-8058-1e97a5e64b3a\",\"type\":\"LinearScale\"},{\"attributes\":{\"active_drag\":\"auto\",\"active_inspect\":\"auto\",\"active_scroll\":\"auto\",\"active_tap\":\"auto\",\"tools\":[{\"id\":\"28cafdff-6942-4417-b090-94ab3a35ea36\",\"type\":\"PanTool\"},{\"id\":\"a8faba14-185d-4c4d-8d8d-58913ae4ac58\",\"type\":\"WheelZoomTool\"},{\"id\":\"92d38367-e10a-4376-9f9b-0843cf9fee92\",\"type\":\"BoxZoomTool\"},{\"id\":\"e4a27cb8-3b1e-4493-92a4-6adc6ff350da\",\"type\":\"SaveTool\"},{\"id\":\"d25f06a2-41dc-46d2-86a5-d87df12515b4\",\"type\":\"ResetTool\"},{\"id\":\"df5bbe5d-2f57-4d97-b9cd-5541b5ad38c1\",\"type\":\"HelpTool\"}]},\"id\":\"b5677645-41fd-44e2-8324-a357434fd8bd\",\"type\":\"Toolbar\"},{\"attributes\":{\"callback\":null},\"id\":\"d06574af-1971-47e6-b18a-558aa1a30d04\",\"type\":\"DataRange1d\"},{\"attributes\":{\"bottom_units\":\"screen\",\"fill_alpha\":{\"value\":0.5},\"fill_color\":{\"value\":\"lightgrey\"},\"left_units\":\"screen\",\"level\":\"overlay\",\"line_alpha\":{\"value\":1.0},\"line_color\":{\"value\":\"black\"},\"line_dash\":[4,4],\"line_width\":{\"value\":2},\"plot\":null,\"render_mode\":\"css\",\"right_units\":\"screen\",\"top_units\":\"screen\"},\"id\":\"661209ee-c857-4aed-af98-397b7f84b9a6\",\"type\":\"BoxAnnotation\"},{\"attributes\":{\"source\":{\"id\":\"2ea28849-756b-4e25-bea1-526e609c7d3a\",\"type\":\"ColumnDataSource\"}},\"id\":\"d503c30d-9e11-4361-8ec0-3ea15c7ca77a\",\"type\":\"CDSView\"},{\"attributes\":{\"callback\":null,\"column_names\":[\"x\",\"y\"],\"data\":{\"x\":[0,1,2,3,4,5,6,7,8,9,10,11,12,13,14,15,16,17,18,19,20,21,22,23,24,25,26,27,28,29,30,31,32,33,34,35,36,37,38,39,40,41,42,43,44,45,46,47,48,49,50,51,52,53,54,55,56,57,58,59,60,61,62,63,64,65,66,67,68,69,70,71,72,73,74,75,76,77,78,79,80,81,82,83,84,85,86,87,88,89,90,91,92,93,94,95,96,97,98,99],\"y\":[0,2,4,6,8,10,12,14,16,18,20,22,24,26,28,30,32,34,36,38,40,42,44,46,48,50,52,54,56,58,60,62,64,66,68,70,72,74,76,78,80,82,84,86,88,90,92,94,96,98,100,102,104,106,108,110,112,114,116,118,120,122,124,126,128,130,132,134,136,138,140,142,144,146,148,150,152,154,156,158,160,162,164,166,168,170,172,174,176,178,180,182,184,186,188,190,192,194,196,198,200,202,204,206,208,210,212,214,216,218,220,222,224,226,228,230,232,234,236,238,240,242,244,246,248,250,252,254,256,258,260,262,264,266,268,270,272,274,276,278,280,282,284,286,288,290,292,294,296,298,300,302,304,306,308,310,312,314,316,318,320,322,324,326,328,330,332,334,336,338,340,342,344,346,348,350,352,354,356,358,360,362,364,366,368,370,372,374,376,378,380,382,384,386,388,390,392,394,396,398]}},\"id\":\"6755d63c-96f9-44d3-aa3b-e79f96af5e96\",\"type\":\"ColumnDataSource\"},{\"attributes\":{\"callback\":null,\"column_names\":[\"x\",\"y\"],\"data\":{\"x\":[0,1,2,3,4,5,6,7,8,9,10,11,12,13,14,15,16,17,18,19,20,21,22,23,24,25,26,27,28,29,30,31,32,33,34,35,36,37,38,39,40,41,42,43,44,45,46,47,48,49,50,51,52,53,54,55,56,57,58,59,60,61,62,63,64,65,66,67,68,69,70,71,72,73,74,75,76,77,78,79,80,81,82,83,84,85,86,87,88,89,90,91,92,93,94,95,96,97,98,99],\"y\":[0,2,4,6,8,10,12,14,16,18,20,22,24,26,28,30,32,34,36,38,40,42,44,46,48,50,52,54,56,58,60,62,64,66,68,70,72,74,76,78,80,82,84,86,88,90,92,94,96,98,100,102,104,106,108,110,112,114,116,118,120,122,124,126,128,130,132,134,136,138,140,142,144,146,148,150,152,154,156,158,160,162,164,166,168,170,172,174,176,178,180,182,184,186,188,190,192,194,196,198,200,202,204,206,208,210,212,214,216,218,220,222,224,226,228,230,232,234,236,238,240,242,244,246,248,250,252,254,256,258,260,262,264,266,268,270,272,274,276,278,280,282,284,286,288,290,292,294,296,298,300,302,304,306,308,310,312,314,316,318,320,322,324,326,328,330,332,334,336,338,340,342,344,346,348,350,352,354,356,358,360,362,364,366,368,370,372,374,376,378,380,382,384,386,388,390,392,394,396,398]}},\"id\":\"2ea28849-756b-4e25-bea1-526e609c7d3a\",\"type\":\"ColumnDataSource\"},{\"attributes\":{\"angle\":{\"units\":\"rad\",\"value\":3},\"fill_alpha\":{\"value\":0.1},\"fill_color\":{\"value\":\"#1f77b4\"},\"line_alpha\":{\"value\":0.1},\"line_color\":{\"value\":\"#1f77b4\"},\"size\":{\"units\":\"screen\",\"value\":300},\"x\":{\"field\":\"x\"},\"y\":{\"field\":\"y\"}},\"id\":\"f2ca79f0-2e8d-4a40-9799-3666f0de1ada\",\"type\":\"Asterisk\"},{\"attributes\":{\"below\":[{\"id\":\"91c76d08-6cee-4483-b489-6b05ba18a9e6\",\"type\":\"LinearAxis\"}],\"left\":[{\"id\":\"8721708b-5640-49b3-b733-614d385726bd\",\"type\":\"LinearAxis\"}],\"plot_height\":300,\"plot_width\":300,\"renderers\":[{\"id\":\"91c76d08-6cee-4483-b489-6b05ba18a9e6\",\"type\":\"LinearAxis\"},{\"id\":\"d0d8e747-005a-40d2-9db8-ed650e8eb536\",\"type\":\"Grid\"},{\"id\":\"8721708b-5640-49b3-b733-614d385726bd\",\"type\":\"LinearAxis\"},{\"id\":\"4a8ae181-9af0-4386-bddd-57cf562b8dc9\",\"type\":\"Grid\"},{\"id\":\"661209ee-c857-4aed-af98-397b7f84b9a6\",\"type\":\"BoxAnnotation\"},{\"id\":\"81927b3f-3db0-451c-8b9e-b467f3b9193c\",\"type\":\"GlyphRenderer\"},{\"id\":\"951754a4-e8e2-44ba-9417-600963deb401\",\"type\":\"GlyphRenderer\"}],\"title\":{\"id\":\"ce7b289a-b6c1-4907-bbfe-c2036fa7667e\",\"type\":\"Title\"},\"toolbar\":{\"id\":\"b5677645-41fd-44e2-8324-a357434fd8bd\",\"type\":\"Toolbar\"},\"x_range\":{\"id\":\"d06574af-1971-47e6-b18a-558aa1a30d04\",\"type\":\"DataRange1d\"},\"x_scale\":{\"id\":\"b8c5ed6b-ef54-4462-90a1-0f263db7fb91\",\"type\":\"LinearScale\"},\"y_range\":{\"id\":\"8ce8effa-10c8-41bc-8981-9ec854fb5030\",\"type\":\"DataRange1d\"},\"y_scale\":{\"id\":\"33eaeab3-2402-42e9-8058-1e97a5e64b3a\",\"type\":\"LinearScale\"}},\"id\":\"79c5faa8-e7f0-4ef2-ad4a-7c74a2cbc1af\",\"subtype\":\"Figure\",\"type\":\"Plot\"},{\"attributes\":{},\"id\":\"28cafdff-6942-4417-b090-94ab3a35ea36\",\"type\":\"PanTool\"},{\"attributes\":{},\"id\":\"b8c5ed6b-ef54-4462-90a1-0f263db7fb91\",\"type\":\"LinearScale\"},{\"attributes\":{\"overlay\":{\"id\":\"661209ee-c857-4aed-af98-397b7f84b9a6\",\"type\":\"BoxAnnotation\"}},\"id\":\"92d38367-e10a-4376-9f9b-0843cf9fee92\",\"type\":\"BoxZoomTool\"},{\"attributes\":{\"plot\":{\"id\":\"79c5faa8-e7f0-4ef2-ad4a-7c74a2cbc1af\",\"subtype\":\"Figure\",\"type\":\"Plot\"},\"ticker\":{\"id\":\"d53b1ed8-3b42-4ca2-93f0-cd7ad5b95e0b\",\"type\":\"BasicTicker\"}},\"id\":\"d0d8e747-005a-40d2-9db8-ed650e8eb536\",\"type\":\"Grid\"},{\"attributes\":{},\"id\":\"a799c721-93ec-4096-92e3-7aab08970e10\",\"type\":\"BasicTicker\"},{\"attributes\":{},\"id\":\"49855222-91ab-47a0-b46c-9e0f3dcc4e5f\",\"type\":\"BasicTickFormatter\"},{\"attributes\":{\"dimension\":1,\"plot\":{\"id\":\"79c5faa8-e7f0-4ef2-ad4a-7c74a2cbc1af\",\"subtype\":\"Figure\",\"type\":\"Plot\"},\"ticker\":{\"id\":\"a799c721-93ec-4096-92e3-7aab08970e10\",\"type\":\"BasicTicker\"}},\"id\":\"4a8ae181-9af0-4386-bddd-57cf562b8dc9\",\"type\":\"Grid\"}],\"root_ids\":[\"79c5faa8-e7f0-4ef2-ad4a-7c74a2cbc1af\"]},\"title\":\"Bokeh Application\",\"version\":\"0.12.13\"}};\n",
       "  var render_items = [{\"docid\":\"a0bb1c56-7f4c-4cb9-a85e-01f4fda2be98\",\"elementid\":\"110bbad8-e986-49d1-b999-f014a459257d\",\"modelid\":\"79c5faa8-e7f0-4ef2-ad4a-7c74a2cbc1af\"}];\n",
       "  root.Bokeh.embed.embed_items_notebook(docs_json, render_items);\n",
       "\n",
       "  }\n",
       "  if (root.Bokeh !== undefined) {\n",
       "    embed_document(root);\n",
       "  } else {\n",
       "    var attempts = 0;\n",
       "    var timer = setInterval(function(root) {\n",
       "      if (root.Bokeh !== undefined) {\n",
       "        embed_document(root);\n",
       "        clearInterval(timer);\n",
       "      }\n",
       "      attempts++;\n",
       "      if (attempts > 100) {\n",
       "        console.log(\"Bokeh: ERROR: Unable to run BokehJS code because BokehJS library is missing\")\n",
       "        clearInterval(timer);\n",
       "      }\n",
       "    }, 10, root)\n",
       "  }\n",
       "})(window);"
      ],
      "application/vnd.bokehjs_exec.v0+json": ""
     },
     "metadata": {
      "application/vnd.bokehjs_exec.v0+json": {
       "id": "79c5faa8-e7f0-4ef2-ad4a-7c74a2cbc1af"
      }
     },
     "output_type": "display_data"
    }
   ],
   "source": [
    "# EXERCISE: create your own plot combining multiple glyphs together\n",
    "\n",
    "x = [i for i in range(100)]\n",
    "y = [i*2 for i in range(100*2)]\n",
    "\n",
    "p = figure(plot_width = 300, plot_height = 300)\n",
    "\n",
    "p.asterisk(x=x,y=y,size=300,angle=3)\n",
    "p.arc(x=x,y=y,radius=3,start_angle=0, end_angle=9)\n",
    "show(p)\n"
   ]
  },
  {
   "cell_type": "code",
   "execution_count": null,
   "metadata": {
    "collapsed": true
   },
   "outputs": [],
   "source": []
  }
 ],
 "metadata": {
  "anaconda-cloud": {},
  "kernelspec": {
   "display_name": "Python 3",
   "language": "python",
   "name": "python3"
  },
  "language_info": {
   "codemirror_mode": {
    "name": "ipython",
    "version": 3
   },
   "file_extension": ".py",
   "mimetype": "text/x-python",
   "name": "python",
   "nbconvert_exporter": "python",
   "pygments_lexer": "ipython3",
   "version": "3.6.3"
  }
 },
 "nbformat": 4,
 "nbformat_minor": 1
}
