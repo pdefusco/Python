{
 "cells": [
  {
   "cell_type": "code",
   "execution_count": 1,
   "metadata": {},
   "outputs": [
    {
     "data": {
      "text/html": [
       "\n",
       "    <div class=\"bk-root\">\n",
       "        <a href=\"https://bokeh.pydata.org\" target=\"_blank\" class=\"bk-logo bk-logo-small bk-logo-notebook\"></a>\n",
       "        <span id=\"abc1b17a-8bdb-4ae5-9b82-997557eb1fc2\">Loading BokehJS ...</span>\n",
       "    </div>"
      ]
     },
     "metadata": {},
     "output_type": "display_data"
    },
    {
     "data": {
      "application/javascript": [
       "\n",
       "(function(root) {\n",
       "  function now() {\n",
       "    return new Date();\n",
       "  }\n",
       "\n",
       "  var force = true;\n",
       "\n",
       "  if (typeof (root._bokeh_onload_callbacks) === \"undefined\" || force === true) {\n",
       "    root._bokeh_onload_callbacks = [];\n",
       "    root._bokeh_is_loading = undefined;\n",
       "  }\n",
       "\n",
       "  var JS_MIME_TYPE = 'application/javascript';\n",
       "  var HTML_MIME_TYPE = 'text/html';\n",
       "  var EXEC_MIME_TYPE = 'application/vnd.bokehjs_exec.v0+json';\n",
       "  var CLASS_NAME = 'output_bokeh rendered_html';\n",
       "\n",
       "  /**\n",
       "   * Render data to the DOM node\n",
       "   */\n",
       "  function render(props, node) {\n",
       "    var script = document.createElement(\"script\");\n",
       "    node.appendChild(script);\n",
       "  }\n",
       "\n",
       "  /**\n",
       "   * Handle when an output is cleared or removed\n",
       "   */\n",
       "  function handleClearOutput(event, handle) {\n",
       "    var cell = handle.cell;\n",
       "\n",
       "    var id = cell.output_area._bokeh_element_id;\n",
       "    var server_id = cell.output_area._bokeh_server_id;\n",
       "    // Clean up Bokeh references\n",
       "    if (id !== undefined) {\n",
       "      Bokeh.index[id].model.document.clear();\n",
       "      delete Bokeh.index[id];\n",
       "    }\n",
       "\n",
       "    if (server_id !== undefined) {\n",
       "      // Clean up Bokeh references\n",
       "      var cmd = \"from bokeh.io.state import curstate; print(curstate().uuid_to_server['\" + server_id + \"'].get_sessions()[0].document.roots[0]._id)\";\n",
       "      cell.notebook.kernel.execute(cmd, {\n",
       "        iopub: {\n",
       "          output: function(msg) {\n",
       "            var element_id = msg.content.text.trim();\n",
       "            Bokeh.index[element_id].model.document.clear();\n",
       "            delete Bokeh.index[element_id];\n",
       "          }\n",
       "        }\n",
       "      });\n",
       "      // Destroy server and session\n",
       "      var cmd = \"import bokeh.io.notebook as ion; ion.destroy_server('\" + server_id + \"')\";\n",
       "      cell.notebook.kernel.execute(cmd);\n",
       "    }\n",
       "  }\n",
       "\n",
       "  /**\n",
       "   * Handle when a new output is added\n",
       "   */\n",
       "  function handleAddOutput(event, handle) {\n",
       "    var output_area = handle.output_area;\n",
       "    var output = handle.output;\n",
       "\n",
       "    // limit handleAddOutput to display_data with EXEC_MIME_TYPE content only\n",
       "    if ((output.output_type != \"display_data\") || (!output.data.hasOwnProperty(EXEC_MIME_TYPE))) {\n",
       "      return\n",
       "    }\n",
       "\n",
       "    var toinsert = output_area.element.find(\".\" + CLASS_NAME.split(' ')[0]);\n",
       "\n",
       "    if (output.metadata[EXEC_MIME_TYPE][\"id\"] !== undefined) {\n",
       "      toinsert[0].firstChild.textContent = output.data[JS_MIME_TYPE];\n",
       "      // store reference to embed id on output_area\n",
       "      output_area._bokeh_element_id = output.metadata[EXEC_MIME_TYPE][\"id\"];\n",
       "    }\n",
       "    if (output.metadata[EXEC_MIME_TYPE][\"server_id\"] !== undefined) {\n",
       "      var bk_div = document.createElement(\"div\");\n",
       "      bk_div.innerHTML = output.data[HTML_MIME_TYPE];\n",
       "      var script_attrs = bk_div.children[0].attributes;\n",
       "      for (var i = 0; i < script_attrs.length; i++) {\n",
       "        toinsert[0].firstChild.setAttribute(script_attrs[i].name, script_attrs[i].value);\n",
       "      }\n",
       "      // store reference to server id on output_area\n",
       "      output_area._bokeh_server_id = output.metadata[EXEC_MIME_TYPE][\"server_id\"];\n",
       "    }\n",
       "  }\n",
       "\n",
       "  function register_renderer(events, OutputArea) {\n",
       "\n",
       "    function append_mime(data, metadata, element) {\n",
       "      // create a DOM node to render to\n",
       "      var toinsert = this.create_output_subarea(\n",
       "        metadata,\n",
       "        CLASS_NAME,\n",
       "        EXEC_MIME_TYPE\n",
       "      );\n",
       "      this.keyboard_manager.register_events(toinsert);\n",
       "      // Render to node\n",
       "      var props = {data: data, metadata: metadata[EXEC_MIME_TYPE]};\n",
       "      render(props, toinsert[0]);\n",
       "      element.append(toinsert);\n",
       "      return toinsert\n",
       "    }\n",
       "\n",
       "    /* Handle when an output is cleared or removed */\n",
       "    events.on('clear_output.CodeCell', handleClearOutput);\n",
       "    events.on('delete.Cell', handleClearOutput);\n",
       "\n",
       "    /* Handle when a new output is added */\n",
       "    events.on('output_added.OutputArea', handleAddOutput);\n",
       "\n",
       "    /**\n",
       "     * Register the mime type and append_mime function with output_area\n",
       "     */\n",
       "    OutputArea.prototype.register_mime_type(EXEC_MIME_TYPE, append_mime, {\n",
       "      /* Is output safe? */\n",
       "      safe: true,\n",
       "      /* Index of renderer in `output_area.display_order` */\n",
       "      index: 0\n",
       "    });\n",
       "  }\n",
       "\n",
       "  // register the mime type if in Jupyter Notebook environment and previously unregistered\n",
       "  if (root.Jupyter !== undefined) {\n",
       "    var events = require('base/js/events');\n",
       "    var OutputArea = require('notebook/js/outputarea').OutputArea;\n",
       "\n",
       "    if (OutputArea.prototype.mime_types().indexOf(EXEC_MIME_TYPE) == -1) {\n",
       "      register_renderer(events, OutputArea);\n",
       "    }\n",
       "  }\n",
       "\n",
       "  \n",
       "  if (typeof (root._bokeh_timeout) === \"undefined\" || force === true) {\n",
       "    root._bokeh_timeout = Date.now() + 5000;\n",
       "    root._bokeh_failed_load = false;\n",
       "  }\n",
       "\n",
       "  var NB_LOAD_WARNING = {'data': {'text/html':\n",
       "     \"<div style='background-color: #fdd'>\\n\"+\n",
       "     \"<p>\\n\"+\n",
       "     \"BokehJS does not appear to have successfully loaded. If loading BokehJS from CDN, this \\n\"+\n",
       "     \"may be due to a slow or bad network connection. Possible fixes:\\n\"+\n",
       "     \"</p>\\n\"+\n",
       "     \"<ul>\\n\"+\n",
       "     \"<li>re-rerun `output_notebook()` to attempt to load from CDN again, or</li>\\n\"+\n",
       "     \"<li>use INLINE resources instead, as so:</li>\\n\"+\n",
       "     \"</ul>\\n\"+\n",
       "     \"<code>\\n\"+\n",
       "     \"from bokeh.resources import INLINE\\n\"+\n",
       "     \"output_notebook(resources=INLINE)\\n\"+\n",
       "     \"</code>\\n\"+\n",
       "     \"</div>\"}};\n",
       "\n",
       "  function display_loaded() {\n",
       "    var el = document.getElementById(\"abc1b17a-8bdb-4ae5-9b82-997557eb1fc2\");\n",
       "    if (el != null) {\n",
       "      el.textContent = \"BokehJS is loading...\";\n",
       "    }\n",
       "    if (root.Bokeh !== undefined) {\n",
       "      if (el != null) {\n",
       "        el.textContent = \"BokehJS \" + root.Bokeh.version + \" successfully loaded.\";\n",
       "      }\n",
       "    } else if (Date.now() < root._bokeh_timeout) {\n",
       "      setTimeout(display_loaded, 100)\n",
       "    }\n",
       "  }\n",
       "\n",
       "\n",
       "  function run_callbacks() {\n",
       "    try {\n",
       "      root._bokeh_onload_callbacks.forEach(function(callback) { callback() });\n",
       "    }\n",
       "    finally {\n",
       "      delete root._bokeh_onload_callbacks\n",
       "    }\n",
       "    console.info(\"Bokeh: all callbacks have finished\");\n",
       "  }\n",
       "\n",
       "  function load_libs(js_urls, callback) {\n",
       "    root._bokeh_onload_callbacks.push(callback);\n",
       "    if (root._bokeh_is_loading > 0) {\n",
       "      console.log(\"Bokeh: BokehJS is being loaded, scheduling callback at\", now());\n",
       "      return null;\n",
       "    }\n",
       "    if (js_urls == null || js_urls.length === 0) {\n",
       "      run_callbacks();\n",
       "      return null;\n",
       "    }\n",
       "    console.log(\"Bokeh: BokehJS not loaded, scheduling load and callback at\", now());\n",
       "    root._bokeh_is_loading = js_urls.length;\n",
       "    for (var i = 0; i < js_urls.length; i++) {\n",
       "      var url = js_urls[i];\n",
       "      var s = document.createElement('script');\n",
       "      s.src = url;\n",
       "      s.async = false;\n",
       "      s.onreadystatechange = s.onload = function() {\n",
       "        root._bokeh_is_loading--;\n",
       "        if (root._bokeh_is_loading === 0) {\n",
       "          console.log(\"Bokeh: all BokehJS libraries loaded\");\n",
       "          run_callbacks()\n",
       "        }\n",
       "      };\n",
       "      s.onerror = function() {\n",
       "        console.warn(\"failed to load library \" + url);\n",
       "      };\n",
       "      console.log(\"Bokeh: injecting script tag for BokehJS library: \", url);\n",
       "      document.getElementsByTagName(\"head\")[0].appendChild(s);\n",
       "    }\n",
       "  };var element = document.getElementById(\"abc1b17a-8bdb-4ae5-9b82-997557eb1fc2\");\n",
       "  if (element == null) {\n",
       "    console.log(\"Bokeh: ERROR: autoload.js configured with elementid 'abc1b17a-8bdb-4ae5-9b82-997557eb1fc2' but no matching script tag was found. \")\n",
       "    return false;\n",
       "  }\n",
       "\n",
       "  var js_urls = [\"https://cdn.pydata.org/bokeh/release/bokeh-0.12.13.min.js\", \"https://cdn.pydata.org/bokeh/release/bokeh-widgets-0.12.13.min.js\", \"https://cdn.pydata.org/bokeh/release/bokeh-tables-0.12.13.min.js\", \"https://cdn.pydata.org/bokeh/release/bokeh-gl-0.12.13.min.js\"];\n",
       "\n",
       "  var inline_js = [\n",
       "    function(Bokeh) {\n",
       "      Bokeh.set_log_level(\"info\");\n",
       "    },\n",
       "    \n",
       "    function(Bokeh) {\n",
       "      \n",
       "    },\n",
       "    function(Bokeh) {\n",
       "      console.log(\"Bokeh: injecting CSS: https://cdn.pydata.org/bokeh/release/bokeh-0.12.13.min.css\");\n",
       "      Bokeh.embed.inject_css(\"https://cdn.pydata.org/bokeh/release/bokeh-0.12.13.min.css\");\n",
       "      console.log(\"Bokeh: injecting CSS: https://cdn.pydata.org/bokeh/release/bokeh-widgets-0.12.13.min.css\");\n",
       "      Bokeh.embed.inject_css(\"https://cdn.pydata.org/bokeh/release/bokeh-widgets-0.12.13.min.css\");\n",
       "      console.log(\"Bokeh: injecting CSS: https://cdn.pydata.org/bokeh/release/bokeh-tables-0.12.13.min.css\");\n",
       "      Bokeh.embed.inject_css(\"https://cdn.pydata.org/bokeh/release/bokeh-tables-0.12.13.min.css\");\n",
       "    }\n",
       "  ];\n",
       "\n",
       "  function run_inline_js() {\n",
       "    \n",
       "    if ((root.Bokeh !== undefined) || (force === true)) {\n",
       "      for (var i = 0; i < inline_js.length; i++) {\n",
       "        inline_js[i].call(root, root.Bokeh);\n",
       "      }if (force === true) {\n",
       "        display_loaded();\n",
       "      }} else if (Date.now() < root._bokeh_timeout) {\n",
       "      setTimeout(run_inline_js, 100);\n",
       "    } else if (!root._bokeh_failed_load) {\n",
       "      console.log(\"Bokeh: BokehJS failed to load within specified timeout.\");\n",
       "      root._bokeh_failed_load = true;\n",
       "    } else if (force !== true) {\n",
       "      var cell = $(document.getElementById(\"abc1b17a-8bdb-4ae5-9b82-997557eb1fc2\")).parents('.cell').data().cell;\n",
       "      cell.output_area.append_execute_result(NB_LOAD_WARNING)\n",
       "    }\n",
       "\n",
       "  }\n",
       "\n",
       "  if (root._bokeh_is_loading === 0) {\n",
       "    console.log(\"Bokeh: BokehJS loaded, going straight to plotting\");\n",
       "    run_inline_js();\n",
       "  } else {\n",
       "    load_libs(js_urls, function() {\n",
       "      console.log(\"Bokeh: BokehJS plotting callback run at\", now());\n",
       "      run_inline_js();\n",
       "    });\n",
       "  }\n",
       "}(window));"
      ],
      "application/vnd.bokehjs_load.v0+json": "\n(function(root) {\n  function now() {\n    return new Date();\n  }\n\n  var force = true;\n\n  if (typeof (root._bokeh_onload_callbacks) === \"undefined\" || force === true) {\n    root._bokeh_onload_callbacks = [];\n    root._bokeh_is_loading = undefined;\n  }\n\n  \n\n  \n  if (typeof (root._bokeh_timeout) === \"undefined\" || force === true) {\n    root._bokeh_timeout = Date.now() + 5000;\n    root._bokeh_failed_load = false;\n  }\n\n  var NB_LOAD_WARNING = {'data': {'text/html':\n     \"<div style='background-color: #fdd'>\\n\"+\n     \"<p>\\n\"+\n     \"BokehJS does not appear to have successfully loaded. If loading BokehJS from CDN, this \\n\"+\n     \"may be due to a slow or bad network connection. Possible fixes:\\n\"+\n     \"</p>\\n\"+\n     \"<ul>\\n\"+\n     \"<li>re-rerun `output_notebook()` to attempt to load from CDN again, or</li>\\n\"+\n     \"<li>use INLINE resources instead, as so:</li>\\n\"+\n     \"</ul>\\n\"+\n     \"<code>\\n\"+\n     \"from bokeh.resources import INLINE\\n\"+\n     \"output_notebook(resources=INLINE)\\n\"+\n     \"</code>\\n\"+\n     \"</div>\"}};\n\n  function display_loaded() {\n    var el = document.getElementById(\"abc1b17a-8bdb-4ae5-9b82-997557eb1fc2\");\n    if (el != null) {\n      el.textContent = \"BokehJS is loading...\";\n    }\n    if (root.Bokeh !== undefined) {\n      if (el != null) {\n        el.textContent = \"BokehJS \" + root.Bokeh.version + \" successfully loaded.\";\n      }\n    } else if (Date.now() < root._bokeh_timeout) {\n      setTimeout(display_loaded, 100)\n    }\n  }\n\n\n  function run_callbacks() {\n    try {\n      root._bokeh_onload_callbacks.forEach(function(callback) { callback() });\n    }\n    finally {\n      delete root._bokeh_onload_callbacks\n    }\n    console.info(\"Bokeh: all callbacks have finished\");\n  }\n\n  function load_libs(js_urls, callback) {\n    root._bokeh_onload_callbacks.push(callback);\n    if (root._bokeh_is_loading > 0) {\n      console.log(\"Bokeh: BokehJS is being loaded, scheduling callback at\", now());\n      return null;\n    }\n    if (js_urls == null || js_urls.length === 0) {\n      run_callbacks();\n      return null;\n    }\n    console.log(\"Bokeh: BokehJS not loaded, scheduling load and callback at\", now());\n    root._bokeh_is_loading = js_urls.length;\n    for (var i = 0; i < js_urls.length; i++) {\n      var url = js_urls[i];\n      var s = document.createElement('script');\n      s.src = url;\n      s.async = false;\n      s.onreadystatechange = s.onload = function() {\n        root._bokeh_is_loading--;\n        if (root._bokeh_is_loading === 0) {\n          console.log(\"Bokeh: all BokehJS libraries loaded\");\n          run_callbacks()\n        }\n      };\n      s.onerror = function() {\n        console.warn(\"failed to load library \" + url);\n      };\n      console.log(\"Bokeh: injecting script tag for BokehJS library: \", url);\n      document.getElementsByTagName(\"head\")[0].appendChild(s);\n    }\n  };var element = document.getElementById(\"abc1b17a-8bdb-4ae5-9b82-997557eb1fc2\");\n  if (element == null) {\n    console.log(\"Bokeh: ERROR: autoload.js configured with elementid 'abc1b17a-8bdb-4ae5-9b82-997557eb1fc2' but no matching script tag was found. \")\n    return false;\n  }\n\n  var js_urls = [\"https://cdn.pydata.org/bokeh/release/bokeh-0.12.13.min.js\", \"https://cdn.pydata.org/bokeh/release/bokeh-widgets-0.12.13.min.js\", \"https://cdn.pydata.org/bokeh/release/bokeh-tables-0.12.13.min.js\", \"https://cdn.pydata.org/bokeh/release/bokeh-gl-0.12.13.min.js\"];\n\n  var inline_js = [\n    function(Bokeh) {\n      Bokeh.set_log_level(\"info\");\n    },\n    \n    function(Bokeh) {\n      \n    },\n    function(Bokeh) {\n      console.log(\"Bokeh: injecting CSS: https://cdn.pydata.org/bokeh/release/bokeh-0.12.13.min.css\");\n      Bokeh.embed.inject_css(\"https://cdn.pydata.org/bokeh/release/bokeh-0.12.13.min.css\");\n      console.log(\"Bokeh: injecting CSS: https://cdn.pydata.org/bokeh/release/bokeh-widgets-0.12.13.min.css\");\n      Bokeh.embed.inject_css(\"https://cdn.pydata.org/bokeh/release/bokeh-widgets-0.12.13.min.css\");\n      console.log(\"Bokeh: injecting CSS: https://cdn.pydata.org/bokeh/release/bokeh-tables-0.12.13.min.css\");\n      Bokeh.embed.inject_css(\"https://cdn.pydata.org/bokeh/release/bokeh-tables-0.12.13.min.css\");\n    }\n  ];\n\n  function run_inline_js() {\n    \n    if ((root.Bokeh !== undefined) || (force === true)) {\n      for (var i = 0; i < inline_js.length; i++) {\n        inline_js[i].call(root, root.Bokeh);\n      }if (force === true) {\n        display_loaded();\n      }} else if (Date.now() < root._bokeh_timeout) {\n      setTimeout(run_inline_js, 100);\n    } else if (!root._bokeh_failed_load) {\n      console.log(\"Bokeh: BokehJS failed to load within specified timeout.\");\n      root._bokeh_failed_load = true;\n    } else if (force !== true) {\n      var cell = $(document.getElementById(\"abc1b17a-8bdb-4ae5-9b82-997557eb1fc2\")).parents('.cell').data().cell;\n      cell.output_area.append_execute_result(NB_LOAD_WARNING)\n    }\n\n  }\n\n  if (root._bokeh_is_loading === 0) {\n    console.log(\"Bokeh: BokehJS loaded, going straight to plotting\");\n    run_inline_js();\n  } else {\n    load_libs(js_urls, function() {\n      console.log(\"Bokeh: BokehJS plotting callback run at\", now());\n      run_inline_js();\n    });\n  }\n}(window));"
     },
     "metadata": {},
     "output_type": "display_data"
    }
   ],
   "source": [
    "from bokeh.io import output_notebook, show\n",
    "from bokeh.plotting import figure\n",
    "output_notebook()"
   ]
  },
  {
   "cell_type": "markdown",
   "metadata": {
    "collapsed": true
   },
   "source": [
    "# Linked Interactions\n",
    "\n",
    "It is possible to link various interactions between different Bokeh plots. For instance, the ranges of two (or more) plots can be linked, so that when one of the plots is panned (or zoomed, or otherwise has its range changed) the other plots will update in unison. It is also possible to link selections between two plots, so that when items are selected on one plot, the corresponding items on the second plot also become selected. "
   ]
  },
  {
   "cell_type": "markdown",
   "metadata": {},
   "source": [
    "## Linked panning\n",
    "\n",
    "Linked panning (when multiple plots have ranges that stay in sync) is simple to spell with Bokeh. You simply share the appropriate range objects between two (or more) plots. The example below shows how to accomplish this by linking the ranges of three plots in various ways:"
   ]
  },
  {
   "cell_type": "code",
   "execution_count": 2,
   "metadata": {},
   "outputs": [
    {
     "data": {
      "text/html": [
       "\n",
       "<div class=\"bk-root\">\n",
       "    <div class=\"bk-plotdiv\" id=\"70d4dad3-c8db-4676-b7f2-977e1adfa324\"></div>\n",
       "</div>"
      ]
     },
     "metadata": {},
     "output_type": "display_data"
    },
    {
     "data": {
      "application/javascript": [
       "(function(root) {\n",
       "  function embed_document(root) {\n",
       "    \n",
       "  var docs_json = {\"cc6bcf2f-82ce-4234-b2d8-8dbb5fc4458d\":{\"roots\":{\"references\":[{\"attributes\":{},\"id\":\"84d154e0-1312-4cd8-9a47-9d62f0c4ad42\",\"type\":\"WheelZoomTool\"},{\"attributes\":{},\"id\":\"b2e0ba23-27dd-49ae-87d2-2fead733389f\",\"type\":\"BasicTickFormatter\"},{\"attributes\":{\"fill_alpha\":{\"value\":0.1},\"fill_color\":{\"value\":\"#1f77b4\"},\"line_alpha\":{\"value\":0.1},\"line_color\":{\"value\":\"#1f77b4\"},\"size\":{\"units\":\"screen\",\"value\":10},\"x\":{\"field\":\"x\"},\"y\":{\"field\":\"y\"}},\"id\":\"0bfee97b-7eb2-4ab0-b4c2-32d93b6e0168\",\"type\":\"Square\"},{\"attributes\":{\"data_source\":{\"id\":\"5e833be0-9585-480a-b073-eed45e489790\",\"type\":\"ColumnDataSource\"},\"glyph\":{\"id\":\"fcad4e23-9876-4779-9662-27e4aa03319c\",\"type\":\"Square\"},\"hover_glyph\":null,\"muted_glyph\":null,\"nonselection_glyph\":{\"id\":\"0bfee97b-7eb2-4ab0-b4c2-32d93b6e0168\",\"type\":\"Square\"},\"selection_glyph\":null,\"view\":{\"id\":\"b9e4def7-a7fc-4e73-aa4b-307eeda88f9b\",\"type\":\"CDSView\"}},\"id\":\"5a441fc3-2824-44e0-b80c-a60a2ce34240\",\"type\":\"GlyphRenderer\"},{\"attributes\":{\"fill_alpha\":{\"value\":0.1},\"fill_color\":{\"value\":\"#1f77b4\"},\"line_alpha\":{\"value\":0.1},\"line_color\":{\"value\":\"#1f77b4\"},\"size\":{\"units\":\"screen\",\"value\":10},\"x\":{\"field\":\"x\"},\"y\":{\"field\":\"y\"}},\"id\":\"4ec1906b-9bed-4290-b6c4-4c6686540fd3\",\"type\":\"Circle\"},{\"attributes\":{\"source\":{\"id\":\"5e833be0-9585-480a-b073-eed45e489790\",\"type\":\"ColumnDataSource\"}},\"id\":\"b9e4def7-a7fc-4e73-aa4b-307eeda88f9b\",\"type\":\"CDSView\"},{\"attributes\":{\"plot\":null,\"text\":\"\"},\"id\":\"8695f90a-0614-4f7a-a179-f4af3fd5d803\",\"type\":\"Title\"},{\"attributes\":{\"children\":[{\"id\":\"1a648b9f-034e-473a-86de-61851daa0480\",\"type\":\"ToolbarBox\"},{\"id\":\"6124ee2f-99d3-4253-b9a5-e2e9f70cc83b\",\"type\":\"Column\"}]},\"id\":\"6c093c01-86a1-4de4-bed3-d37ce6bdfc56\",\"type\":\"Column\"},{\"attributes\":{\"tools\":[{\"id\":\"5309ebd7-333b-409e-8063-3321756d5792\",\"type\":\"PanTool\"},{\"id\":\"dab70ac0-641a-4877-9a61-d2e2271a622e\",\"type\":\"WheelZoomTool\"},{\"id\":\"583f50f6-e51d-416f-8dbd-69300fc79036\",\"type\":\"PanTool\"},{\"id\":\"20b8fddb-6bbf-4294-80a4-9c773be57a49\",\"type\":\"WheelZoomTool\"},{\"id\":\"a0b2be26-7c69-47d9-b596-4c911a08a118\",\"type\":\"PanTool\"},{\"id\":\"84d154e0-1312-4cd8-9a47-9d62f0c4ad42\",\"type\":\"WheelZoomTool\"}]},\"id\":\"14311b97-ea4e-4e39-afa0-28930f5881e5\",\"type\":\"ProxyToolbar\"},{\"attributes\":{},\"id\":\"7d0980a1-40b9-420a-8cdd-dee7adb617e7\",\"type\":\"BasicTickFormatter\"},{\"attributes\":{\"below\":[{\"id\":\"ab093330-01d7-44ab-8b1a-713605c70fe5\",\"type\":\"LinearAxis\"}],\"left\":[{\"id\":\"2611cd5d-b024-464c-a521-8be15f839766\",\"type\":\"LinearAxis\"}],\"plot_height\":250,\"plot_width\":250,\"renderers\":[{\"id\":\"ab093330-01d7-44ab-8b1a-713605c70fe5\",\"type\":\"LinearAxis\"},{\"id\":\"d9c3ea76-866c-4f3e-94da-57e0cd8d797e\",\"type\":\"Grid\"},{\"id\":\"2611cd5d-b024-464c-a521-8be15f839766\",\"type\":\"LinearAxis\"},{\"id\":\"a8b58dba-8df6-499c-85af-ab554a8e0b67\",\"type\":\"Grid\"},{\"id\":\"934ddd9a-feff-48d9-85d1-6d98de639f36\",\"type\":\"GlyphRenderer\"}],\"title\":{\"id\":\"945f0b1a-2238-4f7c-9401-8cc04f33b931\",\"type\":\"Title\"},\"toolbar\":{\"id\":\"b31b153b-31f3-40ba-a36b-1301091f3748\",\"type\":\"Toolbar\"},\"toolbar_location\":null,\"x_range\":{\"id\":\"49f2a49e-ce4c-4f26-9d58-3c3c56c0532d\",\"type\":\"DataRange1d\"},\"x_scale\":{\"id\":\"391bb37b-8d44-4694-9c14-2a683d156c4c\",\"type\":\"LinearScale\"},\"y_range\":{\"id\":\"3c7ea655-8bce-4840-b1a3-62d3e61e2ec9\",\"type\":\"DataRange1d\"},\"y_scale\":{\"id\":\"d34a1b0d-9312-470c-879a-0606a384e1dd\",\"type\":\"LinearScale\"}},\"id\":\"9a7656ec-2439-4b1f-b499-a23f5e064f16\",\"subtype\":\"Figure\",\"type\":\"Plot\"},{\"attributes\":{\"toolbar\":{\"id\":\"14311b97-ea4e-4e39-afa0-28930f5881e5\",\"type\":\"ProxyToolbar\"},\"toolbar_location\":\"above\"},\"id\":\"1a648b9f-034e-473a-86de-61851daa0480\",\"type\":\"ToolbarBox\"},{\"attributes\":{\"active_drag\":\"auto\",\"active_inspect\":\"auto\",\"active_scroll\":\"auto\",\"active_tap\":\"auto\",\"tools\":[{\"id\":\"5309ebd7-333b-409e-8063-3321756d5792\",\"type\":\"PanTool\"},{\"id\":\"dab70ac0-641a-4877-9a61-d2e2271a622e\",\"type\":\"WheelZoomTool\"}]},\"id\":\"b31b153b-31f3-40ba-a36b-1301091f3748\",\"type\":\"Toolbar\"},{\"attributes\":{\"callback\":null},\"id\":\"f46baf28-4cd2-4e76-902b-72df28c8da55\",\"type\":\"DataRange1d\"},{\"attributes\":{},\"id\":\"3c6b5654-4b41-4e2e-a1c0-9419e25d4701\",\"type\":\"LinearScale\"},{\"attributes\":{\"callback\":null,\"column_names\":[\"x\",\"y\"],\"data\":{\"x\":[0,1,2,3,4,5,6,7,8,9,10],\"y\":[0,1,2,3,4,5,6,7,8,9,10]}},\"id\":\"789f41ce-05e6-496f-a6f0-0118ac9589e5\",\"type\":\"ColumnDataSource\"},{\"attributes\":{\"callback\":null},\"id\":\"49f2a49e-ce4c-4f26-9d58-3c3c56c0532d\",\"type\":\"DataRange1d\"},{\"attributes\":{\"callback\":null},\"id\":\"3c7ea655-8bce-4840-b1a3-62d3e61e2ec9\",\"type\":\"DataRange1d\"},{\"attributes\":{},\"id\":\"391bb37b-8d44-4694-9c14-2a683d156c4c\",\"type\":\"LinearScale\"},{\"attributes\":{},\"id\":\"d34a1b0d-9312-470c-879a-0606a384e1dd\",\"type\":\"LinearScale\"},{\"attributes\":{\"data_source\":{\"id\":\"789f41ce-05e6-496f-a6f0-0118ac9589e5\",\"type\":\"ColumnDataSource\"},\"glyph\":{\"id\":\"89f3bd35-f5dd-416c-998d-c94c58b23d09\",\"type\":\"Circle\"},\"hover_glyph\":null,\"muted_glyph\":null,\"nonselection_glyph\":{\"id\":\"4ec1906b-9bed-4290-b6c4-4c6686540fd3\",\"type\":\"Circle\"},\"selection_glyph\":null,\"view\":{\"id\":\"fc852351-5bd9-48b8-9bc8-5a4922f00b1a\",\"type\":\"CDSView\"}},\"id\":\"934ddd9a-feff-48d9-85d1-6d98de639f36\",\"type\":\"GlyphRenderer\"},{\"attributes\":{\"active_drag\":\"auto\",\"active_inspect\":\"auto\",\"active_scroll\":\"auto\",\"active_tap\":\"auto\",\"tools\":[{\"id\":\"583f50f6-e51d-416f-8dbd-69300fc79036\",\"type\":\"PanTool\"},{\"id\":\"20b8fddb-6bbf-4294-80a4-9c773be57a49\",\"type\":\"WheelZoomTool\"}]},\"id\":\"e501ef82-1498-452f-a4d0-08551ea29a93\",\"type\":\"Toolbar\"},{\"attributes\":{\"formatter\":{\"id\":\"a5eeaa94-cbd7-4f33-bc67-fef27691d4cb\",\"type\":\"BasicTickFormatter\"},\"plot\":{\"id\":\"9a7656ec-2439-4b1f-b499-a23f5e064f16\",\"subtype\":\"Figure\",\"type\":\"Plot\"},\"ticker\":{\"id\":\"e95c855f-7831-4710-b546-332ee7e73c6f\",\"type\":\"BasicTicker\"}},\"id\":\"ab093330-01d7-44ab-8b1a-713605c70fe5\",\"type\":\"LinearAxis\"},{\"attributes\":{},\"id\":\"e95c855f-7831-4710-b546-332ee7e73c6f\",\"type\":\"BasicTicker\"},{\"attributes\":{\"source\":{\"id\":\"789f41ce-05e6-496f-a6f0-0118ac9589e5\",\"type\":\"ColumnDataSource\"}},\"id\":\"fc852351-5bd9-48b8-9bc8-5a4922f00b1a\",\"type\":\"CDSView\"},{\"attributes\":{\"plot\":{\"id\":\"9a7656ec-2439-4b1f-b499-a23f5e064f16\",\"subtype\":\"Figure\",\"type\":\"Plot\"},\"ticker\":{\"id\":\"e95c855f-7831-4710-b546-332ee7e73c6f\",\"type\":\"BasicTicker\"}},\"id\":\"d9c3ea76-866c-4f3e-94da-57e0cd8d797e\",\"type\":\"Grid\"},{\"attributes\":{\"plot\":null,\"text\":\"\"},\"id\":\"945f0b1a-2238-4f7c-9401-8cc04f33b931\",\"type\":\"Title\"},{\"attributes\":{\"formatter\":{\"id\":\"a1c3ae28-5e67-43fe-b7b6-7a4c92e122e0\",\"type\":\"BasicTickFormatter\"},\"plot\":{\"id\":\"9a7656ec-2439-4b1f-b499-a23f5e064f16\",\"subtype\":\"Figure\",\"type\":\"Plot\"},\"ticker\":{\"id\":\"9e4dedf6-5ca1-4526-ac6d-0d0fe7963a17\",\"type\":\"BasicTicker\"}},\"id\":\"2611cd5d-b024-464c-a521-8be15f839766\",\"type\":\"LinearAxis\"},{\"attributes\":{},\"id\":\"9e4dedf6-5ca1-4526-ac6d-0d0fe7963a17\",\"type\":\"BasicTicker\"},{\"attributes\":{\"dimension\":1,\"plot\":{\"id\":\"9a7656ec-2439-4b1f-b499-a23f5e064f16\",\"subtype\":\"Figure\",\"type\":\"Plot\"},\"ticker\":{\"id\":\"9e4dedf6-5ca1-4526-ac6d-0d0fe7963a17\",\"type\":\"BasicTicker\"}},\"id\":\"a8b58dba-8df6-499c-85af-ab554a8e0b67\",\"type\":\"Grid\"},{\"attributes\":{},\"id\":\"dab70ac0-641a-4877-9a61-d2e2271a622e\",\"type\":\"WheelZoomTool\"},{\"attributes\":{\"fill_color\":{\"value\":\"navy\"},\"line_color\":{\"value\":\"navy\"},\"size\":{\"units\":\"screen\",\"value\":10},\"x\":{\"field\":\"x\"},\"y\":{\"field\":\"y\"}},\"id\":\"89f3bd35-f5dd-416c-998d-c94c58b23d09\",\"type\":\"Circle\"},{\"attributes\":{},\"id\":\"5309ebd7-333b-409e-8063-3321756d5792\",\"type\":\"PanTool\"},{\"attributes\":{},\"id\":\"b6c9f5bb-7835-410e-bde0-64825ab45f4d\",\"type\":\"BasicTickFormatter\"},{\"attributes\":{\"below\":[{\"id\":\"b54ce4cd-ccfd-4d04-8838-122988035fea\",\"type\":\"LinearAxis\"}],\"left\":[{\"id\":\"0b9284f1-5d0b-473a-b368-9f4862386f9a\",\"type\":\"LinearAxis\"}],\"plot_height\":250,\"plot_width\":250,\"renderers\":[{\"id\":\"b54ce4cd-ccfd-4d04-8838-122988035fea\",\"type\":\"LinearAxis\"},{\"id\":\"74a17634-2c9f-49d5-aed4-e663d438798b\",\"type\":\"Grid\"},{\"id\":\"0b9284f1-5d0b-473a-b368-9f4862386f9a\",\"type\":\"LinearAxis\"},{\"id\":\"ee608479-ac97-4e46-8795-5f1c8a4ffc9b\",\"type\":\"Grid\"},{\"id\":\"1194c3d7-3adb-44e6-9d7b-b8c3c62c28c8\",\"type\":\"GlyphRenderer\"}],\"title\":{\"id\":\"fb39fff0-8f1b-48ba-b00b-85d686df24d1\",\"type\":\"Title\"},\"toolbar\":{\"id\":\"e501ef82-1498-452f-a4d0-08551ea29a93\",\"type\":\"Toolbar\"},\"toolbar_location\":null,\"x_range\":{\"id\":\"49f2a49e-ce4c-4f26-9d58-3c3c56c0532d\",\"type\":\"DataRange1d\"},\"x_scale\":{\"id\":\"19c18b18-3d06-43f1-8893-7e5de77dfc86\",\"type\":\"LinearScale\"},\"y_range\":{\"id\":\"3c7ea655-8bce-4840-b1a3-62d3e61e2ec9\",\"type\":\"DataRange1d\"},\"y_scale\":{\"id\":\"7f7d89f4-b474-436b-87f6-e3dc9216befa\",\"type\":\"LinearScale\"}},\"id\":\"e9673a43-a087-4773-8926-299d0182c076\",\"subtype\":\"Figure\",\"type\":\"Plot\"},{\"attributes\":{},\"id\":\"a1c3ae28-5e67-43fe-b7b6-7a4c92e122e0\",\"type\":\"BasicTickFormatter\"},{\"attributes\":{\"plot\":{\"id\":\"e9673a43-a087-4773-8926-299d0182c076\",\"subtype\":\"Figure\",\"type\":\"Plot\"},\"ticker\":{\"id\":\"33d21783-b06b-4902-9213-6a7768f53946\",\"type\":\"BasicTicker\"}},\"id\":\"74a17634-2c9f-49d5-aed4-e663d438798b\",\"type\":\"Grid\"},{\"attributes\":{},\"id\":\"19c18b18-3d06-43f1-8893-7e5de77dfc86\",\"type\":\"LinearScale\"},{\"attributes\":{\"callback\":null,\"column_names\":[\"x\",\"y\"],\"data\":{\"x\":[0,1,2,3,4,5,6,7,8,9,10],\"y\":[10,9,8,7,6,5,4,3,2,1,0]}},\"id\":\"12be160b-5252-47dd-8d7d-6eb9ca43be62\",\"type\":\"ColumnDataSource\"},{\"attributes\":{},\"id\":\"a5eeaa94-cbd7-4f33-bc67-fef27691d4cb\",\"type\":\"BasicTickFormatter\"},{\"attributes\":{\"formatter\":{\"id\":\"14bce829-4f3e-4208-ab17-fb5930aa0e99\",\"type\":\"BasicTickFormatter\"},\"plot\":{\"id\":\"e9673a43-a087-4773-8926-299d0182c076\",\"subtype\":\"Figure\",\"type\":\"Plot\"},\"ticker\":{\"id\":\"33d21783-b06b-4902-9213-6a7768f53946\",\"type\":\"BasicTicker\"}},\"id\":\"b54ce4cd-ccfd-4d04-8838-122988035fea\",\"type\":\"LinearAxis\"},{\"attributes\":{\"fill_color\":{\"value\":\"firebrick\"},\"line_color\":{\"value\":\"firebrick\"},\"size\":{\"units\":\"screen\",\"value\":10},\"x\":{\"field\":\"x\"},\"y\":{\"field\":\"y\"}},\"id\":\"cf918ad7-0aa3-43a2-b3b1-7cfc551a5d26\",\"type\":\"Triangle\"},{\"attributes\":{},\"id\":\"7f7d89f4-b474-436b-87f6-e3dc9216befa\",\"type\":\"LinearScale\"},{\"attributes\":{},\"id\":\"33d21783-b06b-4902-9213-6a7768f53946\",\"type\":\"BasicTicker\"},{\"attributes\":{\"formatter\":{\"id\":\"b6c9f5bb-7835-410e-bde0-64825ab45f4d\",\"type\":\"BasicTickFormatter\"},\"plot\":{\"id\":\"e9673a43-a087-4773-8926-299d0182c076\",\"subtype\":\"Figure\",\"type\":\"Plot\"},\"ticker\":{\"id\":\"cf02ac63-c5c9-481a-953c-9f12863c00b2\",\"type\":\"BasicTicker\"}},\"id\":\"0b9284f1-5d0b-473a-b368-9f4862386f9a\",\"type\":\"LinearAxis\"},{\"attributes\":{},\"id\":\"cf02ac63-c5c9-481a-953c-9f12863c00b2\",\"type\":\"BasicTicker\"},{\"attributes\":{\"dimension\":1,\"plot\":{\"id\":\"e9673a43-a087-4773-8926-299d0182c076\",\"subtype\":\"Figure\",\"type\":\"Plot\"},\"ticker\":{\"id\":\"cf02ac63-c5c9-481a-953c-9f12863c00b2\",\"type\":\"BasicTicker\"}},\"id\":\"ee608479-ac97-4e46-8795-5f1c8a4ffc9b\",\"type\":\"Grid\"},{\"attributes\":{\"fill_color\":{\"value\":\"olive\"},\"line_color\":{\"value\":\"olive\"},\"size\":{\"units\":\"screen\",\"value\":10},\"x\":{\"field\":\"x\"},\"y\":{\"field\":\"y\"}},\"id\":\"fcad4e23-9876-4779-9662-27e4aa03319c\",\"type\":\"Square\"},{\"attributes\":{},\"id\":\"583f50f6-e51d-416f-8dbd-69300fc79036\",\"type\":\"PanTool\"},{\"attributes\":{\"below\":[{\"id\":\"b9dc30a1-caf2-4d8a-a7f8-dc924f16e078\",\"type\":\"LinearAxis\"}],\"left\":[{\"id\":\"28c7e45b-6576-4d44-acf1-ce07239918a1\",\"type\":\"LinearAxis\"}],\"plot_height\":250,\"plot_width\":250,\"renderers\":[{\"id\":\"b9dc30a1-caf2-4d8a-a7f8-dc924f16e078\",\"type\":\"LinearAxis\"},{\"id\":\"8633dbca-ff37-4cf3-98f0-b6ff6470b606\",\"type\":\"Grid\"},{\"id\":\"28c7e45b-6576-4d44-acf1-ce07239918a1\",\"type\":\"LinearAxis\"},{\"id\":\"83ec46c2-6690-4b46-bd3d-40f956c2aa46\",\"type\":\"Grid\"},{\"id\":\"5a441fc3-2824-44e0-b80c-a60a2ce34240\",\"type\":\"GlyphRenderer\"}],\"title\":{\"id\":\"8695f90a-0614-4f7a-a179-f4af3fd5d803\",\"type\":\"Title\"},\"toolbar\":{\"id\":\"d7e92578-4ecc-4882-9423-7a19aed34555\",\"type\":\"Toolbar\"},\"toolbar_location\":null,\"x_range\":{\"id\":\"49f2a49e-ce4c-4f26-9d58-3c3c56c0532d\",\"type\":\"DataRange1d\"},\"x_scale\":{\"id\":\"3c6b5654-4b41-4e2e-a1c0-9419e25d4701\",\"type\":\"LinearScale\"},\"y_range\":{\"id\":\"f46baf28-4cd2-4e76-902b-72df28c8da55\",\"type\":\"DataRange1d\"},\"y_scale\":{\"id\":\"8edcf244-fb6d-4b2c-bb9c-5b89acfe992c\",\"type\":\"LinearScale\"}},\"id\":\"56a9022f-44c1-435b-8660-5cf330d0deec\",\"subtype\":\"Figure\",\"type\":\"Plot\"},{\"attributes\":{},\"id\":\"20b8fddb-6bbf-4294-80a4-9c773be57a49\",\"type\":\"WheelZoomTool\"},{\"attributes\":{\"fill_alpha\":{\"value\":0.1},\"fill_color\":{\"value\":\"#1f77b4\"},\"line_alpha\":{\"value\":0.1},\"line_color\":{\"value\":\"#1f77b4\"},\"size\":{\"units\":\"screen\",\"value\":10},\"x\":{\"field\":\"x\"},\"y\":{\"field\":\"y\"}},\"id\":\"18775c6f-08de-442d-b3b8-3960f70db94f\",\"type\":\"Triangle\"},{\"attributes\":{\"data_source\":{\"id\":\"12be160b-5252-47dd-8d7d-6eb9ca43be62\",\"type\":\"ColumnDataSource\"},\"glyph\":{\"id\":\"cf918ad7-0aa3-43a2-b3b1-7cfc551a5d26\",\"type\":\"Triangle\"},\"hover_glyph\":null,\"muted_glyph\":null,\"nonselection_glyph\":{\"id\":\"18775c6f-08de-442d-b3b8-3960f70db94f\",\"type\":\"Triangle\"},\"selection_glyph\":null,\"view\":{\"id\":\"0b44b133-06da-492b-99cf-5b25210fea05\",\"type\":\"CDSView\"}},\"id\":\"1194c3d7-3adb-44e6-9d7b-b8c3c62c28c8\",\"type\":\"GlyphRenderer\"},{\"attributes\":{\"source\":{\"id\":\"12be160b-5252-47dd-8d7d-6eb9ca43be62\",\"type\":\"ColumnDataSource\"}},\"id\":\"0b44b133-06da-492b-99cf-5b25210fea05\",\"type\":\"CDSView\"},{\"attributes\":{\"active_drag\":\"auto\",\"active_inspect\":\"auto\",\"active_scroll\":\"auto\",\"active_tap\":\"auto\",\"tools\":[{\"id\":\"a0b2be26-7c69-47d9-b596-4c911a08a118\",\"type\":\"PanTool\"},{\"id\":\"84d154e0-1312-4cd8-9a47-9d62f0c4ad42\",\"type\":\"WheelZoomTool\"}]},\"id\":\"d7e92578-4ecc-4882-9423-7a19aed34555\",\"type\":\"Toolbar\"},{\"attributes\":{\"plot\":null,\"text\":\"\"},\"id\":\"fb39fff0-8f1b-48ba-b00b-85d686df24d1\",\"type\":\"Title\"},{\"attributes\":{\"formatter\":{\"id\":\"7d0980a1-40b9-420a-8cdd-dee7adb617e7\",\"type\":\"BasicTickFormatter\"},\"plot\":{\"id\":\"56a9022f-44c1-435b-8660-5cf330d0deec\",\"subtype\":\"Figure\",\"type\":\"Plot\"},\"ticker\":{\"id\":\"5856a22a-2b77-40c7-8b4f-ccf10b5386ab\",\"type\":\"BasicTicker\"}},\"id\":\"b9dc30a1-caf2-4d8a-a7f8-dc924f16e078\",\"type\":\"LinearAxis\"},{\"attributes\":{},\"id\":\"8edcf244-fb6d-4b2c-bb9c-5b89acfe992c\",\"type\":\"LinearScale\"},{\"attributes\":{\"callback\":null,\"column_names\":[\"x\",\"y\"],\"data\":{\"x\":[0,1,2,3,4,5,6,7,8,9,10],\"y\":[5,4,3,2,1,0,1,2,3,4,5]}},\"id\":\"5e833be0-9585-480a-b073-eed45e489790\",\"type\":\"ColumnDataSource\"},{\"attributes\":{},\"id\":\"14bce829-4f3e-4208-ab17-fb5930aa0e99\",\"type\":\"BasicTickFormatter\"},{\"attributes\":{},\"id\":\"5856a22a-2b77-40c7-8b4f-ccf10b5386ab\",\"type\":\"BasicTicker\"},{\"attributes\":{\"children\":[{\"id\":\"2d91c3e8-2ead-4724-8fbe-aa7013c1df20\",\"type\":\"Row\"}]},\"id\":\"6124ee2f-99d3-4253-b9a5-e2e9f70cc83b\",\"type\":\"Column\"},{\"attributes\":{\"plot\":{\"id\":\"56a9022f-44c1-435b-8660-5cf330d0deec\",\"subtype\":\"Figure\",\"type\":\"Plot\"},\"ticker\":{\"id\":\"5856a22a-2b77-40c7-8b4f-ccf10b5386ab\",\"type\":\"BasicTicker\"}},\"id\":\"8633dbca-ff37-4cf3-98f0-b6ff6470b606\",\"type\":\"Grid\"},{\"attributes\":{\"formatter\":{\"id\":\"b2e0ba23-27dd-49ae-87d2-2fead733389f\",\"type\":\"BasicTickFormatter\"},\"plot\":{\"id\":\"56a9022f-44c1-435b-8660-5cf330d0deec\",\"subtype\":\"Figure\",\"type\":\"Plot\"},\"ticker\":{\"id\":\"c6074116-cf74-43ed-8261-fe0d0abb5a2a\",\"type\":\"BasicTicker\"}},\"id\":\"28c7e45b-6576-4d44-acf1-ce07239918a1\",\"type\":\"LinearAxis\"},{\"attributes\":{},\"id\":\"c6074116-cf74-43ed-8261-fe0d0abb5a2a\",\"type\":\"BasicTicker\"},{\"attributes\":{\"dimension\":1,\"plot\":{\"id\":\"56a9022f-44c1-435b-8660-5cf330d0deec\",\"subtype\":\"Figure\",\"type\":\"Plot\"},\"ticker\":{\"id\":\"c6074116-cf74-43ed-8261-fe0d0abb5a2a\",\"type\":\"BasicTicker\"}},\"id\":\"83ec46c2-6690-4b46-bd3d-40f956c2aa46\",\"type\":\"Grid\"},{\"attributes\":{\"children\":[{\"id\":\"9a7656ec-2439-4b1f-b499-a23f5e064f16\",\"subtype\":\"Figure\",\"type\":\"Plot\"},{\"id\":\"e9673a43-a087-4773-8926-299d0182c076\",\"subtype\":\"Figure\",\"type\":\"Plot\"},{\"id\":\"56a9022f-44c1-435b-8660-5cf330d0deec\",\"subtype\":\"Figure\",\"type\":\"Plot\"}]},\"id\":\"2d91c3e8-2ead-4724-8fbe-aa7013c1df20\",\"type\":\"Row\"},{\"attributes\":{},\"id\":\"a0b2be26-7c69-47d9-b596-4c911a08a118\",\"type\":\"PanTool\"}],\"root_ids\":[\"6c093c01-86a1-4de4-bed3-d37ce6bdfc56\"]},\"title\":\"Bokeh Application\",\"version\":\"0.12.13\"}};\n",
       "  var render_items = [{\"docid\":\"cc6bcf2f-82ce-4234-b2d8-8dbb5fc4458d\",\"elementid\":\"70d4dad3-c8db-4676-b7f2-977e1adfa324\",\"modelid\":\"6c093c01-86a1-4de4-bed3-d37ce6bdfc56\"}];\n",
       "  root.Bokeh.embed.embed_items_notebook(docs_json, render_items);\n",
       "\n",
       "  }\n",
       "  if (root.Bokeh !== undefined) {\n",
       "    embed_document(root);\n",
       "  } else {\n",
       "    var attempts = 0;\n",
       "    var timer = setInterval(function(root) {\n",
       "      if (root.Bokeh !== undefined) {\n",
       "        embed_document(root);\n",
       "        clearInterval(timer);\n",
       "      }\n",
       "      attempts++;\n",
       "      if (attempts > 100) {\n",
       "        console.log(\"Bokeh: ERROR: Unable to run BokehJS code because BokehJS library is missing\")\n",
       "        clearInterval(timer);\n",
       "      }\n",
       "    }, 10, root)\n",
       "  }\n",
       "})(window);"
      ],
      "application/vnd.bokehjs_exec.v0+json": ""
     },
     "metadata": {
      "application/vnd.bokehjs_exec.v0+json": {
       "id": "6c093c01-86a1-4de4-bed3-d37ce6bdfc56"
      }
     },
     "output_type": "display_data"
    }
   ],
   "source": [
    "from bokeh.layouts import gridplot\n",
    "\n",
    "x = list(range(11))\n",
    "y0, y1, y2 = x, [10-i for i in x], [abs(i-5) for i in x]\n",
    "\n",
    "plot_options = dict(width=250, plot_height=250, tools='pan,wheel_zoom')\n",
    "\n",
    "# create a new plot\n",
    "s1 = figure(**plot_options)\n",
    "s1.circle(x, y0, size=10, color=\"navy\")\n",
    "\n",
    "# create a new plot and share both ranges\n",
    "s2 = figure(x_range=s1.x_range, y_range=s1.y_range, **plot_options)\n",
    "s2.triangle(x, y1, size=10, color=\"firebrick\")\n",
    "\n",
    "# create a new plot and share only one range\n",
    "s3 = figure(x_range=s1.x_range, **plot_options)\n",
    "s3.square(x, y2, size=10, color=\"olive\")\n",
    "\n",
    "p = gridplot([[s1, s2, s3]])\n",
    "\n",
    "# show the results\n",
    "show(p)"
   ]
  },
  {
   "cell_type": "code",
   "execution_count": null,
   "metadata": {
    "collapsed": true
   },
   "outputs": [],
   "source": [
    "# EXERCISE: create two plots in a gridplot, and link their ranges\n"
   ]
  },
  {
   "cell_type": "markdown",
   "metadata": {},
   "source": [
    "## Linked brushing\n",
    "\n",
    "Linking selections is accomplished in a similar way, by sharing data sources between plots. Note that normally with ``bokeh.plotting`` and ``bokeh.charts`` creating a default data source for simple plots is handled automatically. However to share a data source, we must create them by hand and pass them explicitly. This is illustrated in the example below:"
   ]
  },
  {
   "cell_type": "code",
   "execution_count": null,
   "metadata": {
    "collapsed": true
   },
   "outputs": [],
   "source": [
    "from bokeh.models import ColumnDataSource\n",
    "\n",
    "x = list(range(-20, 21))\n",
    "y0, y1 = [abs(xx) for xx in x], [xx**2 for xx in x]\n",
    "\n",
    "# create a column data source for the plots to share\n",
    "source = ColumnDataSource(data=dict(x=x, y0=y0, y1=y1))\n",
    "\n",
    "TOOLS = \"box_select,lasso_select,help\"\n",
    "\n",
    "# create a new plot and add a renderer\n",
    "left = figure(tools=TOOLS, width=300, height=300)\n",
    "left.circle('x', 'y0', source=source)\n",
    "\n",
    "# create another new plot and add a renderer\n",
    "right = figure(tools=TOOLS, width=300, height=300)\n",
    "right.circle('x', 'y1', source=source)\n",
    "\n",
    "p = gridplot([[left, right]])\n",
    "\n",
    "show(p)"
   ]
  },
  {
   "cell_type": "code",
   "execution_count": null,
   "metadata": {
    "collapsed": true
   },
   "outputs": [],
   "source": [
    "# EXERCISE: create two plots in a gridplot, and link their data sources\n",
    "\n"
   ]
  },
  {
   "cell_type": "markdown",
   "metadata": {},
   "source": [
    "# Hover Tools\n",
    "\n",
    "Bokeh has a Hover Tool that allows additional information to be displayed in a popup whenever the user hovers over a specific glyph. Basic hover tool configuration amounts to providing a list of ``(name, format)`` tuples. The full details can be found in the User's Guide [here](http://bokeh.pydata.org/en/latest/docs/user_guide/tools.html#hovertool).\n",
    "\n",
    "The example below shows some basic usage of the Hover tool with a circle glyph, using hover information defined in utils.py:"
   ]
  },
  {
   "cell_type": "code",
   "execution_count": null,
   "metadata": {
    "collapsed": true
   },
   "outputs": [],
   "source": [
    "from bokeh.models import HoverTool\n",
    "\n",
    "source = ColumnDataSource(\n",
    "        data=dict(\n",
    "            x=[1, 2, 3, 4, 5],\n",
    "            y=[2, 5, 8, 2, 7],\n",
    "            desc=['A', 'b', 'C', 'd', 'E'],\n",
    "        )\n",
    "    )\n",
    "\n",
    "hover = HoverTool(\n",
    "        tooltips=[\n",
    "            (\"index\", \"$index\"),\n",
    "            (\"(x,y)\", \"($x, $y)\"),\n",
    "            (\"desc\", \"@desc\"),\n",
    "        ]\n",
    "    )\n",
    "\n",
    "p = figure(plot_width=300, plot_height=300, tools=[hover], title=\"Mouse over the dots\")\n",
    "\n",
    "p.circle('x', 'y', size=20, source=source)\n",
    "\n",
    "show(p)"
   ]
  },
  {
   "cell_type": "markdown",
   "metadata": {},
   "source": [
    "# Widgets"
   ]
  },
  {
   "cell_type": "markdown",
   "metadata": {},
   "source": [
    "Bokeh supports direct integration with a small basic widget set. Thse can be used in conjunction with a Bokeh Server, or with ``CustomJS`` models to add more interactive capability to your documents. You can see a complete list, with example code in the [Adding Widgets](http://bokeh.pydata.org/en/latest/docs/user_guide/interaction.html#adding-widgets) section of the User's Guide. \n",
    "\n",
    "To use the widgets, include them in a layout like you would a plot object:"
   ]
  },
  {
   "cell_type": "code",
   "execution_count": null,
   "metadata": {
    "collapsed": true
   },
   "outputs": [],
   "source": [
    "from bokeh.layouts import widgetbox\n",
    "from bokeh.models.widgets import Slider\n",
    "\n",
    "\n",
    "slider = Slider(start=0, end=10, value=1, step=.1, title=\"foo\")\n",
    "\n",
    "show(widgetbox(slider))"
   ]
  },
  {
   "cell_type": "code",
   "execution_count": null,
   "metadata": {
    "collapsed": true
   },
   "outputs": [],
   "source": [
    "# EXERCISE: create and show a Select widget \n"
   ]
  },
  {
   "cell_type": "markdown",
   "metadata": {},
   "source": [
    "# CustomJS Callbacks"
   ]
  },
  {
   "cell_type": "code",
   "execution_count": null,
   "metadata": {
    "collapsed": true
   },
   "outputs": [],
   "source": [
    "from bokeh.models import TapTool, CustomJS, ColumnDataSource\n",
    "\n",
    "callback = CustomJS(code=\"alert('hello world')\")\n",
    "tap = TapTool(callback=callback)\n",
    "\n",
    "p = figure(plot_width=600, plot_height=300, tools=[tap])\n",
    "\n",
    "p.circle(x=[1, 2, 3, 4, 5], y=[2, 5, 8, 2, 7], size=20)\n",
    "\n",
    "show(p)"
   ]
  },
  {
   "cell_type": "markdown",
   "metadata": {},
   "source": [
    "## Lots of places to add callbacks\n",
    "\n",
    "* Widgets - Button, Toggle, Dropdown, TextInput, AutocompleteInput, Select, Multiselect, Slider, (DateRangeSlider), DatePicker,\n",
    "* Tools - TapTool, BoxSelectTool, HoverTool,\n",
    "* Selection - ColumnDataSource, AjaxDataSource, BlazeDataSource, ServerDataSource\n",
    "* Ranges - Range1d, DataRange1d, FactorRange\n"
   ]
  },
  {
   "cell_type": "markdown",
   "metadata": {},
   "source": [
    "## Callbacks for widgets\n",
    "\n",
    "Widgets that have values associated can have small JavaScript actions attached to them. These actions (also referred to as \"callbacks\") are executed whenever the widget's value is changed. In order to make it easier to refer to specific Bokeh models (e.g., a data source, or a glyhph) from JavaScript, the ``CustomJS`` obejct also accepts a dictionary of \"args\" that map names to Python Bokeh models. The corresponding JavaScript models are made available automaticaly to the ``CustomJS`` code. \n",
    "\n",
    "And example below shows an action attached to a slider that updates a data source whenever the slider is moved:"
   ]
  },
  {
   "cell_type": "code",
   "execution_count": null,
   "metadata": {
    "collapsed": true
   },
   "outputs": [],
   "source": [
    "from bokeh.layouts import column\n",
    "from bokeh.models import CustomJS, ColumnDataSource, Slider\n",
    "\n",
    "x = [x*0.005 for x in range(0, 201)]\n",
    "\n",
    "source = ColumnDataSource(data=dict(x=x, y=x))\n",
    "\n",
    "plot = figure(plot_width=400, plot_height=400)\n",
    "plot.line('x', 'y', source=source, line_width=3, line_alpha=0.6)\n",
    "\n",
    "slider = Slider(start=0.1, end=6, value=1, step=.1, title=\"power\")\n",
    "\n",
    "update_curve = CustomJS(args=dict(source=source, slider=slider), code=\"\"\"\n",
    "    var data = source.get('data');\n",
    "    var f = slider.value;\n",
    "    x = data['x']\n",
    "    y = data['y']\n",
    "    for (i = 0; i < x.length; i++) {\n",
    "        y[i] = Math.pow(x[i], f)\n",
    "    }\n",
    "    source.change.emit();\n",
    "\"\"\")\n",
    "slider.js_on_change('value', update_curve)\n",
    "\n",
    "\n",
    "show(column(slider, plot))"
   ]
  },
  {
   "cell_type": "markdown",
   "metadata": {},
   "source": [
    "## Calbacks for selections\n",
    "\n",
    "It's also possible to make JavaScript actions that execute whenever a user selection (e.g., box, point, lasso) changes. This is done by attaching the same kind of CustomJS object to whatever data source the selection is made on.\n",
    "\n",
    "The example below is a bit more sophisticated, and demonstrates updating one glyph's data source in response to another glyph's selection: "
   ]
  },
  {
   "cell_type": "code",
   "execution_count": null,
   "metadata": {
    "collapsed": true
   },
   "outputs": [],
   "source": [
    "from random import random\n",
    "\n",
    "x = [random() for x in range(500)]\n",
    "y = [random() for y in range(500)]\n",
    "color = [\"navy\"] * len(x)\n",
    "\n",
    "s = ColumnDataSource(data=dict(x=x, y=y, color=color))\n",
    "p = figure(plot_width=400, plot_height=400, tools=\"lasso_select\", title=\"Select Here\")\n",
    "p.circle('x', 'y', color='color', size=8, source=s, alpha=0.4)\n",
    "\n",
    "s2 = ColumnDataSource(data=dict(xm=[0,1],ym=[0.5, 0.5]))\n",
    "p.line(x='xm', y='ym', color=\"orange\", line_width=5, alpha=0.6, source=s2)\n",
    "\n",
    "s.callback = CustomJS(args=dict(s2=s2), code=\"\"\"\n",
    "    var inds = cb_obj.get('selected')['1d'].indices;\n",
    "    var d = cb_obj.get('data');\n",
    "    var ym = 0\n",
    "    \n",
    "    if (inds.length == 0) { return; }\n",
    "    \n",
    "    for (i = 0; i < d['color'].length; i++) {\n",
    "        d['color'][i] = \"navy\"\n",
    "    }\n",
    "    for (i = 0; i < inds.length; i++) {\n",
    "        d['color'][inds[i]] = \"firebrick\"\n",
    "        ym += d['y'][inds[i]]\n",
    "    }\n",
    "    \n",
    "    ym /= inds.length\n",
    "    s2.get('data')['ym'] = [ym, ym]\n",
    "    \n",
    "    cb_obj.trigger('change');\n",
    "    s2.trigger('change');\n",
    "\"\"\")\n",
    "\n",
    "show(p)"
   ]
  },
  {
   "cell_type": "markdown",
   "metadata": {
    "collapsed": true
   },
   "source": [
    "# More\n",
    "For more interactions, see the User Guide - http://bokeh.pydata.org/en/latest/docs/user_guide/interaction.html"
   ]
  }
 ],
 "metadata": {
  "anaconda-cloud": {},
  "kernelspec": {
   "display_name": "Python 3",
   "language": "python",
   "name": "python3"
  },
  "language_info": {
   "codemirror_mode": {
    "name": "ipython",
    "version": 3
   },
   "file_extension": ".py",
   "mimetype": "text/x-python",
   "name": "python",
   "nbconvert_exporter": "python",
   "pygments_lexer": "ipython3",
   "version": "3.6.3"
  },
  "widgets": {
   "state": {
    "335ae2c8ff80469e9adac668c2924989": {
     "views": [
      {
       "cell_index": 19
      }
     ]
    }
   },
   "version": "1.2.0"
  }
 },
 "nbformat": 4,
 "nbformat_minor": 1
}
