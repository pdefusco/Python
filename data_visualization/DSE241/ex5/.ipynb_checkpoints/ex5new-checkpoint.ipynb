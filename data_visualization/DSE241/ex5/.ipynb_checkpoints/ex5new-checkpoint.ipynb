{
 "cells": [
  {
   "cell_type": "code",
   "execution_count": 1,
   "metadata": {
    "collapsed": true
   },
   "outputs": [],
   "source": [
    "import math\n",
    "from bokeh.io import output_notebook, show\n",
    "from bokeh.plotting import figure\n",
    "from bokeh.models import Legend,Plot,GraphRenderer, Oval, Range1d, MultiLine, Circle, HoverTool, TapTool, BoxSelectTool,BoxZoomTool, Rect, WheelZoomTool\n",
    "from bokeh.models.graphs import NodesAndLinkedEdges, EdgesAndLinkedNodes,from_networkx\n",
    "from bokeh.palettes import Spectral4, Spectral8, Blues8, Greens8, magma,OrRd,Oranges, Viridis256, Oranges8\n",
    "from bokeh.plotting import ColumnDataSource\n",
    "from bokeh.models import ColumnDataSource, LabelSet, ColumnData,StaticLayoutProvider,GraphRenderer\n",
    "from bokeh.layouts import gridplot\n",
    "import numpy as np\n",
    "from networkx.algorithms import approximation as approx\n",
    "import matplotlib.pyplot as plt\n",
    "import pandas as pd\n",
    "import networkx as nx\n",
    "import numpy as np\n",
    "import csv"
   ]
  },
  {
   "cell_type": "code",
   "execution_count": 2,
   "metadata": {},
   "outputs": [
    {
     "data": {
      "text/plain": [
       "('source', 'target', 'weight')"
      ]
     },
     "execution_count": 2,
     "metadata": {},
     "output_type": "execute_result"
    }
   ],
   "source": [
    "#Importing Nodes as Pandas DF\n",
    "nodes = pd.read_csv(\"sheep_data/sheep_age.csv\")\n",
    "edges = pd.read_csv(\"sheep_data/sheep_edges.csv\")\n",
    "#Importing Edges as Tuples \n",
    "with open('sheep_data/sheep_edges.csv') as f:\n",
    "    sheep_edges=[tuple(line) for line in csv.reader(f)]\n",
    "sheep_edges.pop(0)"
   ]
  },
  {
   "cell_type": "code",
   "execution_count": 3,
   "metadata": {
    "collapsed": true
   },
   "outputs": [],
   "source": [
    "#Creating the Network\n",
    "X = nx.DiGraph()\n",
    "X.add_weighted_edges_from(sheep_edges)"
   ]
  },
  {
   "cell_type": "code",
   "execution_count": 4,
   "metadata": {
    "collapsed": true
   },
   "outputs": [],
   "source": [
    "#Creating Features\n",
    "src_dom = edges.groupby(['source']).sum()\n",
    "tgt_dom = edges.groupby(['target']).sum()\n",
    "src_dom = src_dom.reset_index()\n",
    "tgt_dom = tgt_dom.reset_index()"
   ]
  },
  {
   "cell_type": "code",
   "execution_count": 5,
   "metadata": {
    "collapsed": true
   },
   "outputs": [],
   "source": [
    "df2 = pd.DataFrame([[1, 0, 0]],columns=['target','source','weight'])\n",
    "tgt_dom = tgt_dom.append(df2)\n",
    "tgt_dom = tgt_dom.sort_values('target')\n",
    "tgt_dom = tgt_dom.drop(columns=['source'])\n",
    "tgt_dom.rename(columns={'target': 'id', 'weight':'DominatedBy'}, inplace=True)"
   ]
  },
  {
   "cell_type": "code",
   "execution_count": 6,
   "metadata": {
    "collapsed": true
   },
   "outputs": [],
   "source": [
    "df2 = pd.DataFrame([[6, 0, 0]],columns=['source', 'target','weight'])\n",
    "src_dom = src_dom.append(df2)\n",
    "src_dom = src_dom.sort_values('source')\n",
    "src_dom = src_dom.drop(columns=['target'])\n",
    "src_dom.rename(columns={'source': 'id', 'weight':'DominatedOthers'}, inplace=True)                                                                  "
   ]
  },
  {
   "cell_type": "code",
   "execution_count": 7,
   "metadata": {
    "collapsed": true
   },
   "outputs": [],
   "source": [
    "#Merge Original Nodes DF to add Dominated\n",
    "nodes = pd.merge(nodes, tgt_dom, how='inner', on='id')\n",
    "nodes = pd.merge(nodes, src_dom, how='inner', on='id')\n",
    "#1 - How many different sheep it dominated\n",
    "src_diff = edges.groupby(['source']).sum()\n",
    "#2 - How many different sheep it was dominated by\n",
    "tgt_diff = edges.groupby(['target']).sum()\n",
    "edges_work = edges.copy()\n",
    "edges_work = edges_work.drop(columns=['weight'])\n",
    "#del src\n",
    "src = edges_work.groupby(['source']).count()\n",
    "src = src.reset_index()\n",
    "df2 = pd.DataFrame([[6, 0]],columns=['source', 'target'])\n",
    "src = src.append(df2)\n",
    "src = src.sort_values('source')\n",
    "src.rename(columns={'source': 'id', 'target':'TargetsPerSource'}, inplace=True)\n",
    "edges_work = edges.copy()\n",
    "edges_work = edges_work.drop(columns=['weight'])\n",
    "#del tgt\n",
    "tgt = edges_work.groupby('target').count()\n",
    "tgt = tgt.reset_index()\n",
    "df2 = pd.DataFrame([[1, 0]],columns=['target', 'source'])\n",
    "tgt = tgt.append(df2)\n",
    "tgt = tgt.sort_values('target')\n",
    "tgt.rename(columns={'target': 'id', 'source':'SourcesPerTarget'}, inplace=True)\n",
    "nodes = pd.merge(nodes, src, how='inner', on='id')\n",
    "nodes = pd.merge(nodes, tgt, how='inner', on='id')\n",
    "#Load the node attributes\n",
    "for j in nodes.columns:\n",
    "    for i,k in zip(sorted(X.nodes()),pd.Series(nodes[j])):\n",
    "        X.node[i][j] = k\n",
    "#Create Edge Attributes:\n",
    "color_series = []\n",
    "for i in edges['weight']:\n",
    "    if i>7:\n",
    "        color_series.append(Spectral8[7])\n",
    "    else:\n",
    "        color_series.append(Spectral8[i])\n",
    "edges['weight_color'] = color_series"
   ]
  },
  {
   "cell_type": "code",
   "execution_count": 8,
   "metadata": {
    "collapsed": true
   },
   "outputs": [],
   "source": [
    "nodes['DominatedOthers'] = nodes['DominatedOthers']+1\n",
    "nodes['DominatedBy'] = nodes['DominatedBy']+1\n",
    "nodes['TargetsPerSource'] = nodes['TargetsPerSource']+1\n",
    "nodes['SourcesPerTarget'] = nodes['SourcesPerTarget']+1\n",
    "nodes['DomBy/DomOthers'] = nodes['DominatedBy'].divide(nodes['DominatedOthers'])\n",
    "nodes['DomBy/DomOthers'] = nodes['DomBy/DomOthers']+.1\n",
    "nodes['Tgts/Srcs'] = nodes['TargetsPerSource'].divide(nodes['SourcesPerTarget'])\n",
    "nodes['DominatedOthersPCGT'] = nodes['DominatedOthers']/nodes['DominatedOthers'].sum()\n",
    "nodes['DominatedByPCGT'] = nodes['DominatedBy']/nodes['DominatedBy'].sum()\n",
    "nodes['TotalInteractions'] = nodes['DominatedOthers']+nodes['DominatedBy']\n",
    "nodes['WonPCGT'] = nodes['DominatedOthers']/nodes['TotalInteractions']\n",
    "nodes['LostPCGT'] = nodes['DominatedBy']/nodes['TotalInteractions']\n",
    "nds_dom_pt_lst = []\n",
    "for i in nodes['DominatedOthersPCGT'].tolist():\n",
    "    nds_dom_pt_lst.append(str(i))"
   ]
  },
  {
   "cell_type": "code",
   "execution_count": 9,
   "metadata": {},
   "outputs": [
    {
     "name": "stdout",
     "output_type": "stream",
     "text": [
      "A clique in an undirected graph G = (V, E) is a subset of the vertex set C subset e q V such that\n",
      "for every two vertices in C there exists an edge connecting the two\n",
      "Max Clique:  {'3', '7', '4', '18', '16', '19'}\n"
     ]
    }
   ],
   "source": [
    "print(\"A clique in an undirected graph G = (V, E) is a subset of the vertex set C subset e q V such that\") \n",
    "print(\"for every two vertices in C there exists an edge connecting the two\")\n",
    "print(\"Max Clique: \", approx.max_clique(X))\n",
    "mx_clique = approx.max_clique(X)"
   ]
  },
  {
   "cell_type": "code",
   "execution_count": 10,
   "metadata": {
    "collapsed": true
   },
   "outputs": [],
   "source": [
    "# or DiGraph, MultiGraph, MultiDiGraph, etc\n",
    "mx_cliq = list(mx_clique)\n",
    "H = nx.DiGraph(X.subgraph(mx_cliq))\n",
    "type(H.edges())\n",
    "H_edges_lst = []\n",
    "for i in H.edges():\n",
    "    H_edges_lst.append(i)\n",
    "\n",
    "H_edges = pd.DataFrame(H_edges_lst, columns=['source', 'target'])\n",
    "H_edges1 = pd.merge(edges, H_edges, how='right', left_on=['source','target'],right_on=['source','target'])\n",
    "H_edges1=H_edges1.drop(columns=['weight_color'])\n",
    "edge_weight_lst = []\n",
    "for edge in edges['weight']:\n",
    "    edge_weight_lst.append(str(edge))"
   ]
  },
  {
   "cell_type": "code",
   "execution_count": 11,
   "metadata": {},
   "outputs": [],
   "source": [
    "color_series2 = []\n",
    "for i in nodes['WonPCGT']:\n",
    "    if i<0.2:\n",
    "        color_series2.append(Oranges8[0])\n",
    "    elif i<0.3:\n",
    "        color_series2.append(Oranges8[1])\n",
    "    elif i<0.4:\n",
    "        color_series2.append(Oranges8[2])\n",
    "    elif i<0.5:\n",
    "        color_series2.append(Oranges8[3])\n",
    "    elif i<0.6:\n",
    "        color_series2.append(Oranges8[4])\n",
    "    elif i<0.7:\n",
    "        color_series2.append(Oranges8[5])\n",
    "    elif i<0.8:\n",
    "        color_series2.append(Oranges8[6])\n",
    "    else:\n",
    "        color_series2.append(Oranges8[7])\n",
    "nodes['WonColor'] = color_series2"
   ]
  },
  {
   "cell_type": "code",
   "execution_count": 12,
   "metadata": {
    "collapsed": true
   },
   "outputs": [],
   "source": [
    "color_series3 = []\n",
    "for i in 1/nodes['DomBy/DomOthers']:\n",
    "    if i<0.5:\n",
    "        color_series3.append(Blues8[0])\n",
    "    elif i<1:\n",
    "        color_series3.append(Blues8[1])\n",
    "    elif i<1.5:\n",
    "        color_series3.append(Blues8[2])\n",
    "    elif i<2:\n",
    "        color_series3.append(Blues8[3])\n",
    "    elif i<2.5:\n",
    "        color_series3.append(Blues8[4])\n",
    "    elif i<3:\n",
    "        color_series3.append(Blues8[5])\n",
    "    elif i<3.5:\n",
    "        color_series3.append(Blues8[6])\n",
    "    else:\n",
    "        color_series3.append(Blues8[7])\n",
    "nodes['DomBy/DomOthers_color'] = color_series3"
   ]
  },
  {
   "cell_type": "code",
   "execution_count": 13,
   "metadata": {
    "collapsed": true
   },
   "outputs": [],
   "source": [
    "color_series4 = []\n",
    "for i in nodes['Tgts/Srcs']:\n",
    "    if i<1:\n",
    "        color_series4.append(Greens8[0])\n",
    "    elif i<2:\n",
    "        color_series4.append(Greens8[1])\n",
    "    elif i<3:\n",
    "        color_series4.append(Greens8[2])\n",
    "    elif i<4:\n",
    "        color_series4.append(Greens8[3])\n",
    "    elif i<6:\n",
    "        color_series4.append(Greens8[4])\n",
    "    elif i<8:\n",
    "        color_series4.append(Greens8[5])\n",
    "    elif i<9:\n",
    "        color_series4.append(Greens8[6])\n",
    "    else:\n",
    "        color_series4.append(Greens8[7])\n",
    "nodes['Tgts/Srcs_color'] = color_series4"
   ]
  },
  {
   "cell_type": "code",
   "execution_count": null,
   "metadata": {
    "collapsed": true
   },
   "outputs": [],
   "source": []
  },
  {
   "cell_type": "code",
   "execution_count": null,
   "metadata": {
    "collapsed": true
   },
   "outputs": [],
   "source": []
  },
  {
   "cell_type": "code",
   "execution_count": 14,
   "metadata": {},
   "outputs": [
    {
     "name": "stderr",
     "output_type": "stream",
     "text": [
      "E-1001 (BAD_COLUMN_NAME): Glyph refers to nonexistent column name: dom_by, dom_index, fi_color, size_dim [renderer: GlyphRenderer(id='8179c0dc-e4b0-4ce3-91cc-ad18d664497f', ...)]\n",
      "E-1001 (BAD_COLUMN_NAME): Glyph refers to nonexistent column name: width, width_alpha [renderer: GlyphRenderer(id='76146d40-863c-465b-b531-aebd233e42d6', ...)]\n"
     ]
    }
   ],
   "source": [
    "#First Plot\n",
    "N1 = len(X.nodes)\n",
    "node_indices = list(range(N1))\n",
    "nd_idx = [i+1 for i in node_indices]\n",
    "\n",
    "p = figure(title=\"Graph Spectral Layout\", x_range=(-1.1,1.1), y_range=(-1.1,1.1), toolbar_location=\"right\")\n",
    "\n",
    "p.title.text_color = \"black\"\n",
    "p.title.text_font = \"verdana\"\n",
    "p.title.text_font_style = \"italic\"\n",
    "p.title.text_font_style = \"bold\"\n",
    "p.background_fill_alpha = 0.07\n",
    "p.title.align = \"center\"\n",
    "p.title.text_font_size = '29pt'\n",
    "\n",
    "p.add_tools(HoverTool(tooltips=[(\"Source\", \"@edges_src\"),\n",
    "                                (\"Target\", \"@edges_tgt\"),(\"Weight\",\"@width\")]), \n",
    "            TapTool(), BoxSelectTool(), BoxZoomTool(),WheelZoomTool())\n",
    "\n",
    "graph_renderer = from_networkx(X,nx.spectral_layout, center=(0,0))\n",
    "\n",
    "pos = nx.spectral_layout(X)\n",
    "x,y=zip(*pos.values())\n",
    "\n",
    "src = ColumnDataSource({'x':x,'y':y,'nodeid':nd_idx})\n",
    "labels = LabelSet(x='x', y='y', text='nodeid', source=src)\n",
    "\n",
    "graph_renderer.node_renderer.glyph = Circle(size=\"size_dim\", fill_alpha=\"dom_index\",\n",
    "                                            line_color = \"firebrick\",\n",
    "                                            line_dash = [1, 1],\n",
    "                                            line_width = \"dom_by\",\n",
    "                                            fill_color=\"fi_color\"\n",
    "                                            \n",
    "                                            )\n",
    "\n",
    "graph_renderer.node_renderer.selection_glyph = Circle(size=\"size_dim\", fill_alpha=\"dom_index\",\n",
    "                                            line_color = \"firebrick\",\n",
    "                                            line_dash = [1, 1],\n",
    "                                            line_width = \"dom_by\",\n",
    "                                            fill_color=\"fi_color\")\n",
    "\n",
    "graph_renderer.node_renderer.hover_glyph = Circle(size=\"size_dim\", fill_alpha=\"dom_index\", \n",
    "                                            line_color = \"firebrick\",\n",
    "                                            line_dash = [1, 1],\n",
    "                                            line_width = \"dom_by\",\n",
    "                                            fill_color=\"fi_color\")\n",
    "\n",
    "graph_renderer.node_renderer.data_source.data = dict(index=nd_idx, \n",
    "                                            size_dim = nodes['DominatedOthersPCGT']*600,\n",
    "                                            dom_index = 30/nodes['DomBy/DomOthers'],\n",
    "                                            dom_by = nodes['DominatedBy']/7,\n",
    "                                            fi_color = nodes['DomBy/DomOthers_color'],\n",
    "                                            age = nodes['age']/60\n",
    "                                                    )\n",
    "\n",
    "graph_renderer.edge_renderer.glyph = MultiLine(line_color=\"#bdbdbd\", line_alpha=\"width_alpha\",\n",
    "                                               line_dash=\"dotted\", line_width=\"width\")\n",
    "graph_renderer.edge_renderer.selection_glyph = MultiLine(line_color=\"edge_col\", line_width=\"width\")\n",
    "graph_renderer.edge_renderer.hover_glyph = MultiLine(line_color=\"edge_col\", line_width=\"width\")\n",
    "graph_renderer.edge_renderer.data_source.data = dict(start=edges['source'],\n",
    "                                                     end=edges['target'],\n",
    "                                                     width=edges['weight'],\n",
    "                                                     edge_col=edges['weight_color'],\n",
    "                                                     width_alpha=edges['weight']/2,\n",
    "                                                     edges_src=edges['source'],\n",
    "                                                     edges_tgt=edges['target']\n",
    "                                                    )\n",
    "\n",
    "legend = Legend(items=[(\"Node ID\",[])], location=\"top_right\")\n",
    "\n",
    "graph_renderer.selection_policy = NodesAndLinkedEdges()\n",
    "graph_renderer.inspection_policy = EdgesAndLinkedNodes()\n",
    "\n",
    "p.renderers.append(labels)\n",
    "p.renderers.append(graph_renderer)\n",
    "p.add_layout(legend)\n",
    "show(p)"
   ]
  },
  {
   "cell_type": "code",
   "execution_count": 15,
   "metadata": {},
   "outputs": [
    {
     "name": "stderr",
     "output_type": "stream",
     "text": [
      "E-1001 (BAD_COLUMN_NAME): Glyph refers to nonexistent column name: dom_by, dom_index, fi_color, size_dim [renderer: GlyphRenderer(id='8179c0dc-e4b0-4ce3-91cc-ad18d664497f', ...)]\n",
      "E-1001 (BAD_COLUMN_NAME): Glyph refers to nonexistent column name: width, width_alpha [renderer: GlyphRenderer(id='76146d40-863c-465b-b531-aebd233e42d6', ...)]\n",
      "E-1001 (BAD_COLUMN_NAME): Glyph refers to nonexistent column name: age, fi_color2, fi_color3, tgtdivsrcstgt [renderer: GlyphRenderer(id='cfb00987-4c5a-4212-8d31-6c3c488d5832', ...)]\n",
      "E-1001 (BAD_COLUMN_NAME): Glyph refers to nonexistent column name: dom_by, dom_index, fi_color, size_dim [renderer: GlyphRenderer(id='7b9e3412-6488-4424-87e2-703fd291b6e9', ...)]\n",
      "E-1001 (BAD_COLUMN_NAME): Glyph refers to nonexistent column name: width, width_alpha [renderer: GlyphRenderer(id='8f1d664f-fee5-4ba2-a0ff-228cebac3355', ...)]\n",
      "E-1001 (BAD_COLUMN_NAME): Glyph refers to nonexistent column name: width, width_alpha [renderer: GlyphRenderer(id='bf4d0eb5-54bc-4144-814e-7dc644925619', ...)]\n"
     ]
    }
   ],
   "source": [
    "#First Plot\n",
    "N1 = len(X.nodes)\n",
    "node_indices = list(range(N1))\n",
    "plot_options = dict(width=400, plot_height=400)\n",
    "nds_dom_pt=nodes['DominatedOthersPCGT'].tolist()\n",
    "nd_idx = [i+1 for i in node_indices]\n",
    "#tgtdivsrcstgt-tgtdivsrc\n",
    "node_src = dict(index=nd_idx, dom_oth_pcgt = nds_dom_pt,\n",
    "                                    size_dim = nodes['DominatedOthersPCGT']*300,\n",
    "                                    dom_index = 30/nodes['DomBy/DomOthers'],\n",
    "                                    dom_by = nodes['DominatedBy']/7,\n",
    "                                    fi_color = nodes['DomBy/DomOthers_color'],\n",
    "                                    fi_color2 = nodes['Tgts/Srcs_color'],\n",
    "                                    fi_color3 = nodes['WonColor'],\n",
    "                                    age = nodes['age']/60,\n",
    "                                    tgtdivsrcstgt=nodes['Tgts/Srcs']*30#,\n",
    "                                    #tgtdivsrc = 1\n",
    "                                \n",
    "               )\n",
    "\n",
    "edge_src = dict(start=edges['source'],end=edges['target'],\n",
    "                                     width=edges['weight'],\n",
    "                                     edge_col=edges['weight_color'],\n",
    "                                     width_alpha=edges['weight']/2,\n",
    "                                     edges_src=edges['source'],\n",
    "                                     edges_tgt=edges['target'])\n",
    "\n",
    "s1 = figure(title=\"Graph Layout Demonstration\", x_range=(-1.1,1.1)\n",
    "            , y_range=(-1.1,1.1),tools='pan,wheel_zoom,tap,xbox_select', toolbar_location=\"right\", **plot_options)\n",
    "\n",
    "s1.add_tools(HoverTool(tooltips=[(\"Source\", \"@edges_src\"),\n",
    "                                (\"Target\", \"@edges_tgt\"),(\"Weight\",\"@width\")]), \n",
    "            TapTool(), BoxSelectTool(), BoxZoomTool(),WheelZoomTool())\n",
    "\n",
    "graph1 = from_networkx(X,nx.shell_layout, center=(0,0))\n",
    "\n",
    "pos = nx.shell_layout(X)\n",
    "x,y=zip(*pos.values())\n",
    "\n",
    "src = ColumnDataSource({'x':x,'y':y,'nodeid':nd_idx})\n",
    "labels = LabelSet(x='x', y='y', text='nodeid', source=src)\n",
    "s1.title.text_color = \"blue\"\n",
    "s1.title.text_font = \"verdana\"\n",
    "s1.title.text_font_style = \"italic\"\n",
    "\n",
    "graph1.node_renderer.glyph = Circle(size=\"size_dim\", fill_alpha=\"dom_index\",\n",
    "                                            line_color = \"firebrick\",\n",
    "                                            line_dash = [1, 1],\n",
    "                                            line_width = \"dom_by\",\n",
    "                                            fill_color=\"fi_color\"\n",
    "                                            \n",
    "                                            )\n",
    "graph1.node_renderer.selection_glyph = Circle(size=\"size_dim\", fill_alpha=\"dom_index\",\n",
    "                                            line_color = \"firebrick\",\n",
    "                                            line_dash = [1, 1],\n",
    "                                            line_width = \"dom_by\",\n",
    "                                            fill_color=\"fi_color\")\n",
    "\n",
    "graph1.node_renderer.hover_glyph = Circle(size=\"size_dim\", fill_alpha=\"dom_index\", \n",
    "                                            line_color = \"firebrick\",\n",
    "                                            line_dash = [1, 1],\n",
    "                                            line_width = \"dom_by\",\n",
    "                                            fill_color=\"fi_color\")\n",
    "\n",
    "graph1.node_renderer.data_source.data = node_src\n",
    "\n",
    "graph1.edge_renderer.glyph = MultiLine(line_color=\"#bdbdbd\", line_alpha=\"width_alpha\",\n",
    "                                               line_dash=\"dotted\", line_width=\"width\")\n",
    "\n",
    "graph1.edge_renderer.selection_glyph = MultiLine(line_color=\"edge_col\", line_width=\"width\")\n",
    "graph1.edge_renderer.hover_glyph = MultiLine(line_color=\"edge_col\", line_width=\"width\")\n",
    "graph1.edge_renderer.data_source.data = edge_src\n",
    "\n",
    "legend1 = Legend(items=[(\"Node ID\",[])], location=\"top_right\")\n",
    "\n",
    "\n",
    "graph1.selection_policy = NodesAndLinkedEdges()\n",
    "graph1.inspection_policy = EdgesAndLinkedNodes()\n",
    "\n",
    "s1.renderers.append(graph1)\n",
    "\n",
    "s1.renderers.append(labels)\n",
    "s1.renderers.append(graph1)\n",
    "s1.add_layout(legend1)\n",
    "\n",
    "##Second Plot\n",
    "N2 = len(X.nodes)\n",
    "node_indices2 = list(range(N2))\n",
    "\n",
    "s2 = figure(x_range=s1.x_range, y_range=s1.y_range,\n",
    "               title=\"Second Graph\",tools='pan,wheel_zoom,tap,xbox_select', \n",
    "                toolbar_location=\"right\", **plot_options)\n",
    "\n",
    "s2.add_tools(HoverTool(tooltips=[(\"Source\", \"@edges_src\"),\n",
    "                                (\"Target\", \"@edges_tgt\"),(\"Weight\",\"@width\")]), \n",
    "            TapTool(), BoxSelectTool(), BoxZoomTool(),WheelZoomTool())\n",
    "\n",
    "graph2 = from_networkx(X,nx.shell_layout, center=(0,0))\n",
    "\n",
    "s2.title.text_color = \"blue\"\n",
    "s2.title.text_font = \"verdana\"\n",
    "s2.title.text_font_style = \"italic\"                                    \n",
    "\n",
    "graph2.node_renderer.glyph = Rect(x=\"age\", y=\"age\",width=\"age\",height=\"age\",angle=-0.7,\n",
    "                                            fill_alpha=\"tgtdivsrcstgt\",\n",
    "                                            line_color = \"fi_color3\",\n",
    "                                            line_dash = \"solid\",\n",
    "                                            line_width = 5,#\"tgtdivsrc\",\n",
    "                                            fill_color=\"fi_color2\"\n",
    "                                 )\n",
    "graph2.node_renderer.selection_glyph = Rect(x=\"age\", y=\"age\",width=\"age\",height=\"age\",angle=-0.7,\n",
    "                                            fill_alpha=\"tgtdivsrcstgt\",\n",
    "                                            line_color = \"fi_color3\",\n",
    "                                            line_dash = \"solid\",\n",
    "                                            line_width = 5,#\"tgtdivsrc\",\n",
    "                                            fill_color=\"fi_color2\"\n",
    "                                            \n",
    "                                            )\n",
    "\n",
    "graph2.node_renderer.hover_glyph = Rect(x=\"age\", y=\"age\",width=\"age\",height=\"age\",angle=-0.7,\n",
    "                                            fill_alpha=\"tgtdivsrcstgt\",\n",
    "                                            line_color = \"fi_color3\",\n",
    "                                            line_dash = \"solid\",\n",
    "                                            line_width = 5,#\"tgtdivsrc\",\n",
    "                                            fill_color=\"fi_color2\"\n",
    "                                            \n",
    "                                            )\n",
    "\n",
    "graph2.node_renderer.data_source.data = node_src\n",
    "\n",
    "graph2.edge_renderer.glyph = MultiLine(line_color=\"#bdbdbd\", line_alpha=\"width_alpha\",\n",
    "                                               line_dash=\"dotted\", line_width=\"width\")\n",
    "\n",
    "graph2.edge_renderer.selection_glyph = MultiLine(line_color=\"edge_col\", line_width=\"width\")\n",
    "graph2.edge_renderer.hover_glyph = MultiLine(line_color=\"edge_col\", line_width=\"width\")\n",
    "graph2.edge_renderer.data_source.data = edge_src\n",
    "\n",
    "\n",
    "legend2 = Legend(items=[(\"Node ID\",[])], location=\"top_right\")\n",
    "\n",
    "graph2.selection_policy = NodesAndLinkedEdges()\n",
    "graph2.inspection_policy = EdgesAndLinkedNodes()\n",
    "\n",
    "s2.renderers.append(graph2)\n",
    "\n",
    "s2.renderers.append(labels)\n",
    "s2.renderers.append(graph2)\n",
    "s2.add_layout(legend2)\n",
    "\n",
    "p = gridplot([[s1, s2]])\n",
    "\n",
    "show(p)\n",
    "\n"
   ]
  },
  {
   "cell_type": "code",
   "execution_count": 17,
   "metadata": {},
   "outputs": [
    {
     "name": "stderr",
     "output_type": "stream",
     "text": [
      "E-1001 (BAD_COLUMN_NAME): Glyph refers to nonexistent column name: dom_by, dom_index, fi_color, size_dim [renderer: GlyphRenderer(id='8179c0dc-e4b0-4ce3-91cc-ad18d664497f', ...)]\n",
      "E-1001 (BAD_COLUMN_NAME): Glyph refers to nonexistent column name: width, width_alpha [renderer: GlyphRenderer(id='76146d40-863c-465b-b531-aebd233e42d6', ...)]\n",
      "E-1001 (BAD_COLUMN_NAME): Glyph refers to nonexistent column name: age, fi_color2, fi_color3, tgtdivsrcstgt [renderer: GlyphRenderer(id='cfb00987-4c5a-4212-8d31-6c3c488d5832', ...)]\n",
      "E-1001 (BAD_COLUMN_NAME): Glyph refers to nonexistent column name: dom_by, dom_index, fi_color, size_dim [renderer: GlyphRenderer(id='7b9e3412-6488-4424-87e2-703fd291b6e9', ...)]\n",
      "E-1001 (BAD_COLUMN_NAME): Glyph refers to nonexistent column name: width, width_alpha [renderer: GlyphRenderer(id='8f1d664f-fee5-4ba2-a0ff-228cebac3355', ...)]\n",
      "E-1001 (BAD_COLUMN_NAME): Glyph refers to nonexistent column name: width, width_alpha [renderer: GlyphRenderer(id='bf4d0eb5-54bc-4144-814e-7dc644925619', ...)]\n"
     ]
    }
   ],
   "source": [
    "from bokeh.models import LinearColorMapper, ColorBar\n",
    "from bokeh.palettes import YlOrBr8,Oranges8\n",
    "\n",
    "source = ColumnDataSource(dict(nodes))\n",
    "color_mapper = LinearColorMapper(palette=Oranges8, low=nodes.WonPCGT.max(), high=nodes.WonPCGT.min())\n",
    "\n",
    "tls=\"crosshair,pan,wheel_zoom,box_zoom,reset,hover,previewsave\"\n",
    "\n",
    "p = figure(x_axis_label='TargetsPerSource', y_axis_label='SourcesPerTarget', tools=tls, toolbar_location='above')\n",
    "p.circle(x='TargetsPerSource', y='SourcesPerTarget', color={'field': 'WonPCGT', 'transform': color_mapper}, \n",
    "         size=20, alpha=0.6, source=source)\n",
    "hover =p.select(dict(type=HoverTool))\n",
    "hover.tooltips = dict([\n",
    "    (\"Node ID\", \"@id\"),\n",
    "])\n",
    "\n",
    "color_bar = ColorBar(color_mapper=color_mapper, label_standoff=12, location=(0,0), title='WonPCGT')\n",
    "\n",
    "p.add_layout(color_bar, 'right')\n",
    "\n",
    "show(p)"
   ]
  },
  {
   "cell_type": "code",
   "execution_count": null,
   "metadata": {
    "collapsed": true
   },
   "outputs": [],
   "source": []
  }
 ],
 "metadata": {
  "kernelspec": {
   "display_name": "Python 3",
   "language": "python",
   "name": "python3"
  },
  "language_info": {
   "codemirror_mode": {
    "name": "ipython",
    "version": 3
   },
   "file_extension": ".py",
   "mimetype": "text/x-python",
   "name": "python",
   "nbconvert_exporter": "python",
   "pygments_lexer": "ipython3",
   "version": "3.6.3"
  }
 },
 "nbformat": 4,
 "nbformat_minor": 2
}
