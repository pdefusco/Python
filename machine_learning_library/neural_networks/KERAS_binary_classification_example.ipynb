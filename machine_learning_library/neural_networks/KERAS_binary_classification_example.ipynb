{
 "cells": [
  {
   "cell_type": "markdown",
   "metadata": {},
   "source": [
    "### Binary Classification Example with Keras"
   ]
  },
  {
   "cell_type": "markdown",
   "metadata": {},
   "source": [
    "Loading Data"
   ]
  },
  {
   "cell_type": "code",
   "execution_count": 7,
   "metadata": {},
   "outputs": [],
   "source": [
    "import pandas as pd\n",
    "import numpy as np\n",
    "from tensorflow.keras.datasets import imdb"
   ]
  },
  {
   "cell_type": "code",
   "execution_count": 2,
   "metadata": {},
   "outputs": [],
   "source": [
    "(train_data, train_labels), (test_data, test_labels) = imdb.load_data(num_words = 10000) #restricting to the top 10000 words"
   ]
  },
  {
   "cell_type": "code",
   "execution_count": 3,
   "metadata": {},
   "outputs": [
    {
     "name": "stdout",
     "output_type": "stream",
     "text": [
      "Number of Reviews:  25000\n"
     ]
    }
   ],
   "source": [
    "#Train data is a list of reviews. Each review is a list of integers. \n",
    "#Each integer is an encoding of word indices encoding a series of words\n",
    "print('Number of Reviews: ', len(train_data))"
   ]
  },
  {
   "cell_type": "code",
   "execution_count": 4,
   "metadata": {},
   "outputs": [
    {
     "name": "stdout",
     "output_type": "stream",
     "text": [
      "Sample Training Set Label:  1\n"
     ]
    }
   ],
   "source": [
    "#Train label is a series of binary values. A 1 represents a positive review. \n",
    "print('Sample Training Set Label: ', train_labels[0])"
   ]
  },
  {
   "cell_type": "code",
   "execution_count": 5,
   "metadata": {},
   "outputs": [
    {
     "name": "stdout",
     "output_type": "stream",
     "text": [
      "Number of words in first review:  218\n",
      "Number of words in second review:  189\n"
     ]
    }
   ],
   "source": [
    "#Each review has a different number of encoded words in it:\n",
    "print(\"Number of words in first review: \", len(train_data[0]))\n",
    "print(\"Number of words in second review: \", len(train_data[1]))"
   ]
  },
  {
   "cell_type": "markdown",
   "metadata": {},
   "source": [
    "Decoding Reviews into English Words"
   ]
  },
  {
   "cell_type": "code",
   "execution_count": 9,
   "metadata": {},
   "outputs": [
    {
     "name": "stdout",
     "output_type": "stream",
     "text": [
      "Downloading data from https://storage.googleapis.com/tensorflow/tf-keras-datasets/imdb_word_index.json\n",
      "1646592/1641221 [==============================] - 0s 0us/step\n"
     ]
    }
   ],
   "source": [
    "#Decoding reviews to English words:\n",
    "word_index = imdb.get_word_index()"
   ]
  },
  {
   "cell_type": "code",
   "execution_count": 10,
   "metadata": {},
   "outputs": [],
   "source": [
    "reverse_word_index = dict([(valye, key) for (key, valye) in word_index.items()])"
   ]
  },
  {
   "cell_type": "code",
   "execution_count": 15,
   "metadata": {},
   "outputs": [],
   "source": [
    "decoded_review = ' '.join([reverse_word_index.get(i -3, '?') for i in train_data[0]])"
   ]
  },
  {
   "cell_type": "code",
   "execution_count": 16,
   "metadata": {},
   "outputs": [
    {
     "data": {
      "text/plain": [
       "\"? this film was just brilliant casting location scenery story direction everyone's really suited the part they played and you could just imagine being there robert ? is an amazing actor and now the same being director ? father came from the same scottish island as myself so i loved the fact there was a real connection with this film the witty remarks throughout the film were great it was just brilliant so much that i bought the film as soon as it was released for ? and would recommend it to everyone to watch and the fly fishing was amazing really cried at the end it was so sad and you know what they say if you cry at a film it must have been good and this definitely was also ? to the two little boy's that played the ? of norman and paul they were just brilliant children are often left out of the ? list i think because the stars that play them all grown up are such a big profile for the whole film but these children are amazing and should be praised for what they have done don't you think the whole story was so lovely because it was true and was someone's life after all that was shared with us all\""
      ]
     },
     "execution_count": 16,
     "metadata": {},
     "output_type": "execute_result"
    }
   ],
   "source": [
    "decoded_review"
   ]
  },
  {
   "cell_type": "markdown",
   "metadata": {},
   "source": [
    "Preparing the Data"
   ]
  },
  {
   "cell_type": "markdown",
   "metadata": {},
   "source": [
    "We cannot feed this data into the neural network. The data needs to be in a Tensor. We have two alteratives:\n",
    "    - Pad lists so they all have the same length\n",
    "    - One hot encode the lists"
   ]
  },
  {
   "cell_type": "markdown",
   "metadata": {},
   "source": [
    "Vectorizing Data (Latter solution)"
   ]
  },
  {
   "cell_type": "code",
   "execution_count": 17,
   "metadata": {},
   "outputs": [],
   "source": [
    "def vectorize_sequences(sequences, dimension=10000):\n",
    "    results = np.zeros((len(sequences), dimension))\n",
    "    for i, sequence in enumerate(sequences):\n",
    "        results[i, sequence] = 1\n",
    "    return results"
   ]
  },
  {
   "cell_type": "code",
   "execution_count": 20,
   "metadata": {},
   "outputs": [],
   "source": [
    "x_train = vectorize_sequences(train_data)\n",
    "x_test = vectorize_sequences(test_data)"
   ]
  },
  {
   "cell_type": "code",
   "execution_count": 19,
   "metadata": {},
   "outputs": [
    {
     "data": {
      "text/plain": [
       "array([[0., 1., 1., ..., 0., 0., 0.],\n",
       "       [0., 1., 1., ..., 0., 0., 0.],\n",
       "       [0., 1., 1., ..., 0., 0., 0.],\n",
       "       ...,\n",
       "       [0., 1., 1., ..., 0., 0., 0.],\n",
       "       [0., 1., 1., ..., 0., 0., 0.],\n",
       "       [0., 1., 1., ..., 0., 0., 0.]])"
      ]
     },
     "execution_count": 19,
     "metadata": {},
     "output_type": "execute_result"
    }
   ],
   "source": [
    "x_train"
   ]
  },
  {
   "cell_type": "code",
   "execution_count": 21,
   "metadata": {},
   "outputs": [],
   "source": [
    "y_train = np.asarray(train_labels).astype('float32')\n",
    "y_test = np.asarray(test_labels).astype('float32')"
   ]
  },
  {
   "cell_type": "markdown",
   "metadata": {},
   "source": [
    "Building the Network"
   ]
  },
  {
   "cell_type": "code",
   "execution_count": 22,
   "metadata": {},
   "outputs": [],
   "source": [
    "#Will build two layers with 16 hidden units each and a final layer\n",
    "#Inner layers will use Relu while final layer will use sigmoid activation functions\n",
    "\n",
    "from tensorflow.keras import models\n",
    "from tensorflow.keras import layers"
   ]
  },
  {
   "cell_type": "code",
   "execution_count": 23,
   "metadata": {},
   "outputs": [],
   "source": [
    "#Instantiating the model\n",
    "model = models.Sequential()\n",
    "\n",
    "#Adding layers to the model\n",
    "model.add(layers.Dense(16, activation='relu', input_shape=(10000,)))\n",
    "model.add(layers.Dense(16, activation='relu'))\n",
    "model.add(layers.Dense(1, activation='sigmoid'))"
   ]
  },
  {
   "cell_type": "code",
   "execution_count": 24,
   "metadata": {},
   "outputs": [],
   "source": [
    "#Since task is binary classification, we end network with single layer unit using Binary Cross Entropy loss\n",
    "#Alternative could be mean_squared_error but Cross Entropy loss is better as it allows us to output a probability as well\n",
    "\n",
    "model.compile(optimizer='rmsprop', loss='binary_crossentropy', metrics=['accuracy'])"
   ]
  },
  {
   "cell_type": "code",
   "execution_count": 26,
   "metadata": {},
   "outputs": [],
   "source": [
    "#There are additional ways to compile the optimizer:\n",
    "\n",
    "#Great if you want to set an optimizer hyperparameter\n",
    "from tensorflow.keras import optimizers\n",
    "model.compile(optimizer=optimizers.RMSprop(lr=0.001), loss='binary_crossentropy', metrics=['accuracy'])\n",
    "\n",
    "#Alternatively you can directly set custom metrics this way:\n",
    "from tensorflow.keras import losses\n",
    "from tensorflow.keras import metrics\n",
    "\n",
    "model.compile(optimizer=optimizers.RMSprop(lr=0.001), \n",
    "              loss=losses.binary_crossentropy, \n",
    "              metrics=[metrics.binary_accuracy])"
   ]
  },
  {
   "cell_type": "markdown",
   "metadata": {},
   "source": [
    "Train-Validation Sets Split"
   ]
  },
  {
   "cell_type": "code",
   "execution_count": 27,
   "metadata": {},
   "outputs": [],
   "source": [
    "x_val = x_train[:10000]\n",
    "partial_x_train = x_train[10000:]\n",
    "y_val = y_train[:10000]\n",
    "partial_y_train = y_train[10000:]"
   ]
  },
  {
   "cell_type": "code",
   "execution_count": 28,
   "metadata": {},
   "outputs": [
    {
     "name": "stdout",
     "output_type": "stream",
     "text": [
      "Train on 15000 samples, validate on 10000 samples\n",
      "Epoch 1/20\n",
      "15000/15000 [==============================] - 5s 346us/step - loss: 0.5092 - binary_accuracy: 0.7884 - val_loss: 0.3813 - val_binary_accuracy: 0.8676\n",
      "Epoch 2/20\n",
      "15000/15000 [==============================] - 2s 159us/step - loss: 0.2999 - binary_accuracy: 0.9017 - val_loss: 0.3017 - val_binary_accuracy: 0.8896\n",
      "Epoch 3/20\n",
      "15000/15000 [==============================] - 2s 130us/step - loss: 0.2175 - binary_accuracy: 0.9303 - val_loss: 0.2766 - val_binary_accuracy: 0.8917\n",
      "Epoch 4/20\n",
      "15000/15000 [==============================] - 2s 111us/step - loss: 0.1724 - binary_accuracy: 0.9425 - val_loss: 0.2781 - val_binary_accuracy: 0.8879\n",
      "Epoch 5/20\n",
      "15000/15000 [==============================] - 2s 111us/step - loss: 0.1391 - binary_accuracy: 0.9551 - val_loss: 0.2817 - val_binary_accuracy: 0.8883\n",
      "Epoch 6/20\n",
      "15000/15000 [==============================] - 2s 126us/step - loss: 0.1170 - binary_accuracy: 0.9622 - val_loss: 0.2979 - val_binary_accuracy: 0.8866\n",
      "Epoch 7/20\n",
      "15000/15000 [==============================] - 2s 113us/step - loss: 0.0965 - binary_accuracy: 0.9727 - val_loss: 0.3173 - val_binary_accuracy: 0.8815\n",
      "Epoch 8/20\n",
      "15000/15000 [==============================] - 2s 112us/step - loss: 0.0811 - binary_accuracy: 0.9769 - val_loss: 0.3410 - val_binary_accuracy: 0.8815\n",
      "Epoch 9/20\n",
      "15000/15000 [==============================] - 2s 118us/step - loss: 0.0678 - binary_accuracy: 0.9813 - val_loss: 0.3838 - val_binary_accuracy: 0.8708\n",
      "Epoch 10/20\n",
      "15000/15000 [==============================] - 2s 118us/step - loss: 0.0562 - binary_accuracy: 0.9855 - val_loss: 0.4285 - val_binary_accuracy: 0.8698\n",
      "Epoch 11/20\n",
      "15000/15000 [==============================] - 2s 120us/step - loss: 0.0453 - binary_accuracy: 0.9891 - val_loss: 0.4229 - val_binary_accuracy: 0.8761\n",
      "Epoch 12/20\n",
      "15000/15000 [==============================] - 2s 112us/step - loss: 0.0392 - binary_accuracy: 0.9907 - val_loss: 0.4385 - val_binary_accuracy: 0.8731\n",
      "Epoch 13/20\n",
      "15000/15000 [==============================] - 2s 111us/step - loss: 0.0323 - binary_accuracy: 0.9923 - val_loss: 0.4657 - val_binary_accuracy: 0.8738\n",
      "Epoch 14/20\n",
      "15000/15000 [==============================] - 2s 113us/step - loss: 0.0286 - binary_accuracy: 0.9929 - val_loss: 0.4980 - val_binary_accuracy: 0.8725\n",
      "Epoch 15/20\n",
      "15000/15000 [==============================] - 2s 112us/step - loss: 0.0161 - binary_accuracy: 0.9983 - val_loss: 0.5748 - val_binary_accuracy: 0.8678\n",
      "Epoch 16/20\n",
      "15000/15000 [==============================] - 2s 112us/step - loss: 0.0180 - binary_accuracy: 0.9968 - val_loss: 0.5580 - val_binary_accuracy: 0.8705\n",
      "Epoch 17/20\n",
      "15000/15000 [==============================] - 2s 112us/step - loss: 0.0109 - binary_accuracy: 0.9992 - val_loss: 0.6449 - val_binary_accuracy: 0.8648\n",
      "Epoch 18/20\n",
      "15000/15000 [==============================] - 2s 115us/step - loss: 0.0106 - binary_accuracy: 0.9989 - val_loss: 0.6310 - val_binary_accuracy: 0.8666\n",
      "Epoch 19/20\n",
      "15000/15000 [==============================] - 2s 115us/step - loss: 0.0086 - binary_accuracy: 0.9987 - val_loss: 0.6705 - val_binary_accuracy: 0.8681\n",
      "Epoch 20/20\n",
      "15000/15000 [==============================] - 2s 111us/step - loss: 0.0043 - binary_accuracy: 0.9999 - val_loss: 0.7019 - val_binary_accuracy: 0.8638\n"
     ]
    }
   ],
   "source": [
    "history = model.fit(partial_x_train, partial_y_train, epochs=20, batch_size=512, validation_data=(x_val, y_val))"
   ]
  },
  {
   "cell_type": "code",
   "execution_count": 34,
   "metadata": {},
   "outputs": [
    {
     "name": "stdout",
     "output_type": "stream",
     "text": [
      "History Dictionary Contents:  dict_keys(['val_loss', 'val_binary_accuracy', 'loss', 'binary_accuracy'])\n",
      "Validation Set Loss at each iteration: \n"
     ]
    },
    {
     "data": {
      "text/plain": [
       "[0.7884,\n",
       " 0.9016666668574015,\n",
       " 0.9302666663805643,\n",
       " 0.9424666668891907,\n",
       " 0.9550666663805644,\n",
       " 0.9622000001271566,\n",
       " 0.9726666663805644,\n",
       " 0.9769333333333333,\n",
       " 0.9813333331425985,\n",
       " 0.9854666664759318,\n",
       " 0.9890666663805644,\n",
       " 0.9906666666666667,\n",
       " 0.9923333335876465,\n",
       " 0.9929333335876465,\n",
       " 0.9983333333333333,\n",
       " 0.9968,\n",
       " 0.9992,\n",
       " 0.9988666666666667,\n",
       " 0.9987333333333334,\n",
       " 0.9998666666666667]"
      ]
     },
     "execution_count": 34,
     "metadata": {},
     "output_type": "execute_result"
    }
   ],
   "source": [
    "#The history dictionary contains all the information related to training the neural network:\n",
    "history_dict = history.history\n",
    "print(\"History Dictionary Contents: \", history_dict.keys())\n",
    "print(\"Validation Set Loss at each iteration: \")\n",
    "history_dict['binary_accuracy']"
   ]
  },
  {
   "cell_type": "code",
   "execution_count": 35,
   "metadata": {},
   "outputs": [],
   "source": [
    "#Plotting Training and Validation Metrics:\n",
    "import matplotlib.pyplot as plt\n",
    "\n",
    "loss_values = history_dict['loss']\n",
    "val_loss_values = history_dict['val_loss']"
   ]
  },
  {
   "cell_type": "code",
   "execution_count": 36,
   "metadata": {},
   "outputs": [],
   "source": [
    "epochs = range(1, len(loss_values) + 1)"
   ]
  },
  {
   "cell_type": "code",
   "execution_count": 37,
   "metadata": {},
   "outputs": [
    {
     "data": {
      "image/png": "[encoded data removed]",
      "text/plain": [
       "<Figure size 432x288 with 1 Axes>"
      ]
     },
     "metadata": {
      "needs_background": "light"
     },
     "output_type": "display_data"
    }
   ],
   "source": [
    "plt.plot(epochs, loss_values, 'bo', label=\"Training Loss\")\n",
    "plt.plot(epochs, val_loss_values, 'b', label='Validation Loss')\n",
    "plt.title('Training and Validation Loss')\n",
    "plt.xlabel('Epochs')\n",
    "plt.ylabel('Loss')\n",
    "plt.legend()\n",
    "plt.show()"
   ]
  },
  {
   "cell_type": "code",
   "execution_count": 39,
   "metadata": {},
   "outputs": [],
   "source": [
    "acc_values = history_dict['binary_accuracy']\n",
    "val_acc_values = history_dict['val_binary_accuracy']"
   ]
  },
  {
   "cell_type": "code",
   "execution_count": 42,
   "metadata": {},
   "outputs": [
    {
     "data": {
      "image/png": "[encoded data removed]",
      "text/plain": [
       "<Figure size 432x288 with 1 Axes>"
      ]
     },
     "metadata": {
      "needs_background": "light"
     },
     "output_type": "display_data"
    }
   ],
   "source": [
    "plt.plot(epochs, acc_values, 'bo', label='Training Accuracy')\n",
    "plt.plot(epochs, val_acc_values, 'b', label='Validation Accuracy')\n",
    "plt.title(\"Training and Validation Accuracy\")\n",
    "plt.xlabel(\"Epochs\")\n",
    "plt.ylabel(\"Accuracy\")\n",
    "plt.legend()\n",
    "\n",
    "plt.show()"
   ]
  },
  {
   "cell_type": "markdown",
   "metadata": {},
   "source": [
    "Clearly, the above neural network has problems. It is overfitting i.e. the training and validation curves are distant and diverging"
   ]
  },
  {
   "cell_type": "markdown",
   "metadata": {},
   "source": [
    "Let's rerun the model with different hyperparameters i.e. a lower learning rate:"
   ]
  },
  {
   "cell_type": "code",
   "execution_count": 54,
   "metadata": {},
   "outputs": [],
   "source": [
    "model.compile(optimizer=optimizers.RMSprop(lr=0.001), loss='binary_crossentropy', metrics=['accuracy'])"
   ]
  },
  {
   "cell_type": "code",
   "execution_count": 55,
   "metadata": {},
   "outputs": [
    {
     "name": "stdout",
     "output_type": "stream",
     "text": [
      "Train on 15000 samples, validate on 10000 samples\n",
      "Epoch 1/20\n",
      "15000/15000 [==============================] - 4s 268us/step - loss: 0.0424 - acc: 0.9887 - val_loss: 0.9384 - val_acc: 0.8632\n",
      "Epoch 2/20\n",
      "15000/15000 [==============================] - 3s 176us/step - loss: 5.7691e-04 - acc: 1.0000 - val_loss: 0.9392 - val_acc: 0.8651\n",
      "Epoch 3/20\n",
      "15000/15000 [==============================] - 3s 173us/step - loss: 5.1415e-04 - acc: 1.0000 - val_loss: 0.9412 - val_acc: 0.8661\n",
      "Epoch 4/20\n",
      "15000/15000 [==============================] - 3s 175us/step - loss: 4.7610e-04 - acc: 1.0000 - val_loss: 0.9437 - val_acc: 0.8658\n",
      "Epoch 5/20\n",
      "15000/15000 [==============================] - 3s 170us/step - loss: 4.4199e-04 - acc: 1.0000 - val_loss: 0.9471 - val_acc: 0.8658\n",
      "Epoch 6/20\n",
      "15000/15000 [==============================] - 3s 171us/step - loss: 4.1121e-04 - acc: 1.0000 - val_loss: 0.9507 - val_acc: 0.8657\n",
      "Epoch 7/20\n",
      "15000/15000 [==============================] - 3s 171us/step - loss: 3.7987e-04 - acc: 1.0000 - val_loss: 0.9549 - val_acc: 0.8646\n",
      "Epoch 8/20\n",
      "15000/15000 [==============================] - 3s 172us/step - loss: 3.4854e-04 - acc: 1.0000 - val_loss: 0.9602 - val_acc: 0.8641\n",
      "Epoch 9/20\n",
      "15000/15000 [==============================] - 3s 171us/step - loss: 3.1682e-04 - acc: 1.0000 - val_loss: 0.9662 - val_acc: 0.8634\n",
      "Epoch 10/20\n",
      "15000/15000 [==============================] - 3s 178us/step - loss: 2.8648e-04 - acc: 1.0000 - val_loss: 0.9736 - val_acc: 0.8633\n",
      "Epoch 11/20\n",
      "15000/15000 [==============================] - 3s 171us/step - loss: 2.5540e-04 - acc: 1.0000 - val_loss: 0.9826 - val_acc: 0.8629\n",
      "Epoch 12/20\n",
      "15000/15000 [==============================] - 3s 175us/step - loss: 2.2394e-04 - acc: 1.0000 - val_loss: 0.9937 - val_acc: 0.8630\n",
      "Epoch 13/20\n",
      "15000/15000 [==============================] - 3s 171us/step - loss: 1.9741e-04 - acc: 1.0000 - val_loss: 1.0104 - val_acc: 0.8614\n",
      "Epoch 14/20\n",
      "15000/15000 [==============================] - 3s 174us/step - loss: 0.0367 - acc: 0.9908 - val_loss: 1.0147 - val_acc: 0.8634\n",
      "Epoch 15/20\n",
      "15000/15000 [==============================] - 3s 173us/step - loss: 1.7511e-04 - acc: 1.0000 - val_loss: 1.0135 - val_acc: 0.8629\n",
      "Epoch 16/20\n",
      "15000/15000 [==============================] - 3s 178us/step - loss: 1.6311e-04 - acc: 1.0000 - val_loss: 1.0136 - val_acc: 0.8630\n",
      "Epoch 17/20\n",
      "15000/15000 [==============================] - 3s 179us/step - loss: 1.5717e-04 - acc: 1.0000 - val_loss: 1.0143 - val_acc: 0.8628\n",
      "Epoch 18/20\n",
      "15000/15000 [==============================] - 3s 185us/step - loss: 1.5253e-04 - acc: 1.0000 - val_loss: 1.0155 - val_acc: 0.8631\n",
      "Epoch 19/20\n",
      "15000/15000 [==============================] - 3s 196us/step - loss: 1.4825e-04 - acc: 1.0000 - val_loss: 1.0172 - val_acc: 0.8627\n",
      "Epoch 20/20\n",
      "15000/15000 [==============================] - 3s 172us/step - loss: 1.4381e-04 - acc: 1.0000 - val_loss: 1.0196 - val_acc: 0.8617\n"
     ]
    }
   ],
   "source": [
    "history = model.fit(partial_x_train, partial_y_train, epochs=20, batch_size=2000, validation_data=(x_val, y_val))"
   ]
  },
  {
   "cell_type": "code",
   "execution_count": 56,
   "metadata": {},
   "outputs": [],
   "source": [
    "history_dict = history.history"
   ]
  },
  {
   "cell_type": "code",
   "execution_count": 57,
   "metadata": {},
   "outputs": [
    {
     "data": {
      "text/plain": [
       "dict_keys(['val_loss', 'val_acc', 'loss', 'acc'])"
      ]
     },
     "execution_count": 57,
     "metadata": {},
     "output_type": "execute_result"
    }
   ],
   "source": [
    "history_dict.keys()"
   ]
  },
  {
   "cell_type": "code",
   "execution_count": 58,
   "metadata": {},
   "outputs": [],
   "source": [
    "acc_values = history_dict['acc']\n",
    "val_acc_values = history_dict['val_acc']"
   ]
  },
  {
   "cell_type": "code",
   "execution_count": 59,
   "metadata": {},
   "outputs": [
    {
     "data": {
      "image/png": "[encoded data removed]",
      "text/plain": [
       "<Figure size 432x288 with 1 Axes>"
      ]
     },
     "metadata": {
      "needs_background": "light"
     },
     "output_type": "display_data"
    }
   ],
   "source": [
    "plt.plot(epochs, acc_values, 'bo', label='Training Accuracy')\n",
    "plt.plot(epochs, val_acc_values, 'b', label='Validation Accuracy')\n",
    "plt.title(\"Training and Validation Accuracy\")\n",
    "plt.xlabel(\"Epochs\")\n",
    "plt.ylabel(\"Accuracy\")\n",
    "plt.legend()\n",
    "\n",
    "plt.show()"
   ]
  },
  {
   "cell_type": "markdown",
   "metadata": {},
   "source": [
    "The network is still overfitting - we would need to change other hyperparameters such as the numnber of units per layer (width) or the number of layers (depth)"
   ]
  },
  {
   "cell_type": "code",
   "execution_count": 68,
   "metadata": {},
   "outputs": [],
   "source": [
    "#Instantiating the model\n",
    "model = models.Sequential()\n",
    "\n",
    "#Adding layers to the model\n",
    "model.add(layers.Dense(16, activation='relu', input_shape=(10000,)))\n",
    "model.add(layers.Dense(8, activation='relu'))\n",
    "model.add(layers.Dense(1, activation='sigmoid'))"
   ]
  },
  {
   "cell_type": "code",
   "execution_count": 69,
   "metadata": {},
   "outputs": [],
   "source": [
    "model.compile(optimizer=optimizers.RMSprop(lr=0.001), loss='binary_crossentropy', metrics=['accuracy'])"
   ]
  },
  {
   "cell_type": "code",
   "execution_count": 70,
   "metadata": {},
   "outputs": [
    {
     "name": "stdout",
     "output_type": "stream",
     "text": [
      "Train on 15000 samples, validate on 10000 samples\n",
      "Epoch 1/20\n",
      "15000/15000 [==============================] - 4s 254us/step - loss: 0.6268 - acc: 0.6663 - val_loss: 0.5219 - val_acc: 0.8236\n",
      "Epoch 2/20\n",
      "15000/15000 [==============================] - 3s 183us/step - loss: 0.4647 - acc: 0.8537 - val_loss: 0.4514 - val_acc: 0.8314\n",
      "Epoch 3/20\n",
      "15000/15000 [==============================] - 3s 192us/step - loss: 0.3819 - acc: 0.8892 - val_loss: 0.3752 - val_acc: 0.8685\n",
      "Epoch 4/20\n",
      "15000/15000 [==============================] - 3s 185us/step - loss: 0.3249 - acc: 0.8952 - val_loss: 0.3388 - val_acc: 0.8791\n",
      "Epoch 5/20\n",
      "15000/15000 [==============================] - 3s 182us/step - loss: 0.2647 - acc: 0.9267 - val_loss: 0.3172 - val_acc: 0.8837\n",
      "Epoch 6/20\n",
      "15000/15000 [==============================] - 3s 182us/step - loss: 0.2493 - acc: 0.9222 - val_loss: 0.3064 - val_acc: 0.8828\n",
      "Epoch 7/20\n",
      "15000/15000 [==============================] - 3s 182us/step - loss: 0.2096 - acc: 0.9422 - val_loss: 0.2935 - val_acc: 0.8882\n",
      "Epoch 8/20\n",
      "15000/15000 [==============================] - 3s 181us/step - loss: 0.1973 - acc: 0.9435 - val_loss: 0.3406 - val_acc: 0.8577\n",
      "Epoch 9/20\n",
      "15000/15000 [==============================] - 3s 188us/step - loss: 0.1799 - acc: 0.9496 - val_loss: 0.2845 - val_acc: 0.8868\n",
      "Epoch 10/20\n",
      "15000/15000 [==============================] - 3s 180us/step - loss: 0.1583 - acc: 0.9591 - val_loss: 0.2933 - val_acc: 0.8827\n",
      "Epoch 11/20\n",
      "15000/15000 [==============================] - 3s 183us/step - loss: 0.1590 - acc: 0.9525 - val_loss: 0.2807 - val_acc: 0.8877\n",
      "Epoch 12/20\n",
      "15000/15000 [==============================] - 3s 189us/step - loss: 0.1326 - acc: 0.9665 - val_loss: 0.2807 - val_acc: 0.8886\n",
      "Epoch 13/20\n",
      "15000/15000 [==============================] - 3s 183us/step - loss: 0.1315 - acc: 0.9642 - val_loss: 0.3166 - val_acc: 0.8758\n",
      "Epoch 14/20\n",
      "15000/15000 [==============================] - 3s 182us/step - loss: 0.1162 - acc: 0.9706 - val_loss: 0.2852 - val_acc: 0.8858\n",
      "Epoch 15/20\n",
      "15000/15000 [==============================] - 3s 215us/step - loss: 0.1039 - acc: 0.9758 - val_loss: 0.2979 - val_acc: 0.8830\n",
      "Epoch 16/20\n",
      "15000/15000 [==============================] - 3s 182us/step - loss: 0.1092 - acc: 0.9701 - val_loss: 0.2950 - val_acc: 0.8855\n",
      "Epoch 17/20\n",
      "15000/15000 [==============================] - 3s 183us/step - loss: 0.0877 - acc: 0.9817 - val_loss: 0.2991 - val_acc: 0.8844\n",
      "Epoch 18/20\n",
      "15000/15000 [==============================] - 3s 183us/step - loss: 0.0903 - acc: 0.9777 - val_loss: 0.3064 - val_acc: 0.8837\n",
      "Epoch 19/20\n",
      "15000/15000 [==============================] - 3s 183us/step - loss: 0.0789 - acc: 0.9830 - val_loss: 0.3252 - val_acc: 0.8796\n",
      "Epoch 20/20\n",
      "15000/15000 [==============================] - 3s 189us/step - loss: 0.0732 - acc: 0.9861 - val_loss: 0.3377 - val_acc: 0.8768\n"
     ]
    }
   ],
   "source": [
    "history = model.fit(partial_x_train, partial_y_train, epochs=20, batch_size=2000, validation_data=(x_val, y_val))"
   ]
  },
  {
   "cell_type": "code",
   "execution_count": 71,
   "metadata": {},
   "outputs": [],
   "source": [
    "history_dict = history.history"
   ]
  },
  {
   "cell_type": "code",
   "execution_count": 72,
   "metadata": {},
   "outputs": [],
   "source": [
    "acc_values = history_dict['acc']\n",
    "val_acc_values = history_dict['val_acc']"
   ]
  },
  {
   "cell_type": "code",
   "execution_count": 73,
   "metadata": {},
   "outputs": [
    {
     "data": {
      "image/png": "[encoded data removed]",
      "text/plain": [
       "<Figure size 432x288 with 1 Axes>"
      ]
     },
     "metadata": {
      "needs_background": "light"
     },
     "output_type": "display_data"
    }
   ],
   "source": [
    "plt.plot(epochs, acc_values, 'bo', label='Training Accuracy')\n",
    "plt.plot(epochs, val_acc_values, 'b', label='Validation Accuracy')\n",
    "plt.title(\"Training and Validation Accuracy\")\n",
    "plt.xlabel(\"Epochs\")\n",
    "plt.ylabel(\"Accuracy\")\n",
    "plt.legend()\n",
    "\n",
    "plt.show()"
   ]
  },
  {
   "cell_type": "markdown",
   "metadata": {},
   "source": [
    "Testing Model Performance on Test Set"
   ]
  },
  {
   "cell_type": "code",
   "execution_count": 61,
   "metadata": {},
   "outputs": [
    {
     "data": {
      "text/plain": [
       "array([[0.000343  ],\n",
       "       [1.        ],\n",
       "       [0.9698322 ],\n",
       "       ...,\n",
       "       [0.00007741],\n",
       "       [0.00256809],\n",
       "       [0.89432037]], dtype=float32)"
      ]
     },
     "execution_count": 61,
     "metadata": {},
     "output_type": "execute_result"
    }
   ],
   "source": [
    "#The model will output the log likelihood of each value\n",
    "np.set_printoptions(suppress=True)\n",
    "model.predict(x_test)"
   ]
  },
  {
   "cell_type": "code",
   "execution_count": null,
   "metadata": {},
   "outputs": [],
   "source": []
  }
 ],
 "metadata": {
  "kernelspec": {
   "display_name": "py36",
   "language": "python",
   "name": "py36"
  },
  "language_info": {
   "codemirror_mode": {
    "name": "ipython",
    "version": 3
   },
   "file_extension": ".py",
   "mimetype": "text/x-python",
   "name": "python",
   "nbconvert_exporter": "python",
   "pygments_lexer": "ipython3",
   "version": "3.6.7"
  }
 },
 "nbformat": 4,
 "nbformat_minor": 2
}
