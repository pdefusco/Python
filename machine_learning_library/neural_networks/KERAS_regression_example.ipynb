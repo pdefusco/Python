{
 "cells": [
  {
   "cell_type": "code",
   "execution_count": 1,
   "metadata": {},
   "outputs": [],
   "source": [
    "import pandas as pd\n",
    "import numpy as np\n",
    "from tensorflow.keras.datasets import boston_housing"
   ]
  },
  {
   "cell_type": "code",
   "execution_count": 2,
   "metadata": {},
   "outputs": [
    {
     "name": "stdout",
     "output_type": "stream",
     "text": [
      "Downloading data from https://storage.googleapis.com/tensorflow/tf-keras-datasets/boston_housing.npz\n",
      "57344/57026 [==============================] - 0s 1us/step\n"
     ]
    }
   ],
   "source": [
    "#1986 News wires (text) categorized by 1 of 46 topics\n",
    "(train_data, train_targets), (test_data, test_targets) = boston_housing.load_data()"
   ]
  },
  {
   "cell_type": "code",
   "execution_count": 3,
   "metadata": {},
   "outputs": [
    {
     "name": "stdout",
     "output_type": "stream",
     "text": [
      "Train Data Shape:  (404, 13)\n",
      "Test Data Shape:  (102, 13)\n"
     ]
    }
   ],
   "source": [
    "print(\"Train Data Shape: \", train_data.shape)\n",
    "print(\"Test Data Shape: \", test_data.shape)"
   ]
  },
  {
   "cell_type": "code",
   "execution_count": 4,
   "metadata": {},
   "outputs": [],
   "source": [
    "#Normalizing data\n",
    "mean = train_data.mean(axis=0)\n",
    "train_data -= mean\n",
    "std= train_data.std(axis=0)\n",
    "train_data /= std\n",
    "\n",
    "#Notice that the mean and std were calculated on the training set\n",
    "#If we were scaling the test data with the test mean and std we'd be incurring data leakage\n",
    "test_data -= mean\n",
    "test_data /= std"
   ]
  },
  {
   "cell_type": "code",
   "execution_count": 5,
   "metadata": {},
   "outputs": [],
   "source": [
    "from tensorflow.keras import models\n",
    "from tensorflow.keras import layers\n",
    "\n",
    "def build_model():\n",
    "    model = models.Sequential()\n",
    "    model.add(layers.Dense(64, activation='relu', input_shape=(train_data.shape[1], )))\n",
    "    model.add(layers.Dense(64, activation='relu'))\n",
    "    model.add(layers.Dense(1))\n",
    "    model.compile(optimizer='rmsprop', loss='mse', metrics=['mae'])\n",
    "    return model"
   ]
  },
  {
   "cell_type": "code",
   "execution_count": 7,
   "metadata": {},
   "outputs": [
    {
     "name": "stdout",
     "output_type": "stream",
     "text": [
      "Processing fold # 0\n",
      "Processing fold # 1\n",
      "Processing fold # 2\n",
      "Processing fold # 3\n"
     ]
    }
   ],
   "source": [
    "k = 4\n",
    "num_val_samples = len(train_data) // k\n",
    "num_epochs = 100\n",
    "all_scores = []\n",
    "for i in range(k):\n",
    "    print(\"Processing fold #\", i)\n",
    "    val_data = train_data[i*num_val_samples: (i+1)*num_val_samples]\n",
    "    val_targets = train_targets[i*num_val_samples: (i+1)*num_val_samples]\n",
    "    \n",
    "    partial_train_data = np.concatenate([train_data[:i * num_val_samples], train_data[(i+1)*num_val_samples:]], axis=0)\n",
    "    partial_train_targets = np.concatenate([train_targets[:i * num_val_samples], train_targets[(i+1)*num_val_samples:]], axis=0)\n",
    "    \n",
    "    model = build_model()\n",
    "    model.fit(partial_train_data, partial_train_targets, epochs=num_epochs, batch_size=1, verbose=0)\n",
    "    val_mse, val_mae = model.evaluate(val_data, val_targets, verbose=0)\n",
    "    all_scores.append(val_mae)"
   ]
  },
  {
   "cell_type": "code",
   "execution_count": 9,
   "metadata": {},
   "outputs": [
    {
     "name": "stdout",
     "output_type": "stream",
     "text": [
      "Mean CV RMSE:  2.5811248583958877\n"
     ]
    }
   ],
   "source": [
    "print(\"Mean CV RMSE: \", np.mean(all_scores))"
   ]
  },
  {
   "cell_type": "code",
   "execution_count": 10,
   "metadata": {},
   "outputs": [
    {
     "name": "stdout",
     "output_type": "stream",
     "text": [
      "Processing fold # 0\n",
      "Processing fold # 1\n",
      "Processing fold # 2\n",
      "Processing fold # 3\n"
     ]
    }
   ],
   "source": [
    "#Alternatively we can use the validation split within the model fit function to retrieve more execution metrics:\n",
    "\n",
    "k = 4\n",
    "num_val_samples = len(train_data) // k\n",
    "num_epochs = 100\n",
    "all_scores = []\n",
    "for i in range(k):\n",
    "    print(\"Processing fold #\", i)\n",
    "    val_data = train_data[i*num_val_samples: (i+1)*num_val_samples]\n",
    "    val_targets = train_targets[i*num_val_samples: (i+1)*num_val_samples]\n",
    "    \n",
    "    partial_train_data = np.concatenate([train_data[:i * num_val_samples], train_data[(i+1)*num_val_samples:]], axis=0)\n",
    "    partial_train_targets = np.concatenate([train_targets[:i * num_val_samples], train_targets[(i+1)*num_val_samples:]], axis=0)\n",
    "    \n",
    "    model = build_model()\n",
    "    history = model.fit(partial_train_data, partial_train_targets, \n",
    "              epochs=num_epochs, validation_data =(val_data, val_targets), \n",
    "              batch_size=1, verbose=0)\n",
    "    \n",
    "    mae_history = history.history['val_mean_absolute_error']\n",
    "    all_scores.append(mae_history)"
   ]
  },
  {
   "cell_type": "code",
   "execution_count": 19,
   "metadata": {},
   "outputs": [
    {
     "data": {
      "text/plain": [
       "[2.138127592719427, 2.4785840749740604, 2.711603228455723, 2.5823998265455264]"
      ]
     },
     "execution_count": 19,
     "metadata": {},
     "output_type": "execute_result"
    }
   ],
   "source": [
    "#There is one set of scores for each CV fold. We take the mean of each set of scores.\n",
    "[np.mean(scores) for scores in all_scores]"
   ]
  },
  {
   "cell_type": "code",
   "execution_count": 22,
   "metadata": {},
   "outputs": [],
   "source": [
    "#Taking the mean score across all 4 folds, for each epoch:\n",
    "avg_mae_history = [np.mean([x[i] for x in all_scores]) for i in range(num_epochs)]"
   ]
  },
  {
   "cell_type": "code",
   "execution_count": 24,
   "metadata": {},
   "outputs": [
    {
     "name": "stdout",
     "output_type": "stream",
     "text": [
      "[4.545374794761733, 3.4146432073989716, 3.036955903072168, 2.951282297030534, 2.9051713660211846, 2.8447853078936585, 2.831993775792641, 2.593647308868937, 2.5904644881144607, 2.6249977786942282, 2.570664702075543, 2.4701626666701664, 2.537074104394063, 2.457574493814223, 2.4079576412049852, 2.4255008449648865, 2.491651956397708, 2.4192617671324474, 2.5031551323314702, 2.3771612691407156, 2.5834606944924534, 2.357678781641592, 2.4487343318391552, 2.3083834294045324, 2.415267816864618, 2.4663119481341673, 2.406778553924938, 2.373644997577856, 2.3341312868760364, 2.338022570798893, 2.397941889739273, 2.391639517085387, 2.433550146546694, 2.3477093028550104, 2.407088063731052, 2.3724896848791897, 2.254065665868249, 2.477951802829705, 2.6598177735168154, 2.2392619423346947, 2.2590480795001042, 2.417075689476315, 2.3352017980991024, 2.692080501282569, 2.338396223464815, 2.423850408875116, 2.341890741102766, 2.3974446022864613, 2.345194123759128, 2.420592686917522, 2.3984366490109132, 2.333810596182795, 2.441541296420711, 2.3800275892314344, 2.3895709077910623, 2.390840367515488, 2.311967927630585, 2.3488568504257956, 2.4381117419441147, 2.3861031626710796, 2.348209771779504, 2.387054276938486, 2.5660568629160965, 2.2768391099306617, 2.475163686393511, 2.294359590747569, 2.507762652812618, 2.249004630759211, 2.2730874318887695, 2.4873350982618807, 2.405594826924919, 2.354066689415733, 2.3040425600391803, 2.3923020008767004, 2.4142558008137316, 2.3944536400313425, 2.4216499788926376, 2.4046265831088074, 2.477644205093384, 2.366092336059797, 2.4022591444525387, 2.453558974927015, 2.47976551197543, 2.4921628514138776, 2.4336951085836582, 2.4155643635457107, 2.3957368690188567, 2.451809598667787, 2.402274448092621, 2.4554083477152457, 2.474644637934052, 2.4638617994761702, 2.5320309306135274, 2.4685142358930983, 2.40393337282804, 2.40357775735383, 2.4568681988385643, 2.5546642140586777, 2.461389171014918, 2.563093846977347]\n"
     ]
    }
   ],
   "source": [
    "print(avg_mae_history)"
   ]
  },
  {
   "cell_type": "code",
   "execution_count": 27,
   "metadata": {},
   "outputs": [
    {
     "data": {
      "image/png": "[encoded data removed]",
      "text/plain": [
       "<Figure size 432x288 with 1 Axes>"
      ]
     },
     "metadata": {
      "needs_background": "light"
     },
     "output_type": "display_data"
    }
   ],
   "source": [
    "import matplotlib.pyplot as plt\n",
    "\n",
    "plt.plot(range(1, len(avg_mae_history)+1), avg_mae_history)\n",
    "plt.xlabel('Epochs')\n",
    "plt.ylabel('Validation MAE')\n",
    "plt.show()"
   ]
  },
  {
   "cell_type": "markdown",
   "metadata": {},
   "source": [
    "Best Practices:\n",
    "    - Scale data when features are on different scales. Make sure to scale each feature independently.\n",
    "    - Use K-Fold CV to cope with lack of data.\n",
    "    - If little data is available, use smaller network with few hidden layers or NN will overfit. "
   ]
  },
  {
   "cell_type": "code",
   "execution_count": null,
   "metadata": {},
   "outputs": [],
   "source": []
  }
 ],
 "metadata": {
  "kernelspec": {
   "display_name": "py36",
   "language": "python",
   "name": "py36"
  },
  "language_info": {
   "codemirror_mode": {
    "name": "ipython",
    "version": 3
   },
   "file_extension": ".py",
   "mimetype": "text/x-python",
   "name": "python",
   "nbconvert_exporter": "python",
   "pygments_lexer": "ipython3",
   "version": "3.6.7"
  }
 },
 "nbformat": 4,
 "nbformat_minor": 2
}
