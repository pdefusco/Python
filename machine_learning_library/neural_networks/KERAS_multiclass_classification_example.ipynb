{
 "cells": [
  {
   "cell_type": "markdown",
   "metadata": {},
   "source": [
    "### Multi-Class Classification Example"
   ]
  },
  {
   "cell_type": "code",
   "execution_count": 1,
   "metadata": {},
   "outputs": [],
   "source": [
    "import pandas as pd\n",
    "import numpy as np\n",
    "from tensorflow.keras.datasets import reuters"
   ]
  },
  {
   "cell_type": "code",
   "execution_count": 2,
   "metadata": {},
   "outputs": [
    {
     "name": "stdout",
     "output_type": "stream",
     "text": [
      "Downloading data from https://storage.googleapis.com/tensorflow/tf-keras-datasets/reuters.npz\n",
      "2113536/2110848 [==============================] - 2s 1us/step\n"
     ]
    }
   ],
   "source": [
    "#1986 News wires (text) categorized by 1 of 46 topics\n",
    "(train_data, train_labels), (test_data, test_labels) = reuters.load_data(num_words=10000) #10,000 most frequently occurring words"
   ]
  },
  {
   "cell_type": "code",
   "execution_count": 6,
   "metadata": {},
   "outputs": [
    {
     "name": "stdout",
     "output_type": "stream",
     "text": [
      "[1, 2, 2, 8, 43, 10, 447, 5, 25, 207, 270, 5, 3095, 111, 16, 369, 186, 90, 67, 7, 89, 5, 19, 102, 6, 19, 124, 15, 90, 67, 84, 22, 482, 26, 7, 48, 4, 49, 8, 864, 39, 209, 154, 6, 151, 6, 83, 11, 15, 22, 155, 11, 15, 7, 48, 9, 4579, 1005, 504, 6, 258, 6, 272, 11, 15, 22, 134, 44, 11, 15, 16, 8, 197, 1245, 90, 67, 52, 29, 209, 30, 32, 132, 6, 109, 15, 17, 12]\n"
     ]
    }
   ],
   "source": [
    "print(train_data[0])"
   ]
  },
  {
   "cell_type": "code",
   "execution_count": 7,
   "metadata": {},
   "outputs": [
    {
     "name": "stdout",
     "output_type": "stream",
     "text": [
      "3\n"
     ]
    }
   ],
   "source": [
    "print(train_labels[0])"
   ]
  },
  {
   "cell_type": "code",
   "execution_count": 25,
   "metadata": {},
   "outputs": [],
   "source": [
    "def vectorize_sequences(sequences, dimension=10000):\n",
    "    results = np.zeros((len(sequences), dimension))\n",
    "    for i, sequence in enumerate(sequences):\n",
    "        results[i, sequence] = 1\n",
    "    return results"
   ]
  },
  {
   "cell_type": "code",
   "execution_count": 26,
   "metadata": {},
   "outputs": [],
   "source": [
    "x_train = vectorize_sequences(train_data)\n",
    "x_test = vectorize_sequences(test_data)"
   ]
  },
  {
   "cell_type": "code",
   "execution_count": 30,
   "metadata": {},
   "outputs": [
    {
     "name": "stdout",
     "output_type": "stream",
     "text": [
      "Original training set shape:  (8982,)\n",
      "Vectorized training set shape:  (8982, 10000)\n"
     ]
    }
   ],
   "source": [
    "print(\"Original training set shape: \", train_data.shape)\n",
    "print(\"Vectorized training set shape: \", x_train.shape)"
   ]
  },
  {
   "cell_type": "code",
   "execution_count": 8,
   "metadata": {},
   "outputs": [],
   "source": [
    "#Function to one hot encode labels:\n",
    "\n",
    "def to_one_hot(labels, dimension=46):\n",
    "    results = np.zeros((len(labels), dimension))\n",
    "    for i, label in enumerate(labels):\n",
    "        results[i, labels] = 1\n",
    "    return results"
   ]
  },
  {
   "cell_type": "code",
   "execution_count": 9,
   "metadata": {},
   "outputs": [],
   "source": [
    "one_hot_train_labels = to_one_hot(train_labels)\n",
    "one_hot_test_labels = to_one_hot(test_labels)"
   ]
  },
  {
   "cell_type": "code",
   "execution_count": 15,
   "metadata": {},
   "outputs": [
    {
     "name": "stdout",
     "output_type": "stream",
     "text": [
      "Shape of original labels array:  (2246,)\n",
      "Shape of one-hot encoded labels array:  (2246, 46)\n"
     ]
    }
   ],
   "source": [
    "print(\"Shape of original labels array: \", test_labels.shape)\n",
    "print(\"Shape of one-hot encoded labels array: \", one_hot_test_labels.shape)"
   ]
  },
  {
   "cell_type": "code",
   "execution_count": 19,
   "metadata": {},
   "outputs": [],
   "source": [
    "#Alternatively one could directly use the following function to one-hot encode:\n",
    "\n",
    "from tensorflow.keras.utils import to_categorical\n",
    "\n",
    "one_hot_train_labels = to_categorical(train_labels)\n",
    "one_hot_test_labels = to_categorical(test_labels)"
   ]
  },
  {
   "cell_type": "code",
   "execution_count": 21,
   "metadata": {},
   "outputs": [
    {
     "name": "stdout",
     "output_type": "stream",
     "text": [
      "Shape of original labels array:  (2246,)\n",
      "Shape of one-hot encoded labels array:  (2246, 46)\n"
     ]
    }
   ],
   "source": [
    "print(\"Shape of original labels array: \", test_labels.shape)\n",
    "print(\"Shape of one-hot encoded labels array: \", one_hot_test_labels.shape)"
   ]
  },
  {
   "cell_type": "markdown",
   "metadata": {},
   "source": [
    "Building Network"
   ]
  },
  {
   "cell_type": "code",
   "execution_count": 22,
   "metadata": {},
   "outputs": [],
   "source": [
    "#Unlike in binary classification, we have 46 possible output classes. \n",
    "#We need wider layers.\n",
    "#Importantly, we need a final output layer with 46 units encoding different output class.\n",
    "\n",
    "from tensorflow.keras import models\n",
    "from tensorflow.keras import layers\n",
    "\n",
    "model = models.Sequential()\n",
    "model.add(layers.Dense(64, activation='relu', input_shape=(10000,)))\n",
    "model.add(layers.Dense(64, activation='relu'))\n",
    "model.add(layers.Dense(46, activation='softmax'))"
   ]
  },
  {
   "cell_type": "code",
   "execution_count": 23,
   "metadata": {},
   "outputs": [],
   "source": [
    "model.compile(optimizer='rmsprop', loss='categorical_crossentropy', metrics=['accuracy'])"
   ]
  },
  {
   "cell_type": "markdown",
   "metadata": {},
   "source": [
    "Model Validation "
   ]
  },
  {
   "cell_type": "code",
   "execution_count": 32,
   "metadata": {},
   "outputs": [],
   "source": [
    "x_val = x_train[:1000]\n",
    "partial_x_train = x_train[1000:]\n",
    "\n",
    "y_val = one_hot_train_labels[:1000]\n",
    "partial_y_train = one_hot_train_labels[1000:]"
   ]
  },
  {
   "cell_type": "code",
   "execution_count": 33,
   "metadata": {},
   "outputs": [
    {
     "name": "stdout",
     "output_type": "stream",
     "text": [
      "Train on 7982 samples, validate on 1000 samples\n",
      "Epoch 1/20\n",
      "7982/7982 [==============================] - 3s 341us/step - loss: 2.6385 - acc: 0.4612 - val_loss: 1.8047 - val_acc: 0.6420\n",
      "Epoch 2/20\n",
      "7982/7982 [==============================] - 1s 186us/step - loss: 1.4839 - acc: 0.6917 - val_loss: 1.3576 - val_acc: 0.6870\n",
      "Epoch 3/20\n",
      "7982/7982 [==============================] - 1s 174us/step - loss: 1.1044 - acc: 0.7577 - val_loss: 1.1758 - val_acc: 0.7460\n",
      "Epoch 4/20\n",
      "7982/7982 [==============================] - 1s 179us/step - loss: 0.8696 - acc: 0.8146 - val_loss: 1.0429 - val_acc: 0.7870\n",
      "Epoch 5/20\n",
      "7982/7982 [==============================] - 1s 171us/step - loss: 0.6941 - acc: 0.8574 - val_loss: 0.9897 - val_acc: 0.7950\n",
      "Epoch 6/20\n",
      "7982/7982 [==============================] - 1s 181us/step - loss: 0.5597 - acc: 0.8824 - val_loss: 0.9418 - val_acc: 0.8080\n",
      "Epoch 7/20\n",
      "7982/7982 [==============================] - 1s 169us/step - loss: 0.4523 - acc: 0.9048 - val_loss: 0.9059 - val_acc: 0.8220\n",
      "Epoch 8/20\n",
      "7982/7982 [==============================] - 1s 175us/step - loss: 0.3685 - acc: 0.9252 - val_loss: 0.8924 - val_acc: 0.8170\n",
      "Epoch 9/20\n",
      "7982/7982 [==============================] - 1s 184us/step - loss: 0.3046 - acc: 0.9356 - val_loss: 0.8737 - val_acc: 0.8180\n",
      "Epoch 10/20\n",
      "7982/7982 [==============================] - 1s 177us/step - loss: 0.2518 - acc: 0.9441 - val_loss: 0.9130 - val_acc: 0.8100\n",
      "Epoch 11/20\n",
      "7982/7982 [==============================] - 1s 184us/step - loss: 0.2185 - acc: 0.9481 - val_loss: 0.9032 - val_acc: 0.8140\n",
      "Epoch 12/20\n",
      "7982/7982 [==============================] - 1s 182us/step - loss: 0.1895 - acc: 0.9505 - val_loss: 0.9389 - val_acc: 0.8120\n",
      "Epoch 13/20\n",
      "7982/7982 [==============================] - 1s 178us/step - loss: 0.1720 - acc: 0.9525 - val_loss: 0.9311 - val_acc: 0.8170\n",
      "Epoch 14/20\n",
      "7982/7982 [==============================] - 1s 179us/step - loss: 0.1541 - acc: 0.9546 - val_loss: 0.9676 - val_acc: 0.8090\n",
      "Epoch 15/20\n",
      "7982/7982 [==============================] - 1s 174us/step - loss: 0.1438 - acc: 0.9565 - val_loss: 0.9689 - val_acc: 0.8160\n",
      "Epoch 16/20\n",
      "7982/7982 [==============================] - 1s 186us/step - loss: 0.1328 - acc: 0.9565 - val_loss: 0.9931 - val_acc: 0.8140\n",
      "Epoch 17/20\n",
      "7982/7982 [==============================] - 1s 175us/step - loss: 0.1285 - acc: 0.9569 - val_loss: 1.0280 - val_acc: 0.8040\n",
      "Epoch 18/20\n",
      "7982/7982 [==============================] - 1s 177us/step - loss: 0.1227 - acc: 0.9553 - val_loss: 1.0330 - val_acc: 0.8080\n",
      "Epoch 19/20\n",
      "7982/7982 [==============================] - 1s 181us/step - loss: 0.1203 - acc: 0.9573 - val_loss: 1.0645 - val_acc: 0.8070\n",
      "Epoch 20/20\n",
      "7982/7982 [==============================] - 1s 181us/step - loss: 0.1120 - acc: 0.9587 - val_loss: 1.0384 - val_acc: 0.8000\n"
     ]
    }
   ],
   "source": [
    "history = model.fit(partial_x_train, partial_y_train, epochs=20, batch_size=512, validation_data=(x_val, y_val))"
   ]
  },
  {
   "cell_type": "code",
   "execution_count": 34,
   "metadata": {},
   "outputs": [],
   "source": [
    "import matplotlib.pyplot as plt"
   ]
  },
  {
   "cell_type": "code",
   "execution_count": 36,
   "metadata": {},
   "outputs": [
    {
     "data": {
      "text/plain": [
       "dict_keys(['val_loss', 'val_acc', 'loss', 'acc'])"
      ]
     },
     "execution_count": 36,
     "metadata": {},
     "output_type": "execute_result"
    }
   ],
   "source": [
    "history.history.keys()"
   ]
  },
  {
   "cell_type": "code",
   "execution_count": 37,
   "metadata": {},
   "outputs": [],
   "source": [
    "loss = history.history['loss']\n",
    "val_loss = history.history['val_loss']\n",
    "\n",
    "acc = history.history['acc']\n",
    "val_acc = history.history['val_acc']"
   ]
  },
  {
   "cell_type": "code",
   "execution_count": 38,
   "metadata": {},
   "outputs": [],
   "source": [
    "epochs = range(1, len(loss) +1)"
   ]
  },
  {
   "cell_type": "code",
   "execution_count": 40,
   "metadata": {},
   "outputs": [
    {
     "data": {
      "image/png": "[encoded data removed]",
      "text/plain": [
       "<Figure size 432x288 with 1 Axes>"
      ]
     },
     "metadata": {
      "needs_background": "light"
     },
     "output_type": "display_data"
    }
   ],
   "source": [
    "plt.plot(epochs, loss, 'bo', label='Training Loss')\n",
    "plt.plot(epochs, val_loss, 'b', label='Validation Loss')\n",
    "plt.title('Training and Validation Loss')\n",
    "plt.xlabel('Epoch')\n",
    "plt.ylabel('Loss')\n",
    "plt.legend()\n",
    "plt.show()"
   ]
  },
  {
   "cell_type": "code",
   "execution_count": 41,
   "metadata": {},
   "outputs": [
    {
     "data": {
      "image/png": "[encoded data removed]",
      "text/plain": [
       "<Figure size 432x288 with 1 Axes>"
      ]
     },
     "metadata": {
      "needs_background": "light"
     },
     "output_type": "display_data"
    }
   ],
   "source": [
    "plt.plot(epochs, acc, 'bo', label='Training Accuracy')\n",
    "plt.plot(epochs, val_acc, 'b', label='Validation Accuracy')\n",
    "plt.title('Training and Validation Accuracy')\n",
    "plt.xlabel('Epoch')\n",
    "plt.ylabel('Accuracy')\n",
    "plt.legend()\n",
    "plt.show()"
   ]
  },
  {
   "cell_type": "code",
   "execution_count": 42,
   "metadata": {},
   "outputs": [
    {
     "name": "stdout",
     "output_type": "stream",
     "text": [
      "2246/2246 [==============================] - 0s 160us/step\n"
     ]
    }
   ],
   "source": [
    "results = model.evaluate(x_test, one_hot_test_labels)"
   ]
  },
  {
   "cell_type": "code",
   "execution_count": 44,
   "metadata": {},
   "outputs": [
    {
     "name": "stdout",
     "output_type": "stream",
     "text": [
      "Test Set Loss:  1.1791877353817675\n",
      "Test Set Accuracy:  0.7862867320210193\n"
     ]
    }
   ],
   "source": [
    "print(\"Test Set Loss: \", results[0])\n",
    "print(\"Test Set Accuracy: \", results[1])"
   ]
  },
  {
   "cell_type": "markdown",
   "metadata": {},
   "source": [
    "Generating Predictions on New Data"
   ]
  },
  {
   "cell_type": "code",
   "execution_count": 45,
   "metadata": {},
   "outputs": [],
   "source": [
    "predictions = model.predict(x_test)"
   ]
  },
  {
   "cell_type": "code",
   "execution_count": 47,
   "metadata": {},
   "outputs": [
    {
     "data": {
      "text/plain": [
       "array([[1.6951240e-07, 4.3864475e-07, 1.0839186e-09, ..., 1.2349032e-08,\n",
       "        3.5098188e-10, 1.7455031e-08],\n",
       "       [5.4272622e-02, 1.8304393e-02, 5.7595188e-04, ..., 9.3275014e-07,\n",
       "        1.0615635e-05, 4.2297092e-06],\n",
       "       [7.1638219e-02, 5.7178545e-01, 7.1587536e-04, ..., 7.4912317e-04,\n",
       "        3.1641362e-06, 3.6131245e-05],\n",
       "       ...,\n",
       "       [1.6878641e-06, 7.6173646e-06, 4.7885931e-07, ..., 9.8647820e-07,\n",
       "        2.1753496e-07, 4.2331467e-07],\n",
       "       [3.5867400e-02, 1.4788027e-01, 3.6527615e-03, ..., 1.1880328e-03,\n",
       "        5.1829190e-04, 1.0508893e-03],\n",
       "       [2.9052058e-04, 8.6353487e-01, 4.0654861e-03, ..., 1.7404764e-04,\n",
       "        1.4749109e-07, 6.1496692e-08]], dtype=float32)"
      ]
     },
     "execution_count": 47,
     "metadata": {},
     "output_type": "execute_result"
    }
   ],
   "source": [
    "#Each entry in the predictions matrix is a 46 by 1 vector giving softmax proba of each class\n",
    "predictions"
   ]
  },
  {
   "cell_type": "code",
   "execution_count": 50,
   "metadata": {},
   "outputs": [
    {
     "name": "stdout",
     "output_type": "stream",
     "text": [
      "Prediction for the first instance in the test set:  3\n"
     ]
    }
   ],
   "source": [
    "print(\"Prediction for the first instance in the test set: \", np.argmax(predictions[0]))"
   ]
  },
  {
   "cell_type": "markdown",
   "metadata": {},
   "source": [
    "Using Sparse Categorical Crossentropy Loss to Avoid One Hot Encoding"
   ]
  },
  {
   "cell_type": "code",
   "execution_count": 51,
   "metadata": {},
   "outputs": [],
   "source": [
    "#Rather than one-hot encoding the target vector, we can simply use the sparse categorical cross entropy\n",
    "#It will take care of one-hot encoding itself so we can pass an integer target vector\n",
    "\n",
    "y_train = np.array(train_labels)\n",
    "y_test = np.array(test_labels)"
   ]
  },
  {
   "cell_type": "code",
   "execution_count": 52,
   "metadata": {},
   "outputs": [],
   "source": [
    "model.compile(optimizer='rmsprop', loss='sparse_categorical_crossentropy', metrics=['accuracy'])"
   ]
  },
  {
   "cell_type": "code",
   "execution_count": 53,
   "metadata": {},
   "outputs": [],
   "source": [
    "y_val = y_train[:1000]\n",
    "partial_y_train = y_train[1000:]"
   ]
  },
  {
   "cell_type": "code",
   "execution_count": 62,
   "metadata": {},
   "outputs": [
    {
     "name": "stdout",
     "output_type": "stream",
     "text": [
      "Train on 7982 samples, validate on 1000 samples\n",
      "Epoch 1/9\n",
      "7982/7982 [==============================] - 1s 171us/step - loss: 0.0747 - acc: 0.9598 - val_loss: 1.4153 - val_acc: 0.7840\n",
      "Epoch 2/9\n",
      "7982/7982 [==============================] - 1s 178us/step - loss: 0.0765 - acc: 0.9582 - val_loss: 1.4836 - val_acc: 0.7780\n",
      "Epoch 3/9\n",
      "7982/7982 [==============================] - 2s 197us/step - loss: 0.0743 - acc: 0.9608 - val_loss: 1.4233 - val_acc: 0.7790\n",
      "Epoch 4/9\n",
      "7982/7982 [==============================] - 2s 203us/step - loss: 0.0763 - acc: 0.9578 - val_loss: 1.4549 - val_acc: 0.7870\n",
      "Epoch 5/9\n",
      "7982/7982 [==============================] - 1s 176us/step - loss: 0.0732 - acc: 0.9592 - val_loss: 1.4940 - val_acc: 0.7670\n",
      "Epoch 6/9\n",
      "7982/7982 [==============================] - 1s 173us/step - loss: 0.0721 - acc: 0.9595 - val_loss: 1.4092 - val_acc: 0.7940\n",
      "Epoch 7/9\n",
      "7982/7982 [==============================] - 1s 175us/step - loss: 0.0751 - acc: 0.9580 - val_loss: 1.4783 - val_acc: 0.7730\n",
      "Epoch 8/9\n",
      "7982/7982 [==============================] - 1s 165us/step - loss: 0.0743 - acc: 0.9578 - val_loss: 1.4603 - val_acc: 0.7700\n",
      "Epoch 9/9\n",
      "7982/7982 [==============================] - 1s 178us/step - loss: 0.0728 - acc: 0.9595 - val_loss: 1.4593 - val_acc: 0.7750\n"
     ]
    }
   ],
   "source": [
    "history = model.fit(partial_x_train, partial_y_train, epochs=9, batch_size=512, validation_data=(x_val, y_val))"
   ]
  },
  {
   "cell_type": "code",
   "execution_count": 63,
   "metadata": {},
   "outputs": [],
   "source": [
    "loss = history.history['loss']\n",
    "val_loss = history.history['val_loss']\n",
    "\n",
    "acc = history.history['acc']\n",
    "val_acc = history.history['val_acc']\n",
    "\n",
    "epochs = range(1, len(loss) +1)"
   ]
  },
  {
   "cell_type": "code",
   "execution_count": 64,
   "metadata": {},
   "outputs": [
    {
     "data": {
      "image/png": "[encoded data removed]",
      "text/plain": [
       "<Figure size 432x288 with 1 Axes>"
      ]
     },
     "metadata": {
      "needs_background": "light"
     },
     "output_type": "display_data"
    }
   ],
   "source": [
    "plt.plot(epochs, loss, 'bo', label='Training Loss')\n",
    "plt.plot(epochs, val_loss, 'b', label='Validation Loss')\n",
    "plt.title('Training and Validation Loss')\n",
    "plt.xlabel('Epoch')\n",
    "plt.ylabel('Loss')\n",
    "plt.legend()\n",
    "plt.show()"
   ]
  },
  {
   "cell_type": "code",
   "execution_count": 65,
   "metadata": {},
   "outputs": [
    {
     "data": {
      "image/png": "[encoded data removed]",
      "text/plain": [
       "<Figure size 432x288 with 1 Axes>"
      ]
     },
     "metadata": {
      "needs_background": "light"
     },
     "output_type": "display_data"
    }
   ],
   "source": [
    "plt.plot(epochs, acc, 'bo', label='Training Accuracy')\n",
    "plt.plot(epochs, val_acc, 'b', label='Validation Accuracy')\n",
    "plt.title('Training and Validation Accuracy')\n",
    "plt.xlabel('Epoch')\n",
    "plt.ylabel('Accuracy')\n",
    "plt.legend()\n",
    "plt.show()"
   ]
  },
  {
   "cell_type": "code",
   "execution_count": null,
   "metadata": {},
   "outputs": [],
   "source": []
  }
 ],
 "metadata": {
  "kernelspec": {
   "display_name": "py36",
   "language": "python",
   "name": "py36"
  },
  "language_info": {
   "codemirror_mode": {
    "name": "ipython",
    "version": 3
   },
   "file_extension": ".py",
   "mimetype": "text/x-python",
   "name": "python",
   "nbconvert_exporter": "python",
   "pygments_lexer": "ipython3",
   "version": "3.6.7"
  }
 },
 "nbformat": 4,
 "nbformat_minor": 2
}
