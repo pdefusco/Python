{
 "cells": [
  {
   "cell_type": "markdown",
   "metadata": {},
   "source": [
    "### Image Classification Example"
   ]
  },
  {
   "cell_type": "code",
   "execution_count": 2,
   "metadata": {},
   "outputs": [],
   "source": [
    "import pandas as pd\n",
    "import numpy as np\n",
    "import os, shutil"
   ]
  },
  {
   "cell_type": "markdown",
   "metadata": {},
   "source": [
    "ETL - Loading partial dataset into directory"
   ]
  },
  {
   "cell_type": "code",
   "execution_count": 14,
   "metadata": {},
   "outputs": [],
   "source": [
    "original_dir = '/Users/pauldefusco/Downloads/dogs-vs-cats'"
   ]
  },
  {
   "cell_type": "code",
   "execution_count": 4,
   "metadata": {},
   "outputs": [],
   "source": [
    "base_dir = '/Users/pauldefusco/Documents/PythonWork/machine_learning_library/neural_networks/image_datasets/dogs-vs-cats-subset'"
   ]
  },
  {
   "cell_type": "code",
   "execution_count": 5,
   "metadata": {},
   "outputs": [],
   "source": [
    "os.mkdir(base_dir)"
   ]
  },
  {
   "cell_type": "code",
   "execution_count": 6,
   "metadata": {},
   "outputs": [],
   "source": [
    "train_dir = os.path.join(base_dir, 'train')"
   ]
  },
  {
   "cell_type": "code",
   "execution_count": 7,
   "metadata": {},
   "outputs": [],
   "source": [
    "os.mkdir(train_dir)"
   ]
  },
  {
   "cell_type": "code",
   "execution_count": 8,
   "metadata": {},
   "outputs": [],
   "source": [
    "val_dir = os.path.join(base_dir, 'val')"
   ]
  },
  {
   "cell_type": "code",
   "execution_count": 9,
   "metadata": {},
   "outputs": [],
   "source": [
    "os.mkdir(val_dir)"
   ]
  },
  {
   "cell_type": "code",
   "execution_count": 10,
   "metadata": {},
   "outputs": [],
   "source": [
    "test_dir = os.path.join(base_dir, 'test')"
   ]
  },
  {
   "cell_type": "code",
   "execution_count": 11,
   "metadata": {},
   "outputs": [],
   "source": [
    "os.mkdir(test_dir)"
   ]
  },
  {
   "cell_type": "code",
   "execution_count": 12,
   "metadata": {},
   "outputs": [],
   "source": [
    "train_cats_dir = os.path.join(train_dir, 'cats')\n",
    "os.mkdir(train_cats_dir)\n",
    "\n",
    "train_dogs_dir = os.path.join(train_dir, 'dogs')\n",
    "os.mkdir(train_dogs_dir)\n",
    "\n",
    "val_cats_dir = os.path.join(val_dir, 'cats')\n",
    "os.mkdir(val_cats_dir)\n",
    "\n",
    "val_dogs_dir = os.path.join(val_dir, 'dogs')\n",
    "os.mkdir(val_dogs_dir)\n",
    "\n",
    "test_cats_dir = os.path.join(test_dir, 'cats')\n",
    "os.mkdir(test_cats_dir)\n",
    "\n",
    "test_dogs_dir = os.path.join(test_dir, 'dogs')\n",
    "os.mkdir(test_dogs_dir)"
   ]
  },
  {
   "cell_type": "code",
   "execution_count": 16,
   "metadata": {},
   "outputs": [],
   "source": [
    "fnames = ['cat.{}.jpg'.format(i) for i in range(1000)]                     \n",
    "for fname in fnames:                                                       \n",
    "    src = os.path.join(original_dir+'/train', fname)                        \n",
    "    dst = os.path.join(train_cats_dir, fname)                              \n",
    "    shutil.copyfile(src, dst)                                              \n",
    "\n",
    "fnames = ['cat.{}.jpg'.format(i) for i in range(1000, 1500)]               \n",
    "for fname in fnames:                                                       \n",
    "    src = os.path.join(original_dir+'/train', fname)                        \n",
    "    dst = os.path.join(val_cats_dir, fname)                      \n",
    "    shutil.copyfile(src, dst)                                              \n",
    "\n",
    "fnames = ['cat.{}.jpg'.format(i) for i in range(1500, 2000)]               \n",
    "for fname in fnames:                                                       \n",
    "    src = os.path.join(original_dir+'/train', fname)                        \n",
    "    dst = os.path.join(test_cats_dir, fname)                               \n",
    "    shutil.copyfile(src, dst)                                              \n",
    "\n",
    "fnames = ['dog.{}.jpg'.format(i) for i in range(1000)]                     \n",
    "for fname in fnames:                                                       \n",
    "    src = os.path.join(original_dir+'/train', fname)                        \n",
    "    dst = os.path.join(train_dogs_dir, fname)                              \n",
    "    shutil.copyfile(src, dst)                                              \n",
    "fnames = ['dog.{}.jpg'.format(i) for i in range(1000, 1500)]               \n",
    "for fname in fnames:                                                    \n",
    "    src = os.path.join(original_dir+'/train', fname)                        \n",
    "    dst = os.path.join(val_dogs_dir, fname)                         \n",
    "    shutil.copyfile(src, dst)                                              \n",
    "\n",
    "fnames = ['dog.{}.jpg'.format(i) for i in range(1500, 2000)]            \n",
    "for fname in fnames:                                                       \n",
    "    src = os.path.join(original_dir+'/train', fname)                        \n",
    "    dst = os.path.join(test_dogs_dir, fname)                               \n",
    "    shutil.copyfile(src, dst) "
   ]
  },
  {
   "cell_type": "markdown",
   "metadata": {},
   "source": [
    "Modeling Creation"
   ]
  },
  {
   "cell_type": "code",
   "execution_count": 19,
   "metadata": {},
   "outputs": [],
   "source": [
    "from tensorflow.keras import layers, models\n",
    "from tensorflow.keras.utils import to_categorical\n",
    "from tensorflow.keras import optimizers"
   ]
  },
  {
   "cell_type": "code",
   "execution_count": 18,
   "metadata": {},
   "outputs": [],
   "source": [
    "model = models.Sequential()\n",
    "model.add(layers.Conv2D(32, (3,3), activation='relu', input_shape=(150, 150, 3)))\n",
    "model.add(layers.MaxPooling2D((2,2)))\n",
    "model.add(layers.Conv2D(64, (3,3), activation='relu'))\n",
    "model.add(layers.MaxPooling2D((2,2)))\n",
    "model.add(layers.Conv2D(64, (3,3), activation='relu'))\n",
    "model.add(layers.MaxPooling2D((2,2)))\n",
    "model.add(layers.Conv2D(64, (3,3), activation='relu'))\n",
    "model.add(layers.MaxPooling2D((2,2)))\n",
    "model.add(layers.Flatten())\n",
    "model.add(layers.Dense(512, activation='relu'))\n",
    "model.add(layers.Dense(1, activation='sigmoid'))"
   ]
  },
  {
   "cell_type": "code",
   "execution_count": 22,
   "metadata": {},
   "outputs": [],
   "source": [
    "model.compile(loss='binary_crossentropy', optimizer=optimizers.RMSprop(lr=1e-4), metrics=['acc'])"
   ]
  },
  {
   "cell_type": "markdown",
   "metadata": {},
   "source": [
    "###### Data Preparation\n",
    "\n",
    "- Read picture files\n",
    "- Decode JPEG content into RGB grids of pixels\n",
    "- Convert RGB grids of pixels into floating-point tensors\n",
    "- Rescale the pixel values to the [0,1] interval"
   ]
  },
  {
   "cell_type": "code",
   "execution_count": 23,
   "metadata": {},
   "outputs": [],
   "source": [
    "from tensorflow.keras.preprocessing.image import ImageDataGenerator"
   ]
  },
  {
   "cell_type": "code",
   "execution_count": 24,
   "metadata": {},
   "outputs": [],
   "source": [
    "train_datagen = ImageDataGenerator(rescale=1./255)\n",
    "test_datagen = ImageDataGenerator(rescale=1./255)"
   ]
  },
  {
   "cell_type": "code",
   "execution_count": 25,
   "metadata": {},
   "outputs": [
    {
     "name": "stdout",
     "output_type": "stream",
     "text": [
      "Found 2000 images belonging to 2 classes.\n"
     ]
    }
   ],
   "source": [
    "train_generator = train_datagen.flow_from_directory(train_dir, \n",
    "                                                    target_size=(150, 150), \n",
    "                                                    batch_size=20,\n",
    "                                                    class_mode='binary')"
   ]
  },
  {
   "cell_type": "code",
   "execution_count": 26,
   "metadata": {},
   "outputs": [
    {
     "name": "stdout",
     "output_type": "stream",
     "text": [
      "Found 1000 images belonging to 2 classes.\n"
     ]
    }
   ],
   "source": [
    "val_generator = test_datagen.flow_from_directory(val_dir, \n",
    "                                                 target_size=(150, 150), \n",
    "                                                 batch_size=20, \n",
    "                                                 class_mode='binary')"
   ]
  },
  {
   "cell_type": "code",
   "execution_count": 27,
   "metadata": {},
   "outputs": [
    {
     "name": "stdout",
     "output_type": "stream",
     "text": [
      "1\n",
      "2\n",
      "3\n",
      "4\n",
      "5\n"
     ]
    }
   ],
   "source": [
    "def generator():\n",
    "    i = 0\n",
    "    while True:\n",
    "        i+=1\n",
    "        yield i\n",
    "\n",
    "for item in generator():\n",
    "    print(item)\n",
    "    if item > 4:\n",
    "        break"
   ]
  },
  {
   "cell_type": "code",
   "execution_count": 28,
   "metadata": {},
   "outputs": [
    {
     "name": "stdout",
     "output_type": "stream",
     "text": [
      "data batch shape: (20, 150, 150, 3)\n",
      "labels batch shape: (20,)\n"
     ]
    }
   ],
   "source": [
    "for data_batch, labels_batch in train_generator:\n",
    "    print('data batch shape:', data_batch.shape)\n",
    "    print('labels batch shape:', labels_batch.shape)\n",
    "    break"
   ]
  },
  {
   "cell_type": "code",
   "execution_count": 30,
   "metadata": {},
   "outputs": [
    {
     "name": "stdout",
     "output_type": "stream",
     "text": [
      "Epoch 1/30\n",
      "100/100 [==============================] - 117s 1s/step - loss: 0.6877 - acc: 0.5425 - val_loss: 0.6773 - val_acc: 0.5800\n",
      "Epoch 2/30\n",
      "100/100 [==============================] - 137s 1s/step - loss: 0.6706 - acc: 0.5975 - val_loss: 0.6763 - val_acc: 0.5670\n",
      "Epoch 3/30\n",
      "100/100 [==============================] - 141s 1s/step - loss: 0.6489 - acc: 0.6125 - val_loss: 0.6462 - val_acc: 0.6190\n",
      "Epoch 4/30\n",
      "100/100 [==============================] - 140s 1s/step - loss: 0.6248 - acc: 0.6525 - val_loss: 0.6207 - val_acc: 0.6480\n",
      "Epoch 5/30\n",
      "100/100 [==============================] - 132s 1s/step - loss: 0.5932 - acc: 0.6895 - val_loss: 0.6492 - val_acc: 0.6100\n",
      "Epoch 6/30\n",
      "100/100 [==============================] - 127s 1s/step - loss: 0.5649 - acc: 0.7015 - val_loss: 0.6119 - val_acc: 0.6590\n",
      "Epoch 7/30\n",
      "100/100 [==============================] - 138s 1s/step - loss: 0.5372 - acc: 0.7310 - val_loss: 0.5811 - val_acc: 0.6920\n",
      "Epoch 8/30\n",
      "100/100 [==============================] - 147s 1s/step - loss: 0.5207 - acc: 0.7355 - val_loss: 0.5989 - val_acc: 0.6720\n",
      "Epoch 9/30\n",
      "100/100 [==============================] - 151s 2s/step - loss: 0.4974 - acc: 0.7515 - val_loss: 0.5618 - val_acc: 0.7060\n",
      "Epoch 10/30\n",
      "100/100 [==============================] - 155s 2s/step - loss: 0.4796 - acc: 0.7655 - val_loss: 0.5493 - val_acc: 0.7080\n",
      "Epoch 11/30\n",
      "100/100 [==============================] - 185s 2s/step - loss: 0.4540 - acc: 0.7895 - val_loss: 0.5329 - val_acc: 0.7170\n",
      "Epoch 12/30\n",
      "100/100 [==============================] - 272s 3s/step - loss: 0.4440 - acc: 0.7930 - val_loss: 0.5339 - val_acc: 0.7250\n",
      "Epoch 13/30\n",
      "100/100 [==============================] - 267s 3s/step - loss: 0.4136 - acc: 0.8095 - val_loss: 0.6107 - val_acc: 0.6910\n",
      "Epoch 14/30\n",
      "100/100 [==============================] - 287s 3s/step - loss: 0.4018 - acc: 0.8180 - val_loss: 0.5299 - val_acc: 0.7450\n",
      "Epoch 15/30\n",
      "100/100 [==============================] - 264s 3s/step - loss: 0.3833 - acc: 0.8260 - val_loss: 0.5359 - val_acc: 0.7390\n",
      "Epoch 16/30\n",
      "100/100 [==============================] - 276s 3s/step - loss: 0.3762 - acc: 0.8370 - val_loss: 0.5352 - val_acc: 0.7420\n",
      "Epoch 17/30\n",
      "100/100 [==============================] - 261s 3s/step - loss: 0.3500 - acc: 0.8460 - val_loss: 0.5804 - val_acc: 0.7140\n",
      "Epoch 18/30\n",
      "100/100 [==============================] - 266s 3s/step - loss: 0.3457 - acc: 0.8505 - val_loss: 0.5416 - val_acc: 0.7390\n",
      "Epoch 19/30\n",
      "100/100 [==============================] - 267s 3s/step - loss: 0.3231 - acc: 0.8660 - val_loss: 0.6075 - val_acc: 0.7150\n",
      "Epoch 20/30\n",
      "100/100 [==============================] - 267s 3s/step - loss: 0.3095 - acc: 0.8735 - val_loss: 0.6186 - val_acc: 0.7130\n",
      "Epoch 21/30\n",
      "100/100 [==============================] - 260s 3s/step - loss: 0.2935 - acc: 0.8750 - val_loss: 0.5781 - val_acc: 0.7390\n",
      "Epoch 22/30\n",
      "100/100 [==============================] - 260s 3s/step - loss: 0.2826 - acc: 0.8770 - val_loss: 0.5886 - val_acc: 0.7330\n",
      "Epoch 23/30\n",
      "100/100 [==============================] - 261s 3s/step - loss: 0.2580 - acc: 0.9000 - val_loss: 0.5735 - val_acc: 0.7500\n",
      "Epoch 24/30\n",
      "100/100 [==============================] - 261s 3s/step - loss: 0.2371 - acc: 0.9025 - val_loss: 0.6145 - val_acc: 0.7320\n",
      "Epoch 25/30\n",
      "100/100 [==============================] - 258s 3s/step - loss: 0.2326 - acc: 0.9095 - val_loss: 0.6626 - val_acc: 0.7240\n",
      "Epoch 26/30\n",
      "100/100 [==============================] - 260s 3s/step - loss: 0.2157 - acc: 0.9120 - val_loss: 0.6643 - val_acc: 0.7300\n",
      "Epoch 27/30\n",
      "100/100 [==============================] - 255s 3s/step - loss: 0.2016 - acc: 0.9240 - val_loss: 0.6483 - val_acc: 0.7390\n",
      "Epoch 28/30\n",
      "100/100 [==============================] - 259s 3s/step - loss: 0.1934 - acc: 0.9275 - val_loss: 0.6328 - val_acc: 0.7410\n",
      "Epoch 29/30\n",
      "100/100 [==============================] - 256s 3s/step - loss: 0.1812 - acc: 0.9315 - val_loss: 0.6670 - val_acc: 0.7430\n",
      "Epoch 30/30\n",
      "100/100 [==============================] - 258s 3s/step - loss: 0.1667 - acc: 0.9445 - val_loss: 0.6591 - val_acc: 0.7460\n"
     ]
    }
   ],
   "source": [
    "history = model.fit_generator(train_generator, \n",
    "                              steps_per_epoch=100, \n",
    "                              epochs=30, \n",
    "                              validation_data=val_generator, \n",
    "                              validation_steps=50)"
   ]
  },
  {
   "cell_type": "code",
   "execution_count": 32,
   "metadata": {},
   "outputs": [
    {
     "data": {
      "image/png": "[encoded data removed]",
      "text/plain": [
       "<Figure size 432x288 with 1 Axes>"
      ]
     },
     "metadata": {
      "needs_background": "light"
     },
     "output_type": "display_data"
    },
    {
     "data": {
      "image/png": "[encoded data removed]",
      "text/plain": [
       "<Figure size 432x288 with 1 Axes>"
      ]
     },
     "metadata": {
      "needs_background": "light"
     },
     "output_type": "display_data"
    }
   ],
   "source": [
    "import matplotlib.pyplot as plt\n",
    "\n",
    "acc = history.history['acc']\n",
    "val_acc = history.history['val_acc']\n",
    "loss = history.history['loss']\n",
    "val_loss = history.history['val_loss']\n",
    "\n",
    "epochs = range(1, len(acc) + 1)\n",
    "\n",
    "plt.plot(epochs, acc, 'bo', label='Training acc')\n",
    "plt.plot(epochs, val_acc, 'b', label='Validation acc')\n",
    "plt.title('Training and validation accuracy')\n",
    "plt.legend()\n",
    "\n",
    "plt.figure()\n",
    "\n",
    "plt.plot(epochs, loss, 'bo', label='Training loss')\n",
    "plt.plot(epochs, val_loss, 'b', label='Validation loss')\n",
    "plt.title('Training and validation loss')\n",
    "plt.legend()\n",
    "\n",
    "plt.show()"
   ]
  },
  {
   "cell_type": "code",
   "execution_count": null,
   "metadata": {},
   "outputs": [],
   "source": []
  }
 ],
 "metadata": {
  "kernelspec": {
   "display_name": "py36",
   "language": "python",
   "name": "py36"
  },
  "language_info": {
   "codemirror_mode": {
    "name": "ipython",
    "version": 3
   },
   "file_extension": ".py",
   "mimetype": "text/x-python",
   "name": "python",
   "nbconvert_exporter": "python",
   "pygments_lexer": "ipython3",
   "version": "3.6.7"
  }
 },
 "nbformat": 4,
 "nbformat_minor": 2
}
