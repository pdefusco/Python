{
 "cells": [
  {
   "cell_type": "markdown",
   "metadata": {},
   "source": [
    "# Binary Classification with TensorFlow"
   ]
  },
  {
   "cell_type": "code",
   "execution_count": 15,
   "metadata": {},
   "outputs": [],
   "source": [
    "import numpy as np\n",
    "import random\n",
    "import matplotlib.pyplot as plt\n",
    "import tensorflow as tf\n",
    "%matplotlib inline"
   ]
  },
  {
   "cell_type": "code",
   "execution_count": 16,
   "metadata": {},
   "outputs": [],
   "source": [
    "x1 = np.array([0,1,0,1])\n",
    "x2 = np.array([0,0,1,1])\n",
    "\n",
    "z = np.array([0,0,0,1])"
   ]
  },
  {
   "cell_type": "code",
   "execution_count": 17,
   "metadata": {},
   "outputs": [
    {
     "data": {
      "image/png": "[encoded data removed]",
      "text/plain": [
       "<Figure size 432x288 with 1 Axes>"
      ]
     },
     "metadata": {
      "needs_background": "light"
     },
     "output_type": "display_data"
    }
   ],
   "source": [
    "fig = plt.figure()\n",
    "ax = fig.add_subplot(111)\n",
    "ax.axis([-1,2,-1,2])\n",
    "ax.grid(True, linestyle='-', color='0.75')\n",
    "ax.scatter(x1, x2, s=100, c=z)\n",
    "plt.xlabel('x1')\n",
    "plt.ylabel('x2')\n",
    "fig.canvas.draw()"
   ]
  },
  {
   "cell_type": "code",
   "execution_count": 18,
   "metadata": {},
   "outputs": [],
   "source": [
    "def make_one_hot(data):\n",
    "    classes = sorted(list(set(data)))\n",
    "    num_samples = len(data)\n",
    "    num_classes = len(classes)\n",
    "    one_hot_data = np.zeros([num_samples, num_classes])\n",
    "    for i,d in enumerate(data):\n",
    "        one_hot_data[i, classes.index(d)] = 1\n",
    "    return one_hot_data"
   ]
  },
  {
   "cell_type": "code",
   "execution_count": 19,
   "metadata": {},
   "outputs": [],
   "source": [
    "use_one_hot = True\n",
    "\n",
    "x = np.array(list(zip(x1, x2)))\n",
    "z = make_one_hot(z) if use_one_hot else z.reshape([-1,1])"
   ]
  },
  {
   "cell_type": "code",
   "execution_count": 22,
   "metadata": {},
   "outputs": [
    {
     "name": "stdout",
     "output_type": "stream",
     "text": [
      "[[0 0]\n",
      " [1 0]\n",
      " [0 1]\n",
      " [1 1]]\n",
      "[[1. 0.]\n",
      " [1. 0.]\n",
      " [1. 0.]\n",
      " [0. 1.]]\n"
     ]
    }
   ],
   "source": [
    "print(x)\n",
    "print(z)"
   ]
  },
  {
   "cell_type": "code",
   "execution_count": 23,
   "metadata": {},
   "outputs": [],
   "source": [
    "num_inputs = x.shape[1]\n",
    "num_outputs = z.shape[1]"
   ]
  },
  {
   "cell_type": "code",
   "execution_count": 24,
   "metadata": {},
   "outputs": [],
   "source": [
    "x_input = tf.placeholder(dtype=tf.float32, shape=[None, num_inputs])\n",
    "z_target = tf.placeholder(dtype=tf.float32, shape=[None, num_outputs])"
   ]
  },
  {
   "cell_type": "code",
   "execution_count": 25,
   "metadata": {},
   "outputs": [],
   "source": [
    "W = tf.Variable(0.01*tf.random_normal(shape=[num_inputs, num_outputs], dtype=tf.float32))\n",
    "B = tf.Variable(tf.zeros([num_outputs], dtype=tf.float32))"
   ]
  },
  {
   "cell_type": "code",
   "execution_count": 26,
   "metadata": {},
   "outputs": [],
   "source": [
    "logits = tf.add(tf.matmul(x_input, W), B)"
   ]
  },
  {
   "cell_type": "code",
   "execution_count": 28,
   "metadata": {},
   "outputs": [
    {
     "name": "stdout",
     "output_type": "stream",
     "text": [
      "WARNING:tensorflow:From <ipython-input-28-08c71d8fa251>:2: calling reduce_sum (from tensorflow.python.ops.math_ops) with keep_dims is deprecated and will be removed in a future version.\n",
      "Instructions for updating:\n",
      "keep_dims is deprecated, use keepdims instead\n"
     ]
    }
   ],
   "source": [
    "if use_one_hot:\n",
    "    preds = tf.exp(logits)/tf.reduce_sum(tf.exp(logits), axis=1, keep_dims=True)\n",
    "    # preds = tf.nn.softmax(logits)\n",
    "    error = tf.multiply(-tf.log(tf.maximum(preds,0.001)), z_target)\n",
    "else:\n",
    "    preds = 1/(1 + tf.exp(-logits))\n",
    "    # preds = tf.nn.sigmoid(logits)\n",
    "    error = tf.square(tf.subtract(preds, z_target))"
   ]
  },
  {
   "cell_type": "code",
   "execution_count": 29,
   "metadata": {},
   "outputs": [],
   "source": [
    "loss = tf.reduce_sum(error)"
   ]
  },
  {
   "cell_type": "code",
   "execution_count": 30,
   "metadata": {},
   "outputs": [],
   "source": [
    "train_op = tf.train.GradientDescentOptimizer(learning_rate=0.1).minimize(loss)"
   ]
  },
  {
   "cell_type": "code",
   "execution_count": 36,
   "metadata": {},
   "outputs": [
    {
     "data": {
      "image/png": "[encoded data removed]",
      "text/plain": [
       "<Figure size 432x288 with 1 Axes>"
      ]
     },
     "metadata": {
      "needs_background": "light"
     },
     "output_type": "display_data"
    }
   ],
   "source": [
    "with tf.Session() as sess:\n",
    "    sess.run(tf.global_variables_initializer())\n",
    "    \n",
    "    iterations = 100\n",
    "    for i in range(iterations):\n",
    "        w_out, b_out, _ = sess.run([W, B, train_op], feed_dict={x_input: x.astype(float), z_target: z.astype(float)})\n",
    "        \n",
    "        if use_one_hot:\n",
    "            w1 = w_out[0][1]\n",
    "            w2 = w_out[1][1]\n",
    "            b = b_out[1]\n",
    "        else:\n",
    "            w1 = w_out[0]\n",
    "            w2 = w_out[1]\n",
    "            b = b_out[0]\n",
    "        \n",
    "        x2_next = (w1*x1 + b)/-w2\n",
    "        \n",
    "        line, = plt.plot(x1, x2_next)\n",
    "        fig.canvas.draw()\n",
    "        line.remove()\n",
    "        \n",
    "line, = plt.plot(x1, x2_next)\n",
    "plt.show()\n",
    "#fig.canvas.draw()"
   ]
  },
  {
   "cell_type": "code",
   "execution_count": null,
   "metadata": {},
   "outputs": [],
   "source": []
  }
 ],
 "metadata": {
  "kernelspec": {
   "display_name": "py36",
   "language": "python",
   "name": "py36"
  },
  "language_info": {
   "codemirror_mode": {
    "name": "ipython",
    "version": 3
   },
   "file_extension": ".py",
   "mimetype": "text/x-python",
   "name": "python",
   "nbconvert_exporter": "python",
   "pygments_lexer": "ipython3",
   "version": "3.6.7"
  }
 },
 "nbformat": 4,
 "nbformat_minor": 2
}
