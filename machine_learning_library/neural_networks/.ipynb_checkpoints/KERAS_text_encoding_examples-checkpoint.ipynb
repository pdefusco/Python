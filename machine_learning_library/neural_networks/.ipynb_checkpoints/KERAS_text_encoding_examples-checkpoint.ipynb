{
 "cells": [
  {
   "cell_type": "markdown",
   "metadata": {},
   "source": [
    "### Text Encoding Examples\n",
    "\n",
    "Exploring different ways to encode text for neural networks"
   ]
  },
  {
   "cell_type": "markdown",
   "metadata": {},
   "source": [
    "Example 1: Encoding Words with Numpy Only"
   ]
  },
  {
   "cell_type": "code",
   "execution_count": 3,
   "metadata": {},
   "outputs": [],
   "source": [
    "import numpy as np"
   ]
  },
  {
   "cell_type": "code",
   "execution_count": 8,
   "metadata": {},
   "outputs": [],
   "source": [
    "samples = ['The cat sat on the mat.', 'The dog ate my homework']"
   ]
  },
  {
   "cell_type": "code",
   "execution_count": 9,
   "metadata": {},
   "outputs": [],
   "source": [
    "token_index = {}"
   ]
  },
  {
   "cell_type": "code",
   "execution_count": 12,
   "metadata": {},
   "outputs": [],
   "source": [
    "#Associating an index to each word present in the samples list\n",
    "#Notice this is case sensitive - word \"the\" will appear twice\n",
    "\n",
    "for sample in samples:\n",
    "    for word in sample.split():\n",
    "        if word not in token_index:\n",
    "            token_index[word] = len(token_index)+1"
   ]
  },
  {
   "cell_type": "code",
   "execution_count": 13,
   "metadata": {},
   "outputs": [
    {
     "data": {
      "text/plain": [
       "{'The': 1,\n",
       " 'cat': 2,\n",
       " 'sat': 3,\n",
       " 'on': 4,\n",
       " 'the': 5,\n",
       " 'mat.': 6,\n",
       " 'dog': 7,\n",
       " 'ate': 8,\n",
       " 'my': 9,\n",
       " 'homework': 10}"
      ]
     },
     "execution_count": 13,
     "metadata": {},
     "output_type": "execute_result"
    }
   ],
   "source": [
    "token_index"
   ]
  },
  {
   "cell_type": "code",
   "execution_count": 14,
   "metadata": {},
   "outputs": [],
   "source": [
    "max_length = 10"
   ]
  },
  {
   "cell_type": "code",
   "execution_count": 15,
   "metadata": {},
   "outputs": [],
   "source": [
    "#Creating the numpy tensor with all zeroes\n",
    "#Notice the first tensor dimension reflects the number of samples in the list i.e. number of sentences\n",
    "#The second tensor dimension reflects the max number of words we want to include in the tensor. This is arbitrary.\n",
    "#The third tensor dimension reflects the highest tolen index plus one\n",
    "\n",
    "results = np.zeros(shape=(len(samples), max_length, max(token_index.values()) + 1))"
   ]
  },
  {
   "cell_type": "code",
   "execution_count": 16,
   "metadata": {},
   "outputs": [
    {
     "data": {
      "text/plain": [
       "array([[[0., 0., 0., 0., 0., 0., 0., 0., 0., 0., 0.],\n",
       "        [0., 0., 0., 0., 0., 0., 0., 0., 0., 0., 0.],\n",
       "        [0., 0., 0., 0., 0., 0., 0., 0., 0., 0., 0.],\n",
       "        [0., 0., 0., 0., 0., 0., 0., 0., 0., 0., 0.],\n",
       "        [0., 0., 0., 0., 0., 0., 0., 0., 0., 0., 0.],\n",
       "        [0., 0., 0., 0., 0., 0., 0., 0., 0., 0., 0.],\n",
       "        [0., 0., 0., 0., 0., 0., 0., 0., 0., 0., 0.],\n",
       "        [0., 0., 0., 0., 0., 0., 0., 0., 0., 0., 0.],\n",
       "        [0., 0., 0., 0., 0., 0., 0., 0., 0., 0., 0.],\n",
       "        [0., 0., 0., 0., 0., 0., 0., 0., 0., 0., 0.]],\n",
       "\n",
       "       [[0., 0., 0., 0., 0., 0., 0., 0., 0., 0., 0.],\n",
       "        [0., 0., 0., 0., 0., 0., 0., 0., 0., 0., 0.],\n",
       "        [0., 0., 0., 0., 0., 0., 0., 0., 0., 0., 0.],\n",
       "        [0., 0., 0., 0., 0., 0., 0., 0., 0., 0., 0.],\n",
       "        [0., 0., 0., 0., 0., 0., 0., 0., 0., 0., 0.],\n",
       "        [0., 0., 0., 0., 0., 0., 0., 0., 0., 0., 0.],\n",
       "        [0., 0., 0., 0., 0., 0., 0., 0., 0., 0., 0.],\n",
       "        [0., 0., 0., 0., 0., 0., 0., 0., 0., 0., 0.],\n",
       "        [0., 0., 0., 0., 0., 0., 0., 0., 0., 0., 0.],\n",
       "        [0., 0., 0., 0., 0., 0., 0., 0., 0., 0., 0.]]])"
      ]
     },
     "execution_count": 16,
     "metadata": {},
     "output_type": "execute_result"
    }
   ],
   "source": [
    "results"
   ]
  },
  {
   "cell_type": "code",
   "execution_count": 17,
   "metadata": {},
   "outputs": [
    {
     "data": {
      "text/plain": [
       "(2, 10, 11)"
      ]
     },
     "execution_count": 17,
     "metadata": {},
     "output_type": "execute_result"
    }
   ],
   "source": [
    "results.shape"
   ]
  },
  {
   "cell_type": "code",
   "execution_count": 18,
   "metadata": {},
   "outputs": [],
   "source": [
    "for i, sample in enumerate(samples):\n",
    "    for j, word in list(enumerate(sample.split()))[:max_length]:\n",
    "        index = token_index.get(word)\n",
    "        results[i, j, index]= 1"
   ]
  },
  {
   "cell_type": "code",
   "execution_count": 19,
   "metadata": {},
   "outputs": [
    {
     "data": {
      "text/plain": [
       "array([[[0., 1., 0., 0., 0., 0., 0., 0., 0., 0., 0.],\n",
       "        [0., 0., 1., 0., 0., 0., 0., 0., 0., 0., 0.],\n",
       "        [0., 0., 0., 1., 0., 0., 0., 0., 0., 0., 0.],\n",
       "        [0., 0., 0., 0., 1., 0., 0., 0., 0., 0., 0.],\n",
       "        [0., 0., 0., 0., 0., 1., 0., 0., 0., 0., 0.],\n",
       "        [0., 0., 0., 0., 0., 0., 1., 0., 0., 0., 0.],\n",
       "        [0., 0., 0., 0., 0., 0., 0., 0., 0., 0., 0.],\n",
       "        [0., 0., 0., 0., 0., 0., 0., 0., 0., 0., 0.],\n",
       "        [0., 0., 0., 0., 0., 0., 0., 0., 0., 0., 0.],\n",
       "        [0., 0., 0., 0., 0., 0., 0., 0., 0., 0., 0.]],\n",
       "\n",
       "       [[0., 1., 0., 0., 0., 0., 0., 0., 0., 0., 0.],\n",
       "        [0., 0., 0., 0., 0., 0., 0., 1., 0., 0., 0.],\n",
       "        [0., 0., 0., 0., 0., 0., 0., 0., 1., 0., 0.],\n",
       "        [0., 0., 0., 0., 0., 0., 0., 0., 0., 1., 0.],\n",
       "        [0., 0., 0., 0., 0., 0., 0., 0., 0., 0., 1.],\n",
       "        [0., 0., 0., 0., 0., 0., 0., 0., 0., 0., 0.],\n",
       "        [0., 0., 0., 0., 0., 0., 0., 0., 0., 0., 0.],\n",
       "        [0., 0., 0., 0., 0., 0., 0., 0., 0., 0., 0.],\n",
       "        [0., 0., 0., 0., 0., 0., 0., 0., 0., 0., 0.],\n",
       "        [0., 0., 0., 0., 0., 0., 0., 0., 0., 0., 0.]]])"
      ]
     },
     "execution_count": 19,
     "metadata": {},
     "output_type": "execute_result"
    }
   ],
   "source": [
    "results"
   ]
  },
  {
   "cell_type": "markdown",
   "metadata": {},
   "source": [
    "Example 2: Encoding Characters with Numpy Only"
   ]
  },
  {
   "cell_type": "code",
   "execution_count": 21,
   "metadata": {},
   "outputs": [],
   "source": [
    "import string"
   ]
  },
  {
   "cell_type": "code",
   "execution_count": 22,
   "metadata": {},
   "outputs": [],
   "source": [
    "samples = ['The cat sat on the mat.', 'The dog ate my homework']"
   ]
  },
  {
   "cell_type": "code",
   "execution_count": 23,
   "metadata": {},
   "outputs": [],
   "source": [
    "characters = string.printable"
   ]
  },
  {
   "cell_type": "code",
   "execution_count": 24,
   "metadata": {},
   "outputs": [
    {
     "data": {
      "text/plain": [
       "'0123456789abcdefghijklmnopqrstuvwxyzABCDEFGHIJKLMNOPQRSTUVWXYZ!\"#$%&\\'()*+,-./:;<=>?@[\\\\]^_`{|}~ \\t\\n\\r\\x0b\\x0c'"
      ]
     },
     "execution_count": 24,
     "metadata": {},
     "output_type": "execute_result"
    }
   ],
   "source": [
    "characters"
   ]
  },
  {
   "cell_type": "code",
   "execution_count": 25,
   "metadata": {},
   "outputs": [],
   "source": [
    "token_index = dict(zip(range(1, len(characters) + 1), characters))"
   ]
  },
  {
   "cell_type": "code",
   "execution_count": 26,
   "metadata": {},
   "outputs": [
    {
     "data": {
      "text/plain": [
       "{1: '0',\n",
       " 2: '1',\n",
       " 3: '2',\n",
       " 4: '3',\n",
       " 5: '4',\n",
       " 6: '5',\n",
       " 7: '6',\n",
       " 8: '7',\n",
       " 9: '8',\n",
       " 10: '9',\n",
       " 11: 'a',\n",
       " 12: 'b',\n",
       " 13: 'c',\n",
       " 14: 'd',\n",
       " 15: 'e',\n",
       " 16: 'f',\n",
       " 17: 'g',\n",
       " 18: 'h',\n",
       " 19: 'i',\n",
       " 20: 'j',\n",
       " 21: 'k',\n",
       " 22: 'l',\n",
       " 23: 'm',\n",
       " 24: 'n',\n",
       " 25: 'o',\n",
       " 26: 'p',\n",
       " 27: 'q',\n",
       " 28: 'r',\n",
       " 29: 's',\n",
       " 30: 't',\n",
       " 31: 'u',\n",
       " 32: 'v',\n",
       " 33: 'w',\n",
       " 34: 'x',\n",
       " 35: 'y',\n",
       " 36: 'z',\n",
       " 37: 'A',\n",
       " 38: 'B',\n",
       " 39: 'C',\n",
       " 40: 'D',\n",
       " 41: 'E',\n",
       " 42: 'F',\n",
       " 43: 'G',\n",
       " 44: 'H',\n",
       " 45: 'I',\n",
       " 46: 'J',\n",
       " 47: 'K',\n",
       " 48: 'L',\n",
       " 49: 'M',\n",
       " 50: 'N',\n",
       " 51: 'O',\n",
       " 52: 'P',\n",
       " 53: 'Q',\n",
       " 54: 'R',\n",
       " 55: 'S',\n",
       " 56: 'T',\n",
       " 57: 'U',\n",
       " 58: 'V',\n",
       " 59: 'W',\n",
       " 60: 'X',\n",
       " 61: 'Y',\n",
       " 62: 'Z',\n",
       " 63: '!',\n",
       " 64: '\"',\n",
       " 65: '#',\n",
       " 66: '$',\n",
       " 67: '%',\n",
       " 68: '&',\n",
       " 69: \"'\",\n",
       " 70: '(',\n",
       " 71: ')',\n",
       " 72: '*',\n",
       " 73: '+',\n",
       " 74: ',',\n",
       " 75: '-',\n",
       " 76: '.',\n",
       " 77: '/',\n",
       " 78: ':',\n",
       " 79: ';',\n",
       " 80: '<',\n",
       " 81: '=',\n",
       " 82: '>',\n",
       " 83: '?',\n",
       " 84: '@',\n",
       " 85: '[',\n",
       " 86: '\\\\',\n",
       " 87: ']',\n",
       " 88: '^',\n",
       " 89: '_',\n",
       " 90: '`',\n",
       " 91: '{',\n",
       " 92: '|',\n",
       " 93: '}',\n",
       " 94: '~',\n",
       " 95: ' ',\n",
       " 96: '\\t',\n",
       " 97: '\\n',\n",
       " 98: '\\r',\n",
       " 99: '\\x0b',\n",
       " 100: '\\x0c'}"
      ]
     },
     "execution_count": 26,
     "metadata": {},
     "output_type": "execute_result"
    }
   ],
   "source": [
    "token_index"
   ]
  },
  {
   "cell_type": "code",
   "execution_count": 27,
   "metadata": {},
   "outputs": [],
   "source": [
    "#Only considering the top 50 words:\n",
    "max_length = 50"
   ]
  },
  {
   "cell_type": "code",
   "execution_count": 28,
   "metadata": {},
   "outputs": [],
   "source": [
    "#The tensor's first dimention is still 2 reflecting two sentences (samples)\n",
    "#The second dimension is 50 i.e. the arbitrary max number of words we decided to take into account\n",
    "#The third dimension is the maximum index plus 1\n",
    "\n",
    "results = np.zeros((len(samples), max_length, max(token_index.keys())+1))"
   ]
  },
  {
   "cell_type": "code",
   "execution_count": 30,
   "metadata": {},
   "outputs": [
    {
     "data": {
      "text/plain": [
       "(2, 50, 101)"
      ]
     },
     "execution_count": 30,
     "metadata": {},
     "output_type": "execute_result"
    }
   ],
   "source": [
    "results.shape"
   ]
  },
  {
   "cell_type": "code",
   "execution_count": 31,
   "metadata": {},
   "outputs": [],
   "source": [
    "for i, sample in enumerate(samples):\n",
    "    for j, character in enumerate(sample):\n",
    "        index = token_index.get(character)\n",
    "        results[i, j, index] = 1"
   ]
  },
  {
   "cell_type": "code",
   "execution_count": 32,
   "metadata": {},
   "outputs": [
    {
     "data": {
      "text/plain": [
       "array([[[1., 1., 1., ..., 1., 1., 1.],\n",
       "        [1., 1., 1., ..., 1., 1., 1.],\n",
       "        [1., 1., 1., ..., 1., 1., 1.],\n",
       "        ...,\n",
       "        [0., 0., 0., ..., 0., 0., 0.],\n",
       "        [0., 0., 0., ..., 0., 0., 0.],\n",
       "        [0., 0., 0., ..., 0., 0., 0.]],\n",
       "\n",
       "       [[1., 1., 1., ..., 1., 1., 1.],\n",
       "        [1., 1., 1., ..., 1., 1., 1.],\n",
       "        [1., 1., 1., ..., 1., 1., 1.],\n",
       "        ...,\n",
       "        [0., 0., 0., ..., 0., 0., 0.],\n",
       "        [0., 0., 0., ..., 0., 0., 0.],\n",
       "        [0., 0., 0., ..., 0., 0., 0.]]])"
      ]
     },
     "execution_count": 32,
     "metadata": {},
     "output_type": "execute_result"
    }
   ],
   "source": [
    "results"
   ]
  },
  {
   "cell_type": "code",
   "execution_count": 33,
   "metadata": {},
   "outputs": [
    {
     "data": {
      "text/plain": [
       "array([1., 1., 1., 1., 1., 1., 1., 1., 1., 1., 1., 1., 1., 1., 1., 1., 1.,\n",
       "       1., 1., 1., 1., 1., 1., 1., 1., 1., 1., 1., 1., 1., 1., 1., 1., 1.,\n",
       "       1., 1., 1., 1., 1., 1., 1., 1., 1., 1., 1., 1., 1., 1., 1., 1., 1.,\n",
       "       1., 1., 1., 1., 1., 1., 1., 1., 1., 1., 1., 1., 1., 1., 1., 1., 1.,\n",
       "       1., 1., 1., 1., 1., 1., 1., 1., 1., 1., 1., 1., 1., 1., 1., 1., 1.,\n",
       "       1., 1., 1., 1., 1., 1., 1., 1., 1., 1., 1., 1., 1., 1., 1., 1.])"
      ]
     },
     "execution_count": 33,
     "metadata": {},
     "output_type": "execute_result"
    }
   ],
   "source": [
    "results[0, 1]"
   ]
  },
  {
   "cell_type": "code",
   "execution_count": 41,
   "metadata": {},
   "outputs": [
    {
     "data": {
      "text/plain": [
       "array([1., 1., 1., 1., 1., 1., 1., 1., 1., 1., 1., 1., 1., 1., 1., 1., 1.,\n",
       "       1., 1., 1., 1., 1., 1., 1., 1., 1., 1., 1., 1., 1., 1., 1., 1., 1.,\n",
       "       1., 1., 1., 1., 1., 1., 1., 1., 1., 1., 1., 1., 1., 1., 1., 1., 1.,\n",
       "       1., 1., 1., 1., 1., 1., 1., 1., 1., 1., 1., 1., 1., 1., 1., 1., 1.,\n",
       "       1., 1., 1., 1., 1., 1., 1., 1., 1., 1., 1., 1., 1., 1., 1., 1., 1.,\n",
       "       1., 1., 1., 1., 1., 1., 1., 1., 1., 1., 1., 1., 1., 1., 1., 1.])"
      ]
     },
     "execution_count": 41,
     "metadata": {},
     "output_type": "execute_result"
    }
   ],
   "source": [
    "results[0, 0]"
   ]
  },
  {
   "cell_type": "code",
   "execution_count": 42,
   "metadata": {},
   "outputs": [
    {
     "data": {
      "text/plain": [
       "array([1., 1., 1., 1., 1., 1., 1., 1., 1., 1., 1., 1., 1., 1., 1., 1., 1.,\n",
       "       1., 1., 1., 1., 1., 1., 1., 1., 1., 1., 1., 1., 1., 1., 1., 1., 1.,\n",
       "       1., 1., 1., 1., 1., 1., 1., 1., 1., 1., 1., 1., 1., 1., 1., 1., 1.,\n",
       "       1., 1., 1., 1., 1., 1., 1., 1., 1., 1., 1., 1., 1., 1., 1., 1., 1.,\n",
       "       1., 1., 1., 1., 1., 1., 1., 1., 1., 1., 1., 1., 1., 1., 1., 1., 1.,\n",
       "       1., 1., 1., 1., 1., 1., 1., 1., 1., 1., 1., 1., 1., 1., 1., 1.])"
      ]
     },
     "execution_count": 42,
     "metadata": {},
     "output_type": "execute_result"
    }
   ],
   "source": [
    "results[0, 5]"
   ]
  },
  {
   "cell_type": "markdown",
   "metadata": {},
   "source": [
    "Example 3: Tokenizing Words with Keras"
   ]
  },
  {
   "cell_type": "code",
   "execution_count": 43,
   "metadata": {},
   "outputs": [],
   "source": [
    "from tensorflow.keras.preprocessing.text import Tokenizer"
   ]
  },
  {
   "cell_type": "code",
   "execution_count": 44,
   "metadata": {},
   "outputs": [],
   "source": [
    "samples = ['The cat sat on the mat.', 'The dog ate my homework']"
   ]
  },
  {
   "cell_type": "code",
   "execution_count": 45,
   "metadata": {},
   "outputs": [],
   "source": [
    "tokenizer = Tokenizer(num_words=1000) #taking into account only the 1000 most common words"
   ]
  },
  {
   "cell_type": "code",
   "execution_count": 47,
   "metadata": {},
   "outputs": [],
   "source": [
    "sequences = tokenizer.fit_on_texts(samples)"
   ]
  },
  {
   "cell_type": "code",
   "execution_count": 48,
   "metadata": {},
   "outputs": [],
   "source": [
    "one_hot_results = tokenizer.texts_to_matrix(samples, mode='binary')"
   ]
  },
  {
   "cell_type": "code",
   "execution_count": 50,
   "metadata": {},
   "outputs": [
    {
     "data": {
      "text/plain": [
       "{'the': 1,\n",
       " 'cat': 2,\n",
       " 'sat': 3,\n",
       " 'on': 4,\n",
       " 'mat': 5,\n",
       " 'dog': 6,\n",
       " 'ate': 7,\n",
       " 'my': 8,\n",
       " 'homework': 9}"
      ]
     },
     "execution_count": 50,
     "metadata": {},
     "output_type": "execute_result"
    }
   ],
   "source": [
    "#Notice that the tokenizer automatically recognizes that the word \"the\" appears twice, once lower and once upper case\n",
    "\n",
    "tokenizer.word_index"
   ]
  },
  {
   "cell_type": "code",
   "execution_count": 51,
   "metadata": {},
   "outputs": [],
   "source": [
    "word_index = tokenizer.word_index"
   ]
  },
  {
   "cell_type": "code",
   "execution_count": 52,
   "metadata": {},
   "outputs": [
    {
     "name": "stdout",
     "output_type": "stream",
     "text": [
      "Found 9 unique tokens.\n"
     ]
    }
   ],
   "source": [
    "print('Found %s unique tokens.' %len(word_index))"
   ]
  },
  {
   "cell_type": "markdown",
   "metadata": {},
   "source": [
    "Example 4: One Hot Hashing as Alternative to One Hot Encoding"
   ]
  },
  {
   "cell_type": "code",
   "execution_count": 60,
   "metadata": {},
   "outputs": [],
   "source": [
    "#Hashing each word\n",
    "#Key benefit: no need to store word index in memory\n",
    "#Potential drawback: hash collision. Keep dimensionality of hashing space high to avoid. \n",
    "\n",
    "samples = ['The cat sat on the mat.', 'The dog ate my homework']\n",
    "\n",
    "dimensionality = 1000\n",
    "max_length = 10"
   ]
  },
  {
   "cell_type": "code",
   "execution_count": 54,
   "metadata": {},
   "outputs": [],
   "source": [
    "results = np.zeros((len(samples), max_length, dimensionality))"
   ]
  },
  {
   "cell_type": "code",
   "execution_count": 56,
   "metadata": {},
   "outputs": [],
   "source": [
    "for i, sample in enumerate(samples):\n",
    "    for j, word in list(enumerate(sample.split()))[:max_length]:\n",
    "        index = abs(hash(word)) % dimensionality\n",
    "        results[i, j, index] = 1"
   ]
  },
  {
   "cell_type": "code",
   "execution_count": 61,
   "metadata": {},
   "outputs": [
    {
     "data": {
      "text/plain": [
       "346"
      ]
     },
     "execution_count": 61,
     "metadata": {},
     "output_type": "execute_result"
    }
   ],
   "source": [
    "index"
   ]
  },
  {
   "cell_type": "markdown",
   "metadata": {},
   "source": [
    "Example 5: using the Embedding layer in Keras to learn Word Embeddings"
   ]
  },
  {
   "cell_type": "code",
   "execution_count": 65,
   "metadata": {},
   "outputs": [],
   "source": [
    "#Word embeddings are dense representations of similarity between words\n",
    "#They are lower dimensional than one hot encoded vectors\n",
    "#They are learned from data as part of model training\n",
    "#Alternatively, one can use a pretrained embedding layer\n",
    "#NB: embedding layers are specific to the task at hand and there is no universal embedding layer for each Human language"
   ]
  },
  {
   "cell_type": "code",
   "execution_count": 66,
   "metadata": {},
   "outputs": [],
   "source": [
    "from tensorflow.keras.layers import Embedding"
   ]
  },
  {
   "cell_type": "code",
   "execution_count": 67,
   "metadata": {},
   "outputs": [],
   "source": [
    "embedding_layer = Embedding(1000, 64)"
   ]
  },
  {
   "cell_type": "code",
   "execution_count": 68,
   "metadata": {},
   "outputs": [],
   "source": [
    "from tensorflow.keras.datasets import imdb\n",
    "from tensorflow.keras import preprocessing"
   ]
  },
  {
   "cell_type": "code",
   "execution_count": 69,
   "metadata": {},
   "outputs": [],
   "source": [
    "max_features = 10000 #maximum number of words we are considering as our features\n",
    "max_len= 20 #cuts off the text after this number of words among the max features most common words"
   ]
  },
  {
   "cell_type": "code",
   "execution_count": 70,
   "metadata": {},
   "outputs": [],
   "source": [
    "#The data is directly loaded as lists of integers\n",
    "(x_train, y_train), (x_test, y_test) = imdb.load_data(num_words=max_features)"
   ]
  },
  {
   "cell_type": "code",
   "execution_count": 71,
   "metadata": {},
   "outputs": [
    {
     "data": {
      "text/plain": [
       "numpy.ndarray"
      ]
     },
     "execution_count": 71,
     "metadata": {},
     "output_type": "execute_result"
    }
   ],
   "source": [
    "type(x_train)"
   ]
  },
  {
   "cell_type": "code",
   "execution_count": 72,
   "metadata": {},
   "outputs": [
    {
     "data": {
      "text/plain": [
       "(25000,)"
      ]
     },
     "execution_count": 72,
     "metadata": {},
     "output_type": "execute_result"
    }
   ],
   "source": [
    "x_train.shape"
   ]
  },
  {
   "cell_type": "code",
   "execution_count": 74,
   "metadata": {},
   "outputs": [
    {
     "data": {
      "text/plain": [
       "array([list([1, 14, 22, 16, 43, 530, 973, 1622, 1385, 65, 458, 4468, 66, 3941, 4, 173, 36, 256, 5, 25, 100, 43, 838, 112, 50, 670, 2, 9, 35, 480, 284, 5, 150, 4, 172, 112, 167, 2, 336, 385, 39, 4, 172, 4536, 1111, 17, 546, 38, 13, 447, 4, 192, 50, 16, 6, 147, 2025, 19, 14, 22, 4, 1920, 4613, 469, 4, 22, 71, 87, 12, 16, 43, 530, 38, 76, 15, 13, 1247, 4, 22, 17, 515, 17, 12, 16, 626, 18, 2, 5, 62, 386, 12, 8, 316, 8, 106, 5, 4, 2223, 5244, 16, 480, 66, 3785, 33, 4, 130, 12, 16, 38, 619, 5, 25, 124, 51, 36, 135, 48, 25, 1415, 33, 6, 22, 12, 215, 28, 77, 52, 5, 14, 407, 16, 82, 2, 8, 4, 107, 117, 5952, 15, 256, 4, 2, 7, 3766, 5, 723, 36, 71, 43, 530, 476, 26, 400, 317, 46, 7, 4, 2, 1029, 13, 104, 88, 4, 381, 15, 297, 98, 32, 2071, 56, 26, 141, 6, 194, 7486, 18, 4, 226, 22, 21, 134, 476, 26, 480, 5, 144, 30, 5535, 18, 51, 36, 28, 224, 92, 25, 104, 4, 226, 65, 16, 38, 1334, 88, 12, 16, 283, 5, 16, 4472, 113, 103, 32, 15, 16, 5345, 19, 178, 32]),\n",
       "       list([1, 194, 1153, 194, 8255, 78, 228, 5, 6, 1463, 4369, 5012, 134, 26, 4, 715, 8, 118, 1634, 14, 394, 20, 13, 119, 954, 189, 102, 5, 207, 110, 3103, 21, 14, 69, 188, 8, 30, 23, 7, 4, 249, 126, 93, 4, 114, 9, 2300, 1523, 5, 647, 4, 116, 9, 35, 8163, 4, 229, 9, 340, 1322, 4, 118, 9, 4, 130, 4901, 19, 4, 1002, 5, 89, 29, 952, 46, 37, 4, 455, 9, 45, 43, 38, 1543, 1905, 398, 4, 1649, 26, 6853, 5, 163, 11, 3215, 2, 4, 1153, 9, 194, 775, 7, 8255, 2, 349, 2637, 148, 605, 2, 8003, 15, 123, 125, 68, 2, 6853, 15, 349, 165, 4362, 98, 5, 4, 228, 9, 43, 2, 1157, 15, 299, 120, 5, 120, 174, 11, 220, 175, 136, 50, 9, 4373, 228, 8255, 5, 2, 656, 245, 2350, 5, 4, 9837, 131, 152, 491, 18, 2, 32, 7464, 1212, 14, 9, 6, 371, 78, 22, 625, 64, 1382, 9, 8, 168, 145, 23, 4, 1690, 15, 16, 4, 1355, 5, 28, 6, 52, 154, 462, 33, 89, 78, 285, 16, 145, 95]),\n",
       "       list([1, 14, 47, 8, 30, 31, 7, 4, 249, 108, 7, 4, 5974, 54, 61, 369, 13, 71, 149, 14, 22, 112, 4, 2401, 311, 12, 16, 3711, 33, 75, 43, 1829, 296, 4, 86, 320, 35, 534, 19, 263, 4821, 1301, 4, 1873, 33, 89, 78, 12, 66, 16, 4, 360, 7, 4, 58, 316, 334, 11, 4, 1716, 43, 645, 662, 8, 257, 85, 1200, 42, 1228, 2578, 83, 68, 3912, 15, 36, 165, 1539, 278, 36, 69, 2, 780, 8, 106, 14, 6905, 1338, 18, 6, 22, 12, 215, 28, 610, 40, 6, 87, 326, 23, 2300, 21, 23, 22, 12, 272, 40, 57, 31, 11, 4, 22, 47, 6, 2307, 51, 9, 170, 23, 595, 116, 595, 1352, 13, 191, 79, 638, 89, 2, 14, 9, 8, 106, 607, 624, 35, 534, 6, 227, 7, 129, 113])],\n",
       "      dtype=object)"
      ]
     },
     "execution_count": 74,
     "metadata": {},
     "output_type": "execute_result"
    }
   ],
   "source": [
    "#Each integer represents a word index\n",
    "x_train[:3]"
   ]
  },
  {
   "cell_type": "code",
   "execution_count": 75,
   "metadata": {},
   "outputs": [],
   "source": [
    "#Turning the lists of integers into 2D integer tensors of shape (samples, max_len)\n",
    "x_train = preprocessing.sequence.pad_sequences(x_train, maxlen=max_len)\n",
    "x_test = preprocessing.sequence.pad_sequences(x_test, maxlen=max_len)"
   ]
  },
  {
   "cell_type": "code",
   "execution_count": 76,
   "metadata": {},
   "outputs": [
    {
     "data": {
      "text/plain": [
       "(25000, 20)"
      ]
     },
     "execution_count": 76,
     "metadata": {},
     "output_type": "execute_result"
    }
   ],
   "source": [
    "x_train.shape"
   ]
  },
  {
   "cell_type": "code",
   "execution_count": 77,
   "metadata": {},
   "outputs": [
    {
     "data": {
      "text/plain": [
       "numpy.ndarray"
      ]
     },
     "execution_count": 77,
     "metadata": {},
     "output_type": "execute_result"
    }
   ],
   "source": [
    "type(x_train)"
   ]
  },
  {
   "cell_type": "code",
   "execution_count": 79,
   "metadata": {},
   "outputs": [
    {
     "data": {
      "text/plain": [
       "array([[  65,   16,   38, 1334,   88,   12,   16,  283,    5,   16, 4472,\n",
       "         113,  103,   32,   15,   16, 5345,   19,  178,   32],\n",
       "       [  23,    4, 1690,   15,   16,    4, 1355,    5,   28,    6,   52,\n",
       "         154,  462,   33,   89,   78,  285,   16,  145,   95],\n",
       "       [1352,   13,  191,   79,  638,   89,    2,   14,    9,    8,  106,\n",
       "         607,  624,   35,  534,    6,  227,    7,  129,  113]],\n",
       "      dtype=int32)"
      ]
     },
     "execution_count": 79,
     "metadata": {},
     "output_type": "execute_result"
    }
   ],
   "source": [
    "#notice the samples are being truncated after 20 instances starting from the end\n",
    "#so in our case we are taking the last 20 values for each sample\n",
    "x_train[:3]"
   ]
  },
  {
   "cell_type": "code",
   "execution_count": 80,
   "metadata": {},
   "outputs": [],
   "source": [
    "from tensorflow.keras.models import Sequential\n",
    "from tensorflow.keras.layers import Flatten, Dense, Embedding"
   ]
  },
  {
   "cell_type": "code",
   "execution_count": 81,
   "metadata": {},
   "outputs": [],
   "source": [
    "model = Sequential()"
   ]
  },
  {
   "cell_type": "code",
   "execution_count": 82,
   "metadata": {},
   "outputs": [],
   "source": [
    "model.add(Embedding(10000, 8, input_length=max_len))"
   ]
  },
  {
   "cell_type": "code",
   "execution_count": 83,
   "metadata": {},
   "outputs": [],
   "source": [
    "model.add(Flatten())"
   ]
  },
  {
   "cell_type": "code",
   "execution_count": 84,
   "metadata": {},
   "outputs": [],
   "source": [
    "model.add(Dense(1, activation='sigmoid'))"
   ]
  },
  {
   "cell_type": "code",
   "execution_count": 85,
   "metadata": {},
   "outputs": [],
   "source": [
    "model.compile(optimizer='rmsprop', loss='binary_crossentropy', metrics=['acc'])"
   ]
  },
  {
   "cell_type": "code",
   "execution_count": 86,
   "metadata": {},
   "outputs": [
    {
     "name": "stdout",
     "output_type": "stream",
     "text": [
      "_________________________________________________________________\n",
      "Layer (type)                 Output Shape              Param #   \n",
      "=================================================================\n",
      "embedding_1 (Embedding)      (None, 20, 8)             80000     \n",
      "_________________________________________________________________\n",
      "flatten (Flatten)            (None, 160)               0         \n",
      "_________________________________________________________________\n",
      "dense (Dense)                (None, 1)                 161       \n",
      "=================================================================\n",
      "Total params: 80,161\n",
      "Trainable params: 80,161\n",
      "Non-trainable params: 0\n",
      "_________________________________________________________________\n"
     ]
    }
   ],
   "source": [
    "model.summary()"
   ]
  },
  {
   "cell_type": "code",
   "execution_count": 87,
   "metadata": {},
   "outputs": [
    {
     "name": "stderr",
     "output_type": "stream",
     "text": [
      "/Applications/anaconda3/envs/py36/lib/python3.6/site-packages/tensorflow/python/ops/gradients_impl.py:108: UserWarning: Converting sparse IndexedSlices to a dense Tensor of unknown shape. This may consume a large amount of memory.\n",
      "  \"Converting sparse IndexedSlices to a dense Tensor of unknown shape. \"\n"
     ]
    },
    {
     "name": "stdout",
     "output_type": "stream",
     "text": [
      "Train on 20000 samples, validate on 5000 samples\n",
      "Epoch 1/10\n",
      "20000/20000 [==============================] - 2s 113us/step - loss: 0.7088 - acc: 0.5089 - val_loss: 0.7004 - val_acc: 0.5210\n",
      "Epoch 2/10\n",
      "20000/20000 [==============================] - 1s 64us/step - loss: 0.6829 - acc: 0.5579 - val_loss: 0.6844 - val_acc: 0.5602\n",
      "Epoch 3/10\n",
      "20000/20000 [==============================] - 1s 65us/step - loss: 0.6493 - acc: 0.6244 - val_loss: 0.6550 - val_acc: 0.6126\n",
      "Epoch 4/10\n",
      "20000/20000 [==============================] - 1s 74us/step - loss: 0.6001 - acc: 0.6821 - val_loss: 0.6150 - val_acc: 0.6562\n",
      "Epoch 5/10\n",
      "20000/20000 [==============================] - 1s 73us/step - loss: 0.5489 - acc: 0.7271 - val_loss: 0.5830 - val_acc: 0.6884\n",
      "Epoch 6/10\n",
      "20000/20000 [==============================] - 1s 68us/step - loss: 0.5095 - acc: 0.7527 - val_loss: 0.5668 - val_acc: 0.6900\n",
      "Epoch 7/10\n",
      "20000/20000 [==============================] - 1s 66us/step - loss: 0.4794 - acc: 0.7713 - val_loss: 0.5580 - val_acc: 0.7148\n",
      "Epoch 8/10\n",
      "20000/20000 [==============================] - 2s 80us/step - loss: 0.4561 - acc: 0.7834 - val_loss: 0.5429 - val_acc: 0.7198\n",
      "Epoch 9/10\n",
      "20000/20000 [==============================] - 1s 70us/step - loss: 0.4372 - acc: 0.7954 - val_loss: 0.5385 - val_acc: 0.7250\n",
      "Epoch 10/10\n",
      "20000/20000 [==============================] - 2s 81us/step - loss: 0.4207 - acc: 0.8059 - val_loss: 0.5368 - val_acc: 0.7276\n"
     ]
    }
   ],
   "source": [
    "history = model.fit(x_train, y_train, epochs=10, batch_size=32, validation_split=0.2)"
   ]
  },
  {
   "cell_type": "markdown",
   "metadata": {},
   "source": [
    "Example 6: using a pretrained word embedding layer"
   ]
  },
  {
   "cell_type": "code",
   "execution_count": 88,
   "metadata": {},
   "outputs": [],
   "source": [
    "#In this example, we will download the original text data\n",
    "#Then we will download the GLOVE word embedding and use that as a layer in the model\n",
    "#NB: we will make sure the embedding is not learning from this dataset by\n",
    "#NB: this type of approach can be particularly helpful when we have little data available"
   ]
  },
  {
   "cell_type": "code",
   "execution_count": 89,
   "metadata": {},
   "outputs": [],
   "source": [
    "import os"
   ]
  },
  {
   "cell_type": "code",
   "execution_count": 90,
   "metadata": {},
   "outputs": [],
   "source": [
    "imdb_dir = '/Users/pauldefusco/Documents/PythonWork/machine_learning_library/neural_networks/imdb_raw_dataset/aclImdb'"
   ]
  },
  {
   "cell_type": "code",
   "execution_count": 91,
   "metadata": {},
   "outputs": [],
   "source": [
    "train_dir = os.path.join(imdb_dir, 'train')"
   ]
  },
  {
   "cell_type": "code",
   "execution_count": 93,
   "metadata": {},
   "outputs": [],
   "source": [
    "labels = []\n",
    "texts = []"
   ]
  },
  {
   "cell_type": "code",
   "execution_count": 94,
   "metadata": {},
   "outputs": [],
   "source": [
    "for label_type in ['neg', 'pos']:\n",
    "    \n",
    "    dir_name = os.path.join(train_dir, label_type)\n",
    "\n",
    "    for fname in os.listdir(dir_name):\n",
    "        \n",
    "        if fname[-4:] == '.txt':\n",
    "            f = open(os.path.join(dir_name, fname))\n",
    "            texts.append(f.read())\n",
    "            f.close()\n",
    "            \n",
    "            if label_type == 'neg':\n",
    "                labels.append(0)\n",
    "            else:\n",
    "                labels.append(1)"
   ]
  },
  {
   "cell_type": "code",
   "execution_count": 96,
   "metadata": {},
   "outputs": [
    {
     "data": {
      "text/plain": [
       "\"Ouch! This one was a bit painful to sit through. It has a cute and amusing premise, but it all goes to hell from there. Matthew Modine is almost always pedestrian and annoying, and he does not disappoint in this one. Deborah Kara Unger and John Neville turned in surprisingly decent performances. Alan Bates and Jennifer Tilly, among others, played it way over the top. I know that's the way the parts were written, and it's hard to blame actors, when the script and director have them do such schlock. If you're going to have outrageous characters, that's OK, but you gotta have good material to make it work. It didn't here. Run away screaming from this movie if at all possible.\""
      ]
     },
     "execution_count": 96,
     "metadata": {},
     "output_type": "execute_result"
    }
   ],
   "source": [
    "#Sample movie review\n",
    "texts[2]"
   ]
  },
  {
   "cell_type": "code",
   "execution_count": 97,
   "metadata": {},
   "outputs": [
    {
     "data": {
      "text/plain": [
       "0"
      ]
     },
     "execution_count": 97,
     "metadata": {},
     "output_type": "execute_result"
    }
   ],
   "source": [
    "labels[2]"
   ]
  },
  {
   "cell_type": "code",
   "execution_count": 99,
   "metadata": {},
   "outputs": [],
   "source": [
    "#To make the example more realistic, we restrict the training data to 200 samples only\n",
    "from tensorflow.keras.preprocessing.text import Tokenizer\n",
    "from tensorflow.keras.preprocessing.sequence import pad_sequences\n",
    "import numpy as np"
   ]
  },
  {
   "cell_type": "code",
   "execution_count": 100,
   "metadata": {},
   "outputs": [],
   "source": [
    "maxlen=100\n",
    "training_samples=200\n",
    "validation_samples=10000\n",
    "max_words=10000"
   ]
  },
  {
   "cell_type": "code",
   "execution_count": 101,
   "metadata": {},
   "outputs": [],
   "source": [
    "tokenizer = Tokenizer(num_words=max_words)\n",
    "tokenizer.fit_on_texts(texts)"
   ]
  },
  {
   "cell_type": "code",
   "execution_count": 102,
   "metadata": {},
   "outputs": [],
   "source": [
    "sequences = tokenizer.texts_to_sequences(texts)"
   ]
  },
  {
   "cell_type": "code",
   "execution_count": 108,
   "metadata": {},
   "outputs": [
    {
     "data": {
      "text/plain": [
       "25000"
      ]
     },
     "execution_count": 108,
     "metadata": {},
     "output_type": "execute_result"
    }
   ],
   "source": [
    "len(sequences)"
   ]
  },
  {
   "cell_type": "code",
   "execution_count": 109,
   "metadata": {},
   "outputs": [],
   "source": [
    "word_index = tokenizer.word_index"
   ]
  },
  {
   "cell_type": "code",
   "execution_count": 110,
   "metadata": {},
   "outputs": [],
   "source": [
    "data = pad_sequences(sequences, maxlen=maxlen)"
   ]
  },
  {
   "cell_type": "code",
   "execution_count": 111,
   "metadata": {},
   "outputs": [
    {
     "name": "stdout",
     "output_type": "stream",
     "text": [
      "Shape of data tensor:  (25000, 100)\n",
      "Shape of label tensor:  (25000,)\n"
     ]
    }
   ],
   "source": [
    "labels = np.asarray(labels)\n",
    "print('Shape of data tensor: ', data.shape)\n",
    "print('Shape of label tensor: ', labels.shape)"
   ]
  },
  {
   "cell_type": "code",
   "execution_count": 112,
   "metadata": {},
   "outputs": [],
   "source": [
    "indices = np.arange(data.shape[0])\n",
    "np.random.shuffle(indices)\n",
    "data = data[indices]\n",
    "labels = labels[indices]"
   ]
  },
  {
   "cell_type": "code",
   "execution_count": 114,
   "metadata": {},
   "outputs": [
    {
     "data": {
      "text/plain": [
       "(100,)"
      ]
     },
     "execution_count": 114,
     "metadata": {},
     "output_type": "execute_result"
    }
   ],
   "source": [
    "data[1].shape"
   ]
  },
  {
   "cell_type": "code",
   "execution_count": 115,
   "metadata": {},
   "outputs": [
    {
     "data": {
      "text/plain": [
       "()"
      ]
     },
     "execution_count": 115,
     "metadata": {},
     "output_type": "execute_result"
    }
   ],
   "source": [
    "labels[1].shape"
   ]
  },
  {
   "cell_type": "code",
   "execution_count": 176,
   "metadata": {},
   "outputs": [
    {
     "data": {
      "text/plain": [
       "(200, 100)"
      ]
     },
     "execution_count": 176,
     "metadata": {},
     "output_type": "execute_result"
    }
   ],
   "source": [
    "data[:training_samples].shape"
   ]
  },
  {
   "cell_type": "code",
   "execution_count": 177,
   "metadata": {},
   "outputs": [],
   "source": [
    "x_train = data[:training_samples]\n",
    "y_train = labels[:training_samples]\n",
    "x_val = data[training_samples: training_samples+validation_samples]\n",
    "y_val = labels[training_samples: training_samples+validation_samples]"
   ]
  },
  {
   "cell_type": "code",
   "execution_count": 178,
   "metadata": {},
   "outputs": [],
   "source": [
    "glove_dir = '/Users/pauldefusco/Documents/PythonWork/machine_learning_library/neural_networks/embeddings/glove'"
   ]
  },
  {
   "cell_type": "code",
   "execution_count": 179,
   "metadata": {},
   "outputs": [],
   "source": [
    "embeddings_index = {}"
   ]
  },
  {
   "cell_type": "code",
   "execution_count": 180,
   "metadata": {},
   "outputs": [],
   "source": [
    "f = open(os.path.join(glove_dir, 'vocab.txt'))"
   ]
  },
  {
   "cell_type": "code",
   "execution_count": 181,
   "metadata": {},
   "outputs": [],
   "source": [
    "for line in f:\n",
    "    values = line.split()\n",
    "    word = values[0]\n",
    "    coefs = np.asarray(values[1:], dtype='float32')\n",
    "    embeddings_index[word] = coefs"
   ]
  },
  {
   "cell_type": "code",
   "execution_count": 182,
   "metadata": {},
   "outputs": [],
   "source": [
    "f.close()"
   ]
  },
  {
   "cell_type": "code",
   "execution_count": 183,
   "metadata": {},
   "outputs": [
    {
     "data": {
      "text/plain": [
       "{'the': array([1061396.], dtype=float32),\n",
       " 'of': array([593677.], dtype=float32),\n",
       " 'and': array([416629.], dtype=float32),\n",
       " 'one': array([411764.], dtype=float32),\n",
       " 'in': array([372201.], dtype=float32),\n",
       " 'a': array([325873.], dtype=float32),\n",
       " 'to': array([316376.], dtype=float32),\n",
       " 'zero': array([264975.], dtype=float32),\n",
       " 'nine': array([250430.], dtype=float32),\n",
       " 'two': array([192644.], dtype=float32),\n",
       " 'is': array([183153.], dtype=float32),\n",
       " 'as': array([131815.], dtype=float32),\n",
       " 'eight': array([125285.], dtype=float32),\n",
       " 'for': array([118445.], dtype=float32),\n",
       " 's': array([116710.], dtype=float32),\n",
       " 'five': array([115789.], dtype=float32),\n",
       " 'three': array([114775.], dtype=float32),\n",
       " 'was': array([112807.], dtype=float32),\n",
       " 'by': array([111831.], dtype=float32),\n",
       " 'that': array([109510.], dtype=float32),\n",
       " 'four': array([108182.], dtype=float32),\n",
       " 'six': array([102145.], dtype=float32),\n",
       " 'seven': array([99683.], dtype=float32),\n",
       " 'with': array([95603.], dtype=float32),\n",
       " 'on': array([91250.], dtype=float32),\n",
       " 'are': array([76527.], dtype=float32),\n",
       " 'it': array([73334.], dtype=float32),\n",
       " 'from': array([72871.], dtype=float32),\n",
       " 'or': array([68945.], dtype=float32),\n",
       " 'his': array([62603.], dtype=float32),\n",
       " 'an': array([61925.], dtype=float32),\n",
       " 'be': array([61281.], dtype=float32),\n",
       " 'this': array([58832.], dtype=float32),\n",
       " 'which': array([54788.], dtype=float32),\n",
       " 'at': array([54576.], dtype=float32),\n",
       " 'he': array([53573.], dtype=float32),\n",
       " 'also': array([44358.], dtype=float32),\n",
       " 'not': array([44033.], dtype=float32),\n",
       " 'have': array([39712.], dtype=float32),\n",
       " 'were': array([39086.], dtype=float32),\n",
       " 'has': array([37866.], dtype=float32),\n",
       " 'but': array([35358.], dtype=float32),\n",
       " 'other': array([32433.], dtype=float32),\n",
       " 'their': array([31523.], dtype=float32),\n",
       " 'its': array([29567.], dtype=float32),\n",
       " 'first': array([28810.], dtype=float32),\n",
       " 'they': array([28553.], dtype=float32),\n",
       " 'some': array([28161.], dtype=float32),\n",
       " 'had': array([28100.], dtype=float32),\n",
       " 'all': array([26229.], dtype=float32),\n",
       " 'more': array([26223.], dtype=float32),\n",
       " 'most': array([25563.], dtype=float32),\n",
       " 'can': array([25519.], dtype=float32),\n",
       " 'been': array([25383.], dtype=float32),\n",
       " 'such': array([24413.], dtype=float32),\n",
       " 'many': array([24096.], dtype=float32),\n",
       " 'who': array([23997.], dtype=float32),\n",
       " 'new': array([23770.], dtype=float32),\n",
       " 'used': array([22737.], dtype=float32),\n",
       " 'there': array([22707.], dtype=float32),\n",
       " 'after': array([21125.], dtype=float32),\n",
       " 'when': array([20623.], dtype=float32),\n",
       " 'into': array([20484.], dtype=float32),\n",
       " 'american': array([20477.], dtype=float32),\n",
       " 'time': array([20412.], dtype=float32),\n",
       " 'these': array([19864.], dtype=float32),\n",
       " 'only': array([19463.], dtype=float32),\n",
       " 'see': array([19206.], dtype=float32),\n",
       " 'may': array([19115.], dtype=float32),\n",
       " 'than': array([18807.], dtype=float32),\n",
       " 'world': array([17949.], dtype=float32),\n",
       " 'i': array([17581.], dtype=float32),\n",
       " 'b': array([17516.], dtype=float32),\n",
       " 'would': array([17377.], dtype=float32),\n",
       " 'd': array([17236.], dtype=float32),\n",
       " 'no': array([16155.], dtype=float32),\n",
       " 'however': array([15861.], dtype=float32),\n",
       " 'between': array([15737.], dtype=float32),\n",
       " 'about': array([15574.], dtype=float32),\n",
       " 'over': array([15122.], dtype=float32),\n",
       " 'years': array([14935.], dtype=float32),\n",
       " 'states': array([14916.], dtype=float32),\n",
       " 'people': array([14696.], dtype=float32),\n",
       " 'war': array([14629.], dtype=float32),\n",
       " 'during': array([14578.], dtype=float32),\n",
       " 'united': array([14494.], dtype=float32),\n",
       " 'known': array([14437.], dtype=float32),\n",
       " 'if': array([14420.], dtype=float32),\n",
       " 'called': array([14151.], dtype=float32),\n",
       " 'use': array([14011.], dtype=float32),\n",
       " 'th': array([13380.], dtype=float32),\n",
       " 'system': array([13296.], dtype=float32),\n",
       " 'often': array([12987.], dtype=float32),\n",
       " 'state': array([12904.], dtype=float32),\n",
       " 'so': array([12722.], dtype=float32),\n",
       " 'history': array([12623.], dtype=float32),\n",
       " 'will': array([12560.], dtype=float32),\n",
       " 'up': array([12445.], dtype=float32),\n",
       " 'while': array([12363.], dtype=float32),\n",
       " 'where': array([12347.], dtype=float32),\n",
       " 'city': array([12275.], dtype=float32),\n",
       " 'being': array([11931.], dtype=float32),\n",
       " 'english': array([11868.], dtype=float32),\n",
       " 'then': array([11847.], dtype=float32),\n",
       " 'any': array([11803.], dtype=float32),\n",
       " 'both': array([11755.], dtype=float32),\n",
       " 'under': array([11753.], dtype=float32),\n",
       " 'out': array([11721.], dtype=float32),\n",
       " 'made': array([11701.], dtype=float32),\n",
       " 'well': array([11537.], dtype=float32),\n",
       " 'her': array([11536.], dtype=float32),\n",
       " 'e': array([11426.], dtype=float32),\n",
       " 'number': array([11399.], dtype=float32),\n",
       " 'government': array([11323.], dtype=float32),\n",
       " 'them': array([11285.], dtype=float32),\n",
       " 'm': array([10976.], dtype=float32),\n",
       " 'later': array([10971.], dtype=float32),\n",
       " 'since': array([10691.], dtype=float32),\n",
       " 'him': array([10629.], dtype=float32),\n",
       " 'part': array([10627.], dtype=float32),\n",
       " 'name': array([10572.], dtype=float32),\n",
       " 'c': array([10561.], dtype=float32),\n",
       " 'century': array([10550.], dtype=float32),\n",
       " 'through': array([10371.], dtype=float32),\n",
       " 'because': array([10332.], dtype=float32),\n",
       " 'x': array([10307.], dtype=float32),\n",
       " 'university': array([10195.], dtype=float32),\n",
       " 'early': array([10172.], dtype=float32),\n",
       " 'life': array([10096.], dtype=float32),\n",
       " 'british': array([10056.], dtype=float32),\n",
       " 'year': array([9858.], dtype=float32),\n",
       " 'like': array([9854.], dtype=float32),\n",
       " 'same': array([9774.], dtype=float32),\n",
       " 'including': array([9633.], dtype=float32),\n",
       " 'became': array([9591.], dtype=float32),\n",
       " 'example': array([9539.], dtype=float32),\n",
       " 'day': array([9534.], dtype=float32),\n",
       " 'each': array([9500.], dtype=float32),\n",
       " 'even': array([9412.], dtype=float32),\n",
       " 'work': array([9388.], dtype=float32),\n",
       " 'language': array([9375.], dtype=float32),\n",
       " 'although': array([9286.], dtype=float32),\n",
       " 'several': array([9168.], dtype=float32),\n",
       " 'form': array([9133.], dtype=float32),\n",
       " 'john': array([8956.], dtype=float32),\n",
       " 'u': array([8928.], dtype=float32),\n",
       " 'national': array([8904.], dtype=float32),\n",
       " 'very': array([8861.], dtype=float32),\n",
       " 'much': array([8822.], dtype=float32),\n",
       " 'g': array([8773.], dtype=float32),\n",
       " 'french': array([8736.], dtype=float32),\n",
       " 'before': array([8700.], dtype=float32),\n",
       " 'general': array([8659.], dtype=float32),\n",
       " 'what': array([8581.], dtype=float32),\n",
       " 't': array([8491.], dtype=float32),\n",
       " 'against': array([8432.], dtype=float32),\n",
       " 'n': array([8372.], dtype=float32),\n",
       " 'high': array([8337.], dtype=float32),\n",
       " 'links': array([8312.], dtype=float32),\n",
       " 'could': array([8304.], dtype=float32),\n",
       " 'based': array([8244.], dtype=float32),\n",
       " 'those': array([8209.], dtype=float32),\n",
       " 'now': array([8206.], dtype=float32),\n",
       " 'second': array([8110.], dtype=float32),\n",
       " 'de': array([8002.], dtype=float32),\n",
       " 'music': array([7987.], dtype=float32),\n",
       " 'another': array([7933.], dtype=float32),\n",
       " 'large': array([7898.], dtype=float32),\n",
       " 'she': array([7896.], dtype=float32),\n",
       " 'f': array([7878.], dtype=float32),\n",
       " 'external': array([7862.], dtype=float32),\n",
       " 'german': array([7858.], dtype=float32),\n",
       " 'different': array([7797.], dtype=float32),\n",
       " 'modern': array([7790.], dtype=float32),\n",
       " 'great': array([7770.], dtype=float32),\n",
       " 'do': array([7763.], dtype=float32),\n",
       " 'common': array([7698.], dtype=float32),\n",
       " 'set': array([7682.], dtype=float32),\n",
       " 'list': array([7672.], dtype=float32),\n",
       " 'south': array([7628.], dtype=float32),\n",
       " 'series': array([7611.], dtype=float32),\n",
       " 'major': array([7585.], dtype=float32),\n",
       " 'game': array([7553.], dtype=float32),\n",
       " 'power': array([7522.], dtype=float32),\n",
       " 'long': array([7488.], dtype=float32),\n",
       " 'country': array([7481.], dtype=float32),\n",
       " 'king': array([7456.], dtype=float32),\n",
       " 'law': array([7435.], dtype=float32),\n",
       " 'group': array([7417.], dtype=float32),\n",
       " 'film': array([7400.], dtype=float32),\n",
       " 'still': array([7378.], dtype=float32),\n",
       " 'until': array([7368.], dtype=float32),\n",
       " 'north': array([7328.], dtype=float32),\n",
       " 'international': array([7262.], dtype=float32),\n",
       " 'term': array([7219.], dtype=float32),\n",
       " 'we': array([7118.], dtype=float32),\n",
       " 'end': array([7113.], dtype=float32),\n",
       " 'book': array([7110.], dtype=float32),\n",
       " 'found': array([7043.], dtype=float32),\n",
       " 'own': array([7034.], dtype=float32),\n",
       " 'political': array([6970.], dtype=float32),\n",
       " 'party': array([6943.], dtype=float32),\n",
       " 'order': array([6908.], dtype=float32),\n",
       " 'usually': array([6872.], dtype=float32),\n",
       " 'president': array([6865.], dtype=float32),\n",
       " 'church': array([6786.], dtype=float32),\n",
       " 'you': array([6690.], dtype=float32),\n",
       " 'death': array([6684.], dtype=float32),\n",
       " 'theory': array([6604.], dtype=float32),\n",
       " 'area': array([6591.], dtype=float32),\n",
       " 'around': array([6576.], dtype=float32),\n",
       " 'include': array([6531.], dtype=float32),\n",
       " 'god': array([6518.], dtype=float32),\n",
       " 'ii': array([6494.], dtype=float32),\n",
       " 'way': array([6433.], dtype=float32),\n",
       " 'did': array([6419.], dtype=float32),\n",
       " 'military': array([6410.], dtype=float32),\n",
       " 'population': array([6400.], dtype=float32),\n",
       " 'using': array([6384.], dtype=float32),\n",
       " 'though': array([6362.], dtype=float32),\n",
       " 'small': array([6361.], dtype=float32),\n",
       " 'following': array([6300.], dtype=float32),\n",
       " 'within': array([6238.], dtype=float32),\n",
       " 'non': array([6220.], dtype=float32),\n",
       " 'human': array([6184.], dtype=float32),\n",
       " 'left': array([6184.], dtype=float32),\n",
       " 'main': array([6166.], dtype=float32),\n",
       " 'among': array([6146.], dtype=float32),\n",
       " 'point': array([6141.], dtype=float32),\n",
       " 'r': array([6064.], dtype=float32),\n",
       " 'due': array([6056.], dtype=float32),\n",
       " 'p': array([6001.], dtype=float32),\n",
       " 'considered': array([5985.], dtype=float32),\n",
       " 'public': array([5976.], dtype=float32),\n",
       " 'popular': array([5967.], dtype=float32),\n",
       " 'computer': array([5874.], dtype=float32),\n",
       " 'west': array([5862.], dtype=float32),\n",
       " 'family': array([5857.], dtype=float32),\n",
       " 'east': array([5854.], dtype=float32),\n",
       " 'information': array([5844.], dtype=float32),\n",
       " 'important': array([5843.], dtype=float32),\n",
       " 'european': array([5806.], dtype=float32),\n",
       " 'man': array([5778.], dtype=float32),\n",
       " 'sometimes': array([5761.], dtype=float32),\n",
       " 'right': array([5758.], dtype=float32),\n",
       " 'old': array([5711.], dtype=float32),\n",
       " 'free': array([5684.], dtype=float32),\n",
       " 'word': array([5678.], dtype=float32),\n",
       " 'without': array([5661.], dtype=float32),\n",
       " 'last': array([5654.], dtype=float32),\n",
       " 'us': array([5652.], dtype=float32),\n",
       " 'members': array([5634.], dtype=float32),\n",
       " 'given': array([5605.], dtype=float32),\n",
       " 'times': array([5582.], dtype=float32),\n",
       " 'roman': array([5468.], dtype=float32),\n",
       " 'make': array([5450.], dtype=float32),\n",
       " 'h': array([5404.], dtype=float32),\n",
       " 'age': array([5350.], dtype=float32),\n",
       " 'place': array([5345.], dtype=float32),\n",
       " 'l': array([5343.], dtype=float32),\n",
       " 'thus': array([5319.], dtype=float32),\n",
       " 'science': array([5314.], dtype=float32),\n",
       " 'case': array([5289.], dtype=float32),\n",
       " 'become': array([5268.], dtype=float32),\n",
       " 'systems': array([5262.], dtype=float32),\n",
       " 'union': array([5248.], dtype=float32),\n",
       " 'born': array([5246.], dtype=float32),\n",
       " 'york': array([5243.], dtype=float32),\n",
       " 'line': array([5236.], dtype=float32),\n",
       " 'countries': array([5231.], dtype=float32),\n",
       " 'does': array([5221.], dtype=float32),\n",
       " 'isbn': array([5216.], dtype=float32),\n",
       " 'st': array([5207.], dtype=float32),\n",
       " 'control': array([5196.], dtype=float32),\n",
       " 'various': array([5163.], dtype=float32),\n",
       " 'others': array([5160.], dtype=float32),\n",
       " 'house': array([5157.], dtype=float32),\n",
       " 'article': array([5143.], dtype=float32),\n",
       " 'island': array([5124.], dtype=float32),\n",
       " 'should': array([5113.], dtype=float32),\n",
       " 'led': array([5108.], dtype=float32),\n",
       " 'back': array([5105.], dtype=float32),\n",
       " 'period': array([5099.], dtype=float32),\n",
       " 'player': array([5096.], dtype=float32),\n",
       " 'europe': array([5094.], dtype=float32),\n",
       " 'languages': array([5087.], dtype=float32),\n",
       " 'central': array([5070.], dtype=float32),\n",
       " 'water': array([5025.], dtype=float32),\n",
       " 'few': array([5013.], dtype=float32),\n",
       " 'western': array([5010.], dtype=float32),\n",
       " 'home': array([5007.], dtype=float32),\n",
       " 'began': array([5004.], dtype=float32),\n",
       " 'generally': array([4979.], dtype=float32),\n",
       " 'less': array([4974.], dtype=float32),\n",
       " 'k': array([4970.], dtype=float32),\n",
       " 'similar': array([4939.], dtype=float32),\n",
       " 'written': array([4916.], dtype=float32),\n",
       " 'original': array([4910.], dtype=float32),\n",
       " 'best': array([4902.], dtype=float32),\n",
       " 'must': array([4898.], dtype=float32),\n",
       " 'according': array([4884.], dtype=float32),\n",
       " 'school': array([4872.], dtype=float32),\n",
       " 'france': array([4813.], dtype=float32),\n",
       " 'air': array([4802.], dtype=float32),\n",
       " 'single': array([4801.], dtype=float32),\n",
       " 'force': array([4776.], dtype=float32),\n",
       " 'v': array([4762.], dtype=float32),\n",
       " 'land': array([4755.], dtype=float32),\n",
       " 'groups': array([4731.], dtype=float32),\n",
       " 'down': array([4728.], dtype=float32),\n",
       " 'how': array([4727.], dtype=float32),\n",
       " 'works': array([4724.], dtype=float32),\n",
       " 'development': array([4721.], dtype=float32),\n",
       " 'official': array([4720.], dtype=float32),\n",
       " 'support': array([4686.], dtype=float32),\n",
       " 'england': array([4641.], dtype=float32),\n",
       " 'j': array([4612.], dtype=float32),\n",
       " 'rather': array([4605.], dtype=float32),\n",
       " 'data': array([4586.], dtype=float32),\n",
       " 'space': array([4586.], dtype=float32),\n",
       " 'greek': array([4577.], dtype=float32),\n",
       " 'km': array([4574.], dtype=float32),\n",
       " 'named': array([4551.], dtype=float32),\n",
       " 'germany': array([4539.], dtype=float32),\n",
       " 'just': array([4528.], dtype=float32),\n",
       " 'games': array([4527.], dtype=float32),\n",
       " 'said': array([4483.], dtype=float32),\n",
       " 'version': array([4472.], dtype=float32),\n",
       " 'late': array([4471.], dtype=float32),\n",
       " 'earth': array([4457.], dtype=float32),\n",
       " 'company': array([4448.], dtype=float32),\n",
       " 'every': array([4446.], dtype=float32),\n",
       " 'economic': array([4435.], dtype=float32),\n",
       " 'short': array([4433.], dtype=float32),\n",
       " 'published': array([4430.], dtype=float32),\n",
       " 'black': array([4429.], dtype=float32),\n",
       " 'army': array([4418.], dtype=float32),\n",
       " 'off': array([4414.], dtype=float32),\n",
       " 'london': array([4399.], dtype=float32),\n",
       " 'million': array([4386.], dtype=float32),\n",
       " 'body': array([4383.], dtype=float32),\n",
       " 'field': array([4352.], dtype=float32),\n",
       " 'christian': array([4347.], dtype=float32),\n",
       " 'either': array([4330.], dtype=float32),\n",
       " 'empire': array([4307.], dtype=float32),\n",
       " 'social': array([4307.], dtype=float32),\n",
       " 'o': array([4299.], dtype=float32),\n",
       " 'developed': array([4270.], dtype=float32),\n",
       " 'standard': array([4269.], dtype=float32),\n",
       " 'court': array([4268.], dtype=float32),\n",
       " 'service': array([4260.], dtype=float32),\n",
       " 'kingdom': array([4257.], dtype=float32),\n",
       " 'along': array([4241.], dtype=float32),\n",
       " 'college': array([4236.], dtype=float32),\n",
       " 'republic': array([4231.], dtype=float32),\n",
       " 'sea': array([4212.], dtype=float32),\n",
       " 'america': array([4202.], dtype=float32),\n",
       " 'today': array([4198.], dtype=float32),\n",
       " 'result': array([4193.], dtype=float32),\n",
       " 'held': array([4178.], dtype=float32),\n",
       " 'team': array([4176.], dtype=float32),\n",
       " 'light': array([4172.], dtype=float32),\n",
       " 'means': array([4165.], dtype=float32),\n",
       " 'never': array([4127.], dtype=float32),\n",
       " 'especially': array([4125.], dtype=float32),\n",
       " 'third': array([4121.], dtype=float32),\n",
       " 'further': array([4118.], dtype=float32),\n",
       " 'character': array([4114.], dtype=float32),\n",
       " 'forces': array([4114.], dtype=float32),\n",
       " 'take': array([4105.], dtype=float32),\n",
       " 'men': array([4078.], dtype=float32),\n",
       " 'society': array([4067.], dtype=float32),\n",
       " 'show': array([4064.], dtype=float32),\n",
       " 'open': array([4063.], dtype=float32),\n",
       " 'possible': array([4051.], dtype=float32),\n",
       " 'fact': array([4042.], dtype=float32),\n",
       " 'battle': array([4034.], dtype=float32),\n",
       " 'took': array([4013.], dtype=float32),\n",
       " 'former': array([4007.], dtype=float32),\n",
       " 'books': array([3992.], dtype=float32),\n",
       " 'soviet': array([3985.], dtype=float32),\n",
       " 'river': array([3984.], dtype=float32),\n",
       " 'children': array([3978.], dtype=float32),\n",
       " 'having': array([3964.], dtype=float32),\n",
       " 'good': array([3962.], dtype=float32),\n",
       " 'local': array([3960.], dtype=float32),\n",
       " 'current': array([3955.], dtype=float32),\n",
       " 'son': array([3955.], dtype=float32),\n",
       " 'process': array([3949.], dtype=float32),\n",
       " 'natural': array([3947.], dtype=float32),\n",
       " 'present': array([3922.], dtype=float32),\n",
       " 'himself': array([3919.], dtype=float32),\n",
       " 'islands': array([3903.], dtype=float32),\n",
       " 'total': array([3891.], dtype=float32),\n",
       " 'near': array([3874.], dtype=float32),\n",
       " 'white': array([3866.], dtype=float32),\n",
       " 'days': array([3863.], dtype=float32),\n",
       " 'person': array([3855.], dtype=float32),\n",
       " 'itself': array([3843.], dtype=float32),\n",
       " 'seen': array([3831.], dtype=float32),\n",
       " 'culture': array([3809.], dtype=float32),\n",
       " 'little': array([3805.], dtype=float32),\n",
       " 'above': array([3782.], dtype=float32),\n",
       " 'software': array([3773.], dtype=float32),\n",
       " 'largest': array([3772.], dtype=float32),\n",
       " 'words': array([3771.], dtype=float32),\n",
       " 'upon': array([3768.], dtype=float32),\n",
       " 'level': array([3767.], dtype=float32),\n",
       " 'father': array([3762.], dtype=float32),\n",
       " 'created': array([3760.], dtype=float32),\n",
       " 'side': array([3760.], dtype=float32),\n",
       " 'red': array([3755.], dtype=float32),\n",
       " 'references': array([3747.], dtype=float32),\n",
       " 'press': array([3745.], dtype=float32),\n",
       " 'full': array([3734.], dtype=float32),\n",
       " 'region': array([3726.], dtype=float32),\n",
       " 'almost': array([3717.], dtype=float32),\n",
       " 'al': array([3714.], dtype=float32),\n",
       " 'image': array([3714.], dtype=float32),\n",
       " 'famous': array([3708.], dtype=float32),\n",
       " 'play': array([3702.], dtype=float32),\n",
       " 'came': array([3698.], dtype=float32),\n",
       " 'role': array([3691.], dtype=float32),\n",
       " 'once': array([3686.], dtype=float32),\n",
       " 'certain': array([3675.], dtype=float32),\n",
       " 'league': array([3663.], dtype=float32),\n",
       " 'jewish': array([3662.], dtype=float32),\n",
       " 'james': array([3653.], dtype=float32),\n",
       " 'january': array([3650.], dtype=float32),\n",
       " 'site': array([3639.], dtype=float32),\n",
       " 'again': array([3616.], dtype=float32),\n",
       " 'art': array([3611.], dtype=float32),\n",
       " 'numbers': array([3611.], dtype=float32),\n",
       " 'member': array([3601.], dtype=float32),\n",
       " 'areas': array([3599.], dtype=float32),\n",
       " 'movement': array([3595.], dtype=float32),\n",
       " 'religious': array([3588.], dtype=float32),\n",
       " 'type': array([3588.], dtype=float32),\n",
       " 'march': array([3583.], dtype=float32),\n",
       " 'community': array([3581.], dtype=float32),\n",
       " 'story': array([3573.], dtype=float32),\n",
       " 'played': array([3572.], dtype=float32),\n",
       " 'production': array([3570.], dtype=float32),\n",
       " 'released': array([3555.], dtype=float32),\n",
       " 'center': array([3548.], dtype=float32),\n",
       " 'rights': array([3546.], dtype=float32),\n",
       " 'real': array([3545.], dtype=float32),\n",
       " 'related': array([3536.], dtype=float32),\n",
       " 'foreign': array([3528.], dtype=float32),\n",
       " 'low': array([3524.], dtype=float32),\n",
       " 'ancient': array([3523.], dtype=float32),\n",
       " 'terms': array([3519.], dtype=float32),\n",
       " 'view': array([3519.], dtype=float32),\n",
       " 'source': array([3503.], dtype=float32),\n",
       " 'act': array([3502.], dtype=float32),\n",
       " 'minister': array([3493.], dtype=float32),\n",
       " 'change': array([3483.], dtype=float32),\n",
       " 'energy': array([3464.], dtype=float32),\n",
       " 'produced': array([3457.], dtype=float32),\n",
       " 'research': array([3452.], dtype=float32),\n",
       " 'actor': array([3451.], dtype=float32),\n",
       " 'making': array([3448.], dtype=float32),\n",
       " 'civil': array([3443.], dtype=float32),\n",
       " 'december': array([3443.], dtype=float32),\n",
       " 'women': array([3442.], dtype=float32),\n",
       " 'special': array([3441.], dtype=float32),\n",
       " 'style': array([3438.], dtype=float32),\n",
       " 'design': array([3437.], dtype=float32),\n",
       " 'japanese': array([3437.], dtype=float32),\n",
       " 'william': array([3437.], dtype=float32),\n",
       " 'available': array([3435.], dtype=float32),\n",
       " 'chinese': array([3430.], dtype=float32),\n",
       " 'forms': array([3429.], dtype=float32),\n",
       " 'canada': array([3428.], dtype=float32),\n",
       " 'northern': array([3423.], dtype=float32),\n",
       " 'died': array([3418.], dtype=float32),\n",
       " 'class': array([3412.], dtype=float32),\n",
       " 'living': array([3410.], dtype=float32),\n",
       " 'next': array([3406.], dtype=float32),\n",
       " 'particular': array([3404.], dtype=float32),\n",
       " 'program': array([3403.], dtype=float32),\n",
       " 'council': array([3401.], dtype=float32),\n",
       " 'television': array([3395.], dtype=float32),\n",
       " 'head': array([3376.], dtype=float32),\n",
       " 'david': array([3368.], dtype=float32),\n",
       " 'china': array([3365.], dtype=float32),\n",
       " 'middle': array([3363.], dtype=float32),\n",
       " 'established': array([3360.], dtype=float32),\n",
       " 'bc': array([3356.], dtype=float32),\n",
       " 'hand': array([3356.], dtype=float32),\n",
       " 'far': array([3352.], dtype=float32),\n",
       " 'july': array([3333.], dtype=float32),\n",
       " 'function': array([3330.], dtype=float32),\n",
       " 'position': array([3318.], dtype=float32),\n",
       " 'y': array([3311.], dtype=float32),\n",
       " 'built': array([3310.], dtype=float32),\n",
       " 'george': array([3307.], dtype=float32),\n",
       " 'band': array([3304.], dtype=float32),\n",
       " 'together': array([3303.], dtype=float32),\n",
       " 'w': array([3301.], dtype=float32),\n",
       " 'latin': array([3290.], dtype=float32),\n",
       " 'thought': array([3277.], dtype=float32),\n",
       " 'eastern': array([3276.], dtype=float32),\n",
       " 'charles': array([3268.], dtype=float32),\n",
       " 'parts': array([3266.], dtype=float32),\n",
       " 'instead': array([3259.], dtype=float32),\n",
       " 'study': array([3248.], dtype=float32),\n",
       " 'india': array([3242.], dtype=float32),\n",
       " 'might': array([3242.], dtype=float32),\n",
       " 'code': array([3240.], dtype=float32),\n",
       " 'included': array([3213.], dtype=float32),\n",
       " 'meaning': array([3213.], dtype=float32),\n",
       " 'trade': array([3207.], dtype=float32),\n",
       " 'per': array([3206.], dtype=float32),\n",
       " 'june': array([3195.], dtype=float32),\n",
       " 'least': array([3185.], dtype=float32),\n",
       " 'half': array([3176.], dtype=float32),\n",
       " 'model': array([3141.], dtype=float32),\n",
       " 'economy': array([3136.], dtype=float32),\n",
       " 'prime': array([3135.], dtype=float32),\n",
       " 'traditional': array([3133.], dtype=float32),\n",
       " 'always': array([3131.], dtype=float32),\n",
       " 'capital': array([3129.], dtype=float32),\n",
       " 'range': array([3125.], dtype=float32),\n",
       " 'emperor': array([3119.], dtype=float32),\n",
       " 'november': array([3119.], dtype=float32),\n",
       " 'young': array([3109.], dtype=float32),\n",
       " 'anti': array([3103.], dtype=float32),\n",
       " 'final': array([3102.], dtype=float32),\n",
       " 'text': array([3098.], dtype=float32),\n",
       " 'players': array([3088.], dtype=float32),\n",
       " 'uk': array([3079.], dtype=float32),\n",
       " 'april': array([3069.], dtype=float32),\n",
       " 'run': array([3063.], dtype=float32),\n",
       " 'september': array([3055.], dtype=float32),\n",
       " 'addition': array([3050.], dtype=float32),\n",
       " 'radio': array([3050.], dtype=float32),\n",
       " 'live': array([3046.], dtype=float32),\n",
       " 'august': array([3044.], dtype=float32),\n",
       " 'note': array([3043.], dtype=float32),\n",
       " 'taken': array([3043.], dtype=float32),\n",
       " 'italian': array([3037.], dtype=float32),\n",
       " 'lost': array([3035.], dtype=float32),\n",
       " 'nature': array([3027.], dtype=float32),\n",
       " 'project': array([3022.], dtype=float32),\n",
       " 'technology': array([3017.], dtype=float32),\n",
       " 'spanish': array([3011.], dtype=float32),\n",
       " 'october': array([3009.], dtype=float32),\n",
       " 'rate': array([3002.], dtype=float32),\n",
       " 'recent': array([3002.], dtype=float32),\n",
       " 'won': array([2989.], dtype=float32),\n",
       " 'true': array([2965.], dtype=float32),\n",
       " 'value': array([2964.], dtype=float32),\n",
       " 'uses': array([2963.], dtype=float32),\n",
       " 'russian': array([2961.], dtype=float32),\n",
       " 'est': array([2959.], dtype=float32),\n",
       " 'wrote': array([2935.], dtype=float32),\n",
       " 'effect': array([2933.], dtype=float32),\n",
       " 'album': array([2932.], dtype=float32),\n",
       " 'southern': array([2927.], dtype=float32),\n",
       " 'africa': array([2923.], dtype=float32),\n",
       " 'whose': array([2914.], dtype=float32),\n",
       " 'top': array([2913.], dtype=float32),\n",
       " 'historical': array([2899.], dtype=float32),\n",
       " 'australia': array([2895.], dtype=float32),\n",
       " 'catholic': array([2888.], dtype=float32),\n",
       " 'particularly': array([2882.], dtype=float32),\n",
       " 'self': array([2879.], dtype=float32),\n",
       " 'structure': array([2876.], dtype=float32),\n",
       " 'record': array([2863.], dtype=float32),\n",
       " 'evidence': array([2857.], dtype=float32),\n",
       " 'rule': array([2852.], dtype=float32),\n",
       " 'themselves': array([2852.], dtype=float32),\n",
       " 'influence': array([2845.], dtype=float32),\n",
       " 'cases': array([2843.], dtype=float32),\n",
       " 'subject': array([2830.], dtype=float32),\n",
       " 'referred': array([2829.], dtype=float32),\n",
       " 'continued': array([2822.], dtype=float32),\n",
       " 'nations': array([2821.], dtype=float32),\n",
       " 'below': array([2819.], dtype=float32),\n",
       " 'rock': array([2819.], dtype=float32),\n",
       " 'japan': array([2817.], dtype=float32),\n",
       " 'com': array([2810.], dtype=float32),\n",
       " 'song': array([2809.], dtype=float32),\n",
       " 'names': array([2806.], dtype=float32),\n",
       " 'throughout': array([2806.], dtype=float32),\n",
       " 'female': array([2797.], dtype=float32),\n",
       " 'title': array([2796.], dtype=float32),\n",
       " 'our': array([2795.], dtype=float32),\n",
       " 'therefore': array([2795.], dtype=float32),\n",
       " 'office': array([2785.], dtype=float32),\n",
       " 'star': array([2784.], dtype=float32),\n",
       " 'paul': array([2777.], dtype=float32),\n",
       " 'too': array([2775.], dtype=float32),\n",
       " 'cities': array([2773.], dtype=float32),\n",
       " 'february': array([2771.], dtype=float32),\n",
       " 'independent': array([2771.], dtype=float32),\n",
       " 'author': array([2769.], dtype=float32),\n",
       " 'problem': array([2767.], dtype=float32),\n",
       " 'species': array([2761.], dtype=float32),\n",
       " 'done': array([2759.], dtype=float32),\n",
       " 'education': array([2759.], dtype=float32),\n",
       " 'philosophy': array([2758.], dtype=float32),\n",
       " 'come': array([2755.], dtype=float32),\n",
       " 'higher': array([2753.], dtype=float32),\n",
       " 'originally': array([2752.], dtype=float32),\n",
       " 'market': array([2748.], dtype=float32),\n",
       " 'town': array([2746.], dtype=float32),\n",
       " 'my': array([2745.], dtype=float32),\n",
       " 'season': array([2741.], dtype=float32),\n",
       " 'love': array([2740.], dtype=float32),\n",
       " 'strong': array([2736.], dtype=float32),\n",
       " 'israel': array([2735.], dtype=float32),\n",
       " 'irish': array([2731.], dtype=float32),\n",
       " 'writer': array([2731.], dtype=float32),\n",
       " 'films': array([2727.], dtype=float32),\n",
       " 'elements': array([2723.], dtype=float32),\n",
       " 'robert': array([2722.], dtype=float32),\n",
       " 'whether': array([2719.], dtype=float32),\n",
       " 'despite': array([2716.], dtype=float32),\n",
       " 'eventually': array([2714.], dtype=float32),\n",
       " 'here': array([2709.], dtype=float32),\n",
       " 'football': array([2708.], dtype=float32),\n",
       " 'action': array([2699.], dtype=float32),\n",
       " 'internet': array([2697.], dtype=float32),\n",
       " 'individual': array([2693.], dtype=float32),\n",
       " 'sound': array([2693.], dtype=float32),\n",
       " 'network': array([2691.], dtype=float32),\n",
       " 'described': array([2685.], dtype=float32),\n",
       " 'practice': array([2681.], dtype=float32),\n",
       " 'characters': array([2674.], dtype=float32),\n",
       " 're': array([2664.], dtype=float32),\n",
       " 'royal': array([2663.], dtype=float32),\n",
       " 'la': array([2660.], dtype=float32),\n",
       " 'events': array([2650.], dtype=float32),\n",
       " 'formed': array([2644.], dtype=float32),\n",
       " 'commonly': array([2638.], dtype=float32),\n",
       " 'base': array([2633.], dtype=float32),\n",
       " 'received': array([2632.], dtype=float32),\n",
       " 'african': array([2628.], dtype=float32),\n",
       " 'problems': array([2628.], dtype=float32),\n",
       " 'food': array([2623.], dtype=float32),\n",
       " 'jews': array([2620.], dtype=float32),\n",
       " 'able': array([2619.], dtype=float32),\n",
       " 'male': array([2615.], dtype=float32),\n",
       " 'mass': array([2595.], dtype=float32),\n",
       " 'typically': array([2595.], dtype=float32),\n",
       " 'complex': array([2593.], dtype=float32),\n",
       " 'lower': array([2583.], dtype=float32),\n",
       " 'includes': array([2576.], dtype=float32),\n",
       " 'outside': array([2574.], dtype=float32),\n",
       " 'legal': array([2562.], dtype=float32),\n",
       " 'complete': array([2561.], dtype=float32),\n",
       " 'parliament': array([2554.], dtype=float32),\n",
       " 'significant': array([2554.], dtype=float32),\n",
       " 'actually': array([2553.], dtype=float32),\n",
       " 'business': array([2542.], dtype=float32),\n",
       " 'fiction': array([2540.], dtype=float32),\n",
       " 'physical': array([2539.], dtype=float32),\n",
       " 'followed': array([2537.], dtype=float32),\n",
       " 'deaths': array([2530.], dtype=float32),\n",
       " 'key': array([2527.], dtype=float32),\n",
       " 'leader': array([2525.], dtype=float32),\n",
       " 'widely': array([2525.], dtype=float32),\n",
       " 'page': array([2520.], dtype=float32),\n",
       " 'basic': array([2519.], dtype=float32),\n",
       " 'types': array([2518.], dtype=float32),\n",
       " 'henry': array([2494.], dtype=float32),\n",
       " 'beginning': array([2493.], dtype=float32),\n",
       " 'elected': array([2493.], dtype=float32),\n",
       " 'fire': array([2489.], dtype=float32),\n",
       " 'building': array([2480.], dtype=float32),\n",
       " 'independence': array([2478.], dtype=float32),\n",
       " 'went': array([2475.], dtype=float32),\n",
       " 'aircraft': array([2471.], dtype=float32),\n",
       " 'movie': array([2471.], dtype=float32),\n",
       " 'ever': array([2470.], dtype=float32),\n",
       " 'canadian': array([2468.], dtype=float32),\n",
       " 'material': array([2464.], dtype=float32),\n",
       " 'births': array([2462.], dtype=float32),\n",
       " 'video': array([2461.], dtype=float32),\n",
       " 'news': array([2458.], dtype=float32),\n",
       " 'future': array([2457.], dtype=float32),\n",
       " 'scientific': array([2456.], dtype=float32),\n",
       " 'simply': array([2454.], dtype=float32),\n",
       " 'go': array([2451.], dtype=float32),\n",
       " 'defined': array([2449.], dtype=float32),\n",
       " 'laws': array([2444.], dtype=float32),\n",
       " 'get': array([2440.], dtype=float32),\n",
       " 'close': array([2439.], dtype=float32),\n",
       " 'industry': array([2434.], dtype=float32),\n",
       " 'specific': array([2432.], dtype=float32),\n",
       " 'examples': array([2431.], dtype=float32),\n",
       " 'believe': array([2404.], dtype=float32),\n",
       " 'services': array([2404.], dtype=float32),\n",
       " 'idea': array([2398.], dtype=float32),\n",
       " 'introduced': array([2397.], dtype=float32),\n",
       " 'method': array([2397.], dtype=float32),\n",
       " 'points': array([2396.], dtype=float32),\n",
       " 'return': array([2395.], dtype=float32),\n",
       " 'cause': array([2392.], dtype=float32),\n",
       " 'indian': array([2389.], dtype=float32),\n",
       " 'britain': array([2384.], dtype=float32),\n",
       " 'features': array([2380.], dtype=float32),\n",
       " 'majority': array([2379.], dtype=float32),\n",
       " 'size': array([2379.], dtype=float32),\n",
       " 'post': array([2376.], dtype=float32),\n",
       " 'lead': array([2375.], dtype=float32),\n",
       " 'organization': array([2374.], dtype=float32),\n",
       " 'cannot': array([2373.], dtype=float32),\n",
       " 'designed': array([2364.], dtype=float32),\n",
       " 'ireland': array([2362.], dtype=float32),\n",
       " 'cross': array([2361.], dtype=float32),\n",
       " 'classical': array([2359.], dtype=float32),\n",
       " 'personal': array([2357.], dtype=float32),\n",
       " 'writing': array([2356.], dtype=float32),\n",
       " 'concept': array([2353.], dtype=float32),\n",
       " 'associated': array([2349.], dtype=float32),\n",
       " 'required': array([2349.], dtype=float32),\n",
       " 'soon': array([2343.], dtype=float32),\n",
       " 'changes': array([2337.], dtype=float32),\n",
       " 'california': array([2336.], dtype=float32),\n",
       " 'located': array([2336.], dtype=float32),\n",
       " 'sense': array([2331.], dtype=float32),\n",
       " 'believed': array([2319.], dtype=float32),\n",
       " 'away': array([2313.], dtype=float32),\n",
       " 'started': array([2313.], dtype=float32),\n",
       " 'co': array([2308.], dtype=float32),\n",
       " 'religion': array([2304.], dtype=float32),\n",
       " 'mother': array([2303.], dtype=float32),\n",
       " 'county': array([2300.], dtype=float32),\n",
       " 'rules': array([2299.], dtype=float32),\n",
       " 'studies': array([2298.], dtype=float32),\n",
       " 'yet': array([2296.], dtype=float32),\n",
       " 'find': array([2290.], dtype=float32),\n",
       " 'knowledge': array([2289.], dtype=float32),\n",
       " 'put': array([2288.], dtype=float32),\n",
       " 'founded': array([2282.], dtype=float32),\n",
       " 'policy': array([2278.], dtype=float32),\n",
       " 'currently': array([2275.], dtype=float32),\n",
       " 'provide': array([2272.], dtype=float32),\n",
       " 'working': array([2271.], dtype=float32),\n",
       " 'media': array([2267.], dtype=float32),\n",
       " 'election': array([2266.], dtype=float32),\n",
       " 'australian': array([2260.], dtype=float32),\n",
       " 'me': array([2256.], dtype=float32),\n",
       " 'thomas': array([2255.], dtype=float32),\n",
       " 'allowed': array([2252.], dtype=float32),\n",
       " 'russia': array([2251.], dtype=float32),\n",
       " 'earlier': array([2249.], dtype=float32),\n",
       " 'greater': array([2249.], dtype=float32),\n",
       " 'limited': array([2248.], dtype=float32),\n",
       " 'object': array([2243.], dtype=float32),\n",
       " 'brought': array([2241.], dtype=float32),\n",
       " 'online': array([2236.], dtype=float32),\n",
       " 'association': array([2231.], dtype=float32),\n",
       " 'lord': array([2231.], dtype=float32),\n",
       " 'mostly': array([2227.], dtype=float32),\n",
       " 'blue': array([2223.], dtype=float32),\n",
       " 'across': array([2222.], dtype=float32),\n",
       " 'constitution': array([2222.], dtype=float32),\n",
       " 'added': array([2218.], dtype=float32),\n",
       " 'interest': array([2217.], dtype=float32),\n",
       " 'things': array([2216.], dtype=float32),\n",
       " 'relations': array([2215.], dtype=float32),\n",
       " 'speed': array([2206.], dtype=float32),\n",
       " 'federal': array([2200.], dtype=float32),\n",
       " 'singer': array([2195.], dtype=float32),\n",
       " 'effects': array([2194.], dtype=float32),\n",
       " 'growth': array([2193.], dtype=float32),\n",
       " 'sources': array([2192.], dtype=float32),\n",
       " 'your': array([2189.], dtype=float32),\n",
       " 'remains': array([2183.], dtype=float32),\n",
       " 'z': array([2182.], dtype=float32),\n",
       " 'gave': array([2178.], dtype=float32),\n",
       " 'probably': array([2178.], dtype=float32),\n",
       " 'simple': array([2177.], dtype=float32),\n",
       " 'attack': array([2175.], dtype=float32),\n",
       " 'longer': array([2174.], dtype=float32),\n",
       " 'reference': array([2171.], dtype=float32),\n",
       " 'saint': array([2168.], dtype=float32),\n",
       " 'success': array([2164.], dtype=float32),\n",
       " 'killed': array([2163.], dtype=float32),\n",
       " 'career': array([2162.], dtype=float32),\n",
       " 'past': array([2162.], dtype=float32),\n",
       " 'need': array([2159.], dtype=float32),\n",
       " 'park': array([2156.], dtype=float32),\n",
       " 'definition': array([2147.], dtype=float32),\n",
       " 'say': array([2139.], dtype=float32),\n",
       " 'etc': array([2137.], dtype=float32),\n",
       " 'give': array([2133.], dtype=float32),\n",
       " 'peace': array([2133.], dtype=float32),\n",
       " 'chief': array([2130.], dtype=float32),\n",
       " 'stories': array([2128.], dtype=float32),\n",
       " 'security': array([2126.], dtype=float32),\n",
       " 'wide': array([2125.], dtype=float32),\n",
       " 'ball': array([2124.], dtype=float32),\n",
       " 'saw': array([2119.], dtype=float32),\n",
       " 'machine': array([2117.], dtype=float32),\n",
       " 'better': array([2116.], dtype=float32),\n",
       " 'cell': array([2115.], dtype=float32),\n",
       " 'leading': array([2114.], dtype=float32),\n",
       " 'becomes': array([2111.], dtype=float32),\n",
       " 'larger': array([2109.], dtype=float32),\n",
       " 'spain': array([2109.], dtype=float32),\n",
       " 'night': array([2108.], dtype=float32),\n",
       " 'parties': array([2108.], dtype=float32),\n",
       " 'products': array([2108.], dtype=float32),\n",
       " 'remained': array([2105.], dtype=float32),\n",
       " 'prize': array([2103.], dtype=float32),\n",
       " 'big': array([2102.], dtype=float32),\n",
       " 'months': array([2102.], dtype=float32),\n",
       " 'website': array([2102.], dtype=float32),\n",
       " 'cultural': array([2101.], dtype=float32),\n",
       " 'money': array([2101.], dtype=float32),\n",
       " 'help': array([2099.], dtype=float32),\n",
       " 'territory': array([2099.], dtype=float32),\n",
       " 'moved': array([2098.], dtype=float32),\n",
       " 'private': array([2098.], dtype=float32),\n",
       " 'letter': array([2093.], dtype=float32),\n",
       " 'wife': array([2093.], dtype=float32),\n",
       " 'lines': array([2090.], dtype=float32),\n",
       " 'politics': array([2090.], dtype=float32),\n",
       " 'largely': array([2089.], dtype=float32),\n",
       " 'contains': array([2086.], dtype=float32),\n",
       " 'companies': array([2084.], dtype=float32),\n",
       " 'lake': array([2080.], dtype=float32),\n",
       " 'perhaps': array([2079.], dtype=float32),\n",
       " 'green': array([2074.], dtype=float32),\n",
       " 'already': array([2070.], dtype=float32),\n",
       " 'dead': array([2069.], dtype=float32),\n",
       " 'iii': array([2069.], dtype=float32),\n",
       " 'library': array([2068.], dtype=float32),\n",
       " 'separate': array([2067.], dtype=float32),\n",
       " 'refer': array([2066.], dtype=float32),\n",
       " 'makes': array([2065.], dtype=float32),\n",
       " 'appeared': array([2064.], dtype=float32),\n",
       " 'dutch': array([2060.], dtype=float32),\n",
       " 'holy': array([2059.], dtype=float32),\n",
       " 'era': array([2057.], dtype=float32),\n",
       " 'novel': array([2054.], dtype=float32),\n",
       " 'successful': array([2052.], dtype=float32),\n",
       " 'italy': array([2050.], dtype=float32),\n",
       " 'letters': array([2049.], dtype=float32),\n",
       " 'results': array([2048.], dtype=float32),\n",
       " 'matter': array([2045.], dtype=float32),\n",
       " 'produce': array([2042.], dtype=float32),\n",
       " 'origin': array([2041.], dtype=float32),\n",
       " 'claim': array([2039.], dtype=float32),\n",
       " 'whole': array([2034.], dtype=float32),\n",
       " 'attempt': array([2033.], dtype=float32),\n",
       " 'directly': array([2033.], dtype=float32),\n",
       " 'actress': array([2031.], dtype=float32),\n",
       " 'surface': array([2030.], dtype=float32),\n",
       " 'revolution': array([2029.], dtype=float32),\n",
       " 'highly': array([2026.], dtype=float32),\n",
       " 'caused': array([2025.], dtype=float32),\n",
       " 'status': array([2024.], dtype=float32),\n",
       " 'musical': array([2022.], dtype=float32),\n",
       " 'richard': array([2021.], dtype=float32),\n",
       " 'commercial': array([2020.], dtype=float32),\n",
       " 'division': array([2018.], dtype=float32),\n",
       " 'color': array([2017.], dtype=float32),\n",
       " 'coast': array([2013.], dtype=float32),\n",
       " 'health': array([2013.], dtype=float32),\n",
       " 'release': array([2013.], dtype=float32),\n",
       " 'latter': array([2012.], dtype=float32),\n",
       " 'authority': array([2009.], dtype=float32),\n",
       " 'treaty': array([2007.], dtype=float32),\n",
       " 'turn': array([2005.], dtype=float32),\n",
       " 'michael': array([2000.], dtype=float32),\n",
       " 'nation': array([1995.], dtype=float32),\n",
       " 'direct': array([1994.], dtype=float32),\n",
       " 'asia': array([1992.], dtype=float32),\n",
       " 'edition': array([1990.], dtype=float32),\n",
       " 'programming': array([1989.], dtype=float32),\n",
       " 'playing': array([1981.], dtype=float32),\n",
       " 'date': array([1980.], dtype=float32),\n",
       " 'mary': array([1977.], dtype=float32),\n",
       " 'native': array([1977.], dtype=float32),\n",
       " 'whom': array([1977.], dtype=float32),\n",
       " 'married': array([1973.], dtype=float32),\n",
       " 'towards': array([1971.], dtype=float32),\n",
       " 'issues': array([1967.], dtype=float32),\n",
       " 'double': array([1966.], dtype=float32),\n",
       " 'basis': array([1959.], dtype=float32),\n",
       " 'primary': array([1959.], dtype=float32),\n",
       " 'allow': array([1958.], dtype=float32),\n",
       " 'enough': array([1958.], dtype=float32),\n",
       " 'memory': array([1957.], dtype=float32),\n",
       " 'reason': array([1954.], dtype=float32),\n",
       " 'web': array([1952.], dtype=float32),\n",
       " 'exist': array([1950.], dtype=float32),\n",
       " 'provided': array([1948.], dtype=float32),\n",
       " 'course': array([1945.], dtype=float32),\n",
       " 'functions': array([1945.], dtype=float32),\n",
       " 'oil': array([1945.], dtype=float32),\n",
       " 'alexander': array([1944.], dtype=float32),\n",
       " 'analysis': array([1944.], dtype=float32),\n",
       " 'chemical': array([1944.], dtype=float32),\n",
       " 'mid': array([1941.], dtype=float32),\n",
       " 'replaced': array([1941.], dtype=float32),\n",
       " 'queen': array([1940.], dtype=float32),\n",
       " 'claims': array([1938.], dtype=float32),\n",
       " 'sun': array([1938.], dtype=float32),\n",
       " 'tv': array([1938.], dtype=float32),\n",
       " 'literature': array([1936.], dtype=float32),\n",
       " 'metal': array([1935.], dtype=float32),\n",
       " 'amount': array([1934.], dtype=float32),\n",
       " 'divided': array([1930.], dtype=float32),\n",
       " 'blood': array([1927.], dtype=float32),\n",
       " 'likely': array([1926.], dtype=float32),\n",
       " 'access': array([1924.], dtype=float32),\n",
       " 'average': array([1924.], dtype=float32),\n",
       " 'length': array([1922.], dtype=float32),\n",
       " 'smaller': array([1921.], dtype=float32),\n",
       " 'medical': array([1919.], dtype=float32),\n",
       " 'property': array([1918.], dtype=float32),\n",
       " 'students': array([1916.], dtype=float32),\n",
       " 'degree': array([1915.], dtype=float32),\n",
       " 'elections': array([1914.], dtype=float32),\n",
       " 'club': array([1913.], dtype=float32),\n",
       " 'claimed': array([1912.], dtype=float32),\n",
       " 'performance': array([1911.], dtype=float32),\n",
       " 'director': array([1907.], dtype=float32),\n",
       " 'digital': array([1905.], dtype=float32),\n",
       " 'front': array([1904.], dtype=float32),\n",
       " 'museum': array([1904.], dtype=float32),\n",
       " 'difficult': array([1903.], dtype=float32),\n",
       " 'tradition': array([1903.], dtype=float32),\n",
       " 'nearly': array([1902.], dtype=float32),\n",
       " 'schools': array([1900.], dtype=float32),\n",
       " 'washington': array([1899.], dtype=float32),\n",
       " 'gas': array([1897.], dtype=float32),\n",
       " 'jesus': array([1896.], dtype=float32),\n",
       " 'map': array([1896.], dtype=float32),\n",
       " 'louis': array([1895.], dtype=float32),\n",
       " 'rome': array([1895.], dtype=float32),\n",
       " 'unit': array([1892.], dtype=float32),\n",
       " 'baseball': array([1890.], dtype=float32),\n",
       " 'mind': array([1888.], dtype=float32),\n",
       " 'mark': array([1887.], dtype=float32),\n",
       " 'peter': array([1887.], dtype=float32),\n",
       " 'collection': array([1883.], dtype=float32),\n",
       " 'product': array([1881.], dtype=float32),\n",
       " 'congress': array([1880.], dtype=float32),\n",
       " 'programs': array([1872.], dtype=float32),\n",
       " 'changed': array([1871.], dtype=float32),\n",
       " 'ideas': array([1870.], dtype=float32),\n",
       " 'moon': array([1868.], dtype=float32),\n",
       " 'entire': array([1866.], dtype=float32),\n",
       " 'user': array([1865.], dtype=float32),\n",
       " 'ground': array([1864.], dtype=float32),\n",
       " 'records': array([1862.], dtype=float32),\n",
       " 'frequently': array([1861.], dtype=float32),\n",
       " 'increase': array([1860.], dtype=float32),\n",
       " 'highest': array([1859.], dtype=float32),\n",
       " 'finally': array([1858.], dtype=float32),\n",
       " 'sent': array([1858.], dtype=float32),\n",
       " 'board': array([1857.], dtype=float32),\n",
       " 'don': array([1856.], dtype=float32),\n",
       " 'notable': array([1854.], dtype=float32),\n",
       " 'methods': array([1852.], dtype=float32),\n",
       " 'read': array([1852.], dtype=float32),\n",
       " 'recently': array([1851.], dtype=float32),\n",
       " 'bit': array([1849.], dtype=float32),\n",
       " 'involved': array([1843.], dtype=float32),\n",
       " 'variety': array([1843.], dtype=float32),\n",
       " 'call': array([1842.], dtype=float32),\n",
       " 'democratic': array([1841.], dtype=float32),\n",
       " 'ten': array([1840.], dtype=float32),\n",
       " 'served': array([1836.], dtype=float32),\n",
       " 'minor': array([1830.], dtype=float32),\n",
       " 'hard': array([1828.], dtype=float32),\n",
       " 'birth': array([1823.], dtype=float32),\n",
       " 'objects': array([1823.], dtype=float32),\n",
       " 'increased': array([1819.], dtype=float32),\n",
       " 'nuclear': array([1819.], dtype=float32),\n",
       " 'section': array([1813.], dtype=float32),\n",
       " 'street': array([1812.], dtype=float32),\n",
       " 'windows': array([1811.], dtype=float32),\n",
       " 'relatively': array([1810.], dtype=float32),\n",
       " 'car': array([1809.], dtype=float32),\n",
       " 'move': array([1808.], dtype=float32),\n",
       " 'create': array([1807.], dtype=float32),\n",
       " 'returned': array([1807.], dtype=float32),\n",
       " 'bank': array([1806.], dtype=float32),\n",
       " 'conditions': array([1805.], dtype=float32),\n",
       " 'operation': array([1802.], dtype=float32),\n",
       " 'adopted': array([1801.], dtype=float32),\n",
       " 'relationship': array([1801.], dtype=float32),\n",
       " 'christ': array([1800.], dtype=float32),\n",
       " 'hall': array([1797.], dtype=float32),\n",
       " 'appear': array([1794.], dtype=float32),\n",
       " 'rest': array([1790.], dtype=float32),\n",
       " 'child': array([1789.], dtype=float32),\n",
       " 'element': array([1787.], dtype=float32),\n",
       " 'appears': array([1786.], dtype=float32),\n",
       " 'fall': array([1783.], dtype=float32),\n",
       " 'takes': array([1783.], dtype=float32),\n",
       " ...}"
      ]
     },
     "execution_count": 183,
     "metadata": {},
     "output_type": "execute_result"
    }
   ],
   "source": [
    "embeddings_index"
   ]
  },
  {
   "cell_type": "code",
   "execution_count": 184,
   "metadata": {},
   "outputs": [
    {
     "data": {
      "text/plain": [
       "71290"
      ]
     },
     "execution_count": 184,
     "metadata": {},
     "output_type": "execute_result"
    }
   ],
   "source": [
    "len(embeddings_index)"
   ]
  },
  {
   "cell_type": "code",
   "execution_count": 185,
   "metadata": {},
   "outputs": [],
   "source": [
    "#building the embedding matrix which we will use as a layer in our model:\n",
    "\n",
    "embedding_dim = 100\n",
    "embedding_matrix = np.zeros((max_words, embedding_dim))"
   ]
  },
  {
   "cell_type": "code",
   "execution_count": 186,
   "metadata": {},
   "outputs": [],
   "source": [
    "for word, i, in word_index.items():\n",
    "    if i < max_words:\n",
    "        embedding_vector = embeddings_index.get(word)\n",
    "        if embedding_vector is not None:\n",
    "            embedding_matrix[i] = embedding_vector"
   ]
  },
  {
   "cell_type": "code",
   "execution_count": 187,
   "metadata": {},
   "outputs": [
    {
     "data": {
      "text/plain": [
       "array([16.], dtype=float32)"
      ]
     },
     "execution_count": 187,
     "metadata": {},
     "output_type": "execute_result"
    }
   ],
   "source": [
    "embedding_vector"
   ]
  },
  {
   "cell_type": "code",
   "execution_count": 188,
   "metadata": {},
   "outputs": [
    {
     "data": {
      "text/plain": [
       "(10000, 100)"
      ]
     },
     "execution_count": 188,
     "metadata": {},
     "output_type": "execute_result"
    }
   ],
   "source": [
    "embedding_matrix.shape"
   ]
  },
  {
   "cell_type": "code",
   "execution_count": 189,
   "metadata": {},
   "outputs": [],
   "source": [
    "model = Sequential()"
   ]
  },
  {
   "cell_type": "code",
   "execution_count": 190,
   "metadata": {},
   "outputs": [],
   "source": [
    "#NB: we are adding the embedding layers exactly the same way we added it earlier when we wanted to train it as part of the model\n",
    "model.add(Embedding(max_words, embedding_dim, input_length=maxlen))"
   ]
  },
  {
   "cell_type": "code",
   "execution_count": 191,
   "metadata": {},
   "outputs": [],
   "source": [
    "model.add(Flatten())"
   ]
  },
  {
   "cell_type": "code",
   "execution_count": 192,
   "metadata": {},
   "outputs": [],
   "source": [
    "model.add(Dense(32, activation='relu'))"
   ]
  },
  {
   "cell_type": "code",
   "execution_count": 193,
   "metadata": {},
   "outputs": [],
   "source": [
    "model.add(Dense(1, activation='sigmoid'))"
   ]
  },
  {
   "cell_type": "code",
   "execution_count": 194,
   "metadata": {},
   "outputs": [
    {
     "name": "stdout",
     "output_type": "stream",
     "text": [
      "_________________________________________________________________\n",
      "Layer (type)                 Output Shape              Param #   \n",
      "=================================================================\n",
      "embedding_4 (Embedding)      (None, 100, 100)          1000000   \n",
      "_________________________________________________________________\n",
      "flatten_3 (Flatten)          (None, 10000)             0         \n",
      "_________________________________________________________________\n",
      "dense_5 (Dense)              (None, 32)                320032    \n",
      "_________________________________________________________________\n",
      "dense_6 (Dense)              (None, 1)                 33        \n",
      "=================================================================\n",
      "Total params: 1,320,065\n",
      "Trainable params: 1,320,065\n",
      "Non-trainable params: 0\n",
      "_________________________________________________________________\n"
     ]
    }
   ],
   "source": [
    "model.summary()"
   ]
  },
  {
   "cell_type": "code",
   "execution_count": 195,
   "metadata": {},
   "outputs": [],
   "source": [
    "#Now we are actually setting the Embedding layer to the matrix we created earlier:\n",
    "model.layers[0].set_weights([embedding_matrix])\n",
    "#With the following setting we are freezing the embedding so it does not get updated with the model as it learns:\n",
    "model.layers[0].trainable = False"
   ]
  },
  {
   "cell_type": "code",
   "execution_count": 196,
   "metadata": {},
   "outputs": [
    {
     "data": {
      "text/plain": [
       "array([[0.000000e+00, 0.000000e+00, 0.000000e+00, ..., 0.000000e+00,\n",
       "        0.000000e+00, 0.000000e+00],\n",
       "       [1.061396e+06, 1.061396e+06, 1.061396e+06, ..., 1.061396e+06,\n",
       "        1.061396e+06, 1.061396e+06],\n",
       "       [4.166290e+05, 4.166290e+05, 4.166290e+05, ..., 4.166290e+05,\n",
       "        4.166290e+05, 4.166290e+05],\n",
       "       ...,\n",
       "       [7.500000e+01, 7.500000e+01, 7.500000e+01, ..., 7.500000e+01,\n",
       "        7.500000e+01, 7.500000e+01],\n",
       "       [0.000000e+00, 0.000000e+00, 0.000000e+00, ..., 0.000000e+00,\n",
       "        0.000000e+00, 0.000000e+00],\n",
       "       [1.600000e+01, 1.600000e+01, 1.600000e+01, ..., 1.600000e+01,\n",
       "        1.600000e+01, 1.600000e+01]])"
      ]
     },
     "execution_count": 196,
     "metadata": {},
     "output_type": "execute_result"
    }
   ],
   "source": [
    "embedding_matrix"
   ]
  },
  {
   "cell_type": "code",
   "execution_count": 200,
   "metadata": {},
   "outputs": [],
   "source": [
    "model.compile(optimizer='rmsprop', loss='binary_crossentropy', metrics=['acc'])"
   ]
  },
  {
   "cell_type": "code",
   "execution_count": 201,
   "metadata": {},
   "outputs": [
    {
     "data": {
      "text/plain": [
       "(200, 100)"
      ]
     },
     "execution_count": 201,
     "metadata": {},
     "output_type": "execute_result"
    }
   ],
   "source": [
    "x_train.shape"
   ]
  },
  {
   "cell_type": "code",
   "execution_count": 202,
   "metadata": {},
   "outputs": [
    {
     "name": "stdout",
     "output_type": "stream",
     "text": [
      "Train on 200 samples, validate on 10000 samples\n",
      "Epoch 1/10\n",
      "200/200 [==============================] - 1s 6ms/step - loss: 7.6761 - acc: 0.5200 - val_loss: 8.1627 - val_acc: 0.4894\n",
      "Epoch 2/10\n",
      "200/200 [==============================] - 1s 3ms/step - loss: 7.6761 - acc: 0.5200 - val_loss: 8.1627 - val_acc: 0.4894\n",
      "Epoch 3/10\n",
      "200/200 [==============================] - 1s 3ms/step - loss: 7.6761 - acc: 0.5200 - val_loss: 8.1627 - val_acc: 0.4894\n",
      "Epoch 4/10\n",
      "200/200 [==============================] - 1s 3ms/step - loss: 7.6761 - acc: 0.5200 - val_loss: 8.1627 - val_acc: 0.4894\n",
      "Epoch 5/10\n",
      "200/200 [==============================] - 1s 3ms/step - loss: 7.6761 - acc: 0.5200 - val_loss: 8.1627 - val_acc: 0.4894\n",
      "Epoch 6/10\n",
      "200/200 [==============================] - 1s 4ms/step - loss: 7.6761 - acc: 0.5200 - val_loss: 8.1627 - val_acc: 0.4894\n",
      "Epoch 7/10\n",
      "200/200 [==============================] - 1s 3ms/step - loss: 7.6761 - acc: 0.5200 - val_loss: 8.1627 - val_acc: 0.4894\n",
      "Epoch 8/10\n",
      "200/200 [==============================] - 1s 3ms/step - loss: 7.6761 - acc: 0.5200 - val_loss: 8.1627 - val_acc: 0.4894\n",
      "Epoch 9/10\n",
      "200/200 [==============================] - 1s 5ms/step - loss: 7.6761 - acc: 0.5200 - val_loss: 8.1627 - val_acc: 0.4894\n",
      "Epoch 10/10\n",
      "200/200 [==============================] - 1s 3ms/step - loss: 7.6761 - acc: 0.5200 - val_loss: 8.1627 - val_acc: 0.4894\n"
     ]
    }
   ],
   "source": [
    "history = model.fit(x_train, y_train, epochs=10, batch_size = 32, validation_data=(x_val, y_val))"
   ]
  },
  {
   "cell_type": "code",
   "execution_count": 203,
   "metadata": {},
   "outputs": [],
   "source": [
    "model.save_weights('pretrained_glove_model.h5')"
   ]
  },
  {
   "cell_type": "code",
   "execution_count": 205,
   "metadata": {},
   "outputs": [],
   "source": [
    "import matplotlib.pyplot as plt"
   ]
  },
  {
   "cell_type": "code",
   "execution_count": 206,
   "metadata": {},
   "outputs": [
    {
     "data": {
      "image/png": "[encoded data removed]",
      "text/plain": [
       "<Figure size 432x288 with 1 Axes>"
      ]
     },
     "metadata": {
      "needs_background": "light"
     },
     "output_type": "display_data"
    },
    {
     "data": {
      "image/png": "[encoded data removed]",
      "text/plain": [
       "<Figure size 432x288 with 1 Axes>"
      ]
     },
     "metadata": {
      "needs_background": "light"
     },
     "output_type": "display_data"
    }
   ],
   "source": [
    "acc = history.history['acc']\n",
    "val_acc = history.history['val_acc']\n",
    "loss = history.history['loss']\n",
    "val_loss = history.history['val_loss']\n",
    "\n",
    "epochs = range(1, len(acc) + 1)\n",
    "\n",
    "plt.plot(epochs, acc, 'bo', label='Training acc')\n",
    "plt.plot(epochs, val_acc, 'b', label='Validation acc')\n",
    "plt.title('Training and validation accuracy')\n",
    "plt.legend()\n",
    "\n",
    "plt.figure()\n",
    "\n",
    "plt.plot(epochs, loss, 'bo', label='Training loss')\n",
    "plt.plot(epochs, val_loss, 'b', label='Validation loss')\n",
    "plt.title('Training and validation loss')\n",
    "plt.legend()\n",
    "\n",
    "plt.show()"
   ]
  },
  {
   "cell_type": "code",
   "execution_count": 207,
   "metadata": {},
   "outputs": [],
   "source": [
    "#Evaluating on the test set\n",
    "test_dir = os.path.join(imdb_dir, 'test')"
   ]
  },
  {
   "cell_type": "code",
   "execution_count": 208,
   "metadata": {},
   "outputs": [],
   "source": [
    "labels = []\n",
    "texts = []"
   ]
  },
  {
   "cell_type": "code",
   "execution_count": 209,
   "metadata": {},
   "outputs": [],
   "source": [
    "for label_type in ['neg', 'pos']:\n",
    "    \n",
    "    dir_name = os.path.join(test_dir, label_type)\n",
    "\n",
    "    for fname in os.listdir(dir_name):\n",
    "        \n",
    "        if fname[-4:] == '.txt':\n",
    "            f = open(os.path.join(dir_name, fname))\n",
    "            texts.append(f.read())\n",
    "            f.close()\n",
    "            \n",
    "            if label_type == 'neg':\n",
    "                labels.append(0)\n",
    "            else:\n",
    "                labels.append(1)"
   ]
  },
  {
   "cell_type": "code",
   "execution_count": 210,
   "metadata": {},
   "outputs": [],
   "source": [
    "sequences = tokenizer.texts_to_sequences(texts)"
   ]
  },
  {
   "cell_type": "code",
   "execution_count": 211,
   "metadata": {},
   "outputs": [],
   "source": [
    "x_test = pad_sequences(sequences, maxlen=maxlen)"
   ]
  },
  {
   "cell_type": "code",
   "execution_count": 212,
   "metadata": {},
   "outputs": [],
   "source": [
    "y_test = np.asarray(labels)"
   ]
  },
  {
   "cell_type": "code",
   "execution_count": 214,
   "metadata": {},
   "outputs": [
    {
     "name": "stdout",
     "output_type": "stream",
     "text": [
      "25000/25000 [==============================] - 2s 70us/step\n"
     ]
    },
    {
     "data": {
      "text/plain": [
       "[8.08484589767456, 0.49428]"
      ]
     },
     "execution_count": 214,
     "metadata": {},
     "output_type": "execute_result"
    }
   ],
   "source": [
    "#Loading the pretrained model:\n",
    "model.load_weights('pretrained_glove_model.h5')\n",
    "model.evaluate(x_test, y_test)"
   ]
  },
  {
   "cell_type": "markdown",
   "metadata": {},
   "source": [
    "The accuracy is very low, but we only used a small training set. "
   ]
  },
  {
   "cell_type": "code",
   "execution_count": null,
   "metadata": {},
   "outputs": [],
   "source": []
  }
 ],
 "metadata": {
  "kernelspec": {
   "display_name": "py36",
   "language": "python",
   "name": "py36"
  },
  "language_info": {
   "codemirror_mode": {
    "name": "ipython",
    "version": 3
   },
   "file_extension": ".py",
   "mimetype": "text/x-python",
   "name": "python",
   "nbconvert_exporter": "python",
   "pygments_lexer": "ipython3",
   "version": "3.6.7"
  }
 },
 "nbformat": 4,
 "nbformat_minor": 2
}
