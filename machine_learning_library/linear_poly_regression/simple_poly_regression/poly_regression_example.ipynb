{
 "cells": [
  {
   "cell_type": "markdown",
   "metadata": {},
   "source": [
    "# Polynomial Regression Example"
   ]
  },
  {
   "cell_type": "markdown",
   "metadata": {},
   "source": [
    "Notebook to demonstrate Polynomial Regression"
   ]
  },
  {
   "cell_type": "markdown",
   "metadata": {},
   "source": [
    "Dataset source: https://archive.ics.uci.edu/ml/machine-learning-databases/00242/ \n",
    "Metadata:  https://archive.ics.uci.edu/ml/datasets/Energy+efficiency"
   ]
  },
  {
   "cell_type": "markdown",
   "metadata": {},
   "source": [
    "Both Y1 and Y2 can be used as target variables"
   ]
  },
  {
   "cell_type": "code",
   "execution_count": 17,
   "metadata": {
    "collapsed": true
   },
   "outputs": [],
   "source": [
    "import pandas as pd\n",
    "import numpy as np\n",
    "from sklearn.linear_model import LinearRegression, Ridge\n",
    "from sklearn.preprocessing import PolynomialFeatures \n",
    "from sklearn.model_selection import train_test_split"
   ]
  },
  {
   "cell_type": "markdown",
   "metadata": {},
   "source": [
    "Note: in sklearn you modify the original data by adding polynomial (and optionally interaction) features and fit those to a linear model "
   ]
  },
  {
   "cell_type": "markdown",
   "metadata": {},
   "source": [
    "Note: no need to explore data, already done in other notebooks and this is ready as is"
   ]
  },
  {
   "cell_type": "code",
   "execution_count": null,
   "metadata": {},
   "outputs": [],
   "source": [
    "enb = pd.read_excel('ENB2012_data.xlsx')\n",
    "#Select df columns with regex:\n",
    "X = enb.filter(regex=(\"X.*\"))\n",
    "y = enb.filter(regex=(\"Y1\"))"
   ]
  },
  {
   "cell_type": "code",
   "execution_count": 6,
   "metadata": {
    "collapsed": true
   },
   "outputs": [],
   "source": [
    "poly = PolynomialFeatures(degree=2)"
   ]
  },
  {
   "cell_type": "code",
   "execution_count": 8,
   "metadata": {},
   "outputs": [],
   "source": [
    "X_poly = poly.fit_transform(X)"
   ]
  },
  {
   "cell_type": "code",
   "execution_count": 9,
   "metadata": {
    "collapsed": true
   },
   "outputs": [],
   "source": [
    "X_train, X_test, y_train, y_test = train_test_split(X_poly,y)"
   ]
  },
  {
   "cell_type": "code",
   "execution_count": 10,
   "metadata": {
    "collapsed": true
   },
   "outputs": [],
   "source": [
    "regressor = LinearRegression().fit(X_train, y_train)"
   ]
  },
  {
   "cell_type": "code",
   "execution_count": 14,
   "metadata": {},
   "outputs": [
    {
     "name": "stdout",
     "output_type": "stream",
     "text": [
      "(poly deg 2) linear model coeff (w):\n",
      "[[-3.92564239e+07  3.95972358e+06  2.30953045e+05 -2.25517384e+05\n",
      "  -4.39516047e+05 -8.48258380e+05  2.73540051e+00  4.99223593e+00\n",
      "  -1.54350692e+00 -1.73532419e+05 -2.77698145e+04  2.74220116e+04\n",
      "   4.30246638e+04 -2.45497103e+05 -1.34953689e+00  4.44865147e+01\n",
      "   1.82529540e+00  4.32266177e+07 -5.10069068e+07 -8.73159434e+07\n",
      "   7.40787193e+04 -1.18745133e+05 -8.85632601e+03  6.68053852e+04\n",
      "   7.78028886e+06  1.64232685e+07 -7.44291600e+04  1.18745132e+05\n",
      "   8.85638241e+03 -6.68053836e+04  1.72537245e+06 -1.47281898e+05\n",
      "   2.37490261e+05  1.77125593e+04 -1.33610767e+05  8.57659406e+04\n",
      "  -9.14943473e-02 -1.81209796e+00  2.70193773e-02  3.63729832e-03\n",
      "  -3.77306157e-02  1.96225307e-02 -1.58078286e+01 -1.75292101e+00\n",
      "  -1.20909621e-01]\n",
      " [ 1.68032205e+08 -3.64622723e+07 -2.13525461e+06  2.08285609e+06\n",
      "   4.04455242e+06  7.81723618e+06 -1.30584487e+00  1.10676344e+02\n",
      "  -2.62918909e+00 -2.45416966e+05  2.58641825e+05 -2.59135444e+05\n",
      "  -3.91909581e+05  2.65712886e+06 -1.79796539e+00 -6.02524402e+00\n",
      "   2.07271161e+00 -3.98351392e+08  4.70050015e+08  8.04653027e+08\n",
      "  -6.83178717e+05  1.09428616e+06  8.16144552e+04 -6.15639613e+05\n",
      "  -7.16986230e+07 -1.51347309e+08  6.86974928e+05 -1.09428616e+06\n",
      "  -8.16144788e+04  6.15639614e+05 -1.59000224e+07  1.35646878e+06\n",
      "  -2.18857232e+06 -1.63229207e+05  1.23127923e+06 -7.88482920e+05\n",
      "   3.00748585e-01 -4.74631149e+00 -9.04272258e-03  1.18014173e-01\n",
      "   5.32713731e-01  9.13596804e-02 -1.10698249e+01 -1.45537410e+00\n",
      "  -1.45430480e-02]]\n",
      "(poly deg 2) linear model intercept (b): [ 3.75042592e+07 -1.51086254e+08]\n"
     ]
    }
   ],
   "source": [
    "print('(poly deg 2) linear model coeff (w):\\n{}'.format(regressor.coef_))\n",
    "print('(poly deg 2) linear model intercept (b): {}'.format(regressor.intercept_))"
   ]
  },
  {
   "cell_type": "code",
   "execution_count": 15,
   "metadata": {},
   "outputs": [
    {
     "name": "stdout",
     "output_type": "stream",
     "text": [
      "(poly deg 2) R-squared score (training): 0.9847802269841436\n",
      "(poly deg 2) R-squared score (test): 0.9810493522210394\n",
      "\n"
     ]
    }
   ],
   "source": [
    "print('(poly deg 2) R-squared score (training): {}'\n",
    "     .format(regressor.score(X_train, y_train)))\n",
    "print('(poly deg 2) R-squared score (test): {}\\n'\n",
    "     .format(regressor.score(X_test, y_test)))"
   ]
  },
  {
   "cell_type": "markdown",
   "metadata": {},
   "source": [
    "Frequently, polynomial features are used in conjunction with regularization to avoid overfitting"
   ]
  },
  {
   "cell_type": "code",
   "execution_count": 18,
   "metadata": {},
   "outputs": [],
   "source": [
    "regressor_reg = Ridge().fit(X_train, y_train)"
   ]
  },
  {
   "cell_type": "code",
   "execution_count": 19,
   "metadata": {},
   "outputs": [
    {
     "name": "stdout",
     "output_type": "stream",
     "text": [
      "(poly deg 2) linear model coeff (w):\n",
      "[[ 0.00000000e+00  2.13203534e-01  1.80864755e+00 -7.86433017e+00\n",
      "   4.83648885e+00 -1.53826042e-01 -6.11920942e-01  8.40085906e-01\n",
      "   3.65262156e-02  6.41232910e-01 -6.47595628e-01  4.87816609e+00\n",
      "  -2.76288086e+00  3.34596126e+00 -3.70560022e-01  1.61435836e+00\n",
      "   9.05600337e-01 -1.05367627e-03  4.47814300e-03 -2.75442446e-03\n",
      "   3.29058713e-03  1.13242903e-03  3.75864138e-03  7.73980049e-04\n",
      "   2.49216762e-04  2.10677813e-03  1.29731358e-01 -1.97231879e-03\n",
      "   3.15416614e-02 -1.14721431e-03 -2.43275704e-03 -6.32203836e-02\n",
      "   1.55238186e-03 -1.38915102e-02  9.60564541e-04 -1.61517344e+00\n",
      "   1.40247391e-01  2.55976836e+00  8.69946516e-02 -1.27564875e-02\n",
      "  -1.21705179e-01 -2.43405901e-02 -7.15316241e-01 -2.14993462e+00\n",
      "  -1.42497417e-01]\n",
      " [ 0.00000000e+00  2.37645929e-01  1.55235278e+00 -6.15957402e+00\n",
      "   3.85596339e+00 -1.22768083e-01 -1.49246590e+00  8.86803420e-01\n",
      "  -7.02361538e-02  7.11891003e-01 -4.32188429e-01  3.62977690e+00\n",
      "  -2.03098267e+00  3.60878728e+00 -1.84495979e+00  1.69440377e+00\n",
      "   7.01474245e-01 -9.39580653e-04  3.91029504e-03 -2.41509070e-03\n",
      "  -1.28288316e-02  1.92654587e-03  3.37002067e-03 -1.95384207e-04\n",
      "  -5.21621966e-04  2.20999998e-03  1.44408268e-01 -5.64773652e-03\n",
      "   2.76669262e-02 -4.10608502e-04 -2.31430320e-03 -7.86185399e-02\n",
      "   3.78715027e-03 -1.21484528e-02  1.07585008e-04 -1.28906487e+00\n",
      "   4.06928400e-01  1.57232240e+00  1.33443279e-02  1.07643935e-01\n",
      "  -1.69041605e-01  4.72389072e-02 -2.58341187e-01 -1.59734322e+00\n",
      "  -1.95166057e-02]]\n",
      "(poly deg 2) linear model intercept (b): [-389.31770604 -352.71555616]\n"
     ]
    }
   ],
   "source": [
    "print('(poly deg 2) linear model coeff (w):\\n{}'.format(regressor_reg.coef_))\n",
    "print('(poly deg 2) linear model intercept (b): {}'.format(regressor_reg.intercept_))"
   ]
  },
  {
   "cell_type": "code",
   "execution_count": 20,
   "metadata": {},
   "outputs": [
    {
     "name": "stdout",
     "output_type": "stream",
     "text": [
      "(poly deg 2) R-squared score (training): 0.9489003317600034\n",
      "(poly deg 2) R-squared score (test): 0.9417996931889339\n",
      "\n"
     ]
    }
   ],
   "source": [
    "print('(poly deg 2) R-squared score (training): {}'\n",
    "     .format(regressor_reg.score(X_train, y_train)))\n",
    "print('(poly deg 2) R-squared score (test): {}\\n'\n",
    "     .format(regressor_reg.score(X_test, y_test)))"
   ]
  },
  {
   "cell_type": "markdown",
   "metadata": {},
   "source": [
    "In our case, regularization did not help"
   ]
  },
  {
   "cell_type": "code",
   "execution_count": null,
   "metadata": {
    "collapsed": true
   },
   "outputs": [],
   "source": []
  }
 ],
 "metadata": {
  "kernelspec": {
   "display_name": "Python 3",
   "language": "python",
   "name": "python3"
  },
  "language_info": {
   "codemirror_mode": {
    "name": "ipython",
    "version": 3
   },
   "file_extension": ".py",
   "mimetype": "text/x-python",
   "name": "python",
   "nbconvert_exporter": "python",
   "pygments_lexer": "ipython3",
   "version": "3.6.3"
  }
 },
 "nbformat": 4,
 "nbformat_minor": 2
}
