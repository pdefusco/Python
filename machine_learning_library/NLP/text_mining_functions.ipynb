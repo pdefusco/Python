{
 "cells": [
  {
   "cell_type": "markdown",
   "metadata": {},
   "source": [
    "# Practicing Text Functions"
   ]
  },
  {
   "cell_type": "markdown",
   "metadata": {},
   "source": [
    "Text Primitive Constructs\n",
    "\n",
    "- Sentences\n",
    "- Words\n",
    "- Strings\n",
    "- Files"
   ]
  },
  {
   "cell_type": "code",
   "execution_count": 23,
   "metadata": {},
   "outputs": [],
   "source": [
    "text1 = 'Ethics are built right into the ideals and objectives of the United Nations '"
   ]
  },
  {
   "cell_type": "code",
   "execution_count": 24,
   "metadata": {},
   "outputs": [
    {
     "data": {
      "text/plain": [
       "76"
      ]
     },
     "execution_count": 24,
     "metadata": {},
     "output_type": "execute_result"
    }
   ],
   "source": [
    "len(text1)"
   ]
  },
  {
   "cell_type": "code",
   "execution_count": 25,
   "metadata": {},
   "outputs": [],
   "source": [
    "text1 = 'Ethics are built right into the ideals and objectives of the United Nations'"
   ]
  },
  {
   "cell_type": "code",
   "execution_count": 28,
   "metadata": {},
   "outputs": [
    {
     "data": {
      "text/plain": [
       "75"
      ]
     },
     "execution_count": 28,
     "metadata": {},
     "output_type": "execute_result"
    }
   ],
   "source": [
    "#Notice empty space is a character too\n",
    "len(text1)"
   ]
  },
  {
   "cell_type": "code",
   "execution_count": 29,
   "metadata": {},
   "outputs": [],
   "source": [
    "#Splitting text into separate words:\n",
    "text2 = text1.split(' ')"
   ]
  },
  {
   "cell_type": "code",
   "execution_count": 30,
   "metadata": {},
   "outputs": [
    {
     "data": {
      "text/plain": [
       "13"
      ]
     },
     "execution_count": 30,
     "metadata": {},
     "output_type": "execute_result"
    }
   ],
   "source": [
    "len(text2)"
   ]
  },
  {
   "cell_type": "code",
   "execution_count": 31,
   "metadata": {},
   "outputs": [
    {
     "data": {
      "text/plain": [
       "['Ethics',\n",
       " 'built',\n",
       " 'right',\n",
       " 'into',\n",
       " 'ideals',\n",
       " 'objectives',\n",
       " 'United',\n",
       " 'Nations']"
      ]
     },
     "execution_count": 31,
     "metadata": {},
     "output_type": "execute_result"
    }
   ],
   "source": [
    "#words that are longer than 3 characters:\n",
    "[w for w in text2 if len(w) > 3]"
   ]
  },
  {
   "cell_type": "code",
   "execution_count": 32,
   "metadata": {},
   "outputs": [
    {
     "data": {
      "text/plain": [
       "['Ethics', 'United', 'Nations']"
      ]
     },
     "execution_count": 32,
     "metadata": {},
     "output_type": "execute_result"
    }
   ],
   "source": [
    "#capitalized words:\n",
    "[w for w in text2 if w.istitle()]"
   ]
  },
  {
   "cell_type": "code",
   "execution_count": 34,
   "metadata": {},
   "outputs": [
    {
     "data": {
      "text/plain": [
       "['Ethics', 'ideals', 'objectives', 'Nations']"
      ]
     },
     "execution_count": 34,
     "metadata": {},
     "output_type": "execute_result"
    }
   ],
   "source": [
    "#Words that end with s:\n",
    "[w for w in text2 if w.endswith('s')]"
   ]
  },
  {
   "cell_type": "code",
   "execution_count": 35,
   "metadata": {},
   "outputs": [
    {
     "data": {
      "text/plain": [
       "[]"
      ]
     },
     "execution_count": 35,
     "metadata": {},
     "output_type": "execute_result"
    }
   ],
   "source": [
    "#This is different from words that end with S:\n",
    "[w for w in text2 if w.endswith('S')]"
   ]
  },
  {
   "cell_type": "code",
   "execution_count": 36,
   "metadata": {},
   "outputs": [
    {
     "data": {
      "text/plain": [
       "6"
      ]
     },
     "execution_count": 36,
     "metadata": {},
     "output_type": "execute_result"
    }
   ],
   "source": [
    "#Unique words using the set function: set()\n",
    "text3 = 'To be or not to be'\n",
    "text4 = text3.split(' ')\n",
    "len(text4)"
   ]
  },
  {
   "cell_type": "code",
   "execution_count": 38,
   "metadata": {},
   "outputs": [
    {
     "data": {
      "text/plain": [
       "5"
      ]
     },
     "execution_count": 38,
     "metadata": {},
     "output_type": "execute_result"
    }
   ],
   "source": [
    "len(set(text4))"
   ]
  },
  {
   "cell_type": "code",
   "execution_count": 39,
   "metadata": {},
   "outputs": [
    {
     "data": {
      "text/plain": [
       "{'To', 'be', 'not', 'or', 'to'}"
      ]
     },
     "execution_count": 39,
     "metadata": {},
     "output_type": "execute_result"
    }
   ],
   "source": [
    "set(text4)"
   ]
  },
  {
   "cell_type": "code",
   "execution_count": 40,
   "metadata": {},
   "outputs": [],
   "source": [
    "#notice the lower case and upper case 'to' words are treated as two different words:"
   ]
  },
  {
   "cell_type": "markdown",
   "metadata": {},
   "source": [
    "String Functions"
   ]
  },
  {
   "cell_type": "code",
   "execution_count": 43,
   "metadata": {},
   "outputs": [],
   "source": [
    "s = 'This is the sentence'"
   ]
  },
  {
   "cell_type": "code",
   "execution_count": 45,
   "metadata": {},
   "outputs": [
    {
     "data": {
      "text/plain": [
       "'this is the sentence'"
      ]
     },
     "execution_count": 45,
     "metadata": {},
     "output_type": "execute_result"
    }
   ],
   "source": [
    "s.lower()"
   ]
  },
  {
   "cell_type": "code",
   "execution_count": 46,
   "metadata": {},
   "outputs": [
    {
     "data": {
      "text/plain": [
       "'THIS IS THE SENTENCE'"
      ]
     },
     "execution_count": 46,
     "metadata": {},
     "output_type": "execute_result"
    }
   ],
   "source": [
    "s.upper()"
   ]
  },
  {
   "cell_type": "code",
   "execution_count": 47,
   "metadata": {},
   "outputs": [
    {
     "data": {
      "text/plain": [
       "['This', 'is', 'the', 'sentence']"
      ]
     },
     "execution_count": 47,
     "metadata": {},
     "output_type": "execute_result"
    }
   ],
   "source": [
    "s.split(' ')"
   ]
  },
  {
   "cell_type": "code",
   "execution_count": 48,
   "metadata": {},
   "outputs": [
    {
     "data": {
      "text/plain": [
       "['This is the sentence']"
      ]
     },
     "execution_count": 48,
     "metadata": {},
     "output_type": "execute_result"
    }
   ],
   "source": [
    "s.splitlines()"
   ]
  },
  {
   "cell_type": "code",
   "execution_count": 53,
   "metadata": {},
   "outputs": [
    {
     "data": {
      "text/plain": [
       "'eThis is the sentencee'"
      ]
     },
     "execution_count": 53,
     "metadata": {},
     "output_type": "execute_result"
    }
   ],
   "source": [
    "s.join('ee')"
   ]
  },
  {
   "cell_type": "code",
   "execution_count": 54,
   "metadata": {},
   "outputs": [
    {
     "data": {
      "text/plain": [
       "'This is the sentence'"
      ]
     },
     "execution_count": 54,
     "metadata": {},
     "output_type": "execute_result"
    }
   ],
   "source": [
    "#left strip\n",
    "s.strip()"
   ]
  },
  {
   "cell_type": "code",
   "execution_count": 55,
   "metadata": {},
   "outputs": [
    {
     "data": {
      "text/plain": [
       "'This is the sentence'"
      ]
     },
     "execution_count": 55,
     "metadata": {},
     "output_type": "execute_result"
    }
   ],
   "source": [
    "#right strip\n",
    "s.rstrip()"
   ]
  },
  {
   "cell_type": "code",
   "execution_count": 56,
   "metadata": {},
   "outputs": [
    {
     "data": {
      "text/plain": [
       "10"
      ]
     },
     "execution_count": 56,
     "metadata": {},
     "output_type": "execute_result"
    }
   ],
   "source": [
    "s.find('e')"
   ]
  },
  {
   "cell_type": "code",
   "execution_count": 57,
   "metadata": {},
   "outputs": [
    {
     "data": {
      "text/plain": [
       "-1"
      ]
     },
     "execution_count": 57,
     "metadata": {},
     "output_type": "execute_result"
    }
   ],
   "source": [
    "s.rfind('r')"
   ]
  },
  {
   "cell_type": "code",
   "execution_count": 58,
   "metadata": {},
   "outputs": [
    {
     "data": {
      "text/plain": [
       "'this is the sentence'"
      ]
     },
     "execution_count": 58,
     "metadata": {},
     "output_type": "execute_result"
    }
   ],
   "source": [
    "s.replace('T', 't')"
   ]
  },
  {
   "cell_type": "markdown",
   "metadata": {},
   "source": [
    "From words to characters"
   ]
  },
  {
   "cell_type": "code",
   "execution_count": 59,
   "metadata": {},
   "outputs": [],
   "source": [
    "text5 = 'ouagadougou'"
   ]
  },
  {
   "cell_type": "code",
   "execution_count": 60,
   "metadata": {},
   "outputs": [],
   "source": [
    "text6 = text5.split('ou')"
   ]
  },
  {
   "cell_type": "code",
   "execution_count": 62,
   "metadata": {},
   "outputs": [
    {
     "data": {
      "text/plain": [
       "['', 'agad', 'g', '']"
      ]
     },
     "execution_count": 62,
     "metadata": {},
     "output_type": "execute_result"
    }
   ],
   "source": [
    "#the text is split by the string ou which is removed from the word\n",
    "#notice you also get an empty string at both the beginning and end of the list\n",
    "text6"
   ]
  },
  {
   "cell_type": "code",
   "execution_count": 64,
   "metadata": {},
   "outputs": [
    {
     "data": {
      "text/plain": [
       "'ouagadougou'"
      ]
     },
     "execution_count": 64,
     "metadata": {},
     "output_type": "execute_result"
    }
   ],
   "source": [
    "#join all elements in list by 'ou'\n",
    "'ou'.join(text6)"
   ]
  },
  {
   "cell_type": "code",
   "execution_count": 68,
   "metadata": {},
   "outputs": [
    {
     "name": "stdout",
     "output_type": "stream",
     "text": [
      "['o', 'u', 'a', 'g', 'a', 'd', 'o', 'u', 'g', 'o', 'u']\n",
      "['o', 'u', 'a', 'g', 'a', 'd', 'o', 'u', 'g', 'o', 'u']\n"
     ]
    }
   ],
   "source": [
    "#to split a word in a list of its characters, use list comprehension or just the list function:\n",
    "print(list(text5))\n",
    "print([char for char in text5])"
   ]
  },
  {
   "cell_type": "code",
   "execution_count": 69,
   "metadata": {},
   "outputs": [],
   "source": [
    "text8 = '  A quick brown fox jumped over the lazy dog. '"
   ]
  },
  {
   "cell_type": "code",
   "execution_count": 71,
   "metadata": {},
   "outputs": [
    {
     "name": "stdout",
     "output_type": "stream",
     "text": [
      "A quick brown fox jumped over the lazy dog.\n"
     ]
    }
   ],
   "source": [
    "#removes white strings from both beginning and end:\n",
    "text9 = text8.strip()\n",
    "print(text9)"
   ]
  },
  {
   "cell_type": "code",
   "execution_count": 72,
   "metadata": {},
   "outputs": [
    {
     "data": {
      "text/plain": [
       "10"
      ]
     },
     "execution_count": 72,
     "metadata": {},
     "output_type": "execute_result"
    }
   ],
   "source": [
    "#Find and replace:\n",
    "text9.find('o')"
   ]
  },
  {
   "cell_type": "code",
   "execution_count": 73,
   "metadata": {},
   "outputs": [
    {
     "data": {
      "text/plain": [
       "40"
      ]
     },
     "execution_count": 73,
     "metadata": {},
     "output_type": "execute_result"
    }
   ],
   "source": [
    "text9.rfind('o')"
   ]
  },
  {
   "cell_type": "code",
   "execution_count": 75,
   "metadata": {},
   "outputs": [
    {
     "data": {
      "text/plain": [
       "'A quick brOwn fOx jumped Over the lazy dOg.'"
      ]
     },
     "execution_count": 75,
     "metadata": {},
     "output_type": "execute_result"
    }
   ],
   "source": [
    "text9.replace('o', 'O')"
   ]
  },
  {
   "cell_type": "markdown",
   "metadata": {},
   "source": [
    "Handling Larger Files"
   ]
  },
  {
   "cell_type": "code",
   "execution_count": 76,
   "metadata": {},
   "outputs": [],
   "source": [
    "#Reading file\n",
    "f = open('us_constitution.txt')"
   ]
  },
  {
   "cell_type": "code",
   "execution_count": 77,
   "metadata": {},
   "outputs": [
    {
     "data": {
      "text/plain": [
       "<_io.TextIOWrapper name='us_constitution.txt' mode='r' encoding='UTF-8'>"
      ]
     },
     "execution_count": 77,
     "metadata": {},
     "output_type": "execute_result"
    }
   ],
   "source": [
    "f"
   ]
  },
  {
   "cell_type": "code",
   "execution_count": 78,
   "metadata": {},
   "outputs": [],
   "source": [
    "f = open('us_constitution.txt', 'r') #open in read mode"
   ]
  },
  {
   "cell_type": "code",
   "execution_count": 79,
   "metadata": {},
   "outputs": [
    {
     "data": {
      "text/plain": [
       "<_io.TextIOWrapper name='us_constitution.txt' mode='r' encoding='UTF-8'>"
      ]
     },
     "execution_count": 79,
     "metadata": {},
     "output_type": "execute_result"
    }
   ],
   "source": [
    "f"
   ]
  },
  {
   "cell_type": "code",
   "execution_count": 80,
   "metadata": {},
   "outputs": [
    {
     "data": {
      "text/plain": [
       "'We the People of the United States, in Order to form a more perfect Union,\\n'"
      ]
     },
     "execution_count": 80,
     "metadata": {},
     "output_type": "execute_result"
    }
   ],
   "source": [
    "f.readline() #reads the first line"
   ]
  },
  {
   "cell_type": "code",
   "execution_count": 81,
   "metadata": {},
   "outputs": [
    {
     "data": {
      "text/plain": [
       "0"
      ]
     },
     "execution_count": 81,
     "metadata": {},
     "output_type": "execute_result"
    }
   ],
   "source": [
    "#Read the full file:\n",
    "f.seek(0)"
   ]
  },
  {
   "cell_type": "code",
   "execution_count": 82,
   "metadata": {},
   "outputs": [],
   "source": [
    "text12 = f.read()"
   ]
  },
  {
   "cell_type": "code",
   "execution_count": 83,
   "metadata": {},
   "outputs": [
    {
     "data": {
      "text/plain": [
       "'We the People of the United States, in Order to form a more perfect Union,\\nestablish Justice, insure domestic Tranquility, provide for the common\\ndefence, promote the general Welfare, and secure the Blessings of Liberty to\\nourselves and our Posterity, do ordain and establish this Constitution for the\\nUnited States of America.\\n\\nArticle 1.\\n\\nSection 1\\nAll legislative Powers herein granted shall be vested in a Congress of the\\nUnited States, which shall consist of a Senate and House of Representatives.\\n\\nSection 2\\nThe House of Representatives shall be composed of Members chosen every second\\nYear by the People of the several States, and the Electors in each State shall\\nhave the Qualifications requisite for Electors of the most numerous Branch of\\nthe State Legislature.\\n\\nNo Person shall be a Representative who shall not have attained to the Age of\\ntwenty five Years, and been seven Years a Citizen of the United States, and who\\nshall not, when elected, be an Inhabitant of that State in which he shall be\\nchosen.\\n\\nRepresentatives and direct Taxes shall be apportioned among the several States\\nwhich may be included within this Union, according to their respective Numbers,\\nwhich shall be determined by adding to the whole Number of free Persons,\\nincluding those bound to Service for a Term of Years, and excluding Indians not\\ntaxed, three fifths of all other Persons.\\n\\nThe actual Enumeration shall be made within three Years after the first Meeting\\nof the Congress of the United States, and within every subsequent Term of ten\\nYears, in such Manner as they shall by Law direct. The Number of\\nRepresentatives shall not exceed one for every thirty Thousand, but each State\\nshall have at Least one Representative; and until such enumeration shall be\\nmade, the State of New Hampshire shall be entitled to choose three,\\nMassachusetts eight, Rhode Island and Providence Plantations one, Connecticut\\nfive, New York six, New Jersey four, Pennsylvania eight, Delaware one, Maryland\\nsix, Virginia ten, North Carolina five, South Carolina five and Georgia three.\\n\\nWhen vacancies happen in the Representation from any State, the Executive\\nAuthority thereof shall issue Writs of Election to fill such Vacancies.\\n\\nThe House of Representatives shall choose their Speaker and other Officers; and\\nshall have the sole Power of Impeachment.\\n\\nSection 3\\nThe Senate of the United States shall be composed of two Senators from each\\nState, chosen by the Legislature thereof, for six Years; and each Senator shall\\nhave one Vote.\\n\\nImmediately after they shall be assembled in Consequence of the first Election,\\nthey shall be divided as equally as may be into three Classes. The Seats of the\\nSenators of the first Class shall be vacated at the Expiration of the second\\nYear, of the second Class at the Expiration of the fourth Year, and of the\\nthird Class at the Expiration of the sixth Year, so that one third may be\\nchosen every second Year; and if Vacancies happen by Resignation, or otherwise,\\nduring the Recess of the Legislature of any State, the Executive thereof may\\nmake temporary Appointments until the next Meeting of the Legislature, which\\nshall then fill such Vacancies.\\n\\nNo person shall be a Senator who shall not have attained to the Age of thirty\\nYears, and been nine Years a Citizen of the United States, and who shall not,\\nwhen elected, be an Inhabitant of that State for which he shall be chosen.\\n\\nThe Vice President of the United States shall be President of the Senate, but\\nshall have no Vote, unless they be equally divided.\\n\\nThe Senate shall choose their other Officers, and also a President pro tempore,\\nin the absence of the Vice President, or when he shall exercise the Office of\\nPresident of the United States.\\n\\nThe Senate shall have the sole Power to try all Impeachments. When sitting for\\nthat Purpose, they shall be on Oath or Affirmation. When the President of the\\nUnited States is tried, the Chief Justice shall preside: And no Person shall be\\nconvicted without the Concurrence of two thirds of the Members present.\\n\\nJudgment in Cases of Impeachment shall not extend further than to removal from\\nOffice, and disqualification to hold and enjoy any Office of honor, Trust or\\nProfit under the United States: but the Party convicted shall nevertheless be\\nliable and subject to Indictment, Trial, Judgment and Punishment, according to\\nLaw.\\n\\nSection 4\\nThe Times, Places and Manner of holding Elections for Senators and\\nRepresentatives, shall be prescribed in each State by the Legislature thereof;\\nbut the Congress may at any time by Law make or alter such Regulations, except\\nas to the Place of Choosing Senators.\\n\\nThe Congress shall assemble at least once in every Year, and such Meeting shall\\nbe on the first Monday in December, unless they shall by Law appoint a\\ndifferent Day.\\n\\nSection 5\\nEach House shall be the Judge of the Elections, Returns and Qualifications of\\nits own Members, and a Majority of each shall constitute a Quorum to do\\nBusiness; but a smaller number may adjourn from day to day, and may be\\nauthorized to compel the Attendance of absent Members, in such Manner, and\\nunder such Penalties as each House may provide.\\n\\nEach House may determine the Rules of its Proceedings, punish its Members for\\ndisorderly Behavior, and, with the Concurrence of two-thirds, expel a Member.\\n\\nEach House shall keep a Journal of its Proceedings, and from time to time\\npublish the same, excepting such Parts as may in their Judgment require\\nSecrecy; and the Yeas and Nays of the Members of either House on any question\\nshall, at the Desire of one fifth of those Present, be entered on the Journal.\\n\\nNeither House, during the Session of Congress, shall, without the Consent of\\nthe other, adjourn for more than three days, nor to any other Place than that\\nin which the two Houses shall be sitting.\\n\\nSection 6\\nThe Senators and Representatives shall receive a Compensation for their\\nServices, to be ascertained by Law, and paid out of the Treasury of the United\\nStates. They shall in all Cases, except Treason, Felony and Breach of the\\nPeace, be privileged from Arrest during their Attendance at the Session of\\ntheir respective Houses, and in going to and returning from the same; and for\\nany Speech or Debate in either House, they shall not be questioned in any other\\nPlace.\\n\\nNo Senator or Representative shall, during the Time for which he was elected,\\nbe appointed to any civil Office under the Authority of the United States which\\nshall have been created, or the Emoluments whereof shall have been increased\\nduring such time; and no Person holding any Office under the United States,\\nshall be a Member of either House during his Continuance in Office.\\n\\n\\nSection 7\\nAll bills for raising Revenue shall originate in the House of Representatives;\\nbut the Senate may propose or concur with Amendments as on other Bills.\\n\\nEvery Bill which shall have passed the House of Representatives and the Senate,\\nshall, before it become a Law, be presented to the President of the United\\nStates; If he approve he shall sign it, but if not he shall return it, with his\\nObjections to that House in which it shall have originated, who shall enter the\\nObjections at large on their Journal, and proceed to reconsider it. If after\\nsuch Reconsideration two thirds of that House shall agree to pass the Bill, it\\nshall be sent, together with the Objections, to the other House, by which it\\nshall likewise be reconsidered, and if approved by two thirds of that House, it\\nshall become a Law. But in all such Cases the Votes of both Houses shall be\\ndetermined by Yeas and Nays, and the Names of the Persons voting for and\\nagainst the Bill shall be entered on the Journal of each House respectively. If\\nany Bill shall not be returned by the President within ten Days (Sundays\\nexcepted) after it shall have been presented to him, the Same shall be a Law,\\nin like Manner as if he had signed it, unless the Congress by their Adjournment\\nprevent its Return, in which Case it shall not be a Law.\\n\\nEvery Order, Resolution, or Vote to which the Concurrence of the Senate and\\nHouse of Representatives may be necessary (except on a question of Adjournment)\\nshall be presented to the President of the United States; and before the Same\\nshall take Effect, shall be approved by him, or being disapproved by him, shall\\nbe repassed by two thirds of the Senate and House of Representatives, according\\nto the Rules and Limitations prescribed in the Case of a Bill.\\n\\n\\nSection 8\\nThe Congress shall have Power To lay and collect Taxes, Duties, Imposts and\\nExcises, to pay the Debts and provide for the common Defence and general\\nWelfare of the United States; but all Duties, Imposts and Excises shall be\\nuniform throughout the United States;\\n\\nTo borrow money on the credit of the United States;\\n\\nTo regulate Commerce with foreign Nations, and among the several States, and\\nwith the Indian Tribes;\\n\\nTo establish an uniform Rule of Naturalization, and uniform Laws on the subject\\nof Bankruptcies throughout the United States;\\n\\nTo coin Money, regulate the Value thereof, and of foreign Coin, and fix the\\nStandard of Weights and Measures;\\n\\nTo provide for the Punishment of counterfeiting the Securities and current Coin\\nof the United States;\\n\\nTo establish Post Offices and Post Roads;\\n\\nTo promote the Progress of Science and useful Arts, by securing for limited\\nTimes to Authors and Inventors the exclusive Right to their respective Writings\\nand Discoveries;\\n\\nTo constitute Tribunals inferior to the supreme Court;\\n\\nTo define and punish Piracies and Felonies committed on the high Seas, and\\nOffenses against the Law of Nations;\\n\\nTo declare War, grant Letters of Marque and Reprisal, and make Rules concerning\\nCaptures on Land and Water;\\n\\nTo raise and support Armies, but no Appropriation of Money to that Use shall be\\nfor a longer Term than two Years;\\n\\nTo provide and maintain a Navy;\\n\\nTo make Rules for the Government and Regulation of the land and naval Forces;\\n\\nTo provide for calling forth the Militia to execute the Laws of the Union,\\nsuppress Insurrections and repel Invasions;\\n\\nTo provide for organizing, arming, and disciplining, the Militia, and for\\ngoverning such Part of them as may be employed in the Service of the United\\nStates, reserving to the States respectively, the Appointment of the Officers,\\nand the Authority of training the Militia according to the discipline\\nprescribed by Congress;\\n\\nTo exercise exclusive Legislation in all Cases whatsoever, over such District\\n(not exceeding ten Miles square) as may, by Cession of particular States, and\\nthe acceptance of Congress, become the Seat of the Government of the United\\nStates, and to exercise like Authority over all Places purchased by the Consent\\nof the Legislature of the State in which the Same shall be, for the Erection of\\nForts, Magazines, Arsenals, dock-Yards, and other needful Buildings; And\\n\\nTo make all Laws which shall be necessary and proper for carrying into\\nExecution the foregoing Powers, and all other Powers vested by this\\nConstitution in the Government of the United States, or in any Department or\\nOfficer thereof.\\n\\nSection 9\\nThe Migration or Importation of such Persons as any of the States now existing\\nshall think proper to admit, shall not be prohibited by the Congress prior to\\nthe Year one thousand eight hundred and eight, but a tax or duty may be imposed\\non such Importation, not exceeding ten dollars for each Person.\\n\\nThe privilege of the Writ of Habeas Corpus shall not be suspended, unless when\\nin Cases of Rebellion or Invasion the public Safety may require it.\\n\\nNo Bill of Attainder or ex post facto Law shall be passed.\\n\\nNo capitation, or other direct, Tax shall be laid, unless in Proportion to the\\nCensus or Enumeration herein before directed to be taken.\\n\\nNo Tax or Duty shall be laid on Articles exported from any State.\\n\\nNo Preference shall be given by any Regulation of Commerce or Revenue to the\\nPorts of one State over those of another: nor shall Vessels bound to, or from,\\none State, be obliged to enter, clear, or pay Duties in another.\\n\\nNo Money shall be drawn from the Treasury, but in Consequence of Appropriations\\nmade by Law; and a regular Statement and Account of the Receipts and\\nExpenditures of all public Money shall be published from time to time.\\n\\nNo Title of Nobility shall be granted by the United States: And no Person\\nholding any Office of Profit or Trust under them, shall, without the Consent of\\nthe Congress, accept of any present, Emolument, Office, or Title, of any kind\\nwhatever, from any King, Prince or foreign State.\\n\\nSection 10\\nNo State shall enter into any Treaty, Alliance, or Confederation; grant Letters\\nof Marque and Reprisal; coin Money; emit Bills of Credit; make any Thing but\\ngold and silver Coin a Tender in Payment of Debts; pass any Bill of Attainder,\\nex post facto Law, or Law impairing the Obligation of Contracts, or grant any\\nTitle of Nobility.\\n\\nNo State shall, without the Consent of the Congress, lay any Imposts or Duties\\non Imports or Exports, except what may be absolutely necessary for executing\\nits inspection Laws: and the net Produce of all Duties and Imposts, laid by\\nany State on Imports or Exports, shall be for the Use of the Treasury of the\\nUnited States; and all such Laws shall be subject to the Revision and Control\\nof the Congress.\\n\\nNo State shall, without the Consent of Congress, lay any duty of Tonnage, keep\\nTroops, or Ships of War in time of Peace, enter into any Agreement or Compact\\nwith another State, or with a foreign Power, or engage in War, unless actually\\ninvaded, or in such imminent Danger as will not admit of delay.\\n\\nArticle 2.\\n\\nSection 1\\nThe executive Power shall be vested in a President of the United States of\\nAmerica. He shall hold his Office during the Term of four Years, and, together\\nwith the Vice-President chosen for the same Term, be elected, as follows:\\n\\nEach State shall appoint, in such Manner as the Legislature thereof may direct,\\na Number of Electors, equal to the whole Number of Senators and Representatives\\nto which the State may be entitled in the Congress: but no Senator or\\nRepresentative, or Person holding an Office of Trust or Profit under the United\\nStates, shall be appointed an Elector.\\n\\nThe Electors shall meet in their respective States, and vote by Ballot for two\\npersons, of whom one at least shall not lie an Inhabitant of the same State\\nwith themselves. And they shall make a List of all the Persons voted for, and\\nof the Number of Votes for each; which List they shall sign and certify, and\\ntransmit sealed to the Seat of the Government of the United States, directed to\\nthe President of the Senate. The President of the Senate shall, in the Presence\\nof the Senate and House of Representatives, open all the Certificates, and the\\nVotes shall then be counted. The Person having the greatest Number of Votes\\nshall be the President, if such Number be a Majority of the whole Number of\\nElectors appointed; and if there be more than one who have such Majority, and\\nhave an equal Number of Votes, then the House of Representatives shall\\nimmediately choose by Ballot one of them for President; and if no Person have a\\nMajority, then from the five highest on the List the said House shall in like\\nManner choose the President. But in choosing the President, the Votes shall be\\ntaken by States, the Representation from each State having one Vote; a quorum\\nfor this Purpose shall consist of a Member or Members from two-thirds of the\\nStates, and a Majority of all the States shall be necessary to a Choice. In\\nevery Case, after the Choice of the President, the Person having the greatest\\nNumber of Votes of the Electors shall be the Vice President. But if there\\nshould remain two or more who have equal Votes, the Senate shall choose from\\nthem by Ballot the Vice-President.\\n\\nThe Congress may determine the Time of choosing the Electors, and the Day on\\nwhich they shall give their Votes; which Day shall be the same throughout the\\nUnited States.\\n\\nNo person except a natural born Citizen, or a Citizen of the United States, at\\nthe time of the Adoption of this Constitution, shall be eligible to the Office\\nof President; neither shall any Person be eligible to that Office who shall not\\nhave attained to the Age of thirty-five Years, and been fourteen Years a\\nResident within the United States.\\n\\nIn Case of the Removal of the President from Office, or of his Death,\\nResignation, or Inability to discharge the Powers and Duties of the said\\nOffice, the same shall devolve on the Vice President, and the Congress may by\\nLaw provide for the Case of Removal, Death, Resignation or Inability, both of\\nthe President and Vice President, declaring what Officer shall then act as\\nPresident, and such Officer shall act accordingly, until the Disability be\\nremoved, or a President shall be elected.\\n\\nThe President shall, at stated Times, receive for his Services, a Compensation,\\nwhich shall neither be increased nor diminished during the Period for which he\\nshall have been elected, and he shall not receive within that Period any other\\nEmolument from the United States, or any of them.\\n\\nBefore he enter on the Execution of his Office, he shall take the following\\nOath or Affirmation:\\n\\n\"I do solemnly swear (or affirm) that I will faithfully execute the Office of\\nPresident of the United States, and will to the best of my Ability, preserve,\\nprotect and defend the Constitution of the United States.\"\\n\\nSection 2\\nThe President shall be Commander in Chief of the Army and Navy of the United\\nStates, and of the Militia of the several States, when called into the actual\\nService of the United States; he may require the Opinion, in writing, of the\\nprincipal Officer in each of the executive Departments, upon any subject\\nrelating to the Duties of their respective Offices, and he shall have Power to\\nGrant Reprieves and Pardons for Offenses against the United States, except in\\nCases of Impeachment.\\n\\nHe shall have Power, by and with the Advice and Consent of the Senate, to make\\nTreaties, provided two thirds of the Senators present concur; and he shall\\nnominate, and by and with the Advice and Consent of the Senate, shall appoint\\nAmbassadors, other public Ministers and Consuls, Judges of the supreme Court,\\nand all other Officers of the United States, whose Appointments are not herein\\notherwise provided for, and which shall be established by Law: but the Congress\\nmay by Law vest the Appointment of such inferior Officers, as they think\\nproper, in the President alone, in the Courts of Law, or in the Heads of\\nDepartments.\\n\\nThe President shall have Power to fill up all Vacancies that may happen during\\nthe Recess of the Senate, by granting Commissions which shall expire at the End\\nof their next Session.\\n\\nSection 3\\nHe shall from time to time give to the Congress Information of the State of the\\nUnion, and recommend to their Consideration such Measures as he shall judge\\nnecessary and expedient; he may, on extraordinary Occasions, convene both\\nHouses, or either of them, and in Case of Disagreement between them, with\\nRespect to the Time of Adjournment, he may adjourn them to such Time as he\\nshall think proper; he shall receive Ambassadors and other public Ministers; he\\nshall take Care that the Laws be faithfully executed, and shall Commission all\\nthe Officers of the United States.\\n\\nSection 4\\nThe President, Vice President and all civil Officers of the United States,\\nshall be removed from Office on Impeachment for, and Conviction of, Treason,\\nBribery, or other high Crimes and Misdemeanors.\\n\\nArticle 3.\\n\\nSection 1\\nThe judicial Power of the United States, shall be vested in one supreme Court,\\nand in such inferior Courts as the Congress may from time to time ordain and\\nestablish. The Judges, both of the supreme and inferior Courts, shall hold\\ntheir Offices during good Behavior, and shall, at stated Times, receive for\\ntheir Services a Compensation which shall not be diminished during their\\nContinuance in Office.\\n\\nSection 2\\nThe judicial Power shall extend to all Cases, in Law and Equity, arising under\\nthis Constitution, the Laws of the United States, and Treaties made, or which\\nshall be made, under their Authority; to all Cases affecting Ambassadors, other\\npublic Ministers and Consuls; to all Cases of admiralty and maritime\\nJurisdiction; to Controversies to which the United States shall be a Party; to\\nControversies between two or more States; between a State and Citizens of\\nanother State; between Citizens of different States; between Citizens of the\\nsame State claiming Lands under Grants of different States, and between a\\nState, or the Citizens thereof, and foreign States, Citizens or Subjects.\\n\\nIn all Cases affecting Ambassadors, other public Ministers and Consuls, and\\nthose in which a State shall be Party, the supreme Court shall have original\\nJurisdiction. In all the other Cases before mentioned, the supreme Court shall\\nhave appellate Jurisdiction, both as to Law and Fact, with such Exceptions, and\\nunder such Regulations as the Congress shall make.\\n\\nThe Trial of all Crimes, except in Cases of Impeachment, shall be by Jury; and\\nsuch Trial shall be held in the State where the said Crimes shall have been\\ncommitted; but when not committed within any State, the Trial shall be at such\\nPlace or Places as the Congress may by Law have directed.\\n\\nSection 3\\nTreason against the United States, shall consist only in levying War against\\nthem, or in adhering to their Enemies, giving them Aid and Comfort. No Person\\nshall be convicted of Treason unless on the Testimony of two Witnesses to the\\nsame overt Act, or on Confession in open Court.\\n\\nThe Congress shall have power to declare the Punishment of Treason, but no\\nAttainder of Treason shall work Corruption of Blood, or Forfeiture except\\nduring the Life of the Person attainted.\\n\\nArticle 4.\\n\\nSection 1\\nFull Faith and Credit shall be given in each State to the public Acts, Records,\\nand judicial Proceedings of every other State. And the Congress may by general\\nLaws prescribe the Manner in which such Acts, Records and Proceedings shall be\\nproved, and the Effect thereof.\\n\\nSection 2\\nThe Citizens of each State shall be entitled to all Privileges and Immunities\\nof Citizens in the several States.\\n\\nA Person charged in any State with Treason, Felony, or other Crime, who shall\\nflee from Justice, and be found in another State, shall on demand of the\\nexecutive Authority of the State from which he fled, be delivered up, to be\\nremoved to the State having Jurisdiction of the Crime.\\n\\nNo Person held to Service or Labour in one State, under the Laws thereof,\\nescaping into another, shall, in Consequence of any Law or Regulation therein,\\nbe discharged from such Service or Labour, But shall be delivered up on Claim\\nof the Party to whom such Service or Labour may be due.\\n\\nSection 3\\nNew States may be admitted by the Congress into this Union; but no new States\\nshall be formed or erected within the Jurisdiction of any other State; nor any\\nState be formed by the Junction of two or more States, or parts of States,\\nwithout the Consent of the Legislatures of the States concerned as well as of\\nthe Congress.\\n\\nThe Congress shall have Power to dispose of and make all needful Rules and\\nRegulations respecting the Territory or other Property belonging to the United\\nStates; and nothing in this Constitution shall be so construed as to Prejudice\\nany Claims of the United States, or of any particular State.\\n\\nSection 4\\nThe United States shall guarantee to every State in this Union a Republican\\nForm of Government, and shall protect each of them against Invasion; and on\\nApplication of the Legislature, or of the Executive (when the Legislature\\ncannot be convened) against domestic Violence.\\n\\nArticle 5.\\n\\nThe Congress, whenever two thirds of both Houses shall deem it necessary, shall\\npropose Amendments to this Constitution, or, on the Application of the\\nLegislatures of two thirds of the several States, shall call a Convention for\\nproposing Amendments, which, in either Case, shall be valid to all Intents and\\nPurposes, as part of this Constitution, when ratified by the Legislatures of\\nthree fourths of the several States, or by Conventions in three fourths\\nthereof, as the one or the other Mode of Ratification may be proposed by the\\nCongress; Provided that no Amendment which may be made prior to the Year One\\nthousand eight hundred and eight shall in any Manner affect the first and\\nfourth Clauses in the Ninth Section of the first Article; and that no State,\\nwithout its Consent, shall be deprived of its equal Suffrage in the Senate.\\n\\nArticle 6.\\n\\nAll Debts contracted and Engagements entered into, before the Adoption of this\\nConstitution, shall be as valid against the United States under this\\nConstitution, as under the Confederation.\\n\\nThis Constitution, and the Laws of the United States which shall be made in\\nPursuance thereof; and all Treaties made, or which shall be made, under the\\nAuthority of the United States, shall be the supreme Law of the Land; and the\\nJudges in every State shall be bound thereby, any Thing in the Constitution or\\nLaws of any State to the Contrary notwithstanding.\\n\\nThe Senators and Representatives before mentioned, and the Members of the\\nseveral State Legislatures, and all executive and judicial Officers, both of\\nthe United States and of the several States, shall be bound by Oath or\\nAffirmation, to support this Constitution; but no religious Test shall ever be\\nrequired as a Qualification to any Office or public Trust under the United\\nStates.\\n\\nArticle 7.\\n\\nThe Ratification of the Conventions of nine States, shall be sufficient for the\\nEstablishment of this Constitution between the States so ratifying the Same.\\n\\nDone in Convention by the Unanimous Consent of the States present the\\nSeventeenth Day of September in the Year of our Lord one thousand seven hundred\\nand Eighty seven and of the Independence of the United States of America the\\nTwelfth. In Witness whereof We have hereunto subscribed our Names.\\n\\nGeorge Washington - President and deputy from Virginia\\n\\nNew Hampshire - John Langdon, Nicholas Gilman\\n\\nMassachusetts - Nathaniel Gorham, Rufus King\\n\\nConnecticut - William Samuel Johnson, Roger Sherman\\n\\nNew York - Alexander Hamilton\\n\\nNew Jersey - William Livingston, David Brearley, William Paterson, Jonathan\\nDayton\\n\\nPennsylvania - Benjamin Franklin, Thomas Mifflin, Robert Morris, George Clymer,\\nThomas Fitzsimons, Jared Ingersoll, James Wilson, Gouvernour Morris\\n\\nDelaware - George Read, Gunning Bedford Jr., John Dickinson, Richard Bassett,\\nJacob Broom\\n\\nMaryland - James McHenry, Daniel of St Thomas Jenifer, Daniel Carroll\\n\\nVirginia - John Blair, James Madison Jr.\\n\\nNorth Carolina - William Blount, Richard Dobbs Spaight, Hugh Williamson\\n\\nSouth Carolina - John Rutledge, Charles Cotesworth Pinckney, Charles Pinckney,\\nPierce Butler\\n\\nGeorgia - William Few, Abraham Baldwin\\n\\nAttest: William Jackson, Secretary\\n\\n\\nAmendment 1\\nCongress shall make no law respecting an establishment of religion, or\\nprohibiting the free exercise thereof; or abridging the freedom of speech, or\\nof the press; or the right of the people peaceably to assemble, and to petition\\nthe Government for a redress of grievances.\\n\\nAmendment 2\\nA well regulated Militia, being necessary to the security of a free State, the\\nright of the people to keep and bear Arms, shall not be infringed.\\n\\nAmendment 3\\nNo Soldier shall, in time of peace be quartered in any house, without the\\nconsent of the Owner, nor in time of war, but in a manner to be prescribed by\\nlaw.\\n\\nAmendment 4\\nThe right of the people to be secure in their persons, houses, papers, and\\neffects, against unreasonable searches and seizures, shall not be violated, and\\nno Warrants shall issue, but upon probable cause, supported by Oath or\\naffirmation, and particularly describing the place to be searched, and the\\npersons or things to be seized.\\n\\nAmendment 5\\nNo person shall be held to answer for a capital, or otherwise infamous crime,\\nunless on a presentment or indictment of a Grand Jury, except in cases arising\\nin the land or naval forces, or in the Militia, when in actual service in time\\nof War or public danger; nor shall any person be subject for the same offense\\nto be twice put in jeopardy of life or limb; nor shall be compelled in any\\ncriminal case to be a witness against himself, nor be deprived of life,\\nliberty, or property, without due process of law; nor shall private property be\\ntaken for public use, without just compensation.\\n\\nAmendment 6\\nIn all criminal prosecutions, the accused shall enjoy the right to a speedy and\\npublic trial, by an impartial jury of the State and district wherein the crime\\nshall have been committed, which district shall have been previously\\nascertained by law, and to be informed of the nature and cause of the\\naccusation; to be confronted with the witnesses against him; to have compulsory\\nprocess for obtaining witnesses in his favor, and to have the Assistance of\\nCounsel for his defence.\\n\\nAmendment 7\\nIn Suits at common law, where the value in controversy shall exceed twenty\\ndollars, the right of trial by jury shall be preserved, and no fact tried by a\\njury, shall be otherwise re-examined in any Court of the United States, than\\naccording to the rules of the common law.\\n\\nAmendment 8\\nExcessive bail shall not be required, nor excessive fines imposed, nor cruel\\nand unusual punishments inflicted.\\n\\nAmendment 9\\nThe enumeration in the Constitution, of certain rights, shall not be construed\\nto deny or disparage others retained by the people.\\n\\nAmendment 10\\nThe powers not delegated to the United States by the Constitution, nor\\nprohibited by it to the States, are reserved to the States respectively, or to\\nthe people.\\n\\nAmendment 11\\nThe Judicial power of the United States shall not be construed to extend to any\\nsuit in law or equity, commenced or prosecuted against one of the United States\\nby Citizens of another State, or by Citizens or Subjects of any Foreign State.\\n\\nAmendment 12\\nThe Electors shall meet in their respective states, and vote by ballot for\\nPresident and Vice-President, one of whom, at least, shall not be an inhabitant\\nof the same state with themselves; they shall name in their ballots the person\\nvoted for as President, and in distinct ballots the person voted for as\\nVice-President, and they shall make distinct lists of all persons voted for as\\nPresident, and of all persons voted for as Vice-President and of the number of\\nvotes for each, which lists they shall sign and certify, and transmit sealed to\\nthe seat of the government of the United States, directed to the President of\\nthe Senate;\\n\\nThe President of the Senate shall, in the presence of the Senate and House of\\nRepresentatives, open all the certificates and the votes shall then be counted;\\n\\nThe person having the greatest Number of votes for President, shall be the\\nPresident, if such number be a majority of the whole number of Electors\\nappointed; and if no person have such majority, then from the persons having\\nthe highest numbers not exceeding three on the list of those voted for as\\nPresident, the House of Representatives shall choose immediately, by ballot,\\nthe President. But in choosing the President, the votes shall be taken by\\nstates, the representation from each state having one vote; a quorum for this\\npurpose shall consist of a member or members from two-thirds of the states, and\\na majority of all the states shall be necessary to a choice. And if the House\\nof Representatives shall not choose a President whenever the right of choice\\nshall devolve upon them, before the fourth day of March next following, then\\nthe Vice-President shall act as President, as in the case of the death or other\\nconstitutional disability of the President.\\n\\nThe person having the greatest number of votes as Vice-President, shall be the\\nVice-President, if such number be a majority of the whole number of Electors\\nappointed, and if no person have a majority, then from the two highest numbers\\non the list, the Senate shall choose the Vice-President; a quorum for the\\npurpose shall consist of two-thirds of the whole number of Senators, and a\\nmajority of the whole number shall be necessary to a choice. But no person\\nconstitutionally ineligible to the office of President shall be eligible to\\nthat of Vice-President of the United States.\\n\\nAmendment 13\\n1. Neither slavery nor involuntary servitude, except as a punishment for crime\\nwhereof the party shall have been duly convicted, shall exist within the United\\nStates, or any place subject to their jurisdiction.\\n\\n2. Congress shall have power to enforce this article by appropriate\\nlegislation.\\n\\nAmendment 14\\n1. All persons born or naturalized in the United States, and subject to the\\njurisdiction thereof, are citizens of the United States and of the State\\nwherein they reside. No State shall make or enforce any law which shall abridge\\nthe privileges or immunities of citizens of the United States; nor shall any\\nState deprive any person of life, liberty, or property, without due process of\\nlaw; nor deny to any person within its jurisdiction the equal protection of the\\nlaws.\\n\\n2. Representatives shall be apportioned among the several States according to\\ntheir respective numbers, counting the whole number of persons in each State,\\nexcluding Indians not taxed. But when the right to vote at any election for the\\nchoice of electors for President and Vice-President of the United States,\\nRepresentatives in Congress, the Executive and Judicial officers of a State, or\\nthe members of the Legislature thereof, is denied to any of the male\\ninhabitants of such State, being twenty-one years of age, and citizens of the\\nUnited States, or in any way abridged, except for participation in rebellion,\\nor other crime, the basis of representation therein shall be reduced in the\\nproportion which the number of such male citizens shall bear to the whole\\nnumber of male citizens twenty-one years of age in such State.\\n\\n3. No person shall be a Senator or Representative in Congress, or elector of\\nPresident and Vice-President, or hold any office, civil or military, under the\\nUnited States, or under any State, who, having previously taken an oath, as a\\nmember of Congress, or as an officer of the United States, or as a member of\\nany State legislature, or as an executive or judicial officer of any State, to\\nsupport the Constitution of the United States, shall have engaged in\\ninsurrection or rebellion against the same, or given aid or comfort to the\\nenemies thereof. But Congress may by a vote of two-thirds of each House, remove\\nsuch disability.\\n\\n4. The validity of the public debt of the United States, authorized by law,\\nincluding debts incurred for payment of pensions and bounties for services in\\nsuppressing insurrection or rebellion, shall not be questioned. But neither the\\nUnited States nor any State shall assume or pay any debt or obligation incurred\\nin aid of insurrection or rebellion against the United States, or any claim for\\nthe loss or emancipation of any slave; but all such debts, obligations and\\nclaims shall be held illegal and void.\\n\\n5. The Congress shall have power to enforce, by appropriate legislation, the\\nprovisions of this article.\\n\\nAmendment 15\\n1. The right of citizens of the United States to vote shall not be denied or\\nabridged by the United States or by any State on account of race, color, or\\nprevious condition of servitude.\\n\\n2. The Congress shall have power to enforce this article by appropriate\\nlegislation.\\n\\nAmendment 16\\nThe Congress shall have power to lay and collect taxes on incomes, from\\nwhatever source derived, without apportionment among the several States, and\\nwithout regard to any census or enumeration.\\n\\nAmendment 17\\nThe Senate of the United States shall be composed of two Senators from each\\nState, elected by the people thereof, for six years; and each Senator shall\\nhave one vote. The electors in each State shall have the qualifications\\nrequisite for electors of the most numerous branch of the State legislatures.\\n\\nWhen vacancies happen in the representation of any State in the Senate, the\\nexecutive authority of such State shall issue writs of election to fill such\\nvacancies: Provided, That the legislature of any State may empower the\\nexecutive thereof to make temporary appointments until the people fill the\\nvacancies by election as the legislature may direct.\\n\\nThis amendment shall not be so construed as to affect the election or term of\\nany Senator chosen before it becomes valid as part of the Constitution.\\n\\nAmendment 18\\n1. After one year from the ratification of this article the manufacture, sale,\\nor transportation of intoxicating liquors within, the importation thereof into,\\nor the exportation thereof from the United States and all territory subject to\\nthe jurisdiction thereof for beverage purposes is hereby prohibited.\\n\\n2. The Congress and the several States shall have concurrent power to enforce\\nthis article by appropriate legislation.\\n\\n3. This article shall be inoperative unless it shall have been ratified as an\\namendment to the Constitution by the legislatures of the several States, as\\nprovided in the Constitution, within seven years from the date of the\\nsubmission hereof to the States by the Congress.\\n\\nAmendment 19\\nThe right of citizens of the United States to vote shall not be denied or\\nabridged by the United States or by any State on account of sex.\\n\\nCongress shall have power to enforce this article by appropriate legislation.\\n\\nAmendment 20\\n1. The terms of the President and Vice President shall end at noon on the 20th\\nday of January, and the terms of Senators and Representatives at noon on the 3d\\nday of January, of the years in which such terms would have ended if this\\narticle had not been ratified; and the terms of their successors shall then\\nbegin.\\n\\n2. The Congress shall assemble at least once in every year, and such meeting\\nshall begin at noon on the 3d day of January, unless they shall by law appoint\\na different day.\\n\\n3. If, at the time fixed for the beginning of the term of the President, the\\nPresident elect shall have died, the Vice President elect shall become\\nPresident. If a President shall not have been chosen before the time fixed for\\nthe beginning of his term, or if the President elect shall have failed to\\nqualify, then the Vice President elect shall act as President until a President\\nshall have qualified; and the Congress may by law provide for the case wherein\\nneither a President elect nor a Vice President elect shall have qualified,\\ndeclaring who shall then act as President, or the manner in which one who is to\\nact shall be selected, and such person shall act accordingly until a President\\nor Vice President shall have qualified.\\n\\n4. The Congress may by law provide for the case of the death of any of the\\npersons from whom the House of Representatives may choose a President whenever\\nthe right of choice shall have devolved upon them, and for the case of the\\ndeath of any of the persons from whom the Senate may choose a Vice President\\nwhenever the right of choice shall have devolved upon them.\\n\\n5. Sections 1 and 2 shall take effect on the 15th day of October following the\\nratification of this article.\\n\\n6. This article shall be inoperative unless it shall have been ratified as an\\namendment to the Constitution by the legislatures of three-fourths of the\\nseveral States within seven years from the date of its submission.\\n\\nAmendment 21\\n1. The eighteenth article of amendment to the Constitution of the United States\\nis hereby repealed.\\n\\n2. The transportation or importation into any State, Territory, or possession\\nof the United States for delivery or use therein of intoxicating liquors, in\\nviolation of the laws thereof, is hereby prohibited.\\n\\n3. The article shall be inoperative unless it shall have been ratified as an\\namendment to the Constitution by conventions in the several States, as provided\\nin the Constitution, within seven years from the date of the submission hereof\\nto the States by the Congress.\\n\\nAmendment 22\\n1. No person shall be elected to the office of the President more than twice,\\nand no person who has held the office of President, or acted as President, for\\nmore than two years of a term to which some other person was elected President\\nshall be elected to the office of the President more than once. But this\\nArticle shall not apply to any person holding the office of President, when this\\nArticle was proposed by the Congress, and shall not prevent any person who may\\nbe holding the office of President, or acting as President, during the term\\nwithin which this Article becomes operative from holding the office of\\nPresident or acting as President during the remainder of such term.\\n\\n2. This article shall be inoperative unless it shall have been ratified as an\\namendment to the Constitution by the legislatures of three-fourths of the\\nseveral States within seven years from the date of its submission to the States\\nby the Congress.\\n\\nAmendment 23\\n1. The District constituting the seat of Government of the United States shall\\nappoint in such manner as the Congress may direct: A number of electors of\\nPresident and Vice President equal to the whole number of Senators and\\nRepresentatives in Congress to which the District would be entitled if it were\\na State, but in no event more than the least populous State; they shall be in\\naddition to those appointed by the States, but they shall be considered, for\\nthe purposes of the election of President and Vice President, to be electors\\nappointed by a State; and they shall meet in the District and perform such\\nduties as provided by the twelfth article of amendment.\\n\\n2. The Congress shall have power to enforce this article by appropriate\\nlegislation.\\n\\nAmendment 24\\n1. The right of citizens of the United States to vote in any primary or other\\nelection for President or Vice President, for electors for President or\\nVice President, or for Senator or Representative in Congress, shall not be\\ndenied or abridged by the United States or any State by reason of failure to\\npay any poll tax or other tax.\\n\\n2. The Congress shall have power to enforce this article by appropriate\\nlegislation.\\n\\nAmendment 25\\n1. In case of the removal of the President from office or of his death or\\nresignation, the Vice President shall become President.\\n\\n2. Whenever there is a vacancy in the office of the Vice President, the\\nPresident shall nominate a Vice President who shall take office upon\\nconfirmation by a majority vote of both Houses of Congress.\\n\\n3. Whenever the President transmits to the President pro tempore of the Senate\\nand the Speaker of the House of Representatives his written declaration that he\\nis unable to discharge the powers and duties of his office, and until he\\ntransmits to them a written declaration to the contrary, such powers and duties\\nshall be discharged by the Vice President as Acting President.\\n\\n4. Whenever the Vice President and a majority of either the principal officers\\nof the executive departments or of such other body as Congress may by law\\nprovide, transmit to the President pro tempore of the Senate and the Speaker of\\nthe House of Representatives their written declaration that the President is\\nunable to discharge the powers and duties of his office, the Vice President\\nshall immediately assume the powers and duties of the office as Acting\\nPresident.\\n\\nThereafter, when the President transmits to the President pro tempore of the\\nSenate and the Speaker of the House of Representatives his written declaration\\nthat no inability exists, he shall resume the powers and duties of his office\\nunless the Vice President and a majority of either the principal officers of\\nthe executive department or of such other body as Congress may by law provide,\\ntransmit within four days to the President pro tempore of the Senate and the\\nSpeaker of the House of Representatives their written declaration that the\\nPresident is unable to discharge the powers and duties of his office. Thereupon\\nCongress shall decide the issue, assembling within forty eight hours for that\\npurpose if not in session. If the Congress, within twenty one days after\\nreceipt of the latter written declaration, or, if Congress is not in session,\\nwithin twenty one days after Congress is required to assemble, determines by\\ntwo thirds vote of both Houses that the President is unable to discharge the\\npowers and duties of his office, the Vice President shall continue to discharge\\nthe same as Acting President; otherwise, the President shall resume the powers\\nand duties of his office.\\n\\nAmendment 26\\n1. The right of citizens of the United States, who are eighteen years of age or\\nolder, to vote shall not be denied or abridged by the United States or by any\\nState on account of age.\\n\\n2. The Congress shall have power to enforce this article by appropriate\\nlegislation.\\n\\nAmendment 27\\nNo law, varying the compensation for the services of the Senators and\\nRepresentatives, shall take effect, until an election of Representatives shall\\nhave intervened.\\n'"
      ]
     },
     "execution_count": 83,
     "metadata": {},
     "output_type": "execute_result"
    }
   ],
   "source": [
    "text12"
   ]
  },
  {
   "cell_type": "code",
   "execution_count": 84,
   "metadata": {},
   "outputs": [
    {
     "data": {
      "text/plain": [
       "44841"
      ]
     },
     "execution_count": 84,
     "metadata": {},
     "output_type": "execute_result"
    }
   ],
   "source": [
    "len(text12)"
   ]
  },
  {
   "cell_type": "code",
   "execution_count": 85,
   "metadata": {},
   "outputs": [
    {
     "data": {
      "text/plain": [
       "['We the People of the United States, in Order to form a more perfect Union,',\n",
       " 'establish Justice, insure domestic Tranquility, provide for the common',\n",
       " 'defence, promote the general Welfare, and secure the Blessings of Liberty to',\n",
       " 'ourselves and our Posterity, do ordain and establish this Constitution for the',\n",
       " 'United States of America.',\n",
       " '',\n",
       " 'Article 1.',\n",
       " '',\n",
       " 'Section 1',\n",
       " 'All legislative Powers herein granted shall be vested in a Congress of the',\n",
       " 'United States, which shall consist of a Senate and House of Representatives.',\n",
       " '',\n",
       " 'Section 2',\n",
       " 'The House of Representatives shall be composed of Members chosen every second',\n",
       " 'Year by the People of the several States, and the Electors in each State shall',\n",
       " 'have the Qualifications requisite for Electors of the most numerous Branch of',\n",
       " 'the State Legislature.',\n",
       " '',\n",
       " 'No Person shall be a Representative who shall not have attained to the Age of',\n",
       " 'twenty five Years, and been seven Years a Citizen of the United States, and who',\n",
       " 'shall not, when elected, be an Inhabitant of that State in which he shall be',\n",
       " 'chosen.',\n",
       " '',\n",
       " 'Representatives and direct Taxes shall be apportioned among the several States',\n",
       " 'which may be included within this Union, according to their respective Numbers,',\n",
       " 'which shall be determined by adding to the whole Number of free Persons,',\n",
       " 'including those bound to Service for a Term of Years, and excluding Indians not',\n",
       " 'taxed, three fifths of all other Persons.',\n",
       " '',\n",
       " 'The actual Enumeration shall be made within three Years after the first Meeting',\n",
       " 'of the Congress of the United States, and within every subsequent Term of ten',\n",
       " 'Years, in such Manner as they shall by Law direct. The Number of',\n",
       " 'Representatives shall not exceed one for every thirty Thousand, but each State',\n",
       " 'shall have at Least one Representative; and until such enumeration shall be',\n",
       " 'made, the State of New Hampshire shall be entitled to choose three,',\n",
       " 'Massachusetts eight, Rhode Island and Providence Plantations one, Connecticut',\n",
       " 'five, New York six, New Jersey four, Pennsylvania eight, Delaware one, Maryland',\n",
       " 'six, Virginia ten, North Carolina five, South Carolina five and Georgia three.',\n",
       " '',\n",
       " 'When vacancies happen in the Representation from any State, the Executive',\n",
       " 'Authority thereof shall issue Writs of Election to fill such Vacancies.',\n",
       " '',\n",
       " 'The House of Representatives shall choose their Speaker and other Officers; and',\n",
       " 'shall have the sole Power of Impeachment.',\n",
       " '',\n",
       " 'Section 3',\n",
       " 'The Senate of the United States shall be composed of two Senators from each',\n",
       " 'State, chosen by the Legislature thereof, for six Years; and each Senator shall',\n",
       " 'have one Vote.',\n",
       " '',\n",
       " 'Immediately after they shall be assembled in Consequence of the first Election,',\n",
       " 'they shall be divided as equally as may be into three Classes. The Seats of the',\n",
       " 'Senators of the first Class shall be vacated at the Expiration of the second',\n",
       " 'Year, of the second Class at the Expiration of the fourth Year, and of the',\n",
       " 'third Class at the Expiration of the sixth Year, so that one third may be',\n",
       " 'chosen every second Year; and if Vacancies happen by Resignation, or otherwise,',\n",
       " 'during the Recess of the Legislature of any State, the Executive thereof may',\n",
       " 'make temporary Appointments until the next Meeting of the Legislature, which',\n",
       " 'shall then fill such Vacancies.',\n",
       " '',\n",
       " 'No person shall be a Senator who shall not have attained to the Age of thirty',\n",
       " 'Years, and been nine Years a Citizen of the United States, and who shall not,',\n",
       " 'when elected, be an Inhabitant of that State for which he shall be chosen.',\n",
       " '',\n",
       " 'The Vice President of the United States shall be President of the Senate, but',\n",
       " 'shall have no Vote, unless they be equally divided.',\n",
       " '',\n",
       " 'The Senate shall choose their other Officers, and also a President pro tempore,',\n",
       " 'in the absence of the Vice President, or when he shall exercise the Office of',\n",
       " 'President of the United States.',\n",
       " '',\n",
       " 'The Senate shall have the sole Power to try all Impeachments. When sitting for',\n",
       " 'that Purpose, they shall be on Oath or Affirmation. When the President of the',\n",
       " 'United States is tried, the Chief Justice shall preside: And no Person shall be',\n",
       " 'convicted without the Concurrence of two thirds of the Members present.',\n",
       " '',\n",
       " 'Judgment in Cases of Impeachment shall not extend further than to removal from',\n",
       " 'Office, and disqualification to hold and enjoy any Office of honor, Trust or',\n",
       " 'Profit under the United States: but the Party convicted shall nevertheless be',\n",
       " 'liable and subject to Indictment, Trial, Judgment and Punishment, according to',\n",
       " 'Law.',\n",
       " '',\n",
       " 'Section 4',\n",
       " 'The Times, Places and Manner of holding Elections for Senators and',\n",
       " 'Representatives, shall be prescribed in each State by the Legislature thereof;',\n",
       " 'but the Congress may at any time by Law make or alter such Regulations, except',\n",
       " 'as to the Place of Choosing Senators.',\n",
       " '',\n",
       " 'The Congress shall assemble at least once in every Year, and such Meeting shall',\n",
       " 'be on the first Monday in December, unless they shall by Law appoint a',\n",
       " 'different Day.',\n",
       " '',\n",
       " 'Section 5',\n",
       " 'Each House shall be the Judge of the Elections, Returns and Qualifications of',\n",
       " 'its own Members, and a Majority of each shall constitute a Quorum to do',\n",
       " 'Business; but a smaller number may adjourn from day to day, and may be',\n",
       " 'authorized to compel the Attendance of absent Members, in such Manner, and',\n",
       " 'under such Penalties as each House may provide.',\n",
       " '',\n",
       " 'Each House may determine the Rules of its Proceedings, punish its Members for',\n",
       " 'disorderly Behavior, and, with the Concurrence of two-thirds, expel a Member.',\n",
       " '',\n",
       " 'Each House shall keep a Journal of its Proceedings, and from time to time',\n",
       " 'publish the same, excepting such Parts as may in their Judgment require',\n",
       " 'Secrecy; and the Yeas and Nays of the Members of either House on any question',\n",
       " 'shall, at the Desire of one fifth of those Present, be entered on the Journal.',\n",
       " '',\n",
       " 'Neither House, during the Session of Congress, shall, without the Consent of',\n",
       " 'the other, adjourn for more than three days, nor to any other Place than that',\n",
       " 'in which the two Houses shall be sitting.',\n",
       " '',\n",
       " 'Section 6',\n",
       " 'The Senators and Representatives shall receive a Compensation for their',\n",
       " 'Services, to be ascertained by Law, and paid out of the Treasury of the United',\n",
       " 'States. They shall in all Cases, except Treason, Felony and Breach of the',\n",
       " 'Peace, be privileged from Arrest during their Attendance at the Session of',\n",
       " 'their respective Houses, and in going to and returning from the same; and for',\n",
       " 'any Speech or Debate in either House, they shall not be questioned in any other',\n",
       " 'Place.',\n",
       " '',\n",
       " 'No Senator or Representative shall, during the Time for which he was elected,',\n",
       " 'be appointed to any civil Office under the Authority of the United States which',\n",
       " 'shall have been created, or the Emoluments whereof shall have been increased',\n",
       " 'during such time; and no Person holding any Office under the United States,',\n",
       " 'shall be a Member of either House during his Continuance in Office.',\n",
       " '',\n",
       " '',\n",
       " 'Section 7',\n",
       " 'All bills for raising Revenue shall originate in the House of Representatives;',\n",
       " 'but the Senate may propose or concur with Amendments as on other Bills.',\n",
       " '',\n",
       " 'Every Bill which shall have passed the House of Representatives and the Senate,',\n",
       " 'shall, before it become a Law, be presented to the President of the United',\n",
       " 'States; If he approve he shall sign it, but if not he shall return it, with his',\n",
       " 'Objections to that House in which it shall have originated, who shall enter the',\n",
       " 'Objections at large on their Journal, and proceed to reconsider it. If after',\n",
       " 'such Reconsideration two thirds of that House shall agree to pass the Bill, it',\n",
       " 'shall be sent, together with the Objections, to the other House, by which it',\n",
       " 'shall likewise be reconsidered, and if approved by two thirds of that House, it',\n",
       " 'shall become a Law. But in all such Cases the Votes of both Houses shall be',\n",
       " 'determined by Yeas and Nays, and the Names of the Persons voting for and',\n",
       " 'against the Bill shall be entered on the Journal of each House respectively. If',\n",
       " 'any Bill shall not be returned by the President within ten Days (Sundays',\n",
       " 'excepted) after it shall have been presented to him, the Same shall be a Law,',\n",
       " 'in like Manner as if he had signed it, unless the Congress by their Adjournment',\n",
       " 'prevent its Return, in which Case it shall not be a Law.',\n",
       " '',\n",
       " 'Every Order, Resolution, or Vote to which the Concurrence of the Senate and',\n",
       " 'House of Representatives may be necessary (except on a question of Adjournment)',\n",
       " 'shall be presented to the President of the United States; and before the Same',\n",
       " 'shall take Effect, shall be approved by him, or being disapproved by him, shall',\n",
       " 'be repassed by two thirds of the Senate and House of Representatives, according',\n",
       " 'to the Rules and Limitations prescribed in the Case of a Bill.',\n",
       " '',\n",
       " '',\n",
       " 'Section 8',\n",
       " 'The Congress shall have Power To lay and collect Taxes, Duties, Imposts and',\n",
       " 'Excises, to pay the Debts and provide for the common Defence and general',\n",
       " 'Welfare of the United States; but all Duties, Imposts and Excises shall be',\n",
       " 'uniform throughout the United States;',\n",
       " '',\n",
       " 'To borrow money on the credit of the United States;',\n",
       " '',\n",
       " 'To regulate Commerce with foreign Nations, and among the several States, and',\n",
       " 'with the Indian Tribes;',\n",
       " '',\n",
       " 'To establish an uniform Rule of Naturalization, and uniform Laws on the subject',\n",
       " 'of Bankruptcies throughout the United States;',\n",
       " '',\n",
       " 'To coin Money, regulate the Value thereof, and of foreign Coin, and fix the',\n",
       " 'Standard of Weights and Measures;',\n",
       " '',\n",
       " 'To provide for the Punishment of counterfeiting the Securities and current Coin',\n",
       " 'of the United States;',\n",
       " '',\n",
       " 'To establish Post Offices and Post Roads;',\n",
       " '',\n",
       " 'To promote the Progress of Science and useful Arts, by securing for limited',\n",
       " 'Times to Authors and Inventors the exclusive Right to their respective Writings',\n",
       " 'and Discoveries;',\n",
       " '',\n",
       " 'To constitute Tribunals inferior to the supreme Court;',\n",
       " '',\n",
       " 'To define and punish Piracies and Felonies committed on the high Seas, and',\n",
       " 'Offenses against the Law of Nations;',\n",
       " '',\n",
       " 'To declare War, grant Letters of Marque and Reprisal, and make Rules concerning',\n",
       " 'Captures on Land and Water;',\n",
       " '',\n",
       " 'To raise and support Armies, but no Appropriation of Money to that Use shall be',\n",
       " 'for a longer Term than two Years;',\n",
       " '',\n",
       " 'To provide and maintain a Navy;',\n",
       " '',\n",
       " 'To make Rules for the Government and Regulation of the land and naval Forces;',\n",
       " '',\n",
       " 'To provide for calling forth the Militia to execute the Laws of the Union,',\n",
       " 'suppress Insurrections and repel Invasions;',\n",
       " '',\n",
       " 'To provide for organizing, arming, and disciplining, the Militia, and for',\n",
       " 'governing such Part of them as may be employed in the Service of the United',\n",
       " 'States, reserving to the States respectively, the Appointment of the Officers,',\n",
       " 'and the Authority of training the Militia according to the discipline',\n",
       " 'prescribed by Congress;',\n",
       " '',\n",
       " 'To exercise exclusive Legislation in all Cases whatsoever, over such District',\n",
       " '(not exceeding ten Miles square) as may, by Cession of particular States, and',\n",
       " 'the acceptance of Congress, become the Seat of the Government of the United',\n",
       " 'States, and to exercise like Authority over all Places purchased by the Consent',\n",
       " 'of the Legislature of the State in which the Same shall be, for the Erection of',\n",
       " 'Forts, Magazines, Arsenals, dock-Yards, and other needful Buildings; And',\n",
       " '',\n",
       " 'To make all Laws which shall be necessary and proper for carrying into',\n",
       " 'Execution the foregoing Powers, and all other Powers vested by this',\n",
       " 'Constitution in the Government of the United States, or in any Department or',\n",
       " 'Officer thereof.',\n",
       " '',\n",
       " 'Section 9',\n",
       " 'The Migration or Importation of such Persons as any of the States now existing',\n",
       " 'shall think proper to admit, shall not be prohibited by the Congress prior to',\n",
       " 'the Year one thousand eight hundred and eight, but a tax or duty may be imposed',\n",
       " 'on such Importation, not exceeding ten dollars for each Person.',\n",
       " '',\n",
       " 'The privilege of the Writ of Habeas Corpus shall not be suspended, unless when',\n",
       " 'in Cases of Rebellion or Invasion the public Safety may require it.',\n",
       " '',\n",
       " 'No Bill of Attainder or ex post facto Law shall be passed.',\n",
       " '',\n",
       " 'No capitation, or other direct, Tax shall be laid, unless in Proportion to the',\n",
       " 'Census or Enumeration herein before directed to be taken.',\n",
       " '',\n",
       " 'No Tax or Duty shall be laid on Articles exported from any State.',\n",
       " '',\n",
       " 'No Preference shall be given by any Regulation of Commerce or Revenue to the',\n",
       " 'Ports of one State over those of another: nor shall Vessels bound to, or from,',\n",
       " 'one State, be obliged to enter, clear, or pay Duties in another.',\n",
       " '',\n",
       " 'No Money shall be drawn from the Treasury, but in Consequence of Appropriations',\n",
       " 'made by Law; and a regular Statement and Account of the Receipts and',\n",
       " 'Expenditures of all public Money shall be published from time to time.',\n",
       " '',\n",
       " 'No Title of Nobility shall be granted by the United States: And no Person',\n",
       " 'holding any Office of Profit or Trust under them, shall, without the Consent of',\n",
       " 'the Congress, accept of any present, Emolument, Office, or Title, of any kind',\n",
       " 'whatever, from any King, Prince or foreign State.',\n",
       " '',\n",
       " 'Section 10',\n",
       " 'No State shall enter into any Treaty, Alliance, or Confederation; grant Letters',\n",
       " 'of Marque and Reprisal; coin Money; emit Bills of Credit; make any Thing but',\n",
       " 'gold and silver Coin a Tender in Payment of Debts; pass any Bill of Attainder,',\n",
       " 'ex post facto Law, or Law impairing the Obligation of Contracts, or grant any',\n",
       " 'Title of Nobility.',\n",
       " '',\n",
       " 'No State shall, without the Consent of the Congress, lay any Imposts or Duties',\n",
       " 'on Imports or Exports, except what may be absolutely necessary for executing',\n",
       " 'its inspection Laws: and the net Produce of all Duties and Imposts, laid by',\n",
       " 'any State on Imports or Exports, shall be for the Use of the Treasury of the',\n",
       " 'United States; and all such Laws shall be subject to the Revision and Control',\n",
       " 'of the Congress.',\n",
       " '',\n",
       " 'No State shall, without the Consent of Congress, lay any duty of Tonnage, keep',\n",
       " 'Troops, or Ships of War in time of Peace, enter into any Agreement or Compact',\n",
       " 'with another State, or with a foreign Power, or engage in War, unless actually',\n",
       " 'invaded, or in such imminent Danger as will not admit of delay.',\n",
       " '',\n",
       " 'Article 2.',\n",
       " '',\n",
       " 'Section 1',\n",
       " 'The executive Power shall be vested in a President of the United States of',\n",
       " 'America. He shall hold his Office during the Term of four Years, and, together',\n",
       " 'with the Vice-President chosen for the same Term, be elected, as follows:',\n",
       " '',\n",
       " 'Each State shall appoint, in such Manner as the Legislature thereof may direct,',\n",
       " 'a Number of Electors, equal to the whole Number of Senators and Representatives',\n",
       " 'to which the State may be entitled in the Congress: but no Senator or',\n",
       " 'Representative, or Person holding an Office of Trust or Profit under the United',\n",
       " 'States, shall be appointed an Elector.',\n",
       " '',\n",
       " 'The Electors shall meet in their respective States, and vote by Ballot for two',\n",
       " 'persons, of whom one at least shall not lie an Inhabitant of the same State',\n",
       " 'with themselves. And they shall make a List of all the Persons voted for, and',\n",
       " 'of the Number of Votes for each; which List they shall sign and certify, and',\n",
       " 'transmit sealed to the Seat of the Government of the United States, directed to',\n",
       " 'the President of the Senate. The President of the Senate shall, in the Presence',\n",
       " 'of the Senate and House of Representatives, open all the Certificates, and the',\n",
       " 'Votes shall then be counted. The Person having the greatest Number of Votes',\n",
       " 'shall be the President, if such Number be a Majority of the whole Number of',\n",
       " 'Electors appointed; and if there be more than one who have such Majority, and',\n",
       " 'have an equal Number of Votes, then the House of Representatives shall',\n",
       " 'immediately choose by Ballot one of them for President; and if no Person have a',\n",
       " 'Majority, then from the five highest on the List the said House shall in like',\n",
       " 'Manner choose the President. But in choosing the President, the Votes shall be',\n",
       " 'taken by States, the Representation from each State having one Vote; a quorum',\n",
       " 'for this Purpose shall consist of a Member or Members from two-thirds of the',\n",
       " 'States, and a Majority of all the States shall be necessary to a Choice. In',\n",
       " 'every Case, after the Choice of the President, the Person having the greatest',\n",
       " 'Number of Votes of the Electors shall be the Vice President. But if there',\n",
       " 'should remain two or more who have equal Votes, the Senate shall choose from',\n",
       " 'them by Ballot the Vice-President.',\n",
       " '',\n",
       " 'The Congress may determine the Time of choosing the Electors, and the Day on',\n",
       " 'which they shall give their Votes; which Day shall be the same throughout the',\n",
       " 'United States.',\n",
       " '',\n",
       " 'No person except a natural born Citizen, or a Citizen of the United States, at',\n",
       " 'the time of the Adoption of this Constitution, shall be eligible to the Office',\n",
       " 'of President; neither shall any Person be eligible to that Office who shall not',\n",
       " 'have attained to the Age of thirty-five Years, and been fourteen Years a',\n",
       " 'Resident within the United States.',\n",
       " '',\n",
       " 'In Case of the Removal of the President from Office, or of his Death,',\n",
       " 'Resignation, or Inability to discharge the Powers and Duties of the said',\n",
       " 'Office, the same shall devolve on the Vice President, and the Congress may by',\n",
       " 'Law provide for the Case of Removal, Death, Resignation or Inability, both of',\n",
       " 'the President and Vice President, declaring what Officer shall then act as',\n",
       " 'President, and such Officer shall act accordingly, until the Disability be',\n",
       " 'removed, or a President shall be elected.',\n",
       " '',\n",
       " 'The President shall, at stated Times, receive for his Services, a Compensation,',\n",
       " 'which shall neither be increased nor diminished during the Period for which he',\n",
       " 'shall have been elected, and he shall not receive within that Period any other',\n",
       " 'Emolument from the United States, or any of them.',\n",
       " '',\n",
       " 'Before he enter on the Execution of his Office, he shall take the following',\n",
       " 'Oath or Affirmation:',\n",
       " '',\n",
       " '\"I do solemnly swear (or affirm) that I will faithfully execute the Office of',\n",
       " 'President of the United States, and will to the best of my Ability, preserve,',\n",
       " 'protect and defend the Constitution of the United States.\"',\n",
       " '',\n",
       " 'Section 2',\n",
       " 'The President shall be Commander in Chief of the Army and Navy of the United',\n",
       " 'States, and of the Militia of the several States, when called into the actual',\n",
       " 'Service of the United States; he may require the Opinion, in writing, of the',\n",
       " 'principal Officer in each of the executive Departments, upon any subject',\n",
       " 'relating to the Duties of their respective Offices, and he shall have Power to',\n",
       " 'Grant Reprieves and Pardons for Offenses against the United States, except in',\n",
       " 'Cases of Impeachment.',\n",
       " '',\n",
       " 'He shall have Power, by and with the Advice and Consent of the Senate, to make',\n",
       " 'Treaties, provided two thirds of the Senators present concur; and he shall',\n",
       " 'nominate, and by and with the Advice and Consent of the Senate, shall appoint',\n",
       " 'Ambassadors, other public Ministers and Consuls, Judges of the supreme Court,',\n",
       " 'and all other Officers of the United States, whose Appointments are not herein',\n",
       " 'otherwise provided for, and which shall be established by Law: but the Congress',\n",
       " 'may by Law vest the Appointment of such inferior Officers, as they think',\n",
       " 'proper, in the President alone, in the Courts of Law, or in the Heads of',\n",
       " 'Departments.',\n",
       " '',\n",
       " 'The President shall have Power to fill up all Vacancies that may happen during',\n",
       " 'the Recess of the Senate, by granting Commissions which shall expire at the End',\n",
       " 'of their next Session.',\n",
       " '',\n",
       " 'Section 3',\n",
       " 'He shall from time to time give to the Congress Information of the State of the',\n",
       " 'Union, and recommend to their Consideration such Measures as he shall judge',\n",
       " 'necessary and expedient; he may, on extraordinary Occasions, convene both',\n",
       " 'Houses, or either of them, and in Case of Disagreement between them, with',\n",
       " 'Respect to the Time of Adjournment, he may adjourn them to such Time as he',\n",
       " 'shall think proper; he shall receive Ambassadors and other public Ministers; he',\n",
       " 'shall take Care that the Laws be faithfully executed, and shall Commission all',\n",
       " 'the Officers of the United States.',\n",
       " '',\n",
       " 'Section 4',\n",
       " 'The President, Vice President and all civil Officers of the United States,',\n",
       " 'shall be removed from Office on Impeachment for, and Conviction of, Treason,',\n",
       " 'Bribery, or other high Crimes and Misdemeanors.',\n",
       " '',\n",
       " 'Article 3.',\n",
       " '',\n",
       " 'Section 1',\n",
       " 'The judicial Power of the United States, shall be vested in one supreme Court,',\n",
       " 'and in such inferior Courts as the Congress may from time to time ordain and',\n",
       " 'establish. The Judges, both of the supreme and inferior Courts, shall hold',\n",
       " 'their Offices during good Behavior, and shall, at stated Times, receive for',\n",
       " 'their Services a Compensation which shall not be diminished during their',\n",
       " 'Continuance in Office.',\n",
       " '',\n",
       " 'Section 2',\n",
       " 'The judicial Power shall extend to all Cases, in Law and Equity, arising under',\n",
       " 'this Constitution, the Laws of the United States, and Treaties made, or which',\n",
       " 'shall be made, under their Authority; to all Cases affecting Ambassadors, other',\n",
       " 'public Ministers and Consuls; to all Cases of admiralty and maritime',\n",
       " 'Jurisdiction; to Controversies to which the United States shall be a Party; to',\n",
       " 'Controversies between two or more States; between a State and Citizens of',\n",
       " 'another State; between Citizens of different States; between Citizens of the',\n",
       " 'same State claiming Lands under Grants of different States, and between a',\n",
       " 'State, or the Citizens thereof, and foreign States, Citizens or Subjects.',\n",
       " '',\n",
       " 'In all Cases affecting Ambassadors, other public Ministers and Consuls, and',\n",
       " 'those in which a State shall be Party, the supreme Court shall have original',\n",
       " 'Jurisdiction. In all the other Cases before mentioned, the supreme Court shall',\n",
       " 'have appellate Jurisdiction, both as to Law and Fact, with such Exceptions, and',\n",
       " 'under such Regulations as the Congress shall make.',\n",
       " '',\n",
       " 'The Trial of all Crimes, except in Cases of Impeachment, shall be by Jury; and',\n",
       " 'such Trial shall be held in the State where the said Crimes shall have been',\n",
       " 'committed; but when not committed within any State, the Trial shall be at such',\n",
       " 'Place or Places as the Congress may by Law have directed.',\n",
       " '',\n",
       " 'Section 3',\n",
       " 'Treason against the United States, shall consist only in levying War against',\n",
       " 'them, or in adhering to their Enemies, giving them Aid and Comfort. No Person',\n",
       " 'shall be convicted of Treason unless on the Testimony of two Witnesses to the',\n",
       " 'same overt Act, or on Confession in open Court.',\n",
       " '',\n",
       " 'The Congress shall have power to declare the Punishment of Treason, but no',\n",
       " 'Attainder of Treason shall work Corruption of Blood, or Forfeiture except',\n",
       " 'during the Life of the Person attainted.',\n",
       " '',\n",
       " 'Article 4.',\n",
       " '',\n",
       " 'Section 1',\n",
       " 'Full Faith and Credit shall be given in each State to the public Acts, Records,',\n",
       " 'and judicial Proceedings of every other State. And the Congress may by general',\n",
       " 'Laws prescribe the Manner in which such Acts, Records and Proceedings shall be',\n",
       " 'proved, and the Effect thereof.',\n",
       " '',\n",
       " 'Section 2',\n",
       " 'The Citizens of each State shall be entitled to all Privileges and Immunities',\n",
       " 'of Citizens in the several States.',\n",
       " '',\n",
       " 'A Person charged in any State with Treason, Felony, or other Crime, who shall',\n",
       " 'flee from Justice, and be found in another State, shall on demand of the',\n",
       " 'executive Authority of the State from which he fled, be delivered up, to be',\n",
       " 'removed to the State having Jurisdiction of the Crime.',\n",
       " '',\n",
       " 'No Person held to Service or Labour in one State, under the Laws thereof,',\n",
       " 'escaping into another, shall, in Consequence of any Law or Regulation therein,',\n",
       " 'be discharged from such Service or Labour, But shall be delivered up on Claim',\n",
       " 'of the Party to whom such Service or Labour may be due.',\n",
       " '',\n",
       " 'Section 3',\n",
       " 'New States may be admitted by the Congress into this Union; but no new States',\n",
       " 'shall be formed or erected within the Jurisdiction of any other State; nor any',\n",
       " 'State be formed by the Junction of two or more States, or parts of States,',\n",
       " 'without the Consent of the Legislatures of the States concerned as well as of',\n",
       " 'the Congress.',\n",
       " '',\n",
       " 'The Congress shall have Power to dispose of and make all needful Rules and',\n",
       " 'Regulations respecting the Territory or other Property belonging to the United',\n",
       " 'States; and nothing in this Constitution shall be so construed as to Prejudice',\n",
       " 'any Claims of the United States, or of any particular State.',\n",
       " '',\n",
       " 'Section 4',\n",
       " 'The United States shall guarantee to every State in this Union a Republican',\n",
       " 'Form of Government, and shall protect each of them against Invasion; and on',\n",
       " 'Application of the Legislature, or of the Executive (when the Legislature',\n",
       " 'cannot be convened) against domestic Violence.',\n",
       " '',\n",
       " 'Article 5.',\n",
       " '',\n",
       " 'The Congress, whenever two thirds of both Houses shall deem it necessary, shall',\n",
       " 'propose Amendments to this Constitution, or, on the Application of the',\n",
       " 'Legislatures of two thirds of the several States, shall call a Convention for',\n",
       " 'proposing Amendments, which, in either Case, shall be valid to all Intents and',\n",
       " 'Purposes, as part of this Constitution, when ratified by the Legislatures of',\n",
       " 'three fourths of the several States, or by Conventions in three fourths',\n",
       " 'thereof, as the one or the other Mode of Ratification may be proposed by the',\n",
       " 'Congress; Provided that no Amendment which may be made prior to the Year One',\n",
       " 'thousand eight hundred and eight shall in any Manner affect the first and',\n",
       " 'fourth Clauses in the Ninth Section of the first Article; and that no State,',\n",
       " 'without its Consent, shall be deprived of its equal Suffrage in the Senate.',\n",
       " '',\n",
       " 'Article 6.',\n",
       " '',\n",
       " 'All Debts contracted and Engagements entered into, before the Adoption of this',\n",
       " 'Constitution, shall be as valid against the United States under this',\n",
       " 'Constitution, as under the Confederation.',\n",
       " '',\n",
       " 'This Constitution, and the Laws of the United States which shall be made in',\n",
       " 'Pursuance thereof; and all Treaties made, or which shall be made, under the',\n",
       " 'Authority of the United States, shall be the supreme Law of the Land; and the',\n",
       " 'Judges in every State shall be bound thereby, any Thing in the Constitution or',\n",
       " 'Laws of any State to the Contrary notwithstanding.',\n",
       " '',\n",
       " 'The Senators and Representatives before mentioned, and the Members of the',\n",
       " 'several State Legislatures, and all executive and judicial Officers, both of',\n",
       " 'the United States and of the several States, shall be bound by Oath or',\n",
       " 'Affirmation, to support this Constitution; but no religious Test shall ever be',\n",
       " 'required as a Qualification to any Office or public Trust under the United',\n",
       " 'States.',\n",
       " '',\n",
       " 'Article 7.',\n",
       " '',\n",
       " 'The Ratification of the Conventions of nine States, shall be sufficient for the',\n",
       " 'Establishment of this Constitution between the States so ratifying the Same.',\n",
       " '',\n",
       " 'Done in Convention by the Unanimous Consent of the States present the',\n",
       " 'Seventeenth Day of September in the Year of our Lord one thousand seven hundred',\n",
       " 'and Eighty seven and of the Independence of the United States of America the',\n",
       " 'Twelfth. In Witness whereof We have hereunto subscribed our Names.',\n",
       " '',\n",
       " 'George Washington - President and deputy from Virginia',\n",
       " '',\n",
       " 'New Hampshire - John Langdon, Nicholas Gilman',\n",
       " '',\n",
       " 'Massachusetts - Nathaniel Gorham, Rufus King',\n",
       " '',\n",
       " 'Connecticut - William Samuel Johnson, Roger Sherman',\n",
       " '',\n",
       " 'New York - Alexander Hamilton',\n",
       " '',\n",
       " 'New Jersey - William Livingston, David Brearley, William Paterson, Jonathan',\n",
       " 'Dayton',\n",
       " '',\n",
       " 'Pennsylvania - Benjamin Franklin, Thomas Mifflin, Robert Morris, George Clymer,',\n",
       " 'Thomas Fitzsimons, Jared Ingersoll, James Wilson, Gouvernour Morris',\n",
       " '',\n",
       " 'Delaware - George Read, Gunning Bedford Jr., John Dickinson, Richard Bassett,',\n",
       " 'Jacob Broom',\n",
       " '',\n",
       " 'Maryland - James McHenry, Daniel of St Thomas Jenifer, Daniel Carroll',\n",
       " '',\n",
       " 'Virginia - John Blair, James Madison Jr.',\n",
       " '',\n",
       " 'North Carolina - William Blount, Richard Dobbs Spaight, Hugh Williamson',\n",
       " '',\n",
       " 'South Carolina - John Rutledge, Charles Cotesworth Pinckney, Charles Pinckney,',\n",
       " 'Pierce Butler',\n",
       " '',\n",
       " 'Georgia - William Few, Abraham Baldwin',\n",
       " '',\n",
       " 'Attest: William Jackson, Secretary',\n",
       " '',\n",
       " '',\n",
       " 'Amendment 1',\n",
       " 'Congress shall make no law respecting an establishment of religion, or',\n",
       " 'prohibiting the free exercise thereof; or abridging the freedom of speech, or',\n",
       " 'of the press; or the right of the people peaceably to assemble, and to petition',\n",
       " 'the Government for a redress of grievances.',\n",
       " '',\n",
       " 'Amendment 2',\n",
       " 'A well regulated Militia, being necessary to the security of a free State, the',\n",
       " 'right of the people to keep and bear Arms, shall not be infringed.',\n",
       " '',\n",
       " 'Amendment 3',\n",
       " 'No Soldier shall, in time of peace be quartered in any house, without the',\n",
       " 'consent of the Owner, nor in time of war, but in a manner to be prescribed by',\n",
       " 'law.',\n",
       " '',\n",
       " 'Amendment 4',\n",
       " 'The right of the people to be secure in their persons, houses, papers, and',\n",
       " 'effects, against unreasonable searches and seizures, shall not be violated, and',\n",
       " 'no Warrants shall issue, but upon probable cause, supported by Oath or',\n",
       " 'affirmation, and particularly describing the place to be searched, and the',\n",
       " 'persons or things to be seized.',\n",
       " '',\n",
       " 'Amendment 5',\n",
       " 'No person shall be held to answer for a capital, or otherwise infamous crime,',\n",
       " 'unless on a presentment or indictment of a Grand Jury, except in cases arising',\n",
       " 'in the land or naval forces, or in the Militia, when in actual service in time',\n",
       " 'of War or public danger; nor shall any person be subject for the same offense',\n",
       " 'to be twice put in jeopardy of life or limb; nor shall be compelled in any',\n",
       " 'criminal case to be a witness against himself, nor be deprived of life,',\n",
       " 'liberty, or property, without due process of law; nor shall private property be',\n",
       " 'taken for public use, without just compensation.',\n",
       " '',\n",
       " 'Amendment 6',\n",
       " 'In all criminal prosecutions, the accused shall enjoy the right to a speedy and',\n",
       " 'public trial, by an impartial jury of the State and district wherein the crime',\n",
       " 'shall have been committed, which district shall have been previously',\n",
       " 'ascertained by law, and to be informed of the nature and cause of the',\n",
       " 'accusation; to be confronted with the witnesses against him; to have compulsory',\n",
       " 'process for obtaining witnesses in his favor, and to have the Assistance of',\n",
       " 'Counsel for his defence.',\n",
       " '',\n",
       " 'Amendment 7',\n",
       " 'In Suits at common law, where the value in controversy shall exceed twenty',\n",
       " 'dollars, the right of trial by jury shall be preserved, and no fact tried by a',\n",
       " 'jury, shall be otherwise re-examined in any Court of the United States, than',\n",
       " 'according to the rules of the common law.',\n",
       " '',\n",
       " 'Amendment 8',\n",
       " 'Excessive bail shall not be required, nor excessive fines imposed, nor cruel',\n",
       " 'and unusual punishments inflicted.',\n",
       " '',\n",
       " 'Amendment 9',\n",
       " 'The enumeration in the Constitution, of certain rights, shall not be construed',\n",
       " 'to deny or disparage others retained by the people.',\n",
       " '',\n",
       " 'Amendment 10',\n",
       " 'The powers not delegated to the United States by the Constitution, nor',\n",
       " 'prohibited by it to the States, are reserved to the States respectively, or to',\n",
       " 'the people.',\n",
       " '',\n",
       " 'Amendment 11',\n",
       " 'The Judicial power of the United States shall not be construed to extend to any',\n",
       " 'suit in law or equity, commenced or prosecuted against one of the United States',\n",
       " 'by Citizens of another State, or by Citizens or Subjects of any Foreign State.',\n",
       " '',\n",
       " 'Amendment 12',\n",
       " 'The Electors shall meet in their respective states, and vote by ballot for',\n",
       " 'President and Vice-President, one of whom, at least, shall not be an inhabitant',\n",
       " 'of the same state with themselves; they shall name in their ballots the person',\n",
       " 'voted for as President, and in distinct ballots the person voted for as',\n",
       " 'Vice-President, and they shall make distinct lists of all persons voted for as',\n",
       " 'President, and of all persons voted for as Vice-President and of the number of',\n",
       " 'votes for each, which lists they shall sign and certify, and transmit sealed to',\n",
       " 'the seat of the government of the United States, directed to the President of',\n",
       " 'the Senate;',\n",
       " '',\n",
       " 'The President of the Senate shall, in the presence of the Senate and House of',\n",
       " 'Representatives, open all the certificates and the votes shall then be counted;',\n",
       " '',\n",
       " 'The person having the greatest Number of votes for President, shall be the',\n",
       " 'President, if such number be a majority of the whole number of Electors',\n",
       " 'appointed; and if no person have such majority, then from the persons having',\n",
       " 'the highest numbers not exceeding three on the list of those voted for as',\n",
       " 'President, the House of Representatives shall choose immediately, by ballot,',\n",
       " 'the President. But in choosing the President, the votes shall be taken by',\n",
       " 'states, the representation from each state having one vote; a quorum for this',\n",
       " 'purpose shall consist of a member or members from two-thirds of the states, and',\n",
       " 'a majority of all the states shall be necessary to a choice. And if the House',\n",
       " 'of Representatives shall not choose a President whenever the right of choice',\n",
       " 'shall devolve upon them, before the fourth day of March next following, then',\n",
       " 'the Vice-President shall act as President, as in the case of the death or other',\n",
       " 'constitutional disability of the President.',\n",
       " '',\n",
       " 'The person having the greatest number of votes as Vice-President, shall be the',\n",
       " 'Vice-President, if such number be a majority of the whole number of Electors',\n",
       " 'appointed, and if no person have a majority, then from the two highest numbers',\n",
       " 'on the list, the Senate shall choose the Vice-President; a quorum for the',\n",
       " 'purpose shall consist of two-thirds of the whole number of Senators, and a',\n",
       " 'majority of the whole number shall be necessary to a choice. But no person',\n",
       " 'constitutionally ineligible to the office of President shall be eligible to',\n",
       " 'that of Vice-President of the United States.',\n",
       " '',\n",
       " 'Amendment 13',\n",
       " '1. Neither slavery nor involuntary servitude, except as a punishment for crime',\n",
       " 'whereof the party shall have been duly convicted, shall exist within the United',\n",
       " 'States, or any place subject to their jurisdiction.',\n",
       " '',\n",
       " '2. Congress shall have power to enforce this article by appropriate',\n",
       " 'legislation.',\n",
       " '',\n",
       " 'Amendment 14',\n",
       " '1. All persons born or naturalized in the United States, and subject to the',\n",
       " 'jurisdiction thereof, are citizens of the United States and of the State',\n",
       " 'wherein they reside. No State shall make or enforce any law which shall abridge',\n",
       " 'the privileges or immunities of citizens of the United States; nor shall any',\n",
       " 'State deprive any person of life, liberty, or property, without due process of',\n",
       " 'law; nor deny to any person within its jurisdiction the equal protection of the',\n",
       " 'laws.',\n",
       " '',\n",
       " '2. Representatives shall be apportioned among the several States according to',\n",
       " 'their respective numbers, counting the whole number of persons in each State,',\n",
       " 'excluding Indians not taxed. But when the right to vote at any election for the',\n",
       " 'choice of electors for President and Vice-President of the United States,',\n",
       " 'Representatives in Congress, the Executive and Judicial officers of a State, or',\n",
       " 'the members of the Legislature thereof, is denied to any of the male',\n",
       " 'inhabitants of such State, being twenty-one years of age, and citizens of the',\n",
       " 'United States, or in any way abridged, except for participation in rebellion,',\n",
       " 'or other crime, the basis of representation therein shall be reduced in the',\n",
       " 'proportion which the number of such male citizens shall bear to the whole',\n",
       " 'number of male citizens twenty-one years of age in such State.',\n",
       " '',\n",
       " '3. No person shall be a Senator or Representative in Congress, or elector of',\n",
       " 'President and Vice-President, or hold any office, civil or military, under the',\n",
       " 'United States, or under any State, who, having previously taken an oath, as a',\n",
       " 'member of Congress, or as an officer of the United States, or as a member of',\n",
       " 'any State legislature, or as an executive or judicial officer of any State, to',\n",
       " 'support the Constitution of the United States, shall have engaged in',\n",
       " 'insurrection or rebellion against the same, or given aid or comfort to the',\n",
       " 'enemies thereof. But Congress may by a vote of two-thirds of each House, remove',\n",
       " 'such disability.',\n",
       " '',\n",
       " '4. The validity of the public debt of the United States, authorized by law,',\n",
       " 'including debts incurred for payment of pensions and bounties for services in',\n",
       " 'suppressing insurrection or rebellion, shall not be questioned. But neither the',\n",
       " 'United States nor any State shall assume or pay any debt or obligation incurred',\n",
       " 'in aid of insurrection or rebellion against the United States, or any claim for',\n",
       " 'the loss or emancipation of any slave; but all such debts, obligations and',\n",
       " 'claims shall be held illegal and void.',\n",
       " '',\n",
       " '5. The Congress shall have power to enforce, by appropriate legislation, the',\n",
       " 'provisions of this article.',\n",
       " '',\n",
       " 'Amendment 15',\n",
       " '1. The right of citizens of the United States to vote shall not be denied or',\n",
       " 'abridged by the United States or by any State on account of race, color, or',\n",
       " 'previous condition of servitude.',\n",
       " '',\n",
       " '2. The Congress shall have power to enforce this article by appropriate',\n",
       " 'legislation.',\n",
       " '',\n",
       " 'Amendment 16',\n",
       " 'The Congress shall have power to lay and collect taxes on incomes, from',\n",
       " 'whatever source derived, without apportionment among the several States, and',\n",
       " 'without regard to any census or enumeration.',\n",
       " '',\n",
       " 'Amendment 17',\n",
       " 'The Senate of the United States shall be composed of two Senators from each',\n",
       " 'State, elected by the people thereof, for six years; and each Senator shall',\n",
       " 'have one vote. The electors in each State shall have the qualifications',\n",
       " 'requisite for electors of the most numerous branch of the State legislatures.',\n",
       " '',\n",
       " 'When vacancies happen in the representation of any State in the Senate, the',\n",
       " 'executive authority of such State shall issue writs of election to fill such',\n",
       " 'vacancies: Provided, That the legislature of any State may empower the',\n",
       " 'executive thereof to make temporary appointments until the people fill the',\n",
       " 'vacancies by election as the legislature may direct.',\n",
       " '',\n",
       " 'This amendment shall not be so construed as to affect the election or term of',\n",
       " 'any Senator chosen before it becomes valid as part of the Constitution.',\n",
       " '',\n",
       " 'Amendment 18',\n",
       " '1. After one year from the ratification of this article the manufacture, sale,',\n",
       " 'or transportation of intoxicating liquors within, the importation thereof into,',\n",
       " 'or the exportation thereof from the United States and all territory subject to',\n",
       " 'the jurisdiction thereof for beverage purposes is hereby prohibited.',\n",
       " '',\n",
       " '2. The Congress and the several States shall have concurrent power to enforce',\n",
       " 'this article by appropriate legislation.',\n",
       " '',\n",
       " '3. This article shall be inoperative unless it shall have been ratified as an',\n",
       " 'amendment to the Constitution by the legislatures of the several States, as',\n",
       " 'provided in the Constitution, within seven years from the date of the',\n",
       " 'submission hereof to the States by the Congress.',\n",
       " '',\n",
       " 'Amendment 19',\n",
       " 'The right of citizens of the United States to vote shall not be denied or',\n",
       " 'abridged by the United States or by any State on account of sex.',\n",
       " '',\n",
       " 'Congress shall have power to enforce this article by appropriate legislation.',\n",
       " '',\n",
       " 'Amendment 20',\n",
       " '1. The terms of the President and Vice President shall end at noon on the 20th',\n",
       " 'day of January, and the terms of Senators and Representatives at noon on the 3d',\n",
       " 'day of January, of the years in which such terms would have ended if this',\n",
       " 'article had not been ratified; and the terms of their successors shall then',\n",
       " 'begin.',\n",
       " '',\n",
       " '2. The Congress shall assemble at least once in every year, and such meeting',\n",
       " 'shall begin at noon on the 3d day of January, unless they shall by law appoint',\n",
       " 'a different day.',\n",
       " '',\n",
       " '3. If, at the time fixed for the beginning of the term of the President, the',\n",
       " 'President elect shall have died, the Vice President elect shall become',\n",
       " 'President. If a President shall not have been chosen before the time fixed for',\n",
       " 'the beginning of his term, or if the President elect shall have failed to',\n",
       " 'qualify, then the Vice President elect shall act as President until a President',\n",
       " 'shall have qualified; and the Congress may by law provide for the case wherein',\n",
       " 'neither a President elect nor a Vice President elect shall have qualified,',\n",
       " 'declaring who shall then act as President, or the manner in which one who is to',\n",
       " 'act shall be selected, and such person shall act accordingly until a President',\n",
       " 'or Vice President shall have qualified.',\n",
       " '',\n",
       " '4. The Congress may by law provide for the case of the death of any of the',\n",
       " 'persons from whom the House of Representatives may choose a President whenever',\n",
       " 'the right of choice shall have devolved upon them, and for the case of the',\n",
       " 'death of any of the persons from whom the Senate may choose a Vice President',\n",
       " 'whenever the right of choice shall have devolved upon them.',\n",
       " '',\n",
       " '5. Sections 1 and 2 shall take effect on the 15th day of October following the',\n",
       " 'ratification of this article.',\n",
       " '',\n",
       " '6. This article shall be inoperative unless it shall have been ratified as an',\n",
       " 'amendment to the Constitution by the legislatures of three-fourths of the',\n",
       " 'several States within seven years from the date of its submission.',\n",
       " '',\n",
       " 'Amendment 21',\n",
       " '1. The eighteenth article of amendment to the Constitution of the United States',\n",
       " 'is hereby repealed.',\n",
       " '',\n",
       " '2. The transportation or importation into any State, Territory, or possession',\n",
       " 'of the United States for delivery or use therein of intoxicating liquors, in',\n",
       " 'violation of the laws thereof, is hereby prohibited.',\n",
       " '',\n",
       " '3. The article shall be inoperative unless it shall have been ratified as an',\n",
       " 'amendment to the Constitution by conventions in the several States, as provided',\n",
       " 'in the Constitution, within seven years from the date of the submission hereof',\n",
       " 'to the States by the Congress.',\n",
       " '',\n",
       " 'Amendment 22',\n",
       " '1. No person shall be elected to the office of the President more than twice,',\n",
       " 'and no person who has held the office of President, or acted as President, for',\n",
       " 'more than two years of a term to which some other person was elected President',\n",
       " 'shall be elected to the office of the President more than once. But this',\n",
       " 'Article shall not apply to any person holding the office of President, when this',\n",
       " 'Article was proposed by the Congress, and shall not prevent any person who may',\n",
       " 'be holding the office of President, or acting as President, during the term',\n",
       " 'within which this Article becomes operative from holding the office of',\n",
       " 'President or acting as President during the remainder of such term.',\n",
       " '',\n",
       " '2. This article shall be inoperative unless it shall have been ratified as an',\n",
       " 'amendment to the Constitution by the legislatures of three-fourths of the',\n",
       " 'several States within seven years from the date of its submission to the States',\n",
       " 'by the Congress.',\n",
       " '',\n",
       " 'Amendment 23',\n",
       " '1. The District constituting the seat of Government of the United States shall',\n",
       " 'appoint in such manner as the Congress may direct: A number of electors of',\n",
       " 'President and Vice President equal to the whole number of Senators and',\n",
       " 'Representatives in Congress to which the District would be entitled if it were',\n",
       " 'a State, but in no event more than the least populous State; they shall be in',\n",
       " 'addition to those appointed by the States, but they shall be considered, for',\n",
       " 'the purposes of the election of President and Vice President, to be electors',\n",
       " 'appointed by a State; and they shall meet in the District and perform such',\n",
       " 'duties as provided by the twelfth article of amendment.',\n",
       " '',\n",
       " '2. The Congress shall have power to enforce this article by appropriate',\n",
       " 'legislation.',\n",
       " '',\n",
       " 'Amendment 24',\n",
       " '1. The right of citizens of the United States to vote in any primary or other',\n",
       " 'election for President or Vice President, for electors for President or',\n",
       " 'Vice President, or for Senator or Representative in Congress, shall not be',\n",
       " 'denied or abridged by the United States or any State by reason of failure to',\n",
       " 'pay any poll tax or other tax.',\n",
       " '',\n",
       " '2. The Congress shall have power to enforce this article by appropriate',\n",
       " 'legislation.',\n",
       " '',\n",
       " 'Amendment 25',\n",
       " '1. In case of the removal of the President from office or of his death or',\n",
       " 'resignation, the Vice President shall become President.',\n",
       " '',\n",
       " '2. Whenever there is a vacancy in the office of the Vice President, the',\n",
       " 'President shall nominate a Vice President who shall take office upon',\n",
       " 'confirmation by a majority vote of both Houses of Congress.',\n",
       " '',\n",
       " '3. Whenever the President transmits to the President pro tempore of the Senate',\n",
       " 'and the Speaker of the House of Representatives his written declaration that he',\n",
       " 'is unable to discharge the powers and duties of his office, and until he',\n",
       " 'transmits to them a written declaration to the contrary, such powers and duties',\n",
       " 'shall be discharged by the Vice President as Acting President.',\n",
       " '',\n",
       " '4. Whenever the Vice President and a majority of either the principal officers',\n",
       " 'of the executive departments or of such other body as Congress may by law',\n",
       " 'provide, transmit to the President pro tempore of the Senate and the Speaker of',\n",
       " 'the House of Representatives their written declaration that the President is',\n",
       " 'unable to discharge the powers and duties of his office, the Vice President',\n",
       " 'shall immediately assume the powers and duties of the office as Acting',\n",
       " 'President.',\n",
       " '',\n",
       " 'Thereafter, when the President transmits to the President pro tempore of the',\n",
       " 'Senate and the Speaker of the House of Representatives his written declaration',\n",
       " 'that no inability exists, he shall resume the powers and duties of his office',\n",
       " 'unless the Vice President and a majority of either the principal officers of',\n",
       " 'the executive department or of such other body as Congress may by law provide,',\n",
       " 'transmit within four days to the President pro tempore of the Senate and the',\n",
       " 'Speaker of the House of Representatives their written declaration that the',\n",
       " 'President is unable to discharge the powers and duties of his office. Thereupon',\n",
       " 'Congress shall decide the issue, assembling within forty eight hours for that',\n",
       " 'purpose if not in session. If the Congress, within twenty one days after',\n",
       " 'receipt of the latter written declaration, or, if Congress is not in session,',\n",
       " 'within twenty one days after Congress is required to assemble, determines by',\n",
       " 'two thirds vote of both Houses that the President is unable to discharge the',\n",
       " 'powers and duties of his office, the Vice President shall continue to discharge',\n",
       " 'the same as Acting President; otherwise, the President shall resume the powers',\n",
       " 'and duties of his office.',\n",
       " '',\n",
       " 'Amendment 26',\n",
       " '1. The right of citizens of the United States, who are eighteen years of age or',\n",
       " 'older, to vote shall not be denied or abridged by the United States or by any',\n",
       " 'State on account of age.',\n",
       " '',\n",
       " '2. The Congress shall have power to enforce this article by appropriate',\n",
       " 'legislation.',\n",
       " '',\n",
       " 'Amendment 27',\n",
       " 'No law, varying the compensation for the services of the Senators and',\n",
       " 'Representatives, shall take effect, until an election of Representatives shall',\n",
       " 'have intervened.']"
      ]
     },
     "execution_count": 85,
     "metadata": {},
     "output_type": "execute_result"
    }
   ],
   "source": [
    "text12.splitlines() #splits the text by each sentence"
   ]
  },
  {
   "cell_type": "code",
   "execution_count": 86,
   "metadata": {},
   "outputs": [],
   "source": [
    "text13 = text12.splitlines()"
   ]
  },
  {
   "cell_type": "code",
   "execution_count": 87,
   "metadata": {},
   "outputs": [
    {
     "data": {
      "text/plain": [
       "'We the People of the United States, in Order to form a more perfect Union,'"
      ]
     },
     "execution_count": 87,
     "metadata": {},
     "output_type": "execute_result"
    }
   ],
   "source": [
    "text13[0]"
   ]
  },
  {
   "cell_type": "code",
   "execution_count": 88,
   "metadata": {},
   "outputs": [],
   "source": [
    "#Rstrip works for '\\r' or '\\r\\n' characters"
   ]
  },
  {
   "cell_type": "markdown",
   "metadata": {},
   "source": [
    "Regular Expression for more complex parsing"
   ]
  },
  {
   "cell_type": "code",
   "execution_count": 91,
   "metadata": {},
   "outputs": [],
   "source": [
    "import re"
   ]
  },
  {
   "cell_type": "code",
   "execution_count": 94,
   "metadata": {},
   "outputs": [],
   "source": [
    "text10 = '\"Ethics are built right into the ideals and objectives of the United Nations\" #UNSG @ NY Society for Ethical Culture bit.ly/2guVelr @UN @UN_Women'"
   ]
  },
  {
   "cell_type": "code",
   "execution_count": 95,
   "metadata": {},
   "outputs": [],
   "source": [
    "text11 = text10.split(' ')"
   ]
  },
  {
   "cell_type": "code",
   "execution_count": 96,
   "metadata": {},
   "outputs": [
    {
     "data": {
      "text/plain": [
       "['\"Ethics',\n",
       " 'are',\n",
       " 'built',\n",
       " 'right',\n",
       " 'into',\n",
       " 'the',\n",
       " 'ideals',\n",
       " 'and',\n",
       " 'objectives',\n",
       " 'of',\n",
       " 'the',\n",
       " 'United',\n",
       " 'Nations\"',\n",
       " '#UNSG',\n",
       " '@',\n",
       " 'NY',\n",
       " 'Society',\n",
       " 'for',\n",
       " 'Ethical',\n",
       " 'Culture',\n",
       " 'bit.ly/2guVelr',\n",
       " '@UN',\n",
       " '@UN_Women']"
      ]
     },
     "execution_count": 96,
     "metadata": {},
     "output_type": "execute_result"
    }
   ],
   "source": [
    "text11"
   ]
  },
  {
   "cell_type": "code",
   "execution_count": 97,
   "metadata": {},
   "outputs": [
    {
     "data": {
      "text/plain": [
       "['#UNSG']"
      ]
     },
     "execution_count": 97,
     "metadata": {},
     "output_type": "execute_result"
    }
   ],
   "source": [
    "#Finding specific words for example Hashtags:\n",
    "[w for w in text11 if w.startswith('#')]"
   ]
  },
  {
   "cell_type": "code",
   "execution_count": 98,
   "metadata": {},
   "outputs": [
    {
     "data": {
      "text/plain": [
       "['@', '@UN', '@UN_Women']"
      ]
     },
     "execution_count": 98,
     "metadata": {},
     "output_type": "execute_result"
    }
   ],
   "source": [
    "[w for w in text11 if w.startswith('@')]"
   ]
  },
  {
   "cell_type": "code",
   "execution_count": 100,
   "metadata": {},
   "outputs": [
    {
     "data": {
      "text/plain": [
       "['@UN', '@UN_Women']"
      ]
     },
     "execution_count": 100,
     "metadata": {},
     "output_type": "execute_result"
    }
   ],
   "source": [
    "[w for w in text11 if re.search('@[A-Za-z0-9]+', w)]"
   ]
  },
  {
   "cell_type": "markdown",
   "metadata": {},
   "source": [
    "- Starts with an At\n",
    "- Followed by any alphabet (upper or lower case), digit, or underscore\n",
    "- that repeats at least onece, but any number of times"
   ]
  },
  {
   "cell_type": "markdown",
   "metadata": {},
   "source": [
    "Meta Characters:\n",
    "    - . Wildcard, matches a single character\n",
    "    ^ start of a string\n",
    "    $ end of a string\n",
    "    [] matches one of the set of characters within []\n",
    "    [a-z] matches one of the range of characters a,b,....,z\n",
    "    [^abc] matches a character that is not a,b, or c\n",
    "    a|b a or b \n",
    "    () scoping for operators\n",
    "    \\ escape slash\n",
    "    \\b matches word boundary\n",
    "    \\d match any digit, equivalent to [0-9]\n",
    "    \\D any non digit, anything that is not [0-9]\n",
    "    \\s any whitespace character, equivalent to [ \\t\\n\\r\\f\\v]\n",
    "    \\S any non whitespace character, equivalent to [^ \\t\\n\\r\\f\\v]\n",
    "    \\w alphanumeric character, equivalent to [a-zA-Z0-9_]\n",
    "    \\W non alphanumeric character, equivalent to [^a-zA-Z0-9_]\n",
    "    * matches zero or more occurrences\n",
    "    + matches one or more occurrences\n",
    "    ? matches once, or zero occurrences\n",
    "    {n} matches exactly n times, where n >= 0\n",
    "    {n,} matches at least n times\n",
    "    {,n} at most n times\n",
    "    {m,n} at least m times, at most n times"
   ]
  },
  {
   "cell_type": "code",
   "execution_count": 105,
   "metadata": {},
   "outputs": [],
   "source": [
    "capital = 'ouagadougou'"
   ]
  },
  {
   "cell_type": "code",
   "execution_count": 106,
   "metadata": {},
   "outputs": [
    {
     "data": {
      "text/plain": [
       "['o', 'u', 'a', 'a', 'o', 'u', 'o', 'u']"
      ]
     },
     "execution_count": 106,
     "metadata": {},
     "output_type": "execute_result"
    }
   ],
   "source": [
    "re.findall(r'[aeiou]', capital)"
   ]
  },
  {
   "cell_type": "code",
   "execution_count": 107,
   "metadata": {},
   "outputs": [
    {
     "data": {
      "text/plain": [
       "['g', 'd', 'g']"
      ]
     },
     "execution_count": 107,
     "metadata": {},
     "output_type": "execute_result"
    }
   ],
   "source": [
    "re.findall(r'[^aeiou]', capital)"
   ]
  },
  {
   "cell_type": "markdown",
   "metadata": {},
   "source": [
    "Working with Text Data in Pandas DF"
   ]
  },
  {
   "cell_type": "code",
   "execution_count": 108,
   "metadata": {},
   "outputs": [],
   "source": [
    "import pandas as pd"
   ]
  },
  {
   "cell_type": "code",
   "execution_count": 109,
   "metadata": {},
   "outputs": [],
   "source": [
    "time_sentences = [\"Monday: The doctor's appointment is at 2:45pm.\", \n",
    "                 \"Tuesday: The dentist's appointment is at 11:30 am.\",\n",
    "                 \"Wednesday: At 7:00pm, there is a basketball game!\", \n",
    "                 \"Thursday: Be back home by 11:15 pm at the latest.\", \n",
    "                 \"Friday: Take the train at 08:10 am, arrive at 09:00am.\"]"
   ]
  },
  {
   "cell_type": "code",
   "execution_count": 110,
   "metadata": {},
   "outputs": [],
   "source": [
    "df = pd.DataFrame(time_sentences, columns=['text'])"
   ]
  },
  {
   "cell_type": "code",
   "execution_count": 111,
   "metadata": {},
   "outputs": [
    {
     "data": {
      "text/html": [
       "<div>\n",
       "<style scoped>\n",
       "    .dataframe tbody tr th:only-of-type {\n",
       "        vertical-align: middle;\n",
       "    }\n",
       "\n",
       "    .dataframe tbody tr th {\n",
       "        vertical-align: top;\n",
       "    }\n",
       "\n",
       "    .dataframe thead th {\n",
       "        text-align: right;\n",
       "    }\n",
       "</style>\n",
       "<table border=\"1\" class=\"dataframe\">\n",
       "  <thead>\n",
       "    <tr style=\"text-align: right;\">\n",
       "      <th></th>\n",
       "      <th>text</th>\n",
       "    </tr>\n",
       "  </thead>\n",
       "  <tbody>\n",
       "    <tr>\n",
       "      <th>0</th>\n",
       "      <td>Monday: The doctor's appointment is at 2:45pm.</td>\n",
       "    </tr>\n",
       "    <tr>\n",
       "      <th>1</th>\n",
       "      <td>Tuesday: The dentist's appointment is at 11:30...</td>\n",
       "    </tr>\n",
       "    <tr>\n",
       "      <th>2</th>\n",
       "      <td>Wednesday: At 7:00pm, there is a basketball game!</td>\n",
       "    </tr>\n",
       "    <tr>\n",
       "      <th>3</th>\n",
       "      <td>Thursday: Be back home by 11:15 pm at the latest.</td>\n",
       "    </tr>\n",
       "    <tr>\n",
       "      <th>4</th>\n",
       "      <td>Friday: Take the train at 08:10 am, arrive at ...</td>\n",
       "    </tr>\n",
       "  </tbody>\n",
       "</table>\n",
       "</div>"
      ],
      "text/plain": [
       "                                                text\n",
       "0     Monday: The doctor's appointment is at 2:45pm.\n",
       "1  Tuesday: The dentist's appointment is at 11:30...\n",
       "2  Wednesday: At 7:00pm, there is a basketball game!\n",
       "3  Thursday: Be back home by 11:15 pm at the latest.\n",
       "4  Friday: Take the train at 08:10 am, arrive at ..."
      ]
     },
     "execution_count": 111,
     "metadata": {},
     "output_type": "execute_result"
    }
   ],
   "source": [
    "df"
   ]
  },
  {
   "cell_type": "code",
   "execution_count": 114,
   "metadata": {},
   "outputs": [
    {
     "data": {
      "text/plain": [
       "0    46\n",
       "1    50\n",
       "2    49\n",
       "3    49\n",
       "4    54\n",
       "Name: text, dtype: int64"
      ]
     },
     "execution_count": 114,
     "metadata": {},
     "output_type": "execute_result"
    }
   ],
   "source": [
    "#find the number of characters for each string in df['text']\n",
    "df['text'].str.len()"
   ]
  },
  {
   "cell_type": "code",
   "execution_count": 115,
   "metadata": {},
   "outputs": [
    {
     "data": {
      "text/plain": [
       "0     7\n",
       "1     8\n",
       "2     8\n",
       "3    10\n",
       "4    10\n",
       "Name: text, dtype: int64"
      ]
     },
     "execution_count": 115,
     "metadata": {},
     "output_type": "execute_result"
    }
   ],
   "source": [
    "#find the number of tokens for each string in df['text']\n",
    "df['text'].str.split().str.len()"
   ]
  },
  {
   "cell_type": "code",
   "execution_count": 116,
   "metadata": {},
   "outputs": [
    {
     "data": {
      "text/plain": [
       "0     True\n",
       "1     True\n",
       "2    False\n",
       "3    False\n",
       "4    False\n",
       "Name: text, dtype: bool"
      ]
     },
     "execution_count": 116,
     "metadata": {},
     "output_type": "execute_result"
    }
   ],
   "source": [
    "#find which entries contain the word 'appointment'\n",
    "df['text'].str.contains('appointment')"
   ]
  },
  {
   "cell_type": "code",
   "execution_count": 118,
   "metadata": {},
   "outputs": [
    {
     "data": {
      "text/plain": [
       "0    3\n",
       "1    4\n",
       "2    3\n",
       "3    4\n",
       "4    8\n",
       "Name: text, dtype: int64"
      ]
     },
     "execution_count": 118,
     "metadata": {},
     "output_type": "execute_result"
    }
   ],
   "source": [
    "#find how many times a digit occurs in each string\n",
    "df['text'].str.count(r'\\d')"
   ]
  },
  {
   "cell_type": "code",
   "execution_count": 119,
   "metadata": {},
   "outputs": [
    {
     "data": {
      "text/plain": [
       "0                   [2, 4, 5]\n",
       "1                [1, 1, 3, 0]\n",
       "2                   [7, 0, 0]\n",
       "3                [1, 1, 1, 5]\n",
       "4    [0, 8, 1, 0, 0, 9, 0, 0]\n",
       "Name: text, dtype: object"
      ]
     },
     "execution_count": 119,
     "metadata": {},
     "output_type": "execute_result"
    }
   ],
   "source": [
    "#find all occurrances of the digits\n",
    "df['text'].str.findall(r'\\d')"
   ]
  },
  {
   "cell_type": "code",
   "execution_count": 120,
   "metadata": {},
   "outputs": [
    {
     "data": {
      "text/plain": [
       "0               [(2, 45)]\n",
       "1              [(11, 30)]\n",
       "2               [(7, 00)]\n",
       "3              [(11, 15)]\n",
       "4    [(08, 10), (09, 00)]\n",
       "Name: text, dtype: object"
      ]
     },
     "execution_count": 120,
     "metadata": {},
     "output_type": "execute_result"
    }
   ],
   "source": [
    "#group and find the hours and minutes:\n",
    "df['text'].str.findall(r'(\\d?\\d):(\\d\\d)')"
   ]
  },
  {
   "cell_type": "code",
   "execution_count": 121,
   "metadata": {},
   "outputs": [
    {
     "data": {
      "text/plain": [
       "0          ???: The doctor's appointment is at 2:45pm.\n",
       "1       ???: The dentist's appointment is at 11:30 am.\n",
       "2          ???: At 7:00pm, there is a basketball game!\n",
       "3         ???: Be back home by 11:15 pm at the latest.\n",
       "4    ???: Take the train at 08:10 am, arrive at 09:...\n",
       "Name: text, dtype: object"
      ]
     },
     "execution_count": 121,
     "metadata": {},
     "output_type": "execute_result"
    }
   ],
   "source": [
    "# replace weekdays with '???'\n",
    "df['text'].str.replace(r'\\w+day\\b', '???')"
   ]
  },
  {
   "cell_type": "code",
   "execution_count": 123,
   "metadata": {},
   "outputs": [
    {
     "data": {
      "text/plain": [
       "0          Mon: The doctor's appointment is at 2:45pm.\n",
       "1       Tue: The dentist's appointment is at 11:30 am.\n",
       "2          Wed: At 7:00pm, there is a basketball game!\n",
       "3         Thu: Be back home by 11:15 pm at the latest.\n",
       "4    Fri: Take the train at 08:10 am, arrive at 09:...\n",
       "Name: text, dtype: object"
      ]
     },
     "execution_count": 123,
     "metadata": {},
     "output_type": "execute_result"
    }
   ],
   "source": [
    "#replace weekdays with 3 letter abbreviations:\n",
    "df['text'].str.replace(r'(\\w+day\\b)', lambda x: x.groups()[0][:3])"
   ]
  },
  {
   "cell_type": "code",
   "execution_count": 125,
   "metadata": {},
   "outputs": [
    {
     "data": {
      "text/html": [
       "<div>\n",
       "<style scoped>\n",
       "    .dataframe tbody tr th:only-of-type {\n",
       "        vertical-align: middle;\n",
       "    }\n",
       "\n",
       "    .dataframe tbody tr th {\n",
       "        vertical-align: top;\n",
       "    }\n",
       "\n",
       "    .dataframe thead th {\n",
       "        text-align: right;\n",
       "    }\n",
       "</style>\n",
       "<table border=\"1\" class=\"dataframe\">\n",
       "  <thead>\n",
       "    <tr style=\"text-align: right;\">\n",
       "      <th></th>\n",
       "      <th>0</th>\n",
       "      <th>1</th>\n",
       "    </tr>\n",
       "  </thead>\n",
       "  <tbody>\n",
       "    <tr>\n",
       "      <th>0</th>\n",
       "      <td>2</td>\n",
       "      <td>45</td>\n",
       "    </tr>\n",
       "    <tr>\n",
       "      <th>1</th>\n",
       "      <td>11</td>\n",
       "      <td>30</td>\n",
       "    </tr>\n",
       "    <tr>\n",
       "      <th>2</th>\n",
       "      <td>7</td>\n",
       "      <td>00</td>\n",
       "    </tr>\n",
       "    <tr>\n",
       "      <th>3</th>\n",
       "      <td>11</td>\n",
       "      <td>15</td>\n",
       "    </tr>\n",
       "    <tr>\n",
       "      <th>4</th>\n",
       "      <td>08</td>\n",
       "      <td>10</td>\n",
       "    </tr>\n",
       "  </tbody>\n",
       "</table>\n",
       "</div>"
      ],
      "text/plain": [
       "    0   1\n",
       "0   2  45\n",
       "1  11  30\n",
       "2   7  00\n",
       "3  11  15\n",
       "4  08  10"
      ]
     },
     "execution_count": 125,
     "metadata": {},
     "output_type": "execute_result"
    }
   ],
   "source": [
    "#Create new columns from first match of extracted groups:\n",
    "df['text'].str.extract(r'(\\d?\\d):(\\d\\d)')"
   ]
  },
  {
   "cell_type": "code",
   "execution_count": 126,
   "metadata": {},
   "outputs": [
    {
     "data": {
      "text/html": [
       "<div>\n",
       "<style scoped>\n",
       "    .dataframe tbody tr th:only-of-type {\n",
       "        vertical-align: middle;\n",
       "    }\n",
       "\n",
       "    .dataframe tbody tr th {\n",
       "        vertical-align: top;\n",
       "    }\n",
       "\n",
       "    .dataframe thead th {\n",
       "        text-align: right;\n",
       "    }\n",
       "</style>\n",
       "<table border=\"1\" class=\"dataframe\">\n",
       "  <thead>\n",
       "    <tr style=\"text-align: right;\">\n",
       "      <th></th>\n",
       "      <th></th>\n",
       "      <th>0</th>\n",
       "      <th>1</th>\n",
       "      <th>2</th>\n",
       "      <th>3</th>\n",
       "    </tr>\n",
       "    <tr>\n",
       "      <th></th>\n",
       "      <th>match</th>\n",
       "      <th></th>\n",
       "      <th></th>\n",
       "      <th></th>\n",
       "      <th></th>\n",
       "    </tr>\n",
       "  </thead>\n",
       "  <tbody>\n",
       "    <tr>\n",
       "      <th>0</th>\n",
       "      <th>0</th>\n",
       "      <td>2:45pm</td>\n",
       "      <td>2</td>\n",
       "      <td>45</td>\n",
       "      <td>pm</td>\n",
       "    </tr>\n",
       "    <tr>\n",
       "      <th>1</th>\n",
       "      <th>0</th>\n",
       "      <td>11:30 am</td>\n",
       "      <td>11</td>\n",
       "      <td>30</td>\n",
       "      <td>am</td>\n",
       "    </tr>\n",
       "    <tr>\n",
       "      <th>2</th>\n",
       "      <th>0</th>\n",
       "      <td>7:00pm</td>\n",
       "      <td>7</td>\n",
       "      <td>00</td>\n",
       "      <td>pm</td>\n",
       "    </tr>\n",
       "    <tr>\n",
       "      <th>3</th>\n",
       "      <th>0</th>\n",
       "      <td>11:15 pm</td>\n",
       "      <td>11</td>\n",
       "      <td>15</td>\n",
       "      <td>pm</td>\n",
       "    </tr>\n",
       "    <tr>\n",
       "      <th rowspan=\"2\" valign=\"top\">4</th>\n",
       "      <th>0</th>\n",
       "      <td>08:10 am</td>\n",
       "      <td>08</td>\n",
       "      <td>10</td>\n",
       "      <td>am</td>\n",
       "    </tr>\n",
       "    <tr>\n",
       "      <th>1</th>\n",
       "      <td>09:00am</td>\n",
       "      <td>09</td>\n",
       "      <td>00</td>\n",
       "      <td>am</td>\n",
       "    </tr>\n",
       "  </tbody>\n",
       "</table>\n",
       "</div>"
      ],
      "text/plain": [
       "                0   1   2   3\n",
       "  match                      \n",
       "0 0        2:45pm   2  45  pm\n",
       "1 0      11:30 am  11  30  am\n",
       "2 0        7:00pm   7  00  pm\n",
       "3 0      11:15 pm  11  15  pm\n",
       "4 0      08:10 am  08  10  am\n",
       "  1       09:00am  09  00  am"
      ]
     },
     "execution_count": 126,
     "metadata": {},
     "output_type": "execute_result"
    }
   ],
   "source": [
    "#extract the entire time, the hours, the minutes, and the period\n",
    "df['text'].str.extractall(r'((\\d?\\d):(\\d\\d) ?([ap]m))')"
   ]
  },
  {
   "cell_type": "code",
   "execution_count": 127,
   "metadata": {},
   "outputs": [
    {
     "data": {
      "text/html": [
       "<div>\n",
       "<style scoped>\n",
       "    .dataframe tbody tr th:only-of-type {\n",
       "        vertical-align: middle;\n",
       "    }\n",
       "\n",
       "    .dataframe tbody tr th {\n",
       "        vertical-align: top;\n",
       "    }\n",
       "\n",
       "    .dataframe thead th {\n",
       "        text-align: right;\n",
       "    }\n",
       "</style>\n",
       "<table border=\"1\" class=\"dataframe\">\n",
       "  <thead>\n",
       "    <tr style=\"text-align: right;\">\n",
       "      <th></th>\n",
       "      <th></th>\n",
       "      <th>time</th>\n",
       "      <th>hour</th>\n",
       "      <th>minute</th>\n",
       "      <th>period</th>\n",
       "    </tr>\n",
       "    <tr>\n",
       "      <th></th>\n",
       "      <th>match</th>\n",
       "      <th></th>\n",
       "      <th></th>\n",
       "      <th></th>\n",
       "      <th></th>\n",
       "    </tr>\n",
       "  </thead>\n",
       "  <tbody>\n",
       "    <tr>\n",
       "      <th>0</th>\n",
       "      <th>0</th>\n",
       "      <td>2:45pm</td>\n",
       "      <td>2</td>\n",
       "      <td>45</td>\n",
       "      <td>pm</td>\n",
       "    </tr>\n",
       "    <tr>\n",
       "      <th>1</th>\n",
       "      <th>0</th>\n",
       "      <td>11:30 am</td>\n",
       "      <td>11</td>\n",
       "      <td>30</td>\n",
       "      <td>am</td>\n",
       "    </tr>\n",
       "    <tr>\n",
       "      <th>2</th>\n",
       "      <th>0</th>\n",
       "      <td>7:00pm</td>\n",
       "      <td>7</td>\n",
       "      <td>00</td>\n",
       "      <td>pm</td>\n",
       "    </tr>\n",
       "    <tr>\n",
       "      <th>3</th>\n",
       "      <th>0</th>\n",
       "      <td>11:15 pm</td>\n",
       "      <td>11</td>\n",
       "      <td>15</td>\n",
       "      <td>pm</td>\n",
       "    </tr>\n",
       "    <tr>\n",
       "      <th rowspan=\"2\" valign=\"top\">4</th>\n",
       "      <th>0</th>\n",
       "      <td>08:10 am</td>\n",
       "      <td>08</td>\n",
       "      <td>10</td>\n",
       "      <td>am</td>\n",
       "    </tr>\n",
       "    <tr>\n",
       "      <th>1</th>\n",
       "      <td>09:00am</td>\n",
       "      <td>09</td>\n",
       "      <td>00</td>\n",
       "      <td>am</td>\n",
       "    </tr>\n",
       "  </tbody>\n",
       "</table>\n",
       "</div>"
      ],
      "text/plain": [
       "             time hour minute period\n",
       "  match                             \n",
       "0 0        2:45pm    2     45     pm\n",
       "1 0      11:30 am   11     30     am\n",
       "2 0        7:00pm    7     00     pm\n",
       "3 0      11:15 pm   11     15     pm\n",
       "4 0      08:10 am   08     10     am\n",
       "  1       09:00am   09     00     am"
      ]
     },
     "execution_count": 127,
     "metadata": {},
     "output_type": "execute_result"
    }
   ],
   "source": [
    "#extract the entire time, the hours, the minutes, and hte period with group names\n",
    "df['text'].str.extractall(r'(?P<time>(?P<hour>\\d?\\d):(?P<minute>\\d\\d) ?(?P<period>[ap]m))')"
   ]
  },
  {
   "cell_type": "code",
   "execution_count": null,
   "metadata": {},
   "outputs": [],
   "source": []
  }
 ],
 "metadata": {
  "kernelspec": {
   "display_name": "py36",
   "language": "python",
   "name": "py36"
  },
  "language_info": {
   "codemirror_mode": {
    "name": "ipython",
    "version": 3
   },
   "file_extension": ".py",
   "mimetype": "text/x-python",
   "name": "python",
   "nbconvert_exporter": "python",
   "pygments_lexer": "ipython3",
   "version": "3.6.7"
  }
 },
 "nbformat": 4,
 "nbformat_minor": 2
}
