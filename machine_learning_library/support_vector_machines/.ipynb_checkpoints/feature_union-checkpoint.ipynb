{
 "cells": [
  {
   "cell_type": "markdown",
   "metadata": {},
   "source": [
    "# Sklearn Feature Union Example"
   ]
  },
  {
   "cell_type": "code",
   "execution_count": 1,
   "metadata": {},
   "outputs": [],
   "source": [
    "from sklearn.pipeline import Pipeline, FeatureUnion\n",
    "from sklearn.model_selection import GridSearchCV\n",
    "from sklearn.svm import SVC\n",
    "from sklearn.datasets import load_iris\n",
    "from sklearn.decomposition import PCA\n",
    "from sklearn.feature_selection import SelectKBest"
   ]
  },
  {
   "cell_type": "code",
   "execution_count": 6,
   "metadata": {},
   "outputs": [],
   "source": [
    "iris = load_iris()\n",
    "\n",
    "X, y = iris.data, iris.target"
   ]
  },
  {
   "cell_type": "code",
   "execution_count": 7,
   "metadata": {},
   "outputs": [],
   "source": [
    "# This dataset is way too high-dimensional. Better do PCA:\n",
    "pca = PCA(n_components=2)\n",
    "\n",
    "# Maybe some original features where good, too?\n",
    "selection = SelectKBest(k=1)"
   ]
  },
  {
   "cell_type": "code",
   "execution_count": 8,
   "metadata": {},
   "outputs": [],
   "source": [
    "# Build estimator from PCA and Univariate selection:\n",
    "\n",
    "combined_features = FeatureUnion([(\"pca\", pca), (\"univ_select\", selection)])"
   ]
  },
  {
   "cell_type": "code",
   "execution_count": 9,
   "metadata": {},
   "outputs": [
    {
     "name": "stdout",
     "output_type": "stream",
     "text": [
      "Combined space has 3 features\n"
     ]
    }
   ],
   "source": [
    "# Use combined features to transform dataset:\n",
    "X_features = combined_features.fit(X, y).transform(X)\n",
    "print(\"Combined space has\", X_features.shape[1], \"features\")"
   ]
  },
  {
   "cell_type": "code",
   "execution_count": 10,
   "metadata": {},
   "outputs": [],
   "source": [
    "svm = SVC(kernel=\"linear\")"
   ]
  },
  {
   "cell_type": "code",
   "execution_count": 11,
   "metadata": {},
   "outputs": [],
   "source": [
    "pipeline = Pipeline([(\"features\", combined_features), (\"svm\", svm)])"
   ]
  },
  {
   "cell_type": "code",
   "execution_count": 12,
   "metadata": {},
   "outputs": [],
   "source": [
    "# Do grid search over k, n_components and C:\n",
    "param_grid = dict(features__pca__n_components=[1, 2, 3],\n",
    "                  features__univ_select__k=[1, 2],\n",
    "                  svm__C=[0.1, 1, 10])"
   ]
  },
  {
   "cell_type": "code",
   "execution_count": 13,
   "metadata": {},
   "outputs": [
    {
     "name": "stdout",
     "output_type": "stream",
     "text": [
      "Fitting 5 folds for each of 18 candidates, totalling 90 fits\n",
      "[CV] features__pca__n_components=1, features__univ_select__k=1, svm__C=0.1 \n",
      "[CV]  features__pca__n_components=1, features__univ_select__k=1, svm__C=0.1, score=0.9333333333333333, total=   0.0s\n",
      "[CV] features__pca__n_components=1, features__univ_select__k=1, svm__C=0.1 \n",
      "[CV]  features__pca__n_components=1, features__univ_select__k=1, svm__C=0.1, score=0.9333333333333333, total=   0.0s\n",
      "[CV] features__pca__n_components=1, features__univ_select__k=1, svm__C=0.1 \n",
      "[CV]  features__pca__n_components=1, features__univ_select__k=1, svm__C=0.1, score=0.8666666666666667, total=   0.0s\n",
      "[CV] features__pca__n_components=1, features__univ_select__k=1, svm__C=0.1 \n",
      "[CV]  features__pca__n_components=1, features__univ_select__k=1, svm__C=0.1, score=0.9333333333333333, total=   0.0s\n",
      "[CV] features__pca__n_components=1, features__univ_select__k=1, svm__C=0.1 \n",
      "[CV]  features__pca__n_components=1, features__univ_select__k=1, svm__C=0.1, score=1.0, total=   0.0s\n",
      "[CV] features__pca__n_components=1, features__univ_select__k=1, svm__C=1 \n",
      "[CV]  features__pca__n_components=1, features__univ_select__k=1, svm__C=1, score=0.9, total=   0.0s\n",
      "[CV] features__pca__n_components=1, features__univ_select__k=1, svm__C=1 \n",
      "[CV]  features__pca__n_components=1, features__univ_select__k=1, svm__C=1, score=1.0, total=   0.0s\n",
      "[CV] features__pca__n_components=1, features__univ_select__k=1, svm__C=1 \n",
      "[CV]  features__pca__n_components=1, features__univ_select__k=1, svm__C=1, score=0.8666666666666667, total=   0.0s\n",
      "[CV] features__pca__n_components=1, features__univ_select__k=1, svm__C=1 \n",
      "[CV]  features__pca__n_components=1, features__univ_select__k=1, svm__C=1, score=0.9333333333333333, total=   0.0s\n",
      "[CV] features__pca__n_components=1, features__univ_select__k=1, svm__C=1 \n",
      "[CV]  features__pca__n_components=1, features__univ_select__k=1, svm__C=1, score=1.0, total=   0.0s\n",
      "[CV] features__pca__n_components=1, features__univ_select__k=1, svm__C=10 \n",
      "[CV]  features__pca__n_components=1, features__univ_select__k=1, svm__C=10, score=0.9333333333333333, total=   0.0s\n",
      "[CV] features__pca__n_components=1, features__univ_select__k=1, svm__C=10 \n",
      "[CV]  features__pca__n_components=1, features__univ_select__k=1, svm__C=10, score=1.0, total=   0.0s\n",
      "[CV] features__pca__n_components=1, features__univ_select__k=1, svm__C=10 \n",
      "[CV]  features__pca__n_components=1, features__univ_select__k=1, svm__C=10, score=0.9, total=   0.0s\n",
      "[CV] features__pca__n_components=1, features__univ_select__k=1, svm__C=10 \n",
      "[CV]  features__pca__n_components=1, features__univ_select__k=1, svm__C=10, score=0.9333333333333333, total=   0.0s\n",
      "[CV] features__pca__n_components=1, features__univ_select__k=1, svm__C=10 \n",
      "[CV]  features__pca__n_components=1, features__univ_select__k=1, svm__C=10, score=1.0, total=   0.0s\n",
      "[CV] features__pca__n_components=1, features__univ_select__k=2, svm__C=0.1 \n",
      "[CV]  features__pca__n_components=1, features__univ_select__k=2, svm__C=0.1, score=0.9333333333333333, total=   0.0s\n",
      "[CV] features__pca__n_components=1, features__univ_select__k=2, svm__C=0.1 \n",
      "[CV]  features__pca__n_components=1, features__univ_select__k=2, svm__C=0.1, score=0.9666666666666667, total=   0.0s\n",
      "[CV] features__pca__n_components=1, features__univ_select__k=2, svm__C=0.1 \n",
      "[CV]  features__pca__n_components=1, features__univ_select__k=2, svm__C=0.1, score=0.9333333333333333, total=   0.0s\n",
      "[CV] features__pca__n_components=1, features__univ_select__k=2, svm__C=0.1 \n",
      "[CV]  features__pca__n_components=1, features__univ_select__k=2, svm__C=0.1, score=0.9333333333333333, total=   0.0s\n",
      "[CV] features__pca__n_components=1, features__univ_select__k=2, svm__C=0.1 \n",
      "[CV]  features__pca__n_components=1, features__univ_select__k=2, svm__C=0.1, score=1.0, total=   0.0s\n",
      "[CV] features__pca__n_components=1, features__univ_select__k=2, svm__C=1 \n",
      "[CV]  features__pca__n_components=1, features__univ_select__k=2, svm__C=1, score=0.9333333333333333, total=   0.0s\n",
      "[CV] features__pca__n_components=1, features__univ_select__k=2, svm__C=1 \n",
      "[CV]  features__pca__n_components=1, features__univ_select__k=2, svm__C=1, score=0.9666666666666667, total=   0.0s\n",
      "[CV] features__pca__n_components=1, features__univ_select__k=2, svm__C=1 \n",
      "[CV]  features__pca__n_components=1, features__univ_select__k=2, svm__C=1, score=0.9333333333333333, total=   0.0s\n",
      "[CV] features__pca__n_components=1, features__univ_select__k=2, svm__C=1 \n"
     ]
    },
    {
     "name": "stderr",
     "output_type": "stream",
     "text": [
      "[Parallel(n_jobs=1)]: Using backend SequentialBackend with 1 concurrent workers.\n",
      "[Parallel(n_jobs=1)]: Done   1 out of   1 | elapsed:    0.0s remaining:    0.0s\n",
      "[Parallel(n_jobs=1)]: Done   2 out of   2 | elapsed:    0.0s remaining:    0.0s\n",
      "[Parallel(n_jobs=1)]: Done   3 out of   3 | elapsed:    0.0s remaining:    0.0s\n",
      "[Parallel(n_jobs=1)]: Done   4 out of   4 | elapsed:    0.0s remaining:    0.0s\n",
      "[Parallel(n_jobs=1)]: Done   5 out of   5 | elapsed:    0.0s remaining:    0.0s\n",
      "[Parallel(n_jobs=1)]: Done   6 out of   6 | elapsed:    0.1s remaining:    0.0s\n",
      "[Parallel(n_jobs=1)]: Done   7 out of   7 | elapsed:    0.1s remaining:    0.0s\n",
      "[Parallel(n_jobs=1)]: Done   8 out of   8 | elapsed:    0.1s remaining:    0.0s\n",
      "[Parallel(n_jobs=1)]: Done   9 out of   9 | elapsed:    0.1s remaining:    0.0s\n"
     ]
    },
    {
     "name": "stdout",
     "output_type": "stream",
     "text": [
      "[CV]  features__pca__n_components=1, features__univ_select__k=2, svm__C=1, score=0.9333333333333333, total=   0.0s\n",
      "[CV] features__pca__n_components=1, features__univ_select__k=2, svm__C=1 \n",
      "[CV]  features__pca__n_components=1, features__univ_select__k=2, svm__C=1, score=1.0, total=   0.0s\n",
      "[CV] features__pca__n_components=1, features__univ_select__k=2, svm__C=10 \n",
      "[CV]  features__pca__n_components=1, features__univ_select__k=2, svm__C=10, score=0.9666666666666667, total=   0.0s\n",
      "[CV] features__pca__n_components=1, features__univ_select__k=2, svm__C=10 \n",
      "[CV]  features__pca__n_components=1, features__univ_select__k=2, svm__C=10, score=0.9666666666666667, total=   0.0s\n",
      "[CV] features__pca__n_components=1, features__univ_select__k=2, svm__C=10 \n",
      "[CV]  features__pca__n_components=1, features__univ_select__k=2, svm__C=10, score=0.9333333333333333, total=   0.0s\n",
      "[CV] features__pca__n_components=1, features__univ_select__k=2, svm__C=10 \n",
      "[CV]  features__pca__n_components=1, features__univ_select__k=2, svm__C=10, score=0.9333333333333333, total=   0.0s\n",
      "[CV] features__pca__n_components=1, features__univ_select__k=2, svm__C=10 \n",
      "[CV]  features__pca__n_components=1, features__univ_select__k=2, svm__C=10, score=1.0, total=   0.0s\n",
      "[CV] features__pca__n_components=2, features__univ_select__k=1, svm__C=0.1 \n",
      "[CV]  features__pca__n_components=2, features__univ_select__k=1, svm__C=0.1, score=0.9333333333333333, total=   0.0s\n",
      "[CV] features__pca__n_components=2, features__univ_select__k=1, svm__C=0.1 \n",
      "[CV]  features__pca__n_components=2, features__univ_select__k=1, svm__C=0.1, score=1.0, total=   0.0s\n",
      "[CV] features__pca__n_components=2, features__univ_select__k=1, svm__C=0.1 \n",
      "[CV]  features__pca__n_components=2, features__univ_select__k=1, svm__C=0.1, score=0.8666666666666667, total=   0.0s\n",
      "[CV] features__pca__n_components=2, features__univ_select__k=1, svm__C=0.1 \n",
      "[CV]  features__pca__n_components=2, features__univ_select__k=1, svm__C=0.1, score=0.9333333333333333, total=   0.0s\n",
      "[CV] features__pca__n_components=2, features__univ_select__k=1, svm__C=0.1 \n",
      "[CV]  features__pca__n_components=2, features__univ_select__k=1, svm__C=0.1, score=1.0, total=   0.0s\n",
      "[CV] features__pca__n_components=2, features__univ_select__k=1, svm__C=1 \n",
      "[CV]  features__pca__n_components=2, features__univ_select__k=1, svm__C=1, score=0.9666666666666667, total=   0.0s\n",
      "[CV] features__pca__n_components=2, features__univ_select__k=1, svm__C=1 \n",
      "[CV]  features__pca__n_components=2, features__univ_select__k=1, svm__C=1, score=1.0, total=   0.0s\n",
      "[CV] features__pca__n_components=2, features__univ_select__k=1, svm__C=1 \n",
      "[CV]  features__pca__n_components=2, features__univ_select__k=1, svm__C=1, score=0.9333333333333333, total=   0.0s\n",
      "[CV] features__pca__n_components=2, features__univ_select__k=1, svm__C=1 \n",
      "[CV]  features__pca__n_components=2, features__univ_select__k=1, svm__C=1, score=0.9333333333333333, total=   0.0s\n",
      "[CV] features__pca__n_components=2, features__univ_select__k=1, svm__C=1 \n",
      "[CV]  features__pca__n_components=2, features__univ_select__k=1, svm__C=1, score=1.0, total=   0.0s\n",
      "[CV] features__pca__n_components=2, features__univ_select__k=1, svm__C=10 \n",
      "[CV]  features__pca__n_components=2, features__univ_select__k=1, svm__C=10, score=0.9666666666666667, total=   0.0s\n",
      "[CV] features__pca__n_components=2, features__univ_select__k=1, svm__C=10 \n",
      "[CV]  features__pca__n_components=2, features__univ_select__k=1, svm__C=10, score=0.9666666666666667, total=   0.0s\n",
      "[CV] features__pca__n_components=2, features__univ_select__k=1, svm__C=10 \n",
      "[CV]  features__pca__n_components=2, features__univ_select__k=1, svm__C=10, score=0.9, total=   0.0s\n",
      "[CV] features__pca__n_components=2, features__univ_select__k=1, svm__C=10 \n",
      "[CV]  features__pca__n_components=2, features__univ_select__k=1, svm__C=10, score=0.9333333333333333, total=   0.0s\n",
      "[CV] features__pca__n_components=2, features__univ_select__k=1, svm__C=10 \n",
      "[CV]  features__pca__n_components=2, features__univ_select__k=1, svm__C=10, score=1.0, total=   0.0s\n",
      "[CV] features__pca__n_components=2, features__univ_select__k=2, svm__C=0.1 \n",
      "[CV]  features__pca__n_components=2, features__univ_select__k=2, svm__C=0.1, score=0.9666666666666667, total=   0.0s\n",
      "[CV] features__pca__n_components=2, features__univ_select__k=2, svm__C=0.1 \n",
      "[CV]  features__pca__n_components=2, features__univ_select__k=2, svm__C=0.1, score=1.0, total=   0.0s\n",
      "[CV] features__pca__n_components=2, features__univ_select__k=2, svm__C=0.1 \n",
      "[CV]  features__pca__n_components=2, features__univ_select__k=2, svm__C=0.1, score=0.9333333333333333, total=   0.0s\n",
      "[CV] features__pca__n_components=2, features__univ_select__k=2, svm__C=0.1 \n",
      "[CV]  features__pca__n_components=2, features__univ_select__k=2, svm__C=0.1, score=0.9333333333333333, total=   0.0s\n",
      "[CV] features__pca__n_components=2, features__univ_select__k=2, svm__C=0.1 \n",
      "[CV]  features__pca__n_components=2, features__univ_select__k=2, svm__C=0.1, score=1.0, total=   0.0s\n",
      "[CV] features__pca__n_components=2, features__univ_select__k=2, svm__C=1 \n",
      "[CV]  features__pca__n_components=2, features__univ_select__k=2, svm__C=1, score=0.9666666666666667, total=   0.0s\n",
      "[CV] features__pca__n_components=2, features__univ_select__k=2, svm__C=1 \n",
      "[CV]  features__pca__n_components=2, features__univ_select__k=2, svm__C=1, score=1.0, total=   0.0s\n",
      "[CV] features__pca__n_components=2, features__univ_select__k=2, svm__C=1 \n",
      "[CV]  features__pca__n_components=2, features__univ_select__k=2, svm__C=1, score=0.9333333333333333, total=   0.0s\n",
      "[CV] features__pca__n_components=2, features__univ_select__k=2, svm__C=1 \n",
      "[CV]  features__pca__n_components=2, features__univ_select__k=2, svm__C=1, score=0.9666666666666667, total=   0.0s\n",
      "[CV] features__pca__n_components=2, features__univ_select__k=2, svm__C=1 \n",
      "[CV]  features__pca__n_components=2, features__univ_select__k=2, svm__C=1, score=1.0, total=   0.0s\n",
      "[CV] features__pca__n_components=2, features__univ_select__k=2, svm__C=10 \n",
      "[CV]  features__pca__n_components=2, features__univ_select__k=2, svm__C=10, score=0.9666666666666667, total=   0.0s\n",
      "[CV] features__pca__n_components=2, features__univ_select__k=2, svm__C=10 \n",
      "[CV]  features__pca__n_components=2, features__univ_select__k=2, svm__C=10, score=1.0, total=   0.0s\n",
      "[CV] features__pca__n_components=2, features__univ_select__k=2, svm__C=10 \n",
      "[CV]  features__pca__n_components=2, features__univ_select__k=2, svm__C=10, score=0.9, total=   0.0s\n",
      "[CV] features__pca__n_components=2, features__univ_select__k=2, svm__C=10 \n",
      "[CV]  features__pca__n_components=2, features__univ_select__k=2, svm__C=10, score=0.9333333333333333, total=   0.0s\n",
      "[CV] features__pca__n_components=2, features__univ_select__k=2, svm__C=10 \n",
      "[CV]  features__pca__n_components=2, features__univ_select__k=2, svm__C=10, score=1.0, total=   0.0s\n",
      "[CV] features__pca__n_components=3, features__univ_select__k=1, svm__C=0.1 \n",
      "[CV]  features__pca__n_components=3, features__univ_select__k=1, svm__C=0.1, score=0.9666666666666667, total=   0.0s\n",
      "[CV] features__pca__n_components=3, features__univ_select__k=1, svm__C=0.1 \n",
      "[CV]  features__pca__n_components=3, features__univ_select__k=1, svm__C=0.1, score=1.0, total=   0.0s\n",
      "[CV] features__pca__n_components=3, features__univ_select__k=1, svm__C=0.1 \n",
      "[CV]  features__pca__n_components=3, features__univ_select__k=1, svm__C=0.1, score=0.9333333333333333, total=   0.0s\n",
      "[CV] features__pca__n_components=3, features__univ_select__k=1, svm__C=0.1 \n",
      "[CV]  features__pca__n_components=3, features__univ_select__k=1, svm__C=0.1, score=0.9666666666666667, total=   0.0s\n",
      "[CV] features__pca__n_components=3, features__univ_select__k=1, svm__C=0.1 \n",
      "[CV]  features__pca__n_components=3, features__univ_select__k=1, svm__C=0.1, score=1.0, total=   0.0s\n",
      "[CV] features__pca__n_components=3, features__univ_select__k=1, svm__C=1 \n",
      "[CV]  features__pca__n_components=3, features__univ_select__k=1, svm__C=1, score=0.9666666666666667, total=   0.0s\n",
      "[CV] features__pca__n_components=3, features__univ_select__k=1, svm__C=1 \n",
      "[CV]  features__pca__n_components=3, features__univ_select__k=1, svm__C=1, score=1.0, total=   0.0s\n",
      "[CV] features__pca__n_components=3, features__univ_select__k=1, svm__C=1 \n",
      "[CV]  features__pca__n_components=3, features__univ_select__k=1, svm__C=1, score=0.9333333333333333, total=   0.0s\n",
      "[CV] features__pca__n_components=3, features__univ_select__k=1, svm__C=1 \n",
      "[CV]  features__pca__n_components=3, features__univ_select__k=1, svm__C=1, score=0.9666666666666667, total=   0.0s\n",
      "[CV] features__pca__n_components=3, features__univ_select__k=1, svm__C=1 \n",
      "[CV]  features__pca__n_components=3, features__univ_select__k=1, svm__C=1, score=1.0, total=   0.0s\n",
      "[CV] features__pca__n_components=3, features__univ_select__k=1, svm__C=10 \n",
      "[CV]  features__pca__n_components=3, features__univ_select__k=1, svm__C=10, score=1.0, total=   0.0s\n",
      "[CV] features__pca__n_components=3, features__univ_select__k=1, svm__C=10 \n",
      "[CV]  features__pca__n_components=3, features__univ_select__k=1, svm__C=10, score=1.0, total=   0.0s\n",
      "[CV] features__pca__n_components=3, features__univ_select__k=1, svm__C=10 \n",
      "[CV]  features__pca__n_components=3, features__univ_select__k=1, svm__C=10, score=0.9333333333333333, total=   0.0s\n",
      "[CV] features__pca__n_components=3, features__univ_select__k=1, svm__C=10 \n",
      "[CV]  features__pca__n_components=3, features__univ_select__k=1, svm__C=10, score=0.9666666666666667, total=   0.0s\n",
      "[CV] features__pca__n_components=3, features__univ_select__k=1, svm__C=10 \n",
      "[CV]  features__pca__n_components=3, features__univ_select__k=1, svm__C=10, score=1.0, total=   0.0s\n",
      "[CV] features__pca__n_components=3, features__univ_select__k=2, svm__C=0.1 \n",
      "[CV]  features__pca__n_components=3, features__univ_select__k=2, svm__C=0.1, score=0.9666666666666667, total=   0.0s\n",
      "[CV] features__pca__n_components=3, features__univ_select__k=2, svm__C=0.1 \n",
      "[CV]  features__pca__n_components=3, features__univ_select__k=2, svm__C=0.1, score=1.0, total=   0.0s\n",
      "[CV] features__pca__n_components=3, features__univ_select__k=2, svm__C=0.1 \n"
     ]
    },
    {
     "name": "stdout",
     "output_type": "stream",
     "text": [
      "[CV]  features__pca__n_components=3, features__univ_select__k=2, svm__C=0.1, score=0.9333333333333333, total=   0.0s\n",
      "[CV] features__pca__n_components=3, features__univ_select__k=2, svm__C=0.1 \n",
      "[CV]  features__pca__n_components=3, features__univ_select__k=2, svm__C=0.1, score=0.9666666666666667, total=   0.0s\n",
      "[CV] features__pca__n_components=3, features__univ_select__k=2, svm__C=0.1 \n",
      "[CV]  features__pca__n_components=3, features__univ_select__k=2, svm__C=0.1, score=1.0, total=   0.0s\n",
      "[CV] features__pca__n_components=3, features__univ_select__k=2, svm__C=1 \n",
      "[CV]  features__pca__n_components=3, features__univ_select__k=2, svm__C=1, score=0.9666666666666667, total=   0.0s\n",
      "[CV] features__pca__n_components=3, features__univ_select__k=2, svm__C=1 \n",
      "[CV]  features__pca__n_components=3, features__univ_select__k=2, svm__C=1, score=1.0, total=   0.0s\n",
      "[CV] features__pca__n_components=3, features__univ_select__k=2, svm__C=1 \n",
      "[CV]  features__pca__n_components=3, features__univ_select__k=2, svm__C=1, score=0.9666666666666667, total=   0.0s\n",
      "[CV] features__pca__n_components=3, features__univ_select__k=2, svm__C=1 \n",
      "[CV]  features__pca__n_components=3, features__univ_select__k=2, svm__C=1, score=0.9666666666666667, total=   0.0s\n",
      "[CV] features__pca__n_components=3, features__univ_select__k=2, svm__C=1 \n",
      "[CV]  features__pca__n_components=3, features__univ_select__k=2, svm__C=1, score=1.0, total=   0.0s\n",
      "[CV] features__pca__n_components=3, features__univ_select__k=2, svm__C=10 \n",
      "[CV]  features__pca__n_components=3, features__univ_select__k=2, svm__C=10, score=1.0, total=   0.0s\n",
      "[CV] features__pca__n_components=3, features__univ_select__k=2, svm__C=10 \n",
      "[CV]  features__pca__n_components=3, features__univ_select__k=2, svm__C=10, score=1.0, total=   0.0s\n",
      "[CV] features__pca__n_components=3, features__univ_select__k=2, svm__C=10 \n",
      "[CV]  features__pca__n_components=3, features__univ_select__k=2, svm__C=10, score=0.9, total=   0.0s\n",
      "[CV] features__pca__n_components=3, features__univ_select__k=2, svm__C=10 \n",
      "[CV]  features__pca__n_components=3, features__univ_select__k=2, svm__C=10, score=0.9666666666666667, total=   0.0s\n",
      "[CV] features__pca__n_components=3, features__univ_select__k=2, svm__C=10 \n",
      "[CV]  features__pca__n_components=3, features__univ_select__k=2, svm__C=10, score=1.0, total=   0.0s\n",
      "Pipeline(memory=None,\n",
      "     steps=[('features', FeatureUnion(n_jobs=None,\n",
      "       transformer_list=[('pca', PCA(copy=True, iterated_power='auto', n_components=3, random_state=None,\n",
      "  svd_solver='auto', tol=0.0, whiten=False)), ('univ_select', SelectKBest(k=1, score_func=<function f_classif at 0x10ed47400>))],\n",
      "       transformer...r', max_iter=-1, probability=False, random_state=None,\n",
      "  shrinking=True, tol=0.001, verbose=False))])\n"
     ]
    },
    {
     "name": "stderr",
     "output_type": "stream",
     "text": [
      "[Parallel(n_jobs=1)]: Done  90 out of  90 | elapsed:    0.7s finished\n"
     ]
    }
   ],
   "source": [
    "grid_search = GridSearchCV(pipeline, param_grid=param_grid, cv=5, verbose=10)\n",
    "grid_search.fit(X, y)\n",
    "print(grid_search.best_estimator_)"
   ]
  },
  {
   "cell_type": "code",
   "execution_count": null,
   "metadata": {},
   "outputs": [],
   "source": []
  }
 ],
 "metadata": {
  "kernelspec": {
   "display_name": "py36",
   "language": "python",
   "name": "py36"
  },
  "language_info": {
   "codemirror_mode": {
    "name": "ipython",
    "version": 3
   },
   "file_extension": ".py",
   "mimetype": "text/x-python",
   "name": "python",
   "nbconvert_exporter": "python",
   "pygments_lexer": "ipython3",
   "version": "3.6.7"
  }
 },
 "nbformat": 4,
 "nbformat_minor": 2
}
