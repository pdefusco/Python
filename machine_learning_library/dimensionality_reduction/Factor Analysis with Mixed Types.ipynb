{
 "cells": [
  {
   "cell_type": "code",
   "execution_count": 1,
   "metadata": {},
   "outputs": [],
   "source": [
    "import pandas as pd\n",
    "import prince"
   ]
  },
  {
   "cell_type": "code",
   "execution_count": 2,
   "metadata": {},
   "outputs": [],
   "source": [
    "X = pd.DataFrame(data=[\n",
    "         ['A', 'A', 'A', 2, 5, 7, 6, 3, 6, 7],\n",
    "       ['A', 'A', 'A', 4, 4, 4, 2, 4, 4, 3],\n",
    "       ['B', 'A', 'B', 5, 2, 1, 1, 7, 1, 1],\n",
    "        ['B', 'A', 'B', 7, 2, 1, 2, 2, 2, 2],\n",
    "      ['B', 'B', 'B', 3, 5, 6, 5, 2, 6, 6],\n",
    "       ['B', 'B', 'A', 3, 5, 4, 5, 1, 7, 5]],\n",
    "          columns=['E1 fruity', 'E1 woody', 'E1 coffee',\n",
    "            'E2 red fruit', 'E2 roasted', 'E2 vanillin', 'E2 woody',\n",
    "            'E3 fruity', 'E3 butter', 'E3 woody'],\n",
    "index=['Wine {}'.format(i+1) for i in range(6)]\n",
    ")"
   ]
  },
  {
   "cell_type": "code",
   "execution_count": 3,
   "metadata": {},
   "outputs": [],
   "source": [
    "X['Oak type'] = [1,2,2,2,1,1]"
   ]
  },
  {
   "cell_type": "code",
   "execution_count": 4,
   "metadata": {},
   "outputs": [],
   "source": [
    "famd = prince.FAMD(\n",
    "n_components=4,\n",
    "n_iter=3,\n",
    "copy=True,\n",
    "    check_input=True,\n",
    "    engine='auto',\n",
    "    random_state=42\n",
    ")"
   ]
  },
  {
   "cell_type": "code",
   "execution_count": 5,
   "metadata": {},
   "outputs": [],
   "source": [
    "#is instances of prince.MFA and inherits its methods\n",
    "famd = famd.fit(X.drop('Oak type', axis='columns'))  # No need for 'Oak type'"
   ]
  },
  {
   "cell_type": "code",
   "execution_count": 6,
   "metadata": {},
   "outputs": [
    {
     "data": {
      "text/html": [
       "<div>\n",
       "<style scoped>\n",
       "    .dataframe tbody tr th:only-of-type {\n",
       "        vertical-align: middle;\n",
       "    }\n",
       "\n",
       "    .dataframe tbody tr th {\n",
       "        vertical-align: top;\n",
       "    }\n",
       "\n",
       "    .dataframe thead th {\n",
       "        text-align: right;\n",
       "    }\n",
       "</style>\n",
       "<table border=\"1\" class=\"dataframe\">\n",
       "  <thead>\n",
       "    <tr style=\"text-align: right;\">\n",
       "      <th></th>\n",
       "      <th>0</th>\n",
       "      <th>1</th>\n",
       "      <th>2</th>\n",
       "      <th>3</th>\n",
       "    </tr>\n",
       "  </thead>\n",
       "  <tbody>\n",
       "    <tr>\n",
       "      <th>Wine 1</th>\n",
       "      <td>3.35147</td>\n",
       "      <td>4.27885</td>\n",
       "      <td>0.217861</td>\n",
       "      <td>0.697677</td>\n",
       "    </tr>\n",
       "    <tr>\n",
       "      <th>Wine 2</th>\n",
       "      <td>3.39687</td>\n",
       "      <td>4.13574</td>\n",
       "      <td>-0.265262</td>\n",
       "      <td>-0.00979209</td>\n",
       "    </tr>\n",
       "    <tr>\n",
       "      <th>Wine 3</th>\n",
       "      <td>4.77764</td>\n",
       "      <td>-1.64325</td>\n",
       "      <td>-2.28438</td>\n",
       "      <td>-0.422143</td>\n",
       "    </tr>\n",
       "    <tr>\n",
       "      <th>Wine 4</th>\n",
       "      <td>4.76971</td>\n",
       "      <td>-1.66525</td>\n",
       "      <td>-2.13063</td>\n",
       "      <td>-0.383521</td>\n",
       "    </tr>\n",
       "    <tr>\n",
       "      <th>Wine 5</th>\n",
       "      <td>3.77939</td>\n",
       "      <td>-3.05354</td>\n",
       "      <td>1.93661</td>\n",
       "      <td>1.52183</td>\n",
       "    </tr>\n",
       "    <tr>\n",
       "      <th>Wine 6</th>\n",
       "      <td>3.46541</td>\n",
       "      <td>-0.304409</td>\n",
       "      <td>4.01919</td>\n",
       "      <td>-1.21498</td>\n",
       "    </tr>\n",
       "  </tbody>\n",
       "</table>\n",
       "</div>"
      ],
      "text/plain": [
       "              0         1         2           3\n",
       "Wine 1  3.35147   4.27885  0.217861    0.697677\n",
       "Wine 2  3.39687   4.13574 -0.265262 -0.00979209\n",
       "Wine 3  4.77764  -1.64325  -2.28438   -0.422143\n",
       "Wine 4  4.76971  -1.66525  -2.13063   -0.383521\n",
       "Wine 5  3.77939  -3.05354   1.93661     1.52183\n",
       "Wine 6  3.46541 -0.304409   4.01919    -1.21498"
      ]
     },
     "execution_count": 6,
     "metadata": {},
     "output_type": "execute_result"
    }
   ],
   "source": [
    "famd.transform(X.drop('Oak type', axis='columns'))"
   ]
  },
  {
   "cell_type": "code",
   "execution_count": 8,
   "metadata": {},
   "outputs": [
    {
     "data": {
      "text/plain": [
       "[15.77332659018192, 8.383847198691987, 4.963364773468672, 0.7673797501289373]"
      ]
     },
     "execution_count": 8,
     "metadata": {},
     "output_type": "execute_result"
    }
   ],
   "source": [
    "famd.eigenvalues_"
   ]
  },
  {
   "cell_type": "code",
   "execution_count": 9,
   "metadata": {},
   "outputs": [
    {
     "data": {
      "text/plain": [
       "30.138169081194388"
      ]
     },
     "execution_count": 9,
     "metadata": {},
     "output_type": "execute_result"
    }
   ],
   "source": [
    "famd.total_inertia_"
   ]
  },
  {
   "cell_type": "code",
   "execution_count": 12,
   "metadata": {},
   "outputs": [
    {
     "data": {
      "text/plain": [
       "29.887918312471516"
      ]
     },
     "execution_count": 12,
     "metadata": {},
     "output_type": "execute_result"
    }
   ],
   "source": [
    "sum(famd.eigenvalues_)"
   ]
  },
  {
   "cell_type": "code",
   "execution_count": 15,
   "metadata": {},
   "outputs": [],
   "source": [
    "#not working:\n",
    "\n",
    "#famd.inverse_transform(famd.transform(X.drop('Oak type', axis='columns')))"
   ]
  },
  {
   "cell_type": "code",
   "execution_count": null,
   "metadata": {},
   "outputs": [],
   "source": []
  }
 ],
 "metadata": {
  "kernelspec": {
   "display_name": "py36",
   "language": "python",
   "name": "py36"
  },
  "language_info": {
   "codemirror_mode": {
    "name": "ipython",
    "version": 3
   },
   "file_extension": ".py",
   "mimetype": "text/x-python",
   "name": "python",
   "nbconvert_exporter": "python",
   "pygments_lexer": "ipython3",
   "version": "3.6.7"
  }
 },
 "nbformat": 4,
 "nbformat_minor": 2
}
