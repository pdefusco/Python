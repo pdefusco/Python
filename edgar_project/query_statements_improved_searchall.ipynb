{
 "cells": [
  {
   "cell_type": "markdown",
   "metadata": {},
   "source": [
    "### Download Financial Statements with Augmented Master Index (Includes SIC)\n",
    "\n",
    "###### Objective: improve query statements module with increased query flexibility\n",
    "\n",
    "###### To do:\n",
    "\n",
    "- Ability to input a date range in the query rather than entering single dates\n",
    "- Improved error handling functionality to force query inputs within the constraints\n",
    "- An improved UI\n",
    "- Ability to download financial statements without manually picking reports for each company\n",
    "- Ability to retrieve statements by 10Q not just 10K\n",
    "\n",
    "10/3/19 - This script picks up from the query_statements notebook"
   ]
  },
  {
   "cell_type": "code",
   "execution_count": 1,
   "metadata": {},
   "outputs": [],
   "source": [
    "import pandas as pd\n",
    "import edgar\n",
    "import psycopg2\n",
    "import os\n",
    "import glob\n",
    "import numpy as np"
   ]
  },
  {
   "cell_type": "markdown",
   "metadata": {},
   "source": [
    "### Establish and Test DB Connection  "
   ]
  },
  {
   "cell_type": "markdown",
   "metadata": {},
   "source": [
    "You will have to enter DB login credentials here:"
   ]
  },
  {
   "cell_type": "code",
   "execution_count": 2,
   "metadata": {},
   "outputs": [],
   "source": [
    "conn = psycopg2.connect(\"host=localhost dbname=postgres user=postgres password=Paolino1\")"
   ]
  },
  {
   "cell_type": "code",
   "execution_count": 3,
   "metadata": {},
   "outputs": [],
   "source": [
    "cur = conn.cursor()"
   ]
  },
  {
   "cell_type": "code",
   "execution_count": 4,
   "metadata": {},
   "outputs": [],
   "source": [
    "cur.execute('SELECT * FROM NEW_MASTER LIMIT 20')"
   ]
  },
  {
   "cell_type": "code",
   "execution_count": 5,
   "metadata": {},
   "outputs": [],
   "source": [
    "query = cur.fetchall()"
   ]
  },
  {
   "cell_type": "code",
   "execution_count": 6,
   "metadata": {},
   "outputs": [
    {
     "name": "stdout",
     "output_type": "stream",
     "text": [
      "DB Connection Succesfully Established\n"
     ]
    }
   ],
   "source": [
    "if len(query) == 20:\n",
    "    print('DB Connection Succesfully Established')"
   ]
  },
  {
   "cell_type": "code",
   "execution_count": 7,
   "metadata": {},
   "outputs": [],
   "source": [
    "cur.execute('ALTER TABLE NEW_MASTER ALTER COLUMN Filing_Date TYPE DATE \\\n",
    "            USING to_date(Filing_Date, \\'YYYY-MM-DD\\')')"
   ]
  },
  {
   "cell_type": "code",
   "execution_count": 8,
   "metadata": {},
   "outputs": [],
   "source": [
    "cur.execute('SELECT * FROM NEW_MASTER LIMIT 20')"
   ]
  },
  {
   "cell_type": "code",
   "execution_count": 9,
   "metadata": {},
   "outputs": [],
   "source": [
    "query = cur.fetchall()"
   ]
  },
  {
   "cell_type": "code",
   "execution_count": 10,
   "metadata": {},
   "outputs": [
    {
     "data": {
      "text/plain": [
       "[(100122,\n",
       "  'TUCSON ELECTRIC POWER CO',\n",
       "  '10-K',\n",
       "  datetime.date(1995, 3, 9),\n",
       "  'edgar/data/100122/0000100122-95-000007.txt',\n",
       "  'edgar/data/100122/0000100122-95-000007-index.html',\n",
       "  '4911'),\n",
       " (10012,\n",
       "  'BARNETT BANKS INC',\n",
       "  '10-K',\n",
       "  datetime.date(1995, 2, 3),\n",
       "  'edgar/data/10012/0000912057-95-000305.txt',\n",
       "  'edgar/data/10012/0000912057-95-000305-index.html',\n",
       "  '22'),\n",
       " (100166,\n",
       "  'TULTEX CORP',\n",
       "  '10-K',\n",
       "  datetime.date(1995, 3, 31),\n",
       "  'edgar/data/100166/0000100166-95-000031.txt',\n",
       "  'edgar/data/100166/0000100166-95-000031-index.html',\n",
       "  '2253'),\n",
       " (100331,\n",
       "  '20TH CENTURY INDUSTRIES',\n",
       "  '10-K',\n",
       "  datetime.date(1995, 3, 31),\n",
       "  'edgar/data/100331/0000100331-95-000014.txt',\n",
       "  'edgar/data/100331/0000100331-95-000014-index.html',\n",
       "  '6331'),\n",
       " (100441,\n",
       "  'TYCO INTERNATIONAL LTD',\n",
       "  '10-Q',\n",
       "  datetime.date(1995, 1, 30),\n",
       "  'edgar/data/100441/0000950112-95-000184.txt',\n",
       "  'edgar/data/100441/0000950112-95-000184-index.html',\n",
       "  '3569'),\n",
       " (100493,\n",
       "  'TYSON FOODS INC',\n",
       "  '10-Q',\n",
       "  datetime.date(1995, 2, 13),\n",
       "  'edgar/data/100493/0000100493-95-000007.txt',\n",
       "  'edgar/data/100493/0000100493-95-000007-index.html',\n",
       "  '15'),\n",
       " (100517,\n",
       "  'UAL CORP /DE/',\n",
       "  '10-K',\n",
       "  datetime.date(1995, 3, 8),\n",
       "  'edgar/data/100517/0000100517-95-000011.txt',\n",
       "  'edgar/data/100517/0000100517-95-000011-index.html',\n",
       "  '4512'),\n",
       " (100712,\n",
       "  'PRODUCTION OPERATORS CORP',\n",
       "  '10-Q',\n",
       "  datetime.date(1995, 2, 9),\n",
       "  'edgar/data/100712/0000100712-95-000005.txt',\n",
       "  'edgar/data/100712/0000100712-95-000005-index.html',\n",
       "  '1389'),\n",
       " (100726,\n",
       "  'UNIFI INC',\n",
       "  '10-Q',\n",
       "  datetime.date(1995, 2, 6),\n",
       "  'edgar/data/100726/0000100726-95-000004.txt',\n",
       "  'edgar/data/100726/0000100726-95-000004-index.html',\n",
       "  '20'),\n",
       " (100783,\n",
       "  'UNION CAMP CORP',\n",
       "  '10-K',\n",
       "  datetime.date(1995, 3, 30),\n",
       "  'edgar/data/100783/0000950117-95-000071.txt',\n",
       "  'edgar/data/100783/0000950117-95-000071-index.html',\n",
       "  '2621'),\n",
       " (100817,\n",
       "  'UNION CORP',\n",
       "  '10-Q',\n",
       "  datetime.date(1995, 2, 13),\n",
       "  'edgar/data/100817/0000912057-95-000605.txt',\n",
       "  'edgar/data/100817/0000912057-95-000605-index.html',\n",
       "  '73'),\n",
       " (10081,\n",
       "  'BARR LABORATORIES INC',\n",
       "  '10-Q',\n",
       "  datetime.date(1995, 2, 13),\n",
       "  'edgar/data/10081/0000010081-95-000003.txt',\n",
       "  'edgar/data/10081/0000010081-95-000003-index.html',\n",
       "  '2834'),\n",
       " (100858,\n",
       "  'UNION LIGHT HEAT & POWER CO',\n",
       "  '10-K',\n",
       "  datetime.date(1995, 3, 30),\n",
       "  'edgar/data/100858/0000899652-95-000014.txt',\n",
       "  'edgar/data/100858/0000899652-95-000014-index.html',\n",
       "  '4931'),\n",
       " (100923,\n",
       "  'UNION TANK CAR CO',\n",
       "  '10-K',\n",
       "  datetime.date(1995, 3, 16),\n",
       "  'edgar/data/100923/0000950131-95-000606.txt',\n",
       "  'edgar/data/100923/0000950131-95-000606-index.html',\n",
       "  '3743'),\n",
       " (101001,\n",
       "  'UNITED AIR LINES INC',\n",
       "  '10-K',\n",
       "  datetime.date(1995, 3, 8),\n",
       "  'edgar/data/101001/0000101001-95-000002.txt',\n",
       "  'edgar/data/101001/0000101001-95-000002-index.html',\n",
       "  '4512'),\n",
       " (101063,\n",
       "  'CHIQUITA BRANDS INTERNATIONAL INC',\n",
       "  '10-K',\n",
       "  datetime.date(1995, 3, 31),\n",
       "  'edgar/data/101063/0000101063-95-000004.txt',\n",
       "  'edgar/data/101063/0000101063-95-000004-index.html',\n",
       "  '0'),\n",
       " (101105,\n",
       "  'UNITED CITIES GAS CO',\n",
       "  '10-K',\n",
       "  datetime.date(1995, 3, 21),\n",
       "  'edgar/data/101105/0000950144-95-000704.txt',\n",
       "  'edgar/data/101105/0000950144-95-000704-index.html',\n",
       "  '4924'),\n",
       " (101265,\n",
       "  'UNITED ILLUMINATING CO',\n",
       "  '10-K',\n",
       "  datetime.date(1995, 3, 8),\n",
       "  'edgar/data/101265/0000101265-95-000008.txt',\n",
       "  'edgar/data/101265/0000101265-95-000008-index.html',\n",
       "  '4911'),\n",
       " (101281,\n",
       "  'UNITED INNS INC',\n",
       "  '10-K',\n",
       "  datetime.date(1995, 1, 13),\n",
       "  'edgar/data/101281/0000912057-95-000101.txt',\n",
       "  'edgar/data/101281/0000912057-95-000101-index.html',\n",
       "  '11'),\n",
       " (101320,\n",
       "  'UJB FINANCIAL CORP /NJ/',\n",
       "  '10-K',\n",
       "  datetime.date(1995, 3, 30),\n",
       "  'edgar/data/101320/0000950123-95-000826.txt',\n",
       "  'edgar/data/101320/0000950123-95-000826-index.html',\n",
       "  '21')]"
      ]
     },
     "execution_count": 10,
     "metadata": {},
     "output_type": "execute_result"
    }
   ],
   "source": [
    "query"
   ]
  },
  {
   "cell_type": "code",
   "execution_count": 14,
   "metadata": {},
   "outputs": [],
   "source": [
    "#Sample time based query:\n",
    "#cur.execute('SELECT * FROM NEW_MASTER WHERE Filing_Date BETWEEN \\'2014-03-14\\' AND \\'2014-03-31\\'')"
   ]
  },
  {
   "cell_type": "code",
   "execution_count": 15,
   "metadata": {},
   "outputs": [],
   "source": [
    "#query = cur.fetchall()"
   ]
  },
  {
   "cell_type": "code",
   "execution_count": 16,
   "metadata": {},
   "outputs": [],
   "source": [
    "#query"
   ]
  },
  {
   "cell_type": "markdown",
   "metadata": {},
   "source": [
    "### API"
   ]
  },
  {
   "cell_type": "code",
   "execution_count": 17,
   "metadata": {},
   "outputs": [],
   "source": [
    "# Function to query database by company:\n",
    "\n",
    "def select_dates(start_date, end_date):\n",
    "    \n",
    "    ## Function to query the index by company name\n",
    "    ## Expectes list of company names to execute select query\n",
    "    \n",
    "    ##Connect to DB:\n",
    "    conn = psycopg2.connect(\"host=localhost dbname=postgres user=postgres password=Paolino1\")\n",
    "    cur = conn.cursor()\n",
    "    \n",
    "    ##Create Query:\n",
    "    SQL = 'SELECT * FROM NEW_MASTER WHERE Filing_Date BETWEEN %s AND %s;'\n",
    "    cur.execute(SQL, (str(start_date),str(end_date)))\n",
    "    \n",
    "    #Present query results:\n",
    "    output = cur.fetchall()\n",
    "    columns = ['CIK', 'Company_Name', 'Filing_Type', 'Filing_Date', 'URL_txt', 'URL_html', 'SIC']\n",
    "    result = pd.DataFrame(output, columns=columns)\n",
    "    \n",
    "    ##Closing DB connection:\n",
    "    cur.close()\n",
    "    conn.close()\n",
    "    \n",
    "    return result"
   ]
  },
  {
   "cell_type": "code",
   "execution_count": 18,
   "metadata": {},
   "outputs": [],
   "source": [
    "#select_dates('2014-03-14', '2014-03-31')"
   ]
  },
  {
   "cell_type": "code",
   "execution_count": null,
   "metadata": {},
   "outputs": [],
   "source": []
  },
  {
   "cell_type": "code",
   "execution_count": 11,
   "metadata": {},
   "outputs": [],
   "source": [
    "# Function to query database by company:\n",
    "\n",
    "def select_company(company_names):\n",
    "    \n",
    "    ## Function to query the index by company name\n",
    "    ## Expectes list of company names to execute select query\n",
    "    \n",
    "    ##Connect to DB:\n",
    "    conn = psycopg2.connect(\"host=localhost dbname=postgres user=postgres password=Paolino1\")\n",
    "    cur = conn.cursor()\n",
    "    \n",
    "    ##Create Query:\n",
    "    SQL = 'SELECT * FROM NEW_MASTER WHERE Company_Name IN %(list)s;'\n",
    "    cur.execute(SQL, {\n",
    "        'list':tuple(company_names),\n",
    "    })\n",
    "    \n",
    "    #Present query results:\n",
    "    output = cur.fetchall()\n",
    "    columns = ['CIK', 'Company_Name', 'Filing_Type', 'Filing_Date', 'URL_txt', 'URL_html', 'SIC']\n",
    "    result = pd.DataFrame(output, columns=columns)\n",
    "    \n",
    "    ##Closing DB connection:\n",
    "    cur.close()\n",
    "    conn.close()\n",
    "    \n",
    "    return result"
   ]
  },
  {
   "cell_type": "code",
   "execution_count": null,
   "metadata": {},
   "outputs": [],
   "source": [
    "#Sample query to retrieve index data for Amazon and American Airlines:\n",
    "df_co_name = select_company(['AMAZON COM INC', 'AMERICAN AIRLINES INC'])"
   ]
  },
  {
   "cell_type": "code",
   "execution_count": null,
   "metadata": {},
   "outputs": [],
   "source": [
    "#Checking that both Amazon and AA were found:\n",
    "df_co_name.Company_Name.unique()"
   ]
  },
  {
   "cell_type": "code",
   "execution_count": 12,
   "metadata": {},
   "outputs": [],
   "source": [
    "# Function to query database by SIC:\n",
    "\n",
    "def select_SIC(company_sics):\n",
    "    \n",
    "    ## Function to query the index by SIC\n",
    "    \n",
    "    ##Connect to DB:\n",
    "    conn = psycopg2.connect(\"host=localhost dbname=postgres user=postgres password=Paolino1\")\n",
    "    cur = conn.cursor()\n",
    "    \n",
    "    ##Create Query:\n",
    "    SQL = 'SELECT * FROM NEW_MASTER WHERE SIC IN %(list)s;'\n",
    "    cur.execute(SQL, {\n",
    "        'list':tuple(company_sics),\n",
    "    })\n",
    "    \n",
    "    #Present query results:\n",
    "    output = cur.fetchall()\n",
    "    columns = ['CIK', 'Company_Name', 'Filing_Type', 'Filing_Date', 'URL_txt', 'URL_html', 'SIC']\n",
    "    result = pd.DataFrame(output, columns=columns)\n",
    "    \n",
    "    ##Closing DB connection:\n",
    "    cur.close()\n",
    "    conn.close()\n",
    "    \n",
    "    return result"
   ]
  },
  {
   "cell_type": "code",
   "execution_count": null,
   "metadata": {},
   "outputs": [],
   "source": [
    "df_sic = select_SIC(['6172'])"
   ]
  },
  {
   "cell_type": "code",
   "execution_count": null,
   "metadata": {},
   "outputs": [],
   "source": [
    "df_sic"
   ]
  },
  {
   "cell_type": "code",
   "execution_count": 13,
   "metadata": {},
   "outputs": [],
   "source": [
    "# Function to query database by SIC:\n",
    "\n",
    "# Table DDL:\n",
    "#CREATE TABLE NEW_MASTER(CIK integer, Company_Name text, \n",
    "#Filing_Type text,Filing_Date text,URL_text text, URL_html text, SIC text)\n",
    "\n",
    "def select_mult_criteria(companies, sics, dates):\n",
    "    \n",
    "    ## Function to query the index by companies, sics or years\n",
    "    \n",
    "    ##Connect to DB:\n",
    "    conn = psycopg2.connect(\"host=localhost dbname=postgres user=postgres password=Paolino1\")\n",
    "    cur = conn.cursor()\n",
    "\n",
    "    print(len(companies))\n",
    "    print(len(sics))\n",
    "    print(len(dates))\n",
    "    \n",
    "    \n",
    "    if (len(companies)>0 & len(sics)>0 & len(dates)>0):\n",
    "        print('Cannot specify both Company Names and SICs')\n",
    "        pass\n",
    "        \n",
    "    elif len(companies)==0 and len(sics)>0 and len(dates)>0:\n",
    "        SQL = 'SELECT * FROM NEW_MASTER WHERE SIC IN %(sic_list)s AND Filing_Date IN %(dates_list)s;'\n",
    "\n",
    "        cur.execute(SQL, {'sic_list':tuple(sics),\n",
    "                         'dates_list':tuple(dates),})\n",
    "        \n",
    "    elif len(companies)>0 and len(sics)==0 and len(dates)>0:\n",
    "        SQL = 'SELECT * FROM NEW_MASTER WHERE Company_Name IN %(co_list)s AND Filing_Date IN %(dates_list)s;'\n",
    "\n",
    "        cur.execute(SQL, {'co_list':tuple(companies),\n",
    "                          'dates_list':tuple(dates),})\n",
    "    \n",
    "    elif len(companies)==0 and len(sics)>0 and len(dates)==0:\n",
    "        SQL = 'SELECT * FROM NEW_MASTER WHERE SIC IN %(sic_list)s;'\n",
    "\n",
    "        cur.execute(SQL, {'sic_list':tuple(sics),})\n",
    "    \n",
    "    else:\n",
    "        print('Query format not complying to standards')\n",
    "        print('Please make sure to enter some dates')\n",
    "        pass\n",
    "    \n",
    "    #Present query results:\n",
    "    output = cur.fetchall()\n",
    "    columns = ['CIK', 'Company_Name', 'Filing_Type', 'Filing_Date', 'URL_txt', 'URL_html', 'SIC']\n",
    "    result = pd.DataFrame(output, columns=columns)\n",
    "    \n",
    "    ##Closing DB connection:\n",
    "    cur.close()\n",
    "    conn.close()\n",
    "    \n",
    "    return result"
   ]
  },
  {
   "cell_type": "markdown",
   "metadata": {},
   "source": [
    "### Create Financial Statements\n",
    "Objective: connect to Edgar and retrieve financial statments for selected companies"
   ]
  },
  {
   "cell_type": "markdown",
   "metadata": {},
   "source": [
    "Reference for XML Table Schema: https://www.w3schools.com/html/html_tables.asp"
   ]
  },
  {
   "cell_type": "code",
   "execution_count": 14,
   "metadata": {},
   "outputs": [],
   "source": [
    "import requests\n",
    "from bs4 import BeautifulSoup\n",
    "import lxml"
   ]
  },
  {
   "cell_type": "code",
   "execution_count": 15,
   "metadata": {},
   "outputs": [],
   "source": [
    "def query_results():\n",
    "    ## Function to retrieve url for 2018 10-K\n",
    "    ## Expects input from select_company function\n",
    "    \n",
    "    #Returning 10-K from 2018. If it does not exist, returning most recent 10-K\n",
    "    \n",
    "    print('Welcome to ValuTrack Query Managemnt Tool')\n",
    "    print('QMT lets you query the Edgar Index by Company Name, SIC Code, and Date')\n",
    "    print('----------------------------------------------------------------------------------------')\n",
    "    print('In the next steps you will be asked to formulate a query to retrieve available financial statements')\n",
    "    print('You can add as many search conditions as you would like')\n",
    "    print('The query will search for index entries matching all conditions entered')\n",
    "    print('If you only wish to search by SIC code, leave the steps for Company Name and Year blank')\n",
    "    print('----------------------------------------------------------------------------------------')\n",
    "    print('Please make sure to either enter some Companies or SIC codes - Not Both!')\n",
    "    print('----------------------------------------------------------------------------------------')\n",
    "    print('Step 1: Company Names')\n",
    "    print('Please enter company names in list format with names in quotes and separated by commas')\n",
    "    print('For example: [\"MINT LEASING INC\", \"NewStar Financial, Inc.\"]')\n",
    "    \n",
    "    selected_companies = []\n",
    "    \n",
    "    print('Please enter number of companies you want to search for:')\n",
    "    n = int(input('> '))\n",
    "    \n",
    "    for i in range(0,n):\n",
    "        \n",
    "        print('Please enter next Company name:')\n",
    "        ele = str(input('> '))\n",
    "        \n",
    "        selected_companies.append(ele)\n",
    "    \n",
    "    #Will need to add error handling here\n",
    "    #print('You have entered')\n",
    "    \n",
    "    print('----------------------------------------------------------------------------------------')\n",
    "    print('Step 2: SIC Codes')\n",
    "    print('Please enter SIC codes in list format with codes in quotes and separated by commas')\n",
    "    print('For example: [\"6162\", \"6172\"]')\n",
    "    \n",
    "    selected_sics = []\n",
    "    \n",
    "    print('Please enter number of SIC codes you want to search for:')\n",
    "    n = int(input('> '))\n",
    "    \n",
    "    for i in range(0,n):\n",
    "        \n",
    "        print('Please enter next SIC:')\n",
    "        ele = str(input('> '))\n",
    "        \n",
    "        selected_sics.append(ele)\n",
    "    \n",
    "    #Will need to add error handling here\n",
    "    #print('You have entered')\n",
    "    \n",
    "    print('----------------------------------------------------------------------------------------')\n",
    "    print('Step 3: Dates')\n",
    "    print('Please enter Dates in list format with Dates in quotes and separated by commas')\n",
    "    print('For example: [\"2014-03-31\", \"2014-03-14\"]')\n",
    "    \n",
    "    selected_dates = []\n",
    "    \n",
    "    print('Please enter number of Dates you want to search for:')\n",
    "    n = int(input('> '))\n",
    "    \n",
    "    for i in range(0,n):\n",
    "        \n",
    "        print('Please enter next Date:')\n",
    "        ele = str(input('> '))\n",
    "        \n",
    "        selected_dates.append(ele)\n",
    "    \n",
    "    #Will need to add error handling here\n",
    "    #print('You have entered')\n",
    "    \n",
    "    df = select_mult_criteria(selected_companies, selected_sics, selected_dates)\n",
    "    \n",
    "    df_10k = df[df['Filing_Type'] == '10-K']\n",
    "    \n",
    "    return df_10k"
   ]
  },
  {
   "cell_type": "code",
   "execution_count": 16,
   "metadata": {},
   "outputs": [],
   "source": [
    "def index_url(df, base_url = r\"https://www.sec.gov/Archives/\"):\n",
    "    \n",
    "    ## Function to retrieve url for 2018 10-K\n",
    "    ## Expects input from select_company function\n",
    "    \n",
    "    #Returning most recent 10-K if it exists\n",
    "    \n",
    "    df_recent = df[(df['Filing_Type'] == '10-K')].sort_values('Filing_Date', ascending=False)\n",
    "        \n",
    "    if len(df_recent) == 0:\n",
    "        print('No 10-K available for this company')\n",
    "        pass\n",
    "        \n",
    "    declination = df_recent[['URL_txt']].iloc[0][0]\n",
    "    \n",
    "    declination = declination.replace(\"-\",\"\").replace(\".txt\",\"/index.json\")\n",
    "    \n",
    "    return base_url + declination"
   ]
  },
  {
   "cell_type": "code",
   "execution_count": 17,
   "metadata": {},
   "outputs": [],
   "source": [
    "#def index_url(base_url = r\"https://www.sec.gov/Archives/\"):\n",
    "#    urls = [\"https://www.sec.gov/Archives/\"+url.replace(\"-\",\"\")\\\n",
    "#            .replace(\".txt\",\"/index.json\") for url in list(df_10k['URL_txt'])]\n",
    "#        \n",
    "#    return urls"
   ]
  },
  {
   "cell_type": "code",
   "execution_count": 18,
   "metadata": {},
   "outputs": [],
   "source": [
    "def download_summary(co_url):\n",
    "\n",
    "    ## Function to retrieve the 10-K Summary which contains links to individual reports\n",
    "    ## Expects input from index_url function\n",
    "    \n",
    "    download = requests.get(co_url).json()\n",
    "    \n",
    "    xml_summary = r'https://www.sec.gov'\n",
    "    \n",
    "    for item in download['directory']['item']:\n",
    "        if item['name'] == 'FilingSummary.xml':\n",
    "            xml_summary += download['directory']['name']+'/' + item['name']\n",
    "\n",
    "    new_base_url = xml_summary.replace('FilingSummary.xml', '')\n",
    "    content = requests.get(xml_summary).content\n",
    "    \n",
    "    #Using BS4 to parse the XML content\n",
    "    soup = BeautifulSoup(content, 'lxml')\n",
    "    reports = soup.find('myreports')\n",
    "    \n",
    "    if reports is None:\n",
    "        print('---------------------')\n",
    "        print('Sorry, no reports were found for this company!')\n",
    "        print('Please try a different public company!')\n",
    "        print('---------------------')\n",
    "        pass\n",
    "    \n",
    "    return new_base_url, reports"
   ]
  },
  {
   "cell_type": "code",
   "execution_count": 19,
   "metadata": {},
   "outputs": [],
   "source": [
    "def show_statements(reports):\n",
    "    \n",
    "    #Function to select among available statements contained in the 10-K:\n",
    "    print('------------------------')\n",
    "    #print('Please select the reports you would like to include in your download')\n",
    "    #print('Copy your selections into the user input provided by the select_reports function')\n",
    "    print('------------------------')\n",
    "    \n",
    "    if reports is None:\n",
    "        \n",
    "        print('---------------------')\n",
    "        print('Sorry, no reports were found for this company!')\n",
    "        print('Please try a different public company!')\n",
    "        print('---------------------')\n",
    "        pass\n",
    "    \n",
    "    all_reports = []\n",
    "    for report in reports.find_all('report'):\n",
    "        #print(report.shortname.text)\n",
    "        all_reports.append(report.shortname.text)\n",
    "\n",
    "    return all_reports"
   ]
  },
  {
   "cell_type": "code",
   "execution_count": 20,
   "metadata": {},
   "outputs": [],
   "source": [
    "def select_reports(all_reports):\n",
    "    \n",
    "    all_selections = []\n",
    "    \n",
    "    report_names = ['Balance Sheet', 'Statement of Income', 'Income Statement', 'Profit & Loss', \n",
    "                    'Statement of Operations', 'Operating Statement', 'Statement of Cash Flows', \n",
    "                    'Cash Flow Statement']\n",
    "    \n",
    "    for report in all_reports:\n",
    "        if report.isin(report_names):\n",
    "            all_selections.append(report)\n",
    "            \n",
    "    return all_selections"
   ]
  },
  {
   "cell_type": "code",
   "execution_count": 21,
   "metadata": {},
   "outputs": [],
   "source": [
    "def statements_urls(new_base_url, reports, short_names):\n",
    "    \n",
    "    #Function to create the 4 URL's associated with each Financial Statement Report (see list below)\n",
    "    #Expectes input from download_summary and pick_statments functions\n",
    "    \n",
    "    #Empty dictionary with URL's to downloaded reports\n",
    "    statements_urls = {}\n",
    "    \n",
    "    #Iterating through different reports in the index\n",
    "    for report in reports.find_all('report'):\n",
    "        if report.shortname.text in short_names:\n",
    "            #print('URL for '+report.shortname.text)\n",
    "            #print(new_base_url+report.htmlfilename.text)\n",
    "            statements_urls[report.shortname.text] = new_base_url+report.htmlfilename.text\n",
    "\n",
    "    return statements_urls"
   ]
  },
  {
   "cell_type": "code",
   "execution_count": 22,
   "metadata": {},
   "outputs": [],
   "source": [
    "def statements_data(statements_urls):\n",
    "    \n",
    "    ## Function scrapes financial statements at URL's found and returns a dictionary of unparsed data   \n",
    "    ## Expects dictionary output by statements_url function\n",
    "    \n",
    "    stm_data = {}\n",
    "    for key, url in statements_urls.items():\n",
    "        \n",
    "        statement_data = {}\n",
    "        statement_data['headers'] = []\n",
    "        statement_data['sections'] = []\n",
    "        statement_data['data'] = []\n",
    "\n",
    "        content = requests.get(url).content\n",
    "        soup = BeautifulSoup(content, 'html')\n",
    "\n",
    "        for index, row in enumerate(soup.table.find_all('tr')):\n",
    "\n",
    "            cols = row.find_all('td')\n",
    "\n",
    "            if (len(row.find_all('th')) == 0 and len(row.find_all('strong')) == 0): \n",
    "                reg_row = [dt.text.strip() for dt in cols]\n",
    "                statement_data['data'].append(reg_row)\n",
    "\n",
    "            elif (len(row.find_all('th')) == 0 and len(row.find_all('strong')) != 0):\n",
    "                sec_row = cols[0].text.strip()\n",
    "                statement_data['sections'].append(sec_row)\n",
    "\n",
    "            elif (len(row.find_all('th')) != 0):            \n",
    "                hed_row = [dt.text.strip() for dt in row.find_all('th')]\n",
    "                statement_data['headers'].append(hed_row)\n",
    "\n",
    "            else:            \n",
    "                print('Error.')\n",
    "\n",
    "        stm_data[key] = statement_data   \n",
    "        \n",
    "    return stm_data"
   ]
  },
  {
   "cell_type": "code",
   "execution_count": 23,
   "metadata": {},
   "outputs": [],
   "source": [
    "def financial_statements(stm_data):\n",
    "    \n",
    "    ## Function to create dictionary containing the four reports that make up a financial statement\n",
    "    ## Expects inputs from statements_data function\n",
    "\n",
    "    financial_statements = {}\n",
    "    for key, statement in stm_data.items():\n",
    "\n",
    "        header =  statement['headers']\n",
    "        data = statement['data']\n",
    "        df = pd.DataFrame(data)\n",
    "\n",
    "        #Some formatting to make sure every df is presented well regardless of dimension\n",
    "        df = df.replace('[\\$,)]','', regex=True )\\\n",
    "                             .replace( '[(]','-', regex=True)\\\n",
    "                             .replace( '', 'NaN', regex=True)\\\n",
    "                             .replace( '\\[.*?]', 'NaN', regex=True)\n",
    "\n",
    "        df.index = df.iloc[:,0]\n",
    "\n",
    "        df = df.drop(df.columns[0], axis=1)\n",
    "\n",
    "        df = df.replace('((?:[ a-z ]+\\S*\\d+|\\d\\S*[a-z]+)[a-z\\d_-]*)', 'NaN', regex=True)\\\n",
    "                        .replace('[^0-9]','', regex=True)\\\n",
    "                        .replace('',np.nan, regex=True)\n",
    "\n",
    "        df.fillna(value=pd.np.nan, inplace=True)\n",
    "        df = df.dropna(axis=1, how='all')\n",
    "        df = df.dropna(axis=0, how='all')\n",
    "\n",
    "        var = df.shape[1]\n",
    "        temp = [i for sublist in header for i in sublist]\n",
    "        df.columns = temp[-var:]\n",
    "        df.index.name = temp[0]\n",
    "\n",
    "        df = df.apply(pd.to_numeric)\n",
    "\n",
    "        #Appending All 4 Statements to Dictionary:\n",
    "        financial_statements[key]=df\n",
    "        \n",
    "    return financial_statements"
   ]
  },
  {
   "cell_type": "code",
   "execution_count": 24,
   "metadata": {},
   "outputs": [],
   "source": [
    "def run_all():\n",
    "    \n",
    "    #Function executes all functions to retrieve Financial Statements for all listed companies\n",
    "    #Returns a dictionary whose key is the company CIK and values are the 4 statements\n",
    "    \n",
    "    df = query_results()\n",
    "    \n",
    "    uniques = df.Company_Name.unique()\n",
    "    df_list = []\n",
    "    print('----------------------------------------------')\n",
    "    print('Your query selected the following companies:')\n",
    "    print(uniques)\n",
    "    print('----------------------------------------------')\n",
    "    print('A dataframe containing all index entries matching your query will also be returned')\n",
    "    print('Along with related financial statements')\n",
    "    print('----------------------------------------------')\n",
    "    \n",
    "    \n",
    "    \n",
    "    company_statements_dict = {}\n",
    "    \n",
    "    for val in uniques:\n",
    "        df_list.append(df[df['Company_Name'] == val])\n",
    "        \n",
    "    #Executing all functions in sequence:\n",
    "    for df, val in zip(df_list,uniques):\n",
    "        print('-------------------------------')\n",
    "        print('Please select statements for: ')\n",
    "        print(val)\n",
    "        print('-------------------------------')\n",
    "        \n",
    "        #Retrieving url\n",
    "        df_url = index_url(df, base_url = r\"https://www.sec.gov/Archives/\")\n",
    "        #Downloading index\n",
    "        new_base_url, reports = download_summary(df_url)\n",
    "        #Showing all reports for company\n",
    "        all_reports = show_statements(reports)\n",
    "        #Selecting 4 reports\n",
    "        selected_reports = select_reports(all_reports)\n",
    "        #Selecting URL's for each report\n",
    "        urls = statements_urls(new_base_url, reports, selected_reports)\n",
    "        #Downloading statements\n",
    "        stm_data = statements_data(urls)\n",
    "        #Converting statements into Pandas Dataframes\n",
    "        statements_dict = financial_statements(stm_data)\n",
    "        #Loading dictionary containing all statements for all input companies:\n",
    "        key = df.Company_Name.unique()[0]\n",
    "        company_statements_dict[key] = statements_dict\n",
    "        \n",
    "        \n",
    "    return df, company_statements_dict"
   ]
  },
  {
   "cell_type": "markdown",
   "metadata": {},
   "source": [
    "#### Run the following Function and pick the statements you want to download"
   ]
  },
  {
   "cell_type": "code",
   "execution_count": null,
   "metadata": {},
   "outputs": [
    {
     "name": "stdout",
     "output_type": "stream",
     "text": [
      "Welcome to ValuTrack Query Managemnt Tool\n",
      "QMT lets you query the Edgar Index by Company Name, SIC Code, and Date\n",
      "----------------------------------------------------------------------------------------\n",
      "In the next steps you will be asked to formulate a query to retrieve available financial statements\n",
      "You can add as many search conditions as you would like\n",
      "The query will search for index entries matching all conditions entered\n",
      "If you only wish to search by SIC code, leave the steps for Company Name and Year blank\n",
      "----------------------------------------------------------------------------------------\n",
      "Please make sure to either enter some Companies or SIC codes - Not Both!\n",
      "----------------------------------------------------------------------------------------\n",
      "Step 1: Company Names\n",
      "Please enter company names in list format with names in quotes and separated by commas\n",
      "For example: [\"MINT LEASING INC\", \"NewStar Financial, Inc.\"]\n",
      "Please enter number of companies you want to search for:\n",
      "> 0\n",
      "----------------------------------------------------------------------------------------\n",
      "Step 2: SIC Codes\n",
      "Please enter SIC codes in list format with codes in quotes and separated by commas\n",
      "For example: [\"6162\", \"6172\"]\n",
      "Please enter number of SIC codes you want to search for:\n",
      "> 1\n",
      "Please enter next SIC:\n",
      "> 6172\n",
      "----------------------------------------------------------------------------------------\n",
      "Step 3: Dates\n",
      "Please enter Dates in list format with Dates in quotes and separated by commas\n",
      "For example: [\"2014-03-31\", \"2014-03-14\"]\n",
      "Please enter number of Dates you want to search for:\n",
      "> 1\n",
      "Please enter next Date:\n",
      "> \"2014-03-31\"\n",
      "0\n",
      "1\n",
      "1\n"
     ]
    }
   ],
   "source": [
    "df, out = run_all()"
   ]
  },
  {
   "cell_type": "code",
   "execution_count": null,
   "metadata": {},
   "outputs": [],
   "source": [
    "df"
   ]
  },
  {
   "cell_type": "code",
   "execution_count": null,
   "metadata": {},
   "outputs": [],
   "source": [
    "out['MINT LEASING INC'].keys()"
   ]
  },
  {
   "cell_type": "code",
   "execution_count": null,
   "metadata": {},
   "outputs": [],
   "source": []
  },
  {
   "cell_type": "code",
   "execution_count": null,
   "metadata": {},
   "outputs": [],
   "source": [
    "#Tests"
   ]
  },
  {
   "cell_type": "code",
   "execution_count": null,
   "metadata": {},
   "outputs": [],
   "source": [
    "print('Financial statements for the followign companies have been downloaded:')\n",
    "print(out.keys())"
   ]
  },
  {
   "cell_type": "code",
   "execution_count": null,
   "metadata": {},
   "outputs": [],
   "source": [
    "print('The following statements for each company have been downloaded for AA:')\n",
    "print(out['MINT LEASING INC'].keys())"
   ]
  },
  {
   "cell_type": "code",
   "execution_count": null,
   "metadata": {},
   "outputs": [],
   "source": [
    "print('The following statements for each company have been downloaded for Amazon:')\n",
    "print(out['MINT LEASING INC'].keys())"
   ]
  },
  {
   "cell_type": "markdown",
   "metadata": {},
   "source": [
    "American Airlines"
   ]
  },
  {
   "cell_type": "code",
   "execution_count": null,
   "metadata": {},
   "outputs": [],
   "source": [
    "out['MINT LEASING INC']['Consolidated Balance Sheets']"
   ]
  },
  {
   "cell_type": "code",
   "execution_count": null,
   "metadata": {},
   "outputs": [],
   "source": [
    "out['AMERICAN AIRLINES INC']['Consolidated Balance Sheets']"
   ]
  },
  {
   "cell_type": "code",
   "execution_count": null,
   "metadata": {},
   "outputs": [],
   "source": [
    "out['AMERICAN AIRLINES INC']['Consolidated Statements of Cash Flows']"
   ]
  },
  {
   "cell_type": "code",
   "execution_count": null,
   "metadata": {},
   "outputs": [],
   "source": [
    "out['AMERICAN AIRLINES INC'][\"Consolidated Statements of Stockholders' Equity\"]"
   ]
  },
  {
   "cell_type": "markdown",
   "metadata": {},
   "source": [
    "Amazon"
   ]
  },
  {
   "cell_type": "code",
   "execution_count": null,
   "metadata": {},
   "outputs": [],
   "source": [
    "out['AMAZON COM INC']['Consolidated Statements of Cash Flows']"
   ]
  },
  {
   "cell_type": "code",
   "execution_count": null,
   "metadata": {},
   "outputs": [],
   "source": [
    "out['AMAZON COM INC']['Consolidated Statements of Comprehensive Income']"
   ]
  },
  {
   "cell_type": "code",
   "execution_count": null,
   "metadata": {},
   "outputs": [],
   "source": [
    "out['AMAZON COM INC']['Consolidated Balance Sheets']"
   ]
  },
  {
   "cell_type": "code",
   "execution_count": null,
   "metadata": {},
   "outputs": [],
   "source": [
    "out['AMAZON COM INC'][\"Consolidated Statements of Stockholders' Equity\"]"
   ]
  },
  {
   "cell_type": "code",
   "execution_count": null,
   "metadata": {},
   "outputs": [],
   "source": []
  }
 ],
 "metadata": {
  "kernelspec": {
   "display_name": "py36",
   "language": "python",
   "name": "py36"
  },
  "language_info": {
   "codemirror_mode": {
    "name": "ipython",
    "version": 3
   },
   "file_extension": ".py",
   "mimetype": "text/x-python",
   "name": "python",
   "nbconvert_exporter": "python",
   "pygments_lexer": "ipython3",
   "version": "3.6.7"
  }
 },
 "nbformat": 4,
 "nbformat_minor": 2
}
