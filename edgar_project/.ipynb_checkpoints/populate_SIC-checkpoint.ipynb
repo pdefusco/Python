{
 "cells": [
  {
   "cell_type": "markdown",
   "metadata": {},
   "source": [
    "### Create Financial Statements with Edgar Index Files\n",
    "\n",
    "###### Objective: download data using the edgar library and visualize financial statements for any selected company\n"
   ]
  },
  {
   "cell_type": "code",
   "execution_count": 8,
   "metadata": {},
   "outputs": [],
   "source": [
    "import pandas as pd\n",
    "import edgar\n",
    "import psycopg2\n",
    "import os\n",
    "import glob\n",
    "import numpy as np\n",
    "from bs4 import BeautifulSoup\n",
    "import requests\n",
    "import re"
   ]
  },
  {
   "cell_type": "markdown",
   "metadata": {},
   "source": [
    "### API"
   ]
  },
  {
   "cell_type": "code",
   "execution_count": 35,
   "metadata": {},
   "outputs": [],
   "source": [
    "#Grab CIK for each CIK in df:\n",
    "#For each CIK, send request to 10-k\n",
    "#In 10K, extract SIC\n",
    "#Write SIC back to df"
   ]
  },
  {
   "cell_type": "code",
   "execution_count": 9,
   "metadata": {},
   "outputs": [],
   "source": [
    "def get_SIC(url):\n",
    "    \n",
    "    download = requests.get(url)\n",
    "    soup = BeautifulSoup(download.content, 'html')\n",
    "    \n",
    "    if soup.find('b') == None:\n",
    "        sic = 'None'\n",
    "    else:\n",
    "        b = [i for i in list(map(str,soup.find_all('b'))) if 'SIC' in i]\n",
    "        sic = int(re.findall(r'\\d+', ''.join(b))[0]) \n",
    "    \n",
    "    return sic"
   ]
  },
  {
   "cell_type": "code",
   "execution_count": 10,
   "metadata": {},
   "outputs": [],
   "source": [
    "master_df = pd.read_csv('data_sic/master.csv', sep='@')"
   ]
  },
  {
   "cell_type": "code",
   "execution_count": 11,
   "metadata": {},
   "outputs": [],
   "source": [
    "df_10k = master_df[master_df['Filing_Type'] == '10-K']\n",
    "df_10q = master_df[master_df['Filing_Type'] == '10-Q']"
   ]
  },
  {
   "cell_type": "code",
   "execution_count": 12,
   "metadata": {},
   "outputs": [
    {
     "data": {
      "text/plain": [
       "(189488, 6)"
      ]
     },
     "execution_count": 12,
     "metadata": {},
     "output_type": "execute_result"
    }
   ],
   "source": [
    "df_10k.shape"
   ]
  },
  {
   "cell_type": "code",
   "execution_count": 13,
   "metadata": {},
   "outputs": [
    {
     "data": {
      "text/plain": [
       "(587200, 6)"
      ]
     },
     "execution_count": 13,
     "metadata": {},
     "output_type": "execute_result"
    }
   ],
   "source": [
    "df_10q.shape"
   ]
  },
  {
   "cell_type": "code",
   "execution_count": 66,
   "metadata": {},
   "outputs": [
    {
     "data": {
      "text/plain": [
       "(6967324, 11)"
      ]
     },
     "execution_count": 66,
     "metadata": {},
     "output_type": "execute_result"
    }
   ],
   "source": [
    "df_10k.merge(df_10q, how='outer', on='CIK').shape"
   ]
  },
  {
   "cell_type": "code",
   "execution_count": 15,
   "metadata": {},
   "outputs": [],
   "source": [
    "outer_df = df_10k.merge(df_10q, how='outer', on='CIK')"
   ]
  },
  {
   "cell_type": "code",
   "execution_count": 67,
   "metadata": {},
   "outputs": [
    {
     "data": {
      "text/html": [
       "<div>\n",
       "<style scoped>\n",
       "    .dataframe tbody tr th:only-of-type {\n",
       "        vertical-align: middle;\n",
       "    }\n",
       "\n",
       "    .dataframe tbody tr th {\n",
       "        vertical-align: top;\n",
       "    }\n",
       "\n",
       "    .dataframe thead th {\n",
       "        text-align: right;\n",
       "    }\n",
       "</style>\n",
       "<table border=\"1\" class=\"dataframe\">\n",
       "  <thead>\n",
       "    <tr style=\"text-align: right;\">\n",
       "      <th></th>\n",
       "      <th>CIK</th>\n",
       "      <th>Company_Name_x</th>\n",
       "      <th>Filing_Type_x</th>\n",
       "      <th>Filing_Date_x</th>\n",
       "      <th>URL_txt_x</th>\n",
       "      <th>URL_html_x</th>\n",
       "      <th>Company_Name_y</th>\n",
       "      <th>Filing_Type_y</th>\n",
       "      <th>Filing_Date_y</th>\n",
       "      <th>URL_txt_y</th>\n",
       "      <th>URL_html_y</th>\n",
       "    </tr>\n",
       "  </thead>\n",
       "  <tbody>\n",
       "    <tr>\n",
       "      <th>0</th>\n",
       "      <td>100122</td>\n",
       "      <td>TUCSON ELECTRIC POWER CO</td>\n",
       "      <td>10-K</td>\n",
       "      <td>1995-03-09</td>\n",
       "      <td>edgar/data/100122/0000100122-95-000007.txt</td>\n",
       "      <td>edgar/data/100122/0000100122-95-000007-index.html</td>\n",
       "      <td>TUCSON ELECTRIC POWER CO</td>\n",
       "      <td>10-Q</td>\n",
       "      <td>2008-11-10</td>\n",
       "      <td>edgar/data/100122/0001362310-08-006917.txt</td>\n",
       "      <td>edgar/data/100122/0001362310-08-006917-index.html</td>\n",
       "    </tr>\n",
       "    <tr>\n",
       "      <th>1</th>\n",
       "      <td>100122</td>\n",
       "      <td>TUCSON ELECTRIC POWER CO</td>\n",
       "      <td>10-K</td>\n",
       "      <td>1995-03-09</td>\n",
       "      <td>edgar/data/100122/0000100122-95-000007.txt</td>\n",
       "      <td>edgar/data/100122/0000100122-95-000007-index.html</td>\n",
       "      <td>TUCSON ELECTRIC POWER CO</td>\n",
       "      <td>10-Q</td>\n",
       "      <td>2009-10-30</td>\n",
       "      <td>edgar/data/100122/0000950123-09-055048.txt</td>\n",
       "      <td>edgar/data/100122/0000950123-09-055048-index.html</td>\n",
       "    </tr>\n",
       "    <tr>\n",
       "      <th>2</th>\n",
       "      <td>100122</td>\n",
       "      <td>TUCSON ELECTRIC POWER CO</td>\n",
       "      <td>10-K</td>\n",
       "      <td>1995-03-09</td>\n",
       "      <td>edgar/data/100122/0000100122-95-000007.txt</td>\n",
       "      <td>edgar/data/100122/0000100122-95-000007-index.html</td>\n",
       "      <td>TUCSON ELECTRIC POWER CO</td>\n",
       "      <td>10-Q</td>\n",
       "      <td>2015-07-31</td>\n",
       "      <td>edgar/data/100122/0000100122-15-000018.txt</td>\n",
       "      <td>edgar/data/100122/0000100122-15-000018-index.html</td>\n",
       "    </tr>\n",
       "    <tr>\n",
       "      <th>3</th>\n",
       "      <td>100122</td>\n",
       "      <td>TUCSON ELECTRIC POWER CO</td>\n",
       "      <td>10-K</td>\n",
       "      <td>1995-03-09</td>\n",
       "      <td>edgar/data/100122/0000100122-95-000007.txt</td>\n",
       "      <td>edgar/data/100122/0000100122-95-000007-index.html</td>\n",
       "      <td>TUCSON ELECTRIC POWER CO</td>\n",
       "      <td>10-Q</td>\n",
       "      <td>2014-07-29</td>\n",
       "      <td>edgar/data/100122/0000941138-14-000128.txt</td>\n",
       "      <td>edgar/data/100122/0000941138-14-000128-index.html</td>\n",
       "    </tr>\n",
       "    <tr>\n",
       "      <th>4</th>\n",
       "      <td>100122</td>\n",
       "      <td>TUCSON ELECTRIC POWER CO</td>\n",
       "      <td>10-K</td>\n",
       "      <td>1995-03-09</td>\n",
       "      <td>edgar/data/100122/0000100122-95-000007.txt</td>\n",
       "      <td>edgar/data/100122/0000100122-95-000007-index.html</td>\n",
       "      <td>TUCSON ELECTRIC POWER CO</td>\n",
       "      <td>10-Q</td>\n",
       "      <td>1995-05-15</td>\n",
       "      <td>edgar/data/100122/0000100122-95-000013.txt</td>\n",
       "      <td>edgar/data/100122/0000100122-95-000013-index.html</td>\n",
       "    </tr>\n",
       "    <tr>\n",
       "      <th>5</th>\n",
       "      <td>100122</td>\n",
       "      <td>TUCSON ELECTRIC POWER CO</td>\n",
       "      <td>10-K</td>\n",
       "      <td>1995-03-09</td>\n",
       "      <td>edgar/data/100122/0000100122-95-000007.txt</td>\n",
       "      <td>edgar/data/100122/0000100122-95-000007-index.html</td>\n",
       "      <td>TUCSON ELECTRIC POWER CO</td>\n",
       "      <td>10-Q</td>\n",
       "      <td>2002-11-14</td>\n",
       "      <td>edgar/data/100122/0000941138-02-000020.txt</td>\n",
       "      <td>edgar/data/100122/0000941138-02-000020-index.html</td>\n",
       "    </tr>\n",
       "    <tr>\n",
       "      <th>6</th>\n",
       "      <td>100122</td>\n",
       "      <td>TUCSON ELECTRIC POWER CO</td>\n",
       "      <td>10-K</td>\n",
       "      <td>1995-03-09</td>\n",
       "      <td>edgar/data/100122/0000100122-95-000007.txt</td>\n",
       "      <td>edgar/data/100122/0000100122-95-000007-index.html</td>\n",
       "      <td>TUCSON ELECTRIC POWER CO</td>\n",
       "      <td>10-Q</td>\n",
       "      <td>2003-11-10</td>\n",
       "      <td>edgar/data/100122/0000941138-03-000123.txt</td>\n",
       "      <td>edgar/data/100122/0000941138-03-000123-index.html</td>\n",
       "    </tr>\n",
       "    <tr>\n",
       "      <th>7</th>\n",
       "      <td>100122</td>\n",
       "      <td>TUCSON ELECTRIC POWER CO</td>\n",
       "      <td>10-K</td>\n",
       "      <td>1995-03-09</td>\n",
       "      <td>edgar/data/100122/0000100122-95-000007.txt</td>\n",
       "      <td>edgar/data/100122/0000100122-95-000007-index.html</td>\n",
       "      <td>TUCSON ELECTRIC POWER CO</td>\n",
       "      <td>10-Q</td>\n",
       "      <td>1995-08-02</td>\n",
       "      <td>edgar/data/100122/0000100122-95-000017.txt</td>\n",
       "      <td>edgar/data/100122/0000100122-95-000017-index.html</td>\n",
       "    </tr>\n",
       "    <tr>\n",
       "      <th>8</th>\n",
       "      <td>100122</td>\n",
       "      <td>TUCSON ELECTRIC POWER CO</td>\n",
       "      <td>10-K</td>\n",
       "      <td>1995-03-09</td>\n",
       "      <td>edgar/data/100122/0000100122-95-000007.txt</td>\n",
       "      <td>edgar/data/100122/0000100122-95-000007-index.html</td>\n",
       "      <td>TUCSON ELECTRIC POWER CO</td>\n",
       "      <td>10-Q</td>\n",
       "      <td>2014-04-28</td>\n",
       "      <td>edgar/data/100122/0000941138-14-000099.txt</td>\n",
       "      <td>edgar/data/100122/0000941138-14-000099-index.html</td>\n",
       "    </tr>\n",
       "    <tr>\n",
       "      <th>9</th>\n",
       "      <td>100122</td>\n",
       "      <td>TUCSON ELECTRIC POWER CO</td>\n",
       "      <td>10-K</td>\n",
       "      <td>1995-03-09</td>\n",
       "      <td>edgar/data/100122/0000100122-95-000007.txt</td>\n",
       "      <td>edgar/data/100122/0000100122-95-000007-index.html</td>\n",
       "      <td>TUCSON ELECTRIC POWER CO</td>\n",
       "      <td>10-Q</td>\n",
       "      <td>2015-05-05</td>\n",
       "      <td>edgar/data/100122/0000100122-15-000013.txt</td>\n",
       "      <td>edgar/data/100122/0000100122-15-000013-index.html</td>\n",
       "    </tr>\n",
       "  </tbody>\n",
       "</table>\n",
       "</div>"
      ],
      "text/plain": [
       "      CIK            Company_Name_x Filing_Type_x Filing_Date_x  \\\n",
       "0  100122  TUCSON ELECTRIC POWER CO          10-K    1995-03-09   \n",
       "1  100122  TUCSON ELECTRIC POWER CO          10-K    1995-03-09   \n",
       "2  100122  TUCSON ELECTRIC POWER CO          10-K    1995-03-09   \n",
       "3  100122  TUCSON ELECTRIC POWER CO          10-K    1995-03-09   \n",
       "4  100122  TUCSON ELECTRIC POWER CO          10-K    1995-03-09   \n",
       "5  100122  TUCSON ELECTRIC POWER CO          10-K    1995-03-09   \n",
       "6  100122  TUCSON ELECTRIC POWER CO          10-K    1995-03-09   \n",
       "7  100122  TUCSON ELECTRIC POWER CO          10-K    1995-03-09   \n",
       "8  100122  TUCSON ELECTRIC POWER CO          10-K    1995-03-09   \n",
       "9  100122  TUCSON ELECTRIC POWER CO          10-K    1995-03-09   \n",
       "\n",
       "                                    URL_txt_x  \\\n",
       "0  edgar/data/100122/0000100122-95-000007.txt   \n",
       "1  edgar/data/100122/0000100122-95-000007.txt   \n",
       "2  edgar/data/100122/0000100122-95-000007.txt   \n",
       "3  edgar/data/100122/0000100122-95-000007.txt   \n",
       "4  edgar/data/100122/0000100122-95-000007.txt   \n",
       "5  edgar/data/100122/0000100122-95-000007.txt   \n",
       "6  edgar/data/100122/0000100122-95-000007.txt   \n",
       "7  edgar/data/100122/0000100122-95-000007.txt   \n",
       "8  edgar/data/100122/0000100122-95-000007.txt   \n",
       "9  edgar/data/100122/0000100122-95-000007.txt   \n",
       "\n",
       "                                          URL_html_x  \\\n",
       "0  edgar/data/100122/0000100122-95-000007-index.html   \n",
       "1  edgar/data/100122/0000100122-95-000007-index.html   \n",
       "2  edgar/data/100122/0000100122-95-000007-index.html   \n",
       "3  edgar/data/100122/0000100122-95-000007-index.html   \n",
       "4  edgar/data/100122/0000100122-95-000007-index.html   \n",
       "5  edgar/data/100122/0000100122-95-000007-index.html   \n",
       "6  edgar/data/100122/0000100122-95-000007-index.html   \n",
       "7  edgar/data/100122/0000100122-95-000007-index.html   \n",
       "8  edgar/data/100122/0000100122-95-000007-index.html   \n",
       "9  edgar/data/100122/0000100122-95-000007-index.html   \n",
       "\n",
       "             Company_Name_y Filing_Type_y Filing_Date_y  \\\n",
       "0  TUCSON ELECTRIC POWER CO          10-Q    2008-11-10   \n",
       "1  TUCSON ELECTRIC POWER CO          10-Q    2009-10-30   \n",
       "2  TUCSON ELECTRIC POWER CO          10-Q    2015-07-31   \n",
       "3  TUCSON ELECTRIC POWER CO          10-Q    2014-07-29   \n",
       "4  TUCSON ELECTRIC POWER CO          10-Q    1995-05-15   \n",
       "5  TUCSON ELECTRIC POWER CO          10-Q    2002-11-14   \n",
       "6  TUCSON ELECTRIC POWER CO          10-Q    2003-11-10   \n",
       "7  TUCSON ELECTRIC POWER CO          10-Q    1995-08-02   \n",
       "8  TUCSON ELECTRIC POWER CO          10-Q    2014-04-28   \n",
       "9  TUCSON ELECTRIC POWER CO          10-Q    2015-05-05   \n",
       "\n",
       "                                    URL_txt_y  \\\n",
       "0  edgar/data/100122/0001362310-08-006917.txt   \n",
       "1  edgar/data/100122/0000950123-09-055048.txt   \n",
       "2  edgar/data/100122/0000100122-15-000018.txt   \n",
       "3  edgar/data/100122/0000941138-14-000128.txt   \n",
       "4  edgar/data/100122/0000100122-95-000013.txt   \n",
       "5  edgar/data/100122/0000941138-02-000020.txt   \n",
       "6  edgar/data/100122/0000941138-03-000123.txt   \n",
       "7  edgar/data/100122/0000100122-95-000017.txt   \n",
       "8  edgar/data/100122/0000941138-14-000099.txt   \n",
       "9  edgar/data/100122/0000100122-15-000013.txt   \n",
       "\n",
       "                                          URL_html_y  \n",
       "0  edgar/data/100122/0001362310-08-006917-index.html  \n",
       "1  edgar/data/100122/0000950123-09-055048-index.html  \n",
       "2  edgar/data/100122/0000100122-15-000018-index.html  \n",
       "3  edgar/data/100122/0000941138-14-000128-index.html  \n",
       "4  edgar/data/100122/0000100122-95-000013-index.html  \n",
       "5  edgar/data/100122/0000941138-02-000020-index.html  \n",
       "6  edgar/data/100122/0000941138-03-000123-index.html  \n",
       "7  edgar/data/100122/0000100122-95-000017-index.html  \n",
       "8  edgar/data/100122/0000941138-14-000099-index.html  \n",
       "9  edgar/data/100122/0000100122-15-000013-index.html  "
      ]
     },
     "execution_count": 67,
     "metadata": {},
     "output_type": "execute_result"
    }
   ],
   "source": [
    "outer_df.head(10)"
   ]
  },
  {
   "cell_type": "code",
   "execution_count": 72,
   "metadata": {},
   "outputs": [
    {
     "data": {
      "text/plain": [
       "(169925, 6)"
      ]
     },
     "execution_count": 72,
     "metadata": {},
     "output_type": "execute_result"
    }
   ],
   "source": [
    "df_10k[df_10k['CIK'].isin(df_10q['CIK'])].shape"
   ]
  },
  {
   "cell_type": "code",
   "execution_count": 73,
   "metadata": {},
   "outputs": [
    {
     "data": {
      "text/plain": [
       "(19563, 6)"
      ]
     },
     "execution_count": 73,
     "metadata": {},
     "output_type": "execute_result"
    }
   ],
   "source": [
    "df_10k[~df_10k['CIK'].isin(df_10q['CIK'])].shape"
   ]
  },
  {
   "cell_type": "code",
   "execution_count": 74,
   "metadata": {},
   "outputs": [
    {
     "data": {
      "text/plain": [
       "(13065, 6)"
      ]
     },
     "execution_count": 74,
     "metadata": {},
     "output_type": "execute_result"
    }
   ],
   "source": [
    "df_10q[~df_10q['CIK'].isin(df_10k['CIK'])].shape"
   ]
  },
  {
   "cell_type": "code",
   "execution_count": 89,
   "metadata": {},
   "outputs": [],
   "source": [
    "intersect = df_10k[df_10k['CIK'].isin(df_10q['CIK'])]"
   ]
  },
  {
   "cell_type": "code",
   "execution_count": 90,
   "metadata": {},
   "outputs": [],
   "source": [
    "tenk_notin_tenq = df_10k[~df_10k['CIK'].isin(df_10q['CIK'])]"
   ]
  },
  {
   "cell_type": "code",
   "execution_count": 91,
   "metadata": {},
   "outputs": [],
   "source": [
    "tenq_notin_tenk = df_10q[~df_10q['CIK'].isin(df_10k['CIK'])]"
   ]
  },
  {
   "cell_type": "code",
   "execution_count": 92,
   "metadata": {},
   "outputs": [],
   "source": [
    "total_df = intersect.append(tenk_notin_tenq).append(tenq_notin_tenk)"
   ]
  },
  {
   "cell_type": "code",
   "execution_count": 93,
   "metadata": {},
   "outputs": [
    {
     "data": {
      "text/plain": [
       "(202553, 6)"
      ]
     },
     "execution_count": 93,
     "metadata": {},
     "output_type": "execute_result"
    }
   ],
   "source": [
    "total_df.shape"
   ]
  },
  {
   "cell_type": "code",
   "execution_count": 94,
   "metadata": {},
   "outputs": [],
   "source": [
    "total_df = total_df.sort_values('Filing_Date', ascending=False)"
   ]
  },
  {
   "cell_type": "code",
   "execution_count": 95,
   "metadata": {},
   "outputs": [],
   "source": [
    "total_df = total_df.drop_duplicates(subset=['CIK'], keep='first')"
   ]
  },
  {
   "cell_type": "code",
   "execution_count": 96,
   "metadata": {},
   "outputs": [],
   "source": [
    "total_df['URL_html'] = total_df['URL_html'].astype(str)"
   ]
  },
  {
   "cell_type": "code",
   "execution_count": 97,
   "metadata": {},
   "outputs": [
    {
     "data": {
      "text/plain": [
       "(38820, 6)"
      ]
     },
     "execution_count": 97,
     "metadata": {},
     "output_type": "execute_result"
    }
   ],
   "source": [
    "total_df.shape"
   ]
  },
  {
   "cell_type": "code",
   "execution_count": 105,
   "metadata": {},
   "outputs": [
    {
     "data": {
      "text/html": [
       "<div>\n",
       "<style scoped>\n",
       "    .dataframe tbody tr th:only-of-type {\n",
       "        vertical-align: middle;\n",
       "    }\n",
       "\n",
       "    .dataframe tbody tr th {\n",
       "        vertical-align: top;\n",
       "    }\n",
       "\n",
       "    .dataframe thead th {\n",
       "        text-align: right;\n",
       "    }\n",
       "</style>\n",
       "<table border=\"1\" class=\"dataframe\">\n",
       "  <thead>\n",
       "    <tr style=\"text-align: right;\">\n",
       "      <th></th>\n",
       "      <th>CIK</th>\n",
       "      <th>Company_Name</th>\n",
       "      <th>Filing_Type</th>\n",
       "      <th>Filing_Date</th>\n",
       "      <th>URL_txt</th>\n",
       "      <th>URL_html</th>\n",
       "    </tr>\n",
       "  </thead>\n",
       "  <tbody>\n",
       "  </tbody>\n",
       "</table>\n",
       "</div>"
      ],
      "text/plain": [
       "Empty DataFrame\n",
       "Columns: [CIK, Company_Name, Filing_Type, Filing_Date, URL_txt, URL_html]\n",
       "Index: []"
      ]
     },
     "execution_count": 105,
     "metadata": {},
     "output_type": "execute_result"
    }
   ],
   "source": [
    "total_df[total_df['URL_html'] == 'nan']"
   ]
  },
  {
   "cell_type": "code",
   "execution_count": 98,
   "metadata": {},
   "outputs": [
    {
     "data": {
      "text/plain": [
       "0"
      ]
     },
     "execution_count": 98,
     "metadata": {},
     "output_type": "execute_result"
    }
   ],
   "source": [
    "sum(total_df['URL_html'].isnull())"
   ]
  },
  {
   "cell_type": "code",
   "execution_count": 16,
   "metadata": {},
   "outputs": [],
   "source": [
    "final_df = outer_df.drop_duplicates(subset=['CIK'], keep='first')"
   ]
  },
  {
   "cell_type": "code",
   "execution_count": 17,
   "metadata": {},
   "outputs": [],
   "source": [
    "final_df = final_df.drop(columns=['Company_Name_y', 'Filing_Type_y', 'Filing_Date_y',\n",
    "       'URL_txt_y', 'URL_html_y'])"
   ]
  },
  {
   "cell_type": "code",
   "execution_count": 18,
   "metadata": {},
   "outputs": [
    {
     "data": {
      "text/plain": [
       "(38820, 6)"
      ]
     },
     "execution_count": 18,
     "metadata": {},
     "output_type": "execute_result"
    }
   ],
   "source": [
    "final_df.shape"
   ]
  },
  {
   "cell_type": "code",
   "execution_count": 19,
   "metadata": {},
   "outputs": [],
   "source": [
    "def CIK_SIC_mapping(df):\n",
    "\n",
    "    SIC = {}\n",
    "    for cik, url in zip(df['CIK'], df['URL_html_x']):\n",
    "        #print('https://www.sec.gov/Archives/'+url)\n",
    "        sic = get_SIC('https://www.sec.gov/Archives/'+url)\n",
    "        #print('https://www.sec.gov/Archives/'+url)\n",
    "        #print(sic)\n",
    "        SIC[cik] = sic\n",
    "    \n",
    "    return SIC"
   ]
  },
  {
   "cell_type": "code",
   "execution_count": 20,
   "metadata": {},
   "outputs": [],
   "source": [
    "df1, df2, df3, df4, df5, df6, df7, df8, df9, df10 = np.array_split(final_df,10)"
   ]
  },
  {
   "cell_type": "code",
   "execution_count": null,
   "metadata": {},
   "outputs": [],
   "source": [
    "#Stop here"
   ]
  },
  {
   "cell_type": "code",
   "execution_count": 216,
   "metadata": {},
   "outputs": [],
   "source": [
    "cik_sic_list_1 = []\n",
    "for df in [df1, df2, df3, df4, df5]:\n",
    "    cik_sic_list_1.append(CIK_SIC_mapping(df))"
   ]
  },
  {
   "cell_type": "code",
   "execution_count": 16,
   "metadata": {},
   "outputs": [],
   "source": [
    "#len(cik_sic_list_1)"
   ]
  },
  {
   "cell_type": "code",
   "execution_count": 17,
   "metadata": {},
   "outputs": [],
   "source": [
    "#len(cik_sic_list_2)"
   ]
  },
  {
   "cell_type": "code",
   "execution_count": 251,
   "metadata": {},
   "outputs": [],
   "source": [
    "#Already done\n",
    "#final1 = pd.DataFrame(cik_sic_list_1)"
   ]
  },
  {
   "cell_type": "code",
   "execution_count": 252,
   "metadata": {},
   "outputs": [],
   "source": [
    "#Already done\n",
    "#final2 = pd.DataFrame(cik_sic_list_2)"
   ]
  },
  {
   "cell_type": "code",
   "execution_count": null,
   "metadata": {},
   "outputs": [],
   "source": [
    "#JUST READ MASTER IN CSV FORM NOW!"
   ]
  },
  {
   "cell_type": "code",
   "execution_count": 253,
   "metadata": {},
   "outputs": [],
   "source": [
    "#Already done\n",
    "#final1.to_csv('sic_cik_mapping_1.csv', index=False)"
   ]
  },
  {
   "cell_type": "code",
   "execution_count": 254,
   "metadata": {},
   "outputs": [],
   "source": [
    "#Already done\n",
    "#final2.to_csv('sic_cik_mapping_2.csv', index=False)"
   ]
  },
  {
   "cell_type": "code",
   "execution_count": null,
   "metadata": {},
   "outputs": [],
   "source": [
    "#### stop here"
   ]
  },
  {
   "cell_type": "code",
   "execution_count": 20,
   "metadata": {},
   "outputs": [],
   "source": [
    "#Already done\n",
    "#cik_sic_list_more = []"
   ]
  },
  {
   "cell_type": "code",
   "execution_count": 25,
   "metadata": {},
   "outputs": [],
   "source": [
    "#Already done\n",
    "#cik_sic_list_more.append(CIK_SIC_mapping(df8))"
   ]
  },
  {
   "cell_type": "code",
   "execution_count": 23,
   "metadata": {},
   "outputs": [],
   "source": [
    "#Already done\n",
    "#cik_sic_list_more.append(CIK_SIC_mapping(df9))"
   ]
  },
  {
   "cell_type": "code",
   "execution_count": 29,
   "metadata": {},
   "outputs": [],
   "source": [
    "df10['URL_html_x'] = df10['URL_html_x'].astype(str)"
   ]
  },
  {
   "cell_type": "code",
   "execution_count": 30,
   "metadata": {},
   "outputs": [],
   "source": [
    "#Already done\n",
    "#final3 = pd.DataFrame(cik_sic_list_more)"
   ]
  },
  {
   "cell_type": "code",
   "execution_count": 31,
   "metadata": {},
   "outputs": [],
   "source": [
    "#Already done\n",
    "#final3.to_csv('cik_sic_list_more.csv', index=False)"
   ]
  },
  {
   "cell_type": "code",
   "execution_count": 32,
   "metadata": {},
   "outputs": [],
   "source": [
    "cik_sic_list_more2 = []"
   ]
  },
  {
   "cell_type": "code",
   "execution_count": 34,
   "metadata": {},
   "outputs": [
    {
     "data": {
      "text/plain": [
       "(3882, 6)"
      ]
     },
     "execution_count": 34,
     "metadata": {},
     "output_type": "execute_result"
    }
   ],
   "source": [
    "df10.shape"
   ]
  },
  {
   "cell_type": "code",
   "execution_count": 102,
   "metadata": {},
   "outputs": [
    {
     "data": {
      "text/plain": [
       "3412"
      ]
     },
     "execution_count": 102,
     "metadata": {},
     "output_type": "execute_result"
    }
   ],
   "source": [
    "len(df10[df10['URL_html_x'] == 'nan'])"
   ]
  },
  {
   "cell_type": "code",
   "execution_count": 35,
   "metadata": {},
   "outputs": [],
   "source": [
    "df_test = df10.iloc[:1000,:]"
   ]
  },
  {
   "cell_type": "code",
   "execution_count": 36,
   "metadata": {},
   "outputs": [],
   "source": [
    "#Finish running this:\n",
    "cik_sic_list_more2.append(CIK_SIC_mapping(df_test))"
   ]
  },
  {
   "cell_type": "code",
   "execution_count": 40,
   "metadata": {},
   "outputs": [
    {
     "name": "stdout",
     "output_type": "stream",
     "text": [
      "0 {1369017: 6189, 1369031: 6189, 1369057: 6189, 1369060: 6321, 1369100: 6189, 1369101: 6189, 1369105: 6311, 1369106: 6311, 1369107: 6321, 1369137: 6189, 1369168: 6189, 1369175: 6189, 1369197: 6189, 1369221: 6189, 1369285: 6189, 1369367: 6189, 1369413: 6189, 1369462: 6189, 1369463: 6189, 1369465: 6189, 1369467: 6189, 1369504: 6189, 1369665: 6189, 1369689: 6189, 1369690: 6189, 1369736: 6189, 1370175: 6189, 1370218: 6189, 1370219: 6189, 1370220: 6189, 1370221: 6189, 1370357: 6189, 1370358: 6189, 1370359: 6189, 1370360: 6189, 1370361: 6189, 1370362: 6189, 1370363: 6189, 1370409: 6189, 1370434: 6798, 1370518: 6189, 1370647: 6189, 1370770: 6189, 1370862: 6189, 1370873: 6189, 1370972: 6189, 1370985: 6189, 1371096: 6189, 1371097: 6189, 1371110: 6189, 1371111: 6189, 1371112: 6189, 1371114: 6189, 1371124: 6321, 1371127: 6189, 1371131: 6189, 1371132: 6321, 1371152: 6189, 1371153: 6189, 1371291: 6189, 1371292: 6189, 1371294: 6189, 1371385: 6189, 1371606: 6189, 1371608: 6189, 1371666: 6189, 1371670: 6189, 1371774: 6189, 1371882: 6321, 1371898: 6321, 1371900: 6321, 1371913: 6189, 1371963: 6189, 1371964: 6189, 1371984: 6189, 1372075: 6189, 1372211: 6189, 1372264: 6189, 1372293: 6189, 1372497: 6189, 1372550: 6189, 1372600: 6189, 1372621: 6189, 1372623: 6189, 1372660: 6321, 1372670: 6321, 1372673: 6189, 1372708: 6189, 1372798: 6189, 1372799: 6189, 1372827: 6189, 1372829: 6189, 1372832: 6189, 1372861: 6189, 1372862: 6311, 1372961: 6189, 1373013: 6189, 1373014: 6189, 1373038: 6189, 1373117: 6189, 1373128: 6189, 1373146: 6189, 1373457: 6311, 1373495: 6321, 1373501: 6321, 1373532: 6189, 1373533: 6189, 1373571: 6189, 1373600: 6189, 1373616: 6189, 1373627: 6189, 1373657: 6189, 1373699: 6189, 1373758: 6189, 1373779: 6189, 1373783: 6189, 1373799: 6189, 1373800: 6189, 1373809: 6189, 1373849: 6189, 1374031: 6321, 1374036: 6189, 1374037: 6321, 1374164: 6189, 1374173: 6189, 1374220: 6189, 1374221: 6189, 1374253: 6189, 1374279: 6189, 1374390: 6189, 1374467: 6189, 1374478: 6189, 1374479: 6189, 1374480: 6189, 1374481: 6189, 1374482: 6189, 1374555: 6189, 1374556: 6189, 1374560: 6189, 1374561: 6189, 1374562: 6189, 1374563: 6189, 1374564: 6189, 1374565: 6189, 1374591: 6311, 1374592: 6189, 1374608: 6321, 1374609: 6189, 1374616: 6189, 1374619: 6321, 1374621: 6189, 1374622: 6189, 1374623: 6321, 1374624: 6189, 1374625: 6189, 1374626: 6189, 1374627: 6189, 1374628: 6189, 1374629: 6189, 1374630: 6189, 1374631: 6189, 1374632: 6189, 1374634: 6189, 1374747: 6189, 1374855: 6189, 1374883: 6189, 1374886: 6189, 1374923: 6189, 1375033: 6189, 1375034: 6189, 1375035: 6189, 1375036: 6189, 1375037: 6189, 1375038: 6189, 1375039: 6189, 1375055: 6189, 1375075: 6189, 1375096: 6189, 1375145: 6189, 1375155: 6189, 1375162: 6189, 1375214: 6189, 1375226: 6321, 1375227: 6321, 1375228: 6321, 1375250: 6189, 1375251: 6189, 1375252: 6189, 1375281: 6189, 1375413: 6189, 1375487: 6189, 1375488: 6189, 1375489: 6189, 1375490: 6189, 1375541: 6189, 1375543: 6189, 1375544: 6189, 1375559: 6189, 1375560: 6189, 1375561: 6189, 1375564: 6189, 1375566: 6189, 1375655: 6189, 1375656: 6189, 1375690: 6189, 1375695: 6189, 1375706: 6189, 1375721: 6189, 1375755: 6311, 1375786: 6189, 1375787: 6189, 1375789: 6189, 1375790: 6189, 1375791: 6189, 1375837: 6321, 1375838: 6321, 1375842: 6321, 1375906: 6189, 1376057: 6189, 1376062: 6189, 1376063: 6189, 1376073: 6189, 1376085: 6189, 1376086: 6189, 1376118: 6189, 1376210: 6189, 1376223: 6189, 1376300: 6189, 1376303: 6189, 1376306: 6189, 1376307: 6189, 1376346: 6189, 1376392: 6189, 1376461: 6189, 1376462: 6189, 1376489: 6321, 1376512: 6189, 1376515: 6321, 1376537: 6189, 1376631: 6189, 1376639: 6189, 1376721: 6189, 1376787: 6189, 1376798: 6189, 1376862: 6321, 1377098: 6189, 1377124: 6189, 1377137: 6311, 1377142: 6321, 1377147: 6321, 1377153: 6189, 1377154: 6321, 1377220: 6189, 1377242: 6189, 1377243: 6189, 1377244: 6189, 1377245: 6189, 1377263: 6189, 1377265: 6189, 1377559: 6189, 1377598: 6189, 1377603: 6189, 1377610: 6189, 1377617: 6189, 1377618: 6189, 1377694: 6189, 1377804: 6189, 1377805: 6189, 1377807: 6189, 1377841: 6189, 1377851: 6189, 1377862: 6189, 1377863: 6189, 1377864: 6189, 1377865: 6189, 1377875: 6321, 1377876: 6189, 1377903: 6321, 1377904: 6321, 1377906: 6189, 1377907: 6189, 1377943: 6189, 1378018: 6189, 1378095: 6189, 1378196: 6189, 1378220: 6189, 1378234: 6189, 1378276: 6189, 1378277: 6189, 1378278: 6189, 1378279: 6189, 1378281: 6189, 1378295: 6189, 1378335: 6311, 1378357: 6321, 1378358: 6189, 1378369: 6321, 1378370: 6321, 1378454: 6189, 1378483: 6189, 1378487: 6189, 1378535: 6189, 1378592: 6189, 1378593: 6189, 1378849: 6189, 1378929: 6189, 1378942: 6189, 1378943: 6189, 1378954: 6189, 1379008: 6189, 1379013: 6189, 1379014: 6189, 1379040: 6189, 1379210: 6189, 1379211: 6189, 1379328: 6189, 1379381: 6189, 1379392: 6189, 1379393: 6189, 1379411: 6189, 1379489: 6189, 1379510: 6189, 1379511: 6189, 1379513: 6189, 1379569: 6189, 1379577: 6189, 1379611: 6189, 1379639: 6189, 1379641: 6189, 1379644: 6189, 1379700: 6321, 1379710: 6321, 1379713: 6321, 1379744: 6189, 1379745: 6189, 1379746: 6189, 1379784: 6189, 1379837: 6189, 1379838: 6189, 1379841: 6189, 1379847: 6189, 1379882: 6189, 1379883: 6189, 1379884: 6189, 1379892: 6189, 1379893: 6189, 1380036: 6189, 1380210: 6189, 1380322: 6321, 1380344: 6321, 1380361: 6321, 1380367: 6189, 1380368: 6189, 1380369: 6189, 1380370: 6189, 1380456: 6321, 1380476: 6189, 1380479: 6189, 1380535: 6189, 1380537: 6189, 1380552: 6189, 1380553: 6189, 1380554: 6189, 1380675: 6189, 1380701: 6189, 1380799: 6189, 1380873: 6189, 1380881: 6189, 1380897: 6189, 1380920: 6321, 1380923: 6321, 1380946: 6189, 1380948: 6189, 1380949: 6189, 1380950: 6189, 1380951: 6189, 1380952: 6189, 1380953: 6189, 1380954: 6189, 1380960: 6321, 1380964: 6189, 1381053: 6189, 1381062: 6189, 1381072: 6189, 1381109: 6189, 1381125: 6189, 1381158: 6189, 1381295: 6189, 1381319: 6189, 1381326: 6189, 1381327: 6189, 1381343: 6189, 1381470: 6189, 1381771: 6189, 1381778: 6189, 1381779: 6189, 1381952: 6189, 1381999: 6189, 1382027: 6311, 1382103: 6189, 1382120: 6189, 1382121: 6321, 1382128: 6189, 1382129: 6189, 1382130: 6321, 1382131: 6311, 1382136: 6189, 1382141: 6189, 1382155: 6189, 1382163: 6189, 1382185: 6189, 1382213: 6189, 1382260: 6189, 1382280: 6189, 1382300: 6189, 1382324: 6189, 1382369: 6189, 1382370: 6189, 1382503: 6321, 1382550: 6321, 1382555: 6321, 1382561: 6321, 1382564: 6189, 1382612: 6189, 1382633: 6189, 1382634: 6189, 1382635: 6189, 1382636: 6189, 1382637: 6189, 1382638: 6189, 1382639: 6189, 1382651: 6189, 1382691: 6189, 1382799: 6189, 1382885: 6189, 1382891: 6189, 1382896: 6189, 1382898: 6189, 1382931: 6189, 1382996: 6189, 1383018: 6189, 1383019: 6189, 1383053: 6189, 1383114: 6189, 1383189: 6189, 1383245: 6311, 1383252: 6321, 1383254: 6321, 1383257: 6321, 1383341: 6189, 1383346: 6189, 1383359: 6189, 1383361: 6189, 1383362: 6189, 1383363: 6189, 1383449: 6189, 1383648: 6321, 1383665: 6321, 1383727: 6189, 1383944: 6189, 1383945: 6189, 1383946: 6189, 1384024: 6189, 1384062: 6189, 1384091: 6189, 1384690: 6189, 1384691: 6189, 1384692: 6189, 1384773: 6189, 855424: 8741, 105189: 'None', 20975: 'None', 216991: 'None', 28755: 'None', 312259: 'None', 350874: 'None', 48948: 'None', 67217: 'None', 68361: 'None', 701290: 'None', 702173: 'None', 702756: 'None', 711074: 'None', 711205: 'None', 724621: 'None', 731841: 'None', 733775: 'None', 737573: 'None', 755659: 'None', 758292: 'None', 758452: 'None', 766658: 'None', 769847: 'None', 78103: 'None', 789869: 'None', 792888: 'None', 794566: 'None', 799276: 'None', 799290: 'None', 802555: 'None', 810957: 'None', 814037: 'None', 824590: 'None', 846872: 'None', 861049: 'None', 898470: 'None', 97931: 'None', 32703: 'None', 354797: 'None', 43287: 'None', 71125: 'None', 719146: 'None', 725555: 'None', 728848: 'None', 736469: 'None', 74702: 'None', 810909: 'None', 811082: 'None', 811083: 'None', 811084: 'None', 823883: 'None', 830735: 'None', 836666: 'None', 96000: 'None', 1003933: 'None', 1015920: 'None', 1016151: 'None', 1017137: 'None', 1017797: 'None', 1022964: 'None', 1024109: 'None', 1030144: 'None', 1031833: 'None', 1031905: 'None', 1034674: 'None', 1036148: 'None', 1037599: 'None', 104401: 'None', 1054311: 'None', 1059099: 'None', 1064011: 'None', 1065677: 'None', 1068660: 'None', 1069778: 'None', 1070050: 'None', 1072816: 'None', 1083407: 'None', 1083661: 'None', 1083721: 'None', 1084966: 'None', 1084983: 'None', 1085203: 'None', 1089499: 'None', 1089775: 'None', 1092959: 'None', 1093933: 'None', 1096662: 'None', 1098278: 'None', 1098343: 'None', 1099150: 'None', 1104671: 'None', 1106861: 'None', 1107522: 'None', 1108699: 'None', 1110418: 'None', 1110480: 'None', 1113546: 'None', 1113947: 'None', 1117458: 'None', 1118159: 'None', 1120285: 'None', 1120411: 'None', 1121225: 'None', 1123195: 'None', 1123458: 'None', 1124217: 'None', 1126960: 'None', 1129284: 'None', 1130131: 'None', 1133267: 'None', 1135194: 'None', 1138586: 'None', 1138659: 'None', 1138867: 'None', 1141395: 'None', 1141500: 'None', 1143705: 'None', 1144879: 'None', 1156833: 'None', 1158486: 'None', 1160217: 'None', 1160764: 'None', 1161979: 'None', 1162895: 'None', 1165271: 'None', 1170103: 'None', 1170652: 'None', 1170848: 'None', 1171596: 'None', 1171749: 'None', 1174890: 'None', 1175158: 'None', 1175867: 'None', 1192323: 'None', 1201251: 'None', 1204853: 'None', 1208833: 'None', 1212570: 'None', 1216014: 'None', 1216199: 'None', 1219584: 'None', 1220286: 'None', 1232400: 'None', 1240722: 'None', 1265449: 'None', 1267147: 'None', 1272415: 'None', 1274001: 'None', 1276939: 'None', 1281629: 'None', 1285936: 'None', 1292521: 'None', 1296001: 'None', 1297533: 'None', 1299919: 'None', 1301557: 'None', 1304559: 'None', 1305055: 'None', 1305748: 'None', 1309140: 'None', 1309237: 'None', 1309541: 'None', 1309710: 'None', 1310213: 'None', 1315373: 'None', 1315498: 'None', 1316156: 'None', 1316578: 'None', 1317035: 'None', 1319647: 'None', 1323923: 'None', 1327299: 'None', 1330292: 'None', 1330340: 'None', 1332042: 'None', 1334314: 'None', 1334740: 'None', 1340995: 'None', 1341259: 'None', 1343101: 'None', 1343557: 'None', 1345059: 'None', 1345479: 'None', 1345721: 'None', 1346377: 'None', 1346405: 'None', 1346853: 'None', 1346860: 'None', 1348104: 'None', 1348157: 'None', 1348232: 'None', 1349108: 'None', 1349879: 'None', 1357335: 'None', 1359290: 'None', 1363423: 'None', 1364969: 'None', 1366512: 'None', 1368154: 'None', 1368569: 'None', 1371003: 'None', 1371916: 'None', 1372305: 'None', 1372617: 'None', 1372618: 'None', 1372977: 'None', 1373467: 'None', 1373855: 'None', 1374061: 'None', 1374435: 'None', 1378214: 'None', 1378451: 'None', 1386927: 'None', 1388374: 'None', 1389538: 'None', 1389826: 'None', 1390016: 'None', 1398931: 'None', 1399126: 'None', 1399390: 'None', 1401093: 'None', 1401094: 'None', 1402024: 'None', 1403386: 'None', 1404403: 'None', 1404597: 'None', 1405127: 'None', 1409741: 'None', 1411055: 'None', 1411163: 'None', 1411166: 'None', 1411169: 'None', 1412144: 'None', 1413760: 'None', 1414899: 'None', 1422175: 'None', 1425189: 'None', 1425360: 'None', 1427310: 'None', 1427420: 'None', 1428779: 'None', 1429336: 'None', 1429469: 'None', 1430300: 'None', 1432315: 'None', 1432950: 'None', 1434974: 'None', 1434976: 'None', 1437236: 'None', 1438205: 'None', 1440822: 'None', 1441637: 'None', 1442215: 'None', 1442504: 'None', 1445059: 'None', 1445222: 'None', 1445223: 'None', 1447879: 'None', 217222: 'None', 30906: 'None', 319040: 'None', 354507: 'None', 49397: 'None', 717945: 'None', 721295: 'None', 725897: 'None', 748055: 'None', 769882: 'None', 774657: 'None', 789667: 'None', 791833: 'None', 793981: 'None', 797329: 'None', 809802: 'None', 810365: 'None', 810836: 'None', 816958: 'None', 822998: 'None', 825203: 'None', 827161: 'None', 832473: 'None', 833203: 'None', 841533: 'None', 861058: 'None', 876490: 'None', 894552: 'None', 910111: 'None', 915471: 'None', 922913: 'None', 930817: 'None', 935496: 'None', 96664: 'None', 1047153: 'None', 1308319: 'None', 1354003: 'None', 1409327: 'None', 1420178: 'None', 1433561: 'None', 1435967: 'None', 1436205: 'None', 1436206: 'None', 1460685: 'None', 1470884: 'None', 728390: 'None', 1572819: 'None', 1584104: 'None', 1602929: 'None', 1617686: 'None', 1618084: 'None', 1619409: 'None', 1619541: 'None', 1069680: 'None', 1587637: 'None', 1563004: 'None', 1592998: 'None', 1603794: 'None', 1614540: 'None', 1628739: 'None', 1632276: 'None', 1632363: 'None', 1634052: 'None', 1634422: 'None', 1634443: 'None', 1635607: 'None', 1639143: 'None', 1641521: 'None', 1645316: 'None', 1574652: 'None', 1574672: 'None', 1577785: 'None', 1597891: 'None', 1598776: 'None', 1599414: 'None', 1601602: 'None', 1602949: 'None', 1604962: 'None', 1606355: 'None', 1608109: 'None', 1610789: 'None', 1610839: 'None', 858395: 'None', 13839: 'None', 311099: 'None', 351708: 'None', 355878: 'None', 5177: 'None', 702720: 'None', 7119: 'None', 718607: 'None', 723610: 'None', 731336: 'None', 733289: 'None', 746896: 'None', 752200: 'None', 771178: 'None', 773350: 'None', 790168: 'None', 800469: 'None', 803743: 'None', 805274: 'None', 814570: 'None', 816951: 'None', 822415: 'None', 822419: 'None', 824776: 'None', 826329: 'None', 83053: 'None', 841281: 'None', 843396: 'None', 843397: 'None', 86291: 'None', 867516: 'None', 916849: 'None', 919096: 'None', 99724: 'None', 101032: 'None', 104519: 'None', 18620: 'None', 215406: 'None', 216184: 'None', 22366: 'None', 23657: 'None', 2435: 'None', 275193: 'None', 275600: 'None', 276280: 'None', 276326: 'None', 276703: 'None', 310621: 'None', 310812: 'None', 312812: 'None', 312918: 'None', 313019: 'None', 313044: 'None', 316695: 'None', 318016: 'None', 318140: 'None', 318722: 'None', 318779: 'None', 319085: 'None', 319157: 'None', 319416: 'None', 320185: 'None', 320591: 'None', 3228: 'None', 350200: 'None', 350745: 'None', 351685: 'None', 351693: 'None', 352871: 'None', 353181: 'None', 354884: 'None', 354993: 'None', 355115: 'None', 355946: 'None', 356211: 'None', 38868: 'None', 39394: 'None', 40956: 'None', 41365: 'None', 43514: 'None', 4438: 'None', 44524: 'None', 46238: 'None', 46455: 'None', 48824: 'None', 50361: 'None', 52301: 'None', 53281: 'None', 53316: 'None', 54750: 'None', 5696: 'None', 58204: 'None', 60731: 'None', 63528: 'None', 63959: 'None', 64309: 'None', 64310: 'None', 64493: 'None', 64513: 'None', 65291: 'None', 65705: 'None', 66965: 'None', 68480: 'None', 700913: 'None', 701467: 'None', 702147: 'None', 702170: 'None', 702511: 'None', 702657: 'None', 704171: 'None', 704271: 'None', 706005: 'None', 708193: 'None', 710851: 'None', 711393: 'None', 712194: 'None', 714211: 'None', 714593: 'None', 715247: 'None', 716407: 'None', 716615: 'None', 717303: 'None', 717411: 'None', 718075: 'None', 718451: 'None', 718976: 'None', 719073: 'None', 719322: 'None', 719522: 'None', 719623: 'None', 720479: 'None', 722232: 'None', 722692: 'None', 724136: 'None', 724769: 'None', 72575: 'None', 727127: 'None', 727739: 'None', 729661: 'None', 730037: 'None', 730564: 'None', 732640: 'None', 734761: 'None', 736909: 'None', 737829: 'None', 739712: 'None', 741316: 'None', 741356: 'None', 74431: 'None', 745213: 'None', 745933: 'None', 748792: 'None', 749420: 'None', 750334: 'None', 750456: 'None', 751044: 'None', 751260: 'None', 751262: 'None', 751468: 'None', 752390: 'None', 752895: 'None', 755869: 'None', 756427: 'None', 756428: 'None', 756918: 'None', 757078: 'None', 757189: 'None', 757546: 'None', 757790: 'None', 758479: 'None', 758745: 'None', 760730: 'None', 761280: 'None', 761282: 'None', 763827: 'None', 764036: 'None', 764544: 'None', 766826: 'None', 76728: 'None', 768603: 'None', 768680: 'None', 769626: 'None', 771641: 'None', 773399: 'None', 774489: 'None', 775272: 'None', 776818: 'None', 777277: 'None', 778107: 'None'}\n"
     ]
    }
   ],
   "source": [
    "for n, i in enumerate(cik_sic_list_more2):\n",
    "    print(n,i)"
   ]
  },
  {
   "cell_type": "code",
   "execution_count": 42,
   "metadata": {},
   "outputs": [
    {
     "data": {
      "text/html": [
       "<div>\n",
       "<style scoped>\n",
       "    .dataframe tbody tr th:only-of-type {\n",
       "        vertical-align: middle;\n",
       "    }\n",
       "\n",
       "    .dataframe tbody tr th {\n",
       "        vertical-align: top;\n",
       "    }\n",
       "\n",
       "    .dataframe thead th {\n",
       "        text-align: right;\n",
       "    }\n",
       "</style>\n",
       "<table border=\"1\" class=\"dataframe\">\n",
       "  <thead>\n",
       "    <tr style=\"text-align: right;\">\n",
       "      <th></th>\n",
       "      <th>CIK</th>\n",
       "      <th>Company_Name_x</th>\n",
       "      <th>Filing_Type_x</th>\n",
       "      <th>Filing_Date_x</th>\n",
       "      <th>URL_txt_x</th>\n",
       "      <th>URL_html_x</th>\n",
       "    </tr>\n",
       "  </thead>\n",
       "  <tbody>\n",
       "    <tr>\n",
       "      <th>6986887</th>\n",
       "      <td>105189</td>\n",
       "      <td>NaN</td>\n",
       "      <td>NaN</td>\n",
       "      <td>NaN</td>\n",
       "      <td>NaN</td>\n",
       "      <td>nan</td>\n",
       "    </tr>\n",
       "  </tbody>\n",
       "</table>\n",
       "</div>"
      ],
      "text/plain": [
       "            CIK Company_Name_x Filing_Type_x Filing_Date_x URL_txt_x  \\\n",
       "6986887  105189            NaN           NaN           NaN       NaN   \n",
       "\n",
       "        URL_html_x  \n",
       "6986887        nan  "
      ]
     },
     "execution_count": 42,
     "metadata": {},
     "output_type": "execute_result"
    }
   ],
   "source": [
    "df10[df10['CIK'] == 105189]"
   ]
  },
  {
   "cell_type": "code",
   "execution_count": 53,
   "metadata": {},
   "outputs": [],
   "source": [
    "null_ciks = df10.loc[6986887:,:]['CIK']"
   ]
  },
  {
   "cell_type": "code",
   "execution_count": 54,
   "metadata": {},
   "outputs": [],
   "source": [
    "nulls = master_df[master_df['CIK'].isin(null_ciks)]"
   ]
  },
  {
   "cell_type": "code",
   "execution_count": 64,
   "metadata": {},
   "outputs": [
    {
     "data": {
      "text/plain": [
       "array(['10-Q', 'SC 13G', '15-12G', 'SC 13G/A', '10-K405', '10-Q/A', '8-K',\n",
       "       'DEF 14A', '15-15D', 'DEFS14A', '11-K', '8-K/A', 'SC 13D/A',\n",
       "       'PRE 14A', 'S-2/A', 'DEF13E3/A', 'DEFM14C', 'PREM14C', 'SC 13E3/A',\n",
       "       'SC 14D1/A', 'S-3/A', 'S-8', 'SC 13D', 'SC 13E3', 'SC 14D1',\n",
       "       'SC 14D9', 'S-8 POS', 'DEFA14A', 'POS AM', 'NT 10-K', 'S-4/A',\n",
       "       '424B3', '10-K/A', 'S-4', '8-A12G/A', '15-15D/A', 'NSAR-B/A',\n",
       "       'NSAR-B', '13F-E', '424B2', '8-A12B', 'S-3', '485B24E', '497',\n",
       "       '10-C', 'SC 13E4/A', 'PRE13E3/A', 'PRE13E3', 'PRER14C', 'N-2',\n",
       "       'N-30B-2', 'SC 14D9/A', 'PRES14A', 'NT 10-Q', 'DEFM14A', '10-12B',\n",
       "       'NSAR-A', 'S-1/A', 'S-1', '424B5', 'REGDEX', 'REVOKED', '425',\n",
       "       'PREM14A', 'RW', 'CORRESP', 'UPLOAD', 'PRER14A', '4', '40-17G',\n",
       "       'N-PX', 'N-Q', '10KSB', '10QSB/A', '10QSB', '40-F/A', '6-K',\n",
       "       '20-F', '3', '4/A', 'ARS', '10KSB/A', 'D', 'NTN 10Q', 'CT ORDER',\n",
       "       'EFFECT', 'PRE 14C', 'SC 14F1', '424B4', '25-NSE', 'DEF 14C',\n",
       "       '15-12G/A', '10-12G/A', '10-12G', '5/A', '5', '3/A', 'RW WD',\n",
       "       '15-12B', '25', 'CERTNAS', 'NO ACT', 'S-11/A', 'CERTPAC',\n",
       "       'SC 14F1/A', 'FWP', '8-K12G3', '13F-HR', '20-F/A', 'DEFR14A',\n",
       "       '485APOS', '485BPOS', '497J', 'D/A', 'F-1/A', 'F-1', 'N-6F',\n",
       "       'T-3/A', '24F-2NT', '497K', 'N-CSR', 'POSASR', '424B1', 'F-3/A',\n",
       "       'F-3', 'S-3ASR', 'DRS', '13F-NT', 'S-11', 'N-MFP', 'NSAR-U',\n",
       "       'SC TO-T', 'S-1MEF', '8-A12G', '1-A/A', '144', 'N-CSRS', 'F-10',\n",
       "       'F-X', 'S-4 POS', 'F-4/A', '1-A', 'DOS', 'QUALIF', 'SC TO-T/A',\n",
       "       'POS EX', 'DRS/A', 'DRSLTR', '40-17G/A', 'N-8A/A', '10-QT/A',\n",
       "       'NTN 11K', 'S-2', 'U-1/A', 'U-1', '10-K405/A', 'SB-2/A', 'DFAN14A',\n",
       "       'U5S', 'SB-2', 'DEF13E3', '24F-2TM', 'N-30D', '10-KT', '8-B12B',\n",
       "       'REGDEX/A', 'DEFA14C', '10-KT/A', 'SC TO-I', '10SB12G/A', '10-QT',\n",
       "       'AW', 'NT 10-Q/A', '10SB12G', 'CERTNYS', '8-A12B/A', '424A',\n",
       "       '10SB12B', 'NT 10-K/A', 'SUPPL', 'DEL AM', 'N-2/A', 'N-23C-2',\n",
       "       'SC TO-C', 'SC14D9C', 'NTN 10K', 'N-54A', '1-E', 'SB-1/A',\n",
       "       'CERTBSE', 'POS462C', 'SB-2MEF', '6-K/A', '40-APP', '35-CERT',\n",
       "       'SC 13E4', '10KSB40', '8A12BT', 'S-3DPOS', 'S-3D', 'NT 20-F',\n",
       "       '40-APP/A', '2-A', 'STOP ORDER', 'F-3ASR', 'F-4', 'NT N-MFP',\n",
       "       'N-54C', 'SE', '15F-12B/A', '15F-12B', '15F-12G', 'N-CSRS/A',\n",
       "       '13F-HR/A', '10KSB40/A', '24F-2NT/A', '40-F', '10KT405', '144/A',\n",
       "       'PREC14C', 'SC TO-I/A', 'N-23C-1', '40-8F-M', 'N-4/A', 'N-4',\n",
       "       'DEFS14C', 'PRES14C', 'S-4EF/A', 'S-4EF', 'DEFR14C', 'N-14/A',\n",
       "       'N-14', 'DEFN14A', 'PREN14A', 'F-10/A', 'F-X/A', '8A12BEF',\n",
       "       '10-C/A', 'N-1/A', 'DEFC14A', 'PREC14A', '40-6C', '2-AF', '305B2',\n",
       "       'CB', 'SP 15D2', 'SB-1', 'N-8A', '40-8F-2/A', '40-8F-2', 'S-3MEF',\n",
       "       'NT-NSAR', '10-D', 'N-23C3A', 'POS462B', '10SB12B/A', 'POS AMI',\n",
       "       'PRRN14A', 'PREA14C', '10-12B/A', 'NT 11-K', '20FR12G', '1-U',\n",
       "       'N-CEN', '1-A POS', '1-A-W', '497AD', 'N-CSR/A', 'N-8F', 'T-3',\n",
       "       'N-8F/A', 'N-PX/A', '13FCONP', 'CERTAMX', '1-E/A', '8-K12B', 'F-6',\n",
       "       '485BXT', 'S-B/A', '40-6C/A', '15F-12G/A', '1-SA', 'N-CEN/A',\n",
       "       '1-K', 'CERT', 'SEC STAFF LETTER', '253G2', 'SEC STAFF ACTION',\n",
       "       '1-Z', '486BPOS', 'N-23C3A/A', '20FR12G/A', '11-K/A', 'N-1A',\n",
       "       'N-18F1', 'N-1A/A', 'NSAR-A/A', 'NPORT-EX', 'F-N', 'SD', 'F-6/A',\n",
       "       'APP NTC', '15F-15D', 'U-3A-2', 'S-4MEF', 'N-23C-1/A', 'CB/A',\n",
       "       '40-8B25', '8-K15D5', 'DFRN14A', '8-K15D5/A', 'S-11MEF',\n",
       "       '8-K12G3/A', 'POS 8C', '18-K/A', 'U-57', 'NTN 20F', 'N-MFP1',\n",
       "       'NSAR-U/A', '10KT405/A', '8-B12G', '13F-E/A', '11-KT', '8-B12B/A',\n",
       "       'SC 13E1/A', 'N-4 EL', 'SB-1MEF', 'N-30D/A', 'N-4 EL/A', 'F-1MEF',\n",
       "       'N-8F NTC', 'N-8F ORDR', 'CERTBATS', 'SC 13E1', 'DOS/A', 'DOSLTR',\n",
       "       'UNDER', 'SC13E4F', '424B7', 'APP WD', 'AW WD', 'NTFNCSR',\n",
       "       'APP ORDR', 'N-Q/A', 'N-MFP/A', '2-E', '25-NSE/A'], dtype=object)"
      ]
     },
     "execution_count": 64,
     "metadata": {},
     "output_type": "execute_result"
    }
   ],
   "source": [
    "nulls['Filing_Type'].unique()"
   ]
  },
  {
   "cell_type": "code",
   "execution_count": 59,
   "metadata": {},
   "outputs": [
    {
     "data": {
      "text/plain": [
       "0"
      ]
     },
     "execution_count": 59,
     "metadata": {},
     "output_type": "execute_result"
    }
   ],
   "source": [
    "sum(nulls['URL_html'].isnull())"
   ]
  },
  {
   "cell_type": "code",
   "execution_count": 57,
   "metadata": {},
   "outputs": [
    {
     "data": {
      "text/html": [
       "<div>\n",
       "<style scoped>\n",
       "    .dataframe tbody tr th:only-of-type {\n",
       "        vertical-align: middle;\n",
       "    }\n",
       "\n",
       "    .dataframe tbody tr th {\n",
       "        vertical-align: top;\n",
       "    }\n",
       "\n",
       "    .dataframe thead th {\n",
       "        text-align: right;\n",
       "    }\n",
       "</style>\n",
       "<table border=\"1\" class=\"dataframe\">\n",
       "  <thead>\n",
       "    <tr style=\"text-align: right;\">\n",
       "      <th></th>\n",
       "      <th>CIK</th>\n",
       "      <th>Company_Name</th>\n",
       "      <th>Filing_Type</th>\n",
       "      <th>Filing_Date</th>\n",
       "      <th>URL_txt</th>\n",
       "      <th>URL_html</th>\n",
       "    </tr>\n",
       "  </thead>\n",
       "  <tbody>\n",
       "    <tr>\n",
       "      <th>522</th>\n",
       "      <td>105189</td>\n",
       "      <td>WEBB DEL CORP</td>\n",
       "      <td>10-Q</td>\n",
       "      <td>1995-02-06</td>\n",
       "      <td>edgar/data/105189/0000950147-95-000006.txt</td>\n",
       "      <td>edgar/data/105189/0000950147-95-000006-index.html</td>\n",
       "    </tr>\n",
       "    <tr>\n",
       "      <th>2195</th>\n",
       "      <td>20975</td>\n",
       "      <td>CLEVETRUST REALTY INVESTORS</td>\n",
       "      <td>10-Q</td>\n",
       "      <td>1995-02-10</td>\n",
       "      <td>edgar/data/20975/0000950152-95-000133.txt</td>\n",
       "      <td>edgar/data/20975/0000950152-95-000133-index.html</td>\n",
       "    </tr>\n",
       "    <tr>\n",
       "      <th>2359</th>\n",
       "      <td>216991</td>\n",
       "      <td>SAGE ENERGY CO</td>\n",
       "      <td>10-Q</td>\n",
       "      <td>1995-02-14</td>\n",
       "      <td>edgar/data/216991/0000950129-95-000071.txt</td>\n",
       "      <td>edgar/data/216991/0000950129-95-000071-index.html</td>\n",
       "    </tr>\n",
       "    <tr>\n",
       "      <th>3429</th>\n",
       "      <td>28755</td>\n",
       "      <td>DIBRELL BROTHERS INC</td>\n",
       "      <td>10-Q</td>\n",
       "      <td>1995-02-13</td>\n",
       "      <td>edgar/data/28755/0000028755-95-000005.txt</td>\n",
       "      <td>edgar/data/28755/0000028755-95-000005-index.html</td>\n",
       "    </tr>\n",
       "    <tr>\n",
       "      <th>3822</th>\n",
       "      <td>312259</td>\n",
       "      <td>WALNUT EQUIPMENT LEASING CO INC</td>\n",
       "      <td>10-Q</td>\n",
       "      <td>1995-03-16</td>\n",
       "      <td>edgar/data/312259/0000312259-95-000004.txt</td>\n",
       "      <td>edgar/data/312259/0000312259-95-000004-index.html</td>\n",
       "    </tr>\n",
       "    <tr>\n",
       "      <th>6088</th>\n",
       "      <td>350874</td>\n",
       "      <td>ALLERION INC</td>\n",
       "      <td>10-Q</td>\n",
       "      <td>1995-03-28</td>\n",
       "      <td>edgar/data/350874/0000950110-95-000186.txt</td>\n",
       "      <td>edgar/data/350874/0000950110-95-000186-index.html</td>\n",
       "    </tr>\n",
       "    <tr>\n",
       "      <th>8459</th>\n",
       "      <td>48948</td>\n",
       "      <td>HUDSON GENERAL CORP</td>\n",
       "      <td>10-Q</td>\n",
       "      <td>1995-02-09</td>\n",
       "      <td>edgar/data/48948/0000950123-95-000255.txt</td>\n",
       "      <td>edgar/data/48948/0000950123-95-000255-index.html</td>\n",
       "    </tr>\n",
       "    <tr>\n",
       "      <th>10264</th>\n",
       "      <td>67217</td>\n",
       "      <td>MHI GROUP INC</td>\n",
       "      <td>10-Q</td>\n",
       "      <td>1995-03-15</td>\n",
       "      <td>edgar/data/67217/0000950144-95-000635.txt</td>\n",
       "      <td>edgar/data/67217/0000950144-95-000635-index.html</td>\n",
       "    </tr>\n",
       "    <tr>\n",
       "      <th>10571</th>\n",
       "      <td>68361</td>\n",
       "      <td>MORTON INTERNATIONAL INC</td>\n",
       "      <td>10-Q</td>\n",
       "      <td>1995-02-10</td>\n",
       "      <td>edgar/data/68361/0000068361-95-000002.txt</td>\n",
       "      <td>edgar/data/68361/0000068361-95-000002-index.html</td>\n",
       "    </tr>\n",
       "    <tr>\n",
       "      <th>10789</th>\n",
       "      <td>701290</td>\n",
       "      <td>REXON INC</td>\n",
       "      <td>10-Q</td>\n",
       "      <td>1995-02-15</td>\n",
       "      <td>edgar/data/701290/0000950150-95-000083.txt</td>\n",
       "      <td>edgar/data/701290/0000950150-95-000083-index.html</td>\n",
       "    </tr>\n",
       "    <tr>\n",
       "      <th>10899</th>\n",
       "      <td>702173</td>\n",
       "      <td>PREFERRED PROPERTIES FUND 82</td>\n",
       "      <td>10-Q</td>\n",
       "      <td>1995-02-14</td>\n",
       "      <td>edgar/data/702173/0000889812-95-000026.txt</td>\n",
       "      <td>edgar/data/702173/0000889812-95-000026-index.html</td>\n",
       "    </tr>\n",
       "    <tr>\n",
       "      <th>10921</th>\n",
       "      <td>702756</td>\n",
       "      <td>SEEQ TECHNOLOGY INC</td>\n",
       "      <td>10-Q</td>\n",
       "      <td>1995-02-08</td>\n",
       "      <td>edgar/data/702756/0000910473-95-000002.txt</td>\n",
       "      <td>edgar/data/702756/0000910473-95-000002-index.html</td>\n",
       "    </tr>\n",
       "    <tr>\n",
       "      <th>11475</th>\n",
       "      <td>711074</td>\n",
       "      <td>MEDCHEM PRODUCTS INC /MA/</td>\n",
       "      <td>10-Q</td>\n",
       "      <td>1995-02-14</td>\n",
       "      <td>edgar/data/711074/0000950109-95-000352.txt</td>\n",
       "      <td>edgar/data/711074/0000950109-95-000352-index.html</td>\n",
       "    </tr>\n",
       "    <tr>\n",
       "      <th>11496</th>\n",
       "      <td>711205</td>\n",
       "      <td>KETTLE RESTAURANTS INC</td>\n",
       "      <td>10-Q</td>\n",
       "      <td>1995-03-13</td>\n",
       "      <td>edgar/data/711205/0000950129-95-000205.txt</td>\n",
       "      <td>edgar/data/711205/0000950129-95-000205-index.html</td>\n",
       "    </tr>\n",
       "    <tr>\n",
       "      <th>12592</th>\n",
       "      <td>724621</td>\n",
       "      <td>SEQUOIA SYSTEMS INC</td>\n",
       "      <td>10-Q</td>\n",
       "      <td>1995-02-14</td>\n",
       "      <td>edgar/data/724621/0000950109-95-000360.txt</td>\n",
       "      <td>edgar/data/724621/0000950109-95-000360-index.html</td>\n",
       "    </tr>\n",
       "    <tr>\n",
       "      <th>13308</th>\n",
       "      <td>731841</td>\n",
       "      <td>MEDICINE SHOPPE INTERNATIONAL INC</td>\n",
       "      <td>10-Q</td>\n",
       "      <td>1995-02-14</td>\n",
       "      <td>edgar/data/731841/0000950124-95-000180.txt</td>\n",
       "      <td>edgar/data/731841/0000950124-95-000180-index.html</td>\n",
       "    </tr>\n",
       "    <tr>\n",
       "      <th>13800</th>\n",
       "      <td>733775</td>\n",
       "      <td>CRUISE AMERICA INC</td>\n",
       "      <td>10-Q</td>\n",
       "      <td>1995-03-10</td>\n",
       "      <td>edgar/data/733775/0000950147-95-000020.txt</td>\n",
       "      <td>edgar/data/733775/0000950147-95-000020-index.html</td>\n",
       "    </tr>\n",
       "    <tr>\n",
       "      <th>14056</th>\n",
       "      <td>737573</td>\n",
       "      <td>INTERTRANS CORP</td>\n",
       "      <td>10-Q</td>\n",
       "      <td>1995-03-17</td>\n",
       "      <td>edgar/data/737573/0000950134-95-000380.txt</td>\n",
       "      <td>edgar/data/737573/0000950134-95-000380-index.html</td>\n",
       "    </tr>\n",
       "    <tr>\n",
       "      <th>15181</th>\n",
       "      <td>755659</td>\n",
       "      <td>SOFTWARE PUBLISHING CORP</td>\n",
       "      <td>10-Q</td>\n",
       "      <td>1995-02-14</td>\n",
       "      <td>edgar/data/755659/0000950005-95-000008.txt</td>\n",
       "      <td>edgar/data/755659/0000950005-95-000008-index.html</td>\n",
       "    </tr>\n",
       "    <tr>\n",
       "      <th>15296</th>\n",
       "      <td>758292</td>\n",
       "      <td>GOLDEN POULTRY CO INC</td>\n",
       "      <td>10-Q</td>\n",
       "      <td>1995-02-06</td>\n",
       "      <td>edgar/data/758292/0000758292-95-000001.txt</td>\n",
       "      <td>edgar/data/758292/0000758292-95-000001-index.html</td>\n",
       "    </tr>\n",
       "    <tr>\n",
       "      <th>15303</th>\n",
       "      <td>758452</td>\n",
       "      <td>RADIX VENTURES INC</td>\n",
       "      <td>10-Q</td>\n",
       "      <td>1995-03-13</td>\n",
       "      <td>edgar/data/758452/0000950131-95-000568.txt</td>\n",
       "      <td>edgar/data/758452/0000950131-95-000568-index.html</td>\n",
       "    </tr>\n",
       "    <tr>\n",
       "      <th>15931</th>\n",
       "      <td>766658</td>\n",
       "      <td>PAINEWEBBER EQUITY PARTNERS ONE LTD PARTNERSHIP</td>\n",
       "      <td>10-Q</td>\n",
       "      <td>1995-02-14</td>\n",
       "      <td>edgar/data/766658/0000766658-95-000001.txt</td>\n",
       "      <td>edgar/data/766658/0000766658-95-000001-index.html</td>\n",
       "    </tr>\n",
       "    <tr>\n",
       "      <th>16156</th>\n",
       "      <td>769847</td>\n",
       "      <td>PAINEWEBBER GROWTH PARTNERS THREE L P</td>\n",
       "      <td>10-Q</td>\n",
       "      <td>1995-02-14</td>\n",
       "      <td>edgar/data/769847/0000769847-95-000001.txt</td>\n",
       "      <td>edgar/data/769847/0000769847-95-000001-index.html</td>\n",
       "    </tr>\n",
       "    <tr>\n",
       "      <th>17231</th>\n",
       "      <td>78103</td>\n",
       "      <td>PECO ENERGY POWER CO</td>\n",
       "      <td>10-Q</td>\n",
       "      <td>1995-02-06</td>\n",
       "      <td>edgar/data/78103/0000078103-95-000002.txt</td>\n",
       "      <td>edgar/data/78103/0000078103-95-000002-index.html</td>\n",
       "    </tr>\n",
       "    <tr>\n",
       "      <th>18118</th>\n",
       "      <td>789869</td>\n",
       "      <td>COMMUNICATION CABLE INC</td>\n",
       "      <td>10-Q</td>\n",
       "      <td>1995-03-09</td>\n",
       "      <td>edgar/data/789869/0000950168-95-000156.txt</td>\n",
       "      <td>edgar/data/789869/0000950168-95-000156-index.html</td>\n",
       "    </tr>\n",
       "    <tr>\n",
       "      <th>18423</th>\n",
       "      <td>792888</td>\n",
       "      <td>PAINEWEBBER INCOME PROPERTIES EIGHT LTD PARTNE...</td>\n",
       "      <td>10-Q</td>\n",
       "      <td>1995-02-14</td>\n",
       "      <td>edgar/data/792888/0000792888-95-000001.txt</td>\n",
       "      <td>edgar/data/792888/0000792888-95-000001-index.html</td>\n",
       "    </tr>\n",
       "    <tr>\n",
       "      <th>18614</th>\n",
       "      <td>794566</td>\n",
       "      <td>EQUIPMENT LEASING CORPORATION OF AMERICA</td>\n",
       "      <td>10-Q</td>\n",
       "      <td>1995-03-16</td>\n",
       "      <td>edgar/data/794566/0000794566-95-000003.txt</td>\n",
       "      <td>edgar/data/794566/0000794566-95-000003-index.html</td>\n",
       "    </tr>\n",
       "    <tr>\n",
       "      <th>19175</th>\n",
       "      <td>799276</td>\n",
       "      <td>NORTH SIDE CAPITAL CORP</td>\n",
       "      <td>10-Q</td>\n",
       "      <td>1995-02-13</td>\n",
       "      <td>edgar/data/799276/0000950123-95-000284.txt</td>\n",
       "      <td>edgar/data/799276/0000950123-95-000284-index.html</td>\n",
       "    </tr>\n",
       "    <tr>\n",
       "      <th>19178</th>\n",
       "      <td>799290</td>\n",
       "      <td>NELLCOR INC /DE/</td>\n",
       "      <td>10-Q</td>\n",
       "      <td>1995-02-15</td>\n",
       "      <td>edgar/data/799290/0000912057-95-000790.txt</td>\n",
       "      <td>edgar/data/799290/0000912057-95-000790-index.html</td>\n",
       "    </tr>\n",
       "    <tr>\n",
       "      <th>19467</th>\n",
       "      <td>802555</td>\n",
       "      <td>SCOTT &amp; STRINGFELLOW FINANCIAL INC</td>\n",
       "      <td>10-Q</td>\n",
       "      <td>1995-02-14</td>\n",
       "      <td>edgar/data/802555/0000802555-95-000002.txt</td>\n",
       "      <td>edgar/data/802555/0000802555-95-000002-index.html</td>\n",
       "    </tr>\n",
       "    <tr>\n",
       "      <th>...</th>\n",
       "      <td>...</td>\n",
       "      <td>...</td>\n",
       "      <td>...</td>\n",
       "      <td>...</td>\n",
       "      <td>...</td>\n",
       "      <td>...</td>\n",
       "    </tr>\n",
       "    <tr>\n",
       "      <th>18305503</th>\n",
       "      <td>1486786</td>\n",
       "      <td>China Manufacturing Acquisition III Corp.</td>\n",
       "      <td>10-Q</td>\n",
       "      <td>2010-10-15</td>\n",
       "      <td>edgar/data/1486786/0001398432-10-000634.txt</td>\n",
       "      <td>edgar/data/1486786/0001398432-10-000634-index....</td>\n",
       "    </tr>\n",
       "    <tr>\n",
       "      <th>18307088</th>\n",
       "      <td>1490460</td>\n",
       "      <td>PRECISE STRATEGY ACQUISITION CORP. 1</td>\n",
       "      <td>10-Q</td>\n",
       "      <td>2010-11-16</td>\n",
       "      <td>edgar/data/1490460/0001062993-10-003752.txt</td>\n",
       "      <td>edgar/data/1490460/0001062993-10-003752-index....</td>\n",
       "    </tr>\n",
       "    <tr>\n",
       "      <th>18307249</th>\n",
       "      <td>1490895</td>\n",
       "      <td>Goodman Global Group, Inc.</td>\n",
       "      <td>10-Q</td>\n",
       "      <td>2010-11-05</td>\n",
       "      <td>edgar/data/1490895/0001193125-10-250282.txt</td>\n",
       "      <td>edgar/data/1490895/0001193125-10-250282-index....</td>\n",
       "    </tr>\n",
       "    <tr>\n",
       "      <th>18307620</th>\n",
       "      <td>1491496</td>\n",
       "      <td>China Dongfang Healthcare Group Inc.</td>\n",
       "      <td>10-Q</td>\n",
       "      <td>2010-11-15</td>\n",
       "      <td>edgar/data/1491496/0001144204-10-060483.txt</td>\n",
       "      <td>edgar/data/1491496/0001144204-10-060483-index....</td>\n",
       "    </tr>\n",
       "    <tr>\n",
       "      <th>18307681</th>\n",
       "      <td>1491594</td>\n",
       "      <td>Connors Bros. Holdings, L.P.</td>\n",
       "      <td>10-Q</td>\n",
       "      <td>2010-11-01</td>\n",
       "      <td>edgar/data/1491594/0000950123-10-098324.txt</td>\n",
       "      <td>edgar/data/1491594/0000950123-10-098324-index....</td>\n",
       "    </tr>\n",
       "    <tr>\n",
       "      <th>18309045</th>\n",
       "      <td>1494590</td>\n",
       "      <td>PGI ENERGY FUND I SERIES-2010,INC</td>\n",
       "      <td>10-Q</td>\n",
       "      <td>2010-11-22</td>\n",
       "      <td>edgar/data/1494590/0001193125-10-266472.txt</td>\n",
       "      <td>edgar/data/1494590/0001193125-10-266472-index....</td>\n",
       "    </tr>\n",
       "    <tr>\n",
       "      <th>18309235</th>\n",
       "      <td>1494919</td>\n",
       "      <td>Triple Dragon Acquisition Corp.</td>\n",
       "      <td>10-Q</td>\n",
       "      <td>2010-11-08</td>\n",
       "      <td>edgar/data/1494919/0001213900-10-004506.txt</td>\n",
       "      <td>edgar/data/1494919/0001213900-10-004506-index....</td>\n",
       "    </tr>\n",
       "    <tr>\n",
       "      <th>18309327</th>\n",
       "      <td>1495238</td>\n",
       "      <td>China Rising II, Inc.</td>\n",
       "      <td>10-Q</td>\n",
       "      <td>2010-11-15</td>\n",
       "      <td>edgar/data/1495238/0001292814-10-003477.txt</td>\n",
       "      <td>edgar/data/1495238/0001292814-10-003477-index....</td>\n",
       "    </tr>\n",
       "    <tr>\n",
       "      <th>18309331</th>\n",
       "      <td>1495239</td>\n",
       "      <td>China Rising I, Inc.</td>\n",
       "      <td>10-Q</td>\n",
       "      <td>2010-11-15</td>\n",
       "      <td>edgar/data/1495239/0001292814-10-003475.txt</td>\n",
       "      <td>edgar/data/1495239/0001292814-10-003475-index....</td>\n",
       "    </tr>\n",
       "    <tr>\n",
       "      <th>18310340</th>\n",
       "      <td>1497029</td>\n",
       "      <td>Europa Acquisition V, Inc.</td>\n",
       "      <td>10-Q</td>\n",
       "      <td>2010-11-04</td>\n",
       "      <td>edgar/data/1497029/0001213900-10-004459.txt</td>\n",
       "      <td>edgar/data/1497029/0001213900-10-004459-index....</td>\n",
       "    </tr>\n",
       "    <tr>\n",
       "      <th>18310342</th>\n",
       "      <td>1497030</td>\n",
       "      <td>Europa Acquisition IV, Inc.</td>\n",
       "      <td>10-Q</td>\n",
       "      <td>2010-11-04</td>\n",
       "      <td>edgar/data/1497030/0001213900-10-004457.txt</td>\n",
       "      <td>edgar/data/1497030/0001213900-10-004457-index....</td>\n",
       "    </tr>\n",
       "    <tr>\n",
       "      <th>18310344</th>\n",
       "      <td>1497032</td>\n",
       "      <td>Europa Acquisition II, Inc.</td>\n",
       "      <td>10-Q</td>\n",
       "      <td>2010-11-04</td>\n",
       "      <td>edgar/data/1497032/0001213900-10-004450.txt</td>\n",
       "      <td>edgar/data/1497032/0001213900-10-004450-index....</td>\n",
       "    </tr>\n",
       "    <tr>\n",
       "      <th>18310697</th>\n",
       "      <td>1497590</td>\n",
       "      <td>CATCH BY GENE, INC.</td>\n",
       "      <td>10-Q</td>\n",
       "      <td>2010-11-15</td>\n",
       "      <td>edgar/data/1497590/0001477932-10-000891.txt</td>\n",
       "      <td>edgar/data/1497590/0001477932-10-000891-index....</td>\n",
       "    </tr>\n",
       "    <tr>\n",
       "      <th>18359294</th>\n",
       "      <td>830821</td>\n",
       "      <td>Advanced Mineral Technologies, Inc</td>\n",
       "      <td>10-Q</td>\n",
       "      <td>2010-11-09</td>\n",
       "      <td>edgar/data/830821/0001387308-10-000142.txt</td>\n",
       "      <td>edgar/data/830821/0001387308-10-000142-index.html</td>\n",
       "    </tr>\n",
       "    <tr>\n",
       "      <th>18359295</th>\n",
       "      <td>830821</td>\n",
       "      <td>Advanced Mineral Technologies, Inc</td>\n",
       "      <td>10-Q</td>\n",
       "      <td>2010-12-30</td>\n",
       "      <td>edgar/data/830821/0001387308-10-000190.txt</td>\n",
       "      <td>edgar/data/830821/0001387308-10-000190-index.html</td>\n",
       "    </tr>\n",
       "    <tr>\n",
       "      <th>18364397</th>\n",
       "      <td>861058</td>\n",
       "      <td>Ingen Technologies, Inc.</td>\n",
       "      <td>10-Q</td>\n",
       "      <td>2010-10-05</td>\n",
       "      <td>edgar/data/861058/0001019687-10-003586.txt</td>\n",
       "      <td>edgar/data/861058/0001019687-10-003586-index.html</td>\n",
       "    </tr>\n",
       "    <tr>\n",
       "      <th>18449218</th>\n",
       "      <td>1101545</td>\n",
       "      <td>CHINA VENTURES LTD</td>\n",
       "      <td>10-Q</td>\n",
       "      <td>2006-01-13</td>\n",
       "      <td>edgar/data/1101545/0001116502-06-000105.txt</td>\n",
       "      <td>edgar/data/1101545/0001116502-06-000105-index....</td>\n",
       "    </tr>\n",
       "    <tr>\n",
       "      <th>18451216</th>\n",
       "      <td>1105413</td>\n",
       "      <td>Rudy 45</td>\n",
       "      <td>10-Q</td>\n",
       "      <td>2006-03-15</td>\n",
       "      <td>edgar/data/1105413/0001352461-06-000010.txt</td>\n",
       "      <td>edgar/data/1105413/0001352461-06-000010-index....</td>\n",
       "    </tr>\n",
       "    <tr>\n",
       "      <th>18468482</th>\n",
       "      <td>1141222</td>\n",
       "      <td>GAMMACAN INTERNATIONAL INC</td>\n",
       "      <td>10-Q</td>\n",
       "      <td>2006-02-02</td>\n",
       "      <td>edgar/data/1141222/0001144204-06-003772.txt</td>\n",
       "      <td>edgar/data/1141222/0001144204-06-003772-index....</td>\n",
       "    </tr>\n",
       "    <tr>\n",
       "      <th>18559691</th>\n",
       "      <td>1307715</td>\n",
       "      <td>AOB HOLDINGS, INC.</td>\n",
       "      <td>10-Q</td>\n",
       "      <td>2006-03-08</td>\n",
       "      <td>edgar/data/1307715/0001137050-06-000064.txt</td>\n",
       "      <td>edgar/data/1307715/0001137050-06-000064-index....</td>\n",
       "    </tr>\n",
       "    <tr>\n",
       "      <th>18650529</th>\n",
       "      <td>777582</td>\n",
       "      <td>VINEYARD OIL &amp; GAS CO</td>\n",
       "      <td>10-Q</td>\n",
       "      <td>2006-01-26</td>\n",
       "      <td>edgar/data/777582/0001070876-06-000028.txt</td>\n",
       "      <td>edgar/data/777582/0001070876-06-000028-index.html</td>\n",
       "    </tr>\n",
       "    <tr>\n",
       "      <th>18650530</th>\n",
       "      <td>777582</td>\n",
       "      <td>VINEYARD OIL &amp; GAS CO</td>\n",
       "      <td>10-Q</td>\n",
       "      <td>2006-01-26</td>\n",
       "      <td>edgar/data/777582/0001070876-06-000030.txt</td>\n",
       "      <td>edgar/data/777582/0001070876-06-000030-index.html</td>\n",
       "    </tr>\n",
       "    <tr>\n",
       "      <th>18683843</th>\n",
       "      <td>878788</td>\n",
       "      <td>YANG HOLDING CO</td>\n",
       "      <td>10-Q</td>\n",
       "      <td>2006-01-13</td>\n",
       "      <td>edgar/data/878788/0001116502-06-000106.txt</td>\n",
       "      <td>edgar/data/878788/0001116502-06-000106-index.html</td>\n",
       "    </tr>\n",
       "    <tr>\n",
       "      <th>18781320</th>\n",
       "      <td>1105413</td>\n",
       "      <td>Rudy 45</td>\n",
       "      <td>10-Q</td>\n",
       "      <td>2007-02-16</td>\n",
       "      <td>edgar/data/1105413/0001185185-07-000068.txt</td>\n",
       "      <td>edgar/data/1105413/0001185185-07-000068-index....</td>\n",
       "    </tr>\n",
       "    <tr>\n",
       "      <th>18781321</th>\n",
       "      <td>1105413</td>\n",
       "      <td>Rudy 45</td>\n",
       "      <td>10-Q</td>\n",
       "      <td>2007-02-20</td>\n",
       "      <td>edgar/data/1105413/0001185185-07-000074.txt</td>\n",
       "      <td>edgar/data/1105413/0001185185-07-000074-index....</td>\n",
       "    </tr>\n",
       "    <tr>\n",
       "      <th>18781322</th>\n",
       "      <td>1105413</td>\n",
       "      <td>Rudy 45</td>\n",
       "      <td>10-Q</td>\n",
       "      <td>2007-02-23</td>\n",
       "      <td>edgar/data/1105413/0001185185-07-000083.txt</td>\n",
       "      <td>edgar/data/1105413/0001185185-07-000083-index....</td>\n",
       "    </tr>\n",
       "    <tr>\n",
       "      <th>18880766</th>\n",
       "      <td>1308841</td>\n",
       "      <td>Global Music International, Inc.</td>\n",
       "      <td>10-Q</td>\n",
       "      <td>2007-02-05</td>\n",
       "      <td>edgar/data/1308841/0001108017-07-000071.txt</td>\n",
       "      <td>edgar/data/1308841/0001108017-07-000071-index....</td>\n",
       "    </tr>\n",
       "    <tr>\n",
       "      <th>18900552</th>\n",
       "      <td>1345059</td>\n",
       "      <td>Tank Sports, Inc.</td>\n",
       "      <td>10-Q</td>\n",
       "      <td>2007-01-16</td>\n",
       "      <td>edgar/data/1345059/0001171843-07-000006.txt</td>\n",
       "      <td>edgar/data/1345059/0001171843-07-000006-index....</td>\n",
       "    </tr>\n",
       "    <tr>\n",
       "      <th>18919107</th>\n",
       "      <td>1372668</td>\n",
       "      <td>Covalence Specialty Materials Corp.</td>\n",
       "      <td>10-Q</td>\n",
       "      <td>2007-03-12</td>\n",
       "      <td>edgar/data/1372668/0000930413-07-002227.txt</td>\n",
       "      <td>edgar/data/1372668/0000930413-07-002227-index....</td>\n",
       "    </tr>\n",
       "    <tr>\n",
       "      <th>18922643</th>\n",
       "      <td>1377201</td>\n",
       "      <td>Asia Link, Inc.</td>\n",
       "      <td>10-Q</td>\n",
       "      <td>2007-02-13</td>\n",
       "      <td>edgar/data/1377201/0001377201-07-000001.txt</td>\n",
       "      <td>edgar/data/1377201/0001377201-07-000001-index....</td>\n",
       "    </tr>\n",
       "  </tbody>\n",
       "</table>\n",
       "<p>13065 rows × 6 columns</p>\n",
       "</div>"
      ],
      "text/plain": [
       "              CIK                                       Company_Name  \\\n",
       "522        105189                                      WEBB DEL CORP   \n",
       "2195        20975                        CLEVETRUST REALTY INVESTORS   \n",
       "2359       216991                                     SAGE ENERGY CO   \n",
       "3429        28755                               DIBRELL BROTHERS INC   \n",
       "3822       312259                    WALNUT EQUIPMENT LEASING CO INC   \n",
       "6088       350874                                       ALLERION INC   \n",
       "8459        48948                                HUDSON GENERAL CORP   \n",
       "10264       67217                                      MHI GROUP INC   \n",
       "10571       68361                           MORTON INTERNATIONAL INC   \n",
       "10789      701290                                          REXON INC   \n",
       "10899      702173                       PREFERRED PROPERTIES FUND 82   \n",
       "10921      702756                                SEEQ TECHNOLOGY INC   \n",
       "11475      711074                          MEDCHEM PRODUCTS INC /MA/   \n",
       "11496      711205                             KETTLE RESTAURANTS INC   \n",
       "12592      724621                                SEQUOIA SYSTEMS INC   \n",
       "13308      731841                  MEDICINE SHOPPE INTERNATIONAL INC   \n",
       "13800      733775                                 CRUISE AMERICA INC   \n",
       "14056      737573                                    INTERTRANS CORP   \n",
       "15181      755659                           SOFTWARE PUBLISHING CORP   \n",
       "15296      758292                              GOLDEN POULTRY CO INC   \n",
       "15303      758452                                 RADIX VENTURES INC   \n",
       "15931      766658    PAINEWEBBER EQUITY PARTNERS ONE LTD PARTNERSHIP   \n",
       "16156      769847              PAINEWEBBER GROWTH PARTNERS THREE L P   \n",
       "17231       78103                               PECO ENERGY POWER CO   \n",
       "18118      789869                            COMMUNICATION CABLE INC   \n",
       "18423      792888  PAINEWEBBER INCOME PROPERTIES EIGHT LTD PARTNE...   \n",
       "18614      794566           EQUIPMENT LEASING CORPORATION OF AMERICA   \n",
       "19175      799276                            NORTH SIDE CAPITAL CORP   \n",
       "19178      799290                                   NELLCOR INC /DE/   \n",
       "19467      802555                 SCOTT & STRINGFELLOW FINANCIAL INC   \n",
       "...           ...                                                ...   \n",
       "18305503  1486786          China Manufacturing Acquisition III Corp.   \n",
       "18307088  1490460               PRECISE STRATEGY ACQUISITION CORP. 1   \n",
       "18307249  1490895                         Goodman Global Group, Inc.   \n",
       "18307620  1491496               China Dongfang Healthcare Group Inc.   \n",
       "18307681  1491594                       Connors Bros. Holdings, L.P.   \n",
       "18309045  1494590                  PGI ENERGY FUND I SERIES-2010,INC   \n",
       "18309235  1494919                    Triple Dragon Acquisition Corp.   \n",
       "18309327  1495238                              China Rising II, Inc.   \n",
       "18309331  1495239                               China Rising I, Inc.   \n",
       "18310340  1497029                         Europa Acquisition V, Inc.   \n",
       "18310342  1497030                        Europa Acquisition IV, Inc.   \n",
       "18310344  1497032                        Europa Acquisition II, Inc.   \n",
       "18310697  1497590                                CATCH BY GENE, INC.   \n",
       "18359294   830821                 Advanced Mineral Technologies, Inc   \n",
       "18359295   830821                 Advanced Mineral Technologies, Inc   \n",
       "18364397   861058                           Ingen Technologies, Inc.   \n",
       "18449218  1101545                                 CHINA VENTURES LTD   \n",
       "18451216  1105413                                            Rudy 45   \n",
       "18468482  1141222                         GAMMACAN INTERNATIONAL INC   \n",
       "18559691  1307715                                 AOB HOLDINGS, INC.   \n",
       "18650529   777582                              VINEYARD OIL & GAS CO   \n",
       "18650530   777582                              VINEYARD OIL & GAS CO   \n",
       "18683843   878788                                    YANG HOLDING CO   \n",
       "18781320  1105413                                            Rudy 45   \n",
       "18781321  1105413                                            Rudy 45   \n",
       "18781322  1105413                                            Rudy 45   \n",
       "18880766  1308841                   Global Music International, Inc.   \n",
       "18900552  1345059                                  Tank Sports, Inc.   \n",
       "18919107  1372668                Covalence Specialty Materials Corp.   \n",
       "18922643  1377201                                    Asia Link, Inc.   \n",
       "\n",
       "         Filing_Type Filing_Date                                      URL_txt  \\\n",
       "522             10-Q  1995-02-06   edgar/data/105189/0000950147-95-000006.txt   \n",
       "2195            10-Q  1995-02-10    edgar/data/20975/0000950152-95-000133.txt   \n",
       "2359            10-Q  1995-02-14   edgar/data/216991/0000950129-95-000071.txt   \n",
       "3429            10-Q  1995-02-13    edgar/data/28755/0000028755-95-000005.txt   \n",
       "3822            10-Q  1995-03-16   edgar/data/312259/0000312259-95-000004.txt   \n",
       "6088            10-Q  1995-03-28   edgar/data/350874/0000950110-95-000186.txt   \n",
       "8459            10-Q  1995-02-09    edgar/data/48948/0000950123-95-000255.txt   \n",
       "10264           10-Q  1995-03-15    edgar/data/67217/0000950144-95-000635.txt   \n",
       "10571           10-Q  1995-02-10    edgar/data/68361/0000068361-95-000002.txt   \n",
       "10789           10-Q  1995-02-15   edgar/data/701290/0000950150-95-000083.txt   \n",
       "10899           10-Q  1995-02-14   edgar/data/702173/0000889812-95-000026.txt   \n",
       "10921           10-Q  1995-02-08   edgar/data/702756/0000910473-95-000002.txt   \n",
       "11475           10-Q  1995-02-14   edgar/data/711074/0000950109-95-000352.txt   \n",
       "11496           10-Q  1995-03-13   edgar/data/711205/0000950129-95-000205.txt   \n",
       "12592           10-Q  1995-02-14   edgar/data/724621/0000950109-95-000360.txt   \n",
       "13308           10-Q  1995-02-14   edgar/data/731841/0000950124-95-000180.txt   \n",
       "13800           10-Q  1995-03-10   edgar/data/733775/0000950147-95-000020.txt   \n",
       "14056           10-Q  1995-03-17   edgar/data/737573/0000950134-95-000380.txt   \n",
       "15181           10-Q  1995-02-14   edgar/data/755659/0000950005-95-000008.txt   \n",
       "15296           10-Q  1995-02-06   edgar/data/758292/0000758292-95-000001.txt   \n",
       "15303           10-Q  1995-03-13   edgar/data/758452/0000950131-95-000568.txt   \n",
       "15931           10-Q  1995-02-14   edgar/data/766658/0000766658-95-000001.txt   \n",
       "16156           10-Q  1995-02-14   edgar/data/769847/0000769847-95-000001.txt   \n",
       "17231           10-Q  1995-02-06    edgar/data/78103/0000078103-95-000002.txt   \n",
       "18118           10-Q  1995-03-09   edgar/data/789869/0000950168-95-000156.txt   \n",
       "18423           10-Q  1995-02-14   edgar/data/792888/0000792888-95-000001.txt   \n",
       "18614           10-Q  1995-03-16   edgar/data/794566/0000794566-95-000003.txt   \n",
       "19175           10-Q  1995-02-13   edgar/data/799276/0000950123-95-000284.txt   \n",
       "19178           10-Q  1995-02-15   edgar/data/799290/0000912057-95-000790.txt   \n",
       "19467           10-Q  1995-02-14   edgar/data/802555/0000802555-95-000002.txt   \n",
       "...              ...         ...                                          ...   \n",
       "18305503        10-Q  2010-10-15  edgar/data/1486786/0001398432-10-000634.txt   \n",
       "18307088        10-Q  2010-11-16  edgar/data/1490460/0001062993-10-003752.txt   \n",
       "18307249        10-Q  2010-11-05  edgar/data/1490895/0001193125-10-250282.txt   \n",
       "18307620        10-Q  2010-11-15  edgar/data/1491496/0001144204-10-060483.txt   \n",
       "18307681        10-Q  2010-11-01  edgar/data/1491594/0000950123-10-098324.txt   \n",
       "18309045        10-Q  2010-11-22  edgar/data/1494590/0001193125-10-266472.txt   \n",
       "18309235        10-Q  2010-11-08  edgar/data/1494919/0001213900-10-004506.txt   \n",
       "18309327        10-Q  2010-11-15  edgar/data/1495238/0001292814-10-003477.txt   \n",
       "18309331        10-Q  2010-11-15  edgar/data/1495239/0001292814-10-003475.txt   \n",
       "18310340        10-Q  2010-11-04  edgar/data/1497029/0001213900-10-004459.txt   \n",
       "18310342        10-Q  2010-11-04  edgar/data/1497030/0001213900-10-004457.txt   \n",
       "18310344        10-Q  2010-11-04  edgar/data/1497032/0001213900-10-004450.txt   \n",
       "18310697        10-Q  2010-11-15  edgar/data/1497590/0001477932-10-000891.txt   \n",
       "18359294        10-Q  2010-11-09   edgar/data/830821/0001387308-10-000142.txt   \n",
       "18359295        10-Q  2010-12-30   edgar/data/830821/0001387308-10-000190.txt   \n",
       "18364397        10-Q  2010-10-05   edgar/data/861058/0001019687-10-003586.txt   \n",
       "18449218        10-Q  2006-01-13  edgar/data/1101545/0001116502-06-000105.txt   \n",
       "18451216        10-Q  2006-03-15  edgar/data/1105413/0001352461-06-000010.txt   \n",
       "18468482        10-Q  2006-02-02  edgar/data/1141222/0001144204-06-003772.txt   \n",
       "18559691        10-Q  2006-03-08  edgar/data/1307715/0001137050-06-000064.txt   \n",
       "18650529        10-Q  2006-01-26   edgar/data/777582/0001070876-06-000028.txt   \n",
       "18650530        10-Q  2006-01-26   edgar/data/777582/0001070876-06-000030.txt   \n",
       "18683843        10-Q  2006-01-13   edgar/data/878788/0001116502-06-000106.txt   \n",
       "18781320        10-Q  2007-02-16  edgar/data/1105413/0001185185-07-000068.txt   \n",
       "18781321        10-Q  2007-02-20  edgar/data/1105413/0001185185-07-000074.txt   \n",
       "18781322        10-Q  2007-02-23  edgar/data/1105413/0001185185-07-000083.txt   \n",
       "18880766        10-Q  2007-02-05  edgar/data/1308841/0001108017-07-000071.txt   \n",
       "18900552        10-Q  2007-01-16  edgar/data/1345059/0001171843-07-000006.txt   \n",
       "18919107        10-Q  2007-03-12  edgar/data/1372668/0000930413-07-002227.txt   \n",
       "18922643        10-Q  2007-02-13  edgar/data/1377201/0001377201-07-000001.txt   \n",
       "\n",
       "                                                   URL_html  \n",
       "522       edgar/data/105189/0000950147-95-000006-index.html  \n",
       "2195       edgar/data/20975/0000950152-95-000133-index.html  \n",
       "2359      edgar/data/216991/0000950129-95-000071-index.html  \n",
       "3429       edgar/data/28755/0000028755-95-000005-index.html  \n",
       "3822      edgar/data/312259/0000312259-95-000004-index.html  \n",
       "6088      edgar/data/350874/0000950110-95-000186-index.html  \n",
       "8459       edgar/data/48948/0000950123-95-000255-index.html  \n",
       "10264      edgar/data/67217/0000950144-95-000635-index.html  \n",
       "10571      edgar/data/68361/0000068361-95-000002-index.html  \n",
       "10789     edgar/data/701290/0000950150-95-000083-index.html  \n",
       "10899     edgar/data/702173/0000889812-95-000026-index.html  \n",
       "10921     edgar/data/702756/0000910473-95-000002-index.html  \n",
       "11475     edgar/data/711074/0000950109-95-000352-index.html  \n",
       "11496     edgar/data/711205/0000950129-95-000205-index.html  \n",
       "12592     edgar/data/724621/0000950109-95-000360-index.html  \n",
       "13308     edgar/data/731841/0000950124-95-000180-index.html  \n",
       "13800     edgar/data/733775/0000950147-95-000020-index.html  \n",
       "14056     edgar/data/737573/0000950134-95-000380-index.html  \n",
       "15181     edgar/data/755659/0000950005-95-000008-index.html  \n",
       "15296     edgar/data/758292/0000758292-95-000001-index.html  \n",
       "15303     edgar/data/758452/0000950131-95-000568-index.html  \n",
       "15931     edgar/data/766658/0000766658-95-000001-index.html  \n",
       "16156     edgar/data/769847/0000769847-95-000001-index.html  \n",
       "17231      edgar/data/78103/0000078103-95-000002-index.html  \n",
       "18118     edgar/data/789869/0000950168-95-000156-index.html  \n",
       "18423     edgar/data/792888/0000792888-95-000001-index.html  \n",
       "18614     edgar/data/794566/0000794566-95-000003-index.html  \n",
       "19175     edgar/data/799276/0000950123-95-000284-index.html  \n",
       "19178     edgar/data/799290/0000912057-95-000790-index.html  \n",
       "19467     edgar/data/802555/0000802555-95-000002-index.html  \n",
       "...                                                     ...  \n",
       "18305503  edgar/data/1486786/0001398432-10-000634-index....  \n",
       "18307088  edgar/data/1490460/0001062993-10-003752-index....  \n",
       "18307249  edgar/data/1490895/0001193125-10-250282-index....  \n",
       "18307620  edgar/data/1491496/0001144204-10-060483-index....  \n",
       "18307681  edgar/data/1491594/0000950123-10-098324-index....  \n",
       "18309045  edgar/data/1494590/0001193125-10-266472-index....  \n",
       "18309235  edgar/data/1494919/0001213900-10-004506-index....  \n",
       "18309327  edgar/data/1495238/0001292814-10-003477-index....  \n",
       "18309331  edgar/data/1495239/0001292814-10-003475-index....  \n",
       "18310340  edgar/data/1497029/0001213900-10-004459-index....  \n",
       "18310342  edgar/data/1497030/0001213900-10-004457-index....  \n",
       "18310344  edgar/data/1497032/0001213900-10-004450-index....  \n",
       "18310697  edgar/data/1497590/0001477932-10-000891-index....  \n",
       "18359294  edgar/data/830821/0001387308-10-000142-index.html  \n",
       "18359295  edgar/data/830821/0001387308-10-000190-index.html  \n",
       "18364397  edgar/data/861058/0001019687-10-003586-index.html  \n",
       "18449218  edgar/data/1101545/0001116502-06-000105-index....  \n",
       "18451216  edgar/data/1105413/0001352461-06-000010-index....  \n",
       "18468482  edgar/data/1141222/0001144204-06-003772-index....  \n",
       "18559691  edgar/data/1307715/0001137050-06-000064-index....  \n",
       "18650529  edgar/data/777582/0001070876-06-000028-index.html  \n",
       "18650530  edgar/data/777582/0001070876-06-000030-index.html  \n",
       "18683843  edgar/data/878788/0001116502-06-000106-index.html  \n",
       "18781320  edgar/data/1105413/0001185185-07-000068-index....  \n",
       "18781321  edgar/data/1105413/0001185185-07-000074-index....  \n",
       "18781322  edgar/data/1105413/0001185185-07-000083-index....  \n",
       "18880766  edgar/data/1308841/0001108017-07-000071-index....  \n",
       "18900552  edgar/data/1345059/0001171843-07-000006-index....  \n",
       "18919107  edgar/data/1372668/0000930413-07-002227-index....  \n",
       "18922643  edgar/data/1377201/0001377201-07-000001-index....  \n",
       "\n",
       "[13065 rows x 6 columns]"
      ]
     },
     "execution_count": 57,
     "metadata": {},
     "output_type": "execute_result"
    }
   ],
   "source": [
    "nulls[nulls['Filing_Type'] == '10-Q']"
   ]
  },
  {
   "cell_type": "code",
   "execution_count": 37,
   "metadata": {},
   "outputs": [],
   "source": [
    "final4 = pd.DataFrame(cik_sic_list_more2)"
   ]
  },
  {
   "cell_type": "code",
   "execution_count": 38,
   "metadata": {},
   "outputs": [
    {
     "data": {
      "text/html": [
       "<div>\n",
       "<style scoped>\n",
       "    .dataframe tbody tr th:only-of-type {\n",
       "        vertical-align: middle;\n",
       "    }\n",
       "\n",
       "    .dataframe tbody tr th {\n",
       "        vertical-align: top;\n",
       "    }\n",
       "\n",
       "    .dataframe thead th {\n",
       "        text-align: right;\n",
       "    }\n",
       "</style>\n",
       "<table border=\"1\" class=\"dataframe\">\n",
       "  <thead>\n",
       "    <tr style=\"text-align: right;\">\n",
       "      <th></th>\n",
       "      <th>2435</th>\n",
       "      <th>3228</th>\n",
       "      <th>4438</th>\n",
       "      <th>5177</th>\n",
       "      <th>5696</th>\n",
       "      <th>7119</th>\n",
       "      <th>13839</th>\n",
       "      <th>18620</th>\n",
       "      <th>20975</th>\n",
       "      <th>22366</th>\n",
       "      <th>...</th>\n",
       "      <th>1628739</th>\n",
       "      <th>1632276</th>\n",
       "      <th>1632363</th>\n",
       "      <th>1634052</th>\n",
       "      <th>1634422</th>\n",
       "      <th>1634443</th>\n",
       "      <th>1635607</th>\n",
       "      <th>1639143</th>\n",
       "      <th>1641521</th>\n",
       "      <th>1645316</th>\n",
       "    </tr>\n",
       "  </thead>\n",
       "  <tbody>\n",
       "    <tr>\n",
       "      <th>0</th>\n",
       "      <td>None</td>\n",
       "      <td>None</td>\n",
       "      <td>None</td>\n",
       "      <td>None</td>\n",
       "      <td>None</td>\n",
       "      <td>None</td>\n",
       "      <td>None</td>\n",
       "      <td>None</td>\n",
       "      <td>None</td>\n",
       "      <td>None</td>\n",
       "      <td>...</td>\n",
       "      <td>None</td>\n",
       "      <td>None</td>\n",
       "      <td>None</td>\n",
       "      <td>None</td>\n",
       "      <td>None</td>\n",
       "      <td>None</td>\n",
       "      <td>None</td>\n",
       "      <td>None</td>\n",
       "      <td>None</td>\n",
       "      <td>None</td>\n",
       "    </tr>\n",
       "  </tbody>\n",
       "</table>\n",
       "<p>1 rows × 1000 columns</p>\n",
       "</div>"
      ],
      "text/plain": [
       "  2435    3228    4438    5177    5696    7119    13839   18620   20975    \\\n",
       "0    None    None    None    None    None    None    None    None    None   \n",
       "\n",
       "  22366    ... 1628739 1632276 1632363 1634052 1634422 1634443 1635607  \\\n",
       "0    None  ...    None    None    None    None    None    None    None   \n",
       "\n",
       "  1639143 1641521 1645316  \n",
       "0    None    None    None  \n",
       "\n",
       "[1 rows x 1000 columns]"
      ]
     },
     "execution_count": 38,
     "metadata": {},
     "output_type": "execute_result"
    }
   ],
   "source": [
    "final4.head()"
   ]
  },
  {
   "cell_type": "code",
   "execution_count": 51,
   "metadata": {},
   "outputs": [
    {
     "data": {
      "text/html": [
       "<div>\n",
       "<style scoped>\n",
       "    .dataframe tbody tr th:only-of-type {\n",
       "        vertical-align: middle;\n",
       "    }\n",
       "\n",
       "    .dataframe tbody tr th {\n",
       "        vertical-align: top;\n",
       "    }\n",
       "\n",
       "    .dataframe thead th {\n",
       "        text-align: right;\n",
       "    }\n",
       "</style>\n",
       "<table border=\"1\" class=\"dataframe\">\n",
       "  <thead>\n",
       "    <tr style=\"text-align: right;\">\n",
       "      <th></th>\n",
       "      <th>CIK</th>\n",
       "      <th>Company_Name</th>\n",
       "      <th>Filing_Type</th>\n",
       "      <th>Filing_Date</th>\n",
       "      <th>URL_txt</th>\n",
       "      <th>URL_html</th>\n",
       "    </tr>\n",
       "  </thead>\n",
       "  <tbody>\n",
       "    <tr>\n",
       "      <th>0</th>\n",
       "      <td>100030</td>\n",
       "      <td>TRW INC</td>\n",
       "      <td>DEF 14A</td>\n",
       "      <td>1995-03-14</td>\n",
       "      <td>edgar/data/100030/0000950132-95-000059.txt</td>\n",
       "      <td>edgar/data/100030/0000950132-95-000059-index.html</td>\n",
       "    </tr>\n",
       "    <tr>\n",
       "      <th>1</th>\n",
       "      <td>100030</td>\n",
       "      <td>TRW INC</td>\n",
       "      <td>S-8</td>\n",
       "      <td>1995-03-27</td>\n",
       "      <td>edgar/data/100030/0000950152-95-000436.txt</td>\n",
       "      <td>edgar/data/100030/0000950152-95-000436-index.html</td>\n",
       "    </tr>\n",
       "    <tr>\n",
       "      <th>2</th>\n",
       "      <td>100030</td>\n",
       "      <td>TRW INC</td>\n",
       "      <td>S-8</td>\n",
       "      <td>1995-03-27</td>\n",
       "      <td>edgar/data/100030/0000950152-95-000439.txt</td>\n",
       "      <td>edgar/data/100030/0000950152-95-000439-index.html</td>\n",
       "    </tr>\n",
       "    <tr>\n",
       "      <th>3</th>\n",
       "      <td>100030</td>\n",
       "      <td>TRW INC</td>\n",
       "      <td>SC 13G/A</td>\n",
       "      <td>1995-02-02</td>\n",
       "      <td>edgar/data/100030/0000950152-95-000083.txt</td>\n",
       "      <td>edgar/data/100030/0000950152-95-000083-index.html</td>\n",
       "    </tr>\n",
       "    <tr>\n",
       "      <th>4</th>\n",
       "      <td>100030</td>\n",
       "      <td>TRW INC</td>\n",
       "      <td>SC 13G</td>\n",
       "      <td>1995-02-10</td>\n",
       "      <td>edgar/data/100030/0000315066-95-002097.txt</td>\n",
       "      <td>edgar/data/100030/0000315066-95-002097-index.html</td>\n",
       "    </tr>\n",
       "  </tbody>\n",
       "</table>\n",
       "</div>"
      ],
      "text/plain": [
       "      CIK Company_Name Filing_Type Filing_Date  \\\n",
       "0  100030      TRW INC     DEF 14A  1995-03-14   \n",
       "1  100030      TRW INC         S-8  1995-03-27   \n",
       "2  100030      TRW INC         S-8  1995-03-27   \n",
       "3  100030      TRW INC    SC 13G/A  1995-02-02   \n",
       "4  100030      TRW INC      SC 13G  1995-02-10   \n",
       "\n",
       "                                      URL_txt  \\\n",
       "0  edgar/data/100030/0000950132-95-000059.txt   \n",
       "1  edgar/data/100030/0000950152-95-000436.txt   \n",
       "2  edgar/data/100030/0000950152-95-000439.txt   \n",
       "3  edgar/data/100030/0000950152-95-000083.txt   \n",
       "4  edgar/data/100030/0000315066-95-002097.txt   \n",
       "\n",
       "                                            URL_html  \n",
       "0  edgar/data/100030/0000950132-95-000059-index.html  \n",
       "1  edgar/data/100030/0000950152-95-000436-index.html  \n",
       "2  edgar/data/100030/0000950152-95-000439-index.html  \n",
       "3  edgar/data/100030/0000950152-95-000083-index.html  \n",
       "4  edgar/data/100030/0000315066-95-002097-index.html  "
      ]
     },
     "execution_count": 51,
     "metadata": {},
     "output_type": "execute_result"
    }
   ],
   "source": [
    "master_df.head()"
   ]
  },
  {
   "cell_type": "code",
   "execution_count": null,
   "metadata": {},
   "outputs": [],
   "source": []
  },
  {
   "cell_type": "code",
   "execution_count": 23,
   "metadata": {},
   "outputs": [],
   "source": [
    "final4.to_csv('cik_sic_list_more2.csv', index=False)"
   ]
  },
  {
   "cell_type": "code",
   "execution_count": 29,
   "metadata": {},
   "outputs": [
    {
     "data": {
      "text/plain": [
       "'edgar/data/1369017/0001136999-07-000585-index.html'"
      ]
     },
     "execution_count": 29,
     "metadata": {},
     "output_type": "execute_result"
    }
   ],
   "source": [
    "df10['URL_html_x'].iloc[0]"
   ]
  },
  {
   "cell_type": "code",
   "execution_count": null,
   "metadata": {},
   "outputs": [],
   "source": []
  },
  {
   "cell_type": "code",
   "execution_count": null,
   "metadata": {},
   "outputs": [],
   "source": [
    "#Old Code - Not needed - use for testing purposes"
   ]
  },
  {
   "cell_type": "code",
   "execution_count": null,
   "metadata": {},
   "outputs": [],
   "source": [
    "new_master = master_df.merge(df_un, how='left', on='CIK')"
   ]
  },
  {
   "cell_type": "code",
   "execution_count": null,
   "metadata": {},
   "outputs": [],
   "source": [
    "new_master.fillna(method='ffil')"
   ]
  },
  {
   "cell_type": "code",
   "execution_count": 94,
   "metadata": {},
   "outputs": [],
   "source": [
    "download = requests.get('https://www.sec.gov/Archives/edgar/data/1002638/0001002638-19-000014-index.html')\n",
    "soup1 = BeautifulSoup(download.content, 'html')"
   ]
  },
  {
   "cell_type": "code",
   "execution_count": 99,
   "metadata": {},
   "outputs": [
    {
     "data": {
      "text/plain": [
       "[<b><a href=\"/cgi-bin/browse-edgar?action=getcompany&amp;SIC=6153&amp;owner=include\">6153</a></b>]"
      ]
     },
     "execution_count": 99,
     "metadata": {},
     "output_type": "execute_result"
    }
   ],
   "source": [
    "soup1.find_all('b')"
   ]
  },
  {
   "cell_type": "code",
   "execution_count": 101,
   "metadata": {},
   "outputs": [],
   "source": [
    "download = requests.get('https://www.sec.gov/Archives/edgar/data/1000097/0001000097-19-000004-index.html')\n",
    "soup = BeautifulSoup(download.content, 'html')"
   ]
  },
  {
   "cell_type": "code",
   "execution_count": 103,
   "metadata": {},
   "outputs": [
    {
     "data": {
      "text/plain": [
       "[]"
      ]
     },
     "execution_count": 103,
     "metadata": {},
     "output_type": "execute_result"
    }
   ],
   "source": [
    "soup.find_all('b')"
   ]
  },
  {
   "cell_type": "code",
   "execution_count": 85,
   "metadata": {},
   "outputs": [
    {
     "data": {
      "text/plain": [
       "[<b>[Amend]</b>,\n",
       " <b><a href=\"/cgi-bin/browse-edgar?action=getcompany&amp;SIC=6153&amp;owner=include\">6153</a></b>]"
      ]
     },
     "execution_count": 85,
     "metadata": {},
     "output_type": "execute_result"
    }
   ],
   "source": [
    "soup.find_all('b')"
   ]
  },
  {
   "cell_type": "code",
   "execution_count": 87,
   "metadata": {},
   "outputs": [],
   "source": [
    "soup = BeautifulSoup('<b><a href=\"/cgi-bin/browse-edgar?action=getcompany&amp;SIC=6153&amp;owner=include\">6153</a></b>', 'html')"
   ]
  },
  {
   "cell_type": "code",
   "execution_count": 89,
   "metadata": {},
   "outputs": [
    {
     "data": {
      "text/plain": [
       "<b><a href=\"/cgi-bin/browse-edgar?action=getcompany&amp;SIC=6153&amp;owner=include\">6153</a></b>"
      ]
     },
     "execution_count": 89,
     "metadata": {},
     "output_type": "execute_result"
    }
   ],
   "source": [
    "soup.b"
   ]
  },
  {
   "cell_type": "code",
   "execution_count": null,
   "metadata": {},
   "outputs": [],
   "source": []
  }
 ],
 "metadata": {
  "kernelspec": {
   "display_name": "py36",
   "language": "python",
   "name": "py36"
  },
  "language_info": {
   "codemirror_mode": {
    "name": "ipython",
    "version": 3
   },
   "file_extension": ".py",
   "mimetype": "text/x-python",
   "name": "python",
   "nbconvert_exporter": "python",
   "pygments_lexer": "ipython3",
   "version": "3.6.7"
  }
 },
 "nbformat": 4,
 "nbformat_minor": 2
}
