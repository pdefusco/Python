{
 "cells": [
  {
   "cell_type": "markdown",
   "metadata": {},
   "source": [
    "### Create Financial Statements with Edgar Index Files\n",
    "\n",
    "###### Objective: download data using the edgar library and visualize financial statements for any selected company\n"
   ]
  },
  {
   "cell_type": "code",
   "execution_count": 1,
   "metadata": {},
   "outputs": [],
   "source": [
    "import pandas as pd\n",
    "import edgar\n",
    "import psycopg2\n",
    "import os\n",
    "import glob\n",
    "import numpy as np\n",
    "from bs4 import BeautifulSoup\n",
    "import requests\n",
    "import re"
   ]
  },
  {
   "cell_type": "code",
   "execution_count": 174,
   "metadata": {},
   "outputs": [],
   "source": [
    "#Only run if this cell if you have already run the whole script once and the table exists:\n",
    "conn = psycopg2.connect(\"host=localhost dbname=postgres user=postgres password=Paolino1\")\n",
    "cur = conn.cursor()\n",
    "cur.execute(\"\"\"DROP TABLE SIC\"\"\")\n",
    "cur.close()\n",
    "conn.close()"
   ]
  },
  {
   "cell_type": "code",
   "execution_count": 175,
   "metadata": {},
   "outputs": [],
   "source": [
    "!rm -R data_sic"
   ]
  },
  {
   "cell_type": "code",
   "execution_count": 176,
   "metadata": {},
   "outputs": [],
   "source": [
    "!mkdir data_sic"
   ]
  },
  {
   "cell_type": "code",
   "execution_count": 177,
   "metadata": {},
   "outputs": [],
   "source": [
    "#Downloading all files:\n",
    "edgar.download_index('data_sic', 1993)"
   ]
  },
  {
   "cell_type": "code",
   "execution_count": 178,
   "metadata": {},
   "outputs": [
    {
     "name": "stdout",
     "output_type": "stream",
     "text": [
      "1993-QTR1.tsv 1998-QTR3.tsv 2004-QTR1.tsv 2009-QTR3.tsv 2015-QTR1.tsv\r\n",
      "1993-QTR2.tsv 1998-QTR4.tsv 2004-QTR2.tsv 2009-QTR4.tsv 2015-QTR2.tsv\r\n",
      "1993-QTR3.tsv 1999-QTR1.tsv 2004-QTR3.tsv 2010-QTR1.tsv 2015-QTR3.tsv\r\n",
      "1993-QTR4.tsv 1999-QTR2.tsv 2004-QTR4.tsv 2010-QTR2.tsv 2015-QTR4.tsv\r\n",
      "1994-QTR1.tsv 1999-QTR3.tsv 2005-QTR1.tsv 2010-QTR3.tsv 2016-QTR1.tsv\r\n",
      "1994-QTR2.tsv 1999-QTR4.tsv 2005-QTR2.tsv 2010-QTR4.tsv 2016-QTR2.tsv\r\n",
      "1994-QTR3.tsv 2000-QTR1.tsv 2005-QTR3.tsv 2011-QTR1.tsv 2016-QTR3.tsv\r\n",
      "1994-QTR4.tsv 2000-QTR2.tsv 2005-QTR4.tsv 2011-QTR2.tsv 2016-QTR4.tsv\r\n",
      "1995-QTR1.tsv 2000-QTR3.tsv 2006-QTR1.tsv 2011-QTR3.tsv 2017-QTR1.tsv\r\n",
      "1995-QTR2.tsv 2000-QTR4.tsv 2006-QTR2.tsv 2011-QTR4.tsv 2017-QTR2.tsv\r\n",
      "1995-QTR3.tsv 2001-QTR1.tsv 2006-QTR3.tsv 2012-QTR1.tsv 2017-QTR3.tsv\r\n",
      "1995-QTR4.tsv 2001-QTR2.tsv 2006-QTR4.tsv 2012-QTR2.tsv 2017-QTR4.tsv\r\n",
      "1996-QTR1.tsv 2001-QTR3.tsv 2007-QTR1.tsv 2012-QTR3.tsv 2018-QTR1.tsv\r\n",
      "1996-QTR2.tsv 2001-QTR4.tsv 2007-QTR2.tsv 2012-QTR4.tsv 2018-QTR2.tsv\r\n",
      "1996-QTR3.tsv 2002-QTR1.tsv 2007-QTR3.tsv 2013-QTR1.tsv 2018-QTR3.tsv\r\n",
      "1996-QTR4.tsv 2002-QTR2.tsv 2007-QTR4.tsv 2013-QTR2.tsv 2018-QTR4.tsv\r\n",
      "1997-QTR1.tsv 2002-QTR3.tsv 2008-QTR1.tsv 2013-QTR3.tsv 2019-QTR1.tsv\r\n",
      "1997-QTR2.tsv 2002-QTR4.tsv 2008-QTR2.tsv 2013-QTR4.tsv 2019-QTR2.tsv\r\n",
      "1997-QTR3.tsv 2003-QTR1.tsv 2008-QTR3.tsv 2014-QTR1.tsv 2019-QTR3.tsv\r\n",
      "1997-QTR4.tsv 2003-QTR2.tsv 2008-QTR4.tsv 2014-QTR2.tsv\r\n",
      "1998-QTR1.tsv 2003-QTR3.tsv 2009-QTR1.tsv 2014-QTR3.tsv\r\n",
      "1998-QTR2.tsv 2003-QTR4.tsv 2009-QTR2.tsv 2014-QTR4.tsv\r\n"
     ]
    }
   ],
   "source": [
    "!ls data_sic"
   ]
  },
  {
   "cell_type": "code",
   "execution_count": 179,
   "metadata": {},
   "outputs": [
    {
     "name": "stdout",
     "output_type": "stream",
     "text": [
      "(191792, 6)\n",
      "   1000045  NICHOLAS FINANCIAL INC 10-Q  2019-08-14  \\\n",
      "0  1000045  NICHOLAS FINANCIAL INC    4  2019-08-14   \n",
      "1  1000045  NICHOLAS FINANCIAL INC    4  2019-08-15   \n",
      "2  1000045  NICHOLAS FINANCIAL INC    4  2019-08-20   \n",
      "3  1000045  NICHOLAS FINANCIAL INC    4  2019-08-21   \n",
      "4  1000045  NICHOLAS FINANCIAL INC    4  2019-08-27   \n",
      "\n",
      "   edgar/data/1000045/0001564590-19-031992.txt  \\\n",
      "0  edgar/data/1000045/0001357521-19-000014.txt   \n",
      "1  edgar/data/1000045/0001398344-19-014522.txt   \n",
      "2  edgar/data/1000045/0001398344-19-014703.txt   \n",
      "3  edgar/data/1000045/0001000045-19-000004.txt   \n",
      "4  edgar/data/1000045/0001398344-19-015344.txt   \n",
      "\n",
      "  edgar/data/1000045/0001564590-19-031992-index.html  \n",
      "0  edgar/data/1000045/0001357521-19-000014-index....  \n",
      "1  edgar/data/1000045/0001398344-19-014522-index....  \n",
      "2  edgar/data/1000045/0001398344-19-014703-index....  \n",
      "3  edgar/data/1000045/0001000045-19-000004-index....  \n",
      "4  edgar/data/1000045/0001398344-19-015344-index....  \n"
     ]
    }
   ],
   "source": [
    "#Exploring a random file:\n",
    "\n",
    "df = pd.read_csv('data_sic/2019-QTR3.tsv', sep='|', header=0)\n",
    "print(df.shape)\n",
    "print(df.head())\n",
    "del df"
   ]
  },
  {
   "cell_type": "code",
   "execution_count": 180,
   "metadata": {},
   "outputs": [
    {
     "name": "stdout",
     "output_type": "stream",
     "text": [
      "Converting file: 2007-QTR1.tsv\n",
      "Created file: 2007-QTR1.csv\n",
      "Converting file: 2006-QTR1.tsv\n",
      "Created file: 2006-QTR1.csv\n",
      "Converting file: 2007-QTR3.tsv\n",
      "Created file: 2007-QTR3.csv\n",
      "Converting file: 2006-QTR3.tsv\n",
      "Created file: 2006-QTR3.csv\n",
      "Converting file: 2006-QTR2.tsv\n",
      "Created file: 2006-QTR2.csv\n",
      "Converting file: 2007-QTR2.tsv\n",
      "Created file: 2007-QTR2.csv\n",
      "Converting file: 2010-QTR4.tsv\n",
      "Created file: 2010-QTR4.csv\n",
      "Converting file: 2011-QTR4.tsv\n",
      "Created file: 2011-QTR4.csv\n",
      "Converting file: 2010-QTR1.tsv\n",
      "Created file: 2010-QTR1.csv\n",
      "Converting file: 2011-QTR1.tsv\n",
      "Created file: 2011-QTR1.csv\n",
      "Converting file: 2010-QTR3.tsv\n",
      "Created file: 2010-QTR3.csv\n",
      "Converting file: 2011-QTR3.tsv\n",
      "Created file: 2011-QTR3.csv\n",
      "Converting file: 2007-QTR4.tsv\n",
      "Created file: 2007-QTR4.csv\n",
      "Converting file: 2006-QTR4.tsv\n",
      "Created file: 2006-QTR4.csv\n",
      "Converting file: 2011-QTR2.tsv\n",
      "Created file: 2011-QTR2.csv\n",
      "Converting file: 2010-QTR2.tsv\n",
      "Created file: 2010-QTR2.csv\n",
      "Converting file: 1997-QTR1.tsv\n",
      "Created file: 1997-QTR1.csv\n",
      "Converting file: 1996-QTR1.tsv\n",
      "Created file: 1996-QTR1.csv\n",
      "Converting file: 2017-QTR1.tsv\n",
      "Created file: 2017-QTR1.csv\n",
      "Converting file: 2016-QTR1.tsv\n",
      "Created file: 2016-QTR1.csv\n",
      "Converting file: 1996-QTR2.tsv\n",
      "Created file: 1996-QTR2.csv\n",
      "Converting file: 1997-QTR2.tsv\n",
      "Created file: 1997-QTR2.csv\n",
      "Converting file: 2017-QTR3.tsv\n",
      "Created file: 2017-QTR3.csv\n",
      "Converting file: 2016-QTR3.tsv\n",
      "Created file: 2016-QTR3.csv\n",
      "Converting file: 2000-QTR4.tsv\n",
      "Created file: 2000-QTR4.csv\n",
      "Converting file: 2001-QTR4.tsv\n",
      "Created file: 2001-QTR4.csv\n",
      "Converting file: 2016-QTR2.tsv\n",
      "Created file: 2016-QTR2.csv\n",
      "Converting file: 2017-QTR2.tsv\n",
      "Created file: 2017-QTR2.csv\n",
      "Converting file: 1997-QTR3.tsv\n",
      "Created file: 1997-QTR3.csv\n",
      "Converting file: 1996-QTR3.tsv\n",
      "Created file: 1996-QTR3.csv\n",
      "Converting file: 2000-QTR1.tsv\n",
      "Created file: 2000-QTR1.csv\n",
      "Converting file: 2001-QTR1.tsv\n",
      "Created file: 2001-QTR1.csv\n",
      "Converting file: 1997-QTR4.tsv\n",
      "Created file: 1997-QTR4.csv\n",
      "Converting file: 1996-QTR4.tsv\n",
      "Created file: 1996-QTR4.csv\n",
      "Converting file: 2000-QTR3.tsv\n",
      "Created file: 2000-QTR3.csv\n",
      "Converting file: 2001-QTR3.tsv\n",
      "Created file: 2001-QTR3.csv\n",
      "Converting file: 2001-QTR2.tsv\n",
      "Created file: 2001-QTR2.csv\n",
      "Converting file: 2000-QTR2.tsv\n",
      "Created file: 2000-QTR2.csv\n",
      "Converting file: 2017-QTR4.tsv\n",
      "Created file: 2017-QTR4.csv\n",
      "Converting file: 2016-QTR4.tsv\n",
      "Created file: 2016-QTR4.csv\n",
      "Converting file: 2013-QTR3.tsv\n",
      "Created file: 2013-QTR3.csv\n",
      "Converting file: 2012-QTR3.tsv\n",
      "Created file: 2012-QTR3.csv\n",
      "Converting file: 1993-QTR2.tsv\n",
      "Created file: 1993-QTR2.csv\n",
      "Converting file: 1999-QTR1.tsv\n",
      "Created file: 1999-QTR1.csv\n",
      "Converting file: 1998-QTR1.tsv\n",
      "Created file: 1998-QTR1.csv\n",
      "Converting file: 2004-QTR4.tsv\n",
      "Created file: 2004-QTR4.csv\n",
      "Converting file: 2005-QTR4.tsv\n",
      "Created file: 2005-QTR4.csv\n",
      "Converting file: 2019-QTR1.tsv\n",
      "Created file: 2019-QTR1.csv\n",
      "Converting file: 2018-QTR1.tsv\n",
      "Created file: 2018-QTR1.csv\n",
      "Converting file: 1993-QTR3.tsv\n",
      "Created file: 1993-QTR3.csv\n",
      "Converting file: 2012-QTR2.tsv\n",
      "Created file: 2012-QTR2.csv\n",
      "Converting file: 2013-QTR2.tsv\n",
      "Created file: 2013-QTR2.csv\n",
      "Converting file: 1993-QTR1.tsv\n",
      "Created file: 1993-QTR1.csv\n",
      "Converting file: 1998-QTR2.tsv\n",
      "Created file: 1998-QTR2.csv\n",
      "Converting file: 1999-QTR2.tsv\n",
      "Created file: 1999-QTR2.csv\n",
      "Converting file: 2019-QTR3.tsv\n",
      "Created file: 2019-QTR3.csv\n",
      "Converting file: 2018-QTR3.tsv\n",
      "Created file: 2018-QTR3.csv\n",
      "Converting file: 2018-QTR2.tsv\n",
      "Created file: 2018-QTR2.csv\n",
      "Converting file: 2019-QTR2.tsv\n",
      "Created file: 2019-QTR2.csv\n",
      "Converting file: 1999-QTR3.tsv\n",
      "Created file: 1999-QTR3.csv\n",
      "Converting file: 1998-QTR3.tsv\n",
      "Created file: 1998-QTR3.csv\n",
      "Converting file: 2013-QTR1.tsv\n",
      "Created file: 2013-QTR1.csv\n",
      "Converting file: 2012-QTR1.tsv\n",
      "Created file: 2012-QTR1.csv\n",
      "Converting file: 1993-QTR4.tsv\n",
      "Created file: 1993-QTR4.csv\n",
      "Converting file: 2004-QTR3.tsv\n",
      "Created file: 2004-QTR3.csv\n",
      "Converting file: 2005-QTR3.tsv\n",
      "Created file: 2005-QTR3.csv\n",
      "Converting file: 2005-QTR2.tsv\n",
      "Created file: 2005-QTR2.csv\n",
      "Converting file: 2004-QTR2.tsv\n",
      "Created file: 2004-QTR2.csv\n",
      "Converting file: 2013-QTR4.tsv\n",
      "Created file: 2013-QTR4.csv\n",
      "Converting file: 2012-QTR4.tsv\n",
      "Created file: 2012-QTR4.csv\n",
      "Converting file: 1999-QTR4.tsv\n",
      "Created file: 1999-QTR4.csv\n",
      "Converting file: 1998-QTR4.tsv\n",
      "Created file: 1998-QTR4.csv\n",
      "Converting file: 2004-QTR1.tsv\n",
      "Created file: 2004-QTR1.csv\n",
      "Converting file: 2005-QTR1.tsv\n",
      "Created file: 2005-QTR1.csv\n",
      "Converting file: 2018-QTR4.tsv\n",
      "Created file: 2018-QTR4.csv\n",
      "Converting file: 1994-QTR4.tsv\n",
      "Created file: 1994-QTR4.csv\n",
      "Converting file: 1995-QTR4.tsv\n",
      "Created file: 1995-QTR4.csv\n",
      "Converting file: 2003-QTR3.tsv\n",
      "Created file: 2003-QTR3.csv\n",
      "Converting file: 2002-QTR3.tsv\n",
      "Created file: 2002-QTR3.csv\n",
      "Converting file: 2002-QTR2.tsv\n",
      "Created file: 2002-QTR2.csv\n",
      "Converting file: 2003-QTR2.tsv\n",
      "Created file: 2003-QTR2.csv\n",
      "Converting file: 2014-QTR4.tsv\n",
      "Created file: 2014-QTR4.csv\n",
      "Converting file: 2015-QTR4.tsv\n",
      "Created file: 2015-QTR4.csv\n",
      "Converting file: 2009-QTR1.tsv\n",
      "Created file: 2009-QTR1.csv\n",
      "Converting file: 2008-QTR1.tsv\n",
      "Created file: 2008-QTR1.csv\n",
      "Converting file: 2009-QTR3.tsv\n",
      "Created file: 2009-QTR3.csv\n",
      "Converting file: 2008-QTR3.tsv\n",
      "Created file: 2008-QTR3.csv\n",
      "Converting file: 2003-QTR1.tsv\n",
      "Created file: 2003-QTR1.csv\n",
      "Converting file: 2002-QTR1.tsv\n",
      "Created file: 2002-QTR1.csv\n",
      "Converting file: 2008-QTR2.tsv\n",
      "Created file: 2008-QTR2.csv\n",
      "Converting file: 2009-QTR2.tsv\n",
      "Created file: 2009-QTR2.csv\n",
      "Converting file: 1995-QTR2.tsv\n",
      "Created file: 1995-QTR2.csv\n",
      "Converting file: 1994-QTR2.tsv\n",
      "Created file: 1994-QTR2.csv\n",
      "Converting file: 2014-QTR3.tsv\n",
      "Created file: 2014-QTR3.csv\n",
      "Converting file: 2015-QTR3.tsv\n",
      "Created file: 2015-QTR3.csv\n",
      "Converting file: 2003-QTR4.tsv\n",
      "Created file: 2003-QTR4.csv\n",
      "Converting file: 2002-QTR4.tsv\n",
      "Created file: 2002-QTR4.csv\n",
      "Converting file: 2015-QTR2.tsv\n",
      "Created file: 2015-QTR2.csv\n",
      "Converting file: 2014-QTR2.tsv\n",
      "Created file: 2014-QTR2.csv\n",
      "Converting file: 1994-QTR3.tsv\n",
      "Created file: 1994-QTR3.csv\n",
      "Converting file: 1995-QTR3.tsv\n",
      "Created file: 1995-QTR3.csv\n",
      "Converting file: 1994-QTR1.tsv\n",
      "Created file: 1994-QTR1.csv\n",
      "Converting file: 1995-QTR1.tsv\n",
      "Created file: 1995-QTR1.csv\n",
      "Converting file: 2014-QTR1.tsv\n",
      "Created file: 2014-QTR1.csv\n",
      "Converting file: 2015-QTR1.tsv\n",
      "Created file: 2015-QTR1.csv\n",
      "Converting file: 2009-QTR4.tsv\n",
      "Created file: 2009-QTR4.csv\n",
      "Converting file: 2008-QTR4.tsv\n",
      "Created file: 2008-QTR4.csv\n"
     ]
    }
   ],
   "source": [
    "for i in os.listdir('data_sic'):\n",
    "    if str(i).endswith('tsv'):\n",
    "        print('Converting file: '+i)\n",
    "        name = i[:-4]+'.csv'\n",
    "        \n",
    "        df = pd.read_csv('data_sic/'+i, sep='|', header=0)\n",
    "        df.columns = ['CIK', 'Company_Name', 'Filing_Type', 'Filing_Date', 'URL_txt', 'URL_html']\n",
    "        df.to_csv('data_sic/'+name)#index=False\n",
    "        del df\n",
    "        print('Created file: '+name)"
   ]
  },
  {
   "cell_type": "code",
   "execution_count": 181,
   "metadata": {},
   "outputs": [],
   "source": [
    "master_df = pd.concat([pd.read_csv(f'data_sic/{f}', sep=',', header=0, encoding='utf8').drop('Unnamed: 0', axis=1) for f in os.listdir('data_sic') if f.endswith('.csv')])"
   ]
  },
  {
   "cell_type": "code",
   "execution_count": 182,
   "metadata": {},
   "outputs": [
    {
     "data": {
      "text/html": [
       "<div>\n",
       "<style scoped>\n",
       "    .dataframe tbody tr th:only-of-type {\n",
       "        vertical-align: middle;\n",
       "    }\n",
       "\n",
       "    .dataframe tbody tr th {\n",
       "        vertical-align: top;\n",
       "    }\n",
       "\n",
       "    .dataframe thead th {\n",
       "        text-align: right;\n",
       "    }\n",
       "</style>\n",
       "<table border=\"1\" class=\"dataframe\">\n",
       "  <thead>\n",
       "    <tr style=\"text-align: right;\">\n",
       "      <th></th>\n",
       "      <th>CIK</th>\n",
       "      <th>Company_Name</th>\n",
       "      <th>Filing_Type</th>\n",
       "      <th>Filing_Date</th>\n",
       "      <th>URL_txt</th>\n",
       "      <th>URL_html</th>\n",
       "    </tr>\n",
       "  </thead>\n",
       "  <tbody>\n",
       "    <tr>\n",
       "      <th>0</th>\n",
       "      <td>100030</td>\n",
       "      <td>TRW INC</td>\n",
       "      <td>DEF 14A</td>\n",
       "      <td>1995-03-14</td>\n",
       "      <td>edgar/data/100030/0000950132-95-000059.txt</td>\n",
       "      <td>edgar/data/100030/0000950132-95-000059-index.html</td>\n",
       "    </tr>\n",
       "    <tr>\n",
       "      <th>1</th>\n",
       "      <td>100030</td>\n",
       "      <td>TRW INC</td>\n",
       "      <td>S-8</td>\n",
       "      <td>1995-03-27</td>\n",
       "      <td>edgar/data/100030/0000950152-95-000436.txt</td>\n",
       "      <td>edgar/data/100030/0000950152-95-000436-index.html</td>\n",
       "    </tr>\n",
       "    <tr>\n",
       "      <th>2</th>\n",
       "      <td>100030</td>\n",
       "      <td>TRW INC</td>\n",
       "      <td>S-8</td>\n",
       "      <td>1995-03-27</td>\n",
       "      <td>edgar/data/100030/0000950152-95-000439.txt</td>\n",
       "      <td>edgar/data/100030/0000950152-95-000439-index.html</td>\n",
       "    </tr>\n",
       "    <tr>\n",
       "      <th>3</th>\n",
       "      <td>100030</td>\n",
       "      <td>TRW INC</td>\n",
       "      <td>SC 13G/A</td>\n",
       "      <td>1995-02-02</td>\n",
       "      <td>edgar/data/100030/0000950152-95-000083.txt</td>\n",
       "      <td>edgar/data/100030/0000950152-95-000083-index.html</td>\n",
       "    </tr>\n",
       "    <tr>\n",
       "      <th>4</th>\n",
       "      <td>100030</td>\n",
       "      <td>TRW INC</td>\n",
       "      <td>SC 13G</td>\n",
       "      <td>1995-02-10</td>\n",
       "      <td>edgar/data/100030/0000315066-95-002097.txt</td>\n",
       "      <td>edgar/data/100030/0000315066-95-002097-index.html</td>\n",
       "    </tr>\n",
       "  </tbody>\n",
       "</table>\n",
       "</div>"
      ],
      "text/plain": [
       "      CIK Company_Name Filing_Type Filing_Date  \\\n",
       "0  100030      TRW INC     DEF 14A  1995-03-14   \n",
       "1  100030      TRW INC         S-8  1995-03-27   \n",
       "2  100030      TRW INC         S-8  1995-03-27   \n",
       "3  100030      TRW INC    SC 13G/A  1995-02-02   \n",
       "4  100030      TRW INC      SC 13G  1995-02-10   \n",
       "\n",
       "                                      URL_txt  \\\n",
       "0  edgar/data/100030/0000950132-95-000059.txt   \n",
       "1  edgar/data/100030/0000950152-95-000436.txt   \n",
       "2  edgar/data/100030/0000950152-95-000439.txt   \n",
       "3  edgar/data/100030/0000950152-95-000083.txt   \n",
       "4  edgar/data/100030/0000315066-95-002097.txt   \n",
       "\n",
       "                                            URL_html  \n",
       "0  edgar/data/100030/0000950132-95-000059-index.html  \n",
       "1  edgar/data/100030/0000950152-95-000436-index.html  \n",
       "2  edgar/data/100030/0000950152-95-000439-index.html  \n",
       "3  edgar/data/100030/0000950152-95-000083-index.html  \n",
       "4  edgar/data/100030/0000315066-95-002097-index.html  "
      ]
     },
     "execution_count": 182,
     "metadata": {},
     "output_type": "execute_result"
    }
   ],
   "source": [
    "master_df.head()"
   ]
  },
  {
   "cell_type": "code",
   "execution_count": 183,
   "metadata": {},
   "outputs": [],
   "source": [
    "master_df.to_csv('data_sic/master.csv', sep='@', index=False)"
   ]
  },
  {
   "cell_type": "markdown",
   "metadata": {},
   "source": [
    "### API"
   ]
  },
  {
   "cell_type": "code",
   "execution_count": 35,
   "metadata": {},
   "outputs": [],
   "source": [
    "#Grab CIK for each CIK in df:\n",
    "#For each CIK, send request to 10-k\n",
    "#In 10K, extract SIC\n",
    "#Write SIC back to df"
   ]
  },
  {
   "cell_type": "code",
   "execution_count": 2,
   "metadata": {},
   "outputs": [],
   "source": [
    "def get_SIC(url):\n",
    "    \n",
    "    download = requests.get(url)\n",
    "    soup = BeautifulSoup(download.content, 'html')\n",
    "    \n",
    "    if soup.find('b') == None:\n",
    "        sic = 'None'\n",
    "    else:\n",
    "        b = [i for i in list(map(str,soup.find_all('b'))) if 'SIC' in i]\n",
    "        sic = int(re.findall(r'\\d+', ''.join(b))[0]) \n",
    "    \n",
    "    return sic"
   ]
  },
  {
   "cell_type": "code",
   "execution_count": 3,
   "metadata": {},
   "outputs": [],
   "source": [
    "master_df = pd.read_csv('data_sic/master.csv', sep='@')"
   ]
  },
  {
   "cell_type": "code",
   "execution_count": 4,
   "metadata": {},
   "outputs": [],
   "source": [
    "df_10k = master_df[master_df['Filing_Type'] == '10-K']\n",
    "df_10q = master_df[master_df['Filing_Type'] == '10-Q']"
   ]
  },
  {
   "cell_type": "code",
   "execution_count": 5,
   "metadata": {},
   "outputs": [
    {
     "data": {
      "text/plain": [
       "(189488, 6)"
      ]
     },
     "execution_count": 5,
     "metadata": {},
     "output_type": "execute_result"
    }
   ],
   "source": [
    "df_10k.shape"
   ]
  },
  {
   "cell_type": "code",
   "execution_count": 6,
   "metadata": {},
   "outputs": [
    {
     "data": {
      "text/plain": [
       "(587200, 6)"
      ]
     },
     "execution_count": 6,
     "metadata": {},
     "output_type": "execute_result"
    }
   ],
   "source": [
    "df_10q.shape"
   ]
  },
  {
   "cell_type": "code",
   "execution_count": 7,
   "metadata": {},
   "outputs": [],
   "source": [
    "intersect = df_10k[df_10k['CIK'].isin(df_10q['CIK'])]"
   ]
  },
  {
   "cell_type": "code",
   "execution_count": 8,
   "metadata": {},
   "outputs": [],
   "source": [
    "tenk_notin_tenq = df_10k[~df_10k['CIK'].isin(df_10q['CIK'])]"
   ]
  },
  {
   "cell_type": "code",
   "execution_count": 9,
   "metadata": {},
   "outputs": [],
   "source": [
    "tenq_notin_tenk = df_10q[~df_10q['CIK'].isin(df_10k['CIK'])]"
   ]
  },
  {
   "cell_type": "code",
   "execution_count": 10,
   "metadata": {},
   "outputs": [],
   "source": [
    "total_df = intersect.append(tenk_notin_tenq).append(tenq_notin_tenk)"
   ]
  },
  {
   "cell_type": "code",
   "execution_count": 11,
   "metadata": {},
   "outputs": [
    {
     "data": {
      "text/plain": [
       "(202553, 6)"
      ]
     },
     "execution_count": 11,
     "metadata": {},
     "output_type": "execute_result"
    }
   ],
   "source": [
    "total_df.shape"
   ]
  },
  {
   "cell_type": "code",
   "execution_count": 12,
   "metadata": {},
   "outputs": [],
   "source": [
    "total_df = total_df.sort_values('Filing_Date', ascending=False)"
   ]
  },
  {
   "cell_type": "code",
   "execution_count": 13,
   "metadata": {},
   "outputs": [],
   "source": [
    "total_df = total_df.drop_duplicates(subset=['CIK'], keep='first')"
   ]
  },
  {
   "cell_type": "code",
   "execution_count": 14,
   "metadata": {},
   "outputs": [],
   "source": [
    "total_df['URL_html'] = total_df['URL_html'].astype(str)"
   ]
  },
  {
   "cell_type": "code",
   "execution_count": 15,
   "metadata": {},
   "outputs": [
    {
     "data": {
      "text/plain": [
       "(38820, 6)"
      ]
     },
     "execution_count": 15,
     "metadata": {},
     "output_type": "execute_result"
    }
   ],
   "source": [
    "total_df.shape"
   ]
  },
  {
   "cell_type": "code",
   "execution_count": 16,
   "metadata": {},
   "outputs": [
    {
     "name": "stdout",
     "output_type": "stream",
     "text": [
      "Test Passed: No nulls in URL column\n"
     ]
    }
   ],
   "source": [
    "if len(total_df[total_df['URL_html'] == 'nan']) == 0:\n",
    "    print('Test Passed: No nulls in URL column')"
   ]
  },
  {
   "cell_type": "code",
   "execution_count": 17,
   "metadata": {},
   "outputs": [
    {
     "data": {
      "text/html": [
       "<div>\n",
       "<style scoped>\n",
       "    .dataframe tbody tr th:only-of-type {\n",
       "        vertical-align: middle;\n",
       "    }\n",
       "\n",
       "    .dataframe tbody tr th {\n",
       "        vertical-align: top;\n",
       "    }\n",
       "\n",
       "    .dataframe thead th {\n",
       "        text-align: right;\n",
       "    }\n",
       "</style>\n",
       "<table border=\"1\" class=\"dataframe\">\n",
       "  <thead>\n",
       "    <tr style=\"text-align: right;\">\n",
       "      <th></th>\n",
       "      <th>CIK</th>\n",
       "      <th>Company_Name</th>\n",
       "      <th>Filing_Type</th>\n",
       "      <th>Filing_Date</th>\n",
       "      <th>URL_txt</th>\n",
       "      <th>URL_html</th>\n",
       "    </tr>\n",
       "  </thead>\n",
       "  <tbody>\n",
       "    <tr>\n",
       "      <th>7973492</th>\n",
       "      <td>1067294</td>\n",
       "      <td>CRACKER BARREL OLD COUNTRY STORE, INC</td>\n",
       "      <td>10-K</td>\n",
       "      <td>2019-09-27</td>\n",
       "      <td>edgar/data/1067294/0001140361-19-017413.txt</td>\n",
       "      <td>edgar/data/1067294/0001140361-19-017413-index....</td>\n",
       "    </tr>\n",
       "    <tr>\n",
       "      <th>8080190</th>\n",
       "      <td>1715768</td>\n",
       "      <td>Peninsula Acquisition Corp</td>\n",
       "      <td>10-K</td>\n",
       "      <td>2019-09-27</td>\n",
       "      <td>edgar/data/1715768/0001213900-19-019134.txt</td>\n",
       "      <td>edgar/data/1715768/0001213900-19-019134-index....</td>\n",
       "    </tr>\n",
       "    <tr>\n",
       "      <th>8132896</th>\n",
       "      <td>828530</td>\n",
       "      <td>ADMIRAL FINANCIAL CORP</td>\n",
       "      <td>10-K</td>\n",
       "      <td>2019-09-27</td>\n",
       "      <td>edgar/data/828530/0001553350-19-001013.txt</td>\n",
       "      <td>edgar/data/828530/0001553350-19-001013-index.html</td>\n",
       "    </tr>\n",
       "    <tr>\n",
       "      <th>8072104</th>\n",
       "      <td>1682593</td>\n",
       "      <td>Community Savings Bancorp, Inc.</td>\n",
       "      <td>10-K</td>\n",
       "      <td>2019-09-27</td>\n",
       "      <td>edgar/data/1682593/0001144204-19-046330.txt</td>\n",
       "      <td>edgar/data/1682593/0001144204-19-046330-index....</td>\n",
       "    </tr>\n",
       "    <tr>\n",
       "      <th>8047042</th>\n",
       "      <td>1580149</td>\n",
       "      <td>BIOVIE INC.</td>\n",
       "      <td>10-K</td>\n",
       "      <td>2019-09-27</td>\n",
       "      <td>edgar/data/1580149/0001520138-19-000336.txt</td>\n",
       "      <td>edgar/data/1580149/0001520138-19-000336-index....</td>\n",
       "    </tr>\n",
       "  </tbody>\n",
       "</table>\n",
       "</div>"
      ],
      "text/plain": [
       "             CIK                           Company_Name Filing_Type  \\\n",
       "7973492  1067294  CRACKER BARREL OLD COUNTRY STORE, INC        10-K   \n",
       "8080190  1715768             Peninsula Acquisition Corp        10-K   \n",
       "8132896   828530                 ADMIRAL FINANCIAL CORP        10-K   \n",
       "8072104  1682593        Community Savings Bancorp, Inc.        10-K   \n",
       "8047042  1580149                            BIOVIE INC.        10-K   \n",
       "\n",
       "        Filing_Date                                      URL_txt  \\\n",
       "7973492  2019-09-27  edgar/data/1067294/0001140361-19-017413.txt   \n",
       "8080190  2019-09-27  edgar/data/1715768/0001213900-19-019134.txt   \n",
       "8132896  2019-09-27   edgar/data/828530/0001553350-19-001013.txt   \n",
       "8072104  2019-09-27  edgar/data/1682593/0001144204-19-046330.txt   \n",
       "8047042  2019-09-27  edgar/data/1580149/0001520138-19-000336.txt   \n",
       "\n",
       "                                                  URL_html  \n",
       "7973492  edgar/data/1067294/0001140361-19-017413-index....  \n",
       "8080190  edgar/data/1715768/0001213900-19-019134-index....  \n",
       "8132896  edgar/data/828530/0001553350-19-001013-index.html  \n",
       "8072104  edgar/data/1682593/0001144204-19-046330-index....  \n",
       "8047042  edgar/data/1580149/0001520138-19-000336-index....  "
      ]
     },
     "execution_count": 17,
     "metadata": {},
     "output_type": "execute_result"
    }
   ],
   "source": [
    "total_df.head()"
   ]
  },
  {
   "cell_type": "code",
   "execution_count": 18,
   "metadata": {},
   "outputs": [],
   "source": [
    "def CIK_SIC_mapping(df):\n",
    "\n",
    "    SIC = {}\n",
    "    for cik, url in zip(df['CIK'], df['URL_html']):\n",
    "        #print('https://www.sec.gov/Archives/'+url)\n",
    "        sic = get_SIC('https://www.sec.gov/Archives/'+url)\n",
    "        #print('https://www.sec.gov/Archives/'+url)\n",
    "        #print(sic)\n",
    "        SIC[cik] = sic\n",
    "    \n",
    "    return SIC"
   ]
  },
  {
   "cell_type": "code",
   "execution_count": 19,
   "metadata": {},
   "outputs": [],
   "source": [
    "df1, df2, df3, df4, df5, df6, df7, df8, df9, df10 = np.array_split(total_df,10)"
   ]
  },
  {
   "cell_type": "code",
   "execution_count": 20,
   "metadata": {},
   "outputs": [],
   "source": [
    "#Stop here"
   ]
  },
  {
   "cell_type": "code",
   "execution_count": 21,
   "metadata": {},
   "outputs": [],
   "source": [
    "def make_sic_list(df, filename):\n",
    "    cik_sic_list = []\n",
    "    cik_sic_list.append(CIK_SIC_mapping(df))\n",
    "    out = pd.DataFrame(cik_sic_list)\n",
    "    out.to_csv(filename, index=False)\n",
    "    return out"
   ]
  },
  {
   "cell_type": "code",
   "execution_count": 54,
   "metadata": {},
   "outputs": [],
   "source": [
    "out1 = make_sic_list(df1, 'sic_cik_mapping_1_new.csv')"
   ]
  },
  {
   "cell_type": "code",
   "execution_count": 22,
   "metadata": {},
   "outputs": [],
   "source": [
    "out2 = make_sic_list(df2, 'sic_cik_mapping_2_new.csv')"
   ]
  },
  {
   "cell_type": "code",
   "execution_count": 23,
   "metadata": {},
   "outputs": [
    {
     "data": {
      "text/html": [
       "<div>\n",
       "<style scoped>\n",
       "    .dataframe tbody tr th:only-of-type {\n",
       "        vertical-align: middle;\n",
       "    }\n",
       "\n",
       "    .dataframe tbody tr th {\n",
       "        vertical-align: top;\n",
       "    }\n",
       "\n",
       "    .dataframe thead th {\n",
       "        text-align: right;\n",
       "    }\n",
       "</style>\n",
       "<table border=\"1\" class=\"dataframe\">\n",
       "  <thead>\n",
       "    <tr style=\"text-align: right;\">\n",
       "      <th></th>\n",
       "      <th>1800</th>\n",
       "      <th>1961</th>\n",
       "      <th>2034</th>\n",
       "      <th>2186</th>\n",
       "      <th>2488</th>\n",
       "      <th>2969</th>\n",
       "      <th>3116</th>\n",
       "      <th>3146</th>\n",
       "      <th>3153</th>\n",
       "      <th>3197</th>\n",
       "      <th>...</th>\n",
       "      <th>1743415</th>\n",
       "      <th>1743587</th>\n",
       "      <th>1744179</th>\n",
       "      <th>1744895</th>\n",
       "      <th>1745916</th>\n",
       "      <th>1747009</th>\n",
       "      <th>1747777</th>\n",
       "      <th>1749849</th>\n",
       "      <th>1752773</th>\n",
       "      <th>1754824</th>\n",
       "    </tr>\n",
       "  </thead>\n",
       "  <tbody>\n",
       "    <tr>\n",
       "      <th>0</th>\n",
       "      <td>2834</td>\n",
       "      <td>7372</td>\n",
       "      <td>5122</td>\n",
       "      <td>3663</td>\n",
       "      <td>3674</td>\n",
       "      <td>2810</td>\n",
       "      <td>2834</td>\n",
       "      <td>4924</td>\n",
       "      <td>4911</td>\n",
       "      <td>3564</td>\n",
       "      <td>...</td>\n",
       "      <td>None</td>\n",
       "      <td>6189</td>\n",
       "      <td>None</td>\n",
       "      <td>6770</td>\n",
       "      <td>6162</td>\n",
       "      <td>4922</td>\n",
       "      <td>None</td>\n",
       "      <td>100</td>\n",
       "      <td>None</td>\n",
       "      <td>6770</td>\n",
       "    </tr>\n",
       "  </tbody>\n",
       "</table>\n",
       "<p>1 rows × 3882 columns</p>\n",
       "</div>"
      ],
      "text/plain": [
       "   1800     1961     2034     2186     2488     2969     3116     3146     \\\n",
       "0     2834     7372     5122     3663     3674     2810     2834     4924   \n",
       "\n",
       "   3153     3197     ...  1743415  1743587  1744179  1744895  1745916  \\\n",
       "0     4911     3564  ...     None     6189     None     6770     6162   \n",
       "\n",
       "   1747009  1747777  1749849  1752773  1754824  \n",
       "0     4922     None      100     None     6770  \n",
       "\n",
       "[1 rows x 3882 columns]"
      ]
     },
     "execution_count": 23,
     "metadata": {},
     "output_type": "execute_result"
    }
   ],
   "source": [
    "out2.head()"
   ]
  },
  {
   "cell_type": "code",
   "execution_count": 24,
   "metadata": {},
   "outputs": [],
   "source": [
    "out3 = make_sic_list(df3, 'sic_cik_mapping_3_new.csv')"
   ]
  },
  {
   "cell_type": "code",
   "execution_count": 25,
   "metadata": {},
   "outputs": [
    {
     "data": {
      "text/html": [
       "<div>\n",
       "<style scoped>\n",
       "    .dataframe tbody tr th:only-of-type {\n",
       "        vertical-align: middle;\n",
       "    }\n",
       "\n",
       "    .dataframe tbody tr th {\n",
       "        vertical-align: top;\n",
       "    }\n",
       "\n",
       "    .dataframe thead th {\n",
       "        text-align: right;\n",
       "    }\n",
       "</style>\n",
       "<table border=\"1\" class=\"dataframe\">\n",
       "  <thead>\n",
       "    <tr style=\"text-align: right;\">\n",
       "      <th></th>\n",
       "      <th>2491</th>\n",
       "      <th>3952</th>\n",
       "      <th>5133</th>\n",
       "      <th>5768</th>\n",
       "      <th>6314</th>\n",
       "      <th>6732</th>\n",
       "      <th>8411</th>\n",
       "      <th>8855</th>\n",
       "      <th>9235</th>\n",
       "      <th>9263</th>\n",
       "      <th>...</th>\n",
       "      <th>1672985</th>\n",
       "      <th>1673731</th>\n",
       "      <th>1674786</th>\n",
       "      <th>1677761</th>\n",
       "      <th>1679629</th>\n",
       "      <th>1681281</th>\n",
       "      <th>1681292</th>\n",
       "      <th>1685311</th>\n",
       "      <th>1689265</th>\n",
       "      <th>1693691</th>\n",
       "    </tr>\n",
       "  </thead>\n",
       "  <tbody>\n",
       "    <tr>\n",
       "      <th>0</th>\n",
       "      <td>7372</td>\n",
       "      <td>3480</td>\n",
       "      <td>2771</td>\n",
       "      <td>3844</td>\n",
       "      <td>3663</td>\n",
       "      <td>3560</td>\n",
       "      <td>1381</td>\n",
       "      <td>2540</td>\n",
       "      <td>6282</td>\n",
       "      <td>8741</td>\n",
       "      <td>...</td>\n",
       "      <td>6770</td>\n",
       "      <td>7389</td>\n",
       "      <td>None</td>\n",
       "      <td>6798</td>\n",
       "      <td>5712</td>\n",
       "      <td>6770</td>\n",
       "      <td>6770</td>\n",
       "      <td>5812</td>\n",
       "      <td>None</td>\n",
       "      <td>6770</td>\n",
       "    </tr>\n",
       "  </tbody>\n",
       "</table>\n",
       "<p>1 rows × 3882 columns</p>\n",
       "</div>"
      ],
      "text/plain": [
       "   2491     3952     5133     5768     6314     6732     8411     8855     \\\n",
       "0     7372     3480     2771     3844     3663     3560     1381     2540   \n",
       "\n",
       "   9235     9263     ...  1672985  1673731  1674786  1677761  1679629  \\\n",
       "0     6282     8741  ...     6770     7389     None     6798     5712   \n",
       "\n",
       "   1681281  1681292  1685311  1689265  1693691  \n",
       "0     6770     6770     5812     None     6770  \n",
       "\n",
       "[1 rows x 3882 columns]"
      ]
     },
     "execution_count": 25,
     "metadata": {},
     "output_type": "execute_result"
    }
   ],
   "source": [
    "out3.head()"
   ]
  },
  {
   "cell_type": "code",
   "execution_count": 26,
   "metadata": {},
   "outputs": [],
   "source": [
    "out4 = make_sic_list(df4, 'sic_cik_mapping_4_new.csv')"
   ]
  },
  {
   "cell_type": "code",
   "execution_count": 27,
   "metadata": {},
   "outputs": [
    {
     "data": {
      "text/html": [
       "<div>\n",
       "<style scoped>\n",
       "    .dataframe tbody tr th:only-of-type {\n",
       "        vertical-align: middle;\n",
       "    }\n",
       "\n",
       "    .dataframe tbody tr th {\n",
       "        vertical-align: top;\n",
       "    }\n",
       "\n",
       "    .dataframe thead th {\n",
       "        text-align: right;\n",
       "    }\n",
       "</style>\n",
       "<table border=\"1\" class=\"dataframe\">\n",
       "  <thead>\n",
       "    <tr style=\"text-align: right;\">\n",
       "      <th></th>\n",
       "      <th>20</th>\n",
       "      <th>1853</th>\n",
       "      <th>1923</th>\n",
       "      <th>2135</th>\n",
       "      <th>2601</th>\n",
       "      <th>3202</th>\n",
       "      <th>3673</th>\n",
       "      <th>3906</th>\n",
       "      <th>3982</th>\n",
       "      <th>4611</th>\n",
       "      <th>...</th>\n",
       "      <th>1542708</th>\n",
       "      <th>1542774</th>\n",
       "      <th>1543668</th>\n",
       "      <th>1548223</th>\n",
       "      <th>1548404</th>\n",
       "      <th>1548805</th>\n",
       "      <th>1550957</th>\n",
       "      <th>1551335</th>\n",
       "      <th>1553210</th>\n",
       "      <th>1554864</th>\n",
       "    </tr>\n",
       "  </thead>\n",
       "  <tbody>\n",
       "    <tr>\n",
       "      <th>0</th>\n",
       "      <td>3823</td>\n",
       "      <td>3711</td>\n",
       "      <td>1540</td>\n",
       "      <td>7374</td>\n",
       "      <td>3674</td>\n",
       "      <td>4512</td>\n",
       "      <td>4911</td>\n",
       "      <td>None</td>\n",
       "      <td>1389</td>\n",
       "      <td>3089</td>\n",
       "      <td>...</td>\n",
       "      <td>7370</td>\n",
       "      <td>7370</td>\n",
       "      <td>6770</td>\n",
       "      <td>3550</td>\n",
       "      <td>5051</td>\n",
       "      <td>5190</td>\n",
       "      <td>6770</td>\n",
       "      <td>4941</td>\n",
       "      <td>7372</td>\n",
       "      <td>6770</td>\n",
       "    </tr>\n",
       "  </tbody>\n",
       "</table>\n",
       "<p>1 rows × 3882 columns</p>\n",
       "</div>"
      ],
      "text/plain": [
       "   20       1853     1923     2135     2601     3202     3673    3906     \\\n",
       "0     3823     3711     1540     7374     3674     4512     4911    None   \n",
       "\n",
       "   3982     4611     ...  1542708  1542774  1543668  1548223  1548404  \\\n",
       "0     1389     3089  ...     7370     7370     6770     3550     5051   \n",
       "\n",
       "   1548805  1550957  1551335  1553210  1554864  \n",
       "0     5190     6770     4941     7372     6770  \n",
       "\n",
       "[1 rows x 3882 columns]"
      ]
     },
     "execution_count": 27,
     "metadata": {},
     "output_type": "execute_result"
    }
   ],
   "source": [
    "out4.head()"
   ]
  },
  {
   "cell_type": "code",
   "execution_count": 28,
   "metadata": {},
   "outputs": [],
   "source": [
    "out5 = make_sic_list(df5, 'sic_cik_mapping_5_new.csv')"
   ]
  },
  {
   "cell_type": "code",
   "execution_count": 29,
   "metadata": {},
   "outputs": [
    {
     "data": {
      "text/html": [
       "<div>\n",
       "<style scoped>\n",
       "    .dataframe tbody tr th:only-of-type {\n",
       "        vertical-align: middle;\n",
       "    }\n",
       "\n",
       "    .dataframe tbody tr th {\n",
       "        vertical-align: top;\n",
       "    }\n",
       "\n",
       "    .dataframe thead th {\n",
       "        text-align: right;\n",
       "    }\n",
       "</style>\n",
       "<table border=\"1\" class=\"dataframe\">\n",
       "  <thead>\n",
       "    <tr style=\"text-align: right;\">\n",
       "      <th></th>\n",
       "      <th>3370</th>\n",
       "      <th>4458</th>\n",
       "      <th>5187</th>\n",
       "      <th>6383</th>\n",
       "      <th>6571</th>\n",
       "      <th>9128</th>\n",
       "      <th>9779</th>\n",
       "      <th>10081</th>\n",
       "      <th>10427</th>\n",
       "      <th>14073</th>\n",
       "      <th>...</th>\n",
       "      <th>1444820</th>\n",
       "      <th>1444874</th>\n",
       "      <th>1445059</th>\n",
       "      <th>1445222</th>\n",
       "      <th>1445223</th>\n",
       "      <th>1447235</th>\n",
       "      <th>1447879</th>\n",
       "      <th>1448239</th>\n",
       "      <th>1450687</th>\n",
       "      <th>1451821</th>\n",
       "    </tr>\n",
       "  </thead>\n",
       "  <tbody>\n",
       "    <tr>\n",
       "      <th>0</th>\n",
       "      <td>5045</td>\n",
       "      <td>7510</td>\n",
       "      <td>2834</td>\n",
       "      <td>4841</td>\n",
       "      <td>7200</td>\n",
       "      <td>1000</td>\n",
       "      <td>5600</td>\n",
       "      <td>2834</td>\n",
       "      <td>3851</td>\n",
       "      <td>6513</td>\n",
       "      <td>...</td>\n",
       "      <td>6321</td>\n",
       "      <td>6282</td>\n",
       "      <td>6021</td>\n",
       "      <td>8200</td>\n",
       "      <td>3679</td>\n",
       "      <td>6189</td>\n",
       "      <td>None</td>\n",
       "      <td>6770</td>\n",
       "      <td>6189</td>\n",
       "      <td>6189</td>\n",
       "    </tr>\n",
       "  </tbody>\n",
       "</table>\n",
       "<p>1 rows × 3882 columns</p>\n",
       "</div>"
      ],
      "text/plain": [
       "   3370     4458     5187     6383     6571     9128     9779     10081    \\\n",
       "0     5045     7510     2834     4841     7200     1000     5600     2834   \n",
       "\n",
       "   10427    14073    ...  1444820  1444874  1445059  1445222  1445223  \\\n",
       "0     3851     6513  ...     6321     6282     6021     8200     3679   \n",
       "\n",
       "   1447235  1447879  1448239  1450687  1451821  \n",
       "0     6189     None     6770     6189     6189  \n",
       "\n",
       "[1 rows x 3882 columns]"
      ]
     },
     "execution_count": 29,
     "metadata": {},
     "output_type": "execute_result"
    }
   ],
   "source": [
    "out5.head()"
   ]
  },
  {
   "cell_type": "code",
   "execution_count": 30,
   "metadata": {},
   "outputs": [],
   "source": [
    "out6 = make_sic_list(df6, 'sic_cik_mapping_6_new.csv')"
   ]
  },
  {
   "cell_type": "code",
   "execution_count": 31,
   "metadata": {},
   "outputs": [
    {
     "data": {
      "text/html": [
       "<div>\n",
       "<style scoped>\n",
       "    .dataframe tbody tr th:only-of-type {\n",
       "        vertical-align: middle;\n",
       "    }\n",
       "\n",
       "    .dataframe tbody tr th {\n",
       "        vertical-align: top;\n",
       "    }\n",
       "\n",
       "    .dataframe thead th {\n",
       "        text-align: right;\n",
       "    }\n",
       "</style>\n",
       "<table border=\"1\" class=\"dataframe\">\n",
       "  <thead>\n",
       "    <tr style=\"text-align: right;\">\n",
       "      <th></th>\n",
       "      <th>3133</th>\n",
       "      <th>3327</th>\n",
       "      <th>3333</th>\n",
       "      <th>4164</th>\n",
       "      <th>4285</th>\n",
       "      <th>4317</th>\n",
       "      <th>6720</th>\n",
       "      <th>9534</th>\n",
       "      <th>9626</th>\n",
       "      <th>9801</th>\n",
       "      <th>...</th>\n",
       "      <th>1383053</th>\n",
       "      <th>1383245</th>\n",
       "      <th>1383361</th>\n",
       "      <th>1383362</th>\n",
       "      <th>1383363</th>\n",
       "      <th>1383727</th>\n",
       "      <th>1383944</th>\n",
       "      <th>1383945</th>\n",
       "      <th>1383946</th>\n",
       "      <th>1384062</th>\n",
       "    </tr>\n",
       "  </thead>\n",
       "  <tbody>\n",
       "    <tr>\n",
       "      <th>0</th>\n",
       "      <td>6022</td>\n",
       "      <td>5990</td>\n",
       "      <td>5411</td>\n",
       "      <td>3357</td>\n",
       "      <td>3330</td>\n",
       "      <td>7373</td>\n",
       "      <td>3949</td>\n",
       "      <td>3011</td>\n",
       "      <td>6022</td>\n",
       "      <td>2750</td>\n",
       "      <td>...</td>\n",
       "      <td>6189</td>\n",
       "      <td>6311</td>\n",
       "      <td>6189</td>\n",
       "      <td>6189</td>\n",
       "      <td>6189</td>\n",
       "      <td>6189</td>\n",
       "      <td>6189</td>\n",
       "      <td>6189</td>\n",
       "      <td>6189</td>\n",
       "      <td>6189</td>\n",
       "    </tr>\n",
       "  </tbody>\n",
       "</table>\n",
       "<p>1 rows × 3882 columns</p>\n",
       "</div>"
      ],
      "text/plain": [
       "   3133     3327     3333     4164     4285     4317     6720     9534     \\\n",
       "0     6022     5990     5411     3357     3330     7373     3949     3011   \n",
       "\n",
       "   9626     9801     ...  1383053  1383245  1383361  1383362  1383363  \\\n",
       "0     6022     2750  ...     6189     6311     6189     6189     6189   \n",
       "\n",
       "   1383727  1383944  1383945  1383946  1384062  \n",
       "0     6189     6189     6189     6189     6189  \n",
       "\n",
       "[1 rows x 3882 columns]"
      ]
     },
     "execution_count": 31,
     "metadata": {},
     "output_type": "execute_result"
    }
   ],
   "source": [
    "out6.head()"
   ]
  },
  {
   "cell_type": "code",
   "execution_count": 32,
   "metadata": {},
   "outputs": [],
   "source": [
    "out7 = make_sic_list(df7, 'sic_cik_mapping_7_new.csv')"
   ]
  },
  {
   "cell_type": "code",
   "execution_count": 33,
   "metadata": {},
   "outputs": [
    {
     "data": {
      "text/html": [
       "<div>\n",
       "<style scoped>\n",
       "    .dataframe tbody tr th:only-of-type {\n",
       "        vertical-align: middle;\n",
       "    }\n",
       "\n",
       "    .dataframe tbody tr th {\n",
       "        vertical-align: top;\n",
       "    }\n",
       "\n",
       "    .dataframe thead th {\n",
       "        text-align: right;\n",
       "    }\n",
       "</style>\n",
       "<table border=\"1\" class=\"dataframe\">\n",
       "  <thead>\n",
       "    <tr style=\"text-align: right;\">\n",
       "      <th></th>\n",
       "      <th>2062</th>\n",
       "      <th>3753</th>\n",
       "      <th>4344</th>\n",
       "      <th>5550</th>\n",
       "      <th>5907</th>\n",
       "      <th>6260</th>\n",
       "      <th>6342</th>\n",
       "      <th>7694</th>\n",
       "      <th>8643</th>\n",
       "      <th>8734</th>\n",
       "      <th>...</th>\n",
       "      <th>1327524</th>\n",
       "      <th>1327541</th>\n",
       "      <th>1328325</th>\n",
       "      <th>1328389</th>\n",
       "      <th>1329037</th>\n",
       "      <th>1329054</th>\n",
       "      <th>1329090</th>\n",
       "      <th>1329589</th>\n",
       "      <th>1329619</th>\n",
       "      <th>1329638</th>\n",
       "    </tr>\n",
       "  </thead>\n",
       "  <tbody>\n",
       "    <tr>\n",
       "      <th>0</th>\n",
       "      <td>6351</td>\n",
       "      <td>3931</td>\n",
       "      <td>7359</td>\n",
       "      <td>9995</td>\n",
       "      <td>4813</td>\n",
       "      <td>3861</td>\n",
       "      <td>None</td>\n",
       "      <td>5160</td>\n",
       "      <td>8090</td>\n",
       "      <td>5812</td>\n",
       "      <td>...</td>\n",
       "      <td>6189</td>\n",
       "      <td>6189</td>\n",
       "      <td>6189</td>\n",
       "      <td>6189</td>\n",
       "      <td>6189</td>\n",
       "      <td>6189</td>\n",
       "      <td>6189</td>\n",
       "      <td>6189</td>\n",
       "      <td>6189</td>\n",
       "      <td>6189</td>\n",
       "    </tr>\n",
       "  </tbody>\n",
       "</table>\n",
       "<p>1 rows × 3882 columns</p>\n",
       "</div>"
      ],
      "text/plain": [
       "   2062     3753     4344     5550     5907     6260    6342     7694     \\\n",
       "0     6351     3931     7359     9995     4813     3861    None     5160   \n",
       "\n",
       "   8643     8734     ...  1327524  1327541  1328325  1328389  1329037  \\\n",
       "0     8090     5812  ...     6189     6189     6189     6189     6189   \n",
       "\n",
       "   1329054  1329090  1329589  1329619  1329638  \n",
       "0     6189     6189     6189     6189     6189  \n",
       "\n",
       "[1 rows x 3882 columns]"
      ]
     },
     "execution_count": 33,
     "metadata": {},
     "output_type": "execute_result"
    }
   ],
   "source": [
    "out7.head()"
   ]
  },
  {
   "cell_type": "code",
   "execution_count": 34,
   "metadata": {},
   "outputs": [],
   "source": [
    "out8 = make_sic_list(df8, 'sic_cik_mapping_8_new.csv')"
   ]
  },
  {
   "cell_type": "code",
   "execution_count": 35,
   "metadata": {},
   "outputs": [
    {
     "data": {
      "text/html": [
       "<div>\n",
       "<style scoped>\n",
       "    .dataframe tbody tr th:only-of-type {\n",
       "        vertical-align: middle;\n",
       "    }\n",
       "\n",
       "    .dataframe tbody tr th {\n",
       "        vertical-align: top;\n",
       "    }\n",
       "\n",
       "    .dataframe thead th {\n",
       "        text-align: right;\n",
       "    }\n",
       "</style>\n",
       "<table border=\"1\" class=\"dataframe\">\n",
       "  <thead>\n",
       "    <tr style=\"text-align: right;\">\n",
       "      <th></th>\n",
       "      <th>2024</th>\n",
       "      <th>2589</th>\n",
       "      <th>2852</th>\n",
       "      <th>3000</th>\n",
       "      <th>3642</th>\n",
       "      <th>3721</th>\n",
       "      <th>3959</th>\n",
       "      <th>4310</th>\n",
       "      <th>5016</th>\n",
       "      <th>5197</th>\n",
       "      <th>...</th>\n",
       "      <th>1225763</th>\n",
       "      <th>1225764</th>\n",
       "      <th>1227941</th>\n",
       "      <th>1237917</th>\n",
       "      <th>1237918</th>\n",
       "      <th>1237919</th>\n",
       "      <th>1237921</th>\n",
       "      <th>1237922</th>\n",
       "      <th>1239203</th>\n",
       "      <th>1245445</th>\n",
       "    </tr>\n",
       "  </thead>\n",
       "  <tbody>\n",
       "    <tr>\n",
       "      <th>0</th>\n",
       "      <td>5070</td>\n",
       "      <td>8711</td>\n",
       "      <td>2040</td>\n",
       "      <td>4513</td>\n",
       "      <td>6331</td>\n",
       "      <td>3663</td>\n",
       "      <td>2731</td>\n",
       "      <td>2834</td>\n",
       "      <td>6331</td>\n",
       "      <td>8062</td>\n",
       "      <td>...</td>\n",
       "      <td>1311</td>\n",
       "      <td>1311</td>\n",
       "      <td>8062</td>\n",
       "      <td>4841</td>\n",
       "      <td>4841</td>\n",
       "      <td>4841</td>\n",
       "      <td>4841</td>\n",
       "      <td>4841</td>\n",
       "      <td>5500</td>\n",
       "      <td>8062</td>\n",
       "    </tr>\n",
       "  </tbody>\n",
       "</table>\n",
       "<p>1 rows × 3882 columns</p>\n",
       "</div>"
      ],
      "text/plain": [
       "   2024     2589     2852     3000     3642     3721     3959     4310     \\\n",
       "0     5070     8711     2040     4513     6331     3663     2731     2834   \n",
       "\n",
       "   5016     5197     ...  1225763  1225764  1227941  1237917  1237918  \\\n",
       "0     6331     8062  ...     1311     1311     8062     4841     4841   \n",
       "\n",
       "   1237919  1237921  1237922  1239203  1245445  \n",
       "0     4841     4841     4841     5500     8062  \n",
       "\n",
       "[1 rows x 3882 columns]"
      ]
     },
     "execution_count": 35,
     "metadata": {},
     "output_type": "execute_result"
    }
   ],
   "source": [
    "out8.head()"
   ]
  },
  {
   "cell_type": "code",
   "execution_count": 36,
   "metadata": {},
   "outputs": [],
   "source": [
    "out9 = make_sic_list(df9, 'sic_cik_mapping_9_new.csv')"
   ]
  },
  {
   "cell_type": "code",
   "execution_count": 37,
   "metadata": {},
   "outputs": [
    {
     "data": {
      "text/html": [
       "<div>\n",
       "<style scoped>\n",
       "    .dataframe tbody tr th:only-of-type {\n",
       "        vertical-align: middle;\n",
       "    }\n",
       "\n",
       "    .dataframe tbody tr th {\n",
       "        vertical-align: top;\n",
       "    }\n",
       "\n",
       "    .dataframe thead th {\n",
       "        text-align: right;\n",
       "    }\n",
       "</style>\n",
       "<table border=\"1\" class=\"dataframe\">\n",
       "  <thead>\n",
       "    <tr style=\"text-align: right;\">\n",
       "      <th></th>\n",
       "      <th>1952</th>\n",
       "      <th>1985</th>\n",
       "      <th>2070</th>\n",
       "      <th>2310</th>\n",
       "      <th>2880</th>\n",
       "      <th>3292</th>\n",
       "      <th>3662</th>\n",
       "      <th>3941</th>\n",
       "      <th>4165</th>\n",
       "      <th>4507</th>\n",
       "      <th>...</th>\n",
       "      <th>1116152</th>\n",
       "      <th>1116561</th>\n",
       "      <th>1117535</th>\n",
       "      <th>1117927</th>\n",
       "      <th>1118402</th>\n",
       "      <th>1119744</th>\n",
       "      <th>1121750</th>\n",
       "      <th>1127921</th>\n",
       "      <th>1127922</th>\n",
       "      <th>1127923</th>\n",
       "    </tr>\n",
       "  </thead>\n",
       "  <tbody>\n",
       "    <tr>\n",
       "      <th>0</th>\n",
       "      <td>1700</td>\n",
       "      <td>6311</td>\n",
       "      <td>3620</td>\n",
       "      <td>3555</td>\n",
       "      <td>5040</td>\n",
       "      <td>2250</td>\n",
       "      <td>3634</td>\n",
       "      <td>3523</td>\n",
       "      <td>9995</td>\n",
       "      <td>2030</td>\n",
       "      <td>...</td>\n",
       "      <td>3576</td>\n",
       "      <td>7389</td>\n",
       "      <td>6189</td>\n",
       "      <td>None</td>\n",
       "      <td>6189</td>\n",
       "      <td>7372</td>\n",
       "      <td>3728</td>\n",
       "      <td>3089</td>\n",
       "      <td>3089</td>\n",
       "      <td>3089</td>\n",
       "    </tr>\n",
       "  </tbody>\n",
       "</table>\n",
       "<p>1 rows × 3882 columns</p>\n",
       "</div>"
      ],
      "text/plain": [
       "   1952     1985     2070     2310     2880     3292     3662     3941     \\\n",
       "0     1700     6311     3620     3555     5040     2250     3634     3523   \n",
       "\n",
       "   4165     4507     ...  1116152  1116561  1117535  1117927  1118402  \\\n",
       "0     9995     2030  ...     3576     7389     6189     None     6189   \n",
       "\n",
       "   1119744  1121750  1127921  1127922  1127923  \n",
       "0     7372     3728     3089     3089     3089  \n",
       "\n",
       "[1 rows x 3882 columns]"
      ]
     },
     "execution_count": 37,
     "metadata": {},
     "output_type": "execute_result"
    }
   ],
   "source": [
    "out9.head()"
   ]
  },
  {
   "cell_type": "code",
   "execution_count": 38,
   "metadata": {},
   "outputs": [],
   "source": [
    "out10 = make_sic_list(df10, 'sic_cik_mapping_10_new.csv')"
   ]
  },
  {
   "cell_type": "code",
   "execution_count": 39,
   "metadata": {},
   "outputs": [
    {
     "data": {
      "text/html": [
       "<div>\n",
       "<style scoped>\n",
       "    .dataframe tbody tr th:only-of-type {\n",
       "        vertical-align: middle;\n",
       "    }\n",
       "\n",
       "    .dataframe tbody tr th {\n",
       "        vertical-align: top;\n",
       "    }\n",
       "\n",
       "    .dataframe thead th {\n",
       "        text-align: right;\n",
       "    }\n",
       "</style>\n",
       "<table border=\"1\" class=\"dataframe\">\n",
       "  <thead>\n",
       "    <tr style=\"text-align: right;\">\n",
       "      <th></th>\n",
       "      <th>1761</th>\n",
       "      <th>1969</th>\n",
       "      <th>1988</th>\n",
       "      <th>2145</th>\n",
       "      <th>2435</th>\n",
       "      <th>2457</th>\n",
       "      <th>2648</th>\n",
       "      <th>3228</th>\n",
       "      <th>3398</th>\n",
       "      <th>3449</th>\n",
       "      <th>...</th>\n",
       "      <th>1058625</th>\n",
       "      <th>1058634</th>\n",
       "      <th>1058635</th>\n",
       "      <th>1058673</th>\n",
       "      <th>1059010</th>\n",
       "      <th>1059067</th>\n",
       "      <th>1059068</th>\n",
       "      <th>1061154</th>\n",
       "      <th>1061156</th>\n",
       "      <th>1092481</th>\n",
       "    </tr>\n",
       "  </thead>\n",
       "  <tbody>\n",
       "    <tr>\n",
       "      <th>0</th>\n",
       "      <td>2670</td>\n",
       "      <td>4955</td>\n",
       "      <td>3577</td>\n",
       "      <td>5190</td>\n",
       "      <td>3672</td>\n",
       "      <td>3564</td>\n",
       "      <td>6311</td>\n",
       "      <td>1040</td>\n",
       "      <td>3661</td>\n",
       "      <td>6411</td>\n",
       "      <td>...</td>\n",
       "      <td>7320</td>\n",
       "      <td>7320</td>\n",
       "      <td>7320</td>\n",
       "      <td>None</td>\n",
       "      <td>None</td>\n",
       "      <td>None</td>\n",
       "      <td>None</td>\n",
       "      <td>None</td>\n",
       "      <td>None</td>\n",
       "      <td>None</td>\n",
       "    </tr>\n",
       "  </tbody>\n",
       "</table>\n",
       "<p>1 rows × 3882 columns</p>\n",
       "</div>"
      ],
      "text/plain": [
       "   1761     1969     1988     2145     2435     2457     2648     3228     \\\n",
       "0     2670     4955     3577     5190     3672     3564     6311     1040   \n",
       "\n",
       "   3398     3449     ...  1058625 1058634  1058635  1058673  1059010  1059067  \\\n",
       "0     3661     6411  ...     7320    7320     7320     None     None     None   \n",
       "\n",
       "   1059068  1061154  1061156  1092481  \n",
       "0     None     None     None     None  \n",
       "\n",
       "[1 rows x 3882 columns]"
      ]
     },
     "execution_count": 39,
     "metadata": {},
     "output_type": "execute_result"
    }
   ],
   "source": [
    "out10.head()"
   ]
  },
  {
   "cell_type": "code",
   "execution_count": null,
   "metadata": {},
   "outputs": [],
   "source": []
  },
  {
   "cell_type": "code",
   "execution_count": null,
   "metadata": {},
   "outputs": [],
   "source": []
  },
  {
   "cell_type": "code",
   "execution_count": null,
   "metadata": {},
   "outputs": [],
   "source": []
  },
  {
   "cell_type": "code",
   "execution_count": null,
   "metadata": {},
   "outputs": [],
   "source": []
  },
  {
   "cell_type": "code",
   "execution_count": null,
   "metadata": {},
   "outputs": [],
   "source": []
  },
  {
   "cell_type": "code",
   "execution_count": null,
   "metadata": {},
   "outputs": [],
   "source": []
  },
  {
   "cell_type": "code",
   "execution_count": null,
   "metadata": {},
   "outputs": [],
   "source": []
  },
  {
   "cell_type": "code",
   "execution_count": null,
   "metadata": {},
   "outputs": [],
   "source": [
    "#Old code here:"
   ]
  },
  {
   "cell_type": "code",
   "execution_count": 216,
   "metadata": {},
   "outputs": [],
   "source": [
    "cik_sic_list_1 = []\n",
    "for df in [df1, df2, df3, df4, df5]:\n",
    "    cik_sic_list_1.append(CIK_SIC_mapping(df))"
   ]
  },
  {
   "cell_type": "code",
   "execution_count": 16,
   "metadata": {},
   "outputs": [],
   "source": [
    "#len(cik_sic_list_1)"
   ]
  },
  {
   "cell_type": "code",
   "execution_count": 17,
   "metadata": {},
   "outputs": [],
   "source": [
    "#len(cik_sic_list_2)"
   ]
  },
  {
   "cell_type": "code",
   "execution_count": 251,
   "metadata": {},
   "outputs": [],
   "source": [
    "#Already done\n",
    "#final1 = pd.DataFrame(cik_sic_list_1)"
   ]
  },
  {
   "cell_type": "code",
   "execution_count": 252,
   "metadata": {},
   "outputs": [],
   "source": [
    "#Already done\n",
    "#final2 = pd.DataFrame(cik_sic_list_2)"
   ]
  },
  {
   "cell_type": "code",
   "execution_count": null,
   "metadata": {},
   "outputs": [],
   "source": [
    "#JUST READ MASTER IN CSV FORM NOW!"
   ]
  },
  {
   "cell_type": "code",
   "execution_count": 253,
   "metadata": {},
   "outputs": [],
   "source": [
    "#Already done\n",
    "#final1.to_csv('sic_cik_mapping_1.csv', index=False)"
   ]
  },
  {
   "cell_type": "code",
   "execution_count": 254,
   "metadata": {},
   "outputs": [],
   "source": [
    "#Already done\n",
    "#final2.to_csv('sic_cik_mapping_2.csv', index=False)"
   ]
  },
  {
   "cell_type": "code",
   "execution_count": null,
   "metadata": {},
   "outputs": [],
   "source": [
    "#### stop here"
   ]
  },
  {
   "cell_type": "code",
   "execution_count": 20,
   "metadata": {},
   "outputs": [],
   "source": [
    "#Already done\n",
    "#cik_sic_list_more = []"
   ]
  },
  {
   "cell_type": "code",
   "execution_count": 25,
   "metadata": {},
   "outputs": [],
   "source": [
    "#Already done\n",
    "#cik_sic_list_more.append(CIK_SIC_mapping(df8))"
   ]
  },
  {
   "cell_type": "code",
   "execution_count": 23,
   "metadata": {},
   "outputs": [],
   "source": [
    "#Already done\n",
    "#cik_sic_list_more.append(CIK_SIC_mapping(df9))"
   ]
  },
  {
   "cell_type": "code",
   "execution_count": 18,
   "metadata": {},
   "outputs": [],
   "source": [
    "df10['URL_html_x'] = df10['URL_html_x'].astype(str)"
   ]
  },
  {
   "cell_type": "code",
   "execution_count": 30,
   "metadata": {},
   "outputs": [],
   "source": [
    "#Already done\n",
    "#final3 = pd.DataFrame(cik_sic_list_more)"
   ]
  },
  {
   "cell_type": "code",
   "execution_count": 31,
   "metadata": {},
   "outputs": [],
   "source": [
    "#Already done\n",
    "#final3.to_csv('cik_sic_list_more.csv', index=False)"
   ]
  },
  {
   "cell_type": "code",
   "execution_count": 19,
   "metadata": {},
   "outputs": [],
   "source": [
    "cik_sic_list_more2 = []"
   ]
  },
  {
   "cell_type": "code",
   "execution_count": 20,
   "metadata": {},
   "outputs": [],
   "source": [
    "#Finish running this:\n",
    "cik_sic_list_more2.append(CIK_SIC_mapping(df10))"
   ]
  },
  {
   "cell_type": "code",
   "execution_count": 22,
   "metadata": {},
   "outputs": [],
   "source": [
    "final4 = pd.DataFrame(cik_sic_list_more2)"
   ]
  },
  {
   "cell_type": "code",
   "execution_count": 23,
   "metadata": {},
   "outputs": [],
   "source": [
    "final4.to_csv('cik_sic_list_more2.csv', index=False)"
   ]
  },
  {
   "cell_type": "code",
   "execution_count": 25,
   "metadata": {},
   "outputs": [
    {
     "data": {
      "text/html": [
       "<div>\n",
       "<style scoped>\n",
       "    .dataframe tbody tr th:only-of-type {\n",
       "        vertical-align: middle;\n",
       "    }\n",
       "\n",
       "    .dataframe tbody tr th {\n",
       "        vertical-align: top;\n",
       "    }\n",
       "\n",
       "    .dataframe thead th {\n",
       "        text-align: right;\n",
       "    }\n",
       "</style>\n",
       "<table border=\"1\" class=\"dataframe\">\n",
       "  <thead>\n",
       "    <tr style=\"text-align: right;\">\n",
       "      <th></th>\n",
       "      <th>0</th>\n",
       "    </tr>\n",
       "  </thead>\n",
       "  <tbody>\n",
       "    <tr>\n",
       "      <th>1988</th>\n",
       "      <td>None</td>\n",
       "    </tr>\n",
       "    <tr>\n",
       "      <th>2435</th>\n",
       "      <td>None</td>\n",
       "    </tr>\n",
       "    <tr>\n",
       "      <th>2880</th>\n",
       "      <td>None</td>\n",
       "    </tr>\n",
       "    <tr>\n",
       "      <th>3228</th>\n",
       "      <td>None</td>\n",
       "    </tr>\n",
       "    <tr>\n",
       "      <th>4438</th>\n",
       "      <td>None</td>\n",
       "    </tr>\n",
       "    <tr>\n",
       "      <th>5177</th>\n",
       "      <td>None</td>\n",
       "    </tr>\n",
       "    <tr>\n",
       "      <th>5696</th>\n",
       "      <td>None</td>\n",
       "    </tr>\n",
       "    <tr>\n",
       "      <th>6992</th>\n",
       "      <td>None</td>\n",
       "    </tr>\n",
       "    <tr>\n",
       "      <th>7119</th>\n",
       "      <td>None</td>\n",
       "    </tr>\n",
       "    <tr>\n",
       "      <th>9696</th>\n",
       "      <td>None</td>\n",
       "    </tr>\n",
       "    <tr>\n",
       "      <th>11545</th>\n",
       "      <td>None</td>\n",
       "    </tr>\n",
       "    <tr>\n",
       "      <th>11821</th>\n",
       "      <td>None</td>\n",
       "    </tr>\n",
       "    <tr>\n",
       "      <th>11856</th>\n",
       "      <td>None</td>\n",
       "    </tr>\n",
       "    <tr>\n",
       "      <th>12473</th>\n",
       "      <td>None</td>\n",
       "    </tr>\n",
       "    <tr>\n",
       "      <th>12953</th>\n",
       "      <td>None</td>\n",
       "    </tr>\n",
       "    <tr>\n",
       "      <th>13839</th>\n",
       "      <td>None</td>\n",
       "    </tr>\n",
       "    <tr>\n",
       "      <th>15354</th>\n",
       "      <td>None</td>\n",
       "    </tr>\n",
       "    <tr>\n",
       "      <th>15876</th>\n",
       "      <td>None</td>\n",
       "    </tr>\n",
       "    <tr>\n",
       "      <th>17482</th>\n",
       "      <td>None</td>\n",
       "    </tr>\n",
       "    <tr>\n",
       "      <th>17544</th>\n",
       "      <td>None</td>\n",
       "    </tr>\n",
       "    <tr>\n",
       "      <th>18620</th>\n",
       "      <td>None</td>\n",
       "    </tr>\n",
       "    <tr>\n",
       "      <th>18905</th>\n",
       "      <td>None</td>\n",
       "    </tr>\n",
       "    <tr>\n",
       "      <th>18912</th>\n",
       "      <td>None</td>\n",
       "    </tr>\n",
       "    <tr>\n",
       "      <th>20975</th>\n",
       "      <td>None</td>\n",
       "    </tr>\n",
       "    <tr>\n",
       "      <th>22296</th>\n",
       "      <td>None</td>\n",
       "    </tr>\n",
       "    <tr>\n",
       "      <th>22366</th>\n",
       "      <td>None</td>\n",
       "    </tr>\n",
       "    <tr>\n",
       "      <th>22709</th>\n",
       "      <td>None</td>\n",
       "    </tr>\n",
       "    <tr>\n",
       "      <th>22735</th>\n",
       "      <td>None</td>\n",
       "    </tr>\n",
       "    <tr>\n",
       "      <th>23657</th>\n",
       "      <td>None</td>\n",
       "    </tr>\n",
       "    <tr>\n",
       "      <th>26782</th>\n",
       "      <td>None</td>\n",
       "    </tr>\n",
       "    <tr>\n",
       "      <th>...</th>\n",
       "      <td>...</td>\n",
       "    </tr>\n",
       "    <tr>\n",
       "      <th>1768012</th>\n",
       "      <td>None</td>\n",
       "    </tr>\n",
       "    <tr>\n",
       "      <th>1768206</th>\n",
       "      <td>None</td>\n",
       "    </tr>\n",
       "    <tr>\n",
       "      <th>1768224</th>\n",
       "      <td>None</td>\n",
       "    </tr>\n",
       "    <tr>\n",
       "      <th>1769267</th>\n",
       "      <td>None</td>\n",
       "    </tr>\n",
       "    <tr>\n",
       "      <th>1769624</th>\n",
       "      <td>None</td>\n",
       "    </tr>\n",
       "    <tr>\n",
       "      <th>1769663</th>\n",
       "      <td>None</td>\n",
       "    </tr>\n",
       "    <tr>\n",
       "      <th>1769725</th>\n",
       "      <td>None</td>\n",
       "    </tr>\n",
       "    <tr>\n",
       "      <th>1769804</th>\n",
       "      <td>None</td>\n",
       "    </tr>\n",
       "    <tr>\n",
       "      <th>1770141</th>\n",
       "      <td>None</td>\n",
       "    </tr>\n",
       "    <tr>\n",
       "      <th>1770202</th>\n",
       "      <td>None</td>\n",
       "    </tr>\n",
       "    <tr>\n",
       "      <th>1770251</th>\n",
       "      <td>None</td>\n",
       "    </tr>\n",
       "    <tr>\n",
       "      <th>1770450</th>\n",
       "      <td>None</td>\n",
       "    </tr>\n",
       "    <tr>\n",
       "      <th>1770561</th>\n",
       "      <td>None</td>\n",
       "    </tr>\n",
       "    <tr>\n",
       "      <th>1771077</th>\n",
       "      <td>None</td>\n",
       "    </tr>\n",
       "    <tr>\n",
       "      <th>1771515</th>\n",
       "      <td>None</td>\n",
       "    </tr>\n",
       "    <tr>\n",
       "      <th>1771908</th>\n",
       "      <td>None</td>\n",
       "    </tr>\n",
       "    <tr>\n",
       "      <th>1771917</th>\n",
       "      <td>None</td>\n",
       "    </tr>\n",
       "    <tr>\n",
       "      <th>1771928</th>\n",
       "      <td>None</td>\n",
       "    </tr>\n",
       "    <tr>\n",
       "      <th>1772695</th>\n",
       "      <td>None</td>\n",
       "    </tr>\n",
       "    <tr>\n",
       "      <th>1772704</th>\n",
       "      <td>None</td>\n",
       "    </tr>\n",
       "    <tr>\n",
       "      <th>1772720</th>\n",
       "      <td>None</td>\n",
       "    </tr>\n",
       "    <tr>\n",
       "      <th>1772757</th>\n",
       "      <td>None</td>\n",
       "    </tr>\n",
       "    <tr>\n",
       "      <th>1773087</th>\n",
       "      <td>None</td>\n",
       "    </tr>\n",
       "    <tr>\n",
       "      <th>1773383</th>\n",
       "      <td>None</td>\n",
       "    </tr>\n",
       "    <tr>\n",
       "      <th>1773751</th>\n",
       "      <td>None</td>\n",
       "    </tr>\n",
       "    <tr>\n",
       "      <th>1774155</th>\n",
       "      <td>None</td>\n",
       "    </tr>\n",
       "    <tr>\n",
       "      <th>1774675</th>\n",
       "      <td>None</td>\n",
       "    </tr>\n",
       "    <tr>\n",
       "      <th>1776048</th>\n",
       "      <td>None</td>\n",
       "    </tr>\n",
       "    <tr>\n",
       "      <th>1776661</th>\n",
       "      <td>None</td>\n",
       "    </tr>\n",
       "    <tr>\n",
       "      <th>1777393</th>\n",
       "      <td>None</td>\n",
       "    </tr>\n",
       "  </tbody>\n",
       "</table>\n",
       "<p>3882 rows × 1 columns</p>\n",
       "</div>"
      ],
      "text/plain": [
       "            0\n",
       "1988     None\n",
       "2435     None\n",
       "2880     None\n",
       "3228     None\n",
       "4438     None\n",
       "5177     None\n",
       "5696     None\n",
       "6992     None\n",
       "7119     None\n",
       "9696     None\n",
       "11545    None\n",
       "11821    None\n",
       "11856    None\n",
       "12473    None\n",
       "12953    None\n",
       "13839    None\n",
       "15354    None\n",
       "15876    None\n",
       "17482    None\n",
       "17544    None\n",
       "18620    None\n",
       "18905    None\n",
       "18912    None\n",
       "20975    None\n",
       "22296    None\n",
       "22366    None\n",
       "22709    None\n",
       "22735    None\n",
       "23657    None\n",
       "26782    None\n",
       "...       ...\n",
       "1768012  None\n",
       "1768206  None\n",
       "1768224  None\n",
       "1769267  None\n",
       "1769624  None\n",
       "1769663  None\n",
       "1769725  None\n",
       "1769804  None\n",
       "1770141  None\n",
       "1770202  None\n",
       "1770251  None\n",
       "1770450  None\n",
       "1770561  None\n",
       "1771077  None\n",
       "1771515  None\n",
       "1771908  None\n",
       "1771917  None\n",
       "1771928  None\n",
       "1772695  None\n",
       "1772704  None\n",
       "1772720  None\n",
       "1772757  None\n",
       "1773087  None\n",
       "1773383  None\n",
       "1773751  None\n",
       "1774155  None\n",
       "1774675  None\n",
       "1776048  None\n",
       "1776661  None\n",
       "1777393  None\n",
       "\n",
       "[3882 rows x 1 columns]"
      ]
     },
     "execution_count": 25,
     "metadata": {},
     "output_type": "execute_result"
    }
   ],
   "source": [
    "final4.T"
   ]
  },
  {
   "cell_type": "code",
   "execution_count": 33,
   "metadata": {},
   "outputs": [
    {
     "data": {
      "text/plain": [
       "6986410    edgar/data/1369017/0001136999-07-000585-index....\n",
       "6986411    edgar/data/1369031/0001369031-07-000006-index....\n",
       "6986412    edgar/data/1369057/0001056404-07-001261-index....\n",
       "6986413    edgar/data/1369060/0000950137-07-004820-index....\n",
       "6986414    edgar/data/1369100/0001369100-07-000006-index....\n",
       "6986415    edgar/data/1369101/0001369101-07-000006-index....\n",
       "6986416    edgar/data/1369105/0001285495-07-000019-index....\n",
       "6986417    edgar/data/1369106/0001285495-07-000018-index....\n",
       "6986418    edgar/data/1369107/0000950137-07-004821-index....\n",
       "6986419    edgar/data/1369137/0001369137-07-000008-index....\n",
       "6986420    edgar/data/1369168/0001369168-07-000002-index....\n",
       "6986421    edgar/data/1369175/0001136999-07-000478-index....\n",
       "6986422    edgar/data/1369197/0001369197-07-000006-index....\n",
       "6986423    edgar/data/1369221/0001056404-07-001215-index....\n",
       "6986424    edgar/data/1369285/0001369285-07-000001-index....\n",
       "6986425    edgar/data/1369367/0001019965-07-000201-index....\n",
       "6986426    edgar/data/1369413/0001056404-07-001300-index....\n",
       "6986427    edgar/data/1369462/0000905148-07-002693-index....\n",
       "6986428    edgar/data/1369463/0000905148-07-002797-index....\n",
       "6986429    edgar/data/1369465/0001019965-07-000155-index....\n",
       "6986430    edgar/data/1369467/0001056404-07-001193-index....\n",
       "6986431    edgar/data/1369504/0001369504-07-000006-index....\n",
       "6986432    edgar/data/1369665/0001369665-07-000006-index....\n",
       "6986433    edgar/data/1369689/0001056404-07-001336-index....\n",
       "6986434    edgar/data/1369690/0001051170-07-000111-index....\n",
       "6986435    edgar/data/1369736/0000905148-07-002720-index....\n",
       "6986436    edgar/data/1370175/0001370175-07-000006-index....\n",
       "6986437    edgar/data/1370218/0000950133-07-001369-index....\n",
       "6986438    edgar/data/1370219/0000950133-07-001370-index....\n",
       "6986439    edgar/data/1370220/0000950133-07-001371-index....\n",
       "                                 ...                        \n",
       "6999918                                                  nan\n",
       "6999919                                                  nan\n",
       "6999920                                                  nan\n",
       "6999921                                                  nan\n",
       "6999922                                                  nan\n",
       "6999923                                                  nan\n",
       "6999925                                                  nan\n",
       "6999927                                                  nan\n",
       "6999928                                                  nan\n",
       "6999929                                                  nan\n",
       "6999930                                                  nan\n",
       "6999931                                                  nan\n",
       "6999932                                                  nan\n",
       "6999933                                                  nan\n",
       "6999934                                                  nan\n",
       "6999935                                                  nan\n",
       "6999936                                                  nan\n",
       "6999937                                                  nan\n",
       "6999938                                                  nan\n",
       "6999939                                                  nan\n",
       "6999940                                                  nan\n",
       "6999941                                                  nan\n",
       "6999942                                                  nan\n",
       "6999943                                                  nan\n",
       "6999945                                                  nan\n",
       "6999946                                                  nan\n",
       "6999947                                                  nan\n",
       "6999949                                                  nan\n",
       "6999950                                                  nan\n",
       "6999951                                                  nan\n",
       "Name: URL_html_x, Length: 3882, dtype: object"
      ]
     },
     "execution_count": 33,
     "metadata": {},
     "output_type": "execute_result"
    }
   ],
   "source": [
    "df10['URL_html_x']"
   ]
  },
  {
   "cell_type": "code",
   "execution_count": 29,
   "metadata": {},
   "outputs": [
    {
     "data": {
      "text/plain": [
       "'edgar/data/1369017/0001136999-07-000585-index.html'"
      ]
     },
     "execution_count": 29,
     "metadata": {},
     "output_type": "execute_result"
    }
   ],
   "source": [
    "df10['URL_html_x'].iloc[0]"
   ]
  },
  {
   "cell_type": "code",
   "execution_count": null,
   "metadata": {},
   "outputs": [],
   "source": []
  },
  {
   "cell_type": "code",
   "execution_count": null,
   "metadata": {},
   "outputs": [],
   "source": []
  },
  {
   "cell_type": "code",
   "execution_count": null,
   "metadata": {},
   "outputs": [],
   "source": [
    "#Old Code - Not needed"
   ]
  },
  {
   "cell_type": "code",
   "execution_count": null,
   "metadata": {},
   "outputs": [],
   "source": [
    "new_master = master_df.merge(df_un, how='left', on='CIK')"
   ]
  },
  {
   "cell_type": "code",
   "execution_count": null,
   "metadata": {},
   "outputs": [],
   "source": [
    "new_master.fillna(method='ffil')"
   ]
  },
  {
   "cell_type": "code",
   "execution_count": 94,
   "metadata": {},
   "outputs": [],
   "source": [
    "download = requests.get('https://www.sec.gov/Archives/edgar/data/1002638/0001002638-19-000014-index.html')\n",
    "soup1 = BeautifulSoup(download.content, 'html')"
   ]
  },
  {
   "cell_type": "code",
   "execution_count": 99,
   "metadata": {},
   "outputs": [
    {
     "data": {
      "text/plain": [
       "[<b><a href=\"/cgi-bin/browse-edgar?action=getcompany&amp;SIC=6153&amp;owner=include\">6153</a></b>]"
      ]
     },
     "execution_count": 99,
     "metadata": {},
     "output_type": "execute_result"
    }
   ],
   "source": [
    "soup1.find_all('b')"
   ]
  },
  {
   "cell_type": "code",
   "execution_count": 101,
   "metadata": {},
   "outputs": [],
   "source": [
    "download = requests.get('https://www.sec.gov/Archives/edgar/data/1000097/0001000097-19-000004-index.html')\n",
    "soup = BeautifulSoup(download.content, 'html')"
   ]
  },
  {
   "cell_type": "code",
   "execution_count": 103,
   "metadata": {},
   "outputs": [
    {
     "data": {
      "text/plain": [
       "[]"
      ]
     },
     "execution_count": 103,
     "metadata": {},
     "output_type": "execute_result"
    }
   ],
   "source": [
    "soup.find_all('b')"
   ]
  },
  {
   "cell_type": "code",
   "execution_count": 85,
   "metadata": {},
   "outputs": [
    {
     "data": {
      "text/plain": [
       "[<b>[Amend]</b>,\n",
       " <b><a href=\"/cgi-bin/browse-edgar?action=getcompany&amp;SIC=6153&amp;owner=include\">6153</a></b>]"
      ]
     },
     "execution_count": 85,
     "metadata": {},
     "output_type": "execute_result"
    }
   ],
   "source": [
    "soup.find_all('b')"
   ]
  },
  {
   "cell_type": "code",
   "execution_count": 87,
   "metadata": {},
   "outputs": [],
   "source": [
    "soup = BeautifulSoup('<b><a href=\"/cgi-bin/browse-edgar?action=getcompany&amp;SIC=6153&amp;owner=include\">6153</a></b>', 'html')"
   ]
  },
  {
   "cell_type": "code",
   "execution_count": 89,
   "metadata": {},
   "outputs": [
    {
     "data": {
      "text/plain": [
       "<b><a href=\"/cgi-bin/browse-edgar?action=getcompany&amp;SIC=6153&amp;owner=include\">6153</a></b>"
      ]
     },
     "execution_count": 89,
     "metadata": {},
     "output_type": "execute_result"
    }
   ],
   "source": [
    "soup.b"
   ]
  },
  {
   "cell_type": "code",
   "execution_count": null,
   "metadata": {},
   "outputs": [],
   "source": []
  },
  {
   "cell_type": "code",
   "execution_count": null,
   "metadata": {},
   "outputs": [],
   "source": []
  },
  {
   "cell_type": "code",
   "execution_count": null,
   "metadata": {},
   "outputs": [],
   "source": []
  },
  {
   "cell_type": "code",
   "execution_count": null,
   "metadata": {},
   "outputs": [],
   "source": [
    "download = requests.get(co_url)"
   ]
  },
  {
   "cell_type": "code",
   "execution_count": null,
   "metadata": {},
   "outputs": [],
   "source": [
    "soup = BeautifulSoup(download.content, 'html')"
   ]
  },
  {
   "cell_type": "code",
   "execution_count": null,
   "metadata": {},
   "outputs": [],
   "source": [
    "soup"
   ]
  },
  {
   "cell_type": "code",
   "execution_count": null,
   "metadata": {},
   "outputs": [],
   "source": [
    "soup.find('b').text"
   ]
  },
  {
   "cell_type": "code",
   "execution_count": null,
   "metadata": {},
   "outputs": [],
   "source": [
    "def download_summary(co_url):\n",
    "\n",
    "    ## Function to retrieve the 10-K Summary which contains links to individual reports\n",
    "    ## Expects input from index_url function\n",
    "    \n",
    "    download = requests.get(co_url).json()\n",
    "    \n",
    "    xml_summary = r'https://www.sec.gov'\n",
    "    \n",
    "    for item in download['directory']['item']:\n",
    "        if item['name'] == 'FilingSummary.xml':\n",
    "            xml_summary += download['directory']['name']+'/' + item['name']\n",
    "\n",
    "    new_base_url = xml_summary.replace('FilingSummary.xml', '')\n",
    "    content = requests.get(xml_summary).content\n",
    "    \n",
    "    #Using BS4 to parse the XML content\n",
    "    soup = BeautifulSoup(content, 'lxml')\n",
    "    reports = soup.find('myreports')\n",
    "    \n",
    "    if reports is None:\n",
    "        print('---------------------')\n",
    "        print('Sorry, no reports were found for this company!')\n",
    "        print('Please try a different public company!')\n",
    "        print('---------------------')\n",
    "        pass\n",
    "    \n",
    "    return new_base_url, reports"
   ]
  },
  {
   "cell_type": "code",
   "execution_count": null,
   "metadata": {},
   "outputs": [],
   "source": []
  },
  {
   "cell_type": "code",
   "execution_count": null,
   "metadata": {},
   "outputs": [],
   "source": []
  },
  {
   "cell_type": "code",
   "execution_count": null,
   "metadata": {},
   "outputs": [],
   "source": []
  },
  {
   "cell_type": "code",
   "execution_count": null,
   "metadata": {},
   "outputs": [],
   "source": []
  },
  {
   "cell_type": "code",
   "execution_count": null,
   "metadata": {},
   "outputs": [],
   "source": []
  },
  {
   "cell_type": "code",
   "execution_count": null,
   "metadata": {},
   "outputs": [],
   "source": [
    "# Function to query database by company:\n",
    "\n",
    "def select_company(company_names):\n",
    "    \n",
    "    ## Function to query the index by company name\n",
    "    ## Expects list of company names to execute select query\n",
    "    \n",
    "    ##Connect to DB:\n",
    "    conn = psycopg2.connect(\"host=localhost dbname=postgres user=postgres password=Paolino1\")\n",
    "    cur = conn.cursor()\n",
    "    \n",
    "    ##Create Query:\n",
    "    SQL = 'SELECT * FROM IX WHERE Company_Name IN %(list)s;'\n",
    "    cur.execute(SQL, {\n",
    "        'list':tuple(company_names),\n",
    "    })\n",
    "    \n",
    "    #Present query results:\n",
    "    output = cur.fetchall()\n",
    "    columns = ['CIK', 'Company_Name', 'Filing_Type', 'Filing_Date', 'URL_txt', 'URL_html']\n",
    "    result = pd.DataFrame(output, columns=columns)\n",
    "    \n",
    "    ##Closing DB connection:\n",
    "    cur.close()\n",
    "    conn.close()\n",
    "    \n",
    "    return result"
   ]
  },
  {
   "cell_type": "code",
   "execution_count": null,
   "metadata": {},
   "outputs": [],
   "source": [
    "#Sample query to retrieve index data for Amazon and American Airlines:\n",
    "df_co_name = select_company(['AMAZON COM INC', 'AMERICAN AIRLINES INC'])"
   ]
  },
  {
   "cell_type": "code",
   "execution_count": null,
   "metadata": {},
   "outputs": [],
   "source": [
    "#Checking that both Amazon and AA were found:\n",
    "df_co_name.Company_Name.unique()"
   ]
  },
  {
   "cell_type": "code",
   "execution_count": null,
   "metadata": {},
   "outputs": [],
   "source": [
    "# Function to query database by CIK:\n",
    "\n",
    "def select_cik(company_ciks):\n",
    "    \n",
    "    ## Function to query the index by CIK\n",
    "    \n",
    "    ##Connect to DB:\n",
    "    conn = psycopg2.connect(\"host=localhost dbname=postgres user=postgres password=Paolino1\")\n",
    "    cur = conn.cursor()\n",
    "    \n",
    "    ##Create Query:\n",
    "    SQL = 'SELECT * FROM IX WHERE CIK IN %(list)s;'\n",
    "    cur.execute(SQL, {\n",
    "        'list':tuple(company_ciks),\n",
    "    })\n",
    "    \n",
    "    #Present query results:\n",
    "    output = cur.fetchall()\n",
    "    columns = ['CIK', 'Company_Name', 'Filing_Type', 'Filing_Date', 'URL_txt', 'URL_html']\n",
    "    result = pd.DataFrame(output, columns=columns)\n",
    "    \n",
    "    ##Closing DB connection:\n",
    "    cur.close()\n",
    "    conn.close()\n",
    "    \n",
    "    return result"
   ]
  },
  {
   "cell_type": "code",
   "execution_count": null,
   "metadata": {},
   "outputs": [],
   "source": [
    "df_cik = select_cik([1018724, 100030])"
   ]
  },
  {
   "cell_type": "code",
   "execution_count": null,
   "metadata": {},
   "outputs": [],
   "source": [
    "df_cik.CIK.unique()"
   ]
  },
  {
   "cell_type": "markdown",
   "metadata": {},
   "source": [
    "### ETL  "
   ]
  },
  {
   "cell_type": "markdown",
   "metadata": {},
   "source": [
    "You will have to enter DB login credentials here:"
   ]
  },
  {
   "cell_type": "code",
   "execution_count": 24,
   "metadata": {},
   "outputs": [],
   "source": [
    "conn = psycopg2.connect(\"host=localhost dbname=postgres user=postgres password=Paolino1\")"
   ]
  },
  {
   "cell_type": "code",
   "execution_count": 25,
   "metadata": {},
   "outputs": [],
   "source": [
    "cur = conn.cursor()"
   ]
  },
  {
   "cell_type": "code",
   "execution_count": 26,
   "metadata": {},
   "outputs": [],
   "source": [
    "#Only run once\n",
    "#cur.execute(\"\"\"CREATE TABLE SIC(CIK integer, Company_Name text, Filing_Type text,Filing_Date text,URL_text text, URL_html text)\"\"\")"
   ]
  },
  {
   "cell_type": "code",
   "execution_count": 27,
   "metadata": {},
   "outputs": [],
   "source": [
    "#Only run once\n",
    "with open('data_sic/master.csv', 'r', encoding='utf-8') as f:\n",
    "    #cur.copy_from(f, 'new_index', sep='@')\n",
    "    cur.copy_expert(\"COPY SIC FROM STDIN WITH CSV HEADER DELIMITER AS '@'\", f)\n",
    "    conn.commit()"
   ]
  },
  {
   "cell_type": "code",
   "execution_count": 28,
   "metadata": {},
   "outputs": [],
   "source": [
    "#Only run once\n",
    "#del master_df"
   ]
  },
  {
   "cell_type": "code",
   "execution_count": 29,
   "metadata": {},
   "outputs": [],
   "source": [
    "#Checking simple query\n",
    "cur.execute('SELECT Company_Name FROM SIC LIMIT 10')"
   ]
  },
  {
   "cell_type": "code",
   "execution_count": 30,
   "metadata": {},
   "outputs": [],
   "source": [
    "query = cur.fetchall()"
   ]
  },
  {
   "cell_type": "code",
   "execution_count": 31,
   "metadata": {},
   "outputs": [
    {
     "data": {
      "text/plain": [
       "[('NICHOLAS FINANCIAL INC',),\n",
       " ('NICHOLAS FINANCIAL INC',),\n",
       " ('NICHOLAS FINANCIAL INC',),\n",
       " ('NICHOLAS FINANCIAL INC',),\n",
       " ('NICHOLAS FINANCIAL INC',),\n",
       " ('NICHOLAS FINANCIAL INC',),\n",
       " ('KINGDON CAPITAL MANAGEMENT, L.L.C.',),\n",
       " ('NORDIC AMERICAN TANKERS Ltd',),\n",
       " ('NORDIC AMERICAN TANKERS Ltd',),\n",
       " ('NORDIC AMERICAN TANKERS Ltd',)]"
      ]
     },
     "execution_count": 31,
     "metadata": {},
     "output_type": "execute_result"
    }
   ],
   "source": [
    "query"
   ]
  },
  {
   "cell_type": "code",
   "execution_count": 32,
   "metadata": {},
   "outputs": [],
   "source": [
    "cur.close()"
   ]
  },
  {
   "cell_type": "code",
   "execution_count": 33,
   "metadata": {},
   "outputs": [],
   "source": [
    "conn.close()"
   ]
  },
  {
   "cell_type": "code",
   "execution_count": 34,
   "metadata": {},
   "outputs": [],
   "source": [
    "#Cleaning directory\n",
    "#The data is now only in the database\n",
    "#!rm data_sic/*sv"
   ]
  },
  {
   "cell_type": "markdown",
   "metadata": {},
   "source": [
    "Reference for XML Table Schema: https://www.w3schools.com/html/html_tables.asp"
   ]
  },
  {
   "cell_type": "code",
   "execution_count": null,
   "metadata": {},
   "outputs": [],
   "source": [
    "import requests\n",
    "from bs4 import BeautifulSoup\n",
    "import lxml"
   ]
  },
  {
   "cell_type": "code",
   "execution_count": null,
   "metadata": {},
   "outputs": [],
   "source": [
    "def index_url(df, base_url = r\"https://www.sec.gov/Archives/\"):\n",
    "    \n",
    "    ## Function to retrieve url for 2018 10-K\n",
    "    ## Expects input from select_company function\n",
    "    \n",
    "    #Returning 10-K from 2018. If it does not exist, returning most recent 10-K\n",
    "    \n",
    "    df_recent = df[(df['Filing_Type'] == '10-K')&(df['Filing_Date'].str.contains('2018'))]\n",
    "    \n",
    "    if len(df_recent) == 0:\n",
    "        \n",
    "        df_recent = df[(df['Filing_Type'] == '10-K')].sort_values('Filing_Date', ascending=False)\n",
    "        \n",
    "        if len(df_recent) == 0:\n",
    "            print('No 10-K available for this company')\n",
    "        else:\n",
    "            declination = df_recent[['URL_txt']].iloc[0][0]\n",
    "    \n",
    "    declination = df_recent[['URL_txt']].iloc[0][0]\n",
    "    \n",
    "    declination = declination.replace(\"-\",\"\").replace(\".txt\",\"/index.json\")\n",
    "    \n",
    "    return base_url + declination"
   ]
  },
  {
   "cell_type": "code",
   "execution_count": null,
   "metadata": {},
   "outputs": [],
   "source": [
    "def download_summary(co_url):\n",
    "\n",
    "    ## Function to retrieve the 10-K Summary which contains links to individual reports\n",
    "    ## Expects input from index_url function\n",
    "    \n",
    "    download = requests.get(co_url).json()\n",
    "    \n",
    "    xml_summary = r'https://www.sec.gov'\n",
    "    \n",
    "    for item in download['directory']['item']:\n",
    "        if item['name'] == 'FilingSummary.xml':\n",
    "            xml_summary += download['directory']['name']+'/' + item['name']\n",
    "\n",
    "    new_base_url = xml_summary.replace('FilingSummary.xml', '')\n",
    "    content = requests.get(xml_summary).content\n",
    "    \n",
    "    #Using BS4 to parse the XML content\n",
    "    soup = BeautifulSoup(content, 'lxml')\n",
    "    reports = soup.find('myreports')\n",
    "    \n",
    "    if reports is None:\n",
    "        print('---------------------')\n",
    "        print('Sorry, no reports were found for this company!')\n",
    "        print('Please try a different public company!')\n",
    "        print('---------------------')\n",
    "        pass\n",
    "    \n",
    "    return new_base_url, reports"
   ]
  },
  {
   "cell_type": "code",
   "execution_count": null,
   "metadata": {},
   "outputs": [],
   "source": [
    "def show_statements(reports):\n",
    "    \n",
    "    #Function to select among available statements contained in the 10-K:\n",
    "    print('------------------------')\n",
    "    print('Please select the reports you would like to include in your download')\n",
    "    print('Copy your selections into the user input provided by the select_reports function')\n",
    "    print('------------------------')\n",
    "    \n",
    "    if reports is None:\n",
    "        \n",
    "        print('---------------------')\n",
    "        print('Sorry, no reports were found for this company!')\n",
    "        print('Please try a different public company!')\n",
    "        print('---------------------')\n",
    "        pass\n",
    "    \n",
    "    all_reports = []\n",
    "    for report in reports.find_all('report'):\n",
    "        print(report.shortname.text)\n",
    "        all_reports.append(report.shortname.text)\n",
    "\n",
    "    return all_reports"
   ]
  },
  {
   "cell_type": "code",
   "execution_count": null,
   "metadata": {},
   "outputs": [],
   "source": [
    "def select_reports(all_reports):\n",
    "    \n",
    "    all_selections = []\n",
    "    \n",
    "    while len(all_selections)<4:\n",
    "        \n",
    "        selected = input()\n",
    "        \n",
    "        if selected not in all_reports:\n",
    "            print('Your entry is not valid')\n",
    "            print('Please copy/paste a report name from the list above.')\n",
    "            print('Please do not use quotes when entering the report name.')\n",
    "        else:\n",
    "            print('-----')\n",
    "            print('You have entered a valid report!')\n",
    "            print('Please enter another report from the list above.')\n",
    "            print('\\n')\n",
    "            all_selections.append(selected)\n",
    "            \n",
    "    return all_selections"
   ]
  },
  {
   "cell_type": "code",
   "execution_count": null,
   "metadata": {},
   "outputs": [],
   "source": [
    "def statements_urls(new_base_url, reports, short_names):\n",
    "    \n",
    "    #Function to create the 4 URL's associated with each Financial Statement Report (see list below)\n",
    "    #Expectes input from download_summary and pick_statments functions\n",
    "    \n",
    "    #Empty dictionary with URL's to downloaded reports\n",
    "    statements_urls = {}\n",
    "    \n",
    "    #Iterating through different reports in the index\n",
    "    for report in reports.find_all('report'):\n",
    "        if report.shortname.text in short_names:\n",
    "            #print('URL for '+report.shortname.text)\n",
    "            #print(new_base_url+report.htmlfilename.text)\n",
    "            statements_urls[report.shortname.text] = new_base_url+report.htmlfilename.text\n",
    "\n",
    "    return statements_urls"
   ]
  },
  {
   "cell_type": "code",
   "execution_count": null,
   "metadata": {},
   "outputs": [],
   "source": [
    "def statements_data(statements_urls):\n",
    "    \n",
    "    ## Function scrapes financial statements at URL's found and returns a dictionary of unparsed data   \n",
    "    ## Expects dictionary output by statements_url function\n",
    "    \n",
    "    stm_data = {}\n",
    "    for key, url in statements_urls.items():\n",
    "        \n",
    "        statement_data = {}\n",
    "        statement_data['headers'] = []\n",
    "        statement_data['sections'] = []\n",
    "        statement_data['data'] = []\n",
    "\n",
    "        content = requests.get(url).content\n",
    "        soup = BeautifulSoup(content, 'html')\n",
    "\n",
    "        for index, row in enumerate(soup.table.find_all('tr')):\n",
    "\n",
    "            cols = row.find_all('td')\n",
    "\n",
    "            if (len(row.find_all('th')) == 0 and len(row.find_all('strong')) == 0): \n",
    "                reg_row = [dt.text.strip() for dt in cols]\n",
    "                statement_data['data'].append(reg_row)\n",
    "\n",
    "            elif (len(row.find_all('th')) == 0 and len(row.find_all('strong')) != 0):\n",
    "                sec_row = cols[0].text.strip()\n",
    "                statement_data['sections'].append(sec_row)\n",
    "\n",
    "            elif (len(row.find_all('th')) != 0):            \n",
    "                hed_row = [dt.text.strip() for dt in row.find_all('th')]\n",
    "                statement_data['headers'].append(hed_row)\n",
    "\n",
    "            else:            \n",
    "                print('Error.')\n",
    "\n",
    "        stm_data[key] = statement_data   \n",
    "        \n",
    "    return stm_data"
   ]
  },
  {
   "cell_type": "code",
   "execution_count": null,
   "metadata": {},
   "outputs": [],
   "source": [
    "def financial_statements(stm_data):\n",
    "    \n",
    "    ## Function to create dictionary containing the four reports that make up a financial statement\n",
    "    ## Expects inputs from statements_data function\n",
    "\n",
    "    financial_statements = {}\n",
    "    for key, statement in stm_data.items():\n",
    "\n",
    "        header =  statement['headers']\n",
    "        data = statement['data']\n",
    "        df = pd.DataFrame(data)\n",
    "\n",
    "        #Some formatting to make sure every df is presented well regardless of dimension\n",
    "        df = df.replace('[\\$,)]','', regex=True )\\\n",
    "                             .replace( '[(]','-', regex=True)\\\n",
    "                             .replace( '', 'NaN', regex=True)\\\n",
    "                             .replace( '\\[.*?]', 'NaN', regex=True)\n",
    "\n",
    "        df.index = df.iloc[:,0]\n",
    "\n",
    "        df = df.drop(df.columns[0], axis=1)\n",
    "\n",
    "        df = df.replace('((?:[ a-z ]+\\S*\\d+|\\d\\S*[a-z]+)[a-z\\d_-]*)', 'NaN', regex=True)\\\n",
    "                        .replace('[^0-9]','', regex=True)\\\n",
    "                        .replace('',np.nan, regex=True)\n",
    "\n",
    "        df.fillna(value=pd.np.nan, inplace=True)\n",
    "        df = df.dropna(axis=1, how='all')\n",
    "        df = df.dropna(axis=0, how='all')\n",
    "\n",
    "        var = df.shape[1]\n",
    "        temp = [i for sublist in header for i in sublist]\n",
    "        df.columns = temp[-var:]\n",
    "        df.index.name = temp[0]\n",
    "\n",
    "        df = df.apply(pd.to_numeric)\n",
    "\n",
    "        #Appending All 4 Statements to Dictionary:\n",
    "        financial_statements[key]=df\n",
    "        \n",
    "    return financial_statements"
   ]
  },
  {
   "cell_type": "code",
   "execution_count": null,
   "metadata": {},
   "outputs": [],
   "source": [
    "def run_all(df_co_name):\n",
    "    \n",
    "    #Function executes all functions to retrieve Financial Statements for all listed companies\n",
    "    #Returns a dictionary whose key is the company CIK and values are the 4 statements\n",
    "    \n",
    "    uniques = df_co_name.Company_Name.unique()\n",
    "    df_list = []\n",
    "    \n",
    "    company_statements_dict = {}\n",
    "    \n",
    "    for val in uniques:\n",
    "        df_list.append(df_co_name[df_co_name['Company_Name'] == val])\n",
    "        \n",
    "    #Executing all functions in sequence:\n",
    "    for df in df_list:\n",
    "        #Retrieving url\n",
    "        df_url = index_url(df, base_url = r\"https://www.sec.gov/Archives/\")\n",
    "        #Downloading index\n",
    "        new_base_url, reports = download_summary(df_url)\n",
    "        #Showing all reports for company\n",
    "        all_reports = show_statements(reports)\n",
    "        #Selecting 4 reports\n",
    "        selected_reports = select_reports(all_reports)\n",
    "        #Selecting URL's for each report\n",
    "        urls = statements_urls(new_base_url, reports, selected_reports)\n",
    "        #Downloading statements\n",
    "        stm_data = statements_data(urls)\n",
    "        #Converting statements into Pandas Dataframes\n",
    "        statements_dict = financial_statements(stm_data)\n",
    "        #Loading dictionary containing all statements for all input companies:\n",
    "        key = df.Company_Name.unique()[0]\n",
    "        company_statements_dict[key] = statements_dict\n",
    "        \n",
    "        \n",
    "    return company_statements_dict"
   ]
  },
  {
   "cell_type": "markdown",
   "metadata": {},
   "source": [
    "#### Run the following Function and pick the statements you want to download"
   ]
  },
  {
   "cell_type": "code",
   "execution_count": null,
   "metadata": {},
   "outputs": [],
   "source": [
    "out = run_all(df_co_name)"
   ]
  },
  {
   "cell_type": "code",
   "execution_count": null,
   "metadata": {},
   "outputs": [],
   "source": [
    "print('Financial statements for the followign companies have been downloaded:')\n",
    "print(out.keys())"
   ]
  },
  {
   "cell_type": "code",
   "execution_count": null,
   "metadata": {},
   "outputs": [],
   "source": [
    "print('The following statements for each company have been downloaded for AA:')\n",
    "print(out['AMERICAN AIRLINES INC'].keys())"
   ]
  },
  {
   "cell_type": "code",
   "execution_count": null,
   "metadata": {},
   "outputs": [],
   "source": [
    "print('The following statements for each company have been downloaded for Amazon:')\n",
    "print(out['AMAZON COM INC'].keys())"
   ]
  },
  {
   "cell_type": "markdown",
   "metadata": {},
   "source": [
    "American Airlines"
   ]
  },
  {
   "cell_type": "code",
   "execution_count": null,
   "metadata": {},
   "outputs": [],
   "source": [
    "out['AMERICAN AIRLINES INC']['Consolidated Statements of Comprehensive Income']"
   ]
  },
  {
   "cell_type": "code",
   "execution_count": null,
   "metadata": {},
   "outputs": [],
   "source": [
    "out['AMERICAN AIRLINES INC']['Consolidated Balance Sheets']"
   ]
  },
  {
   "cell_type": "code",
   "execution_count": null,
   "metadata": {},
   "outputs": [],
   "source": [
    "out['AMERICAN AIRLINES INC']['Consolidated Statements of Cash Flows']"
   ]
  },
  {
   "cell_type": "code",
   "execution_count": null,
   "metadata": {},
   "outputs": [],
   "source": [
    "out['AMERICAN AIRLINES INC'][\"Consolidated Statements of Stockholders' Equity\"]"
   ]
  },
  {
   "cell_type": "markdown",
   "metadata": {},
   "source": [
    "Amazon"
   ]
  },
  {
   "cell_type": "code",
   "execution_count": null,
   "metadata": {},
   "outputs": [],
   "source": [
    "out['AMAZON COM INC']['Consolidated Statements of Cash Flows']"
   ]
  },
  {
   "cell_type": "code",
   "execution_count": null,
   "metadata": {},
   "outputs": [],
   "source": [
    "out['AMAZON COM INC']['Consolidated Statements of Comprehensive Income']"
   ]
  },
  {
   "cell_type": "code",
   "execution_count": null,
   "metadata": {},
   "outputs": [],
   "source": [
    "out['AMAZON COM INC']['Consolidated Balance Sheets']"
   ]
  },
  {
   "cell_type": "code",
   "execution_count": null,
   "metadata": {},
   "outputs": [],
   "source": [
    "out['AMAZON COM INC'][\"Consolidated Statements of Stockholders' Equity\"]"
   ]
  },
  {
   "cell_type": "code",
   "execution_count": null,
   "metadata": {},
   "outputs": [],
   "source": []
  }
 ],
 "metadata": {
  "kernelspec": {
   "display_name": "py36",
   "language": "python",
   "name": "py36"
  },
  "language_info": {
   "codemirror_mode": {
    "name": "ipython",
    "version": 3
   },
   "file_extension": ".py",
   "mimetype": "text/x-python",
   "name": "python",
   "nbconvert_exporter": "python",
   "pygments_lexer": "ipython3",
   "version": "3.6.7"
  }
 },
 "nbformat": 4,
 "nbformat_minor": 2
}
