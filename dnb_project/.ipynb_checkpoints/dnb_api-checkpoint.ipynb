{
 "cells": [
  {
   "cell_type": "markdown",
   "metadata": {},
   "source": [
    "# D&B Direct Python API"
   ]
  },
  {
   "cell_type": "code",
   "execution_count": 1,
   "metadata": {},
   "outputs": [],
   "source": [
    "import pandas as pd\n",
    "import numpy as np\n",
    "import requests"
   ]
  },
  {
   "cell_type": "code",
   "execution_count": null,
   "metadata": {},
   "outputs": [],
   "source": [
    "def get_dnb_token(username, password, url=\"https://maxcvservices.dnb.com/rest/Authentication\"):\n",
    "    \"\"\"Get a new authentication token.\n",
    "    See http://developer.dnb.com/docs/2.0/common/authentication-process\n",
    "    :param username: D&B username\n",
    "    :type username: str\n",
    "    :param password: D&B password\n",
    "    :type password: str\n",
    "    :returns: authentication token or \"INVALID CREDENTIALS\"\n",
    "    :rtype: str\n",
    "    \"\"\"\n",
    "    r = requests.post(\n",
    "        url,\n",
    "        headers={\n",
    "            \"x-dnb-user\": username,\n",
    "            \"x-dnb-pwd\": password,\n",
    "        }\n",
    "    )\n",
    "    return r.headers[\"Authorization\"]\n"
   ]
  }
 ],
 "metadata": {
  "kernelspec": {
   "display_name": "py36",
   "language": "python",
   "name": "py36"
  },
  "language_info": {
   "codemirror_mode": {
    "name": "ipython",
    "version": 3
   },
   "file_extension": ".py",
   "mimetype": "text/x-python",
   "name": "python",
   "nbconvert_exporter": "python",
   "pygments_lexer": "ipython3",
   "version": "3.6.7"
  }
 },
 "nbformat": 4,
 "nbformat_minor": 2
}
