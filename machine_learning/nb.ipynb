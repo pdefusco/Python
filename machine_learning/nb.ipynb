{
 "cells": [
  {
   "cell_type": "code",
   "execution_count": 1,
   "metadata": {
    "collapsed": true
   },
   "outputs": [],
   "source": [
    "import pandas as pd"
   ]
  },
  {
   "cell_type": "code",
   "execution_count": 4,
   "metadata": {},
   "outputs": [],
   "source": [
    "subregion = pd.read_csv('workshop-2-ds-foundations-jupyter-numpy/subregion.csv')"
   ]
  },
  {
   "cell_type": "code",
   "execution_count": 5,
   "metadata": {},
   "outputs": [
    {
     "data": {
      "text/html": [
       "<div>\n",
       "<style scoped>\n",
       "    .dataframe tbody tr th:only-of-type {\n",
       "        vertical-align: middle;\n",
       "    }\n",
       "\n",
       "    .dataframe tbody tr th {\n",
       "        vertical-align: top;\n",
       "    }\n",
       "\n",
       "    .dataframe thead th {\n",
       "        text-align: right;\n",
       "    }\n",
       "</style>\n",
       "<table border=\"1\" class=\"dataframe\">\n",
       "  <thead>\n",
       "    <tr style=\"text-align: right;\">\n",
       "      <th></th>\n",
       "      <th>id</th>\n",
       "      <th>trans_amt</th>\n",
       "      <th>config_id</th>\n",
       "      <th>longitude</th>\n",
       "      <th>latitude</th>\n",
       "    </tr>\n",
       "  </thead>\n",
       "  <tbody>\n",
       "    <tr>\n",
       "      <th>count</th>\n",
       "      <td>4.781380e+05</td>\n",
       "      <td>478138.000000</td>\n",
       "      <td>478138.000000</td>\n",
       "      <td>478138.000000</td>\n",
       "      <td>478138.000000</td>\n",
       "    </tr>\n",
       "    <tr>\n",
       "      <th>mean</th>\n",
       "      <td>5.069696e+06</td>\n",
       "      <td>131.692622</td>\n",
       "      <td>10706.506900</td>\n",
       "      <td>-117.167804</td>\n",
       "      <td>32.718106</td>\n",
       "    </tr>\n",
       "    <tr>\n",
       "      <th>std</th>\n",
       "      <td>2.888491e+06</td>\n",
       "      <td>107.469381</td>\n",
       "      <td>2148.372664</td>\n",
       "      <td>0.000873</td>\n",
       "      <td>0.002060</td>\n",
       "    </tr>\n",
       "    <tr>\n",
       "      <th>min</th>\n",
       "      <td>7.900000e+01</td>\n",
       "      <td>5.000000</td>\n",
       "      <td>9000.000000</td>\n",
       "      <td>-117.169281</td>\n",
       "      <td>32.713485</td>\n",
       "    </tr>\n",
       "    <tr>\n",
       "      <th>25%</th>\n",
       "      <td>2.585790e+06</td>\n",
       "      <td>35.000000</td>\n",
       "      <td>9000.000000</td>\n",
       "      <td>-117.168390</td>\n",
       "      <td>32.717181</td>\n",
       "    </tr>\n",
       "    <tr>\n",
       "      <th>50%</th>\n",
       "      <td>5.051555e+06</td>\n",
       "      <td>125.000000</td>\n",
       "      <td>9000.000000</td>\n",
       "      <td>-117.167687</td>\n",
       "      <td>32.718129</td>\n",
       "    </tr>\n",
       "    <tr>\n",
       "      <th>75%</th>\n",
       "      <td>7.555926e+06</td>\n",
       "      <td>225.000000</td>\n",
       "      <td>13180.000000</td>\n",
       "      <td>-117.167307</td>\n",
       "      <td>32.719877</td>\n",
       "    </tr>\n",
       "    <tr>\n",
       "      <th>max</th>\n",
       "      <td>1.011175e+07</td>\n",
       "      <td>685.000000</td>\n",
       "      <td>14761.000000</td>\n",
       "      <td>-117.166069</td>\n",
       "      <td>32.720930</td>\n",
       "    </tr>\n",
       "  </tbody>\n",
       "</table>\n",
       "</div>"
      ],
      "text/plain": [
       "                 id      trans_amt      config_id      longitude  \\\n",
       "count  4.781380e+05  478138.000000  478138.000000  478138.000000   \n",
       "mean   5.069696e+06     131.692622   10706.506900    -117.167804   \n",
       "std    2.888491e+06     107.469381    2148.372664       0.000873   \n",
       "min    7.900000e+01       5.000000    9000.000000    -117.169281   \n",
       "25%    2.585790e+06      35.000000    9000.000000    -117.168390   \n",
       "50%    5.051555e+06     125.000000    9000.000000    -117.167687   \n",
       "75%    7.555926e+06     225.000000   13180.000000    -117.167307   \n",
       "max    1.011175e+07     685.000000   14761.000000    -117.166069   \n",
       "\n",
       "            latitude  \n",
       "count  478138.000000  \n",
       "mean       32.718106  \n",
       "std         0.002060  \n",
       "min        32.713485  \n",
       "25%        32.717181  \n",
       "50%        32.718129  \n",
       "75%        32.719877  \n",
       "max        32.720930  "
      ]
     },
     "execution_count": 5,
     "metadata": {},
     "output_type": "execute_result"
    }
   ],
   "source": [
    "subregion.describe()"
   ]
  },
  {
   "cell_type": "code",
   "execution_count": 6,
   "metadata": {},
   "outputs": [
    {
     "data": {
      "text/plain": [
       "id                int64\n",
       "uuid             object\n",
       "pole_id          object\n",
       "meter_type       object\n",
       "trans_amt       float64\n",
       "pay_method       object\n",
       "trans_start      object\n",
       "meter_expire     object\n",
       "zone             object\n",
       "area             object\n",
       "sub_area         object\n",
       "config_id         int64\n",
       "config_name      object\n",
       "longitude       float64\n",
       "latitude        float64\n",
       "dtype: object"
      ]
     },
     "execution_count": 6,
     "metadata": {},
     "output_type": "execute_result"
    }
   ],
   "source": [
    "subregion.dtypes"
   ]
  },
  {
   "cell_type": "code",
   "execution_count": null,
   "metadata": {
    "collapsed": true
   },
   "outputs": [],
   "source": []
  }
 ],
 "metadata": {
  "kernelspec": {
   "display_name": "Python 3",
   "language": "python",
   "name": "python3"
  },
  "language_info": {
   "codemirror_mode": {
    "name": "ipython",
    "version": 3
   },
   "file_extension": ".py",
   "mimetype": "text/x-python",
   "name": "python",
   "nbconvert_exporter": "python",
   "pygments_lexer": "ipython3",
   "version": "3.6.3"
  }
 },
 "nbformat": 4,
 "nbformat_minor": 2
}
