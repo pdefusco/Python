{
 "cells": [
  {
   "cell_type": "markdown",
   "metadata": {},
   "source": [
    "### Baseline Model"
   ]
  },
  {
   "cell_type": "code",
   "execution_count": 1,
   "metadata": {},
   "outputs": [],
   "source": [
    "import pandas as pd\n",
    "import numpy as np\n",
    "import seaborn as sns\n",
    "import matplotlib.pyplot as plt"
   ]
  },
  {
   "cell_type": "code",
   "execution_count": 2,
   "metadata": {},
   "outputs": [
    {
     "name": "stdout",
     "output_type": "stream",
     "text": [
      "2007.csv             baseline_model.ipynb df.csv\r\n",
      "airports.csv         carriers.csv         planedata.csv\r\n"
     ]
    }
   ],
   "source": [
    "!ls"
   ]
  },
  {
   "cell_type": "code",
   "execution_count": 3,
   "metadata": {},
   "outputs": [
    {
     "name": "stderr",
     "output_type": "stream",
     "text": [
      "/Applications/anaconda3/envs/py36/lib/python3.6/site-packages/IPython/core/interactiveshell.py:3049: DtypeWarning: Columns (23,43,44,45,46,47,48,49,50) have mixed types. Specify dtype option on import or set low_memory=False.\n",
      "  interactivity=interactivity, compiler=compiler, result=result)\n"
     ]
    }
   ],
   "source": [
    "df = pd.read_csv('df.csv').drop('Unnamed: 0', axis=1)"
   ]
  },
  {
   "cell_type": "code",
   "execution_count": 4,
   "metadata": {},
   "outputs": [
    {
     "data": {
      "text/plain": [
       "(6808770, 53)"
      ]
     },
     "execution_count": 4,
     "metadata": {},
     "output_type": "execute_result"
    }
   ],
   "source": [
    "df.shape"
   ]
  },
  {
   "cell_type": "markdown",
   "metadata": {},
   "source": [
    "Removing Data Leakage Attributes"
   ]
  },
  {
   "cell_type": "code",
   "execution_count": 5,
   "metadata": {},
   "outputs": [
    {
     "data": {
      "text/plain": [
       "Index(['Year', 'Month', 'DayofMonth', 'DayOfWeek', 'DepTime', 'CRSDepTime',\n",
       "       'ArrTime', 'CRSArrTime', 'Carrier', 'FlightNum', 'TailNum',\n",
       "       'ActualElapsedTime', 'CRSElapsedTime', 'AirTime', 'ArrDelay',\n",
       "       'DepDelay', 'Origin', 'Dest', 'Distance', 'TaxiIn', 'TaxiOut',\n",
       "       'Cancelled', 'CancellationCode', 'Diverted', 'CarrierDelay',\n",
       "       'WeatherDelay', 'NASDelay', 'SecurityDelay', 'LateAircraftDelay',\n",
       "       'OriginAirport', 'OriginCity', 'OriginState', 'OriginCountry',\n",
       "       'OriginLat', 'OriginLong', 'DestAirport', 'DestCity', 'DestState',\n",
       "       'DestCountry', 'DestLat', 'DestLong', 'TailNum.1', 'PlaneOwnership',\n",
       "       'Manufacturer', 'PlaneIssueData', 'PlaneModel', 'PlaneStatus',\n",
       "       'AircraftType', 'Engine', 'PlaneYear', 'OriginCityIata', 'CarrierName',\n",
       "       'FlightTimeStamp'],\n",
       "      dtype='object')"
      ]
     },
     "execution_count": 5,
     "metadata": {},
     "output_type": "execute_result"
    }
   ],
   "source": [
    "df.columns"
   ]
  },
  {
   "cell_type": "code",
   "execution_count": 6,
   "metadata": {},
   "outputs": [],
   "source": [
    "df.drop('TailNum.1',axis=1,inplace=True)"
   ]
  },
  {
   "cell_type": "code",
   "execution_count": 7,
   "metadata": {},
   "outputs": [],
   "source": [
    "df = df.rename(columns={'PlaneIssueData':'PlaneIssueDate'})"
   ]
  },
  {
   "cell_type": "code",
   "execution_count": 30,
   "metadata": {},
   "outputs": [],
   "source": [
    "df = df[df['Cancelled']!=1]"
   ]
  },
  {
   "cell_type": "code",
   "execution_count": 8,
   "metadata": {},
   "outputs": [
    {
     "data": {
      "text/html": [
       "<div>\n",
       "<style scoped>\n",
       "    .dataframe tbody tr th:only-of-type {\n",
       "        vertical-align: middle;\n",
       "    }\n",
       "\n",
       "    .dataframe tbody tr th {\n",
       "        vertical-align: top;\n",
       "    }\n",
       "\n",
       "    .dataframe thead th {\n",
       "        text-align: right;\n",
       "    }\n",
       "</style>\n",
       "<table border=\"1\" class=\"dataframe\">\n",
       "  <thead>\n",
       "    <tr style=\"text-align: right;\">\n",
       "      <th></th>\n",
       "      <th>Year</th>\n",
       "      <th>Month</th>\n",
       "      <th>DayofMonth</th>\n",
       "      <th>DayOfWeek</th>\n",
       "      <th>DepTime</th>\n",
       "      <th>CRSDepTime</th>\n",
       "      <th>ArrTime</th>\n",
       "      <th>CRSArrTime</th>\n",
       "      <th>Carrier</th>\n",
       "      <th>FlightNum</th>\n",
       "      <th>...</th>\n",
       "      <th>Manufacturer</th>\n",
       "      <th>PlaneIssueDate</th>\n",
       "      <th>PlaneModel</th>\n",
       "      <th>PlaneStatus</th>\n",
       "      <th>AircraftType</th>\n",
       "      <th>Engine</th>\n",
       "      <th>PlaneYear</th>\n",
       "      <th>OriginCityIata</th>\n",
       "      <th>CarrierName</th>\n",
       "      <th>FlightTimeStamp</th>\n",
       "    </tr>\n",
       "  </thead>\n",
       "  <tbody>\n",
       "    <tr>\n",
       "      <th>0</th>\n",
       "      <td>2007</td>\n",
       "      <td>1</td>\n",
       "      <td>2</td>\n",
       "      <td>2</td>\n",
       "      <td>1736.0</td>\n",
       "      <td>1720</td>\n",
       "      <td>1844.0</td>\n",
       "      <td>1835</td>\n",
       "      <td>WN</td>\n",
       "      <td>248</td>\n",
       "      <td>...</td>\n",
       "      <td>BOEING</td>\n",
       "      <td>05/16/1996</td>\n",
       "      <td>737-3H4</td>\n",
       "      <td>Valid</td>\n",
       "      <td>Fixed Wing Multi-Engine</td>\n",
       "      <td>Turbo-Fan</td>\n",
       "      <td>1996</td>\n",
       "      <td>Sacramento-SMF</td>\n",
       "      <td>SouthWest</td>\n",
       "      <td>2007-1-2</td>\n",
       "    </tr>\n",
       "    <tr>\n",
       "      <th>1</th>\n",
       "      <td>2007</td>\n",
       "      <td>1</td>\n",
       "      <td>2</td>\n",
       "      <td>2</td>\n",
       "      <td>2046.0</td>\n",
       "      <td>2045</td>\n",
       "      <td>2151.0</td>\n",
       "      <td>2200</td>\n",
       "      <td>WN</td>\n",
       "      <td>1311</td>\n",
       "      <td>...</td>\n",
       "      <td>BOEING</td>\n",
       "      <td>05/16/1996</td>\n",
       "      <td>737-3H4</td>\n",
       "      <td>Valid</td>\n",
       "      <td>Fixed Wing Multi-Engine</td>\n",
       "      <td>Turbo-Fan</td>\n",
       "      <td>1996</td>\n",
       "      <td>Sacramento-SMF</td>\n",
       "      <td>SouthWest</td>\n",
       "      <td>2007-1-2</td>\n",
       "    </tr>\n",
       "    <tr>\n",
       "      <th>2</th>\n",
       "      <td>2007</td>\n",
       "      <td>1</td>\n",
       "      <td>2</td>\n",
       "      <td>2</td>\n",
       "      <td>1228.0</td>\n",
       "      <td>1225</td>\n",
       "      <td>1341.0</td>\n",
       "      <td>1340</td>\n",
       "      <td>WN</td>\n",
       "      <td>2891</td>\n",
       "      <td>...</td>\n",
       "      <td>BOEING</td>\n",
       "      <td>05/16/1996</td>\n",
       "      <td>737-3H4</td>\n",
       "      <td>Valid</td>\n",
       "      <td>Fixed Wing Multi-Engine</td>\n",
       "      <td>Turbo-Fan</td>\n",
       "      <td>1996</td>\n",
       "      <td>Sacramento-SMF</td>\n",
       "      <td>SouthWest</td>\n",
       "      <td>2007-1-2</td>\n",
       "    </tr>\n",
       "    <tr>\n",
       "      <th>3</th>\n",
       "      <td>2007</td>\n",
       "      <td>1</td>\n",
       "      <td>22</td>\n",
       "      <td>1</td>\n",
       "      <td>2155.0</td>\n",
       "      <td>2155</td>\n",
       "      <td>2252.0</td>\n",
       "      <td>2310</td>\n",
       "      <td>WN</td>\n",
       "      <td>2740</td>\n",
       "      <td>...</td>\n",
       "      <td>BOEING</td>\n",
       "      <td>05/16/1996</td>\n",
       "      <td>737-3H4</td>\n",
       "      <td>Valid</td>\n",
       "      <td>Fixed Wing Multi-Engine</td>\n",
       "      <td>Turbo-Fan</td>\n",
       "      <td>1996</td>\n",
       "      <td>Sacramento-SMF</td>\n",
       "      <td>SouthWest</td>\n",
       "      <td>2007-1-22</td>\n",
       "    </tr>\n",
       "    <tr>\n",
       "      <th>4</th>\n",
       "      <td>2007</td>\n",
       "      <td>4</td>\n",
       "      <td>9</td>\n",
       "      <td>1</td>\n",
       "      <td>2143.0</td>\n",
       "      <td>2140</td>\n",
       "      <td>2252.0</td>\n",
       "      <td>2255</td>\n",
       "      <td>WN</td>\n",
       "      <td>541</td>\n",
       "      <td>...</td>\n",
       "      <td>BOEING</td>\n",
       "      <td>05/16/1996</td>\n",
       "      <td>737-3H4</td>\n",
       "      <td>Valid</td>\n",
       "      <td>Fixed Wing Multi-Engine</td>\n",
       "      <td>Turbo-Fan</td>\n",
       "      <td>1996</td>\n",
       "      <td>Sacramento-SMF</td>\n",
       "      <td>SouthWest</td>\n",
       "      <td>2007-4-9</td>\n",
       "    </tr>\n",
       "  </tbody>\n",
       "</table>\n",
       "<p>5 rows × 52 columns</p>\n",
       "</div>"
      ],
      "text/plain": [
       "   Year  Month  DayofMonth  DayOfWeek  DepTime  CRSDepTime  ArrTime  \\\n",
       "0  2007      1           2          2   1736.0        1720   1844.0   \n",
       "1  2007      1           2          2   2046.0        2045   2151.0   \n",
       "2  2007      1           2          2   1228.0        1225   1341.0   \n",
       "3  2007      1          22          1   2155.0        2155   2252.0   \n",
       "4  2007      4           9          1   2143.0        2140   2252.0   \n",
       "\n",
       "   CRSArrTime Carrier  FlightNum  ... Manufacturer  PlaneIssueDate  \\\n",
       "0        1835      WN        248  ...       BOEING      05/16/1996   \n",
       "1        2200      WN       1311  ...       BOEING      05/16/1996   \n",
       "2        1340      WN       2891  ...       BOEING      05/16/1996   \n",
       "3        2310      WN       2740  ...       BOEING      05/16/1996   \n",
       "4        2255      WN        541  ...       BOEING      05/16/1996   \n",
       "\n",
       "   PlaneModel  PlaneStatus             AircraftType     Engine PlaneYear  \\\n",
       "0     737-3H4        Valid  Fixed Wing Multi-Engine  Turbo-Fan      1996   \n",
       "1     737-3H4        Valid  Fixed Wing Multi-Engine  Turbo-Fan      1996   \n",
       "2     737-3H4        Valid  Fixed Wing Multi-Engine  Turbo-Fan      1996   \n",
       "3     737-3H4        Valid  Fixed Wing Multi-Engine  Turbo-Fan      1996   \n",
       "4     737-3H4        Valid  Fixed Wing Multi-Engine  Turbo-Fan      1996   \n",
       "\n",
       "   OriginCityIata  CarrierName  FlightTimeStamp  \n",
       "0  Sacramento-SMF    SouthWest         2007-1-2  \n",
       "1  Sacramento-SMF    SouthWest         2007-1-2  \n",
       "2  Sacramento-SMF    SouthWest         2007-1-2  \n",
       "3  Sacramento-SMF    SouthWest        2007-1-22  \n",
       "4  Sacramento-SMF    SouthWest         2007-4-9  \n",
       "\n",
       "[5 rows x 52 columns]"
      ]
     },
     "execution_count": 8,
     "metadata": {},
     "output_type": "execute_result"
    }
   ],
   "source": [
    "df.head()"
   ]
  },
  {
   "cell_type": "markdown",
   "metadata": {},
   "source": [
    "The following columns will have to be removed in order to avoid Data Leakage:\n",
    "- ArrTime, DepTime, ActualElapsedTime, AirTime, ArrDelay, DepDelay, TaxiIn, TaxiOut\n",
    "- 'Cancelled', 'CancellationCode', 'Diverted', 'CarrierDelay',\n",
    "- 'WeatherDelay', 'NASDelay', 'SecurityDelay', 'LateAircraftDelay'\n",
    "\n",
    "The following columns are duplicates of other columns:\n",
    "- OriginCityIata\n",
    "\n",
    "The following columns should be removed as they carry no info for a linear model:\n",
    "- 'OriginLat', 'OriginLong', 'DestLat','DestLong', 'CRSDepTime', 'CRSArrTime'"
   ]
  },
  {
   "cell_type": "code",
   "execution_count": 9,
   "metadata": {},
   "outputs": [],
   "source": [
    "#df = df.drop(columns=['ArrTime', 'DepTime', 'ActualElapsedTime', 'AirTime',\n",
    "#                 'DepDelay', 'TaxiIn', 'TaxiOut','Cancelled', 'CancellationCode', 'Diverted', 'CarrierDelay',\n",
    "#                 'WeatherDelay', 'NASDelay', 'SecurityDelay', 'LateAircraftDelay', 'OriginCityIata', \n",
    "#                  'OriginLat', 'OriginLong', 'DestLat','DestLong', 'CRSDepTime', 'CRSArrTime'])"
   ]
  },
  {
   "cell_type": "markdown",
   "metadata": {},
   "source": [
    "Feature Engineering"
   ]
  },
  {
   "cell_type": "code",
   "execution_count": 10,
   "metadata": {},
   "outputs": [
    {
     "data": {
      "text/plain": [
       "0    05/16/1996\n",
       "1    05/16/1996\n",
       "2    05/16/1996\n",
       "3    05/16/1996\n",
       "4    05/16/1996\n",
       "Name: PlaneIssueDate, dtype: object"
      ]
     },
     "execution_count": 10,
     "metadata": {},
     "output_type": "execute_result"
    }
   ],
   "source": [
    "df.PlaneIssueDate.head()"
   ]
  },
  {
   "cell_type": "code",
   "execution_count": 11,
   "metadata": {},
   "outputs": [],
   "source": [
    "df['PlaneIssueDay'] = df['PlaneIssueDate'].str[:2]\n",
    "df['PlaneIssueMonth'] = df['PlaneIssueDate'].str[3:5]\n",
    "df['PlaneIssueYear'] = df['PlaneIssueDate'].str[6:10]"
   ]
  },
  {
   "cell_type": "code",
   "execution_count": 12,
   "metadata": {},
   "outputs": [],
   "source": [
    "df = df.drop('PlaneIssueDate', axis=1)"
   ]
  },
  {
   "cell_type": "code",
   "execution_count": 13,
   "metadata": {},
   "outputs": [],
   "source": [
    "# y = 'ArrDelay' "
   ]
  },
  {
   "cell_type": "code",
   "execution_count": 14,
   "metadata": {},
   "outputs": [
    {
     "data": {
      "text/plain": [
       "1"
      ]
     },
     "execution_count": 14,
     "metadata": {},
     "output_type": "execute_result"
    }
   ],
   "source": [
    "#Removing DestCountry because all flights are within the US\n",
    "len(df['DestCountry'].unique())"
   ]
  },
  {
   "cell_type": "code",
   "execution_count": 15,
   "metadata": {},
   "outputs": [],
   "source": [
    "df = df.drop('DestCountry', axis=1)"
   ]
  },
  {
   "cell_type": "markdown",
   "metadata": {},
   "source": [
    "We have dropped all columns that should be dropped at this point. Next: Nulls"
   ]
  },
  {
   "cell_type": "code",
   "execution_count": 16,
   "metadata": {},
   "outputs": [
    {
     "data": {
      "text/plain": [
       "Year                       0\n",
       "Month                      0\n",
       "DayofMonth                 0\n",
       "DayOfWeek                  0\n",
       "DepTime                    0\n",
       "CRSDepTime                 0\n",
       "ArrTime                    0\n",
       "CRSArrTime                 0\n",
       "Carrier                    0\n",
       "FlightNum                  0\n",
       "TailNum                    0\n",
       "ActualElapsedTime          0\n",
       "CRSElapsedTime             0\n",
       "AirTime                    0\n",
       "ArrDelay                   0\n",
       "DepDelay                   0\n",
       "Origin                     0\n",
       "Dest                       0\n",
       "Distance                   0\n",
       "TaxiIn                     0\n",
       "TaxiOut                    0\n",
       "Cancelled                  0\n",
       "CancellationCode     6808769\n",
       "Diverted                   0\n",
       "CarrierDelay               0\n",
       "WeatherDelay               0\n",
       "NASDelay                   0\n",
       "SecurityDelay              0\n",
       "LateAircraftDelay          0\n",
       "OriginAirport              0\n",
       "OriginCity              4891\n",
       "OriginState             4891\n",
       "OriginCountry              0\n",
       "OriginLat                  0\n",
       "OriginLong                 0\n",
       "DestAirport                0\n",
       "DestCity                4904\n",
       "DestState               4904\n",
       "DestLat                    0\n",
       "DestLong                   0\n",
       "PlaneOwnership        350685\n",
       "Manufacturer          350685\n",
       "PlaneModel            350685\n",
       "PlaneStatus           350685\n",
       "AircraftType          350685\n",
       "Engine                350685\n",
       "PlaneYear             350685\n",
       "OriginCityIata          4891\n",
       "CarrierName                0\n",
       "FlightTimeStamp            0\n",
       "PlaneIssueDay         350685\n",
       "PlaneIssueMonth       350685\n",
       "PlaneIssueYear        350685\n",
       "dtype: int64"
      ]
     },
     "execution_count": 16,
     "metadata": {},
     "output_type": "execute_result"
    }
   ],
   "source": [
    "#Checking for nulls in each column:\n",
    "df.isnull().sum()"
   ]
  },
  {
   "cell_type": "code",
   "execution_count": 17,
   "metadata": {},
   "outputs": [
    {
     "data": {
      "text/plain": [
       "array(['CLD', 'MQT', 'SCE', 'HHH'], dtype=object)"
      ]
     },
     "execution_count": 17,
     "metadata": {},
     "output_type": "execute_result"
    }
   ],
   "source": [
    "df[df.OriginCity.isnull()]['Origin'].unique()\n",
    "#df[df.DestCity.isnull()]['Dest'].unique()"
   ]
  },
  {
   "cell_type": "code",
   "execution_count": 18,
   "metadata": {},
   "outputs": [
    {
     "name": "stderr",
     "output_type": "stream",
     "text": [
      "/Applications/anaconda3/envs/py36/lib/python3.6/site-packages/pandas/core/indexing.py:190: SettingWithCopyWarning: \n",
      "A value is trying to be set on a copy of a slice from a DataFrame\n",
      "\n",
      "See the caveats in the documentation: http://pandas.pydata.org/pandas-docs/stable/indexing.html#indexing-view-versus-copy\n",
      "  self._setitem_with_indexer(indexer, value)\n"
     ]
    }
   ],
   "source": [
    "df.DestCity.loc[df.Dest == 'CLD'] = 'Carlsbad'\n",
    "df.DestCity.loc[df.Dest == 'MQT'] = 'Sawyer'\n",
    "df.DestCity.loc[df.Dest == 'SCE'] = 'University Park'\n",
    "df.DestCity.loc[df.Dest == 'HHH'] = 'Hilton Head'\n",
    "df.DestState.loc[df.Dest == 'CLD'] = 'CA'\n",
    "df.DestState.loc[df.Dest == 'MQT'] = 'MI'\n",
    "df.DestState.loc[df.Dest == 'SCE'] = 'PA'\n",
    "df.DestState.loc[df.Dest == 'HHH'] = 'SC'"
   ]
  },
  {
   "cell_type": "code",
   "execution_count": 19,
   "metadata": {},
   "outputs": [],
   "source": [
    "df.OriginCity.loc[df.Origin == 'CLD'] = 'Carlsbad'\n",
    "df.OriginCity.loc[df.Origin == 'MQT'] = 'Sawyer'\n",
    "df.OriginCity.loc[df.Origin == 'SCE'] = 'University Park'\n",
    "df.OriginCity.loc[df.Origin == 'HHH'] = 'Hilton Head'\n",
    "df.OriginState.loc[df.Origin == 'CLD'] = 'CA'\n",
    "df.OriginState.loc[df.Origin == 'MQT'] = 'MI'\n",
    "df.OriginState.loc[df.Origin == 'SCE'] = 'PA'\n",
    "df.OriginState.loc[df.Origin == 'HHH'] = 'SC'"
   ]
  },
  {
   "cell_type": "code",
   "execution_count": 20,
   "metadata": {},
   "outputs": [
    {
     "data": {
      "text/plain": [
       "Year                       0\n",
       "Month                      0\n",
       "DayofMonth                 0\n",
       "DayOfWeek                  0\n",
       "DepTime                    0\n",
       "CRSDepTime                 0\n",
       "ArrTime                    0\n",
       "CRSArrTime                 0\n",
       "Carrier                    0\n",
       "FlightNum                  0\n",
       "TailNum                    0\n",
       "ActualElapsedTime          0\n",
       "CRSElapsedTime             0\n",
       "AirTime                    0\n",
       "ArrDelay                   0\n",
       "DepDelay                   0\n",
       "Origin                     0\n",
       "Dest                       0\n",
       "Distance                   0\n",
       "TaxiIn                     0\n",
       "TaxiOut                    0\n",
       "Cancelled                  0\n",
       "CancellationCode     6808769\n",
       "Diverted                   0\n",
       "CarrierDelay               0\n",
       "WeatherDelay               0\n",
       "NASDelay                   0\n",
       "SecurityDelay              0\n",
       "LateAircraftDelay          0\n",
       "OriginAirport              0\n",
       "OriginCity                 0\n",
       "OriginState                0\n",
       "OriginCountry              0\n",
       "OriginLat                  0\n",
       "OriginLong                 0\n",
       "DestAirport                0\n",
       "DestCity                   0\n",
       "DestState                  0\n",
       "DestLat                    0\n",
       "DestLong                   0\n",
       "PlaneOwnership        350685\n",
       "Manufacturer          350685\n",
       "PlaneModel            350685\n",
       "PlaneStatus           350685\n",
       "AircraftType          350685\n",
       "Engine                350685\n",
       "PlaneYear             350685\n",
       "OriginCityIata          4891\n",
       "CarrierName                0\n",
       "FlightTimeStamp            0\n",
       "PlaneIssueDay         350685\n",
       "PlaneIssueMonth       350685\n",
       "PlaneIssueYear        350685\n",
       "dtype: int64"
      ]
     },
     "execution_count": 20,
     "metadata": {},
     "output_type": "execute_result"
    }
   ],
   "source": [
    "df.isnull().sum()"
   ]
  },
  {
   "cell_type": "code",
   "execution_count": 21,
   "metadata": {},
   "outputs": [],
   "source": [
    "#Replacing nulls in unrecognized planes with unknowns \n",
    "df[['PlaneOwnership', 'Manufacturer', 'PlaneModel', 'PlaneStatus', 'AircraftType', 'Engine']] = df[['PlaneOwnership', 'Manufacturer', 'PlaneModel', 'PlaneStatus', 'AircraftType', 'Engine']].fillna(value = 'Unknown')\n",
    "#Replacing nulls with median\n",
    "df[['PlaneYear','PlaneIssueDay','PlaneIssueMonth','PlaneIssueYear']] = df[['PlaneYear','PlaneIssueDay','PlaneIssueMonth','PlaneIssueYear']].fillna(value=2000)"
   ]
  },
  {
   "cell_type": "markdown",
   "metadata": {},
   "source": [
    "Working with Data Types"
   ]
  },
  {
   "cell_type": "code",
   "execution_count": 22,
   "metadata": {},
   "outputs": [
    {
     "data": {
      "text/plain": [
       "Year                   int64\n",
       "Month                  int64\n",
       "DayofMonth             int64\n",
       "DayOfWeek              int64\n",
       "DepTime              float64\n",
       "CRSDepTime             int64\n",
       "ArrTime              float64\n",
       "CRSArrTime             int64\n",
       "Carrier               object\n",
       "FlightNum              int64\n",
       "TailNum               object\n",
       "ActualElapsedTime    float64\n",
       "CRSElapsedTime       float64\n",
       "AirTime              float64\n",
       "ArrDelay             float64\n",
       "DepDelay             float64\n",
       "Origin                object\n",
       "Dest                  object\n",
       "Distance               int64\n",
       "TaxiIn                 int64\n",
       "TaxiOut                int64\n",
       "Cancelled              int64\n",
       "CancellationCode      object\n",
       "Diverted               int64\n",
       "CarrierDelay           int64\n",
       "WeatherDelay           int64\n",
       "NASDelay               int64\n",
       "SecurityDelay          int64\n",
       "LateAircraftDelay      int64\n",
       "OriginAirport         object\n",
       "OriginCity            object\n",
       "OriginState           object\n",
       "OriginCountry         object\n",
       "OriginLat            float64\n",
       "OriginLong           float64\n",
       "DestAirport           object\n",
       "DestCity              object\n",
       "DestState             object\n",
       "DestLat              float64\n",
       "DestLong             float64\n",
       "PlaneOwnership        object\n",
       "Manufacturer          object\n",
       "PlaneModel            object\n",
       "PlaneStatus           object\n",
       "AircraftType          object\n",
       "Engine                object\n",
       "PlaneYear             object\n",
       "OriginCityIata        object\n",
       "CarrierName           object\n",
       "FlightTimeStamp       object\n",
       "PlaneIssueDay         object\n",
       "PlaneIssueMonth       object\n",
       "PlaneIssueYear        object\n",
       "dtype: object"
      ]
     },
     "execution_count": 22,
     "metadata": {},
     "output_type": "execute_result"
    }
   ],
   "source": [
    "df.dtypes"
   ]
  },
  {
   "cell_type": "code",
   "execution_count": 23,
   "metadata": {},
   "outputs": [],
   "source": [
    "#Even though Plane Issue Day, Month and Year are numeric attributes only the Year can be said to be on a numeric scale"
   ]
  },
  {
   "cell_type": "code",
   "execution_count": 24,
   "metadata": {},
   "outputs": [],
   "source": [
    "#mean = df[df['PlaneIssueYear']!='']['PlaneIssueYear'].mean()"
   ]
  },
  {
   "cell_type": "code",
   "execution_count": 25,
   "metadata": {},
   "outputs": [],
   "source": [
    "df['PlaneIssueYear'] = df['PlaneIssueYear'].replace('',2000)"
   ]
  },
  {
   "cell_type": "code",
   "execution_count": 26,
   "metadata": {},
   "outputs": [
    {
     "data": {
      "text/plain": [
       "Index(['Year', 'Month', 'DayofMonth', 'DayOfWeek', 'DepTime', 'CRSDepTime',\n",
       "       'ArrTime', 'CRSArrTime', 'Carrier', 'FlightNum', 'TailNum',\n",
       "       'ActualElapsedTime', 'CRSElapsedTime', 'AirTime', 'ArrDelay',\n",
       "       'DepDelay', 'Origin', 'Dest', 'Distance', 'TaxiIn', 'TaxiOut',\n",
       "       'Cancelled', 'CancellationCode', 'Diverted', 'CarrierDelay',\n",
       "       'WeatherDelay', 'NASDelay', 'SecurityDelay', 'LateAircraftDelay',\n",
       "       'OriginAirport', 'OriginCity', 'OriginState', 'OriginCountry',\n",
       "       'OriginLat', 'OriginLong', 'DestAirport', 'DestCity', 'DestState',\n",
       "       'DestLat', 'DestLong', 'PlaneOwnership', 'Manufacturer', 'PlaneModel',\n",
       "       'PlaneStatus', 'AircraftType', 'Engine', 'PlaneYear', 'OriginCityIata',\n",
       "       'CarrierName', 'FlightTimeStamp', 'PlaneIssueDay', 'PlaneIssueMonth',\n",
       "       'PlaneIssueYear'],\n",
       "      dtype='object')"
      ]
     },
     "execution_count": 26,
     "metadata": {},
     "output_type": "execute_result"
    }
   ],
   "source": [
    "df.columns"
   ]
  },
  {
   "cell_type": "code",
   "execution_count": 27,
   "metadata": {},
   "outputs": [],
   "source": [
    "#We would like to one hot encode categorical variables but doing so directly would introduce too much sparsity"
   ]
  },
  {
   "cell_type": "code",
   "execution_count": 28,
   "metadata": {},
   "outputs": [],
   "source": [
    "#top_dest = df[['DestAirport','ArrDelay']].groupby('ArrDelay').sum()['ArrDelay'].nlargest(10).reset_index()"
   ]
  },
  {
   "cell_type": "code",
   "execution_count": 29,
   "metadata": {},
   "outputs": [
    {
     "name": "stdout",
     "output_type": "stream",
     "text": [
      "Candidates for One Hot Encoding:\n",
      "Unique Carriers:  19\n",
      "Unique Origin Airports:  294\n",
      "Unique Destination Airports:  294\n",
      "Plane Manufacturer:  36\n",
      "Unique Plane Models:  162\n",
      "Unique Plane Status:  3\n",
      "Unique Aircraft Type:  5\n"
     ]
    }
   ],
   "source": [
    "#Looking for Columns to one hot encode\n",
    "print('Candidates for One Hot Encoding:')\n",
    "print('Unique Carriers: ', len(df.Carrier.unique()))\n",
    "print('Unique Origin Airports: ', len(df.Origin.unique()))\n",
    "print('Unique Destination Airports: ', len(df.Dest.unique()))\n",
    "print('Plane Manufacturer: ', len(df.Manufacturer.unique()))\n",
    "print('Unique Plane Models: ', len(df.PlaneModel.unique()))\n",
    "print('Unique Plane Status: ', len(df.PlaneStatus.unique()))\n",
    "print('Unique Aircraft Type: ', len(df.AircraftType.unique()))"
   ]
  },
  {
   "cell_type": "code",
   "execution_count": null,
   "metadata": {},
   "outputs": [],
   "source": []
  },
  {
   "cell_type": "code",
   "execution_count": null,
   "metadata": {},
   "outputs": [],
   "source": []
  },
  {
   "cell_type": "code",
   "execution_count": null,
   "metadata": {},
   "outputs": [],
   "source": []
  },
  {
   "cell_type": "code",
   "execution_count": null,
   "metadata": {},
   "outputs": [],
   "source": []
  },
  {
   "cell_type": "code",
   "execution_count": null,
   "metadata": {},
   "outputs": [],
   "source": []
  },
  {
   "cell_type": "code",
   "execution_count": null,
   "metadata": {},
   "outputs": [],
   "source": []
  },
  {
   "cell_type": "code",
   "execution_count": null,
   "metadata": {},
   "outputs": [],
   "source": []
  },
  {
   "cell_type": "code",
   "execution_count": null,
   "metadata": {},
   "outputs": [],
   "source": []
  },
  {
   "cell_type": "code",
   "execution_count": null,
   "metadata": {},
   "outputs": [],
   "source": [
    "df.shape"
   ]
  },
  {
   "cell_type": "code",
   "execution_count": null,
   "metadata": {},
   "outputs": [],
   "source": []
  },
  {
   "cell_type": "code",
   "execution_count": null,
   "metadata": {},
   "outputs": [],
   "source": [
    "#Finally, one hot encoding categorical variables:\n",
    "#pd.get_dummies(df, columns=['Carrier', ''])"
   ]
  },
  {
   "cell_type": "code",
   "execution_count": null,
   "metadata": {},
   "outputs": [],
   "source": [
    "#Plotting distribution of delays\n",
    "ax = sns.distplot(df['ArrDelay']).set_title('Delays Distribution')\n",
    "plt.show()"
   ]
  }
 ],
 "metadata": {
  "kernelspec": {
   "display_name": "py36",
   "language": "python",
   "name": "py36"
  },
  "language_info": {
   "codemirror_mode": {
    "name": "ipython",
    "version": 3
   },
   "file_extension": ".py",
   "mimetype": "text/x-python",
   "name": "python",
   "nbconvert_exporter": "python",
   "pygments_lexer": "ipython3",
   "version": "3.6.7"
  }
 },
 "nbformat": 4,
 "nbformat_minor": 2
}
