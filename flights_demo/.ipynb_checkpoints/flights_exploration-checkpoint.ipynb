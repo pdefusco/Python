{
 "cells": [
  {
   "cell_type": "code",
   "execution_count": 1,
   "metadata": {},
   "outputs": [],
   "source": [
    "import pandas as pd\n",
    "import numpy as np"
   ]
  },
  {
   "cell_type": "code",
   "execution_count": 2,
   "metadata": {},
   "outputs": [
    {
     "name": "stdout",
     "output_type": "stream",
     "text": [
      "2007.csv        carriers.csv    planedata.csv\r\n",
      "airports.csv    df.csv          \u001b[34mspark-warehouse\u001b[m\u001b[m\r\n"
     ]
    }
   ],
   "source": [
    "!ls newdata"
   ]
  },
  {
   "cell_type": "code",
   "execution_count": null,
   "metadata": {},
   "outputs": [],
   "source": [
    "flights = pd.read_csv('newdata/2007.csv')"
   ]
  },
  {
   "cell_type": "code",
   "execution_count": null,
   "metadata": {},
   "outputs": [],
   "source": [
    "airports = pd.read_csv('newdata/airports.csv')"
   ]
  },
  {
   "cell_type": "code",
   "execution_count": null,
   "metadata": {},
   "outputs": [],
   "source": [
    "carriers = pd.read_csv('newdata/carriers.csv')"
   ]
  },
  {
   "cell_type": "code",
   "execution_count": null,
   "metadata": {},
   "outputs": [],
   "source": [
    "planes = pd.read_csv('newdata/planedata.csv')"
   ]
  },
  {
   "cell_type": "code",
   "execution_count": null,
   "metadata": {},
   "outputs": [],
   "source": [
    "flights[(flights['Cancelled']==1)&(flights['ArrDelay']>0)]"
   ]
  },
  {
   "cell_type": "code",
   "execution_count": null,
   "metadata": {},
   "outputs": [],
   "source": [
    "flights.head()"
   ]
  },
  {
   "cell_type": "code",
   "execution_count": null,
   "metadata": {},
   "outputs": [],
   "source": [
    "airports.head()"
   ]
  },
  {
   "cell_type": "code",
   "execution_count": null,
   "metadata": {},
   "outputs": [],
   "source": [
    "flights['Origin'].head()"
   ]
  },
  {
   "cell_type": "code",
   "execution_count": null,
   "metadata": {},
   "outputs": [],
   "source": [
    "airports[airports['iata'] == 'ORD']"
   ]
  },
  {
   "cell_type": "code",
   "execution_count": null,
   "metadata": {},
   "outputs": [],
   "source": [
    "#match airports and flights on IATA"
   ]
  },
  {
   "cell_type": "code",
   "execution_count": null,
   "metadata": {},
   "outputs": [],
   "source": [
    "flights['TailNum'].head()"
   ]
  },
  {
   "cell_type": "code",
   "execution_count": null,
   "metadata": {},
   "outputs": [],
   "source": [
    "planes.columns"
   ]
  },
  {
   "cell_type": "code",
   "execution_count": null,
   "metadata": {},
   "outputs": [],
   "source": [
    "planes['tailnum'].head()"
   ]
  },
  {
   "cell_type": "code",
   "execution_count": null,
   "metadata": {},
   "outputs": [],
   "source": [
    "#match flights and planes on tailnum"
   ]
  },
  {
   "cell_type": "code",
   "execution_count": null,
   "metadata": {},
   "outputs": [],
   "source": [
    "flights.columns"
   ]
  },
  {
   "cell_type": "code",
   "execution_count": null,
   "metadata": {},
   "outputs": [],
   "source": [
    "flights[['ArrDelay', 'DepDelay', 'CarrierDelay',\n",
    "       'WeatherDelay', 'NASDelay', 'SecurityDelay', 'LateAircraftDelay']].head(10)"
   ]
  },
  {
   "cell_type": "code",
   "execution_count": null,
   "metadata": {},
   "outputs": [],
   "source": [
    "#Target variable: arrival delay"
   ]
  },
  {
   "cell_type": "code",
   "execution_count": null,
   "metadata": {},
   "outputs": [],
   "source": [
    "fl1 = flights.merge(airports, how='inner', left_on='Origin', right_on='iata')"
   ]
  },
  {
   "cell_type": "code",
   "execution_count": null,
   "metadata": {},
   "outputs": [],
   "source": [
    "fl1.rename(columns={'airport':'OriginAirport', 'city':'OriginCity', 'state':'OriginState',\n",
    "            'country':'OriginCountry', 'lat':'OriginLat', 'long':'OriginLong'}, inplace=True)"
   ]
  },
  {
   "cell_type": "code",
   "execution_count": null,
   "metadata": {},
   "outputs": [],
   "source": [
    "fl1.drop(columns=['iata'],inplace=True)"
   ]
  },
  {
   "cell_type": "code",
   "execution_count": null,
   "metadata": {},
   "outputs": [],
   "source": [
    "fl1.columns"
   ]
  },
  {
   "cell_type": "code",
   "execution_count": null,
   "metadata": {},
   "outputs": [],
   "source": [
    "fl2 = fl1.merge(airports, how='inner', left_on='Dest', right_on='iata')"
   ]
  },
  {
   "cell_type": "code",
   "execution_count": null,
   "metadata": {},
   "outputs": [],
   "source": [
    "fl2.rename(columns={'airport':'DestAirport', 'city':'DestCity', 'state':'DestState',\n",
    "            'country':'DestCountry', 'lat':'DestLat', 'long':'DestLong'}, inplace=True)"
   ]
  },
  {
   "cell_type": "code",
   "execution_count": null,
   "metadata": {},
   "outputs": [],
   "source": [
    "fl2.columns"
   ]
  },
  {
   "cell_type": "code",
   "execution_count": null,
   "metadata": {},
   "outputs": [],
   "source": [
    "fl2.drop(columns=['iata'],inplace=True)"
   ]
  },
  {
   "cell_type": "code",
   "execution_count": null,
   "metadata": {},
   "outputs": [],
   "source": [
    "df = fl2.merge(planes, how='inner', left_on='TailNum', right_on='tailnum')"
   ]
  },
  {
   "cell_type": "code",
   "execution_count": null,
   "metadata": {},
   "outputs": [],
   "source": [
    "df.head()"
   ]
  },
  {
   "cell_type": "code",
   "execution_count": null,
   "metadata": {},
   "outputs": [],
   "source": [
    "df.columns"
   ]
  },
  {
   "cell_type": "code",
   "execution_count": null,
   "metadata": {},
   "outputs": [],
   "source": [
    "df.rename(columns={'status':'PlaneStatus', 'tailnum':'TailNum', 'type':'PlaneOwnership', \n",
    "                  'engine_type':'Engine', 'model':'PlaneModel', 'issue_date':'PlaneIssueData',\n",
    "                  'manufacturer':'Manufacturer', 'year':'PlaneYear', 'aircraft_type':'AircraftType',\n",
    "                   'UniqueCarrier':'Carrier'\n",
    "                  }, inplace=True)"
   ]
  },
  {
   "cell_type": "code",
   "execution_count": null,
   "metadata": {},
   "outputs": [],
   "source": [
    "df.columns"
   ]
  },
  {
   "cell_type": "code",
   "execution_count": null,
   "metadata": {},
   "outputs": [],
   "source": [
    "df.PlaneOwnership.unique()"
   ]
  },
  {
   "cell_type": "code",
   "execution_count": null,
   "metadata": {},
   "outputs": [],
   "source": [
    "df['OriginCityIata'] = df['OriginCity'] +'-'+df['Origin']"
   ]
  },
  {
   "cell_type": "code",
   "execution_count": null,
   "metadata": {},
   "outputs": [],
   "source": [
    "#Carriers"
   ]
  },
  {
   "cell_type": "code",
   "execution_count": null,
   "metadata": {},
   "outputs": [],
   "source": [
    "carriers.head()"
   ]
  },
  {
   "cell_type": "code",
   "execution_count": null,
   "metadata": {},
   "outputs": [],
   "source": [
    "len(carriers.Description.unique())"
   ]
  },
  {
   "cell_type": "code",
   "execution_count": null,
   "metadata": {},
   "outputs": [],
   "source": [
    "lst = []\n",
    "for i in df['Carrier']:\n",
    "    if i == \"AS\":\n",
    "        lst.append(\"Alaska\")\n",
    "    elif i == \"AA\":\n",
    "        lst.append(\"American\")\n",
    "    elif i == \"US\":\n",
    "        lst.append(\"USAirways\")\n",
    "    elif i == \"DL\":\n",
    "        lst.append(\"Delta\")\n",
    "    elif i == \"NK\":\n",
    "        lst.append(\"Spirit\")\n",
    "    elif i == \"UA\":\n",
    "        lst.append(\"United\")\n",
    "    elif i == \"HA\":\n",
    "        lst.append(\"Hawaiian\")\n",
    "    elif i == \"B6\":\n",
    "        lst.append(\"JetBlue\")\n",
    "    elif i == \"OO\":\n",
    "        lst.append(\"SkyWest\")\n",
    "    elif i == \"EV\":\n",
    "        lst.append(\"ExpressJet\")\n",
    "    elif i == \"MQ\":\n",
    "        lst.append(\"AmericanEagle\")\n",
    "    elif i == \"F9\":\n",
    "        lst.append(\"Frontier\")\n",
    "    elif i == \"WN\":\n",
    "        lst.append(\"SouthWest\")\n",
    "    elif i == \"VX\":\n",
    "        lst.append(\"VirginAmerica\")\n",
    "    else:\n",
    "        lst.append('Other')"
   ]
  },
  {
   "cell_type": "code",
   "execution_count": null,
   "metadata": {},
   "outputs": [],
   "source": [
    "df['CarrierName'] = lst"
   ]
  },
  {
   "cell_type": "code",
   "execution_count": null,
   "metadata": {},
   "outputs": [],
   "source": [
    "#Carriers file seems to be adding little value so skipping it for now"
   ]
  },
  {
   "cell_type": "code",
   "execution_count": null,
   "metadata": {},
   "outputs": [],
   "source": [
    "#df.filter(regex='Orig*', axis=1)"
   ]
  },
  {
   "cell_type": "code",
   "execution_count": null,
   "metadata": {},
   "outputs": [],
   "source": [
    "df.dtypes"
   ]
  },
  {
   "cell_type": "code",
   "execution_count": null,
   "metadata": {},
   "outputs": [],
   "source": [
    "#Creating some features that will certainly be useful:"
   ]
  },
  {
   "cell_type": "code",
   "execution_count": null,
   "metadata": {},
   "outputs": [],
   "source": [
    "df['FlightTimeStamp'] = df['Year'].astype(str) + '-' + df['Month'].astype(str) + '-' + df['DayofMonth'].astype(str)"
   ]
  },
  {
   "cell_type": "code",
   "execution_count": null,
   "metadata": {},
   "outputs": [],
   "source": [
    "#Converting departure and arrival time:"
   ]
  },
  {
   "cell_type": "code",
   "execution_count": null,
   "metadata": {},
   "outputs": [],
   "source": [
    "df['DepTime'].head()"
   ]
  },
  {
   "cell_type": "code",
   "execution_count": null,
   "metadata": {},
   "outputs": [],
   "source": [
    "#Looks as if this is really hour and minute time\n",
    "print(df['DepTime'].max())\n",
    "print(df['DepTime'].min())"
   ]
  },
  {
   "cell_type": "code",
   "execution_count": null,
   "metadata": {},
   "outputs": [],
   "source": [
    "print(df['ArrTime'].max())\n",
    "print(df['ArrTime'].min())"
   ]
  },
  {
   "cell_type": "code",
   "execution_count": null,
   "metadata": {},
   "outputs": [],
   "source": [
    "#df['DepTime'] = df['ArrTime'].fillna(9999)"
   ]
  },
  {
   "cell_type": "code",
   "execution_count": null,
   "metadata": {},
   "outputs": [],
   "source": [
    "df['DepTime'].head()"
   ]
  },
  {
   "cell_type": "code",
   "execution_count": null,
   "metadata": {},
   "outputs": [],
   "source": [
    "df.shape"
   ]
  },
  {
   "cell_type": "code",
   "execution_count": null,
   "metadata": {},
   "outputs": [],
   "source": [
    "#Removing Null Target Variable Values:"
   ]
  },
  {
   "cell_type": "code",
   "execution_count": null,
   "metadata": {},
   "outputs": [],
   "source": [
    "sum(df['ArrTime'].isnull())"
   ]
  },
  {
   "cell_type": "code",
   "execution_count": null,
   "metadata": {},
   "outputs": [],
   "source": [
    "sum(df['DepTime'].isnull())"
   ]
  },
  {
   "cell_type": "code",
   "execution_count": null,
   "metadata": {},
   "outputs": [],
   "source": [
    "df = df.dropna(subset=['ArrTime'], how='any')"
   ]
  },
  {
   "cell_type": "markdown",
   "metadata": {},
   "source": [
    "Data Visualizations"
   ]
  },
  {
   "cell_type": "code",
   "execution_count": null,
   "metadata": {},
   "outputs": [],
   "source": [
    "import matplotlib.pyplot as plt\n",
    "import seaborn as sb"
   ]
  },
  {
   "cell_type": "markdown",
   "metadata": {},
   "source": [
    "Which Airport had the most departures in 2007?"
   ]
  },
  {
   "cell_type": "code",
   "execution_count": null,
   "metadata": {},
   "outputs": [],
   "source": [
    "np.arange(10)[::-1]"
   ]
  },
  {
   "cell_type": "code",
   "execution_count": null,
   "metadata": {},
   "outputs": [],
   "source": [
    "from matplotlib import cm\n",
    "\n",
    "df['OriginCityIata'].value_counts().head(10).plot('bar', title='Top 10 Airports by Flight Counts in 2007', \n",
    "                                          figsize=(15,8), color=cm.OrRd_r(np.linspace(.01,3,50)), rot=45)\\\n",
    "                    .set(xlabel='Origin', ylabel='Flights Count')\n",
    "plt.show()"
   ]
  },
  {
   "cell_type": "code",
   "execution_count": null,
   "metadata": {},
   "outputs": [],
   "source": [
    "dist = df['OriginCityIata'].value_counts().head(30)"
   ]
  },
  {
   "cell_type": "code",
   "execution_count": null,
   "metadata": {},
   "outputs": [],
   "source": [
    "df_temp = df[(df['OriginCityIata'].isin(dist.index))&(df['CarrierName'].isin(['SouthWest', 'United', 'JetBlue', \n",
    "    'SkyWest', 'USAirways', 'Alaska', 'Delta', 'American', 'AmericanEagle']))]\\\n",
    "             [['OriginCityIata','CarrierName','TailNum']].groupby(['OriginCityIata','CarrierName']).count().reset_index()"
   ]
  },
  {
   "cell_type": "code",
   "execution_count": null,
   "metadata": {},
   "outputs": [],
   "source": [
    "df_temp.columns = ['OriginCityIata','CarrierName','TailNum','Drop']"
   ]
  },
  {
   "cell_type": "code",
   "execution_count": null,
   "metadata": {},
   "outputs": [],
   "source": [
    "df_temp = df_temp.drop('Drop',axis=1)"
   ]
  },
  {
   "cell_type": "code",
   "execution_count": null,
   "metadata": {},
   "outputs": [],
   "source": [
    "df_temp = df_temp.sort_values('TailNum', ascending=False)"
   ]
  },
  {
   "cell_type": "code",
   "execution_count": null,
   "metadata": {},
   "outputs": [],
   "source": [
    "df_pivot = df_temp.pivot(index='OriginCityIata', columns='CarrierName', values='TailNum')"
   ]
  },
  {
   "cell_type": "code",
   "execution_count": null,
   "metadata": {},
   "outputs": [],
   "source": [
    "df_pivot.plot(kind='bar', stacked=True, figsize=(15,8), title='Flights Count by Airline', rot=45)\\\n",
    "                    .set(xlabel='Origin City', ylabel='Flights Count')\n",
    "plt.show()"
   ]
  },
  {
   "cell_type": "code",
   "execution_count": null,
   "metadata": {},
   "outputs": [],
   "source": [
    "top_airports = df['OriginCityIata'].value_counts().reset_index()\n",
    "top_airports.columns = ['IATA', 'FlightsCount']"
   ]
  },
  {
   "cell_type": "code",
   "execution_count": null,
   "metadata": {},
   "outputs": [],
   "source": [
    "top_airports = top_airports.merge(airports, how='left', left_on='IATA', right_on='iata').iloc[:100,:]"
   ]
  },
  {
   "cell_type": "code",
   "execution_count": null,
   "metadata": {},
   "outputs": [],
   "source": [
    "import plotly.graph_objects as go"
   ]
  },
  {
   "cell_type": "code",
   "execution_count": null,
   "metadata": {},
   "outputs": [],
   "source": [
    "top_airports.columns"
   ]
  },
  {
   "cell_type": "code",
   "execution_count": null,
   "metadata": {},
   "outputs": [],
   "source": [
    "top_airports['text'] = top_airports['iata'] + ' - ' + top_airports['city'] + ', ' + top_airports['state'] \\\n",
    "                                + ' - ' + 'Departures: ' + top_airports['FlightsCount'].astype(str)"
   ]
  },
  {
   "cell_type": "code",
   "execution_count": null,
   "metadata": {},
   "outputs": [],
   "source": [
    "fig = go.Figure(data=go.Scattergeo(\n",
    "        locationmode = 'USA-states',\n",
    "        lon = top_airports['long'],\n",
    "        lat = top_airports['lat'],\n",
    "        text = top_airports['text'],\n",
    "        mode = 'markers',\n",
    "        #hoverinfo=\"text\",\n",
    "        marker = dict(\n",
    "            size = 8,\n",
    "            opacity = 0.8,\n",
    "            reversescale = False,\n",
    "            autocolorscale = False,\n",
    "            symbol = 'circle',\n",
    "            line = dict(\n",
    "                width=1,\n",
    "                color='rgba(102, 102, 102)'\n",
    "            ),\n",
    "            colorscale = 'Reds',\n",
    "            cmin = 0,\n",
    "            color = top_airports['FlightsCount'],\n",
    "            cmax = top_airports['FlightsCount'].max(),\n",
    "            colorbar_title=\"Departing flights<br> 2007\"\n",
    "        )))"
   ]
  },
  {
   "cell_type": "code",
   "execution_count": null,
   "metadata": {},
   "outputs": [],
   "source": [
    "fig.update_layout(title = 'Departures from US Top 100 Airports in 2007<br>(Hover over for airport names)',\n",
    "        geo = dict(\n",
    "            scope='usa',\n",
    "            projection_type='albers usa',\n",
    "            showland = True,\n",
    "            landcolor = \"rgb(250, 250, 250)\",\n",
    "            subunitcolor = \"rgb(217, 217, 217)\",\n",
    "            countrycolor = \"rgb(217, 217, 217)\",\n",
    "            countrywidth = 0.5,\n",
    "            subunitwidth = 0.5),)\n",
    "fig.show()"
   ]
  },
  {
   "cell_type": "code",
   "execution_count": null,
   "metadata": {},
   "outputs": [],
   "source": [
    "#Bonus: reasons for flight delays - which column had a delay"
   ]
  },
  {
   "cell_type": "code",
   "execution_count": null,
   "metadata": {},
   "outputs": [],
   "source": [
    "df.columns"
   ]
  },
  {
   "cell_type": "code",
   "execution_count": null,
   "metadata": {},
   "outputs": [],
   "source": [
    "df_temp = df[(df['OriginCityIata'].isin(dist.index))&(df['Carrier'].isin(['AA','US','UA','DL','NW']))]\\\n",
    "             [['OriginCityIata','CarrierDelay','WeatherDelay', 'NASDelay', 'SecurityDelay', \n",
    "               'LateAircraftDelay']].groupby(['OriginCityIata']).sum().reset_index()"
   ]
  },
  {
   "cell_type": "code",
   "execution_count": null,
   "metadata": {},
   "outputs": [],
   "source": [
    "df_temp.plot(kind='bar', figsize=(16,8)).set_xticklabels(df_temp['OriginCityIata'].unique(), rotation=45)\n",
    "plt.show()"
   ]
  },
  {
   "cell_type": "code",
   "execution_count": null,
   "metadata": {},
   "outputs": [],
   "source": [
    "df_temp = df[(df['OriginCityIata'].isin(dist.index))&(df['Carrier'].isin(['AA','US','UA','DL','NW']))]\\\n",
    "             [['CarrierName','CarrierDelay','WeatherDelay', 'NASDelay', 'SecurityDelay', \n",
    "               'LateAircraftDelay']].groupby(['CarrierName']).sum().reset_index()"
   ]
  },
  {
   "cell_type": "code",
   "execution_count": null,
   "metadata": {},
   "outputs": [],
   "source": [
    "df_temp.plot(kind='bar', figsize=(16,8), title='Delay Reasons for Major US Airlines in 2007', rot=45)\\\n",
    "            .set(xlabel='Major US Airline', ylabel='Total Minutes Delayed',\n",
    "                 xticklabels=df_temp['CarrierName'].unique())\n",
    "\n",
    "plt.show()"
   ]
  },
  {
   "cell_type": "markdown",
   "metadata": {},
   "source": [
    "Total Number of Flights per Carrier"
   ]
  },
  {
   "cell_type": "code",
   "execution_count": null,
   "metadata": {},
   "outputs": [],
   "source": [
    "df.CarrierName.unique()"
   ]
  },
  {
   "cell_type": "code",
   "execution_count": null,
   "metadata": {},
   "outputs": [],
   "source": [
    "ax = df['CarrierName'].value_counts().plot('bar', title='Total Number of Flights in 2007', figsize=(16,8), \n",
    "                                     color=cm.OrRd_r(np.linspace(.01,3,50)), rot=45)\\\n",
    "                                    .set(xlabel='Major US Carrier', ylabel='Flights Count')\n",
    "\n",
    "#ax.title.set_size(10)\n",
    "\n",
    "plt.show()"
   ]
  },
  {
   "cell_type": "markdown",
   "metadata": {},
   "source": [
    "Determine which carrier had the worst on time performance overall"
   ]
  },
  {
   "cell_type": "code",
   "execution_count": null,
   "metadata": {},
   "outputs": [],
   "source": [
    "#on time defined as arr delay <=0"
   ]
  },
  {
   "cell_type": "code",
   "execution_count": null,
   "metadata": {},
   "outputs": [],
   "source": [
    "#carrier performance can be defined in different ways: average performance? distribution of late arrivals?\n",
    "#distribution of all arrivals? Will build all and comapare."
   ]
  },
  {
   "cell_type": "code",
   "execution_count": null,
   "metadata": {},
   "outputs": [],
   "source": [
    "#Building DF with stats used for analysis"
   ]
  },
  {
   "cell_type": "code",
   "execution_count": null,
   "metadata": {},
   "outputs": [],
   "source": [
    "#per carrier total number of flights late / total number of flights"
   ]
  },
  {
   "cell_type": "code",
   "execution_count": null,
   "metadata": {},
   "outputs": [],
   "source": [
    "flights_delayed_bycarrier = df[df['ArrDelay']>0][['CarrierName','ArrDelay']].groupby('CarrierName')\\\n",
    "        .count().sort_values('ArrDelay', ascending=False).reset_index().rename(columns={'ArrDelay':'DelayedCount'})"
   ]
  },
  {
   "cell_type": "code",
   "execution_count": null,
   "metadata": {},
   "outputs": [],
   "source": [
    "flights_count = df[['CarrierName','ArrDelay']].groupby('CarrierName')\\\n",
    "        .count().sort_values('ArrDelay', ascending=False).reset_index().rename(columns={'ArrDelay':'FlightsCount'})"
   ]
  },
  {
   "cell_type": "code",
   "execution_count": null,
   "metadata": {},
   "outputs": [],
   "source": [
    "delays = flights_delayed_bycarrier.merge(flights_count, how='inner', on='CarrierName')"
   ]
  },
  {
   "cell_type": "code",
   "execution_count": null,
   "metadata": {},
   "outputs": [],
   "source": [
    "delays['PercentageFlightsDelayed'] = delays['DelayedCount']/delays['FlightsCount']"
   ]
  },
  {
   "cell_type": "code",
   "execution_count": null,
   "metadata": {},
   "outputs": [],
   "source": [
    "minutes_delayed_bycarrier = df[df['ArrDelay']>0][['CarrierName','ArrDelay']].groupby('CarrierName')\\\n",
    "        .sum().sort_values('ArrDelay', ascending=False).reset_index().rename(columns={'ArrDelay':'MinutesDelayed'})"
   ]
  },
  {
   "cell_type": "code",
   "execution_count": null,
   "metadata": {},
   "outputs": [],
   "source": [
    "minutes_flown_bycarrier = df[df['ActualElapsedTime']>0][['CarrierName','ActualElapsedTime']].groupby('CarrierName')\\\n",
    "        .sum().sort_values('ActualElapsedTime', ascending=False).reset_index().rename(columns={'ActualElapsedTime':'MinutesFlown'})"
   ]
  },
  {
   "cell_type": "code",
   "execution_count": null,
   "metadata": {},
   "outputs": [],
   "source": [
    "delays = delays.merge(minutes_delayed_bycarrier, how='inner', on='CarrierName')\\\n",
    "                    .merge(minutes_flown_bycarrier, how='inner', on='CarrierName')"
   ]
  },
  {
   "cell_type": "code",
   "execution_count": null,
   "metadata": {},
   "outputs": [],
   "source": [
    "delays['PercentageMinutesDelayed'] = delays['MinutesDelayed']/delays['MinutesFlown']"
   ]
  },
  {
   "cell_type": "code",
   "execution_count": null,
   "metadata": {},
   "outputs": [],
   "source": [
    "delays.sort_values('PercentageFlightsDelayed', ascending=False)['PercentageFlightsDelayed']\\\n",
    "        .plot(kind='bar', title='Percentage Flights Delayed by US Carrier in 2007', figsize=(16,8), \n",
    "                                                    color=cm.OrRd_r(np.linspace(.01,3,50)), rot=45)\\\n",
    "        .set(xlabel='US Carrier', ylabel='Flights Delayed %', xticklabels=delays['CarrierName'].unique())\n",
    "plt.show()"
   ]
  },
  {
   "cell_type": "code",
   "execution_count": null,
   "metadata": {},
   "outputs": [],
   "source": [
    "delays.sort_values('PercentageMinutesDelayed', ascending=False)['PercentageMinutesDelayed'].plot(kind='bar', \n",
    "    title='Minutes Delayed to Flown Percentage in 2007', figsize=(16,8), color=cm.OrRd_r(np.linspace(.01,3,50)), rot=45)\\\n",
    "    .set(xlabel='US Carrier', ylabel='Percentage Minutes Delayed', xticklabels=delays['CarrierName'].unique())\n",
    "plt.show()"
   ]
  },
  {
   "cell_type": "code",
   "execution_count": null,
   "metadata": {},
   "outputs": [],
   "source": [
    "#Minutes late by Airport"
   ]
  },
  {
   "cell_type": "code",
   "execution_count": null,
   "metadata": {},
   "outputs": [],
   "source": [
    "dist = df['OriginCityIata'].value_counts().head(30)"
   ]
  },
  {
   "cell_type": "code",
   "execution_count": null,
   "metadata": {},
   "outputs": [],
   "source": [
    "df_temp = df[(df['OriginCityIata'].isin(dist.index))&(df['CarrierName'].isin(['SouthWest', 'United', 'JetBlue', \n",
    "    'SkyWest', 'USAirways', 'Alaska', 'Delta', 'American', 'AmericanEagle']))]\\\n",
    "             [['OriginCityIata','CarrierName','ArrDelay']].groupby(['OriginCityIata','CarrierName']).sum().reset_index()"
   ]
  },
  {
   "cell_type": "code",
   "execution_count": null,
   "metadata": {},
   "outputs": [],
   "source": [
    "df_temp = df_temp.sort_values('ArrDelay', ascending=False)"
   ]
  },
  {
   "cell_type": "code",
   "execution_count": null,
   "metadata": {},
   "outputs": [],
   "source": [
    "df_pivot = df_temp.pivot(index='OriginCityIata', columns='CarrierName', values='ArrDelay')"
   ]
  },
  {
   "cell_type": "code",
   "execution_count": null,
   "metadata": {},
   "outputs": [],
   "source": [
    "df_pivot.plot(kind='bar', stacked=True, figsize=(15,8), title='Sum of Minute Delays by Airline by Airport', rot=45)\\\n",
    "                    .set(xlabel='Origin Airport', ylabel='Delays Sum')\n",
    "plt.show()"
   ]
  },
  {
   "cell_type": "code",
   "execution_count": null,
   "metadata": {},
   "outputs": [],
   "source": [
    "df[['ActualElapsedTime', 'CRSElapsedTime', 'ArrDelay', 'CRSArrTime', 'ArrTime', 'CRSDepTime','DepTime']].head()"
   ]
  },
  {
   "cell_type": "code",
   "execution_count": null,
   "metadata": {},
   "outputs": [],
   "source": [
    "delays.columns"
   ]
  },
  {
   "cell_type": "code",
   "execution_count": null,
   "metadata": {},
   "outputs": [],
   "source": [
    "#Ability to Catch Up (even though flight is late it has )"
   ]
  },
  {
   "cell_type": "code",
   "execution_count": null,
   "metadata": {},
   "outputs": [],
   "source": [
    "df.to_csv('newdata/df.csv')"
   ]
  },
  {
   "cell_type": "code",
   "execution_count": null,
   "metadata": {},
   "outputs": [],
   "source": [
    "#del df"
   ]
  },
  {
   "cell_type": "code",
   "execution_count": null,
   "metadata": {},
   "outputs": [],
   "source": []
  }
 ],
 "metadata": {
  "kernelspec": {
   "display_name": "py36",
   "language": "python",
   "name": "py36"
  },
  "language_info": {
   "codemirror_mode": {
    "name": "ipython",
    "version": 3
   },
   "file_extension": ".py",
   "mimetype": "text/x-python",
   "name": "python",
   "nbconvert_exporter": "python",
   "pygments_lexer": "ipython3",
   "version": "3.6.7"
  }
 },
 "nbformat": 4,
 "nbformat_minor": 2
}
